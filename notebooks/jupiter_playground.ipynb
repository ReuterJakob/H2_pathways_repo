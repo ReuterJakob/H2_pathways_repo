{
 "cells": [
  {
   "cell_type": "code",
   "execution_count": 383,
   "outputs": [
    {
     "name": "stdout",
     "output_type": "stream",
     "text": [
      "   CAPEX ($/kW H2) ;NGR with CCS;Pyrolysis;\n",
      "0                              2020;1627;-;\n",
      "1                              2021;1600;-;\n",
      "2                              2022;1573;-;\n",
      "3                              2023;1547;-;\n",
      "4                              2024;1520;-;\n",
      "5                              2025;1493;-;\n",
      "6                              2026;1467;-;\n",
      "7                              2027;1440;-;\n",
      "8                              2028;1413;-;\n",
      "9                              2029;1387;-;\n",
      "10                             2030;1360;-;\n",
      "11                             2031;1356;-;\n",
      "12                             2032;1352;-;\n",
      "13                             2033;1348;-;\n",
      "14                             2034;1344;-;\n",
      "15                           2035;1340;761;\n",
      "16                           2036;1336;735;\n",
      "17                           2037;1332;711;\n",
      "18                           2038;1328;687;\n",
      "19                           2039;1324;664;\n",
      "20                           2040;1320;642;\n",
      "21                           2041;1316;620;\n",
      "22                           2042;1312;600;\n",
      "23                           2043;1308;579;\n",
      "24                           2044;1304;560;\n",
      "25                           2045;1300;541;\n",
      "26                           2046;1296;523;\n",
      "27                           2047;1292;506;\n",
      "28                           2048;1288;489;\n",
      "29                           2049;1284;472;\n",
      "30                           2050;1280;457;\n"
     ]
    }
   ],
   "source": [
    "import pandas as pd\n",
    "import math\n",
    "from matplotlib import pyplot as plt"
   ],
   "metadata": {
    "collapsed": false,
    "pycharm": {
     "name": "#%%\n"
    }
   }
  },
  {
   "cell_type": "code",
   "execution_count": 725,
   "outputs": [
    {
     "data": {
      "text/plain": "    Years  CAPEX ($/kW) Low temperature optimistic   \\\n0    2020                                       500   \n1    2021                                       490   \n2    2022                                       480   \n3    2023                                       470   \n4    2024                                       460   \n5    2025                                       450   \n6    2026                                       440   \n7    2027                                       430   \n8    2028                                       420   \n9    2029                                       410   \n10   2030                                       400   \n11   2031                                       390   \n12   2032                                       380   \n13   2033                                       370   \n14   2034                                       360   \n15   2035                                       350   \n16   2036                                       340   \n17   2037                                       330   \n18   2038                                       320   \n19   2039                                       310   \n20   2040                                       300   \n21   2041                                       290   \n22   2042                                       280   \n23   2043                                       270   \n24   2044                                       260   \n25   2045                                       250   \n26   2046                                       240   \n27   2047                                       230   \n28   2048                                       220   \n29   2049                                       210   \n30   2050                                       200   \n\n    CAPEX ($/kW) Low temperature baseline   \\\n0                                   950.00   \n1                                   917.50   \n2                                   885.00   \n3                                   852.50   \n4                                   820.00   \n5                                   787.50   \n6                                   755.00   \n7                                   722.50   \n8                                   690.00   \n9                                   657.50   \n10                                  625.00   \n11                                  616.25   \n12                                  607.50   \n13                                  598.75   \n14                                  590.00   \n15                                  581.25   \n16                                  572.50   \n17                                  563.75   \n18                                  555.00   \n19                                  546.25   \n20                                  537.50   \n21                                  528.75   \n22                                  520.00   \n23                                  511.25   \n24                                  502.50   \n25                                  493.75   \n26                                  485.00   \n27                                  476.25   \n28                                  467.50   \n29                                  458.75   \n30                                  450.00   \n\n    CAPEX ($/kW) High temperature optimistic   \\\n0                                        2400   \n1                                        2240   \n2                                        2080   \n3                                        1920   \n4                                        1760   \n5                                        1600   \n6                                        1440   \n7                                        1280   \n8                                        1120   \n9                                         960   \n10                                        800   \n11                                        785   \n12                                        770   \n13                                        755   \n14                                        740   \n15                                        725   \n16                                        710   \n17                                        695   \n18                                        680   \n19                                        665   \n20                                        650   \n21                                        635   \n22                                        620   \n23                                        605   \n24                                        590   \n25                                        575   \n26                                        560   \n27                                        545   \n28                                        530   \n29                                        515   \n30                                        500   \n\n    CAPEX ($/kW) High temperature baseline  Effiency (%) Low temperature  \\\n0                                   4000.0                          0.67   \n1                                   3780.0                          0.67   \n2                                   3560.0                          0.67   \n3                                   3340.0                          0.67   \n4                                   3120.0                          0.67   \n5                                   2900.0                          0.67   \n6                                   2680.0                          0.67   \n7                                   2460.0                          0.68   \n8                                   2240.0                          0.68   \n9                                   2020.0                          0.68   \n10                                  1800.0                          0.68   \n11                                  1747.5                          0.68   \n12                                  1695.0                          0.69   \n13                                  1642.5                          0.69   \n14                                  1590.0                          0.69   \n15                                  1537.5                          0.70   \n16                                  1485.0                          0.70   \n17                                  1432.5                          0.70   \n18                                  1380.0                          0.71   \n19                                  1327.5                          0.71   \n20                                  1275.0                          0.72   \n21                                  1222.5                          0.72   \n22                                  1170.0                          0.72   \n23                                  1117.5                          0.73   \n24                                  1065.0                          0.73   \n25                                  1012.5                          0.73   \n26                                   960.0                          0.74   \n27                                   907.5                          0.74   \n28                                   855.0                          0.74   \n29                                   802.5                          0.75   \n30                                   750.0                          0.75   \n\n    Effiency (%) High temperature  \\\n0                            0.78   \n1                            0.78   \n2                            0.78   \n3                            0.78   \n4                            0.79   \n5                            0.79   \n6                            0.79   \n7                            0.80   \n8                            0.80   \n9                            0.80   \n10                           0.81   \n11                           0.81   \n12                           0.81   \n13                           0.81   \n14                           0.81   \n15                           0.81   \n16                           0.81   \n17                           0.82   \n18                           0.82   \n19                           0.82   \n20                           0.82   \n21                           0.82   \n22                           0.82   \n23                           0.82   \n24                           0.83   \n25                           0.83   \n26                           0.83   \n27                           0.83   \n28                           0.83   \n29                           0.83   \n30                           0.84   \n\n   Electrolyzer Characteristics (low & high temperature)  Parameter  \n0                                    Lifetime (years)         25.00  \n1                                   Interest rate (%)          0.08  \n2                             Amortisation factor (%)          0.09  \n3                              OPEX (in % of CAPEX/a)          0.02  \n4                                     LHV (kWh/kg H2)         33.30  \n5                                                 NaN           NaN  \n6                                                 NaN           NaN  \n7                                                 NaN           NaN  \n8                                                 NaN           NaN  \n9                                                 NaN           NaN  \n10                                                NaN           NaN  \n11                                                NaN           NaN  \n12                                                NaN           NaN  \n13                                                NaN           NaN  \n14                                                NaN           NaN  \n15                                                NaN           NaN  \n16                                                NaN           NaN  \n17                                                NaN           NaN  \n18                                                NaN           NaN  \n19                                                NaN           NaN  \n20                                                NaN           NaN  \n21                                                NaN           NaN  \n22                                                NaN           NaN  \n23                                                NaN           NaN  \n24                                                NaN           NaN  \n25                                                NaN           NaN  \n26                                                NaN           NaN  \n27                                                NaN           NaN  \n28                                                NaN           NaN  \n29                                                NaN           NaN  \n30                                                NaN           NaN  ",
      "text/html": "<div>\n<style scoped>\n    .dataframe tbody tr th:only-of-type {\n        vertical-align: middle;\n    }\n\n    .dataframe tbody tr th {\n        vertical-align: top;\n    }\n\n    .dataframe thead th {\n        text-align: right;\n    }\n</style>\n<table border=\"1\" class=\"dataframe\">\n  <thead>\n    <tr style=\"text-align: right;\">\n      <th></th>\n      <th>Years</th>\n      <th>CAPEX ($/kW) Low temperature optimistic</th>\n      <th>CAPEX ($/kW) Low temperature baseline</th>\n      <th>CAPEX ($/kW) High temperature optimistic</th>\n      <th>CAPEX ($/kW) High temperature baseline</th>\n      <th>Effiency (%) Low temperature</th>\n      <th>Effiency (%) High temperature</th>\n      <th>Electrolyzer Characteristics (low &amp; high temperature)</th>\n      <th>Parameter</th>\n    </tr>\n  </thead>\n  <tbody>\n    <tr>\n      <th>0</th>\n      <td>2020</td>\n      <td>500</td>\n      <td>950.00</td>\n      <td>2400</td>\n      <td>4000.0</td>\n      <td>0.67</td>\n      <td>0.78</td>\n      <td>Lifetime (years)</td>\n      <td>25.00</td>\n    </tr>\n    <tr>\n      <th>1</th>\n      <td>2021</td>\n      <td>490</td>\n      <td>917.50</td>\n      <td>2240</td>\n      <td>3780.0</td>\n      <td>0.67</td>\n      <td>0.78</td>\n      <td>Interest rate (%)</td>\n      <td>0.08</td>\n    </tr>\n    <tr>\n      <th>2</th>\n      <td>2022</td>\n      <td>480</td>\n      <td>885.00</td>\n      <td>2080</td>\n      <td>3560.0</td>\n      <td>0.67</td>\n      <td>0.78</td>\n      <td>Amortisation factor (%)</td>\n      <td>0.09</td>\n    </tr>\n    <tr>\n      <th>3</th>\n      <td>2023</td>\n      <td>470</td>\n      <td>852.50</td>\n      <td>1920</td>\n      <td>3340.0</td>\n      <td>0.67</td>\n      <td>0.78</td>\n      <td>OPEX (in % of CAPEX/a)</td>\n      <td>0.02</td>\n    </tr>\n    <tr>\n      <th>4</th>\n      <td>2024</td>\n      <td>460</td>\n      <td>820.00</td>\n      <td>1760</td>\n      <td>3120.0</td>\n      <td>0.67</td>\n      <td>0.79</td>\n      <td>LHV (kWh/kg H2)</td>\n      <td>33.30</td>\n    </tr>\n    <tr>\n      <th>5</th>\n      <td>2025</td>\n      <td>450</td>\n      <td>787.50</td>\n      <td>1600</td>\n      <td>2900.0</td>\n      <td>0.67</td>\n      <td>0.79</td>\n      <td>NaN</td>\n      <td>NaN</td>\n    </tr>\n    <tr>\n      <th>6</th>\n      <td>2026</td>\n      <td>440</td>\n      <td>755.00</td>\n      <td>1440</td>\n      <td>2680.0</td>\n      <td>0.67</td>\n      <td>0.79</td>\n      <td>NaN</td>\n      <td>NaN</td>\n    </tr>\n    <tr>\n      <th>7</th>\n      <td>2027</td>\n      <td>430</td>\n      <td>722.50</td>\n      <td>1280</td>\n      <td>2460.0</td>\n      <td>0.68</td>\n      <td>0.80</td>\n      <td>NaN</td>\n      <td>NaN</td>\n    </tr>\n    <tr>\n      <th>8</th>\n      <td>2028</td>\n      <td>420</td>\n      <td>690.00</td>\n      <td>1120</td>\n      <td>2240.0</td>\n      <td>0.68</td>\n      <td>0.80</td>\n      <td>NaN</td>\n      <td>NaN</td>\n    </tr>\n    <tr>\n      <th>9</th>\n      <td>2029</td>\n      <td>410</td>\n      <td>657.50</td>\n      <td>960</td>\n      <td>2020.0</td>\n      <td>0.68</td>\n      <td>0.80</td>\n      <td>NaN</td>\n      <td>NaN</td>\n    </tr>\n    <tr>\n      <th>10</th>\n      <td>2030</td>\n      <td>400</td>\n      <td>625.00</td>\n      <td>800</td>\n      <td>1800.0</td>\n      <td>0.68</td>\n      <td>0.81</td>\n      <td>NaN</td>\n      <td>NaN</td>\n    </tr>\n    <tr>\n      <th>11</th>\n      <td>2031</td>\n      <td>390</td>\n      <td>616.25</td>\n      <td>785</td>\n      <td>1747.5</td>\n      <td>0.68</td>\n      <td>0.81</td>\n      <td>NaN</td>\n      <td>NaN</td>\n    </tr>\n    <tr>\n      <th>12</th>\n      <td>2032</td>\n      <td>380</td>\n      <td>607.50</td>\n      <td>770</td>\n      <td>1695.0</td>\n      <td>0.69</td>\n      <td>0.81</td>\n      <td>NaN</td>\n      <td>NaN</td>\n    </tr>\n    <tr>\n      <th>13</th>\n      <td>2033</td>\n      <td>370</td>\n      <td>598.75</td>\n      <td>755</td>\n      <td>1642.5</td>\n      <td>0.69</td>\n      <td>0.81</td>\n      <td>NaN</td>\n      <td>NaN</td>\n    </tr>\n    <tr>\n      <th>14</th>\n      <td>2034</td>\n      <td>360</td>\n      <td>590.00</td>\n      <td>740</td>\n      <td>1590.0</td>\n      <td>0.69</td>\n      <td>0.81</td>\n      <td>NaN</td>\n      <td>NaN</td>\n    </tr>\n    <tr>\n      <th>15</th>\n      <td>2035</td>\n      <td>350</td>\n      <td>581.25</td>\n      <td>725</td>\n      <td>1537.5</td>\n      <td>0.70</td>\n      <td>0.81</td>\n      <td>NaN</td>\n      <td>NaN</td>\n    </tr>\n    <tr>\n      <th>16</th>\n      <td>2036</td>\n      <td>340</td>\n      <td>572.50</td>\n      <td>710</td>\n      <td>1485.0</td>\n      <td>0.70</td>\n      <td>0.81</td>\n      <td>NaN</td>\n      <td>NaN</td>\n    </tr>\n    <tr>\n      <th>17</th>\n      <td>2037</td>\n      <td>330</td>\n      <td>563.75</td>\n      <td>695</td>\n      <td>1432.5</td>\n      <td>0.70</td>\n      <td>0.82</td>\n      <td>NaN</td>\n      <td>NaN</td>\n    </tr>\n    <tr>\n      <th>18</th>\n      <td>2038</td>\n      <td>320</td>\n      <td>555.00</td>\n      <td>680</td>\n      <td>1380.0</td>\n      <td>0.71</td>\n      <td>0.82</td>\n      <td>NaN</td>\n      <td>NaN</td>\n    </tr>\n    <tr>\n      <th>19</th>\n      <td>2039</td>\n      <td>310</td>\n      <td>546.25</td>\n      <td>665</td>\n      <td>1327.5</td>\n      <td>0.71</td>\n      <td>0.82</td>\n      <td>NaN</td>\n      <td>NaN</td>\n    </tr>\n    <tr>\n      <th>20</th>\n      <td>2040</td>\n      <td>300</td>\n      <td>537.50</td>\n      <td>650</td>\n      <td>1275.0</td>\n      <td>0.72</td>\n      <td>0.82</td>\n      <td>NaN</td>\n      <td>NaN</td>\n    </tr>\n    <tr>\n      <th>21</th>\n      <td>2041</td>\n      <td>290</td>\n      <td>528.75</td>\n      <td>635</td>\n      <td>1222.5</td>\n      <td>0.72</td>\n      <td>0.82</td>\n      <td>NaN</td>\n      <td>NaN</td>\n    </tr>\n    <tr>\n      <th>22</th>\n      <td>2042</td>\n      <td>280</td>\n      <td>520.00</td>\n      <td>620</td>\n      <td>1170.0</td>\n      <td>0.72</td>\n      <td>0.82</td>\n      <td>NaN</td>\n      <td>NaN</td>\n    </tr>\n    <tr>\n      <th>23</th>\n      <td>2043</td>\n      <td>270</td>\n      <td>511.25</td>\n      <td>605</td>\n      <td>1117.5</td>\n      <td>0.73</td>\n      <td>0.82</td>\n      <td>NaN</td>\n      <td>NaN</td>\n    </tr>\n    <tr>\n      <th>24</th>\n      <td>2044</td>\n      <td>260</td>\n      <td>502.50</td>\n      <td>590</td>\n      <td>1065.0</td>\n      <td>0.73</td>\n      <td>0.83</td>\n      <td>NaN</td>\n      <td>NaN</td>\n    </tr>\n    <tr>\n      <th>25</th>\n      <td>2045</td>\n      <td>250</td>\n      <td>493.75</td>\n      <td>575</td>\n      <td>1012.5</td>\n      <td>0.73</td>\n      <td>0.83</td>\n      <td>NaN</td>\n      <td>NaN</td>\n    </tr>\n    <tr>\n      <th>26</th>\n      <td>2046</td>\n      <td>240</td>\n      <td>485.00</td>\n      <td>560</td>\n      <td>960.0</td>\n      <td>0.74</td>\n      <td>0.83</td>\n      <td>NaN</td>\n      <td>NaN</td>\n    </tr>\n    <tr>\n      <th>27</th>\n      <td>2047</td>\n      <td>230</td>\n      <td>476.25</td>\n      <td>545</td>\n      <td>907.5</td>\n      <td>0.74</td>\n      <td>0.83</td>\n      <td>NaN</td>\n      <td>NaN</td>\n    </tr>\n    <tr>\n      <th>28</th>\n      <td>2048</td>\n      <td>220</td>\n      <td>467.50</td>\n      <td>530</td>\n      <td>855.0</td>\n      <td>0.74</td>\n      <td>0.83</td>\n      <td>NaN</td>\n      <td>NaN</td>\n    </tr>\n    <tr>\n      <th>29</th>\n      <td>2049</td>\n      <td>210</td>\n      <td>458.75</td>\n      <td>515</td>\n      <td>802.5</td>\n      <td>0.75</td>\n      <td>0.83</td>\n      <td>NaN</td>\n      <td>NaN</td>\n    </tr>\n    <tr>\n      <th>30</th>\n      <td>2050</td>\n      <td>200</td>\n      <td>450.00</td>\n      <td>500</td>\n      <td>750.0</td>\n      <td>0.75</td>\n      <td>0.84</td>\n      <td>NaN</td>\n      <td>NaN</td>\n    </tr>\n  </tbody>\n</table>\n</div>"
     },
     "execution_count": 725,
     "metadata": {},
     "output_type": "execute_result"
    }
   ],
   "source": [
    "# read techno-economic assumptions for electrolyser technology\n",
    "tea_el = pd.read_csv(\"/Users/jakob/PycharmProjects/H2_pathways_repo/data/raw/tea_el.csv\", delimiter= ';', decimal= ',')\n",
    "tea_el\n"
   ],
   "metadata": {
    "collapsed": false,
    "pycharm": {
     "name": "#%%\n"
    }
   }
  },
  {
   "cell_type": "code",
   "execution_count": 754,
   "outputs": [
    {
     "data": {
      "text/plain": "                   Country Electrolyzer         RES  \\\n0     United Arab Emirates     low_temp     Onshore   \n1     United Arab Emirates     low_temp  Offshore_1   \n2     United Arab Emirates     low_temp  Offshore_2   \n3     United Arab Emirates     low_temp          PV   \n4     United Arab Emirates     low_temp          PV   \n...                    ...          ...         ...   \n1655          South Africa     low_temp          PV   \n1656          South Africa    high_temp     Onshore   \n1657          South Africa    high_temp  Offshore_1   \n1658          South Africa    high_temp  Offshore_2   \n1659          South Africa    high_temp          PV   \n\n                               RES ID  \\\n0      United_Arab_Emirates_Onshore_3   \n1     United_Arab_Emirates_Offshore_1   \n2     United_Arab_Emirates_Offshore_2   \n3           United_Arab_Emirates_PV_2   \n4           United_Arab_Emirates_PV_3   \n...                               ...   \n1655                South_Africa_PV_4   \n1656           South_Africa_Onshore_3   \n1657          South_Africa_Offshore_1   \n1658          South_Africa_Offshore_2   \n1659                South_Africa_PV_4   \n\n                                                     ID Assumptions  \\\n0      United_Arab_Emirates_Onshore_3_low_temp_baseline    baseline   \n1     United_Arab_Emirates_Offshore_1_low_temp_baseline    baseline   \n2     United_Arab_Emirates_Offshore_2_low_temp_baseline    baseline   \n3           United_Arab_Emirates_PV_2_low_temp_baseline    baseline   \n4           United_Arab_Emirates_PV_3_low_temp_baseline    baseline   \n...                                                 ...         ...   \n1655              South_Africa_PV_4_low_temp_optimistic  optimistic   \n1656        South_Africa_Onshore_3_high_temp_optimistic  optimistic   \n1657       South_Africa_Offshore_1_high_temp_optimistic  optimistic   \n1658       South_Africa_Offshore_2_high_temp_optimistic  optimistic   \n1659             South_Africa_PV_4_high_temp_optimistic  optimistic   \n\n           2020       2021       2022       2023  ...      2041      2042  \\\n0      5.453358   5.311494   5.186316   5.074230  ...  3.786235  3.740592   \n1      9.344448   9.047272   8.799155   8.586133  ...  6.103708  5.995255   \n2     13.222773  12.805721  12.457942  12.159713  ...  8.661559  8.507494   \n3      1.982384   1.878558   1.793178   1.721023  ...  1.081462  1.057951   \n4      2.092896   1.983550   1.893657   1.817707  ...  1.142563  1.117834   \n...         ...        ...        ...        ...  ...       ...       ...   \n1655   3.290437   3.073566   2.898980   2.754212  ...  1.534300  1.490856   \n1656   4.491430   4.319534   4.166599   4.028378  ...  2.775804  2.744852   \n1657   4.052635   3.875830   3.727361   3.599056  ...  2.381863  2.338700   \n1658   5.435506   5.205045   5.012300   4.846400  ...  3.244768  3.186136   \n1659   3.416980   3.152531   2.936181   2.753868  ...  1.453717  1.417758   \n\n          2043      2044      2045      2046      2047      2048      2049  \\\n0     3.696266  3.659454  3.567587  3.519349  3.473128  3.428752  3.386072   \n1     5.894680  5.806272  5.668551  5.578630  5.494204  5.414592  5.339232   \n2     8.364611  8.238998  8.043416  7.915664  7.795714  7.682597  7.575516   \n3     1.035896  1.019052  0.979225  0.958095  0.938292  0.919668  0.902097   \n4     1.094639  1.076945  1.034957  1.012724  0.991890  0.972297  0.953815   \n...        ...       ...       ...       ...       ...       ...       ...   \n1655  1.450385  1.419808  1.347033  1.309101  1.273795  1.240808  1.209878   \n1656  2.714889  2.691744  2.616671  2.582300  2.549591  2.518391  2.488565   \n1657  2.299159  2.265337  2.207279  2.172308  2.139818  2.109482  2.081034   \n1658  3.132432  3.086515  3.007571  2.960078  2.915960  2.874774  2.836157   \n1659  1.384333  1.360103  1.295088  1.263187  1.233565  1.205950  1.180112   \n\n          2050  \n0     3.344954  \n1     5.267657  \n2     7.473810  \n3     0.885472  \n4     0.936329  \n...        ...  \n1655  1.180788  \n1656  2.459996  \n1657  2.054253  \n1658  2.799807  \n1659  1.155860  \n\n[1660 rows x 37 columns]",
      "text/html": "<div>\n<style scoped>\n    .dataframe tbody tr th:only-of-type {\n        vertical-align: middle;\n    }\n\n    .dataframe tbody tr th {\n        vertical-align: top;\n    }\n\n    .dataframe thead th {\n        text-align: right;\n    }\n</style>\n<table border=\"1\" class=\"dataframe\">\n  <thead>\n    <tr style=\"text-align: right;\">\n      <th></th>\n      <th>Country</th>\n      <th>Electrolyzer</th>\n      <th>RES</th>\n      <th>RES ID</th>\n      <th>ID</th>\n      <th>Assumptions</th>\n      <th>2020</th>\n      <th>2021</th>\n      <th>2022</th>\n      <th>2023</th>\n      <th>...</th>\n      <th>2041</th>\n      <th>2042</th>\n      <th>2043</th>\n      <th>2044</th>\n      <th>2045</th>\n      <th>2046</th>\n      <th>2047</th>\n      <th>2048</th>\n      <th>2049</th>\n      <th>2050</th>\n    </tr>\n  </thead>\n  <tbody>\n    <tr>\n      <th>0</th>\n      <td>United Arab Emirates</td>\n      <td>low_temp</td>\n      <td>Onshore</td>\n      <td>United_Arab_Emirates_Onshore_3</td>\n      <td>United_Arab_Emirates_Onshore_3_low_temp_baseline</td>\n      <td>baseline</td>\n      <td>5.453358</td>\n      <td>5.311494</td>\n      <td>5.186316</td>\n      <td>5.074230</td>\n      <td>...</td>\n      <td>3.786235</td>\n      <td>3.740592</td>\n      <td>3.696266</td>\n      <td>3.659454</td>\n      <td>3.567587</td>\n      <td>3.519349</td>\n      <td>3.473128</td>\n      <td>3.428752</td>\n      <td>3.386072</td>\n      <td>3.344954</td>\n    </tr>\n    <tr>\n      <th>1</th>\n      <td>United Arab Emirates</td>\n      <td>low_temp</td>\n      <td>Offshore_1</td>\n      <td>United_Arab_Emirates_Offshore_1</td>\n      <td>United_Arab_Emirates_Offshore_1_low_temp_baseline</td>\n      <td>baseline</td>\n      <td>9.344448</td>\n      <td>9.047272</td>\n      <td>8.799155</td>\n      <td>8.586133</td>\n      <td>...</td>\n      <td>6.103708</td>\n      <td>5.995255</td>\n      <td>5.894680</td>\n      <td>5.806272</td>\n      <td>5.668551</td>\n      <td>5.578630</td>\n      <td>5.494204</td>\n      <td>5.414592</td>\n      <td>5.339232</td>\n      <td>5.267657</td>\n    </tr>\n    <tr>\n      <th>2</th>\n      <td>United Arab Emirates</td>\n      <td>low_temp</td>\n      <td>Offshore_2</td>\n      <td>United_Arab_Emirates_Offshore_2</td>\n      <td>United_Arab_Emirates_Offshore_2_low_temp_baseline</td>\n      <td>baseline</td>\n      <td>13.222773</td>\n      <td>12.805721</td>\n      <td>12.457942</td>\n      <td>12.159713</td>\n      <td>...</td>\n      <td>8.661559</td>\n      <td>8.507494</td>\n      <td>8.364611</td>\n      <td>8.238998</td>\n      <td>8.043416</td>\n      <td>7.915664</td>\n      <td>7.795714</td>\n      <td>7.682597</td>\n      <td>7.575516</td>\n      <td>7.473810</td>\n    </tr>\n    <tr>\n      <th>3</th>\n      <td>United Arab Emirates</td>\n      <td>low_temp</td>\n      <td>PV</td>\n      <td>United_Arab_Emirates_PV_2</td>\n      <td>United_Arab_Emirates_PV_2_low_temp_baseline</td>\n      <td>baseline</td>\n      <td>1.982384</td>\n      <td>1.878558</td>\n      <td>1.793178</td>\n      <td>1.721023</td>\n      <td>...</td>\n      <td>1.081462</td>\n      <td>1.057951</td>\n      <td>1.035896</td>\n      <td>1.019052</td>\n      <td>0.979225</td>\n      <td>0.958095</td>\n      <td>0.938292</td>\n      <td>0.919668</td>\n      <td>0.902097</td>\n      <td>0.885472</td>\n    </tr>\n    <tr>\n      <th>4</th>\n      <td>United Arab Emirates</td>\n      <td>low_temp</td>\n      <td>PV</td>\n      <td>United_Arab_Emirates_PV_3</td>\n      <td>United_Arab_Emirates_PV_3_low_temp_baseline</td>\n      <td>baseline</td>\n      <td>2.092896</td>\n      <td>1.983550</td>\n      <td>1.893657</td>\n      <td>1.817707</td>\n      <td>...</td>\n      <td>1.142563</td>\n      <td>1.117834</td>\n      <td>1.094639</td>\n      <td>1.076945</td>\n      <td>1.034957</td>\n      <td>1.012724</td>\n      <td>0.991890</td>\n      <td>0.972297</td>\n      <td>0.953815</td>\n      <td>0.936329</td>\n    </tr>\n    <tr>\n      <th>...</th>\n      <td>...</td>\n      <td>...</td>\n      <td>...</td>\n      <td>...</td>\n      <td>...</td>\n      <td>...</td>\n      <td>...</td>\n      <td>...</td>\n      <td>...</td>\n      <td>...</td>\n      <td>...</td>\n      <td>...</td>\n      <td>...</td>\n      <td>...</td>\n      <td>...</td>\n      <td>...</td>\n      <td>...</td>\n      <td>...</td>\n      <td>...</td>\n      <td>...</td>\n      <td>...</td>\n    </tr>\n    <tr>\n      <th>1655</th>\n      <td>South Africa</td>\n      <td>low_temp</td>\n      <td>PV</td>\n      <td>South_Africa_PV_4</td>\n      <td>South_Africa_PV_4_low_temp_optimistic</td>\n      <td>optimistic</td>\n      <td>3.290437</td>\n      <td>3.073566</td>\n      <td>2.898980</td>\n      <td>2.754212</td>\n      <td>...</td>\n      <td>1.534300</td>\n      <td>1.490856</td>\n      <td>1.450385</td>\n      <td>1.419808</td>\n      <td>1.347033</td>\n      <td>1.309101</td>\n      <td>1.273795</td>\n      <td>1.240808</td>\n      <td>1.209878</td>\n      <td>1.180788</td>\n    </tr>\n    <tr>\n      <th>1656</th>\n      <td>South Africa</td>\n      <td>high_temp</td>\n      <td>Onshore</td>\n      <td>South_Africa_Onshore_3</td>\n      <td>South_Africa_Onshore_3_high_temp_optimistic</td>\n      <td>optimistic</td>\n      <td>4.491430</td>\n      <td>4.319534</td>\n      <td>4.166599</td>\n      <td>4.028378</td>\n      <td>...</td>\n      <td>2.775804</td>\n      <td>2.744852</td>\n      <td>2.714889</td>\n      <td>2.691744</td>\n      <td>2.616671</td>\n      <td>2.582300</td>\n      <td>2.549591</td>\n      <td>2.518391</td>\n      <td>2.488565</td>\n      <td>2.459996</td>\n    </tr>\n    <tr>\n      <th>1657</th>\n      <td>South Africa</td>\n      <td>high_temp</td>\n      <td>Offshore_1</td>\n      <td>South_Africa_Offshore_1</td>\n      <td>South_Africa_Offshore_1_high_temp_optimistic</td>\n      <td>optimistic</td>\n      <td>4.052635</td>\n      <td>3.875830</td>\n      <td>3.727361</td>\n      <td>3.599056</td>\n      <td>...</td>\n      <td>2.381863</td>\n      <td>2.338700</td>\n      <td>2.299159</td>\n      <td>2.265337</td>\n      <td>2.207279</td>\n      <td>2.172308</td>\n      <td>2.139818</td>\n      <td>2.109482</td>\n      <td>2.081034</td>\n      <td>2.054253</td>\n    </tr>\n    <tr>\n      <th>1658</th>\n      <td>South Africa</td>\n      <td>high_temp</td>\n      <td>Offshore_2</td>\n      <td>South_Africa_Offshore_2</td>\n      <td>South_Africa_Offshore_2_high_temp_optimistic</td>\n      <td>optimistic</td>\n      <td>5.435506</td>\n      <td>5.205045</td>\n      <td>5.012300</td>\n      <td>4.846400</td>\n      <td>...</td>\n      <td>3.244768</td>\n      <td>3.186136</td>\n      <td>3.132432</td>\n      <td>3.086515</td>\n      <td>3.007571</td>\n      <td>2.960078</td>\n      <td>2.915960</td>\n      <td>2.874774</td>\n      <td>2.836157</td>\n      <td>2.799807</td>\n    </tr>\n    <tr>\n      <th>1659</th>\n      <td>South Africa</td>\n      <td>high_temp</td>\n      <td>PV</td>\n      <td>South_Africa_PV_4</td>\n      <td>South_Africa_PV_4_high_temp_optimistic</td>\n      <td>optimistic</td>\n      <td>3.416980</td>\n      <td>3.152531</td>\n      <td>2.936181</td>\n      <td>2.753868</td>\n      <td>...</td>\n      <td>1.453717</td>\n      <td>1.417758</td>\n      <td>1.384333</td>\n      <td>1.360103</td>\n      <td>1.295088</td>\n      <td>1.263187</td>\n      <td>1.233565</td>\n      <td>1.205950</td>\n      <td>1.180112</td>\n      <td>1.155860</td>\n    </tr>\n  </tbody>\n</table>\n<p>1660 rows × 37 columns</p>\n</div>"
     },
     "execution_count": 754,
     "metadata": {},
     "output_type": "execute_result"
    }
   ],
   "source": [
    "# Read LCOE in year y for RES class x\n",
    "lcoe = pd.read_csv(\"/Users/jakob/PycharmProjects/H2_pathways_repo/data/raw/lcoe.csv\", delimiter = ';', decimal = ',')\n",
    "lcoe"
   ],
   "metadata": {
    "collapsed": false,
    "pycharm": {
     "name": "#%%\n"
    }
   }
  },
  {
   "cell_type": "code",
   "execution_count": 757,
   "outputs": [
    {
     "data": {
      "text/plain": "2.233380441"
     },
     "execution_count": 757,
     "metadata": {},
     "output_type": "execute_result"
    }
   ],
   "source": [
    "lcoe_y = lcoe.at[502, '2020']\n",
    "lcoe_y"
   ],
   "metadata": {
    "collapsed": false,
    "pycharm": {
     "name": "#%%\n"
    }
   }
  },
  {
   "cell_type": "code",
   "execution_count": 741,
   "outputs": [
    {
     "data": {
      "text/plain": "0.67"
     },
     "execution_count": 741,
     "metadata": {},
     "output_type": "execute_result"
    }
   ],
   "source": [
    "# Electrolyser efficiency in year y\n",
    "el_eff = tea_el.at[0,'Effiency (%) Low temperature']\n",
    "el_eff"
   ],
   "metadata": {
    "collapsed": false,
    "pycharm": {
     "name": "#%%\n"
    }
   }
  },
  {
   "cell_type": "code",
   "execution_count": 742,
   "outputs": [
    {
     "data": {
      "text/plain": "500"
     },
     "execution_count": 742,
     "metadata": {},
     "output_type": "execute_result"
    }
   ],
   "source": [
    "# Electrolyser capex in year y [$/kW]\n",
    "el_capex = tea_el.at[0,'CAPEX ($/kW) Low temperature optimistic ']\n",
    "el_capex"
   ],
   "metadata": {
    "collapsed": false,
    "pycharm": {
     "name": "#%%\n"
    }
   }
  },
  {
   "cell_type": "code",
   "execution_count": 743,
   "outputs": [
    {
     "data": {
      "text/plain": "10.0"
     },
     "execution_count": 743,
     "metadata": {},
     "output_type": "execute_result"
    }
   ],
   "source": [
    "# Electrolyser opex in year y [$/kW/a]\n",
    "el_opex =  el_capex * tea_el.at[3, 'Parameter']\n",
    "el_opex"
   ],
   "metadata": {
    "collapsed": false,
    "pycharm": {
     "name": "#%%\n"
    }
   }
  },
  {
   "cell_type": "code",
   "execution_count": 744,
   "outputs": [
    {
     "data": {
      "text/plain": "                   Country Electrolyzer         RES  \\\n0     United Arab Emirates     low_temp     Onshore   \n1     United Arab Emirates     low_temp  Offshore_1   \n2     United Arab Emirates     low_temp  Offshore_2   \n3     United Arab Emirates     low_temp          PV   \n4     United Arab Emirates     low_temp          PV   \n...                    ...          ...         ...   \n1655          South Africa     low_temp          PV   \n1656          South Africa    high_temp     Onshore   \n1657          South Africa    high_temp  Offshore_1   \n1658          South Africa    high_temp  Offshore_2   \n1659          South Africa    high_temp          PV   \n\n                               RES ID  \\\n0      United_Arab_Emirates_Onshore_3   \n1     United_Arab_Emirates_Offshore_1   \n2     United_Arab_Emirates_Offshore_2   \n3           United_Arab_Emirates_PV_2   \n4           United_Arab_Emirates_PV_3   \n...                               ...   \n1655                South_Africa_PV_4   \n1656           South_Africa_Onshore_3   \n1657          South_Africa_Offshore_1   \n1658          South_Africa_Offshore_2   \n1659                South_Africa_PV_4   \n\n                                                     ID Assumptions  \\\n0      United_Arab_Emirates_Onshore_3_low_temp_baseline    baseline   \n1     United_Arab_Emirates_Offshore_1_low_temp_baseline    baseline   \n2     United_Arab_Emirates_Offshore_2_low_temp_baseline    baseline   \n3           United_Arab_Emirates_PV_2_low_temp_baseline    baseline   \n4           United_Arab_Emirates_PV_3_low_temp_baseline    baseline   \n...                                                 ...         ...   \n1655              South_Africa_PV_4_low_temp_optimistic  optimistic   \n1656        South_Africa_Onshore_3_high_temp_optimistic  optimistic   \n1657       South_Africa_Offshore_1_high_temp_optimistic  optimistic   \n1658       South_Africa_Offshore_2_high_temp_optimistic  optimistic   \n1659             South_Africa_PV_4_high_temp_optimistic  optimistic   \n\n      Potential (GW)  original CF  Unnamed: 8      2020  ...      2041  \\\n0                122         0.22         NaN  0.378718  ...  0.351338   \n1                 70         0.19         NaN  0.290421  ...  0.277857   \n2                 31         0.19         NaN  0.268904  ...  0.258346   \n3                 30         0.22         NaN  0.307469  ...  0.305253   \n4                335         0.21         NaN  0.297617  ...  0.295639   \n...              ...          ...         ...       ...  ...       ...   \n1655           24657         0.14         NaN  0.218679  ...  0.223088   \n1656             424         0.23         NaN  0.542743  ...  0.444135   \n1657              11         0.44         NaN  0.565059  ...  0.503755   \n1658              28         0.44         NaN  0.546799  ...  0.492788   \n1659           24657         0.14         NaN  0.273983  ...  0.250817   \n\n          2042      2043      2044      2045      2046      2047      2048  \\\n0     0.350639  0.349940  0.349241  0.348542  0.347843  0.347144  0.346445   \n1     0.277652  0.277446  0.277241  0.277036  0.276830  0.276625  0.276420   \n2     0.258055  0.257765  0.257474  0.257184  0.256893  0.256603  0.256312   \n3     0.305222  0.305191  0.305159  0.305128  0.305097  0.305065  0.305034   \n4     0.295639  0.295639  0.295639  0.295639  0.295639  0.295639  0.295639   \n...        ...       ...       ...       ...       ...       ...       ...   \n1655  0.222543  0.221998  0.221453  0.220908  0.220363  0.219818  0.219273   \n1656  0.442941  0.441748  0.440554  0.439361  0.438167  0.436974  0.435780   \n1657  0.503188  0.502621  0.502054  0.501488  0.500921  0.500354  0.499787   \n1658  0.492184  0.491580  0.490976  0.490371  0.489767  0.489163  0.488559   \n1659  0.250670  0.250523  0.250377  0.250230  0.250083  0.249937  0.249790   \n\n          2049      2050  \n0     0.345747  0.345048  \n1     0.276214  0.276009  \n2     0.256022  0.255731  \n3     0.305003  0.304972  \n4     0.295639  0.295639  \n...        ...       ...  \n1655  0.218728  0.218183  \n1656  0.434587  0.433393  \n1657  0.499221  0.498654  \n1658  0.487955  0.487350  \n1659  0.249643  0.249497  \n\n[1660 rows x 40 columns]",
      "text/html": "<div>\n<style scoped>\n    .dataframe tbody tr th:only-of-type {\n        vertical-align: middle;\n    }\n\n    .dataframe tbody tr th {\n        vertical-align: top;\n    }\n\n    .dataframe thead th {\n        text-align: right;\n    }\n</style>\n<table border=\"1\" class=\"dataframe\">\n  <thead>\n    <tr style=\"text-align: right;\">\n      <th></th>\n      <th>Country</th>\n      <th>Electrolyzer</th>\n      <th>RES</th>\n      <th>RES ID</th>\n      <th>ID</th>\n      <th>Assumptions</th>\n      <th>Potential (GW)</th>\n      <th>original CF</th>\n      <th>Unnamed: 8</th>\n      <th>2020</th>\n      <th>...</th>\n      <th>2041</th>\n      <th>2042</th>\n      <th>2043</th>\n      <th>2044</th>\n      <th>2045</th>\n      <th>2046</th>\n      <th>2047</th>\n      <th>2048</th>\n      <th>2049</th>\n      <th>2050</th>\n    </tr>\n  </thead>\n  <tbody>\n    <tr>\n      <th>0</th>\n      <td>United Arab Emirates</td>\n      <td>low_temp</td>\n      <td>Onshore</td>\n      <td>United_Arab_Emirates_Onshore_3</td>\n      <td>United_Arab_Emirates_Onshore_3_low_temp_baseline</td>\n      <td>baseline</td>\n      <td>122</td>\n      <td>0.22</td>\n      <td>NaN</td>\n      <td>0.378718</td>\n      <td>...</td>\n      <td>0.351338</td>\n      <td>0.350639</td>\n      <td>0.349940</td>\n      <td>0.349241</td>\n      <td>0.348542</td>\n      <td>0.347843</td>\n      <td>0.347144</td>\n      <td>0.346445</td>\n      <td>0.345747</td>\n      <td>0.345048</td>\n    </tr>\n    <tr>\n      <th>1</th>\n      <td>United Arab Emirates</td>\n      <td>low_temp</td>\n      <td>Offshore_1</td>\n      <td>United_Arab_Emirates_Offshore_1</td>\n      <td>United_Arab_Emirates_Offshore_1_low_temp_baseline</td>\n      <td>baseline</td>\n      <td>70</td>\n      <td>0.19</td>\n      <td>NaN</td>\n      <td>0.290421</td>\n      <td>...</td>\n      <td>0.277857</td>\n      <td>0.277652</td>\n      <td>0.277446</td>\n      <td>0.277241</td>\n      <td>0.277036</td>\n      <td>0.276830</td>\n      <td>0.276625</td>\n      <td>0.276420</td>\n      <td>0.276214</td>\n      <td>0.276009</td>\n    </tr>\n    <tr>\n      <th>2</th>\n      <td>United Arab Emirates</td>\n      <td>low_temp</td>\n      <td>Offshore_2</td>\n      <td>United_Arab_Emirates_Offshore_2</td>\n      <td>United_Arab_Emirates_Offshore_2_low_temp_baseline</td>\n      <td>baseline</td>\n      <td>31</td>\n      <td>0.19</td>\n      <td>NaN</td>\n      <td>0.268904</td>\n      <td>...</td>\n      <td>0.258346</td>\n      <td>0.258055</td>\n      <td>0.257765</td>\n      <td>0.257474</td>\n      <td>0.257184</td>\n      <td>0.256893</td>\n      <td>0.256603</td>\n      <td>0.256312</td>\n      <td>0.256022</td>\n      <td>0.255731</td>\n    </tr>\n    <tr>\n      <th>3</th>\n      <td>United Arab Emirates</td>\n      <td>low_temp</td>\n      <td>PV</td>\n      <td>United_Arab_Emirates_PV_2</td>\n      <td>United_Arab_Emirates_PV_2_low_temp_baseline</td>\n      <td>baseline</td>\n      <td>30</td>\n      <td>0.22</td>\n      <td>NaN</td>\n      <td>0.307469</td>\n      <td>...</td>\n      <td>0.305253</td>\n      <td>0.305222</td>\n      <td>0.305191</td>\n      <td>0.305159</td>\n      <td>0.305128</td>\n      <td>0.305097</td>\n      <td>0.305065</td>\n      <td>0.305034</td>\n      <td>0.305003</td>\n      <td>0.304972</td>\n    </tr>\n    <tr>\n      <th>4</th>\n      <td>United Arab Emirates</td>\n      <td>low_temp</td>\n      <td>PV</td>\n      <td>United_Arab_Emirates_PV_3</td>\n      <td>United_Arab_Emirates_PV_3_low_temp_baseline</td>\n      <td>baseline</td>\n      <td>335</td>\n      <td>0.21</td>\n      <td>NaN</td>\n      <td>0.297617</td>\n      <td>...</td>\n      <td>0.295639</td>\n      <td>0.295639</td>\n      <td>0.295639</td>\n      <td>0.295639</td>\n      <td>0.295639</td>\n      <td>0.295639</td>\n      <td>0.295639</td>\n      <td>0.295639</td>\n      <td>0.295639</td>\n      <td>0.295639</td>\n    </tr>\n    <tr>\n      <th>...</th>\n      <td>...</td>\n      <td>...</td>\n      <td>...</td>\n      <td>...</td>\n      <td>...</td>\n      <td>...</td>\n      <td>...</td>\n      <td>...</td>\n      <td>...</td>\n      <td>...</td>\n      <td>...</td>\n      <td>...</td>\n      <td>...</td>\n      <td>...</td>\n      <td>...</td>\n      <td>...</td>\n      <td>...</td>\n      <td>...</td>\n      <td>...</td>\n      <td>...</td>\n      <td>...</td>\n    </tr>\n    <tr>\n      <th>1655</th>\n      <td>South Africa</td>\n      <td>low_temp</td>\n      <td>PV</td>\n      <td>South_Africa_PV_4</td>\n      <td>South_Africa_PV_4_low_temp_optimistic</td>\n      <td>optimistic</td>\n      <td>24657</td>\n      <td>0.14</td>\n      <td>NaN</td>\n      <td>0.218679</td>\n      <td>...</td>\n      <td>0.223088</td>\n      <td>0.222543</td>\n      <td>0.221998</td>\n      <td>0.221453</td>\n      <td>0.220908</td>\n      <td>0.220363</td>\n      <td>0.219818</td>\n      <td>0.219273</td>\n      <td>0.218728</td>\n      <td>0.218183</td>\n    </tr>\n    <tr>\n      <th>1656</th>\n      <td>South Africa</td>\n      <td>high_temp</td>\n      <td>Onshore</td>\n      <td>South_Africa_Onshore_3</td>\n      <td>South_Africa_Onshore_3_high_temp_optimistic</td>\n      <td>optimistic</td>\n      <td>424</td>\n      <td>0.23</td>\n      <td>NaN</td>\n      <td>0.542743</td>\n      <td>...</td>\n      <td>0.444135</td>\n      <td>0.442941</td>\n      <td>0.441748</td>\n      <td>0.440554</td>\n      <td>0.439361</td>\n      <td>0.438167</td>\n      <td>0.436974</td>\n      <td>0.435780</td>\n      <td>0.434587</td>\n      <td>0.433393</td>\n    </tr>\n    <tr>\n      <th>1657</th>\n      <td>South Africa</td>\n      <td>high_temp</td>\n      <td>Offshore_1</td>\n      <td>South_Africa_Offshore_1</td>\n      <td>South_Africa_Offshore_1_high_temp_optimistic</td>\n      <td>optimistic</td>\n      <td>11</td>\n      <td>0.44</td>\n      <td>NaN</td>\n      <td>0.565059</td>\n      <td>...</td>\n      <td>0.503755</td>\n      <td>0.503188</td>\n      <td>0.502621</td>\n      <td>0.502054</td>\n      <td>0.501488</td>\n      <td>0.500921</td>\n      <td>0.500354</td>\n      <td>0.499787</td>\n      <td>0.499221</td>\n      <td>0.498654</td>\n    </tr>\n    <tr>\n      <th>1658</th>\n      <td>South Africa</td>\n      <td>high_temp</td>\n      <td>Offshore_2</td>\n      <td>South_Africa_Offshore_2</td>\n      <td>South_Africa_Offshore_2_high_temp_optimistic</td>\n      <td>optimistic</td>\n      <td>28</td>\n      <td>0.44</td>\n      <td>NaN</td>\n      <td>0.546799</td>\n      <td>...</td>\n      <td>0.492788</td>\n      <td>0.492184</td>\n      <td>0.491580</td>\n      <td>0.490976</td>\n      <td>0.490371</td>\n      <td>0.489767</td>\n      <td>0.489163</td>\n      <td>0.488559</td>\n      <td>0.487955</td>\n      <td>0.487350</td>\n    </tr>\n    <tr>\n      <th>1659</th>\n      <td>South Africa</td>\n      <td>high_temp</td>\n      <td>PV</td>\n      <td>South_Africa_PV_4</td>\n      <td>South_Africa_PV_4_high_temp_optimistic</td>\n      <td>optimistic</td>\n      <td>24657</td>\n      <td>0.14</td>\n      <td>NaN</td>\n      <td>0.273983</td>\n      <td>...</td>\n      <td>0.250817</td>\n      <td>0.250670</td>\n      <td>0.250523</td>\n      <td>0.250377</td>\n      <td>0.250230</td>\n      <td>0.250083</td>\n      <td>0.249937</td>\n      <td>0.249790</td>\n      <td>0.249643</td>\n      <td>0.249497</td>\n    </tr>\n  </tbody>\n</table>\n<p>1660 rows × 40 columns</p>\n</div>"
     },
     "execution_count": 744,
     "metadata": {},
     "output_type": "execute_result"
    }
   ],
   "source": [
    "# Read optimised electrolyser capacity factors\n",
    "el_cf = pd.read_csv(\"/Users/jakob/PycharmProjects/H2_pathways_repo/data/raw/el_cf.csv\", delimiter= ';', decimal= ',')\n",
    "el_cf"
   ],
   "metadata": {
    "collapsed": false,
    "pycharm": {
     "name": "#%%\n"
    }
   }
  },
  {
   "cell_type": "code",
   "execution_count": 745,
   "outputs": [
    {
     "data": {
      "text/plain": "0.378718207"
     },
     "execution_count": 745,
     "metadata": {},
     "output_type": "execute_result"
    }
   ],
   "source": [
    "# Optimised electrolyser capacity factor in year y\n",
    "el_cf_y = el_cf.at[0, '2020']\n",
    "el_cf_y"
   ],
   "metadata": {
    "collapsed": false,
    "pycharm": {
     "name": "#%%\n"
    }
   }
  },
  {
   "cell_type": "code",
   "execution_count": 761,
   "outputs": [
    {
     "data": {
      "text/plain": "33.33"
     },
     "execution_count": 761,
     "metadata": {},
     "output_type": "execute_result"
    }
   ],
   "source": [
    "LHV_h2"
   ],
   "metadata": {
    "collapsed": false,
    "pycharm": {
     "name": "#%%\n"
    }
   }
  },
  {
   "cell_type": "code",
   "execution_count": 762,
   "outputs": [
    {
     "data": {
      "text/plain": "0.5569117572352852"
     },
     "execution_count": 762,
     "metadata": {},
     "output_type": "execute_result"
    }
   ],
   "source": [
    "# Calculate LCOH from RES in year y\n",
    "lcoh_res = LHV_h2 * ((alpha * el_capex + el_opex + lcoe_y)/(el_cf_y * 8760))\n",
    "lcoh_res"
   ],
   "metadata": {
    "collapsed": false,
    "pycharm": {
     "name": "#%%\n"
    }
   }
  },
  {
   "cell_type": "code",
   "execution_count": 705,
   "outputs": [
    {
     "ename": "NameError",
     "evalue": "name 'lcoh_res' is not defined",
     "output_type": "error",
     "traceback": [
      "\u001B[0;31m---------------------------------------------------------------------------\u001B[0m",
      "\u001B[0;31mNameError\u001B[0m                                 Traceback (most recent call last)",
      "Input \u001B[0;32mIn [705]\u001B[0m, in \u001B[0;36m<cell line: 6>\u001B[0;34m()\u001B[0m\n\u001B[1;32m      3\u001B[0m \u001B[38;5;28;01mdef\u001B[39;00m \u001B[38;5;21mcalculate_lcoh_res\u001B[39m():\n\u001B[1;32m      4\u001B[0m    lcoh_res \u001B[38;5;241m=\u001B[39m LHV_h2\u001B[38;5;241m*\u001B[39m((alpha \u001B[38;5;241m*\u001B[39m el_capex \u001B[38;5;241m+\u001B[39m el_opex)\u001B[38;5;241m/\u001B[39mCF \u001B[38;5;241m*\u001B[39m \u001B[38;5;241m8760\u001B[39m \u001B[38;5;241m+\u001B[39m P_ng\u001B[38;5;241m/\u001B[39mn) \n\u001B[0;32m----> 6\u001B[0m \u001B[38;5;28mprint\u001B[39m(\u001B[38;5;124m'\u001B[39m\u001B[38;5;124mThe cost of hydrogen production from RES\u001B[39m\u001B[38;5;124m'\u001B[39m \u001B[38;5;241m+\u001B[39m \u001B[38;5;124m'\u001B[39m\u001B[38;5;124min year \u001B[39m\u001B[38;5;124m'\u001B[39m \u001B[38;5;241m+\u001B[39m \u001B[38;5;28mstr\u001B[39m(\u001B[38;5;28mround\u001B[39m(\u001B[43mlcoh_res\u001B[49m,\u001B[38;5;241m2\u001B[39m)) \u001B[38;5;241m+\u001B[39m \u001B[38;5;124m'\u001B[39m\u001B[38;5;124m [$/kg_h2]\u001B[39m\u001B[38;5;124m'\u001B[39m)\n\u001B[1;32m      7\u001B[0m calculate_lcoh_res()\n",
      "\u001B[0;31mNameError\u001B[0m: name 'lcoh_res' is not defined"
     ]
    }
   ],
   "source": [
    "# Define function to calculate LCOH from RES in year y\n",
    "\n",
    "def calculate_lcoh_res():\n",
    "   lcoh_res = LHV_h2*((alpha * el_capex + el_opex)/CF * 8760 + P_ng/n)\n",
    "\n",
    "print('The cost of hydrogen production from RES' + 'in year ' + str(round(lcoh_res,2)) + ' [$/kg_h2]')\n",
    "calculate_lcoh_res()"
   ],
   "metadata": {
    "collapsed": false,
    "pycharm": {
     "name": "#%%\n"
    }
   }
  },
  {
   "cell_type": "code",
   "execution_count": 698,
   "outputs": [
    {
     "name": "stdout",
     "output_type": "stream",
     "text": [
      "   CAPEX ($/kW H2) ;NGR with CCS;Pyrolysis\n",
      "0                              2020;1627;-\n",
      "1                              2021;1600;-\n",
      "2                              2022;1573;-\n",
      "3                              2023;1547;-\n",
      "4                              2024;1520;-\n",
      "5                              2025;1493;-\n",
      "6                              2026;1467;-\n",
      "7                              2027;1440;-\n",
      "8                              2028;1413;-\n",
      "9                              2029;1387;-\n",
      "10                             2030;1360;-\n",
      "11                             2031;1356;-\n",
      "12                             2032;1352;-\n",
      "13                             2033;1348;-\n",
      "14                             2034;1344;-\n",
      "15                           2035;1340;761\n",
      "16                           2036;1336;735\n",
      "17                           2037;1332;711\n",
      "18                           2038;1328;687\n",
      "19                           2039;1324;664\n",
      "20                           2040;1320;642\n",
      "21                           2041;1316;620\n",
      "22                           2042;1312;600\n",
      "23                           2043;1308;579\n",
      "24                           2044;1304;560\n",
      "25                           2045;1300;541\n",
      "26                           2046;1296;523\n",
      "27                           2047;1292;506\n",
      "28                           2048;1288;489\n",
      "29                           2049;1284;472\n",
      "30                           2050;1280;457\n"
     ]
    }
   ],
   "source": [
    "# read Capex for NGR in  year y\n",
    "ngr_time_inputs = pd.read_csv(\"/Users/jakob/PycharmProjects/H2_pathways_repo/data/raw/ngr_time_inputs.csv\")\n",
    "print(ngr_time_inputs)"
   ],
   "metadata": {
    "collapsed": false,
    "pycharm": {
     "name": "#%%\n"
    }
   }
  },
  {
   "cell_type": "code",
   "execution_count": 711,
   "outputs": [
    {
     "data": {
      "text/plain": "               Techno-economic assumptions  NGR with CCS  Pyrolysis\n0                         Lifetime (years)        25.000      25.00\n1                        Interest rate (%)         0.080       0.08\n2                      Amortisation factor         0.090       0.09\n3                      OPEX (% of CAPEX/a)         0.030       0.05\n4                           Efficiency (%)         0.690       0.52\n5                         Availability (%)         0.950       0.95\n6          Captured emissions (kgCO2/kgH2)         8.700        NaN\n7            Leaked emissions (kgCO2/kgH2)         1.000        NaN\n8                  Carbon yield (kg/kg H2)         3.000        NaN\n9                        Gas price ($/kWh)         0.262        NaN\n10    CO2 transport and storage cost ($/t)        20.000        NaN\n11  CO2 price for residual emissions ($/t)       150.000        NaN\n12                Solid carbon price ($/t)         0.000        NaN\n13                         LHV (kWh/kg H2)        33.330        NaN",
      "text/html": "<div>\n<style scoped>\n    .dataframe tbody tr th:only-of-type {\n        vertical-align: middle;\n    }\n\n    .dataframe tbody tr th {\n        vertical-align: top;\n    }\n\n    .dataframe thead th {\n        text-align: right;\n    }\n</style>\n<table border=\"1\" class=\"dataframe\">\n  <thead>\n    <tr style=\"text-align: right;\">\n      <th></th>\n      <th>Techno-economic assumptions</th>\n      <th>NGR with CCS</th>\n      <th>Pyrolysis</th>\n    </tr>\n  </thead>\n  <tbody>\n    <tr>\n      <th>0</th>\n      <td>Lifetime (years)</td>\n      <td>25.000</td>\n      <td>25.00</td>\n    </tr>\n    <tr>\n      <th>1</th>\n      <td>Interest rate (%)</td>\n      <td>0.080</td>\n      <td>0.08</td>\n    </tr>\n    <tr>\n      <th>2</th>\n      <td>Amortisation factor</td>\n      <td>0.090</td>\n      <td>0.09</td>\n    </tr>\n    <tr>\n      <th>3</th>\n      <td>OPEX (% of CAPEX/a)</td>\n      <td>0.030</td>\n      <td>0.05</td>\n    </tr>\n    <tr>\n      <th>4</th>\n      <td>Efficiency (%)</td>\n      <td>0.690</td>\n      <td>0.52</td>\n    </tr>\n    <tr>\n      <th>5</th>\n      <td>Availability (%)</td>\n      <td>0.950</td>\n      <td>0.95</td>\n    </tr>\n    <tr>\n      <th>6</th>\n      <td>Captured emissions (kgCO2/kgH2)</td>\n      <td>8.700</td>\n      <td>NaN</td>\n    </tr>\n    <tr>\n      <th>7</th>\n      <td>Leaked emissions (kgCO2/kgH2)</td>\n      <td>1.000</td>\n      <td>NaN</td>\n    </tr>\n    <tr>\n      <th>8</th>\n      <td>Carbon yield (kg/kg H2)</td>\n      <td>3.000</td>\n      <td>NaN</td>\n    </tr>\n    <tr>\n      <th>9</th>\n      <td>Gas price ($/kWh)</td>\n      <td>0.262</td>\n      <td>NaN</td>\n    </tr>\n    <tr>\n      <th>10</th>\n      <td>CO2 transport and storage cost ($/t)</td>\n      <td>20.000</td>\n      <td>NaN</td>\n    </tr>\n    <tr>\n      <th>11</th>\n      <td>CO2 price for residual emissions ($/t)</td>\n      <td>150.000</td>\n      <td>NaN</td>\n    </tr>\n    <tr>\n      <th>12</th>\n      <td>Solid carbon price ($/t)</td>\n      <td>0.000</td>\n      <td>NaN</td>\n    </tr>\n    <tr>\n      <th>13</th>\n      <td>LHV (kWh/kg H2)</td>\n      <td>33.330</td>\n      <td>NaN</td>\n    </tr>\n  </tbody>\n</table>\n</div>"
     },
     "execution_count": 711,
     "metadata": {},
     "output_type": "execute_result"
    }
   ],
   "source": [
    "#read techno-economic assumptions for hydrogen production from NG\n",
    "tea_ngr = pd.read_csv(\"/Users/jakob/PycharmProjects/H2_pathways_repo/data/raw/tea_ngr.csv\", delimiter= ';', decimal= ',')\n",
    "tea_ngr"
   ],
   "metadata": {
    "collapsed": false,
    "pycharm": {
     "name": "#%%\n"
    }
   }
  },
  {
   "cell_type": "code",
   "execution_count": null,
   "outputs": [],
   "source": [
    "#Select with Nor with.loc"
   ],
   "metadata": {
    "collapsed": false,
    "pycharm": {
     "name": "#%%\n"
    }
   }
  },
  {
   "cell_type": "code",
   "execution_count": 213,
   "outputs": [
    {
     "data": {
      "text/plain": "2020    2.785949\n2021    2.714871\n2022    2.652284\n2023    2.596362\n2024    2.545803\n2025    2.499648\n2026    2.457171\n2027    2.417811\n2028    2.381122\n2029    2.346749\n2030    2.314401\n2031    2.264631\n2032    2.226766\n2033    2.190359\n2034    2.155485\n2035    2.122516\n2036    2.090301\n2037    2.059023\n2038     2.03067\n2039    2.002053\n2040    1.973398\n2041    1.948791\n2042    1.925478\n2043    1.902839\n2044    1.884067\n2045    1.836945\n2046    1.812282\n2047    1.788654\n2048    1.765974\n2049    1.744164\n2050    1.723156\nName: 503, dtype: object"
     },
     "execution_count": 213,
     "metadata": {},
     "output_type": "execute_result"
    }
   ],
   "source": [
    "nor = lcoe.loc[503,2020:2050]\n",
    "nor"
   ],
   "metadata": {
    "collapsed": false,
    "pycharm": {
     "name": "#%%\n"
    }
   }
  },
  {
   "cell_type": "code",
   "execution_count": null,
   "outputs": [],
   "source": [
    "#Select years"
   ],
   "metadata": {
    "collapsed": false,
    "pycharm": {
     "name": "#%%\n"
    }
   }
  },
  {
   "cell_type": "code",
   "execution_count": 699,
   "outputs": [
    {
     "data": {
      "text/plain": "2020    9.344448\n2021    9.047272\n2022    8.799155\n2023    8.586133\n2024    8.399404\n2025    8.233071\n2026    8.083001\n2027     7.94619\n2028    7.820385\n2029    7.703856\n2030    7.595249\n2031    7.385286\n2032    7.204698\n2033    7.043249\n2034      6.8967\n2035    6.762435\n2036    6.639606\n2037    6.523901\n2038    6.415678\n2039    6.315508\n2040    6.217864\n2041    6.103708\n2042    5.995255\n2043     5.89468\n2044    5.806272\n2045    5.668551\n2046     5.57863\n2047    5.494204\n2048    5.414592\n2049    5.339232\n2050    5.267657\nName: 1, dtype: object"
     },
     "execution_count": 699,
     "metadata": {},
     "output_type": "execute_result"
    }
   ],
   "source": [
    "years = lcoe.loc[1,2020:2050]\n",
    "years"
   ],
   "metadata": {
    "collapsed": false,
    "pycharm": {
     "name": "#%%\n"
    }
   }
  },
  {
   "cell_type": "code",
   "execution_count": null,
   "outputs": [],
   "source": [
    "#Shor Nor"
   ],
   "metadata": {
    "collapsed": false,
    "pycharm": {
     "name": "#%%\n"
    }
   }
  },
  {
   "cell_type": "code",
   "execution_count": 224,
   "outputs": [
    {
     "data": {
      "text/plain": "<Figure size 432x288 with 1 Axes>",
      "image/png": "[encoded data removed]"
     },
     "metadata": {
      "needs_background": "light"
     },
     "output_type": "display_data"
    }
   ],
   "source": [
    "plt.plot(nor, color = 'red', linestyle = 'dashed')\n",
    "plt.title('LCOE cost curve for NOR')\n",
    "plt.legend(['LCOE in $/kg_H2'])\n",
    "plt.xlabel('Year')\n",
    "plt.ylabel('Cost')\n",
    "plt.show()"
   ],
   "metadata": {
    "collapsed": false,
    "pycharm": {
     "name": "#%%\n"
    }
   }
  },
  {
   "cell_type": "code",
   "execution_count": 215,
   "outputs": [],
   "source": [
    "#find max lcoe in nor"
   ],
   "metadata": {
    "collapsed": false,
    "pycharm": {
     "name": "#%%\n"
    }
   }
  },
  {
   "cell_type": "code",
   "execution_count": 223,
   "outputs": [
    {
     "data": {
      "text/plain": "2.785948657162366"
     },
     "execution_count": 223,
     "metadata": {},
     "output_type": "execute_result"
    }
   ],
   "source": [
    "nor.max(axis = 0)"
   ],
   "metadata": {
    "collapsed": false,
    "pycharm": {
     "name": "#%%\n"
    }
   }
  },
  {
   "cell_type": "code",
   "execution_count": 225,
   "outputs": [],
   "source": [
    "#Define variables for LCOH calculation"
   ],
   "metadata": {
    "collapsed": false,
    "pycharm": {
     "name": "#%%\n"
    }
   }
  },
  {
   "cell_type": "code",
   "execution_count": 255,
   "outputs": [
    {
     "data": {
      "text/plain": "2020"
     },
     "execution_count": 255,
     "metadata": {},
     "output_type": "execute_result"
    }
   ],
   "source": [
    "year = int(input())\n",
    "year"
   ],
   "metadata": {
    "collapsed": false,
    "pycharm": {
     "name": "#%%\n"
    }
   }
  },
  {
   "cell_type": "code",
   "execution_count": 464,
   "outputs": [
    {
     "data": {
      "text/plain": "               Techno-economic assumptions NGR with CCS Pyrolysis\n0                         Lifetime (years)           25        25\n1                        Interest rate (%)         0,08      0,08\n2                      Amortisation factor         0,09      0,09\n3                      OPEX (% of CAPEX/a)         0,03      0,05\n4                           Efficiency (%)         0,69      0,52\n5                         Availability (%)         0,95      0,95\n6          Captured emissions (kgCO2/kgH2)          8,7         -\n7            Leaked emissions (kgCO2/kgH2)            1         -\n8                  Carbon yield (kg/kg H2)            -         3\n9                        Gas price ($/MWh)          NaN        25\n10    CO2 transport and storage cost ($/t)          NaN        20\n11  CO2 price for residual emissions ($/t)          NaN       150\n12                Solid carbon price ($/t)          NaN         0\n13                         LHV (kWh/kg H2)          NaN     33,33",
      "text/html": "<div>\n<style scoped>\n    .dataframe tbody tr th:only-of-type {\n        vertical-align: middle;\n    }\n\n    .dataframe tbody tr th {\n        vertical-align: top;\n    }\n\n    .dataframe thead th {\n        text-align: right;\n    }\n</style>\n<table border=\"1\" class=\"dataframe\">\n  <thead>\n    <tr style=\"text-align: right;\">\n      <th></th>\n      <th>Techno-economic assumptions</th>\n      <th>NGR with CCS</th>\n      <th>Pyrolysis</th>\n    </tr>\n  </thead>\n  <tbody>\n    <tr>\n      <th>0</th>\n      <td>Lifetime (years)</td>\n      <td>25</td>\n      <td>25</td>\n    </tr>\n    <tr>\n      <th>1</th>\n      <td>Interest rate (%)</td>\n      <td>0,08</td>\n      <td>0,08</td>\n    </tr>\n    <tr>\n      <th>2</th>\n      <td>Amortisation factor</td>\n      <td>0,09</td>\n      <td>0,09</td>\n    </tr>\n    <tr>\n      <th>3</th>\n      <td>OPEX (% of CAPEX/a)</td>\n      <td>0,03</td>\n      <td>0,05</td>\n    </tr>\n    <tr>\n      <th>4</th>\n      <td>Efficiency (%)</td>\n      <td>0,69</td>\n      <td>0,52</td>\n    </tr>\n    <tr>\n      <th>5</th>\n      <td>Availability (%)</td>\n      <td>0,95</td>\n      <td>0,95</td>\n    </tr>\n    <tr>\n      <th>6</th>\n      <td>Captured emissions (kgCO2/kgH2)</td>\n      <td>8,7</td>\n      <td>-</td>\n    </tr>\n    <tr>\n      <th>7</th>\n      <td>Leaked emissions (kgCO2/kgH2)</td>\n      <td>1</td>\n      <td>-</td>\n    </tr>\n    <tr>\n      <th>8</th>\n      <td>Carbon yield (kg/kg H2)</td>\n      <td>-</td>\n      <td>3</td>\n    </tr>\n    <tr>\n      <th>9</th>\n      <td>Gas price ($/MWh)</td>\n      <td>NaN</td>\n      <td>25</td>\n    </tr>\n    <tr>\n      <th>10</th>\n      <td>CO2 transport and storage cost ($/t)</td>\n      <td>NaN</td>\n      <td>20</td>\n    </tr>\n    <tr>\n      <th>11</th>\n      <td>CO2 price for residual emissions ($/t)</td>\n      <td>NaN</td>\n      <td>150</td>\n    </tr>\n    <tr>\n      <th>12</th>\n      <td>Solid carbon price ($/t)</td>\n      <td>NaN</td>\n      <td>0</td>\n    </tr>\n    <tr>\n      <th>13</th>\n      <td>LHV (kWh/kg H2)</td>\n      <td>NaN</td>\n      <td>33,33</td>\n    </tr>\n  </tbody>\n</table>\n</div>"
     },
     "execution_count": 464,
     "metadata": {},
     "output_type": "execute_result"
    }
   ],
   "source": [],
   "metadata": {
    "collapsed": false,
    "pycharm": {
     "name": "#%%\n"
    }
   }
  },
  {
   "cell_type": "code",
   "execution_count": 404,
   "outputs": [
    {
     "data": {
      "text/plain": "    CAPEX ($/kW H2)   NGR with CCS Pyrolysis\n0               2020          1627         -\n1               2021          1600         -\n2               2022          1573         -\n3               2023          1547         -\n4               2024          1520         -\n5               2025          1493         -\n6               2026          1467         -\n7               2027          1440         -\n8               2028          1413         -\n9               2029          1387         -\n10              2030          1360         -\n11              2031          1356         -\n12              2032          1352         -\n13              2033          1348         -\n14              2034          1344         -\n15              2035          1340       761\n16              2036          1336       735\n17              2037          1332       711\n18              2038          1328       687\n19              2039          1324       664\n20              2040          1320       642\n21              2041          1316       620\n22              2042          1312       600\n23              2043          1308       579\n24              2044          1304       560\n25              2045          1300       541\n26              2046          1296       523\n27              2047          1292       506\n28              2048          1288       489\n29              2049          1284       472\n30              2050          1280       457",
      "text/html": "<div>\n<style scoped>\n    .dataframe tbody tr th:only-of-type {\n        vertical-align: middle;\n    }\n\n    .dataframe tbody tr th {\n        vertical-align: top;\n    }\n\n    .dataframe thead th {\n        text-align: right;\n    }\n</style>\n<table border=\"1\" class=\"dataframe\">\n  <thead>\n    <tr style=\"text-align: right;\">\n      <th></th>\n      <th>CAPEX ($/kW H2)</th>\n      <th>NGR with CCS</th>\n      <th>Pyrolysis</th>\n    </tr>\n  </thead>\n  <tbody>\n    <tr>\n      <th>0</th>\n      <td>2020</td>\n      <td>1627</td>\n      <td>-</td>\n    </tr>\n    <tr>\n      <th>1</th>\n      <td>2021</td>\n      <td>1600</td>\n      <td>-</td>\n    </tr>\n    <tr>\n      <th>2</th>\n      <td>2022</td>\n      <td>1573</td>\n      <td>-</td>\n    </tr>\n    <tr>\n      <th>3</th>\n      <td>2023</td>\n      <td>1547</td>\n      <td>-</td>\n    </tr>\n    <tr>\n      <th>4</th>\n      <td>2024</td>\n      <td>1520</td>\n      <td>-</td>\n    </tr>\n    <tr>\n      <th>5</th>\n      <td>2025</td>\n      <td>1493</td>\n      <td>-</td>\n    </tr>\n    <tr>\n      <th>6</th>\n      <td>2026</td>\n      <td>1467</td>\n      <td>-</td>\n    </tr>\n    <tr>\n      <th>7</th>\n      <td>2027</td>\n      <td>1440</td>\n      <td>-</td>\n    </tr>\n    <tr>\n      <th>8</th>\n      <td>2028</td>\n      <td>1413</td>\n      <td>-</td>\n    </tr>\n    <tr>\n      <th>9</th>\n      <td>2029</td>\n      <td>1387</td>\n      <td>-</td>\n    </tr>\n    <tr>\n      <th>10</th>\n      <td>2030</td>\n      <td>1360</td>\n      <td>-</td>\n    </tr>\n    <tr>\n      <th>11</th>\n      <td>2031</td>\n      <td>1356</td>\n      <td>-</td>\n    </tr>\n    <tr>\n      <th>12</th>\n      <td>2032</td>\n      <td>1352</td>\n      <td>-</td>\n    </tr>\n    <tr>\n      <th>13</th>\n      <td>2033</td>\n      <td>1348</td>\n      <td>-</td>\n    </tr>\n    <tr>\n      <th>14</th>\n      <td>2034</td>\n      <td>1344</td>\n      <td>-</td>\n    </tr>\n    <tr>\n      <th>15</th>\n      <td>2035</td>\n      <td>1340</td>\n      <td>761</td>\n    </tr>\n    <tr>\n      <th>16</th>\n      <td>2036</td>\n      <td>1336</td>\n      <td>735</td>\n    </tr>\n    <tr>\n      <th>17</th>\n      <td>2037</td>\n      <td>1332</td>\n      <td>711</td>\n    </tr>\n    <tr>\n      <th>18</th>\n      <td>2038</td>\n      <td>1328</td>\n      <td>687</td>\n    </tr>\n    <tr>\n      <th>19</th>\n      <td>2039</td>\n      <td>1324</td>\n      <td>664</td>\n    </tr>\n    <tr>\n      <th>20</th>\n      <td>2040</td>\n      <td>1320</td>\n      <td>642</td>\n    </tr>\n    <tr>\n      <th>21</th>\n      <td>2041</td>\n      <td>1316</td>\n      <td>620</td>\n    </tr>\n    <tr>\n      <th>22</th>\n      <td>2042</td>\n      <td>1312</td>\n      <td>600</td>\n    </tr>\n    <tr>\n      <th>23</th>\n      <td>2043</td>\n      <td>1308</td>\n      <td>579</td>\n    </tr>\n    <tr>\n      <th>24</th>\n      <td>2044</td>\n      <td>1304</td>\n      <td>560</td>\n    </tr>\n    <tr>\n      <th>25</th>\n      <td>2045</td>\n      <td>1300</td>\n      <td>541</td>\n    </tr>\n    <tr>\n      <th>26</th>\n      <td>2046</td>\n      <td>1296</td>\n      <td>523</td>\n    </tr>\n    <tr>\n      <th>27</th>\n      <td>2047</td>\n      <td>1292</td>\n      <td>506</td>\n    </tr>\n    <tr>\n      <th>28</th>\n      <td>2048</td>\n      <td>1288</td>\n      <td>489</td>\n    </tr>\n    <tr>\n      <th>29</th>\n      <td>2049</td>\n      <td>1284</td>\n      <td>472</td>\n    </tr>\n    <tr>\n      <th>30</th>\n      <td>2050</td>\n      <td>1280</td>\n      <td>457</td>\n    </tr>\n  </tbody>\n</table>\n</div>"
     },
     "execution_count": 404,
     "metadata": {},
     "output_type": "execute_result"
    }
   ],
   "source": [
    "ngr_time_inputs = pd.read_csv(\"/Users/jakob/PycharmProjects/H2_pathways_repo/data/raw/ngr_time_inputs.csv\", sep=';')\n",
    "ngr_time_inputs"
   ],
   "metadata": {
    "collapsed": false,
    "pycharm": {
     "name": "#%%\n"
    }
   }
  },
  {
   "cell_type": "code",
   "execution_count": 695,
   "outputs": [
    {
     "data": {
      "text/plain": "               Techno-economic assumptions  NGR with CCS  Pyrolysis\n0                         Lifetime (years)        25.000      25.00\n1                        Interest rate (%)         0.080       0.08\n2                      Amortisation factor         0.090       0.09\n3                      OPEX (% of CAPEX/a)         0.030       0.05\n4                           Efficiency (%)         0.690       0.52\n5                         Availability (%)         0.950       0.95\n6          Captured emissions (kgCO2/kgH2)         8.700        NaN\n7            Leaked emissions (kgCO2/kgH2)         1.000        NaN\n8                  Carbon yield (kg/kg H2)         3.000        NaN\n9                        Gas price ($/kWh)         0.262        NaN\n10    CO2 transport and storage cost ($/t)        20.000        NaN\n11  CO2 price for residual emissions ($/t)       150.000        NaN\n12                Solid carbon price ($/t)         0.000        NaN\n13                         LHV (kWh/kg H2)        33.330        NaN",
      "text/html": "<div>\n<style scoped>\n    .dataframe tbody tr th:only-of-type {\n        vertical-align: middle;\n    }\n\n    .dataframe tbody tr th {\n        vertical-align: top;\n    }\n\n    .dataframe thead th {\n        text-align: right;\n    }\n</style>\n<table border=\"1\" class=\"dataframe\">\n  <thead>\n    <tr style=\"text-align: right;\">\n      <th></th>\n      <th>Techno-economic assumptions</th>\n      <th>NGR with CCS</th>\n      <th>Pyrolysis</th>\n    </tr>\n  </thead>\n  <tbody>\n    <tr>\n      <th>0</th>\n      <td>Lifetime (years)</td>\n      <td>25.000</td>\n      <td>25.00</td>\n    </tr>\n    <tr>\n      <th>1</th>\n      <td>Interest rate (%)</td>\n      <td>0.080</td>\n      <td>0.08</td>\n    </tr>\n    <tr>\n      <th>2</th>\n      <td>Amortisation factor</td>\n      <td>0.090</td>\n      <td>0.09</td>\n    </tr>\n    <tr>\n      <th>3</th>\n      <td>OPEX (% of CAPEX/a)</td>\n      <td>0.030</td>\n      <td>0.05</td>\n    </tr>\n    <tr>\n      <th>4</th>\n      <td>Efficiency (%)</td>\n      <td>0.690</td>\n      <td>0.52</td>\n    </tr>\n    <tr>\n      <th>5</th>\n      <td>Availability (%)</td>\n      <td>0.950</td>\n      <td>0.95</td>\n    </tr>\n    <tr>\n      <th>6</th>\n      <td>Captured emissions (kgCO2/kgH2)</td>\n      <td>8.700</td>\n      <td>NaN</td>\n    </tr>\n    <tr>\n      <th>7</th>\n      <td>Leaked emissions (kgCO2/kgH2)</td>\n      <td>1.000</td>\n      <td>NaN</td>\n    </tr>\n    <tr>\n      <th>8</th>\n      <td>Carbon yield (kg/kg H2)</td>\n      <td>3.000</td>\n      <td>NaN</td>\n    </tr>\n    <tr>\n      <th>9</th>\n      <td>Gas price ($/kWh)</td>\n      <td>0.262</td>\n      <td>NaN</td>\n    </tr>\n    <tr>\n      <th>10</th>\n      <td>CO2 transport and storage cost ($/t)</td>\n      <td>20.000</td>\n      <td>NaN</td>\n    </tr>\n    <tr>\n      <th>11</th>\n      <td>CO2 price for residual emissions ($/t)</td>\n      <td>150.000</td>\n      <td>NaN</td>\n    </tr>\n    <tr>\n      <th>12</th>\n      <td>Solid carbon price ($/t)</td>\n      <td>0.000</td>\n      <td>NaN</td>\n    </tr>\n    <tr>\n      <th>13</th>\n      <td>LHV (kWh/kg H2)</td>\n      <td>33.330</td>\n      <td>NaN</td>\n    </tr>\n  </tbody>\n</table>\n</div>"
     },
     "execution_count": 695,
     "metadata": {},
     "output_type": "execute_result"
    }
   ],
   "source": [
    "tea_ngr = pd.read_csv(\"/Users/jakob/PycharmProjects/H2_pathways_repo/data/raw/techno_economics.csv\", sep = ';', decimal=\",\")\n",
    "tea_ngr\n",
    "\n"
   ],
   "metadata": {
    "collapsed": false,
    "pycharm": {
     "name": "#%%\n"
    }
   }
  },
  {
   "cell_type": "code",
   "execution_count": 518,
   "outputs": [
    {
     "data": {
      "text/plain": "Techno-economic assumptions     object\nNGR with CCS                   float64\nPyrolysis                      float64\ndtype: object"
     },
     "execution_count": 518,
     "metadata": {},
     "output_type": "execute_result"
    }
   ],
   "source": [],
   "metadata": {
    "collapsed": false,
    "pycharm": {
     "name": "#%%\n"
    }
   }
  },
  {
   "cell_type": "code",
   "execution_count": 672,
   "outputs": [
    {
     "data": {
      "text/plain": "0.08"
     },
     "execution_count": 672,
     "metadata": {},
     "output_type": "execute_result"
    }
   ],
   "source": [
    "# Interest rate (WACC) in %\n",
    "i = (tea_ngr.at[1,'NGR with CCS'])\n",
    "i"
   ],
   "metadata": {
    "collapsed": false,
    "pycharm": {
     "name": "#%%\n"
    }
   }
  },
  {
   "cell_type": "code",
   "execution_count": 674,
   "outputs": [
    {
     "data": {
      "text/plain": "25.0"
     },
     "execution_count": 674,
     "metadata": {},
     "output_type": "execute_result"
    }
   ],
   "source": [
    "# Economic lifetime of the plant in years\n",
    "l = (tea_ngr.at[0,'NGR with CCS'])\n",
    "l"
   ],
   "metadata": {
    "collapsed": false,
    "pycharm": {
     "name": "#%%\n"
    }
   }
  },
  {
   "cell_type": "code",
   "execution_count": 685,
   "outputs": [
    {
     "data": {
      "text/plain": "0.09"
     },
     "execution_count": 685,
     "metadata": {},
     "output_type": "execute_result"
    }
   ],
   "source": [
    "# Calculate the amortisation factor alpha\n",
    "alpha = (i * (1 + i)**l)/(1 + i)**(l - 1)\n",
    "round(alpha,2)"
   ],
   "metadata": {
    "collapsed": false,
    "pycharm": {
     "name": "#%%\n"
    }
   }
  },
  {
   "cell_type": "code",
   "execution_count": 622,
   "outputs": [
    {
     "data": {
      "text/plain": "1627"
     },
     "execution_count": 622,
     "metadata": {},
     "output_type": "execute_result"
    }
   ],
   "source": [
    "# Capital expenditures in $/kW in year y\n",
    "year_in = int(input())\n",
    "year = year_in - 2020\n",
    "year\n",
    "capex_y = ngr_time_inputs.at[year ,'NGR with CCS']\n",
    "capex_y"
   ],
   "metadata": {
    "collapsed": false,
    "pycharm": {
     "name": "#%%\n"
    }
   }
  },
  {
   "cell_type": "code",
   "execution_count": 687,
   "outputs": [
    {
     "data": {
      "text/plain": "48.81"
     },
     "execution_count": 687,
     "metadata": {},
     "output_type": "execute_result"
    }
   ],
   "source": [
    "# Operational expenditures in $/kW/a in year y\n",
    "opex_y = (tea_ngr.at[3,'NGR with CCS'])*capex_y\n",
    "round(opex_y, 2)\n"
   ],
   "metadata": {
    "collapsed": false,
    "pycharm": {
     "name": "#%%\n"
    }
   }
  },
  {
   "cell_type": "code",
   "execution_count": 525,
   "outputs": [
    {
     "data": {
      "text/plain": "0.95"
     },
     "execution_count": 525,
     "metadata": {},
     "output_type": "execute_result"
    }
   ],
   "source": [
    "# Capacity factor as the availability of the plant in %\n",
    "CF = tea_ngr.at[5, 'NGR with CCS']\n",
    "CF"
   ],
   "metadata": {
    "collapsed": false,
    "pycharm": {
     "name": "#%%\n"
    }
   }
  },
  {
   "cell_type": "code",
   "execution_count": 692,
   "outputs": [],
   "source": [
    "# Natual gas price in year y in $/kWh\n",
    "# maybe make projections on NG price development\n",
    "#P_ng = tea_ngr.at[9,'NGR with CCS']\n",
    "P_ng = 0.262"
   ],
   "metadata": {
    "collapsed": false,
    "pycharm": {
     "name": "#%%\n"
    }
   }
  },
  {
   "cell_type": "code",
   "execution_count": 646,
   "outputs": [
    {
     "data": {
      "text/plain": "0.69"
     },
     "execution_count": 646,
     "metadata": {},
     "output_type": "execute_result"
    }
   ],
   "source": [
    "# Plant efficiency\n",
    "n = tea_ngr.at[4,'NGR with CCS']\n",
    "n"
   ],
   "metadata": {
    "collapsed": false,
    "pycharm": {
     "name": "#%%\n"
    }
   }
  },
  {
   "cell_type": "code",
   "execution_count": 647,
   "outputs": [
    {
     "data": {
      "text/plain": "8.7"
     },
     "execution_count": 647,
     "metadata": {},
     "output_type": "execute_result"
    }
   ],
   "source": [
    "# Quantity of captured emissions in kg_CO2/kg_H2\n",
    "Q_ce = tea_ngr.at[6,'NGR with CCS']\n",
    "Q_ce"
   ],
   "metadata": {
    "collapsed": false,
    "pycharm": {
     "name": "#%%\n"
    }
   }
  },
  {
   "cell_type": "code",
   "execution_count": 648,
   "outputs": [
    {
     "data": {
      "text/plain": "1.0"
     },
     "execution_count": 648,
     "metadata": {},
     "output_type": "execute_result"
    }
   ],
   "source": [
    "# Quantity of uncaptured emissions in kg_CO2/kg_H2\n",
    "Q_ue = tea_ngr.at[7,'NGR with CCS']\n",
    "Q_ue"
   ],
   "metadata": {
    "collapsed": false,
    "pycharm": {
     "name": "#%%\n"
    }
   }
  },
  {
   "cell_type": "code",
   "execution_count": 649,
   "outputs": [
    {
     "data": {
      "text/plain": "20.0"
     },
     "execution_count": 649,
     "metadata": {},
     "output_type": "execute_result"
    }
   ],
   "source": [
    "# P_ccs is the cost for transporting and storing CO2 in $/t_co2\n",
    "P_ccs = tea_ngr.at[10,'NGR with CCS']\n",
    "P_ccs"
   ],
   "metadata": {
    "collapsed": false,
    "pycharm": {
     "name": "#%%\n"
    }
   }
  },
  {
   "cell_type": "code",
   "execution_count": 650,
   "outputs": [
    {
     "data": {
      "text/plain": "150.0"
     },
     "execution_count": 650,
     "metadata": {},
     "output_type": "execute_result"
    }
   ],
   "source": [
    "# Price for CO2 in year y in $/t_co2\n",
    "P_co2 = tea_ngr.at[11,'NGR with CCS']\n",
    "P_co2"
   ],
   "metadata": {
    "collapsed": false,
    "pycharm": {
     "name": "#%%\n"
    }
   }
  },
  {
   "cell_type": "code",
   "execution_count": 651,
   "outputs": [
    {
     "data": {
      "text/plain": "33.33"
     },
     "execution_count": 651,
     "metadata": {},
     "output_type": "execute_result"
    }
   ],
   "source": [
    "# LHV of hydrogen is 33.33 kWh/kg\n",
    "LHV_h2 = tea_ngr.at[13,'NGR with CCS']\n",
    "LHV_h2"
   ],
   "metadata": {
    "collapsed": false,
    "pycharm": {
     "name": "#%%\n"
    }
   }
  },
  {
   "cell_type": "markdown",
   "source": [],
   "metadata": {
    "collapsed": false,
    "pycharm": {
     "name": "#%% md\n"
    }
   }
  },
  {
   "cell_type": "code",
   "execution_count": 652,
   "outputs": [],
   "source": [
    "# Calculate LCOH_ngr [$/kg_h2] in year y"
   ],
   "metadata": {
    "collapsed": false,
    "pycharm": {
     "name": "#%%\n"
    }
   }
  },
  {
   "cell_type": "code",
   "execution_count": 693,
   "outputs": [
    {
     "data": {
      "text/plain": "13.738226119620075"
     },
     "execution_count": 693,
     "metadata": {},
     "output_type": "execute_result"
    }
   ],
   "source": [
    "lcoh_ngr_y = LHV_h2*((alpha * capex_y + opex_y)/(CF * 8760) + 0.262/n) + (Q_ce * P_ccs + Q_ue * P_co2)/1000\n",
    "lcoh_ngr_y"
   ],
   "metadata": {
    "collapsed": false,
    "pycharm": {
     "name": "#%%\n"
    }
   }
  },
  {
   "cell_type": "code",
   "execution_count": 694,
   "outputs": [
    {
     "name": "stdout",
     "output_type": "stream",
     "text": [
      "The cost of hydrogen production from NGin year 13.74 [$/kg_h2]\n"
     ]
    }
   ],
   "source": [
    "def calculate_lcoh_ngr():\n",
    "    lcoh_ngr_y = LHV_h2*((alpha * capex_y + opex_y)/CF * 8760 + P_ng/n) + (Q_ce * P_ccs + Q_ue * P_co2)/1000\n",
    "\n",
    "print('The cost of hydrogen production from NG' + 'in year ' + str(round(lcoh_ngr_y,2)) + ' [$/kg_h2]')\n",
    "calculate_lcoh_ngr()"
   ],
   "metadata": {
    "collapsed": false,
    "pycharm": {
     "name": "#%%\n"
    }
   }
  },
  {
   "cell_type": "code",
   "execution_count": null,
   "outputs": [],
   "source": [
    "# Time relevant variables = capex, opex, P_ng, P_co2\n",
    "def calculate_lcoh_ngr(alpha, capex_y, opex_y, CF, P_ng, n, Q_ce, P_ccs, Q_ue, P_co2, LHV_h2):\n",
    "    result = (LHV_h2 * ((alpha * capex_y + opex_y) / (CF * 8760) + P_ng / n) + (Q_ce * P_ccs + Q_ue * P_co2) / 1000)\n",
    "\n",
    "    return result\n",
    "\n",
    "\n",
    "#// Cost curve calculation\n",
    "\n",
    "\n",
    "initial_data = {'capex': [1, 4, 6, 87, 4],\n",
    "\n",
    "                'opex': [12, 52, 36, 85, 23]}\n",
    "\n",
    "df = pd.DataFrame(initial_data, columns=['capex', 'opex'])\n",
    "print(df)\n",
    "x = df.capex[3]\n",
    "x\n",
    "y = df.opex[3]\n",
    "y\n",
    "\n",
    "\n",
    "def sum(x, y):\n",
    "    return x + y\n",
    "\n",
    "\n",
    "z = sum(x, y)\n",
    "print(z)\n",
    "\n",
    "for i, z in df.iterrows():\n",
    "    #z = sum(x,y)\n",
    "    print(z['capex'])\n",
    "\n",
    "print(df)\n",
    "lcoh_test = ngr_time_inputs['Capex ($/kW ) NGR with CCS'].apply(test)\n",
    "print(ngr_time_inputs)\n",
    "capex_y = (ngr_time_inputs[ngr_time_inputs.Years == year]['Capex ($/kW ) NGR with CCS'].values)\n",
    "capex_y\n",
    "ngr_time_inputs.iterrows()\n",
    "for x in ngr_time_inputs.iterrows():\n",
    "    x = (ngr_time_inputs['Capex ($/kW ) NGR with CCS'].values)\n",
    "    print(x)\n",
    "#iterrate through each row?!\n",
    "for row in ngr_time_inputs.iterrows():\n",
    "    print\n",
    "    row[Capex($/ kW ) NGR with CCS]\n",
    "# Capital expenditures in $/kW in year y\n",
    "capex_y = float(ngr_time_inputs[ngr_time_inputs.Years == 2020]['Capex ($/kW ) NGR with CCS'].values)\n",
    "capex_y\n",
    "\n",
    "\n",
    "# apply function to each row?!\n",
    "def print_row(r):\n",
    "    print\n",
    "    r['Date']\n",
    "\n",
    "\n",
    "df.apply(print_row, axis=1)\n",
    "\n",
    "# Opex share  in % of Capex per year\n",
    "opex_share = float(tea_ngr[tea_ngr.H2_NGR == 'OPEX (% of CAPEX/a)']['NGR with CCS'].values)\n",
    "opex_share\n",
    "# Operational expenditures in $/kW/a in year y\n",
    "opex_y = opex_share * capex_y\n",
    "opex_y\n",
    "for n in y()\n"
   ],
   "metadata": {
    "collapsed": false,
    "pycharm": {
     "name": "#%%\n"
    }
   }
  }
 ],
 "metadata": {
  "kernelspec": {
   "display_name": "Python 3 (ipykernel)",
   "language": "python",
   "name": "python3"
  },
  "language_info": {
   "codemirror_mode": {
    "name": "ipython",
    "version": 3
   },
   "file_extension": ".py",
   "mimetype": "text/x-python",
   "name": "python",
   "nbconvert_exporter": "python",
   "pygments_lexer": "ipython3",
   "version": "3.10.4"
  }
 },
 "nbformat": 4,
 "nbformat_minor": 5
}
