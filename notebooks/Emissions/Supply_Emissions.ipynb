{
 "cells": [
  {
   "cell_type": "code",
   "execution_count": 185,
   "outputs": [],
   "source": [
    "import numpy as np\n",
    "import pandas as pd\n",
    "from matplotlib import pyplot as plt\n",
    "import os\n",
    "from openpyxl import load_workbook\n"
   ],
   "metadata": {
    "collapsed": false,
    "pycharm": {
     "name": "#%%\n"
    }
   }
  },
  {
   "cell_type": "code",
   "execution_count": 186,
   "outputs": [],
   "source": [
    "path = '/Users/jakob/PycharmProjects/H2_pathways_repo/data/raw/H2_supply_route_assessment.xlsx'"
   ],
   "metadata": {
    "collapsed": false,
    "pycharm": {
     "name": "#%%\n"
    }
   }
  },
  {
   "cell_type": "code",
   "execution_count": 187,
   "outputs": [
    {
     "data": {
      "text/plain": "                                                                                   Value  \\\nID                                                                                         \nGHG intensity of electricity generation [g CO2e...                                   NaN   \nGHG intensity of electricity generation [g CO2e...                                   NaN   \nGrey hydrogen emissions [g CO2/MJ H2] - Norway                                     96.77   \nGrey hydrogen emissions [kg CO2/kg H2] - Norway                                  11.6124   \nBlue hydrogen emissions [g CO2/MJ H2] - Norway                                       NaN   \n...                                                                                  ...   \nHydrogen leakage                                    Predicted Emission Confidence level    \nElectrolytic H2 production [% of produced H2]                                      0.092   \nElectrolytic H2 production [% of produced H2] w...                                0.0052   \nCCS enabled H2 production [% of produced H2]                                       0.005   \nLarge-scale transmission [% of transported hyod...                                0.0048   \n\n                                                                        Ref  \\\nID                                                                            \nGHG intensity of electricity generation [g CO2e...                 EEA 2022   \nGHG intensity of electricity generation [g CO2e...        Our world in Data   \nGrey hydrogen emissions [g CO2/MJ H2] - Norway      Own calculation @ GWP20   \nGrey hydrogen emissions [kg CO2/kg H2] - Norway     Own calculation @ GWP20   \nBlue hydrogen emissions [g CO2/MJ H2] - Norway      Own calculation @ GWP20   \n...                                                                     ...   \nHydrogen leakage                                                        Ref   \nElectrolytic H2 production [% of produced H2]                      DOE 2022   \nElectrolytic H2 production [% of produced H2] w...                 DOE 2022   \nCCS enabled H2 production [% of produced H2]                       DOE 2022   \nLarge-scale transmission [% of transported hyod...                 DOE 2022   \n\n                                                     1990   1991   1992  \\\nID                                                                        \nGHG intensity of electricity generation [g CO2e...  652.0  656.0  628.0   \nGHG intensity of electricity generation [g CO2e...    NaN    NaN    NaN   \nGrey hydrogen emissions [g CO2/MJ H2] - Norway        NaN    NaN    NaN   \nGrey hydrogen emissions [kg CO2/kg H2] - Norway       NaN    NaN    NaN   \nBlue hydrogen emissions [g CO2/MJ H2] - Norway        NaN    NaN    NaN   \n...                                                   ...    ...    ...   \nHydrogen leakage                                      NaN    NaN    NaN   \nElectrolytic H2 production [% of produced H2]         NaN    NaN    NaN   \nElectrolytic H2 production [% of produced H2] w...    NaN    NaN    NaN   \nCCS enabled H2 production [% of produced H2]          NaN    NaN    NaN   \nLarge-scale transmission [% of transported hyod...    NaN    NaN    NaN   \n\n                                                     1993   1994   1995  \\\nID                                                                        \nGHG intensity of electricity generation [g CO2e...  631.0  626.0  610.0   \nGHG intensity of electricity generation [g CO2e...    NaN    NaN    NaN   \nGrey hydrogen emissions [g CO2/MJ H2] - Norway        NaN    NaN    NaN   \nGrey hydrogen emissions [kg CO2/kg H2] - Norway       NaN    NaN    NaN   \nBlue hydrogen emissions [g CO2/MJ H2] - Norway        NaN    NaN    NaN   \n...                                                   ...    ...    ...   \nHydrogen leakage                                      NaN    NaN    NaN   \nElectrolytic H2 production [% of produced H2]         NaN    NaN    NaN   \nElectrolytic H2 production [% of produced H2] w...    NaN    NaN    NaN   \nCCS enabled H2 production [% of produced H2]          NaN    NaN    NaN   \nLarge-scale transmission [% of transported hyod...    NaN    NaN    NaN   \n\n                                                     1996   1997  ...  \\\nID                                                                ...   \nGHG intensity of electricity generation [g CO2e...  580.0  566.0  ...   \nGHG intensity of electricity generation [g CO2e...    NaN    NaN  ...   \nGrey hydrogen emissions [g CO2/MJ H2] - Norway        NaN    NaN  ...   \nGrey hydrogen emissions [kg CO2/kg H2] - Norway       NaN    NaN  ...   \nBlue hydrogen emissions [g CO2/MJ H2] - Norway        NaN    NaN  ...   \n...                                                   ...    ...  ...   \nHydrogen leakage                                      NaN    NaN  ...   \nElectrolytic H2 production [% of produced H2]         NaN    NaN  ...   \nElectrolytic H2 production [% of produced H2] w...    NaN    NaN  ...   \nCCS enabled H2 production [% of produced H2]          NaN    NaN  ...   \nLarge-scale transmission [% of transported hyod...    NaN    NaN  ...   \n\n                                                         2041      2042  \\\nID                                                                        \nGHG intensity of electricity generation [g CO2e...  62.592000  46.94400   \nGHG intensity of electricity generation [g CO2e...   7.783673   6.91882   \nGrey hydrogen emissions [g CO2/MJ H2] - Norway            NaN       NaN   \nGrey hydrogen emissions [kg CO2/kg H2] - Norway           NaN       NaN   \nBlue hydrogen emissions [g CO2/MJ H2] - Norway      25.499000  24.61800   \n...                                                       ...       ...   \nHydrogen leakage                                          NaN       NaN   \nElectrolytic H2 production [% of produced H2]             NaN       NaN   \nElectrolytic H2 production [% of produced H2] w...        NaN       NaN   \nCCS enabled H2 production [% of produced H2]              NaN       NaN   \nLarge-scale transmission [% of transported hyod...        NaN       NaN   \n\n                                                         2043       2044  \\\nID                                                                         \nGHG intensity of electricity generation [g CO2e...  31.296000  15.648000   \nGHG intensity of electricity generation [g CO2e...   6.053968   5.189115   \nGrey hydrogen emissions [g CO2/MJ H2] - Norway            NaN        NaN   \nGrey hydrogen emissions [kg CO2/kg H2] - Norway           NaN        NaN   \nBlue hydrogen emissions [g CO2/MJ H2] - Norway      23.737000  22.856000   \n...                                                       ...        ...   \nHydrogen leakage                                          NaN        NaN   \nElectrolytic H2 production [% of produced H2]             NaN        NaN   \nElectrolytic H2 production [% of produced H2] w...        NaN        NaN   \nCCS enabled H2 production [% of produced H2]              NaN        NaN   \nLarge-scale transmission [% of transported hyod...        NaN        NaN   \n\n                                                         2045      2046  \\\nID                                                                        \nGHG intensity of electricity generation [g CO2e...   0.000000   0.00000   \nGHG intensity of electricity generation [g CO2e...   4.324263   3.45941   \nGrey hydrogen emissions [g CO2/MJ H2] - Norway            NaN       NaN   \nGrey hydrogen emissions [kg CO2/kg H2] - Norway           NaN       NaN   \nBlue hydrogen emissions [g CO2/MJ H2] - Norway      21.975000  21.09400   \n...                                                       ...       ...   \nHydrogen leakage                                          NaN       NaN   \nElectrolytic H2 production [% of produced H2]             NaN       NaN   \nElectrolytic H2 production [% of produced H2] w...        NaN       NaN   \nCCS enabled H2 production [% of produced H2]              NaN       NaN   \nLarge-scale transmission [% of transported hyod...        NaN       NaN   \n\n                                                         2047       2048  \\\nID                                                                         \nGHG intensity of electricity generation [g CO2e...   0.000000   0.000000   \nGHG intensity of electricity generation [g CO2e...   2.594558   1.729705   \nGrey hydrogen emissions [g CO2/MJ H2] - Norway            NaN        NaN   \nGrey hydrogen emissions [kg CO2/kg H2] - Norway           NaN        NaN   \nBlue hydrogen emissions [g CO2/MJ H2] - Norway      20.213000  19.332000   \n...                                                       ...        ...   \nHydrogen leakage                                          NaN        NaN   \nElectrolytic H2 production [% of produced H2]             NaN        NaN   \nElectrolytic H2 production [% of produced H2] w...        NaN        NaN   \nCCS enabled H2 production [% of produced H2]              NaN        NaN   \nLarge-scale transmission [% of transported hyod...        NaN        NaN   \n\n                                                         2049   2050  \nID                                                                    \nGHG intensity of electricity generation [g CO2e...   0.000000   0.00  \nGHG intensity of electricity generation [g CO2e...   0.864853   0.00  \nGrey hydrogen emissions [g CO2/MJ H2] - Norway            NaN    NaN  \nGrey hydrogen emissions [kg CO2/kg H2] - Norway           NaN    NaN  \nBlue hydrogen emissions [g CO2/MJ H2] - Norway      18.451000  17.57  \n...                                                       ...    ...  \nHydrogen leakage                                          NaN    NaN  \nElectrolytic H2 production [% of produced H2]             NaN    NaN  \nElectrolytic H2 production [% of produced H2] w...        NaN    NaN  \nCCS enabled H2 production [% of produced H2]              NaN    NaN  \nLarge-scale transmission [% of transported hyod...        NaN    NaN  \n\n[65 rows x 63 columns]",
      "text/html": "<div>\n<style scoped>\n    .dataframe tbody tr th:only-of-type {\n        vertical-align: middle;\n    }\n\n    .dataframe tbody tr th {\n        vertical-align: top;\n    }\n\n    .dataframe thead th {\n        text-align: right;\n    }\n</style>\n<table border=\"1\" class=\"dataframe\">\n  <thead>\n    <tr style=\"text-align: right;\">\n      <th></th>\n      <th>Value</th>\n      <th>Ref</th>\n      <th>1990</th>\n      <th>1991</th>\n      <th>1992</th>\n      <th>1993</th>\n      <th>1994</th>\n      <th>1995</th>\n      <th>1996</th>\n      <th>1997</th>\n      <th>...</th>\n      <th>2041</th>\n      <th>2042</th>\n      <th>2043</th>\n      <th>2044</th>\n      <th>2045</th>\n      <th>2046</th>\n      <th>2047</th>\n      <th>2048</th>\n      <th>2049</th>\n      <th>2050</th>\n    </tr>\n    <tr>\n      <th>ID</th>\n      <th></th>\n      <th></th>\n      <th></th>\n      <th></th>\n      <th></th>\n      <th></th>\n      <th></th>\n      <th></th>\n      <th></th>\n      <th></th>\n      <th></th>\n      <th></th>\n      <th></th>\n      <th></th>\n      <th></th>\n      <th></th>\n      <th></th>\n      <th></th>\n      <th></th>\n      <th></th>\n      <th></th>\n    </tr>\n  </thead>\n  <tbody>\n    <tr>\n      <th>GHG intensity of electricity generation [g CO2eq/kWh] - Germany</th>\n      <td>NaN</td>\n      <td>EEA 2022</td>\n      <td>652.0</td>\n      <td>656.0</td>\n      <td>628.0</td>\n      <td>631.0</td>\n      <td>626.0</td>\n      <td>610.0</td>\n      <td>580.0</td>\n      <td>566.0</td>\n      <td>...</td>\n      <td>62.592000</td>\n      <td>46.94400</td>\n      <td>31.296000</td>\n      <td>15.648000</td>\n      <td>0.000000</td>\n      <td>0.00000</td>\n      <td>0.000000</td>\n      <td>0.000000</td>\n      <td>0.000000</td>\n      <td>0.00</td>\n    </tr>\n    <tr>\n      <th>GHG intensity of electricity generation [g CO2eq/kWh] - Norway</th>\n      <td>NaN</td>\n      <td>Our world in Data</td>\n      <td>NaN</td>\n      <td>NaN</td>\n      <td>NaN</td>\n      <td>NaN</td>\n      <td>NaN</td>\n      <td>NaN</td>\n      <td>NaN</td>\n      <td>NaN</td>\n      <td>...</td>\n      <td>7.783673</td>\n      <td>6.91882</td>\n      <td>6.053968</td>\n      <td>5.189115</td>\n      <td>4.324263</td>\n      <td>3.45941</td>\n      <td>2.594558</td>\n      <td>1.729705</td>\n      <td>0.864853</td>\n      <td>0.00</td>\n    </tr>\n    <tr>\n      <th>Grey hydrogen emissions [g CO2/MJ H2] - Norway</th>\n      <td>96.77</td>\n      <td>Own calculation @ GWP20</td>\n      <td>NaN</td>\n      <td>NaN</td>\n      <td>NaN</td>\n      <td>NaN</td>\n      <td>NaN</td>\n      <td>NaN</td>\n      <td>NaN</td>\n      <td>NaN</td>\n      <td>...</td>\n      <td>NaN</td>\n      <td>NaN</td>\n      <td>NaN</td>\n      <td>NaN</td>\n      <td>NaN</td>\n      <td>NaN</td>\n      <td>NaN</td>\n      <td>NaN</td>\n      <td>NaN</td>\n      <td>NaN</td>\n    </tr>\n    <tr>\n      <th>Grey hydrogen emissions [kg CO2/kg H2] - Norway</th>\n      <td>11.6124</td>\n      <td>Own calculation @ GWP20</td>\n      <td>NaN</td>\n      <td>NaN</td>\n      <td>NaN</td>\n      <td>NaN</td>\n      <td>NaN</td>\n      <td>NaN</td>\n      <td>NaN</td>\n      <td>NaN</td>\n      <td>...</td>\n      <td>NaN</td>\n      <td>NaN</td>\n      <td>NaN</td>\n      <td>NaN</td>\n      <td>NaN</td>\n      <td>NaN</td>\n      <td>NaN</td>\n      <td>NaN</td>\n      <td>NaN</td>\n      <td>NaN</td>\n    </tr>\n    <tr>\n      <th>Blue hydrogen emissions [g CO2/MJ H2] - Norway</th>\n      <td>NaN</td>\n      <td>Own calculation @ GWP20</td>\n      <td>NaN</td>\n      <td>NaN</td>\n      <td>NaN</td>\n      <td>NaN</td>\n      <td>NaN</td>\n      <td>NaN</td>\n      <td>NaN</td>\n      <td>NaN</td>\n      <td>...</td>\n      <td>25.499000</td>\n      <td>24.61800</td>\n      <td>23.737000</td>\n      <td>22.856000</td>\n      <td>21.975000</td>\n      <td>21.09400</td>\n      <td>20.213000</td>\n      <td>19.332000</td>\n      <td>18.451000</td>\n      <td>17.57</td>\n    </tr>\n    <tr>\n      <th>...</th>\n      <td>...</td>\n      <td>...</td>\n      <td>...</td>\n      <td>...</td>\n      <td>...</td>\n      <td>...</td>\n      <td>...</td>\n      <td>...</td>\n      <td>...</td>\n      <td>...</td>\n      <td>...</td>\n      <td>...</td>\n      <td>...</td>\n      <td>...</td>\n      <td>...</td>\n      <td>...</td>\n      <td>...</td>\n      <td>...</td>\n      <td>...</td>\n      <td>...</td>\n      <td>...</td>\n    </tr>\n    <tr>\n      <th>Hydrogen leakage</th>\n      <td>Predicted Emission Confidence level</td>\n      <td>Ref</td>\n      <td>NaN</td>\n      <td>NaN</td>\n      <td>NaN</td>\n      <td>NaN</td>\n      <td>NaN</td>\n      <td>NaN</td>\n      <td>NaN</td>\n      <td>NaN</td>\n      <td>...</td>\n      <td>NaN</td>\n      <td>NaN</td>\n      <td>NaN</td>\n      <td>NaN</td>\n      <td>NaN</td>\n      <td>NaN</td>\n      <td>NaN</td>\n      <td>NaN</td>\n      <td>NaN</td>\n      <td>NaN</td>\n    </tr>\n    <tr>\n      <th>Electrolytic H2 production [% of produced H2]</th>\n      <td>0.092</td>\n      <td>DOE 2022</td>\n      <td>NaN</td>\n      <td>NaN</td>\n      <td>NaN</td>\n      <td>NaN</td>\n      <td>NaN</td>\n      <td>NaN</td>\n      <td>NaN</td>\n      <td>NaN</td>\n      <td>...</td>\n      <td>NaN</td>\n      <td>NaN</td>\n      <td>NaN</td>\n      <td>NaN</td>\n      <td>NaN</td>\n      <td>NaN</td>\n      <td>NaN</td>\n      <td>NaN</td>\n      <td>NaN</td>\n      <td>NaN</td>\n    </tr>\n    <tr>\n      <th>Electrolytic H2 production [% of produced H2] w/ recombination</th>\n      <td>0.0052</td>\n      <td>DOE 2022</td>\n      <td>NaN</td>\n      <td>NaN</td>\n      <td>NaN</td>\n      <td>NaN</td>\n      <td>NaN</td>\n      <td>NaN</td>\n      <td>NaN</td>\n      <td>NaN</td>\n      <td>...</td>\n      <td>NaN</td>\n      <td>NaN</td>\n      <td>NaN</td>\n      <td>NaN</td>\n      <td>NaN</td>\n      <td>NaN</td>\n      <td>NaN</td>\n      <td>NaN</td>\n      <td>NaN</td>\n      <td>NaN</td>\n    </tr>\n    <tr>\n      <th>CCS enabled H2 production [% of produced H2]</th>\n      <td>0.005</td>\n      <td>DOE 2022</td>\n      <td>NaN</td>\n      <td>NaN</td>\n      <td>NaN</td>\n      <td>NaN</td>\n      <td>NaN</td>\n      <td>NaN</td>\n      <td>NaN</td>\n      <td>NaN</td>\n      <td>...</td>\n      <td>NaN</td>\n      <td>NaN</td>\n      <td>NaN</td>\n      <td>NaN</td>\n      <td>NaN</td>\n      <td>NaN</td>\n      <td>NaN</td>\n      <td>NaN</td>\n      <td>NaN</td>\n      <td>NaN</td>\n    </tr>\n    <tr>\n      <th>Large-scale transmission [% of transported hyodrogen]</th>\n      <td>0.0048</td>\n      <td>DOE 2022</td>\n      <td>NaN</td>\n      <td>NaN</td>\n      <td>NaN</td>\n      <td>NaN</td>\n      <td>NaN</td>\n      <td>NaN</td>\n      <td>NaN</td>\n      <td>NaN</td>\n      <td>...</td>\n      <td>NaN</td>\n      <td>NaN</td>\n      <td>NaN</td>\n      <td>NaN</td>\n      <td>NaN</td>\n      <td>NaN</td>\n      <td>NaN</td>\n      <td>NaN</td>\n      <td>NaN</td>\n      <td>NaN</td>\n    </tr>\n  </tbody>\n</table>\n<p>65 rows × 63 columns</p>\n</div>"
     },
     "execution_count": 187,
     "metadata": {},
     "output_type": "execute_result"
    }
   ],
   "source": [
    "GHG = pd.read_excel(path, sheet_name='GHG Footprint', decimal=',', index_col=0)\n",
    "GHG"
   ],
   "metadata": {
    "collapsed": false,
    "pycharm": {
     "name": "#%%\n"
    }
   }
  },
  {
   "cell_type": "code",
   "execution_count": 188,
   "outputs": [
    {
     "data": {
      "text/plain": "                                                        2020       2021  \\\nID                                                                        \nUnited_Arab_Emirates_Onshore_3_low_temp_baseline    7.083424   6.891298   \nUnited_Arab_Emirates_Offshore_1_low_temp_baseline  11.470109  11.104346   \nUnited_Arab_Emirates_Offshore_2_low_temp_baseline  15.518520  15.026419   \nUnited_Arab_Emirates_PV_2_low_temp_baseline         3.990183   3.815470   \nUnited_Arab_Emirates_PV_3_low_temp_baseline         4.167158   3.984340   \n...                                                      ...        ...   \nSouth_Africa_PV_4_low_temp_optimistic               4.776238   4.522432   \nSouth_Africa_Onshore_3_high_temp_optimistic         6.957099   6.651531   \nSouth_Africa_Offshore_1_high_temp_optimistic        6.420926   6.101068   \nSouth_Africa_Offshore_2_high_temp_optimistic        7.882887   7.502615   \nSouth_Africa_PV_4_high_temp_optimistic              8.301321   7.735446   \n\n                                                        2022       2023  \\\nID                                                                        \nUnited_Arab_Emirates_Onshore_3_low_temp_baseline    6.715543   6.552560   \nUnited_Arab_Emirates_Offshore_1_low_temp_baseline  10.787404  10.505314   \nUnited_Arab_Emirates_Offshore_2_low_temp_baseline  14.603391  14.229709   \nUnited_Arab_Emirates_PV_2_low_temp_baseline         3.659375   3.516671   \nUnited_Arab_Emirates_PV_3_low_temp_baseline         3.821167   3.672128   \n...                                                      ...        ...   \nSouth_Africa_PV_4_low_temp_optimistic               4.311259   4.130247   \nSouth_Africa_Onshore_3_high_temp_optimistic         6.361605   6.082880   \nSouth_Africa_Offshore_1_high_temp_optimistic        5.807786   5.532832   \nSouth_Africa_Offshore_2_high_temp_optimistic        7.158460   6.839487   \nSouth_Africa_PV_4_high_temp_optimistic              7.214757   6.725080   \n\n                                                        2024       2025  \\\nID                                                                        \nUnited_Arab_Emirates_Onshore_3_low_temp_baseline    6.399783   6.255316   \nUnited_Arab_Emirates_Offshore_1_low_temp_baseline  10.249265  10.013359   \nUnited_Arab_Emirates_Offshore_2_low_temp_baseline  13.892937  13.584745   \nUnited_Arab_Emirates_PV_2_low_temp_baseline         3.384029   3.259207   \nUnited_Arab_Emirates_PV_3_low_temp_baseline         3.533712   3.403554   \n...                                                      ...        ...   \nSouth_Africa_PV_4_low_temp_optimistic               3.971568   3.830018   \nSouth_Africa_Onshore_3_high_temp_optimistic         5.812121   5.546874   \nSouth_Africa_Offshore_1_high_temp_optimistic        5.271000   5.018783   \nSouth_Africa_Offshore_2_high_temp_optimistic        6.538808   6.251803   \nSouth_Africa_PV_4_high_temp_optimistic              6.257449   5.805842   \n\n                                                        2026       2027  \\\nID                                                                        \nUnited_Arab_Emirates_Onshore_3_low_temp_baseline    6.117722   5.985886   \nUnited_Arab_Emirates_Offshore_1_low_temp_baseline   9.793456   9.586545   \nUnited_Arab_Emirates_Offshore_2_low_temp_baseline  13.299293  13.032333   \nUnited_Arab_Emirates_PV_2_low_temp_baseline         3.140629   3.027147   \nUnited_Arab_Emirates_PV_3_low_temp_baseline         3.279992   3.161815   \n...                                                      ...        ...   \nSouth_Africa_PV_4_low_temp_optimistic               3.701980   3.584849   \nSouth_Africa_Onshore_3_high_temp_optimistic         5.285203   5.025533   \nSouth_Africa_Offshore_1_high_temp_optimistic        4.773702   4.533933   \nSouth_Africa_Offshore_2_high_temp_optimistic        5.975218   5.706671   \nSouth_Africa_PV_4_high_temp_optimistic              5.366024   4.934896   \n\n                                                        2028       2029  ...  \\\nID                                                                       ...   \nUnited_Arab_Emirates_Onshore_3_low_temp_baseline    5.858925   5.736129  ...   \nUnited_Arab_Emirates_Offshore_1_low_temp_baseline   9.390367   9.203187  ...   \nUnited_Arab_Emirates_Offshore_2_low_temp_baseline  12.780680  12.541890  ...   \nUnited_Arab_Emirates_PV_2_low_temp_baseline         2.917901   2.812232  ...   \nUnited_Arab_Emirates_PV_3_low_temp_baseline         3.048116   2.938202  ...   \n...                                                      ...        ...  ...   \nSouth_Africa_PV_4_low_temp_optimistic               3.476693   3.376044  ...   \nSouth_Africa_Onshore_3_high_temp_optimistic         4.766533   4.507054  ...   \nSouth_Africa_Offshore_1_high_temp_optimistic        4.298081   4.065056  ...   \nSouth_Africa_Offshore_2_high_temp_optimistic        5.444358   5.186877  ...   \nSouth_Africa_PV_4_high_temp_optimistic              4.510115   4.089858  ...   \n\n                                                       2041      2042  \\\nID                                                                      \nUnited_Arab_Emirates_Onshore_3_low_temp_baseline   4.691380  4.628208   \nUnited_Arab_Emirates_Offshore_1_low_temp_baseline  7.248224  7.116204   \nUnited_Arab_Emirates_Offshore_2_low_temp_baseline  9.892514  9.713566   \nUnited_Arab_Emirates_PV_2_low_temp_baseline        2.123259  2.077646   \nUnited_Arab_Emirates_PV_3_low_temp_baseline        2.218239  2.170581   \n...                                                     ...       ...   \nSouth_Africa_PV_4_low_temp_optimistic              2.316135  2.243911   \nSouth_Africa_Onshore_3_high_temp_optimistic        3.527896  3.479815   \nSouth_Africa_Offshore_1_high_temp_optimistic       3.044944  2.985666   \nSouth_Africa_Offshore_2_high_temp_optimistic       3.922605  3.847566   \nSouth_Africa_PV_4_high_temp_optimistic             2.785486  2.716458   \n\n                                                       2043      2044  \\\nID                                                                      \nUnited_Arab_Emirates_Onshore_3_low_temp_baseline   4.566471  4.512363   \nUnited_Arab_Emirates_Offshore_1_low_temp_baseline  6.992261  6.880684   \nUnited_Arab_Emirates_Offshore_2_low_temp_baseline  9.545998  9.395894   \nUnited_Arab_Emirates_PV_2_low_temp_baseline        2.033698  1.995168   \nUnited_Arab_Emirates_PV_3_low_temp_baseline        2.124678  2.084494   \n...                                                     ...       ...   \nSouth_Africa_PV_4_low_temp_optimistic              2.174816  2.115768   \nSouth_Africa_Onshore_3_high_temp_optimistic        3.432700  3.392380   \nSouth_Africa_Offshore_1_high_temp_optimistic       2.930034  2.880146   \nSouth_Africa_Offshore_2_high_temp_optimistic       3.777477  3.715198   \nSouth_Africa_PV_4_high_temp_optimistic             2.650047  2.592917   \n\n                                                       2045      2046  \\\nID                                                                      \nUnited_Arab_Emirates_Onshore_3_low_temp_baseline   4.403312  4.338001   \nUnited_Arab_Emirates_Offshore_1_low_temp_baseline  6.719989  6.607285   \nUnited_Arab_Emirates_Offshore_2_low_temp_baseline  9.176013  9.024151   \nUnited_Arab_Emirates_PV_2_low_temp_baseline        1.933859  1.891448   \nUnited_Arab_Emirates_PV_3_low_temp_baseline        2.020231  1.975935   \n...                                                     ...       ...   \nSouth_Africa_PV_4_low_temp_optimistic              2.014671  1.948563   \nSouth_Africa_Onshore_3_high_temp_optimistic        3.300107  3.248513   \nSouth_Africa_Offshore_1_high_temp_optimistic       2.806048  2.755060   \nSouth_Africa_Offshore_2_high_temp_optimistic       3.619913  3.556102   \nSouth_Africa_PV_4_high_temp_optimistic             2.495084  2.430448   \n\n                                                       2047      2048  \\\nID                                                                      \nUnited_Arab_Emirates_Onshore_3_low_temp_baseline   4.274817  4.213586   \nUnited_Arab_Emirates_Offshore_1_low_temp_baseline  6.500267  6.398248   \nUnited_Arab_Emirates_Offshore_2_low_temp_baseline  8.880277  8.743419   \nUnited_Arab_Emirates_PV_2_low_temp_baseline        1.850562  1.811050   \nUnited_Arab_Emirates_PV_3_low_temp_baseline        1.933247  1.892006   \n...                                                     ...       ...   \nSouth_Africa_PV_4_low_temp_optimistic              1.885225  1.824345   \nSouth_Africa_Onshore_3_high_temp_optimistic        3.198556  3.150082   \nSouth_Africa_Offshore_1_high_temp_optimistic       2.706577  2.660273   \nSouth_Africa_Offshore_2_high_temp_optimistic       3.495686  3.438224   \nSouth_Africa_PV_4_high_temp_optimistic             2.368174  2.307988   \n\n                                                       2049      2050  \nID                                                                     \nUnited_Arab_Emirates_Onshore_3_low_temp_baseline   4.154154  4.096389  \nUnited_Arab_Emirates_Offshore_1_low_temp_baseline  6.300666  6.207051  \nUnited_Arab_Emirates_Offshore_2_low_temp_baseline  8.612779  8.487690  \nUnited_Arab_Emirates_PV_2_low_temp_baseline        1.772783  1.735653  \nUnited_Arab_Emirates_PV_3_low_temp_baseline        1.852079  1.813348  \n...                                                     ...       ...  \nSouth_Africa_PV_4_low_temp_optimistic              1.765661  1.708951  \nSouth_Africa_Onshore_3_high_temp_optimistic        3.102956  3.057060  \nSouth_Africa_Offshore_1_high_temp_optimistic       2.615880  2.573177  \nSouth_Africa_Offshore_2_high_temp_optimistic       3.383351  3.330767  \nSouth_Africa_PV_4_high_temp_optimistic             2.249662  2.193002  \n\n[1660 rows x 31 columns]",
      "text/html": "<div>\n<style scoped>\n    .dataframe tbody tr th:only-of-type {\n        vertical-align: middle;\n    }\n\n    .dataframe tbody tr th {\n        vertical-align: top;\n    }\n\n    .dataframe thead th {\n        text-align: right;\n    }\n</style>\n<table border=\"1\" class=\"dataframe\">\n  <thead>\n    <tr style=\"text-align: right;\">\n      <th></th>\n      <th>2020</th>\n      <th>2021</th>\n      <th>2022</th>\n      <th>2023</th>\n      <th>2024</th>\n      <th>2025</th>\n      <th>2026</th>\n      <th>2027</th>\n      <th>2028</th>\n      <th>2029</th>\n      <th>...</th>\n      <th>2041</th>\n      <th>2042</th>\n      <th>2043</th>\n      <th>2044</th>\n      <th>2045</th>\n      <th>2046</th>\n      <th>2047</th>\n      <th>2048</th>\n      <th>2049</th>\n      <th>2050</th>\n    </tr>\n    <tr>\n      <th>ID</th>\n      <th></th>\n      <th></th>\n      <th></th>\n      <th></th>\n      <th></th>\n      <th></th>\n      <th></th>\n      <th></th>\n      <th></th>\n      <th></th>\n      <th></th>\n      <th></th>\n      <th></th>\n      <th></th>\n      <th></th>\n      <th></th>\n      <th></th>\n      <th></th>\n      <th></th>\n      <th></th>\n      <th></th>\n    </tr>\n  </thead>\n  <tbody>\n    <tr>\n      <th>United_Arab_Emirates_Onshore_3_low_temp_baseline</th>\n      <td>7.083424</td>\n      <td>6.891298</td>\n      <td>6.715543</td>\n      <td>6.552560</td>\n      <td>6.399783</td>\n      <td>6.255316</td>\n      <td>6.117722</td>\n      <td>5.985886</td>\n      <td>5.858925</td>\n      <td>5.736129</td>\n      <td>...</td>\n      <td>4.691380</td>\n      <td>4.628208</td>\n      <td>4.566471</td>\n      <td>4.512363</td>\n      <td>4.403312</td>\n      <td>4.338001</td>\n      <td>4.274817</td>\n      <td>4.213586</td>\n      <td>4.154154</td>\n      <td>4.096389</td>\n    </tr>\n    <tr>\n      <th>United_Arab_Emirates_Offshore_1_low_temp_baseline</th>\n      <td>11.470109</td>\n      <td>11.104346</td>\n      <td>10.787404</td>\n      <td>10.505314</td>\n      <td>10.249265</td>\n      <td>10.013359</td>\n      <td>9.793456</td>\n      <td>9.586545</td>\n      <td>9.390367</td>\n      <td>9.203187</td>\n      <td>...</td>\n      <td>7.248224</td>\n      <td>7.116204</td>\n      <td>6.992261</td>\n      <td>6.880684</td>\n      <td>6.719989</td>\n      <td>6.607285</td>\n      <td>6.500267</td>\n      <td>6.398248</td>\n      <td>6.300666</td>\n      <td>6.207051</td>\n    </tr>\n    <tr>\n      <th>United_Arab_Emirates_Offshore_2_low_temp_baseline</th>\n      <td>15.518520</td>\n      <td>15.026419</td>\n      <td>14.603391</td>\n      <td>14.229709</td>\n      <td>13.892937</td>\n      <td>13.584745</td>\n      <td>13.299293</td>\n      <td>13.032333</td>\n      <td>12.780680</td>\n      <td>12.541890</td>\n      <td>...</td>\n      <td>9.892514</td>\n      <td>9.713566</td>\n      <td>9.545998</td>\n      <td>9.395894</td>\n      <td>9.176013</td>\n      <td>9.024151</td>\n      <td>8.880277</td>\n      <td>8.743419</td>\n      <td>8.612779</td>\n      <td>8.487690</td>\n    </tr>\n    <tr>\n      <th>United_Arab_Emirates_PV_2_low_temp_baseline</th>\n      <td>3.990183</td>\n      <td>3.815470</td>\n      <td>3.659375</td>\n      <td>3.516671</td>\n      <td>3.384029</td>\n      <td>3.259207</td>\n      <td>3.140629</td>\n      <td>3.027147</td>\n      <td>2.917901</td>\n      <td>2.812232</td>\n      <td>...</td>\n      <td>2.123259</td>\n      <td>2.077646</td>\n      <td>2.033698</td>\n      <td>1.995168</td>\n      <td>1.933859</td>\n      <td>1.891448</td>\n      <td>1.850562</td>\n      <td>1.811050</td>\n      <td>1.772783</td>\n      <td>1.735653</td>\n    </tr>\n    <tr>\n      <th>United_Arab_Emirates_PV_3_low_temp_baseline</th>\n      <td>4.167158</td>\n      <td>3.984340</td>\n      <td>3.821167</td>\n      <td>3.672128</td>\n      <td>3.533712</td>\n      <td>3.403554</td>\n      <td>3.279992</td>\n      <td>3.161815</td>\n      <td>3.048116</td>\n      <td>2.938202</td>\n      <td>...</td>\n      <td>2.218239</td>\n      <td>2.170581</td>\n      <td>2.124678</td>\n      <td>2.084494</td>\n      <td>2.020231</td>\n      <td>1.975935</td>\n      <td>1.933247</td>\n      <td>1.892006</td>\n      <td>1.852079</td>\n      <td>1.813348</td>\n    </tr>\n    <tr>\n      <th>...</th>\n      <td>...</td>\n      <td>...</td>\n      <td>...</td>\n      <td>...</td>\n      <td>...</td>\n      <td>...</td>\n      <td>...</td>\n      <td>...</td>\n      <td>...</td>\n      <td>...</td>\n      <td>...</td>\n      <td>...</td>\n      <td>...</td>\n      <td>...</td>\n      <td>...</td>\n      <td>...</td>\n      <td>...</td>\n      <td>...</td>\n      <td>...</td>\n      <td>...</td>\n      <td>...</td>\n    </tr>\n    <tr>\n      <th>South_Africa_PV_4_low_temp_optimistic</th>\n      <td>4.776238</td>\n      <td>4.522432</td>\n      <td>4.311259</td>\n      <td>4.130247</td>\n      <td>3.971568</td>\n      <td>3.830018</td>\n      <td>3.701980</td>\n      <td>3.584849</td>\n      <td>3.476693</td>\n      <td>3.376044</td>\n      <td>...</td>\n      <td>2.316135</td>\n      <td>2.243911</td>\n      <td>2.174816</td>\n      <td>2.115768</td>\n      <td>2.014671</td>\n      <td>1.948563</td>\n      <td>1.885225</td>\n      <td>1.824345</td>\n      <td>1.765661</td>\n      <td>1.708951</td>\n    </tr>\n    <tr>\n      <th>South_Africa_Onshore_3_high_temp_optimistic</th>\n      <td>6.957099</td>\n      <td>6.651531</td>\n      <td>6.361605</td>\n      <td>6.082880</td>\n      <td>5.812121</td>\n      <td>5.546874</td>\n      <td>5.285203</td>\n      <td>5.025533</td>\n      <td>4.766533</td>\n      <td>4.507054</td>\n      <td>...</td>\n      <td>3.527896</td>\n      <td>3.479815</td>\n      <td>3.432700</td>\n      <td>3.392380</td>\n      <td>3.300107</td>\n      <td>3.248513</td>\n      <td>3.198556</td>\n      <td>3.150082</td>\n      <td>3.102956</td>\n      <td>3.057060</td>\n    </tr>\n    <tr>\n      <th>South_Africa_Offshore_1_high_temp_optimistic</th>\n      <td>6.420926</td>\n      <td>6.101068</td>\n      <td>5.807786</td>\n      <td>5.532832</td>\n      <td>5.271000</td>\n      <td>5.018783</td>\n      <td>4.773702</td>\n      <td>4.533933</td>\n      <td>4.298081</td>\n      <td>4.065056</td>\n      <td>...</td>\n      <td>3.044944</td>\n      <td>2.985666</td>\n      <td>2.930034</td>\n      <td>2.880146</td>\n      <td>2.806048</td>\n      <td>2.755060</td>\n      <td>2.706577</td>\n      <td>2.660273</td>\n      <td>2.615880</td>\n      <td>2.573177</td>\n    </tr>\n    <tr>\n      <th>South_Africa_Offshore_2_high_temp_optimistic</th>\n      <td>7.882887</td>\n      <td>7.502615</td>\n      <td>7.158460</td>\n      <td>6.839487</td>\n      <td>6.538808</td>\n      <td>6.251803</td>\n      <td>5.975218</td>\n      <td>5.706671</td>\n      <td>5.444358</td>\n      <td>5.186877</td>\n      <td>...</td>\n      <td>3.922605</td>\n      <td>3.847566</td>\n      <td>3.777477</td>\n      <td>3.715198</td>\n      <td>3.619913</td>\n      <td>3.556102</td>\n      <td>3.495686</td>\n      <td>3.438224</td>\n      <td>3.383351</td>\n      <td>3.330767</td>\n    </tr>\n    <tr>\n      <th>South_Africa_PV_4_high_temp_optimistic</th>\n      <td>8.301321</td>\n      <td>7.735446</td>\n      <td>7.214757</td>\n      <td>6.725080</td>\n      <td>6.257449</td>\n      <td>5.805842</td>\n      <td>5.366024</td>\n      <td>4.934896</td>\n      <td>4.510115</td>\n      <td>4.089858</td>\n      <td>...</td>\n      <td>2.785486</td>\n      <td>2.716458</td>\n      <td>2.650047</td>\n      <td>2.592917</td>\n      <td>2.495084</td>\n      <td>2.430448</td>\n      <td>2.368174</td>\n      <td>2.307988</td>\n      <td>2.249662</td>\n      <td>2.193002</td>\n    </tr>\n  </tbody>\n</table>\n<p>1660 rows × 31 columns</p>\n</div>"
     },
     "execution_count": 188,
     "metadata": {},
     "output_type": "execute_result"
    }
   ],
   "source": [
    "lcoh_green = pd.read_excel(path, sheet_name='LCOH_RES', decimal=',', index_col=0)\n",
    "lcoh_green"
   ],
   "metadata": {
    "collapsed": false,
    "pycharm": {
     "name": "#%%\n"
    }
   }
  },
  {
   "cell_type": "code",
   "execution_count": 189,
   "outputs": [
    {
     "data": {
      "text/plain": "       Norway_Onshore_2_low_temp_optimistic\nYears                                      \n2025                               2.491992\n2026                               2.440769\n2027                               2.392928\n2028                               2.347980\n2029                               2.305535\n2030                               2.265274\n2031                               2.205328\n2032                               2.157935\n2033                               2.112188\n2034                               2.068154\n2035                               2.026197\n2036                               1.985129\n2037                               1.945128\n2038                               1.908208\n2039                               1.871112\n2040                               1.834076\n2041                               1.801782\n2042                               1.770822\n2043                               1.740567\n2044                               1.714207\n2045                               1.659565\n2046                               1.627420\n2047                               1.596338\n2048                               1.566225\n2049                               1.536996\n2050                               1.508580",
      "text/html": "<div>\n<style scoped>\n    .dataframe tbody tr th:only-of-type {\n        vertical-align: middle;\n    }\n\n    .dataframe tbody tr th {\n        vertical-align: top;\n    }\n\n    .dataframe thead th {\n        text-align: right;\n    }\n</style>\n<table border=\"1\" class=\"dataframe\">\n  <thead>\n    <tr style=\"text-align: right;\">\n      <th></th>\n      <th>Norway_Onshore_2_low_temp_optimistic</th>\n    </tr>\n    <tr>\n      <th>Years</th>\n      <th></th>\n    </tr>\n  </thead>\n  <tbody>\n    <tr>\n      <th>2025</th>\n      <td>2.491992</td>\n    </tr>\n    <tr>\n      <th>2026</th>\n      <td>2.440769</td>\n    </tr>\n    <tr>\n      <th>2027</th>\n      <td>2.392928</td>\n    </tr>\n    <tr>\n      <th>2028</th>\n      <td>2.347980</td>\n    </tr>\n    <tr>\n      <th>2029</th>\n      <td>2.305535</td>\n    </tr>\n    <tr>\n      <th>2030</th>\n      <td>2.265274</td>\n    </tr>\n    <tr>\n      <th>2031</th>\n      <td>2.205328</td>\n    </tr>\n    <tr>\n      <th>2032</th>\n      <td>2.157935</td>\n    </tr>\n    <tr>\n      <th>2033</th>\n      <td>2.112188</td>\n    </tr>\n    <tr>\n      <th>2034</th>\n      <td>2.068154</td>\n    </tr>\n    <tr>\n      <th>2035</th>\n      <td>2.026197</td>\n    </tr>\n    <tr>\n      <th>2036</th>\n      <td>1.985129</td>\n    </tr>\n    <tr>\n      <th>2037</th>\n      <td>1.945128</td>\n    </tr>\n    <tr>\n      <th>2038</th>\n      <td>1.908208</td>\n    </tr>\n    <tr>\n      <th>2039</th>\n      <td>1.871112</td>\n    </tr>\n    <tr>\n      <th>2040</th>\n      <td>1.834076</td>\n    </tr>\n    <tr>\n      <th>2041</th>\n      <td>1.801782</td>\n    </tr>\n    <tr>\n      <th>2042</th>\n      <td>1.770822</td>\n    </tr>\n    <tr>\n      <th>2043</th>\n      <td>1.740567</td>\n    </tr>\n    <tr>\n      <th>2044</th>\n      <td>1.714207</td>\n    </tr>\n    <tr>\n      <th>2045</th>\n      <td>1.659565</td>\n    </tr>\n    <tr>\n      <th>2046</th>\n      <td>1.627420</td>\n    </tr>\n    <tr>\n      <th>2047</th>\n      <td>1.596338</td>\n    </tr>\n    <tr>\n      <th>2048</th>\n      <td>1.566225</td>\n    </tr>\n    <tr>\n      <th>2049</th>\n      <td>1.536996</td>\n    </tr>\n    <tr>\n      <th>2050</th>\n      <td>1.508580</td>\n    </tr>\n  </tbody>\n</table>\n</div>"
     },
     "execution_count": 189,
     "metadata": {},
     "output_type": "execute_result"
    }
   ],
   "source": [
    "lowest_green = ((lcoh_green.loc['Norway_Onshore_2_low_temp_optimistic', 2025:2050]).mul(0.89))\n",
    "lowest_green = pd.DataFrame(lowest_green)\n",
    "lowest_green.index.name = 'Years'\n",
    "lowest_green"
   ],
   "metadata": {
    "collapsed": false,
    "pycharm": {
     "name": "#%%\n"
    }
   }
  },
  {
   "cell_type": "code",
   "execution_count": 190,
   "outputs": [
    {
     "data": {
      "text/plain": "       LCOH_BLUE\nYears           \n2025    2.589820\n2026    2.373447\n2027    2.155720\n2028    1.821652\n2029    1.831196\n2030    1.839387\n2031    1.856517\n2032    1.872223\n2033    1.886502\n2034    1.899351\n2035    1.910768\n2036    1.920750\n2037    1.929296\n2038    1.936403\n2039    1.942068\n2040    1.946291\n2041    1.940501\n2042    1.933856\n2043    1.926355\n2044    1.917997\n2045    1.908779\n2046    1.898193\n2047    1.886788\n2048    1.874562\n2049    1.861514\n2050    1.839630",
      "text/html": "<div>\n<style scoped>\n    .dataframe tbody tr th:only-of-type {\n        vertical-align: middle;\n    }\n\n    .dataframe tbody tr th {\n        vertical-align: top;\n    }\n\n    .dataframe thead th {\n        text-align: right;\n    }\n</style>\n<table border=\"1\" class=\"dataframe\">\n  <thead>\n    <tr style=\"text-align: right;\">\n      <th></th>\n      <th>LCOH_BLUE</th>\n    </tr>\n    <tr>\n      <th>Years</th>\n      <th></th>\n    </tr>\n  </thead>\n  <tbody>\n    <tr>\n      <th>2025</th>\n      <td>2.589820</td>\n    </tr>\n    <tr>\n      <th>2026</th>\n      <td>2.373447</td>\n    </tr>\n    <tr>\n      <th>2027</th>\n      <td>2.155720</td>\n    </tr>\n    <tr>\n      <th>2028</th>\n      <td>1.821652</td>\n    </tr>\n    <tr>\n      <th>2029</th>\n      <td>1.831196</td>\n    </tr>\n    <tr>\n      <th>2030</th>\n      <td>1.839387</td>\n    </tr>\n    <tr>\n      <th>2031</th>\n      <td>1.856517</td>\n    </tr>\n    <tr>\n      <th>2032</th>\n      <td>1.872223</td>\n    </tr>\n    <tr>\n      <th>2033</th>\n      <td>1.886502</td>\n    </tr>\n    <tr>\n      <th>2034</th>\n      <td>1.899351</td>\n    </tr>\n    <tr>\n      <th>2035</th>\n      <td>1.910768</td>\n    </tr>\n    <tr>\n      <th>2036</th>\n      <td>1.920750</td>\n    </tr>\n    <tr>\n      <th>2037</th>\n      <td>1.929296</td>\n    </tr>\n    <tr>\n      <th>2038</th>\n      <td>1.936403</td>\n    </tr>\n    <tr>\n      <th>2039</th>\n      <td>1.942068</td>\n    </tr>\n    <tr>\n      <th>2040</th>\n      <td>1.946291</td>\n    </tr>\n    <tr>\n      <th>2041</th>\n      <td>1.940501</td>\n    </tr>\n    <tr>\n      <th>2042</th>\n      <td>1.933856</td>\n    </tr>\n    <tr>\n      <th>2043</th>\n      <td>1.926355</td>\n    </tr>\n    <tr>\n      <th>2044</th>\n      <td>1.917997</td>\n    </tr>\n    <tr>\n      <th>2045</th>\n      <td>1.908779</td>\n    </tr>\n    <tr>\n      <th>2046</th>\n      <td>1.898193</td>\n    </tr>\n    <tr>\n      <th>2047</th>\n      <td>1.886788</td>\n    </tr>\n    <tr>\n      <th>2048</th>\n      <td>1.874562</td>\n    </tr>\n    <tr>\n      <th>2049</th>\n      <td>1.861514</td>\n    </tr>\n    <tr>\n      <th>2050</th>\n      <td>1.839630</td>\n    </tr>\n  </tbody>\n</table>\n</div>"
     },
     "execution_count": 190,
     "metadata": {},
     "output_type": "execute_result"
    }
   ],
   "source": [
    "lcoh_blue = pd.read_csv(\"/Users/jakob/PycharmProjects/H2_pathways_repo/data/processed/LCOH_NGR.csv\", delimiter=';', index_col=0)\n",
    "lcoh_blue"
   ],
   "metadata": {
    "collapsed": false,
    "pycharm": {
     "name": "#%%\n"
    }
   }
  },
  {
   "cell_type": "markdown",
   "source": [
    "# Green production emissions"
   ],
   "metadata": {
    "collapsed": false,
    "pycharm": {
     "name": "#%% md\n"
    }
   }
  },
  {
   "cell_type": "code",
   "execution_count": 191,
   "outputs": [
    {
     "data": {
      "text/plain": "0.0052"
     },
     "execution_count": 191,
     "metadata": {},
     "output_type": "execute_result"
    }
   ],
   "source": [
    "# in percent of hydrogen produced\n",
    "green_prod_leakage = GHG.loc['Electrolytic H2 production [% of produced H2] w/ recombination', 'Value']\n",
    "green_prod_leakage"
   ],
   "metadata": {
    "collapsed": false,
    "pycharm": {
     "name": "#%%\n"
    }
   }
  },
  {
   "cell_type": "code",
   "execution_count": 192,
   "outputs": [
    {
     "data": {
      "text/plain": "0.005"
     },
     "execution_count": 192,
     "metadata": {},
     "output_type": "execute_result"
    }
   ],
   "source": [
    "# in percent of hydrogen produced\n",
    "blue_prod_leakage = GHG.loc['CCS enabled H2 production [% of produced H2]', 'Value']\n",
    "blue_prod_leakage"
   ],
   "metadata": {
    "collapsed": false,
    "pycharm": {
     "name": "#%%\n"
    }
   }
  },
  {
   "cell_type": "code",
   "execution_count": 193,
   "outputs": [
    {
     "data": {
      "text/plain": "33"
     },
     "execution_count": 193,
     "metadata": {},
     "output_type": "execute_result"
    }
   ],
   "source": [
    "GWP20_H2 = GHG.loc['H2 GWP20', 'Value']\n",
    "GWP20_H2"
   ],
   "metadata": {
    "collapsed": false,
    "pycharm": {
     "name": "#%%\n"
    }
   }
  },
  {
   "cell_type": "code",
   "execution_count": 194,
   "outputs": [],
   "source": [
    "years = np.arange(2025, 2051)\n",
    "result = pd.DataFrame(index=years, columns=['Green_production_emissions'])\n",
    "result.index.name = 'Years'"
   ],
   "metadata": {
    "collapsed": false,
    "pycharm": {
     "name": "#%%\n"
    }
   }
  },
  {
   "cell_type": "code",
   "execution_count": 195,
   "outputs": [
    {
     "data": {
      "text/plain": "0.1716"
     },
     "execution_count": 195,
     "metadata": {},
     "output_type": "execute_result"
    }
   ],
   "source": [
    "# Emissions from green hydrogen production in kg CO2eq/kg H2\n",
    "green_emissions = 1 * green_prod_leakage * GWP20_H2\n",
    "green_emissions"
   ],
   "metadata": {
    "collapsed": false,
    "pycharm": {
     "name": "#%%\n"
    }
   }
  },
  {
   "cell_type": "code",
   "execution_count": 196,
   "outputs": [
    {
     "data": {
      "text/plain": "      Green_production_emissions\nYears                           \n2025                      0.1716\n2026                      0.1716\n2027                      0.1716\n2028                      0.1716\n2029                      0.1716\n2030                      0.1716\n2031                      0.1716\n2032                      0.1716\n2033                      0.1716\n2034                      0.1716\n2035                      0.1716\n2036                      0.1716\n2037                      0.1716\n2038                      0.1716\n2039                      0.1716\n2040                      0.1716\n2041                      0.1716\n2042                      0.1716\n2043                      0.1716\n2044                      0.1716\n2045                      0.1716\n2046                      0.1716\n2047                      0.1716\n2048                      0.1716\n2049                      0.1716\n2050                      0.1716",
      "text/html": "<div>\n<style scoped>\n    .dataframe tbody tr th:only-of-type {\n        vertical-align: middle;\n    }\n\n    .dataframe tbody tr th {\n        vertical-align: top;\n    }\n\n    .dataframe thead th {\n        text-align: right;\n    }\n</style>\n<table border=\"1\" class=\"dataframe\">\n  <thead>\n    <tr style=\"text-align: right;\">\n      <th></th>\n      <th>Green_production_emissions</th>\n    </tr>\n    <tr>\n      <th>Years</th>\n      <th></th>\n    </tr>\n  </thead>\n  <tbody>\n    <tr>\n      <th>2025</th>\n      <td>0.1716</td>\n    </tr>\n    <tr>\n      <th>2026</th>\n      <td>0.1716</td>\n    </tr>\n    <tr>\n      <th>2027</th>\n      <td>0.1716</td>\n    </tr>\n    <tr>\n      <th>2028</th>\n      <td>0.1716</td>\n    </tr>\n    <tr>\n      <th>2029</th>\n      <td>0.1716</td>\n    </tr>\n    <tr>\n      <th>2030</th>\n      <td>0.1716</td>\n    </tr>\n    <tr>\n      <th>2031</th>\n      <td>0.1716</td>\n    </tr>\n    <tr>\n      <th>2032</th>\n      <td>0.1716</td>\n    </tr>\n    <tr>\n      <th>2033</th>\n      <td>0.1716</td>\n    </tr>\n    <tr>\n      <th>2034</th>\n      <td>0.1716</td>\n    </tr>\n    <tr>\n      <th>2035</th>\n      <td>0.1716</td>\n    </tr>\n    <tr>\n      <th>2036</th>\n      <td>0.1716</td>\n    </tr>\n    <tr>\n      <th>2037</th>\n      <td>0.1716</td>\n    </tr>\n    <tr>\n      <th>2038</th>\n      <td>0.1716</td>\n    </tr>\n    <tr>\n      <th>2039</th>\n      <td>0.1716</td>\n    </tr>\n    <tr>\n      <th>2040</th>\n      <td>0.1716</td>\n    </tr>\n    <tr>\n      <th>2041</th>\n      <td>0.1716</td>\n    </tr>\n    <tr>\n      <th>2042</th>\n      <td>0.1716</td>\n    </tr>\n    <tr>\n      <th>2043</th>\n      <td>0.1716</td>\n    </tr>\n    <tr>\n      <th>2044</th>\n      <td>0.1716</td>\n    </tr>\n    <tr>\n      <th>2045</th>\n      <td>0.1716</td>\n    </tr>\n    <tr>\n      <th>2046</th>\n      <td>0.1716</td>\n    </tr>\n    <tr>\n      <th>2047</th>\n      <td>0.1716</td>\n    </tr>\n    <tr>\n      <th>2048</th>\n      <td>0.1716</td>\n    </tr>\n    <tr>\n      <th>2049</th>\n      <td>0.1716</td>\n    </tr>\n    <tr>\n      <th>2050</th>\n      <td>0.1716</td>\n    </tr>\n  </tbody>\n</table>\n</div>"
     },
     "execution_count": 196,
     "metadata": {},
     "output_type": "execute_result"
    }
   ],
   "source": [
    "for year in years:\n",
    "    result.Green_production_emissions[year] = green_emissions\n",
    "\n",
    "result"
   ],
   "metadata": {
    "collapsed": false,
    "pycharm": {
     "name": "#%%\n"
    }
   }
  },
  {
   "cell_type": "code",
   "execution_count": 197,
   "outputs": [],
   "source": [
    "# export result to excel\n",
    "writer = pd.ExcelWriter(path, engine='openpyxl', mode='a', if_sheet_exists='overlay')\n",
    "book = load_workbook(path)\n",
    "writer.book = book\n",
    "writer.sheets = dict((ws.title, ws) for ws in book.worksheets)\n",
    "\n",
    "ws = book['Reference Results']\n",
    "\n",
    "result.to_excel(writer, sheet_name='Reference Results', index=False, startcol=ws.max_column)\n",
    "book.save(path)\n",
    "book.close()"
   ],
   "metadata": {
    "collapsed": false,
    "pycharm": {
     "name": "#%%\n"
    }
   }
  },
  {
   "cell_type": "code",
   "execution_count": 198,
   "outputs": [],
   "source": [
    "# Create csv file from results dataframe\n",
    "path_csv = r'/Users/jakob/PycharmProjects/H2_pathways_repo/data/processed'\n",
    "output_file = os.path.join(path_csv, 'Green_production_emissions.csv')\n",
    "result.to_csv(output_file, sep=';')"
   ],
   "metadata": {
    "collapsed": false,
    "pycharm": {
     "name": "#%%\n"
    }
   }
  },
  {
   "cell_type": "markdown",
   "source": [
    "# Blue production emissions"
   ],
   "metadata": {
    "collapsed": false,
    "pycharm": {
     "name": "#%% md\n"
    }
   }
  },
  {
   "cell_type": "code",
   "execution_count": 216,
   "outputs": [
    {
     "data": {
      "text/plain": "     Blue hydrogen emissions [kg CO2/kg H2] - Norway\n2025                                          4.7514\n2026                                         4.64568\n2027                                         4.53996\n2028                                         4.43424\n2029                                         4.32852\n2030                                          4.2228\n2031                                         4.11708\n2032                                         4.01136\n2033                                         3.90564\n2034                                         3.79992\n2035                                          3.6942\n2036                                         3.58848\n2037                                         3.48276\n2038                                         3.37704\n2039                                         3.27132\n2040                                          3.1656\n2041                                         3.05988\n2042                                         2.95416\n2043                                         2.84844\n2044                                         2.74272\n2045                                           2.637\n2046                                         2.53128\n2047                                         2.42556\n2048                                         2.31984\n2049                                         2.21412\n2050                                          2.1084",
      "text/html": "<div>\n<style scoped>\n    .dataframe tbody tr th:only-of-type {\n        vertical-align: middle;\n    }\n\n    .dataframe tbody tr th {\n        vertical-align: top;\n    }\n\n    .dataframe thead th {\n        text-align: right;\n    }\n</style>\n<table border=\"1\" class=\"dataframe\">\n  <thead>\n    <tr style=\"text-align: right;\">\n      <th></th>\n      <th>Blue hydrogen emissions [kg CO2/kg H2] - Norway</th>\n    </tr>\n  </thead>\n  <tbody>\n    <tr>\n      <th>2025</th>\n      <td>4.7514</td>\n    </tr>\n    <tr>\n      <th>2026</th>\n      <td>4.64568</td>\n    </tr>\n    <tr>\n      <th>2027</th>\n      <td>4.53996</td>\n    </tr>\n    <tr>\n      <th>2028</th>\n      <td>4.43424</td>\n    </tr>\n    <tr>\n      <th>2029</th>\n      <td>4.32852</td>\n    </tr>\n    <tr>\n      <th>2030</th>\n      <td>4.2228</td>\n    </tr>\n    <tr>\n      <th>2031</th>\n      <td>4.11708</td>\n    </tr>\n    <tr>\n      <th>2032</th>\n      <td>4.01136</td>\n    </tr>\n    <tr>\n      <th>2033</th>\n      <td>3.90564</td>\n    </tr>\n    <tr>\n      <th>2034</th>\n      <td>3.79992</td>\n    </tr>\n    <tr>\n      <th>2035</th>\n      <td>3.6942</td>\n    </tr>\n    <tr>\n      <th>2036</th>\n      <td>3.58848</td>\n    </tr>\n    <tr>\n      <th>2037</th>\n      <td>3.48276</td>\n    </tr>\n    <tr>\n      <th>2038</th>\n      <td>3.37704</td>\n    </tr>\n    <tr>\n      <th>2039</th>\n      <td>3.27132</td>\n    </tr>\n    <tr>\n      <th>2040</th>\n      <td>3.1656</td>\n    </tr>\n    <tr>\n      <th>2041</th>\n      <td>3.05988</td>\n    </tr>\n    <tr>\n      <th>2042</th>\n      <td>2.95416</td>\n    </tr>\n    <tr>\n      <th>2043</th>\n      <td>2.84844</td>\n    </tr>\n    <tr>\n      <th>2044</th>\n      <td>2.74272</td>\n    </tr>\n    <tr>\n      <th>2045</th>\n      <td>2.637</td>\n    </tr>\n    <tr>\n      <th>2046</th>\n      <td>2.53128</td>\n    </tr>\n    <tr>\n      <th>2047</th>\n      <td>2.42556</td>\n    </tr>\n    <tr>\n      <th>2048</th>\n      <td>2.31984</td>\n    </tr>\n    <tr>\n      <th>2049</th>\n      <td>2.21412</td>\n    </tr>\n    <tr>\n      <th>2050</th>\n      <td>2.1084</td>\n    </tr>\n  </tbody>\n</table>\n</div>"
     },
     "execution_count": 216,
     "metadata": {},
     "output_type": "execute_result"
    }
   ],
   "source": [
    "blue_emissions = (GHG.loc['Blue hydrogen emissions [kg CO2/kg H2] - Norway', 2025:2050])\n",
    "x = pd.DataFrame(blue_emissions)\n",
    "x"
   ],
   "metadata": {
    "collapsed": false,
    "pycharm": {
     "name": "#%%\n"
    }
   }
  },
  {
   "cell_type": "code",
   "execution_count": 219,
   "outputs": [
    {
     "data": {
      "text/plain": "     Blue hydrogen emissions [kg CO2/kg H2] - Norway\n2025                                          4.9164\n2026                                         4.81068\n2027                                         4.70496\n2028                                         4.59924\n2029                                         4.49352\n2030                                          4.3878\n2031                                         4.28208\n2032                                         4.17636\n2033                                         4.07064\n2034                                         3.96492\n2035                                          3.8592\n2036                                         3.75348\n2037                                         3.64776\n2038                                         3.54204\n2039                                         3.43632\n2040                                          3.3306\n2041                                         3.22488\n2042                                         3.11916\n2043                                         3.01344\n2044                                         2.90772\n2045                                           2.802\n2046                                         2.69628\n2047                                         2.59056\n2048                                         2.48484\n2049                                         2.37912\n2050                                          2.2734",
      "text/html": "<div>\n<style scoped>\n    .dataframe tbody tr th:only-of-type {\n        vertical-align: middle;\n    }\n\n    .dataframe tbody tr th {\n        vertical-align: top;\n    }\n\n    .dataframe thead th {\n        text-align: right;\n    }\n</style>\n<table border=\"1\" class=\"dataframe\">\n  <thead>\n    <tr style=\"text-align: right;\">\n      <th></th>\n      <th>Blue hydrogen emissions [kg CO2/kg H2] - Norway</th>\n    </tr>\n  </thead>\n  <tbody>\n    <tr>\n      <th>2025</th>\n      <td>4.9164</td>\n    </tr>\n    <tr>\n      <th>2026</th>\n      <td>4.81068</td>\n    </tr>\n    <tr>\n      <th>2027</th>\n      <td>4.70496</td>\n    </tr>\n    <tr>\n      <th>2028</th>\n      <td>4.59924</td>\n    </tr>\n    <tr>\n      <th>2029</th>\n      <td>4.49352</td>\n    </tr>\n    <tr>\n      <th>2030</th>\n      <td>4.3878</td>\n    </tr>\n    <tr>\n      <th>2031</th>\n      <td>4.28208</td>\n    </tr>\n    <tr>\n      <th>2032</th>\n      <td>4.17636</td>\n    </tr>\n    <tr>\n      <th>2033</th>\n      <td>4.07064</td>\n    </tr>\n    <tr>\n      <th>2034</th>\n      <td>3.96492</td>\n    </tr>\n    <tr>\n      <th>2035</th>\n      <td>3.8592</td>\n    </tr>\n    <tr>\n      <th>2036</th>\n      <td>3.75348</td>\n    </tr>\n    <tr>\n      <th>2037</th>\n      <td>3.64776</td>\n    </tr>\n    <tr>\n      <th>2038</th>\n      <td>3.54204</td>\n    </tr>\n    <tr>\n      <th>2039</th>\n      <td>3.43632</td>\n    </tr>\n    <tr>\n      <th>2040</th>\n      <td>3.3306</td>\n    </tr>\n    <tr>\n      <th>2041</th>\n      <td>3.22488</td>\n    </tr>\n    <tr>\n      <th>2042</th>\n      <td>3.11916</td>\n    </tr>\n    <tr>\n      <th>2043</th>\n      <td>3.01344</td>\n    </tr>\n    <tr>\n      <th>2044</th>\n      <td>2.90772</td>\n    </tr>\n    <tr>\n      <th>2045</th>\n      <td>2.802</td>\n    </tr>\n    <tr>\n      <th>2046</th>\n      <td>2.69628</td>\n    </tr>\n    <tr>\n      <th>2047</th>\n      <td>2.59056</td>\n    </tr>\n    <tr>\n      <th>2048</th>\n      <td>2.48484</td>\n    </tr>\n    <tr>\n      <th>2049</th>\n      <td>2.37912</td>\n    </tr>\n    <tr>\n      <th>2050</th>\n      <td>2.2734</td>\n    </tr>\n  </tbody>\n</table>\n</div>"
     },
     "execution_count": 219,
     "metadata": {},
     "output_type": "execute_result"
    }
   ],
   "source": [
    "# Emissions from blue hydrogen including h2 leakage\n",
    "result = x.add(1*blue_prod_leakage*GWP20_H2)\n",
    "result"
   ],
   "metadata": {
    "collapsed": false,
    "pycharm": {
     "name": "#%%\n"
    }
   }
  },
  {
   "cell_type": "code",
   "execution_count": 220,
   "outputs": [],
   "source": [
    "# Create csv file from results dataframe\n",
    "path_csv = r'/Users/jakob/PycharmProjects/H2_pathways_repo/data/processed'\n",
    "output_file = os.path.join(path_csv, 'Blue_production_emissions_H2_leakage.csv')\n",
    "result.to_csv(output_file, sep=';')"
   ],
   "metadata": {
    "collapsed": false,
    "pycharm": {
     "name": "#%%\n"
    }
   }
  },
  {
   "cell_type": "code",
   "execution_count": 221,
   "outputs": [],
   "source": [
    "# export result to excel\n",
    "writer = pd.ExcelWriter(path, engine='openpyxl', mode='a', if_sheet_exists='overlay')\n",
    "book = load_workbook(path)\n",
    "writer.book = book\n",
    "writer.sheets = dict((ws.title, ws) for ws in book.worksheets)\n",
    "\n",
    "ws = book['Reference Results']\n",
    "\n",
    "result.to_excel(writer, sheet_name='Reference Results', index=False, startcol=ws.max_column)\n",
    "book.save(path)\n",
    "book.close()"
   ],
   "metadata": {
    "collapsed": false,
    "pycharm": {
     "name": "#%%\n"
    }
   }
  },
  {
   "cell_type": "code",
   "execution_count": 202,
   "outputs": [
    {
     "data": {
      "text/plain": "       Green_production_emissions\nYears                            \n2025                       0.1716\n2026                       0.1716\n2027                       0.1716\n2028                       0.1716\n2029                       0.1716\n2030                       0.1716\n2031                       0.1716\n2032                       0.1716\n2033                       0.1716\n2034                       0.1716\n2035                       0.1716\n2036                       0.1716\n2037                       0.1716\n2038                       0.1716\n2039                       0.1716\n2040                       0.1716\n2041                       0.1716\n2042                       0.1716\n2043                       0.1716\n2044                       0.1716\n2045                       0.1716\n2046                       0.1716\n2047                       0.1716\n2048                       0.1716\n2049                       0.1716\n2050                       0.1716",
      "text/html": "<div>\n<style scoped>\n    .dataframe tbody tr th:only-of-type {\n        vertical-align: middle;\n    }\n\n    .dataframe tbody tr th {\n        vertical-align: top;\n    }\n\n    .dataframe thead th {\n        text-align: right;\n    }\n</style>\n<table border=\"1\" class=\"dataframe\">\n  <thead>\n    <tr style=\"text-align: right;\">\n      <th></th>\n      <th>Green_production_emissions</th>\n    </tr>\n    <tr>\n      <th>Years</th>\n      <th></th>\n    </tr>\n  </thead>\n  <tbody>\n    <tr>\n      <th>2025</th>\n      <td>0.1716</td>\n    </tr>\n    <tr>\n      <th>2026</th>\n      <td>0.1716</td>\n    </tr>\n    <tr>\n      <th>2027</th>\n      <td>0.1716</td>\n    </tr>\n    <tr>\n      <th>2028</th>\n      <td>0.1716</td>\n    </tr>\n    <tr>\n      <th>2029</th>\n      <td>0.1716</td>\n    </tr>\n    <tr>\n      <th>2030</th>\n      <td>0.1716</td>\n    </tr>\n    <tr>\n      <th>2031</th>\n      <td>0.1716</td>\n    </tr>\n    <tr>\n      <th>2032</th>\n      <td>0.1716</td>\n    </tr>\n    <tr>\n      <th>2033</th>\n      <td>0.1716</td>\n    </tr>\n    <tr>\n      <th>2034</th>\n      <td>0.1716</td>\n    </tr>\n    <tr>\n      <th>2035</th>\n      <td>0.1716</td>\n    </tr>\n    <tr>\n      <th>2036</th>\n      <td>0.1716</td>\n    </tr>\n    <tr>\n      <th>2037</th>\n      <td>0.1716</td>\n    </tr>\n    <tr>\n      <th>2038</th>\n      <td>0.1716</td>\n    </tr>\n    <tr>\n      <th>2039</th>\n      <td>0.1716</td>\n    </tr>\n    <tr>\n      <th>2040</th>\n      <td>0.1716</td>\n    </tr>\n    <tr>\n      <th>2041</th>\n      <td>0.1716</td>\n    </tr>\n    <tr>\n      <th>2042</th>\n      <td>0.1716</td>\n    </tr>\n    <tr>\n      <th>2043</th>\n      <td>0.1716</td>\n    </tr>\n    <tr>\n      <th>2044</th>\n      <td>0.1716</td>\n    </tr>\n    <tr>\n      <th>2045</th>\n      <td>0.1716</td>\n    </tr>\n    <tr>\n      <th>2046</th>\n      <td>0.1716</td>\n    </tr>\n    <tr>\n      <th>2047</th>\n      <td>0.1716</td>\n    </tr>\n    <tr>\n      <th>2048</th>\n      <td>0.1716</td>\n    </tr>\n    <tr>\n      <th>2049</th>\n      <td>0.1716</td>\n    </tr>\n    <tr>\n      <th>2050</th>\n      <td>0.1716</td>\n    </tr>\n  </tbody>\n</table>\n</div>"
     },
     "execution_count": 202,
     "metadata": {},
     "output_type": "execute_result"
    }
   ],
   "source": [
    "Green_production_emissions = pd.read_csv('/Users/jakob/PycharmProjects/H2_pathways_repo/data/processed/Green_production_emissions.csv', delimiter = ';', index_col=0)\n",
    "Green_production_emissions"
   ],
   "metadata": {
    "collapsed": false,
    "pycharm": {
     "name": "#%%\n"
    }
   }
  },
  {
   "cell_type": "code",
   "execution_count": 203,
   "outputs": [
    {
     "data": {
      "text/plain": "      Emissions\nYears          \n2025        NaN\n2026        NaN\n2027        NaN\n2028        NaN\n2029        NaN\n2030        NaN\n2031        NaN\n2032        NaN\n2033        NaN\n2034        NaN\n2035        NaN\n2036        NaN\n2037        NaN\n2038        NaN\n2039        NaN\n2040        NaN\n2041        NaN\n2042        NaN\n2043        NaN\n2044        NaN\n2045        NaN\n2046        NaN\n2047        NaN\n2048        NaN\n2049        NaN\n2050        NaN",
      "text/html": "<div>\n<style scoped>\n    .dataframe tbody tr th:only-of-type {\n        vertical-align: middle;\n    }\n\n    .dataframe tbody tr th {\n        vertical-align: top;\n    }\n\n    .dataframe thead th {\n        text-align: right;\n    }\n</style>\n<table border=\"1\" class=\"dataframe\">\n  <thead>\n    <tr style=\"text-align: right;\">\n      <th></th>\n      <th>Emissions</th>\n    </tr>\n    <tr>\n      <th>Years</th>\n      <th></th>\n    </tr>\n  </thead>\n  <tbody>\n    <tr>\n      <th>2025</th>\n      <td>NaN</td>\n    </tr>\n    <tr>\n      <th>2026</th>\n      <td>NaN</td>\n    </tr>\n    <tr>\n      <th>2027</th>\n      <td>NaN</td>\n    </tr>\n    <tr>\n      <th>2028</th>\n      <td>NaN</td>\n    </tr>\n    <tr>\n      <th>2029</th>\n      <td>NaN</td>\n    </tr>\n    <tr>\n      <th>2030</th>\n      <td>NaN</td>\n    </tr>\n    <tr>\n      <th>2031</th>\n      <td>NaN</td>\n    </tr>\n    <tr>\n      <th>2032</th>\n      <td>NaN</td>\n    </tr>\n    <tr>\n      <th>2033</th>\n      <td>NaN</td>\n    </tr>\n    <tr>\n      <th>2034</th>\n      <td>NaN</td>\n    </tr>\n    <tr>\n      <th>2035</th>\n      <td>NaN</td>\n    </tr>\n    <tr>\n      <th>2036</th>\n      <td>NaN</td>\n    </tr>\n    <tr>\n      <th>2037</th>\n      <td>NaN</td>\n    </tr>\n    <tr>\n      <th>2038</th>\n      <td>NaN</td>\n    </tr>\n    <tr>\n      <th>2039</th>\n      <td>NaN</td>\n    </tr>\n    <tr>\n      <th>2040</th>\n      <td>NaN</td>\n    </tr>\n    <tr>\n      <th>2041</th>\n      <td>NaN</td>\n    </tr>\n    <tr>\n      <th>2042</th>\n      <td>NaN</td>\n    </tr>\n    <tr>\n      <th>2043</th>\n      <td>NaN</td>\n    </tr>\n    <tr>\n      <th>2044</th>\n      <td>NaN</td>\n    </tr>\n    <tr>\n      <th>2045</th>\n      <td>NaN</td>\n    </tr>\n    <tr>\n      <th>2046</th>\n      <td>NaN</td>\n    </tr>\n    <tr>\n      <th>2047</th>\n      <td>NaN</td>\n    </tr>\n    <tr>\n      <th>2048</th>\n      <td>NaN</td>\n    </tr>\n    <tr>\n      <th>2049</th>\n      <td>NaN</td>\n    </tr>\n    <tr>\n      <th>2050</th>\n      <td>NaN</td>\n    </tr>\n  </tbody>\n</table>\n</div>"
     },
     "execution_count": 203,
     "metadata": {},
     "output_type": "execute_result"
    }
   ],
   "source": [
    "years = np.arange(2025, 2051)\n",
    "result = pd.DataFrame(index=years, columns=['Emissions'])\n",
    "result.index.name = 'Years'\n",
    "result"
   ],
   "metadata": {
    "collapsed": false,
    "pycharm": {
     "name": "#%%\n"
    }
   }
  },
  {
   "cell_type": "code",
   "execution_count": 204,
   "outputs": [
    {
     "name": "stderr",
     "output_type": "stream",
     "text": [
      "/var/folders/dt/vnwtjmcn02bff0r8qtp9tmkh0000gn/T/ipykernel_37620/2183245405.py:2: FutureWarning: The frame.append method is deprecated and will be removed from pandas in a future version. Use pandas.concat instead.\n",
      "  min_prod_cost_emissions = min_prod_cost.append(result)\n"
     ]
    }
   ],
   "source": [
    "min_prod_cost = pd.read_csv('/Users/jakob/PycharmProjects/H2_pathways_repo/data/processed/Minimal_production_costs_technology.csv', delimiter = ';', index_col=0)\n",
    "min_prod_cost_emissions = min_prod_cost.append(result)"
   ],
   "metadata": {
    "collapsed": false,
    "pycharm": {
     "name": "#%%\n"
    }
   }
  },
  {
   "cell_type": "code",
   "execution_count": 205,
   "outputs": [
    {
     "data": {
      "text/plain": "       Minimal_production_costs Technology Emissions\nYears                                               \n2025                   2.491992      Green       NaN\n2026                   2.373447       Blue       NaN\n2027                   2.155720       Blue       NaN\n2028                   1.821652       Blue       NaN\n2029                   1.831196       Blue       NaN\n2030                   1.839387       Blue       NaN\n2031                   1.856517       Blue       NaN\n2032                   1.872223       Blue       NaN\n2033                   1.886502       Blue       NaN\n2034                   1.899351       Blue       NaN\n2035                   1.910768       Blue       NaN\n2036                   1.920750       Blue       NaN\n2037                   1.929296       Blue       NaN\n2038                   1.908208      Green       NaN\n2039                   1.871112      Green       NaN\n2040                   1.834076      Green       NaN\n2041                   1.801782      Green       NaN\n2042                   1.770822      Green       NaN\n2043                   1.740567      Green       NaN\n2044                   1.714207      Green       NaN\n2045                   1.659565      Green       NaN\n2046                   1.627420      Green       NaN\n2047                   1.596338      Green       NaN\n2048                   1.566225      Green       NaN\n2049                   1.536996      Green       NaN\n2050                   1.508580      Green       NaN\n2025                        NaN        NaN       NaN\n2026                        NaN        NaN       NaN\n2027                        NaN        NaN       NaN\n2028                        NaN        NaN       NaN\n2029                        NaN        NaN       NaN\n2030                        NaN        NaN       NaN\n2031                        NaN        NaN       NaN\n2032                        NaN        NaN       NaN\n2033                        NaN        NaN       NaN\n2034                        NaN        NaN       NaN\n2035                        NaN        NaN       NaN\n2036                        NaN        NaN       NaN\n2037                        NaN        NaN       NaN\n2038                        NaN        NaN       NaN\n2039                        NaN        NaN       NaN\n2040                        NaN        NaN       NaN\n2041                        NaN        NaN       NaN\n2042                        NaN        NaN       NaN\n2043                        NaN        NaN       NaN\n2044                        NaN        NaN       NaN\n2045                        NaN        NaN       NaN\n2046                        NaN        NaN       NaN\n2047                        NaN        NaN       NaN\n2048                        NaN        NaN       NaN\n2049                        NaN        NaN       NaN\n2050                        NaN        NaN       NaN",
      "text/html": "<div>\n<style scoped>\n    .dataframe tbody tr th:only-of-type {\n        vertical-align: middle;\n    }\n\n    .dataframe tbody tr th {\n        vertical-align: top;\n    }\n\n    .dataframe thead th {\n        text-align: right;\n    }\n</style>\n<table border=\"1\" class=\"dataframe\">\n  <thead>\n    <tr style=\"text-align: right;\">\n      <th></th>\n      <th>Minimal_production_costs</th>\n      <th>Technology</th>\n      <th>Emissions</th>\n    </tr>\n    <tr>\n      <th>Years</th>\n      <th></th>\n      <th></th>\n      <th></th>\n    </tr>\n  </thead>\n  <tbody>\n    <tr>\n      <th>2025</th>\n      <td>2.491992</td>\n      <td>Green</td>\n      <td>NaN</td>\n    </tr>\n    <tr>\n      <th>2026</th>\n      <td>2.373447</td>\n      <td>Blue</td>\n      <td>NaN</td>\n    </tr>\n    <tr>\n      <th>2027</th>\n      <td>2.155720</td>\n      <td>Blue</td>\n      <td>NaN</td>\n    </tr>\n    <tr>\n      <th>2028</th>\n      <td>1.821652</td>\n      <td>Blue</td>\n      <td>NaN</td>\n    </tr>\n    <tr>\n      <th>2029</th>\n      <td>1.831196</td>\n      <td>Blue</td>\n      <td>NaN</td>\n    </tr>\n    <tr>\n      <th>2030</th>\n      <td>1.839387</td>\n      <td>Blue</td>\n      <td>NaN</td>\n    </tr>\n    <tr>\n      <th>2031</th>\n      <td>1.856517</td>\n      <td>Blue</td>\n      <td>NaN</td>\n    </tr>\n    <tr>\n      <th>2032</th>\n      <td>1.872223</td>\n      <td>Blue</td>\n      <td>NaN</td>\n    </tr>\n    <tr>\n      <th>2033</th>\n      <td>1.886502</td>\n      <td>Blue</td>\n      <td>NaN</td>\n    </tr>\n    <tr>\n      <th>2034</th>\n      <td>1.899351</td>\n      <td>Blue</td>\n      <td>NaN</td>\n    </tr>\n    <tr>\n      <th>2035</th>\n      <td>1.910768</td>\n      <td>Blue</td>\n      <td>NaN</td>\n    </tr>\n    <tr>\n      <th>2036</th>\n      <td>1.920750</td>\n      <td>Blue</td>\n      <td>NaN</td>\n    </tr>\n    <tr>\n      <th>2037</th>\n      <td>1.929296</td>\n      <td>Blue</td>\n      <td>NaN</td>\n    </tr>\n    <tr>\n      <th>2038</th>\n      <td>1.908208</td>\n      <td>Green</td>\n      <td>NaN</td>\n    </tr>\n    <tr>\n      <th>2039</th>\n      <td>1.871112</td>\n      <td>Green</td>\n      <td>NaN</td>\n    </tr>\n    <tr>\n      <th>2040</th>\n      <td>1.834076</td>\n      <td>Green</td>\n      <td>NaN</td>\n    </tr>\n    <tr>\n      <th>2041</th>\n      <td>1.801782</td>\n      <td>Green</td>\n      <td>NaN</td>\n    </tr>\n    <tr>\n      <th>2042</th>\n      <td>1.770822</td>\n      <td>Green</td>\n      <td>NaN</td>\n    </tr>\n    <tr>\n      <th>2043</th>\n      <td>1.740567</td>\n      <td>Green</td>\n      <td>NaN</td>\n    </tr>\n    <tr>\n      <th>2044</th>\n      <td>1.714207</td>\n      <td>Green</td>\n      <td>NaN</td>\n    </tr>\n    <tr>\n      <th>2045</th>\n      <td>1.659565</td>\n      <td>Green</td>\n      <td>NaN</td>\n    </tr>\n    <tr>\n      <th>2046</th>\n      <td>1.627420</td>\n      <td>Green</td>\n      <td>NaN</td>\n    </tr>\n    <tr>\n      <th>2047</th>\n      <td>1.596338</td>\n      <td>Green</td>\n      <td>NaN</td>\n    </tr>\n    <tr>\n      <th>2048</th>\n      <td>1.566225</td>\n      <td>Green</td>\n      <td>NaN</td>\n    </tr>\n    <tr>\n      <th>2049</th>\n      <td>1.536996</td>\n      <td>Green</td>\n      <td>NaN</td>\n    </tr>\n    <tr>\n      <th>2050</th>\n      <td>1.508580</td>\n      <td>Green</td>\n      <td>NaN</td>\n    </tr>\n    <tr>\n      <th>2025</th>\n      <td>NaN</td>\n      <td>NaN</td>\n      <td>NaN</td>\n    </tr>\n    <tr>\n      <th>2026</th>\n      <td>NaN</td>\n      <td>NaN</td>\n      <td>NaN</td>\n    </tr>\n    <tr>\n      <th>2027</th>\n      <td>NaN</td>\n      <td>NaN</td>\n      <td>NaN</td>\n    </tr>\n    <tr>\n      <th>2028</th>\n      <td>NaN</td>\n      <td>NaN</td>\n      <td>NaN</td>\n    </tr>\n    <tr>\n      <th>2029</th>\n      <td>NaN</td>\n      <td>NaN</td>\n      <td>NaN</td>\n    </tr>\n    <tr>\n      <th>2030</th>\n      <td>NaN</td>\n      <td>NaN</td>\n      <td>NaN</td>\n    </tr>\n    <tr>\n      <th>2031</th>\n      <td>NaN</td>\n      <td>NaN</td>\n      <td>NaN</td>\n    </tr>\n    <tr>\n      <th>2032</th>\n      <td>NaN</td>\n      <td>NaN</td>\n      <td>NaN</td>\n    </tr>\n    <tr>\n      <th>2033</th>\n      <td>NaN</td>\n      <td>NaN</td>\n      <td>NaN</td>\n    </tr>\n    <tr>\n      <th>2034</th>\n      <td>NaN</td>\n      <td>NaN</td>\n      <td>NaN</td>\n    </tr>\n    <tr>\n      <th>2035</th>\n      <td>NaN</td>\n      <td>NaN</td>\n      <td>NaN</td>\n    </tr>\n    <tr>\n      <th>2036</th>\n      <td>NaN</td>\n      <td>NaN</td>\n      <td>NaN</td>\n    </tr>\n    <tr>\n      <th>2037</th>\n      <td>NaN</td>\n      <td>NaN</td>\n      <td>NaN</td>\n    </tr>\n    <tr>\n      <th>2038</th>\n      <td>NaN</td>\n      <td>NaN</td>\n      <td>NaN</td>\n    </tr>\n    <tr>\n      <th>2039</th>\n      <td>NaN</td>\n      <td>NaN</td>\n      <td>NaN</td>\n    </tr>\n    <tr>\n      <th>2040</th>\n      <td>NaN</td>\n      <td>NaN</td>\n      <td>NaN</td>\n    </tr>\n    <tr>\n      <th>2041</th>\n      <td>NaN</td>\n      <td>NaN</td>\n      <td>NaN</td>\n    </tr>\n    <tr>\n      <th>2042</th>\n      <td>NaN</td>\n      <td>NaN</td>\n      <td>NaN</td>\n    </tr>\n    <tr>\n      <th>2043</th>\n      <td>NaN</td>\n      <td>NaN</td>\n      <td>NaN</td>\n    </tr>\n    <tr>\n      <th>2044</th>\n      <td>NaN</td>\n      <td>NaN</td>\n      <td>NaN</td>\n    </tr>\n    <tr>\n      <th>2045</th>\n      <td>NaN</td>\n      <td>NaN</td>\n      <td>NaN</td>\n    </tr>\n    <tr>\n      <th>2046</th>\n      <td>NaN</td>\n      <td>NaN</td>\n      <td>NaN</td>\n    </tr>\n    <tr>\n      <th>2047</th>\n      <td>NaN</td>\n      <td>NaN</td>\n      <td>NaN</td>\n    </tr>\n    <tr>\n      <th>2048</th>\n      <td>NaN</td>\n      <td>NaN</td>\n      <td>NaN</td>\n    </tr>\n    <tr>\n      <th>2049</th>\n      <td>NaN</td>\n      <td>NaN</td>\n      <td>NaN</td>\n    </tr>\n    <tr>\n      <th>2050</th>\n      <td>NaN</td>\n      <td>NaN</td>\n      <td>NaN</td>\n    </tr>\n  </tbody>\n</table>\n</div>"
     },
     "execution_count": 205,
     "metadata": {},
     "output_type": "execute_result"
    }
   ],
   "source": [
    "min_prod_cost_emissions"
   ],
   "metadata": {
    "collapsed": false,
    "pycharm": {
     "name": "#%%\n"
    }
   }
  },
  {
   "cell_type": "code",
   "execution_count": 206,
   "outputs": [],
   "source": [
    "def append_emissions():\n",
    "    min_prod_cost_emissions.Technology == 'Green'\n",
    "    result = Green_production_emissions\n",
    "\n",
    "    return result"
   ],
   "metadata": {
    "collapsed": false,
    "pycharm": {
     "name": "#%%\n"
    }
   }
  },
  {
   "cell_type": "code",
   "execution_count": 207,
   "outputs": [],
   "source": [
    "def append_emissions():\n",
    "    if min_prod_cost_emissions.Technology == 'Green':\n",
    "        result = Green_production_emissions\n",
    "    else:\n",
    "        result = blue_emissions_H2GWP\n",
    "    return result"
   ],
   "metadata": {
    "collapsed": false,
    "pycharm": {
     "name": "#%%\n"
    }
   }
  },
  {
   "cell_type": "code",
   "execution_count": 208,
   "outputs": [
    {
     "ename": "ValueError",
     "evalue": "The truth value of a Series is ambiguous. Use a.empty, a.bool(), a.item(), a.any() or a.all().",
     "output_type": "error",
     "traceback": [
      "\u001B[0;31m---------------------------------------------------------------------------\u001B[0m",
      "\u001B[0;31mValueError\u001B[0m                                Traceback (most recent call last)",
      "Input \u001B[0;32mIn [208]\u001B[0m, in \u001B[0;36m<cell line: 2>\u001B[0;34m()\u001B[0m\n\u001B[1;32m      1\u001B[0m years \u001B[38;5;241m=\u001B[39m np\u001B[38;5;241m.\u001B[39marange(\u001B[38;5;241m2025\u001B[39m, \u001B[38;5;241m2051\u001B[39m)\n\u001B[1;32m      2\u001B[0m \u001B[38;5;28;01mfor\u001B[39;00m year \u001B[38;5;129;01min\u001B[39;00m years:\n\u001B[0;32m----> 4\u001B[0m     min_prod_cost_emissions\u001B[38;5;241m.\u001B[39mEmissions\u001B[38;5;241m.\u001B[39mloc[year] \u001B[38;5;241m=\u001B[39m \u001B[43mappend_emissions\u001B[49m\u001B[43m(\u001B[49m\u001B[43m)\u001B[49m\n\u001B[1;32m      6\u001B[0m min_prod_cost_emissions\n",
      "Input \u001B[0;32mIn [207]\u001B[0m, in \u001B[0;36mappend_emissions\u001B[0;34m()\u001B[0m\n\u001B[1;32m      1\u001B[0m \u001B[38;5;28;01mdef\u001B[39;00m \u001B[38;5;21mappend_emissions\u001B[39m():\n\u001B[0;32m----> 2\u001B[0m     \u001B[38;5;28;01mif\u001B[39;00m min_prod_cost_emissions\u001B[38;5;241m.\u001B[39mTechnology \u001B[38;5;241m==\u001B[39m \u001B[38;5;124m'\u001B[39m\u001B[38;5;124mGreen\u001B[39m\u001B[38;5;124m'\u001B[39m:\n\u001B[1;32m      3\u001B[0m         result \u001B[38;5;241m=\u001B[39m Green_production_emissions\n\u001B[1;32m      4\u001B[0m     \u001B[38;5;28;01melse\u001B[39;00m:\n",
      "File \u001B[0;32m~/PycharmProjects/H2_pathways_repo/env_H2/lib/python3.10/site-packages/pandas/core/generic.py:1527\u001B[0m, in \u001B[0;36mNDFrame.__nonzero__\u001B[0;34m(self)\u001B[0m\n\u001B[1;32m   1525\u001B[0m \u001B[38;5;129m@final\u001B[39m\n\u001B[1;32m   1526\u001B[0m \u001B[38;5;28;01mdef\u001B[39;00m \u001B[38;5;21m__nonzero__\u001B[39m(\u001B[38;5;28mself\u001B[39m):\n\u001B[0;32m-> 1527\u001B[0m     \u001B[38;5;28;01mraise\u001B[39;00m \u001B[38;5;167;01mValueError\u001B[39;00m(\n\u001B[1;32m   1528\u001B[0m         \u001B[38;5;124mf\u001B[39m\u001B[38;5;124m\"\u001B[39m\u001B[38;5;124mThe truth value of a \u001B[39m\u001B[38;5;132;01m{\u001B[39;00m\u001B[38;5;28mtype\u001B[39m(\u001B[38;5;28mself\u001B[39m)\u001B[38;5;241m.\u001B[39m\u001B[38;5;18m__name__\u001B[39m\u001B[38;5;132;01m}\u001B[39;00m\u001B[38;5;124m is ambiguous. \u001B[39m\u001B[38;5;124m\"\u001B[39m\n\u001B[1;32m   1529\u001B[0m         \u001B[38;5;124m\"\u001B[39m\u001B[38;5;124mUse a.empty, a.bool(), a.item(), a.any() or a.all().\u001B[39m\u001B[38;5;124m\"\u001B[39m\n\u001B[1;32m   1530\u001B[0m     )\n",
      "\u001B[0;31mValueError\u001B[0m: The truth value of a Series is ambiguous. Use a.empty, a.bool(), a.item(), a.any() or a.all()."
     ]
    }
   ],
   "source": [
    "years = np.arange(2025, 2051)\n",
    "for year in years:\n",
    "\n",
    "    min_prod_cost_emissions.Emissions.loc[year] = append_emissions()\n",
    "\n",
    "min_prod_cost_emissions"
   ],
   "metadata": {
    "collapsed": false,
    "pycharm": {
     "name": "#%%\n"
    }
   }
  },
  {
   "cell_type": "code",
   "execution_count": null,
   "outputs": [],
   "source": [],
   "metadata": {
    "collapsed": false,
    "pycharm": {
     "name": "#%%\n"
    }
   }
  }
 ],
 "metadata": {
  "kernelspec": {
   "display_name": "Python 3",
   "language": "python",
   "name": "python3"
  },
  "language_info": {
   "codemirror_mode": {
    "name": "ipython",
    "version": 2
   },
   "file_extension": ".py",
   "mimetype": "text/x-python",
   "name": "python",
   "nbconvert_exporter": "python",
   "pygments_lexer": "ipython2",
   "version": "2.7.6"
  }
 },
 "nbformat": 4,
 "nbformat_minor": 0
}