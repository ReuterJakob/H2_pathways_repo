{
 "cells": [
  {
   "cell_type": "code",
   "execution_count": 14,
   "outputs": [],
   "source": [
    "import numpy as np\n",
    "import pandas as pd\n",
    "from matplotlib import pyplot as plt\n",
    "import os\n",
    "from openpyxl import load_workbook\n"
   ],
   "metadata": {
    "collapsed": false,
    "pycharm": {
     "name": "#%%\n"
    }
   }
  },
  {
   "cell_type": "code",
   "execution_count": 19,
   "outputs": [],
   "source": [
    "path = '/Users/jakob/PycharmProjects/H2_pathways_repo/data/raw/H2_supply_route_assessment.xlsx'"
   ],
   "metadata": {
    "collapsed": false,
    "pycharm": {
     "name": "#%%\n"
    }
   }
  },
  {
   "cell_type": "code",
   "execution_count": 21,
   "outputs": [
    {
     "data": {
      "text/plain": "                                                            Parameter  \\\nID                                                                      \nGHG intensity of electricity generation [g CO2e...                NaN   \nGHG intensity of electricity generation [g CO2e...                NaN   \nGrey hydrogen emissions [g CO2/MJ H2] - Norway                  96.77   \nGrey hydrogen emissions [kg CO2/kg H2] - Norway               11.6124   \nBlue hydrogen emissions [g CO2/MJ H2] - Norway                    NaN   \n...                                                               ...   \nAssumed load factor for compressor electricity ...               5000   \nAssumed load factor for compressor electricity ...           0.570776   \nCapacity at full load factor [GW_H2_LHV]                           13   \nCapacity at full load factor [kg H2/a]              2033571428.571429   \nPipeline load factor [%]                                         0.75   \n\n                                                                        Ref  \\\nID                                                                            \nGHG intensity of electricity generation [g CO2e...                 EEA 2022   \nGHG intensity of electricity generation [g CO2e...        Our world in Data   \nGrey hydrogen emissions [g CO2/MJ H2] - Norway      Own calculation @ GWP20   \nGrey hydrogen emissions [kg CO2/kg H2] - Norway     Own calculation @ GWP20   \nBlue hydrogen emissions [g CO2/MJ H2] - Norway      Own calculation @ GWP20   \n...                                                                     ...   \nAssumed load factor for compressor electricity ...                 EHB 2020   \nAssumed load factor for compressor electricity ...                 EHB 2020   \nCapacity at full load factor [GW_H2_LHV]                                NaN   \nCapacity at full load factor [kg H2/a]                                  NaN   \nPipeline load factor [%]                                                NaN   \n\n                                                     1990   1991   1992  \\\nID                                                                        \nGHG intensity of electricity generation [g CO2e...  652.0  656.0  628.0   \nGHG intensity of electricity generation [g CO2e...    NaN    NaN    NaN   \nGrey hydrogen emissions [g CO2/MJ H2] - Norway        NaN    NaN    NaN   \nGrey hydrogen emissions [kg CO2/kg H2] - Norway       NaN    NaN    NaN   \nBlue hydrogen emissions [g CO2/MJ H2] - Norway        NaN    NaN    NaN   \n...                                                   ...    ...    ...   \nAssumed load factor for compressor electricity ...    NaN    NaN    NaN   \nAssumed load factor for compressor electricity ...    NaN    NaN    NaN   \nCapacity at full load factor [GW_H2_LHV]              NaN    NaN    NaN   \nCapacity at full load factor [kg H2/a]                NaN    NaN    NaN   \nPipeline load factor [%]                              NaN    NaN    NaN   \n\n                                                     1993   1994   1995  \\\nID                                                                        \nGHG intensity of electricity generation [g CO2e...  631.0  626.0  610.0   \nGHG intensity of electricity generation [g CO2e...    NaN    NaN    NaN   \nGrey hydrogen emissions [g CO2/MJ H2] - Norway        NaN    NaN    NaN   \nGrey hydrogen emissions [kg CO2/kg H2] - Norway       NaN    NaN    NaN   \nBlue hydrogen emissions [g CO2/MJ H2] - Norway        NaN    NaN    NaN   \n...                                                   ...    ...    ...   \nAssumed load factor for compressor electricity ...    NaN    NaN    NaN   \nAssumed load factor for compressor electricity ...    NaN    NaN    NaN   \nCapacity at full load factor [GW_H2_LHV]              NaN    NaN    NaN   \nCapacity at full load factor [kg H2/a]                NaN    NaN    NaN   \nPipeline load factor [%]                              NaN    NaN    NaN   \n\n                                                     1996   1997  ...  \\\nID                                                                ...   \nGHG intensity of electricity generation [g CO2e...  580.0  566.0  ...   \nGHG intensity of electricity generation [g CO2e...    NaN    NaN  ...   \nGrey hydrogen emissions [g CO2/MJ H2] - Norway        NaN    NaN  ...   \nGrey hydrogen emissions [kg CO2/kg H2] - Norway       NaN    NaN  ...   \nBlue hydrogen emissions [g CO2/MJ H2] - Norway        NaN    NaN  ...   \n...                                                   ...    ...  ...   \nAssumed load factor for compressor electricity ...    NaN    NaN  ...   \nAssumed load factor for compressor electricity ...    NaN    NaN  ...   \nCapacity at full load factor [GW_H2_LHV]              NaN    NaN  ...   \nCapacity at full load factor [kg H2/a]                NaN    NaN  ...   \nPipeline load factor [%]                              NaN    NaN  ...   \n\n                                                         2041      2042  \\\nID                                                                        \nGHG intensity of electricity generation [g CO2e...  62.592000  46.94400   \nGHG intensity of electricity generation [g CO2e...   7.783673   6.91882   \nGrey hydrogen emissions [g CO2/MJ H2] - Norway            NaN       NaN   \nGrey hydrogen emissions [kg CO2/kg H2] - Norway           NaN       NaN   \nBlue hydrogen emissions [g CO2/MJ H2] - Norway      25.499000  24.61800   \n...                                                       ...       ...   \nAssumed load factor for compressor electricity ...        NaN       NaN   \nAssumed load factor for compressor electricity ...        NaN       NaN   \nCapacity at full load factor [GW_H2_LHV]                  NaN       NaN   \nCapacity at full load factor [kg H2/a]                    NaN       NaN   \nPipeline load factor [%]                                  NaN       NaN   \n\n                                                         2043       2044  \\\nID                                                                         \nGHG intensity of electricity generation [g CO2e...  31.296000  15.648000   \nGHG intensity of electricity generation [g CO2e...   6.053968   5.189115   \nGrey hydrogen emissions [g CO2/MJ H2] - Norway            NaN        NaN   \nGrey hydrogen emissions [kg CO2/kg H2] - Norway           NaN        NaN   \nBlue hydrogen emissions [g CO2/MJ H2] - Norway      23.737000  22.856000   \n...                                                       ...        ...   \nAssumed load factor for compressor electricity ...        NaN        NaN   \nAssumed load factor for compressor electricity ...        NaN        NaN   \nCapacity at full load factor [GW_H2_LHV]                  NaN        NaN   \nCapacity at full load factor [kg H2/a]                    NaN        NaN   \nPipeline load factor [%]                                  NaN        NaN   \n\n                                                         2045      2046  \\\nID                                                                        \nGHG intensity of electricity generation [g CO2e...   0.000000   0.00000   \nGHG intensity of electricity generation [g CO2e...   4.324263   3.45941   \nGrey hydrogen emissions [g CO2/MJ H2] - Norway            NaN       NaN   \nGrey hydrogen emissions [kg CO2/kg H2] - Norway           NaN       NaN   \nBlue hydrogen emissions [g CO2/MJ H2] - Norway      21.975000  21.09400   \n...                                                       ...       ...   \nAssumed load factor for compressor electricity ...        NaN       NaN   \nAssumed load factor for compressor electricity ...        NaN       NaN   \nCapacity at full load factor [GW_H2_LHV]                  NaN       NaN   \nCapacity at full load factor [kg H2/a]                    NaN       NaN   \nPipeline load factor [%]                                  NaN       NaN   \n\n                                                         2047       2048  \\\nID                                                                         \nGHG intensity of electricity generation [g CO2e...   0.000000   0.000000   \nGHG intensity of electricity generation [g CO2e...   2.594558   1.729705   \nGrey hydrogen emissions [g CO2/MJ H2] - Norway            NaN        NaN   \nGrey hydrogen emissions [kg CO2/kg H2] - Norway           NaN        NaN   \nBlue hydrogen emissions [g CO2/MJ H2] - Norway      20.213000  19.332000   \n...                                                       ...        ...   \nAssumed load factor for compressor electricity ...        NaN        NaN   \nAssumed load factor for compressor electricity ...        NaN        NaN   \nCapacity at full load factor [GW_H2_LHV]                  NaN        NaN   \nCapacity at full load factor [kg H2/a]                    NaN        NaN   \nPipeline load factor [%]                                  NaN        NaN   \n\n                                                         2049   2050  \nID                                                                    \nGHG intensity of electricity generation [g CO2e...   0.000000   0.00  \nGHG intensity of electricity generation [g CO2e...   0.864853   0.00  \nGrey hydrogen emissions [g CO2/MJ H2] - Norway            NaN    NaN  \nGrey hydrogen emissions [kg CO2/kg H2] - Norway           NaN    NaN  \nBlue hydrogen emissions [g CO2/MJ H2] - Norway      18.451000  17.57  \n...                                                       ...    ...  \nAssumed load factor for compressor electricity ...        NaN    NaN  \nAssumed load factor for compressor electricity ...        NaN    NaN  \nCapacity at full load factor [GW_H2_LHV]                  NaN    NaN  \nCapacity at full load factor [kg H2/a]                    NaN    NaN  \nPipeline load factor [%]                                  NaN    NaN  \n\n[63 rows x 63 columns]",
      "text/html": "<div>\n<style scoped>\n    .dataframe tbody tr th:only-of-type {\n        vertical-align: middle;\n    }\n\n    .dataframe tbody tr th {\n        vertical-align: top;\n    }\n\n    .dataframe thead th {\n        text-align: right;\n    }\n</style>\n<table border=\"1\" class=\"dataframe\">\n  <thead>\n    <tr style=\"text-align: right;\">\n      <th></th>\n      <th>Parameter</th>\n      <th>Ref</th>\n      <th>1990</th>\n      <th>1991</th>\n      <th>1992</th>\n      <th>1993</th>\n      <th>1994</th>\n      <th>1995</th>\n      <th>1996</th>\n      <th>1997</th>\n      <th>...</th>\n      <th>2041</th>\n      <th>2042</th>\n      <th>2043</th>\n      <th>2044</th>\n      <th>2045</th>\n      <th>2046</th>\n      <th>2047</th>\n      <th>2048</th>\n      <th>2049</th>\n      <th>2050</th>\n    </tr>\n    <tr>\n      <th>ID</th>\n      <th></th>\n      <th></th>\n      <th></th>\n      <th></th>\n      <th></th>\n      <th></th>\n      <th></th>\n      <th></th>\n      <th></th>\n      <th></th>\n      <th></th>\n      <th></th>\n      <th></th>\n      <th></th>\n      <th></th>\n      <th></th>\n      <th></th>\n      <th></th>\n      <th></th>\n      <th></th>\n      <th></th>\n    </tr>\n  </thead>\n  <tbody>\n    <tr>\n      <th>GHG intensity of electricity generation [g CO2eq/kWh] - Germany</th>\n      <td>NaN</td>\n      <td>EEA 2022</td>\n      <td>652.0</td>\n      <td>656.0</td>\n      <td>628.0</td>\n      <td>631.0</td>\n      <td>626.0</td>\n      <td>610.0</td>\n      <td>580.0</td>\n      <td>566.0</td>\n      <td>...</td>\n      <td>62.592000</td>\n      <td>46.94400</td>\n      <td>31.296000</td>\n      <td>15.648000</td>\n      <td>0.000000</td>\n      <td>0.00000</td>\n      <td>0.000000</td>\n      <td>0.000000</td>\n      <td>0.000000</td>\n      <td>0.00</td>\n    </tr>\n    <tr>\n      <th>GHG intensity of electricity generation [g CO2eq/kWh] - Norway</th>\n      <td>NaN</td>\n      <td>Our world in Data</td>\n      <td>NaN</td>\n      <td>NaN</td>\n      <td>NaN</td>\n      <td>NaN</td>\n      <td>NaN</td>\n      <td>NaN</td>\n      <td>NaN</td>\n      <td>NaN</td>\n      <td>...</td>\n      <td>7.783673</td>\n      <td>6.91882</td>\n      <td>6.053968</td>\n      <td>5.189115</td>\n      <td>4.324263</td>\n      <td>3.45941</td>\n      <td>2.594558</td>\n      <td>1.729705</td>\n      <td>0.864853</td>\n      <td>0.00</td>\n    </tr>\n    <tr>\n      <th>Grey hydrogen emissions [g CO2/MJ H2] - Norway</th>\n      <td>96.77</td>\n      <td>Own calculation @ GWP20</td>\n      <td>NaN</td>\n      <td>NaN</td>\n      <td>NaN</td>\n      <td>NaN</td>\n      <td>NaN</td>\n      <td>NaN</td>\n      <td>NaN</td>\n      <td>NaN</td>\n      <td>...</td>\n      <td>NaN</td>\n      <td>NaN</td>\n      <td>NaN</td>\n      <td>NaN</td>\n      <td>NaN</td>\n      <td>NaN</td>\n      <td>NaN</td>\n      <td>NaN</td>\n      <td>NaN</td>\n      <td>NaN</td>\n    </tr>\n    <tr>\n      <th>Grey hydrogen emissions [kg CO2/kg H2] - Norway</th>\n      <td>11.6124</td>\n      <td>Own calculation @ GWP20</td>\n      <td>NaN</td>\n      <td>NaN</td>\n      <td>NaN</td>\n      <td>NaN</td>\n      <td>NaN</td>\n      <td>NaN</td>\n      <td>NaN</td>\n      <td>NaN</td>\n      <td>...</td>\n      <td>NaN</td>\n      <td>NaN</td>\n      <td>NaN</td>\n      <td>NaN</td>\n      <td>NaN</td>\n      <td>NaN</td>\n      <td>NaN</td>\n      <td>NaN</td>\n      <td>NaN</td>\n      <td>NaN</td>\n    </tr>\n    <tr>\n      <th>Blue hydrogen emissions [g CO2/MJ H2] - Norway</th>\n      <td>NaN</td>\n      <td>Own calculation @ GWP20</td>\n      <td>NaN</td>\n      <td>NaN</td>\n      <td>NaN</td>\n      <td>NaN</td>\n      <td>NaN</td>\n      <td>NaN</td>\n      <td>NaN</td>\n      <td>NaN</td>\n      <td>...</td>\n      <td>25.499000</td>\n      <td>24.61800</td>\n      <td>23.737000</td>\n      <td>22.856000</td>\n      <td>21.975000</td>\n      <td>21.09400</td>\n      <td>20.213000</td>\n      <td>19.332000</td>\n      <td>18.451000</td>\n      <td>17.57</td>\n    </tr>\n    <tr>\n      <th>...</th>\n      <td>...</td>\n      <td>...</td>\n      <td>...</td>\n      <td>...</td>\n      <td>...</td>\n      <td>...</td>\n      <td>...</td>\n      <td>...</td>\n      <td>...</td>\n      <td>...</td>\n      <td>...</td>\n      <td>...</td>\n      <td>...</td>\n      <td>...</td>\n      <td>...</td>\n      <td>...</td>\n      <td>...</td>\n      <td>...</td>\n      <td>...</td>\n      <td>...</td>\n      <td>...</td>\n    </tr>\n    <tr>\n      <th>Assumed load factor for compressor electricity consumption [h/a]</th>\n      <td>5000</td>\n      <td>EHB 2020</td>\n      <td>NaN</td>\n      <td>NaN</td>\n      <td>NaN</td>\n      <td>NaN</td>\n      <td>NaN</td>\n      <td>NaN</td>\n      <td>NaN</td>\n      <td>NaN</td>\n      <td>...</td>\n      <td>NaN</td>\n      <td>NaN</td>\n      <td>NaN</td>\n      <td>NaN</td>\n      <td>NaN</td>\n      <td>NaN</td>\n      <td>NaN</td>\n      <td>NaN</td>\n      <td>NaN</td>\n      <td>NaN</td>\n    </tr>\n    <tr>\n      <th>Assumed load factor for compressor electricity consumption [%]</th>\n      <td>0.570776</td>\n      <td>EHB 2020</td>\n      <td>NaN</td>\n      <td>NaN</td>\n      <td>NaN</td>\n      <td>NaN</td>\n      <td>NaN</td>\n      <td>NaN</td>\n      <td>NaN</td>\n      <td>NaN</td>\n      <td>...</td>\n      <td>NaN</td>\n      <td>NaN</td>\n      <td>NaN</td>\n      <td>NaN</td>\n      <td>NaN</td>\n      <td>NaN</td>\n      <td>NaN</td>\n      <td>NaN</td>\n      <td>NaN</td>\n      <td>NaN</td>\n    </tr>\n    <tr>\n      <th>Capacity at full load factor [GW_H2_LHV]</th>\n      <td>13</td>\n      <td>NaN</td>\n      <td>NaN</td>\n      <td>NaN</td>\n      <td>NaN</td>\n      <td>NaN</td>\n      <td>NaN</td>\n      <td>NaN</td>\n      <td>NaN</td>\n      <td>NaN</td>\n      <td>...</td>\n      <td>NaN</td>\n      <td>NaN</td>\n      <td>NaN</td>\n      <td>NaN</td>\n      <td>NaN</td>\n      <td>NaN</td>\n      <td>NaN</td>\n      <td>NaN</td>\n      <td>NaN</td>\n      <td>NaN</td>\n    </tr>\n    <tr>\n      <th>Capacity at full load factor [kg H2/a]</th>\n      <td>2033571428.571429</td>\n      <td>NaN</td>\n      <td>NaN</td>\n      <td>NaN</td>\n      <td>NaN</td>\n      <td>NaN</td>\n      <td>NaN</td>\n      <td>NaN</td>\n      <td>NaN</td>\n      <td>NaN</td>\n      <td>...</td>\n      <td>NaN</td>\n      <td>NaN</td>\n      <td>NaN</td>\n      <td>NaN</td>\n      <td>NaN</td>\n      <td>NaN</td>\n      <td>NaN</td>\n      <td>NaN</td>\n      <td>NaN</td>\n      <td>NaN</td>\n    </tr>\n    <tr>\n      <th>Pipeline load factor [%]</th>\n      <td>0.75</td>\n      <td>NaN</td>\n      <td>NaN</td>\n      <td>NaN</td>\n      <td>NaN</td>\n      <td>NaN</td>\n      <td>NaN</td>\n      <td>NaN</td>\n      <td>NaN</td>\n      <td>NaN</td>\n      <td>...</td>\n      <td>NaN</td>\n      <td>NaN</td>\n      <td>NaN</td>\n      <td>NaN</td>\n      <td>NaN</td>\n      <td>NaN</td>\n      <td>NaN</td>\n      <td>NaN</td>\n      <td>NaN</td>\n      <td>NaN</td>\n    </tr>\n  </tbody>\n</table>\n<p>63 rows × 63 columns</p>\n</div>"
     },
     "execution_count": 21,
     "metadata": {},
     "output_type": "execute_result"
    }
   ],
   "source": [
    "GHG =  pd.read_excel(path, sheet_name='GHG Footprint', decimal=',', index_col= 0)\n",
    "GHG"
   ],
   "metadata": {
    "collapsed": false,
    "pycharm": {
     "name": "#%%\n"
    }
   }
  },
  {
   "cell_type": "code",
   "execution_count": 22,
   "outputs": [
    {
     "data": {
      "text/plain": "2025     4.7514\n2026    4.64568\n2027    4.53996\n2028    4.43424\n2029    4.32852\n2030     4.2228\n2031    4.11708\n2032    4.01136\n2033    3.90564\n2034    3.79992\n2035     3.6942\n2036    3.58848\n2037    3.48276\n2038    3.37704\n2039    3.27132\n2040     3.1656\n2041    3.05988\n2042    2.95416\n2043    2.84844\n2044    2.74272\n2045      2.637\n2046    2.53128\n2047    2.42556\n2048    2.31984\n2049    2.21412\n2050     2.1084\nName: Blue hydrogen emissions [kg CO2/kg H2] - Norway, dtype: object"
     },
     "execution_count": 22,
     "metadata": {},
     "output_type": "execute_result"
    }
   ],
   "source": [
    "H2_emissions = (GHG.loc['Blue hydrogen emissions [kg CO2/kg H2] - Norway', 2025:2050])\n",
    "H2_emissions"
   ],
   "metadata": {
    "collapsed": false,
    "pycharm": {
     "name": "#%%\n"
    }
   }
  },
  {
   "cell_type": "code",
   "execution_count": null,
   "outputs": [],
   "source": [],
   "metadata": {
    "collapsed": false,
    "pycharm": {
     "name": "#%%\n"
    }
   }
  }
 ],
 "metadata": {
  "kernelspec": {
   "display_name": "Python 3",
   "language": "python",
   "name": "python3"
  },
  "language_info": {
   "codemirror_mode": {
    "name": "ipython",
    "version": 2
   },
   "file_extension": ".py",
   "mimetype": "text/x-python",
   "name": "python",
   "nbconvert_exporter": "python",
   "pygments_lexer": "ipython2",
   "version": "2.7.6"
  }
 },
 "nbformat": 4,
 "nbformat_minor": 0
}