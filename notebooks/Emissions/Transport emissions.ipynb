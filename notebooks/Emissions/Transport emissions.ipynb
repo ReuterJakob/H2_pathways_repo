{
 "cells": [
  {
   "cell_type": "code",
   "execution_count": 83,
   "metadata": {
    "collapsed": true,
    "pycharm": {
     "name": "#%%\n"
    }
   },
   "outputs": [],
   "source": [
    "import numpy as np\n",
    "import pandas as pd\n",
    "from matplotlib import pyplot as plt\n",
    "import os"
   ]
  },
  {
   "cell_type": "markdown",
   "source": [
    "## Read inputs"
   ],
   "metadata": {
    "collapsed": false,
    "pycharm": {
     "name": "#%% md\n"
    }
   }
  },
  {
   "cell_type": "code",
   "execution_count": 254,
   "outputs": [
    {
     "data": {
      "text/plain": "                                                                               Parameter  \\\nID                                                                                         \nGHG intensity of electricity generation [g CO2e...                                   NaN   \nGHG intensity of electricity generation [g CO2e...                                   NaN   \nBlue hydrogen emissions [g CO2/MJ H2] - Norway                                       NaN   \nBlue hydrogen emissions [kg CO2/kg H2] - Norway                                      NaN   \nProperties                                                                           NaN   \nCH4 LHV [KWh/kg]                                                                    13.1   \nH2 LHV [KWh/kg]                                                                    33.33   \nCH4 GWP20 [Years]                                                                     86   \nCH4 GWP100 [Years]                                                                    30   \nCombustion emissions CH4 [g CO2/MJ]                                                   56   \nH2 HHV [MJ/mole]                                                                   0.286   \nH2 LHV [MJ/mole]                                                                0.242202   \nH2 HHV [mole/MJ]                                                                3.496503   \nHHV [CO2/MJ_H2]                                                                 0.874126   \nH2 HHV [MJ/kg]                                                                     141.7   \nH2 LHV [MJ/kg]                                                                       120   \nH2 LHV [mole/MJ]                                                                4.128788   \nratio LHV/HHV                                                                    0.84686   \nLHV [CO2/MJ_H2]                                                                 1.032197   \nCO2 [g/Mole]                                                                       44.01   \nCH4 [g/Mole]                                                                       16.04   \nUpstream                                                                             NaN   \nUpstream methane leakage rate [%] low                                              0.002   \nUpstream methane leakage rate [%] mid                                              0.015   \nUpstream methane leakage rate [%] high                                              0.08   \nUpstream methane emissions [g CO2e/MJ_H2] low                                     5.4696   \nUpstream methane emissions [g CO2e/MJ_H2] mid                                     41.022   \nUpstream methane emissions [g CO2e/MJ_H2] high                                   218.784   \nIndirect upstream emissions [%]                                                    0.075   \nIndirect upstream emissions [g CO2e/MJ_CH4]                                          NaN   \nH2 from SMR                                                                          NaN   \nCO2 from SMR as feedstock [g CO2/MJ]                                                45.4   \nCO2 from SMR as fuel [g CO2/MJ]                                                     41.9   \nCapture rate [%] flue gas low                                                       0.65   \nCapture rate [%] flue gas high                                                       0.9   \nDirect CO2 emissions [g CO2/MJ]                                                       75   \nCH4 consumed for grey H2 [g CH4/MJ_H2]                                              31.8   \nCapture rate [%] low                                                                0.55   \nCapture rate [%] mid                                                                 0.8   \nCapture rate [%] high                                                               0.95   \nEnergy to drive SMR                                                                  NaN   \nHeat Input [MJ/mole_H2]                                                           0.1814   \nEnergy to power carbon capture                                                       NaN   \nElectricty from grid                                                                   9   \nHydrogen leakage                                    Predicted Emission Confidence level    \nElectrolytic hydrogen production [% of produced...                                 0.092   \nElectrolytic hydrogen production [% of produced...                                0.0052   \nCCS enabled hydrogen production [% of produced ...                                 0.005   \nLarge-scale transmission [% of transported hyod...                                0.0048   \nPipeline transport                                                                   NaN   \nEnergy use for compression                                                           NaN   \nLow - Compression capacity @ 48inch [MW_el/1000km]                                   190   \nMedium - Compression capacity @ 48inch [MW_el/1...                                   260   \nHigh - Compression capacity @ 48inch [MW_el/100...                                   330   \nAssumed load factor for compressor electricity ...                                  5000   \nAssumed load factor for compressor electricity ...                              0.570776   \nCapacity at full load factor [GW_H2_LHV]                                              13   \nCapacity at full load factor [kg H2/a]                                 2033571428.571429   \nPipeline load factor [%]                                                            0.75   \n\n                                                                                                  Ref  \\\nID                                                                                                      \nGHG intensity of electricity generation [g CO2e...                                           EEA 2022   \nGHG intensity of electricity generation [g CO2e...                                  Our world in Data   \nBlue hydrogen emissions [g CO2/MJ H2] - Norway                                        Own calculation   \nBlue hydrogen emissions [kg CO2/kg H2] - Norway                                       Own calculation   \nProperties                                                                                        NaN   \nCH4 LHV [KWh/kg]                                                                                  NaN   \nH2 LHV [KWh/kg]                                                                                   NaN   \nCH4 GWP20 [Years]                                                                                 NaN   \nCH4 GWP100 [Years]                                  Bauer, https://www.ercevolution.energy/ipcc-si...   \nCombustion emissions CH4 [g CO2/MJ]                                                               NaN   \nH2 HHV [MJ/mole]                                                                                  NaN   \nH2 LHV [MJ/mole]                                                                                  NaN   \nH2 HHV [mole/MJ]                                                                                  NaN   \nHHV [CO2/MJ_H2]                                                                                   NaN   \nH2 HHV [MJ/kg]                                                                                    NaN   \nH2 LHV [MJ/kg]                                                                                    NaN   \nH2 LHV [mole/MJ]                                                                                  NaN   \nratio LHV/HHV                                                                                     NaN   \nLHV [CO2/MJ_H2]                                                                                   NaN   \nCO2 [g/Mole]                                                                                  howarth   \nCH4 [g/Mole]                                                                                      NaN   \nUpstream                                                                                          NaN   \nUpstream methane leakage rate [%] low                                             Antonini et al 2020   \nUpstream methane leakage rate [%] mid                                             Antonini et al 2020   \nUpstream methane leakage rate [%] high                                            Antonini et al 2020   \nUpstream methane emissions [g CO2e/MJ_H2] low                                                     NaN   \nUpstream methane emissions [g CO2e/MJ_H2] mid                                                     NaN   \nUpstream methane emissions [g CO2e/MJ_H2] high                                                    NaN   \nIndirect upstream emissions [%]                                                               howarth   \nIndirect upstream emissions [g CO2e/MJ_CH4]                                                       NaN   \nH2 from SMR                                                                                       NaN   \nCO2 from SMR as feedstock [g CO2/MJ]                                                              NaN   \nCO2 from SMR as fuel [g CO2/MJ]                                                                   NaN   \nCapture rate [%] flue gas low                                                                     NaN   \nCapture rate [%] flue gas high                                                                    NaN   \nDirect CO2 emissions [g CO2/MJ]                                                                   NaN   \nCH4 consumed for grey H2 [g CH4/MJ_H2]                                                            NaN   \nCapture rate [%] low                                                                              NaN   \nCapture rate [%] mid                                                                              NaN   \nCapture rate [%] high                                                                             NaN   \nEnergy to drive SMR                                                                               NaN   \nHeat Input [MJ/mole_H2]                                                                           NaN   \nEnergy to power carbon capture                                                                    NaN   \nElectricty from grid                                                              Antonini et al 2020   \nHydrogen leakage                                                                                  Ref   \nElectrolytic hydrogen production [% of produced...                                           DOE 2022   \nElectrolytic hydrogen production [% of produced...                                           DOE 2022   \nCCS enabled hydrogen production [% of produced ...                                           DOE 2022   \nLarge-scale transmission [% of transported hyod...                                           DOE 2022   \nPipeline transport                                                                                NaN   \nEnergy use for compression                                                                        NaN   \nLow - Compression capacity @ 48inch [MW_el/1000km]                                           EHB 2020   \nMedium - Compression capacity @ 48inch [MW_el/1...                                           EHB 2020   \nHigh - Compression capacity @ 48inch [MW_el/100...                                           EHB 2020   \nAssumed load factor for compressor electricity ...                                           EHB 2020   \nAssumed load factor for compressor electricity ...                                           EHB 2020   \nCapacity at full load factor [GW_H2_LHV]                                                          NaN   \nCapacity at full load factor [kg H2/a]                                                            NaN   \nPipeline load factor [%]                                                                          NaN   \n\n                                                     1990   1991   1992  \\\nID                                                                        \nGHG intensity of electricity generation [g CO2e...  652.0  656.0  628.0   \nGHG intensity of electricity generation [g CO2e...    NaN    NaN    NaN   \nBlue hydrogen emissions [g CO2/MJ H2] - Norway        NaN    NaN    NaN   \nBlue hydrogen emissions [kg CO2/kg H2] - Norway       NaN    NaN    NaN   \nProperties                                            NaN    NaN    NaN   \nCH4 LHV [KWh/kg]                                      NaN    NaN    NaN   \nH2 LHV [KWh/kg]                                       NaN    NaN    NaN   \nCH4 GWP20 [Years]                                     NaN    NaN    NaN   \nCH4 GWP100 [Years]                                    NaN    NaN    NaN   \nCombustion emissions CH4 [g CO2/MJ]                   NaN    NaN    NaN   \nH2 HHV [MJ/mole]                                      NaN    NaN    NaN   \nH2 LHV [MJ/mole]                                      NaN    NaN    NaN   \nH2 HHV [mole/MJ]                                      NaN    NaN    NaN   \nHHV [CO2/MJ_H2]                                       NaN    NaN    NaN   \nH2 HHV [MJ/kg]                                        NaN    NaN    NaN   \nH2 LHV [MJ/kg]                                        NaN    NaN    NaN   \nH2 LHV [mole/MJ]                                      NaN    NaN    NaN   \nratio LHV/HHV                                         NaN    NaN    NaN   \nLHV [CO2/MJ_H2]                                       NaN    NaN    NaN   \nCO2 [g/Mole]                                          NaN    NaN    NaN   \nCH4 [g/Mole]                                          NaN    NaN    NaN   \nUpstream                                              NaN    NaN    NaN   \nUpstream methane leakage rate [%] low                 NaN    NaN    NaN   \nUpstream methane leakage rate [%] mid                 NaN    NaN    NaN   \nUpstream methane leakage rate [%] high                NaN    NaN    NaN   \nUpstream methane emissions [g CO2e/MJ_H2] low         NaN    NaN    NaN   \nUpstream methane emissions [g CO2e/MJ_H2] mid         NaN    NaN    NaN   \nUpstream methane emissions [g CO2e/MJ_H2] high        NaN    NaN    NaN   \nIndirect upstream emissions [%]                       NaN    NaN    NaN   \nIndirect upstream emissions [g CO2e/MJ_CH4]           NaN    NaN    NaN   \nH2 from SMR                                           NaN    NaN    NaN   \nCO2 from SMR as feedstock [g CO2/MJ]                  NaN    NaN    NaN   \nCO2 from SMR as fuel [g CO2/MJ]                       NaN    NaN    NaN   \nCapture rate [%] flue gas low                         NaN    NaN    NaN   \nCapture rate [%] flue gas high                        NaN    NaN    NaN   \nDirect CO2 emissions [g CO2/MJ]                       NaN    NaN    NaN   \nCH4 consumed for grey H2 [g CH4/MJ_H2]                NaN    NaN    NaN   \nCapture rate [%] low                                  NaN    NaN    NaN   \nCapture rate [%] mid                                  NaN    NaN    NaN   \nCapture rate [%] high                                 NaN    NaN    NaN   \nEnergy to drive SMR                                   NaN    NaN    NaN   \nHeat Input [MJ/mole_H2]                               NaN    NaN    NaN   \nEnergy to power carbon capture                        NaN    NaN    NaN   \nElectricty from grid                                  NaN    NaN    NaN   \nHydrogen leakage                                      NaN    NaN    NaN   \nElectrolytic hydrogen production [% of produced...    NaN    NaN    NaN   \nElectrolytic hydrogen production [% of produced...    NaN    NaN    NaN   \nCCS enabled hydrogen production [% of produced ...    NaN    NaN    NaN   \nLarge-scale transmission [% of transported hyod...    NaN    NaN    NaN   \nPipeline transport                                    NaN    NaN    NaN   \nEnergy use for compression                            NaN    NaN    NaN   \nLow - Compression capacity @ 48inch [MW_el/1000km]    NaN    NaN    NaN   \nMedium - Compression capacity @ 48inch [MW_el/1...    NaN    NaN    NaN   \nHigh - Compression capacity @ 48inch [MW_el/100...    NaN    NaN    NaN   \nAssumed load factor for compressor electricity ...    NaN    NaN    NaN   \nAssumed load factor for compressor electricity ...    NaN    NaN    NaN   \nCapacity at full load factor [GW_H2_LHV]              NaN    NaN    NaN   \nCapacity at full load factor [kg H2/a]                NaN    NaN    NaN   \nPipeline load factor [%]                              NaN    NaN    NaN   \n\n                                                     1993   1994   1995  \\\nID                                                                        \nGHG intensity of electricity generation [g CO2e...  631.0  626.0  610.0   \nGHG intensity of electricity generation [g CO2e...    NaN    NaN    NaN   \nBlue hydrogen emissions [g CO2/MJ H2] - Norway        NaN    NaN    NaN   \nBlue hydrogen emissions [kg CO2/kg H2] - Norway       NaN    NaN    NaN   \nProperties                                            NaN    NaN    NaN   \nCH4 LHV [KWh/kg]                                      NaN    NaN    NaN   \nH2 LHV [KWh/kg]                                       NaN    NaN    NaN   \nCH4 GWP20 [Years]                                     NaN    NaN    NaN   \nCH4 GWP100 [Years]                                    NaN    NaN    NaN   \nCombustion emissions CH4 [g CO2/MJ]                   NaN    NaN    NaN   \nH2 HHV [MJ/mole]                                      NaN    NaN    NaN   \nH2 LHV [MJ/mole]                                      NaN    NaN    NaN   \nH2 HHV [mole/MJ]                                      NaN    NaN    NaN   \nHHV [CO2/MJ_H2]                                       NaN    NaN    NaN   \nH2 HHV [MJ/kg]                                        NaN    NaN    NaN   \nH2 LHV [MJ/kg]                                        NaN    NaN    NaN   \nH2 LHV [mole/MJ]                                      NaN    NaN    NaN   \nratio LHV/HHV                                         NaN    NaN    NaN   \nLHV [CO2/MJ_H2]                                       NaN    NaN    NaN   \nCO2 [g/Mole]                                          NaN    NaN    NaN   \nCH4 [g/Mole]                                          NaN    NaN    NaN   \nUpstream                                              NaN    NaN    NaN   \nUpstream methane leakage rate [%] low                 NaN    NaN    NaN   \nUpstream methane leakage rate [%] mid                 NaN    NaN    NaN   \nUpstream methane leakage rate [%] high                NaN    NaN    NaN   \nUpstream methane emissions [g CO2e/MJ_H2] low         NaN    NaN    NaN   \nUpstream methane emissions [g CO2e/MJ_H2] mid         NaN    NaN    NaN   \nUpstream methane emissions [g CO2e/MJ_H2] high        NaN    NaN    NaN   \nIndirect upstream emissions [%]                       NaN    NaN    NaN   \nIndirect upstream emissions [g CO2e/MJ_CH4]           NaN    NaN    NaN   \nH2 from SMR                                           NaN    NaN    NaN   \nCO2 from SMR as feedstock [g CO2/MJ]                  NaN    NaN    NaN   \nCO2 from SMR as fuel [g CO2/MJ]                       NaN    NaN    NaN   \nCapture rate [%] flue gas low                         NaN    NaN    NaN   \nCapture rate [%] flue gas high                        NaN    NaN    NaN   \nDirect CO2 emissions [g CO2/MJ]                       NaN    NaN    NaN   \nCH4 consumed for grey H2 [g CH4/MJ_H2]                NaN    NaN    NaN   \nCapture rate [%] low                                  NaN    NaN    NaN   \nCapture rate [%] mid                                  NaN    NaN    NaN   \nCapture rate [%] high                                 NaN    NaN    NaN   \nEnergy to drive SMR                                   NaN    NaN    NaN   \nHeat Input [MJ/mole_H2]                               NaN    NaN    NaN   \nEnergy to power carbon capture                        NaN    NaN    NaN   \nElectricty from grid                                  NaN    NaN    NaN   \nHydrogen leakage                                      NaN    NaN    NaN   \nElectrolytic hydrogen production [% of produced...    NaN    NaN    NaN   \nElectrolytic hydrogen production [% of produced...    NaN    NaN    NaN   \nCCS enabled hydrogen production [% of produced ...    NaN    NaN    NaN   \nLarge-scale transmission [% of transported hyod...    NaN    NaN    NaN   \nPipeline transport                                    NaN    NaN    NaN   \nEnergy use for compression                            NaN    NaN    NaN   \nLow - Compression capacity @ 48inch [MW_el/1000km]    NaN    NaN    NaN   \nMedium - Compression capacity @ 48inch [MW_el/1...    NaN    NaN    NaN   \nHigh - Compression capacity @ 48inch [MW_el/100...    NaN    NaN    NaN   \nAssumed load factor for compressor electricity ...    NaN    NaN    NaN   \nAssumed load factor for compressor electricity ...    NaN    NaN    NaN   \nCapacity at full load factor [GW_H2_LHV]              NaN    NaN    NaN   \nCapacity at full load factor [kg H2/a]                NaN    NaN    NaN   \nPipeline load factor [%]                              NaN    NaN    NaN   \n\n                                                     1996   1997  ...  \\\nID                                                                ...   \nGHG intensity of electricity generation [g CO2e...  580.0  566.0  ...   \nGHG intensity of electricity generation [g CO2e...    NaN    NaN  ...   \nBlue hydrogen emissions [g CO2/MJ H2] - Norway        NaN    NaN  ...   \nBlue hydrogen emissions [kg CO2/kg H2] - Norway       NaN    NaN  ...   \nProperties                                            NaN    NaN  ...   \nCH4 LHV [KWh/kg]                                      NaN    NaN  ...   \nH2 LHV [KWh/kg]                                       NaN    NaN  ...   \nCH4 GWP20 [Years]                                     NaN    NaN  ...   \nCH4 GWP100 [Years]                                    NaN    NaN  ...   \nCombustion emissions CH4 [g CO2/MJ]                   NaN    NaN  ...   \nH2 HHV [MJ/mole]                                      NaN    NaN  ...   \nH2 LHV [MJ/mole]                                      NaN    NaN  ...   \nH2 HHV [mole/MJ]                                      NaN    NaN  ...   \nHHV [CO2/MJ_H2]                                       NaN    NaN  ...   \nH2 HHV [MJ/kg]                                        NaN    NaN  ...   \nH2 LHV [MJ/kg]                                        NaN    NaN  ...   \nH2 LHV [mole/MJ]                                      NaN    NaN  ...   \nratio LHV/HHV                                         NaN    NaN  ...   \nLHV [CO2/MJ_H2]                                       NaN    NaN  ...   \nCO2 [g/Mole]                                          NaN    NaN  ...   \nCH4 [g/Mole]                                          NaN    NaN  ...   \nUpstream                                              NaN    NaN  ...   \nUpstream methane leakage rate [%] low                 NaN    NaN  ...   \nUpstream methane leakage rate [%] mid                 NaN    NaN  ...   \nUpstream methane leakage rate [%] high                NaN    NaN  ...   \nUpstream methane emissions [g CO2e/MJ_H2] low         NaN    NaN  ...   \nUpstream methane emissions [g CO2e/MJ_H2] mid         NaN    NaN  ...   \nUpstream methane emissions [g CO2e/MJ_H2] high        NaN    NaN  ...   \nIndirect upstream emissions [%]                       NaN    NaN  ...   \nIndirect upstream emissions [g CO2e/MJ_CH4]           NaN    NaN  ...   \nH2 from SMR                                           NaN    NaN  ...   \nCO2 from SMR as feedstock [g CO2/MJ]                  NaN    NaN  ...   \nCO2 from SMR as fuel [g CO2/MJ]                       NaN    NaN  ...   \nCapture rate [%] flue gas low                         NaN    NaN  ...   \nCapture rate [%] flue gas high                        NaN    NaN  ...   \nDirect CO2 emissions [g CO2/MJ]                       NaN    NaN  ...   \nCH4 consumed for grey H2 [g CH4/MJ_H2]                NaN    NaN  ...   \nCapture rate [%] low                                  NaN    NaN  ...   \nCapture rate [%] mid                                  NaN    NaN  ...   \nCapture rate [%] high                                 NaN    NaN  ...   \nEnergy to drive SMR                                   NaN    NaN  ...   \nHeat Input [MJ/mole_H2]                               NaN    NaN  ...   \nEnergy to power carbon capture                        NaN    NaN  ...   \nElectricty from grid                                  NaN    NaN  ...   \nHydrogen leakage                                      NaN    NaN  ...   \nElectrolytic hydrogen production [% of produced...    NaN    NaN  ...   \nElectrolytic hydrogen production [% of produced...    NaN    NaN  ...   \nCCS enabled hydrogen production [% of produced ...    NaN    NaN  ...   \nLarge-scale transmission [% of transported hyod...    NaN    NaN  ...   \nPipeline transport                                    NaN    NaN  ...   \nEnergy use for compression                            NaN    NaN  ...   \nLow - Compression capacity @ 48inch [MW_el/1000km]    NaN    NaN  ...   \nMedium - Compression capacity @ 48inch [MW_el/1...    NaN    NaN  ...   \nHigh - Compression capacity @ 48inch [MW_el/100...    NaN    NaN  ...   \nAssumed load factor for compressor electricity ...    NaN    NaN  ...   \nAssumed load factor for compressor electricity ...    NaN    NaN  ...   \nCapacity at full load factor [GW_H2_LHV]              NaN    NaN  ...   \nCapacity at full load factor [kg H2/a]                NaN    NaN  ...   \nPipeline load factor [%]                              NaN    NaN  ...   \n\n                                                        2041       2042  \\\nID                                                                        \nGHG intensity of electricity generation [g CO2e...  62.59200  46.944000   \nGHG intensity of electricity generation [g CO2e...   4.18012   3.135090   \nBlue hydrogen emissions [g CO2/MJ H2] - Norway      34.34300  32.479333   \nBlue hydrogen emissions [kg CO2/kg H2] - Norway      4.12116   3.897520   \nProperties                                               NaN        NaN   \nCH4 LHV [KWh/kg]                                         NaN        NaN   \nH2 LHV [KWh/kg]                                          NaN        NaN   \nCH4 GWP20 [Years]                                        NaN        NaN   \nCH4 GWP100 [Years]                                       NaN        NaN   \nCombustion emissions CH4 [g CO2/MJ]                      NaN        NaN   \nH2 HHV [MJ/mole]                                         NaN        NaN   \nH2 LHV [MJ/mole]                                         NaN        NaN   \nH2 HHV [mole/MJ]                                         NaN        NaN   \nHHV [CO2/MJ_H2]                                          NaN        NaN   \nH2 HHV [MJ/kg]                                           NaN        NaN   \nH2 LHV [MJ/kg]                                           NaN        NaN   \nH2 LHV [mole/MJ]                                         NaN        NaN   \nratio LHV/HHV                                            NaN        NaN   \nLHV [CO2/MJ_H2]                                          NaN        NaN   \nCO2 [g/Mole]                                             NaN        NaN   \nCH4 [g/Mole]                                             NaN        NaN   \nUpstream                                                 NaN        NaN   \nUpstream methane leakage rate [%] low                    NaN        NaN   \nUpstream methane leakage rate [%] mid                    NaN        NaN   \nUpstream methane leakage rate [%] high                   NaN        NaN   \nUpstream methane emissions [g CO2e/MJ_H2] low            NaN        NaN   \nUpstream methane emissions [g CO2e/MJ_H2] mid            NaN        NaN   \nUpstream methane emissions [g CO2e/MJ_H2] high           NaN        NaN   \nIndirect upstream emissions [%]                          NaN        NaN   \nIndirect upstream emissions [g CO2e/MJ_CH4]              NaN        NaN   \nH2 from SMR                                              NaN        NaN   \nCO2 from SMR as feedstock [g CO2/MJ]                     NaN        NaN   \nCO2 from SMR as fuel [g CO2/MJ]                          NaN        NaN   \nCapture rate [%] flue gas low                            NaN        NaN   \nCapture rate [%] flue gas high                           NaN        NaN   \nDirect CO2 emissions [g CO2/MJ]                          NaN        NaN   \nCH4 consumed for grey H2 [g CH4/MJ_H2]                   NaN        NaN   \nCapture rate [%] low                                     NaN        NaN   \nCapture rate [%] mid                                     NaN        NaN   \nCapture rate [%] high                                    NaN        NaN   \nEnergy to drive SMR                                      NaN        NaN   \nHeat Input [MJ/mole_H2]                                  NaN        NaN   \nEnergy to power carbon capture                           NaN        NaN   \nElectricty from grid                                     NaN        NaN   \nHydrogen leakage                                         NaN        NaN   \nElectrolytic hydrogen production [% of produced...       NaN        NaN   \nElectrolytic hydrogen production [% of produced...       NaN        NaN   \nCCS enabled hydrogen production [% of produced ...       NaN        NaN   \nLarge-scale transmission [% of transported hyod...       NaN        NaN   \nPipeline transport                                       NaN        NaN   \nEnergy use for compression                               NaN        NaN   \nLow - Compression capacity @ 48inch [MW_el/1000km]       NaN        NaN   \nMedium - Compression capacity @ 48inch [MW_el/1...       NaN        NaN   \nHigh - Compression capacity @ 48inch [MW_el/100...       NaN        NaN   \nAssumed load factor for compressor electricity ...       NaN        NaN   \nAssumed load factor for compressor electricity ...       NaN        NaN   \nCapacity at full load factor [GW_H2_LHV]                 NaN        NaN   \nCapacity at full load factor [kg H2/a]                   NaN        NaN   \nPipeline load factor [%]                                 NaN        NaN   \n\n                                                         2043      2044  \\\nID                                                                        \nGHG intensity of electricity generation [g CO2e...  31.296000  15.64800   \nGHG intensity of electricity generation [g CO2e...   2.090060   1.04503   \nBlue hydrogen emissions [g CO2/MJ H2] - Norway      30.615667  28.75200   \nBlue hydrogen emissions [kg CO2/kg H2] - Norway      3.673880   3.45024   \nProperties                                                NaN       NaN   \nCH4 LHV [KWh/kg]                                          NaN       NaN   \nH2 LHV [KWh/kg]                                           NaN       NaN   \nCH4 GWP20 [Years]                                         NaN       NaN   \nCH4 GWP100 [Years]                                        NaN       NaN   \nCombustion emissions CH4 [g CO2/MJ]                       NaN       NaN   \nH2 HHV [MJ/mole]                                          NaN       NaN   \nH2 LHV [MJ/mole]                                          NaN       NaN   \nH2 HHV [mole/MJ]                                          NaN       NaN   \nHHV [CO2/MJ_H2]                                           NaN       NaN   \nH2 HHV [MJ/kg]                                            NaN       NaN   \nH2 LHV [MJ/kg]                                            NaN       NaN   \nH2 LHV [mole/MJ]                                          NaN       NaN   \nratio LHV/HHV                                             NaN       NaN   \nLHV [CO2/MJ_H2]                                           NaN       NaN   \nCO2 [g/Mole]                                              NaN       NaN   \nCH4 [g/Mole]                                              NaN       NaN   \nUpstream                                                  NaN       NaN   \nUpstream methane leakage rate [%] low                     NaN       NaN   \nUpstream methane leakage rate [%] mid                     NaN       NaN   \nUpstream methane leakage rate [%] high                    NaN       NaN   \nUpstream methane emissions [g CO2e/MJ_H2] low             NaN       NaN   \nUpstream methane emissions [g CO2e/MJ_H2] mid             NaN       NaN   \nUpstream methane emissions [g CO2e/MJ_H2] high            NaN       NaN   \nIndirect upstream emissions [%]                           NaN       NaN   \nIndirect upstream emissions [g CO2e/MJ_CH4]               NaN       NaN   \nH2 from SMR                                               NaN       NaN   \nCO2 from SMR as feedstock [g CO2/MJ]                      NaN       NaN   \nCO2 from SMR as fuel [g CO2/MJ]                           NaN       NaN   \nCapture rate [%] flue gas low                             NaN       NaN   \nCapture rate [%] flue gas high                            NaN       NaN   \nDirect CO2 emissions [g CO2/MJ]                           NaN       NaN   \nCH4 consumed for grey H2 [g CH4/MJ_H2]                    NaN       NaN   \nCapture rate [%] low                                      NaN       NaN   \nCapture rate [%] mid                                      NaN       NaN   \nCapture rate [%] high                                     NaN       NaN   \nEnergy to drive SMR                                       NaN       NaN   \nHeat Input [MJ/mole_H2]                                   NaN       NaN   \nEnergy to power carbon capture                            NaN       NaN   \nElectricty from grid                                      NaN       NaN   \nHydrogen leakage                                          NaN       NaN   \nElectrolytic hydrogen production [% of produced...        NaN       NaN   \nElectrolytic hydrogen production [% of produced...        NaN       NaN   \nCCS enabled hydrogen production [% of produced ...        NaN       NaN   \nLarge-scale transmission [% of transported hyod...        NaN       NaN   \nPipeline transport                                        NaN       NaN   \nEnergy use for compression                                NaN       NaN   \nLow - Compression capacity @ 48inch [MW_el/1000km]        NaN       NaN   \nMedium - Compression capacity @ 48inch [MW_el/1...        NaN       NaN   \nHigh - Compression capacity @ 48inch [MW_el/100...        NaN       NaN   \nAssumed load factor for compressor electricity ...        NaN       NaN   \nAssumed load factor for compressor electricity ...        NaN       NaN   \nCapacity at full load factor [GW_H2_LHV]                  NaN       NaN   \nCapacity at full load factor [kg H2/a]                    NaN       NaN   \nPipeline load factor [%]                                  NaN       NaN   \n\n                                                         2045       2046  \\\nID                                                                         \nGHG intensity of electricity generation [g CO2e...   0.000000   0.000000   \nGHG intensity of electricity generation [g CO2e...   0.000000   0.000000   \nBlue hydrogen emissions [g CO2/MJ H2] - Norway      26.888333  25.024667   \nBlue hydrogen emissions [kg CO2/kg H2] - Norway      3.226600   3.002960   \nProperties                                                NaN        NaN   \nCH4 LHV [KWh/kg]                                          NaN        NaN   \nH2 LHV [KWh/kg]                                           NaN        NaN   \nCH4 GWP20 [Years]                                         NaN        NaN   \nCH4 GWP100 [Years]                                        NaN        NaN   \nCombustion emissions CH4 [g CO2/MJ]                       NaN        NaN   \nH2 HHV [MJ/mole]                                          NaN        NaN   \nH2 LHV [MJ/mole]                                          NaN        NaN   \nH2 HHV [mole/MJ]                                          NaN        NaN   \nHHV [CO2/MJ_H2]                                           NaN        NaN   \nH2 HHV [MJ/kg]                                            NaN        NaN   \nH2 LHV [MJ/kg]                                            NaN        NaN   \nH2 LHV [mole/MJ]                                          NaN        NaN   \nratio LHV/HHV                                             NaN        NaN   \nLHV [CO2/MJ_H2]                                           NaN        NaN   \nCO2 [g/Mole]                                              NaN        NaN   \nCH4 [g/Mole]                                              NaN        NaN   \nUpstream                                                  NaN        NaN   \nUpstream methane leakage rate [%] low                     NaN        NaN   \nUpstream methane leakage rate [%] mid                     NaN        NaN   \nUpstream methane leakage rate [%] high                    NaN        NaN   \nUpstream methane emissions [g CO2e/MJ_H2] low             NaN        NaN   \nUpstream methane emissions [g CO2e/MJ_H2] mid             NaN        NaN   \nUpstream methane emissions [g CO2e/MJ_H2] high            NaN        NaN   \nIndirect upstream emissions [%]                           NaN        NaN   \nIndirect upstream emissions [g CO2e/MJ_CH4]               NaN        NaN   \nH2 from SMR                                               NaN        NaN   \nCO2 from SMR as feedstock [g CO2/MJ]                      NaN        NaN   \nCO2 from SMR as fuel [g CO2/MJ]                           NaN        NaN   \nCapture rate [%] flue gas low                             NaN        NaN   \nCapture rate [%] flue gas high                            NaN        NaN   \nDirect CO2 emissions [g CO2/MJ]                           NaN        NaN   \nCH4 consumed for grey H2 [g CH4/MJ_H2]                    NaN        NaN   \nCapture rate [%] low                                      NaN        NaN   \nCapture rate [%] mid                                      NaN        NaN   \nCapture rate [%] high                                     NaN        NaN   \nEnergy to drive SMR                                       NaN        NaN   \nHeat Input [MJ/mole_H2]                                   NaN        NaN   \nEnergy to power carbon capture                            NaN        NaN   \nElectricty from grid                                      NaN        NaN   \nHydrogen leakage                                          NaN        NaN   \nElectrolytic hydrogen production [% of produced...        NaN        NaN   \nElectrolytic hydrogen production [% of produced...        NaN        NaN   \nCCS enabled hydrogen production [% of produced ...        NaN        NaN   \nLarge-scale transmission [% of transported hyod...        NaN        NaN   \nPipeline transport                                        NaN        NaN   \nEnergy use for compression                                NaN        NaN   \nLow - Compression capacity @ 48inch [MW_el/1000km]        NaN        NaN   \nMedium - Compression capacity @ 48inch [MW_el/1...        NaN        NaN   \nHigh - Compression capacity @ 48inch [MW_el/100...        NaN        NaN   \nAssumed load factor for compressor electricity ...        NaN        NaN   \nAssumed load factor for compressor electricity ...        NaN        NaN   \nCapacity at full load factor [GW_H2_LHV]                  NaN        NaN   \nCapacity at full load factor [kg H2/a]                    NaN        NaN   \nPipeline load factor [%]                                  NaN        NaN   \n\n                                                        2047       2048  \\\nID                                                                        \nGHG intensity of electricity generation [g CO2e...   0.00000   0.000000   \nGHG intensity of electricity generation [g CO2e...   0.00000   0.000000   \nBlue hydrogen emissions [g CO2/MJ H2] - Norway      23.16100  21.297333   \nBlue hydrogen emissions [kg CO2/kg H2] - Norway      2.77932   2.555680   \nProperties                                               NaN        NaN   \nCH4 LHV [KWh/kg]                                         NaN        NaN   \nH2 LHV [KWh/kg]                                          NaN        NaN   \nCH4 GWP20 [Years]                                        NaN        NaN   \nCH4 GWP100 [Years]                                       NaN        NaN   \nCombustion emissions CH4 [g CO2/MJ]                      NaN        NaN   \nH2 HHV [MJ/mole]                                         NaN        NaN   \nH2 LHV [MJ/mole]                                         NaN        NaN   \nH2 HHV [mole/MJ]                                         NaN        NaN   \nHHV [CO2/MJ_H2]                                          NaN        NaN   \nH2 HHV [MJ/kg]                                           NaN        NaN   \nH2 LHV [MJ/kg]                                           NaN        NaN   \nH2 LHV [mole/MJ]                                         NaN        NaN   \nratio LHV/HHV                                            NaN        NaN   \nLHV [CO2/MJ_H2]                                          NaN        NaN   \nCO2 [g/Mole]                                             NaN        NaN   \nCH4 [g/Mole]                                             NaN        NaN   \nUpstream                                                 NaN        NaN   \nUpstream methane leakage rate [%] low                    NaN        NaN   \nUpstream methane leakage rate [%] mid                    NaN        NaN   \nUpstream methane leakage rate [%] high                   NaN        NaN   \nUpstream methane emissions [g CO2e/MJ_H2] low            NaN        NaN   \nUpstream methane emissions [g CO2e/MJ_H2] mid            NaN        NaN   \nUpstream methane emissions [g CO2e/MJ_H2] high           NaN        NaN   \nIndirect upstream emissions [%]                          NaN        NaN   \nIndirect upstream emissions [g CO2e/MJ_CH4]              NaN        NaN   \nH2 from SMR                                              NaN        NaN   \nCO2 from SMR as feedstock [g CO2/MJ]                     NaN        NaN   \nCO2 from SMR as fuel [g CO2/MJ]                          NaN        NaN   \nCapture rate [%] flue gas low                            NaN        NaN   \nCapture rate [%] flue gas high                           NaN        NaN   \nDirect CO2 emissions [g CO2/MJ]                          NaN        NaN   \nCH4 consumed for grey H2 [g CH4/MJ_H2]                   NaN        NaN   \nCapture rate [%] low                                     NaN        NaN   \nCapture rate [%] mid                                     NaN        NaN   \nCapture rate [%] high                                    NaN        NaN   \nEnergy to drive SMR                                      NaN        NaN   \nHeat Input [MJ/mole_H2]                                  NaN        NaN   \nEnergy to power carbon capture                           NaN        NaN   \nElectricty from grid                                     NaN        NaN   \nHydrogen leakage                                         NaN        NaN   \nElectrolytic hydrogen production [% of produced...       NaN        NaN   \nElectrolytic hydrogen production [% of produced...       NaN        NaN   \nCCS enabled hydrogen production [% of produced ...       NaN        NaN   \nLarge-scale transmission [% of transported hyod...       NaN        NaN   \nPipeline transport                                       NaN        NaN   \nEnergy use for compression                               NaN        NaN   \nLow - Compression capacity @ 48inch [MW_el/1000km]       NaN        NaN   \nMedium - Compression capacity @ 48inch [MW_el/1...       NaN        NaN   \nHigh - Compression capacity @ 48inch [MW_el/100...       NaN        NaN   \nAssumed load factor for compressor electricity ...       NaN        NaN   \nAssumed load factor for compressor electricity ...       NaN        NaN   \nCapacity at full load factor [GW_H2_LHV]                 NaN        NaN   \nCapacity at full load factor [kg H2/a]                   NaN        NaN   \nPipeline load factor [%]                                 NaN        NaN   \n\n                                                         2049     2050  \nID                                                                      \nGHG intensity of electricity generation [g CO2e...   0.000000   0.0000  \nGHG intensity of electricity generation [g CO2e...   0.000000   0.0000  \nBlue hydrogen emissions [g CO2/MJ H2] - Norway      19.433667  17.5700  \nBlue hydrogen emissions [kg CO2/kg H2] - Norway      2.332040   2.1084  \nProperties                                                NaN      NaN  \nCH4 LHV [KWh/kg]                                          NaN      NaN  \nH2 LHV [KWh/kg]                                           NaN      NaN  \nCH4 GWP20 [Years]                                         NaN      NaN  \nCH4 GWP100 [Years]                                        NaN      NaN  \nCombustion emissions CH4 [g CO2/MJ]                       NaN      NaN  \nH2 HHV [MJ/mole]                                          NaN      NaN  \nH2 LHV [MJ/mole]                                          NaN      NaN  \nH2 HHV [mole/MJ]                                          NaN      NaN  \nHHV [CO2/MJ_H2]                                           NaN      NaN  \nH2 HHV [MJ/kg]                                            NaN      NaN  \nH2 LHV [MJ/kg]                                            NaN      NaN  \nH2 LHV [mole/MJ]                                          NaN      NaN  \nratio LHV/HHV                                             NaN      NaN  \nLHV [CO2/MJ_H2]                                           NaN      NaN  \nCO2 [g/Mole]                                              NaN      NaN  \nCH4 [g/Mole]                                              NaN      NaN  \nUpstream                                                  NaN      NaN  \nUpstream methane leakage rate [%] low                     NaN      NaN  \nUpstream methane leakage rate [%] mid                     NaN      NaN  \nUpstream methane leakage rate [%] high                    NaN      NaN  \nUpstream methane emissions [g CO2e/MJ_H2] low             NaN      NaN  \nUpstream methane emissions [g CO2e/MJ_H2] mid             NaN      NaN  \nUpstream methane emissions [g CO2e/MJ_H2] high            NaN      NaN  \nIndirect upstream emissions [%]                           NaN      NaN  \nIndirect upstream emissions [g CO2e/MJ_CH4]               NaN      NaN  \nH2 from SMR                                               NaN      NaN  \nCO2 from SMR as feedstock [g CO2/MJ]                      NaN      NaN  \nCO2 from SMR as fuel [g CO2/MJ]                           NaN      NaN  \nCapture rate [%] flue gas low                             NaN      NaN  \nCapture rate [%] flue gas high                            NaN      NaN  \nDirect CO2 emissions [g CO2/MJ]                           NaN      NaN  \nCH4 consumed for grey H2 [g CH4/MJ_H2]                    NaN      NaN  \nCapture rate [%] low                                      NaN      NaN  \nCapture rate [%] mid                                      NaN      NaN  \nCapture rate [%] high                                     NaN      NaN  \nEnergy to drive SMR                                       NaN      NaN  \nHeat Input [MJ/mole_H2]                                   NaN      NaN  \nEnergy to power carbon capture                            NaN      NaN  \nElectricty from grid                                      NaN      NaN  \nHydrogen leakage                                          NaN      NaN  \nElectrolytic hydrogen production [% of produced...        NaN      NaN  \nElectrolytic hydrogen production [% of produced...        NaN      NaN  \nCCS enabled hydrogen production [% of produced ...        NaN      NaN  \nLarge-scale transmission [% of transported hyod...        NaN      NaN  \nPipeline transport                                        NaN      NaN  \nEnergy use for compression                                NaN      NaN  \nLow - Compression capacity @ 48inch [MW_el/1000km]        NaN      NaN  \nMedium - Compression capacity @ 48inch [MW_el/1...        NaN      NaN  \nHigh - Compression capacity @ 48inch [MW_el/100...        NaN      NaN  \nAssumed load factor for compressor electricity ...        NaN      NaN  \nAssumed load factor for compressor electricity ...        NaN      NaN  \nCapacity at full load factor [GW_H2_LHV]                  NaN      NaN  \nCapacity at full load factor [kg H2/a]                    NaN      NaN  \nPipeline load factor [%]                                  NaN      NaN  \n\n[59 rows x 63 columns]",
      "text/html": "<div>\n<style scoped>\n    .dataframe tbody tr th:only-of-type {\n        vertical-align: middle;\n    }\n\n    .dataframe tbody tr th {\n        vertical-align: top;\n    }\n\n    .dataframe thead th {\n        text-align: right;\n    }\n</style>\n<table border=\"1\" class=\"dataframe\">\n  <thead>\n    <tr style=\"text-align: right;\">\n      <th></th>\n      <th>Parameter</th>\n      <th>Ref</th>\n      <th>1990</th>\n      <th>1991</th>\n      <th>1992</th>\n      <th>1993</th>\n      <th>1994</th>\n      <th>1995</th>\n      <th>1996</th>\n      <th>1997</th>\n      <th>...</th>\n      <th>2041</th>\n      <th>2042</th>\n      <th>2043</th>\n      <th>2044</th>\n      <th>2045</th>\n      <th>2046</th>\n      <th>2047</th>\n      <th>2048</th>\n      <th>2049</th>\n      <th>2050</th>\n    </tr>\n    <tr>\n      <th>ID</th>\n      <th></th>\n      <th></th>\n      <th></th>\n      <th></th>\n      <th></th>\n      <th></th>\n      <th></th>\n      <th></th>\n      <th></th>\n      <th></th>\n      <th></th>\n      <th></th>\n      <th></th>\n      <th></th>\n      <th></th>\n      <th></th>\n      <th></th>\n      <th></th>\n      <th></th>\n      <th></th>\n      <th></th>\n    </tr>\n  </thead>\n  <tbody>\n    <tr>\n      <th>GHG intensity of electricity generation [g CO2eq/kWh] - Germany</th>\n      <td>NaN</td>\n      <td>EEA 2022</td>\n      <td>652.0</td>\n      <td>656.0</td>\n      <td>628.0</td>\n      <td>631.0</td>\n      <td>626.0</td>\n      <td>610.0</td>\n      <td>580.0</td>\n      <td>566.0</td>\n      <td>...</td>\n      <td>62.59200</td>\n      <td>46.944000</td>\n      <td>31.296000</td>\n      <td>15.64800</td>\n      <td>0.000000</td>\n      <td>0.000000</td>\n      <td>0.00000</td>\n      <td>0.000000</td>\n      <td>0.000000</td>\n      <td>0.0000</td>\n    </tr>\n    <tr>\n      <th>GHG intensity of electricity generation [g CO2eq/kWh] - Norway</th>\n      <td>NaN</td>\n      <td>Our world in Data</td>\n      <td>NaN</td>\n      <td>NaN</td>\n      <td>NaN</td>\n      <td>NaN</td>\n      <td>NaN</td>\n      <td>NaN</td>\n      <td>NaN</td>\n      <td>NaN</td>\n      <td>...</td>\n      <td>4.18012</td>\n      <td>3.135090</td>\n      <td>2.090060</td>\n      <td>1.04503</td>\n      <td>0.000000</td>\n      <td>0.000000</td>\n      <td>0.00000</td>\n      <td>0.000000</td>\n      <td>0.000000</td>\n      <td>0.0000</td>\n    </tr>\n    <tr>\n      <th>Blue hydrogen emissions [g CO2/MJ H2] - Norway</th>\n      <td>NaN</td>\n      <td>Own calculation</td>\n      <td>NaN</td>\n      <td>NaN</td>\n      <td>NaN</td>\n      <td>NaN</td>\n      <td>NaN</td>\n      <td>NaN</td>\n      <td>NaN</td>\n      <td>NaN</td>\n      <td>...</td>\n      <td>34.34300</td>\n      <td>32.479333</td>\n      <td>30.615667</td>\n      <td>28.75200</td>\n      <td>26.888333</td>\n      <td>25.024667</td>\n      <td>23.16100</td>\n      <td>21.297333</td>\n      <td>19.433667</td>\n      <td>17.5700</td>\n    </tr>\n    <tr>\n      <th>Blue hydrogen emissions [kg CO2/kg H2] - Norway</th>\n      <td>NaN</td>\n      <td>Own calculation</td>\n      <td>NaN</td>\n      <td>NaN</td>\n      <td>NaN</td>\n      <td>NaN</td>\n      <td>NaN</td>\n      <td>NaN</td>\n      <td>NaN</td>\n      <td>NaN</td>\n      <td>...</td>\n      <td>4.12116</td>\n      <td>3.897520</td>\n      <td>3.673880</td>\n      <td>3.45024</td>\n      <td>3.226600</td>\n      <td>3.002960</td>\n      <td>2.77932</td>\n      <td>2.555680</td>\n      <td>2.332040</td>\n      <td>2.1084</td>\n    </tr>\n    <tr>\n      <th>Properties</th>\n      <td>NaN</td>\n      <td>NaN</td>\n      <td>NaN</td>\n      <td>NaN</td>\n      <td>NaN</td>\n      <td>NaN</td>\n      <td>NaN</td>\n      <td>NaN</td>\n      <td>NaN</td>\n      <td>NaN</td>\n      <td>...</td>\n      <td>NaN</td>\n      <td>NaN</td>\n      <td>NaN</td>\n      <td>NaN</td>\n      <td>NaN</td>\n      <td>NaN</td>\n      <td>NaN</td>\n      <td>NaN</td>\n      <td>NaN</td>\n      <td>NaN</td>\n    </tr>\n    <tr>\n      <th>CH4 LHV [KWh/kg]</th>\n      <td>13.1</td>\n      <td>NaN</td>\n      <td>NaN</td>\n      <td>NaN</td>\n      <td>NaN</td>\n      <td>NaN</td>\n      <td>NaN</td>\n      <td>NaN</td>\n      <td>NaN</td>\n      <td>NaN</td>\n      <td>...</td>\n      <td>NaN</td>\n      <td>NaN</td>\n      <td>NaN</td>\n      <td>NaN</td>\n      <td>NaN</td>\n      <td>NaN</td>\n      <td>NaN</td>\n      <td>NaN</td>\n      <td>NaN</td>\n      <td>NaN</td>\n    </tr>\n    <tr>\n      <th>H2 LHV [KWh/kg]</th>\n      <td>33.33</td>\n      <td>NaN</td>\n      <td>NaN</td>\n      <td>NaN</td>\n      <td>NaN</td>\n      <td>NaN</td>\n      <td>NaN</td>\n      <td>NaN</td>\n      <td>NaN</td>\n      <td>NaN</td>\n      <td>...</td>\n      <td>NaN</td>\n      <td>NaN</td>\n      <td>NaN</td>\n      <td>NaN</td>\n      <td>NaN</td>\n      <td>NaN</td>\n      <td>NaN</td>\n      <td>NaN</td>\n      <td>NaN</td>\n      <td>NaN</td>\n    </tr>\n    <tr>\n      <th>CH4 GWP20 [Years]</th>\n      <td>86</td>\n      <td>NaN</td>\n      <td>NaN</td>\n      <td>NaN</td>\n      <td>NaN</td>\n      <td>NaN</td>\n      <td>NaN</td>\n      <td>NaN</td>\n      <td>NaN</td>\n      <td>NaN</td>\n      <td>...</td>\n      <td>NaN</td>\n      <td>NaN</td>\n      <td>NaN</td>\n      <td>NaN</td>\n      <td>NaN</td>\n      <td>NaN</td>\n      <td>NaN</td>\n      <td>NaN</td>\n      <td>NaN</td>\n      <td>NaN</td>\n    </tr>\n    <tr>\n      <th>CH4 GWP100 [Years]</th>\n      <td>30</td>\n      <td>Bauer, https://www.ercevolution.energy/ipcc-si...</td>\n      <td>NaN</td>\n      <td>NaN</td>\n      <td>NaN</td>\n      <td>NaN</td>\n      <td>NaN</td>\n      <td>NaN</td>\n      <td>NaN</td>\n      <td>NaN</td>\n      <td>...</td>\n      <td>NaN</td>\n      <td>NaN</td>\n      <td>NaN</td>\n      <td>NaN</td>\n      <td>NaN</td>\n      <td>NaN</td>\n      <td>NaN</td>\n      <td>NaN</td>\n      <td>NaN</td>\n      <td>NaN</td>\n    </tr>\n    <tr>\n      <th>Combustion emissions CH4 [g CO2/MJ]</th>\n      <td>56</td>\n      <td>NaN</td>\n      <td>NaN</td>\n      <td>NaN</td>\n      <td>NaN</td>\n      <td>NaN</td>\n      <td>NaN</td>\n      <td>NaN</td>\n      <td>NaN</td>\n      <td>NaN</td>\n      <td>...</td>\n      <td>NaN</td>\n      <td>NaN</td>\n      <td>NaN</td>\n      <td>NaN</td>\n      <td>NaN</td>\n      <td>NaN</td>\n      <td>NaN</td>\n      <td>NaN</td>\n      <td>NaN</td>\n      <td>NaN</td>\n    </tr>\n    <tr>\n      <th>H2 HHV [MJ/mole]</th>\n      <td>0.286</td>\n      <td>NaN</td>\n      <td>NaN</td>\n      <td>NaN</td>\n      <td>NaN</td>\n      <td>NaN</td>\n      <td>NaN</td>\n      <td>NaN</td>\n      <td>NaN</td>\n      <td>NaN</td>\n      <td>...</td>\n      <td>NaN</td>\n      <td>NaN</td>\n      <td>NaN</td>\n      <td>NaN</td>\n      <td>NaN</td>\n      <td>NaN</td>\n      <td>NaN</td>\n      <td>NaN</td>\n      <td>NaN</td>\n      <td>NaN</td>\n    </tr>\n    <tr>\n      <th>H2 LHV [MJ/mole]</th>\n      <td>0.242202</td>\n      <td>NaN</td>\n      <td>NaN</td>\n      <td>NaN</td>\n      <td>NaN</td>\n      <td>NaN</td>\n      <td>NaN</td>\n      <td>NaN</td>\n      <td>NaN</td>\n      <td>NaN</td>\n      <td>...</td>\n      <td>NaN</td>\n      <td>NaN</td>\n      <td>NaN</td>\n      <td>NaN</td>\n      <td>NaN</td>\n      <td>NaN</td>\n      <td>NaN</td>\n      <td>NaN</td>\n      <td>NaN</td>\n      <td>NaN</td>\n    </tr>\n    <tr>\n      <th>H2 HHV [mole/MJ]</th>\n      <td>3.496503</td>\n      <td>NaN</td>\n      <td>NaN</td>\n      <td>NaN</td>\n      <td>NaN</td>\n      <td>NaN</td>\n      <td>NaN</td>\n      <td>NaN</td>\n      <td>NaN</td>\n      <td>NaN</td>\n      <td>...</td>\n      <td>NaN</td>\n      <td>NaN</td>\n      <td>NaN</td>\n      <td>NaN</td>\n      <td>NaN</td>\n      <td>NaN</td>\n      <td>NaN</td>\n      <td>NaN</td>\n      <td>NaN</td>\n      <td>NaN</td>\n    </tr>\n    <tr>\n      <th>HHV [CO2/MJ_H2]</th>\n      <td>0.874126</td>\n      <td>NaN</td>\n      <td>NaN</td>\n      <td>NaN</td>\n      <td>NaN</td>\n      <td>NaN</td>\n      <td>NaN</td>\n      <td>NaN</td>\n      <td>NaN</td>\n      <td>NaN</td>\n      <td>...</td>\n      <td>NaN</td>\n      <td>NaN</td>\n      <td>NaN</td>\n      <td>NaN</td>\n      <td>NaN</td>\n      <td>NaN</td>\n      <td>NaN</td>\n      <td>NaN</td>\n      <td>NaN</td>\n      <td>NaN</td>\n    </tr>\n    <tr>\n      <th>H2 HHV [MJ/kg]</th>\n      <td>141.7</td>\n      <td>NaN</td>\n      <td>NaN</td>\n      <td>NaN</td>\n      <td>NaN</td>\n      <td>NaN</td>\n      <td>NaN</td>\n      <td>NaN</td>\n      <td>NaN</td>\n      <td>NaN</td>\n      <td>...</td>\n      <td>NaN</td>\n      <td>NaN</td>\n      <td>NaN</td>\n      <td>NaN</td>\n      <td>NaN</td>\n      <td>NaN</td>\n      <td>NaN</td>\n      <td>NaN</td>\n      <td>NaN</td>\n      <td>NaN</td>\n    </tr>\n    <tr>\n      <th>H2 LHV [MJ/kg]</th>\n      <td>120</td>\n      <td>NaN</td>\n      <td>NaN</td>\n      <td>NaN</td>\n      <td>NaN</td>\n      <td>NaN</td>\n      <td>NaN</td>\n      <td>NaN</td>\n      <td>NaN</td>\n      <td>NaN</td>\n      <td>...</td>\n      <td>NaN</td>\n      <td>NaN</td>\n      <td>NaN</td>\n      <td>NaN</td>\n      <td>NaN</td>\n      <td>NaN</td>\n      <td>NaN</td>\n      <td>NaN</td>\n      <td>NaN</td>\n      <td>NaN</td>\n    </tr>\n    <tr>\n      <th>H2 LHV [mole/MJ]</th>\n      <td>4.128788</td>\n      <td>NaN</td>\n      <td>NaN</td>\n      <td>NaN</td>\n      <td>NaN</td>\n      <td>NaN</td>\n      <td>NaN</td>\n      <td>NaN</td>\n      <td>NaN</td>\n      <td>NaN</td>\n      <td>...</td>\n      <td>NaN</td>\n      <td>NaN</td>\n      <td>NaN</td>\n      <td>NaN</td>\n      <td>NaN</td>\n      <td>NaN</td>\n      <td>NaN</td>\n      <td>NaN</td>\n      <td>NaN</td>\n      <td>NaN</td>\n    </tr>\n    <tr>\n      <th>ratio LHV/HHV</th>\n      <td>0.84686</td>\n      <td>NaN</td>\n      <td>NaN</td>\n      <td>NaN</td>\n      <td>NaN</td>\n      <td>NaN</td>\n      <td>NaN</td>\n      <td>NaN</td>\n      <td>NaN</td>\n      <td>NaN</td>\n      <td>...</td>\n      <td>NaN</td>\n      <td>NaN</td>\n      <td>NaN</td>\n      <td>NaN</td>\n      <td>NaN</td>\n      <td>NaN</td>\n      <td>NaN</td>\n      <td>NaN</td>\n      <td>NaN</td>\n      <td>NaN</td>\n    </tr>\n    <tr>\n      <th>LHV [CO2/MJ_H2]</th>\n      <td>1.032197</td>\n      <td>NaN</td>\n      <td>NaN</td>\n      <td>NaN</td>\n      <td>NaN</td>\n      <td>NaN</td>\n      <td>NaN</td>\n      <td>NaN</td>\n      <td>NaN</td>\n      <td>NaN</td>\n      <td>...</td>\n      <td>NaN</td>\n      <td>NaN</td>\n      <td>NaN</td>\n      <td>NaN</td>\n      <td>NaN</td>\n      <td>NaN</td>\n      <td>NaN</td>\n      <td>NaN</td>\n      <td>NaN</td>\n      <td>NaN</td>\n    </tr>\n    <tr>\n      <th>CO2 [g/Mole]</th>\n      <td>44.01</td>\n      <td>howarth</td>\n      <td>NaN</td>\n      <td>NaN</td>\n      <td>NaN</td>\n      <td>NaN</td>\n      <td>NaN</td>\n      <td>NaN</td>\n      <td>NaN</td>\n      <td>NaN</td>\n      <td>...</td>\n      <td>NaN</td>\n      <td>NaN</td>\n      <td>NaN</td>\n      <td>NaN</td>\n      <td>NaN</td>\n      <td>NaN</td>\n      <td>NaN</td>\n      <td>NaN</td>\n      <td>NaN</td>\n      <td>NaN</td>\n    </tr>\n    <tr>\n      <th>CH4 [g/Mole]</th>\n      <td>16.04</td>\n      <td>NaN</td>\n      <td>NaN</td>\n      <td>NaN</td>\n      <td>NaN</td>\n      <td>NaN</td>\n      <td>NaN</td>\n      <td>NaN</td>\n      <td>NaN</td>\n      <td>NaN</td>\n      <td>...</td>\n      <td>NaN</td>\n      <td>NaN</td>\n      <td>NaN</td>\n      <td>NaN</td>\n      <td>NaN</td>\n      <td>NaN</td>\n      <td>NaN</td>\n      <td>NaN</td>\n      <td>NaN</td>\n      <td>NaN</td>\n    </tr>\n    <tr>\n      <th>Upstream</th>\n      <td>NaN</td>\n      <td>NaN</td>\n      <td>NaN</td>\n      <td>NaN</td>\n      <td>NaN</td>\n      <td>NaN</td>\n      <td>NaN</td>\n      <td>NaN</td>\n      <td>NaN</td>\n      <td>NaN</td>\n      <td>...</td>\n      <td>NaN</td>\n      <td>NaN</td>\n      <td>NaN</td>\n      <td>NaN</td>\n      <td>NaN</td>\n      <td>NaN</td>\n      <td>NaN</td>\n      <td>NaN</td>\n      <td>NaN</td>\n      <td>NaN</td>\n    </tr>\n    <tr>\n      <th>Upstream methane leakage rate [%] low</th>\n      <td>0.002</td>\n      <td>Antonini et al 2020</td>\n      <td>NaN</td>\n      <td>NaN</td>\n      <td>NaN</td>\n      <td>NaN</td>\n      <td>NaN</td>\n      <td>NaN</td>\n      <td>NaN</td>\n      <td>NaN</td>\n      <td>...</td>\n      <td>NaN</td>\n      <td>NaN</td>\n      <td>NaN</td>\n      <td>NaN</td>\n      <td>NaN</td>\n      <td>NaN</td>\n      <td>NaN</td>\n      <td>NaN</td>\n      <td>NaN</td>\n      <td>NaN</td>\n    </tr>\n    <tr>\n      <th>Upstream methane leakage rate [%] mid</th>\n      <td>0.015</td>\n      <td>Antonini et al 2020</td>\n      <td>NaN</td>\n      <td>NaN</td>\n      <td>NaN</td>\n      <td>NaN</td>\n      <td>NaN</td>\n      <td>NaN</td>\n      <td>NaN</td>\n      <td>NaN</td>\n      <td>...</td>\n      <td>NaN</td>\n      <td>NaN</td>\n      <td>NaN</td>\n      <td>NaN</td>\n      <td>NaN</td>\n      <td>NaN</td>\n      <td>NaN</td>\n      <td>NaN</td>\n      <td>NaN</td>\n      <td>NaN</td>\n    </tr>\n    <tr>\n      <th>Upstream methane leakage rate [%] high</th>\n      <td>0.08</td>\n      <td>Antonini et al 2020</td>\n      <td>NaN</td>\n      <td>NaN</td>\n      <td>NaN</td>\n      <td>NaN</td>\n      <td>NaN</td>\n      <td>NaN</td>\n      <td>NaN</td>\n      <td>NaN</td>\n      <td>...</td>\n      <td>NaN</td>\n      <td>NaN</td>\n      <td>NaN</td>\n      <td>NaN</td>\n      <td>NaN</td>\n      <td>NaN</td>\n      <td>NaN</td>\n      <td>NaN</td>\n      <td>NaN</td>\n      <td>NaN</td>\n    </tr>\n    <tr>\n      <th>Upstream methane emissions [g CO2e/MJ_H2] low</th>\n      <td>5.4696</td>\n      <td>NaN</td>\n      <td>NaN</td>\n      <td>NaN</td>\n      <td>NaN</td>\n      <td>NaN</td>\n      <td>NaN</td>\n      <td>NaN</td>\n      <td>NaN</td>\n      <td>NaN</td>\n      <td>...</td>\n      <td>NaN</td>\n      <td>NaN</td>\n      <td>NaN</td>\n      <td>NaN</td>\n      <td>NaN</td>\n      <td>NaN</td>\n      <td>NaN</td>\n      <td>NaN</td>\n      <td>NaN</td>\n      <td>NaN</td>\n    </tr>\n    <tr>\n      <th>Upstream methane emissions [g CO2e/MJ_H2] mid</th>\n      <td>41.022</td>\n      <td>NaN</td>\n      <td>NaN</td>\n      <td>NaN</td>\n      <td>NaN</td>\n      <td>NaN</td>\n      <td>NaN</td>\n      <td>NaN</td>\n      <td>NaN</td>\n      <td>NaN</td>\n      <td>...</td>\n      <td>NaN</td>\n      <td>NaN</td>\n      <td>NaN</td>\n      <td>NaN</td>\n      <td>NaN</td>\n      <td>NaN</td>\n      <td>NaN</td>\n      <td>NaN</td>\n      <td>NaN</td>\n      <td>NaN</td>\n    </tr>\n    <tr>\n      <th>Upstream methane emissions [g CO2e/MJ_H2] high</th>\n      <td>218.784</td>\n      <td>NaN</td>\n      <td>NaN</td>\n      <td>NaN</td>\n      <td>NaN</td>\n      <td>NaN</td>\n      <td>NaN</td>\n      <td>NaN</td>\n      <td>NaN</td>\n      <td>NaN</td>\n      <td>...</td>\n      <td>NaN</td>\n      <td>NaN</td>\n      <td>NaN</td>\n      <td>NaN</td>\n      <td>NaN</td>\n      <td>NaN</td>\n      <td>NaN</td>\n      <td>NaN</td>\n      <td>NaN</td>\n      <td>NaN</td>\n    </tr>\n    <tr>\n      <th>Indirect upstream emissions [%]</th>\n      <td>0.075</td>\n      <td>howarth</td>\n      <td>NaN</td>\n      <td>NaN</td>\n      <td>NaN</td>\n      <td>NaN</td>\n      <td>NaN</td>\n      <td>NaN</td>\n      <td>NaN</td>\n      <td>NaN</td>\n      <td>...</td>\n      <td>NaN</td>\n      <td>NaN</td>\n      <td>NaN</td>\n      <td>NaN</td>\n      <td>NaN</td>\n      <td>NaN</td>\n      <td>NaN</td>\n      <td>NaN</td>\n      <td>NaN</td>\n      <td>NaN</td>\n    </tr>\n    <tr>\n      <th>Indirect upstream emissions [g CO2e/MJ_CH4]</th>\n      <td>NaN</td>\n      <td>NaN</td>\n      <td>NaN</td>\n      <td>NaN</td>\n      <td>NaN</td>\n      <td>NaN</td>\n      <td>NaN</td>\n      <td>NaN</td>\n      <td>NaN</td>\n      <td>NaN</td>\n      <td>...</td>\n      <td>NaN</td>\n      <td>NaN</td>\n      <td>NaN</td>\n      <td>NaN</td>\n      <td>NaN</td>\n      <td>NaN</td>\n      <td>NaN</td>\n      <td>NaN</td>\n      <td>NaN</td>\n      <td>NaN</td>\n    </tr>\n    <tr>\n      <th>H2 from SMR</th>\n      <td>NaN</td>\n      <td>NaN</td>\n      <td>NaN</td>\n      <td>NaN</td>\n      <td>NaN</td>\n      <td>NaN</td>\n      <td>NaN</td>\n      <td>NaN</td>\n      <td>NaN</td>\n      <td>NaN</td>\n      <td>...</td>\n      <td>NaN</td>\n      <td>NaN</td>\n      <td>NaN</td>\n      <td>NaN</td>\n      <td>NaN</td>\n      <td>NaN</td>\n      <td>NaN</td>\n      <td>NaN</td>\n      <td>NaN</td>\n      <td>NaN</td>\n    </tr>\n    <tr>\n      <th>CO2 from SMR as feedstock [g CO2/MJ]</th>\n      <td>45.4</td>\n      <td>NaN</td>\n      <td>NaN</td>\n      <td>NaN</td>\n      <td>NaN</td>\n      <td>NaN</td>\n      <td>NaN</td>\n      <td>NaN</td>\n      <td>NaN</td>\n      <td>NaN</td>\n      <td>...</td>\n      <td>NaN</td>\n      <td>NaN</td>\n      <td>NaN</td>\n      <td>NaN</td>\n      <td>NaN</td>\n      <td>NaN</td>\n      <td>NaN</td>\n      <td>NaN</td>\n      <td>NaN</td>\n      <td>NaN</td>\n    </tr>\n    <tr>\n      <th>CO2 from SMR as fuel [g CO2/MJ]</th>\n      <td>41.9</td>\n      <td>NaN</td>\n      <td>NaN</td>\n      <td>NaN</td>\n      <td>NaN</td>\n      <td>NaN</td>\n      <td>NaN</td>\n      <td>NaN</td>\n      <td>NaN</td>\n      <td>NaN</td>\n      <td>...</td>\n      <td>NaN</td>\n      <td>NaN</td>\n      <td>NaN</td>\n      <td>NaN</td>\n      <td>NaN</td>\n      <td>NaN</td>\n      <td>NaN</td>\n      <td>NaN</td>\n      <td>NaN</td>\n      <td>NaN</td>\n    </tr>\n    <tr>\n      <th>Capture rate [%] flue gas low</th>\n      <td>0.65</td>\n      <td>NaN</td>\n      <td>NaN</td>\n      <td>NaN</td>\n      <td>NaN</td>\n      <td>NaN</td>\n      <td>NaN</td>\n      <td>NaN</td>\n      <td>NaN</td>\n      <td>NaN</td>\n      <td>...</td>\n      <td>NaN</td>\n      <td>NaN</td>\n      <td>NaN</td>\n      <td>NaN</td>\n      <td>NaN</td>\n      <td>NaN</td>\n      <td>NaN</td>\n      <td>NaN</td>\n      <td>NaN</td>\n      <td>NaN</td>\n    </tr>\n    <tr>\n      <th>Capture rate [%] flue gas high</th>\n      <td>0.9</td>\n      <td>NaN</td>\n      <td>NaN</td>\n      <td>NaN</td>\n      <td>NaN</td>\n      <td>NaN</td>\n      <td>NaN</td>\n      <td>NaN</td>\n      <td>NaN</td>\n      <td>NaN</td>\n      <td>...</td>\n      <td>NaN</td>\n      <td>NaN</td>\n      <td>NaN</td>\n      <td>NaN</td>\n      <td>NaN</td>\n      <td>NaN</td>\n      <td>NaN</td>\n      <td>NaN</td>\n      <td>NaN</td>\n      <td>NaN</td>\n    </tr>\n    <tr>\n      <th>Direct CO2 emissions [g CO2/MJ]</th>\n      <td>75</td>\n      <td>NaN</td>\n      <td>NaN</td>\n      <td>NaN</td>\n      <td>NaN</td>\n      <td>NaN</td>\n      <td>NaN</td>\n      <td>NaN</td>\n      <td>NaN</td>\n      <td>NaN</td>\n      <td>...</td>\n      <td>NaN</td>\n      <td>NaN</td>\n      <td>NaN</td>\n      <td>NaN</td>\n      <td>NaN</td>\n      <td>NaN</td>\n      <td>NaN</td>\n      <td>NaN</td>\n      <td>NaN</td>\n      <td>NaN</td>\n    </tr>\n    <tr>\n      <th>CH4 consumed for grey H2 [g CH4/MJ_H2]</th>\n      <td>31.8</td>\n      <td>NaN</td>\n      <td>NaN</td>\n      <td>NaN</td>\n      <td>NaN</td>\n      <td>NaN</td>\n      <td>NaN</td>\n      <td>NaN</td>\n      <td>NaN</td>\n      <td>NaN</td>\n      <td>...</td>\n      <td>NaN</td>\n      <td>NaN</td>\n      <td>NaN</td>\n      <td>NaN</td>\n      <td>NaN</td>\n      <td>NaN</td>\n      <td>NaN</td>\n      <td>NaN</td>\n      <td>NaN</td>\n      <td>NaN</td>\n    </tr>\n    <tr>\n      <th>Capture rate [%] low</th>\n      <td>0.55</td>\n      <td>NaN</td>\n      <td>NaN</td>\n      <td>NaN</td>\n      <td>NaN</td>\n      <td>NaN</td>\n      <td>NaN</td>\n      <td>NaN</td>\n      <td>NaN</td>\n      <td>NaN</td>\n      <td>...</td>\n      <td>NaN</td>\n      <td>NaN</td>\n      <td>NaN</td>\n      <td>NaN</td>\n      <td>NaN</td>\n      <td>NaN</td>\n      <td>NaN</td>\n      <td>NaN</td>\n      <td>NaN</td>\n      <td>NaN</td>\n    </tr>\n    <tr>\n      <th>Capture rate [%] mid</th>\n      <td>0.8</td>\n      <td>NaN</td>\n      <td>NaN</td>\n      <td>NaN</td>\n      <td>NaN</td>\n      <td>NaN</td>\n      <td>NaN</td>\n      <td>NaN</td>\n      <td>NaN</td>\n      <td>NaN</td>\n      <td>...</td>\n      <td>NaN</td>\n      <td>NaN</td>\n      <td>NaN</td>\n      <td>NaN</td>\n      <td>NaN</td>\n      <td>NaN</td>\n      <td>NaN</td>\n      <td>NaN</td>\n      <td>NaN</td>\n      <td>NaN</td>\n    </tr>\n    <tr>\n      <th>Capture rate [%] high</th>\n      <td>0.95</td>\n      <td>NaN</td>\n      <td>NaN</td>\n      <td>NaN</td>\n      <td>NaN</td>\n      <td>NaN</td>\n      <td>NaN</td>\n      <td>NaN</td>\n      <td>NaN</td>\n      <td>NaN</td>\n      <td>...</td>\n      <td>NaN</td>\n      <td>NaN</td>\n      <td>NaN</td>\n      <td>NaN</td>\n      <td>NaN</td>\n      <td>NaN</td>\n      <td>NaN</td>\n      <td>NaN</td>\n      <td>NaN</td>\n      <td>NaN</td>\n    </tr>\n    <tr>\n      <th>Energy to drive SMR</th>\n      <td>NaN</td>\n      <td>NaN</td>\n      <td>NaN</td>\n      <td>NaN</td>\n      <td>NaN</td>\n      <td>NaN</td>\n      <td>NaN</td>\n      <td>NaN</td>\n      <td>NaN</td>\n      <td>NaN</td>\n      <td>...</td>\n      <td>NaN</td>\n      <td>NaN</td>\n      <td>NaN</td>\n      <td>NaN</td>\n      <td>NaN</td>\n      <td>NaN</td>\n      <td>NaN</td>\n      <td>NaN</td>\n      <td>NaN</td>\n      <td>NaN</td>\n    </tr>\n    <tr>\n      <th>Heat Input [MJ/mole_H2]</th>\n      <td>0.1814</td>\n      <td>NaN</td>\n      <td>NaN</td>\n      <td>NaN</td>\n      <td>NaN</td>\n      <td>NaN</td>\n      <td>NaN</td>\n      <td>NaN</td>\n      <td>NaN</td>\n      <td>NaN</td>\n      <td>...</td>\n      <td>NaN</td>\n      <td>NaN</td>\n      <td>NaN</td>\n      <td>NaN</td>\n      <td>NaN</td>\n      <td>NaN</td>\n      <td>NaN</td>\n      <td>NaN</td>\n      <td>NaN</td>\n      <td>NaN</td>\n    </tr>\n    <tr>\n      <th>Energy to power carbon capture</th>\n      <td>NaN</td>\n      <td>NaN</td>\n      <td>NaN</td>\n      <td>NaN</td>\n      <td>NaN</td>\n      <td>NaN</td>\n      <td>NaN</td>\n      <td>NaN</td>\n      <td>NaN</td>\n      <td>NaN</td>\n      <td>...</td>\n      <td>NaN</td>\n      <td>NaN</td>\n      <td>NaN</td>\n      <td>NaN</td>\n      <td>NaN</td>\n      <td>NaN</td>\n      <td>NaN</td>\n      <td>NaN</td>\n      <td>NaN</td>\n      <td>NaN</td>\n    </tr>\n    <tr>\n      <th>Electricty from grid</th>\n      <td>9</td>\n      <td>Antonini et al 2020</td>\n      <td>NaN</td>\n      <td>NaN</td>\n      <td>NaN</td>\n      <td>NaN</td>\n      <td>NaN</td>\n      <td>NaN</td>\n      <td>NaN</td>\n      <td>NaN</td>\n      <td>...</td>\n      <td>NaN</td>\n      <td>NaN</td>\n      <td>NaN</td>\n      <td>NaN</td>\n      <td>NaN</td>\n      <td>NaN</td>\n      <td>NaN</td>\n      <td>NaN</td>\n      <td>NaN</td>\n      <td>NaN</td>\n    </tr>\n    <tr>\n      <th>Hydrogen leakage</th>\n      <td>Predicted Emission Confidence level</td>\n      <td>Ref</td>\n      <td>NaN</td>\n      <td>NaN</td>\n      <td>NaN</td>\n      <td>NaN</td>\n      <td>NaN</td>\n      <td>NaN</td>\n      <td>NaN</td>\n      <td>NaN</td>\n      <td>...</td>\n      <td>NaN</td>\n      <td>NaN</td>\n      <td>NaN</td>\n      <td>NaN</td>\n      <td>NaN</td>\n      <td>NaN</td>\n      <td>NaN</td>\n      <td>NaN</td>\n      <td>NaN</td>\n      <td>NaN</td>\n    </tr>\n    <tr>\n      <th>Electrolytic hydrogen production [% of produced hyodrogen]</th>\n      <td>0.092</td>\n      <td>DOE 2022</td>\n      <td>NaN</td>\n      <td>NaN</td>\n      <td>NaN</td>\n      <td>NaN</td>\n      <td>NaN</td>\n      <td>NaN</td>\n      <td>NaN</td>\n      <td>NaN</td>\n      <td>...</td>\n      <td>NaN</td>\n      <td>NaN</td>\n      <td>NaN</td>\n      <td>NaN</td>\n      <td>NaN</td>\n      <td>NaN</td>\n      <td>NaN</td>\n      <td>NaN</td>\n      <td>NaN</td>\n      <td>NaN</td>\n    </tr>\n    <tr>\n      <th>Electrolytic hydrogen production [% of produced hyodrogen] w/ recombination</th>\n      <td>0.0052</td>\n      <td>DOE 2022</td>\n      <td>NaN</td>\n      <td>NaN</td>\n      <td>NaN</td>\n      <td>NaN</td>\n      <td>NaN</td>\n      <td>NaN</td>\n      <td>NaN</td>\n      <td>NaN</td>\n      <td>...</td>\n      <td>NaN</td>\n      <td>NaN</td>\n      <td>NaN</td>\n      <td>NaN</td>\n      <td>NaN</td>\n      <td>NaN</td>\n      <td>NaN</td>\n      <td>NaN</td>\n      <td>NaN</td>\n      <td>NaN</td>\n    </tr>\n    <tr>\n      <th>CCS enabled hydrogen production [% of produced hyodrogen]</th>\n      <td>0.005</td>\n      <td>DOE 2022</td>\n      <td>NaN</td>\n      <td>NaN</td>\n      <td>NaN</td>\n      <td>NaN</td>\n      <td>NaN</td>\n      <td>NaN</td>\n      <td>NaN</td>\n      <td>NaN</td>\n      <td>...</td>\n      <td>NaN</td>\n      <td>NaN</td>\n      <td>NaN</td>\n      <td>NaN</td>\n      <td>NaN</td>\n      <td>NaN</td>\n      <td>NaN</td>\n      <td>NaN</td>\n      <td>NaN</td>\n      <td>NaN</td>\n    </tr>\n    <tr>\n      <th>Large-scale transmission [% of transported hyodrogen]</th>\n      <td>0.0048</td>\n      <td>DOE 2022</td>\n      <td>NaN</td>\n      <td>NaN</td>\n      <td>NaN</td>\n      <td>NaN</td>\n      <td>NaN</td>\n      <td>NaN</td>\n      <td>NaN</td>\n      <td>NaN</td>\n      <td>...</td>\n      <td>NaN</td>\n      <td>NaN</td>\n      <td>NaN</td>\n      <td>NaN</td>\n      <td>NaN</td>\n      <td>NaN</td>\n      <td>NaN</td>\n      <td>NaN</td>\n      <td>NaN</td>\n      <td>NaN</td>\n    </tr>\n    <tr>\n      <th>Pipeline transport</th>\n      <td>NaN</td>\n      <td>NaN</td>\n      <td>NaN</td>\n      <td>NaN</td>\n      <td>NaN</td>\n      <td>NaN</td>\n      <td>NaN</td>\n      <td>NaN</td>\n      <td>NaN</td>\n      <td>NaN</td>\n      <td>...</td>\n      <td>NaN</td>\n      <td>NaN</td>\n      <td>NaN</td>\n      <td>NaN</td>\n      <td>NaN</td>\n      <td>NaN</td>\n      <td>NaN</td>\n      <td>NaN</td>\n      <td>NaN</td>\n      <td>NaN</td>\n    </tr>\n    <tr>\n      <th>Energy use for compression</th>\n      <td>NaN</td>\n      <td>NaN</td>\n      <td>NaN</td>\n      <td>NaN</td>\n      <td>NaN</td>\n      <td>NaN</td>\n      <td>NaN</td>\n      <td>NaN</td>\n      <td>NaN</td>\n      <td>NaN</td>\n      <td>...</td>\n      <td>NaN</td>\n      <td>NaN</td>\n      <td>NaN</td>\n      <td>NaN</td>\n      <td>NaN</td>\n      <td>NaN</td>\n      <td>NaN</td>\n      <td>NaN</td>\n      <td>NaN</td>\n      <td>NaN</td>\n    </tr>\n    <tr>\n      <th>Low - Compression capacity @ 48inch [MW_el/1000km]</th>\n      <td>190</td>\n      <td>EHB 2020</td>\n      <td>NaN</td>\n      <td>NaN</td>\n      <td>NaN</td>\n      <td>NaN</td>\n      <td>NaN</td>\n      <td>NaN</td>\n      <td>NaN</td>\n      <td>NaN</td>\n      <td>...</td>\n      <td>NaN</td>\n      <td>NaN</td>\n      <td>NaN</td>\n      <td>NaN</td>\n      <td>NaN</td>\n      <td>NaN</td>\n      <td>NaN</td>\n      <td>NaN</td>\n      <td>NaN</td>\n      <td>NaN</td>\n    </tr>\n    <tr>\n      <th>Medium - Compression capacity @ 48inch [MW_el/1000km]</th>\n      <td>260</td>\n      <td>EHB 2020</td>\n      <td>NaN</td>\n      <td>NaN</td>\n      <td>NaN</td>\n      <td>NaN</td>\n      <td>NaN</td>\n      <td>NaN</td>\n      <td>NaN</td>\n      <td>NaN</td>\n      <td>...</td>\n      <td>NaN</td>\n      <td>NaN</td>\n      <td>NaN</td>\n      <td>NaN</td>\n      <td>NaN</td>\n      <td>NaN</td>\n      <td>NaN</td>\n      <td>NaN</td>\n      <td>NaN</td>\n      <td>NaN</td>\n    </tr>\n    <tr>\n      <th>High - Compression capacity @ 48inch [MW_el/1000km]</th>\n      <td>330</td>\n      <td>EHB 2020</td>\n      <td>NaN</td>\n      <td>NaN</td>\n      <td>NaN</td>\n      <td>NaN</td>\n      <td>NaN</td>\n      <td>NaN</td>\n      <td>NaN</td>\n      <td>NaN</td>\n      <td>...</td>\n      <td>NaN</td>\n      <td>NaN</td>\n      <td>NaN</td>\n      <td>NaN</td>\n      <td>NaN</td>\n      <td>NaN</td>\n      <td>NaN</td>\n      <td>NaN</td>\n      <td>NaN</td>\n      <td>NaN</td>\n    </tr>\n    <tr>\n      <th>Assumed load factor for compressor electricity consumption [h/a]</th>\n      <td>5000</td>\n      <td>EHB 2020</td>\n      <td>NaN</td>\n      <td>NaN</td>\n      <td>NaN</td>\n      <td>NaN</td>\n      <td>NaN</td>\n      <td>NaN</td>\n      <td>NaN</td>\n      <td>NaN</td>\n      <td>...</td>\n      <td>NaN</td>\n      <td>NaN</td>\n      <td>NaN</td>\n      <td>NaN</td>\n      <td>NaN</td>\n      <td>NaN</td>\n      <td>NaN</td>\n      <td>NaN</td>\n      <td>NaN</td>\n      <td>NaN</td>\n    </tr>\n    <tr>\n      <th>Assumed load factor for compressor electricity consumption [%]</th>\n      <td>0.570776</td>\n      <td>EHB 2020</td>\n      <td>NaN</td>\n      <td>NaN</td>\n      <td>NaN</td>\n      <td>NaN</td>\n      <td>NaN</td>\n      <td>NaN</td>\n      <td>NaN</td>\n      <td>NaN</td>\n      <td>...</td>\n      <td>NaN</td>\n      <td>NaN</td>\n      <td>NaN</td>\n      <td>NaN</td>\n      <td>NaN</td>\n      <td>NaN</td>\n      <td>NaN</td>\n      <td>NaN</td>\n      <td>NaN</td>\n      <td>NaN</td>\n    </tr>\n    <tr>\n      <th>Capacity at full load factor [GW_H2_LHV]</th>\n      <td>13</td>\n      <td>NaN</td>\n      <td>NaN</td>\n      <td>NaN</td>\n      <td>NaN</td>\n      <td>NaN</td>\n      <td>NaN</td>\n      <td>NaN</td>\n      <td>NaN</td>\n      <td>NaN</td>\n      <td>...</td>\n      <td>NaN</td>\n      <td>NaN</td>\n      <td>NaN</td>\n      <td>NaN</td>\n      <td>NaN</td>\n      <td>NaN</td>\n      <td>NaN</td>\n      <td>NaN</td>\n      <td>NaN</td>\n      <td>NaN</td>\n    </tr>\n    <tr>\n      <th>Capacity at full load factor [kg H2/a]</th>\n      <td>2033571428.571429</td>\n      <td>NaN</td>\n      <td>NaN</td>\n      <td>NaN</td>\n      <td>NaN</td>\n      <td>NaN</td>\n      <td>NaN</td>\n      <td>NaN</td>\n      <td>NaN</td>\n      <td>NaN</td>\n      <td>...</td>\n      <td>NaN</td>\n      <td>NaN</td>\n      <td>NaN</td>\n      <td>NaN</td>\n      <td>NaN</td>\n      <td>NaN</td>\n      <td>NaN</td>\n      <td>NaN</td>\n      <td>NaN</td>\n      <td>NaN</td>\n    </tr>\n    <tr>\n      <th>Pipeline load factor [%]</th>\n      <td>0.75</td>\n      <td>NaN</td>\n      <td>NaN</td>\n      <td>NaN</td>\n      <td>NaN</td>\n      <td>NaN</td>\n      <td>NaN</td>\n      <td>NaN</td>\n      <td>NaN</td>\n      <td>NaN</td>\n      <td>...</td>\n      <td>NaN</td>\n      <td>NaN</td>\n      <td>NaN</td>\n      <td>NaN</td>\n      <td>NaN</td>\n      <td>NaN</td>\n      <td>NaN</td>\n      <td>NaN</td>\n      <td>NaN</td>\n      <td>NaN</td>\n    </tr>\n  </tbody>\n</table>\n<p>59 rows × 63 columns</p>\n</div>"
     },
     "execution_count": 254,
     "metadata": {},
     "output_type": "execute_result"
    }
   ],
   "source": [
    "GHG =  pd.read_excel(\"/Users/jakob/PycharmProjects/H2_pathways_repo/data/raw/20220921_Data_Assumptions.xlsx\", sheet_name='GHG Emissions', decimal=',', index_col=0)\n",
    "GHG"
   ],
   "metadata": {
    "collapsed": false,
    "pycharm": {
     "name": "#%%\n"
    }
   }
  },
  {
   "cell_type": "code",
   "execution_count": 255,
   "outputs": [
    {
     "data": {
      "text/plain": "                                                                                        Ref  \\\nProperties                                                                                    \nProperties - Gas density [kg/m3]                                                   BOG 2020   \nProperties - LHV [MJ/kg]                                                           BOG 2020   \nProperties - LHV [kWh/kg]                 https://www.iea-amf.org/content/fuel_informati...   \nProperties - LHV [kWh/m3]                  https://www.rechargenews.com/energy-transitio...   \nProperties - Boiling point at 1 Bar [°C]                                                NaN   \n...                                                                                     ...   \nCAPEX ($/kW-H2), incl. Util.                                                        EWI PTX   \nOPEX ($/kW-H2/a), incl. Util.                                                       EWI PTX   \nElectricity use (kWh/kWh-H2                                                         EWI PTX   \nUtilisation                                                                         EWI PTX   \nReconversion - Lifetime [Years]                                                     EWI PTX   \n\n                                            LH2      2020       2021  \\\nProperties                                                             \nProperties - Gas density [kg/m3]           71.1       NaN        NaN   \nProperties - LHV [MJ/kg]                    120       NaN        NaN   \nProperties - LHV [kWh/kg]                 33.33       NaN        NaN   \nProperties - LHV [kWh/m3]                  2350       NaN        NaN   \nProperties - Boiling point at 1 Bar [°C]   -253       NaN        NaN   \n...                                         ...       ...        ...   \nCAPEX ($/kW-H2), incl. Util.                NaN       NaN        NaN   \nOPEX ($/kW-H2/a), incl. Util.               NaN  57.69591  57.118951   \nElectricity use (kWh/kWh-H2                0.01   0.01000   0.010000   \nUtilisation                                 NaN   0.90000   0.900000   \nReconversion - Lifetime [Years]              30       NaN        NaN   \n\n                                               2022       2023       2024  \\\nProperties                                                                  \nProperties - Gas density [kg/m3]                NaN        NaN        NaN   \nProperties - LHV [MJ/kg]                        NaN        NaN        NaN   \nProperties - LHV [kWh/kg]                       NaN        NaN        NaN   \nProperties - LHV [kWh/m3]                       NaN        NaN        NaN   \nProperties - Boiling point at 1 Bar [°C]        NaN        NaN        NaN   \n...                                             ...        ...        ...   \nCAPEX ($/kW-H2), incl. Util.                    NaN        NaN        NaN   \nOPEX ($/kW-H2/a), incl. Util.             56.541992  55.965033  55.388074   \nElectricity use (kWh/kWh-H2                0.010000   0.010000   0.010000   \nUtilisation                                0.900000   0.900000   0.900000   \nReconversion - Lifetime [Years]                 NaN        NaN        NaN   \n\n                                               2025       2026       2027  \\\nProperties                                                                  \nProperties - Gas density [kg/m3]                NaN        NaN        NaN   \nProperties - LHV [MJ/kg]                        NaN        NaN        NaN   \nProperties - LHV [kWh/kg]                       NaN        NaN        NaN   \nProperties - LHV [kWh/m3]                       NaN        NaN        NaN   \nProperties - Boiling point at 1 Bar [°C]        NaN        NaN        NaN   \n...                                             ...        ...        ...   \nCAPEX ($/kW-H2), incl. Util.                    NaN        NaN        NaN   \nOPEX ($/kW-H2/a), incl. Util.             54.811115  54.234156  53.657197   \nElectricity use (kWh/kWh-H2                0.010000   0.010000   0.010000   \nUtilisation                                0.900000   0.900000   0.900000   \nReconversion - Lifetime [Years]                 NaN        NaN        NaN   \n\n                                          ...       2041       2042  \\\nProperties                                ...                         \nProperties - Gas density [kg/m3]          ...        NaN        NaN   \nProperties - LHV [MJ/kg]                  ...        NaN        NaN   \nProperties - LHV [kWh/kg]                 ...        NaN        NaN   \nProperties - LHV [kWh/m3]                 ...        NaN        NaN   \nProperties - Boiling point at 1 Bar [°C]  ...        NaN        NaN   \n...                                       ...        ...        ...   \nCAPEX ($/kW-H2), incl. Util.              ...        NaN        NaN   \nOPEX ($/kW-H2/a), incl. Util.             ...  37.646582  36.348424   \nElectricity use (kWh/kWh-H2               ...   0.010000   0.010000   \nUtilisation                               ...   0.900000   0.900000   \nReconversion - Lifetime [Years]           ...        NaN        NaN   \n\n                                               2043       2044      2045  \\\nProperties                                                                 \nProperties - Gas density [kg/m3]                NaN        NaN       NaN   \nProperties - LHV [MJ/kg]                        NaN        NaN       NaN   \nProperties - LHV [kWh/kg]                       NaN        NaN       NaN   \nProperties - LHV [kWh/m3]                       NaN        NaN       NaN   \nProperties - Boiling point at 1 Bar [°C]        NaN        NaN       NaN   \n...                                             ...        ...       ...   \nCAPEX ($/kW-H2), incl. Util.                    NaN        NaN       NaN   \nOPEX ($/kW-H2/a), incl. Util.             35.050266  33.752108  32.45395   \nElectricity use (kWh/kWh-H2                0.010000   0.010000   0.01000   \nUtilisation                                0.900000   0.900000   0.90000   \nReconversion - Lifetime [Years]                 NaN        NaN       NaN   \n\n                                               2046       2047       2048  \\\nProperties                                                                  \nProperties - Gas density [kg/m3]                NaN        NaN        NaN   \nProperties - LHV [MJ/kg]                        NaN        NaN        NaN   \nProperties - LHV [kWh/kg]                       NaN        NaN        NaN   \nProperties - LHV [kWh/m3]                       NaN        NaN        NaN   \nProperties - Boiling point at 1 Bar [°C]        NaN        NaN        NaN   \n...                                             ...        ...        ...   \nCAPEX ($/kW-H2), incl. Util.                    NaN        NaN        NaN   \nOPEX ($/kW-H2/a), incl. Util.             31.155792  29.857634  28.559476   \nElectricity use (kWh/kWh-H2                0.010000   0.010000   0.010000   \nUtilisation                                0.900000   0.900000   0.900000   \nReconversion - Lifetime [Years]                 NaN        NaN        NaN   \n\n                                               2049      2050  \nProperties                                                     \nProperties - Gas density [kg/m3]                NaN       NaN  \nProperties - LHV [MJ/kg]                        NaN       NaN  \nProperties - LHV [kWh/kg]                       NaN       NaN  \nProperties - LHV [kWh/m3]                       NaN       NaN  \nProperties - Boiling point at 1 Bar [°C]        NaN       NaN  \n...                                             ...       ...  \nCAPEX ($/kW-H2), incl. Util.                    NaN       NaN  \nOPEX ($/kW-H2/a), incl. Util.             27.261318  25.96316  \nElectricity use (kWh/kWh-H2                0.010000   0.01000  \nUtilisation                                0.900000   0.90000  \nReconversion - Lifetime [Years]                 NaN       NaN  \n\n[121 rows x 33 columns]",
      "text/html": "<div>\n<style scoped>\n    .dataframe tbody tr th:only-of-type {\n        vertical-align: middle;\n    }\n\n    .dataframe tbody tr th {\n        vertical-align: top;\n    }\n\n    .dataframe thead th {\n        text-align: right;\n    }\n</style>\n<table border=\"1\" class=\"dataframe\">\n  <thead>\n    <tr style=\"text-align: right;\">\n      <th></th>\n      <th>Ref</th>\n      <th>LH2</th>\n      <th>2020</th>\n      <th>2021</th>\n      <th>2022</th>\n      <th>2023</th>\n      <th>2024</th>\n      <th>2025</th>\n      <th>2026</th>\n      <th>2027</th>\n      <th>...</th>\n      <th>2041</th>\n      <th>2042</th>\n      <th>2043</th>\n      <th>2044</th>\n      <th>2045</th>\n      <th>2046</th>\n      <th>2047</th>\n      <th>2048</th>\n      <th>2049</th>\n      <th>2050</th>\n    </tr>\n    <tr>\n      <th>Properties</th>\n      <th></th>\n      <th></th>\n      <th></th>\n      <th></th>\n      <th></th>\n      <th></th>\n      <th></th>\n      <th></th>\n      <th></th>\n      <th></th>\n      <th></th>\n      <th></th>\n      <th></th>\n      <th></th>\n      <th></th>\n      <th></th>\n      <th></th>\n      <th></th>\n      <th></th>\n      <th></th>\n      <th></th>\n    </tr>\n  </thead>\n  <tbody>\n    <tr>\n      <th>Properties - Gas density [kg/m3]</th>\n      <td>BOG 2020</td>\n      <td>71.1</td>\n      <td>NaN</td>\n      <td>NaN</td>\n      <td>NaN</td>\n      <td>NaN</td>\n      <td>NaN</td>\n      <td>NaN</td>\n      <td>NaN</td>\n      <td>NaN</td>\n      <td>...</td>\n      <td>NaN</td>\n      <td>NaN</td>\n      <td>NaN</td>\n      <td>NaN</td>\n      <td>NaN</td>\n      <td>NaN</td>\n      <td>NaN</td>\n      <td>NaN</td>\n      <td>NaN</td>\n      <td>NaN</td>\n    </tr>\n    <tr>\n      <th>Properties - LHV [MJ/kg]</th>\n      <td>BOG 2020</td>\n      <td>120</td>\n      <td>NaN</td>\n      <td>NaN</td>\n      <td>NaN</td>\n      <td>NaN</td>\n      <td>NaN</td>\n      <td>NaN</td>\n      <td>NaN</td>\n      <td>NaN</td>\n      <td>...</td>\n      <td>NaN</td>\n      <td>NaN</td>\n      <td>NaN</td>\n      <td>NaN</td>\n      <td>NaN</td>\n      <td>NaN</td>\n      <td>NaN</td>\n      <td>NaN</td>\n      <td>NaN</td>\n      <td>NaN</td>\n    </tr>\n    <tr>\n      <th>Properties - LHV [kWh/kg]</th>\n      <td>https://www.iea-amf.org/content/fuel_informati...</td>\n      <td>33.33</td>\n      <td>NaN</td>\n      <td>NaN</td>\n      <td>NaN</td>\n      <td>NaN</td>\n      <td>NaN</td>\n      <td>NaN</td>\n      <td>NaN</td>\n      <td>NaN</td>\n      <td>...</td>\n      <td>NaN</td>\n      <td>NaN</td>\n      <td>NaN</td>\n      <td>NaN</td>\n      <td>NaN</td>\n      <td>NaN</td>\n      <td>NaN</td>\n      <td>NaN</td>\n      <td>NaN</td>\n      <td>NaN</td>\n    </tr>\n    <tr>\n      <th>Properties - LHV [kWh/m3]</th>\n      <td>https://www.rechargenews.com/energy-transitio...</td>\n      <td>2350</td>\n      <td>NaN</td>\n      <td>NaN</td>\n      <td>NaN</td>\n      <td>NaN</td>\n      <td>NaN</td>\n      <td>NaN</td>\n      <td>NaN</td>\n      <td>NaN</td>\n      <td>...</td>\n      <td>NaN</td>\n      <td>NaN</td>\n      <td>NaN</td>\n      <td>NaN</td>\n      <td>NaN</td>\n      <td>NaN</td>\n      <td>NaN</td>\n      <td>NaN</td>\n      <td>NaN</td>\n      <td>NaN</td>\n    </tr>\n    <tr>\n      <th>Properties - Boiling point at 1 Bar [°C]</th>\n      <td>NaN</td>\n      <td>-253</td>\n      <td>NaN</td>\n      <td>NaN</td>\n      <td>NaN</td>\n      <td>NaN</td>\n      <td>NaN</td>\n      <td>NaN</td>\n      <td>NaN</td>\n      <td>NaN</td>\n      <td>...</td>\n      <td>NaN</td>\n      <td>NaN</td>\n      <td>NaN</td>\n      <td>NaN</td>\n      <td>NaN</td>\n      <td>NaN</td>\n      <td>NaN</td>\n      <td>NaN</td>\n      <td>NaN</td>\n      <td>NaN</td>\n    </tr>\n    <tr>\n      <th>...</th>\n      <td>...</td>\n      <td>...</td>\n      <td>...</td>\n      <td>...</td>\n      <td>...</td>\n      <td>...</td>\n      <td>...</td>\n      <td>...</td>\n      <td>...</td>\n      <td>...</td>\n      <td>...</td>\n      <td>...</td>\n      <td>...</td>\n      <td>...</td>\n      <td>...</td>\n      <td>...</td>\n      <td>...</td>\n      <td>...</td>\n      <td>...</td>\n      <td>...</td>\n      <td>...</td>\n    </tr>\n    <tr>\n      <th>CAPEX ($/kW-H2), incl. Util.</th>\n      <td>EWI PTX</td>\n      <td>NaN</td>\n      <td>NaN</td>\n      <td>NaN</td>\n      <td>NaN</td>\n      <td>NaN</td>\n      <td>NaN</td>\n      <td>NaN</td>\n      <td>NaN</td>\n      <td>NaN</td>\n      <td>...</td>\n      <td>NaN</td>\n      <td>NaN</td>\n      <td>NaN</td>\n      <td>NaN</td>\n      <td>NaN</td>\n      <td>NaN</td>\n      <td>NaN</td>\n      <td>NaN</td>\n      <td>NaN</td>\n      <td>NaN</td>\n    </tr>\n    <tr>\n      <th>OPEX ($/kW-H2/a), incl. Util.</th>\n      <td>EWI PTX</td>\n      <td>NaN</td>\n      <td>57.69591</td>\n      <td>57.118951</td>\n      <td>56.541992</td>\n      <td>55.965033</td>\n      <td>55.388074</td>\n      <td>54.811115</td>\n      <td>54.234156</td>\n      <td>53.657197</td>\n      <td>...</td>\n      <td>37.646582</td>\n      <td>36.348424</td>\n      <td>35.050266</td>\n      <td>33.752108</td>\n      <td>32.45395</td>\n      <td>31.155792</td>\n      <td>29.857634</td>\n      <td>28.559476</td>\n      <td>27.261318</td>\n      <td>25.96316</td>\n    </tr>\n    <tr>\n      <th>Electricity use (kWh/kWh-H2</th>\n      <td>EWI PTX</td>\n      <td>0.01</td>\n      <td>0.01000</td>\n      <td>0.010000</td>\n      <td>0.010000</td>\n      <td>0.010000</td>\n      <td>0.010000</td>\n      <td>0.010000</td>\n      <td>0.010000</td>\n      <td>0.010000</td>\n      <td>...</td>\n      <td>0.010000</td>\n      <td>0.010000</td>\n      <td>0.010000</td>\n      <td>0.010000</td>\n      <td>0.01000</td>\n      <td>0.010000</td>\n      <td>0.010000</td>\n      <td>0.010000</td>\n      <td>0.010000</td>\n      <td>0.01000</td>\n    </tr>\n    <tr>\n      <th>Utilisation</th>\n      <td>EWI PTX</td>\n      <td>NaN</td>\n      <td>0.90000</td>\n      <td>0.900000</td>\n      <td>0.900000</td>\n      <td>0.900000</td>\n      <td>0.900000</td>\n      <td>0.900000</td>\n      <td>0.900000</td>\n      <td>0.900000</td>\n      <td>...</td>\n      <td>0.900000</td>\n      <td>0.900000</td>\n      <td>0.900000</td>\n      <td>0.900000</td>\n      <td>0.90000</td>\n      <td>0.900000</td>\n      <td>0.900000</td>\n      <td>0.900000</td>\n      <td>0.900000</td>\n      <td>0.90000</td>\n    </tr>\n    <tr>\n      <th>Reconversion - Lifetime [Years]</th>\n      <td>EWI PTX</td>\n      <td>30</td>\n      <td>NaN</td>\n      <td>NaN</td>\n      <td>NaN</td>\n      <td>NaN</td>\n      <td>NaN</td>\n      <td>NaN</td>\n      <td>NaN</td>\n      <td>NaN</td>\n      <td>...</td>\n      <td>NaN</td>\n      <td>NaN</td>\n      <td>NaN</td>\n      <td>NaN</td>\n      <td>NaN</td>\n      <td>NaN</td>\n      <td>NaN</td>\n      <td>NaN</td>\n      <td>NaN</td>\n      <td>NaN</td>\n    </tr>\n  </tbody>\n</table>\n<p>121 rows × 33 columns</p>\n</div>"
     },
     "execution_count": 255,
     "metadata": {},
     "output_type": "execute_result"
    }
   ],
   "source": [
    "tea_lh2 = pd.read_excel(\"/Users/jakob/PycharmProjects/H2_pathways_repo/data/raw/20220921_Data_Assumptions.xlsx\", sheet_name='LH2', decimal=',', index_col=0)\n",
    "tea_lh2"
   ],
   "metadata": {
    "collapsed": false,
    "pycharm": {
     "name": "#%%\n"
    }
   }
  },
  {
   "cell_type": "code",
   "execution_count": 251,
   "outputs": [
    {
     "data": {
      "text/plain": "           Origin_Country Destination_Country  sea distance (km)  \\\n0    United Arab Emirates             Germany           12443.10   \n1                  Angola             Germany            9809.65   \n2               Argentina             Germany           14063.90   \n3                 Austria             Germany            6005.96   \n4               Australia             Germany           21212.10   \n..                    ...                 ...                ...   \n955           Philippines               China            1782.35   \n956               Iceland               China           20454.60   \n957      Papua New Guinea               China            6298.52   \n958              Cameroon               China           19717.70   \n959          South Africa               China           12853.50   \n\n     onshore distance (km)  offshore distance (km) Starting point  \n0                      NaN                     NaN            NaN  \n1                      NaN                     NaN            NaN  \n2                      NaN                     NaN            NaN  \n3                    500.0                     0.0            NaN  \n4                      NaN                     NaN            NaN  \n..                     ...                     ...            ...  \n955                    NaN                     NaN            NaN  \n956                    NaN                     NaN            NaN  \n957                    NaN                     NaN            NaN  \n958                    NaN                     NaN            NaN  \n959                    NaN                     NaN            NaN  \n\n[960 rows x 6 columns]",
      "text/html": "<div>\n<style scoped>\n    .dataframe tbody tr th:only-of-type {\n        vertical-align: middle;\n    }\n\n    .dataframe tbody tr th {\n        vertical-align: top;\n    }\n\n    .dataframe thead th {\n        text-align: right;\n    }\n</style>\n<table border=\"1\" class=\"dataframe\">\n  <thead>\n    <tr style=\"text-align: right;\">\n      <th></th>\n      <th>Origin_Country</th>\n      <th>Destination_Country</th>\n      <th>sea distance (km)</th>\n      <th>onshore distance (km)</th>\n      <th>offshore distance (km)</th>\n      <th>Starting point</th>\n    </tr>\n  </thead>\n  <tbody>\n    <tr>\n      <th>0</th>\n      <td>United Arab Emirates</td>\n      <td>Germany</td>\n      <td>12443.10</td>\n      <td>NaN</td>\n      <td>NaN</td>\n      <td>NaN</td>\n    </tr>\n    <tr>\n      <th>1</th>\n      <td>Angola</td>\n      <td>Germany</td>\n      <td>9809.65</td>\n      <td>NaN</td>\n      <td>NaN</td>\n      <td>NaN</td>\n    </tr>\n    <tr>\n      <th>2</th>\n      <td>Argentina</td>\n      <td>Germany</td>\n      <td>14063.90</td>\n      <td>NaN</td>\n      <td>NaN</td>\n      <td>NaN</td>\n    </tr>\n    <tr>\n      <th>3</th>\n      <td>Austria</td>\n      <td>Germany</td>\n      <td>6005.96</td>\n      <td>500.0</td>\n      <td>0.0</td>\n      <td>NaN</td>\n    </tr>\n    <tr>\n      <th>4</th>\n      <td>Australia</td>\n      <td>Germany</td>\n      <td>21212.10</td>\n      <td>NaN</td>\n      <td>NaN</td>\n      <td>NaN</td>\n    </tr>\n    <tr>\n      <th>...</th>\n      <td>...</td>\n      <td>...</td>\n      <td>...</td>\n      <td>...</td>\n      <td>...</td>\n      <td>...</td>\n    </tr>\n    <tr>\n      <th>955</th>\n      <td>Philippines</td>\n      <td>China</td>\n      <td>1782.35</td>\n      <td>NaN</td>\n      <td>NaN</td>\n      <td>NaN</td>\n    </tr>\n    <tr>\n      <th>956</th>\n      <td>Iceland</td>\n      <td>China</td>\n      <td>20454.60</td>\n      <td>NaN</td>\n      <td>NaN</td>\n      <td>NaN</td>\n    </tr>\n    <tr>\n      <th>957</th>\n      <td>Papua New Guinea</td>\n      <td>China</td>\n      <td>6298.52</td>\n      <td>NaN</td>\n      <td>NaN</td>\n      <td>NaN</td>\n    </tr>\n    <tr>\n      <th>958</th>\n      <td>Cameroon</td>\n      <td>China</td>\n      <td>19717.70</td>\n      <td>NaN</td>\n      <td>NaN</td>\n      <td>NaN</td>\n    </tr>\n    <tr>\n      <th>959</th>\n      <td>South Africa</td>\n      <td>China</td>\n      <td>12853.50</td>\n      <td>NaN</td>\n      <td>NaN</td>\n      <td>NaN</td>\n    </tr>\n  </tbody>\n</table>\n<p>960 rows × 6 columns</p>\n</div>"
     },
     "execution_count": 251,
     "metadata": {},
     "output_type": "execute_result"
    }
   ],
   "source": [
    "tra_d = pd.read_excel(\"/Users/jakob/PycharmProjects/H2_pathways_repo/data/raw/20220921_Data_Assumptions.xlsx\", sheet_name='Transport Distances', decimal=',')\n",
    "tra_d"
   ],
   "metadata": {
    "collapsed": false,
    "pycharm": {
     "name": "#%%\n"
    }
   }
  },
  {
   "cell_type": "code",
   "execution_count": 216,
   "outputs": [
    {
     "data": {
      "text/plain": "300.0"
     },
     "execution_count": 216,
     "metadata": {},
     "output_type": "execute_result"
    }
   ],
   "source": [
    "# Onshore pipeline distance between two countries [km]\n",
    "d_on = float(tra_d[(tra_d['Origin_Country'] == 'Norway') & (tra_d['Destination_Country'] == 'Germany')]['onshore distance (km)'].values)\n",
    "d_on"
   ],
   "metadata": {
    "collapsed": false,
    "pycharm": {
     "name": "#%%\n"
    }
   }
  },
  {
   "cell_type": "code",
   "execution_count": 217,
   "outputs": [
    {
     "data": {
      "text/plain": "650.0"
     },
     "execution_count": 217,
     "metadata": {},
     "output_type": "execute_result"
    }
   ],
   "source": [
    "# Offshore pipeline distance between two countries [km]\n",
    "d_off = float(tra_d[(tra_d['Origin_Country'] == 'Norway') & (tra_d['Destination_Country'] == 'Germany')]['offshore distance (km)'].values)\n",
    "d_off"
   ],
   "metadata": {
    "collapsed": false,
    "pycharm": {
     "name": "#%%\n"
    }
   }
  },
  {
   "cell_type": "code",
   "execution_count": 218,
   "outputs": [
    {
     "data": {
      "text/plain": "260.0"
     },
     "execution_count": 218,
     "metadata": {},
     "output_type": "execute_result"
    }
   ],
   "source": [
    "# Compression capacity in [MWel/1000km]\n",
    "capa_comp = float(GHG.loc['Medium - Compression capacity @ 48inch [MW_el/1000km]']['Parameter'])\n",
    "capa_comp"
   ],
   "metadata": {
    "collapsed": false,
    "pycharm": {
     "name": "#%%\n"
    }
   }
  },
  {
   "cell_type": "code",
   "execution_count": 219,
   "outputs": [
    {
     "data": {
      "text/plain": "0.75"
     },
     "execution_count": 219,
     "metadata": {},
     "output_type": "execute_result"
    }
   ],
   "source": [
    "# Utilisation of the pipeline in %\n",
    "pipe_use = float(GHG.loc['Pipeline load factor [%]']['Parameter'])\n",
    "pipe_use"
   ],
   "metadata": {
    "collapsed": false,
    "pycharm": {
     "name": "#%%\n"
    }
   }
  },
  {
   "cell_type": "code",
   "execution_count": 220,
   "outputs": [
    {
     "data": {
      "text/plain": "2033571428.5714285"
     },
     "execution_count": 220,
     "metadata": {},
     "output_type": "execute_result"
    }
   ],
   "source": [
    "#Capacity at full load factor [kg H2/a]\n",
    "capa_pipe = float(GHG.loc['Capacity at full load factor [kg H2/a]']['Parameter'])\n",
    "capa_pipe"
   ],
   "metadata": {
    "collapsed": false,
    "pycharm": {
     "name": "#%%\n"
    }
   }
  },
  {
   "cell_type": "markdown",
   "source": [
    "# Pipeline transport"
   ],
   "metadata": {
    "collapsed": false,
    "pycharm": {
     "name": "#%% md\n"
    }
   }
  },
  {
   "cell_type": "markdown",
   "source": [
    "Compression capacity in [MWel/1000km]\n",
    "Utilisation of the pipeline in %\n",
    "8760 h/a\n",
    "Capacity at full load factor [kg H2/a]\n",
    "Transport distance in [km]\n"
   ],
   "metadata": {
    "collapsed": false,
    "pycharm": {
     "name": "#%% md\n"
    }
   }
  },
  {
   "cell_type": "code",
   "execution_count": 221,
   "outputs": [
    {
     "data": {
      "text/plain": "0.7979999999999999"
     },
     "execution_count": 221,
     "metadata": {},
     "output_type": "execute_result"
    }
   ],
   "source": [
    "# Calc. energy use for compression [kWh/kg_H2]\n",
    "en_comp = capa_comp * 1000 * pipe_use * 8760 / capa_pipe / 1000 * (d_on + d_off)\n",
    "en_comp"
   ],
   "metadata": {
    "collapsed": false,
    "pycharm": {
     "name": "#%%\n"
    }
   }
  },
  {
   "cell_type": "markdown",
   "source": [
    "Energy use per kg H2 delivered times emission factor for energy use.\n",
    "en_comp = Total energy use for compression [kWh/kg H2]\n",
    "EF_y_n = Emission factor of used energy in year y and country n [g CO2eq/kWh]"
   ],
   "metadata": {
    "collapsed": false,
    "pycharm": {
     "name": "#%% md\n"
    }
   }
  },
  {
   "cell_type": "code",
   "execution_count": 222,
   "outputs": [],
   "source": [
    "def Pipeline_emissions():\n",
    "\n",
    "    result = en_comp * EF_y_n\n",
    "    return result"
   ],
   "metadata": {
    "collapsed": false,
    "pycharm": {
     "name": "#%%\n"
    }
   }
  },
  {
   "cell_type": "markdown",
   "source": [
    "Calc. pipeline emissions over time"
   ],
   "metadata": {
    "collapsed": false,
    "pycharm": {
     "name": "#%% md\n"
    }
   }
  },
  {
   "cell_type": "markdown",
   "source": [
    "Using grid electricity for compression.\n",
    "Compressor station for subsea pipelines in exporting country.\n",
    "Emission factor for grid electricity in year y and country n [g CO2eq/kWh]\n",
    "Energy use for compression in [kWh/kg H2]"
   ],
   "metadata": {
    "collapsed": false,
    "pycharm": {
     "name": "#%% md\n"
    }
   }
  },
  {
   "cell_type": "code",
   "execution_count": 223,
   "outputs": [
    {
     "data": {
      "text/plain": "      Pipeline_emissions\nYears                   \n2025          259.154933\n2026          243.744667\n2027            228.3344\n2028          212.924133\n2029          197.513867\n2030            182.1036\n2031          170.136792\n2032          158.169984\n2033          146.203176\n2034          134.236368\n2035           122.26956\n2036          110.302752\n2037           98.335944\n2038           86.369136\n2039           74.402328\n2040            62.43552\n2041           49.948416\n2042           37.461312\n2043           24.974208\n2044           12.487104\n2045                 0.0\n2046                 0.0\n2047                 0.0\n2048                 0.0\n2049                 0.0\n2050                 0.0",
      "text/html": "<div>\n<style scoped>\n    .dataframe tbody tr th:only-of-type {\n        vertical-align: middle;\n    }\n\n    .dataframe tbody tr th {\n        vertical-align: top;\n    }\n\n    .dataframe thead th {\n        text-align: right;\n    }\n</style>\n<table border=\"1\" class=\"dataframe\">\n  <thead>\n    <tr style=\"text-align: right;\">\n      <th></th>\n      <th>Pipeline_emissions</th>\n    </tr>\n    <tr>\n      <th>Years</th>\n      <th></th>\n    </tr>\n  </thead>\n  <tbody>\n    <tr>\n      <th>2025</th>\n      <td>259.154933</td>\n    </tr>\n    <tr>\n      <th>2026</th>\n      <td>243.744667</td>\n    </tr>\n    <tr>\n      <th>2027</th>\n      <td>228.3344</td>\n    </tr>\n    <tr>\n      <th>2028</th>\n      <td>212.924133</td>\n    </tr>\n    <tr>\n      <th>2029</th>\n      <td>197.513867</td>\n    </tr>\n    <tr>\n      <th>2030</th>\n      <td>182.1036</td>\n    </tr>\n    <tr>\n      <th>2031</th>\n      <td>170.136792</td>\n    </tr>\n    <tr>\n      <th>2032</th>\n      <td>158.169984</td>\n    </tr>\n    <tr>\n      <th>2033</th>\n      <td>146.203176</td>\n    </tr>\n    <tr>\n      <th>2034</th>\n      <td>134.236368</td>\n    </tr>\n    <tr>\n      <th>2035</th>\n      <td>122.26956</td>\n    </tr>\n    <tr>\n      <th>2036</th>\n      <td>110.302752</td>\n    </tr>\n    <tr>\n      <th>2037</th>\n      <td>98.335944</td>\n    </tr>\n    <tr>\n      <th>2038</th>\n      <td>86.369136</td>\n    </tr>\n    <tr>\n      <th>2039</th>\n      <td>74.402328</td>\n    </tr>\n    <tr>\n      <th>2040</th>\n      <td>62.43552</td>\n    </tr>\n    <tr>\n      <th>2041</th>\n      <td>49.948416</td>\n    </tr>\n    <tr>\n      <th>2042</th>\n      <td>37.461312</td>\n    </tr>\n    <tr>\n      <th>2043</th>\n      <td>24.974208</td>\n    </tr>\n    <tr>\n      <th>2044</th>\n      <td>12.487104</td>\n    </tr>\n    <tr>\n      <th>2045</th>\n      <td>0.0</td>\n    </tr>\n    <tr>\n      <th>2046</th>\n      <td>0.0</td>\n    </tr>\n    <tr>\n      <th>2047</th>\n      <td>0.0</td>\n    </tr>\n    <tr>\n      <th>2048</th>\n      <td>0.0</td>\n    </tr>\n    <tr>\n      <th>2049</th>\n      <td>0.0</td>\n    </tr>\n    <tr>\n      <th>2050</th>\n      <td>0.0</td>\n    </tr>\n  </tbody>\n</table>\n</div>"
     },
     "execution_count": 223,
     "metadata": {},
     "output_type": "execute_result"
    }
   ],
   "source": [
    "years = np.arange(2025,2051)\n",
    "result = pd.DataFrame(index=years, columns=['Pipeline_emissions'])\n",
    "result.index.name = 'Years'\n",
    "\n",
    "for year in years:\n",
    "\n",
    "    EF_y_n = float(GHG.loc['GHG intensity of electricity generation [g CO2eq/kWh] - Germany'][year])\n",
    "\n",
    "    result.Pipeline_emissions.loc[year] = Pipeline_emissions()\n",
    "\n",
    "result"
   ],
   "metadata": {
    "collapsed": false,
    "pycharm": {
     "name": "#%%\n"
    }
   }
  },
  {
   "cell_type": "markdown",
   "source": [
    "Plot emission breakdown for pipeline transport"
   ],
   "metadata": {
    "collapsed": false,
    "pycharm": {
     "name": "#%% md\n"
    }
   }
  },
  {
   "cell_type": "code",
   "execution_count": 224,
   "outputs": [
    {
     "ename": "NameError",
     "evalue": "name 'df3' is not defined",
     "output_type": "error",
     "traceback": [
      "\u001B[0;31m---------------------------------------------------------------------------\u001B[0m",
      "\u001B[0;31mNameError\u001B[0m                                 Traceback (most recent call last)",
      "Input \u001B[0;32mIn [224]\u001B[0m, in \u001B[0;36m<cell line: 2>\u001B[0;34m()\u001B[0m\n\u001B[1;32m      1\u001B[0m \u001B[38;5;66;03m##\u001B[39;00m\n\u001B[0;32m----> 2\u001B[0m ax \u001B[38;5;241m=\u001B[39m \u001B[43mdf3\u001B[49m\u001B[38;5;241m.\u001B[39miloc[index]\u001B[38;5;241m.\u001B[39mplot\u001B[38;5;241m.\u001B[39mbar(stacked\u001B[38;5;241m=\u001B[39m\u001B[38;5;28;01mTrue\u001B[39;00m)\n\u001B[1;32m      3\u001B[0m ax\u001B[38;5;241m.\u001B[39mlegend(bbox_to_anchor\u001B[38;5;241m=\u001B[39m(\u001B[38;5;241m1.1\u001B[39m, \u001B[38;5;241m1.05\u001B[39m))\n",
      "\u001B[0;31mNameError\u001B[0m: name 'df3' is not defined"
     ]
    }
   ],
   "source": [
    "##\n",
    "ax = df3.iloc[index].plot.bar(stacked=True)\n",
    "ax.legend(bbox_to_anchor=(1.1, 1.05))"
   ],
   "metadata": {
    "collapsed": false,
    "pycharm": {
     "name": "#%%\n"
    }
   }
  },
  {
   "cell_type": "code",
   "execution_count": null,
   "outputs": [],
   "source": [],
   "metadata": {
    "collapsed": false,
    "pycharm": {
     "name": "#%%\n"
    }
   }
  },
  {
   "cell_type": "markdown",
   "source": [
    "# LH2 transport"
   ],
   "metadata": {
    "collapsed": false,
    "pycharm": {
     "name": "#%% md\n"
    }
   }
  },
  {
   "cell_type": "markdown",
   "source": [
    "Liquefaction energy use"
   ],
   "metadata": {
    "collapsed": false,
    "pycharm": {
     "name": "#%% md\n"
    }
   }
  },
  {
   "cell_type": "markdown",
   "source": [
    "Electricity use for liquefaction in [kWh/kg H2]\n",
    "Emission factor for grid electricity in year y and country n [g CO2eq/kWh]\n"
   ],
   "metadata": {
    "collapsed": false,
    "pycharm": {
     "name": "#%% md\n"
    }
   }
  },
  {
   "cell_type": "markdown",
   "source": [
    "## Liquefaction"
   ],
   "metadata": {
    "collapsed": false,
    "pycharm": {
     "name": "#%% md\n"
    }
   }
  },
  {
   "cell_type": "code",
   "execution_count": 225,
   "outputs": [],
   "source": [
    "def Conversion_emissions():\n",
    "    result = el_liq_y * EF_y_n\n",
    "    return result"
   ],
   "metadata": {
    "collapsed": false,
    "pycharm": {
     "name": "#%%\n"
    }
   }
  },
  {
   "cell_type": "code",
   "execution_count": 226,
   "outputs": [
    {
     "data": {
      "text/plain": "     LH2_Conversion_emissions\n2025               177.655121\n2026               166.786808\n2027               156.127501\n2028               145.677199\n2029               135.435904\n2030               125.403615\n2031               115.580332\n2032               105.966055\n2033                96.560784\n2034                87.364518\n2035                78.377259\n2036                69.599006\n2037                61.029759\n2038                52.669518\n2039                44.518283\n2040                36.576054\n2041                28.633825\n2042                21.005106\n2043                13.689895\n2044                 6.688193\n2045                      0.0\n2046                      0.0\n2047                      0.0\n2048                      0.0\n2049                      0.0\n2050                      0.0",
      "text/html": "<div>\n<style scoped>\n    .dataframe tbody tr th:only-of-type {\n        vertical-align: middle;\n    }\n\n    .dataframe tbody tr th {\n        vertical-align: top;\n    }\n\n    .dataframe thead th {\n        text-align: right;\n    }\n</style>\n<table border=\"1\" class=\"dataframe\">\n  <thead>\n    <tr style=\"text-align: right;\">\n      <th></th>\n      <th>LH2_Conversion_emissions</th>\n    </tr>\n  </thead>\n  <tbody>\n    <tr>\n      <th>2025</th>\n      <td>177.655121</td>\n    </tr>\n    <tr>\n      <th>2026</th>\n      <td>166.786808</td>\n    </tr>\n    <tr>\n      <th>2027</th>\n      <td>156.127501</td>\n    </tr>\n    <tr>\n      <th>2028</th>\n      <td>145.677199</td>\n    </tr>\n    <tr>\n      <th>2029</th>\n      <td>135.435904</td>\n    </tr>\n    <tr>\n      <th>2030</th>\n      <td>125.403615</td>\n    </tr>\n    <tr>\n      <th>2031</th>\n      <td>115.580332</td>\n    </tr>\n    <tr>\n      <th>2032</th>\n      <td>105.966055</td>\n    </tr>\n    <tr>\n      <th>2033</th>\n      <td>96.560784</td>\n    </tr>\n    <tr>\n      <th>2034</th>\n      <td>87.364518</td>\n    </tr>\n    <tr>\n      <th>2035</th>\n      <td>78.377259</td>\n    </tr>\n    <tr>\n      <th>2036</th>\n      <td>69.599006</td>\n    </tr>\n    <tr>\n      <th>2037</th>\n      <td>61.029759</td>\n    </tr>\n    <tr>\n      <th>2038</th>\n      <td>52.669518</td>\n    </tr>\n    <tr>\n      <th>2039</th>\n      <td>44.518283</td>\n    </tr>\n    <tr>\n      <th>2040</th>\n      <td>36.576054</td>\n    </tr>\n    <tr>\n      <th>2041</th>\n      <td>28.633825</td>\n    </tr>\n    <tr>\n      <th>2042</th>\n      <td>21.005106</td>\n    </tr>\n    <tr>\n      <th>2043</th>\n      <td>13.689895</td>\n    </tr>\n    <tr>\n      <th>2044</th>\n      <td>6.688193</td>\n    </tr>\n    <tr>\n      <th>2045</th>\n      <td>0.0</td>\n    </tr>\n    <tr>\n      <th>2046</th>\n      <td>0.0</td>\n    </tr>\n    <tr>\n      <th>2047</th>\n      <td>0.0</td>\n    </tr>\n    <tr>\n      <th>2048</th>\n      <td>0.0</td>\n    </tr>\n    <tr>\n      <th>2049</th>\n      <td>0.0</td>\n    </tr>\n    <tr>\n      <th>2050</th>\n      <td>0.0</td>\n    </tr>\n  </tbody>\n</table>\n</div>"
     },
     "execution_count": 226,
     "metadata": {},
     "output_type": "execute_result"
    }
   ],
   "source": [
    "# Calc. liquefaction emissions over time [g CO2eq/kg H2]\n",
    "years = np.arange(2025, 2051)\n",
    "result = pd.DataFrame(index=years, columns=['LH2_Conversion_emissions'])\n",
    "for year in years:\n",
    "    el_liq_y = float(tea_lh2.loc['Liquefaction - Electricity consumption opt. [kWh/kgH2]'][year])\n",
    "    EF_y_n = float(GHG.loc['GHG intensity of electricity generation [g CO2eq/kWh] - Norway'][year])\n",
    "\n",
    "    result.LH2_Conversion_emissions.loc[year] = Conversion_emissions()\n",
    "\n",
    "result"
   ],
   "metadata": {
    "collapsed": false,
    "pycharm": {
     "name": "#%%\n"
    }
   }
  },
  {
   "cell_type": "code",
   "execution_count": 227,
   "outputs": [],
   "source": [
    "path=r'/Users/jakob/PycharmProjects/H2_pathways_repo/data/processed'\n",
    "output_file = os.path.join(path,'LH2_Conversion_emissions.csv')\n",
    "result.to_csv(output_file, sep = ';')"
   ],
   "metadata": {
    "collapsed": false,
    "pycharm": {
     "name": "#%%\n"
    }
   }
  },
  {
   "cell_type": "markdown",
   "source": [
    "## Export terminal"
   ],
   "metadata": {
    "collapsed": false,
    "pycharm": {
     "name": "#%% md\n"
    }
   }
  },
  {
   "cell_type": "code",
   "execution_count": 228,
   "outputs": [
    {
     "data": {
      "text/plain": "0.61"
     },
     "execution_count": 228,
     "metadata": {},
     "output_type": "execute_result"
    }
   ],
   "source": [
    "# Electricity consumption for the export terminal [kWh/kg_h2]\n",
    "el_et = float(tea_lh2.loc['Export Terminal - Electricity use [kWh/kgH2]']['LH2'])\n",
    "el_et"
   ],
   "metadata": {
    "collapsed": false,
    "pycharm": {
     "name": "#%%\n"
    }
   }
  },
  {
   "cell_type": "code",
   "execution_count": 229,
   "outputs": [
    {
     "data": {
      "text/plain": "0.1"
     },
     "execution_count": 229,
     "metadata": {},
     "output_type": "execute_result"
    }
   ],
   "source": [
    "el_reliq = float(tea_lh2.loc['Export Terminal - Energy use to reliquefy opt. [kWh/kg H2/day]']['LH2'])\n",
    "el_reliq"
   ],
   "metadata": {
    "collapsed": false,
    "pycharm": {
     "name": "#%%\n"
    }
   }
  },
  {
   "cell_type": "code",
   "execution_count": 230,
   "outputs": [
    {
     "data": {
      "text/plain": "7.0"
     },
     "execution_count": 230,
     "metadata": {},
     "output_type": "execute_result"
    }
   ],
   "source": [
    "# Average storage time in the export terminal tanks in days\n",
    "t_et = float(tea_lh2.loc['Export Terminal - Storage length per load [Days]']['LH2'])\n",
    "t_et"
   ],
   "metadata": {
    "collapsed": false,
    "pycharm": {
     "name": "#%%\n"
    }
   }
  },
  {
   "cell_type": "code",
   "execution_count": 396,
   "outputs": [],
   "source": [
    "def ET_emissions():\n",
    "    result = (el_et + el_reliq * t_et) * EF_y_n\n",
    "    return result"
   ],
   "metadata": {
    "collapsed": false,
    "pycharm": {
     "name": "#%%\n"
    }
   }
  },
  {
   "cell_type": "code",
   "execution_count": 405,
   "outputs": [
    {
     "data": {
      "text/plain": "      LH2_Export_terminal_emissions\nYears                              \n2025                      27.379789\n2026                        26.0108\n2027                       24.64181\n2028                      23.272821\n2029                      21.903831\n2030                      20.534842\n2031                      19.165852\n2032                      17.796863\n2033                      16.427874\n2034                      15.058884\n2035                      13.689895\n2036                      12.320905\n2037                      10.951916\n2038                       9.582926\n2039                       8.213937\n2040                       6.844947\n2041                       5.475958\n2042                       4.106968\n2043                       2.737979\n2044                       1.368989\n2045                            0.0\n2046                            0.0\n2047                            0.0\n2048                            0.0\n2049                            0.0\n2050                            0.0",
      "text/html": "<div>\n<style scoped>\n    .dataframe tbody tr th:only-of-type {\n        vertical-align: middle;\n    }\n\n    .dataframe tbody tr th {\n        vertical-align: top;\n    }\n\n    .dataframe thead th {\n        text-align: right;\n    }\n</style>\n<table border=\"1\" class=\"dataframe\">\n  <thead>\n    <tr style=\"text-align: right;\">\n      <th></th>\n      <th>LH2_Export_terminal_emissions</th>\n    </tr>\n    <tr>\n      <th>Years</th>\n      <th></th>\n    </tr>\n  </thead>\n  <tbody>\n    <tr>\n      <th>2025</th>\n      <td>27.379789</td>\n    </tr>\n    <tr>\n      <th>2026</th>\n      <td>26.0108</td>\n    </tr>\n    <tr>\n      <th>2027</th>\n      <td>24.64181</td>\n    </tr>\n    <tr>\n      <th>2028</th>\n      <td>23.272821</td>\n    </tr>\n    <tr>\n      <th>2029</th>\n      <td>21.903831</td>\n    </tr>\n    <tr>\n      <th>2030</th>\n      <td>20.534842</td>\n    </tr>\n    <tr>\n      <th>2031</th>\n      <td>19.165852</td>\n    </tr>\n    <tr>\n      <th>2032</th>\n      <td>17.796863</td>\n    </tr>\n    <tr>\n      <th>2033</th>\n      <td>16.427874</td>\n    </tr>\n    <tr>\n      <th>2034</th>\n      <td>15.058884</td>\n    </tr>\n    <tr>\n      <th>2035</th>\n      <td>13.689895</td>\n    </tr>\n    <tr>\n      <th>2036</th>\n      <td>12.320905</td>\n    </tr>\n    <tr>\n      <th>2037</th>\n      <td>10.951916</td>\n    </tr>\n    <tr>\n      <th>2038</th>\n      <td>9.582926</td>\n    </tr>\n    <tr>\n      <th>2039</th>\n      <td>8.213937</td>\n    </tr>\n    <tr>\n      <th>2040</th>\n      <td>6.844947</td>\n    </tr>\n    <tr>\n      <th>2041</th>\n      <td>5.475958</td>\n    </tr>\n    <tr>\n      <th>2042</th>\n      <td>4.106968</td>\n    </tr>\n    <tr>\n      <th>2043</th>\n      <td>2.737979</td>\n    </tr>\n    <tr>\n      <th>2044</th>\n      <td>1.368989</td>\n    </tr>\n    <tr>\n      <th>2045</th>\n      <td>0.0</td>\n    </tr>\n    <tr>\n      <th>2046</th>\n      <td>0.0</td>\n    </tr>\n    <tr>\n      <th>2047</th>\n      <td>0.0</td>\n    </tr>\n    <tr>\n      <th>2048</th>\n      <td>0.0</td>\n    </tr>\n    <tr>\n      <th>2049</th>\n      <td>0.0</td>\n    </tr>\n    <tr>\n      <th>2050</th>\n      <td>0.0</td>\n    </tr>\n  </tbody>\n</table>\n</div>"
     },
     "execution_count": 405,
     "metadata": {},
     "output_type": "execute_result"
    }
   ],
   "source": [
    "# Calc. liquefaction emissions over time [g CO2eq/kg H2]\n",
    "years = np.arange(2025, 2051)\n",
    "result = pd.DataFrame(index=years, columns=['LH2_Export_terminal_emissions'])\n",
    "result.index.name = 'Years'\n",
    "\n",
    "for year in years:\n",
    "    EF_y_n = float(GHG.loc['GHG intensity of electricity generation [g CO2eq/kWh] - Norway'][year])\n",
    "\n",
    "    result.LH2_Export_terminal_emissions.loc[year] = ET_emissions()\n",
    "\n",
    "result"
   ],
   "metadata": {
    "collapsed": false,
    "pycharm": {
     "name": "#%%\n"
    }
   }
  },
  {
   "cell_type": "code",
   "execution_count": 406,
   "outputs": [],
   "source": [
    "path=r'/Users/jakob/PycharmProjects/H2_pathways_repo/data/processed'\n",
    "output_file = os.path.join(path,'LH2_Export_terminal_emissions.csv')\n",
    "result.to_csv(output_file, sep = ';')"
   ],
   "metadata": {
    "collapsed": false,
    "pycharm": {
     "name": "#%%\n"
    }
   }
  },
  {
   "cell_type": "code",
   "execution_count": 408,
   "outputs": [
    {
     "data": {
      "text/plain": "      LH2_Export_terminal_emissions\nYears                              \n2025             27.379789274999997\n2026                 26.01079981125\n2027             24.641810347499998\n2028             23.272820883749997\n2029             21.903831419999996\n2030             20.534841956249995\n2031             19.165852492499997\n2032             17.796863028749996\n2033             16.427873564999995\n2034             15.058884101249994\n2035             13.689894637499995\n2036             12.320905173749994\n2037             10.951915709999994\n2038              9.582926246249993\n2039              8.213936782499992\n2040              6.844947318749993\n2041              5.475957854999992\n2042              4.106968391249992\n2043             2.7379789274999915\n2044             1.3689894637499913\n2045                            0.0\n2046                            0.0\n2047                            0.0\n2048                            0.0\n2049                            0.0\n2050                            0.0",
      "text/html": "<div>\n<style scoped>\n    .dataframe tbody tr th:only-of-type {\n        vertical-align: middle;\n    }\n\n    .dataframe tbody tr th {\n        vertical-align: top;\n    }\n\n    .dataframe thead th {\n        text-align: right;\n    }\n</style>\n<table border=\"1\" class=\"dataframe\">\n  <thead>\n    <tr style=\"text-align: right;\">\n      <th></th>\n      <th>LH2_Export_terminal_emissions</th>\n    </tr>\n    <tr>\n      <th>Years</th>\n      <th></th>\n    </tr>\n  </thead>\n  <tbody>\n    <tr>\n      <th>2025</th>\n      <td>27.379789274999997</td>\n    </tr>\n    <tr>\n      <th>2026</th>\n      <td>26.01079981125</td>\n    </tr>\n    <tr>\n      <th>2027</th>\n      <td>24.641810347499998</td>\n    </tr>\n    <tr>\n      <th>2028</th>\n      <td>23.272820883749997</td>\n    </tr>\n    <tr>\n      <th>2029</th>\n      <td>21.903831419999996</td>\n    </tr>\n    <tr>\n      <th>2030</th>\n      <td>20.534841956249995</td>\n    </tr>\n    <tr>\n      <th>2031</th>\n      <td>19.165852492499997</td>\n    </tr>\n    <tr>\n      <th>2032</th>\n      <td>17.796863028749996</td>\n    </tr>\n    <tr>\n      <th>2033</th>\n      <td>16.427873564999995</td>\n    </tr>\n    <tr>\n      <th>2034</th>\n      <td>15.058884101249994</td>\n    </tr>\n    <tr>\n      <th>2035</th>\n      <td>13.689894637499995</td>\n    </tr>\n    <tr>\n      <th>2036</th>\n      <td>12.320905173749994</td>\n    </tr>\n    <tr>\n      <th>2037</th>\n      <td>10.951915709999994</td>\n    </tr>\n    <tr>\n      <th>2038</th>\n      <td>9.582926246249993</td>\n    </tr>\n    <tr>\n      <th>2039</th>\n      <td>8.213936782499992</td>\n    </tr>\n    <tr>\n      <th>2040</th>\n      <td>6.844947318749993</td>\n    </tr>\n    <tr>\n      <th>2041</th>\n      <td>5.475957854999992</td>\n    </tr>\n    <tr>\n      <th>2042</th>\n      <td>4.106968391249992</td>\n    </tr>\n    <tr>\n      <th>2043</th>\n      <td>2.7379789274999915</td>\n    </tr>\n    <tr>\n      <th>2044</th>\n      <td>1.3689894637499913</td>\n    </tr>\n    <tr>\n      <th>2045</th>\n      <td>0.0</td>\n    </tr>\n    <tr>\n      <th>2046</th>\n      <td>0.0</td>\n    </tr>\n    <tr>\n      <th>2047</th>\n      <td>0.0</td>\n    </tr>\n    <tr>\n      <th>2048</th>\n      <td>0.0</td>\n    </tr>\n    <tr>\n      <th>2049</th>\n      <td>0.0</td>\n    </tr>\n    <tr>\n      <th>2050</th>\n      <td>0.0</td>\n    </tr>\n  </tbody>\n</table>\n</div>"
     },
     "execution_count": 408,
     "metadata": {},
     "output_type": "execute_result"
    }
   ],
   "source": [
    "et_em = pd.read_csv('/Users/jakob/PycharmProjects/H2_pathways_repo/data/processed/LH2_Export_Terminal_emissions.csv', delimiter=';', decimal=',', index_col= 0)\n",
    "et_em"
   ],
   "metadata": {
    "collapsed": false,
    "pycharm": {
     "name": "#%%\n"
    }
   }
  },
  {
   "cell_type": "markdown",
   "source": [
    "## Shipping"
   ],
   "metadata": {
    "collapsed": false,
    "pycharm": {
     "name": "#%% md\n"
    }
   }
  },
  {
   "cell_type": "markdown",
   "source": [
    "Calc. emission factor for cargo/fuel"
   ],
   "metadata": {
    "collapsed": false,
    "pycharm": {
     "name": "#%% md\n"
    }
   }
  },
  {
   "cell_type": "code",
   "execution_count": 542,
   "outputs": [],
   "source": [
    "# Cost of transported hydrogen in [$/kg_h2] in year y\n",
    "LH2_Conversion_emissions = pd.read_csv(\n",
    "    \"/Users/jakob/PycharmProjects/H2_pathways_repo/data/processed/LH2_Conversion_emissions.csv\", delimiter=';',\n",
    "    decimal=',', index_col=0)\n",
    "LH2_Export_terminal_emissions = pd.read_csv(\n",
    "    \"/Users/jakob/PycharmProjects/H2_pathways_repo/data/processed/LH2_Export_terminal_emissions.csv\", delimiter=';',\n",
    "    decimal=',', index_col=0)"
   ],
   "metadata": {
    "collapsed": false,
    "pycharm": {
     "name": "#%%\n"
    }
   }
  },
  {
   "cell_type": "code",
   "execution_count": 543,
   "outputs": [],
   "source": [
    "# Emissions of transported hydrogen carrier in [g CO2eq/kg_H2] in year y\n",
    "H2_emissions = (GHG.loc['Blue hydrogen emissions [kg CO2/kg H2] - Norway', 2025:2050]).apply(pd.to_numeric) * 1000\n",
    "Con_emissions = (LH2_Conversion_emissions.loc[::]['LH2_Conversion_emissions']).apply(pd.to_numeric)\n",
    "ET_emissions = (LH2_Export_terminal_emissions.loc[::]['LH2_Export_terminal_emissions']).apply(pd.to_numeric)"
   ],
   "metadata": {
    "collapsed": false,
    "pycharm": {
     "name": "#%%\n"
    }
   }
  },
  {
   "cell_type": "code",
   "execution_count": 544,
   "outputs": [
    {
     "data": {
      "text/plain": "      LH2_cargo_emissions\n2025          7904.434911\n2026          7668.557608\n2027          7432.889311\n2028          7197.430020\n2029          6962.179736\n2030          6727.138457\n2031          6492.306184\n2032          6257.682918\n2033          6023.268657\n2034          5789.063403\n2035          5555.067154\n2036          5321.279911\n2037          5087.701675\n2038          4854.332445\n2039          4621.172220\n2040          4388.221002\n2041          4155.269783\n2042          3922.632074\n2043          3690.307874\n2044          3458.297182\n2045          3226.600000\n2046          3002.960000\n2047          2779.320000\n2048          2555.680000\n2049          2332.040000\n2050          2108.400000",
      "text/html": "<div>\n<style scoped>\n    .dataframe tbody tr th:only-of-type {\n        vertical-align: middle;\n    }\n\n    .dataframe tbody tr th {\n        vertical-align: top;\n    }\n\n    .dataframe thead th {\n        text-align: right;\n    }\n</style>\n<table border=\"1\" class=\"dataframe\">\n  <thead>\n    <tr style=\"text-align: right;\">\n      <th></th>\n      <th>LH2_cargo_emissions</th>\n    </tr>\n  </thead>\n  <tbody>\n    <tr>\n      <th>2025</th>\n      <td>7904.434911</td>\n    </tr>\n    <tr>\n      <th>2026</th>\n      <td>7668.557608</td>\n    </tr>\n    <tr>\n      <th>2027</th>\n      <td>7432.889311</td>\n    </tr>\n    <tr>\n      <th>2028</th>\n      <td>7197.430020</td>\n    </tr>\n    <tr>\n      <th>2029</th>\n      <td>6962.179736</td>\n    </tr>\n    <tr>\n      <th>2030</th>\n      <td>6727.138457</td>\n    </tr>\n    <tr>\n      <th>2031</th>\n      <td>6492.306184</td>\n    </tr>\n    <tr>\n      <th>2032</th>\n      <td>6257.682918</td>\n    </tr>\n    <tr>\n      <th>2033</th>\n      <td>6023.268657</td>\n    </tr>\n    <tr>\n      <th>2034</th>\n      <td>5789.063403</td>\n    </tr>\n    <tr>\n      <th>2035</th>\n      <td>5555.067154</td>\n    </tr>\n    <tr>\n      <th>2036</th>\n      <td>5321.279911</td>\n    </tr>\n    <tr>\n      <th>2037</th>\n      <td>5087.701675</td>\n    </tr>\n    <tr>\n      <th>2038</th>\n      <td>4854.332445</td>\n    </tr>\n    <tr>\n      <th>2039</th>\n      <td>4621.172220</td>\n    </tr>\n    <tr>\n      <th>2040</th>\n      <td>4388.221002</td>\n    </tr>\n    <tr>\n      <th>2041</th>\n      <td>4155.269783</td>\n    </tr>\n    <tr>\n      <th>2042</th>\n      <td>3922.632074</td>\n    </tr>\n    <tr>\n      <th>2043</th>\n      <td>3690.307874</td>\n    </tr>\n    <tr>\n      <th>2044</th>\n      <td>3458.297182</td>\n    </tr>\n    <tr>\n      <th>2045</th>\n      <td>3226.600000</td>\n    </tr>\n    <tr>\n      <th>2046</th>\n      <td>3002.960000</td>\n    </tr>\n    <tr>\n      <th>2047</th>\n      <td>2779.320000</td>\n    </tr>\n    <tr>\n      <th>2048</th>\n      <td>2555.680000</td>\n    </tr>\n    <tr>\n      <th>2049</th>\n      <td>2332.040000</td>\n    </tr>\n    <tr>\n      <th>2050</th>\n      <td>2108.400000</td>\n    </tr>\n  </tbody>\n</table>\n</div>"
     },
     "execution_count": 544,
     "metadata": {},
     "output_type": "execute_result"
    }
   ],
   "source": [
    "# Emission of cargo in [g CO2eq/kg_H2]\n",
    "LH2_cargo_emissions = (H2_emissions + Con_emissions + ET_emissions).to_frame('LH2_cargo_emissions')\n",
    "LH2_cargo_emissions"
   ],
   "metadata": {
    "collapsed": false,
    "pycharm": {
     "name": "#%%\n"
    }
   }
  },
  {
   "cell_type": "code",
   "execution_count": 545,
   "outputs": [],
   "source": [
    "path=r'/Users/jakob/PycharmProjects/H2_pathways_repo/data/processed'\n",
    "output_file = os.path.join(path,'LH2_cargo_emissions.csv')\n",
    "result.to_csv(output_file, sep = ';')"
   ],
   "metadata": {
    "collapsed": false,
    "pycharm": {
     "name": "#%%\n"
    }
   }
  },
  {
   "cell_type": "code",
   "execution_count": 546,
   "outputs": [
    {
     "data": {
      "text/plain": "8.333333333333333e-05"
     },
     "execution_count": 546,
     "metadata": {},
     "output_type": "execute_result"
    }
   ],
   "source": [
    "# Boil-off when shipping in [%/day] to [%/hour]\n",
    "bog_ship = float(tea_lh2.loc['Shipping - Boil off opt. [%/day]']['LH2']) / 24\n",
    "bog_ship"
   ],
   "metadata": {
    "collapsed": false,
    "pycharm": {
     "name": "#%%\n"
    }
   }
  },
  {
   "cell_type": "code",
   "execution_count": 547,
   "outputs": [
    {
     "data": {
      "text/plain": "1.1265151515151516e-06"
     },
     "execution_count": 547,
     "metadata": {},
     "output_type": "execute_result"
    }
   ],
   "source": [
    "# Fuel consumption of a ship in [kg_h2/t/km]\n",
    "f_ship = float(tea_lh2.loc['Shipping - Fuel use [kg H2/t/km]']['LH2']) / 1000\n",
    "f_ship"
   ],
   "metadata": {
    "collapsed": false,
    "pycharm": {
     "name": "#%%\n"
    }
   }
  },
  {
   "cell_type": "code",
   "execution_count": 548,
   "outputs": [
    {
     "data": {
      "text/plain": "602.403"
     },
     "execution_count": 548,
     "metadata": {},
     "output_type": "execute_result"
    }
   ],
   "source": [
    "# Distance between countries via ship in [km]\n",
    "d_sea = float(tra_d[(tra_d['Origin_Country'] == 'Norway') & (tra_d['Destination_Country'] == 'Germany')][\n",
    "                  'sea distance (km)'].values)\n",
    "d_sea"
   ],
   "metadata": {
    "collapsed": false,
    "pycharm": {
     "name": "#%%\n"
    }
   }
  },
  {
   "cell_type": "code",
   "execution_count": 549,
   "outputs": [
    {
     "data": {
      "text/plain": "30.0"
     },
     "execution_count": 549,
     "metadata": {},
     "output_type": "execute_result"
    }
   ],
   "source": [
    "# Ship speed in [km/h]\n",
    "v_ship = float(tea_lh2.loc['Shipping - Ship speed [km/h]']['LH2'])\n",
    "v_ship"
   ],
   "metadata": {
    "collapsed": false,
    "pycharm": {
     "name": "#%%\n"
    }
   }
  },
  {
   "cell_type": "code",
   "execution_count": 550,
   "outputs": [
    {
     "data": {
      "text/plain": "      LH2_cargo_emissions\n2025          7904.434911\n2026          7668.557608\n2027          7432.889311\n2028          7197.430020\n2029          6962.179736\n2030          6727.138457\n2031          6492.306184\n2032          6257.682918\n2033          6023.268657\n2034          5789.063403\n2035          5555.067154\n2036          5321.279911\n2037          5087.701675\n2038          4854.332445\n2039          4621.172220\n2040          4388.221002\n2041          4155.269783\n2042          3922.632074\n2043          3690.307874\n2044          3458.297182\n2045          3226.600000\n2046          3002.960000\n2047          2779.320000\n2048          2555.680000\n2049          2332.040000\n2050          2108.400000",
      "text/html": "<div>\n<style scoped>\n    .dataframe tbody tr th:only-of-type {\n        vertical-align: middle;\n    }\n\n    .dataframe tbody tr th {\n        vertical-align: top;\n    }\n\n    .dataframe thead th {\n        text-align: right;\n    }\n</style>\n<table border=\"1\" class=\"dataframe\">\n  <thead>\n    <tr style=\"text-align: right;\">\n      <th></th>\n      <th>LH2_cargo_emissions</th>\n    </tr>\n  </thead>\n  <tbody>\n    <tr>\n      <th>2025</th>\n      <td>7904.434911</td>\n    </tr>\n    <tr>\n      <th>2026</th>\n      <td>7668.557608</td>\n    </tr>\n    <tr>\n      <th>2027</th>\n      <td>7432.889311</td>\n    </tr>\n    <tr>\n      <th>2028</th>\n      <td>7197.430020</td>\n    </tr>\n    <tr>\n      <th>2029</th>\n      <td>6962.179736</td>\n    </tr>\n    <tr>\n      <th>2030</th>\n      <td>6727.138457</td>\n    </tr>\n    <tr>\n      <th>2031</th>\n      <td>6492.306184</td>\n    </tr>\n    <tr>\n      <th>2032</th>\n      <td>6257.682918</td>\n    </tr>\n    <tr>\n      <th>2033</th>\n      <td>6023.268657</td>\n    </tr>\n    <tr>\n      <th>2034</th>\n      <td>5789.063403</td>\n    </tr>\n    <tr>\n      <th>2035</th>\n      <td>5555.067154</td>\n    </tr>\n    <tr>\n      <th>2036</th>\n      <td>5321.279911</td>\n    </tr>\n    <tr>\n      <th>2037</th>\n      <td>5087.701675</td>\n    </tr>\n    <tr>\n      <th>2038</th>\n      <td>4854.332445</td>\n    </tr>\n    <tr>\n      <th>2039</th>\n      <td>4621.172220</td>\n    </tr>\n    <tr>\n      <th>2040</th>\n      <td>4388.221002</td>\n    </tr>\n    <tr>\n      <th>2041</th>\n      <td>4155.269783</td>\n    </tr>\n    <tr>\n      <th>2042</th>\n      <td>3922.632074</td>\n    </tr>\n    <tr>\n      <th>2043</th>\n      <td>3690.307874</td>\n    </tr>\n    <tr>\n      <th>2044</th>\n      <td>3458.297182</td>\n    </tr>\n    <tr>\n      <th>2045</th>\n      <td>3226.600000</td>\n    </tr>\n    <tr>\n      <th>2046</th>\n      <td>3002.960000</td>\n    </tr>\n    <tr>\n      <th>2047</th>\n      <td>2779.320000</td>\n    </tr>\n    <tr>\n      <th>2048</th>\n      <td>2555.680000</td>\n    </tr>\n    <tr>\n      <th>2049</th>\n      <td>2332.040000</td>\n    </tr>\n    <tr>\n      <th>2050</th>\n      <td>2108.400000</td>\n    </tr>\n  </tbody>\n</table>\n</div>"
     },
     "execution_count": 550,
     "metadata": {},
     "output_type": "execute_result"
    }
   ],
   "source": [
    "# Cost of transported hydrogen in [$/kg_h2] in year y\n",
    "LH2_Conversion_emissions = pd.read_csv(\n",
    "    \"/Users/jakob/PycharmProjects/H2_pathways_repo/data/processed/LH2_Conversion_emissions.csv\", delimiter=';',\n",
    "    decimal=',', index_col=0)\n",
    "LH2_Export_terminal_emissions = pd.read_csv(\n",
    "    \"/Users/jakob/PycharmProjects/H2_pathways_repo/data/processed/LH2_Export_terminal_emissions.csv\", delimiter=';',\n",
    "    decimal=',', index_col=0)\n",
    "# Emissions of transported hydrogen carrier in [g CO2eq/kg_H2] in year y\n",
    "H2_emissions = (GHG.loc['Blue hydrogen emissions [kg CO2/kg H2] - Norway', 2025:2050]).apply(pd.to_numeric) * 1000\n",
    "Con_emissions = (LH2_Conversion_emissions.loc[::]['LH2_Conversion_emissions']).apply(pd.to_numeric)\n",
    "ET_emissions = (LH2_Export_terminal_emissions.loc[::]['LH2_Export_terminal_emissions']).apply(pd.to_numeric)\n",
    "# Emission of cargo in [g CO2eq/kg_H2]\n",
    "LH2_cargo_emissions = (H2_emissions + Con_emissions + ET_emissions).to_frame('LH2_cargo_emissions')\n",
    "LH2_cargo_emissions"
   ],
   "metadata": {
    "collapsed": false,
    "pycharm": {
     "name": "#%%\n"
    }
   }
  },
  {
   "cell_type": "code",
   "execution_count": 551,
   "outputs": [],
   "source": [
    "d_sea = 10000"
   ],
   "metadata": {
    "collapsed": false,
    "pycharm": {
     "name": "#%%\n"
    }
   }
  },
  {
   "cell_type": "markdown",
   "source": [
    "Calc. LH2 shipping emissions"
   ],
   "metadata": {
    "collapsed": false,
    "pycharm": {
     "name": "#%% md\n"
    }
   }
  },
  {
   "cell_type": "code",
   "execution_count": 552,
   "outputs": [],
   "source": [
    "def calculate_ship_emissions():\n",
    "    result = 1/(1-(bog_ship * d_sea/v_ship) - (f_ship  * d_sea)) \\\n",
    "             + (bog_ship * d_sea/v_ship + f_ship * d_sea) * LH2_cargo_ghg\n",
    "\n",
    "    return result"
   ],
   "metadata": {
    "collapsed": false,
    "pycharm": {
     "name": "#%%\n"
    }
   }
  },
  {
   "cell_type": "code",
   "execution_count": 553,
   "outputs": [
    {
     "data": {
      "text/plain": "      LH2_Shipping_emissions\nYears                       \n2025              309.652923\n2026              300.443582\n2027              291.242401\n2028              282.049381\n2029               272.86452\n2030               263.68782\n2031              254.519281\n2032              245.358901\n2033              236.206682\n2034              227.062622\n2035              217.926723\n2036              208.798985\n2037              199.679406\n2038              190.567988\n2039              181.464729\n2040              172.369632\n2041              163.274534\n2042              154.191676\n2043              145.121059\n2044              136.062682\n2045              127.016545\n2046              118.284984\n2047              109.553423\n2048              100.821863\n2049               92.090302\n2050               83.358741",
      "text/html": "<div>\n<style scoped>\n    .dataframe tbody tr th:only-of-type {\n        vertical-align: middle;\n    }\n\n    .dataframe tbody tr th {\n        vertical-align: top;\n    }\n\n    .dataframe thead th {\n        text-align: right;\n    }\n</style>\n<table border=\"1\" class=\"dataframe\">\n  <thead>\n    <tr style=\"text-align: right;\">\n      <th></th>\n      <th>LH2_Shipping_emissions</th>\n    </tr>\n    <tr>\n      <th>Years</th>\n      <th></th>\n    </tr>\n  </thead>\n  <tbody>\n    <tr>\n      <th>2025</th>\n      <td>309.652923</td>\n    </tr>\n    <tr>\n      <th>2026</th>\n      <td>300.443582</td>\n    </tr>\n    <tr>\n      <th>2027</th>\n      <td>291.242401</td>\n    </tr>\n    <tr>\n      <th>2028</th>\n      <td>282.049381</td>\n    </tr>\n    <tr>\n      <th>2029</th>\n      <td>272.86452</td>\n    </tr>\n    <tr>\n      <th>2030</th>\n      <td>263.68782</td>\n    </tr>\n    <tr>\n      <th>2031</th>\n      <td>254.519281</td>\n    </tr>\n    <tr>\n      <th>2032</th>\n      <td>245.358901</td>\n    </tr>\n    <tr>\n      <th>2033</th>\n      <td>236.206682</td>\n    </tr>\n    <tr>\n      <th>2034</th>\n      <td>227.062622</td>\n    </tr>\n    <tr>\n      <th>2035</th>\n      <td>217.926723</td>\n    </tr>\n    <tr>\n      <th>2036</th>\n      <td>208.798985</td>\n    </tr>\n    <tr>\n      <th>2037</th>\n      <td>199.679406</td>\n    </tr>\n    <tr>\n      <th>2038</th>\n      <td>190.567988</td>\n    </tr>\n    <tr>\n      <th>2039</th>\n      <td>181.464729</td>\n    </tr>\n    <tr>\n      <th>2040</th>\n      <td>172.369632</td>\n    </tr>\n    <tr>\n      <th>2041</th>\n      <td>163.274534</td>\n    </tr>\n    <tr>\n      <th>2042</th>\n      <td>154.191676</td>\n    </tr>\n    <tr>\n      <th>2043</th>\n      <td>145.121059</td>\n    </tr>\n    <tr>\n      <th>2044</th>\n      <td>136.062682</td>\n    </tr>\n    <tr>\n      <th>2045</th>\n      <td>127.016545</td>\n    </tr>\n    <tr>\n      <th>2046</th>\n      <td>118.284984</td>\n    </tr>\n    <tr>\n      <th>2047</th>\n      <td>109.553423</td>\n    </tr>\n    <tr>\n      <th>2048</th>\n      <td>100.821863</td>\n    </tr>\n    <tr>\n      <th>2049</th>\n      <td>92.090302</td>\n    </tr>\n    <tr>\n      <th>2050</th>\n      <td>83.358741</td>\n    </tr>\n  </tbody>\n</table>\n</div>"
     },
     "execution_count": 553,
     "metadata": {},
     "output_type": "execute_result"
    }
   ],
   "source": [
    "# Calculation of shipping emissions [g CO2eq/kg_h2] from 2025 to 2050.\n",
    "years = np.arange(2025, 2051)\n",
    "result = pd.DataFrame(index=years, columns=['LH2_Shipping_emissions'])\n",
    "result.index.name = 'Years'\n",
    "\n",
    "for year in years:\n",
    "\n",
    "    LH2_cargo_ghg = float(LH2_cargo_emissions.loc[year]['LH2_cargo_emissions'])\n",
    "\n",
    "    # calculate emissions of specific year\n",
    "    result.LH2_Shipping_emissions.loc[year] = calculate_ship_emissions()\n",
    "\n",
    "result"
   ],
   "metadata": {
    "collapsed": false,
    "pycharm": {
     "name": "#%%\n"
    }
   }
  },
  {
   "cell_type": "code",
   "execution_count": 525,
   "outputs": [],
   "source": [
    "path=r'/Users/jakob/PycharmProjects/H2_pathways_repo/data/processed'\n",
    "output_file = os.path.join(path,'LH2_Shipping_emissions.csv')\n",
    "result.to_csv(output_file, sep = ';')"
   ],
   "metadata": {
    "collapsed": false,
    "pycharm": {
     "name": "#%%\n"
    }
   }
  },
  {
   "cell_type": "markdown",
   "source": [
    "## Import terminal\n"
   ],
   "metadata": {
    "collapsed": false,
    "pycharm": {
     "name": "#%% md\n"
    }
   }
  },
  {
   "cell_type": "code",
   "execution_count": 421,
   "outputs": [
    {
     "data": {
      "text/plain": "0.2"
     },
     "execution_count": 421,
     "metadata": {},
     "output_type": "execute_result"
    }
   ],
   "source": [
    "# Electricity consumption for the import terminal [kWh/kg_h2]\n",
    "el_it = float(tea_lh2.loc['Import Terminal - Electricity use [kWh/kg H2]']['LH2'])\n",
    "el_it"
   ],
   "metadata": {
    "collapsed": false,
    "pycharm": {
     "name": "#%%\n"
    }
   }
  },
  {
   "cell_type": "code",
   "execution_count": 422,
   "outputs": [
    {
     "data": {
      "text/plain": "0.1"
     },
     "execution_count": 422,
     "metadata": {},
     "output_type": "execute_result"
    }
   ],
   "source": [
    "# Electricity consumption to reliquefy BOG [kWh/kg_h2]\n",
    "el_reliq = float(tea_lh2.loc['Import Terminal - Energy use to reliquefy opt. [kWh/kg H2/day]']['LH2'])\n",
    "el_reliq"
   ],
   "metadata": {
    "collapsed": false,
    "pycharm": {
     "name": "#%%\n"
    }
   }
  },
  {
   "cell_type": "code",
   "execution_count": 423,
   "outputs": [
    {
     "data": {
      "text/plain": "7.0"
     },
     "execution_count": 423,
     "metadata": {},
     "output_type": "execute_result"
    }
   ],
   "source": [
    "# Average storage time in the import terminal tanks in days\n",
    "t_it = float(tea_lh2.loc['Import Terminal - Storage length per load [days]']['LH2'])\n",
    "t_it"
   ],
   "metadata": {
    "collapsed": false,
    "pycharm": {
     "name": "#%%\n"
    }
   }
  },
  {
   "cell_type": "markdown",
   "source": [],
   "metadata": {
    "collapsed": false,
    "pycharm": {
     "name": "#%% md\n"
    }
   }
  },
  {
   "cell_type": "code",
   "execution_count": 424,
   "outputs": [
    {
     "data": {
      "text/plain": "      LH2_Import_terminal_emissions\nYears                              \n2025                         292.28\n2026                          274.9\n2027                         257.52\n2028                         240.14\n2029                         222.76\n2030                         205.38\n2031                       191.8836\n2032                       178.3872\n2033                       164.8908\n2034                       151.3944\n2035                        137.898\n2036                       124.4016\n2037                       110.9052\n2038                        97.4088\n2039                        83.9124\n2040                         70.416\n2041                        56.3328\n2042                        42.2496\n2043                        28.1664\n2044                        14.0832\n2045                            0.0\n2046                            0.0\n2047                            0.0\n2048                            0.0\n2049                            0.0\n2050                            0.0",
      "text/html": "<div>\n<style scoped>\n    .dataframe tbody tr th:only-of-type {\n        vertical-align: middle;\n    }\n\n    .dataframe tbody tr th {\n        vertical-align: top;\n    }\n\n    .dataframe thead th {\n        text-align: right;\n    }\n</style>\n<table border=\"1\" class=\"dataframe\">\n  <thead>\n    <tr style=\"text-align: right;\">\n      <th></th>\n      <th>LH2_Import_terminal_emissions</th>\n    </tr>\n    <tr>\n      <th>Years</th>\n      <th></th>\n    </tr>\n  </thead>\n  <tbody>\n    <tr>\n      <th>2025</th>\n      <td>292.28</td>\n    </tr>\n    <tr>\n      <th>2026</th>\n      <td>274.9</td>\n    </tr>\n    <tr>\n      <th>2027</th>\n      <td>257.52</td>\n    </tr>\n    <tr>\n      <th>2028</th>\n      <td>240.14</td>\n    </tr>\n    <tr>\n      <th>2029</th>\n      <td>222.76</td>\n    </tr>\n    <tr>\n      <th>2030</th>\n      <td>205.38</td>\n    </tr>\n    <tr>\n      <th>2031</th>\n      <td>191.8836</td>\n    </tr>\n    <tr>\n      <th>2032</th>\n      <td>178.3872</td>\n    </tr>\n    <tr>\n      <th>2033</th>\n      <td>164.8908</td>\n    </tr>\n    <tr>\n      <th>2034</th>\n      <td>151.3944</td>\n    </tr>\n    <tr>\n      <th>2035</th>\n      <td>137.898</td>\n    </tr>\n    <tr>\n      <th>2036</th>\n      <td>124.4016</td>\n    </tr>\n    <tr>\n      <th>2037</th>\n      <td>110.9052</td>\n    </tr>\n    <tr>\n      <th>2038</th>\n      <td>97.4088</td>\n    </tr>\n    <tr>\n      <th>2039</th>\n      <td>83.9124</td>\n    </tr>\n    <tr>\n      <th>2040</th>\n      <td>70.416</td>\n    </tr>\n    <tr>\n      <th>2041</th>\n      <td>56.3328</td>\n    </tr>\n    <tr>\n      <th>2042</th>\n      <td>42.2496</td>\n    </tr>\n    <tr>\n      <th>2043</th>\n      <td>28.1664</td>\n    </tr>\n    <tr>\n      <th>2044</th>\n      <td>14.0832</td>\n    </tr>\n    <tr>\n      <th>2045</th>\n      <td>0.0</td>\n    </tr>\n    <tr>\n      <th>2046</th>\n      <td>0.0</td>\n    </tr>\n    <tr>\n      <th>2047</th>\n      <td>0.0</td>\n    </tr>\n    <tr>\n      <th>2048</th>\n      <td>0.0</td>\n    </tr>\n    <tr>\n      <th>2049</th>\n      <td>0.0</td>\n    </tr>\n    <tr>\n      <th>2050</th>\n      <td>0.0</td>\n    </tr>\n  </tbody>\n</table>\n</div>"
     },
     "execution_count": 424,
     "metadata": {},
     "output_type": "execute_result"
    }
   ],
   "source": [
    "def IT_emissions():\n",
    "    result = (el_it + el_reliq * t_it) * EF_y_n\n",
    "    return result\n",
    "\n",
    "\n",
    "# Calc. liquefaction emissions over time [g CO2eq/kg H2]\n",
    "years = np.arange(2025, 2051)\n",
    "result = pd.DataFrame(index=years, columns=['LH2_Import_terminal_emissions'])\n",
    "result.index.name = 'Years'\n",
    "\n",
    "for year in years:\n",
    "    EF_y_n = float(GHG.loc['GHG intensity of electricity generation [g CO2eq/kWh] - Germany'][year])\n",
    "\n",
    "    result.LH2_Import_terminal_emissions.loc[year] = IT_emissions()\n",
    "\n",
    "result"
   ],
   "metadata": {
    "collapsed": false,
    "pycharm": {
     "name": "#%%\n"
    }
   }
  },
  {
   "cell_type": "code",
   "execution_count": 425,
   "outputs": [],
   "source": [
    "path = r'/Users/jakob/PycharmProjects/H2_pathways_repo/data/processed'\n",
    "output_file = os.path.join(path, 'LH2_Import_terminal_emissions.csv')\n",
    "result.to_csv(output_file, sep=';')"
   ],
   "metadata": {
    "collapsed": false,
    "pycharm": {
     "name": "#%%\n"
    }
   }
  },
  {
   "cell_type": "markdown",
   "source": [
    "## Reconversion\n"
   ],
   "metadata": {
    "collapsed": false,
    "pycharm": {
     "name": "#%% md\n"
    }
   }
  },
  {
   "cell_type": "code",
   "execution_count": 426,
   "outputs": [],
   "source": [
    "def calculate_recon_emissions():\n",
    "    result = el_recon_y * EF_y_n\n",
    "    return result"
   ],
   "metadata": {
    "collapsed": false,
    "pycharm": {
     "name": "#%%\n"
    }
   }
  },
  {
   "cell_type": "code",
   "execution_count": 427,
   "outputs": [],
   "source": [
    "years = np.arange(2025, 2051)\n",
    "result = pd.DataFrame(index=years, columns=['LH2_Reconversion_emissions'])\n",
    "result.index.name = 'Years'\n"
   ],
   "metadata": {
    "collapsed": false,
    "pycharm": {
     "name": "#%%\n"
    }
   }
  },
  {
   "cell_type": "code",
   "execution_count": 428,
   "outputs": [
    {
     "data": {
      "text/plain": "      LH2_Reconversion_emissions\nYears                           \n2025                  227.328889\n2026                  207.702222\n2027                     188.848\n2028                  170.766222\n2029                  153.456889\n2030                      136.92\n2031                   123.65832\n2032                   110.99648\n2033                    98.93448\n2034                    87.47232\n2035                       76.61\n2036                    66.34752\n2037                    56.68488\n2038                    47.62208\n2039                    39.15912\n2040                      31.296\n2041                    23.78496\n2042                    16.89984\n2043                    10.64064\n2044                     5.00736\n2045                         0.0\n2046                         0.0\n2047                         0.0\n2048                         0.0\n2049                         0.0\n2050                         0.0",
      "text/html": "<div>\n<style scoped>\n    .dataframe tbody tr th:only-of-type {\n        vertical-align: middle;\n    }\n\n    .dataframe tbody tr th {\n        vertical-align: top;\n    }\n\n    .dataframe thead th {\n        text-align: right;\n    }\n</style>\n<table border=\"1\" class=\"dataframe\">\n  <thead>\n    <tr style=\"text-align: right;\">\n      <th></th>\n      <th>LH2_Reconversion_emissions</th>\n    </tr>\n    <tr>\n      <th>Years</th>\n      <th></th>\n    </tr>\n  </thead>\n  <tbody>\n    <tr>\n      <th>2025</th>\n      <td>227.328889</td>\n    </tr>\n    <tr>\n      <th>2026</th>\n      <td>207.702222</td>\n    </tr>\n    <tr>\n      <th>2027</th>\n      <td>188.848</td>\n    </tr>\n    <tr>\n      <th>2028</th>\n      <td>170.766222</td>\n    </tr>\n    <tr>\n      <th>2029</th>\n      <td>153.456889</td>\n    </tr>\n    <tr>\n      <th>2030</th>\n      <td>136.92</td>\n    </tr>\n    <tr>\n      <th>2031</th>\n      <td>123.65832</td>\n    </tr>\n    <tr>\n      <th>2032</th>\n      <td>110.99648</td>\n    </tr>\n    <tr>\n      <th>2033</th>\n      <td>98.93448</td>\n    </tr>\n    <tr>\n      <th>2034</th>\n      <td>87.47232</td>\n    </tr>\n    <tr>\n      <th>2035</th>\n      <td>76.61</td>\n    </tr>\n    <tr>\n      <th>2036</th>\n      <td>66.34752</td>\n    </tr>\n    <tr>\n      <th>2037</th>\n      <td>56.68488</td>\n    </tr>\n    <tr>\n      <th>2038</th>\n      <td>47.62208</td>\n    </tr>\n    <tr>\n      <th>2039</th>\n      <td>39.15912</td>\n    </tr>\n    <tr>\n      <th>2040</th>\n      <td>31.296</td>\n    </tr>\n    <tr>\n      <th>2041</th>\n      <td>23.78496</td>\n    </tr>\n    <tr>\n      <th>2042</th>\n      <td>16.89984</td>\n    </tr>\n    <tr>\n      <th>2043</th>\n      <td>10.64064</td>\n    </tr>\n    <tr>\n      <th>2044</th>\n      <td>5.00736</td>\n    </tr>\n    <tr>\n      <th>2045</th>\n      <td>0.0</td>\n    </tr>\n    <tr>\n      <th>2046</th>\n      <td>0.0</td>\n    </tr>\n    <tr>\n      <th>2047</th>\n      <td>0.0</td>\n    </tr>\n    <tr>\n      <th>2048</th>\n      <td>0.0</td>\n    </tr>\n    <tr>\n      <th>2049</th>\n      <td>0.0</td>\n    </tr>\n    <tr>\n      <th>2050</th>\n      <td>0.0</td>\n    </tr>\n  </tbody>\n</table>\n</div>"
     },
     "execution_count": 428,
     "metadata": {},
     "output_type": "execute_result"
    }
   ],
   "source": [
    "for year in years:\n",
    "\n",
    "    el_recon_y = float(tea_lh2.loc['Reconversion - Electricity consumption opt. [kWh/kg H2]'][year])\n",
    "    EF_y_n = float(GHG.loc['GHG intensity of electricity generation [g CO2eq/kWh] - Germany'][year])\n",
    "\n",
    "    # calculate emissions of specific year\n",
    "    result.LH2_Reconversion_emissions.loc[year] = calculate_recon_emissions()\n",
    "result"
   ],
   "metadata": {
    "collapsed": false,
    "pycharm": {
     "name": "#%%\n"
    }
   }
  },
  {
   "cell_type": "code",
   "execution_count": 429,
   "outputs": [],
   "source": [
    "path = r'/Users/jakob/PycharmProjects/H2_pathways_repo/data/processed'\n",
    "output_file = os.path.join(path, 'LH2_Reconversion_emissions.csv')\n",
    "result.to_csv(output_file, sep=';')"
   ],
   "metadata": {
    "collapsed": false,
    "pycharm": {
     "name": "#%%\n"
    }
   }
  },
  {
   "cell_type": "markdown",
   "source": [
    "## Total LH2 transport emissions"
   ],
   "metadata": {
    "collapsed": false,
    "pycharm": {
     "name": "#%% md\n"
    }
   }
  },
  {
   "cell_type": "code",
   "execution_count": 683,
   "outputs": [],
   "source": [
    "con_em = pd.read_csv('/Users/jakob/PycharmProjects/H2_pathways_repo/data/processed/LH2_Conversion_emissions.csv', delimiter=';', decimal=',', index_col= 0)\n",
    "et_em = pd.read_csv('/Users/jakob/PycharmProjects/H2_pathways_repo/data/processed/LH2_Export_terminal_emissions.csv', delimiter=';', decimal=',', index_col= 0)\n",
    "ship_em = pd.read_csv('/Users/jakob/PycharmProjects/H2_pathways_repo/data/processed/LH2_Shipping_emissions.csv', delimiter=';', decimal=',', index_col= 0)\n",
    "it_em = pd.read_csv('/Users/jakob/PycharmProjects/H2_pathways_repo/data/processed/LH2_Import_terminal_emissions.csv', delimiter=';', decimal=',', index_col= 0)\n",
    "recon_em = pd.read_csv('/Users/jakob/PycharmProjects/H2_pathways_repo/data/processed/LH2_Reconversion_emissions.csv', delimiter=';', decimal=',', index_col= 0)"
   ],
   "metadata": {
    "collapsed": false,
    "pycharm": {
     "name": "#%%\n"
    }
   }
  },
  {
   "cell_type": "code",
   "execution_count": 684,
   "outputs": [],
   "source": [
    "years = np.arange(2025, 2051)\n",
    "result = pd.DataFrame(index=years, columns=['LH2_transport_emissions'])\n",
    "result.index.name = 'Years'"
   ],
   "metadata": {
    "collapsed": false,
    "pycharm": {
     "name": "#%%\n"
    }
   }
  },
  {
   "cell_type": "code",
   "execution_count": 685,
   "outputs": [],
   "source": [
    "# [g CO2eq/kg H2]\n",
    "def calculate_LH2_transport_emissions():\n",
    "    result = CE + EE + SE + IE + RE\n",
    "\n",
    "    return result"
   ],
   "metadata": {
    "collapsed": false,
    "pycharm": {
     "name": "#%%\n"
    }
   }
  },
  {
   "cell_type": "code",
   "execution_count": 686,
   "outputs": [
    {
     "data": {
      "text/plain": "      LH2_transport_emissions\nYears                        \n2025              3501.874504\n2026              3369.800812\n2027              3238.781964\n2028               3108.81796\n2029                2979.9088\n2030              2852.054484\n2031              2731.641377\n2032               2612.11051\n2033              2493.461883\n2034              2375.695495\n2035              2258.811347\n2036              2142.809439\n2037               2027.68977\n2038              1913.452341\n2039              1800.097152\n2040              1687.624203\n2041              1574.916534\n2042              1463.258384\n2043              1352.649754\n2044              1243.090644\n2045              1134.581053\n2046              1056.048532\n2047               977.516011\n2048                898.98349\n2049               820.450969\n2050               741.918448",
      "text/html": "<div>\n<style scoped>\n    .dataframe tbody tr th:only-of-type {\n        vertical-align: middle;\n    }\n\n    .dataframe tbody tr th {\n        vertical-align: top;\n    }\n\n    .dataframe thead th {\n        text-align: right;\n    }\n</style>\n<table border=\"1\" class=\"dataframe\">\n  <thead>\n    <tr style=\"text-align: right;\">\n      <th></th>\n      <th>LH2_transport_emissions</th>\n    </tr>\n    <tr>\n      <th>Years</th>\n      <th></th>\n    </tr>\n  </thead>\n  <tbody>\n    <tr>\n      <th>2025</th>\n      <td>3501.874504</td>\n    </tr>\n    <tr>\n      <th>2026</th>\n      <td>3369.800812</td>\n    </tr>\n    <tr>\n      <th>2027</th>\n      <td>3238.781964</td>\n    </tr>\n    <tr>\n      <th>2028</th>\n      <td>3108.81796</td>\n    </tr>\n    <tr>\n      <th>2029</th>\n      <td>2979.9088</td>\n    </tr>\n    <tr>\n      <th>2030</th>\n      <td>2852.054484</td>\n    </tr>\n    <tr>\n      <th>2031</th>\n      <td>2731.641377</td>\n    </tr>\n    <tr>\n      <th>2032</th>\n      <td>2612.11051</td>\n    </tr>\n    <tr>\n      <th>2033</th>\n      <td>2493.461883</td>\n    </tr>\n    <tr>\n      <th>2034</th>\n      <td>2375.695495</td>\n    </tr>\n    <tr>\n      <th>2035</th>\n      <td>2258.811347</td>\n    </tr>\n    <tr>\n      <th>2036</th>\n      <td>2142.809439</td>\n    </tr>\n    <tr>\n      <th>2037</th>\n      <td>2027.68977</td>\n    </tr>\n    <tr>\n      <th>2038</th>\n      <td>1913.452341</td>\n    </tr>\n    <tr>\n      <th>2039</th>\n      <td>1800.097152</td>\n    </tr>\n    <tr>\n      <th>2040</th>\n      <td>1687.624203</td>\n    </tr>\n    <tr>\n      <th>2041</th>\n      <td>1574.916534</td>\n    </tr>\n    <tr>\n      <th>2042</th>\n      <td>1463.258384</td>\n    </tr>\n    <tr>\n      <th>2043</th>\n      <td>1352.649754</td>\n    </tr>\n    <tr>\n      <th>2044</th>\n      <td>1243.090644</td>\n    </tr>\n    <tr>\n      <th>2045</th>\n      <td>1134.581053</td>\n    </tr>\n    <tr>\n      <th>2046</th>\n      <td>1056.048532</td>\n    </tr>\n    <tr>\n      <th>2047</th>\n      <td>977.516011</td>\n    </tr>\n    <tr>\n      <th>2048</th>\n      <td>898.98349</td>\n    </tr>\n    <tr>\n      <th>2049</th>\n      <td>820.450969</td>\n    </tr>\n    <tr>\n      <th>2050</th>\n      <td>741.918448</td>\n    </tr>\n  </tbody>\n</table>\n</div>"
     },
     "execution_count": 686,
     "metadata": {},
     "output_type": "execute_result"
    }
   ],
   "source": [
    "for year in years:\n",
    "    # get all emissions\n",
    "    CE = float(con_em.loc[year]['LH2_Conversion_emissions'])\n",
    "    EE = float(et_em.loc[year]['LH2_Export_terminal_emissions'])\n",
    "    SE = float(ship_em.loc[year]['LH2_Shipping_emissions'])\n",
    "    IE = float(it_em.loc[year]['LH2_Import_terminal_emissions'])\n",
    "    RE = float(recon_em.loc[year]['LH2_Reconversion_emissions'])\n",
    "    # calculate costs of specific year\n",
    "    result.LH2_transport_emissions.loc[year] = calculate_LH2_transport_emissions()\n",
    "\n",
    "result"
   ],
   "metadata": {
    "collapsed": false,
    "pycharm": {
     "name": "#%%\n"
    }
   }
  },
  {
   "cell_type": "code",
   "execution_count": 434,
   "outputs": [
    {
     "data": {
      "text/plain": "<Figure size 720x432 with 1 Axes>",
      "image/png": "[encoded data removed]"
     },
     "metadata": {
      "needs_background": "light"
     },
     "output_type": "display_data"
    }
   ],
   "source": [
    "# Emission breakdown for LH2 seaborne transport\n",
    "fig, ax = plt.subplots(figsize=(10,6))\n",
    "plt.grid(True, axis = 'y')\n",
    "ax.set_axisbelow(True)\n",
    "x = np.arange(2025, 2051, step=5)\n",
    "CE = (con_em.loc[::5]['LH2_Conversion_emissions']).apply(pd.to_numeric)\n",
    "EE = (et_em.loc[::5]['LH2_Export_terminal_emissions']).apply(pd.to_numeric)\n",
    "SE = (ship_em.loc[::5]['LH2_Shipping_emissions']).apply(pd.to_numeric)\n",
    "IE = (it_em.loc[::5]['LH2_Import_terminal_emissions']).apply(pd.to_numeric)\n",
    "RE = (recon_em.loc[::5]['LH2_Reconversion_emissions']).apply(pd.to_numeric)\n",
    "width = 2       # the width of the bars: can also be len(x) sequence\n",
    "\n",
    "RE_plt = plt.bar(x,RE, width, label='Regasification emissions', bottom= CE + EE + SE + IE)\n",
    "IE_plt = plt.bar(x,IE, width, label='Import terminal emissions', bottom= CE + EE + SE)\n",
    "SE_plt = plt.bar(x,SE, width, label='Shipping emissions', bottom= CE + EE)\n",
    "EE_plt = plt.bar(x,EE, width, label='Export terminal emissions', bottom= CE)\n",
    "CE_plt = plt.bar(x,CE, width, label='Liquefaction emissions')\n",
    "\n",
    "plt.title('Emission breakdown for LH2 shipping', fontweight='bold')\n",
    "plt.legend(loc='upper right')\n",
    "plt.ylabel('Transport emissions [g CO2eq/kg H2]')\n",
    "plt.xlabel('Years')\n",
    "plt.show()"
   ],
   "metadata": {
    "collapsed": false,
    "pycharm": {
     "name": "#%%\n"
    }
   }
  },
  {
   "cell_type": "markdown",
   "source": [
    "@ 10.000 km shipping distance. Large contributers to total emissions are emissions factors for grid electricity in import/exporting countries (assumed zero from 2045)."
   ],
   "metadata": {
    "collapsed": false,
    "pycharm": {
     "name": "#%% md\n"
    }
   }
  },
  {
   "cell_type": "markdown",
   "source": [
    "# NH3 transport"
   ],
   "metadata": {
    "collapsed": false,
    "pycharm": {
     "name": "#%% md\n"
    }
   }
  },
  {
   "cell_type": "code",
   "execution_count": 614,
   "outputs": [
    {
     "data": {
      "text/plain": "                                                                                                  Ref  \\\nProperties                                                                                              \nProperties - Gas density [kg/m3]                                                                  NaN   \nProperties - LHV [MJ/kg] []                                                                  BOG 2020   \nProperties - LHV [kWh/kg]                           https://www.iea-amf.org/content/fuel_informati...   \nProperties - LHV [kWh/m3]                            https://www.rechargenews.com/energy-transitio...   \nProperties - Boiling point at 1 Bar [°C]                                                          NaN   \n...                                                                                               ...   \nReconversion - Efficiency [% LHV]                                                          IRENA 2022   \nReconversion - Electricity consumption opt. [kW...                                         IRENA 2022   \nReconversion - Electricity consumption pess. [k...                                         IRENA 2022   \nReconversion - Heat consumption opt. [kWh/kg H2]                                           IRENA 2022   \nReconversion - Heat consumption pess. [kWh/kg H2]                                          IRENA 2022   \n\n                                                      NH3   2020    2021  \\\nProperties                                                                 \nProperties - Gas density [kg/m3]                    682.8    NaN     NaN   \nProperties - LHV [MJ/kg] []                          18.6    NaN     NaN   \nProperties - LHV [kWh/kg]                            5.17    NaN     NaN   \nProperties - LHV [kWh/m3]                            3730    NaN     NaN   \nProperties - Boiling point at 1 Bar [°C]              -33    NaN     NaN   \n...                                                   ...    ...     ...   \nReconversion - Efficiency [% LHV]                     NaN   0.98   0.980   \nReconversion - Electricity consumption opt. [kW...    NaN   2.75   2.675   \nReconversion - Electricity consumption pess. [k...    NaN   2.75   2.675   \nReconversion - Heat consumption opt. [kWh/kg H2]      NaN  14.30  13.990   \nReconversion - Heat consumption pess. [kWh/kg H2]     NaN  19.60  19.320   \n\n                                                     2022    2023   2024  \\\nProperties                                                                 \nProperties - Gas density [kg/m3]                      NaN     NaN    NaN   \nProperties - LHV [MJ/kg] []                           NaN     NaN    NaN   \nProperties - LHV [kWh/kg]                             NaN     NaN    NaN   \nProperties - LHV [kWh/m3]                             NaN     NaN    NaN   \nProperties - Boiling point at 1 Bar [°C]              NaN     NaN    NaN   \n...                                                   ...     ...    ...   \nReconversion - Efficiency [% LHV]                    0.98   0.980   0.98   \nReconversion - Electricity consumption opt. [kW...    2.6   2.525   2.45   \nReconversion - Electricity consumption pess. [k...    2.6   2.525   2.45   \nReconversion - Heat consumption opt. [kWh/kg H2]    13.68  13.370  13.06   \nReconversion - Heat consumption pess. [kWh/kg H2]   19.04  18.760  18.48   \n\n                                                      2025   2026    2027  \\\nProperties                                                                  \nProperties - Gas density [kg/m3]                       NaN    NaN     NaN   \nProperties - LHV [MJ/kg] []                            NaN    NaN     NaN   \nProperties - LHV [kWh/kg]                              NaN    NaN     NaN   \nProperties - LHV [kWh/m3]                              NaN    NaN     NaN   \nProperties - Boiling point at 1 Bar [°C]               NaN    NaN     NaN   \n...                                                    ...    ...     ...   \nReconversion - Efficiency [% LHV]                    0.980   0.98   0.980   \nReconversion - Electricity consumption opt. [kW...   2.375   2.30   2.225   \nReconversion - Electricity consumption pess. [k...   2.375   2.30   2.225   \nReconversion - Heat consumption opt. [kWh/kg H2]    12.750  12.44  12.130   \nReconversion - Heat consumption pess. [kWh/kg H2]   18.200  17.92  17.640   \n\n                                                    ...   2041   2042   2043  \\\nProperties                                          ...                        \nProperties - Gas density [kg/m3]                    ...    NaN    NaN    NaN   \nProperties - LHV [MJ/kg] []                         ...    NaN    NaN    NaN   \nProperties - LHV [kWh/kg]                           ...    NaN    NaN    NaN   \nProperties - LHV [kWh/m3]                           ...    NaN    NaN    NaN   \nProperties - Boiling point at 1 Bar [°C]            ...    NaN    NaN    NaN   \n...                                                 ...    ...    ...    ...   \nReconversion - Efficiency [% LHV]                   ...   0.98   0.98   0.98   \nReconversion - Electricity consumption opt. [kW...  ...   1.20   1.15   1.10   \nReconversion - Electricity consumption pess. [k...  ...   1.20   1.15   1.10   \nReconversion - Heat consumption opt. [kWh/kg H2]    ...   7.79   7.48   7.17   \nReconversion - Heat consumption pess. [kWh/kg H2]   ...  13.72  13.44  13.16   \n\n                                                     2044   2045   2046  \\\nProperties                                                                \nProperties - Gas density [kg/m3]                      NaN    NaN    NaN   \nProperties - LHV [MJ/kg] []                           NaN    NaN    NaN   \nProperties - LHV [kWh/kg]                             NaN    NaN    NaN   \nProperties - LHV [kWh/m3]                             NaN    NaN    NaN   \nProperties - Boiling point at 1 Bar [°C]              NaN    NaN    NaN   \n...                                                   ...    ...    ...   \nReconversion - Efficiency [% LHV]                    0.98   0.98   0.98   \nReconversion - Electricity consumption opt. [kW...   1.05   1.00   0.95   \nReconversion - Electricity consumption pess. [k...   1.05   1.00   0.95   \nReconversion - Heat consumption opt. [kWh/kg H2]     6.86   6.55   6.24   \nReconversion - Heat consumption pess. [kWh/kg H2]   12.88  12.60  12.32   \n\n                                                     2047   2048   2049  2050  \nProperties                                                                     \nProperties - Gas density [kg/m3]                      NaN    NaN    NaN   NaN  \nProperties - LHV [MJ/kg] []                           NaN    NaN    NaN   NaN  \nProperties - LHV [kWh/kg]                             NaN    NaN    NaN   NaN  \nProperties - LHV [kWh/m3]                             NaN    NaN    NaN   NaN  \nProperties - Boiling point at 1 Bar [°C]              NaN    NaN    NaN   NaN  \n...                                                   ...    ...    ...   ...  \nReconversion - Efficiency [% LHV]                    0.98   0.98   0.98  0.98  \nReconversion - Electricity consumption opt. [kW...   0.90   0.85   0.80  0.75  \nReconversion - Electricity consumption pess. [k...   0.90   0.85   0.80  0.75  \nReconversion - Heat consumption opt. [kWh/kg H2]     5.93   5.62   5.31     5  \nReconversion - Heat consumption pess. [kWh/kg H2]   12.04  11.76  11.48  11.2  \n\n[108 rows x 33 columns]",
      "text/html": "<div>\n<style scoped>\n    .dataframe tbody tr th:only-of-type {\n        vertical-align: middle;\n    }\n\n    .dataframe tbody tr th {\n        vertical-align: top;\n    }\n\n    .dataframe thead th {\n        text-align: right;\n    }\n</style>\n<table border=\"1\" class=\"dataframe\">\n  <thead>\n    <tr style=\"text-align: right;\">\n      <th></th>\n      <th>Ref</th>\n      <th>NH3</th>\n      <th>2020</th>\n      <th>2021</th>\n      <th>2022</th>\n      <th>2023</th>\n      <th>2024</th>\n      <th>2025</th>\n      <th>2026</th>\n      <th>2027</th>\n      <th>...</th>\n      <th>2041</th>\n      <th>2042</th>\n      <th>2043</th>\n      <th>2044</th>\n      <th>2045</th>\n      <th>2046</th>\n      <th>2047</th>\n      <th>2048</th>\n      <th>2049</th>\n      <th>2050</th>\n    </tr>\n    <tr>\n      <th>Properties</th>\n      <th></th>\n      <th></th>\n      <th></th>\n      <th></th>\n      <th></th>\n      <th></th>\n      <th></th>\n      <th></th>\n      <th></th>\n      <th></th>\n      <th></th>\n      <th></th>\n      <th></th>\n      <th></th>\n      <th></th>\n      <th></th>\n      <th></th>\n      <th></th>\n      <th></th>\n      <th></th>\n      <th></th>\n    </tr>\n  </thead>\n  <tbody>\n    <tr>\n      <th>Properties - Gas density [kg/m3]</th>\n      <td>NaN</td>\n      <td>682.8</td>\n      <td>NaN</td>\n      <td>NaN</td>\n      <td>NaN</td>\n      <td>NaN</td>\n      <td>NaN</td>\n      <td>NaN</td>\n      <td>NaN</td>\n      <td>NaN</td>\n      <td>...</td>\n      <td>NaN</td>\n      <td>NaN</td>\n      <td>NaN</td>\n      <td>NaN</td>\n      <td>NaN</td>\n      <td>NaN</td>\n      <td>NaN</td>\n      <td>NaN</td>\n      <td>NaN</td>\n      <td>NaN</td>\n    </tr>\n    <tr>\n      <th>Properties - LHV [MJ/kg] []</th>\n      <td>BOG 2020</td>\n      <td>18.6</td>\n      <td>NaN</td>\n      <td>NaN</td>\n      <td>NaN</td>\n      <td>NaN</td>\n      <td>NaN</td>\n      <td>NaN</td>\n      <td>NaN</td>\n      <td>NaN</td>\n      <td>...</td>\n      <td>NaN</td>\n      <td>NaN</td>\n      <td>NaN</td>\n      <td>NaN</td>\n      <td>NaN</td>\n      <td>NaN</td>\n      <td>NaN</td>\n      <td>NaN</td>\n      <td>NaN</td>\n      <td>NaN</td>\n    </tr>\n    <tr>\n      <th>Properties - LHV [kWh/kg]</th>\n      <td>https://www.iea-amf.org/content/fuel_informati...</td>\n      <td>5.17</td>\n      <td>NaN</td>\n      <td>NaN</td>\n      <td>NaN</td>\n      <td>NaN</td>\n      <td>NaN</td>\n      <td>NaN</td>\n      <td>NaN</td>\n      <td>NaN</td>\n      <td>...</td>\n      <td>NaN</td>\n      <td>NaN</td>\n      <td>NaN</td>\n      <td>NaN</td>\n      <td>NaN</td>\n      <td>NaN</td>\n      <td>NaN</td>\n      <td>NaN</td>\n      <td>NaN</td>\n      <td>NaN</td>\n    </tr>\n    <tr>\n      <th>Properties - LHV [kWh/m3]</th>\n      <td>https://www.rechargenews.com/energy-transitio...</td>\n      <td>3730</td>\n      <td>NaN</td>\n      <td>NaN</td>\n      <td>NaN</td>\n      <td>NaN</td>\n      <td>NaN</td>\n      <td>NaN</td>\n      <td>NaN</td>\n      <td>NaN</td>\n      <td>...</td>\n      <td>NaN</td>\n      <td>NaN</td>\n      <td>NaN</td>\n      <td>NaN</td>\n      <td>NaN</td>\n      <td>NaN</td>\n      <td>NaN</td>\n      <td>NaN</td>\n      <td>NaN</td>\n      <td>NaN</td>\n    </tr>\n    <tr>\n      <th>Properties - Boiling point at 1 Bar [°C]</th>\n      <td>NaN</td>\n      <td>-33</td>\n      <td>NaN</td>\n      <td>NaN</td>\n      <td>NaN</td>\n      <td>NaN</td>\n      <td>NaN</td>\n      <td>NaN</td>\n      <td>NaN</td>\n      <td>NaN</td>\n      <td>...</td>\n      <td>NaN</td>\n      <td>NaN</td>\n      <td>NaN</td>\n      <td>NaN</td>\n      <td>NaN</td>\n      <td>NaN</td>\n      <td>NaN</td>\n      <td>NaN</td>\n      <td>NaN</td>\n      <td>NaN</td>\n    </tr>\n    <tr>\n      <th>...</th>\n      <td>...</td>\n      <td>...</td>\n      <td>...</td>\n      <td>...</td>\n      <td>...</td>\n      <td>...</td>\n      <td>...</td>\n      <td>...</td>\n      <td>...</td>\n      <td>...</td>\n      <td>...</td>\n      <td>...</td>\n      <td>...</td>\n      <td>...</td>\n      <td>...</td>\n      <td>...</td>\n      <td>...</td>\n      <td>...</td>\n      <td>...</td>\n      <td>...</td>\n      <td>...</td>\n    </tr>\n    <tr>\n      <th>Reconversion - Efficiency [% LHV]</th>\n      <td>IRENA 2022</td>\n      <td>NaN</td>\n      <td>0.98</td>\n      <td>0.980</td>\n      <td>0.98</td>\n      <td>0.980</td>\n      <td>0.98</td>\n      <td>0.980</td>\n      <td>0.98</td>\n      <td>0.980</td>\n      <td>...</td>\n      <td>0.98</td>\n      <td>0.98</td>\n      <td>0.98</td>\n      <td>0.98</td>\n      <td>0.98</td>\n      <td>0.98</td>\n      <td>0.98</td>\n      <td>0.98</td>\n      <td>0.98</td>\n      <td>0.98</td>\n    </tr>\n    <tr>\n      <th>Reconversion - Electricity consumption opt. [kWh/kg H2]</th>\n      <td>IRENA 2022</td>\n      <td>NaN</td>\n      <td>2.75</td>\n      <td>2.675</td>\n      <td>2.6</td>\n      <td>2.525</td>\n      <td>2.45</td>\n      <td>2.375</td>\n      <td>2.30</td>\n      <td>2.225</td>\n      <td>...</td>\n      <td>1.20</td>\n      <td>1.15</td>\n      <td>1.10</td>\n      <td>1.05</td>\n      <td>1.00</td>\n      <td>0.95</td>\n      <td>0.90</td>\n      <td>0.85</td>\n      <td>0.80</td>\n      <td>0.75</td>\n    </tr>\n    <tr>\n      <th>Reconversion - Electricity consumption pess. [kWh/kg H2]</th>\n      <td>IRENA 2022</td>\n      <td>NaN</td>\n      <td>2.75</td>\n      <td>2.675</td>\n      <td>2.6</td>\n      <td>2.525</td>\n      <td>2.45</td>\n      <td>2.375</td>\n      <td>2.30</td>\n      <td>2.225</td>\n      <td>...</td>\n      <td>1.20</td>\n      <td>1.15</td>\n      <td>1.10</td>\n      <td>1.05</td>\n      <td>1.00</td>\n      <td>0.95</td>\n      <td>0.90</td>\n      <td>0.85</td>\n      <td>0.80</td>\n      <td>0.75</td>\n    </tr>\n    <tr>\n      <th>Reconversion - Heat consumption opt. [kWh/kg H2]</th>\n      <td>IRENA 2022</td>\n      <td>NaN</td>\n      <td>14.30</td>\n      <td>13.990</td>\n      <td>13.68</td>\n      <td>13.370</td>\n      <td>13.06</td>\n      <td>12.750</td>\n      <td>12.44</td>\n      <td>12.130</td>\n      <td>...</td>\n      <td>7.79</td>\n      <td>7.48</td>\n      <td>7.17</td>\n      <td>6.86</td>\n      <td>6.55</td>\n      <td>6.24</td>\n      <td>5.93</td>\n      <td>5.62</td>\n      <td>5.31</td>\n      <td>5</td>\n    </tr>\n    <tr>\n      <th>Reconversion - Heat consumption pess. [kWh/kg H2]</th>\n      <td>IRENA 2022</td>\n      <td>NaN</td>\n      <td>19.60</td>\n      <td>19.320</td>\n      <td>19.04</td>\n      <td>18.760</td>\n      <td>18.48</td>\n      <td>18.200</td>\n      <td>17.92</td>\n      <td>17.640</td>\n      <td>...</td>\n      <td>13.72</td>\n      <td>13.44</td>\n      <td>13.16</td>\n      <td>12.88</td>\n      <td>12.60</td>\n      <td>12.32</td>\n      <td>12.04</td>\n      <td>11.76</td>\n      <td>11.48</td>\n      <td>11.2</td>\n    </tr>\n  </tbody>\n</table>\n<p>108 rows × 33 columns</p>\n</div>"
     },
     "execution_count": 614,
     "metadata": {},
     "output_type": "execute_result"
    }
   ],
   "source": [
    "tea_lnh3 = pd.read_excel(\"/Users/jakob/PycharmProjects/H2_pathways_repo/data/raw/20220921_Data_Assumptions.xlsx\", sheet_name='LNH3', decimal=',', index_col=0)\n",
    "tea_lnh3"
   ],
   "metadata": {
    "collapsed": false,
    "pycharm": {
     "name": "#%%\n"
    }
   }
  },
  {
   "cell_type": "markdown",
   "source": [
    "## Conversion emissions"
   ],
   "metadata": {
    "collapsed": false,
    "pycharm": {
     "name": "#%% md\n"
    }
   }
  },
  {
   "cell_type": "code",
   "execution_count": 640,
   "outputs": [],
   "source": [
    "def Conversion_emissions():\n",
    "    result = el_con_y * EF_y_n\n",
    "    return result"
   ],
   "metadata": {
    "collapsed": false,
    "pycharm": {
     "name": "#%%\n"
    }
   }
  },
  {
   "cell_type": "code",
   "execution_count": 641,
   "outputs": [
    {
     "data": {
      "text/plain": "     NH3_Conversion_emissions\n2025                89.872591\n2026                85.378961\n2027                80.885332\n2028                76.391702\n2029                71.898073\n2030                67.404443\n2031                61.447771\n2032                55.700106\n2033                50.161446\n2034                44.831792\n2035                39.711145\n2036                34.799503\n2037                30.096868\n2038                25.603238\n2039                21.318615\n2040                17.242997\n2041                13.794398\n2042                10.345798\n2043                 6.897199\n2044                 3.448599\n2045                      0.0\n2046                      0.0\n2047                      0.0\n2048                      0.0\n2049                      0.0\n2050                      0.0",
      "text/html": "<div>\n<style scoped>\n    .dataframe tbody tr th:only-of-type {\n        vertical-align: middle;\n    }\n\n    .dataframe tbody tr th {\n        vertical-align: top;\n    }\n\n    .dataframe thead th {\n        text-align: right;\n    }\n</style>\n<table border=\"1\" class=\"dataframe\">\n  <thead>\n    <tr style=\"text-align: right;\">\n      <th></th>\n      <th>NH3_Conversion_emissions</th>\n    </tr>\n  </thead>\n  <tbody>\n    <tr>\n      <th>2025</th>\n      <td>89.872591</td>\n    </tr>\n    <tr>\n      <th>2026</th>\n      <td>85.378961</td>\n    </tr>\n    <tr>\n      <th>2027</th>\n      <td>80.885332</td>\n    </tr>\n    <tr>\n      <th>2028</th>\n      <td>76.391702</td>\n    </tr>\n    <tr>\n      <th>2029</th>\n      <td>71.898073</td>\n    </tr>\n    <tr>\n      <th>2030</th>\n      <td>67.404443</td>\n    </tr>\n    <tr>\n      <th>2031</th>\n      <td>61.447771</td>\n    </tr>\n    <tr>\n      <th>2032</th>\n      <td>55.700106</td>\n    </tr>\n    <tr>\n      <th>2033</th>\n      <td>50.161446</td>\n    </tr>\n    <tr>\n      <th>2034</th>\n      <td>44.831792</td>\n    </tr>\n    <tr>\n      <th>2035</th>\n      <td>39.711145</td>\n    </tr>\n    <tr>\n      <th>2036</th>\n      <td>34.799503</td>\n    </tr>\n    <tr>\n      <th>2037</th>\n      <td>30.096868</td>\n    </tr>\n    <tr>\n      <th>2038</th>\n      <td>25.603238</td>\n    </tr>\n    <tr>\n      <th>2039</th>\n      <td>21.318615</td>\n    </tr>\n    <tr>\n      <th>2040</th>\n      <td>17.242997</td>\n    </tr>\n    <tr>\n      <th>2041</th>\n      <td>13.794398</td>\n    </tr>\n    <tr>\n      <th>2042</th>\n      <td>10.345798</td>\n    </tr>\n    <tr>\n      <th>2043</th>\n      <td>6.897199</td>\n    </tr>\n    <tr>\n      <th>2044</th>\n      <td>3.448599</td>\n    </tr>\n    <tr>\n      <th>2045</th>\n      <td>0.0</td>\n    </tr>\n    <tr>\n      <th>2046</th>\n      <td>0.0</td>\n    </tr>\n    <tr>\n      <th>2047</th>\n      <td>0.0</td>\n    </tr>\n    <tr>\n      <th>2048</th>\n      <td>0.0</td>\n    </tr>\n    <tr>\n      <th>2049</th>\n      <td>0.0</td>\n    </tr>\n    <tr>\n      <th>2050</th>\n      <td>0.0</td>\n    </tr>\n  </tbody>\n</table>\n</div>"
     },
     "execution_count": 641,
     "metadata": {},
     "output_type": "execute_result"
    }
   ],
   "source": [
    "# Calc. liquefaction emissions over time [g CO2eq/kg H2]\n",
    "years = np.arange(2025, 2051)\n",
    "result = pd.DataFrame(index=years, columns=['NH3_Conversion_emissions'])\n",
    "for year in years:\n",
    "    el_con_y = float(tea_lnh3.loc['Conversion - Electricity consumption opt. [kWh/kgH2]'][year])\n",
    "    EF_y_n = float(GHG.loc['GHG intensity of electricity generation [g CO2eq/kWh] - Norway'][year])\n",
    "\n",
    "    result.NH3_Conversion_emissions.loc[year] = Conversion_emissions()\n",
    "\n",
    "result"
   ],
   "metadata": {
    "collapsed": false,
    "pycharm": {
     "name": "#%%\n"
    }
   }
  },
  {
   "cell_type": "code",
   "execution_count": 642,
   "outputs": [],
   "source": [
    "path = r'/Users/jakob/PycharmProjects/H2_pathways_repo/data/processed'\n",
    "output_file = os.path.join(path, 'NH3_Conversion_emissions.csv')\n",
    "result.to_csv(output_file, sep=';')"
   ],
   "metadata": {
    "collapsed": false,
    "pycharm": {
     "name": "#%%\n"
    }
   }
  },
  {
   "cell_type": "markdown",
   "source": [
    "## Export terminal"
   ],
   "metadata": {
    "collapsed": false,
    "pycharm": {
     "name": "#%% md\n"
    }
   }
  },
  {
   "cell_type": "code",
   "execution_count": 643,
   "outputs": [
    {
     "data": {
      "text/plain": "0.005"
     },
     "execution_count": 643,
     "metadata": {},
     "output_type": "execute_result"
    }
   ],
   "source": [
    "# Electricity consumption for the export terminal [kWh/kg_h2]\n",
    "el_et_nh3 = float(tea_lnh3.loc['Export Terminal - Electricity use [kWh/kgH2]']['NH3'])\n",
    "el_et_nh3"
   ],
   "metadata": {
    "collapsed": false,
    "pycharm": {
     "name": "#%%\n"
    }
   }
  },
  {
   "cell_type": "code",
   "execution_count": 644,
   "outputs": [
    {
     "data": {
      "text/plain": "0.0378"
     },
     "execution_count": 644,
     "metadata": {},
     "output_type": "execute_result"
    }
   ],
   "source": [
    "el_reliq_nh3 = float(tea_lnh3.loc['Export Terminal - Energy use to reliquefy opt. [kWh/kg NH3/day]']['NH3'])\n",
    "el_reliq_nh3"
   ],
   "metadata": {
    "collapsed": false,
    "pycharm": {
     "name": "#%%\n"
    }
   }
  },
  {
   "cell_type": "code",
   "execution_count": 645,
   "outputs": [],
   "source": [
    "#Lower heating value of Nh3[ kWh / kg]\n",
    "NH3_lhv = float(tea_lnh3.loc['Properties - LHV [kWh/kg]']['NH3'])\n",
    "NH3_lhv\n",
    "#Lower heating value of H2 [kWh/kg]\n",
    "H2_lhv = 33.33"
   ],
   "metadata": {
    "collapsed": false,
    "pycharm": {
     "name": "#%%\n"
    }
   }
  },
  {
   "cell_type": "markdown",
   "source": [
    "same storage time as for LH2"
   ],
   "metadata": {
    "collapsed": false,
    "pycharm": {
     "name": "#%% md\n"
    }
   }
  },
  {
   "cell_type": "code",
   "execution_count": 646,
   "outputs": [
    {
     "data": {
      "text/plain": "7.0"
     },
     "execution_count": 646,
     "metadata": {},
     "output_type": "execute_result"
    }
   ],
   "source": [
    "# Average storage time in the export terminal tanks in days\n",
    "t_et"
   ],
   "metadata": {
    "collapsed": false,
    "pycharm": {
     "name": "#%%\n"
    }
   }
  },
  {
   "cell_type": "code",
   "execution_count": 705,
   "outputs": [],
   "source": [
    "def ET_emissions():\n",
    "    result = (el_et_nh3 + el_reliq_nh3 * (NH3_lhv/H2_lhv) * t_et) * EF_y_n\n",
    "    return result"
   ],
   "metadata": {
    "collapsed": false,
    "pycharm": {
     "name": "#%%\n"
    }
   }
  },
  {
   "cell_type": "code",
   "execution_count": 706,
   "outputs": [],
   "source": [
    "# Calc. liquefaction emissions over time [g CO2eq/kg H2]\n",
    "years = np.arange(2025, 2051)\n",
    "result = pd.DataFrame(index=years, columns=['NH3_Export_terminal_emissions'])\n",
    "result.index.name = 'Years'"
   ],
   "metadata": {
    "collapsed": false,
    "pycharm": {
     "name": "#%%\n"
    }
   }
  },
  {
   "cell_type": "code",
   "execution_count": 707,
   "outputs": [
    {
     "data": {
      "text/plain": "      NH3_Export_terminal_emissions\nYears                              \n2025                       0.962338\n2026                       0.914221\n2027                       0.866104\n2028                       0.817988\n2029                       0.769871\n2030                       0.721754\n2031                       0.673637\n2032                        0.62552\n2033                       0.577403\n2034                       0.529286\n2035                       0.481169\n2036                       0.433052\n2037                       0.384935\n2038                       0.336818\n2039                       0.288701\n2040                       0.240585\n2041                       0.192468\n2042                       0.144351\n2043                       0.096234\n2044                       0.048117\n2045                            0.0\n2046                            0.0\n2047                            0.0\n2048                            0.0\n2049                            0.0\n2050                            0.0",
      "text/html": "<div>\n<style scoped>\n    .dataframe tbody tr th:only-of-type {\n        vertical-align: middle;\n    }\n\n    .dataframe tbody tr th {\n        vertical-align: top;\n    }\n\n    .dataframe thead th {\n        text-align: right;\n    }\n</style>\n<table border=\"1\" class=\"dataframe\">\n  <thead>\n    <tr style=\"text-align: right;\">\n      <th></th>\n      <th>NH3_Export_terminal_emissions</th>\n    </tr>\n    <tr>\n      <th>Years</th>\n      <th></th>\n    </tr>\n  </thead>\n  <tbody>\n    <tr>\n      <th>2025</th>\n      <td>0.962338</td>\n    </tr>\n    <tr>\n      <th>2026</th>\n      <td>0.914221</td>\n    </tr>\n    <tr>\n      <th>2027</th>\n      <td>0.866104</td>\n    </tr>\n    <tr>\n      <th>2028</th>\n      <td>0.817988</td>\n    </tr>\n    <tr>\n      <th>2029</th>\n      <td>0.769871</td>\n    </tr>\n    <tr>\n      <th>2030</th>\n      <td>0.721754</td>\n    </tr>\n    <tr>\n      <th>2031</th>\n      <td>0.673637</td>\n    </tr>\n    <tr>\n      <th>2032</th>\n      <td>0.62552</td>\n    </tr>\n    <tr>\n      <th>2033</th>\n      <td>0.577403</td>\n    </tr>\n    <tr>\n      <th>2034</th>\n      <td>0.529286</td>\n    </tr>\n    <tr>\n      <th>2035</th>\n      <td>0.481169</td>\n    </tr>\n    <tr>\n      <th>2036</th>\n      <td>0.433052</td>\n    </tr>\n    <tr>\n      <th>2037</th>\n      <td>0.384935</td>\n    </tr>\n    <tr>\n      <th>2038</th>\n      <td>0.336818</td>\n    </tr>\n    <tr>\n      <th>2039</th>\n      <td>0.288701</td>\n    </tr>\n    <tr>\n      <th>2040</th>\n      <td>0.240585</td>\n    </tr>\n    <tr>\n      <th>2041</th>\n      <td>0.192468</td>\n    </tr>\n    <tr>\n      <th>2042</th>\n      <td>0.144351</td>\n    </tr>\n    <tr>\n      <th>2043</th>\n      <td>0.096234</td>\n    </tr>\n    <tr>\n      <th>2044</th>\n      <td>0.048117</td>\n    </tr>\n    <tr>\n      <th>2045</th>\n      <td>0.0</td>\n    </tr>\n    <tr>\n      <th>2046</th>\n      <td>0.0</td>\n    </tr>\n    <tr>\n      <th>2047</th>\n      <td>0.0</td>\n    </tr>\n    <tr>\n      <th>2048</th>\n      <td>0.0</td>\n    </tr>\n    <tr>\n      <th>2049</th>\n      <td>0.0</td>\n    </tr>\n    <tr>\n      <th>2050</th>\n      <td>0.0</td>\n    </tr>\n  </tbody>\n</table>\n</div>"
     },
     "execution_count": 707,
     "metadata": {},
     "output_type": "execute_result"
    }
   ],
   "source": [
    "for year in years:\n",
    "    EF_y_n = float(GHG.loc['GHG intensity of electricity generation [g CO2eq/kWh] - Norway'][year])\n",
    "\n",
    "    result.NH3_Export_terminal_emissions.loc[year] = ET_emissions()\n",
    "\n",
    "result"
   ],
   "metadata": {
    "collapsed": false,
    "pycharm": {
     "name": "#%%\n"
    }
   }
  },
  {
   "cell_type": "code",
   "execution_count": 708,
   "outputs": [],
   "source": [
    "path = r'/Users/jakob/PycharmProjects/H2_pathways_repo/data/processed'\n",
    "output_file = os.path.join(path, 'NH3_Export_terminal_emissions.csv')\n",
    "result.to_csv(output_file, sep=';')"
   ],
   "metadata": {
    "collapsed": false,
    "pycharm": {
     "name": "#%%\n"
    }
   }
  },
  {
   "cell_type": "code",
   "execution_count": 709,
   "outputs": [
    {
     "data": {
      "text/plain": "      NH3_Export_terminal_emissions\nYears                              \n2025                       0.962338\n2026                       0.914221\n2027                       0.866104\n2028                       0.817988\n2029                       0.769871\n2030                       0.721754\n2031                       0.673637\n2032                        0.62552\n2033                       0.577403\n2034                       0.529286\n2035                       0.481169\n2036                       0.433052\n2037                       0.384935\n2038                       0.336818\n2039                       0.288701\n2040                       0.240585\n2041                       0.192468\n2042                       0.144351\n2043                       0.096234\n2044                       0.048117\n2045                            0.0\n2046                            0.0\n2047                            0.0\n2048                            0.0\n2049                            0.0\n2050                            0.0",
      "text/html": "<div>\n<style scoped>\n    .dataframe tbody tr th:only-of-type {\n        vertical-align: middle;\n    }\n\n    .dataframe tbody tr th {\n        vertical-align: top;\n    }\n\n    .dataframe thead th {\n        text-align: right;\n    }\n</style>\n<table border=\"1\" class=\"dataframe\">\n  <thead>\n    <tr style=\"text-align: right;\">\n      <th></th>\n      <th>NH3_Export_terminal_emissions</th>\n    </tr>\n    <tr>\n      <th>Years</th>\n      <th></th>\n    </tr>\n  </thead>\n  <tbody>\n    <tr>\n      <th>2025</th>\n      <td>0.962338</td>\n    </tr>\n    <tr>\n      <th>2026</th>\n      <td>0.914221</td>\n    </tr>\n    <tr>\n      <th>2027</th>\n      <td>0.866104</td>\n    </tr>\n    <tr>\n      <th>2028</th>\n      <td>0.817988</td>\n    </tr>\n    <tr>\n      <th>2029</th>\n      <td>0.769871</td>\n    </tr>\n    <tr>\n      <th>2030</th>\n      <td>0.721754</td>\n    </tr>\n    <tr>\n      <th>2031</th>\n      <td>0.673637</td>\n    </tr>\n    <tr>\n      <th>2032</th>\n      <td>0.62552</td>\n    </tr>\n    <tr>\n      <th>2033</th>\n      <td>0.577403</td>\n    </tr>\n    <tr>\n      <th>2034</th>\n      <td>0.529286</td>\n    </tr>\n    <tr>\n      <th>2035</th>\n      <td>0.481169</td>\n    </tr>\n    <tr>\n      <th>2036</th>\n      <td>0.433052</td>\n    </tr>\n    <tr>\n      <th>2037</th>\n      <td>0.384935</td>\n    </tr>\n    <tr>\n      <th>2038</th>\n      <td>0.336818</td>\n    </tr>\n    <tr>\n      <th>2039</th>\n      <td>0.288701</td>\n    </tr>\n    <tr>\n      <th>2040</th>\n      <td>0.240585</td>\n    </tr>\n    <tr>\n      <th>2041</th>\n      <td>0.192468</td>\n    </tr>\n    <tr>\n      <th>2042</th>\n      <td>0.144351</td>\n    </tr>\n    <tr>\n      <th>2043</th>\n      <td>0.096234</td>\n    </tr>\n    <tr>\n      <th>2044</th>\n      <td>0.048117</td>\n    </tr>\n    <tr>\n      <th>2045</th>\n      <td>0.0</td>\n    </tr>\n    <tr>\n      <th>2046</th>\n      <td>0.0</td>\n    </tr>\n    <tr>\n      <th>2047</th>\n      <td>0.0</td>\n    </tr>\n    <tr>\n      <th>2048</th>\n      <td>0.0</td>\n    </tr>\n    <tr>\n      <th>2049</th>\n      <td>0.0</td>\n    </tr>\n    <tr>\n      <th>2050</th>\n      <td>0.0</td>\n    </tr>\n  </tbody>\n</table>\n</div>"
     },
     "execution_count": 709,
     "metadata": {},
     "output_type": "execute_result"
    }
   ],
   "source": [
    "result"
   ],
   "metadata": {
    "collapsed": false,
    "pycharm": {
     "name": "#%%\n"
    }
   }
  },
  {
   "cell_type": "markdown",
   "source": [
    "## Shipping"
   ],
   "metadata": {
    "collapsed": false,
    "pycharm": {
     "name": "#%% md\n"
    }
   }
  },
  {
   "cell_type": "code",
   "execution_count": 651,
   "outputs": [],
   "source": [
    "# Emissions of transported hydrogen carrier in [g CO2/kg_h2] in year y\n",
    "NH3_Conversion_emissions = pd.read_csv(\n",
    "    \"/Users/jakob/PycharmProjects/H2_pathways_repo/data/processed/NH3_Conversion_emissions.csv\", delimiter=';',\n",
    "    decimal=',', index_col=0)\n",
    "NH3_Export_terminal_emissions = pd.read_csv(\n",
    "    \"/Users/jakob/PycharmProjects/H2_pathways_repo/data/processed/NH3_Export_terminal_emissions.csv\", delimiter=';',\n",
    "    decimal=',', index_col=0)"
   ],
   "metadata": {
    "collapsed": false,
    "pycharm": {
     "name": "#%%\n"
    }
   }
  },
  {
   "cell_type": "code",
   "execution_count": 652,
   "outputs": [
    {
     "data": {
      "text/plain": "0.0001615786578657866"
     },
     "execution_count": 652,
     "metadata": {},
     "output_type": "execute_result"
    }
   ],
   "source": [
    "# Boil-off when shipping in [%/day] to [%/hour]\n",
    "bog_ship = float(tea_lnh3.loc['Shipping - Boil off opt. [%/day]']['NH3']) / 24 * (NH3_lhv/H2_lhv)\n",
    "bog_ship"
   ],
   "metadata": {
    "collapsed": false,
    "pycharm": {
     "name": "#%%\n"
    }
   }
  },
  {
   "cell_type": "code",
   "execution_count": 653,
   "outputs": [
    {
     "data": {
      "text/plain": "3.933746996123837e-07"
     },
     "execution_count": 653,
     "metadata": {},
     "output_type": "execute_result"
    }
   ],
   "source": [
    "# Fuel consumption of a ship in [kg_h2/t/km]\n",
    "f_ship = float(tea_lnh3.loc['Shipping - Fuel use [kg NH3/t/km]']['NH3']) / 1000 * (NH3_lhv/H2_lhv)\n",
    "f_ship"
   ],
   "metadata": {
    "collapsed": false,
    "pycharm": {
     "name": "#%%\n"
    }
   }
  },
  {
   "cell_type": "markdown",
   "source": [
    "d_sea and v_ship are equivalent to LH2 transport"
   ],
   "metadata": {
    "collapsed": false,
    "pycharm": {
     "name": "#%% md\n"
    }
   }
  },
  {
   "cell_type": "markdown",
   "source": [
    "Calc. emission factor for cargo/fuel"
   ],
   "metadata": {
    "collapsed": false,
    "pycharm": {
     "name": "#%% md\n"
    }
   }
  },
  {
   "cell_type": "code",
   "execution_count": 654,
   "outputs": [
    {
     "data": {
      "text/plain": "      NH3_cargo_emissions\n2025          7790.234929\n2026          7562.053183\n2027          7333.871436\n2028          7105.689690\n2029          6877.507943\n2030          6649.326197\n2031          6419.681408\n2032          6190.245626\n2033          5961.018849\n2034          5732.001078\n2035          5503.192314\n2036          5274.592555\n2037          5046.201803\n2038          4818.020056\n2039          4590.047316\n2040          4362.283582\n2041          4135.146865\n2042          3908.010149\n2043          3680.873433\n2044          3453.736716\n2045          3226.600000\n2046          3002.960000\n2047          2779.320000\n2048          2555.680000\n2049          2332.040000\n2050          2108.400000",
      "text/html": "<div>\n<style scoped>\n    .dataframe tbody tr th:only-of-type {\n        vertical-align: middle;\n    }\n\n    .dataframe tbody tr th {\n        vertical-align: top;\n    }\n\n    .dataframe thead th {\n        text-align: right;\n    }\n</style>\n<table border=\"1\" class=\"dataframe\">\n  <thead>\n    <tr style=\"text-align: right;\">\n      <th></th>\n      <th>NH3_cargo_emissions</th>\n    </tr>\n  </thead>\n  <tbody>\n    <tr>\n      <th>2025</th>\n      <td>7790.234929</td>\n    </tr>\n    <tr>\n      <th>2026</th>\n      <td>7562.053183</td>\n    </tr>\n    <tr>\n      <th>2027</th>\n      <td>7333.871436</td>\n    </tr>\n    <tr>\n      <th>2028</th>\n      <td>7105.689690</td>\n    </tr>\n    <tr>\n      <th>2029</th>\n      <td>6877.507943</td>\n    </tr>\n    <tr>\n      <th>2030</th>\n      <td>6649.326197</td>\n    </tr>\n    <tr>\n      <th>2031</th>\n      <td>6419.681408</td>\n    </tr>\n    <tr>\n      <th>2032</th>\n      <td>6190.245626</td>\n    </tr>\n    <tr>\n      <th>2033</th>\n      <td>5961.018849</td>\n    </tr>\n    <tr>\n      <th>2034</th>\n      <td>5732.001078</td>\n    </tr>\n    <tr>\n      <th>2035</th>\n      <td>5503.192314</td>\n    </tr>\n    <tr>\n      <th>2036</th>\n      <td>5274.592555</td>\n    </tr>\n    <tr>\n      <th>2037</th>\n      <td>5046.201803</td>\n    </tr>\n    <tr>\n      <th>2038</th>\n      <td>4818.020056</td>\n    </tr>\n    <tr>\n      <th>2039</th>\n      <td>4590.047316</td>\n    </tr>\n    <tr>\n      <th>2040</th>\n      <td>4362.283582</td>\n    </tr>\n    <tr>\n      <th>2041</th>\n      <td>4135.146865</td>\n    </tr>\n    <tr>\n      <th>2042</th>\n      <td>3908.010149</td>\n    </tr>\n    <tr>\n      <th>2043</th>\n      <td>3680.873433</td>\n    </tr>\n    <tr>\n      <th>2044</th>\n      <td>3453.736716</td>\n    </tr>\n    <tr>\n      <th>2045</th>\n      <td>3226.600000</td>\n    </tr>\n    <tr>\n      <th>2046</th>\n      <td>3002.960000</td>\n    </tr>\n    <tr>\n      <th>2047</th>\n      <td>2779.320000</td>\n    </tr>\n    <tr>\n      <th>2048</th>\n      <td>2555.680000</td>\n    </tr>\n    <tr>\n      <th>2049</th>\n      <td>2332.040000</td>\n    </tr>\n    <tr>\n      <th>2050</th>\n      <td>2108.400000</td>\n    </tr>\n  </tbody>\n</table>\n</div>"
     },
     "execution_count": 654,
     "metadata": {},
     "output_type": "execute_result"
    }
   ],
   "source": [
    "# Emissions of transported hydrogen carrier in [g CO2eq/kg_H2] in year y\n",
    "H2_emissions = (GHG.loc['Blue hydrogen emissions [kg CO2/kg H2] - Norway', 2025:2050]).apply(pd.to_numeric) * 1000\n",
    "Con_emissions = (NH3_Conversion_emissions.loc[::]['NH3_Conversion_emissions']).apply(pd.to_numeric)\n",
    "ET_emissions = (NH3_Export_terminal_emissions.loc[::]['NH3_Export_terminal_emissions']).apply(pd.to_numeric)\n",
    "# Emission of cargo in [g CO2eq/kg_H2]\n",
    "NH3_cargo_emissions = (H2_emissions + Con_emissions + ET_emissions).to_frame('NH3_cargo_emissions')\n",
    "NH3_cargo_emissions"
   ],
   "metadata": {
    "collapsed": false,
    "pycharm": {
     "name": "#%%\n"
    }
   }
  },
  {
   "cell_type": "code",
   "execution_count": 655,
   "outputs": [],
   "source": [
    "path = r'/Users/jakob/PycharmProjects/H2_pathways_repo/data/processed'\n",
    "output_file = os.path.join(path, 'NH3_cargo_emissions.csv')\n",
    "result.to_csv(output_file, sep=';')"
   ],
   "metadata": {
    "collapsed": false,
    "pycharm": {
     "name": "#%%\n"
    }
   }
  },
  {
   "cell_type": "code",
   "execution_count": 656,
   "outputs": [],
   "source": [
    "d_sea = 10000"
   ],
   "metadata": {
    "collapsed": false,
    "pycharm": {
     "name": "#%%\n"
    }
   }
  },
  {
   "cell_type": "code",
   "execution_count": 657,
   "outputs": [],
   "source": [
    "# Calc.NH3 shipping emissions\n",
    "def calculate_ship_emissions():\n",
    "    result = 1 / (1 - (bog_ship * d_sea / v_ship) - (f_ship * d_sea))\\\n",
    "             + (bog_ship * d_sea / v_ship + f_ship * d_sea) * NH3_cargo_ghg\n",
    "    return result"
   ],
   "metadata": {
    "collapsed": false,
    "pycharm": {
     "name": "#%%\n"
    }
   }
  },
  {
   "cell_type": "code",
   "execution_count": 658,
   "outputs": [
    {
     "data": {
      "text/plain": "      NH3_Shipping_emissions\nYears                       \n2025              457.884713\n2026              444.252586\n2027              430.632537\n2028              417.024568\n2029              403.428678\n2030              389.844867\n2031              375.762264\n2032              361.728659\n2033              347.744002\n2034              333.808243\n2035              319.921333\n2036              306.083223\n2037              292.293863\n2038              278.553205\n2039              264.861198\n2040              251.217794\n2041              237.611044\n2042              224.058772\n2043              210.560904\n2044              197.117366\n2045              183.728083\n2046              170.830766\n2047              157.968639\n2048              145.141702\n2049              132.349954\n2050              119.593397",
      "text/html": "<div>\n<style scoped>\n    .dataframe tbody tr th:only-of-type {\n        vertical-align: middle;\n    }\n\n    .dataframe tbody tr th {\n        vertical-align: top;\n    }\n\n    .dataframe thead th {\n        text-align: right;\n    }\n</style>\n<table border=\"1\" class=\"dataframe\">\n  <thead>\n    <tr style=\"text-align: right;\">\n      <th></th>\n      <th>NH3_Shipping_emissions</th>\n    </tr>\n    <tr>\n      <th>Years</th>\n      <th></th>\n    </tr>\n  </thead>\n  <tbody>\n    <tr>\n      <th>2025</th>\n      <td>457.884713</td>\n    </tr>\n    <tr>\n      <th>2026</th>\n      <td>444.252586</td>\n    </tr>\n    <tr>\n      <th>2027</th>\n      <td>430.632537</td>\n    </tr>\n    <tr>\n      <th>2028</th>\n      <td>417.024568</td>\n    </tr>\n    <tr>\n      <th>2029</th>\n      <td>403.428678</td>\n    </tr>\n    <tr>\n      <th>2030</th>\n      <td>389.844867</td>\n    </tr>\n    <tr>\n      <th>2031</th>\n      <td>375.762264</td>\n    </tr>\n    <tr>\n      <th>2032</th>\n      <td>361.728659</td>\n    </tr>\n    <tr>\n      <th>2033</th>\n      <td>347.744002</td>\n    </tr>\n    <tr>\n      <th>2034</th>\n      <td>333.808243</td>\n    </tr>\n    <tr>\n      <th>2035</th>\n      <td>319.921333</td>\n    </tr>\n    <tr>\n      <th>2036</th>\n      <td>306.083223</td>\n    </tr>\n    <tr>\n      <th>2037</th>\n      <td>292.293863</td>\n    </tr>\n    <tr>\n      <th>2038</th>\n      <td>278.553205</td>\n    </tr>\n    <tr>\n      <th>2039</th>\n      <td>264.861198</td>\n    </tr>\n    <tr>\n      <th>2040</th>\n      <td>251.217794</td>\n    </tr>\n    <tr>\n      <th>2041</th>\n      <td>237.611044</td>\n    </tr>\n    <tr>\n      <th>2042</th>\n      <td>224.058772</td>\n    </tr>\n    <tr>\n      <th>2043</th>\n      <td>210.560904</td>\n    </tr>\n    <tr>\n      <th>2044</th>\n      <td>197.117366</td>\n    </tr>\n    <tr>\n      <th>2045</th>\n      <td>183.728083</td>\n    </tr>\n    <tr>\n      <th>2046</th>\n      <td>170.830766</td>\n    </tr>\n    <tr>\n      <th>2047</th>\n      <td>157.968639</td>\n    </tr>\n    <tr>\n      <th>2048</th>\n      <td>145.141702</td>\n    </tr>\n    <tr>\n      <th>2049</th>\n      <td>132.349954</td>\n    </tr>\n    <tr>\n      <th>2050</th>\n      <td>119.593397</td>\n    </tr>\n  </tbody>\n</table>\n</div>"
     },
     "execution_count": 658,
     "metadata": {},
     "output_type": "execute_result"
    }
   ],
   "source": [
    "# Calculation of shipping emissions [g CO2eq/kg_h2] from 2025 to 2050.\n",
    "years = np.arange(2025, 2051)\n",
    "result = pd.DataFrame(index=years, columns=['NH3_Shipping_emissions'])\n",
    "result.index.name = 'Years'\n",
    "\n",
    "for year in years:\n",
    "    NH3_cargo_ghg = float(LH2_cargo_emissions.loc[year]['LH2_cargo_emissions'])\n",
    "    f_ship = float(tea_lnh3.loc['Shipping - Fuel use [kg NH3/t/km]'][year])/1000 * (NH3_lhv/H2_lhv)\n",
    "    # calculate emissions of specific year\n",
    "    result.NH3_Shipping_emissions.loc[year] = calculate_ship_emissions()\n",
    "\n",
    "result"
   ],
   "metadata": {
    "collapsed": false,
    "pycharm": {
     "name": "#%%\n"
    }
   }
  },
  {
   "cell_type": "code",
   "execution_count": 659,
   "outputs": [],
   "source": [
    "path = r'/Users/jakob/PycharmProjects/H2_pathways_repo/data/processed'\n",
    "output_file = os.path.join(path, 'NH3_Shipping_emissions.csv')\n",
    "result.to_csv(output_file, sep=';')"
   ],
   "metadata": {
    "collapsed": false,
    "pycharm": {
     "name": "#%%\n"
    }
   }
  },
  {
   "cell_type": "markdown",
   "source": [
    "## Import terminal"
   ],
   "metadata": {
    "collapsed": false,
    "pycharm": {
     "name": "#%% md\n"
    }
   }
  },
  {
   "cell_type": "code",
   "execution_count": 660,
   "outputs": [
    {
     "data": {
      "text/plain": "0.02"
     },
     "execution_count": 660,
     "metadata": {},
     "output_type": "execute_result"
    }
   ],
   "source": [
    "# Electricity consumption for the import terminal [kWh/kg_h2]\n",
    "el_it = float(tea_lnh3.loc['Import Terminal - Electricity use [kWh/kg H2]']['NH3'])\n",
    "el_it"
   ],
   "metadata": {
    "collapsed": false,
    "pycharm": {
     "name": "#%%\n"
    }
   }
  },
  {
   "cell_type": "code",
   "execution_count": 661,
   "outputs": [
    {
     "data": {
      "text/plain": "0.0378"
     },
     "execution_count": 661,
     "metadata": {},
     "output_type": "execute_result"
    }
   ],
   "source": [
    "# Electricity consumption to reliquefy BOG [kWh/kg_h2]\n",
    "el_reliq = float(tea_lnh3.loc['Import Terminal - Energy use to reliquefy opt. [kWh/kg NH3/day]']['NH3'])\n",
    "el_reliq"
   ],
   "metadata": {
    "collapsed": false,
    "pycharm": {
     "name": "#%%\n"
    }
   }
  },
  {
   "cell_type": "code",
   "execution_count": 662,
   "outputs": [
    {
     "data": {
      "text/plain": "7.0"
     },
     "execution_count": 662,
     "metadata": {},
     "output_type": "execute_result"
    }
   ],
   "source": [
    "\n",
    "# Average storage time in the import terminal tanks in days\n",
    "t_it = float(tea_lnh3.loc['Import Terminal - Storage length per load [days]']['NH3'])\n",
    "t_it"
   ],
   "metadata": {
    "collapsed": false,
    "pycharm": {
     "name": "#%%\n"
    }
   }
  },
  {
   "cell_type": "code",
   "execution_count": 663,
   "outputs": [],
   "source": [
    "def IT_emissions():\n",
    "    result = (el_it + el_reliq * (NH3_lhv/H2_lhv) * t_it) * EF_y_n\n",
    "    return result"
   ],
   "metadata": {
    "collapsed": false,
    "pycharm": {
     "name": "#%%\n"
    }
   }
  },
  {
   "cell_type": "code",
   "execution_count": 664,
   "outputs": [
    {
     "data": {
      "text/plain": "      NH3_Import_terminal_emissions\nYears                              \n2025                      19.824237\n2026                      18.645418\n2027                      17.466599\n2028                      16.287779\n2029                       15.10896\n2030                      13.930141\n2031                      13.014732\n2032                      12.099323\n2033                      11.183914\n2034                      10.268504\n2035                       9.353095\n2036                       8.437686\n2037                       7.522276\n2038                       6.606867\n2039                       5.691458\n2040                       4.776048\n2041                       3.820839\n2042                       2.865629\n2043                       1.910419\n2044                        0.95521\n2045                            0.0\n2046                            0.0\n2047                            0.0\n2048                            0.0\n2049                            0.0\n2050                            0.0",
      "text/html": "<div>\n<style scoped>\n    .dataframe tbody tr th:only-of-type {\n        vertical-align: middle;\n    }\n\n    .dataframe tbody tr th {\n        vertical-align: top;\n    }\n\n    .dataframe thead th {\n        text-align: right;\n    }\n</style>\n<table border=\"1\" class=\"dataframe\">\n  <thead>\n    <tr style=\"text-align: right;\">\n      <th></th>\n      <th>NH3_Import_terminal_emissions</th>\n    </tr>\n    <tr>\n      <th>Years</th>\n      <th></th>\n    </tr>\n  </thead>\n  <tbody>\n    <tr>\n      <th>2025</th>\n      <td>19.824237</td>\n    </tr>\n    <tr>\n      <th>2026</th>\n      <td>18.645418</td>\n    </tr>\n    <tr>\n      <th>2027</th>\n      <td>17.466599</td>\n    </tr>\n    <tr>\n      <th>2028</th>\n      <td>16.287779</td>\n    </tr>\n    <tr>\n      <th>2029</th>\n      <td>15.10896</td>\n    </tr>\n    <tr>\n      <th>2030</th>\n      <td>13.930141</td>\n    </tr>\n    <tr>\n      <th>2031</th>\n      <td>13.014732</td>\n    </tr>\n    <tr>\n      <th>2032</th>\n      <td>12.099323</td>\n    </tr>\n    <tr>\n      <th>2033</th>\n      <td>11.183914</td>\n    </tr>\n    <tr>\n      <th>2034</th>\n      <td>10.268504</td>\n    </tr>\n    <tr>\n      <th>2035</th>\n      <td>9.353095</td>\n    </tr>\n    <tr>\n      <th>2036</th>\n      <td>8.437686</td>\n    </tr>\n    <tr>\n      <th>2037</th>\n      <td>7.522276</td>\n    </tr>\n    <tr>\n      <th>2038</th>\n      <td>6.606867</td>\n    </tr>\n    <tr>\n      <th>2039</th>\n      <td>5.691458</td>\n    </tr>\n    <tr>\n      <th>2040</th>\n      <td>4.776048</td>\n    </tr>\n    <tr>\n      <th>2041</th>\n      <td>3.820839</td>\n    </tr>\n    <tr>\n      <th>2042</th>\n      <td>2.865629</td>\n    </tr>\n    <tr>\n      <th>2043</th>\n      <td>1.910419</td>\n    </tr>\n    <tr>\n      <th>2044</th>\n      <td>0.95521</td>\n    </tr>\n    <tr>\n      <th>2045</th>\n      <td>0.0</td>\n    </tr>\n    <tr>\n      <th>2046</th>\n      <td>0.0</td>\n    </tr>\n    <tr>\n      <th>2047</th>\n      <td>0.0</td>\n    </tr>\n    <tr>\n      <th>2048</th>\n      <td>0.0</td>\n    </tr>\n    <tr>\n      <th>2049</th>\n      <td>0.0</td>\n    </tr>\n    <tr>\n      <th>2050</th>\n      <td>0.0</td>\n    </tr>\n  </tbody>\n</table>\n</div>"
     },
     "execution_count": 664,
     "metadata": {},
     "output_type": "execute_result"
    }
   ],
   "source": [
    "# Calc. import terimal emissions over time [g CO2eq/kg H2]\n",
    "years = np.arange(2025, 2051)\n",
    "result = pd.DataFrame(index=years, columns=['NH3_Import_terminal_emissions'])\n",
    "result.index.name = 'Years'\n",
    "\n",
    "for year in years:\n",
    "    EF_y_n = float(GHG.loc['GHG intensity of electricity generation [g CO2eq/kWh] - Germany'][year])\n",
    "\n",
    "    result.NH3_Import_terminal_emissions.loc[year] = IT_emissions()\n",
    "\n",
    "result"
   ],
   "metadata": {
    "collapsed": false,
    "pycharm": {
     "name": "#%%\n"
    }
   }
  },
  {
   "cell_type": "code",
   "execution_count": 665,
   "outputs": [],
   "source": [
    "path = r'/Users/jakob/PycharmProjects/H2_pathways_repo/data/processed'\n",
    "output_file = os.path.join(path, 'NH3_Import_terminal_emissions.csv')\n",
    "result.to_csv(output_file, sep=';')"
   ],
   "metadata": {
    "collapsed": false,
    "pycharm": {
     "name": "#%%\n"
    }
   }
  },
  {
   "cell_type": "markdown",
   "source": [
    "## Reconversion"
   ],
   "metadata": {
    "collapsed": false,
    "pycharm": {
     "name": "#%% md\n"
    }
   }
  },
  {
   "cell_type": "code",
   "execution_count": 666,
   "outputs": [],
   "source": [
    "def calculate_recon_emissions():\n",
    "    result = (heat_recon_y + el_recon_y) * EF_y_n\n",
    "    return result"
   ],
   "metadata": {
    "collapsed": false,
    "pycharm": {
     "name": "#%%\n"
    }
   }
  },
  {
   "cell_type": "code",
   "execution_count": 667,
   "outputs": [
    {
     "data": {
      "text/plain": "      NH3_Reconversion_emissions\nYears                           \n2025                 4911.927778\n2026                 4502.251111\n2027                    4107.444\n2028                 3727.506444\n2029                 3362.438444\n2030                     3012.24\n2031                  2732.20926\n2032                  2463.72544\n2033                  2206.78854\n2034                  1961.39856\n2035                   1727.5555\n2036                  1505.25936\n2037                  1294.51014\n2038                  1095.30784\n2039                   907.65246\n2040                     731.544\n2041                   562.70208\n2042                   405.12672\n2043                   258.81792\n2044                   123.77568\n2045                         0.0\n2046                         0.0\n2047                         0.0\n2048                         0.0\n2049                         0.0\n2050                         0.0",
      "text/html": "<div>\n<style scoped>\n    .dataframe tbody tr th:only-of-type {\n        vertical-align: middle;\n    }\n\n    .dataframe tbody tr th {\n        vertical-align: top;\n    }\n\n    .dataframe thead th {\n        text-align: right;\n    }\n</style>\n<table border=\"1\" class=\"dataframe\">\n  <thead>\n    <tr style=\"text-align: right;\">\n      <th></th>\n      <th>NH3_Reconversion_emissions</th>\n    </tr>\n    <tr>\n      <th>Years</th>\n      <th></th>\n    </tr>\n  </thead>\n  <tbody>\n    <tr>\n      <th>2025</th>\n      <td>4911.927778</td>\n    </tr>\n    <tr>\n      <th>2026</th>\n      <td>4502.251111</td>\n    </tr>\n    <tr>\n      <th>2027</th>\n      <td>4107.444</td>\n    </tr>\n    <tr>\n      <th>2028</th>\n      <td>3727.506444</td>\n    </tr>\n    <tr>\n      <th>2029</th>\n      <td>3362.438444</td>\n    </tr>\n    <tr>\n      <th>2030</th>\n      <td>3012.24</td>\n    </tr>\n    <tr>\n      <th>2031</th>\n      <td>2732.20926</td>\n    </tr>\n    <tr>\n      <th>2032</th>\n      <td>2463.72544</td>\n    </tr>\n    <tr>\n      <th>2033</th>\n      <td>2206.78854</td>\n    </tr>\n    <tr>\n      <th>2034</th>\n      <td>1961.39856</td>\n    </tr>\n    <tr>\n      <th>2035</th>\n      <td>1727.5555</td>\n    </tr>\n    <tr>\n      <th>2036</th>\n      <td>1505.25936</td>\n    </tr>\n    <tr>\n      <th>2037</th>\n      <td>1294.51014</td>\n    </tr>\n    <tr>\n      <th>2038</th>\n      <td>1095.30784</td>\n    </tr>\n    <tr>\n      <th>2039</th>\n      <td>907.65246</td>\n    </tr>\n    <tr>\n      <th>2040</th>\n      <td>731.544</td>\n    </tr>\n    <tr>\n      <th>2041</th>\n      <td>562.70208</td>\n    </tr>\n    <tr>\n      <th>2042</th>\n      <td>405.12672</td>\n    </tr>\n    <tr>\n      <th>2043</th>\n      <td>258.81792</td>\n    </tr>\n    <tr>\n      <th>2044</th>\n      <td>123.77568</td>\n    </tr>\n    <tr>\n      <th>2045</th>\n      <td>0.0</td>\n    </tr>\n    <tr>\n      <th>2046</th>\n      <td>0.0</td>\n    </tr>\n    <tr>\n      <th>2047</th>\n      <td>0.0</td>\n    </tr>\n    <tr>\n      <th>2048</th>\n      <td>0.0</td>\n    </tr>\n    <tr>\n      <th>2049</th>\n      <td>0.0</td>\n    </tr>\n    <tr>\n      <th>2050</th>\n      <td>0.0</td>\n    </tr>\n  </tbody>\n</table>\n</div>"
     },
     "execution_count": 667,
     "metadata": {},
     "output_type": "execute_result"
    }
   ],
   "source": [
    "years = np.arange(2025, 2051)\n",
    "result = pd.DataFrame(index=years, columns=['NH3_Reconversion_emissions'])\n",
    "result.index.name = 'Years'\n",
    "\n",
    "for year in years:\n",
    "    el_recon_y = float(tea_lnh3.loc['Reconversion - Electricity consumption opt. [kWh/kg H2]'][year])\n",
    "    heat_recon_y = float(tea_lnh3.loc['Reconversion - Heat consumption opt. [kWh/kg H2]'][year])\n",
    "    EF_y_n = float(GHG.loc['GHG intensity of electricity generation [g CO2eq/kWh] - Germany'][year])\n",
    "\n",
    "     # calculate emissions of specific year\n",
    "    result.NH3_Reconversion_emissions.loc[year] = calculate_recon_emissions()\n",
    "result"
   ],
   "metadata": {
    "collapsed": false,
    "pycharm": {
     "name": "#%%\n"
    }
   }
  },
  {
   "cell_type": "code",
   "execution_count": 668,
   "outputs": [],
   "source": [
    "path = r'/Users/jakob/PycharmProjects/H2_pathways_repo/data/processed'\n",
    "output_file = os.path.join(path, 'NH3_Reconversion_emissions.csv')\n",
    "result.to_csv(output_file, sep=';')"
   ],
   "metadata": {
    "collapsed": false,
    "pycharm": {
     "name": "#%%\n"
    }
   }
  },
  {
   "cell_type": "markdown",
   "source": [
    "## Total NH3 transport emissions"
   ],
   "metadata": {
    "collapsed": false,
    "pycharm": {
     "name": "#%% md\n"
    }
   }
  },
  {
   "cell_type": "code",
   "execution_count": 724,
   "outputs": [],
   "source": [
    "con_em = pd.read_csv('/Users/jakob/PycharmProjects/H2_pathways_repo/data/processed/NH3_Conversion_emissions.csv',\n",
    "                     delimiter=';', decimal=',', index_col=0)\n",
    "et_em = pd.read_csv('/Users/jakob/PycharmProjects/H2_pathways_repo/data/processed/NH3_Export_terminal_emissions.csv',\n",
    "                    delimiter=';', decimal=',', index_col=0)\n",
    "ship_em = pd.read_csv('/Users/jakob/PycharmProjects/H2_pathways_repo/data/processed/NH3_Shipping_emissions.csv',\n",
    "                      delimiter=';', decimal=',', index_col=0)\n",
    "it_em = pd.read_csv('/Users/jakob/PycharmProjects/H2_pathways_repo/data/processed/NH3_Import_terminal_emissions.csv',\n",
    "                    delimiter=';', decimal=',', index_col=0)\n",
    "recon_em = pd.read_csv('/Users/jakob/PycharmProjects/H2_pathways_repo/data/processed/NH3_Reconversion_emissions.csv',\n",
    "                       delimiter=';', decimal=',', index_col=0)"
   ],
   "metadata": {
    "collapsed": false,
    "pycharm": {
     "name": "#%%\n"
    }
   }
  },
  {
   "cell_type": "code",
   "execution_count": 725,
   "outputs": [],
   "source": [
    "years = np.arange(2025, 2051)\n",
    "result = pd.DataFrame(index=years, columns=['NH3_transport_emissions'])\n",
    "result.index.name = 'Years'"
   ],
   "metadata": {
    "collapsed": false,
    "pycharm": {
     "name": "#%%\n"
    }
   }
  },
  {
   "cell_type": "code",
   "execution_count": 726,
   "outputs": [],
   "source": [
    "# [g CO2eq/kg H2]\n",
    "def calculate_NH3_transport_emissions():\n",
    "    result = CE + EE + SE + IE + RE\n",
    "\n",
    "    return result"
   ],
   "metadata": {
    "collapsed": false,
    "pycharm": {
     "name": "#%%\n"
    }
   }
  },
  {
   "cell_type": "code",
   "execution_count": 727,
   "outputs": [
    {
     "data": {
      "text/plain": "      NH3_transport_emissions\nYears                        \n2025              5480.471657\n2026              5051.442297\n2027              4637.294572\n2028              4238.028481\n2029              3853.644026\n2030              3484.141205\n2031              3183.107665\n2032              2893.879047\n2033              2616.455304\n2034              2350.836385\n2035              2097.022242\n2036              1855.012824\n2037              1624.808082\n2038              1406.407968\n2039              1199.812432\n2040              1005.021424\n2041               818.120828\n2042               642.541271\n2043               478.282676\n2044               325.344972\n2045               183.728083\n2046               170.830766\n2047               157.968639\n2048               145.141702\n2049               132.349954\n2050               119.593397",
      "text/html": "<div>\n<style scoped>\n    .dataframe tbody tr th:only-of-type {\n        vertical-align: middle;\n    }\n\n    .dataframe tbody tr th {\n        vertical-align: top;\n    }\n\n    .dataframe thead th {\n        text-align: right;\n    }\n</style>\n<table border=\"1\" class=\"dataframe\">\n  <thead>\n    <tr style=\"text-align: right;\">\n      <th></th>\n      <th>NH3_transport_emissions</th>\n    </tr>\n    <tr>\n      <th>Years</th>\n      <th></th>\n    </tr>\n  </thead>\n  <tbody>\n    <tr>\n      <th>2025</th>\n      <td>5480.471657</td>\n    </tr>\n    <tr>\n      <th>2026</th>\n      <td>5051.442297</td>\n    </tr>\n    <tr>\n      <th>2027</th>\n      <td>4637.294572</td>\n    </tr>\n    <tr>\n      <th>2028</th>\n      <td>4238.028481</td>\n    </tr>\n    <tr>\n      <th>2029</th>\n      <td>3853.644026</td>\n    </tr>\n    <tr>\n      <th>2030</th>\n      <td>3484.141205</td>\n    </tr>\n    <tr>\n      <th>2031</th>\n      <td>3183.107665</td>\n    </tr>\n    <tr>\n      <th>2032</th>\n      <td>2893.879047</td>\n    </tr>\n    <tr>\n      <th>2033</th>\n      <td>2616.455304</td>\n    </tr>\n    <tr>\n      <th>2034</th>\n      <td>2350.836385</td>\n    </tr>\n    <tr>\n      <th>2035</th>\n      <td>2097.022242</td>\n    </tr>\n    <tr>\n      <th>2036</th>\n      <td>1855.012824</td>\n    </tr>\n    <tr>\n      <th>2037</th>\n      <td>1624.808082</td>\n    </tr>\n    <tr>\n      <th>2038</th>\n      <td>1406.407968</td>\n    </tr>\n    <tr>\n      <th>2039</th>\n      <td>1199.812432</td>\n    </tr>\n    <tr>\n      <th>2040</th>\n      <td>1005.021424</td>\n    </tr>\n    <tr>\n      <th>2041</th>\n      <td>818.120828</td>\n    </tr>\n    <tr>\n      <th>2042</th>\n      <td>642.541271</td>\n    </tr>\n    <tr>\n      <th>2043</th>\n      <td>478.282676</td>\n    </tr>\n    <tr>\n      <th>2044</th>\n      <td>325.344972</td>\n    </tr>\n    <tr>\n      <th>2045</th>\n      <td>183.728083</td>\n    </tr>\n    <tr>\n      <th>2046</th>\n      <td>170.830766</td>\n    </tr>\n    <tr>\n      <th>2047</th>\n      <td>157.968639</td>\n    </tr>\n    <tr>\n      <th>2048</th>\n      <td>145.141702</td>\n    </tr>\n    <tr>\n      <th>2049</th>\n      <td>132.349954</td>\n    </tr>\n    <tr>\n      <th>2050</th>\n      <td>119.593397</td>\n    </tr>\n  </tbody>\n</table>\n</div>"
     },
     "execution_count": 727,
     "metadata": {},
     "output_type": "execute_result"
    }
   ],
   "source": [
    "for year in years:\n",
    "    # get all emissions\n",
    "    CE = float(con_em.loc[year]['NH3_Conversion_emissions'])\n",
    "    EE = float(et_em.loc[year]['NH3_Export_terminal_emissions'])\n",
    "    SE = float(ship_em.loc[year]['NH3_Shipping_emissions'])\n",
    "    IE = float(it_em.loc[year]['NH3_Import_terminal_emissions'])\n",
    "    RE = float(recon_em.loc[year]['NH3_Reconversion_emissions'])\n",
    "    # calculate costs of specific year\n",
    "    result.NH3_transport_emissions.loc[year] = calculate_NH3_transport_emissions()\n",
    "\n",
    "result"
   ],
   "metadata": {
    "collapsed": false,
    "pycharm": {
     "name": "#%%\n"
    }
   }
  },
  {
   "cell_type": "code",
   "execution_count": 734,
   "outputs": [
    {
     "data": {
      "text/plain": "<Figure size 720x432 with 1 Axes>",
      "image/png": "[encoded data removed]"
     },
     "metadata": {
      "needs_background": "light"
     },
     "output_type": "display_data"
    }
   ],
   "source": [
    "# Emission breakdown for NH3 seaborne transport\n",
    "fig, ax = plt.subplots(figsize=(10, 6))\n",
    "plt.grid(True, axis='y')\n",
    "ax.set_axisbelow(True)\n",
    "x = np.arange(2025, 2051, step=5)\n",
    "CE = (con_em.loc[::5]['NH3_Conversion_emissions']).apply(pd.to_numeric)\n",
    "EE = (et_em.loc[::5]['NH3_Export_terminal_emissions']).apply(pd.to_numeric)\n",
    "SE = (ship_em.loc[::5]['NH3_Shipping_emissions']).apply(pd.to_numeric)\n",
    "IE = (it_em.loc[::5]['NH3_Import_terminal_emissions']).apply(pd.to_numeric)\n",
    "RE = (recon_em.loc[::5]['NH3_Reconversion_emissions']).apply(pd.to_numeric)\n",
    "width = 2  # the width of the bars: can also be len(x) sequence\n",
    "\n",
    "RE_plt = plt.bar(x, RE, width, label='Reconversion (Ammonia cracking) emissions', bottom=CE + EE + SE + IE)\n",
    "IE_plt = plt.bar(x, IE, width, label='Import terminal emissions', bottom=CE + EE + SE)\n",
    "SE_plt = plt.bar(x, SE, width, label='Shipping emissions', bottom=CE + EE)\n",
    "EE_plt = plt.bar(x, EE, width, label='Export terminal emissions', bottom=CE)\n",
    "CE_plt = plt.bar(x, CE, width, label='Conversion (Ammonia synthesis) emissions')\n",
    "\n",
    "plt.title('Emission breakdown for NH3 shipping', fontweight='bold')\n",
    "plt.legend(loc='upper right')\n",
    "plt.ylabel('Transport emissions [g CO2eq/kg H2]')\n",
    "plt.xlabel('Years')\n",
    "plt.show()"
   ],
   "metadata": {
    "collapsed": false,
    "pycharm": {
     "name": "#%%\n"
    }
   }
  },
  {
   "cell_type": "markdown",
   "source": [
    "Largest contributer is reconversion at around 15 kWh/kg H2 are required to crack ammonia and it is assumed that electricity and heat are sourced from grid electricity, which has a high emission factor of around 300 g CO2eq/kWh in 2025 (in Germany)."
   ],
   "metadata": {
    "collapsed": false,
    "pycharm": {
     "name": "#%% md\n"
    }
   }
  },
  {
   "cell_type": "code",
   "execution_count": 639,
   "outputs": [],
   "source": [],
   "metadata": {
    "collapsed": false,
    "pycharm": {
     "name": "#%%\n"
    }
   }
  },
  {
   "cell_type": "code",
   "execution_count": null,
   "outputs": [],
   "source": [],
   "metadata": {
    "collapsed": false,
    "pycharm": {
     "name": "#%%\n"
    }
   }
  }
 ],
 "metadata": {
  "kernelspec": {
   "display_name": "Python 3",
   "language": "python",
   "name": "python3"
  },
  "language_info": {
   "codemirror_mode": {
    "name": "ipython",
    "version": 2
   },
   "file_extension": ".py",
   "mimetype": "text/x-python",
   "name": "python",
   "nbconvert_exporter": "python",
   "pygments_lexer": "ipython2",
   "version": "2.7.6"
  }
 },
 "nbformat": 4,
 "nbformat_minor": 0
}