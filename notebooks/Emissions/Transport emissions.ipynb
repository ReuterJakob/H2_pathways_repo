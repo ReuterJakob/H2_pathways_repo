{
 "cells": [
  {
   "cell_type": "code",
   "execution_count": 19,
   "metadata": {
    "collapsed": true,
    "pycharm": {
     "name": "#%%\n"
    }
   },
   "outputs": [],
   "source": [
    "import numpy as np\n",
    "import pandas as pd\n",
    "from matplotlib import pyplot as plt\n",
    "import os\n",
    "from openpyxl import load_workbook"
   ]
  },
  {
   "cell_type": "markdown",
   "source": [
    "## Read inputs"
   ],
   "metadata": {
    "collapsed": false,
    "pycharm": {
     "name": "#%% md\n"
    }
   }
  },
  {
   "cell_type": "code",
   "execution_count": 20,
   "outputs": [],
   "source": [
    "path = r'\\\\dena.de\\Daten\\Home\\Reuter\\Desktop\\H2_pathways_repo\\data\\raw\\H2_supply_route_assessment.xlsx'\n",
    "path_plt = r'\\\\dena.de\\Daten\\Home\\Reuter\\Desktop\\H2_pathways_repo\\Plots'\n",
    "path_csv = r'\\\\dena.de\\Daten\\Home\\Reuter\\Desktop\\H2_pathways_repo\\data\\processed'"
   ],
   "metadata": {
    "collapsed": false,
    "pycharm": {
     "name": "#%%\n"
    }
   }
  },
  {
   "cell_type": "code",
   "execution_count": 21,
   "outputs": [
    {
     "data": {
      "text/plain": "                                                      Parameter  \\\nID                                                                \nDiscount rate [%]                                          0.05   \nOffshore Capex cost factor                                  1.7   \nPipeline Opex [€/a as % of Capex]                         0.017   \nCompressor Opex [€/a as % of Capex]                       0.009   \nLow - Compression capacity @ 48inch [MW_el/1000km]          190   \n...                                                         ...   \nHigh - retrofit Offshore (EHB 2022) Capex Compr...         1.06   \nNaN                                                         NaN   \nNaN                                                         NaN   \nNaN                                                         NaN   \nNaN                                                 IEAGHG 2017   \n\n                                                               Reference  2020  \nID                                                                              \nDiscount rate [%]                                                    NaN   NaN  \nOffshore Capex cost factor                          EHB 2022; IRENA 2022   NaN  \nPipeline Opex [€/a as % of Capex]                                    NaN   NaN  \nCompressor Opex [€/a as % of Capex]                                  NaN   NaN  \nLow - Compression capacity @ 48inch [MW_el/1000km]              EHB 2020   NaN  \n...                                                                  ...   ...  \nHigh - retrofit Offshore (EHB 2022) Capex Compr...                   NaN   NaN  \nNaN                                                                  NaN   NaN  \nNaN                                                                  NaN   NaN  \nNaN                                                                  NaN   NaN  \nNaN                                                                  NaN   NaN  \n\n[90 rows x 3 columns]",
      "text/html": "<div>\n<style scoped>\n    .dataframe tbody tr th:only-of-type {\n        vertical-align: middle;\n    }\n\n    .dataframe tbody tr th {\n        vertical-align: top;\n    }\n\n    .dataframe thead th {\n        text-align: right;\n    }\n</style>\n<table border=\"1\" class=\"dataframe\">\n  <thead>\n    <tr style=\"text-align: right;\">\n      <th></th>\n      <th>Parameter</th>\n      <th>Reference</th>\n      <th>2020</th>\n    </tr>\n    <tr>\n      <th>ID</th>\n      <th></th>\n      <th></th>\n      <th></th>\n    </tr>\n  </thead>\n  <tbody>\n    <tr>\n      <th>Discount rate [%]</th>\n      <td>0.05</td>\n      <td>NaN</td>\n      <td>NaN</td>\n    </tr>\n    <tr>\n      <th>Offshore Capex cost factor</th>\n      <td>1.7</td>\n      <td>EHB 2022; IRENA 2022</td>\n      <td>NaN</td>\n    </tr>\n    <tr>\n      <th>Pipeline Opex [€/a as % of Capex]</th>\n      <td>0.017</td>\n      <td>NaN</td>\n      <td>NaN</td>\n    </tr>\n    <tr>\n      <th>Compressor Opex [€/a as % of Capex]</th>\n      <td>0.009</td>\n      <td>NaN</td>\n      <td>NaN</td>\n    </tr>\n    <tr>\n      <th>Low - Compression capacity @ 48inch [MW_el/1000km]</th>\n      <td>190</td>\n      <td>EHB 2020</td>\n      <td>NaN</td>\n    </tr>\n    <tr>\n      <th>...</th>\n      <td>...</td>\n      <td>...</td>\n      <td>...</td>\n    </tr>\n    <tr>\n      <th>High - retrofit Offshore (EHB 2022) Capex Compression [€/kg/1000km]</th>\n      <td>1.06</td>\n      <td>NaN</td>\n      <td>NaN</td>\n    </tr>\n    <tr>\n      <th>NaN</th>\n      <td>NaN</td>\n      <td>NaN</td>\n      <td>NaN</td>\n    </tr>\n    <tr>\n      <th>NaN</th>\n      <td>NaN</td>\n      <td>NaN</td>\n      <td>NaN</td>\n    </tr>\n    <tr>\n      <th>NaN</th>\n      <td>NaN</td>\n      <td>NaN</td>\n      <td>NaN</td>\n    </tr>\n    <tr>\n      <th>NaN</th>\n      <td>IEAGHG 2017</td>\n      <td>NaN</td>\n      <td>NaN</td>\n    </tr>\n  </tbody>\n</table>\n<p>90 rows × 3 columns</p>\n</div>"
     },
     "execution_count": 21,
     "metadata": {},
     "output_type": "execute_result"
    }
   ],
   "source": [
    "pipe = pd.read_excel(path, sheet_name='Pipeline Transport', decimal=',', index_col=0)\n",
    "pipe"
   ],
   "metadata": {
    "collapsed": false,
    "pycharm": {
     "name": "#%%\n"
    }
   }
  },
  {
   "cell_type": "code",
   "execution_count": 22,
   "outputs": [
    {
     "data": {
      "text/plain": "                                                                                   Value  \\\nID                                                                                         \nGHG intensity of electricity generation [g CO2e...                                   NaN   \nGHG intensity of electricity generation [g CO2e...                                   NaN   \nGrey hydrogen emissions [g CO2/MJ H2] - Norway                                     96.77   \nGrey hydrogen emissions [kg CO2/kg H2] - Norway                                  11.6124   \nBlue hydrogen emissions [g CO2/MJ H2] - Norway                                       NaN   \n...                                                                                  ...   \nHydrogen leakage                                    Predicted Emission Confidence level    \nElectrolytic H2 production [% of produced H2]                                      0.092   \nElectrolytic H2 production [% of produced H2] w...                                0.0052   \nCCS enabled H2 production [% of produced H2]                                       0.005   \nLarge-scale transmission [% of transported hyod...                                0.0048   \n\n                                                                        Ref  \\\nID                                                                            \nGHG intensity of electricity generation [g CO2e...                 EEA 2022   \nGHG intensity of electricity generation [g CO2e...        Our world in Data   \nGrey hydrogen emissions [g CO2/MJ H2] - Norway      Own calculation @ GWP20   \nGrey hydrogen emissions [kg CO2/kg H2] - Norway     Own calculation @ GWP20   \nBlue hydrogen emissions [g CO2/MJ H2] - Norway      Own calculation @ GWP20   \n...                                                                     ...   \nHydrogen leakage                                                        Ref   \nElectrolytic H2 production [% of produced H2]                      DOE 2022   \nElectrolytic H2 production [% of produced H2] w...                 DOE 2022   \nCCS enabled H2 production [% of produced H2]                       DOE 2022   \nLarge-scale transmission [% of transported hyod...                 DOE 2022   \n\n                                                     1990   1991   1992  \\\nID                                                                        \nGHG intensity of electricity generation [g CO2e...  652.0  656.0  628.0   \nGHG intensity of electricity generation [g CO2e...    NaN    NaN    NaN   \nGrey hydrogen emissions [g CO2/MJ H2] - Norway        NaN    NaN    NaN   \nGrey hydrogen emissions [kg CO2/kg H2] - Norway       NaN    NaN    NaN   \nBlue hydrogen emissions [g CO2/MJ H2] - Norway        NaN    NaN    NaN   \n...                                                   ...    ...    ...   \nHydrogen leakage                                      NaN    NaN    NaN   \nElectrolytic H2 production [% of produced H2]         NaN    NaN    NaN   \nElectrolytic H2 production [% of produced H2] w...    NaN    NaN    NaN   \nCCS enabled H2 production [% of produced H2]          NaN    NaN    NaN   \nLarge-scale transmission [% of transported hyod...    NaN    NaN    NaN   \n\n                                                     1993   1994   1995  \\\nID                                                                        \nGHG intensity of electricity generation [g CO2e...  631.0  626.0  610.0   \nGHG intensity of electricity generation [g CO2e...    NaN    NaN    NaN   \nGrey hydrogen emissions [g CO2/MJ H2] - Norway        NaN    NaN    NaN   \nGrey hydrogen emissions [kg CO2/kg H2] - Norway       NaN    NaN    NaN   \nBlue hydrogen emissions [g CO2/MJ H2] - Norway        NaN    NaN    NaN   \n...                                                   ...    ...    ...   \nHydrogen leakage                                      NaN    NaN    NaN   \nElectrolytic H2 production [% of produced H2]         NaN    NaN    NaN   \nElectrolytic H2 production [% of produced H2] w...    NaN    NaN    NaN   \nCCS enabled H2 production [% of produced H2]          NaN    NaN    NaN   \nLarge-scale transmission [% of transported hyod...    NaN    NaN    NaN   \n\n                                                     1996   1997  ...  \\\nID                                                                ...   \nGHG intensity of electricity generation [g CO2e...  580.0  566.0  ...   \nGHG intensity of electricity generation [g CO2e...    NaN    NaN  ...   \nGrey hydrogen emissions [g CO2/MJ H2] - Norway        NaN    NaN  ...   \nGrey hydrogen emissions [kg CO2/kg H2] - Norway       NaN    NaN  ...   \nBlue hydrogen emissions [g CO2/MJ H2] - Norway        NaN    NaN  ...   \n...                                                   ...    ...  ...   \nHydrogen leakage                                      NaN    NaN  ...   \nElectrolytic H2 production [% of produced H2]         NaN    NaN  ...   \nElectrolytic H2 production [% of produced H2] w...    NaN    NaN  ...   \nCCS enabled H2 production [% of produced H2]          NaN    NaN  ...   \nLarge-scale transmission [% of transported hyod...    NaN    NaN  ...   \n\n                                                         2041      2042  \\\nID                                                                        \nGHG intensity of electricity generation [g CO2e...  62.592000  46.94400   \nGHG intensity of electricity generation [g CO2e...   7.783673   6.91882   \nGrey hydrogen emissions [g CO2/MJ H2] - Norway            NaN       NaN   \nGrey hydrogen emissions [kg CO2/kg H2] - Norway           NaN       NaN   \nBlue hydrogen emissions [g CO2/MJ H2] - Norway      25.499000  24.61800   \n...                                                       ...       ...   \nHydrogen leakage                                          NaN       NaN   \nElectrolytic H2 production [% of produced H2]             NaN       NaN   \nElectrolytic H2 production [% of produced H2] w...        NaN       NaN   \nCCS enabled H2 production [% of produced H2]              NaN       NaN   \nLarge-scale transmission [% of transported hyod...        NaN       NaN   \n\n                                                         2043       2044  \\\nID                                                                         \nGHG intensity of electricity generation [g CO2e...  31.296000  15.648000   \nGHG intensity of electricity generation [g CO2e...   6.053968   5.189115   \nGrey hydrogen emissions [g CO2/MJ H2] - Norway            NaN        NaN   \nGrey hydrogen emissions [kg CO2/kg H2] - Norway           NaN        NaN   \nBlue hydrogen emissions [g CO2/MJ H2] - Norway      23.737000  22.856000   \n...                                                       ...        ...   \nHydrogen leakage                                          NaN        NaN   \nElectrolytic H2 production [% of produced H2]             NaN        NaN   \nElectrolytic H2 production [% of produced H2] w...        NaN        NaN   \nCCS enabled H2 production [% of produced H2]              NaN        NaN   \nLarge-scale transmission [% of transported hyod...        NaN        NaN   \n\n                                                         2045      2046  \\\nID                                                                        \nGHG intensity of electricity generation [g CO2e...   0.000000   0.00000   \nGHG intensity of electricity generation [g CO2e...   4.324263   3.45941   \nGrey hydrogen emissions [g CO2/MJ H2] - Norway            NaN       NaN   \nGrey hydrogen emissions [kg CO2/kg H2] - Norway           NaN       NaN   \nBlue hydrogen emissions [g CO2/MJ H2] - Norway      21.975000  21.09400   \n...                                                       ...       ...   \nHydrogen leakage                                          NaN       NaN   \nElectrolytic H2 production [% of produced H2]             NaN       NaN   \nElectrolytic H2 production [% of produced H2] w...        NaN       NaN   \nCCS enabled H2 production [% of produced H2]              NaN       NaN   \nLarge-scale transmission [% of transported hyod...        NaN       NaN   \n\n                                                         2047       2048  \\\nID                                                                         \nGHG intensity of electricity generation [g CO2e...   0.000000   0.000000   \nGHG intensity of electricity generation [g CO2e...   2.594558   1.729705   \nGrey hydrogen emissions [g CO2/MJ H2] - Norway            NaN        NaN   \nGrey hydrogen emissions [kg CO2/kg H2] - Norway           NaN        NaN   \nBlue hydrogen emissions [g CO2/MJ H2] - Norway      20.213000  19.332000   \n...                                                       ...        ...   \nHydrogen leakage                                          NaN        NaN   \nElectrolytic H2 production [% of produced H2]             NaN        NaN   \nElectrolytic H2 production [% of produced H2] w...        NaN        NaN   \nCCS enabled H2 production [% of produced H2]              NaN        NaN   \nLarge-scale transmission [% of transported hyod...        NaN        NaN   \n\n                                                         2049   2050  \nID                                                                    \nGHG intensity of electricity generation [g CO2e...   0.000000   0.00  \nGHG intensity of electricity generation [g CO2e...   0.864853   0.00  \nGrey hydrogen emissions [g CO2/MJ H2] - Norway            NaN    NaN  \nGrey hydrogen emissions [kg CO2/kg H2] - Norway           NaN    NaN  \nBlue hydrogen emissions [g CO2/MJ H2] - Norway      18.451000  17.57  \n...                                                       ...    ...  \nHydrogen leakage                                          NaN    NaN  \nElectrolytic H2 production [% of produced H2]             NaN    NaN  \nElectrolytic H2 production [% of produced H2] w...        NaN    NaN  \nCCS enabled H2 production [% of produced H2]              NaN    NaN  \nLarge-scale transmission [% of transported hyod...        NaN    NaN  \n\n[65 rows x 63 columns]",
      "text/html": "<div>\n<style scoped>\n    .dataframe tbody tr th:only-of-type {\n        vertical-align: middle;\n    }\n\n    .dataframe tbody tr th {\n        vertical-align: top;\n    }\n\n    .dataframe thead th {\n        text-align: right;\n    }\n</style>\n<table border=\"1\" class=\"dataframe\">\n  <thead>\n    <tr style=\"text-align: right;\">\n      <th></th>\n      <th>Value</th>\n      <th>Ref</th>\n      <th>1990</th>\n      <th>1991</th>\n      <th>1992</th>\n      <th>1993</th>\n      <th>1994</th>\n      <th>1995</th>\n      <th>1996</th>\n      <th>1997</th>\n      <th>...</th>\n      <th>2041</th>\n      <th>2042</th>\n      <th>2043</th>\n      <th>2044</th>\n      <th>2045</th>\n      <th>2046</th>\n      <th>2047</th>\n      <th>2048</th>\n      <th>2049</th>\n      <th>2050</th>\n    </tr>\n    <tr>\n      <th>ID</th>\n      <th></th>\n      <th></th>\n      <th></th>\n      <th></th>\n      <th></th>\n      <th></th>\n      <th></th>\n      <th></th>\n      <th></th>\n      <th></th>\n      <th></th>\n      <th></th>\n      <th></th>\n      <th></th>\n      <th></th>\n      <th></th>\n      <th></th>\n      <th></th>\n      <th></th>\n      <th></th>\n      <th></th>\n    </tr>\n  </thead>\n  <tbody>\n    <tr>\n      <th>GHG intensity of electricity generation [g CO2eq/kWh] - Germany</th>\n      <td>NaN</td>\n      <td>EEA 2022</td>\n      <td>652.0</td>\n      <td>656.0</td>\n      <td>628.0</td>\n      <td>631.0</td>\n      <td>626.0</td>\n      <td>610.0</td>\n      <td>580.0</td>\n      <td>566.0</td>\n      <td>...</td>\n      <td>62.592000</td>\n      <td>46.94400</td>\n      <td>31.296000</td>\n      <td>15.648000</td>\n      <td>0.000000</td>\n      <td>0.00000</td>\n      <td>0.000000</td>\n      <td>0.000000</td>\n      <td>0.000000</td>\n      <td>0.00</td>\n    </tr>\n    <tr>\n      <th>GHG intensity of electricity generation [g CO2eq/kWh] - Norway</th>\n      <td>NaN</td>\n      <td>Our world in Data</td>\n      <td>NaN</td>\n      <td>NaN</td>\n      <td>NaN</td>\n      <td>NaN</td>\n      <td>NaN</td>\n      <td>NaN</td>\n      <td>NaN</td>\n      <td>NaN</td>\n      <td>...</td>\n      <td>7.783673</td>\n      <td>6.91882</td>\n      <td>6.053968</td>\n      <td>5.189115</td>\n      <td>4.324263</td>\n      <td>3.45941</td>\n      <td>2.594558</td>\n      <td>1.729705</td>\n      <td>0.864853</td>\n      <td>0.00</td>\n    </tr>\n    <tr>\n      <th>Grey hydrogen emissions [g CO2/MJ H2] - Norway</th>\n      <td>96.77</td>\n      <td>Own calculation @ GWP20</td>\n      <td>NaN</td>\n      <td>NaN</td>\n      <td>NaN</td>\n      <td>NaN</td>\n      <td>NaN</td>\n      <td>NaN</td>\n      <td>NaN</td>\n      <td>NaN</td>\n      <td>...</td>\n      <td>NaN</td>\n      <td>NaN</td>\n      <td>NaN</td>\n      <td>NaN</td>\n      <td>NaN</td>\n      <td>NaN</td>\n      <td>NaN</td>\n      <td>NaN</td>\n      <td>NaN</td>\n      <td>NaN</td>\n    </tr>\n    <tr>\n      <th>Grey hydrogen emissions [kg CO2/kg H2] - Norway</th>\n      <td>11.6124</td>\n      <td>Own calculation @ GWP20</td>\n      <td>NaN</td>\n      <td>NaN</td>\n      <td>NaN</td>\n      <td>NaN</td>\n      <td>NaN</td>\n      <td>NaN</td>\n      <td>NaN</td>\n      <td>NaN</td>\n      <td>...</td>\n      <td>NaN</td>\n      <td>NaN</td>\n      <td>NaN</td>\n      <td>NaN</td>\n      <td>NaN</td>\n      <td>NaN</td>\n      <td>NaN</td>\n      <td>NaN</td>\n      <td>NaN</td>\n      <td>NaN</td>\n    </tr>\n    <tr>\n      <th>Blue hydrogen emissions [g CO2/MJ H2] - Norway</th>\n      <td>NaN</td>\n      <td>Own calculation @ GWP20</td>\n      <td>NaN</td>\n      <td>NaN</td>\n      <td>NaN</td>\n      <td>NaN</td>\n      <td>NaN</td>\n      <td>NaN</td>\n      <td>NaN</td>\n      <td>NaN</td>\n      <td>...</td>\n      <td>25.499000</td>\n      <td>24.61800</td>\n      <td>23.737000</td>\n      <td>22.856000</td>\n      <td>21.975000</td>\n      <td>21.09400</td>\n      <td>20.213000</td>\n      <td>19.332000</td>\n      <td>18.451000</td>\n      <td>17.57</td>\n    </tr>\n    <tr>\n      <th>...</th>\n      <td>...</td>\n      <td>...</td>\n      <td>...</td>\n      <td>...</td>\n      <td>...</td>\n      <td>...</td>\n      <td>...</td>\n      <td>...</td>\n      <td>...</td>\n      <td>...</td>\n      <td>...</td>\n      <td>...</td>\n      <td>...</td>\n      <td>...</td>\n      <td>...</td>\n      <td>...</td>\n      <td>...</td>\n      <td>...</td>\n      <td>...</td>\n      <td>...</td>\n      <td>...</td>\n    </tr>\n    <tr>\n      <th>Hydrogen leakage</th>\n      <td>Predicted Emission Confidence level</td>\n      <td>Ref</td>\n      <td>NaN</td>\n      <td>NaN</td>\n      <td>NaN</td>\n      <td>NaN</td>\n      <td>NaN</td>\n      <td>NaN</td>\n      <td>NaN</td>\n      <td>NaN</td>\n      <td>...</td>\n      <td>NaN</td>\n      <td>NaN</td>\n      <td>NaN</td>\n      <td>NaN</td>\n      <td>NaN</td>\n      <td>NaN</td>\n      <td>NaN</td>\n      <td>NaN</td>\n      <td>NaN</td>\n      <td>NaN</td>\n    </tr>\n    <tr>\n      <th>Electrolytic H2 production [% of produced H2]</th>\n      <td>0.092</td>\n      <td>DOE 2022</td>\n      <td>NaN</td>\n      <td>NaN</td>\n      <td>NaN</td>\n      <td>NaN</td>\n      <td>NaN</td>\n      <td>NaN</td>\n      <td>NaN</td>\n      <td>NaN</td>\n      <td>...</td>\n      <td>NaN</td>\n      <td>NaN</td>\n      <td>NaN</td>\n      <td>NaN</td>\n      <td>NaN</td>\n      <td>NaN</td>\n      <td>NaN</td>\n      <td>NaN</td>\n      <td>NaN</td>\n      <td>NaN</td>\n    </tr>\n    <tr>\n      <th>Electrolytic H2 production [% of produced H2] w/ recombination</th>\n      <td>0.0052</td>\n      <td>DOE 2022</td>\n      <td>NaN</td>\n      <td>NaN</td>\n      <td>NaN</td>\n      <td>NaN</td>\n      <td>NaN</td>\n      <td>NaN</td>\n      <td>NaN</td>\n      <td>NaN</td>\n      <td>...</td>\n      <td>NaN</td>\n      <td>NaN</td>\n      <td>NaN</td>\n      <td>NaN</td>\n      <td>NaN</td>\n      <td>NaN</td>\n      <td>NaN</td>\n      <td>NaN</td>\n      <td>NaN</td>\n      <td>NaN</td>\n    </tr>\n    <tr>\n      <th>CCS enabled H2 production [% of produced H2]</th>\n      <td>0.005</td>\n      <td>DOE 2022</td>\n      <td>NaN</td>\n      <td>NaN</td>\n      <td>NaN</td>\n      <td>NaN</td>\n      <td>NaN</td>\n      <td>NaN</td>\n      <td>NaN</td>\n      <td>NaN</td>\n      <td>...</td>\n      <td>NaN</td>\n      <td>NaN</td>\n      <td>NaN</td>\n      <td>NaN</td>\n      <td>NaN</td>\n      <td>NaN</td>\n      <td>NaN</td>\n      <td>NaN</td>\n      <td>NaN</td>\n      <td>NaN</td>\n    </tr>\n    <tr>\n      <th>Large-scale transmission [% of transported hyodrogen]</th>\n      <td>0.0048</td>\n      <td>DOE 2022</td>\n      <td>NaN</td>\n      <td>NaN</td>\n      <td>NaN</td>\n      <td>NaN</td>\n      <td>NaN</td>\n      <td>NaN</td>\n      <td>NaN</td>\n      <td>NaN</td>\n      <td>...</td>\n      <td>NaN</td>\n      <td>NaN</td>\n      <td>NaN</td>\n      <td>NaN</td>\n      <td>NaN</td>\n      <td>NaN</td>\n      <td>NaN</td>\n      <td>NaN</td>\n      <td>NaN</td>\n      <td>NaN</td>\n    </tr>\n  </tbody>\n</table>\n<p>65 rows × 63 columns</p>\n</div>"
     },
     "execution_count": 22,
     "metadata": {},
     "output_type": "execute_result"
    }
   ],
   "source": [
    "GHG =  pd.read_excel(path, sheet_name='GHG Footprint', decimal=',', index_col=0)\n",
    "GHG"
   ],
   "metadata": {
    "collapsed": false,
    "pycharm": {
     "name": "#%%\n"
    }
   }
  },
  {
   "cell_type": "code",
   "execution_count": 23,
   "outputs": [
    {
     "data": {
      "text/plain": "                                                                                        Ref  \\\nProperties                                                                                    \nProperties - Gas density [kg/m3]                                                   BOG 2020   \nProperties - LHV [MJ/kg]                                                           BOG 2020   \nProperties - LHV [kWh/kg]                 https://www.iea-amf.org/content/fuel_informati...   \nProperties - LHV [kWh/m3]                  https://www.rechargenews.com/energy-transitio...   \nProperties - Boiling point at 1 Bar [°C]                                                NaN   \n...                                                                                     ...   \nCAPEX ($/kW-H2), incl. Util.                                                        EWI PTX   \nOPEX ($/kW-H2/a), incl. Util.                                                       EWI PTX   \nElectricity use (kWh/kWh-H2                                                         EWI PTX   \nUtilisation                                                                         EWI PTX   \nReconversion - Lifetime [Years]                                                     EWI PTX   \n\n                                            LH2      2020       2021  \\\nProperties                                                             \nProperties - Gas density [kg/m3]           71.1       NaN        NaN   \nProperties - LHV [MJ/kg]                    120       NaN        NaN   \nProperties - LHV [kWh/kg]                 33.33       NaN        NaN   \nProperties - LHV [kWh/m3]                  2350       NaN        NaN   \nProperties - Boiling point at 1 Bar [°C]   -253       NaN        NaN   \n...                                         ...       ...        ...   \nCAPEX ($/kW-H2), incl. Util.                NaN       NaN        NaN   \nOPEX ($/kW-H2/a), incl. Util.               NaN  57.69591  57.118951   \nElectricity use (kWh/kWh-H2                0.01   0.01000   0.010000   \nUtilisation                                 NaN   0.90000   0.900000   \nReconversion - Lifetime [Years]              30       NaN        NaN   \n\n                                               2022       2023       2024  \\\nProperties                                                                  \nProperties - Gas density [kg/m3]                NaN        NaN        NaN   \nProperties - LHV [MJ/kg]                        NaN        NaN        NaN   \nProperties - LHV [kWh/kg]                       NaN        NaN        NaN   \nProperties - LHV [kWh/m3]                       NaN        NaN        NaN   \nProperties - Boiling point at 1 Bar [°C]        NaN        NaN        NaN   \n...                                             ...        ...        ...   \nCAPEX ($/kW-H2), incl. Util.                    NaN        NaN        NaN   \nOPEX ($/kW-H2/a), incl. Util.             56.541992  55.965033  55.388074   \nElectricity use (kWh/kWh-H2                0.010000   0.010000   0.010000   \nUtilisation                                0.900000   0.900000   0.900000   \nReconversion - Lifetime [Years]                 NaN        NaN        NaN   \n\n                                               2025       2026       2027  \\\nProperties                                                                  \nProperties - Gas density [kg/m3]                NaN        NaN        NaN   \nProperties - LHV [MJ/kg]                        NaN        NaN        NaN   \nProperties - LHV [kWh/kg]                       NaN        NaN        NaN   \nProperties - LHV [kWh/m3]                       NaN        NaN        NaN   \nProperties - Boiling point at 1 Bar [°C]        NaN        NaN        NaN   \n...                                             ...        ...        ...   \nCAPEX ($/kW-H2), incl. Util.                    NaN        NaN        NaN   \nOPEX ($/kW-H2/a), incl. Util.             54.811115  54.234156  53.657197   \nElectricity use (kWh/kWh-H2                0.010000   0.010000   0.010000   \nUtilisation                                0.900000   0.900000   0.900000   \nReconversion - Lifetime [Years]                 NaN        NaN        NaN   \n\n                                          ...       2041       2042  \\\nProperties                                ...                         \nProperties - Gas density [kg/m3]          ...        NaN        NaN   \nProperties - LHV [MJ/kg]                  ...        NaN        NaN   \nProperties - LHV [kWh/kg]                 ...        NaN        NaN   \nProperties - LHV [kWh/m3]                 ...        NaN        NaN   \nProperties - Boiling point at 1 Bar [°C]  ...        NaN        NaN   \n...                                       ...        ...        ...   \nCAPEX ($/kW-H2), incl. Util.              ...        NaN        NaN   \nOPEX ($/kW-H2/a), incl. Util.             ...  37.646582  36.348424   \nElectricity use (kWh/kWh-H2               ...   0.010000   0.010000   \nUtilisation                               ...   0.900000   0.900000   \nReconversion - Lifetime [Years]           ...        NaN        NaN   \n\n                                               2043       2044      2045  \\\nProperties                                                                 \nProperties - Gas density [kg/m3]                NaN        NaN       NaN   \nProperties - LHV [MJ/kg]                        NaN        NaN       NaN   \nProperties - LHV [kWh/kg]                       NaN        NaN       NaN   \nProperties - LHV [kWh/m3]                       NaN        NaN       NaN   \nProperties - Boiling point at 1 Bar [°C]        NaN        NaN       NaN   \n...                                             ...        ...       ...   \nCAPEX ($/kW-H2), incl. Util.                    NaN        NaN       NaN   \nOPEX ($/kW-H2/a), incl. Util.             35.050266  33.752108  32.45395   \nElectricity use (kWh/kWh-H2                0.010000   0.010000   0.01000   \nUtilisation                                0.900000   0.900000   0.90000   \nReconversion - Lifetime [Years]                 NaN        NaN       NaN   \n\n                                               2046       2047       2048  \\\nProperties                                                                  \nProperties - Gas density [kg/m3]                NaN        NaN        NaN   \nProperties - LHV [MJ/kg]                        NaN        NaN        NaN   \nProperties - LHV [kWh/kg]                       NaN        NaN        NaN   \nProperties - LHV [kWh/m3]                       NaN        NaN        NaN   \nProperties - Boiling point at 1 Bar [°C]        NaN        NaN        NaN   \n...                                             ...        ...        ...   \nCAPEX ($/kW-H2), incl. Util.                    NaN        NaN        NaN   \nOPEX ($/kW-H2/a), incl. Util.             31.155792  29.857634  28.559476   \nElectricity use (kWh/kWh-H2                0.010000   0.010000   0.010000   \nUtilisation                                0.900000   0.900000   0.900000   \nReconversion - Lifetime [Years]                 NaN        NaN        NaN   \n\n                                               2049      2050  \nProperties                                                     \nProperties - Gas density [kg/m3]                NaN       NaN  \nProperties - LHV [MJ/kg]                        NaN       NaN  \nProperties - LHV [kWh/kg]                       NaN       NaN  \nProperties - LHV [kWh/m3]                       NaN       NaN  \nProperties - Boiling point at 1 Bar [°C]        NaN       NaN  \n...                                             ...       ...  \nCAPEX ($/kW-H2), incl. Util.                    NaN       NaN  \nOPEX ($/kW-H2/a), incl. Util.             27.261318  25.96316  \nElectricity use (kWh/kWh-H2                0.010000   0.01000  \nUtilisation                                0.900000   0.90000  \nReconversion - Lifetime [Years]                 NaN       NaN  \n\n[121 rows x 33 columns]",
      "text/html": "<div>\n<style scoped>\n    .dataframe tbody tr th:only-of-type {\n        vertical-align: middle;\n    }\n\n    .dataframe tbody tr th {\n        vertical-align: top;\n    }\n\n    .dataframe thead th {\n        text-align: right;\n    }\n</style>\n<table border=\"1\" class=\"dataframe\">\n  <thead>\n    <tr style=\"text-align: right;\">\n      <th></th>\n      <th>Ref</th>\n      <th>LH2</th>\n      <th>2020</th>\n      <th>2021</th>\n      <th>2022</th>\n      <th>2023</th>\n      <th>2024</th>\n      <th>2025</th>\n      <th>2026</th>\n      <th>2027</th>\n      <th>...</th>\n      <th>2041</th>\n      <th>2042</th>\n      <th>2043</th>\n      <th>2044</th>\n      <th>2045</th>\n      <th>2046</th>\n      <th>2047</th>\n      <th>2048</th>\n      <th>2049</th>\n      <th>2050</th>\n    </tr>\n    <tr>\n      <th>Properties</th>\n      <th></th>\n      <th></th>\n      <th></th>\n      <th></th>\n      <th></th>\n      <th></th>\n      <th></th>\n      <th></th>\n      <th></th>\n      <th></th>\n      <th></th>\n      <th></th>\n      <th></th>\n      <th></th>\n      <th></th>\n      <th></th>\n      <th></th>\n      <th></th>\n      <th></th>\n      <th></th>\n      <th></th>\n    </tr>\n  </thead>\n  <tbody>\n    <tr>\n      <th>Properties - Gas density [kg/m3]</th>\n      <td>BOG 2020</td>\n      <td>71.1</td>\n      <td>NaN</td>\n      <td>NaN</td>\n      <td>NaN</td>\n      <td>NaN</td>\n      <td>NaN</td>\n      <td>NaN</td>\n      <td>NaN</td>\n      <td>NaN</td>\n      <td>...</td>\n      <td>NaN</td>\n      <td>NaN</td>\n      <td>NaN</td>\n      <td>NaN</td>\n      <td>NaN</td>\n      <td>NaN</td>\n      <td>NaN</td>\n      <td>NaN</td>\n      <td>NaN</td>\n      <td>NaN</td>\n    </tr>\n    <tr>\n      <th>Properties - LHV [MJ/kg]</th>\n      <td>BOG 2020</td>\n      <td>120</td>\n      <td>NaN</td>\n      <td>NaN</td>\n      <td>NaN</td>\n      <td>NaN</td>\n      <td>NaN</td>\n      <td>NaN</td>\n      <td>NaN</td>\n      <td>NaN</td>\n      <td>...</td>\n      <td>NaN</td>\n      <td>NaN</td>\n      <td>NaN</td>\n      <td>NaN</td>\n      <td>NaN</td>\n      <td>NaN</td>\n      <td>NaN</td>\n      <td>NaN</td>\n      <td>NaN</td>\n      <td>NaN</td>\n    </tr>\n    <tr>\n      <th>Properties - LHV [kWh/kg]</th>\n      <td>https://www.iea-amf.org/content/fuel_informati...</td>\n      <td>33.33</td>\n      <td>NaN</td>\n      <td>NaN</td>\n      <td>NaN</td>\n      <td>NaN</td>\n      <td>NaN</td>\n      <td>NaN</td>\n      <td>NaN</td>\n      <td>NaN</td>\n      <td>...</td>\n      <td>NaN</td>\n      <td>NaN</td>\n      <td>NaN</td>\n      <td>NaN</td>\n      <td>NaN</td>\n      <td>NaN</td>\n      <td>NaN</td>\n      <td>NaN</td>\n      <td>NaN</td>\n      <td>NaN</td>\n    </tr>\n    <tr>\n      <th>Properties - LHV [kWh/m3]</th>\n      <td>https://www.rechargenews.com/energy-transitio...</td>\n      <td>2350</td>\n      <td>NaN</td>\n      <td>NaN</td>\n      <td>NaN</td>\n      <td>NaN</td>\n      <td>NaN</td>\n      <td>NaN</td>\n      <td>NaN</td>\n      <td>NaN</td>\n      <td>...</td>\n      <td>NaN</td>\n      <td>NaN</td>\n      <td>NaN</td>\n      <td>NaN</td>\n      <td>NaN</td>\n      <td>NaN</td>\n      <td>NaN</td>\n      <td>NaN</td>\n      <td>NaN</td>\n      <td>NaN</td>\n    </tr>\n    <tr>\n      <th>Properties - Boiling point at 1 Bar [°C]</th>\n      <td>NaN</td>\n      <td>-253</td>\n      <td>NaN</td>\n      <td>NaN</td>\n      <td>NaN</td>\n      <td>NaN</td>\n      <td>NaN</td>\n      <td>NaN</td>\n      <td>NaN</td>\n      <td>NaN</td>\n      <td>...</td>\n      <td>NaN</td>\n      <td>NaN</td>\n      <td>NaN</td>\n      <td>NaN</td>\n      <td>NaN</td>\n      <td>NaN</td>\n      <td>NaN</td>\n      <td>NaN</td>\n      <td>NaN</td>\n      <td>NaN</td>\n    </tr>\n    <tr>\n      <th>...</th>\n      <td>...</td>\n      <td>...</td>\n      <td>...</td>\n      <td>...</td>\n      <td>...</td>\n      <td>...</td>\n      <td>...</td>\n      <td>...</td>\n      <td>...</td>\n      <td>...</td>\n      <td>...</td>\n      <td>...</td>\n      <td>...</td>\n      <td>...</td>\n      <td>...</td>\n      <td>...</td>\n      <td>...</td>\n      <td>...</td>\n      <td>...</td>\n      <td>...</td>\n      <td>...</td>\n    </tr>\n    <tr>\n      <th>CAPEX ($/kW-H2), incl. Util.</th>\n      <td>EWI PTX</td>\n      <td>NaN</td>\n      <td>NaN</td>\n      <td>NaN</td>\n      <td>NaN</td>\n      <td>NaN</td>\n      <td>NaN</td>\n      <td>NaN</td>\n      <td>NaN</td>\n      <td>NaN</td>\n      <td>...</td>\n      <td>NaN</td>\n      <td>NaN</td>\n      <td>NaN</td>\n      <td>NaN</td>\n      <td>NaN</td>\n      <td>NaN</td>\n      <td>NaN</td>\n      <td>NaN</td>\n      <td>NaN</td>\n      <td>NaN</td>\n    </tr>\n    <tr>\n      <th>OPEX ($/kW-H2/a), incl. Util.</th>\n      <td>EWI PTX</td>\n      <td>NaN</td>\n      <td>57.69591</td>\n      <td>57.118951</td>\n      <td>56.541992</td>\n      <td>55.965033</td>\n      <td>55.388074</td>\n      <td>54.811115</td>\n      <td>54.234156</td>\n      <td>53.657197</td>\n      <td>...</td>\n      <td>37.646582</td>\n      <td>36.348424</td>\n      <td>35.050266</td>\n      <td>33.752108</td>\n      <td>32.45395</td>\n      <td>31.155792</td>\n      <td>29.857634</td>\n      <td>28.559476</td>\n      <td>27.261318</td>\n      <td>25.96316</td>\n    </tr>\n    <tr>\n      <th>Electricity use (kWh/kWh-H2</th>\n      <td>EWI PTX</td>\n      <td>0.01</td>\n      <td>0.01000</td>\n      <td>0.010000</td>\n      <td>0.010000</td>\n      <td>0.010000</td>\n      <td>0.010000</td>\n      <td>0.010000</td>\n      <td>0.010000</td>\n      <td>0.010000</td>\n      <td>...</td>\n      <td>0.010000</td>\n      <td>0.010000</td>\n      <td>0.010000</td>\n      <td>0.010000</td>\n      <td>0.01000</td>\n      <td>0.010000</td>\n      <td>0.010000</td>\n      <td>0.010000</td>\n      <td>0.010000</td>\n      <td>0.01000</td>\n    </tr>\n    <tr>\n      <th>Utilisation</th>\n      <td>EWI PTX</td>\n      <td>NaN</td>\n      <td>0.90000</td>\n      <td>0.900000</td>\n      <td>0.900000</td>\n      <td>0.900000</td>\n      <td>0.900000</td>\n      <td>0.900000</td>\n      <td>0.900000</td>\n      <td>0.900000</td>\n      <td>...</td>\n      <td>0.900000</td>\n      <td>0.900000</td>\n      <td>0.900000</td>\n      <td>0.900000</td>\n      <td>0.90000</td>\n      <td>0.900000</td>\n      <td>0.900000</td>\n      <td>0.900000</td>\n      <td>0.900000</td>\n      <td>0.90000</td>\n    </tr>\n    <tr>\n      <th>Reconversion - Lifetime [Years]</th>\n      <td>EWI PTX</td>\n      <td>30</td>\n      <td>NaN</td>\n      <td>NaN</td>\n      <td>NaN</td>\n      <td>NaN</td>\n      <td>NaN</td>\n      <td>NaN</td>\n      <td>NaN</td>\n      <td>NaN</td>\n      <td>...</td>\n      <td>NaN</td>\n      <td>NaN</td>\n      <td>NaN</td>\n      <td>NaN</td>\n      <td>NaN</td>\n      <td>NaN</td>\n      <td>NaN</td>\n      <td>NaN</td>\n      <td>NaN</td>\n      <td>NaN</td>\n    </tr>\n  </tbody>\n</table>\n<p>121 rows × 33 columns</p>\n</div>"
     },
     "execution_count": 23,
     "metadata": {},
     "output_type": "execute_result"
    }
   ],
   "source": [
    "tea_lh2 = pd.read_excel(path, sheet_name='LH2', decimal=',', index_col=0)\n",
    "tea_lh2"
   ],
   "metadata": {
    "collapsed": false,
    "pycharm": {
     "name": "#%%\n"
    }
   }
  },
  {
   "cell_type": "code",
   "execution_count": 24,
   "outputs": [
    {
     "data": {
      "text/plain": "                                                                                                  Ref  \\\nProperties                                                                                              \nProperties - Gas density [kg/m3]                                                                  NaN   \nProperties - LHV [MJ/kg] []                                                                  BOG 2020   \nProperties - LHV [kWh/kg]                           https://www.iea-amf.org/content/fuel_informati...   \nProperties - LHV [kWh/m3]                            https://www.rechargenews.com/energy-transitio...   \nProperties - Boiling point at 1 Bar [°C]                                                          NaN   \n...                                                                                               ...   \nReconversion - Efficiency [% LHV]                                                          IRENA 2022   \nReconversion - Electricity consumption opt. [kW...                                         IRENA 2022   \nReconversion - Electricity consumption pess. [k...                                         IRENA 2022   \nReconversion - Heat consumption opt. [kWh/kg H2]                                           IRENA 2022   \nReconversion - Heat consumption pess. [kWh/kg H2]                                          IRENA 2022   \n\n                                                      NH3   2020    2021  \\\nProperties                                                                 \nProperties - Gas density [kg/m3]                    682.8    NaN     NaN   \nProperties - LHV [MJ/kg] []                          18.6    NaN     NaN   \nProperties - LHV [kWh/kg]                            5.17    NaN     NaN   \nProperties - LHV [kWh/m3]                            3730    NaN     NaN   \nProperties - Boiling point at 1 Bar [°C]              -33    NaN     NaN   \n...                                                   ...    ...     ...   \nReconversion - Efficiency [% LHV]                     NaN   0.98   0.980   \nReconversion - Electricity consumption opt. [kW...    NaN   2.75   2.675   \nReconversion - Electricity consumption pess. [k...    NaN   2.75   2.675   \nReconversion - Heat consumption opt. [kWh/kg H2]      NaN  14.30  13.990   \nReconversion - Heat consumption pess. [kWh/kg H2]     NaN  19.60  19.320   \n\n                                                     2022    2023   2024  \\\nProperties                                                                 \nProperties - Gas density [kg/m3]                      NaN     NaN    NaN   \nProperties - LHV [MJ/kg] []                           NaN     NaN    NaN   \nProperties - LHV [kWh/kg]                             NaN     NaN    NaN   \nProperties - LHV [kWh/m3]                             NaN     NaN    NaN   \nProperties - Boiling point at 1 Bar [°C]              NaN     NaN    NaN   \n...                                                   ...     ...    ...   \nReconversion - Efficiency [% LHV]                    0.98   0.980   0.98   \nReconversion - Electricity consumption opt. [kW...    2.6   2.525   2.45   \nReconversion - Electricity consumption pess. [k...    2.6   2.525   2.45   \nReconversion - Heat consumption opt. [kWh/kg H2]    13.68  13.370  13.06   \nReconversion - Heat consumption pess. [kWh/kg H2]   19.04  18.760  18.48   \n\n                                                      2025   2026    2027  \\\nProperties                                                                  \nProperties - Gas density [kg/m3]                       NaN    NaN     NaN   \nProperties - LHV [MJ/kg] []                            NaN    NaN     NaN   \nProperties - LHV [kWh/kg]                              NaN    NaN     NaN   \nProperties - LHV [kWh/m3]                              NaN    NaN     NaN   \nProperties - Boiling point at 1 Bar [°C]               NaN    NaN     NaN   \n...                                                    ...    ...     ...   \nReconversion - Efficiency [% LHV]                    0.980   0.98   0.980   \nReconversion - Electricity consumption opt. [kW...   2.375   2.30   2.225   \nReconversion - Electricity consumption pess. [k...   2.375   2.30   2.225   \nReconversion - Heat consumption opt. [kWh/kg H2]    12.750  12.44  12.130   \nReconversion - Heat consumption pess. [kWh/kg H2]   18.200  17.92  17.640   \n\n                                                    ...   2041   2042   2043  \\\nProperties                                          ...                        \nProperties - Gas density [kg/m3]                    ...    NaN    NaN    NaN   \nProperties - LHV [MJ/kg] []                         ...    NaN    NaN    NaN   \nProperties - LHV [kWh/kg]                           ...    NaN    NaN    NaN   \nProperties - LHV [kWh/m3]                           ...    NaN    NaN    NaN   \nProperties - Boiling point at 1 Bar [°C]            ...    NaN    NaN    NaN   \n...                                                 ...    ...    ...    ...   \nReconversion - Efficiency [% LHV]                   ...   0.98   0.98   0.98   \nReconversion - Electricity consumption opt. [kW...  ...   1.20   1.15   1.10   \nReconversion - Electricity consumption pess. [k...  ...   1.20   1.15   1.10   \nReconversion - Heat consumption opt. [kWh/kg H2]    ...   7.79   7.48   7.17   \nReconversion - Heat consumption pess. [kWh/kg H2]   ...  13.72  13.44  13.16   \n\n                                                     2044   2045   2046  \\\nProperties                                                                \nProperties - Gas density [kg/m3]                      NaN    NaN    NaN   \nProperties - LHV [MJ/kg] []                           NaN    NaN    NaN   \nProperties - LHV [kWh/kg]                             NaN    NaN    NaN   \nProperties - LHV [kWh/m3]                             NaN    NaN    NaN   \nProperties - Boiling point at 1 Bar [°C]              NaN    NaN    NaN   \n...                                                   ...    ...    ...   \nReconversion - Efficiency [% LHV]                    0.98   0.98   0.98   \nReconversion - Electricity consumption opt. [kW...   1.05   1.00   0.95   \nReconversion - Electricity consumption pess. [k...   1.05   1.00   0.95   \nReconversion - Heat consumption opt. [kWh/kg H2]     6.86   6.55   6.24   \nReconversion - Heat consumption pess. [kWh/kg H2]   12.88  12.60  12.32   \n\n                                                     2047   2048   2049  2050  \nProperties                                                                     \nProperties - Gas density [kg/m3]                      NaN    NaN    NaN   NaN  \nProperties - LHV [MJ/kg] []                           NaN    NaN    NaN   NaN  \nProperties - LHV [kWh/kg]                             NaN    NaN    NaN   NaN  \nProperties - LHV [kWh/m3]                             NaN    NaN    NaN   NaN  \nProperties - Boiling point at 1 Bar [°C]              NaN    NaN    NaN   NaN  \n...                                                   ...    ...    ...   ...  \nReconversion - Efficiency [% LHV]                    0.98   0.98   0.98  0.98  \nReconversion - Electricity consumption opt. [kW...   0.90   0.85   0.80  0.75  \nReconversion - Electricity consumption pess. [k...   0.90   0.85   0.80  0.75  \nReconversion - Heat consumption opt. [kWh/kg H2]     5.93   5.62   5.31     5  \nReconversion - Heat consumption pess. [kWh/kg H2]   12.04  11.76  11.48  11.2  \n\n[110 rows x 33 columns]",
      "text/html": "<div>\n<style scoped>\n    .dataframe tbody tr th:only-of-type {\n        vertical-align: middle;\n    }\n\n    .dataframe tbody tr th {\n        vertical-align: top;\n    }\n\n    .dataframe thead th {\n        text-align: right;\n    }\n</style>\n<table border=\"1\" class=\"dataframe\">\n  <thead>\n    <tr style=\"text-align: right;\">\n      <th></th>\n      <th>Ref</th>\n      <th>NH3</th>\n      <th>2020</th>\n      <th>2021</th>\n      <th>2022</th>\n      <th>2023</th>\n      <th>2024</th>\n      <th>2025</th>\n      <th>2026</th>\n      <th>2027</th>\n      <th>...</th>\n      <th>2041</th>\n      <th>2042</th>\n      <th>2043</th>\n      <th>2044</th>\n      <th>2045</th>\n      <th>2046</th>\n      <th>2047</th>\n      <th>2048</th>\n      <th>2049</th>\n      <th>2050</th>\n    </tr>\n    <tr>\n      <th>Properties</th>\n      <th></th>\n      <th></th>\n      <th></th>\n      <th></th>\n      <th></th>\n      <th></th>\n      <th></th>\n      <th></th>\n      <th></th>\n      <th></th>\n      <th></th>\n      <th></th>\n      <th></th>\n      <th></th>\n      <th></th>\n      <th></th>\n      <th></th>\n      <th></th>\n      <th></th>\n      <th></th>\n      <th></th>\n    </tr>\n  </thead>\n  <tbody>\n    <tr>\n      <th>Properties - Gas density [kg/m3]</th>\n      <td>NaN</td>\n      <td>682.8</td>\n      <td>NaN</td>\n      <td>NaN</td>\n      <td>NaN</td>\n      <td>NaN</td>\n      <td>NaN</td>\n      <td>NaN</td>\n      <td>NaN</td>\n      <td>NaN</td>\n      <td>...</td>\n      <td>NaN</td>\n      <td>NaN</td>\n      <td>NaN</td>\n      <td>NaN</td>\n      <td>NaN</td>\n      <td>NaN</td>\n      <td>NaN</td>\n      <td>NaN</td>\n      <td>NaN</td>\n      <td>NaN</td>\n    </tr>\n    <tr>\n      <th>Properties - LHV [MJ/kg] []</th>\n      <td>BOG 2020</td>\n      <td>18.6</td>\n      <td>NaN</td>\n      <td>NaN</td>\n      <td>NaN</td>\n      <td>NaN</td>\n      <td>NaN</td>\n      <td>NaN</td>\n      <td>NaN</td>\n      <td>NaN</td>\n      <td>...</td>\n      <td>NaN</td>\n      <td>NaN</td>\n      <td>NaN</td>\n      <td>NaN</td>\n      <td>NaN</td>\n      <td>NaN</td>\n      <td>NaN</td>\n      <td>NaN</td>\n      <td>NaN</td>\n      <td>NaN</td>\n    </tr>\n    <tr>\n      <th>Properties - LHV [kWh/kg]</th>\n      <td>https://www.iea-amf.org/content/fuel_informati...</td>\n      <td>5.17</td>\n      <td>NaN</td>\n      <td>NaN</td>\n      <td>NaN</td>\n      <td>NaN</td>\n      <td>NaN</td>\n      <td>NaN</td>\n      <td>NaN</td>\n      <td>NaN</td>\n      <td>...</td>\n      <td>NaN</td>\n      <td>NaN</td>\n      <td>NaN</td>\n      <td>NaN</td>\n      <td>NaN</td>\n      <td>NaN</td>\n      <td>NaN</td>\n      <td>NaN</td>\n      <td>NaN</td>\n      <td>NaN</td>\n    </tr>\n    <tr>\n      <th>Properties - LHV [kWh/m3]</th>\n      <td>https://www.rechargenews.com/energy-transitio...</td>\n      <td>3730</td>\n      <td>NaN</td>\n      <td>NaN</td>\n      <td>NaN</td>\n      <td>NaN</td>\n      <td>NaN</td>\n      <td>NaN</td>\n      <td>NaN</td>\n      <td>NaN</td>\n      <td>...</td>\n      <td>NaN</td>\n      <td>NaN</td>\n      <td>NaN</td>\n      <td>NaN</td>\n      <td>NaN</td>\n      <td>NaN</td>\n      <td>NaN</td>\n      <td>NaN</td>\n      <td>NaN</td>\n      <td>NaN</td>\n    </tr>\n    <tr>\n      <th>Properties - Boiling point at 1 Bar [°C]</th>\n      <td>NaN</td>\n      <td>-33</td>\n      <td>NaN</td>\n      <td>NaN</td>\n      <td>NaN</td>\n      <td>NaN</td>\n      <td>NaN</td>\n      <td>NaN</td>\n      <td>NaN</td>\n      <td>NaN</td>\n      <td>...</td>\n      <td>NaN</td>\n      <td>NaN</td>\n      <td>NaN</td>\n      <td>NaN</td>\n      <td>NaN</td>\n      <td>NaN</td>\n      <td>NaN</td>\n      <td>NaN</td>\n      <td>NaN</td>\n      <td>NaN</td>\n    </tr>\n    <tr>\n      <th>...</th>\n      <td>...</td>\n      <td>...</td>\n      <td>...</td>\n      <td>...</td>\n      <td>...</td>\n      <td>...</td>\n      <td>...</td>\n      <td>...</td>\n      <td>...</td>\n      <td>...</td>\n      <td>...</td>\n      <td>...</td>\n      <td>...</td>\n      <td>...</td>\n      <td>...</td>\n      <td>...</td>\n      <td>...</td>\n      <td>...</td>\n      <td>...</td>\n      <td>...</td>\n      <td>...</td>\n    </tr>\n    <tr>\n      <th>Reconversion - Efficiency [% LHV]</th>\n      <td>IRENA 2022</td>\n      <td>NaN</td>\n      <td>0.98</td>\n      <td>0.980</td>\n      <td>0.98</td>\n      <td>0.980</td>\n      <td>0.98</td>\n      <td>0.980</td>\n      <td>0.98</td>\n      <td>0.980</td>\n      <td>...</td>\n      <td>0.98</td>\n      <td>0.98</td>\n      <td>0.98</td>\n      <td>0.98</td>\n      <td>0.98</td>\n      <td>0.98</td>\n      <td>0.98</td>\n      <td>0.98</td>\n      <td>0.98</td>\n      <td>0.98</td>\n    </tr>\n    <tr>\n      <th>Reconversion - Electricity consumption opt. [kWh/kg H2]</th>\n      <td>IRENA 2022</td>\n      <td>NaN</td>\n      <td>2.75</td>\n      <td>2.675</td>\n      <td>2.6</td>\n      <td>2.525</td>\n      <td>2.45</td>\n      <td>2.375</td>\n      <td>2.30</td>\n      <td>2.225</td>\n      <td>...</td>\n      <td>1.20</td>\n      <td>1.15</td>\n      <td>1.10</td>\n      <td>1.05</td>\n      <td>1.00</td>\n      <td>0.95</td>\n      <td>0.90</td>\n      <td>0.85</td>\n      <td>0.80</td>\n      <td>0.75</td>\n    </tr>\n    <tr>\n      <th>Reconversion - Electricity consumption pess. [kWh/kg H2]</th>\n      <td>IRENA 2022</td>\n      <td>NaN</td>\n      <td>2.75</td>\n      <td>2.675</td>\n      <td>2.6</td>\n      <td>2.525</td>\n      <td>2.45</td>\n      <td>2.375</td>\n      <td>2.30</td>\n      <td>2.225</td>\n      <td>...</td>\n      <td>1.20</td>\n      <td>1.15</td>\n      <td>1.10</td>\n      <td>1.05</td>\n      <td>1.00</td>\n      <td>0.95</td>\n      <td>0.90</td>\n      <td>0.85</td>\n      <td>0.80</td>\n      <td>0.75</td>\n    </tr>\n    <tr>\n      <th>Reconversion - Heat consumption opt. [kWh/kg H2]</th>\n      <td>IRENA 2022</td>\n      <td>NaN</td>\n      <td>14.30</td>\n      <td>13.990</td>\n      <td>13.68</td>\n      <td>13.370</td>\n      <td>13.06</td>\n      <td>12.750</td>\n      <td>12.44</td>\n      <td>12.130</td>\n      <td>...</td>\n      <td>7.79</td>\n      <td>7.48</td>\n      <td>7.17</td>\n      <td>6.86</td>\n      <td>6.55</td>\n      <td>6.24</td>\n      <td>5.93</td>\n      <td>5.62</td>\n      <td>5.31</td>\n      <td>5</td>\n    </tr>\n    <tr>\n      <th>Reconversion - Heat consumption pess. [kWh/kg H2]</th>\n      <td>IRENA 2022</td>\n      <td>NaN</td>\n      <td>19.60</td>\n      <td>19.320</td>\n      <td>19.04</td>\n      <td>18.760</td>\n      <td>18.48</td>\n      <td>18.200</td>\n      <td>17.92</td>\n      <td>17.640</td>\n      <td>...</td>\n      <td>13.72</td>\n      <td>13.44</td>\n      <td>13.16</td>\n      <td>12.88</td>\n      <td>12.60</td>\n      <td>12.32</td>\n      <td>12.04</td>\n      <td>11.76</td>\n      <td>11.48</td>\n      <td>11.2</td>\n    </tr>\n  </tbody>\n</table>\n<p>110 rows × 33 columns</p>\n</div>"
     },
     "execution_count": 24,
     "metadata": {},
     "output_type": "execute_result"
    }
   ],
   "source": [
    "tea_lnh3 = pd.read_excel(path, sheet_name='LNH3', decimal=',', index_col=0)\n",
    "tea_lnh3"
   ],
   "metadata": {
    "collapsed": false,
    "pycharm": {
     "name": "#%%\n"
    }
   }
  },
  {
   "cell_type": "code",
   "execution_count": 25,
   "outputs": [
    {
     "data": {
      "text/plain": "           Origin_Country Destination_Country  sea distance (km)  \\\n0    United Arab Emirates             Germany           12443.10   \n1                  Angola             Germany            9809.65   \n2               Argentina             Germany           14063.90   \n3                 Austria             Germany            6005.96   \n4               Australia             Germany           21212.10   \n..                    ...                 ...                ...   \n955           Philippines               China            1782.35   \n956               Iceland               China           20454.60   \n957      Papua New Guinea               China            6298.52   \n958              Cameroon               China           19717.70   \n959          South Africa               China           12853.50   \n\n     onshore distance (km)  offshore distance (km) Starting point  \n0                      NaN                     NaN            NaN  \n1                      NaN                     NaN            NaN  \n2                      NaN                     NaN            NaN  \n3                    500.0                     0.0            NaN  \n4                      NaN                     NaN            NaN  \n..                     ...                     ...            ...  \n955                    NaN                     NaN            NaN  \n956                    NaN                     NaN            NaN  \n957                    NaN                     NaN            NaN  \n958                    NaN                     NaN            NaN  \n959                    NaN                     NaN            NaN  \n\n[960 rows x 6 columns]",
      "text/html": "<div>\n<style scoped>\n    .dataframe tbody tr th:only-of-type {\n        vertical-align: middle;\n    }\n\n    .dataframe tbody tr th {\n        vertical-align: top;\n    }\n\n    .dataframe thead th {\n        text-align: right;\n    }\n</style>\n<table border=\"1\" class=\"dataframe\">\n  <thead>\n    <tr style=\"text-align: right;\">\n      <th></th>\n      <th>Origin_Country</th>\n      <th>Destination_Country</th>\n      <th>sea distance (km)</th>\n      <th>onshore distance (km)</th>\n      <th>offshore distance (km)</th>\n      <th>Starting point</th>\n    </tr>\n  </thead>\n  <tbody>\n    <tr>\n      <th>0</th>\n      <td>United Arab Emirates</td>\n      <td>Germany</td>\n      <td>12443.10</td>\n      <td>NaN</td>\n      <td>NaN</td>\n      <td>NaN</td>\n    </tr>\n    <tr>\n      <th>1</th>\n      <td>Angola</td>\n      <td>Germany</td>\n      <td>9809.65</td>\n      <td>NaN</td>\n      <td>NaN</td>\n      <td>NaN</td>\n    </tr>\n    <tr>\n      <th>2</th>\n      <td>Argentina</td>\n      <td>Germany</td>\n      <td>14063.90</td>\n      <td>NaN</td>\n      <td>NaN</td>\n      <td>NaN</td>\n    </tr>\n    <tr>\n      <th>3</th>\n      <td>Austria</td>\n      <td>Germany</td>\n      <td>6005.96</td>\n      <td>500.0</td>\n      <td>0.0</td>\n      <td>NaN</td>\n    </tr>\n    <tr>\n      <th>4</th>\n      <td>Australia</td>\n      <td>Germany</td>\n      <td>21212.10</td>\n      <td>NaN</td>\n      <td>NaN</td>\n      <td>NaN</td>\n    </tr>\n    <tr>\n      <th>...</th>\n      <td>...</td>\n      <td>...</td>\n      <td>...</td>\n      <td>...</td>\n      <td>...</td>\n      <td>...</td>\n    </tr>\n    <tr>\n      <th>955</th>\n      <td>Philippines</td>\n      <td>China</td>\n      <td>1782.35</td>\n      <td>NaN</td>\n      <td>NaN</td>\n      <td>NaN</td>\n    </tr>\n    <tr>\n      <th>956</th>\n      <td>Iceland</td>\n      <td>China</td>\n      <td>20454.60</td>\n      <td>NaN</td>\n      <td>NaN</td>\n      <td>NaN</td>\n    </tr>\n    <tr>\n      <th>957</th>\n      <td>Papua New Guinea</td>\n      <td>China</td>\n      <td>6298.52</td>\n      <td>NaN</td>\n      <td>NaN</td>\n      <td>NaN</td>\n    </tr>\n    <tr>\n      <th>958</th>\n      <td>Cameroon</td>\n      <td>China</td>\n      <td>19717.70</td>\n      <td>NaN</td>\n      <td>NaN</td>\n      <td>NaN</td>\n    </tr>\n    <tr>\n      <th>959</th>\n      <td>South Africa</td>\n      <td>China</td>\n      <td>12853.50</td>\n      <td>NaN</td>\n      <td>NaN</td>\n      <td>NaN</td>\n    </tr>\n  </tbody>\n</table>\n<p>960 rows × 6 columns</p>\n</div>"
     },
     "execution_count": 25,
     "metadata": {},
     "output_type": "execute_result"
    }
   ],
   "source": [
    "tra_d = pd.read_excel(path, sheet_name='Transport Distances', decimal=',')\n",
    "tra_d"
   ],
   "metadata": {
    "collapsed": false,
    "pycharm": {
     "name": "#%%\n"
    }
   }
  },
  {
   "cell_type": "code",
   "execution_count": 26,
   "outputs": [
    {
     "data": {
      "text/plain": "300.0"
     },
     "execution_count": 26,
     "metadata": {},
     "output_type": "execute_result"
    }
   ],
   "source": [
    "# Onshore pipeline distance between two countries [km]\n",
    "d_on = float(tra_d[(tra_d['Origin_Country'] == 'Norway') & (tra_d['Destination_Country'] == 'Germany')]['onshore distance (km)'].values)\n",
    "d_on"
   ],
   "metadata": {
    "collapsed": false,
    "pycharm": {
     "name": "#%%\n"
    }
   }
  },
  {
   "cell_type": "code",
   "execution_count": 27,
   "outputs": [
    {
     "data": {
      "text/plain": "650.0"
     },
     "execution_count": 27,
     "metadata": {},
     "output_type": "execute_result"
    }
   ],
   "source": [
    "# Offshore pipeline distance between two countries [km]\n",
    "d_off = float(tra_d[(tra_d['Origin_Country'] == 'Norway') & (tra_d['Destination_Country'] == 'Germany')]['offshore distance (km)'].values)\n",
    "d_off"
   ],
   "metadata": {
    "collapsed": false,
    "pycharm": {
     "name": "#%%\n"
    }
   }
  },
  {
   "cell_type": "code",
   "execution_count": 28,
   "outputs": [
    {
     "data": {
      "text/plain": "260.0"
     },
     "execution_count": 28,
     "metadata": {},
     "output_type": "execute_result"
    }
   ],
   "source": [
    "# Compression capacity in [MWel/1000km]\n",
    "capa_comp = float(pipe.loc['Medium - Compression capacity @ 48inch [MW_el/1000km]']['Parameter'])\n",
    "capa_comp"
   ],
   "metadata": {
    "collapsed": false,
    "pycharm": {
     "name": "#%%\n"
    }
   }
  },
  {
   "cell_type": "code",
   "execution_count": 29,
   "outputs": [
    {
     "data": {
      "text/plain": "0.75"
     },
     "execution_count": 29,
     "metadata": {},
     "output_type": "execute_result"
    }
   ],
   "source": [
    "# Utilisation of the pipeline in %\n",
    "pipe_use = float(pipe.loc['Pipeline load factor [%]']['Parameter'])\n",
    "pipe_use"
   ],
   "metadata": {
    "collapsed": false,
    "pycharm": {
     "name": "#%%\n"
    }
   }
  },
  {
   "cell_type": "code",
   "execution_count": 30,
   "outputs": [
    {
     "data": {
      "text/plain": "3416741674.167417"
     },
     "execution_count": 30,
     "metadata": {},
     "output_type": "execute_result"
    }
   ],
   "source": [
    "#Capacity at full load factor [kg H2/a]\n",
    "capa_pipe = float(pipe.loc['Capacity at full load factor [kg H2/a]']['Parameter'])\n",
    "capa_pipe"
   ],
   "metadata": {
    "collapsed": false,
    "pycharm": {
     "name": "#%%\n"
    }
   }
  },
  {
   "cell_type": "markdown",
   "source": [
    "# Pipeline transport"
   ],
   "metadata": {
    "collapsed": false,
    "pycharm": {
     "name": "#%% md\n"
    }
   }
  },
  {
   "cell_type": "markdown",
   "source": [
    "Compression capacity in [MWel/1000km]\n",
    "Utilisation of the pipeline in %\n",
    "8760 h/a\n",
    "Capacity at full load factor [kg H2/a]\n",
    "Transport distance in [km]\n"
   ],
   "metadata": {
    "collapsed": false,
    "pycharm": {
     "name": "#%% md\n"
    }
   }
  },
  {
   "cell_type": "code",
   "execution_count": 31,
   "outputs": [
    {
     "data": {
      "text/plain": "0.4749525"
     },
     "execution_count": 31,
     "metadata": {},
     "output_type": "execute_result"
    }
   ],
   "source": [
    "# Calc. energy use for compression [kWh/kg_H2]\n",
    "en_comp = capa_comp * 1000 * pipe_use * 8760 / capa_pipe / 1000 * (d_on + d_off)\n",
    "en_comp"
   ],
   "metadata": {
    "collapsed": false,
    "pycharm": {
     "name": "#%%\n"
    }
   }
  },
  {
   "cell_type": "markdown",
   "source": [
    "Energy use per kg H2 delivered times emission factor for energy use.\n",
    "en_comp = Total energy use for compression [kWh/kg H2]\n",
    "EF_y_n = Emission factor of used energy in year y and country n [g CO2eq/kWh]"
   ],
   "metadata": {
    "collapsed": false,
    "pycharm": {
     "name": "#%% md\n"
    }
   }
  },
  {
   "cell_type": "code",
   "execution_count": 32,
   "outputs": [],
   "source": [
    "def Pipeline_emissions():\n",
    "\n",
    "    result = en_comp * EF_y_n\n",
    "    return result"
   ],
   "metadata": {
    "collapsed": false,
    "pycharm": {
     "name": "#%%\n"
    }
   }
  },
  {
   "cell_type": "markdown",
   "source": [
    "Calc. pipeline emissions over time"
   ],
   "metadata": {
    "collapsed": false,
    "pycharm": {
     "name": "#%% md\n"
    }
   }
  },
  {
   "cell_type": "markdown",
   "source": [
    "Using grid electricity for compression.\n",
    "Compressor station for subsea pipelines in exporting country.\n",
    "Emission factor for grid electricity in year y and country n [g CO2eq/kWh]\n",
    "Energy use for compression in [kWh/kg H2]"
   ],
   "metadata": {
    "collapsed": false,
    "pycharm": {
     "name": "#%% md\n"
    }
   }
  },
  {
   "cell_type": "code",
   "execution_count": 33,
   "outputs": [
    {
     "data": {
      "text/plain": "      Pipeline_emissions\nYears                   \n2025           10.269097\n2026            9.858333\n2027            9.447569\n2028            9.036805\n2029            8.626041\n2030            8.215277\n2031            7.804513\n2032             7.39375\n2033            6.982986\n2034            6.572222\n2035            6.161458\n2036            5.750694\n2037             5.33993\n2038            4.929166\n2039            4.518403\n2040            4.107639\n2041            3.696875\n2042            3.286111\n2043            2.875347\n2044            2.464583\n2045            2.053819\n2046            1.643055\n2047            1.232292\n2048            0.821528\n2049            0.410764\n2050                 0.0",
      "text/html": "<div>\n<style scoped>\n    .dataframe tbody tr th:only-of-type {\n        vertical-align: middle;\n    }\n\n    .dataframe tbody tr th {\n        vertical-align: top;\n    }\n\n    .dataframe thead th {\n        text-align: right;\n    }\n</style>\n<table border=\"1\" class=\"dataframe\">\n  <thead>\n    <tr style=\"text-align: right;\">\n      <th></th>\n      <th>Pipeline_emissions</th>\n    </tr>\n    <tr>\n      <th>Years</th>\n      <th></th>\n    </tr>\n  </thead>\n  <tbody>\n    <tr>\n      <th>2025</th>\n      <td>10.269097</td>\n    </tr>\n    <tr>\n      <th>2026</th>\n      <td>9.858333</td>\n    </tr>\n    <tr>\n      <th>2027</th>\n      <td>9.447569</td>\n    </tr>\n    <tr>\n      <th>2028</th>\n      <td>9.036805</td>\n    </tr>\n    <tr>\n      <th>2029</th>\n      <td>8.626041</td>\n    </tr>\n    <tr>\n      <th>2030</th>\n      <td>8.215277</td>\n    </tr>\n    <tr>\n      <th>2031</th>\n      <td>7.804513</td>\n    </tr>\n    <tr>\n      <th>2032</th>\n      <td>7.39375</td>\n    </tr>\n    <tr>\n      <th>2033</th>\n      <td>6.982986</td>\n    </tr>\n    <tr>\n      <th>2034</th>\n      <td>6.572222</td>\n    </tr>\n    <tr>\n      <th>2035</th>\n      <td>6.161458</td>\n    </tr>\n    <tr>\n      <th>2036</th>\n      <td>5.750694</td>\n    </tr>\n    <tr>\n      <th>2037</th>\n      <td>5.33993</td>\n    </tr>\n    <tr>\n      <th>2038</th>\n      <td>4.929166</td>\n    </tr>\n    <tr>\n      <th>2039</th>\n      <td>4.518403</td>\n    </tr>\n    <tr>\n      <th>2040</th>\n      <td>4.107639</td>\n    </tr>\n    <tr>\n      <th>2041</th>\n      <td>3.696875</td>\n    </tr>\n    <tr>\n      <th>2042</th>\n      <td>3.286111</td>\n    </tr>\n    <tr>\n      <th>2043</th>\n      <td>2.875347</td>\n    </tr>\n    <tr>\n      <th>2044</th>\n      <td>2.464583</td>\n    </tr>\n    <tr>\n      <th>2045</th>\n      <td>2.053819</td>\n    </tr>\n    <tr>\n      <th>2046</th>\n      <td>1.643055</td>\n    </tr>\n    <tr>\n      <th>2047</th>\n      <td>1.232292</td>\n    </tr>\n    <tr>\n      <th>2048</th>\n      <td>0.821528</td>\n    </tr>\n    <tr>\n      <th>2049</th>\n      <td>0.410764</td>\n    </tr>\n    <tr>\n      <th>2050</th>\n      <td>0.0</td>\n    </tr>\n  </tbody>\n</table>\n</div>"
     },
     "execution_count": 33,
     "metadata": {},
     "output_type": "execute_result"
    }
   ],
   "source": [
    "years = np.arange(2025,2051)\n",
    "result = pd.DataFrame(index=years, columns=['Pipeline_emissions'])\n",
    "result.index.name = 'Years'\n",
    "\n",
    "for year in years:\n",
    "\n",
    "    EF_y_n = float(GHG.loc['GHG intensity of electricity generation [g CO2eq/kWh] - Norway'][year])\n",
    "\n",
    "    result.Pipeline_emissions.loc[year] = Pipeline_emissions()\n",
    "\n",
    "result"
   ],
   "metadata": {
    "collapsed": false,
    "pycharm": {
     "name": "#%%\n"
    }
   }
  },
  {
   "cell_type": "code",
   "execution_count": 34,
   "outputs": [
    {
     "name": "stderr",
     "output_type": "stream",
     "text": [
      "C:\\Users\\REUTER\\AppData\\Local\\Temp\\ipykernel_5296\\986526507.py:4: FutureWarning: Setting the `book` attribute is not part of the public API, usage can give unexpected or corrupted results and will be removed in a future version\n",
      "  writer.book = book\n"
     ]
    },
    {
     "ename": "AttributeError",
     "evalue": "can't set attribute 'sheets'",
     "output_type": "error",
     "traceback": [
      "\u001B[1;31m---------------------------------------------------------------------------\u001B[0m",
      "\u001B[1;31mAttributeError\u001B[0m                            Traceback (most recent call last)",
      "Cell \u001B[1;32mIn [34], line 5\u001B[0m\n\u001B[0;32m      3\u001B[0m book \u001B[38;5;241m=\u001B[39m load_workbook(path)\n\u001B[0;32m      4\u001B[0m writer\u001B[38;5;241m.\u001B[39mbook \u001B[38;5;241m=\u001B[39m book\n\u001B[1;32m----> 5\u001B[0m writer\u001B[38;5;241m.\u001B[39msheets \u001B[38;5;241m=\u001B[39m \u001B[38;5;28mdict\u001B[39m((ws\u001B[38;5;241m.\u001B[39mtitle, ws) \u001B[38;5;28;01mfor\u001B[39;00m ws \u001B[38;5;129;01min\u001B[39;00m book\u001B[38;5;241m.\u001B[39mworksheets)\n\u001B[0;32m      7\u001B[0m ws \u001B[38;5;241m=\u001B[39m book[\u001B[38;5;124m'\u001B[39m\u001B[38;5;124mReference Results\u001B[39m\u001B[38;5;124m'\u001B[39m]\n\u001B[0;32m      9\u001B[0m result\u001B[38;5;241m.\u001B[39mto_excel(writer, sheet_name\u001B[38;5;241m=\u001B[39m\u001B[38;5;124m'\u001B[39m\u001B[38;5;124mReference Results\u001B[39m\u001B[38;5;124m'\u001B[39m, index\u001B[38;5;241m=\u001B[39m\u001B[38;5;28;01mFalse\u001B[39;00m, startcol\u001B[38;5;241m=\u001B[39mws\u001B[38;5;241m.\u001B[39mmax_column)\n",
      "\u001B[1;31mAttributeError\u001B[0m: can't set attribute 'sheets'"
     ]
    }
   ],
   "source": [
    "# export result to excel\n",
    "writer = pd.ExcelWriter(path, engine='openpyxl', mode='a', if_sheet_exists='overlay')\n",
    "book = load_workbook(path)\n",
    "writer.book = book\n",
    "writer.sheets = dict((ws.title, ws) for ws in book.worksheets)\n",
    "\n",
    "ws = book['Reference Results']\n",
    "\n",
    "result.to_excel(writer, sheet_name='Reference Results', index=False, startcol=ws.max_column)\n",
    "book.save(path)\n",
    "book.close()"
   ],
   "metadata": {
    "collapsed": false,
    "pycharm": {
     "name": "#%%\n"
    }
   }
  },
  {
   "cell_type": "code",
   "execution_count": null,
   "outputs": [],
   "source": [
    "Pipeline_emissions = result"
   ],
   "metadata": {
    "collapsed": false,
    "pycharm": {
     "name": "#%%\n"
    }
   }
  },
  {
   "cell_type": "markdown",
   "source": [
    "## Sensitivity"
   ],
   "metadata": {
    "collapsed": false,
    "pycharm": {
     "name": "#%% md\n"
    }
   }
  },
  {
   "cell_type": "code",
   "execution_count": 261,
   "outputs": [],
   "source": [
    "EF_y_n = 118"
   ],
   "metadata": {
    "collapsed": false,
    "pycharm": {
     "name": "#%%\n"
    }
   }
  },
  {
   "cell_type": "code",
   "execution_count": 262,
   "outputs": [],
   "source": [
    "sensitivity = []\n",
    "def Pipeline_emissions_sensi():\n",
    "\n",
    "    for x in range(21):\n",
    "        factor = x/10\n",
    "        result = en_comp * EF_y_n * factor\n",
    "\n",
    "        sensitivity.append(result)\n",
    "\n",
    "    return result"
   ],
   "metadata": {
    "collapsed": false,
    "pycharm": {
     "name": "#%%\n"
    }
   }
  },
  {
   "cell_type": "code",
   "execution_count": 263,
   "outputs": [
    {
     "data": {
      "text/plain": "112.08879"
     },
     "execution_count": 263,
     "metadata": {},
     "output_type": "execute_result"
    }
   ],
   "source": [
    "Pipeline_emissions_sensi()"
   ],
   "metadata": {
    "collapsed": false,
    "pycharm": {
     "name": "#%%\n"
    }
   }
  },
  {
   "cell_type": "code",
   "execution_count": 264,
   "outputs": [
    {
     "data": {
      "text/plain": "                                         Pipeline transport emission [g CO2eq/kg H2]\nElectricity emission factor change in %                                             \n0                                                                           0.000000\n1                                                                           5.604440\n2                                                                          11.208879\n3                                                                          16.813319\n4                                                                          22.417758\n5                                                                          28.022198\n6                                                                          33.626637\n7                                                                          39.231077\n8                                                                          44.835516\n9                                                                          50.439956\n10                                                                         56.044395\n11                                                                         61.648835\n12                                                                         67.253274\n13                                                                         72.857714\n14                                                                         78.462153\n15                                                                         84.066592\n16                                                                         89.671032\n17                                                                         95.275471\n18                                                                        100.879911\n19                                                                        106.484350\n20                                                                        112.088790",
      "text/html": "<div>\n<style scoped>\n    .dataframe tbody tr th:only-of-type {\n        vertical-align: middle;\n    }\n\n    .dataframe tbody tr th {\n        vertical-align: top;\n    }\n\n    .dataframe thead th {\n        text-align: right;\n    }\n</style>\n<table border=\"1\" class=\"dataframe\">\n  <thead>\n    <tr style=\"text-align: right;\">\n      <th></th>\n      <th>Pipeline transport emission [g CO2eq/kg H2]</th>\n    </tr>\n    <tr>\n      <th>Electricity emission factor change in %</th>\n      <th></th>\n    </tr>\n  </thead>\n  <tbody>\n    <tr>\n      <th>0</th>\n      <td>0.000000</td>\n    </tr>\n    <tr>\n      <th>1</th>\n      <td>5.604440</td>\n    </tr>\n    <tr>\n      <th>2</th>\n      <td>11.208879</td>\n    </tr>\n    <tr>\n      <th>3</th>\n      <td>16.813319</td>\n    </tr>\n    <tr>\n      <th>4</th>\n      <td>22.417758</td>\n    </tr>\n    <tr>\n      <th>5</th>\n      <td>28.022198</td>\n    </tr>\n    <tr>\n      <th>6</th>\n      <td>33.626637</td>\n    </tr>\n    <tr>\n      <th>7</th>\n      <td>39.231077</td>\n    </tr>\n    <tr>\n      <th>8</th>\n      <td>44.835516</td>\n    </tr>\n    <tr>\n      <th>9</th>\n      <td>50.439956</td>\n    </tr>\n    <tr>\n      <th>10</th>\n      <td>56.044395</td>\n    </tr>\n    <tr>\n      <th>11</th>\n      <td>61.648835</td>\n    </tr>\n    <tr>\n      <th>12</th>\n      <td>67.253274</td>\n    </tr>\n    <tr>\n      <th>13</th>\n      <td>72.857714</td>\n    </tr>\n    <tr>\n      <th>14</th>\n      <td>78.462153</td>\n    </tr>\n    <tr>\n      <th>15</th>\n      <td>84.066592</td>\n    </tr>\n    <tr>\n      <th>16</th>\n      <td>89.671032</td>\n    </tr>\n    <tr>\n      <th>17</th>\n      <td>95.275471</td>\n    </tr>\n    <tr>\n      <th>18</th>\n      <td>100.879911</td>\n    </tr>\n    <tr>\n      <th>19</th>\n      <td>106.484350</td>\n    </tr>\n    <tr>\n      <th>20</th>\n      <td>112.088790</td>\n    </tr>\n  </tbody>\n</table>\n</div>"
     },
     "execution_count": 264,
     "metadata": {},
     "output_type": "execute_result"
    }
   ],
   "source": [
    "pipeline_transport_sensi = pd.DataFrame(sensitivity, index=range(21), columns=['Pipeline transport emission [g CO2eq/kg H2]'])\n",
    "pipeline_transport_sensi.index.name = 'Electricity emission factor change in %'\n",
    "pipeline_transport_sensi"
   ],
   "metadata": {
    "collapsed": false,
    "pycharm": {
     "name": "#%%\n"
    }
   }
  },
  {
   "cell_type": "code",
   "execution_count": 265,
   "outputs": [],
   "source": [
    "# Create csv file from results dataframe\n",
    "output_file = os.path.join(path_csv, 'pipe_EF_sensi.csv')\n",
    "pipeline_transport_sensi.to_csv(output_file, sep=';')"
   ],
   "metadata": {
    "collapsed": false,
    "pycharm": {
     "name": "#%%\n"
    }
   }
  },
  {
   "cell_type": "markdown",
   "source": [
    "Plot emission breakdown for pipeline transport"
   ],
   "metadata": {
    "collapsed": false,
    "pycharm": {
     "name": "#%% md\n"
    }
   }
  },
  {
   "cell_type": "markdown",
   "source": [
    "# LH2 transport"
   ],
   "metadata": {
    "collapsed": false,
    "pycharm": {
     "name": "#%% md\n"
    }
   }
  },
  {
   "cell_type": "markdown",
   "source": [
    "Liquefaction energy use"
   ],
   "metadata": {
    "collapsed": false,
    "pycharm": {
     "name": "#%% md\n"
    }
   }
  },
  {
   "cell_type": "markdown",
   "source": [
    "Electricity use for liquefaction in [kWh/kg H2]\n",
    "Emission factor for grid electricity in year y and country n [g CO2eq/kWh]\n"
   ],
   "metadata": {
    "collapsed": false,
    "pycharm": {
     "name": "#%% md\n"
    }
   }
  },
  {
   "cell_type": "markdown",
   "source": [
    "## Liquefaction"
   ],
   "metadata": {
    "collapsed": false,
    "pycharm": {
     "name": "#%% md\n"
    }
   }
  },
  {
   "cell_type": "code",
   "execution_count": 50,
   "outputs": [],
   "source": [
    "def Conversion_emissions():\n",
    "    result = el_liq_y * EF_y_n\n",
    "    return result"
   ],
   "metadata": {
    "collapsed": false,
    "pycharm": {
     "name": "#%%\n"
    }
   }
  },
  {
   "cell_type": "code",
   "execution_count": 51,
   "outputs": [
    {
     "data": {
      "text/plain": "     LH2_Conversion_emissions\n2025                183.78116\n2026               174.354267\n2027               165.100346\n2028               156.019394\n2029               147.111413\n2030               138.376403\n2031               129.814363\n2032               121.425293\n2033               113.209195\n2034               105.166066\n2035                97.295908\n2036                89.598721\n2037                82.074504\n2038                74.723257\n2039                67.544982\n2040                60.539676\n2041                53.318158\n2042                46.356095\n2043                39.653488\n2044                33.210337\n2045                27.026641\n2046                21.102401\n2047                15.437617\n2048                10.032289\n2049                 4.886417\n2050                      0.0",
      "text/html": "<div>\n<style scoped>\n    .dataframe tbody tr th:only-of-type {\n        vertical-align: middle;\n    }\n\n    .dataframe tbody tr th {\n        vertical-align: top;\n    }\n\n    .dataframe thead th {\n        text-align: right;\n    }\n</style>\n<table border=\"1\" class=\"dataframe\">\n  <thead>\n    <tr style=\"text-align: right;\">\n      <th></th>\n      <th>LH2_Conversion_emissions</th>\n    </tr>\n  </thead>\n  <tbody>\n    <tr>\n      <th>2025</th>\n      <td>183.78116</td>\n    </tr>\n    <tr>\n      <th>2026</th>\n      <td>174.354267</td>\n    </tr>\n    <tr>\n      <th>2027</th>\n      <td>165.100346</td>\n    </tr>\n    <tr>\n      <th>2028</th>\n      <td>156.019394</td>\n    </tr>\n    <tr>\n      <th>2029</th>\n      <td>147.111413</td>\n    </tr>\n    <tr>\n      <th>2030</th>\n      <td>138.376403</td>\n    </tr>\n    <tr>\n      <th>2031</th>\n      <td>129.814363</td>\n    </tr>\n    <tr>\n      <th>2032</th>\n      <td>121.425293</td>\n    </tr>\n    <tr>\n      <th>2033</th>\n      <td>113.209195</td>\n    </tr>\n    <tr>\n      <th>2034</th>\n      <td>105.166066</td>\n    </tr>\n    <tr>\n      <th>2035</th>\n      <td>97.295908</td>\n    </tr>\n    <tr>\n      <th>2036</th>\n      <td>89.598721</td>\n    </tr>\n    <tr>\n      <th>2037</th>\n      <td>82.074504</td>\n    </tr>\n    <tr>\n      <th>2038</th>\n      <td>74.723257</td>\n    </tr>\n    <tr>\n      <th>2039</th>\n      <td>67.544982</td>\n    </tr>\n    <tr>\n      <th>2040</th>\n      <td>60.539676</td>\n    </tr>\n    <tr>\n      <th>2041</th>\n      <td>53.318158</td>\n    </tr>\n    <tr>\n      <th>2042</th>\n      <td>46.356095</td>\n    </tr>\n    <tr>\n      <th>2043</th>\n      <td>39.653488</td>\n    </tr>\n    <tr>\n      <th>2044</th>\n      <td>33.210337</td>\n    </tr>\n    <tr>\n      <th>2045</th>\n      <td>27.026641</td>\n    </tr>\n    <tr>\n      <th>2046</th>\n      <td>21.102401</td>\n    </tr>\n    <tr>\n      <th>2047</th>\n      <td>15.437617</td>\n    </tr>\n    <tr>\n      <th>2048</th>\n      <td>10.032289</td>\n    </tr>\n    <tr>\n      <th>2049</th>\n      <td>4.886417</td>\n    </tr>\n    <tr>\n      <th>2050</th>\n      <td>0.0</td>\n    </tr>\n  </tbody>\n</table>\n</div>"
     },
     "execution_count": 51,
     "metadata": {},
     "output_type": "execute_result"
    }
   ],
   "source": [
    "# Calc. liquefaction emissions over time [g CO2eq/kg H2]\n",
    "years = np.arange(2025, 2051)\n",
    "result = pd.DataFrame(index=years, columns=['LH2_Conversion_emissions'])\n",
    "for year in years:\n",
    "    el_liq_y = float(tea_lh2.loc['Liquefaction - Electricity consumption opt. [kWh/kgH2]'][year])\n",
    "    EF_y_n = float(GHG.loc['GHG intensity of electricity generation [g CO2eq/kWh] - Norway'][year])\n",
    "\n",
    "    result.LH2_Conversion_emissions.loc[year] = Conversion_emissions()\n",
    "\n",
    "result"
   ],
   "metadata": {
    "collapsed": false,
    "pycharm": {
     "name": "#%%\n"
    }
   }
  },
  {
   "cell_type": "code",
   "execution_count": 52,
   "outputs": [
    {
     "name": "stderr",
     "output_type": "stream",
     "text": [
      "C:\\Users\\REUTER\\AppData\\Local\\Temp\\ipykernel_5296\\986526507.py:4: FutureWarning: Setting the `book` attribute is not part of the public API, usage can give unexpected or corrupted results and will be removed in a future version\n",
      "  writer.book = book\n"
     ]
    },
    {
     "ename": "AttributeError",
     "evalue": "can't set attribute 'sheets'",
     "output_type": "error",
     "traceback": [
      "\u001B[1;31m---------------------------------------------------------------------------\u001B[0m",
      "\u001B[1;31mAttributeError\u001B[0m                            Traceback (most recent call last)",
      "Cell \u001B[1;32mIn [52], line 5\u001B[0m\n\u001B[0;32m      3\u001B[0m book \u001B[38;5;241m=\u001B[39m load_workbook(path)\n\u001B[0;32m      4\u001B[0m writer\u001B[38;5;241m.\u001B[39mbook \u001B[38;5;241m=\u001B[39m book\n\u001B[1;32m----> 5\u001B[0m writer\u001B[38;5;241m.\u001B[39msheets \u001B[38;5;241m=\u001B[39m \u001B[38;5;28mdict\u001B[39m((ws\u001B[38;5;241m.\u001B[39mtitle, ws) \u001B[38;5;28;01mfor\u001B[39;00m ws \u001B[38;5;129;01min\u001B[39;00m book\u001B[38;5;241m.\u001B[39mworksheets)\n\u001B[0;32m      7\u001B[0m ws \u001B[38;5;241m=\u001B[39m book[\u001B[38;5;124m'\u001B[39m\u001B[38;5;124mReference Results\u001B[39m\u001B[38;5;124m'\u001B[39m]\n\u001B[0;32m      9\u001B[0m result\u001B[38;5;241m.\u001B[39mto_excel(writer, sheet_name\u001B[38;5;241m=\u001B[39m\u001B[38;5;124m'\u001B[39m\u001B[38;5;124mReference Results\u001B[39m\u001B[38;5;124m'\u001B[39m, index\u001B[38;5;241m=\u001B[39m\u001B[38;5;28;01mFalse\u001B[39;00m, startcol\u001B[38;5;241m=\u001B[39mws\u001B[38;5;241m.\u001B[39mmax_column)\n",
      "\u001B[1;31mAttributeError\u001B[0m: can't set attribute 'sheets'"
     ]
    }
   ],
   "source": [
    "# export result to excel\n",
    "writer = pd.ExcelWriter(path, engine='openpyxl', mode='a', if_sheet_exists='overlay')\n",
    "book = load_workbook(path)\n",
    "writer.book = book\n",
    "writer.sheets = dict((ws.title, ws) for ws in book.worksheets)\n",
    "\n",
    "ws = book['Reference Results']\n",
    "\n",
    "result.to_excel(writer, sheet_name='Reference Results', index=False, startcol=ws.max_column)\n",
    "book.save(path)\n",
    "book.close()"
   ],
   "metadata": {
    "collapsed": false,
    "pycharm": {
     "name": "#%%\n"
    }
   }
  },
  {
   "cell_type": "code",
   "execution_count": 55,
   "outputs": [],
   "source": [
    "LH2_Conversion_emissions = result"
   ],
   "metadata": {
    "collapsed": false,
    "pycharm": {
     "name": "#%%\n"
    }
   }
  },
  {
   "cell_type": "code",
   "execution_count": null,
   "outputs": [],
   "source": [
    "output_file = os.path.join(path_csv,'LH2_Conversion_emissions.csv')\n",
    "result.to_csv(output_file, sep = ';')"
   ],
   "metadata": {
    "collapsed": false,
    "pycharm": {
     "name": "#%%\n"
    }
   }
  },
  {
   "cell_type": "markdown",
   "source": [
    "## Export terminal"
   ],
   "metadata": {
    "collapsed": false,
    "pycharm": {
     "name": "#%% md\n"
    }
   }
  },
  {
   "cell_type": "code",
   "execution_count": 123,
   "outputs": [
    {
     "data": {
      "text/plain": "0.61"
     },
     "execution_count": 123,
     "metadata": {},
     "output_type": "execute_result"
    }
   ],
   "source": [
    "# Electricity consumption for the export terminal [kWh/kg_h2]\n",
    "el_et = float(tea_lh2.loc['Export Terminal - Electricity use [kWh/kgH2]']['LH2'])\n",
    "el_et"
   ],
   "metadata": {
    "collapsed": false,
    "pycharm": {
     "name": "#%%\n"
    }
   }
  },
  {
   "cell_type": "code",
   "execution_count": 124,
   "outputs": [
    {
     "data": {
      "text/plain": "0.1"
     },
     "execution_count": 124,
     "metadata": {},
     "output_type": "execute_result"
    }
   ],
   "source": [
    "el_reliq = float(tea_lh2.loc['Export Terminal - Energy use to reliquefy opt. [kWh/kg H2/day]']['LH2'])\n",
    "el_reliq"
   ],
   "metadata": {
    "collapsed": false,
    "pycharm": {
     "name": "#%%\n"
    }
   }
  },
  {
   "cell_type": "code",
   "execution_count": 125,
   "outputs": [
    {
     "data": {
      "text/plain": "7.0"
     },
     "execution_count": 125,
     "metadata": {},
     "output_type": "execute_result"
    }
   ],
   "source": [
    "# Average storage time in the export terminal tanks in days\n",
    "t_et = float(tea_lh2.loc['Export Terminal - Storage length per load [Days]']['LH2'])\n",
    "t_et"
   ],
   "metadata": {
    "collapsed": false,
    "pycharm": {
     "name": "#%%\n"
    }
   }
  },
  {
   "cell_type": "code",
   "execution_count": 126,
   "outputs": [],
   "source": [
    "def ET_emissions():\n",
    "    result = (el_et + el_reliq * t_et) * EF_y_n\n",
    "    return result"
   ],
   "metadata": {
    "collapsed": false,
    "pycharm": {
     "name": "#%%\n"
    }
   }
  },
  {
   "cell_type": "code",
   "execution_count": 127,
   "outputs": [
    {
     "data": {
      "text/plain": "      LH2_Export_terminal_emissions\nYears                              \n2025                       28.32392\n2026                      27.190963\n2027                      26.058006\n2028                       24.92505\n2029                      23.792093\n2030                      22.659136\n2031                      21.526179\n2032                      20.393222\n2033                      19.260266\n2034                      18.127309\n2035                      16.994352\n2036                      15.861395\n2037                      14.728438\n2038                      13.595482\n2039                      12.462525\n2040                      11.329568\n2041                      10.196611\n2042                       9.063654\n2043                       7.930698\n2044                       6.797741\n2045                       5.664784\n2046                       4.531827\n2047                        3.39887\n2048                       2.265914\n2049                       1.132957\n2050                            0.0",
      "text/html": "<div>\n<style scoped>\n    .dataframe tbody tr th:only-of-type {\n        vertical-align: middle;\n    }\n\n    .dataframe tbody tr th {\n        vertical-align: top;\n    }\n\n    .dataframe thead th {\n        text-align: right;\n    }\n</style>\n<table border=\"1\" class=\"dataframe\">\n  <thead>\n    <tr style=\"text-align: right;\">\n      <th></th>\n      <th>LH2_Export_terminal_emissions</th>\n    </tr>\n    <tr>\n      <th>Years</th>\n      <th></th>\n    </tr>\n  </thead>\n  <tbody>\n    <tr>\n      <th>2025</th>\n      <td>28.32392</td>\n    </tr>\n    <tr>\n      <th>2026</th>\n      <td>27.190963</td>\n    </tr>\n    <tr>\n      <th>2027</th>\n      <td>26.058006</td>\n    </tr>\n    <tr>\n      <th>2028</th>\n      <td>24.92505</td>\n    </tr>\n    <tr>\n      <th>2029</th>\n      <td>23.792093</td>\n    </tr>\n    <tr>\n      <th>2030</th>\n      <td>22.659136</td>\n    </tr>\n    <tr>\n      <th>2031</th>\n      <td>21.526179</td>\n    </tr>\n    <tr>\n      <th>2032</th>\n      <td>20.393222</td>\n    </tr>\n    <tr>\n      <th>2033</th>\n      <td>19.260266</td>\n    </tr>\n    <tr>\n      <th>2034</th>\n      <td>18.127309</td>\n    </tr>\n    <tr>\n      <th>2035</th>\n      <td>16.994352</td>\n    </tr>\n    <tr>\n      <th>2036</th>\n      <td>15.861395</td>\n    </tr>\n    <tr>\n      <th>2037</th>\n      <td>14.728438</td>\n    </tr>\n    <tr>\n      <th>2038</th>\n      <td>13.595482</td>\n    </tr>\n    <tr>\n      <th>2039</th>\n      <td>12.462525</td>\n    </tr>\n    <tr>\n      <th>2040</th>\n      <td>11.329568</td>\n    </tr>\n    <tr>\n      <th>2041</th>\n      <td>10.196611</td>\n    </tr>\n    <tr>\n      <th>2042</th>\n      <td>9.063654</td>\n    </tr>\n    <tr>\n      <th>2043</th>\n      <td>7.930698</td>\n    </tr>\n    <tr>\n      <th>2044</th>\n      <td>6.797741</td>\n    </tr>\n    <tr>\n      <th>2045</th>\n      <td>5.664784</td>\n    </tr>\n    <tr>\n      <th>2046</th>\n      <td>4.531827</td>\n    </tr>\n    <tr>\n      <th>2047</th>\n      <td>3.39887</td>\n    </tr>\n    <tr>\n      <th>2048</th>\n      <td>2.265914</td>\n    </tr>\n    <tr>\n      <th>2049</th>\n      <td>1.132957</td>\n    </tr>\n    <tr>\n      <th>2050</th>\n      <td>0.0</td>\n    </tr>\n  </tbody>\n</table>\n</div>"
     },
     "execution_count": 127,
     "metadata": {},
     "output_type": "execute_result"
    }
   ],
   "source": [
    "# Calc. liquefaction emissions over time [g CO2eq/kg H2]\n",
    "years = np.arange(2025, 2051)\n",
    "result = pd.DataFrame(index=years, columns=['LH2_Export_terminal_emissions'])\n",
    "result.index.name = 'Years'\n",
    "\n",
    "for year in years:\n",
    "    EF_y_n = float(GHG.loc['GHG intensity of electricity generation [g CO2eq/kWh] - Norway'][year])\n",
    "\n",
    "    result.LH2_Export_terminal_emissions.loc[year] = ET_emissions()\n",
    "\n",
    "result"
   ],
   "metadata": {
    "collapsed": false,
    "pycharm": {
     "name": "#%%\n"
    }
   }
  },
  {
   "cell_type": "code",
   "execution_count": 71,
   "outputs": [],
   "source": [
    "LH2_Export_terminal_emissions = result"
   ],
   "metadata": {
    "collapsed": false,
    "pycharm": {
     "name": "#%%\n"
    }
   }
  },
  {
   "cell_type": "code",
   "execution_count": null,
   "outputs": [],
   "source": [
    "# export result to excel\n",
    "writer = pd.ExcelWriter(path, engine='openpyxl', mode='a', if_sheet_exists='overlay')\n",
    "book = load_workbook(path)\n",
    "writer.book = book\n",
    "writer.sheets = dict((ws.title, ws) for ws in book.worksheets)\n",
    "\n",
    "ws = book['Reference Results']\n",
    "\n",
    "result.to_excel(writer, sheet_name='Reference Results', index=False, startcol=ws.max_column)\n",
    "book.save(path)\n",
    "book.close()"
   ],
   "metadata": {
    "collapsed": false,
    "pycharm": {
     "name": "#%%\n"
    }
   }
  },
  {
   "cell_type": "code",
   "execution_count": null,
   "outputs": [],
   "source": [
    "output_file = os.path.join(path_csv,'LH2_Export_terminal_emissions.csv')\n",
    "result.to_csv(output_file, sep = ';')"
   ],
   "metadata": {
    "collapsed": false,
    "pycharm": {
     "name": "#%%\n"
    }
   }
  },
  {
   "cell_type": "code",
   "execution_count": 63,
   "outputs": [],
   "source": [],
   "metadata": {
    "collapsed": false,
    "pycharm": {
     "name": "#%%\n"
    }
   }
  },
  {
   "cell_type": "markdown",
   "source": [
    "## Shipping"
   ],
   "metadata": {
    "collapsed": false,
    "pycharm": {
     "name": "#%% md\n"
    }
   }
  },
  {
   "cell_type": "markdown",
   "source": [
    "Calc. emission factor for cargo/fuel"
   ],
   "metadata": {
    "collapsed": false,
    "pycharm": {
     "name": "#%% md\n"
    }
   }
  },
  {
   "cell_type": "code",
   "execution_count": null,
   "outputs": [],
   "source": [
    "# Cost of transported hydrogen in [$/kg_h2] in year y\n",
    "#LH2_Conversion_emissions = pd.read_csv(\n",
    "    \"/Users/jakob/PycharmProjects/H2_pathways_repo/data/processed/LH2_Conversion_emissions.csv\", delimiter=';',\n",
    "    decimal=',', index_col=0)\n",
    "#LH2_Export_terminal_emissions = pd.read_csv(\n",
    "    \"/Users/jakob/PycharmProjects/H2_pathways_repo/data/processed/LH2_Export_terminal_emissions.csv\", delimiter=';',\n",
    "    decimal=',', index_col=0)"
   ],
   "metadata": {
    "collapsed": false,
    "pycharm": {
     "name": "#%%\n"
    }
   }
  },
  {
   "cell_type": "code",
   "execution_count": 74,
   "outputs": [],
   "source": [
    "# Emissions of transported hydrogen carrier in [g CO2eq/kg_H2] in year y\n",
    "H2_emissions = (GHG.loc['Blue hydrogen emissions [kg CO2/kg H2] - Norway', 2025:2050]).apply(pd.to_numeric) * 1000\n",
    "Con_emissions = (LH2_Conversion_emissions.loc[::]['LH2_Conversion_emissions']).apply(pd.to_numeric)\n",
    "ET_emissions = (LH2_Export_terminal_emissions.loc[::]['LH2_Export_terminal_emissions']).apply(pd.to_numeric)"
   ],
   "metadata": {
    "collapsed": false,
    "pycharm": {
     "name": "#%%\n"
    }
   }
  },
  {
   "cell_type": "code",
   "execution_count": 112,
   "outputs": [
    {
     "data": {
      "text/plain": "      LH2_cargo_emissions\n2025          4963.505080\n2026          4847.225231\n2027          4731.118352\n2028          4615.184444\n2029          4499.423506\n2030          4383.835539\n2031          4268.420542\n2032          4153.178516\n2033          4038.109460\n2034          3923.213375\n2035          3808.490260\n2036          3693.940116\n2037          3579.562942\n2038          3465.358739\n2039          3351.327506\n2040          3237.469244\n2041          3123.394769\n2042          3009.579749\n2043          2896.024185\n2044          2782.728077\n2045          2669.691425\n2046          2556.914229\n2047          2444.396488\n2048          2332.138203\n2049          2220.139374\n2050          2108.400000",
      "text/html": "<div>\n<style scoped>\n    .dataframe tbody tr th:only-of-type {\n        vertical-align: middle;\n    }\n\n    .dataframe tbody tr th {\n        vertical-align: top;\n    }\n\n    .dataframe thead th {\n        text-align: right;\n    }\n</style>\n<table border=\"1\" class=\"dataframe\">\n  <thead>\n    <tr style=\"text-align: right;\">\n      <th></th>\n      <th>LH2_cargo_emissions</th>\n    </tr>\n  </thead>\n  <tbody>\n    <tr>\n      <th>2025</th>\n      <td>4963.505080</td>\n    </tr>\n    <tr>\n      <th>2026</th>\n      <td>4847.225231</td>\n    </tr>\n    <tr>\n      <th>2027</th>\n      <td>4731.118352</td>\n    </tr>\n    <tr>\n      <th>2028</th>\n      <td>4615.184444</td>\n    </tr>\n    <tr>\n      <th>2029</th>\n      <td>4499.423506</td>\n    </tr>\n    <tr>\n      <th>2030</th>\n      <td>4383.835539</td>\n    </tr>\n    <tr>\n      <th>2031</th>\n      <td>4268.420542</td>\n    </tr>\n    <tr>\n      <th>2032</th>\n      <td>4153.178516</td>\n    </tr>\n    <tr>\n      <th>2033</th>\n      <td>4038.109460</td>\n    </tr>\n    <tr>\n      <th>2034</th>\n      <td>3923.213375</td>\n    </tr>\n    <tr>\n      <th>2035</th>\n      <td>3808.490260</td>\n    </tr>\n    <tr>\n      <th>2036</th>\n      <td>3693.940116</td>\n    </tr>\n    <tr>\n      <th>2037</th>\n      <td>3579.562942</td>\n    </tr>\n    <tr>\n      <th>2038</th>\n      <td>3465.358739</td>\n    </tr>\n    <tr>\n      <th>2039</th>\n      <td>3351.327506</td>\n    </tr>\n    <tr>\n      <th>2040</th>\n      <td>3237.469244</td>\n    </tr>\n    <tr>\n      <th>2041</th>\n      <td>3123.394769</td>\n    </tr>\n    <tr>\n      <th>2042</th>\n      <td>3009.579749</td>\n    </tr>\n    <tr>\n      <th>2043</th>\n      <td>2896.024185</td>\n    </tr>\n    <tr>\n      <th>2044</th>\n      <td>2782.728077</td>\n    </tr>\n    <tr>\n      <th>2045</th>\n      <td>2669.691425</td>\n    </tr>\n    <tr>\n      <th>2046</th>\n      <td>2556.914229</td>\n    </tr>\n    <tr>\n      <th>2047</th>\n      <td>2444.396488</td>\n    </tr>\n    <tr>\n      <th>2048</th>\n      <td>2332.138203</td>\n    </tr>\n    <tr>\n      <th>2049</th>\n      <td>2220.139374</td>\n    </tr>\n    <tr>\n      <th>2050</th>\n      <td>2108.400000</td>\n    </tr>\n  </tbody>\n</table>\n</div>"
     },
     "execution_count": 112,
     "metadata": {},
     "output_type": "execute_result"
    }
   ],
   "source": [
    "# Emission of cargo in [g CO2eq/kg_H2]\n",
    "LH2_cargo_emissions = (H2_emissions + Con_emissions + ET_emissions).to_frame('LH2_cargo_emissions')\n",
    "LH2_cargo_emissions"
   ],
   "metadata": {
    "collapsed": false,
    "pycharm": {
     "name": "#%%\n"
    }
   }
  },
  {
   "cell_type": "code",
   "execution_count": 76,
   "outputs": [],
   "source": [
    "output_file = os.path.join(path_csv,'LH2_cargo_emissions.csv')\n",
    "result.to_csv(output_file, sep = ';')"
   ],
   "metadata": {
    "collapsed": false,
    "pycharm": {
     "name": "#%%\n"
    }
   }
  },
  {
   "cell_type": "code",
   "execution_count": 77,
   "outputs": [
    {
     "data": {
      "text/plain": "8.333333333333333e-05"
     },
     "execution_count": 77,
     "metadata": {},
     "output_type": "execute_result"
    }
   ],
   "source": [
    "# Boil-off when shipping in [%/day] to [%/hour]\n",
    "bog_ship = float(tea_lh2.loc['Shipping - Boil off opt. [%/day]']['LH2']) / 24\n",
    "bog_ship"
   ],
   "metadata": {
    "collapsed": false,
    "pycharm": {
     "name": "#%%\n"
    }
   }
  },
  {
   "cell_type": "code",
   "execution_count": 78,
   "outputs": [
    {
     "data": {
      "text/plain": "1.1265151515151516e-06"
     },
     "execution_count": 78,
     "metadata": {},
     "output_type": "execute_result"
    }
   ],
   "source": [
    "# Fuel consumption of a ship in [kg_h2/t/km]\n",
    "f_ship = float(tea_lh2.loc['Shipping - Fuel use [kg H2/t/km]']['LH2']) / 1000\n",
    "f_ship"
   ],
   "metadata": {
    "collapsed": false,
    "pycharm": {
     "name": "#%%\n"
    }
   }
  },
  {
   "cell_type": "code",
   "execution_count": 79,
   "outputs": [
    {
     "data": {
      "text/plain": "602.403"
     },
     "execution_count": 79,
     "metadata": {},
     "output_type": "execute_result"
    }
   ],
   "source": [
    "# Distance between countries via ship in [km]\n",
    "d_sea = float(tra_d[(tra_d['Origin_Country'] == 'Norway') & (tra_d['Destination_Country'] == 'Germany')][\n",
    "                  'sea distance (km)'].values)\n",
    "d_sea"
   ],
   "metadata": {
    "collapsed": false,
    "pycharm": {
     "name": "#%%\n"
    }
   }
  },
  {
   "cell_type": "code",
   "execution_count": 80,
   "outputs": [
    {
     "data": {
      "text/plain": "30.0"
     },
     "execution_count": 80,
     "metadata": {},
     "output_type": "execute_result"
    }
   ],
   "source": [
    "# Ship speed in [km/h]\n",
    "v_ship = float(tea_lh2.loc['Shipping - Ship speed [km/h]']['LH2'])\n",
    "v_ship"
   ],
   "metadata": {
    "collapsed": false,
    "pycharm": {
     "name": "#%%\n"
    }
   }
  },
  {
   "cell_type": "code",
   "execution_count": 81,
   "outputs": [],
   "source": [
    "#d_sea = 10000"
   ],
   "metadata": {
    "collapsed": false,
    "pycharm": {
     "name": "#%%\n"
    }
   }
  },
  {
   "cell_type": "markdown",
   "source": [
    "Calc. LH2 shipping emissions"
   ],
   "metadata": {
    "collapsed": false,
    "pycharm": {
     "name": "#%% md\n"
    }
   }
  },
  {
   "cell_type": "code",
   "execution_count": 82,
   "outputs": [],
   "source": [
    "def calculate_ship_emissions():\n",
    "    result = 1/(1-(bog_ship * d_sea/v_ship) - (f_ship  * d_sea)) \\\n",
    "             + (bog_ship * d_sea/v_ship + f_ship * d_sea) * LH2_cargo_ghg\n",
    "\n",
    "    return result"
   ],
   "metadata": {
    "collapsed": false,
    "pycharm": {
     "name": "#%%\n"
    }
   }
  },
  {
   "cell_type": "code",
   "execution_count": 83,
   "outputs": [
    {
     "data": {
      "text/plain": "      LH2_Shipping_emissions\nYears                       \n2025               12.676312\n2026               12.402827\n2027               12.129748\n2028               11.857076\n2029               11.584812\n2030               11.312954\n2031               11.041502\n2032               10.770458\n2033                10.49982\n2034                10.22959\n2035                9.959766\n2036                9.690349\n2037                9.421338\n2038                9.152735\n2039                8.884538\n2040                8.616748\n2041                 8.34845\n2042                8.080762\n2043                7.813684\n2044                7.547216\n2045                7.281359\n2046                7.016112\n2047                6.751475\n2048                6.487448\n2049                6.224032\n2050                5.961225",
      "text/html": "<div>\n<style scoped>\n    .dataframe tbody tr th:only-of-type {\n        vertical-align: middle;\n    }\n\n    .dataframe tbody tr th {\n        vertical-align: top;\n    }\n\n    .dataframe thead th {\n        text-align: right;\n    }\n</style>\n<table border=\"1\" class=\"dataframe\">\n  <thead>\n    <tr style=\"text-align: right;\">\n      <th></th>\n      <th>LH2_Shipping_emissions</th>\n    </tr>\n    <tr>\n      <th>Years</th>\n      <th></th>\n    </tr>\n  </thead>\n  <tbody>\n    <tr>\n      <th>2025</th>\n      <td>12.676312</td>\n    </tr>\n    <tr>\n      <th>2026</th>\n      <td>12.402827</td>\n    </tr>\n    <tr>\n      <th>2027</th>\n      <td>12.129748</td>\n    </tr>\n    <tr>\n      <th>2028</th>\n      <td>11.857076</td>\n    </tr>\n    <tr>\n      <th>2029</th>\n      <td>11.584812</td>\n    </tr>\n    <tr>\n      <th>2030</th>\n      <td>11.312954</td>\n    </tr>\n    <tr>\n      <th>2031</th>\n      <td>11.041502</td>\n    </tr>\n    <tr>\n      <th>2032</th>\n      <td>10.770458</td>\n    </tr>\n    <tr>\n      <th>2033</th>\n      <td>10.49982</td>\n    </tr>\n    <tr>\n      <th>2034</th>\n      <td>10.22959</td>\n    </tr>\n    <tr>\n      <th>2035</th>\n      <td>9.959766</td>\n    </tr>\n    <tr>\n      <th>2036</th>\n      <td>9.690349</td>\n    </tr>\n    <tr>\n      <th>2037</th>\n      <td>9.421338</td>\n    </tr>\n    <tr>\n      <th>2038</th>\n      <td>9.152735</td>\n    </tr>\n    <tr>\n      <th>2039</th>\n      <td>8.884538</td>\n    </tr>\n    <tr>\n      <th>2040</th>\n      <td>8.616748</td>\n    </tr>\n    <tr>\n      <th>2041</th>\n      <td>8.34845</td>\n    </tr>\n    <tr>\n      <th>2042</th>\n      <td>8.080762</td>\n    </tr>\n    <tr>\n      <th>2043</th>\n      <td>7.813684</td>\n    </tr>\n    <tr>\n      <th>2044</th>\n      <td>7.547216</td>\n    </tr>\n    <tr>\n      <th>2045</th>\n      <td>7.281359</td>\n    </tr>\n    <tr>\n      <th>2046</th>\n      <td>7.016112</td>\n    </tr>\n    <tr>\n      <th>2047</th>\n      <td>6.751475</td>\n    </tr>\n    <tr>\n      <th>2048</th>\n      <td>6.487448</td>\n    </tr>\n    <tr>\n      <th>2049</th>\n      <td>6.224032</td>\n    </tr>\n    <tr>\n      <th>2050</th>\n      <td>5.961225</td>\n    </tr>\n  </tbody>\n</table>\n</div>"
     },
     "execution_count": 83,
     "metadata": {},
     "output_type": "execute_result"
    }
   ],
   "source": [
    "# Calculation of shipping emissions [g CO2eq/kg_h2] from 2025 to 2050.\n",
    "years = np.arange(2025, 2051)\n",
    "result = pd.DataFrame(index=years, columns=['LH2_Shipping_emissions'])\n",
    "result.index.name = 'Years'\n",
    "\n",
    "for year in years:\n",
    "\n",
    "    LH2_cargo_ghg = float(LH2_cargo_emissions.loc[year]['LH2_cargo_emissions'])\n",
    "\n",
    "    # calculate emissions of specific year\n",
    "    result.LH2_Shipping_emissions.loc[year] = calculate_ship_emissions()\n",
    "\n",
    "result"
   ],
   "metadata": {
    "collapsed": false,
    "pycharm": {
     "name": "#%%\n"
    }
   }
  },
  {
   "cell_type": "code",
   "execution_count": 84,
   "outputs": [],
   "source": [
    "LH2_Shipping_emissions = result"
   ],
   "metadata": {
    "collapsed": false,
    "pycharm": {
     "name": "#%%\n"
    }
   }
  },
  {
   "cell_type": "code",
   "execution_count": 42,
   "outputs": [
    {
     "name": "stderr",
     "output_type": "stream",
     "text": [
      "C:\\Users\\REUTER\\AppData\\Local\\Temp\\ipykernel_5296\\986526507.py:4: FutureWarning: Setting the `book` attribute is not part of the public API, usage can give unexpected or corrupted results and will be removed in a future version\n",
      "  writer.book = book\n"
     ]
    },
    {
     "ename": "AttributeError",
     "evalue": "can't set attribute 'sheets'",
     "output_type": "error",
     "traceback": [
      "\u001B[1;31m---------------------------------------------------------------------------\u001B[0m",
      "\u001B[1;31mAttributeError\u001B[0m                            Traceback (most recent call last)",
      "Cell \u001B[1;32mIn [42], line 5\u001B[0m\n\u001B[0;32m      3\u001B[0m book \u001B[38;5;241m=\u001B[39m load_workbook(path)\n\u001B[0;32m      4\u001B[0m writer\u001B[38;5;241m.\u001B[39mbook \u001B[38;5;241m=\u001B[39m book\n\u001B[1;32m----> 5\u001B[0m writer\u001B[38;5;241m.\u001B[39msheets \u001B[38;5;241m=\u001B[39m \u001B[38;5;28mdict\u001B[39m((ws\u001B[38;5;241m.\u001B[39mtitle, ws) \u001B[38;5;28;01mfor\u001B[39;00m ws \u001B[38;5;129;01min\u001B[39;00m book\u001B[38;5;241m.\u001B[39mworksheets)\n\u001B[0;32m      7\u001B[0m ws \u001B[38;5;241m=\u001B[39m book[\u001B[38;5;124m'\u001B[39m\u001B[38;5;124mReference Results\u001B[39m\u001B[38;5;124m'\u001B[39m]\n\u001B[0;32m      9\u001B[0m result\u001B[38;5;241m.\u001B[39mto_excel(writer, sheet_name\u001B[38;5;241m=\u001B[39m\u001B[38;5;124m'\u001B[39m\u001B[38;5;124mReference Results\u001B[39m\u001B[38;5;124m'\u001B[39m, index\u001B[38;5;241m=\u001B[39m\u001B[38;5;28;01mFalse\u001B[39;00m, startcol\u001B[38;5;241m=\u001B[39mws\u001B[38;5;241m.\u001B[39mmax_column)\n",
      "\u001B[1;31mAttributeError\u001B[0m: can't set attribute 'sheets'"
     ]
    }
   ],
   "source": [
    "# export result to excel\n",
    "writer = pd.ExcelWriter(path, engine='openpyxl', mode='a', if_sheet_exists='overlay')\n",
    "book = load_workbook(path)\n",
    "writer.book = book\n",
    "writer.sheets = dict((ws.title, ws) for ws in book.worksheets)\n",
    "\n",
    "ws = book['Reference Results']\n",
    "\n",
    "result.to_excel(writer, sheet_name='Reference Results', index=False, startcol=ws.max_column)\n",
    "book.save(path)\n",
    "book.close()"
   ],
   "metadata": {
    "collapsed": false,
    "pycharm": {
     "name": "#%%\n"
    }
   }
  },
  {
   "cell_type": "code",
   "execution_count": null,
   "outputs": [],
   "source": [
    "output_file = os.path.join(path_csv,'LH2_Shipping_emissions.csv')\n",
    "result.to_csv(output_file, sep = ';')"
   ],
   "metadata": {
    "collapsed": false,
    "pycharm": {
     "name": "#%%\n"
    }
   }
  },
  {
   "cell_type": "code",
   "execution_count": 58,
   "outputs": [],
   "source": [],
   "metadata": {
    "collapsed": false,
    "pycharm": {
     "name": "#%%\n"
    }
   }
  },
  {
   "cell_type": "markdown",
   "source": [
    "## Import terminal\n"
   ],
   "metadata": {
    "collapsed": false,
    "pycharm": {
     "name": "#%% md\n"
    }
   }
  },
  {
   "cell_type": "code",
   "execution_count": 85,
   "outputs": [
    {
     "data": {
      "text/plain": "0.2"
     },
     "execution_count": 85,
     "metadata": {},
     "output_type": "execute_result"
    }
   ],
   "source": [
    "# Electricity consumption for the import terminal [kWh/kg_h2]\n",
    "el_it = float(tea_lh2.loc['Import Terminal - Electricity use [kWh/kg H2]']['LH2'])\n",
    "el_it"
   ],
   "metadata": {
    "collapsed": false,
    "pycharm": {
     "name": "#%%\n"
    }
   }
  },
  {
   "cell_type": "code",
   "execution_count": 86,
   "outputs": [
    {
     "data": {
      "text/plain": "0.1"
     },
     "execution_count": 86,
     "metadata": {},
     "output_type": "execute_result"
    }
   ],
   "source": [
    "# Electricity consumption to reliquefy BOG [kWh/kg_h2]\n",
    "el_reliq = float(tea_lh2.loc['Import Terminal - Energy use to reliquefy opt. [kWh/kg H2/day]']['LH2'])\n",
    "el_reliq"
   ],
   "metadata": {
    "collapsed": false,
    "pycharm": {
     "name": "#%%\n"
    }
   }
  },
  {
   "cell_type": "code",
   "execution_count": 87,
   "outputs": [
    {
     "data": {
      "text/plain": "7.0"
     },
     "execution_count": 87,
     "metadata": {},
     "output_type": "execute_result"
    }
   ],
   "source": [
    "# Average storage time in the import terminal tanks in days\n",
    "t_it = float(tea_lh2.loc['Import Terminal - Storage length per load [days]']['LH2'])\n",
    "t_it"
   ],
   "metadata": {
    "collapsed": false,
    "pycharm": {
     "name": "#%%\n"
    }
   }
  },
  {
   "cell_type": "markdown",
   "source": [],
   "metadata": {
    "collapsed": false,
    "pycharm": {
     "name": "#%% md\n"
    }
   }
  },
  {
   "cell_type": "code",
   "execution_count": 88,
   "outputs": [
    {
     "data": {
      "text/plain": "      LH2_Import_terminal_emissions\nYears                              \n2025                         292.28\n2026                          274.9\n2027                         257.52\n2028                         240.14\n2029                         222.76\n2030                         205.38\n2031                       191.8836\n2032                       178.3872\n2033                       164.8908\n2034                       151.3944\n2035                        137.898\n2036                       124.4016\n2037                       110.9052\n2038                        97.4088\n2039                        83.9124\n2040                         70.416\n2041                        56.3328\n2042                        42.2496\n2043                        28.1664\n2044                        14.0832\n2045                            0.0\n2046                            0.0\n2047                            0.0\n2048                            0.0\n2049                            0.0\n2050                            0.0",
      "text/html": "<div>\n<style scoped>\n    .dataframe tbody tr th:only-of-type {\n        vertical-align: middle;\n    }\n\n    .dataframe tbody tr th {\n        vertical-align: top;\n    }\n\n    .dataframe thead th {\n        text-align: right;\n    }\n</style>\n<table border=\"1\" class=\"dataframe\">\n  <thead>\n    <tr style=\"text-align: right;\">\n      <th></th>\n      <th>LH2_Import_terminal_emissions</th>\n    </tr>\n    <tr>\n      <th>Years</th>\n      <th></th>\n    </tr>\n  </thead>\n  <tbody>\n    <tr>\n      <th>2025</th>\n      <td>292.28</td>\n    </tr>\n    <tr>\n      <th>2026</th>\n      <td>274.9</td>\n    </tr>\n    <tr>\n      <th>2027</th>\n      <td>257.52</td>\n    </tr>\n    <tr>\n      <th>2028</th>\n      <td>240.14</td>\n    </tr>\n    <tr>\n      <th>2029</th>\n      <td>222.76</td>\n    </tr>\n    <tr>\n      <th>2030</th>\n      <td>205.38</td>\n    </tr>\n    <tr>\n      <th>2031</th>\n      <td>191.8836</td>\n    </tr>\n    <tr>\n      <th>2032</th>\n      <td>178.3872</td>\n    </tr>\n    <tr>\n      <th>2033</th>\n      <td>164.8908</td>\n    </tr>\n    <tr>\n      <th>2034</th>\n      <td>151.3944</td>\n    </tr>\n    <tr>\n      <th>2035</th>\n      <td>137.898</td>\n    </tr>\n    <tr>\n      <th>2036</th>\n      <td>124.4016</td>\n    </tr>\n    <tr>\n      <th>2037</th>\n      <td>110.9052</td>\n    </tr>\n    <tr>\n      <th>2038</th>\n      <td>97.4088</td>\n    </tr>\n    <tr>\n      <th>2039</th>\n      <td>83.9124</td>\n    </tr>\n    <tr>\n      <th>2040</th>\n      <td>70.416</td>\n    </tr>\n    <tr>\n      <th>2041</th>\n      <td>56.3328</td>\n    </tr>\n    <tr>\n      <th>2042</th>\n      <td>42.2496</td>\n    </tr>\n    <tr>\n      <th>2043</th>\n      <td>28.1664</td>\n    </tr>\n    <tr>\n      <th>2044</th>\n      <td>14.0832</td>\n    </tr>\n    <tr>\n      <th>2045</th>\n      <td>0.0</td>\n    </tr>\n    <tr>\n      <th>2046</th>\n      <td>0.0</td>\n    </tr>\n    <tr>\n      <th>2047</th>\n      <td>0.0</td>\n    </tr>\n    <tr>\n      <th>2048</th>\n      <td>0.0</td>\n    </tr>\n    <tr>\n      <th>2049</th>\n      <td>0.0</td>\n    </tr>\n    <tr>\n      <th>2050</th>\n      <td>0.0</td>\n    </tr>\n  </tbody>\n</table>\n</div>"
     },
     "execution_count": 88,
     "metadata": {},
     "output_type": "execute_result"
    }
   ],
   "source": [
    "def IT_emissions():\n",
    "    result = (el_it + el_reliq * t_it) * EF_y_n\n",
    "    return result\n",
    "\n",
    "\n",
    "# Calc. liquefaction emissions over time [g CO2eq/kg H2]\n",
    "years = np.arange(2025, 2051)\n",
    "result = pd.DataFrame(index=years, columns=['LH2_Import_terminal_emissions'])\n",
    "result.index.name = 'Years'\n",
    "\n",
    "for year in years:\n",
    "    EF_y_n = float(GHG.loc['GHG intensity of electricity generation [g CO2eq/kWh] - Germany'][year])\n",
    "\n",
    "    result.LH2_Import_terminal_emissions.loc[year] = IT_emissions()\n",
    "\n",
    "result"
   ],
   "metadata": {
    "collapsed": false,
    "pycharm": {
     "name": "#%%\n"
    }
   }
  },
  {
   "cell_type": "code",
   "execution_count": 89,
   "outputs": [],
   "source": [
    "LH2_Import_terminal_emissions = result"
   ],
   "metadata": {
    "collapsed": false,
    "pycharm": {
     "name": "#%%\n"
    }
   }
  },
  {
   "cell_type": "code",
   "execution_count": 43,
   "outputs": [
    {
     "name": "stderr",
     "output_type": "stream",
     "text": [
      "C:\\Users\\REUTER\\AppData\\Local\\Temp\\ipykernel_5296\\986526507.py:4: FutureWarning: Setting the `book` attribute is not part of the public API, usage can give unexpected or corrupted results and will be removed in a future version\n",
      "  writer.book = book\n"
     ]
    },
    {
     "ename": "AttributeError",
     "evalue": "can't set attribute 'sheets'",
     "output_type": "error",
     "traceback": [
      "\u001B[1;31m---------------------------------------------------------------------------\u001B[0m",
      "\u001B[1;31mAttributeError\u001B[0m                            Traceback (most recent call last)",
      "Cell \u001B[1;32mIn [43], line 5\u001B[0m\n\u001B[0;32m      3\u001B[0m book \u001B[38;5;241m=\u001B[39m load_workbook(path)\n\u001B[0;32m      4\u001B[0m writer\u001B[38;5;241m.\u001B[39mbook \u001B[38;5;241m=\u001B[39m book\n\u001B[1;32m----> 5\u001B[0m writer\u001B[38;5;241m.\u001B[39msheets \u001B[38;5;241m=\u001B[39m \u001B[38;5;28mdict\u001B[39m((ws\u001B[38;5;241m.\u001B[39mtitle, ws) \u001B[38;5;28;01mfor\u001B[39;00m ws \u001B[38;5;129;01min\u001B[39;00m book\u001B[38;5;241m.\u001B[39mworksheets)\n\u001B[0;32m      7\u001B[0m ws \u001B[38;5;241m=\u001B[39m book[\u001B[38;5;124m'\u001B[39m\u001B[38;5;124mReference Results\u001B[39m\u001B[38;5;124m'\u001B[39m]\n\u001B[0;32m      9\u001B[0m result\u001B[38;5;241m.\u001B[39mto_excel(writer, sheet_name\u001B[38;5;241m=\u001B[39m\u001B[38;5;124m'\u001B[39m\u001B[38;5;124mReference Results\u001B[39m\u001B[38;5;124m'\u001B[39m, index\u001B[38;5;241m=\u001B[39m\u001B[38;5;28;01mFalse\u001B[39;00m, startcol\u001B[38;5;241m=\u001B[39mws\u001B[38;5;241m.\u001B[39mmax_column)\n",
      "\u001B[1;31mAttributeError\u001B[0m: can't set attribute 'sheets'"
     ]
    }
   ],
   "source": [
    "# export result to excel\n",
    "writer = pd.ExcelWriter(path, engine='openpyxl', mode='a', if_sheet_exists='overlay')\n",
    "book = load_workbook(path)\n",
    "writer.book = book\n",
    "writer.sheets = dict((ws.title, ws) for ws in book.worksheets)\n",
    "\n",
    "ws = book['Reference Results']\n",
    "\n",
    "result.to_excel(writer, sheet_name='Reference Results', index=False, startcol=ws.max_column)\n",
    "book.save(path)\n",
    "book.close()"
   ],
   "metadata": {
    "collapsed": false,
    "pycharm": {
     "name": "#%%\n"
    }
   }
  },
  {
   "cell_type": "code",
   "execution_count": null,
   "outputs": [],
   "source": [
    "output_file = os.path.join(path_csv, 'LH2_Import_terminal_emissions.csv')\n",
    "result.to_csv(output_file, sep=';')"
   ],
   "metadata": {
    "collapsed": false,
    "pycharm": {
     "name": "#%%\n"
    }
   }
  },
  {
   "cell_type": "code",
   "execution_count": 59,
   "outputs": [],
   "source": [],
   "metadata": {
    "collapsed": false,
    "pycharm": {
     "name": "#%%\n"
    }
   }
  },
  {
   "cell_type": "markdown",
   "source": [
    "## Reconversion\n"
   ],
   "metadata": {
    "collapsed": false,
    "pycharm": {
     "name": "#%% md\n"
    }
   }
  },
  {
   "cell_type": "code",
   "execution_count": 90,
   "outputs": [],
   "source": [
    "def calculate_recon_emissions():\n",
    "    result = el_recon_y * EF_y_n\n",
    "    return result"
   ],
   "metadata": {
    "collapsed": false,
    "pycharm": {
     "name": "#%%\n"
    }
   }
  },
  {
   "cell_type": "code",
   "execution_count": 91,
   "outputs": [],
   "source": [
    "years = np.arange(2025, 2051)\n",
    "result = pd.DataFrame(index=years, columns=['LH2_Reconversion_emissions'])\n",
    "result.index.name = 'Years'"
   ],
   "metadata": {
    "collapsed": false,
    "pycharm": {
     "name": "#%%\n"
    }
   }
  },
  {
   "cell_type": "code",
   "execution_count": 92,
   "outputs": [
    {
     "data": {
      "text/plain": "      LH2_Reconversion_emissions\nYears                           \n2025                  227.328889\n2026                  207.702222\n2027                     188.848\n2028                  170.766222\n2029                  153.456889\n2030                      136.92\n2031                   123.65832\n2032                   110.99648\n2033                    98.93448\n2034                    87.47232\n2035                       76.61\n2036                    66.34752\n2037                    56.68488\n2038                    47.62208\n2039                    39.15912\n2040                      31.296\n2041                    23.78496\n2042                    16.89984\n2043                    10.64064\n2044                     5.00736\n2045                         0.0\n2046                         0.0\n2047                         0.0\n2048                         0.0\n2049                         0.0\n2050                         0.0",
      "text/html": "<div>\n<style scoped>\n    .dataframe tbody tr th:only-of-type {\n        vertical-align: middle;\n    }\n\n    .dataframe tbody tr th {\n        vertical-align: top;\n    }\n\n    .dataframe thead th {\n        text-align: right;\n    }\n</style>\n<table border=\"1\" class=\"dataframe\">\n  <thead>\n    <tr style=\"text-align: right;\">\n      <th></th>\n      <th>LH2_Reconversion_emissions</th>\n    </tr>\n    <tr>\n      <th>Years</th>\n      <th></th>\n    </tr>\n  </thead>\n  <tbody>\n    <tr>\n      <th>2025</th>\n      <td>227.328889</td>\n    </tr>\n    <tr>\n      <th>2026</th>\n      <td>207.702222</td>\n    </tr>\n    <tr>\n      <th>2027</th>\n      <td>188.848</td>\n    </tr>\n    <tr>\n      <th>2028</th>\n      <td>170.766222</td>\n    </tr>\n    <tr>\n      <th>2029</th>\n      <td>153.456889</td>\n    </tr>\n    <tr>\n      <th>2030</th>\n      <td>136.92</td>\n    </tr>\n    <tr>\n      <th>2031</th>\n      <td>123.65832</td>\n    </tr>\n    <tr>\n      <th>2032</th>\n      <td>110.99648</td>\n    </tr>\n    <tr>\n      <th>2033</th>\n      <td>98.93448</td>\n    </tr>\n    <tr>\n      <th>2034</th>\n      <td>87.47232</td>\n    </tr>\n    <tr>\n      <th>2035</th>\n      <td>76.61</td>\n    </tr>\n    <tr>\n      <th>2036</th>\n      <td>66.34752</td>\n    </tr>\n    <tr>\n      <th>2037</th>\n      <td>56.68488</td>\n    </tr>\n    <tr>\n      <th>2038</th>\n      <td>47.62208</td>\n    </tr>\n    <tr>\n      <th>2039</th>\n      <td>39.15912</td>\n    </tr>\n    <tr>\n      <th>2040</th>\n      <td>31.296</td>\n    </tr>\n    <tr>\n      <th>2041</th>\n      <td>23.78496</td>\n    </tr>\n    <tr>\n      <th>2042</th>\n      <td>16.89984</td>\n    </tr>\n    <tr>\n      <th>2043</th>\n      <td>10.64064</td>\n    </tr>\n    <tr>\n      <th>2044</th>\n      <td>5.00736</td>\n    </tr>\n    <tr>\n      <th>2045</th>\n      <td>0.0</td>\n    </tr>\n    <tr>\n      <th>2046</th>\n      <td>0.0</td>\n    </tr>\n    <tr>\n      <th>2047</th>\n      <td>0.0</td>\n    </tr>\n    <tr>\n      <th>2048</th>\n      <td>0.0</td>\n    </tr>\n    <tr>\n      <th>2049</th>\n      <td>0.0</td>\n    </tr>\n    <tr>\n      <th>2050</th>\n      <td>0.0</td>\n    </tr>\n  </tbody>\n</table>\n</div>"
     },
     "execution_count": 92,
     "metadata": {},
     "output_type": "execute_result"
    }
   ],
   "source": [
    "for year in years:\n",
    "\n",
    "    el_recon_y = float(tea_lh2.loc['Reconversion - Electricity consumption opt. [kWh/kg H2]'][year])\n",
    "    EF_y_n = float(GHG.loc['GHG intensity of electricity generation [g CO2eq/kWh] - Germany'][year])\n",
    "\n",
    "    # calculate emissions of specific year\n",
    "    result.LH2_Reconversion_emissions.loc[year] = calculate_recon_emissions()\n",
    "result"
   ],
   "metadata": {
    "collapsed": false,
    "pycharm": {
     "name": "#%%\n"
    }
   }
  },
  {
   "cell_type": "code",
   "execution_count": 93,
   "outputs": [],
   "source": [
    "LH2_Reconversion_emissions = result"
   ],
   "metadata": {
    "collapsed": false,
    "pycharm": {
     "name": "#%%\n"
    }
   }
  },
  {
   "cell_type": "code",
   "execution_count": null,
   "outputs": [],
   "source": [
    "# export result to excel\n",
    "writer = pd.ExcelWriter(path, engine='openpyxl', mode='a', if_sheet_exists='overlay')\n",
    "book = load_workbook(path)\n",
    "writer.book = book\n",
    "writer.sheets = dict((ws.title, ws) for ws in book.worksheets)\n",
    "\n",
    "ws = book['Reference Results']\n",
    "\n",
    "result.to_excel(writer, sheet_name='Reference Results', index=False, startcol=ws.max_column)\n",
    "book.save(path)\n",
    "book.close()"
   ],
   "metadata": {
    "collapsed": false,
    "pycharm": {
     "name": "#%%\n"
    }
   }
  },
  {
   "cell_type": "code",
   "execution_count": null,
   "outputs": [],
   "source": [
    "path_csv = r'/Users/jakob/PycharmProjects/H2_pathways_repo/data/processed'\n",
    "output_file = os.path.join(path_csv, 'LH2_Reconversion_emissions.csv')\n",
    "result.to_csv(output_file, sep=';')"
   ],
   "metadata": {
    "collapsed": false,
    "pycharm": {
     "name": "#%%\n"
    }
   }
  },
  {
   "cell_type": "code",
   "execution_count": 60,
   "outputs": [],
   "source": [],
   "metadata": {
    "collapsed": false,
    "pycharm": {
     "name": "#%%\n"
    }
   }
  },
  {
   "cell_type": "markdown",
   "source": [
    "## Total LH2 transport emissions"
   ],
   "metadata": {
    "collapsed": false,
    "pycharm": {
     "name": "#%% md\n"
    }
   }
  },
  {
   "cell_type": "markdown",
   "source": [
    "con_em = pd.read_csv('/Users/jakob/PycharmProjects/H2_pathways_repo/data/processed/LH2_Conversion_emissions.csv', delimiter=';', decimal=',', index_col= 0)\n",
    "et_em = pd.read_csv('/Users/jakob/PycharmProjects/H2_pathways_repo/data/processed/LH2_Export_terminal_emissions.csv', delimiter=';', decimal=',', index_col= 0)\n",
    "ship_em = pd.read_csv('/Users/jakob/PycharmProjects/H2_pathways_repo/data/processed/LH2_Shipping_emissions.csv', delimiter=';', decimal=',', index_col= 0)\n",
    "it_em = pd.read_csv('/Users/jakob/PycharmProjects/H2_pathways_repo/data/processed/LH2_Import_terminal_emissions.csv', delimiter=';', decimal=',', index_col= 0)\n",
    "recon_em = pd.read_csv('/Users/jakob/PycharmProjects/H2_pathways_repo/data/processed/LH2_Reconversion_emissions.csv', delimiter=';', decimal=',', index_col= 0)"
   ],
   "metadata": {
    "collapsed": false,
    "pycharm": {
     "name": "#%% md\n"
    }
   }
  },
  {
   "cell_type": "code",
   "execution_count": 94,
   "outputs": [],
   "source": [
    "years = np.arange(2025, 2051)\n",
    "result = pd.DataFrame(index=years, columns=['LH2_transport_emissions'])\n",
    "result.index.name = 'Years'"
   ],
   "metadata": {
    "collapsed": false,
    "pycharm": {
     "name": "#%%\n"
    }
   }
  },
  {
   "cell_type": "code",
   "execution_count": 95,
   "outputs": [],
   "source": [
    "# [g CO2eq/kg H2]\n",
    "def calculate_LH2_transport_emissions():\n",
    "    result = CE + EE + SE + IE + RE\n",
    "\n",
    "    return result"
   ],
   "metadata": {
    "collapsed": false,
    "pycharm": {
     "name": "#%%\n"
    }
   }
  },
  {
   "cell_type": "code",
   "execution_count": 96,
   "outputs": [
    {
     "data": {
      "text/plain": "      LH2_transport_emissions\nYears                        \n2025               744.390281\n2026               696.550279\n2027                 649.6561\n2028               603.707742\n2029               558.705206\n2030               514.648492\n2031               477.923964\n2032               441.972654\n2033               406.794561\n2034               372.389685\n2035               338.758026\n2036               305.899585\n2037               273.814361\n2038               242.502354\n2039               211.963565\n2040               182.197993\n2041               151.980979\n2042               122.649951\n2043                 94.20491\n2044                66.645854\n2045                39.972784\n2046                 32.65034\n2047                25.587963\n2048                18.785651\n2049                12.243405\n2050                 5.961225",
      "text/html": "<div>\n<style scoped>\n    .dataframe tbody tr th:only-of-type {\n        vertical-align: middle;\n    }\n\n    .dataframe tbody tr th {\n        vertical-align: top;\n    }\n\n    .dataframe thead th {\n        text-align: right;\n    }\n</style>\n<table border=\"1\" class=\"dataframe\">\n  <thead>\n    <tr style=\"text-align: right;\">\n      <th></th>\n      <th>LH2_transport_emissions</th>\n    </tr>\n    <tr>\n      <th>Years</th>\n      <th></th>\n    </tr>\n  </thead>\n  <tbody>\n    <tr>\n      <th>2025</th>\n      <td>744.390281</td>\n    </tr>\n    <tr>\n      <th>2026</th>\n      <td>696.550279</td>\n    </tr>\n    <tr>\n      <th>2027</th>\n      <td>649.6561</td>\n    </tr>\n    <tr>\n      <th>2028</th>\n      <td>603.707742</td>\n    </tr>\n    <tr>\n      <th>2029</th>\n      <td>558.705206</td>\n    </tr>\n    <tr>\n      <th>2030</th>\n      <td>514.648492</td>\n    </tr>\n    <tr>\n      <th>2031</th>\n      <td>477.923964</td>\n    </tr>\n    <tr>\n      <th>2032</th>\n      <td>441.972654</td>\n    </tr>\n    <tr>\n      <th>2033</th>\n      <td>406.794561</td>\n    </tr>\n    <tr>\n      <th>2034</th>\n      <td>372.389685</td>\n    </tr>\n    <tr>\n      <th>2035</th>\n      <td>338.758026</td>\n    </tr>\n    <tr>\n      <th>2036</th>\n      <td>305.899585</td>\n    </tr>\n    <tr>\n      <th>2037</th>\n      <td>273.814361</td>\n    </tr>\n    <tr>\n      <th>2038</th>\n      <td>242.502354</td>\n    </tr>\n    <tr>\n      <th>2039</th>\n      <td>211.963565</td>\n    </tr>\n    <tr>\n      <th>2040</th>\n      <td>182.197993</td>\n    </tr>\n    <tr>\n      <th>2041</th>\n      <td>151.980979</td>\n    </tr>\n    <tr>\n      <th>2042</th>\n      <td>122.649951</td>\n    </tr>\n    <tr>\n      <th>2043</th>\n      <td>94.20491</td>\n    </tr>\n    <tr>\n      <th>2044</th>\n      <td>66.645854</td>\n    </tr>\n    <tr>\n      <th>2045</th>\n      <td>39.972784</td>\n    </tr>\n    <tr>\n      <th>2046</th>\n      <td>32.65034</td>\n    </tr>\n    <tr>\n      <th>2047</th>\n      <td>25.587963</td>\n    </tr>\n    <tr>\n      <th>2048</th>\n      <td>18.785651</td>\n    </tr>\n    <tr>\n      <th>2049</th>\n      <td>12.243405</td>\n    </tr>\n    <tr>\n      <th>2050</th>\n      <td>5.961225</td>\n    </tr>\n  </tbody>\n</table>\n</div>"
     },
     "execution_count": 96,
     "metadata": {},
     "output_type": "execute_result"
    }
   ],
   "source": [
    "for year in years:\n",
    "    # get all emissions\n",
    "    CE = float(LH2_Conversion_emissions.loc[year]['LH2_Conversion_emissions'])\n",
    "    EE = float(LH2_Export_terminal_emissions.loc[year]['LH2_Export_terminal_emissions'])\n",
    "    SE = float(LH2_Shipping_emissions.loc[year]['LH2_Shipping_emissions'])\n",
    "    IE = float(LH2_Import_terminal_emissions.loc[year]['LH2_Import_terminal_emissions'])\n",
    "    RE = float(LH2_Reconversion_emissions.loc[year]['LH2_Reconversion_emissions'])\n",
    "    # calculate costs of specific year\n",
    "    result.LH2_transport_emissions.loc[year] = calculate_LH2_transport_emissions()\n",
    "\n",
    "result"
   ],
   "metadata": {
    "collapsed": false,
    "pycharm": {
     "name": "#%%\n"
    }
   }
  },
  {
   "cell_type": "code",
   "execution_count": 48,
   "outputs": [
    {
     "name": "stderr",
     "output_type": "stream",
     "text": [
      "C:\\Users\\REUTER\\AppData\\Local\\Temp\\ipykernel_5296\\986526507.py:4: FutureWarning: Setting the `book` attribute is not part of the public API, usage can give unexpected or corrupted results and will be removed in a future version\n",
      "  writer.book = book\n"
     ]
    },
    {
     "ename": "AttributeError",
     "evalue": "can't set attribute 'sheets'",
     "output_type": "error",
     "traceback": [
      "\u001B[1;31m---------------------------------------------------------------------------\u001B[0m",
      "\u001B[1;31mAttributeError\u001B[0m                            Traceback (most recent call last)",
      "Cell \u001B[1;32mIn [48], line 5\u001B[0m\n\u001B[0;32m      3\u001B[0m book \u001B[38;5;241m=\u001B[39m load_workbook(path)\n\u001B[0;32m      4\u001B[0m writer\u001B[38;5;241m.\u001B[39mbook \u001B[38;5;241m=\u001B[39m book\n\u001B[1;32m----> 5\u001B[0m writer\u001B[38;5;241m.\u001B[39msheets \u001B[38;5;241m=\u001B[39m \u001B[38;5;28mdict\u001B[39m((ws\u001B[38;5;241m.\u001B[39mtitle, ws) \u001B[38;5;28;01mfor\u001B[39;00m ws \u001B[38;5;129;01min\u001B[39;00m book\u001B[38;5;241m.\u001B[39mworksheets)\n\u001B[0;32m      7\u001B[0m ws \u001B[38;5;241m=\u001B[39m book[\u001B[38;5;124m'\u001B[39m\u001B[38;5;124mReference Results\u001B[39m\u001B[38;5;124m'\u001B[39m]\n\u001B[0;32m      9\u001B[0m result\u001B[38;5;241m.\u001B[39mto_excel(writer, sheet_name\u001B[38;5;241m=\u001B[39m\u001B[38;5;124m'\u001B[39m\u001B[38;5;124mReference Results\u001B[39m\u001B[38;5;124m'\u001B[39m, index\u001B[38;5;241m=\u001B[39m\u001B[38;5;28;01mFalse\u001B[39;00m, startcol\u001B[38;5;241m=\u001B[39mws\u001B[38;5;241m.\u001B[39mmax_column)\n",
      "\u001B[1;31mAttributeError\u001B[0m: can't set attribute 'sheets'"
     ]
    }
   ],
   "source": [
    "# export result to excel\n",
    "writer = pd.ExcelWriter(path, engine='openpyxl', mode='a', if_sheet_exists='overlay')\n",
    "book = load_workbook(path)\n",
    "writer.book = book\n",
    "writer.sheets = dict((ws.title, ws) for ws in book.worksheets)\n",
    "\n",
    "ws = book['Reference Results']\n",
    "\n",
    "result.to_excel(writer, sheet_name='Reference Results', index=False, startcol=ws.max_column)\n",
    "book.save(path)\n",
    "book.close()"
   ],
   "metadata": {
    "collapsed": false,
    "pycharm": {
     "name": "#%%\n"
    }
   }
  },
  {
   "cell_type": "code",
   "execution_count": 97,
   "outputs": [
    {
     "data": {
      "text/plain": "<Figure size 1000x600 with 1 Axes>",
      "image/png": "[encoded data removed]"
     },
     "metadata": {},
     "output_type": "display_data"
    }
   ],
   "source": [
    "# Emission breakdown for LH2 seaborne transport\n",
    "fig, ax = plt.subplots(figsize=(10,6))\n",
    "plt.grid(True, axis = 'y')\n",
    "ax.set_axisbelow(True)\n",
    "x = np.arange(2025, 2051, step=5)\n",
    "CE = (LH2_Conversion_emissions.loc[::5]['LH2_Conversion_emissions']).apply(pd.to_numeric)\n",
    "EE = (LH2_Export_terminal_emissions.loc[::5]['LH2_Export_terminal_emissions']).apply(pd.to_numeric)\n",
    "SE = (LH2_Shipping_emissions.loc[::5]['LH2_Shipping_emissions']).apply(pd.to_numeric)\n",
    "IE = (LH2_Import_terminal_emissions.loc[::5]['LH2_Import_terminal_emissions']).apply(pd.to_numeric)\n",
    "RE = (LH2_Reconversion_emissions.loc[::5]['LH2_Reconversion_emissions']).apply(pd.to_numeric)\n",
    "width = 2       # the width of the bars: can also be len(x) sequence\n",
    "\n",
    "RE_plt = plt.bar(x,RE, width, label='Regasification emissions', bottom= CE + EE + SE + IE)\n",
    "IE_plt = plt.bar(x,IE, width, label='Import terminal emissions', bottom= CE + EE + SE)\n",
    "SE_plt = plt.bar(x,SE, width, label='Shipping emissions', bottom= CE + EE)\n",
    "EE_plt = plt.bar(x,EE, width, label='Export terminal emissions', bottom= CE)\n",
    "CE_plt = plt.bar(x,CE, width, label='Liquefaction emissions')\n",
    "\n",
    "#plt.title('Emission breakdown for LH2 shipping ', fontweight='bold')\n",
    "plt.legend(loc='upper right')\n",
    "plt.ylabel('[g CO2eq/kg H2]')\n",
    "plt.xlabel('Years')\n",
    "\n",
    "title = 'LH2_emissions_2'\n",
    "plt.savefig(path_plt + title + '.png', transparent = True)\n",
    "\n",
    "plt.show()"
   ],
   "metadata": {
    "collapsed": false,
    "pycharm": {
     "name": "#%%\n"
    }
   }
  },
  {
   "cell_type": "markdown",
   "source": [
    "@ 10.000 km shipping distance. Large contributers to total emissions are emissions factors for grid electricity in import/exporting countries (assumed zero from 2045)."
   ],
   "metadata": {
    "collapsed": false,
    "pycharm": {
     "name": "#%% md\n"
    }
   }
  },
  {
   "cell_type": "markdown",
   "source": [
    "## Sensitivity"
   ],
   "metadata": {
    "collapsed": false,
    "pycharm": {
     "name": "#%% md\n"
    }
   }
  },
  {
   "cell_type": "code",
   "execution_count": 183,
   "outputs": [],
   "source": [
    "\n",
    "year = 2030\n",
    "el_liq_y = float(tea_lh2.loc['Liquefaction - Electricity consumption opt. [kWh/kgH2]'][year])\n",
    "EF_y_n = 118# float(GHG.loc['GHG intensity of electricity generation [g CO2eq/kWh] - Norway'][year])\n",
    "LH2_cargo_ghg = float(LH2_cargo_emissions.loc[year]['LH2_cargo_emissions'])\n",
    "el_recon_y = float(tea_lh2.loc['Reconversion - Electricity consumption opt. [kWh/kg H2]'][year])\n",
    "#EF_y_G = float(GHG.loc['GHG intensity of electricity generation [g CO2eq/kWh] - Germany'][year])"
   ],
   "metadata": {
    "collapsed": false,
    "pycharm": {
     "name": "#%%\n"
    }
   }
  },
  {
   "cell_type": "code",
   "execution_count": 186,
   "outputs": [],
   "source": [
    "sensitivity = []\n",
    "\n",
    "def lh2_transport_sensi(el_liq_y, EF_y_n, el_et, el_reliq, t_et, bog_ship, d_sea ,v_ship, f_ship, LH2_cargo_ghg ,el_it ,t_it ,el_recon_y):\n",
    "\n",
    "    for x in range (21):\n",
    "        factor = x/10\n",
    "        result = \\\n",
    "        (el_liq_y * EF_y_n * factor)\\\n",
    "        + ((el_et + el_reliq * t_et) * EF_y_n * factor)\\\n",
    "        + (1/(1-(bog_ship * d_sea/v_ship) - (f_ship  * d_sea)) + (bog_ship * d_sea/v_ship + f_ship * d_sea) * LH2_cargo_ghg)\\\n",
    "        + ((el_it + el_reliq * t_it) * EF_y_n * factor)\\\n",
    "        + (el_recon_y * EF_y_n * factor)\n",
    "\n",
    "        sensitivity.append(result)\n",
    "\n",
    "    return sensitivity"
   ],
   "metadata": {
    "collapsed": false,
    "pycharm": {
     "name": "#%%\n"
    }
   }
  },
  {
   "cell_type": "code",
   "execution_count": 187,
   "outputs": [
    {
     "data": {
      "text/plain": "[11.312953575468796,\n 138.8709535754688,\n 266.4289535754688,\n 393.9869535754688,\n 521.5449535754689,\n 649.1029535754687,\n 776.6609535754689,\n 904.2189535754687,\n 1031.776953575469,\n 1159.3349535754687,\n 1286.8929535754687,\n 1414.450953575469,\n 1542.008953575469,\n 1669.5669535754687,\n 1797.1249535754687,\n 1924.6829535754687,\n 2052.240953575469,\n 2179.798953575469,\n 2307.3569535754687,\n 2434.9149535754686,\n 2562.4729535754686]"
     },
     "execution_count": 187,
     "metadata": {},
     "output_type": "execute_result"
    }
   ],
   "source": [
    "lh2_transport_sensi(el_liq_y, EF_y_n, el_et, el_reliq, t_et, bog_ship, d_sea ,v_ship, f_ship, LH2_cargo_ghg ,el_it ,t_it ,el_recon_y)"
   ],
   "metadata": {
    "collapsed": false,
    "pycharm": {
     "name": "#%%\n"
    }
   }
  },
  {
   "cell_type": "code",
   "execution_count": 190,
   "outputs": [
    {
     "data": {
      "text/plain": "                                         LH2 transport emission [g CO2eq/kg H2]\nElectricity emission factor change in %                                        \n0                                                                     11.312954\n1                                                                    138.870954\n2                                                                    266.428954\n3                                                                    393.986954\n4                                                                    521.544954\n5                                                                    649.102954\n6                                                                    776.660954\n7                                                                    904.218954\n8                                                                   1031.776954\n9                                                                   1159.334954\n10                                                                  1286.892954\n11                                                                  1414.450954\n12                                                                  1542.008954\n13                                                                  1669.566954\n14                                                                  1797.124954\n15                                                                  1924.682954\n16                                                                  2052.240954\n17                                                                  2179.798954\n18                                                                  2307.356954\n19                                                                  2434.914954\n20                                                                  2562.472954",
      "text/html": "<div>\n<style scoped>\n    .dataframe tbody tr th:only-of-type {\n        vertical-align: middle;\n    }\n\n    .dataframe tbody tr th {\n        vertical-align: top;\n    }\n\n    .dataframe thead th {\n        text-align: right;\n    }\n</style>\n<table border=\"1\" class=\"dataframe\">\n  <thead>\n    <tr style=\"text-align: right;\">\n      <th></th>\n      <th>LH2 transport emission [g CO2eq/kg H2]</th>\n    </tr>\n    <tr>\n      <th>Electricity emission factor change in %</th>\n      <th></th>\n    </tr>\n  </thead>\n  <tbody>\n    <tr>\n      <th>0</th>\n      <td>11.312954</td>\n    </tr>\n    <tr>\n      <th>1</th>\n      <td>138.870954</td>\n    </tr>\n    <tr>\n      <th>2</th>\n      <td>266.428954</td>\n    </tr>\n    <tr>\n      <th>3</th>\n      <td>393.986954</td>\n    </tr>\n    <tr>\n      <th>4</th>\n      <td>521.544954</td>\n    </tr>\n    <tr>\n      <th>5</th>\n      <td>649.102954</td>\n    </tr>\n    <tr>\n      <th>6</th>\n      <td>776.660954</td>\n    </tr>\n    <tr>\n      <th>7</th>\n      <td>904.218954</td>\n    </tr>\n    <tr>\n      <th>8</th>\n      <td>1031.776954</td>\n    </tr>\n    <tr>\n      <th>9</th>\n      <td>1159.334954</td>\n    </tr>\n    <tr>\n      <th>10</th>\n      <td>1286.892954</td>\n    </tr>\n    <tr>\n      <th>11</th>\n      <td>1414.450954</td>\n    </tr>\n    <tr>\n      <th>12</th>\n      <td>1542.008954</td>\n    </tr>\n    <tr>\n      <th>13</th>\n      <td>1669.566954</td>\n    </tr>\n    <tr>\n      <th>14</th>\n      <td>1797.124954</td>\n    </tr>\n    <tr>\n      <th>15</th>\n      <td>1924.682954</td>\n    </tr>\n    <tr>\n      <th>16</th>\n      <td>2052.240954</td>\n    </tr>\n    <tr>\n      <th>17</th>\n      <td>2179.798954</td>\n    </tr>\n    <tr>\n      <th>18</th>\n      <td>2307.356954</td>\n    </tr>\n    <tr>\n      <th>19</th>\n      <td>2434.914954</td>\n    </tr>\n    <tr>\n      <th>20</th>\n      <td>2562.472954</td>\n    </tr>\n  </tbody>\n</table>\n</div>"
     },
     "execution_count": 190,
     "metadata": {},
     "output_type": "execute_result"
    }
   ],
   "source": [
    "lh2_transport_sensi= pd.DataFrame(sensitivity, index= range(21), columns=['LH2 transport emission [g CO2eq/kg H2]'])\n",
    "lh2_transport_sensi.index.name = 'Electricity emission factor change in %'\n",
    "lh2_transport_sensi_EF"
   ],
   "metadata": {
    "collapsed": false,
    "pycharm": {
     "name": "#%%\n"
    }
   }
  },
  {
   "cell_type": "code",
   "execution_count": 191,
   "outputs": [],
   "source": [
    "# Create csv file from results dataframe\n",
    "output_file = os.path.join(path_csv,'LH2_EF_sensi.csv')\n",
    "lh2_transport_sensi.to_csv(output_file, sep = ';')"
   ],
   "metadata": {
    "collapsed": false,
    "pycharm": {
     "name": "#%%\n"
    }
   }
  },
  {
   "cell_type": "code",
   "execution_count": 194,
   "outputs": [
    {
     "data": {
      "text/plain": "<Figure size 500x400 with 1 Axes>",
      "image/png": "[encoded data removed]"
     },
     "metadata": {},
     "output_type": "display_data"
    }
   ],
   "source": [
    "import matplotlib.ticker as mtick\n",
    "\n",
    "fig, ax = plt.subplots(figsize=(5,4))\n",
    "#plt.subplot(1,2,1)\n",
    "\n",
    "\n",
    "plt.plot(lh2_transport_sensi, color='blue', linestyle='solid', label = 'Emission factor')\n",
    "#plt.plot(lcoh_ngr_sensi_P_Co2, color='dodgerblue',linestyle='-', label = 'CO2 price')\n",
    "#plt.plot(lcoh_ngr_sensi_P_CCS, color='royalblue',linestyle='-', label = 'CCS cost')\n",
    "plt.grid(True, axis='y')\n",
    "#plt.grid(True, axis='x')\n",
    "ax.set_axisbelow(True)\n",
    "ax.xaxis.set_major_formatter(mtick.PercentFormatter(10, decimals=None))\n",
    "plt.locator_params(axis='x', nbins=5)\n",
    "plt.ylabel('[g CO2eq/kg H2]')\n",
    "plt.xlabel('Change')\n",
    "plt.legend()\n",
    "\n",
    "\n",
    "\n",
    "title = 'LH2_EF_sensi'\n",
    "#plt.savefig(path_plt + title + '.png', transparent=True)\n",
    "\n",
    "plt.show()"
   ],
   "metadata": {
    "collapsed": false,
    "pycharm": {
     "name": "#%%\n"
    }
   }
  },
  {
   "cell_type": "markdown",
   "source": [
    "# NH3 transport"
   ],
   "metadata": {
    "collapsed": false,
    "pycharm": {
     "name": "#%% md\n"
    }
   }
  },
  {
   "cell_type": "markdown",
   "source": [
    "## Conversion emissions"
   ],
   "metadata": {
    "collapsed": false,
    "pycharm": {
     "name": "#%% md\n"
    }
   }
  },
  {
   "cell_type": "code",
   "execution_count": 195,
   "outputs": [],
   "source": [
    "def Conversion_emissions():\n",
    "    result = el_con_y * EF_y_n\n",
    "    return result"
   ],
   "metadata": {
    "collapsed": false,
    "pycharm": {
     "name": "#%%\n"
    }
   }
  },
  {
   "cell_type": "code",
   "execution_count": 196,
   "outputs": [
    {
     "data": {
      "text/plain": "     NH3_Conversion_emissions\n2025                92.971646\n2026                 89.25278\n2027                85.533914\n2028                81.815048\n2029                78.096182\n2030                74.377316\n2031                69.015231\n2032                63.826116\n2033                58.809971\n2034                53.966797\n2035                49.296593\n2036                 44.79936\n2037                40.475098\n2038                36.323806\n2039                32.345484\n2040                28.540133\n2041                 25.68612\n2042                22.832106\n2043                19.978093\n2044                 17.12408\n2045                14.270067\n2046                11.416053\n2047                  8.56204\n2048                 5.708027\n2049                 2.854013\n2050                      0.0",
      "text/html": "<div>\n<style scoped>\n    .dataframe tbody tr th:only-of-type {\n        vertical-align: middle;\n    }\n\n    .dataframe tbody tr th {\n        vertical-align: top;\n    }\n\n    .dataframe thead th {\n        text-align: right;\n    }\n</style>\n<table border=\"1\" class=\"dataframe\">\n  <thead>\n    <tr style=\"text-align: right;\">\n      <th></th>\n      <th>NH3_Conversion_emissions</th>\n    </tr>\n  </thead>\n  <tbody>\n    <tr>\n      <th>2025</th>\n      <td>92.971646</td>\n    </tr>\n    <tr>\n      <th>2026</th>\n      <td>89.25278</td>\n    </tr>\n    <tr>\n      <th>2027</th>\n      <td>85.533914</td>\n    </tr>\n    <tr>\n      <th>2028</th>\n      <td>81.815048</td>\n    </tr>\n    <tr>\n      <th>2029</th>\n      <td>78.096182</td>\n    </tr>\n    <tr>\n      <th>2030</th>\n      <td>74.377316</td>\n    </tr>\n    <tr>\n      <th>2031</th>\n      <td>69.015231</td>\n    </tr>\n    <tr>\n      <th>2032</th>\n      <td>63.826116</td>\n    </tr>\n    <tr>\n      <th>2033</th>\n      <td>58.809971</td>\n    </tr>\n    <tr>\n      <th>2034</th>\n      <td>53.966797</td>\n    </tr>\n    <tr>\n      <th>2035</th>\n      <td>49.296593</td>\n    </tr>\n    <tr>\n      <th>2036</th>\n      <td>44.79936</td>\n    </tr>\n    <tr>\n      <th>2037</th>\n      <td>40.475098</td>\n    </tr>\n    <tr>\n      <th>2038</th>\n      <td>36.323806</td>\n    </tr>\n    <tr>\n      <th>2039</th>\n      <td>32.345484</td>\n    </tr>\n    <tr>\n      <th>2040</th>\n      <td>28.540133</td>\n    </tr>\n    <tr>\n      <th>2041</th>\n      <td>25.68612</td>\n    </tr>\n    <tr>\n      <th>2042</th>\n      <td>22.832106</td>\n    </tr>\n    <tr>\n      <th>2043</th>\n      <td>19.978093</td>\n    </tr>\n    <tr>\n      <th>2044</th>\n      <td>17.12408</td>\n    </tr>\n    <tr>\n      <th>2045</th>\n      <td>14.270067</td>\n    </tr>\n    <tr>\n      <th>2046</th>\n      <td>11.416053</td>\n    </tr>\n    <tr>\n      <th>2047</th>\n      <td>8.56204</td>\n    </tr>\n    <tr>\n      <th>2048</th>\n      <td>5.708027</td>\n    </tr>\n    <tr>\n      <th>2049</th>\n      <td>2.854013</td>\n    </tr>\n    <tr>\n      <th>2050</th>\n      <td>0.0</td>\n    </tr>\n  </tbody>\n</table>\n</div>"
     },
     "execution_count": 196,
     "metadata": {},
     "output_type": "execute_result"
    }
   ],
   "source": [
    "# Calc. liquefaction emissions over time [g CO2eq/kg H2]\n",
    "years = np.arange(2025, 2051)\n",
    "result = pd.DataFrame(index=years, columns=['NH3_Conversion_emissions'])\n",
    "for year in years:\n",
    "    el_con_y = float(tea_lnh3.loc['Conversion - Electricity consumption opt. [kWh/kgH2]'][year])\n",
    "    EF_y_n = float(GHG.loc['GHG intensity of electricity generation [g CO2eq/kWh] - Norway'][year])\n",
    "\n",
    "    result.NH3_Conversion_emissions.loc[year] = Conversion_emissions()\n",
    "\n",
    "result"
   ],
   "metadata": {
    "collapsed": false,
    "pycharm": {
     "name": "#%%\n"
    }
   }
  },
  {
   "cell_type": "code",
   "execution_count": 55,
   "outputs": [
    {
     "ename": "FileNotFoundError",
     "evalue": "[Errno 2] No such file or directory: '/Users/jakob/PycharmProjects/H2_pathways_repo/data/raw/H2_supply_route_assessment.xlsx'",
     "output_type": "error",
     "traceback": [
      "\u001B[1;31m---------------------------------------------------------------------------\u001B[0m",
      "\u001B[1;31mFileNotFoundError\u001B[0m                         Traceback (most recent call last)",
      "Cell \u001B[1;32mIn [55], line 3\u001B[0m\n\u001B[0;32m      1\u001B[0m \u001B[38;5;66;03m# export result to excel\u001B[39;00m\n\u001B[0;32m      2\u001B[0m path \u001B[38;5;241m=\u001B[39m \u001B[38;5;124m'\u001B[39m\u001B[38;5;124m/Users/jakob/PycharmProjects/H2_pathways_repo/data/raw/H2_supply_route_assessment.xlsx\u001B[39m\u001B[38;5;124m'\u001B[39m\n\u001B[1;32m----> 3\u001B[0m writer \u001B[38;5;241m=\u001B[39m \u001B[43mpd\u001B[49m\u001B[38;5;241;43m.\u001B[39;49m\u001B[43mExcelWriter\u001B[49m\u001B[43m(\u001B[49m\u001B[43mpath\u001B[49m\u001B[43m,\u001B[49m\u001B[43m \u001B[49m\u001B[43mengine\u001B[49m\u001B[38;5;241;43m=\u001B[39;49m\u001B[38;5;124;43m'\u001B[39;49m\u001B[38;5;124;43mopenpyxl\u001B[39;49m\u001B[38;5;124;43m'\u001B[39;49m\u001B[43m,\u001B[49m\u001B[43m \u001B[49m\u001B[43mmode\u001B[49m\u001B[38;5;241;43m=\u001B[39;49m\u001B[38;5;124;43m'\u001B[39;49m\u001B[38;5;124;43ma\u001B[39;49m\u001B[38;5;124;43m'\u001B[39;49m\u001B[43m,\u001B[49m\u001B[43m \u001B[49m\u001B[43mif_sheet_exists\u001B[49m\u001B[38;5;241;43m=\u001B[39;49m\u001B[38;5;124;43m'\u001B[39;49m\u001B[38;5;124;43moverlay\u001B[39;49m\u001B[38;5;124;43m'\u001B[39;49m\u001B[43m)\u001B[49m\n\u001B[0;32m      4\u001B[0m book \u001B[38;5;241m=\u001B[39m load_workbook(path)\n\u001B[0;32m      5\u001B[0m writer\u001B[38;5;241m.\u001B[39mbook \u001B[38;5;241m=\u001B[39m book\n",
      "File \u001B[1;32m~\\Miniconda3\\envs\\Desktop\\lib\\site-packages\\pandas\\io\\excel\\_openpyxl.py:60\u001B[0m, in \u001B[0;36mOpenpyxlWriter.__init__\u001B[1;34m(self, path, engine, date_format, datetime_format, mode, storage_options, if_sheet_exists, engine_kwargs, **kwargs)\u001B[0m\n\u001B[0;32m     56\u001B[0m \u001B[38;5;28;01mfrom\u001B[39;00m \u001B[38;5;21;01mopenpyxl\u001B[39;00m\u001B[38;5;21;01m.\u001B[39;00m\u001B[38;5;21;01mworkbook\u001B[39;00m \u001B[38;5;28;01mimport\u001B[39;00m Workbook\n\u001B[0;32m     58\u001B[0m engine_kwargs \u001B[38;5;241m=\u001B[39m combine_kwargs(engine_kwargs, kwargs)\n\u001B[1;32m---> 60\u001B[0m \u001B[38;5;28;43msuper\u001B[39;49m\u001B[43m(\u001B[49m\u001B[43m)\u001B[49m\u001B[38;5;241;43m.\u001B[39;49m\u001B[38;5;21;43m__init__\u001B[39;49m\u001B[43m(\u001B[49m\n\u001B[0;32m     61\u001B[0m \u001B[43m    \u001B[49m\u001B[43mpath\u001B[49m\u001B[43m,\u001B[49m\n\u001B[0;32m     62\u001B[0m \u001B[43m    \u001B[49m\u001B[43mmode\u001B[49m\u001B[38;5;241;43m=\u001B[39;49m\u001B[43mmode\u001B[49m\u001B[43m,\u001B[49m\n\u001B[0;32m     63\u001B[0m \u001B[43m    \u001B[49m\u001B[43mstorage_options\u001B[49m\u001B[38;5;241;43m=\u001B[39;49m\u001B[43mstorage_options\u001B[49m\u001B[43m,\u001B[49m\n\u001B[0;32m     64\u001B[0m \u001B[43m    \u001B[49m\u001B[43mif_sheet_exists\u001B[49m\u001B[38;5;241;43m=\u001B[39;49m\u001B[43mif_sheet_exists\u001B[49m\u001B[43m,\u001B[49m\n\u001B[0;32m     65\u001B[0m \u001B[43m    \u001B[49m\u001B[43mengine_kwargs\u001B[49m\u001B[38;5;241;43m=\u001B[39;49m\u001B[43mengine_kwargs\u001B[49m\u001B[43m,\u001B[49m\n\u001B[0;32m     66\u001B[0m \u001B[43m\u001B[49m\u001B[43m)\u001B[49m\n\u001B[0;32m     68\u001B[0m \u001B[38;5;66;03m# ExcelWriter replaced \"a\" by \"r+\" to allow us to first read the excel file from\u001B[39;00m\n\u001B[0;32m     69\u001B[0m \u001B[38;5;66;03m# the file and later write to it\u001B[39;00m\n\u001B[0;32m     70\u001B[0m \u001B[38;5;28;01mif\u001B[39;00m \u001B[38;5;124m\"\u001B[39m\u001B[38;5;124mr+\u001B[39m\u001B[38;5;124m\"\u001B[39m \u001B[38;5;129;01min\u001B[39;00m \u001B[38;5;28mself\u001B[39m\u001B[38;5;241m.\u001B[39m_mode:  \u001B[38;5;66;03m# Load from existing workbook\u001B[39;00m\n",
      "File \u001B[1;32m~\\Miniconda3\\envs\\Desktop\\lib\\site-packages\\pandas\\io\\excel\\_base.py:1313\u001B[0m, in \u001B[0;36mExcelWriter.__init__\u001B[1;34m(self, path, engine, date_format, datetime_format, mode, storage_options, if_sheet_exists, engine_kwargs, **kwargs)\u001B[0m\n\u001B[0;32m   1309\u001B[0m \u001B[38;5;28mself\u001B[39m\u001B[38;5;241m.\u001B[39m_handles \u001B[38;5;241m=\u001B[39m IOHandles(\n\u001B[0;32m   1310\u001B[0m     cast(IO[\u001B[38;5;28mbytes\u001B[39m], path), compression\u001B[38;5;241m=\u001B[39m{\u001B[38;5;124m\"\u001B[39m\u001B[38;5;124mcompression\u001B[39m\u001B[38;5;124m\"\u001B[39m: \u001B[38;5;28;01mNone\u001B[39;00m}\n\u001B[0;32m   1311\u001B[0m )\n\u001B[0;32m   1312\u001B[0m \u001B[38;5;28;01mif\u001B[39;00m \u001B[38;5;129;01mnot\u001B[39;00m \u001B[38;5;28misinstance\u001B[39m(path, ExcelWriter):\n\u001B[1;32m-> 1313\u001B[0m     \u001B[38;5;28mself\u001B[39m\u001B[38;5;241m.\u001B[39m_handles \u001B[38;5;241m=\u001B[39m \u001B[43mget_handle\u001B[49m\u001B[43m(\u001B[49m\n\u001B[0;32m   1314\u001B[0m \u001B[43m        \u001B[49m\u001B[43mpath\u001B[49m\u001B[43m,\u001B[49m\u001B[43m \u001B[49m\u001B[43mmode\u001B[49m\u001B[43m,\u001B[49m\u001B[43m \u001B[49m\u001B[43mstorage_options\u001B[49m\u001B[38;5;241;43m=\u001B[39;49m\u001B[43mstorage_options\u001B[49m\u001B[43m,\u001B[49m\u001B[43m \u001B[49m\u001B[43mis_text\u001B[49m\u001B[38;5;241;43m=\u001B[39;49m\u001B[38;5;28;43;01mFalse\u001B[39;49;00m\n\u001B[0;32m   1315\u001B[0m \u001B[43m    \u001B[49m\u001B[43m)\u001B[49m\n\u001B[0;32m   1316\u001B[0m \u001B[38;5;28mself\u001B[39m\u001B[38;5;241m.\u001B[39m_cur_sheet \u001B[38;5;241m=\u001B[39m \u001B[38;5;28;01mNone\u001B[39;00m\n\u001B[0;32m   1318\u001B[0m \u001B[38;5;28;01mif\u001B[39;00m date_format \u001B[38;5;129;01mis\u001B[39;00m \u001B[38;5;28;01mNone\u001B[39;00m:\n",
      "File \u001B[1;32m~\\Miniconda3\\envs\\Desktop\\lib\\site-packages\\pandas\\io\\common.py:865\u001B[0m, in \u001B[0;36mget_handle\u001B[1;34m(path_or_buf, mode, encoding, compression, memory_map, is_text, errors, storage_options)\u001B[0m\n\u001B[0;32m    856\u001B[0m         handle \u001B[38;5;241m=\u001B[39m \u001B[38;5;28mopen\u001B[39m(\n\u001B[0;32m    857\u001B[0m             handle,\n\u001B[0;32m    858\u001B[0m             ioargs\u001B[38;5;241m.\u001B[39mmode,\n\u001B[1;32m   (...)\u001B[0m\n\u001B[0;32m    861\u001B[0m             newline\u001B[38;5;241m=\u001B[39m\u001B[38;5;124m\"\u001B[39m\u001B[38;5;124m\"\u001B[39m,\n\u001B[0;32m    862\u001B[0m         )\n\u001B[0;32m    863\u001B[0m     \u001B[38;5;28;01melse\u001B[39;00m:\n\u001B[0;32m    864\u001B[0m         \u001B[38;5;66;03m# Binary mode\u001B[39;00m\n\u001B[1;32m--> 865\u001B[0m         handle \u001B[38;5;241m=\u001B[39m \u001B[38;5;28;43mopen\u001B[39;49m\u001B[43m(\u001B[49m\u001B[43mhandle\u001B[49m\u001B[43m,\u001B[49m\u001B[43m \u001B[49m\u001B[43mioargs\u001B[49m\u001B[38;5;241;43m.\u001B[39;49m\u001B[43mmode\u001B[49m\u001B[43m)\u001B[49m\n\u001B[0;32m    866\u001B[0m     handles\u001B[38;5;241m.\u001B[39mappend(handle)\n\u001B[0;32m    868\u001B[0m \u001B[38;5;66;03m# Convert BytesIO or file objects passed with an encoding\u001B[39;00m\n",
      "\u001B[1;31mFileNotFoundError\u001B[0m: [Errno 2] No such file or directory: '/Users/jakob/PycharmProjects/H2_pathways_repo/data/raw/H2_supply_route_assessment.xlsx'"
     ]
    }
   ],
   "source": [
    "# export result to excel\n",
    "path = '/Users/jakob/PycharmProjects/H2_pathways_repo/data/raw/H2_supply_route_assessment.xlsx'\n",
    "writer = pd.ExcelWriter(path, engine='openpyxl', mode='a', if_sheet_exists='overlay')\n",
    "book = load_workbook(path)\n",
    "writer.book = book\n",
    "writer.sheets = dict((ws.title, ws) for ws in book.worksheets)\n",
    "\n",
    "ws = book['Reference Results']\n",
    "\n",
    "result.to_excel(writer, sheet_name='Reference Results', index=False, startcol=ws.max_column)\n",
    "book.save(path)\n",
    "book.close()"
   ],
   "metadata": {
    "collapsed": false,
    "pycharm": {
     "name": "#%%\n"
    }
   }
  },
  {
   "cell_type": "code",
   "execution_count": null,
   "outputs": [],
   "source": [
    "path_csv = r'/Users/jakob/PycharmProjects/H2_pathways_repo/data/processed'\n",
    "output_file = os.path.join(path_csv, 'NH3_Conversion_emissions.csv')\n",
    "result.to_csv(output_file, sep=';')"
   ],
   "metadata": {
    "collapsed": false,
    "pycharm": {
     "name": "#%%\n"
    }
   }
  },
  {
   "cell_type": "code",
   "execution_count": 197,
   "outputs": [],
   "source": [
    "NH3_Conversion_emissions = result"
   ],
   "metadata": {
    "collapsed": false,
    "pycharm": {
     "name": "#%%\n"
    }
   }
  },
  {
   "cell_type": "markdown",
   "source": [
    "## Export terminal"
   ],
   "metadata": {
    "collapsed": false,
    "pycharm": {
     "name": "#%% md\n"
    }
   }
  },
  {
   "cell_type": "code",
   "execution_count": 198,
   "outputs": [
    {
     "data": {
      "text/plain": "0.005"
     },
     "execution_count": 198,
     "metadata": {},
     "output_type": "execute_result"
    }
   ],
   "source": [
    "# Electricity consumption for the export terminal [kWh/kg_h2]\n",
    "el_et_nh3 = float(tea_lnh3.loc['Export Terminal - Electricity use [kWh/kgH2]']['NH3'])\n",
    "el_et_nh3"
   ],
   "metadata": {
    "collapsed": false,
    "pycharm": {
     "name": "#%%\n"
    }
   }
  },
  {
   "cell_type": "code",
   "execution_count": 199,
   "outputs": [
    {
     "data": {
      "text/plain": "0.0378"
     },
     "execution_count": 199,
     "metadata": {},
     "output_type": "execute_result"
    }
   ],
   "source": [
    "el_reliq_nh3 = float(tea_lnh3.loc['Export Terminal - Energy use to reliquefy opt. [kWh/kg NH3/day]']['NH3'])\n",
    "el_reliq_nh3"
   ],
   "metadata": {
    "collapsed": false,
    "pycharm": {
     "name": "#%%\n"
    }
   }
  },
  {
   "cell_type": "code",
   "execution_count": 200,
   "outputs": [],
   "source": [
    "#Lower heating value of Nh3[ kWh / kg]\n",
    "NH3_lhv = float(tea_lnh3.loc['Properties - LHV [kWh/kg]']['NH3'])\n",
    "NH3_lhv\n",
    "#Lower heating value of H2 [kWh/kg]\n",
    "H2_lhv = 33.33"
   ],
   "metadata": {
    "collapsed": false,
    "pycharm": {
     "name": "#%%\n"
    }
   }
  },
  {
   "cell_type": "markdown",
   "source": [
    "same storage time as for LH2"
   ],
   "metadata": {
    "collapsed": false,
    "pycharm": {
     "name": "#%% md\n"
    }
   }
  },
  {
   "cell_type": "code",
   "execution_count": 201,
   "outputs": [
    {
     "data": {
      "text/plain": "7.0"
     },
     "execution_count": 201,
     "metadata": {},
     "output_type": "execute_result"
    }
   ],
   "source": [
    "# Average storage time in the export terminal tanks in days\n",
    "t_et"
   ],
   "metadata": {
    "collapsed": false,
    "pycharm": {
     "name": "#%%\n"
    }
   }
  },
  {
   "cell_type": "code",
   "execution_count": 202,
   "outputs": [],
   "source": [
    "def ET_emissions():\n",
    "    result = (el_et_nh3 + el_reliq_nh3 * (NH3_lhv/H2_lhv) * t_et) * EF_y_n\n",
    "    return result"
   ],
   "metadata": {
    "collapsed": false,
    "pycharm": {
     "name": "#%%\n"
    }
   }
  },
  {
   "cell_type": "code",
   "execution_count": 203,
   "outputs": [],
   "source": [
    "# Calc. liquefaction emissions over time [g CO2eq/kg H2]\n",
    "years = np.arange(2025, 2051)\n",
    "result = pd.DataFrame(index=years, columns=['NH3_Export_terminal_emissions'])\n",
    "result.index.name = 'Years'"
   ],
   "metadata": {
    "collapsed": false,
    "pycharm": {
     "name": "#%%\n"
    }
   }
  },
  {
   "cell_type": "code",
   "execution_count": 204,
   "outputs": [
    {
     "data": {
      "text/plain": "      NH3_Export_terminal_emissions\nYears                              \n2025                       0.995522\n2026                       0.955701\n2027                       0.915881\n2028                        0.87606\n2029                       0.836239\n2030                       0.796418\n2031                       0.756597\n2032                       0.716776\n2033                       0.676955\n2034                       0.637134\n2035                       0.597313\n2036                       0.557492\n2037                       0.517672\n2038                       0.477851\n2039                        0.43803\n2040                       0.398209\n2041                       0.358388\n2042                       0.318567\n2043                       0.278746\n2044                       0.238925\n2045                       0.199104\n2046                       0.159284\n2047                       0.119463\n2048                       0.079642\n2049                       0.039821\n2050                            0.0",
      "text/html": "<div>\n<style scoped>\n    .dataframe tbody tr th:only-of-type {\n        vertical-align: middle;\n    }\n\n    .dataframe tbody tr th {\n        vertical-align: top;\n    }\n\n    .dataframe thead th {\n        text-align: right;\n    }\n</style>\n<table border=\"1\" class=\"dataframe\">\n  <thead>\n    <tr style=\"text-align: right;\">\n      <th></th>\n      <th>NH3_Export_terminal_emissions</th>\n    </tr>\n    <tr>\n      <th>Years</th>\n      <th></th>\n    </tr>\n  </thead>\n  <tbody>\n    <tr>\n      <th>2025</th>\n      <td>0.995522</td>\n    </tr>\n    <tr>\n      <th>2026</th>\n      <td>0.955701</td>\n    </tr>\n    <tr>\n      <th>2027</th>\n      <td>0.915881</td>\n    </tr>\n    <tr>\n      <th>2028</th>\n      <td>0.87606</td>\n    </tr>\n    <tr>\n      <th>2029</th>\n      <td>0.836239</td>\n    </tr>\n    <tr>\n      <th>2030</th>\n      <td>0.796418</td>\n    </tr>\n    <tr>\n      <th>2031</th>\n      <td>0.756597</td>\n    </tr>\n    <tr>\n      <th>2032</th>\n      <td>0.716776</td>\n    </tr>\n    <tr>\n      <th>2033</th>\n      <td>0.676955</td>\n    </tr>\n    <tr>\n      <th>2034</th>\n      <td>0.637134</td>\n    </tr>\n    <tr>\n      <th>2035</th>\n      <td>0.597313</td>\n    </tr>\n    <tr>\n      <th>2036</th>\n      <td>0.557492</td>\n    </tr>\n    <tr>\n      <th>2037</th>\n      <td>0.517672</td>\n    </tr>\n    <tr>\n      <th>2038</th>\n      <td>0.477851</td>\n    </tr>\n    <tr>\n      <th>2039</th>\n      <td>0.43803</td>\n    </tr>\n    <tr>\n      <th>2040</th>\n      <td>0.398209</td>\n    </tr>\n    <tr>\n      <th>2041</th>\n      <td>0.358388</td>\n    </tr>\n    <tr>\n      <th>2042</th>\n      <td>0.318567</td>\n    </tr>\n    <tr>\n      <th>2043</th>\n      <td>0.278746</td>\n    </tr>\n    <tr>\n      <th>2044</th>\n      <td>0.238925</td>\n    </tr>\n    <tr>\n      <th>2045</th>\n      <td>0.199104</td>\n    </tr>\n    <tr>\n      <th>2046</th>\n      <td>0.159284</td>\n    </tr>\n    <tr>\n      <th>2047</th>\n      <td>0.119463</td>\n    </tr>\n    <tr>\n      <th>2048</th>\n      <td>0.079642</td>\n    </tr>\n    <tr>\n      <th>2049</th>\n      <td>0.039821</td>\n    </tr>\n    <tr>\n      <th>2050</th>\n      <td>0.0</td>\n    </tr>\n  </tbody>\n</table>\n</div>"
     },
     "execution_count": 204,
     "metadata": {},
     "output_type": "execute_result"
    }
   ],
   "source": [
    "for year in years:\n",
    "    EF_y_n = float(GHG.loc['GHG intensity of electricity generation [g CO2eq/kWh] - Norway'][year])\n",
    "\n",
    "    result.NH3_Export_terminal_emissions.loc[year] = ET_emissions()\n",
    "\n",
    "result"
   ],
   "metadata": {
    "collapsed": false,
    "pycharm": {
     "name": "#%%\n"
    }
   }
  },
  {
   "cell_type": "code",
   "execution_count": 205,
   "outputs": [
    {
     "name": "stderr",
     "output_type": "stream",
     "text": [
      "C:\\Users\\REUTER\\AppData\\Local\\Temp\\ipykernel_5296\\1108845303.py:3: FutureWarning: Setting the `book` attribute is not part of the public API, usage can give unexpected or corrupted results and will be removed in a future version\n",
      "  writer.book = book\n"
     ]
    },
    {
     "ename": "AttributeError",
     "evalue": "can't set attribute 'sheets'",
     "output_type": "error",
     "traceback": [
      "\u001B[1;31m---------------------------------------------------------------------------\u001B[0m",
      "\u001B[1;31mAttributeError\u001B[0m                            Traceback (most recent call last)",
      "Cell \u001B[1;32mIn [205], line 4\u001B[0m\n\u001B[0;32m      2\u001B[0m book \u001B[38;5;241m=\u001B[39m load_workbook(path)\n\u001B[0;32m      3\u001B[0m writer\u001B[38;5;241m.\u001B[39mbook \u001B[38;5;241m=\u001B[39m book\n\u001B[1;32m----> 4\u001B[0m writer\u001B[38;5;241m.\u001B[39msheets \u001B[38;5;241m=\u001B[39m \u001B[38;5;28mdict\u001B[39m((ws\u001B[38;5;241m.\u001B[39mtitle, ws) \u001B[38;5;28;01mfor\u001B[39;00m ws \u001B[38;5;129;01min\u001B[39;00m book\u001B[38;5;241m.\u001B[39mworksheets)\n\u001B[0;32m      6\u001B[0m ws \u001B[38;5;241m=\u001B[39m book[\u001B[38;5;124m'\u001B[39m\u001B[38;5;124mReference Results\u001B[39m\u001B[38;5;124m'\u001B[39m]\n\u001B[0;32m      8\u001B[0m result\u001B[38;5;241m.\u001B[39mto_excel(writer, sheet_name\u001B[38;5;241m=\u001B[39m\u001B[38;5;124m'\u001B[39m\u001B[38;5;124mReference Results\u001B[39m\u001B[38;5;124m'\u001B[39m, index\u001B[38;5;241m=\u001B[39m\u001B[38;5;28;01mFalse\u001B[39;00m, startcol\u001B[38;5;241m=\u001B[39mws\u001B[38;5;241m.\u001B[39mmax_column)\n",
      "\u001B[1;31mAttributeError\u001B[0m: can't set attribute 'sheets'"
     ]
    }
   ],
   "source": [
    "writer = pd.ExcelWriter(path, engine='openpyxl', mode='a', if_sheet_exists='overlay')\n",
    "book = load_workbook(path)\n",
    "writer.book = book\n",
    "writer.sheets = dict((ws.title, ws) for ws in book.worksheets)\n",
    "\n",
    "ws = book['Reference Results']\n",
    "\n",
    "result.to_excel(writer, sheet_name='Reference Results', index=False, startcol=ws.max_column)\n",
    "book.save(path)\n",
    "book.close()"
   ],
   "metadata": {
    "collapsed": false,
    "pycharm": {
     "name": "#%%\n"
    }
   }
  },
  {
   "cell_type": "code",
   "execution_count": null,
   "outputs": [],
   "source": [
    "path_csv = r'/Users/jakob/PycharmProjects/H2_pathways_repo/data/processed'\n",
    "output_file = os.path.join(path_csv, 'NH3_Export_terminal_emissions.csv')\n",
    "result.to_csv(output_file, sep=';')"
   ],
   "metadata": {
    "collapsed": false,
    "pycharm": {
     "name": "#%%\n"
    }
   }
  },
  {
   "cell_type": "code",
   "execution_count": null,
   "outputs": [],
   "source": [
    "NH3_Export_terminal_emissions = result"
   ],
   "metadata": {
    "collapsed": false,
    "pycharm": {
     "name": "#%%\n"
    }
   }
  },
  {
   "cell_type": "markdown",
   "source": [
    "## Shipping"
   ],
   "metadata": {
    "collapsed": false,
    "pycharm": {
     "name": "#%% md\n"
    }
   }
  },
  {
   "cell_type": "markdown",
   "source": [
    "Emissions of transported hydrogen carrier in [g CO2/kg_h2] in year y\n",
    "NH3_Conversion_emissions = pd.read_csv(\n",
    "    \"/Users/jakob/PycharmProjects/H2_pathways_repo/data/processed/NH3_Conversion_emissions.csv\", delimiter=';',\n",
    "    decimal=',', index_col=0)\n",
    "NH3_Export_terminal_emissions = pd.read_csv(\n",
    "    \"/Users/jakob/PycharmProjects/H2_pathways_repo/data/processed/NH3_Export_terminal_emissions.csv\", delimiter=';',\n",
    "    decimal=',', index_col=0)"
   ],
   "metadata": {
    "collapsed": false,
    "pycharm": {
     "name": "#%% md\n"
    }
   }
  },
  {
   "cell_type": "code",
   "execution_count": null,
   "outputs": [],
   "source": [
    "# Boil-off when shipping in [%/day] to [%/hour]\n",
    "bog_ship = float(tea_lnh3.loc['Shipping - Boil off opt. [%/day]']['NH3']) / 24 * (NH3_lhv/H2_lhv)\n",
    "bog_ship"
   ],
   "metadata": {
    "collapsed": false,
    "pycharm": {
     "name": "#%%\n"
    }
   }
  },
  {
   "cell_type": "code",
   "execution_count": null,
   "outputs": [],
   "source": [
    "# Fuel consumption of a ship in [kg_h2/t/km]\n",
    "f_ship = float(tea_lnh3.loc['Shipping - Fuel use [kg NH3/t/km]']['NH3']) / 1000 * (NH3_lhv/H2_lhv)\n",
    "f_ship"
   ],
   "metadata": {
    "collapsed": false,
    "pycharm": {
     "name": "#%%\n"
    }
   }
  },
  {
   "cell_type": "markdown",
   "source": [
    "d_sea and v_ship are equivalent to LH2 transport"
   ],
   "metadata": {
    "collapsed": false,
    "pycharm": {
     "name": "#%% md\n"
    }
   }
  },
  {
   "cell_type": "markdown",
   "source": [
    "Calc. emission factor for cargo/fuel"
   ],
   "metadata": {
    "collapsed": false,
    "pycharm": {
     "name": "#%% md\n"
    }
   }
  },
  {
   "cell_type": "code",
   "execution_count": 206,
   "outputs": [
    {
     "ename": "NameError",
     "evalue": "name 'NH3_Export_terminal_emissions' is not defined",
     "output_type": "error",
     "traceback": [
      "\u001B[1;31m---------------------------------------------------------------------------\u001B[0m",
      "\u001B[1;31mNameError\u001B[0m                                 Traceback (most recent call last)",
      "Cell \u001B[1;32mIn [206], line 4\u001B[0m\n\u001B[0;32m      2\u001B[0m H2_emissions \u001B[38;5;241m=\u001B[39m (GHG\u001B[38;5;241m.\u001B[39mloc[\u001B[38;5;124m'\u001B[39m\u001B[38;5;124mBlue hydrogen emissions [kg CO2/kg H2] - Norway\u001B[39m\u001B[38;5;124m'\u001B[39m, \u001B[38;5;241m2025\u001B[39m:\u001B[38;5;241m2050\u001B[39m])\u001B[38;5;241m.\u001B[39mapply(pd\u001B[38;5;241m.\u001B[39mto_numeric) \u001B[38;5;241m*\u001B[39m \u001B[38;5;241m1000\u001B[39m\n\u001B[0;32m      3\u001B[0m Con_emissions \u001B[38;5;241m=\u001B[39m (NH3_Conversion_emissions\u001B[38;5;241m.\u001B[39mloc[::][\u001B[38;5;124m'\u001B[39m\u001B[38;5;124mNH3_Conversion_emissions\u001B[39m\u001B[38;5;124m'\u001B[39m])\u001B[38;5;241m.\u001B[39mapply(pd\u001B[38;5;241m.\u001B[39mto_numeric)\n\u001B[1;32m----> 4\u001B[0m ET_emissions \u001B[38;5;241m=\u001B[39m (\u001B[43mNH3_Export_terminal_emissions\u001B[49m\u001B[38;5;241m.\u001B[39mloc[::][\u001B[38;5;124m'\u001B[39m\u001B[38;5;124mNH3_Export_terminal_emissions\u001B[39m\u001B[38;5;124m'\u001B[39m])\u001B[38;5;241m.\u001B[39mapply(pd\u001B[38;5;241m.\u001B[39mto_numeric)\n\u001B[0;32m      5\u001B[0m \u001B[38;5;66;03m# Emission of cargo in [g CO2eq/kg_H2]\u001B[39;00m\n\u001B[0;32m      6\u001B[0m NH3_cargo_emissions \u001B[38;5;241m=\u001B[39m (H2_emissions \u001B[38;5;241m+\u001B[39m Con_emissions \u001B[38;5;241m+\u001B[39m ET_emissions)\u001B[38;5;241m.\u001B[39mto_frame(\u001B[38;5;124m'\u001B[39m\u001B[38;5;124mNH3_cargo_emissions\u001B[39m\u001B[38;5;124m'\u001B[39m)\n",
      "\u001B[1;31mNameError\u001B[0m: name 'NH3_Export_terminal_emissions' is not defined"
     ]
    }
   ],
   "source": [
    "# Emissions of transported hydrogen carrier in [g CO2eq/kg_H2] in year y\n",
    "H2_emissions = (GHG.loc['Blue hydrogen emissions [kg CO2/kg H2] - Norway', 2025:2050]).apply(pd.to_numeric) * 1000\n",
    "Con_emissions = (NH3_Conversion_emissions.loc[::]['NH3_Conversion_emissions']).apply(pd.to_numeric)\n",
    "ET_emissions = (NH3_Export_terminal_emissions.loc[::]['NH3_Export_terminal_emissions']).apply(pd.to_numeric)\n",
    "# Emission of cargo in [g CO2eq/kg_H2]\n",
    "NH3_cargo_emissions = (H2_emissions + Con_emissions + ET_emissions).to_frame('NH3_cargo_emissions')\n",
    "NH3_cargo_emissions"
   ],
   "metadata": {
    "collapsed": false,
    "pycharm": {
     "name": "#%%\n"
    }
   }
  },
  {
   "cell_type": "code",
   "execution_count": 207,
   "outputs": [],
   "source": [
    "output_file = os.path.join(path_csv, 'NH3_cargo_emissions.csv')\n",
    "result.to_csv(output_file, sep=';')"
   ],
   "metadata": {
    "collapsed": false,
    "pycharm": {
     "name": "#%%\n"
    }
   }
  },
  {
   "cell_type": "code",
   "execution_count": 208,
   "outputs": [],
   "source": [
    "#d_sea = 10000"
   ],
   "metadata": {
    "collapsed": false,
    "pycharm": {
     "name": "#%%\n"
    }
   }
  },
  {
   "cell_type": "code",
   "execution_count": 209,
   "outputs": [],
   "source": [
    "# Calc.NH3 shipping emissions\n",
    "def calculate_ship_emissions():\n",
    "    result = 1 / (1 - (bog_ship * d_sea / v_ship) - (f_ship * d_sea))\\\n",
    "             + (bog_ship * d_sea / v_ship + f_ship * d_sea) * NH3_cargo_ghg\n",
    "    return result"
   ],
   "metadata": {
    "collapsed": false,
    "pycharm": {
     "name": "#%%\n"
    }
   }
  },
  {
   "cell_type": "code",
   "execution_count": 157,
   "outputs": [
    {
     "data": {
      "text/plain": "      NH3_Shipping_emissions\nYears                       \n2025               18.283866\n2026               17.879039\n2027               17.474815\n2028               17.071192\n2029               16.668172\n2030               16.265754\n2031               15.843704\n2032               15.423349\n2033               15.004685\n2034               14.587711\n2035               14.172424\n2036               13.758822\n2037               13.346903\n2038               12.936663\n2039                 12.5281\n2040               12.121212\n2041               11.714662\n2042               11.310082\n2043               10.907468\n2044               10.506816\n2045               10.108123\n2046                9.711386\n2047                9.316599\n2048                8.923761\n2049                8.532866\n2050                8.143912",
      "text/html": "<div>\n<style scoped>\n    .dataframe tbody tr th:only-of-type {\n        vertical-align: middle;\n    }\n\n    .dataframe tbody tr th {\n        vertical-align: top;\n    }\n\n    .dataframe thead th {\n        text-align: right;\n    }\n</style>\n<table border=\"1\" class=\"dataframe\">\n  <thead>\n    <tr style=\"text-align: right;\">\n      <th></th>\n      <th>NH3_Shipping_emissions</th>\n    </tr>\n    <tr>\n      <th>Years</th>\n      <th></th>\n    </tr>\n  </thead>\n  <tbody>\n    <tr>\n      <th>2025</th>\n      <td>18.283866</td>\n    </tr>\n    <tr>\n      <th>2026</th>\n      <td>17.879039</td>\n    </tr>\n    <tr>\n      <th>2027</th>\n      <td>17.474815</td>\n    </tr>\n    <tr>\n      <th>2028</th>\n      <td>17.071192</td>\n    </tr>\n    <tr>\n      <th>2029</th>\n      <td>16.668172</td>\n    </tr>\n    <tr>\n      <th>2030</th>\n      <td>16.265754</td>\n    </tr>\n    <tr>\n      <th>2031</th>\n      <td>15.843704</td>\n    </tr>\n    <tr>\n      <th>2032</th>\n      <td>15.423349</td>\n    </tr>\n    <tr>\n      <th>2033</th>\n      <td>15.004685</td>\n    </tr>\n    <tr>\n      <th>2034</th>\n      <td>14.587711</td>\n    </tr>\n    <tr>\n      <th>2035</th>\n      <td>14.172424</td>\n    </tr>\n    <tr>\n      <th>2036</th>\n      <td>13.758822</td>\n    </tr>\n    <tr>\n      <th>2037</th>\n      <td>13.346903</td>\n    </tr>\n    <tr>\n      <th>2038</th>\n      <td>12.936663</td>\n    </tr>\n    <tr>\n      <th>2039</th>\n      <td>12.5281</td>\n    </tr>\n    <tr>\n      <th>2040</th>\n      <td>12.121212</td>\n    </tr>\n    <tr>\n      <th>2041</th>\n      <td>11.714662</td>\n    </tr>\n    <tr>\n      <th>2042</th>\n      <td>11.310082</td>\n    </tr>\n    <tr>\n      <th>2043</th>\n      <td>10.907468</td>\n    </tr>\n    <tr>\n      <th>2044</th>\n      <td>10.506816</td>\n    </tr>\n    <tr>\n      <th>2045</th>\n      <td>10.108123</td>\n    </tr>\n    <tr>\n      <th>2046</th>\n      <td>9.711386</td>\n    </tr>\n    <tr>\n      <th>2047</th>\n      <td>9.316599</td>\n    </tr>\n    <tr>\n      <th>2048</th>\n      <td>8.923761</td>\n    </tr>\n    <tr>\n      <th>2049</th>\n      <td>8.532866</td>\n    </tr>\n    <tr>\n      <th>2050</th>\n      <td>8.143912</td>\n    </tr>\n  </tbody>\n</table>\n</div>"
     },
     "execution_count": 157,
     "metadata": {},
     "output_type": "execute_result"
    }
   ],
   "source": [
    "# Calculation of shipping emissions [g CO2eq/kg_h2] from 2025 to 2050.\n",
    "years = np.arange(2025, 2051)\n",
    "result = pd.DataFrame(index=years, columns=['NH3_Shipping_emissions'])\n",
    "result.index.name = 'Years'\n",
    "\n",
    "for year in years:\n",
    "    NH3_cargo_ghg = float(LH2_cargo_emissions.loc[year]['LH2_cargo_emissions'])\n",
    "    f_ship = float(tea_lnh3.loc['Shipping - Fuel use [kg NH3/t/km]'][year])/1000 * (NH3_lhv/H2_lhv)\n",
    "    # calculate emissions of specific year\n",
    "    result.NH3_Shipping_emissions.loc[year] = calculate_ship_emissions()\n",
    "\n",
    "result"
   ],
   "metadata": {
    "collapsed": false,
    "pycharm": {
     "name": "#%%\n"
    }
   }
  },
  {
   "cell_type": "code",
   "execution_count": 974,
   "outputs": [],
   "source": [
    "# export result to excel\n",
    "writer = pd.ExcelWriter(path, engine='openpyxl', mode='a', if_sheet_exists='overlay')\n",
    "book = load_workbook(path)\n",
    "writer.book = book\n",
    "writer.sheets = dict((ws.title, ws) for ws in book.worksheets)\n",
    "\n",
    "ws = book['Reference Results']\n",
    "\n",
    "result.to_excel(writer, sheet_name='Reference Results', index=False, startcol=ws.max_column)\n",
    "book.save(path)\n",
    "book.close()"
   ],
   "metadata": {
    "collapsed": false,
    "pycharm": {
     "name": "#%%\n"
    }
   }
  },
  {
   "cell_type": "code",
   "execution_count": 975,
   "outputs": [],
   "source": [
    "path_csv = r'/Users/jakob/PycharmProjects/H2_pathways_repo/data/processed'\n",
    "output_file = os.path.join(path_csv, 'NH3_Shipping_emissions.csv')\n",
    "result.to_csv(output_file, sep=';')"
   ],
   "metadata": {
    "collapsed": false,
    "pycharm": {
     "name": "#%%\n"
    }
   }
  },
  {
   "cell_type": "code",
   "execution_count": 210,
   "outputs": [],
   "source": [
    "NH3_Shipping_emissions = result"
   ],
   "metadata": {
    "collapsed": false,
    "pycharm": {
     "name": "#%%\n"
    }
   }
  },
  {
   "cell_type": "markdown",
   "source": [
    "## Import terminal"
   ],
   "metadata": {
    "collapsed": false,
    "pycharm": {
     "name": "#%% md\n"
    }
   }
  },
  {
   "cell_type": "code",
   "execution_count": 211,
   "outputs": [
    {
     "data": {
      "text/plain": "0.02"
     },
     "execution_count": 211,
     "metadata": {},
     "output_type": "execute_result"
    }
   ],
   "source": [
    "# Electricity consumption for the import terminal [kWh/kg_h2]\n",
    "el_it = float(tea_lnh3.loc['Import Terminal - Electricity use [kWh/kg H2]']['NH3'])\n",
    "el_it"
   ],
   "metadata": {
    "collapsed": false,
    "pycharm": {
     "name": "#%%\n"
    }
   }
  },
  {
   "cell_type": "code",
   "execution_count": 212,
   "outputs": [
    {
     "data": {
      "text/plain": "0.0378"
     },
     "execution_count": 212,
     "metadata": {},
     "output_type": "execute_result"
    }
   ],
   "source": [
    "# Electricity consumption to reliquefy BOG [kWh/kg_h2]\n",
    "el_reliq = float(tea_lnh3.loc['Import Terminal - Energy use to reliquefy opt. [kWh/kg NH3/day]']['NH3'])\n",
    "el_reliq"
   ],
   "metadata": {
    "collapsed": false,
    "pycharm": {
     "name": "#%%\n"
    }
   }
  },
  {
   "cell_type": "code",
   "execution_count": 213,
   "outputs": [
    {
     "data": {
      "text/plain": "7.0"
     },
     "execution_count": 213,
     "metadata": {},
     "output_type": "execute_result"
    }
   ],
   "source": [
    "\n",
    "# Average storage time in the import terminal tanks in days\n",
    "t_it = float(tea_lnh3.loc['Import Terminal - Storage length per load [days]']['NH3'])\n",
    "t_it"
   ],
   "metadata": {
    "collapsed": false,
    "pycharm": {
     "name": "#%%\n"
    }
   }
  },
  {
   "cell_type": "code",
   "execution_count": 214,
   "outputs": [],
   "source": [
    "def IT_emissions():\n",
    "    result = (el_it + el_reliq * (NH3_lhv/H2_lhv) * t_it) * EF_y_n\n",
    "    return result"
   ],
   "metadata": {
    "collapsed": false,
    "pycharm": {
     "name": "#%%\n"
    }
   }
  },
  {
   "cell_type": "code",
   "execution_count": 215,
   "outputs": [
    {
     "data": {
      "text/plain": "      NH3_Import_terminal_emissions\nYears                              \n2025                      19.824237\n2026                      18.645418\n2027                      17.466599\n2028                      16.287779\n2029                       15.10896\n2030                      13.930141\n2031                      13.014732\n2032                      12.099323\n2033                      11.183914\n2034                      10.268504\n2035                       9.353095\n2036                       8.437686\n2037                       7.522276\n2038                       6.606867\n2039                       5.691458\n2040                       4.776048\n2041                       3.820839\n2042                       2.865629\n2043                       1.910419\n2044                        0.95521\n2045                            0.0\n2046                            0.0\n2047                            0.0\n2048                            0.0\n2049                            0.0\n2050                            0.0",
      "text/html": "<div>\n<style scoped>\n    .dataframe tbody tr th:only-of-type {\n        vertical-align: middle;\n    }\n\n    .dataframe tbody tr th {\n        vertical-align: top;\n    }\n\n    .dataframe thead th {\n        text-align: right;\n    }\n</style>\n<table border=\"1\" class=\"dataframe\">\n  <thead>\n    <tr style=\"text-align: right;\">\n      <th></th>\n      <th>NH3_Import_terminal_emissions</th>\n    </tr>\n    <tr>\n      <th>Years</th>\n      <th></th>\n    </tr>\n  </thead>\n  <tbody>\n    <tr>\n      <th>2025</th>\n      <td>19.824237</td>\n    </tr>\n    <tr>\n      <th>2026</th>\n      <td>18.645418</td>\n    </tr>\n    <tr>\n      <th>2027</th>\n      <td>17.466599</td>\n    </tr>\n    <tr>\n      <th>2028</th>\n      <td>16.287779</td>\n    </tr>\n    <tr>\n      <th>2029</th>\n      <td>15.10896</td>\n    </tr>\n    <tr>\n      <th>2030</th>\n      <td>13.930141</td>\n    </tr>\n    <tr>\n      <th>2031</th>\n      <td>13.014732</td>\n    </tr>\n    <tr>\n      <th>2032</th>\n      <td>12.099323</td>\n    </tr>\n    <tr>\n      <th>2033</th>\n      <td>11.183914</td>\n    </tr>\n    <tr>\n      <th>2034</th>\n      <td>10.268504</td>\n    </tr>\n    <tr>\n      <th>2035</th>\n      <td>9.353095</td>\n    </tr>\n    <tr>\n      <th>2036</th>\n      <td>8.437686</td>\n    </tr>\n    <tr>\n      <th>2037</th>\n      <td>7.522276</td>\n    </tr>\n    <tr>\n      <th>2038</th>\n      <td>6.606867</td>\n    </tr>\n    <tr>\n      <th>2039</th>\n      <td>5.691458</td>\n    </tr>\n    <tr>\n      <th>2040</th>\n      <td>4.776048</td>\n    </tr>\n    <tr>\n      <th>2041</th>\n      <td>3.820839</td>\n    </tr>\n    <tr>\n      <th>2042</th>\n      <td>2.865629</td>\n    </tr>\n    <tr>\n      <th>2043</th>\n      <td>1.910419</td>\n    </tr>\n    <tr>\n      <th>2044</th>\n      <td>0.95521</td>\n    </tr>\n    <tr>\n      <th>2045</th>\n      <td>0.0</td>\n    </tr>\n    <tr>\n      <th>2046</th>\n      <td>0.0</td>\n    </tr>\n    <tr>\n      <th>2047</th>\n      <td>0.0</td>\n    </tr>\n    <tr>\n      <th>2048</th>\n      <td>0.0</td>\n    </tr>\n    <tr>\n      <th>2049</th>\n      <td>0.0</td>\n    </tr>\n    <tr>\n      <th>2050</th>\n      <td>0.0</td>\n    </tr>\n  </tbody>\n</table>\n</div>"
     },
     "execution_count": 215,
     "metadata": {},
     "output_type": "execute_result"
    }
   ],
   "source": [
    "# Calc. import terimal emissions over time [g CO2eq/kg H2]\n",
    "years = np.arange(2025, 2051)\n",
    "result = pd.DataFrame(index=years, columns=['NH3_Import_terminal_emissions'])\n",
    "result.index.name = 'Years'\n",
    "\n",
    "for year in years:\n",
    "    EF_y_n = float(GHG.loc['GHG intensity of electricity generation [g CO2eq/kWh] - Germany'][year])\n",
    "\n",
    "    result.NH3_Import_terminal_emissions.loc[year] = IT_emissions()\n",
    "\n",
    "result"
   ],
   "metadata": {
    "collapsed": false,
    "pycharm": {
     "name": "#%%\n"
    }
   }
  },
  {
   "cell_type": "code",
   "execution_count": 216,
   "outputs": [
    {
     "name": "stderr",
     "output_type": "stream",
     "text": [
      "C:\\Users\\REUTER\\AppData\\Local\\Temp\\ipykernel_5296\\986526507.py:4: FutureWarning: Setting the `book` attribute is not part of the public API, usage can give unexpected or corrupted results and will be removed in a future version\n",
      "  writer.book = book\n"
     ]
    },
    {
     "ename": "AttributeError",
     "evalue": "can't set attribute 'sheets'",
     "output_type": "error",
     "traceback": [
      "\u001B[1;31m---------------------------------------------------------------------------\u001B[0m",
      "\u001B[1;31mAttributeError\u001B[0m                            Traceback (most recent call last)",
      "Cell \u001B[1;32mIn [216], line 5\u001B[0m\n\u001B[0;32m      3\u001B[0m book \u001B[38;5;241m=\u001B[39m load_workbook(path)\n\u001B[0;32m      4\u001B[0m writer\u001B[38;5;241m.\u001B[39mbook \u001B[38;5;241m=\u001B[39m book\n\u001B[1;32m----> 5\u001B[0m writer\u001B[38;5;241m.\u001B[39msheets \u001B[38;5;241m=\u001B[39m \u001B[38;5;28mdict\u001B[39m((ws\u001B[38;5;241m.\u001B[39mtitle, ws) \u001B[38;5;28;01mfor\u001B[39;00m ws \u001B[38;5;129;01min\u001B[39;00m book\u001B[38;5;241m.\u001B[39mworksheets)\n\u001B[0;32m      7\u001B[0m ws \u001B[38;5;241m=\u001B[39m book[\u001B[38;5;124m'\u001B[39m\u001B[38;5;124mReference Results\u001B[39m\u001B[38;5;124m'\u001B[39m]\n\u001B[0;32m      9\u001B[0m result\u001B[38;5;241m.\u001B[39mto_excel(writer, sheet_name\u001B[38;5;241m=\u001B[39m\u001B[38;5;124m'\u001B[39m\u001B[38;5;124mReference Results\u001B[39m\u001B[38;5;124m'\u001B[39m, index\u001B[38;5;241m=\u001B[39m\u001B[38;5;28;01mFalse\u001B[39;00m, startcol\u001B[38;5;241m=\u001B[39mws\u001B[38;5;241m.\u001B[39mmax_column)\n",
      "\u001B[1;31mAttributeError\u001B[0m: can't set attribute 'sheets'"
     ]
    }
   ],
   "source": [
    "# export result to excel\n",
    "writer = pd.ExcelWriter(path, engine='openpyxl', mode='a', if_sheet_exists='overlay')\n",
    "book = load_workbook(path)\n",
    "writer.book = book\n",
    "writer.sheets = dict((ws.title, ws) for ws in book.worksheets)\n",
    "\n",
    "ws = book['Reference Results']\n",
    "\n",
    "result.to_excel(writer, sheet_name='Reference Results', index=False, startcol=ws.max_column)\n",
    "book.save(path)\n",
    "book.close()"
   ],
   "metadata": {
    "collapsed": false,
    "pycharm": {
     "name": "#%%\n"
    }
   }
  },
  {
   "cell_type": "code",
   "execution_count": null,
   "outputs": [],
   "source": [
    "path_csv = r'/Users/jakob/PycharmProjects/H2_pathways_repo/data/processed'\n",
    "output_file = os.path.join(path_csv, 'NH3_Import_terminal_emissions.csv')\n",
    "result.to_csv(output_file, sep=';')"
   ],
   "metadata": {
    "collapsed": false,
    "pycharm": {
     "name": "#%%\n"
    }
   }
  },
  {
   "cell_type": "code",
   "execution_count": null,
   "outputs": [],
   "source": [
    "NH3_Import_terminal_emissions = result"
   ],
   "metadata": {
    "collapsed": false,
    "pycharm": {
     "name": "#%%\n"
    }
   }
  },
  {
   "cell_type": "markdown",
   "source": [
    "## Reconversion"
   ],
   "metadata": {
    "collapsed": false,
    "pycharm": {
     "name": "#%% md\n"
    }
   }
  },
  {
   "cell_type": "code",
   "execution_count": 217,
   "outputs": [],
   "source": [
    "def calculate_recon_emissions():\n",
    "    result = (heat_recon_y + el_recon_y) * EF_y_n\n",
    "    return result"
   ],
   "metadata": {
    "collapsed": false,
    "pycharm": {
     "name": "#%%\n"
    }
   }
  },
  {
   "cell_type": "code",
   "execution_count": 166,
   "outputs": [
    {
     "data": {
      "text/plain": "      NH3_Reconversion_emissions\nYears                           \n2025                 4911.927778\n2026                 4502.251111\n2027                    4107.444\n2028                 3727.506444\n2029                 3362.438444\n2030                     3012.24\n2031                  2732.20926\n2032                  2463.72544\n2033                  2206.78854\n2034                  1961.39856\n2035                   1727.5555\n2036                  1505.25936\n2037                  1294.51014\n2038                  1095.30784\n2039                   907.65246\n2040                     731.544\n2041                   562.70208\n2042                   405.12672\n2043                   258.81792\n2044                   123.77568\n2045                         0.0\n2046                         0.0\n2047                         0.0\n2048                         0.0\n2049                         0.0\n2050                         0.0",
      "text/html": "<div>\n<style scoped>\n    .dataframe tbody tr th:only-of-type {\n        vertical-align: middle;\n    }\n\n    .dataframe tbody tr th {\n        vertical-align: top;\n    }\n\n    .dataframe thead th {\n        text-align: right;\n    }\n</style>\n<table border=\"1\" class=\"dataframe\">\n  <thead>\n    <tr style=\"text-align: right;\">\n      <th></th>\n      <th>NH3_Reconversion_emissions</th>\n    </tr>\n    <tr>\n      <th>Years</th>\n      <th></th>\n    </tr>\n  </thead>\n  <tbody>\n    <tr>\n      <th>2025</th>\n      <td>4911.927778</td>\n    </tr>\n    <tr>\n      <th>2026</th>\n      <td>4502.251111</td>\n    </tr>\n    <tr>\n      <th>2027</th>\n      <td>4107.444</td>\n    </tr>\n    <tr>\n      <th>2028</th>\n      <td>3727.506444</td>\n    </tr>\n    <tr>\n      <th>2029</th>\n      <td>3362.438444</td>\n    </tr>\n    <tr>\n      <th>2030</th>\n      <td>3012.24</td>\n    </tr>\n    <tr>\n      <th>2031</th>\n      <td>2732.20926</td>\n    </tr>\n    <tr>\n      <th>2032</th>\n      <td>2463.72544</td>\n    </tr>\n    <tr>\n      <th>2033</th>\n      <td>2206.78854</td>\n    </tr>\n    <tr>\n      <th>2034</th>\n      <td>1961.39856</td>\n    </tr>\n    <tr>\n      <th>2035</th>\n      <td>1727.5555</td>\n    </tr>\n    <tr>\n      <th>2036</th>\n      <td>1505.25936</td>\n    </tr>\n    <tr>\n      <th>2037</th>\n      <td>1294.51014</td>\n    </tr>\n    <tr>\n      <th>2038</th>\n      <td>1095.30784</td>\n    </tr>\n    <tr>\n      <th>2039</th>\n      <td>907.65246</td>\n    </tr>\n    <tr>\n      <th>2040</th>\n      <td>731.544</td>\n    </tr>\n    <tr>\n      <th>2041</th>\n      <td>562.70208</td>\n    </tr>\n    <tr>\n      <th>2042</th>\n      <td>405.12672</td>\n    </tr>\n    <tr>\n      <th>2043</th>\n      <td>258.81792</td>\n    </tr>\n    <tr>\n      <th>2044</th>\n      <td>123.77568</td>\n    </tr>\n    <tr>\n      <th>2045</th>\n      <td>0.0</td>\n    </tr>\n    <tr>\n      <th>2046</th>\n      <td>0.0</td>\n    </tr>\n    <tr>\n      <th>2047</th>\n      <td>0.0</td>\n    </tr>\n    <tr>\n      <th>2048</th>\n      <td>0.0</td>\n    </tr>\n    <tr>\n      <th>2049</th>\n      <td>0.0</td>\n    </tr>\n    <tr>\n      <th>2050</th>\n      <td>0.0</td>\n    </tr>\n  </tbody>\n</table>\n</div>"
     },
     "execution_count": 166,
     "metadata": {},
     "output_type": "execute_result"
    }
   ],
   "source": [
    "years = np.arange(2025, 2051)\n",
    "result = pd.DataFrame(index=years, columns=['NH3_Reconversion_emissions'])\n",
    "result.index.name = 'Years'\n",
    "\n",
    "for year in years:\n",
    "    el_recon_y = float(tea_lnh3.loc['Reconversion - Electricity consumption opt. [kWh/kg H2]'][year])\n",
    "    heat_recon_y = float(tea_lnh3.loc['Reconversion - Heat consumption opt. [kWh/kg H2]'][year])\n",
    "    EF_y_n = float(GHG.loc['GHG intensity of electricity generation [g CO2eq/kWh] - Germany'][year])\n",
    "\n",
    "     # calculate emissions of specific year\n",
    "    result.NH3_Reconversion_emissions.loc[year] = calculate_recon_emissions()\n",
    "result"
   ],
   "metadata": {
    "collapsed": false,
    "pycharm": {
     "name": "#%%\n"
    }
   }
  },
  {
   "cell_type": "code",
   "execution_count": 1024,
   "outputs": [],
   "source": [
    "# export result to excel\n",
    "writer = pd.ExcelWriter(path, engine='openpyxl', mode='a', if_sheet_exists='overlay')\n",
    "book = load_workbook(path)\n",
    "writer.book = book\n",
    "writer.sheets = dict((ws.title, ws) for ws in book.worksheets)\n",
    "\n",
    "ws = book['Reference Results']\n",
    "\n",
    "result.to_excel(writer, sheet_name='Reference Results', index=False, startcol=ws.max_column)\n",
    "book.save(path)\n",
    "book.close()"
   ],
   "metadata": {
    "collapsed": false,
    "pycharm": {
     "name": "#%%\n"
    }
   }
  },
  {
   "cell_type": "code",
   "execution_count": 1025,
   "outputs": [],
   "source": [
    "path_csv = r'/Users/jakob/PycharmProjects/H2_pathways_repo/data/processed'\n",
    "output_file = os.path.join(path_csv, 'NH3_Reconversion_emissions.csv')\n",
    "result.to_csv(output_file, sep=';')"
   ],
   "metadata": {
    "collapsed": false,
    "pycharm": {
     "name": "#%%\n"
    }
   }
  },
  {
   "cell_type": "code",
   "execution_count": 167,
   "outputs": [],
   "source": [
    "NH3_Reconversion_emissions = result"
   ],
   "metadata": {
    "collapsed": false,
    "pycharm": {
     "name": "#%%\n"
    }
   }
  },
  {
   "cell_type": "markdown",
   "source": [
    "## Total NH3 transport emissions"
   ],
   "metadata": {
    "collapsed": false,
    "pycharm": {
     "name": "#%% md\n"
    }
   }
  },
  {
   "cell_type": "markdown",
   "source": [
    "con_em = pd.read_csv('/Users/jakob/PycharmProjects/H2_pathways_repo/data/processed/NH3_Conversion_emissions.csv',\n",
    "                     delimiter=';', decimal=',', index_col=0)\n",
    "et_em = pd.read_csv('/Users/jakob/PycharmProjects/H2_pathways_repo/data/processed/NH3_Export_terminal_emissions.csv',\n",
    "                    delimiter=';', decimal=',', index_col=0)\n",
    "ship_em = pd.read_csv('/Users/jakob/PycharmProjects/H2_pathways_repo/data/processed/NH3_Shipping_emissions.csv',\n",
    "                      delimiter=';', decimal=',', index_col=0)\n",
    "it_em = pd.read_csv('/Users/jakob/PycharmProjects/H2_pathways_repo/data/processed/NH3_Import_terminal_emissions.csv',\n",
    "                    delimiter=';', decimal=',', index_col=0)\n",
    "recon_em = pd.read_csv('/Users/jakob/PycharmProjects/H2_pathways_repo/data/processed/NH3_Reconversion_emissions.csv',\n",
    "                       delimiter=';', decimal=',', index_col=0)"
   ],
   "metadata": {
    "collapsed": false,
    "pycharm": {
     "name": "#%% md\n"
    }
   }
  },
  {
   "cell_type": "code",
   "execution_count": 168,
   "outputs": [],
   "source": [
    "years = np.arange(2025, 2051)\n",
    "result = pd.DataFrame(index=years, columns=['NH3_transport_emissions'])\n",
    "result.index.name = 'Years'"
   ],
   "metadata": {
    "collapsed": false,
    "pycharm": {
     "name": "#%%\n"
    }
   }
  },
  {
   "cell_type": "code",
   "execution_count": 169,
   "outputs": [],
   "source": [
    "# [g CO2eq/kg H2]\n",
    "def calculate_NH3_transport_emissions():\n",
    "    result = CE + EE + SE + IE + RE\n",
    "\n",
    "    return result"
   ],
   "metadata": {
    "collapsed": false,
    "pycharm": {
     "name": "#%%\n"
    }
   }
  },
  {
   "cell_type": "code",
   "execution_count": 170,
   "outputs": [
    {
     "data": {
      "text/plain": "      NH3_transport_emissions\nYears                        \n2025              5069.948624\n2026              4653.891801\n2027              4252.705137\n2028               3866.38863\n2029              3494.942282\n2030              3138.366091\n2031              2852.201381\n2032              2577.585287\n2033              2314.517804\n2034              2062.998931\n2035              1823.028665\n2036              1594.607004\n2037              1377.733945\n2038              1172.409486\n2039               978.633625\n2040               796.406358\n2041               621.406169\n2042               457.674509\n2043               305.211375\n2044               164.016764\n2045                34.090672\n2046                28.897425\n2047                23.706129\n2048                 18.51678\n2049                13.329376\n2050                 8.143912",
      "text/html": "<div>\n<style scoped>\n    .dataframe tbody tr th:only-of-type {\n        vertical-align: middle;\n    }\n\n    .dataframe tbody tr th {\n        vertical-align: top;\n    }\n\n    .dataframe thead th {\n        text-align: right;\n    }\n</style>\n<table border=\"1\" class=\"dataframe\">\n  <thead>\n    <tr style=\"text-align: right;\">\n      <th></th>\n      <th>NH3_transport_emissions</th>\n    </tr>\n    <tr>\n      <th>Years</th>\n      <th></th>\n    </tr>\n  </thead>\n  <tbody>\n    <tr>\n      <th>2025</th>\n      <td>5069.948624</td>\n    </tr>\n    <tr>\n      <th>2026</th>\n      <td>4653.891801</td>\n    </tr>\n    <tr>\n      <th>2027</th>\n      <td>4252.705137</td>\n    </tr>\n    <tr>\n      <th>2028</th>\n      <td>3866.38863</td>\n    </tr>\n    <tr>\n      <th>2029</th>\n      <td>3494.942282</td>\n    </tr>\n    <tr>\n      <th>2030</th>\n      <td>3138.366091</td>\n    </tr>\n    <tr>\n      <th>2031</th>\n      <td>2852.201381</td>\n    </tr>\n    <tr>\n      <th>2032</th>\n      <td>2577.585287</td>\n    </tr>\n    <tr>\n      <th>2033</th>\n      <td>2314.517804</td>\n    </tr>\n    <tr>\n      <th>2034</th>\n      <td>2062.998931</td>\n    </tr>\n    <tr>\n      <th>2035</th>\n      <td>1823.028665</td>\n    </tr>\n    <tr>\n      <th>2036</th>\n      <td>1594.607004</td>\n    </tr>\n    <tr>\n      <th>2037</th>\n      <td>1377.733945</td>\n    </tr>\n    <tr>\n      <th>2038</th>\n      <td>1172.409486</td>\n    </tr>\n    <tr>\n      <th>2039</th>\n      <td>978.633625</td>\n    </tr>\n    <tr>\n      <th>2040</th>\n      <td>796.406358</td>\n    </tr>\n    <tr>\n      <th>2041</th>\n      <td>621.406169</td>\n    </tr>\n    <tr>\n      <th>2042</th>\n      <td>457.674509</td>\n    </tr>\n    <tr>\n      <th>2043</th>\n      <td>305.211375</td>\n    </tr>\n    <tr>\n      <th>2044</th>\n      <td>164.016764</td>\n    </tr>\n    <tr>\n      <th>2045</th>\n      <td>34.090672</td>\n    </tr>\n    <tr>\n      <th>2046</th>\n      <td>28.897425</td>\n    </tr>\n    <tr>\n      <th>2047</th>\n      <td>23.706129</td>\n    </tr>\n    <tr>\n      <th>2048</th>\n      <td>18.51678</td>\n    </tr>\n    <tr>\n      <th>2049</th>\n      <td>13.329376</td>\n    </tr>\n    <tr>\n      <th>2050</th>\n      <td>8.143912</td>\n    </tr>\n  </tbody>\n</table>\n</div>"
     },
     "execution_count": 170,
     "metadata": {},
     "output_type": "execute_result"
    }
   ],
   "source": [
    "for year in years:\n",
    "    # get all emissions\n",
    "    CE = float(NH3_Conversion_emissions.loc[year]['NH3_Conversion_emissions'])\n",
    "    EE = float(NH3_Export_terminal_emissions.loc[year]['NH3_Export_terminal_emissions'])\n",
    "    SE = float(NH3_Shipping_emissions.loc[year]['NH3_Shipping_emissions'])\n",
    "    IE = float(NH3_Import_terminal_emissions.loc[year]['NH3_Import_terminal_emissions'])\n",
    "    RE = float(NH3_Reconversion_emissions.loc[year]['NH3_Reconversion_emissions'])\n",
    "    # calculate costs of specific year\n",
    "    result.NH3_transport_emissions.loc[year] = calculate_NH3_transport_emissions()\n",
    "\n",
    "result"
   ],
   "metadata": {
    "collapsed": false,
    "pycharm": {
     "name": "#%%\n"
    }
   }
  },
  {
   "cell_type": "code",
   "execution_count": 171,
   "outputs": [],
   "source": [
    "NH3_transport_emissions = result"
   ],
   "metadata": {
    "collapsed": false,
    "pycharm": {
     "name": "#%%\n"
    }
   }
  },
  {
   "cell_type": "code",
   "execution_count": 1030,
   "outputs": [],
   "source": [
    "# export result to excel\n",
    "writer = pd.ExcelWriter(path, engine='openpyxl', mode='a', if_sheet_exists='overlay')\n",
    "book = load_workbook(path)\n",
    "writer.book = book\n",
    "writer.sheets = dict((ws.title, ws) for ws in book.worksheets)\n",
    "\n",
    "ws = book['Reference Results']\n",
    "\n",
    "result.to_excel(writer, sheet_name='Reference Results', index=False, startcol=ws.max_column)\n",
    "book.save(path)\n",
    "book.close()"
   ],
   "metadata": {
    "collapsed": false,
    "pycharm": {
     "name": "#%%\n"
    }
   }
  },
  {
   "cell_type": "code",
   "execution_count": 175,
   "outputs": [
    {
     "data": {
      "text/plain": "<Figure size 1000x600 with 1 Axes>",
      "image/png": "[encoded data removed]"
     },
     "metadata": {},
     "output_type": "display_data"
    }
   ],
   "source": [
    "# Emission breakdown for NH3 seaborne transport\n",
    "fig, ax = plt.subplots(figsize=(10, 6))\n",
    "plt.grid(True, axis='y')\n",
    "ax.set_axisbelow(True)\n",
    "x = np.arange(2025, 2051, step=5)\n",
    "CE = (NH3_Conversion_emissions.loc[::5]['NH3_Conversion_emissions']).apply(pd.to_numeric)\n",
    "EE = (NH3_Export_terminal_emissions.loc[::5]['NH3_Export_terminal_emissions']).apply(pd.to_numeric)\n",
    "SE = (NH3_Shipping_emissions.loc[::5]['NH3_Shipping_emissions']).apply(pd.to_numeric)\n",
    "IE = (NH3_Import_terminal_emissions.loc[::5]['NH3_Import_terminal_emissions']).apply(pd.to_numeric)\n",
    "RE = (NH3_Reconversion_emissions.loc[::5]['NH3_Reconversion_emissions']).apply(pd.to_numeric)\n",
    "width = 2  # the width of the bars: can also be len(x) sequence\n",
    "\n",
    "RE_plt = plt.bar(x, RE, width, label='Reconversion (Ammonia cracking) emissions', bottom=CE + EE + SE + IE)\n",
    "IE_plt = plt.bar(x, IE, width, label='Import terminal emissions', bottom=CE + EE + SE)\n",
    "SE_plt = plt.bar(x, SE, width, label='Shipping emissions', bottom=CE + EE)\n",
    "EE_plt = plt.bar(x, EE, width, label='Export terminal emissions', bottom=CE)\n",
    "CE_plt = plt.bar(x, CE, width, label='Conversion (Ammonia synthesis) emissions')\n",
    "\n",
    "#plt.title('Emission breakdown for NH3 shipping [g CO2eq/kg H2]', fontweight='bold')\n",
    "plt.legend(loc='upper right')\n",
    "plt.ylabel('[g CO2eq/kg H2]')\n",
    "\n",
    "title = 'NH3_emissions_w_reconversion'\n",
    "plt.savefig(path_plt+title+'.png', transparent = True)\n",
    "\n",
    "plt.show()"
   ],
   "metadata": {
    "collapsed": false,
    "pycharm": {
     "name": "#%%\n"
    }
   }
  },
  {
   "cell_type": "markdown",
   "source": [
    "Largest contributer is reconversion at around 15 kWh/kg H2 are required to crack ammonia and it is assumed that electricity and heat are sourced from grid electricity, which has a high emission factor of around 300 g CO2eq/kWh in 2025 (in Germany)."
   ],
   "metadata": {
    "collapsed": false,
    "pycharm": {
     "name": "#%% md\n"
    }
   }
  },
  {
   "cell_type": "markdown",
   "source": [
    "## Sensitivity"
   ],
   "metadata": {
    "collapsed": false,
    "pycharm": {
     "name": "#%% md\n"
    }
   }
  },
  {
   "cell_type": "code",
   "execution_count": 250,
   "outputs": [],
   "source": [
    "year = 2030\n",
    "\n",
    "el_con_y = float(tea_lnh3.loc['Conversion - Electricity consumption opt. [kWh/kgH2]'][year])\n",
    "NH3_cargo_ghg = float(LH2_cargo_emissions.loc[year]['LH2_cargo_emissions'])\n",
    "f_ship = float(tea_lnh3.loc['Shipping - Fuel use [kg NH3/t/km]'][year])/1000 * (NH3_lhv/H2_lhv)\n",
    "el_recon_y = float(tea_lnh3.loc['Reconversion - Electricity consumption opt. [kWh/kg H2]'][year])\n",
    "heat_recon_y = float(tea_lnh3.loc['Reconversion - Heat consumption opt. [kWh/kg H2]'][year])\n",
    "EF_y_n = 118  # float(GHG.loc['GHG intensity of electricity generation [g CO2eq/kWh] - Norway'][year])"
   ],
   "metadata": {
    "collapsed": false,
    "pycharm": {
     "name": "#%%\n"
    }
   }
  },
  {
   "cell_type": "code",
   "execution_count": 251,
   "outputs": [
    {
     "data": {
      "text/plain": "11.2"
     },
     "execution_count": 251,
     "metadata": {},
     "output_type": "execute_result"
    }
   ],
   "source": [
    "heat_recon_y\n"
   ],
   "metadata": {
    "collapsed": false,
    "pycharm": {
     "name": "#%%\n"
    }
   }
  },
  {
   "cell_type": "code",
   "execution_count": 281,
   "outputs": [],
   "source": [
    "\n",
    "#EF_y_G = float(GHG.loc['GHG intensity of electricity generation [g CO2eq/kWh] - Germany'][year])\n",
    "sensitivity = []\n",
    "\n",
    "def nh3_transport_sensi(el_con_y, EF_y_n, el_et_nh3, el_reliq_nh3, t_et, bog_ship, d_sea, v_ship, f_ship, NH3_cargo_ghg, el_it, heat_recon_y, t_it, el_recon_y):\n",
    "\n",
    "    for x in range(21):\n",
    "        factor = x / 10\n",
    "\n",
    "        result =\\\n",
    "            (el_con_y * EF_y_n * factor)\\\n",
    "        + ((el_et_nh3 + el_reliq_nh3 * (NH3_lhv/H2_lhv) * t_et) * EF_y_n * factor)\\\n",
    "        + (1 / (1 - (bog_ship * d_sea / v_ship) - (f_ship * d_sea)) + (bog_ship * d_sea / v_ship + f_ship * d_sea) * NH3_cargo_ghg)\\\n",
    "        + ((el_it + el_reliq * (NH3_lhv/H2_lhv) * t_it) * EF_y_n * factor)\\\n",
    "        + ((heat_recon_y + el_recon_y) * EF_y_n * factor)\n",
    "\n",
    "        sensitivity.append(result)\n",
    "\n",
    "\n",
    "    return sensitivity\n"
   ],
   "metadata": {
    "collapsed": false,
    "pycharm": {
     "name": "#%%\n"
    }
   }
  },
  {
   "cell_type": "code",
   "execution_count": 282,
   "outputs": [
    {
     "data": {
      "text/plain": "[9.376406577135425,\n 217.1400346959473,\n 424.9036628147592,\n 632.667290933571,\n 840.4309190523829,\n 1048.1945471711947,\n 1255.9581752900067,\n 1463.7218034088185,\n 1671.4854315276305,\n 1879.2490596464422,\n 2087.012687765254,\n 2294.776315884066,\n 2502.5399440028777,\n 2710.3035721216897,\n 2918.0672002405017,\n 3125.8308283593133,\n 3333.5944564781257,\n 3541.3580845969373,\n 3749.121712715749,\n 3956.885340834561,\n 4164.648968953373]"
     },
     "execution_count": 282,
     "metadata": {},
     "output_type": "execute_result"
    }
   ],
   "source": [
    "nh3_transport_sensi(el_con_y, EF_y_n, el_et_nh3, el_reliq_nh3, t_et, bog_ship, d_sea, v_ship, f_ship, NH3_cargo_ghg, el_it, heat_recon_y, t_it, el_recon_y)\n"
   ],
   "metadata": {
    "collapsed": false,
    "pycharm": {
     "name": "#%%\n"
    }
   }
  },
  {
   "cell_type": "code",
   "execution_count": 283,
   "outputs": [
    {
     "data": {
      "text/plain": "                                         NH3 transport emission [g CO2eq/kg H2]\nElectricity emission factor change in %                                        \n0                                                                      9.376407\n1                                                                    217.140035\n2                                                                    424.903663\n3                                                                    632.667291\n4                                                                    840.430919\n5                                                                   1048.194547\n6                                                                   1255.958175\n7                                                                   1463.721803\n8                                                                   1671.485432\n9                                                                   1879.249060\n10                                                                  2087.012688\n11                                                                  2294.776316\n12                                                                  2502.539944\n13                                                                  2710.303572\n14                                                                  2918.067200\n15                                                                  3125.830828\n16                                                                  3333.594456\n17                                                                  3541.358085\n18                                                                  3749.121713\n19                                                                  3956.885341\n20                                                                  4164.648969",
      "text/html": "<div>\n<style scoped>\n    .dataframe tbody tr th:only-of-type {\n        vertical-align: middle;\n    }\n\n    .dataframe tbody tr th {\n        vertical-align: top;\n    }\n\n    .dataframe thead th {\n        text-align: right;\n    }\n</style>\n<table border=\"1\" class=\"dataframe\">\n  <thead>\n    <tr style=\"text-align: right;\">\n      <th></th>\n      <th>NH3 transport emission [g CO2eq/kg H2]</th>\n    </tr>\n    <tr>\n      <th>Electricity emission factor change in %</th>\n      <th></th>\n    </tr>\n  </thead>\n  <tbody>\n    <tr>\n      <th>0</th>\n      <td>9.376407</td>\n    </tr>\n    <tr>\n      <th>1</th>\n      <td>217.140035</td>\n    </tr>\n    <tr>\n      <th>2</th>\n      <td>424.903663</td>\n    </tr>\n    <tr>\n      <th>3</th>\n      <td>632.667291</td>\n    </tr>\n    <tr>\n      <th>4</th>\n      <td>840.430919</td>\n    </tr>\n    <tr>\n      <th>5</th>\n      <td>1048.194547</td>\n    </tr>\n    <tr>\n      <th>6</th>\n      <td>1255.958175</td>\n    </tr>\n    <tr>\n      <th>7</th>\n      <td>1463.721803</td>\n    </tr>\n    <tr>\n      <th>8</th>\n      <td>1671.485432</td>\n    </tr>\n    <tr>\n      <th>9</th>\n      <td>1879.249060</td>\n    </tr>\n    <tr>\n      <th>10</th>\n      <td>2087.012688</td>\n    </tr>\n    <tr>\n      <th>11</th>\n      <td>2294.776316</td>\n    </tr>\n    <tr>\n      <th>12</th>\n      <td>2502.539944</td>\n    </tr>\n    <tr>\n      <th>13</th>\n      <td>2710.303572</td>\n    </tr>\n    <tr>\n      <th>14</th>\n      <td>2918.067200</td>\n    </tr>\n    <tr>\n      <th>15</th>\n      <td>3125.830828</td>\n    </tr>\n    <tr>\n      <th>16</th>\n      <td>3333.594456</td>\n    </tr>\n    <tr>\n      <th>17</th>\n      <td>3541.358085</td>\n    </tr>\n    <tr>\n      <th>18</th>\n      <td>3749.121713</td>\n    </tr>\n    <tr>\n      <th>19</th>\n      <td>3956.885341</td>\n    </tr>\n    <tr>\n      <th>20</th>\n      <td>4164.648969</td>\n    </tr>\n  </tbody>\n</table>\n</div>"
     },
     "execution_count": 283,
     "metadata": {},
     "output_type": "execute_result"
    }
   ],
   "source": [
    "nh3_transport_sensi = pd.DataFrame(sensitivity, index=range(21), columns=['NH3 transport emission [g CO2eq/kg H2]'])\n",
    "nh3_transport_sensi.index.name = 'Electricity emission factor change in %'\n",
    "nh3_transport_sensi\n"
   ],
   "metadata": {
    "collapsed": false,
    "pycharm": {
     "name": "#%%\n"
    }
   }
  },
  {
   "cell_type": "code",
   "execution_count": 275,
   "outputs": [
    {
     "data": {
      "text/plain": "                                         LH2 transport emission [g CO2eq/kg H2]\nElectricity emission factor change in %                                        \n0                                                                      9.376407\n1                                                                     61.380035\n2                                                                    113.383663\n3                                                                    165.387291\n4                                                                    217.390919\n5                                                                    269.394547\n6                                                                    321.398175\n7                                                                    373.401803\n8                                                                    425.405432\n9                                                                    477.409060\n10                                                                   529.412688\n11                                                                   581.416316\n12                                                                   633.419944\n13                                                                   685.423572\n14                                                                   737.427200\n15                                                                   789.430828\n16                                                                   841.434456\n17                                                                   893.438085\n18                                                                   945.441713\n19                                                                   997.445341\n20                                                                  1049.448969",
      "text/html": "<div>\n<style scoped>\n    .dataframe tbody tr th:only-of-type {\n        vertical-align: middle;\n    }\n\n    .dataframe tbody tr th {\n        vertical-align: top;\n    }\n\n    .dataframe thead th {\n        text-align: right;\n    }\n</style>\n<table border=\"1\" class=\"dataframe\">\n  <thead>\n    <tr style=\"text-align: right;\">\n      <th></th>\n      <th>LH2 transport emission [g CO2eq/kg H2]</th>\n    </tr>\n    <tr>\n      <th>Electricity emission factor change in %</th>\n      <th></th>\n    </tr>\n  </thead>\n  <tbody>\n    <tr>\n      <th>0</th>\n      <td>9.376407</td>\n    </tr>\n    <tr>\n      <th>1</th>\n      <td>61.380035</td>\n    </tr>\n    <tr>\n      <th>2</th>\n      <td>113.383663</td>\n    </tr>\n    <tr>\n      <th>3</th>\n      <td>165.387291</td>\n    </tr>\n    <tr>\n      <th>4</th>\n      <td>217.390919</td>\n    </tr>\n    <tr>\n      <th>5</th>\n      <td>269.394547</td>\n    </tr>\n    <tr>\n      <th>6</th>\n      <td>321.398175</td>\n    </tr>\n    <tr>\n      <th>7</th>\n      <td>373.401803</td>\n    </tr>\n    <tr>\n      <th>8</th>\n      <td>425.405432</td>\n    </tr>\n    <tr>\n      <th>9</th>\n      <td>477.409060</td>\n    </tr>\n    <tr>\n      <th>10</th>\n      <td>529.412688</td>\n    </tr>\n    <tr>\n      <th>11</th>\n      <td>581.416316</td>\n    </tr>\n    <tr>\n      <th>12</th>\n      <td>633.419944</td>\n    </tr>\n    <tr>\n      <th>13</th>\n      <td>685.423572</td>\n    </tr>\n    <tr>\n      <th>14</th>\n      <td>737.427200</td>\n    </tr>\n    <tr>\n      <th>15</th>\n      <td>789.430828</td>\n    </tr>\n    <tr>\n      <th>16</th>\n      <td>841.434456</td>\n    </tr>\n    <tr>\n      <th>17</th>\n      <td>893.438085</td>\n    </tr>\n    <tr>\n      <th>18</th>\n      <td>945.441713</td>\n    </tr>\n    <tr>\n      <th>19</th>\n      <td>997.445341</td>\n    </tr>\n    <tr>\n      <th>20</th>\n      <td>1049.448969</td>\n    </tr>\n  </tbody>\n</table>\n</div>"
     },
     "execution_count": 275,
     "metadata": {},
     "output_type": "execute_result"
    }
   ],
   "source": [
    "nh3_transport_sensi_wo_recon = pd.DataFrame(sensitivity, index=range(21), columns=['NH3 transport emission w/o recon [g CO2eq/kg H2]'])\n",
    "nh3_transport_sensi_wo_recon.index.name = 'Electricity emission factor change in %'\n",
    "nh3_transport_sensi_wo_recon\n"
   ],
   "metadata": {
    "collapsed": false,
    "pycharm": {
     "name": "#%%\n"
    }
   }
  },
  {
   "cell_type": "code",
   "execution_count": 276,
   "outputs": [],
   "source": [
    "# Create csv file from results dataframe\n",
    "output_file = os.path.join(path_csv, 'NH3_EF_sensi_wo_recon.csv')\n",
    "nh3_transport_sensi_wo_recon.to_csv(output_file, sep=';')"
   ],
   "metadata": {
    "collapsed": false,
    "pycharm": {
     "name": "#%%\n"
    }
   }
  },
  {
   "cell_type": "code",
   "execution_count": 284,
   "outputs": [
    {
     "data": {
      "text/plain": "<Figure size 500x400 with 1 Axes>",
      "image/png": "[encoded data removed]"
     },
     "metadata": {},
     "output_type": "display_data"
    }
   ],
   "source": [
    "import matplotlib.ticker as mtick\n",
    "\n",
    "fig, ax = plt.subplots(figsize=(5,4))\n",
    "#plt.subplot(1,2,1)\n",
    "\n",
    "\n",
    "plt.plot(lh2_transport_sensi, color='navy', linestyle='solid', label = 'LH2')\n",
    "plt.plot(nh3_transport_sensi, color='darkorange',linestyle='-', label = 'NH3')\n",
    "plt.plot(nh3_transport_sensi_wo_recon, color='darkorange',linestyle='--', label = 'NH3 w/o cracking')\n",
    "plt.plot(pipeline_transport_sensi, color='slateblue',linestyle='-', label = 'Pipeline')\n",
    "\n",
    "plt.grid(True, axis='y')\n",
    "#plt.grid(True, axis='x')\n",
    "ax.set_axisbelow(True)\n",
    "ax.xaxis.set_major_formatter(mtick.PercentFormatter(10, decimals=None))\n",
    "plt.locator_params(axis='x', nbins=5)\n",
    "plt.ylabel('[g CO2eq/kg H2]')\n",
    "plt.xlabel('Electricity emission factor change')\n",
    "plt.legend()\n",
    "\n",
    "\n",
    "\n",
    "title = 'Transport_EF_sensi'\n",
    "plt.savefig(path_plt + title + '.png', transparent=True)\n",
    "\n",
    "plt.show()"
   ],
   "metadata": {
    "collapsed": false,
    "pycharm": {
     "name": "#%%\n"
    }
   }
  },
  {
   "cell_type": "code",
   "execution_count": null,
   "outputs": [],
   "source": [],
   "metadata": {
    "collapsed": false,
    "pycharm": {
     "name": "#%%\n"
    }
   }
  }
 ],
 "metadata": {
  "kernelspec": {
   "display_name": "Python 3",
   "language": "python",
   "name": "python3"
  },
  "language_info": {
   "codemirror_mode": {
    "name": "ipython",
    "version": 2
   },
   "file_extension": ".py",
   "mimetype": "text/x-python",
   "name": "python",
   "nbconvert_exporter": "python",
   "pygments_lexer": "ipython2",
   "version": "2.7.6"
  }
 },
 "nbformat": 4,
 "nbformat_minor": 0
}