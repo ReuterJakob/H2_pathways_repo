{
 "cells": [
  {
   "cell_type": "code",
   "execution_count": 770,
   "metadata": {
    "collapsed": true,
    "pycharm": {
     "name": "#%%\n"
    }
   },
   "outputs": [],
   "source": [
    "import numpy as np\n",
    "import pandas as pd\n",
    "from matplotlib import pyplot as plt\n",
    "import os\n",
    "from openpyxl import load_workbook"
   ]
  },
  {
   "cell_type": "markdown",
   "source": [
    "## Read inputs"
   ],
   "metadata": {
    "collapsed": false,
    "pycharm": {
     "name": "#%% md\n"
    }
   }
  },
  {
   "cell_type": "code",
   "execution_count": 1016,
   "outputs": [],
   "source": [
    "path = '/Users/jakob/PycharmProjects/H2_pathways_repo/data/raw/H2_supply_route_assessment.xlsx'\n",
    "path_plt = '/Users/jakob/PycharmProjects/H2_pathways_repo/Plots/'"
   ],
   "metadata": {
    "collapsed": false,
    "pycharm": {
     "name": "#%%\n"
    }
   }
  },
  {
   "cell_type": "code",
   "execution_count": 794,
   "outputs": [
    {
     "data": {
      "text/plain": "                                                      Parameter  \\\nID                                                                \nDiscount rate [%]                                          0.05   \nOffshore Capex cost factor                                  1.7   \nPipeline Opex [€/a as % of Capex]                         0.017   \nCompressor Opex [€/a as % of Capex]                       0.009   \nLow - Compression capacity @ 48inch [MW_el/1000km]          190   \n...                                                         ...   \nHigh - retrofit Offshore (EHB 2022) Capex Compr...         1.06   \nNaN                                                         NaN   \nNaN                                                         NaN   \nNaN                                                         NaN   \nNaN                                                 IEAGHG 2017   \n\n                                                               Reference  2020  \nID                                                                              \nDiscount rate [%]                                                    NaN   NaN  \nOffshore Capex cost factor                          EHB 2022; IRENA 2022   NaN  \nPipeline Opex [€/a as % of Capex]                                    NaN   NaN  \nCompressor Opex [€/a as % of Capex]                                  NaN   NaN  \nLow - Compression capacity @ 48inch [MW_el/1000km]              EHB 2020   NaN  \n...                                                                  ...   ...  \nHigh - retrofit Offshore (EHB 2022) Capex Compr...                   NaN   NaN  \nNaN                                                                  NaN   NaN  \nNaN                                                                  NaN   NaN  \nNaN                                                                  NaN   NaN  \nNaN                                                                  NaN   NaN  \n\n[90 rows x 3 columns]",
      "text/html": "<div>\n<style scoped>\n    .dataframe tbody tr th:only-of-type {\n        vertical-align: middle;\n    }\n\n    .dataframe tbody tr th {\n        vertical-align: top;\n    }\n\n    .dataframe thead th {\n        text-align: right;\n    }\n</style>\n<table border=\"1\" class=\"dataframe\">\n  <thead>\n    <tr style=\"text-align: right;\">\n      <th></th>\n      <th>Parameter</th>\n      <th>Reference</th>\n      <th>2020</th>\n    </tr>\n    <tr>\n      <th>ID</th>\n      <th></th>\n      <th></th>\n      <th></th>\n    </tr>\n  </thead>\n  <tbody>\n    <tr>\n      <th>Discount rate [%]</th>\n      <td>0.05</td>\n      <td>NaN</td>\n      <td>NaN</td>\n    </tr>\n    <tr>\n      <th>Offshore Capex cost factor</th>\n      <td>1.7</td>\n      <td>EHB 2022; IRENA 2022</td>\n      <td>NaN</td>\n    </tr>\n    <tr>\n      <th>Pipeline Opex [€/a as % of Capex]</th>\n      <td>0.017</td>\n      <td>NaN</td>\n      <td>NaN</td>\n    </tr>\n    <tr>\n      <th>Compressor Opex [€/a as % of Capex]</th>\n      <td>0.009</td>\n      <td>NaN</td>\n      <td>NaN</td>\n    </tr>\n    <tr>\n      <th>Low - Compression capacity @ 48inch [MW_el/1000km]</th>\n      <td>190</td>\n      <td>EHB 2020</td>\n      <td>NaN</td>\n    </tr>\n    <tr>\n      <th>...</th>\n      <td>...</td>\n      <td>...</td>\n      <td>...</td>\n    </tr>\n    <tr>\n      <th>High - retrofit Offshore (EHB 2022) Capex Compression [€/kg/1000km]</th>\n      <td>1.06</td>\n      <td>NaN</td>\n      <td>NaN</td>\n    </tr>\n    <tr>\n      <th>NaN</th>\n      <td>NaN</td>\n      <td>NaN</td>\n      <td>NaN</td>\n    </tr>\n    <tr>\n      <th>NaN</th>\n      <td>NaN</td>\n      <td>NaN</td>\n      <td>NaN</td>\n    </tr>\n    <tr>\n      <th>NaN</th>\n      <td>NaN</td>\n      <td>NaN</td>\n      <td>NaN</td>\n    </tr>\n    <tr>\n      <th>NaN</th>\n      <td>IEAGHG 2017</td>\n      <td>NaN</td>\n      <td>NaN</td>\n    </tr>\n  </tbody>\n</table>\n<p>90 rows × 3 columns</p>\n</div>"
     },
     "execution_count": 794,
     "metadata": {},
     "output_type": "execute_result"
    }
   ],
   "source": [
    "pipe = pd.read_excel(path, sheet_name='Pipeline Transport', decimal=',', index_col=0)\n",
    "pipe"
   ],
   "metadata": {
    "collapsed": false,
    "pycharm": {
     "name": "#%%\n"
    }
   }
  },
  {
   "cell_type": "code",
   "execution_count": 795,
   "outputs": [
    {
     "data": {
      "text/plain": "                                                            Parameter  \\\nID                                                                      \nGHG intensity of electricity generation [g CO2e...                NaN   \nGHG intensity of electricity generation [g CO2e...                NaN   \nGrey hydrogen emissions [g CO2/MJ H2] - Norway                  96.77   \nGrey hydrogen emissions [kg CO2/kg H2] - Norway               11.6124   \nBlue hydrogen emissions [g CO2/MJ H2] - Norway                    NaN   \n...                                                               ...   \nAssumed load factor for compressor electricity ...               5000   \nAssumed load factor for compressor electricity ...           0.570776   \nCapacity at full load factor [GW_H2_LHV]                           13   \nCapacity at full load factor [kg H2/a]              2033571428.571429   \nPipeline load factor [%]                                         0.75   \n\n                                                                        Ref  \\\nID                                                                            \nGHG intensity of electricity generation [g CO2e...                 EEA 2022   \nGHG intensity of electricity generation [g CO2e...        Our world in Data   \nGrey hydrogen emissions [g CO2/MJ H2] - Norway      Own calculation @ GWP20   \nGrey hydrogen emissions [kg CO2/kg H2] - Norway     Own calculation @ GWP20   \nBlue hydrogen emissions [g CO2/MJ H2] - Norway      Own calculation @ GWP20   \n...                                                                     ...   \nAssumed load factor for compressor electricity ...                 EHB 2020   \nAssumed load factor for compressor electricity ...                 EHB 2020   \nCapacity at full load factor [GW_H2_LHV]                                NaN   \nCapacity at full load factor [kg H2/a]                                  NaN   \nPipeline load factor [%]                                                NaN   \n\n                                                     1990   1991   1992  \\\nID                                                                        \nGHG intensity of electricity generation [g CO2e...  652.0  656.0  628.0   \nGHG intensity of electricity generation [g CO2e...    NaN    NaN    NaN   \nGrey hydrogen emissions [g CO2/MJ H2] - Norway        NaN    NaN    NaN   \nGrey hydrogen emissions [kg CO2/kg H2] - Norway       NaN    NaN    NaN   \nBlue hydrogen emissions [g CO2/MJ H2] - Norway        NaN    NaN    NaN   \n...                                                   ...    ...    ...   \nAssumed load factor for compressor electricity ...    NaN    NaN    NaN   \nAssumed load factor for compressor electricity ...    NaN    NaN    NaN   \nCapacity at full load factor [GW_H2_LHV]              NaN    NaN    NaN   \nCapacity at full load factor [kg H2/a]                NaN    NaN    NaN   \nPipeline load factor [%]                              NaN    NaN    NaN   \n\n                                                     1993   1994   1995  \\\nID                                                                        \nGHG intensity of electricity generation [g CO2e...  631.0  626.0  610.0   \nGHG intensity of electricity generation [g CO2e...    NaN    NaN    NaN   \nGrey hydrogen emissions [g CO2/MJ H2] - Norway        NaN    NaN    NaN   \nGrey hydrogen emissions [kg CO2/kg H2] - Norway       NaN    NaN    NaN   \nBlue hydrogen emissions [g CO2/MJ H2] - Norway        NaN    NaN    NaN   \n...                                                   ...    ...    ...   \nAssumed load factor for compressor electricity ...    NaN    NaN    NaN   \nAssumed load factor for compressor electricity ...    NaN    NaN    NaN   \nCapacity at full load factor [GW_H2_LHV]              NaN    NaN    NaN   \nCapacity at full load factor [kg H2/a]                NaN    NaN    NaN   \nPipeline load factor [%]                              NaN    NaN    NaN   \n\n                                                     1996   1997  ...  \\\nID                                                                ...   \nGHG intensity of electricity generation [g CO2e...  580.0  566.0  ...   \nGHG intensity of electricity generation [g CO2e...    NaN    NaN  ...   \nGrey hydrogen emissions [g CO2/MJ H2] - Norway        NaN    NaN  ...   \nGrey hydrogen emissions [kg CO2/kg H2] - Norway       NaN    NaN  ...   \nBlue hydrogen emissions [g CO2/MJ H2] - Norway        NaN    NaN  ...   \n...                                                   ...    ...  ...   \nAssumed load factor for compressor electricity ...    NaN    NaN  ...   \nAssumed load factor for compressor electricity ...    NaN    NaN  ...   \nCapacity at full load factor [GW_H2_LHV]              NaN    NaN  ...   \nCapacity at full load factor [kg H2/a]                NaN    NaN  ...   \nPipeline load factor [%]                              NaN    NaN  ...   \n\n                                                         2041      2042  \\\nID                                                                        \nGHG intensity of electricity generation [g CO2e...  62.592000  46.94400   \nGHG intensity of electricity generation [g CO2e...   7.783673   6.91882   \nGrey hydrogen emissions [g CO2/MJ H2] - Norway            NaN       NaN   \nGrey hydrogen emissions [kg CO2/kg H2] - Norway           NaN       NaN   \nBlue hydrogen emissions [g CO2/MJ H2] - Norway      25.499000  24.61800   \n...                                                       ...       ...   \nAssumed load factor for compressor electricity ...        NaN       NaN   \nAssumed load factor for compressor electricity ...        NaN       NaN   \nCapacity at full load factor [GW_H2_LHV]                  NaN       NaN   \nCapacity at full load factor [kg H2/a]                    NaN       NaN   \nPipeline load factor [%]                                  NaN       NaN   \n\n                                                         2043       2044  \\\nID                                                                         \nGHG intensity of electricity generation [g CO2e...  31.296000  15.648000   \nGHG intensity of electricity generation [g CO2e...   6.053968   5.189115   \nGrey hydrogen emissions [g CO2/MJ H2] - Norway            NaN        NaN   \nGrey hydrogen emissions [kg CO2/kg H2] - Norway           NaN        NaN   \nBlue hydrogen emissions [g CO2/MJ H2] - Norway      23.737000  22.856000   \n...                                                       ...        ...   \nAssumed load factor for compressor electricity ...        NaN        NaN   \nAssumed load factor for compressor electricity ...        NaN        NaN   \nCapacity at full load factor [GW_H2_LHV]                  NaN        NaN   \nCapacity at full load factor [kg H2/a]                    NaN        NaN   \nPipeline load factor [%]                                  NaN        NaN   \n\n                                                         2045      2046  \\\nID                                                                        \nGHG intensity of electricity generation [g CO2e...   0.000000   0.00000   \nGHG intensity of electricity generation [g CO2e...   4.324263   3.45941   \nGrey hydrogen emissions [g CO2/MJ H2] - Norway            NaN       NaN   \nGrey hydrogen emissions [kg CO2/kg H2] - Norway           NaN       NaN   \nBlue hydrogen emissions [g CO2/MJ H2] - Norway      21.975000  21.09400   \n...                                                       ...       ...   \nAssumed load factor for compressor electricity ...        NaN       NaN   \nAssumed load factor for compressor electricity ...        NaN       NaN   \nCapacity at full load factor [GW_H2_LHV]                  NaN       NaN   \nCapacity at full load factor [kg H2/a]                    NaN       NaN   \nPipeline load factor [%]                                  NaN       NaN   \n\n                                                         2047       2048  \\\nID                                                                         \nGHG intensity of electricity generation [g CO2e...   0.000000   0.000000   \nGHG intensity of electricity generation [g CO2e...   2.594558   1.729705   \nGrey hydrogen emissions [g CO2/MJ H2] - Norway            NaN        NaN   \nGrey hydrogen emissions [kg CO2/kg H2] - Norway           NaN        NaN   \nBlue hydrogen emissions [g CO2/MJ H2] - Norway      20.213000  19.332000   \n...                                                       ...        ...   \nAssumed load factor for compressor electricity ...        NaN        NaN   \nAssumed load factor for compressor electricity ...        NaN        NaN   \nCapacity at full load factor [GW_H2_LHV]                  NaN        NaN   \nCapacity at full load factor [kg H2/a]                    NaN        NaN   \nPipeline load factor [%]                                  NaN        NaN   \n\n                                                         2049   2050  \nID                                                                    \nGHG intensity of electricity generation [g CO2e...   0.000000   0.00  \nGHG intensity of electricity generation [g CO2e...   0.864853   0.00  \nGrey hydrogen emissions [g CO2/MJ H2] - Norway            NaN    NaN  \nGrey hydrogen emissions [kg CO2/kg H2] - Norway           NaN    NaN  \nBlue hydrogen emissions [g CO2/MJ H2] - Norway      18.451000  17.57  \n...                                                       ...    ...  \nAssumed load factor for compressor electricity ...        NaN    NaN  \nAssumed load factor for compressor electricity ...        NaN    NaN  \nCapacity at full load factor [GW_H2_LHV]                  NaN    NaN  \nCapacity at full load factor [kg H2/a]                    NaN    NaN  \nPipeline load factor [%]                                  NaN    NaN  \n\n[63 rows x 63 columns]",
      "text/html": "<div>\n<style scoped>\n    .dataframe tbody tr th:only-of-type {\n        vertical-align: middle;\n    }\n\n    .dataframe tbody tr th {\n        vertical-align: top;\n    }\n\n    .dataframe thead th {\n        text-align: right;\n    }\n</style>\n<table border=\"1\" class=\"dataframe\">\n  <thead>\n    <tr style=\"text-align: right;\">\n      <th></th>\n      <th>Parameter</th>\n      <th>Ref</th>\n      <th>1990</th>\n      <th>1991</th>\n      <th>1992</th>\n      <th>1993</th>\n      <th>1994</th>\n      <th>1995</th>\n      <th>1996</th>\n      <th>1997</th>\n      <th>...</th>\n      <th>2041</th>\n      <th>2042</th>\n      <th>2043</th>\n      <th>2044</th>\n      <th>2045</th>\n      <th>2046</th>\n      <th>2047</th>\n      <th>2048</th>\n      <th>2049</th>\n      <th>2050</th>\n    </tr>\n    <tr>\n      <th>ID</th>\n      <th></th>\n      <th></th>\n      <th></th>\n      <th></th>\n      <th></th>\n      <th></th>\n      <th></th>\n      <th></th>\n      <th></th>\n      <th></th>\n      <th></th>\n      <th></th>\n      <th></th>\n      <th></th>\n      <th></th>\n      <th></th>\n      <th></th>\n      <th></th>\n      <th></th>\n      <th></th>\n      <th></th>\n    </tr>\n  </thead>\n  <tbody>\n    <tr>\n      <th>GHG intensity of electricity generation [g CO2eq/kWh] - Germany</th>\n      <td>NaN</td>\n      <td>EEA 2022</td>\n      <td>652.0</td>\n      <td>656.0</td>\n      <td>628.0</td>\n      <td>631.0</td>\n      <td>626.0</td>\n      <td>610.0</td>\n      <td>580.0</td>\n      <td>566.0</td>\n      <td>...</td>\n      <td>62.592000</td>\n      <td>46.94400</td>\n      <td>31.296000</td>\n      <td>15.648000</td>\n      <td>0.000000</td>\n      <td>0.00000</td>\n      <td>0.000000</td>\n      <td>0.000000</td>\n      <td>0.000000</td>\n      <td>0.00</td>\n    </tr>\n    <tr>\n      <th>GHG intensity of electricity generation [g CO2eq/kWh] - Norway</th>\n      <td>NaN</td>\n      <td>Our world in Data</td>\n      <td>NaN</td>\n      <td>NaN</td>\n      <td>NaN</td>\n      <td>NaN</td>\n      <td>NaN</td>\n      <td>NaN</td>\n      <td>NaN</td>\n      <td>NaN</td>\n      <td>...</td>\n      <td>7.783673</td>\n      <td>6.91882</td>\n      <td>6.053968</td>\n      <td>5.189115</td>\n      <td>4.324263</td>\n      <td>3.45941</td>\n      <td>2.594558</td>\n      <td>1.729705</td>\n      <td>0.864853</td>\n      <td>0.00</td>\n    </tr>\n    <tr>\n      <th>Grey hydrogen emissions [g CO2/MJ H2] - Norway</th>\n      <td>96.77</td>\n      <td>Own calculation @ GWP20</td>\n      <td>NaN</td>\n      <td>NaN</td>\n      <td>NaN</td>\n      <td>NaN</td>\n      <td>NaN</td>\n      <td>NaN</td>\n      <td>NaN</td>\n      <td>NaN</td>\n      <td>...</td>\n      <td>NaN</td>\n      <td>NaN</td>\n      <td>NaN</td>\n      <td>NaN</td>\n      <td>NaN</td>\n      <td>NaN</td>\n      <td>NaN</td>\n      <td>NaN</td>\n      <td>NaN</td>\n      <td>NaN</td>\n    </tr>\n    <tr>\n      <th>Grey hydrogen emissions [kg CO2/kg H2] - Norway</th>\n      <td>11.6124</td>\n      <td>Own calculation @ GWP20</td>\n      <td>NaN</td>\n      <td>NaN</td>\n      <td>NaN</td>\n      <td>NaN</td>\n      <td>NaN</td>\n      <td>NaN</td>\n      <td>NaN</td>\n      <td>NaN</td>\n      <td>...</td>\n      <td>NaN</td>\n      <td>NaN</td>\n      <td>NaN</td>\n      <td>NaN</td>\n      <td>NaN</td>\n      <td>NaN</td>\n      <td>NaN</td>\n      <td>NaN</td>\n      <td>NaN</td>\n      <td>NaN</td>\n    </tr>\n    <tr>\n      <th>Blue hydrogen emissions [g CO2/MJ H2] - Norway</th>\n      <td>NaN</td>\n      <td>Own calculation @ GWP20</td>\n      <td>NaN</td>\n      <td>NaN</td>\n      <td>NaN</td>\n      <td>NaN</td>\n      <td>NaN</td>\n      <td>NaN</td>\n      <td>NaN</td>\n      <td>NaN</td>\n      <td>...</td>\n      <td>25.499000</td>\n      <td>24.61800</td>\n      <td>23.737000</td>\n      <td>22.856000</td>\n      <td>21.975000</td>\n      <td>21.09400</td>\n      <td>20.213000</td>\n      <td>19.332000</td>\n      <td>18.451000</td>\n      <td>17.57</td>\n    </tr>\n    <tr>\n      <th>...</th>\n      <td>...</td>\n      <td>...</td>\n      <td>...</td>\n      <td>...</td>\n      <td>...</td>\n      <td>...</td>\n      <td>...</td>\n      <td>...</td>\n      <td>...</td>\n      <td>...</td>\n      <td>...</td>\n      <td>...</td>\n      <td>...</td>\n      <td>...</td>\n      <td>...</td>\n      <td>...</td>\n      <td>...</td>\n      <td>...</td>\n      <td>...</td>\n      <td>...</td>\n      <td>...</td>\n    </tr>\n    <tr>\n      <th>Assumed load factor for compressor electricity consumption [h/a]</th>\n      <td>5000</td>\n      <td>EHB 2020</td>\n      <td>NaN</td>\n      <td>NaN</td>\n      <td>NaN</td>\n      <td>NaN</td>\n      <td>NaN</td>\n      <td>NaN</td>\n      <td>NaN</td>\n      <td>NaN</td>\n      <td>...</td>\n      <td>NaN</td>\n      <td>NaN</td>\n      <td>NaN</td>\n      <td>NaN</td>\n      <td>NaN</td>\n      <td>NaN</td>\n      <td>NaN</td>\n      <td>NaN</td>\n      <td>NaN</td>\n      <td>NaN</td>\n    </tr>\n    <tr>\n      <th>Assumed load factor for compressor electricity consumption [%]</th>\n      <td>0.570776</td>\n      <td>EHB 2020</td>\n      <td>NaN</td>\n      <td>NaN</td>\n      <td>NaN</td>\n      <td>NaN</td>\n      <td>NaN</td>\n      <td>NaN</td>\n      <td>NaN</td>\n      <td>NaN</td>\n      <td>...</td>\n      <td>NaN</td>\n      <td>NaN</td>\n      <td>NaN</td>\n      <td>NaN</td>\n      <td>NaN</td>\n      <td>NaN</td>\n      <td>NaN</td>\n      <td>NaN</td>\n      <td>NaN</td>\n      <td>NaN</td>\n    </tr>\n    <tr>\n      <th>Capacity at full load factor [GW_H2_LHV]</th>\n      <td>13</td>\n      <td>NaN</td>\n      <td>NaN</td>\n      <td>NaN</td>\n      <td>NaN</td>\n      <td>NaN</td>\n      <td>NaN</td>\n      <td>NaN</td>\n      <td>NaN</td>\n      <td>NaN</td>\n      <td>...</td>\n      <td>NaN</td>\n      <td>NaN</td>\n      <td>NaN</td>\n      <td>NaN</td>\n      <td>NaN</td>\n      <td>NaN</td>\n      <td>NaN</td>\n      <td>NaN</td>\n      <td>NaN</td>\n      <td>NaN</td>\n    </tr>\n    <tr>\n      <th>Capacity at full load factor [kg H2/a]</th>\n      <td>2033571428.571429</td>\n      <td>NaN</td>\n      <td>NaN</td>\n      <td>NaN</td>\n      <td>NaN</td>\n      <td>NaN</td>\n      <td>NaN</td>\n      <td>NaN</td>\n      <td>NaN</td>\n      <td>NaN</td>\n      <td>...</td>\n      <td>NaN</td>\n      <td>NaN</td>\n      <td>NaN</td>\n      <td>NaN</td>\n      <td>NaN</td>\n      <td>NaN</td>\n      <td>NaN</td>\n      <td>NaN</td>\n      <td>NaN</td>\n      <td>NaN</td>\n    </tr>\n    <tr>\n      <th>Pipeline load factor [%]</th>\n      <td>0.75</td>\n      <td>NaN</td>\n      <td>NaN</td>\n      <td>NaN</td>\n      <td>NaN</td>\n      <td>NaN</td>\n      <td>NaN</td>\n      <td>NaN</td>\n      <td>NaN</td>\n      <td>NaN</td>\n      <td>...</td>\n      <td>NaN</td>\n      <td>NaN</td>\n      <td>NaN</td>\n      <td>NaN</td>\n      <td>NaN</td>\n      <td>NaN</td>\n      <td>NaN</td>\n      <td>NaN</td>\n      <td>NaN</td>\n      <td>NaN</td>\n    </tr>\n  </tbody>\n</table>\n<p>63 rows × 63 columns</p>\n</div>"
     },
     "execution_count": 795,
     "metadata": {},
     "output_type": "execute_result"
    }
   ],
   "source": [
    "GHG =  pd.read_excel(path, sheet_name='GHG Footprint', decimal=',', index_col=0)\n",
    "GHG"
   ],
   "metadata": {
    "collapsed": false,
    "pycharm": {
     "name": "#%%\n"
    }
   }
  },
  {
   "cell_type": "code",
   "execution_count": 796,
   "outputs": [
    {
     "data": {
      "text/plain": "                                                                                        Ref  \\\nProperties                                                                                    \nProperties - Gas density [kg/m3]                                                   BOG 2020   \nProperties - LHV [MJ/kg]                                                           BOG 2020   \nProperties - LHV [kWh/kg]                 https://www.iea-amf.org/content/fuel_informati...   \nProperties - LHV [kWh/m3]                  https://www.rechargenews.com/energy-transitio...   \nProperties - Boiling point at 1 Bar [°C]                                                NaN   \n...                                                                                     ...   \nCAPEX ($/kW-H2), incl. Util.                                                        EWI PTX   \nOPEX ($/kW-H2/a), incl. Util.                                                       EWI PTX   \nElectricity use (kWh/kWh-H2                                                         EWI PTX   \nUtilisation                                                                         EWI PTX   \nReconversion - Lifetime [Years]                                                     EWI PTX   \n\n                                            LH2      2020       2021  \\\nProperties                                                             \nProperties - Gas density [kg/m3]           71.1       NaN        NaN   \nProperties - LHV [MJ/kg]                    120       NaN        NaN   \nProperties - LHV [kWh/kg]                 33.33       NaN        NaN   \nProperties - LHV [kWh/m3]                  2350       NaN        NaN   \nProperties - Boiling point at 1 Bar [°C]   -253       NaN        NaN   \n...                                         ...       ...        ...   \nCAPEX ($/kW-H2), incl. Util.                NaN       NaN        NaN   \nOPEX ($/kW-H2/a), incl. Util.               NaN  57.69591  57.118951   \nElectricity use (kWh/kWh-H2                0.01   0.01000   0.010000   \nUtilisation                                 NaN   0.90000   0.900000   \nReconversion - Lifetime [Years]              30       NaN        NaN   \n\n                                               2022       2023       2024  \\\nProperties                                                                  \nProperties - Gas density [kg/m3]                NaN        NaN        NaN   \nProperties - LHV [MJ/kg]                        NaN        NaN        NaN   \nProperties - LHV [kWh/kg]                       NaN        NaN        NaN   \nProperties - LHV [kWh/m3]                       NaN        NaN        NaN   \nProperties - Boiling point at 1 Bar [°C]        NaN        NaN        NaN   \n...                                             ...        ...        ...   \nCAPEX ($/kW-H2), incl. Util.                    NaN        NaN        NaN   \nOPEX ($/kW-H2/a), incl. Util.             56.541992  55.965033  55.388074   \nElectricity use (kWh/kWh-H2                0.010000   0.010000   0.010000   \nUtilisation                                0.900000   0.900000   0.900000   \nReconversion - Lifetime [Years]                 NaN        NaN        NaN   \n\n                                               2025       2026       2027  \\\nProperties                                                                  \nProperties - Gas density [kg/m3]                NaN        NaN        NaN   \nProperties - LHV [MJ/kg]                        NaN        NaN        NaN   \nProperties - LHV [kWh/kg]                       NaN        NaN        NaN   \nProperties - LHV [kWh/m3]                       NaN        NaN        NaN   \nProperties - Boiling point at 1 Bar [°C]        NaN        NaN        NaN   \n...                                             ...        ...        ...   \nCAPEX ($/kW-H2), incl. Util.                    NaN        NaN        NaN   \nOPEX ($/kW-H2/a), incl. Util.             54.811115  54.234156  53.657197   \nElectricity use (kWh/kWh-H2                0.010000   0.010000   0.010000   \nUtilisation                                0.900000   0.900000   0.900000   \nReconversion - Lifetime [Years]                 NaN        NaN        NaN   \n\n                                          ...       2041       2042  \\\nProperties                                ...                         \nProperties - Gas density [kg/m3]          ...        NaN        NaN   \nProperties - LHV [MJ/kg]                  ...        NaN        NaN   \nProperties - LHV [kWh/kg]                 ...        NaN        NaN   \nProperties - LHV [kWh/m3]                 ...        NaN        NaN   \nProperties - Boiling point at 1 Bar [°C]  ...        NaN        NaN   \n...                                       ...        ...        ...   \nCAPEX ($/kW-H2), incl. Util.              ...        NaN        NaN   \nOPEX ($/kW-H2/a), incl. Util.             ...  37.646582  36.348424   \nElectricity use (kWh/kWh-H2               ...   0.010000   0.010000   \nUtilisation                               ...   0.900000   0.900000   \nReconversion - Lifetime [Years]           ...        NaN        NaN   \n\n                                               2043       2044      2045  \\\nProperties                                                                 \nProperties - Gas density [kg/m3]                NaN        NaN       NaN   \nProperties - LHV [MJ/kg]                        NaN        NaN       NaN   \nProperties - LHV [kWh/kg]                       NaN        NaN       NaN   \nProperties - LHV [kWh/m3]                       NaN        NaN       NaN   \nProperties - Boiling point at 1 Bar [°C]        NaN        NaN       NaN   \n...                                             ...        ...       ...   \nCAPEX ($/kW-H2), incl. Util.                    NaN        NaN       NaN   \nOPEX ($/kW-H2/a), incl. Util.             35.050266  33.752108  32.45395   \nElectricity use (kWh/kWh-H2                0.010000   0.010000   0.01000   \nUtilisation                                0.900000   0.900000   0.90000   \nReconversion - Lifetime [Years]                 NaN        NaN       NaN   \n\n                                               2046       2047       2048  \\\nProperties                                                                  \nProperties - Gas density [kg/m3]                NaN        NaN        NaN   \nProperties - LHV [MJ/kg]                        NaN        NaN        NaN   \nProperties - LHV [kWh/kg]                       NaN        NaN        NaN   \nProperties - LHV [kWh/m3]                       NaN        NaN        NaN   \nProperties - Boiling point at 1 Bar [°C]        NaN        NaN        NaN   \n...                                             ...        ...        ...   \nCAPEX ($/kW-H2), incl. Util.                    NaN        NaN        NaN   \nOPEX ($/kW-H2/a), incl. Util.             31.155792  29.857634  28.559476   \nElectricity use (kWh/kWh-H2                0.010000   0.010000   0.010000   \nUtilisation                                0.900000   0.900000   0.900000   \nReconversion - Lifetime [Years]                 NaN        NaN        NaN   \n\n                                               2049      2050  \nProperties                                                     \nProperties - Gas density [kg/m3]                NaN       NaN  \nProperties - LHV [MJ/kg]                        NaN       NaN  \nProperties - LHV [kWh/kg]                       NaN       NaN  \nProperties - LHV [kWh/m3]                       NaN       NaN  \nProperties - Boiling point at 1 Bar [°C]        NaN       NaN  \n...                                             ...       ...  \nCAPEX ($/kW-H2), incl. Util.                    NaN       NaN  \nOPEX ($/kW-H2/a), incl. Util.             27.261318  25.96316  \nElectricity use (kWh/kWh-H2                0.010000   0.01000  \nUtilisation                                0.900000   0.90000  \nReconversion - Lifetime [Years]                 NaN       NaN  \n\n[121 rows x 33 columns]",
      "text/html": "<div>\n<style scoped>\n    .dataframe tbody tr th:only-of-type {\n        vertical-align: middle;\n    }\n\n    .dataframe tbody tr th {\n        vertical-align: top;\n    }\n\n    .dataframe thead th {\n        text-align: right;\n    }\n</style>\n<table border=\"1\" class=\"dataframe\">\n  <thead>\n    <tr style=\"text-align: right;\">\n      <th></th>\n      <th>Ref</th>\n      <th>LH2</th>\n      <th>2020</th>\n      <th>2021</th>\n      <th>2022</th>\n      <th>2023</th>\n      <th>2024</th>\n      <th>2025</th>\n      <th>2026</th>\n      <th>2027</th>\n      <th>...</th>\n      <th>2041</th>\n      <th>2042</th>\n      <th>2043</th>\n      <th>2044</th>\n      <th>2045</th>\n      <th>2046</th>\n      <th>2047</th>\n      <th>2048</th>\n      <th>2049</th>\n      <th>2050</th>\n    </tr>\n    <tr>\n      <th>Properties</th>\n      <th></th>\n      <th></th>\n      <th></th>\n      <th></th>\n      <th></th>\n      <th></th>\n      <th></th>\n      <th></th>\n      <th></th>\n      <th></th>\n      <th></th>\n      <th></th>\n      <th></th>\n      <th></th>\n      <th></th>\n      <th></th>\n      <th></th>\n      <th></th>\n      <th></th>\n      <th></th>\n      <th></th>\n    </tr>\n  </thead>\n  <tbody>\n    <tr>\n      <th>Properties - Gas density [kg/m3]</th>\n      <td>BOG 2020</td>\n      <td>71.1</td>\n      <td>NaN</td>\n      <td>NaN</td>\n      <td>NaN</td>\n      <td>NaN</td>\n      <td>NaN</td>\n      <td>NaN</td>\n      <td>NaN</td>\n      <td>NaN</td>\n      <td>...</td>\n      <td>NaN</td>\n      <td>NaN</td>\n      <td>NaN</td>\n      <td>NaN</td>\n      <td>NaN</td>\n      <td>NaN</td>\n      <td>NaN</td>\n      <td>NaN</td>\n      <td>NaN</td>\n      <td>NaN</td>\n    </tr>\n    <tr>\n      <th>Properties - LHV [MJ/kg]</th>\n      <td>BOG 2020</td>\n      <td>120</td>\n      <td>NaN</td>\n      <td>NaN</td>\n      <td>NaN</td>\n      <td>NaN</td>\n      <td>NaN</td>\n      <td>NaN</td>\n      <td>NaN</td>\n      <td>NaN</td>\n      <td>...</td>\n      <td>NaN</td>\n      <td>NaN</td>\n      <td>NaN</td>\n      <td>NaN</td>\n      <td>NaN</td>\n      <td>NaN</td>\n      <td>NaN</td>\n      <td>NaN</td>\n      <td>NaN</td>\n      <td>NaN</td>\n    </tr>\n    <tr>\n      <th>Properties - LHV [kWh/kg]</th>\n      <td>https://www.iea-amf.org/content/fuel_informati...</td>\n      <td>33.33</td>\n      <td>NaN</td>\n      <td>NaN</td>\n      <td>NaN</td>\n      <td>NaN</td>\n      <td>NaN</td>\n      <td>NaN</td>\n      <td>NaN</td>\n      <td>NaN</td>\n      <td>...</td>\n      <td>NaN</td>\n      <td>NaN</td>\n      <td>NaN</td>\n      <td>NaN</td>\n      <td>NaN</td>\n      <td>NaN</td>\n      <td>NaN</td>\n      <td>NaN</td>\n      <td>NaN</td>\n      <td>NaN</td>\n    </tr>\n    <tr>\n      <th>Properties - LHV [kWh/m3]</th>\n      <td>https://www.rechargenews.com/energy-transitio...</td>\n      <td>2350</td>\n      <td>NaN</td>\n      <td>NaN</td>\n      <td>NaN</td>\n      <td>NaN</td>\n      <td>NaN</td>\n      <td>NaN</td>\n      <td>NaN</td>\n      <td>NaN</td>\n      <td>...</td>\n      <td>NaN</td>\n      <td>NaN</td>\n      <td>NaN</td>\n      <td>NaN</td>\n      <td>NaN</td>\n      <td>NaN</td>\n      <td>NaN</td>\n      <td>NaN</td>\n      <td>NaN</td>\n      <td>NaN</td>\n    </tr>\n    <tr>\n      <th>Properties - Boiling point at 1 Bar [°C]</th>\n      <td>NaN</td>\n      <td>-253</td>\n      <td>NaN</td>\n      <td>NaN</td>\n      <td>NaN</td>\n      <td>NaN</td>\n      <td>NaN</td>\n      <td>NaN</td>\n      <td>NaN</td>\n      <td>NaN</td>\n      <td>...</td>\n      <td>NaN</td>\n      <td>NaN</td>\n      <td>NaN</td>\n      <td>NaN</td>\n      <td>NaN</td>\n      <td>NaN</td>\n      <td>NaN</td>\n      <td>NaN</td>\n      <td>NaN</td>\n      <td>NaN</td>\n    </tr>\n    <tr>\n      <th>...</th>\n      <td>...</td>\n      <td>...</td>\n      <td>...</td>\n      <td>...</td>\n      <td>...</td>\n      <td>...</td>\n      <td>...</td>\n      <td>...</td>\n      <td>...</td>\n      <td>...</td>\n      <td>...</td>\n      <td>...</td>\n      <td>...</td>\n      <td>...</td>\n      <td>...</td>\n      <td>...</td>\n      <td>...</td>\n      <td>...</td>\n      <td>...</td>\n      <td>...</td>\n      <td>...</td>\n    </tr>\n    <tr>\n      <th>CAPEX ($/kW-H2), incl. Util.</th>\n      <td>EWI PTX</td>\n      <td>NaN</td>\n      <td>NaN</td>\n      <td>NaN</td>\n      <td>NaN</td>\n      <td>NaN</td>\n      <td>NaN</td>\n      <td>NaN</td>\n      <td>NaN</td>\n      <td>NaN</td>\n      <td>...</td>\n      <td>NaN</td>\n      <td>NaN</td>\n      <td>NaN</td>\n      <td>NaN</td>\n      <td>NaN</td>\n      <td>NaN</td>\n      <td>NaN</td>\n      <td>NaN</td>\n      <td>NaN</td>\n      <td>NaN</td>\n    </tr>\n    <tr>\n      <th>OPEX ($/kW-H2/a), incl. Util.</th>\n      <td>EWI PTX</td>\n      <td>NaN</td>\n      <td>57.69591</td>\n      <td>57.118951</td>\n      <td>56.541992</td>\n      <td>55.965033</td>\n      <td>55.388074</td>\n      <td>54.811115</td>\n      <td>54.234156</td>\n      <td>53.657197</td>\n      <td>...</td>\n      <td>37.646582</td>\n      <td>36.348424</td>\n      <td>35.050266</td>\n      <td>33.752108</td>\n      <td>32.45395</td>\n      <td>31.155792</td>\n      <td>29.857634</td>\n      <td>28.559476</td>\n      <td>27.261318</td>\n      <td>25.96316</td>\n    </tr>\n    <tr>\n      <th>Electricity use (kWh/kWh-H2</th>\n      <td>EWI PTX</td>\n      <td>0.01</td>\n      <td>0.01000</td>\n      <td>0.010000</td>\n      <td>0.010000</td>\n      <td>0.010000</td>\n      <td>0.010000</td>\n      <td>0.010000</td>\n      <td>0.010000</td>\n      <td>0.010000</td>\n      <td>...</td>\n      <td>0.010000</td>\n      <td>0.010000</td>\n      <td>0.010000</td>\n      <td>0.010000</td>\n      <td>0.01000</td>\n      <td>0.010000</td>\n      <td>0.010000</td>\n      <td>0.010000</td>\n      <td>0.010000</td>\n      <td>0.01000</td>\n    </tr>\n    <tr>\n      <th>Utilisation</th>\n      <td>EWI PTX</td>\n      <td>NaN</td>\n      <td>0.90000</td>\n      <td>0.900000</td>\n      <td>0.900000</td>\n      <td>0.900000</td>\n      <td>0.900000</td>\n      <td>0.900000</td>\n      <td>0.900000</td>\n      <td>0.900000</td>\n      <td>...</td>\n      <td>0.900000</td>\n      <td>0.900000</td>\n      <td>0.900000</td>\n      <td>0.900000</td>\n      <td>0.90000</td>\n      <td>0.900000</td>\n      <td>0.900000</td>\n      <td>0.900000</td>\n      <td>0.900000</td>\n      <td>0.90000</td>\n    </tr>\n    <tr>\n      <th>Reconversion - Lifetime [Years]</th>\n      <td>EWI PTX</td>\n      <td>30</td>\n      <td>NaN</td>\n      <td>NaN</td>\n      <td>NaN</td>\n      <td>NaN</td>\n      <td>NaN</td>\n      <td>NaN</td>\n      <td>NaN</td>\n      <td>NaN</td>\n      <td>...</td>\n      <td>NaN</td>\n      <td>NaN</td>\n      <td>NaN</td>\n      <td>NaN</td>\n      <td>NaN</td>\n      <td>NaN</td>\n      <td>NaN</td>\n      <td>NaN</td>\n      <td>NaN</td>\n      <td>NaN</td>\n    </tr>\n  </tbody>\n</table>\n<p>121 rows × 33 columns</p>\n</div>"
     },
     "execution_count": 796,
     "metadata": {},
     "output_type": "execute_result"
    }
   ],
   "source": [
    "tea_lh2 = pd.read_excel(path, sheet_name='LH2', decimal=',', index_col=0)\n",
    "tea_lh2"
   ],
   "metadata": {
    "collapsed": false,
    "pycharm": {
     "name": "#%%\n"
    }
   }
  },
  {
   "cell_type": "code",
   "execution_count": 797,
   "outputs": [
    {
     "data": {
      "text/plain": "                                                                                                  Ref  \\\nProperties                                                                                              \nProperties - Gas density [kg/m3]                                                                  NaN   \nProperties - LHV [MJ/kg] []                                                                  BOG 2020   \nProperties - LHV [kWh/kg]                           https://www.iea-amf.org/content/fuel_informati...   \nProperties - LHV [kWh/m3]                            https://www.rechargenews.com/energy-transitio...   \nProperties - Boiling point at 1 Bar [°C]                                                          NaN   \n...                                                                                               ...   \nReconversion - Efficiency [% LHV]                                                          IRENA 2022   \nReconversion - Electricity consumption opt. [kW...                                         IRENA 2022   \nReconversion - Electricity consumption pess. [k...                                         IRENA 2022   \nReconversion - Heat consumption opt. [kWh/kg H2]                                           IRENA 2022   \nReconversion - Heat consumption pess. [kWh/kg H2]                                          IRENA 2022   \n\n                                                      NH3   2020    2021  \\\nProperties                                                                 \nProperties - Gas density [kg/m3]                    682.8    NaN     NaN   \nProperties - LHV [MJ/kg] []                          18.6    NaN     NaN   \nProperties - LHV [kWh/kg]                            5.17    NaN     NaN   \nProperties - LHV [kWh/m3]                            3730    NaN     NaN   \nProperties - Boiling point at 1 Bar [°C]              -33    NaN     NaN   \n...                                                   ...    ...     ...   \nReconversion - Efficiency [% LHV]                     NaN   0.98   0.980   \nReconversion - Electricity consumption opt. [kW...    NaN   2.75   2.675   \nReconversion - Electricity consumption pess. [k...    NaN   2.75   2.675   \nReconversion - Heat consumption opt. [kWh/kg H2]      NaN  14.30  13.990   \nReconversion - Heat consumption pess. [kWh/kg H2]     NaN  19.60  19.320   \n\n                                                     2022    2023   2024  \\\nProperties                                                                 \nProperties - Gas density [kg/m3]                      NaN     NaN    NaN   \nProperties - LHV [MJ/kg] []                           NaN     NaN    NaN   \nProperties - LHV [kWh/kg]                             NaN     NaN    NaN   \nProperties - LHV [kWh/m3]                             NaN     NaN    NaN   \nProperties - Boiling point at 1 Bar [°C]              NaN     NaN    NaN   \n...                                                   ...     ...    ...   \nReconversion - Efficiency [% LHV]                    0.98   0.980   0.98   \nReconversion - Electricity consumption opt. [kW...    2.6   2.525   2.45   \nReconversion - Electricity consumption pess. [k...    2.6   2.525   2.45   \nReconversion - Heat consumption opt. [kWh/kg H2]    13.68  13.370  13.06   \nReconversion - Heat consumption pess. [kWh/kg H2]   19.04  18.760  18.48   \n\n                                                      2025   2026    2027  \\\nProperties                                                                  \nProperties - Gas density [kg/m3]                       NaN    NaN     NaN   \nProperties - LHV [MJ/kg] []                            NaN    NaN     NaN   \nProperties - LHV [kWh/kg]                              NaN    NaN     NaN   \nProperties - LHV [kWh/m3]                              NaN    NaN     NaN   \nProperties - Boiling point at 1 Bar [°C]               NaN    NaN     NaN   \n...                                                    ...    ...     ...   \nReconversion - Efficiency [% LHV]                    0.980   0.98   0.980   \nReconversion - Electricity consumption opt. [kW...   2.375   2.30   2.225   \nReconversion - Electricity consumption pess. [k...   2.375   2.30   2.225   \nReconversion - Heat consumption opt. [kWh/kg H2]    12.750  12.44  12.130   \nReconversion - Heat consumption pess. [kWh/kg H2]   18.200  17.92  17.640   \n\n                                                    ...   2041   2042   2043  \\\nProperties                                          ...                        \nProperties - Gas density [kg/m3]                    ...    NaN    NaN    NaN   \nProperties - LHV [MJ/kg] []                         ...    NaN    NaN    NaN   \nProperties - LHV [kWh/kg]                           ...    NaN    NaN    NaN   \nProperties - LHV [kWh/m3]                           ...    NaN    NaN    NaN   \nProperties - Boiling point at 1 Bar [°C]            ...    NaN    NaN    NaN   \n...                                                 ...    ...    ...    ...   \nReconversion - Efficiency [% LHV]                   ...   0.98   0.98   0.98   \nReconversion - Electricity consumption opt. [kW...  ...   1.20   1.15   1.10   \nReconversion - Electricity consumption pess. [k...  ...   1.20   1.15   1.10   \nReconversion - Heat consumption opt. [kWh/kg H2]    ...   7.79   7.48   7.17   \nReconversion - Heat consumption pess. [kWh/kg H2]   ...  13.72  13.44  13.16   \n\n                                                     2044   2045   2046  \\\nProperties                                                                \nProperties - Gas density [kg/m3]                      NaN    NaN    NaN   \nProperties - LHV [MJ/kg] []                           NaN    NaN    NaN   \nProperties - LHV [kWh/kg]                             NaN    NaN    NaN   \nProperties - LHV [kWh/m3]                             NaN    NaN    NaN   \nProperties - Boiling point at 1 Bar [°C]              NaN    NaN    NaN   \n...                                                   ...    ...    ...   \nReconversion - Efficiency [% LHV]                    0.98   0.98   0.98   \nReconversion - Electricity consumption opt. [kW...   1.05   1.00   0.95   \nReconversion - Electricity consumption pess. [k...   1.05   1.00   0.95   \nReconversion - Heat consumption opt. [kWh/kg H2]     6.86   6.55   6.24   \nReconversion - Heat consumption pess. [kWh/kg H2]   12.88  12.60  12.32   \n\n                                                     2047   2048   2049  2050  \nProperties                                                                     \nProperties - Gas density [kg/m3]                      NaN    NaN    NaN   NaN  \nProperties - LHV [MJ/kg] []                           NaN    NaN    NaN   NaN  \nProperties - LHV [kWh/kg]                             NaN    NaN    NaN   NaN  \nProperties - LHV [kWh/m3]                             NaN    NaN    NaN   NaN  \nProperties - Boiling point at 1 Bar [°C]              NaN    NaN    NaN   NaN  \n...                                                   ...    ...    ...   ...  \nReconversion - Efficiency [% LHV]                    0.98   0.98   0.98  0.98  \nReconversion - Electricity consumption opt. [kW...   0.90   0.85   0.80  0.75  \nReconversion - Electricity consumption pess. [k...   0.90   0.85   0.80  0.75  \nReconversion - Heat consumption opt. [kWh/kg H2]     5.93   5.62   5.31     5  \nReconversion - Heat consumption pess. [kWh/kg H2]   12.04  11.76  11.48  11.2  \n\n[110 rows x 33 columns]",
      "text/html": "<div>\n<style scoped>\n    .dataframe tbody tr th:only-of-type {\n        vertical-align: middle;\n    }\n\n    .dataframe tbody tr th {\n        vertical-align: top;\n    }\n\n    .dataframe thead th {\n        text-align: right;\n    }\n</style>\n<table border=\"1\" class=\"dataframe\">\n  <thead>\n    <tr style=\"text-align: right;\">\n      <th></th>\n      <th>Ref</th>\n      <th>NH3</th>\n      <th>2020</th>\n      <th>2021</th>\n      <th>2022</th>\n      <th>2023</th>\n      <th>2024</th>\n      <th>2025</th>\n      <th>2026</th>\n      <th>2027</th>\n      <th>...</th>\n      <th>2041</th>\n      <th>2042</th>\n      <th>2043</th>\n      <th>2044</th>\n      <th>2045</th>\n      <th>2046</th>\n      <th>2047</th>\n      <th>2048</th>\n      <th>2049</th>\n      <th>2050</th>\n    </tr>\n    <tr>\n      <th>Properties</th>\n      <th></th>\n      <th></th>\n      <th></th>\n      <th></th>\n      <th></th>\n      <th></th>\n      <th></th>\n      <th></th>\n      <th></th>\n      <th></th>\n      <th></th>\n      <th></th>\n      <th></th>\n      <th></th>\n      <th></th>\n      <th></th>\n      <th></th>\n      <th></th>\n      <th></th>\n      <th></th>\n      <th></th>\n    </tr>\n  </thead>\n  <tbody>\n    <tr>\n      <th>Properties - Gas density [kg/m3]</th>\n      <td>NaN</td>\n      <td>682.8</td>\n      <td>NaN</td>\n      <td>NaN</td>\n      <td>NaN</td>\n      <td>NaN</td>\n      <td>NaN</td>\n      <td>NaN</td>\n      <td>NaN</td>\n      <td>NaN</td>\n      <td>...</td>\n      <td>NaN</td>\n      <td>NaN</td>\n      <td>NaN</td>\n      <td>NaN</td>\n      <td>NaN</td>\n      <td>NaN</td>\n      <td>NaN</td>\n      <td>NaN</td>\n      <td>NaN</td>\n      <td>NaN</td>\n    </tr>\n    <tr>\n      <th>Properties - LHV [MJ/kg] []</th>\n      <td>BOG 2020</td>\n      <td>18.6</td>\n      <td>NaN</td>\n      <td>NaN</td>\n      <td>NaN</td>\n      <td>NaN</td>\n      <td>NaN</td>\n      <td>NaN</td>\n      <td>NaN</td>\n      <td>NaN</td>\n      <td>...</td>\n      <td>NaN</td>\n      <td>NaN</td>\n      <td>NaN</td>\n      <td>NaN</td>\n      <td>NaN</td>\n      <td>NaN</td>\n      <td>NaN</td>\n      <td>NaN</td>\n      <td>NaN</td>\n      <td>NaN</td>\n    </tr>\n    <tr>\n      <th>Properties - LHV [kWh/kg]</th>\n      <td>https://www.iea-amf.org/content/fuel_informati...</td>\n      <td>5.17</td>\n      <td>NaN</td>\n      <td>NaN</td>\n      <td>NaN</td>\n      <td>NaN</td>\n      <td>NaN</td>\n      <td>NaN</td>\n      <td>NaN</td>\n      <td>NaN</td>\n      <td>...</td>\n      <td>NaN</td>\n      <td>NaN</td>\n      <td>NaN</td>\n      <td>NaN</td>\n      <td>NaN</td>\n      <td>NaN</td>\n      <td>NaN</td>\n      <td>NaN</td>\n      <td>NaN</td>\n      <td>NaN</td>\n    </tr>\n    <tr>\n      <th>Properties - LHV [kWh/m3]</th>\n      <td>https://www.rechargenews.com/energy-transitio...</td>\n      <td>3730</td>\n      <td>NaN</td>\n      <td>NaN</td>\n      <td>NaN</td>\n      <td>NaN</td>\n      <td>NaN</td>\n      <td>NaN</td>\n      <td>NaN</td>\n      <td>NaN</td>\n      <td>...</td>\n      <td>NaN</td>\n      <td>NaN</td>\n      <td>NaN</td>\n      <td>NaN</td>\n      <td>NaN</td>\n      <td>NaN</td>\n      <td>NaN</td>\n      <td>NaN</td>\n      <td>NaN</td>\n      <td>NaN</td>\n    </tr>\n    <tr>\n      <th>Properties - Boiling point at 1 Bar [°C]</th>\n      <td>NaN</td>\n      <td>-33</td>\n      <td>NaN</td>\n      <td>NaN</td>\n      <td>NaN</td>\n      <td>NaN</td>\n      <td>NaN</td>\n      <td>NaN</td>\n      <td>NaN</td>\n      <td>NaN</td>\n      <td>...</td>\n      <td>NaN</td>\n      <td>NaN</td>\n      <td>NaN</td>\n      <td>NaN</td>\n      <td>NaN</td>\n      <td>NaN</td>\n      <td>NaN</td>\n      <td>NaN</td>\n      <td>NaN</td>\n      <td>NaN</td>\n    </tr>\n    <tr>\n      <th>...</th>\n      <td>...</td>\n      <td>...</td>\n      <td>...</td>\n      <td>...</td>\n      <td>...</td>\n      <td>...</td>\n      <td>...</td>\n      <td>...</td>\n      <td>...</td>\n      <td>...</td>\n      <td>...</td>\n      <td>...</td>\n      <td>...</td>\n      <td>...</td>\n      <td>...</td>\n      <td>...</td>\n      <td>...</td>\n      <td>...</td>\n      <td>...</td>\n      <td>...</td>\n      <td>...</td>\n    </tr>\n    <tr>\n      <th>Reconversion - Efficiency [% LHV]</th>\n      <td>IRENA 2022</td>\n      <td>NaN</td>\n      <td>0.98</td>\n      <td>0.980</td>\n      <td>0.98</td>\n      <td>0.980</td>\n      <td>0.98</td>\n      <td>0.980</td>\n      <td>0.98</td>\n      <td>0.980</td>\n      <td>...</td>\n      <td>0.98</td>\n      <td>0.98</td>\n      <td>0.98</td>\n      <td>0.98</td>\n      <td>0.98</td>\n      <td>0.98</td>\n      <td>0.98</td>\n      <td>0.98</td>\n      <td>0.98</td>\n      <td>0.98</td>\n    </tr>\n    <tr>\n      <th>Reconversion - Electricity consumption opt. [kWh/kg H2]</th>\n      <td>IRENA 2022</td>\n      <td>NaN</td>\n      <td>2.75</td>\n      <td>2.675</td>\n      <td>2.6</td>\n      <td>2.525</td>\n      <td>2.45</td>\n      <td>2.375</td>\n      <td>2.30</td>\n      <td>2.225</td>\n      <td>...</td>\n      <td>1.20</td>\n      <td>1.15</td>\n      <td>1.10</td>\n      <td>1.05</td>\n      <td>1.00</td>\n      <td>0.95</td>\n      <td>0.90</td>\n      <td>0.85</td>\n      <td>0.80</td>\n      <td>0.75</td>\n    </tr>\n    <tr>\n      <th>Reconversion - Electricity consumption pess. [kWh/kg H2]</th>\n      <td>IRENA 2022</td>\n      <td>NaN</td>\n      <td>2.75</td>\n      <td>2.675</td>\n      <td>2.6</td>\n      <td>2.525</td>\n      <td>2.45</td>\n      <td>2.375</td>\n      <td>2.30</td>\n      <td>2.225</td>\n      <td>...</td>\n      <td>1.20</td>\n      <td>1.15</td>\n      <td>1.10</td>\n      <td>1.05</td>\n      <td>1.00</td>\n      <td>0.95</td>\n      <td>0.90</td>\n      <td>0.85</td>\n      <td>0.80</td>\n      <td>0.75</td>\n    </tr>\n    <tr>\n      <th>Reconversion - Heat consumption opt. [kWh/kg H2]</th>\n      <td>IRENA 2022</td>\n      <td>NaN</td>\n      <td>14.30</td>\n      <td>13.990</td>\n      <td>13.68</td>\n      <td>13.370</td>\n      <td>13.06</td>\n      <td>12.750</td>\n      <td>12.44</td>\n      <td>12.130</td>\n      <td>...</td>\n      <td>7.79</td>\n      <td>7.48</td>\n      <td>7.17</td>\n      <td>6.86</td>\n      <td>6.55</td>\n      <td>6.24</td>\n      <td>5.93</td>\n      <td>5.62</td>\n      <td>5.31</td>\n      <td>5</td>\n    </tr>\n    <tr>\n      <th>Reconversion - Heat consumption pess. [kWh/kg H2]</th>\n      <td>IRENA 2022</td>\n      <td>NaN</td>\n      <td>19.60</td>\n      <td>19.320</td>\n      <td>19.04</td>\n      <td>18.760</td>\n      <td>18.48</td>\n      <td>18.200</td>\n      <td>17.92</td>\n      <td>17.640</td>\n      <td>...</td>\n      <td>13.72</td>\n      <td>13.44</td>\n      <td>13.16</td>\n      <td>12.88</td>\n      <td>12.60</td>\n      <td>12.32</td>\n      <td>12.04</td>\n      <td>11.76</td>\n      <td>11.48</td>\n      <td>11.2</td>\n    </tr>\n  </tbody>\n</table>\n<p>110 rows × 33 columns</p>\n</div>"
     },
     "execution_count": 797,
     "metadata": {},
     "output_type": "execute_result"
    }
   ],
   "source": [
    "tea_lnh3 = pd.read_excel(path, sheet_name='LNH3', decimal=',', index_col=0)\n",
    "tea_lnh3"
   ],
   "metadata": {
    "collapsed": false,
    "pycharm": {
     "name": "#%%\n"
    }
   }
  },
  {
   "cell_type": "code",
   "execution_count": 798,
   "outputs": [
    {
     "data": {
      "text/plain": "           Origin_Country Destination_Country  sea distance (km)  \\\n0    United Arab Emirates             Germany           12443.10   \n1                  Angola             Germany            9809.65   \n2               Argentina             Germany           14063.90   \n3                 Austria             Germany            6005.96   \n4               Australia             Germany           21212.10   \n..                    ...                 ...                ...   \n955           Philippines               China            1782.35   \n956               Iceland               China           20454.60   \n957      Papua New Guinea               China            6298.52   \n958              Cameroon               China           19717.70   \n959          South Africa               China           12853.50   \n\n     onshore distance (km)  offshore distance (km) Starting point  \n0                      NaN                     NaN            NaN  \n1                      NaN                     NaN            NaN  \n2                      NaN                     NaN            NaN  \n3                    500.0                     0.0            NaN  \n4                      NaN                     NaN            NaN  \n..                     ...                     ...            ...  \n955                    NaN                     NaN            NaN  \n956                    NaN                     NaN            NaN  \n957                    NaN                     NaN            NaN  \n958                    NaN                     NaN            NaN  \n959                    NaN                     NaN            NaN  \n\n[960 rows x 6 columns]",
      "text/html": "<div>\n<style scoped>\n    .dataframe tbody tr th:only-of-type {\n        vertical-align: middle;\n    }\n\n    .dataframe tbody tr th {\n        vertical-align: top;\n    }\n\n    .dataframe thead th {\n        text-align: right;\n    }\n</style>\n<table border=\"1\" class=\"dataframe\">\n  <thead>\n    <tr style=\"text-align: right;\">\n      <th></th>\n      <th>Origin_Country</th>\n      <th>Destination_Country</th>\n      <th>sea distance (km)</th>\n      <th>onshore distance (km)</th>\n      <th>offshore distance (km)</th>\n      <th>Starting point</th>\n    </tr>\n  </thead>\n  <tbody>\n    <tr>\n      <th>0</th>\n      <td>United Arab Emirates</td>\n      <td>Germany</td>\n      <td>12443.10</td>\n      <td>NaN</td>\n      <td>NaN</td>\n      <td>NaN</td>\n    </tr>\n    <tr>\n      <th>1</th>\n      <td>Angola</td>\n      <td>Germany</td>\n      <td>9809.65</td>\n      <td>NaN</td>\n      <td>NaN</td>\n      <td>NaN</td>\n    </tr>\n    <tr>\n      <th>2</th>\n      <td>Argentina</td>\n      <td>Germany</td>\n      <td>14063.90</td>\n      <td>NaN</td>\n      <td>NaN</td>\n      <td>NaN</td>\n    </tr>\n    <tr>\n      <th>3</th>\n      <td>Austria</td>\n      <td>Germany</td>\n      <td>6005.96</td>\n      <td>500.0</td>\n      <td>0.0</td>\n      <td>NaN</td>\n    </tr>\n    <tr>\n      <th>4</th>\n      <td>Australia</td>\n      <td>Germany</td>\n      <td>21212.10</td>\n      <td>NaN</td>\n      <td>NaN</td>\n      <td>NaN</td>\n    </tr>\n    <tr>\n      <th>...</th>\n      <td>...</td>\n      <td>...</td>\n      <td>...</td>\n      <td>...</td>\n      <td>...</td>\n      <td>...</td>\n    </tr>\n    <tr>\n      <th>955</th>\n      <td>Philippines</td>\n      <td>China</td>\n      <td>1782.35</td>\n      <td>NaN</td>\n      <td>NaN</td>\n      <td>NaN</td>\n    </tr>\n    <tr>\n      <th>956</th>\n      <td>Iceland</td>\n      <td>China</td>\n      <td>20454.60</td>\n      <td>NaN</td>\n      <td>NaN</td>\n      <td>NaN</td>\n    </tr>\n    <tr>\n      <th>957</th>\n      <td>Papua New Guinea</td>\n      <td>China</td>\n      <td>6298.52</td>\n      <td>NaN</td>\n      <td>NaN</td>\n      <td>NaN</td>\n    </tr>\n    <tr>\n      <th>958</th>\n      <td>Cameroon</td>\n      <td>China</td>\n      <td>19717.70</td>\n      <td>NaN</td>\n      <td>NaN</td>\n      <td>NaN</td>\n    </tr>\n    <tr>\n      <th>959</th>\n      <td>South Africa</td>\n      <td>China</td>\n      <td>12853.50</td>\n      <td>NaN</td>\n      <td>NaN</td>\n      <td>NaN</td>\n    </tr>\n  </tbody>\n</table>\n<p>960 rows × 6 columns</p>\n</div>"
     },
     "execution_count": 798,
     "metadata": {},
     "output_type": "execute_result"
    }
   ],
   "source": [
    "tra_d = pd.read_excel(path, sheet_name='Transport Distances', decimal=',')\n",
    "tra_d"
   ],
   "metadata": {
    "collapsed": false,
    "pycharm": {
     "name": "#%%\n"
    }
   }
  },
  {
   "cell_type": "code",
   "execution_count": 799,
   "outputs": [
    {
     "data": {
      "text/plain": "300.0"
     },
     "execution_count": 799,
     "metadata": {},
     "output_type": "execute_result"
    }
   ],
   "source": [
    "# Onshore pipeline distance between two countries [km]\n",
    "d_on = float(tra_d[(tra_d['Origin_Country'] == 'Norway') & (tra_d['Destination_Country'] == 'Germany')]['onshore distance (km)'].values)\n",
    "d_on"
   ],
   "metadata": {
    "collapsed": false,
    "pycharm": {
     "name": "#%%\n"
    }
   }
  },
  {
   "cell_type": "code",
   "execution_count": 800,
   "outputs": [
    {
     "data": {
      "text/plain": "650.0"
     },
     "execution_count": 800,
     "metadata": {},
     "output_type": "execute_result"
    }
   ],
   "source": [
    "# Offshore pipeline distance between two countries [km]\n",
    "d_off = float(tra_d[(tra_d['Origin_Country'] == 'Norway') & (tra_d['Destination_Country'] == 'Germany')]['offshore distance (km)'].values)\n",
    "d_off"
   ],
   "metadata": {
    "collapsed": false,
    "pycharm": {
     "name": "#%%\n"
    }
   }
  },
  {
   "cell_type": "code",
   "execution_count": 801,
   "outputs": [
    {
     "data": {
      "text/plain": "260.0"
     },
     "execution_count": 801,
     "metadata": {},
     "output_type": "execute_result"
    }
   ],
   "source": [
    "# Compression capacity in [MWel/1000km]\n",
    "capa_comp = float(pipe.loc['Medium - Compression capacity @ 48inch [MW_el/1000km]']['Parameter'])\n",
    "capa_comp"
   ],
   "metadata": {
    "collapsed": false,
    "pycharm": {
     "name": "#%%\n"
    }
   }
  },
  {
   "cell_type": "code",
   "execution_count": 802,
   "outputs": [
    {
     "data": {
      "text/plain": "0.75"
     },
     "execution_count": 802,
     "metadata": {},
     "output_type": "execute_result"
    }
   ],
   "source": [
    "# Utilisation of the pipeline in %\n",
    "pipe_use = float(pipe.loc['Pipeline load factor [%]']['Parameter'])\n",
    "pipe_use"
   ],
   "metadata": {
    "collapsed": false,
    "pycharm": {
     "name": "#%%\n"
    }
   }
  },
  {
   "cell_type": "code",
   "execution_count": 803,
   "outputs": [
    {
     "data": {
      "text/plain": "3416741674.167417"
     },
     "execution_count": 803,
     "metadata": {},
     "output_type": "execute_result"
    }
   ],
   "source": [
    "#Capacity at full load factor [kg H2/a]\n",
    "capa_pipe = float(pipe.loc['Capacity at full load factor [kg H2/a]']['Parameter'])\n",
    "capa_pipe"
   ],
   "metadata": {
    "collapsed": false,
    "pycharm": {
     "name": "#%%\n"
    }
   }
  },
  {
   "cell_type": "markdown",
   "source": [
    "# Pipeline transport"
   ],
   "metadata": {
    "collapsed": false,
    "pycharm": {
     "name": "#%% md\n"
    }
   }
  },
  {
   "cell_type": "markdown",
   "source": [
    "Compression capacity in [MWel/1000km]\n",
    "Utilisation of the pipeline in %\n",
    "8760 h/a\n",
    "Capacity at full load factor [kg H2/a]\n",
    "Transport distance in [km]\n"
   ],
   "metadata": {
    "collapsed": false,
    "pycharm": {
     "name": "#%% md\n"
    }
   }
  },
  {
   "cell_type": "code",
   "execution_count": 804,
   "outputs": [
    {
     "data": {
      "text/plain": "0.4749525"
     },
     "execution_count": 804,
     "metadata": {},
     "output_type": "execute_result"
    }
   ],
   "source": [
    "# Calc. energy use for compression [kWh/kg_H2]\n",
    "en_comp = capa_comp * 1000 * pipe_use * 8760 / capa_pipe / 1000 * (d_on + d_off)\n",
    "en_comp"
   ],
   "metadata": {
    "collapsed": false,
    "pycharm": {
     "name": "#%%\n"
    }
   }
  },
  {
   "cell_type": "markdown",
   "source": [
    "Energy use per kg H2 delivered times emission factor for energy use.\n",
    "en_comp = Total energy use for compression [kWh/kg H2]\n",
    "EF_y_n = Emission factor of used energy in year y and country n [g CO2eq/kWh]"
   ],
   "metadata": {
    "collapsed": false,
    "pycharm": {
     "name": "#%% md\n"
    }
   }
  },
  {
   "cell_type": "code",
   "execution_count": 805,
   "outputs": [],
   "source": [
    "def Pipeline_emissions():\n",
    "\n",
    "    result = en_comp * EF_y_n\n",
    "    return result"
   ],
   "metadata": {
    "collapsed": false,
    "pycharm": {
     "name": "#%%\n"
    }
   }
  },
  {
   "cell_type": "markdown",
   "source": [
    "Calc. pipeline emissions over time"
   ],
   "metadata": {
    "collapsed": false,
    "pycharm": {
     "name": "#%% md\n"
    }
   }
  },
  {
   "cell_type": "markdown",
   "source": [
    "Using grid electricity for compression.\n",
    "Compressor station for subsea pipelines in exporting country.\n",
    "Emission factor for grid electricity in year y and country n [g CO2eq/kWh]\n",
    "Energy use for compression in [kWh/kg H2]"
   ],
   "metadata": {
    "collapsed": false,
    "pycharm": {
     "name": "#%% md\n"
    }
   }
  },
  {
   "cell_type": "code",
   "execution_count": 806,
   "outputs": [
    {
     "data": {
      "text/plain": "      Pipeline_emissions\nYears                   \n2025          154.243463\n2026          145.071602\n2027          135.899742\n2028          126.727881\n2029          117.556021\n2030           108.38416\n2031          101.261773\n2032           94.139385\n2033           87.016997\n2034            79.89461\n2035           72.772222\n2036           65.649834\n2037           58.527447\n2038           51.405059\n2039           44.282671\n2040           37.160284\n2041           29.728227\n2042            22.29617\n2043           14.864113\n2044            7.432057\n2045                 0.0\n2046                 0.0\n2047                 0.0\n2048                 0.0\n2049                 0.0\n2050                 0.0",
      "text/html": "<div>\n<style scoped>\n    .dataframe tbody tr th:only-of-type {\n        vertical-align: middle;\n    }\n\n    .dataframe tbody tr th {\n        vertical-align: top;\n    }\n\n    .dataframe thead th {\n        text-align: right;\n    }\n</style>\n<table border=\"1\" class=\"dataframe\">\n  <thead>\n    <tr style=\"text-align: right;\">\n      <th></th>\n      <th>Pipeline_emissions</th>\n    </tr>\n    <tr>\n      <th>Years</th>\n      <th></th>\n    </tr>\n  </thead>\n  <tbody>\n    <tr>\n      <th>2025</th>\n      <td>154.243463</td>\n    </tr>\n    <tr>\n      <th>2026</th>\n      <td>145.071602</td>\n    </tr>\n    <tr>\n      <th>2027</th>\n      <td>135.899742</td>\n    </tr>\n    <tr>\n      <th>2028</th>\n      <td>126.727881</td>\n    </tr>\n    <tr>\n      <th>2029</th>\n      <td>117.556021</td>\n    </tr>\n    <tr>\n      <th>2030</th>\n      <td>108.38416</td>\n    </tr>\n    <tr>\n      <th>2031</th>\n      <td>101.261773</td>\n    </tr>\n    <tr>\n      <th>2032</th>\n      <td>94.139385</td>\n    </tr>\n    <tr>\n      <th>2033</th>\n      <td>87.016997</td>\n    </tr>\n    <tr>\n      <th>2034</th>\n      <td>79.89461</td>\n    </tr>\n    <tr>\n      <th>2035</th>\n      <td>72.772222</td>\n    </tr>\n    <tr>\n      <th>2036</th>\n      <td>65.649834</td>\n    </tr>\n    <tr>\n      <th>2037</th>\n      <td>58.527447</td>\n    </tr>\n    <tr>\n      <th>2038</th>\n      <td>51.405059</td>\n    </tr>\n    <tr>\n      <th>2039</th>\n      <td>44.282671</td>\n    </tr>\n    <tr>\n      <th>2040</th>\n      <td>37.160284</td>\n    </tr>\n    <tr>\n      <th>2041</th>\n      <td>29.728227</td>\n    </tr>\n    <tr>\n      <th>2042</th>\n      <td>22.29617</td>\n    </tr>\n    <tr>\n      <th>2043</th>\n      <td>14.864113</td>\n    </tr>\n    <tr>\n      <th>2044</th>\n      <td>7.432057</td>\n    </tr>\n    <tr>\n      <th>2045</th>\n      <td>0.0</td>\n    </tr>\n    <tr>\n      <th>2046</th>\n      <td>0.0</td>\n    </tr>\n    <tr>\n      <th>2047</th>\n      <td>0.0</td>\n    </tr>\n    <tr>\n      <th>2048</th>\n      <td>0.0</td>\n    </tr>\n    <tr>\n      <th>2049</th>\n      <td>0.0</td>\n    </tr>\n    <tr>\n      <th>2050</th>\n      <td>0.0</td>\n    </tr>\n  </tbody>\n</table>\n</div>"
     },
     "execution_count": 806,
     "metadata": {},
     "output_type": "execute_result"
    }
   ],
   "source": [
    "years = np.arange(2025,2051)\n",
    "result = pd.DataFrame(index=years, columns=['Pipeline_emissions'])\n",
    "result.index.name = 'Years'\n",
    "\n",
    "for year in years:\n",
    "\n",
    "    EF_y_n = float(GHG.loc['GHG intensity of electricity generation [g CO2eq/kWh] - Germany'][year])\n",
    "\n",
    "    result.Pipeline_emissions.loc[year] = Pipeline_emissions()\n",
    "\n",
    "result"
   ],
   "metadata": {
    "collapsed": false,
    "pycharm": {
     "name": "#%%\n"
    }
   }
  },
  {
   "cell_type": "code",
   "execution_count": 807,
   "outputs": [],
   "source": [
    "# export result to excel\n",
    "path = '/Users/jakob/PycharmProjects/H2_pathways_repo/data/raw/H2_supply_route_assessment.xlsx'\n",
    "writer = pd.ExcelWriter(path, engine='openpyxl', mode='a', if_sheet_exists='overlay')\n",
    "book = load_workbook(path)\n",
    "writer.book = book\n",
    "writer.sheets = dict((ws.title, ws) for ws in book.worksheets)\n",
    "\n",
    "ws = book['Reference Results']\n",
    "\n",
    "result.to_excel(writer, sheet_name='Reference Results', index=False, startcol=ws.max_column)\n",
    "book.save(path)\n",
    "book.close()"
   ],
   "metadata": {
    "collapsed": false,
    "pycharm": {
     "name": "#%%\n"
    }
   }
  },
  {
   "cell_type": "markdown",
   "source": [
    "Plot emission breakdown for pipeline transport"
   ],
   "metadata": {
    "collapsed": false,
    "pycharm": {
     "name": "#%% md\n"
    }
   }
  },
  {
   "cell_type": "markdown",
   "source": [
    "# LH2 transport"
   ],
   "metadata": {
    "collapsed": false,
    "pycharm": {
     "name": "#%% md\n"
    }
   }
  },
  {
   "cell_type": "markdown",
   "source": [
    "Liquefaction energy use"
   ],
   "metadata": {
    "collapsed": false,
    "pycharm": {
     "name": "#%% md\n"
    }
   }
  },
  {
   "cell_type": "markdown",
   "source": [
    "Electricity use for liquefaction in [kWh/kg H2]\n",
    "Emission factor for grid electricity in year y and country n [g CO2eq/kWh]\n"
   ],
   "metadata": {
    "collapsed": false,
    "pycharm": {
     "name": "#%% md\n"
    }
   }
  },
  {
   "cell_type": "markdown",
   "source": [
    "## Liquefaction"
   ],
   "metadata": {
    "collapsed": false,
    "pycharm": {
     "name": "#%% md\n"
    }
   }
  },
  {
   "cell_type": "code",
   "execution_count": 808,
   "outputs": [],
   "source": [
    "def Conversion_emissions():\n",
    "    result = el_liq_y * EF_y_n\n",
    "    return result"
   ],
   "metadata": {
    "collapsed": false,
    "pycharm": {
     "name": "#%%\n"
    }
   }
  },
  {
   "cell_type": "code",
   "execution_count": 809,
   "outputs": [
    {
     "data": {
      "text/plain": "     LH2_Conversion_emissions\n2025                183.78116\n2026               174.354267\n2027               165.100346\n2028               156.019394\n2029               147.111413\n2030               138.376403\n2031               129.814363\n2032               121.425293\n2033               113.209195\n2034               105.166066\n2035                97.295908\n2036                89.598721\n2037                82.074504\n2038                74.723257\n2039                67.544982\n2040                60.539676\n2041                53.318158\n2042                46.356095\n2043                39.653488\n2044                33.210337\n2045                27.026641\n2046                21.102401\n2047                15.437617\n2048                10.032289\n2049                 4.886417\n2050                      0.0",
      "text/html": "<div>\n<style scoped>\n    .dataframe tbody tr th:only-of-type {\n        vertical-align: middle;\n    }\n\n    .dataframe tbody tr th {\n        vertical-align: top;\n    }\n\n    .dataframe thead th {\n        text-align: right;\n    }\n</style>\n<table border=\"1\" class=\"dataframe\">\n  <thead>\n    <tr style=\"text-align: right;\">\n      <th></th>\n      <th>LH2_Conversion_emissions</th>\n    </tr>\n  </thead>\n  <tbody>\n    <tr>\n      <th>2025</th>\n      <td>183.78116</td>\n    </tr>\n    <tr>\n      <th>2026</th>\n      <td>174.354267</td>\n    </tr>\n    <tr>\n      <th>2027</th>\n      <td>165.100346</td>\n    </tr>\n    <tr>\n      <th>2028</th>\n      <td>156.019394</td>\n    </tr>\n    <tr>\n      <th>2029</th>\n      <td>147.111413</td>\n    </tr>\n    <tr>\n      <th>2030</th>\n      <td>138.376403</td>\n    </tr>\n    <tr>\n      <th>2031</th>\n      <td>129.814363</td>\n    </tr>\n    <tr>\n      <th>2032</th>\n      <td>121.425293</td>\n    </tr>\n    <tr>\n      <th>2033</th>\n      <td>113.209195</td>\n    </tr>\n    <tr>\n      <th>2034</th>\n      <td>105.166066</td>\n    </tr>\n    <tr>\n      <th>2035</th>\n      <td>97.295908</td>\n    </tr>\n    <tr>\n      <th>2036</th>\n      <td>89.598721</td>\n    </tr>\n    <tr>\n      <th>2037</th>\n      <td>82.074504</td>\n    </tr>\n    <tr>\n      <th>2038</th>\n      <td>74.723257</td>\n    </tr>\n    <tr>\n      <th>2039</th>\n      <td>67.544982</td>\n    </tr>\n    <tr>\n      <th>2040</th>\n      <td>60.539676</td>\n    </tr>\n    <tr>\n      <th>2041</th>\n      <td>53.318158</td>\n    </tr>\n    <tr>\n      <th>2042</th>\n      <td>46.356095</td>\n    </tr>\n    <tr>\n      <th>2043</th>\n      <td>39.653488</td>\n    </tr>\n    <tr>\n      <th>2044</th>\n      <td>33.210337</td>\n    </tr>\n    <tr>\n      <th>2045</th>\n      <td>27.026641</td>\n    </tr>\n    <tr>\n      <th>2046</th>\n      <td>21.102401</td>\n    </tr>\n    <tr>\n      <th>2047</th>\n      <td>15.437617</td>\n    </tr>\n    <tr>\n      <th>2048</th>\n      <td>10.032289</td>\n    </tr>\n    <tr>\n      <th>2049</th>\n      <td>4.886417</td>\n    </tr>\n    <tr>\n      <th>2050</th>\n      <td>0.0</td>\n    </tr>\n  </tbody>\n</table>\n</div>"
     },
     "execution_count": 809,
     "metadata": {},
     "output_type": "execute_result"
    }
   ],
   "source": [
    "# Calc. liquefaction emissions over time [g CO2eq/kg H2]\n",
    "years = np.arange(2025, 2051)\n",
    "result = pd.DataFrame(index=years, columns=['LH2_Conversion_emissions'])\n",
    "for year in years:\n",
    "    el_liq_y = float(tea_lh2.loc['Liquefaction - Electricity consumption opt. [kWh/kgH2]'][year])\n",
    "    EF_y_n = float(GHG.loc['GHG intensity of electricity generation [g CO2eq/kWh] - Norway'][year])\n",
    "\n",
    "    result.LH2_Conversion_emissions.loc[year] = Conversion_emissions()\n",
    "\n",
    "result"
   ],
   "metadata": {
    "collapsed": false,
    "pycharm": {
     "name": "#%%\n"
    }
   }
  },
  {
   "cell_type": "code",
   "execution_count": 810,
   "outputs": [],
   "source": [
    "# export result to excel\n",
    "writer = pd.ExcelWriter(path, engine='openpyxl', mode='a', if_sheet_exists='overlay')\n",
    "book = load_workbook(path)\n",
    "writer.book = book\n",
    "writer.sheets = dict((ws.title, ws) for ws in book.worksheets)\n",
    "\n",
    "ws = book['Reference Results']\n",
    "\n",
    "result.to_excel(writer, sheet_name='Reference Results', index=False, startcol=ws.max_column)\n",
    "book.save(path)\n",
    "book.close()"
   ],
   "metadata": {
    "collapsed": false,
    "pycharm": {
     "name": "#%%\n"
    }
   }
  },
  {
   "cell_type": "code",
   "execution_count": 811,
   "outputs": [],
   "source": [
    "path_csv=r'/Users/jakob/PycharmProjects/H2_pathways_repo/data/processed'\n",
    "output_file = os.path.join(path_csv,'LH2_Conversion_emissions.csv')\n",
    "result.to_csv(output_file, sep = ';')"
   ],
   "metadata": {
    "collapsed": false,
    "pycharm": {
     "name": "#%%\n"
    }
   }
  },
  {
   "cell_type": "markdown",
   "source": [
    "## Export terminal"
   ],
   "metadata": {
    "collapsed": false,
    "pycharm": {
     "name": "#%% md\n"
    }
   }
  },
  {
   "cell_type": "code",
   "execution_count": 812,
   "outputs": [
    {
     "data": {
      "text/plain": "0.61"
     },
     "execution_count": 812,
     "metadata": {},
     "output_type": "execute_result"
    }
   ],
   "source": [
    "# Electricity consumption for the export terminal [kWh/kg_h2]\n",
    "el_et = float(tea_lh2.loc['Export Terminal - Electricity use [kWh/kgH2]']['LH2'])\n",
    "el_et"
   ],
   "metadata": {
    "collapsed": false,
    "pycharm": {
     "name": "#%%\n"
    }
   }
  },
  {
   "cell_type": "code",
   "execution_count": 813,
   "outputs": [
    {
     "data": {
      "text/plain": "0.1"
     },
     "execution_count": 813,
     "metadata": {},
     "output_type": "execute_result"
    }
   ],
   "source": [
    "el_reliq = float(tea_lh2.loc['Export Terminal - Energy use to reliquefy opt. [kWh/kg H2/day]']['LH2'])\n",
    "el_reliq"
   ],
   "metadata": {
    "collapsed": false,
    "pycharm": {
     "name": "#%%\n"
    }
   }
  },
  {
   "cell_type": "code",
   "execution_count": 814,
   "outputs": [
    {
     "data": {
      "text/plain": "7.0"
     },
     "execution_count": 814,
     "metadata": {},
     "output_type": "execute_result"
    }
   ],
   "source": [
    "# Average storage time in the export terminal tanks in days\n",
    "t_et = float(tea_lh2.loc['Export Terminal - Storage length per load [Days]']['LH2'])\n",
    "t_et"
   ],
   "metadata": {
    "collapsed": false,
    "pycharm": {
     "name": "#%%\n"
    }
   }
  },
  {
   "cell_type": "code",
   "execution_count": 815,
   "outputs": [],
   "source": [
    "def ET_emissions():\n",
    "    result = (el_et + el_reliq * t_et) * EF_y_n\n",
    "    return result"
   ],
   "metadata": {
    "collapsed": false,
    "pycharm": {
     "name": "#%%\n"
    }
   }
  },
  {
   "cell_type": "code",
   "execution_count": 816,
   "outputs": [
    {
     "data": {
      "text/plain": "      LH2_Export_terminal_emissions\nYears                              \n2025                       28.32392\n2026                      27.190963\n2027                      26.058006\n2028                       24.92505\n2029                      23.792093\n2030                      22.659136\n2031                      21.526179\n2032                      20.393222\n2033                      19.260266\n2034                      18.127309\n2035                      16.994352\n2036                      15.861395\n2037                      14.728438\n2038                      13.595482\n2039                      12.462525\n2040                      11.329568\n2041                      10.196611\n2042                       9.063654\n2043                       7.930698\n2044                       6.797741\n2045                       5.664784\n2046                       4.531827\n2047                        3.39887\n2048                       2.265914\n2049                       1.132957\n2050                            0.0",
      "text/html": "<div>\n<style scoped>\n    .dataframe tbody tr th:only-of-type {\n        vertical-align: middle;\n    }\n\n    .dataframe tbody tr th {\n        vertical-align: top;\n    }\n\n    .dataframe thead th {\n        text-align: right;\n    }\n</style>\n<table border=\"1\" class=\"dataframe\">\n  <thead>\n    <tr style=\"text-align: right;\">\n      <th></th>\n      <th>LH2_Export_terminal_emissions</th>\n    </tr>\n    <tr>\n      <th>Years</th>\n      <th></th>\n    </tr>\n  </thead>\n  <tbody>\n    <tr>\n      <th>2025</th>\n      <td>28.32392</td>\n    </tr>\n    <tr>\n      <th>2026</th>\n      <td>27.190963</td>\n    </tr>\n    <tr>\n      <th>2027</th>\n      <td>26.058006</td>\n    </tr>\n    <tr>\n      <th>2028</th>\n      <td>24.92505</td>\n    </tr>\n    <tr>\n      <th>2029</th>\n      <td>23.792093</td>\n    </tr>\n    <tr>\n      <th>2030</th>\n      <td>22.659136</td>\n    </tr>\n    <tr>\n      <th>2031</th>\n      <td>21.526179</td>\n    </tr>\n    <tr>\n      <th>2032</th>\n      <td>20.393222</td>\n    </tr>\n    <tr>\n      <th>2033</th>\n      <td>19.260266</td>\n    </tr>\n    <tr>\n      <th>2034</th>\n      <td>18.127309</td>\n    </tr>\n    <tr>\n      <th>2035</th>\n      <td>16.994352</td>\n    </tr>\n    <tr>\n      <th>2036</th>\n      <td>15.861395</td>\n    </tr>\n    <tr>\n      <th>2037</th>\n      <td>14.728438</td>\n    </tr>\n    <tr>\n      <th>2038</th>\n      <td>13.595482</td>\n    </tr>\n    <tr>\n      <th>2039</th>\n      <td>12.462525</td>\n    </tr>\n    <tr>\n      <th>2040</th>\n      <td>11.329568</td>\n    </tr>\n    <tr>\n      <th>2041</th>\n      <td>10.196611</td>\n    </tr>\n    <tr>\n      <th>2042</th>\n      <td>9.063654</td>\n    </tr>\n    <tr>\n      <th>2043</th>\n      <td>7.930698</td>\n    </tr>\n    <tr>\n      <th>2044</th>\n      <td>6.797741</td>\n    </tr>\n    <tr>\n      <th>2045</th>\n      <td>5.664784</td>\n    </tr>\n    <tr>\n      <th>2046</th>\n      <td>4.531827</td>\n    </tr>\n    <tr>\n      <th>2047</th>\n      <td>3.39887</td>\n    </tr>\n    <tr>\n      <th>2048</th>\n      <td>2.265914</td>\n    </tr>\n    <tr>\n      <th>2049</th>\n      <td>1.132957</td>\n    </tr>\n    <tr>\n      <th>2050</th>\n      <td>0.0</td>\n    </tr>\n  </tbody>\n</table>\n</div>"
     },
     "execution_count": 816,
     "metadata": {},
     "output_type": "execute_result"
    }
   ],
   "source": [
    "# Calc. liquefaction emissions over time [g CO2eq/kg H2]\n",
    "years = np.arange(2025, 2051)\n",
    "result = pd.DataFrame(index=years, columns=['LH2_Export_terminal_emissions'])\n",
    "result.index.name = 'Years'\n",
    "\n",
    "for year in years:\n",
    "    EF_y_n = float(GHG.loc['GHG intensity of electricity generation [g CO2eq/kWh] - Norway'][year])\n",
    "\n",
    "    result.LH2_Export_terminal_emissions.loc[year] = ET_emissions()\n",
    "\n",
    "result"
   ],
   "metadata": {
    "collapsed": false,
    "pycharm": {
     "name": "#%%\n"
    }
   }
  },
  {
   "cell_type": "code",
   "execution_count": 817,
   "outputs": [],
   "source": [
    "# export result to excel\n",
    "writer = pd.ExcelWriter(path, engine='openpyxl', mode='a', if_sheet_exists='overlay')\n",
    "book = load_workbook(path)\n",
    "writer.book = book\n",
    "writer.sheets = dict((ws.title, ws) for ws in book.worksheets)\n",
    "\n",
    "ws = book['Reference Results']\n",
    "\n",
    "result.to_excel(writer, sheet_name='Reference Results', index=False, startcol=ws.max_column)\n",
    "book.save(path)\n",
    "book.close()"
   ],
   "metadata": {
    "collapsed": false,
    "pycharm": {
     "name": "#%%\n"
    }
   }
  },
  {
   "cell_type": "code",
   "execution_count": 818,
   "outputs": [],
   "source": [
    "path_csv=r'/Users/jakob/PycharmProjects/H2_pathways_repo/data/processed'\n",
    "output_file = os.path.join(path_csv,'LH2_Export_terminal_emissions.csv')\n",
    "result.to_csv(output_file, sep = ';')"
   ],
   "metadata": {
    "collapsed": false,
    "pycharm": {
     "name": "#%%\n"
    }
   }
  },
  {
   "cell_type": "code",
   "execution_count": 819,
   "outputs": [
    {
     "data": {
      "text/plain": "      LH2_Export_terminal_emissions\nYears                              \n2025              28.32391993965518\n2026             27.190963142068977\n2027              26.05800634448277\n2028             24.925049546896567\n2029              23.79209274931036\n2030             22.659135951724156\n2031             21.526179154137953\n2032             20.393222356551746\n2033              19.26026555896554\n2034             18.127308761379332\n2035              16.99435196379312\n2036             15.861395166206917\n2037              14.72843836862071\n2038             13.595481571034503\n2039             12.462524773448294\n2040             11.329567975862087\n2041              10.19661117827588\n2042              9.063654380689673\n2043              7.930697583103466\n2044              6.797740785517259\n2045             5.6647839879310515\n2046              4.531827190344845\n2047             3.3988703927586377\n2048             2.2659135951724307\n2049              1.132956797586224\n2050                            0.0",
      "text/html": "<div>\n<style scoped>\n    .dataframe tbody tr th:only-of-type {\n        vertical-align: middle;\n    }\n\n    .dataframe tbody tr th {\n        vertical-align: top;\n    }\n\n    .dataframe thead th {\n        text-align: right;\n    }\n</style>\n<table border=\"1\" class=\"dataframe\">\n  <thead>\n    <tr style=\"text-align: right;\">\n      <th></th>\n      <th>LH2_Export_terminal_emissions</th>\n    </tr>\n    <tr>\n      <th>Years</th>\n      <th></th>\n    </tr>\n  </thead>\n  <tbody>\n    <tr>\n      <th>2025</th>\n      <td>28.32391993965518</td>\n    </tr>\n    <tr>\n      <th>2026</th>\n      <td>27.190963142068977</td>\n    </tr>\n    <tr>\n      <th>2027</th>\n      <td>26.05800634448277</td>\n    </tr>\n    <tr>\n      <th>2028</th>\n      <td>24.925049546896567</td>\n    </tr>\n    <tr>\n      <th>2029</th>\n      <td>23.79209274931036</td>\n    </tr>\n    <tr>\n      <th>2030</th>\n      <td>22.659135951724156</td>\n    </tr>\n    <tr>\n      <th>2031</th>\n      <td>21.526179154137953</td>\n    </tr>\n    <tr>\n      <th>2032</th>\n      <td>20.393222356551746</td>\n    </tr>\n    <tr>\n      <th>2033</th>\n      <td>19.26026555896554</td>\n    </tr>\n    <tr>\n      <th>2034</th>\n      <td>18.127308761379332</td>\n    </tr>\n    <tr>\n      <th>2035</th>\n      <td>16.99435196379312</td>\n    </tr>\n    <tr>\n      <th>2036</th>\n      <td>15.861395166206917</td>\n    </tr>\n    <tr>\n      <th>2037</th>\n      <td>14.72843836862071</td>\n    </tr>\n    <tr>\n      <th>2038</th>\n      <td>13.595481571034503</td>\n    </tr>\n    <tr>\n      <th>2039</th>\n      <td>12.462524773448294</td>\n    </tr>\n    <tr>\n      <th>2040</th>\n      <td>11.329567975862087</td>\n    </tr>\n    <tr>\n      <th>2041</th>\n      <td>10.19661117827588</td>\n    </tr>\n    <tr>\n      <th>2042</th>\n      <td>9.063654380689673</td>\n    </tr>\n    <tr>\n      <th>2043</th>\n      <td>7.930697583103466</td>\n    </tr>\n    <tr>\n      <th>2044</th>\n      <td>6.797740785517259</td>\n    </tr>\n    <tr>\n      <th>2045</th>\n      <td>5.6647839879310515</td>\n    </tr>\n    <tr>\n      <th>2046</th>\n      <td>4.531827190344845</td>\n    </tr>\n    <tr>\n      <th>2047</th>\n      <td>3.3988703927586377</td>\n    </tr>\n    <tr>\n      <th>2048</th>\n      <td>2.2659135951724307</td>\n    </tr>\n    <tr>\n      <th>2049</th>\n      <td>1.132956797586224</td>\n    </tr>\n    <tr>\n      <th>2050</th>\n      <td>0.0</td>\n    </tr>\n  </tbody>\n</table>\n</div>"
     },
     "execution_count": 819,
     "metadata": {},
     "output_type": "execute_result"
    }
   ],
   "source": [
    "et_em = pd.read_csv('/Users/jakob/PycharmProjects/H2_pathways_repo/data/processed/LH2_Export_Terminal_emissions.csv', delimiter=';', decimal=',', index_col= 0)\n",
    "et_em"
   ],
   "metadata": {
    "collapsed": false,
    "pycharm": {
     "name": "#%%\n"
    }
   }
  },
  {
   "cell_type": "markdown",
   "source": [
    "## Shipping"
   ],
   "metadata": {
    "collapsed": false,
    "pycharm": {
     "name": "#%% md\n"
    }
   }
  },
  {
   "cell_type": "markdown",
   "source": [
    "Calc. emission factor for cargo/fuel"
   ],
   "metadata": {
    "collapsed": false,
    "pycharm": {
     "name": "#%% md\n"
    }
   }
  },
  {
   "cell_type": "code",
   "execution_count": 820,
   "outputs": [],
   "source": [
    "# Cost of transported hydrogen in [$/kg_h2] in year y\n",
    "LH2_Conversion_emissions = pd.read_csv(\n",
    "    \"/Users/jakob/PycharmProjects/H2_pathways_repo/data/processed/LH2_Conversion_emissions.csv\", delimiter=';',\n",
    "    decimal=',', index_col=0)\n",
    "LH2_Export_terminal_emissions = pd.read_csv(\n",
    "    \"/Users/jakob/PycharmProjects/H2_pathways_repo/data/processed/LH2_Export_terminal_emissions.csv\", delimiter=';',\n",
    "    decimal=',', index_col=0)"
   ],
   "metadata": {
    "collapsed": false,
    "pycharm": {
     "name": "#%%\n"
    }
   }
  },
  {
   "cell_type": "code",
   "execution_count": 821,
   "outputs": [],
   "source": [
    "# Emissions of transported hydrogen carrier in [g CO2eq/kg_H2] in year y\n",
    "H2_emissions = (GHG.loc['Blue hydrogen emissions [kg CO2/kg H2] - Norway', 2025:2050]).apply(pd.to_numeric) * 1000\n",
    "Con_emissions = (LH2_Conversion_emissions.loc[::]['LH2_Conversion_emissions']).apply(pd.to_numeric)\n",
    "ET_emissions = (LH2_Export_terminal_emissions.loc[::]['LH2_Export_terminal_emissions']).apply(pd.to_numeric)"
   ],
   "metadata": {
    "collapsed": false,
    "pycharm": {
     "name": "#%%\n"
    }
   }
  },
  {
   "cell_type": "code",
   "execution_count": 822,
   "outputs": [
    {
     "data": {
      "text/plain": "      LH2_cargo_emissions\n2025          4963.505080\n2026          4847.225231\n2027          4731.118352\n2028          4615.184444\n2029          4499.423506\n2030          4383.835539\n2031          4268.420542\n2032          4153.178516\n2033          4038.109460\n2034          3923.213375\n2035          3808.490260\n2036          3693.940116\n2037          3579.562942\n2038          3465.358739\n2039          3351.327506\n2040          3237.469244\n2041          3123.394769\n2042          3009.579749\n2043          2896.024185\n2044          2782.728077\n2045          2669.691425\n2046          2556.914229\n2047          2444.396488\n2048          2332.138203\n2049          2220.139374\n2050          2108.400000",
      "text/html": "<div>\n<style scoped>\n    .dataframe tbody tr th:only-of-type {\n        vertical-align: middle;\n    }\n\n    .dataframe tbody tr th {\n        vertical-align: top;\n    }\n\n    .dataframe thead th {\n        text-align: right;\n    }\n</style>\n<table border=\"1\" class=\"dataframe\">\n  <thead>\n    <tr style=\"text-align: right;\">\n      <th></th>\n      <th>LH2_cargo_emissions</th>\n    </tr>\n  </thead>\n  <tbody>\n    <tr>\n      <th>2025</th>\n      <td>4963.505080</td>\n    </tr>\n    <tr>\n      <th>2026</th>\n      <td>4847.225231</td>\n    </tr>\n    <tr>\n      <th>2027</th>\n      <td>4731.118352</td>\n    </tr>\n    <tr>\n      <th>2028</th>\n      <td>4615.184444</td>\n    </tr>\n    <tr>\n      <th>2029</th>\n      <td>4499.423506</td>\n    </tr>\n    <tr>\n      <th>2030</th>\n      <td>4383.835539</td>\n    </tr>\n    <tr>\n      <th>2031</th>\n      <td>4268.420542</td>\n    </tr>\n    <tr>\n      <th>2032</th>\n      <td>4153.178516</td>\n    </tr>\n    <tr>\n      <th>2033</th>\n      <td>4038.109460</td>\n    </tr>\n    <tr>\n      <th>2034</th>\n      <td>3923.213375</td>\n    </tr>\n    <tr>\n      <th>2035</th>\n      <td>3808.490260</td>\n    </tr>\n    <tr>\n      <th>2036</th>\n      <td>3693.940116</td>\n    </tr>\n    <tr>\n      <th>2037</th>\n      <td>3579.562942</td>\n    </tr>\n    <tr>\n      <th>2038</th>\n      <td>3465.358739</td>\n    </tr>\n    <tr>\n      <th>2039</th>\n      <td>3351.327506</td>\n    </tr>\n    <tr>\n      <th>2040</th>\n      <td>3237.469244</td>\n    </tr>\n    <tr>\n      <th>2041</th>\n      <td>3123.394769</td>\n    </tr>\n    <tr>\n      <th>2042</th>\n      <td>3009.579749</td>\n    </tr>\n    <tr>\n      <th>2043</th>\n      <td>2896.024185</td>\n    </tr>\n    <tr>\n      <th>2044</th>\n      <td>2782.728077</td>\n    </tr>\n    <tr>\n      <th>2045</th>\n      <td>2669.691425</td>\n    </tr>\n    <tr>\n      <th>2046</th>\n      <td>2556.914229</td>\n    </tr>\n    <tr>\n      <th>2047</th>\n      <td>2444.396488</td>\n    </tr>\n    <tr>\n      <th>2048</th>\n      <td>2332.138203</td>\n    </tr>\n    <tr>\n      <th>2049</th>\n      <td>2220.139374</td>\n    </tr>\n    <tr>\n      <th>2050</th>\n      <td>2108.400000</td>\n    </tr>\n  </tbody>\n</table>\n</div>"
     },
     "execution_count": 822,
     "metadata": {},
     "output_type": "execute_result"
    }
   ],
   "source": [
    "# Emission of cargo in [g CO2eq/kg_H2]\n",
    "LH2_cargo_emissions = (H2_emissions + Con_emissions + ET_emissions).to_frame('LH2_cargo_emissions')\n",
    "LH2_cargo_emissions"
   ],
   "metadata": {
    "collapsed": false,
    "pycharm": {
     "name": "#%%\n"
    }
   }
  },
  {
   "cell_type": "code",
   "execution_count": 823,
   "outputs": [],
   "source": [
    "path_csv=r'/Users/jakob/PycharmProjects/H2_pathways_repo/data/processed'\n",
    "output_file = os.path.join(path_csv,'LH2_cargo_emissions.csv')\n",
    "result.to_csv(output_file, sep = ';')"
   ],
   "metadata": {
    "collapsed": false,
    "pycharm": {
     "name": "#%%\n"
    }
   }
  },
  {
   "cell_type": "code",
   "execution_count": 824,
   "outputs": [
    {
     "data": {
      "text/plain": "8.333333333333333e-05"
     },
     "execution_count": 824,
     "metadata": {},
     "output_type": "execute_result"
    }
   ],
   "source": [
    "# Boil-off when shipping in [%/day] to [%/hour]\n",
    "bog_ship = float(tea_lh2.loc['Shipping - Boil off opt. [%/day]']['LH2']) / 24\n",
    "bog_ship"
   ],
   "metadata": {
    "collapsed": false,
    "pycharm": {
     "name": "#%%\n"
    }
   }
  },
  {
   "cell_type": "code",
   "execution_count": 926,
   "outputs": [
    {
     "data": {
      "text/plain": "1.1265151515151516e-06"
     },
     "execution_count": 926,
     "metadata": {},
     "output_type": "execute_result"
    }
   ],
   "source": [
    "# Fuel consumption of a ship in [kg_h2/t/km]\n",
    "f_ship = float(tea_lh2.loc['Shipping - Fuel use [kg H2/t/km]']['LH2']) / 1000\n",
    "f_ship"
   ],
   "metadata": {
    "collapsed": false,
    "pycharm": {
     "name": "#%%\n"
    }
   }
  },
  {
   "cell_type": "code",
   "execution_count": 927,
   "outputs": [
    {
     "data": {
      "text/plain": "602.403"
     },
     "execution_count": 927,
     "metadata": {},
     "output_type": "execute_result"
    }
   ],
   "source": [
    "# Distance between countries via ship in [km]\n",
    "d_sea = float(tra_d[(tra_d['Origin_Country'] == 'Norway') & (tra_d['Destination_Country'] == 'Germany')][\n",
    "                  'sea distance (km)'].values)\n",
    "d_sea"
   ],
   "metadata": {
    "collapsed": false,
    "pycharm": {
     "name": "#%%\n"
    }
   }
  },
  {
   "cell_type": "code",
   "execution_count": 928,
   "outputs": [
    {
     "data": {
      "text/plain": "30.0"
     },
     "execution_count": 928,
     "metadata": {},
     "output_type": "execute_result"
    }
   ],
   "source": [
    "# Ship speed in [km/h]\n",
    "v_ship = float(tea_lh2.loc['Shipping - Ship speed [km/h]']['LH2'])\n",
    "v_ship"
   ],
   "metadata": {
    "collapsed": false,
    "pycharm": {
     "name": "#%%\n"
    }
   }
  },
  {
   "cell_type": "code",
   "execution_count": 929,
   "outputs": [
    {
     "data": {
      "text/plain": "      LH2_cargo_emissions\n2025          4963.505080\n2026          4847.225231\n2027          4731.118352\n2028          4615.184444\n2029          4499.423506\n2030          4383.835539\n2031          4268.420542\n2032          4153.178516\n2033          4038.109460\n2034          3923.213375\n2035          3808.490260\n2036          3693.940116\n2037          3579.562942\n2038          3465.358739\n2039          3351.327506\n2040          3237.469244\n2041          3123.394769\n2042          3009.579749\n2043          2896.024185\n2044          2782.728077\n2045          2669.691425\n2046          2556.914229\n2047          2444.396488\n2048          2332.138203\n2049          2220.139374\n2050          2108.400000",
      "text/html": "<div>\n<style scoped>\n    .dataframe tbody tr th:only-of-type {\n        vertical-align: middle;\n    }\n\n    .dataframe tbody tr th {\n        vertical-align: top;\n    }\n\n    .dataframe thead th {\n        text-align: right;\n    }\n</style>\n<table border=\"1\" class=\"dataframe\">\n  <thead>\n    <tr style=\"text-align: right;\">\n      <th></th>\n      <th>LH2_cargo_emissions</th>\n    </tr>\n  </thead>\n  <tbody>\n    <tr>\n      <th>2025</th>\n      <td>4963.505080</td>\n    </tr>\n    <tr>\n      <th>2026</th>\n      <td>4847.225231</td>\n    </tr>\n    <tr>\n      <th>2027</th>\n      <td>4731.118352</td>\n    </tr>\n    <tr>\n      <th>2028</th>\n      <td>4615.184444</td>\n    </tr>\n    <tr>\n      <th>2029</th>\n      <td>4499.423506</td>\n    </tr>\n    <tr>\n      <th>2030</th>\n      <td>4383.835539</td>\n    </tr>\n    <tr>\n      <th>2031</th>\n      <td>4268.420542</td>\n    </tr>\n    <tr>\n      <th>2032</th>\n      <td>4153.178516</td>\n    </tr>\n    <tr>\n      <th>2033</th>\n      <td>4038.109460</td>\n    </tr>\n    <tr>\n      <th>2034</th>\n      <td>3923.213375</td>\n    </tr>\n    <tr>\n      <th>2035</th>\n      <td>3808.490260</td>\n    </tr>\n    <tr>\n      <th>2036</th>\n      <td>3693.940116</td>\n    </tr>\n    <tr>\n      <th>2037</th>\n      <td>3579.562942</td>\n    </tr>\n    <tr>\n      <th>2038</th>\n      <td>3465.358739</td>\n    </tr>\n    <tr>\n      <th>2039</th>\n      <td>3351.327506</td>\n    </tr>\n    <tr>\n      <th>2040</th>\n      <td>3237.469244</td>\n    </tr>\n    <tr>\n      <th>2041</th>\n      <td>3123.394769</td>\n    </tr>\n    <tr>\n      <th>2042</th>\n      <td>3009.579749</td>\n    </tr>\n    <tr>\n      <th>2043</th>\n      <td>2896.024185</td>\n    </tr>\n    <tr>\n      <th>2044</th>\n      <td>2782.728077</td>\n    </tr>\n    <tr>\n      <th>2045</th>\n      <td>2669.691425</td>\n    </tr>\n    <tr>\n      <th>2046</th>\n      <td>2556.914229</td>\n    </tr>\n    <tr>\n      <th>2047</th>\n      <td>2444.396488</td>\n    </tr>\n    <tr>\n      <th>2048</th>\n      <td>2332.138203</td>\n    </tr>\n    <tr>\n      <th>2049</th>\n      <td>2220.139374</td>\n    </tr>\n    <tr>\n      <th>2050</th>\n      <td>2108.400000</td>\n    </tr>\n  </tbody>\n</table>\n</div>"
     },
     "execution_count": 929,
     "metadata": {},
     "output_type": "execute_result"
    }
   ],
   "source": [
    "# Cost of transported hydrogen in [$/kg_h2] in year y\n",
    "LH2_Conversion_emissions = pd.read_csv(\n",
    "    \"/Users/jakob/PycharmProjects/H2_pathways_repo/data/processed/LH2_Conversion_emissions.csv\", delimiter=';',\n",
    "    decimal=',', index_col=0)\n",
    "LH2_Export_terminal_emissions = pd.read_csv(\n",
    "    \"/Users/jakob/PycharmProjects/H2_pathways_repo/data/processed/LH2_Export_terminal_emissions.csv\", delimiter=';',\n",
    "    decimal=',', index_col=0)\n",
    "# Emissions of transported hydrogen carrier in [g CO2eq/kg_H2] in year y\n",
    "H2_emissions = (GHG.loc['Blue hydrogen emissions [kg CO2/kg H2] - Norway', 2025:2050]).apply(pd.to_numeric) * 1000\n",
    "Con_emissions = (LH2_Conversion_emissions.loc[::]['LH2_Conversion_emissions']).apply(pd.to_numeric)\n",
    "ET_emissions = (LH2_Export_terminal_emissions.loc[::]['LH2_Export_terminal_emissions']).apply(pd.to_numeric)\n",
    "# Emission of cargo in [g CO2eq/kg_H2]\n",
    "LH2_cargo_emissions = (H2_emissions + Con_emissions + ET_emissions).to_frame('LH2_cargo_emissions')\n",
    "LH2_cargo_emissions"
   ],
   "metadata": {
    "collapsed": false,
    "pycharm": {
     "name": "#%%\n"
    }
   }
  },
  {
   "cell_type": "code",
   "execution_count": 930,
   "outputs": [],
   "source": [
    "#d_sea = 10000"
   ],
   "metadata": {
    "collapsed": false,
    "pycharm": {
     "name": "#%%\n"
    }
   }
  },
  {
   "cell_type": "markdown",
   "source": [
    "Calc. LH2 shipping emissions"
   ],
   "metadata": {
    "collapsed": false,
    "pycharm": {
     "name": "#%% md\n"
    }
   }
  },
  {
   "cell_type": "code",
   "execution_count": 931,
   "outputs": [],
   "source": [
    "def calculate_ship_emissions():\n",
    "    result = 1/(1-(bog_ship * d_sea/v_ship) - (f_ship  * d_sea)) \\\n",
    "             + (bog_ship * d_sea/v_ship + f_ship * d_sea) * LH2_cargo_ghg\n",
    "\n",
    "    return result"
   ],
   "metadata": {
    "collapsed": false,
    "pycharm": {
     "name": "#%%\n"
    }
   }
  },
  {
   "cell_type": "code",
   "execution_count": 932,
   "outputs": [
    {
     "data": {
      "text/plain": "      LH2_Shipping_emissions\nYears                       \n2025               20.476423\n2026               20.020242\n2027               19.564739\n2028               19.109915\n2029                18.65577\n2030               18.202303\n2031               17.749515\n2032               17.297405\n2033               16.845974\n2034               16.395221\n2035               15.945148\n2036               15.495752\n2037               15.047035\n2038               14.598997\n2039               14.151638\n2040               13.704957\n2041               13.257428\n2042               12.810916\n2043               12.365423\n2044               11.920947\n2045                11.47749\n2046                11.03505\n2047               10.593628\n2048               10.153224\n2049                9.713838\n2050                9.275469",
      "text/html": "<div>\n<style scoped>\n    .dataframe tbody tr th:only-of-type {\n        vertical-align: middle;\n    }\n\n    .dataframe tbody tr th {\n        vertical-align: top;\n    }\n\n    .dataframe thead th {\n        text-align: right;\n    }\n</style>\n<table border=\"1\" class=\"dataframe\">\n  <thead>\n    <tr style=\"text-align: right;\">\n      <th></th>\n      <th>LH2_Shipping_emissions</th>\n    </tr>\n    <tr>\n      <th>Years</th>\n      <th></th>\n    </tr>\n  </thead>\n  <tbody>\n    <tr>\n      <th>2025</th>\n      <td>20.476423</td>\n    </tr>\n    <tr>\n      <th>2026</th>\n      <td>20.020242</td>\n    </tr>\n    <tr>\n      <th>2027</th>\n      <td>19.564739</td>\n    </tr>\n    <tr>\n      <th>2028</th>\n      <td>19.109915</td>\n    </tr>\n    <tr>\n      <th>2029</th>\n      <td>18.65577</td>\n    </tr>\n    <tr>\n      <th>2030</th>\n      <td>18.202303</td>\n    </tr>\n    <tr>\n      <th>2031</th>\n      <td>17.749515</td>\n    </tr>\n    <tr>\n      <th>2032</th>\n      <td>17.297405</td>\n    </tr>\n    <tr>\n      <th>2033</th>\n      <td>16.845974</td>\n    </tr>\n    <tr>\n      <th>2034</th>\n      <td>16.395221</td>\n    </tr>\n    <tr>\n      <th>2035</th>\n      <td>15.945148</td>\n    </tr>\n    <tr>\n      <th>2036</th>\n      <td>15.495752</td>\n    </tr>\n    <tr>\n      <th>2037</th>\n      <td>15.047035</td>\n    </tr>\n    <tr>\n      <th>2038</th>\n      <td>14.598997</td>\n    </tr>\n    <tr>\n      <th>2039</th>\n      <td>14.151638</td>\n    </tr>\n    <tr>\n      <th>2040</th>\n      <td>13.704957</td>\n    </tr>\n    <tr>\n      <th>2041</th>\n      <td>13.257428</td>\n    </tr>\n    <tr>\n      <th>2042</th>\n      <td>12.810916</td>\n    </tr>\n    <tr>\n      <th>2043</th>\n      <td>12.365423</td>\n    </tr>\n    <tr>\n      <th>2044</th>\n      <td>11.920947</td>\n    </tr>\n    <tr>\n      <th>2045</th>\n      <td>11.47749</td>\n    </tr>\n    <tr>\n      <th>2046</th>\n      <td>11.03505</td>\n    </tr>\n    <tr>\n      <th>2047</th>\n      <td>10.593628</td>\n    </tr>\n    <tr>\n      <th>2048</th>\n      <td>10.153224</td>\n    </tr>\n    <tr>\n      <th>2049</th>\n      <td>9.713838</td>\n    </tr>\n    <tr>\n      <th>2050</th>\n      <td>9.275469</td>\n    </tr>\n  </tbody>\n</table>\n</div>"
     },
     "execution_count": 932,
     "metadata": {},
     "output_type": "execute_result"
    }
   ],
   "source": [
    "# Calculation of shipping emissions [g CO2eq/kg_h2] from 2025 to 2050.\n",
    "years = np.arange(2025, 2051)\n",
    "result = pd.DataFrame(index=years, columns=['LH2_Shipping_emissions'])\n",
    "result.index.name = 'Years'\n",
    "\n",
    "for year in years:\n",
    "\n",
    "    LH2_cargo_ghg = float(LH2_cargo_emissions.loc[year]['LH2_cargo_emissions'])\n",
    "\n",
    "    # calculate emissions of specific year\n",
    "    result.LH2_Shipping_emissions.loc[year] = calculate_ship_emissions()\n",
    "\n",
    "result"
   ],
   "metadata": {
    "collapsed": false,
    "pycharm": {
     "name": "#%%\n"
    }
   }
  },
  {
   "cell_type": "code",
   "execution_count": 832,
   "outputs": [],
   "source": [
    "# export result to excel\n",
    "writer = pd.ExcelWriter(path, engine='openpyxl', mode='a', if_sheet_exists='overlay')\n",
    "book = load_workbook(path)\n",
    "writer.book = book\n",
    "writer.sheets = dict((ws.title, ws) for ws in book.worksheets)\n",
    "\n",
    "ws = book['Reference Results']\n",
    "\n",
    "result.to_excel(writer, sheet_name='Reference Results', index=False, startcol=ws.max_column)\n",
    "book.save(path)\n",
    "book.close()"
   ],
   "metadata": {
    "collapsed": false,
    "pycharm": {
     "name": "#%%\n"
    }
   }
  },
  {
   "cell_type": "code",
   "execution_count": 833,
   "outputs": [],
   "source": [
    "path_csv=r'/Users/jakob/PycharmProjects/H2_pathways_repo/data/processed'\n",
    "output_file = os.path.join(path_csv,'LH2_Shipping_emissions.csv')\n",
    "result.to_csv(output_file, sep = ';')"
   ],
   "metadata": {
    "collapsed": false,
    "pycharm": {
     "name": "#%%\n"
    }
   }
  },
  {
   "cell_type": "markdown",
   "source": [
    "## Import terminal\n"
   ],
   "metadata": {
    "collapsed": false,
    "pycharm": {
     "name": "#%% md\n"
    }
   }
  },
  {
   "cell_type": "code",
   "execution_count": 834,
   "outputs": [
    {
     "data": {
      "text/plain": "0.2"
     },
     "execution_count": 834,
     "metadata": {},
     "output_type": "execute_result"
    }
   ],
   "source": [
    "# Electricity consumption for the import terminal [kWh/kg_h2]\n",
    "el_it = float(tea_lh2.loc['Import Terminal - Electricity use [kWh/kg H2]']['LH2'])\n",
    "el_it"
   ],
   "metadata": {
    "collapsed": false,
    "pycharm": {
     "name": "#%%\n"
    }
   }
  },
  {
   "cell_type": "code",
   "execution_count": 835,
   "outputs": [
    {
     "data": {
      "text/plain": "0.1"
     },
     "execution_count": 835,
     "metadata": {},
     "output_type": "execute_result"
    }
   ],
   "source": [
    "# Electricity consumption to reliquefy BOG [kWh/kg_h2]\n",
    "el_reliq = float(tea_lh2.loc['Import Terminal - Energy use to reliquefy opt. [kWh/kg H2/day]']['LH2'])\n",
    "el_reliq"
   ],
   "metadata": {
    "collapsed": false,
    "pycharm": {
     "name": "#%%\n"
    }
   }
  },
  {
   "cell_type": "code",
   "execution_count": 836,
   "outputs": [
    {
     "data": {
      "text/plain": "7.0"
     },
     "execution_count": 836,
     "metadata": {},
     "output_type": "execute_result"
    }
   ],
   "source": [
    "# Average storage time in the import terminal tanks in days\n",
    "t_it = float(tea_lh2.loc['Import Terminal - Storage length per load [days]']['LH2'])\n",
    "t_it"
   ],
   "metadata": {
    "collapsed": false,
    "pycharm": {
     "name": "#%%\n"
    }
   }
  },
  {
   "cell_type": "markdown",
   "source": [],
   "metadata": {
    "collapsed": false,
    "pycharm": {
     "name": "#%% md\n"
    }
   }
  },
  {
   "cell_type": "code",
   "execution_count": 837,
   "outputs": [
    {
     "data": {
      "text/plain": "      LH2_Import_terminal_emissions\nYears                              \n2025                         292.28\n2026                          274.9\n2027                         257.52\n2028                         240.14\n2029                         222.76\n2030                         205.38\n2031                       191.8836\n2032                       178.3872\n2033                       164.8908\n2034                       151.3944\n2035                        137.898\n2036                       124.4016\n2037                       110.9052\n2038                        97.4088\n2039                        83.9124\n2040                         70.416\n2041                        56.3328\n2042                        42.2496\n2043                        28.1664\n2044                        14.0832\n2045                            0.0\n2046                            0.0\n2047                            0.0\n2048                            0.0\n2049                            0.0\n2050                            0.0",
      "text/html": "<div>\n<style scoped>\n    .dataframe tbody tr th:only-of-type {\n        vertical-align: middle;\n    }\n\n    .dataframe tbody tr th {\n        vertical-align: top;\n    }\n\n    .dataframe thead th {\n        text-align: right;\n    }\n</style>\n<table border=\"1\" class=\"dataframe\">\n  <thead>\n    <tr style=\"text-align: right;\">\n      <th></th>\n      <th>LH2_Import_terminal_emissions</th>\n    </tr>\n    <tr>\n      <th>Years</th>\n      <th></th>\n    </tr>\n  </thead>\n  <tbody>\n    <tr>\n      <th>2025</th>\n      <td>292.28</td>\n    </tr>\n    <tr>\n      <th>2026</th>\n      <td>274.9</td>\n    </tr>\n    <tr>\n      <th>2027</th>\n      <td>257.52</td>\n    </tr>\n    <tr>\n      <th>2028</th>\n      <td>240.14</td>\n    </tr>\n    <tr>\n      <th>2029</th>\n      <td>222.76</td>\n    </tr>\n    <tr>\n      <th>2030</th>\n      <td>205.38</td>\n    </tr>\n    <tr>\n      <th>2031</th>\n      <td>191.8836</td>\n    </tr>\n    <tr>\n      <th>2032</th>\n      <td>178.3872</td>\n    </tr>\n    <tr>\n      <th>2033</th>\n      <td>164.8908</td>\n    </tr>\n    <tr>\n      <th>2034</th>\n      <td>151.3944</td>\n    </tr>\n    <tr>\n      <th>2035</th>\n      <td>137.898</td>\n    </tr>\n    <tr>\n      <th>2036</th>\n      <td>124.4016</td>\n    </tr>\n    <tr>\n      <th>2037</th>\n      <td>110.9052</td>\n    </tr>\n    <tr>\n      <th>2038</th>\n      <td>97.4088</td>\n    </tr>\n    <tr>\n      <th>2039</th>\n      <td>83.9124</td>\n    </tr>\n    <tr>\n      <th>2040</th>\n      <td>70.416</td>\n    </tr>\n    <tr>\n      <th>2041</th>\n      <td>56.3328</td>\n    </tr>\n    <tr>\n      <th>2042</th>\n      <td>42.2496</td>\n    </tr>\n    <tr>\n      <th>2043</th>\n      <td>28.1664</td>\n    </tr>\n    <tr>\n      <th>2044</th>\n      <td>14.0832</td>\n    </tr>\n    <tr>\n      <th>2045</th>\n      <td>0.0</td>\n    </tr>\n    <tr>\n      <th>2046</th>\n      <td>0.0</td>\n    </tr>\n    <tr>\n      <th>2047</th>\n      <td>0.0</td>\n    </tr>\n    <tr>\n      <th>2048</th>\n      <td>0.0</td>\n    </tr>\n    <tr>\n      <th>2049</th>\n      <td>0.0</td>\n    </tr>\n    <tr>\n      <th>2050</th>\n      <td>0.0</td>\n    </tr>\n  </tbody>\n</table>\n</div>"
     },
     "execution_count": 837,
     "metadata": {},
     "output_type": "execute_result"
    }
   ],
   "source": [
    "def IT_emissions():\n",
    "    result = (el_it + el_reliq * t_it) * EF_y_n\n",
    "    return result\n",
    "\n",
    "\n",
    "# Calc. liquefaction emissions over time [g CO2eq/kg H2]\n",
    "years = np.arange(2025, 2051)\n",
    "result = pd.DataFrame(index=years, columns=['LH2_Import_terminal_emissions'])\n",
    "result.index.name = 'Years'\n",
    "\n",
    "for year in years:\n",
    "    EF_y_n = float(GHG.loc['GHG intensity of electricity generation [g CO2eq/kWh] - Germany'][year])\n",
    "\n",
    "    result.LH2_Import_terminal_emissions.loc[year] = IT_emissions()\n",
    "\n",
    "result"
   ],
   "metadata": {
    "collapsed": false,
    "pycharm": {
     "name": "#%%\n"
    }
   }
  },
  {
   "cell_type": "code",
   "execution_count": 838,
   "outputs": [],
   "source": [
    "# export result to excel\n",
    "writer = pd.ExcelWriter(path, engine='openpyxl', mode='a', if_sheet_exists='overlay')\n",
    "book = load_workbook(path)\n",
    "writer.book = book\n",
    "writer.sheets = dict((ws.title, ws) for ws in book.worksheets)\n",
    "\n",
    "ws = book['Reference Results']\n",
    "\n",
    "result.to_excel(writer, sheet_name='Reference Results', index=False, startcol=ws.max_column)\n",
    "book.save(path)\n",
    "book.close()"
   ],
   "metadata": {
    "collapsed": false,
    "pycharm": {
     "name": "#%%\n"
    }
   }
  },
  {
   "cell_type": "code",
   "execution_count": 839,
   "outputs": [],
   "source": [
    "path_csv = r'/Users/jakob/PycharmProjects/H2_pathways_repo/data/processed'\n",
    "output_file = os.path.join(path_csv, 'LH2_Import_terminal_emissions.csv')\n",
    "result.to_csv(output_file, sep=';')"
   ],
   "metadata": {
    "collapsed": false,
    "pycharm": {
     "name": "#%%\n"
    }
   }
  },
  {
   "cell_type": "markdown",
   "source": [
    "## Reconversion\n"
   ],
   "metadata": {
    "collapsed": false,
    "pycharm": {
     "name": "#%% md\n"
    }
   }
  },
  {
   "cell_type": "code",
   "execution_count": 840,
   "outputs": [],
   "source": [
    "def calculate_recon_emissions():\n",
    "    result = el_recon_y * EF_y_n\n",
    "    return result"
   ],
   "metadata": {
    "collapsed": false,
    "pycharm": {
     "name": "#%%\n"
    }
   }
  },
  {
   "cell_type": "code",
   "execution_count": 841,
   "outputs": [],
   "source": [
    "years = np.arange(2025, 2051)\n",
    "result = pd.DataFrame(index=years, columns=['LH2_Reconversion_emissions'])\n",
    "result.index.name = 'Years'"
   ],
   "metadata": {
    "collapsed": false,
    "pycharm": {
     "name": "#%%\n"
    }
   }
  },
  {
   "cell_type": "code",
   "execution_count": 842,
   "outputs": [
    {
     "data": {
      "text/plain": "      LH2_Reconversion_emissions\nYears                           \n2025                  227.328889\n2026                  207.702222\n2027                     188.848\n2028                  170.766222\n2029                  153.456889\n2030                      136.92\n2031                   123.65832\n2032                   110.99648\n2033                    98.93448\n2034                    87.47232\n2035                       76.61\n2036                    66.34752\n2037                    56.68488\n2038                    47.62208\n2039                    39.15912\n2040                      31.296\n2041                    23.78496\n2042                    16.89984\n2043                    10.64064\n2044                     5.00736\n2045                         0.0\n2046                         0.0\n2047                         0.0\n2048                         0.0\n2049                         0.0\n2050                         0.0",
      "text/html": "<div>\n<style scoped>\n    .dataframe tbody tr th:only-of-type {\n        vertical-align: middle;\n    }\n\n    .dataframe tbody tr th {\n        vertical-align: top;\n    }\n\n    .dataframe thead th {\n        text-align: right;\n    }\n</style>\n<table border=\"1\" class=\"dataframe\">\n  <thead>\n    <tr style=\"text-align: right;\">\n      <th></th>\n      <th>LH2_Reconversion_emissions</th>\n    </tr>\n    <tr>\n      <th>Years</th>\n      <th></th>\n    </tr>\n  </thead>\n  <tbody>\n    <tr>\n      <th>2025</th>\n      <td>227.328889</td>\n    </tr>\n    <tr>\n      <th>2026</th>\n      <td>207.702222</td>\n    </tr>\n    <tr>\n      <th>2027</th>\n      <td>188.848</td>\n    </tr>\n    <tr>\n      <th>2028</th>\n      <td>170.766222</td>\n    </tr>\n    <tr>\n      <th>2029</th>\n      <td>153.456889</td>\n    </tr>\n    <tr>\n      <th>2030</th>\n      <td>136.92</td>\n    </tr>\n    <tr>\n      <th>2031</th>\n      <td>123.65832</td>\n    </tr>\n    <tr>\n      <th>2032</th>\n      <td>110.99648</td>\n    </tr>\n    <tr>\n      <th>2033</th>\n      <td>98.93448</td>\n    </tr>\n    <tr>\n      <th>2034</th>\n      <td>87.47232</td>\n    </tr>\n    <tr>\n      <th>2035</th>\n      <td>76.61</td>\n    </tr>\n    <tr>\n      <th>2036</th>\n      <td>66.34752</td>\n    </tr>\n    <tr>\n      <th>2037</th>\n      <td>56.68488</td>\n    </tr>\n    <tr>\n      <th>2038</th>\n      <td>47.62208</td>\n    </tr>\n    <tr>\n      <th>2039</th>\n      <td>39.15912</td>\n    </tr>\n    <tr>\n      <th>2040</th>\n      <td>31.296</td>\n    </tr>\n    <tr>\n      <th>2041</th>\n      <td>23.78496</td>\n    </tr>\n    <tr>\n      <th>2042</th>\n      <td>16.89984</td>\n    </tr>\n    <tr>\n      <th>2043</th>\n      <td>10.64064</td>\n    </tr>\n    <tr>\n      <th>2044</th>\n      <td>5.00736</td>\n    </tr>\n    <tr>\n      <th>2045</th>\n      <td>0.0</td>\n    </tr>\n    <tr>\n      <th>2046</th>\n      <td>0.0</td>\n    </tr>\n    <tr>\n      <th>2047</th>\n      <td>0.0</td>\n    </tr>\n    <tr>\n      <th>2048</th>\n      <td>0.0</td>\n    </tr>\n    <tr>\n      <th>2049</th>\n      <td>0.0</td>\n    </tr>\n    <tr>\n      <th>2050</th>\n      <td>0.0</td>\n    </tr>\n  </tbody>\n</table>\n</div>"
     },
     "execution_count": 842,
     "metadata": {},
     "output_type": "execute_result"
    }
   ],
   "source": [
    "for year in years:\n",
    "\n",
    "    el_recon_y = float(tea_lh2.loc['Reconversion - Electricity consumption opt. [kWh/kg H2]'][year])\n",
    "    EF_y_n = float(GHG.loc['GHG intensity of electricity generation [g CO2eq/kWh] - Germany'][year])\n",
    "\n",
    "    # calculate emissions of specific year\n",
    "    result.LH2_Reconversion_emissions.loc[year] = calculate_recon_emissions()\n",
    "result"
   ],
   "metadata": {
    "collapsed": false,
    "pycharm": {
     "name": "#%%\n"
    }
   }
  },
  {
   "cell_type": "code",
   "execution_count": 843,
   "outputs": [],
   "source": [
    "# export result to excel\n",
    "writer = pd.ExcelWriter(path, engine='openpyxl', mode='a', if_sheet_exists='overlay')\n",
    "book = load_workbook(path)\n",
    "writer.book = book\n",
    "writer.sheets = dict((ws.title, ws) for ws in book.worksheets)\n",
    "\n",
    "ws = book['Reference Results']\n",
    "\n",
    "result.to_excel(writer, sheet_name='Reference Results', index=False, startcol=ws.max_column)\n",
    "book.save(path)\n",
    "book.close()"
   ],
   "metadata": {
    "collapsed": false,
    "pycharm": {
     "name": "#%%\n"
    }
   }
  },
  {
   "cell_type": "code",
   "execution_count": 844,
   "outputs": [],
   "source": [
    "path_csv = r'/Users/jakob/PycharmProjects/H2_pathways_repo/data/processed'\n",
    "output_file = os.path.join(path_csv, 'LH2_Reconversion_emissions.csv')\n",
    "result.to_csv(output_file, sep=';')"
   ],
   "metadata": {
    "collapsed": false,
    "pycharm": {
     "name": "#%%\n"
    }
   }
  },
  {
   "cell_type": "markdown",
   "source": [
    "## Total LH2 transport emissions"
   ],
   "metadata": {
    "collapsed": false,
    "pycharm": {
     "name": "#%% md\n"
    }
   }
  },
  {
   "cell_type": "code",
   "execution_count": 1007,
   "outputs": [],
   "source": [
    "con_em = pd.read_csv('/Users/jakob/PycharmProjects/H2_pathways_repo/data/processed/LH2_Conversion_emissions.csv', delimiter=';', decimal=',', index_col= 0)\n",
    "et_em = pd.read_csv('/Users/jakob/PycharmProjects/H2_pathways_repo/data/processed/LH2_Export_terminal_emissions.csv', delimiter=';', decimal=',', index_col= 0)\n",
    "ship_em = pd.read_csv('/Users/jakob/PycharmProjects/H2_pathways_repo/data/processed/LH2_Shipping_emissions.csv', delimiter=';', decimal=',', index_col= 0)\n",
    "it_em = pd.read_csv('/Users/jakob/PycharmProjects/H2_pathways_repo/data/processed/LH2_Import_terminal_emissions.csv', delimiter=';', decimal=',', index_col= 0)\n",
    "recon_em = pd.read_csv('/Users/jakob/PycharmProjects/H2_pathways_repo/data/processed/LH2_Reconversion_emissions.csv', delimiter=';', decimal=',', index_col= 0)"
   ],
   "metadata": {
    "collapsed": false,
    "pycharm": {
     "name": "#%%\n"
    }
   }
  },
  {
   "cell_type": "code",
   "execution_count": 1008,
   "outputs": [],
   "source": [
    "years = np.arange(2025, 2051)\n",
    "result = pd.DataFrame(index=years, columns=['LH2_transport_emissions'])\n",
    "result.index.name = 'Years'"
   ],
   "metadata": {
    "collapsed": false,
    "pycharm": {
     "name": "#%%\n"
    }
   }
  },
  {
   "cell_type": "code",
   "execution_count": 1009,
   "outputs": [],
   "source": [
    "# [g CO2eq/kg H2]\n",
    "def calculate_LH2_transport_emissions():\n",
    "    result = CE + EE + SE + IE + RE\n",
    "\n",
    "    return result"
   ],
   "metadata": {
    "collapsed": false,
    "pycharm": {
     "name": "#%%\n"
    }
   }
  },
  {
   "cell_type": "code",
   "execution_count": 1010,
   "outputs": [
    {
     "data": {
      "text/plain": "      LH2_transport_emissions\nYears                        \n2025               744.390281\n2026               696.550279\n2027                 649.6561\n2028               603.707742\n2029               558.705206\n2030               514.648492\n2031               477.923964\n2032               441.972654\n2033               406.794561\n2034               372.389685\n2035               338.758026\n2036               305.899585\n2037               273.814361\n2038               242.502354\n2039               211.963565\n2040               182.197993\n2041               151.980979\n2042               122.649951\n2043                 94.20491\n2044                66.645854\n2045                39.972784\n2046                 32.65034\n2047                25.587963\n2048                18.785651\n2049                12.243405\n2050                 5.961225",
      "text/html": "<div>\n<style scoped>\n    .dataframe tbody tr th:only-of-type {\n        vertical-align: middle;\n    }\n\n    .dataframe tbody tr th {\n        vertical-align: top;\n    }\n\n    .dataframe thead th {\n        text-align: right;\n    }\n</style>\n<table border=\"1\" class=\"dataframe\">\n  <thead>\n    <tr style=\"text-align: right;\">\n      <th></th>\n      <th>LH2_transport_emissions</th>\n    </tr>\n    <tr>\n      <th>Years</th>\n      <th></th>\n    </tr>\n  </thead>\n  <tbody>\n    <tr>\n      <th>2025</th>\n      <td>744.390281</td>\n    </tr>\n    <tr>\n      <th>2026</th>\n      <td>696.550279</td>\n    </tr>\n    <tr>\n      <th>2027</th>\n      <td>649.6561</td>\n    </tr>\n    <tr>\n      <th>2028</th>\n      <td>603.707742</td>\n    </tr>\n    <tr>\n      <th>2029</th>\n      <td>558.705206</td>\n    </tr>\n    <tr>\n      <th>2030</th>\n      <td>514.648492</td>\n    </tr>\n    <tr>\n      <th>2031</th>\n      <td>477.923964</td>\n    </tr>\n    <tr>\n      <th>2032</th>\n      <td>441.972654</td>\n    </tr>\n    <tr>\n      <th>2033</th>\n      <td>406.794561</td>\n    </tr>\n    <tr>\n      <th>2034</th>\n      <td>372.389685</td>\n    </tr>\n    <tr>\n      <th>2035</th>\n      <td>338.758026</td>\n    </tr>\n    <tr>\n      <th>2036</th>\n      <td>305.899585</td>\n    </tr>\n    <tr>\n      <th>2037</th>\n      <td>273.814361</td>\n    </tr>\n    <tr>\n      <th>2038</th>\n      <td>242.502354</td>\n    </tr>\n    <tr>\n      <th>2039</th>\n      <td>211.963565</td>\n    </tr>\n    <tr>\n      <th>2040</th>\n      <td>182.197993</td>\n    </tr>\n    <tr>\n      <th>2041</th>\n      <td>151.980979</td>\n    </tr>\n    <tr>\n      <th>2042</th>\n      <td>122.649951</td>\n    </tr>\n    <tr>\n      <th>2043</th>\n      <td>94.20491</td>\n    </tr>\n    <tr>\n      <th>2044</th>\n      <td>66.645854</td>\n    </tr>\n    <tr>\n      <th>2045</th>\n      <td>39.972784</td>\n    </tr>\n    <tr>\n      <th>2046</th>\n      <td>32.65034</td>\n    </tr>\n    <tr>\n      <th>2047</th>\n      <td>25.587963</td>\n    </tr>\n    <tr>\n      <th>2048</th>\n      <td>18.785651</td>\n    </tr>\n    <tr>\n      <th>2049</th>\n      <td>12.243405</td>\n    </tr>\n    <tr>\n      <th>2050</th>\n      <td>5.961225</td>\n    </tr>\n  </tbody>\n</table>\n</div>"
     },
     "execution_count": 1010,
     "metadata": {},
     "output_type": "execute_result"
    }
   ],
   "source": [
    "for year in years:\n",
    "    # get all emissions\n",
    "    CE = float(con_em.loc[year]['LH2_Conversion_emissions'])\n",
    "    EE = float(et_em.loc[year]['LH2_Export_terminal_emissions'])\n",
    "    SE = float(ship_em.loc[year]['LH2_Shipping_emissions'])\n",
    "    IE = float(it_em.loc[year]['LH2_Import_terminal_emissions'])\n",
    "    RE = float(recon_em.loc[year]['LH2_Reconversion_emissions'])\n",
    "    # calculate costs of specific year\n",
    "    result.LH2_transport_emissions.loc[year] = calculate_LH2_transport_emissions()\n",
    "\n",
    "result"
   ],
   "metadata": {
    "collapsed": false,
    "pycharm": {
     "name": "#%%\n"
    }
   }
  },
  {
   "cell_type": "code",
   "execution_count": 1011,
   "outputs": [],
   "source": [
    "# export result to excel\n",
    "writer = pd.ExcelWriter(path, engine='openpyxl', mode='a', if_sheet_exists='overlay')\n",
    "book = load_workbook(path)\n",
    "writer.book = book\n",
    "writer.sheets = dict((ws.title, ws) for ws in book.worksheets)\n",
    "\n",
    "ws = book['Reference Results']\n",
    "\n",
    "result.to_excel(writer, sheet_name='Reference Results', index=False, startcol=ws.max_column)\n",
    "book.save(path)\n",
    "book.close()"
   ],
   "metadata": {
    "collapsed": false,
    "pycharm": {
     "name": "#%%\n"
    }
   }
  },
  {
   "cell_type": "code",
   "execution_count": 1021,
   "outputs": [
    {
     "data": {
      "text/plain": "<Figure size 720x432 with 1 Axes>",
      "image/png": "[encoded data removed]"
     },
     "metadata": {
      "needs_background": "light"
     },
     "output_type": "display_data"
    }
   ],
   "source": [
    "# Emission breakdown for LH2 seaborne transport\n",
    "fig, ax = plt.subplots(figsize=(10,6))\n",
    "plt.grid(True, axis = 'y')\n",
    "ax.set_axisbelow(True)\n",
    "x = np.arange(2025, 2051, step=5)\n",
    "CE = (con_em.loc[::5]['LH2_Conversion_emissions']).apply(pd.to_numeric)\n",
    "EE = (et_em.loc[::5]['LH2_Export_terminal_emissions']).apply(pd.to_numeric)\n",
    "SE = (ship_em.loc[::5]['LH2_Shipping_emissions']).apply(pd.to_numeric)\n",
    "IE = (it_em.loc[::5]['LH2_Import_terminal_emissions']).apply(pd.to_numeric)\n",
    "RE = (recon_em.loc[::5]['LH2_Reconversion_emissions']).apply(pd.to_numeric)\n",
    "width = 2       # the width of the bars: can also be len(x) sequence\n",
    "\n",
    "RE_plt = plt.bar(x,RE, width, label='Regasification emissions', bottom= CE + EE + SE + IE)\n",
    "IE_plt = plt.bar(x,IE, width, label='Import terminal emissions', bottom= CE + EE + SE)\n",
    "SE_plt = plt.bar(x,SE, width, label='Shipping emissions', bottom= CE + EE)\n",
    "EE_plt = plt.bar(x,EE, width, label='Export terminal emissions', bottom= CE)\n",
    "CE_plt = plt.bar(x,CE, width, label='Liquefaction emissions')\n",
    "\n",
    "plt.title('Emission breakdown for LH2 shipping [g CO2eq/kg H2]', fontweight='bold')\n",
    "plt.legend(loc='upper right')\n",
    "plt.ylabel('Transport emissions')\n",
    "plt.xlabel('Years')\n",
    "\n",
    "title = 'LH2_emissions_2'\n",
    "plt.savefig(path_plt + title + '.png', transparent = True)\n",
    "\n",
    "plt.show()"
   ],
   "metadata": {
    "collapsed": false,
    "pycharm": {
     "name": "#%%\n"
    }
   }
  },
  {
   "cell_type": "markdown",
   "source": [
    "@ 10.000 km shipping distance. Large contributers to total emissions are emissions factors for grid electricity in import/exporting countries (assumed zero from 2045)."
   ],
   "metadata": {
    "collapsed": false,
    "pycharm": {
     "name": "#%% md\n"
    }
   }
  },
  {
   "cell_type": "markdown",
   "source": [
    "# NH3 transport"
   ],
   "metadata": {
    "collapsed": false,
    "pycharm": {
     "name": "#%% md\n"
    }
   }
  },
  {
   "cell_type": "markdown",
   "source": [
    "## Conversion emissions"
   ],
   "metadata": {
    "collapsed": false,
    "pycharm": {
     "name": "#%% md\n"
    }
   }
  },
  {
   "cell_type": "code",
   "execution_count": 953,
   "outputs": [],
   "source": [
    "def Conversion_emissions():\n",
    "    result = el_con_y * EF_y_n\n",
    "    return result"
   ],
   "metadata": {
    "collapsed": false,
    "pycharm": {
     "name": "#%%\n"
    }
   }
  },
  {
   "cell_type": "code",
   "execution_count": 954,
   "outputs": [
    {
     "data": {
      "text/plain": "     NH3_Conversion_emissions\n2025                92.971646\n2026                 89.25278\n2027                85.533914\n2028                81.815048\n2029                78.096182\n2030                74.377316\n2031                69.015231\n2032                63.826116\n2033                58.809971\n2034                53.966797\n2035                49.296593\n2036                 44.79936\n2037                40.475098\n2038                36.323806\n2039                32.345484\n2040                28.540133\n2041                 25.68612\n2042                22.832106\n2043                19.978093\n2044                 17.12408\n2045                14.270067\n2046                11.416053\n2047                  8.56204\n2048                 5.708027\n2049                 2.854013\n2050                      0.0",
      "text/html": "<div>\n<style scoped>\n    .dataframe tbody tr th:only-of-type {\n        vertical-align: middle;\n    }\n\n    .dataframe tbody tr th {\n        vertical-align: top;\n    }\n\n    .dataframe thead th {\n        text-align: right;\n    }\n</style>\n<table border=\"1\" class=\"dataframe\">\n  <thead>\n    <tr style=\"text-align: right;\">\n      <th></th>\n      <th>NH3_Conversion_emissions</th>\n    </tr>\n  </thead>\n  <tbody>\n    <tr>\n      <th>2025</th>\n      <td>92.971646</td>\n    </tr>\n    <tr>\n      <th>2026</th>\n      <td>89.25278</td>\n    </tr>\n    <tr>\n      <th>2027</th>\n      <td>85.533914</td>\n    </tr>\n    <tr>\n      <th>2028</th>\n      <td>81.815048</td>\n    </tr>\n    <tr>\n      <th>2029</th>\n      <td>78.096182</td>\n    </tr>\n    <tr>\n      <th>2030</th>\n      <td>74.377316</td>\n    </tr>\n    <tr>\n      <th>2031</th>\n      <td>69.015231</td>\n    </tr>\n    <tr>\n      <th>2032</th>\n      <td>63.826116</td>\n    </tr>\n    <tr>\n      <th>2033</th>\n      <td>58.809971</td>\n    </tr>\n    <tr>\n      <th>2034</th>\n      <td>53.966797</td>\n    </tr>\n    <tr>\n      <th>2035</th>\n      <td>49.296593</td>\n    </tr>\n    <tr>\n      <th>2036</th>\n      <td>44.79936</td>\n    </tr>\n    <tr>\n      <th>2037</th>\n      <td>40.475098</td>\n    </tr>\n    <tr>\n      <th>2038</th>\n      <td>36.323806</td>\n    </tr>\n    <tr>\n      <th>2039</th>\n      <td>32.345484</td>\n    </tr>\n    <tr>\n      <th>2040</th>\n      <td>28.540133</td>\n    </tr>\n    <tr>\n      <th>2041</th>\n      <td>25.68612</td>\n    </tr>\n    <tr>\n      <th>2042</th>\n      <td>22.832106</td>\n    </tr>\n    <tr>\n      <th>2043</th>\n      <td>19.978093</td>\n    </tr>\n    <tr>\n      <th>2044</th>\n      <td>17.12408</td>\n    </tr>\n    <tr>\n      <th>2045</th>\n      <td>14.270067</td>\n    </tr>\n    <tr>\n      <th>2046</th>\n      <td>11.416053</td>\n    </tr>\n    <tr>\n      <th>2047</th>\n      <td>8.56204</td>\n    </tr>\n    <tr>\n      <th>2048</th>\n      <td>5.708027</td>\n    </tr>\n    <tr>\n      <th>2049</th>\n      <td>2.854013</td>\n    </tr>\n    <tr>\n      <th>2050</th>\n      <td>0.0</td>\n    </tr>\n  </tbody>\n</table>\n</div>"
     },
     "execution_count": 954,
     "metadata": {},
     "output_type": "execute_result"
    }
   ],
   "source": [
    "# Calc. liquefaction emissions over time [g CO2eq/kg H2]\n",
    "years = np.arange(2025, 2051)\n",
    "result = pd.DataFrame(index=years, columns=['NH3_Conversion_emissions'])\n",
    "for year in years:\n",
    "    el_con_y = float(tea_lnh3.loc['Conversion - Electricity consumption opt. [kWh/kgH2]'][year])\n",
    "    EF_y_n = float(GHG.loc['GHG intensity of electricity generation [g CO2eq/kWh] - Norway'][year])\n",
    "\n",
    "    result.NH3_Conversion_emissions.loc[year] = Conversion_emissions()\n",
    "\n",
    "result"
   ],
   "metadata": {
    "collapsed": false,
    "pycharm": {
     "name": "#%%\n"
    }
   }
  },
  {
   "cell_type": "code",
   "execution_count": 955,
   "outputs": [],
   "source": [
    "# export result to excel\n",
    "path = '/Users/jakob/PycharmProjects/H2_pathways_repo/data/raw/H2_supply_route_assessment.xlsx'\n",
    "writer = pd.ExcelWriter(path, engine='openpyxl', mode='a', if_sheet_exists='overlay')\n",
    "book = load_workbook(path)\n",
    "writer.book = book\n",
    "writer.sheets = dict((ws.title, ws) for ws in book.worksheets)\n",
    "\n",
    "ws = book['Reference Results']\n",
    "\n",
    "result.to_excel(writer, sheet_name='Reference Results', index=False, startcol=ws.max_column)\n",
    "book.save(path)\n",
    "book.close()"
   ],
   "metadata": {
    "collapsed": false,
    "pycharm": {
     "name": "#%%\n"
    }
   }
  },
  {
   "cell_type": "code",
   "execution_count": 956,
   "outputs": [],
   "source": [
    "path_csv = r'/Users/jakob/PycharmProjects/H2_pathways_repo/data/processed'\n",
    "output_file = os.path.join(path_csv, 'NH3_Conversion_emissions.csv')\n",
    "result.to_csv(output_file, sep=';')"
   ],
   "metadata": {
    "collapsed": false,
    "pycharm": {
     "name": "#%%\n"
    }
   }
  },
  {
   "cell_type": "markdown",
   "source": [
    "## Export terminal"
   ],
   "metadata": {
    "collapsed": false,
    "pycharm": {
     "name": "#%% md\n"
    }
   }
  },
  {
   "cell_type": "code",
   "execution_count": 957,
   "outputs": [
    {
     "data": {
      "text/plain": "0.005"
     },
     "execution_count": 957,
     "metadata": {},
     "output_type": "execute_result"
    }
   ],
   "source": [
    "# Electricity consumption for the export terminal [kWh/kg_h2]\n",
    "el_et_nh3 = float(tea_lnh3.loc['Export Terminal - Electricity use [kWh/kgH2]']['NH3'])\n",
    "el_et_nh3"
   ],
   "metadata": {
    "collapsed": false,
    "pycharm": {
     "name": "#%%\n"
    }
   }
  },
  {
   "cell_type": "code",
   "execution_count": 958,
   "outputs": [
    {
     "data": {
      "text/plain": "0.0378"
     },
     "execution_count": 958,
     "metadata": {},
     "output_type": "execute_result"
    }
   ],
   "source": [
    "el_reliq_nh3 = float(tea_lnh3.loc['Export Terminal - Energy use to reliquefy opt. [kWh/kg NH3/day]']['NH3'])\n",
    "el_reliq_nh3"
   ],
   "metadata": {
    "collapsed": false,
    "pycharm": {
     "name": "#%%\n"
    }
   }
  },
  {
   "cell_type": "code",
   "execution_count": 959,
   "outputs": [],
   "source": [
    "#Lower heating value of Nh3[ kWh / kg]\n",
    "NH3_lhv = float(tea_lnh3.loc['Properties - LHV [kWh/kg]']['NH3'])\n",
    "NH3_lhv\n",
    "#Lower heating value of H2 [kWh/kg]\n",
    "H2_lhv = 33.33"
   ],
   "metadata": {
    "collapsed": false,
    "pycharm": {
     "name": "#%%\n"
    }
   }
  },
  {
   "cell_type": "markdown",
   "source": [
    "same storage time as for LH2"
   ],
   "metadata": {
    "collapsed": false,
    "pycharm": {
     "name": "#%% md\n"
    }
   }
  },
  {
   "cell_type": "code",
   "execution_count": 960,
   "outputs": [
    {
     "data": {
      "text/plain": "7.0"
     },
     "execution_count": 960,
     "metadata": {},
     "output_type": "execute_result"
    }
   ],
   "source": [
    "# Average storage time in the export terminal tanks in days\n",
    "t_et"
   ],
   "metadata": {
    "collapsed": false,
    "pycharm": {
     "name": "#%%\n"
    }
   }
  },
  {
   "cell_type": "code",
   "execution_count": 961,
   "outputs": [],
   "source": [
    "def ET_emissions():\n",
    "    result = (el_et_nh3 + el_reliq_nh3 * (NH3_lhv/H2_lhv) * t_et) * EF_y_n\n",
    "    return result"
   ],
   "metadata": {
    "collapsed": false,
    "pycharm": {
     "name": "#%%\n"
    }
   }
  },
  {
   "cell_type": "code",
   "execution_count": 962,
   "outputs": [],
   "source": [
    "# Calc. liquefaction emissions over time [g CO2eq/kg H2]\n",
    "years = np.arange(2025, 2051)\n",
    "result = pd.DataFrame(index=years, columns=['NH3_Export_terminal_emissions'])\n",
    "result.index.name = 'Years'"
   ],
   "metadata": {
    "collapsed": false,
    "pycharm": {
     "name": "#%%\n"
    }
   }
  },
  {
   "cell_type": "code",
   "execution_count": 963,
   "outputs": [
    {
     "data": {
      "text/plain": "      NH3_Export_terminal_emissions\nYears                              \n2025                       0.995522\n2026                       0.955701\n2027                       0.915881\n2028                        0.87606\n2029                       0.836239\n2030                       0.796418\n2031                       0.756597\n2032                       0.716776\n2033                       0.676955\n2034                       0.637134\n2035                       0.597313\n2036                       0.557492\n2037                       0.517672\n2038                       0.477851\n2039                        0.43803\n2040                       0.398209\n2041                       0.358388\n2042                       0.318567\n2043                       0.278746\n2044                       0.238925\n2045                       0.199104\n2046                       0.159284\n2047                       0.119463\n2048                       0.079642\n2049                       0.039821\n2050                            0.0",
      "text/html": "<div>\n<style scoped>\n    .dataframe tbody tr th:only-of-type {\n        vertical-align: middle;\n    }\n\n    .dataframe tbody tr th {\n        vertical-align: top;\n    }\n\n    .dataframe thead th {\n        text-align: right;\n    }\n</style>\n<table border=\"1\" class=\"dataframe\">\n  <thead>\n    <tr style=\"text-align: right;\">\n      <th></th>\n      <th>NH3_Export_terminal_emissions</th>\n    </tr>\n    <tr>\n      <th>Years</th>\n      <th></th>\n    </tr>\n  </thead>\n  <tbody>\n    <tr>\n      <th>2025</th>\n      <td>0.995522</td>\n    </tr>\n    <tr>\n      <th>2026</th>\n      <td>0.955701</td>\n    </tr>\n    <tr>\n      <th>2027</th>\n      <td>0.915881</td>\n    </tr>\n    <tr>\n      <th>2028</th>\n      <td>0.87606</td>\n    </tr>\n    <tr>\n      <th>2029</th>\n      <td>0.836239</td>\n    </tr>\n    <tr>\n      <th>2030</th>\n      <td>0.796418</td>\n    </tr>\n    <tr>\n      <th>2031</th>\n      <td>0.756597</td>\n    </tr>\n    <tr>\n      <th>2032</th>\n      <td>0.716776</td>\n    </tr>\n    <tr>\n      <th>2033</th>\n      <td>0.676955</td>\n    </tr>\n    <tr>\n      <th>2034</th>\n      <td>0.637134</td>\n    </tr>\n    <tr>\n      <th>2035</th>\n      <td>0.597313</td>\n    </tr>\n    <tr>\n      <th>2036</th>\n      <td>0.557492</td>\n    </tr>\n    <tr>\n      <th>2037</th>\n      <td>0.517672</td>\n    </tr>\n    <tr>\n      <th>2038</th>\n      <td>0.477851</td>\n    </tr>\n    <tr>\n      <th>2039</th>\n      <td>0.43803</td>\n    </tr>\n    <tr>\n      <th>2040</th>\n      <td>0.398209</td>\n    </tr>\n    <tr>\n      <th>2041</th>\n      <td>0.358388</td>\n    </tr>\n    <tr>\n      <th>2042</th>\n      <td>0.318567</td>\n    </tr>\n    <tr>\n      <th>2043</th>\n      <td>0.278746</td>\n    </tr>\n    <tr>\n      <th>2044</th>\n      <td>0.238925</td>\n    </tr>\n    <tr>\n      <th>2045</th>\n      <td>0.199104</td>\n    </tr>\n    <tr>\n      <th>2046</th>\n      <td>0.159284</td>\n    </tr>\n    <tr>\n      <th>2047</th>\n      <td>0.119463</td>\n    </tr>\n    <tr>\n      <th>2048</th>\n      <td>0.079642</td>\n    </tr>\n    <tr>\n      <th>2049</th>\n      <td>0.039821</td>\n    </tr>\n    <tr>\n      <th>2050</th>\n      <td>0.0</td>\n    </tr>\n  </tbody>\n</table>\n</div>"
     },
     "execution_count": 963,
     "metadata": {},
     "output_type": "execute_result"
    }
   ],
   "source": [
    "for year in years:\n",
    "    EF_y_n = float(GHG.loc['GHG intensity of electricity generation [g CO2eq/kWh] - Norway'][year])\n",
    "\n",
    "    result.NH3_Export_terminal_emissions.loc[year] = ET_emissions()\n",
    "\n",
    "result"
   ],
   "metadata": {
    "collapsed": false,
    "pycharm": {
     "name": "#%%\n"
    }
   }
  },
  {
   "cell_type": "code",
   "execution_count": 964,
   "outputs": [],
   "source": [
    "writer = pd.ExcelWriter(path, engine='openpyxl', mode='a', if_sheet_exists='overlay')\n",
    "book = load_workbook(path)\n",
    "writer.book = book\n",
    "writer.sheets = dict((ws.title, ws) for ws in book.worksheets)\n",
    "\n",
    "ws = book['Reference Results']\n",
    "\n",
    "result.to_excel(writer, sheet_name='Reference Results', index=False, startcol=ws.max_column)\n",
    "book.save(path)\n",
    "book.close()"
   ],
   "metadata": {
    "collapsed": false,
    "pycharm": {
     "name": "#%%\n"
    }
   }
  },
  {
   "cell_type": "code",
   "execution_count": 965,
   "outputs": [],
   "source": [
    "path_csv = r'/Users/jakob/PycharmProjects/H2_pathways_repo/data/processed'\n",
    "output_file = os.path.join(path_csv, 'NH3_Export_terminal_emissions.csv')\n",
    "result.to_csv(output_file, sep=';')"
   ],
   "metadata": {
    "collapsed": false,
    "pycharm": {
     "name": "#%%\n"
    }
   }
  },
  {
   "cell_type": "markdown",
   "source": [
    "## Shipping"
   ],
   "metadata": {
    "collapsed": false,
    "pycharm": {
     "name": "#%% md\n"
    }
   }
  },
  {
   "cell_type": "code",
   "execution_count": 966,
   "outputs": [],
   "source": [
    "# Emissions of transported hydrogen carrier in [g CO2/kg_h2] in year y\n",
    "NH3_Conversion_emissions = pd.read_csv(\n",
    "    \"/Users/jakob/PycharmProjects/H2_pathways_repo/data/processed/NH3_Conversion_emissions.csv\", delimiter=';',\n",
    "    decimal=',', index_col=0)\n",
    "NH3_Export_terminal_emissions = pd.read_csv(\n",
    "    \"/Users/jakob/PycharmProjects/H2_pathways_repo/data/processed/NH3_Export_terminal_emissions.csv\", delimiter=';',\n",
    "    decimal=',', index_col=0)"
   ],
   "metadata": {
    "collapsed": false,
    "pycharm": {
     "name": "#%%\n"
    }
   }
  },
  {
   "cell_type": "code",
   "execution_count": 967,
   "outputs": [
    {
     "data": {
      "text/plain": "0.0001615786578657866"
     },
     "execution_count": 967,
     "metadata": {},
     "output_type": "execute_result"
    }
   ],
   "source": [
    "# Boil-off when shipping in [%/day] to [%/hour]\n",
    "bog_ship = float(tea_lnh3.loc['Shipping - Boil off opt. [%/day]']['NH3']) / 24 * (NH3_lhv/H2_lhv)\n",
    "bog_ship"
   ],
   "metadata": {
    "collapsed": false,
    "pycharm": {
     "name": "#%%\n"
    }
   }
  },
  {
   "cell_type": "code",
   "execution_count": 968,
   "outputs": [
    {
     "data": {
      "text/plain": "3.933746996123837e-07"
     },
     "execution_count": 968,
     "metadata": {},
     "output_type": "execute_result"
    }
   ],
   "source": [
    "# Fuel consumption of a ship in [kg_h2/t/km]\n",
    "f_ship = float(tea_lnh3.loc['Shipping - Fuel use [kg NH3/t/km]']['NH3']) / 1000 * (NH3_lhv/H2_lhv)\n",
    "f_ship"
   ],
   "metadata": {
    "collapsed": false,
    "pycharm": {
     "name": "#%%\n"
    }
   }
  },
  {
   "cell_type": "markdown",
   "source": [
    "d_sea and v_ship are equivalent to LH2 transport"
   ],
   "metadata": {
    "collapsed": false,
    "pycharm": {
     "name": "#%% md\n"
    }
   }
  },
  {
   "cell_type": "markdown",
   "source": [
    "Calc. emission factor for cargo/fuel"
   ],
   "metadata": {
    "collapsed": false,
    "pycharm": {
     "name": "#%% md\n"
    }
   }
  },
  {
   "cell_type": "code",
   "execution_count": 969,
   "outputs": [
    {
     "data": {
      "text/plain": "      NH3_cargo_emissions\n2025          4845.367168\n2026          4735.888481\n2027          4626.409794\n2028          4516.931108\n2029          4407.452421\n2030          4297.973734\n2031          4186.851828\n2032          4075.902892\n2033          3965.126926\n2034          3854.523931\n2035          3744.093907\n2036          3633.836853\n2037          3523.752769\n2038          3413.841656\n2039          3304.103514\n2040          3194.538342\n2041          3085.924508\n2042          2977.310674\n2043          2868.696839\n2044          2760.083005\n2045          2651.469171\n2046          2542.855337\n2047          2434.241503\n2048          2325.627668\n2049          2217.013834\n2050          2108.400000",
      "text/html": "<div>\n<style scoped>\n    .dataframe tbody tr th:only-of-type {\n        vertical-align: middle;\n    }\n\n    .dataframe tbody tr th {\n        vertical-align: top;\n    }\n\n    .dataframe thead th {\n        text-align: right;\n    }\n</style>\n<table border=\"1\" class=\"dataframe\">\n  <thead>\n    <tr style=\"text-align: right;\">\n      <th></th>\n      <th>NH3_cargo_emissions</th>\n    </tr>\n  </thead>\n  <tbody>\n    <tr>\n      <th>2025</th>\n      <td>4845.367168</td>\n    </tr>\n    <tr>\n      <th>2026</th>\n      <td>4735.888481</td>\n    </tr>\n    <tr>\n      <th>2027</th>\n      <td>4626.409794</td>\n    </tr>\n    <tr>\n      <th>2028</th>\n      <td>4516.931108</td>\n    </tr>\n    <tr>\n      <th>2029</th>\n      <td>4407.452421</td>\n    </tr>\n    <tr>\n      <th>2030</th>\n      <td>4297.973734</td>\n    </tr>\n    <tr>\n      <th>2031</th>\n      <td>4186.851828</td>\n    </tr>\n    <tr>\n      <th>2032</th>\n      <td>4075.902892</td>\n    </tr>\n    <tr>\n      <th>2033</th>\n      <td>3965.126926</td>\n    </tr>\n    <tr>\n      <th>2034</th>\n      <td>3854.523931</td>\n    </tr>\n    <tr>\n      <th>2035</th>\n      <td>3744.093907</td>\n    </tr>\n    <tr>\n      <th>2036</th>\n      <td>3633.836853</td>\n    </tr>\n    <tr>\n      <th>2037</th>\n      <td>3523.752769</td>\n    </tr>\n    <tr>\n      <th>2038</th>\n      <td>3413.841656</td>\n    </tr>\n    <tr>\n      <th>2039</th>\n      <td>3304.103514</td>\n    </tr>\n    <tr>\n      <th>2040</th>\n      <td>3194.538342</td>\n    </tr>\n    <tr>\n      <th>2041</th>\n      <td>3085.924508</td>\n    </tr>\n    <tr>\n      <th>2042</th>\n      <td>2977.310674</td>\n    </tr>\n    <tr>\n      <th>2043</th>\n      <td>2868.696839</td>\n    </tr>\n    <tr>\n      <th>2044</th>\n      <td>2760.083005</td>\n    </tr>\n    <tr>\n      <th>2045</th>\n      <td>2651.469171</td>\n    </tr>\n    <tr>\n      <th>2046</th>\n      <td>2542.855337</td>\n    </tr>\n    <tr>\n      <th>2047</th>\n      <td>2434.241503</td>\n    </tr>\n    <tr>\n      <th>2048</th>\n      <td>2325.627668</td>\n    </tr>\n    <tr>\n      <th>2049</th>\n      <td>2217.013834</td>\n    </tr>\n    <tr>\n      <th>2050</th>\n      <td>2108.400000</td>\n    </tr>\n  </tbody>\n</table>\n</div>"
     },
     "execution_count": 969,
     "metadata": {},
     "output_type": "execute_result"
    }
   ],
   "source": [
    "# Emissions of transported hydrogen carrier in [g CO2eq/kg_H2] in year y\n",
    "H2_emissions = (GHG.loc['Blue hydrogen emissions [kg CO2/kg H2] - Norway', 2025:2050]).apply(pd.to_numeric) * 1000\n",
    "Con_emissions = (NH3_Conversion_emissions.loc[::]['NH3_Conversion_emissions']).apply(pd.to_numeric)\n",
    "ET_emissions = (NH3_Export_terminal_emissions.loc[::]['NH3_Export_terminal_emissions']).apply(pd.to_numeric)\n",
    "# Emission of cargo in [g CO2eq/kg_H2]\n",
    "NH3_cargo_emissions = (H2_emissions + Con_emissions + ET_emissions).to_frame('NH3_cargo_emissions')\n",
    "NH3_cargo_emissions"
   ],
   "metadata": {
    "collapsed": false,
    "pycharm": {
     "name": "#%%\n"
    }
   }
  },
  {
   "cell_type": "code",
   "execution_count": 970,
   "outputs": [],
   "source": [
    "path_csv = r'/Users/jakob/PycharmProjects/H2_pathways_repo/data/processed'\n",
    "output_file = os.path.join(path_csv, 'NH3_cargo_emissions.csv')\n",
    "result.to_csv(output_file, sep=';')"
   ],
   "metadata": {
    "collapsed": false,
    "pycharm": {
     "name": "#%%\n"
    }
   }
  },
  {
   "cell_type": "code",
   "execution_count": 971,
   "outputs": [],
   "source": [
    "#d_sea = 10000"
   ],
   "metadata": {
    "collapsed": false,
    "pycharm": {
     "name": "#%%\n"
    }
   }
  },
  {
   "cell_type": "code",
   "execution_count": 972,
   "outputs": [],
   "source": [
    "# Calc.NH3 shipping emissions\n",
    "def calculate_ship_emissions():\n",
    "    result = 1 / (1 - (bog_ship * d_sea / v_ship) - (f_ship * d_sea))\\\n",
    "             + (bog_ship * d_sea / v_ship + f_ship * d_sea) * NH3_cargo_ghg\n",
    "    return result"
   ],
   "metadata": {
    "collapsed": false,
    "pycharm": {
     "name": "#%%\n"
    }
   }
  },
  {
   "cell_type": "code",
   "execution_count": 973,
   "outputs": [
    {
     "data": {
      "text/plain": "      NH3_Shipping_emissions\nYears                       \n2025               18.283866\n2026               17.879039\n2027               17.474815\n2028               17.071192\n2029               16.668172\n2030               16.265754\n2031               15.843704\n2032               15.423349\n2033               15.004685\n2034               14.587711\n2035               14.172424\n2036               13.758822\n2037               13.346903\n2038               12.936663\n2039                 12.5281\n2040               12.121212\n2041               11.714662\n2042               11.310082\n2043               10.907468\n2044               10.506816\n2045               10.108123\n2046                9.711386\n2047                9.316599\n2048                8.923761\n2049                8.532866\n2050                8.143912",
      "text/html": "<div>\n<style scoped>\n    .dataframe tbody tr th:only-of-type {\n        vertical-align: middle;\n    }\n\n    .dataframe tbody tr th {\n        vertical-align: top;\n    }\n\n    .dataframe thead th {\n        text-align: right;\n    }\n</style>\n<table border=\"1\" class=\"dataframe\">\n  <thead>\n    <tr style=\"text-align: right;\">\n      <th></th>\n      <th>NH3_Shipping_emissions</th>\n    </tr>\n    <tr>\n      <th>Years</th>\n      <th></th>\n    </tr>\n  </thead>\n  <tbody>\n    <tr>\n      <th>2025</th>\n      <td>18.283866</td>\n    </tr>\n    <tr>\n      <th>2026</th>\n      <td>17.879039</td>\n    </tr>\n    <tr>\n      <th>2027</th>\n      <td>17.474815</td>\n    </tr>\n    <tr>\n      <th>2028</th>\n      <td>17.071192</td>\n    </tr>\n    <tr>\n      <th>2029</th>\n      <td>16.668172</td>\n    </tr>\n    <tr>\n      <th>2030</th>\n      <td>16.265754</td>\n    </tr>\n    <tr>\n      <th>2031</th>\n      <td>15.843704</td>\n    </tr>\n    <tr>\n      <th>2032</th>\n      <td>15.423349</td>\n    </tr>\n    <tr>\n      <th>2033</th>\n      <td>15.004685</td>\n    </tr>\n    <tr>\n      <th>2034</th>\n      <td>14.587711</td>\n    </tr>\n    <tr>\n      <th>2035</th>\n      <td>14.172424</td>\n    </tr>\n    <tr>\n      <th>2036</th>\n      <td>13.758822</td>\n    </tr>\n    <tr>\n      <th>2037</th>\n      <td>13.346903</td>\n    </tr>\n    <tr>\n      <th>2038</th>\n      <td>12.936663</td>\n    </tr>\n    <tr>\n      <th>2039</th>\n      <td>12.5281</td>\n    </tr>\n    <tr>\n      <th>2040</th>\n      <td>12.121212</td>\n    </tr>\n    <tr>\n      <th>2041</th>\n      <td>11.714662</td>\n    </tr>\n    <tr>\n      <th>2042</th>\n      <td>11.310082</td>\n    </tr>\n    <tr>\n      <th>2043</th>\n      <td>10.907468</td>\n    </tr>\n    <tr>\n      <th>2044</th>\n      <td>10.506816</td>\n    </tr>\n    <tr>\n      <th>2045</th>\n      <td>10.108123</td>\n    </tr>\n    <tr>\n      <th>2046</th>\n      <td>9.711386</td>\n    </tr>\n    <tr>\n      <th>2047</th>\n      <td>9.316599</td>\n    </tr>\n    <tr>\n      <th>2048</th>\n      <td>8.923761</td>\n    </tr>\n    <tr>\n      <th>2049</th>\n      <td>8.532866</td>\n    </tr>\n    <tr>\n      <th>2050</th>\n      <td>8.143912</td>\n    </tr>\n  </tbody>\n</table>\n</div>"
     },
     "execution_count": 973,
     "metadata": {},
     "output_type": "execute_result"
    }
   ],
   "source": [
    "# Calculation of shipping emissions [g CO2eq/kg_h2] from 2025 to 2050.\n",
    "years = np.arange(2025, 2051)\n",
    "result = pd.DataFrame(index=years, columns=['NH3_Shipping_emissions'])\n",
    "result.index.name = 'Years'\n",
    "\n",
    "for year in years:\n",
    "    NH3_cargo_ghg = float(LH2_cargo_emissions.loc[year]['LH2_cargo_emissions'])\n",
    "    f_ship = float(tea_lnh3.loc['Shipping - Fuel use [kg NH3/t/km]'][year])/1000 * (NH3_lhv/H2_lhv)\n",
    "    # calculate emissions of specific year\n",
    "    result.NH3_Shipping_emissions.loc[year] = calculate_ship_emissions()\n",
    "\n",
    "result"
   ],
   "metadata": {
    "collapsed": false,
    "pycharm": {
     "name": "#%%\n"
    }
   }
  },
  {
   "cell_type": "code",
   "execution_count": 974,
   "outputs": [],
   "source": [
    "# export result to excel\n",
    "writer = pd.ExcelWriter(path, engine='openpyxl', mode='a', if_sheet_exists='overlay')\n",
    "book = load_workbook(path)\n",
    "writer.book = book\n",
    "writer.sheets = dict((ws.title, ws) for ws in book.worksheets)\n",
    "\n",
    "ws = book['Reference Results']\n",
    "\n",
    "result.to_excel(writer, sheet_name='Reference Results', index=False, startcol=ws.max_column)\n",
    "book.save(path)\n",
    "book.close()"
   ],
   "metadata": {
    "collapsed": false,
    "pycharm": {
     "name": "#%%\n"
    }
   }
  },
  {
   "cell_type": "code",
   "execution_count": 975,
   "outputs": [],
   "source": [
    "path_csv = r'/Users/jakob/PycharmProjects/H2_pathways_repo/data/processed'\n",
    "output_file = os.path.join(path_csv, 'NH3_Shipping_emissions.csv')\n",
    "result.to_csv(output_file, sep=';')"
   ],
   "metadata": {
    "collapsed": false,
    "pycharm": {
     "name": "#%%\n"
    }
   }
  },
  {
   "cell_type": "markdown",
   "source": [
    "## Import terminal"
   ],
   "metadata": {
    "collapsed": false,
    "pycharm": {
     "name": "#%% md\n"
    }
   }
  },
  {
   "cell_type": "code",
   "execution_count": 976,
   "outputs": [
    {
     "data": {
      "text/plain": "0.02"
     },
     "execution_count": 976,
     "metadata": {},
     "output_type": "execute_result"
    }
   ],
   "source": [
    "# Electricity consumption for the import terminal [kWh/kg_h2]\n",
    "el_it = float(tea_lnh3.loc['Import Terminal - Electricity use [kWh/kg H2]']['NH3'])\n",
    "el_it"
   ],
   "metadata": {
    "collapsed": false,
    "pycharm": {
     "name": "#%%\n"
    }
   }
  },
  {
   "cell_type": "code",
   "execution_count": 977,
   "outputs": [
    {
     "data": {
      "text/plain": "0.0378"
     },
     "execution_count": 977,
     "metadata": {},
     "output_type": "execute_result"
    }
   ],
   "source": [
    "# Electricity consumption to reliquefy BOG [kWh/kg_h2]\n",
    "el_reliq = float(tea_lnh3.loc['Import Terminal - Energy use to reliquefy opt. [kWh/kg NH3/day]']['NH3'])\n",
    "el_reliq"
   ],
   "metadata": {
    "collapsed": false,
    "pycharm": {
     "name": "#%%\n"
    }
   }
  },
  {
   "cell_type": "code",
   "execution_count": 978,
   "outputs": [
    {
     "data": {
      "text/plain": "7.0"
     },
     "execution_count": 978,
     "metadata": {},
     "output_type": "execute_result"
    }
   ],
   "source": [
    "\n",
    "# Average storage time in the import terminal tanks in days\n",
    "t_it = float(tea_lnh3.loc['Import Terminal - Storage length per load [days]']['NH3'])\n",
    "t_it"
   ],
   "metadata": {
    "collapsed": false,
    "pycharm": {
     "name": "#%%\n"
    }
   }
  },
  {
   "cell_type": "code",
   "execution_count": 979,
   "outputs": [],
   "source": [
    "def IT_emissions():\n",
    "    result = (el_it + el_reliq * (NH3_lhv/H2_lhv) * t_it) * EF_y_n\n",
    "    return result"
   ],
   "metadata": {
    "collapsed": false,
    "pycharm": {
     "name": "#%%\n"
    }
   }
  },
  {
   "cell_type": "code",
   "execution_count": 980,
   "outputs": [
    {
     "data": {
      "text/plain": "      NH3_Import_terminal_emissions\nYears                              \n2025                      19.824237\n2026                      18.645418\n2027                      17.466599\n2028                      16.287779\n2029                       15.10896\n2030                      13.930141\n2031                      13.014732\n2032                      12.099323\n2033                      11.183914\n2034                      10.268504\n2035                       9.353095\n2036                       8.437686\n2037                       7.522276\n2038                       6.606867\n2039                       5.691458\n2040                       4.776048\n2041                       3.820839\n2042                       2.865629\n2043                       1.910419\n2044                        0.95521\n2045                            0.0\n2046                            0.0\n2047                            0.0\n2048                            0.0\n2049                            0.0\n2050                            0.0",
      "text/html": "<div>\n<style scoped>\n    .dataframe tbody tr th:only-of-type {\n        vertical-align: middle;\n    }\n\n    .dataframe tbody tr th {\n        vertical-align: top;\n    }\n\n    .dataframe thead th {\n        text-align: right;\n    }\n</style>\n<table border=\"1\" class=\"dataframe\">\n  <thead>\n    <tr style=\"text-align: right;\">\n      <th></th>\n      <th>NH3_Import_terminal_emissions</th>\n    </tr>\n    <tr>\n      <th>Years</th>\n      <th></th>\n    </tr>\n  </thead>\n  <tbody>\n    <tr>\n      <th>2025</th>\n      <td>19.824237</td>\n    </tr>\n    <tr>\n      <th>2026</th>\n      <td>18.645418</td>\n    </tr>\n    <tr>\n      <th>2027</th>\n      <td>17.466599</td>\n    </tr>\n    <tr>\n      <th>2028</th>\n      <td>16.287779</td>\n    </tr>\n    <tr>\n      <th>2029</th>\n      <td>15.10896</td>\n    </tr>\n    <tr>\n      <th>2030</th>\n      <td>13.930141</td>\n    </tr>\n    <tr>\n      <th>2031</th>\n      <td>13.014732</td>\n    </tr>\n    <tr>\n      <th>2032</th>\n      <td>12.099323</td>\n    </tr>\n    <tr>\n      <th>2033</th>\n      <td>11.183914</td>\n    </tr>\n    <tr>\n      <th>2034</th>\n      <td>10.268504</td>\n    </tr>\n    <tr>\n      <th>2035</th>\n      <td>9.353095</td>\n    </tr>\n    <tr>\n      <th>2036</th>\n      <td>8.437686</td>\n    </tr>\n    <tr>\n      <th>2037</th>\n      <td>7.522276</td>\n    </tr>\n    <tr>\n      <th>2038</th>\n      <td>6.606867</td>\n    </tr>\n    <tr>\n      <th>2039</th>\n      <td>5.691458</td>\n    </tr>\n    <tr>\n      <th>2040</th>\n      <td>4.776048</td>\n    </tr>\n    <tr>\n      <th>2041</th>\n      <td>3.820839</td>\n    </tr>\n    <tr>\n      <th>2042</th>\n      <td>2.865629</td>\n    </tr>\n    <tr>\n      <th>2043</th>\n      <td>1.910419</td>\n    </tr>\n    <tr>\n      <th>2044</th>\n      <td>0.95521</td>\n    </tr>\n    <tr>\n      <th>2045</th>\n      <td>0.0</td>\n    </tr>\n    <tr>\n      <th>2046</th>\n      <td>0.0</td>\n    </tr>\n    <tr>\n      <th>2047</th>\n      <td>0.0</td>\n    </tr>\n    <tr>\n      <th>2048</th>\n      <td>0.0</td>\n    </tr>\n    <tr>\n      <th>2049</th>\n      <td>0.0</td>\n    </tr>\n    <tr>\n      <th>2050</th>\n      <td>0.0</td>\n    </tr>\n  </tbody>\n</table>\n</div>"
     },
     "execution_count": 980,
     "metadata": {},
     "output_type": "execute_result"
    }
   ],
   "source": [
    "# Calc. import terimal emissions over time [g CO2eq/kg H2]\n",
    "years = np.arange(2025, 2051)\n",
    "result = pd.DataFrame(index=years, columns=['NH3_Import_terminal_emissions'])\n",
    "result.index.name = 'Years'\n",
    "\n",
    "for year in years:\n",
    "    EF_y_n = float(GHG.loc['GHG intensity of electricity generation [g CO2eq/kWh] - Germany'][year])\n",
    "\n",
    "    result.NH3_Import_terminal_emissions.loc[year] = IT_emissions()\n",
    "\n",
    "result"
   ],
   "metadata": {
    "collapsed": false,
    "pycharm": {
     "name": "#%%\n"
    }
   }
  },
  {
   "cell_type": "code",
   "execution_count": 981,
   "outputs": [],
   "source": [
    "# export result to excel\n",
    "writer = pd.ExcelWriter(path, engine='openpyxl', mode='a', if_sheet_exists='overlay')\n",
    "book = load_workbook(path)\n",
    "writer.book = book\n",
    "writer.sheets = dict((ws.title, ws) for ws in book.worksheets)\n",
    "\n",
    "ws = book['Reference Results']\n",
    "\n",
    "result.to_excel(writer, sheet_name='Reference Results', index=False, startcol=ws.max_column)\n",
    "book.save(path)\n",
    "book.close()"
   ],
   "metadata": {
    "collapsed": false,
    "pycharm": {
     "name": "#%%\n"
    }
   }
  },
  {
   "cell_type": "code",
   "execution_count": 982,
   "outputs": [],
   "source": [
    "path_csv = r'/Users/jakob/PycharmProjects/H2_pathways_repo/data/processed'\n",
    "output_file = os.path.join(path_csv, 'NH3_Import_terminal_emissions.csv')\n",
    "result.to_csv(output_file, sep=';')"
   ],
   "metadata": {
    "collapsed": false,
    "pycharm": {
     "name": "#%%\n"
    }
   }
  },
  {
   "cell_type": "markdown",
   "source": [
    "## Reconversion"
   ],
   "metadata": {
    "collapsed": false,
    "pycharm": {
     "name": "#%% md\n"
    }
   }
  },
  {
   "cell_type": "code",
   "execution_count": 1022,
   "outputs": [],
   "source": [
    "def calculate_recon_emissions():\n",
    "    result = (heat_recon_y + el_recon_y) * EF_y_n\n",
    "    return result"
   ],
   "metadata": {
    "collapsed": false,
    "pycharm": {
     "name": "#%%\n"
    }
   }
  },
  {
   "cell_type": "code",
   "execution_count": 1023,
   "outputs": [
    {
     "data": {
      "text/plain": "      NH3_Reconversion_emissions\nYears                           \n2025                 4911.927778\n2026                 4502.251111\n2027                    4107.444\n2028                 3727.506444\n2029                 3362.438444\n2030                     3012.24\n2031                  2732.20926\n2032                  2463.72544\n2033                  2206.78854\n2034                  1961.39856\n2035                   1727.5555\n2036                  1505.25936\n2037                  1294.51014\n2038                  1095.30784\n2039                   907.65246\n2040                     731.544\n2041                   562.70208\n2042                   405.12672\n2043                   258.81792\n2044                   123.77568\n2045                         0.0\n2046                         0.0\n2047                         0.0\n2048                         0.0\n2049                         0.0\n2050                         0.0",
      "text/html": "<div>\n<style scoped>\n    .dataframe tbody tr th:only-of-type {\n        vertical-align: middle;\n    }\n\n    .dataframe tbody tr th {\n        vertical-align: top;\n    }\n\n    .dataframe thead th {\n        text-align: right;\n    }\n</style>\n<table border=\"1\" class=\"dataframe\">\n  <thead>\n    <tr style=\"text-align: right;\">\n      <th></th>\n      <th>NH3_Reconversion_emissions</th>\n    </tr>\n    <tr>\n      <th>Years</th>\n      <th></th>\n    </tr>\n  </thead>\n  <tbody>\n    <tr>\n      <th>2025</th>\n      <td>4911.927778</td>\n    </tr>\n    <tr>\n      <th>2026</th>\n      <td>4502.251111</td>\n    </tr>\n    <tr>\n      <th>2027</th>\n      <td>4107.444</td>\n    </tr>\n    <tr>\n      <th>2028</th>\n      <td>3727.506444</td>\n    </tr>\n    <tr>\n      <th>2029</th>\n      <td>3362.438444</td>\n    </tr>\n    <tr>\n      <th>2030</th>\n      <td>3012.24</td>\n    </tr>\n    <tr>\n      <th>2031</th>\n      <td>2732.20926</td>\n    </tr>\n    <tr>\n      <th>2032</th>\n      <td>2463.72544</td>\n    </tr>\n    <tr>\n      <th>2033</th>\n      <td>2206.78854</td>\n    </tr>\n    <tr>\n      <th>2034</th>\n      <td>1961.39856</td>\n    </tr>\n    <tr>\n      <th>2035</th>\n      <td>1727.5555</td>\n    </tr>\n    <tr>\n      <th>2036</th>\n      <td>1505.25936</td>\n    </tr>\n    <tr>\n      <th>2037</th>\n      <td>1294.51014</td>\n    </tr>\n    <tr>\n      <th>2038</th>\n      <td>1095.30784</td>\n    </tr>\n    <tr>\n      <th>2039</th>\n      <td>907.65246</td>\n    </tr>\n    <tr>\n      <th>2040</th>\n      <td>731.544</td>\n    </tr>\n    <tr>\n      <th>2041</th>\n      <td>562.70208</td>\n    </tr>\n    <tr>\n      <th>2042</th>\n      <td>405.12672</td>\n    </tr>\n    <tr>\n      <th>2043</th>\n      <td>258.81792</td>\n    </tr>\n    <tr>\n      <th>2044</th>\n      <td>123.77568</td>\n    </tr>\n    <tr>\n      <th>2045</th>\n      <td>0.0</td>\n    </tr>\n    <tr>\n      <th>2046</th>\n      <td>0.0</td>\n    </tr>\n    <tr>\n      <th>2047</th>\n      <td>0.0</td>\n    </tr>\n    <tr>\n      <th>2048</th>\n      <td>0.0</td>\n    </tr>\n    <tr>\n      <th>2049</th>\n      <td>0.0</td>\n    </tr>\n    <tr>\n      <th>2050</th>\n      <td>0.0</td>\n    </tr>\n  </tbody>\n</table>\n</div>"
     },
     "execution_count": 1023,
     "metadata": {},
     "output_type": "execute_result"
    }
   ],
   "source": [
    "years = np.arange(2025, 2051)\n",
    "result = pd.DataFrame(index=years, columns=['NH3_Reconversion_emissions'])\n",
    "result.index.name = 'Years'\n",
    "\n",
    "for year in years:\n",
    "    el_recon_y = float(tea_lnh3.loc['Reconversion - Electricity consumption opt. [kWh/kg H2]'][year])\n",
    "    heat_recon_y = float(tea_lnh3.loc['Reconversion - Heat consumption opt. [kWh/kg H2]'][year])\n",
    "    EF_y_n = float(GHG.loc['GHG intensity of electricity generation [g CO2eq/kWh] - Germany'][year])\n",
    "\n",
    "     # calculate emissions of specific year\n",
    "    result.NH3_Reconversion_emissions.loc[year] = calculate_recon_emissions()\n",
    "result"
   ],
   "metadata": {
    "collapsed": false,
    "pycharm": {
     "name": "#%%\n"
    }
   }
  },
  {
   "cell_type": "code",
   "execution_count": 1024,
   "outputs": [],
   "source": [
    "# export result to excel\n",
    "writer = pd.ExcelWriter(path, engine='openpyxl', mode='a', if_sheet_exists='overlay')\n",
    "book = load_workbook(path)\n",
    "writer.book = book\n",
    "writer.sheets = dict((ws.title, ws) for ws in book.worksheets)\n",
    "\n",
    "ws = book['Reference Results']\n",
    "\n",
    "result.to_excel(writer, sheet_name='Reference Results', index=False, startcol=ws.max_column)\n",
    "book.save(path)\n",
    "book.close()"
   ],
   "metadata": {
    "collapsed": false,
    "pycharm": {
     "name": "#%%\n"
    }
   }
  },
  {
   "cell_type": "code",
   "execution_count": 1025,
   "outputs": [],
   "source": [
    "path_csv = r'/Users/jakob/PycharmProjects/H2_pathways_repo/data/processed'\n",
    "output_file = os.path.join(path_csv, 'NH3_Reconversion_emissions.csv')\n",
    "result.to_csv(output_file, sep=';')"
   ],
   "metadata": {
    "collapsed": false,
    "pycharm": {
     "name": "#%%\n"
    }
   }
  },
  {
   "cell_type": "markdown",
   "source": [
    "## Total NH3 transport emissions"
   ],
   "metadata": {
    "collapsed": false,
    "pycharm": {
     "name": "#%% md\n"
    }
   }
  },
  {
   "cell_type": "code",
   "execution_count": 1026,
   "outputs": [],
   "source": [
    "con_em = pd.read_csv('/Users/jakob/PycharmProjects/H2_pathways_repo/data/processed/NH3_Conversion_emissions.csv',\n",
    "                     delimiter=';', decimal=',', index_col=0)\n",
    "et_em = pd.read_csv('/Users/jakob/PycharmProjects/H2_pathways_repo/data/processed/NH3_Export_terminal_emissions.csv',\n",
    "                    delimiter=';', decimal=',', index_col=0)\n",
    "ship_em = pd.read_csv('/Users/jakob/PycharmProjects/H2_pathways_repo/data/processed/NH3_Shipping_emissions.csv',\n",
    "                      delimiter=';', decimal=',', index_col=0)\n",
    "it_em = pd.read_csv('/Users/jakob/PycharmProjects/H2_pathways_repo/data/processed/NH3_Import_terminal_emissions.csv',\n",
    "                    delimiter=';', decimal=',', index_col=0)\n",
    "recon_em = pd.read_csv('/Users/jakob/PycharmProjects/H2_pathways_repo/data/processed/NH3_Reconversion_emissions.csv',\n",
    "                       delimiter=';', decimal=',', index_col=0)"
   ],
   "metadata": {
    "collapsed": false,
    "pycharm": {
     "name": "#%%\n"
    }
   }
  },
  {
   "cell_type": "code",
   "execution_count": 1027,
   "outputs": [],
   "source": [
    "years = np.arange(2025, 2051)\n",
    "result = pd.DataFrame(index=years, columns=['NH3_transport_emissions'])\n",
    "result.index.name = 'Years'"
   ],
   "metadata": {
    "collapsed": false,
    "pycharm": {
     "name": "#%%\n"
    }
   }
  },
  {
   "cell_type": "code",
   "execution_count": 1028,
   "outputs": [],
   "source": [
    "# [g CO2eq/kg H2]\n",
    "def calculate_NH3_transport_emissions():\n",
    "    result = CE + EE + SE + IE + RE\n",
    "\n",
    "    return result"
   ],
   "metadata": {
    "collapsed": false,
    "pycharm": {
     "name": "#%%\n"
    }
   }
  },
  {
   "cell_type": "code",
   "execution_count": 1029,
   "outputs": [
    {
     "data": {
      "text/plain": "      NH3_transport_emissions\nYears                        \n2025              5044.003048\n2026              4628.984049\n2027              4228.835208\n2028              3843.556524\n2029              3473.147998\n2030               3117.60963\n2031              2830.839524\n2032              2555.791003\n2033              2292.464065\n2034              2040.858707\n2035              1800.974926\n2036              1572.812721\n2037              1356.372088\n2038              1151.653026\n2039               958.655532\n2040               777.379603\n2041               604.282089\n2042               442.453105\n2043               291.892647\n2044               152.600711\n2045                24.577294\n2046                21.286723\n2047                17.998102\n2048                14.711429\n2049                  11.4267\n2050                 8.143912",
      "text/html": "<div>\n<style scoped>\n    .dataframe tbody tr th:only-of-type {\n        vertical-align: middle;\n    }\n\n    .dataframe tbody tr th {\n        vertical-align: top;\n    }\n\n    .dataframe thead th {\n        text-align: right;\n    }\n</style>\n<table border=\"1\" class=\"dataframe\">\n  <thead>\n    <tr style=\"text-align: right;\">\n      <th></th>\n      <th>NH3_transport_emissions</th>\n    </tr>\n    <tr>\n      <th>Years</th>\n      <th></th>\n    </tr>\n  </thead>\n  <tbody>\n    <tr>\n      <th>2025</th>\n      <td>5044.003048</td>\n    </tr>\n    <tr>\n      <th>2026</th>\n      <td>4628.984049</td>\n    </tr>\n    <tr>\n      <th>2027</th>\n      <td>4228.835208</td>\n    </tr>\n    <tr>\n      <th>2028</th>\n      <td>3843.556524</td>\n    </tr>\n    <tr>\n      <th>2029</th>\n      <td>3473.147998</td>\n    </tr>\n    <tr>\n      <th>2030</th>\n      <td>3117.60963</td>\n    </tr>\n    <tr>\n      <th>2031</th>\n      <td>2830.839524</td>\n    </tr>\n    <tr>\n      <th>2032</th>\n      <td>2555.791003</td>\n    </tr>\n    <tr>\n      <th>2033</th>\n      <td>2292.464065</td>\n    </tr>\n    <tr>\n      <th>2034</th>\n      <td>2040.858707</td>\n    </tr>\n    <tr>\n      <th>2035</th>\n      <td>1800.974926</td>\n    </tr>\n    <tr>\n      <th>2036</th>\n      <td>1572.812721</td>\n    </tr>\n    <tr>\n      <th>2037</th>\n      <td>1356.372088</td>\n    </tr>\n    <tr>\n      <th>2038</th>\n      <td>1151.653026</td>\n    </tr>\n    <tr>\n      <th>2039</th>\n      <td>958.655532</td>\n    </tr>\n    <tr>\n      <th>2040</th>\n      <td>777.379603</td>\n    </tr>\n    <tr>\n      <th>2041</th>\n      <td>604.282089</td>\n    </tr>\n    <tr>\n      <th>2042</th>\n      <td>442.453105</td>\n    </tr>\n    <tr>\n      <th>2043</th>\n      <td>291.892647</td>\n    </tr>\n    <tr>\n      <th>2044</th>\n      <td>152.600711</td>\n    </tr>\n    <tr>\n      <th>2045</th>\n      <td>24.577294</td>\n    </tr>\n    <tr>\n      <th>2046</th>\n      <td>21.286723</td>\n    </tr>\n    <tr>\n      <th>2047</th>\n      <td>17.998102</td>\n    </tr>\n    <tr>\n      <th>2048</th>\n      <td>14.711429</td>\n    </tr>\n    <tr>\n      <th>2049</th>\n      <td>11.4267</td>\n    </tr>\n    <tr>\n      <th>2050</th>\n      <td>8.143912</td>\n    </tr>\n  </tbody>\n</table>\n</div>"
     },
     "execution_count": 1029,
     "metadata": {},
     "output_type": "execute_result"
    }
   ],
   "source": [
    "for year in years:\n",
    "    # get all emissions\n",
    "    CE = float(con_em.loc[year]['NH3_Conversion_emissions'])\n",
    "    EE = float(et_em.loc[year]['NH3_Export_terminal_emissions'])\n",
    "    SE = float(ship_em.loc[year]['NH3_Shipping_emissions'])\n",
    "    IE = float(it_em.loc[year]['NH3_Import_terminal_emissions'])\n",
    "    RE = float(recon_em.loc[year]['NH3_Reconversion_emissions'])\n",
    "    # calculate costs of specific year\n",
    "    result.NH3_transport_emissions.loc[year] = calculate_NH3_transport_emissions()\n",
    "\n",
    "result"
   ],
   "metadata": {
    "collapsed": false,
    "pycharm": {
     "name": "#%%\n"
    }
   }
  },
  {
   "cell_type": "code",
   "execution_count": 1030,
   "outputs": [],
   "source": [
    "# export result to excel\n",
    "writer = pd.ExcelWriter(path, engine='openpyxl', mode='a', if_sheet_exists='overlay')\n",
    "book = load_workbook(path)\n",
    "writer.book = book\n",
    "writer.sheets = dict((ws.title, ws) for ws in book.worksheets)\n",
    "\n",
    "ws = book['Reference Results']\n",
    "\n",
    "result.to_excel(writer, sheet_name='Reference Results', index=False, startcol=ws.max_column)\n",
    "book.save(path)\n",
    "book.close()"
   ],
   "metadata": {
    "collapsed": false,
    "pycharm": {
     "name": "#%%\n"
    }
   }
  },
  {
   "cell_type": "code",
   "execution_count": 1032,
   "outputs": [
    {
     "data": {
      "text/plain": "<Figure size 720x432 with 1 Axes>",
      "image/png": "[encoded data removed]"
     },
     "metadata": {
      "needs_background": "light"
     },
     "output_type": "display_data"
    }
   ],
   "source": [
    "# Emission breakdown for NH3 seaborne transport\n",
    "fig, ax = plt.subplots(figsize=(10, 6))\n",
    "plt.grid(True, axis='y')\n",
    "ax.set_axisbelow(True)\n",
    "x = np.arange(2025, 2051, step=5)\n",
    "CE = (con_em.loc[::5]['NH3_Conversion_emissions']).apply(pd.to_numeric)\n",
    "EE = (et_em.loc[::5]['NH3_Export_terminal_emissions']).apply(pd.to_numeric)\n",
    "SE = (ship_em.loc[::5]['NH3_Shipping_emissions']).apply(pd.to_numeric)\n",
    "IE = (it_em.loc[::5]['NH3_Import_terminal_emissions']).apply(pd.to_numeric)\n",
    "RE = (recon_em.loc[::5]['NH3_Reconversion_emissions']).apply(pd.to_numeric)\n",
    "width = 2  # the width of the bars: can also be len(x) sequence\n",
    "\n",
    "RE_plt = plt.bar(x, RE, width, label='Reconversion (Ammonia cracking) emissions', bottom=CE + EE + SE + IE)\n",
    "IE_plt = plt.bar(x, IE, width, label='Import terminal emissions', bottom=CE + EE + SE)\n",
    "SE_plt = plt.bar(x, SE, width, label='Shipping emissions', bottom=CE + EE)\n",
    "EE_plt = plt.bar(x, EE, width, label='Export terminal emissions', bottom=CE)\n",
    "CE_plt = plt.bar(x, CE, width, label='Conversion (Ammonia synthesis) emissions')\n",
    "\n",
    "plt.title('Emission breakdown for NH3 shipping [g CO2eq/kg H2]', fontweight='bold')\n",
    "plt.legend(loc='upper right')\n",
    "plt.ylabel('Transport emissions')\n",
    "\n",
    "title = 'NH3_emissions_w_reconversion'\n",
    "plt.savefig(path_plt+title+'.png', transparent = True)\n",
    "\n",
    "plt.show()"
   ],
   "metadata": {
    "collapsed": false,
    "pycharm": {
     "name": "#%%\n"
    }
   }
  },
  {
   "cell_type": "markdown",
   "source": [
    "Largest contributer is reconversion at around 15 kWh/kg H2 are required to crack ammonia and it is assumed that electricity and heat are sourced from grid electricity, which has a high emission factor of around 300 g CO2eq/kWh in 2025 (in Germany)."
   ],
   "metadata": {
    "collapsed": false,
    "pycharm": {
     "name": "#%% md\n"
    }
   }
  },
  {
   "cell_type": "code",
   "execution_count": null,
   "outputs": [],
   "source": [],
   "metadata": {
    "collapsed": false,
    "pycharm": {
     "name": "#%%\n"
    }
   }
  }
 ],
 "metadata": {
  "kernelspec": {
   "display_name": "Python 3",
   "language": "python",
   "name": "python3"
  },
  "language_info": {
   "codemirror_mode": {
    "name": "ipython",
    "version": 2
   },
   "file_extension": ".py",
   "mimetype": "text/x-python",
   "name": "python",
   "nbconvert_exporter": "python",
   "pygments_lexer": "ipython2",
   "version": "2.7.6"
  }
 },
 "nbformat": 4,
 "nbformat_minor": 0
}