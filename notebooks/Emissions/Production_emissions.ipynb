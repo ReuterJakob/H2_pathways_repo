{
 "cells": [
  {
   "cell_type": "code",
   "execution_count": 2,
   "metadata": {
    "collapsed": true,
    "pycharm": {
     "name": "#%%\n"
    }
   },
   "outputs": [],
   "source": [
    "import numpy as np\n",
    "import pandas as pd\n",
    "from matplotlib import pyplot as plt\n"
   ]
  },
  {
   "cell_type": "markdown",
   "source": [
    "## Read inputs"
   ],
   "metadata": {
    "collapsed": false,
    "pycharm": {
     "name": "#%% md\n"
    }
   }
  },
  {
   "cell_type": "code",
   "execution_count": 4,
   "outputs": [
    {
     "data": {
      "text/plain": "                                                            Parameter  \\\nID                                                                      \nGHG intensity of electricity generation [g CO2e...                NaN   \nGHG intensity of electricity generation [g CO2e...                NaN   \nGrey hydrogen emissions [g CO2/MJ H2] - Norway                  96.77   \nGrey hydrogen emissions [kg CO2/kg H2] - Norway               11.6124   \nBlue hydrogen emissions [g CO2/MJ H2] - Norway                    NaN   \n...                                                               ...   \nAssumed load factor for compressor electricity ...               5000   \nAssumed load factor for compressor electricity ...           0.570776   \nCapacity at full load factor [GW_H2_LHV]                           13   \nCapacity at full load factor [kg H2/a]              2033571428.571429   \nPipeline load factor [%]                                         0.75   \n\n                                                                        Ref  \\\nID                                                                            \nGHG intensity of electricity generation [g CO2e...                 EEA 2022   \nGHG intensity of electricity generation [g CO2e...        Our world in Data   \nGrey hydrogen emissions [g CO2/MJ H2] - Norway      Own calculation @ GWP20   \nGrey hydrogen emissions [kg CO2/kg H2] - Norway     Own calculation @ GWP20   \nBlue hydrogen emissions [g CO2/MJ H2] - Norway      Own calculation @ GWP20   \n...                                                                     ...   \nAssumed load factor for compressor electricity ...                 EHB 2020   \nAssumed load factor for compressor electricity ...                 EHB 2020   \nCapacity at full load factor [GW_H2_LHV]                                NaN   \nCapacity at full load factor [kg H2/a]                                  NaN   \nPipeline load factor [%]                                                NaN   \n\n                                                     1990   1991   1992  \\\nID                                                                        \nGHG intensity of electricity generation [g CO2e...  652.0  656.0  628.0   \nGHG intensity of electricity generation [g CO2e...    NaN    NaN    NaN   \nGrey hydrogen emissions [g CO2/MJ H2] - Norway        NaN    NaN    NaN   \nGrey hydrogen emissions [kg CO2/kg H2] - Norway       NaN    NaN    NaN   \nBlue hydrogen emissions [g CO2/MJ H2] - Norway        NaN    NaN    NaN   \n...                                                   ...    ...    ...   \nAssumed load factor for compressor electricity ...    NaN    NaN    NaN   \nAssumed load factor for compressor electricity ...    NaN    NaN    NaN   \nCapacity at full load factor [GW_H2_LHV]              NaN    NaN    NaN   \nCapacity at full load factor [kg H2/a]                NaN    NaN    NaN   \nPipeline load factor [%]                              NaN    NaN    NaN   \n\n                                                     1993   1994   1995  \\\nID                                                                        \nGHG intensity of electricity generation [g CO2e...  631.0  626.0  610.0   \nGHG intensity of electricity generation [g CO2e...    NaN    NaN    NaN   \nGrey hydrogen emissions [g CO2/MJ H2] - Norway        NaN    NaN    NaN   \nGrey hydrogen emissions [kg CO2/kg H2] - Norway       NaN    NaN    NaN   \nBlue hydrogen emissions [g CO2/MJ H2] - Norway        NaN    NaN    NaN   \n...                                                   ...    ...    ...   \nAssumed load factor for compressor electricity ...    NaN    NaN    NaN   \nAssumed load factor for compressor electricity ...    NaN    NaN    NaN   \nCapacity at full load factor [GW_H2_LHV]              NaN    NaN    NaN   \nCapacity at full load factor [kg H2/a]                NaN    NaN    NaN   \nPipeline load factor [%]                              NaN    NaN    NaN   \n\n                                                     1996   1997  ...  \\\nID                                                                ...   \nGHG intensity of electricity generation [g CO2e...  580.0  566.0  ...   \nGHG intensity of electricity generation [g CO2e...    NaN    NaN  ...   \nGrey hydrogen emissions [g CO2/MJ H2] - Norway        NaN    NaN  ...   \nGrey hydrogen emissions [kg CO2/kg H2] - Norway       NaN    NaN  ...   \nBlue hydrogen emissions [g CO2/MJ H2] - Norway        NaN    NaN  ...   \n...                                                   ...    ...  ...   \nAssumed load factor for compressor electricity ...    NaN    NaN  ...   \nAssumed load factor for compressor electricity ...    NaN    NaN  ...   \nCapacity at full load factor [GW_H2_LHV]              NaN    NaN  ...   \nCapacity at full load factor [kg H2/a]                NaN    NaN  ...   \nPipeline load factor [%]                              NaN    NaN  ...   \n\n                                                        2041       2042  \\\nID                                                                        \nGHG intensity of electricity generation [g CO2e...  62.59200  46.944000   \nGHG intensity of electricity generation [g CO2e...   4.18012   3.135090   \nGrey hydrogen emissions [g CO2/MJ H2] - Norway           NaN        NaN   \nGrey hydrogen emissions [kg CO2/kg H2] - Norway          NaN        NaN   \nBlue hydrogen emissions [g CO2/MJ H2] - Norway      34.34300  32.479333   \n...                                                      ...        ...   \nAssumed load factor for compressor electricity ...       NaN        NaN   \nAssumed load factor for compressor electricity ...       NaN        NaN   \nCapacity at full load factor [GW_H2_LHV]                 NaN        NaN   \nCapacity at full load factor [kg H2/a]                   NaN        NaN   \nPipeline load factor [%]                                 NaN        NaN   \n\n                                                         2043      2044  \\\nID                                                                        \nGHG intensity of electricity generation [g CO2e...  31.296000  15.64800   \nGHG intensity of electricity generation [g CO2e...   2.090060   1.04503   \nGrey hydrogen emissions [g CO2/MJ H2] - Norway            NaN       NaN   \nGrey hydrogen emissions [kg CO2/kg H2] - Norway           NaN       NaN   \nBlue hydrogen emissions [g CO2/MJ H2] - Norway      30.615667  28.75200   \n...                                                       ...       ...   \nAssumed load factor for compressor electricity ...        NaN       NaN   \nAssumed load factor for compressor electricity ...        NaN       NaN   \nCapacity at full load factor [GW_H2_LHV]                  NaN       NaN   \nCapacity at full load factor [kg H2/a]                    NaN       NaN   \nPipeline load factor [%]                                  NaN       NaN   \n\n                                                         2045       2046  \\\nID                                                                         \nGHG intensity of electricity generation [g CO2e...   0.000000   0.000000   \nGHG intensity of electricity generation [g CO2e...   0.000000   0.000000   \nGrey hydrogen emissions [g CO2/MJ H2] - Norway            NaN        NaN   \nGrey hydrogen emissions [kg CO2/kg H2] - Norway           NaN        NaN   \nBlue hydrogen emissions [g CO2/MJ H2] - Norway      26.888333  25.024667   \n...                                                       ...        ...   \nAssumed load factor for compressor electricity ...        NaN        NaN   \nAssumed load factor for compressor electricity ...        NaN        NaN   \nCapacity at full load factor [GW_H2_LHV]                  NaN        NaN   \nCapacity at full load factor [kg H2/a]                    NaN        NaN   \nPipeline load factor [%]                                  NaN        NaN   \n\n                                                      2047       2048  \\\nID                                                                      \nGHG intensity of electricity generation [g CO2e...   0.000   0.000000   \nGHG intensity of electricity generation [g CO2e...   0.000   0.000000   \nGrey hydrogen emissions [g CO2/MJ H2] - Norway         NaN        NaN   \nGrey hydrogen emissions [kg CO2/kg H2] - Norway        NaN        NaN   \nBlue hydrogen emissions [g CO2/MJ H2] - Norway      23.161  21.297333   \n...                                                    ...        ...   \nAssumed load factor for compressor electricity ...     NaN        NaN   \nAssumed load factor for compressor electricity ...     NaN        NaN   \nCapacity at full load factor [GW_H2_LHV]               NaN        NaN   \nCapacity at full load factor [kg H2/a]                 NaN        NaN   \nPipeline load factor [%]                               NaN        NaN   \n\n                                                         2049   2050  \nID                                                                    \nGHG intensity of electricity generation [g CO2e...   0.000000   0.00  \nGHG intensity of electricity generation [g CO2e...   0.000000   0.00  \nGrey hydrogen emissions [g CO2/MJ H2] - Norway            NaN    NaN  \nGrey hydrogen emissions [kg CO2/kg H2] - Norway           NaN    NaN  \nBlue hydrogen emissions [g CO2/MJ H2] - Norway      19.433667  17.57  \n...                                                       ...    ...  \nAssumed load factor for compressor electricity ...        NaN    NaN  \nAssumed load factor for compressor electricity ...        NaN    NaN  \nCapacity at full load factor [GW_H2_LHV]                  NaN    NaN  \nCapacity at full load factor [kg H2/a]                    NaN    NaN  \nPipeline load factor [%]                                  NaN    NaN  \n\n[63 rows x 63 columns]",
      "text/html": "<div>\n<style scoped>\n    .dataframe tbody tr th:only-of-type {\n        vertical-align: middle;\n    }\n\n    .dataframe tbody tr th {\n        vertical-align: top;\n    }\n\n    .dataframe thead th {\n        text-align: right;\n    }\n</style>\n<table border=\"1\" class=\"dataframe\">\n  <thead>\n    <tr style=\"text-align: right;\">\n      <th></th>\n      <th>Parameter</th>\n      <th>Ref</th>\n      <th>1990</th>\n      <th>1991</th>\n      <th>1992</th>\n      <th>1993</th>\n      <th>1994</th>\n      <th>1995</th>\n      <th>1996</th>\n      <th>1997</th>\n      <th>...</th>\n      <th>2041</th>\n      <th>2042</th>\n      <th>2043</th>\n      <th>2044</th>\n      <th>2045</th>\n      <th>2046</th>\n      <th>2047</th>\n      <th>2048</th>\n      <th>2049</th>\n      <th>2050</th>\n    </tr>\n    <tr>\n      <th>ID</th>\n      <th></th>\n      <th></th>\n      <th></th>\n      <th></th>\n      <th></th>\n      <th></th>\n      <th></th>\n      <th></th>\n      <th></th>\n      <th></th>\n      <th></th>\n      <th></th>\n      <th></th>\n      <th></th>\n      <th></th>\n      <th></th>\n      <th></th>\n      <th></th>\n      <th></th>\n      <th></th>\n      <th></th>\n    </tr>\n  </thead>\n  <tbody>\n    <tr>\n      <th>GHG intensity of electricity generation [g CO2eq/kWh] - Germany</th>\n      <td>NaN</td>\n      <td>EEA 2022</td>\n      <td>652.0</td>\n      <td>656.0</td>\n      <td>628.0</td>\n      <td>631.0</td>\n      <td>626.0</td>\n      <td>610.0</td>\n      <td>580.0</td>\n      <td>566.0</td>\n      <td>...</td>\n      <td>62.59200</td>\n      <td>46.944000</td>\n      <td>31.296000</td>\n      <td>15.64800</td>\n      <td>0.000000</td>\n      <td>0.000000</td>\n      <td>0.000</td>\n      <td>0.000000</td>\n      <td>0.000000</td>\n      <td>0.00</td>\n    </tr>\n    <tr>\n      <th>GHG intensity of electricity generation [g CO2eq/kWh] - Norway</th>\n      <td>NaN</td>\n      <td>Our world in Data</td>\n      <td>NaN</td>\n      <td>NaN</td>\n      <td>NaN</td>\n      <td>NaN</td>\n      <td>NaN</td>\n      <td>NaN</td>\n      <td>NaN</td>\n      <td>NaN</td>\n      <td>...</td>\n      <td>4.18012</td>\n      <td>3.135090</td>\n      <td>2.090060</td>\n      <td>1.04503</td>\n      <td>0.000000</td>\n      <td>0.000000</td>\n      <td>0.000</td>\n      <td>0.000000</td>\n      <td>0.000000</td>\n      <td>0.00</td>\n    </tr>\n    <tr>\n      <th>Grey hydrogen emissions [g CO2/MJ H2] - Norway</th>\n      <td>96.77</td>\n      <td>Own calculation @ GWP20</td>\n      <td>NaN</td>\n      <td>NaN</td>\n      <td>NaN</td>\n      <td>NaN</td>\n      <td>NaN</td>\n      <td>NaN</td>\n      <td>NaN</td>\n      <td>NaN</td>\n      <td>...</td>\n      <td>NaN</td>\n      <td>NaN</td>\n      <td>NaN</td>\n      <td>NaN</td>\n      <td>NaN</td>\n      <td>NaN</td>\n      <td>NaN</td>\n      <td>NaN</td>\n      <td>NaN</td>\n      <td>NaN</td>\n    </tr>\n    <tr>\n      <th>Grey hydrogen emissions [kg CO2/kg H2] - Norway</th>\n      <td>11.6124</td>\n      <td>Own calculation @ GWP20</td>\n      <td>NaN</td>\n      <td>NaN</td>\n      <td>NaN</td>\n      <td>NaN</td>\n      <td>NaN</td>\n      <td>NaN</td>\n      <td>NaN</td>\n      <td>NaN</td>\n      <td>...</td>\n      <td>NaN</td>\n      <td>NaN</td>\n      <td>NaN</td>\n      <td>NaN</td>\n      <td>NaN</td>\n      <td>NaN</td>\n      <td>NaN</td>\n      <td>NaN</td>\n      <td>NaN</td>\n      <td>NaN</td>\n    </tr>\n    <tr>\n      <th>Blue hydrogen emissions [g CO2/MJ H2] - Norway</th>\n      <td>NaN</td>\n      <td>Own calculation @ GWP20</td>\n      <td>NaN</td>\n      <td>NaN</td>\n      <td>NaN</td>\n      <td>NaN</td>\n      <td>NaN</td>\n      <td>NaN</td>\n      <td>NaN</td>\n      <td>NaN</td>\n      <td>...</td>\n      <td>34.34300</td>\n      <td>32.479333</td>\n      <td>30.615667</td>\n      <td>28.75200</td>\n      <td>26.888333</td>\n      <td>25.024667</td>\n      <td>23.161</td>\n      <td>21.297333</td>\n      <td>19.433667</td>\n      <td>17.57</td>\n    </tr>\n    <tr>\n      <th>...</th>\n      <td>...</td>\n      <td>...</td>\n      <td>...</td>\n      <td>...</td>\n      <td>...</td>\n      <td>...</td>\n      <td>...</td>\n      <td>...</td>\n      <td>...</td>\n      <td>...</td>\n      <td>...</td>\n      <td>...</td>\n      <td>...</td>\n      <td>...</td>\n      <td>...</td>\n      <td>...</td>\n      <td>...</td>\n      <td>...</td>\n      <td>...</td>\n      <td>...</td>\n      <td>...</td>\n    </tr>\n    <tr>\n      <th>Assumed load factor for compressor electricity consumption [h/a]</th>\n      <td>5000</td>\n      <td>EHB 2020</td>\n      <td>NaN</td>\n      <td>NaN</td>\n      <td>NaN</td>\n      <td>NaN</td>\n      <td>NaN</td>\n      <td>NaN</td>\n      <td>NaN</td>\n      <td>NaN</td>\n      <td>...</td>\n      <td>NaN</td>\n      <td>NaN</td>\n      <td>NaN</td>\n      <td>NaN</td>\n      <td>NaN</td>\n      <td>NaN</td>\n      <td>NaN</td>\n      <td>NaN</td>\n      <td>NaN</td>\n      <td>NaN</td>\n    </tr>\n    <tr>\n      <th>Assumed load factor for compressor electricity consumption [%]</th>\n      <td>0.570776</td>\n      <td>EHB 2020</td>\n      <td>NaN</td>\n      <td>NaN</td>\n      <td>NaN</td>\n      <td>NaN</td>\n      <td>NaN</td>\n      <td>NaN</td>\n      <td>NaN</td>\n      <td>NaN</td>\n      <td>...</td>\n      <td>NaN</td>\n      <td>NaN</td>\n      <td>NaN</td>\n      <td>NaN</td>\n      <td>NaN</td>\n      <td>NaN</td>\n      <td>NaN</td>\n      <td>NaN</td>\n      <td>NaN</td>\n      <td>NaN</td>\n    </tr>\n    <tr>\n      <th>Capacity at full load factor [GW_H2_LHV]</th>\n      <td>13</td>\n      <td>NaN</td>\n      <td>NaN</td>\n      <td>NaN</td>\n      <td>NaN</td>\n      <td>NaN</td>\n      <td>NaN</td>\n      <td>NaN</td>\n      <td>NaN</td>\n      <td>NaN</td>\n      <td>...</td>\n      <td>NaN</td>\n      <td>NaN</td>\n      <td>NaN</td>\n      <td>NaN</td>\n      <td>NaN</td>\n      <td>NaN</td>\n      <td>NaN</td>\n      <td>NaN</td>\n      <td>NaN</td>\n      <td>NaN</td>\n    </tr>\n    <tr>\n      <th>Capacity at full load factor [kg H2/a]</th>\n      <td>2033571428.571429</td>\n      <td>NaN</td>\n      <td>NaN</td>\n      <td>NaN</td>\n      <td>NaN</td>\n      <td>NaN</td>\n      <td>NaN</td>\n      <td>NaN</td>\n      <td>NaN</td>\n      <td>NaN</td>\n      <td>...</td>\n      <td>NaN</td>\n      <td>NaN</td>\n      <td>NaN</td>\n      <td>NaN</td>\n      <td>NaN</td>\n      <td>NaN</td>\n      <td>NaN</td>\n      <td>NaN</td>\n      <td>NaN</td>\n      <td>NaN</td>\n    </tr>\n    <tr>\n      <th>Pipeline load factor [%]</th>\n      <td>0.75</td>\n      <td>NaN</td>\n      <td>NaN</td>\n      <td>NaN</td>\n      <td>NaN</td>\n      <td>NaN</td>\n      <td>NaN</td>\n      <td>NaN</td>\n      <td>NaN</td>\n      <td>NaN</td>\n      <td>...</td>\n      <td>NaN</td>\n      <td>NaN</td>\n      <td>NaN</td>\n      <td>NaN</td>\n      <td>NaN</td>\n      <td>NaN</td>\n      <td>NaN</td>\n      <td>NaN</td>\n      <td>NaN</td>\n      <td>NaN</td>\n    </tr>\n  </tbody>\n</table>\n<p>63 rows × 63 columns</p>\n</div>"
     },
     "execution_count": 4,
     "metadata": {},
     "output_type": "execute_result"
    }
   ],
   "source": [
    "GHG =  pd.read_excel('//Users/jakob/PycharmProjects/H2_pathways_repo/data/raw/Reference_Data.xlsx', sheet_name='GHG Footprint', decimal=',', index_col= 0)\n",
    "GHG"
   ],
   "metadata": {
    "collapsed": false,
    "pycharm": {
     "name": "#%%\n"
    }
   }
  },
  {
   "cell_type": "markdown",
   "source": [
    "# Definition of variables\n"
   ],
   "metadata": {
    "collapsed": false,
    "pycharm": {
     "name": "#%% md\n"
    }
   }
  },
  {
   "cell_type": "code",
   "execution_count": 8,
   "outputs": [
    {
     "data": {
      "text/plain": "4.128787878787879"
     },
     "execution_count": 8,
     "metadata": {},
     "output_type": "execute_result"
    }
   ],
   "source": [
    "# LHV H2 in moles per MJ\n",
    "LHV_H2_moles_MJ = float(GHG.loc['H2 LHV [mole/MJ]']['Parameter'])\n",
    "LHV_H2_moles_MJ"
   ],
   "metadata": {
    "collapsed": false,
    "pycharm": {
     "name": "#%%\n"
    }
   }
  },
  {
   "cell_type": "code",
   "execution_count": 11,
   "outputs": [
    {
     "data": {
      "text/plain": "1.0321969696969697"
     },
     "execution_count": 11,
     "metadata": {},
     "output_type": "execute_result"
    }
   ],
   "source": [
    "# CO2 produced during SMR @ 1 mole CO2 per 4 moles H2 [moles CO2/MJ]\n",
    "CO2_SMR_mole = LHV_H2_moles_MJ * 1/4\n",
    "CO2_SMR_mole"
   ],
   "metadata": {
    "collapsed": false,
    "pycharm": {
     "name": "#%%\n"
    }
   }
  },
  {
   "cell_type": "code",
   "execution_count": 14,
   "outputs": [
    {
     "data": {
      "text/plain": "44.01"
     },
     "execution_count": 14,
     "metadata": {},
     "output_type": "execute_result"
    }
   ],
   "source": [
    "# Molecular weight of CO2 [g/Mole]\n",
    "CO2_g_mole = float(GHG.loc['CO2 [g/Mole]']['Parameter'])\n",
    "CO2_g_mole"
   ],
   "metadata": {
    "collapsed": false,
    "pycharm": {
     "name": "#%%\n"
    }
   }
  },
  {
   "cell_type": "code",
   "execution_count": 15,
   "outputs": [
    {
     "data": {
      "text/plain": "0.55"
     },
     "execution_count": 15,
     "metadata": {},
     "output_type": "execute_result"
    }
   ],
   "source": [
    "# Capture rate syngas [%] low\n",
    "capture_rate_low = float(GHG.loc['Capture rate [%] low']['Parameter'])\n",
    "capture_rate_low"
   ],
   "metadata": {
    "collapsed": false,
    "pycharm": {
     "name": "#%%\n"
    }
   }
  },
  {
   "cell_type": "code",
   "execution_count": 16,
   "outputs": [
    {
     "data": {
      "text/plain": "0.8"
     },
     "execution_count": 16,
     "metadata": {},
     "output_type": "execute_result"
    }
   ],
   "source": [
    "# Capture rate syngas [%] mid\n",
    "capture_rate_mid = float(GHG.loc['Capture rate [%] mid']['Parameter'])\n",
    "capture_rate_mid"
   ],
   "metadata": {
    "collapsed": false,
    "pycharm": {
     "name": "#%%\n"
    }
   }
  },
  {
   "cell_type": "code",
   "execution_count": 42,
   "outputs": [
    {
     "data": {
      "text/plain": "0.95"
     },
     "execution_count": 42,
     "metadata": {},
     "output_type": "execute_result"
    }
   ],
   "source": [
    "# Capture rate syngas [%] high\n",
    "capture_rate_high = float(GHG.loc['Capture rate [%] high']['Parameter'])\n",
    "capture_rate_high"
   ],
   "metadata": {
    "collapsed": false,
    "pycharm": {
     "name": "#%%\n"
    }
   }
  },
  {
   "cell_type": "code",
   "execution_count": 43,
   "outputs": [
    {
     "data": {
      "text/plain": "16.04"
     },
     "execution_count": 43,
     "metadata": {},
     "output_type": "execute_result"
    }
   ],
   "source": [
    "# Molecular weight of CH4 [g/Mole]\n",
    "CH4_g_mole = float(GHG.loc['CH4 [g/Mole]']['Parameter'])\n",
    "CH4_g_mole"
   ],
   "metadata": {
    "collapsed": false,
    "pycharm": {
     "name": "#%%\n"
    }
   }
  },
  {
   "cell_type": "code",
   "execution_count": 44,
   "outputs": [
    {
     "data": {
      "text/plain": "0.1814"
     },
     "execution_count": 44,
     "metadata": {},
     "output_type": "execute_result"
    }
   ],
   "source": [
    "# Heat consumption to drive SMR in [MJ/mole_H2]\n",
    "Drive_Energy_MJ_mole_h2 = float(GHG.loc['Heat Input [MJ/mole_H2]']['Parameter'])\n",
    "Drive_Energy_MJ_mole_h2"
   ],
   "metadata": {
    "collapsed": false,
    "pycharm": {
     "name": "#%%\n"
    }
   }
  },
  {
   "cell_type": "code",
   "execution_count": 45,
   "outputs": [
    {
     "data": {
      "text/plain": "56.0"
     },
     "execution_count": 45,
     "metadata": {},
     "output_type": "execute_result"
    }
   ],
   "source": [
    "# Emission intensity of CH4 [g CO2/MJ]\n",
    "emission_intensity_CH4 = float(GHG.loc['Combustion emissions CH4 [g CO2/MJ]']['Parameter'])\n",
    "emission_intensity_CH4"
   ],
   "metadata": {
    "collapsed": false,
    "pycharm": {
     "name": "#%%\n"
    }
   }
  },
  {
   "cell_type": "code",
   "execution_count": 46,
   "outputs": [
    {
     "data": {
      "text/plain": "0.65"
     },
     "execution_count": 46,
     "metadata": {},
     "output_type": "execute_result"
    }
   ],
   "source": [
    "# Flue gas capture rate [%] low\n",
    "capture_rate_flue_gas_low = float(GHG.loc['Capture rate [%] flue gas low']['Parameter'])\n",
    "capture_rate_flue_gas_low"
   ],
   "metadata": {
    "collapsed": false,
    "pycharm": {
     "name": "#%%\n"
    }
   }
  },
  {
   "cell_type": "code",
   "execution_count": 47,
   "outputs": [
    {
     "data": {
      "text/plain": "0.9"
     },
     "execution_count": 47,
     "metadata": {},
     "output_type": "execute_result"
    }
   ],
   "source": [
    "# Flue gas capture rate [%] high\n",
    "capture_rate_flue_gas_high = float(GHG.loc['Capture rate [%] flue gas high']['Parameter'])\n",
    "capture_rate_flue_gas_high"
   ],
   "metadata": {
    "collapsed": false,
    "pycharm": {
     "name": "#%%\n"
    }
   }
  },
  {
   "cell_type": "code",
   "execution_count": 48,
   "outputs": [
    {
     "data": {
      "text/plain": "86.0"
     },
     "execution_count": 48,
     "metadata": {},
     "output_type": "execute_result"
    }
   ],
   "source": [
    "#GWP20 of methane\n",
    "GWP20_CH4 = float(GHG.loc['CH4 GWP20 [Years]']['Parameter'])\n",
    "GWP20_CH4"
   ],
   "metadata": {
    "collapsed": false,
    "pycharm": {
     "name": "#%%\n"
    }
   }
  },
  {
   "cell_type": "code",
   "execution_count": 49,
   "outputs": [
    {
     "data": {
      "text/plain": "30.0"
     },
     "execution_count": 49,
     "metadata": {},
     "output_type": "execute_result"
    }
   ],
   "source": [
    "#GWP100 of methane\n",
    "GWP100_CH4 = float(GHG.loc['CH4 GWP100 [Years]']['Parameter'])\n",
    "GWP100_CH4"
   ],
   "metadata": {
    "collapsed": false,
    "pycharm": {
     "name": "#%%\n"
    }
   }
  },
  {
   "cell_type": "code",
   "execution_count": 50,
   "outputs": [
    {
     "data": {
      "text/plain": "0.002"
     },
     "execution_count": 50,
     "metadata": {},
     "output_type": "execute_result"
    }
   ],
   "source": [
    "# Methane leakage rate in %\n",
    "leakage_rate_low = float(GHG.loc['Upstream methane leakage rate [%] low']['Parameter'])\n",
    "leakage_rate_low"
   ],
   "metadata": {
    "collapsed": false,
    "pycharm": {
     "name": "#%%\n"
    }
   }
  },
  {
   "cell_type": "code",
   "execution_count": 51,
   "outputs": [
    {
     "data": {
      "text/plain": "0.015"
     },
     "execution_count": 51,
     "metadata": {},
     "output_type": "execute_result"
    }
   ],
   "source": [
    "# Methane leakage rate in %\n",
    "leakage_rate_mid = float(GHG.loc['Upstream methane leakage rate [%] mid']['Parameter'])\n",
    "leakage_rate_mid"
   ],
   "metadata": {
    "collapsed": false,
    "pycharm": {
     "name": "#%%\n"
    }
   }
  },
  {
   "cell_type": "code",
   "execution_count": 52,
   "outputs": [
    {
     "data": {
      "text/plain": "0.08"
     },
     "execution_count": 52,
     "metadata": {},
     "output_type": "execute_result"
    }
   ],
   "source": [
    "# Methane leakage rate in %\n",
    "leakage_rate_high = float(GHG.loc['Upstream methane leakage rate [%] high']['Parameter'])\n",
    "leakage_rate_high"
   ],
   "metadata": {
    "collapsed": false,
    "pycharm": {
     "name": "#%%\n"
    }
   }
  },
  {
   "cell_type": "markdown",
   "source": [
    "# Direct emissions from SMR"
   ],
   "metadata": {
    "collapsed": false,
    "pycharm": {
     "name": "#%% md\n"
    }
   }
  },
  {
   "cell_type": "code",
   "execution_count": 53,
   "outputs": [
    {
     "data": {
      "text/plain": "45.42698863636364"
     },
     "execution_count": 53,
     "metadata": {},
     "output_type": "execute_result"
    }
   ],
   "source": [
    "# CO2 emissions from SMR process [g CO2/MJ]\n",
    "Direct_emissions_grey = CO2_g_mole * CO2_SMR_mole\n",
    "Direct_emissions_grey"
   ],
   "metadata": {
    "collapsed": false,
    "pycharm": {
     "name": "#%%\n"
    }
   }
  },
  {
   "cell_type": "code",
   "execution_count": 54,
   "outputs": [
    {
     "data": {
      "text/plain": "20.442144886363636"
     },
     "execution_count": 54,
     "metadata": {},
     "output_type": "execute_result"
    }
   ],
   "source": [
    "# CO2 emissions from SMR @ 55% capture rate [g CO2/MJ]\n",
    "Direct_emissions_low = Direct_emissions_grey * (1-capture_rate_low)\n",
    "Direct_emissions_low"
   ],
   "metadata": {
    "collapsed": false,
    "pycharm": {
     "name": "#%%\n"
    }
   }
  },
  {
   "cell_type": "code",
   "execution_count": 55,
   "outputs": [
    {
     "data": {
      "text/plain": "9.085397727272726"
     },
     "execution_count": 55,
     "metadata": {},
     "output_type": "execute_result"
    }
   ],
   "source": [
    "# CO2 emissions from SMR @ 55% capture rate [g CO2/MJ]\n",
    "Direct_emissions_mid = Direct_emissions_grey * (1-capture_rate_mid)\n",
    "Direct_emissions_mid"
   ],
   "metadata": {
    "collapsed": false,
    "pycharm": {
     "name": "#%%\n"
    }
   }
  },
  {
   "cell_type": "code",
   "execution_count": 56,
   "outputs": [
    {
     "data": {
      "text/plain": "2.271349431818184"
     },
     "execution_count": 56,
     "metadata": {},
     "output_type": "execute_result"
    }
   ],
   "source": [
    "# CO2 emissions from SMR @ 55% capture rate [g CO2/MJ]\n",
    "Direct_emissions_high = Direct_emissions_grey * (1-capture_rate_high)\n",
    "Direct_emissions_high"
   ],
   "metadata": {
    "collapsed": false,
    "pycharm": {
     "name": "#%%\n"
    }
   }
  },
  {
   "cell_type": "code",
   "execution_count": 57,
   "outputs": [
    {
     "data": {
      "text/plain": "16.5212"
     },
     "execution_count": 57,
     "metadata": {},
     "output_type": "execute_result"
    }
   ],
   "source": [
    "#CH4 consumed during SMR @ 1 mole CH4 per 4 moles H2 [g CH4/MJ]\n",
    "CH4_SMR_grams = 1.03 * CH4_g_mole\n",
    "CH4_SMR_grams\n"
   ],
   "metadata": {
    "collapsed": false,
    "pycharm": {
     "name": "#%%\n"
    }
   }
  },
  {
   "cell_type": "markdown",
   "source": [
    "Emissions from energy to drive SMR"
   ],
   "metadata": {
    "collapsed": false,
    "pycharm": {
     "name": "#%% md\n"
    }
   }
  },
  {
   "cell_type": "markdown",
   "source": [
    "## w/o flue gas capture (Grey)"
   ],
   "metadata": {
    "collapsed": false,
    "pycharm": {
     "name": "#%% md\n"
    }
   }
  },
  {
   "cell_type": "code",
   "execution_count": 58,
   "outputs": [
    {
     "data": {
      "text/plain": "10.1584"
     },
     "execution_count": 58,
     "metadata": {},
     "output_type": "execute_result"
    }
   ],
   "source": [
    "# When burning natural gas for heat production CO2 is emitted [CO2/mole_H2]\n",
    "Drive_CO2_emissions_mole = Drive_Energy_MJ_mole_h2 * emission_intensity_CH4\n",
    "Drive_CO2_emissions_mole"
   ],
   "metadata": {
    "collapsed": false,
    "pycharm": {
     "name": "#%%\n"
    }
   }
  },
  {
   "cell_type": "markdown",
   "source": [],
   "metadata": {
    "collapsed": false,
    "pycharm": {
     "name": "#%% md\n"
    }
   }
  },
  {
   "cell_type": "code",
   "execution_count": 59,
   "outputs": [
    {
     "data": {
      "text/plain": "41.94187878787879"
     },
     "execution_count": 59,
     "metadata": {},
     "output_type": "execute_result"
    }
   ],
   "source": [
    "# CO2 emissions per MJ hydrogen in order to create heat and pressure - w/o flue gas capture [g CO2/MJ_H2]\n",
    "Drive_CO2_emissions_grams_grey = Drive_CO2_emissions_mole * LHV_H2_moles_MJ\n",
    "Drive_CO2_emissions_grams_grey"
   ],
   "metadata": {
    "collapsed": false,
    "pycharm": {
     "name": "#%%\n"
    }
   }
  },
  {
   "cell_type": "markdown",
   "source": [
    "## w/o flue gas capture (blue)"
   ],
   "metadata": {
    "collapsed": false,
    "pycharm": {
     "name": "#%% md\n"
    }
   }
  },
  {
   "cell_type": "code",
   "execution_count": 60,
   "outputs": [
    {
     "data": {
      "text/plain": "14.679657575757576"
     },
     "execution_count": 60,
     "metadata": {},
     "output_type": "execute_result"
    }
   ],
   "source": [
    "# CO2 emissions drive with flue gas capture - low [g CO2/MJ]\n",
    "Drive_CO2_emissions_grams_blue_flue_low = Drive_CO2_emissions_grams_grey * (1 - capture_rate_flue_gas_low)\n",
    "Drive_CO2_emissions_grams_blue_flue_low"
   ],
   "metadata": {
    "collapsed": false,
    "pycharm": {
     "name": "#%%\n"
    }
   }
  },
  {
   "cell_type": "code",
   "execution_count": 61,
   "outputs": [
    {
     "data": {
      "text/plain": "4.194187878787878"
     },
     "execution_count": 61,
     "metadata": {},
     "output_type": "execute_result"
    }
   ],
   "source": [
    "# CO2 emissions drive with flue gas capture - high [g CO2/MJ]\n",
    "Drive_CO2_emissions_grams_blue_flue_high = Drive_CO2_emissions_grams_grey * (1 - capture_rate_flue_gas_high)\n",
    "Drive_CO2_emissions_grams_blue_flue_high"
   ],
   "metadata": {
    "collapsed": false,
    "pycharm": {
     "name": "#%%\n"
    }
   }
  },
  {
   "cell_type": "markdown",
   "source": [],
   "metadata": {
    "collapsed": false,
    "pycharm": {
     "name": "#%% md\n"
    }
   }
  },
  {
   "cell_type": "markdown",
   "source": [
    "# Check this cell!!"
   ],
   "metadata": {
    "collapsed": false,
    "pycharm": {
     "name": "#%% md\n"
    }
   }
  },
  {
   "cell_type": "code",
   "execution_count": 62,
   "outputs": [
    {
     "data": {
      "text/plain": "0.06611351965462395"
     },
     "execution_count": 62,
     "metadata": {},
     "output_type": "execute_result"
    }
   ],
   "source": [
    "# CH4 consumed to drive the process [g CH4/MJ_H2]\n",
    "Drive_CH4_consumed = Drive_Energy_MJ_mole_h2 * 1/CO2_g_mole * CH4_g_mole\n",
    "Drive_CH4_consumed"
   ],
   "metadata": {
    "collapsed": false,
    "pycharm": {
     "name": "#%%\n"
    }
   }
  },
  {
   "cell_type": "markdown",
   "source": [
    "# Total direct CO2 emissions"
   ],
   "metadata": {
    "collapsed": false,
    "pycharm": {
     "name": "#%% md\n"
    }
   }
  },
  {
   "cell_type": "markdown",
   "source": [
    "## Without flue gas capture"
   ],
   "metadata": {
    "collapsed": false,
    "pycharm": {
     "name": "#%% md\n"
    }
   }
  },
  {
   "cell_type": "code",
   "execution_count": 63,
   "outputs": [
    {
     "data": {
      "text/plain": "87.36886742424244"
     },
     "execution_count": 63,
     "metadata": {},
     "output_type": "execute_result"
    }
   ],
   "source": [
    "# Total CO2 emissions to produce grey hydrogen [g CO2/MJ_H2]\n",
    "Total_CO2_emissions_grey = Direct_emissions_grey + Drive_CO2_emissions_grams_grey\n",
    "Total_CO2_emissions_grey"
   ],
   "metadata": {
    "collapsed": false,
    "pycharm": {
     "name": "#%%\n"
    }
   }
  },
  {
   "cell_type": "code",
   "execution_count": 64,
   "outputs": [
    {
     "data": {
      "text/plain": "62.38402367424243"
     },
     "execution_count": 64,
     "metadata": {},
     "output_type": "execute_result"
    }
   ],
   "source": [
    "# Total CO2 emissions to produce grey hydrogen [g CO2/MJ_H2]\n",
    "Total_CO2_emissions_blue_low_no_fluegas = Direct_emissions_low + Drive_CO2_emissions_grams_grey\n",
    "Total_CO2_emissions_blue_low_no_fluegas"
   ],
   "metadata": {
    "collapsed": false,
    "pycharm": {
     "name": "#%%\n"
    }
   }
  },
  {
   "cell_type": "code",
   "execution_count": 65,
   "outputs": [
    {
     "data": {
      "text/plain": "51.02727651515152"
     },
     "execution_count": 65,
     "metadata": {},
     "output_type": "execute_result"
    }
   ],
   "source": [
    "# Total CO2 emissions to produce grey hydrogen [g CO2/MJ_H2]\n",
    "Total_CO2_emissions_blue_mid_no_fluegas = Direct_emissions_mid + Drive_CO2_emissions_grams_grey\n",
    "Total_CO2_emissions_blue_mid_no_fluegas"
   ],
   "metadata": {
    "collapsed": false,
    "pycharm": {
     "name": "#%%\n"
    }
   }
  },
  {
   "cell_type": "code",
   "execution_count": 66,
   "outputs": [
    {
     "data": {
      "text/plain": "44.21322821969698"
     },
     "execution_count": 66,
     "metadata": {},
     "output_type": "execute_result"
    }
   ],
   "source": [
    "# Total CO2 emissions to produce grey hydrogen [g CO2/MJ_H2]\n",
    "Total_CO2_emissions_blue_high_no_fluegas = Direct_emissions_high + Drive_CO2_emissions_grams_grey\n",
    "Total_CO2_emissions_blue_high_no_fluegas"
   ],
   "metadata": {
    "collapsed": false,
    "pycharm": {
     "name": "#%%\n"
    }
   }
  },
  {
   "cell_type": "markdown",
   "source": [
    "## With flue gas capture"
   ],
   "metadata": {
    "collapsed": false,
    "pycharm": {
     "name": "#%% md\n"
    }
   }
  },
  {
   "cell_type": "markdown",
   "source": [
    "### low (65%)"
   ],
   "metadata": {
    "collapsed": false,
    "pycharm": {
     "name": "#%% md\n"
    }
   }
  },
  {
   "cell_type": "code",
   "execution_count": 67,
   "outputs": [
    {
     "data": {
      "text/plain": "35.12180246212121"
     },
     "execution_count": 67,
     "metadata": {},
     "output_type": "execute_result"
    }
   ],
   "source": [
    "# Total CO2 emissions to produce grey hydrogen [g CO2/MJ_H2]\n",
    "Total_CO2_emissions_blue_low_with_fluegas_low = Direct_emissions_low + Drive_CO2_emissions_grams_blue_flue_low\n",
    "Total_CO2_emissions_blue_low_with_fluegas_low"
   ],
   "metadata": {
    "collapsed": false,
    "pycharm": {
     "name": "#%%\n"
    }
   }
  },
  {
   "cell_type": "code",
   "execution_count": 68,
   "outputs": [
    {
     "data": {
      "text/plain": "23.7650553030303"
     },
     "execution_count": 68,
     "metadata": {},
     "output_type": "execute_result"
    }
   ],
   "source": [
    "# Total CO2 emissions to produce grey hydrogen [g CO2/MJ_H2]\n",
    "Total_CO2_emissions_blue_mid_with_fluegas_low = Direct_emissions_mid + Drive_CO2_emissions_grams_blue_flue_low\n",
    "Total_CO2_emissions_blue_mid_with_fluegas_low"
   ],
   "metadata": {
    "collapsed": false,
    "pycharm": {
     "name": "#%%\n"
    }
   }
  },
  {
   "cell_type": "code",
   "execution_count": 69,
   "outputs": [
    {
     "data": {
      "text/plain": "16.95100700757576"
     },
     "execution_count": 69,
     "metadata": {},
     "output_type": "execute_result"
    }
   ],
   "source": [
    "# Total CO2 emissions to produce grey hydrogen [g CO2/MJ_H2]\n",
    "Total_CO2_emissions_blue_high_with_fluegas_low = Direct_emissions_high + Drive_CO2_emissions_grams_blue_flue_low\n",
    "Total_CO2_emissions_blue_high_with_fluegas_low"
   ],
   "metadata": {
    "collapsed": false,
    "pycharm": {
     "name": "#%%\n"
    }
   }
  },
  {
   "cell_type": "markdown",
   "source": [
    "### high (90%)"
   ],
   "metadata": {
    "collapsed": false,
    "pycharm": {
     "name": "#%% md\n"
    }
   }
  },
  {
   "cell_type": "code",
   "execution_count": 70,
   "outputs": [
    {
     "data": {
      "text/plain": "24.636332765151515"
     },
     "execution_count": 70,
     "metadata": {},
     "output_type": "execute_result"
    }
   ],
   "source": [
    "# Total CO2 emissions to produce grey hydrogen [g CO2/MJ_H2]\n",
    "Total_CO2_emissions_blue_low_with_fluegas_high = Direct_emissions_low + Drive_CO2_emissions_grams_blue_flue_high\n",
    "Total_CO2_emissions_blue_low_with_fluegas_high"
   ],
   "metadata": {
    "collapsed": false,
    "pycharm": {
     "name": "#%%\n"
    }
   }
  },
  {
   "cell_type": "code",
   "execution_count": 71,
   "outputs": [
    {
     "data": {
      "text/plain": "13.279585606060603"
     },
     "execution_count": 71,
     "metadata": {},
     "output_type": "execute_result"
    }
   ],
   "source": [
    "# Total CO2 emissions to produce grey hydrogen [g CO2/MJ_H2]\n",
    "Total_CO2_emissions_blue_mid_with_fluegas_high = Direct_emissions_mid + Drive_CO2_emissions_grams_blue_flue_high\n",
    "Total_CO2_emissions_blue_mid_with_fluegas_high"
   ],
   "metadata": {
    "collapsed": false,
    "pycharm": {
     "name": "#%%\n"
    }
   }
  },
  {
   "cell_type": "code",
   "execution_count": 72,
   "outputs": [
    {
     "data": {
      "text/plain": "6.465537310606063"
     },
     "execution_count": 72,
     "metadata": {},
     "output_type": "execute_result"
    }
   ],
   "source": [
    "# Total CO2 emissions to produce grey hydrogen [g CO2/MJ_H2]\n",
    "Total_CO2_emissions_blue_high_with_fluegas_high = Direct_emissions_high + Drive_CO2_emissions_grams_blue_flue_high\n",
    "Total_CO2_emissions_blue_high_with_fluegas_high"
   ],
   "metadata": {
    "collapsed": false,
    "pycharm": {
     "name": "#%%\n"
    }
   }
  },
  {
   "cell_type": "markdown",
   "source": [
    "## Indirect emissions from natural gas transport and storage"
   ],
   "metadata": {
    "collapsed": false,
    "pycharm": {
     "name": "#%% md\n"
    }
   }
  },
  {
   "cell_type": "code",
   "execution_count": 73,
   "outputs": [
    {
     "data": {
      "text/plain": "6.552665056818182"
     },
     "execution_count": 73,
     "metadata": {},
     "output_type": "execute_result"
    }
   ],
   "source": [
    "# Indirect emissions from natural gas transport and storage [g CO2/MJ_H2]\n",
    "Indirect_emissions = Total_CO2_emissions_grey * 0.075\n",
    "Indirect_emissions"
   ],
   "metadata": {
    "collapsed": false,
    "pycharm": {
     "name": "#%%\n"
    }
   }
  },
  {
   "cell_type": "code",
   "execution_count": 73,
   "outputs": [],
   "source": [],
   "metadata": {
    "collapsed": false,
    "pycharm": {
     "name": "#%%\n"
    }
   }
  },
  {
   "cell_type": "markdown",
   "source": [],
   "metadata": {
    "collapsed": false,
    "pycharm": {
     "name": "#%% md\n"
    }
   }
  },
  {
   "cell_type": "markdown",
   "source": [
    "# CH4 upstream emissions"
   ],
   "metadata": {
    "collapsed": false,
    "pycharm": {
     "name": "#%% md\n"
    }
   }
  },
  {
   "cell_type": "code",
   "execution_count": 74,
   "outputs": [
    {
     "data": {
      "text/plain": "16.587313519654625"
     },
     "execution_count": 74,
     "metadata": {},
     "output_type": "execute_result"
    }
   ],
   "source": [
    "# CH4 consumption as feedstock and energy to drive SMR [g CH4/MJ_H2]\n",
    "Total_methane_SMR = CH4_SMR_grams + Drive_CH4_consumed\n",
    "Total_methane_SMR"
   ],
   "metadata": {
    "collapsed": false,
    "pycharm": {
     "name": "#%%\n"
    }
   }
  },
  {
   "cell_type": "code",
   "execution_count": 75,
   "outputs": [
    {
     "data": {
      "text/plain": "0.03317462703930925"
     },
     "execution_count": 75,
     "metadata": {},
     "output_type": "execute_result"
    }
   ],
   "source": [
    "# Quantity of methane consumed to produce grey hydrogen [g CH4/MJ_H2]\n",
    "upstream_emissions_CH4_low = leakage_rate_low * Total_methane_SMR\n",
    "upstream_emissions_CH4_low"
   ],
   "metadata": {
    "collapsed": false,
    "pycharm": {
     "name": "#%%\n"
    }
   }
  },
  {
   "cell_type": "code",
   "execution_count": 76,
   "outputs": [
    {
     "data": {
      "text/plain": "0.24880970279481937"
     },
     "execution_count": 76,
     "metadata": {},
     "output_type": "execute_result"
    }
   ],
   "source": [
    "# Quantity of methane consumed to produce grey hydrogen [g CH4/MJ_H2]\n",
    "upstream_emissions_CH4_mid = leakage_rate_mid * Total_methane_SMR\n",
    "upstream_emissions_CH4_mid"
   ],
   "metadata": {
    "collapsed": false,
    "pycharm": {
     "name": "#%%\n"
    }
   }
  },
  {
   "cell_type": "code",
   "execution_count": 77,
   "outputs": [
    {
     "data": {
      "text/plain": "1.32698508157237"
     },
     "execution_count": 77,
     "metadata": {},
     "output_type": "execute_result"
    }
   ],
   "source": [
    "# Quantity of methane consumed to produce grey hydrogen [g CH4/MJ_H2]\n",
    "upstream_emissions_CH4_high = leakage_rate_high * Total_methane_SMR\n",
    "upstream_emissions_CH4_high"
   ],
   "metadata": {
    "collapsed": false,
    "pycharm": {
     "name": "#%%\n"
    }
   }
  },
  {
   "cell_type": "code",
   "execution_count": 78,
   "outputs": [
    {
     "data": {
      "text/plain": "2.853017925380595"
     },
     "execution_count": 78,
     "metadata": {},
     "output_type": "execute_result"
    }
   ],
   "source": [
    "# Upstream emissions at GWP20 of CH4 [g CO2e/MJ_H2]\n",
    "upstream_emissions_GWP20_low = upstream_emissions_CH4_low * GWP20_CH4\n",
    "upstream_emissions_GWP20_low\n"
   ],
   "metadata": {
    "collapsed": false,
    "pycharm": {
     "name": "#%%\n"
    }
   }
  },
  {
   "cell_type": "code",
   "execution_count": 79,
   "outputs": [
    {
     "data": {
      "text/plain": "21.397634440354466"
     },
     "execution_count": 79,
     "metadata": {},
     "output_type": "execute_result"
    }
   ],
   "source": [
    "# Upstream emissions at GWP20 of CH4 [g CO2e/MJ_H2]\n",
    "upstream_emissions_GWP20_mid = upstream_emissions_CH4_mid * GWP20_CH4\n",
    "upstream_emissions_GWP20_mid"
   ],
   "metadata": {
    "collapsed": false,
    "pycharm": {
     "name": "#%%\n"
    }
   }
  },
  {
   "cell_type": "code",
   "execution_count": 80,
   "outputs": [
    {
     "data": {
      "text/plain": "114.12071701522382"
     },
     "execution_count": 80,
     "metadata": {},
     "output_type": "execute_result"
    }
   ],
   "source": [
    "# Upstream emissions at GWP20 of CH4 [g CO2e/MJ_H2]\n",
    "upstream_emissions_GWP20_high = upstream_emissions_CH4_high * GWP20_CH4\n",
    "upstream_emissions_GWP20_high"
   ],
   "metadata": {
    "collapsed": false,
    "pycharm": {
     "name": "#%%\n"
    }
   }
  },
  {
   "cell_type": "code",
   "execution_count": 81,
   "outputs": [
    {
     "data": {
      "text/plain": "0.9952388111792775"
     },
     "execution_count": 81,
     "metadata": {},
     "output_type": "execute_result"
    }
   ],
   "source": [
    "# Upstream emissions at GWP100 of CH4 [g CO2e/MJ_H2]\n",
    "upstream_emissions_GWP100_low = upstream_emissions_CH4_low * GWP100_CH4\n",
    "upstream_emissions_GWP100_low"
   ],
   "metadata": {
    "collapsed": false,
    "pycharm": {
     "name": "#%%\n"
    }
   }
  },
  {
   "cell_type": "code",
   "execution_count": 82,
   "outputs": [
    {
     "data": {
      "text/plain": "7.464291083844581"
     },
     "execution_count": 82,
     "metadata": {},
     "output_type": "execute_result"
    }
   ],
   "source": [
    "# Upstream emissions at GWP100 of CH4 [g CO2e/MJ_H2]\n",
    "upstream_emissions_GWP100_mid = upstream_emissions_CH4_mid * GWP100_CH4\n",
    "upstream_emissions_GWP100_mid"
   ],
   "metadata": {
    "collapsed": false,
    "pycharm": {
     "name": "#%%\n"
    }
   }
  },
  {
   "cell_type": "code",
   "execution_count": 83,
   "outputs": [
    {
     "data": {
      "text/plain": "39.8095524471711"
     },
     "execution_count": 83,
     "metadata": {},
     "output_type": "execute_result"
    }
   ],
   "source": [
    "# Upstream emissions at GWP100 of CH4 [g CO2e/MJ_H2]\n",
    "upstream_emissions_GWP100_high = upstream_emissions_CH4_high * GWP100_CH4\n",
    "upstream_emissions_GWP100_high"
   ],
   "metadata": {
    "collapsed": false,
    "pycharm": {
     "name": "#%%\n"
    }
   }
  },
  {
   "cell_type": "markdown",
   "source": [
    "# Total emissions"
   ],
   "metadata": {
    "collapsed": false,
    "pycharm": {
     "name": "#%% md\n"
    }
   }
  },
  {
   "cell_type": "code",
   "execution_count": 84,
   "outputs": [
    {
     "data": {
      "text/plain": "93.92153248106062"
     },
     "execution_count": 84,
     "metadata": {},
     "output_type": "execute_result"
    }
   ],
   "source": [
    "# Total CO2 emissions including indirect emissions from natural gas transport and storage\n",
    "Total_CO2_emissions = Total_CO2_emissions_grey + Indirect_emissions\n",
    "Total_CO2_emissions"
   ],
   "metadata": {
    "collapsed": false,
    "pycharm": {
     "name": "#%%\n"
    }
   }
  },
  {
   "cell_type": "markdown",
   "source": [
    "## w/o flue gas capture"
   ],
   "metadata": {
    "collapsed": false,
    "pycharm": {
     "name": "#%% md\n"
    }
   }
  },
  {
   "cell_type": "markdown",
   "source": [
    "### @ GWP20"
   ],
   "metadata": {
    "collapsed": false,
    "pycharm": {
     "name": "#%% md\n"
    }
   }
  },
  {
   "cell_type": "code",
   "execution_count": 85,
   "outputs": [
    {
     "data": {
      "text/plain": "96.77455040644122"
     },
     "execution_count": 85,
     "metadata": {},
     "output_type": "execute_result"
    }
   ],
   "source": [
    "# Total Emissions for grey hydrogen: CO2 + fugitive CH4 [g CO2e/MJ]\n",
    "Total_emissions_grey_GWP20_low = Total_CO2_emissions_grey + Indirect_emissions + upstream_emissions_GWP20_low\n",
    "Total_emissions_grey_GWP20_low"
   ],
   "metadata": {
    "collapsed": false,
    "pycharm": {
     "name": "#%%\n"
    }
   }
  },
  {
   "cell_type": "code",
   "execution_count": 86,
   "outputs": [
    {
     "data": {
      "text/plain": "115.31916692141509"
     },
     "execution_count": 86,
     "metadata": {},
     "output_type": "execute_result"
    }
   ],
   "source": [
    "# Total Emissions for grey hydrogen: CO2 + fugitive CH4 [g CO2e/MJ]\n",
    "Total_emissions_grey_GWP20_mid = Total_CO2_emissions_grey + Indirect_emissions + upstream_emissions_GWP20_mid\n",
    "Total_emissions_grey_GWP20_mid\n"
   ],
   "metadata": {
    "collapsed": false,
    "pycharm": {
     "name": "#%%\n"
    }
   }
  },
  {
   "cell_type": "code",
   "execution_count": 87,
   "outputs": [
    {
     "data": {
      "text/plain": "208.04224949628446"
     },
     "execution_count": 87,
     "metadata": {},
     "output_type": "execute_result"
    }
   ],
   "source": [
    "# Total Emissions for grey hydrogen: CO2 + fugitive CH4 [g CO2e/MJ]\n",
    "Total_emissions_grey_GWP20_high = Total_CO2_emissions_grey + Indirect_emissions + upstream_emissions_GWP20_high\n",
    "Total_emissions_grey_GWP20_high"
   ],
   "metadata": {
    "collapsed": false,
    "pycharm": {
     "name": "#%%\n"
    }
   }
  },
  {
   "cell_type": "markdown",
   "source": [
    "### @ GWP100"
   ],
   "metadata": {
    "collapsed": false,
    "pycharm": {
     "name": "#%% md\n"
    }
   }
  },
  {
   "cell_type": "code",
   "execution_count": 88,
   "outputs": [
    {
     "data": {
      "text/plain": "94.9167712922399"
     },
     "execution_count": 88,
     "metadata": {},
     "output_type": "execute_result"
    }
   ],
   "source": [
    "# Total Emissions for grey hydrogen: CO2 + fugitive CH4 [g CO2e/MJ]\n",
    "Total_emissions_grey_GWP100_low = Total_CO2_emissions + upstream_emissions_GWP100_low\n",
    "Total_emissions_grey_GWP100_low"
   ],
   "metadata": {
    "collapsed": false,
    "pycharm": {
     "name": "#%%\n"
    }
   }
  },
  {
   "cell_type": "code",
   "execution_count": 89,
   "outputs": [
    {
     "data": {
      "text/plain": "101.38582356490521"
     },
     "execution_count": 89,
     "metadata": {},
     "output_type": "execute_result"
    }
   ],
   "source": [
    "# Total Emissions for grey hydrogen: CO2 + fugitive CH4 [g CO2e/MJ]\n",
    "Total_emissions_grey_GWP100_mid = Total_CO2_emissions + upstream_emissions_GWP100_mid\n",
    "Total_emissions_grey_GWP100_mid"
   ],
   "metadata": {
    "collapsed": false,
    "pycharm": {
     "name": "#%%\n"
    }
   }
  },
  {
   "cell_type": "code",
   "execution_count": 90,
   "outputs": [
    {
     "data": {
      "text/plain": "133.73108492823172"
     },
     "execution_count": 90,
     "metadata": {},
     "output_type": "execute_result"
    }
   ],
   "source": [
    "# Total Emissions for grey hydrogen: CO2 + fugitive CH4 [g CO2e/MJ]\n",
    "Total_emissions_grey_GWP100_high = Total_CO2_emissions + upstream_emissions_GWP100_high\n",
    "Total_emissions_grey_GWP100_high"
   ],
   "metadata": {
    "collapsed": false,
    "pycharm": {
     "name": "#%%\n"
    }
   }
  },
  {
   "cell_type": "markdown",
   "source": [
    "## w/ flue gas capture"
   ],
   "metadata": {
    "collapsed": false,
    "pycharm": {
     "name": "#%% md\n"
    }
   }
  },
  {
   "cell_type": "markdown",
   "source": [
    "### @GWP20"
   ],
   "metadata": {
    "collapsed": false,
    "pycharm": {
     "name": "#%% md\n"
    }
   }
  },
  {
   "cell_type": "code",
   "execution_count": 91,
   "outputs": [
    {
     "data": {
      "text/plain": "96.77455040644122"
     },
     "execution_count": 91,
     "metadata": {},
     "output_type": "execute_result"
    }
   ],
   "source": [
    "# Total Emissions for grey hydrogen: CO2 + fugitive CH4 [g CO2e/MJ]\n",
    "Total_emissions_grey_GWP20_low = Total_CO2_emissions + upstream_emissions_GWP20_low\n",
    "Total_emissions_grey_GWP20_low"
   ],
   "metadata": {
    "collapsed": false,
    "pycharm": {
     "name": "#%%\n"
    }
   }
  },
  {
   "cell_type": "code",
   "execution_count": 92,
   "outputs": [
    {
     "data": {
      "text/plain": "115.31916692141509"
     },
     "execution_count": 92,
     "metadata": {},
     "output_type": "execute_result"
    }
   ],
   "source": [
    "# Total Emissions for grey hydrogen: CO2 + fugitive CH4 [g CO2e/MJ]\n",
    "Total_emissions_grey_GWP20_mid = Total_CO2_emissions + upstream_emissions_GWP20_mid\n",
    "Total_emissions_grey_GWP20_mid"
   ],
   "metadata": {
    "collapsed": false,
    "pycharm": {
     "name": "#%%\n"
    }
   }
  },
  {
   "cell_type": "code",
   "execution_count": 93,
   "outputs": [
    {
     "data": {
      "text/plain": "208.04224949628446"
     },
     "execution_count": 93,
     "metadata": {},
     "output_type": "execute_result"
    }
   ],
   "source": [
    "# Total Emissions for grey hydrogen: CO2 + fugitive CH4 [g CO2e/MJ]\n",
    "Total_emissions_grey_GWP20_high = Total_CO2_emissions + upstream_emissions_GWP20_high\n",
    "Total_emissions_grey_GWP20_high"
   ],
   "metadata": {
    "collapsed": false,
    "pycharm": {
     "name": "#%%\n"
    }
   }
  },
  {
   "cell_type": "markdown",
   "source": [
    "# Energy to power carbon capture"
   ],
   "metadata": {
    "collapsed": false,
    "pycharm": {
     "name": "#%% md\n"
    }
   }
  },
  {
   "cell_type": "code",
   "execution_count": 94,
   "outputs": [
    {
     "ename": "SyntaxError",
     "evalue": "invalid syntax (591946292.py, line 1)",
     "output_type": "error",
     "traceback": [
      "\u001B[0;36m  Input \u001B[0;32mIn [94]\u001B[0;36m\u001B[0m\n\u001B[0;31m    xx none according to Bauer et al.\u001B[0m\n\u001B[0m       ^\u001B[0m\n\u001B[0;31mSyntaxError\u001B[0m\u001B[0;31m:\u001B[0m invalid syntax\n"
     ]
    }
   ],
   "source": [
    "xx none according to Bauer et al.\n"
   ],
   "metadata": {
    "collapsed": false,
    "pycharm": {
     "name": "#%%\n"
    }
   }
  },
  {
   "cell_type": "markdown",
   "source": [],
   "metadata": {
    "collapsed": false,
    "pycharm": {
     "name": "#%% md\n"
    }
   }
  },
  {
   "cell_type": "markdown",
   "source": [
    "flue gas capture (FGC)"
   ],
   "metadata": {
    "collapsed": false,
    "pycharm": {
     "name": "#%% md\n"
    }
   }
  },
  {
   "cell_type": "code",
   "execution_count": 94,
   "outputs": [],
   "source": [],
   "metadata": {
    "collapsed": false,
    "pycharm": {
     "name": "#%%\n"
    }
   }
  },
  {
   "cell_type": "code",
   "execution_count": 95,
   "outputs": [],
   "source": [
    "x =['Grey, 0.2%, GWP100\\nw/o FGC', 'Grey, 0.2%, GWP20\\nw/o FGC', 'Blue, 0.2%, GWP100\\nCCS-low 55%, w/o FGC', 'Blue, 0.2%, GWP20\\nCCS-low 55%, w/o FGC','Blue, 0.2%, GWP100\\nCCS-mid 80%, FGC 65%', 'Blue, 0.2%, GWP20\\nCCS-mid 80%, FGC 65%','Blue, 0.2%, GWP100\\nCCS-high 95%, FGC 90%','Blue, 0.2%, GWP20\\nCCS-high 95%, FGC 90%']"
   ],
   "metadata": {
    "collapsed": false,
    "pycharm": {
     "name": "#%%\n"
    }
   }
  },
  {
   "cell_type": "code",
   "execution_count": 96,
   "outputs": [],
   "source": [
    "Direct_emissions = [Direct_emissions_grey, Direct_emissions_grey, Direct_emissions_low, Direct_emissions_low, Direct_emissions_mid, Direct_emissions_mid, Direct_emissions_high, Direct_emissions_high]\n",
    "\n",
    "Drive_emissions_plt = [Drive_CO2_emissions_grams_grey, Drive_CO2_emissions_grams_grey, Drive_CO2_emissions_grams_grey, Drive_CO2_emissions_grams_grey, Drive_CO2_emissions_grams_blue_flue_low, Drive_CO2_emissions_grams_blue_flue_low, Drive_CO2_emissions_grams_blue_flue_high, Drive_CO2_emissions_grams_blue_flue_high]\n",
    "\n",
    "Indirect_emissions_plt = [Indirect_emissions] * 8\n",
    "\n",
    "Upstream_emissions = [upstream_emissions_GWP100_low, upstream_emissions_GWP20_low, upstream_emissions_GWP100_low, upstream_emissions_GWP20_low, upstream_emissions_GWP100_low, upstream_emissions_GWP20_low, upstream_emissions_GWP100_low, upstream_emissions_GWP20_low]"
   ],
   "metadata": {
    "collapsed": false,
    "pycharm": {
     "name": "#%%\n"
    }
   }
  },
  {
   "cell_type": "markdown",
   "source": [
    "# Calc. total emissions for each case"
   ],
   "metadata": {
    "collapsed": false,
    "pycharm": {
     "name": "#%% md\n"
    }
   }
  },
  {
   "cell_type": "code",
   "execution_count": 97,
   "outputs": [
    {
     "data": {
      "text/plain": "94.9167712922399"
     },
     "execution_count": 97,
     "metadata": {},
     "output_type": "execute_result"
    }
   ],
   "source": [
    "Grey_GWP100 = Direct_emissions_grey + Drive_CO2_emissions_grams_grey + Indirect_emissions + upstream_emissions_GWP100_low\n",
    "Grey_GWP100"
   ],
   "metadata": {
    "collapsed": false,
    "pycharm": {
     "name": "#%%\n"
    }
   }
  },
  {
   "cell_type": "code",
   "execution_count": 98,
   "outputs": [
    {
     "data": {
      "text/plain": "96.77455040644122"
     },
     "execution_count": 98,
     "metadata": {},
     "output_type": "execute_result"
    }
   ],
   "source": [
    "Grey_GWP20 = Direct_emissions_grey + Drive_CO2_emissions_grams_grey + Indirect_emissions + upstream_emissions_GWP20_low\n",
    "Grey_GWP20"
   ],
   "metadata": {
    "collapsed": false,
    "pycharm": {
     "name": "#%%\n"
    }
   }
  },
  {
   "cell_type": "code",
   "execution_count": 99,
   "outputs": [
    {
     "data": {
      "text/plain": "71.78970665644121"
     },
     "execution_count": 99,
     "metadata": {},
     "output_type": "execute_result"
    }
   ],
   "source": [
    "pess = Direct_emissions_low + Drive_CO2_emissions_grams_grey + Indirect_emissions + upstream_emissions_GWP20_low\n",
    "pess"
   ],
   "metadata": {
    "collapsed": false,
    "pycharm": {
     "name": "#%%\n"
    }
   }
  },
  {
   "cell_type": "code",
   "execution_count": 100,
   "outputs": [
    {
     "data": {
      "text/plain": "15.87122029280484"
     },
     "execution_count": 100,
     "metadata": {},
     "output_type": "execute_result"
    }
   ],
   "source": [
    "opt = Direct_emissions_high + Drive_CO2_emissions_grams_blue_flue_high + Indirect_emissions + upstream_emissions_GWP20_low\n",
    "opt"
   ],
   "metadata": {
    "collapsed": false,
    "pycharm": {
     "name": "#%%\n"
    }
   }
  },
  {
   "cell_type": "markdown",
   "source": [
    "# Plot production emissions"
   ],
   "metadata": {
    "collapsed": false,
    "pycharm": {
     "name": "#%% md\n"
    }
   }
  },
  {
   "cell_type": "code",
   "execution_count": 101,
   "outputs": [],
   "source": [
    "x =['Grey, 0.2%, GWP100\\nw/o FGC', 'Grey, 0.2%, GWP20\\nw/o FGC', 'Blue, 0.2%, GWP100\\nCCS-low 55%, w/o FGC', 'Blue, 0.2%, GWP20\\nCCS-low 55%, w/o FGC','Blue, 0.2%, GWP100\\nCCS-mid 80%, FGC 65%', 'Blue, 0.2%, GWP20\\nCCS-mid 80%, FGC 65%','Blue, 0.2%, GWP100\\nCCS-high 95%, FGC 90%','Blue, 0.2%, GWP20\\nCCS-high 95%, FGC 90%']"
   ],
   "metadata": {
    "collapsed": false,
    "pycharm": {
     "name": "#%%\n"
    }
   }
  },
  {
   "cell_type": "code",
   "execution_count": 102,
   "outputs": [
    {
     "data": {
      "text/plain": "Text(0, 0.5, 'g CO2eq/MJ H2')"
     },
     "execution_count": 102,
     "metadata": {},
     "output_type": "execute_result"
    },
    {
     "data": {
      "text/plain": "<Figure size 720x432 with 1 Axes>",
      "image/png": "[encoded data removed]"
     },
     "metadata": {
      "needs_background": "light"
     },
     "output_type": "display_data"
    }
   ],
   "source": [
    "# Creating a stacked bar chart to display emissions. Adding lists for the bottom method.\n",
    "fig, ax = plt.subplots(figsize=(10,6))\n",
    "\n",
    "width = 0.5\n",
    "#y_axis = np.arange(101,step=10)\n",
    "direct = plt.bar(x, Direct_emissions, width, label='Direct emissions', bottom=list(map(lambda x, y, z: x + y + z, Upstream_emissions, Indirect_emissions_plt, Drive_emissions_plt)))\n",
    "drive = plt.bar(x, Drive_emissions_plt, width, label='Drive emissions', bottom=list(map(lambda x, y: x + y, Upstream_emissions, Indirect_emissions_plt)))\n",
    "indirect = plt.bar(x, Indirect_emissions, width, label = 'Indirect emissions', bottom=Upstream_emissions)\n",
    "upstream = plt.bar(x, Upstream_emissions, width, label = 'CH4 upstream emissions')\n",
    "plt.grid(True, axis = 'y')\n",
    "ax.set_axisbelow(True)\n",
    "#ax.twinx()\n",
    "plt.xticks(rotation = 90)\n",
    "#plt.yticks(y_axis)\n",
    "#plt.ylim(0,90)\n",
    "plt.legend(loc='upper right')\n",
    "plt.title('GHG emissions from blue hydrogen production', fontweight = 'bold')\n",
    "plt.ylabel('g CO2eq/MJ H2')\n",
    "#ax.set_ylabel('kg CO2/kg H2')"
   ],
   "metadata": {
    "collapsed": false,
    "pycharm": {
     "name": "#%%\n"
    }
   }
  },
  {
   "cell_type": "code",
   "execution_count": null,
   "outputs": [],
   "source": [
    "grey_low_GWP100 = 'Grey hydrogen 0.2% @GWP100'\n",
    "plt.bar(grey_low_GWP100, Direct_emissions_grey, width= 2, label='Direct emissions grey', bottom=Drive_CO2_emissions_grams_grey)\n",
    "plt.bar(grey_low_GWP100, Drive_CO2_emissions_grams_grey, width= 2, label='Drive emissions', bottom=Indirect_emissions)\n",
    "plt.bar(grey_low_GWP100, Indirect_emissions, width= 2, label = 'Emissions from natural gas transport and storage', bottom=upstream_emissions_GWP100_low)\n",
    "plt.bar(grey_low_GWP100, upstream_emissions_GWP100_low, width = 2, label = 'CH4 upstream emissions')\n",
    "plt.legend(loc='upper left')\n",
    "plt.ylabel('[g CO2eq/MJ_H2]')"
   ],
   "metadata": {
    "collapsed": false,
    "pycharm": {
     "name": "#%%\n"
    }
   }
  },
  {
   "cell_type": "code",
   "execution_count": 81,
   "outputs": [
    {
     "data": {
      "text/plain": "Text(0, 0.5, '[g CO2eq/MJ_H2]')"
     },
     "execution_count": 81,
     "metadata": {},
     "output_type": "execute_result"
    },
    {
     "data": {
      "text/plain": "<Figure size 432x288 with 1 Axes>",
      "image/png": "[encoded data removed]"
     },
     "metadata": {
      "needs_background": "light"
     },
     "output_type": "display_data"
    }
   ],
   "source": [
    "# Total emissions for grey hydrogen production at 0.02% upstream emissions and GWP100\n",
    "grey_low_GWP100 = 'Grey hydrogen 0.2% @GWP100'\n",
    "plt.bar(grey_low_GWP100, Direct_emissions_grey, width= 2, label='Direct emissions grey', bottom=Drive_CO2_emissions_grams_grey)\n",
    "plt.bar(grey_low_GWP100, Drive_CO2_emissions_grams_grey, width= 2, label='Drive emissions', bottom=Indirect_emissions)\n",
    "plt.bar(grey_low_GWP100, Indirect_emissions, width= 2, label = 'Emissions from natural gas transport and storage', bottom=upstream_emissions_GWP100_low)\n",
    "plt.bar(grey_low_GWP100, upstream_emissions_GWP100_low, width = 2, label = 'CH4 upstream emissions')\n",
    "plt.legend(loc='upper left')\n",
    "plt.ylabel('[g CO2eq/MJ_H2]')"
   ],
   "metadata": {
    "collapsed": false,
    "pycharm": {
     "name": "#%%\n"
    }
   }
  },
  {
   "cell_type": "code",
   "execution_count": 81,
   "outputs": [],
   "source": [],
   "metadata": {
    "collapsed": false,
    "pycharm": {
     "name": "#%%\n"
    }
   }
  },
  {
   "cell_type": "code",
   "execution_count": 82,
   "outputs": [
    {
     "data": {
      "text/plain": "Text(0, 0.5, '[g CO2eq/MJ_H2]')"
     },
     "execution_count": 82,
     "metadata": {},
     "output_type": "execute_result"
    },
    {
     "data": {
      "text/plain": "<Figure size 432x288 with 1 Axes>",
      "image/png": "[encoded data removed]"
     },
     "metadata": {
      "needs_background": "light"
     },
     "output_type": "display_data"
    }
   ],
   "source": [
    "# Total emissions for grey hydrogen production at 1.5% upstream emissions and GWP100\n",
    "grey = 'Grey hydrogen'\n",
    "plt.bar(grey, Direct_emissions_grey, width= 2, label='Direct emissions grey', bottom=Drive_CO2_emissions_grams_grey)\n",
    "plt.bar(grey, Drive_CO2_emissions_grams_grey, width= 2, label='Drive emissions', bottom=Indirect_emissions)\n",
    "plt.bar(grey, Indirect_emissions, width= 2, label = 'Emissions from natural gas transport and storage', bottom=upstream_emissions_GWP100_mid)\n",
    "plt.bar(grey, upstream_emissions_GWP100_mid, width = 2, label = 'CH4 upstream emissions')\n",
    "plt.legend(loc='upper left')\n",
    "plt.ylabel('[g CO2eq/MJ_H2]')\n"
   ],
   "metadata": {
    "collapsed": false,
    "pycharm": {
     "name": "#%%\n"
    }
   }
  },
  {
   "cell_type": "code",
   "execution_count": null,
   "outputs": [],
   "source": [
    "from matplotlib.patches import Rectangle\n",
    "import matplotlib.pyplot as plt\n",
    "import matplotlib.colors as mcolors\n",
    "\n",
    "\n",
    "def plot_colortable(colors, sort_colors=True, emptycols=0):\n",
    "\n",
    "    cell_width = 212\n",
    "    cell_height = 22\n",
    "    swatch_width = 48\n",
    "    margin = 12\n",
    "\n",
    "    # Sort colors by hue, saturation, value and name.\n",
    "    if sort_colors is True:\n",
    "        by_hsv = sorted((tuple(mcolors.rgb_to_hsv(mcolors.to_rgb(color))),\n",
    "                         name)\n",
    "                        for name, color in colors.items())\n",
    "        names = [name for hsv, name in by_hsv]\n",
    "    else:\n",
    "        names = list(colors)\n",
    "\n",
    "    n = len(names)\n",
    "    ncols = 4 - emptycols\n",
    "    nrows = n // ncols + int(n % ncols > 0)\n",
    "\n",
    "    width = cell_width * 4 + 2 * margin\n",
    "    height = cell_height * nrows + 2 * margin\n",
    "    dpi = 72\n",
    "\n",
    "    fig, ax = plt.subplots(figsize=(width / dpi, height / dpi), dpi=dpi)\n",
    "    fig.subplots_adjust(margin/width, margin/height,\n",
    "                        (width-margin)/width, (height-margin)/height)\n",
    "    ax.set_xlim(0, cell_width * 4)\n",
    "    ax.set_ylim(cell_height * (nrows-0.5), -cell_height/2.)\n",
    "    ax.yaxis.set_visible(False)\n",
    "    ax.xaxis.set_visible(False)\n",
    "    ax.set_axis_off()\n",
    "\n",
    "    for i, name in enumerate(names):\n",
    "        row = i % nrows\n",
    "        col = i // nrows\n",
    "        y = row * cell_height\n",
    "\n",
    "        swatch_start_x = cell_width * col\n",
    "        text_pos_x = cell_width * col + swatch_width + 7\n",
    "\n",
    "        ax.text(text_pos_x, y, name, fontsize=14,\n",
    "                horizontalalignment='left',\n",
    "                verticalalignment='center')\n",
    "\n",
    "        ax.add_patch(\n",
    "            Rectangle(xy=(swatch_start_x, y-9), width=swatch_width,\n",
    "                      height=18, facecolor=colors[name], edgecolor='0.7')\n",
    "        )\n",
    "\n",
    "    return fig\n",
    "plot_colortable(mcolors.CSS4_COLORS)\n",
    "plt.show()\n"
   ],
   "metadata": {
    "collapsed": false,
    "pycharm": {
     "name": "#%%\n"
    }
   }
  }
 ],
 "metadata": {
  "kernelspec": {
   "display_name": "Python 3",
   "language": "python",
   "name": "python3"
  },
  "language_info": {
   "codemirror_mode": {
    "name": "ipython",
    "version": 2
   },
   "file_extension": ".py",
   "mimetype": "text/x-python",
   "name": "python",
   "nbconvert_exporter": "python",
   "pygments_lexer": "ipython2",
   "version": "2.7.6"
  }
 },
 "nbformat": 4,
 "nbformat_minor": 0
}