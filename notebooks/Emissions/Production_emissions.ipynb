{
 "cells": [
  {
   "cell_type": "code",
   "execution_count": 4,
   "metadata": {
    "collapsed": true,
    "pycharm": {
     "name": "#%%\n"
    }
   },
   "outputs": [],
   "source": [
    "import numpy as np\n",
    "import pandas as pd\n",
    "from matplotlib import pyplot as plt\n",
    "import os\n",
    "from openpyxl import load_workbook\n",
    "import xlwings as xl"
   ]
  },
  {
   "cell_type": "code",
   "execution_count": 6,
   "outputs": [],
   "source": [
    "path = r'\\\\dena.de\\Daten\\Home\\Reuter\\Desktop\\H2_pathways_repo\\data\\raw\\H2_supply_route_assessment.xlsx'\n",
    "path_plt = r'\\\\dena.de\\Daten\\Home\\Reuter\\Desktop\\H2_pathways_repo\\Plots'\n",
    "path_csv = r'\\\\dena.de\\Daten\\Home\\Reuter\\Desktop\\H2_pathways_repo\\data\\interim'"
   ],
   "metadata": {
    "collapsed": false,
    "pycharm": {
     "name": "#%%\n"
    }
   }
  },
  {
   "cell_type": "code",
   "execution_count": 4,
   "outputs": [],
   "source": [
    "   def df_from_excel(path):\n",
    "    app = xl.App(visible=False)\n",
    "    book = app.books.open(path)\n",
    "    book.save()\n",
    "    app.kill()\n",
    "    return pd.read_excel(path)"
   ],
   "metadata": {
    "collapsed": false,
    "pycharm": {
     "name": "#%%\n"
    }
   }
  },
  {
   "cell_type": "code",
   "execution_count": 5,
   "outputs": [],
   "source": [
    "# adjust plotsize and font\n",
    "params = {'font.size': 11,\n",
    "          'font.weight': 'normal',\n",
    "          'font.family': 'arial',\n",
    "          'lines.linewidth': 2\n",
    "          }\n",
    "plt.rcParams.update(params)"
   ],
   "metadata": {
    "collapsed": false,
    "pycharm": {
     "name": "#%%\n"
    }
   }
  },
  {
   "cell_type": "markdown",
   "source": [
    "## Read inputs"
   ],
   "metadata": {
    "collapsed": false,
    "pycharm": {
     "name": "#%% md\n"
    }
   }
  },
  {
   "cell_type": "code",
   "execution_count": 7,
   "outputs": [
    {
     "data": {
      "text/plain": "                                                                                   Value  \\\nID                                                                                         \nGHG intensity of electricity generation [g CO2e...                                   NaN   \nGHG intensity of electricity generation [g CO2e...                                   NaN   \nGrey hydrogen emissions [g CO2/MJ H2] - Norway                                     96.77   \nGrey hydrogen emissions [kg CO2/kg H2] - Norway                                  11.6124   \nBlue hydrogen emissions [g CO2/MJ H2] - Norway                                       NaN   \n...                                                                                  ...   \nHydrogen leakage                                    Predicted Emission Confidence level    \nElectrolytic H2 production [% of produced H2]                                      0.092   \nElectrolytic H2 production [% of produced H2] w...                                0.0052   \nCCS enabled H2 production [% of produced H2]                                       0.005   \nLarge-scale transmission [% of transported hyod...                                0.0048   \n\n                                                                        Ref  \\\nID                                                                            \nGHG intensity of electricity generation [g CO2e...                 EEA 2022   \nGHG intensity of electricity generation [g CO2e...        Our world in Data   \nGrey hydrogen emissions [g CO2/MJ H2] - Norway      Own calculation @ GWP20   \nGrey hydrogen emissions [kg CO2/kg H2] - Norway     Own calculation @ GWP20   \nBlue hydrogen emissions [g CO2/MJ H2] - Norway      Own calculation @ GWP20   \n...                                                                     ...   \nHydrogen leakage                                                        Ref   \nElectrolytic H2 production [% of produced H2]                      DOE 2022   \nElectrolytic H2 production [% of produced H2] w...                 DOE 2022   \nCCS enabled H2 production [% of produced H2]                       DOE 2022   \nLarge-scale transmission [% of transported hyod...                 DOE 2022   \n\n                                                     1990   1991   1992  \\\nID                                                                        \nGHG intensity of electricity generation [g CO2e...  652.0  656.0  628.0   \nGHG intensity of electricity generation [g CO2e...    NaN    NaN    NaN   \nGrey hydrogen emissions [g CO2/MJ H2] - Norway        NaN    NaN    NaN   \nGrey hydrogen emissions [kg CO2/kg H2] - Norway       NaN    NaN    NaN   \nBlue hydrogen emissions [g CO2/MJ H2] - Norway        NaN    NaN    NaN   \n...                                                   ...    ...    ...   \nHydrogen leakage                                      NaN    NaN    NaN   \nElectrolytic H2 production [% of produced H2]         NaN    NaN    NaN   \nElectrolytic H2 production [% of produced H2] w...    NaN    NaN    NaN   \nCCS enabled H2 production [% of produced H2]          NaN    NaN    NaN   \nLarge-scale transmission [% of transported hyod...    NaN    NaN    NaN   \n\n                                                     1993   1994   1995  \\\nID                                                                        \nGHG intensity of electricity generation [g CO2e...  631.0  626.0  610.0   \nGHG intensity of electricity generation [g CO2e...    NaN    NaN    NaN   \nGrey hydrogen emissions [g CO2/MJ H2] - Norway        NaN    NaN    NaN   \nGrey hydrogen emissions [kg CO2/kg H2] - Norway       NaN    NaN    NaN   \nBlue hydrogen emissions [g CO2/MJ H2] - Norway        NaN    NaN    NaN   \n...                                                   ...    ...    ...   \nHydrogen leakage                                      NaN    NaN    NaN   \nElectrolytic H2 production [% of produced H2]         NaN    NaN    NaN   \nElectrolytic H2 production [% of produced H2] w...    NaN    NaN    NaN   \nCCS enabled H2 production [% of produced H2]          NaN    NaN    NaN   \nLarge-scale transmission [% of transported hyod...    NaN    NaN    NaN   \n\n                                                     1996   1997  ...  \\\nID                                                                ...   \nGHG intensity of electricity generation [g CO2e...  580.0  566.0  ...   \nGHG intensity of electricity generation [g CO2e...    NaN    NaN  ...   \nGrey hydrogen emissions [g CO2/MJ H2] - Norway        NaN    NaN  ...   \nGrey hydrogen emissions [kg CO2/kg H2] - Norway       NaN    NaN  ...   \nBlue hydrogen emissions [g CO2/MJ H2] - Norway        NaN    NaN  ...   \n...                                                   ...    ...  ...   \nHydrogen leakage                                      NaN    NaN  ...   \nElectrolytic H2 production [% of produced H2]         NaN    NaN  ...   \nElectrolytic H2 production [% of produced H2] w...    NaN    NaN  ...   \nCCS enabled H2 production [% of produced H2]          NaN    NaN  ...   \nLarge-scale transmission [% of transported hyod...    NaN    NaN  ...   \n\n                                                         2041      2042  \\\nID                                                                        \nGHG intensity of electricity generation [g CO2e...  62.592000  46.94400   \nGHG intensity of electricity generation [g CO2e...   7.783673   6.91882   \nGrey hydrogen emissions [g CO2/MJ H2] - Norway            NaN       NaN   \nGrey hydrogen emissions [kg CO2/kg H2] - Norway           NaN       NaN   \nBlue hydrogen emissions [g CO2/MJ H2] - Norway      25.499000  24.61800   \n...                                                       ...       ...   \nHydrogen leakage                                          NaN       NaN   \nElectrolytic H2 production [% of produced H2]             NaN       NaN   \nElectrolytic H2 production [% of produced H2] w...        NaN       NaN   \nCCS enabled H2 production [% of produced H2]              NaN       NaN   \nLarge-scale transmission [% of transported hyod...        NaN       NaN   \n\n                                                         2043       2044  \\\nID                                                                         \nGHG intensity of electricity generation [g CO2e...  31.296000  15.648000   \nGHG intensity of electricity generation [g CO2e...   6.053968   5.189115   \nGrey hydrogen emissions [g CO2/MJ H2] - Norway            NaN        NaN   \nGrey hydrogen emissions [kg CO2/kg H2] - Norway           NaN        NaN   \nBlue hydrogen emissions [g CO2/MJ H2] - Norway      23.737000  22.856000   \n...                                                       ...        ...   \nHydrogen leakage                                          NaN        NaN   \nElectrolytic H2 production [% of produced H2]             NaN        NaN   \nElectrolytic H2 production [% of produced H2] w...        NaN        NaN   \nCCS enabled H2 production [% of produced H2]              NaN        NaN   \nLarge-scale transmission [% of transported hyod...        NaN        NaN   \n\n                                                         2045      2046  \\\nID                                                                        \nGHG intensity of electricity generation [g CO2e...   0.000000   0.00000   \nGHG intensity of electricity generation [g CO2e...   4.324263   3.45941   \nGrey hydrogen emissions [g CO2/MJ H2] - Norway            NaN       NaN   \nGrey hydrogen emissions [kg CO2/kg H2] - Norway           NaN       NaN   \nBlue hydrogen emissions [g CO2/MJ H2] - Norway      21.975000  21.09400   \n...                                                       ...       ...   \nHydrogen leakage                                          NaN       NaN   \nElectrolytic H2 production [% of produced H2]             NaN       NaN   \nElectrolytic H2 production [% of produced H2] w...        NaN       NaN   \nCCS enabled H2 production [% of produced H2]              NaN       NaN   \nLarge-scale transmission [% of transported hyod...        NaN       NaN   \n\n                                                         2047       2048  \\\nID                                                                         \nGHG intensity of electricity generation [g CO2e...   0.000000   0.000000   \nGHG intensity of electricity generation [g CO2e...   2.594558   1.729705   \nGrey hydrogen emissions [g CO2/MJ H2] - Norway            NaN        NaN   \nGrey hydrogen emissions [kg CO2/kg H2] - Norway           NaN        NaN   \nBlue hydrogen emissions [g CO2/MJ H2] - Norway      20.213000  19.332000   \n...                                                       ...        ...   \nHydrogen leakage                                          NaN        NaN   \nElectrolytic H2 production [% of produced H2]             NaN        NaN   \nElectrolytic H2 production [% of produced H2] w...        NaN        NaN   \nCCS enabled H2 production [% of produced H2]              NaN        NaN   \nLarge-scale transmission [% of transported hyod...        NaN        NaN   \n\n                                                         2049   2050  \nID                                                                    \nGHG intensity of electricity generation [g CO2e...   0.000000   0.00  \nGHG intensity of electricity generation [g CO2e...   0.864853   0.00  \nGrey hydrogen emissions [g CO2/MJ H2] - Norway            NaN    NaN  \nGrey hydrogen emissions [kg CO2/kg H2] - Norway           NaN    NaN  \nBlue hydrogen emissions [g CO2/MJ H2] - Norway      18.451000  17.57  \n...                                                       ...    ...  \nHydrogen leakage                                          NaN    NaN  \nElectrolytic H2 production [% of produced H2]             NaN    NaN  \nElectrolytic H2 production [% of produced H2] w...        NaN    NaN  \nCCS enabled H2 production [% of produced H2]              NaN    NaN  \nLarge-scale transmission [% of transported hyod...        NaN    NaN  \n\n[65 rows x 63 columns]",
      "text/html": "<div>\n<style scoped>\n    .dataframe tbody tr th:only-of-type {\n        vertical-align: middle;\n    }\n\n    .dataframe tbody tr th {\n        vertical-align: top;\n    }\n\n    .dataframe thead th {\n        text-align: right;\n    }\n</style>\n<table border=\"1\" class=\"dataframe\">\n  <thead>\n    <tr style=\"text-align: right;\">\n      <th></th>\n      <th>Value</th>\n      <th>Ref</th>\n      <th>1990</th>\n      <th>1991</th>\n      <th>1992</th>\n      <th>1993</th>\n      <th>1994</th>\n      <th>1995</th>\n      <th>1996</th>\n      <th>1997</th>\n      <th>...</th>\n      <th>2041</th>\n      <th>2042</th>\n      <th>2043</th>\n      <th>2044</th>\n      <th>2045</th>\n      <th>2046</th>\n      <th>2047</th>\n      <th>2048</th>\n      <th>2049</th>\n      <th>2050</th>\n    </tr>\n    <tr>\n      <th>ID</th>\n      <th></th>\n      <th></th>\n      <th></th>\n      <th></th>\n      <th></th>\n      <th></th>\n      <th></th>\n      <th></th>\n      <th></th>\n      <th></th>\n      <th></th>\n      <th></th>\n      <th></th>\n      <th></th>\n      <th></th>\n      <th></th>\n      <th></th>\n      <th></th>\n      <th></th>\n      <th></th>\n      <th></th>\n    </tr>\n  </thead>\n  <tbody>\n    <tr>\n      <th>GHG intensity of electricity generation [g CO2eq/kWh] - Germany</th>\n      <td>NaN</td>\n      <td>EEA 2022</td>\n      <td>652.0</td>\n      <td>656.0</td>\n      <td>628.0</td>\n      <td>631.0</td>\n      <td>626.0</td>\n      <td>610.0</td>\n      <td>580.0</td>\n      <td>566.0</td>\n      <td>...</td>\n      <td>62.592000</td>\n      <td>46.94400</td>\n      <td>31.296000</td>\n      <td>15.648000</td>\n      <td>0.000000</td>\n      <td>0.00000</td>\n      <td>0.000000</td>\n      <td>0.000000</td>\n      <td>0.000000</td>\n      <td>0.00</td>\n    </tr>\n    <tr>\n      <th>GHG intensity of electricity generation [g CO2eq/kWh] - Norway</th>\n      <td>NaN</td>\n      <td>Our world in Data</td>\n      <td>NaN</td>\n      <td>NaN</td>\n      <td>NaN</td>\n      <td>NaN</td>\n      <td>NaN</td>\n      <td>NaN</td>\n      <td>NaN</td>\n      <td>NaN</td>\n      <td>...</td>\n      <td>7.783673</td>\n      <td>6.91882</td>\n      <td>6.053968</td>\n      <td>5.189115</td>\n      <td>4.324263</td>\n      <td>3.45941</td>\n      <td>2.594558</td>\n      <td>1.729705</td>\n      <td>0.864853</td>\n      <td>0.00</td>\n    </tr>\n    <tr>\n      <th>Grey hydrogen emissions [g CO2/MJ H2] - Norway</th>\n      <td>96.77</td>\n      <td>Own calculation @ GWP20</td>\n      <td>NaN</td>\n      <td>NaN</td>\n      <td>NaN</td>\n      <td>NaN</td>\n      <td>NaN</td>\n      <td>NaN</td>\n      <td>NaN</td>\n      <td>NaN</td>\n      <td>...</td>\n      <td>NaN</td>\n      <td>NaN</td>\n      <td>NaN</td>\n      <td>NaN</td>\n      <td>NaN</td>\n      <td>NaN</td>\n      <td>NaN</td>\n      <td>NaN</td>\n      <td>NaN</td>\n      <td>NaN</td>\n    </tr>\n    <tr>\n      <th>Grey hydrogen emissions [kg CO2/kg H2] - Norway</th>\n      <td>11.6124</td>\n      <td>Own calculation @ GWP20</td>\n      <td>NaN</td>\n      <td>NaN</td>\n      <td>NaN</td>\n      <td>NaN</td>\n      <td>NaN</td>\n      <td>NaN</td>\n      <td>NaN</td>\n      <td>NaN</td>\n      <td>...</td>\n      <td>NaN</td>\n      <td>NaN</td>\n      <td>NaN</td>\n      <td>NaN</td>\n      <td>NaN</td>\n      <td>NaN</td>\n      <td>NaN</td>\n      <td>NaN</td>\n      <td>NaN</td>\n      <td>NaN</td>\n    </tr>\n    <tr>\n      <th>Blue hydrogen emissions [g CO2/MJ H2] - Norway</th>\n      <td>NaN</td>\n      <td>Own calculation @ GWP20</td>\n      <td>NaN</td>\n      <td>NaN</td>\n      <td>NaN</td>\n      <td>NaN</td>\n      <td>NaN</td>\n      <td>NaN</td>\n      <td>NaN</td>\n      <td>NaN</td>\n      <td>...</td>\n      <td>25.499000</td>\n      <td>24.61800</td>\n      <td>23.737000</td>\n      <td>22.856000</td>\n      <td>21.975000</td>\n      <td>21.09400</td>\n      <td>20.213000</td>\n      <td>19.332000</td>\n      <td>18.451000</td>\n      <td>17.57</td>\n    </tr>\n    <tr>\n      <th>...</th>\n      <td>...</td>\n      <td>...</td>\n      <td>...</td>\n      <td>...</td>\n      <td>...</td>\n      <td>...</td>\n      <td>...</td>\n      <td>...</td>\n      <td>...</td>\n      <td>...</td>\n      <td>...</td>\n      <td>...</td>\n      <td>...</td>\n      <td>...</td>\n      <td>...</td>\n      <td>...</td>\n      <td>...</td>\n      <td>...</td>\n      <td>...</td>\n      <td>...</td>\n      <td>...</td>\n    </tr>\n    <tr>\n      <th>Hydrogen leakage</th>\n      <td>Predicted Emission Confidence level</td>\n      <td>Ref</td>\n      <td>NaN</td>\n      <td>NaN</td>\n      <td>NaN</td>\n      <td>NaN</td>\n      <td>NaN</td>\n      <td>NaN</td>\n      <td>NaN</td>\n      <td>NaN</td>\n      <td>...</td>\n      <td>NaN</td>\n      <td>NaN</td>\n      <td>NaN</td>\n      <td>NaN</td>\n      <td>NaN</td>\n      <td>NaN</td>\n      <td>NaN</td>\n      <td>NaN</td>\n      <td>NaN</td>\n      <td>NaN</td>\n    </tr>\n    <tr>\n      <th>Electrolytic H2 production [% of produced H2]</th>\n      <td>0.092</td>\n      <td>DOE 2022</td>\n      <td>NaN</td>\n      <td>NaN</td>\n      <td>NaN</td>\n      <td>NaN</td>\n      <td>NaN</td>\n      <td>NaN</td>\n      <td>NaN</td>\n      <td>NaN</td>\n      <td>...</td>\n      <td>NaN</td>\n      <td>NaN</td>\n      <td>NaN</td>\n      <td>NaN</td>\n      <td>NaN</td>\n      <td>NaN</td>\n      <td>NaN</td>\n      <td>NaN</td>\n      <td>NaN</td>\n      <td>NaN</td>\n    </tr>\n    <tr>\n      <th>Electrolytic H2 production [% of produced H2] w/ recombination</th>\n      <td>0.0052</td>\n      <td>DOE 2022</td>\n      <td>NaN</td>\n      <td>NaN</td>\n      <td>NaN</td>\n      <td>NaN</td>\n      <td>NaN</td>\n      <td>NaN</td>\n      <td>NaN</td>\n      <td>NaN</td>\n      <td>...</td>\n      <td>NaN</td>\n      <td>NaN</td>\n      <td>NaN</td>\n      <td>NaN</td>\n      <td>NaN</td>\n      <td>NaN</td>\n      <td>NaN</td>\n      <td>NaN</td>\n      <td>NaN</td>\n      <td>NaN</td>\n    </tr>\n    <tr>\n      <th>CCS enabled H2 production [% of produced H2]</th>\n      <td>0.005</td>\n      <td>DOE 2022</td>\n      <td>NaN</td>\n      <td>NaN</td>\n      <td>NaN</td>\n      <td>NaN</td>\n      <td>NaN</td>\n      <td>NaN</td>\n      <td>NaN</td>\n      <td>NaN</td>\n      <td>...</td>\n      <td>NaN</td>\n      <td>NaN</td>\n      <td>NaN</td>\n      <td>NaN</td>\n      <td>NaN</td>\n      <td>NaN</td>\n      <td>NaN</td>\n      <td>NaN</td>\n      <td>NaN</td>\n      <td>NaN</td>\n    </tr>\n    <tr>\n      <th>Large-scale transmission [% of transported hyodrogen]</th>\n      <td>0.0048</td>\n      <td>DOE 2022</td>\n      <td>NaN</td>\n      <td>NaN</td>\n      <td>NaN</td>\n      <td>NaN</td>\n      <td>NaN</td>\n      <td>NaN</td>\n      <td>NaN</td>\n      <td>NaN</td>\n      <td>...</td>\n      <td>NaN</td>\n      <td>NaN</td>\n      <td>NaN</td>\n      <td>NaN</td>\n      <td>NaN</td>\n      <td>NaN</td>\n      <td>NaN</td>\n      <td>NaN</td>\n      <td>NaN</td>\n      <td>NaN</td>\n    </tr>\n  </tbody>\n</table>\n<p>65 rows × 63 columns</p>\n</div>"
     },
     "execution_count": 7,
     "metadata": {},
     "output_type": "execute_result"
    }
   ],
   "source": [
    "GHG =  pd.read_excel(path, sheet_name='GHG Footprint',engine='openpyxl', decimal=',', index_col= 0)\n",
    "GHG"
   ],
   "metadata": {
    "collapsed": false,
    "pycharm": {
     "name": "#%%\n"
    }
   }
  },
  {
   "cell_type": "markdown",
   "source": [
    "# Definition of variables\n"
   ],
   "metadata": {
    "collapsed": false,
    "pycharm": {
     "name": "#%% md\n"
    }
   }
  },
  {
   "cell_type": "code",
   "execution_count": 8,
   "outputs": [
    {
     "data": {
      "text/plain": "4.128787878787879"
     },
     "execution_count": 8,
     "metadata": {},
     "output_type": "execute_result"
    }
   ],
   "source": [
    "# LHV H2 in moles per MJ\n",
    "LHV_H2_moles_MJ = float(GHG.loc['H2 LHV [mole/MJ]']['Value'])\n",
    "LHV_H2_moles_MJ"
   ],
   "metadata": {
    "collapsed": false,
    "pycharm": {
     "name": "#%%\n"
    }
   }
  },
  {
   "cell_type": "code",
   "execution_count": 9,
   "outputs": [
    {
     "data": {
      "text/plain": "1.0321969696969697"
     },
     "execution_count": 9,
     "metadata": {},
     "output_type": "execute_result"
    }
   ],
   "source": [
    "# CO2 produced during SMR @ 1 mole CO2 per 4 moles H2 [moles CO2/MJ]\n",
    "CO2_SMR_mole = LHV_H2_moles_MJ * 1/4\n",
    "CO2_SMR_mole"
   ],
   "metadata": {
    "collapsed": false,
    "pycharm": {
     "name": "#%%\n"
    }
   }
  },
  {
   "cell_type": "code",
   "execution_count": 10,
   "outputs": [
    {
     "data": {
      "text/plain": "44.01"
     },
     "execution_count": 10,
     "metadata": {},
     "output_type": "execute_result"
    }
   ],
   "source": [
    "\n",
    "# Molecular weight of CO2 [g/Mole]\n",
    "CO2_g_mole = float(GHG.loc['CO2 [g/Mole]']['Value'])\n",
    "CO2_g_mole"
   ],
   "metadata": {
    "collapsed": false,
    "pycharm": {
     "name": "#%%\n"
    }
   }
  },
  {
   "cell_type": "code",
   "execution_count": 11,
   "outputs": [
    {
     "data": {
      "text/plain": "0.55"
     },
     "execution_count": 11,
     "metadata": {},
     "output_type": "execute_result"
    }
   ],
   "source": [
    "# Capture rate syngas [%] low\n",
    "capture_rate_low = float(GHG.loc['Capture rate [%] low']['Value'])\n",
    "capture_rate_low"
   ],
   "metadata": {
    "collapsed": false,
    "pycharm": {
     "name": "#%%\n"
    }
   }
  },
  {
   "cell_type": "code",
   "execution_count": 12,
   "outputs": [
    {
     "data": {
      "text/plain": "0.8"
     },
     "execution_count": 12,
     "metadata": {},
     "output_type": "execute_result"
    }
   ],
   "source": [
    "# Capture rate syngas [%] mid\n",
    "capture_rate_mid = float(GHG.loc['Capture rate [%] mid']['Value'])\n",
    "capture_rate_mid"
   ],
   "metadata": {
    "collapsed": false,
    "pycharm": {
     "name": "#%%\n"
    }
   }
  },
  {
   "cell_type": "code",
   "execution_count": 13,
   "outputs": [
    {
     "data": {
      "text/plain": "0.95"
     },
     "execution_count": 13,
     "metadata": {},
     "output_type": "execute_result"
    }
   ],
   "source": [
    "# Capture rate syngas [%] high\n",
    "capture_rate_high = float(GHG.loc['Capture rate [%] high']['Value'])\n",
    "capture_rate_high"
   ],
   "metadata": {
    "collapsed": false,
    "pycharm": {
     "name": "#%%\n"
    }
   }
  },
  {
   "cell_type": "code",
   "execution_count": 14,
   "outputs": [
    {
     "data": {
      "text/plain": "16.04"
     },
     "execution_count": 14,
     "metadata": {},
     "output_type": "execute_result"
    }
   ],
   "source": [
    "# Molecular weight of CH4 [g/Mole]\n",
    "CH4_g_mole = float(GHG.loc['CH4 [g/Mole]']['Value'])\n",
    "CH4_g_mole"
   ],
   "metadata": {
    "collapsed": false,
    "pycharm": {
     "name": "#%%\n"
    }
   }
  },
  {
   "cell_type": "code",
   "execution_count": 15,
   "outputs": [
    {
     "data": {
      "text/plain": "0.1814"
     },
     "execution_count": 15,
     "metadata": {},
     "output_type": "execute_result"
    }
   ],
   "source": [
    "# Heat consumption to drive SMR in [MJ/mole_H2]\n",
    "Drive_Energy_MJ_mole_h2 = float(GHG.loc['Heat Input [MJ/mole_H2]']['Value'])\n",
    "Drive_Energy_MJ_mole_h2"
   ],
   "metadata": {
    "collapsed": false,
    "pycharm": {
     "name": "#%%\n"
    }
   }
  },
  {
   "cell_type": "code",
   "execution_count": 16,
   "outputs": [
    {
     "data": {
      "text/plain": "56.0"
     },
     "execution_count": 16,
     "metadata": {},
     "output_type": "execute_result"
    }
   ],
   "source": [
    "# Emission intensity of CH4 [g CO2/MJ]\n",
    "emission_intensity_CH4 = float(GHG.loc['Combustion emissions CH4 [g CO2/MJ]']['Value'])\n",
    "emission_intensity_CH4"
   ],
   "metadata": {
    "collapsed": false,
    "pycharm": {
     "name": "#%%\n"
    }
   }
  },
  {
   "cell_type": "code",
   "execution_count": 17,
   "outputs": [
    {
     "data": {
      "text/plain": "0.65"
     },
     "execution_count": 17,
     "metadata": {},
     "output_type": "execute_result"
    }
   ],
   "source": [
    "# Flue gas capture rate [%] low\n",
    "capture_rate_flue_gas_low = float(GHG.loc['Capture rate [%] flue gas low']['Value'])\n",
    "capture_rate_flue_gas_low"
   ],
   "metadata": {
    "collapsed": false,
    "pycharm": {
     "name": "#%%\n"
    }
   }
  },
  {
   "cell_type": "code",
   "execution_count": 18,
   "outputs": [
    {
     "data": {
      "text/plain": "0.9"
     },
     "execution_count": 18,
     "metadata": {},
     "output_type": "execute_result"
    }
   ],
   "source": [
    "# Flue gas capture rate [%] high\n",
    "capture_rate_flue_gas_high = float(GHG.loc['Capture rate [%] flue gas high']['Value'])\n",
    "capture_rate_flue_gas_high"
   ],
   "metadata": {
    "collapsed": false,
    "pycharm": {
     "name": "#%%\n"
    }
   }
  },
  {
   "cell_type": "code",
   "execution_count": 19,
   "outputs": [
    {
     "data": {
      "text/plain": "86.0"
     },
     "execution_count": 19,
     "metadata": {},
     "output_type": "execute_result"
    }
   ],
   "source": [
    "#GWP20 of methane\n",
    "GWP20_CH4 = float(GHG.loc['CH4 GWP20 [Years]']['Value'])\n",
    "GWP20_CH4"
   ],
   "metadata": {
    "collapsed": false,
    "pycharm": {
     "name": "#%%\n"
    }
   }
  },
  {
   "cell_type": "code",
   "execution_count": 20,
   "outputs": [
    {
     "data": {
      "text/plain": "30.0"
     },
     "execution_count": 20,
     "metadata": {},
     "output_type": "execute_result"
    }
   ],
   "source": [
    "#GWP100 of methane\n",
    "GWP100_CH4 = float(GHG.loc['CH4 GWP100 [Years]']['Value'])\n",
    "GWP100_CH4"
   ],
   "metadata": {
    "collapsed": false,
    "pycharm": {
     "name": "#%%\n"
    }
   }
  },
  {
   "cell_type": "code",
   "execution_count": 21,
   "outputs": [
    {
     "data": {
      "text/plain": "0.002"
     },
     "execution_count": 21,
     "metadata": {},
     "output_type": "execute_result"
    }
   ],
   "source": [
    "# Methane leakage rate in %\n",
    "leakage_rate_low = float(GHG.loc['Upstream methane leakage rate [%] low']['Value'])\n",
    "leakage_rate_low"
   ],
   "metadata": {
    "collapsed": false,
    "pycharm": {
     "name": "#%%\n"
    }
   }
  },
  {
   "cell_type": "code",
   "execution_count": 22,
   "outputs": [
    {
     "data": {
      "text/plain": "0.015"
     },
     "execution_count": 22,
     "metadata": {},
     "output_type": "execute_result"
    }
   ],
   "source": [
    "# Methane leakage rate in %\n",
    "leakage_rate_mid = float(GHG.loc['Upstream methane leakage rate [%] mid']['Value'])\n",
    "leakage_rate_mid"
   ],
   "metadata": {
    "collapsed": false,
    "pycharm": {
     "name": "#%%\n"
    }
   }
  },
  {
   "cell_type": "code",
   "execution_count": 23,
   "outputs": [
    {
     "data": {
      "text/plain": "0.08"
     },
     "execution_count": 23,
     "metadata": {},
     "output_type": "execute_result"
    }
   ],
   "source": [
    "# Methane leakage rate in %\n",
    "leakage_rate_high = float(GHG.loc['Upstream methane leakage rate [%] high']['Value'])\n",
    "leakage_rate_high"
   ],
   "metadata": {
    "collapsed": false,
    "pycharm": {
     "name": "#%%\n"
    }
   }
  },
  {
   "cell_type": "markdown",
   "source": [
    "# Direct emissions from SMR"
   ],
   "metadata": {
    "collapsed": false,
    "pycharm": {
     "name": "#%% md\n"
    }
   }
  },
  {
   "cell_type": "code",
   "execution_count": 24,
   "outputs": [
    {
     "data": {
      "text/plain": "45.42698863636364"
     },
     "execution_count": 24,
     "metadata": {},
     "output_type": "execute_result"
    }
   ],
   "source": [
    "# CO2 emissions from SMR process [g CO2/MJ]\n",
    "Direct_emissions_grey = CO2_g_mole * CO2_SMR_mole\n",
    "Direct_emissions_grey"
   ],
   "metadata": {
    "collapsed": false,
    "pycharm": {
     "name": "#%%\n"
    }
   }
  },
  {
   "cell_type": "code",
   "execution_count": 25,
   "outputs": [
    {
     "data": {
      "text/plain": "20.442144886363636"
     },
     "execution_count": 25,
     "metadata": {},
     "output_type": "execute_result"
    }
   ],
   "source": [
    "# CO2 emissions from SMR @ 55% capture rate [g CO2/MJ]\n",
    "Direct_emissions_low = Direct_emissions_grey * (1-capture_rate_low)\n",
    "Direct_emissions_low"
   ],
   "metadata": {
    "collapsed": false,
    "pycharm": {
     "name": "#%%\n"
    }
   }
  },
  {
   "cell_type": "code",
   "execution_count": 26,
   "outputs": [
    {
     "data": {
      "text/plain": "9.085397727272726"
     },
     "execution_count": 26,
     "metadata": {},
     "output_type": "execute_result"
    }
   ],
   "source": [
    "# CO2 emissions from SMR @ 55% capture rate [g CO2/MJ]\n",
    "Direct_emissions_mid = Direct_emissions_grey * (1-capture_rate_mid)\n",
    "Direct_emissions_mid"
   ],
   "metadata": {
    "collapsed": false,
    "pycharm": {
     "name": "#%%\n"
    }
   }
  },
  {
   "cell_type": "code",
   "execution_count": 27,
   "outputs": [
    {
     "data": {
      "text/plain": "2.271349431818184"
     },
     "execution_count": 27,
     "metadata": {},
     "output_type": "execute_result"
    }
   ],
   "source": [
    "# CO2 emissions from SMR @ 55% capture rate [g CO2/MJ]\n",
    "Direct_emissions_high = Direct_emissions_grey * (1-capture_rate_high)\n",
    "Direct_emissions_high"
   ],
   "metadata": {
    "collapsed": false,
    "pycharm": {
     "name": "#%%\n"
    }
   }
  },
  {
   "cell_type": "code",
   "execution_count": 28,
   "outputs": [
    {
     "data": {
      "text/plain": "16.5212"
     },
     "execution_count": 28,
     "metadata": {},
     "output_type": "execute_result"
    }
   ],
   "source": [
    "#CH4 consumed during SMR @ 1 mole CH4 per 4 moles H2 [g CH4/MJ]\n",
    "CH4_SMR_grams = 1.03 * CH4_g_mole\n",
    "CH4_SMR_grams\n"
   ],
   "metadata": {
    "collapsed": false,
    "pycharm": {
     "name": "#%%\n"
    }
   }
  },
  {
   "cell_type": "markdown",
   "source": [
    "Emissions from energy to drive SMR"
   ],
   "metadata": {
    "collapsed": false,
    "pycharm": {
     "name": "#%% md\n"
    }
   }
  },
  {
   "cell_type": "markdown",
   "source": [
    "## w/o flue gas capture (Grey)"
   ],
   "metadata": {
    "collapsed": false,
    "pycharm": {
     "name": "#%% md\n"
    }
   }
  },
  {
   "cell_type": "code",
   "execution_count": 29,
   "outputs": [
    {
     "data": {
      "text/plain": "10.1584"
     },
     "execution_count": 29,
     "metadata": {},
     "output_type": "execute_result"
    }
   ],
   "source": [
    "# When burning natural gas for heat production CO2 is emitted [CO2/mole_H2]\n",
    "Drive_CO2_emissions_mole = Drive_Energy_MJ_mole_h2 * emission_intensity_CH4\n",
    "Drive_CO2_emissions_mole"
   ],
   "metadata": {
    "collapsed": false,
    "pycharm": {
     "name": "#%%\n"
    }
   }
  },
  {
   "cell_type": "markdown",
   "source": [],
   "metadata": {
    "collapsed": false,
    "pycharm": {
     "name": "#%% md\n"
    }
   }
  },
  {
   "cell_type": "code",
   "execution_count": 30,
   "outputs": [
    {
     "data": {
      "text/plain": "41.94187878787879"
     },
     "execution_count": 30,
     "metadata": {},
     "output_type": "execute_result"
    }
   ],
   "source": [
    "# CO2 emissions per MJ hydrogen in order to create heat and pressure - w/o flue gas capture [g CO2/MJ_H2]\n",
    "Drive_CO2_emissions_grams_grey = Drive_CO2_emissions_mole * LHV_H2_moles_MJ\n",
    "Drive_CO2_emissions_grams_grey"
   ],
   "metadata": {
    "collapsed": false,
    "pycharm": {
     "name": "#%%\n"
    }
   }
  },
  {
   "cell_type": "markdown",
   "source": [
    "## w/o flue gas capture (blue)"
   ],
   "metadata": {
    "collapsed": false,
    "pycharm": {
     "name": "#%% md\n"
    }
   }
  },
  {
   "cell_type": "code",
   "execution_count": 31,
   "outputs": [
    {
     "data": {
      "text/plain": "14.679657575757576"
     },
     "execution_count": 31,
     "metadata": {},
     "output_type": "execute_result"
    }
   ],
   "source": [
    "# CO2 emissions drive with flue gas capture - low [g CO2/MJ]\n",
    "Drive_CO2_emissions_grams_blue_flue_low = Drive_CO2_emissions_grams_grey * (1 - capture_rate_flue_gas_low)\n",
    "Drive_CO2_emissions_grams_blue_flue_low"
   ],
   "metadata": {
    "collapsed": false,
    "pycharm": {
     "name": "#%%\n"
    }
   }
  },
  {
   "cell_type": "code",
   "execution_count": 32,
   "outputs": [
    {
     "data": {
      "text/plain": "4.194187878787878"
     },
     "execution_count": 32,
     "metadata": {},
     "output_type": "execute_result"
    }
   ],
   "source": [
    "# CO2 emissions drive with flue gas capture - high [g CO2/MJ]\n",
    "Drive_CO2_emissions_grams_blue_flue_high = Drive_CO2_emissions_grams_grey * (1 - capture_rate_flue_gas_high)\n",
    "Drive_CO2_emissions_grams_blue_flue_high"
   ],
   "metadata": {
    "collapsed": false,
    "pycharm": {
     "name": "#%%\n"
    }
   }
  },
  {
   "cell_type": "markdown",
   "source": [],
   "metadata": {
    "collapsed": false,
    "pycharm": {
     "name": "#%% md\n"
    }
   }
  },
  {
   "cell_type": "markdown",
   "source": [
    "# Check this cell!!"
   ],
   "metadata": {
    "collapsed": false,
    "pycharm": {
     "name": "#%% md\n"
    }
   }
  },
  {
   "cell_type": "code",
   "execution_count": 33,
   "outputs": [
    {
     "data": {
      "text/plain": "0.06611351965462395"
     },
     "execution_count": 33,
     "metadata": {},
     "output_type": "execute_result"
    }
   ],
   "source": [
    "# CH4 consumed to drive the process [g CH4/MJ_H2]\n",
    "Drive_CH4_consumed = Drive_Energy_MJ_mole_h2 * 1/CO2_g_mole * CH4_g_mole\n",
    "Drive_CH4_consumed"
   ],
   "metadata": {
    "collapsed": false,
    "pycharm": {
     "name": "#%%\n"
    }
   }
  },
  {
   "cell_type": "markdown",
   "source": [
    "# Total direct CO2 emissions"
   ],
   "metadata": {
    "collapsed": false,
    "pycharm": {
     "name": "#%% md\n"
    }
   }
  },
  {
   "cell_type": "markdown",
   "source": [
    "## Without flue gas capture"
   ],
   "metadata": {
    "collapsed": false,
    "pycharm": {
     "name": "#%% md\n"
    }
   }
  },
  {
   "cell_type": "code",
   "execution_count": 34,
   "outputs": [
    {
     "data": {
      "text/plain": "87.36886742424244"
     },
     "execution_count": 34,
     "metadata": {},
     "output_type": "execute_result"
    }
   ],
   "source": [
    "# Total CO2 emissions to produce grey hydrogen [g CO2/MJ_H2]\n",
    "Total_CO2_emissions_grey = Direct_emissions_grey + Drive_CO2_emissions_grams_grey\n",
    "Total_CO2_emissions_grey"
   ],
   "metadata": {
    "collapsed": false,
    "pycharm": {
     "name": "#%%\n"
    }
   }
  },
  {
   "cell_type": "code",
   "execution_count": 35,
   "outputs": [
    {
     "data": {
      "text/plain": "62.38402367424243"
     },
     "execution_count": 35,
     "metadata": {},
     "output_type": "execute_result"
    }
   ],
   "source": [
    "# Total CO2 emissions to produce grey hydrogen [g CO2/MJ_H2]\n",
    "Total_CO2_emissions_blue_low_no_fluegas = Direct_emissions_low + Drive_CO2_emissions_grams_grey\n",
    "Total_CO2_emissions_blue_low_no_fluegas"
   ],
   "metadata": {
    "collapsed": false,
    "pycharm": {
     "name": "#%%\n"
    }
   }
  },
  {
   "cell_type": "code",
   "execution_count": 36,
   "outputs": [
    {
     "data": {
      "text/plain": "51.02727651515152"
     },
     "execution_count": 36,
     "metadata": {},
     "output_type": "execute_result"
    }
   ],
   "source": [
    "# Total CO2 emissions to produce grey hydrogen [g CO2/MJ_H2]\n",
    "Total_CO2_emissions_blue_mid_no_fluegas = Direct_emissions_mid + Drive_CO2_emissions_grams_grey\n",
    "Total_CO2_emissions_blue_mid_no_fluegas"
   ],
   "metadata": {
    "collapsed": false,
    "pycharm": {
     "name": "#%%\n"
    }
   }
  },
  {
   "cell_type": "code",
   "execution_count": 37,
   "outputs": [
    {
     "data": {
      "text/plain": "44.21322821969698"
     },
     "execution_count": 37,
     "metadata": {},
     "output_type": "execute_result"
    }
   ],
   "source": [
    "# Total CO2 emissions to produce grey hydrogen [g CO2/MJ_H2]\n",
    "Total_CO2_emissions_blue_high_no_fluegas = Direct_emissions_high + Drive_CO2_emissions_grams_grey\n",
    "Total_CO2_emissions_blue_high_no_fluegas"
   ],
   "metadata": {
    "collapsed": false,
    "pycharm": {
     "name": "#%%\n"
    }
   }
  },
  {
   "cell_type": "markdown",
   "source": [
    "## With flue gas capture"
   ],
   "metadata": {
    "collapsed": false,
    "pycharm": {
     "name": "#%% md\n"
    }
   }
  },
  {
   "cell_type": "markdown",
   "source": [
    "### low (65%)"
   ],
   "metadata": {
    "collapsed": false,
    "pycharm": {
     "name": "#%% md\n"
    }
   }
  },
  {
   "cell_type": "code",
   "execution_count": 38,
   "outputs": [
    {
     "data": {
      "text/plain": "35.12180246212121"
     },
     "execution_count": 38,
     "metadata": {},
     "output_type": "execute_result"
    }
   ],
   "source": [
    "# Total CO2 emissions to produce grey hydrogen [g CO2/MJ_H2]\n",
    "Total_CO2_emissions_blue_low_with_fluegas_low = Direct_emissions_low + Drive_CO2_emissions_grams_blue_flue_low\n",
    "Total_CO2_emissions_blue_low_with_fluegas_low"
   ],
   "metadata": {
    "collapsed": false,
    "pycharm": {
     "name": "#%%\n"
    }
   }
  },
  {
   "cell_type": "code",
   "execution_count": 39,
   "outputs": [
    {
     "data": {
      "text/plain": "23.7650553030303"
     },
     "execution_count": 39,
     "metadata": {},
     "output_type": "execute_result"
    }
   ],
   "source": [
    "# Total CO2 emissions to produce grey hydrogen [g CO2/MJ_H2]\n",
    "Total_CO2_emissions_blue_mid_with_fluegas_low = Direct_emissions_mid + Drive_CO2_emissions_grams_blue_flue_low\n",
    "Total_CO2_emissions_blue_mid_with_fluegas_low"
   ],
   "metadata": {
    "collapsed": false,
    "pycharm": {
     "name": "#%%\n"
    }
   }
  },
  {
   "cell_type": "code",
   "execution_count": 40,
   "outputs": [
    {
     "data": {
      "text/plain": "16.95100700757576"
     },
     "execution_count": 40,
     "metadata": {},
     "output_type": "execute_result"
    }
   ],
   "source": [
    "# Total CO2 emissions to produce grey hydrogen [g CO2/MJ_H2]\n",
    "Total_CO2_emissions_blue_high_with_fluegas_low = Direct_emissions_high + Drive_CO2_emissions_grams_blue_flue_low\n",
    "Total_CO2_emissions_blue_high_with_fluegas_low"
   ],
   "metadata": {
    "collapsed": false,
    "pycharm": {
     "name": "#%%\n"
    }
   }
  },
  {
   "cell_type": "markdown",
   "source": [
    "### high (90%)"
   ],
   "metadata": {
    "collapsed": false,
    "pycharm": {
     "name": "#%% md\n"
    }
   }
  },
  {
   "cell_type": "code",
   "execution_count": 41,
   "outputs": [
    {
     "data": {
      "text/plain": "24.636332765151515"
     },
     "execution_count": 41,
     "metadata": {},
     "output_type": "execute_result"
    }
   ],
   "source": [
    "# Total CO2 emissions to produce grey hydrogen [g CO2/MJ_H2]\n",
    "Total_CO2_emissions_blue_low_with_fluegas_high = Direct_emissions_low + Drive_CO2_emissions_grams_blue_flue_high\n",
    "Total_CO2_emissions_blue_low_with_fluegas_high"
   ],
   "metadata": {
    "collapsed": false,
    "pycharm": {
     "name": "#%%\n"
    }
   }
  },
  {
   "cell_type": "code",
   "execution_count": 42,
   "outputs": [
    {
     "data": {
      "text/plain": "13.279585606060603"
     },
     "execution_count": 42,
     "metadata": {},
     "output_type": "execute_result"
    }
   ],
   "source": [
    "# Total CO2 emissions to produce grey hydrogen [g CO2/MJ_H2]\n",
    "Total_CO2_emissions_blue_mid_with_fluegas_high = Direct_emissions_mid + Drive_CO2_emissions_grams_blue_flue_high\n",
    "Total_CO2_emissions_blue_mid_with_fluegas_high"
   ],
   "metadata": {
    "collapsed": false,
    "pycharm": {
     "name": "#%%\n"
    }
   }
  },
  {
   "cell_type": "code",
   "execution_count": 43,
   "outputs": [
    {
     "data": {
      "text/plain": "6.465537310606063"
     },
     "execution_count": 43,
     "metadata": {},
     "output_type": "execute_result"
    }
   ],
   "source": [
    "# Total CO2 emissions to produce grey hydrogen [g CO2/MJ_H2]\n",
    "Total_CO2_emissions_blue_high_with_fluegas_high = Direct_emissions_high + Drive_CO2_emissions_grams_blue_flue_high\n",
    "Total_CO2_emissions_blue_high_with_fluegas_high"
   ],
   "metadata": {
    "collapsed": false,
    "pycharm": {
     "name": "#%%\n"
    }
   }
  },
  {
   "cell_type": "markdown",
   "source": [
    "## Indirect emissions from natural gas transport and storage"
   ],
   "metadata": {
    "collapsed": false,
    "pycharm": {
     "name": "#%% md\n"
    }
   }
  },
  {
   "cell_type": "code",
   "execution_count": 44,
   "outputs": [
    {
     "data": {
      "text/plain": "6.552665056818182"
     },
     "execution_count": 44,
     "metadata": {},
     "output_type": "execute_result"
    }
   ],
   "source": [
    "# Indirect emissions from natural gas transport and storage [g CO2/MJ_H2]\n",
    "Indirect_emissions = Total_CO2_emissions_grey * 0.075\n",
    "Indirect_emissions"
   ],
   "metadata": {
    "collapsed": false,
    "pycharm": {
     "name": "#%%\n"
    }
   }
  },
  {
   "cell_type": "code",
   "execution_count": 44,
   "outputs": [],
   "source": [],
   "metadata": {
    "collapsed": false,
    "pycharm": {
     "name": "#%%\n"
    }
   }
  },
  {
   "cell_type": "markdown",
   "source": [],
   "metadata": {
    "collapsed": false,
    "pycharm": {
     "name": "#%% md\n"
    }
   }
  },
  {
   "cell_type": "markdown",
   "source": [
    "# CH4 upstream emissions"
   ],
   "metadata": {
    "collapsed": false,
    "pycharm": {
     "name": "#%% md\n"
    }
   }
  },
  {
   "cell_type": "code",
   "execution_count": 45,
   "outputs": [
    {
     "data": {
      "text/plain": "16.587313519654625"
     },
     "execution_count": 45,
     "metadata": {},
     "output_type": "execute_result"
    }
   ],
   "source": [
    "# CH4 consumption as feedstock and energy to drive SMR [g CH4/MJ_H2]\n",
    "Total_methane_SMR = CH4_SMR_grams + Drive_CH4_consumed\n",
    "Total_methane_SMR"
   ],
   "metadata": {
    "collapsed": false,
    "pycharm": {
     "name": "#%%\n"
    }
   }
  },
  {
   "cell_type": "code",
   "execution_count": 46,
   "outputs": [
    {
     "data": {
      "text/plain": "0.03317462703930925"
     },
     "execution_count": 46,
     "metadata": {},
     "output_type": "execute_result"
    }
   ],
   "source": [
    "# Quantity of methane consumed to produce grey hydrogen [g CH4/MJ_H2]\n",
    "upstream_emissions_CH4_low = leakage_rate_low * Total_methane_SMR\n",
    "upstream_emissions_CH4_low"
   ],
   "metadata": {
    "collapsed": false,
    "pycharm": {
     "name": "#%%\n"
    }
   }
  },
  {
   "cell_type": "code",
   "execution_count": 47,
   "outputs": [
    {
     "data": {
      "text/plain": "0.24880970279481937"
     },
     "execution_count": 47,
     "metadata": {},
     "output_type": "execute_result"
    }
   ],
   "source": [
    "# Quantity of methane consumed to produce grey hydrogen [g CH4/MJ_H2]\n",
    "upstream_emissions_CH4_mid = leakage_rate_mid * Total_methane_SMR\n",
    "upstream_emissions_CH4_mid"
   ],
   "metadata": {
    "collapsed": false,
    "pycharm": {
     "name": "#%%\n"
    }
   }
  },
  {
   "cell_type": "code",
   "execution_count": 48,
   "outputs": [
    {
     "data": {
      "text/plain": "1.32698508157237"
     },
     "execution_count": 48,
     "metadata": {},
     "output_type": "execute_result"
    }
   ],
   "source": [
    "# Quantity of methane consumed to produce grey hydrogen [g CH4/MJ_H2]\n",
    "upstream_emissions_CH4_high = leakage_rate_high * Total_methane_SMR\n",
    "upstream_emissions_CH4_high"
   ],
   "metadata": {
    "collapsed": false,
    "pycharm": {
     "name": "#%%\n"
    }
   }
  },
  {
   "cell_type": "code",
   "execution_count": 49,
   "outputs": [],
   "source": [
    "# Upstream emissions at GWP20 of CH4 [g CO2e/MJ_H2]\n",
    "upstream_emissions_GWP20_low = upstream_emissions_CH4_low * GWP20_CH4\n",
    "upstream_emissions_GWP20_low = leakage_rate_low * Total_methane_SMR * GWP20_CH4\n"
   ],
   "metadata": {
    "collapsed": false,
    "pycharm": {
     "name": "#%%\n"
    }
   }
  },
  {
   "cell_type": "code",
   "execution_count": 50,
   "outputs": [
    {
     "data": {
      "text/plain": "21.397634440354466"
     },
     "execution_count": 50,
     "metadata": {},
     "output_type": "execute_result"
    }
   ],
   "source": [
    "# Upstream emissions at GWP20 of CH4 [g CO2e/MJ_H2]\n",
    "upstream_emissions_GWP20_mid = upstream_emissions_CH4_mid * GWP20_CH4\n",
    "upstream_emissions_GWP20_mid"
   ],
   "metadata": {
    "collapsed": false,
    "pycharm": {
     "name": "#%%\n"
    }
   }
  },
  {
   "cell_type": "code",
   "execution_count": 51,
   "outputs": [
    {
     "data": {
      "text/plain": "114.12071701522382"
     },
     "execution_count": 51,
     "metadata": {},
     "output_type": "execute_result"
    }
   ],
   "source": [
    "# Upstream emissions at GWP20 of CH4 [g CO2e/MJ_H2]\n",
    "upstream_emissions_GWP20_high = upstream_emissions_CH4_high * GWP20_CH4\n",
    "upstream_emissions_GWP20_high"
   ],
   "metadata": {
    "collapsed": false,
    "pycharm": {
     "name": "#%%\n"
    }
   }
  },
  {
   "cell_type": "code",
   "execution_count": 52,
   "outputs": [
    {
     "data": {
      "text/plain": "0.9952388111792775"
     },
     "execution_count": 52,
     "metadata": {},
     "output_type": "execute_result"
    }
   ],
   "source": [
    "# Upstream emissions at GWP100 of CH4 [g CO2e/MJ_H2]\n",
    "upstream_emissions_GWP100_low = upstream_emissions_CH4_low * GWP100_CH4\n",
    "upstream_emissions_GWP100_low"
   ],
   "metadata": {
    "collapsed": false,
    "pycharm": {
     "name": "#%%\n"
    }
   }
  },
  {
   "cell_type": "code",
   "execution_count": 53,
   "outputs": [
    {
     "data": {
      "text/plain": "7.464291083844581"
     },
     "execution_count": 53,
     "metadata": {},
     "output_type": "execute_result"
    }
   ],
   "source": [
    "# Upstream emissions at GWP100 of CH4 [g CO2e/MJ_H2]\n",
    "upstream_emissions_GWP100_mid = upstream_emissions_CH4_mid * GWP100_CH4\n",
    "upstream_emissions_GWP100_mid"
   ],
   "metadata": {
    "collapsed": false,
    "pycharm": {
     "name": "#%%\n"
    }
   }
  },
  {
   "cell_type": "code",
   "execution_count": 54,
   "outputs": [
    {
     "data": {
      "text/plain": "39.8095524471711"
     },
     "execution_count": 54,
     "metadata": {},
     "output_type": "execute_result"
    }
   ],
   "source": [
    "# Upstream emissions at GWP100 of CH4 [g CO2e/MJ_H2]\n",
    "upstream_emissions_GWP100_high = upstream_emissions_CH4_high * GWP100_CH4\n",
    "upstream_emissions_GWP100_high"
   ],
   "metadata": {
    "collapsed": false,
    "pycharm": {
     "name": "#%%\n"
    }
   }
  },
  {
   "cell_type": "markdown",
   "source": [
    "# Total emissions"
   ],
   "metadata": {
    "collapsed": false,
    "pycharm": {
     "name": "#%% md\n"
    }
   }
  },
  {
   "cell_type": "code",
   "execution_count": 55,
   "outputs": [
    {
     "data": {
      "text/plain": "93.92153248106062"
     },
     "execution_count": 55,
     "metadata": {},
     "output_type": "execute_result"
    }
   ],
   "source": [
    "# Total CO2 emissions including indirect emissions from natural gas transport and storage\n",
    "Total_CO2_emissions = Total_CO2_emissions_grey + Indirect_emissions\n",
    "Total_CO2_emissions"
   ],
   "metadata": {
    "collapsed": false,
    "pycharm": {
     "name": "#%%\n"
    }
   }
  },
  {
   "cell_type": "markdown",
   "source": [
    "## w/o flue gas capture"
   ],
   "metadata": {
    "collapsed": false,
    "pycharm": {
     "name": "#%% md\n"
    }
   }
  },
  {
   "cell_type": "markdown",
   "source": [
    "### @ GWP20"
   ],
   "metadata": {
    "collapsed": false,
    "pycharm": {
     "name": "#%% md\n"
    }
   }
  },
  {
   "cell_type": "code",
   "execution_count": 56,
   "outputs": [
    {
     "data": {
      "text/plain": "96.77455040644122"
     },
     "execution_count": 56,
     "metadata": {},
     "output_type": "execute_result"
    }
   ],
   "source": [
    "# Total Emissions for grey hydrogen: CO2 + fugitive CH4 [g CO2e/MJ]\n",
    "Total_emissions_grey_GWP20_low = Total_CO2_emissions_grey + Indirect_emissions + upstream_emissions_GWP20_low\n",
    "Total_emissions_grey_GWP20_low"
   ],
   "metadata": {
    "collapsed": false,
    "pycharm": {
     "name": "#%%\n"
    }
   }
  },
  {
   "cell_type": "code",
   "execution_count": 57,
   "outputs": [
    {
     "data": {
      "text/plain": "115.31916692141509"
     },
     "execution_count": 57,
     "metadata": {},
     "output_type": "execute_result"
    }
   ],
   "source": [
    "# Total Emissions for grey hydrogen: CO2 + fugitive CH4 [g CO2e/MJ]\n",
    "Total_emissions_grey_GWP20_mid = Total_CO2_emissions_grey + Indirect_emissions + upstream_emissions_GWP20_mid\n",
    "Total_emissions_grey_GWP20_mid\n"
   ],
   "metadata": {
    "collapsed": false,
    "pycharm": {
     "name": "#%%\n"
    }
   }
  },
  {
   "cell_type": "code",
   "execution_count": 58,
   "outputs": [
    {
     "data": {
      "text/plain": "208.04224949628446"
     },
     "execution_count": 58,
     "metadata": {},
     "output_type": "execute_result"
    }
   ],
   "source": [
    "# Total Emissions for grey hydrogen: CO2 + fugitive CH4 [g CO2e/MJ]\n",
    "Total_emissions_grey_GWP20_high = Total_CO2_emissions_grey + Indirect_emissions + upstream_emissions_GWP20_high\n",
    "Total_emissions_grey_GWP20_high"
   ],
   "metadata": {
    "collapsed": false,
    "pycharm": {
     "name": "#%%\n"
    }
   }
  },
  {
   "cell_type": "markdown",
   "source": [
    "### @ GWP100"
   ],
   "metadata": {
    "collapsed": false,
    "pycharm": {
     "name": "#%% md\n"
    }
   }
  },
  {
   "cell_type": "code",
   "execution_count": 59,
   "outputs": [
    {
     "data": {
      "text/plain": "94.9167712922399"
     },
     "execution_count": 59,
     "metadata": {},
     "output_type": "execute_result"
    }
   ],
   "source": [
    "# Total Emissions for grey hydrogen: CO2 + fugitive CH4 [g CO2e/MJ]\n",
    "Total_emissions_grey_GWP100_low = Total_CO2_emissions + upstream_emissions_GWP100_low\n",
    "Total_emissions_grey_GWP100_low"
   ],
   "metadata": {
    "collapsed": false,
    "pycharm": {
     "name": "#%%\n"
    }
   }
  },
  {
   "cell_type": "code",
   "execution_count": 60,
   "outputs": [
    {
     "data": {
      "text/plain": "101.38582356490521"
     },
     "execution_count": 60,
     "metadata": {},
     "output_type": "execute_result"
    }
   ],
   "source": [
    "# Total Emissions for grey hydrogen: CO2 + fugitive CH4 [g CO2e/MJ]\n",
    "Total_emissions_grey_GWP100_mid = Total_CO2_emissions + upstream_emissions_GWP100_mid\n",
    "Total_emissions_grey_GWP100_mid"
   ],
   "metadata": {
    "collapsed": false,
    "pycharm": {
     "name": "#%%\n"
    }
   }
  },
  {
   "cell_type": "code",
   "execution_count": 61,
   "outputs": [
    {
     "data": {
      "text/plain": "133.73108492823172"
     },
     "execution_count": 61,
     "metadata": {},
     "output_type": "execute_result"
    }
   ],
   "source": [
    "# Total Emissions for grey hydrogen: CO2 + fugitive CH4 [g CO2e/MJ]\n",
    "Total_emissions_grey_GWP100_high = Total_CO2_emissions + upstream_emissions_GWP100_high\n",
    "Total_emissions_grey_GWP100_high"
   ],
   "metadata": {
    "collapsed": false,
    "pycharm": {
     "name": "#%%\n"
    }
   }
  },
  {
   "cell_type": "markdown",
   "source": [
    "## w/ flue gas capture"
   ],
   "metadata": {
    "collapsed": false,
    "pycharm": {
     "name": "#%% md\n"
    }
   }
  },
  {
   "cell_type": "markdown",
   "source": [
    "### @GWP20"
   ],
   "metadata": {
    "collapsed": false,
    "pycharm": {
     "name": "#%% md\n"
    }
   }
  },
  {
   "cell_type": "code",
   "execution_count": 62,
   "outputs": [
    {
     "data": {
      "text/plain": "96.77455040644122"
     },
     "execution_count": 62,
     "metadata": {},
     "output_type": "execute_result"
    }
   ],
   "source": [
    "# Total Emissions for grey hydrogen: CO2 + fugitive CH4 [g CO2e/MJ]\n",
    "Total_emissions_grey_GWP20_low = Total_CO2_emissions + upstream_emissions_GWP20_low\n",
    "Total_emissions_grey_GWP20_low"
   ],
   "metadata": {
    "collapsed": false,
    "pycharm": {
     "name": "#%%\n"
    }
   }
  },
  {
   "cell_type": "code",
   "execution_count": 63,
   "outputs": [
    {
     "data": {
      "text/plain": "115.31916692141509"
     },
     "execution_count": 63,
     "metadata": {},
     "output_type": "execute_result"
    }
   ],
   "source": [
    "# Total Emissions for grey hydrogen: CO2 + fugitive CH4 [g CO2e/MJ]\n",
    "Total_emissions_grey_GWP20_mid = Total_CO2_emissions + upstream_emissions_GWP20_mid\n",
    "Total_emissions_grey_GWP20_mid"
   ],
   "metadata": {
    "collapsed": false,
    "pycharm": {
     "name": "#%%\n"
    }
   }
  },
  {
   "cell_type": "code",
   "execution_count": 64,
   "outputs": [
    {
     "data": {
      "text/plain": "208.04224949628446"
     },
     "execution_count": 64,
     "metadata": {},
     "output_type": "execute_result"
    }
   ],
   "source": [
    "# Total Emissions for grey hydrogen: CO2 + fugitive CH4 [g CO2e/MJ]\n",
    "Total_emissions_grey_GWP20_high = Total_CO2_emissions + upstream_emissions_GWP20_high\n",
    "Total_emissions_grey_GWP20_high"
   ],
   "metadata": {
    "collapsed": false,
    "pycharm": {
     "name": "#%%\n"
    }
   }
  },
  {
   "cell_type": "markdown",
   "source": [
    "## Energy to power carbon capture"
   ],
   "metadata": {
    "collapsed": false,
    "pycharm": {
     "name": "#%% md\n"
    }
   }
  },
  {
   "cell_type": "code",
   "execution_count": 65,
   "outputs": [
    {
     "ename": "SyntaxError",
     "evalue": "invalid syntax (591946292.py, line 1)",
     "output_type": "error",
     "traceback": [
      "\u001B[1;36m  Cell \u001B[1;32mIn [65], line 1\u001B[1;36m\u001B[0m\n\u001B[1;33m    xx none according to Bauer et al.\u001B[0m\n\u001B[1;37m       ^\u001B[0m\n\u001B[1;31mSyntaxError\u001B[0m\u001B[1;31m:\u001B[0m invalid syntax\n"
     ]
    }
   ],
   "source": [
    "xx none according to Bauer et al.\n"
   ],
   "metadata": {
    "collapsed": false,
    "pycharm": {
     "name": "#%%\n"
    }
   }
  },
  {
   "cell_type": "markdown",
   "source": [],
   "metadata": {
    "collapsed": false,
    "pycharm": {
     "name": "#%% md\n"
    }
   }
  },
  {
   "cell_type": "markdown",
   "source": [
    "flue gas capture (FGC)"
   ],
   "metadata": {
    "collapsed": false,
    "pycharm": {
     "name": "#%% md\n"
    }
   }
  },
  {
   "cell_type": "code",
   "execution_count": null,
   "outputs": [],
   "source": [],
   "metadata": {
    "collapsed": false,
    "pycharm": {
     "name": "#%%\n"
    }
   }
  },
  {
   "cell_type": "code",
   "execution_count": null,
   "outputs": [],
   "source": [
    "x =['Grey, 0.2%, GWP100\\nw/o FGC', 'Grey, 0.2%, GWP20\\nw/o FGC', 'Blue, 0.2%, GWP100\\nCCS-low 55%, w/o FGC', 'Blue, 0.2%, GWP20\\nCCS-low 55%, w/o FGC','Blue, 0.2%, GWP100\\nCCS-mid 80%, FGC 65%', 'Blue, 0.2%, GWP20\\nCCS-mid 80%, FGC 65%','Blue, 0.2%, GWP100\\nCCS-high 95%, FGC 90%','Blue, 0.2%, GWP20\\nCCS-high 95%, FGC 90%']"
   ],
   "metadata": {
    "collapsed": false,
    "pycharm": {
     "name": "#%%\n"
    }
   }
  },
  {
   "cell_type": "code",
   "execution_count": 77,
   "outputs": [],
   "source": [
    "Direct_emissions = [Direct_emissions_grey, Direct_emissions_grey, Direct_emissions_low, Direct_emissions_low, Direct_emissions_mid, Direct_emissions_mid, Direct_emissions_high, Direct_emissions_high]\n",
    "\n",
    "Drive_emissions_plt = [Drive_CO2_emissions_grams_grey, Drive_CO2_emissions_grams_grey, Drive_CO2_emissions_grams_grey, Drive_CO2_emissions_grams_grey, Drive_CO2_emissions_grams_blue_flue_low, Drive_CO2_emissions_grams_blue_flue_low, Drive_CO2_emissions_grams_blue_flue_high, Drive_CO2_emissions_grams_blue_flue_high]\n",
    "\n",
    "Indirect_emissions_plt = [Indirect_emissions] * 8\n",
    "\n",
    "Upstream_emissions = [upstream_emissions_GWP100_low, upstream_emissions_GWP20_low, upstream_emissions_GWP100_low, upstream_emissions_GWP20_low, upstream_emissions_GWP100_low, upstream_emissions_GWP20_low, upstream_emissions_GWP100_low, upstream_emissions_GWP20_low]"
   ],
   "metadata": {
    "collapsed": false,
    "pycharm": {
     "name": "#%%\n"
    }
   }
  },
  {
   "cell_type": "markdown",
   "source": [
    "## Calc. total emissions for each case"
   ],
   "metadata": {
    "collapsed": false,
    "pycharm": {
     "name": "#%% md\n"
    }
   }
  },
  {
   "cell_type": "code",
   "execution_count": 78,
   "outputs": [
    {
     "data": {
      "text/plain": "94.9167712922399"
     },
     "execution_count": 78,
     "metadata": {},
     "output_type": "execute_result"
    }
   ],
   "source": [
    "Grey_GWP100 = Direct_emissions_grey + Drive_CO2_emissions_grams_grey + Indirect_emissions + upstream_emissions_GWP100_low\n",
    "Grey_GWP100"
   ],
   "metadata": {
    "collapsed": false,
    "pycharm": {
     "name": "#%%\n"
    }
   }
  },
  {
   "cell_type": "code",
   "execution_count": 79,
   "outputs": [
    {
     "data": {
      "text/plain": "96.77455040644122"
     },
     "execution_count": 79,
     "metadata": {},
     "output_type": "execute_result"
    }
   ],
   "source": [
    "Grey_GWP20 = Direct_emissions_grey + Drive_CO2_emissions_grams_grey + Indirect_emissions + upstream_emissions_GWP20_low\n",
    "Grey_GWP20"
   ],
   "metadata": {
    "collapsed": false,
    "pycharm": {
     "name": "#%%\n"
    }
   }
  },
  {
   "cell_type": "code",
   "execution_count": 80,
   "outputs": [
    {
     "data": {
      "text/plain": "71.78970665644121"
     },
     "execution_count": 80,
     "metadata": {},
     "output_type": "execute_result"
    }
   ],
   "source": [
    "pess = Direct_emissions_low + Drive_CO2_emissions_grams_grey + Indirect_emissions + upstream_emissions_GWP20_low\n",
    "pess"
   ],
   "metadata": {
    "collapsed": false,
    "pycharm": {
     "name": "#%%\n"
    }
   }
  },
  {
   "cell_type": "code",
   "execution_count": 81,
   "outputs": [
    {
     "data": {
      "text/plain": "15.87122029280484"
     },
     "execution_count": 81,
     "metadata": {},
     "output_type": "execute_result"
    }
   ],
   "source": [
    "opt = Direct_emissions_high + Drive_CO2_emissions_grams_blue_flue_high + Indirect_emissions + upstream_emissions_GWP20_low\n",
    "opt"
   ],
   "metadata": {
    "collapsed": false,
    "pycharm": {
     "name": "#%%\n"
    }
   }
  },
  {
   "cell_type": "markdown",
   "source": [
    "## Plot total emissions"
   ],
   "metadata": {
    "collapsed": false,
    "pycharm": {
     "name": "#%% md\n"
    }
   }
  },
  {
   "cell_type": "code",
   "execution_count": 82,
   "outputs": [],
   "source": [
    "x =['Grey, 0.2%, GWP100\\nw/o FGC', 'Grey, 0.2%, GWP20\\nw/o FGC', 'Blue, 0.2%, GWP100\\nCCS-low 55%, w/o FGC', 'Blue, 0.2%, GWP20\\nCCS-low 55%, w/o FGC','Blue, 0.2%, GWP100\\nCCS-mid 80%, FGC 65%', 'Blue, 0.2%, GWP20\\nCCS-mid 80%, FGC 65%','Blue, 0.2%, GWP100\\nCCS-high 95%, FGC 90%','Blue, 0.2%, GWP20\\nCCS-high 95%, FGC 90%']"
   ],
   "metadata": {
    "collapsed": false,
    "pycharm": {
     "name": "#%%\n"
    }
   }
  },
  {
   "cell_type": "code",
   "execution_count": 115,
   "outputs": [
    {
     "data": {
      "text/plain": "<Figure size 1000x600 with 1 Axes>",
      "image/png": "[encoded data removed]"
     },
     "metadata": {},
     "output_type": "display_data"
    }
   ],
   "source": [
    "# Creating a stacked bar chart to display emissions. Adding lists for the bottom method.\n",
    "fig, ax = plt.subplots(figsize=(10,6))\n",
    "\n",
    "width = 0.5\n",
    "#y_axis = np.arange(101,step=10)\n",
    "direct = plt.bar(x, Direct_emissions, width, label='Direct emissions', bottom=list(map(lambda x, y, z: x + y + z, Upstream_emissions, Indirect_emissions_plt, Drive_emissions_plt)))\n",
    "drive = plt.bar(x, Drive_emissions_plt, width, label='Drive emissions', bottom=list(map(lambda x, y: x + y, Upstream_emissions, Indirect_emissions_plt)))\n",
    "indirect = plt.bar(x, Indirect_emissions, width, label = 'Indirect emissions', bottom=Upstream_emissions)\n",
    "upstream = plt.bar(x, Upstream_emissions, width, label = 'CH4 upstream emissions')\n",
    "plt.grid(True, axis = 'y')\n",
    "ax.set_ylabel(ylabel= ('[g CO2eq/MJ H2]'))\n",
    "ax.set_axisbelow(True)\n",
    "ax2= ax.secondary_yaxis('right', functions=(lambda MJ: MJ*120/1000, lambda kg: kg/120))\n",
    "ax2.set_ylabel(ylabel= '[kg CO2eq/kg H2]')\n",
    "#ax.twinx()\n",
    "plt.xticks(rotation = 90)\n",
    "plt.locator_params(axis='y', nbins=6)\n",
    "plt.legend(loc='upper right')\n",
    "plt.title('GHG emissions from blue hydrogen production', fontweight = 'bold')\n",
    "\n",
    "\n",
    "title = 'Blue_emission_breakdown'\n",
    "plt.savefig(path_plt + title + '.png', transparent=True)\n",
    "#ax.set_ylabel('kg CO2/kg H2')"
   ],
   "metadata": {
    "collapsed": false,
    "pycharm": {
     "name": "#%%\n"
    }
   }
  },
  {
   "cell_type": "markdown",
   "source": [
    "Interpolated blue hydrogen production emissions starting from 55% total system capture rate -> up to 81%"
   ],
   "metadata": {
    "collapsed": false,
    "pycharm": {
     "name": "#%% md\n"
    }
   }
  },
  {
   "cell_type": "markdown",
   "source": [
    "# Sensitivity analysis"
   ],
   "metadata": {
    "collapsed": false,
    "pycharm": {
     "name": "#%% md\n"
    }
   }
  },
  {
   "cell_type": "markdown",
   "source": [
    "## Leakage rate"
   ],
   "metadata": {
    "collapsed": false,
    "pycharm": {
     "name": "#%% md\n"
    }
   }
  },
  {
   "cell_type": "code",
   "execution_count": 85,
   "outputs": [],
   "source": [
    "leakage_rate = np.arange(0,0.105,0.005)\n",
    "sensitivity = []\n",
    "# calculate emissions from blue hydrogen production in [g CO2eq/MJ H2]\n",
    "def blue_h2_emissions(Direct_emissions_grey, capture_rate_high, Drive_CO2_emissions_grams_grey, capture_rate_flue_gas_high, Indirect_emissions, leakage_rate_low, Total_methane_SMR, GWP20_CH4):\n",
    "\n",
    "    for i in leakage_rate:\n",
    "        result = (Direct_emissions_grey * (1 - capture_rate_high)) + (Drive_CO2_emissions_grams_grey * (1 - capture_rate_flue_gas_high)) + Indirect_emissions + i * Total_methane_SMR * GWP20_CH4\n",
    "\n",
    "        sensitivity.append(result)\n",
    "\n",
    "\n",
    "    return sensitivity"
   ],
   "metadata": {
    "collapsed": false,
    "pycharm": {
     "name": "#%%\n"
    }
   }
  },
  {
   "cell_type": "code",
   "execution_count": 86,
   "outputs": [
    {
     "data": {
      "text/plain": "[13.018202367424244,\n 20.150747180875733,\n 27.28329199432722,\n 34.41583680777871,\n 41.5483816212302,\n 48.68092643468169,\n 55.813471248133176,\n 62.94601606158467,\n 70.07856087503615,\n 77.21110568848763,\n 84.34365050193912,\n 91.47619531539061,\n 98.6087401288421,\n 105.74128494229362,\n 112.8738297557451,\n 120.00637456919657,\n 127.13891938264806,\n 134.27146419609957,\n 141.40400900955103,\n 148.53655382300252,\n 155.669098636454]"
     },
     "execution_count": 86,
     "metadata": {},
     "output_type": "execute_result"
    }
   ],
   "source": [
    "blue_h2_emissions(Direct_emissions_grey, capture_rate_high, Drive_CO2_emissions_grams_grey, capture_rate_flue_gas_high, Indirect_emissions, leakage_rate_low, Total_methane_SMR, GWP20_CH4)"
   ],
   "metadata": {
    "collapsed": false,
    "pycharm": {
     "name": "#%%\n"
    }
   }
  },
  {
   "cell_type": "code",
   "execution_count": 87,
   "outputs": [
    {
     "data": {
      "text/plain": "       Total_Emissions [g CO2eq/MJ H2]\n0.000                        13.018202\n0.005                        20.150747\n0.010                        27.283292\n0.015                        34.415837\n0.020                        41.548382\n0.025                        48.680926\n0.030                        55.813471\n0.035                        62.946016\n0.040                        70.078561\n0.045                        77.211106\n0.050                        84.343651\n0.055                        91.476195\n0.060                        98.608740\n0.065                       105.741285\n0.070                       112.873830\n0.075                       120.006375\n0.080                       127.138919\n0.085                       134.271464\n0.090                       141.404009\n0.095                       148.536554\n0.100                       155.669099",
      "text/html": "<div>\n<style scoped>\n    .dataframe tbody tr th:only-of-type {\n        vertical-align: middle;\n    }\n\n    .dataframe tbody tr th {\n        vertical-align: top;\n    }\n\n    .dataframe thead th {\n        text-align: right;\n    }\n</style>\n<table border=\"1\" class=\"dataframe\">\n  <thead>\n    <tr style=\"text-align: right;\">\n      <th></th>\n      <th>Total_Emissions [g CO2eq/MJ H2]</th>\n    </tr>\n  </thead>\n  <tbody>\n    <tr>\n      <th>0.000</th>\n      <td>13.018202</td>\n    </tr>\n    <tr>\n      <th>0.005</th>\n      <td>20.150747</td>\n    </tr>\n    <tr>\n      <th>0.010</th>\n      <td>27.283292</td>\n    </tr>\n    <tr>\n      <th>0.015</th>\n      <td>34.415837</td>\n    </tr>\n    <tr>\n      <th>0.020</th>\n      <td>41.548382</td>\n    </tr>\n    <tr>\n      <th>0.025</th>\n      <td>48.680926</td>\n    </tr>\n    <tr>\n      <th>0.030</th>\n      <td>55.813471</td>\n    </tr>\n    <tr>\n      <th>0.035</th>\n      <td>62.946016</td>\n    </tr>\n    <tr>\n      <th>0.040</th>\n      <td>70.078561</td>\n    </tr>\n    <tr>\n      <th>0.045</th>\n      <td>77.211106</td>\n    </tr>\n    <tr>\n      <th>0.050</th>\n      <td>84.343651</td>\n    </tr>\n    <tr>\n      <th>0.055</th>\n      <td>91.476195</td>\n    </tr>\n    <tr>\n      <th>0.060</th>\n      <td>98.608740</td>\n    </tr>\n    <tr>\n      <th>0.065</th>\n      <td>105.741285</td>\n    </tr>\n    <tr>\n      <th>0.070</th>\n      <td>112.873830</td>\n    </tr>\n    <tr>\n      <th>0.075</th>\n      <td>120.006375</td>\n    </tr>\n    <tr>\n      <th>0.080</th>\n      <td>127.138919</td>\n    </tr>\n    <tr>\n      <th>0.085</th>\n      <td>134.271464</td>\n    </tr>\n    <tr>\n      <th>0.090</th>\n      <td>141.404009</td>\n    </tr>\n    <tr>\n      <th>0.095</th>\n      <td>148.536554</td>\n    </tr>\n    <tr>\n      <th>0.100</th>\n      <td>155.669099</td>\n    </tr>\n  </tbody>\n</table>\n</div>"
     },
     "execution_count": 87,
     "metadata": {},
     "output_type": "execute_result"
    }
   ],
   "source": [
    "leakage_sensi_GWP20 = pd.DataFrame(sensitivity, index=leakage_rate, columns=['Total_Emissions [g CO2eq/MJ H2]'])\n",
    "leakage_sensi_GWP20"
   ],
   "metadata": {
    "collapsed": false,
    "pycharm": {
     "name": "#%%\n"
    }
   }
  },
  {
   "cell_type": "code",
   "execution_count": 88,
   "outputs": [],
   "source": [
    "leakage_sensi_GWP20.to_csv('leakage_sensi_GWP20.csv', sep = ';')"
   ],
   "metadata": {
    "collapsed": false,
    "pycharm": {
     "name": "#%%\n"
    }
   }
  },
  {
   "cell_type": "code",
   "execution_count": 89,
   "outputs": [],
   "source": [
    "# calculate emissions from blue hydrogen production in [g CO2eq/MJ H2]\n",
    "sensitivity = []\n",
    "def blue_h2_emissions(Direct_emissions_grey, capture_rate_high, Drive_CO2_emissions_grams_grey, capture_rate_flue_gas_high, Indirect_emissions, leakage_rate_low, Total_methane_SMR, GWP20_CH4):\n",
    "\n",
    "    for i in leakage_rate:\n",
    "        result = (Direct_emissions_grey * (1 - capture_rate_high)) + (Drive_CO2_emissions_grams_grey * (1 - capture_rate_flue_gas_high)) + Indirect_emissions + i * Total_methane_SMR * GWP100_CH4\n",
    "\n",
    "        sensitivity.append(result)\n",
    "\n",
    "\n",
    "    return sensitivity"
   ],
   "metadata": {
    "collapsed": false,
    "pycharm": {
     "name": "#%%\n"
    }
   }
  },
  {
   "cell_type": "code",
   "execution_count": 90,
   "outputs": [
    {
     "data": {
      "text/plain": "[13.018202367424244,\n 15.506299395372437,\n 17.99439642332063,\n 20.482493451268827,\n 22.97059047921702,\n 25.458687507165212,\n 27.94678453511341,\n 30.4348815630616,\n 32.922978591009795,\n 35.41107561895799,\n 37.89917264690618,\n 40.38726967485438,\n 42.875366702802566,\n 45.363463730750766,\n 47.85156075869896,\n 50.33965778664715,\n 52.827754814595345,\n 55.315851842543545,\n 57.80394887049173,\n 60.29204589843992,\n 62.780142926388116]"
     },
     "execution_count": 90,
     "metadata": {},
     "output_type": "execute_result"
    }
   ],
   "source": [
    "blue_h2_emissions(Direct_emissions_grey, capture_rate_high, Drive_CO2_emissions_grams_grey, capture_rate_flue_gas_high, Indirect_emissions, leakage_rate_low, Total_methane_SMR, GWP20_CH4)"
   ],
   "metadata": {
    "collapsed": false,
    "pycharm": {
     "name": "#%%\n"
    }
   }
  },
  {
   "cell_type": "code",
   "execution_count": 91,
   "outputs": [
    {
     "data": {
      "text/plain": "       Total_Emissions [g CO2eq/MJ H2]\n0.000                        13.018202\n0.005                        15.506299\n0.010                        17.994396\n0.015                        20.482493\n0.020                        22.970590\n0.025                        25.458688\n0.030                        27.946785\n0.035                        30.434882\n0.040                        32.922979\n0.045                        35.411076\n0.050                        37.899173\n0.055                        40.387270\n0.060                        42.875367\n0.065                        45.363464\n0.070                        47.851561\n0.075                        50.339658\n0.080                        52.827755\n0.085                        55.315852\n0.090                        57.803949\n0.095                        60.292046\n0.100                        62.780143",
      "text/html": "<div>\n<style scoped>\n    .dataframe tbody tr th:only-of-type {\n        vertical-align: middle;\n    }\n\n    .dataframe tbody tr th {\n        vertical-align: top;\n    }\n\n    .dataframe thead th {\n        text-align: right;\n    }\n</style>\n<table border=\"1\" class=\"dataframe\">\n  <thead>\n    <tr style=\"text-align: right;\">\n      <th></th>\n      <th>Total_Emissions [g CO2eq/MJ H2]</th>\n    </tr>\n  </thead>\n  <tbody>\n    <tr>\n      <th>0.000</th>\n      <td>13.018202</td>\n    </tr>\n    <tr>\n      <th>0.005</th>\n      <td>15.506299</td>\n    </tr>\n    <tr>\n      <th>0.010</th>\n      <td>17.994396</td>\n    </tr>\n    <tr>\n      <th>0.015</th>\n      <td>20.482493</td>\n    </tr>\n    <tr>\n      <th>0.020</th>\n      <td>22.970590</td>\n    </tr>\n    <tr>\n      <th>0.025</th>\n      <td>25.458688</td>\n    </tr>\n    <tr>\n      <th>0.030</th>\n      <td>27.946785</td>\n    </tr>\n    <tr>\n      <th>0.035</th>\n      <td>30.434882</td>\n    </tr>\n    <tr>\n      <th>0.040</th>\n      <td>32.922979</td>\n    </tr>\n    <tr>\n      <th>0.045</th>\n      <td>35.411076</td>\n    </tr>\n    <tr>\n      <th>0.050</th>\n      <td>37.899173</td>\n    </tr>\n    <tr>\n      <th>0.055</th>\n      <td>40.387270</td>\n    </tr>\n    <tr>\n      <th>0.060</th>\n      <td>42.875367</td>\n    </tr>\n    <tr>\n      <th>0.065</th>\n      <td>45.363464</td>\n    </tr>\n    <tr>\n      <th>0.070</th>\n      <td>47.851561</td>\n    </tr>\n    <tr>\n      <th>0.075</th>\n      <td>50.339658</td>\n    </tr>\n    <tr>\n      <th>0.080</th>\n      <td>52.827755</td>\n    </tr>\n    <tr>\n      <th>0.085</th>\n      <td>55.315852</td>\n    </tr>\n    <tr>\n      <th>0.090</th>\n      <td>57.803949</td>\n    </tr>\n    <tr>\n      <th>0.095</th>\n      <td>60.292046</td>\n    </tr>\n    <tr>\n      <th>0.100</th>\n      <td>62.780143</td>\n    </tr>\n  </tbody>\n</table>\n</div>"
     },
     "execution_count": 91,
     "metadata": {},
     "output_type": "execute_result"
    }
   ],
   "source": [
    "leakage_sensi_GWP100 = pd.DataFrame(sensitivity, index=leakage_rate, columns=['Total_Emissions [g CO2eq/MJ H2]'])\n",
    "leakage_sensi_GWP100"
   ],
   "metadata": {
    "collapsed": false,
    "pycharm": {
     "name": "#%%\n"
    }
   }
  },
  {
   "cell_type": "code",
   "execution_count": 92,
   "outputs": [],
   "source": [
    "# Create csv file from results dataframe\n",
    "#output_file = os.path.join(path_csv,'leakage_sensi_GWP100.csv')\n",
    "leakage_sensi_GWP100.to_csv('leakage_sensi_GWP100.csv', sep = ';')"
   ],
   "metadata": {
    "collapsed": false,
    "pycharm": {
     "name": "#%%\n"
    }
   }
  },
  {
   "cell_type": "markdown",
   "source": [
    "## Capture rate"
   ],
   "metadata": {
    "collapsed": false,
    "pycharm": {
     "name": "#%% md\n"
    }
   }
  },
  {
   "cell_type": "code",
   "execution_count": 93,
   "outputs": [],
   "source": [
    "capture_rate = np.arange(0.55, 1, 0.05)\n",
    "sensitivity = []\n",
    "# calculate emissions from blue hydrogen production in [g CO2eq/MJ H2]\n",
    "def blue_h2_emissions(Direct_emissions_grey, capture_rate_high, Drive_CO2_emissions_grams_grey, capture_rate_flue_gas_high, Indirect_emissions, leakage_rate_low, Total_methane_SMR, GWP20_CH4):\n",
    "\n",
    "    for i in capture_rate:\n",
    "\n",
    "        result = (Direct_emissions_grey * (1-i)) + (Drive_CO2_emissions_grams_grey * (1 - i)) + Indirect_emissions + \\\n",
    "             leakage_rate_low * Total_methane_SMR * GWP20_CH4\n",
    "\n",
    "        sensitivity.append(result)\n",
    "\n",
    "    return sensitivity"
   ],
   "metadata": {
    "collapsed": false,
    "pycharm": {
     "name": "#%%\n"
    }
   }
  },
  {
   "cell_type": "code",
   "execution_count": 94,
   "outputs": [
    {
     "data": {
      "text/plain": "[48.72167332310787,\n 44.35322995189575,\n 39.984786580683625,\n 35.616343209471495,\n 31.247899838259364,\n 26.87945646704724,\n 22.511013095835114,\n 18.142569724622987,\n 13.774126353410864]"
     },
     "execution_count": 94,
     "metadata": {},
     "output_type": "execute_result"
    }
   ],
   "source": [
    "blue_h2_emissions(Direct_emissions_grey, capture_rate_high, Drive_CO2_emissions_grams_grey, capture_rate_flue_gas_high, Indirect_emissions, leakage_rate_low, Total_methane_SMR, GWP20_CH4)"
   ],
   "metadata": {
    "collapsed": false,
    "pycharm": {
     "name": "#%%\n"
    }
   }
  },
  {
   "cell_type": "code",
   "execution_count": 95,
   "outputs": [
    {
     "data": {
      "text/plain": "      Total_Emissions [g CO2eq/MJ H2]\n0.55                        48.721673\n0.60                        44.353230\n0.65                        39.984787\n0.70                        35.616343\n0.75                        31.247900\n0.80                        26.879456\n0.85                        22.511013\n0.90                        18.142570\n0.95                        13.774126",
      "text/html": "<div>\n<style scoped>\n    .dataframe tbody tr th:only-of-type {\n        vertical-align: middle;\n    }\n\n    .dataframe tbody tr th {\n        vertical-align: top;\n    }\n\n    .dataframe thead th {\n        text-align: right;\n    }\n</style>\n<table border=\"1\" class=\"dataframe\">\n  <thead>\n    <tr style=\"text-align: right;\">\n      <th></th>\n      <th>Total_Emissions [g CO2eq/MJ H2]</th>\n    </tr>\n  </thead>\n  <tbody>\n    <tr>\n      <th>0.55</th>\n      <td>48.721673</td>\n    </tr>\n    <tr>\n      <th>0.60</th>\n      <td>44.353230</td>\n    </tr>\n    <tr>\n      <th>0.65</th>\n      <td>39.984787</td>\n    </tr>\n    <tr>\n      <th>0.70</th>\n      <td>35.616343</td>\n    </tr>\n    <tr>\n      <th>0.75</th>\n      <td>31.247900</td>\n    </tr>\n    <tr>\n      <th>0.80</th>\n      <td>26.879456</td>\n    </tr>\n    <tr>\n      <th>0.85</th>\n      <td>22.511013</td>\n    </tr>\n    <tr>\n      <th>0.90</th>\n      <td>18.142570</td>\n    </tr>\n    <tr>\n      <th>0.95</th>\n      <td>13.774126</td>\n    </tr>\n  </tbody>\n</table>\n</div>"
     },
     "execution_count": 95,
     "metadata": {},
     "output_type": "execute_result"
    }
   ],
   "source": [
    "capture_sensi = pd.DataFrame(sensitivity, index=capture_rate, columns=['Total_Emissions [g CO2eq/MJ H2]'])\n",
    "capture_sensi"
   ],
   "metadata": {
    "collapsed": false,
    "pycharm": {
     "name": "#%%\n"
    }
   }
  },
  {
   "cell_type": "code",
   "execution_count": 96,
   "outputs": [],
   "source": [
    "capture_sensi.to_csv('capture_sensi.csv', sep = ';')"
   ],
   "metadata": {
    "collapsed": false,
    "pycharm": {
     "name": "#%%\n"
    }
   }
  },
  {
   "cell_type": "code",
   "execution_count": 113,
   "outputs": [
    {
     "data": {
      "text/plain": "<Figure size 1000x400 with 2 Axes>",
      "image/png": "[encoded data removed]"
     },
     "metadata": {},
     "output_type": "display_data"
    }
   ],
   "source": [
    "import matplotlib.ticker as mtick\n",
    "fig = plt.figure(figsize=(10,4))\n",
    "\n",
    "ax = fig.add_subplot(1, 2, 1)\n",
    "#plt.subplot(1,2,1)\n",
    "ax2 = ax.secondary_yaxis('right', functions=(lambda MJ: MJ*120/1000, lambda kg: kg/120))\n",
    "#ax2.set_ylabel(ylabel= '[kg CO2eq/kg H2]')\n",
    "plt.locator_params(axis='y', nbins=10)\n",
    "plt.plot(leakage_sensi_GWP20, color='blue', linestyle='solid', label = 'GWP20' )\n",
    "plt.plot(leakage_sensi_GWP100, color='dodgerblue',linestyle='-', label = 'GWP100')\n",
    "\n",
    "plt.grid(True, axis='y')\n",
    "ax.set_axisbelow(True)\n",
    "\n",
    "\n",
    "plt.xticks(np.arange(0,0.105, 0.02), ['0%', '2%', '4%', '6%', '8%', '10%'] )\n",
    "\n",
    "plt.ylabel('[g CO2eq/MJ H2]')\n",
    "plt.xlabel('Leakage rate')\n",
    "plt.legend()\n",
    "\n",
    "#Capture rates\n",
    "ax3 = fig.add_subplot(1, 2, 2)\n",
    "ax4 = ax3.secondary_yaxis('right', functions=(lambda MJ: MJ*120/1000, lambda kg: kg/120))\n",
    "ax4.set_ylabel(ylabel= '[kg CO2eq/kg H2]')\n",
    "\n",
    "plt.plot(capture_sensi, color='blue', linestyle='solid')\n",
    "plt.grid(True, axis='y')\n",
    "ax.set_axisbelow(True)\n",
    "#ax.secondary_yaxis('right', functions=(lambda MJ: MJ*120/1000, lambda kg: kg/120), label= '[kg CO2eq/kg H2]')\n",
    "#secax.set_ylabel = ('[g CO2eq/g H2]')\n",
    "#plt.ylabel('[g CO2eq/MJ H2]')\n",
    "plt.xlabel('System capture rate')\n",
    "\n",
    "#ax.xaxis.set_major_formatter(mtick.PercentFormatter(1, decimals=None))\n",
    "plt.xticks(np.arange(0.55,1, 0.1), ['55%',  '65%',  '75%',  '85%',  '95%'] )\n",
    "\n",
    "\n",
    "\n",
    "\n",
    "\n",
    "plt.locator_params(axis='y', nbins=10)\n",
    "fig.tight_layout(pad=1)\n",
    "title = 'Leakage_and_capture_sensi'\n",
    "\n",
    "plt.savefig(path_plt + title + '.png', transparent=True)\n",
    "\n",
    "plt.show()"
   ],
   "metadata": {
    "collapsed": false,
    "pycharm": {
     "name": "#%%\n"
    }
   }
  },
  {
   "cell_type": "code",
   "execution_count": null,
   "outputs": [],
   "source": [
    "\n",
    "fig, ax = plt.subplots()\n",
    "plt.plot(capture_sensi, color='blue', linestyle='solid')\n",
    "plt.grid(True, axis='y')\n",
    "ax.set_axisbelow(True)\n",
    "\n",
    "#secax.set_ylabel = ('[g CO2eq/g H2]')\n",
    "plt.ylabel('[g CO2eq/MJ H2]')\n",
    "plt.xlabel('System capture rate')\n",
    "\n",
    "\n",
    "#ax.xaxis.set_major_formatter(mtick.PercentFormatter(1, decimals=None))\n",
    "plt.xticks(np.arange(0.55,1, 0.1), ['55%',  '65%',  '75%',  '85%',  '95%'] )\n",
    "\n",
    "title = 'Leakage_and_capture_sensi'\n",
    "#plt.savefig(path_plt + title + '.png', transparent=True)\n",
    "\n",
    "plt.show()"
   ],
   "metadata": {
    "collapsed": false,
    "pycharm": {
     "name": "#%%\n"
    }
   }
  },
  {
   "cell_type": "code",
   "execution_count": null,
   "outputs": [],
   "source": [
    "# Plot cost curve for liquefaction\n",
    "fig, ax = plt.subplots()\n",
    "fig.canvas.draw()\n",
    "plt.plot(capture_sensi, color = 'blue', linestyle = 'solid')\n",
    "plt.grid(True, axis = 'y')\n",
    "ax.set_axisbelow(True)\n",
    "plt.ylabel('[g CO2eq/MJ H2]')\n",
    "\n",
    "title = 'Capture_sensi'\n",
    "plt.savefig(path_plt+title+'.png', transparent = True)\n",
    "\n",
    "\n",
    "plt.show()"
   ],
   "metadata": {
    "collapsed": false,
    "pycharm": {
     "name": "#%%\n"
    }
   }
  },
  {
   "cell_type": "code",
   "execution_count": null,
   "outputs": [],
   "source": [
    "# Create csv file from results dataframe\n",
    "output_file = os.path.join(path_csv,'leakage_sensi.csv')\n",
    "result.to_csv(output_file, sep = ';')"
   ],
   "metadata": {
    "collapsed": false,
    "pycharm": {
     "name": "#%%\n"
    }
   }
  },
  {
   "cell_type": "code",
   "execution_count": null,
   "outputs": [],
   "source": [
    "# export result to excel\n",
    "writer = pd.ExcelWriter(path, engine='openpyxl', mode='a', if_sheet_exists='overlay')\n",
    "book = load_workbook(path)\n",
    "#writer.book = book\n",
    "#writer.sheets = dict((ws.title, ws) for ws in book.worksheets)\n",
    "\n",
    "ws = book['Sensitivity Results']\n",
    "\n",
    "leakage_sensi.to_excel(writer, sheet_name='Sensitivity Results', index=True, startcol=ws.max_column)\n",
    "book.save(path)\n",
    "book.close()"
   ],
   "metadata": {
    "collapsed": false,
    "pycharm": {
     "name": "#%%\n"
    }
   }
  },
  {
   "cell_type": "markdown",
   "source": [
    "# Colour table\n"
   ],
   "metadata": {
    "collapsed": false,
    "pycharm": {
     "name": "#%% md\n"
    }
   }
  },
  {
   "cell_type": "code",
   "execution_count": null,
   "outputs": [],
   "source": [
    "from matplotlib.patches import Rectangle\n",
    "import matplotlib.pyplot as plt\n",
    "import matplotlib.colors as mcolors\n",
    "\n",
    "\n",
    "def plot_colortable(colors, sort_colors=True, emptycols=0):\n",
    "\n",
    "    cell_width = 212\n",
    "    cell_height = 22\n",
    "    swatch_width = 48\n",
    "    margin = 12\n",
    "\n",
    "    # Sort colors by hue, saturation, value and name.\n",
    "    if sort_colors is True:\n",
    "        by_hsv = sorted((tuple(mcolors.rgb_to_hsv(mcolors.to_rgb(color))),\n",
    "                         name)\n",
    "                        for name, color in colors.items())\n",
    "        names = [name for hsv, name in by_hsv]\n",
    "    else:\n",
    "        names = list(colors)\n",
    "\n",
    "    n = len(names)\n",
    "    ncols = 4 - emptycols\n",
    "    nrows = n // ncols + int(n % ncols > 0)\n",
    "\n",
    "    width = cell_width * 4 + 2 * margin\n",
    "    height = cell_height * nrows + 2 * margin\n",
    "    dpi = 72\n",
    "\n",
    "    fig, ax = plt.subplots(figsize=(width / dpi, height / dpi), dpi=dpi)\n",
    "    fig.subplots_adjust(margin/width, margin/height,\n",
    "                        (width-margin)/width, (height-margin)/height)\n",
    "    ax.set_xlim(0, cell_width * 4)\n",
    "    ax.set_ylim(cell_height * (nrows-0.5), -cell_height/2.)\n",
    "    ax.yaxis.set_visible(False)\n",
    "    ax.xaxis.set_visible(False)\n",
    "    ax.set_axis_off()\n",
    "\n",
    "    for i, name in enumerate(names):\n",
    "        row = i % nrows\n",
    "        col = i // nrows\n",
    "        y = row * cell_height\n",
    "\n",
    "        swatch_start_x = cell_width * col\n",
    "        text_pos_x = cell_width * col + swatch_width + 7\n",
    "\n",
    "        ax.text(text_pos_x, y, name, fontsize=14,\n",
    "                horizontalalignment='left',\n",
    "                verticalalignment='center')\n",
    "\n",
    "        ax.add_patch(\n",
    "            Rectangle(xy=(swatch_start_x, y-9), width=swatch_width,\n",
    "                      height=18, facecolor=colors[name], edgecolor='0.7')\n",
    "        )\n",
    "\n",
    "    return fig\n",
    "plot_colortable(mcolors.CSS4_COLORS)\n",
    "plt.show()"
   ],
   "metadata": {
    "collapsed": false,
    "pycharm": {
     "name": "#%%\n"
    }
   }
  }
 ],
 "metadata": {
  "kernelspec": {
   "display_name": "Python 3",
   "language": "python",
   "name": "python3"
  },
  "language_info": {
   "codemirror_mode": {
    "name": "ipython",
    "version": 2
   },
   "file_extension": ".py",
   "mimetype": "text/x-python",
   "name": "python",
   "nbconvert_exporter": "python",
   "pygments_lexer": "ipython2",
   "version": "2.7.6"
  }
 },
 "nbformat": 4,
 "nbformat_minor": 0
}