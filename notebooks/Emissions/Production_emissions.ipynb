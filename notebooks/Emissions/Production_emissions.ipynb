{
 "cells": [
  {
   "cell_type": "code",
   "execution_count": 2,
   "metadata": {
    "collapsed": true,
    "pycharm": {
     "name": "#%%\n"
    }
   },
   "outputs": [],
   "source": [
    "import numpy as np\n",
    "import pandas as pd\n",
    "from matplotlib import pyplot as plt\n"
   ]
  },
  {
   "cell_type": "code",
   "execution_count": 3,
   "outputs": [
    {
     "data": {
      "text/plain": "                                           Properties   Parameter  \\\n0                                    CH4 LHV [KWh/kg]   13.100000   \n1                                     H2 LHV [KWh/kg]   33.330000   \n2                                       GWP20 [Years]   86.000000   \n3                                      GWP100 [Years]   30.000000   \n4                  Emission intensity CH4  [g CO2/MJ]   56.000000   \n5                                    HHV H2 [MJ/mole]    0.286000   \n6                                    LHV H2 [MJ/mole]    0.242202   \n7                                    HHV H2 [mole/MJ]    3.496503   \n8                                     HHV [CO2/MJ_H2]    0.874126   \n9                                      HHV H2 [MJ/kg]  141.700000   \n10                                     LHV H2 [MJ/kg]  120.000000   \n11                                   LHV H2 [mole/MJ]    4.128788   \n12                                      ratio LHV/HHV    0.846860   \n13                                    LHV [CO2/MJ_H2]    1.032197   \n14                                       CO2 [g/Mole]   44.010000   \n15                                       CH4 [g/Mole]   16.040000   \n16                                Energy to drive SMR         NaN   \n17                            Heat Input [MJ/mole_H2]    0.181400   \n18                              LCA emissions sources         NaN   \n19                                           Upstream         NaN   \n20              Upstream methane leakage rate [%] low    0.002000   \n21              Upstream methane leakage rate [%] mid    0.015000   \n22             Upstream methane leakage rate [%] high    0.080000   \n23      Upstream methane emissions [g CO2e/MJ_H2] low    5.469600   \n24      Upstream methane emissions [g CO2e/MJ_H2] mid   41.022000   \n25     Upstream methane emissions [g CO2e/MJ_H2] high  218.784000   \n26                    Indirect upstream emissions [%]    0.075000   \n27        Indirect upstream emissions [g CO2e/MJ_CH4]         NaN   \n28                     Energy to power carbon capture         NaN   \n29                               Electricty from grid    9.000000   \n30                                      H2 Production         NaN   \n31               CO2 from SMR as feedstock [g CO2/MJ]   45.400000   \n32                    CO2 from SMR as fuel [g CO2/MJ]   41.900000   \n33                          Capture rate [%] flue gas    0.650000   \n34                    Direct CO2 emissions [g CO2/MJ]   75.000000   \n35             CH4 consumed for grey H2 [g CH4/MJ_H2]   31.800000   \n36                               Capture rate [%] low    0.550000   \n37                               Capture rate [%] mid    0.800000   \n38                              Capture rate [%] high    0.950000   \n39                                                NaN         NaN   \n40                                                NaN         NaN   \n41                                                NaN         NaN   \n42                                                NaN         NaN   \n43                                                NaN         NaN   \n44                                                NaN         NaN   \n45                                                NaN         NaN   \n46                                                NaN         NaN   \n47                                                NaN         NaN   \n48                               Electricty from grid    9.000000   \n49                   Fuel supply chain, C02 emissions         NaN   \n50                   Fuel supply chain, CH4 emissions         NaN   \n51   Energy demand for (re-)compression of natural...         NaN   \n52                                      H2 Production    0.760000   \n53                                      Capture rates         NaN   \n54                               Direct CO2 emissions         NaN   \n55                               Efficiency CH4 to H2         NaN   \n56                         CO2  transport and storage         NaN   \n57                                       H2 Transport         NaN   \n58                                                NaN         NaN   \n59  Energy to produce, process, and transport the ...         NaN   \n\n                                                  Ref  \\\n0                                                 NaN   \n1                                                 NaN   \n2                                                 NaN   \n3                                               Bauer   \n4                                                 NaN   \n5                                                 NaN   \n6                                                 NaN   \n7                                                 NaN   \n8                                                 NaN   \n9                                                 NaN   \n10                                                NaN   \n11                                                NaN   \n12                                                NaN   \n13                                                NaN   \n14                                            howarth   \n15                                                NaN   \n16                                                NaN   \n17                                                NaN   \n18                                                NaN   \n19                                                NaN   \n20                                Antonini et al 2020   \n21                                Antonini et al 2020   \n22                                Antonini et al 2020   \n23                                                NaN   \n24                                                NaN   \n25                                                NaN   \n26                                            howarth   \n27                                                NaN   \n28                                                NaN   \n29                                                  9   \n30                                                NaN   \n31                                                NaN   \n32                                                NaN   \n33                                                NaN   \n34  Bartlett J, Krupnick A. Decarbonized Hydrogen ...   \n35                                                NaN   \n36                                                NaN   \n37                                                NaN   \n38                                                NaN   \n39                                                NaN   \n40                                                NaN   \n41                                                NaN   \n42                                                NaN   \n43                                                NaN   \n44                                                NaN   \n45                                                NaN   \n46                                                NaN   \n47                                                NaN   \n48                                                  9   \n49                                                NaN   \n50                                                NaN   \n51                                                  9   \n52                                               0.77   \n53                                                NaN   \n54                                                NaN   \n55                                                NaN   \n56                                                NaN   \n57                                                NaN   \n58                                                NaN   \n59                                                NaN   \n\n                                           Unnamed: 3           Unnamed: 4  \\\n0                                                1 MJ                  3.6   \n1                                                 NaN                   75   \n2                                                 NaN                  270   \n3                                                 NaN               8999.1   \n4                                                 NaN                  NaN   \n5                                                  45                  NaN   \n6                                                 NaN                  NaN   \n7                                                 NaN                  NaN   \n8                                                 NaN                  NaN   \n9                                                 NaN                  NaN   \n10                                                NaN                  NaN   \n11                                                NaN                  NaN   \n12                                                NaN                  NaN   \n13                                                NaN                  NaN   \n14                                                NaN                  NaN   \n15                                                NaN                  NaN   \n16                                                NaN                  NaN   \n17                                                NaN                  NaN   \n18                                                NaN                  NaN   \n19                                                NaN                  NaN   \n20                                                NaN                  NaN   \n21                                                NaN                  NaN   \n22                                                NaN                  NaN   \n23                                                NaN                  NaN   \n24                                                NaN                  NaN   \n25                                                NaN                  NaN   \n26                                                NaN                  NaN   \n27                                                NaN                  NaN   \n28                                                NaN                  NaN   \n29                                                  9  Antonini et al 2020   \n30                                                NaN                  NaN   \n31                                                NaN                  NaN   \n32                                                NaN                  NaN   \n33                                                NaN                  NaN   \n34  IEA. The Future of Hydrogen: Seizing Today's O...                  NaN   \n35                                                NaN                  NaN   \n36                                                NaN                  NaN   \n37                                                NaN                  NaN   \n38                                                NaN                  NaN   \n39                                                NaN                  NaN   \n40                                                NaN                  NaN   \n41                                                NaN                  NaN   \n42                                                NaN                  NaN   \n43                                                NaN                  NaN   \n44                                                NaN                  NaN   \n45                                                NaN                  NaN   \n46                                                NaN                  NaN   \n47                                                NaN                  NaN   \n48                                                  9  Antonini et al 2020   \n49                                                NaN                  NaN   \n50                                                NaN                  NaN   \n51                                                NaN                  NaN   \n52                                               0.77                  NaN   \n53                                                NaN                  NaN   \n54                                                NaN                  NaN   \n55                                                NaN                  NaN   \n56                                                NaN                  NaN   \n57                                                NaN                  NaN   \n58                                                NaN                  NaN   \n59                                                NaN                  NaN   \n\n   Unnamed: 5               SMR process @ HHV        Units        Grey  \\\n0         kWh                    CH4 consumed     g CH4/MJ   14.000000   \n1    g CO2/MJ                    CO2 produced     g CO2/MJ   37.270289   \n2   g CO2/kWh          Fugitive CH4 emissions     g CH4/MJ    0.490000   \n3    g CO2/kg          Fugitive CH4 emissions  g CO2 eq/MJ   42.140000   \n4         NaN            Direct CO2 emissions     g CO2/MJ   38.500000   \n5         NaN                   Capture rate             %    0.000000   \n6         NaN             Energy to drive SMR          NaN         NaN   \n7         NaN                    CH4 consumed     g CH4/MJ   11.600000   \n8         NaN                    CO2 produced     g CO2/MJ   31.800000   \n9         NaN          Fugitive CH4 emissions     g CH4/MJ    0.410000   \n10        NaN          Fugitive CH4 emissions  g CO2 eq/MJ   35.300000   \n11        NaN            Direct CO2 emissions     g CO2/MJ   31.800000   \n12        NaN                   Capture rate             %    0.000000   \n13        NaN  Energy to power carbon capture          NaN         NaN   \n14        NaN                    CH4 consumed     g CH4/MJ    0.000000   \n15        NaN                    CO2 produced     g CO2/MJ    0.000000   \n16        NaN          Fugitive CH4 emissions     g CH4/MJ    0.000000   \n17        NaN          Fugitive CH4 emissions  g CO2 eq/MJ    0.000000   \n18        NaN            Direct CO2 emissions     g CO2/MJ    0.000000   \n19        NaN     Indirect upstream emissions            %    0.075000   \n20        NaN     Indirect upstream emissions     g CO2/MJ    5.272500   \n21        NaN              Total CH4 consumed     g CH4/MJ   25.600000   \n22        NaN      Total direct CO2 emissions     g CO2/MJ   70.300000   \n23        NaN               Total CO2 emitted     g CO2/MJ   75.572500   \n24        NaN     Total fugitve CH4 emissions  g CO2 eq/MJ   77.440000   \n25        NaN             Total GHG emissions  g CO2 eq/MJ  153.012500   \n26        NaN                             NaN          NaN         NaN   \n27        NaN          9 @ GWP100, 10 @ GWP20          NaN         NaN   \n28        NaN                             NaN          NaN         NaN   \n29        NaN                             NaN          NaN         NaN   \n30        NaN                             NaN          NaN         NaN   \n31        NaN                             NaN          NaN         NaN   \n32        NaN                             NaN          NaN         NaN   \n33        NaN                             NaN          NaN         NaN   \n34        NaN                             NaN          NaN         NaN   \n35        NaN                             NaN          NaN         NaN   \n36        NaN                             NaN          NaN         NaN   \n37        NaN                             NaN          NaN         NaN   \n38        NaN                             NaN          NaN         NaN   \n39        NaN                             NaN          NaN         NaN   \n40        NaN                             NaN          NaN         NaN   \n41        NaN                             NaN          NaN         NaN   \n42        NaN                             NaN          NaN         NaN   \n43        NaN                             NaN          NaN         NaN   \n44        NaN                             NaN          NaN         NaN   \n45        NaN                             NaN          NaN         NaN   \n46        NaN                             NaN          NaN         NaN   \n47        NaN                             NaN          NaN         NaN   \n48        NaN                             NaN          NaN         NaN   \n49        NaN                             NaN          NaN         NaN   \n50        NaN                             NaN          NaN         NaN   \n51        NaN                             NaN          NaN         NaN   \n52        NaN                             NaN          NaN         NaN   \n53        NaN                             NaN          NaN         NaN   \n54        NaN                             NaN          NaN         NaN   \n55        NaN                             NaN          NaN         NaN   \n56        NaN                             NaN          NaN         NaN   \n57        NaN                             NaN          NaN         NaN   \n58        NaN                             NaN          NaN         NaN   \n59        NaN                             NaN          NaN         NaN   \n\n    blue w/o flue gas capture  blue w/ flue gas cpature  same @ LHV  \\\n0                   14.000000                 14.000000         NaN   \n1                   37.270289                 37.270289         NaN   \n2                    0.490000                  0.490000         NaN   \n3                   42.140000                 42.140000         NaN   \n4                    5.775000                  5.775000         NaN   \n5                    0.850000                  0.850000         NaN   \n6                         NaN                       NaN         NaN   \n7                   11.600000                 11.600000         NaN   \n8                   31.800000                 31.800000         NaN   \n9                    0.410000                  0.410000         NaN   \n10                  35.300000                 35.300000         NaN   \n11                  31.800000                 11.130000         NaN   \n12                   0.000000                  0.650000         NaN   \n13                        NaN                       NaN         NaN   \n14                   3.000000                  6.000000         NaN   \n15                   8.200000                 16.300000         NaN   \n16                   0.110000                  0.210000         NaN   \n17                   9.460000                 18.060000         NaN   \n18                   8.200000                 16.000000         NaN   \n19                   0.075000                  0.075000         NaN   \n20                   5.887500                  6.472500         NaN   \n21                  28.600000                 31.600000         NaN   \n22                  45.775000                 32.905000         NaN   \n23                  51.662500                 39.377500         NaN   \n24                  86.900000                 95.500000         NaN   \n25                 138.562500                134.877500         NaN   \n26                        NaN                       NaN         NaN   \n27                        NaN                       NaN         NaN   \n28                        NaN                       NaN         NaN   \n29                        NaN                       NaN         NaN   \n30                        NaN                       NaN         NaN   \n31                        NaN                       NaN         NaN   \n32                        NaN                       NaN         NaN   \n33                        NaN                       NaN         NaN   \n34                        NaN                       NaN         NaN   \n35                        NaN                       NaN         NaN   \n36                        NaN                       NaN         NaN   \n37                        NaN                       NaN         NaN   \n38                        NaN                       NaN         NaN   \n39                        NaN                       NaN         NaN   \n40                        NaN                       NaN         NaN   \n41                        NaN                       NaN         NaN   \n42                        NaN                       NaN         NaN   \n43                        NaN                       NaN         NaN   \n44                        NaN                       NaN         NaN   \n45                        NaN                       NaN         NaN   \n46                        NaN                       NaN         NaN   \n47                        NaN                       NaN         NaN   \n48                        NaN                       NaN         NaN   \n49                        NaN                       NaN         NaN   \n50                        NaN                       NaN         NaN   \n51                        NaN                       NaN         NaN   \n52                        NaN                       NaN         NaN   \n53                        NaN                       NaN         NaN   \n54                        NaN                       NaN         NaN   \n55                        NaN                       NaN         NaN   \n56                        NaN                       NaN         NaN   \n57                        NaN                       NaN         NaN   \n58                        NaN                       NaN         NaN   \n59                        NaN                       NaN         NaN   \n\n        Grey.1  blue w/o flue gas capture.1  blue w/ flue gas cpature.1  \n0          NaN                    14.000000                   14.000000  \n1    45.426989                    45.426989                   45.426989  \n2     0.490000                     0.490000                    0.490000  \n3    42.140000                    42.140000                   42.140000  \n4    41.941879                     6.291282                    6.291282  \n5     0.000000                     0.850000                    0.850000  \n6          NaN                          NaN                         NaN  \n7    11.600000                    11.600000                   11.600000  \n8    31.800000                    31.800000                   31.800000  \n9     0.410000                     0.410000                    0.410000  \n10   35.300000                    35.300000                   35.300000  \n11   31.800000                    31.800000                   11.130000  \n12    0.000000                     0.000000                    0.650000  \n13         NaN                          NaN                         NaN  \n14    0.000000                     3.000000                    6.000000  \n15    0.000000                     8.200000                   16.300000  \n16    0.000000                     0.110000                    0.210000  \n17    0.000000                     9.460000                   18.060000  \n18    0.000000                     8.200000                   16.000000  \n19    0.075000                     0.075000                    0.075000  \n20    5.530641                     6.145641                    6.730641  \n21   57.026989                    28.600000                   31.600000  \n22   73.741879                    46.291282                   33.421282  \n23   79.272520                    52.436923                   40.151923  \n24   77.440000                    86.900000                   95.500000  \n25  156.712520                   139.336923                  135.651923  \n26         NaN                          NaN                         NaN  \n27         NaN                          NaN                         NaN  \n28         NaN                          NaN                         NaN  \n29         NaN                          NaN                         NaN  \n30         NaN                          NaN                         NaN  \n31         NaN                          NaN                         NaN  \n32         NaN                          NaN                         NaN  \n33         NaN                          NaN                         NaN  \n34         NaN                          NaN                         NaN  \n35         NaN                          NaN                         NaN  \n36         NaN                          NaN                         NaN  \n37         NaN                          NaN                         NaN  \n38         NaN                          NaN                         NaN  \n39         NaN                          NaN                         NaN  \n40         NaN                          NaN                         NaN  \n41         NaN                          NaN                         NaN  \n42         NaN                          NaN                         NaN  \n43         NaN                          NaN                         NaN  \n44         NaN                          NaN                         NaN  \n45         NaN                          NaN                         NaN  \n46         NaN                          NaN                         NaN  \n47         NaN                          NaN                         NaN  \n48         NaN                          NaN                         NaN  \n49         NaN                          NaN                         NaN  \n50         NaN                          NaN                         NaN  \n51         NaN                          NaN                         NaN  \n52         NaN                          NaN                         NaN  \n53         NaN                          NaN                         NaN  \n54         NaN                          NaN                         NaN  \n55         NaN                          NaN                         NaN  \n56         NaN                          NaN                         NaN  \n57         NaN                          NaN                         NaN  \n58         NaN                          NaN                         NaN  \n59         NaN                          NaN                         NaN  ",
      "text/html": "<div>\n<style scoped>\n    .dataframe tbody tr th:only-of-type {\n        vertical-align: middle;\n    }\n\n    .dataframe tbody tr th {\n        vertical-align: top;\n    }\n\n    .dataframe thead th {\n        text-align: right;\n    }\n</style>\n<table border=\"1\" class=\"dataframe\">\n  <thead>\n    <tr style=\"text-align: right;\">\n      <th></th>\n      <th>Properties</th>\n      <th>Parameter</th>\n      <th>Ref</th>\n      <th>Unnamed: 3</th>\n      <th>Unnamed: 4</th>\n      <th>Unnamed: 5</th>\n      <th>SMR process @ HHV</th>\n      <th>Units</th>\n      <th>Grey</th>\n      <th>blue w/o flue gas capture</th>\n      <th>blue w/ flue gas cpature</th>\n      <th>same @ LHV</th>\n      <th>Grey.1</th>\n      <th>blue w/o flue gas capture.1</th>\n      <th>blue w/ flue gas cpature.1</th>\n    </tr>\n  </thead>\n  <tbody>\n    <tr>\n      <th>0</th>\n      <td>CH4 LHV [KWh/kg]</td>\n      <td>13.100000</td>\n      <td>NaN</td>\n      <td>1 MJ</td>\n      <td>3.6</td>\n      <td>kWh</td>\n      <td>CH4 consumed</td>\n      <td>g CH4/MJ</td>\n      <td>14.000000</td>\n      <td>14.000000</td>\n      <td>14.000000</td>\n      <td>NaN</td>\n      <td>NaN</td>\n      <td>14.000000</td>\n      <td>14.000000</td>\n    </tr>\n    <tr>\n      <th>1</th>\n      <td>H2 LHV [KWh/kg]</td>\n      <td>33.330000</td>\n      <td>NaN</td>\n      <td>NaN</td>\n      <td>75</td>\n      <td>g CO2/MJ</td>\n      <td>CO2 produced</td>\n      <td>g CO2/MJ</td>\n      <td>37.270289</td>\n      <td>37.270289</td>\n      <td>37.270289</td>\n      <td>NaN</td>\n      <td>45.426989</td>\n      <td>45.426989</td>\n      <td>45.426989</td>\n    </tr>\n    <tr>\n      <th>2</th>\n      <td>GWP20 [Years]</td>\n      <td>86.000000</td>\n      <td>NaN</td>\n      <td>NaN</td>\n      <td>270</td>\n      <td>g CO2/kWh</td>\n      <td>Fugitive CH4 emissions</td>\n      <td>g CH4/MJ</td>\n      <td>0.490000</td>\n      <td>0.490000</td>\n      <td>0.490000</td>\n      <td>NaN</td>\n      <td>0.490000</td>\n      <td>0.490000</td>\n      <td>0.490000</td>\n    </tr>\n    <tr>\n      <th>3</th>\n      <td>GWP100 [Years]</td>\n      <td>30.000000</td>\n      <td>Bauer</td>\n      <td>NaN</td>\n      <td>8999.1</td>\n      <td>g CO2/kg</td>\n      <td>Fugitive CH4 emissions</td>\n      <td>g CO2 eq/MJ</td>\n      <td>42.140000</td>\n      <td>42.140000</td>\n      <td>42.140000</td>\n      <td>NaN</td>\n      <td>42.140000</td>\n      <td>42.140000</td>\n      <td>42.140000</td>\n    </tr>\n    <tr>\n      <th>4</th>\n      <td>Emission intensity CH4  [g CO2/MJ]</td>\n      <td>56.000000</td>\n      <td>NaN</td>\n      <td>NaN</td>\n      <td>NaN</td>\n      <td>NaN</td>\n      <td>Direct CO2 emissions</td>\n      <td>g CO2/MJ</td>\n      <td>38.500000</td>\n      <td>5.775000</td>\n      <td>5.775000</td>\n      <td>NaN</td>\n      <td>41.941879</td>\n      <td>6.291282</td>\n      <td>6.291282</td>\n    </tr>\n    <tr>\n      <th>5</th>\n      <td>HHV H2 [MJ/mole]</td>\n      <td>0.286000</td>\n      <td>NaN</td>\n      <td>45</td>\n      <td>NaN</td>\n      <td>NaN</td>\n      <td>Capture rate</td>\n      <td>%</td>\n      <td>0.000000</td>\n      <td>0.850000</td>\n      <td>0.850000</td>\n      <td>NaN</td>\n      <td>0.000000</td>\n      <td>0.850000</td>\n      <td>0.850000</td>\n    </tr>\n    <tr>\n      <th>6</th>\n      <td>LHV H2 [MJ/mole]</td>\n      <td>0.242202</td>\n      <td>NaN</td>\n      <td>NaN</td>\n      <td>NaN</td>\n      <td>NaN</td>\n      <td>Energy to drive SMR</td>\n      <td>NaN</td>\n      <td>NaN</td>\n      <td>NaN</td>\n      <td>NaN</td>\n      <td>NaN</td>\n      <td>NaN</td>\n      <td>NaN</td>\n      <td>NaN</td>\n    </tr>\n    <tr>\n      <th>7</th>\n      <td>HHV H2 [mole/MJ]</td>\n      <td>3.496503</td>\n      <td>NaN</td>\n      <td>NaN</td>\n      <td>NaN</td>\n      <td>NaN</td>\n      <td>CH4 consumed</td>\n      <td>g CH4/MJ</td>\n      <td>11.600000</td>\n      <td>11.600000</td>\n      <td>11.600000</td>\n      <td>NaN</td>\n      <td>11.600000</td>\n      <td>11.600000</td>\n      <td>11.600000</td>\n    </tr>\n    <tr>\n      <th>8</th>\n      <td>HHV [CO2/MJ_H2]</td>\n      <td>0.874126</td>\n      <td>NaN</td>\n      <td>NaN</td>\n      <td>NaN</td>\n      <td>NaN</td>\n      <td>CO2 produced</td>\n      <td>g CO2/MJ</td>\n      <td>31.800000</td>\n      <td>31.800000</td>\n      <td>31.800000</td>\n      <td>NaN</td>\n      <td>31.800000</td>\n      <td>31.800000</td>\n      <td>31.800000</td>\n    </tr>\n    <tr>\n      <th>9</th>\n      <td>HHV H2 [MJ/kg]</td>\n      <td>141.700000</td>\n      <td>NaN</td>\n      <td>NaN</td>\n      <td>NaN</td>\n      <td>NaN</td>\n      <td>Fugitive CH4 emissions</td>\n      <td>g CH4/MJ</td>\n      <td>0.410000</td>\n      <td>0.410000</td>\n      <td>0.410000</td>\n      <td>NaN</td>\n      <td>0.410000</td>\n      <td>0.410000</td>\n      <td>0.410000</td>\n    </tr>\n    <tr>\n      <th>10</th>\n      <td>LHV H2 [MJ/kg]</td>\n      <td>120.000000</td>\n      <td>NaN</td>\n      <td>NaN</td>\n      <td>NaN</td>\n      <td>NaN</td>\n      <td>Fugitive CH4 emissions</td>\n      <td>g CO2 eq/MJ</td>\n      <td>35.300000</td>\n      <td>35.300000</td>\n      <td>35.300000</td>\n      <td>NaN</td>\n      <td>35.300000</td>\n      <td>35.300000</td>\n      <td>35.300000</td>\n    </tr>\n    <tr>\n      <th>11</th>\n      <td>LHV H2 [mole/MJ]</td>\n      <td>4.128788</td>\n      <td>NaN</td>\n      <td>NaN</td>\n      <td>NaN</td>\n      <td>NaN</td>\n      <td>Direct CO2 emissions</td>\n      <td>g CO2/MJ</td>\n      <td>31.800000</td>\n      <td>31.800000</td>\n      <td>11.130000</td>\n      <td>NaN</td>\n      <td>31.800000</td>\n      <td>31.800000</td>\n      <td>11.130000</td>\n    </tr>\n    <tr>\n      <th>12</th>\n      <td>ratio LHV/HHV</td>\n      <td>0.846860</td>\n      <td>NaN</td>\n      <td>NaN</td>\n      <td>NaN</td>\n      <td>NaN</td>\n      <td>Capture rate</td>\n      <td>%</td>\n      <td>0.000000</td>\n      <td>0.000000</td>\n      <td>0.650000</td>\n      <td>NaN</td>\n      <td>0.000000</td>\n      <td>0.000000</td>\n      <td>0.650000</td>\n    </tr>\n    <tr>\n      <th>13</th>\n      <td>LHV [CO2/MJ_H2]</td>\n      <td>1.032197</td>\n      <td>NaN</td>\n      <td>NaN</td>\n      <td>NaN</td>\n      <td>NaN</td>\n      <td>Energy to power carbon capture</td>\n      <td>NaN</td>\n      <td>NaN</td>\n      <td>NaN</td>\n      <td>NaN</td>\n      <td>NaN</td>\n      <td>NaN</td>\n      <td>NaN</td>\n      <td>NaN</td>\n    </tr>\n    <tr>\n      <th>14</th>\n      <td>CO2 [g/Mole]</td>\n      <td>44.010000</td>\n      <td>howarth</td>\n      <td>NaN</td>\n      <td>NaN</td>\n      <td>NaN</td>\n      <td>CH4 consumed</td>\n      <td>g CH4/MJ</td>\n      <td>0.000000</td>\n      <td>3.000000</td>\n      <td>6.000000</td>\n      <td>NaN</td>\n      <td>0.000000</td>\n      <td>3.000000</td>\n      <td>6.000000</td>\n    </tr>\n    <tr>\n      <th>15</th>\n      <td>CH4 [g/Mole]</td>\n      <td>16.040000</td>\n      <td>NaN</td>\n      <td>NaN</td>\n      <td>NaN</td>\n      <td>NaN</td>\n      <td>CO2 produced</td>\n      <td>g CO2/MJ</td>\n      <td>0.000000</td>\n      <td>8.200000</td>\n      <td>16.300000</td>\n      <td>NaN</td>\n      <td>0.000000</td>\n      <td>8.200000</td>\n      <td>16.300000</td>\n    </tr>\n    <tr>\n      <th>16</th>\n      <td>Energy to drive SMR</td>\n      <td>NaN</td>\n      <td>NaN</td>\n      <td>NaN</td>\n      <td>NaN</td>\n      <td>NaN</td>\n      <td>Fugitive CH4 emissions</td>\n      <td>g CH4/MJ</td>\n      <td>0.000000</td>\n      <td>0.110000</td>\n      <td>0.210000</td>\n      <td>NaN</td>\n      <td>0.000000</td>\n      <td>0.110000</td>\n      <td>0.210000</td>\n    </tr>\n    <tr>\n      <th>17</th>\n      <td>Heat Input [MJ/mole_H2]</td>\n      <td>0.181400</td>\n      <td>NaN</td>\n      <td>NaN</td>\n      <td>NaN</td>\n      <td>NaN</td>\n      <td>Fugitive CH4 emissions</td>\n      <td>g CO2 eq/MJ</td>\n      <td>0.000000</td>\n      <td>9.460000</td>\n      <td>18.060000</td>\n      <td>NaN</td>\n      <td>0.000000</td>\n      <td>9.460000</td>\n      <td>18.060000</td>\n    </tr>\n    <tr>\n      <th>18</th>\n      <td>LCA emissions sources</td>\n      <td>NaN</td>\n      <td>NaN</td>\n      <td>NaN</td>\n      <td>NaN</td>\n      <td>NaN</td>\n      <td>Direct CO2 emissions</td>\n      <td>g CO2/MJ</td>\n      <td>0.000000</td>\n      <td>8.200000</td>\n      <td>16.000000</td>\n      <td>NaN</td>\n      <td>0.000000</td>\n      <td>8.200000</td>\n      <td>16.000000</td>\n    </tr>\n    <tr>\n      <th>19</th>\n      <td>Upstream</td>\n      <td>NaN</td>\n      <td>NaN</td>\n      <td>NaN</td>\n      <td>NaN</td>\n      <td>NaN</td>\n      <td>Indirect upstream emissions</td>\n      <td>%</td>\n      <td>0.075000</td>\n      <td>0.075000</td>\n      <td>0.075000</td>\n      <td>NaN</td>\n      <td>0.075000</td>\n      <td>0.075000</td>\n      <td>0.075000</td>\n    </tr>\n    <tr>\n      <th>20</th>\n      <td>Upstream methane leakage rate [%] low</td>\n      <td>0.002000</td>\n      <td>Antonini et al 2020</td>\n      <td>NaN</td>\n      <td>NaN</td>\n      <td>NaN</td>\n      <td>Indirect upstream emissions</td>\n      <td>g CO2/MJ</td>\n      <td>5.272500</td>\n      <td>5.887500</td>\n      <td>6.472500</td>\n      <td>NaN</td>\n      <td>5.530641</td>\n      <td>6.145641</td>\n      <td>6.730641</td>\n    </tr>\n    <tr>\n      <th>21</th>\n      <td>Upstream methane leakage rate [%] mid</td>\n      <td>0.015000</td>\n      <td>Antonini et al 2020</td>\n      <td>NaN</td>\n      <td>NaN</td>\n      <td>NaN</td>\n      <td>Total CH4 consumed</td>\n      <td>g CH4/MJ</td>\n      <td>25.600000</td>\n      <td>28.600000</td>\n      <td>31.600000</td>\n      <td>NaN</td>\n      <td>57.026989</td>\n      <td>28.600000</td>\n      <td>31.600000</td>\n    </tr>\n    <tr>\n      <th>22</th>\n      <td>Upstream methane leakage rate [%] high</td>\n      <td>0.080000</td>\n      <td>Antonini et al 2020</td>\n      <td>NaN</td>\n      <td>NaN</td>\n      <td>NaN</td>\n      <td>Total direct CO2 emissions</td>\n      <td>g CO2/MJ</td>\n      <td>70.300000</td>\n      <td>45.775000</td>\n      <td>32.905000</td>\n      <td>NaN</td>\n      <td>73.741879</td>\n      <td>46.291282</td>\n      <td>33.421282</td>\n    </tr>\n    <tr>\n      <th>23</th>\n      <td>Upstream methane emissions [g CO2e/MJ_H2] low</td>\n      <td>5.469600</td>\n      <td>NaN</td>\n      <td>NaN</td>\n      <td>NaN</td>\n      <td>NaN</td>\n      <td>Total CO2 emitted</td>\n      <td>g CO2/MJ</td>\n      <td>75.572500</td>\n      <td>51.662500</td>\n      <td>39.377500</td>\n      <td>NaN</td>\n      <td>79.272520</td>\n      <td>52.436923</td>\n      <td>40.151923</td>\n    </tr>\n    <tr>\n      <th>24</th>\n      <td>Upstream methane emissions [g CO2e/MJ_H2] mid</td>\n      <td>41.022000</td>\n      <td>NaN</td>\n      <td>NaN</td>\n      <td>NaN</td>\n      <td>NaN</td>\n      <td>Total fugitve CH4 emissions</td>\n      <td>g CO2 eq/MJ</td>\n      <td>77.440000</td>\n      <td>86.900000</td>\n      <td>95.500000</td>\n      <td>NaN</td>\n      <td>77.440000</td>\n      <td>86.900000</td>\n      <td>95.500000</td>\n    </tr>\n    <tr>\n      <th>25</th>\n      <td>Upstream methane emissions [g CO2e/MJ_H2] high</td>\n      <td>218.784000</td>\n      <td>NaN</td>\n      <td>NaN</td>\n      <td>NaN</td>\n      <td>NaN</td>\n      <td>Total GHG emissions</td>\n      <td>g CO2 eq/MJ</td>\n      <td>153.012500</td>\n      <td>138.562500</td>\n      <td>134.877500</td>\n      <td>NaN</td>\n      <td>156.712520</td>\n      <td>139.336923</td>\n      <td>135.651923</td>\n    </tr>\n    <tr>\n      <th>26</th>\n      <td>Indirect upstream emissions [%]</td>\n      <td>0.075000</td>\n      <td>howarth</td>\n      <td>NaN</td>\n      <td>NaN</td>\n      <td>NaN</td>\n      <td>NaN</td>\n      <td>NaN</td>\n      <td>NaN</td>\n      <td>NaN</td>\n      <td>NaN</td>\n      <td>NaN</td>\n      <td>NaN</td>\n      <td>NaN</td>\n      <td>NaN</td>\n    </tr>\n    <tr>\n      <th>27</th>\n      <td>Indirect upstream emissions [g CO2e/MJ_CH4]</td>\n      <td>NaN</td>\n      <td>NaN</td>\n      <td>NaN</td>\n      <td>NaN</td>\n      <td>NaN</td>\n      <td>9 @ GWP100, 10 @ GWP20</td>\n      <td>NaN</td>\n      <td>NaN</td>\n      <td>NaN</td>\n      <td>NaN</td>\n      <td>NaN</td>\n      <td>NaN</td>\n      <td>NaN</td>\n      <td>NaN</td>\n    </tr>\n    <tr>\n      <th>28</th>\n      <td>Energy to power carbon capture</td>\n      <td>NaN</td>\n      <td>NaN</td>\n      <td>NaN</td>\n      <td>NaN</td>\n      <td>NaN</td>\n      <td>NaN</td>\n      <td>NaN</td>\n      <td>NaN</td>\n      <td>NaN</td>\n      <td>NaN</td>\n      <td>NaN</td>\n      <td>NaN</td>\n      <td>NaN</td>\n      <td>NaN</td>\n    </tr>\n    <tr>\n      <th>29</th>\n      <td>Electricty from grid</td>\n      <td>9.000000</td>\n      <td>9</td>\n      <td>9</td>\n      <td>Antonini et al 2020</td>\n      <td>NaN</td>\n      <td>NaN</td>\n      <td>NaN</td>\n      <td>NaN</td>\n      <td>NaN</td>\n      <td>NaN</td>\n      <td>NaN</td>\n      <td>NaN</td>\n      <td>NaN</td>\n      <td>NaN</td>\n    </tr>\n    <tr>\n      <th>30</th>\n      <td>H2 Production</td>\n      <td>NaN</td>\n      <td>NaN</td>\n      <td>NaN</td>\n      <td>NaN</td>\n      <td>NaN</td>\n      <td>NaN</td>\n      <td>NaN</td>\n      <td>NaN</td>\n      <td>NaN</td>\n      <td>NaN</td>\n      <td>NaN</td>\n      <td>NaN</td>\n      <td>NaN</td>\n      <td>NaN</td>\n    </tr>\n    <tr>\n      <th>31</th>\n      <td>CO2 from SMR as feedstock [g CO2/MJ]</td>\n      <td>45.400000</td>\n      <td>NaN</td>\n      <td>NaN</td>\n      <td>NaN</td>\n      <td>NaN</td>\n      <td>NaN</td>\n      <td>NaN</td>\n      <td>NaN</td>\n      <td>NaN</td>\n      <td>NaN</td>\n      <td>NaN</td>\n      <td>NaN</td>\n      <td>NaN</td>\n      <td>NaN</td>\n    </tr>\n    <tr>\n      <th>32</th>\n      <td>CO2 from SMR as fuel [g CO2/MJ]</td>\n      <td>41.900000</td>\n      <td>NaN</td>\n      <td>NaN</td>\n      <td>NaN</td>\n      <td>NaN</td>\n      <td>NaN</td>\n      <td>NaN</td>\n      <td>NaN</td>\n      <td>NaN</td>\n      <td>NaN</td>\n      <td>NaN</td>\n      <td>NaN</td>\n      <td>NaN</td>\n      <td>NaN</td>\n    </tr>\n    <tr>\n      <th>33</th>\n      <td>Capture rate [%] flue gas</td>\n      <td>0.650000</td>\n      <td>NaN</td>\n      <td>NaN</td>\n      <td>NaN</td>\n      <td>NaN</td>\n      <td>NaN</td>\n      <td>NaN</td>\n      <td>NaN</td>\n      <td>NaN</td>\n      <td>NaN</td>\n      <td>NaN</td>\n      <td>NaN</td>\n      <td>NaN</td>\n      <td>NaN</td>\n    </tr>\n    <tr>\n      <th>34</th>\n      <td>Direct CO2 emissions [g CO2/MJ]</td>\n      <td>75.000000</td>\n      <td>Bartlett J, Krupnick A. Decarbonized Hydrogen ...</td>\n      <td>IEA. The Future of Hydrogen: Seizing Today's O...</td>\n      <td>NaN</td>\n      <td>NaN</td>\n      <td>NaN</td>\n      <td>NaN</td>\n      <td>NaN</td>\n      <td>NaN</td>\n      <td>NaN</td>\n      <td>NaN</td>\n      <td>NaN</td>\n      <td>NaN</td>\n      <td>NaN</td>\n    </tr>\n    <tr>\n      <th>35</th>\n      <td>CH4 consumed for grey H2 [g CH4/MJ_H2]</td>\n      <td>31.800000</td>\n      <td>NaN</td>\n      <td>NaN</td>\n      <td>NaN</td>\n      <td>NaN</td>\n      <td>NaN</td>\n      <td>NaN</td>\n      <td>NaN</td>\n      <td>NaN</td>\n      <td>NaN</td>\n      <td>NaN</td>\n      <td>NaN</td>\n      <td>NaN</td>\n      <td>NaN</td>\n    </tr>\n    <tr>\n      <th>36</th>\n      <td>Capture rate [%] low</td>\n      <td>0.550000</td>\n      <td>NaN</td>\n      <td>NaN</td>\n      <td>NaN</td>\n      <td>NaN</td>\n      <td>NaN</td>\n      <td>NaN</td>\n      <td>NaN</td>\n      <td>NaN</td>\n      <td>NaN</td>\n      <td>NaN</td>\n      <td>NaN</td>\n      <td>NaN</td>\n      <td>NaN</td>\n    </tr>\n    <tr>\n      <th>37</th>\n      <td>Capture rate [%] mid</td>\n      <td>0.800000</td>\n      <td>NaN</td>\n      <td>NaN</td>\n      <td>NaN</td>\n      <td>NaN</td>\n      <td>NaN</td>\n      <td>NaN</td>\n      <td>NaN</td>\n      <td>NaN</td>\n      <td>NaN</td>\n      <td>NaN</td>\n      <td>NaN</td>\n      <td>NaN</td>\n      <td>NaN</td>\n    </tr>\n    <tr>\n      <th>38</th>\n      <td>Capture rate [%] high</td>\n      <td>0.950000</td>\n      <td>NaN</td>\n      <td>NaN</td>\n      <td>NaN</td>\n      <td>NaN</td>\n      <td>NaN</td>\n      <td>NaN</td>\n      <td>NaN</td>\n      <td>NaN</td>\n      <td>NaN</td>\n      <td>NaN</td>\n      <td>NaN</td>\n      <td>NaN</td>\n      <td>NaN</td>\n    </tr>\n    <tr>\n      <th>39</th>\n      <td>NaN</td>\n      <td>NaN</td>\n      <td>NaN</td>\n      <td>NaN</td>\n      <td>NaN</td>\n      <td>NaN</td>\n      <td>NaN</td>\n      <td>NaN</td>\n      <td>NaN</td>\n      <td>NaN</td>\n      <td>NaN</td>\n      <td>NaN</td>\n      <td>NaN</td>\n      <td>NaN</td>\n      <td>NaN</td>\n    </tr>\n    <tr>\n      <th>40</th>\n      <td>NaN</td>\n      <td>NaN</td>\n      <td>NaN</td>\n      <td>NaN</td>\n      <td>NaN</td>\n      <td>NaN</td>\n      <td>NaN</td>\n      <td>NaN</td>\n      <td>NaN</td>\n      <td>NaN</td>\n      <td>NaN</td>\n      <td>NaN</td>\n      <td>NaN</td>\n      <td>NaN</td>\n      <td>NaN</td>\n    </tr>\n    <tr>\n      <th>41</th>\n      <td>NaN</td>\n      <td>NaN</td>\n      <td>NaN</td>\n      <td>NaN</td>\n      <td>NaN</td>\n      <td>NaN</td>\n      <td>NaN</td>\n      <td>NaN</td>\n      <td>NaN</td>\n      <td>NaN</td>\n      <td>NaN</td>\n      <td>NaN</td>\n      <td>NaN</td>\n      <td>NaN</td>\n      <td>NaN</td>\n    </tr>\n    <tr>\n      <th>42</th>\n      <td>NaN</td>\n      <td>NaN</td>\n      <td>NaN</td>\n      <td>NaN</td>\n      <td>NaN</td>\n      <td>NaN</td>\n      <td>NaN</td>\n      <td>NaN</td>\n      <td>NaN</td>\n      <td>NaN</td>\n      <td>NaN</td>\n      <td>NaN</td>\n      <td>NaN</td>\n      <td>NaN</td>\n      <td>NaN</td>\n    </tr>\n    <tr>\n      <th>43</th>\n      <td>NaN</td>\n      <td>NaN</td>\n      <td>NaN</td>\n      <td>NaN</td>\n      <td>NaN</td>\n      <td>NaN</td>\n      <td>NaN</td>\n      <td>NaN</td>\n      <td>NaN</td>\n      <td>NaN</td>\n      <td>NaN</td>\n      <td>NaN</td>\n      <td>NaN</td>\n      <td>NaN</td>\n      <td>NaN</td>\n    </tr>\n    <tr>\n      <th>44</th>\n      <td>NaN</td>\n      <td>NaN</td>\n      <td>NaN</td>\n      <td>NaN</td>\n      <td>NaN</td>\n      <td>NaN</td>\n      <td>NaN</td>\n      <td>NaN</td>\n      <td>NaN</td>\n      <td>NaN</td>\n      <td>NaN</td>\n      <td>NaN</td>\n      <td>NaN</td>\n      <td>NaN</td>\n      <td>NaN</td>\n    </tr>\n    <tr>\n      <th>45</th>\n      <td>NaN</td>\n      <td>NaN</td>\n      <td>NaN</td>\n      <td>NaN</td>\n      <td>NaN</td>\n      <td>NaN</td>\n      <td>NaN</td>\n      <td>NaN</td>\n      <td>NaN</td>\n      <td>NaN</td>\n      <td>NaN</td>\n      <td>NaN</td>\n      <td>NaN</td>\n      <td>NaN</td>\n      <td>NaN</td>\n    </tr>\n    <tr>\n      <th>46</th>\n      <td>NaN</td>\n      <td>NaN</td>\n      <td>NaN</td>\n      <td>NaN</td>\n      <td>NaN</td>\n      <td>NaN</td>\n      <td>NaN</td>\n      <td>NaN</td>\n      <td>NaN</td>\n      <td>NaN</td>\n      <td>NaN</td>\n      <td>NaN</td>\n      <td>NaN</td>\n      <td>NaN</td>\n      <td>NaN</td>\n    </tr>\n    <tr>\n      <th>47</th>\n      <td>NaN</td>\n      <td>NaN</td>\n      <td>NaN</td>\n      <td>NaN</td>\n      <td>NaN</td>\n      <td>NaN</td>\n      <td>NaN</td>\n      <td>NaN</td>\n      <td>NaN</td>\n      <td>NaN</td>\n      <td>NaN</td>\n      <td>NaN</td>\n      <td>NaN</td>\n      <td>NaN</td>\n      <td>NaN</td>\n    </tr>\n    <tr>\n      <th>48</th>\n      <td>Electricty from grid</td>\n      <td>9.000000</td>\n      <td>9</td>\n      <td>9</td>\n      <td>Antonini et al 2020</td>\n      <td>NaN</td>\n      <td>NaN</td>\n      <td>NaN</td>\n      <td>NaN</td>\n      <td>NaN</td>\n      <td>NaN</td>\n      <td>NaN</td>\n      <td>NaN</td>\n      <td>NaN</td>\n      <td>NaN</td>\n    </tr>\n    <tr>\n      <th>49</th>\n      <td>Fuel supply chain, C02 emissions</td>\n      <td>NaN</td>\n      <td>NaN</td>\n      <td>NaN</td>\n      <td>NaN</td>\n      <td>NaN</td>\n      <td>NaN</td>\n      <td>NaN</td>\n      <td>NaN</td>\n      <td>NaN</td>\n      <td>NaN</td>\n      <td>NaN</td>\n      <td>NaN</td>\n      <td>NaN</td>\n      <td>NaN</td>\n    </tr>\n    <tr>\n      <th>50</th>\n      <td>Fuel supply chain, CH4 emissions</td>\n      <td>NaN</td>\n      <td>NaN</td>\n      <td>NaN</td>\n      <td>NaN</td>\n      <td>NaN</td>\n      <td>NaN</td>\n      <td>NaN</td>\n      <td>NaN</td>\n      <td>NaN</td>\n      <td>NaN</td>\n      <td>NaN</td>\n      <td>NaN</td>\n      <td>NaN</td>\n      <td>NaN</td>\n    </tr>\n    <tr>\n      <th>51</th>\n      <td>Energy demand for (re-)compression of natural...</td>\n      <td>NaN</td>\n      <td>9</td>\n      <td>NaN</td>\n      <td>NaN</td>\n      <td>NaN</td>\n      <td>NaN</td>\n      <td>NaN</td>\n      <td>NaN</td>\n      <td>NaN</td>\n      <td>NaN</td>\n      <td>NaN</td>\n      <td>NaN</td>\n      <td>NaN</td>\n      <td>NaN</td>\n    </tr>\n    <tr>\n      <th>52</th>\n      <td>H2 Production</td>\n      <td>0.760000</td>\n      <td>0.77</td>\n      <td>0.77</td>\n      <td>NaN</td>\n      <td>NaN</td>\n      <td>NaN</td>\n      <td>NaN</td>\n      <td>NaN</td>\n      <td>NaN</td>\n      <td>NaN</td>\n      <td>NaN</td>\n      <td>NaN</td>\n      <td>NaN</td>\n      <td>NaN</td>\n    </tr>\n    <tr>\n      <th>53</th>\n      <td>Capture rates</td>\n      <td>NaN</td>\n      <td>NaN</td>\n      <td>NaN</td>\n      <td>NaN</td>\n      <td>NaN</td>\n      <td>NaN</td>\n      <td>NaN</td>\n      <td>NaN</td>\n      <td>NaN</td>\n      <td>NaN</td>\n      <td>NaN</td>\n      <td>NaN</td>\n      <td>NaN</td>\n      <td>NaN</td>\n    </tr>\n    <tr>\n      <th>54</th>\n      <td>Direct CO2 emissions</td>\n      <td>NaN</td>\n      <td>NaN</td>\n      <td>NaN</td>\n      <td>NaN</td>\n      <td>NaN</td>\n      <td>NaN</td>\n      <td>NaN</td>\n      <td>NaN</td>\n      <td>NaN</td>\n      <td>NaN</td>\n      <td>NaN</td>\n      <td>NaN</td>\n      <td>NaN</td>\n      <td>NaN</td>\n    </tr>\n    <tr>\n      <th>55</th>\n      <td>Efficiency CH4 to H2</td>\n      <td>NaN</td>\n      <td>NaN</td>\n      <td>NaN</td>\n      <td>NaN</td>\n      <td>NaN</td>\n      <td>NaN</td>\n      <td>NaN</td>\n      <td>NaN</td>\n      <td>NaN</td>\n      <td>NaN</td>\n      <td>NaN</td>\n      <td>NaN</td>\n      <td>NaN</td>\n      <td>NaN</td>\n    </tr>\n    <tr>\n      <th>56</th>\n      <td>CO2  transport and storage</td>\n      <td>NaN</td>\n      <td>NaN</td>\n      <td>NaN</td>\n      <td>NaN</td>\n      <td>NaN</td>\n      <td>NaN</td>\n      <td>NaN</td>\n      <td>NaN</td>\n      <td>NaN</td>\n      <td>NaN</td>\n      <td>NaN</td>\n      <td>NaN</td>\n      <td>NaN</td>\n      <td>NaN</td>\n    </tr>\n    <tr>\n      <th>57</th>\n      <td>H2 Transport</td>\n      <td>NaN</td>\n      <td>NaN</td>\n      <td>NaN</td>\n      <td>NaN</td>\n      <td>NaN</td>\n      <td>NaN</td>\n      <td>NaN</td>\n      <td>NaN</td>\n      <td>NaN</td>\n      <td>NaN</td>\n      <td>NaN</td>\n      <td>NaN</td>\n      <td>NaN</td>\n      <td>NaN</td>\n    </tr>\n    <tr>\n      <th>58</th>\n      <td>NaN</td>\n      <td>NaN</td>\n      <td>NaN</td>\n      <td>NaN</td>\n      <td>NaN</td>\n      <td>NaN</td>\n      <td>NaN</td>\n      <td>NaN</td>\n      <td>NaN</td>\n      <td>NaN</td>\n      <td>NaN</td>\n      <td>NaN</td>\n      <td>NaN</td>\n      <td>NaN</td>\n      <td>NaN</td>\n    </tr>\n    <tr>\n      <th>59</th>\n      <td>Energy to produce, process, and transport the ...</td>\n      <td>NaN</td>\n      <td>NaN</td>\n      <td>NaN</td>\n      <td>NaN</td>\n      <td>NaN</td>\n      <td>NaN</td>\n      <td>NaN</td>\n      <td>NaN</td>\n      <td>NaN</td>\n      <td>NaN</td>\n      <td>NaN</td>\n      <td>NaN</td>\n      <td>NaN</td>\n      <td>NaN</td>\n    </tr>\n  </tbody>\n</table>\n</div>"
     },
     "execution_count": 3,
     "metadata": {},
     "output_type": "execute_result"
    }
   ],
   "source": [
    "upstream =  pd.read_excel('/Users/jakob/PycharmProjects/H2_pathways_repo/data/raw/20220921_Data_Assumptions.xlsx', sheet_name='LCA', decimal=',')\n",
    "upstream"
   ],
   "metadata": {
    "collapsed": false,
    "pycharm": {
     "name": "#%%\n"
    }
   }
  },
  {
   "cell_type": "markdown",
   "source": [
    "# Definition of variables\n"
   ],
   "metadata": {
    "collapsed": false,
    "pycharm": {
     "name": "#%% md\n"
    }
   }
  },
  {
   "cell_type": "code",
   "execution_count": 4,
   "outputs": [
    {
     "data": {
      "text/plain": "4.128787878787879"
     },
     "execution_count": 4,
     "metadata": {},
     "output_type": "execute_result"
    }
   ],
   "source": [
    "# LHV H2 in moles per MJ\n",
    "LHV_H2_moles_MJ = float(upstream[upstream.Properties == 'LHV H2 [mole/MJ]']['Parameter'].values)\n",
    "LHV_H2_moles_MJ"
   ],
   "metadata": {
    "collapsed": false,
    "pycharm": {
     "name": "#%%\n"
    }
   }
  },
  {
   "cell_type": "code",
   "execution_count": 5,
   "outputs": [
    {
     "data": {
      "text/plain": "1.0321969696969697"
     },
     "execution_count": 5,
     "metadata": {},
     "output_type": "execute_result"
    }
   ],
   "source": [
    "# CO2 produced during SMR @ 1 mole CO2 per 4 moles H2 [moles CO2/MJ]\n",
    "CO2_SMR_mole = LHV_H2_moles_MJ * 1/4\n",
    "CO2_SMR_mole"
   ],
   "metadata": {
    "collapsed": false,
    "pycharm": {
     "name": "#%%\n"
    }
   }
  },
  {
   "cell_type": "code",
   "execution_count": 6,
   "outputs": [
    {
     "data": {
      "text/plain": "44.01"
     },
     "execution_count": 6,
     "metadata": {},
     "output_type": "execute_result"
    }
   ],
   "source": [
    "# Molecular weight of CO2 [g/Mole]\n",
    "CO2_g_mole = float(upstream[upstream.Properties == 'CO2 [g/Mole]']['Parameter'].values)\n",
    "CO2_g_mole"
   ],
   "metadata": {
    "collapsed": false,
    "pycharm": {
     "name": "#%%\n"
    }
   }
  },
  {
   "cell_type": "code",
   "execution_count": 7,
   "outputs": [
    {
     "data": {
      "text/plain": "0.55"
     },
     "execution_count": 7,
     "metadata": {},
     "output_type": "execute_result"
    }
   ],
   "source": [
    "# Capture rate syngas [%] low\n",
    "capture_rate_low = float(upstream[upstream.Properties == 'Capture rate [%] low']['Parameter'].values)\n",
    "capture_rate_low"
   ],
   "metadata": {
    "collapsed": false,
    "pycharm": {
     "name": "#%%\n"
    }
   }
  },
  {
   "cell_type": "code",
   "execution_count": 8,
   "outputs": [
    {
     "data": {
      "text/plain": "0.8"
     },
     "execution_count": 8,
     "metadata": {},
     "output_type": "execute_result"
    }
   ],
   "source": [
    "# Capture rate syngas [%] mid\n",
    "capture_rate_mid = float(upstream[upstream.Properties == 'Capture rate [%] mid']['Parameter'].values)\n",
    "capture_rate_mid"
   ],
   "metadata": {
    "collapsed": false,
    "pycharm": {
     "name": "#%%\n"
    }
   }
  },
  {
   "cell_type": "code",
   "execution_count": 9,
   "outputs": [
    {
     "data": {
      "text/plain": "0.95"
     },
     "execution_count": 9,
     "metadata": {},
     "output_type": "execute_result"
    }
   ],
   "source": [
    "# Capture rate syngas [%] high\n",
    "capture_rate_high = float(upstream[upstream.Properties == 'Capture rate [%] high']['Parameter'].values)\n",
    "capture_rate_high"
   ],
   "metadata": {
    "collapsed": false,
    "pycharm": {
     "name": "#%%\n"
    }
   }
  },
  {
   "cell_type": "code",
   "execution_count": 10,
   "outputs": [
    {
     "data": {
      "text/plain": "16.04"
     },
     "execution_count": 10,
     "metadata": {},
     "output_type": "execute_result"
    }
   ],
   "source": [
    "# Molecular weight of CH4 [g/Mole]\n",
    "CH4_g_mole = float(upstream[upstream.Properties == 'CH4 [g/Mole]']['Parameter'].values)\n",
    "CH4_g_mole"
   ],
   "metadata": {
    "collapsed": false,
    "pycharm": {
     "name": "#%%\n"
    }
   }
  },
  {
   "cell_type": "code",
   "execution_count": 11,
   "outputs": [
    {
     "data": {
      "text/plain": "0.1814"
     },
     "execution_count": 11,
     "metadata": {},
     "output_type": "execute_result"
    }
   ],
   "source": [
    "# Heat consumption to drive SMR in [MJ/mole_H2]\n",
    "Drive_Energy_MJ_mole_h2 = float(upstream[upstream.Properties == 'Heat Input [MJ/mole_H2]']['Parameter'].values)\n",
    "Drive_Energy_MJ_mole_h2"
   ],
   "metadata": {
    "collapsed": false,
    "pycharm": {
     "name": "#%%\n"
    }
   }
  },
  {
   "cell_type": "code",
   "execution_count": 12,
   "outputs": [
    {
     "data": {
      "text/plain": "56.0"
     },
     "execution_count": 12,
     "metadata": {},
     "output_type": "execute_result"
    }
   ],
   "source": [
    "# Emission intensity of CH4 [g CO2/MJ]\n",
    "emission_intensity_CH4 = float(upstream[upstream.Properties == 'Emission intensity CH4  [g CO2/MJ]']['Parameter'].values)\n",
    "emission_intensity_CH4"
   ],
   "metadata": {
    "collapsed": false,
    "pycharm": {
     "name": "#%%\n"
    }
   }
  },
  {
   "cell_type": "code",
   "execution_count": 13,
   "outputs": [
    {
     "data": {
      "text/plain": "0.65"
     },
     "execution_count": 13,
     "metadata": {},
     "output_type": "execute_result"
    }
   ],
   "source": [
    "# Flue gas capture rate [%]\n",
    "capture_rate_flue_gas = float(upstream[upstream.Properties == 'Capture rate [%] flue gas']['Parameter'].values)\n",
    "capture_rate_flue_gas"
   ],
   "metadata": {
    "collapsed": false,
    "pycharm": {
     "name": "#%%\n"
    }
   }
  },
  {
   "cell_type": "code",
   "execution_count": 14,
   "outputs": [
    {
     "data": {
      "text/plain": "86.0"
     },
     "execution_count": 14,
     "metadata": {},
     "output_type": "execute_result"
    }
   ],
   "source": [
    "#GWP20 of methane\n",
    "GWP20_CH4 = float(upstream[upstream.Properties == 'GWP20 [Years]']['Parameter'].values)\n",
    "GWP20_CH4"
   ],
   "metadata": {
    "collapsed": false,
    "pycharm": {
     "name": "#%%\n"
    }
   }
  },
  {
   "cell_type": "code",
   "execution_count": 15,
   "outputs": [
    {
     "data": {
      "text/plain": "30.0"
     },
     "execution_count": 15,
     "metadata": {},
     "output_type": "execute_result"
    }
   ],
   "source": [
    "#GWP100 of methane\n",
    "GWP100_CH4 = float(upstream[upstream.Properties == 'GWP100 [Years]']['Parameter'].values)\n",
    "GWP100_CH4"
   ],
   "metadata": {
    "collapsed": false,
    "pycharm": {
     "name": "#%%\n"
    }
   }
  },
  {
   "cell_type": "code",
   "execution_count": 59,
   "outputs": [
    {
     "data": {
      "text/plain": "0.002"
     },
     "execution_count": 59,
     "metadata": {},
     "output_type": "execute_result"
    }
   ],
   "source": [
    "# Methane leakage rate in %\n",
    "leakage_rate_low = float(upstream[upstream.Properties == 'Upstream methane leakage rate [%] low']['Parameter'].values)\n",
    "leakage_rate_low"
   ],
   "metadata": {
    "collapsed": false,
    "pycharm": {
     "name": "#%%\n"
    }
   }
  },
  {
   "cell_type": "code",
   "execution_count": 16,
   "outputs": [
    {
     "data": {
      "text/plain": "0.015"
     },
     "execution_count": 16,
     "metadata": {},
     "output_type": "execute_result"
    }
   ],
   "source": [
    "# Methane leakage rate in %\n",
    "leakage_rate_mid = float(upstream[upstream.Properties == 'Upstream methane leakage rate [%] mid']['Parameter'].values)\n",
    "leakage_rate_mid"
   ],
   "metadata": {
    "collapsed": false,
    "pycharm": {
     "name": "#%%\n"
    }
   }
  },
  {
   "cell_type": "code",
   "execution_count": 17,
   "outputs": [
    {
     "data": {
      "text/plain": "0.08"
     },
     "execution_count": 17,
     "metadata": {},
     "output_type": "execute_result"
    }
   ],
   "source": [
    "# Methane leakage rate in %\n",
    "leakage_rate_high = float(upstream[upstream.Properties == 'Upstream methane leakage rate [%] high']['Parameter'].values)\n",
    "leakage_rate_high"
   ],
   "metadata": {
    "collapsed": false,
    "pycharm": {
     "name": "#%%\n"
    }
   }
  },
  {
   "cell_type": "markdown",
   "source": [
    "# Direct emissions from SMR"
   ],
   "metadata": {
    "collapsed": false,
    "pycharm": {
     "name": "#%% md\n"
    }
   }
  },
  {
   "cell_type": "code",
   "execution_count": 18,
   "outputs": [
    {
     "data": {
      "text/plain": "45.42698863636364"
     },
     "execution_count": 18,
     "metadata": {},
     "output_type": "execute_result"
    }
   ],
   "source": [
    "# CO2 emissions from SMR process [g CO2/MJ]\n",
    "Direct_emissions_grey = CO2_g_mole * CO2_SMR_mole\n",
    "Direct_emissions_grey"
   ],
   "metadata": {
    "collapsed": false,
    "pycharm": {
     "name": "#%%\n"
    }
   }
  },
  {
   "cell_type": "code",
   "execution_count": 19,
   "outputs": [
    {
     "data": {
      "text/plain": "20.442144886363636"
     },
     "execution_count": 19,
     "metadata": {},
     "output_type": "execute_result"
    }
   ],
   "source": [
    "# CO2 emissions from SMR @ 55% capture rate [g CO2/MJ]\n",
    "Direct_emissions_low = Direct_emissions_grey * (1-capture_rate_low)\n",
    "Direct_emissions_low"
   ],
   "metadata": {
    "collapsed": false,
    "pycharm": {
     "name": "#%%\n"
    }
   }
  },
  {
   "cell_type": "code",
   "execution_count": 20,
   "outputs": [
    {
     "data": {
      "text/plain": "9.085397727272726"
     },
     "execution_count": 20,
     "metadata": {},
     "output_type": "execute_result"
    }
   ],
   "source": [
    "# CO2 emissions from SMR @ 55% capture rate [g CO2/MJ]\n",
    "Direct_emissions_mid = Direct_emissions_grey * (1-capture_rate_mid)\n",
    "Direct_emissions_mid"
   ],
   "metadata": {
    "collapsed": false,
    "pycharm": {
     "name": "#%%\n"
    }
   }
  },
  {
   "cell_type": "code",
   "execution_count": 21,
   "outputs": [
    {
     "data": {
      "text/plain": "2.271349431818184"
     },
     "execution_count": 21,
     "metadata": {},
     "output_type": "execute_result"
    }
   ],
   "source": [
    "# CO2 emissions from SMR @ 55% capture rate [g CO2/MJ]\n",
    "Direct_emissions_high = Direct_emissions_grey * (1-capture_rate_high)\n",
    "Direct_emissions_high"
   ],
   "metadata": {
    "collapsed": false,
    "pycharm": {
     "name": "#%%\n"
    }
   }
  },
  {
   "cell_type": "code",
   "execution_count": 22,
   "outputs": [
    {
     "data": {
      "text/plain": "16.5212"
     },
     "execution_count": 22,
     "metadata": {},
     "output_type": "execute_result"
    }
   ],
   "source": [
    "#CH4 consumed during SMR @ 1 mole CH4 per 4 moles H2 [g CH4/MJ]\n",
    "CH4_SMR_grams = 1.03 * CH4_g_mole\n",
    "CH4_SMR_grams\n"
   ],
   "metadata": {
    "collapsed": false,
    "pycharm": {
     "name": "#%%\n"
    }
   }
  },
  {
   "cell_type": "markdown",
   "source": [
    "# Emissions from energy to drive SMR"
   ],
   "metadata": {
    "collapsed": false,
    "pycharm": {
     "name": "#%% md\n"
    }
   }
  },
  {
   "cell_type": "code",
   "execution_count": 23,
   "outputs": [
    {
     "data": {
      "text/plain": "10.1584"
     },
     "execution_count": 23,
     "metadata": {},
     "output_type": "execute_result"
    }
   ],
   "source": [
    "# When burning natural gas for heat production CO2 is emitted [CO2/mole_H2]\n",
    "Drive_CO2_emissions_mole = Drive_Energy_MJ_mole_h2 * emission_intensity_CH4\n",
    "Drive_CO2_emissions_mole"
   ],
   "metadata": {
    "collapsed": false,
    "pycharm": {
     "name": "#%%\n"
    }
   }
  },
  {
   "cell_type": "code",
   "execution_count": 24,
   "outputs": [
    {
     "data": {
      "text/plain": "41.94187878787879"
     },
     "execution_count": 24,
     "metadata": {},
     "output_type": "execute_result"
    }
   ],
   "source": [
    "# CO2 emissions per MJ hydrogen in order to create heat and pressure - w/o flue gas capture [g CO2/MJ_H2]\n",
    "Drive_CO2_emissions_grams_grey = Drive_CO2_emissions_mole * LHV_H2_moles_MJ\n",
    "Drive_CO2_emissions_grams_grey"
   ],
   "metadata": {
    "collapsed": false,
    "pycharm": {
     "name": "#%%\n"
    }
   }
  },
  {
   "cell_type": "code",
   "execution_count": 25,
   "outputs": [
    {
     "data": {
      "text/plain": "27.262221212121215"
     },
     "execution_count": 25,
     "metadata": {},
     "output_type": "execute_result"
    }
   ],
   "source": [
    "# CO2 emissions drive with flue gas capture [g CO2/MJ]\n",
    "Drive_CO2_emissions_grams_blue = Drive_CO2_emissions_grams_grey * capture_rate_flue_gas\n",
    "Drive_CO2_emissions_grams_blue"
   ],
   "metadata": {
    "collapsed": false,
    "pycharm": {
     "name": "#%%\n"
    }
   }
  },
  {
   "cell_type": "code",
   "execution_count": 26,
   "outputs": [
    {
     "data": {
      "text/plain": "9.936060628094168"
     },
     "execution_count": 26,
     "metadata": {},
     "output_type": "execute_result"
    }
   ],
   "source": [
    "# CH4 consumed to drive the process [g CH4/MJ_H2]\n",
    "Drive_CH4_consumed = Drive_CO2_emissions_grams_blue * 1/CO2_g_mole * CH4_g_mole\n",
    "Drive_CH4_consumed"
   ],
   "metadata": {
    "collapsed": false,
    "pycharm": {
     "name": "#%%\n"
    }
   }
  },
  {
   "cell_type": "markdown",
   "source": [
    "# Total direct CO2 emissions"
   ],
   "metadata": {
    "collapsed": false,
    "pycharm": {
     "name": "#%% md\n"
    }
   }
  },
  {
   "cell_type": "markdown",
   "source": [
    "## Without flue gas capture"
   ],
   "metadata": {
    "collapsed": false,
    "pycharm": {
     "name": "#%% md\n"
    }
   }
  },
  {
   "cell_type": "code",
   "execution_count": 27,
   "outputs": [
    {
     "data": {
      "text/plain": "87.36886742424244"
     },
     "execution_count": 27,
     "metadata": {},
     "output_type": "execute_result"
    }
   ],
   "source": [
    "# Total CO2 emissions to produce grey hydrogen [g CO2/MJ_H2]\n",
    "Total_CO2_emissions_grey = Direct_emissions_grey + Drive_CO2_emissions_grams_grey\n",
    "Total_CO2_emissions_grey"
   ],
   "metadata": {
    "collapsed": false,
    "pycharm": {
     "name": "#%%\n"
    }
   }
  },
  {
   "cell_type": "code",
   "execution_count": 28,
   "outputs": [
    {
     "data": {
      "text/plain": "62.38402367424243"
     },
     "execution_count": 28,
     "metadata": {},
     "output_type": "execute_result"
    }
   ],
   "source": [
    "# Total CO2 emissions to produce grey hydrogen [g CO2/MJ_H2]\n",
    "Total_CO2_emissions_blue_low_no_fluegas = Direct_emissions_low + Drive_CO2_emissions_grams_grey\n",
    "Total_CO2_emissions_blue_low_no_fluegas"
   ],
   "metadata": {
    "collapsed": false,
    "pycharm": {
     "name": "#%%\n"
    }
   }
  },
  {
   "cell_type": "code",
   "execution_count": 29,
   "outputs": [
    {
     "data": {
      "text/plain": "51.02727651515152"
     },
     "execution_count": 29,
     "metadata": {},
     "output_type": "execute_result"
    }
   ],
   "source": [
    "# Total CO2 emissions to produce grey hydrogen [g CO2/MJ_H2]\n",
    "Total_CO2_emissions_blue_mid_no_fluegas = Direct_emissions_mid + Drive_CO2_emissions_grams_grey\n",
    "Total_CO2_emissions_blue_mid_no_fluegas"
   ],
   "metadata": {
    "collapsed": false,
    "pycharm": {
     "name": "#%%\n"
    }
   }
  },
  {
   "cell_type": "code",
   "execution_count": 30,
   "outputs": [
    {
     "data": {
      "text/plain": "44.21322821969698"
     },
     "execution_count": 30,
     "metadata": {},
     "output_type": "execute_result"
    }
   ],
   "source": [
    "# Total CO2 emissions to produce grey hydrogen [g CO2/MJ_H2]\n",
    "Total_CO2_emissions_blue_high_no_fluegas = Direct_emissions_high + Drive_CO2_emissions_grams_grey\n",
    "Total_CO2_emissions_blue_high_no_fluegas"
   ],
   "metadata": {
    "collapsed": false,
    "pycharm": {
     "name": "#%%\n"
    }
   }
  },
  {
   "cell_type": "markdown",
   "source": [
    "## With flue gas capture"
   ],
   "metadata": {
    "collapsed": false,
    "pycharm": {
     "name": "#%% md\n"
    }
   }
  },
  {
   "cell_type": "code",
   "execution_count": 31,
   "outputs": [
    {
     "data": {
      "text/plain": "47.704366098484854"
     },
     "execution_count": 31,
     "metadata": {},
     "output_type": "execute_result"
    }
   ],
   "source": [
    "# Total CO2 emissions to produce grey hydrogen [g CO2/MJ_H2]\n",
    "Total_CO2_emissions_blue_low_with_fluegas = Direct_emissions_low + Drive_CO2_emissions_grams_blue\n",
    "Total_CO2_emissions_blue_low_with_fluegas"
   ],
   "metadata": {
    "collapsed": false,
    "pycharm": {
     "name": "#%%\n"
    }
   }
  },
  {
   "cell_type": "code",
   "execution_count": 32,
   "outputs": [
    {
     "data": {
      "text/plain": "36.34761893939394"
     },
     "execution_count": 32,
     "metadata": {},
     "output_type": "execute_result"
    }
   ],
   "source": [
    "# Total CO2 emissions to produce grey hydrogen [g CO2/MJ_H2]\n",
    "Total_CO2_emissions_blue_mid_with_fluegas = Direct_emissions_mid + Drive_CO2_emissions_grams_blue\n",
    "Total_CO2_emissions_blue_mid_with_fluegas"
   ],
   "metadata": {
    "collapsed": false,
    "pycharm": {
     "name": "#%%\n"
    }
   }
  },
  {
   "cell_type": "code",
   "execution_count": 33,
   "outputs": [
    {
     "data": {
      "text/plain": "29.5335706439394"
     },
     "execution_count": 33,
     "metadata": {},
     "output_type": "execute_result"
    }
   ],
   "source": [
    "# Total CO2 emissions to produce grey hydrogen [g CO2/MJ_H2]\n",
    "Total_CO2_emissions_blue_high_with_fluegas = Direct_emissions_high + Drive_CO2_emissions_grams_blue\n",
    "Total_CO2_emissions_blue_high_with_fluegas"
   ],
   "metadata": {
    "collapsed": false,
    "pycharm": {
     "name": "#%%\n"
    }
   }
  },
  {
   "cell_type": "markdown",
   "source": [
    "## Indirect emissions from natural gas transport and storage"
   ],
   "metadata": {
    "collapsed": false,
    "pycharm": {
     "name": "#%% md\n"
    }
   }
  },
  {
   "cell_type": "code",
   "execution_count": 34,
   "outputs": [
    {
     "data": {
      "text/plain": "6.552665056818182"
     },
     "execution_count": 34,
     "metadata": {},
     "output_type": "execute_result"
    }
   ],
   "source": [
    "# Indirect emissions from natural gas transport and storage [g CO2/MJ_H2]\n",
    "Indirect_emissions = Total_CO2_emissions_grey * 0.075\n",
    "Indirect_emissions"
   ],
   "metadata": {
    "collapsed": false,
    "pycharm": {
     "name": "#%%\n"
    }
   }
  },
  {
   "cell_type": "code",
   "execution_count": 35,
   "outputs": [
    {
     "data": {
      "text/plain": "93.92153248106062"
     },
     "execution_count": 35,
     "metadata": {},
     "output_type": "execute_result"
    }
   ],
   "source": [
    "# Total CO2 emissions including indirect emissions from natural gas transport and storage\n",
    "Total_CO2_emissions = Total_CO2_emissions_grey + Indirect_emissions\n",
    "Total_CO2_emissions"
   ],
   "metadata": {
    "collapsed": false,
    "pycharm": {
     "name": "#%%\n"
    }
   }
  },
  {
   "cell_type": "markdown",
   "source": [],
   "metadata": {
    "collapsed": false,
    "pycharm": {
     "name": "#%% md\n"
    }
   }
  },
  {
   "cell_type": "markdown",
   "source": [
    "# CH4 upstream emissions"
   ],
   "metadata": {
    "collapsed": false,
    "pycharm": {
     "name": "#%% md\n"
    }
   }
  },
  {
   "cell_type": "code",
   "execution_count": 36,
   "outputs": [
    {
     "data": {
      "text/plain": "26.45726062809417"
     },
     "execution_count": 36,
     "metadata": {},
     "output_type": "execute_result"
    }
   ],
   "source": [
    "# CH4 consumption as feedstock and energy to drive SMR [g CH4/MJ_H2]\n",
    "Total_methane_SMR = CH4_SMR_grams + Drive_CH4_consumed\n",
    "Total_methane_SMR"
   ],
   "metadata": {
    "collapsed": false,
    "pycharm": {
     "name": "#%%\n"
    }
   }
  },
  {
   "cell_type": "code",
   "execution_count": 60,
   "outputs": [
    {
     "data": {
      "text/plain": "0.05291452125618834"
     },
     "execution_count": 60,
     "metadata": {},
     "output_type": "execute_result"
    }
   ],
   "source": [
    "# Quantity of methane consumed to produce grey hydrogen [g CH4/MJ_H2]\n",
    "upstream_emissions_CH4_low = leakage_rate_low * Total_methane_SMR\n",
    "upstream_emissions_CH4_low"
   ],
   "metadata": {
    "collapsed": false,
    "pycharm": {
     "name": "#%%\n"
    }
   }
  },
  {
   "cell_type": "code",
   "execution_count": 61,
   "outputs": [
    {
     "data": {
      "text/plain": "0.3968589094214125"
     },
     "execution_count": 61,
     "metadata": {},
     "output_type": "execute_result"
    }
   ],
   "source": [
    "# Quantity of methane consumed to produce grey hydrogen [g CH4/MJ_H2]\n",
    "upstream_emissions_CH4_mid = leakage_rate_mid * Total_methane_SMR\n",
    "upstream_emissions_CH4_mid"
   ],
   "metadata": {
    "collapsed": false,
    "pycharm": {
     "name": "#%%\n"
    }
   }
  },
  {
   "cell_type": "code",
   "execution_count": 62,
   "outputs": [
    {
     "data": {
      "text/plain": "2.1165808502475336"
     },
     "execution_count": 62,
     "metadata": {},
     "output_type": "execute_result"
    }
   ],
   "source": [
    "# Quantity of methane consumed to produce grey hydrogen [g CH4/MJ_H2]\n",
    "upstream_emissions_CH4_high = leakage_rate_high * Total_methane_SMR\n",
    "upstream_emissions_CH4_high"
   ],
   "metadata": {
    "collapsed": false,
    "pycharm": {
     "name": "#%%\n"
    }
   }
  },
  {
   "cell_type": "code",
   "execution_count": 63,
   "outputs": [
    {
     "data": {
      "text/plain": "4.550648828032197"
     },
     "execution_count": 63,
     "metadata": {},
     "output_type": "execute_result"
    }
   ],
   "source": [
    "# Upstream emissions at GWP20 of CH4 [g CO2e/MJ_H2]\n",
    "upstream_emissions_GWP20_low = upstream_emissions_CH4_low * GWP20_CH4\n",
    "upstream_emissions_GWP20_low\n"
   ],
   "metadata": {
    "collapsed": false,
    "pycharm": {
     "name": "#%%\n"
    }
   }
  },
  {
   "cell_type": "code",
   "execution_count": 64,
   "outputs": [
    {
     "data": {
      "text/plain": "34.129866210241474"
     },
     "execution_count": 64,
     "metadata": {},
     "output_type": "execute_result"
    }
   ],
   "source": [
    "# Upstream emissions at GWP20 of CH4 [g CO2e/MJ_H2]\n",
    "upstream_emissions_GWP20_mid = upstream_emissions_CH4_mid * GWP20_CH4\n",
    "upstream_emissions_GWP20_mid"
   ],
   "metadata": {
    "collapsed": false,
    "pycharm": {
     "name": "#%%\n"
    }
   }
  },
  {
   "cell_type": "code",
   "execution_count": 65,
   "outputs": [
    {
     "data": {
      "text/plain": "182.0259531212879"
     },
     "execution_count": 65,
     "metadata": {},
     "output_type": "execute_result"
    }
   ],
   "source": [
    "# Upstream emissions at GWP20 of CH4 [g CO2e/MJ_H2]\n",
    "upstream_emissions_GWP20_high = upstream_emissions_CH4_high * GWP20_CH4\n",
    "upstream_emissions_GWP20_high"
   ],
   "metadata": {
    "collapsed": false,
    "pycharm": {
     "name": "#%%\n"
    }
   }
  },
  {
   "cell_type": "code",
   "execution_count": 66,
   "outputs": [
    {
     "data": {
      "text/plain": "1.5874356376856502"
     },
     "execution_count": 66,
     "metadata": {},
     "output_type": "execute_result"
    }
   ],
   "source": [
    "# Upstream emissions at GWP100 of CH4 [g CO2e/MJ_H2]\n",
    "upstream_emissions_GWP100_low = upstream_emissions_CH4_low * GWP100_CH4\n",
    "upstream_emissions_GWP100_low"
   ],
   "metadata": {
    "collapsed": false,
    "pycharm": {
     "name": "#%%\n"
    }
   }
  },
  {
   "cell_type": "code",
   "execution_count": 67,
   "outputs": [
    {
     "data": {
      "text/plain": "11.905767282642374"
     },
     "execution_count": 67,
     "metadata": {},
     "output_type": "execute_result"
    }
   ],
   "source": [
    "# Upstream emissions at GWP100 of CH4 [g CO2e/MJ_H2]\n",
    "upstream_emissions_GWP100_mid = upstream_emissions_CH4_mid * GWP100_CH4\n",
    "upstream_emissions_GWP100_mid"
   ],
   "metadata": {
    "collapsed": false,
    "pycharm": {
     "name": "#%%\n"
    }
   }
  },
  {
   "cell_type": "code",
   "execution_count": 68,
   "outputs": [
    {
     "data": {
      "text/plain": "63.49742550742601"
     },
     "execution_count": 68,
     "metadata": {},
     "output_type": "execute_result"
    }
   ],
   "source": [
    "# Upstream emissions at GWP100 of CH4 [g CO2e/MJ_H2]\n",
    "upstream_emissions_GWP100_high = upstream_emissions_CH4_high * GWP100_CH4\n",
    "upstream_emissions_GWP100_high"
   ],
   "metadata": {
    "collapsed": false,
    "pycharm": {
     "name": "#%%\n"
    }
   }
  },
  {
   "cell_type": "markdown",
   "source": [
    "# Total emissions"
   ],
   "metadata": {
    "collapsed": false,
    "pycharm": {
     "name": "#%% md\n"
    }
   }
  },
  {
   "cell_type": "markdown",
   "source": [
    "## @ GWP20"
   ],
   "metadata": {
    "collapsed": false,
    "pycharm": {
     "name": "#%% md\n"
    }
   }
  },
  {
   "cell_type": "code",
   "execution_count": 69,
   "outputs": [
    {
     "data": {
      "text/plain": "98.47218130909282"
     },
     "execution_count": 69,
     "metadata": {},
     "output_type": "execute_result"
    }
   ],
   "source": [
    "# Total Emissions for grey hydrogen: CO2 + fugitive CH4 [g CO2e/MJ]\n",
    "Total_emissions_grey_GWP20_low = Total_CO2_emissions + upstream_emissions_GWP20_low\n",
    "Total_emissions_grey_GWP20_low"
   ],
   "metadata": {
    "collapsed": false,
    "pycharm": {
     "name": "#%%\n"
    }
   }
  },
  {
   "cell_type": "code",
   "execution_count": 70,
   "outputs": [
    {
     "data": {
      "text/plain": "128.0513986913021"
     },
     "execution_count": 70,
     "metadata": {},
     "output_type": "execute_result"
    }
   ],
   "source": [
    "# Total Emissions for grey hydrogen: CO2 + fugitive CH4 [g CO2e/MJ]\n",
    "Total_emissions_grey_GWP20_mid = Total_CO2_emissions + upstream_emissions_GWP20_mid\n",
    "Total_emissions_grey_GWP20_mid\n"
   ],
   "metadata": {
    "collapsed": false,
    "pycharm": {
     "name": "#%%\n"
    }
   }
  },
  {
   "cell_type": "code",
   "execution_count": 71,
   "outputs": [
    {
     "data": {
      "text/plain": "275.94748560234854"
     },
     "execution_count": 71,
     "metadata": {},
     "output_type": "execute_result"
    }
   ],
   "source": [
    "# Total Emissions for grey hydrogen: CO2 + fugitive CH4 [g CO2e/MJ]\n",
    "Total_emissions_grey_GWP20_high = Total_CO2_emissions + upstream_emissions_GWP20_high\n",
    "Total_emissions_grey_GWP20_high"
   ],
   "metadata": {
    "collapsed": false,
    "pycharm": {
     "name": "#%%\n"
    }
   }
  },
  {
   "cell_type": "markdown",
   "source": [
    "## @ GWP100"
   ],
   "metadata": {
    "collapsed": false,
    "pycharm": {
     "name": "#%% md\n"
    }
   }
  },
  {
   "cell_type": "code",
   "execution_count": 72,
   "outputs": [
    {
     "data": {
      "text/plain": "95.50896811874627"
     },
     "execution_count": 72,
     "metadata": {},
     "output_type": "execute_result"
    }
   ],
   "source": [
    "# Total Emissions for grey hydrogen: CO2 + fugitive CH4 [g CO2e/MJ]\n",
    "Total_emissions_grey_GWP100_low = Total_CO2_emissions + upstream_emissions_GWP100_low\n",
    "Total_emissions_grey_GWP100_low"
   ],
   "metadata": {
    "collapsed": false,
    "pycharm": {
     "name": "#%%\n"
    }
   }
  },
  {
   "cell_type": "code",
   "execution_count": 73,
   "outputs": [
    {
     "data": {
      "text/plain": "105.827299763703"
     },
     "execution_count": 73,
     "metadata": {},
     "output_type": "execute_result"
    }
   ],
   "source": [
    "# Total Emissions for grey hydrogen: CO2 + fugitive CH4 [g CO2e/MJ]\n",
    "Total_emissions_grey_GWP100_mid = Total_CO2_emissions + upstream_emissions_GWP100_mid\n",
    "Total_emissions_grey_GWP100_mid"
   ],
   "metadata": {
    "collapsed": false,
    "pycharm": {
     "name": "#%%\n"
    }
   }
  },
  {
   "cell_type": "code",
   "execution_count": 74,
   "outputs": [
    {
     "data": {
      "text/plain": "157.41895798848662"
     },
     "execution_count": 74,
     "metadata": {},
     "output_type": "execute_result"
    }
   ],
   "source": [
    "# Total Emissions for grey hydrogen: CO2 + fugitive CH4 [g CO2e/MJ]\n",
    "Total_emissions_grey_GWP100_high = Total_CO2_emissions + upstream_emissions_GWP100_high\n",
    "Total_emissions_grey_GWP100_high"
   ],
   "metadata": {
    "collapsed": false,
    "pycharm": {
     "name": "#%%\n"
    }
   }
  },
  {
   "cell_type": "markdown",
   "source": [
    "# Energy to power carbon capture"
   ],
   "metadata": {
    "collapsed": false,
    "pycharm": {
     "name": "#%% md\n"
    }
   }
  },
  {
   "cell_type": "code",
   "execution_count": 75,
   "outputs": [
    {
     "ename": "SyntaxError",
     "evalue": "invalid syntax (591946292.py, line 1)",
     "output_type": "error",
     "traceback": [
      "\u001B[0;36m  Input \u001B[0;32mIn [75]\u001B[0;36m\u001B[0m\n\u001B[0;31m    xx none according to Bauer et al.\u001B[0m\n\u001B[0m       ^\u001B[0m\n\u001B[0;31mSyntaxError\u001B[0m\u001B[0;31m:\u001B[0m invalid syntax\n"
     ]
    }
   ],
   "source": [
    "xx none according to Bauer et al.\n"
   ],
   "metadata": {
    "collapsed": false,
    "pycharm": {
     "name": "#%%\n"
    }
   }
  },
  {
   "cell_type": "markdown",
   "source": [
    "# Plot production emissions"
   ],
   "metadata": {
    "collapsed": false,
    "pycharm": {
     "name": "#%% md\n"
    }
   }
  },
  {
   "cell_type": "markdown",
   "source": [],
   "metadata": {
    "collapsed": false,
    "pycharm": {
     "name": "#%% md\n"
    }
   }
  },
  {
   "cell_type": "code",
   "execution_count": 76,
   "outputs": [
    {
     "data": {
      "text/plain": "<Figure size 872x838 with 1 Axes>",
      "image/png": "[encoded data removed]"
     },
     "metadata": {
      "needs_background": "light"
     },
     "output_type": "display_data"
    }
   ],
   "source": [
    "from matplotlib.patches import Rectangle\n",
    "import matplotlib.pyplot as plt\n",
    "import matplotlib.colors as mcolors\n",
    "\n",
    "\n",
    "def plot_colortable(colors, sort_colors=True, emptycols=0):\n",
    "\n",
    "    cell_width = 212\n",
    "    cell_height = 22\n",
    "    swatch_width = 48\n",
    "    margin = 12\n",
    "\n",
    "    # Sort colors by hue, saturation, value and name.\n",
    "    if sort_colors is True:\n",
    "        by_hsv = sorted((tuple(mcolors.rgb_to_hsv(mcolors.to_rgb(color))),\n",
    "                         name)\n",
    "                        for name, color in colors.items())\n",
    "        names = [name for hsv, name in by_hsv]\n",
    "    else:\n",
    "        names = list(colors)\n",
    "\n",
    "    n = len(names)\n",
    "    ncols = 4 - emptycols\n",
    "    nrows = n // ncols + int(n % ncols > 0)\n",
    "\n",
    "    width = cell_width * 4 + 2 * margin\n",
    "    height = cell_height * nrows + 2 * margin\n",
    "    dpi = 72\n",
    "\n",
    "    fig, ax = plt.subplots(figsize=(width / dpi, height / dpi), dpi=dpi)\n",
    "    fig.subplots_adjust(margin/width, margin/height,\n",
    "                        (width-margin)/width, (height-margin)/height)\n",
    "    ax.set_xlim(0, cell_width * 4)\n",
    "    ax.set_ylim(cell_height * (nrows-0.5), -cell_height/2.)\n",
    "    ax.yaxis.set_visible(False)\n",
    "    ax.xaxis.set_visible(False)\n",
    "    ax.set_axis_off()\n",
    "\n",
    "    for i, name in enumerate(names):\n",
    "        row = i % nrows\n",
    "        col = i // nrows\n",
    "        y = row * cell_height\n",
    "\n",
    "        swatch_start_x = cell_width * col\n",
    "        text_pos_x = cell_width * col + swatch_width + 7\n",
    "\n",
    "        ax.text(text_pos_x, y, name, fontsize=14,\n",
    "                horizontalalignment='left',\n",
    "                verticalalignment='center')\n",
    "\n",
    "        ax.add_patch(\n",
    "            Rectangle(xy=(swatch_start_x, y-9), width=swatch_width,\n",
    "                      height=18, facecolor=colors[name], edgecolor='0.7')\n",
    "        )\n",
    "\n",
    "    return fig\n",
    "plot_colortable(mcolors.CSS4_COLORS)\n",
    "plt.show()"
   ],
   "metadata": {
    "collapsed": false,
    "pycharm": {
     "name": "#%%\n"
    }
   }
  },
  {
   "cell_type": "code",
   "execution_count": 77,
   "outputs": [],
   "source": [
    "x =['Grey, 0.2% \\nGWP100', 'Grey, 0.2% \\nGWP20', 'Blue, 0.2%\\nGWP100 CCS-low 55%', 'Blue, 0.2%\\nGWP20 CCS-low 55%','Blue, 0.2%\\nGWP100 CCS-mid 80%', 'Blue, 0.2%\\nGWP20 CCS-mid 80%','Blue, 0.2%\\nGWP100, CCS-high 95%','Blue, 0.2%\\nGWP20, CCS-high 95%',]"
   ],
   "metadata": {
    "collapsed": false,
    "pycharm": {
     "name": "#%%\n"
    }
   }
  },
  {
   "cell_type": "code",
   "execution_count": 80,
   "outputs": [],
   "source": [
    "Direct_emissions = [Direct_emissions_grey, Direct_emissions_grey, Direct_emissions_low, Direct_emissions_low, Direct_emissions_mid, Direct_emissions_mid, Direct_emissions_high, Direct_emissions_high]\n",
    "Drive_emissions_plt = [Drive_CO2_emissions_grams_grey] * 8\n",
    "Indirect_emissions_plt = [Indirect_emissions] * 8\n",
    "Upstream_emissions = [upstream_emissions_GWP100_low, upstream_emissions_GWP20_low, upstream_emissions_GWP100_low, upstream_emissions_GWP20_low, upstream_emissions_GWP100_low, upstream_emissions_GWP20_low, upstream_emissions_GWP100_low, upstream_emissions_GWP20_low]"
   ],
   "metadata": {
    "collapsed": false,
    "pycharm": {
     "name": "#%%\n"
    }
   }
  },
  {
   "cell_type": "code",
   "execution_count": 84,
   "outputs": [
    {
     "data": {
      "text/plain": "Text(0, 0.5, 'g CO2eq/MJ H2')"
     },
     "execution_count": 84,
     "metadata": {},
     "output_type": "execute_result"
    },
    {
     "data": {
      "text/plain": "<Figure size 720x432 with 1 Axes>",
      "image/png": "[encoded data removed]"
     },
     "metadata": {
      "needs_background": "light"
     },
     "output_type": "display_data"
    }
   ],
   "source": [
    "# Creating a stacked bar chart to display emissions. Adding lists for the bottom method.\n",
    "fig, ax = plt.subplots(figsize=(10,6))\n",
    "\n",
    "width = 0.5\n",
    "#y_axis = np.arange(101,step=10)\n",
    "direct = plt.bar(x, Direct_emissions, width, label='Direct emissions', bottom=list(map(lambda x, y, z: x + y + z, Upstream_emissions, Indirect_emissions_plt, Drive_emissions_plt)))\n",
    "drive = plt.bar(x, Drive_emissions_plt, width, label='Drive emissions', bottom=list(map(lambda x, y: x + y, Upstream_emissions, Indirect_emissions_plt)))\n",
    "indirect = plt.bar(x, Indirect_emissions, width, label = 'Indirect emissions', bottom=Upstream_emissions)\n",
    "upstream = plt.bar(x, Upstream_emissions, width, label = 'CH4 upstream emissions')\n",
    "plt.grid(True, axis = 'y')\n",
    "ax.set_axisbelow(True)\n",
    "#ax.twinx()\n",
    "plt.xticks(rotation = 90)\n",
    "#plt.yticks(y_axis)\n",
    "#plt.ylim(0,90)\n",
    "plt.legend(loc='upper right')\n",
    "plt.title('GHG emissions from blue hydrogen production w/o flue gas capture', fontweight = 'bold')\n",
    "plt.ylabel('g CO2eq/MJ H2')\n",
    "#ax.set_ylabel('kg CO2/kg H2')"
   ],
   "metadata": {
    "collapsed": false,
    "pycharm": {
     "name": "#%%\n"
    }
   }
  },
  {
   "cell_type": "code",
   "execution_count": null,
   "outputs": [],
   "source": [
    "# horizontal\n",
    "fig, ax = plt.subplots(figsize=(10,6))\n",
    "x_axis = np.arange(101,step=10)\n",
    "direct = plt.barh(x, Direct_emissions, label='Direct emissions grey', left=list(map(lambda x, y, z: x + y + z, Upstream_emissions, Indirect_emissions_plt, Drive_emissions_plt)))\n",
    "drive = plt.barh(x, Drive_emissions, label='Drive emissions', left=list(map(lambda x, y: x + y, Upstream_emissions, Indirect_emissions_plt)))\n",
    "indirect = plt.barh(x, Indirect_emissions, label = 'Indirect emissions', left=Upstream_emissions)\n",
    "upstream = plt.barh(x, Upstream_emissions, label = 'CH4 upstream emissions')\n",
    "plt.grid(True, axis = 'x')\n",
    "ax.set_axisbelow(True)\n",
    "plt.xticks(x_axis)\n",
    "plt.xlim(0,100)\n",
    "plt.legend(loc='upper right')\n",
    "plt.title('GHG emissions from blue hydrogen production', fontweight = 'bold')\n",
    "plt.xlabel('g CO2eq/MJ H2')"
   ],
   "metadata": {
    "collapsed": false,
    "pycharm": {
     "name": "#%%\n"
    }
   }
  },
  {
   "cell_type": "code",
   "execution_count": null,
   "outputs": [],
   "source": [
    "grey_low_GWP100 = 'Grey hydrogen 0.2% @GWP100'\n",
    "plt.bar(grey_low_GWP100, Direct_emissions_grey, width= 2, label='Direct emissions grey', bottom=Drive_CO2_emissions_grams_grey)\n",
    "plt.bar(grey_low_GWP100, Drive_CO2_emissions_grams_grey, width= 2, label='Drive emissions', bottom=Indirect_emissions)\n",
    "plt.bar(grey_low_GWP100, Indirect_emissions, width= 2, label = 'Emissions from natural gas transport and storage', bottom=upstream_emissions_GWP100_low)\n",
    "plt.bar(grey_low_GWP100, upstream_emissions_GWP100_low, width = 2, label = 'CH4 upstream emissions')\n",
    "plt.legend(loc='upper left')\n",
    "plt.ylabel('[g CO2eq/MJ_H2]')"
   ],
   "metadata": {
    "collapsed": false,
    "pycharm": {
     "name": "#%%\n"
    }
   }
  },
  {
   "cell_type": "code",
   "execution_count": 56,
   "outputs": [
    {
     "ename": "NameError",
     "evalue": "name 'upstream_emissions_GWP100_low' is not defined",
     "output_type": "error",
     "traceback": [
      "\u001B[0;31m---------------------------------------------------------------------------\u001B[0m",
      "\u001B[0;31mNameError\u001B[0m                                 Traceback (most recent call last)",
      "Input \u001B[0;32mIn [56]\u001B[0m, in \u001B[0;36m<cell line: 5>\u001B[0;34m()\u001B[0m\n\u001B[1;32m      3\u001B[0m plt\u001B[38;5;241m.\u001B[39mbar(grey_low_GWP100, Direct_emissions_grey, width\u001B[38;5;241m=\u001B[39m \u001B[38;5;241m2\u001B[39m, label\u001B[38;5;241m=\u001B[39m\u001B[38;5;124m'\u001B[39m\u001B[38;5;124mDirect emissions grey\u001B[39m\u001B[38;5;124m'\u001B[39m, bottom\u001B[38;5;241m=\u001B[39mDrive_CO2_emissions_grams_grey)\n\u001B[1;32m      4\u001B[0m plt\u001B[38;5;241m.\u001B[39mbar(grey_low_GWP100, Drive_CO2_emissions_grams_grey, width\u001B[38;5;241m=\u001B[39m \u001B[38;5;241m2\u001B[39m, label\u001B[38;5;241m=\u001B[39m\u001B[38;5;124m'\u001B[39m\u001B[38;5;124mDrive emissions\u001B[39m\u001B[38;5;124m'\u001B[39m, bottom\u001B[38;5;241m=\u001B[39mIndirect_emissions)\n\u001B[0;32m----> 5\u001B[0m plt\u001B[38;5;241m.\u001B[39mbar(grey_low_GWP100, Indirect_emissions, width\u001B[38;5;241m=\u001B[39m \u001B[38;5;241m2\u001B[39m, label \u001B[38;5;241m=\u001B[39m \u001B[38;5;124m'\u001B[39m\u001B[38;5;124mEmissions from natural gas transport and storage\u001B[39m\u001B[38;5;124m'\u001B[39m, bottom\u001B[38;5;241m=\u001B[39m\u001B[43mupstream_emissions_GWP100_low\u001B[49m)\n\u001B[1;32m      6\u001B[0m plt\u001B[38;5;241m.\u001B[39mbar(grey_low_GWP100, upstream_emissions_GWP100_low, width \u001B[38;5;241m=\u001B[39m \u001B[38;5;241m2\u001B[39m, label \u001B[38;5;241m=\u001B[39m \u001B[38;5;124m'\u001B[39m\u001B[38;5;124mCH4 upstream emissions\u001B[39m\u001B[38;5;124m'\u001B[39m)\n\u001B[1;32m      7\u001B[0m plt\u001B[38;5;241m.\u001B[39mlegend(loc\u001B[38;5;241m=\u001B[39m\u001B[38;5;124m'\u001B[39m\u001B[38;5;124mupper left\u001B[39m\u001B[38;5;124m'\u001B[39m)\n",
      "\u001B[0;31mNameError\u001B[0m: name 'upstream_emissions_GWP100_low' is not defined"
     ]
    },
    {
     "data": {
      "text/plain": "<Figure size 432x288 with 1 Axes>",
      "image/png": "[encoded data removed]"
     },
     "metadata": {
      "needs_background": "light"
     },
     "output_type": "display_data"
    }
   ],
   "source": [
    "# Total emissions for grey hydrogen production at 0.02% upstream emissions and GWP100\n",
    "grey_low_GWP100 = 'Grey hydrogen 0.2% @GWP100'\n",
    "plt.bar(grey_low_GWP100, Direct_emissions_grey, width= 2, label='Direct emissions grey', bottom=Drive_CO2_emissions_grams_grey)\n",
    "plt.bar(grey_low_GWP100, Drive_CO2_emissions_grams_grey, width= 2, label='Drive emissions', bottom=Indirect_emissions)\n",
    "plt.bar(grey_low_GWP100, Indirect_emissions, width= 2, label = 'Emissions from natural gas transport and storage', bottom=upstream_emissions_GWP100_low)\n",
    "plt.bar(grey_low_GWP100, upstream_emissions_GWP100_low, width = 2, label = 'CH4 upstream emissions')\n",
    "plt.legend(loc='upper left')\n",
    "plt.ylabel('[g CO2eq/MJ_H2]')"
   ],
   "metadata": {
    "collapsed": false,
    "pycharm": {
     "name": "#%%\n"
    }
   }
  },
  {
   "cell_type": "code",
   "execution_count": 56,
   "outputs": [],
   "source": [],
   "metadata": {
    "collapsed": false,
    "pycharm": {
     "name": "#%%\n"
    }
   }
  },
  {
   "cell_type": "code",
   "execution_count": 57,
   "outputs": [
    {
     "data": {
      "text/plain": "Text(0, 0.5, '[g CO2eq/MJ_H2]')"
     },
     "execution_count": 57,
     "metadata": {},
     "output_type": "execute_result"
    },
    {
     "data": {
      "text/plain": "<Figure size 432x288 with 1 Axes>",
      "image/png": "[encoded data removed]"
     },
     "metadata": {
      "needs_background": "light"
     },
     "output_type": "display_data"
    }
   ],
   "source": [
    "# Total emissions for grey hydrogen production at 1.5% upstream emissions and GWP100\n",
    "grey = 'Grey hydrogen'\n",
    "plt.bar(grey, Direct_emissions_grey, width= 2, label='Direct emissions grey', bottom=Drive_CO2_emissions_grams_grey)\n",
    "plt.bar(grey, Drive_CO2_emissions_grams_grey, width= 2, label='Drive emissions', bottom=Indirect_emissions)\n",
    "plt.bar(grey, Indirect_emissions, width= 2, label = 'Emissions from natural gas transport and storage', bottom=upstream_emissions_GWP100_mid)\n",
    "plt.bar(grey, upstream_emissions_GWP100_mid, width = 2, label = 'CH4 upstream emissions')\n",
    "plt.legend(loc='upper left')\n",
    "plt.ylabel('[g CO2eq/MJ_H2]')\n"
   ],
   "metadata": {
    "collapsed": false,
    "pycharm": {
     "name": "#%%\n"
    }
   }
  },
  {
   "cell_type": "code",
   "execution_count": null,
   "outputs": [],
   "source": [],
   "metadata": {
    "collapsed": false,
    "pycharm": {
     "name": "#%%\n"
    }
   }
  }
 ],
 "metadata": {
  "kernelspec": {
   "display_name": "Python 3",
   "language": "python",
   "name": "python3"
  },
  "language_info": {
   "codemirror_mode": {
    "name": "ipython",
    "version": 2
   },
   "file_extension": ".py",
   "mimetype": "text/x-python",
   "name": "python",
   "nbconvert_exporter": "python",
   "pygments_lexer": "ipython2",
   "version": "2.7.6"
  }
 },
 "nbformat": 4,
 "nbformat_minor": 0
}