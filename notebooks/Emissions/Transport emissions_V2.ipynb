{
 "cells": [
  {
   "cell_type": "code",
   "execution_count": 69,
   "metadata": {
    "collapsed": true,
    "pycharm": {
     "name": "#%%\n"
    }
   },
   "outputs": [],
   "source": [
    "import numpy as np\n",
    "import pandas as pd\n",
    "from matplotlib import pyplot as plt\n",
    "import os\n",
    "from openpyxl import load_workbook"
   ]
  },
  {
   "cell_type": "markdown",
   "source": [
    "## Read inputs"
   ],
   "metadata": {
    "collapsed": false,
    "pycharm": {
     "name": "#%% md\n"
    }
   }
  },
  {
   "cell_type": "code",
   "execution_count": 54,
   "outputs": [],
   "source": [
    "path = r'\\\\dena.de\\Daten\\Home\\Reuter\\Desktop\\H2_pathways_repo\\data\\raw\\H2_supply_route_assessment.xlsx'\n",
    "path_plt = r'\\\\dena.de\\Daten\\Home\\Reuter\\Desktop\\H2_pathways_repo\\Plots'\n",
    "path_csv = r'\\\\dena.de\\Daten\\Home\\Reuter\\Desktop\\H2_pathways_repo\\data\\processed'"
   ],
   "metadata": {
    "collapsed": false,
    "pycharm": {
     "name": "#%%\n"
    }
   }
  },
  {
   "cell_type": "code",
   "execution_count": 55,
   "outputs": [
    {
     "data": {
      "text/plain": "                                                      Parameter  \\\nID                                                                \nDiscount rate [%]                                          0.05   \nOffshore Capex cost factor                                  1.7   \nPipeline Opex [€/a as % of Capex]                         0.017   \nCompressor Opex [€/a as % of Capex]                       0.009   \nLow - Compression capacity @ 48inch [MW_el/1000km]          190   \n...                                                         ...   \nHigh - retrofit Offshore (EHB 2022) Capex Compr...         1.06   \nNaN                                                         NaN   \nNaN                                                         NaN   \nNaN                                                         NaN   \nNaN                                                 IEAGHG 2017   \n\n                                                               Reference  2020  \nID                                                                              \nDiscount rate [%]                                                    NaN   NaN  \nOffshore Capex cost factor                          EHB 2022; IRENA 2022   NaN  \nPipeline Opex [€/a as % of Capex]                                    NaN   NaN  \nCompressor Opex [€/a as % of Capex]                                  NaN   NaN  \nLow - Compression capacity @ 48inch [MW_el/1000km]              EHB 2020   NaN  \n...                                                                  ...   ...  \nHigh - retrofit Offshore (EHB 2022) Capex Compr...                   NaN   NaN  \nNaN                                                                  NaN   NaN  \nNaN                                                                  NaN   NaN  \nNaN                                                                  NaN   NaN  \nNaN                                                                  NaN   NaN  \n\n[90 rows x 3 columns]",
      "text/html": "<div>\n<style scoped>\n    .dataframe tbody tr th:only-of-type {\n        vertical-align: middle;\n    }\n\n    .dataframe tbody tr th {\n        vertical-align: top;\n    }\n\n    .dataframe thead th {\n        text-align: right;\n    }\n</style>\n<table border=\"1\" class=\"dataframe\">\n  <thead>\n    <tr style=\"text-align: right;\">\n      <th></th>\n      <th>Parameter</th>\n      <th>Reference</th>\n      <th>2020</th>\n    </tr>\n    <tr>\n      <th>ID</th>\n      <th></th>\n      <th></th>\n      <th></th>\n    </tr>\n  </thead>\n  <tbody>\n    <tr>\n      <th>Discount rate [%]</th>\n      <td>0.05</td>\n      <td>NaN</td>\n      <td>NaN</td>\n    </tr>\n    <tr>\n      <th>Offshore Capex cost factor</th>\n      <td>1.7</td>\n      <td>EHB 2022; IRENA 2022</td>\n      <td>NaN</td>\n    </tr>\n    <tr>\n      <th>Pipeline Opex [€/a as % of Capex]</th>\n      <td>0.017</td>\n      <td>NaN</td>\n      <td>NaN</td>\n    </tr>\n    <tr>\n      <th>Compressor Opex [€/a as % of Capex]</th>\n      <td>0.009</td>\n      <td>NaN</td>\n      <td>NaN</td>\n    </tr>\n    <tr>\n      <th>Low - Compression capacity @ 48inch [MW_el/1000km]</th>\n      <td>190</td>\n      <td>EHB 2020</td>\n      <td>NaN</td>\n    </tr>\n    <tr>\n      <th>...</th>\n      <td>...</td>\n      <td>...</td>\n      <td>...</td>\n    </tr>\n    <tr>\n      <th>High - retrofit Offshore (EHB 2022) Capex Compression [€/kg/1000km]</th>\n      <td>1.06</td>\n      <td>NaN</td>\n      <td>NaN</td>\n    </tr>\n    <tr>\n      <th>NaN</th>\n      <td>NaN</td>\n      <td>NaN</td>\n      <td>NaN</td>\n    </tr>\n    <tr>\n      <th>NaN</th>\n      <td>NaN</td>\n      <td>NaN</td>\n      <td>NaN</td>\n    </tr>\n    <tr>\n      <th>NaN</th>\n      <td>NaN</td>\n      <td>NaN</td>\n      <td>NaN</td>\n    </tr>\n    <tr>\n      <th>NaN</th>\n      <td>IEAGHG 2017</td>\n      <td>NaN</td>\n      <td>NaN</td>\n    </tr>\n  </tbody>\n</table>\n<p>90 rows × 3 columns</p>\n</div>"
     },
     "execution_count": 55,
     "metadata": {},
     "output_type": "execute_result"
    }
   ],
   "source": [
    "pipe = pd.read_excel(path, sheet_name='Pipeline Transport', decimal=',', index_col=0)\n",
    "pipe"
   ],
   "metadata": {
    "collapsed": false,
    "pycharm": {
     "name": "#%%\n"
    }
   }
  },
  {
   "cell_type": "code",
   "execution_count": 56,
   "outputs": [
    {
     "data": {
      "text/plain": "                                                                                   Value  \\\nID                                                                                         \nGHG intensity of electricity generation [g CO2e...                                   NaN   \nGHG intensity of electricity generation [g CO2e...                                   NaN   \nGrey hydrogen emissions [g CO2/MJ H2] - Norway                                     96.77   \nGrey hydrogen emissions [kg CO2/kg H2] - Norway                                  11.6124   \nBlue hydrogen emissions [g CO2/MJ H2] - Norway                                       NaN   \n...                                                                                  ...   \nHydrogen leakage                                    Predicted Emission Confidence level    \nElectrolytic H2 production [% of produced H2]                                      0.092   \nElectrolytic H2 production [% of produced H2] w...                                0.0052   \nCCS enabled H2 production [% of produced H2]                                       0.005   \nLarge-scale transmission [% of transported hyod...                                0.0048   \n\n                                                                        Ref  \\\nID                                                                            \nGHG intensity of electricity generation [g CO2e...                 EEA 2022   \nGHG intensity of electricity generation [g CO2e...        Our world in Data   \nGrey hydrogen emissions [g CO2/MJ H2] - Norway      Own calculation @ GWP20   \nGrey hydrogen emissions [kg CO2/kg H2] - Norway     Own calculation @ GWP20   \nBlue hydrogen emissions [g CO2/MJ H2] - Norway      Own calculation @ GWP20   \n...                                                                     ...   \nHydrogen leakage                                                        Ref   \nElectrolytic H2 production [% of produced H2]                      DOE 2022   \nElectrolytic H2 production [% of produced H2] w...                 DOE 2022   \nCCS enabled H2 production [% of produced H2]                       DOE 2022   \nLarge-scale transmission [% of transported hyod...                 DOE 2022   \n\n                                                     1990   1991   1992  \\\nID                                                                        \nGHG intensity of electricity generation [g CO2e...  652.0  656.0  628.0   \nGHG intensity of electricity generation [g CO2e...    NaN    NaN    NaN   \nGrey hydrogen emissions [g CO2/MJ H2] - Norway        NaN    NaN    NaN   \nGrey hydrogen emissions [kg CO2/kg H2] - Norway       NaN    NaN    NaN   \nBlue hydrogen emissions [g CO2/MJ H2] - Norway        NaN    NaN    NaN   \n...                                                   ...    ...    ...   \nHydrogen leakage                                      NaN    NaN    NaN   \nElectrolytic H2 production [% of produced H2]         NaN    NaN    NaN   \nElectrolytic H2 production [% of produced H2] w...    NaN    NaN    NaN   \nCCS enabled H2 production [% of produced H2]          NaN    NaN    NaN   \nLarge-scale transmission [% of transported hyod...    NaN    NaN    NaN   \n\n                                                     1993   1994   1995  \\\nID                                                                        \nGHG intensity of electricity generation [g CO2e...  631.0  626.0  610.0   \nGHG intensity of electricity generation [g CO2e...    NaN    NaN    NaN   \nGrey hydrogen emissions [g CO2/MJ H2] - Norway        NaN    NaN    NaN   \nGrey hydrogen emissions [kg CO2/kg H2] - Norway       NaN    NaN    NaN   \nBlue hydrogen emissions [g CO2/MJ H2] - Norway        NaN    NaN    NaN   \n...                                                   ...    ...    ...   \nHydrogen leakage                                      NaN    NaN    NaN   \nElectrolytic H2 production [% of produced H2]         NaN    NaN    NaN   \nElectrolytic H2 production [% of produced H2] w...    NaN    NaN    NaN   \nCCS enabled H2 production [% of produced H2]          NaN    NaN    NaN   \nLarge-scale transmission [% of transported hyod...    NaN    NaN    NaN   \n\n                                                     1996   1997  ...  \\\nID                                                                ...   \nGHG intensity of electricity generation [g CO2e...  580.0  566.0  ...   \nGHG intensity of electricity generation [g CO2e...    NaN    NaN  ...   \nGrey hydrogen emissions [g CO2/MJ H2] - Norway        NaN    NaN  ...   \nGrey hydrogen emissions [kg CO2/kg H2] - Norway       NaN    NaN  ...   \nBlue hydrogen emissions [g CO2/MJ H2] - Norway        NaN    NaN  ...   \n...                                                   ...    ...  ...   \nHydrogen leakage                                      NaN    NaN  ...   \nElectrolytic H2 production [% of produced H2]         NaN    NaN  ...   \nElectrolytic H2 production [% of produced H2] w...    NaN    NaN  ...   \nCCS enabled H2 production [% of produced H2]          NaN    NaN  ...   \nLarge-scale transmission [% of transported hyod...    NaN    NaN  ...   \n\n                                                         2041      2042  \\\nID                                                                        \nGHG intensity of electricity generation [g CO2e...  62.592000  46.94400   \nGHG intensity of electricity generation [g CO2e...   7.783673   6.91882   \nGrey hydrogen emissions [g CO2/MJ H2] - Norway            NaN       NaN   \nGrey hydrogen emissions [kg CO2/kg H2] - Norway           NaN       NaN   \nBlue hydrogen emissions [g CO2/MJ H2] - Norway      25.499000  24.61800   \n...                                                       ...       ...   \nHydrogen leakage                                          NaN       NaN   \nElectrolytic H2 production [% of produced H2]             NaN       NaN   \nElectrolytic H2 production [% of produced H2] w...        NaN       NaN   \nCCS enabled H2 production [% of produced H2]              NaN       NaN   \nLarge-scale transmission [% of transported hyod...        NaN       NaN   \n\n                                                         2043       2044  \\\nID                                                                         \nGHG intensity of electricity generation [g CO2e...  31.296000  15.648000   \nGHG intensity of electricity generation [g CO2e...   6.053968   5.189115   \nGrey hydrogen emissions [g CO2/MJ H2] - Norway            NaN        NaN   \nGrey hydrogen emissions [kg CO2/kg H2] - Norway           NaN        NaN   \nBlue hydrogen emissions [g CO2/MJ H2] - Norway      23.737000  22.856000   \n...                                                       ...        ...   \nHydrogen leakage                                          NaN        NaN   \nElectrolytic H2 production [% of produced H2]             NaN        NaN   \nElectrolytic H2 production [% of produced H2] w...        NaN        NaN   \nCCS enabled H2 production [% of produced H2]              NaN        NaN   \nLarge-scale transmission [% of transported hyod...        NaN        NaN   \n\n                                                         2045      2046  \\\nID                                                                        \nGHG intensity of electricity generation [g CO2e...   0.000000   0.00000   \nGHG intensity of electricity generation [g CO2e...   4.324263   3.45941   \nGrey hydrogen emissions [g CO2/MJ H2] - Norway            NaN       NaN   \nGrey hydrogen emissions [kg CO2/kg H2] - Norway           NaN       NaN   \nBlue hydrogen emissions [g CO2/MJ H2] - Norway      21.975000  21.09400   \n...                                                       ...       ...   \nHydrogen leakage                                          NaN       NaN   \nElectrolytic H2 production [% of produced H2]             NaN       NaN   \nElectrolytic H2 production [% of produced H2] w...        NaN       NaN   \nCCS enabled H2 production [% of produced H2]              NaN       NaN   \nLarge-scale transmission [% of transported hyod...        NaN       NaN   \n\n                                                         2047       2048  \\\nID                                                                         \nGHG intensity of electricity generation [g CO2e...   0.000000   0.000000   \nGHG intensity of electricity generation [g CO2e...   2.594558   1.729705   \nGrey hydrogen emissions [g CO2/MJ H2] - Norway            NaN        NaN   \nGrey hydrogen emissions [kg CO2/kg H2] - Norway           NaN        NaN   \nBlue hydrogen emissions [g CO2/MJ H2] - Norway      20.213000  19.332000   \n...                                                       ...        ...   \nHydrogen leakage                                          NaN        NaN   \nElectrolytic H2 production [% of produced H2]             NaN        NaN   \nElectrolytic H2 production [% of produced H2] w...        NaN        NaN   \nCCS enabled H2 production [% of produced H2]              NaN        NaN   \nLarge-scale transmission [% of transported hyod...        NaN        NaN   \n\n                                                         2049   2050  \nID                                                                    \nGHG intensity of electricity generation [g CO2e...   0.000000   0.00  \nGHG intensity of electricity generation [g CO2e...   0.864853   0.00  \nGrey hydrogen emissions [g CO2/MJ H2] - Norway            NaN    NaN  \nGrey hydrogen emissions [kg CO2/kg H2] - Norway           NaN    NaN  \nBlue hydrogen emissions [g CO2/MJ H2] - Norway      18.451000  17.57  \n...                                                       ...    ...  \nHydrogen leakage                                          NaN    NaN  \nElectrolytic H2 production [% of produced H2]             NaN    NaN  \nElectrolytic H2 production [% of produced H2] w...        NaN    NaN  \nCCS enabled H2 production [% of produced H2]              NaN    NaN  \nLarge-scale transmission [% of transported hyod...        NaN    NaN  \n\n[65 rows x 63 columns]",
      "text/html": "<div>\n<style scoped>\n    .dataframe tbody tr th:only-of-type {\n        vertical-align: middle;\n    }\n\n    .dataframe tbody tr th {\n        vertical-align: top;\n    }\n\n    .dataframe thead th {\n        text-align: right;\n    }\n</style>\n<table border=\"1\" class=\"dataframe\">\n  <thead>\n    <tr style=\"text-align: right;\">\n      <th></th>\n      <th>Value</th>\n      <th>Ref</th>\n      <th>1990</th>\n      <th>1991</th>\n      <th>1992</th>\n      <th>1993</th>\n      <th>1994</th>\n      <th>1995</th>\n      <th>1996</th>\n      <th>1997</th>\n      <th>...</th>\n      <th>2041</th>\n      <th>2042</th>\n      <th>2043</th>\n      <th>2044</th>\n      <th>2045</th>\n      <th>2046</th>\n      <th>2047</th>\n      <th>2048</th>\n      <th>2049</th>\n      <th>2050</th>\n    </tr>\n    <tr>\n      <th>ID</th>\n      <th></th>\n      <th></th>\n      <th></th>\n      <th></th>\n      <th></th>\n      <th></th>\n      <th></th>\n      <th></th>\n      <th></th>\n      <th></th>\n      <th></th>\n      <th></th>\n      <th></th>\n      <th></th>\n      <th></th>\n      <th></th>\n      <th></th>\n      <th></th>\n      <th></th>\n      <th></th>\n      <th></th>\n    </tr>\n  </thead>\n  <tbody>\n    <tr>\n      <th>GHG intensity of electricity generation [g CO2eq/kWh] - Germany</th>\n      <td>NaN</td>\n      <td>EEA 2022</td>\n      <td>652.0</td>\n      <td>656.0</td>\n      <td>628.0</td>\n      <td>631.0</td>\n      <td>626.0</td>\n      <td>610.0</td>\n      <td>580.0</td>\n      <td>566.0</td>\n      <td>...</td>\n      <td>62.592000</td>\n      <td>46.94400</td>\n      <td>31.296000</td>\n      <td>15.648000</td>\n      <td>0.000000</td>\n      <td>0.00000</td>\n      <td>0.000000</td>\n      <td>0.000000</td>\n      <td>0.000000</td>\n      <td>0.00</td>\n    </tr>\n    <tr>\n      <th>GHG intensity of electricity generation [g CO2eq/kWh] - Norway</th>\n      <td>NaN</td>\n      <td>Our world in Data</td>\n      <td>NaN</td>\n      <td>NaN</td>\n      <td>NaN</td>\n      <td>NaN</td>\n      <td>NaN</td>\n      <td>NaN</td>\n      <td>NaN</td>\n      <td>NaN</td>\n      <td>...</td>\n      <td>7.783673</td>\n      <td>6.91882</td>\n      <td>6.053968</td>\n      <td>5.189115</td>\n      <td>4.324263</td>\n      <td>3.45941</td>\n      <td>2.594558</td>\n      <td>1.729705</td>\n      <td>0.864853</td>\n      <td>0.00</td>\n    </tr>\n    <tr>\n      <th>Grey hydrogen emissions [g CO2/MJ H2] - Norway</th>\n      <td>96.77</td>\n      <td>Own calculation @ GWP20</td>\n      <td>NaN</td>\n      <td>NaN</td>\n      <td>NaN</td>\n      <td>NaN</td>\n      <td>NaN</td>\n      <td>NaN</td>\n      <td>NaN</td>\n      <td>NaN</td>\n      <td>...</td>\n      <td>NaN</td>\n      <td>NaN</td>\n      <td>NaN</td>\n      <td>NaN</td>\n      <td>NaN</td>\n      <td>NaN</td>\n      <td>NaN</td>\n      <td>NaN</td>\n      <td>NaN</td>\n      <td>NaN</td>\n    </tr>\n    <tr>\n      <th>Grey hydrogen emissions [kg CO2/kg H2] - Norway</th>\n      <td>11.6124</td>\n      <td>Own calculation @ GWP20</td>\n      <td>NaN</td>\n      <td>NaN</td>\n      <td>NaN</td>\n      <td>NaN</td>\n      <td>NaN</td>\n      <td>NaN</td>\n      <td>NaN</td>\n      <td>NaN</td>\n      <td>...</td>\n      <td>NaN</td>\n      <td>NaN</td>\n      <td>NaN</td>\n      <td>NaN</td>\n      <td>NaN</td>\n      <td>NaN</td>\n      <td>NaN</td>\n      <td>NaN</td>\n      <td>NaN</td>\n      <td>NaN</td>\n    </tr>\n    <tr>\n      <th>Blue hydrogen emissions [g CO2/MJ H2] - Norway</th>\n      <td>NaN</td>\n      <td>Own calculation @ GWP20</td>\n      <td>NaN</td>\n      <td>NaN</td>\n      <td>NaN</td>\n      <td>NaN</td>\n      <td>NaN</td>\n      <td>NaN</td>\n      <td>NaN</td>\n      <td>NaN</td>\n      <td>...</td>\n      <td>25.499000</td>\n      <td>24.61800</td>\n      <td>23.737000</td>\n      <td>22.856000</td>\n      <td>21.975000</td>\n      <td>21.09400</td>\n      <td>20.213000</td>\n      <td>19.332000</td>\n      <td>18.451000</td>\n      <td>17.57</td>\n    </tr>\n    <tr>\n      <th>...</th>\n      <td>...</td>\n      <td>...</td>\n      <td>...</td>\n      <td>...</td>\n      <td>...</td>\n      <td>...</td>\n      <td>...</td>\n      <td>...</td>\n      <td>...</td>\n      <td>...</td>\n      <td>...</td>\n      <td>...</td>\n      <td>...</td>\n      <td>...</td>\n      <td>...</td>\n      <td>...</td>\n      <td>...</td>\n      <td>...</td>\n      <td>...</td>\n      <td>...</td>\n      <td>...</td>\n    </tr>\n    <tr>\n      <th>Hydrogen leakage</th>\n      <td>Predicted Emission Confidence level</td>\n      <td>Ref</td>\n      <td>NaN</td>\n      <td>NaN</td>\n      <td>NaN</td>\n      <td>NaN</td>\n      <td>NaN</td>\n      <td>NaN</td>\n      <td>NaN</td>\n      <td>NaN</td>\n      <td>...</td>\n      <td>NaN</td>\n      <td>NaN</td>\n      <td>NaN</td>\n      <td>NaN</td>\n      <td>NaN</td>\n      <td>NaN</td>\n      <td>NaN</td>\n      <td>NaN</td>\n      <td>NaN</td>\n      <td>NaN</td>\n    </tr>\n    <tr>\n      <th>Electrolytic H2 production [% of produced H2]</th>\n      <td>0.092</td>\n      <td>DOE 2022</td>\n      <td>NaN</td>\n      <td>NaN</td>\n      <td>NaN</td>\n      <td>NaN</td>\n      <td>NaN</td>\n      <td>NaN</td>\n      <td>NaN</td>\n      <td>NaN</td>\n      <td>...</td>\n      <td>NaN</td>\n      <td>NaN</td>\n      <td>NaN</td>\n      <td>NaN</td>\n      <td>NaN</td>\n      <td>NaN</td>\n      <td>NaN</td>\n      <td>NaN</td>\n      <td>NaN</td>\n      <td>NaN</td>\n    </tr>\n    <tr>\n      <th>Electrolytic H2 production [% of produced H2] w/ recombination</th>\n      <td>0.0052</td>\n      <td>DOE 2022</td>\n      <td>NaN</td>\n      <td>NaN</td>\n      <td>NaN</td>\n      <td>NaN</td>\n      <td>NaN</td>\n      <td>NaN</td>\n      <td>NaN</td>\n      <td>NaN</td>\n      <td>...</td>\n      <td>NaN</td>\n      <td>NaN</td>\n      <td>NaN</td>\n      <td>NaN</td>\n      <td>NaN</td>\n      <td>NaN</td>\n      <td>NaN</td>\n      <td>NaN</td>\n      <td>NaN</td>\n      <td>NaN</td>\n    </tr>\n    <tr>\n      <th>CCS enabled H2 production [% of produced H2]</th>\n      <td>0.005</td>\n      <td>DOE 2022</td>\n      <td>NaN</td>\n      <td>NaN</td>\n      <td>NaN</td>\n      <td>NaN</td>\n      <td>NaN</td>\n      <td>NaN</td>\n      <td>NaN</td>\n      <td>NaN</td>\n      <td>...</td>\n      <td>NaN</td>\n      <td>NaN</td>\n      <td>NaN</td>\n      <td>NaN</td>\n      <td>NaN</td>\n      <td>NaN</td>\n      <td>NaN</td>\n      <td>NaN</td>\n      <td>NaN</td>\n      <td>NaN</td>\n    </tr>\n    <tr>\n      <th>Large-scale transmission [% of transported hyodrogen]</th>\n      <td>0.0048</td>\n      <td>DOE 2022</td>\n      <td>NaN</td>\n      <td>NaN</td>\n      <td>NaN</td>\n      <td>NaN</td>\n      <td>NaN</td>\n      <td>NaN</td>\n      <td>NaN</td>\n      <td>NaN</td>\n      <td>...</td>\n      <td>NaN</td>\n      <td>NaN</td>\n      <td>NaN</td>\n      <td>NaN</td>\n      <td>NaN</td>\n      <td>NaN</td>\n      <td>NaN</td>\n      <td>NaN</td>\n      <td>NaN</td>\n      <td>NaN</td>\n    </tr>\n  </tbody>\n</table>\n<p>65 rows × 63 columns</p>\n</div>"
     },
     "execution_count": 56,
     "metadata": {},
     "output_type": "execute_result"
    }
   ],
   "source": [
    "GHG =  pd.read_excel(path, sheet_name='GHG Footprint', decimal=',', index_col=0)\n",
    "GHG"
   ],
   "metadata": {
    "collapsed": false,
    "pycharm": {
     "name": "#%%\n"
    }
   }
  },
  {
   "cell_type": "code",
   "execution_count": 57,
   "outputs": [
    {
     "data": {
      "text/plain": "                                                                                        Ref  \\\nProperties                                                                                    \nProperties - Gas density [kg/m3]                                                   BOG 2020   \nProperties - LHV [MJ/kg]                                                           BOG 2020   \nProperties - LHV [kWh/kg]                 https://www.iea-amf.org/content/fuel_informati...   \nProperties - LHV [kWh/m3]                  https://www.rechargenews.com/energy-transitio...   \nProperties - Boiling point at 1 Bar [°C]                                                NaN   \n...                                                                                     ...   \nCAPEX ($/kW-H2), incl. Util.                                                        EWI PTX   \nOPEX ($/kW-H2/a), incl. Util.                                                       EWI PTX   \nElectricity use (kWh/kWh-H2                                                         EWI PTX   \nUtilisation                                                                         EWI PTX   \nReconversion - Lifetime [Years]                                                     EWI PTX   \n\n                                            LH2      2020       2021  \\\nProperties                                                             \nProperties - Gas density [kg/m3]           71.1       NaN        NaN   \nProperties - LHV [MJ/kg]                    120       NaN        NaN   \nProperties - LHV [kWh/kg]                 33.33       NaN        NaN   \nProperties - LHV [kWh/m3]                  2350       NaN        NaN   \nProperties - Boiling point at 1 Bar [°C]   -253       NaN        NaN   \n...                                         ...       ...        ...   \nCAPEX ($/kW-H2), incl. Util.                NaN       NaN        NaN   \nOPEX ($/kW-H2/a), incl. Util.               NaN  57.69591  57.118951   \nElectricity use (kWh/kWh-H2                0.01   0.01000   0.010000   \nUtilisation                                 NaN   0.90000   0.900000   \nReconversion - Lifetime [Years]              30       NaN        NaN   \n\n                                               2022       2023       2024  \\\nProperties                                                                  \nProperties - Gas density [kg/m3]                NaN        NaN        NaN   \nProperties - LHV [MJ/kg]                        NaN        NaN        NaN   \nProperties - LHV [kWh/kg]                       NaN        NaN        NaN   \nProperties - LHV [kWh/m3]                       NaN        NaN        NaN   \nProperties - Boiling point at 1 Bar [°C]        NaN        NaN        NaN   \n...                                             ...        ...        ...   \nCAPEX ($/kW-H2), incl. Util.                    NaN        NaN        NaN   \nOPEX ($/kW-H2/a), incl. Util.             56.541992  55.965033  55.388074   \nElectricity use (kWh/kWh-H2                0.010000   0.010000   0.010000   \nUtilisation                                0.900000   0.900000   0.900000   \nReconversion - Lifetime [Years]                 NaN        NaN        NaN   \n\n                                               2025       2026       2027  \\\nProperties                                                                  \nProperties - Gas density [kg/m3]                NaN        NaN        NaN   \nProperties - LHV [MJ/kg]                        NaN        NaN        NaN   \nProperties - LHV [kWh/kg]                       NaN        NaN        NaN   \nProperties - LHV [kWh/m3]                       NaN        NaN        NaN   \nProperties - Boiling point at 1 Bar [°C]        NaN        NaN        NaN   \n...                                             ...        ...        ...   \nCAPEX ($/kW-H2), incl. Util.                    NaN        NaN        NaN   \nOPEX ($/kW-H2/a), incl. Util.             54.811115  54.234156  53.657197   \nElectricity use (kWh/kWh-H2                0.010000   0.010000   0.010000   \nUtilisation                                0.900000   0.900000   0.900000   \nReconversion - Lifetime [Years]                 NaN        NaN        NaN   \n\n                                          ...       2041       2042  \\\nProperties                                ...                         \nProperties - Gas density [kg/m3]          ...        NaN        NaN   \nProperties - LHV [MJ/kg]                  ...        NaN        NaN   \nProperties - LHV [kWh/kg]                 ...        NaN        NaN   \nProperties - LHV [kWh/m3]                 ...        NaN        NaN   \nProperties - Boiling point at 1 Bar [°C]  ...        NaN        NaN   \n...                                       ...        ...        ...   \nCAPEX ($/kW-H2), incl. Util.              ...        NaN        NaN   \nOPEX ($/kW-H2/a), incl. Util.             ...  37.646582  36.348424   \nElectricity use (kWh/kWh-H2               ...   0.010000   0.010000   \nUtilisation                               ...   0.900000   0.900000   \nReconversion - Lifetime [Years]           ...        NaN        NaN   \n\n                                               2043       2044      2045  \\\nProperties                                                                 \nProperties - Gas density [kg/m3]                NaN        NaN       NaN   \nProperties - LHV [MJ/kg]                        NaN        NaN       NaN   \nProperties - LHV [kWh/kg]                       NaN        NaN       NaN   \nProperties - LHV [kWh/m3]                       NaN        NaN       NaN   \nProperties - Boiling point at 1 Bar [°C]        NaN        NaN       NaN   \n...                                             ...        ...       ...   \nCAPEX ($/kW-H2), incl. Util.                    NaN        NaN       NaN   \nOPEX ($/kW-H2/a), incl. Util.             35.050266  33.752108  32.45395   \nElectricity use (kWh/kWh-H2                0.010000   0.010000   0.01000   \nUtilisation                                0.900000   0.900000   0.90000   \nReconversion - Lifetime [Years]                 NaN        NaN       NaN   \n\n                                               2046       2047       2048  \\\nProperties                                                                  \nProperties - Gas density [kg/m3]                NaN        NaN        NaN   \nProperties - LHV [MJ/kg]                        NaN        NaN        NaN   \nProperties - LHV [kWh/kg]                       NaN        NaN        NaN   \nProperties - LHV [kWh/m3]                       NaN        NaN        NaN   \nProperties - Boiling point at 1 Bar [°C]        NaN        NaN        NaN   \n...                                             ...        ...        ...   \nCAPEX ($/kW-H2), incl. Util.                    NaN        NaN        NaN   \nOPEX ($/kW-H2/a), incl. Util.             31.155792  29.857634  28.559476   \nElectricity use (kWh/kWh-H2                0.010000   0.010000   0.010000   \nUtilisation                                0.900000   0.900000   0.900000   \nReconversion - Lifetime [Years]                 NaN        NaN        NaN   \n\n                                               2049      2050  \nProperties                                                     \nProperties - Gas density [kg/m3]                NaN       NaN  \nProperties - LHV [MJ/kg]                        NaN       NaN  \nProperties - LHV [kWh/kg]                       NaN       NaN  \nProperties - LHV [kWh/m3]                       NaN       NaN  \nProperties - Boiling point at 1 Bar [°C]        NaN       NaN  \n...                                             ...       ...  \nCAPEX ($/kW-H2), incl. Util.                    NaN       NaN  \nOPEX ($/kW-H2/a), incl. Util.             27.261318  25.96316  \nElectricity use (kWh/kWh-H2                0.010000   0.01000  \nUtilisation                                0.900000   0.90000  \nReconversion - Lifetime [Years]                 NaN       NaN  \n\n[121 rows x 33 columns]",
      "text/html": "<div>\n<style scoped>\n    .dataframe tbody tr th:only-of-type {\n        vertical-align: middle;\n    }\n\n    .dataframe tbody tr th {\n        vertical-align: top;\n    }\n\n    .dataframe thead th {\n        text-align: right;\n    }\n</style>\n<table border=\"1\" class=\"dataframe\">\n  <thead>\n    <tr style=\"text-align: right;\">\n      <th></th>\n      <th>Ref</th>\n      <th>LH2</th>\n      <th>2020</th>\n      <th>2021</th>\n      <th>2022</th>\n      <th>2023</th>\n      <th>2024</th>\n      <th>2025</th>\n      <th>2026</th>\n      <th>2027</th>\n      <th>...</th>\n      <th>2041</th>\n      <th>2042</th>\n      <th>2043</th>\n      <th>2044</th>\n      <th>2045</th>\n      <th>2046</th>\n      <th>2047</th>\n      <th>2048</th>\n      <th>2049</th>\n      <th>2050</th>\n    </tr>\n    <tr>\n      <th>Properties</th>\n      <th></th>\n      <th></th>\n      <th></th>\n      <th></th>\n      <th></th>\n      <th></th>\n      <th></th>\n      <th></th>\n      <th></th>\n      <th></th>\n      <th></th>\n      <th></th>\n      <th></th>\n      <th></th>\n      <th></th>\n      <th></th>\n      <th></th>\n      <th></th>\n      <th></th>\n      <th></th>\n      <th></th>\n    </tr>\n  </thead>\n  <tbody>\n    <tr>\n      <th>Properties - Gas density [kg/m3]</th>\n      <td>BOG 2020</td>\n      <td>71.1</td>\n      <td>NaN</td>\n      <td>NaN</td>\n      <td>NaN</td>\n      <td>NaN</td>\n      <td>NaN</td>\n      <td>NaN</td>\n      <td>NaN</td>\n      <td>NaN</td>\n      <td>...</td>\n      <td>NaN</td>\n      <td>NaN</td>\n      <td>NaN</td>\n      <td>NaN</td>\n      <td>NaN</td>\n      <td>NaN</td>\n      <td>NaN</td>\n      <td>NaN</td>\n      <td>NaN</td>\n      <td>NaN</td>\n    </tr>\n    <tr>\n      <th>Properties - LHV [MJ/kg]</th>\n      <td>BOG 2020</td>\n      <td>120</td>\n      <td>NaN</td>\n      <td>NaN</td>\n      <td>NaN</td>\n      <td>NaN</td>\n      <td>NaN</td>\n      <td>NaN</td>\n      <td>NaN</td>\n      <td>NaN</td>\n      <td>...</td>\n      <td>NaN</td>\n      <td>NaN</td>\n      <td>NaN</td>\n      <td>NaN</td>\n      <td>NaN</td>\n      <td>NaN</td>\n      <td>NaN</td>\n      <td>NaN</td>\n      <td>NaN</td>\n      <td>NaN</td>\n    </tr>\n    <tr>\n      <th>Properties - LHV [kWh/kg]</th>\n      <td>https://www.iea-amf.org/content/fuel_informati...</td>\n      <td>33.33</td>\n      <td>NaN</td>\n      <td>NaN</td>\n      <td>NaN</td>\n      <td>NaN</td>\n      <td>NaN</td>\n      <td>NaN</td>\n      <td>NaN</td>\n      <td>NaN</td>\n      <td>...</td>\n      <td>NaN</td>\n      <td>NaN</td>\n      <td>NaN</td>\n      <td>NaN</td>\n      <td>NaN</td>\n      <td>NaN</td>\n      <td>NaN</td>\n      <td>NaN</td>\n      <td>NaN</td>\n      <td>NaN</td>\n    </tr>\n    <tr>\n      <th>Properties - LHV [kWh/m3]</th>\n      <td>https://www.rechargenews.com/energy-transitio...</td>\n      <td>2350</td>\n      <td>NaN</td>\n      <td>NaN</td>\n      <td>NaN</td>\n      <td>NaN</td>\n      <td>NaN</td>\n      <td>NaN</td>\n      <td>NaN</td>\n      <td>NaN</td>\n      <td>...</td>\n      <td>NaN</td>\n      <td>NaN</td>\n      <td>NaN</td>\n      <td>NaN</td>\n      <td>NaN</td>\n      <td>NaN</td>\n      <td>NaN</td>\n      <td>NaN</td>\n      <td>NaN</td>\n      <td>NaN</td>\n    </tr>\n    <tr>\n      <th>Properties - Boiling point at 1 Bar [°C]</th>\n      <td>NaN</td>\n      <td>-253</td>\n      <td>NaN</td>\n      <td>NaN</td>\n      <td>NaN</td>\n      <td>NaN</td>\n      <td>NaN</td>\n      <td>NaN</td>\n      <td>NaN</td>\n      <td>NaN</td>\n      <td>...</td>\n      <td>NaN</td>\n      <td>NaN</td>\n      <td>NaN</td>\n      <td>NaN</td>\n      <td>NaN</td>\n      <td>NaN</td>\n      <td>NaN</td>\n      <td>NaN</td>\n      <td>NaN</td>\n      <td>NaN</td>\n    </tr>\n    <tr>\n      <th>...</th>\n      <td>...</td>\n      <td>...</td>\n      <td>...</td>\n      <td>...</td>\n      <td>...</td>\n      <td>...</td>\n      <td>...</td>\n      <td>...</td>\n      <td>...</td>\n      <td>...</td>\n      <td>...</td>\n      <td>...</td>\n      <td>...</td>\n      <td>...</td>\n      <td>...</td>\n      <td>...</td>\n      <td>...</td>\n      <td>...</td>\n      <td>...</td>\n      <td>...</td>\n      <td>...</td>\n    </tr>\n    <tr>\n      <th>CAPEX ($/kW-H2), incl. Util.</th>\n      <td>EWI PTX</td>\n      <td>NaN</td>\n      <td>NaN</td>\n      <td>NaN</td>\n      <td>NaN</td>\n      <td>NaN</td>\n      <td>NaN</td>\n      <td>NaN</td>\n      <td>NaN</td>\n      <td>NaN</td>\n      <td>...</td>\n      <td>NaN</td>\n      <td>NaN</td>\n      <td>NaN</td>\n      <td>NaN</td>\n      <td>NaN</td>\n      <td>NaN</td>\n      <td>NaN</td>\n      <td>NaN</td>\n      <td>NaN</td>\n      <td>NaN</td>\n    </tr>\n    <tr>\n      <th>OPEX ($/kW-H2/a), incl. Util.</th>\n      <td>EWI PTX</td>\n      <td>NaN</td>\n      <td>57.69591</td>\n      <td>57.118951</td>\n      <td>56.541992</td>\n      <td>55.965033</td>\n      <td>55.388074</td>\n      <td>54.811115</td>\n      <td>54.234156</td>\n      <td>53.657197</td>\n      <td>...</td>\n      <td>37.646582</td>\n      <td>36.348424</td>\n      <td>35.050266</td>\n      <td>33.752108</td>\n      <td>32.45395</td>\n      <td>31.155792</td>\n      <td>29.857634</td>\n      <td>28.559476</td>\n      <td>27.261318</td>\n      <td>25.96316</td>\n    </tr>\n    <tr>\n      <th>Electricity use (kWh/kWh-H2</th>\n      <td>EWI PTX</td>\n      <td>0.01</td>\n      <td>0.01000</td>\n      <td>0.010000</td>\n      <td>0.010000</td>\n      <td>0.010000</td>\n      <td>0.010000</td>\n      <td>0.010000</td>\n      <td>0.010000</td>\n      <td>0.010000</td>\n      <td>...</td>\n      <td>0.010000</td>\n      <td>0.010000</td>\n      <td>0.010000</td>\n      <td>0.010000</td>\n      <td>0.01000</td>\n      <td>0.010000</td>\n      <td>0.010000</td>\n      <td>0.010000</td>\n      <td>0.010000</td>\n      <td>0.01000</td>\n    </tr>\n    <tr>\n      <th>Utilisation</th>\n      <td>EWI PTX</td>\n      <td>NaN</td>\n      <td>0.90000</td>\n      <td>0.900000</td>\n      <td>0.900000</td>\n      <td>0.900000</td>\n      <td>0.900000</td>\n      <td>0.900000</td>\n      <td>0.900000</td>\n      <td>0.900000</td>\n      <td>...</td>\n      <td>0.900000</td>\n      <td>0.900000</td>\n      <td>0.900000</td>\n      <td>0.900000</td>\n      <td>0.90000</td>\n      <td>0.900000</td>\n      <td>0.900000</td>\n      <td>0.900000</td>\n      <td>0.900000</td>\n      <td>0.90000</td>\n    </tr>\n    <tr>\n      <th>Reconversion - Lifetime [Years]</th>\n      <td>EWI PTX</td>\n      <td>30</td>\n      <td>NaN</td>\n      <td>NaN</td>\n      <td>NaN</td>\n      <td>NaN</td>\n      <td>NaN</td>\n      <td>NaN</td>\n      <td>NaN</td>\n      <td>NaN</td>\n      <td>...</td>\n      <td>NaN</td>\n      <td>NaN</td>\n      <td>NaN</td>\n      <td>NaN</td>\n      <td>NaN</td>\n      <td>NaN</td>\n      <td>NaN</td>\n      <td>NaN</td>\n      <td>NaN</td>\n      <td>NaN</td>\n    </tr>\n  </tbody>\n</table>\n<p>121 rows × 33 columns</p>\n</div>"
     },
     "execution_count": 57,
     "metadata": {},
     "output_type": "execute_result"
    }
   ],
   "source": [
    "tea_lh2 = pd.read_excel(path, sheet_name='LH2', decimal=',', index_col=0)\n",
    "tea_lh2"
   ],
   "metadata": {
    "collapsed": false,
    "pycharm": {
     "name": "#%%\n"
    }
   }
  },
  {
   "cell_type": "code",
   "execution_count": 58,
   "outputs": [
    {
     "data": {
      "text/plain": "                                                                                                  Ref  \\\nProperties                                                                                              \nProperties - Gas density [kg/m3]                                                                  NaN   \nProperties - LHV [MJ/kg] []                                                                  BOG 2020   \nProperties - LHV [kWh/kg]                           https://www.iea-amf.org/content/fuel_informati...   \nProperties - LHV [kWh/m3]                            https://www.rechargenews.com/energy-transitio...   \nProperties - Boiling point at 1 Bar [°C]                                                          NaN   \n...                                                                                               ...   \nReconversion - Efficiency [% LHV]                                                          IRENA 2022   \nReconversion - Electricity consumption opt. [kW...                                         IRENA 2022   \nReconversion - Electricity consumption pess. [k...                                         IRENA 2022   \nReconversion - Heat consumption opt. [kWh/kg H2]                                           IRENA 2022   \nReconversion - Heat consumption pess. [kWh/kg H2]                                          IRENA 2022   \n\n                                                      NH3   2020    2021  \\\nProperties                                                                 \nProperties - Gas density [kg/m3]                    682.8    NaN     NaN   \nProperties - LHV [MJ/kg] []                          18.6    NaN     NaN   \nProperties - LHV [kWh/kg]                            5.17    NaN     NaN   \nProperties - LHV [kWh/m3]                            3730    NaN     NaN   \nProperties - Boiling point at 1 Bar [°C]              -33    NaN     NaN   \n...                                                   ...    ...     ...   \nReconversion - Efficiency [% LHV]                     NaN   0.98   0.980   \nReconversion - Electricity consumption opt. [kW...    NaN   2.75   2.675   \nReconversion - Electricity consumption pess. [k...    NaN   2.75   2.675   \nReconversion - Heat consumption opt. [kWh/kg H2]      NaN  14.30  13.990   \nReconversion - Heat consumption pess. [kWh/kg H2]     NaN  19.60  19.320   \n\n                                                     2022    2023   2024  \\\nProperties                                                                 \nProperties - Gas density [kg/m3]                      NaN     NaN    NaN   \nProperties - LHV [MJ/kg] []                           NaN     NaN    NaN   \nProperties - LHV [kWh/kg]                             NaN     NaN    NaN   \nProperties - LHV [kWh/m3]                             NaN     NaN    NaN   \nProperties - Boiling point at 1 Bar [°C]              NaN     NaN    NaN   \n...                                                   ...     ...    ...   \nReconversion - Efficiency [% LHV]                    0.98   0.980   0.98   \nReconversion - Electricity consumption opt. [kW...    2.6   2.525   2.45   \nReconversion - Electricity consumption pess. [k...    2.6   2.525   2.45   \nReconversion - Heat consumption opt. [kWh/kg H2]    13.68  13.370  13.06   \nReconversion - Heat consumption pess. [kWh/kg H2]   19.04  18.760  18.48   \n\n                                                      2025   2026    2027  \\\nProperties                                                                  \nProperties - Gas density [kg/m3]                       NaN    NaN     NaN   \nProperties - LHV [MJ/kg] []                            NaN    NaN     NaN   \nProperties - LHV [kWh/kg]                              NaN    NaN     NaN   \nProperties - LHV [kWh/m3]                              NaN    NaN     NaN   \nProperties - Boiling point at 1 Bar [°C]               NaN    NaN     NaN   \n...                                                    ...    ...     ...   \nReconversion - Efficiency [% LHV]                    0.980   0.98   0.980   \nReconversion - Electricity consumption opt. [kW...   2.375   2.30   2.225   \nReconversion - Electricity consumption pess. [k...   2.375   2.30   2.225   \nReconversion - Heat consumption opt. [kWh/kg H2]    12.750  12.44  12.130   \nReconversion - Heat consumption pess. [kWh/kg H2]   18.200  17.92  17.640   \n\n                                                    ...   2041   2042   2043  \\\nProperties                                          ...                        \nProperties - Gas density [kg/m3]                    ...    NaN    NaN    NaN   \nProperties - LHV [MJ/kg] []                         ...    NaN    NaN    NaN   \nProperties - LHV [kWh/kg]                           ...    NaN    NaN    NaN   \nProperties - LHV [kWh/m3]                           ...    NaN    NaN    NaN   \nProperties - Boiling point at 1 Bar [°C]            ...    NaN    NaN    NaN   \n...                                                 ...    ...    ...    ...   \nReconversion - Efficiency [% LHV]                   ...   0.98   0.98   0.98   \nReconversion - Electricity consumption opt. [kW...  ...   1.20   1.15   1.10   \nReconversion - Electricity consumption pess. [k...  ...   1.20   1.15   1.10   \nReconversion - Heat consumption opt. [kWh/kg H2]    ...   7.79   7.48   7.17   \nReconversion - Heat consumption pess. [kWh/kg H2]   ...  13.72  13.44  13.16   \n\n                                                     2044   2045   2046  \\\nProperties                                                                \nProperties - Gas density [kg/m3]                      NaN    NaN    NaN   \nProperties - LHV [MJ/kg] []                           NaN    NaN    NaN   \nProperties - LHV [kWh/kg]                             NaN    NaN    NaN   \nProperties - LHV [kWh/m3]                             NaN    NaN    NaN   \nProperties - Boiling point at 1 Bar [°C]              NaN    NaN    NaN   \n...                                                   ...    ...    ...   \nReconversion - Efficiency [% LHV]                    0.98   0.98   0.98   \nReconversion - Electricity consumption opt. [kW...   1.05   1.00   0.95   \nReconversion - Electricity consumption pess. [k...   1.05   1.00   0.95   \nReconversion - Heat consumption opt. [kWh/kg H2]     6.86   6.55   6.24   \nReconversion - Heat consumption pess. [kWh/kg H2]   12.88  12.60  12.32   \n\n                                                     2047   2048   2049  2050  \nProperties                                                                     \nProperties - Gas density [kg/m3]                      NaN    NaN    NaN   NaN  \nProperties - LHV [MJ/kg] []                           NaN    NaN    NaN   NaN  \nProperties - LHV [kWh/kg]                             NaN    NaN    NaN   NaN  \nProperties - LHV [kWh/m3]                             NaN    NaN    NaN   NaN  \nProperties - Boiling point at 1 Bar [°C]              NaN    NaN    NaN   NaN  \n...                                                   ...    ...    ...   ...  \nReconversion - Efficiency [% LHV]                    0.98   0.98   0.98  0.98  \nReconversion - Electricity consumption opt. [kW...   0.90   0.85   0.80  0.75  \nReconversion - Electricity consumption pess. [k...   0.90   0.85   0.80  0.75  \nReconversion - Heat consumption opt. [kWh/kg H2]     5.93   5.62   5.31     5  \nReconversion - Heat consumption pess. [kWh/kg H2]   12.04  11.76  11.48  11.2  \n\n[110 rows x 33 columns]",
      "text/html": "<div>\n<style scoped>\n    .dataframe tbody tr th:only-of-type {\n        vertical-align: middle;\n    }\n\n    .dataframe tbody tr th {\n        vertical-align: top;\n    }\n\n    .dataframe thead th {\n        text-align: right;\n    }\n</style>\n<table border=\"1\" class=\"dataframe\">\n  <thead>\n    <tr style=\"text-align: right;\">\n      <th></th>\n      <th>Ref</th>\n      <th>NH3</th>\n      <th>2020</th>\n      <th>2021</th>\n      <th>2022</th>\n      <th>2023</th>\n      <th>2024</th>\n      <th>2025</th>\n      <th>2026</th>\n      <th>2027</th>\n      <th>...</th>\n      <th>2041</th>\n      <th>2042</th>\n      <th>2043</th>\n      <th>2044</th>\n      <th>2045</th>\n      <th>2046</th>\n      <th>2047</th>\n      <th>2048</th>\n      <th>2049</th>\n      <th>2050</th>\n    </tr>\n    <tr>\n      <th>Properties</th>\n      <th></th>\n      <th></th>\n      <th></th>\n      <th></th>\n      <th></th>\n      <th></th>\n      <th></th>\n      <th></th>\n      <th></th>\n      <th></th>\n      <th></th>\n      <th></th>\n      <th></th>\n      <th></th>\n      <th></th>\n      <th></th>\n      <th></th>\n      <th></th>\n      <th></th>\n      <th></th>\n      <th></th>\n    </tr>\n  </thead>\n  <tbody>\n    <tr>\n      <th>Properties - Gas density [kg/m3]</th>\n      <td>NaN</td>\n      <td>682.8</td>\n      <td>NaN</td>\n      <td>NaN</td>\n      <td>NaN</td>\n      <td>NaN</td>\n      <td>NaN</td>\n      <td>NaN</td>\n      <td>NaN</td>\n      <td>NaN</td>\n      <td>...</td>\n      <td>NaN</td>\n      <td>NaN</td>\n      <td>NaN</td>\n      <td>NaN</td>\n      <td>NaN</td>\n      <td>NaN</td>\n      <td>NaN</td>\n      <td>NaN</td>\n      <td>NaN</td>\n      <td>NaN</td>\n    </tr>\n    <tr>\n      <th>Properties - LHV [MJ/kg] []</th>\n      <td>BOG 2020</td>\n      <td>18.6</td>\n      <td>NaN</td>\n      <td>NaN</td>\n      <td>NaN</td>\n      <td>NaN</td>\n      <td>NaN</td>\n      <td>NaN</td>\n      <td>NaN</td>\n      <td>NaN</td>\n      <td>...</td>\n      <td>NaN</td>\n      <td>NaN</td>\n      <td>NaN</td>\n      <td>NaN</td>\n      <td>NaN</td>\n      <td>NaN</td>\n      <td>NaN</td>\n      <td>NaN</td>\n      <td>NaN</td>\n      <td>NaN</td>\n    </tr>\n    <tr>\n      <th>Properties - LHV [kWh/kg]</th>\n      <td>https://www.iea-amf.org/content/fuel_informati...</td>\n      <td>5.17</td>\n      <td>NaN</td>\n      <td>NaN</td>\n      <td>NaN</td>\n      <td>NaN</td>\n      <td>NaN</td>\n      <td>NaN</td>\n      <td>NaN</td>\n      <td>NaN</td>\n      <td>...</td>\n      <td>NaN</td>\n      <td>NaN</td>\n      <td>NaN</td>\n      <td>NaN</td>\n      <td>NaN</td>\n      <td>NaN</td>\n      <td>NaN</td>\n      <td>NaN</td>\n      <td>NaN</td>\n      <td>NaN</td>\n    </tr>\n    <tr>\n      <th>Properties - LHV [kWh/m3]</th>\n      <td>https://www.rechargenews.com/energy-transitio...</td>\n      <td>3730</td>\n      <td>NaN</td>\n      <td>NaN</td>\n      <td>NaN</td>\n      <td>NaN</td>\n      <td>NaN</td>\n      <td>NaN</td>\n      <td>NaN</td>\n      <td>NaN</td>\n      <td>...</td>\n      <td>NaN</td>\n      <td>NaN</td>\n      <td>NaN</td>\n      <td>NaN</td>\n      <td>NaN</td>\n      <td>NaN</td>\n      <td>NaN</td>\n      <td>NaN</td>\n      <td>NaN</td>\n      <td>NaN</td>\n    </tr>\n    <tr>\n      <th>Properties - Boiling point at 1 Bar [°C]</th>\n      <td>NaN</td>\n      <td>-33</td>\n      <td>NaN</td>\n      <td>NaN</td>\n      <td>NaN</td>\n      <td>NaN</td>\n      <td>NaN</td>\n      <td>NaN</td>\n      <td>NaN</td>\n      <td>NaN</td>\n      <td>...</td>\n      <td>NaN</td>\n      <td>NaN</td>\n      <td>NaN</td>\n      <td>NaN</td>\n      <td>NaN</td>\n      <td>NaN</td>\n      <td>NaN</td>\n      <td>NaN</td>\n      <td>NaN</td>\n      <td>NaN</td>\n    </tr>\n    <tr>\n      <th>...</th>\n      <td>...</td>\n      <td>...</td>\n      <td>...</td>\n      <td>...</td>\n      <td>...</td>\n      <td>...</td>\n      <td>...</td>\n      <td>...</td>\n      <td>...</td>\n      <td>...</td>\n      <td>...</td>\n      <td>...</td>\n      <td>...</td>\n      <td>...</td>\n      <td>...</td>\n      <td>...</td>\n      <td>...</td>\n      <td>...</td>\n      <td>...</td>\n      <td>...</td>\n      <td>...</td>\n    </tr>\n    <tr>\n      <th>Reconversion - Efficiency [% LHV]</th>\n      <td>IRENA 2022</td>\n      <td>NaN</td>\n      <td>0.98</td>\n      <td>0.980</td>\n      <td>0.98</td>\n      <td>0.980</td>\n      <td>0.98</td>\n      <td>0.980</td>\n      <td>0.98</td>\n      <td>0.980</td>\n      <td>...</td>\n      <td>0.98</td>\n      <td>0.98</td>\n      <td>0.98</td>\n      <td>0.98</td>\n      <td>0.98</td>\n      <td>0.98</td>\n      <td>0.98</td>\n      <td>0.98</td>\n      <td>0.98</td>\n      <td>0.98</td>\n    </tr>\n    <tr>\n      <th>Reconversion - Electricity consumption opt. [kWh/kg H2]</th>\n      <td>IRENA 2022</td>\n      <td>NaN</td>\n      <td>2.75</td>\n      <td>2.675</td>\n      <td>2.6</td>\n      <td>2.525</td>\n      <td>2.45</td>\n      <td>2.375</td>\n      <td>2.30</td>\n      <td>2.225</td>\n      <td>...</td>\n      <td>1.20</td>\n      <td>1.15</td>\n      <td>1.10</td>\n      <td>1.05</td>\n      <td>1.00</td>\n      <td>0.95</td>\n      <td>0.90</td>\n      <td>0.85</td>\n      <td>0.80</td>\n      <td>0.75</td>\n    </tr>\n    <tr>\n      <th>Reconversion - Electricity consumption pess. [kWh/kg H2]</th>\n      <td>IRENA 2022</td>\n      <td>NaN</td>\n      <td>2.75</td>\n      <td>2.675</td>\n      <td>2.6</td>\n      <td>2.525</td>\n      <td>2.45</td>\n      <td>2.375</td>\n      <td>2.30</td>\n      <td>2.225</td>\n      <td>...</td>\n      <td>1.20</td>\n      <td>1.15</td>\n      <td>1.10</td>\n      <td>1.05</td>\n      <td>1.00</td>\n      <td>0.95</td>\n      <td>0.90</td>\n      <td>0.85</td>\n      <td>0.80</td>\n      <td>0.75</td>\n    </tr>\n    <tr>\n      <th>Reconversion - Heat consumption opt. [kWh/kg H2]</th>\n      <td>IRENA 2022</td>\n      <td>NaN</td>\n      <td>14.30</td>\n      <td>13.990</td>\n      <td>13.68</td>\n      <td>13.370</td>\n      <td>13.06</td>\n      <td>12.750</td>\n      <td>12.44</td>\n      <td>12.130</td>\n      <td>...</td>\n      <td>7.79</td>\n      <td>7.48</td>\n      <td>7.17</td>\n      <td>6.86</td>\n      <td>6.55</td>\n      <td>6.24</td>\n      <td>5.93</td>\n      <td>5.62</td>\n      <td>5.31</td>\n      <td>5</td>\n    </tr>\n    <tr>\n      <th>Reconversion - Heat consumption pess. [kWh/kg H2]</th>\n      <td>IRENA 2022</td>\n      <td>NaN</td>\n      <td>19.60</td>\n      <td>19.320</td>\n      <td>19.04</td>\n      <td>18.760</td>\n      <td>18.48</td>\n      <td>18.200</td>\n      <td>17.92</td>\n      <td>17.640</td>\n      <td>...</td>\n      <td>13.72</td>\n      <td>13.44</td>\n      <td>13.16</td>\n      <td>12.88</td>\n      <td>12.60</td>\n      <td>12.32</td>\n      <td>12.04</td>\n      <td>11.76</td>\n      <td>11.48</td>\n      <td>11.2</td>\n    </tr>\n  </tbody>\n</table>\n<p>110 rows × 33 columns</p>\n</div>"
     },
     "execution_count": 58,
     "metadata": {},
     "output_type": "execute_result"
    }
   ],
   "source": [
    "tea_lnh3 = pd.read_excel(path, sheet_name='LNH3', decimal=',', index_col=0)\n",
    "tea_lnh3"
   ],
   "metadata": {
    "collapsed": false,
    "pycharm": {
     "name": "#%%\n"
    }
   }
  },
  {
   "cell_type": "code",
   "execution_count": 59,
   "outputs": [
    {
     "data": {
      "text/plain": "           Origin_Country Destination_Country  sea distance (km)  \\\n0    United Arab Emirates             Germany           12443.10   \n1                  Angola             Germany            9809.65   \n2               Argentina             Germany           14063.90   \n3                 Austria             Germany            6005.96   \n4               Australia             Germany           21212.10   \n..                    ...                 ...                ...   \n955           Philippines               China            1782.35   \n956               Iceland               China           20454.60   \n957      Papua New Guinea               China            6298.52   \n958              Cameroon               China           19717.70   \n959          South Africa               China           12853.50   \n\n     onshore distance (km)  offshore distance (km) Starting point  \n0                      NaN                     NaN            NaN  \n1                      NaN                     NaN            NaN  \n2                      NaN                     NaN            NaN  \n3                    500.0                     0.0            NaN  \n4                      NaN                     NaN            NaN  \n..                     ...                     ...            ...  \n955                    NaN                     NaN            NaN  \n956                    NaN                     NaN            NaN  \n957                    NaN                     NaN            NaN  \n958                    NaN                     NaN            NaN  \n959                    NaN                     NaN            NaN  \n\n[960 rows x 6 columns]",
      "text/html": "<div>\n<style scoped>\n    .dataframe tbody tr th:only-of-type {\n        vertical-align: middle;\n    }\n\n    .dataframe tbody tr th {\n        vertical-align: top;\n    }\n\n    .dataframe thead th {\n        text-align: right;\n    }\n</style>\n<table border=\"1\" class=\"dataframe\">\n  <thead>\n    <tr style=\"text-align: right;\">\n      <th></th>\n      <th>Origin_Country</th>\n      <th>Destination_Country</th>\n      <th>sea distance (km)</th>\n      <th>onshore distance (km)</th>\n      <th>offshore distance (km)</th>\n      <th>Starting point</th>\n    </tr>\n  </thead>\n  <tbody>\n    <tr>\n      <th>0</th>\n      <td>United Arab Emirates</td>\n      <td>Germany</td>\n      <td>12443.10</td>\n      <td>NaN</td>\n      <td>NaN</td>\n      <td>NaN</td>\n    </tr>\n    <tr>\n      <th>1</th>\n      <td>Angola</td>\n      <td>Germany</td>\n      <td>9809.65</td>\n      <td>NaN</td>\n      <td>NaN</td>\n      <td>NaN</td>\n    </tr>\n    <tr>\n      <th>2</th>\n      <td>Argentina</td>\n      <td>Germany</td>\n      <td>14063.90</td>\n      <td>NaN</td>\n      <td>NaN</td>\n      <td>NaN</td>\n    </tr>\n    <tr>\n      <th>3</th>\n      <td>Austria</td>\n      <td>Germany</td>\n      <td>6005.96</td>\n      <td>500.0</td>\n      <td>0.0</td>\n      <td>NaN</td>\n    </tr>\n    <tr>\n      <th>4</th>\n      <td>Australia</td>\n      <td>Germany</td>\n      <td>21212.10</td>\n      <td>NaN</td>\n      <td>NaN</td>\n      <td>NaN</td>\n    </tr>\n    <tr>\n      <th>...</th>\n      <td>...</td>\n      <td>...</td>\n      <td>...</td>\n      <td>...</td>\n      <td>...</td>\n      <td>...</td>\n    </tr>\n    <tr>\n      <th>955</th>\n      <td>Philippines</td>\n      <td>China</td>\n      <td>1782.35</td>\n      <td>NaN</td>\n      <td>NaN</td>\n      <td>NaN</td>\n    </tr>\n    <tr>\n      <th>956</th>\n      <td>Iceland</td>\n      <td>China</td>\n      <td>20454.60</td>\n      <td>NaN</td>\n      <td>NaN</td>\n      <td>NaN</td>\n    </tr>\n    <tr>\n      <th>957</th>\n      <td>Papua New Guinea</td>\n      <td>China</td>\n      <td>6298.52</td>\n      <td>NaN</td>\n      <td>NaN</td>\n      <td>NaN</td>\n    </tr>\n    <tr>\n      <th>958</th>\n      <td>Cameroon</td>\n      <td>China</td>\n      <td>19717.70</td>\n      <td>NaN</td>\n      <td>NaN</td>\n      <td>NaN</td>\n    </tr>\n    <tr>\n      <th>959</th>\n      <td>South Africa</td>\n      <td>China</td>\n      <td>12853.50</td>\n      <td>NaN</td>\n      <td>NaN</td>\n      <td>NaN</td>\n    </tr>\n  </tbody>\n</table>\n<p>960 rows × 6 columns</p>\n</div>"
     },
     "execution_count": 59,
     "metadata": {},
     "output_type": "execute_result"
    }
   ],
   "source": [
    "tra_d = pd.read_excel(path, sheet_name='Transport Distances', decimal=',')\n",
    "tra_d"
   ],
   "metadata": {
    "collapsed": false,
    "pycharm": {
     "name": "#%%\n"
    }
   }
  },
  {
   "cell_type": "code",
   "execution_count": 60,
   "outputs": [
    {
     "data": {
      "text/plain": "300.0"
     },
     "execution_count": 60,
     "metadata": {},
     "output_type": "execute_result"
    }
   ],
   "source": [
    "# Onshore pipeline distance between two countries [km]\n",
    "d_on = float(tra_d[(tra_d['Origin_Country'] == 'Norway') & (tra_d['Destination_Country'] == 'Germany')]['onshore distance (km)'].values)\n",
    "d_on"
   ],
   "metadata": {
    "collapsed": false,
    "pycharm": {
     "name": "#%%\n"
    }
   }
  },
  {
   "cell_type": "code",
   "execution_count": 61,
   "outputs": [
    {
     "data": {
      "text/plain": "650.0"
     },
     "execution_count": 61,
     "metadata": {},
     "output_type": "execute_result"
    }
   ],
   "source": [
    "# Offshore pipeline distance between two countries [km]\n",
    "d_off = float(tra_d[(tra_d['Origin_Country'] == 'Norway') & (tra_d['Destination_Country'] == 'Germany')]['offshore distance (km)'].values)\n",
    "d_off"
   ],
   "metadata": {
    "collapsed": false,
    "pycharm": {
     "name": "#%%\n"
    }
   }
  },
  {
   "cell_type": "code",
   "execution_count": 62,
   "outputs": [
    {
     "data": {
      "text/plain": "260.0"
     },
     "execution_count": 62,
     "metadata": {},
     "output_type": "execute_result"
    }
   ],
   "source": [
    "# Compression capacity in [MWel/1000km]\n",
    "capa_comp = float(pipe.loc['Medium - Compression capacity @ 48inch [MW_el/1000km]']['Parameter'])\n",
    "capa_comp"
   ],
   "metadata": {
    "collapsed": false,
    "pycharm": {
     "name": "#%%\n"
    }
   }
  },
  {
   "cell_type": "code",
   "execution_count": 63,
   "outputs": [
    {
     "data": {
      "text/plain": "0.75"
     },
     "execution_count": 63,
     "metadata": {},
     "output_type": "execute_result"
    }
   ],
   "source": [
    "# Utilisation of the pipeline in %\n",
    "pipe_use = float(pipe.loc['Pipeline load factor [%]']['Parameter'])\n",
    "pipe_use"
   ],
   "metadata": {
    "collapsed": false,
    "pycharm": {
     "name": "#%%\n"
    }
   }
  },
  {
   "cell_type": "code",
   "execution_count": 64,
   "outputs": [
    {
     "data": {
      "text/plain": "3416741674.167417"
     },
     "execution_count": 64,
     "metadata": {},
     "output_type": "execute_result"
    }
   ],
   "source": [
    "#Capacity at full load factor [kg H2/a]\n",
    "capa_pipe = float(pipe.loc['Capacity at full load factor [kg H2/a]']['Parameter'])\n",
    "capa_pipe"
   ],
   "metadata": {
    "collapsed": false,
    "pycharm": {
     "name": "#%%\n"
    }
   }
  },
  {
   "cell_type": "markdown",
   "source": [
    "# Pipeline transport"
   ],
   "metadata": {
    "collapsed": false,
    "pycharm": {
     "name": "#%% md\n"
    }
   }
  },
  {
   "cell_type": "markdown",
   "source": [
    "Compression capacity in [MWel/1000km]\n",
    "Utilisation of the pipeline in %\n",
    "8760 h/a\n",
    "Capacity at full load factor [kg H2/a]\n",
    "Transport distance in [km]\n"
   ],
   "metadata": {
    "collapsed": false,
    "pycharm": {
     "name": "#%% md\n"
    }
   }
  },
  {
   "cell_type": "code",
   "execution_count": 65,
   "outputs": [
    {
     "data": {
      "text/plain": "0.4749525"
     },
     "execution_count": 65,
     "metadata": {},
     "output_type": "execute_result"
    }
   ],
   "source": [
    "# Calc. energy use for compression [kWh/kg_H2]\n",
    "en_comp = capa_comp * 1000 * pipe_use * 8760 / capa_pipe / 1000 * (d_on + d_off)\n",
    "en_comp"
   ],
   "metadata": {
    "collapsed": false,
    "pycharm": {
     "name": "#%%\n"
    }
   }
  },
  {
   "cell_type": "markdown",
   "source": [
    "Energy use per kg H2 delivered times emission factor for energy use.\n",
    "en_comp = Total energy use for compression [kWh/kg H2]\n",
    "EF_y_n = Emission factor of used energy in year y and country n [g CO2eq/kWh]"
   ],
   "metadata": {
    "collapsed": false,
    "pycharm": {
     "name": "#%% md\n"
    }
   }
  },
  {
   "cell_type": "code",
   "execution_count": 66,
   "outputs": [],
   "source": [
    "def Pipeline_emissions():\n",
    "\n",
    "    result = en_comp * EF_y_n\n",
    "    return result"
   ],
   "metadata": {
    "collapsed": false,
    "pycharm": {
     "name": "#%%\n"
    }
   }
  },
  {
   "cell_type": "markdown",
   "source": [
    "Calc. pipeline emissions over time"
   ],
   "metadata": {
    "collapsed": false,
    "pycharm": {
     "name": "#%% md\n"
    }
   }
  },
  {
   "cell_type": "markdown",
   "source": [
    "Using grid electricity for compression.\n",
    "Compressor station for subsea pipelines in exporting country.\n",
    "Emission factor for grid electricity in year y and country n [g CO2eq/kWh]\n",
    "Energy use for compression in [kWh/kg H2]"
   ],
   "metadata": {
    "collapsed": false,
    "pycharm": {
     "name": "#%% md\n"
    }
   }
  },
  {
   "cell_type": "code",
   "execution_count": 67,
   "outputs": [
    {
     "data": {
      "text/plain": "      Pipeline_emissions\nYears                   \n2025           10.269097\n2026            9.858333\n2027            9.447569\n2028            9.036805\n2029            8.626041\n2030            8.215277\n2031            7.804513\n2032             7.39375\n2033            6.982986\n2034            6.572222\n2035            6.161458\n2036            5.750694\n2037             5.33993\n2038            4.929166\n2039            4.518403\n2040            4.107639\n2041            3.696875\n2042            3.286111\n2043            2.875347\n2044            2.464583\n2045            2.053819\n2046            1.643055\n2047            1.232292\n2048            0.821528\n2049            0.410764\n2050                 0.0",
      "text/html": "<div>\n<style scoped>\n    .dataframe tbody tr th:only-of-type {\n        vertical-align: middle;\n    }\n\n    .dataframe tbody tr th {\n        vertical-align: top;\n    }\n\n    .dataframe thead th {\n        text-align: right;\n    }\n</style>\n<table border=\"1\" class=\"dataframe\">\n  <thead>\n    <tr style=\"text-align: right;\">\n      <th></th>\n      <th>Pipeline_emissions</th>\n    </tr>\n    <tr>\n      <th>Years</th>\n      <th></th>\n    </tr>\n  </thead>\n  <tbody>\n    <tr>\n      <th>2025</th>\n      <td>10.269097</td>\n    </tr>\n    <tr>\n      <th>2026</th>\n      <td>9.858333</td>\n    </tr>\n    <tr>\n      <th>2027</th>\n      <td>9.447569</td>\n    </tr>\n    <tr>\n      <th>2028</th>\n      <td>9.036805</td>\n    </tr>\n    <tr>\n      <th>2029</th>\n      <td>8.626041</td>\n    </tr>\n    <tr>\n      <th>2030</th>\n      <td>8.215277</td>\n    </tr>\n    <tr>\n      <th>2031</th>\n      <td>7.804513</td>\n    </tr>\n    <tr>\n      <th>2032</th>\n      <td>7.39375</td>\n    </tr>\n    <tr>\n      <th>2033</th>\n      <td>6.982986</td>\n    </tr>\n    <tr>\n      <th>2034</th>\n      <td>6.572222</td>\n    </tr>\n    <tr>\n      <th>2035</th>\n      <td>6.161458</td>\n    </tr>\n    <tr>\n      <th>2036</th>\n      <td>5.750694</td>\n    </tr>\n    <tr>\n      <th>2037</th>\n      <td>5.33993</td>\n    </tr>\n    <tr>\n      <th>2038</th>\n      <td>4.929166</td>\n    </tr>\n    <tr>\n      <th>2039</th>\n      <td>4.518403</td>\n    </tr>\n    <tr>\n      <th>2040</th>\n      <td>4.107639</td>\n    </tr>\n    <tr>\n      <th>2041</th>\n      <td>3.696875</td>\n    </tr>\n    <tr>\n      <th>2042</th>\n      <td>3.286111</td>\n    </tr>\n    <tr>\n      <th>2043</th>\n      <td>2.875347</td>\n    </tr>\n    <tr>\n      <th>2044</th>\n      <td>2.464583</td>\n    </tr>\n    <tr>\n      <th>2045</th>\n      <td>2.053819</td>\n    </tr>\n    <tr>\n      <th>2046</th>\n      <td>1.643055</td>\n    </tr>\n    <tr>\n      <th>2047</th>\n      <td>1.232292</td>\n    </tr>\n    <tr>\n      <th>2048</th>\n      <td>0.821528</td>\n    </tr>\n    <tr>\n      <th>2049</th>\n      <td>0.410764</td>\n    </tr>\n    <tr>\n      <th>2050</th>\n      <td>0.0</td>\n    </tr>\n  </tbody>\n</table>\n</div>"
     },
     "execution_count": 67,
     "metadata": {},
     "output_type": "execute_result"
    }
   ],
   "source": [
    "years = np.arange(2025,2051)\n",
    "result = pd.DataFrame(index=years, columns=['Pipeline_emissions'])\n",
    "result.index.name = 'Years'\n",
    "\n",
    "for year in years:\n",
    "\n",
    "    EF_y_n = float(GHG.loc['GHG intensity of electricity generation [g CO2eq/kWh] - Norway'][year])\n",
    "\n",
    "    result.Pipeline_emissions.loc[year] = Pipeline_emissions()\n",
    "\n",
    "result"
   ],
   "metadata": {
    "collapsed": false,
    "pycharm": {
     "name": "#%%\n"
    }
   }
  },
  {
   "cell_type": "code",
   "execution_count": 68,
   "outputs": [
    {
     "name": "stderr",
     "output_type": "stream",
     "text": [
      "C:\\Users\\REUTER\\AppData\\Local\\Temp\\ipykernel_18464\\986526507.py:4: FutureWarning: Setting the `book` attribute is not part of the public API, usage can give unexpected or corrupted results and will be removed in a future version\n",
      "  writer.book = book\n"
     ]
    },
    {
     "ename": "AttributeError",
     "evalue": "can't set attribute 'sheets'",
     "output_type": "error",
     "traceback": [
      "\u001B[1;31m---------------------------------------------------------------------------\u001B[0m",
      "\u001B[1;31mAttributeError\u001B[0m                            Traceback (most recent call last)",
      "Cell \u001B[1;32mIn [68], line 5\u001B[0m\n\u001B[0;32m      3\u001B[0m book \u001B[38;5;241m=\u001B[39m load_workbook(path)\n\u001B[0;32m      4\u001B[0m writer\u001B[38;5;241m.\u001B[39mbook \u001B[38;5;241m=\u001B[39m book\n\u001B[1;32m----> 5\u001B[0m writer\u001B[38;5;241m.\u001B[39msheets \u001B[38;5;241m=\u001B[39m \u001B[38;5;28mdict\u001B[39m((ws\u001B[38;5;241m.\u001B[39mtitle, ws) \u001B[38;5;28;01mfor\u001B[39;00m ws \u001B[38;5;129;01min\u001B[39;00m book\u001B[38;5;241m.\u001B[39mworksheets)\n\u001B[0;32m      7\u001B[0m ws \u001B[38;5;241m=\u001B[39m book[\u001B[38;5;124m'\u001B[39m\u001B[38;5;124mReference Results\u001B[39m\u001B[38;5;124m'\u001B[39m]\n\u001B[0;32m      9\u001B[0m result\u001B[38;5;241m.\u001B[39mto_excel(writer, sheet_name\u001B[38;5;241m=\u001B[39m\u001B[38;5;124m'\u001B[39m\u001B[38;5;124mReference Results\u001B[39m\u001B[38;5;124m'\u001B[39m, index\u001B[38;5;241m=\u001B[39m\u001B[38;5;28;01mFalse\u001B[39;00m, startcol\u001B[38;5;241m=\u001B[39mws\u001B[38;5;241m.\u001B[39mmax_column)\n",
      "\u001B[1;31mAttributeError\u001B[0m: can't set attribute 'sheets'"
     ]
    }
   ],
   "source": [
    "# export result to excel\n",
    "writer = pd.ExcelWriter(path, engine='openpyxl', mode='a', if_sheet_exists='overlay')\n",
    "book = load_workbook(path)\n",
    "writer.book = book\n",
    "writer.sheets = dict((ws.title, ws) for ws in book.worksheets)\n",
    "\n",
    "ws = book['Reference Results']\n",
    "\n",
    "result.to_excel(writer, sheet_name='Reference Results', index=False, startcol=ws.max_column)\n",
    "book.save(path)\n",
    "book.close()"
   ],
   "metadata": {
    "collapsed": false,
    "pycharm": {
     "name": "#%%\n"
    }
   }
  },
  {
   "cell_type": "code",
   "execution_count": null,
   "outputs": [],
   "source": [
    "Pipeline_emissions = result"
   ],
   "metadata": {
    "collapsed": false,
    "pycharm": {
     "name": "#%%\n"
    }
   }
  },
  {
   "cell_type": "markdown",
   "source": [
    "## Sensitivity"
   ],
   "metadata": {
    "collapsed": false,
    "pycharm": {
     "name": "#%% md\n"
    }
   }
  },
  {
   "cell_type": "code",
   "execution_count": null,
   "outputs": [],
   "source": [
    "#EF_y_n = 118"
   ],
   "metadata": {
    "collapsed": false,
    "pycharm": {
     "name": "#%%\n"
    }
   }
  },
  {
   "cell_type": "code",
   "execution_count": 165,
   "outputs": [],
   "source": [
    "EF_sensi = np.arange(0,301,20)\n",
    "sensitivity = []\n",
    "def Pipeline_emissions_sensi_EF():\n",
    "\n",
    "    for EF_y_n in EF_sensi:\n",
    "\n",
    "        result = en_comp * EF_y_n\n",
    "\n",
    "        sensitivity.append(result)\n",
    "\n",
    "    return result"
   ],
   "metadata": {
    "collapsed": false,
    "pycharm": {
     "name": "#%%\n"
    }
   }
  },
  {
   "cell_type": "code",
   "execution_count": 166,
   "outputs": [
    {
     "data": {
      "text/plain": "142.48575"
     },
     "execution_count": 166,
     "metadata": {},
     "output_type": "execute_result"
    }
   ],
   "source": [
    "Pipeline_emissions_sensi_EF()"
   ],
   "metadata": {
    "collapsed": false,
    "pycharm": {
     "name": "#%%\n"
    }
   }
  },
  {
   "cell_type": "code",
   "execution_count": 167,
   "outputs": [
    {
     "data": {
      "text/plain": "                                           Pipeline transport emission [g CO2eq/kg H2]\nElectricity emission factor [g CO2eq/kWh]                                             \n0                                                                              0.00000\n20                                                                             9.49905\n40                                                                            18.99810\n60                                                                            28.49715\n80                                                                            37.99620\n100                                                                           47.49525\n120                                                                           56.99430\n140                                                                           66.49335\n160                                                                           75.99240\n180                                                                           85.49145\n200                                                                           94.99050\n220                                                                          104.48955\n240                                                                          113.98860\n260                                                                          123.48765\n280                                                                          132.98670\n300                                                                          142.48575",
      "text/html": "<div>\n<style scoped>\n    .dataframe tbody tr th:only-of-type {\n        vertical-align: middle;\n    }\n\n    .dataframe tbody tr th {\n        vertical-align: top;\n    }\n\n    .dataframe thead th {\n        text-align: right;\n    }\n</style>\n<table border=\"1\" class=\"dataframe\">\n  <thead>\n    <tr style=\"text-align: right;\">\n      <th></th>\n      <th>Pipeline transport emission [g CO2eq/kg H2]</th>\n    </tr>\n    <tr>\n      <th>Electricity emission factor [g CO2eq/kWh]</th>\n      <th></th>\n    </tr>\n  </thead>\n  <tbody>\n    <tr>\n      <th>0</th>\n      <td>0.00000</td>\n    </tr>\n    <tr>\n      <th>20</th>\n      <td>9.49905</td>\n    </tr>\n    <tr>\n      <th>40</th>\n      <td>18.99810</td>\n    </tr>\n    <tr>\n      <th>60</th>\n      <td>28.49715</td>\n    </tr>\n    <tr>\n      <th>80</th>\n      <td>37.99620</td>\n    </tr>\n    <tr>\n      <th>100</th>\n      <td>47.49525</td>\n    </tr>\n    <tr>\n      <th>120</th>\n      <td>56.99430</td>\n    </tr>\n    <tr>\n      <th>140</th>\n      <td>66.49335</td>\n    </tr>\n    <tr>\n      <th>160</th>\n      <td>75.99240</td>\n    </tr>\n    <tr>\n      <th>180</th>\n      <td>85.49145</td>\n    </tr>\n    <tr>\n      <th>200</th>\n      <td>94.99050</td>\n    </tr>\n    <tr>\n      <th>220</th>\n      <td>104.48955</td>\n    </tr>\n    <tr>\n      <th>240</th>\n      <td>113.98860</td>\n    </tr>\n    <tr>\n      <th>260</th>\n      <td>123.48765</td>\n    </tr>\n    <tr>\n      <th>280</th>\n      <td>132.98670</td>\n    </tr>\n    <tr>\n      <th>300</th>\n      <td>142.48575</td>\n    </tr>\n  </tbody>\n</table>\n</div>"
     },
     "execution_count": 167,
     "metadata": {},
     "output_type": "execute_result"
    }
   ],
   "source": [
    "Pipeline_emissions_sensi_EF = pd.DataFrame(sensitivity, EF_sensi, columns=['Pipeline transport emission [g CO2eq/kg H2]'])\n",
    "Pipeline_emissions_sensi_EF.index.name = 'Electricity emission factor [g CO2eq/kWh]'\n",
    "Pipeline_emissions_sensi_EF"
   ],
   "metadata": {
    "collapsed": false,
    "pycharm": {
     "name": "#%%\n"
    }
   }
  },
  {
   "cell_type": "code",
   "execution_count": 73,
   "outputs": [],
   "source": [
    "# Create csv file from results dataframe\n",
    "output_file = os.path.join(path_csv, 'pipe_EF_sensi.csv')\n",
    "Pipeline_emissions_sensi_EF.to_csv(output_file, sep=';')"
   ],
   "metadata": {
    "collapsed": false,
    "pycharm": {
     "name": "#%%\n"
    }
   }
  },
  {
   "cell_type": "markdown",
   "source": [
    "Plot emission breakdown for pipeline transport"
   ],
   "metadata": {
    "collapsed": false,
    "pycharm": {
     "name": "#%% md\n"
    }
   }
  },
  {
   "cell_type": "markdown",
   "source": [
    "# LH2 transport"
   ],
   "metadata": {
    "collapsed": false,
    "pycharm": {
     "name": "#%% md\n"
    }
   }
  },
  {
   "cell_type": "markdown",
   "source": [
    "Liquefaction energy use"
   ],
   "metadata": {
    "collapsed": false,
    "pycharm": {
     "name": "#%% md\n"
    }
   }
  },
  {
   "cell_type": "markdown",
   "source": [
    "Electricity use for liquefaction in [kWh/kg H2]\n",
    "Emission factor for grid electricity in year y and country n [g CO2eq/kWh]\n"
   ],
   "metadata": {
    "collapsed": false,
    "pycharm": {
     "name": "#%% md\n"
    }
   }
  },
  {
   "cell_type": "markdown",
   "source": [
    "## Liquefaction"
   ],
   "metadata": {
    "collapsed": false,
    "pycharm": {
     "name": "#%% md\n"
    }
   }
  },
  {
   "cell_type": "code",
   "execution_count": 93,
   "outputs": [],
   "source": [
    "def Conversion_emissions():\n",
    "    result = el_liq_y * EF_y_n\n",
    "    return result"
   ],
   "metadata": {
    "collapsed": false,
    "pycharm": {
     "name": "#%%\n"
    }
   }
  },
  {
   "cell_type": "code",
   "execution_count": 94,
   "outputs": [
    {
     "data": {
      "text/plain": "     LH2_Conversion_emissions\n2025                183.78116\n2026               174.354267\n2027               165.100346\n2028               156.019394\n2029               147.111413\n2030               138.376403\n2031               129.814363\n2032               121.425293\n2033               113.209195\n2034               105.166066\n2035                97.295908\n2036                89.598721\n2037                82.074504\n2038                74.723257\n2039                67.544982\n2040                60.539676\n2041                53.318158\n2042                46.356095\n2043                39.653488\n2044                33.210337\n2045                27.026641\n2046                21.102401\n2047                15.437617\n2048                10.032289\n2049                 4.886417\n2050                      0.0",
      "text/html": "<div>\n<style scoped>\n    .dataframe tbody tr th:only-of-type {\n        vertical-align: middle;\n    }\n\n    .dataframe tbody tr th {\n        vertical-align: top;\n    }\n\n    .dataframe thead th {\n        text-align: right;\n    }\n</style>\n<table border=\"1\" class=\"dataframe\">\n  <thead>\n    <tr style=\"text-align: right;\">\n      <th></th>\n      <th>LH2_Conversion_emissions</th>\n    </tr>\n  </thead>\n  <tbody>\n    <tr>\n      <th>2025</th>\n      <td>183.78116</td>\n    </tr>\n    <tr>\n      <th>2026</th>\n      <td>174.354267</td>\n    </tr>\n    <tr>\n      <th>2027</th>\n      <td>165.100346</td>\n    </tr>\n    <tr>\n      <th>2028</th>\n      <td>156.019394</td>\n    </tr>\n    <tr>\n      <th>2029</th>\n      <td>147.111413</td>\n    </tr>\n    <tr>\n      <th>2030</th>\n      <td>138.376403</td>\n    </tr>\n    <tr>\n      <th>2031</th>\n      <td>129.814363</td>\n    </tr>\n    <tr>\n      <th>2032</th>\n      <td>121.425293</td>\n    </tr>\n    <tr>\n      <th>2033</th>\n      <td>113.209195</td>\n    </tr>\n    <tr>\n      <th>2034</th>\n      <td>105.166066</td>\n    </tr>\n    <tr>\n      <th>2035</th>\n      <td>97.295908</td>\n    </tr>\n    <tr>\n      <th>2036</th>\n      <td>89.598721</td>\n    </tr>\n    <tr>\n      <th>2037</th>\n      <td>82.074504</td>\n    </tr>\n    <tr>\n      <th>2038</th>\n      <td>74.723257</td>\n    </tr>\n    <tr>\n      <th>2039</th>\n      <td>67.544982</td>\n    </tr>\n    <tr>\n      <th>2040</th>\n      <td>60.539676</td>\n    </tr>\n    <tr>\n      <th>2041</th>\n      <td>53.318158</td>\n    </tr>\n    <tr>\n      <th>2042</th>\n      <td>46.356095</td>\n    </tr>\n    <tr>\n      <th>2043</th>\n      <td>39.653488</td>\n    </tr>\n    <tr>\n      <th>2044</th>\n      <td>33.210337</td>\n    </tr>\n    <tr>\n      <th>2045</th>\n      <td>27.026641</td>\n    </tr>\n    <tr>\n      <th>2046</th>\n      <td>21.102401</td>\n    </tr>\n    <tr>\n      <th>2047</th>\n      <td>15.437617</td>\n    </tr>\n    <tr>\n      <th>2048</th>\n      <td>10.032289</td>\n    </tr>\n    <tr>\n      <th>2049</th>\n      <td>4.886417</td>\n    </tr>\n    <tr>\n      <th>2050</th>\n      <td>0.0</td>\n    </tr>\n  </tbody>\n</table>\n</div>"
     },
     "execution_count": 94,
     "metadata": {},
     "output_type": "execute_result"
    }
   ],
   "source": [
    "# Calc. liquefaction emissions over time [g CO2eq/kg H2]\n",
    "years = np.arange(2025, 2051)\n",
    "result = pd.DataFrame(index=years, columns=['LH2_Conversion_emissions'])\n",
    "for year in years:\n",
    "    el_liq_y = float(tea_lh2.loc['Liquefaction - Electricity consumption opt. [kWh/kgH2]'][year])\n",
    "    EF_y_n = float(GHG.loc['GHG intensity of electricity generation [g CO2eq/kWh] - Norway'][year])\n",
    "\n",
    "    result.LH2_Conversion_emissions.loc[year] = Conversion_emissions()\n",
    "\n",
    "result"
   ],
   "metadata": {
    "collapsed": false,
    "pycharm": {
     "name": "#%%\n"
    }
   }
  },
  {
   "cell_type": "code",
   "execution_count": 95,
   "outputs": [
    {
     "name": "stderr",
     "output_type": "stream",
     "text": [
      "C:\\Users\\REUTER\\AppData\\Local\\Temp\\ipykernel_18464\\986526507.py:4: FutureWarning: Setting the `book` attribute is not part of the public API, usage can give unexpected or corrupted results and will be removed in a future version\n",
      "  writer.book = book\n"
     ]
    },
    {
     "ename": "AttributeError",
     "evalue": "can't set attribute 'sheets'",
     "output_type": "error",
     "traceback": [
      "\u001B[1;31m---------------------------------------------------------------------------\u001B[0m",
      "\u001B[1;31mAttributeError\u001B[0m                            Traceback (most recent call last)",
      "Cell \u001B[1;32mIn [95], line 5\u001B[0m\n\u001B[0;32m      3\u001B[0m book \u001B[38;5;241m=\u001B[39m load_workbook(path)\n\u001B[0;32m      4\u001B[0m writer\u001B[38;5;241m.\u001B[39mbook \u001B[38;5;241m=\u001B[39m book\n\u001B[1;32m----> 5\u001B[0m writer\u001B[38;5;241m.\u001B[39msheets \u001B[38;5;241m=\u001B[39m \u001B[38;5;28mdict\u001B[39m((ws\u001B[38;5;241m.\u001B[39mtitle, ws) \u001B[38;5;28;01mfor\u001B[39;00m ws \u001B[38;5;129;01min\u001B[39;00m book\u001B[38;5;241m.\u001B[39mworksheets)\n\u001B[0;32m      7\u001B[0m ws \u001B[38;5;241m=\u001B[39m book[\u001B[38;5;124m'\u001B[39m\u001B[38;5;124mReference Results\u001B[39m\u001B[38;5;124m'\u001B[39m]\n\u001B[0;32m      9\u001B[0m result\u001B[38;5;241m.\u001B[39mto_excel(writer, sheet_name\u001B[38;5;241m=\u001B[39m\u001B[38;5;124m'\u001B[39m\u001B[38;5;124mReference Results\u001B[39m\u001B[38;5;124m'\u001B[39m, index\u001B[38;5;241m=\u001B[39m\u001B[38;5;28;01mFalse\u001B[39;00m, startcol\u001B[38;5;241m=\u001B[39mws\u001B[38;5;241m.\u001B[39mmax_column)\n",
      "\u001B[1;31mAttributeError\u001B[0m: can't set attribute 'sheets'"
     ]
    }
   ],
   "source": [
    "# export result to excel\n",
    "writer = pd.ExcelWriter(path, engine='openpyxl', mode='a', if_sheet_exists='overlay')\n",
    "book = load_workbook(path)\n",
    "writer.book = book\n",
    "writer.sheets = dict((ws.title, ws) for ws in book.worksheets)\n",
    "\n",
    "ws = book['Reference Results']\n",
    "\n",
    "result.to_excel(writer, sheet_name='Reference Results', index=False, startcol=ws.max_column)\n",
    "book.save(path)\n",
    "book.close()"
   ],
   "metadata": {
    "collapsed": false,
    "pycharm": {
     "name": "#%%\n"
    }
   }
  },
  {
   "cell_type": "code",
   "execution_count": 96,
   "outputs": [],
   "source": [
    "LH2_Conversion_emissions = result"
   ],
   "metadata": {
    "collapsed": false,
    "pycharm": {
     "name": "#%%\n"
    }
   }
  },
  {
   "cell_type": "code",
   "execution_count": 97,
   "outputs": [],
   "source": [
    "output_file = os.path.join(path_csv,'LH2_Conversion_emissions.csv')\n",
    "result.to_csv(output_file, sep = ';')"
   ],
   "metadata": {
    "collapsed": false,
    "pycharm": {
     "name": "#%%\n"
    }
   }
  },
  {
   "cell_type": "markdown",
   "source": [
    "## Export terminal"
   ],
   "metadata": {
    "collapsed": false,
    "pycharm": {
     "name": "#%% md\n"
    }
   }
  },
  {
   "cell_type": "code",
   "execution_count": 78,
   "outputs": [
    {
     "data": {
      "text/plain": "0.61"
     },
     "execution_count": 78,
     "metadata": {},
     "output_type": "execute_result"
    }
   ],
   "source": [
    "# Electricity consumption for the export terminal [kWh/kg_h2]\n",
    "el_et = float(tea_lh2.loc['Export Terminal - Electricity use [kWh/kgH2]']['LH2'])\n",
    "el_et"
   ],
   "metadata": {
    "collapsed": false,
    "pycharm": {
     "name": "#%%\n"
    }
   }
  },
  {
   "cell_type": "code",
   "execution_count": 79,
   "outputs": [
    {
     "data": {
      "text/plain": "0.1"
     },
     "execution_count": 79,
     "metadata": {},
     "output_type": "execute_result"
    }
   ],
   "source": [
    "el_reliq = float(tea_lh2.loc['Export Terminal - Energy use to reliquefy opt. [kWh/kg H2/day]']['LH2'])\n",
    "el_reliq"
   ],
   "metadata": {
    "collapsed": false,
    "pycharm": {
     "name": "#%%\n"
    }
   }
  },
  {
   "cell_type": "code",
   "execution_count": 80,
   "outputs": [
    {
     "data": {
      "text/plain": "7.0"
     },
     "execution_count": 80,
     "metadata": {},
     "output_type": "execute_result"
    }
   ],
   "source": [
    "# Average storage time in the export terminal tanks in days\n",
    "t_et = float(tea_lh2.loc['Export Terminal - Storage length per load [Days]']['LH2'])\n",
    "t_et"
   ],
   "metadata": {
    "collapsed": false,
    "pycharm": {
     "name": "#%%\n"
    }
   }
  },
  {
   "cell_type": "code",
   "execution_count": 81,
   "outputs": [],
   "source": [
    "def ET_emissions():\n",
    "    result = (el_et + el_reliq * t_et) * EF_y_n\n",
    "    return result"
   ],
   "metadata": {
    "collapsed": false,
    "pycharm": {
     "name": "#%%\n"
    }
   }
  },
  {
   "cell_type": "code",
   "execution_count": 82,
   "outputs": [
    {
     "data": {
      "text/plain": "      LH2_Export_terminal_emissions\nYears                              \n2025                       28.32392\n2026                      27.190963\n2027                      26.058006\n2028                       24.92505\n2029                      23.792093\n2030                      22.659136\n2031                      21.526179\n2032                      20.393222\n2033                      19.260266\n2034                      18.127309\n2035                      16.994352\n2036                      15.861395\n2037                      14.728438\n2038                      13.595482\n2039                      12.462525\n2040                      11.329568\n2041                      10.196611\n2042                       9.063654\n2043                       7.930698\n2044                       6.797741\n2045                       5.664784\n2046                       4.531827\n2047                        3.39887\n2048                       2.265914\n2049                       1.132957\n2050                            0.0",
      "text/html": "<div>\n<style scoped>\n    .dataframe tbody tr th:only-of-type {\n        vertical-align: middle;\n    }\n\n    .dataframe tbody tr th {\n        vertical-align: top;\n    }\n\n    .dataframe thead th {\n        text-align: right;\n    }\n</style>\n<table border=\"1\" class=\"dataframe\">\n  <thead>\n    <tr style=\"text-align: right;\">\n      <th></th>\n      <th>LH2_Export_terminal_emissions</th>\n    </tr>\n    <tr>\n      <th>Years</th>\n      <th></th>\n    </tr>\n  </thead>\n  <tbody>\n    <tr>\n      <th>2025</th>\n      <td>28.32392</td>\n    </tr>\n    <tr>\n      <th>2026</th>\n      <td>27.190963</td>\n    </tr>\n    <tr>\n      <th>2027</th>\n      <td>26.058006</td>\n    </tr>\n    <tr>\n      <th>2028</th>\n      <td>24.92505</td>\n    </tr>\n    <tr>\n      <th>2029</th>\n      <td>23.792093</td>\n    </tr>\n    <tr>\n      <th>2030</th>\n      <td>22.659136</td>\n    </tr>\n    <tr>\n      <th>2031</th>\n      <td>21.526179</td>\n    </tr>\n    <tr>\n      <th>2032</th>\n      <td>20.393222</td>\n    </tr>\n    <tr>\n      <th>2033</th>\n      <td>19.260266</td>\n    </tr>\n    <tr>\n      <th>2034</th>\n      <td>18.127309</td>\n    </tr>\n    <tr>\n      <th>2035</th>\n      <td>16.994352</td>\n    </tr>\n    <tr>\n      <th>2036</th>\n      <td>15.861395</td>\n    </tr>\n    <tr>\n      <th>2037</th>\n      <td>14.728438</td>\n    </tr>\n    <tr>\n      <th>2038</th>\n      <td>13.595482</td>\n    </tr>\n    <tr>\n      <th>2039</th>\n      <td>12.462525</td>\n    </tr>\n    <tr>\n      <th>2040</th>\n      <td>11.329568</td>\n    </tr>\n    <tr>\n      <th>2041</th>\n      <td>10.196611</td>\n    </tr>\n    <tr>\n      <th>2042</th>\n      <td>9.063654</td>\n    </tr>\n    <tr>\n      <th>2043</th>\n      <td>7.930698</td>\n    </tr>\n    <tr>\n      <th>2044</th>\n      <td>6.797741</td>\n    </tr>\n    <tr>\n      <th>2045</th>\n      <td>5.664784</td>\n    </tr>\n    <tr>\n      <th>2046</th>\n      <td>4.531827</td>\n    </tr>\n    <tr>\n      <th>2047</th>\n      <td>3.39887</td>\n    </tr>\n    <tr>\n      <th>2048</th>\n      <td>2.265914</td>\n    </tr>\n    <tr>\n      <th>2049</th>\n      <td>1.132957</td>\n    </tr>\n    <tr>\n      <th>2050</th>\n      <td>0.0</td>\n    </tr>\n  </tbody>\n</table>\n</div>"
     },
     "execution_count": 82,
     "metadata": {},
     "output_type": "execute_result"
    }
   ],
   "source": [
    "# Calc. liquefaction emissions over time [g CO2eq/kg H2]\n",
    "years = np.arange(2025, 2051)\n",
    "result = pd.DataFrame(index=years, columns=['LH2_Export_terminal_emissions'])\n",
    "result.index.name = 'Years'\n",
    "\n",
    "for year in years:\n",
    "    EF_y_n = float(GHG.loc['GHG intensity of electricity generation [g CO2eq/kWh] - Norway'][year])\n",
    "\n",
    "    result.LH2_Export_terminal_emissions.loc[year] = ET_emissions()\n",
    "\n",
    "result"
   ],
   "metadata": {
    "collapsed": false,
    "pycharm": {
     "name": "#%%\n"
    }
   }
  },
  {
   "cell_type": "code",
   "execution_count": 83,
   "outputs": [],
   "source": [
    "LH2_Export_terminal_emissions = result"
   ],
   "metadata": {
    "collapsed": false,
    "pycharm": {
     "name": "#%%\n"
    }
   }
  },
  {
   "cell_type": "code",
   "execution_count": 84,
   "outputs": [
    {
     "name": "stderr",
     "output_type": "stream",
     "text": [
      "C:\\Users\\REUTER\\AppData\\Local\\Temp\\ipykernel_18464\\986526507.py:4: FutureWarning: Setting the `book` attribute is not part of the public API, usage can give unexpected or corrupted results and will be removed in a future version\n",
      "  writer.book = book\n"
     ]
    },
    {
     "ename": "AttributeError",
     "evalue": "can't set attribute 'sheets'",
     "output_type": "error",
     "traceback": [
      "\u001B[1;31m---------------------------------------------------------------------------\u001B[0m",
      "\u001B[1;31mAttributeError\u001B[0m                            Traceback (most recent call last)",
      "Cell \u001B[1;32mIn [84], line 5\u001B[0m\n\u001B[0;32m      3\u001B[0m book \u001B[38;5;241m=\u001B[39m load_workbook(path)\n\u001B[0;32m      4\u001B[0m writer\u001B[38;5;241m.\u001B[39mbook \u001B[38;5;241m=\u001B[39m book\n\u001B[1;32m----> 5\u001B[0m writer\u001B[38;5;241m.\u001B[39msheets \u001B[38;5;241m=\u001B[39m \u001B[38;5;28mdict\u001B[39m((ws\u001B[38;5;241m.\u001B[39mtitle, ws) \u001B[38;5;28;01mfor\u001B[39;00m ws \u001B[38;5;129;01min\u001B[39;00m book\u001B[38;5;241m.\u001B[39mworksheets)\n\u001B[0;32m      7\u001B[0m ws \u001B[38;5;241m=\u001B[39m book[\u001B[38;5;124m'\u001B[39m\u001B[38;5;124mReference Results\u001B[39m\u001B[38;5;124m'\u001B[39m]\n\u001B[0;32m      9\u001B[0m result\u001B[38;5;241m.\u001B[39mto_excel(writer, sheet_name\u001B[38;5;241m=\u001B[39m\u001B[38;5;124m'\u001B[39m\u001B[38;5;124mReference Results\u001B[39m\u001B[38;5;124m'\u001B[39m, index\u001B[38;5;241m=\u001B[39m\u001B[38;5;28;01mFalse\u001B[39;00m, startcol\u001B[38;5;241m=\u001B[39mws\u001B[38;5;241m.\u001B[39mmax_column)\n",
      "\u001B[1;31mAttributeError\u001B[0m: can't set attribute 'sheets'"
     ]
    }
   ],
   "source": [
    "# export result to excel\n",
    "writer = pd.ExcelWriter(path, engine='openpyxl', mode='a', if_sheet_exists='overlay')\n",
    "book = load_workbook(path)\n",
    "writer.book = book\n",
    "writer.sheets = dict((ws.title, ws) for ws in book.worksheets)\n",
    "\n",
    "ws = book['Reference Results']\n",
    "\n",
    "result.to_excel(writer, sheet_name='Reference Results', index=False, startcol=ws.max_column)\n",
    "book.save(path)\n",
    "book.close()"
   ],
   "metadata": {
    "collapsed": false,
    "pycharm": {
     "name": "#%%\n"
    }
   }
  },
  {
   "cell_type": "code",
   "execution_count": 85,
   "outputs": [],
   "source": [
    "output_file = os.path.join(path_csv,'LH2_Export_terminal_emissions.csv')\n",
    "result.to_csv(output_file, sep = ';')"
   ],
   "metadata": {
    "collapsed": false,
    "pycharm": {
     "name": "#%%\n"
    }
   }
  },
  {
   "cell_type": "code",
   "execution_count": 85,
   "outputs": [],
   "source": [],
   "metadata": {
    "collapsed": false,
    "pycharm": {
     "name": "#%%\n"
    }
   }
  },
  {
   "cell_type": "markdown",
   "source": [
    "## Shipping"
   ],
   "metadata": {
    "collapsed": false,
    "pycharm": {
     "name": "#%% md\n"
    }
   }
  },
  {
   "cell_type": "markdown",
   "source": [
    "Calc. emission factor for cargo/fuel"
   ],
   "metadata": {
    "collapsed": false,
    "pycharm": {
     "name": "#%% md\n"
    }
   }
  },
  {
   "cell_type": "markdown",
   "source": [
    "Cost of transported hydrogen in [$/kg_h2] in year y\n"
   ],
   "metadata": {
    "collapsed": false,
    "pycharm": {
     "name": "#%% md\n"
    }
   }
  },
  {
   "cell_type": "code",
   "execution_count": 87,
   "outputs": [
    {
     "data": {
      "text/plain": "       Minimal_production_costs Technology  Emissions\nYears                                                \n2025                   2.491992      Green    0.00000\n2026                   2.373447       Blue    4.64568\n2027                   2.155720       Blue    4.53996\n2028                   1.821652       Blue    4.43424\n2029                   1.831196       Blue    4.32852\n2030                   1.839387       Blue    4.22280\n2031                   1.856517       Blue    4.11708\n2032                   1.872223       Blue    4.01136\n2033                   1.886502       Blue    3.90564\n2034                   1.899351       Blue    3.79992\n2035                   1.910768       Blue    3.69420\n2036                   1.920750       Blue    3.58848\n2037                   1.929296       Blue    3.48276\n2038                   1.908208      Green    0.00000\n2039                   1.871112      Green    0.00000\n2040                   1.834076      Green    0.00000\n2041                   1.801782      Green    0.00000\n2042                   1.770822      Green    0.00000\n2043                   1.740567      Green    0.00000\n2044                   1.714207      Green    0.00000\n2045                   1.659565      Green    0.00000\n2046                   1.627420      Green    0.00000\n2047                   1.596338      Green    0.00000\n2048                   1.566225      Green    0.00000\n2049                   1.536996      Green    0.00000\n2050                   1.508580      Green    0.00000",
      "text/html": "<div>\n<style scoped>\n    .dataframe tbody tr th:only-of-type {\n        vertical-align: middle;\n    }\n\n    .dataframe tbody tr th {\n        vertical-align: top;\n    }\n\n    .dataframe thead th {\n        text-align: right;\n    }\n</style>\n<table border=\"1\" class=\"dataframe\">\n  <thead>\n    <tr style=\"text-align: right;\">\n      <th></th>\n      <th>Minimal_production_costs</th>\n      <th>Technology</th>\n      <th>Emissions</th>\n    </tr>\n    <tr>\n      <th>Years</th>\n      <th></th>\n      <th></th>\n      <th></th>\n    </tr>\n  </thead>\n  <tbody>\n    <tr>\n      <th>2025</th>\n      <td>2.491992</td>\n      <td>Green</td>\n      <td>0.00000</td>\n    </tr>\n    <tr>\n      <th>2026</th>\n      <td>2.373447</td>\n      <td>Blue</td>\n      <td>4.64568</td>\n    </tr>\n    <tr>\n      <th>2027</th>\n      <td>2.155720</td>\n      <td>Blue</td>\n      <td>4.53996</td>\n    </tr>\n    <tr>\n      <th>2028</th>\n      <td>1.821652</td>\n      <td>Blue</td>\n      <td>4.43424</td>\n    </tr>\n    <tr>\n      <th>2029</th>\n      <td>1.831196</td>\n      <td>Blue</td>\n      <td>4.32852</td>\n    </tr>\n    <tr>\n      <th>2030</th>\n      <td>1.839387</td>\n      <td>Blue</td>\n      <td>4.22280</td>\n    </tr>\n    <tr>\n      <th>2031</th>\n      <td>1.856517</td>\n      <td>Blue</td>\n      <td>4.11708</td>\n    </tr>\n    <tr>\n      <th>2032</th>\n      <td>1.872223</td>\n      <td>Blue</td>\n      <td>4.01136</td>\n    </tr>\n    <tr>\n      <th>2033</th>\n      <td>1.886502</td>\n      <td>Blue</td>\n      <td>3.90564</td>\n    </tr>\n    <tr>\n      <th>2034</th>\n      <td>1.899351</td>\n      <td>Blue</td>\n      <td>3.79992</td>\n    </tr>\n    <tr>\n      <th>2035</th>\n      <td>1.910768</td>\n      <td>Blue</td>\n      <td>3.69420</td>\n    </tr>\n    <tr>\n      <th>2036</th>\n      <td>1.920750</td>\n      <td>Blue</td>\n      <td>3.58848</td>\n    </tr>\n    <tr>\n      <th>2037</th>\n      <td>1.929296</td>\n      <td>Blue</td>\n      <td>3.48276</td>\n    </tr>\n    <tr>\n      <th>2038</th>\n      <td>1.908208</td>\n      <td>Green</td>\n      <td>0.00000</td>\n    </tr>\n    <tr>\n      <th>2039</th>\n      <td>1.871112</td>\n      <td>Green</td>\n      <td>0.00000</td>\n    </tr>\n    <tr>\n      <th>2040</th>\n      <td>1.834076</td>\n      <td>Green</td>\n      <td>0.00000</td>\n    </tr>\n    <tr>\n      <th>2041</th>\n      <td>1.801782</td>\n      <td>Green</td>\n      <td>0.00000</td>\n    </tr>\n    <tr>\n      <th>2042</th>\n      <td>1.770822</td>\n      <td>Green</td>\n      <td>0.00000</td>\n    </tr>\n    <tr>\n      <th>2043</th>\n      <td>1.740567</td>\n      <td>Green</td>\n      <td>0.00000</td>\n    </tr>\n    <tr>\n      <th>2044</th>\n      <td>1.714207</td>\n      <td>Green</td>\n      <td>0.00000</td>\n    </tr>\n    <tr>\n      <th>2045</th>\n      <td>1.659565</td>\n      <td>Green</td>\n      <td>0.00000</td>\n    </tr>\n    <tr>\n      <th>2046</th>\n      <td>1.627420</td>\n      <td>Green</td>\n      <td>0.00000</td>\n    </tr>\n    <tr>\n      <th>2047</th>\n      <td>1.596338</td>\n      <td>Green</td>\n      <td>0.00000</td>\n    </tr>\n    <tr>\n      <th>2048</th>\n      <td>1.566225</td>\n      <td>Green</td>\n      <td>0.00000</td>\n    </tr>\n    <tr>\n      <th>2049</th>\n      <td>1.536996</td>\n      <td>Green</td>\n      <td>0.00000</td>\n    </tr>\n    <tr>\n      <th>2050</th>\n      <td>1.508580</td>\n      <td>Green</td>\n      <td>0.00000</td>\n    </tr>\n  </tbody>\n</table>\n</div>"
     },
     "execution_count": 87,
     "metadata": {},
     "output_type": "execute_result"
    }
   ],
   "source": [
    "%store -r min_prod_cost\n",
    "min_prod_cost"
   ],
   "metadata": {
    "collapsed": false,
    "pycharm": {
     "name": "#%%\n"
    }
   }
  },
  {
   "cell_type": "code",
   "execution_count": 88,
   "outputs": [],
   "source": [
    "# Emissions of transported hydrogen carrier in [g CO2eq/kg_H2] in year y\n",
    "H2_emissions = (min_prod_cost.loc[::]['Emissions']).apply(pd.to_numeric) * 1000\n",
    "Con_emissions = (LH2_Conversion_emissions.loc[::]['LH2_Conversion_emissions']).apply(pd.to_numeric)\n",
    "ET_emissions = (LH2_Export_terminal_emissions.loc[::]['LH2_Export_terminal_emissions']).apply(pd.to_numeric)"
   ],
   "metadata": {
    "collapsed": false,
    "pycharm": {
     "name": "#%%\n"
    }
   }
  },
  {
   "cell_type": "code",
   "execution_count": 89,
   "outputs": [
    {
     "data": {
      "text/plain": "       LH2_cargo_emissions\nYears                     \n2025            212.105080\n2026           4847.225231\n2027           4731.118352\n2028           4615.184444\n2029           4499.423506\n2030           4383.835539\n2031           4268.420542\n2032           4153.178516\n2033           4038.109460\n2034           3923.213375\n2035           3808.490260\n2036           3693.940116\n2037           3579.562942\n2038             88.318739\n2039             80.007506\n2040             71.869244\n2041             63.514769\n2042             55.419749\n2043             47.584185\n2044             40.008077\n2045             32.691425\n2046             25.634229\n2047             18.836488\n2048             12.298203\n2049              6.019374\n2050              0.000000",
      "text/html": "<div>\n<style scoped>\n    .dataframe tbody tr th:only-of-type {\n        vertical-align: middle;\n    }\n\n    .dataframe tbody tr th {\n        vertical-align: top;\n    }\n\n    .dataframe thead th {\n        text-align: right;\n    }\n</style>\n<table border=\"1\" class=\"dataframe\">\n  <thead>\n    <tr style=\"text-align: right;\">\n      <th></th>\n      <th>LH2_cargo_emissions</th>\n    </tr>\n    <tr>\n      <th>Years</th>\n      <th></th>\n    </tr>\n  </thead>\n  <tbody>\n    <tr>\n      <th>2025</th>\n      <td>212.105080</td>\n    </tr>\n    <tr>\n      <th>2026</th>\n      <td>4847.225231</td>\n    </tr>\n    <tr>\n      <th>2027</th>\n      <td>4731.118352</td>\n    </tr>\n    <tr>\n      <th>2028</th>\n      <td>4615.184444</td>\n    </tr>\n    <tr>\n      <th>2029</th>\n      <td>4499.423506</td>\n    </tr>\n    <tr>\n      <th>2030</th>\n      <td>4383.835539</td>\n    </tr>\n    <tr>\n      <th>2031</th>\n      <td>4268.420542</td>\n    </tr>\n    <tr>\n      <th>2032</th>\n      <td>4153.178516</td>\n    </tr>\n    <tr>\n      <th>2033</th>\n      <td>4038.109460</td>\n    </tr>\n    <tr>\n      <th>2034</th>\n      <td>3923.213375</td>\n    </tr>\n    <tr>\n      <th>2035</th>\n      <td>3808.490260</td>\n    </tr>\n    <tr>\n      <th>2036</th>\n      <td>3693.940116</td>\n    </tr>\n    <tr>\n      <th>2037</th>\n      <td>3579.562942</td>\n    </tr>\n    <tr>\n      <th>2038</th>\n      <td>88.318739</td>\n    </tr>\n    <tr>\n      <th>2039</th>\n      <td>80.007506</td>\n    </tr>\n    <tr>\n      <th>2040</th>\n      <td>71.869244</td>\n    </tr>\n    <tr>\n      <th>2041</th>\n      <td>63.514769</td>\n    </tr>\n    <tr>\n      <th>2042</th>\n      <td>55.419749</td>\n    </tr>\n    <tr>\n      <th>2043</th>\n      <td>47.584185</td>\n    </tr>\n    <tr>\n      <th>2044</th>\n      <td>40.008077</td>\n    </tr>\n    <tr>\n      <th>2045</th>\n      <td>32.691425</td>\n    </tr>\n    <tr>\n      <th>2046</th>\n      <td>25.634229</td>\n    </tr>\n    <tr>\n      <th>2047</th>\n      <td>18.836488</td>\n    </tr>\n    <tr>\n      <th>2048</th>\n      <td>12.298203</td>\n    </tr>\n    <tr>\n      <th>2049</th>\n      <td>6.019374</td>\n    </tr>\n    <tr>\n      <th>2050</th>\n      <td>0.000000</td>\n    </tr>\n  </tbody>\n</table>\n</div>"
     },
     "execution_count": 89,
     "metadata": {},
     "output_type": "execute_result"
    }
   ],
   "source": [
    "# Emission of cargo in [g CO2eq/kg_H2]\n",
    "LH2_cargo_emissions = (H2_emissions + Con_emissions + ET_emissions).to_frame('LH2_cargo_emissions')\n",
    "LH2_cargo_emissions"
   ],
   "metadata": {
    "collapsed": false,
    "pycharm": {
     "name": "#%%\n"
    }
   }
  },
  {
   "cell_type": "code",
   "execution_count": 98,
   "outputs": [],
   "source": [
    "output_file = os.path.join(path_csv,'LH2_cargo_emissions.csv')\n",
    "result.to_csv(output_file, sep = ';')"
   ],
   "metadata": {
    "collapsed": false,
    "pycharm": {
     "name": "#%%\n"
    }
   }
  },
  {
   "cell_type": "code",
   "execution_count": 99,
   "outputs": [
    {
     "data": {
      "text/plain": "8.333333333333333e-05"
     },
     "execution_count": 99,
     "metadata": {},
     "output_type": "execute_result"
    }
   ],
   "source": [
    "# Boil-off when shipping in [%/day] to [%/hour]\n",
    "bog_ship = float(tea_lh2.loc['Shipping - Boil off opt. [%/day]']['LH2']) / 24\n",
    "bog_ship"
   ],
   "metadata": {
    "collapsed": false,
    "pycharm": {
     "name": "#%%\n"
    }
   }
  },
  {
   "cell_type": "code",
   "execution_count": 100,
   "outputs": [
    {
     "data": {
      "text/plain": "1.1265151515151516e-06"
     },
     "execution_count": 100,
     "metadata": {},
     "output_type": "execute_result"
    }
   ],
   "source": [
    "# Fuel consumption of a ship in [kg_h2/t/km]\n",
    "f_ship = float(tea_lh2.loc['Shipping - Fuel use [kg H2/t/km]']['LH2']) / 1000\n",
    "f_ship"
   ],
   "metadata": {
    "collapsed": false,
    "pycharm": {
     "name": "#%%\n"
    }
   }
  },
  {
   "cell_type": "code",
   "execution_count": 101,
   "outputs": [
    {
     "data": {
      "text/plain": "602.403"
     },
     "execution_count": 101,
     "metadata": {},
     "output_type": "execute_result"
    }
   ],
   "source": [
    "# Distance between countries via ship in [km]\n",
    "d_sea = float(tra_d[(tra_d['Origin_Country'] == 'Norway') & (tra_d['Destination_Country'] == 'Germany')][\n",
    "                  'sea distance (km)'].values)\n",
    "d_sea"
   ],
   "metadata": {
    "collapsed": false,
    "pycharm": {
     "name": "#%%\n"
    }
   }
  },
  {
   "cell_type": "code",
   "execution_count": 102,
   "outputs": [
    {
     "data": {
      "text/plain": "30.0"
     },
     "execution_count": 102,
     "metadata": {},
     "output_type": "execute_result"
    }
   ],
   "source": [
    "# Ship speed in [km/h]\n",
    "v_ship = float(tea_lh2.loc['Shipping - Ship speed [km/h]']['LH2'])\n",
    "v_ship"
   ],
   "metadata": {
    "collapsed": false,
    "pycharm": {
     "name": "#%%\n"
    }
   }
  },
  {
   "cell_type": "code",
   "execution_count": null,
   "outputs": [],
   "source": [
    "#d_sea = 10000"
   ],
   "metadata": {
    "collapsed": false,
    "pycharm": {
     "name": "#%%\n"
    }
   }
  },
  {
   "cell_type": "markdown",
   "source": [
    "Calc. LH2 shipping emissions"
   ],
   "metadata": {
    "collapsed": false,
    "pycharm": {
     "name": "#%% md\n"
    }
   }
  },
  {
   "cell_type": "code",
   "execution_count": null,
   "outputs": [],
   "source": [
    "def calculate_ship_emissions():\n",
    "    result = 1/(1-(bog_ship * d_sea/v_ship) - (f_ship  * d_sea)) \\\n",
    "             + (bog_ship * d_sea/v_ship + f_ship * d_sea) * LH2_cargo_ghg\n",
    "\n",
    "    return result"
   ],
   "metadata": {
    "collapsed": false,
    "pycharm": {
     "name": "#%%\n"
    }
   }
  },
  {
   "cell_type": "code",
   "execution_count": null,
   "outputs": [],
   "source": [
    "# Calculation of shipping emissions [g CO2eq/kg_h2] from 2025 to 2050.\n",
    "years = np.arange(2025, 2051)\n",
    "result = pd.DataFrame(index=years, columns=['LH2_Shipping_emissions'])\n",
    "result.index.name = 'Years'\n",
    "\n",
    "for year in years:\n",
    "\n",
    "    LH2_cargo_ghg = float(LH2_cargo_emissions.loc[year]['LH2_cargo_emissions'])\n",
    "\n",
    "    # calculate emissions of specific year\n",
    "    result.LH2_Shipping_emissions.loc[year] = calculate_ship_emissions()\n",
    "\n",
    "result"
   ],
   "metadata": {
    "collapsed": false,
    "pycharm": {
     "name": "#%%\n"
    }
   }
  },
  {
   "cell_type": "code",
   "execution_count": null,
   "outputs": [],
   "source": [
    "LH2_Shipping_emissions = result"
   ],
   "metadata": {
    "collapsed": false,
    "pycharm": {
     "name": "#%%\n"
    }
   }
  },
  {
   "cell_type": "code",
   "execution_count": null,
   "outputs": [],
   "source": [
    "# export result to excel\n",
    "writer = pd.ExcelWriter(path, engine='openpyxl', mode='a', if_sheet_exists='overlay')\n",
    "book = load_workbook(path)\n",
    "writer.book = book\n",
    "writer.sheets = dict((ws.title, ws) for ws in book.worksheets)\n",
    "\n",
    "ws = book['Reference Results']\n",
    "\n",
    "result.to_excel(writer, sheet_name='Reference Results', index=False, startcol=ws.max_column)\n",
    "book.save(path)\n",
    "book.close()"
   ],
   "metadata": {
    "collapsed": false,
    "pycharm": {
     "name": "#%%\n"
    }
   }
  },
  {
   "cell_type": "code",
   "execution_count": null,
   "outputs": [],
   "source": [
    "output_file = os.path.join(path_csv,'LH2_Shipping_emissions.csv')\n",
    "result.to_csv(output_file, sep = ';')"
   ],
   "metadata": {
    "collapsed": false,
    "pycharm": {
     "name": "#%%\n"
    }
   }
  },
  {
   "cell_type": "code",
   "execution_count": null,
   "outputs": [],
   "source": [],
   "metadata": {
    "collapsed": false,
    "pycharm": {
     "name": "#%%\n"
    }
   }
  },
  {
   "cell_type": "markdown",
   "source": [
    "## Import terminal\n"
   ],
   "metadata": {
    "collapsed": false,
    "pycharm": {
     "name": "#%% md\n"
    }
   }
  },
  {
   "cell_type": "code",
   "execution_count": 103,
   "outputs": [
    {
     "data": {
      "text/plain": "0.2"
     },
     "execution_count": 103,
     "metadata": {},
     "output_type": "execute_result"
    }
   ],
   "source": [
    "# Electricity consumption for the import terminal [kWh/kg_h2]\n",
    "el_it = float(tea_lh2.loc['Import Terminal - Electricity use [kWh/kg H2]']['LH2'])\n",
    "el_it"
   ],
   "metadata": {
    "collapsed": false,
    "pycharm": {
     "name": "#%%\n"
    }
   }
  },
  {
   "cell_type": "code",
   "execution_count": 104,
   "outputs": [
    {
     "data": {
      "text/plain": "0.1"
     },
     "execution_count": 104,
     "metadata": {},
     "output_type": "execute_result"
    }
   ],
   "source": [
    "# Electricity consumption to reliquefy BOG [kWh/kg_h2]\n",
    "el_reliq = float(tea_lh2.loc['Import Terminal - Energy use to reliquefy opt. [kWh/kg H2/day]']['LH2'])\n",
    "el_reliq"
   ],
   "metadata": {
    "collapsed": false,
    "pycharm": {
     "name": "#%%\n"
    }
   }
  },
  {
   "cell_type": "code",
   "execution_count": 105,
   "outputs": [
    {
     "data": {
      "text/plain": "7.0"
     },
     "execution_count": 105,
     "metadata": {},
     "output_type": "execute_result"
    }
   ],
   "source": [
    "# Average storage time in the import terminal tanks in days\n",
    "t_it = float(tea_lh2.loc['Import Terminal - Storage length per load [days]']['LH2'])\n",
    "t_it"
   ],
   "metadata": {
    "collapsed": false,
    "pycharm": {
     "name": "#%%\n"
    }
   }
  },
  {
   "cell_type": "markdown",
   "source": [],
   "metadata": {
    "collapsed": false,
    "pycharm": {
     "name": "#%% md\n"
    }
   }
  },
  {
   "cell_type": "code",
   "execution_count": null,
   "outputs": [],
   "source": [
    "def IT_emissions():\n",
    "    result = (el_it + el_reliq * t_it) * EF_y_n\n",
    "    return result\n",
    "\n",
    "\n",
    "# Calc. liquefaction emissions over time [g CO2eq/kg H2]\n",
    "years = np.arange(2025, 2051)\n",
    "result = pd.DataFrame(index=years, columns=['LH2_Import_terminal_emissions'])\n",
    "result.index.name = 'Years'\n",
    "\n",
    "for year in years:\n",
    "    EF_y_n = float(GHG.loc['GHG intensity of electricity generation [g CO2eq/kWh] - Germany'][year])\n",
    "\n",
    "    result.LH2_Import_terminal_emissions.loc[year] = IT_emissions()\n",
    "\n",
    "result"
   ],
   "metadata": {
    "collapsed": false,
    "pycharm": {
     "name": "#%%\n"
    }
   }
  },
  {
   "cell_type": "code",
   "execution_count": null,
   "outputs": [],
   "source": [
    "LH2_Import_terminal_emissions = result"
   ],
   "metadata": {
    "collapsed": false,
    "pycharm": {
     "name": "#%%\n"
    }
   }
  },
  {
   "cell_type": "code",
   "execution_count": null,
   "outputs": [],
   "source": [
    "# export result to excel\n",
    "writer = pd.ExcelWriter(path, engine='openpyxl', mode='a', if_sheet_exists='overlay')\n",
    "book = load_workbook(path)\n",
    "writer.book = book\n",
    "writer.sheets = dict((ws.title, ws) for ws in book.worksheets)\n",
    "\n",
    "ws = book['Reference Results']\n",
    "\n",
    "result.to_excel(writer, sheet_name='Reference Results', index=False, startcol=ws.max_column)\n",
    "book.save(path)\n",
    "book.close()"
   ],
   "metadata": {
    "collapsed": false,
    "pycharm": {
     "name": "#%%\n"
    }
   }
  },
  {
   "cell_type": "code",
   "execution_count": null,
   "outputs": [],
   "source": [
    "output_file = os.path.join(path_csv, 'LH2_Import_terminal_emissions.csv')\n",
    "result.to_csv(output_file, sep=';')"
   ],
   "metadata": {
    "collapsed": false,
    "pycharm": {
     "name": "#%%\n"
    }
   }
  },
  {
   "cell_type": "code",
   "execution_count": null,
   "outputs": [],
   "source": [],
   "metadata": {
    "collapsed": false,
    "pycharm": {
     "name": "#%%\n"
    }
   }
  },
  {
   "cell_type": "markdown",
   "source": [
    "## Reconversion\n"
   ],
   "metadata": {
    "collapsed": false,
    "pycharm": {
     "name": "#%% md\n"
    }
   }
  },
  {
   "cell_type": "code",
   "execution_count": null,
   "outputs": [],
   "source": [
    "def calculate_recon_emissions():\n",
    "    result = el_recon_y * EF_y_n\n",
    "    return result"
   ],
   "metadata": {
    "collapsed": false,
    "pycharm": {
     "name": "#%%\n"
    }
   }
  },
  {
   "cell_type": "code",
   "execution_count": null,
   "outputs": [],
   "source": [
    "years = np.arange(2025, 2051)\n",
    "result = pd.DataFrame(index=years, columns=['LH2_Reconversion_emissions'])\n",
    "result.index.name = 'Years'"
   ],
   "metadata": {
    "collapsed": false,
    "pycharm": {
     "name": "#%%\n"
    }
   }
  },
  {
   "cell_type": "code",
   "execution_count": null,
   "outputs": [],
   "source": [
    "for year in years:\n",
    "\n",
    "    el_recon_y = float(tea_lh2.loc['Reconversion - Electricity consumption opt. [kWh/kg H2]'][year])\n",
    "    EF_y_n = float(GHG.loc['GHG intensity of electricity generation [g CO2eq/kWh] - Germany'][year])\n",
    "\n",
    "    # calculate emissions of specific year\n",
    "    result.LH2_Reconversion_emissions.loc[year] = calculate_recon_emissions()\n",
    "result"
   ],
   "metadata": {
    "collapsed": false,
    "pycharm": {
     "name": "#%%\n"
    }
   }
  },
  {
   "cell_type": "code",
   "execution_count": null,
   "outputs": [],
   "source": [
    "LH2_Reconversion_emissions = result"
   ],
   "metadata": {
    "collapsed": false,
    "pycharm": {
     "name": "#%%\n"
    }
   }
  },
  {
   "cell_type": "code",
   "execution_count": null,
   "outputs": [],
   "source": [
    "# export result to excel\n",
    "writer = pd.ExcelWriter(path, engine='openpyxl', mode='a', if_sheet_exists='overlay')\n",
    "book = load_workbook(path)\n",
    "writer.book = book\n",
    "writer.sheets = dict((ws.title, ws) for ws in book.worksheets)\n",
    "\n",
    "ws = book['Reference Results']\n",
    "\n",
    "result.to_excel(writer, sheet_name='Reference Results', index=False, startcol=ws.max_column)\n",
    "book.save(path)\n",
    "book.close()"
   ],
   "metadata": {
    "collapsed": false,
    "pycharm": {
     "name": "#%%\n"
    }
   }
  },
  {
   "cell_type": "code",
   "execution_count": null,
   "outputs": [],
   "source": [
    "path_csv = r'/Users/jakob/PycharmProjects/H2_pathways_repo/data/processed'\n",
    "output_file = os.path.join(path_csv, 'LH2_Reconversion_emissions.csv')\n",
    "result.to_csv(output_file, sep=';')"
   ],
   "metadata": {
    "collapsed": false,
    "pycharm": {
     "name": "#%%\n"
    }
   }
  },
  {
   "cell_type": "code",
   "execution_count": null,
   "outputs": [],
   "source": [],
   "metadata": {
    "collapsed": false,
    "pycharm": {
     "name": "#%%\n"
    }
   }
  },
  {
   "cell_type": "markdown",
   "source": [
    "## Total LH2 transport emissions"
   ],
   "metadata": {
    "collapsed": false,
    "pycharm": {
     "name": "#%% md\n"
    }
   }
  },
  {
   "cell_type": "markdown",
   "source": [
    "con_em = pd.read_csv('/Users/jakob/PycharmProjects/H2_pathways_repo/data/processed/LH2_Conversion_emissions.csv', delimiter=';', decimal=',', index_col= 0)\n",
    "et_em = pd.read_csv('/Users/jakob/PycharmProjects/H2_pathways_repo/data/processed/LH2_Export_terminal_emissions.csv', delimiter=';', decimal=',', index_col= 0)\n",
    "ship_em = pd.read_csv('/Users/jakob/PycharmProjects/H2_pathways_repo/data/processed/LH2_Shipping_emissions.csv', delimiter=';', decimal=',', index_col= 0)\n",
    "it_em = pd.read_csv('/Users/jakob/PycharmProjects/H2_pathways_repo/data/processed/LH2_Import_terminal_emissions.csv', delimiter=';', decimal=',', index_col= 0)\n",
    "recon_em = pd.read_csv('/Users/jakob/PycharmProjects/H2_pathways_repo/data/processed/LH2_Reconversion_emissions.csv', delimiter=';', decimal=',', index_col= 0)"
   ],
   "metadata": {
    "collapsed": false,
    "pycharm": {
     "name": "#%% md\n"
    }
   }
  },
  {
   "cell_type": "code",
   "execution_count": null,
   "outputs": [],
   "source": [
    "years = np.arange(2025, 2051)\n",
    "result = pd.DataFrame(index=years, columns=['LH2_transport_emissions'])\n",
    "result.index.name = 'Years'"
   ],
   "metadata": {
    "collapsed": false,
    "pycharm": {
     "name": "#%%\n"
    }
   }
  },
  {
   "cell_type": "code",
   "execution_count": null,
   "outputs": [],
   "source": [
    "# [g CO2eq/kg H2]\n",
    "def calculate_LH2_transport_emissions():\n",
    "    result = CE + EE + SE + IE + RE\n",
    "\n",
    "    return result"
   ],
   "metadata": {
    "collapsed": false,
    "pycharm": {
     "name": "#%%\n"
    }
   }
  },
  {
   "cell_type": "code",
   "execution_count": null,
   "outputs": [],
   "source": [
    "for year in years:\n",
    "    # get all emissions\n",
    "    CE = float(LH2_Conversion_emissions.loc[year]['LH2_Conversion_emissions'])\n",
    "    EE = float(LH2_Export_terminal_emissions.loc[year]['LH2_Export_terminal_emissions'])\n",
    "    SE = float(LH2_Shipping_emissions.loc[year]['LH2_Shipping_emissions'])\n",
    "    IE = float(LH2_Import_terminal_emissions.loc[year]['LH2_Import_terminal_emissions'])\n",
    "    RE = float(LH2_Reconversion_emissions.loc[year]['LH2_Reconversion_emissions'])\n",
    "    # calculate costs of specific year\n",
    "    result.LH2_transport_emissions.loc[year] = calculate_LH2_transport_emissions()\n",
    "\n",
    "result"
   ],
   "metadata": {
    "collapsed": false,
    "pycharm": {
     "name": "#%%\n"
    }
   }
  },
  {
   "cell_type": "code",
   "execution_count": null,
   "outputs": [],
   "source": [
    "# export result to excel\n",
    "writer = pd.ExcelWriter(path, engine='openpyxl', mode='a', if_sheet_exists='overlay')\n",
    "book = load_workbook(path)\n",
    "writer.book = book\n",
    "writer.sheets = dict((ws.title, ws) for ws in book.worksheets)\n",
    "\n",
    "ws = book['Reference Results']\n",
    "\n",
    "result.to_excel(writer, sheet_name='Reference Results', index=False, startcol=ws.max_column)\n",
    "book.save(path)\n",
    "book.close()"
   ],
   "metadata": {
    "collapsed": false,
    "pycharm": {
     "name": "#%%\n"
    }
   }
  },
  {
   "cell_type": "code",
   "execution_count": null,
   "outputs": [],
   "source": [
    "# Emission breakdown for LH2 seaborne transport\n",
    "fig, ax = plt.subplots(figsize=(10,6))\n",
    "plt.grid(True, axis = 'y')\n",
    "ax.set_axisbelow(True)\n",
    "x = np.arange(2025, 2051, step=5)\n",
    "CE = (LH2_Conversion_emissions.loc[::5]['LH2_Conversion_emissions']).apply(pd.to_numeric)\n",
    "EE = (LH2_Export_terminal_emissions.loc[::5]['LH2_Export_terminal_emissions']).apply(pd.to_numeric)\n",
    "SE = (LH2_Shipping_emissions.loc[::5]['LH2_Shipping_emissions']).apply(pd.to_numeric)\n",
    "IE = (LH2_Import_terminal_emissions.loc[::5]['LH2_Import_terminal_emissions']).apply(pd.to_numeric)\n",
    "RE = (LH2_Reconversion_emissions.loc[::5]['LH2_Reconversion_emissions']).apply(pd.to_numeric)\n",
    "width = 2       # the width of the bars: can also be len(x) sequence\n",
    "\n",
    "RE_plt = plt.bar(x,RE, width, label='Regasification emissions', bottom= CE + EE + SE + IE)\n",
    "IE_plt = plt.bar(x,IE, width, label='Import terminal emissions', bottom= CE + EE + SE)\n",
    "SE_plt = plt.bar(x,SE, width, label='Shipping emissions', bottom= CE + EE)\n",
    "EE_plt = plt.bar(x,EE, width, label='Export terminal emissions', bottom= CE)\n",
    "CE_plt = plt.bar(x,CE, width, label='Liquefaction emissions')\n",
    "\n",
    "#plt.title('Emission breakdown for LH2 shipping ', fontweight='bold')\n",
    "plt.legend(loc='upper right')\n",
    "plt.ylabel('[g CO2eq/kg H2]')\n",
    "plt.xlabel('Years')\n",
    "\n",
    "title = 'LH2_emissions_2'\n",
    "plt.savefig(path_plt + title + '.png', transparent = True)\n",
    "\n",
    "plt.show()"
   ],
   "metadata": {
    "collapsed": false,
    "pycharm": {
     "name": "#%%\n"
    }
   }
  },
  {
   "cell_type": "markdown",
   "source": [
    "@ 10.000 km shipping distance. Large contributers to total emissions are emissions factors for grid electricity in import/exporting countries (assumed zero from 2045)."
   ],
   "metadata": {
    "collapsed": false,
    "pycharm": {
     "name": "#%% md\n"
    }
   }
  },
  {
   "cell_type": "markdown",
   "source": [
    "## Sensitivity"
   ],
   "metadata": {
    "collapsed": false,
    "pycharm": {
     "name": "#%% md\n"
    }
   }
  },
  {
   "cell_type": "code",
   "execution_count": 106,
   "outputs": [],
   "source": [
    "\n",
    "year = 2030\n",
    "el_liq_y = float(tea_lh2.loc['Liquefaction - Electricity consumption opt. [kWh/kgH2]'][year])\n",
    "EF_y_n = 118# float(GHG.loc['GHG intensity of electricity generation [g CO2eq/kWh] - Norway'][year])\n",
    "LH2_cargo_ghg = float(LH2_cargo_emissions.loc[year]['LH2_cargo_emissions'])\n",
    "el_recon_y = float(tea_lh2.loc['Reconversion - Electricity consumption opt. [kWh/kg H2]'][year])\n",
    "#EF_y_G = float(GHG.loc['GHG intensity of electricity generation [g CO2eq/kWh] - Germany'][year])"
   ],
   "metadata": {
    "collapsed": false,
    "pycharm": {
     "name": "#%%\n"
    }
   }
  },
  {
   "cell_type": "code",
   "execution_count": 161,
   "outputs": [],
   "source": [
    "EF_sensi = np.arange(0,301,20)\n",
    "sensitivity = []\n",
    "def lh2_transport_sensi_EF(el_liq_y, EF_y_n, el_et, el_reliq, t_et, bog_ship, d_sea ,v_ship, f_ship, LH2_cargo_ghg ,el_it ,t_it ,el_recon_y):\n",
    "\n",
    "    for EF_y_n in EF_sensi:\n",
    "\n",
    "        result = \\\n",
    "        (el_liq_y * EF_y_n )\\\n",
    "        + ((el_et + el_reliq * t_et) * EF_y_n )\\\n",
    "        + (1/(1-(bog_ship * d_sea/v_ship) - (f_ship  * d_sea)) + (bog_ship * d_sea/v_ship + f_ship * d_sea) * LH2_cargo_ghg)\\\n",
    "        + ((el_it + el_reliq * t_it) * EF_y_n )\\\n",
    "        + (el_recon_y * EF_y_n )\n",
    "\n",
    "        sensitivity.append(result)\n",
    "\n",
    "    return sensitivity"
   ],
   "metadata": {
    "collapsed": false,
    "pycharm": {
     "name": "#%%\n"
    }
   }
  },
  {
   "cell_type": "code",
   "execution_count": 162,
   "outputs": [
    {
     "data": {
      "text/plain": "[16.265754418572413,\n 239.4497544185724,\n 462.6337544185724,\n 685.8177544185725,\n 909.0017544185724,\n 1132.1857544185725,\n 1355.3697544185725,\n 1578.5537544185725,\n 1801.7377544185724,\n 2024.9217544185724,\n 2248.1057544185724,\n 2471.2897544185726,\n 2694.4737544185723,\n 2917.6577544185725,\n 3140.8417544185722,\n 3364.0257544185724]"
     },
     "execution_count": 162,
     "metadata": {},
     "output_type": "execute_result"
    }
   ],
   "source": [
    "lh2_transport_sensi_EF(el_liq_y, EF_y_n, el_et, el_reliq, t_et, bog_ship, d_sea ,v_ship, f_ship, LH2_cargo_ghg ,el_it ,t_it ,el_recon_y)"
   ],
   "metadata": {
    "collapsed": false,
    "pycharm": {
     "name": "#%%\n"
    }
   }
  },
  {
   "cell_type": "code",
   "execution_count": 163,
   "outputs": [
    {
     "data": {
      "text/plain": "                                    LH2 transport emission [g CO2eq/kg H2]\nElectricity emission [g CO2eq/kWh]                                        \n0                                                                16.265754\n20                                                              239.449754\n40                                                              462.633754\n60                                                              685.817754\n80                                                              909.001754\n100                                                            1132.185754\n120                                                            1355.369754\n140                                                            1578.553754\n160                                                            1801.737754\n180                                                            2024.921754\n200                                                            2248.105754\n220                                                            2471.289754\n240                                                            2694.473754\n260                                                            2917.657754\n280                                                            3140.841754\n300                                                            3364.025754",
      "text/html": "<div>\n<style scoped>\n    .dataframe tbody tr th:only-of-type {\n        vertical-align: middle;\n    }\n\n    .dataframe tbody tr th {\n        vertical-align: top;\n    }\n\n    .dataframe thead th {\n        text-align: right;\n    }\n</style>\n<table border=\"1\" class=\"dataframe\">\n  <thead>\n    <tr style=\"text-align: right;\">\n      <th></th>\n      <th>LH2 transport emission [g CO2eq/kg H2]</th>\n    </tr>\n    <tr>\n      <th>Electricity emission [g CO2eq/kWh]</th>\n      <th></th>\n    </tr>\n  </thead>\n  <tbody>\n    <tr>\n      <th>0</th>\n      <td>16.265754</td>\n    </tr>\n    <tr>\n      <th>20</th>\n      <td>239.449754</td>\n    </tr>\n    <tr>\n      <th>40</th>\n      <td>462.633754</td>\n    </tr>\n    <tr>\n      <th>60</th>\n      <td>685.817754</td>\n    </tr>\n    <tr>\n      <th>80</th>\n      <td>909.001754</td>\n    </tr>\n    <tr>\n      <th>100</th>\n      <td>1132.185754</td>\n    </tr>\n    <tr>\n      <th>120</th>\n      <td>1355.369754</td>\n    </tr>\n    <tr>\n      <th>140</th>\n      <td>1578.553754</td>\n    </tr>\n    <tr>\n      <th>160</th>\n      <td>1801.737754</td>\n    </tr>\n    <tr>\n      <th>180</th>\n      <td>2024.921754</td>\n    </tr>\n    <tr>\n      <th>200</th>\n      <td>2248.105754</td>\n    </tr>\n    <tr>\n      <th>220</th>\n      <td>2471.289754</td>\n    </tr>\n    <tr>\n      <th>240</th>\n      <td>2694.473754</td>\n    </tr>\n    <tr>\n      <th>260</th>\n      <td>2917.657754</td>\n    </tr>\n    <tr>\n      <th>280</th>\n      <td>3140.841754</td>\n    </tr>\n    <tr>\n      <th>300</th>\n      <td>3364.025754</td>\n    </tr>\n  </tbody>\n</table>\n</div>"
     },
     "execution_count": 163,
     "metadata": {},
     "output_type": "execute_result"
    }
   ],
   "source": [
    "lh2_transport_sensi_EF= pd.DataFrame(sensitivity, EF_sensi, columns=['LH2 transport emission [g CO2eq/kg H2]'])\n",
    "lh2_transport_sensi_EF.index.name = 'Electricity emission [g CO2eq/kWh]'\n",
    "lh2_transport_sensi_EF"
   ],
   "metadata": {
    "collapsed": false,
    "pycharm": {
     "name": "#%%\n"
    }
   }
  },
  {
   "cell_type": "code",
   "execution_count": 113,
   "outputs": [],
   "source": [
    "# Create csv file from results dataframe\n",
    "output_file = os.path.join(path_csv,'LH2_EF_sensi.csv')\n",
    "lh2_transport_sensi_EF.to_csv(output_file, sep = ';')"
   ],
   "metadata": {
    "collapsed": false,
    "pycharm": {
     "name": "#%%\n"
    }
   }
  },
  {
   "cell_type": "code",
   "execution_count": null,
   "outputs": [],
   "source": [
    "import matplotlib.ticker as mtick\n",
    "\n",
    "fig, ax = plt.subplots(figsize=(5,4))\n",
    "#plt.subplot(1,2,1)\n",
    "\n",
    "\n",
    "plt.plot(lh2_transport_sensi, color='blue', linestyle='solid', label = 'Emission factor')\n",
    "#plt.plot(lcoh_ngr_sensi_P_Co2, color='dodgerblue',linestyle='-', label = 'CO2 price')\n",
    "#plt.plot(lcoh_ngr_sensi_P_CCS, color='royalblue',linestyle='-', label = 'CCS cost')\n",
    "plt.grid(True, axis='y')\n",
    "#plt.grid(True, axis='x')\n",
    "ax.set_axisbelow(True)\n",
    "ax.xaxis.set_major_formatter(mtick.PercentFormatter(10, decimals=None))\n",
    "plt.locator_params(axis='x', nbins=5)\n",
    "plt.ylabel('[g CO2eq/kg H2]')\n",
    "plt.xlabel('Change')\n",
    "plt.legend()\n",
    "\n",
    "\n",
    "\n",
    "title = 'LH2_EF_sensi'\n",
    "#plt.savefig(path_plt + title + '.png', transparent=True)\n",
    "\n",
    "plt.show()"
   ],
   "metadata": {
    "collapsed": false,
    "pycharm": {
     "name": "#%%\n"
    }
   }
  },
  {
   "cell_type": "markdown",
   "source": [
    "# NH3 transport"
   ],
   "metadata": {
    "collapsed": false,
    "pycharm": {
     "name": "#%% md\n"
    }
   }
  },
  {
   "cell_type": "markdown",
   "source": [
    "## Conversion emissions"
   ],
   "metadata": {
    "collapsed": false,
    "pycharm": {
     "name": "#%% md\n"
    }
   }
  },
  {
   "cell_type": "code",
   "execution_count": null,
   "outputs": [],
   "source": [
    "def Conversion_emissions():\n",
    "    result = el_con_y * EF_y_n\n",
    "    return result"
   ],
   "metadata": {
    "collapsed": false,
    "pycharm": {
     "name": "#%%\n"
    }
   }
  },
  {
   "cell_type": "code",
   "execution_count": null,
   "outputs": [],
   "source": [
    "# Calc. liquefaction emissions over time [g CO2eq/kg H2]\n",
    "years = np.arange(2025, 2051)\n",
    "result = pd.DataFrame(index=years, columns=['NH3_Conversion_emissions'])\n",
    "for year in years:\n",
    "    el_con_y = float(tea_lnh3.loc['Conversion - Electricity consumption opt. [kWh/kgH2]'][year])\n",
    "    EF_y_n = float(GHG.loc['GHG intensity of electricity generation [g CO2eq/kWh] - Norway'][year])\n",
    "\n",
    "    result.NH3_Conversion_emissions.loc[year] = Conversion_emissions()\n",
    "\n",
    "result"
   ],
   "metadata": {
    "collapsed": false,
    "pycharm": {
     "name": "#%%\n"
    }
   }
  },
  {
   "cell_type": "code",
   "execution_count": null,
   "outputs": [],
   "source": [
    "# export result to excel\n",
    "path = '/Users/jakob/PycharmProjects/H2_pathways_repo/data/raw/H2_supply_route_assessment.xlsx'\n",
    "writer = pd.ExcelWriter(path, engine='openpyxl', mode='a', if_sheet_exists='overlay')\n",
    "book = load_workbook(path)\n",
    "writer.book = book\n",
    "writer.sheets = dict((ws.title, ws) for ws in book.worksheets)\n",
    "\n",
    "ws = book['Reference Results']\n",
    "\n",
    "result.to_excel(writer, sheet_name='Reference Results', index=False, startcol=ws.max_column)\n",
    "book.save(path)\n",
    "book.close()"
   ],
   "metadata": {
    "collapsed": false,
    "pycharm": {
     "name": "#%%\n"
    }
   }
  },
  {
   "cell_type": "code",
   "execution_count": null,
   "outputs": [],
   "source": [
    "path_csv = r'/Users/jakob/PycharmProjects/H2_pathways_repo/data/processed'\n",
    "output_file = os.path.join(path_csv, 'NH3_Conversion_emissions.csv')\n",
    "result.to_csv(output_file, sep=';')"
   ],
   "metadata": {
    "collapsed": false,
    "pycharm": {
     "name": "#%%\n"
    }
   }
  },
  {
   "cell_type": "code",
   "execution_count": null,
   "outputs": [],
   "source": [
    "NH3_Conversion_emissions = result"
   ],
   "metadata": {
    "collapsed": false,
    "pycharm": {
     "name": "#%%\n"
    }
   }
  },
  {
   "cell_type": "markdown",
   "source": [
    "## Export terminal"
   ],
   "metadata": {
    "collapsed": false,
    "pycharm": {
     "name": "#%% md\n"
    }
   }
  },
  {
   "cell_type": "code",
   "execution_count": 114,
   "outputs": [
    {
     "data": {
      "text/plain": "0.005"
     },
     "execution_count": 114,
     "metadata": {},
     "output_type": "execute_result"
    }
   ],
   "source": [
    "# Electricity consumption for the export terminal [kWh/kg_h2]\n",
    "el_et_nh3 = float(tea_lnh3.loc['Export Terminal - Electricity use [kWh/kgH2]']['NH3'])\n",
    "el_et_nh3"
   ],
   "metadata": {
    "collapsed": false,
    "pycharm": {
     "name": "#%%\n"
    }
   }
  },
  {
   "cell_type": "code",
   "execution_count": 115,
   "outputs": [
    {
     "data": {
      "text/plain": "0.0378"
     },
     "execution_count": 115,
     "metadata": {},
     "output_type": "execute_result"
    }
   ],
   "source": [
    "el_reliq_nh3 = float(tea_lnh3.loc['Export Terminal - Energy use to reliquefy opt. [kWh/kg NH3/day]']['NH3'])\n",
    "el_reliq_nh3"
   ],
   "metadata": {
    "collapsed": false,
    "pycharm": {
     "name": "#%%\n"
    }
   }
  },
  {
   "cell_type": "code",
   "execution_count": 116,
   "outputs": [],
   "source": [
    "#Lower heating value of Nh3[ kWh / kg]\n",
    "NH3_lhv = float(tea_lnh3.loc['Properties - LHV [kWh/kg]']['NH3'])\n",
    "NH3_lhv\n",
    "#Lower heating value of H2 [kWh/kg]\n",
    "H2_lhv = 33.33"
   ],
   "metadata": {
    "collapsed": false,
    "pycharm": {
     "name": "#%%\n"
    }
   }
  },
  {
   "cell_type": "markdown",
   "source": [
    "same storage time as for LH2"
   ],
   "metadata": {
    "collapsed": false,
    "pycharm": {
     "name": "#%% md\n"
    }
   }
  },
  {
   "cell_type": "code",
   "execution_count": 117,
   "outputs": [
    {
     "data": {
      "text/plain": "7.0"
     },
     "execution_count": 117,
     "metadata": {},
     "output_type": "execute_result"
    }
   ],
   "source": [
    "# Average storage time in the export terminal tanks in days\n",
    "t_et"
   ],
   "metadata": {
    "collapsed": false,
    "pycharm": {
     "name": "#%%\n"
    }
   }
  },
  {
   "cell_type": "code",
   "execution_count": null,
   "outputs": [],
   "source": [
    "def ET_emissions():\n",
    "    result = (el_et_nh3 + el_reliq_nh3 * (NH3_lhv/H2_lhv) * t_et) * EF_y_n\n",
    "    return result"
   ],
   "metadata": {
    "collapsed": false,
    "pycharm": {
     "name": "#%%\n"
    }
   }
  },
  {
   "cell_type": "code",
   "execution_count": null,
   "outputs": [],
   "source": [
    "# Calc. liquefaction emissions over time [g CO2eq/kg H2]\n",
    "years = np.arange(2025, 2051)\n",
    "result = pd.DataFrame(index=years, columns=['NH3_Export_terminal_emissions'])\n",
    "result.index.name = 'Years'"
   ],
   "metadata": {
    "collapsed": false,
    "pycharm": {
     "name": "#%%\n"
    }
   }
  },
  {
   "cell_type": "code",
   "execution_count": null,
   "outputs": [],
   "source": [
    "for year in years:\n",
    "    EF_y_n = float(GHG.loc['GHG intensity of electricity generation [g CO2eq/kWh] - Norway'][year])\n",
    "\n",
    "    result.NH3_Export_terminal_emissions.loc[year] = ET_emissions()\n",
    "\n",
    "result"
   ],
   "metadata": {
    "collapsed": false,
    "pycharm": {
     "name": "#%%\n"
    }
   }
  },
  {
   "cell_type": "code",
   "execution_count": null,
   "outputs": [],
   "source": [
    "writer = pd.ExcelWriter(path, engine='openpyxl', mode='a', if_sheet_exists='overlay')\n",
    "book = load_workbook(path)\n",
    "writer.book = book\n",
    "writer.sheets = dict((ws.title, ws) for ws in book.worksheets)\n",
    "\n",
    "ws = book['Reference Results']\n",
    "\n",
    "result.to_excel(writer, sheet_name='Reference Results', index=False, startcol=ws.max_column)\n",
    "book.save(path)\n",
    "book.close()"
   ],
   "metadata": {
    "collapsed": false,
    "pycharm": {
     "name": "#%%\n"
    }
   }
  },
  {
   "cell_type": "code",
   "execution_count": null,
   "outputs": [],
   "source": [
    "path_csv = r'/Users/jakob/PycharmProjects/H2_pathways_repo/data/processed'\n",
    "output_file = os.path.join(path_csv, 'NH3_Export_terminal_emissions.csv')\n",
    "result.to_csv(output_file, sep=';')"
   ],
   "metadata": {
    "collapsed": false,
    "pycharm": {
     "name": "#%%\n"
    }
   }
  },
  {
   "cell_type": "code",
   "execution_count": null,
   "outputs": [],
   "source": [
    "NH3_Export_terminal_emissions = result"
   ],
   "metadata": {
    "collapsed": false,
    "pycharm": {
     "name": "#%%\n"
    }
   }
  },
  {
   "cell_type": "markdown",
   "source": [
    "## Shipping"
   ],
   "metadata": {
    "collapsed": false,
    "pycharm": {
     "name": "#%% md\n"
    }
   }
  },
  {
   "cell_type": "markdown",
   "source": [
    "Emissions of transported hydrogen carrier in [g CO2/kg_h2] in year y\n",
    "NH3_Conversion_emissions = pd.read_csv(\n",
    "    \"/Users/jakob/PycharmProjects/H2_pathways_repo/data/processed/NH3_Conversion_emissions.csv\", delimiter=';',\n",
    "    decimal=',', index_col=0)\n",
    "NH3_Export_terminal_emissions = pd.read_csv(\n",
    "    \"/Users/jakob/PycharmProjects/H2_pathways_repo/data/processed/NH3_Export_terminal_emissions.csv\", delimiter=';',\n",
    "    decimal=',', index_col=0)"
   ],
   "metadata": {
    "collapsed": false,
    "pycharm": {
     "name": "#%% md\n"
    }
   }
  },
  {
   "cell_type": "code",
   "execution_count": 118,
   "outputs": [
    {
     "data": {
      "text/plain": "0.0001615786578657866"
     },
     "execution_count": 118,
     "metadata": {},
     "output_type": "execute_result"
    }
   ],
   "source": [
    "# Boil-off when shipping in [%/day] to [%/hour]\n",
    "bog_ship = float(tea_lnh3.loc['Shipping - Boil off opt. [%/day]']['NH3']) / 24 * (NH3_lhv/H2_lhv)\n",
    "bog_ship"
   ],
   "metadata": {
    "collapsed": false,
    "pycharm": {
     "name": "#%%\n"
    }
   }
  },
  {
   "cell_type": "code",
   "execution_count": 119,
   "outputs": [
    {
     "data": {
      "text/plain": "3.933746996123837e-07"
     },
     "execution_count": 119,
     "metadata": {},
     "output_type": "execute_result"
    }
   ],
   "source": [
    "# Fuel consumption of a ship in [kg_h2/t/km]\n",
    "f_ship = float(tea_lnh3.loc['Shipping - Fuel use [kg NH3/t/km]']['NH3']) / 1000 * (NH3_lhv/H2_lhv)\n",
    "f_ship"
   ],
   "metadata": {
    "collapsed": false,
    "pycharm": {
     "name": "#%%\n"
    }
   }
  },
  {
   "cell_type": "markdown",
   "source": [
    "d_sea and v_ship are equivalent to LH2 transport"
   ],
   "metadata": {
    "collapsed": false,
    "pycharm": {
     "name": "#%% md\n"
    }
   }
  },
  {
   "cell_type": "markdown",
   "source": [
    "Calc. emission factor for cargo/fuel"
   ],
   "metadata": {
    "collapsed": false,
    "pycharm": {
     "name": "#%% md\n"
    }
   }
  },
  {
   "cell_type": "code",
   "execution_count": 120,
   "outputs": [
    {
     "ename": "NameError",
     "evalue": "name 'NH3_Conversion_emissions' is not defined",
     "output_type": "error",
     "traceback": [
      "\u001B[1;31m---------------------------------------------------------------------------\u001B[0m",
      "\u001B[1;31mNameError\u001B[0m                                 Traceback (most recent call last)",
      "Cell \u001B[1;32mIn [120], line 3\u001B[0m\n\u001B[0;32m      1\u001B[0m \u001B[38;5;66;03m# Emissions of transported hydrogen carrier in [g CO2eq/kg_H2] in year y\u001B[39;00m\n\u001B[0;32m      2\u001B[0m H2_emissions \u001B[38;5;241m=\u001B[39m (min_prod_cost\u001B[38;5;241m.\u001B[39mloc[::][\u001B[38;5;124m'\u001B[39m\u001B[38;5;124mEmissions\u001B[39m\u001B[38;5;124m'\u001B[39m])\u001B[38;5;241m.\u001B[39mapply(pd\u001B[38;5;241m.\u001B[39mto_numeric) \u001B[38;5;241m*\u001B[39m \u001B[38;5;241m1000\u001B[39m\n\u001B[1;32m----> 3\u001B[0m Con_emissions \u001B[38;5;241m=\u001B[39m (\u001B[43mNH3_Conversion_emissions\u001B[49m\u001B[38;5;241m.\u001B[39mloc[::][\u001B[38;5;124m'\u001B[39m\u001B[38;5;124mNH3_Conversion_emissions\u001B[39m\u001B[38;5;124m'\u001B[39m])\u001B[38;5;241m.\u001B[39mapply(pd\u001B[38;5;241m.\u001B[39mto_numeric)\n\u001B[0;32m      4\u001B[0m ET_emissions \u001B[38;5;241m=\u001B[39m (NH3_Export_terminal_emissions\u001B[38;5;241m.\u001B[39mloc[::][\u001B[38;5;124m'\u001B[39m\u001B[38;5;124mNH3_Export_terminal_emissions\u001B[39m\u001B[38;5;124m'\u001B[39m])\u001B[38;5;241m.\u001B[39mapply(pd\u001B[38;5;241m.\u001B[39mto_numeric)\n\u001B[0;32m      5\u001B[0m \u001B[38;5;66;03m# Emission of cargo in [g CO2eq/kg_H2]\u001B[39;00m\n",
      "\u001B[1;31mNameError\u001B[0m: name 'NH3_Conversion_emissions' is not defined"
     ]
    }
   ],
   "source": [
    "# Emissions of transported hydrogen carrier in [g CO2eq/kg_H2] in year y\n",
    "H2_emissions = (min_prod_cost.loc[::]['Emissions']).apply(pd.to_numeric) * 1000\n",
    "Con_emissions = (NH3_Conversion_emissions.loc[::]['NH3_Conversion_emissions']).apply(pd.to_numeric)\n",
    "ET_emissions = (NH3_Export_terminal_emissions.loc[::]['NH3_Export_terminal_emissions']).apply(pd.to_numeric)\n",
    "# Emission of cargo in [g CO2eq/kg_H2]\n",
    "NH3_cargo_emissions = (H2_emissions + Con_emissions + ET_emissions).to_frame('NH3_cargo_emissions')\n",
    "NH3_cargo_emissions"
   ],
   "metadata": {
    "collapsed": false,
    "pycharm": {
     "name": "#%%\n"
    }
   }
  },
  {
   "cell_type": "code",
   "execution_count": null,
   "outputs": [],
   "source": [
    "output_file = os.path.join(path_csv, 'NH3_cargo_emissions.csv')\n",
    "result.to_csv(output_file, sep=';')"
   ],
   "metadata": {
    "collapsed": false,
    "pycharm": {
     "name": "#%%\n"
    }
   }
  },
  {
   "cell_type": "code",
   "execution_count": null,
   "outputs": [],
   "source": [
    "#d_sea = 10000"
   ],
   "metadata": {
    "collapsed": false,
    "pycharm": {
     "name": "#%%\n"
    }
   }
  },
  {
   "cell_type": "code",
   "execution_count": null,
   "outputs": [],
   "source": [
    "# Calc.NH3 shipping emissions\n",
    "def calculate_ship_emissions():\n",
    "    result = 1 / (1 - (bog_ship * d_sea / v_ship) - (f_ship * d_sea))\\\n",
    "             + (bog_ship * d_sea / v_ship + f_ship * d_sea) * NH3_cargo_ghg\n",
    "    return result"
   ],
   "metadata": {
    "collapsed": false,
    "pycharm": {
     "name": "#%%\n"
    }
   }
  },
  {
   "cell_type": "code",
   "execution_count": null,
   "outputs": [],
   "source": [
    "# Calculation of shipping emissions [g CO2eq/kg_h2] from 2025 to 2050.\n",
    "years = np.arange(2025, 2051)\n",
    "result = pd.DataFrame(index=years, columns=['NH3_Shipping_emissions'])\n",
    "result.index.name = 'Years'\n",
    "\n",
    "for year in years:\n",
    "    NH3_cargo_ghg = float(LH2_cargo_emissions.loc[year]['LH2_cargo_emissions'])\n",
    "    f_ship = float(tea_lnh3.loc['Shipping - Fuel use [kg NH3/t/km]'][year])/1000 * (NH3_lhv/H2_lhv)\n",
    "    # calculate emissions of specific year\n",
    "    result.NH3_Shipping_emissions.loc[year] = calculate_ship_emissions()\n",
    "\n",
    "result"
   ],
   "metadata": {
    "collapsed": false,
    "pycharm": {
     "name": "#%%\n"
    }
   }
  },
  {
   "cell_type": "code",
   "execution_count": null,
   "outputs": [],
   "source": [
    "# export result to excel\n",
    "writer = pd.ExcelWriter(path, engine='openpyxl', mode='a', if_sheet_exists='overlay')\n",
    "book = load_workbook(path)\n",
    "writer.book = book\n",
    "writer.sheets = dict((ws.title, ws) for ws in book.worksheets)\n",
    "\n",
    "ws = book['Reference Results']\n",
    "\n",
    "result.to_excel(writer, sheet_name='Reference Results', index=False, startcol=ws.max_column)\n",
    "book.save(path)\n",
    "book.close()"
   ],
   "metadata": {
    "collapsed": false,
    "pycharm": {
     "name": "#%%\n"
    }
   }
  },
  {
   "cell_type": "code",
   "execution_count": null,
   "outputs": [],
   "source": [
    "path_csv = r'/Users/jakob/PycharmProjects/H2_pathways_repo/data/processed'\n",
    "output_file = os.path.join(path_csv, 'NH3_Shipping_emissions.csv')\n",
    "result.to_csv(output_file, sep=';')"
   ],
   "metadata": {
    "collapsed": false,
    "pycharm": {
     "name": "#%%\n"
    }
   }
  },
  {
   "cell_type": "code",
   "execution_count": null,
   "outputs": [],
   "source": [
    "NH3_Shipping_emissions = result"
   ],
   "metadata": {
    "collapsed": false,
    "pycharm": {
     "name": "#%%\n"
    }
   }
  },
  {
   "cell_type": "markdown",
   "source": [
    "## Import terminal"
   ],
   "metadata": {
    "collapsed": false,
    "pycharm": {
     "name": "#%% md\n"
    }
   }
  },
  {
   "cell_type": "code",
   "execution_count": 121,
   "outputs": [
    {
     "data": {
      "text/plain": "0.02"
     },
     "execution_count": 121,
     "metadata": {},
     "output_type": "execute_result"
    }
   ],
   "source": [
    "# Electricity consumption for the import terminal [kWh/kg_h2]\n",
    "el_it = float(tea_lnh3.loc['Import Terminal - Electricity use [kWh/kg H2]']['NH3'])\n",
    "el_it"
   ],
   "metadata": {
    "collapsed": false,
    "pycharm": {
     "name": "#%%\n"
    }
   }
  },
  {
   "cell_type": "code",
   "execution_count": 122,
   "outputs": [
    {
     "data": {
      "text/plain": "0.0378"
     },
     "execution_count": 122,
     "metadata": {},
     "output_type": "execute_result"
    }
   ],
   "source": [
    "# Electricity consumption to reliquefy BOG [kWh/kg_h2]\n",
    "el_reliq = float(tea_lnh3.loc['Import Terminal - Energy use to reliquefy opt. [kWh/kg NH3/day]']['NH3'])\n",
    "el_reliq"
   ],
   "metadata": {
    "collapsed": false,
    "pycharm": {
     "name": "#%%\n"
    }
   }
  },
  {
   "cell_type": "code",
   "execution_count": 123,
   "outputs": [
    {
     "data": {
      "text/plain": "7.0"
     },
     "execution_count": 123,
     "metadata": {},
     "output_type": "execute_result"
    }
   ],
   "source": [
    "\n",
    "# Average storage time in the import terminal tanks in days\n",
    "t_it = float(tea_lnh3.loc['Import Terminal - Storage length per load [days]']['NH3'])\n",
    "t_it"
   ],
   "metadata": {
    "collapsed": false,
    "pycharm": {
     "name": "#%%\n"
    }
   }
  },
  {
   "cell_type": "code",
   "execution_count": null,
   "outputs": [],
   "source": [
    "def IT_emissions():\n",
    "    result = (el_it + el_reliq * (NH3_lhv/H2_lhv) * t_it) * EF_y_n\n",
    "    return result"
   ],
   "metadata": {
    "collapsed": false,
    "pycharm": {
     "name": "#%%\n"
    }
   }
  },
  {
   "cell_type": "code",
   "execution_count": null,
   "outputs": [],
   "source": [
    "# Calc. import terimal emissions over time [g CO2eq/kg H2]\n",
    "years = np.arange(2025, 2051)\n",
    "result = pd.DataFrame(index=years, columns=['NH3_Import_terminal_emissions'])\n",
    "result.index.name = 'Years'\n",
    "\n",
    "for year in years:\n",
    "    EF_y_n = float(GHG.loc['GHG intensity of electricity generation [g CO2eq/kWh] - Germany'][year])\n",
    "\n",
    "    result.NH3_Import_terminal_emissions.loc[year] = IT_emissions()\n",
    "\n",
    "result"
   ],
   "metadata": {
    "collapsed": false,
    "pycharm": {
     "name": "#%%\n"
    }
   }
  },
  {
   "cell_type": "code",
   "execution_count": null,
   "outputs": [],
   "source": [
    "# export result to excel\n",
    "writer = pd.ExcelWriter(path, engine='openpyxl', mode='a', if_sheet_exists='overlay')\n",
    "book = load_workbook(path)\n",
    "writer.book = book\n",
    "writer.sheets = dict((ws.title, ws) for ws in book.worksheets)\n",
    "\n",
    "ws = book['Reference Results']\n",
    "\n",
    "result.to_excel(writer, sheet_name='Reference Results', index=False, startcol=ws.max_column)\n",
    "book.save(path)\n",
    "book.close()"
   ],
   "metadata": {
    "collapsed": false,
    "pycharm": {
     "name": "#%%\n"
    }
   }
  },
  {
   "cell_type": "code",
   "execution_count": null,
   "outputs": [],
   "source": [
    "path_csv = r'/Users/jakob/PycharmProjects/H2_pathways_repo/data/processed'\n",
    "output_file = os.path.join(path_csv, 'NH3_Import_terminal_emissions.csv')\n",
    "result.to_csv(output_file, sep=';')"
   ],
   "metadata": {
    "collapsed": false,
    "pycharm": {
     "name": "#%%\n"
    }
   }
  },
  {
   "cell_type": "code",
   "execution_count": null,
   "outputs": [],
   "source": [
    "NH3_Import_terminal_emissions = result"
   ],
   "metadata": {
    "collapsed": false,
    "pycharm": {
     "name": "#%%\n"
    }
   }
  },
  {
   "cell_type": "markdown",
   "source": [
    "## Reconversion"
   ],
   "metadata": {
    "collapsed": false,
    "pycharm": {
     "name": "#%% md\n"
    }
   }
  },
  {
   "cell_type": "code",
   "execution_count": null,
   "outputs": [],
   "source": [
    "def calculate_recon_emissions():\n",
    "    result = (heat_recon_y + el_recon_y) * EF_y_n\n",
    "    return result"
   ],
   "metadata": {
    "collapsed": false,
    "pycharm": {
     "name": "#%%\n"
    }
   }
  },
  {
   "cell_type": "code",
   "execution_count": null,
   "outputs": [],
   "source": [
    "years = np.arange(2025, 2051)\n",
    "result = pd.DataFrame(index=years, columns=['NH3_Reconversion_emissions'])\n",
    "result.index.name = 'Years'\n",
    "\n",
    "for year in years:\n",
    "    el_recon_y = float(tea_lnh3.loc['Reconversion - Electricity consumption opt. [kWh/kg H2]'][year])\n",
    "    heat_recon_y = float(tea_lnh3.loc['Reconversion - Heat consumption opt. [kWh/kg H2]'][year])\n",
    "    EF_y_n = float(GHG.loc['GHG intensity of electricity generation [g CO2eq/kWh] - Germany'][year])\n",
    "\n",
    "     # calculate emissions of specific year\n",
    "    result.NH3_Reconversion_emissions.loc[year] = calculate_recon_emissions()\n",
    "result"
   ],
   "metadata": {
    "collapsed": false,
    "pycharm": {
     "name": "#%%\n"
    }
   }
  },
  {
   "cell_type": "code",
   "execution_count": null,
   "outputs": [],
   "source": [
    "# export result to excel\n",
    "writer = pd.ExcelWriter(path, engine='openpyxl', mode='a', if_sheet_exists='overlay')\n",
    "book = load_workbook(path)\n",
    "writer.book = book\n",
    "writer.sheets = dict((ws.title, ws) for ws in book.worksheets)\n",
    "\n",
    "ws = book['Reference Results']\n",
    "\n",
    "result.to_excel(writer, sheet_name='Reference Results', index=False, startcol=ws.max_column)\n",
    "book.save(path)\n",
    "book.close()"
   ],
   "metadata": {
    "collapsed": false,
    "pycharm": {
     "name": "#%%\n"
    }
   }
  },
  {
   "cell_type": "code",
   "execution_count": null,
   "outputs": [],
   "source": [
    "path_csv = r'/Users/jakob/PycharmProjects/H2_pathways_repo/data/processed'\n",
    "output_file = os.path.join(path_csv, 'NH3_Reconversion_emissions.csv')\n",
    "result.to_csv(output_file, sep=';')"
   ],
   "metadata": {
    "collapsed": false,
    "pycharm": {
     "name": "#%%\n"
    }
   }
  },
  {
   "cell_type": "code",
   "execution_count": null,
   "outputs": [],
   "source": [
    "NH3_Reconversion_emissions = result"
   ],
   "metadata": {
    "collapsed": false,
    "pycharm": {
     "name": "#%%\n"
    }
   }
  },
  {
   "cell_type": "markdown",
   "source": [
    "## Total NH3 transport emissions"
   ],
   "metadata": {
    "collapsed": false,
    "pycharm": {
     "name": "#%% md\n"
    }
   }
  },
  {
   "cell_type": "markdown",
   "source": [
    "con_em = pd.read_csv('/Users/jakob/PycharmProjects/H2_pathways_repo/data/processed/NH3_Conversion_emissions.csv',\n",
    "                     delimiter=';', decimal=',', index_col=0)\n",
    "et_em = pd.read_csv('/Users/jakob/PycharmProjects/H2_pathways_repo/data/processed/NH3_Export_terminal_emissions.csv',\n",
    "                    delimiter=';', decimal=',', index_col=0)\n",
    "ship_em = pd.read_csv('/Users/jakob/PycharmProjects/H2_pathways_repo/data/processed/NH3_Shipping_emissions.csv',\n",
    "                      delimiter=';', decimal=',', index_col=0)\n",
    "it_em = pd.read_csv('/Users/jakob/PycharmProjects/H2_pathways_repo/data/processed/NH3_Import_terminal_emissions.csv',\n",
    "                    delimiter=';', decimal=',', index_col=0)\n",
    "recon_em = pd.read_csv('/Users/jakob/PycharmProjects/H2_pathways_repo/data/processed/NH3_Reconversion_emissions.csv',\n",
    "                       delimiter=';', decimal=',', index_col=0)"
   ],
   "metadata": {
    "collapsed": false,
    "pycharm": {
     "name": "#%% md\n"
    }
   }
  },
  {
   "cell_type": "code",
   "execution_count": null,
   "outputs": [],
   "source": [
    "years = np.arange(2025, 2051)\n",
    "result = pd.DataFrame(index=years, columns=['NH3_transport_emissions'])\n",
    "result.index.name = 'Years'"
   ],
   "metadata": {
    "collapsed": false,
    "pycharm": {
     "name": "#%%\n"
    }
   }
  },
  {
   "cell_type": "code",
   "execution_count": null,
   "outputs": [],
   "source": [
    "# [g CO2eq/kg H2]\n",
    "def calculate_NH3_transport_emissions():\n",
    "    result = CE + EE + SE + IE + RE\n",
    "\n",
    "    return result"
   ],
   "metadata": {
    "collapsed": false,
    "pycharm": {
     "name": "#%%\n"
    }
   }
  },
  {
   "cell_type": "code",
   "execution_count": null,
   "outputs": [],
   "source": [
    "for year in years:\n",
    "    # get all emissions\n",
    "    CE = float(NH3_Conversion_emissions.loc[year]['NH3_Conversion_emissions'])\n",
    "    EE = float(NH3_Export_terminal_emissions.loc[year]['NH3_Export_terminal_emissions'])\n",
    "    SE = float(NH3_Shipping_emissions.loc[year]['NH3_Shipping_emissions'])\n",
    "    IE = float(NH3_Import_terminal_emissions.loc[year]['NH3_Import_terminal_emissions'])\n",
    "    RE = float(NH3_Reconversion_emissions.loc[year]['NH3_Reconversion_emissions'])\n",
    "    # calculate costs of specific year\n",
    "    result.NH3_transport_emissions.loc[year] = calculate_NH3_transport_emissions()\n",
    "\n",
    "result"
   ],
   "metadata": {
    "collapsed": false,
    "pycharm": {
     "name": "#%%\n"
    }
   }
  },
  {
   "cell_type": "code",
   "execution_count": null,
   "outputs": [],
   "source": [
    "NH3_transport_emissions = result"
   ],
   "metadata": {
    "collapsed": false,
    "pycharm": {
     "name": "#%%\n"
    }
   }
  },
  {
   "cell_type": "code",
   "execution_count": null,
   "outputs": [],
   "source": [
    "# export result to excel\n",
    "writer = pd.ExcelWriter(path, engine='openpyxl', mode='a', if_sheet_exists='overlay')\n",
    "book = load_workbook(path)\n",
    "writer.book = book\n",
    "writer.sheets = dict((ws.title, ws) for ws in book.worksheets)\n",
    "\n",
    "ws = book['Reference Results']\n",
    "\n",
    "result.to_excel(writer, sheet_name='Reference Results', index=False, startcol=ws.max_column)\n",
    "book.save(path)\n",
    "book.close()"
   ],
   "metadata": {
    "collapsed": false,
    "pycharm": {
     "name": "#%%\n"
    }
   }
  },
  {
   "cell_type": "code",
   "execution_count": null,
   "outputs": [],
   "source": [
    "# Emission breakdown for NH3 seaborne transport\n",
    "fig, ax = plt.subplots(figsize=(10, 6))\n",
    "plt.grid(True, axis='y')\n",
    "ax.set_axisbelow(True)\n",
    "x = np.arange(2025, 2051, step=5)\n",
    "CE = (NH3_Conversion_emissions.loc[::5]['NH3_Conversion_emissions']).apply(pd.to_numeric)\n",
    "EE = (NH3_Export_terminal_emissions.loc[::5]['NH3_Export_terminal_emissions']).apply(pd.to_numeric)\n",
    "SE = (NH3_Shipping_emissions.loc[::5]['NH3_Shipping_emissions']).apply(pd.to_numeric)\n",
    "IE = (NH3_Import_terminal_emissions.loc[::5]['NH3_Import_terminal_emissions']).apply(pd.to_numeric)\n",
    "RE = (NH3_Reconversion_emissions.loc[::5]['NH3_Reconversion_emissions']).apply(pd.to_numeric)\n",
    "width = 2  # the width of the bars: can also be len(x) sequence\n",
    "\n",
    "RE_plt = plt.bar(x, RE, width, label='Reconversion (Ammonia cracking) emissions', bottom=CE + EE + SE + IE)\n",
    "IE_plt = plt.bar(x, IE, width, label='Import terminal emissions', bottom=CE + EE + SE)\n",
    "SE_plt = plt.bar(x, SE, width, label='Shipping emissions', bottom=CE + EE)\n",
    "EE_plt = plt.bar(x, EE, width, label='Export terminal emissions', bottom=CE)\n",
    "CE_plt = plt.bar(x, CE, width, label='Conversion (Ammonia synthesis) emissions')\n",
    "\n",
    "#plt.title('Emission breakdown for NH3 shipping [g CO2eq/kg H2]', fontweight='bold')\n",
    "plt.legend(loc='upper right')\n",
    "plt.ylabel('[g CO2eq/kg H2]')\n",
    "\n",
    "title = 'NH3_emissions_w_reconversion'\n",
    "plt.savefig(path_plt+title+'.png', transparent = True)\n",
    "\n",
    "plt.show()"
   ],
   "metadata": {
    "collapsed": false,
    "pycharm": {
     "name": "#%%\n"
    }
   }
  },
  {
   "cell_type": "markdown",
   "source": [
    "Largest contributer is reconversion at around 15 kWh/kg H2 are required to crack ammonia and it is assumed that electricity and heat are sourced from grid electricity, which has a high emission factor of around 300 g CO2eq/kWh in 2025 (in Germany)."
   ],
   "metadata": {
    "collapsed": false,
    "pycharm": {
     "name": "#%% md\n"
    }
   }
  },
  {
   "cell_type": "markdown",
   "source": [
    "## Sensitivity"
   ],
   "metadata": {
    "collapsed": false,
    "pycharm": {
     "name": "#%% md\n"
    }
   }
  },
  {
   "cell_type": "code",
   "execution_count": 124,
   "outputs": [],
   "source": [
    "year = 2030\n",
    "\n",
    "el_con_y = float(tea_lnh3.loc['Conversion - Electricity consumption opt. [kWh/kgH2]'][year])\n",
    "NH3_cargo_ghg = float(LH2_cargo_emissions.loc[year]['LH2_cargo_emissions'])\n",
    "f_ship = float(tea_lnh3.loc['Shipping - Fuel use [kg NH3/t/km]'][year])/1000 * (NH3_lhv/H2_lhv)\n",
    "el_recon_y = float(tea_lnh3.loc['Reconversion - Electricity consumption opt. [kWh/kg H2]'][year])\n",
    "heat_recon_y = float(tea_lnh3.loc['Reconversion - Heat consumption opt. [kWh/kg H2]'][year])\n",
    "EF_y_n = 118  # float(GHG.loc['GHG intensity of electricity generation [g CO2eq/kWh] - Norway'][year])"
   ],
   "metadata": {
    "collapsed": false,
    "pycharm": {
     "name": "#%%\n"
    }
   }
  },
  {
   "cell_type": "code",
   "execution_count": 157,
   "outputs": [],
   "source": [
    "\n",
    "EF_sensi = np.arange(0,301,20)\n",
    "sensitivity = []\n",
    "\n",
    "def nh3_transport_sensi_EF(el_con_y, EF_y_n, el_et_nh3, el_reliq_nh3, t_et, bog_ship, d_sea, v_ship, f_ship, NH3_cargo_ghg, el_it, heat_recon_y, t_it, el_recon_y):\n",
    "\n",
    "    for EF_y_n in EF_sensi:\n",
    "\n",
    "        result =\\\n",
    "            (el_con_y * EF_y_n )\\\n",
    "        + ((el_et_nh3 + el_reliq_nh3 * (NH3_lhv/H2_lhv) * t_et) * EF_y_n )\\\n",
    "        + (1 / (1 - (bog_ship * d_sea / v_ship) - (f_ship * d_sea)) + (bog_ship * d_sea / v_ship + f_ship * d_sea) * NH3_cargo_ghg)\\\n",
    "        + ((el_it + el_reliq * (NH3_lhv/H2_lhv) * t_it) * EF_y_n )\\\n",
    "        + ((heat_recon_y + el_recon_y) * EF_y_n )\n",
    "\n",
    "        sensitivity.append(result)\n",
    "\n",
    "\n",
    "    return sensitivity\n"
   ],
   "metadata": {
    "collapsed": false,
    "pycharm": {
     "name": "#%%\n"
    }
   }
  },
  {
   "cell_type": "code",
   "execution_count": 158,
   "outputs": [
    {
     "data": {
      "text/plain": "[16.265754418572413,\n 368.40749699282986,\n 720.5492395670873,\n 1072.6909821413446,\n 1424.8327247156021,\n 1776.9744672898596,\n 2129.116209864117,\n 2481.2579524383746,\n 2833.399695012632,\n 3185.5414375868895,\n 3537.683180161147,\n 3889.824922735404,\n 4241.966665309661,\n 4594.108407883919,\n 4946.250150458176,\n 5298.3918930324335]"
     },
     "execution_count": 158,
     "metadata": {},
     "output_type": "execute_result"
    }
   ],
   "source": [
    "nh3_transport_sensi_EF(el_con_y, EF_y_n, el_et_nh3, el_reliq_nh3, t_et, bog_ship, d_sea, v_ship, f_ship, NH3_cargo_ghg, el_it, heat_recon_y, t_it, el_recon_y)\n"
   ],
   "metadata": {
    "collapsed": false,
    "pycharm": {
     "name": "#%%\n"
    }
   }
  },
  {
   "cell_type": "code",
   "execution_count": 159,
   "outputs": [
    {
     "data": {
      "text/plain": "                                     NH3 transport emission [g CO2eq/kg H2]\nElectricity emission [g CO2eq/KWh]]                                        \n0                                                                 16.265754\n20                                                               368.407497\n40                                                               720.549240\n60                                                              1072.690982\n80                                                              1424.832725\n100                                                             1776.974467\n120                                                             2129.116210\n140                                                             2481.257952\n160                                                             2833.399695\n180                                                             3185.541438\n200                                                             3537.683180\n220                                                             3889.824923\n240                                                             4241.966665\n260                                                             4594.108408\n280                                                             4946.250150\n300                                                             5298.391893",
      "text/html": "<div>\n<style scoped>\n    .dataframe tbody tr th:only-of-type {\n        vertical-align: middle;\n    }\n\n    .dataframe tbody tr th {\n        vertical-align: top;\n    }\n\n    .dataframe thead th {\n        text-align: right;\n    }\n</style>\n<table border=\"1\" class=\"dataframe\">\n  <thead>\n    <tr style=\"text-align: right;\">\n      <th></th>\n      <th>NH3 transport emission [g CO2eq/kg H2]</th>\n    </tr>\n    <tr>\n      <th>Electricity emission [g CO2eq/KWh]]</th>\n      <th></th>\n    </tr>\n  </thead>\n  <tbody>\n    <tr>\n      <th>0</th>\n      <td>16.265754</td>\n    </tr>\n    <tr>\n      <th>20</th>\n      <td>368.407497</td>\n    </tr>\n    <tr>\n      <th>40</th>\n      <td>720.549240</td>\n    </tr>\n    <tr>\n      <th>60</th>\n      <td>1072.690982</td>\n    </tr>\n    <tr>\n      <th>80</th>\n      <td>1424.832725</td>\n    </tr>\n    <tr>\n      <th>100</th>\n      <td>1776.974467</td>\n    </tr>\n    <tr>\n      <th>120</th>\n      <td>2129.116210</td>\n    </tr>\n    <tr>\n      <th>140</th>\n      <td>2481.257952</td>\n    </tr>\n    <tr>\n      <th>160</th>\n      <td>2833.399695</td>\n    </tr>\n    <tr>\n      <th>180</th>\n      <td>3185.541438</td>\n    </tr>\n    <tr>\n      <th>200</th>\n      <td>3537.683180</td>\n    </tr>\n    <tr>\n      <th>220</th>\n      <td>3889.824923</td>\n    </tr>\n    <tr>\n      <th>240</th>\n      <td>4241.966665</td>\n    </tr>\n    <tr>\n      <th>260</th>\n      <td>4594.108408</td>\n    </tr>\n    <tr>\n      <th>280</th>\n      <td>4946.250150</td>\n    </tr>\n    <tr>\n      <th>300</th>\n      <td>5298.391893</td>\n    </tr>\n  </tbody>\n</table>\n</div>"
     },
     "execution_count": 159,
     "metadata": {},
     "output_type": "execute_result"
    }
   ],
   "source": [
    "nh3_transport_sensi_EF = pd.DataFrame(sensitivity, EF_sensi, columns=['NH3 transport emission [g CO2eq/kg H2]'])\n",
    "nh3_transport_sensi_EF.index.name = 'Electricity emission [g CO2eq/KWh]]'\n",
    "nh3_transport_sensi_EF\n"
   ],
   "metadata": {
    "collapsed": false,
    "pycharm": {
     "name": "#%%\n"
    }
   }
  },
  {
   "cell_type": "code",
   "execution_count": 152,
   "outputs": [
    {
     "data": {
      "text/plain": "                                           NH3 transport emission w/o recon [g CO2eq/kg H2]\nElectricity emission factor [g CO2eq/kWh]                                                  \n0                                                                                 16.265754\n20                                                                               104.407497\n40                                                                               192.549240\n60                                                                               280.690982\n80                                                                               368.832725\n100                                                                              456.974467\n120                                                                              545.116210\n140                                                                              633.257952\n160                                                                              721.399695\n180                                                                              809.541438\n200                                                                              897.683180\n220                                                                              985.824923\n240                                                                             1073.966665\n260                                                                             1162.108408\n280                                                                             1250.250150\n300                                                                             1338.391893",
      "text/html": "<div>\n<style scoped>\n    .dataframe tbody tr th:only-of-type {\n        vertical-align: middle;\n    }\n\n    .dataframe tbody tr th {\n        vertical-align: top;\n    }\n\n    .dataframe thead th {\n        text-align: right;\n    }\n</style>\n<table border=\"1\" class=\"dataframe\">\n  <thead>\n    <tr style=\"text-align: right;\">\n      <th></th>\n      <th>NH3 transport emission w/o recon [g CO2eq/kg H2]</th>\n    </tr>\n    <tr>\n      <th>Electricity emission factor [g CO2eq/kWh]</th>\n      <th></th>\n    </tr>\n  </thead>\n  <tbody>\n    <tr>\n      <th>0</th>\n      <td>16.265754</td>\n    </tr>\n    <tr>\n      <th>20</th>\n      <td>104.407497</td>\n    </tr>\n    <tr>\n      <th>40</th>\n      <td>192.549240</td>\n    </tr>\n    <tr>\n      <th>60</th>\n      <td>280.690982</td>\n    </tr>\n    <tr>\n      <th>80</th>\n      <td>368.832725</td>\n    </tr>\n    <tr>\n      <th>100</th>\n      <td>456.974467</td>\n    </tr>\n    <tr>\n      <th>120</th>\n      <td>545.116210</td>\n    </tr>\n    <tr>\n      <th>140</th>\n      <td>633.257952</td>\n    </tr>\n    <tr>\n      <th>160</th>\n      <td>721.399695</td>\n    </tr>\n    <tr>\n      <th>180</th>\n      <td>809.541438</td>\n    </tr>\n    <tr>\n      <th>200</th>\n      <td>897.683180</td>\n    </tr>\n    <tr>\n      <th>220</th>\n      <td>985.824923</td>\n    </tr>\n    <tr>\n      <th>240</th>\n      <td>1073.966665</td>\n    </tr>\n    <tr>\n      <th>260</th>\n      <td>1162.108408</td>\n    </tr>\n    <tr>\n      <th>280</th>\n      <td>1250.250150</td>\n    </tr>\n    <tr>\n      <th>300</th>\n      <td>1338.391893</td>\n    </tr>\n  </tbody>\n</table>\n</div>"
     },
     "execution_count": 152,
     "metadata": {},
     "output_type": "execute_result"
    }
   ],
   "source": [
    "#nh3_transport_sensi_wo_recon = pd.DataFrame(sensitivity, EF_sensi, columns=['NH3 transport emission w/o recon [g CO2eq/kg H2]'])\n",
    "nh3_transport_sensi_wo_recon.index.name = 'Electricity emission factor [g CO2eq/kWh]'\n",
    "nh3_transport_sensi_wo_recon\n"
   ],
   "metadata": {
    "collapsed": false,
    "pycharm": {
     "name": "#%%\n"
    }
   }
  },
  {
   "cell_type": "code",
   "execution_count": null,
   "outputs": [],
   "source": [
    "# Create csv file from results dataframe\n",
    "output_file = os.path.join(path_csv, 'NH3_EF_sensi_wo_recon.csv')\n",
    "nh3_transport_sensi_wo_recon.to_csv(output_file, sep=';')"
   ],
   "metadata": {
    "collapsed": false,
    "pycharm": {
     "name": "#%%\n"
    }
   }
  },
  {
   "cell_type": "markdown",
   "source": [
    "# Plots"
   ],
   "metadata": {
    "collapsed": false,
    "pycharm": {
     "name": "#%% md\n"
    }
   }
  },
  {
   "cell_type": "code",
   "execution_count": 180,
   "outputs": [
    {
     "data": {
      "text/plain": "<Figure size 1000x400 with 1 Axes>",
      "image/png": "[encoded data removed]"
     },
     "metadata": {},
     "output_type": "display_data"
    }
   ],
   "source": [
    "fig, ax = plt.subplots(figsize=(10,4))\n",
    "#plt.subplot(1,2,1)\n",
    "\n",
    "\n",
    "plt.plot(lh2_transport_sensi_EF, color='navy', linestyle='solid', label = 'LH2')\n",
    "plt.plot(nh3_transport_sensi_EF, color='darkorange',linestyle='-', label = 'NH3')\n",
    "plt.plot(nh3_transport_sensi_wo_recon, color='darkorange',linestyle='--', label = 'NH3 w/o cracking')\n",
    "plt.plot(Pipeline_emissions_sensi_EF, color='slateblue',linestyle='-', label = 'Pipeline')\n",
    "\n",
    "plt.axvline(x=30, color='grey', linestyle = '-')\n",
    "plt.axvline(x=275, color='grey', linestyle = '-')\n",
    "plt.axvline(x=118, color='grey', linestyle = '-')\n",
    "plt.text(30,6000, 'Norway 2022', horizontalalignment='center', verticalalignment='center')\n",
    "plt.text(275,6000, 'EU 2021', horizontalalignment='center', verticalalignment='center')\n",
    "plt.text(118,6000, 'EU 2030', horizontalalignment='center', verticalalignment='center')\n",
    "\n",
    "plt.grid(True, axis='y')\n",
    "#plt.grid(True, axis='x')\n",
    "ax.set_axisbelow(True)\n",
    "plt.locator_params(axis='x', nbins=12)\n",
    "plt.ylabel('[g CO2eq/kg H2]')\n",
    "plt.xlabel('Electricity emission factor [g CO2eq/kWh]')\n",
    "#plt.ylim(0,3000)\n",
    "plt.legend(loc = 'upper left')\n",
    "\n",
    "\n",
    "\n",
    "title = 'Transport_EF_sensi'\n",
    "plt.savefig(path_plt + title + '.png', transparent=True)\n",
    "\n",
    "plt.show()"
   ],
   "metadata": {
    "collapsed": false,
    "pycharm": {
     "name": "#%%\n"
    }
   }
  },
  {
   "cell_type": "code",
   "execution_count": null,
   "outputs": [],
   "source": [],
   "metadata": {
    "collapsed": false,
    "pycharm": {
     "name": "#%%\n"
    }
   }
  }
 ],
 "metadata": {
  "kernelspec": {
   "display_name": "Python 3",
   "language": "python",
   "name": "python3"
  },
  "language_info": {
   "codemirror_mode": {
    "name": "ipython",
    "version": 2
   },
   "file_extension": ".py",
   "mimetype": "text/x-python",
   "name": "python",
   "nbconvert_exporter": "python",
   "pygments_lexer": "ipython2",
   "version": "2.7.6"
  }
 },
 "nbformat": 4,
 "nbformat_minor": 0
}