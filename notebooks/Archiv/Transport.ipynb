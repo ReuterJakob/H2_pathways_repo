{
 "cells": [
  {
   "cell_type": "code",
   "execution_count": 36,
   "outputs": [],
   "source": [
    "# Read techno-economic assumptions and transport distances for transport cost calculation\n",
    "import numpy as np\n",
    "import pandas as pd\n",
    "from matplotlib import pyplot as plt\n",
    "import os\n",
    "#import seaborne as sns\n"
   ],
   "metadata": {
    "collapsed": false,
    "pycharm": {
     "name": "#%%\n"
    }
   }
  },
  {
   "cell_type": "code",
   "execution_count": 37,
   "outputs": [
    {
     "data": {
      "text/plain": "                                       Pipelines  Pipeline High  Pipeline Low  \\\n0                         Technical Lifetime (y)          40.00         40.00   \n1                        Amortisation factor (%)           0.08          0.08   \n2                                CAPEX (mio$/km)           1.21           NaN   \n3                               CAPEX ($/tpa/km)           3.56          1.33   \n4                    design throughput (kt H2/y)         340.00       3400.00   \n5                      real throughput (kt H2/y)         255.00           NaN   \n6                     OPEX & Fuel (% of CAPEX/a)           0.05          0.05   \n7                                utilisation (%)           0.75          0.75   \n8   Cost of pipeline transport  ($/1000km/kg H2)           0.64          0.24   \n9                              Interest rate (%)           0.08          0.08   \n10                                           NaN            NaN           NaN   \n11                                           NaN            NaN           NaN   \n12                                           NaN            NaN           NaN   \n13                                           NaN            NaN           NaN   \n14                                           NaN            NaN           NaN   \n15                                           NaN            NaN           NaN   \n16                                           NaN            NaN           NaN   \n17                                           NaN            NaN           NaN   \n18                                           NaN            NaN           NaN   \n19                                           NaN            NaN           NaN   \n20                                           NaN            NaN           NaN   \n21                                           NaN            NaN           NaN   \n22                                           NaN            NaN           NaN   \n23                                           NaN            NaN           NaN   \n24                                           NaN            NaN           NaN   \n\n    Pipeline Retrofit  Unnamed: 4  Unnamed: 5 Unnamed: 6  \n0               40.00         NaN         NaN        NaN  \n1                0.08         NaN         NaN        NaN  \n2                 NaN         NaN         NaN        NaN  \n3                0.73         NaN         NaN        NaN  \n4             3400.00         NaN         NaN        NaN  \n5                 NaN         NaN         NaN        NaN  \n6                0.05         NaN         NaN        NaN  \n7                0.75         NaN         NaN        NaN  \n8                0.13         NaN         NaN        NaN  \n9                0.08         NaN         NaN        NaN  \n10                NaN         NaN         NaN        NaN  \n11                NaN         NaN         NaN        NaN  \n12                NaN         NaN         NaN        NaN  \n13                NaN         NaN         NaN        NaN  \n14                NaN         NaN         NaN        NaN  \n15                NaN         NaN         NaN        NaN  \n16                NaN         NaN         NaN        NaN  \n17                NaN         NaN         NaN        NaN  \n18                NaN         NaN         NaN        NaN  \n19                NaN         NaN         NaN        NaN  \n20                NaN         NaN         NaN        NaN  \n21                NaN         NaN         NaN        NaN  \n22                NaN         NaN         NaN        NaN  \n23                NaN         NaN         NaN        NaN  \n24                NaN         NaN         NaN          r  ",
      "text/html": "<div>\n<style scoped>\n    .dataframe tbody tr th:only-of-type {\n        vertical-align: middle;\n    }\n\n    .dataframe tbody tr th {\n        vertical-align: top;\n    }\n\n    .dataframe thead th {\n        text-align: right;\n    }\n</style>\n<table border=\"1\" class=\"dataframe\">\n  <thead>\n    <tr style=\"text-align: right;\">\n      <th></th>\n      <th>Pipelines</th>\n      <th>Pipeline High</th>\n      <th>Pipeline Low</th>\n      <th>Pipeline Retrofit</th>\n      <th>Unnamed: 4</th>\n      <th>Unnamed: 5</th>\n      <th>Unnamed: 6</th>\n    </tr>\n  </thead>\n  <tbody>\n    <tr>\n      <th>0</th>\n      <td>Technical Lifetime (y)</td>\n      <td>40.00</td>\n      <td>40.00</td>\n      <td>40.00</td>\n      <td>NaN</td>\n      <td>NaN</td>\n      <td>NaN</td>\n    </tr>\n    <tr>\n      <th>1</th>\n      <td>Amortisation factor (%)</td>\n      <td>0.08</td>\n      <td>0.08</td>\n      <td>0.08</td>\n      <td>NaN</td>\n      <td>NaN</td>\n      <td>NaN</td>\n    </tr>\n    <tr>\n      <th>2</th>\n      <td>CAPEX (mio$/km)</td>\n      <td>1.21</td>\n      <td>NaN</td>\n      <td>NaN</td>\n      <td>NaN</td>\n      <td>NaN</td>\n      <td>NaN</td>\n    </tr>\n    <tr>\n      <th>3</th>\n      <td>CAPEX ($/tpa/km)</td>\n      <td>3.56</td>\n      <td>1.33</td>\n      <td>0.73</td>\n      <td>NaN</td>\n      <td>NaN</td>\n      <td>NaN</td>\n    </tr>\n    <tr>\n      <th>4</th>\n      <td>design throughput (kt H2/y)</td>\n      <td>340.00</td>\n      <td>3400.00</td>\n      <td>3400.00</td>\n      <td>NaN</td>\n      <td>NaN</td>\n      <td>NaN</td>\n    </tr>\n    <tr>\n      <th>5</th>\n      <td>real throughput (kt H2/y)</td>\n      <td>255.00</td>\n      <td>NaN</td>\n      <td>NaN</td>\n      <td>NaN</td>\n      <td>NaN</td>\n      <td>NaN</td>\n    </tr>\n    <tr>\n      <th>6</th>\n      <td>OPEX &amp; Fuel (% of CAPEX/a)</td>\n      <td>0.05</td>\n      <td>0.05</td>\n      <td>0.05</td>\n      <td>NaN</td>\n      <td>NaN</td>\n      <td>NaN</td>\n    </tr>\n    <tr>\n      <th>7</th>\n      <td>utilisation (%)</td>\n      <td>0.75</td>\n      <td>0.75</td>\n      <td>0.75</td>\n      <td>NaN</td>\n      <td>NaN</td>\n      <td>NaN</td>\n    </tr>\n    <tr>\n      <th>8</th>\n      <td>Cost of pipeline transport  ($/1000km/kg H2)</td>\n      <td>0.64</td>\n      <td>0.24</td>\n      <td>0.13</td>\n      <td>NaN</td>\n      <td>NaN</td>\n      <td>NaN</td>\n    </tr>\n    <tr>\n      <th>9</th>\n      <td>Interest rate (%)</td>\n      <td>0.08</td>\n      <td>0.08</td>\n      <td>0.08</td>\n      <td>NaN</td>\n      <td>NaN</td>\n      <td>NaN</td>\n    </tr>\n    <tr>\n      <th>10</th>\n      <td>NaN</td>\n      <td>NaN</td>\n      <td>NaN</td>\n      <td>NaN</td>\n      <td>NaN</td>\n      <td>NaN</td>\n      <td>NaN</td>\n    </tr>\n    <tr>\n      <th>11</th>\n      <td>NaN</td>\n      <td>NaN</td>\n      <td>NaN</td>\n      <td>NaN</td>\n      <td>NaN</td>\n      <td>NaN</td>\n      <td>NaN</td>\n    </tr>\n    <tr>\n      <th>12</th>\n      <td>NaN</td>\n      <td>NaN</td>\n      <td>NaN</td>\n      <td>NaN</td>\n      <td>NaN</td>\n      <td>NaN</td>\n      <td>NaN</td>\n    </tr>\n    <tr>\n      <th>13</th>\n      <td>NaN</td>\n      <td>NaN</td>\n      <td>NaN</td>\n      <td>NaN</td>\n      <td>NaN</td>\n      <td>NaN</td>\n      <td>NaN</td>\n    </tr>\n    <tr>\n      <th>14</th>\n      <td>NaN</td>\n      <td>NaN</td>\n      <td>NaN</td>\n      <td>NaN</td>\n      <td>NaN</td>\n      <td>NaN</td>\n      <td>NaN</td>\n    </tr>\n    <tr>\n      <th>15</th>\n      <td>NaN</td>\n      <td>NaN</td>\n      <td>NaN</td>\n      <td>NaN</td>\n      <td>NaN</td>\n      <td>NaN</td>\n      <td>NaN</td>\n    </tr>\n    <tr>\n      <th>16</th>\n      <td>NaN</td>\n      <td>NaN</td>\n      <td>NaN</td>\n      <td>NaN</td>\n      <td>NaN</td>\n      <td>NaN</td>\n      <td>NaN</td>\n    </tr>\n    <tr>\n      <th>17</th>\n      <td>NaN</td>\n      <td>NaN</td>\n      <td>NaN</td>\n      <td>NaN</td>\n      <td>NaN</td>\n      <td>NaN</td>\n      <td>NaN</td>\n    </tr>\n    <tr>\n      <th>18</th>\n      <td>NaN</td>\n      <td>NaN</td>\n      <td>NaN</td>\n      <td>NaN</td>\n      <td>NaN</td>\n      <td>NaN</td>\n      <td>NaN</td>\n    </tr>\n    <tr>\n      <th>19</th>\n      <td>NaN</td>\n      <td>NaN</td>\n      <td>NaN</td>\n      <td>NaN</td>\n      <td>NaN</td>\n      <td>NaN</td>\n      <td>NaN</td>\n    </tr>\n    <tr>\n      <th>20</th>\n      <td>NaN</td>\n      <td>NaN</td>\n      <td>NaN</td>\n      <td>NaN</td>\n      <td>NaN</td>\n      <td>NaN</td>\n      <td>NaN</td>\n    </tr>\n    <tr>\n      <th>21</th>\n      <td>NaN</td>\n      <td>NaN</td>\n      <td>NaN</td>\n      <td>NaN</td>\n      <td>NaN</td>\n      <td>NaN</td>\n      <td>NaN</td>\n    </tr>\n    <tr>\n      <th>22</th>\n      <td>NaN</td>\n      <td>NaN</td>\n      <td>NaN</td>\n      <td>NaN</td>\n      <td>NaN</td>\n      <td>NaN</td>\n      <td>NaN</td>\n    </tr>\n    <tr>\n      <th>23</th>\n      <td>NaN</td>\n      <td>NaN</td>\n      <td>NaN</td>\n      <td>NaN</td>\n      <td>NaN</td>\n      <td>NaN</td>\n      <td>NaN</td>\n    </tr>\n    <tr>\n      <th>24</th>\n      <td>NaN</td>\n      <td>NaN</td>\n      <td>NaN</td>\n      <td>NaN</td>\n      <td>NaN</td>\n      <td>NaN</td>\n      <td>r</td>\n    </tr>\n  </tbody>\n</table>\n</div>"
     },
     "execution_count": 37,
     "metadata": {},
     "output_type": "execute_result"
    }
   ],
   "source": [
    "tea_tra = pd.read_csv(\"/Users/jakob/PycharmProjects/H2_pathways_repo/data/raw/tea_tra.csv\", delimiter=';', decimal=',')\n",
    "tea_tra"
   ],
   "metadata": {
    "collapsed": false,
    "pycharm": {
     "name": "#%%\n"
    }
   }
  },
  {
   "cell_type": "code",
   "execution_count": 38,
   "outputs": [
    {
     "data": {
      "text/plain": "                                       Pipelines     High       Low  Retrofit  \\\n0                                  Discount rate    0.080     0.080     0.080   \n1                         Technical Lifetime (y)   40.000    40.000    40.000   \n2                        Amortisation factor (%)    0.084     0.084     0.084   \n3                                CAPEX (mio$/km)    1.210       NaN       NaN   \n4                               CAPEX ($/tpa/km)    3.560     1.330     0.730   \n5                    design throughput (kt H2/y)  340.000  3400.000  3400.000   \n6                      real throughput (kt H2/y)  255.000       NaN       NaN   \n7                     OPEX & Fuel (% of CAPEX/a)    0.050     0.050     0.050   \n8                                utilisation (%)    0.750     0.750     0.750   \n9   Cost of pipeline transport  ($/1000km/kg H2)    0.640     0.240     0.130   \n10                                           NaN      NaN       NaN       NaN   \n11                                           NaN      NaN       NaN       NaN   \n12                                           NaN      NaN       NaN       NaN   \n13                                           NaN      NaN       NaN       NaN   \n14                                           NaN      NaN       NaN       NaN   \n15                                           NaN      NaN       NaN       NaN   \n16                                           NaN      NaN       NaN       NaN   \n17                                           NaN      NaN       NaN       NaN   \n18                                           NaN      NaN       NaN       NaN   \n19                                           NaN      NaN       NaN       NaN   \n20                                           NaN      NaN       NaN       NaN   \n21                                           NaN      NaN       NaN       NaN   \n22                                           NaN      NaN       NaN       NaN   \n23                                           NaN      NaN       NaN       NaN   \n24                                           NaN      NaN       NaN       NaN   \n25                                           NaN      NaN       NaN       NaN   \n\n   Unnamed: 4  \n0         NaN  \n1         NaN  \n2         NaN  \n3         NaN  \n4         NaN  \n5         NaN  \n6         NaN  \n7         NaN  \n8         NaN  \n9         NaN  \n10        NaN  \n11        NaN  \n12        NaN  \n13        NaN  \n14        NaN  \n15        NaN  \n16        NaN  \n17        NaN  \n18        NaN  \n19        NaN  \n20        NaN  \n21        NaN  \n22        NaN  \n23        NaN  \n24        NaN  \n25          r  ",
      "text/html": "<div>\n<style scoped>\n    .dataframe tbody tr th:only-of-type {\n        vertical-align: middle;\n    }\n\n    .dataframe tbody tr th {\n        vertical-align: top;\n    }\n\n    .dataframe thead th {\n        text-align: right;\n    }\n</style>\n<table border=\"1\" class=\"dataframe\">\n  <thead>\n    <tr style=\"text-align: right;\">\n      <th></th>\n      <th>Pipelines</th>\n      <th>High</th>\n      <th>Low</th>\n      <th>Retrofit</th>\n      <th>Unnamed: 4</th>\n    </tr>\n  </thead>\n  <tbody>\n    <tr>\n      <th>0</th>\n      <td>Discount rate</td>\n      <td>0.080</td>\n      <td>0.080</td>\n      <td>0.080</td>\n      <td>NaN</td>\n    </tr>\n    <tr>\n      <th>1</th>\n      <td>Technical Lifetime (y)</td>\n      <td>40.000</td>\n      <td>40.000</td>\n      <td>40.000</td>\n      <td>NaN</td>\n    </tr>\n    <tr>\n      <th>2</th>\n      <td>Amortisation factor (%)</td>\n      <td>0.084</td>\n      <td>0.084</td>\n      <td>0.084</td>\n      <td>NaN</td>\n    </tr>\n    <tr>\n      <th>3</th>\n      <td>CAPEX (mio$/km)</td>\n      <td>1.210</td>\n      <td>NaN</td>\n      <td>NaN</td>\n      <td>NaN</td>\n    </tr>\n    <tr>\n      <th>4</th>\n      <td>CAPEX ($/tpa/km)</td>\n      <td>3.560</td>\n      <td>1.330</td>\n      <td>0.730</td>\n      <td>NaN</td>\n    </tr>\n    <tr>\n      <th>5</th>\n      <td>design throughput (kt H2/y)</td>\n      <td>340.000</td>\n      <td>3400.000</td>\n      <td>3400.000</td>\n      <td>NaN</td>\n    </tr>\n    <tr>\n      <th>6</th>\n      <td>real throughput (kt H2/y)</td>\n      <td>255.000</td>\n      <td>NaN</td>\n      <td>NaN</td>\n      <td>NaN</td>\n    </tr>\n    <tr>\n      <th>7</th>\n      <td>OPEX &amp; Fuel (% of CAPEX/a)</td>\n      <td>0.050</td>\n      <td>0.050</td>\n      <td>0.050</td>\n      <td>NaN</td>\n    </tr>\n    <tr>\n      <th>8</th>\n      <td>utilisation (%)</td>\n      <td>0.750</td>\n      <td>0.750</td>\n      <td>0.750</td>\n      <td>NaN</td>\n    </tr>\n    <tr>\n      <th>9</th>\n      <td>Cost of pipeline transport  ($/1000km/kg H2)</td>\n      <td>0.640</td>\n      <td>0.240</td>\n      <td>0.130</td>\n      <td>NaN</td>\n    </tr>\n    <tr>\n      <th>10</th>\n      <td>NaN</td>\n      <td>NaN</td>\n      <td>NaN</td>\n      <td>NaN</td>\n      <td>NaN</td>\n    </tr>\n    <tr>\n      <th>11</th>\n      <td>NaN</td>\n      <td>NaN</td>\n      <td>NaN</td>\n      <td>NaN</td>\n      <td>NaN</td>\n    </tr>\n    <tr>\n      <th>12</th>\n      <td>NaN</td>\n      <td>NaN</td>\n      <td>NaN</td>\n      <td>NaN</td>\n      <td>NaN</td>\n    </tr>\n    <tr>\n      <th>13</th>\n      <td>NaN</td>\n      <td>NaN</td>\n      <td>NaN</td>\n      <td>NaN</td>\n      <td>NaN</td>\n    </tr>\n    <tr>\n      <th>14</th>\n      <td>NaN</td>\n      <td>NaN</td>\n      <td>NaN</td>\n      <td>NaN</td>\n      <td>NaN</td>\n    </tr>\n    <tr>\n      <th>15</th>\n      <td>NaN</td>\n      <td>NaN</td>\n      <td>NaN</td>\n      <td>NaN</td>\n      <td>NaN</td>\n    </tr>\n    <tr>\n      <th>16</th>\n      <td>NaN</td>\n      <td>NaN</td>\n      <td>NaN</td>\n      <td>NaN</td>\n      <td>NaN</td>\n    </tr>\n    <tr>\n      <th>17</th>\n      <td>NaN</td>\n      <td>NaN</td>\n      <td>NaN</td>\n      <td>NaN</td>\n      <td>NaN</td>\n    </tr>\n    <tr>\n      <th>18</th>\n      <td>NaN</td>\n      <td>NaN</td>\n      <td>NaN</td>\n      <td>NaN</td>\n      <td>NaN</td>\n    </tr>\n    <tr>\n      <th>19</th>\n      <td>NaN</td>\n      <td>NaN</td>\n      <td>NaN</td>\n      <td>NaN</td>\n      <td>NaN</td>\n    </tr>\n    <tr>\n      <th>20</th>\n      <td>NaN</td>\n      <td>NaN</td>\n      <td>NaN</td>\n      <td>NaN</td>\n      <td>NaN</td>\n    </tr>\n    <tr>\n      <th>21</th>\n      <td>NaN</td>\n      <td>NaN</td>\n      <td>NaN</td>\n      <td>NaN</td>\n      <td>NaN</td>\n    </tr>\n    <tr>\n      <th>22</th>\n      <td>NaN</td>\n      <td>NaN</td>\n      <td>NaN</td>\n      <td>NaN</td>\n      <td>NaN</td>\n    </tr>\n    <tr>\n      <th>23</th>\n      <td>NaN</td>\n      <td>NaN</td>\n      <td>NaN</td>\n      <td>NaN</td>\n      <td>NaN</td>\n    </tr>\n    <tr>\n      <th>24</th>\n      <td>NaN</td>\n      <td>NaN</td>\n      <td>NaN</td>\n      <td>NaN</td>\n      <td>NaN</td>\n    </tr>\n    <tr>\n      <th>25</th>\n      <td>NaN</td>\n      <td>NaN</td>\n      <td>NaN</td>\n      <td>NaN</td>\n      <td>r</td>\n    </tr>\n  </tbody>\n</table>\n</div>"
     },
     "execution_count": 38,
     "metadata": {},
     "output_type": "execute_result"
    }
   ],
   "source": [
    "#Definition of variables for pipeline transport costs\n",
    "tea_pipe = pd.read_csv(\"/Users/jakob/PycharmProjects/H2_pathways_repo/data/raw/tea_pipe.csv\", delimiter=';', decimal=',')\n",
    "tea_pipe"
   ],
   "metadata": {
    "collapsed": false,
    "pycharm": {
     "name": "#%%\n"
    }
   }
  },
  {
   "cell_type": "code",
   "execution_count": 39,
   "outputs": [
    {
     "data": {
      "text/plain": "           Origin_Country Destination_Country  sea distance (km)  \\\n0    United Arab Emirates             Germany           12443.10   \n1                  Angola             Germany            9809.65   \n2               Argentina             Germany           14063.90   \n3                 Austria             Germany            6005.96   \n4               Australia             Germany           21212.10   \n..                    ...                 ...                ...   \n955           Philippines               China            1782.35   \n956               Iceland               China           20454.60   \n957      Papua New Guinea               China            6298.52   \n958              Cameroon               China           19717.70   \n959          South Africa               China           12853.50   \n\n     onshore distance (km)  offshore distance (km) Starting point  \n0                      NaN                     NaN            NaN  \n1                      NaN                     NaN            NaN  \n2                      NaN                     NaN            NaN  \n3                    500.0                     0.0            NaN  \n4                      NaN                     NaN            NaN  \n..                     ...                     ...            ...  \n955                    NaN                     NaN            NaN  \n956                    NaN                     NaN            NaN  \n957                    NaN                     NaN            NaN  \n958                    NaN                     NaN            NaN  \n959                    NaN                     NaN            NaN  \n\n[960 rows x 6 columns]",
      "text/html": "<div>\n<style scoped>\n    .dataframe tbody tr th:only-of-type {\n        vertical-align: middle;\n    }\n\n    .dataframe tbody tr th {\n        vertical-align: top;\n    }\n\n    .dataframe thead th {\n        text-align: right;\n    }\n</style>\n<table border=\"1\" class=\"dataframe\">\n  <thead>\n    <tr style=\"text-align: right;\">\n      <th></th>\n      <th>Origin_Country</th>\n      <th>Destination_Country</th>\n      <th>sea distance (km)</th>\n      <th>onshore distance (km)</th>\n      <th>offshore distance (km)</th>\n      <th>Starting point</th>\n    </tr>\n  </thead>\n  <tbody>\n    <tr>\n      <th>0</th>\n      <td>United Arab Emirates</td>\n      <td>Germany</td>\n      <td>12443.10</td>\n      <td>NaN</td>\n      <td>NaN</td>\n      <td>NaN</td>\n    </tr>\n    <tr>\n      <th>1</th>\n      <td>Angola</td>\n      <td>Germany</td>\n      <td>9809.65</td>\n      <td>NaN</td>\n      <td>NaN</td>\n      <td>NaN</td>\n    </tr>\n    <tr>\n      <th>2</th>\n      <td>Argentina</td>\n      <td>Germany</td>\n      <td>14063.90</td>\n      <td>NaN</td>\n      <td>NaN</td>\n      <td>NaN</td>\n    </tr>\n    <tr>\n      <th>3</th>\n      <td>Austria</td>\n      <td>Germany</td>\n      <td>6005.96</td>\n      <td>500.0</td>\n      <td>0.0</td>\n      <td>NaN</td>\n    </tr>\n    <tr>\n      <th>4</th>\n      <td>Australia</td>\n      <td>Germany</td>\n      <td>21212.10</td>\n      <td>NaN</td>\n      <td>NaN</td>\n      <td>NaN</td>\n    </tr>\n    <tr>\n      <th>...</th>\n      <td>...</td>\n      <td>...</td>\n      <td>...</td>\n      <td>...</td>\n      <td>...</td>\n      <td>...</td>\n    </tr>\n    <tr>\n      <th>955</th>\n      <td>Philippines</td>\n      <td>China</td>\n      <td>1782.35</td>\n      <td>NaN</td>\n      <td>NaN</td>\n      <td>NaN</td>\n    </tr>\n    <tr>\n      <th>956</th>\n      <td>Iceland</td>\n      <td>China</td>\n      <td>20454.60</td>\n      <td>NaN</td>\n      <td>NaN</td>\n      <td>NaN</td>\n    </tr>\n    <tr>\n      <th>957</th>\n      <td>Papua New Guinea</td>\n      <td>China</td>\n      <td>6298.52</td>\n      <td>NaN</td>\n      <td>NaN</td>\n      <td>NaN</td>\n    </tr>\n    <tr>\n      <th>958</th>\n      <td>Cameroon</td>\n      <td>China</td>\n      <td>19717.70</td>\n      <td>NaN</td>\n      <td>NaN</td>\n      <td>NaN</td>\n    </tr>\n    <tr>\n      <th>959</th>\n      <td>South Africa</td>\n      <td>China</td>\n      <td>12853.50</td>\n      <td>NaN</td>\n      <td>NaN</td>\n      <td>NaN</td>\n    </tr>\n  </tbody>\n</table>\n<p>960 rows × 6 columns</p>\n</div>"
     },
     "execution_count": 39,
     "metadata": {},
     "output_type": "execute_result"
    }
   ],
   "source": [
    "#Definition of variables for pipeline transport costs\n",
    "tra_d = pd.read_csv(\"/Users/jakob/PycharmProjects/H2_pathways_repo/data/raw/transport_distance.csv\", delimiter=';', decimal=',')\n",
    "tra_d"
   ],
   "metadata": {
    "collapsed": false,
    "pycharm": {
     "name": "#%%\n"
    }
   }
  },
  {
   "cell_type": "code",
   "execution_count": 40,
   "outputs": [
    {
     "data": {
      "text/plain": "0.08"
     },
     "execution_count": 40,
     "metadata": {},
     "output_type": "execute_result"
    }
   ],
   "source": [
    "# WACC for all transport investments (pipelines, terminals, liquefaction plants)\n",
    "i_tra = float(tea_pipe[tea_pipe.Pipelines == 'Discount rate']['High'].values)\n",
    "i_tra"
   ],
   "metadata": {
    "collapsed": false,
    "pycharm": {
     "name": "#%%\n"
    }
   }
  },
  {
   "cell_type": "code",
   "execution_count": 98,
   "outputs": [
    {
     "data": {
      "text/plain": "                   Liquefaction          LH2  Unnamed: 2  Unnamed: 3  \\\n0                 Discount rate     0.080000         NaN         NaN   \n1              Lifetime (years)    30.000000         NaN         NaN   \n2           Amortisation Factor     0.088827         NaN         NaN   \n3   Installed capacity (ktH2/y)   260.000000         NaN         NaN   \n4           CAPEX (USD million)  1400.000000         NaN         NaN   \n5      Annual OPEX (% of CAPEX)     0.040000         NaN         NaN   \n6                  Availability     0.900000         NaN         NaN   \n7                CAPEX  ($/tpa)  5384.615385         NaN         NaN   \n8             Annual OPEX ($/t)   215.384615         NaN         NaN   \n9    Electricity use (kWh/kgH2)     6.100000         NaN         NaN   \n10                          NaN          NaN         NaN         NaN   \n11                          NaN          NaN         NaN         NaN   \n12                          NaN          NaN         NaN         NaN   \n13                          NaN          NaN         NaN         NaN   \n14                          NaN          NaN         NaN         NaN   \n15                          NaN          NaN         NaN         NaN   \n16                          NaN          NaN         NaN         NaN   \n17                          NaN          NaN         NaN         NaN   \n18                          NaN          NaN         NaN         NaN   \n19                          NaN          NaN         NaN         NaN   \n20                          NaN          NaN         NaN         NaN   \n21                          NaN          NaN         NaN         NaN   \n22                          NaN          NaN         NaN         NaN   \n23                          NaN          NaN         NaN         NaN   \n24                          NaN          NaN         NaN         NaN   \n\n    Unnamed: 4 Unnamed: 5  \n0          NaN        NaN  \n1          NaN        NaN  \n2          NaN        NaN  \n3          NaN        NaN  \n4          NaN        NaN  \n5          NaN        NaN  \n6          NaN        NaN  \n7          NaN        NaN  \n8          NaN        NaN  \n9          NaN        NaN  \n10         NaN        NaN  \n11         NaN        NaN  \n12         NaN        NaN  \n13         NaN        NaN  \n14         NaN        NaN  \n15         NaN        NaN  \n16         NaN        NaN  \n17         NaN        NaN  \n18         NaN        NaN  \n19         NaN        NaN  \n20         NaN        NaN  \n21         NaN        NaN  \n22         NaN        NaN  \n23         NaN        NaN  \n24         NaN          r  ",
      "text/html": "<div>\n<style scoped>\n    .dataframe tbody tr th:only-of-type {\n        vertical-align: middle;\n    }\n\n    .dataframe tbody tr th {\n        vertical-align: top;\n    }\n\n    .dataframe thead th {\n        text-align: right;\n    }\n</style>\n<table border=\"1\" class=\"dataframe\">\n  <thead>\n    <tr style=\"text-align: right;\">\n      <th></th>\n      <th>Liquefaction</th>\n      <th>LH2</th>\n      <th>Unnamed: 2</th>\n      <th>Unnamed: 3</th>\n      <th>Unnamed: 4</th>\n      <th>Unnamed: 5</th>\n    </tr>\n  </thead>\n  <tbody>\n    <tr>\n      <th>0</th>\n      <td>Discount rate</td>\n      <td>0.080000</td>\n      <td>NaN</td>\n      <td>NaN</td>\n      <td>NaN</td>\n      <td>NaN</td>\n    </tr>\n    <tr>\n      <th>1</th>\n      <td>Lifetime (years)</td>\n      <td>30.000000</td>\n      <td>NaN</td>\n      <td>NaN</td>\n      <td>NaN</td>\n      <td>NaN</td>\n    </tr>\n    <tr>\n      <th>2</th>\n      <td>Amortisation Factor</td>\n      <td>0.088827</td>\n      <td>NaN</td>\n      <td>NaN</td>\n      <td>NaN</td>\n      <td>NaN</td>\n    </tr>\n    <tr>\n      <th>3</th>\n      <td>Installed capacity (ktH2/y)</td>\n      <td>260.000000</td>\n      <td>NaN</td>\n      <td>NaN</td>\n      <td>NaN</td>\n      <td>NaN</td>\n    </tr>\n    <tr>\n      <th>4</th>\n      <td>CAPEX (USD million)</td>\n      <td>1400.000000</td>\n      <td>NaN</td>\n      <td>NaN</td>\n      <td>NaN</td>\n      <td>NaN</td>\n    </tr>\n    <tr>\n      <th>5</th>\n      <td>Annual OPEX (% of CAPEX)</td>\n      <td>0.040000</td>\n      <td>NaN</td>\n      <td>NaN</td>\n      <td>NaN</td>\n      <td>NaN</td>\n    </tr>\n    <tr>\n      <th>6</th>\n      <td>Availability</td>\n      <td>0.900000</td>\n      <td>NaN</td>\n      <td>NaN</td>\n      <td>NaN</td>\n      <td>NaN</td>\n    </tr>\n    <tr>\n      <th>7</th>\n      <td>CAPEX  ($/tpa)</td>\n      <td>5384.615385</td>\n      <td>NaN</td>\n      <td>NaN</td>\n      <td>NaN</td>\n      <td>NaN</td>\n    </tr>\n    <tr>\n      <th>8</th>\n      <td>Annual OPEX ($/t)</td>\n      <td>215.384615</td>\n      <td>NaN</td>\n      <td>NaN</td>\n      <td>NaN</td>\n      <td>NaN</td>\n    </tr>\n    <tr>\n      <th>9</th>\n      <td>Electricity use (kWh/kgH2)</td>\n      <td>6.100000</td>\n      <td>NaN</td>\n      <td>NaN</td>\n      <td>NaN</td>\n      <td>NaN</td>\n    </tr>\n    <tr>\n      <th>10</th>\n      <td>NaN</td>\n      <td>NaN</td>\n      <td>NaN</td>\n      <td>NaN</td>\n      <td>NaN</td>\n      <td>NaN</td>\n    </tr>\n    <tr>\n      <th>11</th>\n      <td>NaN</td>\n      <td>NaN</td>\n      <td>NaN</td>\n      <td>NaN</td>\n      <td>NaN</td>\n      <td>NaN</td>\n    </tr>\n    <tr>\n      <th>12</th>\n      <td>NaN</td>\n      <td>NaN</td>\n      <td>NaN</td>\n      <td>NaN</td>\n      <td>NaN</td>\n      <td>NaN</td>\n    </tr>\n    <tr>\n      <th>13</th>\n      <td>NaN</td>\n      <td>NaN</td>\n      <td>NaN</td>\n      <td>NaN</td>\n      <td>NaN</td>\n      <td>NaN</td>\n    </tr>\n    <tr>\n      <th>14</th>\n      <td>NaN</td>\n      <td>NaN</td>\n      <td>NaN</td>\n      <td>NaN</td>\n      <td>NaN</td>\n      <td>NaN</td>\n    </tr>\n    <tr>\n      <th>15</th>\n      <td>NaN</td>\n      <td>NaN</td>\n      <td>NaN</td>\n      <td>NaN</td>\n      <td>NaN</td>\n      <td>NaN</td>\n    </tr>\n    <tr>\n      <th>16</th>\n      <td>NaN</td>\n      <td>NaN</td>\n      <td>NaN</td>\n      <td>NaN</td>\n      <td>NaN</td>\n      <td>NaN</td>\n    </tr>\n    <tr>\n      <th>17</th>\n      <td>NaN</td>\n      <td>NaN</td>\n      <td>NaN</td>\n      <td>NaN</td>\n      <td>NaN</td>\n      <td>NaN</td>\n    </tr>\n    <tr>\n      <th>18</th>\n      <td>NaN</td>\n      <td>NaN</td>\n      <td>NaN</td>\n      <td>NaN</td>\n      <td>NaN</td>\n      <td>NaN</td>\n    </tr>\n    <tr>\n      <th>19</th>\n      <td>NaN</td>\n      <td>NaN</td>\n      <td>NaN</td>\n      <td>NaN</td>\n      <td>NaN</td>\n      <td>NaN</td>\n    </tr>\n    <tr>\n      <th>20</th>\n      <td>NaN</td>\n      <td>NaN</td>\n      <td>NaN</td>\n      <td>NaN</td>\n      <td>NaN</td>\n      <td>NaN</td>\n    </tr>\n    <tr>\n      <th>21</th>\n      <td>NaN</td>\n      <td>NaN</td>\n      <td>NaN</td>\n      <td>NaN</td>\n      <td>NaN</td>\n      <td>NaN</td>\n    </tr>\n    <tr>\n      <th>22</th>\n      <td>NaN</td>\n      <td>NaN</td>\n      <td>NaN</td>\n      <td>NaN</td>\n      <td>NaN</td>\n      <td>NaN</td>\n    </tr>\n    <tr>\n      <th>23</th>\n      <td>NaN</td>\n      <td>NaN</td>\n      <td>NaN</td>\n      <td>NaN</td>\n      <td>NaN</td>\n      <td>NaN</td>\n    </tr>\n    <tr>\n      <th>24</th>\n      <td>NaN</td>\n      <td>NaN</td>\n      <td>NaN</td>\n      <td>NaN</td>\n      <td>NaN</td>\n      <td>r</td>\n    </tr>\n  </tbody>\n</table>\n</div>"
     },
     "execution_count": 98,
     "metadata": {},
     "output_type": "execute_result"
    }
   ],
   "source": [
    "tea_liq = pd.read_csv(\"/Users/jakob/PycharmProjects/H2_pathways_repo/data/raw/tea_liquefaction.csv\", delimiter=';', decimal=',')\n",
    "tea_liq"
   ],
   "metadata": {
    "collapsed": false,
    "pycharm": {
     "name": "#%%\n"
    }
   }
  },
  {
   "cell_type": "markdown",
   "source": [
    "# Pipeline transport costs"
   ],
   "metadata": {
    "collapsed": false,
    "pycharm": {
     "name": "#%% md\n"
    }
   }
  },
  {
   "cell_type": "code",
   "execution_count": 73,
   "outputs": [
    {
     "data": {
      "text/plain": "40.0"
     },
     "execution_count": 73,
     "metadata": {},
     "output_type": "execute_result"
    }
   ],
   "source": [
    "# Economic lifetime for pipelines\n",
    "l_pipe = float(tea_pipe[tea_pipe.Pipelines == 'Technical Lifetime (y)']['High'].values)\n",
    "l_pipe"
   ],
   "metadata": {
    "collapsed": false,
    "pycharm": {
     "name": "#%%\n"
    }
   }
  },
  {
   "cell_type": "code",
   "execution_count": 74,
   "outputs": [
    {
     "data": {
      "text/plain": "0.08386016150058534"
     },
     "execution_count": 74,
     "metadata": {},
     "output_type": "execute_result"
    }
   ],
   "source": [
    "# Amortisation factor for onshore pipelines\n",
    "alpha = (i_tra * (1 + i_tra)**l_pipe)/(((1 + i_tra)**l_pipe) - 1)\n",
    "alpha"
   ],
   "metadata": {
    "collapsed": false,
    "pycharm": {
     "name": "#%%\n"
    }
   }
  },
  {
   "cell_type": "code",
   "execution_count": 75,
   "outputs": [
    {
     "data": {
      "text/plain": "0.75"
     },
     "execution_count": 75,
     "metadata": {},
     "output_type": "execute_result"
    }
   ],
   "source": [
    "# Utilisation of the pipeline in %\n",
    "pipe_use = float(tea_pipe[tea_pipe.Pipelines == 'utilisation (%)']['High'].values)\n",
    "pipe_use"
   ],
   "metadata": {
    "collapsed": false,
    "pycharm": {
     "name": "#%%\n"
    }
   }
  },
  {
   "cell_type": "code",
   "execution_count": 76,
   "outputs": [
    {
     "data": {
      "text/plain": "3.56"
     },
     "execution_count": 76,
     "metadata": {},
     "output_type": "execute_result"
    }
   ],
   "source": [
    "capex_pipe_offshore_EHB = float(tea_pipe[tea_pipe.Pipelines == 'CAPEX ($/tpa/km)']['High'].values)\n",
    "capex_pipe_offshore_EHB"
   ],
   "metadata": {
    "collapsed": false,
    "pycharm": {
     "name": "#%%\n"
    }
   }
  },
  {
   "cell_type": "code",
   "execution_count": 77,
   "outputs": [
    {
     "data": {
      "text/plain": "4.746666666666667"
     },
     "execution_count": 77,
     "metadata": {},
     "output_type": "execute_result"
    }
   ],
   "source": [
    "# Capex for onshore pipelines constant over time (3.56) divided by pipeline utilisation in [$/tpa/km]\n",
    "capex_on_high = capex_pipe_offshore_EHB/pipe_use\n",
    "capex_on_high"
   ],
   "metadata": {
    "collapsed": false,
    "pycharm": {
     "name": "#%%\n"
    }
   }
  },
  {
   "cell_type": "code",
   "execution_count": 78,
   "outputs": [
    {
     "data": {
      "text/plain": "0.05"
     },
     "execution_count": 78,
     "metadata": {},
     "output_type": "execute_result"
    }
   ],
   "source": [
    "opex_on_share = float(tea_pipe[tea_pipe.Pipelines == 'OPEX & Fuel (% of CAPEX/a)']['High'].values)\n",
    "opex_on_share"
   ],
   "metadata": {
    "collapsed": false,
    "pycharm": {
     "name": "#%%\n"
    }
   }
  },
  {
   "cell_type": "code",
   "execution_count": 79,
   "outputs": [
    {
     "data": {
      "text/plain": "0.23733333333333337"
     },
     "execution_count": 79,
     "metadata": {},
     "output_type": "execute_result"
    }
   ],
   "source": [
    "# Opex for onshore pipelines constant over time (opex and fuel use in % of capex/a) in [$/tpa/km]\n",
    "opex_on_high = capex_on_high * opex_on_share\n",
    "opex_on_high"
   ],
   "metadata": {
    "collapsed": false,
    "pycharm": {
     "name": "#%%\n"
    }
   }
  },
  {
   "cell_type": "code",
   "execution_count": 80,
   "outputs": [
    {
     "data": {
      "text/plain": "300.0"
     },
     "execution_count": 80,
     "metadata": {},
     "output_type": "execute_result"
    }
   ],
   "source": [
    "# Onshore pipeline distance between two countries [km]\n",
    "d_on = float(tra_d[(tra_d['Origin_Country'] == 'Norway') & (tra_d['Destination_Country'] == 'Germany')]['onshore distance (km)'].values)\n",
    "d_on"
   ],
   "metadata": {
    "collapsed": false,
    "pycharm": {
     "name": "#%%\n"
    }
   }
  },
  {
   "cell_type": "code",
   "execution_count": 81,
   "outputs": [
    {
     "data": {
      "text/plain": "0.08386016150058534"
     },
     "execution_count": 81,
     "metadata": {},
     "output_type": "execute_result"
    }
   ],
   "source": [
    "# Amortisation factor for offshore pipelines\n",
    "alpha = alpha\n",
    "alpha"
   ],
   "metadata": {
    "collapsed": false,
    "pycharm": {
     "name": "#%%\n"
    }
   }
  },
  {
   "cell_type": "code",
   "execution_count": 82,
   "outputs": [
    {
     "data": {
      "text/plain": "7.911111111111111"
     },
     "execution_count": 82,
     "metadata": {},
     "output_type": "execute_result"
    }
   ],
   "source": [
    "# Capex for offshore pipelines [$/km] - Offshore multiplicator = 1.25\n",
    "capex_off_high = 1.25 * capex_on_high/pipe_use\n",
    "capex_off_high"
   ],
   "metadata": {
    "collapsed": false,
    "pycharm": {
     "name": "#%%\n"
    }
   }
  },
  {
   "cell_type": "code",
   "execution_count": 83,
   "outputs": [
    {
     "data": {
      "text/plain": "0.2966666666666667"
     },
     "execution_count": 83,
     "metadata": {},
     "output_type": "execute_result"
    }
   ],
   "source": [
    "# Opex for offshore pipelines [$/km/a]\n",
    "opex_off_high = 1.25 * opex_on_high\n",
    "opex_off_high"
   ],
   "metadata": {
    "collapsed": false,
    "pycharm": {
     "name": "#%%\n"
    }
   }
  },
  {
   "cell_type": "code",
   "execution_count": 84,
   "outputs": [
    {
     "data": {
      "text/plain": "650.0"
     },
     "execution_count": 84,
     "metadata": {},
     "output_type": "execute_result"
    }
   ],
   "source": [
    "# Offshore pipeline distance between two countries [km]\n",
    "d_off = float(tra_d[(tra_d['Origin_Country'] == 'Norway') & (tra_d['Destination_Country'] == 'Germany')]['offshore distance (km)'].values)\n",
    "d_off"
   ],
   "metadata": {
    "collapsed": false,
    "pycharm": {
     "name": "#%%\n"
    }
   }
  },
  {
   "cell_type": "code",
   "execution_count": 85,
   "outputs": [
    {
     "data": {
      "text/plain": "      Pipeline_costs\nYears               \n2020             NaN\n2021             NaN\n2022             NaN\n2023             NaN\n2024             NaN\n2025             NaN\n2026             NaN\n2027             NaN\n2028             NaN\n2029             NaN\n2030             NaN\n2031             NaN\n2032             NaN\n2033             NaN\n2034             NaN\n2035             NaN\n2036             NaN\n2037             NaN\n2038             NaN\n2039             NaN\n2040             NaN\n2041             NaN\n2042             NaN\n2043             NaN\n2044             NaN\n2045             NaN\n2046             NaN\n2047             NaN\n2048             NaN\n2049             NaN\n2050             NaN",
      "text/html": "<div>\n<style scoped>\n    .dataframe tbody tr th:only-of-type {\n        vertical-align: middle;\n    }\n\n    .dataframe tbody tr th {\n        vertical-align: top;\n    }\n\n    .dataframe thead th {\n        text-align: right;\n    }\n</style>\n<table border=\"1\" class=\"dataframe\">\n  <thead>\n    <tr style=\"text-align: right;\">\n      <th></th>\n      <th>Pipeline_costs</th>\n    </tr>\n    <tr>\n      <th>Years</th>\n      <th></th>\n    </tr>\n  </thead>\n  <tbody>\n    <tr>\n      <th>2020</th>\n      <td>NaN</td>\n    </tr>\n    <tr>\n      <th>2021</th>\n      <td>NaN</td>\n    </tr>\n    <tr>\n      <th>2022</th>\n      <td>NaN</td>\n    </tr>\n    <tr>\n      <th>2023</th>\n      <td>NaN</td>\n    </tr>\n    <tr>\n      <th>2024</th>\n      <td>NaN</td>\n    </tr>\n    <tr>\n      <th>2025</th>\n      <td>NaN</td>\n    </tr>\n    <tr>\n      <th>2026</th>\n      <td>NaN</td>\n    </tr>\n    <tr>\n      <th>2027</th>\n      <td>NaN</td>\n    </tr>\n    <tr>\n      <th>2028</th>\n      <td>NaN</td>\n    </tr>\n    <tr>\n      <th>2029</th>\n      <td>NaN</td>\n    </tr>\n    <tr>\n      <th>2030</th>\n      <td>NaN</td>\n    </tr>\n    <tr>\n      <th>2031</th>\n      <td>NaN</td>\n    </tr>\n    <tr>\n      <th>2032</th>\n      <td>NaN</td>\n    </tr>\n    <tr>\n      <th>2033</th>\n      <td>NaN</td>\n    </tr>\n    <tr>\n      <th>2034</th>\n      <td>NaN</td>\n    </tr>\n    <tr>\n      <th>2035</th>\n      <td>NaN</td>\n    </tr>\n    <tr>\n      <th>2036</th>\n      <td>NaN</td>\n    </tr>\n    <tr>\n      <th>2037</th>\n      <td>NaN</td>\n    </tr>\n    <tr>\n      <th>2038</th>\n      <td>NaN</td>\n    </tr>\n    <tr>\n      <th>2039</th>\n      <td>NaN</td>\n    </tr>\n    <tr>\n      <th>2040</th>\n      <td>NaN</td>\n    </tr>\n    <tr>\n      <th>2041</th>\n      <td>NaN</td>\n    </tr>\n    <tr>\n      <th>2042</th>\n      <td>NaN</td>\n    </tr>\n    <tr>\n      <th>2043</th>\n      <td>NaN</td>\n    </tr>\n    <tr>\n      <th>2044</th>\n      <td>NaN</td>\n    </tr>\n    <tr>\n      <th>2045</th>\n      <td>NaN</td>\n    </tr>\n    <tr>\n      <th>2046</th>\n      <td>NaN</td>\n    </tr>\n    <tr>\n      <th>2047</th>\n      <td>NaN</td>\n    </tr>\n    <tr>\n      <th>2048</th>\n      <td>NaN</td>\n    </tr>\n    <tr>\n      <th>2049</th>\n      <td>NaN</td>\n    </tr>\n    <tr>\n      <th>2050</th>\n      <td>NaN</td>\n    </tr>\n  </tbody>\n</table>\n</div>"
     },
     "execution_count": 85,
     "metadata": {},
     "output_type": "execute_result"
    }
   ],
   "source": [
    "years = np.arange(2020,2051)\n",
    "result = pd.DataFrame(index=years, columns=['Pipeline_costs'])\n",
    "result.index.name = 'Years'\n",
    "result"
   ],
   "metadata": {
    "collapsed": false,
    "pycharm": {
     "name": "#%%\n"
    }
   }
  },
  {
   "cell_type": "code",
   "execution_count": 85,
   "outputs": [],
   "source": [],
   "metadata": {
    "collapsed": false,
    "pycharm": {
     "name": "#%%\n"
    }
   }
  },
  {
   "cell_type": "code",
   "execution_count": 86,
   "outputs": [
    {
     "data": {
      "text/plain": "0.8146777893376214"
     },
     "execution_count": 86,
     "metadata": {},
     "output_type": "execute_result"
    }
   ],
   "source": [
    "# Costs for pipeline transport [$/1000km/kg_h2] - assumed to be constant over time\n",
    "TC_pipe_high = ((alpha * capex_on_high + opex_on_high) * d_on + (alpha * capex_off_high + opex_off_high) * d_off)/1000\n",
    "TC_pipe_high"
   ],
   "metadata": {
    "collapsed": false,
    "pycharm": {
     "name": "#%%\n"
    }
   }
  },
  {
   "cell_type": "markdown",
   "source": [
    "# Total pipeline transport costs"
   ],
   "metadata": {
    "collapsed": false,
    "pycharm": {
     "name": "#%% md\n"
    }
   }
  },
  {
   "cell_type": "code",
   "execution_count": 87,
   "outputs": [
    {
     "data": {
      "text/plain": "      Pipeline_costs\nYears               \n2020        0.814678\n2021        0.814678\n2022        0.814678\n2023        0.814678\n2024        0.814678\n2025        0.814678\n2026        0.814678\n2027        0.814678\n2028        0.814678\n2029        0.814678\n2030        0.814678\n2031        0.814678\n2032        0.814678\n2033        0.814678\n2034        0.814678\n2035        0.814678\n2036        0.814678\n2037        0.814678\n2038        0.814678\n2039        0.814678\n2040        0.814678\n2041        0.814678\n2042        0.814678\n2043        0.814678\n2044        0.814678\n2045        0.814678\n2046        0.814678\n2047        0.814678\n2048        0.814678\n2049        0.814678\n2050        0.814678",
      "text/html": "<div>\n<style scoped>\n    .dataframe tbody tr th:only-of-type {\n        vertical-align: middle;\n    }\n\n    .dataframe tbody tr th {\n        vertical-align: top;\n    }\n\n    .dataframe thead th {\n        text-align: right;\n    }\n</style>\n<table border=\"1\" class=\"dataframe\">\n  <thead>\n    <tr style=\"text-align: right;\">\n      <th></th>\n      <th>Pipeline_costs</th>\n    </tr>\n    <tr>\n      <th>Years</th>\n      <th></th>\n    </tr>\n  </thead>\n  <tbody>\n    <tr>\n      <th>2020</th>\n      <td>0.814678</td>\n    </tr>\n    <tr>\n      <th>2021</th>\n      <td>0.814678</td>\n    </tr>\n    <tr>\n      <th>2022</th>\n      <td>0.814678</td>\n    </tr>\n    <tr>\n      <th>2023</th>\n      <td>0.814678</td>\n    </tr>\n    <tr>\n      <th>2024</th>\n      <td>0.814678</td>\n    </tr>\n    <tr>\n      <th>2025</th>\n      <td>0.814678</td>\n    </tr>\n    <tr>\n      <th>2026</th>\n      <td>0.814678</td>\n    </tr>\n    <tr>\n      <th>2027</th>\n      <td>0.814678</td>\n    </tr>\n    <tr>\n      <th>2028</th>\n      <td>0.814678</td>\n    </tr>\n    <tr>\n      <th>2029</th>\n      <td>0.814678</td>\n    </tr>\n    <tr>\n      <th>2030</th>\n      <td>0.814678</td>\n    </tr>\n    <tr>\n      <th>2031</th>\n      <td>0.814678</td>\n    </tr>\n    <tr>\n      <th>2032</th>\n      <td>0.814678</td>\n    </tr>\n    <tr>\n      <th>2033</th>\n      <td>0.814678</td>\n    </tr>\n    <tr>\n      <th>2034</th>\n      <td>0.814678</td>\n    </tr>\n    <tr>\n      <th>2035</th>\n      <td>0.814678</td>\n    </tr>\n    <tr>\n      <th>2036</th>\n      <td>0.814678</td>\n    </tr>\n    <tr>\n      <th>2037</th>\n      <td>0.814678</td>\n    </tr>\n    <tr>\n      <th>2038</th>\n      <td>0.814678</td>\n    </tr>\n    <tr>\n      <th>2039</th>\n      <td>0.814678</td>\n    </tr>\n    <tr>\n      <th>2040</th>\n      <td>0.814678</td>\n    </tr>\n    <tr>\n      <th>2041</th>\n      <td>0.814678</td>\n    </tr>\n    <tr>\n      <th>2042</th>\n      <td>0.814678</td>\n    </tr>\n    <tr>\n      <th>2043</th>\n      <td>0.814678</td>\n    </tr>\n    <tr>\n      <th>2044</th>\n      <td>0.814678</td>\n    </tr>\n    <tr>\n      <th>2045</th>\n      <td>0.814678</td>\n    </tr>\n    <tr>\n      <th>2046</th>\n      <td>0.814678</td>\n    </tr>\n    <tr>\n      <th>2047</th>\n      <td>0.814678</td>\n    </tr>\n    <tr>\n      <th>2048</th>\n      <td>0.814678</td>\n    </tr>\n    <tr>\n      <th>2049</th>\n      <td>0.814678</td>\n    </tr>\n    <tr>\n      <th>2050</th>\n      <td>0.814678</td>\n    </tr>\n  </tbody>\n</table>\n</div>"
     },
     "execution_count": 87,
     "metadata": {},
     "output_type": "execute_result"
    }
   ],
   "source": [
    "for year in years:\n",
    "    result.Pipeline_costs.loc[year] = TC_pipe_high\n",
    "result"
   ],
   "metadata": {
    "collapsed": false,
    "pycharm": {
     "name": "#%%\n"
    }
   }
  },
  {
   "cell_type": "code",
   "execution_count": 88,
   "outputs": [],
   "source": [
    "# Create csv file from results dataframe\n",
    "path=r'/Users/jakob/PycharmProjects/H2_pathways_repo/data/processed'\n",
    "output_file = os.path.join(path_csv,'Pipeline_costs.csv')\n",
    "result.to_csv(output_file, sep = ';')"
   ],
   "metadata": {
    "collapsed": false,
    "pycharm": {
     "name": "#%%\n"
    }
   }
  },
  {
   "cell_type": "code",
   "execution_count": 89,
   "outputs": [
    {
     "ename": "NameError",
     "evalue": "name 'LC' is not defined",
     "output_type": "error",
     "traceback": [
      "\u001B[0;31m---------------------------------------------------------------------------\u001B[0m",
      "\u001B[0;31mNameError\u001B[0m                                 Traceback (most recent call last)",
      "Input \u001B[0;32mIn [89]\u001B[0m, in \u001B[0;36m<cell line: 3>\u001B[0;34m()\u001B[0m\n\u001B[1;32m      1\u001B[0m \u001B[38;5;66;03m# Costs for seaborne transport via ship [$/kg_h2]\u001B[39;00m\n\u001B[0;32m----> 3\u001B[0m TC_sea \u001B[38;5;241m=\u001B[39m \u001B[43mLC\u001B[49m \u001B[38;5;241m+\u001B[39m EC \u001B[38;5;241m+\u001B[39m SC \u001B[38;5;241m*\u001B[39m IC\n",
      "\u001B[0;31mNameError\u001B[0m: name 'LC' is not defined"
     ]
    }
   ],
   "source": [
    "# Costs for seaborne transport via ship [$/kg_h2]\n",
    "\n",
    "TC_sea = LC + EC + SC * IC\n"
   ],
   "metadata": {
    "collapsed": false,
    "pycharm": {
     "name": "#%%\n"
    }
   }
  },
  {
   "cell_type": "code",
   "execution_count": 90,
   "outputs": [
    {
     "data": {
      "text/plain": "                   Liquefaction          LH2  Unnamed: 2  Unnamed: 3  \\\n0                 Discount rate     0.080000         NaN         NaN   \n1              Lifetime (years)    30.000000         NaN         NaN   \n2           Amortisation Factor     0.088827         NaN         NaN   \n3   Installed capacity (ktH2/y)   260.000000         NaN         NaN   \n4           CAPEX (USD million)  1400.000000         NaN         NaN   \n5      Annual OPEX (% of CAPEX)     0.040000         NaN         NaN   \n6                  Availability     0.900000         NaN         NaN   \n7                CAPEX  ($/tpa)  5384.615385         NaN         NaN   \n8             Annual OPEX ($/t)   215.384615         NaN         NaN   \n9    Electricity use (kWh/kgH2)     6.100000         NaN         NaN   \n10                          NaN          NaN         NaN         NaN   \n11                          NaN          NaN         NaN         NaN   \n12                          NaN          NaN         NaN         NaN   \n13                          NaN          NaN         NaN         NaN   \n14                          NaN          NaN         NaN         NaN   \n15                          NaN          NaN         NaN         NaN   \n16                          NaN          NaN         NaN         NaN   \n17                          NaN          NaN         NaN         NaN   \n18                          NaN          NaN         NaN         NaN   \n19                          NaN          NaN         NaN         NaN   \n20                          NaN          NaN         NaN         NaN   \n21                          NaN          NaN         NaN         NaN   \n22                          NaN          NaN         NaN         NaN   \n23                          NaN          NaN         NaN         NaN   \n24                          NaN          NaN         NaN         NaN   \n\n    Unnamed: 4 Unnamed: 5  \n0          NaN        NaN  \n1          NaN        NaN  \n2          NaN        NaN  \n3          NaN        NaN  \n4          NaN        NaN  \n5          NaN        NaN  \n6          NaN        NaN  \n7          NaN        NaN  \n8          NaN        NaN  \n9          NaN        NaN  \n10         NaN        NaN  \n11         NaN        NaN  \n12         NaN        NaN  \n13         NaN        NaN  \n14         NaN        NaN  \n15         NaN        NaN  \n16         NaN        NaN  \n17         NaN        NaN  \n18         NaN        NaN  \n19         NaN        NaN  \n20         NaN        NaN  \n21         NaN        NaN  \n22         NaN        NaN  \n23         NaN        NaN  \n24         NaN          r  ",
      "text/html": "<div>\n<style scoped>\n    .dataframe tbody tr th:only-of-type {\n        vertical-align: middle;\n    }\n\n    .dataframe tbody tr th {\n        vertical-align: top;\n    }\n\n    .dataframe thead th {\n        text-align: right;\n    }\n</style>\n<table border=\"1\" class=\"dataframe\">\n  <thead>\n    <tr style=\"text-align: right;\">\n      <th></th>\n      <th>Liquefaction</th>\n      <th>LH2</th>\n      <th>Unnamed: 2</th>\n      <th>Unnamed: 3</th>\n      <th>Unnamed: 4</th>\n      <th>Unnamed: 5</th>\n    </tr>\n  </thead>\n  <tbody>\n    <tr>\n      <th>0</th>\n      <td>Discount rate</td>\n      <td>0.080000</td>\n      <td>NaN</td>\n      <td>NaN</td>\n      <td>NaN</td>\n      <td>NaN</td>\n    </tr>\n    <tr>\n      <th>1</th>\n      <td>Lifetime (years)</td>\n      <td>30.000000</td>\n      <td>NaN</td>\n      <td>NaN</td>\n      <td>NaN</td>\n      <td>NaN</td>\n    </tr>\n    <tr>\n      <th>2</th>\n      <td>Amortisation Factor</td>\n      <td>0.088827</td>\n      <td>NaN</td>\n      <td>NaN</td>\n      <td>NaN</td>\n      <td>NaN</td>\n    </tr>\n    <tr>\n      <th>3</th>\n      <td>Installed capacity (ktH2/y)</td>\n      <td>260.000000</td>\n      <td>NaN</td>\n      <td>NaN</td>\n      <td>NaN</td>\n      <td>NaN</td>\n    </tr>\n    <tr>\n      <th>4</th>\n      <td>CAPEX (USD million)</td>\n      <td>1400.000000</td>\n      <td>NaN</td>\n      <td>NaN</td>\n      <td>NaN</td>\n      <td>NaN</td>\n    </tr>\n    <tr>\n      <th>5</th>\n      <td>Annual OPEX (% of CAPEX)</td>\n      <td>0.040000</td>\n      <td>NaN</td>\n      <td>NaN</td>\n      <td>NaN</td>\n      <td>NaN</td>\n    </tr>\n    <tr>\n      <th>6</th>\n      <td>Availability</td>\n      <td>0.900000</td>\n      <td>NaN</td>\n      <td>NaN</td>\n      <td>NaN</td>\n      <td>NaN</td>\n    </tr>\n    <tr>\n      <th>7</th>\n      <td>CAPEX  ($/tpa)</td>\n      <td>5384.615385</td>\n      <td>NaN</td>\n      <td>NaN</td>\n      <td>NaN</td>\n      <td>NaN</td>\n    </tr>\n    <tr>\n      <th>8</th>\n      <td>Annual OPEX ($/t)</td>\n      <td>215.384615</td>\n      <td>NaN</td>\n      <td>NaN</td>\n      <td>NaN</td>\n      <td>NaN</td>\n    </tr>\n    <tr>\n      <th>9</th>\n      <td>Electricity use (kWh/kgH2)</td>\n      <td>6.100000</td>\n      <td>NaN</td>\n      <td>NaN</td>\n      <td>NaN</td>\n      <td>NaN</td>\n    </tr>\n    <tr>\n      <th>10</th>\n      <td>NaN</td>\n      <td>NaN</td>\n      <td>NaN</td>\n      <td>NaN</td>\n      <td>NaN</td>\n      <td>NaN</td>\n    </tr>\n    <tr>\n      <th>11</th>\n      <td>NaN</td>\n      <td>NaN</td>\n      <td>NaN</td>\n      <td>NaN</td>\n      <td>NaN</td>\n      <td>NaN</td>\n    </tr>\n    <tr>\n      <th>12</th>\n      <td>NaN</td>\n      <td>NaN</td>\n      <td>NaN</td>\n      <td>NaN</td>\n      <td>NaN</td>\n      <td>NaN</td>\n    </tr>\n    <tr>\n      <th>13</th>\n      <td>NaN</td>\n      <td>NaN</td>\n      <td>NaN</td>\n      <td>NaN</td>\n      <td>NaN</td>\n      <td>NaN</td>\n    </tr>\n    <tr>\n      <th>14</th>\n      <td>NaN</td>\n      <td>NaN</td>\n      <td>NaN</td>\n      <td>NaN</td>\n      <td>NaN</td>\n      <td>NaN</td>\n    </tr>\n    <tr>\n      <th>15</th>\n      <td>NaN</td>\n      <td>NaN</td>\n      <td>NaN</td>\n      <td>NaN</td>\n      <td>NaN</td>\n      <td>NaN</td>\n    </tr>\n    <tr>\n      <th>16</th>\n      <td>NaN</td>\n      <td>NaN</td>\n      <td>NaN</td>\n      <td>NaN</td>\n      <td>NaN</td>\n      <td>NaN</td>\n    </tr>\n    <tr>\n      <th>17</th>\n      <td>NaN</td>\n      <td>NaN</td>\n      <td>NaN</td>\n      <td>NaN</td>\n      <td>NaN</td>\n      <td>NaN</td>\n    </tr>\n    <tr>\n      <th>18</th>\n      <td>NaN</td>\n      <td>NaN</td>\n      <td>NaN</td>\n      <td>NaN</td>\n      <td>NaN</td>\n      <td>NaN</td>\n    </tr>\n    <tr>\n      <th>19</th>\n      <td>NaN</td>\n      <td>NaN</td>\n      <td>NaN</td>\n      <td>NaN</td>\n      <td>NaN</td>\n      <td>NaN</td>\n    </tr>\n    <tr>\n      <th>20</th>\n      <td>NaN</td>\n      <td>NaN</td>\n      <td>NaN</td>\n      <td>NaN</td>\n      <td>NaN</td>\n      <td>NaN</td>\n    </tr>\n    <tr>\n      <th>21</th>\n      <td>NaN</td>\n      <td>NaN</td>\n      <td>NaN</td>\n      <td>NaN</td>\n      <td>NaN</td>\n      <td>NaN</td>\n    </tr>\n    <tr>\n      <th>22</th>\n      <td>NaN</td>\n      <td>NaN</td>\n      <td>NaN</td>\n      <td>NaN</td>\n      <td>NaN</td>\n      <td>NaN</td>\n    </tr>\n    <tr>\n      <th>23</th>\n      <td>NaN</td>\n      <td>NaN</td>\n      <td>NaN</td>\n      <td>NaN</td>\n      <td>NaN</td>\n      <td>NaN</td>\n    </tr>\n    <tr>\n      <th>24</th>\n      <td>NaN</td>\n      <td>NaN</td>\n      <td>NaN</td>\n      <td>NaN</td>\n      <td>NaN</td>\n      <td>r</td>\n    </tr>\n  </tbody>\n</table>\n</div>"
     },
     "execution_count": 90,
     "metadata": {},
     "output_type": "execute_result"
    }
   ],
   "source": [
    "## Definition of variables for the liquefaction costs\n",
    "tea_liq = pd.read_csv(\"/Users/jakob/PycharmProjects/H2_pathways_repo/data/raw/tea_liquefaction.csv\", delimiter=';', decimal=',')\n",
    "tea_liq"
   ],
   "metadata": {
    "collapsed": false,
    "pycharm": {
     "name": "#%%\n"
    }
   }
  },
  {
   "cell_type": "code",
   "execution_count": 91,
   "outputs": [
    {
     "data": {
      "text/plain": "    Years  United Arab Emirates      Angola  Argentina    Austria  Australia  \\\n0    2020             36.301651  121.494032  37.961027  46.683533  72.846428   \n1    2021             36.764515  119.445089  38.086072  47.002654  69.396730   \n2    2022             37.137776  119.580409  39.032196  47.209289  66.622798   \n3    2023             37.447974  124.653779  40.033404  47.346703  64.898776   \n4    2024             37.747898  131.547459  41.148255  47.274782  64.515503   \n5    2025             38.034395  137.405324  42.353416  46.957092  64.897234   \n6    2026             38.325658  141.246042  43.577189  46.416301  65.154315   \n7    2027             38.655501  142.819290  44.818521  46.118220  65.256396   \n8    2028             39.015448  143.098086  46.021991  45.738344  65.134265   \n9    2029             39.420264  143.128137  47.209332  45.399899  64.811898   \n10   2030             39.879905  143.581891  48.424751  45.133680  64.154242   \n11   2031             40.423146  144.601475  49.930146  45.186341  63.021915   \n12   2032             41.197197  146.175610  51.979795  45.484890  61.166709   \n13   2033             42.512085  148.190399  54.684063  46.121303  58.772284   \n14   2034             44.568446  150.666982  58.147858  46.635032  55.962938   \n15   2035             49.979325  153.434808  61.955516  46.781197  53.047058   \n16   2036             55.586840  156.434515  65.647254  46.584227  50.080127   \n17   2037             61.364718  159.482262  68.949623  46.646263  47.423045   \n18   2038             63.693403  161.980880  71.294983  47.050363  44.833557   \n19   2039             60.865807  164.154515  72.750086  47.904276  42.536878   \n20   2040             56.833270  165.963939  73.406573  48.699238  40.603424   \n21   2041             53.573530  167.313461  73.409441  49.609330  38.939740   \n22   2042             51.487746  168.277022  72.994100  50.705430  37.412280   \n23   2043             50.336783  168.972257  72.420411  51.925184  35.994851   \n24   2044             49.802097  169.434972  72.137700  53.193310  34.709238   \n25   2045             49.984233  169.825687  71.884240  54.221220  33.678074   \n26   2046             50.739234  170.198308  71.715794  54.704721  32.794352   \n27   2047             51.993049  170.217476  71.547577  54.535295  32.137023   \n28   2048             53.655694  170.039948  71.579187  53.994557  31.647242   \n29   2049             54.814324  170.172216  70.985088  53.715329  30.594356   \n30   2050             56.468935  169.924801  71.383909  53.994428  29.930791   \n\n    Azerbaijan    Estonia  Bangladesh    Belgium  ...  Venezuela      Yemen  \\\n0    12.385695  46.683533   30.935708  46.683533  ...  37.961027  36.301651   \n1    12.730095  47.002654   34.377750  47.002654  ...  38.086072  36.764515   \n2    12.992081  47.209289   37.892094  47.209289  ...  39.032196  37.137776   \n3    13.213518  47.346703   42.347643  47.346703  ...  40.033404  37.447974   \n4    13.398698  47.274782   48.070973  47.274782  ...  41.148255  37.747898   \n5    13.563521  46.957092   57.631134  46.957092  ...  42.353416  38.034395   \n6    13.733206  46.416301   70.329786  46.416301  ...  43.577189  38.325658   \n7    13.929400  46.118220   81.379762  46.118220  ...  44.818521  38.655501   \n8    14.150387  45.738344   90.169686  45.738344  ...  46.021991  39.015448   \n9    14.389268  45.399899   83.519064  45.399899  ...  47.209332  39.420264   \n10   14.638322  45.133680   73.063223  45.133680  ...  48.424751  39.879905   \n11   14.869214  45.186341   68.943699  45.186341  ...  49.930146  40.423146   \n12   15.081084  45.484890   68.521439  45.484890  ...  51.979795  41.197197   \n13   15.296936  46.121303   69.395509  46.121303  ...  54.684063  42.512085   \n14   15.505216  46.635032   69.989810  46.635032  ...  58.147858  44.568446   \n15   15.722322  46.781197   69.847260  46.781197  ...  61.955516  49.979325   \n16   15.962381  46.584227   70.251655  46.584227  ...  65.647254  55.586840   \n17   16.225374  46.646263   71.045372  46.646263  ...  68.949623  61.364718   \n18   16.497599  47.050363   71.638011  47.050363  ...  71.294983  63.693403   \n19   16.771477  47.904276   71.867375  47.904276  ...  72.750086  60.865807   \n20   17.029580  48.699238   71.732272  48.699238  ...  73.406573  56.833270   \n21   17.248520  49.609330   71.465927  49.609330  ...  73.409441  53.573530   \n22   17.422221  50.705430   71.400616  50.705430  ...  72.994100  51.487746   \n23   17.559580  51.925184   71.619262  51.925184  ...  72.420411  50.336783   \n24   17.695475  53.193310   71.827972  53.193310  ...  72.137700  49.802097   \n25   17.853404  54.221220   71.949026  54.221220  ...  71.884240  49.984233   \n26   18.063214  54.704721   72.030836  54.704721  ...  71.715794  50.739234   \n27   18.342093  54.535295   72.002515  54.535295  ...  71.547577  51.993049   \n28   18.694419  53.994557   71.887111  53.994557  ...  71.579187  53.655694   \n29   19.089225  53.715329   70.929807  53.715329  ...  70.985088  54.814324   \n30   19.563643  53.994428   70.322993  53.994428  ...  71.383909  56.468935   \n\n      Croatia  Mozambique     Vietnam  Philippines    Iceland  \\\n0   46.683533  121.494032   42.402642    42.402642  46.683533   \n1   47.002654  119.445089   44.089299    44.089299  47.002654   \n2   47.209289  119.580409   45.936088    45.936088  47.209289   \n3   47.346703  124.653779   47.946139    47.946139  47.346703   \n4   47.274782  131.547459   50.057150    50.057150  47.274782   \n5   46.957092  137.405324   52.193834    52.193834  46.957092   \n6   46.416301  141.246042   54.433745    54.433745  46.416301   \n7   46.118220  142.819290   57.196590    57.196590  46.118220   \n8   45.738344  143.098086   60.841314    60.841314  45.738344   \n9   45.399899  143.128137   65.569751    65.569751  45.399899   \n10  45.133680  143.581891   71.706069    71.706069  45.133680   \n11  45.186341  144.601475   78.903638    78.903638  45.186341   \n12  45.484890  146.175610   85.780770    85.780770  45.484890   \n13  46.121303  148.190399   91.351199    91.351199  46.121303   \n14  46.635032  150.666982   99.848567    99.848567  46.635032   \n15  46.781197  153.434808  101.816569   101.816569  46.781197   \n16  46.584227  156.434515   97.047328    97.047328  46.584227   \n17  46.646263  159.482262   89.762643    89.762643  46.646263   \n18  47.050363  161.980880   83.863653    83.863653  47.050363   \n19  47.904276  164.154515   79.654328    79.654328  47.904276   \n20  48.699238  165.963939   76.850941    76.850941  48.699238   \n21  49.609330  167.313461   75.383730    75.383730  49.609330   \n22  50.705430  168.277022   74.831710    74.831710  50.705430   \n23  51.925184  168.972257   74.676203    74.676203  51.925184   \n24  53.193310  169.434972   74.735059    74.735059  53.193310   \n25  54.221220  169.825687   74.746313    74.746313  54.221220   \n26  54.704721  170.198308   74.583895    74.583895  54.704721   \n27  54.535295  170.217476   74.409350    74.409350  54.535295   \n28  53.994557  170.039948   74.323923    74.323923  53.994557   \n29  53.715329  170.172216   74.282002    74.282002  53.715329   \n30  53.994428  169.924801   73.996739    73.996739  53.994428   \n\n    Papua New Guinea    Cameroon  South Africa  \n0          42.402642  121.494032    121.494032  \n1          44.089299  119.445089    119.445089  \n2          45.936088  119.580409    119.580409  \n3          47.946139  124.653779    124.653779  \n4          50.057150  131.547459    131.547459  \n5          52.193834  137.405324    137.405324  \n6          54.433745  141.246042    141.246042  \n7          57.196590  142.819290    142.819290  \n8          60.841314  143.098086    143.098086  \n9          65.569751  143.128137    143.128137  \n10         71.706069  143.581891    143.581891  \n11         78.903638  144.601475    144.601475  \n12         85.780770  146.175610    146.175610  \n13         91.351199  148.190399    148.190399  \n14         99.848567  150.666982    150.666982  \n15        101.816569  153.434808    153.434808  \n16         97.047328  156.434515    156.434515  \n17         89.762643  159.482262    159.482262  \n18         83.863653  161.980880    161.980880  \n19         79.654328  164.154515    164.154515  \n20         76.850941  165.963939    165.963939  \n21         75.383730  167.313461    167.313461  \n22         74.831710  168.277022    168.277022  \n23         74.676203  168.972257    168.972257  \n24         74.735059  169.434972    169.434972  \n25         74.746313  169.825687    169.825687  \n26         74.583895  170.198308    170.198308  \n27         74.409350  170.217476    170.217476  \n28         74.323923  170.039948    170.039948  \n29         74.282002  170.172216    170.172216  \n30         73.996739  169.924801    169.924801  \n\n[31 rows x 89 columns]",
      "text/html": "<div>\n<style scoped>\n    .dataframe tbody tr th:only-of-type {\n        vertical-align: middle;\n    }\n\n    .dataframe tbody tr th {\n        vertical-align: top;\n    }\n\n    .dataframe thead th {\n        text-align: right;\n    }\n</style>\n<table border=\"1\" class=\"dataframe\">\n  <thead>\n    <tr style=\"text-align: right;\">\n      <th></th>\n      <th>Years</th>\n      <th>United Arab Emirates</th>\n      <th>Angola</th>\n      <th>Argentina</th>\n      <th>Austria</th>\n      <th>Australia</th>\n      <th>Azerbaijan</th>\n      <th>Estonia</th>\n      <th>Bangladesh</th>\n      <th>Belgium</th>\n      <th>...</th>\n      <th>Venezuela</th>\n      <th>Yemen</th>\n      <th>Croatia</th>\n      <th>Mozambique</th>\n      <th>Vietnam</th>\n      <th>Philippines</th>\n      <th>Iceland</th>\n      <th>Papua New Guinea</th>\n      <th>Cameroon</th>\n      <th>South Africa</th>\n    </tr>\n  </thead>\n  <tbody>\n    <tr>\n      <th>0</th>\n      <td>2020</td>\n      <td>36.301651</td>\n      <td>121.494032</td>\n      <td>37.961027</td>\n      <td>46.683533</td>\n      <td>72.846428</td>\n      <td>12.385695</td>\n      <td>46.683533</td>\n      <td>30.935708</td>\n      <td>46.683533</td>\n      <td>...</td>\n      <td>37.961027</td>\n      <td>36.301651</td>\n      <td>46.683533</td>\n      <td>121.494032</td>\n      <td>42.402642</td>\n      <td>42.402642</td>\n      <td>46.683533</td>\n      <td>42.402642</td>\n      <td>121.494032</td>\n      <td>121.494032</td>\n    </tr>\n    <tr>\n      <th>1</th>\n      <td>2021</td>\n      <td>36.764515</td>\n      <td>119.445089</td>\n      <td>38.086072</td>\n      <td>47.002654</td>\n      <td>69.396730</td>\n      <td>12.730095</td>\n      <td>47.002654</td>\n      <td>34.377750</td>\n      <td>47.002654</td>\n      <td>...</td>\n      <td>38.086072</td>\n      <td>36.764515</td>\n      <td>47.002654</td>\n      <td>119.445089</td>\n      <td>44.089299</td>\n      <td>44.089299</td>\n      <td>47.002654</td>\n      <td>44.089299</td>\n      <td>119.445089</td>\n      <td>119.445089</td>\n    </tr>\n    <tr>\n      <th>2</th>\n      <td>2022</td>\n      <td>37.137776</td>\n      <td>119.580409</td>\n      <td>39.032196</td>\n      <td>47.209289</td>\n      <td>66.622798</td>\n      <td>12.992081</td>\n      <td>47.209289</td>\n      <td>37.892094</td>\n      <td>47.209289</td>\n      <td>...</td>\n      <td>39.032196</td>\n      <td>37.137776</td>\n      <td>47.209289</td>\n      <td>119.580409</td>\n      <td>45.936088</td>\n      <td>45.936088</td>\n      <td>47.209289</td>\n      <td>45.936088</td>\n      <td>119.580409</td>\n      <td>119.580409</td>\n    </tr>\n    <tr>\n      <th>3</th>\n      <td>2023</td>\n      <td>37.447974</td>\n      <td>124.653779</td>\n      <td>40.033404</td>\n      <td>47.346703</td>\n      <td>64.898776</td>\n      <td>13.213518</td>\n      <td>47.346703</td>\n      <td>42.347643</td>\n      <td>47.346703</td>\n      <td>...</td>\n      <td>40.033404</td>\n      <td>37.447974</td>\n      <td>47.346703</td>\n      <td>124.653779</td>\n      <td>47.946139</td>\n      <td>47.946139</td>\n      <td>47.346703</td>\n      <td>47.946139</td>\n      <td>124.653779</td>\n      <td>124.653779</td>\n    </tr>\n    <tr>\n      <th>4</th>\n      <td>2024</td>\n      <td>37.747898</td>\n      <td>131.547459</td>\n      <td>41.148255</td>\n      <td>47.274782</td>\n      <td>64.515503</td>\n      <td>13.398698</td>\n      <td>47.274782</td>\n      <td>48.070973</td>\n      <td>47.274782</td>\n      <td>...</td>\n      <td>41.148255</td>\n      <td>37.747898</td>\n      <td>47.274782</td>\n      <td>131.547459</td>\n      <td>50.057150</td>\n      <td>50.057150</td>\n      <td>47.274782</td>\n      <td>50.057150</td>\n      <td>131.547459</td>\n      <td>131.547459</td>\n    </tr>\n    <tr>\n      <th>5</th>\n      <td>2025</td>\n      <td>38.034395</td>\n      <td>137.405324</td>\n      <td>42.353416</td>\n      <td>46.957092</td>\n      <td>64.897234</td>\n      <td>13.563521</td>\n      <td>46.957092</td>\n      <td>57.631134</td>\n      <td>46.957092</td>\n      <td>...</td>\n      <td>42.353416</td>\n      <td>38.034395</td>\n      <td>46.957092</td>\n      <td>137.405324</td>\n      <td>52.193834</td>\n      <td>52.193834</td>\n      <td>46.957092</td>\n      <td>52.193834</td>\n      <td>137.405324</td>\n      <td>137.405324</td>\n    </tr>\n    <tr>\n      <th>6</th>\n      <td>2026</td>\n      <td>38.325658</td>\n      <td>141.246042</td>\n      <td>43.577189</td>\n      <td>46.416301</td>\n      <td>65.154315</td>\n      <td>13.733206</td>\n      <td>46.416301</td>\n      <td>70.329786</td>\n      <td>46.416301</td>\n      <td>...</td>\n      <td>43.577189</td>\n      <td>38.325658</td>\n      <td>46.416301</td>\n      <td>141.246042</td>\n      <td>54.433745</td>\n      <td>54.433745</td>\n      <td>46.416301</td>\n      <td>54.433745</td>\n      <td>141.246042</td>\n      <td>141.246042</td>\n    </tr>\n    <tr>\n      <th>7</th>\n      <td>2027</td>\n      <td>38.655501</td>\n      <td>142.819290</td>\n      <td>44.818521</td>\n      <td>46.118220</td>\n      <td>65.256396</td>\n      <td>13.929400</td>\n      <td>46.118220</td>\n      <td>81.379762</td>\n      <td>46.118220</td>\n      <td>...</td>\n      <td>44.818521</td>\n      <td>38.655501</td>\n      <td>46.118220</td>\n      <td>142.819290</td>\n      <td>57.196590</td>\n      <td>57.196590</td>\n      <td>46.118220</td>\n      <td>57.196590</td>\n      <td>142.819290</td>\n      <td>142.819290</td>\n    </tr>\n    <tr>\n      <th>8</th>\n      <td>2028</td>\n      <td>39.015448</td>\n      <td>143.098086</td>\n      <td>46.021991</td>\n      <td>45.738344</td>\n      <td>65.134265</td>\n      <td>14.150387</td>\n      <td>45.738344</td>\n      <td>90.169686</td>\n      <td>45.738344</td>\n      <td>...</td>\n      <td>46.021991</td>\n      <td>39.015448</td>\n      <td>45.738344</td>\n      <td>143.098086</td>\n      <td>60.841314</td>\n      <td>60.841314</td>\n      <td>45.738344</td>\n      <td>60.841314</td>\n      <td>143.098086</td>\n      <td>143.098086</td>\n    </tr>\n    <tr>\n      <th>9</th>\n      <td>2029</td>\n      <td>39.420264</td>\n      <td>143.128137</td>\n      <td>47.209332</td>\n      <td>45.399899</td>\n      <td>64.811898</td>\n      <td>14.389268</td>\n      <td>45.399899</td>\n      <td>83.519064</td>\n      <td>45.399899</td>\n      <td>...</td>\n      <td>47.209332</td>\n      <td>39.420264</td>\n      <td>45.399899</td>\n      <td>143.128137</td>\n      <td>65.569751</td>\n      <td>65.569751</td>\n      <td>45.399899</td>\n      <td>65.569751</td>\n      <td>143.128137</td>\n      <td>143.128137</td>\n    </tr>\n    <tr>\n      <th>10</th>\n      <td>2030</td>\n      <td>39.879905</td>\n      <td>143.581891</td>\n      <td>48.424751</td>\n      <td>45.133680</td>\n      <td>64.154242</td>\n      <td>14.638322</td>\n      <td>45.133680</td>\n      <td>73.063223</td>\n      <td>45.133680</td>\n      <td>...</td>\n      <td>48.424751</td>\n      <td>39.879905</td>\n      <td>45.133680</td>\n      <td>143.581891</td>\n      <td>71.706069</td>\n      <td>71.706069</td>\n      <td>45.133680</td>\n      <td>71.706069</td>\n      <td>143.581891</td>\n      <td>143.581891</td>\n    </tr>\n    <tr>\n      <th>11</th>\n      <td>2031</td>\n      <td>40.423146</td>\n      <td>144.601475</td>\n      <td>49.930146</td>\n      <td>45.186341</td>\n      <td>63.021915</td>\n      <td>14.869214</td>\n      <td>45.186341</td>\n      <td>68.943699</td>\n      <td>45.186341</td>\n      <td>...</td>\n      <td>49.930146</td>\n      <td>40.423146</td>\n      <td>45.186341</td>\n      <td>144.601475</td>\n      <td>78.903638</td>\n      <td>78.903638</td>\n      <td>45.186341</td>\n      <td>78.903638</td>\n      <td>144.601475</td>\n      <td>144.601475</td>\n    </tr>\n    <tr>\n      <th>12</th>\n      <td>2032</td>\n      <td>41.197197</td>\n      <td>146.175610</td>\n      <td>51.979795</td>\n      <td>45.484890</td>\n      <td>61.166709</td>\n      <td>15.081084</td>\n      <td>45.484890</td>\n      <td>68.521439</td>\n      <td>45.484890</td>\n      <td>...</td>\n      <td>51.979795</td>\n      <td>41.197197</td>\n      <td>45.484890</td>\n      <td>146.175610</td>\n      <td>85.780770</td>\n      <td>85.780770</td>\n      <td>45.484890</td>\n      <td>85.780770</td>\n      <td>146.175610</td>\n      <td>146.175610</td>\n    </tr>\n    <tr>\n      <th>13</th>\n      <td>2033</td>\n      <td>42.512085</td>\n      <td>148.190399</td>\n      <td>54.684063</td>\n      <td>46.121303</td>\n      <td>58.772284</td>\n      <td>15.296936</td>\n      <td>46.121303</td>\n      <td>69.395509</td>\n      <td>46.121303</td>\n      <td>...</td>\n      <td>54.684063</td>\n      <td>42.512085</td>\n      <td>46.121303</td>\n      <td>148.190399</td>\n      <td>91.351199</td>\n      <td>91.351199</td>\n      <td>46.121303</td>\n      <td>91.351199</td>\n      <td>148.190399</td>\n      <td>148.190399</td>\n    </tr>\n    <tr>\n      <th>14</th>\n      <td>2034</td>\n      <td>44.568446</td>\n      <td>150.666982</td>\n      <td>58.147858</td>\n      <td>46.635032</td>\n      <td>55.962938</td>\n      <td>15.505216</td>\n      <td>46.635032</td>\n      <td>69.989810</td>\n      <td>46.635032</td>\n      <td>...</td>\n      <td>58.147858</td>\n      <td>44.568446</td>\n      <td>46.635032</td>\n      <td>150.666982</td>\n      <td>99.848567</td>\n      <td>99.848567</td>\n      <td>46.635032</td>\n      <td>99.848567</td>\n      <td>150.666982</td>\n      <td>150.666982</td>\n    </tr>\n    <tr>\n      <th>15</th>\n      <td>2035</td>\n      <td>49.979325</td>\n      <td>153.434808</td>\n      <td>61.955516</td>\n      <td>46.781197</td>\n      <td>53.047058</td>\n      <td>15.722322</td>\n      <td>46.781197</td>\n      <td>69.847260</td>\n      <td>46.781197</td>\n      <td>...</td>\n      <td>61.955516</td>\n      <td>49.979325</td>\n      <td>46.781197</td>\n      <td>153.434808</td>\n      <td>101.816569</td>\n      <td>101.816569</td>\n      <td>46.781197</td>\n      <td>101.816569</td>\n      <td>153.434808</td>\n      <td>153.434808</td>\n    </tr>\n    <tr>\n      <th>16</th>\n      <td>2036</td>\n      <td>55.586840</td>\n      <td>156.434515</td>\n      <td>65.647254</td>\n      <td>46.584227</td>\n      <td>50.080127</td>\n      <td>15.962381</td>\n      <td>46.584227</td>\n      <td>70.251655</td>\n      <td>46.584227</td>\n      <td>...</td>\n      <td>65.647254</td>\n      <td>55.586840</td>\n      <td>46.584227</td>\n      <td>156.434515</td>\n      <td>97.047328</td>\n      <td>97.047328</td>\n      <td>46.584227</td>\n      <td>97.047328</td>\n      <td>156.434515</td>\n      <td>156.434515</td>\n    </tr>\n    <tr>\n      <th>17</th>\n      <td>2037</td>\n      <td>61.364718</td>\n      <td>159.482262</td>\n      <td>68.949623</td>\n      <td>46.646263</td>\n      <td>47.423045</td>\n      <td>16.225374</td>\n      <td>46.646263</td>\n      <td>71.045372</td>\n      <td>46.646263</td>\n      <td>...</td>\n      <td>68.949623</td>\n      <td>61.364718</td>\n      <td>46.646263</td>\n      <td>159.482262</td>\n      <td>89.762643</td>\n      <td>89.762643</td>\n      <td>46.646263</td>\n      <td>89.762643</td>\n      <td>159.482262</td>\n      <td>159.482262</td>\n    </tr>\n    <tr>\n      <th>18</th>\n      <td>2038</td>\n      <td>63.693403</td>\n      <td>161.980880</td>\n      <td>71.294983</td>\n      <td>47.050363</td>\n      <td>44.833557</td>\n      <td>16.497599</td>\n      <td>47.050363</td>\n      <td>71.638011</td>\n      <td>47.050363</td>\n      <td>...</td>\n      <td>71.294983</td>\n      <td>63.693403</td>\n      <td>47.050363</td>\n      <td>161.980880</td>\n      <td>83.863653</td>\n      <td>83.863653</td>\n      <td>47.050363</td>\n      <td>83.863653</td>\n      <td>161.980880</td>\n      <td>161.980880</td>\n    </tr>\n    <tr>\n      <th>19</th>\n      <td>2039</td>\n      <td>60.865807</td>\n      <td>164.154515</td>\n      <td>72.750086</td>\n      <td>47.904276</td>\n      <td>42.536878</td>\n      <td>16.771477</td>\n      <td>47.904276</td>\n      <td>71.867375</td>\n      <td>47.904276</td>\n      <td>...</td>\n      <td>72.750086</td>\n      <td>60.865807</td>\n      <td>47.904276</td>\n      <td>164.154515</td>\n      <td>79.654328</td>\n      <td>79.654328</td>\n      <td>47.904276</td>\n      <td>79.654328</td>\n      <td>164.154515</td>\n      <td>164.154515</td>\n    </tr>\n    <tr>\n      <th>20</th>\n      <td>2040</td>\n      <td>56.833270</td>\n      <td>165.963939</td>\n      <td>73.406573</td>\n      <td>48.699238</td>\n      <td>40.603424</td>\n      <td>17.029580</td>\n      <td>48.699238</td>\n      <td>71.732272</td>\n      <td>48.699238</td>\n      <td>...</td>\n      <td>73.406573</td>\n      <td>56.833270</td>\n      <td>48.699238</td>\n      <td>165.963939</td>\n      <td>76.850941</td>\n      <td>76.850941</td>\n      <td>48.699238</td>\n      <td>76.850941</td>\n      <td>165.963939</td>\n      <td>165.963939</td>\n    </tr>\n    <tr>\n      <th>21</th>\n      <td>2041</td>\n      <td>53.573530</td>\n      <td>167.313461</td>\n      <td>73.409441</td>\n      <td>49.609330</td>\n      <td>38.939740</td>\n      <td>17.248520</td>\n      <td>49.609330</td>\n      <td>71.465927</td>\n      <td>49.609330</td>\n      <td>...</td>\n      <td>73.409441</td>\n      <td>53.573530</td>\n      <td>49.609330</td>\n      <td>167.313461</td>\n      <td>75.383730</td>\n      <td>75.383730</td>\n      <td>49.609330</td>\n      <td>75.383730</td>\n      <td>167.313461</td>\n      <td>167.313461</td>\n    </tr>\n    <tr>\n      <th>22</th>\n      <td>2042</td>\n      <td>51.487746</td>\n      <td>168.277022</td>\n      <td>72.994100</td>\n      <td>50.705430</td>\n      <td>37.412280</td>\n      <td>17.422221</td>\n      <td>50.705430</td>\n      <td>71.400616</td>\n      <td>50.705430</td>\n      <td>...</td>\n      <td>72.994100</td>\n      <td>51.487746</td>\n      <td>50.705430</td>\n      <td>168.277022</td>\n      <td>74.831710</td>\n      <td>74.831710</td>\n      <td>50.705430</td>\n      <td>74.831710</td>\n      <td>168.277022</td>\n      <td>168.277022</td>\n    </tr>\n    <tr>\n      <th>23</th>\n      <td>2043</td>\n      <td>50.336783</td>\n      <td>168.972257</td>\n      <td>72.420411</td>\n      <td>51.925184</td>\n      <td>35.994851</td>\n      <td>17.559580</td>\n      <td>51.925184</td>\n      <td>71.619262</td>\n      <td>51.925184</td>\n      <td>...</td>\n      <td>72.420411</td>\n      <td>50.336783</td>\n      <td>51.925184</td>\n      <td>168.972257</td>\n      <td>74.676203</td>\n      <td>74.676203</td>\n      <td>51.925184</td>\n      <td>74.676203</td>\n      <td>168.972257</td>\n      <td>168.972257</td>\n    </tr>\n    <tr>\n      <th>24</th>\n      <td>2044</td>\n      <td>49.802097</td>\n      <td>169.434972</td>\n      <td>72.137700</td>\n      <td>53.193310</td>\n      <td>34.709238</td>\n      <td>17.695475</td>\n      <td>53.193310</td>\n      <td>71.827972</td>\n      <td>53.193310</td>\n      <td>...</td>\n      <td>72.137700</td>\n      <td>49.802097</td>\n      <td>53.193310</td>\n      <td>169.434972</td>\n      <td>74.735059</td>\n      <td>74.735059</td>\n      <td>53.193310</td>\n      <td>74.735059</td>\n      <td>169.434972</td>\n      <td>169.434972</td>\n    </tr>\n    <tr>\n      <th>25</th>\n      <td>2045</td>\n      <td>49.984233</td>\n      <td>169.825687</td>\n      <td>71.884240</td>\n      <td>54.221220</td>\n      <td>33.678074</td>\n      <td>17.853404</td>\n      <td>54.221220</td>\n      <td>71.949026</td>\n      <td>54.221220</td>\n      <td>...</td>\n      <td>71.884240</td>\n      <td>49.984233</td>\n      <td>54.221220</td>\n      <td>169.825687</td>\n      <td>74.746313</td>\n      <td>74.746313</td>\n      <td>54.221220</td>\n      <td>74.746313</td>\n      <td>169.825687</td>\n      <td>169.825687</td>\n    </tr>\n    <tr>\n      <th>26</th>\n      <td>2046</td>\n      <td>50.739234</td>\n      <td>170.198308</td>\n      <td>71.715794</td>\n      <td>54.704721</td>\n      <td>32.794352</td>\n      <td>18.063214</td>\n      <td>54.704721</td>\n      <td>72.030836</td>\n      <td>54.704721</td>\n      <td>...</td>\n      <td>71.715794</td>\n      <td>50.739234</td>\n      <td>54.704721</td>\n      <td>170.198308</td>\n      <td>74.583895</td>\n      <td>74.583895</td>\n      <td>54.704721</td>\n      <td>74.583895</td>\n      <td>170.198308</td>\n      <td>170.198308</td>\n    </tr>\n    <tr>\n      <th>27</th>\n      <td>2047</td>\n      <td>51.993049</td>\n      <td>170.217476</td>\n      <td>71.547577</td>\n      <td>54.535295</td>\n      <td>32.137023</td>\n      <td>18.342093</td>\n      <td>54.535295</td>\n      <td>72.002515</td>\n      <td>54.535295</td>\n      <td>...</td>\n      <td>71.547577</td>\n      <td>51.993049</td>\n      <td>54.535295</td>\n      <td>170.217476</td>\n      <td>74.409350</td>\n      <td>74.409350</td>\n      <td>54.535295</td>\n      <td>74.409350</td>\n      <td>170.217476</td>\n      <td>170.217476</td>\n    </tr>\n    <tr>\n      <th>28</th>\n      <td>2048</td>\n      <td>53.655694</td>\n      <td>170.039948</td>\n      <td>71.579187</td>\n      <td>53.994557</td>\n      <td>31.647242</td>\n      <td>18.694419</td>\n      <td>53.994557</td>\n      <td>71.887111</td>\n      <td>53.994557</td>\n      <td>...</td>\n      <td>71.579187</td>\n      <td>53.655694</td>\n      <td>53.994557</td>\n      <td>170.039948</td>\n      <td>74.323923</td>\n      <td>74.323923</td>\n      <td>53.994557</td>\n      <td>74.323923</td>\n      <td>170.039948</td>\n      <td>170.039948</td>\n    </tr>\n    <tr>\n      <th>29</th>\n      <td>2049</td>\n      <td>54.814324</td>\n      <td>170.172216</td>\n      <td>70.985088</td>\n      <td>53.715329</td>\n      <td>30.594356</td>\n      <td>19.089225</td>\n      <td>53.715329</td>\n      <td>70.929807</td>\n      <td>53.715329</td>\n      <td>...</td>\n      <td>70.985088</td>\n      <td>54.814324</td>\n      <td>53.715329</td>\n      <td>170.172216</td>\n      <td>74.282002</td>\n      <td>74.282002</td>\n      <td>53.715329</td>\n      <td>74.282002</td>\n      <td>170.172216</td>\n      <td>170.172216</td>\n    </tr>\n    <tr>\n      <th>30</th>\n      <td>2050</td>\n      <td>56.468935</td>\n      <td>169.924801</td>\n      <td>71.383909</td>\n      <td>53.994428</td>\n      <td>29.930791</td>\n      <td>19.563643</td>\n      <td>53.994428</td>\n      <td>70.322993</td>\n      <td>53.994428</td>\n      <td>...</td>\n      <td>71.383909</td>\n      <td>56.468935</td>\n      <td>53.994428</td>\n      <td>169.924801</td>\n      <td>73.996739</td>\n      <td>73.996739</td>\n      <td>53.994428</td>\n      <td>73.996739</td>\n      <td>169.924801</td>\n      <td>169.924801</td>\n    </tr>\n  </tbody>\n</table>\n<p>31 rows × 89 columns</p>\n</div>"
     },
     "execution_count": 91,
     "metadata": {},
     "output_type": "execute_result"
    }
   ],
   "source": [
    "p_electricity = pd.read_csv(\"/Users/jakob/PycharmProjects/H2_pathways_repo/data/raw/p_electricity.csv\", delimiter=';', decimal=',')\n",
    "p_electricity\n"
   ],
   "metadata": {
    "collapsed": false,
    "pycharm": {
     "name": "#%%\n"
    }
   }
  },
  {
   "cell_type": "code",
   "execution_count": 100,
   "outputs": [
    {
     "data": {
      "text/plain": "0.08"
     },
     "execution_count": 100,
     "metadata": {},
     "output_type": "execute_result"
    }
   ],
   "source": [
    "# WACC for liquefaction plant in %\n",
    "i_liq = 0.08\n",
    "i_liq"
   ],
   "metadata": {
    "collapsed": false,
    "pycharm": {
     "name": "#%%\n"
    }
   }
  },
  {
   "cell_type": "code",
   "execution_count": 101,
   "outputs": [
    {
     "data": {
      "text/plain": "30"
     },
     "execution_count": 101,
     "metadata": {},
     "output_type": "execute_result"
    }
   ],
   "source": [
    "# Economic lifetime for the liquefaction plant\n",
    "l_liq = 30\n",
    "l_liq"
   ],
   "metadata": {
    "collapsed": false,
    "pycharm": {
     "name": "#%%\n"
    }
   }
  },
  {
   "cell_type": "code",
   "execution_count": 102,
   "outputs": [
    {
     "data": {
      "text/plain": "0.08882743338727227"
     },
     "execution_count": 102,
     "metadata": {},
     "output_type": "execute_result"
    }
   ],
   "source": [
    "# Amortisation factor alpha for the liquefaction plant\n",
    "alpha_liq = (i_liq * (1 + i_liq) ** l_liq) /(((1 + i_liq) ** l_liq) - 1)\n",
    "alpha_liq\n"
   ],
   "metadata": {
    "collapsed": false,
    "pycharm": {
     "name": "#%%\n"
    }
   }
  },
  {
   "cell_type": "code",
   "execution_count": 103,
   "outputs": [
    {
     "ename": "KeyError",
     "evalue": "'Liquefaction Parameter'",
     "output_type": "error",
     "traceback": [
      "\u001B[0;31m---------------------------------------------------------------------------\u001B[0m",
      "\u001B[0;31mKeyError\u001B[0m                                  Traceback (most recent call last)",
      "File \u001B[0;32m~/PycharmProjects/H2_pathways_repo/env_H2/lib/python3.10/site-packages/pandas/core/indexes/base.py:3621\u001B[0m, in \u001B[0;36mIndex.get_loc\u001B[0;34m(self, key, method, tolerance)\u001B[0m\n\u001B[1;32m   3620\u001B[0m \u001B[38;5;28;01mtry\u001B[39;00m:\n\u001B[0;32m-> 3621\u001B[0m     \u001B[38;5;28;01mreturn\u001B[39;00m \u001B[38;5;28;43mself\u001B[39;49m\u001B[38;5;241;43m.\u001B[39;49m\u001B[43m_engine\u001B[49m\u001B[38;5;241;43m.\u001B[39;49m\u001B[43mget_loc\u001B[49m\u001B[43m(\u001B[49m\u001B[43mcasted_key\u001B[49m\u001B[43m)\u001B[49m\n\u001B[1;32m   3622\u001B[0m \u001B[38;5;28;01mexcept\u001B[39;00m \u001B[38;5;167;01mKeyError\u001B[39;00m \u001B[38;5;28;01mas\u001B[39;00m err:\n",
      "File \u001B[0;32m~/PycharmProjects/H2_pathways_repo/env_H2/lib/python3.10/site-packages/pandas/_libs/index.pyx:136\u001B[0m, in \u001B[0;36mpandas._libs.index.IndexEngine.get_loc\u001B[0;34m()\u001B[0m\n",
      "File \u001B[0;32m~/PycharmProjects/H2_pathways_repo/env_H2/lib/python3.10/site-packages/pandas/_libs/index.pyx:163\u001B[0m, in \u001B[0;36mpandas._libs.index.IndexEngine.get_loc\u001B[0;34m()\u001B[0m\n",
      "File \u001B[0;32mpandas/_libs/hashtable_class_helper.pxi:5198\u001B[0m, in \u001B[0;36mpandas._libs.hashtable.PyObjectHashTable.get_item\u001B[0;34m()\u001B[0m\n",
      "File \u001B[0;32mpandas/_libs/hashtable_class_helper.pxi:5206\u001B[0m, in \u001B[0;36mpandas._libs.hashtable.PyObjectHashTable.get_item\u001B[0;34m()\u001B[0m\n",
      "\u001B[0;31mKeyError\u001B[0m: 'Liquefaction Parameter'",
      "\nThe above exception was the direct cause of the following exception:\n",
      "\u001B[0;31mKeyError\u001B[0m                                  Traceback (most recent call last)",
      "Input \u001B[0;32mIn [103]\u001B[0m, in \u001B[0;36m<cell line: 2>\u001B[0;34m()\u001B[0m\n\u001B[1;32m      1\u001B[0m \u001B[38;5;66;03m# Capex for the liquefaction plant converted from [$/tpa] to [$/kg/a]\u001B[39;00m\n\u001B[0;32m----> 2\u001B[0m capex_liq_base \u001B[38;5;241m=\u001B[39m \u001B[38;5;28mfloat\u001B[39m(\u001B[43mtea_liq\u001B[49m\u001B[43m[\u001B[49m\u001B[43mtea_liq\u001B[49m\u001B[38;5;241;43m.\u001B[39;49m\u001B[43mLiquefaction\u001B[49m\u001B[43m \u001B[49m\u001B[38;5;241;43m==\u001B[39;49m\u001B[43m \u001B[49m\u001B[38;5;124;43m'\u001B[39;49m\u001B[38;5;124;43mCAPEX  ($/tpa)\u001B[39;49m\u001B[38;5;124;43m'\u001B[39;49m\u001B[43m]\u001B[49m\u001B[43m[\u001B[49m\u001B[38;5;124;43m'\u001B[39;49m\u001B[38;5;124;43mLiquefaction Parameter\u001B[39;49m\u001B[38;5;124;43m'\u001B[39;49m\u001B[43m]\u001B[49m\u001B[38;5;241m.\u001B[39mvalues)\u001B[38;5;241m/\u001B[39m\u001B[38;5;241m1000\u001B[39m\n\u001B[1;32m      3\u001B[0m capex_liq_base\n",
      "File \u001B[0;32m~/PycharmProjects/H2_pathways_repo/env_H2/lib/python3.10/site-packages/pandas/core/frame.py:3505\u001B[0m, in \u001B[0;36mDataFrame.__getitem__\u001B[0;34m(self, key)\u001B[0m\n\u001B[1;32m   3503\u001B[0m \u001B[38;5;28;01mif\u001B[39;00m \u001B[38;5;28mself\u001B[39m\u001B[38;5;241m.\u001B[39mcolumns\u001B[38;5;241m.\u001B[39mnlevels \u001B[38;5;241m>\u001B[39m \u001B[38;5;241m1\u001B[39m:\n\u001B[1;32m   3504\u001B[0m     \u001B[38;5;28;01mreturn\u001B[39;00m \u001B[38;5;28mself\u001B[39m\u001B[38;5;241m.\u001B[39m_getitem_multilevel(key)\n\u001B[0;32m-> 3505\u001B[0m indexer \u001B[38;5;241m=\u001B[39m \u001B[38;5;28;43mself\u001B[39;49m\u001B[38;5;241;43m.\u001B[39;49m\u001B[43mcolumns\u001B[49m\u001B[38;5;241;43m.\u001B[39;49m\u001B[43mget_loc\u001B[49m\u001B[43m(\u001B[49m\u001B[43mkey\u001B[49m\u001B[43m)\u001B[49m\n\u001B[1;32m   3506\u001B[0m \u001B[38;5;28;01mif\u001B[39;00m is_integer(indexer):\n\u001B[1;32m   3507\u001B[0m     indexer \u001B[38;5;241m=\u001B[39m [indexer]\n",
      "File \u001B[0;32m~/PycharmProjects/H2_pathways_repo/env_H2/lib/python3.10/site-packages/pandas/core/indexes/base.py:3623\u001B[0m, in \u001B[0;36mIndex.get_loc\u001B[0;34m(self, key, method, tolerance)\u001B[0m\n\u001B[1;32m   3621\u001B[0m     \u001B[38;5;28;01mreturn\u001B[39;00m \u001B[38;5;28mself\u001B[39m\u001B[38;5;241m.\u001B[39m_engine\u001B[38;5;241m.\u001B[39mget_loc(casted_key)\n\u001B[1;32m   3622\u001B[0m \u001B[38;5;28;01mexcept\u001B[39;00m \u001B[38;5;167;01mKeyError\u001B[39;00m \u001B[38;5;28;01mas\u001B[39;00m err:\n\u001B[0;32m-> 3623\u001B[0m     \u001B[38;5;28;01mraise\u001B[39;00m \u001B[38;5;167;01mKeyError\u001B[39;00m(key) \u001B[38;5;28;01mfrom\u001B[39;00m \u001B[38;5;21;01merr\u001B[39;00m\n\u001B[1;32m   3624\u001B[0m \u001B[38;5;28;01mexcept\u001B[39;00m \u001B[38;5;167;01mTypeError\u001B[39;00m:\n\u001B[1;32m   3625\u001B[0m     \u001B[38;5;66;03m# If we have a listlike key, _check_indexing_error will raise\u001B[39;00m\n\u001B[1;32m   3626\u001B[0m     \u001B[38;5;66;03m#  InvalidIndexError. Otherwise we fall through and re-raise\u001B[39;00m\n\u001B[1;32m   3627\u001B[0m     \u001B[38;5;66;03m#  the TypeError.\u001B[39;00m\n\u001B[1;32m   3628\u001B[0m     \u001B[38;5;28mself\u001B[39m\u001B[38;5;241m.\u001B[39m_check_indexing_error(key)\n",
      "\u001B[0;31mKeyError\u001B[0m: 'Liquefaction Parameter'"
     ]
    }
   ],
   "source": [
    "# Capex for the liquefaction plant converted from [$/tpa] to [$/kg/a]\n",
    "capex_liq_base = float(tea_liq[tea_liq.Liquefaction == 'CAPEX  ($/tpa)']['Liquefaction Parameter'].values)/1000\n",
    "capex_liq_base"
   ],
   "metadata": {
    "collapsed": false,
    "pycharm": {
     "name": "#%%\n"
    }
   }
  },
  {
   "cell_type": "code",
   "execution_count": 104,
   "outputs": [
    {
     "ename": "KeyError",
     "evalue": "'Liquefaction Parameter'",
     "output_type": "error",
     "traceback": [
      "\u001B[0;31m---------------------------------------------------------------------------\u001B[0m",
      "\u001B[0;31mKeyError\u001B[0m                                  Traceback (most recent call last)",
      "File \u001B[0;32m~/PycharmProjects/H2_pathways_repo/env_H2/lib/python3.10/site-packages/pandas/core/indexes/base.py:3621\u001B[0m, in \u001B[0;36mIndex.get_loc\u001B[0;34m(self, key, method, tolerance)\u001B[0m\n\u001B[1;32m   3620\u001B[0m \u001B[38;5;28;01mtry\u001B[39;00m:\n\u001B[0;32m-> 3621\u001B[0m     \u001B[38;5;28;01mreturn\u001B[39;00m \u001B[38;5;28;43mself\u001B[39;49m\u001B[38;5;241;43m.\u001B[39;49m\u001B[43m_engine\u001B[49m\u001B[38;5;241;43m.\u001B[39;49m\u001B[43mget_loc\u001B[49m\u001B[43m(\u001B[49m\u001B[43mcasted_key\u001B[49m\u001B[43m)\u001B[49m\n\u001B[1;32m   3622\u001B[0m \u001B[38;5;28;01mexcept\u001B[39;00m \u001B[38;5;167;01mKeyError\u001B[39;00m \u001B[38;5;28;01mas\u001B[39;00m err:\n",
      "File \u001B[0;32m~/PycharmProjects/H2_pathways_repo/env_H2/lib/python3.10/site-packages/pandas/_libs/index.pyx:136\u001B[0m, in \u001B[0;36mpandas._libs.index.IndexEngine.get_loc\u001B[0;34m()\u001B[0m\n",
      "File \u001B[0;32m~/PycharmProjects/H2_pathways_repo/env_H2/lib/python3.10/site-packages/pandas/_libs/index.pyx:163\u001B[0m, in \u001B[0;36mpandas._libs.index.IndexEngine.get_loc\u001B[0;34m()\u001B[0m\n",
      "File \u001B[0;32mpandas/_libs/hashtable_class_helper.pxi:5198\u001B[0m, in \u001B[0;36mpandas._libs.hashtable.PyObjectHashTable.get_item\u001B[0;34m()\u001B[0m\n",
      "File \u001B[0;32mpandas/_libs/hashtable_class_helper.pxi:5206\u001B[0m, in \u001B[0;36mpandas._libs.hashtable.PyObjectHashTable.get_item\u001B[0;34m()\u001B[0m\n",
      "\u001B[0;31mKeyError\u001B[0m: 'Liquefaction Parameter'",
      "\nThe above exception was the direct cause of the following exception:\n",
      "\u001B[0;31mKeyError\u001B[0m                                  Traceback (most recent call last)",
      "Input \u001B[0;32mIn [104]\u001B[0m, in \u001B[0;36m<cell line: 2>\u001B[0;34m()\u001B[0m\n\u001B[1;32m      1\u001B[0m \u001B[38;5;66;03m# Plant availability of 90%\u001B[39;00m\n\u001B[0;32m----> 2\u001B[0m liq_use \u001B[38;5;241m=\u001B[39m \u001B[38;5;28mfloat\u001B[39m(\u001B[43mtea_liq\u001B[49m\u001B[43m[\u001B[49m\u001B[43mtea_liq\u001B[49m\u001B[38;5;241;43m.\u001B[39;49m\u001B[43mLiquefaction\u001B[49m\u001B[43m \u001B[49m\u001B[38;5;241;43m==\u001B[39;49m\u001B[43m \u001B[49m\u001B[38;5;124;43m'\u001B[39;49m\u001B[38;5;124;43mAvailability\u001B[39;49m\u001B[38;5;124;43m'\u001B[39;49m\u001B[43m]\u001B[49m\u001B[43m[\u001B[49m\u001B[38;5;124;43m'\u001B[39;49m\u001B[38;5;124;43mLiquefaction Parameter\u001B[39;49m\u001B[38;5;124;43m'\u001B[39;49m\u001B[43m]\u001B[49m\u001B[38;5;241m.\u001B[39mvalues)\n\u001B[1;32m      3\u001B[0m liq_use\n",
      "File \u001B[0;32m~/PycharmProjects/H2_pathways_repo/env_H2/lib/python3.10/site-packages/pandas/core/frame.py:3505\u001B[0m, in \u001B[0;36mDataFrame.__getitem__\u001B[0;34m(self, key)\u001B[0m\n\u001B[1;32m   3503\u001B[0m \u001B[38;5;28;01mif\u001B[39;00m \u001B[38;5;28mself\u001B[39m\u001B[38;5;241m.\u001B[39mcolumns\u001B[38;5;241m.\u001B[39mnlevels \u001B[38;5;241m>\u001B[39m \u001B[38;5;241m1\u001B[39m:\n\u001B[1;32m   3504\u001B[0m     \u001B[38;5;28;01mreturn\u001B[39;00m \u001B[38;5;28mself\u001B[39m\u001B[38;5;241m.\u001B[39m_getitem_multilevel(key)\n\u001B[0;32m-> 3505\u001B[0m indexer \u001B[38;5;241m=\u001B[39m \u001B[38;5;28;43mself\u001B[39;49m\u001B[38;5;241;43m.\u001B[39;49m\u001B[43mcolumns\u001B[49m\u001B[38;5;241;43m.\u001B[39;49m\u001B[43mget_loc\u001B[49m\u001B[43m(\u001B[49m\u001B[43mkey\u001B[49m\u001B[43m)\u001B[49m\n\u001B[1;32m   3506\u001B[0m \u001B[38;5;28;01mif\u001B[39;00m is_integer(indexer):\n\u001B[1;32m   3507\u001B[0m     indexer \u001B[38;5;241m=\u001B[39m [indexer]\n",
      "File \u001B[0;32m~/PycharmProjects/H2_pathways_repo/env_H2/lib/python3.10/site-packages/pandas/core/indexes/base.py:3623\u001B[0m, in \u001B[0;36mIndex.get_loc\u001B[0;34m(self, key, method, tolerance)\u001B[0m\n\u001B[1;32m   3621\u001B[0m     \u001B[38;5;28;01mreturn\u001B[39;00m \u001B[38;5;28mself\u001B[39m\u001B[38;5;241m.\u001B[39m_engine\u001B[38;5;241m.\u001B[39mget_loc(casted_key)\n\u001B[1;32m   3622\u001B[0m \u001B[38;5;28;01mexcept\u001B[39;00m \u001B[38;5;167;01mKeyError\u001B[39;00m \u001B[38;5;28;01mas\u001B[39;00m err:\n\u001B[0;32m-> 3623\u001B[0m     \u001B[38;5;28;01mraise\u001B[39;00m \u001B[38;5;167;01mKeyError\u001B[39;00m(key) \u001B[38;5;28;01mfrom\u001B[39;00m \u001B[38;5;21;01merr\u001B[39;00m\n\u001B[1;32m   3624\u001B[0m \u001B[38;5;28;01mexcept\u001B[39;00m \u001B[38;5;167;01mTypeError\u001B[39;00m:\n\u001B[1;32m   3625\u001B[0m     \u001B[38;5;66;03m# If we have a listlike key, _check_indexing_error will raise\u001B[39;00m\n\u001B[1;32m   3626\u001B[0m     \u001B[38;5;66;03m#  InvalidIndexError. Otherwise we fall through and re-raise\u001B[39;00m\n\u001B[1;32m   3627\u001B[0m     \u001B[38;5;66;03m#  the TypeError.\u001B[39;00m\n\u001B[1;32m   3628\u001B[0m     \u001B[38;5;28mself\u001B[39m\u001B[38;5;241m.\u001B[39m_check_indexing_error(key)\n",
      "\u001B[0;31mKeyError\u001B[0m: 'Liquefaction Parameter'"
     ]
    }
   ],
   "source": [
    "# Plant availability of 90%\n",
    "liq_use = float(tea_liq[tea_liq.Liquefaction == 'Availability']['Liquefaction Parameter'].values)\n",
    "liq_use"
   ],
   "metadata": {
    "collapsed": false,
    "pycharm": {
     "name": "#%%\n"
    }
   }
  },
  {
   "cell_type": "code",
   "execution_count": 105,
   "outputs": [
    {
     "ename": "NameError",
     "evalue": "name 'capex_liq_base' is not defined",
     "output_type": "error",
     "traceback": [
      "\u001B[0;31m---------------------------------------------------------------------------\u001B[0m",
      "\u001B[0;31mNameError\u001B[0m                                 Traceback (most recent call last)",
      "Input \u001B[0;32mIn [105]\u001B[0m, in \u001B[0;36m<cell line: 2>\u001B[0;34m()\u001B[0m\n\u001B[1;32m      1\u001B[0m \u001B[38;5;66;03m# Capex for the liquefaction plant [$/tpa] divided by plant availability of 90%\u001B[39;00m\n\u001B[0;32m----> 2\u001B[0m capex_liq \u001B[38;5;241m=\u001B[39m \u001B[43mcapex_liq_base\u001B[49m\u001B[38;5;241m/\u001B[39mliq_use\n\u001B[1;32m      3\u001B[0m capex_liq\n",
      "\u001B[0;31mNameError\u001B[0m: name 'capex_liq_base' is not defined"
     ]
    }
   ],
   "source": [
    "# Capex for the liquefaction plant [$/tpa] divided by plant availability of 90%\n",
    "capex_liq = capex_liq_base/liq_use\n",
    "capex_liq\n"
   ],
   "metadata": {
    "collapsed": false,
    "pycharm": {
     "name": "#%%\n"
    }
   }
  },
  {
   "cell_type": "code",
   "execution_count": 106,
   "outputs": [
    {
     "ename": "KeyError",
     "evalue": "'Liquefaction Parameter'",
     "output_type": "error",
     "traceback": [
      "\u001B[0;31m---------------------------------------------------------------------------\u001B[0m",
      "\u001B[0;31mKeyError\u001B[0m                                  Traceback (most recent call last)",
      "File \u001B[0;32m~/PycharmProjects/H2_pathways_repo/env_H2/lib/python3.10/site-packages/pandas/core/indexes/base.py:3621\u001B[0m, in \u001B[0;36mIndex.get_loc\u001B[0;34m(self, key, method, tolerance)\u001B[0m\n\u001B[1;32m   3620\u001B[0m \u001B[38;5;28;01mtry\u001B[39;00m:\n\u001B[0;32m-> 3621\u001B[0m     \u001B[38;5;28;01mreturn\u001B[39;00m \u001B[38;5;28;43mself\u001B[39;49m\u001B[38;5;241;43m.\u001B[39;49m\u001B[43m_engine\u001B[49m\u001B[38;5;241;43m.\u001B[39;49m\u001B[43mget_loc\u001B[49m\u001B[43m(\u001B[49m\u001B[43mcasted_key\u001B[49m\u001B[43m)\u001B[49m\n\u001B[1;32m   3622\u001B[0m \u001B[38;5;28;01mexcept\u001B[39;00m \u001B[38;5;167;01mKeyError\u001B[39;00m \u001B[38;5;28;01mas\u001B[39;00m err:\n",
      "File \u001B[0;32m~/PycharmProjects/H2_pathways_repo/env_H2/lib/python3.10/site-packages/pandas/_libs/index.pyx:136\u001B[0m, in \u001B[0;36mpandas._libs.index.IndexEngine.get_loc\u001B[0;34m()\u001B[0m\n",
      "File \u001B[0;32m~/PycharmProjects/H2_pathways_repo/env_H2/lib/python3.10/site-packages/pandas/_libs/index.pyx:163\u001B[0m, in \u001B[0;36mpandas._libs.index.IndexEngine.get_loc\u001B[0;34m()\u001B[0m\n",
      "File \u001B[0;32mpandas/_libs/hashtable_class_helper.pxi:5198\u001B[0m, in \u001B[0;36mpandas._libs.hashtable.PyObjectHashTable.get_item\u001B[0;34m()\u001B[0m\n",
      "File \u001B[0;32mpandas/_libs/hashtable_class_helper.pxi:5206\u001B[0m, in \u001B[0;36mpandas._libs.hashtable.PyObjectHashTable.get_item\u001B[0;34m()\u001B[0m\n",
      "\u001B[0;31mKeyError\u001B[0m: 'Liquefaction Parameter'",
      "\nThe above exception was the direct cause of the following exception:\n",
      "\u001B[0;31mKeyError\u001B[0m                                  Traceback (most recent call last)",
      "Input \u001B[0;32mIn [106]\u001B[0m, in \u001B[0;36m<cell line: 2>\u001B[0;34m()\u001B[0m\n\u001B[1;32m      1\u001B[0m \u001B[38;5;66;03m# Annual OPEX (% of CAPEX)\u001B[39;00m\n\u001B[0;32m----> 2\u001B[0m opex_share_liq \u001B[38;5;241m=\u001B[39m \u001B[38;5;28mfloat\u001B[39m(\u001B[43mtea_liq\u001B[49m\u001B[43m[\u001B[49m\u001B[43mtea_liq\u001B[49m\u001B[38;5;241;43m.\u001B[39;49m\u001B[43mLiquefaction\u001B[49m\u001B[43m \u001B[49m\u001B[38;5;241;43m==\u001B[39;49m\u001B[43m \u001B[49m\u001B[38;5;124;43m'\u001B[39;49m\u001B[38;5;124;43mAnnual OPEX (\u001B[39;49m\u001B[38;5;132;43;01m% o\u001B[39;49;00m\u001B[38;5;124;43mf CAPEX)\u001B[39;49m\u001B[38;5;124;43m'\u001B[39;49m\u001B[43m]\u001B[49m\u001B[43m[\u001B[49m\u001B[38;5;124;43m'\u001B[39;49m\u001B[38;5;124;43mLiquefaction Parameter\u001B[39;49m\u001B[38;5;124;43m'\u001B[39;49m\u001B[43m]\u001B[49m\u001B[38;5;241m.\u001B[39mvalues)\n\u001B[1;32m      3\u001B[0m opex_share_liq\n",
      "File \u001B[0;32m~/PycharmProjects/H2_pathways_repo/env_H2/lib/python3.10/site-packages/pandas/core/frame.py:3505\u001B[0m, in \u001B[0;36mDataFrame.__getitem__\u001B[0;34m(self, key)\u001B[0m\n\u001B[1;32m   3503\u001B[0m \u001B[38;5;28;01mif\u001B[39;00m \u001B[38;5;28mself\u001B[39m\u001B[38;5;241m.\u001B[39mcolumns\u001B[38;5;241m.\u001B[39mnlevels \u001B[38;5;241m>\u001B[39m \u001B[38;5;241m1\u001B[39m:\n\u001B[1;32m   3504\u001B[0m     \u001B[38;5;28;01mreturn\u001B[39;00m \u001B[38;5;28mself\u001B[39m\u001B[38;5;241m.\u001B[39m_getitem_multilevel(key)\n\u001B[0;32m-> 3505\u001B[0m indexer \u001B[38;5;241m=\u001B[39m \u001B[38;5;28;43mself\u001B[39;49m\u001B[38;5;241;43m.\u001B[39;49m\u001B[43mcolumns\u001B[49m\u001B[38;5;241;43m.\u001B[39;49m\u001B[43mget_loc\u001B[49m\u001B[43m(\u001B[49m\u001B[43mkey\u001B[49m\u001B[43m)\u001B[49m\n\u001B[1;32m   3506\u001B[0m \u001B[38;5;28;01mif\u001B[39;00m is_integer(indexer):\n\u001B[1;32m   3507\u001B[0m     indexer \u001B[38;5;241m=\u001B[39m [indexer]\n",
      "File \u001B[0;32m~/PycharmProjects/H2_pathways_repo/env_H2/lib/python3.10/site-packages/pandas/core/indexes/base.py:3623\u001B[0m, in \u001B[0;36mIndex.get_loc\u001B[0;34m(self, key, method, tolerance)\u001B[0m\n\u001B[1;32m   3621\u001B[0m     \u001B[38;5;28;01mreturn\u001B[39;00m \u001B[38;5;28mself\u001B[39m\u001B[38;5;241m.\u001B[39m_engine\u001B[38;5;241m.\u001B[39mget_loc(casted_key)\n\u001B[1;32m   3622\u001B[0m \u001B[38;5;28;01mexcept\u001B[39;00m \u001B[38;5;167;01mKeyError\u001B[39;00m \u001B[38;5;28;01mas\u001B[39;00m err:\n\u001B[0;32m-> 3623\u001B[0m     \u001B[38;5;28;01mraise\u001B[39;00m \u001B[38;5;167;01mKeyError\u001B[39;00m(key) \u001B[38;5;28;01mfrom\u001B[39;00m \u001B[38;5;21;01merr\u001B[39;00m\n\u001B[1;32m   3624\u001B[0m \u001B[38;5;28;01mexcept\u001B[39;00m \u001B[38;5;167;01mTypeError\u001B[39;00m:\n\u001B[1;32m   3625\u001B[0m     \u001B[38;5;66;03m# If we have a listlike key, _check_indexing_error will raise\u001B[39;00m\n\u001B[1;32m   3626\u001B[0m     \u001B[38;5;66;03m#  InvalidIndexError. Otherwise we fall through and re-raise\u001B[39;00m\n\u001B[1;32m   3627\u001B[0m     \u001B[38;5;66;03m#  the TypeError.\u001B[39;00m\n\u001B[1;32m   3628\u001B[0m     \u001B[38;5;28mself\u001B[39m\u001B[38;5;241m.\u001B[39m_check_indexing_error(key)\n",
      "\u001B[0;31mKeyError\u001B[0m: 'Liquefaction Parameter'"
     ]
    }
   ],
   "source": [
    "# Annual OPEX (% of CAPEX)\n",
    "opex_share_liq = float(tea_liq[tea_liq.Liquefaction == 'Annual OPEX (% of CAPEX)']['Liquefaction Parameter'].values)\n",
    "opex_share_liq"
   ],
   "metadata": {
    "collapsed": false,
    "pycharm": {
     "name": "#%%\n"
    }
   }
  },
  {
   "cell_type": "code",
   "execution_count": 107,
   "outputs": [
    {
     "ename": "NameError",
     "evalue": "name 'capex_liq' is not defined",
     "output_type": "error",
     "traceback": [
      "\u001B[0;31m---------------------------------------------------------------------------\u001B[0m",
      "\u001B[0;31mNameError\u001B[0m                                 Traceback (most recent call last)",
      "Input \u001B[0;32mIn [107]\u001B[0m, in \u001B[0;36m<cell line: 2>\u001B[0;34m()\u001B[0m\n\u001B[1;32m      1\u001B[0m \u001B[38;5;66;03m# Opex for the liquefaction plant [$/tpa]\u001B[39;00m\n\u001B[0;32m----> 2\u001B[0m opex_liq \u001B[38;5;241m=\u001B[39m \u001B[43mcapex_liq\u001B[49m \u001B[38;5;241m*\u001B[39m opex_share_liq\n\u001B[1;32m      3\u001B[0m opex_liq\n",
      "\u001B[0;31mNameError\u001B[0m: name 'capex_liq' is not defined"
     ]
    }
   ],
   "source": [
    "# Opex for the liquefaction plant [$/tpa]\n",
    "opex_liq = capex_liq * opex_share_liq\n",
    "opex_liq"
   ],
   "metadata": {
    "collapsed": false,
    "pycharm": {
     "name": "#%%\n"
    }
   }
  },
  {
   "cell_type": "code",
   "execution_count": 108,
   "outputs": [
    {
     "ename": "KeyError",
     "evalue": "'Liquefaction Parameter'",
     "output_type": "error",
     "traceback": [
      "\u001B[0;31m---------------------------------------------------------------------------\u001B[0m",
      "\u001B[0;31mKeyError\u001B[0m                                  Traceback (most recent call last)",
      "File \u001B[0;32m~/PycharmProjects/H2_pathways_repo/env_H2/lib/python3.10/site-packages/pandas/core/indexes/base.py:3621\u001B[0m, in \u001B[0;36mIndex.get_loc\u001B[0;34m(self, key, method, tolerance)\u001B[0m\n\u001B[1;32m   3620\u001B[0m \u001B[38;5;28;01mtry\u001B[39;00m:\n\u001B[0;32m-> 3621\u001B[0m     \u001B[38;5;28;01mreturn\u001B[39;00m \u001B[38;5;28;43mself\u001B[39;49m\u001B[38;5;241;43m.\u001B[39;49m\u001B[43m_engine\u001B[49m\u001B[38;5;241;43m.\u001B[39;49m\u001B[43mget_loc\u001B[49m\u001B[43m(\u001B[49m\u001B[43mcasted_key\u001B[49m\u001B[43m)\u001B[49m\n\u001B[1;32m   3622\u001B[0m \u001B[38;5;28;01mexcept\u001B[39;00m \u001B[38;5;167;01mKeyError\u001B[39;00m \u001B[38;5;28;01mas\u001B[39;00m err:\n",
      "File \u001B[0;32m~/PycharmProjects/H2_pathways_repo/env_H2/lib/python3.10/site-packages/pandas/_libs/index.pyx:136\u001B[0m, in \u001B[0;36mpandas._libs.index.IndexEngine.get_loc\u001B[0;34m()\u001B[0m\n",
      "File \u001B[0;32m~/PycharmProjects/H2_pathways_repo/env_H2/lib/python3.10/site-packages/pandas/_libs/index.pyx:163\u001B[0m, in \u001B[0;36mpandas._libs.index.IndexEngine.get_loc\u001B[0;34m()\u001B[0m\n",
      "File \u001B[0;32mpandas/_libs/hashtable_class_helper.pxi:5198\u001B[0m, in \u001B[0;36mpandas._libs.hashtable.PyObjectHashTable.get_item\u001B[0;34m()\u001B[0m\n",
      "File \u001B[0;32mpandas/_libs/hashtable_class_helper.pxi:5206\u001B[0m, in \u001B[0;36mpandas._libs.hashtable.PyObjectHashTable.get_item\u001B[0;34m()\u001B[0m\n",
      "\u001B[0;31mKeyError\u001B[0m: 'Liquefaction Parameter'",
      "\nThe above exception was the direct cause of the following exception:\n",
      "\u001B[0;31mKeyError\u001B[0m                                  Traceback (most recent call last)",
      "Input \u001B[0;32mIn [108]\u001B[0m, in \u001B[0;36m<cell line: 2>\u001B[0;34m()\u001B[0m\n\u001B[1;32m      1\u001B[0m \u001B[38;5;66;03m# Electricty consumption for the liquefaction in [kWh/kg_h2]\u001B[39;00m\n\u001B[0;32m----> 2\u001B[0m el_liq \u001B[38;5;241m=\u001B[39m \u001B[38;5;28mfloat\u001B[39m(\u001B[43mtea_liq\u001B[49m\u001B[43m[\u001B[49m\u001B[43mtea_liq\u001B[49m\u001B[38;5;241;43m.\u001B[39;49m\u001B[43mLiquefaction\u001B[49m\u001B[43m \u001B[49m\u001B[38;5;241;43m==\u001B[39;49m\u001B[43m \u001B[49m\u001B[38;5;124;43m'\u001B[39;49m\u001B[38;5;124;43mElectricity use (kWh/kgH2)\u001B[39;49m\u001B[38;5;124;43m'\u001B[39;49m\u001B[43m]\u001B[49m\u001B[43m[\u001B[49m\u001B[38;5;124;43m'\u001B[39;49m\u001B[38;5;124;43mLiquefaction Parameter\u001B[39;49m\u001B[38;5;124;43m'\u001B[39;49m\u001B[43m]\u001B[49m\u001B[38;5;241m.\u001B[39mvalues)\n\u001B[1;32m      3\u001B[0m el_liq\n",
      "File \u001B[0;32m~/PycharmProjects/H2_pathways_repo/env_H2/lib/python3.10/site-packages/pandas/core/frame.py:3505\u001B[0m, in \u001B[0;36mDataFrame.__getitem__\u001B[0;34m(self, key)\u001B[0m\n\u001B[1;32m   3503\u001B[0m \u001B[38;5;28;01mif\u001B[39;00m \u001B[38;5;28mself\u001B[39m\u001B[38;5;241m.\u001B[39mcolumns\u001B[38;5;241m.\u001B[39mnlevels \u001B[38;5;241m>\u001B[39m \u001B[38;5;241m1\u001B[39m:\n\u001B[1;32m   3504\u001B[0m     \u001B[38;5;28;01mreturn\u001B[39;00m \u001B[38;5;28mself\u001B[39m\u001B[38;5;241m.\u001B[39m_getitem_multilevel(key)\n\u001B[0;32m-> 3505\u001B[0m indexer \u001B[38;5;241m=\u001B[39m \u001B[38;5;28;43mself\u001B[39;49m\u001B[38;5;241;43m.\u001B[39;49m\u001B[43mcolumns\u001B[49m\u001B[38;5;241;43m.\u001B[39;49m\u001B[43mget_loc\u001B[49m\u001B[43m(\u001B[49m\u001B[43mkey\u001B[49m\u001B[43m)\u001B[49m\n\u001B[1;32m   3506\u001B[0m \u001B[38;5;28;01mif\u001B[39;00m is_integer(indexer):\n\u001B[1;32m   3507\u001B[0m     indexer \u001B[38;5;241m=\u001B[39m [indexer]\n",
      "File \u001B[0;32m~/PycharmProjects/H2_pathways_repo/env_H2/lib/python3.10/site-packages/pandas/core/indexes/base.py:3623\u001B[0m, in \u001B[0;36mIndex.get_loc\u001B[0;34m(self, key, method, tolerance)\u001B[0m\n\u001B[1;32m   3621\u001B[0m     \u001B[38;5;28;01mreturn\u001B[39;00m \u001B[38;5;28mself\u001B[39m\u001B[38;5;241m.\u001B[39m_engine\u001B[38;5;241m.\u001B[39mget_loc(casted_key)\n\u001B[1;32m   3622\u001B[0m \u001B[38;5;28;01mexcept\u001B[39;00m \u001B[38;5;167;01mKeyError\u001B[39;00m \u001B[38;5;28;01mas\u001B[39;00m err:\n\u001B[0;32m-> 3623\u001B[0m     \u001B[38;5;28;01mraise\u001B[39;00m \u001B[38;5;167;01mKeyError\u001B[39;00m(key) \u001B[38;5;28;01mfrom\u001B[39;00m \u001B[38;5;21;01merr\u001B[39;00m\n\u001B[1;32m   3624\u001B[0m \u001B[38;5;28;01mexcept\u001B[39;00m \u001B[38;5;167;01mTypeError\u001B[39;00m:\n\u001B[1;32m   3625\u001B[0m     \u001B[38;5;66;03m# If we have a listlike key, _check_indexing_error will raise\u001B[39;00m\n\u001B[1;32m   3626\u001B[0m     \u001B[38;5;66;03m#  InvalidIndexError. Otherwise we fall through and re-raise\u001B[39;00m\n\u001B[1;32m   3627\u001B[0m     \u001B[38;5;66;03m#  the TypeError.\u001B[39;00m\n\u001B[1;32m   3628\u001B[0m     \u001B[38;5;28mself\u001B[39m\u001B[38;5;241m.\u001B[39m_check_indexing_error(key)\n",
      "\u001B[0;31mKeyError\u001B[0m: 'Liquefaction Parameter'"
     ]
    }
   ],
   "source": [
    "# Electricty consumption for the liquefaction in [kWh/kg_h2]\n",
    "el_liq = float(tea_liq[tea_liq.Liquefaction == 'Electricity use (kWh/kgH2)']['Liquefaction Parameter'].values)\n",
    "el_liq"
   ],
   "metadata": {
    "collapsed": false,
    "pycharm": {
     "name": "#%%\n"
    }
   }
  },
  {
   "cell_type": "code",
   "execution_count": 109,
   "outputs": [
    {
     "data": {
      "text/plain": "0.0466835326539"
     },
     "execution_count": 109,
     "metadata": {},
     "output_type": "execute_result"
    }
   ],
   "source": [
    "# Price for the electricity in year y and country m converted from [$/MWh] to [$/kWh]\n",
    "p_el = float(p_electricity[p_electricity.Years == 2020]['Norway'].values)/1000\n",
    "p_el\n"
   ],
   "metadata": {
    "collapsed": false,
    "pycharm": {
     "name": "#%%\n"
    }
   }
  },
  {
   "cell_type": "code",
   "execution_count": 110,
   "outputs": [
    {
     "data": {
      "text/plain": "    Years  CAPEX ($/tpa) Liquefaction  OPEX ($/t/a) Liquefaction  \\\n0    2020                 5982.905983                 239.316239   \n1    2021                 5923.076923                 236.923077   \n2    2022                 5863.247863                 234.529914   \n3    2023                 5803.418803                 232.136752   \n4    2024                 5743.589744                 229.743590   \n5    2025                 5683.760684                 227.350427   \n6    2026                 5623.931624                 224.957265   \n7    2027                 5564.102564                 222.564103   \n8    2028                 5504.273504                 220.170940   \n9    2029                 5444.444444                 217.777778   \n10   2030                 5384.615385                 215.384615   \n11   2031                 5330.769231                 213.230769   \n12   2032                 5276.923077                 211.076923   \n13   2033                 5223.076923                 208.923077   \n14   2034                 5169.230769                 206.769231   \n15   2035                 5115.384615                 204.615385   \n16   2036                 5061.538462                 202.461538   \n17   2037                 5007.692308                 200.307692   \n18   2038                 4953.846154                 198.153846   \n19   2039                 4900.000000                 196.000000   \n20   2040                 4846.153846                 193.846154   \n21   2041                 4792.307692                 191.692308   \n22   2042                 4738.461538                 189.538462   \n23   2043                 4684.615385                 187.384615   \n24   2044                 4630.769231                 185.230769   \n25   2045                 4576.923077                 183.076923   \n26   2046                 4523.076923                 180.923077   \n27   2047                 4469.230769                 178.769231   \n28   2048                 4415.384615                 176.615385   \n29   2049                 4361.538462                 174.461538   \n30   2050                 4307.692308                 172.307692   \n\n    Elec Use (kwh/kg H2) Liquefaction  \n0                              6.1000  \n1                              6.0390  \n2                              5.9780  \n3                              5.9170  \n4                              5.8560  \n5                              5.7950  \n6                              5.7340  \n7                              5.6730  \n8                              5.6120  \n9                              5.5510  \n10                             5.4900  \n11                             5.4351  \n12                             5.3802  \n13                             5.3253  \n14                             5.2704  \n15                             5.2155  \n16                             5.1606  \n17                             5.1057  \n18                             5.0508  \n19                             4.9959  \n20                             4.9410  \n21                             4.8861  \n22                             4.8312  \n23                             4.7763  \n24                             4.7214  \n25                             4.6665  \n26                             4.6116  \n27                             4.5567  \n28                             4.5018  \n29                             4.4469  \n30                             4.3920  ",
      "text/html": "<div>\n<style scoped>\n    .dataframe tbody tr th:only-of-type {\n        vertical-align: middle;\n    }\n\n    .dataframe tbody tr th {\n        vertical-align: top;\n    }\n\n    .dataframe thead th {\n        text-align: right;\n    }\n</style>\n<table border=\"1\" class=\"dataframe\">\n  <thead>\n    <tr style=\"text-align: right;\">\n      <th></th>\n      <th>Years</th>\n      <th>CAPEX ($/tpa) Liquefaction</th>\n      <th>OPEX ($/t/a) Liquefaction</th>\n      <th>Elec Use (kwh/kg H2) Liquefaction</th>\n    </tr>\n  </thead>\n  <tbody>\n    <tr>\n      <th>0</th>\n      <td>2020</td>\n      <td>5982.905983</td>\n      <td>239.316239</td>\n      <td>6.1000</td>\n    </tr>\n    <tr>\n      <th>1</th>\n      <td>2021</td>\n      <td>5923.076923</td>\n      <td>236.923077</td>\n      <td>6.0390</td>\n    </tr>\n    <tr>\n      <th>2</th>\n      <td>2022</td>\n      <td>5863.247863</td>\n      <td>234.529914</td>\n      <td>5.9780</td>\n    </tr>\n    <tr>\n      <th>3</th>\n      <td>2023</td>\n      <td>5803.418803</td>\n      <td>232.136752</td>\n      <td>5.9170</td>\n    </tr>\n    <tr>\n      <th>4</th>\n      <td>2024</td>\n      <td>5743.589744</td>\n      <td>229.743590</td>\n      <td>5.8560</td>\n    </tr>\n    <tr>\n      <th>5</th>\n      <td>2025</td>\n      <td>5683.760684</td>\n      <td>227.350427</td>\n      <td>5.7950</td>\n    </tr>\n    <tr>\n      <th>6</th>\n      <td>2026</td>\n      <td>5623.931624</td>\n      <td>224.957265</td>\n      <td>5.7340</td>\n    </tr>\n    <tr>\n      <th>7</th>\n      <td>2027</td>\n      <td>5564.102564</td>\n      <td>222.564103</td>\n      <td>5.6730</td>\n    </tr>\n    <tr>\n      <th>8</th>\n      <td>2028</td>\n      <td>5504.273504</td>\n      <td>220.170940</td>\n      <td>5.6120</td>\n    </tr>\n    <tr>\n      <th>9</th>\n      <td>2029</td>\n      <td>5444.444444</td>\n      <td>217.777778</td>\n      <td>5.5510</td>\n    </tr>\n    <tr>\n      <th>10</th>\n      <td>2030</td>\n      <td>5384.615385</td>\n      <td>215.384615</td>\n      <td>5.4900</td>\n    </tr>\n    <tr>\n      <th>11</th>\n      <td>2031</td>\n      <td>5330.769231</td>\n      <td>213.230769</td>\n      <td>5.4351</td>\n    </tr>\n    <tr>\n      <th>12</th>\n      <td>2032</td>\n      <td>5276.923077</td>\n      <td>211.076923</td>\n      <td>5.3802</td>\n    </tr>\n    <tr>\n      <th>13</th>\n      <td>2033</td>\n      <td>5223.076923</td>\n      <td>208.923077</td>\n      <td>5.3253</td>\n    </tr>\n    <tr>\n      <th>14</th>\n      <td>2034</td>\n      <td>5169.230769</td>\n      <td>206.769231</td>\n      <td>5.2704</td>\n    </tr>\n    <tr>\n      <th>15</th>\n      <td>2035</td>\n      <td>5115.384615</td>\n      <td>204.615385</td>\n      <td>5.2155</td>\n    </tr>\n    <tr>\n      <th>16</th>\n      <td>2036</td>\n      <td>5061.538462</td>\n      <td>202.461538</td>\n      <td>5.1606</td>\n    </tr>\n    <tr>\n      <th>17</th>\n      <td>2037</td>\n      <td>5007.692308</td>\n      <td>200.307692</td>\n      <td>5.1057</td>\n    </tr>\n    <tr>\n      <th>18</th>\n      <td>2038</td>\n      <td>4953.846154</td>\n      <td>198.153846</td>\n      <td>5.0508</td>\n    </tr>\n    <tr>\n      <th>19</th>\n      <td>2039</td>\n      <td>4900.000000</td>\n      <td>196.000000</td>\n      <td>4.9959</td>\n    </tr>\n    <tr>\n      <th>20</th>\n      <td>2040</td>\n      <td>4846.153846</td>\n      <td>193.846154</td>\n      <td>4.9410</td>\n    </tr>\n    <tr>\n      <th>21</th>\n      <td>2041</td>\n      <td>4792.307692</td>\n      <td>191.692308</td>\n      <td>4.8861</td>\n    </tr>\n    <tr>\n      <th>22</th>\n      <td>2042</td>\n      <td>4738.461538</td>\n      <td>189.538462</td>\n      <td>4.8312</td>\n    </tr>\n    <tr>\n      <th>23</th>\n      <td>2043</td>\n      <td>4684.615385</td>\n      <td>187.384615</td>\n      <td>4.7763</td>\n    </tr>\n    <tr>\n      <th>24</th>\n      <td>2044</td>\n      <td>4630.769231</td>\n      <td>185.230769</td>\n      <td>4.7214</td>\n    </tr>\n    <tr>\n      <th>25</th>\n      <td>2045</td>\n      <td>4576.923077</td>\n      <td>183.076923</td>\n      <td>4.6665</td>\n    </tr>\n    <tr>\n      <th>26</th>\n      <td>2046</td>\n      <td>4523.076923</td>\n      <td>180.923077</td>\n      <td>4.6116</td>\n    </tr>\n    <tr>\n      <th>27</th>\n      <td>2047</td>\n      <td>4469.230769</td>\n      <td>178.769231</td>\n      <td>4.5567</td>\n    </tr>\n    <tr>\n      <th>28</th>\n      <td>2048</td>\n      <td>4415.384615</td>\n      <td>176.615385</td>\n      <td>4.5018</td>\n    </tr>\n    <tr>\n      <th>29</th>\n      <td>2049</td>\n      <td>4361.538462</td>\n      <td>174.461538</td>\n      <td>4.4469</td>\n    </tr>\n    <tr>\n      <th>30</th>\n      <td>2050</td>\n      <td>4307.692308</td>\n      <td>172.307692</td>\n      <td>4.3920</td>\n    </tr>\n  </tbody>\n</table>\n</div>"
     },
     "execution_count": 110,
     "metadata": {},
     "output_type": "execute_result"
    }
   ],
   "source": [
    "# Read time relevant parameter for costs\n",
    "\n",
    "liq_time_inputs = pd.read_csv('/Users/jakob/PycharmProjects/H2_pathways_repo/data/raw/liquefaction_time_inputs.csv', delimiter=';', decimal=',')\n",
    "liq_time_inputs"
   ],
   "metadata": {
    "collapsed": false,
    "pycharm": {
     "name": "#%%\n"
    }
   }
  },
  {
   "cell_type": "code",
   "execution_count": 110,
   "outputs": [],
   "source": [],
   "metadata": {
    "collapsed": false,
    "pycharm": {
     "name": "#%%\n"
    }
   }
  },
  {
   "cell_type": "code",
   "execution_count": 111,
   "outputs": [],
   "source": [
    "# Definition of the cost calculation function for liquefaction costs. Time relevant variables = capex [$/tpa], opex [$/tpa], electricity use [kwh/kg H2], electricity price [$/MWh]\n",
    "def calculate_liq_costs(alpha_liq, capex_liq_y, opex_liq_y, el_liq_y, p_el_y):\n",
    "\n",
    "    result = float((alpha_liq * capex_liq_y/1000 + opex_liq_y/1000) + el_liq_y * p_el_y/1000)\n",
    "\n",
    "    return result"
   ],
   "metadata": {
    "collapsed": false,
    "pycharm": {
     "name": "#%%\n"
    }
   }
  },
  {
   "cell_type": "markdown",
   "source": [],
   "metadata": {
    "collapsed": false,
    "pycharm": {
     "name": "#%% md\n"
    }
   }
  },
  {
   "cell_type": "code",
   "execution_count": 112,
   "outputs": [
    {
     "data": {
      "text/plain": "      Liquefaction_costs\nYears                   \n2020            1.055532\n2021            1.046904\n2022            1.037564\n2023             1.02779\n2024            1.016773\n2025            1.004341\n2026            0.990668\n2027            0.978438\n2028            0.965785\n2029            0.953409\n2030             0.94147\n2031            0.932342\n2032             0.92453\n2033            0.918485\n2034            0.911724\n2035            0.902989\n2036            0.892468\n2037             0.88329\n2038            0.875833\n2039            0.870579\n2040             0.86494\n2041            0.859777\n2042            0.855412\n2043            0.851517\n2044            0.847717\n2045            0.842657\n2046            0.834973\n2047            0.824261\n2048            0.811895\n2049            0.800753\n2050            0.792092",
      "text/html": "<div>\n<style scoped>\n    .dataframe tbody tr th:only-of-type {\n        vertical-align: middle;\n    }\n\n    .dataframe tbody tr th {\n        vertical-align: top;\n    }\n\n    .dataframe thead th {\n        text-align: right;\n    }\n</style>\n<table border=\"1\" class=\"dataframe\">\n  <thead>\n    <tr style=\"text-align: right;\">\n      <th></th>\n      <th>Liquefaction_costs</th>\n    </tr>\n    <tr>\n      <th>Years</th>\n      <th></th>\n    </tr>\n  </thead>\n  <tbody>\n    <tr>\n      <th>2020</th>\n      <td>1.055532</td>\n    </tr>\n    <tr>\n      <th>2021</th>\n      <td>1.046904</td>\n    </tr>\n    <tr>\n      <th>2022</th>\n      <td>1.037564</td>\n    </tr>\n    <tr>\n      <th>2023</th>\n      <td>1.02779</td>\n    </tr>\n    <tr>\n      <th>2024</th>\n      <td>1.016773</td>\n    </tr>\n    <tr>\n      <th>2025</th>\n      <td>1.004341</td>\n    </tr>\n    <tr>\n      <th>2026</th>\n      <td>0.990668</td>\n    </tr>\n    <tr>\n      <th>2027</th>\n      <td>0.978438</td>\n    </tr>\n    <tr>\n      <th>2028</th>\n      <td>0.965785</td>\n    </tr>\n    <tr>\n      <th>2029</th>\n      <td>0.953409</td>\n    </tr>\n    <tr>\n      <th>2030</th>\n      <td>0.94147</td>\n    </tr>\n    <tr>\n      <th>2031</th>\n      <td>0.932342</td>\n    </tr>\n    <tr>\n      <th>2032</th>\n      <td>0.92453</td>\n    </tr>\n    <tr>\n      <th>2033</th>\n      <td>0.918485</td>\n    </tr>\n    <tr>\n      <th>2034</th>\n      <td>0.911724</td>\n    </tr>\n    <tr>\n      <th>2035</th>\n      <td>0.902989</td>\n    </tr>\n    <tr>\n      <th>2036</th>\n      <td>0.892468</td>\n    </tr>\n    <tr>\n      <th>2037</th>\n      <td>0.88329</td>\n    </tr>\n    <tr>\n      <th>2038</th>\n      <td>0.875833</td>\n    </tr>\n    <tr>\n      <th>2039</th>\n      <td>0.870579</td>\n    </tr>\n    <tr>\n      <th>2040</th>\n      <td>0.86494</td>\n    </tr>\n    <tr>\n      <th>2041</th>\n      <td>0.859777</td>\n    </tr>\n    <tr>\n      <th>2042</th>\n      <td>0.855412</td>\n    </tr>\n    <tr>\n      <th>2043</th>\n      <td>0.851517</td>\n    </tr>\n    <tr>\n      <th>2044</th>\n      <td>0.847717</td>\n    </tr>\n    <tr>\n      <th>2045</th>\n      <td>0.842657</td>\n    </tr>\n    <tr>\n      <th>2046</th>\n      <td>0.834973</td>\n    </tr>\n    <tr>\n      <th>2047</th>\n      <td>0.824261</td>\n    </tr>\n    <tr>\n      <th>2048</th>\n      <td>0.811895</td>\n    </tr>\n    <tr>\n      <th>2049</th>\n      <td>0.800753</td>\n    </tr>\n    <tr>\n      <th>2050</th>\n      <td>0.792092</td>\n    </tr>\n  </tbody>\n</table>\n</div>"
     },
     "execution_count": 112,
     "metadata": {},
     "output_type": "execute_result"
    }
   ],
   "source": [
    "# Calculation of liquefaction costs [$/kg_h2] from 2030 to 2050.\n",
    "years = np.arange(2020,2051)\n",
    "result = pd.DataFrame(index=years, columns=['Liquefaction_costs'])\n",
    "result.index.name = 'Years'\n",
    "\n",
    "for year in years:\n",
    "\n",
    "    # get capex, opex, natural gas price and CO2 price of specific year\n",
    "    capex_liq_y = float(liq_time_inputs[liq_time_inputs.Years == year]['CAPEX ($/tpa) Liquefaction'])\n",
    "    opex_liq_y = float(liq_time_inputs[liq_time_inputs.Years == year]['OPEX ($/t/a) Liquefaction'])\n",
    "    el_liq_y = float(liq_time_inputs[liq_time_inputs.Years == year]['Elec Use (kwh/kg H2) Liquefaction'])\n",
    "    p_el_y = float(p_electricity[p_electricity.Years == year]['Norway'])\n",
    "\n",
    "    # calculate costs of specific year\n",
    "    result.Liquefaction_costs.loc[year] = calculate_liq_costs(alpha_liq=alpha_liq, capex_liq_y=capex_liq_y, opex_liq_y=opex_liq_y, el_liq_y=el_liq_y, p_el_y=p_el_y)\n",
    "\n",
    "result"
   ],
   "metadata": {
    "collapsed": false,
    "pycharm": {
     "name": "#%%\n"
    }
   }
  },
  {
   "cell_type": "code",
   "execution_count": 113,
   "outputs": [],
   "source": [
    "# Create csv file from results dataframe\n",
    "path=r'/Users/jakob/PycharmProjects/H2_pathways_repo/data/processed'\n",
    "output_file = os.path.join(path_csv,'Liquefaction_costs.csv')\n",
    "result.to_csv(output_file, sep = ';')"
   ],
   "metadata": {
    "collapsed": false,
    "pycharm": {
     "name": "#%%\n"
    }
   }
  },
  {
   "cell_type": "code",
   "execution_count": 114,
   "outputs": [
    {
     "data": {
      "text/plain": "<Figure size 432x288 with 1 Axes>",
      "image/png": "[encoded data removed]"
     },
     "metadata": {
      "needs_background": "light"
     },
     "output_type": "display_data"
    }
   ],
   "source": [
    "# Plot cost curve of hydrogen production from NGR with CCS\n",
    "plt.plot(result, color = 'cyan', linestyle = 'dashed')\n",
    "#plt.ylim(ymin=0)\n",
    "plt.title('Cost curve for liquefaction')\n",
    "plt.legend(['Liquefaction costs in $/kg_H2'])\n",
    "plt.xlabel('Year')\n",
    "plt.ylabel('Cost [$/kg_H2]')\n",
    "plt.show()"
   ],
   "metadata": {
    "collapsed": false,
    "pycharm": {
     "name": "#%%\n"
    }
   }
  },
  {
   "cell_type": "code",
   "execution_count": 597,
   "outputs": [],
   "source": [
    "#EXPORT TERMINAL"
   ],
   "metadata": {
    "collapsed": false,
    "pycharm": {
     "name": "#%%\n"
    }
   }
  },
  {
   "cell_type": "code",
   "execution_count": 379,
   "outputs": [
    {
     "data": {
      "text/plain": "                                       Terminals  Export_Terminal  \\\n0                         Technical Lifetime (y)        30.000000   \n1                            Amortisation Factor         0.088827   \n2                           Capacity/tank (tLH2)      3190.000000   \n3                    Storage length per load (d)         3.000000   \n4                      Yearly capacity (t H2 /y)    388116.666700   \n5                       CAPEX/tank (USD million)       290.000000   \n6                                  CAPEX ($/tpa)       747.198008   \n7                       Annual OPEX (% of CAPEX)         0.040000   \n8                     Electricity use (kWh/kgH2)         0.610000   \n9   Cost of Export without electricity ($/kg H2)         0.096260   \n10                              Boil-off (%/day)         0.001000   \n11                                           NaN              NaN   \n12                                           NaN              NaN   \n13                                           NaN              NaN   \n14                                           NaN              NaN   \n15                                           NaN              NaN   \n16                                           NaN              NaN   \n17                                           NaN              NaN   \n18                                           NaN              NaN   \n19                                           NaN              NaN   \n20                                           NaN              NaN   \n21                                           NaN              NaN   \n22                                           NaN              NaN   \n23                                           NaN              NaN   \n24                                           NaN              NaN   \n\n    Import_Terminal  Unnamed: 3  Unnamed: 4 Unnamed: 5  \n0         30.000000         NaN         NaN        NaN  \n1          0.088827         NaN         NaN        NaN  \n2       3550.000000         NaN         NaN        NaN  \n3         20.000000         NaN         NaN        NaN  \n4      64787.500000         NaN         NaN        NaN  \n5        320.000000         NaN         NaN        NaN  \n6       4939.224387         NaN         NaN        NaN  \n7          0.040000         NaN         NaN        NaN  \n8          0.200000         NaN         NaN        NaN  \n9          0.636308         NaN         NaN        NaN  \n10         0.001000         NaN         NaN        NaN  \n11              NaN         NaN         NaN        NaN  \n12              NaN         NaN         NaN        NaN  \n13              NaN         NaN         NaN        NaN  \n14              NaN         NaN         NaN        NaN  \n15              NaN         NaN         NaN        NaN  \n16              NaN         NaN         NaN        NaN  \n17              NaN         NaN         NaN        NaN  \n18              NaN         NaN         NaN        NaN  \n19              NaN         NaN         NaN        NaN  \n20              NaN         NaN         NaN        NaN  \n21              NaN         NaN         NaN        NaN  \n22              NaN         NaN         NaN        NaN  \n23              NaN         NaN         NaN        NaN  \n24              NaN         NaN         NaN          r  ",
      "text/html": "<div>\n<style scoped>\n    .dataframe tbody tr th:only-of-type {\n        vertical-align: middle;\n    }\n\n    .dataframe tbody tr th {\n        vertical-align: top;\n    }\n\n    .dataframe thead th {\n        text-align: right;\n    }\n</style>\n<table border=\"1\" class=\"dataframe\">\n  <thead>\n    <tr style=\"text-align: right;\">\n      <th></th>\n      <th>Terminals</th>\n      <th>Export_Terminal</th>\n      <th>Import_Terminal</th>\n      <th>Unnamed: 3</th>\n      <th>Unnamed: 4</th>\n      <th>Unnamed: 5</th>\n    </tr>\n  </thead>\n  <tbody>\n    <tr>\n      <th>0</th>\n      <td>Technical Lifetime (y)</td>\n      <td>30.000000</td>\n      <td>30.000000</td>\n      <td>NaN</td>\n      <td>NaN</td>\n      <td>NaN</td>\n    </tr>\n    <tr>\n      <th>1</th>\n      <td>Amortisation Factor</td>\n      <td>0.088827</td>\n      <td>0.088827</td>\n      <td>NaN</td>\n      <td>NaN</td>\n      <td>NaN</td>\n    </tr>\n    <tr>\n      <th>2</th>\n      <td>Capacity/tank (tLH2)</td>\n      <td>3190.000000</td>\n      <td>3550.000000</td>\n      <td>NaN</td>\n      <td>NaN</td>\n      <td>NaN</td>\n    </tr>\n    <tr>\n      <th>3</th>\n      <td>Storage length per load (d)</td>\n      <td>3.000000</td>\n      <td>20.000000</td>\n      <td>NaN</td>\n      <td>NaN</td>\n      <td>NaN</td>\n    </tr>\n    <tr>\n      <th>4</th>\n      <td>Yearly capacity (t H2 /y)</td>\n      <td>388116.666700</td>\n      <td>64787.500000</td>\n      <td>NaN</td>\n      <td>NaN</td>\n      <td>NaN</td>\n    </tr>\n    <tr>\n      <th>5</th>\n      <td>CAPEX/tank (USD million)</td>\n      <td>290.000000</td>\n      <td>320.000000</td>\n      <td>NaN</td>\n      <td>NaN</td>\n      <td>NaN</td>\n    </tr>\n    <tr>\n      <th>6</th>\n      <td>CAPEX ($/tpa)</td>\n      <td>747.198008</td>\n      <td>4939.224387</td>\n      <td>NaN</td>\n      <td>NaN</td>\n      <td>NaN</td>\n    </tr>\n    <tr>\n      <th>7</th>\n      <td>Annual OPEX (% of CAPEX)</td>\n      <td>0.040000</td>\n      <td>0.040000</td>\n      <td>NaN</td>\n      <td>NaN</td>\n      <td>NaN</td>\n    </tr>\n    <tr>\n      <th>8</th>\n      <td>Electricity use (kWh/kgH2)</td>\n      <td>0.610000</td>\n      <td>0.200000</td>\n      <td>NaN</td>\n      <td>NaN</td>\n      <td>NaN</td>\n    </tr>\n    <tr>\n      <th>9</th>\n      <td>Cost of Export without electricity ($/kg H2)</td>\n      <td>0.096260</td>\n      <td>0.636308</td>\n      <td>NaN</td>\n      <td>NaN</td>\n      <td>NaN</td>\n    </tr>\n    <tr>\n      <th>10</th>\n      <td>Boil-off (%/day)</td>\n      <td>0.001000</td>\n      <td>0.001000</td>\n      <td>NaN</td>\n      <td>NaN</td>\n      <td>NaN</td>\n    </tr>\n    <tr>\n      <th>11</th>\n      <td>NaN</td>\n      <td>NaN</td>\n      <td>NaN</td>\n      <td>NaN</td>\n      <td>NaN</td>\n      <td>NaN</td>\n    </tr>\n    <tr>\n      <th>12</th>\n      <td>NaN</td>\n      <td>NaN</td>\n      <td>NaN</td>\n      <td>NaN</td>\n      <td>NaN</td>\n      <td>NaN</td>\n    </tr>\n    <tr>\n      <th>13</th>\n      <td>NaN</td>\n      <td>NaN</td>\n      <td>NaN</td>\n      <td>NaN</td>\n      <td>NaN</td>\n      <td>NaN</td>\n    </tr>\n    <tr>\n      <th>14</th>\n      <td>NaN</td>\n      <td>NaN</td>\n      <td>NaN</td>\n      <td>NaN</td>\n      <td>NaN</td>\n      <td>NaN</td>\n    </tr>\n    <tr>\n      <th>15</th>\n      <td>NaN</td>\n      <td>NaN</td>\n      <td>NaN</td>\n      <td>NaN</td>\n      <td>NaN</td>\n      <td>NaN</td>\n    </tr>\n    <tr>\n      <th>16</th>\n      <td>NaN</td>\n      <td>NaN</td>\n      <td>NaN</td>\n      <td>NaN</td>\n      <td>NaN</td>\n      <td>NaN</td>\n    </tr>\n    <tr>\n      <th>17</th>\n      <td>NaN</td>\n      <td>NaN</td>\n      <td>NaN</td>\n      <td>NaN</td>\n      <td>NaN</td>\n      <td>NaN</td>\n    </tr>\n    <tr>\n      <th>18</th>\n      <td>NaN</td>\n      <td>NaN</td>\n      <td>NaN</td>\n      <td>NaN</td>\n      <td>NaN</td>\n      <td>NaN</td>\n    </tr>\n    <tr>\n      <th>19</th>\n      <td>NaN</td>\n      <td>NaN</td>\n      <td>NaN</td>\n      <td>NaN</td>\n      <td>NaN</td>\n      <td>NaN</td>\n    </tr>\n    <tr>\n      <th>20</th>\n      <td>NaN</td>\n      <td>NaN</td>\n      <td>NaN</td>\n      <td>NaN</td>\n      <td>NaN</td>\n      <td>NaN</td>\n    </tr>\n    <tr>\n      <th>21</th>\n      <td>NaN</td>\n      <td>NaN</td>\n      <td>NaN</td>\n      <td>NaN</td>\n      <td>NaN</td>\n      <td>NaN</td>\n    </tr>\n    <tr>\n      <th>22</th>\n      <td>NaN</td>\n      <td>NaN</td>\n      <td>NaN</td>\n      <td>NaN</td>\n      <td>NaN</td>\n      <td>NaN</td>\n    </tr>\n    <tr>\n      <th>23</th>\n      <td>NaN</td>\n      <td>NaN</td>\n      <td>NaN</td>\n      <td>NaN</td>\n      <td>NaN</td>\n      <td>NaN</td>\n    </tr>\n    <tr>\n      <th>24</th>\n      <td>NaN</td>\n      <td>NaN</td>\n      <td>NaN</td>\n      <td>NaN</td>\n      <td>NaN</td>\n      <td>r</td>\n    </tr>\n  </tbody>\n</table>\n</div>"
     },
     "execution_count": 379,
     "metadata": {},
     "output_type": "execute_result"
    }
   ],
   "source": [
    "# Definition of variables for export terminal cost\n",
    "tea_terminals = pd.read_csv(\"/Users/jakob/PycharmProjects/H2_pathways_repo/data/raw/tea_terminals.csv\", delimiter=';', decimal=',')\n",
    "tea_terminals"
   ],
   "metadata": {
    "collapsed": false,
    "pycharm": {
     "name": "#%%\n"
    }
   }
  },
  {
   "cell_type": "code",
   "execution_count": 380,
   "outputs": [
    {
     "data": {
      "text/plain": "0.08"
     },
     "execution_count": 380,
     "metadata": {},
     "output_type": "execute_result"
    }
   ],
   "source": [
    "i_tra"
   ],
   "metadata": {
    "collapsed": false,
    "pycharm": {
     "name": "#%%\n"
    }
   }
  },
  {
   "cell_type": "code",
   "execution_count": 381,
   "outputs": [
    {
     "data": {
      "text/plain": "30.0"
     },
     "execution_count": 381,
     "metadata": {},
     "output_type": "execute_result"
    }
   ],
   "source": [
    "# Lifetime of import and export terminals\n",
    "l_ter = float(tea_terminals[tea_terminals.Terminals == 'Technical Lifetime (y)']['Export_Terminal'].values)\n",
    "l_ter"
   ],
   "metadata": {
    "collapsed": false,
    "pycharm": {
     "name": "#%%\n"
    }
   }
  },
  {
   "cell_type": "code",
   "execution_count": 382,
   "outputs": [
    {
     "data": {
      "text/plain": "0.08882743338727227"
     },
     "execution_count": 382,
     "metadata": {},
     "output_type": "execute_result"
    }
   ],
   "source": [
    "# Amortisation factor for the export terminal\n",
    "alpha_et = (i_tra * (1 + i_tra) ** l_ter) / (((1 + i_tra) ** l_ter) - 1)\n",
    "alpha_et\n"
   ],
   "metadata": {
    "collapsed": false,
    "pycharm": {
     "name": "#%%\n"
    }
   }
  },
  {
   "cell_type": "code",
   "execution_count": 383,
   "outputs": [
    {
     "data": {
      "text/plain": "747.1980075"
     },
     "execution_count": 383,
     "metadata": {},
     "output_type": "execute_result"
    }
   ],
   "source": [
    "# Capex for the export terminal in [$/tpa]\n",
    "capex_et_base = float(tea_terminals[tea_terminals.Terminals == 'CAPEX ($/tpa)']['Export_Terminal'].values)\n",
    "capex_et_base"
   ],
   "metadata": {
    "collapsed": false,
    "pycharm": {
     "name": "#%%\n"
    }
   }
  },
  {
   "cell_type": "code",
   "execution_count": 384,
   "outputs": [
    {
     "data": {
      "text/plain": "0.04"
     },
     "execution_count": 384,
     "metadata": {},
     "output_type": "execute_result"
    }
   ],
   "source": [
    "# Opex in % of capex\n",
    "opex_share_et = float(tea_terminals[tea_terminals.Terminals == 'Annual OPEX (% of CAPEX)']['Export_Terminal'].values)\n",
    "opex_share_et"
   ],
   "metadata": {
    "collapsed": false,
    "pycharm": {
     "name": "#%%\n"
    }
   }
  },
  {
   "cell_type": "code",
   "execution_count": 385,
   "outputs": [
    {
     "data": {
      "text/plain": "29.8879203"
     },
     "execution_count": 385,
     "metadata": {},
     "output_type": "execute_result"
    }
   ],
   "source": [
    "# Opex for the export terminal in [$/tpa]\n",
    "opex_et = opex_share_et * capex_et_base\n",
    "opex_et"
   ],
   "metadata": {
    "collapsed": false,
    "pycharm": {
     "name": "#%%\n"
    }
   }
  },
  {
   "cell_type": "code",
   "execution_count": 386,
   "outputs": [
    {
     "data": {
      "text/plain": "0.61"
     },
     "execution_count": 386,
     "metadata": {},
     "output_type": "execute_result"
    }
   ],
   "source": [
    "# Electricity consumption for the export terminal [kWh/kg_h2]\n",
    "el_et = float(tea_terminals[tea_terminals.Terminals == 'Electricity use (kWh/kgH2)']['Export_Terminal'].values)\n",
    "el_et"
   ],
   "metadata": {
    "collapsed": false,
    "pycharm": {
     "name": "#%%\n"
    }
   }
  },
  {
   "cell_type": "code",
   "execution_count": 387,
   "outputs": [
    {
     "data": {
      "text/plain": "0.0466835326539"
     },
     "execution_count": 387,
     "metadata": {},
     "output_type": "execute_result"
    }
   ],
   "source": [
    "# Price of electricity in [$/kWh] per year and country\n",
    "p_el"
   ],
   "metadata": {
    "collapsed": false,
    "pycharm": {
     "name": "#%%\n"
    }
   }
  },
  {
   "cell_type": "code",
   "execution_count": 388,
   "outputs": [
    {
     "data": {
      "text/plain": "0.001"
     },
     "execution_count": 388,
     "metadata": {},
     "output_type": "execute_result"
    }
   ],
   "source": [
    "# Boil-off hydrogen in [%/day]\n",
    "b_et = float(tea_terminals[tea_terminals.Terminals == 'Boil-off (%/day)']['Export_Terminal'].values)\n",
    "b_et"
   ],
   "metadata": {
    "collapsed": false,
    "pycharm": {
     "name": "#%%\n"
    }
   }
  },
  {
   "cell_type": "code",
   "execution_count": 389,
   "outputs": [
    {
     "data": {
      "text/plain": "3.0"
     },
     "execution_count": 389,
     "metadata": {},
     "output_type": "execute_result"
    }
   ],
   "source": [
    "# Average storage time in the export terminal tanks in days\n",
    "t_et = float(tea_terminals[tea_terminals.Terminals == 'Storage length per load (d)']['Export_Terminal'].values)\n",
    "t_et"
   ],
   "metadata": {
    "collapsed": false,
    "pycharm": {
     "name": "#%%\n"
    }
   }
  },
  {
   "cell_type": "markdown",
   "source": [
    "import nbimporter\n",
    "import Production.ipynb\n"
   ],
   "metadata": {
    "collapsed": false,
    "pycharm": {
     "name": "#%% md\n"
    }
   }
  },
  {
   "cell_type": "code",
   "execution_count": 137,
   "outputs": [
    {
     "data": {
      "text/plain": "    Years            LCOH_NGR\n0    2020   1.540664228375292\n1    2021  1.5795795259119467\n2    2022   4.677234866618601\n3    2023   4.444640127690195\n4    2024   3.516538989006849\n5    2025   3.619924858455304\n6    2026   3.728883239375647\n7    2027  3.8427065897619217\n8    2028   3.962095830621936\n9    2029    4.08776221557105\n10   2030   4.219029229922964\n11   2031     4.3673524943381\n12   2032   4.522288582964764\n13   2033  4.6841286606354195\n14   2034   4.853176714350876\n15   2035  5.0297501092269306\n16   2036   5.214180191736414\n17   2037   5.406812895551001\n18   2038   5.608009378780015\n19   2039   5.818146712804211\n20   2040   6.037618565310206\n21   2041    6.26683593561988\n22   2042   6.506227922716546\n23   2043  6.7562425178688095\n24   2044   7.017347438550547\n25   2045   7.290030996757389\n26   2046  7.5748030024200474\n27   2047   7.872195711513191\n28   2048   8.182764819460036\n29   2049   8.507090486033881\n30   2050   8.845778418054158",
      "text/html": "<div>\n<style scoped>\n    .dataframe tbody tr th:only-of-type {\n        vertical-align: middle;\n    }\n\n    .dataframe tbody tr th {\n        vertical-align: top;\n    }\n\n    .dataframe thead th {\n        text-align: right;\n    }\n</style>\n<table border=\"1\" class=\"dataframe\">\n  <thead>\n    <tr style=\"text-align: right;\">\n      <th></th>\n      <th>Years</th>\n      <th>LCOH_NGR</th>\n    </tr>\n  </thead>\n  <tbody>\n    <tr>\n      <th>0</th>\n      <td>2020</td>\n      <td>1.540664228375292</td>\n    </tr>\n    <tr>\n      <th>1</th>\n      <td>2021</td>\n      <td>1.5795795259119467</td>\n    </tr>\n    <tr>\n      <th>2</th>\n      <td>2022</td>\n      <td>4.677234866618601</td>\n    </tr>\n    <tr>\n      <th>3</th>\n      <td>2023</td>\n      <td>4.444640127690195</td>\n    </tr>\n    <tr>\n      <th>4</th>\n      <td>2024</td>\n      <td>3.516538989006849</td>\n    </tr>\n    <tr>\n      <th>5</th>\n      <td>2025</td>\n      <td>3.619924858455304</td>\n    </tr>\n    <tr>\n      <th>6</th>\n      <td>2026</td>\n      <td>3.728883239375647</td>\n    </tr>\n    <tr>\n      <th>7</th>\n      <td>2027</td>\n      <td>3.8427065897619217</td>\n    </tr>\n    <tr>\n      <th>8</th>\n      <td>2028</td>\n      <td>3.962095830621936</td>\n    </tr>\n    <tr>\n      <th>9</th>\n      <td>2029</td>\n      <td>4.08776221557105</td>\n    </tr>\n    <tr>\n      <th>10</th>\n      <td>2030</td>\n      <td>4.219029229922964</td>\n    </tr>\n    <tr>\n      <th>11</th>\n      <td>2031</td>\n      <td>4.3673524943381</td>\n    </tr>\n    <tr>\n      <th>12</th>\n      <td>2032</td>\n      <td>4.522288582964764</td>\n    </tr>\n    <tr>\n      <th>13</th>\n      <td>2033</td>\n      <td>4.6841286606354195</td>\n    </tr>\n    <tr>\n      <th>14</th>\n      <td>2034</td>\n      <td>4.853176714350876</td>\n    </tr>\n    <tr>\n      <th>15</th>\n      <td>2035</td>\n      <td>5.0297501092269306</td>\n    </tr>\n    <tr>\n      <th>16</th>\n      <td>2036</td>\n      <td>5.214180191736414</td>\n    </tr>\n    <tr>\n      <th>17</th>\n      <td>2037</td>\n      <td>5.406812895551001</td>\n    </tr>\n    <tr>\n      <th>18</th>\n      <td>2038</td>\n      <td>5.608009378780015</td>\n    </tr>\n    <tr>\n      <th>19</th>\n      <td>2039</td>\n      <td>5.818146712804211</td>\n    </tr>\n    <tr>\n      <th>20</th>\n      <td>2040</td>\n      <td>6.037618565310206</td>\n    </tr>\n    <tr>\n      <th>21</th>\n      <td>2041</td>\n      <td>6.26683593561988</td>\n    </tr>\n    <tr>\n      <th>22</th>\n      <td>2042</td>\n      <td>6.506227922716546</td>\n    </tr>\n    <tr>\n      <th>23</th>\n      <td>2043</td>\n      <td>6.7562425178688095</td>\n    </tr>\n    <tr>\n      <th>24</th>\n      <td>2044</td>\n      <td>7.017347438550547</td>\n    </tr>\n    <tr>\n      <th>25</th>\n      <td>2045</td>\n      <td>7.290030996757389</td>\n    </tr>\n    <tr>\n      <th>26</th>\n      <td>2046</td>\n      <td>7.5748030024200474</td>\n    </tr>\n    <tr>\n      <th>27</th>\n      <td>2047</td>\n      <td>7.872195711513191</td>\n    </tr>\n    <tr>\n      <th>28</th>\n      <td>2048</td>\n      <td>8.182764819460036</td>\n    </tr>\n    <tr>\n      <th>29</th>\n      <td>2049</td>\n      <td>8.507090486033881</td>\n    </tr>\n    <tr>\n      <th>30</th>\n      <td>2050</td>\n      <td>8.845778418054158</td>\n    </tr>\n  </tbody>\n</table>\n</div>"
     },
     "execution_count": 137,
     "metadata": {},
     "output_type": "execute_result"
    }
   ],
   "source": [
    "# Cost of transported hydrogen in [$/kg_h2] in year y\n",
    "lcoh_ngr = pd.read_csv(\"/Users/jakob/PycharmProjects/H2_pathways_repo/data/processed/LCOH_NGR.csv\", delimiter=';', decimal=',')\n",
    "lcoh_ngr"
   ],
   "metadata": {
    "collapsed": false,
    "pycharm": {
     "name": "#%%\n"
    }
   }
  },
  {
   "cell_type": "code",
   "execution_count": 138,
   "outputs": [
    {
     "data": {
      "text/plain": "    Years  CAPEX (tpa) Export Terminal  OPEX (tpa) Export Terminal  \\\n0    2020                   747.198008                   29.887920   \n1    2021                   739.726027                   29.589041   \n2    2022                   732.254047                   29.290162   \n3    2023                   724.782067                   28.991283   \n4    2024                   717.310087                   28.692403   \n5    2025                   709.838107                   28.393524   \n6    2026                   702.366127                   28.094645   \n7    2027                   694.894147                   27.795766   \n8    2028                   687.422167                   27.496887   \n9    2029                   679.950187                   27.198007   \n10   2030                   672.478207                   26.899128   \n11   2031                   655.666252                   26.226650   \n12   2032                   638.854296                   25.554172   \n13   2033                   622.042341                   24.881694   \n14   2034                   605.230386                   24.209215   \n15   2035                   588.418431                   23.536737   \n16   2036                   571.606476                   22.864259   \n17   2037                   554.794520                   22.191781   \n18   2038                   537.982565                   21.519303   \n19   2039                   521.170610                   20.846824   \n20   2040                   504.358655                   20.174346   \n21   2041                   487.546700                   19.501868   \n22   2042                   470.734745                   18.829390   \n23   2043                   453.922790                   18.156912   \n24   2044                   437.110834                   17.484433   \n25   2045                   420.298879                   16.811955   \n26   2046                   403.486924                   16.139477   \n27   2047                   386.674969                   15.466999   \n28   2048                   369.863014                   14.794521   \n29   2049                   353.051059                   14.122042   \n30   2050                   336.239103                   13.449564   \n\n    Electricity Use (kwh/kg H2) Export Terminal  \\\n0                                          0.61   \n1                                          0.61   \n2                                          0.61   \n3                                          0.61   \n4                                          0.61   \n5                                          0.61   \n6                                          0.61   \n7                                          0.61   \n8                                          0.61   \n9                                          0.61   \n10                                         0.61   \n11                                         0.61   \n12                                         0.61   \n13                                         0.61   \n14                                         0.61   \n15                                         0.61   \n16                                         0.61   \n17                                         0.61   \n18                                         0.61   \n19                                         0.61   \n20                                         0.61   \n21                                         0.61   \n22                                         0.61   \n23                                         0.61   \n24                                         0.61   \n25                                         0.61   \n26                                         0.61   \n27                                         0.61   \n28                                         0.61   \n29                                         0.61   \n30                                         0.61   \n\n    Boil-off (kg/kg H2) Export Terminal  CAPEX (tpa) Import Terminal  \\\n0                                 0.003                  4939.224387   \n1                                 0.003                  4889.832144   \n2                                 0.003                  4840.439900   \n3                                 0.003                  4791.047656   \n4                                 0.003                  4741.655412   \n5                                 0.003                  4692.263168   \n6                                 0.003                  4642.870924   \n7                                 0.003                  4593.478680   \n8                                 0.003                  4544.086436   \n9                                 0.003                  4494.694193   \n10                                0.003                  4445.301949   \n11                                0.003                  4334.169400   \n12                                0.003                  4223.036851   \n13                                0.003                  4111.904303   \n14                                0.003                  4000.771754   \n15                                0.003                  3889.639205   \n16                                0.003                  3778.506656   \n17                                0.003                  3667.374108   \n18                                0.003                  3556.241559   \n19                                0.003                  3445.109010   \n20                                0.003                  3333.976462   \n21                                0.003                  3222.843913   \n22                                0.003                  3111.711364   \n23                                0.003                  3000.578815   \n24                                0.003                  2889.446267   \n25                                0.003                  2778.313718   \n26                                0.003                  2667.181169   \n27                                0.003                  2556.048620   \n28                                0.003                  2444.916072   \n29                                0.003                  2333.783523   \n30                                0.003                  2222.650974   \n\n    OPEX (tpa) Import Terminal  Electricity Use (kwh/kg H2) Import Terminal  \\\n0                   197.568975                                          0.2   \n1                   195.593286                                          0.2   \n2                   193.617596                                          0.2   \n3                   191.641906                                          0.2   \n4                   189.666216                                          0.2   \n5                   187.690527                                          0.2   \n6                   185.714837                                          0.2   \n7                   183.739147                                          0.2   \n8                   181.763457                                          0.2   \n9                   179.787768                                          0.2   \n10                  177.812078                                          0.2   \n11                  173.366776                                          0.2   \n12                  168.921474                                          0.2   \n13                  164.476172                                          0.2   \n14                  160.030870                                          0.2   \n15                  155.585568                                          0.2   \n16                  151.140266                                          0.2   \n17                  146.694964                                          0.2   \n18                  142.249662                                          0.2   \n19                  137.804360                                          0.2   \n20                  133.359059                                          0.2   \n21                  128.913757                                          0.2   \n22                  124.468455                                          0.2   \n23                  120.023153                                          0.2   \n24                  115.577851                                          0.2   \n25                  111.132549                                          0.2   \n26                  106.687247                                          0.2   \n27                  102.241945                                          0.2   \n28                   97.796643                                          0.2   \n29                   93.351341                                          0.2   \n30                   88.906039                                          0.2   \n\n    Boil-off (kg/kg H2) Import Terminal  \n0                                  0.02  \n1                                  0.02  \n2                                  0.02  \n3                                  0.02  \n4                                  0.02  \n5                                  0.02  \n6                                  0.02  \n7                                  0.02  \n8                                  0.02  \n9                                  0.02  \n10                                 0.02  \n11                                 0.02  \n12                                 0.02  \n13                                 0.02  \n14                                 0.02  \n15                                 0.02  \n16                                 0.02  \n17                                 0.02  \n18                                 0.02  \n19                                 0.02  \n20                                 0.02  \n21                                 0.02  \n22                                 0.02  \n23                                 0.02  \n24                                 0.02  \n25                                 0.02  \n26                                 0.02  \n27                                 0.02  \n28                                 0.02  \n29                                 0.02  \n30                                 0.02  ",
      "text/html": "<div>\n<style scoped>\n    .dataframe tbody tr th:only-of-type {\n        vertical-align: middle;\n    }\n\n    .dataframe tbody tr th {\n        vertical-align: top;\n    }\n\n    .dataframe thead th {\n        text-align: right;\n    }\n</style>\n<table border=\"1\" class=\"dataframe\">\n  <thead>\n    <tr style=\"text-align: right;\">\n      <th></th>\n      <th>Years</th>\n      <th>CAPEX (tpa) Export Terminal</th>\n      <th>OPEX (tpa) Export Terminal</th>\n      <th>Electricity Use (kwh/kg H2) Export Terminal</th>\n      <th>Boil-off (kg/kg H2) Export Terminal</th>\n      <th>CAPEX (tpa) Import Terminal</th>\n      <th>OPEX (tpa) Import Terminal</th>\n      <th>Electricity Use (kwh/kg H2) Import Terminal</th>\n      <th>Boil-off (kg/kg H2) Import Terminal</th>\n    </tr>\n  </thead>\n  <tbody>\n    <tr>\n      <th>0</th>\n      <td>2020</td>\n      <td>747.198008</td>\n      <td>29.887920</td>\n      <td>0.61</td>\n      <td>0.003</td>\n      <td>4939.224387</td>\n      <td>197.568975</td>\n      <td>0.2</td>\n      <td>0.02</td>\n    </tr>\n    <tr>\n      <th>1</th>\n      <td>2021</td>\n      <td>739.726027</td>\n      <td>29.589041</td>\n      <td>0.61</td>\n      <td>0.003</td>\n      <td>4889.832144</td>\n      <td>195.593286</td>\n      <td>0.2</td>\n      <td>0.02</td>\n    </tr>\n    <tr>\n      <th>2</th>\n      <td>2022</td>\n      <td>732.254047</td>\n      <td>29.290162</td>\n      <td>0.61</td>\n      <td>0.003</td>\n      <td>4840.439900</td>\n      <td>193.617596</td>\n      <td>0.2</td>\n      <td>0.02</td>\n    </tr>\n    <tr>\n      <th>3</th>\n      <td>2023</td>\n      <td>724.782067</td>\n      <td>28.991283</td>\n      <td>0.61</td>\n      <td>0.003</td>\n      <td>4791.047656</td>\n      <td>191.641906</td>\n      <td>0.2</td>\n      <td>0.02</td>\n    </tr>\n    <tr>\n      <th>4</th>\n      <td>2024</td>\n      <td>717.310087</td>\n      <td>28.692403</td>\n      <td>0.61</td>\n      <td>0.003</td>\n      <td>4741.655412</td>\n      <td>189.666216</td>\n      <td>0.2</td>\n      <td>0.02</td>\n    </tr>\n    <tr>\n      <th>5</th>\n      <td>2025</td>\n      <td>709.838107</td>\n      <td>28.393524</td>\n      <td>0.61</td>\n      <td>0.003</td>\n      <td>4692.263168</td>\n      <td>187.690527</td>\n      <td>0.2</td>\n      <td>0.02</td>\n    </tr>\n    <tr>\n      <th>6</th>\n      <td>2026</td>\n      <td>702.366127</td>\n      <td>28.094645</td>\n      <td>0.61</td>\n      <td>0.003</td>\n      <td>4642.870924</td>\n      <td>185.714837</td>\n      <td>0.2</td>\n      <td>0.02</td>\n    </tr>\n    <tr>\n      <th>7</th>\n      <td>2027</td>\n      <td>694.894147</td>\n      <td>27.795766</td>\n      <td>0.61</td>\n      <td>0.003</td>\n      <td>4593.478680</td>\n      <td>183.739147</td>\n      <td>0.2</td>\n      <td>0.02</td>\n    </tr>\n    <tr>\n      <th>8</th>\n      <td>2028</td>\n      <td>687.422167</td>\n      <td>27.496887</td>\n      <td>0.61</td>\n      <td>0.003</td>\n      <td>4544.086436</td>\n      <td>181.763457</td>\n      <td>0.2</td>\n      <td>0.02</td>\n    </tr>\n    <tr>\n      <th>9</th>\n      <td>2029</td>\n      <td>679.950187</td>\n      <td>27.198007</td>\n      <td>0.61</td>\n      <td>0.003</td>\n      <td>4494.694193</td>\n      <td>179.787768</td>\n      <td>0.2</td>\n      <td>0.02</td>\n    </tr>\n    <tr>\n      <th>10</th>\n      <td>2030</td>\n      <td>672.478207</td>\n      <td>26.899128</td>\n      <td>0.61</td>\n      <td>0.003</td>\n      <td>4445.301949</td>\n      <td>177.812078</td>\n      <td>0.2</td>\n      <td>0.02</td>\n    </tr>\n    <tr>\n      <th>11</th>\n      <td>2031</td>\n      <td>655.666252</td>\n      <td>26.226650</td>\n      <td>0.61</td>\n      <td>0.003</td>\n      <td>4334.169400</td>\n      <td>173.366776</td>\n      <td>0.2</td>\n      <td>0.02</td>\n    </tr>\n    <tr>\n      <th>12</th>\n      <td>2032</td>\n      <td>638.854296</td>\n      <td>25.554172</td>\n      <td>0.61</td>\n      <td>0.003</td>\n      <td>4223.036851</td>\n      <td>168.921474</td>\n      <td>0.2</td>\n      <td>0.02</td>\n    </tr>\n    <tr>\n      <th>13</th>\n      <td>2033</td>\n      <td>622.042341</td>\n      <td>24.881694</td>\n      <td>0.61</td>\n      <td>0.003</td>\n      <td>4111.904303</td>\n      <td>164.476172</td>\n      <td>0.2</td>\n      <td>0.02</td>\n    </tr>\n    <tr>\n      <th>14</th>\n      <td>2034</td>\n      <td>605.230386</td>\n      <td>24.209215</td>\n      <td>0.61</td>\n      <td>0.003</td>\n      <td>4000.771754</td>\n      <td>160.030870</td>\n      <td>0.2</td>\n      <td>0.02</td>\n    </tr>\n    <tr>\n      <th>15</th>\n      <td>2035</td>\n      <td>588.418431</td>\n      <td>23.536737</td>\n      <td>0.61</td>\n      <td>0.003</td>\n      <td>3889.639205</td>\n      <td>155.585568</td>\n      <td>0.2</td>\n      <td>0.02</td>\n    </tr>\n    <tr>\n      <th>16</th>\n      <td>2036</td>\n      <td>571.606476</td>\n      <td>22.864259</td>\n      <td>0.61</td>\n      <td>0.003</td>\n      <td>3778.506656</td>\n      <td>151.140266</td>\n      <td>0.2</td>\n      <td>0.02</td>\n    </tr>\n    <tr>\n      <th>17</th>\n      <td>2037</td>\n      <td>554.794520</td>\n      <td>22.191781</td>\n      <td>0.61</td>\n      <td>0.003</td>\n      <td>3667.374108</td>\n      <td>146.694964</td>\n      <td>0.2</td>\n      <td>0.02</td>\n    </tr>\n    <tr>\n      <th>18</th>\n      <td>2038</td>\n      <td>537.982565</td>\n      <td>21.519303</td>\n      <td>0.61</td>\n      <td>0.003</td>\n      <td>3556.241559</td>\n      <td>142.249662</td>\n      <td>0.2</td>\n      <td>0.02</td>\n    </tr>\n    <tr>\n      <th>19</th>\n      <td>2039</td>\n      <td>521.170610</td>\n      <td>20.846824</td>\n      <td>0.61</td>\n      <td>0.003</td>\n      <td>3445.109010</td>\n      <td>137.804360</td>\n      <td>0.2</td>\n      <td>0.02</td>\n    </tr>\n    <tr>\n      <th>20</th>\n      <td>2040</td>\n      <td>504.358655</td>\n      <td>20.174346</td>\n      <td>0.61</td>\n      <td>0.003</td>\n      <td>3333.976462</td>\n      <td>133.359059</td>\n      <td>0.2</td>\n      <td>0.02</td>\n    </tr>\n    <tr>\n      <th>21</th>\n      <td>2041</td>\n      <td>487.546700</td>\n      <td>19.501868</td>\n      <td>0.61</td>\n      <td>0.003</td>\n      <td>3222.843913</td>\n      <td>128.913757</td>\n      <td>0.2</td>\n      <td>0.02</td>\n    </tr>\n    <tr>\n      <th>22</th>\n      <td>2042</td>\n      <td>470.734745</td>\n      <td>18.829390</td>\n      <td>0.61</td>\n      <td>0.003</td>\n      <td>3111.711364</td>\n      <td>124.468455</td>\n      <td>0.2</td>\n      <td>0.02</td>\n    </tr>\n    <tr>\n      <th>23</th>\n      <td>2043</td>\n      <td>453.922790</td>\n      <td>18.156912</td>\n      <td>0.61</td>\n      <td>0.003</td>\n      <td>3000.578815</td>\n      <td>120.023153</td>\n      <td>0.2</td>\n      <td>0.02</td>\n    </tr>\n    <tr>\n      <th>24</th>\n      <td>2044</td>\n      <td>437.110834</td>\n      <td>17.484433</td>\n      <td>0.61</td>\n      <td>0.003</td>\n      <td>2889.446267</td>\n      <td>115.577851</td>\n      <td>0.2</td>\n      <td>0.02</td>\n    </tr>\n    <tr>\n      <th>25</th>\n      <td>2045</td>\n      <td>420.298879</td>\n      <td>16.811955</td>\n      <td>0.61</td>\n      <td>0.003</td>\n      <td>2778.313718</td>\n      <td>111.132549</td>\n      <td>0.2</td>\n      <td>0.02</td>\n    </tr>\n    <tr>\n      <th>26</th>\n      <td>2046</td>\n      <td>403.486924</td>\n      <td>16.139477</td>\n      <td>0.61</td>\n      <td>0.003</td>\n      <td>2667.181169</td>\n      <td>106.687247</td>\n      <td>0.2</td>\n      <td>0.02</td>\n    </tr>\n    <tr>\n      <th>27</th>\n      <td>2047</td>\n      <td>386.674969</td>\n      <td>15.466999</td>\n      <td>0.61</td>\n      <td>0.003</td>\n      <td>2556.048620</td>\n      <td>102.241945</td>\n      <td>0.2</td>\n      <td>0.02</td>\n    </tr>\n    <tr>\n      <th>28</th>\n      <td>2048</td>\n      <td>369.863014</td>\n      <td>14.794521</td>\n      <td>0.61</td>\n      <td>0.003</td>\n      <td>2444.916072</td>\n      <td>97.796643</td>\n      <td>0.2</td>\n      <td>0.02</td>\n    </tr>\n    <tr>\n      <th>29</th>\n      <td>2049</td>\n      <td>353.051059</td>\n      <td>14.122042</td>\n      <td>0.61</td>\n      <td>0.003</td>\n      <td>2333.783523</td>\n      <td>93.351341</td>\n      <td>0.2</td>\n      <td>0.02</td>\n    </tr>\n    <tr>\n      <th>30</th>\n      <td>2050</td>\n      <td>336.239103</td>\n      <td>13.449564</td>\n      <td>0.61</td>\n      <td>0.003</td>\n      <td>2222.650974</td>\n      <td>88.906039</td>\n      <td>0.2</td>\n      <td>0.02</td>\n    </tr>\n  </tbody>\n</table>\n</div>"
     },
     "execution_count": 138,
     "metadata": {},
     "output_type": "execute_result"
    }
   ],
   "source": [
    "ter_time_inputs = pd.read_csv(\"/Users/jakob/PycharmProjects/H2_pathways_repo/data/raw/terminals_time_inputs.csv\", delimiter=';', decimal=',')\n",
    "ter_time_inputs"
   ],
   "metadata": {
    "collapsed": false,
    "pycharm": {
     "name": "#%%\n"
    }
   }
  },
  {
   "cell_type": "markdown",
   "source": [],
   "metadata": {
    "collapsed": false,
    "pycharm": {
     "name": "#%% md\n"
    }
   }
  },
  {
   "cell_type": "code",
   "execution_count": 139,
   "outputs": [],
   "source": [
    "# Definition of the cost calculation function for the Export terminal.\n",
    "# Time relevant variables = capex [$/tpa], opex [$/tpa], electricity use [kwh/kg H2], electricity price [$/MWh], boil off in [%/d], storage time in days, lcoh in [$/kg_h2]\n",
    "def calculate_export_terminal_costs(alpha_et, capex_et_y, opex_et_y, el_et, p_el_y, lcoh_ngr_y):\n",
    "    result = (alpha_et * capex_et_y/1000 + opex_et_y/1000) + el_et * p_el_y/1000 + b_et * t_et * lcoh_ngr_y\n",
    "\n",
    "    return result"
   ],
   "metadata": {
    "collapsed": false,
    "pycharm": {
     "name": "#%%\n"
    }
   }
  },
  {
   "cell_type": "code",
   "execution_count": 140,
   "outputs": [],
   "source": [
    "#Calculation of export terminal costs [$/kg_h2] from 2030 to 2050.\n",
    "years = np.arange(2020, 2051)\n",
    "result = pd.DataFrame(index=years, columns=['Export_terminal_costs'])\n",
    "result.index.name = 'Years'"
   ],
   "metadata": {
    "collapsed": false,
    "pycharm": {
     "name": "#%%\n"
    }
   }
  },
  {
   "cell_type": "code",
   "execution_count": 141,
   "outputs": [
    {
     "ename": "NameError",
     "evalue": "name 'alpha_et' is not defined",
     "output_type": "error",
     "traceback": [
      "\u001B[0;31m---------------------------------------------------------------------------\u001B[0m",
      "\u001B[0;31mNameError\u001B[0m                                 Traceback (most recent call last)",
      "Input \u001B[0;32mIn [141]\u001B[0m, in \u001B[0;36m<cell line: 1>\u001B[0;34m()\u001B[0m\n\u001B[1;32m      6\u001B[0m     lcoh_ngr_y \u001B[38;5;241m=\u001B[39m \u001B[38;5;28mfloat\u001B[39m(lcoh_ngr[lcoh_ngr\u001B[38;5;241m.\u001B[39mYears \u001B[38;5;241m==\u001B[39m year][\u001B[38;5;124m'\u001B[39m\u001B[38;5;124mLCOH_NGR\u001B[39m\u001B[38;5;124m'\u001B[39m])\n\u001B[1;32m      8\u001B[0m     \u001B[38;5;66;03m# calculate costs of specific year\u001B[39;00m\n\u001B[0;32m----> 9\u001B[0m     result\u001B[38;5;241m.\u001B[39mExport_terminal_costs\u001B[38;5;241m.\u001B[39mloc[year] \u001B[38;5;241m=\u001B[39m calculate_export_terminal_costs(alpha_et\u001B[38;5;241m=\u001B[39m\u001B[43malpha_et\u001B[49m, capex_et_y\u001B[38;5;241m=\u001B[39mcapex_et_y,\n\u001B[1;32m     10\u001B[0m                                                               opex_et_y\u001B[38;5;241m=\u001B[39mopex_et_y, el_et\u001B[38;5;241m=\u001B[39mel_et, p_el_y\u001B[38;5;241m=\u001B[39mp_el_y, lcoh_ngr_y\u001B[38;5;241m=\u001B[39mlcoh_ngr_y)\n\u001B[1;32m     12\u001B[0m result\n",
      "\u001B[0;31mNameError\u001B[0m: name 'alpha_et' is not defined"
     ]
    }
   ],
   "source": [
    "for year in years:\n",
    "    # get capex, opex, xx\n",
    "    capex_et_y = float(ter_time_inputs[ter_time_inputs.Years == year]['CAPEX (tpa) Export Terminal'])\n",
    "    opex_et_y = float(ter_time_inputs[ter_time_inputs.Years == year]['OPEX (tpa) Export Terminal'])\n",
    "    p_el_y = float(p_electricity[p_electricity.Years == year]['Norway'])\n",
    "    lcoh_ngr_y = float(lcoh_ngr[lcoh_ngr.Years == year]['LCOH_NGR'])\n",
    "\n",
    "    # calculate costs of specific year\n",
    "    result.Export_terminal_costs.loc[year] = calculate_export_terminal_costs(alpha_et=alpha_et, capex_et_y=capex_et_y,\n",
    "                                                              opex_et_y=opex_et_y, el_et=el_et, p_el_y=p_el_y, lcoh_ngr_y=lcoh_ngr_y)\n",
    "\n",
    "result"
   ],
   "metadata": {
    "collapsed": false,
    "pycharm": {
     "name": "#%%\n"
    }
   }
  },
  {
   "cell_type": "code",
   "execution_count": 142,
   "outputs": [],
   "source": [
    "# Create csv file from results dataframe\n",
    "path_csv= r'/Users/jakob/PycharmProjects/H2_pathways_repo/data/processed'\n",
    "output_file = os.path.join(path_csv, 'Export_terminal_costs.csv')\n",
    "result.to_csv(output_file, sep=';')"
   ],
   "metadata": {
    "collapsed": false,
    "pycharm": {
     "name": "#%%\n"
    }
   }
  },
  {
   "cell_type": "code",
   "execution_count": 143,
   "outputs": [
    {
     "ename": "NameError",
     "evalue": "name 'EC' is not defined",
     "output_type": "error",
     "traceback": [
      "\u001B[0;31m---------------------------------------------------------------------------\u001B[0m",
      "\u001B[0;31mNameError\u001B[0m                                 Traceback (most recent call last)",
      "Input \u001B[0;32mIn [143]\u001B[0m, in \u001B[0;36m<cell line: 2>\u001B[0;34m()\u001B[0m\n\u001B[1;32m      1\u001B[0m \u001B[38;5;66;03m# Plot cost curve of hydrogen production from NGR with CCS\u001B[39;00m\n\u001B[0;32m----> 2\u001B[0m plt\u001B[38;5;241m.\u001B[39mplot(\u001B[43mEC\u001B[49m, color\u001B[38;5;241m=\u001B[39m\u001B[38;5;124m'\u001B[39m\u001B[38;5;124mred\u001B[39m\u001B[38;5;124m'\u001B[39m, linestyle\u001B[38;5;241m=\u001B[39m\u001B[38;5;124m'\u001B[39m\u001B[38;5;124mdashed\u001B[39m\u001B[38;5;124m'\u001B[39m)\n\u001B[1;32m      3\u001B[0m plt\u001B[38;5;241m.\u001B[39mtitle(\u001B[38;5;124m'\u001B[39m\u001B[38;5;124mExport terminal costs over time\u001B[39m\u001B[38;5;124m'\u001B[39m)\n\u001B[1;32m      4\u001B[0m plt\u001B[38;5;241m.\u001B[39mlegend([\u001B[38;5;124m'\u001B[39m\u001B[38;5;124mExport terminal costs in $/kg_H2\u001B[39m\u001B[38;5;124m'\u001B[39m])\n",
      "\u001B[0;31mNameError\u001B[0m: name 'EC' is not defined"
     ]
    }
   ],
   "source": [
    "# Plot cost curve of hydrogen production from NGR with CCS\n",
    "plt.plot(EC, color='red', linestyle='dashed')\n",
    "plt.title('Export terminal costs over time')\n",
    "plt.legend(['Export terminal costs in $/kg_H2'])\n",
    "plt.xlabel('Year')\n",
    "plt.ylabel('Cost [$/kg_H2]')\n",
    "plt.show()"
   ],
   "metadata": {
    "collapsed": false,
    "pycharm": {
     "name": "#%%\n"
    }
   }
  },
  {
   "cell_type": "markdown",
   "source": [],
   "metadata": {
    "collapsed": false,
    "pycharm": {
     "name": "#%% md\n"
    }
   }
  },
  {
   "cell_type": "code",
   "execution_count": 144,
   "outputs": [],
   "source": [
    "#SHIPPING"
   ],
   "metadata": {
    "collapsed": false,
    "pycharm": {
     "name": "#%%\n"
    }
   }
  },
  {
   "cell_type": "code",
   "execution_count": 145,
   "outputs": [
    {
     "data": {
      "text/plain": "                    Shipping  Shipping Parameter  Unnamed: 2  Unnamed: 3  \\\n0     Technical Lifetime (y)           30.000000         NaN         NaN   \n1        Amortisation Factor            0.088827         NaN         NaN   \n2       Capacity/ship (tH2 )        11000.000000         NaN         NaN   \n3   CAPEX/ship (USD million)          412.000000         NaN         NaN   \n4               CAPEX ($/kg)           37.000000         NaN         NaN   \n5          Ship speed (km/h)           30.000000         NaN         NaN   \n6      Berthing time (hours)           48.000000         NaN         NaN   \n7   Annual OPEX (% of CAPEX)            0.040000         NaN         NaN   \n8           Fuel use (MJ/km)         1487.000000         NaN         NaN   \n9      Fuel use (kg H2/t/km)            0.001127         NaN         NaN   \n10       Boil off (%per day)            0.002000         NaN         NaN   \n11                       NaN                 NaN         NaN         NaN   \n12                       NaN                 NaN         NaN         NaN   \n13                       NaN                 NaN         NaN         NaN   \n14                       NaN                 NaN         NaN         NaN   \n15                       NaN                 NaN         NaN         NaN   \n16                       NaN                 NaN         NaN         NaN   \n17                       NaN                 NaN         NaN         NaN   \n18                       NaN                 NaN         NaN         NaN   \n19                       NaN                 NaN         NaN         NaN   \n20                       NaN                 NaN         NaN         NaN   \n21                       NaN                 NaN         NaN         NaN   \n22                       NaN                 NaN         NaN         NaN   \n23                       NaN                 NaN         NaN         NaN   \n\n   Unnamed: 4  \n0         NaN  \n1         NaN  \n2         NaN  \n3         NaN  \n4         NaN  \n5         NaN  \n6         NaN  \n7         NaN  \n8         NaN  \n9         NaN  \n10        NaN  \n11        NaN  \n12        NaN  \n13        NaN  \n14        NaN  \n15        NaN  \n16        NaN  \n17        NaN  \n18        NaN  \n19        NaN  \n20        NaN  \n21        NaN  \n22        NaN  \n23          r  ",
      "text/html": "<div>\n<style scoped>\n    .dataframe tbody tr th:only-of-type {\n        vertical-align: middle;\n    }\n\n    .dataframe tbody tr th {\n        vertical-align: top;\n    }\n\n    .dataframe thead th {\n        text-align: right;\n    }\n</style>\n<table border=\"1\" class=\"dataframe\">\n  <thead>\n    <tr style=\"text-align: right;\">\n      <th></th>\n      <th>Shipping</th>\n      <th>Shipping Parameter</th>\n      <th>Unnamed: 2</th>\n      <th>Unnamed: 3</th>\n      <th>Unnamed: 4</th>\n    </tr>\n  </thead>\n  <tbody>\n    <tr>\n      <th>0</th>\n      <td>Technical Lifetime (y)</td>\n      <td>30.000000</td>\n      <td>NaN</td>\n      <td>NaN</td>\n      <td>NaN</td>\n    </tr>\n    <tr>\n      <th>1</th>\n      <td>Amortisation Factor</td>\n      <td>0.088827</td>\n      <td>NaN</td>\n      <td>NaN</td>\n      <td>NaN</td>\n    </tr>\n    <tr>\n      <th>2</th>\n      <td>Capacity/ship (tH2 )</td>\n      <td>11000.000000</td>\n      <td>NaN</td>\n      <td>NaN</td>\n      <td>NaN</td>\n    </tr>\n    <tr>\n      <th>3</th>\n      <td>CAPEX/ship (USD million)</td>\n      <td>412.000000</td>\n      <td>NaN</td>\n      <td>NaN</td>\n      <td>NaN</td>\n    </tr>\n    <tr>\n      <th>4</th>\n      <td>CAPEX ($/kg)</td>\n      <td>37.000000</td>\n      <td>NaN</td>\n      <td>NaN</td>\n      <td>NaN</td>\n    </tr>\n    <tr>\n      <th>5</th>\n      <td>Ship speed (km/h)</td>\n      <td>30.000000</td>\n      <td>NaN</td>\n      <td>NaN</td>\n      <td>NaN</td>\n    </tr>\n    <tr>\n      <th>6</th>\n      <td>Berthing time (hours)</td>\n      <td>48.000000</td>\n      <td>NaN</td>\n      <td>NaN</td>\n      <td>NaN</td>\n    </tr>\n    <tr>\n      <th>7</th>\n      <td>Annual OPEX (% of CAPEX)</td>\n      <td>0.040000</td>\n      <td>NaN</td>\n      <td>NaN</td>\n      <td>NaN</td>\n    </tr>\n    <tr>\n      <th>8</th>\n      <td>Fuel use (MJ/km)</td>\n      <td>1487.000000</td>\n      <td>NaN</td>\n      <td>NaN</td>\n      <td>NaN</td>\n    </tr>\n    <tr>\n      <th>9</th>\n      <td>Fuel use (kg H2/t/km)</td>\n      <td>0.001127</td>\n      <td>NaN</td>\n      <td>NaN</td>\n      <td>NaN</td>\n    </tr>\n    <tr>\n      <th>10</th>\n      <td>Boil off (%per day)</td>\n      <td>0.002000</td>\n      <td>NaN</td>\n      <td>NaN</td>\n      <td>NaN</td>\n    </tr>\n    <tr>\n      <th>11</th>\n      <td>NaN</td>\n      <td>NaN</td>\n      <td>NaN</td>\n      <td>NaN</td>\n      <td>NaN</td>\n    </tr>\n    <tr>\n      <th>12</th>\n      <td>NaN</td>\n      <td>NaN</td>\n      <td>NaN</td>\n      <td>NaN</td>\n      <td>NaN</td>\n    </tr>\n    <tr>\n      <th>13</th>\n      <td>NaN</td>\n      <td>NaN</td>\n      <td>NaN</td>\n      <td>NaN</td>\n      <td>NaN</td>\n    </tr>\n    <tr>\n      <th>14</th>\n      <td>NaN</td>\n      <td>NaN</td>\n      <td>NaN</td>\n      <td>NaN</td>\n      <td>NaN</td>\n    </tr>\n    <tr>\n      <th>15</th>\n      <td>NaN</td>\n      <td>NaN</td>\n      <td>NaN</td>\n      <td>NaN</td>\n      <td>NaN</td>\n    </tr>\n    <tr>\n      <th>16</th>\n      <td>NaN</td>\n      <td>NaN</td>\n      <td>NaN</td>\n      <td>NaN</td>\n      <td>NaN</td>\n    </tr>\n    <tr>\n      <th>17</th>\n      <td>NaN</td>\n      <td>NaN</td>\n      <td>NaN</td>\n      <td>NaN</td>\n      <td>NaN</td>\n    </tr>\n    <tr>\n      <th>18</th>\n      <td>NaN</td>\n      <td>NaN</td>\n      <td>NaN</td>\n      <td>NaN</td>\n      <td>NaN</td>\n    </tr>\n    <tr>\n      <th>19</th>\n      <td>NaN</td>\n      <td>NaN</td>\n      <td>NaN</td>\n      <td>NaN</td>\n      <td>NaN</td>\n    </tr>\n    <tr>\n      <th>20</th>\n      <td>NaN</td>\n      <td>NaN</td>\n      <td>NaN</td>\n      <td>NaN</td>\n      <td>NaN</td>\n    </tr>\n    <tr>\n      <th>21</th>\n      <td>NaN</td>\n      <td>NaN</td>\n      <td>NaN</td>\n      <td>NaN</td>\n      <td>NaN</td>\n    </tr>\n    <tr>\n      <th>22</th>\n      <td>NaN</td>\n      <td>NaN</td>\n      <td>NaN</td>\n      <td>NaN</td>\n      <td>NaN</td>\n    </tr>\n    <tr>\n      <th>23</th>\n      <td>NaN</td>\n      <td>NaN</td>\n      <td>NaN</td>\n      <td>NaN</td>\n      <td>r</td>\n    </tr>\n  </tbody>\n</table>\n</div>"
     },
     "execution_count": 145,
     "metadata": {},
     "output_type": "execute_result"
    }
   ],
   "source": [
    "#Definition of variables for shipping cost SC\n",
    "tea_ship = pd.read_csv(\"/Users/jakob/PycharmProjects/H2_pathways_repo/data/raw/tea_shipping.csv\", delimiter = ';', decimal = ',')\n",
    "tea_ship"
   ],
   "metadata": {
    "collapsed": false,
    "pycharm": {
     "name": "#%%\n"
    }
   }
  },
  {
   "cell_type": "code",
   "execution_count": 146,
   "outputs": [
    {
     "data": {
      "text/plain": "30.0"
     },
     "execution_count": 146,
     "metadata": {},
     "output_type": "execute_result"
    }
   ],
   "source": [
    "# Technical lifetime of ships in years\n",
    "l_ship = float(tea_ship[tea_ship.Shipping == 'Technical Lifetime (y)']['Shipping Parameter'].values)\n",
    "l_ship"
   ],
   "metadata": {
    "collapsed": false,
    "pycharm": {
     "name": "#%%\n"
    }
   }
  },
  {
   "cell_type": "code",
   "execution_count": 147,
   "outputs": [
    {
     "data": {
      "text/plain": "0.08882743338727227"
     },
     "execution_count": 147,
     "metadata": {},
     "output_type": "execute_result"
    }
   ],
   "source": [
    "# Amortisation factor for shipping\n",
    "alpha_ship = (i_tra * (1 + i_tra) ** l_ship) / (((1 + i_tra) ** l_ship) - 1)\n",
    "alpha_ship\n"
   ],
   "metadata": {
    "collapsed": false,
    "pycharm": {
     "name": "#%%\n"
    }
   }
  },
  {
   "cell_type": "code",
   "execution_count": 148,
   "outputs": [
    {
     "data": {
      "text/plain": "412.0"
     },
     "execution_count": 148,
     "metadata": {},
     "output_type": "execute_result"
    }
   ],
   "source": [
    "# Cost of one ship in Mio.$\n",
    "capex_ship_base = float(tea_ship[tea_ship.Shipping == 'CAPEX/ship (USD million)']['Shipping Parameter'].values)\n",
    "capex_ship_base"
   ],
   "metadata": {
    "collapsed": false,
    "pycharm": {
     "name": "#%%\n"
    }
   }
  },
  {
   "cell_type": "code",
   "execution_count": 149,
   "outputs": [
    {
     "data": {
      "text/plain": "11000.0"
     },
     "execution_count": 149,
     "metadata": {},
     "output_type": "execute_result"
    }
   ],
   "source": [
    "#Capacity of a ship in t_h2\n",
    "capa_ship = float(tea_ship[tea_ship.Shipping == 'Capacity/ship (tH2 )']['Shipping Parameter'].values)\n",
    "capa_ship"
   ],
   "metadata": {
    "collapsed": false,
    "pycharm": {
     "name": "#%%\n"
    }
   }
  },
  {
   "cell_type": "code",
   "execution_count": 150,
   "outputs": [
    {
     "data": {
      "text/plain": "37.45454545454545"
     },
     "execution_count": 150,
     "metadata": {},
     "output_type": "execute_result"
    }
   ],
   "source": [
    "# Capex for shipping in [$/kg_h2]\n",
    "capex_ship = capex_ship_base / capa_ship * 1000\n",
    "capex_ship"
   ],
   "metadata": {
    "collapsed": false,
    "pycharm": {
     "name": "#%%\n"
    }
   }
  },
  {
   "cell_type": "code",
   "execution_count": 151,
   "outputs": [
    {
     "data": {
      "text/plain": "0.04"
     },
     "execution_count": 151,
     "metadata": {},
     "output_type": "execute_result"
    }
   ],
   "source": [
    "# Opex shipping share of Capex in %/a\n",
    "opex_share_ship = float(tea_ship[tea_ship.Shipping == 'Annual OPEX (% of CAPEX)']['Shipping Parameter'].values)\n",
    "opex_share_ship"
   ],
   "metadata": {
    "collapsed": false,
    "pycharm": {
     "name": "#%%\n"
    }
   }
  },
  {
   "cell_type": "code",
   "execution_count": 152,
   "outputs": [
    {
     "data": {
      "text/plain": "1.498181818181818"
     },
     "execution_count": 152,
     "metadata": {},
     "output_type": "execute_result"
    }
   ],
   "source": [
    "# Opex for shipping in [$/kg_h2/a]\n",
    "opex_ship = opex_share_ship * capex_ship\n",
    "opex_ship"
   ],
   "metadata": {
    "collapsed": false,
    "pycharm": {
     "name": "#%%\n"
    }
   }
  },
  {
   "cell_type": "code",
   "execution_count": 153,
   "outputs": [
    {
     "data": {
      "text/plain": "602.403"
     },
     "execution_count": 153,
     "metadata": {},
     "output_type": "execute_result"
    }
   ],
   "source": [
    "# Distance between countries via ship in [km]\n",
    "d_sea = float(tra_d[(tra_d['Origin_Country'] == 'Norway') & (tra_d['Destination_Country'] == 'Germany')]['sea distance (km)'].values)\n",
    "d_sea\n"
   ],
   "metadata": {
    "collapsed": false,
    "pycharm": {
     "name": "#%%\n"
    }
   }
  },
  {
   "cell_type": "code",
   "execution_count": 154,
   "outputs": [
    {
     "data": {
      "text/plain": "30.0"
     },
     "execution_count": 154,
     "metadata": {},
     "output_type": "execute_result"
    }
   ],
   "source": [
    "# Ship speed in [km/h]\n",
    "v_ship = float(tea_ship[tea_ship.Shipping == 'Ship speed (km/h)']['Shipping Parameter'].values)\n",
    "v_ship"
   ],
   "metadata": {
    "collapsed": false,
    "pycharm": {
     "name": "#%%\n"
    }
   }
  },
  {
   "cell_type": "code",
   "execution_count": 155,
   "outputs": [
    {
     "data": {
      "text/plain": "48.0"
     },
     "execution_count": 155,
     "metadata": {},
     "output_type": "execute_result"
    }
   ],
   "source": [
    "# Berthing time (time for unloading and loading in a harbour) in [h]\n",
    "h_ship = float(tea_ship[tea_ship.Shipping == 'Berthing time (hours)']['Shipping Parameter'].values)\n",
    "h_ship\n"
   ],
   "metadata": {
    "collapsed": false,
    "pycharm": {
     "name": "#%%\n"
    }
   }
  },
  {
   "cell_type": "code",
   "execution_count": 156,
   "outputs": [
    {
     "data": {
      "text/plain": "0.002"
     },
     "execution_count": 156,
     "metadata": {},
     "output_type": "execute_result"
    }
   ],
   "source": [
    "# Boil-off when shipping in [%/h]\n",
    "b_ship = float(tea_ship[tea_ship.Shipping == 'Boil off (%per day)']['Shipping Parameter'].values)\n",
    "b_ship"
   ],
   "metadata": {
    "collapsed": false,
    "pycharm": {
     "name": "#%%\n"
    }
   }
  },
  {
   "cell_type": "code",
   "execution_count": 157,
   "outputs": [
    {
     "data": {
      "text/plain": "0.001126891"
     },
     "execution_count": 157,
     "metadata": {},
     "output_type": "execute_result"
    }
   ],
   "source": [
    "# Fuel consumption of a ship in [kg_h2/km]\n",
    "f_ship = float(tea_ship[tea_ship.Shipping == 'Fuel use (kg H2/t/km)']['Shipping Parameter'].values)\n",
    "f_ship\n"
   ],
   "metadata": {
    "collapsed": false,
    "pycharm": {
     "name": "#%%\n"
    }
   }
  },
  {
   "cell_type": "code",
   "execution_count": 158,
   "outputs": [
    {
     "data": {
      "text/plain": "0.05400553990088198"
     },
     "execution_count": 158,
     "metadata": {},
     "output_type": "execute_result"
    }
   ],
   "source": [
    "# Shipping cost in [$/kg_h2] including: Yearly capex per kg of transport capacity; Loads per year; share of load left after shipping; Cost of boil-off\n",
    "SC = (alpha_ship * capex_ship + opex_ship)/(8760/(2*(d_sea/v_ship + h_ship)))/((1-(b_ship * d_sea/v_ship) - (f_ship  * d_sea)) + (b_ship * d_sea/v_ship + f_ship * d_sea) * lcoh_ngr_y)\n",
    "SC"
   ],
   "metadata": {
    "collapsed": false,
    "pycharm": {
     "name": "#%%\n"
    }
   }
  },
  {
   "cell_type": "code",
   "execution_count": 159,
   "outputs": [
    {
     "data": {
      "text/plain": "    Years  CAPEX ($/kg) Shipping  OPEX ($/kg/a) Shipping\n0    2020              37.454545                1.498182\n1    2021              37.080000                1.483200\n2    2022              36.705455                1.468218\n3    2023              36.330909                1.453236\n4    2024              35.956364                1.438255\n5    2025              35.581818                1.423273\n6    2026              35.207273                1.408291\n7    2027              34.832727                1.393309\n8    2028              34.458182                1.378327\n9    2029              34.083636                1.363345\n10   2030              33.709091                1.348364\n11   2031              32.866364                1.314655\n12   2032              32.023636                1.280945\n13   2033              31.180909                1.247236\n14   2034              30.338182                1.213527\n15   2035              29.495455                1.179818\n16   2036              28.652727                1.146109\n17   2037              27.810000                1.112400\n18   2038              26.967273                1.078691\n19   2039              26.124545                1.044982\n20   2040              25.281818                1.011273\n21   2041              24.439091                0.977564\n22   2042              23.596364                0.943855\n23   2043              22.753636                0.910145\n24   2044              21.910909                0.876436\n25   2045              21.068182                0.842727\n26   2046              20.225455                0.809018\n27   2047              19.382727                0.775309\n28   2048              18.540000                0.741600\n29   2049              17.697273                0.707891\n30   2050              16.854545                0.674182",
      "text/html": "<div>\n<style scoped>\n    .dataframe tbody tr th:only-of-type {\n        vertical-align: middle;\n    }\n\n    .dataframe tbody tr th {\n        vertical-align: top;\n    }\n\n    .dataframe thead th {\n        text-align: right;\n    }\n</style>\n<table border=\"1\" class=\"dataframe\">\n  <thead>\n    <tr style=\"text-align: right;\">\n      <th></th>\n      <th>Years</th>\n      <th>CAPEX ($/kg) Shipping</th>\n      <th>OPEX ($/kg/a) Shipping</th>\n    </tr>\n  </thead>\n  <tbody>\n    <tr>\n      <th>0</th>\n      <td>2020</td>\n      <td>37.454545</td>\n      <td>1.498182</td>\n    </tr>\n    <tr>\n      <th>1</th>\n      <td>2021</td>\n      <td>37.080000</td>\n      <td>1.483200</td>\n    </tr>\n    <tr>\n      <th>2</th>\n      <td>2022</td>\n      <td>36.705455</td>\n      <td>1.468218</td>\n    </tr>\n    <tr>\n      <th>3</th>\n      <td>2023</td>\n      <td>36.330909</td>\n      <td>1.453236</td>\n    </tr>\n    <tr>\n      <th>4</th>\n      <td>2024</td>\n      <td>35.956364</td>\n      <td>1.438255</td>\n    </tr>\n    <tr>\n      <th>5</th>\n      <td>2025</td>\n      <td>35.581818</td>\n      <td>1.423273</td>\n    </tr>\n    <tr>\n      <th>6</th>\n      <td>2026</td>\n      <td>35.207273</td>\n      <td>1.408291</td>\n    </tr>\n    <tr>\n      <th>7</th>\n      <td>2027</td>\n      <td>34.832727</td>\n      <td>1.393309</td>\n    </tr>\n    <tr>\n      <th>8</th>\n      <td>2028</td>\n      <td>34.458182</td>\n      <td>1.378327</td>\n    </tr>\n    <tr>\n      <th>9</th>\n      <td>2029</td>\n      <td>34.083636</td>\n      <td>1.363345</td>\n    </tr>\n    <tr>\n      <th>10</th>\n      <td>2030</td>\n      <td>33.709091</td>\n      <td>1.348364</td>\n    </tr>\n    <tr>\n      <th>11</th>\n      <td>2031</td>\n      <td>32.866364</td>\n      <td>1.314655</td>\n    </tr>\n    <tr>\n      <th>12</th>\n      <td>2032</td>\n      <td>32.023636</td>\n      <td>1.280945</td>\n    </tr>\n    <tr>\n      <th>13</th>\n      <td>2033</td>\n      <td>31.180909</td>\n      <td>1.247236</td>\n    </tr>\n    <tr>\n      <th>14</th>\n      <td>2034</td>\n      <td>30.338182</td>\n      <td>1.213527</td>\n    </tr>\n    <tr>\n      <th>15</th>\n      <td>2035</td>\n      <td>29.495455</td>\n      <td>1.179818</td>\n    </tr>\n    <tr>\n      <th>16</th>\n      <td>2036</td>\n      <td>28.652727</td>\n      <td>1.146109</td>\n    </tr>\n    <tr>\n      <th>17</th>\n      <td>2037</td>\n      <td>27.810000</td>\n      <td>1.112400</td>\n    </tr>\n    <tr>\n      <th>18</th>\n      <td>2038</td>\n      <td>26.967273</td>\n      <td>1.078691</td>\n    </tr>\n    <tr>\n      <th>19</th>\n      <td>2039</td>\n      <td>26.124545</td>\n      <td>1.044982</td>\n    </tr>\n    <tr>\n      <th>20</th>\n      <td>2040</td>\n      <td>25.281818</td>\n      <td>1.011273</td>\n    </tr>\n    <tr>\n      <th>21</th>\n      <td>2041</td>\n      <td>24.439091</td>\n      <td>0.977564</td>\n    </tr>\n    <tr>\n      <th>22</th>\n      <td>2042</td>\n      <td>23.596364</td>\n      <td>0.943855</td>\n    </tr>\n    <tr>\n      <th>23</th>\n      <td>2043</td>\n      <td>22.753636</td>\n      <td>0.910145</td>\n    </tr>\n    <tr>\n      <th>24</th>\n      <td>2044</td>\n      <td>21.910909</td>\n      <td>0.876436</td>\n    </tr>\n    <tr>\n      <th>25</th>\n      <td>2045</td>\n      <td>21.068182</td>\n      <td>0.842727</td>\n    </tr>\n    <tr>\n      <th>26</th>\n      <td>2046</td>\n      <td>20.225455</td>\n      <td>0.809018</td>\n    </tr>\n    <tr>\n      <th>27</th>\n      <td>2047</td>\n      <td>19.382727</td>\n      <td>0.775309</td>\n    </tr>\n    <tr>\n      <th>28</th>\n      <td>2048</td>\n      <td>18.540000</td>\n      <td>0.741600</td>\n    </tr>\n    <tr>\n      <th>29</th>\n      <td>2049</td>\n      <td>17.697273</td>\n      <td>0.707891</td>\n    </tr>\n    <tr>\n      <th>30</th>\n      <td>2050</td>\n      <td>16.854545</td>\n      <td>0.674182</td>\n    </tr>\n  </tbody>\n</table>\n</div>"
     },
     "execution_count": 159,
     "metadata": {},
     "output_type": "execute_result"
    }
   ],
   "source": [
    "ship_time_inputs = pd.read_csv('/Users/jakob/PycharmProjects/H2_pathways_repo/data/raw/shipping_time_inputs.csv', delimiter=';', decimal=',')\n",
    "ship_time_inputs"
   ],
   "metadata": {
    "collapsed": false,
    "pycharm": {
     "name": "#%%\n"
    }
   }
  },
  {
   "cell_type": "code",
   "execution_count": 160,
   "outputs": [],
   "source": [
    "# Definition of the cost calculation function for the maritime shipping. Time relevant variables = capex [$/kg], opex [$/kg/a], lcoh in [$/kg_h2]\n",
    "def calculate_ship_costs(alpha_ship, capex_ship_y, opex_ship_y, d_sea, v_ship, h_ship, b_ship, f_ship, lcoh_ngr_y):\n",
    "    result = (alpha_ship * capex_ship_y + opex_ship_y)/(8760/(2*(d_sea/v_ship + h_ship)))/((1-(b_ship * d_sea/v_ship) - (f_ship  * d_sea)) + (b_ship * d_sea/v_ship + f_ship * d_sea) * lcoh_ngr_y)\n",
    "\n",
    "    return result"
   ],
   "metadata": {
    "collapsed": false,
    "pycharm": {
     "name": "#%%\n"
    }
   }
  },
  {
   "cell_type": "code",
   "execution_count": 161,
   "outputs": [
    {
     "data": {
      "text/plain": "      Shipping_costs\nYears               \n2020        0.054006\n2021         0.05241\n2022         0.02017\n2023        0.020925\n2024        0.025628\n2025        0.024707\n2026        0.023801\n2027        0.022914\n2028        0.022046\n2029        0.021195\n2030        0.020365\n2031        0.019237\n2032        0.018153\n2033        0.017111\n2034        0.016112\n2035        0.015154\n2036        0.014237\n2037        0.013359\n2038         0.01252\n2039        0.011718\n2040        0.010953\n2041        0.010223\n2042        0.009528\n2043        0.008866\n2044        0.008237\n2045        0.007639\n2046        0.007071\n2047        0.006533\n2048        0.006022\n2049        0.005539\n2050        0.005082",
      "text/html": "<div>\n<style scoped>\n    .dataframe tbody tr th:only-of-type {\n        vertical-align: middle;\n    }\n\n    .dataframe tbody tr th {\n        vertical-align: top;\n    }\n\n    .dataframe thead th {\n        text-align: right;\n    }\n</style>\n<table border=\"1\" class=\"dataframe\">\n  <thead>\n    <tr style=\"text-align: right;\">\n      <th></th>\n      <th>Shipping_costs</th>\n    </tr>\n    <tr>\n      <th>Years</th>\n      <th></th>\n    </tr>\n  </thead>\n  <tbody>\n    <tr>\n      <th>2020</th>\n      <td>0.054006</td>\n    </tr>\n    <tr>\n      <th>2021</th>\n      <td>0.05241</td>\n    </tr>\n    <tr>\n      <th>2022</th>\n      <td>0.02017</td>\n    </tr>\n    <tr>\n      <th>2023</th>\n      <td>0.020925</td>\n    </tr>\n    <tr>\n      <th>2024</th>\n      <td>0.025628</td>\n    </tr>\n    <tr>\n      <th>2025</th>\n      <td>0.024707</td>\n    </tr>\n    <tr>\n      <th>2026</th>\n      <td>0.023801</td>\n    </tr>\n    <tr>\n      <th>2027</th>\n      <td>0.022914</td>\n    </tr>\n    <tr>\n      <th>2028</th>\n      <td>0.022046</td>\n    </tr>\n    <tr>\n      <th>2029</th>\n      <td>0.021195</td>\n    </tr>\n    <tr>\n      <th>2030</th>\n      <td>0.020365</td>\n    </tr>\n    <tr>\n      <th>2031</th>\n      <td>0.019237</td>\n    </tr>\n    <tr>\n      <th>2032</th>\n      <td>0.018153</td>\n    </tr>\n    <tr>\n      <th>2033</th>\n      <td>0.017111</td>\n    </tr>\n    <tr>\n      <th>2034</th>\n      <td>0.016112</td>\n    </tr>\n    <tr>\n      <th>2035</th>\n      <td>0.015154</td>\n    </tr>\n    <tr>\n      <th>2036</th>\n      <td>0.014237</td>\n    </tr>\n    <tr>\n      <th>2037</th>\n      <td>0.013359</td>\n    </tr>\n    <tr>\n      <th>2038</th>\n      <td>0.01252</td>\n    </tr>\n    <tr>\n      <th>2039</th>\n      <td>0.011718</td>\n    </tr>\n    <tr>\n      <th>2040</th>\n      <td>0.010953</td>\n    </tr>\n    <tr>\n      <th>2041</th>\n      <td>0.010223</td>\n    </tr>\n    <tr>\n      <th>2042</th>\n      <td>0.009528</td>\n    </tr>\n    <tr>\n      <th>2043</th>\n      <td>0.008866</td>\n    </tr>\n    <tr>\n      <th>2044</th>\n      <td>0.008237</td>\n    </tr>\n    <tr>\n      <th>2045</th>\n      <td>0.007639</td>\n    </tr>\n    <tr>\n      <th>2046</th>\n      <td>0.007071</td>\n    </tr>\n    <tr>\n      <th>2047</th>\n      <td>0.006533</td>\n    </tr>\n    <tr>\n      <th>2048</th>\n      <td>0.006022</td>\n    </tr>\n    <tr>\n      <th>2049</th>\n      <td>0.005539</td>\n    </tr>\n    <tr>\n      <th>2050</th>\n      <td>0.005082</td>\n    </tr>\n  </tbody>\n</table>\n</div>"
     },
     "execution_count": 161,
     "metadata": {},
     "output_type": "execute_result"
    }
   ],
   "source": [
    "# Calculation of shipping costs [$/kg_h2] from 2030 to 2050.\n",
    "years = np.arange(2020, 2051)\n",
    "result = pd.DataFrame(index=years, columns=['Shipping_costs'])\n",
    "result.index.name = 'Years'\n",
    "\n",
    "for year in years:\n",
    "    # get capex, opex, xx\n",
    "    capex_ship_y = float(ship_time_inputs[ship_time_inputs.Years == year]['CAPEX ($/kg) Shipping'])\n",
    "    opex_ship_y = float(ship_time_inputs[ship_time_inputs.Years == year]['OPEX ($/kg/a) Shipping'])\n",
    "    lcoh_ngr_y = float(lcoh_ngr[lcoh_ngr.Years == year]['LCOH_NGR'])\n",
    "\n",
    "    # calculate costs of specific year\n",
    "    result.Shipping_costs.loc[year] = calculate_ship_costs(alpha_ship=alpha_ship, capex_ship_y=capex_ship_y, opex_ship_y=opex_ship_y, d_sea=d_sea, v_ship=v_ship, h_ship=h_ship, b_ship=b_ship, f_ship=f_ship, lcoh_ngr_y=lcoh_ngr_y)\n",
    "\n",
    "result"
   ],
   "metadata": {
    "collapsed": false,
    "pycharm": {
     "name": "#%%\n"
    }
   }
  },
  {
   "cell_type": "code",
   "execution_count": 136,
   "outputs": [],
   "source": [
    "# Create csv file from results dataframe\n",
    "path_csv= r'/Users/jakob/PycharmProjects/H2_pathways_repo/data/processed'\n",
    "output_file = os.path.join(path_csv, 'Shipping_costs.csv')\n",
    "result.to_csv(output_file, sep=';')"
   ],
   "metadata": {
    "collapsed": false,
    "pycharm": {
     "name": "#%%\n"
    }
   }
  },
  {
   "cell_type": "code",
   "execution_count": 34,
   "outputs": [
    {
     "data": {
      "text/plain": "<Figure size 432x288 with 1 Axes>",
      "image/png": "[encoded data removed]"
     },
     "metadata": {
      "needs_background": "light"
     },
     "output_type": "display_data"
    }
   ],
   "source": [
    "# Plot cost curve of hydrogen production from NGR with CCS\n",
    "plt.plot(result, color='green', linestyle='dashed')\n",
    "plt.title('Shipping costs over time')\n",
    "plt.legend(['Shipping costs in $/kg_H2'])\n",
    "plt.xlabel('Year')\n",
    "plt.ylabel('Cost [$/kg_H2]')\n",
    "plt.show()"
   ],
   "metadata": {
    "collapsed": false,
    "pycharm": {
     "name": "#%%\n"
    }
   }
  },
  {
   "cell_type": "code",
   "execution_count": null,
   "outputs": [],
   "source": [
    "#IMPORT TERMINAL"
   ],
   "metadata": {
    "collapsed": false,
    "pycharm": {
     "name": "#%%\n"
    }
   }
  },
  {
   "cell_type": "code",
   "execution_count": 325,
   "outputs": [],
   "source": [
    "# Definition of variables for the import terminal costs"
   ],
   "metadata": {
    "collapsed": false,
    "pycharm": {
     "name": "#%%\n"
    }
   }
  },
  {
   "cell_type": "code",
   "execution_count": 346,
   "outputs": [],
   "source": [
    "# Amortisation factor for the import terminal\n",
    "alpha_it = alpha_et"
   ],
   "metadata": {
    "collapsed": false,
    "pycharm": {
     "name": "#%%\n"
    }
   }
  },
  {
   "cell_type": "code",
   "execution_count": 347,
   "outputs": [
    {
     "data": {
      "text/plain": "4939.224387"
     },
     "execution_count": 347,
     "metadata": {},
     "output_type": "execute_result"
    }
   ],
   "source": [
    "# Capex for the import terminal in [$/kg_h2]\n",
    "capex_it = float(tea_terminals[tea_terminals.Terminals == 'CAPEX ($/tpa)']['Import_Terminal'].values)\n",
    "capex_it"
   ],
   "metadata": {
    "collapsed": false,
    "pycharm": {
     "name": "#%%\n"
    }
   }
  },
  {
   "cell_type": "code",
   "execution_count": 348,
   "outputs": [
    {
     "data": {
      "text/plain": "0.04"
     },
     "execution_count": 348,
     "metadata": {},
     "output_type": "execute_result"
    }
   ],
   "source": [
    "# Opex in % of capex\n",
    "opex_share_it = float(tea_terminals[tea_terminals.Terminals == 'Annual OPEX (% of CAPEX)']['Import_Terminal'].values)\n",
    "opex_share_it"
   ],
   "metadata": {
    "collapsed": false,
    "pycharm": {
     "name": "#%%\n"
    }
   }
  },
  {
   "cell_type": "code",
   "execution_count": 349,
   "outputs": [
    {
     "data": {
      "text/plain": "197.56897548"
     },
     "execution_count": 349,
     "metadata": {},
     "output_type": "execute_result"
    }
   ],
   "source": [
    "# Opex for the import terminal in [$/tpa]\n",
    "opex_it = opex_share_it * capex_it\n",
    "opex_it"
   ],
   "metadata": {
    "collapsed": false,
    "pycharm": {
     "name": "#%%\n"
    }
   }
  },
  {
   "cell_type": "code",
   "execution_count": 355,
   "outputs": [
    {
     "data": {
      "text/plain": "0.61"
     },
     "execution_count": 355,
     "metadata": {},
     "output_type": "execute_result"
    }
   ],
   "source": [
    "# Electricity consumption for the import terminal in [kWh/kg_h2]\n",
    "el_it = float(tea_terminals[tea_terminals.Terminals == 'Electricity use (kWh/kgH2)']['Import_Terminal'].values)\n",
    "el_it"
   ],
   "metadata": {
    "collapsed": false,
    "pycharm": {
     "name": "#%%\n"
    }
   }
  },
  {
   "cell_type": "code",
   "execution_count": 351,
   "outputs": [
    {
     "data": {
      "text/plain": "0.0466835326539"
     },
     "execution_count": 351,
     "metadata": {},
     "output_type": "execute_result"
    }
   ],
   "source": [
    "# Price for electricity in importing country [$/MWh]\n",
    "p_el\n"
   ],
   "metadata": {
    "collapsed": false,
    "pycharm": {
     "name": "#%%\n"
    }
   }
  },
  {
   "cell_type": "code",
   "execution_count": 356,
   "outputs": [
    {
     "data": {
      "text/plain": "0.001"
     },
     "execution_count": 356,
     "metadata": {},
     "output_type": "execute_result"
    }
   ],
   "source": [
    "# Import terminal boil-off in [%/h]\n",
    "b_it = float(tea_terminals[tea_terminals.Terminals == 'Boil-off (%/day)']['Import_Terminal'].values)\n",
    "b_it"
   ],
   "metadata": {
    "collapsed": false,
    "pycharm": {
     "name": "#%%\n"
    }
   }
  },
  {
   "cell_type": "code",
   "execution_count": 358,
   "outputs": [
    {
     "data": {
      "text/plain": "20.0"
     },
     "execution_count": 358,
     "metadata": {},
     "output_type": "execute_result"
    }
   ],
   "source": [
    "# Berthing time in import terminal in [h]\n",
    "t_it = float(tea_terminals[tea_terminals.Terminals == 'Storage length per load (d)']['Import_Terminal'].values)\n",
    "t_it"
   ],
   "metadata": {
    "collapsed": false,
    "pycharm": {
     "name": "#%%\n"
    }
   }
  },
  {
   "cell_type": "code",
   "execution_count": 502,
   "outputs": [],
   "source": [
    "# Import terminal costs in [$/kg_h2]:\n",
    "# Capex for the import terminal in [$/tpa]\n",
    "# Opex for the import terminal in [$/tpa]\n",
    "# Electricity consumption for the import terminal in [kWh/kg_h2]\n",
    "# Price for electricity in importing country [$/MWh]\n",
    "# Import terminal boil-off in [%/h]\n",
    "# Berthing time in import terminal in [h]\n",
    "# Cost of transported hydrogen in [$/kg_h2]\n",
    "years = np.arange(2020, 2051)\n",
    "result = pd.DataFrame(index=years, columns=['Import_terminal_costs'])\n",
    "result.index.name = 'Years'\n",
    "\n",
    "def calculate_import_terminal_costs(alpha_it, capex_it_y, opex_it_y, el_it, p_el_y, b_it, t_it, lcoh_ngr_y):\n",
    "    result = (alpha_it * capex_it_y/1000 + opex_it_y/1000) + el_it * p_el_y/1000 + b_it * t_it * lcoh_ngr_y\n",
    "\n",
    "    return result"
   ],
   "metadata": {
    "collapsed": false,
    "pycharm": {
     "name": "#%%\n"
    }
   }
  },
  {
   "cell_type": "code",
   "execution_count": 503,
   "outputs": [
    {
     "data": {
      "text/plain": "      Import_terminal_costs\nYears                      \n2020               0.676458\n2021               0.670937\n2022               0.726568\n2023               0.715581\n2024               0.690641\n2025               0.686282\n2026                0.68199\n2027               0.677844\n2028               0.673793\n2029               0.669875\n2030               0.666084\n2031               0.654744\n2032               0.643586\n2033               0.632633\n2034                 0.6218\n2035               0.611043\n2036               0.600376\n2037               0.589924\n2038               0.579712\n2039               0.569768\n2040                   0.56\n2041               0.550449\n2042               0.541139\n2043               0.532067\n2044               0.523226\n2045               0.514568\n2046               0.506043\n2047                0.49764\n2048               0.489426\n2049                0.48154\n2050               0.474053",
      "text/html": "<div>\n<style scoped>\n    .dataframe tbody tr th:only-of-type {\n        vertical-align: middle;\n    }\n\n    .dataframe tbody tr th {\n        vertical-align: top;\n    }\n\n    .dataframe thead th {\n        text-align: right;\n    }\n</style>\n<table border=\"1\" class=\"dataframe\">\n  <thead>\n    <tr style=\"text-align: right;\">\n      <th></th>\n      <th>Import_terminal_costs</th>\n    </tr>\n    <tr>\n      <th>Years</th>\n      <th></th>\n    </tr>\n  </thead>\n  <tbody>\n    <tr>\n      <th>2020</th>\n      <td>0.676458</td>\n    </tr>\n    <tr>\n      <th>2021</th>\n      <td>0.670937</td>\n    </tr>\n    <tr>\n      <th>2022</th>\n      <td>0.726568</td>\n    </tr>\n    <tr>\n      <th>2023</th>\n      <td>0.715581</td>\n    </tr>\n    <tr>\n      <th>2024</th>\n      <td>0.690641</td>\n    </tr>\n    <tr>\n      <th>2025</th>\n      <td>0.686282</td>\n    </tr>\n    <tr>\n      <th>2026</th>\n      <td>0.68199</td>\n    </tr>\n    <tr>\n      <th>2027</th>\n      <td>0.677844</td>\n    </tr>\n    <tr>\n      <th>2028</th>\n      <td>0.673793</td>\n    </tr>\n    <tr>\n      <th>2029</th>\n      <td>0.669875</td>\n    </tr>\n    <tr>\n      <th>2030</th>\n      <td>0.666084</td>\n    </tr>\n    <tr>\n      <th>2031</th>\n      <td>0.654744</td>\n    </tr>\n    <tr>\n      <th>2032</th>\n      <td>0.643586</td>\n    </tr>\n    <tr>\n      <th>2033</th>\n      <td>0.632633</td>\n    </tr>\n    <tr>\n      <th>2034</th>\n      <td>0.6218</td>\n    </tr>\n    <tr>\n      <th>2035</th>\n      <td>0.611043</td>\n    </tr>\n    <tr>\n      <th>2036</th>\n      <td>0.600376</td>\n    </tr>\n    <tr>\n      <th>2037</th>\n      <td>0.589924</td>\n    </tr>\n    <tr>\n      <th>2038</th>\n      <td>0.579712</td>\n    </tr>\n    <tr>\n      <th>2039</th>\n      <td>0.569768</td>\n    </tr>\n    <tr>\n      <th>2040</th>\n      <td>0.56</td>\n    </tr>\n    <tr>\n      <th>2041</th>\n      <td>0.550449</td>\n    </tr>\n    <tr>\n      <th>2042</th>\n      <td>0.541139</td>\n    </tr>\n    <tr>\n      <th>2043</th>\n      <td>0.532067</td>\n    </tr>\n    <tr>\n      <th>2044</th>\n      <td>0.523226</td>\n    </tr>\n    <tr>\n      <th>2045</th>\n      <td>0.514568</td>\n    </tr>\n    <tr>\n      <th>2046</th>\n      <td>0.506043</td>\n    </tr>\n    <tr>\n      <th>2047</th>\n      <td>0.49764</td>\n    </tr>\n    <tr>\n      <th>2048</th>\n      <td>0.489426</td>\n    </tr>\n    <tr>\n      <th>2049</th>\n      <td>0.48154</td>\n    </tr>\n    <tr>\n      <th>2050</th>\n      <td>0.474053</td>\n    </tr>\n  </tbody>\n</table>\n</div>"
     },
     "execution_count": 503,
     "metadata": {},
     "output_type": "execute_result"
    }
   ],
   "source": [
    "for year in years:\n",
    "    # get capex, opex, xx\n",
    "    capex_it_y = float(ter_time_inputs[ter_time_inputs.Years == year]['CAPEX (tpa) Import Terminal'])\n",
    "    opex_it_y = float(ter_time_inputs[ter_time_inputs.Years == year]['OPEX (tpa) Import Terminal'])\n",
    "    p_el_y = float(p_electricity[p_electricity.Years == year]['Norway'])\n",
    "    lcoh_ngr_y = float(lcoh_ngr[lcoh_ngr.Years == year]['LCOH_NGR'])\n",
    "\n",
    "    # calculate costs of specific year\n",
    "    result.Import_terminal_costs.loc[year] = calculate_import_terminal_costs(alpha_it=alpha_it, capex_it_y=capex_it_y,\n",
    "                                                              opex_it_y=opex_it_y, el_it=el_it, p_el_y=p_el_y, b_it=b_it, t_it=t_it, lcoh_ngr_y=lcoh_ngr_y)\n",
    "\n",
    "result"
   ],
   "metadata": {
    "collapsed": false,
    "pycharm": {
     "name": "#%%\n"
    }
   }
  },
  {
   "cell_type": "code",
   "execution_count": 504,
   "outputs": [],
   "source": [
    "# Create csv file from results dataframe\n",
    "path_csv= r'/Users/jakob/PycharmProjects/H2_pathways_repo/data/processed'\n",
    "output_file = os.path.join(path_csv, 'Import_terminal_costs.csv')\n",
    "result.to_csv(output_file, sep=';')"
   ],
   "metadata": {
    "collapsed": false,
    "pycharm": {
     "name": "#%%\n"
    }
   }
  },
  {
   "cell_type": "code",
   "execution_count": 370,
   "outputs": [
    {
     "data": {
      "text/plain": "<Figure size 432x288 with 1 Axes>",
      "image/png": "[encoded data removed]"
     },
     "metadata": {
      "needs_background": "light"
     },
     "output_type": "display_data"
    }
   ],
   "source": [
    "# Plot cost curve of hydrogen production from NGR with CCS\n",
    "plt.plot(result, color = 'red', linestyle = 'dashed')\n",
    "plt.title('Cost curve for import terminal costs')\n",
    "plt.legend(['Import terminal costs in $/kg_H2'])\n",
    "plt.xlabel('Year')\n",
    "plt.ylabel('Cost [$/kg_H2]')\n",
    "plt.show()\n"
   ],
   "metadata": {
    "collapsed": false,
    "pycharm": {
     "name": "#%%\n"
    }
   }
  },
  {
   "cell_type": "markdown",
   "source": [
    "# Total costs for seaborne transport"
   ],
   "metadata": {
    "collapsed": false,
    "pycharm": {
     "name": "#%% md\n"
    }
   }
  },
  {
   "cell_type": "code",
   "execution_count": 528,
   "outputs": [],
   "source": [
    "liq_costs = pd.read_csv('/Users/jakob/PycharmProjects/H2_pathways_repo/data/processed/Liquefaction_costs.csv', delimiter=';', decimal=',')\n",
    "et_costs = pd.read_csv('/Users/jakob/PycharmProjects/H2_pathways_repo/data/processed/Export_terminal_costs.csv', delimiter=';', decimal=',')\n",
    "ship_costs = pd.read_csv('/Users/jakob/PycharmProjects/H2_pathways_repo/data/processed/Shipping_costs.csv', delimiter=';', decimal=',')\n",
    "it_costs = pd.read_csv('/Users/jakob/PycharmProjects/H2_pathways_repo/data/processed/Import_terminal_costs.csv', delimiter=';', decimal=',')"
   ],
   "metadata": {
    "collapsed": false,
    "pycharm": {
     "name": "#%%\n"
    }
   }
  },
  {
   "cell_type": "code",
   "execution_count": 533,
   "outputs": [],
   "source": [
    "years = np.arange(2020, 2051)\n",
    "result = pd.DataFrame(index=years, columns=['Seaborne_transport_costs'])\n",
    "result.index.name = 'Years'"
   ],
   "metadata": {
    "collapsed": false,
    "pycharm": {
     "name": "#%%\n"
    }
   }
  },
  {
   "cell_type": "code",
   "execution_count": 538,
   "outputs": [],
   "source": [
    "# Calculate total transport costs from liquefaction costs (LC), export terminal costs (EC), Shipping costs (SC), import terminal costs (IC)\n",
    "def calculate_seaborne_transport_costs(LC,EC,SC,IC):\n",
    "    result = LC + EC + SC + IC\n",
    "\n",
    "    return result"
   ],
   "metadata": {
    "collapsed": false,
    "pycharm": {
     "name": "#%%\n"
    }
   }
  },
  {
   "cell_type": "code",
   "execution_count": 539,
   "outputs": [
    {
     "data": {
      "text/plain": "      Seaborne_transport_costs\nYears                         \n2020                  1.915354\n2021                  1.898957\n2022                  1.921466\n2023                  1.899883\n2024                  1.864839\n2025                   1.84628\n2026                  1.826443\n2027                  1.808378\n2028                  1.789969\n2029                  1.772032\n2030                  1.754742\n2031                  1.731456\n2032                  1.709883\n2033                  1.690552\n2034                  1.670613\n2035                  1.648617\n2036                  1.624778\n2037                   1.60272\n2038                  1.582896\n2039                  1.565883\n2040                  1.548688\n2041                  1.532321\n2042                  1.517172\n2043                  1.502871\n2044                  1.488991\n2045                  1.473955\n2046                  1.456162\n2047                  1.435131\n2048                  1.412478\n2049                  1.391602\n2050                  1.374018",
      "text/html": "<div>\n<style scoped>\n    .dataframe tbody tr th:only-of-type {\n        vertical-align: middle;\n    }\n\n    .dataframe tbody tr th {\n        vertical-align: top;\n    }\n\n    .dataframe thead th {\n        text-align: right;\n    }\n</style>\n<table border=\"1\" class=\"dataframe\">\n  <thead>\n    <tr style=\"text-align: right;\">\n      <th></th>\n      <th>Seaborne_transport_costs</th>\n    </tr>\n    <tr>\n      <th>Years</th>\n      <th></th>\n    </tr>\n  </thead>\n  <tbody>\n    <tr>\n      <th>2020</th>\n      <td>1.915354</td>\n    </tr>\n    <tr>\n      <th>2021</th>\n      <td>1.898957</td>\n    </tr>\n    <tr>\n      <th>2022</th>\n      <td>1.921466</td>\n    </tr>\n    <tr>\n      <th>2023</th>\n      <td>1.899883</td>\n    </tr>\n    <tr>\n      <th>2024</th>\n      <td>1.864839</td>\n    </tr>\n    <tr>\n      <th>2025</th>\n      <td>1.84628</td>\n    </tr>\n    <tr>\n      <th>2026</th>\n      <td>1.826443</td>\n    </tr>\n    <tr>\n      <th>2027</th>\n      <td>1.808378</td>\n    </tr>\n    <tr>\n      <th>2028</th>\n      <td>1.789969</td>\n    </tr>\n    <tr>\n      <th>2029</th>\n      <td>1.772032</td>\n    </tr>\n    <tr>\n      <th>2030</th>\n      <td>1.754742</td>\n    </tr>\n    <tr>\n      <th>2031</th>\n      <td>1.731456</td>\n    </tr>\n    <tr>\n      <th>2032</th>\n      <td>1.709883</td>\n    </tr>\n    <tr>\n      <th>2033</th>\n      <td>1.690552</td>\n    </tr>\n    <tr>\n      <th>2034</th>\n      <td>1.670613</td>\n    </tr>\n    <tr>\n      <th>2035</th>\n      <td>1.648617</td>\n    </tr>\n    <tr>\n      <th>2036</th>\n      <td>1.624778</td>\n    </tr>\n    <tr>\n      <th>2037</th>\n      <td>1.60272</td>\n    </tr>\n    <tr>\n      <th>2038</th>\n      <td>1.582896</td>\n    </tr>\n    <tr>\n      <th>2039</th>\n      <td>1.565883</td>\n    </tr>\n    <tr>\n      <th>2040</th>\n      <td>1.548688</td>\n    </tr>\n    <tr>\n      <th>2041</th>\n      <td>1.532321</td>\n    </tr>\n    <tr>\n      <th>2042</th>\n      <td>1.517172</td>\n    </tr>\n    <tr>\n      <th>2043</th>\n      <td>1.502871</td>\n    </tr>\n    <tr>\n      <th>2044</th>\n      <td>1.488991</td>\n    </tr>\n    <tr>\n      <th>2045</th>\n      <td>1.473955</td>\n    </tr>\n    <tr>\n      <th>2046</th>\n      <td>1.456162</td>\n    </tr>\n    <tr>\n      <th>2047</th>\n      <td>1.435131</td>\n    </tr>\n    <tr>\n      <th>2048</th>\n      <td>1.412478</td>\n    </tr>\n    <tr>\n      <th>2049</th>\n      <td>1.391602</td>\n    </tr>\n    <tr>\n      <th>2050</th>\n      <td>1.374018</td>\n    </tr>\n  </tbody>\n</table>\n</div>"
     },
     "execution_count": 539,
     "metadata": {},
     "output_type": "execute_result"
    }
   ],
   "source": [
    "for year in years:\n",
    "    # get all costs\n",
    "    LC = float(liq_costs[liq_costs.Years == year]['Liquefaction_costs'])\n",
    "    EC = float(et_costs[et_costs.Years == year]['Export_terminal_costs'])\n",
    "    SC = float(ship_costs[ship_costs.Years == year]['Shipping_costs'])\n",
    "    IC = float(it_costs[it_costs.Years == year]['Import_terminal_costs'])\n",
    "\n",
    "    # calculate costs of specific year\n",
    "    result.Seaborne_transport_costs.loc[year] = calculate_seaborne_transport_costs(LC=LC,EC=EC, SC=SC, IC=IC)\n",
    "\n",
    "result"
   ],
   "metadata": {
    "collapsed": false,
    "pycharm": {
     "name": "#%%\n"
    }
   }
  },
  {
   "cell_type": "code",
   "execution_count": 540,
   "outputs": [],
   "source": [
    "# Create csv file from results dataframe\n",
    "path_csv= r'/Users/jakob/PycharmProjects/H2_pathways_repo/data/processed'\n",
    "output_file = os.path.join(path_csv, 'Seaborne_transport_costs.csv')\n",
    "result.to_csv(output_file, sep=';')"
   ],
   "metadata": {
    "collapsed": false,
    "pycharm": {
     "name": "#%%\n"
    }
   }
  },
  {
   "cell_type": "code",
   "execution_count": 541,
   "outputs": [
    {
     "data": {
      "text/plain": "<Figure size 432x288 with 1 Axes>",
      "image/png": "[encoded data removed]"
     },
     "metadata": {
      "needs_background": "light"
     },
     "output_type": "display_data"
    }
   ],
   "source": [
    "# Plot cost curve for seaborne transport\n",
    "plt.plot(result, color='blue', linestyle='dashed')\n",
    "plt.title('Cost curve for seaborne transport')\n",
    "plt.legend(['Seaborne transport costs in $/kg_H2'])\n",
    "plt.xlabel('Year')\n",
    "plt.ylabel('Cost [$/kg_H2]')\n",
    "plt.show()"
   ],
   "metadata": {
    "collapsed": false,
    "pycharm": {
     "name": "#%%\n"
    }
   }
  },
  {
   "cell_type": "code",
   "execution_count": 575,
   "outputs": [],
   "source": [
    "#TC_pipe_high = 1.5"
   ],
   "metadata": {
    "collapsed": false,
    "pycharm": {
     "name": "#%%\n"
    }
   }
  },
  {
   "cell_type": "code",
   "execution_count": 576,
   "outputs": [
    {
     "data": {
      "text/plain": "    Years Seaborne_transport_costs\n0    2020        1.915353652011996\n1    2021       1.8989573747072543\n2    2022       1.9214664474480345\n3    2023       1.8998825964514232\n4    2024       1.8648386599485007\n5    2025       1.8462804358086857\n6    2026        1.826443196032222\n7    2027         1.80837768029987\n8    2028       1.7899694435995537\n9    2029        1.772032066622823\n10   2030        1.754741526394477\n11   2031       1.7314562954606427\n12   2032       1.7098832091398193\n13   2033        1.690552017981083\n14   2034       1.6706129532387268\n15   2035       1.6486171488194061\n16   2036       1.6247777226929627\n17   2037        1.602720307819369\n18   2038       1.5828963771075475\n19   2039       1.5658828630098285\n20   2040       1.5486878173543197\n21   2041       1.5323209558780566\n22   2042       1.5171719851084289\n23   2043       1.5028711894038127\n24   2044        1.488991483648603\n25   2045       1.4739546220637845\n26   2046       1.4561616218589335\n27   2047        1.435130941434235\n28   2048       1.4124777389104286\n29   2049       1.3916021436764359\n30   2050        1.374018038090604",
      "text/html": "<div>\n<style scoped>\n    .dataframe tbody tr th:only-of-type {\n        vertical-align: middle;\n    }\n\n    .dataframe tbody tr th {\n        vertical-align: top;\n    }\n\n    .dataframe thead th {\n        text-align: right;\n    }\n</style>\n<table border=\"1\" class=\"dataframe\">\n  <thead>\n    <tr style=\"text-align: right;\">\n      <th></th>\n      <th>Years</th>\n      <th>Seaborne_transport_costs</th>\n    </tr>\n  </thead>\n  <tbody>\n    <tr>\n      <th>0</th>\n      <td>2020</td>\n      <td>1.915353652011996</td>\n    </tr>\n    <tr>\n      <th>1</th>\n      <td>2021</td>\n      <td>1.8989573747072543</td>\n    </tr>\n    <tr>\n      <th>2</th>\n      <td>2022</td>\n      <td>1.9214664474480345</td>\n    </tr>\n    <tr>\n      <th>3</th>\n      <td>2023</td>\n      <td>1.8998825964514232</td>\n    </tr>\n    <tr>\n      <th>4</th>\n      <td>2024</td>\n      <td>1.8648386599485007</td>\n    </tr>\n    <tr>\n      <th>5</th>\n      <td>2025</td>\n      <td>1.8462804358086857</td>\n    </tr>\n    <tr>\n      <th>6</th>\n      <td>2026</td>\n      <td>1.826443196032222</td>\n    </tr>\n    <tr>\n      <th>7</th>\n      <td>2027</td>\n      <td>1.80837768029987</td>\n    </tr>\n    <tr>\n      <th>8</th>\n      <td>2028</td>\n      <td>1.7899694435995537</td>\n    </tr>\n    <tr>\n      <th>9</th>\n      <td>2029</td>\n      <td>1.772032066622823</td>\n    </tr>\n    <tr>\n      <th>10</th>\n      <td>2030</td>\n      <td>1.754741526394477</td>\n    </tr>\n    <tr>\n      <th>11</th>\n      <td>2031</td>\n      <td>1.7314562954606427</td>\n    </tr>\n    <tr>\n      <th>12</th>\n      <td>2032</td>\n      <td>1.7098832091398193</td>\n    </tr>\n    <tr>\n      <th>13</th>\n      <td>2033</td>\n      <td>1.690552017981083</td>\n    </tr>\n    <tr>\n      <th>14</th>\n      <td>2034</td>\n      <td>1.6706129532387268</td>\n    </tr>\n    <tr>\n      <th>15</th>\n      <td>2035</td>\n      <td>1.6486171488194061</td>\n    </tr>\n    <tr>\n      <th>16</th>\n      <td>2036</td>\n      <td>1.6247777226929627</td>\n    </tr>\n    <tr>\n      <th>17</th>\n      <td>2037</td>\n      <td>1.602720307819369</td>\n    </tr>\n    <tr>\n      <th>18</th>\n      <td>2038</td>\n      <td>1.5828963771075475</td>\n    </tr>\n    <tr>\n      <th>19</th>\n      <td>2039</td>\n      <td>1.5658828630098285</td>\n    </tr>\n    <tr>\n      <th>20</th>\n      <td>2040</td>\n      <td>1.5486878173543197</td>\n    </tr>\n    <tr>\n      <th>21</th>\n      <td>2041</td>\n      <td>1.5323209558780566</td>\n    </tr>\n    <tr>\n      <th>22</th>\n      <td>2042</td>\n      <td>1.5171719851084289</td>\n    </tr>\n    <tr>\n      <th>23</th>\n      <td>2043</td>\n      <td>1.5028711894038127</td>\n    </tr>\n    <tr>\n      <th>24</th>\n      <td>2044</td>\n      <td>1.488991483648603</td>\n    </tr>\n    <tr>\n      <th>25</th>\n      <td>2045</td>\n      <td>1.4739546220637845</td>\n    </tr>\n    <tr>\n      <th>26</th>\n      <td>2046</td>\n      <td>1.4561616218589335</td>\n    </tr>\n    <tr>\n      <th>27</th>\n      <td>2047</td>\n      <td>1.435130941434235</td>\n    </tr>\n    <tr>\n      <th>28</th>\n      <td>2048</td>\n      <td>1.4124777389104286</td>\n    </tr>\n    <tr>\n      <th>29</th>\n      <td>2049</td>\n      <td>1.3916021436764359</td>\n    </tr>\n    <tr>\n      <th>30</th>\n      <td>2050</td>\n      <td>1.374018038090604</td>\n    </tr>\n  </tbody>\n</table>\n</div>"
     },
     "execution_count": 576,
     "metadata": {},
     "output_type": "execute_result"
    }
   ],
   "source": [
    "# Costs for seaborne transport via ship [$/kg_h2]\n",
    "sea_costs = pd.read_csv('/Users/jakob/PycharmProjects/H2_pathways_repo/data/processed/Seaborne_transport_costs.csv', delimiter=';', decimal=',')\n",
    "sea_costs"
   ],
   "metadata": {
    "collapsed": false,
    "pycharm": {
     "name": "#%%\n"
    }
   }
  },
  {
   "cell_type": "code",
   "execution_count": 577,
   "outputs": [],
   "source": [
    "def choose_minimal_transport_costs(TC_pipe_high,TC_sea):\n",
    "    result = min(TC_pipe_high, TC_sea)\n",
    "\n",
    "    return result"
   ],
   "metadata": {
    "collapsed": false,
    "pycharm": {
     "name": "#%%\n"
    }
   }
  },
  {
   "cell_type": "code",
   "execution_count": 581,
   "outputs": [
    {
     "data": {
      "text/plain": "      Minimal_transport_costs\nYears                        \n2020                 0.814678\n2021                 0.814678\n2022                 0.814678\n2023                 0.814678\n2024                 0.814678\n2025                 0.814678\n2026                 0.814678\n2027                 0.814678\n2028                 0.814678\n2029                 0.814678\n2030                 0.814678\n2031                 0.814678\n2032                 0.814678\n2033                 0.814678\n2034                 0.814678\n2035                 0.814678\n2036                 0.814678\n2037                 0.814678\n2038                 0.814678\n2039                 0.814678\n2040                 0.814678\n2041                 0.814678\n2042                 0.814678\n2043                 0.814678\n2044                 0.814678\n2045                 0.814678\n2046                 0.814678\n2047                 0.814678\n2048                 0.814678\n2049                 0.814678\n2050                 0.814678",
      "text/html": "<div>\n<style scoped>\n    .dataframe tbody tr th:only-of-type {\n        vertical-align: middle;\n    }\n\n    .dataframe tbody tr th {\n        vertical-align: top;\n    }\n\n    .dataframe thead th {\n        text-align: right;\n    }\n</style>\n<table border=\"1\" class=\"dataframe\">\n  <thead>\n    <tr style=\"text-align: right;\">\n      <th></th>\n      <th>Minimal_transport_costs</th>\n    </tr>\n    <tr>\n      <th>Years</th>\n      <th></th>\n    </tr>\n  </thead>\n  <tbody>\n    <tr>\n      <th>2020</th>\n      <td>0.814678</td>\n    </tr>\n    <tr>\n      <th>2021</th>\n      <td>0.814678</td>\n    </tr>\n    <tr>\n      <th>2022</th>\n      <td>0.814678</td>\n    </tr>\n    <tr>\n      <th>2023</th>\n      <td>0.814678</td>\n    </tr>\n    <tr>\n      <th>2024</th>\n      <td>0.814678</td>\n    </tr>\n    <tr>\n      <th>2025</th>\n      <td>0.814678</td>\n    </tr>\n    <tr>\n      <th>2026</th>\n      <td>0.814678</td>\n    </tr>\n    <tr>\n      <th>2027</th>\n      <td>0.814678</td>\n    </tr>\n    <tr>\n      <th>2028</th>\n      <td>0.814678</td>\n    </tr>\n    <tr>\n      <th>2029</th>\n      <td>0.814678</td>\n    </tr>\n    <tr>\n      <th>2030</th>\n      <td>0.814678</td>\n    </tr>\n    <tr>\n      <th>2031</th>\n      <td>0.814678</td>\n    </tr>\n    <tr>\n      <th>2032</th>\n      <td>0.814678</td>\n    </tr>\n    <tr>\n      <th>2033</th>\n      <td>0.814678</td>\n    </tr>\n    <tr>\n      <th>2034</th>\n      <td>0.814678</td>\n    </tr>\n    <tr>\n      <th>2035</th>\n      <td>0.814678</td>\n    </tr>\n    <tr>\n      <th>2036</th>\n      <td>0.814678</td>\n    </tr>\n    <tr>\n      <th>2037</th>\n      <td>0.814678</td>\n    </tr>\n    <tr>\n      <th>2038</th>\n      <td>0.814678</td>\n    </tr>\n    <tr>\n      <th>2039</th>\n      <td>0.814678</td>\n    </tr>\n    <tr>\n      <th>2040</th>\n      <td>0.814678</td>\n    </tr>\n    <tr>\n      <th>2041</th>\n      <td>0.814678</td>\n    </tr>\n    <tr>\n      <th>2042</th>\n      <td>0.814678</td>\n    </tr>\n    <tr>\n      <th>2043</th>\n      <td>0.814678</td>\n    </tr>\n    <tr>\n      <th>2044</th>\n      <td>0.814678</td>\n    </tr>\n    <tr>\n      <th>2045</th>\n      <td>0.814678</td>\n    </tr>\n    <tr>\n      <th>2046</th>\n      <td>0.814678</td>\n    </tr>\n    <tr>\n      <th>2047</th>\n      <td>0.814678</td>\n    </tr>\n    <tr>\n      <th>2048</th>\n      <td>0.814678</td>\n    </tr>\n    <tr>\n      <th>2049</th>\n      <td>0.814678</td>\n    </tr>\n    <tr>\n      <th>2050</th>\n      <td>0.814678</td>\n    </tr>\n  </tbody>\n</table>\n</div>"
     },
     "execution_count": 581,
     "metadata": {},
     "output_type": "execute_result"
    }
   ],
   "source": [
    "years = np.arange(2020, 2051)\n",
    "result = pd.DataFrame(index=years, columns=['Minimal_transport_costs'])\n",
    "result.index.name = 'Years'\n",
    "\n",
    "for year in years:\n",
    "    # get all costshas\n",
    "    TC_sea = float(sea_costs[sea_costs.Years == year]['Seaborne_transport_costs'])\n",
    "\n",
    "    # calculate costs of specific year\n",
    "    result.Minimal_transport_costs.loc[year] = choose_minimal_transport_costs(TC_pipe_high=TC_pipe_high,TC_sea=TC_sea)\n",
    "\n",
    "result"
   ],
   "metadata": {
    "collapsed": false,
    "pycharm": {
     "name": "#%%\n"
    }
   }
  },
  {
   "cell_type": "code",
   "execution_count": null,
   "outputs": [],
   "source": [
    "# Create csv file from results dataframe\n",
    "path_csv= r'/Users/jakob/PycharmProjects/H2_pathways_repo/data/processed'\n",
    "output_file = os.path.join(path_csv, 'Minimal_transport_costs.csv')\n",
    "result.to_csv(output_file, sep=';')"
   ],
   "metadata": {
    "collapsed": false,
    "pycharm": {
     "name": "#%%\n"
    }
   }
  },
  {
   "cell_type": "code",
   "execution_count": 574,
   "outputs": [
    {
     "data": {
      "text/plain": "<Figure size 432x288 with 1 Axes>",
      "image/png": "[encoded data removed]"
     },
     "metadata": {
      "needs_background": "light"
     },
     "output_type": "display_data"
    }
   ],
   "source": [
    "# Plot cost curve for seaborne transport\n",
    "plt.plot(result, color='cyan', linestyle='dashed')\n",
    "plt.title('Cost curve for transport')\n",
    "plt.legend(['Minimal transport costs in $/kg_H2'])\n",
    "plt.xlabel('Year')\n",
    "plt.ylabel('Cost [$/kg_H2]')\n",
    "plt.show()\n"
   ],
   "metadata": {
    "collapsed": false,
    "pycharm": {
     "name": "#%%\n"
    }
   }
  },
  {
   "cell_type": "code",
   "execution_count": null,
   "outputs": [],
   "source": [],
   "metadata": {
    "collapsed": false,
    "pycharm": {
     "name": "#%%\n"
    }
   }
  }
 ],
 "metadata": {
  "kernelspec": {
   "display_name": "Python 3",
   "language": "python",
   "name": "python3"
  },
  "language_info": {
   "codemirror_mode": {
    "name": "ipython",
    "version": 2
   },
   "file_extension": ".py",
   "mimetype": "text/x-python",
   "name": "python",
   "nbconvert_exporter": "python",
   "pygments_lexer": "ipython2",
   "version": "2.7.6"
  }
 },
 "nbformat": 4,
 "nbformat_minor": 0
}
