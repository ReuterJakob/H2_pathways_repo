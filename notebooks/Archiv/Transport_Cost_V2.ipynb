{
 "cells": [
  {
   "cell_type": "markdown",
   "source": [
    "# Read inputs"
   ],
   "metadata": {
    "collapsed": false,
    "pycharm": {
     "name": "#%% md\n"
    }
   }
  },
  {
   "cell_type": "code",
   "execution_count": 1,
   "outputs": [],
   "source": [
    "# Read techno-economic assumptions and transport distances for transport cost calculation\n",
    "import numpy as np\n",
    "import pandas as pd\n",
    "from matplotlib import pyplot as plt\n",
    "import os"
   ],
   "metadata": {
    "collapsed": false,
    "pycharm": {
     "name": "#%%\n"
    }
   }
  },
  {
   "cell_type": "code",
   "execution_count": 2,
   "outputs": [
    {
     "data": {
      "text/plain": "                                                                                                  Ref  \\\nProperties                                                                                              \nProperties - Gas density [kg/m3]                                                             BOG 2020   \nProperties - LHV [MJ/kg]                                                                     BOG 2020   \nProperties - LHV [kWh/kg]                           https://www.iea-amf.org/content/fuel_informati...   \nProperties - LHV [kWh/m3]                            https://www.rechargenews.com/energy-transitio...   \nProperties - Boiling point at 1 Bar [°C]                                                          NaN   \n...                                                                                               ...   \nReconversion - Opex opt. [% of Capex]                                                      IRENA 2022   \nReconversion - Opex pess. [% of Capex]                                                     IRENA 2022   \nReconversion - Efficiency [% LHV]                                                          IRENA 2022   \nReconversion - Electrcity consumption opt. [kWh...                                         IRENA 2022   \nReconversion - Electrcity consumption pess. [kW...                                         IRENA 2022   \n\n                                                      LH2  2020  2021  2022  \\\nProperties                                                                    \nProperties - Gas density [kg/m3]                     71.1   NaN   NaN   NaN   \nProperties - LHV [MJ/kg]                              120   NaN   NaN   NaN   \nProperties - LHV [kWh/kg]                           33.33   NaN   NaN   NaN   \nProperties - LHV [kWh/m3]                            2350   NaN   NaN   NaN   \nProperties - Boiling point at 1 Bar [°C]             -253   NaN   NaN   NaN   \n...                                                   ...   ...   ...   ...   \nReconversion - Opex opt. [% of Capex]                0.03   NaN   NaN   NaN   \nReconversion - Opex pess. [% of Capex]               0.04   NaN   NaN   NaN   \nReconversion - Efficiency [% LHV]                    0.98   NaN   NaN   NaN   \nReconversion - Electrcity consumption opt. [kWh...    NaN   NaN   NaN   NaN   \nReconversion - Electrcity consumption pess. [kW...    NaN   NaN   NaN   NaN   \n\n                                                    2023  2024  2025  2026  \\\nProperties                                                                   \nProperties - Gas density [kg/m3]                     NaN   NaN   NaN   NaN   \nProperties - LHV [MJ/kg]                             NaN   NaN   NaN   NaN   \nProperties - LHV [kWh/kg]                            NaN   NaN   NaN   NaN   \nProperties - LHV [kWh/m3]                            NaN   NaN   NaN   NaN   \nProperties - Boiling point at 1 Bar [°C]             NaN   NaN   NaN   NaN   \n...                                                  ...   ...   ...   ...   \nReconversion - Opex opt. [% of Capex]                NaN   NaN   NaN   NaN   \nReconversion - Opex pess. [% of Capex]               NaN   NaN   NaN   NaN   \nReconversion - Efficiency [% LHV]                    NaN   NaN   NaN   NaN   \nReconversion - Electrcity consumption opt. [kWh...   NaN   NaN   NaN   NaN   \nReconversion - Electrcity consumption pess. [kW...   NaN   NaN   NaN   NaN   \n\n                                                    2027  ...  2041  2042  \\\nProperties                                                ...               \nProperties - Gas density [kg/m3]                     NaN  ...   NaN   NaN   \nProperties - LHV [MJ/kg]                             NaN  ...   NaN   NaN   \nProperties - LHV [kWh/kg]                            NaN  ...   NaN   NaN   \nProperties - LHV [kWh/m3]                            NaN  ...   NaN   NaN   \nProperties - Boiling point at 1 Bar [°C]             NaN  ...   NaN   NaN   \n...                                                  ...  ...   ...   ...   \nReconversion - Opex opt. [% of Capex]                NaN  ...   NaN   NaN   \nReconversion - Opex pess. [% of Capex]               NaN  ...   NaN   NaN   \nReconversion - Efficiency [% LHV]                    NaN  ...   NaN   NaN   \nReconversion - Electrcity consumption opt. [kWh...   NaN  ...   NaN   NaN   \nReconversion - Electrcity consumption pess. [kW...   NaN  ...   NaN   NaN   \n\n                                                    2043  2044  2045  2046  \\\nProperties                                                                   \nProperties - Gas density [kg/m3]                     NaN   NaN   NaN   NaN   \nProperties - LHV [MJ/kg]                             NaN   NaN   NaN   NaN   \nProperties - LHV [kWh/kg]                            NaN   NaN   NaN   NaN   \nProperties - LHV [kWh/m3]                            NaN   NaN   NaN   NaN   \nProperties - Boiling point at 1 Bar [°C]             NaN   NaN   NaN   NaN   \n...                                                  ...   ...   ...   ...   \nReconversion - Opex opt. [% of Capex]                NaN   NaN   NaN   NaN   \nReconversion - Opex pess. [% of Capex]               NaN   NaN   NaN   NaN   \nReconversion - Efficiency [% LHV]                    NaN   NaN   NaN   NaN   \nReconversion - Electrcity consumption opt. [kWh...   NaN   NaN   NaN   NaN   \nReconversion - Electrcity consumption pess. [kW...   NaN   NaN   NaN   NaN   \n\n                                                    2047  2048  2049  2050  \nProperties                                                                  \nProperties - Gas density [kg/m3]                     NaN   NaN   NaN   NaN  \nProperties - LHV [MJ/kg]                             NaN   NaN   NaN   NaN  \nProperties - LHV [kWh/kg]                            NaN   NaN   NaN   NaN  \nProperties - LHV [kWh/m3]                            NaN   NaN   NaN   NaN  \nProperties - Boiling point at 1 Bar [°C]             NaN   NaN   NaN   NaN  \n...                                                  ...   ...   ...   ...  \nReconversion - Opex opt. [% of Capex]                NaN   NaN   NaN   NaN  \nReconversion - Opex pess. [% of Capex]               NaN   NaN   NaN   NaN  \nReconversion - Efficiency [% LHV]                    NaN   NaN   NaN  98.0  \nReconversion - Electrcity consumption opt. [kWh...   NaN   NaN   NaN   0.2  \nReconversion - Electrcity consumption pess. [kW...   NaN   NaN   NaN   0.4  \n\n[104 rows x 33 columns]",
      "text/html": "<div>\n<style scoped>\n    .dataframe tbody tr th:only-of-type {\n        vertical-align: middle;\n    }\n\n    .dataframe tbody tr th {\n        vertical-align: top;\n    }\n\n    .dataframe thead th {\n        text-align: right;\n    }\n</style>\n<table border=\"1\" class=\"dataframe\">\n  <thead>\n    <tr style=\"text-align: right;\">\n      <th></th>\n      <th>Ref</th>\n      <th>LH2</th>\n      <th>2020</th>\n      <th>2021</th>\n      <th>2022</th>\n      <th>2023</th>\n      <th>2024</th>\n      <th>2025</th>\n      <th>2026</th>\n      <th>2027</th>\n      <th>...</th>\n      <th>2041</th>\n      <th>2042</th>\n      <th>2043</th>\n      <th>2044</th>\n      <th>2045</th>\n      <th>2046</th>\n      <th>2047</th>\n      <th>2048</th>\n      <th>2049</th>\n      <th>2050</th>\n    </tr>\n    <tr>\n      <th>Properties</th>\n      <th></th>\n      <th></th>\n      <th></th>\n      <th></th>\n      <th></th>\n      <th></th>\n      <th></th>\n      <th></th>\n      <th></th>\n      <th></th>\n      <th></th>\n      <th></th>\n      <th></th>\n      <th></th>\n      <th></th>\n      <th></th>\n      <th></th>\n      <th></th>\n      <th></th>\n      <th></th>\n      <th></th>\n    </tr>\n  </thead>\n  <tbody>\n    <tr>\n      <th>Properties - Gas density [kg/m3]</th>\n      <td>BOG 2020</td>\n      <td>71.1</td>\n      <td>NaN</td>\n      <td>NaN</td>\n      <td>NaN</td>\n      <td>NaN</td>\n      <td>NaN</td>\n      <td>NaN</td>\n      <td>NaN</td>\n      <td>NaN</td>\n      <td>...</td>\n      <td>NaN</td>\n      <td>NaN</td>\n      <td>NaN</td>\n      <td>NaN</td>\n      <td>NaN</td>\n      <td>NaN</td>\n      <td>NaN</td>\n      <td>NaN</td>\n      <td>NaN</td>\n      <td>NaN</td>\n    </tr>\n    <tr>\n      <th>Properties - LHV [MJ/kg]</th>\n      <td>BOG 2020</td>\n      <td>120</td>\n      <td>NaN</td>\n      <td>NaN</td>\n      <td>NaN</td>\n      <td>NaN</td>\n      <td>NaN</td>\n      <td>NaN</td>\n      <td>NaN</td>\n      <td>NaN</td>\n      <td>...</td>\n      <td>NaN</td>\n      <td>NaN</td>\n      <td>NaN</td>\n      <td>NaN</td>\n      <td>NaN</td>\n      <td>NaN</td>\n      <td>NaN</td>\n      <td>NaN</td>\n      <td>NaN</td>\n      <td>NaN</td>\n    </tr>\n    <tr>\n      <th>Properties - LHV [kWh/kg]</th>\n      <td>https://www.iea-amf.org/content/fuel_informati...</td>\n      <td>33.33</td>\n      <td>NaN</td>\n      <td>NaN</td>\n      <td>NaN</td>\n      <td>NaN</td>\n      <td>NaN</td>\n      <td>NaN</td>\n      <td>NaN</td>\n      <td>NaN</td>\n      <td>...</td>\n      <td>NaN</td>\n      <td>NaN</td>\n      <td>NaN</td>\n      <td>NaN</td>\n      <td>NaN</td>\n      <td>NaN</td>\n      <td>NaN</td>\n      <td>NaN</td>\n      <td>NaN</td>\n      <td>NaN</td>\n    </tr>\n    <tr>\n      <th>Properties - LHV [kWh/m3]</th>\n      <td>https://www.rechargenews.com/energy-transitio...</td>\n      <td>2350</td>\n      <td>NaN</td>\n      <td>NaN</td>\n      <td>NaN</td>\n      <td>NaN</td>\n      <td>NaN</td>\n      <td>NaN</td>\n      <td>NaN</td>\n      <td>NaN</td>\n      <td>...</td>\n      <td>NaN</td>\n      <td>NaN</td>\n      <td>NaN</td>\n      <td>NaN</td>\n      <td>NaN</td>\n      <td>NaN</td>\n      <td>NaN</td>\n      <td>NaN</td>\n      <td>NaN</td>\n      <td>NaN</td>\n    </tr>\n    <tr>\n      <th>Properties - Boiling point at 1 Bar [°C]</th>\n      <td>NaN</td>\n      <td>-253</td>\n      <td>NaN</td>\n      <td>NaN</td>\n      <td>NaN</td>\n      <td>NaN</td>\n      <td>NaN</td>\n      <td>NaN</td>\n      <td>NaN</td>\n      <td>NaN</td>\n      <td>...</td>\n      <td>NaN</td>\n      <td>NaN</td>\n      <td>NaN</td>\n      <td>NaN</td>\n      <td>NaN</td>\n      <td>NaN</td>\n      <td>NaN</td>\n      <td>NaN</td>\n      <td>NaN</td>\n      <td>NaN</td>\n    </tr>\n    <tr>\n      <th>...</th>\n      <td>...</td>\n      <td>...</td>\n      <td>...</td>\n      <td>...</td>\n      <td>...</td>\n      <td>...</td>\n      <td>...</td>\n      <td>...</td>\n      <td>...</td>\n      <td>...</td>\n      <td>...</td>\n      <td>...</td>\n      <td>...</td>\n      <td>...</td>\n      <td>...</td>\n      <td>...</td>\n      <td>...</td>\n      <td>...</td>\n      <td>...</td>\n      <td>...</td>\n      <td>...</td>\n    </tr>\n    <tr>\n      <th>Reconversion - Opex opt. [% of Capex]</th>\n      <td>IRENA 2022</td>\n      <td>0.03</td>\n      <td>NaN</td>\n      <td>NaN</td>\n      <td>NaN</td>\n      <td>NaN</td>\n      <td>NaN</td>\n      <td>NaN</td>\n      <td>NaN</td>\n      <td>NaN</td>\n      <td>...</td>\n      <td>NaN</td>\n      <td>NaN</td>\n      <td>NaN</td>\n      <td>NaN</td>\n      <td>NaN</td>\n      <td>NaN</td>\n      <td>NaN</td>\n      <td>NaN</td>\n      <td>NaN</td>\n      <td>NaN</td>\n    </tr>\n    <tr>\n      <th>Reconversion - Opex pess. [% of Capex]</th>\n      <td>IRENA 2022</td>\n      <td>0.04</td>\n      <td>NaN</td>\n      <td>NaN</td>\n      <td>NaN</td>\n      <td>NaN</td>\n      <td>NaN</td>\n      <td>NaN</td>\n      <td>NaN</td>\n      <td>NaN</td>\n      <td>...</td>\n      <td>NaN</td>\n      <td>NaN</td>\n      <td>NaN</td>\n      <td>NaN</td>\n      <td>NaN</td>\n      <td>NaN</td>\n      <td>NaN</td>\n      <td>NaN</td>\n      <td>NaN</td>\n      <td>NaN</td>\n    </tr>\n    <tr>\n      <th>Reconversion - Efficiency [% LHV]</th>\n      <td>IRENA 2022</td>\n      <td>0.98</td>\n      <td>NaN</td>\n      <td>NaN</td>\n      <td>NaN</td>\n      <td>NaN</td>\n      <td>NaN</td>\n      <td>NaN</td>\n      <td>NaN</td>\n      <td>NaN</td>\n      <td>...</td>\n      <td>NaN</td>\n      <td>NaN</td>\n      <td>NaN</td>\n      <td>NaN</td>\n      <td>NaN</td>\n      <td>NaN</td>\n      <td>NaN</td>\n      <td>NaN</td>\n      <td>NaN</td>\n      <td>98.0</td>\n    </tr>\n    <tr>\n      <th>Reconversion - Electrcity consumption opt. [kWh/kg H2]</th>\n      <td>IRENA 2022</td>\n      <td>NaN</td>\n      <td>NaN</td>\n      <td>NaN</td>\n      <td>NaN</td>\n      <td>NaN</td>\n      <td>NaN</td>\n      <td>NaN</td>\n      <td>NaN</td>\n      <td>NaN</td>\n      <td>...</td>\n      <td>NaN</td>\n      <td>NaN</td>\n      <td>NaN</td>\n      <td>NaN</td>\n      <td>NaN</td>\n      <td>NaN</td>\n      <td>NaN</td>\n      <td>NaN</td>\n      <td>NaN</td>\n      <td>0.2</td>\n    </tr>\n    <tr>\n      <th>Reconversion - Electrcity consumption pess. [kWh/kg H2]</th>\n      <td>IRENA 2022</td>\n      <td>NaN</td>\n      <td>NaN</td>\n      <td>NaN</td>\n      <td>NaN</td>\n      <td>NaN</td>\n      <td>NaN</td>\n      <td>NaN</td>\n      <td>NaN</td>\n      <td>NaN</td>\n      <td>...</td>\n      <td>NaN</td>\n      <td>NaN</td>\n      <td>NaN</td>\n      <td>NaN</td>\n      <td>NaN</td>\n      <td>NaN</td>\n      <td>NaN</td>\n      <td>NaN</td>\n      <td>NaN</td>\n      <td>0.4</td>\n    </tr>\n  </tbody>\n</table>\n<p>104 rows × 33 columns</p>\n</div>"
     },
     "execution_count": 2,
     "metadata": {},
     "output_type": "execute_result"
    }
   ],
   "source": [
    "tea_lh2 = pd.read_excel(\"/Users/jakob/PycharmProjects/H2_pathways_repo/data/raw/20220921_Data_Assumptions.xlsx\", sheet_name='LH2', decimal=',', index_col=0)\n",
    "tea_lh2"
   ],
   "metadata": {
    "collapsed": false,
    "pycharm": {
     "name": "#%%\n"
    }
   }
  },
  {
   "cell_type": "code",
   "execution_count": 3,
   "outputs": [
    {
     "data": {
      "text/plain": "                                       Pipelines  Pipeline High  Pipeline Low  \\\n0                         Technical Lifetime (y)          40.00         40.00   \n1                        Amortisation factor (%)           0.08          0.08   \n2                                CAPEX (mio$/km)           1.21           NaN   \n3                               CAPEX ($/tpa/km)           3.56          1.33   \n4                    design throughput (kt H2/y)         340.00       3400.00   \n5                      real throughput (kt H2/y)         255.00           NaN   \n6                     OPEX & Fuel (% of CAPEX/a)           0.05          0.05   \n7                                utilisation (%)           0.75          0.75   \n8   Cost of pipeline transport  ($/1000km/kg H2)           0.64          0.24   \n9                              Interest rate (%)           0.08          0.08   \n10                                           NaN            NaN           NaN   \n11                                           NaN            NaN           NaN   \n12                                           NaN            NaN           NaN   \n13                                           NaN            NaN           NaN   \n14                                           NaN            NaN           NaN   \n15                                           NaN            NaN           NaN   \n16                                           NaN            NaN           NaN   \n17                                           NaN            NaN           NaN   \n18                                           NaN            NaN           NaN   \n19                                           NaN            NaN           NaN   \n20                                           NaN            NaN           NaN   \n21                                           NaN            NaN           NaN   \n22                                           NaN            NaN           NaN   \n23                                           NaN            NaN           NaN   \n24                                           NaN            NaN           NaN   \n\n    Pipeline Retrofit  Unnamed: 4  Unnamed: 5 Unnamed: 6  \n0               40.00         NaN         NaN        NaN  \n1                0.08         NaN         NaN        NaN  \n2                 NaN         NaN         NaN        NaN  \n3                0.73         NaN         NaN        NaN  \n4             3400.00         NaN         NaN        NaN  \n5                 NaN         NaN         NaN        NaN  \n6                0.05         NaN         NaN        NaN  \n7                0.75         NaN         NaN        NaN  \n8                0.13         NaN         NaN        NaN  \n9                0.08         NaN         NaN        NaN  \n10                NaN         NaN         NaN        NaN  \n11                NaN         NaN         NaN        NaN  \n12                NaN         NaN         NaN        NaN  \n13                NaN         NaN         NaN        NaN  \n14                NaN         NaN         NaN        NaN  \n15                NaN         NaN         NaN        NaN  \n16                NaN         NaN         NaN        NaN  \n17                NaN         NaN         NaN        NaN  \n18                NaN         NaN         NaN        NaN  \n19                NaN         NaN         NaN        NaN  \n20                NaN         NaN         NaN        NaN  \n21                NaN         NaN         NaN        NaN  \n22                NaN         NaN         NaN        NaN  \n23                NaN         NaN         NaN        NaN  \n24                NaN         NaN         NaN          r  ",
      "text/html": "<div>\n<style scoped>\n    .dataframe tbody tr th:only-of-type {\n        vertical-align: middle;\n    }\n\n    .dataframe tbody tr th {\n        vertical-align: top;\n    }\n\n    .dataframe thead th {\n        text-align: right;\n    }\n</style>\n<table border=\"1\" class=\"dataframe\">\n  <thead>\n    <tr style=\"text-align: right;\">\n      <th></th>\n      <th>Pipelines</th>\n      <th>Pipeline High</th>\n      <th>Pipeline Low</th>\n      <th>Pipeline Retrofit</th>\n      <th>Unnamed: 4</th>\n      <th>Unnamed: 5</th>\n      <th>Unnamed: 6</th>\n    </tr>\n  </thead>\n  <tbody>\n    <tr>\n      <th>0</th>\n      <td>Technical Lifetime (y)</td>\n      <td>40.00</td>\n      <td>40.00</td>\n      <td>40.00</td>\n      <td>NaN</td>\n      <td>NaN</td>\n      <td>NaN</td>\n    </tr>\n    <tr>\n      <th>1</th>\n      <td>Amortisation factor (%)</td>\n      <td>0.08</td>\n      <td>0.08</td>\n      <td>0.08</td>\n      <td>NaN</td>\n      <td>NaN</td>\n      <td>NaN</td>\n    </tr>\n    <tr>\n      <th>2</th>\n      <td>CAPEX (mio$/km)</td>\n      <td>1.21</td>\n      <td>NaN</td>\n      <td>NaN</td>\n      <td>NaN</td>\n      <td>NaN</td>\n      <td>NaN</td>\n    </tr>\n    <tr>\n      <th>3</th>\n      <td>CAPEX ($/tpa/km)</td>\n      <td>3.56</td>\n      <td>1.33</td>\n      <td>0.73</td>\n      <td>NaN</td>\n      <td>NaN</td>\n      <td>NaN</td>\n    </tr>\n    <tr>\n      <th>4</th>\n      <td>design throughput (kt H2/y)</td>\n      <td>340.00</td>\n      <td>3400.00</td>\n      <td>3400.00</td>\n      <td>NaN</td>\n      <td>NaN</td>\n      <td>NaN</td>\n    </tr>\n    <tr>\n      <th>5</th>\n      <td>real throughput (kt H2/y)</td>\n      <td>255.00</td>\n      <td>NaN</td>\n      <td>NaN</td>\n      <td>NaN</td>\n      <td>NaN</td>\n      <td>NaN</td>\n    </tr>\n    <tr>\n      <th>6</th>\n      <td>OPEX &amp; Fuel (% of CAPEX/a)</td>\n      <td>0.05</td>\n      <td>0.05</td>\n      <td>0.05</td>\n      <td>NaN</td>\n      <td>NaN</td>\n      <td>NaN</td>\n    </tr>\n    <tr>\n      <th>7</th>\n      <td>utilisation (%)</td>\n      <td>0.75</td>\n      <td>0.75</td>\n      <td>0.75</td>\n      <td>NaN</td>\n      <td>NaN</td>\n      <td>NaN</td>\n    </tr>\n    <tr>\n      <th>8</th>\n      <td>Cost of pipeline transport  ($/1000km/kg H2)</td>\n      <td>0.64</td>\n      <td>0.24</td>\n      <td>0.13</td>\n      <td>NaN</td>\n      <td>NaN</td>\n      <td>NaN</td>\n    </tr>\n    <tr>\n      <th>9</th>\n      <td>Interest rate (%)</td>\n      <td>0.08</td>\n      <td>0.08</td>\n      <td>0.08</td>\n      <td>NaN</td>\n      <td>NaN</td>\n      <td>NaN</td>\n    </tr>\n    <tr>\n      <th>10</th>\n      <td>NaN</td>\n      <td>NaN</td>\n      <td>NaN</td>\n      <td>NaN</td>\n      <td>NaN</td>\n      <td>NaN</td>\n      <td>NaN</td>\n    </tr>\n    <tr>\n      <th>11</th>\n      <td>NaN</td>\n      <td>NaN</td>\n      <td>NaN</td>\n      <td>NaN</td>\n      <td>NaN</td>\n      <td>NaN</td>\n      <td>NaN</td>\n    </tr>\n    <tr>\n      <th>12</th>\n      <td>NaN</td>\n      <td>NaN</td>\n      <td>NaN</td>\n      <td>NaN</td>\n      <td>NaN</td>\n      <td>NaN</td>\n      <td>NaN</td>\n    </tr>\n    <tr>\n      <th>13</th>\n      <td>NaN</td>\n      <td>NaN</td>\n      <td>NaN</td>\n      <td>NaN</td>\n      <td>NaN</td>\n      <td>NaN</td>\n      <td>NaN</td>\n    </tr>\n    <tr>\n      <th>14</th>\n      <td>NaN</td>\n      <td>NaN</td>\n      <td>NaN</td>\n      <td>NaN</td>\n      <td>NaN</td>\n      <td>NaN</td>\n      <td>NaN</td>\n    </tr>\n    <tr>\n      <th>15</th>\n      <td>NaN</td>\n      <td>NaN</td>\n      <td>NaN</td>\n      <td>NaN</td>\n      <td>NaN</td>\n      <td>NaN</td>\n      <td>NaN</td>\n    </tr>\n    <tr>\n      <th>16</th>\n      <td>NaN</td>\n      <td>NaN</td>\n      <td>NaN</td>\n      <td>NaN</td>\n      <td>NaN</td>\n      <td>NaN</td>\n      <td>NaN</td>\n    </tr>\n    <tr>\n      <th>17</th>\n      <td>NaN</td>\n      <td>NaN</td>\n      <td>NaN</td>\n      <td>NaN</td>\n      <td>NaN</td>\n      <td>NaN</td>\n      <td>NaN</td>\n    </tr>\n    <tr>\n      <th>18</th>\n      <td>NaN</td>\n      <td>NaN</td>\n      <td>NaN</td>\n      <td>NaN</td>\n      <td>NaN</td>\n      <td>NaN</td>\n      <td>NaN</td>\n    </tr>\n    <tr>\n      <th>19</th>\n      <td>NaN</td>\n      <td>NaN</td>\n      <td>NaN</td>\n      <td>NaN</td>\n      <td>NaN</td>\n      <td>NaN</td>\n      <td>NaN</td>\n    </tr>\n    <tr>\n      <th>20</th>\n      <td>NaN</td>\n      <td>NaN</td>\n      <td>NaN</td>\n      <td>NaN</td>\n      <td>NaN</td>\n      <td>NaN</td>\n      <td>NaN</td>\n    </tr>\n    <tr>\n      <th>21</th>\n      <td>NaN</td>\n      <td>NaN</td>\n      <td>NaN</td>\n      <td>NaN</td>\n      <td>NaN</td>\n      <td>NaN</td>\n      <td>NaN</td>\n    </tr>\n    <tr>\n      <th>22</th>\n      <td>NaN</td>\n      <td>NaN</td>\n      <td>NaN</td>\n      <td>NaN</td>\n      <td>NaN</td>\n      <td>NaN</td>\n      <td>NaN</td>\n    </tr>\n    <tr>\n      <th>23</th>\n      <td>NaN</td>\n      <td>NaN</td>\n      <td>NaN</td>\n      <td>NaN</td>\n      <td>NaN</td>\n      <td>NaN</td>\n      <td>NaN</td>\n    </tr>\n    <tr>\n      <th>24</th>\n      <td>NaN</td>\n      <td>NaN</td>\n      <td>NaN</td>\n      <td>NaN</td>\n      <td>NaN</td>\n      <td>NaN</td>\n      <td>r</td>\n    </tr>\n  </tbody>\n</table>\n</div>"
     },
     "execution_count": 3,
     "metadata": {},
     "output_type": "execute_result"
    }
   ],
   "source": [
    "tea_tra = pd.read_csv(\"/Users/jakob/PycharmProjects/H2_pathways_repo/data/raw/tea_tra.csv\", delimiter=';', decimal=',')\n",
    "tea_tra"
   ],
   "metadata": {
    "collapsed": false,
    "pycharm": {
     "name": "#%%\n"
    }
   }
  },
  {
   "cell_type": "code",
   "execution_count": 39,
   "outputs": [
    {
     "data": {
      "text/plain": "                                                     2020        2021  \\\nWholesale electricity prices from DNV GL 2019                           \nUnited Arab Emirates                            36.301651   36.764515   \nAngola                                         121.494032  119.445089   \nArgentina                                       37.961027   38.086072   \nAustria                                         46.683533   47.002654   \nAustralia                                       72.846428   69.396730   \n...                                                   ...         ...   \nPhilippines                                     42.402642   44.089299   \nIceland                                         46.683533   47.002654   \nPapua New Guinea                                42.402642   44.089299   \nCameroon                                       121.494032  119.445089   \nSouth Africa                                   121.494032  119.445089   \n\n                                                     2022        2023  \\\nWholesale electricity prices from DNV GL 2019                           \nUnited Arab Emirates                            37.137776   37.447974   \nAngola                                         119.580409  124.653779   \nArgentina                                       39.032196   40.033404   \nAustria                                         47.209289   47.346703   \nAustralia                                       66.622798   64.898776   \n...                                                   ...         ...   \nPhilippines                                     45.936088   47.946139   \nIceland                                         47.209289   47.346703   \nPapua New Guinea                                45.936088   47.946139   \nCameroon                                       119.580409  124.653779   \nSouth Africa                                   119.580409  124.653779   \n\n                                                     2024        2025  \\\nWholesale electricity prices from DNV GL 2019                           \nUnited Arab Emirates                            37.747898   38.034395   \nAngola                                         131.547459  137.405324   \nArgentina                                       41.148255   42.353416   \nAustria                                         47.274782   46.957092   \nAustralia                                       64.515503   64.897234   \n...                                                   ...         ...   \nPhilippines                                     50.057150   52.193834   \nIceland                                         47.274782   46.957092   \nPapua New Guinea                                50.057150   52.193834   \nCameroon                                       131.547459  137.405324   \nSouth Africa                                   131.547459  137.405324   \n\n                                                     2026        2027  \\\nWholesale electricity prices from DNV GL 2019                           \nUnited Arab Emirates                            38.325658   38.655501   \nAngola                                         141.246042  142.819290   \nArgentina                                       43.577189   44.818521   \nAustria                                         46.416301   46.118220   \nAustralia                                       65.154315   65.256396   \n...                                                   ...         ...   \nPhilippines                                     54.433745   57.196590   \nIceland                                         46.416301   46.118220   \nPapua New Guinea                                54.433745   57.196590   \nCameroon                                       141.246042  142.819290   \nSouth Africa                                   141.246042  142.819290   \n\n                                                     2028        2029  ...  \\\nWholesale electricity prices from DNV GL 2019                          ...   \nUnited Arab Emirates                            39.015448   39.420264  ...   \nAngola                                         143.098086  143.128137  ...   \nArgentina                                       46.021991   47.209332  ...   \nAustria                                         45.738344   45.399899  ...   \nAustralia                                       65.134265   64.811898  ...   \n...                                                   ...         ...  ...   \nPhilippines                                     60.841314   65.569751  ...   \nIceland                                         45.738344   45.399899  ...   \nPapua New Guinea                                60.841314   65.569751  ...   \nCameroon                                       143.098086  143.128137  ...   \nSouth Africa                                   143.098086  143.128137  ...   \n\n                                                     2041        2042  \\\nWholesale electricity prices from DNV GL 2019                           \nUnited Arab Emirates                            53.573530   51.487746   \nAngola                                         167.313461  168.277022   \nArgentina                                       73.409441   72.994100   \nAustria                                         49.609330   50.705430   \nAustralia                                       38.939740   37.412280   \n...                                                   ...         ...   \nPhilippines                                     75.383730   74.831710   \nIceland                                         49.609330   50.705430   \nPapua New Guinea                                75.383730   74.831710   \nCameroon                                       167.313461  168.277022   \nSouth Africa                                   167.313461  168.277022   \n\n                                                     2043        2044  \\\nWholesale electricity prices from DNV GL 2019                           \nUnited Arab Emirates                            50.336783   49.802097   \nAngola                                         168.972257  169.434972   \nArgentina                                       72.420411   72.137700   \nAustria                                         51.925184   53.193310   \nAustralia                                       35.994851   34.709238   \n...                                                   ...         ...   \nPhilippines                                     74.676203   74.735059   \nIceland                                         51.925184   53.193310   \nPapua New Guinea                                74.676203   74.735059   \nCameroon                                       168.972257  169.434972   \nSouth Africa                                   168.972257  169.434972   \n\n                                                     2045        2046  \\\nWholesale electricity prices from DNV GL 2019                           \nUnited Arab Emirates                            49.984233   50.739234   \nAngola                                         169.825687  170.198308   \nArgentina                                       71.884240   71.715794   \nAustria                                         54.221220   54.704721   \nAustralia                                       33.678074   32.794352   \n...                                                   ...         ...   \nPhilippines                                     74.746313   74.583895   \nIceland                                         54.221220   54.704721   \nPapua New Guinea                                74.746313   74.583895   \nCameroon                                       169.825687  170.198308   \nSouth Africa                                   169.825687  170.198308   \n\n                                                     2047        2048  \\\nWholesale electricity prices from DNV GL 2019                           \nUnited Arab Emirates                            51.993049   53.655694   \nAngola                                         170.217476  170.039948   \nArgentina                                       71.547577   71.579187   \nAustria                                         54.535295   53.994557   \nAustralia                                       32.137023   31.647242   \n...                                                   ...         ...   \nPhilippines                                     74.409350   74.323923   \nIceland                                         54.535295   53.994557   \nPapua New Guinea                                74.409350   74.323923   \nCameroon                                       170.217476  170.039948   \nSouth Africa                                   170.217476  170.039948   \n\n                                                     2049        2050  \nWholesale electricity prices from DNV GL 2019                          \nUnited Arab Emirates                            54.814324   56.468935  \nAngola                                         170.172216  169.924801  \nArgentina                                       70.985088   71.383909  \nAustria                                         53.715329   53.994428  \nAustralia                                       30.594356   29.930791  \n...                                                   ...         ...  \nPhilippines                                     74.282002   73.996739  \nIceland                                         53.715329   53.994428  \nPapua New Guinea                                74.282002   73.996739  \nCameroon                                       170.172216  169.924801  \nSouth Africa                                   170.172216  169.924801  \n\n[88 rows x 31 columns]",
      "text/html": "<div>\n<style scoped>\n    .dataframe tbody tr th:only-of-type {\n        vertical-align: middle;\n    }\n\n    .dataframe tbody tr th {\n        vertical-align: top;\n    }\n\n    .dataframe thead th {\n        text-align: right;\n    }\n</style>\n<table border=\"1\" class=\"dataframe\">\n  <thead>\n    <tr style=\"text-align: right;\">\n      <th></th>\n      <th>2020</th>\n      <th>2021</th>\n      <th>2022</th>\n      <th>2023</th>\n      <th>2024</th>\n      <th>2025</th>\n      <th>2026</th>\n      <th>2027</th>\n      <th>2028</th>\n      <th>2029</th>\n      <th>...</th>\n      <th>2041</th>\n      <th>2042</th>\n      <th>2043</th>\n      <th>2044</th>\n      <th>2045</th>\n      <th>2046</th>\n      <th>2047</th>\n      <th>2048</th>\n      <th>2049</th>\n      <th>2050</th>\n    </tr>\n    <tr>\n      <th>Wholesale electricity prices from DNV GL 2019</th>\n      <th></th>\n      <th></th>\n      <th></th>\n      <th></th>\n      <th></th>\n      <th></th>\n      <th></th>\n      <th></th>\n      <th></th>\n      <th></th>\n      <th></th>\n      <th></th>\n      <th></th>\n      <th></th>\n      <th></th>\n      <th></th>\n      <th></th>\n      <th></th>\n      <th></th>\n      <th></th>\n      <th></th>\n    </tr>\n  </thead>\n  <tbody>\n    <tr>\n      <th>United Arab Emirates</th>\n      <td>36.301651</td>\n      <td>36.764515</td>\n      <td>37.137776</td>\n      <td>37.447974</td>\n      <td>37.747898</td>\n      <td>38.034395</td>\n      <td>38.325658</td>\n      <td>38.655501</td>\n      <td>39.015448</td>\n      <td>39.420264</td>\n      <td>...</td>\n      <td>53.573530</td>\n      <td>51.487746</td>\n      <td>50.336783</td>\n      <td>49.802097</td>\n      <td>49.984233</td>\n      <td>50.739234</td>\n      <td>51.993049</td>\n      <td>53.655694</td>\n      <td>54.814324</td>\n      <td>56.468935</td>\n    </tr>\n    <tr>\n      <th>Angola</th>\n      <td>121.494032</td>\n      <td>119.445089</td>\n      <td>119.580409</td>\n      <td>124.653779</td>\n      <td>131.547459</td>\n      <td>137.405324</td>\n      <td>141.246042</td>\n      <td>142.819290</td>\n      <td>143.098086</td>\n      <td>143.128137</td>\n      <td>...</td>\n      <td>167.313461</td>\n      <td>168.277022</td>\n      <td>168.972257</td>\n      <td>169.434972</td>\n      <td>169.825687</td>\n      <td>170.198308</td>\n      <td>170.217476</td>\n      <td>170.039948</td>\n      <td>170.172216</td>\n      <td>169.924801</td>\n    </tr>\n    <tr>\n      <th>Argentina</th>\n      <td>37.961027</td>\n      <td>38.086072</td>\n      <td>39.032196</td>\n      <td>40.033404</td>\n      <td>41.148255</td>\n      <td>42.353416</td>\n      <td>43.577189</td>\n      <td>44.818521</td>\n      <td>46.021991</td>\n      <td>47.209332</td>\n      <td>...</td>\n      <td>73.409441</td>\n      <td>72.994100</td>\n      <td>72.420411</td>\n      <td>72.137700</td>\n      <td>71.884240</td>\n      <td>71.715794</td>\n      <td>71.547577</td>\n      <td>71.579187</td>\n      <td>70.985088</td>\n      <td>71.383909</td>\n    </tr>\n    <tr>\n      <th>Austria</th>\n      <td>46.683533</td>\n      <td>47.002654</td>\n      <td>47.209289</td>\n      <td>47.346703</td>\n      <td>47.274782</td>\n      <td>46.957092</td>\n      <td>46.416301</td>\n      <td>46.118220</td>\n      <td>45.738344</td>\n      <td>45.399899</td>\n      <td>...</td>\n      <td>49.609330</td>\n      <td>50.705430</td>\n      <td>51.925184</td>\n      <td>53.193310</td>\n      <td>54.221220</td>\n      <td>54.704721</td>\n      <td>54.535295</td>\n      <td>53.994557</td>\n      <td>53.715329</td>\n      <td>53.994428</td>\n    </tr>\n    <tr>\n      <th>Australia</th>\n      <td>72.846428</td>\n      <td>69.396730</td>\n      <td>66.622798</td>\n      <td>64.898776</td>\n      <td>64.515503</td>\n      <td>64.897234</td>\n      <td>65.154315</td>\n      <td>65.256396</td>\n      <td>65.134265</td>\n      <td>64.811898</td>\n      <td>...</td>\n      <td>38.939740</td>\n      <td>37.412280</td>\n      <td>35.994851</td>\n      <td>34.709238</td>\n      <td>33.678074</td>\n      <td>32.794352</td>\n      <td>32.137023</td>\n      <td>31.647242</td>\n      <td>30.594356</td>\n      <td>29.930791</td>\n    </tr>\n    <tr>\n      <th>...</th>\n      <td>...</td>\n      <td>...</td>\n      <td>...</td>\n      <td>...</td>\n      <td>...</td>\n      <td>...</td>\n      <td>...</td>\n      <td>...</td>\n      <td>...</td>\n      <td>...</td>\n      <td>...</td>\n      <td>...</td>\n      <td>...</td>\n      <td>...</td>\n      <td>...</td>\n      <td>...</td>\n      <td>...</td>\n      <td>...</td>\n      <td>...</td>\n      <td>...</td>\n      <td>...</td>\n    </tr>\n    <tr>\n      <th>Philippines</th>\n      <td>42.402642</td>\n      <td>44.089299</td>\n      <td>45.936088</td>\n      <td>47.946139</td>\n      <td>50.057150</td>\n      <td>52.193834</td>\n      <td>54.433745</td>\n      <td>57.196590</td>\n      <td>60.841314</td>\n      <td>65.569751</td>\n      <td>...</td>\n      <td>75.383730</td>\n      <td>74.831710</td>\n      <td>74.676203</td>\n      <td>74.735059</td>\n      <td>74.746313</td>\n      <td>74.583895</td>\n      <td>74.409350</td>\n      <td>74.323923</td>\n      <td>74.282002</td>\n      <td>73.996739</td>\n    </tr>\n    <tr>\n      <th>Iceland</th>\n      <td>46.683533</td>\n      <td>47.002654</td>\n      <td>47.209289</td>\n      <td>47.346703</td>\n      <td>47.274782</td>\n      <td>46.957092</td>\n      <td>46.416301</td>\n      <td>46.118220</td>\n      <td>45.738344</td>\n      <td>45.399899</td>\n      <td>...</td>\n      <td>49.609330</td>\n      <td>50.705430</td>\n      <td>51.925184</td>\n      <td>53.193310</td>\n      <td>54.221220</td>\n      <td>54.704721</td>\n      <td>54.535295</td>\n      <td>53.994557</td>\n      <td>53.715329</td>\n      <td>53.994428</td>\n    </tr>\n    <tr>\n      <th>Papua New Guinea</th>\n      <td>42.402642</td>\n      <td>44.089299</td>\n      <td>45.936088</td>\n      <td>47.946139</td>\n      <td>50.057150</td>\n      <td>52.193834</td>\n      <td>54.433745</td>\n      <td>57.196590</td>\n      <td>60.841314</td>\n      <td>65.569751</td>\n      <td>...</td>\n      <td>75.383730</td>\n      <td>74.831710</td>\n      <td>74.676203</td>\n      <td>74.735059</td>\n      <td>74.746313</td>\n      <td>74.583895</td>\n      <td>74.409350</td>\n      <td>74.323923</td>\n      <td>74.282002</td>\n      <td>73.996739</td>\n    </tr>\n    <tr>\n      <th>Cameroon</th>\n      <td>121.494032</td>\n      <td>119.445089</td>\n      <td>119.580409</td>\n      <td>124.653779</td>\n      <td>131.547459</td>\n      <td>137.405324</td>\n      <td>141.246042</td>\n      <td>142.819290</td>\n      <td>143.098086</td>\n      <td>143.128137</td>\n      <td>...</td>\n      <td>167.313461</td>\n      <td>168.277022</td>\n      <td>168.972257</td>\n      <td>169.434972</td>\n      <td>169.825687</td>\n      <td>170.198308</td>\n      <td>170.217476</td>\n      <td>170.039948</td>\n      <td>170.172216</td>\n      <td>169.924801</td>\n    </tr>\n    <tr>\n      <th>South Africa</th>\n      <td>121.494032</td>\n      <td>119.445089</td>\n      <td>119.580409</td>\n      <td>124.653779</td>\n      <td>131.547459</td>\n      <td>137.405324</td>\n      <td>141.246042</td>\n      <td>142.819290</td>\n      <td>143.098086</td>\n      <td>143.128137</td>\n      <td>...</td>\n      <td>167.313461</td>\n      <td>168.277022</td>\n      <td>168.972257</td>\n      <td>169.434972</td>\n      <td>169.825687</td>\n      <td>170.198308</td>\n      <td>170.217476</td>\n      <td>170.039948</td>\n      <td>170.172216</td>\n      <td>169.924801</td>\n    </tr>\n  </tbody>\n</table>\n<p>88 rows × 31 columns</p>\n</div>"
     },
     "execution_count": 39,
     "metadata": {},
     "output_type": "execute_result"
    }
   ],
   "source": [
    "# Electrcity wholesale price projections in $_2018/MWh from DNVGL 2018\n",
    "p_electricity = pd.read_excel('/Users/jakob/PycharmProjects/H2_pathways_repo/data/raw/20220921_Data_Assumptions.xlsx', sheet_name='EL Price', decimal=',', index_col=0)\n",
    "p_electricity"
   ],
   "metadata": {
    "collapsed": false,
    "pycharm": {
     "name": "#%%\n"
    }
   }
  },
  {
   "cell_type": "code",
   "execution_count": 4,
   "outputs": [
    {
     "data": {
      "text/plain": "                                       Pipelines     High       Low  Retrofit  \\\n0                                  Discount rate    0.080     0.080     0.080   \n1                         Technical Lifetime (y)   40.000    40.000    40.000   \n2                        Amortisation factor (%)    0.084     0.084     0.084   \n3                                CAPEX (mio$/km)    1.210       NaN       NaN   \n4                               CAPEX ($/tpa/km)    3.560     1.330     0.730   \n5                    design throughput (kt H2/y)  340.000  3400.000  3400.000   \n6                      real throughput (kt H2/y)  255.000       NaN       NaN   \n7                     OPEX & Fuel (% of CAPEX/a)    0.050     0.050     0.050   \n8                                utilisation (%)    0.750     0.750     0.750   \n9   Cost of pipeline transport  ($/1000km/kg H2)    0.640     0.240     0.130   \n10                                           NaN      NaN       NaN       NaN   \n11                                           NaN      NaN       NaN       NaN   \n12                                           NaN      NaN       NaN       NaN   \n13                                           NaN      NaN       NaN       NaN   \n14                                           NaN      NaN       NaN       NaN   \n15                                           NaN      NaN       NaN       NaN   \n16                                           NaN      NaN       NaN       NaN   \n17                                           NaN      NaN       NaN       NaN   \n18                                           NaN      NaN       NaN       NaN   \n19                                           NaN      NaN       NaN       NaN   \n20                                           NaN      NaN       NaN       NaN   \n21                                           NaN      NaN       NaN       NaN   \n22                                           NaN      NaN       NaN       NaN   \n23                                           NaN      NaN       NaN       NaN   \n24                                           NaN      NaN       NaN       NaN   \n25                                           NaN      NaN       NaN       NaN   \n\n   Unnamed: 4  \n0         NaN  \n1         NaN  \n2         NaN  \n3         NaN  \n4         NaN  \n5         NaN  \n6         NaN  \n7         NaN  \n8         NaN  \n9         NaN  \n10        NaN  \n11        NaN  \n12        NaN  \n13        NaN  \n14        NaN  \n15        NaN  \n16        NaN  \n17        NaN  \n18        NaN  \n19        NaN  \n20        NaN  \n21        NaN  \n22        NaN  \n23        NaN  \n24        NaN  \n25          r  ",
      "text/html": "<div>\n<style scoped>\n    .dataframe tbody tr th:only-of-type {\n        vertical-align: middle;\n    }\n\n    .dataframe tbody tr th {\n        vertical-align: top;\n    }\n\n    .dataframe thead th {\n        text-align: right;\n    }\n</style>\n<table border=\"1\" class=\"dataframe\">\n  <thead>\n    <tr style=\"text-align: right;\">\n      <th></th>\n      <th>Pipelines</th>\n      <th>High</th>\n      <th>Low</th>\n      <th>Retrofit</th>\n      <th>Unnamed: 4</th>\n    </tr>\n  </thead>\n  <tbody>\n    <tr>\n      <th>0</th>\n      <td>Discount rate</td>\n      <td>0.080</td>\n      <td>0.080</td>\n      <td>0.080</td>\n      <td>NaN</td>\n    </tr>\n    <tr>\n      <th>1</th>\n      <td>Technical Lifetime (y)</td>\n      <td>40.000</td>\n      <td>40.000</td>\n      <td>40.000</td>\n      <td>NaN</td>\n    </tr>\n    <tr>\n      <th>2</th>\n      <td>Amortisation factor (%)</td>\n      <td>0.084</td>\n      <td>0.084</td>\n      <td>0.084</td>\n      <td>NaN</td>\n    </tr>\n    <tr>\n      <th>3</th>\n      <td>CAPEX (mio$/km)</td>\n      <td>1.210</td>\n      <td>NaN</td>\n      <td>NaN</td>\n      <td>NaN</td>\n    </tr>\n    <tr>\n      <th>4</th>\n      <td>CAPEX ($/tpa/km)</td>\n      <td>3.560</td>\n      <td>1.330</td>\n      <td>0.730</td>\n      <td>NaN</td>\n    </tr>\n    <tr>\n      <th>5</th>\n      <td>design throughput (kt H2/y)</td>\n      <td>340.000</td>\n      <td>3400.000</td>\n      <td>3400.000</td>\n      <td>NaN</td>\n    </tr>\n    <tr>\n      <th>6</th>\n      <td>real throughput (kt H2/y)</td>\n      <td>255.000</td>\n      <td>NaN</td>\n      <td>NaN</td>\n      <td>NaN</td>\n    </tr>\n    <tr>\n      <th>7</th>\n      <td>OPEX &amp; Fuel (% of CAPEX/a)</td>\n      <td>0.050</td>\n      <td>0.050</td>\n      <td>0.050</td>\n      <td>NaN</td>\n    </tr>\n    <tr>\n      <th>8</th>\n      <td>utilisation (%)</td>\n      <td>0.750</td>\n      <td>0.750</td>\n      <td>0.750</td>\n      <td>NaN</td>\n    </tr>\n    <tr>\n      <th>9</th>\n      <td>Cost of pipeline transport  ($/1000km/kg H2)</td>\n      <td>0.640</td>\n      <td>0.240</td>\n      <td>0.130</td>\n      <td>NaN</td>\n    </tr>\n    <tr>\n      <th>10</th>\n      <td>NaN</td>\n      <td>NaN</td>\n      <td>NaN</td>\n      <td>NaN</td>\n      <td>NaN</td>\n    </tr>\n    <tr>\n      <th>11</th>\n      <td>NaN</td>\n      <td>NaN</td>\n      <td>NaN</td>\n      <td>NaN</td>\n      <td>NaN</td>\n    </tr>\n    <tr>\n      <th>12</th>\n      <td>NaN</td>\n      <td>NaN</td>\n      <td>NaN</td>\n      <td>NaN</td>\n      <td>NaN</td>\n    </tr>\n    <tr>\n      <th>13</th>\n      <td>NaN</td>\n      <td>NaN</td>\n      <td>NaN</td>\n      <td>NaN</td>\n      <td>NaN</td>\n    </tr>\n    <tr>\n      <th>14</th>\n      <td>NaN</td>\n      <td>NaN</td>\n      <td>NaN</td>\n      <td>NaN</td>\n      <td>NaN</td>\n    </tr>\n    <tr>\n      <th>15</th>\n      <td>NaN</td>\n      <td>NaN</td>\n      <td>NaN</td>\n      <td>NaN</td>\n      <td>NaN</td>\n    </tr>\n    <tr>\n      <th>16</th>\n      <td>NaN</td>\n      <td>NaN</td>\n      <td>NaN</td>\n      <td>NaN</td>\n      <td>NaN</td>\n    </tr>\n    <tr>\n      <th>17</th>\n      <td>NaN</td>\n      <td>NaN</td>\n      <td>NaN</td>\n      <td>NaN</td>\n      <td>NaN</td>\n    </tr>\n    <tr>\n      <th>18</th>\n      <td>NaN</td>\n      <td>NaN</td>\n      <td>NaN</td>\n      <td>NaN</td>\n      <td>NaN</td>\n    </tr>\n    <tr>\n      <th>19</th>\n      <td>NaN</td>\n      <td>NaN</td>\n      <td>NaN</td>\n      <td>NaN</td>\n      <td>NaN</td>\n    </tr>\n    <tr>\n      <th>20</th>\n      <td>NaN</td>\n      <td>NaN</td>\n      <td>NaN</td>\n      <td>NaN</td>\n      <td>NaN</td>\n    </tr>\n    <tr>\n      <th>21</th>\n      <td>NaN</td>\n      <td>NaN</td>\n      <td>NaN</td>\n      <td>NaN</td>\n      <td>NaN</td>\n    </tr>\n    <tr>\n      <th>22</th>\n      <td>NaN</td>\n      <td>NaN</td>\n      <td>NaN</td>\n      <td>NaN</td>\n      <td>NaN</td>\n    </tr>\n    <tr>\n      <th>23</th>\n      <td>NaN</td>\n      <td>NaN</td>\n      <td>NaN</td>\n      <td>NaN</td>\n      <td>NaN</td>\n    </tr>\n    <tr>\n      <th>24</th>\n      <td>NaN</td>\n      <td>NaN</td>\n      <td>NaN</td>\n      <td>NaN</td>\n      <td>NaN</td>\n    </tr>\n    <tr>\n      <th>25</th>\n      <td>NaN</td>\n      <td>NaN</td>\n      <td>NaN</td>\n      <td>NaN</td>\n      <td>r</td>\n    </tr>\n  </tbody>\n</table>\n</div>"
     },
     "execution_count": 4,
     "metadata": {},
     "output_type": "execute_result"
    }
   ],
   "source": [
    "#Definition of variables for pipeline transport costs\n",
    "tea_pipe = pd.read_csv(\"/Users/jakob/PycharmProjects/H2_pathways_repo/data/raw/tea_pipe.csv\", delimiter=';', decimal=',')\n",
    "tea_pipe"
   ],
   "metadata": {
    "collapsed": false,
    "pycharm": {
     "name": "#%%\n"
    }
   }
  },
  {
   "cell_type": "code",
   "execution_count": 4,
   "outputs": [],
   "source": [],
   "metadata": {
    "collapsed": false,
    "pycharm": {
     "name": "#%%\n"
    }
   }
  },
  {
   "cell_type": "code",
   "execution_count": 5,
   "outputs": [
    {
     "data": {
      "text/plain": "0.08"
     },
     "execution_count": 5,
     "metadata": {},
     "output_type": "execute_result"
    }
   ],
   "source": [
    "# WACC for all transport investments (pipelines, terminals, liquefaction plants)\n",
    "i_tra = float(tea_pipe[tea_pipe.Pipelines == 'Discount rate']['High'].values)\n",
    "i_tra"
   ],
   "metadata": {
    "collapsed": false,
    "pycharm": {
     "name": "#%%\n"
    }
   }
  },
  {
   "cell_type": "markdown",
   "source": [
    "# Pipeline transport costs"
   ],
   "metadata": {
    "collapsed": false,
    "pycharm": {
     "name": "#%% md\n"
    }
   }
  },
  {
   "cell_type": "code",
   "execution_count": 6,
   "outputs": [
    {
     "data": {
      "text/plain": "40.0"
     },
     "execution_count": 6,
     "metadata": {},
     "output_type": "execute_result"
    }
   ],
   "source": [
    "# Economic lifetime for pipelines\n",
    "l_pipe = float(tea_pipe[tea_pipe.Pipelines == 'Technical Lifetime (y)']['High'].values)\n",
    "l_pipe"
   ],
   "metadata": {
    "collapsed": false,
    "pycharm": {
     "name": "#%%\n"
    }
   }
  },
  {
   "cell_type": "code",
   "execution_count": 7,
   "outputs": [
    {
     "data": {
      "text/plain": "0.08386016150058534"
     },
     "execution_count": 7,
     "metadata": {},
     "output_type": "execute_result"
    }
   ],
   "source": [
    "# Amortisation factor for onshore pipelines\n",
    "alpha = (i_tra * (1 + i_tra)**l_pipe)/(((1 + i_tra)**l_pipe) - 1)\n",
    "alpha"
   ],
   "metadata": {
    "collapsed": false,
    "pycharm": {
     "name": "#%%\n"
    }
   }
  },
  {
   "cell_type": "code",
   "execution_count": 8,
   "outputs": [
    {
     "data": {
      "text/plain": "0.75"
     },
     "execution_count": 8,
     "metadata": {},
     "output_type": "execute_result"
    }
   ],
   "source": [
    "# Utilisation of the pipeline in %\n",
    "pipe_use = float(tea_pipe[tea_pipe.Pipelines == 'utilisation (%)']['High'].values)\n",
    "pipe_use"
   ],
   "metadata": {
    "collapsed": false,
    "pycharm": {
     "name": "#%%\n"
    }
   }
  },
  {
   "cell_type": "code",
   "execution_count": 9,
   "outputs": [
    {
     "data": {
      "text/plain": "3.56"
     },
     "execution_count": 9,
     "metadata": {},
     "output_type": "execute_result"
    }
   ],
   "source": [
    "capex_pipe_offshore_EHB = float(tea_pipe[tea_pipe.Pipelines == 'CAPEX ($/tpa/km)']['High'].values)\n",
    "capex_pipe_offshore_EHB"
   ],
   "metadata": {
    "collapsed": false,
    "pycharm": {
     "name": "#%%\n"
    }
   }
  },
  {
   "cell_type": "code",
   "execution_count": 10,
   "outputs": [
    {
     "data": {
      "text/plain": "4.746666666666667"
     },
     "execution_count": 10,
     "metadata": {},
     "output_type": "execute_result"
    }
   ],
   "source": [
    "# Capex for onshore pipelines constant over time (3.56) divided by pipeline utilisation in [$/tpa/km]\n",
    "capex_on_high = capex_pipe_offshore_EHB/pipe_use\n",
    "capex_on_high"
   ],
   "metadata": {
    "collapsed": false,
    "pycharm": {
     "name": "#%%\n"
    }
   }
  },
  {
   "cell_type": "code",
   "execution_count": 11,
   "outputs": [
    {
     "data": {
      "text/plain": "0.05"
     },
     "execution_count": 11,
     "metadata": {},
     "output_type": "execute_result"
    }
   ],
   "source": [
    "opex_on_share = float(tea_pipe[tea_pipe.Pipelines == 'OPEX & Fuel (% of CAPEX/a)']['High'].values)\n",
    "opex_on_share"
   ],
   "metadata": {
    "collapsed": false,
    "pycharm": {
     "name": "#%%\n"
    }
   }
  },
  {
   "cell_type": "code",
   "execution_count": 12,
   "outputs": [
    {
     "data": {
      "text/plain": "0.23733333333333337"
     },
     "execution_count": 12,
     "metadata": {},
     "output_type": "execute_result"
    }
   ],
   "source": [
    "# Opex for onshore pipelines constant over time (opex and fuel use in % of capex/a) in [$/tpa/km]\n",
    "opex_on_high = capex_on_high * opex_on_share\n",
    "opex_on_high"
   ],
   "metadata": {
    "collapsed": false,
    "pycharm": {
     "name": "#%%\n"
    }
   }
  },
  {
   "cell_type": "code",
   "execution_count": 13,
   "outputs": [
    {
     "ename": "NameError",
     "evalue": "name 'tra_d' is not defined",
     "output_type": "error",
     "traceback": [
      "\u001B[0;31m---------------------------------------------------------------------------\u001B[0m",
      "\u001B[0;31mNameError\u001B[0m                                 Traceback (most recent call last)",
      "Input \u001B[0;32mIn [13]\u001B[0m, in \u001B[0;36m<cell line: 2>\u001B[0;34m()\u001B[0m\n\u001B[1;32m      1\u001B[0m \u001B[38;5;66;03m# Onshore pipeline distance between two countries [km]\u001B[39;00m\n\u001B[0;32m----> 2\u001B[0m d_on \u001B[38;5;241m=\u001B[39m \u001B[38;5;28mfloat\u001B[39m(\u001B[43mtra_d\u001B[49m[(tra_d[\u001B[38;5;124m'\u001B[39m\u001B[38;5;124mOrigin_Country\u001B[39m\u001B[38;5;124m'\u001B[39m] \u001B[38;5;241m==\u001B[39m \u001B[38;5;124m'\u001B[39m\u001B[38;5;124mNorway\u001B[39m\u001B[38;5;124m'\u001B[39m) \u001B[38;5;241m&\u001B[39m (tra_d[\u001B[38;5;124m'\u001B[39m\u001B[38;5;124mDestination_Country\u001B[39m\u001B[38;5;124m'\u001B[39m] \u001B[38;5;241m==\u001B[39m \u001B[38;5;124m'\u001B[39m\u001B[38;5;124mGermany\u001B[39m\u001B[38;5;124m'\u001B[39m)][\u001B[38;5;124m'\u001B[39m\u001B[38;5;124monshore distance (km)\u001B[39m\u001B[38;5;124m'\u001B[39m]\u001B[38;5;241m.\u001B[39mvalues)\n\u001B[1;32m      3\u001B[0m d_on\n",
      "\u001B[0;31mNameError\u001B[0m: name 'tra_d' is not defined"
     ]
    }
   ],
   "source": [
    "# Onshore pipeline distance between two countries [km]\n",
    "d_on = float(tra_d[(tra_d['Origin_Country'] == 'Norway') & (tra_d['Destination_Country'] == 'Germany')]['onshore distance (km)'].values)\n",
    "d_on"
   ],
   "metadata": {
    "collapsed": false,
    "pycharm": {
     "name": "#%%\n"
    }
   }
  },
  {
   "cell_type": "code",
   "execution_count": null,
   "outputs": [],
   "source": [
    "# Amortisation factor for offshore pipelines\n",
    "alpha = alpha\n",
    "alpha"
   ],
   "metadata": {
    "collapsed": false,
    "pycharm": {
     "name": "#%%\n"
    }
   }
  },
  {
   "cell_type": "code",
   "execution_count": null,
   "outputs": [],
   "source": [
    "# Capex for offshore pipelines [$/km] - Offshore multiplicator = 1.25\n",
    "capex_off_high = 1.25 * capex_on_high/pipe_use\n",
    "capex_off_high"
   ],
   "metadata": {
    "collapsed": false,
    "pycharm": {
     "name": "#%%\n"
    }
   }
  },
  {
   "cell_type": "code",
   "execution_count": null,
   "outputs": [],
   "source": [
    "# Opex for offshore pipelines [$/km/a]\n",
    "opex_off_high = 1.25 * opex_on_high\n",
    "opex_off_high"
   ],
   "metadata": {
    "collapsed": false,
    "pycharm": {
     "name": "#%%\n"
    }
   }
  },
  {
   "cell_type": "code",
   "execution_count": null,
   "outputs": [],
   "source": [
    "# Offshore pipeline distance between two countries [km]\n",
    "d_off = float(tra_d[(tra_d['Origin_Country'] == 'Norway') & (tra_d['Destination_Country'] == 'Germany')]['offshore distance (km)'].values)\n",
    "d_off"
   ],
   "metadata": {
    "collapsed": false,
    "pycharm": {
     "name": "#%%\n"
    }
   }
  },
  {
   "cell_type": "code",
   "execution_count": null,
   "outputs": [],
   "source": [
    "years = np.arange(2020,2051)\n",
    "result = pd.DataFrame(index=years, columns=['Pipeline_costs'])\n",
    "result.index.name = 'Years'\n",
    "result"
   ],
   "metadata": {
    "collapsed": false,
    "pycharm": {
     "name": "#%%\n"
    }
   }
  },
  {
   "cell_type": "code",
   "execution_count": null,
   "outputs": [],
   "source": [],
   "metadata": {
    "collapsed": false,
    "pycharm": {
     "name": "#%%\n"
    }
   }
  },
  {
   "cell_type": "code",
   "execution_count": 14,
   "outputs": [
    {
     "ename": "NameError",
     "evalue": "name 'd_on' is not defined",
     "output_type": "error",
     "traceback": [
      "\u001B[0;31m---------------------------------------------------------------------------\u001B[0m",
      "\u001B[0;31mNameError\u001B[0m                                 Traceback (most recent call last)",
      "Input \u001B[0;32mIn [14]\u001B[0m, in \u001B[0;36m<cell line: 2>\u001B[0;34m()\u001B[0m\n\u001B[1;32m      1\u001B[0m \u001B[38;5;66;03m# Costs for pipeline transport [$/1000km/kg_h2] - assumed to be constant over time\u001B[39;00m\n\u001B[0;32m----> 2\u001B[0m TC_pipe_high \u001B[38;5;241m=\u001B[39m ((alpha \u001B[38;5;241m*\u001B[39m capex_on_high \u001B[38;5;241m+\u001B[39m opex_on_high) \u001B[38;5;241m*\u001B[39m \u001B[43md_on\u001B[49m \u001B[38;5;241m+\u001B[39m (alpha \u001B[38;5;241m*\u001B[39m capex_off_high \u001B[38;5;241m+\u001B[39m opex_off_high) \u001B[38;5;241m*\u001B[39m d_off)\u001B[38;5;241m/\u001B[39m\u001B[38;5;241m1000\u001B[39m\n\u001B[1;32m      3\u001B[0m TC_pipe_high\n",
      "\u001B[0;31mNameError\u001B[0m: name 'd_on' is not defined"
     ]
    }
   ],
   "source": [
    "# Costs for pipeline transport [$/1000km/kg_h2] - assumed to be constant over time\n",
    "TC_pipe_high = ((alpha * capex_on_high + opex_on_high) * d_on + (alpha * capex_off_high + opex_off_high) * d_off)/1000\n",
    "TC_pipe_high"
   ],
   "metadata": {
    "collapsed": false,
    "pycharm": {
     "name": "#%%\n"
    }
   }
  },
  {
   "cell_type": "markdown",
   "source": [
    "# Total pipeline transport costs"
   ],
   "metadata": {
    "collapsed": false,
    "pycharm": {
     "name": "#%% md\n"
    }
   }
  },
  {
   "cell_type": "code",
   "execution_count": 15,
   "outputs": [
    {
     "ename": "NameError",
     "evalue": "name 'years' is not defined",
     "output_type": "error",
     "traceback": [
      "\u001B[0;31m---------------------------------------------------------------------------\u001B[0m",
      "\u001B[0;31mNameError\u001B[0m                                 Traceback (most recent call last)",
      "Input \u001B[0;32mIn [15]\u001B[0m, in \u001B[0;36m<cell line: 1>\u001B[0;34m()\u001B[0m\n\u001B[0;32m----> 1\u001B[0m \u001B[38;5;28;01mfor\u001B[39;00m year \u001B[38;5;129;01min\u001B[39;00m \u001B[43myears\u001B[49m:\n\u001B[1;32m      2\u001B[0m     result\u001B[38;5;241m.\u001B[39mPipeline_costs\u001B[38;5;241m.\u001B[39mloc[year] \u001B[38;5;241m=\u001B[39m TC_pipe_high\n\u001B[1;32m      3\u001B[0m result\n",
      "\u001B[0;31mNameError\u001B[0m: name 'years' is not defined"
     ]
    }
   ],
   "source": [
    "for year in years:\n",
    "    result.Pipeline_costs.loc[year] = TC_pipe_high\n",
    "result"
   ],
   "metadata": {
    "collapsed": false,
    "pycharm": {
     "name": "#%%\n"
    }
   }
  },
  {
   "cell_type": "code",
   "execution_count": 16,
   "outputs": [
    {
     "ename": "NameError",
     "evalue": "name 'result' is not defined",
     "output_type": "error",
     "traceback": [
      "\u001B[0;31m---------------------------------------------------------------------------\u001B[0m",
      "\u001B[0;31mNameError\u001B[0m                                 Traceback (most recent call last)",
      "Input \u001B[0;32mIn [16]\u001B[0m, in \u001B[0;36m<cell line: 4>\u001B[0;34m()\u001B[0m\n\u001B[1;32m      2\u001B[0m path\u001B[38;5;241m=\u001B[39m\u001B[38;5;124mr\u001B[39m\u001B[38;5;124m'\u001B[39m\u001B[38;5;124m/Users/jakob/PycharmProjects/H2_pathways_repo/data/processed\u001B[39m\u001B[38;5;124m'\u001B[39m\n\u001B[1;32m      3\u001B[0m output_file \u001B[38;5;241m=\u001B[39m os\u001B[38;5;241m.\u001B[39mpath\u001B[38;5;241m.\u001B[39mjoin(path,\u001B[38;5;124m'\u001B[39m\u001B[38;5;124mPipeline_costs.csv\u001B[39m\u001B[38;5;124m'\u001B[39m)\n\u001B[0;32m----> 4\u001B[0m \u001B[43mresult\u001B[49m\u001B[38;5;241m.\u001B[39mto_csv(output_file, sep \u001B[38;5;241m=\u001B[39m \u001B[38;5;124m'\u001B[39m\u001B[38;5;124m;\u001B[39m\u001B[38;5;124m'\u001B[39m)\n",
      "\u001B[0;31mNameError\u001B[0m: name 'result' is not defined"
     ]
    }
   ],
   "source": [
    "# Create csv file from results dataframe\n",
    "path=r'/Users/jakob/PycharmProjects/H2_pathways_repo/data/processed'\n",
    "output_file = os.path.join(path_csv,'Pipeline_costs.csv')\n",
    "result.to_csv(output_file, sep = ';')"
   ],
   "metadata": {
    "collapsed": false,
    "pycharm": {
     "name": "#%%\n"
    }
   }
  },
  {
   "cell_type": "markdown",
   "source": [
    "# Seaborne transport cost"
   ],
   "metadata": {
    "collapsed": false,
    "pycharm": {
     "name": "#%% md\n"
    }
   }
  },
  {
   "cell_type": "markdown",
   "source": [
    "## Liquefaction"
   ],
   "metadata": {
    "collapsed": false,
    "pycharm": {
     "name": "#%% md\n"
    }
   }
  },
  {
   "cell_type": "code",
   "execution_count": 171,
   "outputs": [
    {
     "data": {
      "text/plain": "0.08"
     },
     "execution_count": 171,
     "metadata": {},
     "output_type": "execute_result"
    }
   ],
   "source": [
    "# WACC for liquefaction plant in %\n",
    "i_liq = float(tea_lh2.loc['Liquefaction - Discount rate [%]']['LH2'])\n",
    "i_liq"
   ],
   "metadata": {
    "collapsed": false,
    "pycharm": {
     "name": "#%%\n"
    }
   }
  },
  {
   "cell_type": "code",
   "execution_count": 170,
   "outputs": [
    {
     "data": {
      "text/plain": "30.0"
     },
     "execution_count": 170,
     "metadata": {},
     "output_type": "execute_result"
    }
   ],
   "source": [
    "# Economic lifetime for the liquefaction plant [years]\n",
    "l_liq = float(tea_lh2.loc['Liquefaction - Lifetime [Years]']['LH2'])\n",
    "l_liq"
   ],
   "metadata": {
    "collapsed": false,
    "pycharm": {
     "name": "#%%\n"
    }
   }
  },
  {
   "cell_type": "code",
   "execution_count": 140,
   "outputs": [
    {
     "data": {
      "text/plain": "0.08882743338727227"
     },
     "execution_count": 140,
     "metadata": {},
     "output_type": "execute_result"
    }
   ],
   "source": [
    "# Amortisation factor alpha for the liquefaction plant\n",
    "alpha_liq = (i_liq * (1 + i_liq) ** l_liq) /(((1 + i_liq) ** l_liq) - 1)\n",
    "alpha_liq\n"
   ],
   "metadata": {
    "collapsed": false,
    "pycharm": {
     "name": "#%%\n"
    }
   }
  },
  {
   "cell_type": "code",
   "execution_count": 25,
   "outputs": [
    {
     "data": {
      "text/plain": "46.9570923511"
     },
     "execution_count": 25,
     "metadata": {},
     "output_type": "execute_result"
    }
   ],
   "source": [
    "p_el_y = float(p_electricity.loc['Norway'][2025])\n",
    "p_el_y"
   ],
   "metadata": {
    "collapsed": false,
    "pycharm": {
     "name": "#%%\n"
    }
   }
  },
  {
   "cell_type": "code",
   "execution_count": 24,
   "outputs": [
    {
     "ename": "KeyError",
     "evalue": "'Liquefaction - Electricity use [kWh/kg H2]'",
     "output_type": "error",
     "traceback": [
      "\u001B[0;31m---------------------------------------------------------------------------\u001B[0m",
      "\u001B[0;31mKeyError\u001B[0m                                  Traceback (most recent call last)",
      "File \u001B[0;32m~/PycharmProjects/H2_pathways_repo/env_H2/lib/python3.10/site-packages/pandas/core/indexes/base.py:3621\u001B[0m, in \u001B[0;36mIndex.get_loc\u001B[0;34m(self, key, method, tolerance)\u001B[0m\n\u001B[1;32m   3620\u001B[0m \u001B[38;5;28;01mtry\u001B[39;00m:\n\u001B[0;32m-> 3621\u001B[0m     \u001B[38;5;28;01mreturn\u001B[39;00m \u001B[38;5;28;43mself\u001B[39;49m\u001B[38;5;241;43m.\u001B[39;49m\u001B[43m_engine\u001B[49m\u001B[38;5;241;43m.\u001B[39;49m\u001B[43mget_loc\u001B[49m\u001B[43m(\u001B[49m\u001B[43mcasted_key\u001B[49m\u001B[43m)\u001B[49m\n\u001B[1;32m   3622\u001B[0m \u001B[38;5;28;01mexcept\u001B[39;00m \u001B[38;5;167;01mKeyError\u001B[39;00m \u001B[38;5;28;01mas\u001B[39;00m err:\n",
      "File \u001B[0;32m~/PycharmProjects/H2_pathways_repo/env_H2/lib/python3.10/site-packages/pandas/_libs/index.pyx:136\u001B[0m, in \u001B[0;36mpandas._libs.index.IndexEngine.get_loc\u001B[0;34m()\u001B[0m\n",
      "File \u001B[0;32m~/PycharmProjects/H2_pathways_repo/env_H2/lib/python3.10/site-packages/pandas/_libs/index.pyx:163\u001B[0m, in \u001B[0;36mpandas._libs.index.IndexEngine.get_loc\u001B[0;34m()\u001B[0m\n",
      "File \u001B[0;32mpandas/_libs/hashtable_class_helper.pxi:5198\u001B[0m, in \u001B[0;36mpandas._libs.hashtable.PyObjectHashTable.get_item\u001B[0;34m()\u001B[0m\n",
      "File \u001B[0;32mpandas/_libs/hashtable_class_helper.pxi:5206\u001B[0m, in \u001B[0;36mpandas._libs.hashtable.PyObjectHashTable.get_item\u001B[0;34m()\u001B[0m\n",
      "\u001B[0;31mKeyError\u001B[0m: 'Liquefaction - Electricity use [kWh/kg H2]'",
      "\nThe above exception was the direct cause of the following exception:\n",
      "\u001B[0;31mKeyError\u001B[0m                                  Traceback (most recent call last)",
      "Input \u001B[0;32mIn [24]\u001B[0m, in \u001B[0;36m<cell line: 2>\u001B[0;34m()\u001B[0m\n\u001B[1;32m      1\u001B[0m \u001B[38;5;66;03m# Electricty consumption for the liquefaction in [kWh/kg_h2]\u001B[39;00m\n\u001B[0;32m----> 2\u001B[0m el_liq \u001B[38;5;241m=\u001B[39m \u001B[38;5;28mfloat\u001B[39m(\u001B[43mp_electricity\u001B[49m\u001B[38;5;241;43m.\u001B[39;49m\u001B[43mloc\u001B[49m\u001B[43m[\u001B[49m\u001B[38;5;124;43m'\u001B[39;49m\u001B[38;5;124;43mLiquefaction - Electricity use [kWh/kg H2]\u001B[39;49m\u001B[38;5;124;43m'\u001B[39;49m\u001B[43m]\u001B[49m[\u001B[38;5;124m'\u001B[39m\u001B[38;5;124mLH2\u001B[39m\u001B[38;5;124m'\u001B[39m])\n\u001B[1;32m      3\u001B[0m el_liq\n",
      "File \u001B[0;32m~/PycharmProjects/H2_pathways_repo/env_H2/lib/python3.10/site-packages/pandas/core/indexing.py:967\u001B[0m, in \u001B[0;36m_LocationIndexer.__getitem__\u001B[0;34m(self, key)\u001B[0m\n\u001B[1;32m    964\u001B[0m axis \u001B[38;5;241m=\u001B[39m \u001B[38;5;28mself\u001B[39m\u001B[38;5;241m.\u001B[39maxis \u001B[38;5;129;01mor\u001B[39;00m \u001B[38;5;241m0\u001B[39m\n\u001B[1;32m    966\u001B[0m maybe_callable \u001B[38;5;241m=\u001B[39m com\u001B[38;5;241m.\u001B[39mapply_if_callable(key, \u001B[38;5;28mself\u001B[39m\u001B[38;5;241m.\u001B[39mobj)\n\u001B[0;32m--> 967\u001B[0m \u001B[38;5;28;01mreturn\u001B[39;00m \u001B[38;5;28;43mself\u001B[39;49m\u001B[38;5;241;43m.\u001B[39;49m\u001B[43m_getitem_axis\u001B[49m\u001B[43m(\u001B[49m\u001B[43mmaybe_callable\u001B[49m\u001B[43m,\u001B[49m\u001B[43m \u001B[49m\u001B[43maxis\u001B[49m\u001B[38;5;241;43m=\u001B[39;49m\u001B[43maxis\u001B[49m\u001B[43m)\u001B[49m\n",
      "File \u001B[0;32m~/PycharmProjects/H2_pathways_repo/env_H2/lib/python3.10/site-packages/pandas/core/indexing.py:1202\u001B[0m, in \u001B[0;36m_LocIndexer._getitem_axis\u001B[0;34m(self, key, axis)\u001B[0m\n\u001B[1;32m   1200\u001B[0m \u001B[38;5;66;03m# fall thru to straight lookup\u001B[39;00m\n\u001B[1;32m   1201\u001B[0m \u001B[38;5;28mself\u001B[39m\u001B[38;5;241m.\u001B[39m_validate_key(key, axis)\n\u001B[0;32m-> 1202\u001B[0m \u001B[38;5;28;01mreturn\u001B[39;00m \u001B[38;5;28;43mself\u001B[39;49m\u001B[38;5;241;43m.\u001B[39;49m\u001B[43m_get_label\u001B[49m\u001B[43m(\u001B[49m\u001B[43mkey\u001B[49m\u001B[43m,\u001B[49m\u001B[43m \u001B[49m\u001B[43maxis\u001B[49m\u001B[38;5;241;43m=\u001B[39;49m\u001B[43maxis\u001B[49m\u001B[43m)\u001B[49m\n",
      "File \u001B[0;32m~/PycharmProjects/H2_pathways_repo/env_H2/lib/python3.10/site-packages/pandas/core/indexing.py:1153\u001B[0m, in \u001B[0;36m_LocIndexer._get_label\u001B[0;34m(self, label, axis)\u001B[0m\n\u001B[1;32m   1151\u001B[0m \u001B[38;5;28;01mdef\u001B[39;00m \u001B[38;5;21m_get_label\u001B[39m(\u001B[38;5;28mself\u001B[39m, label, axis: \u001B[38;5;28mint\u001B[39m):\n\u001B[1;32m   1152\u001B[0m     \u001B[38;5;66;03m# GH#5667 this will fail if the label is not present in the axis.\u001B[39;00m\n\u001B[0;32m-> 1153\u001B[0m     \u001B[38;5;28;01mreturn\u001B[39;00m \u001B[38;5;28;43mself\u001B[39;49m\u001B[38;5;241;43m.\u001B[39;49m\u001B[43mobj\u001B[49m\u001B[38;5;241;43m.\u001B[39;49m\u001B[43mxs\u001B[49m\u001B[43m(\u001B[49m\u001B[43mlabel\u001B[49m\u001B[43m,\u001B[49m\u001B[43m \u001B[49m\u001B[43maxis\u001B[49m\u001B[38;5;241;43m=\u001B[39;49m\u001B[43maxis\u001B[49m\u001B[43m)\u001B[49m\n",
      "File \u001B[0;32m~/PycharmProjects/H2_pathways_repo/env_H2/lib/python3.10/site-packages/pandas/core/generic.py:3864\u001B[0m, in \u001B[0;36mNDFrame.xs\u001B[0;34m(self, key, axis, level, drop_level)\u001B[0m\n\u001B[1;32m   3862\u001B[0m             new_index \u001B[38;5;241m=\u001B[39m index[loc]\n\u001B[1;32m   3863\u001B[0m \u001B[38;5;28;01melse\u001B[39;00m:\n\u001B[0;32m-> 3864\u001B[0m     loc \u001B[38;5;241m=\u001B[39m \u001B[43mindex\u001B[49m\u001B[38;5;241;43m.\u001B[39;49m\u001B[43mget_loc\u001B[49m\u001B[43m(\u001B[49m\u001B[43mkey\u001B[49m\u001B[43m)\u001B[49m\n\u001B[1;32m   3866\u001B[0m     \u001B[38;5;28;01mif\u001B[39;00m \u001B[38;5;28misinstance\u001B[39m(loc, np\u001B[38;5;241m.\u001B[39mndarray):\n\u001B[1;32m   3867\u001B[0m         \u001B[38;5;28;01mif\u001B[39;00m loc\u001B[38;5;241m.\u001B[39mdtype \u001B[38;5;241m==\u001B[39m np\u001B[38;5;241m.\u001B[39mbool_:\n",
      "File \u001B[0;32m~/PycharmProjects/H2_pathways_repo/env_H2/lib/python3.10/site-packages/pandas/core/indexes/base.py:3623\u001B[0m, in \u001B[0;36mIndex.get_loc\u001B[0;34m(self, key, method, tolerance)\u001B[0m\n\u001B[1;32m   3621\u001B[0m     \u001B[38;5;28;01mreturn\u001B[39;00m \u001B[38;5;28mself\u001B[39m\u001B[38;5;241m.\u001B[39m_engine\u001B[38;5;241m.\u001B[39mget_loc(casted_key)\n\u001B[1;32m   3622\u001B[0m \u001B[38;5;28;01mexcept\u001B[39;00m \u001B[38;5;167;01mKeyError\u001B[39;00m \u001B[38;5;28;01mas\u001B[39;00m err:\n\u001B[0;32m-> 3623\u001B[0m     \u001B[38;5;28;01mraise\u001B[39;00m \u001B[38;5;167;01mKeyError\u001B[39;00m(key) \u001B[38;5;28;01mfrom\u001B[39;00m \u001B[38;5;21;01merr\u001B[39;00m\n\u001B[1;32m   3624\u001B[0m \u001B[38;5;28;01mexcept\u001B[39;00m \u001B[38;5;167;01mTypeError\u001B[39;00m:\n\u001B[1;32m   3625\u001B[0m     \u001B[38;5;66;03m# If we have a listlike key, _check_indexing_error will raise\u001B[39;00m\n\u001B[1;32m   3626\u001B[0m     \u001B[38;5;66;03m#  InvalidIndexError. Otherwise we fall through and re-raise\u001B[39;00m\n\u001B[1;32m   3627\u001B[0m     \u001B[38;5;66;03m#  the TypeError.\u001B[39;00m\n\u001B[1;32m   3628\u001B[0m     \u001B[38;5;28mself\u001B[39m\u001B[38;5;241m.\u001B[39m_check_indexing_error(key)\n",
      "\u001B[0;31mKeyError\u001B[0m: 'Liquefaction - Electricity use [kWh/kg H2]'"
     ]
    }
   ],
   "source": [
    "# Electricty consumption for the liquefaction in [kWh/kg_h2]\n",
    "el_liq = float(tea_lh2.loc['Liquefaction - Electricity use [kWh/kg H2]']['LH2'])\n",
    "el_liq"
   ],
   "metadata": {
    "collapsed": false,
    "pycharm": {
     "name": "#%%\n"
    }
   }
  },
  {
   "cell_type": "markdown",
   "source": [
    "### Calc. liquefaction cost"
   ],
   "metadata": {
    "collapsed": false,
    "pycharm": {
     "name": "#%% md\n"
    }
   }
  },
  {
   "cell_type": "code",
   "execution_count": 18,
   "outputs": [],
   "source": [
    "# Definition of the cost calculation function for liquefaction costs. Time relevant variables = capex [€/tpa], opex [€/tpa], electricity use [kwh/kg H2], electricity price [$/MWh]\n",
    "def calculate_liq_costs(alpha_liq, capex_liq_y, opex_liq_y, el_liq_y, p_el_y):\n",
    "\n",
    "    result = float((alpha_liq * capex_liq_y/1000 + opex_liq_y/1000) + el_liq_y * p_el_y*0.89/1000)\n",
    "\n",
    "    return result"
   ],
   "metadata": {
    "collapsed": false,
    "pycharm": {
     "name": "#%%\n"
    }
   }
  },
  {
   "cell_type": "code",
   "execution_count": 27,
   "outputs": [
    {
     "ename": "NameError",
     "evalue": "name 'alpha_liq' is not defined",
     "output_type": "error",
     "traceback": [
      "\u001B[0;31m---------------------------------------------------------------------------\u001B[0m",
      "\u001B[0;31mNameError\u001B[0m                                 Traceback (most recent call last)",
      "Input \u001B[0;32mIn [27]\u001B[0m, in \u001B[0;36m<cell line: 6>\u001B[0;34m()\u001B[0m\n\u001B[1;32m     12\u001B[0m     p_el_y \u001B[38;5;241m=\u001B[39m \u001B[38;5;28mfloat\u001B[39m(p_electricity\u001B[38;5;241m.\u001B[39mloc[\u001B[38;5;124m'\u001B[39m\u001B[38;5;124mNorway\u001B[39m\u001B[38;5;124m'\u001B[39m][year])\n\u001B[1;32m     14\u001B[0m     \u001B[38;5;66;03m# calculate costs of specific year\u001B[39;00m\n\u001B[0;32m---> 15\u001B[0m     result\u001B[38;5;241m.\u001B[39mLiquefaction_costs\u001B[38;5;241m.\u001B[39mloc[year] \u001B[38;5;241m=\u001B[39m calculate_liq_costs(alpha_liq\u001B[38;5;241m=\u001B[39m\u001B[43malpha_liq\u001B[49m, capex_liq_y\u001B[38;5;241m=\u001B[39mcapex_liq_y, opex_liq_y\u001B[38;5;241m=\u001B[39mopex_liq_y, el_liq_y\u001B[38;5;241m=\u001B[39mel_liq_y, p_el_y\u001B[38;5;241m=\u001B[39mp_el_y)\n\u001B[1;32m     17\u001B[0m result\n",
      "\u001B[0;31mNameError\u001B[0m: name 'alpha_liq' is not defined"
     ]
    }
   ],
   "source": [
    "# Calculation of liquefaction costs [€/kg_h2] from 2030 to 2050.\n",
    "years = np.arange(2025,2051)\n",
    "result = pd.DataFrame(index=years, columns=['Liquefaction_costs'])\n",
    "result.index.name = 'Years'\n",
    "\n",
    "for year in years:\n",
    "\n",
    "    # get capex, opex, natural gas price and CO2 price of specific year\n",
    "    capex_liq_y = float(tea_lh2.loc['Liquefaction - Capex opt. [€/t/a]'][year])\n",
    "    opex_liq_y = float(tea_lh2.loc['Liquefaction - Opex opt. [% of Capex]'][year])\n",
    "    el_liq_y = float(tea_lh2.loc['Liquefaction - Electricity consumption opt. [kWh/kgH2]'][year])\n",
    "    p_el_y = float(p_electricity.loc['Norway'][year])\n",
    "\n",
    "    # calculate costs of specific year\n",
    "    result.Liquefaction_costs.loc[year] = calculate_liq_costs(alpha_liq=alpha_liq, capex_liq_y=capex_liq_y, opex_liq_y=opex_liq_y, el_liq_y=el_liq_y, p_el_y=p_el_y)\n",
    "\n",
    "result"
   ],
   "metadata": {
    "collapsed": false,
    "pycharm": {
     "name": "#%%\n"
    }
   }
  },
  {
   "cell_type": "code",
   "execution_count": 408,
   "outputs": [],
   "source": [
    "# Create csv file from results dataframe\n",
    "path=r'/Users/jakob/PycharmProjects/H2_pathways_repo/data/processed'\n",
    "output_file = os.path.join(path_csv,'Liquefaction_costs.csv')\n",
    "result.to_csv(output_file, sep = ';')"
   ],
   "metadata": {
    "collapsed": false,
    "pycharm": {
     "name": "#%%\n"
    }
   }
  },
  {
   "cell_type": "markdown",
   "source": [
    "### Plot liquefaction costs"
   ],
   "metadata": {
    "collapsed": false,
    "pycharm": {
     "name": "#%% md\n"
    }
   }
  },
  {
   "cell_type": "code",
   "execution_count": 409,
   "outputs": [
    {
     "data": {
      "text/plain": "<Figure size 720x432 with 1 Axes>",
      "image/png": "[encoded data removed]"
     },
     "metadata": {
      "needs_background": "light"
     },
     "output_type": "display_data"
    }
   ],
   "source": [
    "# Plot cost curve for liquefaction\n",
    "fig, ax = plt.subplots(figsize=(10,6))\n",
    "plt.plot(result, color = 'cyan', linestyle = 'solid')\n",
    "plt.grid(True, axis = 'y')\n",
    "ax.set_axisbelow(True)\n",
    "plt.title('Cost curve for liquefaction', fontweight = 'bold')\n",
    "plt.legend(['Liquefaction costs in €/kg_H2'])\n",
    "plt.xlabel('Year')\n",
    "plt.ylabel('Cost [€/kg_H2]')\n",
    "plt.show()"
   ],
   "metadata": {
    "collapsed": false,
    "pycharm": {
     "name": "#%%\n"
    }
   }
  },
  {
   "cell_type": "markdown",
   "source": [
    "## Export terminal"
   ],
   "metadata": {
    "collapsed": false,
    "pycharm": {
     "name": "#%% md\n"
    }
   }
  },
  {
   "cell_type": "code",
   "execution_count": 28,
   "outputs": [],
   "source": [
    "# Lifetime of import and export terminals\n",
    "l_ter = float(tea_lh2.loc['Export Terminal - Technical lifetime [Years]']['LH2'])\n",
    "# Amortisation factor for the export terminal\n",
    "alpha_et = (i_tra * (1 + i_tra) ** l_ter) / (((1 + i_tra) ** l_ter) - 1)\n",
    "\n",
    "# Average storage time in the export terminal tanks in days\n",
    "t_et = float(tea_lh2.loc['Export Terminal - Storage length per load [Days]']['LH2'])\n"
   ],
   "metadata": {
    "collapsed": false,
    "pycharm": {
     "name": "#%%\n"
    }
   }
  },
  {
   "cell_type": "code",
   "execution_count": 29,
   "outputs": [
    {
     "data": {
      "text/plain": "0.61"
     },
     "execution_count": 29,
     "metadata": {},
     "output_type": "execute_result"
    }
   ],
   "source": [
    "# Electricity consumption for the export terminal [kWh/kg_h2]\n",
    "el_et = float(tea_lh2.loc['Export Terminal - Electricity use [kWh/kgH2]']['LH2'])\n",
    "el_et"
   ],
   "metadata": {
    "collapsed": false,
    "pycharm": {
     "name": "#%%\n"
    }
   }
  },
  {
   "cell_type": "code",
   "execution_count": 30,
   "outputs": [
    {
     "data": {
      "text/plain": "0.001"
     },
     "execution_count": 30,
     "metadata": {},
     "output_type": "execute_result"
    }
   ],
   "source": [
    "# Boil-off hydrogen in [%/day]\n",
    "bog_et = float(tea_lh2.loc['Export Terminal - Boil off rate [%/day]']['LH2'])\n",
    "bog_et"
   ],
   "metadata": {
    "collapsed": false,
    "pycharm": {
     "name": "#%%\n"
    }
   }
  },
  {
   "cell_type": "code",
   "execution_count": 31,
   "outputs": [
    {
     "data": {
      "text/plain": "3.0"
     },
     "execution_count": 31,
     "metadata": {},
     "output_type": "execute_result"
    }
   ],
   "source": [
    "# Average storage time in the export terminal tanks in days\n",
    "t_et = float(tea_lh2.loc['Export Terminal - Storage length per load [Days]']['LH2'])\n",
    "t_et"
   ],
   "metadata": {
    "collapsed": false,
    "pycharm": {
     "name": "#%%\n"
    }
   }
  },
  {
   "cell_type": "code",
   "execution_count": 32,
   "outputs": [
    {
     "data": {
      "text/plain": "                LCOH_BLUE\nYears                    \n2025    1.355229683829041\n2026   1.3547288247682192\n2027   1.3524279657073974\n2028   1.3510271066465753\n2029    1.348726247585753\n2030   1.3464253885249315\n2031   1.3426755999423288\n2032   1.3383093231883563\n2033   1.3338132575880821\n2034   1.3295930176673223\n2035   1.3254403665885996\n2036   1.3202472453798137\n2037   1.3153198026309667\n2038   1.3104503088655621\n2039   1.3045311871044278\n2040   1.2988690438308503\n2041   1.2930519050369518\n2042    1.287486645582248\n2043   1.2810662259462795\n2044   1.2744837246081093\n2045   1.2681463707363478\n2046    1.260947461404174\n2047   1.2535803948546094\n2048   1.2464527040320226\n2049   1.2391532950665656\n2050   1.2198857712328768",
      "text/html": "<div>\n<style scoped>\n    .dataframe tbody tr th:only-of-type {\n        vertical-align: middle;\n    }\n\n    .dataframe tbody tr th {\n        vertical-align: top;\n    }\n\n    .dataframe thead th {\n        text-align: right;\n    }\n</style>\n<table border=\"1\" class=\"dataframe\">\n  <thead>\n    <tr style=\"text-align: right;\">\n      <th></th>\n      <th>LCOH_BLUE</th>\n    </tr>\n    <tr>\n      <th>Years</th>\n      <th></th>\n    </tr>\n  </thead>\n  <tbody>\n    <tr>\n      <th>2025</th>\n      <td>1.355229683829041</td>\n    </tr>\n    <tr>\n      <th>2026</th>\n      <td>1.3547288247682192</td>\n    </tr>\n    <tr>\n      <th>2027</th>\n      <td>1.3524279657073974</td>\n    </tr>\n    <tr>\n      <th>2028</th>\n      <td>1.3510271066465753</td>\n    </tr>\n    <tr>\n      <th>2029</th>\n      <td>1.348726247585753</td>\n    </tr>\n    <tr>\n      <th>2030</th>\n      <td>1.3464253885249315</td>\n    </tr>\n    <tr>\n      <th>2031</th>\n      <td>1.3426755999423288</td>\n    </tr>\n    <tr>\n      <th>2032</th>\n      <td>1.3383093231883563</td>\n    </tr>\n    <tr>\n      <th>2033</th>\n      <td>1.3338132575880821</td>\n    </tr>\n    <tr>\n      <th>2034</th>\n      <td>1.3295930176673223</td>\n    </tr>\n    <tr>\n      <th>2035</th>\n      <td>1.3254403665885996</td>\n    </tr>\n    <tr>\n      <th>2036</th>\n      <td>1.3202472453798137</td>\n    </tr>\n    <tr>\n      <th>2037</th>\n      <td>1.3153198026309667</td>\n    </tr>\n    <tr>\n      <th>2038</th>\n      <td>1.3104503088655621</td>\n    </tr>\n    <tr>\n      <th>2039</th>\n      <td>1.3045311871044278</td>\n    </tr>\n    <tr>\n      <th>2040</th>\n      <td>1.2988690438308503</td>\n    </tr>\n    <tr>\n      <th>2041</th>\n      <td>1.2930519050369518</td>\n    </tr>\n    <tr>\n      <th>2042</th>\n      <td>1.287486645582248</td>\n    </tr>\n    <tr>\n      <th>2043</th>\n      <td>1.2810662259462795</td>\n    </tr>\n    <tr>\n      <th>2044</th>\n      <td>1.2744837246081093</td>\n    </tr>\n    <tr>\n      <th>2045</th>\n      <td>1.2681463707363478</td>\n    </tr>\n    <tr>\n      <th>2046</th>\n      <td>1.260947461404174</td>\n    </tr>\n    <tr>\n      <th>2047</th>\n      <td>1.2535803948546094</td>\n    </tr>\n    <tr>\n      <th>2048</th>\n      <td>1.2464527040320226</td>\n    </tr>\n    <tr>\n      <th>2049</th>\n      <td>1.2391532950665656</td>\n    </tr>\n    <tr>\n      <th>2050</th>\n      <td>1.2198857712328768</td>\n    </tr>\n  </tbody>\n</table>\n</div>"
     },
     "execution_count": 32,
     "metadata": {},
     "output_type": "execute_result"
    }
   ],
   "source": [
    "# Cost of transported hydrogen in [$/kg_h2] in year y\n",
    "lcoh_ngr = pd.read_csv(\"/Users/jakob/PycharmProjects/H2_pathways_repo/data/processed/LCOH_NGR.csv\", delimiter=';', decimal=',', index_col=0)\n",
    "lcoh_ngr"
   ],
   "metadata": {
    "collapsed": false,
    "pycharm": {
     "name": "#%%\n"
    }
   }
  },
  {
   "cell_type": "markdown",
   "source": [],
   "metadata": {
    "collapsed": false,
    "pycharm": {
     "name": "#%% md\n"
    }
   }
  },
  {
   "cell_type": "markdown",
   "source": [
    "### Calc. export terminal cost"
   ],
   "metadata": {
    "collapsed": false,
    "pycharm": {
     "name": "#%% md\n"
    }
   }
  },
  {
   "cell_type": "code",
   "execution_count": 33,
   "outputs": [],
   "source": [
    "# Definition of the cost calculation function for the Export terminal.\n",
    "# Time relevant variables = capex [$/tpa], opex [$/tpa], electricity use [kwh/kg H2], electricity price [$/MWh], boil off in [%/d], storage time in days, lcoh in [$/kg_h2]\n",
    "def calculate_export_terminal_costs(alpha_et, capex_et_y, opex_et_y, el_et, p_el_y, lcoh_ngr_y):\n",
    "    result = (alpha_et * capex_et_y/1000 + opex_et_y/1000) + el_et * p_el_y*0.89/1000 + bog_et * t_et * lcoh_ngr_y\n",
    "\n",
    "    return result"
   ],
   "metadata": {
    "collapsed": false,
    "pycharm": {
     "name": "#%%\n"
    }
   }
  },
  {
   "cell_type": "code",
   "execution_count": 34,
   "outputs": [],
   "source": [
    "#Calculation of export terminal costs [$/kg_h2] from 2030 to 2050.\n",
    "years = np.arange(2025, 2051)\n",
    "result = pd.DataFrame(index=years, columns=['Export_terminal_costs'])\n",
    "result.index.name = 'Years'"
   ],
   "metadata": {
    "collapsed": false,
    "pycharm": {
     "name": "#%%\n"
    }
   }
  },
  {
   "cell_type": "code",
   "execution_count": 35,
   "outputs": [
    {
     "name": "stdout",
     "output_type": "stream",
     "text": [
      "26.600249066002494\n"
     ]
    }
   ],
   "source": [
    "print(float(tea_lh2.loc['Export Terminal - Annual OPEX [% of CAPEX]'][2020]))"
   ],
   "metadata": {
    "collapsed": false,
    "pycharm": {
     "name": "#%%\n"
    }
   }
  },
  {
   "cell_type": "code",
   "execution_count": 37,
   "outputs": [
    {
     "data": {
      "text/plain": "      Export_terminal_costs\nYears                      \n2025               0.110946\n2026               0.109794\n2027               0.108769\n2028               0.107702\n2029               0.106654\n2030               0.105646\n2031               0.103736\n2032               0.101957\n2033               0.100362\n2034                 0.0987\n2035                0.09684\n2036                0.09479\n2037               0.092881\n2038               0.091158\n2039               0.089676\n2040               0.088163\n2041               0.086712\n2042               0.085363\n2043               0.084079\n2044                0.08282\n2045               0.081431\n2046               0.079744\n2047               0.077703\n2048                0.07546\n2049               0.073359\n2050               0.071525",
      "text/html": "<div>\n<style scoped>\n    .dataframe tbody tr th:only-of-type {\n        vertical-align: middle;\n    }\n\n    .dataframe tbody tr th {\n        vertical-align: top;\n    }\n\n    .dataframe thead th {\n        text-align: right;\n    }\n</style>\n<table border=\"1\" class=\"dataframe\">\n  <thead>\n    <tr style=\"text-align: right;\">\n      <th></th>\n      <th>Export_terminal_costs</th>\n    </tr>\n    <tr>\n      <th>Years</th>\n      <th></th>\n    </tr>\n  </thead>\n  <tbody>\n    <tr>\n      <th>2025</th>\n      <td>0.110946</td>\n    </tr>\n    <tr>\n      <th>2026</th>\n      <td>0.109794</td>\n    </tr>\n    <tr>\n      <th>2027</th>\n      <td>0.108769</td>\n    </tr>\n    <tr>\n      <th>2028</th>\n      <td>0.107702</td>\n    </tr>\n    <tr>\n      <th>2029</th>\n      <td>0.106654</td>\n    </tr>\n    <tr>\n      <th>2030</th>\n      <td>0.105646</td>\n    </tr>\n    <tr>\n      <th>2031</th>\n      <td>0.103736</td>\n    </tr>\n    <tr>\n      <th>2032</th>\n      <td>0.101957</td>\n    </tr>\n    <tr>\n      <th>2033</th>\n      <td>0.100362</td>\n    </tr>\n    <tr>\n      <th>2034</th>\n      <td>0.0987</td>\n    </tr>\n    <tr>\n      <th>2035</th>\n      <td>0.09684</td>\n    </tr>\n    <tr>\n      <th>2036</th>\n      <td>0.09479</td>\n    </tr>\n    <tr>\n      <th>2037</th>\n      <td>0.092881</td>\n    </tr>\n    <tr>\n      <th>2038</th>\n      <td>0.091158</td>\n    </tr>\n    <tr>\n      <th>2039</th>\n      <td>0.089676</td>\n    </tr>\n    <tr>\n      <th>2040</th>\n      <td>0.088163</td>\n    </tr>\n    <tr>\n      <th>2041</th>\n      <td>0.086712</td>\n    </tr>\n    <tr>\n      <th>2042</th>\n      <td>0.085363</td>\n    </tr>\n    <tr>\n      <th>2043</th>\n      <td>0.084079</td>\n    </tr>\n    <tr>\n      <th>2044</th>\n      <td>0.08282</td>\n    </tr>\n    <tr>\n      <th>2045</th>\n      <td>0.081431</td>\n    </tr>\n    <tr>\n      <th>2046</th>\n      <td>0.079744</td>\n    </tr>\n    <tr>\n      <th>2047</th>\n      <td>0.077703</td>\n    </tr>\n    <tr>\n      <th>2048</th>\n      <td>0.07546</td>\n    </tr>\n    <tr>\n      <th>2049</th>\n      <td>0.073359</td>\n    </tr>\n    <tr>\n      <th>2050</th>\n      <td>0.071525</td>\n    </tr>\n  </tbody>\n</table>\n</div>"
     },
     "execution_count": 37,
     "metadata": {},
     "output_type": "execute_result"
    }
   ],
   "source": [
    "for year in years:\n",
    "    # get capex, opex, xx\n",
    "    capex_et_y = float(tea_lh2.loc['Export Terminal - CAPEX/tank [€/t/a]'][year])\n",
    "    opex_et_y = float(tea_lh2.loc['Export Terminal - Annual OPEX [% of CAPEX]'][year])\n",
    "    p_el_y = float(p_electricity.loc['Norway'][year])\n",
    "    lcoh_ngr_y = float(lcoh_ngr.loc[year]['LCOH_BLUE'])\n",
    "\n",
    "    # calculate costs of specific year\n",
    "    result.Export_terminal_costs.loc[year] = calculate_export_terminal_costs(alpha_et=alpha_et, capex_et_y=capex_et_y,\n",
    "                                                              opex_et_y=opex_et_y, el_et=el_et, p_el_y=p_el_y, lcoh_ngr_y=lcoh_ngr_y)\n",
    "\n",
    "result"
   ],
   "metadata": {
    "collapsed": false,
    "pycharm": {
     "name": "#%%\n"
    }
   }
  },
  {
   "cell_type": "code",
   "execution_count": 38,
   "outputs": [],
   "source": [
    "# Create csv file from results dataframe\n",
    "path_csv= r'/Users/jakob/PycharmProjects/H2_pathways_repo/data/processed'\n",
    "output_file = os.path.join(path_csv, 'Export_terminal_costs.csv')\n",
    "result.to_csv(output_file, sep=';')"
   ],
   "metadata": {
    "collapsed": false,
    "pycharm": {
     "name": "#%%\n"
    }
   }
  },
  {
   "cell_type": "markdown",
   "source": [
    "### Plot export terminal costs"
   ],
   "metadata": {
    "collapsed": false,
    "pycharm": {
     "name": "#%% md\n"
    }
   }
  },
  {
   "cell_type": "code",
   "execution_count": 420,
   "outputs": [
    {
     "data": {
      "text/plain": "<Figure size 720x432 with 1 Axes>",
      "image/png": "[encoded data removed]"
     },
     "metadata": {
      "needs_background": "light"
     },
     "output_type": "display_data"
    }
   ],
   "source": [
    "# Plot cost curve for export terminal costs\n",
    "fig, ax = plt.subplots(figsize=(10,6))\n",
    "plt.plot(result, color = 'red', linestyle = 'solid')\n",
    "plt.grid(True, axis = 'y')\n",
    "ax.set_axisbelow(True)\n",
    "plt.plot(result, color='red', linestyle='dashed')\n",
    "plt.title('Export terminal costs over time', fontweight='bold', fontsize='large')\n",
    "plt.legend(['Export terminal costs in €/kg_H2'])\n",
    "plt.xlabel('Year', fontsize='large')\n",
    "plt.ylabel('Cost [€/kg_H2]', fontsize='large')\n",
    "plt.show()"
   ],
   "metadata": {
    "collapsed": false,
    "pycharm": {
     "name": "#%%\n"
    }
   }
  },
  {
   "cell_type": "markdown",
   "source": [],
   "metadata": {
    "collapsed": false,
    "pycharm": {
     "name": "#%% md\n"
    }
   }
  },
  {
   "cell_type": "markdown",
   "source": [
    "## Shipping"
   ],
   "metadata": {
    "collapsed": false,
    "pycharm": {
     "name": "#%% md\n"
    }
   }
  },
  {
   "cell_type": "code",
   "execution_count": 49,
   "outputs": [
    {
     "data": {
      "text/plain": "30.0"
     },
     "execution_count": 49,
     "metadata": {},
     "output_type": "execute_result"
    }
   ],
   "source": [
    "# Technical lifetime of ships in years\n",
    "l_ship = float(tea_lh2.loc['Shipping - Technical Lifetime [Years]']['LH2'])\n",
    "l_ship"
   ],
   "metadata": {
    "collapsed": false,
    "pycharm": {
     "name": "#%%\n"
    }
   }
  },
  {
   "cell_type": "code",
   "execution_count": 50,
   "outputs": [
    {
     "data": {
      "text/plain": "0.08882743338727227"
     },
     "execution_count": 50,
     "metadata": {},
     "output_type": "execute_result"
    }
   ],
   "source": [
    "# Amortisation factor for shipping\n",
    "alpha_ship = (i_tra * (1 + i_tra) ** l_ship) / (((1 + i_tra) ** l_ship) - 1)\n",
    "alpha_ship\n"
   ],
   "metadata": {
    "collapsed": false,
    "pycharm": {
     "name": "#%%\n"
    }
   }
  },
  {
   "cell_type": "code",
   "execution_count": 51,
   "outputs": [],
   "source": [
    "# Distance between countries via ship in [km]\n",
    "#d_sea = float(tra_d[(tra_d['Origin_Country'] == 'Norway') & (tra_d['Destination_Country'] == 'Germany')]['sea distance (km)'].values)\n",
    "d_sea = 10000\n"
   ],
   "metadata": {
    "collapsed": false,
    "pycharm": {
     "name": "#%%\n"
    }
   }
  },
  {
   "cell_type": "code",
   "execution_count": 52,
   "outputs": [
    {
     "data": {
      "text/plain": "30.0"
     },
     "execution_count": 52,
     "metadata": {},
     "output_type": "execute_result"
    }
   ],
   "source": [
    "# Ship speed in [km/h]\n",
    "v_ship = float(tea_lh2.loc['Shipping - Ship speed [km/h]']['LH2'])\n",
    "v_ship"
   ],
   "metadata": {
    "collapsed": false,
    "pycharm": {
     "name": "#%%\n"
    }
   }
  },
  {
   "cell_type": "code",
   "execution_count": 53,
   "outputs": [
    {
     "data": {
      "text/plain": "48.0"
     },
     "execution_count": 53,
     "metadata": {},
     "output_type": "execute_result"
    }
   ],
   "source": [
    "# Berthing time (time for unloading and loading in a harbour) in [h]\n",
    "h_ship = float(tea_lh2.loc['Shipping - Berthing time [hours]']['LH2'])\n",
    "h_ship\n"
   ],
   "metadata": {
    "collapsed": false,
    "pycharm": {
     "name": "#%%\n"
    }
   }
  },
  {
   "cell_type": "code",
   "execution_count": 54,
   "outputs": [
    {
     "data": {
      "text/plain": "0.002"
     },
     "execution_count": 54,
     "metadata": {},
     "output_type": "execute_result"
    }
   ],
   "source": [
    "# Boil-off when shipping in [%/h]\n",
    "bog_ship = float(tea_lh2.loc['Shipping - Boil off opt. [%/day]']['LH2'])\n",
    "bog_ship"
   ],
   "metadata": {
    "collapsed": false,
    "pycharm": {
     "name": "#%%\n"
    }
   }
  },
  {
   "cell_type": "code",
   "execution_count": 55,
   "outputs": [
    {
     "data": {
      "text/plain": "0.01127193913122556"
     },
     "execution_count": 55,
     "metadata": {},
     "output_type": "execute_result"
    }
   ],
   "source": [
    "# Fuel consumption of a ship in [kg_h2/km]\n",
    "f_ship = float(tea_lh2.loc['Shipping - Fuel use [kg H2/t/km]']['LH2'])\n",
    "f_ship\n"
   ],
   "metadata": {
    "collapsed": false,
    "pycharm": {
     "name": "#%%\n"
    }
   }
  },
  {
   "cell_type": "markdown",
   "source": [
    "### Calc. shipping costs"
   ],
   "metadata": {
    "collapsed": false,
    "pycharm": {
     "name": "#%% md\n"
    }
   }
  },
  {
   "cell_type": "code",
   "execution_count": 56,
   "outputs": [],
   "source": [
    "# Definition of the cost calculation function for the maritime shipping. Time relevant variables = capex [€/t], opex [€/t/a], lcoh in [€/kg_h2]\n",
    "def calculate_ship_costs(alpha_ship, capex_ship_y, opex_ship_y, d_sea, v_ship, h_ship, bog_ship, f_ship, lcoh_ngr_y):\n",
    "    result = (alpha_ship * capex_ship_y/1000 + opex_ship_y/1000)/(8760/(2*(d_sea/v_ship + h_ship)))/((1-(bog_ship * d_sea/v_ship) - (f_ship  * d_sea)) + (bog_ship * d_sea/v_ship + f_ship * d_sea) * lcoh_ngr_y)\n",
    "\n",
    "    return result"
   ],
   "metadata": {
    "collapsed": false,
    "pycharm": {
     "name": "#%%\n"
    }
   }
  },
  {
   "cell_type": "code",
   "execution_count": 57,
   "outputs": [
    {
     "data": {
      "text/plain": "      Shipping_costs\nYears               \n2025         0.03756\n2026        0.035705\n2027        0.034013\n2028        0.032219\n2029        0.030488\n2030        0.028734\n2031        0.027069\n2032        0.025412\n2033        0.023723\n2034         0.02197\n2035        0.020169\n2036        0.018381\n2037        0.016522\n2038        0.014603\n2039        0.012667\n2040        0.010647\n2041        0.010852\n2042        0.011056\n2043        0.011301\n2044        0.011563\n2045        0.011828\n2046        0.012143\n2047        0.012484\n2048        0.012833\n2049        0.013211\n2050        0.014324",
      "text/html": "<div>\n<style scoped>\n    .dataframe tbody tr th:only-of-type {\n        vertical-align: middle;\n    }\n\n    .dataframe tbody tr th {\n        vertical-align: top;\n    }\n\n    .dataframe thead th {\n        text-align: right;\n    }\n</style>\n<table border=\"1\" class=\"dataframe\">\n  <thead>\n    <tr style=\"text-align: right;\">\n      <th></th>\n      <th>Shipping_costs</th>\n    </tr>\n    <tr>\n      <th>Years</th>\n      <th></th>\n    </tr>\n  </thead>\n  <tbody>\n    <tr>\n      <th>2025</th>\n      <td>0.03756</td>\n    </tr>\n    <tr>\n      <th>2026</th>\n      <td>0.035705</td>\n    </tr>\n    <tr>\n      <th>2027</th>\n      <td>0.034013</td>\n    </tr>\n    <tr>\n      <th>2028</th>\n      <td>0.032219</td>\n    </tr>\n    <tr>\n      <th>2029</th>\n      <td>0.030488</td>\n    </tr>\n    <tr>\n      <th>2030</th>\n      <td>0.028734</td>\n    </tr>\n    <tr>\n      <th>2031</th>\n      <td>0.027069</td>\n    </tr>\n    <tr>\n      <th>2032</th>\n      <td>0.025412</td>\n    </tr>\n    <tr>\n      <th>2033</th>\n      <td>0.023723</td>\n    </tr>\n    <tr>\n      <th>2034</th>\n      <td>0.02197</td>\n    </tr>\n    <tr>\n      <th>2035</th>\n      <td>0.020169</td>\n    </tr>\n    <tr>\n      <th>2036</th>\n      <td>0.018381</td>\n    </tr>\n    <tr>\n      <th>2037</th>\n      <td>0.016522</td>\n    </tr>\n    <tr>\n      <th>2038</th>\n      <td>0.014603</td>\n    </tr>\n    <tr>\n      <th>2039</th>\n      <td>0.012667</td>\n    </tr>\n    <tr>\n      <th>2040</th>\n      <td>0.010647</td>\n    </tr>\n    <tr>\n      <th>2041</th>\n      <td>0.010852</td>\n    </tr>\n    <tr>\n      <th>2042</th>\n      <td>0.011056</td>\n    </tr>\n    <tr>\n      <th>2043</th>\n      <td>0.011301</td>\n    </tr>\n    <tr>\n      <th>2044</th>\n      <td>0.011563</td>\n    </tr>\n    <tr>\n      <th>2045</th>\n      <td>0.011828</td>\n    </tr>\n    <tr>\n      <th>2046</th>\n      <td>0.012143</td>\n    </tr>\n    <tr>\n      <th>2047</th>\n      <td>0.012484</td>\n    </tr>\n    <tr>\n      <th>2048</th>\n      <td>0.012833</td>\n    </tr>\n    <tr>\n      <th>2049</th>\n      <td>0.013211</td>\n    </tr>\n    <tr>\n      <th>2050</th>\n      <td>0.014324</td>\n    </tr>\n  </tbody>\n</table>\n</div>"
     },
     "execution_count": 57,
     "metadata": {},
     "output_type": "execute_result"
    }
   ],
   "source": [
    "# Calculation of shipping costs [€/kg_h2] from 2030 to 2050.\n",
    "years = np.arange(2025, 2051)\n",
    "result = pd.DataFrame(index=years, columns=['Shipping_costs'])\n",
    "result.index.name = 'Years'\n",
    "\n",
    "for year in years:\n",
    "    # get capex, opex, xx\n",
    "    capex_ship_y = float(tea_lh2.loc['Shipping - Capex/Ship opt. [€/t of carrier]'][year])\n",
    "    opex_ship_y = float(tea_lh2.loc['Shipping - Annual Opex opt. [€/t/a]'][year])\n",
    "    lcoh_ngr_y = float(lcoh_ngr.loc[year]['LCOH_BLUE'])\n",
    "\n",
    "    # calculate costs of specific year\n",
    "    result.Shipping_costs.loc[year] = calculate_ship_costs(alpha_ship=alpha_ship, capex_ship_y=capex_ship_y, opex_ship_y=opex_ship_y, d_sea=d_sea, v_ship=v_ship, h_ship=h_ship, bog_ship=bog_ship, f_ship=f_ship, lcoh_ngr_y=lcoh_ngr_y)\n",
    "\n",
    "result"
   ],
   "metadata": {
    "collapsed": false,
    "pycharm": {
     "name": "#%%\n"
    }
   }
  },
  {
   "cell_type": "code",
   "execution_count": 58,
   "outputs": [],
   "source": [
    "# Create csv file from results dataframe\n",
    "path_csv= r'/Users/jakob/PycharmProjects/H2_pathways_repo/data/processed'\n",
    "output_file = os.path.join(path_csv, 'Shipping_costs.csv')\n",
    "result.to_csv(output_file, sep=';')"
   ],
   "metadata": {
    "collapsed": false,
    "pycharm": {
     "name": "#%%\n"
    }
   }
  },
  {
   "cell_type": "markdown",
   "source": [
    "### Plot shipping costs"
   ],
   "metadata": {
    "collapsed": false,
    "pycharm": {
     "name": "#%% md\n"
    }
   }
  },
  {
   "cell_type": "code",
   "execution_count": 59,
   "outputs": [
    {
     "data": {
      "text/plain": "<Figure size 720x432 with 1 Axes>",
      "image/png": "[encoded data removed]"
     },
     "metadata": {
      "needs_background": "light"
     },
     "output_type": "display_data"
    }
   ],
   "source": [
    "# Plot cost curve of hydrogen production from NGR with CCS\n",
    "fig, ax = plt.subplots(figsize=(10,6))\n",
    "plt.plot(result, color = 'green', linestyle = 'solid')\n",
    "plt.grid(True, axis = 'y')\n",
    "ax.set_axisbelow(True)\n",
    "plt.title('Shipping costs over time in €/kg H2', fontweight='bold')\n",
    "plt.xlabel('Year')\n",
    "plt.ylabel('Cost')\n",
    "plt.show()"
   ],
   "metadata": {
    "collapsed": false,
    "pycharm": {
     "name": "#%%\n"
    }
   }
  },
  {
   "cell_type": "markdown",
   "source": [
    "## Import terminal"
   ],
   "metadata": {
    "collapsed": false,
    "pycharm": {
     "name": "#%% md\n"
    }
   }
  },
  {
   "cell_type": "code",
   "execution_count": 60,
   "outputs": [],
   "source": [
    "# Definition of variables for the import terminal costs"
   ],
   "metadata": {
    "collapsed": false,
    "pycharm": {
     "name": "#%%\n"
    }
   }
  },
  {
   "cell_type": "code",
   "execution_count": 61,
   "outputs": [],
   "source": [
    "# Amortisation factor for the import terminal\n",
    "alpha_it = alpha_et"
   ],
   "metadata": {
    "collapsed": false,
    "pycharm": {
     "name": "#%%\n"
    }
   }
  },
  {
   "cell_type": "code",
   "execution_count": 62,
   "outputs": [
    {
     "data": {
      "text/plain": "0.2"
     },
     "execution_count": 62,
     "metadata": {},
     "output_type": "execute_result"
    }
   ],
   "source": [
    "# Electricity consumption in kWh/kg H2\n",
    "el_it = float(tea_lh2.loc['Import Terminal - Electricity use [kWh/kg H2]']['LH2'])\n",
    "el_it"
   ],
   "metadata": {
    "collapsed": false,
    "pycharm": {
     "name": "#%%\n"
    }
   }
  },
  {
   "cell_type": "code",
   "execution_count": 63,
   "outputs": [
    {
     "data": {
      "text/plain": "0.001"
     },
     "execution_count": 63,
     "metadata": {},
     "output_type": "execute_result"
    }
   ],
   "source": [
    "# Import terminal boil-off in [%/day]\n",
    "bog_it = float(tea_lh2.loc['Import Terminal - Boil-off [%/day]']['LH2'])\n",
    "bog_it"
   ],
   "metadata": {
    "collapsed": false,
    "pycharm": {
     "name": "#%%\n"
    }
   }
  },
  {
   "cell_type": "code",
   "execution_count": 64,
   "outputs": [
    {
     "data": {
      "text/plain": "20.0"
     },
     "execution_count": 64,
     "metadata": {},
     "output_type": "execute_result"
    }
   ],
   "source": [
    "# Average storage time in the export terminal tanks in days\n",
    "t_it = float(tea_lh2.loc['Import Terminal - Storage length per load [days]']['LH2'])\n",
    "t_it"
   ],
   "metadata": {
    "collapsed": false,
    "pycharm": {
     "name": "#%%\n"
    }
   }
  },
  {
   "cell_type": "code",
   "execution_count": 65,
   "outputs": [],
   "source": [
    "# Import terminal costs in [$/kg_h2]:\n",
    "# Capex for the import terminal in [$/tpa]\n",
    "# Opex for the import terminal in [$/tpa]\n",
    "# Electricity consumption for the import terminal in [kWh/kg_h2]\n",
    "# Price for electricity in importing country [$/MWh]\n",
    "# Import terminal boil-off in [%/h]\n",
    "# Berthing time in import terminal in [h]\n",
    "# Cost of transported hydrogen in [$/kg_h2]\n",
    "years = np.arange(2025, 2051)\n",
    "result = pd.DataFrame(index=years, columns=['Import_terminal_costs'])\n",
    "result.index.name = 'Years'\n",
    "\n",
    "def calculate_import_terminal_costs(alpha_it, capex_it_y, opex_it_y, el_it, p_el_y, bog_it, t_it, lcoh_ngr_y):\n",
    "    result = (alpha_it * capex_it_y/1000 + opex_it_y/1000) + el_it * p_el_y/1000 + bog_it * t_it * lcoh_ngr_y\n",
    "\n",
    "    return result"
   ],
   "metadata": {
    "collapsed": false,
    "pycharm": {
     "name": "#%%\n"
    }
   }
  },
  {
   "cell_type": "code",
   "execution_count": 68,
   "outputs": [
    {
     "data": {
      "text/plain": "      Import_terminal_costs\nYears                      \n2025               0.574494\n2026               0.568713\n2027               0.562944\n2028               0.557177\n2029                 0.5514\n2030               0.545638\n2031               0.532831\n2032               0.520061\n2033               0.507357\n2034               0.494633\n2035               0.481837\n2036               0.468952\n2037               0.456124\n2038               0.443365\n2039               0.430675\n2040               0.417979\n2041               0.405303\n2042               0.392668\n2043               0.380042\n2044               0.367422\n2045               0.354759\n2046               0.341969\n2047               0.329046\n2048               0.316053\n2049               0.303109\n2050               0.290038",
      "text/html": "<div>\n<style scoped>\n    .dataframe tbody tr th:only-of-type {\n        vertical-align: middle;\n    }\n\n    .dataframe tbody tr th {\n        vertical-align: top;\n    }\n\n    .dataframe thead th {\n        text-align: right;\n    }\n</style>\n<table border=\"1\" class=\"dataframe\">\n  <thead>\n    <tr style=\"text-align: right;\">\n      <th></th>\n      <th>Import_terminal_costs</th>\n    </tr>\n    <tr>\n      <th>Years</th>\n      <th></th>\n    </tr>\n  </thead>\n  <tbody>\n    <tr>\n      <th>2025</th>\n      <td>0.574494</td>\n    </tr>\n    <tr>\n      <th>2026</th>\n      <td>0.568713</td>\n    </tr>\n    <tr>\n      <th>2027</th>\n      <td>0.562944</td>\n    </tr>\n    <tr>\n      <th>2028</th>\n      <td>0.557177</td>\n    </tr>\n    <tr>\n      <th>2029</th>\n      <td>0.5514</td>\n    </tr>\n    <tr>\n      <th>2030</th>\n      <td>0.545638</td>\n    </tr>\n    <tr>\n      <th>2031</th>\n      <td>0.532831</td>\n    </tr>\n    <tr>\n      <th>2032</th>\n      <td>0.520061</td>\n    </tr>\n    <tr>\n      <th>2033</th>\n      <td>0.507357</td>\n    </tr>\n    <tr>\n      <th>2034</th>\n      <td>0.494633</td>\n    </tr>\n    <tr>\n      <th>2035</th>\n      <td>0.481837</td>\n    </tr>\n    <tr>\n      <th>2036</th>\n      <td>0.468952</td>\n    </tr>\n    <tr>\n      <th>2037</th>\n      <td>0.456124</td>\n    </tr>\n    <tr>\n      <th>2038</th>\n      <td>0.443365</td>\n    </tr>\n    <tr>\n      <th>2039</th>\n      <td>0.430675</td>\n    </tr>\n    <tr>\n      <th>2040</th>\n      <td>0.417979</td>\n    </tr>\n    <tr>\n      <th>2041</th>\n      <td>0.405303</td>\n    </tr>\n    <tr>\n      <th>2042</th>\n      <td>0.392668</td>\n    </tr>\n    <tr>\n      <th>2043</th>\n      <td>0.380042</td>\n    </tr>\n    <tr>\n      <th>2044</th>\n      <td>0.367422</td>\n    </tr>\n    <tr>\n      <th>2045</th>\n      <td>0.354759</td>\n    </tr>\n    <tr>\n      <th>2046</th>\n      <td>0.341969</td>\n    </tr>\n    <tr>\n      <th>2047</th>\n      <td>0.329046</td>\n    </tr>\n    <tr>\n      <th>2048</th>\n      <td>0.316053</td>\n    </tr>\n    <tr>\n      <th>2049</th>\n      <td>0.303109</td>\n    </tr>\n    <tr>\n      <th>2050</th>\n      <td>0.290038</td>\n    </tr>\n  </tbody>\n</table>\n</div>"
     },
     "execution_count": 68,
     "metadata": {},
     "output_type": "execute_result"
    }
   ],
   "source": [
    "for year in years:\n",
    "    # get capex, opex, xx\n",
    "    capex_it_y = float(tea_lh2.loc['Import Terminal - CAPEX [€/t/a]'][year])\n",
    "    opex_it_y = float(tea_lh2.loc['Import Terminal - OPEX [€/t/a]'][year])\n",
    "    p_el_y = float(p_electricity.loc['Norway'][year])\n",
    "    lcoh_ngr_y = float(lcoh_ngr.loc[year]['LCOH_BLUE'])\n",
    "\n",
    "    # calculate costs of specific year\n",
    "    result.Import_terminal_costs.loc[year] = calculate_import_terminal_costs(alpha_it=alpha_it, capex_it_y=capex_it_y,\n",
    "                                                              opex_it_y=opex_it_y, el_it=el_it, p_el_y=p_el_y, bog_it=bog_it, t_it=t_it, lcoh_ngr_y=lcoh_ngr_y)\n",
    "\n",
    "result"
   ],
   "metadata": {
    "collapsed": false,
    "pycharm": {
     "name": "#%%\n"
    }
   }
  },
  {
   "cell_type": "code",
   "execution_count": 69,
   "outputs": [],
   "source": [
    "# Create csv file from results dataframe\n",
    "path_csv= r'/Users/jakob/PycharmProjects/H2_pathways_repo/data/processed'\n",
    "output_file = os.path.join(path_csv, 'Import_terminal_costs.csv')\n",
    "result.to_csv(output_file, sep=';')"
   ],
   "metadata": {
    "collapsed": false,
    "pycharm": {
     "name": "#%%\n"
    }
   }
  },
  {
   "cell_type": "markdown",
   "source": [
    "### Plot import terminal costs"
   ],
   "metadata": {
    "collapsed": false,
    "pycharm": {
     "name": "#%% md\n"
    }
   }
  },
  {
   "cell_type": "code",
   "execution_count": 70,
   "outputs": [
    {
     "data": {
      "text/plain": "<Figure size 720x432 with 1 Axes>",
      "image/png": "[encoded data removed]"
     },
     "metadata": {
      "needs_background": "light"
     },
     "output_type": "display_data"
    }
   ],
   "source": [
    "fig, ax = plt.subplots(figsize=(10,6))\n",
    "plt.plot(result, color = 'red', linestyle = 'solid')\n",
    "plt.grid(True, axis = 'y')\n",
    "ax.set_axisbelow(True)\n",
    "plt.plot(result, color='red', linestyle='dashed')\n",
    "plt.title('Import terminal costs over time', fontweight='bold', fontsize='large')\n",
    "plt.legend(['Import terminal costs in €/kg_H2'])\n",
    "plt.xlabel('Year', fontsize='large')\n",
    "plt.ylabel('Cost [€/kg_H2]', fontsize='large')\n",
    "plt.show()"
   ],
   "metadata": {
    "collapsed": false,
    "pycharm": {
     "name": "#%%\n"
    }
   }
  },
  {
   "cell_type": "markdown",
   "source": [
    "# Total costs for LH2 seaborne transport"
   ],
   "metadata": {
    "collapsed": false,
    "pycharm": {
     "name": "#%% md\n"
    }
   }
  },
  {
   "cell_type": "code",
   "execution_count": 71,
   "outputs": [],
   "source": [
    "liq_costs = pd.read_csv('/Users/jakob/PycharmProjects/H2_pathways_repo/data/processed/Liquefaction_costs.csv', delimiter=';', decimal=',')\n",
    "et_costs = pd.read_csv('/Users/jakob/PycharmProjects/H2_pathways_repo/data/processed/Export_terminal_costs.csv', delimiter=';', decimal=',')\n",
    "ship_costs = pd.read_csv('/Users/jakob/PycharmProjects/H2_pathways_repo/data/processed/Shipping_costs.csv', delimiter=';', decimal=',')\n",
    "it_costs = pd.read_csv('/Users/jakob/PycharmProjects/H2_pathways_repo/data/processed/Import_terminal_costs.csv', delimiter=';', decimal=',')"
   ],
   "metadata": {
    "collapsed": false,
    "pycharm": {
     "name": "#%%\n"
    }
   }
  },
  {
   "cell_type": "code",
   "execution_count": 72,
   "outputs": [],
   "source": [
    "years = np.arange(2025, 2051)\n",
    "result = pd.DataFrame(index=years, columns=['LH2_transport'])\n",
    "result.index.name = 'Years'"
   ],
   "metadata": {
    "collapsed": false,
    "pycharm": {
     "name": "#%%\n"
    }
   }
  },
  {
   "cell_type": "code",
   "execution_count": 73,
   "outputs": [],
   "source": [
    "# Calculate total transport costs from liquefaction costs (LC), export terminal costs (EC), Shipping costs (SC), import terminal costs (IC)\n",
    "def calculate_seaborne_transport_costs(LC,EC,SC,IC):\n",
    "    result = LC + EC + SC + IC\n",
    "\n",
    "    return result"
   ],
   "metadata": {
    "collapsed": false,
    "pycharm": {
     "name": "#%%\n"
    }
   }
  },
  {
   "cell_type": "code",
   "execution_count": 74,
   "outputs": [
    {
     "data": {
      "text/plain": "      LH2_transport\nYears              \n2025       1.727341\n2026        1.70488\n2027       1.684164\n2028       1.662883\n2029       1.641951\n2030       1.621488\n2031       1.595977\n2032       1.571961\n2033       1.549927\n2034       1.527028\n2035       1.501835\n2036        1.47459\n2037       1.448817\n2038       1.424959\n2039       1.403598\n2040        1.38173\n2041       1.362644\n2042       1.344499\n2043       1.326938\n2044       1.309522\n2045       1.290674\n2046        1.26883\n2047       1.243494\n2048       1.216242\n2049       1.190432\n2050       1.167979",
      "text/html": "<div>\n<style scoped>\n    .dataframe tbody tr th:only-of-type {\n        vertical-align: middle;\n    }\n\n    .dataframe tbody tr th {\n        vertical-align: top;\n    }\n\n    .dataframe thead th {\n        text-align: right;\n    }\n</style>\n<table border=\"1\" class=\"dataframe\">\n  <thead>\n    <tr style=\"text-align: right;\">\n      <th></th>\n      <th>LH2_transport</th>\n    </tr>\n    <tr>\n      <th>Years</th>\n      <th></th>\n    </tr>\n  </thead>\n  <tbody>\n    <tr>\n      <th>2025</th>\n      <td>1.727341</td>\n    </tr>\n    <tr>\n      <th>2026</th>\n      <td>1.70488</td>\n    </tr>\n    <tr>\n      <th>2027</th>\n      <td>1.684164</td>\n    </tr>\n    <tr>\n      <th>2028</th>\n      <td>1.662883</td>\n    </tr>\n    <tr>\n      <th>2029</th>\n      <td>1.641951</td>\n    </tr>\n    <tr>\n      <th>2030</th>\n      <td>1.621488</td>\n    </tr>\n    <tr>\n      <th>2031</th>\n      <td>1.595977</td>\n    </tr>\n    <tr>\n      <th>2032</th>\n      <td>1.571961</td>\n    </tr>\n    <tr>\n      <th>2033</th>\n      <td>1.549927</td>\n    </tr>\n    <tr>\n      <th>2034</th>\n      <td>1.527028</td>\n    </tr>\n    <tr>\n      <th>2035</th>\n      <td>1.501835</td>\n    </tr>\n    <tr>\n      <th>2036</th>\n      <td>1.47459</td>\n    </tr>\n    <tr>\n      <th>2037</th>\n      <td>1.448817</td>\n    </tr>\n    <tr>\n      <th>2038</th>\n      <td>1.424959</td>\n    </tr>\n    <tr>\n      <th>2039</th>\n      <td>1.403598</td>\n    </tr>\n    <tr>\n      <th>2040</th>\n      <td>1.38173</td>\n    </tr>\n    <tr>\n      <th>2041</th>\n      <td>1.362644</td>\n    </tr>\n    <tr>\n      <th>2042</th>\n      <td>1.344499</td>\n    </tr>\n    <tr>\n      <th>2043</th>\n      <td>1.326938</td>\n    </tr>\n    <tr>\n      <th>2044</th>\n      <td>1.309522</td>\n    </tr>\n    <tr>\n      <th>2045</th>\n      <td>1.290674</td>\n    </tr>\n    <tr>\n      <th>2046</th>\n      <td>1.26883</td>\n    </tr>\n    <tr>\n      <th>2047</th>\n      <td>1.243494</td>\n    </tr>\n    <tr>\n      <th>2048</th>\n      <td>1.216242</td>\n    </tr>\n    <tr>\n      <th>2049</th>\n      <td>1.190432</td>\n    </tr>\n    <tr>\n      <th>2050</th>\n      <td>1.167979</td>\n    </tr>\n  </tbody>\n</table>\n</div>"
     },
     "execution_count": 74,
     "metadata": {},
     "output_type": "execute_result"
    }
   ],
   "source": [
    "for year in years:\n",
    "    # get all costs\n",
    "    LC = float(liq_costs[liq_costs.Years == year]['Liquefaction_costs'])\n",
    "    EC = float(et_costs[et_costs.Years == year]['Export_terminal_costs'])\n",
    "    SC = float(ship_costs[ship_costs.Years == year]['Shipping_costs'])\n",
    "    IC = float(it_costs[it_costs.Years == year]['Import_terminal_costs'])\n",
    "\n",
    "    # calculate costs of specific year\n",
    "    result.LH2_transport.loc[year] = calculate_seaborne_transport_costs(LC=LC,EC=EC, SC=SC, IC=IC)\n",
    "\n",
    "result"
   ],
   "metadata": {
    "collapsed": false,
    "pycharm": {
     "name": "#%%\n"
    }
   }
  },
  {
   "cell_type": "code",
   "execution_count": 75,
   "outputs": [],
   "source": [
    "# Create csv file from results dataframe\n",
    "path_csv= r'/Users/jakob/PycharmProjects/H2_pathways_repo/data/processed'\n",
    "output_file = os.path.join(path_csv, 'Seaborne_transport_costs.csv')\n",
    "result.to_csv(output_file, sep=';')"
   ],
   "metadata": {
    "collapsed": false,
    "pycharm": {
     "name": "#%%\n"
    }
   }
  },
  {
   "cell_type": "code",
   "execution_count": 76,
   "outputs": [
    {
     "data": {
      "text/plain": "<Figure size 720x432 with 1 Axes>",
      "image/png": "[encoded data removed]"
     },
     "metadata": {
      "needs_background": "light"
     },
     "output_type": "display_data"
    }
   ],
   "source": [
    "# Plot cost curve for seaborne transport\n",
    "fig, ax = plt.subplots(figsize=(10,6))\n",
    "plt.plot(result, color = 'green', linestyle = 'solid')\n",
    "plt.grid(True, axis = 'y')\n",
    "ax.set_axisbelow(True)\n",
    "plt.title('Cost curve for LH2 shipping [€/kg H2]', fontweight='bold')\n",
    "plt.xlabel('Year')\n",
    "plt.ylabel('Cost')\n",
    "plt.show()"
   ],
   "metadata": {
    "collapsed": false,
    "pycharm": {
     "name": "#%%\n"
    }
   }
  },
  {
   "cell_type": "code",
   "execution_count": 77,
   "outputs": [
    {
     "ename": "ValueError",
     "evalue": "shape mismatch: objects cannot be broadcast to a single shape.  Mismatch is between arg 0 with shape (6,) and arg 3 with shape (7,).",
     "output_type": "error",
     "traceback": [
      "\u001B[0;31m---------------------------------------------------------------------------\u001B[0m",
      "\u001B[0;31mValueError\u001B[0m                                Traceback (most recent call last)",
      "Input \u001B[0;32mIn [77]\u001B[0m, in \u001B[0;36m<cell line: 12>\u001B[0;34m()\u001B[0m\n\u001B[1;32m      9\u001B[0m IC \u001B[38;5;241m=\u001B[39m (it_costs\u001B[38;5;241m.\u001B[39mloc[::\u001B[38;5;241m5\u001B[39m][\u001B[38;5;124m'\u001B[39m\u001B[38;5;124mImport_terminal_costs\u001B[39m\u001B[38;5;124m'\u001B[39m])\u001B[38;5;241m.\u001B[39mapply(pd\u001B[38;5;241m.\u001B[39mto_numeric)\n\u001B[1;32m     10\u001B[0m width \u001B[38;5;241m=\u001B[39m \u001B[38;5;241m2\u001B[39m       \u001B[38;5;66;03m# the width of the bars: can also be len(x) sequence\u001B[39;00m\n\u001B[0;32m---> 12\u001B[0m IC_plt \u001B[38;5;241m=\u001B[39m \u001B[43mplt\u001B[49m\u001B[38;5;241;43m.\u001B[39;49m\u001B[43mbar\u001B[49m\u001B[43m(\u001B[49m\u001B[43mx\u001B[49m\u001B[43m,\u001B[49m\u001B[43mIC\u001B[49m\u001B[43m,\u001B[49m\u001B[43m \u001B[49m\u001B[43mwidth\u001B[49m\u001B[43m,\u001B[49m\u001B[43m \u001B[49m\u001B[43mlabel\u001B[49m\u001B[38;5;241;43m=\u001B[39;49m\u001B[38;5;124;43m'\u001B[39;49m\u001B[38;5;124;43mImport terminal costs\u001B[39;49m\u001B[38;5;124;43m'\u001B[39;49m\u001B[43m,\u001B[49m\u001B[43m \u001B[49m\u001B[43mbottom\u001B[49m\u001B[38;5;241;43m=\u001B[39;49m\u001B[43m \u001B[49m\u001B[43mLC\u001B[49m\u001B[43m \u001B[49m\u001B[38;5;241;43m+\u001B[39;49m\u001B[43m \u001B[49m\u001B[43mEC\u001B[49m\u001B[43m \u001B[49m\u001B[38;5;241;43m+\u001B[39;49m\u001B[43m \u001B[49m\u001B[43mSC\u001B[49m\u001B[43m)\u001B[49m\n\u001B[1;32m     13\u001B[0m SC_plt \u001B[38;5;241m=\u001B[39m plt\u001B[38;5;241m.\u001B[39mbar(x,SC, width, label\u001B[38;5;241m=\u001B[39m\u001B[38;5;124m'\u001B[39m\u001B[38;5;124mShipping costs\u001B[39m\u001B[38;5;124m'\u001B[39m, bottom\u001B[38;5;241m=\u001B[39m LC \u001B[38;5;241m+\u001B[39m EC)\n\u001B[1;32m     14\u001B[0m EC_plt \u001B[38;5;241m=\u001B[39m plt\u001B[38;5;241m.\u001B[39mbar(x,EC, width, label\u001B[38;5;241m=\u001B[39m\u001B[38;5;124m'\u001B[39m\u001B[38;5;124mExport terminal costs\u001B[39m\u001B[38;5;124m'\u001B[39m, bottom\u001B[38;5;241m=\u001B[39m LC)\n",
      "File \u001B[0;32m~/PycharmProjects/H2_pathways_repo/env_H2/lib/python3.10/site-packages/matplotlib/pyplot.py:2399\u001B[0m, in \u001B[0;36mbar\u001B[0;34m(x, height, width, bottom, align, data, **kwargs)\u001B[0m\n\u001B[1;32m   2395\u001B[0m \u001B[38;5;129m@_copy_docstring_and_deprecators\u001B[39m(Axes\u001B[38;5;241m.\u001B[39mbar)\n\u001B[1;32m   2396\u001B[0m \u001B[38;5;28;01mdef\u001B[39;00m \u001B[38;5;21mbar\u001B[39m(\n\u001B[1;32m   2397\u001B[0m         x, height, width\u001B[38;5;241m=\u001B[39m\u001B[38;5;241m0.8\u001B[39m, bottom\u001B[38;5;241m=\u001B[39m\u001B[38;5;28;01mNone\u001B[39;00m, \u001B[38;5;241m*\u001B[39m, align\u001B[38;5;241m=\u001B[39m\u001B[38;5;124m'\u001B[39m\u001B[38;5;124mcenter\u001B[39m\u001B[38;5;124m'\u001B[39m,\n\u001B[1;32m   2398\u001B[0m         data\u001B[38;5;241m=\u001B[39m\u001B[38;5;28;01mNone\u001B[39;00m, \u001B[38;5;241m*\u001B[39m\u001B[38;5;241m*\u001B[39mkwargs):\n\u001B[0;32m-> 2399\u001B[0m     \u001B[38;5;28;01mreturn\u001B[39;00m \u001B[43mgca\u001B[49m\u001B[43m(\u001B[49m\u001B[43m)\u001B[49m\u001B[38;5;241;43m.\u001B[39;49m\u001B[43mbar\u001B[49m\u001B[43m(\u001B[49m\n\u001B[1;32m   2400\u001B[0m \u001B[43m        \u001B[49m\u001B[43mx\u001B[49m\u001B[43m,\u001B[49m\u001B[43m \u001B[49m\u001B[43mheight\u001B[49m\u001B[43m,\u001B[49m\u001B[43m \u001B[49m\u001B[43mwidth\u001B[49m\u001B[38;5;241;43m=\u001B[39;49m\u001B[43mwidth\u001B[49m\u001B[43m,\u001B[49m\u001B[43m \u001B[49m\u001B[43mbottom\u001B[49m\u001B[38;5;241;43m=\u001B[39;49m\u001B[43mbottom\u001B[49m\u001B[43m,\u001B[49m\u001B[43m \u001B[49m\u001B[43malign\u001B[49m\u001B[38;5;241;43m=\u001B[39;49m\u001B[43malign\u001B[49m\u001B[43m,\u001B[49m\n\u001B[1;32m   2401\u001B[0m \u001B[43m        \u001B[49m\u001B[38;5;241;43m*\u001B[39;49m\u001B[38;5;241;43m*\u001B[39;49m\u001B[43m(\u001B[49m\u001B[43m{\u001B[49m\u001B[38;5;124;43m\"\u001B[39;49m\u001B[38;5;124;43mdata\u001B[39;49m\u001B[38;5;124;43m\"\u001B[39;49m\u001B[43m:\u001B[49m\u001B[43m \u001B[49m\u001B[43mdata\u001B[49m\u001B[43m}\u001B[49m\u001B[43m \u001B[49m\u001B[38;5;28;43;01mif\u001B[39;49;00m\u001B[43m \u001B[49m\u001B[43mdata\u001B[49m\u001B[43m \u001B[49m\u001B[38;5;129;43;01mis\u001B[39;49;00m\u001B[43m \u001B[49m\u001B[38;5;129;43;01mnot\u001B[39;49;00m\u001B[43m \u001B[49m\u001B[38;5;28;43;01mNone\u001B[39;49;00m\u001B[43m \u001B[49m\u001B[38;5;28;43;01melse\u001B[39;49;00m\u001B[43m \u001B[49m\u001B[43m{\u001B[49m\u001B[43m}\u001B[49m\u001B[43m)\u001B[49m\u001B[43m,\u001B[49m\u001B[43m \u001B[49m\u001B[38;5;241;43m*\u001B[39;49m\u001B[38;5;241;43m*\u001B[39;49m\u001B[43mkwargs\u001B[49m\u001B[43m)\u001B[49m\n",
      "File \u001B[0;32m~/PycharmProjects/H2_pathways_repo/env_H2/lib/python3.10/site-packages/matplotlib/__init__.py:1412\u001B[0m, in \u001B[0;36m_preprocess_data.<locals>.inner\u001B[0;34m(ax, data, *args, **kwargs)\u001B[0m\n\u001B[1;32m   1409\u001B[0m \u001B[38;5;129m@functools\u001B[39m\u001B[38;5;241m.\u001B[39mwraps(func)\n\u001B[1;32m   1410\u001B[0m \u001B[38;5;28;01mdef\u001B[39;00m \u001B[38;5;21minner\u001B[39m(ax, \u001B[38;5;241m*\u001B[39margs, data\u001B[38;5;241m=\u001B[39m\u001B[38;5;28;01mNone\u001B[39;00m, \u001B[38;5;241m*\u001B[39m\u001B[38;5;241m*\u001B[39mkwargs):\n\u001B[1;32m   1411\u001B[0m     \u001B[38;5;28;01mif\u001B[39;00m data \u001B[38;5;129;01mis\u001B[39;00m \u001B[38;5;28;01mNone\u001B[39;00m:\n\u001B[0;32m-> 1412\u001B[0m         \u001B[38;5;28;01mreturn\u001B[39;00m \u001B[43mfunc\u001B[49m\u001B[43m(\u001B[49m\u001B[43max\u001B[49m\u001B[43m,\u001B[49m\u001B[43m \u001B[49m\u001B[38;5;241;43m*\u001B[39;49m\u001B[38;5;28;43mmap\u001B[39;49m\u001B[43m(\u001B[49m\u001B[43msanitize_sequence\u001B[49m\u001B[43m,\u001B[49m\u001B[43m \u001B[49m\u001B[43margs\u001B[49m\u001B[43m)\u001B[49m\u001B[43m,\u001B[49m\u001B[43m \u001B[49m\u001B[38;5;241;43m*\u001B[39;49m\u001B[38;5;241;43m*\u001B[39;49m\u001B[43mkwargs\u001B[49m\u001B[43m)\u001B[49m\n\u001B[1;32m   1414\u001B[0m     bound \u001B[38;5;241m=\u001B[39m new_sig\u001B[38;5;241m.\u001B[39mbind(ax, \u001B[38;5;241m*\u001B[39margs, \u001B[38;5;241m*\u001B[39m\u001B[38;5;241m*\u001B[39mkwargs)\n\u001B[1;32m   1415\u001B[0m     auto_label \u001B[38;5;241m=\u001B[39m (bound\u001B[38;5;241m.\u001B[39marguments\u001B[38;5;241m.\u001B[39mget(label_namer)\n\u001B[1;32m   1416\u001B[0m                   \u001B[38;5;129;01mor\u001B[39;00m bound\u001B[38;5;241m.\u001B[39mkwargs\u001B[38;5;241m.\u001B[39mget(label_namer))\n",
      "File \u001B[0;32m~/PycharmProjects/H2_pathways_repo/env_H2/lib/python3.10/site-packages/matplotlib/axes/_axes.py:2342\u001B[0m, in \u001B[0;36mAxes.bar\u001B[0;34m(self, x, height, width, bottom, align, **kwargs)\u001B[0m\n\u001B[1;32m   2339\u001B[0m     \u001B[38;5;28;01mif\u001B[39;00m yerr \u001B[38;5;129;01mis\u001B[39;00m \u001B[38;5;129;01mnot\u001B[39;00m \u001B[38;5;28;01mNone\u001B[39;00m:\n\u001B[1;32m   2340\u001B[0m         yerr \u001B[38;5;241m=\u001B[39m \u001B[38;5;28mself\u001B[39m\u001B[38;5;241m.\u001B[39m_convert_dx(yerr, y0, y, \u001B[38;5;28mself\u001B[39m\u001B[38;5;241m.\u001B[39mconvert_yunits)\n\u001B[0;32m-> 2342\u001B[0m x, height, width, y, linewidth, hatch \u001B[38;5;241m=\u001B[39m \u001B[43mnp\u001B[49m\u001B[38;5;241;43m.\u001B[39;49m\u001B[43mbroadcast_arrays\u001B[49m\u001B[43m(\u001B[49m\n\u001B[1;32m   2343\u001B[0m \u001B[43m    \u001B[49m\u001B[38;5;66;43;03m# Make args iterable too.\u001B[39;49;00m\n\u001B[1;32m   2344\u001B[0m \u001B[43m    \u001B[49m\u001B[43mnp\u001B[49m\u001B[38;5;241;43m.\u001B[39;49m\u001B[43matleast_1d\u001B[49m\u001B[43m(\u001B[49m\u001B[43mx\u001B[49m\u001B[43m)\u001B[49m\u001B[43m,\u001B[49m\u001B[43m \u001B[49m\u001B[43mheight\u001B[49m\u001B[43m,\u001B[49m\u001B[43m \u001B[49m\u001B[43mwidth\u001B[49m\u001B[43m,\u001B[49m\u001B[43m \u001B[49m\u001B[43my\u001B[49m\u001B[43m,\u001B[49m\u001B[43m \u001B[49m\u001B[43mlinewidth\u001B[49m\u001B[43m,\u001B[49m\u001B[43m \u001B[49m\u001B[43mhatch\u001B[49m\u001B[43m)\u001B[49m\n\u001B[1;32m   2346\u001B[0m \u001B[38;5;66;03m# Now that units have been converted, set the tick locations.\u001B[39;00m\n\u001B[1;32m   2347\u001B[0m \u001B[38;5;28;01mif\u001B[39;00m orientation \u001B[38;5;241m==\u001B[39m \u001B[38;5;124m'\u001B[39m\u001B[38;5;124mvertical\u001B[39m\u001B[38;5;124m'\u001B[39m:\n",
      "File \u001B[0;32m<__array_function__ internals>:180\u001B[0m, in \u001B[0;36mbroadcast_arrays\u001B[0;34m(*args, **kwargs)\u001B[0m\n",
      "File \u001B[0;32m~/PycharmProjects/H2_pathways_repo/env_H2/lib/python3.10/site-packages/numpy/lib/stride_tricks.py:540\u001B[0m, in \u001B[0;36mbroadcast_arrays\u001B[0;34m(subok, *args)\u001B[0m\n\u001B[1;32m    533\u001B[0m \u001B[38;5;66;03m# nditer is not used here to avoid the limit of 32 arrays.\u001B[39;00m\n\u001B[1;32m    534\u001B[0m \u001B[38;5;66;03m# Otherwise, something like the following one-liner would suffice:\u001B[39;00m\n\u001B[1;32m    535\u001B[0m \u001B[38;5;66;03m# return np.nditer(args, flags=['multi_index', 'zerosize_ok'],\u001B[39;00m\n\u001B[1;32m    536\u001B[0m \u001B[38;5;66;03m#                  order='C').itviews\u001B[39;00m\n\u001B[1;32m    538\u001B[0m args \u001B[38;5;241m=\u001B[39m [np\u001B[38;5;241m.\u001B[39marray(_m, copy\u001B[38;5;241m=\u001B[39m\u001B[38;5;28;01mFalse\u001B[39;00m, subok\u001B[38;5;241m=\u001B[39msubok) \u001B[38;5;28;01mfor\u001B[39;00m _m \u001B[38;5;129;01min\u001B[39;00m args]\n\u001B[0;32m--> 540\u001B[0m shape \u001B[38;5;241m=\u001B[39m \u001B[43m_broadcast_shape\u001B[49m\u001B[43m(\u001B[49m\u001B[38;5;241;43m*\u001B[39;49m\u001B[43margs\u001B[49m\u001B[43m)\u001B[49m\n\u001B[1;32m    542\u001B[0m \u001B[38;5;28;01mif\u001B[39;00m \u001B[38;5;28mall\u001B[39m(array\u001B[38;5;241m.\u001B[39mshape \u001B[38;5;241m==\u001B[39m shape \u001B[38;5;28;01mfor\u001B[39;00m array \u001B[38;5;129;01min\u001B[39;00m args):\n\u001B[1;32m    543\u001B[0m     \u001B[38;5;66;03m# Common case where nothing needs to be broadcasted.\u001B[39;00m\n\u001B[1;32m    544\u001B[0m     \u001B[38;5;28;01mreturn\u001B[39;00m args\n",
      "File \u001B[0;32m~/PycharmProjects/H2_pathways_repo/env_H2/lib/python3.10/site-packages/numpy/lib/stride_tricks.py:422\u001B[0m, in \u001B[0;36m_broadcast_shape\u001B[0;34m(*args)\u001B[0m\n\u001B[1;32m    417\u001B[0m \u001B[38;5;124;03m\"\"\"Returns the shape of the arrays that would result from broadcasting the\u001B[39;00m\n\u001B[1;32m    418\u001B[0m \u001B[38;5;124;03msupplied arrays against each other.\u001B[39;00m\n\u001B[1;32m    419\u001B[0m \u001B[38;5;124;03m\"\"\"\u001B[39;00m\n\u001B[1;32m    420\u001B[0m \u001B[38;5;66;03m# use the old-iterator because np.nditer does not handle size 0 arrays\u001B[39;00m\n\u001B[1;32m    421\u001B[0m \u001B[38;5;66;03m# consistently\u001B[39;00m\n\u001B[0;32m--> 422\u001B[0m b \u001B[38;5;241m=\u001B[39m \u001B[43mnp\u001B[49m\u001B[38;5;241;43m.\u001B[39;49m\u001B[43mbroadcast\u001B[49m\u001B[43m(\u001B[49m\u001B[38;5;241;43m*\u001B[39;49m\u001B[43margs\u001B[49m\u001B[43m[\u001B[49m\u001B[43m:\u001B[49m\u001B[38;5;241;43m32\u001B[39;49m\u001B[43m]\u001B[49m\u001B[43m)\u001B[49m\n\u001B[1;32m    423\u001B[0m \u001B[38;5;66;03m# unfortunately, it cannot handle 32 or more arguments directly\u001B[39;00m\n\u001B[1;32m    424\u001B[0m \u001B[38;5;28;01mfor\u001B[39;00m pos \u001B[38;5;129;01min\u001B[39;00m \u001B[38;5;28mrange\u001B[39m(\u001B[38;5;241m32\u001B[39m, \u001B[38;5;28mlen\u001B[39m(args), \u001B[38;5;241m31\u001B[39m):\n\u001B[1;32m    425\u001B[0m     \u001B[38;5;66;03m# ironically, np.broadcast does not properly handle np.broadcast\u001B[39;00m\n\u001B[1;32m    426\u001B[0m     \u001B[38;5;66;03m# objects (it treats them as scalars)\u001B[39;00m\n\u001B[1;32m    427\u001B[0m     \u001B[38;5;66;03m# use broadcasting to avoid allocating the full array\u001B[39;00m\n",
      "\u001B[0;31mValueError\u001B[0m: shape mismatch: objects cannot be broadcast to a single shape.  Mismatch is between arg 0 with shape (6,) and arg 3 with shape (7,)."
     ]
    },
    {
     "data": {
      "text/plain": "<Figure size 720x432 with 1 Axes>",
      "image/png": "[encoded data removed]"
     },
     "metadata": {
      "needs_background": "light"
     },
     "output_type": "display_data"
    }
   ],
   "source": [
    "# Cost breakdown for LH2 shipping\n",
    "fig, ax = plt.subplots(figsize=(10,6))\n",
    "plt.grid(True, axis = 'y')\n",
    "ax.set_axisbelow(True)\n",
    "x = np.arange(2025, 2051, step=5)\n",
    "LC = (liq_costs.loc[::5]['Liquefaction_costs']).apply(pd.to_numeric)\n",
    "EC = (et_costs.loc[::5]['Export_terminal_costs']).apply(pd.to_numeric)\n",
    "SC = (ship_costs.loc[::5]['Shipping_costs']).apply(pd.to_numeric)\n",
    "IC = (it_costs.loc[::5]['Import_terminal_costs']).apply(pd.to_numeric)\n",
    "width = 2       # the width of the bars: can also be len(x) sequence\n",
    "\n",
    "IC_plt = plt.bar(x,IC, width, label='Import terminal costs', bottom= LC + EC + SC)\n",
    "SC_plt = plt.bar(x,SC, width, label='Shipping costs', bottom= LC + EC)\n",
    "EC_plt = plt.bar(x,EC, width, label='Export terminal costs', bottom= LC)\n",
    "LC_plt = plt.bar(x,LC, width, label='Liquefaction costs')\n",
    "\n",
    "plt.title('Cost breakdown for LH2 shipping', fontweight='bold')\n",
    "plt.legend(loc='upper right')\n",
    "plt.ylabel('Transport cost [€/kg H2]')\n",
    "plt.xlabel('Years')\n",
    "plt.show()"
   ],
   "metadata": {
    "collapsed": false,
    "pycharm": {
     "name": "#%%\n"
    }
   }
  },
  {
   "cell_type": "markdown",
   "source": [
    "# Total seaborne transport costs"
   ],
   "metadata": {
    "collapsed": false,
    "pycharm": {
     "name": "#%% md\n"
    }
   }
  },
  {
   "cell_type": "code",
   "execution_count": 78,
   "outputs": [
    {
     "data": {
      "text/plain": "    Years       LH2_transport\n0    2025  1.7273406879205069\n1    2026  1.7048797007387633\n2    2027  1.6841640176722845\n3    2028  1.6628831320410762\n4    2029  1.6419511796762278\n5    2030  1.6214882657631948\n6    2031   1.595977454617882\n7    2032  1.5719614082981908\n8    2033   1.549926602281214\n9    2034  1.5270276729677343\n10   2035  1.5018354590338632\n11   2036  1.4745901921117222\n12   2037  1.4488165875038586\n13   2038  1.4249592731418235\n14   2039  1.4035976775706134\n15   2040  1.3817296983447214\n16   2041  1.3626438688549456\n17   2042   1.344499390664131\n18   2043   1.326938404889283\n19   2044  1.3095217822621947\n20   2045  1.2906741480720698\n21   2046  1.2688298491446073\n22   2047  1.2434936417386222\n23   2048  1.2162417790697093\n24   2049  1.1904316866310742\n25   2050  1.1679791398147372",
      "text/html": "<div>\n<style scoped>\n    .dataframe tbody tr th:only-of-type {\n        vertical-align: middle;\n    }\n\n    .dataframe tbody tr th {\n        vertical-align: top;\n    }\n\n    .dataframe thead th {\n        text-align: right;\n    }\n</style>\n<table border=\"1\" class=\"dataframe\">\n  <thead>\n    <tr style=\"text-align: right;\">\n      <th></th>\n      <th>Years</th>\n      <th>LH2_transport</th>\n    </tr>\n  </thead>\n  <tbody>\n    <tr>\n      <th>0</th>\n      <td>2025</td>\n      <td>1.7273406879205069</td>\n    </tr>\n    <tr>\n      <th>1</th>\n      <td>2026</td>\n      <td>1.7048797007387633</td>\n    </tr>\n    <tr>\n      <th>2</th>\n      <td>2027</td>\n      <td>1.6841640176722845</td>\n    </tr>\n    <tr>\n      <th>3</th>\n      <td>2028</td>\n      <td>1.6628831320410762</td>\n    </tr>\n    <tr>\n      <th>4</th>\n      <td>2029</td>\n      <td>1.6419511796762278</td>\n    </tr>\n    <tr>\n      <th>5</th>\n      <td>2030</td>\n      <td>1.6214882657631948</td>\n    </tr>\n    <tr>\n      <th>6</th>\n      <td>2031</td>\n      <td>1.595977454617882</td>\n    </tr>\n    <tr>\n      <th>7</th>\n      <td>2032</td>\n      <td>1.5719614082981908</td>\n    </tr>\n    <tr>\n      <th>8</th>\n      <td>2033</td>\n      <td>1.549926602281214</td>\n    </tr>\n    <tr>\n      <th>9</th>\n      <td>2034</td>\n      <td>1.5270276729677343</td>\n    </tr>\n    <tr>\n      <th>10</th>\n      <td>2035</td>\n      <td>1.5018354590338632</td>\n    </tr>\n    <tr>\n      <th>11</th>\n      <td>2036</td>\n      <td>1.4745901921117222</td>\n    </tr>\n    <tr>\n      <th>12</th>\n      <td>2037</td>\n      <td>1.4488165875038586</td>\n    </tr>\n    <tr>\n      <th>13</th>\n      <td>2038</td>\n      <td>1.4249592731418235</td>\n    </tr>\n    <tr>\n      <th>14</th>\n      <td>2039</td>\n      <td>1.4035976775706134</td>\n    </tr>\n    <tr>\n      <th>15</th>\n      <td>2040</td>\n      <td>1.3817296983447214</td>\n    </tr>\n    <tr>\n      <th>16</th>\n      <td>2041</td>\n      <td>1.3626438688549456</td>\n    </tr>\n    <tr>\n      <th>17</th>\n      <td>2042</td>\n      <td>1.344499390664131</td>\n    </tr>\n    <tr>\n      <th>18</th>\n      <td>2043</td>\n      <td>1.326938404889283</td>\n    </tr>\n    <tr>\n      <th>19</th>\n      <td>2044</td>\n      <td>1.3095217822621947</td>\n    </tr>\n    <tr>\n      <th>20</th>\n      <td>2045</td>\n      <td>1.2906741480720698</td>\n    </tr>\n    <tr>\n      <th>21</th>\n      <td>2046</td>\n      <td>1.2688298491446073</td>\n    </tr>\n    <tr>\n      <th>22</th>\n      <td>2047</td>\n      <td>1.2434936417386222</td>\n    </tr>\n    <tr>\n      <th>23</th>\n      <td>2048</td>\n      <td>1.2162417790697093</td>\n    </tr>\n    <tr>\n      <th>24</th>\n      <td>2049</td>\n      <td>1.1904316866310742</td>\n    </tr>\n    <tr>\n      <th>25</th>\n      <td>2050</td>\n      <td>1.1679791398147372</td>\n    </tr>\n  </tbody>\n</table>\n</div>"
     },
     "execution_count": 78,
     "metadata": {},
     "output_type": "execute_result"
    }
   ],
   "source": [
    "# Costs for seaborne transport via ship [€/kg_h2]\n",
    "sea_costs = pd.read_csv('/Users/jakob/PycharmProjects/H2_pathways_repo/data/processed/Seaborne_transport_costs.csv', delimiter=';', decimal=',')\n",
    "sea_costs"
   ],
   "metadata": {
    "collapsed": false,
    "pycharm": {
     "name": "#%%\n"
    }
   }
  },
  {
   "cell_type": "code",
   "execution_count": 79,
   "outputs": [],
   "source": [
    "def choose_minimal_transport_costs(TC_pipe_high,TC_sea):\n",
    "    result = min(TC_pipe_high, TC_sea)\n",
    "\n",
    "    return result"
   ],
   "metadata": {
    "collapsed": false,
    "pycharm": {
     "name": "#%%\n"
    }
   }
  },
  {
   "cell_type": "code",
   "execution_count": 80,
   "outputs": [
    {
     "ename": "KeyError",
     "evalue": "'Seaborne_transport_costs'",
     "output_type": "error",
     "traceback": [
      "\u001B[0;31m---------------------------------------------------------------------------\u001B[0m",
      "\u001B[0;31mKeyError\u001B[0m                                  Traceback (most recent call last)",
      "File \u001B[0;32m~/PycharmProjects/H2_pathways_repo/env_H2/lib/python3.10/site-packages/pandas/core/indexes/base.py:3621\u001B[0m, in \u001B[0;36mIndex.get_loc\u001B[0;34m(self, key, method, tolerance)\u001B[0m\n\u001B[1;32m   3620\u001B[0m \u001B[38;5;28;01mtry\u001B[39;00m:\n\u001B[0;32m-> 3621\u001B[0m     \u001B[38;5;28;01mreturn\u001B[39;00m \u001B[38;5;28;43mself\u001B[39;49m\u001B[38;5;241;43m.\u001B[39;49m\u001B[43m_engine\u001B[49m\u001B[38;5;241;43m.\u001B[39;49m\u001B[43mget_loc\u001B[49m\u001B[43m(\u001B[49m\u001B[43mcasted_key\u001B[49m\u001B[43m)\u001B[49m\n\u001B[1;32m   3622\u001B[0m \u001B[38;5;28;01mexcept\u001B[39;00m \u001B[38;5;167;01mKeyError\u001B[39;00m \u001B[38;5;28;01mas\u001B[39;00m err:\n",
      "File \u001B[0;32m~/PycharmProjects/H2_pathways_repo/env_H2/lib/python3.10/site-packages/pandas/_libs/index.pyx:136\u001B[0m, in \u001B[0;36mpandas._libs.index.IndexEngine.get_loc\u001B[0;34m()\u001B[0m\n",
      "File \u001B[0;32m~/PycharmProjects/H2_pathways_repo/env_H2/lib/python3.10/site-packages/pandas/_libs/index.pyx:163\u001B[0m, in \u001B[0;36mpandas._libs.index.IndexEngine.get_loc\u001B[0;34m()\u001B[0m\n",
      "File \u001B[0;32mpandas/_libs/hashtable_class_helper.pxi:5198\u001B[0m, in \u001B[0;36mpandas._libs.hashtable.PyObjectHashTable.get_item\u001B[0;34m()\u001B[0m\n",
      "File \u001B[0;32mpandas/_libs/hashtable_class_helper.pxi:5206\u001B[0m, in \u001B[0;36mpandas._libs.hashtable.PyObjectHashTable.get_item\u001B[0;34m()\u001B[0m\n",
      "\u001B[0;31mKeyError\u001B[0m: 'Seaborne_transport_costs'",
      "\nThe above exception was the direct cause of the following exception:\n",
      "\u001B[0;31mKeyError\u001B[0m                                  Traceback (most recent call last)",
      "Input \u001B[0;32mIn [80]\u001B[0m, in \u001B[0;36m<cell line: 5>\u001B[0;34m()\u001B[0m\n\u001B[1;32m      3\u001B[0m result\u001B[38;5;241m.\u001B[39mindex\u001B[38;5;241m.\u001B[39mname \u001B[38;5;241m=\u001B[39m \u001B[38;5;124m'\u001B[39m\u001B[38;5;124mYears\u001B[39m\u001B[38;5;124m'\u001B[39m\n\u001B[1;32m      5\u001B[0m \u001B[38;5;28;01mfor\u001B[39;00m year \u001B[38;5;129;01min\u001B[39;00m years:\n\u001B[1;32m      6\u001B[0m     \u001B[38;5;66;03m# get all costshas\u001B[39;00m\n\u001B[0;32m----> 7\u001B[0m     TC_sea \u001B[38;5;241m=\u001B[39m \u001B[38;5;28mfloat\u001B[39m(\u001B[43msea_costs\u001B[49m\u001B[43m[\u001B[49m\u001B[43msea_costs\u001B[49m\u001B[38;5;241;43m.\u001B[39;49m\u001B[43mYears\u001B[49m\u001B[43m \u001B[49m\u001B[38;5;241;43m==\u001B[39;49m\u001B[43m \u001B[49m\u001B[43myear\u001B[49m\u001B[43m]\u001B[49m\u001B[43m[\u001B[49m\u001B[38;5;124;43m'\u001B[39;49m\u001B[38;5;124;43mSeaborne_transport_costs\u001B[39;49m\u001B[38;5;124;43m'\u001B[39;49m\u001B[43m]\u001B[49m)\n\u001B[1;32m      9\u001B[0m     \u001B[38;5;66;03m# calculate costs of specific year\u001B[39;00m\n\u001B[1;32m     10\u001B[0m     result\u001B[38;5;241m.\u001B[39mMinimal_transport_costs\u001B[38;5;241m.\u001B[39mloc[year] \u001B[38;5;241m=\u001B[39m choose_minimal_transport_costs(TC_pipe_high\u001B[38;5;241m=\u001B[39mTC_pipe_high,TC_sea\u001B[38;5;241m=\u001B[39mTC_sea)\n",
      "File \u001B[0;32m~/PycharmProjects/H2_pathways_repo/env_H2/lib/python3.10/site-packages/pandas/core/frame.py:3505\u001B[0m, in \u001B[0;36mDataFrame.__getitem__\u001B[0;34m(self, key)\u001B[0m\n\u001B[1;32m   3503\u001B[0m \u001B[38;5;28;01mif\u001B[39;00m \u001B[38;5;28mself\u001B[39m\u001B[38;5;241m.\u001B[39mcolumns\u001B[38;5;241m.\u001B[39mnlevels \u001B[38;5;241m>\u001B[39m \u001B[38;5;241m1\u001B[39m:\n\u001B[1;32m   3504\u001B[0m     \u001B[38;5;28;01mreturn\u001B[39;00m \u001B[38;5;28mself\u001B[39m\u001B[38;5;241m.\u001B[39m_getitem_multilevel(key)\n\u001B[0;32m-> 3505\u001B[0m indexer \u001B[38;5;241m=\u001B[39m \u001B[38;5;28;43mself\u001B[39;49m\u001B[38;5;241;43m.\u001B[39;49m\u001B[43mcolumns\u001B[49m\u001B[38;5;241;43m.\u001B[39;49m\u001B[43mget_loc\u001B[49m\u001B[43m(\u001B[49m\u001B[43mkey\u001B[49m\u001B[43m)\u001B[49m\n\u001B[1;32m   3506\u001B[0m \u001B[38;5;28;01mif\u001B[39;00m is_integer(indexer):\n\u001B[1;32m   3507\u001B[0m     indexer \u001B[38;5;241m=\u001B[39m [indexer]\n",
      "File \u001B[0;32m~/PycharmProjects/H2_pathways_repo/env_H2/lib/python3.10/site-packages/pandas/core/indexes/base.py:3623\u001B[0m, in \u001B[0;36mIndex.get_loc\u001B[0;34m(self, key, method, tolerance)\u001B[0m\n\u001B[1;32m   3621\u001B[0m     \u001B[38;5;28;01mreturn\u001B[39;00m \u001B[38;5;28mself\u001B[39m\u001B[38;5;241m.\u001B[39m_engine\u001B[38;5;241m.\u001B[39mget_loc(casted_key)\n\u001B[1;32m   3622\u001B[0m \u001B[38;5;28;01mexcept\u001B[39;00m \u001B[38;5;167;01mKeyError\u001B[39;00m \u001B[38;5;28;01mas\u001B[39;00m err:\n\u001B[0;32m-> 3623\u001B[0m     \u001B[38;5;28;01mraise\u001B[39;00m \u001B[38;5;167;01mKeyError\u001B[39;00m(key) \u001B[38;5;28;01mfrom\u001B[39;00m \u001B[38;5;21;01merr\u001B[39;00m\n\u001B[1;32m   3624\u001B[0m \u001B[38;5;28;01mexcept\u001B[39;00m \u001B[38;5;167;01mTypeError\u001B[39;00m:\n\u001B[1;32m   3625\u001B[0m     \u001B[38;5;66;03m# If we have a listlike key, _check_indexing_error will raise\u001B[39;00m\n\u001B[1;32m   3626\u001B[0m     \u001B[38;5;66;03m#  InvalidIndexError. Otherwise we fall through and re-raise\u001B[39;00m\n\u001B[1;32m   3627\u001B[0m     \u001B[38;5;66;03m#  the TypeError.\u001B[39;00m\n\u001B[1;32m   3628\u001B[0m     \u001B[38;5;28mself\u001B[39m\u001B[38;5;241m.\u001B[39m_check_indexing_error(key)\n",
      "\u001B[0;31mKeyError\u001B[0m: 'Seaborne_transport_costs'"
     ]
    }
   ],
   "source": [
    "years = np.arange(2020, 2051)\n",
    "result = pd.DataFrame(index=years, columns=['Minimal_transport_costs'])\n",
    "result.index.name = 'Years'\n",
    "\n",
    "for year in years:\n",
    "    # get all costs\n",
    "    TC_sea = float(sea_costs[sea_costs.Years == year]['Seaborne_transport_costs'])\n",
    "\n",
    "    # calculate costs of specific year\n",
    "    result.Minimal_transport_costs.loc[year] = choose_minimal_transport_costs(TC_pipe_high=TC_pipe_high,TC_sea=TC_sea)\n",
    "\n",
    "result"
   ],
   "metadata": {
    "collapsed": false,
    "pycharm": {
     "name": "#%%\n"
    }
   }
  },
  {
   "cell_type": "code",
   "execution_count": 81,
   "outputs": [],
   "source": [
    "# Create csv file from results dataframe\n",
    "path_csv= r'/Users/jakob/PycharmProjects/H2_pathways_repo/data/processed'\n",
    "output_file = os.path.join(path_csv, 'Minimal_transport_costs.csv')\n",
    "result.to_csv(output_file, sep=';')"
   ],
   "metadata": {
    "collapsed": false,
    "pycharm": {
     "name": "#%%\n"
    }
   }
  },
  {
   "cell_type": "code",
   "execution_count": 574,
   "outputs": [
    {
     "data": {
      "text/plain": "<Figure size 432x288 with 1 Axes>",
      "image/png": "[encoded data removed]"
     },
     "metadata": {
      "needs_background": "light"
     },
     "output_type": "display_data"
    }
   ],
   "source": [
    "# Plot cost curve for seaborne transport\n",
    "plt.plot(result, color='cyan', linestyle='dashed')\n",
    "plt.title('Cost curve for transport')\n",
    "plt.legend(['Minimal transport costs in $/kg_H2'])\n",
    "plt.xlabel('Year')\n",
    "plt.ylabel('Cost [$/kg_H2]')\n",
    "plt.show()\n"
   ],
   "metadata": {
    "collapsed": false,
    "pycharm": {
     "name": "#%%\n"
    }
   }
  },
  {
   "cell_type": "code",
   "execution_count": null,
   "outputs": [],
   "source": [],
   "metadata": {
    "collapsed": false,
    "pycharm": {
     "name": "#%%\n"
    }
   }
  }
 ],
 "metadata": {
  "kernelspec": {
   "display_name": "Python 3",
   "language": "python",
   "name": "python3"
  },
  "language_info": {
   "codemirror_mode": {
    "name": "ipython",
    "version": 2
   },
   "file_extension": ".py",
   "mimetype": "text/x-python",
   "name": "python",
   "nbconvert_exporter": "python",
   "pygments_lexer": "ipython2",
   "version": "2.7.6"
  }
 },
 "nbformat": 4,
 "nbformat_minor": 0
}
