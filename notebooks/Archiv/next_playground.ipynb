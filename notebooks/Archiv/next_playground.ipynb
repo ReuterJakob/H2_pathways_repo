{
 "cells": [
  {
   "cell_type": "code",
   "execution_count": 2,
   "metadata": {
    "collapsed": true,
    "pycharm": {
     "name": "#%%\n"
    }
   },
   "outputs": [],
   "source": [
    "import pandas as pd\n",
    "from matplotlib import pyplot as plt\n",
    "# read Capex for NGR in  year y\n"
   ]
  },
  {
   "cell_type": "code",
   "execution_count": 3,
   "outputs": [
    {
     "name": "stdout",
     "output_type": "stream",
     "text": [
      "                                 import pandas as pd\n",
      "0      # import cost data from EWI Supply cost paper\n",
      "1             #Define variables for LCOH calculation\n",
      "2                                                #%%\n",
      "3                    # read Capex for NGR in  year y\n",
      "4  ngr_time_inputs = pd.read_csv(\"/Users/jakob/PycharmP...\n",
      "5                                          ngr_time_inputs\n",
      "6  #read techno-economic assumptions for hydrogen...\n",
      "7  tea_ngr = pd.read_csv(\"/Users/jakob/PycharmPro...\n",
      "8                                     print(tea_ngr)\n",
      "9                                             # read\n"
     ]
    }
   ],
   "source": [
    "ngr_time_inputs = pd.read_csv(\"/Users/jakob/PycharmProjects/H2_pathways_repo/notebooks/Databank.py\")\n",
    "print(ngr_time_inputs)\n"
   ],
   "metadata": {
    "collapsed": false,
    "pycharm": {
     "name": "#%%\n"
    }
   }
  },
  {
   "cell_type": "code",
   "execution_count": 4,
   "outputs": [
    {
     "ename": "NameError",
     "evalue": "name 'lcoe' is not defined",
     "output_type": "error",
     "traceback": [
      "\u001B[0;31m---------------------------------------------------------------------------\u001B[0m",
      "\u001B[0;31mNameError\u001B[0m                                 Traceback (most recent call last)",
      "Input \u001B[0;32mIn [4]\u001B[0m, in \u001B[0;36m<cell line: 1>\u001B[0;34m()\u001B[0m\n\u001B[0;32m----> 1\u001B[0m nor \u001B[38;5;241m=\u001B[39m \u001B[43mlcoe\u001B[49m\u001B[38;5;241m.\u001B[39mloc[\u001B[38;5;241m503\u001B[39m, \u001B[38;5;241m2020\u001B[39m:\u001B[38;5;241m2050\u001B[39m]\n\u001B[1;32m      2\u001B[0m nor\n\u001B[1;32m      3\u001B[0m \u001B[38;5;66;03m#Select years\u001B[39;00m\n",
      "\u001B[0;31mNameError\u001B[0m: name 'lcoe' is not defined"
     ]
    }
   ],
   "source": [
    "nor = lcoe.loc[503, 2020:2050]\n",
    "nor\n",
    "#Select years\n",
    "years = lcoe.loc[1, 2020:2050]\n",
    "years\n",
    "#Shor Nor\n",
    "plt.plot(nor, color='red', linestyle='dashed')\n",
    "plt.title('LCOE cost curve for NOR')\n",
    "plt.legend(['LCOE in $/kg_H2'])\n",
    "plt.xlabel('Year')\n",
    "plt.ylabel('Cost')\n",
    "plt.show()\n"
   ],
   "metadata": {
    "collapsed": false,
    "pycharm": {
     "name": "#%%\n"
    }
   }
  },
  {
   "cell_type": "code",
   "execution_count": null,
   "outputs": [],
   "source": [],
   "metadata": {
    "collapsed": false,
    "pycharm": {
     "name": "#%%\n"
    }
   }
  }
 ],
 "metadata": {
  "kernelspec": {
   "display_name": "Python 3",
   "language": "python",
   "name": "python3"
  },
  "language_info": {
   "codemirror_mode": {
    "name": "ipython",
    "version": 2
   },
   "file_extension": ".py",
   "mimetype": "text/x-python",
   "name": "python",
   "nbconvert_exporter": "python",
   "pygments_lexer": "ipython2",
   "version": "2.7.6"
  }
 },
 "nbformat": 4,
 "nbformat_minor": 0
}
