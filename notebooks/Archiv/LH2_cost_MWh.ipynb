{
 "cells": [
  {
   "cell_type": "markdown",
   "source": [
    "## Read inputs"
   ],
   "metadata": {
    "collapsed": false,
    "pycharm": {
     "name": "#%% md\n"
    }
   }
  },
  {
   "cell_type": "code",
   "execution_count": 6,
   "outputs": [],
   "source": [
    "# Read techno-economic assumptions and transport distances for transport cost calculation\n",
    "import numpy as np\n",
    "import pandas as pd\n",
    "from matplotlib import pyplot as plt\n",
    "import os"
   ],
   "metadata": {
    "collapsed": false,
    "pycharm": {
     "name": "#%%\n"
    }
   }
  },
  {
   "cell_type": "code",
   "execution_count": 52,
   "outputs": [
    {
     "data": {
      "text/plain": "                                                                                        Ref  \\\nProperties                                                                                    \nProperties - Gas density [kg/m3]                                                   BOG 2020   \nProperties - LHV [MJ/kg]                                                           BOG 2020   \nProperties - LHV [kWh/kg]                 https://www.iea-amf.org/content/fuel_informati...   \nProperties - LHV [kWh/m3]                  https://www.rechargenews.com/energy-transitio...   \nProperties - Boiling point at 1 Bar [°C]                                                NaN   \n...                                                                                     ...   \nCAPEX ($/kW-H2), incl. Util.                                                        EWI PTX   \nOPEX ($/kW-H2/a), incl. Util.                                                       EWI PTX   \nElectricity use (kWh/kWh-H2                                                         EWI PTX   \nUtilisation                                                                         EWI PTX   \nReconversion - Lifetime [Years]                                                     EWI PTX   \n\n                                            LH2      2020       2021  \\\nProperties                                                             \nProperties - Gas density [kg/m3]           71.1       NaN        NaN   \nProperties - LHV [MJ/kg]                    120       NaN        NaN   \nProperties - LHV [kWh/kg]                 33.33       NaN        NaN   \nProperties - LHV [kWh/m3]                  2350       NaN        NaN   \nProperties - Boiling point at 1 Bar [°C]   -253       NaN        NaN   \n...                                         ...       ...        ...   \nCAPEX ($/kW-H2), incl. Util.                NaN       NaN        NaN   \nOPEX ($/kW-H2/a), incl. Util.               NaN  57.69591  57.118951   \nElectricity use (kWh/kWh-H2                0.01   0.01000   0.010000   \nUtilisation                                 NaN   0.90000   0.900000   \nReconversion - Lifetime [Years]              30       NaN        NaN   \n\n                                               2022       2023       2024  \\\nProperties                                                                  \nProperties - Gas density [kg/m3]                NaN        NaN        NaN   \nProperties - LHV [MJ/kg]                        NaN        NaN        NaN   \nProperties - LHV [kWh/kg]                       NaN        NaN        NaN   \nProperties - LHV [kWh/m3]                       NaN        NaN        NaN   \nProperties - Boiling point at 1 Bar [°C]        NaN        NaN        NaN   \n...                                             ...        ...        ...   \nCAPEX ($/kW-H2), incl. Util.                    NaN        NaN        NaN   \nOPEX ($/kW-H2/a), incl. Util.             56.541992  55.965033  55.388074   \nElectricity use (kWh/kWh-H2                0.010000   0.010000   0.010000   \nUtilisation                                0.900000   0.900000   0.900000   \nReconversion - Lifetime [Years]                 NaN        NaN        NaN   \n\n                                               2025       2026       2027  \\\nProperties                                                                  \nProperties - Gas density [kg/m3]                NaN        NaN        NaN   \nProperties - LHV [MJ/kg]                        NaN        NaN        NaN   \nProperties - LHV [kWh/kg]                       NaN        NaN        NaN   \nProperties - LHV [kWh/m3]                       NaN        NaN        NaN   \nProperties - Boiling point at 1 Bar [°C]        NaN        NaN        NaN   \n...                                             ...        ...        ...   \nCAPEX ($/kW-H2), incl. Util.                    NaN        NaN        NaN   \nOPEX ($/kW-H2/a), incl. Util.             54.811115  54.234156  53.657197   \nElectricity use (kWh/kWh-H2                0.010000   0.010000   0.010000   \nUtilisation                                0.900000   0.900000   0.900000   \nReconversion - Lifetime [Years]                 NaN        NaN        NaN   \n\n                                          ...       2041       2042  \\\nProperties                                ...                         \nProperties - Gas density [kg/m3]          ...        NaN        NaN   \nProperties - LHV [MJ/kg]                  ...        NaN        NaN   \nProperties - LHV [kWh/kg]                 ...        NaN        NaN   \nProperties - LHV [kWh/m3]                 ...        NaN        NaN   \nProperties - Boiling point at 1 Bar [°C]  ...        NaN        NaN   \n...                                       ...        ...        ...   \nCAPEX ($/kW-H2), incl. Util.              ...        NaN        NaN   \nOPEX ($/kW-H2/a), incl. Util.             ...  37.646582  36.348424   \nElectricity use (kWh/kWh-H2               ...   0.010000   0.010000   \nUtilisation                               ...   0.900000   0.900000   \nReconversion - Lifetime [Years]           ...        NaN        NaN   \n\n                                               2043       2044      2045  \\\nProperties                                                                 \nProperties - Gas density [kg/m3]                NaN        NaN       NaN   \nProperties - LHV [MJ/kg]                        NaN        NaN       NaN   \nProperties - LHV [kWh/kg]                       NaN        NaN       NaN   \nProperties - LHV [kWh/m3]                       NaN        NaN       NaN   \nProperties - Boiling point at 1 Bar [°C]        NaN        NaN       NaN   \n...                                             ...        ...       ...   \nCAPEX ($/kW-H2), incl. Util.                    NaN        NaN       NaN   \nOPEX ($/kW-H2/a), incl. Util.             35.050266  33.752108  32.45395   \nElectricity use (kWh/kWh-H2                0.010000   0.010000   0.01000   \nUtilisation                                0.900000   0.900000   0.90000   \nReconversion - Lifetime [Years]                 NaN        NaN       NaN   \n\n                                               2046       2047       2048  \\\nProperties                                                                  \nProperties - Gas density [kg/m3]                NaN        NaN        NaN   \nProperties - LHV [MJ/kg]                        NaN        NaN        NaN   \nProperties - LHV [kWh/kg]                       NaN        NaN        NaN   \nProperties - LHV [kWh/m3]                       NaN        NaN        NaN   \nProperties - Boiling point at 1 Bar [°C]        NaN        NaN        NaN   \n...                                             ...        ...        ...   \nCAPEX ($/kW-H2), incl. Util.                    NaN        NaN        NaN   \nOPEX ($/kW-H2/a), incl. Util.             31.155792  29.857634  28.559476   \nElectricity use (kWh/kWh-H2                0.010000   0.010000   0.010000   \nUtilisation                                0.900000   0.900000   0.900000   \nReconversion - Lifetime [Years]                 NaN        NaN        NaN   \n\n                                               2049      2050  \nProperties                                                     \nProperties - Gas density [kg/m3]                NaN       NaN  \nProperties - LHV [MJ/kg]                        NaN       NaN  \nProperties - LHV [kWh/kg]                       NaN       NaN  \nProperties - LHV [kWh/m3]                       NaN       NaN  \nProperties - Boiling point at 1 Bar [°C]        NaN       NaN  \n...                                             ...       ...  \nCAPEX ($/kW-H2), incl. Util.                    NaN       NaN  \nOPEX ($/kW-H2/a), incl. Util.             27.261318  25.96316  \nElectricity use (kWh/kWh-H2                0.010000   0.01000  \nUtilisation                                0.900000   0.90000  \nReconversion - Lifetime [Years]                 NaN       NaN  \n\n[121 rows x 33 columns]",
      "text/html": "<div>\n<style scoped>\n    .dataframe tbody tr th:only-of-type {\n        vertical-align: middle;\n    }\n\n    .dataframe tbody tr th {\n        vertical-align: top;\n    }\n\n    .dataframe thead th {\n        text-align: right;\n    }\n</style>\n<table border=\"1\" class=\"dataframe\">\n  <thead>\n    <tr style=\"text-align: right;\">\n      <th></th>\n      <th>Ref</th>\n      <th>LH2</th>\n      <th>2020</th>\n      <th>2021</th>\n      <th>2022</th>\n      <th>2023</th>\n      <th>2024</th>\n      <th>2025</th>\n      <th>2026</th>\n      <th>2027</th>\n      <th>...</th>\n      <th>2041</th>\n      <th>2042</th>\n      <th>2043</th>\n      <th>2044</th>\n      <th>2045</th>\n      <th>2046</th>\n      <th>2047</th>\n      <th>2048</th>\n      <th>2049</th>\n      <th>2050</th>\n    </tr>\n    <tr>\n      <th>Properties</th>\n      <th></th>\n      <th></th>\n      <th></th>\n      <th></th>\n      <th></th>\n      <th></th>\n      <th></th>\n      <th></th>\n      <th></th>\n      <th></th>\n      <th></th>\n      <th></th>\n      <th></th>\n      <th></th>\n      <th></th>\n      <th></th>\n      <th></th>\n      <th></th>\n      <th></th>\n      <th></th>\n      <th></th>\n    </tr>\n  </thead>\n  <tbody>\n    <tr>\n      <th>Properties - Gas density [kg/m3]</th>\n      <td>BOG 2020</td>\n      <td>71.1</td>\n      <td>NaN</td>\n      <td>NaN</td>\n      <td>NaN</td>\n      <td>NaN</td>\n      <td>NaN</td>\n      <td>NaN</td>\n      <td>NaN</td>\n      <td>NaN</td>\n      <td>...</td>\n      <td>NaN</td>\n      <td>NaN</td>\n      <td>NaN</td>\n      <td>NaN</td>\n      <td>NaN</td>\n      <td>NaN</td>\n      <td>NaN</td>\n      <td>NaN</td>\n      <td>NaN</td>\n      <td>NaN</td>\n    </tr>\n    <tr>\n      <th>Properties - LHV [MJ/kg]</th>\n      <td>BOG 2020</td>\n      <td>120</td>\n      <td>NaN</td>\n      <td>NaN</td>\n      <td>NaN</td>\n      <td>NaN</td>\n      <td>NaN</td>\n      <td>NaN</td>\n      <td>NaN</td>\n      <td>NaN</td>\n      <td>...</td>\n      <td>NaN</td>\n      <td>NaN</td>\n      <td>NaN</td>\n      <td>NaN</td>\n      <td>NaN</td>\n      <td>NaN</td>\n      <td>NaN</td>\n      <td>NaN</td>\n      <td>NaN</td>\n      <td>NaN</td>\n    </tr>\n    <tr>\n      <th>Properties - LHV [kWh/kg]</th>\n      <td>https://www.iea-amf.org/content/fuel_informati...</td>\n      <td>33.33</td>\n      <td>NaN</td>\n      <td>NaN</td>\n      <td>NaN</td>\n      <td>NaN</td>\n      <td>NaN</td>\n      <td>NaN</td>\n      <td>NaN</td>\n      <td>NaN</td>\n      <td>...</td>\n      <td>NaN</td>\n      <td>NaN</td>\n      <td>NaN</td>\n      <td>NaN</td>\n      <td>NaN</td>\n      <td>NaN</td>\n      <td>NaN</td>\n      <td>NaN</td>\n      <td>NaN</td>\n      <td>NaN</td>\n    </tr>\n    <tr>\n      <th>Properties - LHV [kWh/m3]</th>\n      <td>https://www.rechargenews.com/energy-transitio...</td>\n      <td>2350</td>\n      <td>NaN</td>\n      <td>NaN</td>\n      <td>NaN</td>\n      <td>NaN</td>\n      <td>NaN</td>\n      <td>NaN</td>\n      <td>NaN</td>\n      <td>NaN</td>\n      <td>...</td>\n      <td>NaN</td>\n      <td>NaN</td>\n      <td>NaN</td>\n      <td>NaN</td>\n      <td>NaN</td>\n      <td>NaN</td>\n      <td>NaN</td>\n      <td>NaN</td>\n      <td>NaN</td>\n      <td>NaN</td>\n    </tr>\n    <tr>\n      <th>Properties - Boiling point at 1 Bar [°C]</th>\n      <td>NaN</td>\n      <td>-253</td>\n      <td>NaN</td>\n      <td>NaN</td>\n      <td>NaN</td>\n      <td>NaN</td>\n      <td>NaN</td>\n      <td>NaN</td>\n      <td>NaN</td>\n      <td>NaN</td>\n      <td>...</td>\n      <td>NaN</td>\n      <td>NaN</td>\n      <td>NaN</td>\n      <td>NaN</td>\n      <td>NaN</td>\n      <td>NaN</td>\n      <td>NaN</td>\n      <td>NaN</td>\n      <td>NaN</td>\n      <td>NaN</td>\n    </tr>\n    <tr>\n      <th>...</th>\n      <td>...</td>\n      <td>...</td>\n      <td>...</td>\n      <td>...</td>\n      <td>...</td>\n      <td>...</td>\n      <td>...</td>\n      <td>...</td>\n      <td>...</td>\n      <td>...</td>\n      <td>...</td>\n      <td>...</td>\n      <td>...</td>\n      <td>...</td>\n      <td>...</td>\n      <td>...</td>\n      <td>...</td>\n      <td>...</td>\n      <td>...</td>\n      <td>...</td>\n      <td>...</td>\n    </tr>\n    <tr>\n      <th>CAPEX ($/kW-H2), incl. Util.</th>\n      <td>EWI PTX</td>\n      <td>NaN</td>\n      <td>NaN</td>\n      <td>NaN</td>\n      <td>NaN</td>\n      <td>NaN</td>\n      <td>NaN</td>\n      <td>NaN</td>\n      <td>NaN</td>\n      <td>NaN</td>\n      <td>...</td>\n      <td>NaN</td>\n      <td>NaN</td>\n      <td>NaN</td>\n      <td>NaN</td>\n      <td>NaN</td>\n      <td>NaN</td>\n      <td>NaN</td>\n      <td>NaN</td>\n      <td>NaN</td>\n      <td>NaN</td>\n    </tr>\n    <tr>\n      <th>OPEX ($/kW-H2/a), incl. Util.</th>\n      <td>EWI PTX</td>\n      <td>NaN</td>\n      <td>57.69591</td>\n      <td>57.118951</td>\n      <td>56.541992</td>\n      <td>55.965033</td>\n      <td>55.388074</td>\n      <td>54.811115</td>\n      <td>54.234156</td>\n      <td>53.657197</td>\n      <td>...</td>\n      <td>37.646582</td>\n      <td>36.348424</td>\n      <td>35.050266</td>\n      <td>33.752108</td>\n      <td>32.45395</td>\n      <td>31.155792</td>\n      <td>29.857634</td>\n      <td>28.559476</td>\n      <td>27.261318</td>\n      <td>25.96316</td>\n    </tr>\n    <tr>\n      <th>Electricity use (kWh/kWh-H2</th>\n      <td>EWI PTX</td>\n      <td>0.01</td>\n      <td>0.01000</td>\n      <td>0.010000</td>\n      <td>0.010000</td>\n      <td>0.010000</td>\n      <td>0.010000</td>\n      <td>0.010000</td>\n      <td>0.010000</td>\n      <td>0.010000</td>\n      <td>...</td>\n      <td>0.010000</td>\n      <td>0.010000</td>\n      <td>0.010000</td>\n      <td>0.010000</td>\n      <td>0.01000</td>\n      <td>0.010000</td>\n      <td>0.010000</td>\n      <td>0.010000</td>\n      <td>0.010000</td>\n      <td>0.01000</td>\n    </tr>\n    <tr>\n      <th>Utilisation</th>\n      <td>EWI PTX</td>\n      <td>NaN</td>\n      <td>0.90000</td>\n      <td>0.900000</td>\n      <td>0.900000</td>\n      <td>0.900000</td>\n      <td>0.900000</td>\n      <td>0.900000</td>\n      <td>0.900000</td>\n      <td>0.900000</td>\n      <td>...</td>\n      <td>0.900000</td>\n      <td>0.900000</td>\n      <td>0.900000</td>\n      <td>0.900000</td>\n      <td>0.90000</td>\n      <td>0.900000</td>\n      <td>0.900000</td>\n      <td>0.900000</td>\n      <td>0.900000</td>\n      <td>0.90000</td>\n    </tr>\n    <tr>\n      <th>Reconversion - Lifetime [Years]</th>\n      <td>EWI PTX</td>\n      <td>30</td>\n      <td>NaN</td>\n      <td>NaN</td>\n      <td>NaN</td>\n      <td>NaN</td>\n      <td>NaN</td>\n      <td>NaN</td>\n      <td>NaN</td>\n      <td>NaN</td>\n      <td>...</td>\n      <td>NaN</td>\n      <td>NaN</td>\n      <td>NaN</td>\n      <td>NaN</td>\n      <td>NaN</td>\n      <td>NaN</td>\n      <td>NaN</td>\n      <td>NaN</td>\n      <td>NaN</td>\n      <td>NaN</td>\n    </tr>\n  </tbody>\n</table>\n<p>121 rows × 33 columns</p>\n</div>"
     },
     "execution_count": 52,
     "metadata": {},
     "output_type": "execute_result"
    }
   ],
   "source": [
    "tea_lh2 = pd.read_excel(\"/Users/jakob/PycharmProjects/H2_pathways_repo/data/raw/20220921_Data_Assumptions.xlsx\", sheet_name='LH2', decimal=',', index_col=0)\n",
    "tea_lh2"
   ],
   "metadata": {
    "collapsed": false,
    "pycharm": {
     "name": "#%%\n"
    }
   }
  },
  {
   "cell_type": "code",
   "execution_count": 53,
   "outputs": [
    {
     "data": {
      "text/plain": "           Origin_Country Destination_Country  sea distance (km)  \\\n0    United Arab Emirates             Germany           12443.10   \n1                  Angola             Germany            9809.65   \n2               Argentina             Germany           14063.90   \n3                 Austria             Germany            6005.96   \n4               Australia             Germany           21212.10   \n..                    ...                 ...                ...   \n955           Philippines               China            1782.35   \n956               Iceland               China           20454.60   \n957      Papua New Guinea               China            6298.52   \n958              Cameroon               China           19717.70   \n959          South Africa               China           12853.50   \n\n     onshore distance (km)  offshore distance (km) Starting point  \n0                      NaN                     NaN            NaN  \n1                      NaN                     NaN            NaN  \n2                      NaN                     NaN            NaN  \n3                    500.0                     0.0            NaN  \n4                      NaN                     NaN            NaN  \n..                     ...                     ...            ...  \n955                    NaN                     NaN            NaN  \n956                    NaN                     NaN            NaN  \n957                    NaN                     NaN            NaN  \n958                    NaN                     NaN            NaN  \n959                    NaN                     NaN            NaN  \n\n[960 rows x 6 columns]",
      "text/html": "<div>\n<style scoped>\n    .dataframe tbody tr th:only-of-type {\n        vertical-align: middle;\n    }\n\n    .dataframe tbody tr th {\n        vertical-align: top;\n    }\n\n    .dataframe thead th {\n        text-align: right;\n    }\n</style>\n<table border=\"1\" class=\"dataframe\">\n  <thead>\n    <tr style=\"text-align: right;\">\n      <th></th>\n      <th>Origin_Country</th>\n      <th>Destination_Country</th>\n      <th>sea distance (km)</th>\n      <th>onshore distance (km)</th>\n      <th>offshore distance (km)</th>\n      <th>Starting point</th>\n    </tr>\n  </thead>\n  <tbody>\n    <tr>\n      <th>0</th>\n      <td>United Arab Emirates</td>\n      <td>Germany</td>\n      <td>12443.10</td>\n      <td>NaN</td>\n      <td>NaN</td>\n      <td>NaN</td>\n    </tr>\n    <tr>\n      <th>1</th>\n      <td>Angola</td>\n      <td>Germany</td>\n      <td>9809.65</td>\n      <td>NaN</td>\n      <td>NaN</td>\n      <td>NaN</td>\n    </tr>\n    <tr>\n      <th>2</th>\n      <td>Argentina</td>\n      <td>Germany</td>\n      <td>14063.90</td>\n      <td>NaN</td>\n      <td>NaN</td>\n      <td>NaN</td>\n    </tr>\n    <tr>\n      <th>3</th>\n      <td>Austria</td>\n      <td>Germany</td>\n      <td>6005.96</td>\n      <td>500.0</td>\n      <td>0.0</td>\n      <td>NaN</td>\n    </tr>\n    <tr>\n      <th>4</th>\n      <td>Australia</td>\n      <td>Germany</td>\n      <td>21212.10</td>\n      <td>NaN</td>\n      <td>NaN</td>\n      <td>NaN</td>\n    </tr>\n    <tr>\n      <th>...</th>\n      <td>...</td>\n      <td>...</td>\n      <td>...</td>\n      <td>...</td>\n      <td>...</td>\n      <td>...</td>\n    </tr>\n    <tr>\n      <th>955</th>\n      <td>Philippines</td>\n      <td>China</td>\n      <td>1782.35</td>\n      <td>NaN</td>\n      <td>NaN</td>\n      <td>NaN</td>\n    </tr>\n    <tr>\n      <th>956</th>\n      <td>Iceland</td>\n      <td>China</td>\n      <td>20454.60</td>\n      <td>NaN</td>\n      <td>NaN</td>\n      <td>NaN</td>\n    </tr>\n    <tr>\n      <th>957</th>\n      <td>Papua New Guinea</td>\n      <td>China</td>\n      <td>6298.52</td>\n      <td>NaN</td>\n      <td>NaN</td>\n      <td>NaN</td>\n    </tr>\n    <tr>\n      <th>958</th>\n      <td>Cameroon</td>\n      <td>China</td>\n      <td>19717.70</td>\n      <td>NaN</td>\n      <td>NaN</td>\n      <td>NaN</td>\n    </tr>\n    <tr>\n      <th>959</th>\n      <td>South Africa</td>\n      <td>China</td>\n      <td>12853.50</td>\n      <td>NaN</td>\n      <td>NaN</td>\n      <td>NaN</td>\n    </tr>\n  </tbody>\n</table>\n<p>960 rows × 6 columns</p>\n</div>"
     },
     "execution_count": 53,
     "metadata": {},
     "output_type": "execute_result"
    }
   ],
   "source": [
    "tra_d = pd.read_excel(\"/Users/jakob/PycharmProjects/H2_pathways_repo/data/raw/20220921_Data_Assumptions.xlsx\", sheet_name='Transport Distances', decimal=',')\n",
    "tra_d"
   ],
   "metadata": {
    "collapsed": false,
    "pycharm": {
     "name": "#%%\n"
    }
   }
  },
  {
   "cell_type": "code",
   "execution_count": 54,
   "outputs": [
    {
     "data": {
      "text/plain": "                                       Pipelines  Pipeline High  Pipeline Low  \\\n0                         Technical Lifetime (y)          40.00         40.00   \n1                        Amortisation factor (%)           0.08          0.08   \n2                                CAPEX (mio$/km)           1.21           NaN   \n3                               CAPEX ($/tpa/km)           3.56          1.33   \n4                    design throughput (kt H2/y)         340.00       3400.00   \n5                      real throughput (kt H2/y)         255.00           NaN   \n6                     OPEX & Fuel (% of CAPEX/a)           0.05          0.05   \n7                                utilisation (%)           0.75          0.75   \n8   Cost of pipeline transport  ($/1000km/kg H2)           0.64          0.24   \n9                              Interest rate (%)           0.08          0.08   \n10                                           NaN            NaN           NaN   \n11                                           NaN            NaN           NaN   \n12                                           NaN            NaN           NaN   \n13                                           NaN            NaN           NaN   \n14                                           NaN            NaN           NaN   \n15                                           NaN            NaN           NaN   \n16                                           NaN            NaN           NaN   \n17                                           NaN            NaN           NaN   \n18                                           NaN            NaN           NaN   \n19                                           NaN            NaN           NaN   \n20                                           NaN            NaN           NaN   \n21                                           NaN            NaN           NaN   \n22                                           NaN            NaN           NaN   \n23                                           NaN            NaN           NaN   \n24                                           NaN            NaN           NaN   \n\n    Pipeline Retrofit  Unnamed: 4  Unnamed: 5 Unnamed: 6  \n0               40.00         NaN         NaN        NaN  \n1                0.08         NaN         NaN        NaN  \n2                 NaN         NaN         NaN        NaN  \n3                0.73         NaN         NaN        NaN  \n4             3400.00         NaN         NaN        NaN  \n5                 NaN         NaN         NaN        NaN  \n6                0.05         NaN         NaN        NaN  \n7                0.75         NaN         NaN        NaN  \n8                0.13         NaN         NaN        NaN  \n9                0.08         NaN         NaN        NaN  \n10                NaN         NaN         NaN        NaN  \n11                NaN         NaN         NaN        NaN  \n12                NaN         NaN         NaN        NaN  \n13                NaN         NaN         NaN        NaN  \n14                NaN         NaN         NaN        NaN  \n15                NaN         NaN         NaN        NaN  \n16                NaN         NaN         NaN        NaN  \n17                NaN         NaN         NaN        NaN  \n18                NaN         NaN         NaN        NaN  \n19                NaN         NaN         NaN        NaN  \n20                NaN         NaN         NaN        NaN  \n21                NaN         NaN         NaN        NaN  \n22                NaN         NaN         NaN        NaN  \n23                NaN         NaN         NaN        NaN  \n24                NaN         NaN         NaN          r  ",
      "text/html": "<div>\n<style scoped>\n    .dataframe tbody tr th:only-of-type {\n        vertical-align: middle;\n    }\n\n    .dataframe tbody tr th {\n        vertical-align: top;\n    }\n\n    .dataframe thead th {\n        text-align: right;\n    }\n</style>\n<table border=\"1\" class=\"dataframe\">\n  <thead>\n    <tr style=\"text-align: right;\">\n      <th></th>\n      <th>Pipelines</th>\n      <th>Pipeline High</th>\n      <th>Pipeline Low</th>\n      <th>Pipeline Retrofit</th>\n      <th>Unnamed: 4</th>\n      <th>Unnamed: 5</th>\n      <th>Unnamed: 6</th>\n    </tr>\n  </thead>\n  <tbody>\n    <tr>\n      <th>0</th>\n      <td>Technical Lifetime (y)</td>\n      <td>40.00</td>\n      <td>40.00</td>\n      <td>40.00</td>\n      <td>NaN</td>\n      <td>NaN</td>\n      <td>NaN</td>\n    </tr>\n    <tr>\n      <th>1</th>\n      <td>Amortisation factor (%)</td>\n      <td>0.08</td>\n      <td>0.08</td>\n      <td>0.08</td>\n      <td>NaN</td>\n      <td>NaN</td>\n      <td>NaN</td>\n    </tr>\n    <tr>\n      <th>2</th>\n      <td>CAPEX (mio$/km)</td>\n      <td>1.21</td>\n      <td>NaN</td>\n      <td>NaN</td>\n      <td>NaN</td>\n      <td>NaN</td>\n      <td>NaN</td>\n    </tr>\n    <tr>\n      <th>3</th>\n      <td>CAPEX ($/tpa/km)</td>\n      <td>3.56</td>\n      <td>1.33</td>\n      <td>0.73</td>\n      <td>NaN</td>\n      <td>NaN</td>\n      <td>NaN</td>\n    </tr>\n    <tr>\n      <th>4</th>\n      <td>design throughput (kt H2/y)</td>\n      <td>340.00</td>\n      <td>3400.00</td>\n      <td>3400.00</td>\n      <td>NaN</td>\n      <td>NaN</td>\n      <td>NaN</td>\n    </tr>\n    <tr>\n      <th>5</th>\n      <td>real throughput (kt H2/y)</td>\n      <td>255.00</td>\n      <td>NaN</td>\n      <td>NaN</td>\n      <td>NaN</td>\n      <td>NaN</td>\n      <td>NaN</td>\n    </tr>\n    <tr>\n      <th>6</th>\n      <td>OPEX &amp; Fuel (% of CAPEX/a)</td>\n      <td>0.05</td>\n      <td>0.05</td>\n      <td>0.05</td>\n      <td>NaN</td>\n      <td>NaN</td>\n      <td>NaN</td>\n    </tr>\n    <tr>\n      <th>7</th>\n      <td>utilisation (%)</td>\n      <td>0.75</td>\n      <td>0.75</td>\n      <td>0.75</td>\n      <td>NaN</td>\n      <td>NaN</td>\n      <td>NaN</td>\n    </tr>\n    <tr>\n      <th>8</th>\n      <td>Cost of pipeline transport  ($/1000km/kg H2)</td>\n      <td>0.64</td>\n      <td>0.24</td>\n      <td>0.13</td>\n      <td>NaN</td>\n      <td>NaN</td>\n      <td>NaN</td>\n    </tr>\n    <tr>\n      <th>9</th>\n      <td>Interest rate (%)</td>\n      <td>0.08</td>\n      <td>0.08</td>\n      <td>0.08</td>\n      <td>NaN</td>\n      <td>NaN</td>\n      <td>NaN</td>\n    </tr>\n    <tr>\n      <th>10</th>\n      <td>NaN</td>\n      <td>NaN</td>\n      <td>NaN</td>\n      <td>NaN</td>\n      <td>NaN</td>\n      <td>NaN</td>\n      <td>NaN</td>\n    </tr>\n    <tr>\n      <th>11</th>\n      <td>NaN</td>\n      <td>NaN</td>\n      <td>NaN</td>\n      <td>NaN</td>\n      <td>NaN</td>\n      <td>NaN</td>\n      <td>NaN</td>\n    </tr>\n    <tr>\n      <th>12</th>\n      <td>NaN</td>\n      <td>NaN</td>\n      <td>NaN</td>\n      <td>NaN</td>\n      <td>NaN</td>\n      <td>NaN</td>\n      <td>NaN</td>\n    </tr>\n    <tr>\n      <th>13</th>\n      <td>NaN</td>\n      <td>NaN</td>\n      <td>NaN</td>\n      <td>NaN</td>\n      <td>NaN</td>\n      <td>NaN</td>\n      <td>NaN</td>\n    </tr>\n    <tr>\n      <th>14</th>\n      <td>NaN</td>\n      <td>NaN</td>\n      <td>NaN</td>\n      <td>NaN</td>\n      <td>NaN</td>\n      <td>NaN</td>\n      <td>NaN</td>\n    </tr>\n    <tr>\n      <th>15</th>\n      <td>NaN</td>\n      <td>NaN</td>\n      <td>NaN</td>\n      <td>NaN</td>\n      <td>NaN</td>\n      <td>NaN</td>\n      <td>NaN</td>\n    </tr>\n    <tr>\n      <th>16</th>\n      <td>NaN</td>\n      <td>NaN</td>\n      <td>NaN</td>\n      <td>NaN</td>\n      <td>NaN</td>\n      <td>NaN</td>\n      <td>NaN</td>\n    </tr>\n    <tr>\n      <th>17</th>\n      <td>NaN</td>\n      <td>NaN</td>\n      <td>NaN</td>\n      <td>NaN</td>\n      <td>NaN</td>\n      <td>NaN</td>\n      <td>NaN</td>\n    </tr>\n    <tr>\n      <th>18</th>\n      <td>NaN</td>\n      <td>NaN</td>\n      <td>NaN</td>\n      <td>NaN</td>\n      <td>NaN</td>\n      <td>NaN</td>\n      <td>NaN</td>\n    </tr>\n    <tr>\n      <th>19</th>\n      <td>NaN</td>\n      <td>NaN</td>\n      <td>NaN</td>\n      <td>NaN</td>\n      <td>NaN</td>\n      <td>NaN</td>\n      <td>NaN</td>\n    </tr>\n    <tr>\n      <th>20</th>\n      <td>NaN</td>\n      <td>NaN</td>\n      <td>NaN</td>\n      <td>NaN</td>\n      <td>NaN</td>\n      <td>NaN</td>\n      <td>NaN</td>\n    </tr>\n    <tr>\n      <th>21</th>\n      <td>NaN</td>\n      <td>NaN</td>\n      <td>NaN</td>\n      <td>NaN</td>\n      <td>NaN</td>\n      <td>NaN</td>\n      <td>NaN</td>\n    </tr>\n    <tr>\n      <th>22</th>\n      <td>NaN</td>\n      <td>NaN</td>\n      <td>NaN</td>\n      <td>NaN</td>\n      <td>NaN</td>\n      <td>NaN</td>\n      <td>NaN</td>\n    </tr>\n    <tr>\n      <th>23</th>\n      <td>NaN</td>\n      <td>NaN</td>\n      <td>NaN</td>\n      <td>NaN</td>\n      <td>NaN</td>\n      <td>NaN</td>\n      <td>NaN</td>\n    </tr>\n    <tr>\n      <th>24</th>\n      <td>NaN</td>\n      <td>NaN</td>\n      <td>NaN</td>\n      <td>NaN</td>\n      <td>NaN</td>\n      <td>NaN</td>\n      <td>r</td>\n    </tr>\n  </tbody>\n</table>\n</div>"
     },
     "execution_count": 54,
     "metadata": {},
     "output_type": "execute_result"
    }
   ],
   "source": [
    "tea_tra = pd.read_csv(\"/Users/jakob/PycharmProjects/H2_pathways_repo/data/raw/tea_tra.csv\", delimiter=';', decimal=',')\n",
    "tea_tra"
   ],
   "metadata": {
    "collapsed": false,
    "pycharm": {
     "name": "#%%\n"
    }
   }
  },
  {
   "cell_type": "code",
   "execution_count": 55,
   "outputs": [
    {
     "data": {
      "text/plain": "                                                     2020        2021  \\\nWholesale electricity prices from DNV GL 2019                           \nUnited Arab Emirates                            36.301651   36.764515   \nAngola                                         121.494032  119.445089   \nArgentina                                       37.961027   38.086072   \nAustria                                         46.683533   47.002654   \nAustralia                                       72.846428   69.396730   \n...                                                   ...         ...   \nPhilippines                                     42.402642   44.089299   \nIceland                                         46.683533   47.002654   \nPapua New Guinea                                42.402642   44.089299   \nCameroon                                       121.494032  119.445089   \nSouth Africa                                   121.494032  119.445089   \n\n                                                     2022        2023  \\\nWholesale electricity prices from DNV GL 2019                           \nUnited Arab Emirates                            37.137776   37.447974   \nAngola                                         119.580409  124.653779   \nArgentina                                       39.032196   40.033404   \nAustria                                         47.209289   47.346703   \nAustralia                                       66.622798   64.898776   \n...                                                   ...         ...   \nPhilippines                                     45.936088   47.946139   \nIceland                                         47.209289   47.346703   \nPapua New Guinea                                45.936088   47.946139   \nCameroon                                       119.580409  124.653779   \nSouth Africa                                   119.580409  124.653779   \n\n                                                     2024        2025  \\\nWholesale electricity prices from DNV GL 2019                           \nUnited Arab Emirates                            37.747898   38.034395   \nAngola                                         131.547459  137.405324   \nArgentina                                       41.148255   42.353416   \nAustria                                         47.274782   46.957092   \nAustralia                                       64.515503   64.897234   \n...                                                   ...         ...   \nPhilippines                                     50.057150   52.193834   \nIceland                                         47.274782   46.957092   \nPapua New Guinea                                50.057150   52.193834   \nCameroon                                       131.547459  137.405324   \nSouth Africa                                   131.547459  137.405324   \n\n                                                     2026        2027  \\\nWholesale electricity prices from DNV GL 2019                           \nUnited Arab Emirates                            38.325658   38.655501   \nAngola                                         141.246042  142.819290   \nArgentina                                       43.577189   44.818521   \nAustria                                         46.416301   46.118220   \nAustralia                                       65.154315   65.256396   \n...                                                   ...         ...   \nPhilippines                                     54.433745   57.196590   \nIceland                                         46.416301   46.118220   \nPapua New Guinea                                54.433745   57.196590   \nCameroon                                       141.246042  142.819290   \nSouth Africa                                   141.246042  142.819290   \n\n                                                     2028        2029  ...  \\\nWholesale electricity prices from DNV GL 2019                          ...   \nUnited Arab Emirates                            39.015448   39.420264  ...   \nAngola                                         143.098086  143.128137  ...   \nArgentina                                       46.021991   47.209332  ...   \nAustria                                         45.738344   45.399899  ...   \nAustralia                                       65.134265   64.811898  ...   \n...                                                   ...         ...  ...   \nPhilippines                                     60.841314   65.569751  ...   \nIceland                                         45.738344   45.399899  ...   \nPapua New Guinea                                60.841314   65.569751  ...   \nCameroon                                       143.098086  143.128137  ...   \nSouth Africa                                   143.098086  143.128137  ...   \n\n                                                     2041        2042  \\\nWholesale electricity prices from DNV GL 2019                           \nUnited Arab Emirates                            53.573530   51.487746   \nAngola                                         167.313461  168.277022   \nArgentina                                       73.409441   72.994100   \nAustria                                         49.609330   50.705430   \nAustralia                                       38.939740   37.412280   \n...                                                   ...         ...   \nPhilippines                                     75.383730   74.831710   \nIceland                                         49.609330   50.705430   \nPapua New Guinea                                75.383730   74.831710   \nCameroon                                       167.313461  168.277022   \nSouth Africa                                   167.313461  168.277022   \n\n                                                     2043        2044  \\\nWholesale electricity prices from DNV GL 2019                           \nUnited Arab Emirates                            50.336783   49.802097   \nAngola                                         168.972257  169.434972   \nArgentina                                       72.420411   72.137700   \nAustria                                         51.925184   53.193310   \nAustralia                                       35.994851   34.709238   \n...                                                   ...         ...   \nPhilippines                                     74.676203   74.735059   \nIceland                                         51.925184   53.193310   \nPapua New Guinea                                74.676203   74.735059   \nCameroon                                       168.972257  169.434972   \nSouth Africa                                   168.972257  169.434972   \n\n                                                     2045        2046  \\\nWholesale electricity prices from DNV GL 2019                           \nUnited Arab Emirates                            49.984233   50.739234   \nAngola                                         169.825687  170.198308   \nArgentina                                       71.884240   71.715794   \nAustria                                         54.221220   54.704721   \nAustralia                                       33.678074   32.794352   \n...                                                   ...         ...   \nPhilippines                                     74.746313   74.583895   \nIceland                                         54.221220   54.704721   \nPapua New Guinea                                74.746313   74.583895   \nCameroon                                       169.825687  170.198308   \nSouth Africa                                   169.825687  170.198308   \n\n                                                     2047        2048  \\\nWholesale electricity prices from DNV GL 2019                           \nUnited Arab Emirates                            51.993049   53.655694   \nAngola                                         170.217476  170.039948   \nArgentina                                       71.547577   71.579187   \nAustria                                         54.535295   53.994557   \nAustralia                                       32.137023   31.647242   \n...                                                   ...         ...   \nPhilippines                                     74.409350   74.323923   \nIceland                                         54.535295   53.994557   \nPapua New Guinea                                74.409350   74.323923   \nCameroon                                       170.217476  170.039948   \nSouth Africa                                   170.217476  170.039948   \n\n                                                     2049        2050  \nWholesale electricity prices from DNV GL 2019                          \nUnited Arab Emirates                            54.814324   56.468935  \nAngola                                         170.172216  169.924801  \nArgentina                                       70.985088   71.383909  \nAustria                                         53.715329   53.994428  \nAustralia                                       30.594356   29.930791  \n...                                                   ...         ...  \nPhilippines                                     74.282002   73.996739  \nIceland                                         53.715329   53.994428  \nPapua New Guinea                                74.282002   73.996739  \nCameroon                                       170.172216  169.924801  \nSouth Africa                                   170.172216  169.924801  \n\n[88 rows x 31 columns]",
      "text/html": "<div>\n<style scoped>\n    .dataframe tbody tr th:only-of-type {\n        vertical-align: middle;\n    }\n\n    .dataframe tbody tr th {\n        vertical-align: top;\n    }\n\n    .dataframe thead th {\n        text-align: right;\n    }\n</style>\n<table border=\"1\" class=\"dataframe\">\n  <thead>\n    <tr style=\"text-align: right;\">\n      <th></th>\n      <th>2020</th>\n      <th>2021</th>\n      <th>2022</th>\n      <th>2023</th>\n      <th>2024</th>\n      <th>2025</th>\n      <th>2026</th>\n      <th>2027</th>\n      <th>2028</th>\n      <th>2029</th>\n      <th>...</th>\n      <th>2041</th>\n      <th>2042</th>\n      <th>2043</th>\n      <th>2044</th>\n      <th>2045</th>\n      <th>2046</th>\n      <th>2047</th>\n      <th>2048</th>\n      <th>2049</th>\n      <th>2050</th>\n    </tr>\n    <tr>\n      <th>Wholesale electricity prices from DNV GL 2019</th>\n      <th></th>\n      <th></th>\n      <th></th>\n      <th></th>\n      <th></th>\n      <th></th>\n      <th></th>\n      <th></th>\n      <th></th>\n      <th></th>\n      <th></th>\n      <th></th>\n      <th></th>\n      <th></th>\n      <th></th>\n      <th></th>\n      <th></th>\n      <th></th>\n      <th></th>\n      <th></th>\n      <th></th>\n    </tr>\n  </thead>\n  <tbody>\n    <tr>\n      <th>United Arab Emirates</th>\n      <td>36.301651</td>\n      <td>36.764515</td>\n      <td>37.137776</td>\n      <td>37.447974</td>\n      <td>37.747898</td>\n      <td>38.034395</td>\n      <td>38.325658</td>\n      <td>38.655501</td>\n      <td>39.015448</td>\n      <td>39.420264</td>\n      <td>...</td>\n      <td>53.573530</td>\n      <td>51.487746</td>\n      <td>50.336783</td>\n      <td>49.802097</td>\n      <td>49.984233</td>\n      <td>50.739234</td>\n      <td>51.993049</td>\n      <td>53.655694</td>\n      <td>54.814324</td>\n      <td>56.468935</td>\n    </tr>\n    <tr>\n      <th>Angola</th>\n      <td>121.494032</td>\n      <td>119.445089</td>\n      <td>119.580409</td>\n      <td>124.653779</td>\n      <td>131.547459</td>\n      <td>137.405324</td>\n      <td>141.246042</td>\n      <td>142.819290</td>\n      <td>143.098086</td>\n      <td>143.128137</td>\n      <td>...</td>\n      <td>167.313461</td>\n      <td>168.277022</td>\n      <td>168.972257</td>\n      <td>169.434972</td>\n      <td>169.825687</td>\n      <td>170.198308</td>\n      <td>170.217476</td>\n      <td>170.039948</td>\n      <td>170.172216</td>\n      <td>169.924801</td>\n    </tr>\n    <tr>\n      <th>Argentina</th>\n      <td>37.961027</td>\n      <td>38.086072</td>\n      <td>39.032196</td>\n      <td>40.033404</td>\n      <td>41.148255</td>\n      <td>42.353416</td>\n      <td>43.577189</td>\n      <td>44.818521</td>\n      <td>46.021991</td>\n      <td>47.209332</td>\n      <td>...</td>\n      <td>73.409441</td>\n      <td>72.994100</td>\n      <td>72.420411</td>\n      <td>72.137700</td>\n      <td>71.884240</td>\n      <td>71.715794</td>\n      <td>71.547577</td>\n      <td>71.579187</td>\n      <td>70.985088</td>\n      <td>71.383909</td>\n    </tr>\n    <tr>\n      <th>Austria</th>\n      <td>46.683533</td>\n      <td>47.002654</td>\n      <td>47.209289</td>\n      <td>47.346703</td>\n      <td>47.274782</td>\n      <td>46.957092</td>\n      <td>46.416301</td>\n      <td>46.118220</td>\n      <td>45.738344</td>\n      <td>45.399899</td>\n      <td>...</td>\n      <td>49.609330</td>\n      <td>50.705430</td>\n      <td>51.925184</td>\n      <td>53.193310</td>\n      <td>54.221220</td>\n      <td>54.704721</td>\n      <td>54.535295</td>\n      <td>53.994557</td>\n      <td>53.715329</td>\n      <td>53.994428</td>\n    </tr>\n    <tr>\n      <th>Australia</th>\n      <td>72.846428</td>\n      <td>69.396730</td>\n      <td>66.622798</td>\n      <td>64.898776</td>\n      <td>64.515503</td>\n      <td>64.897234</td>\n      <td>65.154315</td>\n      <td>65.256396</td>\n      <td>65.134265</td>\n      <td>64.811898</td>\n      <td>...</td>\n      <td>38.939740</td>\n      <td>37.412280</td>\n      <td>35.994851</td>\n      <td>34.709238</td>\n      <td>33.678074</td>\n      <td>32.794352</td>\n      <td>32.137023</td>\n      <td>31.647242</td>\n      <td>30.594356</td>\n      <td>29.930791</td>\n    </tr>\n    <tr>\n      <th>...</th>\n      <td>...</td>\n      <td>...</td>\n      <td>...</td>\n      <td>...</td>\n      <td>...</td>\n      <td>...</td>\n      <td>...</td>\n      <td>...</td>\n      <td>...</td>\n      <td>...</td>\n      <td>...</td>\n      <td>...</td>\n      <td>...</td>\n      <td>...</td>\n      <td>...</td>\n      <td>...</td>\n      <td>...</td>\n      <td>...</td>\n      <td>...</td>\n      <td>...</td>\n      <td>...</td>\n    </tr>\n    <tr>\n      <th>Philippines</th>\n      <td>42.402642</td>\n      <td>44.089299</td>\n      <td>45.936088</td>\n      <td>47.946139</td>\n      <td>50.057150</td>\n      <td>52.193834</td>\n      <td>54.433745</td>\n      <td>57.196590</td>\n      <td>60.841314</td>\n      <td>65.569751</td>\n      <td>...</td>\n      <td>75.383730</td>\n      <td>74.831710</td>\n      <td>74.676203</td>\n      <td>74.735059</td>\n      <td>74.746313</td>\n      <td>74.583895</td>\n      <td>74.409350</td>\n      <td>74.323923</td>\n      <td>74.282002</td>\n      <td>73.996739</td>\n    </tr>\n    <tr>\n      <th>Iceland</th>\n      <td>46.683533</td>\n      <td>47.002654</td>\n      <td>47.209289</td>\n      <td>47.346703</td>\n      <td>47.274782</td>\n      <td>46.957092</td>\n      <td>46.416301</td>\n      <td>46.118220</td>\n      <td>45.738344</td>\n      <td>45.399899</td>\n      <td>...</td>\n      <td>49.609330</td>\n      <td>50.705430</td>\n      <td>51.925184</td>\n      <td>53.193310</td>\n      <td>54.221220</td>\n      <td>54.704721</td>\n      <td>54.535295</td>\n      <td>53.994557</td>\n      <td>53.715329</td>\n      <td>53.994428</td>\n    </tr>\n    <tr>\n      <th>Papua New Guinea</th>\n      <td>42.402642</td>\n      <td>44.089299</td>\n      <td>45.936088</td>\n      <td>47.946139</td>\n      <td>50.057150</td>\n      <td>52.193834</td>\n      <td>54.433745</td>\n      <td>57.196590</td>\n      <td>60.841314</td>\n      <td>65.569751</td>\n      <td>...</td>\n      <td>75.383730</td>\n      <td>74.831710</td>\n      <td>74.676203</td>\n      <td>74.735059</td>\n      <td>74.746313</td>\n      <td>74.583895</td>\n      <td>74.409350</td>\n      <td>74.323923</td>\n      <td>74.282002</td>\n      <td>73.996739</td>\n    </tr>\n    <tr>\n      <th>Cameroon</th>\n      <td>121.494032</td>\n      <td>119.445089</td>\n      <td>119.580409</td>\n      <td>124.653779</td>\n      <td>131.547459</td>\n      <td>137.405324</td>\n      <td>141.246042</td>\n      <td>142.819290</td>\n      <td>143.098086</td>\n      <td>143.128137</td>\n      <td>...</td>\n      <td>167.313461</td>\n      <td>168.277022</td>\n      <td>168.972257</td>\n      <td>169.434972</td>\n      <td>169.825687</td>\n      <td>170.198308</td>\n      <td>170.217476</td>\n      <td>170.039948</td>\n      <td>170.172216</td>\n      <td>169.924801</td>\n    </tr>\n    <tr>\n      <th>South Africa</th>\n      <td>121.494032</td>\n      <td>119.445089</td>\n      <td>119.580409</td>\n      <td>124.653779</td>\n      <td>131.547459</td>\n      <td>137.405324</td>\n      <td>141.246042</td>\n      <td>142.819290</td>\n      <td>143.098086</td>\n      <td>143.128137</td>\n      <td>...</td>\n      <td>167.313461</td>\n      <td>168.277022</td>\n      <td>168.972257</td>\n      <td>169.434972</td>\n      <td>169.825687</td>\n      <td>170.198308</td>\n      <td>170.217476</td>\n      <td>170.039948</td>\n      <td>170.172216</td>\n      <td>169.924801</td>\n    </tr>\n  </tbody>\n</table>\n<p>88 rows × 31 columns</p>\n</div>"
     },
     "execution_count": 55,
     "metadata": {},
     "output_type": "execute_result"
    }
   ],
   "source": [
    "# Electrcity wholesale price projections in $_2018/MWh from DNVGL 2018\n",
    "p_electricity = pd.read_excel('/Users/jakob/PycharmProjects/H2_pathways_repo/data/raw/20220921_Data_Assumptions.xlsx', sheet_name='EL Price', decimal=',', index_col=0)\n",
    "p_electricity"
   ],
   "metadata": {
    "collapsed": false,
    "pycharm": {
     "name": "#%%\n"
    }
   }
  },
  {
   "cell_type": "code",
   "execution_count": 56,
   "outputs": [
    {
     "data": {
      "text/plain": "                                                        2020       2021  \\\nID                                                                        \nUnited_Arab_Emirates_Onshore_3_low_temp_baseline    7.083424   6.891298   \nUnited_Arab_Emirates_Offshore_1_low_temp_baseline  11.470109  11.104346   \nUnited_Arab_Emirates_Offshore_2_low_temp_baseline  15.518520  15.026419   \nUnited_Arab_Emirates_PV_2_low_temp_baseline         3.990183   3.815470   \nUnited_Arab_Emirates_PV_3_low_temp_baseline         4.167158   3.984340   \n...                                                      ...        ...   \nSouth_Africa_PV_4_low_temp_optimistic               4.776238   4.522432   \nSouth_Africa_Onshore_3_high_temp_optimistic         6.957099   6.651531   \nSouth_Africa_Offshore_1_high_temp_optimistic        6.420926   6.101068   \nSouth_Africa_Offshore_2_high_temp_optimistic        7.882887   7.502615   \nSouth_Africa_PV_4_high_temp_optimistic              8.301321   7.735446   \n\n                                                        2022       2023  \\\nID                                                                        \nUnited_Arab_Emirates_Onshore_3_low_temp_baseline    6.715543   6.552560   \nUnited_Arab_Emirates_Offshore_1_low_temp_baseline  10.787404  10.505314   \nUnited_Arab_Emirates_Offshore_2_low_temp_baseline  14.603391  14.229709   \nUnited_Arab_Emirates_PV_2_low_temp_baseline         3.659375   3.516671   \nUnited_Arab_Emirates_PV_3_low_temp_baseline         3.821167   3.672128   \n...                                                      ...        ...   \nSouth_Africa_PV_4_low_temp_optimistic               4.311259   4.130247   \nSouth_Africa_Onshore_3_high_temp_optimistic         6.361605   6.082880   \nSouth_Africa_Offshore_1_high_temp_optimistic        5.807786   5.532832   \nSouth_Africa_Offshore_2_high_temp_optimistic        7.158460   6.839487   \nSouth_Africa_PV_4_high_temp_optimistic              7.214757   6.725080   \n\n                                                        2024       2025  \\\nID                                                                        \nUnited_Arab_Emirates_Onshore_3_low_temp_baseline    6.399783   6.255316   \nUnited_Arab_Emirates_Offshore_1_low_temp_baseline  10.249265  10.013359   \nUnited_Arab_Emirates_Offshore_2_low_temp_baseline  13.892937  13.584745   \nUnited_Arab_Emirates_PV_2_low_temp_baseline         3.384029   3.259207   \nUnited_Arab_Emirates_PV_3_low_temp_baseline         3.533712   3.403554   \n...                                                      ...        ...   \nSouth_Africa_PV_4_low_temp_optimistic               3.971568   3.830018   \nSouth_Africa_Onshore_3_high_temp_optimistic         5.812121   5.546874   \nSouth_Africa_Offshore_1_high_temp_optimistic        5.271000   5.018783   \nSouth_Africa_Offshore_2_high_temp_optimistic        6.538808   6.251803   \nSouth_Africa_PV_4_high_temp_optimistic              6.257449   5.805842   \n\n                                                        2026       2027  \\\nID                                                                        \nUnited_Arab_Emirates_Onshore_3_low_temp_baseline    6.117722   5.985886   \nUnited_Arab_Emirates_Offshore_1_low_temp_baseline   9.793456   9.586545   \nUnited_Arab_Emirates_Offshore_2_low_temp_baseline  13.299293  13.032333   \nUnited_Arab_Emirates_PV_2_low_temp_baseline         3.140629   3.027147   \nUnited_Arab_Emirates_PV_3_low_temp_baseline         3.279992   3.161815   \n...                                                      ...        ...   \nSouth_Africa_PV_4_low_temp_optimistic               3.701980   3.584849   \nSouth_Africa_Onshore_3_high_temp_optimistic         5.285203   5.025533   \nSouth_Africa_Offshore_1_high_temp_optimistic        4.773702   4.533933   \nSouth_Africa_Offshore_2_high_temp_optimistic        5.975218   5.706671   \nSouth_Africa_PV_4_high_temp_optimistic              5.366024   4.934896   \n\n                                                        2028       2029  ...  \\\nID                                                                       ...   \nUnited_Arab_Emirates_Onshore_3_low_temp_baseline    5.858925   5.736129  ...   \nUnited_Arab_Emirates_Offshore_1_low_temp_baseline   9.390367   9.203187  ...   \nUnited_Arab_Emirates_Offshore_2_low_temp_baseline  12.780680  12.541890  ...   \nUnited_Arab_Emirates_PV_2_low_temp_baseline         2.917901   2.812232  ...   \nUnited_Arab_Emirates_PV_3_low_temp_baseline         3.048116   2.938202  ...   \n...                                                      ...        ...  ...   \nSouth_Africa_PV_4_low_temp_optimistic               3.476693   3.376044  ...   \nSouth_Africa_Onshore_3_high_temp_optimistic         4.766533   4.507054  ...   \nSouth_Africa_Offshore_1_high_temp_optimistic        4.298081   4.065056  ...   \nSouth_Africa_Offshore_2_high_temp_optimistic        5.444358   5.186877  ...   \nSouth_Africa_PV_4_high_temp_optimistic              4.510115   4.089858  ...   \n\n                                                       2041      2042  \\\nID                                                                      \nUnited_Arab_Emirates_Onshore_3_low_temp_baseline   4.691380  4.628208   \nUnited_Arab_Emirates_Offshore_1_low_temp_baseline  7.248224  7.116204   \nUnited_Arab_Emirates_Offshore_2_low_temp_baseline  9.892514  9.713566   \nUnited_Arab_Emirates_PV_2_low_temp_baseline        2.123259  2.077646   \nUnited_Arab_Emirates_PV_3_low_temp_baseline        2.218239  2.170581   \n...                                                     ...       ...   \nSouth_Africa_PV_4_low_temp_optimistic              2.316135  2.243911   \nSouth_Africa_Onshore_3_high_temp_optimistic        3.527896  3.479815   \nSouth_Africa_Offshore_1_high_temp_optimistic       3.044944  2.985666   \nSouth_Africa_Offshore_2_high_temp_optimistic       3.922605  3.847566   \nSouth_Africa_PV_4_high_temp_optimistic             2.785486  2.716458   \n\n                                                       2043      2044  \\\nID                                                                      \nUnited_Arab_Emirates_Onshore_3_low_temp_baseline   4.566471  4.512363   \nUnited_Arab_Emirates_Offshore_1_low_temp_baseline  6.992261  6.880684   \nUnited_Arab_Emirates_Offshore_2_low_temp_baseline  9.545998  9.395894   \nUnited_Arab_Emirates_PV_2_low_temp_baseline        2.033698  1.995168   \nUnited_Arab_Emirates_PV_3_low_temp_baseline        2.124678  2.084494   \n...                                                     ...       ...   \nSouth_Africa_PV_4_low_temp_optimistic              2.174816  2.115768   \nSouth_Africa_Onshore_3_high_temp_optimistic        3.432700  3.392380   \nSouth_Africa_Offshore_1_high_temp_optimistic       2.930034  2.880146   \nSouth_Africa_Offshore_2_high_temp_optimistic       3.777477  3.715198   \nSouth_Africa_PV_4_high_temp_optimistic             2.650047  2.592917   \n\n                                                       2045      2046  \\\nID                                                                      \nUnited_Arab_Emirates_Onshore_3_low_temp_baseline   4.403312  4.338001   \nUnited_Arab_Emirates_Offshore_1_low_temp_baseline  6.719989  6.607285   \nUnited_Arab_Emirates_Offshore_2_low_temp_baseline  9.176013  9.024151   \nUnited_Arab_Emirates_PV_2_low_temp_baseline        1.933859  1.891448   \nUnited_Arab_Emirates_PV_3_low_temp_baseline        2.020231  1.975935   \n...                                                     ...       ...   \nSouth_Africa_PV_4_low_temp_optimistic              2.014671  1.948563   \nSouth_Africa_Onshore_3_high_temp_optimistic        3.300107  3.248513   \nSouth_Africa_Offshore_1_high_temp_optimistic       2.806048  2.755060   \nSouth_Africa_Offshore_2_high_temp_optimistic       3.619913  3.556102   \nSouth_Africa_PV_4_high_temp_optimistic             2.495084  2.430448   \n\n                                                       2047      2048  \\\nID                                                                      \nUnited_Arab_Emirates_Onshore_3_low_temp_baseline   4.274817  4.213586   \nUnited_Arab_Emirates_Offshore_1_low_temp_baseline  6.500267  6.398248   \nUnited_Arab_Emirates_Offshore_2_low_temp_baseline  8.880277  8.743419   \nUnited_Arab_Emirates_PV_2_low_temp_baseline        1.850562  1.811050   \nUnited_Arab_Emirates_PV_3_low_temp_baseline        1.933247  1.892006   \n...                                                     ...       ...   \nSouth_Africa_PV_4_low_temp_optimistic              1.885225  1.824345   \nSouth_Africa_Onshore_3_high_temp_optimistic        3.198556  3.150082   \nSouth_Africa_Offshore_1_high_temp_optimistic       2.706577  2.660273   \nSouth_Africa_Offshore_2_high_temp_optimistic       3.495686  3.438224   \nSouth_Africa_PV_4_high_temp_optimistic             2.368174  2.307988   \n\n                                                       2049      2050  \nID                                                                     \nUnited_Arab_Emirates_Onshore_3_low_temp_baseline   4.154154  4.096389  \nUnited_Arab_Emirates_Offshore_1_low_temp_baseline  6.300666  6.207051  \nUnited_Arab_Emirates_Offshore_2_low_temp_baseline  8.612779  8.487690  \nUnited_Arab_Emirates_PV_2_low_temp_baseline        1.772783  1.735653  \nUnited_Arab_Emirates_PV_3_low_temp_baseline        1.852079  1.813348  \n...                                                     ...       ...  \nSouth_Africa_PV_4_low_temp_optimistic              1.765661  1.708951  \nSouth_Africa_Onshore_3_high_temp_optimistic        3.102956  3.057060  \nSouth_Africa_Offshore_1_high_temp_optimistic       2.615880  2.573177  \nSouth_Africa_Offshore_2_high_temp_optimistic       3.383351  3.330767  \nSouth_Africa_PV_4_high_temp_optimistic             2.249662  2.193002  \n\n[1660 rows x 31 columns]",
      "text/html": "<div>\n<style scoped>\n    .dataframe tbody tr th:only-of-type {\n        vertical-align: middle;\n    }\n\n    .dataframe tbody tr th {\n        vertical-align: top;\n    }\n\n    .dataframe thead th {\n        text-align: right;\n    }\n</style>\n<table border=\"1\" class=\"dataframe\">\n  <thead>\n    <tr style=\"text-align: right;\">\n      <th></th>\n      <th>2020</th>\n      <th>2021</th>\n      <th>2022</th>\n      <th>2023</th>\n      <th>2024</th>\n      <th>2025</th>\n      <th>2026</th>\n      <th>2027</th>\n      <th>2028</th>\n      <th>2029</th>\n      <th>...</th>\n      <th>2041</th>\n      <th>2042</th>\n      <th>2043</th>\n      <th>2044</th>\n      <th>2045</th>\n      <th>2046</th>\n      <th>2047</th>\n      <th>2048</th>\n      <th>2049</th>\n      <th>2050</th>\n    </tr>\n    <tr>\n      <th>ID</th>\n      <th></th>\n      <th></th>\n      <th></th>\n      <th></th>\n      <th></th>\n      <th></th>\n      <th></th>\n      <th></th>\n      <th></th>\n      <th></th>\n      <th></th>\n      <th></th>\n      <th></th>\n      <th></th>\n      <th></th>\n      <th></th>\n      <th></th>\n      <th></th>\n      <th></th>\n      <th></th>\n      <th></th>\n    </tr>\n  </thead>\n  <tbody>\n    <tr>\n      <th>United_Arab_Emirates_Onshore_3_low_temp_baseline</th>\n      <td>7.083424</td>\n      <td>6.891298</td>\n      <td>6.715543</td>\n      <td>6.552560</td>\n      <td>6.399783</td>\n      <td>6.255316</td>\n      <td>6.117722</td>\n      <td>5.985886</td>\n      <td>5.858925</td>\n      <td>5.736129</td>\n      <td>...</td>\n      <td>4.691380</td>\n      <td>4.628208</td>\n      <td>4.566471</td>\n      <td>4.512363</td>\n      <td>4.403312</td>\n      <td>4.338001</td>\n      <td>4.274817</td>\n      <td>4.213586</td>\n      <td>4.154154</td>\n      <td>4.096389</td>\n    </tr>\n    <tr>\n      <th>United_Arab_Emirates_Offshore_1_low_temp_baseline</th>\n      <td>11.470109</td>\n      <td>11.104346</td>\n      <td>10.787404</td>\n      <td>10.505314</td>\n      <td>10.249265</td>\n      <td>10.013359</td>\n      <td>9.793456</td>\n      <td>9.586545</td>\n      <td>9.390367</td>\n      <td>9.203187</td>\n      <td>...</td>\n      <td>7.248224</td>\n      <td>7.116204</td>\n      <td>6.992261</td>\n      <td>6.880684</td>\n      <td>6.719989</td>\n      <td>6.607285</td>\n      <td>6.500267</td>\n      <td>6.398248</td>\n      <td>6.300666</td>\n      <td>6.207051</td>\n    </tr>\n    <tr>\n      <th>United_Arab_Emirates_Offshore_2_low_temp_baseline</th>\n      <td>15.518520</td>\n      <td>15.026419</td>\n      <td>14.603391</td>\n      <td>14.229709</td>\n      <td>13.892937</td>\n      <td>13.584745</td>\n      <td>13.299293</td>\n      <td>13.032333</td>\n      <td>12.780680</td>\n      <td>12.541890</td>\n      <td>...</td>\n      <td>9.892514</td>\n      <td>9.713566</td>\n      <td>9.545998</td>\n      <td>9.395894</td>\n      <td>9.176013</td>\n      <td>9.024151</td>\n      <td>8.880277</td>\n      <td>8.743419</td>\n      <td>8.612779</td>\n      <td>8.487690</td>\n    </tr>\n    <tr>\n      <th>United_Arab_Emirates_PV_2_low_temp_baseline</th>\n      <td>3.990183</td>\n      <td>3.815470</td>\n      <td>3.659375</td>\n      <td>3.516671</td>\n      <td>3.384029</td>\n      <td>3.259207</td>\n      <td>3.140629</td>\n      <td>3.027147</td>\n      <td>2.917901</td>\n      <td>2.812232</td>\n      <td>...</td>\n      <td>2.123259</td>\n      <td>2.077646</td>\n      <td>2.033698</td>\n      <td>1.995168</td>\n      <td>1.933859</td>\n      <td>1.891448</td>\n      <td>1.850562</td>\n      <td>1.811050</td>\n      <td>1.772783</td>\n      <td>1.735653</td>\n    </tr>\n    <tr>\n      <th>United_Arab_Emirates_PV_3_low_temp_baseline</th>\n      <td>4.167158</td>\n      <td>3.984340</td>\n      <td>3.821167</td>\n      <td>3.672128</td>\n      <td>3.533712</td>\n      <td>3.403554</td>\n      <td>3.279992</td>\n      <td>3.161815</td>\n      <td>3.048116</td>\n      <td>2.938202</td>\n      <td>...</td>\n      <td>2.218239</td>\n      <td>2.170581</td>\n      <td>2.124678</td>\n      <td>2.084494</td>\n      <td>2.020231</td>\n      <td>1.975935</td>\n      <td>1.933247</td>\n      <td>1.892006</td>\n      <td>1.852079</td>\n      <td>1.813348</td>\n    </tr>\n    <tr>\n      <th>...</th>\n      <td>...</td>\n      <td>...</td>\n      <td>...</td>\n      <td>...</td>\n      <td>...</td>\n      <td>...</td>\n      <td>...</td>\n      <td>...</td>\n      <td>...</td>\n      <td>...</td>\n      <td>...</td>\n      <td>...</td>\n      <td>...</td>\n      <td>...</td>\n      <td>...</td>\n      <td>...</td>\n      <td>...</td>\n      <td>...</td>\n      <td>...</td>\n      <td>...</td>\n      <td>...</td>\n    </tr>\n    <tr>\n      <th>South_Africa_PV_4_low_temp_optimistic</th>\n      <td>4.776238</td>\n      <td>4.522432</td>\n      <td>4.311259</td>\n      <td>4.130247</td>\n      <td>3.971568</td>\n      <td>3.830018</td>\n      <td>3.701980</td>\n      <td>3.584849</td>\n      <td>3.476693</td>\n      <td>3.376044</td>\n      <td>...</td>\n      <td>2.316135</td>\n      <td>2.243911</td>\n      <td>2.174816</td>\n      <td>2.115768</td>\n      <td>2.014671</td>\n      <td>1.948563</td>\n      <td>1.885225</td>\n      <td>1.824345</td>\n      <td>1.765661</td>\n      <td>1.708951</td>\n    </tr>\n    <tr>\n      <th>South_Africa_Onshore_3_high_temp_optimistic</th>\n      <td>6.957099</td>\n      <td>6.651531</td>\n      <td>6.361605</td>\n      <td>6.082880</td>\n      <td>5.812121</td>\n      <td>5.546874</td>\n      <td>5.285203</td>\n      <td>5.025533</td>\n      <td>4.766533</td>\n      <td>4.507054</td>\n      <td>...</td>\n      <td>3.527896</td>\n      <td>3.479815</td>\n      <td>3.432700</td>\n      <td>3.392380</td>\n      <td>3.300107</td>\n      <td>3.248513</td>\n      <td>3.198556</td>\n      <td>3.150082</td>\n      <td>3.102956</td>\n      <td>3.057060</td>\n    </tr>\n    <tr>\n      <th>South_Africa_Offshore_1_high_temp_optimistic</th>\n      <td>6.420926</td>\n      <td>6.101068</td>\n      <td>5.807786</td>\n      <td>5.532832</td>\n      <td>5.271000</td>\n      <td>5.018783</td>\n      <td>4.773702</td>\n      <td>4.533933</td>\n      <td>4.298081</td>\n      <td>4.065056</td>\n      <td>...</td>\n      <td>3.044944</td>\n      <td>2.985666</td>\n      <td>2.930034</td>\n      <td>2.880146</td>\n      <td>2.806048</td>\n      <td>2.755060</td>\n      <td>2.706577</td>\n      <td>2.660273</td>\n      <td>2.615880</td>\n      <td>2.573177</td>\n    </tr>\n    <tr>\n      <th>South_Africa_Offshore_2_high_temp_optimistic</th>\n      <td>7.882887</td>\n      <td>7.502615</td>\n      <td>7.158460</td>\n      <td>6.839487</td>\n      <td>6.538808</td>\n      <td>6.251803</td>\n      <td>5.975218</td>\n      <td>5.706671</td>\n      <td>5.444358</td>\n      <td>5.186877</td>\n      <td>...</td>\n      <td>3.922605</td>\n      <td>3.847566</td>\n      <td>3.777477</td>\n      <td>3.715198</td>\n      <td>3.619913</td>\n      <td>3.556102</td>\n      <td>3.495686</td>\n      <td>3.438224</td>\n      <td>3.383351</td>\n      <td>3.330767</td>\n    </tr>\n    <tr>\n      <th>South_Africa_PV_4_high_temp_optimistic</th>\n      <td>8.301321</td>\n      <td>7.735446</td>\n      <td>7.214757</td>\n      <td>6.725080</td>\n      <td>6.257449</td>\n      <td>5.805842</td>\n      <td>5.366024</td>\n      <td>4.934896</td>\n      <td>4.510115</td>\n      <td>4.089858</td>\n      <td>...</td>\n      <td>2.785486</td>\n      <td>2.716458</td>\n      <td>2.650047</td>\n      <td>2.592917</td>\n      <td>2.495084</td>\n      <td>2.430448</td>\n      <td>2.368174</td>\n      <td>2.307988</td>\n      <td>2.249662</td>\n      <td>2.193002</td>\n    </tr>\n  </tbody>\n</table>\n<p>1660 rows × 31 columns</p>\n</div>"
     },
     "execution_count": 56,
     "metadata": {},
     "output_type": "execute_result"
    }
   ],
   "source": [
    "lcoh_green = pd.read_excel(\"/Users/jakob/PycharmProjects/H2_pathways_repo/data/raw/20220921_Data_Assumptions.xlsx\", sheet_name='LCOH_RES', decimal=',', index_col=0)\n",
    "lcoh_green"
   ],
   "metadata": {
    "collapsed": false,
    "pycharm": {
     "name": "#%%\n"
    }
   }
  },
  {
   "cell_type": "code",
   "execution_count": 67,
   "outputs": [
    {
     "data": {
      "text/plain": "0.05"
     },
     "execution_count": 67,
     "metadata": {},
     "output_type": "execute_result"
    }
   ],
   "source": [
    "# WACC for all transport investments (pipelines, terminals, liquefaction plants)\n",
    "i_tra = float(tea_lh2.loc['Liquefaction - Discount rate [%]']['LH2'])\n",
    "i_tra"
   ],
   "metadata": {
    "collapsed": false,
    "pycharm": {
     "name": "#%%\n"
    }
   }
  },
  {
   "cell_type": "markdown",
   "source": [
    "# Liquefaction"
   ],
   "metadata": {
    "collapsed": false,
    "pycharm": {
     "name": "#%% md\n"
    }
   }
  },
  {
   "cell_type": "code",
   "execution_count": 68,
   "outputs": [
    {
     "data": {
      "text/plain": "0.05"
     },
     "execution_count": 68,
     "metadata": {},
     "output_type": "execute_result"
    }
   ],
   "source": [
    "# WACC for liquefaction plant in %\n",
    "i_liq = float(tea_lh2.loc['Liquefaction - Discount rate [%]']['LH2'])\n",
    "i_liq"
   ],
   "metadata": {
    "collapsed": false,
    "pycharm": {
     "name": "#%%\n"
    }
   }
  },
  {
   "cell_type": "code",
   "execution_count": 69,
   "outputs": [
    {
     "data": {
      "text/plain": "30.0"
     },
     "execution_count": 69,
     "metadata": {},
     "output_type": "execute_result"
    }
   ],
   "source": [
    "# Economic lifetime for the liquefaction plant [years]\n",
    "l_liq = float(tea_lh2.loc['Liquefaction - Lifetime [Years]']['LH2'])\n",
    "l_liq"
   ],
   "metadata": {
    "collapsed": false,
    "pycharm": {
     "name": "#%%\n"
    }
   }
  },
  {
   "cell_type": "code",
   "execution_count": 70,
   "outputs": [
    {
     "data": {
      "text/plain": "0.06505143508027657"
     },
     "execution_count": 70,
     "metadata": {},
     "output_type": "execute_result"
    }
   ],
   "source": [
    "# Amortisation factor alpha for the liquefaction plant\n",
    "alpha_liq = (i_liq * (1 + i_liq) ** l_liq) /(((1 + i_liq) ** l_liq) - 1)\n",
    "alpha_liq\n"
   ],
   "metadata": {
    "collapsed": false,
    "pycharm": {
     "name": "#%%\n"
    }
   }
  },
  {
   "cell_type": "code",
   "execution_count": 71,
   "outputs": [
    {
     "data": {
      "text/plain": "0.04"
     },
     "execution_count": 71,
     "metadata": {},
     "output_type": "execute_result"
    }
   ],
   "source": [
    "opex_liq_share = float(tea_lh2.loc['Liquefaction - Opex opt. [% of Capex]']['LH2'])\n",
    "opex_liq_share"
   ],
   "metadata": {
    "collapsed": false,
    "pycharm": {
     "name": "#%%\n"
    }
   }
  },
  {
   "cell_type": "code",
   "execution_count": 72,
   "outputs": [
    {
     "data": {
      "text/plain": "46.9570923511"
     },
     "execution_count": 72,
     "metadata": {},
     "output_type": "execute_result"
    }
   ],
   "source": [
    "p_el_y = float(p_electricity.loc['Norway'][2025])\n",
    "p_el_y"
   ],
   "metadata": {
    "collapsed": false,
    "pycharm": {
     "name": "#%%\n"
    }
   }
  },
  {
   "cell_type": "markdown",
   "source": [],
   "metadata": {
    "collapsed": false,
    "pycharm": {
     "name": "#%% md\n"
    }
   }
  },
  {
   "cell_type": "markdown",
   "source": [
    "Calc. liquefaction cost\n",
    "alpha\n",
    "capex_liq_y Liquefaction - Capex opt. [€/kW]\n",
    "opex_liq_y Liquefaction - opex in [€/kW/a]\n",
    "electricity use [kwh/kg H2]\n",
    "electricity price [$/MWh]"
   ],
   "metadata": {
    "collapsed": false,
    "pycharm": {
     "name": "#%% md\n"
    }
   }
  },
  {
   "cell_type": "code",
   "execution_count": 73,
   "outputs": [],
   "source": [
    "# Definition of the cost calculation function for liquefaction costs. Time relevant variables = capex [€/tpa], opex [€/tpa],\n",
    "def calculate_liq_costs(alpha_liq, capex_liq_y, opex_liq_y, el_liq_y, p_el_y):\n",
    "\n",
    "    result = float((alpha_liq * capex_liq_y/8760 + opex_liq_y/8760) + el_liq_y  * p_el_y*0.89/1000)\n",
    "\n",
    "    return result"
   ],
   "metadata": {
    "collapsed": false,
    "pycharm": {
     "name": "#%%\n"
    }
   }
  },
  {
   "cell_type": "code",
   "execution_count": 74,
   "outputs": [
    {
     "data": {
      "text/plain": "70.41620400000001"
     },
     "execution_count": 74,
     "metadata": {},
     "output_type": "execute_result"
    }
   ],
   "source": [
    "opex_liq_y = float(tea_lh2.loc['Liquefaction - Capex opt. [€/kW]'][2030]) * opex_liq_share\n",
    "opex_liq_y"
   ],
   "metadata": {
    "collapsed": false,
    "pycharm": {
     "name": "#%%\n"
    }
   }
  },
  {
   "cell_type": "code",
   "execution_count": 75,
   "outputs": [
    {
     "data": {
      "text/plain": "      LH2_Liquefaction_costs\nYears                       \n2025                0.036464\n2026                0.035278\n2027                0.034149\n2028                0.033004\n2029                 0.03187\n2030                0.030753\n2031                0.029704\n2032                0.028707\n2033                0.027777\n2034                0.026819\n2035                0.025785\n2036                0.024682\n2037                0.023631\n2038                0.022645\n2039                0.021743\n2040                0.020824\n2041                0.020308\n2042                0.019818\n2043                0.019341\n2044                0.018862\n2045                0.018333\n2046                0.017707\n2047                0.016974\n2048                0.016184\n2049                0.015438\n2050                0.014777",
      "text/html": "<div>\n<style scoped>\n    .dataframe tbody tr th:only-of-type {\n        vertical-align: middle;\n    }\n\n    .dataframe tbody tr th {\n        vertical-align: top;\n    }\n\n    .dataframe thead th {\n        text-align: right;\n    }\n</style>\n<table border=\"1\" class=\"dataframe\">\n  <thead>\n    <tr style=\"text-align: right;\">\n      <th></th>\n      <th>LH2_Liquefaction_costs</th>\n    </tr>\n    <tr>\n      <th>Years</th>\n      <th></th>\n    </tr>\n  </thead>\n  <tbody>\n    <tr>\n      <th>2025</th>\n      <td>0.036464</td>\n    </tr>\n    <tr>\n      <th>2026</th>\n      <td>0.035278</td>\n    </tr>\n    <tr>\n      <th>2027</th>\n      <td>0.034149</td>\n    </tr>\n    <tr>\n      <th>2028</th>\n      <td>0.033004</td>\n    </tr>\n    <tr>\n      <th>2029</th>\n      <td>0.03187</td>\n    </tr>\n    <tr>\n      <th>2030</th>\n      <td>0.030753</td>\n    </tr>\n    <tr>\n      <th>2031</th>\n      <td>0.029704</td>\n    </tr>\n    <tr>\n      <th>2032</th>\n      <td>0.028707</td>\n    </tr>\n    <tr>\n      <th>2033</th>\n      <td>0.027777</td>\n    </tr>\n    <tr>\n      <th>2034</th>\n      <td>0.026819</td>\n    </tr>\n    <tr>\n      <th>2035</th>\n      <td>0.025785</td>\n    </tr>\n    <tr>\n      <th>2036</th>\n      <td>0.024682</td>\n    </tr>\n    <tr>\n      <th>2037</th>\n      <td>0.023631</td>\n    </tr>\n    <tr>\n      <th>2038</th>\n      <td>0.022645</td>\n    </tr>\n    <tr>\n      <th>2039</th>\n      <td>0.021743</td>\n    </tr>\n    <tr>\n      <th>2040</th>\n      <td>0.020824</td>\n    </tr>\n    <tr>\n      <th>2041</th>\n      <td>0.020308</td>\n    </tr>\n    <tr>\n      <th>2042</th>\n      <td>0.019818</td>\n    </tr>\n    <tr>\n      <th>2043</th>\n      <td>0.019341</td>\n    </tr>\n    <tr>\n      <th>2044</th>\n      <td>0.018862</td>\n    </tr>\n    <tr>\n      <th>2045</th>\n      <td>0.018333</td>\n    </tr>\n    <tr>\n      <th>2046</th>\n      <td>0.017707</td>\n    </tr>\n    <tr>\n      <th>2047</th>\n      <td>0.016974</td>\n    </tr>\n    <tr>\n      <th>2048</th>\n      <td>0.016184</td>\n    </tr>\n    <tr>\n      <th>2049</th>\n      <td>0.015438</td>\n    </tr>\n    <tr>\n      <th>2050</th>\n      <td>0.014777</td>\n    </tr>\n  </tbody>\n</table>\n</div>"
     },
     "execution_count": 75,
     "metadata": {},
     "output_type": "execute_result"
    }
   ],
   "source": [
    "# Calculation of liquefaction costs [€/kg_h2] from 2030 to 2050.\n",
    "years = np.arange(2025,2051)\n",
    "result = pd.DataFrame(index=years, columns=['LH2_Liquefaction_costs'])\n",
    "result.index.name = 'Years'\n",
    "\n",
    "for year in years:\n",
    "\n",
    "    # get capex, opex, natural gas price and CO2 price of specific year\n",
    "    capex_liq_y = float(tea_lh2.loc['Liquefaction - Capex opt. [€/kW]'][year])\n",
    "    opex_liq_y = float(tea_lh2.loc['Liquefaction - Capex opt. [€/kW]'][year]) * opex_liq_share\n",
    "    el_liq_y = float(tea_lh2.loc['Liquefaction - Electricity consumption opt. [kWh/kgH2]'][year]) / 33.33\n",
    "    p_el_y = float(p_electricity.loc['Norway'][year])\n",
    "\n",
    "    # calculate costs of specific year\n",
    "    result.LH2_Liquefaction_costs.loc[year] = calculate_liq_costs(alpha_liq=alpha_liq, capex_liq_y=capex_liq_y, opex_liq_y=opex_liq_y, el_liq_y=el_liq_y, p_el_y=p_el_y)\n",
    "\n",
    "result"
   ],
   "metadata": {
    "collapsed": false,
    "pycharm": {
     "name": "#%%\n"
    }
   }
  },
  {
   "cell_type": "code",
   "execution_count": 76,
   "outputs": [],
   "source": [
    "# Create csv file from results dataframe\n",
    "path=r'/Users/jakob/PycharmProjects/H2_pathways_repo/data/processed'\n",
    "output_file = os.path.join(path_csv,'LH2_Liquefaction_costs.csv')\n",
    "result.to_csv(output_file, sep = ';')"
   ],
   "metadata": {
    "collapsed": false,
    "pycharm": {
     "name": "#%%\n"
    }
   }
  },
  {
   "cell_type": "markdown",
   "source": [
    "Plot liquefaction costs"
   ],
   "metadata": {
    "collapsed": false,
    "pycharm": {
     "name": "#%% md\n"
    }
   }
  },
  {
   "cell_type": "code",
   "execution_count": 77,
   "outputs": [
    {
     "data": {
      "text/plain": "<Figure size 720x432 with 1 Axes>",
      "image/png": "[encoded data removed]"
     },
     "metadata": {
      "needs_background": "light"
     },
     "output_type": "display_data"
    }
   ],
   "source": [
    "# Plot cost curve for liquefaction\n",
    "fig, ax = plt.subplots(figsize=(10,6))\n",
    "plt.plot(result, color = 'cyan', linestyle = 'solid')\n",
    "plt.grid(True, axis = 'y')\n",
    "ax.set_axisbelow(True)\n",
    "plt.title('Cost curve for liquefaction', fontweight = 'bold')\n",
    "plt.legend(['Liquefaction costs in €/kg_H2'])\n",
    "plt.xlabel('Year')\n",
    "plt.ylabel('Cost [€/kg_H2]')\n",
    "plt.show()"
   ],
   "metadata": {
    "collapsed": false,
    "pycharm": {
     "name": "#%%\n"
    }
   }
  },
  {
   "cell_type": "markdown",
   "source": [
    "# Export terminal"
   ],
   "metadata": {
    "collapsed": false,
    "pycharm": {
     "name": "#%% md\n"
    }
   }
  },
  {
   "cell_type": "code",
   "execution_count": 78,
   "outputs": [],
   "source": [
    "# Lifetime of import and export terminals\n",
    "l_ter = float(tea_lh2.loc['Export Terminal - Technical lifetime [Years]']['LH2'])\n",
    "# Amortisation factor for the export terminal\n",
    "alpha_et = (i_tra * (1 + i_tra) ** l_ter) / (((1 + i_tra) ** l_ter) - 1)\n",
    "# Average storage time in the export terminal tanks in days\n",
    "t_et = float(tea_lh2.loc['Export Terminal - Storage length per load [Days]']['LH2'])\n",
    "# Electricity consumption for the export terminal [kWh/kg_h2]\n",
    "el_et = float(tea_lh2.loc['Export Terminal - Electricity use [kWh/kgH2]']['LH2'])\n",
    "el_et\n",
    "# Boil-off hydrogen in [%/day]\n",
    "bog_et = float(tea_lh2.loc['Export Terminal - Boil off rate [%/day]']['LH2'])\n",
    "bog_et\n",
    "# Average storage time in the export terminal tanks in days\n",
    "t_et = float(tea_lh2.loc['Export Terminal - Storage length per load [Days]']['LH2'])\n",
    "t_et\n",
    "el_reliq = float(tea_lh2.loc['Export Terminal - Energy use to reliquefy opt. [kWh/kg H2/day]']['LH2'])\n",
    "el_reliq\n",
    "opex_et_share = float(tea_lh2.loc['Export Terminal - Annual OPEX [% of CAPEX]']['LH2'])\n"
   ],
   "metadata": {
    "collapsed": false,
    "pycharm": {
     "name": "#%%\n"
    }
   }
  },
  {
   "cell_type": "code",
   "execution_count": 79,
   "outputs": [
    {
     "data": {
      "text/plain": "                LCOH_BLUE\nYears                    \n2025   1.5489534708990411\n2026   1.5406507382782189\n2027   1.5325377955873973\n2028   1.5246229991465754\n2029    1.516915073465753\n2030   1.5094231270849314\n2031    1.513193191482329\n2032    1.517277505408356\n2033    1.521682492908082\n2034   1.5264152313173218\n2035   1.5314834615685995\n2036   1.5368956001598135\n2037   1.5426607518609667\n2038   1.5487887242155618\n2039   1.5552900433644279\n2040   1.5621759712608503\n2041   1.5694585247969517\n2042    1.577150495742248\n2043   1.5852654724662794\n2044    1.593817863968109\n2045   1.6028229241263476\n2046    1.612296778854174\n2047   1.6222564544346092\n2048   1.6327199075620225\n2049   1.6437060570765656\n2050   1.6439307105628769",
      "text/html": "<div>\n<style scoped>\n    .dataframe tbody tr th:only-of-type {\n        vertical-align: middle;\n    }\n\n    .dataframe tbody tr th {\n        vertical-align: top;\n    }\n\n    .dataframe thead th {\n        text-align: right;\n    }\n</style>\n<table border=\"1\" class=\"dataframe\">\n  <thead>\n    <tr style=\"text-align: right;\">\n      <th></th>\n      <th>LCOH_BLUE</th>\n    </tr>\n    <tr>\n      <th>Years</th>\n      <th></th>\n    </tr>\n  </thead>\n  <tbody>\n    <tr>\n      <th>2025</th>\n      <td>1.5489534708990411</td>\n    </tr>\n    <tr>\n      <th>2026</th>\n      <td>1.5406507382782189</td>\n    </tr>\n    <tr>\n      <th>2027</th>\n      <td>1.5325377955873973</td>\n    </tr>\n    <tr>\n      <th>2028</th>\n      <td>1.5246229991465754</td>\n    </tr>\n    <tr>\n      <th>2029</th>\n      <td>1.516915073465753</td>\n    </tr>\n    <tr>\n      <th>2030</th>\n      <td>1.5094231270849314</td>\n    </tr>\n    <tr>\n      <th>2031</th>\n      <td>1.513193191482329</td>\n    </tr>\n    <tr>\n      <th>2032</th>\n      <td>1.517277505408356</td>\n    </tr>\n    <tr>\n      <th>2033</th>\n      <td>1.521682492908082</td>\n    </tr>\n    <tr>\n      <th>2034</th>\n      <td>1.5264152313173218</td>\n    </tr>\n    <tr>\n      <th>2035</th>\n      <td>1.5314834615685995</td>\n    </tr>\n    <tr>\n      <th>2036</th>\n      <td>1.5368956001598135</td>\n    </tr>\n    <tr>\n      <th>2037</th>\n      <td>1.5426607518609667</td>\n    </tr>\n    <tr>\n      <th>2038</th>\n      <td>1.5487887242155618</td>\n    </tr>\n    <tr>\n      <th>2039</th>\n      <td>1.5552900433644279</td>\n    </tr>\n    <tr>\n      <th>2040</th>\n      <td>1.5621759712608503</td>\n    </tr>\n    <tr>\n      <th>2041</th>\n      <td>1.5694585247969517</td>\n    </tr>\n    <tr>\n      <th>2042</th>\n      <td>1.577150495742248</td>\n    </tr>\n    <tr>\n      <th>2043</th>\n      <td>1.5852654724662794</td>\n    </tr>\n    <tr>\n      <th>2044</th>\n      <td>1.593817863968109</td>\n    </tr>\n    <tr>\n      <th>2045</th>\n      <td>1.6028229241263476</td>\n    </tr>\n    <tr>\n      <th>2046</th>\n      <td>1.612296778854174</td>\n    </tr>\n    <tr>\n      <th>2047</th>\n      <td>1.6222564544346092</td>\n    </tr>\n    <tr>\n      <th>2048</th>\n      <td>1.6327199075620225</td>\n    </tr>\n    <tr>\n      <th>2049</th>\n      <td>1.6437060570765656</td>\n    </tr>\n    <tr>\n      <th>2050</th>\n      <td>1.6439307105628769</td>\n    </tr>\n  </tbody>\n</table>\n</div>"
     },
     "execution_count": 79,
     "metadata": {},
     "output_type": "execute_result"
    }
   ],
   "source": [
    "# Cost of transported hydrogen in [$/kg_h2] in year y\n",
    "lcoh_ngr = pd.read_csv(\"/Users/jakob/PycharmProjects/H2_pathways_repo/data/processed/LCOH_NGR.csv\", delimiter=';', decimal=',', index_col=0)\n",
    "lcoh_ngr"
   ],
   "metadata": {
    "collapsed": false,
    "pycharm": {
     "name": "#%%\n"
    }
   }
  },
  {
   "cell_type": "markdown",
   "source": [],
   "metadata": {
    "collapsed": false,
    "pycharm": {
     "name": "#%% md\n"
    }
   }
  },
  {
   "cell_type": "markdown",
   "source": [
    "Calc. export terminal cost"
   ],
   "metadata": {
    "collapsed": false,
    "pycharm": {
     "name": "#%% md\n"
    }
   }
  },
  {
   "cell_type": "code",
   "execution_count": 80,
   "outputs": [],
   "source": [
    "# Definition of the cost calculation function for the Export terminal.\n",
    "# Time relevant variables = capex [$/tpa], opex [$/tpa], electricity use [kwh/kg H2], electricity price [$/MWh], boil off in [%/d], storage time in days, lcoh in [$/kg_h2]\n",
    "def calculate_export_terminal_costs(alpha_et, capex_et_y, opex_et_y, el_et, p_el_y, lcoh_ngr_y):\n",
    "    result = (alpha_et * capex_et_y/1000 + opex_et_y/1000) + el_et * p_el_y*0.89/1000 + bog_et * t_et * lcoh_ngr_y\n",
    "\n",
    "    return result"
   ],
   "metadata": {
    "collapsed": false,
    "pycharm": {
     "name": "#%%\n"
    }
   }
  },
  {
   "cell_type": "code",
   "execution_count": 81,
   "outputs": [],
   "source": [
    "#Calculation of export terminal costs [$/kg_h2] from 2030 to 2050.\n",
    "years = np.arange(2025, 2051)\n",
    "result = pd.DataFrame(index=years, columns=['LH2_Export_terminal_costs'])\n",
    "result.index.name = 'Years'"
   ],
   "metadata": {
    "collapsed": false,
    "pycharm": {
     "name": "#%%\n"
    }
   }
  },
  {
   "cell_type": "code",
   "execution_count": 82,
   "outputs": [
    {
     "data": {
      "text/plain": "      LH2_Export_terminal_costs\nYears                          \n2025                   0.191192\n2026                    0.18921\n2027                   0.187361\n2028                    0.18547\n2029                   0.183602\n2030                   0.181775\n2031                   0.178162\n2032                   0.174685\n2033                   0.171394\n2034                   0.168038\n2035                   0.164485\n2036                   0.160749\n2037                   0.157155\n2038                    0.15375\n2039                   0.150591\n2040                   0.147403\n2041                   0.144281\n2042                   0.141262\n2043                   0.138313\n2044                   0.135394\n2045                   0.132348\n2046                   0.129009\n2047                   0.125319\n2048                   0.121431\n2049                   0.117688\n2050                   0.114174",
      "text/html": "<div>\n<style scoped>\n    .dataframe tbody tr th:only-of-type {\n        vertical-align: middle;\n    }\n\n    .dataframe tbody tr th {\n        vertical-align: top;\n    }\n\n    .dataframe thead th {\n        text-align: right;\n    }\n</style>\n<table border=\"1\" class=\"dataframe\">\n  <thead>\n    <tr style=\"text-align: right;\">\n      <th></th>\n      <th>LH2_Export_terminal_costs</th>\n    </tr>\n    <tr>\n      <th>Years</th>\n      <th></th>\n    </tr>\n  </thead>\n  <tbody>\n    <tr>\n      <th>2025</th>\n      <td>0.191192</td>\n    </tr>\n    <tr>\n      <th>2026</th>\n      <td>0.18921</td>\n    </tr>\n    <tr>\n      <th>2027</th>\n      <td>0.187361</td>\n    </tr>\n    <tr>\n      <th>2028</th>\n      <td>0.18547</td>\n    </tr>\n    <tr>\n      <th>2029</th>\n      <td>0.183602</td>\n    </tr>\n    <tr>\n      <th>2030</th>\n      <td>0.181775</td>\n    </tr>\n    <tr>\n      <th>2031</th>\n      <td>0.178162</td>\n    </tr>\n    <tr>\n      <th>2032</th>\n      <td>0.174685</td>\n    </tr>\n    <tr>\n      <th>2033</th>\n      <td>0.171394</td>\n    </tr>\n    <tr>\n      <th>2034</th>\n      <td>0.168038</td>\n    </tr>\n    <tr>\n      <th>2035</th>\n      <td>0.164485</td>\n    </tr>\n    <tr>\n      <th>2036</th>\n      <td>0.160749</td>\n    </tr>\n    <tr>\n      <th>2037</th>\n      <td>0.157155</td>\n    </tr>\n    <tr>\n      <th>2038</th>\n      <td>0.15375</td>\n    </tr>\n    <tr>\n      <th>2039</th>\n      <td>0.150591</td>\n    </tr>\n    <tr>\n      <th>2040</th>\n      <td>0.147403</td>\n    </tr>\n    <tr>\n      <th>2041</th>\n      <td>0.144281</td>\n    </tr>\n    <tr>\n      <th>2042</th>\n      <td>0.141262</td>\n    </tr>\n    <tr>\n      <th>2043</th>\n      <td>0.138313</td>\n    </tr>\n    <tr>\n      <th>2044</th>\n      <td>0.135394</td>\n    </tr>\n    <tr>\n      <th>2045</th>\n      <td>0.132348</td>\n    </tr>\n    <tr>\n      <th>2046</th>\n      <td>0.129009</td>\n    </tr>\n    <tr>\n      <th>2047</th>\n      <td>0.125319</td>\n    </tr>\n    <tr>\n      <th>2048</th>\n      <td>0.121431</td>\n    </tr>\n    <tr>\n      <th>2049</th>\n      <td>0.117688</td>\n    </tr>\n    <tr>\n      <th>2050</th>\n      <td>0.114174</td>\n    </tr>\n  </tbody>\n</table>\n</div>"
     },
     "execution_count": 82,
     "metadata": {},
     "output_type": "execute_result"
    }
   ],
   "source": [
    "for year in years:\n",
    "    # get capex, opex, xx\n",
    "    capex_et_y = float(tea_lh2.loc['Export Terminal - CAPEX/tank [€/t/a]'][year])\n",
    "    opex_et_y = float(tea_lh2.loc['Export Terminal - Annual OPEX [% of CAPEX]'][year])\n",
    "    p_el_y = float(p_electricity.loc['Norway'][year])\n",
    "    lcoh_ngr_y = float(lcoh_ngr.loc[year]['LCOH_BLUE'])\n",
    "\n",
    "    # calculate costs of specific year\n",
    "    result.LH2_Export_terminal_costs.loc[year] = calculate_export_terminal_costs(alpha_et=alpha_et, capex_et_y=capex_et_y,\n",
    "                                                              opex_et_y=opex_et_y, el_et=el_et, p_el_y=p_el_y, lcoh_ngr_y=lcoh_ngr_y)\n",
    "\n",
    "result"
   ],
   "metadata": {
    "collapsed": false,
    "pycharm": {
     "name": "#%%\n"
    }
   }
  },
  {
   "cell_type": "code",
   "execution_count": 83,
   "outputs": [],
   "source": [
    "# Create csv file from results dataframe\n",
    "path_csv= r'/Users/jakob/PycharmProjects/H2_pathways_repo/data/processed'\n",
    "output_file = os.path.join(path_csv, 'LH2_Export_terminal_costs.csv')\n",
    "result.to_csv(output_file, sep=';')"
   ],
   "metadata": {
    "collapsed": false,
    "pycharm": {
     "name": "#%%\n"
    }
   }
  },
  {
   "cell_type": "markdown",
   "source": [
    "Plot export terminal costs"
   ],
   "metadata": {
    "collapsed": false,
    "pycharm": {
     "name": "#%% md\n"
    }
   }
  },
  {
   "cell_type": "code",
   "execution_count": 51,
   "outputs": [
    {
     "data": {
      "text/plain": "<Figure size 720x432 with 1 Axes>",
      "image/png": "[encoded data removed]"
     },
     "metadata": {
      "needs_background": "light"
     },
     "output_type": "display_data"
    }
   ],
   "source": [
    "# Plot cost curve for export terminal costs\n",
    "fig, ax = plt.subplots(figsize=(10,6))\n",
    "plt.plot(result, color = 'red', linestyle = 'solid')\n",
    "plt.grid(True, axis = 'y')\n",
    "ax.set_axisbelow(True)\n",
    "plt.plot(result, color='red', linestyle='dashed')\n",
    "plt.title('Export terminal costs over time', fontweight='bold', fontsize='large')\n",
    "plt.legend(['Export terminal costs in €/kg_H2'])\n",
    "plt.xlabel('Year', fontsize='large')\n",
    "plt.ylabel('Cost [€/kg_H2]', fontsize='large')\n",
    "plt.show()"
   ],
   "metadata": {
    "collapsed": false,
    "pycharm": {
     "name": "#%%\n"
    }
   }
  },
  {
   "cell_type": "markdown",
   "source": [],
   "metadata": {
    "collapsed": false,
    "pycharm": {
     "name": "#%% md\n"
    }
   }
  },
  {
   "cell_type": "markdown",
   "source": [
    "# Shipping"
   ],
   "metadata": {
    "collapsed": false,
    "pycharm": {
     "name": "#%% md\n"
    }
   }
  },
  {
   "cell_type": "code",
   "execution_count": 519,
   "outputs": [
    {
     "data": {
      "text/plain": "30.0"
     },
     "execution_count": 519,
     "metadata": {},
     "output_type": "execute_result"
    }
   ],
   "source": [
    "# Technical lifetime of ships in years\n",
    "l_ship = float(tea_lh2.loc['Shipping - Technical Lifetime [Years]']['LH2'])\n",
    "l_ship"
   ],
   "metadata": {
    "collapsed": false,
    "pycharm": {
     "name": "#%%\n"
    }
   }
  },
  {
   "cell_type": "code",
   "execution_count": 520,
   "outputs": [
    {
     "data": {
      "text/plain": "0.08882743338727227"
     },
     "execution_count": 520,
     "metadata": {},
     "output_type": "execute_result"
    }
   ],
   "source": [
    "# Amortisation factor for shipping\n",
    "alpha_ship = (i_tra * (1 + i_tra) ** l_ship) / (((1 + i_tra) ** l_ship) - 1)\n",
    "alpha_ship\n"
   ],
   "metadata": {
    "collapsed": false,
    "pycharm": {
     "name": "#%%\n"
    }
   }
  },
  {
   "cell_type": "code",
   "execution_count": 521,
   "outputs": [
    {
     "data": {
      "text/plain": "602.403"
     },
     "execution_count": 521,
     "metadata": {},
     "output_type": "execute_result"
    }
   ],
   "source": [
    "# Distance between countries via ship in [km]\n",
    "d_sea = float(tra_d[(tra_d['Origin_Country'] == 'Norway') & (tra_d['Destination_Country'] == 'Germany')]['sea distance (km)'].values)\n",
    "d_sea\n"
   ],
   "metadata": {
    "collapsed": false,
    "pycharm": {
     "name": "#%%\n"
    }
   }
  },
  {
   "cell_type": "code",
   "execution_count": 522,
   "outputs": [
    {
     "data": {
      "text/plain": "30.0"
     },
     "execution_count": 522,
     "metadata": {},
     "output_type": "execute_result"
    }
   ],
   "source": [
    "# Ship speed in [km/h]\n",
    "v_ship = float(tea_lh2.loc['Shipping - Ship speed [km/h]']['LH2'])\n",
    "v_ship"
   ],
   "metadata": {
    "collapsed": false,
    "pycharm": {
     "name": "#%%\n"
    }
   }
  },
  {
   "cell_type": "code",
   "execution_count": 523,
   "outputs": [
    {
     "data": {
      "text/plain": "48.0"
     },
     "execution_count": 523,
     "metadata": {},
     "output_type": "execute_result"
    }
   ],
   "source": [
    "# Berthing time (time for unloading and loading in a harbour) in [h]\n",
    "h_ship = float(tea_lh2.loc['Shipping - Berthing time [hours]']['LH2'])\n",
    "h_ship\n"
   ],
   "metadata": {
    "collapsed": false,
    "pycharm": {
     "name": "#%%\n"
    }
   }
  },
  {
   "cell_type": "code",
   "execution_count": 524,
   "outputs": [
    {
     "data": {
      "text/plain": "8.333333333333333e-05"
     },
     "execution_count": 524,
     "metadata": {},
     "output_type": "execute_result"
    }
   ],
   "source": [
    "# Boil-off when shipping in [%/day] to [%/hour]\n",
    "bog_ship = float(tea_lh2.loc['Shipping - Boil off opt. [%/day]']['LH2'])/24\n",
    "bog_ship"
   ],
   "metadata": {
    "collapsed": false,
    "pycharm": {
     "name": "#%%\n"
    }
   }
  },
  {
   "cell_type": "code",
   "execution_count": 525,
   "outputs": [
    {
     "data": {
      "text/plain": "1.1268181818181817e-05"
     },
     "execution_count": 525,
     "metadata": {},
     "output_type": "execute_result"
    }
   ],
   "source": [
    "# Fuel consumption of a ship in [kg_h2/t/km]\n",
    "f_ship = float(tea_lh2.loc['Shipping - Fuel use [kg H2/t/km]']['LH2'])/1000\n",
    "f_ship"
   ],
   "metadata": {
    "collapsed": false,
    "pycharm": {
     "name": "#%%\n"
    }
   }
  },
  {
   "cell_type": "markdown",
   "source": [
    "Calc. shipping costs @ 10.000km"
   ],
   "metadata": {
    "collapsed": false,
    "pycharm": {
     "name": "#%% md\n"
    }
   }
  },
  {
   "cell_type": "code",
   "execution_count": 526,
   "outputs": [],
   "source": [
    "d_sea = 10000"
   ],
   "metadata": {
    "collapsed": false,
    "pycharm": {
     "name": "#%%\n"
    }
   }
  },
  {
   "cell_type": "markdown",
   "source": [
    "Definition of the cost calculation function for the maritime shipping.\n",
    " [%]\n",
    "d_sea [km]\n",
    "v_ship [km/h]\n",
    "h_ship [h] berthing time\n",
    "bog_ship [%/day]\n",
    "f_ship [kg/kg/km]] Fuel use\n",
    "Time relevant variables:\n",
    "capex [€/kg/a]\n",
    "opex [€/kg/a]\n",
    "lcoh in [€/kg_h2]"
   ],
   "metadata": {
    "collapsed": false,
    "pycharm": {
     "name": "#%% md\n"
    }
   }
  },
  {
   "cell_type": "code",
   "execution_count": 527,
   "outputs": [],
   "source": [
    "def calculate_ship_costs(alpha_ship, capex_ship_y, opex_ship_y, d_sea, v_ship, h_ship, bog_ship, f_ship, lcoh_ngr_y):\n",
    "    result = (alpha_ship * capex_ship_y + opex_ship_y) / (8760/(2*(d_sea/v_ship + h_ship)))\\\n",
    "             /(1-(bog_ship * d_sea/v_ship) - (f_ship  * d_sea))\\\n",
    "             + (bog_ship * d_sea/v_ship + f_ship * d_sea) * lcoh_ngr_y\n",
    "\n",
    "    return result"
   ],
   "metadata": {
    "collapsed": false,
    "pycharm": {
     "name": "#%%\n"
    }
   }
  },
  {
   "cell_type": "code",
   "execution_count": 528,
   "outputs": [
    {
     "data": {
      "text/plain": "      LH2_Shipping_costs\nYears                   \n2025            2.021315\n2026            1.928708\n2027            1.836128\n2028            1.743575\n2029            1.651052\n2030            1.558559\n2031            1.467648\n2032            1.376781\n2033            1.285959\n2034            1.195183\n2035            1.104454\n2036            1.013774\n2037            0.923143\n2038            0.832563\n2039            0.742035\n2040            0.651562\n2041            0.652585\n2042            0.653665\n2043            0.654805\n2044            0.656006\n2045            0.657271\n2046            0.658602\n2047            0.660001\n2048             0.66147\n2049            0.663014\n2050            0.663045",
      "text/html": "<div>\n<style scoped>\n    .dataframe tbody tr th:only-of-type {\n        vertical-align: middle;\n    }\n\n    .dataframe tbody tr th {\n        vertical-align: top;\n    }\n\n    .dataframe thead th {\n        text-align: right;\n    }\n</style>\n<table border=\"1\" class=\"dataframe\">\n  <thead>\n    <tr style=\"text-align: right;\">\n      <th></th>\n      <th>LH2_Shipping_costs</th>\n    </tr>\n    <tr>\n      <th>Years</th>\n      <th></th>\n    </tr>\n  </thead>\n  <tbody>\n    <tr>\n      <th>2025</th>\n      <td>2.021315</td>\n    </tr>\n    <tr>\n      <th>2026</th>\n      <td>1.928708</td>\n    </tr>\n    <tr>\n      <th>2027</th>\n      <td>1.836128</td>\n    </tr>\n    <tr>\n      <th>2028</th>\n      <td>1.743575</td>\n    </tr>\n    <tr>\n      <th>2029</th>\n      <td>1.651052</td>\n    </tr>\n    <tr>\n      <th>2030</th>\n      <td>1.558559</td>\n    </tr>\n    <tr>\n      <th>2031</th>\n      <td>1.467648</td>\n    </tr>\n    <tr>\n      <th>2032</th>\n      <td>1.376781</td>\n    </tr>\n    <tr>\n      <th>2033</th>\n      <td>1.285959</td>\n    </tr>\n    <tr>\n      <th>2034</th>\n      <td>1.195183</td>\n    </tr>\n    <tr>\n      <th>2035</th>\n      <td>1.104454</td>\n    </tr>\n    <tr>\n      <th>2036</th>\n      <td>1.013774</td>\n    </tr>\n    <tr>\n      <th>2037</th>\n      <td>0.923143</td>\n    </tr>\n    <tr>\n      <th>2038</th>\n      <td>0.832563</td>\n    </tr>\n    <tr>\n      <th>2039</th>\n      <td>0.742035</td>\n    </tr>\n    <tr>\n      <th>2040</th>\n      <td>0.651562</td>\n    </tr>\n    <tr>\n      <th>2041</th>\n      <td>0.652585</td>\n    </tr>\n    <tr>\n      <th>2042</th>\n      <td>0.653665</td>\n    </tr>\n    <tr>\n      <th>2043</th>\n      <td>0.654805</td>\n    </tr>\n    <tr>\n      <th>2044</th>\n      <td>0.656006</td>\n    </tr>\n    <tr>\n      <th>2045</th>\n      <td>0.657271</td>\n    </tr>\n    <tr>\n      <th>2046</th>\n      <td>0.658602</td>\n    </tr>\n    <tr>\n      <th>2047</th>\n      <td>0.660001</td>\n    </tr>\n    <tr>\n      <th>2048</th>\n      <td>0.66147</td>\n    </tr>\n    <tr>\n      <th>2049</th>\n      <td>0.663014</td>\n    </tr>\n    <tr>\n      <th>2050</th>\n      <td>0.663045</td>\n    </tr>\n  </tbody>\n</table>\n</div>"
     },
     "execution_count": 528,
     "metadata": {},
     "output_type": "execute_result"
    }
   ],
   "source": [
    "# Calculation of shipping costs [€/kg_h2] from 2030 to 2050.\n",
    "years = np.arange(2025, 2051)\n",
    "result = pd.DataFrame(index=years, columns=['LH2_Shipping_costs'])\n",
    "result.index.name = 'Years'\n",
    "\n",
    "for year in years:\n",
    "    # get capex, opex, xx\n",
    "    capex_ship_y = float(tea_lh2.loc['Shipping - Capex/Ship opt. [€/t/a]'][year])/1000\n",
    "    opex_ship_y = float(tea_lh2.loc['Shipping - Annual Opex opt. [€/t/a]'][year])/1000\n",
    "    lcoh_ngr_y = float(lcoh_ngr.loc[year]['LCOH_BLUE'])\n",
    "\n",
    "    # calculate costs of specific year\n",
    "    result.LH2_Shipping_costs.loc[year] = calculate_ship_costs(alpha_ship=alpha_ship, capex_ship_y=capex_ship_y, opex_ship_y=opex_ship_y, d_sea=d_sea, v_ship=v_ship, h_ship=h_ship, bog_ship=bog_ship, f_ship=f_ship, lcoh_ngr_y=lcoh_ngr_y)\n",
    "\n",
    "result"
   ],
   "metadata": {
    "collapsed": false,
    "pycharm": {
     "name": "#%%\n"
    }
   }
  },
  {
   "cell_type": "code",
   "execution_count": 529,
   "outputs": [],
   "source": [
    "# Create csv file from results dataframe\n",
    "path_csv= r'/Users/jakob/PycharmProjects/H2_pathways_repo/data/processed'\n",
    "output_file = os.path.join(path_csv, 'LH2_Shipping_costs.csv')\n",
    "result.to_csv(output_file, sep=';')"
   ],
   "metadata": {
    "collapsed": false,
    "pycharm": {
     "name": "#%%\n"
    }
   }
  },
  {
   "cell_type": "markdown",
   "source": [
    "Plot shipping costs"
   ],
   "metadata": {
    "collapsed": false,
    "pycharm": {
     "name": "#%% md\n"
    }
   }
  },
  {
   "cell_type": "code",
   "execution_count": 530,
   "outputs": [
    {
     "data": {
      "text/plain": "<Figure size 720x432 with 1 Axes>",
      "image/png": "[encoded data removed]"
     },
     "metadata": {
      "needs_background": "light"
     },
     "output_type": "display_data"
    }
   ],
   "source": [
    "# Plot cost curve of hydrogen production from NGR with CCS\n",
    "fig, ax = plt.subplots(figsize=(10,6))\n",
    "plt.plot(result, color = 'green', linestyle = 'solid')\n",
    "plt.grid(True, axis = 'y')\n",
    "ax.set_axisbelow(True)\n",
    "plt.title('Shipping costs over time in €/kg H2', fontweight='bold')\n",
    "plt.xlabel('Year')\n",
    "plt.ylabel('Cost')\n",
    "plt.show()"
   ],
   "metadata": {
    "collapsed": false,
    "pycharm": {
     "name": "#%%\n"
    }
   }
  },
  {
   "cell_type": "markdown",
   "source": [
    "# Import terminal"
   ],
   "metadata": {
    "collapsed": false,
    "pycharm": {
     "name": "#%% md\n"
    }
   }
  },
  {
   "cell_type": "code",
   "execution_count": 531,
   "outputs": [],
   "source": [
    "# Definition of variables for the import terminal costs"
   ],
   "metadata": {
    "collapsed": false,
    "pycharm": {
     "name": "#%%\n"
    }
   }
  },
  {
   "cell_type": "code",
   "execution_count": 532,
   "outputs": [],
   "source": [
    "# Amortisation factor for the import terminal\n",
    "alpha_it = alpha_et"
   ],
   "metadata": {
    "collapsed": false,
    "pycharm": {
     "name": "#%%\n"
    }
   }
  },
  {
   "cell_type": "code",
   "execution_count": 533,
   "outputs": [
    {
     "data": {
      "text/plain": "0.2"
     },
     "execution_count": 533,
     "metadata": {},
     "output_type": "execute_result"
    }
   ],
   "source": [
    "# Electricity consumption in kWh/kg H2\n",
    "el_it = float(tea_lh2.loc['Import Terminal - Electricity use [kWh/kg H2]']['LH2'])\n",
    "el_it"
   ],
   "metadata": {
    "collapsed": false,
    "pycharm": {
     "name": "#%%\n"
    }
   }
  },
  {
   "cell_type": "code",
   "execution_count": 534,
   "outputs": [
    {
     "data": {
      "text/plain": "0.001"
     },
     "execution_count": 534,
     "metadata": {},
     "output_type": "execute_result"
    }
   ],
   "source": [
    "# Import terminal boil-off in [%/day]\n",
    "bog_it = float(tea_lh2.loc['Import Terminal - Boil-off [%/day]']['LH2'])\n",
    "bog_it"
   ],
   "metadata": {
    "collapsed": false,
    "pycharm": {
     "name": "#%%\n"
    }
   }
  },
  {
   "cell_type": "code",
   "execution_count": 535,
   "outputs": [
    {
     "data": {
      "text/plain": "7.0"
     },
     "execution_count": 535,
     "metadata": {},
     "output_type": "execute_result"
    }
   ],
   "source": [
    "# Average storage time in the export terminal tanks in days\n",
    "t_it = float(tea_lh2.loc['Import Terminal - Storage length per load [days]']['LH2'])\n",
    "t_it"
   ],
   "metadata": {
    "collapsed": false,
    "pycharm": {
     "name": "#%%\n"
    }
   }
  },
  {
   "cell_type": "code",
   "execution_count": 536,
   "outputs": [],
   "source": [
    "# Import terminal costs in [$/kg_h2]:\n",
    "# Capex for the import terminal in [$/tpa]\n",
    "# Opex for the import terminal in [$/tpa]\n",
    "# Electricity consumption for the import terminal in [kWh/kg_h2]\n",
    "# Price for electricity in importing country [$/MWh]\n",
    "# Import terminal boil-off in [%/h]\n",
    "# Berthing time in import terminal in [h]\n",
    "# Cost of transported hydrogen in [$/kg_h2]\n",
    "years = np.arange(2025, 2051)\n",
    "result = pd.DataFrame(index=years, columns=['LH2_Import_terminal_costs'])\n",
    "result.index.name = 'Years'\n",
    "\n",
    "def calculate_import_terminal_costs(alpha_it, capex_it_y, opex_it_y, bog_it, t_it, lcoh_ngr_y):\n",
    "    result = (alpha_it * capex_it_y/1000 + opex_it_y/1000) + bog_it * t_it * lcoh_ngr_y\n",
    "\n",
    "    return result"
   ],
   "metadata": {
    "collapsed": false,
    "pycharm": {
     "name": "#%%\n"
    }
   }
  },
  {
   "cell_type": "code",
   "execution_count": 537,
   "outputs": [
    {
     "data": {
      "text/plain": "      LH2_Import_terminal_costs\nYears                          \n2025                   0.199142\n2026                   0.197102\n2027                   0.195063\n2028                   0.193025\n2029                   0.190989\n2030                   0.188955\n2031                   0.184521\n2032                    0.18009\n2033                   0.175661\n2034                   0.171235\n2035                   0.166811\n2036                   0.162389\n2037                   0.157969\n2038                   0.153553\n2039                   0.149138\n2040                   0.144727\n2041                   0.140318\n2042                   0.135912\n2043                   0.131509\n2044                   0.127109\n2045                   0.122713\n2046                   0.118319\n2047                   0.113929\n2048                   0.109543\n2049                    0.10516\n2050                   0.100702",
      "text/html": "<div>\n<style scoped>\n    .dataframe tbody tr th:only-of-type {\n        vertical-align: middle;\n    }\n\n    .dataframe tbody tr th {\n        vertical-align: top;\n    }\n\n    .dataframe thead th {\n        text-align: right;\n    }\n</style>\n<table border=\"1\" class=\"dataframe\">\n  <thead>\n    <tr style=\"text-align: right;\">\n      <th></th>\n      <th>LH2_Import_terminal_costs</th>\n    </tr>\n    <tr>\n      <th>Years</th>\n      <th></th>\n    </tr>\n  </thead>\n  <tbody>\n    <tr>\n      <th>2025</th>\n      <td>0.199142</td>\n    </tr>\n    <tr>\n      <th>2026</th>\n      <td>0.197102</td>\n    </tr>\n    <tr>\n      <th>2027</th>\n      <td>0.195063</td>\n    </tr>\n    <tr>\n      <th>2028</th>\n      <td>0.193025</td>\n    </tr>\n    <tr>\n      <th>2029</th>\n      <td>0.190989</td>\n    </tr>\n    <tr>\n      <th>2030</th>\n      <td>0.188955</td>\n    </tr>\n    <tr>\n      <th>2031</th>\n      <td>0.184521</td>\n    </tr>\n    <tr>\n      <th>2032</th>\n      <td>0.18009</td>\n    </tr>\n    <tr>\n      <th>2033</th>\n      <td>0.175661</td>\n    </tr>\n    <tr>\n      <th>2034</th>\n      <td>0.171235</td>\n    </tr>\n    <tr>\n      <th>2035</th>\n      <td>0.166811</td>\n    </tr>\n    <tr>\n      <th>2036</th>\n      <td>0.162389</td>\n    </tr>\n    <tr>\n      <th>2037</th>\n      <td>0.157969</td>\n    </tr>\n    <tr>\n      <th>2038</th>\n      <td>0.153553</td>\n    </tr>\n    <tr>\n      <th>2039</th>\n      <td>0.149138</td>\n    </tr>\n    <tr>\n      <th>2040</th>\n      <td>0.144727</td>\n    </tr>\n    <tr>\n      <th>2041</th>\n      <td>0.140318</td>\n    </tr>\n    <tr>\n      <th>2042</th>\n      <td>0.135912</td>\n    </tr>\n    <tr>\n      <th>2043</th>\n      <td>0.131509</td>\n    </tr>\n    <tr>\n      <th>2044</th>\n      <td>0.127109</td>\n    </tr>\n    <tr>\n      <th>2045</th>\n      <td>0.122713</td>\n    </tr>\n    <tr>\n      <th>2046</th>\n      <td>0.118319</td>\n    </tr>\n    <tr>\n      <th>2047</th>\n      <td>0.113929</td>\n    </tr>\n    <tr>\n      <th>2048</th>\n      <td>0.109543</td>\n    </tr>\n    <tr>\n      <th>2049</th>\n      <td>0.10516</td>\n    </tr>\n    <tr>\n      <th>2050</th>\n      <td>0.100702</td>\n    </tr>\n  </tbody>\n</table>\n</div>"
     },
     "execution_count": 537,
     "metadata": {},
     "output_type": "execute_result"
    }
   ],
   "source": [
    "for year in years:\n",
    "    # get capex, opex, xx\n",
    "    capex_it_y = float(tea_lh2.loc['Import Terminal - CAPEX [€/t/a]'][year])\n",
    "    opex_it_y = float(tea_lh2.loc['Import Terminal - OPEX [€/t/a]'][year])\n",
    "    p_el_y = float(p_electricity.loc['Germany'][year])\n",
    "    lcoh_ngr_y = float(lcoh_ngr.loc[year]['LCOH_BLUE'])\n",
    "\n",
    "    # calculate costs of specific year\n",
    "    result.LH2_Import_terminal_costs.loc[year] = calculate_import_terminal_costs(alpha_it=alpha_it, capex_it_y=capex_it_y, opex_it_y=opex_it_y, bog_it=bog_it, t_it=t_it, lcoh_ngr_y=lcoh_ngr_y)\n",
    "\n",
    "result"
   ],
   "metadata": {
    "collapsed": false,
    "pycharm": {
     "name": "#%%\n"
    }
   }
  },
  {
   "cell_type": "code",
   "execution_count": 538,
   "outputs": [],
   "source": [
    "# Create csv file from results dataframe\n",
    "path_csv= r'/Users/jakob/PycharmProjects/H2_pathways_repo/data/processed'\n",
    "output_file = os.path.join(path_csv, 'LH2_Import_terminal_costs.csv')\n",
    "result.to_csv(output_file, sep=';')"
   ],
   "metadata": {
    "collapsed": false,
    "pycharm": {
     "name": "#%%\n"
    }
   }
  },
  {
   "cell_type": "markdown",
   "source": [
    "Plot import terminal costs"
   ],
   "metadata": {
    "collapsed": false,
    "pycharm": {
     "name": "#%% md\n"
    }
   }
  },
  {
   "cell_type": "code",
   "execution_count": 539,
   "outputs": [
    {
     "data": {
      "text/plain": "<Figure size 720x432 with 1 Axes>",
      "image/png": "[encoded data removed]"
     },
     "metadata": {
      "needs_background": "light"
     },
     "output_type": "display_data"
    }
   ],
   "source": [
    "fig, ax = plt.subplots(figsize=(10,6))\n",
    "plt.plot(result, color = 'red', linestyle = 'solid')\n",
    "plt.grid(True, axis = 'y')\n",
    "ax.set_axisbelow(True)\n",
    "plt.plot(result, color='red', linestyle='dashed')\n",
    "plt.title('Import terminal costs over time', fontweight='bold', fontsize='large')\n",
    "plt.legend(['Import terminal costs in €/kg_H2'])\n",
    "plt.xlabel('Year', fontsize='large')\n",
    "plt.ylabel('Cost [€/kg_H2]', fontsize='large')\n",
    "plt.show()"
   ],
   "metadata": {
    "collapsed": false,
    "pycharm": {
     "name": "#%%\n"
    }
   }
  },
  {
   "cell_type": "markdown",
   "source": [
    "# Reconversion"
   ],
   "metadata": {
    "collapsed": false,
    "pycharm": {
     "name": "#%% md\n"
    }
   }
  },
  {
   "cell_type": "code",
   "execution_count": 540,
   "outputs": [
    {
     "ename": "KeyError",
     "evalue": "'Reconversion - Lifetime [Years]'",
     "output_type": "error",
     "traceback": [
      "\u001B[0;31m---------------------------------------------------------------------------\u001B[0m",
      "\u001B[0;31mKeyError\u001B[0m                                  Traceback (most recent call last)",
      "File \u001B[0;32m~/PycharmProjects/H2_pathways_repo/env_H2/lib/python3.10/site-packages/pandas/core/indexes/base.py:3621\u001B[0m, in \u001B[0;36mIndex.get_loc\u001B[0;34m(self, key, method, tolerance)\u001B[0m\n\u001B[1;32m   3620\u001B[0m \u001B[38;5;28;01mtry\u001B[39;00m:\n\u001B[0;32m-> 3621\u001B[0m     \u001B[38;5;28;01mreturn\u001B[39;00m \u001B[38;5;28;43mself\u001B[39;49m\u001B[38;5;241;43m.\u001B[39;49m\u001B[43m_engine\u001B[49m\u001B[38;5;241;43m.\u001B[39;49m\u001B[43mget_loc\u001B[49m\u001B[43m(\u001B[49m\u001B[43mcasted_key\u001B[49m\u001B[43m)\u001B[49m\n\u001B[1;32m   3622\u001B[0m \u001B[38;5;28;01mexcept\u001B[39;00m \u001B[38;5;167;01mKeyError\u001B[39;00m \u001B[38;5;28;01mas\u001B[39;00m err:\n",
      "File \u001B[0;32m~/PycharmProjects/H2_pathways_repo/env_H2/lib/python3.10/site-packages/pandas/_libs/index.pyx:136\u001B[0m, in \u001B[0;36mpandas._libs.index.IndexEngine.get_loc\u001B[0;34m()\u001B[0m\n",
      "File \u001B[0;32m~/PycharmProjects/H2_pathways_repo/env_H2/lib/python3.10/site-packages/pandas/_libs/index.pyx:160\u001B[0m, in \u001B[0;36mpandas._libs.index.IndexEngine.get_loc\u001B[0;34m()\u001B[0m\n",
      "File \u001B[0;32m~/PycharmProjects/H2_pathways_repo/env_H2/lib/python3.10/site-packages/pandas/_libs/index.pyx:201\u001B[0m, in \u001B[0;36mpandas._libs.index.IndexEngine._get_loc_duplicates\u001B[0;34m()\u001B[0m\n",
      "File \u001B[0;32m~/PycharmProjects/H2_pathways_repo/env_H2/lib/python3.10/site-packages/pandas/_libs/index.pyx:209\u001B[0m, in \u001B[0;36mpandas._libs.index.IndexEngine._maybe_get_bool_indexer\u001B[0;34m()\u001B[0m\n",
      "File \u001B[0;32m~/PycharmProjects/H2_pathways_repo/env_H2/lib/python3.10/site-packages/pandas/_libs/index.pyx:107\u001B[0m, in \u001B[0;36mpandas._libs.index._unpack_bool_indexer\u001B[0;34m()\u001B[0m\n",
      "\u001B[0;31mKeyError\u001B[0m: 'Reconversion - Lifetime [Years]'",
      "\nThe above exception was the direct cause of the following exception:\n",
      "\u001B[0;31mKeyError\u001B[0m                                  Traceback (most recent call last)",
      "Input \u001B[0;32mIn [540]\u001B[0m, in \u001B[0;36m<cell line: 2>\u001B[0;34m()\u001B[0m\n\u001B[1;32m      1\u001B[0m \u001B[38;5;66;03m# Economic lifetime for the reconversion plant [years]\u001B[39;00m\n\u001B[0;32m----> 2\u001B[0m l_recon \u001B[38;5;241m=\u001B[39m \u001B[38;5;28mfloat\u001B[39m(\u001B[43mtea_lh2\u001B[49m\u001B[38;5;241;43m.\u001B[39;49m\u001B[43mloc\u001B[49m\u001B[43m[\u001B[49m\u001B[38;5;124;43m'\u001B[39;49m\u001B[38;5;124;43mReconversion - Lifetime [Years]\u001B[39;49m\u001B[38;5;124;43m'\u001B[39;49m\u001B[43m]\u001B[49m[\u001B[38;5;124m'\u001B[39m\u001B[38;5;124mLH2\u001B[39m\u001B[38;5;124m'\u001B[39m])\n\u001B[1;32m      3\u001B[0m l_recon\n",
      "File \u001B[0;32m~/PycharmProjects/H2_pathways_repo/env_H2/lib/python3.10/site-packages/pandas/core/indexing.py:967\u001B[0m, in \u001B[0;36m_LocationIndexer.__getitem__\u001B[0;34m(self, key)\u001B[0m\n\u001B[1;32m    964\u001B[0m axis \u001B[38;5;241m=\u001B[39m \u001B[38;5;28mself\u001B[39m\u001B[38;5;241m.\u001B[39maxis \u001B[38;5;129;01mor\u001B[39;00m \u001B[38;5;241m0\u001B[39m\n\u001B[1;32m    966\u001B[0m maybe_callable \u001B[38;5;241m=\u001B[39m com\u001B[38;5;241m.\u001B[39mapply_if_callable(key, \u001B[38;5;28mself\u001B[39m\u001B[38;5;241m.\u001B[39mobj)\n\u001B[0;32m--> 967\u001B[0m \u001B[38;5;28;01mreturn\u001B[39;00m \u001B[38;5;28;43mself\u001B[39;49m\u001B[38;5;241;43m.\u001B[39;49m\u001B[43m_getitem_axis\u001B[49m\u001B[43m(\u001B[49m\u001B[43mmaybe_callable\u001B[49m\u001B[43m,\u001B[49m\u001B[43m \u001B[49m\u001B[43maxis\u001B[49m\u001B[38;5;241;43m=\u001B[39;49m\u001B[43maxis\u001B[49m\u001B[43m)\u001B[49m\n",
      "File \u001B[0;32m~/PycharmProjects/H2_pathways_repo/env_H2/lib/python3.10/site-packages/pandas/core/indexing.py:1202\u001B[0m, in \u001B[0;36m_LocIndexer._getitem_axis\u001B[0;34m(self, key, axis)\u001B[0m\n\u001B[1;32m   1200\u001B[0m \u001B[38;5;66;03m# fall thru to straight lookup\u001B[39;00m\n\u001B[1;32m   1201\u001B[0m \u001B[38;5;28mself\u001B[39m\u001B[38;5;241m.\u001B[39m_validate_key(key, axis)\n\u001B[0;32m-> 1202\u001B[0m \u001B[38;5;28;01mreturn\u001B[39;00m \u001B[38;5;28;43mself\u001B[39;49m\u001B[38;5;241;43m.\u001B[39;49m\u001B[43m_get_label\u001B[49m\u001B[43m(\u001B[49m\u001B[43mkey\u001B[49m\u001B[43m,\u001B[49m\u001B[43m \u001B[49m\u001B[43maxis\u001B[49m\u001B[38;5;241;43m=\u001B[39;49m\u001B[43maxis\u001B[49m\u001B[43m)\u001B[49m\n",
      "File \u001B[0;32m~/PycharmProjects/H2_pathways_repo/env_H2/lib/python3.10/site-packages/pandas/core/indexing.py:1153\u001B[0m, in \u001B[0;36m_LocIndexer._get_label\u001B[0;34m(self, label, axis)\u001B[0m\n\u001B[1;32m   1151\u001B[0m \u001B[38;5;28;01mdef\u001B[39;00m \u001B[38;5;21m_get_label\u001B[39m(\u001B[38;5;28mself\u001B[39m, label, axis: \u001B[38;5;28mint\u001B[39m):\n\u001B[1;32m   1152\u001B[0m     \u001B[38;5;66;03m# GH#5667 this will fail if the label is not present in the axis.\u001B[39;00m\n\u001B[0;32m-> 1153\u001B[0m     \u001B[38;5;28;01mreturn\u001B[39;00m \u001B[38;5;28;43mself\u001B[39;49m\u001B[38;5;241;43m.\u001B[39;49m\u001B[43mobj\u001B[49m\u001B[38;5;241;43m.\u001B[39;49m\u001B[43mxs\u001B[49m\u001B[43m(\u001B[49m\u001B[43mlabel\u001B[49m\u001B[43m,\u001B[49m\u001B[43m \u001B[49m\u001B[43maxis\u001B[49m\u001B[38;5;241;43m=\u001B[39;49m\u001B[43maxis\u001B[49m\u001B[43m)\u001B[49m\n",
      "File \u001B[0;32m~/PycharmProjects/H2_pathways_repo/env_H2/lib/python3.10/site-packages/pandas/core/generic.py:3864\u001B[0m, in \u001B[0;36mNDFrame.xs\u001B[0;34m(self, key, axis, level, drop_level)\u001B[0m\n\u001B[1;32m   3862\u001B[0m             new_index \u001B[38;5;241m=\u001B[39m index[loc]\n\u001B[1;32m   3863\u001B[0m \u001B[38;5;28;01melse\u001B[39;00m:\n\u001B[0;32m-> 3864\u001B[0m     loc \u001B[38;5;241m=\u001B[39m \u001B[43mindex\u001B[49m\u001B[38;5;241;43m.\u001B[39;49m\u001B[43mget_loc\u001B[49m\u001B[43m(\u001B[49m\u001B[43mkey\u001B[49m\u001B[43m)\u001B[49m\n\u001B[1;32m   3866\u001B[0m     \u001B[38;5;28;01mif\u001B[39;00m \u001B[38;5;28misinstance\u001B[39m(loc, np\u001B[38;5;241m.\u001B[39mndarray):\n\u001B[1;32m   3867\u001B[0m         \u001B[38;5;28;01mif\u001B[39;00m loc\u001B[38;5;241m.\u001B[39mdtype \u001B[38;5;241m==\u001B[39m np\u001B[38;5;241m.\u001B[39mbool_:\n",
      "File \u001B[0;32m~/PycharmProjects/H2_pathways_repo/env_H2/lib/python3.10/site-packages/pandas/core/indexes/base.py:3623\u001B[0m, in \u001B[0;36mIndex.get_loc\u001B[0;34m(self, key, method, tolerance)\u001B[0m\n\u001B[1;32m   3621\u001B[0m     \u001B[38;5;28;01mreturn\u001B[39;00m \u001B[38;5;28mself\u001B[39m\u001B[38;5;241m.\u001B[39m_engine\u001B[38;5;241m.\u001B[39mget_loc(casted_key)\n\u001B[1;32m   3622\u001B[0m \u001B[38;5;28;01mexcept\u001B[39;00m \u001B[38;5;167;01mKeyError\u001B[39;00m \u001B[38;5;28;01mas\u001B[39;00m err:\n\u001B[0;32m-> 3623\u001B[0m     \u001B[38;5;28;01mraise\u001B[39;00m \u001B[38;5;167;01mKeyError\u001B[39;00m(key) \u001B[38;5;28;01mfrom\u001B[39;00m \u001B[38;5;21;01merr\u001B[39;00m\n\u001B[1;32m   3624\u001B[0m \u001B[38;5;28;01mexcept\u001B[39;00m \u001B[38;5;167;01mTypeError\u001B[39;00m:\n\u001B[1;32m   3625\u001B[0m     \u001B[38;5;66;03m# If we have a listlike key, _check_indexing_error will raise\u001B[39;00m\n\u001B[1;32m   3626\u001B[0m     \u001B[38;5;66;03m#  InvalidIndexError. Otherwise we fall through and re-raise\u001B[39;00m\n\u001B[1;32m   3627\u001B[0m     \u001B[38;5;66;03m#  the TypeError.\u001B[39;00m\n\u001B[1;32m   3628\u001B[0m     \u001B[38;5;28mself\u001B[39m\u001B[38;5;241m.\u001B[39m_check_indexing_error(key)\n",
      "\u001B[0;31mKeyError\u001B[0m: 'Reconversion - Lifetime [Years]'"
     ]
    }
   ],
   "source": [
    "# Economic lifetime for the reconversion plant [years]\n",
    "l_recon = float(tea_lh2.loc['Reconversion - Lifetime [Years]']['LH2'])\n",
    "l_recon\n"
   ],
   "metadata": {
    "collapsed": false,
    "pycharm": {
     "name": "#%%\n"
    }
   }
  },
  {
   "cell_type": "code",
   "execution_count": 541,
   "outputs": [],
   "source": [
    "# Amortisation factor alpha for the reconversion plant\n",
    "alpha_recon =  alpha_it\n"
   ],
   "metadata": {
    "collapsed": false,
    "pycharm": {
     "name": "#%%\n"
    }
   }
  },
  {
   "cell_type": "code",
   "execution_count": 542,
   "outputs": [
    {
     "data": {
      "text/plain": "46.9570923511"
     },
     "execution_count": 542,
     "metadata": {},
     "output_type": "execute_result"
    }
   ],
   "source": [
    "# Price for electricity in Importing country [$/MWh]\n",
    "p_el_y = float(p_electricity.loc['Germany'][2025])\n",
    "p_el_y\n"
   ],
   "metadata": {
    "collapsed": false,
    "pycharm": {
     "name": "#%%\n"
    }
   }
  },
  {
   "cell_type": "code",
   "execution_count": 543,
   "outputs": [
    {
     "data": {
      "text/plain": "0.2"
     },
     "execution_count": 543,
     "metadata": {},
     "output_type": "execute_result"
    }
   ],
   "source": [
    "# Electricty consumption for the conversion in [kWh/kg_h2]\n",
    "el_recon = float(tea_lh2.loc['Import Terminal - Electricity use [kWh/kg H2]']['LH2'])\n",
    "el_recon"
   ],
   "metadata": {
    "collapsed": false,
    "pycharm": {
     "name": "#%%\n"
    }
   }
  },
  {
   "cell_type": "code",
   "execution_count": 544,
   "outputs": [],
   "source": [
    "def calculate_recon_costs(alpha_recon, capex_recon_y, opex_recon_y, el_recon_y, p_el_y):\n",
    "    result = float(\n",
    "        (alpha_recon * capex_recon_y / 1000 + opex_recon_y / 1000) + el_recon_y * p_el_y / 1000 * 0.89)\n",
    "    return result\n",
    "\n",
    "\n",
    "# Calculation of conversion costs [€/kg_h2] from 2030 to 2050.\n",
    "years = np.arange(2025, 2051)\n",
    "result = pd.DataFrame(index=years, columns=['LH2_Reconversion_costs'])\n",
    "result.index.name = 'Years'"
   ],
   "metadata": {
    "collapsed": false,
    "pycharm": {
     "name": "#%%\n"
    }
   }
  },
  {
   "cell_type": "code",
   "execution_count": 545,
   "outputs": [
    {
     "data": {
      "text/plain": "      LH2_Reconversion_costs\nYears                       \n2025                0.231663\n2026                0.221298\n2027                0.211095\n2028                0.200856\n2029                0.190654\n2030                0.180501\n2031                0.170524\n2032                0.160666\n2033                0.150961\n2034                0.141176\n2035                0.131209\n2036                 0.12109\n2037                0.111085\n2038                0.101211\n2039                0.091491\n2040                0.081719\n2041                0.077306\n2042                 0.07292\n2043                0.068532\n2044                0.064114\n2045                0.059588\n2046                0.054889\n2047                0.050021\n2048                0.045081\n2049                 0.04021\n2050                 0.03545",
      "text/html": "<div>\n<style scoped>\n    .dataframe tbody tr th:only-of-type {\n        vertical-align: middle;\n    }\n\n    .dataframe tbody tr th {\n        vertical-align: top;\n    }\n\n    .dataframe thead th {\n        text-align: right;\n    }\n</style>\n<table border=\"1\" class=\"dataframe\">\n  <thead>\n    <tr style=\"text-align: right;\">\n      <th></th>\n      <th>LH2_Reconversion_costs</th>\n    </tr>\n    <tr>\n      <th>Years</th>\n      <th></th>\n    </tr>\n  </thead>\n  <tbody>\n    <tr>\n      <th>2025</th>\n      <td>0.231663</td>\n    </tr>\n    <tr>\n      <th>2026</th>\n      <td>0.221298</td>\n    </tr>\n    <tr>\n      <th>2027</th>\n      <td>0.211095</td>\n    </tr>\n    <tr>\n      <th>2028</th>\n      <td>0.200856</td>\n    </tr>\n    <tr>\n      <th>2029</th>\n      <td>0.190654</td>\n    </tr>\n    <tr>\n      <th>2030</th>\n      <td>0.180501</td>\n    </tr>\n    <tr>\n      <th>2031</th>\n      <td>0.170524</td>\n    </tr>\n    <tr>\n      <th>2032</th>\n      <td>0.160666</td>\n    </tr>\n    <tr>\n      <th>2033</th>\n      <td>0.150961</td>\n    </tr>\n    <tr>\n      <th>2034</th>\n      <td>0.141176</td>\n    </tr>\n    <tr>\n      <th>2035</th>\n      <td>0.131209</td>\n    </tr>\n    <tr>\n      <th>2036</th>\n      <td>0.12109</td>\n    </tr>\n    <tr>\n      <th>2037</th>\n      <td>0.111085</td>\n    </tr>\n    <tr>\n      <th>2038</th>\n      <td>0.101211</td>\n    </tr>\n    <tr>\n      <th>2039</th>\n      <td>0.091491</td>\n    </tr>\n    <tr>\n      <th>2040</th>\n      <td>0.081719</td>\n    </tr>\n    <tr>\n      <th>2041</th>\n      <td>0.077306</td>\n    </tr>\n    <tr>\n      <th>2042</th>\n      <td>0.07292</td>\n    </tr>\n    <tr>\n      <th>2043</th>\n      <td>0.068532</td>\n    </tr>\n    <tr>\n      <th>2044</th>\n      <td>0.064114</td>\n    </tr>\n    <tr>\n      <th>2045</th>\n      <td>0.059588</td>\n    </tr>\n    <tr>\n      <th>2046</th>\n      <td>0.054889</td>\n    </tr>\n    <tr>\n      <th>2047</th>\n      <td>0.050021</td>\n    </tr>\n    <tr>\n      <th>2048</th>\n      <td>0.045081</td>\n    </tr>\n    <tr>\n      <th>2049</th>\n      <td>0.04021</td>\n    </tr>\n    <tr>\n      <th>2050</th>\n      <td>0.03545</td>\n    </tr>\n  </tbody>\n</table>\n</div>"
     },
     "execution_count": 545,
     "metadata": {},
     "output_type": "execute_result"
    }
   ],
   "source": [
    "for year in years:\n",
    "    # get capex, opex, natural gas price and CO2 price of specific year\n",
    "    capex_recon_y = float(tea_lh2.loc['Reconversion - Capex opt. [€/t/a]'][year])\n",
    "    opex_recon_y = float(tea_lh2.loc['Reconversion - Opex opt. [€/t/a]'][year])\n",
    "    el_recon_y = float(tea_lh2.loc['Reconversion - Electricity consumption opt. [kWh/kg H2]'][year])\n",
    "    p_el_y = float(p_electricity.loc['Germany'][year])\n",
    "\n",
    "    # calculate costs of specific year\n",
    "    result.LH2_Reconversion_costs.loc[year] = calculate_recon_costs(alpha_recon=alpha_recon, capex_recon_y=capex_recon_y,\n",
    "                                                                opex_recon_y=opex_recon_y, el_recon_y=el_recon_y,\n",
    "                                                                p_el_y=p_el_y)\n",
    "result"
   ],
   "metadata": {
    "collapsed": false,
    "pycharm": {
     "name": "#%%\n"
    }
   }
  },
  {
   "cell_type": "code",
   "execution_count": 546,
   "outputs": [],
   "source": [
    "# Create csv file from results dataframe\n",
    "path_csv= r'/Users/jakob/PycharmProjects/H2_pathways_repo/data/processed'\n",
    "output_file = os.path.join(path_csv, 'LH2_Reconversion_costs.csv')\n",
    "result.to_csv(output_file, sep=';')"
   ],
   "metadata": {
    "collapsed": false,
    "pycharm": {
     "name": "#%%\n"
    }
   }
  },
  {
   "cell_type": "markdown",
   "source": [
    "# LH2 transport costs"
   ],
   "metadata": {
    "collapsed": false,
    "pycharm": {
     "name": "#%% md\n"
    }
   }
  },
  {
   "cell_type": "code",
   "execution_count": 547,
   "outputs": [],
   "source": [
    "liq_costs = pd.read_csv('/Users/jakob/PycharmProjects/H2_pathways_repo/data/processed/LH2_Liquefaction_costs.csv', delimiter=';', decimal=',')\n",
    "et_costs = pd.read_csv('/Users/jakob/PycharmProjects/H2_pathways_repo/data/processed/LH2_Export_terminal_costs.csv', delimiter=';', decimal=',')\n",
    "ship_costs = pd.read_csv('/Users/jakob/PycharmProjects/H2_pathways_repo/data/processed/LH2_Shipping_costs.csv', delimiter=';', decimal=',')\n",
    "it_costs = pd.read_csv('/Users/jakob/PycharmProjects/H2_pathways_repo/data/processed/LH2_Import_terminal_costs.csv', delimiter=';', decimal=',')\n",
    "recon_costs = pd.read_csv('/Users/jakob/PycharmProjects/H2_pathways_repo/data/processed/LH2_Reconversion_costs.csv', delimiter=';', decimal=',')"
   ],
   "metadata": {
    "collapsed": false,
    "pycharm": {
     "name": "#%%\n"
    }
   }
  },
  {
   "cell_type": "code",
   "execution_count": 548,
   "outputs": [],
   "source": [
    "years = np.arange(2025, 2051)\n",
    "result = pd.DataFrame(index=years, columns=['LH2_transport'])\n",
    "result.index.name = 'Years'"
   ],
   "metadata": {
    "collapsed": false,
    "pycharm": {
     "name": "#%%\n"
    }
   }
  },
  {
   "cell_type": "code",
   "execution_count": 549,
   "outputs": [],
   "source": [
    "# Calculate total transport costs from liquefaction costs (LC), export terminal costs (EC), Shipping costs (SC), import terminal costs (IC)\n",
    "def calculate_seaborne_transport_costs():\n",
    "    result = LC + EC + SC + IC + RC\n",
    "\n",
    "    return result"
   ],
   "metadata": {
    "collapsed": false,
    "pycharm": {
     "name": "#%%\n"
    }
   }
  },
  {
   "cell_type": "code",
   "execution_count": 550,
   "outputs": [
    {
     "data": {
      "text/plain": "      LH2_transport\nYears              \n2025       3.973655\n2026       3.820867\n2027        3.67029\n2028       3.519119\n2029       3.368404\n2030       3.218386\n2031        3.06915\n2032       2.921914\n2033       2.777323\n2034       2.631692\n2035       2.483186\n2036       2.332107\n2037       2.183053\n2038       2.036552\n2039       1.893275\n2040       1.749454\n2041       1.719366\n2042       1.690333\n2043       1.661858\n2044       1.633395\n2045       1.603086\n2046        1.56915\n2047       1.531177\n2048       1.491133\n2049        1.45284\n2050       1.416148",
      "text/html": "<div>\n<style scoped>\n    .dataframe tbody tr th:only-of-type {\n        vertical-align: middle;\n    }\n\n    .dataframe tbody tr th {\n        vertical-align: top;\n    }\n\n    .dataframe thead th {\n        text-align: right;\n    }\n</style>\n<table border=\"1\" class=\"dataframe\">\n  <thead>\n    <tr style=\"text-align: right;\">\n      <th></th>\n      <th>LH2_transport</th>\n    </tr>\n    <tr>\n      <th>Years</th>\n      <th></th>\n    </tr>\n  </thead>\n  <tbody>\n    <tr>\n      <th>2025</th>\n      <td>3.973655</td>\n    </tr>\n    <tr>\n      <th>2026</th>\n      <td>3.820867</td>\n    </tr>\n    <tr>\n      <th>2027</th>\n      <td>3.67029</td>\n    </tr>\n    <tr>\n      <th>2028</th>\n      <td>3.519119</td>\n    </tr>\n    <tr>\n      <th>2029</th>\n      <td>3.368404</td>\n    </tr>\n    <tr>\n      <th>2030</th>\n      <td>3.218386</td>\n    </tr>\n    <tr>\n      <th>2031</th>\n      <td>3.06915</td>\n    </tr>\n    <tr>\n      <th>2032</th>\n      <td>2.921914</td>\n    </tr>\n    <tr>\n      <th>2033</th>\n      <td>2.777323</td>\n    </tr>\n    <tr>\n      <th>2034</th>\n      <td>2.631692</td>\n    </tr>\n    <tr>\n      <th>2035</th>\n      <td>2.483186</td>\n    </tr>\n    <tr>\n      <th>2036</th>\n      <td>2.332107</td>\n    </tr>\n    <tr>\n      <th>2037</th>\n      <td>2.183053</td>\n    </tr>\n    <tr>\n      <th>2038</th>\n      <td>2.036552</td>\n    </tr>\n    <tr>\n      <th>2039</th>\n      <td>1.893275</td>\n    </tr>\n    <tr>\n      <th>2040</th>\n      <td>1.749454</td>\n    </tr>\n    <tr>\n      <th>2041</th>\n      <td>1.719366</td>\n    </tr>\n    <tr>\n      <th>2042</th>\n      <td>1.690333</td>\n    </tr>\n    <tr>\n      <th>2043</th>\n      <td>1.661858</td>\n    </tr>\n    <tr>\n      <th>2044</th>\n      <td>1.633395</td>\n    </tr>\n    <tr>\n      <th>2045</th>\n      <td>1.603086</td>\n    </tr>\n    <tr>\n      <th>2046</th>\n      <td>1.56915</td>\n    </tr>\n    <tr>\n      <th>2047</th>\n      <td>1.531177</td>\n    </tr>\n    <tr>\n      <th>2048</th>\n      <td>1.491133</td>\n    </tr>\n    <tr>\n      <th>2049</th>\n      <td>1.45284</td>\n    </tr>\n    <tr>\n      <th>2050</th>\n      <td>1.416148</td>\n    </tr>\n  </tbody>\n</table>\n</div>"
     },
     "execution_count": 550,
     "metadata": {},
     "output_type": "execute_result"
    }
   ],
   "source": [
    "for year in years:\n",
    "    # get all costs\n",
    "    LC = float(liq_costs[liq_costs.Years == year]['LH2_Liquefaction_costs'])\n",
    "    EC = float(et_costs[et_costs.Years == year]['LH2_Export_terminal_costs'])\n",
    "    SC = float(ship_costs[ship_costs.Years == year]['LH2_Shipping_costs'])\n",
    "    IC = float(it_costs[it_costs.Years == year]['LH2_Import_terminal_costs'])\n",
    "    RC = float(recon_costs[recon_costs.Years == year]['LH2_Reconversion_costs'])\n",
    "    # calculate costs of specific year\n",
    "    result.LH2_transport.loc[year] = calculate_seaborne_transport_costs()\n",
    "\n",
    "result"
   ],
   "metadata": {
    "collapsed": false,
    "pycharm": {
     "name": "#%%\n"
    }
   }
  },
  {
   "cell_type": "code",
   "execution_count": 551,
   "outputs": [],
   "source": [
    "# Create csv file from results dataframe\n",
    "path_csv= r'/Users/jakob/PycharmProjects/H2_pathways_repo/data/processed'\n",
    "output_file = os.path.join(path_csv, 'LH2_transport_costs.csv')\n",
    "result.to_csv(output_file, sep=';')"
   ],
   "metadata": {
    "collapsed": false,
    "pycharm": {
     "name": "#%%\n"
    }
   }
  },
  {
   "cell_type": "code",
   "execution_count": 552,
   "outputs": [
    {
     "data": {
      "text/plain": "<Figure size 720x432 with 1 Axes>",
      "image/png": "[encoded data removed]"
     },
     "metadata": {
      "needs_background": "light"
     },
     "output_type": "display_data"
    }
   ],
   "source": [
    "# Plot cost curve for seaborne transport\n",
    "fig, ax = plt.subplots(figsize=(10,6))\n",
    "plt.plot(result, color = 'green', linestyle = 'solid')\n",
    "plt.grid(True, axis = 'y')\n",
    "ax.set_axisbelow(True)\n",
    "plt.title('Cost curve for LH2 shipping [€/kg H2]', fontweight='bold')\n",
    "plt.xlabel('Year')\n",
    "plt.ylabel('Cost')\n",
    "plt.show()"
   ],
   "metadata": {
    "collapsed": false,
    "pycharm": {
     "name": "#%%\n"
    }
   }
  },
  {
   "cell_type": "code",
   "execution_count": 553,
   "outputs": [
    {
     "data": {
      "text/plain": "<Figure size 720x432 with 1 Axes>",
      "image/png": "[encoded data removed]"
     },
     "metadata": {
      "needs_background": "light"
     },
     "output_type": "display_data"
    }
   ],
   "source": [
    "# Cost breakdown for LH2 shipping\n",
    "fig, ax = plt.subplots(figsize=(10,6))\n",
    "plt.grid(True, axis = 'y')\n",
    "ax.set_axisbelow(True)\n",
    "x = np.arange(2025, 2051, step=5)\n",
    "LC = (liq_costs.loc[::5]['LH2_Liquefaction_costs']).apply(pd.to_numeric)\n",
    "EC = (et_costs.loc[::5]['LH2_Export_terminal_costs']).apply(pd.to_numeric)\n",
    "SC = (ship_costs.loc[::5]['LH2_Shipping_costs']).apply(pd.to_numeric)\n",
    "IC = (it_costs.loc[::5]['LH2_Import_terminal_costs']).apply(pd.to_numeric)\n",
    "RC = (recon_costs.loc[::5]['LH2_Reconversion_costs']).apply(pd.to_numeric)\n",
    "width = 2       # the width of the bars: can also be len(x) sequence\n",
    "\n",
    "RC_plt = plt.bar(x,IC, width, label='Regasification costs', bottom= LC + EC + SC + IC)\n",
    "IC_plt = plt.bar(x,IC, width, label='Import terminal costs', bottom= LC + EC + SC)\n",
    "SC_plt = plt.bar(x,SC, width, label='Shipping costs', bottom= LC + EC)\n",
    "EC_plt = plt.bar(x,EC, width, label='Export terminal costs', bottom= LC)\n",
    "LC_plt = plt.bar(x,LC, width, label='Liquefaction costs')\n",
    "\n",
    "plt.title('Cost breakdown for LH2 shipping', fontweight='bold')\n",
    "plt.legend(loc='upper right')\n",
    "plt.ylabel('Transport cost [€/kg H2]')\n",
    "plt.xlabel('Years')\n",
    "plt.show()"
   ],
   "metadata": {
    "collapsed": false,
    "pycharm": {
     "name": "#%%\n"
    }
   }
  },
  {
   "cell_type": "markdown",
   "source": [
    "Higher import terminal costs because of longer storage time in tanks: IC = 7 days, EC = 3 days"
   ],
   "metadata": {
    "collapsed": false,
    "pycharm": {
     "name": "#%% md\n"
    }
   }
  },
  {
   "cell_type": "markdown",
   "source": [
    "# Total transport costs"
   ],
   "metadata": {
    "collapsed": false,
    "pycharm": {
     "name": "#%% md\n"
    }
   }
  },
  {
   "cell_type": "code",
   "execution_count": 554,
   "outputs": [
    {
     "data": {
      "text/plain": "    Years      LNH3_transport\n0    2025  1.9201019599886755\n1    2026  1.8799270542902833\n2    2027   1.844374388410312\n3    2028  1.8077390024857476\n4    2029  1.7721397230551235\n5    2030  1.7380350257639852\n6    2031  1.7091189244229992\n7    2032   1.684054438277494\n8    2033  1.6638912374460828\n9    2034  1.6415578982947414\n10   2035  1.6137934365945799\n11   2036  1.5814085614445483\n12   2037  1.5527496113339954\n13   2038  1.5285391557160621\n14   2039    1.50965923596309\n15   2040  1.4895181113608238\n16   2041  1.4840553389787767\n17   2042  1.4802730827174997\n18   2043  1.4773214762233542\n19   2044   1.474294677311076\n20   2045  1.4682038585813901\n21   2046   1.456275960408893\n22   2047   1.438002458406015\n23   2048   1.416626279336683\n24   2049   1.398168850283361\n25   2050  1.3798648245348537",
      "text/html": "<div>\n<style scoped>\n    .dataframe tbody tr th:only-of-type {\n        vertical-align: middle;\n    }\n\n    .dataframe tbody tr th {\n        vertical-align: top;\n    }\n\n    .dataframe thead th {\n        text-align: right;\n    }\n</style>\n<table border=\"1\" class=\"dataframe\">\n  <thead>\n    <tr style=\"text-align: right;\">\n      <th></th>\n      <th>Years</th>\n      <th>LNH3_transport</th>\n    </tr>\n  </thead>\n  <tbody>\n    <tr>\n      <th>0</th>\n      <td>2025</td>\n      <td>1.9201019599886755</td>\n    </tr>\n    <tr>\n      <th>1</th>\n      <td>2026</td>\n      <td>1.8799270542902833</td>\n    </tr>\n    <tr>\n      <th>2</th>\n      <td>2027</td>\n      <td>1.844374388410312</td>\n    </tr>\n    <tr>\n      <th>3</th>\n      <td>2028</td>\n      <td>1.8077390024857476</td>\n    </tr>\n    <tr>\n      <th>4</th>\n      <td>2029</td>\n      <td>1.7721397230551235</td>\n    </tr>\n    <tr>\n      <th>5</th>\n      <td>2030</td>\n      <td>1.7380350257639852</td>\n    </tr>\n    <tr>\n      <th>6</th>\n      <td>2031</td>\n      <td>1.7091189244229992</td>\n    </tr>\n    <tr>\n      <th>7</th>\n      <td>2032</td>\n      <td>1.684054438277494</td>\n    </tr>\n    <tr>\n      <th>8</th>\n      <td>2033</td>\n      <td>1.6638912374460828</td>\n    </tr>\n    <tr>\n      <th>9</th>\n      <td>2034</td>\n      <td>1.6415578982947414</td>\n    </tr>\n    <tr>\n      <th>10</th>\n      <td>2035</td>\n      <td>1.6137934365945799</td>\n    </tr>\n    <tr>\n      <th>11</th>\n      <td>2036</td>\n      <td>1.5814085614445483</td>\n    </tr>\n    <tr>\n      <th>12</th>\n      <td>2037</td>\n      <td>1.5527496113339954</td>\n    </tr>\n    <tr>\n      <th>13</th>\n      <td>2038</td>\n      <td>1.5285391557160621</td>\n    </tr>\n    <tr>\n      <th>14</th>\n      <td>2039</td>\n      <td>1.50965923596309</td>\n    </tr>\n    <tr>\n      <th>15</th>\n      <td>2040</td>\n      <td>1.4895181113608238</td>\n    </tr>\n    <tr>\n      <th>16</th>\n      <td>2041</td>\n      <td>1.4840553389787767</td>\n    </tr>\n    <tr>\n      <th>17</th>\n      <td>2042</td>\n      <td>1.4802730827174997</td>\n    </tr>\n    <tr>\n      <th>18</th>\n      <td>2043</td>\n      <td>1.4773214762233542</td>\n    </tr>\n    <tr>\n      <th>19</th>\n      <td>2044</td>\n      <td>1.474294677311076</td>\n    </tr>\n    <tr>\n      <th>20</th>\n      <td>2045</td>\n      <td>1.4682038585813901</td>\n    </tr>\n    <tr>\n      <th>21</th>\n      <td>2046</td>\n      <td>1.456275960408893</td>\n    </tr>\n    <tr>\n      <th>22</th>\n      <td>2047</td>\n      <td>1.438002458406015</td>\n    </tr>\n    <tr>\n      <th>23</th>\n      <td>2048</td>\n      <td>1.416626279336683</td>\n    </tr>\n    <tr>\n      <th>24</th>\n      <td>2049</td>\n      <td>1.398168850283361</td>\n    </tr>\n    <tr>\n      <th>25</th>\n      <td>2050</td>\n      <td>1.3798648245348537</td>\n    </tr>\n  </tbody>\n</table>\n</div>"
     },
     "execution_count": 554,
     "metadata": {},
     "output_type": "execute_result"
    }
   ],
   "source": [
    "# Costs for seaborne transport via ship [€/kg_h2]\n",
    "sea_costs = pd.read_csv('/Users/jakob/PycharmProjects/H2_pathways_repo/data/processed/Seaborne_transport_costs.csv', delimiter=';', decimal=',')\n",
    "sea_costs"
   ],
   "metadata": {
    "collapsed": false,
    "pycharm": {
     "name": "#%%\n"
    }
   }
  },
  {
   "cell_type": "code",
   "execution_count": 555,
   "outputs": [],
   "source": [
    "def choose_minimal_transport_costs(TC_pipe_high,TC_sea):\n",
    "    result = min(TC_pipe_high, TC_sea)\n",
    "\n",
    "    return result"
   ],
   "metadata": {
    "collapsed": false,
    "pycharm": {
     "name": "#%%\n"
    }
   }
  },
  {
   "cell_type": "code",
   "execution_count": 556,
   "outputs": [
    {
     "ename": "KeyError",
     "evalue": "'Seaborne_transport_costs'",
     "output_type": "error",
     "traceback": [
      "\u001B[0;31m---------------------------------------------------------------------------\u001B[0m",
      "\u001B[0;31mKeyError\u001B[0m                                  Traceback (most recent call last)",
      "File \u001B[0;32m~/PycharmProjects/H2_pathways_repo/env_H2/lib/python3.10/site-packages/pandas/core/indexes/base.py:3621\u001B[0m, in \u001B[0;36mIndex.get_loc\u001B[0;34m(self, key, method, tolerance)\u001B[0m\n\u001B[1;32m   3620\u001B[0m \u001B[38;5;28;01mtry\u001B[39;00m:\n\u001B[0;32m-> 3621\u001B[0m     \u001B[38;5;28;01mreturn\u001B[39;00m \u001B[38;5;28;43mself\u001B[39;49m\u001B[38;5;241;43m.\u001B[39;49m\u001B[43m_engine\u001B[49m\u001B[38;5;241;43m.\u001B[39;49m\u001B[43mget_loc\u001B[49m\u001B[43m(\u001B[49m\u001B[43mcasted_key\u001B[49m\u001B[43m)\u001B[49m\n\u001B[1;32m   3622\u001B[0m \u001B[38;5;28;01mexcept\u001B[39;00m \u001B[38;5;167;01mKeyError\u001B[39;00m \u001B[38;5;28;01mas\u001B[39;00m err:\n",
      "File \u001B[0;32m~/PycharmProjects/H2_pathways_repo/env_H2/lib/python3.10/site-packages/pandas/_libs/index.pyx:136\u001B[0m, in \u001B[0;36mpandas._libs.index.IndexEngine.get_loc\u001B[0;34m()\u001B[0m\n",
      "File \u001B[0;32m~/PycharmProjects/H2_pathways_repo/env_H2/lib/python3.10/site-packages/pandas/_libs/index.pyx:163\u001B[0m, in \u001B[0;36mpandas._libs.index.IndexEngine.get_loc\u001B[0;34m()\u001B[0m\n",
      "File \u001B[0;32mpandas/_libs/hashtable_class_helper.pxi:5198\u001B[0m, in \u001B[0;36mpandas._libs.hashtable.PyObjectHashTable.get_item\u001B[0;34m()\u001B[0m\n",
      "File \u001B[0;32mpandas/_libs/hashtable_class_helper.pxi:5206\u001B[0m, in \u001B[0;36mpandas._libs.hashtable.PyObjectHashTable.get_item\u001B[0;34m()\u001B[0m\n",
      "\u001B[0;31mKeyError\u001B[0m: 'Seaborne_transport_costs'",
      "\nThe above exception was the direct cause of the following exception:\n",
      "\u001B[0;31mKeyError\u001B[0m                                  Traceback (most recent call last)",
      "Input \u001B[0;32mIn [556]\u001B[0m, in \u001B[0;36m<cell line: 5>\u001B[0;34m()\u001B[0m\n\u001B[1;32m      3\u001B[0m result\u001B[38;5;241m.\u001B[39mindex\u001B[38;5;241m.\u001B[39mname \u001B[38;5;241m=\u001B[39m \u001B[38;5;124m'\u001B[39m\u001B[38;5;124mYears\u001B[39m\u001B[38;5;124m'\u001B[39m\n\u001B[1;32m      5\u001B[0m \u001B[38;5;28;01mfor\u001B[39;00m year \u001B[38;5;129;01min\u001B[39;00m years:\n\u001B[1;32m      6\u001B[0m     \u001B[38;5;66;03m# get all costs\u001B[39;00m\n\u001B[0;32m----> 7\u001B[0m     TC_sea \u001B[38;5;241m=\u001B[39m \u001B[38;5;28mfloat\u001B[39m(\u001B[43msea_costs\u001B[49m\u001B[43m[\u001B[49m\u001B[43msea_costs\u001B[49m\u001B[38;5;241;43m.\u001B[39;49m\u001B[43mYears\u001B[49m\u001B[43m \u001B[49m\u001B[38;5;241;43m==\u001B[39;49m\u001B[43m \u001B[49m\u001B[43myear\u001B[49m\u001B[43m]\u001B[49m\u001B[43m[\u001B[49m\u001B[38;5;124;43m'\u001B[39;49m\u001B[38;5;124;43mSeaborne_transport_costs\u001B[39;49m\u001B[38;5;124;43m'\u001B[39;49m\u001B[43m]\u001B[49m)\n\u001B[1;32m      9\u001B[0m     \u001B[38;5;66;03m# calculate costs of specific year\u001B[39;00m\n\u001B[1;32m     10\u001B[0m     result\u001B[38;5;241m.\u001B[39mMinimal_transport_costs\u001B[38;5;241m.\u001B[39mloc[year] \u001B[38;5;241m=\u001B[39m choose_minimal_transport_costs(TC_pipe_high\u001B[38;5;241m=\u001B[39mTC_pipe_high,TC_sea\u001B[38;5;241m=\u001B[39mTC_sea)\n",
      "File \u001B[0;32m~/PycharmProjects/H2_pathways_repo/env_H2/lib/python3.10/site-packages/pandas/core/frame.py:3505\u001B[0m, in \u001B[0;36mDataFrame.__getitem__\u001B[0;34m(self, key)\u001B[0m\n\u001B[1;32m   3503\u001B[0m \u001B[38;5;28;01mif\u001B[39;00m \u001B[38;5;28mself\u001B[39m\u001B[38;5;241m.\u001B[39mcolumns\u001B[38;5;241m.\u001B[39mnlevels \u001B[38;5;241m>\u001B[39m \u001B[38;5;241m1\u001B[39m:\n\u001B[1;32m   3504\u001B[0m     \u001B[38;5;28;01mreturn\u001B[39;00m \u001B[38;5;28mself\u001B[39m\u001B[38;5;241m.\u001B[39m_getitem_multilevel(key)\n\u001B[0;32m-> 3505\u001B[0m indexer \u001B[38;5;241m=\u001B[39m \u001B[38;5;28;43mself\u001B[39;49m\u001B[38;5;241;43m.\u001B[39;49m\u001B[43mcolumns\u001B[49m\u001B[38;5;241;43m.\u001B[39;49m\u001B[43mget_loc\u001B[49m\u001B[43m(\u001B[49m\u001B[43mkey\u001B[49m\u001B[43m)\u001B[49m\n\u001B[1;32m   3506\u001B[0m \u001B[38;5;28;01mif\u001B[39;00m is_integer(indexer):\n\u001B[1;32m   3507\u001B[0m     indexer \u001B[38;5;241m=\u001B[39m [indexer]\n",
      "File \u001B[0;32m~/PycharmProjects/H2_pathways_repo/env_H2/lib/python3.10/site-packages/pandas/core/indexes/base.py:3623\u001B[0m, in \u001B[0;36mIndex.get_loc\u001B[0;34m(self, key, method, tolerance)\u001B[0m\n\u001B[1;32m   3621\u001B[0m     \u001B[38;5;28;01mreturn\u001B[39;00m \u001B[38;5;28mself\u001B[39m\u001B[38;5;241m.\u001B[39m_engine\u001B[38;5;241m.\u001B[39mget_loc(casted_key)\n\u001B[1;32m   3622\u001B[0m \u001B[38;5;28;01mexcept\u001B[39;00m \u001B[38;5;167;01mKeyError\u001B[39;00m \u001B[38;5;28;01mas\u001B[39;00m err:\n\u001B[0;32m-> 3623\u001B[0m     \u001B[38;5;28;01mraise\u001B[39;00m \u001B[38;5;167;01mKeyError\u001B[39;00m(key) \u001B[38;5;28;01mfrom\u001B[39;00m \u001B[38;5;21;01merr\u001B[39;00m\n\u001B[1;32m   3624\u001B[0m \u001B[38;5;28;01mexcept\u001B[39;00m \u001B[38;5;167;01mTypeError\u001B[39;00m:\n\u001B[1;32m   3625\u001B[0m     \u001B[38;5;66;03m# If we have a listlike key, _check_indexing_error will raise\u001B[39;00m\n\u001B[1;32m   3626\u001B[0m     \u001B[38;5;66;03m#  InvalidIndexError. Otherwise we fall through and re-raise\u001B[39;00m\n\u001B[1;32m   3627\u001B[0m     \u001B[38;5;66;03m#  the TypeError.\u001B[39;00m\n\u001B[1;32m   3628\u001B[0m     \u001B[38;5;28mself\u001B[39m\u001B[38;5;241m.\u001B[39m_check_indexing_error(key)\n",
      "\u001B[0;31mKeyError\u001B[0m: 'Seaborne_transport_costs'"
     ]
    }
   ],
   "source": [
    "years = np.arange(2020, 2051)\n",
    "result = pd.DataFrame(index=years, columns=['Minimal_transport_costs'])\n",
    "result.index.name = 'Years'\n",
    "\n",
    "for year in years:\n",
    "    # get all costs\n",
    "    TC_sea = float(sea_costs[sea_costs.Years == year]['Seaborne_transport_costs'])\n",
    "\n",
    "    # calculate costs of specific year\n",
    "    result.Minimal_transport_costs.loc[year] = choose_minimal_transport_costs(TC_pipe_high=TC_pipe_high,TC_sea=TC_sea)\n",
    "\n",
    "result"
   ],
   "metadata": {
    "collapsed": false,
    "pycharm": {
     "name": "#%%\n"
    }
   }
  },
  {
   "cell_type": "code",
   "execution_count": 557,
   "outputs": [],
   "source": [
    "# Create csv file from results dataframe\n",
    "path_csv= r'/Users/jakob/PycharmProjects/H2_pathways_repo/data/processed'\n",
    "output_file = os.path.join(path_csv, 'Minimal_transport_costs.csv')\n",
    "result.to_csv(output_file, sep=';')"
   ],
   "metadata": {
    "collapsed": false,
    "pycharm": {
     "name": "#%%\n"
    }
   }
  },
  {
   "cell_type": "code",
   "execution_count": 449,
   "outputs": [
    {
     "data": {
      "text/plain": "<Figure size 432x288 with 1 Axes>",
      "image/png": "[encoded data removed]"
     },
     "metadata": {
      "needs_background": "light"
     },
     "output_type": "display_data"
    }
   ],
   "source": [
    "# Plot cost curve for seaborne transport\n",
    "plt.plot(result, color='cyan', linestyle='dashed')\n",
    "plt.title('Cost curve for transport')\n",
    "plt.legend(['Minimal transport costs in $/kg_H2'])\n",
    "plt.xlabel('Year')\n",
    "plt.ylabel('Cost [$/kg_H2]')\n",
    "plt.show()"
   ],
   "metadata": {
    "collapsed": false,
    "pycharm": {
     "name": "#%%\n"
    }
   }
  },
  {
   "cell_type": "code",
   "execution_count": 449,
   "outputs": [],
   "source": [],
   "metadata": {
    "collapsed": false,
    "pycharm": {
     "name": "#%%\n"
    }
   }
  },
  {
   "cell_type": "code",
   "execution_count": 449,
   "outputs": [],
   "source": [],
   "metadata": {
    "collapsed": false,
    "pycharm": {
     "name": "#%%\n"
    }
   }
  },
  {
   "cell_type": "code",
   "execution_count": 449,
   "outputs": [],
   "source": [],
   "metadata": {
    "collapsed": false,
    "pycharm": {
     "name": "#%%\n"
    }
   }
  },
  {
   "cell_type": "code",
   "execution_count": null,
   "outputs": [],
   "source": [],
   "metadata": {
    "collapsed": false,
    "pycharm": {
     "name": "#%%\n"
    }
   }
  }
 ],
 "metadata": {
  "kernelspec": {
   "display_name": "Python 3",
   "language": "python",
   "name": "python3"
  },
  "language_info": {
   "codemirror_mode": {
    "name": "ipython",
    "version": 2
   },
   "file_extension": ".py",
   "mimetype": "text/x-python",
   "name": "python",
   "nbconvert_exporter": "python",
   "pygments_lexer": "ipython2",
   "version": "2.7.6"
  }
 },
 "nbformat": 4,
 "nbformat_minor": 0
}
