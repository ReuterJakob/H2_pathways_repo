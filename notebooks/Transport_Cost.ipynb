{
 "cells": [
  {
   "cell_type": "markdown",
   "source": [
    "# Read inputs"
   ],
   "metadata": {
    "collapsed": false,
    "pycharm": {
     "name": "#%% md\n"
    }
   }
  },
  {
   "cell_type": "code",
   "execution_count": 230,
   "outputs": [],
   "source": [
    "# Read techno-economic assumptions and transport distances for transport cost calculation\n",
    "import numpy as np\n",
    "import pandas as pd\n",
    "from matplotlib import pyplot as plt\n",
    "import os"
   ],
   "metadata": {
    "collapsed": false,
    "pycharm": {
     "name": "#%%\n"
    }
   }
  },
  {
   "cell_type": "code",
   "execution_count": 284,
   "outputs": [
    {
     "data": {
      "text/plain": "                                                                                        Ref  \\\nProperties                                                                                    \nProperties - Gas density [kg/m3]                                                   BOG 2020   \nProperties - LHV [MJ/kg]                                                           BOG 2020   \nProperties - LHV [kWh/kg]                 https://www.iea-amf.org/content/fuel_informati...   \nProperties - LHV [kWh/m3]                  https://www.rechargenews.com/energy-transitio...   \nProperties - Boiling point at 1 Bar [°C]                                                NaN   \n...                                                                                     ...   \nReconversion                                                                            NaN   \nReconversion - Capex opt.[USD/kW H2]                                             IRENA 2022   \nReconversion - Capex pess.[USD/kW H2]                                            IRENA 2022   \nReconversion - Opex opt. [% of Capex]                                            IRENA 2022   \nReconversion - Opex pess. [% of Capex]                                           IRENA 2022   \n\n                                            LH2  2020  2021  2022  2023  2024  \\\nProperties                                                                      \nProperties - Gas density [kg/m3]           71.1   NaN   NaN   NaN   NaN   NaN   \nProperties - LHV [MJ/kg]                    120   NaN   NaN   NaN   NaN   NaN   \nProperties - LHV [kWh/kg]                 33.33   NaN   NaN   NaN   NaN   NaN   \nProperties - LHV [kWh/m3]                  2350   NaN   NaN   NaN   NaN   NaN   \nProperties - Boiling point at 1 Bar [°C]   -253   NaN   NaN   NaN   NaN   NaN   \n...                                         ...   ...   ...   ...   ...   ...   \nReconversion                                NaN   NaN   NaN   NaN   NaN   NaN   \nReconversion - Capex opt.[USD/kW H2]        NaN   NaN   NaN   NaN   NaN   NaN   \nReconversion - Capex pess.[USD/kW H2]       NaN   NaN   NaN   NaN   NaN   NaN   \nReconversion - Opex opt. [% of Capex]      0.03   NaN   NaN   NaN   NaN   NaN   \nReconversion - Opex pess. [% of Capex]     0.04   NaN   NaN   NaN   NaN   NaN   \n\n                                          2025  2026  2027  ...  2041  2042  \\\nProperties                                                  ...               \nProperties - Gas density [kg/m3]           NaN   NaN   NaN  ...   NaN   NaN   \nProperties - LHV [MJ/kg]                   NaN   NaN   NaN  ...   NaN   NaN   \nProperties - LHV [kWh/kg]                  NaN   NaN   NaN  ...   NaN   NaN   \nProperties - LHV [kWh/m3]                  NaN   NaN   NaN  ...   NaN   NaN   \nProperties - Boiling point at 1 Bar [°C]   NaN   NaN   NaN  ...   NaN   NaN   \n...                                        ...   ...   ...  ...   ...   ...   \nReconversion                               NaN   NaN   NaN  ...   NaN   NaN   \nReconversion - Capex opt.[USD/kW H2]       NaN   NaN   NaN  ...   NaN   NaN   \nReconversion - Capex pess.[USD/kW H2]      NaN   NaN   NaN  ...   NaN   NaN   \nReconversion - Opex opt. [% of Capex]      NaN   NaN   NaN  ...   NaN   NaN   \nReconversion - Opex pess. [% of Capex]     NaN   NaN   NaN  ...   NaN   NaN   \n\n                                          2043  2044  2045  2046  2047  2048  \\\nProperties                                                                     \nProperties - Gas density [kg/m3]           NaN   NaN   NaN   NaN   NaN   NaN   \nProperties - LHV [MJ/kg]                   NaN   NaN   NaN   NaN   NaN   NaN   \nProperties - LHV [kWh/kg]                  NaN   NaN   NaN   NaN   NaN   NaN   \nProperties - LHV [kWh/m3]                  NaN   NaN   NaN   NaN   NaN   NaN   \nProperties - Boiling point at 1 Bar [°C]   NaN   NaN   NaN   NaN   NaN   NaN   \n...                                        ...   ...   ...   ...   ...   ...   \nReconversion                               NaN   NaN   NaN   NaN   NaN   NaN   \nReconversion - Capex opt.[USD/kW H2]       NaN   NaN   NaN   NaN   NaN   NaN   \nReconversion - Capex pess.[USD/kW H2]      NaN   NaN   NaN   NaN   NaN   NaN   \nReconversion - Opex opt. [% of Capex]      NaN   NaN   NaN   NaN   NaN   NaN   \nReconversion - Opex pess. [% of Capex]     NaN   NaN   NaN   NaN   NaN   NaN   \n\n                                          2049   2050  \nProperties                                             \nProperties - Gas density [kg/m3]           NaN    NaN  \nProperties - LHV [MJ/kg]                   NaN    NaN  \nProperties - LHV [kWh/kg]                  NaN    NaN  \nProperties - LHV [kWh/m3]                  NaN    NaN  \nProperties - Boiling point at 1 Bar [°C]   NaN    NaN  \n...                                        ...    ...  \nReconversion                               NaN    NaN  \nReconversion - Capex opt.[USD/kW H2]       NaN   60.4  \nReconversion - Capex pess.[USD/kW H2]      NaN  190.5  \nReconversion - Opex opt. [% of Capex]      NaN    NaN  \nReconversion - Opex pess. [% of Capex]     NaN    NaN  \n\n[101 rows x 33 columns]",
      "text/html": "<div>\n<style scoped>\n    .dataframe tbody tr th:only-of-type {\n        vertical-align: middle;\n    }\n\n    .dataframe tbody tr th {\n        vertical-align: top;\n    }\n\n    .dataframe thead th {\n        text-align: right;\n    }\n</style>\n<table border=\"1\" class=\"dataframe\">\n  <thead>\n    <tr style=\"text-align: right;\">\n      <th></th>\n      <th>Ref</th>\n      <th>LH2</th>\n      <th>2020</th>\n      <th>2021</th>\n      <th>2022</th>\n      <th>2023</th>\n      <th>2024</th>\n      <th>2025</th>\n      <th>2026</th>\n      <th>2027</th>\n      <th>...</th>\n      <th>2041</th>\n      <th>2042</th>\n      <th>2043</th>\n      <th>2044</th>\n      <th>2045</th>\n      <th>2046</th>\n      <th>2047</th>\n      <th>2048</th>\n      <th>2049</th>\n      <th>2050</th>\n    </tr>\n    <tr>\n      <th>Properties</th>\n      <th></th>\n      <th></th>\n      <th></th>\n      <th></th>\n      <th></th>\n      <th></th>\n      <th></th>\n      <th></th>\n      <th></th>\n      <th></th>\n      <th></th>\n      <th></th>\n      <th></th>\n      <th></th>\n      <th></th>\n      <th></th>\n      <th></th>\n      <th></th>\n      <th></th>\n      <th></th>\n      <th></th>\n    </tr>\n  </thead>\n  <tbody>\n    <tr>\n      <th>Properties - Gas density [kg/m3]</th>\n      <td>BOG 2020</td>\n      <td>71.1</td>\n      <td>NaN</td>\n      <td>NaN</td>\n      <td>NaN</td>\n      <td>NaN</td>\n      <td>NaN</td>\n      <td>NaN</td>\n      <td>NaN</td>\n      <td>NaN</td>\n      <td>...</td>\n      <td>NaN</td>\n      <td>NaN</td>\n      <td>NaN</td>\n      <td>NaN</td>\n      <td>NaN</td>\n      <td>NaN</td>\n      <td>NaN</td>\n      <td>NaN</td>\n      <td>NaN</td>\n      <td>NaN</td>\n    </tr>\n    <tr>\n      <th>Properties - LHV [MJ/kg]</th>\n      <td>BOG 2020</td>\n      <td>120</td>\n      <td>NaN</td>\n      <td>NaN</td>\n      <td>NaN</td>\n      <td>NaN</td>\n      <td>NaN</td>\n      <td>NaN</td>\n      <td>NaN</td>\n      <td>NaN</td>\n      <td>...</td>\n      <td>NaN</td>\n      <td>NaN</td>\n      <td>NaN</td>\n      <td>NaN</td>\n      <td>NaN</td>\n      <td>NaN</td>\n      <td>NaN</td>\n      <td>NaN</td>\n      <td>NaN</td>\n      <td>NaN</td>\n    </tr>\n    <tr>\n      <th>Properties - LHV [kWh/kg]</th>\n      <td>https://www.iea-amf.org/content/fuel_informati...</td>\n      <td>33.33</td>\n      <td>NaN</td>\n      <td>NaN</td>\n      <td>NaN</td>\n      <td>NaN</td>\n      <td>NaN</td>\n      <td>NaN</td>\n      <td>NaN</td>\n      <td>NaN</td>\n      <td>...</td>\n      <td>NaN</td>\n      <td>NaN</td>\n      <td>NaN</td>\n      <td>NaN</td>\n      <td>NaN</td>\n      <td>NaN</td>\n      <td>NaN</td>\n      <td>NaN</td>\n      <td>NaN</td>\n      <td>NaN</td>\n    </tr>\n    <tr>\n      <th>Properties - LHV [kWh/m3]</th>\n      <td>https://www.rechargenews.com/energy-transitio...</td>\n      <td>2350</td>\n      <td>NaN</td>\n      <td>NaN</td>\n      <td>NaN</td>\n      <td>NaN</td>\n      <td>NaN</td>\n      <td>NaN</td>\n      <td>NaN</td>\n      <td>NaN</td>\n      <td>...</td>\n      <td>NaN</td>\n      <td>NaN</td>\n      <td>NaN</td>\n      <td>NaN</td>\n      <td>NaN</td>\n      <td>NaN</td>\n      <td>NaN</td>\n      <td>NaN</td>\n      <td>NaN</td>\n      <td>NaN</td>\n    </tr>\n    <tr>\n      <th>Properties - Boiling point at 1 Bar [°C]</th>\n      <td>NaN</td>\n      <td>-253</td>\n      <td>NaN</td>\n      <td>NaN</td>\n      <td>NaN</td>\n      <td>NaN</td>\n      <td>NaN</td>\n      <td>NaN</td>\n      <td>NaN</td>\n      <td>NaN</td>\n      <td>...</td>\n      <td>NaN</td>\n      <td>NaN</td>\n      <td>NaN</td>\n      <td>NaN</td>\n      <td>NaN</td>\n      <td>NaN</td>\n      <td>NaN</td>\n      <td>NaN</td>\n      <td>NaN</td>\n      <td>NaN</td>\n    </tr>\n    <tr>\n      <th>...</th>\n      <td>...</td>\n      <td>...</td>\n      <td>...</td>\n      <td>...</td>\n      <td>...</td>\n      <td>...</td>\n      <td>...</td>\n      <td>...</td>\n      <td>...</td>\n      <td>...</td>\n      <td>...</td>\n      <td>...</td>\n      <td>...</td>\n      <td>...</td>\n      <td>...</td>\n      <td>...</td>\n      <td>...</td>\n      <td>...</td>\n      <td>...</td>\n      <td>...</td>\n      <td>...</td>\n    </tr>\n    <tr>\n      <th>Reconversion</th>\n      <td>NaN</td>\n      <td>NaN</td>\n      <td>NaN</td>\n      <td>NaN</td>\n      <td>NaN</td>\n      <td>NaN</td>\n      <td>NaN</td>\n      <td>NaN</td>\n      <td>NaN</td>\n      <td>NaN</td>\n      <td>...</td>\n      <td>NaN</td>\n      <td>NaN</td>\n      <td>NaN</td>\n      <td>NaN</td>\n      <td>NaN</td>\n      <td>NaN</td>\n      <td>NaN</td>\n      <td>NaN</td>\n      <td>NaN</td>\n      <td>NaN</td>\n    </tr>\n    <tr>\n      <th>Reconversion - Capex opt.[USD/kW H2]</th>\n      <td>IRENA 2022</td>\n      <td>NaN</td>\n      <td>NaN</td>\n      <td>NaN</td>\n      <td>NaN</td>\n      <td>NaN</td>\n      <td>NaN</td>\n      <td>NaN</td>\n      <td>NaN</td>\n      <td>NaN</td>\n      <td>...</td>\n      <td>NaN</td>\n      <td>NaN</td>\n      <td>NaN</td>\n      <td>NaN</td>\n      <td>NaN</td>\n      <td>NaN</td>\n      <td>NaN</td>\n      <td>NaN</td>\n      <td>NaN</td>\n      <td>60.4</td>\n    </tr>\n    <tr>\n      <th>Reconversion - Capex pess.[USD/kW H2]</th>\n      <td>IRENA 2022</td>\n      <td>NaN</td>\n      <td>NaN</td>\n      <td>NaN</td>\n      <td>NaN</td>\n      <td>NaN</td>\n      <td>NaN</td>\n      <td>NaN</td>\n      <td>NaN</td>\n      <td>NaN</td>\n      <td>...</td>\n      <td>NaN</td>\n      <td>NaN</td>\n      <td>NaN</td>\n      <td>NaN</td>\n      <td>NaN</td>\n      <td>NaN</td>\n      <td>NaN</td>\n      <td>NaN</td>\n      <td>NaN</td>\n      <td>190.5</td>\n    </tr>\n    <tr>\n      <th>Reconversion - Opex opt. [% of Capex]</th>\n      <td>IRENA 2022</td>\n      <td>0.03</td>\n      <td>NaN</td>\n      <td>NaN</td>\n      <td>NaN</td>\n      <td>NaN</td>\n      <td>NaN</td>\n      <td>NaN</td>\n      <td>NaN</td>\n      <td>NaN</td>\n      <td>...</td>\n      <td>NaN</td>\n      <td>NaN</td>\n      <td>NaN</td>\n      <td>NaN</td>\n      <td>NaN</td>\n      <td>NaN</td>\n      <td>NaN</td>\n      <td>NaN</td>\n      <td>NaN</td>\n      <td>NaN</td>\n    </tr>\n    <tr>\n      <th>Reconversion - Opex pess. [% of Capex]</th>\n      <td>IRENA 2022</td>\n      <td>0.04</td>\n      <td>NaN</td>\n      <td>NaN</td>\n      <td>NaN</td>\n      <td>NaN</td>\n      <td>NaN</td>\n      <td>NaN</td>\n      <td>NaN</td>\n      <td>NaN</td>\n      <td>...</td>\n      <td>NaN</td>\n      <td>NaN</td>\n      <td>NaN</td>\n      <td>NaN</td>\n      <td>NaN</td>\n      <td>NaN</td>\n      <td>NaN</td>\n      <td>NaN</td>\n      <td>NaN</td>\n      <td>NaN</td>\n    </tr>\n  </tbody>\n</table>\n<p>101 rows × 33 columns</p>\n</div>"
     },
     "execution_count": 284,
     "metadata": {},
     "output_type": "execute_result"
    }
   ],
   "source": [
    "tea_lh2 = pd.read_excel(\"/Users/jakob/PycharmProjects/H2_pathways_repo/data/raw/20220921_Data_Assumptions.xlsx\", sheet_name='LH2', decimal=',', index_col=0)\n",
    "tea_lh2"
   ],
   "metadata": {
    "collapsed": false,
    "pycharm": {
     "name": "#%%\n"
    }
   }
  },
  {
   "cell_type": "code",
   "execution_count": 231,
   "outputs": [
    {
     "data": {
      "text/plain": "                                       Pipelines  Pipeline High  Pipeline Low  \\\n0                         Technical Lifetime (y)          40.00         40.00   \n1                        Amortisation factor (%)           0.08          0.08   \n2                                CAPEX (mio$/km)           1.21           NaN   \n3                               CAPEX ($/tpa/km)           3.56          1.33   \n4                    design throughput (kt H2/y)         340.00       3400.00   \n5                      real throughput (kt H2/y)         255.00           NaN   \n6                     OPEX & Fuel (% of CAPEX/a)           0.05          0.05   \n7                                utilisation (%)           0.75          0.75   \n8   Cost of pipeline transport  ($/1000km/kg H2)           0.64          0.24   \n9                              Interest rate (%)           0.08          0.08   \n10                                           NaN            NaN           NaN   \n11                                           NaN            NaN           NaN   \n12                                           NaN            NaN           NaN   \n13                                           NaN            NaN           NaN   \n14                                           NaN            NaN           NaN   \n15                                           NaN            NaN           NaN   \n16                                           NaN            NaN           NaN   \n17                                           NaN            NaN           NaN   \n18                                           NaN            NaN           NaN   \n19                                           NaN            NaN           NaN   \n20                                           NaN            NaN           NaN   \n21                                           NaN            NaN           NaN   \n22                                           NaN            NaN           NaN   \n23                                           NaN            NaN           NaN   \n24                                           NaN            NaN           NaN   \n\n    Pipeline Retrofit  Unnamed: 4  Unnamed: 5 Unnamed: 6  \n0               40.00         NaN         NaN        NaN  \n1                0.08         NaN         NaN        NaN  \n2                 NaN         NaN         NaN        NaN  \n3                0.73         NaN         NaN        NaN  \n4             3400.00         NaN         NaN        NaN  \n5                 NaN         NaN         NaN        NaN  \n6                0.05         NaN         NaN        NaN  \n7                0.75         NaN         NaN        NaN  \n8                0.13         NaN         NaN        NaN  \n9                0.08         NaN         NaN        NaN  \n10                NaN         NaN         NaN        NaN  \n11                NaN         NaN         NaN        NaN  \n12                NaN         NaN         NaN        NaN  \n13                NaN         NaN         NaN        NaN  \n14                NaN         NaN         NaN        NaN  \n15                NaN         NaN         NaN        NaN  \n16                NaN         NaN         NaN        NaN  \n17                NaN         NaN         NaN        NaN  \n18                NaN         NaN         NaN        NaN  \n19                NaN         NaN         NaN        NaN  \n20                NaN         NaN         NaN        NaN  \n21                NaN         NaN         NaN        NaN  \n22                NaN         NaN         NaN        NaN  \n23                NaN         NaN         NaN        NaN  \n24                NaN         NaN         NaN          r  ",
      "text/html": "<div>\n<style scoped>\n    .dataframe tbody tr th:only-of-type {\n        vertical-align: middle;\n    }\n\n    .dataframe tbody tr th {\n        vertical-align: top;\n    }\n\n    .dataframe thead th {\n        text-align: right;\n    }\n</style>\n<table border=\"1\" class=\"dataframe\">\n  <thead>\n    <tr style=\"text-align: right;\">\n      <th></th>\n      <th>Pipelines</th>\n      <th>Pipeline High</th>\n      <th>Pipeline Low</th>\n      <th>Pipeline Retrofit</th>\n      <th>Unnamed: 4</th>\n      <th>Unnamed: 5</th>\n      <th>Unnamed: 6</th>\n    </tr>\n  </thead>\n  <tbody>\n    <tr>\n      <th>0</th>\n      <td>Technical Lifetime (y)</td>\n      <td>40.00</td>\n      <td>40.00</td>\n      <td>40.00</td>\n      <td>NaN</td>\n      <td>NaN</td>\n      <td>NaN</td>\n    </tr>\n    <tr>\n      <th>1</th>\n      <td>Amortisation factor (%)</td>\n      <td>0.08</td>\n      <td>0.08</td>\n      <td>0.08</td>\n      <td>NaN</td>\n      <td>NaN</td>\n      <td>NaN</td>\n    </tr>\n    <tr>\n      <th>2</th>\n      <td>CAPEX (mio$/km)</td>\n      <td>1.21</td>\n      <td>NaN</td>\n      <td>NaN</td>\n      <td>NaN</td>\n      <td>NaN</td>\n      <td>NaN</td>\n    </tr>\n    <tr>\n      <th>3</th>\n      <td>CAPEX ($/tpa/km)</td>\n      <td>3.56</td>\n      <td>1.33</td>\n      <td>0.73</td>\n      <td>NaN</td>\n      <td>NaN</td>\n      <td>NaN</td>\n    </tr>\n    <tr>\n      <th>4</th>\n      <td>design throughput (kt H2/y)</td>\n      <td>340.00</td>\n      <td>3400.00</td>\n      <td>3400.00</td>\n      <td>NaN</td>\n      <td>NaN</td>\n      <td>NaN</td>\n    </tr>\n    <tr>\n      <th>5</th>\n      <td>real throughput (kt H2/y)</td>\n      <td>255.00</td>\n      <td>NaN</td>\n      <td>NaN</td>\n      <td>NaN</td>\n      <td>NaN</td>\n      <td>NaN</td>\n    </tr>\n    <tr>\n      <th>6</th>\n      <td>OPEX &amp; Fuel (% of CAPEX/a)</td>\n      <td>0.05</td>\n      <td>0.05</td>\n      <td>0.05</td>\n      <td>NaN</td>\n      <td>NaN</td>\n      <td>NaN</td>\n    </tr>\n    <tr>\n      <th>7</th>\n      <td>utilisation (%)</td>\n      <td>0.75</td>\n      <td>0.75</td>\n      <td>0.75</td>\n      <td>NaN</td>\n      <td>NaN</td>\n      <td>NaN</td>\n    </tr>\n    <tr>\n      <th>8</th>\n      <td>Cost of pipeline transport  ($/1000km/kg H2)</td>\n      <td>0.64</td>\n      <td>0.24</td>\n      <td>0.13</td>\n      <td>NaN</td>\n      <td>NaN</td>\n      <td>NaN</td>\n    </tr>\n    <tr>\n      <th>9</th>\n      <td>Interest rate (%)</td>\n      <td>0.08</td>\n      <td>0.08</td>\n      <td>0.08</td>\n      <td>NaN</td>\n      <td>NaN</td>\n      <td>NaN</td>\n    </tr>\n    <tr>\n      <th>10</th>\n      <td>NaN</td>\n      <td>NaN</td>\n      <td>NaN</td>\n      <td>NaN</td>\n      <td>NaN</td>\n      <td>NaN</td>\n      <td>NaN</td>\n    </tr>\n    <tr>\n      <th>11</th>\n      <td>NaN</td>\n      <td>NaN</td>\n      <td>NaN</td>\n      <td>NaN</td>\n      <td>NaN</td>\n      <td>NaN</td>\n      <td>NaN</td>\n    </tr>\n    <tr>\n      <th>12</th>\n      <td>NaN</td>\n      <td>NaN</td>\n      <td>NaN</td>\n      <td>NaN</td>\n      <td>NaN</td>\n      <td>NaN</td>\n      <td>NaN</td>\n    </tr>\n    <tr>\n      <th>13</th>\n      <td>NaN</td>\n      <td>NaN</td>\n      <td>NaN</td>\n      <td>NaN</td>\n      <td>NaN</td>\n      <td>NaN</td>\n      <td>NaN</td>\n    </tr>\n    <tr>\n      <th>14</th>\n      <td>NaN</td>\n      <td>NaN</td>\n      <td>NaN</td>\n      <td>NaN</td>\n      <td>NaN</td>\n      <td>NaN</td>\n      <td>NaN</td>\n    </tr>\n    <tr>\n      <th>15</th>\n      <td>NaN</td>\n      <td>NaN</td>\n      <td>NaN</td>\n      <td>NaN</td>\n      <td>NaN</td>\n      <td>NaN</td>\n      <td>NaN</td>\n    </tr>\n    <tr>\n      <th>16</th>\n      <td>NaN</td>\n      <td>NaN</td>\n      <td>NaN</td>\n      <td>NaN</td>\n      <td>NaN</td>\n      <td>NaN</td>\n      <td>NaN</td>\n    </tr>\n    <tr>\n      <th>17</th>\n      <td>NaN</td>\n      <td>NaN</td>\n      <td>NaN</td>\n      <td>NaN</td>\n      <td>NaN</td>\n      <td>NaN</td>\n      <td>NaN</td>\n    </tr>\n    <tr>\n      <th>18</th>\n      <td>NaN</td>\n      <td>NaN</td>\n      <td>NaN</td>\n      <td>NaN</td>\n      <td>NaN</td>\n      <td>NaN</td>\n      <td>NaN</td>\n    </tr>\n    <tr>\n      <th>19</th>\n      <td>NaN</td>\n      <td>NaN</td>\n      <td>NaN</td>\n      <td>NaN</td>\n      <td>NaN</td>\n      <td>NaN</td>\n      <td>NaN</td>\n    </tr>\n    <tr>\n      <th>20</th>\n      <td>NaN</td>\n      <td>NaN</td>\n      <td>NaN</td>\n      <td>NaN</td>\n      <td>NaN</td>\n      <td>NaN</td>\n      <td>NaN</td>\n    </tr>\n    <tr>\n      <th>21</th>\n      <td>NaN</td>\n      <td>NaN</td>\n      <td>NaN</td>\n      <td>NaN</td>\n      <td>NaN</td>\n      <td>NaN</td>\n      <td>NaN</td>\n    </tr>\n    <tr>\n      <th>22</th>\n      <td>NaN</td>\n      <td>NaN</td>\n      <td>NaN</td>\n      <td>NaN</td>\n      <td>NaN</td>\n      <td>NaN</td>\n      <td>NaN</td>\n    </tr>\n    <tr>\n      <th>23</th>\n      <td>NaN</td>\n      <td>NaN</td>\n      <td>NaN</td>\n      <td>NaN</td>\n      <td>NaN</td>\n      <td>NaN</td>\n      <td>NaN</td>\n    </tr>\n    <tr>\n      <th>24</th>\n      <td>NaN</td>\n      <td>NaN</td>\n      <td>NaN</td>\n      <td>NaN</td>\n      <td>NaN</td>\n      <td>NaN</td>\n      <td>r</td>\n    </tr>\n  </tbody>\n</table>\n</div>"
     },
     "execution_count": 231,
     "metadata": {},
     "output_type": "execute_result"
    }
   ],
   "source": [
    "tea_tra = pd.read_csv(\"/Users/jakob/PycharmProjects/H2_pathways_repo/data/raw/tea_tra.csv\", delimiter=';', decimal=',')\n",
    "tea_tra"
   ],
   "metadata": {
    "collapsed": false,
    "pycharm": {
     "name": "#%%\n"
    }
   }
  },
  {
   "cell_type": "code",
   "execution_count": 232,
   "outputs": [
    {
     "data": {
      "text/plain": "                                       Pipelines     High       Low  Retrofit  \\\n0                                  Discount rate    0.080     0.080     0.080   \n1                         Technical Lifetime (y)   40.000    40.000    40.000   \n2                        Amortisation factor (%)    0.084     0.084     0.084   \n3                                CAPEX (mio$/km)    1.210       NaN       NaN   \n4                               CAPEX ($/tpa/km)    3.560     1.330     0.730   \n5                    design throughput (kt H2/y)  340.000  3400.000  3400.000   \n6                      real throughput (kt H2/y)  255.000       NaN       NaN   \n7                     OPEX & Fuel (% of CAPEX/a)    0.050     0.050     0.050   \n8                                utilisation (%)    0.750     0.750     0.750   \n9   Cost of pipeline transport  ($/1000km/kg H2)    0.640     0.240     0.130   \n10                                           NaN      NaN       NaN       NaN   \n11                                           NaN      NaN       NaN       NaN   \n12                                           NaN      NaN       NaN       NaN   \n13                                           NaN      NaN       NaN       NaN   \n14                                           NaN      NaN       NaN       NaN   \n15                                           NaN      NaN       NaN       NaN   \n16                                           NaN      NaN       NaN       NaN   \n17                                           NaN      NaN       NaN       NaN   \n18                                           NaN      NaN       NaN       NaN   \n19                                           NaN      NaN       NaN       NaN   \n20                                           NaN      NaN       NaN       NaN   \n21                                           NaN      NaN       NaN       NaN   \n22                                           NaN      NaN       NaN       NaN   \n23                                           NaN      NaN       NaN       NaN   \n24                                           NaN      NaN       NaN       NaN   \n25                                           NaN      NaN       NaN       NaN   \n\n   Unnamed: 4  \n0         NaN  \n1         NaN  \n2         NaN  \n3         NaN  \n4         NaN  \n5         NaN  \n6         NaN  \n7         NaN  \n8         NaN  \n9         NaN  \n10        NaN  \n11        NaN  \n12        NaN  \n13        NaN  \n14        NaN  \n15        NaN  \n16        NaN  \n17        NaN  \n18        NaN  \n19        NaN  \n20        NaN  \n21        NaN  \n22        NaN  \n23        NaN  \n24        NaN  \n25          r  ",
      "text/html": "<div>\n<style scoped>\n    .dataframe tbody tr th:only-of-type {\n        vertical-align: middle;\n    }\n\n    .dataframe tbody tr th {\n        vertical-align: top;\n    }\n\n    .dataframe thead th {\n        text-align: right;\n    }\n</style>\n<table border=\"1\" class=\"dataframe\">\n  <thead>\n    <tr style=\"text-align: right;\">\n      <th></th>\n      <th>Pipelines</th>\n      <th>High</th>\n      <th>Low</th>\n      <th>Retrofit</th>\n      <th>Unnamed: 4</th>\n    </tr>\n  </thead>\n  <tbody>\n    <tr>\n      <th>0</th>\n      <td>Discount rate</td>\n      <td>0.080</td>\n      <td>0.080</td>\n      <td>0.080</td>\n      <td>NaN</td>\n    </tr>\n    <tr>\n      <th>1</th>\n      <td>Technical Lifetime (y)</td>\n      <td>40.000</td>\n      <td>40.000</td>\n      <td>40.000</td>\n      <td>NaN</td>\n    </tr>\n    <tr>\n      <th>2</th>\n      <td>Amortisation factor (%)</td>\n      <td>0.084</td>\n      <td>0.084</td>\n      <td>0.084</td>\n      <td>NaN</td>\n    </tr>\n    <tr>\n      <th>3</th>\n      <td>CAPEX (mio$/km)</td>\n      <td>1.210</td>\n      <td>NaN</td>\n      <td>NaN</td>\n      <td>NaN</td>\n    </tr>\n    <tr>\n      <th>4</th>\n      <td>CAPEX ($/tpa/km)</td>\n      <td>3.560</td>\n      <td>1.330</td>\n      <td>0.730</td>\n      <td>NaN</td>\n    </tr>\n    <tr>\n      <th>5</th>\n      <td>design throughput (kt H2/y)</td>\n      <td>340.000</td>\n      <td>3400.000</td>\n      <td>3400.000</td>\n      <td>NaN</td>\n    </tr>\n    <tr>\n      <th>6</th>\n      <td>real throughput (kt H2/y)</td>\n      <td>255.000</td>\n      <td>NaN</td>\n      <td>NaN</td>\n      <td>NaN</td>\n    </tr>\n    <tr>\n      <th>7</th>\n      <td>OPEX &amp; Fuel (% of CAPEX/a)</td>\n      <td>0.050</td>\n      <td>0.050</td>\n      <td>0.050</td>\n      <td>NaN</td>\n    </tr>\n    <tr>\n      <th>8</th>\n      <td>utilisation (%)</td>\n      <td>0.750</td>\n      <td>0.750</td>\n      <td>0.750</td>\n      <td>NaN</td>\n    </tr>\n    <tr>\n      <th>9</th>\n      <td>Cost of pipeline transport  ($/1000km/kg H2)</td>\n      <td>0.640</td>\n      <td>0.240</td>\n      <td>0.130</td>\n      <td>NaN</td>\n    </tr>\n    <tr>\n      <th>10</th>\n      <td>NaN</td>\n      <td>NaN</td>\n      <td>NaN</td>\n      <td>NaN</td>\n      <td>NaN</td>\n    </tr>\n    <tr>\n      <th>11</th>\n      <td>NaN</td>\n      <td>NaN</td>\n      <td>NaN</td>\n      <td>NaN</td>\n      <td>NaN</td>\n    </tr>\n    <tr>\n      <th>12</th>\n      <td>NaN</td>\n      <td>NaN</td>\n      <td>NaN</td>\n      <td>NaN</td>\n      <td>NaN</td>\n    </tr>\n    <tr>\n      <th>13</th>\n      <td>NaN</td>\n      <td>NaN</td>\n      <td>NaN</td>\n      <td>NaN</td>\n      <td>NaN</td>\n    </tr>\n    <tr>\n      <th>14</th>\n      <td>NaN</td>\n      <td>NaN</td>\n      <td>NaN</td>\n      <td>NaN</td>\n      <td>NaN</td>\n    </tr>\n    <tr>\n      <th>15</th>\n      <td>NaN</td>\n      <td>NaN</td>\n      <td>NaN</td>\n      <td>NaN</td>\n      <td>NaN</td>\n    </tr>\n    <tr>\n      <th>16</th>\n      <td>NaN</td>\n      <td>NaN</td>\n      <td>NaN</td>\n      <td>NaN</td>\n      <td>NaN</td>\n    </tr>\n    <tr>\n      <th>17</th>\n      <td>NaN</td>\n      <td>NaN</td>\n      <td>NaN</td>\n      <td>NaN</td>\n      <td>NaN</td>\n    </tr>\n    <tr>\n      <th>18</th>\n      <td>NaN</td>\n      <td>NaN</td>\n      <td>NaN</td>\n      <td>NaN</td>\n      <td>NaN</td>\n    </tr>\n    <tr>\n      <th>19</th>\n      <td>NaN</td>\n      <td>NaN</td>\n      <td>NaN</td>\n      <td>NaN</td>\n      <td>NaN</td>\n    </tr>\n    <tr>\n      <th>20</th>\n      <td>NaN</td>\n      <td>NaN</td>\n      <td>NaN</td>\n      <td>NaN</td>\n      <td>NaN</td>\n    </tr>\n    <tr>\n      <th>21</th>\n      <td>NaN</td>\n      <td>NaN</td>\n      <td>NaN</td>\n      <td>NaN</td>\n      <td>NaN</td>\n    </tr>\n    <tr>\n      <th>22</th>\n      <td>NaN</td>\n      <td>NaN</td>\n      <td>NaN</td>\n      <td>NaN</td>\n      <td>NaN</td>\n    </tr>\n    <tr>\n      <th>23</th>\n      <td>NaN</td>\n      <td>NaN</td>\n      <td>NaN</td>\n      <td>NaN</td>\n      <td>NaN</td>\n    </tr>\n    <tr>\n      <th>24</th>\n      <td>NaN</td>\n      <td>NaN</td>\n      <td>NaN</td>\n      <td>NaN</td>\n      <td>NaN</td>\n    </tr>\n    <tr>\n      <th>25</th>\n      <td>NaN</td>\n      <td>NaN</td>\n      <td>NaN</td>\n      <td>NaN</td>\n      <td>r</td>\n    </tr>\n  </tbody>\n</table>\n</div>"
     },
     "execution_count": 232,
     "metadata": {},
     "output_type": "execute_result"
    }
   ],
   "source": [
    "#Definition of variables for pipeline transport costs\n",
    "tea_pipe = pd.read_csv(\"/Users/jakob/PycharmProjects/H2_pathways_repo/data/raw/tea_pipe.csv\", delimiter=';', decimal=',')\n",
    "tea_pipe"
   ],
   "metadata": {
    "collapsed": false,
    "pycharm": {
     "name": "#%%\n"
    }
   }
  },
  {
   "cell_type": "code",
   "execution_count": 252,
   "outputs": [
    {
     "data": {
      "text/plain": "                                                                                        Ref  \\\nProperties                                                                                    \nProperties - Gas density [kg/m3]                                                   BOG 2020   \nProperties - LHV [MJ/kg]                                                           BOG 2020   \nProperties - LHV [kWh/kg]                 https://www.iea-amf.org/content/fuel_informati...   \nProperties - LHV [kWh/m3]                  https://www.rechargenews.com/energy-transitio...   \nProperties - Boiling point at 1 Bar [°C]                                                NaN   \n...                                                                                     ...   \nReconversion                                                                            NaN   \nReconversion - Capex opt.[USD/kW H2]                                             IRENA 2022   \nReconversion - Capex pess.[USD/kW H2]                                            IRENA 2022   \nReconversion - Opex opt. [% of Capex]                                            IRENA 2022   \nReconversion - Opex pess. [% of Capex]                                           IRENA 2022   \n\n                                            LH2  2020  2021  2022  2023  2024  \\\nProperties                                                                      \nProperties - Gas density [kg/m3]           71.1   NaN   NaN   NaN   NaN   NaN   \nProperties - LHV [MJ/kg]                    120   NaN   NaN   NaN   NaN   NaN   \nProperties - LHV [kWh/kg]                 33.33   NaN   NaN   NaN   NaN   NaN   \nProperties - LHV [kWh/m3]                  2350   NaN   NaN   NaN   NaN   NaN   \nProperties - Boiling point at 1 Bar [°C]   -253   NaN   NaN   NaN   NaN   NaN   \n...                                         ...   ...   ...   ...   ...   ...   \nReconversion                                NaN   NaN   NaN   NaN   NaN   NaN   \nReconversion - Capex opt.[USD/kW H2]        NaN   NaN   NaN   NaN   NaN   NaN   \nReconversion - Capex pess.[USD/kW H2]       NaN   NaN   NaN   NaN   NaN   NaN   \nReconversion - Opex opt. [% of Capex]      0.03   NaN   NaN   NaN   NaN   NaN   \nReconversion - Opex pess. [% of Capex]     0.04   NaN   NaN   NaN   NaN   NaN   \n\n                                          2025  2026  2027  ...  2041  2042  \\\nProperties                                                  ...               \nProperties - Gas density [kg/m3]           NaN   NaN   NaN  ...   NaN   NaN   \nProperties - LHV [MJ/kg]                   NaN   NaN   NaN  ...   NaN   NaN   \nProperties - LHV [kWh/kg]                  NaN   NaN   NaN  ...   NaN   NaN   \nProperties - LHV [kWh/m3]                  NaN   NaN   NaN  ...   NaN   NaN   \nProperties - Boiling point at 1 Bar [°C]   NaN   NaN   NaN  ...   NaN   NaN   \n...                                        ...   ...   ...  ...   ...   ...   \nReconversion                               NaN   NaN   NaN  ...   NaN   NaN   \nReconversion - Capex opt.[USD/kW H2]       NaN   NaN   NaN  ...   NaN   NaN   \nReconversion - Capex pess.[USD/kW H2]      NaN   NaN   NaN  ...   NaN   NaN   \nReconversion - Opex opt. [% of Capex]      NaN   NaN   NaN  ...   NaN   NaN   \nReconversion - Opex pess. [% of Capex]     NaN   NaN   NaN  ...   NaN   NaN   \n\n                                          2043  2044  2045  2046  2047  2048  \\\nProperties                                                                     \nProperties - Gas density [kg/m3]           NaN   NaN   NaN   NaN   NaN   NaN   \nProperties - LHV [MJ/kg]                   NaN   NaN   NaN   NaN   NaN   NaN   \nProperties - LHV [kWh/kg]                  NaN   NaN   NaN   NaN   NaN   NaN   \nProperties - LHV [kWh/m3]                  NaN   NaN   NaN   NaN   NaN   NaN   \nProperties - Boiling point at 1 Bar [°C]   NaN   NaN   NaN   NaN   NaN   NaN   \n...                                        ...   ...   ...   ...   ...   ...   \nReconversion                               NaN   NaN   NaN   NaN   NaN   NaN   \nReconversion - Capex opt.[USD/kW H2]       NaN   NaN   NaN   NaN   NaN   NaN   \nReconversion - Capex pess.[USD/kW H2]      NaN   NaN   NaN   NaN   NaN   NaN   \nReconversion - Opex opt. [% of Capex]      NaN   NaN   NaN   NaN   NaN   NaN   \nReconversion - Opex pess. [% of Capex]     NaN   NaN   NaN   NaN   NaN   NaN   \n\n                                          2049   2050  \nProperties                                             \nProperties - Gas density [kg/m3]           NaN    NaN  \nProperties - LHV [MJ/kg]                   NaN    NaN  \nProperties - LHV [kWh/kg]                  NaN    NaN  \nProperties - LHV [kWh/m3]                  NaN    NaN  \nProperties - Boiling point at 1 Bar [°C]   NaN    NaN  \n...                                        ...    ...  \nReconversion                               NaN    NaN  \nReconversion - Capex opt.[USD/kW H2]       NaN   60.4  \nReconversion - Capex pess.[USD/kW H2]      NaN  190.5  \nReconversion - Opex opt. [% of Capex]      NaN    NaN  \nReconversion - Opex pess. [% of Capex]     NaN    NaN  \n\n[101 rows x 33 columns]",
      "text/html": "<div>\n<style scoped>\n    .dataframe tbody tr th:only-of-type {\n        vertical-align: middle;\n    }\n\n    .dataframe tbody tr th {\n        vertical-align: top;\n    }\n\n    .dataframe thead th {\n        text-align: right;\n    }\n</style>\n<table border=\"1\" class=\"dataframe\">\n  <thead>\n    <tr style=\"text-align: right;\">\n      <th></th>\n      <th>Ref</th>\n      <th>LH2</th>\n      <th>2020</th>\n      <th>2021</th>\n      <th>2022</th>\n      <th>2023</th>\n      <th>2024</th>\n      <th>2025</th>\n      <th>2026</th>\n      <th>2027</th>\n      <th>...</th>\n      <th>2041</th>\n      <th>2042</th>\n      <th>2043</th>\n      <th>2044</th>\n      <th>2045</th>\n      <th>2046</th>\n      <th>2047</th>\n      <th>2048</th>\n      <th>2049</th>\n      <th>2050</th>\n    </tr>\n    <tr>\n      <th>Properties</th>\n      <th></th>\n      <th></th>\n      <th></th>\n      <th></th>\n      <th></th>\n      <th></th>\n      <th></th>\n      <th></th>\n      <th></th>\n      <th></th>\n      <th></th>\n      <th></th>\n      <th></th>\n      <th></th>\n      <th></th>\n      <th></th>\n      <th></th>\n      <th></th>\n      <th></th>\n      <th></th>\n      <th></th>\n    </tr>\n  </thead>\n  <tbody>\n    <tr>\n      <th>Properties - Gas density [kg/m3]</th>\n      <td>BOG 2020</td>\n      <td>71.1</td>\n      <td>NaN</td>\n      <td>NaN</td>\n      <td>NaN</td>\n      <td>NaN</td>\n      <td>NaN</td>\n      <td>NaN</td>\n      <td>NaN</td>\n      <td>NaN</td>\n      <td>...</td>\n      <td>NaN</td>\n      <td>NaN</td>\n      <td>NaN</td>\n      <td>NaN</td>\n      <td>NaN</td>\n      <td>NaN</td>\n      <td>NaN</td>\n      <td>NaN</td>\n      <td>NaN</td>\n      <td>NaN</td>\n    </tr>\n    <tr>\n      <th>Properties - LHV [MJ/kg]</th>\n      <td>BOG 2020</td>\n      <td>120</td>\n      <td>NaN</td>\n      <td>NaN</td>\n      <td>NaN</td>\n      <td>NaN</td>\n      <td>NaN</td>\n      <td>NaN</td>\n      <td>NaN</td>\n      <td>NaN</td>\n      <td>...</td>\n      <td>NaN</td>\n      <td>NaN</td>\n      <td>NaN</td>\n      <td>NaN</td>\n      <td>NaN</td>\n      <td>NaN</td>\n      <td>NaN</td>\n      <td>NaN</td>\n      <td>NaN</td>\n      <td>NaN</td>\n    </tr>\n    <tr>\n      <th>Properties - LHV [kWh/kg]</th>\n      <td>https://www.iea-amf.org/content/fuel_informati...</td>\n      <td>33.33</td>\n      <td>NaN</td>\n      <td>NaN</td>\n      <td>NaN</td>\n      <td>NaN</td>\n      <td>NaN</td>\n      <td>NaN</td>\n      <td>NaN</td>\n      <td>NaN</td>\n      <td>...</td>\n      <td>NaN</td>\n      <td>NaN</td>\n      <td>NaN</td>\n      <td>NaN</td>\n      <td>NaN</td>\n      <td>NaN</td>\n      <td>NaN</td>\n      <td>NaN</td>\n      <td>NaN</td>\n      <td>NaN</td>\n    </tr>\n    <tr>\n      <th>Properties - LHV [kWh/m3]</th>\n      <td>https://www.rechargenews.com/energy-transitio...</td>\n      <td>2350</td>\n      <td>NaN</td>\n      <td>NaN</td>\n      <td>NaN</td>\n      <td>NaN</td>\n      <td>NaN</td>\n      <td>NaN</td>\n      <td>NaN</td>\n      <td>NaN</td>\n      <td>...</td>\n      <td>NaN</td>\n      <td>NaN</td>\n      <td>NaN</td>\n      <td>NaN</td>\n      <td>NaN</td>\n      <td>NaN</td>\n      <td>NaN</td>\n      <td>NaN</td>\n      <td>NaN</td>\n      <td>NaN</td>\n    </tr>\n    <tr>\n      <th>Properties - Boiling point at 1 Bar [°C]</th>\n      <td>NaN</td>\n      <td>-253</td>\n      <td>NaN</td>\n      <td>NaN</td>\n      <td>NaN</td>\n      <td>NaN</td>\n      <td>NaN</td>\n      <td>NaN</td>\n      <td>NaN</td>\n      <td>NaN</td>\n      <td>...</td>\n      <td>NaN</td>\n      <td>NaN</td>\n      <td>NaN</td>\n      <td>NaN</td>\n      <td>NaN</td>\n      <td>NaN</td>\n      <td>NaN</td>\n      <td>NaN</td>\n      <td>NaN</td>\n      <td>NaN</td>\n    </tr>\n    <tr>\n      <th>...</th>\n      <td>...</td>\n      <td>...</td>\n      <td>...</td>\n      <td>...</td>\n      <td>...</td>\n      <td>...</td>\n      <td>...</td>\n      <td>...</td>\n      <td>...</td>\n      <td>...</td>\n      <td>...</td>\n      <td>...</td>\n      <td>...</td>\n      <td>...</td>\n      <td>...</td>\n      <td>...</td>\n      <td>...</td>\n      <td>...</td>\n      <td>...</td>\n      <td>...</td>\n      <td>...</td>\n    </tr>\n    <tr>\n      <th>Reconversion</th>\n      <td>NaN</td>\n      <td>NaN</td>\n      <td>NaN</td>\n      <td>NaN</td>\n      <td>NaN</td>\n      <td>NaN</td>\n      <td>NaN</td>\n      <td>NaN</td>\n      <td>NaN</td>\n      <td>NaN</td>\n      <td>...</td>\n      <td>NaN</td>\n      <td>NaN</td>\n      <td>NaN</td>\n      <td>NaN</td>\n      <td>NaN</td>\n      <td>NaN</td>\n      <td>NaN</td>\n      <td>NaN</td>\n      <td>NaN</td>\n      <td>NaN</td>\n    </tr>\n    <tr>\n      <th>Reconversion - Capex opt.[USD/kW H2]</th>\n      <td>IRENA 2022</td>\n      <td>NaN</td>\n      <td>NaN</td>\n      <td>NaN</td>\n      <td>NaN</td>\n      <td>NaN</td>\n      <td>NaN</td>\n      <td>NaN</td>\n      <td>NaN</td>\n      <td>NaN</td>\n      <td>...</td>\n      <td>NaN</td>\n      <td>NaN</td>\n      <td>NaN</td>\n      <td>NaN</td>\n      <td>NaN</td>\n      <td>NaN</td>\n      <td>NaN</td>\n      <td>NaN</td>\n      <td>NaN</td>\n      <td>60.4</td>\n    </tr>\n    <tr>\n      <th>Reconversion - Capex pess.[USD/kW H2]</th>\n      <td>IRENA 2022</td>\n      <td>NaN</td>\n      <td>NaN</td>\n      <td>NaN</td>\n      <td>NaN</td>\n      <td>NaN</td>\n      <td>NaN</td>\n      <td>NaN</td>\n      <td>NaN</td>\n      <td>NaN</td>\n      <td>...</td>\n      <td>NaN</td>\n      <td>NaN</td>\n      <td>NaN</td>\n      <td>NaN</td>\n      <td>NaN</td>\n      <td>NaN</td>\n      <td>NaN</td>\n      <td>NaN</td>\n      <td>NaN</td>\n      <td>190.5</td>\n    </tr>\n    <tr>\n      <th>Reconversion - Opex opt. [% of Capex]</th>\n      <td>IRENA 2022</td>\n      <td>0.03</td>\n      <td>NaN</td>\n      <td>NaN</td>\n      <td>NaN</td>\n      <td>NaN</td>\n      <td>NaN</td>\n      <td>NaN</td>\n      <td>NaN</td>\n      <td>NaN</td>\n      <td>...</td>\n      <td>NaN</td>\n      <td>NaN</td>\n      <td>NaN</td>\n      <td>NaN</td>\n      <td>NaN</td>\n      <td>NaN</td>\n      <td>NaN</td>\n      <td>NaN</td>\n      <td>NaN</td>\n      <td>NaN</td>\n    </tr>\n    <tr>\n      <th>Reconversion - Opex pess. [% of Capex]</th>\n      <td>IRENA 2022</td>\n      <td>0.04</td>\n      <td>NaN</td>\n      <td>NaN</td>\n      <td>NaN</td>\n      <td>NaN</td>\n      <td>NaN</td>\n      <td>NaN</td>\n      <td>NaN</td>\n      <td>NaN</td>\n      <td>...</td>\n      <td>NaN</td>\n      <td>NaN</td>\n      <td>NaN</td>\n      <td>NaN</td>\n      <td>NaN</td>\n      <td>NaN</td>\n      <td>NaN</td>\n      <td>NaN</td>\n      <td>NaN</td>\n      <td>NaN</td>\n    </tr>\n  </tbody>\n</table>\n<p>101 rows × 33 columns</p>\n</div>"
     },
     "execution_count": 252,
     "metadata": {},
     "output_type": "execute_result"
    }
   ],
   "source": [],
   "metadata": {
    "collapsed": false,
    "pycharm": {
     "name": "#%%\n"
    }
   }
  },
  {
   "cell_type": "code",
   "execution_count": 235,
   "outputs": [
    {
     "data": {
      "text/plain": "           Origin_Country Destination_Country  sea distance (km)  \\\n0    United Arab Emirates             Germany           12443.10   \n1                  Angola             Germany            9809.65   \n2               Argentina             Germany           14063.90   \n3                 Austria             Germany            6005.96   \n4               Australia             Germany           21212.10   \n..                    ...                 ...                ...   \n955           Philippines               China            1782.35   \n956               Iceland               China           20454.60   \n957      Papua New Guinea               China            6298.52   \n958              Cameroon               China           19717.70   \n959          South Africa               China           12853.50   \n\n     onshore distance (km)  offshore distance (km) Starting point  \n0                      NaN                     NaN            NaN  \n1                      NaN                     NaN            NaN  \n2                      NaN                     NaN            NaN  \n3                    500.0                     0.0            NaN  \n4                      NaN                     NaN            NaN  \n..                     ...                     ...            ...  \n955                    NaN                     NaN            NaN  \n956                    NaN                     NaN            NaN  \n957                    NaN                     NaN            NaN  \n958                    NaN                     NaN            NaN  \n959                    NaN                     NaN            NaN  \n\n[960 rows x 6 columns]",
      "text/html": "<div>\n<style scoped>\n    .dataframe tbody tr th:only-of-type {\n        vertical-align: middle;\n    }\n\n    .dataframe tbody tr th {\n        vertical-align: top;\n    }\n\n    .dataframe thead th {\n        text-align: right;\n    }\n</style>\n<table border=\"1\" class=\"dataframe\">\n  <thead>\n    <tr style=\"text-align: right;\">\n      <th></th>\n      <th>Origin_Country</th>\n      <th>Destination_Country</th>\n      <th>sea distance (km)</th>\n      <th>onshore distance (km)</th>\n      <th>offshore distance (km)</th>\n      <th>Starting point</th>\n    </tr>\n  </thead>\n  <tbody>\n    <tr>\n      <th>0</th>\n      <td>United Arab Emirates</td>\n      <td>Germany</td>\n      <td>12443.10</td>\n      <td>NaN</td>\n      <td>NaN</td>\n      <td>NaN</td>\n    </tr>\n    <tr>\n      <th>1</th>\n      <td>Angola</td>\n      <td>Germany</td>\n      <td>9809.65</td>\n      <td>NaN</td>\n      <td>NaN</td>\n      <td>NaN</td>\n    </tr>\n    <tr>\n      <th>2</th>\n      <td>Argentina</td>\n      <td>Germany</td>\n      <td>14063.90</td>\n      <td>NaN</td>\n      <td>NaN</td>\n      <td>NaN</td>\n    </tr>\n    <tr>\n      <th>3</th>\n      <td>Austria</td>\n      <td>Germany</td>\n      <td>6005.96</td>\n      <td>500.0</td>\n      <td>0.0</td>\n      <td>NaN</td>\n    </tr>\n    <tr>\n      <th>4</th>\n      <td>Australia</td>\n      <td>Germany</td>\n      <td>21212.10</td>\n      <td>NaN</td>\n      <td>NaN</td>\n      <td>NaN</td>\n    </tr>\n    <tr>\n      <th>...</th>\n      <td>...</td>\n      <td>...</td>\n      <td>...</td>\n      <td>...</td>\n      <td>...</td>\n      <td>...</td>\n    </tr>\n    <tr>\n      <th>955</th>\n      <td>Philippines</td>\n      <td>China</td>\n      <td>1782.35</td>\n      <td>NaN</td>\n      <td>NaN</td>\n      <td>NaN</td>\n    </tr>\n    <tr>\n      <th>956</th>\n      <td>Iceland</td>\n      <td>China</td>\n      <td>20454.60</td>\n      <td>NaN</td>\n      <td>NaN</td>\n      <td>NaN</td>\n    </tr>\n    <tr>\n      <th>957</th>\n      <td>Papua New Guinea</td>\n      <td>China</td>\n      <td>6298.52</td>\n      <td>NaN</td>\n      <td>NaN</td>\n      <td>NaN</td>\n    </tr>\n    <tr>\n      <th>958</th>\n      <td>Cameroon</td>\n      <td>China</td>\n      <td>19717.70</td>\n      <td>NaN</td>\n      <td>NaN</td>\n      <td>NaN</td>\n    </tr>\n    <tr>\n      <th>959</th>\n      <td>South Africa</td>\n      <td>China</td>\n      <td>12853.50</td>\n      <td>NaN</td>\n      <td>NaN</td>\n      <td>NaN</td>\n    </tr>\n  </tbody>\n</table>\n<p>960 rows × 6 columns</p>\n</div>"
     },
     "execution_count": 235,
     "metadata": {},
     "output_type": "execute_result"
    }
   ],
   "source": [],
   "metadata": {
    "collapsed": false,
    "pycharm": {
     "name": "#%%\n"
    }
   }
  },
  {
   "cell_type": "code",
   "execution_count": 117,
   "outputs": [
    {
     "data": {
      "text/plain": "0.08"
     },
     "execution_count": 117,
     "metadata": {},
     "output_type": "execute_result"
    }
   ],
   "source": [
    "# WACC for all transport investments (pipelines, terminals, liquefaction plants)\n",
    "i_tra = float(tea_pipe[tea_pipe.Pipelines == 'Discount rate']['High'].values)\n",
    "i_tra"
   ],
   "metadata": {
    "collapsed": false,
    "pycharm": {
     "name": "#%%\n"
    }
   }
  },
  {
   "cell_type": "markdown",
   "source": [
    "# Pipeline transport costs"
   ],
   "metadata": {
    "collapsed": false,
    "pycharm": {
     "name": "#%% md\n"
    }
   }
  },
  {
   "cell_type": "code",
   "execution_count": 164,
   "outputs": [
    {
     "data": {
      "text/plain": "40.0"
     },
     "execution_count": 164,
     "metadata": {},
     "output_type": "execute_result"
    }
   ],
   "source": [
    "# Economic lifetime for pipelines\n",
    "l_pipe = float(tea_pipe[tea_pipe.Pipelines == 'Technical Lifetime (y)']['High'].values)\n",
    "l_pipe"
   ],
   "metadata": {
    "collapsed": false,
    "pycharm": {
     "name": "#%%\n"
    }
   }
  },
  {
   "cell_type": "code",
   "execution_count": 119,
   "outputs": [
    {
     "data": {
      "text/plain": "0.08386016150058534"
     },
     "execution_count": 119,
     "metadata": {},
     "output_type": "execute_result"
    }
   ],
   "source": [
    "# Amortisation factor for onshore pipelines\n",
    "alpha_on = (i_tra * (1 + i_tra)**l_pipe)/(((1 + i_tra)**l_pipe) - 1)\n",
    "alpha_on"
   ],
   "metadata": {
    "collapsed": false,
    "pycharm": {
     "name": "#%%\n"
    }
   }
  },
  {
   "cell_type": "code",
   "execution_count": 120,
   "outputs": [
    {
     "data": {
      "text/plain": "0.75"
     },
     "execution_count": 120,
     "metadata": {},
     "output_type": "execute_result"
    }
   ],
   "source": [
    "# Utilisation of the pipeline in %\n",
    "pipe_use = float(tea_pipe[tea_pipe.Pipelines == 'utilisation (%)']['High'].values)\n",
    "pipe_use"
   ],
   "metadata": {
    "collapsed": false,
    "pycharm": {
     "name": "#%%\n"
    }
   }
  },
  {
   "cell_type": "code",
   "execution_count": 121,
   "outputs": [
    {
     "data": {
      "text/plain": "3.56"
     },
     "execution_count": 121,
     "metadata": {},
     "output_type": "execute_result"
    }
   ],
   "source": [
    "capex_pipe_base_high = float(tea_pipe[tea_pipe.Pipelines == 'CAPEX ($/tpa/km)']['High'].values)\n",
    "capex_pipe_base_high"
   ],
   "metadata": {
    "collapsed": false,
    "pycharm": {
     "name": "#%%\n"
    }
   }
  },
  {
   "cell_type": "code",
   "execution_count": 122,
   "outputs": [
    {
     "data": {
      "text/plain": "4.746666666666667"
     },
     "execution_count": 122,
     "metadata": {},
     "output_type": "execute_result"
    }
   ],
   "source": [
    "# Capex for onshore pipelines constant over time (3.56) divided by pipeline utilisation in [$/tpa/km]\n",
    "capex_on_high = capex_pipe_base_high/pipe_use\n",
    "capex_on_high"
   ],
   "metadata": {
    "collapsed": false,
    "pycharm": {
     "name": "#%%\n"
    }
   }
  },
  {
   "cell_type": "code",
   "execution_count": 123,
   "outputs": [
    {
     "data": {
      "text/plain": "0.05"
     },
     "execution_count": 123,
     "metadata": {},
     "output_type": "execute_result"
    }
   ],
   "source": [
    "opex_on_share = float(tea_pipe[tea_pipe.Pipelines == 'OPEX & Fuel (% of CAPEX/a)']['High'].values)\n",
    "opex_on_share"
   ],
   "metadata": {
    "collapsed": false,
    "pycharm": {
     "name": "#%%\n"
    }
   }
  },
  {
   "cell_type": "code",
   "execution_count": 124,
   "outputs": [
    {
     "data": {
      "text/plain": "0.23733333333333337"
     },
     "execution_count": 124,
     "metadata": {},
     "output_type": "execute_result"
    }
   ],
   "source": [
    "# Opex for onshore pipelines constant over time (opex and fuel use in % of capex/a) in [$/tpa/km]\n",
    "opex_on_high = capex_on_high * opex_on_share\n",
    "opex_on_high"
   ],
   "metadata": {
    "collapsed": false,
    "pycharm": {
     "name": "#%%\n"
    }
   }
  },
  {
   "cell_type": "code",
   "execution_count": 125,
   "outputs": [
    {
     "data": {
      "text/plain": "300.0"
     },
     "execution_count": 125,
     "metadata": {},
     "output_type": "execute_result"
    }
   ],
   "source": [
    "# Onshore pipeline distance between two countries [km]\n",
    "d_on = float(tra_d[(tra_d['Origin_Country'] == 'Norway') & (tra_d['Destination_Country'] == 'Germany')]['onshore distance (km)'].values)\n",
    "d_on"
   ],
   "metadata": {
    "collapsed": false,
    "pycharm": {
     "name": "#%%\n"
    }
   }
  },
  {
   "cell_type": "code",
   "execution_count": 126,
   "outputs": [
    {
     "data": {
      "text/plain": "0.08386016150058534"
     },
     "execution_count": 126,
     "metadata": {},
     "output_type": "execute_result"
    }
   ],
   "source": [
    "# Amortisation factor for offshore pipelines\n",
    "alpha_off = alpha_on\n",
    "alpha_off"
   ],
   "metadata": {
    "collapsed": false,
    "pycharm": {
     "name": "#%%\n"
    }
   }
  },
  {
   "cell_type": "code",
   "execution_count": 127,
   "outputs": [
    {
     "data": {
      "text/plain": "7.911111111111111"
     },
     "execution_count": 127,
     "metadata": {},
     "output_type": "execute_result"
    }
   ],
   "source": [
    "# Capex for offshore pipelines [$/km] - Offshore multiplicator = 1.25\n",
    "capex_off_high = 1.25 * capex_on_high/pipe_use\n",
    "capex_off_high"
   ],
   "metadata": {
    "collapsed": false,
    "pycharm": {
     "name": "#%%\n"
    }
   }
  },
  {
   "cell_type": "code",
   "execution_count": 128,
   "outputs": [
    {
     "data": {
      "text/plain": "0.2966666666666667"
     },
     "execution_count": 128,
     "metadata": {},
     "output_type": "execute_result"
    }
   ],
   "source": [
    "# Opex for offshore pipelines [$/km/a]\n",
    "opex_off_high = 1.25 * opex_on_high\n",
    "opex_off_high"
   ],
   "metadata": {
    "collapsed": false,
    "pycharm": {
     "name": "#%%\n"
    }
   }
  },
  {
   "cell_type": "code",
   "execution_count": 129,
   "outputs": [
    {
     "data": {
      "text/plain": "650.0"
     },
     "execution_count": 129,
     "metadata": {},
     "output_type": "execute_result"
    }
   ],
   "source": [
    "# Offshore pipeline distance between two countries [km]\n",
    "d_off = float(tra_d[(tra_d['Origin_Country'] == 'Norway') & (tra_d['Destination_Country'] == 'Germany')]['offshore distance (km)'].values)\n",
    "d_off"
   ],
   "metadata": {
    "collapsed": false,
    "pycharm": {
     "name": "#%%\n"
    }
   }
  },
  {
   "cell_type": "code",
   "execution_count": 130,
   "outputs": [
    {
     "data": {
      "text/plain": "      Pipeline_costs\nYears               \n2020             NaN\n2021             NaN\n2022             NaN\n2023             NaN\n2024             NaN\n2025             NaN\n2026             NaN\n2027             NaN\n2028             NaN\n2029             NaN\n2030             NaN\n2031             NaN\n2032             NaN\n2033             NaN\n2034             NaN\n2035             NaN\n2036             NaN\n2037             NaN\n2038             NaN\n2039             NaN\n2040             NaN\n2041             NaN\n2042             NaN\n2043             NaN\n2044             NaN\n2045             NaN\n2046             NaN\n2047             NaN\n2048             NaN\n2049             NaN\n2050             NaN",
      "text/html": "<div>\n<style scoped>\n    .dataframe tbody tr th:only-of-type {\n        vertical-align: middle;\n    }\n\n    .dataframe tbody tr th {\n        vertical-align: top;\n    }\n\n    .dataframe thead th {\n        text-align: right;\n    }\n</style>\n<table border=\"1\" class=\"dataframe\">\n  <thead>\n    <tr style=\"text-align: right;\">\n      <th></th>\n      <th>Pipeline_costs</th>\n    </tr>\n    <tr>\n      <th>Years</th>\n      <th></th>\n    </tr>\n  </thead>\n  <tbody>\n    <tr>\n      <th>2020</th>\n      <td>NaN</td>\n    </tr>\n    <tr>\n      <th>2021</th>\n      <td>NaN</td>\n    </tr>\n    <tr>\n      <th>2022</th>\n      <td>NaN</td>\n    </tr>\n    <tr>\n      <th>2023</th>\n      <td>NaN</td>\n    </tr>\n    <tr>\n      <th>2024</th>\n      <td>NaN</td>\n    </tr>\n    <tr>\n      <th>2025</th>\n      <td>NaN</td>\n    </tr>\n    <tr>\n      <th>2026</th>\n      <td>NaN</td>\n    </tr>\n    <tr>\n      <th>2027</th>\n      <td>NaN</td>\n    </tr>\n    <tr>\n      <th>2028</th>\n      <td>NaN</td>\n    </tr>\n    <tr>\n      <th>2029</th>\n      <td>NaN</td>\n    </tr>\n    <tr>\n      <th>2030</th>\n      <td>NaN</td>\n    </tr>\n    <tr>\n      <th>2031</th>\n      <td>NaN</td>\n    </tr>\n    <tr>\n      <th>2032</th>\n      <td>NaN</td>\n    </tr>\n    <tr>\n      <th>2033</th>\n      <td>NaN</td>\n    </tr>\n    <tr>\n      <th>2034</th>\n      <td>NaN</td>\n    </tr>\n    <tr>\n      <th>2035</th>\n      <td>NaN</td>\n    </tr>\n    <tr>\n      <th>2036</th>\n      <td>NaN</td>\n    </tr>\n    <tr>\n      <th>2037</th>\n      <td>NaN</td>\n    </tr>\n    <tr>\n      <th>2038</th>\n      <td>NaN</td>\n    </tr>\n    <tr>\n      <th>2039</th>\n      <td>NaN</td>\n    </tr>\n    <tr>\n      <th>2040</th>\n      <td>NaN</td>\n    </tr>\n    <tr>\n      <th>2041</th>\n      <td>NaN</td>\n    </tr>\n    <tr>\n      <th>2042</th>\n      <td>NaN</td>\n    </tr>\n    <tr>\n      <th>2043</th>\n      <td>NaN</td>\n    </tr>\n    <tr>\n      <th>2044</th>\n      <td>NaN</td>\n    </tr>\n    <tr>\n      <th>2045</th>\n      <td>NaN</td>\n    </tr>\n    <tr>\n      <th>2046</th>\n      <td>NaN</td>\n    </tr>\n    <tr>\n      <th>2047</th>\n      <td>NaN</td>\n    </tr>\n    <tr>\n      <th>2048</th>\n      <td>NaN</td>\n    </tr>\n    <tr>\n      <th>2049</th>\n      <td>NaN</td>\n    </tr>\n    <tr>\n      <th>2050</th>\n      <td>NaN</td>\n    </tr>\n  </tbody>\n</table>\n</div>"
     },
     "execution_count": 130,
     "metadata": {},
     "output_type": "execute_result"
    }
   ],
   "source": [
    "years = np.arange(2020,2051)\n",
    "result = pd.DataFrame(index=years, columns=['Pipeline_costs'])\n",
    "result.index.name = 'Years'\n",
    "result"
   ],
   "metadata": {
    "collapsed": false,
    "pycharm": {
     "name": "#%%\n"
    }
   }
  },
  {
   "cell_type": "code",
   "execution_count": 130,
   "outputs": [],
   "source": [],
   "metadata": {
    "collapsed": false,
    "pycharm": {
     "name": "#%%\n"
    }
   }
  },
  {
   "cell_type": "code",
   "execution_count": 131,
   "outputs": [
    {
     "data": {
      "text/plain": "0.8146777893376214"
     },
     "execution_count": 131,
     "metadata": {},
     "output_type": "execute_result"
    }
   ],
   "source": [
    "# Costs for pipeline transport [$/1000km/kg_h2] - assumed to be constant over time\n",
    "TC_pipe_high = ((alpha_on * capex_on_high + opex_on_high) * d_on + (alpha_off * capex_off_high + opex_off_high) * d_off)/1000\n",
    "TC_pipe_high"
   ],
   "metadata": {
    "collapsed": false,
    "pycharm": {
     "name": "#%%\n"
    }
   }
  },
  {
   "cell_type": "markdown",
   "source": [
    "# Total pipeline transport costs"
   ],
   "metadata": {
    "collapsed": false,
    "pycharm": {
     "name": "#%% md\n"
    }
   }
  },
  {
   "cell_type": "code",
   "execution_count": 132,
   "outputs": [
    {
     "data": {
      "text/plain": "      Pipeline_costs\nYears               \n2020        0.814678\n2021        0.814678\n2022        0.814678\n2023        0.814678\n2024        0.814678\n2025        0.814678\n2026        0.814678\n2027        0.814678\n2028        0.814678\n2029        0.814678\n2030        0.814678\n2031        0.814678\n2032        0.814678\n2033        0.814678\n2034        0.814678\n2035        0.814678\n2036        0.814678\n2037        0.814678\n2038        0.814678\n2039        0.814678\n2040        0.814678\n2041        0.814678\n2042        0.814678\n2043        0.814678\n2044        0.814678\n2045        0.814678\n2046        0.814678\n2047        0.814678\n2048        0.814678\n2049        0.814678\n2050        0.814678",
      "text/html": "<div>\n<style scoped>\n    .dataframe tbody tr th:only-of-type {\n        vertical-align: middle;\n    }\n\n    .dataframe tbody tr th {\n        vertical-align: top;\n    }\n\n    .dataframe thead th {\n        text-align: right;\n    }\n</style>\n<table border=\"1\" class=\"dataframe\">\n  <thead>\n    <tr style=\"text-align: right;\">\n      <th></th>\n      <th>Pipeline_costs</th>\n    </tr>\n    <tr>\n      <th>Years</th>\n      <th></th>\n    </tr>\n  </thead>\n  <tbody>\n    <tr>\n      <th>2020</th>\n      <td>0.814678</td>\n    </tr>\n    <tr>\n      <th>2021</th>\n      <td>0.814678</td>\n    </tr>\n    <tr>\n      <th>2022</th>\n      <td>0.814678</td>\n    </tr>\n    <tr>\n      <th>2023</th>\n      <td>0.814678</td>\n    </tr>\n    <tr>\n      <th>2024</th>\n      <td>0.814678</td>\n    </tr>\n    <tr>\n      <th>2025</th>\n      <td>0.814678</td>\n    </tr>\n    <tr>\n      <th>2026</th>\n      <td>0.814678</td>\n    </tr>\n    <tr>\n      <th>2027</th>\n      <td>0.814678</td>\n    </tr>\n    <tr>\n      <th>2028</th>\n      <td>0.814678</td>\n    </tr>\n    <tr>\n      <th>2029</th>\n      <td>0.814678</td>\n    </tr>\n    <tr>\n      <th>2030</th>\n      <td>0.814678</td>\n    </tr>\n    <tr>\n      <th>2031</th>\n      <td>0.814678</td>\n    </tr>\n    <tr>\n      <th>2032</th>\n      <td>0.814678</td>\n    </tr>\n    <tr>\n      <th>2033</th>\n      <td>0.814678</td>\n    </tr>\n    <tr>\n      <th>2034</th>\n      <td>0.814678</td>\n    </tr>\n    <tr>\n      <th>2035</th>\n      <td>0.814678</td>\n    </tr>\n    <tr>\n      <th>2036</th>\n      <td>0.814678</td>\n    </tr>\n    <tr>\n      <th>2037</th>\n      <td>0.814678</td>\n    </tr>\n    <tr>\n      <th>2038</th>\n      <td>0.814678</td>\n    </tr>\n    <tr>\n      <th>2039</th>\n      <td>0.814678</td>\n    </tr>\n    <tr>\n      <th>2040</th>\n      <td>0.814678</td>\n    </tr>\n    <tr>\n      <th>2041</th>\n      <td>0.814678</td>\n    </tr>\n    <tr>\n      <th>2042</th>\n      <td>0.814678</td>\n    </tr>\n    <tr>\n      <th>2043</th>\n      <td>0.814678</td>\n    </tr>\n    <tr>\n      <th>2044</th>\n      <td>0.814678</td>\n    </tr>\n    <tr>\n      <th>2045</th>\n      <td>0.814678</td>\n    </tr>\n    <tr>\n      <th>2046</th>\n      <td>0.814678</td>\n    </tr>\n    <tr>\n      <th>2047</th>\n      <td>0.814678</td>\n    </tr>\n    <tr>\n      <th>2048</th>\n      <td>0.814678</td>\n    </tr>\n    <tr>\n      <th>2049</th>\n      <td>0.814678</td>\n    </tr>\n    <tr>\n      <th>2050</th>\n      <td>0.814678</td>\n    </tr>\n  </tbody>\n</table>\n</div>"
     },
     "execution_count": 132,
     "metadata": {},
     "output_type": "execute_result"
    }
   ],
   "source": [
    "for year in years:\n",
    "    result.Pipeline_costs.loc[year] = TC_pipe_high\n",
    "result"
   ],
   "metadata": {
    "collapsed": false,
    "pycharm": {
     "name": "#%%\n"
    }
   }
  },
  {
   "cell_type": "code",
   "execution_count": 133,
   "outputs": [],
   "source": [
    "# Create csv file from results dataframe\n",
    "path=r'/Users/jakob/PycharmProjects/H2_pathways_repo/data/processed'\n",
    "output_file = os.path.join(path,'Pipeline_costs.csv')\n",
    "result.to_csv(output_file, sep = ';')"
   ],
   "metadata": {
    "collapsed": false,
    "pycharm": {
     "name": "#%%\n"
    }
   }
  },
  {
   "cell_type": "markdown",
   "source": [
    "# Seaborne transport cost"
   ],
   "metadata": {
    "collapsed": false,
    "pycharm": {
     "name": "#%% md\n"
    }
   }
  },
  {
   "cell_type": "code",
   "execution_count": 134,
   "outputs": [
    {
     "ename": "NameError",
     "evalue": "name 'LC' is not defined",
     "output_type": "error",
     "traceback": [
      "\u001B[0;31m---------------------------------------------------------------------------\u001B[0m",
      "\u001B[0;31mNameError\u001B[0m                                 Traceback (most recent call last)",
      "Input \u001B[0;32mIn [134]\u001B[0m, in \u001B[0;36m<cell line: 3>\u001B[0;34m()\u001B[0m\n\u001B[1;32m      1\u001B[0m \u001B[38;5;66;03m# Costs for seaborne transport via ship [$/kg_h2]\u001B[39;00m\n\u001B[0;32m----> 3\u001B[0m TC_sea \u001B[38;5;241m=\u001B[39m \u001B[43mLC\u001B[49m \u001B[38;5;241m+\u001B[39m EC \u001B[38;5;241m+\u001B[39m SC \u001B[38;5;241m*\u001B[39m IC\n",
      "\u001B[0;31mNameError\u001B[0m: name 'LC' is not defined"
     ]
    }
   ],
   "source": [
    "# Costs for seaborne transport via ship [$/kg_h2]\n",
    "\n",
    "TC_sea = LC + EC + SC + IC\n"
   ],
   "metadata": {
    "collapsed": false,
    "pycharm": {
     "name": "#%%\n"
    }
   }
  },
  {
   "cell_type": "code",
   "execution_count": 226,
   "outputs": [
    {
     "data": {
      "text/plain": "                                                                                        Ref  \\\nProperties                                                                                    \nProperties - Gas density [kg/m3]                                                   BOG 2020   \nProperties - LHV  [MJ/kg] []                                                       BOG 2020   \nProperties - LHV  [kWh/kg]                https://www.iea-amf.org/content/fuel_informati...   \nProperties - LHV  [kWh/m3]                 https://www.rechargenews.com/energy-transitio...   \nProperties - Boiling point at 1 Bar [°C]                                                NaN   \n...                                                                                     ...   \nReconversion                                                                            NaN   \nReconversion - Capex opt.[USD/kW H2]                                             IRENA 2022   \nReconversion - Capex pess.[USD/kW H2]                                            IRENA 2022   \nReconversion - Opex opt. [% of Capex]                                            IRENA 2022   \nReconversion - Opex pess. [% of Capex]                                           IRENA 2022   \n\n                                             LH2  2020  2021  2022  2023  \\\nProperties                                                                 \nProperties - Gas density [kg/m3]            71.1   NaN   NaN   NaN   NaN   \nProperties - LHV  [MJ/kg] []                 120   NaN   NaN   NaN   NaN   \nProperties - LHV  [kWh/kg]                 33.33   NaN   NaN   NaN   NaN   \nProperties - LHV  [kWh/m3]                2350     NaN   NaN   NaN   NaN   \nProperties - Boiling point at 1 Bar [°C]    -253   NaN   NaN   NaN   NaN   \n...                                          ...   ...   ...   ...   ...   \nReconversion                                 NaN   NaN   NaN   NaN   NaN   \nReconversion - Capex opt.[USD/kW H2]         NaN   NaN   NaN   NaN   NaN   \nReconversion - Capex pess.[USD/kW H2]        NaN   NaN   NaN   NaN   NaN   \nReconversion - Opex opt. [% of Capex]       0.03   NaN   NaN   NaN   NaN   \nReconversion - Opex pess. [% of Capex]      0.04   NaN   NaN   NaN   NaN   \n\n                                          2024  2025  2026  2027  ...  2041  \\\nProperties                                                        ...         \nProperties - Gas density [kg/m3]           NaN   NaN   NaN   NaN  ...   NaN   \nProperties - LHV  [MJ/kg] []               NaN   NaN   NaN   NaN  ...   NaN   \nProperties - LHV  [kWh/kg]                 NaN   NaN   NaN   NaN  ...   NaN   \nProperties - LHV  [kWh/m3]                 NaN   NaN   NaN   NaN  ...   NaN   \nProperties - Boiling point at 1 Bar [°C]   NaN   NaN   NaN   NaN  ...   NaN   \n...                                        ...   ...   ...   ...  ...   ...   \nReconversion                               NaN   NaN   NaN   NaN  ...   NaN   \nReconversion - Capex opt.[USD/kW H2]       NaN   NaN   NaN   NaN  ...   NaN   \nReconversion - Capex pess.[USD/kW H2]      NaN   NaN   NaN   NaN  ...   NaN   \nReconversion - Opex opt. [% of Capex]      NaN   NaN   NaN   NaN  ...   NaN   \nReconversion - Opex pess. [% of Capex]     NaN   NaN   NaN   NaN  ...   NaN   \n\n                                          2042  2043  2044  2045  2046  2047  \\\nProperties                                                                     \nProperties - Gas density [kg/m3]           NaN   NaN   NaN   NaN   NaN   NaN   \nProperties - LHV  [MJ/kg] []               NaN   NaN   NaN   NaN   NaN   NaN   \nProperties - LHV  [kWh/kg]                 NaN   NaN   NaN   NaN   NaN   NaN   \nProperties - LHV  [kWh/m3]                 NaN   NaN   NaN   NaN   NaN   NaN   \nProperties - Boiling point at 1 Bar [°C]   NaN   NaN   NaN   NaN   NaN   NaN   \n...                                        ...   ...   ...   ...   ...   ...   \nReconversion                               NaN   NaN   NaN   NaN   NaN   NaN   \nReconversion - Capex opt.[USD/kW H2]       NaN   NaN   NaN   NaN   NaN   NaN   \nReconversion - Capex pess.[USD/kW H2]      NaN   NaN   NaN   NaN   NaN   NaN   \nReconversion - Opex opt. [% of Capex]      NaN   NaN   NaN   NaN   NaN   NaN   \nReconversion - Opex pess. [% of Capex]     NaN   NaN   NaN   NaN   NaN   NaN   \n\n                                          2048  2049   2050  \nProperties                                                   \nProperties - Gas density [kg/m3]           NaN   NaN    NaN  \nProperties - LHV  [MJ/kg] []               NaN   NaN    NaN  \nProperties - LHV  [kWh/kg]                 NaN   NaN    NaN  \nProperties - LHV  [kWh/m3]                 NaN   NaN    NaN  \nProperties - Boiling point at 1 Bar [°C]   NaN   NaN    NaN  \n...                                        ...   ...    ...  \nReconversion                               NaN   NaN    NaN  \nReconversion - Capex opt.[USD/kW H2]       NaN   NaN   60.4  \nReconversion - Capex pess.[USD/kW H2]      NaN   NaN  190.5  \nReconversion - Opex opt. [% of Capex]      NaN   NaN    NaN  \nReconversion - Opex pess. [% of Capex]     NaN   NaN    NaN  \n\n[101 rows x 33 columns]",
      "text/html": "<div>\n<style scoped>\n    .dataframe tbody tr th:only-of-type {\n        vertical-align: middle;\n    }\n\n    .dataframe tbody tr th {\n        vertical-align: top;\n    }\n\n    .dataframe thead th {\n        text-align: right;\n    }\n</style>\n<table border=\"1\" class=\"dataframe\">\n  <thead>\n    <tr style=\"text-align: right;\">\n      <th></th>\n      <th>Ref</th>\n      <th>LH2</th>\n      <th>2020</th>\n      <th>2021</th>\n      <th>2022</th>\n      <th>2023</th>\n      <th>2024</th>\n      <th>2025</th>\n      <th>2026</th>\n      <th>2027</th>\n      <th>...</th>\n      <th>2041</th>\n      <th>2042</th>\n      <th>2043</th>\n      <th>2044</th>\n      <th>2045</th>\n      <th>2046</th>\n      <th>2047</th>\n      <th>2048</th>\n      <th>2049</th>\n      <th>2050</th>\n    </tr>\n    <tr>\n      <th>Properties</th>\n      <th></th>\n      <th></th>\n      <th></th>\n      <th></th>\n      <th></th>\n      <th></th>\n      <th></th>\n      <th></th>\n      <th></th>\n      <th></th>\n      <th></th>\n      <th></th>\n      <th></th>\n      <th></th>\n      <th></th>\n      <th></th>\n      <th></th>\n      <th></th>\n      <th></th>\n      <th></th>\n      <th></th>\n    </tr>\n  </thead>\n  <tbody>\n    <tr>\n      <th>Properties - Gas density [kg/m3]</th>\n      <td>BOG 2020</td>\n      <td>71.1</td>\n      <td>NaN</td>\n      <td>NaN</td>\n      <td>NaN</td>\n      <td>NaN</td>\n      <td>NaN</td>\n      <td>NaN</td>\n      <td>NaN</td>\n      <td>NaN</td>\n      <td>...</td>\n      <td>NaN</td>\n      <td>NaN</td>\n      <td>NaN</td>\n      <td>NaN</td>\n      <td>NaN</td>\n      <td>NaN</td>\n      <td>NaN</td>\n      <td>NaN</td>\n      <td>NaN</td>\n      <td>NaN</td>\n    </tr>\n    <tr>\n      <th>Properties - LHV  [MJ/kg] []</th>\n      <td>BOG 2020</td>\n      <td>120</td>\n      <td>NaN</td>\n      <td>NaN</td>\n      <td>NaN</td>\n      <td>NaN</td>\n      <td>NaN</td>\n      <td>NaN</td>\n      <td>NaN</td>\n      <td>NaN</td>\n      <td>...</td>\n      <td>NaN</td>\n      <td>NaN</td>\n      <td>NaN</td>\n      <td>NaN</td>\n      <td>NaN</td>\n      <td>NaN</td>\n      <td>NaN</td>\n      <td>NaN</td>\n      <td>NaN</td>\n      <td>NaN</td>\n    </tr>\n    <tr>\n      <th>Properties - LHV  [kWh/kg]</th>\n      <td>https://www.iea-amf.org/content/fuel_informati...</td>\n      <td>33.33</td>\n      <td>NaN</td>\n      <td>NaN</td>\n      <td>NaN</td>\n      <td>NaN</td>\n      <td>NaN</td>\n      <td>NaN</td>\n      <td>NaN</td>\n      <td>NaN</td>\n      <td>...</td>\n      <td>NaN</td>\n      <td>NaN</td>\n      <td>NaN</td>\n      <td>NaN</td>\n      <td>NaN</td>\n      <td>NaN</td>\n      <td>NaN</td>\n      <td>NaN</td>\n      <td>NaN</td>\n      <td>NaN</td>\n    </tr>\n    <tr>\n      <th>Properties - LHV  [kWh/m3]</th>\n      <td>https://www.rechargenews.com/energy-transitio...</td>\n      <td>2350</td>\n      <td>NaN</td>\n      <td>NaN</td>\n      <td>NaN</td>\n      <td>NaN</td>\n      <td>NaN</td>\n      <td>NaN</td>\n      <td>NaN</td>\n      <td>NaN</td>\n      <td>...</td>\n      <td>NaN</td>\n      <td>NaN</td>\n      <td>NaN</td>\n      <td>NaN</td>\n      <td>NaN</td>\n      <td>NaN</td>\n      <td>NaN</td>\n      <td>NaN</td>\n      <td>NaN</td>\n      <td>NaN</td>\n    </tr>\n    <tr>\n      <th>Properties - Boiling point at 1 Bar [°C]</th>\n      <td>NaN</td>\n      <td>-253</td>\n      <td>NaN</td>\n      <td>NaN</td>\n      <td>NaN</td>\n      <td>NaN</td>\n      <td>NaN</td>\n      <td>NaN</td>\n      <td>NaN</td>\n      <td>NaN</td>\n      <td>...</td>\n      <td>NaN</td>\n      <td>NaN</td>\n      <td>NaN</td>\n      <td>NaN</td>\n      <td>NaN</td>\n      <td>NaN</td>\n      <td>NaN</td>\n      <td>NaN</td>\n      <td>NaN</td>\n      <td>NaN</td>\n    </tr>\n    <tr>\n      <th>...</th>\n      <td>...</td>\n      <td>...</td>\n      <td>...</td>\n      <td>...</td>\n      <td>...</td>\n      <td>...</td>\n      <td>...</td>\n      <td>...</td>\n      <td>...</td>\n      <td>...</td>\n      <td>...</td>\n      <td>...</td>\n      <td>...</td>\n      <td>...</td>\n      <td>...</td>\n      <td>...</td>\n      <td>...</td>\n      <td>...</td>\n      <td>...</td>\n      <td>...</td>\n      <td>...</td>\n    </tr>\n    <tr>\n      <th>Reconversion</th>\n      <td>NaN</td>\n      <td>NaN</td>\n      <td>NaN</td>\n      <td>NaN</td>\n      <td>NaN</td>\n      <td>NaN</td>\n      <td>NaN</td>\n      <td>NaN</td>\n      <td>NaN</td>\n      <td>NaN</td>\n      <td>...</td>\n      <td>NaN</td>\n      <td>NaN</td>\n      <td>NaN</td>\n      <td>NaN</td>\n      <td>NaN</td>\n      <td>NaN</td>\n      <td>NaN</td>\n      <td>NaN</td>\n      <td>NaN</td>\n      <td>NaN</td>\n    </tr>\n    <tr>\n      <th>Reconversion - Capex opt.[USD/kW H2]</th>\n      <td>IRENA 2022</td>\n      <td>NaN</td>\n      <td>NaN</td>\n      <td>NaN</td>\n      <td>NaN</td>\n      <td>NaN</td>\n      <td>NaN</td>\n      <td>NaN</td>\n      <td>NaN</td>\n      <td>NaN</td>\n      <td>...</td>\n      <td>NaN</td>\n      <td>NaN</td>\n      <td>NaN</td>\n      <td>NaN</td>\n      <td>NaN</td>\n      <td>NaN</td>\n      <td>NaN</td>\n      <td>NaN</td>\n      <td>NaN</td>\n      <td>60.4</td>\n    </tr>\n    <tr>\n      <th>Reconversion - Capex pess.[USD/kW H2]</th>\n      <td>IRENA 2022</td>\n      <td>NaN</td>\n      <td>NaN</td>\n      <td>NaN</td>\n      <td>NaN</td>\n      <td>NaN</td>\n      <td>NaN</td>\n      <td>NaN</td>\n      <td>NaN</td>\n      <td>NaN</td>\n      <td>...</td>\n      <td>NaN</td>\n      <td>NaN</td>\n      <td>NaN</td>\n      <td>NaN</td>\n      <td>NaN</td>\n      <td>NaN</td>\n      <td>NaN</td>\n      <td>NaN</td>\n      <td>NaN</td>\n      <td>190.5</td>\n    </tr>\n    <tr>\n      <th>Reconversion - Opex opt. [% of Capex]</th>\n      <td>IRENA 2022</td>\n      <td>0.03</td>\n      <td>NaN</td>\n      <td>NaN</td>\n      <td>NaN</td>\n      <td>NaN</td>\n      <td>NaN</td>\n      <td>NaN</td>\n      <td>NaN</td>\n      <td>NaN</td>\n      <td>...</td>\n      <td>NaN</td>\n      <td>NaN</td>\n      <td>NaN</td>\n      <td>NaN</td>\n      <td>NaN</td>\n      <td>NaN</td>\n      <td>NaN</td>\n      <td>NaN</td>\n      <td>NaN</td>\n      <td>NaN</td>\n    </tr>\n    <tr>\n      <th>Reconversion - Opex pess. [% of Capex]</th>\n      <td>IRENA 2022</td>\n      <td>0.04</td>\n      <td>NaN</td>\n      <td>NaN</td>\n      <td>NaN</td>\n      <td>NaN</td>\n      <td>NaN</td>\n      <td>NaN</td>\n      <td>NaN</td>\n      <td>NaN</td>\n      <td>...</td>\n      <td>NaN</td>\n      <td>NaN</td>\n      <td>NaN</td>\n      <td>NaN</td>\n      <td>NaN</td>\n      <td>NaN</td>\n      <td>NaN</td>\n      <td>NaN</td>\n      <td>NaN</td>\n      <td>NaN</td>\n    </tr>\n  </tbody>\n</table>\n<p>101 rows × 33 columns</p>\n</div>"
     },
     "execution_count": 226,
     "metadata": {},
     "output_type": "execute_result"
    }
   ],
   "source": [
    "# Read techno-economic assumptions for liquid hydrogen shipping\n",
    "tea_lh2 =  pd.read_excel('/Users/jakob/PycharmProjects/H2_pathways_repo/data/raw/20220921_Data_Assumptions.xlsx', sheet_name='LH2', decimal=',', index_col=0)\n",
    "tea_lh2"
   ],
   "metadata": {
    "collapsed": false,
    "pycharm": {
     "name": "#%%\n"
    }
   }
  },
  {
   "cell_type": "code",
   "execution_count": 204,
   "outputs": [
    {
     "data": {
      "text/plain": "       United Arab Emirates      Angola  Argentina    Austria  Australia  \\\nYears                                                                      \n2020              36.301651  121.494032  37.961027  46.683533  72.846428   \n2021              36.764515  119.445089  38.086072  47.002654  69.396730   \n2022              37.137776  119.580409  39.032196  47.209289  66.622798   \n2023              37.447974  124.653779  40.033404  47.346703  64.898776   \n2024              37.747898  131.547459  41.148255  47.274782  64.515503   \n2025              38.034395  137.405324  42.353416  46.957092  64.897234   \n2026              38.325658  141.246042  43.577189  46.416301  65.154315   \n2027              38.655501  142.819290  44.818521  46.118220  65.256396   \n2028              39.015448  143.098086  46.021991  45.738344  65.134265   \n2029              39.420264  143.128137  47.209332  45.399899  64.811898   \n2030              39.879905  143.581891  48.424751  45.133680  64.154242   \n2031              40.423146  144.601475  49.930146  45.186341  63.021915   \n2032              41.197197  146.175610  51.979795  45.484890  61.166709   \n2033              42.512085  148.190399  54.684063  46.121303  58.772284   \n2034              44.568446  150.666982  58.147858  46.635032  55.962938   \n2035              49.979325  153.434808  61.955516  46.781197  53.047058   \n2036              55.586840  156.434515  65.647254  46.584227  50.080127   \n2037              61.364718  159.482262  68.949623  46.646263  47.423045   \n2038              63.693403  161.980880  71.294983  47.050363  44.833557   \n2039              60.865807  164.154515  72.750086  47.904276  42.536878   \n2040              56.833270  165.963939  73.406573  48.699238  40.603424   \n2041              53.573530  167.313461  73.409441  49.609330  38.939740   \n2042              51.487746  168.277022  72.994100  50.705430  37.412280   \n2043              50.336783  168.972257  72.420411  51.925184  35.994851   \n2044              49.802097  169.434972  72.137700  53.193310  34.709238   \n2045              49.984233  169.825687  71.884240  54.221220  33.678074   \n2046              50.739234  170.198308  71.715794  54.704721  32.794352   \n2047              51.993049  170.217476  71.547577  54.535295  32.137023   \n2048              53.655694  170.039948  71.579187  53.994557  31.647242   \n2049              54.814324  170.172216  70.985088  53.715329  30.594356   \n2050              56.468935  169.924801  71.383909  53.994428  29.930791   \n\n       Azerbaijan    Estonia  Bangladesh    Belgium   Bulgaria  ...  \\\nYears                                                           ...   \n2020    12.385695  46.683533   30.935708  46.683533  46.683533  ...   \n2021    12.730095  47.002654   34.377750  47.002654  47.002654  ...   \n2022    12.992081  47.209289   37.892094  47.209289  47.209289  ...   \n2023    13.213518  47.346703   42.347643  47.346703  47.346703  ...   \n2024    13.398698  47.274782   48.070973  47.274782  47.274782  ...   \n2025    13.563521  46.957092   57.631134  46.957092  46.957092  ...   \n2026    13.733206  46.416301   70.329786  46.416301  46.416301  ...   \n2027    13.929400  46.118220   81.379762  46.118220  46.118220  ...   \n2028    14.150387  45.738344   90.169686  45.738344  45.738344  ...   \n2029    14.389268  45.399899   83.519064  45.399899  45.399899  ...   \n2030    14.638322  45.133680   73.063223  45.133680  45.133680  ...   \n2031    14.869214  45.186341   68.943699  45.186341  45.186341  ...   \n2032    15.081084  45.484890   68.521439  45.484890  45.484890  ...   \n2033    15.296936  46.121303   69.395509  46.121303  46.121303  ...   \n2034    15.505216  46.635032   69.989810  46.635032  46.635032  ...   \n2035    15.722322  46.781197   69.847260  46.781197  46.781197  ...   \n2036    15.962381  46.584227   70.251655  46.584227  46.584227  ...   \n2037    16.225374  46.646263   71.045372  46.646263  46.646263  ...   \n2038    16.497599  47.050363   71.638011  47.050363  47.050363  ...   \n2039    16.771477  47.904276   71.867375  47.904276  47.904276  ...   \n2040    17.029580  48.699238   71.732272  48.699238  48.699238  ...   \n2041    17.248520  49.609330   71.465927  49.609330  49.609330  ...   \n2042    17.422221  50.705430   71.400616  50.705430  50.705430  ...   \n2043    17.559580  51.925184   71.619262  51.925184  51.925184  ...   \n2044    17.695475  53.193310   71.827972  53.193310  53.193310  ...   \n2045    17.853404  54.221220   71.949026  54.221220  54.221220  ...   \n2046    18.063214  54.704721   72.030836  54.704721  54.704721  ...   \n2047    18.342093  54.535295   72.002515  54.535295  54.535295  ...   \n2048    18.694419  53.994557   71.887111  53.994557  53.994557  ...   \n2049    19.089225  53.715329   70.929807  53.715329  53.715329  ...   \n2050    19.563643  53.994428   70.322993  53.994428  53.994428  ...   \n\n       Venezuela      Yemen    Croatia  Mozambique     Vietnam  Philippines  \\\nYears                                                                         \n2020   37.961027  36.301651  46.683533  121.494032   42.402642    42.402642   \n2021   38.086072  36.764515  47.002654  119.445089   44.089299    44.089299   \n2022   39.032196  37.137776  47.209289  119.580409   45.936088    45.936088   \n2023   40.033404  37.447974  47.346703  124.653779   47.946139    47.946139   \n2024   41.148255  37.747898  47.274782  131.547459   50.057150    50.057150   \n2025   42.353416  38.034395  46.957092  137.405324   52.193834    52.193834   \n2026   43.577189  38.325658  46.416301  141.246042   54.433745    54.433745   \n2027   44.818521  38.655501  46.118220  142.819290   57.196590    57.196590   \n2028   46.021991  39.015448  45.738344  143.098086   60.841314    60.841314   \n2029   47.209332  39.420264  45.399899  143.128137   65.569751    65.569751   \n2030   48.424751  39.879905  45.133680  143.581891   71.706069    71.706069   \n2031   49.930146  40.423146  45.186341  144.601475   78.903638    78.903638   \n2032   51.979795  41.197197  45.484890  146.175610   85.780770    85.780770   \n2033   54.684063  42.512085  46.121303  148.190399   91.351199    91.351199   \n2034   58.147858  44.568446  46.635032  150.666982   99.848567    99.848567   \n2035   61.955516  49.979325  46.781197  153.434808  101.816569   101.816569   \n2036   65.647254  55.586840  46.584227  156.434515   97.047328    97.047328   \n2037   68.949623  61.364718  46.646263  159.482262   89.762643    89.762643   \n2038   71.294983  63.693403  47.050363  161.980880   83.863653    83.863653   \n2039   72.750086  60.865807  47.904276  164.154515   79.654328    79.654328   \n2040   73.406573  56.833270  48.699238  165.963939   76.850941    76.850941   \n2041   73.409441  53.573530  49.609330  167.313461   75.383730    75.383730   \n2042   72.994100  51.487746  50.705430  168.277022   74.831710    74.831710   \n2043   72.420411  50.336783  51.925184  168.972257   74.676203    74.676203   \n2044   72.137700  49.802097  53.193310  169.434972   74.735059    74.735059   \n2045   71.884240  49.984233  54.221220  169.825687   74.746313    74.746313   \n2046   71.715794  50.739234  54.704721  170.198308   74.583895    74.583895   \n2047   71.547577  51.993049  54.535295  170.217476   74.409350    74.409350   \n2048   71.579187  53.655694  53.994557  170.039948   74.323923    74.323923   \n2049   70.985088  54.814324  53.715329  170.172216   74.282002    74.282002   \n2050   71.383909  56.468935  53.994428  169.924801   73.996739    73.996739   \n\n         Iceland  Papua New Guinea    Cameroon  South Africa  \nYears                                                         \n2020   46.683533         42.402642  121.494032    121.494032  \n2021   47.002654         44.089299  119.445089    119.445089  \n2022   47.209289         45.936088  119.580409    119.580409  \n2023   47.346703         47.946139  124.653779    124.653779  \n2024   47.274782         50.057150  131.547459    131.547459  \n2025   46.957092         52.193834  137.405324    137.405324  \n2026   46.416301         54.433745  141.246042    141.246042  \n2027   46.118220         57.196590  142.819290    142.819290  \n2028   45.738344         60.841314  143.098086    143.098086  \n2029   45.399899         65.569751  143.128137    143.128137  \n2030   45.133680         71.706069  143.581891    143.581891  \n2031   45.186341         78.903638  144.601475    144.601475  \n2032   45.484890         85.780770  146.175610    146.175610  \n2033   46.121303         91.351199  148.190399    148.190399  \n2034   46.635032         99.848567  150.666982    150.666982  \n2035   46.781197        101.816569  153.434808    153.434808  \n2036   46.584227         97.047328  156.434515    156.434515  \n2037   46.646263         89.762643  159.482262    159.482262  \n2038   47.050363         83.863653  161.980880    161.980880  \n2039   47.904276         79.654328  164.154515    164.154515  \n2040   48.699238         76.850941  165.963939    165.963939  \n2041   49.609330         75.383730  167.313461    167.313461  \n2042   50.705430         74.831710  168.277022    168.277022  \n2043   51.925184         74.676203  168.972257    168.972257  \n2044   53.193310         74.735059  169.434972    169.434972  \n2045   54.221220         74.746313  169.825687    169.825687  \n2046   54.704721         74.583895  170.198308    170.198308  \n2047   54.535295         74.409350  170.217476    170.217476  \n2048   53.994557         74.323923  170.039948    170.039948  \n2049   53.715329         74.282002  170.172216    170.172216  \n2050   53.994428         73.996739  169.924801    169.924801  \n\n[31 rows x 88 columns]",
      "text/html": "<div>\n<style scoped>\n    .dataframe tbody tr th:only-of-type {\n        vertical-align: middle;\n    }\n\n    .dataframe tbody tr th {\n        vertical-align: top;\n    }\n\n    .dataframe thead th {\n        text-align: right;\n    }\n</style>\n<table border=\"1\" class=\"dataframe\">\n  <thead>\n    <tr style=\"text-align: right;\">\n      <th></th>\n      <th>United Arab Emirates</th>\n      <th>Angola</th>\n      <th>Argentina</th>\n      <th>Austria</th>\n      <th>Australia</th>\n      <th>Azerbaijan</th>\n      <th>Estonia</th>\n      <th>Bangladesh</th>\n      <th>Belgium</th>\n      <th>Bulgaria</th>\n      <th>...</th>\n      <th>Venezuela</th>\n      <th>Yemen</th>\n      <th>Croatia</th>\n      <th>Mozambique</th>\n      <th>Vietnam</th>\n      <th>Philippines</th>\n      <th>Iceland</th>\n      <th>Papua New Guinea</th>\n      <th>Cameroon</th>\n      <th>South Africa</th>\n    </tr>\n    <tr>\n      <th>Years</th>\n      <th></th>\n      <th></th>\n      <th></th>\n      <th></th>\n      <th></th>\n      <th></th>\n      <th></th>\n      <th></th>\n      <th></th>\n      <th></th>\n      <th></th>\n      <th></th>\n      <th></th>\n      <th></th>\n      <th></th>\n      <th></th>\n      <th></th>\n      <th></th>\n      <th></th>\n      <th></th>\n      <th></th>\n    </tr>\n  </thead>\n  <tbody>\n    <tr>\n      <th>2020</th>\n      <td>36.301651</td>\n      <td>121.494032</td>\n      <td>37.961027</td>\n      <td>46.683533</td>\n      <td>72.846428</td>\n      <td>12.385695</td>\n      <td>46.683533</td>\n      <td>30.935708</td>\n      <td>46.683533</td>\n      <td>46.683533</td>\n      <td>...</td>\n      <td>37.961027</td>\n      <td>36.301651</td>\n      <td>46.683533</td>\n      <td>121.494032</td>\n      <td>42.402642</td>\n      <td>42.402642</td>\n      <td>46.683533</td>\n      <td>42.402642</td>\n      <td>121.494032</td>\n      <td>121.494032</td>\n    </tr>\n    <tr>\n      <th>2021</th>\n      <td>36.764515</td>\n      <td>119.445089</td>\n      <td>38.086072</td>\n      <td>47.002654</td>\n      <td>69.396730</td>\n      <td>12.730095</td>\n      <td>47.002654</td>\n      <td>34.377750</td>\n      <td>47.002654</td>\n      <td>47.002654</td>\n      <td>...</td>\n      <td>38.086072</td>\n      <td>36.764515</td>\n      <td>47.002654</td>\n      <td>119.445089</td>\n      <td>44.089299</td>\n      <td>44.089299</td>\n      <td>47.002654</td>\n      <td>44.089299</td>\n      <td>119.445089</td>\n      <td>119.445089</td>\n    </tr>\n    <tr>\n      <th>2022</th>\n      <td>37.137776</td>\n      <td>119.580409</td>\n      <td>39.032196</td>\n      <td>47.209289</td>\n      <td>66.622798</td>\n      <td>12.992081</td>\n      <td>47.209289</td>\n      <td>37.892094</td>\n      <td>47.209289</td>\n      <td>47.209289</td>\n      <td>...</td>\n      <td>39.032196</td>\n      <td>37.137776</td>\n      <td>47.209289</td>\n      <td>119.580409</td>\n      <td>45.936088</td>\n      <td>45.936088</td>\n      <td>47.209289</td>\n      <td>45.936088</td>\n      <td>119.580409</td>\n      <td>119.580409</td>\n    </tr>\n    <tr>\n      <th>2023</th>\n      <td>37.447974</td>\n      <td>124.653779</td>\n      <td>40.033404</td>\n      <td>47.346703</td>\n      <td>64.898776</td>\n      <td>13.213518</td>\n      <td>47.346703</td>\n      <td>42.347643</td>\n      <td>47.346703</td>\n      <td>47.346703</td>\n      <td>...</td>\n      <td>40.033404</td>\n      <td>37.447974</td>\n      <td>47.346703</td>\n      <td>124.653779</td>\n      <td>47.946139</td>\n      <td>47.946139</td>\n      <td>47.346703</td>\n      <td>47.946139</td>\n      <td>124.653779</td>\n      <td>124.653779</td>\n    </tr>\n    <tr>\n      <th>2024</th>\n      <td>37.747898</td>\n      <td>131.547459</td>\n      <td>41.148255</td>\n      <td>47.274782</td>\n      <td>64.515503</td>\n      <td>13.398698</td>\n      <td>47.274782</td>\n      <td>48.070973</td>\n      <td>47.274782</td>\n      <td>47.274782</td>\n      <td>...</td>\n      <td>41.148255</td>\n      <td>37.747898</td>\n      <td>47.274782</td>\n      <td>131.547459</td>\n      <td>50.057150</td>\n      <td>50.057150</td>\n      <td>47.274782</td>\n      <td>50.057150</td>\n      <td>131.547459</td>\n      <td>131.547459</td>\n    </tr>\n    <tr>\n      <th>2025</th>\n      <td>38.034395</td>\n      <td>137.405324</td>\n      <td>42.353416</td>\n      <td>46.957092</td>\n      <td>64.897234</td>\n      <td>13.563521</td>\n      <td>46.957092</td>\n      <td>57.631134</td>\n      <td>46.957092</td>\n      <td>46.957092</td>\n      <td>...</td>\n      <td>42.353416</td>\n      <td>38.034395</td>\n      <td>46.957092</td>\n      <td>137.405324</td>\n      <td>52.193834</td>\n      <td>52.193834</td>\n      <td>46.957092</td>\n      <td>52.193834</td>\n      <td>137.405324</td>\n      <td>137.405324</td>\n    </tr>\n    <tr>\n      <th>2026</th>\n      <td>38.325658</td>\n      <td>141.246042</td>\n      <td>43.577189</td>\n      <td>46.416301</td>\n      <td>65.154315</td>\n      <td>13.733206</td>\n      <td>46.416301</td>\n      <td>70.329786</td>\n      <td>46.416301</td>\n      <td>46.416301</td>\n      <td>...</td>\n      <td>43.577189</td>\n      <td>38.325658</td>\n      <td>46.416301</td>\n      <td>141.246042</td>\n      <td>54.433745</td>\n      <td>54.433745</td>\n      <td>46.416301</td>\n      <td>54.433745</td>\n      <td>141.246042</td>\n      <td>141.246042</td>\n    </tr>\n    <tr>\n      <th>2027</th>\n      <td>38.655501</td>\n      <td>142.819290</td>\n      <td>44.818521</td>\n      <td>46.118220</td>\n      <td>65.256396</td>\n      <td>13.929400</td>\n      <td>46.118220</td>\n      <td>81.379762</td>\n      <td>46.118220</td>\n      <td>46.118220</td>\n      <td>...</td>\n      <td>44.818521</td>\n      <td>38.655501</td>\n      <td>46.118220</td>\n      <td>142.819290</td>\n      <td>57.196590</td>\n      <td>57.196590</td>\n      <td>46.118220</td>\n      <td>57.196590</td>\n      <td>142.819290</td>\n      <td>142.819290</td>\n    </tr>\n    <tr>\n      <th>2028</th>\n      <td>39.015448</td>\n      <td>143.098086</td>\n      <td>46.021991</td>\n      <td>45.738344</td>\n      <td>65.134265</td>\n      <td>14.150387</td>\n      <td>45.738344</td>\n      <td>90.169686</td>\n      <td>45.738344</td>\n      <td>45.738344</td>\n      <td>...</td>\n      <td>46.021991</td>\n      <td>39.015448</td>\n      <td>45.738344</td>\n      <td>143.098086</td>\n      <td>60.841314</td>\n      <td>60.841314</td>\n      <td>45.738344</td>\n      <td>60.841314</td>\n      <td>143.098086</td>\n      <td>143.098086</td>\n    </tr>\n    <tr>\n      <th>2029</th>\n      <td>39.420264</td>\n      <td>143.128137</td>\n      <td>47.209332</td>\n      <td>45.399899</td>\n      <td>64.811898</td>\n      <td>14.389268</td>\n      <td>45.399899</td>\n      <td>83.519064</td>\n      <td>45.399899</td>\n      <td>45.399899</td>\n      <td>...</td>\n      <td>47.209332</td>\n      <td>39.420264</td>\n      <td>45.399899</td>\n      <td>143.128137</td>\n      <td>65.569751</td>\n      <td>65.569751</td>\n      <td>45.399899</td>\n      <td>65.569751</td>\n      <td>143.128137</td>\n      <td>143.128137</td>\n    </tr>\n    <tr>\n      <th>2030</th>\n      <td>39.879905</td>\n      <td>143.581891</td>\n      <td>48.424751</td>\n      <td>45.133680</td>\n      <td>64.154242</td>\n      <td>14.638322</td>\n      <td>45.133680</td>\n      <td>73.063223</td>\n      <td>45.133680</td>\n      <td>45.133680</td>\n      <td>...</td>\n      <td>48.424751</td>\n      <td>39.879905</td>\n      <td>45.133680</td>\n      <td>143.581891</td>\n      <td>71.706069</td>\n      <td>71.706069</td>\n      <td>45.133680</td>\n      <td>71.706069</td>\n      <td>143.581891</td>\n      <td>143.581891</td>\n    </tr>\n    <tr>\n      <th>2031</th>\n      <td>40.423146</td>\n      <td>144.601475</td>\n      <td>49.930146</td>\n      <td>45.186341</td>\n      <td>63.021915</td>\n      <td>14.869214</td>\n      <td>45.186341</td>\n      <td>68.943699</td>\n      <td>45.186341</td>\n      <td>45.186341</td>\n      <td>...</td>\n      <td>49.930146</td>\n      <td>40.423146</td>\n      <td>45.186341</td>\n      <td>144.601475</td>\n      <td>78.903638</td>\n      <td>78.903638</td>\n      <td>45.186341</td>\n      <td>78.903638</td>\n      <td>144.601475</td>\n      <td>144.601475</td>\n    </tr>\n    <tr>\n      <th>2032</th>\n      <td>41.197197</td>\n      <td>146.175610</td>\n      <td>51.979795</td>\n      <td>45.484890</td>\n      <td>61.166709</td>\n      <td>15.081084</td>\n      <td>45.484890</td>\n      <td>68.521439</td>\n      <td>45.484890</td>\n      <td>45.484890</td>\n      <td>...</td>\n      <td>51.979795</td>\n      <td>41.197197</td>\n      <td>45.484890</td>\n      <td>146.175610</td>\n      <td>85.780770</td>\n      <td>85.780770</td>\n      <td>45.484890</td>\n      <td>85.780770</td>\n      <td>146.175610</td>\n      <td>146.175610</td>\n    </tr>\n    <tr>\n      <th>2033</th>\n      <td>42.512085</td>\n      <td>148.190399</td>\n      <td>54.684063</td>\n      <td>46.121303</td>\n      <td>58.772284</td>\n      <td>15.296936</td>\n      <td>46.121303</td>\n      <td>69.395509</td>\n      <td>46.121303</td>\n      <td>46.121303</td>\n      <td>...</td>\n      <td>54.684063</td>\n      <td>42.512085</td>\n      <td>46.121303</td>\n      <td>148.190399</td>\n      <td>91.351199</td>\n      <td>91.351199</td>\n      <td>46.121303</td>\n      <td>91.351199</td>\n      <td>148.190399</td>\n      <td>148.190399</td>\n    </tr>\n    <tr>\n      <th>2034</th>\n      <td>44.568446</td>\n      <td>150.666982</td>\n      <td>58.147858</td>\n      <td>46.635032</td>\n      <td>55.962938</td>\n      <td>15.505216</td>\n      <td>46.635032</td>\n      <td>69.989810</td>\n      <td>46.635032</td>\n      <td>46.635032</td>\n      <td>...</td>\n      <td>58.147858</td>\n      <td>44.568446</td>\n      <td>46.635032</td>\n      <td>150.666982</td>\n      <td>99.848567</td>\n      <td>99.848567</td>\n      <td>46.635032</td>\n      <td>99.848567</td>\n      <td>150.666982</td>\n      <td>150.666982</td>\n    </tr>\n    <tr>\n      <th>2035</th>\n      <td>49.979325</td>\n      <td>153.434808</td>\n      <td>61.955516</td>\n      <td>46.781197</td>\n      <td>53.047058</td>\n      <td>15.722322</td>\n      <td>46.781197</td>\n      <td>69.847260</td>\n      <td>46.781197</td>\n      <td>46.781197</td>\n      <td>...</td>\n      <td>61.955516</td>\n      <td>49.979325</td>\n      <td>46.781197</td>\n      <td>153.434808</td>\n      <td>101.816569</td>\n      <td>101.816569</td>\n      <td>46.781197</td>\n      <td>101.816569</td>\n      <td>153.434808</td>\n      <td>153.434808</td>\n    </tr>\n    <tr>\n      <th>2036</th>\n      <td>55.586840</td>\n      <td>156.434515</td>\n      <td>65.647254</td>\n      <td>46.584227</td>\n      <td>50.080127</td>\n      <td>15.962381</td>\n      <td>46.584227</td>\n      <td>70.251655</td>\n      <td>46.584227</td>\n      <td>46.584227</td>\n      <td>...</td>\n      <td>65.647254</td>\n      <td>55.586840</td>\n      <td>46.584227</td>\n      <td>156.434515</td>\n      <td>97.047328</td>\n      <td>97.047328</td>\n      <td>46.584227</td>\n      <td>97.047328</td>\n      <td>156.434515</td>\n      <td>156.434515</td>\n    </tr>\n    <tr>\n      <th>2037</th>\n      <td>61.364718</td>\n      <td>159.482262</td>\n      <td>68.949623</td>\n      <td>46.646263</td>\n      <td>47.423045</td>\n      <td>16.225374</td>\n      <td>46.646263</td>\n      <td>71.045372</td>\n      <td>46.646263</td>\n      <td>46.646263</td>\n      <td>...</td>\n      <td>68.949623</td>\n      <td>61.364718</td>\n      <td>46.646263</td>\n      <td>159.482262</td>\n      <td>89.762643</td>\n      <td>89.762643</td>\n      <td>46.646263</td>\n      <td>89.762643</td>\n      <td>159.482262</td>\n      <td>159.482262</td>\n    </tr>\n    <tr>\n      <th>2038</th>\n      <td>63.693403</td>\n      <td>161.980880</td>\n      <td>71.294983</td>\n      <td>47.050363</td>\n      <td>44.833557</td>\n      <td>16.497599</td>\n      <td>47.050363</td>\n      <td>71.638011</td>\n      <td>47.050363</td>\n      <td>47.050363</td>\n      <td>...</td>\n      <td>71.294983</td>\n      <td>63.693403</td>\n      <td>47.050363</td>\n      <td>161.980880</td>\n      <td>83.863653</td>\n      <td>83.863653</td>\n      <td>47.050363</td>\n      <td>83.863653</td>\n      <td>161.980880</td>\n      <td>161.980880</td>\n    </tr>\n    <tr>\n      <th>2039</th>\n      <td>60.865807</td>\n      <td>164.154515</td>\n      <td>72.750086</td>\n      <td>47.904276</td>\n      <td>42.536878</td>\n      <td>16.771477</td>\n      <td>47.904276</td>\n      <td>71.867375</td>\n      <td>47.904276</td>\n      <td>47.904276</td>\n      <td>...</td>\n      <td>72.750086</td>\n      <td>60.865807</td>\n      <td>47.904276</td>\n      <td>164.154515</td>\n      <td>79.654328</td>\n      <td>79.654328</td>\n      <td>47.904276</td>\n      <td>79.654328</td>\n      <td>164.154515</td>\n      <td>164.154515</td>\n    </tr>\n    <tr>\n      <th>2040</th>\n      <td>56.833270</td>\n      <td>165.963939</td>\n      <td>73.406573</td>\n      <td>48.699238</td>\n      <td>40.603424</td>\n      <td>17.029580</td>\n      <td>48.699238</td>\n      <td>71.732272</td>\n      <td>48.699238</td>\n      <td>48.699238</td>\n      <td>...</td>\n      <td>73.406573</td>\n      <td>56.833270</td>\n      <td>48.699238</td>\n      <td>165.963939</td>\n      <td>76.850941</td>\n      <td>76.850941</td>\n      <td>48.699238</td>\n      <td>76.850941</td>\n      <td>165.963939</td>\n      <td>165.963939</td>\n    </tr>\n    <tr>\n      <th>2041</th>\n      <td>53.573530</td>\n      <td>167.313461</td>\n      <td>73.409441</td>\n      <td>49.609330</td>\n      <td>38.939740</td>\n      <td>17.248520</td>\n      <td>49.609330</td>\n      <td>71.465927</td>\n      <td>49.609330</td>\n      <td>49.609330</td>\n      <td>...</td>\n      <td>73.409441</td>\n      <td>53.573530</td>\n      <td>49.609330</td>\n      <td>167.313461</td>\n      <td>75.383730</td>\n      <td>75.383730</td>\n      <td>49.609330</td>\n      <td>75.383730</td>\n      <td>167.313461</td>\n      <td>167.313461</td>\n    </tr>\n    <tr>\n      <th>2042</th>\n      <td>51.487746</td>\n      <td>168.277022</td>\n      <td>72.994100</td>\n      <td>50.705430</td>\n      <td>37.412280</td>\n      <td>17.422221</td>\n      <td>50.705430</td>\n      <td>71.400616</td>\n      <td>50.705430</td>\n      <td>50.705430</td>\n      <td>...</td>\n      <td>72.994100</td>\n      <td>51.487746</td>\n      <td>50.705430</td>\n      <td>168.277022</td>\n      <td>74.831710</td>\n      <td>74.831710</td>\n      <td>50.705430</td>\n      <td>74.831710</td>\n      <td>168.277022</td>\n      <td>168.277022</td>\n    </tr>\n    <tr>\n      <th>2043</th>\n      <td>50.336783</td>\n      <td>168.972257</td>\n      <td>72.420411</td>\n      <td>51.925184</td>\n      <td>35.994851</td>\n      <td>17.559580</td>\n      <td>51.925184</td>\n      <td>71.619262</td>\n      <td>51.925184</td>\n      <td>51.925184</td>\n      <td>...</td>\n      <td>72.420411</td>\n      <td>50.336783</td>\n      <td>51.925184</td>\n      <td>168.972257</td>\n      <td>74.676203</td>\n      <td>74.676203</td>\n      <td>51.925184</td>\n      <td>74.676203</td>\n      <td>168.972257</td>\n      <td>168.972257</td>\n    </tr>\n    <tr>\n      <th>2044</th>\n      <td>49.802097</td>\n      <td>169.434972</td>\n      <td>72.137700</td>\n      <td>53.193310</td>\n      <td>34.709238</td>\n      <td>17.695475</td>\n      <td>53.193310</td>\n      <td>71.827972</td>\n      <td>53.193310</td>\n      <td>53.193310</td>\n      <td>...</td>\n      <td>72.137700</td>\n      <td>49.802097</td>\n      <td>53.193310</td>\n      <td>169.434972</td>\n      <td>74.735059</td>\n      <td>74.735059</td>\n      <td>53.193310</td>\n      <td>74.735059</td>\n      <td>169.434972</td>\n      <td>169.434972</td>\n    </tr>\n    <tr>\n      <th>2045</th>\n      <td>49.984233</td>\n      <td>169.825687</td>\n      <td>71.884240</td>\n      <td>54.221220</td>\n      <td>33.678074</td>\n      <td>17.853404</td>\n      <td>54.221220</td>\n      <td>71.949026</td>\n      <td>54.221220</td>\n      <td>54.221220</td>\n      <td>...</td>\n      <td>71.884240</td>\n      <td>49.984233</td>\n      <td>54.221220</td>\n      <td>169.825687</td>\n      <td>74.746313</td>\n      <td>74.746313</td>\n      <td>54.221220</td>\n      <td>74.746313</td>\n      <td>169.825687</td>\n      <td>169.825687</td>\n    </tr>\n    <tr>\n      <th>2046</th>\n      <td>50.739234</td>\n      <td>170.198308</td>\n      <td>71.715794</td>\n      <td>54.704721</td>\n      <td>32.794352</td>\n      <td>18.063214</td>\n      <td>54.704721</td>\n      <td>72.030836</td>\n      <td>54.704721</td>\n      <td>54.704721</td>\n      <td>...</td>\n      <td>71.715794</td>\n      <td>50.739234</td>\n      <td>54.704721</td>\n      <td>170.198308</td>\n      <td>74.583895</td>\n      <td>74.583895</td>\n      <td>54.704721</td>\n      <td>74.583895</td>\n      <td>170.198308</td>\n      <td>170.198308</td>\n    </tr>\n    <tr>\n      <th>2047</th>\n      <td>51.993049</td>\n      <td>170.217476</td>\n      <td>71.547577</td>\n      <td>54.535295</td>\n      <td>32.137023</td>\n      <td>18.342093</td>\n      <td>54.535295</td>\n      <td>72.002515</td>\n      <td>54.535295</td>\n      <td>54.535295</td>\n      <td>...</td>\n      <td>71.547577</td>\n      <td>51.993049</td>\n      <td>54.535295</td>\n      <td>170.217476</td>\n      <td>74.409350</td>\n      <td>74.409350</td>\n      <td>54.535295</td>\n      <td>74.409350</td>\n      <td>170.217476</td>\n      <td>170.217476</td>\n    </tr>\n    <tr>\n      <th>2048</th>\n      <td>53.655694</td>\n      <td>170.039948</td>\n      <td>71.579187</td>\n      <td>53.994557</td>\n      <td>31.647242</td>\n      <td>18.694419</td>\n      <td>53.994557</td>\n      <td>71.887111</td>\n      <td>53.994557</td>\n      <td>53.994557</td>\n      <td>...</td>\n      <td>71.579187</td>\n      <td>53.655694</td>\n      <td>53.994557</td>\n      <td>170.039948</td>\n      <td>74.323923</td>\n      <td>74.323923</td>\n      <td>53.994557</td>\n      <td>74.323923</td>\n      <td>170.039948</td>\n      <td>170.039948</td>\n    </tr>\n    <tr>\n      <th>2049</th>\n      <td>54.814324</td>\n      <td>170.172216</td>\n      <td>70.985088</td>\n      <td>53.715329</td>\n      <td>30.594356</td>\n      <td>19.089225</td>\n      <td>53.715329</td>\n      <td>70.929807</td>\n      <td>53.715329</td>\n      <td>53.715329</td>\n      <td>...</td>\n      <td>70.985088</td>\n      <td>54.814324</td>\n      <td>53.715329</td>\n      <td>170.172216</td>\n      <td>74.282002</td>\n      <td>74.282002</td>\n      <td>53.715329</td>\n      <td>74.282002</td>\n      <td>170.172216</td>\n      <td>170.172216</td>\n    </tr>\n    <tr>\n      <th>2050</th>\n      <td>56.468935</td>\n      <td>169.924801</td>\n      <td>71.383909</td>\n      <td>53.994428</td>\n      <td>29.930791</td>\n      <td>19.563643</td>\n      <td>53.994428</td>\n      <td>70.322993</td>\n      <td>53.994428</td>\n      <td>53.994428</td>\n      <td>...</td>\n      <td>71.383909</td>\n      <td>56.468935</td>\n      <td>53.994428</td>\n      <td>169.924801</td>\n      <td>73.996739</td>\n      <td>73.996739</td>\n      <td>53.994428</td>\n      <td>73.996739</td>\n      <td>169.924801</td>\n      <td>169.924801</td>\n    </tr>\n  </tbody>\n</table>\n<p>31 rows × 88 columns</p>\n</div>"
     },
     "execution_count": 204,
     "metadata": {},
     "output_type": "execute_result"
    }
   ],
   "source": [
    "# Electrcity wholesale price projections in $_2018/MWh from DNVGL 2018\n",
    "p_electricity = pd.read_csv(\"/Users/jakob/PycharmProjects/H2_pathways_repo/data/raw/p_electricity.csv\", delimiter=';', decimal=',', index_col=0)\n",
    "p_electricity\n"
   ],
   "metadata": {
    "collapsed": false,
    "pycharm": {
     "name": "#%%\n"
    }
   }
  },
  {
   "cell_type": "code",
   "execution_count": 171,
   "outputs": [
    {
     "data": {
      "text/plain": "0.08"
     },
     "execution_count": 171,
     "metadata": {},
     "output_type": "execute_result"
    }
   ],
   "source": [
    "# WACC for liquefaction plant in %\n",
    "i_liq = float(tea_lh2.loc['Liquefaction - Discount rate [%]']['LH2'])\n",
    "i_liq"
   ],
   "metadata": {
    "collapsed": false,
    "pycharm": {
     "name": "#%%\n"
    }
   }
  },
  {
   "cell_type": "code",
   "execution_count": 170,
   "outputs": [
    {
     "data": {
      "text/plain": "30.0"
     },
     "execution_count": 170,
     "metadata": {},
     "output_type": "execute_result"
    }
   ],
   "source": [
    "# Economic lifetime for the liquefaction plant [years]\n",
    "l_liq = float(tea_lh2.loc['Liquefaction - Lifetime [Years]']['LH2'])\n",
    "l_liq"
   ],
   "metadata": {
    "collapsed": false,
    "pycharm": {
     "name": "#%%\n"
    }
   }
  },
  {
   "cell_type": "code",
   "execution_count": 140,
   "outputs": [
    {
     "data": {
      "text/plain": "0.08882743338727227"
     },
     "execution_count": 140,
     "metadata": {},
     "output_type": "execute_result"
    }
   ],
   "source": [
    "# Amortisation factor alpha for the liquefaction plant\n",
    "alpha_liq = (i_liq * (1 + i_liq) ** l_liq) /(((1 + i_liq) ** l_liq) - 1)\n",
    "alpha_liq\n"
   ],
   "metadata": {
    "collapsed": false,
    "pycharm": {
     "name": "#%%\n"
    }
   }
  },
  {
   "cell_type": "code",
   "execution_count": 175,
   "outputs": [
    {
     "data": {
      "text/plain": "4.792307692307692"
     },
     "execution_count": 175,
     "metadata": {},
     "output_type": "execute_result"
    }
   ],
   "source": [
    "# Capex for the liquefaction plant converted from [$/tpa] to [$/kg/a]\n",
    "capex_liq_base = float(tea_lh2.loc['Liquefaction - CAPEX [€/t/a]']['LH2'])/1000\n",
    "capex_liq_base"
   ],
   "metadata": {
    "collapsed": false,
    "pycharm": {
     "name": "#%%\n"
    }
   }
  },
  {
   "cell_type": "code",
   "execution_count": 178,
   "outputs": [
    {
     "data": {
      "text/plain": "0.9"
     },
     "execution_count": 178,
     "metadata": {},
     "output_type": "execute_result"
    }
   ],
   "source": [
    "# Plant availability of 90%\n",
    "liq_use = float(tea_lh2.loc['Liquefaction - Availability [%]']['LH2'])\n",
    "liq_use"
   ],
   "metadata": {
    "collapsed": false,
    "pycharm": {
     "name": "#%%\n"
    }
   }
  },
  {
   "cell_type": "code",
   "execution_count": 179,
   "outputs": [
    {
     "data": {
      "text/plain": "5.3247863247863245"
     },
     "execution_count": 179,
     "metadata": {},
     "output_type": "execute_result"
    }
   ],
   "source": [
    "# Capex for the liquefaction plant [$/tpa] divided by plant availability of 90%\n",
    "capex_liq = capex_liq_base/liq_use\n",
    "capex_liq\n"
   ],
   "metadata": {
    "collapsed": false,
    "pycharm": {
     "name": "#%%\n"
    }
   }
  },
  {
   "cell_type": "code",
   "execution_count": 181,
   "outputs": [
    {
     "data": {
      "text/plain": "191.6923076923077"
     },
     "execution_count": 181,
     "metadata": {},
     "output_type": "execute_result"
    }
   ],
   "source": [
    "# Annual OPEX (% of CAPEX)\n",
    "opex_share_liq = float(tea_lh2.loc['Liquefaction - Annual OPEX [€/t/a]']['LH2'])\n",
    "opex_share_liq"
   ],
   "metadata": {
    "collapsed": false,
    "pycharm": {
     "name": "#%%\n"
    }
   }
  },
  {
   "cell_type": "code",
   "execution_count": 182,
   "outputs": [
    {
     "data": {
      "text/plain": "1020.7205785667325"
     },
     "execution_count": 182,
     "metadata": {},
     "output_type": "execute_result"
    }
   ],
   "source": [
    "# Opex for the liquefaction plant [$/tpa]\n",
    "opex_liq = capex_liq * opex_share_liq\n",
    "opex_liq"
   ],
   "metadata": {
    "collapsed": false,
    "pycharm": {
     "name": "#%%\n"
    }
   }
  },
  {
   "cell_type": "code",
   "execution_count": 183,
   "outputs": [
    {
     "data": {
      "text/plain": "6.1"
     },
     "execution_count": 183,
     "metadata": {},
     "output_type": "execute_result"
    }
   ],
   "source": [
    "# Electricty consumption for the liquefaction in [kWh/kg_h2]\n",
    "el_liq = float(tea_lh2.loc['Liquefaction - Electricity use [kWh/kg H2]']['LH2'])\n",
    "el_liq"
   ],
   "metadata": {
    "collapsed": false,
    "pycharm": {
     "name": "#%%\n"
    }
   }
  },
  {
   "cell_type": "code",
   "execution_count": 206,
   "outputs": [
    {
     "data": {
      "text/plain": "0.0466835326539"
     },
     "execution_count": 206,
     "metadata": {},
     "output_type": "execute_result"
    }
   ],
   "source": [
    "# Price for the electricity in year y and country m converted from [$/MWh] to [€/kWh] @ 0.8908 EUR/USD (2018)\n",
    "p_el = float(p_electricity.loc[2020]['Norway'])/1000\n",
    "p_el\n"
   ],
   "metadata": {
    "collapsed": false,
    "pycharm": {
     "name": "#%%\n"
    }
   }
  },
  {
   "cell_type": "markdown",
   "source": [
    "## Calc. liquefaction cost"
   ],
   "metadata": {
    "collapsed": false,
    "pycharm": {
     "name": "#%% md\n"
    }
   }
  },
  {
   "cell_type": "code",
   "execution_count": 215,
   "outputs": [],
   "source": [
    "# Definition of the cost calculation function for liquefaction costs. Time relevant variables = capex [€/tpa], opex [€/tpa], electricity use [kwh/kg H2], electricity price [$/MWh]\n",
    "def calculate_liq_costs(alpha_liq, capex_liq_y, opex_liq_y, el_liq_y, p_el_y):\n",
    "\n",
    "    result = float((alpha_liq * capex_liq_y/1000 + opex_liq_y/1000) + el_liq_y * p_el_y*0.89/1000)\n",
    "\n",
    "    return result"
   ],
   "metadata": {
    "collapsed": false,
    "pycharm": {
     "name": "#%%\n"
    }
   }
  },
  {
   "cell_type": "code",
   "execution_count": 216,
   "outputs": [
    {
     "data": {
      "text/plain": "      Liquefaction_costs\nYears                   \n2025            1.410008\n2026            1.363407\n2027            1.318695\n2028            1.273439\n2029             1.22855\n2030            1.184235\n2031             1.14221\n2032            1.101882\n2033            1.063817\n2034            1.024808\n2035            0.983254\n2036            0.939415\n2037            0.897293\n2038            0.857352\n2039            0.820182\n2040            0.782493\n2041            0.761615\n2042            0.741604\n2043            0.722021\n2044            0.702388\n2045            0.681079\n2046            0.656541\n2047            0.628417\n2048             0.59842\n2049            0.569884\n2050            0.544154",
      "text/html": "<div>\n<style scoped>\n    .dataframe tbody tr th:only-of-type {\n        vertical-align: middle;\n    }\n\n    .dataframe tbody tr th {\n        vertical-align: top;\n    }\n\n    .dataframe thead th {\n        text-align: right;\n    }\n</style>\n<table border=\"1\" class=\"dataframe\">\n  <thead>\n    <tr style=\"text-align: right;\">\n      <th></th>\n      <th>Liquefaction_costs</th>\n    </tr>\n    <tr>\n      <th>Years</th>\n      <th></th>\n    </tr>\n  </thead>\n  <tbody>\n    <tr>\n      <th>2025</th>\n      <td>1.410008</td>\n    </tr>\n    <tr>\n      <th>2026</th>\n      <td>1.363407</td>\n    </tr>\n    <tr>\n      <th>2027</th>\n      <td>1.318695</td>\n    </tr>\n    <tr>\n      <th>2028</th>\n      <td>1.273439</td>\n    </tr>\n    <tr>\n      <th>2029</th>\n      <td>1.22855</td>\n    </tr>\n    <tr>\n      <th>2030</th>\n      <td>1.184235</td>\n    </tr>\n    <tr>\n      <th>2031</th>\n      <td>1.14221</td>\n    </tr>\n    <tr>\n      <th>2032</th>\n      <td>1.101882</td>\n    </tr>\n    <tr>\n      <th>2033</th>\n      <td>1.063817</td>\n    </tr>\n    <tr>\n      <th>2034</th>\n      <td>1.024808</td>\n    </tr>\n    <tr>\n      <th>2035</th>\n      <td>0.983254</td>\n    </tr>\n    <tr>\n      <th>2036</th>\n      <td>0.939415</td>\n    </tr>\n    <tr>\n      <th>2037</th>\n      <td>0.897293</td>\n    </tr>\n    <tr>\n      <th>2038</th>\n      <td>0.857352</td>\n    </tr>\n    <tr>\n      <th>2039</th>\n      <td>0.820182</td>\n    </tr>\n    <tr>\n      <th>2040</th>\n      <td>0.782493</td>\n    </tr>\n    <tr>\n      <th>2041</th>\n      <td>0.761615</td>\n    </tr>\n    <tr>\n      <th>2042</th>\n      <td>0.741604</td>\n    </tr>\n    <tr>\n      <th>2043</th>\n      <td>0.722021</td>\n    </tr>\n    <tr>\n      <th>2044</th>\n      <td>0.702388</td>\n    </tr>\n    <tr>\n      <th>2045</th>\n      <td>0.681079</td>\n    </tr>\n    <tr>\n      <th>2046</th>\n      <td>0.656541</td>\n    </tr>\n    <tr>\n      <th>2047</th>\n      <td>0.628417</td>\n    </tr>\n    <tr>\n      <th>2048</th>\n      <td>0.59842</td>\n    </tr>\n    <tr>\n      <th>2049</th>\n      <td>0.569884</td>\n    </tr>\n    <tr>\n      <th>2050</th>\n      <td>0.544154</td>\n    </tr>\n  </tbody>\n</table>\n</div>"
     },
     "execution_count": 216,
     "metadata": {},
     "output_type": "execute_result"
    }
   ],
   "source": [
    "# Calculation of liquefaction costs [€/kg_h2] from 2030 to 2050.\n",
    "years = np.arange(2025,2051)\n",
    "result = pd.DataFrame(index=years, columns=['Liquefaction_costs'])\n",
    "result.index.name = 'Years'\n",
    "\n",
    "for year in years:\n",
    "\n",
    "    # get capex, opex, natural gas price and CO2 price of specific year\n",
    "    capex_liq_y = float(tea_lh2.loc['Liquefaction - Capex opt. [€/t/a]'][year])\n",
    "    opex_liq_y = float(tea_lh2.loc['Liquefaction - Opex opt. [% of Capex]'][year])\n",
    "    el_liq_y = float(tea_lh2.loc['Liquefaction - Electricity consumption opt. [kWh/kgH2]'][year])\n",
    "    p_el_y = float(p_electricity.loc[year]['Norway'])\n",
    "\n",
    "    # calculate costs of specific year\n",
    "    result.Liquefaction_costs.loc[year] = calculate_liq_costs(alpha_liq=alpha_liq, capex_liq_y=capex_liq_y, opex_liq_y=opex_liq_y, el_liq_y=el_liq_y, p_el_y=p_el_y)\n",
    "\n",
    "result"
   ],
   "metadata": {
    "collapsed": false,
    "pycharm": {
     "name": "#%%\n"
    }
   }
  },
  {
   "cell_type": "code",
   "execution_count": 217,
   "outputs": [],
   "source": [
    "# Create csv file from results dataframe\n",
    "path=r'/Users/jakob/PycharmProjects/H2_pathways_repo/data/processed'\n",
    "output_file = os.path.join(path,'Liquefaction_costs.csv')\n",
    "result.to_csv(output_file, sep = ';')"
   ],
   "metadata": {
    "collapsed": false,
    "pycharm": {
     "name": "#%%\n"
    }
   }
  },
  {
   "cell_type": "markdown",
   "source": [
    "## Plot liquefaction costs"
   ],
   "metadata": {
    "collapsed": false,
    "pycharm": {
     "name": "#%% md\n"
    }
   }
  },
  {
   "cell_type": "code",
   "execution_count": 289,
   "outputs": [
    {
     "data": {
      "text/plain": "<Figure size 720x432 with 1 Axes>",
      "image/png": "[encoded data removed]"
     },
     "metadata": {
      "needs_background": "light"
     },
     "output_type": "display_data"
    }
   ],
   "source": [
    "# Plot cost curve for liquefaction\n",
    "fig, ax = plt.subplots(figsize=(10,6))\n",
    "plt.plot(result, color = 'cyan', linestyle = 'solid')\n",
    "plt.grid(True, axis = 'y')\n",
    "ax.set_axisbelow(True)\n",
    "plt.title('Cost curve for liquefaction', fontweight = 'bold')\n",
    "plt.legend(['Liquefaction costs in €/kg_H2'])\n",
    "plt.xlabel('Year')\n",
    "plt.ylabel('Cost [€/kg_H2]')\n",
    "plt.show()"
   ],
   "metadata": {
    "collapsed": false,
    "pycharm": {
     "name": "#%%\n"
    }
   }
  },
  {
   "cell_type": "markdown",
   "source": [
    "## Calc. export terminal cost"
   ],
   "metadata": {
    "collapsed": false,
    "pycharm": {
     "name": "#%% md\n"
    }
   }
  },
  {
   "cell_type": "code",
   "execution_count": 277,
   "outputs": [],
   "source": [
    "# Lifetime of import and export terminals\n",
    "l_ter = float(tea_lh2.loc['Export Terminal - Technical lifetime [Years]']['LH2'])\n",
    "# Amortisation factor for the export terminal\n",
    "alpha_et = (i_tra * (1 + i_tra) ** l_ter) / (((1 + i_tra) ** l_ter) - 1)\n",
    "\n",
    "\n",
    "\n",
    "# Price of electricity in [$/kWh] per year and country\n",
    "p_el_y\n",
    "\n",
    "# Average storage time in the export terminal tanks in days\n",
    "t_et = float(tea_lh2.loc['Export Terminal - Storage length per load [Days]']['LH2'])\n"
   ],
   "metadata": {
    "collapsed": false,
    "pycharm": {
     "name": "#%%\n"
    }
   }
  },
  {
   "cell_type": "code",
   "execution_count": 279,
   "outputs": [
    {
     "data": {
      "text/plain": "0.61"
     },
     "execution_count": 279,
     "metadata": {},
     "output_type": "execute_result"
    }
   ],
   "source": [
    "# Electricity consumption for the export terminal [kWh/kg_h2]\n",
    "el_et = float(tea_lh2.loc['Export Terminal - Electricity use [kWh/kgH2]']['LH2'])\n",
    "el_et"
   ],
   "metadata": {
    "collapsed": false,
    "pycharm": {
     "name": "#%%\n"
    }
   }
  },
  {
   "cell_type": "code",
   "execution_count": 285,
   "outputs": [
    {
     "data": {
      "text/plain": "0.001"
     },
     "execution_count": 285,
     "metadata": {},
     "output_type": "execute_result"
    }
   ],
   "source": [
    "# Boil-off hydrogen in [%/day]\n",
    "bog_et = float(tea_lh2.loc['Export Terminal - Boil off rate [%/day]']['LH2'])\n",
    "bog_et"
   ],
   "metadata": {
    "collapsed": false,
    "pycharm": {
     "name": "#%%\n"
    }
   }
  },
  {
   "cell_type": "code",
   "execution_count": 258,
   "outputs": [
    {
     "data": {
      "text/plain": "3.0"
     },
     "execution_count": 258,
     "metadata": {},
     "output_type": "execute_result"
    }
   ],
   "source": [
    "# Average storage time in the export terminal tanks in days\n",
    "t_et = float(tea_lh2.loc['Export Terminal - Storage length per load [Days]']['LH2'])\n",
    "t_et"
   ],
   "metadata": {
    "collapsed": false,
    "pycharm": {
     "name": "#%%\n"
    }
   }
  },
  {
   "cell_type": "code",
   "execution_count": 259,
   "outputs": [
    {
     "data": {
      "text/plain": "                 LCOH_NGR\nYears                    \n2020    1.540664228375292\n2021   1.5795795259119467\n2022    4.677234866618601\n2023    4.444640127690195\n2024    3.516538989006849\n2025    3.619924858455304\n2026    3.728883239375647\n2027   3.8427065897619217\n2028    3.962095830621936\n2029     4.08776221557105\n2030    4.219029229922964\n2031      4.3673524943381\n2032    4.522288582964764\n2033   4.6841286606354195\n2034    4.853176714350876\n2035   5.0297501092269306\n2036    5.214180191736414\n2037    5.406812895551001\n2038    5.608009378780015\n2039    5.818146712804211\n2040    6.037618565310206\n2041     6.26683593561988\n2042    6.506227922716546\n2043   6.7562425178688095\n2044    7.017347438550547\n2045    7.290030996757389\n2046   7.5748030024200474\n2047    7.872195711513191\n2048    8.182764819460036\n2049    8.507090486033881\n2050    8.845778418054158",
      "text/html": "<div>\n<style scoped>\n    .dataframe tbody tr th:only-of-type {\n        vertical-align: middle;\n    }\n\n    .dataframe tbody tr th {\n        vertical-align: top;\n    }\n\n    .dataframe thead th {\n        text-align: right;\n    }\n</style>\n<table border=\"1\" class=\"dataframe\">\n  <thead>\n    <tr style=\"text-align: right;\">\n      <th></th>\n      <th>LCOH_NGR</th>\n    </tr>\n    <tr>\n      <th>Years</th>\n      <th></th>\n    </tr>\n  </thead>\n  <tbody>\n    <tr>\n      <th>2020</th>\n      <td>1.540664228375292</td>\n    </tr>\n    <tr>\n      <th>2021</th>\n      <td>1.5795795259119467</td>\n    </tr>\n    <tr>\n      <th>2022</th>\n      <td>4.677234866618601</td>\n    </tr>\n    <tr>\n      <th>2023</th>\n      <td>4.444640127690195</td>\n    </tr>\n    <tr>\n      <th>2024</th>\n      <td>3.516538989006849</td>\n    </tr>\n    <tr>\n      <th>2025</th>\n      <td>3.619924858455304</td>\n    </tr>\n    <tr>\n      <th>2026</th>\n      <td>3.728883239375647</td>\n    </tr>\n    <tr>\n      <th>2027</th>\n      <td>3.8427065897619217</td>\n    </tr>\n    <tr>\n      <th>2028</th>\n      <td>3.962095830621936</td>\n    </tr>\n    <tr>\n      <th>2029</th>\n      <td>4.08776221557105</td>\n    </tr>\n    <tr>\n      <th>2030</th>\n      <td>4.219029229922964</td>\n    </tr>\n    <tr>\n      <th>2031</th>\n      <td>4.3673524943381</td>\n    </tr>\n    <tr>\n      <th>2032</th>\n      <td>4.522288582964764</td>\n    </tr>\n    <tr>\n      <th>2033</th>\n      <td>4.6841286606354195</td>\n    </tr>\n    <tr>\n      <th>2034</th>\n      <td>4.853176714350876</td>\n    </tr>\n    <tr>\n      <th>2035</th>\n      <td>5.0297501092269306</td>\n    </tr>\n    <tr>\n      <th>2036</th>\n      <td>5.214180191736414</td>\n    </tr>\n    <tr>\n      <th>2037</th>\n      <td>5.406812895551001</td>\n    </tr>\n    <tr>\n      <th>2038</th>\n      <td>5.608009378780015</td>\n    </tr>\n    <tr>\n      <th>2039</th>\n      <td>5.818146712804211</td>\n    </tr>\n    <tr>\n      <th>2040</th>\n      <td>6.037618565310206</td>\n    </tr>\n    <tr>\n      <th>2041</th>\n      <td>6.26683593561988</td>\n    </tr>\n    <tr>\n      <th>2042</th>\n      <td>6.506227922716546</td>\n    </tr>\n    <tr>\n      <th>2043</th>\n      <td>6.7562425178688095</td>\n    </tr>\n    <tr>\n      <th>2044</th>\n      <td>7.017347438550547</td>\n    </tr>\n    <tr>\n      <th>2045</th>\n      <td>7.290030996757389</td>\n    </tr>\n    <tr>\n      <th>2046</th>\n      <td>7.5748030024200474</td>\n    </tr>\n    <tr>\n      <th>2047</th>\n      <td>7.872195711513191</td>\n    </tr>\n    <tr>\n      <th>2048</th>\n      <td>8.182764819460036</td>\n    </tr>\n    <tr>\n      <th>2049</th>\n      <td>8.507090486033881</td>\n    </tr>\n    <tr>\n      <th>2050</th>\n      <td>8.845778418054158</td>\n    </tr>\n  </tbody>\n</table>\n</div>"
     },
     "execution_count": 259,
     "metadata": {},
     "output_type": "execute_result"
    }
   ],
   "source": [
    "# Cost of transported hydrogen in [$/kg_h2] in year y\n",
    "lcoh_ngr = pd.read_csv(\"/Users/jakob/PycharmProjects/H2_pathways_repo/data/processed/LCOH_NGR.csv\", delimiter=';', decimal=',', index_col=0)\n",
    "lcoh_ngr"
   ],
   "metadata": {
    "collapsed": false,
    "pycharm": {
     "name": "#%%\n"
    }
   }
  },
  {
   "cell_type": "markdown",
   "source": [],
   "metadata": {
    "collapsed": false,
    "pycharm": {
     "name": "#%% md\n"
    }
   }
  },
  {
   "cell_type": "code",
   "execution_count": 260,
   "outputs": [],
   "source": [
    "# Definition of the cost calculation function for the Export terminal.\n",
    "# Time relevant variables = capex [$/tpa], opex [$/tpa], electricity use [kwh/kg H2], electricity price [$/MWh], boil off in [%/d], storage time in days, lcoh in [$/kg_h2]\n",
    "def calculate_export_terminal_costs(alpha_et, capex_et_y, opex_et_y, el_et, p_el_y, lcoh_ngr_y):\n",
    "    result = (alpha_et * capex_et_y/1000 + opex_et_y/1000) + el_et * p_el_y*0.89/1000 + bog_et * t_et * lcoh_ngr_y\n",
    "\n",
    "    return result"
   ],
   "metadata": {
    "collapsed": false,
    "pycharm": {
     "name": "#%%\n"
    }
   }
  },
  {
   "cell_type": "code",
   "execution_count": 261,
   "outputs": [],
   "source": [
    "#Calculation of export terminal costs [$/kg_h2] from 2030 to 2050.\n",
    "years = np.arange(2025, 2051)\n",
    "result = pd.DataFrame(index=years, columns=['Export_terminal_costs'])\n",
    "result.index.name = 'Years'"
   ],
   "metadata": {
    "collapsed": false,
    "pycharm": {
     "name": "#%%\n"
    }
   }
  },
  {
   "cell_type": "code",
   "execution_count": 275,
   "outputs": [
    {
     "name": "stdout",
     "output_type": "stream",
     "text": [
      "26.600249066002494\n"
     ]
    }
   ],
   "source": [
    "print(float(tea_lh2.loc['Export Terminal - Annual OPEX [% of CAPEX]'][2020]))"
   ],
   "metadata": {
    "collapsed": false,
    "pycharm": {
     "name": "#%%\n"
    }
   }
  },
  {
   "cell_type": "code",
   "execution_count": 286,
   "outputs": [
    {
     "data": {
      "text/plain": "      Export_terminal_costs\nYears                      \n2025                0.11774\n2026               0.116917\n2027                0.11624\n2028               0.115535\n2029               0.114872\n2030               0.114264\n2031                0.11281\n2032               0.111509\n2033               0.110413\n2034               0.109271\n2035               0.107953\n2036               0.106471\n2037               0.105155\n2038               0.104051\n2039               0.103217\n2040                0.10238\n2041               0.101634\n2042               0.101019\n2043               0.100504\n2044               0.100048\n2045               0.099497\n2046               0.098686\n2047               0.097559\n2048               0.096269\n2049               0.095163\n2050               0.094403",
      "text/html": "<div>\n<style scoped>\n    .dataframe tbody tr th:only-of-type {\n        vertical-align: middle;\n    }\n\n    .dataframe tbody tr th {\n        vertical-align: top;\n    }\n\n    .dataframe thead th {\n        text-align: right;\n    }\n</style>\n<table border=\"1\" class=\"dataframe\">\n  <thead>\n    <tr style=\"text-align: right;\">\n      <th></th>\n      <th>Export_terminal_costs</th>\n    </tr>\n    <tr>\n      <th>Years</th>\n      <th></th>\n    </tr>\n  </thead>\n  <tbody>\n    <tr>\n      <th>2025</th>\n      <td>0.11774</td>\n    </tr>\n    <tr>\n      <th>2026</th>\n      <td>0.116917</td>\n    </tr>\n    <tr>\n      <th>2027</th>\n      <td>0.11624</td>\n    </tr>\n    <tr>\n      <th>2028</th>\n      <td>0.115535</td>\n    </tr>\n    <tr>\n      <th>2029</th>\n      <td>0.114872</td>\n    </tr>\n    <tr>\n      <th>2030</th>\n      <td>0.114264</td>\n    </tr>\n    <tr>\n      <th>2031</th>\n      <td>0.11281</td>\n    </tr>\n    <tr>\n      <th>2032</th>\n      <td>0.111509</td>\n    </tr>\n    <tr>\n      <th>2033</th>\n      <td>0.110413</td>\n    </tr>\n    <tr>\n      <th>2034</th>\n      <td>0.109271</td>\n    </tr>\n    <tr>\n      <th>2035</th>\n      <td>0.107953</td>\n    </tr>\n    <tr>\n      <th>2036</th>\n      <td>0.106471</td>\n    </tr>\n    <tr>\n      <th>2037</th>\n      <td>0.105155</td>\n    </tr>\n    <tr>\n      <th>2038</th>\n      <td>0.104051</td>\n    </tr>\n    <tr>\n      <th>2039</th>\n      <td>0.103217</td>\n    </tr>\n    <tr>\n      <th>2040</th>\n      <td>0.10238</td>\n    </tr>\n    <tr>\n      <th>2041</th>\n      <td>0.101634</td>\n    </tr>\n    <tr>\n      <th>2042</th>\n      <td>0.101019</td>\n    </tr>\n    <tr>\n      <th>2043</th>\n      <td>0.100504</td>\n    </tr>\n    <tr>\n      <th>2044</th>\n      <td>0.100048</td>\n    </tr>\n    <tr>\n      <th>2045</th>\n      <td>0.099497</td>\n    </tr>\n    <tr>\n      <th>2046</th>\n      <td>0.098686</td>\n    </tr>\n    <tr>\n      <th>2047</th>\n      <td>0.097559</td>\n    </tr>\n    <tr>\n      <th>2048</th>\n      <td>0.096269</td>\n    </tr>\n    <tr>\n      <th>2049</th>\n      <td>0.095163</td>\n    </tr>\n    <tr>\n      <th>2050</th>\n      <td>0.094403</td>\n    </tr>\n  </tbody>\n</table>\n</div>"
     },
     "execution_count": 286,
     "metadata": {},
     "output_type": "execute_result"
    }
   ],
   "source": [
    "for year in years:\n",
    "    # get capex, opex, xx\n",
    "    capex_et_y = float(tea_lh2.loc['Export Terminal - CAPEX/tank [€/t/a]'][year])\n",
    "    opex_et_y = float(tea_lh2.loc['Export Terminal - Annual OPEX [% of CAPEX]'][year])\n",
    "    p_el_y = float(p_electricity.loc[year]['Norway'])\n",
    "    lcoh_ngr_y = float(lcoh_ngr.loc[year]['LCOH_NGR'])\n",
    "\n",
    "    # calculate costs of specific year\n",
    "    result.Export_terminal_costs.loc[year] = calculate_export_terminal_costs(alpha_et=alpha_et, capex_et_y=capex_et_y,\n",
    "                                                              opex_et_y=opex_et_y, el_et=el_et, p_el_y=p_el_y, lcoh_ngr_y=lcoh_ngr_y)\n",
    "\n",
    "result"
   ],
   "metadata": {
    "collapsed": false,
    "pycharm": {
     "name": "#%%\n"
    }
   }
  },
  {
   "cell_type": "code",
   "execution_count": 497,
   "outputs": [],
   "source": [
    "# Create csv file from results dataframe\n",
    "path = r'/Users/jakob/PycharmProjects/H2_pathways_repo/data/processed'\n",
    "output_file = os.path.join(path, 'Export_terminal_costs.csv')\n",
    "result.to_csv(output_file, sep=';')"
   ],
   "metadata": {
    "collapsed": false,
    "pycharm": {
     "name": "#%%\n"
    }
   }
  },
  {
   "cell_type": "markdown",
   "source": [
    "## Plot export terminal costs"
   ],
   "metadata": {
    "collapsed": false,
    "pycharm": {
     "name": "#%% md\n"
    }
   }
  },
  {
   "cell_type": "code",
   "execution_count": 298,
   "outputs": [
    {
     "data": {
      "text/plain": "<Figure size 720x432 with 1 Axes>",
      "image/png": "[encoded data removed]"
     },
     "metadata": {
      "needs_background": "light"
     },
     "output_type": "display_data"
    }
   ],
   "source": [
    "# Plot cost curve for export terminal costs\n",
    "fig, ax = plt.subplots(figsize=(10,6))\n",
    "plt.plot(result, color = 'red', linestyle = 'solid')\n",
    "plt.grid(True, axis = 'y')\n",
    "ax.set_axisbelow(True)\n",
    "plt.plot(result, color='red', linestyle='dashed')\n",
    "plt.title('Export terminal costs over time', fontweight='bold', fontsize='large')\n",
    "plt.legend(['Export terminal costs in €/kg_H2'])\n",
    "plt.xlabel('Year', fontsize='large')\n",
    "plt.ylabel('Cost [€/kg_H2]', fontsize='large')\n",
    "plt.show()"
   ],
   "metadata": {
    "collapsed": false,
    "pycharm": {
     "name": "#%%\n"
    }
   }
  },
  {
   "cell_type": "markdown",
   "source": [],
   "metadata": {
    "collapsed": false,
    "pycharm": {
     "name": "#%% md\n"
    }
   }
  },
  {
   "cell_type": "markdown",
   "source": [
    "# Shipping"
   ],
   "metadata": {
    "collapsed": false,
    "pycharm": {
     "name": "#%% md\n"
    }
   }
  },
  {
   "cell_type": "code",
   "execution_count": 335,
   "outputs": [
    {
     "data": {
      "text/plain": "                    Shipping  Shipping Parameter  Unnamed: 2  Unnamed: 3  \\\n0     Technical Lifetime (y)           30.000000         NaN         NaN   \n1        Amortisation Factor            0.088827         NaN         NaN   \n2       Capacity/ship (tH2 )        11000.000000         NaN         NaN   \n3   CAPEX/ship (USD million)          412.000000         NaN         NaN   \n4               CAPEX ($/kg)           37.000000         NaN         NaN   \n5          Ship speed (km/h)           30.000000         NaN         NaN   \n6      Berthing time (hours)           48.000000         NaN         NaN   \n7   Annual OPEX (% of CAPEX)            0.040000         NaN         NaN   \n8           Fuel use (MJ/km)         1487.000000         NaN         NaN   \n9      Fuel use (kg H2/t/km)            0.001127         NaN         NaN   \n10       Boil off (%per day)            0.002000         NaN         NaN   \n11                       NaN                 NaN         NaN         NaN   \n12                       NaN                 NaN         NaN         NaN   \n13                       NaN                 NaN         NaN         NaN   \n14                       NaN                 NaN         NaN         NaN   \n15                       NaN                 NaN         NaN         NaN   \n16                       NaN                 NaN         NaN         NaN   \n17                       NaN                 NaN         NaN         NaN   \n18                       NaN                 NaN         NaN         NaN   \n19                       NaN                 NaN         NaN         NaN   \n20                       NaN                 NaN         NaN         NaN   \n21                       NaN                 NaN         NaN         NaN   \n22                       NaN                 NaN         NaN         NaN   \n23                       NaN                 NaN         NaN         NaN   \n\n   Unnamed: 4  \n0         NaN  \n1         NaN  \n2         NaN  \n3         NaN  \n4         NaN  \n5         NaN  \n6         NaN  \n7         NaN  \n8         NaN  \n9         NaN  \n10        NaN  \n11        NaN  \n12        NaN  \n13        NaN  \n14        NaN  \n15        NaN  \n16        NaN  \n17        NaN  \n18        NaN  \n19        NaN  \n20        NaN  \n21        NaN  \n22        NaN  \n23          r  ",
      "text/html": "<div>\n<style scoped>\n    .dataframe tbody tr th:only-of-type {\n        vertical-align: middle;\n    }\n\n    .dataframe tbody tr th {\n        vertical-align: top;\n    }\n\n    .dataframe thead th {\n        text-align: right;\n    }\n</style>\n<table border=\"1\" class=\"dataframe\">\n  <thead>\n    <tr style=\"text-align: right;\">\n      <th></th>\n      <th>Shipping</th>\n      <th>Shipping Parameter</th>\n      <th>Unnamed: 2</th>\n      <th>Unnamed: 3</th>\n      <th>Unnamed: 4</th>\n    </tr>\n  </thead>\n  <tbody>\n    <tr>\n      <th>0</th>\n      <td>Technical Lifetime (y)</td>\n      <td>30.000000</td>\n      <td>NaN</td>\n      <td>NaN</td>\n      <td>NaN</td>\n    </tr>\n    <tr>\n      <th>1</th>\n      <td>Amortisation Factor</td>\n      <td>0.088827</td>\n      <td>NaN</td>\n      <td>NaN</td>\n      <td>NaN</td>\n    </tr>\n    <tr>\n      <th>2</th>\n      <td>Capacity/ship (tH2 )</td>\n      <td>11000.000000</td>\n      <td>NaN</td>\n      <td>NaN</td>\n      <td>NaN</td>\n    </tr>\n    <tr>\n      <th>3</th>\n      <td>CAPEX/ship (USD million)</td>\n      <td>412.000000</td>\n      <td>NaN</td>\n      <td>NaN</td>\n      <td>NaN</td>\n    </tr>\n    <tr>\n      <th>4</th>\n      <td>CAPEX ($/kg)</td>\n      <td>37.000000</td>\n      <td>NaN</td>\n      <td>NaN</td>\n      <td>NaN</td>\n    </tr>\n    <tr>\n      <th>5</th>\n      <td>Ship speed (km/h)</td>\n      <td>30.000000</td>\n      <td>NaN</td>\n      <td>NaN</td>\n      <td>NaN</td>\n    </tr>\n    <tr>\n      <th>6</th>\n      <td>Berthing time (hours)</td>\n      <td>48.000000</td>\n      <td>NaN</td>\n      <td>NaN</td>\n      <td>NaN</td>\n    </tr>\n    <tr>\n      <th>7</th>\n      <td>Annual OPEX (% of CAPEX)</td>\n      <td>0.040000</td>\n      <td>NaN</td>\n      <td>NaN</td>\n      <td>NaN</td>\n    </tr>\n    <tr>\n      <th>8</th>\n      <td>Fuel use (MJ/km)</td>\n      <td>1487.000000</td>\n      <td>NaN</td>\n      <td>NaN</td>\n      <td>NaN</td>\n    </tr>\n    <tr>\n      <th>9</th>\n      <td>Fuel use (kg H2/t/km)</td>\n      <td>0.001127</td>\n      <td>NaN</td>\n      <td>NaN</td>\n      <td>NaN</td>\n    </tr>\n    <tr>\n      <th>10</th>\n      <td>Boil off (%per day)</td>\n      <td>0.002000</td>\n      <td>NaN</td>\n      <td>NaN</td>\n      <td>NaN</td>\n    </tr>\n    <tr>\n      <th>11</th>\n      <td>NaN</td>\n      <td>NaN</td>\n      <td>NaN</td>\n      <td>NaN</td>\n      <td>NaN</td>\n    </tr>\n    <tr>\n      <th>12</th>\n      <td>NaN</td>\n      <td>NaN</td>\n      <td>NaN</td>\n      <td>NaN</td>\n      <td>NaN</td>\n    </tr>\n    <tr>\n      <th>13</th>\n      <td>NaN</td>\n      <td>NaN</td>\n      <td>NaN</td>\n      <td>NaN</td>\n      <td>NaN</td>\n    </tr>\n    <tr>\n      <th>14</th>\n      <td>NaN</td>\n      <td>NaN</td>\n      <td>NaN</td>\n      <td>NaN</td>\n      <td>NaN</td>\n    </tr>\n    <tr>\n      <th>15</th>\n      <td>NaN</td>\n      <td>NaN</td>\n      <td>NaN</td>\n      <td>NaN</td>\n      <td>NaN</td>\n    </tr>\n    <tr>\n      <th>16</th>\n      <td>NaN</td>\n      <td>NaN</td>\n      <td>NaN</td>\n      <td>NaN</td>\n      <td>NaN</td>\n    </tr>\n    <tr>\n      <th>17</th>\n      <td>NaN</td>\n      <td>NaN</td>\n      <td>NaN</td>\n      <td>NaN</td>\n      <td>NaN</td>\n    </tr>\n    <tr>\n      <th>18</th>\n      <td>NaN</td>\n      <td>NaN</td>\n      <td>NaN</td>\n      <td>NaN</td>\n      <td>NaN</td>\n    </tr>\n    <tr>\n      <th>19</th>\n      <td>NaN</td>\n      <td>NaN</td>\n      <td>NaN</td>\n      <td>NaN</td>\n      <td>NaN</td>\n    </tr>\n    <tr>\n      <th>20</th>\n      <td>NaN</td>\n      <td>NaN</td>\n      <td>NaN</td>\n      <td>NaN</td>\n      <td>NaN</td>\n    </tr>\n    <tr>\n      <th>21</th>\n      <td>NaN</td>\n      <td>NaN</td>\n      <td>NaN</td>\n      <td>NaN</td>\n      <td>NaN</td>\n    </tr>\n    <tr>\n      <th>22</th>\n      <td>NaN</td>\n      <td>NaN</td>\n      <td>NaN</td>\n      <td>NaN</td>\n      <td>NaN</td>\n    </tr>\n    <tr>\n      <th>23</th>\n      <td>NaN</td>\n      <td>NaN</td>\n      <td>NaN</td>\n      <td>NaN</td>\n      <td>r</td>\n    </tr>\n  </tbody>\n</table>\n</div>"
     },
     "execution_count": 335,
     "metadata": {},
     "output_type": "execute_result"
    }
   ],
   "source": [
    "#Definition of variables for shipping cost SC\n",
    "tea_ship = pd.read_csv(\"/Users/jakob/PycharmProjects/H2_pathways_repo/data/raw/tea_shipping.csv\", delimiter = ';', decimal = ',')\n",
    "tea_ship"
   ],
   "metadata": {
    "collapsed": false,
    "pycharm": {
     "name": "#%%\n"
    }
   }
  },
  {
   "cell_type": "code",
   "execution_count": 311,
   "outputs": [
    {
     "data": {
      "text/plain": "30.0"
     },
     "execution_count": 311,
     "metadata": {},
     "output_type": "execute_result"
    }
   ],
   "source": [
    "# Technical lifetime of ships in years\n",
    "l_ship = float(tea_ship[tea_ship.Shipping == 'Technical Lifetime (y)']['Shipping Parameter'].values)\n",
    "l_ship"
   ],
   "metadata": {
    "collapsed": false,
    "pycharm": {
     "name": "#%%\n"
    }
   }
  },
  {
   "cell_type": "code",
   "execution_count": 312,
   "outputs": [
    {
     "data": {
      "text/plain": "0.08882743338727227"
     },
     "execution_count": 312,
     "metadata": {},
     "output_type": "execute_result"
    }
   ],
   "source": [
    "# Amortisation factor for shipping\n",
    "alpha_ship = (i_tra * (1 + i_tra) ** l_ship) / (((1 + i_tra) ** l_ship) - 1)\n",
    "alpha_ship\n"
   ],
   "metadata": {
    "collapsed": false,
    "pycharm": {
     "name": "#%%\n"
    }
   }
  },
  {
   "cell_type": "code",
   "execution_count": 313,
   "outputs": [
    {
     "data": {
      "text/plain": "412.0"
     },
     "execution_count": 313,
     "metadata": {},
     "output_type": "execute_result"
    }
   ],
   "source": [
    "# Cost of one ship in Mio.$\n",
    "capex_ship_base = float(tea_ship[tea_ship.Shipping == 'CAPEX/ship (USD million)']['Shipping Parameter'].values)\n",
    "capex_ship_base"
   ],
   "metadata": {
    "collapsed": false,
    "pycharm": {
     "name": "#%%\n"
    }
   }
  },
  {
   "cell_type": "code",
   "execution_count": 314,
   "outputs": [
    {
     "data": {
      "text/plain": "11000.0"
     },
     "execution_count": 314,
     "metadata": {},
     "output_type": "execute_result"
    }
   ],
   "source": [
    "#Capacity of a ship in t_h2\n",
    "capa_ship = float(tea_ship[tea_ship.Shipping == 'Capacity/ship (tH2 )']['Shipping Parameter'].values)\n",
    "capa_ship"
   ],
   "metadata": {
    "collapsed": false,
    "pycharm": {
     "name": "#%%\n"
    }
   }
  },
  {
   "cell_type": "code",
   "execution_count": 315,
   "outputs": [
    {
     "data": {
      "text/plain": "37.45454545454545"
     },
     "execution_count": 315,
     "metadata": {},
     "output_type": "execute_result"
    }
   ],
   "source": [
    "# Capex for shipping in [$/kg_h2]\n",
    "capex_ship = capex_ship_base / capa_ship * 1000\n",
    "capex_ship"
   ],
   "metadata": {
    "collapsed": false,
    "pycharm": {
     "name": "#%%\n"
    }
   }
  },
  {
   "cell_type": "code",
   "execution_count": 316,
   "outputs": [
    {
     "data": {
      "text/plain": "0.04"
     },
     "execution_count": 316,
     "metadata": {},
     "output_type": "execute_result"
    }
   ],
   "source": [
    "# Opex shipping share of Capex in %/a\n",
    "opex_share_ship = float(tea_ship[tea_ship.Shipping == 'Annual OPEX (% of CAPEX)']['Shipping Parameter'].values)\n",
    "opex_share_ship"
   ],
   "metadata": {
    "collapsed": false,
    "pycharm": {
     "name": "#%%\n"
    }
   }
  },
  {
   "cell_type": "code",
   "execution_count": 317,
   "outputs": [
    {
     "data": {
      "text/plain": "1.498181818181818"
     },
     "execution_count": 317,
     "metadata": {},
     "output_type": "execute_result"
    }
   ],
   "source": [
    "# Opex for shipping in [$/kg_h2/a]\n",
    "opex_ship = opex_share_ship * capex_ship\n",
    "opex_ship"
   ],
   "metadata": {
    "collapsed": false,
    "pycharm": {
     "name": "#%%\n"
    }
   }
  },
  {
   "cell_type": "code",
   "execution_count": 318,
   "outputs": [
    {
     "data": {
      "text/plain": "602.403"
     },
     "execution_count": 318,
     "metadata": {},
     "output_type": "execute_result"
    }
   ],
   "source": [
    "# Distance between countries via ship in [km]\n",
    "d_sea = float(tra_d[(tra_d['Origin_Country'] == 'Norway') & (tra_d['Destination_Country'] == 'Germany')]['sea distance (km)'].values)\n",
    "d_sea\n"
   ],
   "metadata": {
    "collapsed": false,
    "pycharm": {
     "name": "#%%\n"
    }
   }
  },
  {
   "cell_type": "code",
   "execution_count": 319,
   "outputs": [
    {
     "data": {
      "text/plain": "30.0"
     },
     "execution_count": 319,
     "metadata": {},
     "output_type": "execute_result"
    }
   ],
   "source": [
    "# Ship speed in [km/h]\n",
    "v_ship = float(tea_ship[tea_ship.Shipping == 'Ship speed (km/h)']['Shipping Parameter'].values)\n",
    "v_ship"
   ],
   "metadata": {
    "collapsed": false,
    "pycharm": {
     "name": "#%%\n"
    }
   }
  },
  {
   "cell_type": "code",
   "execution_count": 320,
   "outputs": [
    {
     "data": {
      "text/plain": "48.0"
     },
     "execution_count": 320,
     "metadata": {},
     "output_type": "execute_result"
    }
   ],
   "source": [
    "# Berthing time (time for unloading and loading in a harbour) in [h]\n",
    "h_ship = float(tea_ship[tea_ship.Shipping == 'Berthing time (hours)']['Shipping Parameter'].values)\n",
    "h_ship\n"
   ],
   "metadata": {
    "collapsed": false,
    "pycharm": {
     "name": "#%%\n"
    }
   }
  },
  {
   "cell_type": "code",
   "execution_count": 321,
   "outputs": [
    {
     "data": {
      "text/plain": "0.002"
     },
     "execution_count": 321,
     "metadata": {},
     "output_type": "execute_result"
    }
   ],
   "source": [
    "# Boil-off when shipping in [%/h]\n",
    "b_ship = float(tea_ship[tea_ship.Shipping == 'Boil off (%per day)']['Shipping Parameter'].values)\n",
    "b_ship"
   ],
   "metadata": {
    "collapsed": false,
    "pycharm": {
     "name": "#%%\n"
    }
   }
  },
  {
   "cell_type": "code",
   "execution_count": 322,
   "outputs": [
    {
     "data": {
      "text/plain": "0.001126891"
     },
     "execution_count": 322,
     "metadata": {},
     "output_type": "execute_result"
    }
   ],
   "source": [
    "# Fuel consumption of a ship in [kg_h2/km]\n",
    "f_ship = float(tea_ship[tea_ship.Shipping == 'Fuel use (kg H2/t/km)']['Shipping Parameter'].values)\n",
    "f_ship\n"
   ],
   "metadata": {
    "collapsed": false,
    "pycharm": {
     "name": "#%%\n"
    }
   }
  },
  {
   "cell_type": "code",
   "execution_count": 344,
   "outputs": [
    {
     "data": {
      "text/plain": "0.011293188697621769"
     },
     "execution_count": 344,
     "metadata": {},
     "output_type": "execute_result"
    }
   ],
   "source": [
    "# Shipping cost in [$/kg_h2] including: Yearly capex per kg of transport capacity; Loads per year; share of load left after shipping; Cost of boil-off\n",
    "SC = (alpha_ship * capex_ship + opex_ship)/(8760/(2*(d_sea/v_ship + h_ship)))/((1-(b_ship * d_sea/v_ship) - (f_ship  * d_sea)) + (b_ship * d_sea/v_ship + f_ship * d_sea) * lcoh_ngr_y)\n",
    "SC"
   ],
   "metadata": {
    "collapsed": false,
    "pycharm": {
     "name": "#%%\n"
    }
   }
  },
  {
   "cell_type": "code",
   "execution_count": 337,
   "outputs": [
    {
     "data": {
      "text/plain": "    Years  CAPEX ($/kg) Shipping  OPEX ($/kg/a) Shipping\n0    2020              37.454545                1.498182\n1    2021              37.080000                1.483200\n2    2022              36.705455                1.468218\n3    2023              36.330909                1.453236\n4    2024              35.956364                1.438255\n5    2025              35.581818                1.423273\n6    2026              35.207273                1.408291\n7    2027              34.832727                1.393309\n8    2028              34.458182                1.378327\n9    2029              34.083636                1.363345\n10   2030              33.709091                1.348364\n11   2031              32.866364                1.314655\n12   2032              32.023636                1.280945\n13   2033              31.180909                1.247236\n14   2034              30.338182                1.213527\n15   2035              29.495455                1.179818\n16   2036              28.652727                1.146109\n17   2037              27.810000                1.112400\n18   2038              26.967273                1.078691\n19   2039              26.124545                1.044982\n20   2040              25.281818                1.011273\n21   2041              24.439091                0.977564\n22   2042              23.596364                0.943855\n23   2043              22.753636                0.910145\n24   2044              21.910909                0.876436\n25   2045              21.068182                0.842727\n26   2046              20.225455                0.809018\n27   2047              19.382727                0.775309\n28   2048              18.540000                0.741600\n29   2049              17.697273                0.707891\n30   2050              16.854545                0.674182",
      "text/html": "<div>\n<style scoped>\n    .dataframe tbody tr th:only-of-type {\n        vertical-align: middle;\n    }\n\n    .dataframe tbody tr th {\n        vertical-align: top;\n    }\n\n    .dataframe thead th {\n        text-align: right;\n    }\n</style>\n<table border=\"1\" class=\"dataframe\">\n  <thead>\n    <tr style=\"text-align: right;\">\n      <th></th>\n      <th>Years</th>\n      <th>CAPEX ($/kg) Shipping</th>\n      <th>OPEX ($/kg/a) Shipping</th>\n    </tr>\n  </thead>\n  <tbody>\n    <tr>\n      <th>0</th>\n      <td>2020</td>\n      <td>37.454545</td>\n      <td>1.498182</td>\n    </tr>\n    <tr>\n      <th>1</th>\n      <td>2021</td>\n      <td>37.080000</td>\n      <td>1.483200</td>\n    </tr>\n    <tr>\n      <th>2</th>\n      <td>2022</td>\n      <td>36.705455</td>\n      <td>1.468218</td>\n    </tr>\n    <tr>\n      <th>3</th>\n      <td>2023</td>\n      <td>36.330909</td>\n      <td>1.453236</td>\n    </tr>\n    <tr>\n      <th>4</th>\n      <td>2024</td>\n      <td>35.956364</td>\n      <td>1.438255</td>\n    </tr>\n    <tr>\n      <th>5</th>\n      <td>2025</td>\n      <td>35.581818</td>\n      <td>1.423273</td>\n    </tr>\n    <tr>\n      <th>6</th>\n      <td>2026</td>\n      <td>35.207273</td>\n      <td>1.408291</td>\n    </tr>\n    <tr>\n      <th>7</th>\n      <td>2027</td>\n      <td>34.832727</td>\n      <td>1.393309</td>\n    </tr>\n    <tr>\n      <th>8</th>\n      <td>2028</td>\n      <td>34.458182</td>\n      <td>1.378327</td>\n    </tr>\n    <tr>\n      <th>9</th>\n      <td>2029</td>\n      <td>34.083636</td>\n      <td>1.363345</td>\n    </tr>\n    <tr>\n      <th>10</th>\n      <td>2030</td>\n      <td>33.709091</td>\n      <td>1.348364</td>\n    </tr>\n    <tr>\n      <th>11</th>\n      <td>2031</td>\n      <td>32.866364</td>\n      <td>1.314655</td>\n    </tr>\n    <tr>\n      <th>12</th>\n      <td>2032</td>\n      <td>32.023636</td>\n      <td>1.280945</td>\n    </tr>\n    <tr>\n      <th>13</th>\n      <td>2033</td>\n      <td>31.180909</td>\n      <td>1.247236</td>\n    </tr>\n    <tr>\n      <th>14</th>\n      <td>2034</td>\n      <td>30.338182</td>\n      <td>1.213527</td>\n    </tr>\n    <tr>\n      <th>15</th>\n      <td>2035</td>\n      <td>29.495455</td>\n      <td>1.179818</td>\n    </tr>\n    <tr>\n      <th>16</th>\n      <td>2036</td>\n      <td>28.652727</td>\n      <td>1.146109</td>\n    </tr>\n    <tr>\n      <th>17</th>\n      <td>2037</td>\n      <td>27.810000</td>\n      <td>1.112400</td>\n    </tr>\n    <tr>\n      <th>18</th>\n      <td>2038</td>\n      <td>26.967273</td>\n      <td>1.078691</td>\n    </tr>\n    <tr>\n      <th>19</th>\n      <td>2039</td>\n      <td>26.124545</td>\n      <td>1.044982</td>\n    </tr>\n    <tr>\n      <th>20</th>\n      <td>2040</td>\n      <td>25.281818</td>\n      <td>1.011273</td>\n    </tr>\n    <tr>\n      <th>21</th>\n      <td>2041</td>\n      <td>24.439091</td>\n      <td>0.977564</td>\n    </tr>\n    <tr>\n      <th>22</th>\n      <td>2042</td>\n      <td>23.596364</td>\n      <td>0.943855</td>\n    </tr>\n    <tr>\n      <th>23</th>\n      <td>2043</td>\n      <td>22.753636</td>\n      <td>0.910145</td>\n    </tr>\n    <tr>\n      <th>24</th>\n      <td>2044</td>\n      <td>21.910909</td>\n      <td>0.876436</td>\n    </tr>\n    <tr>\n      <th>25</th>\n      <td>2045</td>\n      <td>21.068182</td>\n      <td>0.842727</td>\n    </tr>\n    <tr>\n      <th>26</th>\n      <td>2046</td>\n      <td>20.225455</td>\n      <td>0.809018</td>\n    </tr>\n    <tr>\n      <th>27</th>\n      <td>2047</td>\n      <td>19.382727</td>\n      <td>0.775309</td>\n    </tr>\n    <tr>\n      <th>28</th>\n      <td>2048</td>\n      <td>18.540000</td>\n      <td>0.741600</td>\n    </tr>\n    <tr>\n      <th>29</th>\n      <td>2049</td>\n      <td>17.697273</td>\n      <td>0.707891</td>\n    </tr>\n    <tr>\n      <th>30</th>\n      <td>2050</td>\n      <td>16.854545</td>\n      <td>0.674182</td>\n    </tr>\n  </tbody>\n</table>\n</div>"
     },
     "execution_count": 337,
     "metadata": {},
     "output_type": "execute_result"
    }
   ],
   "source": [
    "ship_time_inputs = pd.read_csv('/Users/jakob/PycharmProjects/H2_pathways_repo/data/raw/shipping_time_inputs.csv', delimiter=';', decimal=',')\n",
    "ship_time_inputs"
   ],
   "metadata": {
    "collapsed": false,
    "pycharm": {
     "name": "#%%\n"
    }
   }
  },
  {
   "cell_type": "code",
   "execution_count": 340,
   "outputs": [],
   "source": [
    "# Definition of the cost calculation function for the maritime shipping. Time relevant variables = capex [$/kg], opex [$/kg/a], lcoh in [$/kg_h2]\n",
    "def calculate_ship_costs(alpha_ship, capex_ship_y, opex_ship_y, d_sea, v_ship, h_ship, b_ship, f_ship, lcoh_ngr_y):\n",
    "    result = (alpha_ship * capex_ship_y + opex_ship_y)/(8760/(2*(d_sea/v_ship + h_ship)))/((1-(b_ship * d_sea/v_ship) - (f_ship  * d_sea)) + (b_ship * d_sea/v_ship + f_ship * d_sea) * lcoh_ngr_y)\n",
    "\n",
    "    return result"
   ],
   "metadata": {
    "collapsed": false,
    "pycharm": {
     "name": "#%%\n"
    }
   }
  },
  {
   "cell_type": "code",
   "execution_count": 499,
   "outputs": [
    {
     "data": {
      "text/plain": "      Shipping_costs\nYears               \n2020        0.054006\n2021         0.05241\n2022         0.02017\n2023        0.020925\n2024        0.025628\n2025        0.024707\n2026        0.023801\n2027        0.022914\n2028        0.022046\n2029        0.021195\n2030        0.020365\n2031        0.019237\n2032        0.018153\n2033        0.017111\n2034        0.016112\n2035        0.015154\n2036        0.014237\n2037        0.013359\n2038         0.01252\n2039        0.011718\n2040        0.010953\n2041        0.010223\n2042        0.009528\n2043        0.008866\n2044        0.008237\n2045        0.007639\n2046        0.007071\n2047        0.006533\n2048        0.006022\n2049        0.005539\n2050        0.005082",
      "text/html": "<div>\n<style scoped>\n    .dataframe tbody tr th:only-of-type {\n        vertical-align: middle;\n    }\n\n    .dataframe tbody tr th {\n        vertical-align: top;\n    }\n\n    .dataframe thead th {\n        text-align: right;\n    }\n</style>\n<table border=\"1\" class=\"dataframe\">\n  <thead>\n    <tr style=\"text-align: right;\">\n      <th></th>\n      <th>Shipping_costs</th>\n    </tr>\n    <tr>\n      <th>Years</th>\n      <th></th>\n    </tr>\n  </thead>\n  <tbody>\n    <tr>\n      <th>2020</th>\n      <td>0.054006</td>\n    </tr>\n    <tr>\n      <th>2021</th>\n      <td>0.05241</td>\n    </tr>\n    <tr>\n      <th>2022</th>\n      <td>0.02017</td>\n    </tr>\n    <tr>\n      <th>2023</th>\n      <td>0.020925</td>\n    </tr>\n    <tr>\n      <th>2024</th>\n      <td>0.025628</td>\n    </tr>\n    <tr>\n      <th>2025</th>\n      <td>0.024707</td>\n    </tr>\n    <tr>\n      <th>2026</th>\n      <td>0.023801</td>\n    </tr>\n    <tr>\n      <th>2027</th>\n      <td>0.022914</td>\n    </tr>\n    <tr>\n      <th>2028</th>\n      <td>0.022046</td>\n    </tr>\n    <tr>\n      <th>2029</th>\n      <td>0.021195</td>\n    </tr>\n    <tr>\n      <th>2030</th>\n      <td>0.020365</td>\n    </tr>\n    <tr>\n      <th>2031</th>\n      <td>0.019237</td>\n    </tr>\n    <tr>\n      <th>2032</th>\n      <td>0.018153</td>\n    </tr>\n    <tr>\n      <th>2033</th>\n      <td>0.017111</td>\n    </tr>\n    <tr>\n      <th>2034</th>\n      <td>0.016112</td>\n    </tr>\n    <tr>\n      <th>2035</th>\n      <td>0.015154</td>\n    </tr>\n    <tr>\n      <th>2036</th>\n      <td>0.014237</td>\n    </tr>\n    <tr>\n      <th>2037</th>\n      <td>0.013359</td>\n    </tr>\n    <tr>\n      <th>2038</th>\n      <td>0.01252</td>\n    </tr>\n    <tr>\n      <th>2039</th>\n      <td>0.011718</td>\n    </tr>\n    <tr>\n      <th>2040</th>\n      <td>0.010953</td>\n    </tr>\n    <tr>\n      <th>2041</th>\n      <td>0.010223</td>\n    </tr>\n    <tr>\n      <th>2042</th>\n      <td>0.009528</td>\n    </tr>\n    <tr>\n      <th>2043</th>\n      <td>0.008866</td>\n    </tr>\n    <tr>\n      <th>2044</th>\n      <td>0.008237</td>\n    </tr>\n    <tr>\n      <th>2045</th>\n      <td>0.007639</td>\n    </tr>\n    <tr>\n      <th>2046</th>\n      <td>0.007071</td>\n    </tr>\n    <tr>\n      <th>2047</th>\n      <td>0.006533</td>\n    </tr>\n    <tr>\n      <th>2048</th>\n      <td>0.006022</td>\n    </tr>\n    <tr>\n      <th>2049</th>\n      <td>0.005539</td>\n    </tr>\n    <tr>\n      <th>2050</th>\n      <td>0.005082</td>\n    </tr>\n  </tbody>\n</table>\n</div>"
     },
     "execution_count": 499,
     "metadata": {},
     "output_type": "execute_result"
    }
   ],
   "source": [
    "# Calculation of shipping costs [$/kg_h2] from 2030 to 2050.\n",
    "years = np.arange(2020, 2051)\n",
    "result = pd.DataFrame(index=years, columns=['Shipping_costs'])\n",
    "result.index.name = 'Years'\n",
    "\n",
    "for year in years:\n",
    "    # get capex, opex, xx\n",
    "    capex_ship_y = float(ship_time_inputs[ship_time_inputs.Years == year]['CAPEX ($/kg) Shipping'])\n",
    "    opex_ship_y = float(ship_time_inputs[ship_time_inputs.Years == year]['OPEX ($/kg/a) Shipping'])\n",
    "    lcoh_ngr_y = float(lcoh_ngr[lcoh_ngr.Years == year]['LCOH_NGR'])\n",
    "\n",
    "    # calculate costs of specific year\n",
    "    result.Shipping_costs.loc[year] = calculate_ship_costs(alpha_ship=alpha_ship, capex_ship_y=capex_ship_y, opex_ship_y=opex_ship_y, d_sea=d_sea, v_ship=v_ship, h_ship=h_ship, b_ship=b_ship, f_ship=f_ship, lcoh_ngr_y=lcoh_ngr_y)\n",
    "\n",
    "result"
   ],
   "metadata": {
    "collapsed": false,
    "pycharm": {
     "name": "#%%\n"
    }
   }
  },
  {
   "cell_type": "code",
   "execution_count": 500,
   "outputs": [],
   "source": [
    "# Create csv file from results dataframe\n",
    "path = r'/Users/jakob/PycharmProjects/H2_pathways_repo/data/processed'\n",
    "output_file = os.path.join(path, 'Shipping_costs.csv')\n",
    "result.to_csv(output_file, sep=';')"
   ],
   "metadata": {
    "collapsed": false,
    "pycharm": {
     "name": "#%%\n"
    }
   }
  },
  {
   "cell_type": "markdown",
   "source": [
    "## Plot shipping costs"
   ],
   "metadata": {
    "collapsed": false,
    "pycharm": {
     "name": "#%% md\n"
    }
   }
  },
  {
   "cell_type": "code",
   "execution_count": 300,
   "outputs": [
    {
     "data": {
      "text/plain": "<Figure size 720x432 with 1 Axes>",
      "image/png": "[encoded data removed]"
     },
     "metadata": {
      "needs_background": "light"
     },
     "output_type": "display_data"
    }
   ],
   "source": [
    "# Plot cost curve of hydrogen production from NGR with CCS\n",
    "fig, ax = plt.subplots(figsize=(10,6))\n",
    "plt.plot(result, color = 'green', linestyle = 'solid')\n",
    "plt.grid(True, axis = 'y')\n",
    "ax.set_axisbelow(True)\n",
    "plt.plot(result, color='green', linestyle='dashed')\n",
    "plt.title('Shipping costs over time')\n",
    "plt.legend(['Shipping costs in $/kg_H2'])\n",
    "plt.xlabel('Year')\n",
    "plt.ylabel('Cost [$/kg_H2]')\n",
    "plt.show()"
   ],
   "metadata": {
    "collapsed": false,
    "pycharm": {
     "name": "#%%\n"
    }
   }
  },
  {
   "cell_type": "code",
   "execution_count": null,
   "outputs": [],
   "source": [
    "#IMPORT TERMINAL"
   ],
   "metadata": {
    "collapsed": false,
    "pycharm": {
     "name": "#%%\n"
    }
   }
  },
  {
   "cell_type": "code",
   "execution_count": 325,
   "outputs": [],
   "source": [
    "# Definition of variables for the import terminal costs"
   ],
   "metadata": {
    "collapsed": false,
    "pycharm": {
     "name": "#%%\n"
    }
   }
  },
  {
   "cell_type": "code",
   "execution_count": 346,
   "outputs": [],
   "source": [
    "# Amortisation factor for the import terminal\n",
    "alpha_it = alpha_et"
   ],
   "metadata": {
    "collapsed": false,
    "pycharm": {
     "name": "#%%\n"
    }
   }
  },
  {
   "cell_type": "code",
   "execution_count": 347,
   "outputs": [
    {
     "data": {
      "text/plain": "4939.224387"
     },
     "execution_count": 347,
     "metadata": {},
     "output_type": "execute_result"
    }
   ],
   "source": [
    "# Capex for the import terminal in [$/kg_h2]\n",
    "capex_it = float(tea_terminals[tea_terminals.Terminals == 'CAPEX ($/tpa)']['Import_Terminal'].values)\n",
    "capex_it"
   ],
   "metadata": {
    "collapsed": false,
    "pycharm": {
     "name": "#%%\n"
    }
   }
  },
  {
   "cell_type": "code",
   "execution_count": 348,
   "outputs": [
    {
     "data": {
      "text/plain": "0.04"
     },
     "execution_count": 348,
     "metadata": {},
     "output_type": "execute_result"
    }
   ],
   "source": [
    "# Opex in % of capex\n",
    "opex_share_it = float(tea_terminals[tea_terminals.Terminals == 'Annual OPEX (% of CAPEX)']['Import_Terminal'].values)\n",
    "opex_share_it"
   ],
   "metadata": {
    "collapsed": false,
    "pycharm": {
     "name": "#%%\n"
    }
   }
  },
  {
   "cell_type": "code",
   "execution_count": 349,
   "outputs": [
    {
     "data": {
      "text/plain": "197.56897548"
     },
     "execution_count": 349,
     "metadata": {},
     "output_type": "execute_result"
    }
   ],
   "source": [
    "# Opex for the import terminal in [$/tpa]\n",
    "opex_it = opex_share_it * capex_it\n",
    "opex_it"
   ],
   "metadata": {
    "collapsed": false,
    "pycharm": {
     "name": "#%%\n"
    }
   }
  },
  {
   "cell_type": "code",
   "execution_count": 355,
   "outputs": [
    {
     "data": {
      "text/plain": "0.61"
     },
     "execution_count": 355,
     "metadata": {},
     "output_type": "execute_result"
    }
   ],
   "source": [
    "# Electricity consumption for the import terminal in [kWh/kg_h2]\n",
    "el_it = float(tea_terminals[tea_terminals.Terminals == 'Electricity use (kWh/kgH2)']['Import_Terminal'].values)\n",
    "el_it"
   ],
   "metadata": {
    "collapsed": false,
    "pycharm": {
     "name": "#%%\n"
    }
   }
  },
  {
   "cell_type": "code",
   "execution_count": 351,
   "outputs": [
    {
     "data": {
      "text/plain": "0.0466835326539"
     },
     "execution_count": 351,
     "metadata": {},
     "output_type": "execute_result"
    }
   ],
   "source": [
    "# Price for electricity in importing country [$/MWh]\n",
    "p_el\n"
   ],
   "metadata": {
    "collapsed": false,
    "pycharm": {
     "name": "#%%\n"
    }
   }
  },
  {
   "cell_type": "code",
   "execution_count": 356,
   "outputs": [
    {
     "data": {
      "text/plain": "0.001"
     },
     "execution_count": 356,
     "metadata": {},
     "output_type": "execute_result"
    }
   ],
   "source": [
    "# Import terminal boil-off in [%/h]\n",
    "b_it = float(tea_terminals[tea_terminals.Terminals == 'Boil-off (%/day)']['Import_Terminal'].values)\n",
    "b_it"
   ],
   "metadata": {
    "collapsed": false,
    "pycharm": {
     "name": "#%%\n"
    }
   }
  },
  {
   "cell_type": "code",
   "execution_count": 358,
   "outputs": [
    {
     "data": {
      "text/plain": "20.0"
     },
     "execution_count": 358,
     "metadata": {},
     "output_type": "execute_result"
    }
   ],
   "source": [
    "# Berthing time in import terminal in [h]\n",
    "t_it = float(tea_terminals[tea_terminals.Terminals == 'Storage length per load (d)']['Import_Terminal'].values)\n",
    "t_it"
   ],
   "metadata": {
    "collapsed": false,
    "pycharm": {
     "name": "#%%\n"
    }
   }
  },
  {
   "cell_type": "code",
   "execution_count": 502,
   "outputs": [],
   "source": [
    "# Import terminal costs in [$/kg_h2]:\n",
    "# Capex for the import terminal in [$/tpa]\n",
    "# Opex for the import terminal in [$/tpa]\n",
    "# Electricity consumption for the import terminal in [kWh/kg_h2]\n",
    "# Price for electricity in importing country [$/MWh]\n",
    "# Import terminal boil-off in [%/h]\n",
    "# Berthing time in import terminal in [h]\n",
    "# Cost of transported hydrogen in [$/kg_h2]\n",
    "years = np.arange(2020, 2051)\n",
    "result = pd.DataFrame(index=years, columns=['Import_terminal_costs'])\n",
    "result.index.name = 'Years'\n",
    "\n",
    "def calculate_import_terminal_costs(alpha_it, capex_it_y, opex_it_y, el_it, p_el_y, b_it, t_it, lcoh_ngr_y):\n",
    "    result = (alpha_it * capex_it_y/1000 + opex_it_y/1000) + el_it * p_el_y/1000 + b_it * t_it * lcoh_ngr_y\n",
    "\n",
    "    return result"
   ],
   "metadata": {
    "collapsed": false,
    "pycharm": {
     "name": "#%%\n"
    }
   }
  },
  {
   "cell_type": "code",
   "execution_count": 503,
   "outputs": [
    {
     "data": {
      "text/plain": "      Import_terminal_costs\nYears                      \n2020               0.676458\n2021               0.670937\n2022               0.726568\n2023               0.715581\n2024               0.690641\n2025               0.686282\n2026                0.68199\n2027               0.677844\n2028               0.673793\n2029               0.669875\n2030               0.666084\n2031               0.654744\n2032               0.643586\n2033               0.632633\n2034                 0.6218\n2035               0.611043\n2036               0.600376\n2037               0.589924\n2038               0.579712\n2039               0.569768\n2040                   0.56\n2041               0.550449\n2042               0.541139\n2043               0.532067\n2044               0.523226\n2045               0.514568\n2046               0.506043\n2047                0.49764\n2048               0.489426\n2049                0.48154\n2050               0.474053",
      "text/html": "<div>\n<style scoped>\n    .dataframe tbody tr th:only-of-type {\n        vertical-align: middle;\n    }\n\n    .dataframe tbody tr th {\n        vertical-align: top;\n    }\n\n    .dataframe thead th {\n        text-align: right;\n    }\n</style>\n<table border=\"1\" class=\"dataframe\">\n  <thead>\n    <tr style=\"text-align: right;\">\n      <th></th>\n      <th>Import_terminal_costs</th>\n    </tr>\n    <tr>\n      <th>Years</th>\n      <th></th>\n    </tr>\n  </thead>\n  <tbody>\n    <tr>\n      <th>2020</th>\n      <td>0.676458</td>\n    </tr>\n    <tr>\n      <th>2021</th>\n      <td>0.670937</td>\n    </tr>\n    <tr>\n      <th>2022</th>\n      <td>0.726568</td>\n    </tr>\n    <tr>\n      <th>2023</th>\n      <td>0.715581</td>\n    </tr>\n    <tr>\n      <th>2024</th>\n      <td>0.690641</td>\n    </tr>\n    <tr>\n      <th>2025</th>\n      <td>0.686282</td>\n    </tr>\n    <tr>\n      <th>2026</th>\n      <td>0.68199</td>\n    </tr>\n    <tr>\n      <th>2027</th>\n      <td>0.677844</td>\n    </tr>\n    <tr>\n      <th>2028</th>\n      <td>0.673793</td>\n    </tr>\n    <tr>\n      <th>2029</th>\n      <td>0.669875</td>\n    </tr>\n    <tr>\n      <th>2030</th>\n      <td>0.666084</td>\n    </tr>\n    <tr>\n      <th>2031</th>\n      <td>0.654744</td>\n    </tr>\n    <tr>\n      <th>2032</th>\n      <td>0.643586</td>\n    </tr>\n    <tr>\n      <th>2033</th>\n      <td>0.632633</td>\n    </tr>\n    <tr>\n      <th>2034</th>\n      <td>0.6218</td>\n    </tr>\n    <tr>\n      <th>2035</th>\n      <td>0.611043</td>\n    </tr>\n    <tr>\n      <th>2036</th>\n      <td>0.600376</td>\n    </tr>\n    <tr>\n      <th>2037</th>\n      <td>0.589924</td>\n    </tr>\n    <tr>\n      <th>2038</th>\n      <td>0.579712</td>\n    </tr>\n    <tr>\n      <th>2039</th>\n      <td>0.569768</td>\n    </tr>\n    <tr>\n      <th>2040</th>\n      <td>0.56</td>\n    </tr>\n    <tr>\n      <th>2041</th>\n      <td>0.550449</td>\n    </tr>\n    <tr>\n      <th>2042</th>\n      <td>0.541139</td>\n    </tr>\n    <tr>\n      <th>2043</th>\n      <td>0.532067</td>\n    </tr>\n    <tr>\n      <th>2044</th>\n      <td>0.523226</td>\n    </tr>\n    <tr>\n      <th>2045</th>\n      <td>0.514568</td>\n    </tr>\n    <tr>\n      <th>2046</th>\n      <td>0.506043</td>\n    </tr>\n    <tr>\n      <th>2047</th>\n      <td>0.49764</td>\n    </tr>\n    <tr>\n      <th>2048</th>\n      <td>0.489426</td>\n    </tr>\n    <tr>\n      <th>2049</th>\n      <td>0.48154</td>\n    </tr>\n    <tr>\n      <th>2050</th>\n      <td>0.474053</td>\n    </tr>\n  </tbody>\n</table>\n</div>"
     },
     "execution_count": 503,
     "metadata": {},
     "output_type": "execute_result"
    }
   ],
   "source": [
    "for year in years:\n",
    "    # get capex, opex, xx\n",
    "    capex_it_y = float(ter_time_inputs[ter_time_inputs.Years == year]['CAPEX (tpa) Import Terminal'])\n",
    "    opex_it_y = float(ter_time_inputs[ter_time_inputs.Years == year]['OPEX (tpa) Import Terminal'])\n",
    "    p_el_y = float(p_electricity[p_electricity.Years == year]['Norway'])\n",
    "    lcoh_ngr_y = float(lcoh_ngr[lcoh_ngr.Years == year]['LCOH_NGR'])\n",
    "\n",
    "    # calculate costs of specific year\n",
    "    result.Import_terminal_costs.loc[year] = calculate_import_terminal_costs(alpha_it=alpha_it, capex_it_y=capex_it_y,\n",
    "                                                              opex_it_y=opex_it_y, el_it=el_it, p_el_y=p_el_y, b_it=b_it, t_it=t_it, lcoh_ngr_y=lcoh_ngr_y)\n",
    "\n",
    "result"
   ],
   "metadata": {
    "collapsed": false,
    "pycharm": {
     "name": "#%%\n"
    }
   }
  },
  {
   "cell_type": "code",
   "execution_count": 504,
   "outputs": [],
   "source": [
    "# Create csv file from results dataframe\n",
    "path = r'/Users/jakob/PycharmProjects/H2_pathways_repo/data/processed'\n",
    "output_file = os.path.join(path, 'Import_terminal_costs.csv')\n",
    "result.to_csv(output_file, sep=';')"
   ],
   "metadata": {
    "collapsed": false,
    "pycharm": {
     "name": "#%%\n"
    }
   }
  },
  {
   "cell_type": "code",
   "execution_count": 370,
   "outputs": [
    {
     "data": {
      "text/plain": "<Figure size 432x288 with 1 Axes>",
      "image/png": "[encoded data removed]"
     },
     "metadata": {
      "needs_background": "light"
     },
     "output_type": "display_data"
    }
   ],
   "source": [
    "# Plot cost curve of hydrogen production from NGR with CCS\n",
    "plt.plot(result, color = 'red', linestyle = 'dashed')\n",
    "plt.title('Cost curve for import terminal costs')\n",
    "plt.legend(['Import terminal costs in $/kg_H2'])\n",
    "plt.xlabel('Year')\n",
    "plt.ylabel('Cost [$/kg_H2]')\n",
    "plt.show()\n"
   ],
   "metadata": {
    "collapsed": false,
    "pycharm": {
     "name": "#%%\n"
    }
   }
  },
  {
   "cell_type": "markdown",
   "source": [
    "# Total costs for seaborne transport"
   ],
   "metadata": {
    "collapsed": false,
    "pycharm": {
     "name": "#%% md\n"
    }
   }
  },
  {
   "cell_type": "code",
   "execution_count": 528,
   "outputs": [],
   "source": [
    "liq_costs = pd.read_csv('/Users/jakob/PycharmProjects/H2_pathways_repo/data/processed/Liquefaction_costs.csv', delimiter=';', decimal=',')\n",
    "et_costs = pd.read_csv('/Users/jakob/PycharmProjects/H2_pathways_repo/data/processed/Export_terminal_costs.csv', delimiter=';', decimal=',')\n",
    "ship_costs = pd.read_csv('/Users/jakob/PycharmProjects/H2_pathways_repo/data/processed/Shipping_costs.csv', delimiter=';', decimal=',')\n",
    "it_costs = pd.read_csv('/Users/jakob/PycharmProjects/H2_pathways_repo/data/processed/Import_terminal_costs.csv', delimiter=';', decimal=',')"
   ],
   "metadata": {
    "collapsed": false,
    "pycharm": {
     "name": "#%%\n"
    }
   }
  },
  {
   "cell_type": "code",
   "execution_count": 533,
   "outputs": [],
   "source": [
    "years = np.arange(2020, 2051)\n",
    "result = pd.DataFrame(index=years, columns=['Seaborne_transport_costs'])\n",
    "result.index.name = 'Years'"
   ],
   "metadata": {
    "collapsed": false,
    "pycharm": {
     "name": "#%%\n"
    }
   }
  },
  {
   "cell_type": "code",
   "execution_count": 538,
   "outputs": [],
   "source": [
    "# Calculate total transport costs from liquefaction costs (LC), export terminal costs (EC), Shipping costs (SC), import terminal costs (IC)\n",
    "def calculate_seaborne_transport_costs(LC,EC,SC,IC):\n",
    "    result = LC + EC + SC + IC\n",
    "\n",
    "    return result"
   ],
   "metadata": {
    "collapsed": false,
    "pycharm": {
     "name": "#%%\n"
    }
   }
  },
  {
   "cell_type": "code",
   "execution_count": 539,
   "outputs": [
    {
     "data": {
      "text/plain": "      Seaborne_transport_costs\nYears                         \n2020                  1.915354\n2021                  1.898957\n2022                  1.921466\n2023                  1.899883\n2024                  1.864839\n2025                   1.84628\n2026                  1.826443\n2027                  1.808378\n2028                  1.789969\n2029                  1.772032\n2030                  1.754742\n2031                  1.731456\n2032                  1.709883\n2033                  1.690552\n2034                  1.670613\n2035                  1.648617\n2036                  1.624778\n2037                   1.60272\n2038                  1.582896\n2039                  1.565883\n2040                  1.548688\n2041                  1.532321\n2042                  1.517172\n2043                  1.502871\n2044                  1.488991\n2045                  1.473955\n2046                  1.456162\n2047                  1.435131\n2048                  1.412478\n2049                  1.391602\n2050                  1.374018",
      "text/html": "<div>\n<style scoped>\n    .dataframe tbody tr th:only-of-type {\n        vertical-align: middle;\n    }\n\n    .dataframe tbody tr th {\n        vertical-align: top;\n    }\n\n    .dataframe thead th {\n        text-align: right;\n    }\n</style>\n<table border=\"1\" class=\"dataframe\">\n  <thead>\n    <tr style=\"text-align: right;\">\n      <th></th>\n      <th>Seaborne_transport_costs</th>\n    </tr>\n    <tr>\n      <th>Years</th>\n      <th></th>\n    </tr>\n  </thead>\n  <tbody>\n    <tr>\n      <th>2020</th>\n      <td>1.915354</td>\n    </tr>\n    <tr>\n      <th>2021</th>\n      <td>1.898957</td>\n    </tr>\n    <tr>\n      <th>2022</th>\n      <td>1.921466</td>\n    </tr>\n    <tr>\n      <th>2023</th>\n      <td>1.899883</td>\n    </tr>\n    <tr>\n      <th>2024</th>\n      <td>1.864839</td>\n    </tr>\n    <tr>\n      <th>2025</th>\n      <td>1.84628</td>\n    </tr>\n    <tr>\n      <th>2026</th>\n      <td>1.826443</td>\n    </tr>\n    <tr>\n      <th>2027</th>\n      <td>1.808378</td>\n    </tr>\n    <tr>\n      <th>2028</th>\n      <td>1.789969</td>\n    </tr>\n    <tr>\n      <th>2029</th>\n      <td>1.772032</td>\n    </tr>\n    <tr>\n      <th>2030</th>\n      <td>1.754742</td>\n    </tr>\n    <tr>\n      <th>2031</th>\n      <td>1.731456</td>\n    </tr>\n    <tr>\n      <th>2032</th>\n      <td>1.709883</td>\n    </tr>\n    <tr>\n      <th>2033</th>\n      <td>1.690552</td>\n    </tr>\n    <tr>\n      <th>2034</th>\n      <td>1.670613</td>\n    </tr>\n    <tr>\n      <th>2035</th>\n      <td>1.648617</td>\n    </tr>\n    <tr>\n      <th>2036</th>\n      <td>1.624778</td>\n    </tr>\n    <tr>\n      <th>2037</th>\n      <td>1.60272</td>\n    </tr>\n    <tr>\n      <th>2038</th>\n      <td>1.582896</td>\n    </tr>\n    <tr>\n      <th>2039</th>\n      <td>1.565883</td>\n    </tr>\n    <tr>\n      <th>2040</th>\n      <td>1.548688</td>\n    </tr>\n    <tr>\n      <th>2041</th>\n      <td>1.532321</td>\n    </tr>\n    <tr>\n      <th>2042</th>\n      <td>1.517172</td>\n    </tr>\n    <tr>\n      <th>2043</th>\n      <td>1.502871</td>\n    </tr>\n    <tr>\n      <th>2044</th>\n      <td>1.488991</td>\n    </tr>\n    <tr>\n      <th>2045</th>\n      <td>1.473955</td>\n    </tr>\n    <tr>\n      <th>2046</th>\n      <td>1.456162</td>\n    </tr>\n    <tr>\n      <th>2047</th>\n      <td>1.435131</td>\n    </tr>\n    <tr>\n      <th>2048</th>\n      <td>1.412478</td>\n    </tr>\n    <tr>\n      <th>2049</th>\n      <td>1.391602</td>\n    </tr>\n    <tr>\n      <th>2050</th>\n      <td>1.374018</td>\n    </tr>\n  </tbody>\n</table>\n</div>"
     },
     "execution_count": 539,
     "metadata": {},
     "output_type": "execute_result"
    }
   ],
   "source": [
    "for year in years:\n",
    "    # get all costs\n",
    "    LC = float(liq_costs[liq_costs.Years == year]['Liquefaction_costs'])\n",
    "    EC = float(et_costs[et_costs.Years == year]['Export_terminal_costs'])\n",
    "    SC = float(ship_costs[ship_costs.Years == year]['Shipping_costs'])\n",
    "    IC = float(it_costs[it_costs.Years == year]['Import_terminal_costs'])\n",
    "\n",
    "    # calculate costs of specific year\n",
    "    result.Seaborne_transport_costs.loc[year] = calculate_seaborne_transport_costs(LC=LC,EC=EC, SC=SC, IC=IC)\n",
    "\n",
    "result"
   ],
   "metadata": {
    "collapsed": false,
    "pycharm": {
     "name": "#%%\n"
    }
   }
  },
  {
   "cell_type": "code",
   "execution_count": 540,
   "outputs": [],
   "source": [
    "# Create csv file from results dataframe\n",
    "path = r'/Users/jakob/PycharmProjects/H2_pathways_repo/data/processed'\n",
    "output_file = os.path.join(path, 'Seaborne_transport_costs.csv')\n",
    "result.to_csv(output_file, sep=';')"
   ],
   "metadata": {
    "collapsed": false,
    "pycharm": {
     "name": "#%%\n"
    }
   }
  },
  {
   "cell_type": "code",
   "execution_count": 541,
   "outputs": [
    {
     "data": {
      "text/plain": "<Figure size 432x288 with 1 Axes>",
      "image/png": "[encoded data removed]"
     },
     "metadata": {
      "needs_background": "light"
     },
     "output_type": "display_data"
    }
   ],
   "source": [
    "# Plot cost curve for seaborne transport\n",
    "plt.plot(result, color='blue', linestyle='dashed')\n",
    "plt.title('Cost curve for seaborne transport')\n",
    "plt.legend(['Seaborne transport costs in $/kg_H2'])\n",
    "plt.xlabel('Year')\n",
    "plt.ylabel('Cost [$/kg_H2]')\n",
    "plt.show()"
   ],
   "metadata": {
    "collapsed": false,
    "pycharm": {
     "name": "#%%\n"
    }
   }
  },
  {
   "cell_type": "code",
   "execution_count": 575,
   "outputs": [],
   "source": [
    "#TC_pipe_high = 1.5"
   ],
   "metadata": {
    "collapsed": false,
    "pycharm": {
     "name": "#%%\n"
    }
   }
  },
  {
   "cell_type": "code",
   "execution_count": 576,
   "outputs": [
    {
     "data": {
      "text/plain": "    Years Seaborne_transport_costs\n0    2020        1.915353652011996\n1    2021       1.8989573747072543\n2    2022       1.9214664474480345\n3    2023       1.8998825964514232\n4    2024       1.8648386599485007\n5    2025       1.8462804358086857\n6    2026        1.826443196032222\n7    2027         1.80837768029987\n8    2028       1.7899694435995537\n9    2029        1.772032066622823\n10   2030        1.754741526394477\n11   2031       1.7314562954606427\n12   2032       1.7098832091398193\n13   2033        1.690552017981083\n14   2034       1.6706129532387268\n15   2035       1.6486171488194061\n16   2036       1.6247777226929627\n17   2037        1.602720307819369\n18   2038       1.5828963771075475\n19   2039       1.5658828630098285\n20   2040       1.5486878173543197\n21   2041       1.5323209558780566\n22   2042       1.5171719851084289\n23   2043       1.5028711894038127\n24   2044        1.488991483648603\n25   2045       1.4739546220637845\n26   2046       1.4561616218589335\n27   2047        1.435130941434235\n28   2048       1.4124777389104286\n29   2049       1.3916021436764359\n30   2050        1.374018038090604",
      "text/html": "<div>\n<style scoped>\n    .dataframe tbody tr th:only-of-type {\n        vertical-align: middle;\n    }\n\n    .dataframe tbody tr th {\n        vertical-align: top;\n    }\n\n    .dataframe thead th {\n        text-align: right;\n    }\n</style>\n<table border=\"1\" class=\"dataframe\">\n  <thead>\n    <tr style=\"text-align: right;\">\n      <th></th>\n      <th>Years</th>\n      <th>Seaborne_transport_costs</th>\n    </tr>\n  </thead>\n  <tbody>\n    <tr>\n      <th>0</th>\n      <td>2020</td>\n      <td>1.915353652011996</td>\n    </tr>\n    <tr>\n      <th>1</th>\n      <td>2021</td>\n      <td>1.8989573747072543</td>\n    </tr>\n    <tr>\n      <th>2</th>\n      <td>2022</td>\n      <td>1.9214664474480345</td>\n    </tr>\n    <tr>\n      <th>3</th>\n      <td>2023</td>\n      <td>1.8998825964514232</td>\n    </tr>\n    <tr>\n      <th>4</th>\n      <td>2024</td>\n      <td>1.8648386599485007</td>\n    </tr>\n    <tr>\n      <th>5</th>\n      <td>2025</td>\n      <td>1.8462804358086857</td>\n    </tr>\n    <tr>\n      <th>6</th>\n      <td>2026</td>\n      <td>1.826443196032222</td>\n    </tr>\n    <tr>\n      <th>7</th>\n      <td>2027</td>\n      <td>1.80837768029987</td>\n    </tr>\n    <tr>\n      <th>8</th>\n      <td>2028</td>\n      <td>1.7899694435995537</td>\n    </tr>\n    <tr>\n      <th>9</th>\n      <td>2029</td>\n      <td>1.772032066622823</td>\n    </tr>\n    <tr>\n      <th>10</th>\n      <td>2030</td>\n      <td>1.754741526394477</td>\n    </tr>\n    <tr>\n      <th>11</th>\n      <td>2031</td>\n      <td>1.7314562954606427</td>\n    </tr>\n    <tr>\n      <th>12</th>\n      <td>2032</td>\n      <td>1.7098832091398193</td>\n    </tr>\n    <tr>\n      <th>13</th>\n      <td>2033</td>\n      <td>1.690552017981083</td>\n    </tr>\n    <tr>\n      <th>14</th>\n      <td>2034</td>\n      <td>1.6706129532387268</td>\n    </tr>\n    <tr>\n      <th>15</th>\n      <td>2035</td>\n      <td>1.6486171488194061</td>\n    </tr>\n    <tr>\n      <th>16</th>\n      <td>2036</td>\n      <td>1.6247777226929627</td>\n    </tr>\n    <tr>\n      <th>17</th>\n      <td>2037</td>\n      <td>1.602720307819369</td>\n    </tr>\n    <tr>\n      <th>18</th>\n      <td>2038</td>\n      <td>1.5828963771075475</td>\n    </tr>\n    <tr>\n      <th>19</th>\n      <td>2039</td>\n      <td>1.5658828630098285</td>\n    </tr>\n    <tr>\n      <th>20</th>\n      <td>2040</td>\n      <td>1.5486878173543197</td>\n    </tr>\n    <tr>\n      <th>21</th>\n      <td>2041</td>\n      <td>1.5323209558780566</td>\n    </tr>\n    <tr>\n      <th>22</th>\n      <td>2042</td>\n      <td>1.5171719851084289</td>\n    </tr>\n    <tr>\n      <th>23</th>\n      <td>2043</td>\n      <td>1.5028711894038127</td>\n    </tr>\n    <tr>\n      <th>24</th>\n      <td>2044</td>\n      <td>1.488991483648603</td>\n    </tr>\n    <tr>\n      <th>25</th>\n      <td>2045</td>\n      <td>1.4739546220637845</td>\n    </tr>\n    <tr>\n      <th>26</th>\n      <td>2046</td>\n      <td>1.4561616218589335</td>\n    </tr>\n    <tr>\n      <th>27</th>\n      <td>2047</td>\n      <td>1.435130941434235</td>\n    </tr>\n    <tr>\n      <th>28</th>\n      <td>2048</td>\n      <td>1.4124777389104286</td>\n    </tr>\n    <tr>\n      <th>29</th>\n      <td>2049</td>\n      <td>1.3916021436764359</td>\n    </tr>\n    <tr>\n      <th>30</th>\n      <td>2050</td>\n      <td>1.374018038090604</td>\n    </tr>\n  </tbody>\n</table>\n</div>"
     },
     "execution_count": 576,
     "metadata": {},
     "output_type": "execute_result"
    }
   ],
   "source": [
    "# Costs for seaborne transport via ship [$/kg_h2]\n",
    "sea_costs = pd.read_csv('/Users/jakob/PycharmProjects/H2_pathways_repo/data/processed/Seaborne_transport_costs.csv', delimiter=';', decimal=',')\n",
    "sea_costs"
   ],
   "metadata": {
    "collapsed": false,
    "pycharm": {
     "name": "#%%\n"
    }
   }
  },
  {
   "cell_type": "code",
   "execution_count": 577,
   "outputs": [],
   "source": [
    "def choose_minimal_transport_costs(TC_pipe_high,TC_sea):\n",
    "    result = min(TC_pipe_high, TC_sea)\n",
    "\n",
    "    return result"
   ],
   "metadata": {
    "collapsed": false,
    "pycharm": {
     "name": "#%%\n"
    }
   }
  },
  {
   "cell_type": "code",
   "execution_count": 581,
   "outputs": [
    {
     "data": {
      "text/plain": "      Minimal_transport_costs\nYears                        \n2020                 0.814678\n2021                 0.814678\n2022                 0.814678\n2023                 0.814678\n2024                 0.814678\n2025                 0.814678\n2026                 0.814678\n2027                 0.814678\n2028                 0.814678\n2029                 0.814678\n2030                 0.814678\n2031                 0.814678\n2032                 0.814678\n2033                 0.814678\n2034                 0.814678\n2035                 0.814678\n2036                 0.814678\n2037                 0.814678\n2038                 0.814678\n2039                 0.814678\n2040                 0.814678\n2041                 0.814678\n2042                 0.814678\n2043                 0.814678\n2044                 0.814678\n2045                 0.814678\n2046                 0.814678\n2047                 0.814678\n2048                 0.814678\n2049                 0.814678\n2050                 0.814678",
      "text/html": "<div>\n<style scoped>\n    .dataframe tbody tr th:only-of-type {\n        vertical-align: middle;\n    }\n\n    .dataframe tbody tr th {\n        vertical-align: top;\n    }\n\n    .dataframe thead th {\n        text-align: right;\n    }\n</style>\n<table border=\"1\" class=\"dataframe\">\n  <thead>\n    <tr style=\"text-align: right;\">\n      <th></th>\n      <th>Minimal_transport_costs</th>\n    </tr>\n    <tr>\n      <th>Years</th>\n      <th></th>\n    </tr>\n  </thead>\n  <tbody>\n    <tr>\n      <th>2020</th>\n      <td>0.814678</td>\n    </tr>\n    <tr>\n      <th>2021</th>\n      <td>0.814678</td>\n    </tr>\n    <tr>\n      <th>2022</th>\n      <td>0.814678</td>\n    </tr>\n    <tr>\n      <th>2023</th>\n      <td>0.814678</td>\n    </tr>\n    <tr>\n      <th>2024</th>\n      <td>0.814678</td>\n    </tr>\n    <tr>\n      <th>2025</th>\n      <td>0.814678</td>\n    </tr>\n    <tr>\n      <th>2026</th>\n      <td>0.814678</td>\n    </tr>\n    <tr>\n      <th>2027</th>\n      <td>0.814678</td>\n    </tr>\n    <tr>\n      <th>2028</th>\n      <td>0.814678</td>\n    </tr>\n    <tr>\n      <th>2029</th>\n      <td>0.814678</td>\n    </tr>\n    <tr>\n      <th>2030</th>\n      <td>0.814678</td>\n    </tr>\n    <tr>\n      <th>2031</th>\n      <td>0.814678</td>\n    </tr>\n    <tr>\n      <th>2032</th>\n      <td>0.814678</td>\n    </tr>\n    <tr>\n      <th>2033</th>\n      <td>0.814678</td>\n    </tr>\n    <tr>\n      <th>2034</th>\n      <td>0.814678</td>\n    </tr>\n    <tr>\n      <th>2035</th>\n      <td>0.814678</td>\n    </tr>\n    <tr>\n      <th>2036</th>\n      <td>0.814678</td>\n    </tr>\n    <tr>\n      <th>2037</th>\n      <td>0.814678</td>\n    </tr>\n    <tr>\n      <th>2038</th>\n      <td>0.814678</td>\n    </tr>\n    <tr>\n      <th>2039</th>\n      <td>0.814678</td>\n    </tr>\n    <tr>\n      <th>2040</th>\n      <td>0.814678</td>\n    </tr>\n    <tr>\n      <th>2041</th>\n      <td>0.814678</td>\n    </tr>\n    <tr>\n      <th>2042</th>\n      <td>0.814678</td>\n    </tr>\n    <tr>\n      <th>2043</th>\n      <td>0.814678</td>\n    </tr>\n    <tr>\n      <th>2044</th>\n      <td>0.814678</td>\n    </tr>\n    <tr>\n      <th>2045</th>\n      <td>0.814678</td>\n    </tr>\n    <tr>\n      <th>2046</th>\n      <td>0.814678</td>\n    </tr>\n    <tr>\n      <th>2047</th>\n      <td>0.814678</td>\n    </tr>\n    <tr>\n      <th>2048</th>\n      <td>0.814678</td>\n    </tr>\n    <tr>\n      <th>2049</th>\n      <td>0.814678</td>\n    </tr>\n    <tr>\n      <th>2050</th>\n      <td>0.814678</td>\n    </tr>\n  </tbody>\n</table>\n</div>"
     },
     "execution_count": 581,
     "metadata": {},
     "output_type": "execute_result"
    }
   ],
   "source": [
    "years = np.arange(2020, 2051)\n",
    "result = pd.DataFrame(index=years, columns=['Minimal_transport_costs'])\n",
    "result.index.name = 'Years'\n",
    "\n",
    "for year in years:\n",
    "    # get all costshas\n",
    "    TC_sea = float(sea_costs[sea_costs.Years == year]['Seaborne_transport_costs'])\n",
    "\n",
    "    # calculate costs of specific year\n",
    "    result.Minimal_transport_costs.loc[year] = choose_minimal_transport_costs(TC_pipe_high=TC_pipe_high,TC_sea=TC_sea)\n",
    "\n",
    "result"
   ],
   "metadata": {
    "collapsed": false,
    "pycharm": {
     "name": "#%%\n"
    }
   }
  },
  {
   "cell_type": "code",
   "execution_count": null,
   "outputs": [],
   "source": [
    "# Create csv file from results dataframe\n",
    "path = r'/Users/jakob/PycharmProjects/H2_pathways_repo/data/processed'\n",
    "output_file = os.path.join(path, 'Minimal_transport_costs.csv')\n",
    "result.to_csv(output_file, sep=';')"
   ],
   "metadata": {
    "collapsed": false,
    "pycharm": {
     "name": "#%%\n"
    }
   }
  },
  {
   "cell_type": "code",
   "execution_count": 574,
   "outputs": [
    {
     "data": {
      "text/plain": "<Figure size 432x288 with 1 Axes>",
      "image/png": "[encoded data removed]"
     },
     "metadata": {
      "needs_background": "light"
     },
     "output_type": "display_data"
    }
   ],
   "source": [
    "# Plot cost curve for seaborne transport\n",
    "plt.plot(result, color='cyan', linestyle='dashed')\n",
    "plt.title('Cost curve for transport')\n",
    "plt.legend(['Minimal transport costs in $/kg_H2'])\n",
    "plt.xlabel('Year')\n",
    "plt.ylabel('Cost [$/kg_H2]')\n",
    "plt.show()\n"
   ],
   "metadata": {
    "collapsed": false,
    "pycharm": {
     "name": "#%%\n"
    }
   }
  },
  {
   "cell_type": "code",
   "execution_count": null,
   "outputs": [],
   "source": [],
   "metadata": {
    "collapsed": false,
    "pycharm": {
     "name": "#%%\n"
    }
   }
  }
 ],
 "metadata": {
  "kernelspec": {
   "display_name": "Python 3",
   "language": "python",
   "name": "python3"
  },
  "language_info": {
   "codemirror_mode": {
    "name": "ipython",
    "version": 2
   },
   "file_extension": ".py",
   "mimetype": "text/x-python",
   "name": "python",
   "nbconvert_exporter": "python",
   "pygments_lexer": "ipython2",
   "version": "2.7.6"
  }
 },
 "nbformat": 4,
 "nbformat_minor": 0
}