{
 "cells": [
  {
   "cell_type": "code",
   "execution_count": 138,
   "metadata": {
    "collapsed": true,
    "pycharm": {
     "name": "#%%\n"
    }
   },
   "outputs": [],
   "source": [
    "import numpy as np\n",
    "import pandas as pd\n",
    "from matplotlib import pyplot as plt\n",
    "import os\n",
    "from openpyxl import load_workbook\n",
    "import matplotlib.ticker as mtick"
   ]
  },
  {
   "cell_type": "markdown",
   "source": [
    "## Read inputs"
   ],
   "metadata": {
    "collapsed": false,
    "pycharm": {
     "name": "#%% md\n"
    }
   }
  },
  {
   "cell_type": "code",
   "execution_count": 139,
   "outputs": [],
   "source": [
    "path = r'\\\\dena.de\\Daten\\Home\\Reuter\\Desktop\\H2_pathways_repo\\data\\raw\\H2_supply_route_assessment.xlsx'\n",
    "path_plt = r'\\\\dena.de\\Daten\\Home\\Reuter\\Desktop\\H2_pathways_repo\\Plots'\n",
    "path_csv = r'\\\\dena.de\\Daten\\Home\\Reuter\\Desktop\\H2_pathways_repo\\data\\processed'"
   ],
   "metadata": {
    "collapsed": false,
    "pycharm": {
     "name": "#%%\n"
    }
   }
  },
  {
   "cell_type": "code",
   "execution_count": 140,
   "outputs": [
    {
     "data": {
      "text/plain": "                                                      Parameter  \\\nID                                                                \nDiscount rate [%]                                          0.05   \nOffshore Capex cost factor                                  1.7   \nPipeline Opex [€/a as % of Capex]                         0.017   \nCompressor Opex [€/a as % of Capex]                       0.009   \nLow - Compression capacity @ 48inch [MW_el/1000km]          190   \n...                                                         ...   \nHigh - retrofit Offshore (EHB 2022) Capex Compr...         1.06   \nNaN                                                         NaN   \nNaN                                                         NaN   \nNaN                                                         NaN   \nNaN                                                 IEAGHG 2017   \n\n                                                               Reference  2020  \nID                                                                              \nDiscount rate [%]                                                    NaN   NaN  \nOffshore Capex cost factor                          EHB 2022; IRENA 2022   NaN  \nPipeline Opex [€/a as % of Capex]                                    NaN   NaN  \nCompressor Opex [€/a as % of Capex]                                  NaN   NaN  \nLow - Compression capacity @ 48inch [MW_el/1000km]              EHB 2020   NaN  \n...                                                                  ...   ...  \nHigh - retrofit Offshore (EHB 2022) Capex Compr...                   NaN   NaN  \nNaN                                                                  NaN   NaN  \nNaN                                                                  NaN   NaN  \nNaN                                                                  NaN   NaN  \nNaN                                                                  NaN   NaN  \n\n[90 rows x 3 columns]",
      "text/html": "<div>\n<style scoped>\n    .dataframe tbody tr th:only-of-type {\n        vertical-align: middle;\n    }\n\n    .dataframe tbody tr th {\n        vertical-align: top;\n    }\n\n    .dataframe thead th {\n        text-align: right;\n    }\n</style>\n<table border=\"1\" class=\"dataframe\">\n  <thead>\n    <tr style=\"text-align: right;\">\n      <th></th>\n      <th>Parameter</th>\n      <th>Reference</th>\n      <th>2020</th>\n    </tr>\n    <tr>\n      <th>ID</th>\n      <th></th>\n      <th></th>\n      <th></th>\n    </tr>\n  </thead>\n  <tbody>\n    <tr>\n      <th>Discount rate [%]</th>\n      <td>0.05</td>\n      <td>NaN</td>\n      <td>NaN</td>\n    </tr>\n    <tr>\n      <th>Offshore Capex cost factor</th>\n      <td>1.7</td>\n      <td>EHB 2022; IRENA 2022</td>\n      <td>NaN</td>\n    </tr>\n    <tr>\n      <th>Pipeline Opex [€/a as % of Capex]</th>\n      <td>0.017</td>\n      <td>NaN</td>\n      <td>NaN</td>\n    </tr>\n    <tr>\n      <th>Compressor Opex [€/a as % of Capex]</th>\n      <td>0.009</td>\n      <td>NaN</td>\n      <td>NaN</td>\n    </tr>\n    <tr>\n      <th>Low - Compression capacity @ 48inch [MW_el/1000km]</th>\n      <td>190</td>\n      <td>EHB 2020</td>\n      <td>NaN</td>\n    </tr>\n    <tr>\n      <th>...</th>\n      <td>...</td>\n      <td>...</td>\n      <td>...</td>\n    </tr>\n    <tr>\n      <th>High - retrofit Offshore (EHB 2022) Capex Compression [€/kg/1000km]</th>\n      <td>1.06</td>\n      <td>NaN</td>\n      <td>NaN</td>\n    </tr>\n    <tr>\n      <th>NaN</th>\n      <td>NaN</td>\n      <td>NaN</td>\n      <td>NaN</td>\n    </tr>\n    <tr>\n      <th>NaN</th>\n      <td>NaN</td>\n      <td>NaN</td>\n      <td>NaN</td>\n    </tr>\n    <tr>\n      <th>NaN</th>\n      <td>NaN</td>\n      <td>NaN</td>\n      <td>NaN</td>\n    </tr>\n    <tr>\n      <th>NaN</th>\n      <td>IEAGHG 2017</td>\n      <td>NaN</td>\n      <td>NaN</td>\n    </tr>\n  </tbody>\n</table>\n<p>90 rows × 3 columns</p>\n</div>"
     },
     "execution_count": 140,
     "metadata": {},
     "output_type": "execute_result"
    }
   ],
   "source": [
    "#Definition of variables for pipeline transport costs\n",
    "tea_pipe = pd.read_excel(path, sheet_name='Pipeline Transport', decimal=',', index_col=0)\n",
    "tea_pipe"
   ],
   "metadata": {
    "collapsed": false,
    "pycharm": {
     "name": "#%%\n"
    }
   }
  },
  {
   "cell_type": "code",
   "execution_count": 141,
   "outputs": [
    {
     "data": {
      "text/plain": "           Origin_Country Destination_Country  sea distance (km)  \\\n0    United Arab Emirates             Germany           12443.10   \n1                  Angola             Germany            9809.65   \n2               Argentina             Germany           14063.90   \n3                 Austria             Germany            6005.96   \n4               Australia             Germany           21212.10   \n..                    ...                 ...                ...   \n955           Philippines               China            1782.35   \n956               Iceland               China           20454.60   \n957      Papua New Guinea               China            6298.52   \n958              Cameroon               China           19717.70   \n959          South Africa               China           12853.50   \n\n     onshore distance (km)  offshore distance (km) Starting point  \n0                      NaN                     NaN            NaN  \n1                      NaN                     NaN            NaN  \n2                      NaN                     NaN            NaN  \n3                    500.0                     0.0            NaN  \n4                      NaN                     NaN            NaN  \n..                     ...                     ...            ...  \n955                    NaN                     NaN            NaN  \n956                    NaN                     NaN            NaN  \n957                    NaN                     NaN            NaN  \n958                    NaN                     NaN            NaN  \n959                    NaN                     NaN            NaN  \n\n[960 rows x 6 columns]",
      "text/html": "<div>\n<style scoped>\n    .dataframe tbody tr th:only-of-type {\n        vertical-align: middle;\n    }\n\n    .dataframe tbody tr th {\n        vertical-align: top;\n    }\n\n    .dataframe thead th {\n        text-align: right;\n    }\n</style>\n<table border=\"1\" class=\"dataframe\">\n  <thead>\n    <tr style=\"text-align: right;\">\n      <th></th>\n      <th>Origin_Country</th>\n      <th>Destination_Country</th>\n      <th>sea distance (km)</th>\n      <th>onshore distance (km)</th>\n      <th>offshore distance (km)</th>\n      <th>Starting point</th>\n    </tr>\n  </thead>\n  <tbody>\n    <tr>\n      <th>0</th>\n      <td>United Arab Emirates</td>\n      <td>Germany</td>\n      <td>12443.10</td>\n      <td>NaN</td>\n      <td>NaN</td>\n      <td>NaN</td>\n    </tr>\n    <tr>\n      <th>1</th>\n      <td>Angola</td>\n      <td>Germany</td>\n      <td>9809.65</td>\n      <td>NaN</td>\n      <td>NaN</td>\n      <td>NaN</td>\n    </tr>\n    <tr>\n      <th>2</th>\n      <td>Argentina</td>\n      <td>Germany</td>\n      <td>14063.90</td>\n      <td>NaN</td>\n      <td>NaN</td>\n      <td>NaN</td>\n    </tr>\n    <tr>\n      <th>3</th>\n      <td>Austria</td>\n      <td>Germany</td>\n      <td>6005.96</td>\n      <td>500.0</td>\n      <td>0.0</td>\n      <td>NaN</td>\n    </tr>\n    <tr>\n      <th>4</th>\n      <td>Australia</td>\n      <td>Germany</td>\n      <td>21212.10</td>\n      <td>NaN</td>\n      <td>NaN</td>\n      <td>NaN</td>\n    </tr>\n    <tr>\n      <th>...</th>\n      <td>...</td>\n      <td>...</td>\n      <td>...</td>\n      <td>...</td>\n      <td>...</td>\n      <td>...</td>\n    </tr>\n    <tr>\n      <th>955</th>\n      <td>Philippines</td>\n      <td>China</td>\n      <td>1782.35</td>\n      <td>NaN</td>\n      <td>NaN</td>\n      <td>NaN</td>\n    </tr>\n    <tr>\n      <th>956</th>\n      <td>Iceland</td>\n      <td>China</td>\n      <td>20454.60</td>\n      <td>NaN</td>\n      <td>NaN</td>\n      <td>NaN</td>\n    </tr>\n    <tr>\n      <th>957</th>\n      <td>Papua New Guinea</td>\n      <td>China</td>\n      <td>6298.52</td>\n      <td>NaN</td>\n      <td>NaN</td>\n      <td>NaN</td>\n    </tr>\n    <tr>\n      <th>958</th>\n      <td>Cameroon</td>\n      <td>China</td>\n      <td>19717.70</td>\n      <td>NaN</td>\n      <td>NaN</td>\n      <td>NaN</td>\n    </tr>\n    <tr>\n      <th>959</th>\n      <td>South Africa</td>\n      <td>China</td>\n      <td>12853.50</td>\n      <td>NaN</td>\n      <td>NaN</td>\n      <td>NaN</td>\n    </tr>\n  </tbody>\n</table>\n<p>960 rows × 6 columns</p>\n</div>"
     },
     "execution_count": 141,
     "metadata": {},
     "output_type": "execute_result"
    }
   ],
   "source": [
    "tra_d = pd.read_excel(path, sheet_name='Transport Distances', decimal=',')\n",
    "tra_d"
   ],
   "metadata": {
    "collapsed": false,
    "pycharm": {
     "name": "#%%\n"
    }
   }
  },
  {
   "cell_type": "code",
   "execution_count": 142,
   "outputs": [
    {
     "data": {
      "text/plain": "                                                                                    Reference  \\\nElectricity prices in Germany [€_2020/MWh]                                                NaN   \nElectricity prices in Norway [€_2018/MWh]                                         DNV Gl 2018   \nElectricity prices in Norway [€_2021/MWh]                                            LMA 2021   \nEU ETS [€_2020/t_CO2]                                                                     NaN   \nCO2 prices global [USD_2021/t CO2]                                               IEA WOE 2022   \nGas prices in Germany [€_2020/MWh]                                                        NaN   \nGas prices in Canada [€_2020/MWh]           https://www2.deloitte.com/content/dam/Deloitte...   \nGas prices EU USD_2021/MWh                                                       IEA WOE 2022   \n\n                                                 2020       2021        2022  \\\nElectricity prices in Germany [€_2020/MWh]        NaN        NaN  512.000000   \nElectricity prices in Norway [€_2018/MWh]   46.683533  47.002654   47.209289   \nElectricity prices in Norway [€_2021/MWh]   31.000000  31.800000   32.600000   \nEU ETS [€_2020/t_CO2]                       25.000000        NaN   80.000000   \nCO2 prices global [USD_2021/t CO2]                NaN        NaN         NaN   \nGas prices in Germany [€_2020/MWh]          13.000000  12.000000  150.000000   \nGas prices in Canada [€_2020/MWh]                 NaN        NaN         NaN   \nGas prices EU USD_2021/MWh                        NaN        NaN         NaN   \n\n                                                  2023        2024  \\\nElectricity prices in Germany [€_2020/MWh]  104.000000         NaN   \nElectricity prices in Norway [€_2018/MWh]    47.346703   47.274782   \nElectricity prices in Norway [€_2021/MWh]    33.400000   34.200000   \nEU ETS [€_2020/t_CO2]                              NaN         NaN   \nCO2 prices global [USD_2021/t CO2]                 NaN         NaN   \nGas prices in Germany [€_2020/MWh]          300.000000  150.000000   \nGas prices in Canada [€_2020/MWh]                  NaN         NaN   \nGas prices EU USD_2021/MWh                         NaN         NaN   \n\n                                                  2025        2026       2027  \\\nElectricity prices in Germany [€_2020/MWh]  150.000000  133.200000  116.40000   \nElectricity prices in Norway [€_2018/MWh]    46.957092   46.416301   46.11822   \nElectricity prices in Norway [€_2021/MWh]    35.000000   39.400000   43.80000   \nEU ETS [€_2020/t_CO2]                        88.000000   94.400000  100.80000   \nCO2 prices global [USD_2021/t CO2]                 NaN         NaN        NaN   \nGas prices in Germany [€_2020/MWh]           70.000000   60.000000   50.00000   \nGas prices in Canada [€_2020/MWh]                  NaN         NaN        NaN   \nGas prices EU USD_2021/MWh                         NaN         NaN        NaN   \n\n                                                  2028  ...       2041  \\\nElectricity prices in Germany [€_2020/MWh]   99.600000  ...   56.30000   \nElectricity prices in Norway [€_2018/MWh]    45.738344  ...   49.60933   \nElectricity prices in Norway [€_2021/MWh]    48.200000  ...   56.80000   \nEU ETS [€_2020/t_CO2]                       107.200000  ...  194.20000   \nCO2 prices global [USD_2021/t CO2]                 NaN  ...        NaN   \nGas prices in Germany [€_2020/MWh]           35.000000  ...   35.00000   \nGas prices in Canada [€_2020/MWh]                  NaN  ...        NaN   \nGas prices EU USD_2021/MWh                         NaN  ...        NaN   \n\n                                                 2042        2043       2044  \\\nElectricity prices in Germany [€_2020/MWh]   55.60000   54.900000   54.20000   \nElectricity prices in Norway [€_2018/MWh]    50.70543   51.925184   53.19331   \nElectricity prices in Norway [€_2021/MWh]    54.60000   52.400000   50.20000   \nEU ETS [€_2020/t_CO2]                       198.40000  202.600000  206.80000   \nCO2 prices global [USD_2021/t CO2]                NaN         NaN        NaN   \nGas prices in Germany [€_2020/MWh]           35.00000   35.000000   35.00000   \nGas prices in Canada [€_2020/MWh]                 NaN         NaN        NaN   \nGas prices EU USD_2021/MWh                        NaN         NaN        NaN   \n\n                                                 2045        2046        2047  \\\nElectricity prices in Germany [€_2020/MWh]   53.50000   52.800000   52.100000   \nElectricity prices in Norway [€_2018/MWh]    54.22122   54.704721   54.535295   \nElectricity prices in Norway [€_2021/MWh]    48.00000   45.800000   43.600000   \nEU ETS [€_2020/t_CO2]                       211.00000  215.000000  219.000000   \nCO2 prices global [USD_2021/t CO2]                NaN         NaN         NaN   \nGas prices in Germany [€_2020/MWh]           35.00000   35.000000   35.000000   \nGas prices in Canada [€_2020/MWh]                 NaN         NaN         NaN   \nGas prices EU USD_2021/MWh                        NaN         NaN         NaN   \n\n                                                  2048        2049        2050  \nElectricity prices in Germany [€_2020/MWh]   51.400000   50.700000   50.000000  \nElectricity prices in Norway [€_2018/MWh]    53.994557   53.715329   53.994428  \nElectricity prices in Norway [€_2021/MWh]    41.400000   39.200000   37.000000  \nEU ETS [€_2020/t_CO2]                       223.000000  227.000000  231.000000  \nCO2 prices global [USD_2021/t CO2]                 NaN         NaN  250.000000  \nGas prices in Germany [€_2020/MWh]           35.000000   35.000000   35.000000  \nGas prices in Canada [€_2020/MWh]                  NaN         NaN         NaN  \nGas prices EU USD_2021/MWh                         NaN         NaN    3.800000  \n\n[8 rows x 32 columns]",
      "text/html": "<div>\n<style scoped>\n    .dataframe tbody tr th:only-of-type {\n        vertical-align: middle;\n    }\n\n    .dataframe tbody tr th {\n        vertical-align: top;\n    }\n\n    .dataframe thead th {\n        text-align: right;\n    }\n</style>\n<table border=\"1\" class=\"dataframe\">\n  <thead>\n    <tr style=\"text-align: right;\">\n      <th></th>\n      <th>Reference</th>\n      <th>2020</th>\n      <th>2021</th>\n      <th>2022</th>\n      <th>2023</th>\n      <th>2024</th>\n      <th>2025</th>\n      <th>2026</th>\n      <th>2027</th>\n      <th>2028</th>\n      <th>...</th>\n      <th>2041</th>\n      <th>2042</th>\n      <th>2043</th>\n      <th>2044</th>\n      <th>2045</th>\n      <th>2046</th>\n      <th>2047</th>\n      <th>2048</th>\n      <th>2049</th>\n      <th>2050</th>\n    </tr>\n  </thead>\n  <tbody>\n    <tr>\n      <th>Electricity prices in Germany [€_2020/MWh]</th>\n      <td>NaN</td>\n      <td>NaN</td>\n      <td>NaN</td>\n      <td>512.000000</td>\n      <td>104.000000</td>\n      <td>NaN</td>\n      <td>150.000000</td>\n      <td>133.200000</td>\n      <td>116.40000</td>\n      <td>99.600000</td>\n      <td>...</td>\n      <td>56.30000</td>\n      <td>55.60000</td>\n      <td>54.900000</td>\n      <td>54.20000</td>\n      <td>53.50000</td>\n      <td>52.800000</td>\n      <td>52.100000</td>\n      <td>51.400000</td>\n      <td>50.700000</td>\n      <td>50.000000</td>\n    </tr>\n    <tr>\n      <th>Electricity prices in Norway [€_2018/MWh]</th>\n      <td>DNV Gl 2018</td>\n      <td>46.683533</td>\n      <td>47.002654</td>\n      <td>47.209289</td>\n      <td>47.346703</td>\n      <td>47.274782</td>\n      <td>46.957092</td>\n      <td>46.416301</td>\n      <td>46.11822</td>\n      <td>45.738344</td>\n      <td>...</td>\n      <td>49.60933</td>\n      <td>50.70543</td>\n      <td>51.925184</td>\n      <td>53.19331</td>\n      <td>54.22122</td>\n      <td>54.704721</td>\n      <td>54.535295</td>\n      <td>53.994557</td>\n      <td>53.715329</td>\n      <td>53.994428</td>\n    </tr>\n    <tr>\n      <th>Electricity prices in Norway [€_2021/MWh]</th>\n      <td>LMA 2021</td>\n      <td>31.000000</td>\n      <td>31.800000</td>\n      <td>32.600000</td>\n      <td>33.400000</td>\n      <td>34.200000</td>\n      <td>35.000000</td>\n      <td>39.400000</td>\n      <td>43.80000</td>\n      <td>48.200000</td>\n      <td>...</td>\n      <td>56.80000</td>\n      <td>54.60000</td>\n      <td>52.400000</td>\n      <td>50.20000</td>\n      <td>48.00000</td>\n      <td>45.800000</td>\n      <td>43.600000</td>\n      <td>41.400000</td>\n      <td>39.200000</td>\n      <td>37.000000</td>\n    </tr>\n    <tr>\n      <th>EU ETS [€_2020/t_CO2]</th>\n      <td>NaN</td>\n      <td>25.000000</td>\n      <td>NaN</td>\n      <td>80.000000</td>\n      <td>NaN</td>\n      <td>NaN</td>\n      <td>88.000000</td>\n      <td>94.400000</td>\n      <td>100.80000</td>\n      <td>107.200000</td>\n      <td>...</td>\n      <td>194.20000</td>\n      <td>198.40000</td>\n      <td>202.600000</td>\n      <td>206.80000</td>\n      <td>211.00000</td>\n      <td>215.000000</td>\n      <td>219.000000</td>\n      <td>223.000000</td>\n      <td>227.000000</td>\n      <td>231.000000</td>\n    </tr>\n    <tr>\n      <th>CO2 prices global [USD_2021/t CO2]</th>\n      <td>IEA WOE 2022</td>\n      <td>NaN</td>\n      <td>NaN</td>\n      <td>NaN</td>\n      <td>NaN</td>\n      <td>NaN</td>\n      <td>NaN</td>\n      <td>NaN</td>\n      <td>NaN</td>\n      <td>NaN</td>\n      <td>...</td>\n      <td>NaN</td>\n      <td>NaN</td>\n      <td>NaN</td>\n      <td>NaN</td>\n      <td>NaN</td>\n      <td>NaN</td>\n      <td>NaN</td>\n      <td>NaN</td>\n      <td>NaN</td>\n      <td>250.000000</td>\n    </tr>\n    <tr>\n      <th>Gas prices in Germany [€_2020/MWh]</th>\n      <td>NaN</td>\n      <td>13.000000</td>\n      <td>12.000000</td>\n      <td>150.000000</td>\n      <td>300.000000</td>\n      <td>150.000000</td>\n      <td>70.000000</td>\n      <td>60.000000</td>\n      <td>50.00000</td>\n      <td>35.000000</td>\n      <td>...</td>\n      <td>35.00000</td>\n      <td>35.00000</td>\n      <td>35.000000</td>\n      <td>35.00000</td>\n      <td>35.00000</td>\n      <td>35.000000</td>\n      <td>35.000000</td>\n      <td>35.000000</td>\n      <td>35.000000</td>\n      <td>35.000000</td>\n    </tr>\n    <tr>\n      <th>Gas prices in Canada [€_2020/MWh]</th>\n      <td>https://www2.deloitte.com/content/dam/Deloitte...</td>\n      <td>NaN</td>\n      <td>NaN</td>\n      <td>NaN</td>\n      <td>NaN</td>\n      <td>NaN</td>\n      <td>NaN</td>\n      <td>NaN</td>\n      <td>NaN</td>\n      <td>NaN</td>\n      <td>...</td>\n      <td>NaN</td>\n      <td>NaN</td>\n      <td>NaN</td>\n      <td>NaN</td>\n      <td>NaN</td>\n      <td>NaN</td>\n      <td>NaN</td>\n      <td>NaN</td>\n      <td>NaN</td>\n      <td>NaN</td>\n    </tr>\n    <tr>\n      <th>Gas prices EU USD_2021/MWh</th>\n      <td>IEA WOE 2022</td>\n      <td>NaN</td>\n      <td>NaN</td>\n      <td>NaN</td>\n      <td>NaN</td>\n      <td>NaN</td>\n      <td>NaN</td>\n      <td>NaN</td>\n      <td>NaN</td>\n      <td>NaN</td>\n      <td>...</td>\n      <td>NaN</td>\n      <td>NaN</td>\n      <td>NaN</td>\n      <td>NaN</td>\n      <td>NaN</td>\n      <td>NaN</td>\n      <td>NaN</td>\n      <td>NaN</td>\n      <td>NaN</td>\n      <td>3.800000</td>\n    </tr>\n  </tbody>\n</table>\n<p>8 rows × 32 columns</p>\n</div>"
     },
     "execution_count": 142,
     "metadata": {},
     "output_type": "execute_result"
    }
   ],
   "source": [
    "el_price = pd.read_excel(path, sheet_name= 'Commodity Prices', index_col=0, decimal=',')\n",
    "el_price"
   ],
   "metadata": {
    "collapsed": false,
    "pycharm": {
     "name": "#%%\n"
    }
   }
  },
  {
   "cell_type": "code",
   "execution_count": 143,
   "outputs": [
    {
     "data": {
      "text/plain": "0.05"
     },
     "execution_count": 143,
     "metadata": {},
     "output_type": "execute_result"
    }
   ],
   "source": [
    "# WACC for all transport investments (pipelines, terminals, liquefaction plants)\n",
    "i = float(tea_lnh3.loc['Conversion - Discount rate [%]']['NH3'])\n",
    "i"
   ],
   "metadata": {
    "collapsed": false,
    "pycharm": {
     "name": "#%%\n"
    }
   }
  },
  {
   "cell_type": "markdown",
   "source": [
    "# Pipeline"
   ],
   "metadata": {
    "collapsed": false,
    "pycharm": {
     "name": "#%% md\n"
    }
   }
  },
  {
   "cell_type": "code",
   "execution_count": 144,
   "outputs": [
    {
     "data": {
      "text/plain": "0.009"
     },
     "execution_count": 144,
     "metadata": {},
     "output_type": "execute_result"
    }
   ],
   "source": [
    "# WACC for all transport investments (pipelines, terminals, liquefaction plants)\n",
    "i_tra = float(tea_pipe.loc['Discount rate [%]']['Parameter'])\n",
    "i_tra\n",
    "\n",
    "# Economic lifetime for pipelines\n",
    "l_pipe = float(tea_pipe.loc['Lifetime [Years]']['Parameter'])\n",
    "l_pipe\n",
    "# Amortisation factor for onshore pipelines\n",
    "alpha = (i_tra * (1 + i_tra) ** l_pipe) / (((1 + i_tra) ** l_pipe) - 1)\n",
    "alpha\n",
    "# Utilisation of the pipeline in %\n",
    "pipe_use = float(tea_pipe.loc['Pipeline load factor [%]']['Parameter'])\n",
    "pipe_use\n",
    "# Pipeline Opex [€/a as % of Capex]\n",
    "pipe_opex_share = float(tea_pipe.loc['Pipeline Opex [€/a as % of Capex]']['Parameter'])\n",
    "pipe_opex_share\n",
    "# Compression Opex [€/a as % of Capex]\n",
    "comp_opex_share = float(tea_pipe.loc['Compressor Opex [€/a as % of Capex]']['Parameter'])\n",
    "comp_opex_share\n",
    "# New pipeline\n"
   ],
   "metadata": {
    "collapsed": false,
    "pycharm": {
     "name": "#%%\n"
    }
   }
  },
  {
   "cell_type": "markdown",
   "source": [
    "## New offshore pipeline"
   ],
   "metadata": {
    "collapsed": false,
    "pycharm": {
     "name": "#%% md\n"
    }
   }
  },
  {
   "cell_type": "code",
   "execution_count": 145,
   "outputs": [
    {
     "data": {
      "text/plain": "650.0"
     },
     "execution_count": 145,
     "metadata": {},
     "output_type": "execute_result"
    }
   ],
   "source": [
    "# Pipeline capex offshore new [€/kg/1000km]\n",
    "capex_pipe_new_off_EHB = float(\n",
    "    tea_pipe.loc['Medium - New Offshore (EHB 2022) Capex Pipeline [€/kg/1000km]']['Parameter'])\n",
    "capex_pipe_new_off_EHB\n",
    "# Compression capex offshore new [€/kg/1000km]\n",
    "capex_comp_new_off_EHB = float(\n",
    "    tea_pipe.loc['Medium - New Offshore (EHB 2022) Capex Compression [€/kg/1000km]']['Parameter'])\n",
    "capex_comp_new_off_EHB\n",
    "capex_new_off = capex_pipe_new_off_EHB + capex_comp_new_off_EHB\n",
    "capex_new_off\n",
    "opex_new_off = capex_pipe_new_off_EHB * pipe_opex_share + capex_comp_new_off_EHB * comp_opex_share\n",
    "opex_new_off\n",
    "# Onshore pipeline distance between two countries [km]\n",
    "d_on = float(tra_d[(tra_d['Origin_Country'] == 'Norway') & (tra_d['Destination_Country'] == 'Germany')][\n",
    "                 'onshore distance (km)'].values)\n",
    "d_on\n",
    "#not used here\n",
    "off_factor = float(tea_pipe.loc['Offshore Capex cost factor ']['Parameter'])\n",
    "off_factor\n",
    "# Offshore pipeline distance between two countries [km]\n",
    "d_off = float(tra_d[(tra_d['Origin_Country'] == 'Norway') & (tra_d['Destination_Country'] == 'Germany')][\n",
    "                  'offshore distance (km)'].values)\n",
    "d_off"
   ],
   "metadata": {
    "collapsed": false,
    "pycharm": {
     "name": "#%%\n"
    }
   }
  },
  {
   "cell_type": "markdown",
   "source": [
    "### Electricity cost of compression"
   ],
   "metadata": {
    "collapsed": false,
    "pycharm": {
     "name": "#%% md\n"
    }
   }
  },
  {
   "cell_type": "code",
   "execution_count": 146,
   "outputs": [
    {
     "data": {
      "text/plain": "0.02849715"
     },
     "execution_count": 146,
     "metadata": {},
     "output_type": "execute_result"
    }
   ],
   "source": [
    "# Compression capacity in [MWel/1000km]\n",
    "capa_comp = float(tea_pipe.loc['Medium - Compression capacity @ 48inch [MW_el/1000km]']['Parameter'])\n",
    "capa_comp\n",
    "# Load factor in hours/day\n",
    "lf_comp = float(tea_pipe.loc['Assumed load factor for compressor electricity consumption [h/a]']['Parameter'])\n",
    "lf_comp\n",
    "#Capacity at full load factor [kg H2/a]\n",
    "capa_pipe = float(tea_pipe.loc['Capacity at full load factor [kg H2/a]']['Parameter'])\n",
    "capa_pipe\n",
    "# Electricity cost for compression [€/kg/1000km]\n",
    "comp_el_cost = capa_comp * pipe_use * 8760 * p_el_y / capa_pipe\n",
    "comp_el_cost"
   ],
   "metadata": {
    "collapsed": false,
    "pycharm": {
     "name": "#%%\n"
    }
   }
  },
  {
   "cell_type": "markdown",
   "source": [
    "## Calc. offshore new pipeline cost"
   ],
   "metadata": {
    "collapsed": false,
    "pycharm": {
     "name": "#%% md\n"
    }
   }
  },
  {
   "cell_type": "code",
   "execution_count": 147,
   "outputs": [],
   "source": [
    "# Costs for new pipeline transport [€/kg]\n",
    "#alpha, capex_pipe_new_on_EHB, capex_comp_new_on_EHB, d_on, d_off, capex_pipe_new_off_EHB, capex_comp_new_off_EHB, capa_comp, pipe_use, capa_pipe\n",
    "def calculate_off_pipe_new():\n",
    "\n",
    "    result = ((alpha * capex_new_off / pipe_use + opex_new_off) + (capa_comp * pipe_use * 8760 * p_el_y / capa_pipe)) * d_off / 1000\n",
    "\n",
    "    return result"
   ],
   "metadata": {
    "collapsed": false,
    "pycharm": {
     "name": "#%%\n"
    }
   }
  },
  {
   "cell_type": "code",
   "execution_count": 148,
   "outputs": [
    {
     "data": {
      "text/plain": "      New_Pipeline_costs_off\nYears                       \n2025                 0.36659\n2026                 0.36802\n2027                 0.36945\n2028                 0.37088\n2029                 0.37231\n2030                 0.37374\n2031                0.373804\n2032                0.373869\n2033                0.373934\n2034                0.373999\n2035                0.374064\n2036                0.374129\n2037                0.374194\n2038                0.374259\n2039                0.374324\n2040                0.374389\n2041                0.373675\n2042                 0.37296\n2043                0.372245\n2044                 0.37153\n2045                0.370815\n2046                  0.3701\n2047                0.369385\n2048                 0.36867\n2049                0.367955\n2050                 0.36724",
      "text/html": "<div>\n<style scoped>\n    .dataframe tbody tr th:only-of-type {\n        vertical-align: middle;\n    }\n\n    .dataframe tbody tr th {\n        vertical-align: top;\n    }\n\n    .dataframe thead th {\n        text-align: right;\n    }\n</style>\n<table border=\"1\" class=\"dataframe\">\n  <thead>\n    <tr style=\"text-align: right;\">\n      <th></th>\n      <th>New_Pipeline_costs_off</th>\n    </tr>\n    <tr>\n      <th>Years</th>\n      <th></th>\n    </tr>\n  </thead>\n  <tbody>\n    <tr>\n      <th>2025</th>\n      <td>0.36659</td>\n    </tr>\n    <tr>\n      <th>2026</th>\n      <td>0.36802</td>\n    </tr>\n    <tr>\n      <th>2027</th>\n      <td>0.36945</td>\n    </tr>\n    <tr>\n      <th>2028</th>\n      <td>0.37088</td>\n    </tr>\n    <tr>\n      <th>2029</th>\n      <td>0.37231</td>\n    </tr>\n    <tr>\n      <th>2030</th>\n      <td>0.37374</td>\n    </tr>\n    <tr>\n      <th>2031</th>\n      <td>0.373804</td>\n    </tr>\n    <tr>\n      <th>2032</th>\n      <td>0.373869</td>\n    </tr>\n    <tr>\n      <th>2033</th>\n      <td>0.373934</td>\n    </tr>\n    <tr>\n      <th>2034</th>\n      <td>0.373999</td>\n    </tr>\n    <tr>\n      <th>2035</th>\n      <td>0.374064</td>\n    </tr>\n    <tr>\n      <th>2036</th>\n      <td>0.374129</td>\n    </tr>\n    <tr>\n      <th>2037</th>\n      <td>0.374194</td>\n    </tr>\n    <tr>\n      <th>2038</th>\n      <td>0.374259</td>\n    </tr>\n    <tr>\n      <th>2039</th>\n      <td>0.374324</td>\n    </tr>\n    <tr>\n      <th>2040</th>\n      <td>0.374389</td>\n    </tr>\n    <tr>\n      <th>2041</th>\n      <td>0.373675</td>\n    </tr>\n    <tr>\n      <th>2042</th>\n      <td>0.37296</td>\n    </tr>\n    <tr>\n      <th>2043</th>\n      <td>0.372245</td>\n    </tr>\n    <tr>\n      <th>2044</th>\n      <td>0.37153</td>\n    </tr>\n    <tr>\n      <th>2045</th>\n      <td>0.370815</td>\n    </tr>\n    <tr>\n      <th>2046</th>\n      <td>0.3701</td>\n    </tr>\n    <tr>\n      <th>2047</th>\n      <td>0.369385</td>\n    </tr>\n    <tr>\n      <th>2048</th>\n      <td>0.36867</td>\n    </tr>\n    <tr>\n      <th>2049</th>\n      <td>0.367955</td>\n    </tr>\n    <tr>\n      <th>2050</th>\n      <td>0.36724</td>\n    </tr>\n  </tbody>\n</table>\n</div>"
     },
     "execution_count": 148,
     "metadata": {},
     "output_type": "execute_result"
    }
   ],
   "source": [
    "years = np.arange(2025, 2051)\n",
    "result = pd.DataFrame(index=years, columns=['New_Pipeline_costs_off'])\n",
    "result.index.name = 'Years'\n",
    "\n",
    "for year in years:\n",
    "    p_el_y = float(el_price.loc['Electricity prices in Norway [€_2021/MWh]'][year])\n",
    "\n",
    "    result.New_Pipeline_costs_off.loc[year] = calculate_off_pipe_new()\n",
    "\n",
    "result"
   ],
   "metadata": {
    "collapsed": false,
    "pycharm": {
     "name": "#%%\n"
    }
   }
  },
  {
   "cell_type": "code",
   "execution_count": 149,
   "outputs": [],
   "source": [
    "New_Pipeline_costs_off = result"
   ],
   "metadata": {
    "collapsed": false,
    "pycharm": {
     "name": "#%%\n"
    }
   }
  },
  {
   "cell_type": "markdown",
   "source": [
    "## Sensitivity"
   ],
   "metadata": {
    "collapsed": false,
    "pycharm": {
     "name": "#%% md\n"
    }
   }
  },
  {
   "cell_type": "code",
   "execution_count": 150,
   "outputs": [],
   "source": [
    "year = 2030\n",
    "p_el_y = float(el_price.loc['Electricity prices in Norway [€_2021/MWh]'][year])\n"
   ],
   "metadata": {
    "collapsed": false,
    "pycharm": {
     "name": "#%%\n"
    }
   }
  },
  {
   "cell_type": "code",
   "execution_count": 277,
   "outputs": [],
   "source": [
    "sensitivity = []\n",
    "\n",
    "def calculate_off_pipe_retrofit_sensi():\n",
    "    for x in range (21):\n",
    "        factor = x/10\n",
    "\n",
    "        result = (((alpha * capex_retrofit_off / pipe_use + opex_retrofit_off) + (capa_comp * pipe_use * 8760 * p_el_y * factor/ capa_pipe)) * d_off) / 1000\n",
    "\n",
    "        sensitivity.append(result)\n",
    "\n",
    "    return sensitivity"
   ],
   "metadata": {
    "collapsed": false,
    "pycharm": {
     "name": "#%%\n"
    }
   }
  },
  {
   "cell_type": "code",
   "execution_count": 278,
   "outputs": [
    {
     "data": {
      "text/plain": "[0.09051807389647931,\n 0.09237038864647931,\n 0.09422270339647931,\n 0.09607501814647933,\n 0.09792733289647931,\n 0.0997796476464793,\n 0.10163196239647931,\n 0.1034842771464793,\n 0.1053365918964793,\n 0.10718890664647931,\n 0.10904122139647932,\n 0.1108935361464793,\n 0.11274585089647932,\n 0.11459816564647932,\n 0.1164504803964793,\n 0.11830279514647933,\n 0.1201551098964793,\n 0.1220074246464793,\n 0.12385973939647932,\n 0.1257120541464793,\n 0.12756436889647932]"
     },
     "execution_count": 278,
     "metadata": {},
     "output_type": "execute_result"
    }
   ],
   "source": [
    "calculate_off_pipe_retrofit_sensi()"
   ],
   "metadata": {
    "collapsed": false,
    "pycharm": {
     "name": "#%%\n"
    }
   }
  },
  {
   "cell_type": "code",
   "execution_count": 279,
   "outputs": [
    {
     "data": {
      "text/plain": "             Retrofit pipeline transport costs [€/kg H2]\nChange in %                                             \n0                                               0.090518\n1                                               0.092370\n2                                               0.094223\n3                                               0.096075\n4                                               0.097927\n5                                               0.099780\n6                                               0.101632\n7                                               0.103484\n8                                               0.105337\n9                                               0.107189\n10                                              0.109041\n11                                              0.110894\n12                                              0.112746\n13                                              0.114598\n14                                              0.116450\n15                                              0.118303\n16                                              0.120155\n17                                              0.122007\n18                                              0.123860\n19                                              0.125712\n20                                              0.127564",
      "text/html": "<div>\n<style scoped>\n    .dataframe tbody tr th:only-of-type {\n        vertical-align: middle;\n    }\n\n    .dataframe tbody tr th {\n        vertical-align: top;\n    }\n\n    .dataframe thead th {\n        text-align: right;\n    }\n</style>\n<table border=\"1\" class=\"dataframe\">\n  <thead>\n    <tr style=\"text-align: right;\">\n      <th></th>\n      <th>Retrofit pipeline transport costs [€/kg H2]</th>\n    </tr>\n    <tr>\n      <th>Change in %</th>\n      <th></th>\n    </tr>\n  </thead>\n  <tbody>\n    <tr>\n      <th>0</th>\n      <td>0.090518</td>\n    </tr>\n    <tr>\n      <th>1</th>\n      <td>0.092370</td>\n    </tr>\n    <tr>\n      <th>2</th>\n      <td>0.094223</td>\n    </tr>\n    <tr>\n      <th>3</th>\n      <td>0.096075</td>\n    </tr>\n    <tr>\n      <th>4</th>\n      <td>0.097927</td>\n    </tr>\n    <tr>\n      <th>5</th>\n      <td>0.099780</td>\n    </tr>\n    <tr>\n      <th>6</th>\n      <td>0.101632</td>\n    </tr>\n    <tr>\n      <th>7</th>\n      <td>0.103484</td>\n    </tr>\n    <tr>\n      <th>8</th>\n      <td>0.105337</td>\n    </tr>\n    <tr>\n      <th>9</th>\n      <td>0.107189</td>\n    </tr>\n    <tr>\n      <th>10</th>\n      <td>0.109041</td>\n    </tr>\n    <tr>\n      <th>11</th>\n      <td>0.110894</td>\n    </tr>\n    <tr>\n      <th>12</th>\n      <td>0.112746</td>\n    </tr>\n    <tr>\n      <th>13</th>\n      <td>0.114598</td>\n    </tr>\n    <tr>\n      <th>14</th>\n      <td>0.116450</td>\n    </tr>\n    <tr>\n      <th>15</th>\n      <td>0.118303</td>\n    </tr>\n    <tr>\n      <th>16</th>\n      <td>0.120155</td>\n    </tr>\n    <tr>\n      <th>17</th>\n      <td>0.122007</td>\n    </tr>\n    <tr>\n      <th>18</th>\n      <td>0.123860</td>\n    </tr>\n    <tr>\n      <th>19</th>\n      <td>0.125712</td>\n    </tr>\n    <tr>\n      <th>20</th>\n      <td>0.127564</td>\n    </tr>\n  </tbody>\n</table>\n</div>"
     },
     "execution_count": 279,
     "metadata": {},
     "output_type": "execute_result"
    }
   ],
   "source": [
    "retro_pipe_sensi_P_el = pd.DataFrame(sensitivity, range(21), columns=['Retrofit pipeline transport costs [€/kg H2]'])\n",
    "retro_pipe_sensi_P_el.index.name = 'Change in %'\n",
    "retro_pipe_sensi_P_el"
   ],
   "metadata": {
    "collapsed": false,
    "pycharm": {
     "name": "#%%\n"
    }
   }
  },
  {
   "cell_type": "code",
   "execution_count": null,
   "outputs": [],
   "source": [
    "# Create csv file from results dataframe\n",
    "output_file = os.path.join(path_csv, 'retro_pipe_sensi_P_el.csv')\n",
    "retro_pipe_sensi_P_el.to_csv(output_file, sep=';')"
   ],
   "metadata": {
    "collapsed": false,
    "pycharm": {
     "name": "#%%\n"
    }
   }
  },
  {
   "cell_type": "markdown",
   "source": [
    "### Transport distance sensi"
   ],
   "metadata": {
    "collapsed": false,
    "pycharm": {
     "name": "#%% md\n"
    }
   }
  },
  {
   "cell_type": "code",
   "execution_count": 282,
   "outputs": [],
   "source": [
    "transport_distance = np.arange(0,10001, 500)\n",
    "sensitivity = []\n",
    "def calculate_off_pipe_retrofit_sensi_distance():\n",
    "    for d_off in transport_distance:\n",
    "\n",
    "        result = (((alpha * capex_retrofit_off / pipe_use + opex_retrofit_off) + (capa_comp * pipe_use * 8760 * p_el_y / capa_pipe)) * d_off) / 1000\n",
    "\n",
    "        sensitivity.append(result)\n",
    "\n",
    "    return sensitivity"
   ],
   "metadata": {
    "collapsed": false,
    "pycharm": {
     "name": "#%%\n"
    }
   }
  },
  {
   "cell_type": "code",
   "execution_count": 283,
   "outputs": [
    {
     "data": {
      "text/plain": "[0.0,\n 0.0838778626126764,\n 0.1677557252253528,\n 0.2516335878380292,\n 0.3355114504507056,\n 0.41938931306338195,\n 0.5032671756760584,\n 0.5871450382887348,\n 0.6710229009014111,\n 0.7549007635140875,\n 0.8387786261267639,\n 0.9226564887394403,\n 1.0065343513521168,\n 1.0904122139647932,\n 1.1742900765774695,\n 1.258167939190146,\n 1.3420458018028223,\n 1.4259236644154987,\n 1.509801527028175,\n 1.5936793896408514,\n 1.6775572522535278]"
     },
     "execution_count": 283,
     "metadata": {},
     "output_type": "execute_result"
    }
   ],
   "source": [
    "calculate_off_pipe_retrofit_sensi_distance()"
   ],
   "metadata": {
    "collapsed": false,
    "pycharm": {
     "name": "#%%\n"
    }
   }
  },
  {
   "cell_type": "code",
   "execution_count": 284,
   "outputs": [
    {
     "data": {
      "text/plain": "                          Retrofit pipeline transport costs [€/kg H2]\nTransport distance in km                                             \n0                                                            0.000000\n500                                                          0.083878\n1000                                                         0.167756\n1500                                                         0.251634\n2000                                                         0.335511\n2500                                                         0.419389\n3000                                                         0.503267\n3500                                                         0.587145\n4000                                                         0.671023\n4500                                                         0.754901\n5000                                                         0.838779\n5500                                                         0.922656\n6000                                                         1.006534\n6500                                                         1.090412\n7000                                                         1.174290\n7500                                                         1.258168\n8000                                                         1.342046\n8500                                                         1.425924\n9000                                                         1.509802\n9500                                                         1.593679\n10000                                                        1.677557",
      "text/html": "<div>\n<style scoped>\n    .dataframe tbody tr th:only-of-type {\n        vertical-align: middle;\n    }\n\n    .dataframe tbody tr th {\n        vertical-align: top;\n    }\n\n    .dataframe thead th {\n        text-align: right;\n    }\n</style>\n<table border=\"1\" class=\"dataframe\">\n  <thead>\n    <tr style=\"text-align: right;\">\n      <th></th>\n      <th>Retrofit pipeline transport costs [€/kg H2]</th>\n    </tr>\n    <tr>\n      <th>Transport distance in km</th>\n      <th></th>\n    </tr>\n  </thead>\n  <tbody>\n    <tr>\n      <th>0</th>\n      <td>0.000000</td>\n    </tr>\n    <tr>\n      <th>500</th>\n      <td>0.083878</td>\n    </tr>\n    <tr>\n      <th>1000</th>\n      <td>0.167756</td>\n    </tr>\n    <tr>\n      <th>1500</th>\n      <td>0.251634</td>\n    </tr>\n    <tr>\n      <th>2000</th>\n      <td>0.335511</td>\n    </tr>\n    <tr>\n      <th>2500</th>\n      <td>0.419389</td>\n    </tr>\n    <tr>\n      <th>3000</th>\n      <td>0.503267</td>\n    </tr>\n    <tr>\n      <th>3500</th>\n      <td>0.587145</td>\n    </tr>\n    <tr>\n      <th>4000</th>\n      <td>0.671023</td>\n    </tr>\n    <tr>\n      <th>4500</th>\n      <td>0.754901</td>\n    </tr>\n    <tr>\n      <th>5000</th>\n      <td>0.838779</td>\n    </tr>\n    <tr>\n      <th>5500</th>\n      <td>0.922656</td>\n    </tr>\n    <tr>\n      <th>6000</th>\n      <td>1.006534</td>\n    </tr>\n    <tr>\n      <th>6500</th>\n      <td>1.090412</td>\n    </tr>\n    <tr>\n      <th>7000</th>\n      <td>1.174290</td>\n    </tr>\n    <tr>\n      <th>7500</th>\n      <td>1.258168</td>\n    </tr>\n    <tr>\n      <th>8000</th>\n      <td>1.342046</td>\n    </tr>\n    <tr>\n      <th>8500</th>\n      <td>1.425924</td>\n    </tr>\n    <tr>\n      <th>9000</th>\n      <td>1.509802</td>\n    </tr>\n    <tr>\n      <th>9500</th>\n      <td>1.593679</td>\n    </tr>\n    <tr>\n      <th>10000</th>\n      <td>1.677557</td>\n    </tr>\n  </tbody>\n</table>\n</div>"
     },
     "execution_count": 284,
     "metadata": {},
     "output_type": "execute_result"
    }
   ],
   "source": [
    "retro_pipe_sensi_distance = pd.DataFrame(sensitivity, transport_distance, columns=['Retrofit pipeline transport costs [€/kg H2]'])\n",
    "retro_pipe_sensi_distance.index.name = 'Transport distance in km'\n",
    "retro_pipe_sensi_distance"
   ],
   "metadata": {
    "collapsed": false,
    "pycharm": {
     "name": "#%%\n"
    }
   }
  },
  {
   "cell_type": "code",
   "execution_count": null,
   "outputs": [],
   "source": [
    "# Create csv file from results dataframe\n",
    "output_file = os.path.join(path_csv, 'retro_pipe_sensi_distance.csv')\n",
    "retro_pipe_sensi_distance.to_csv(output_file, sep=';')"
   ],
   "metadata": {
    "collapsed": false,
    "pycharm": {
     "name": "#%%\n"
    }
   }
  },
  {
   "cell_type": "markdown",
   "source": [
    "# Retrofit offshore pipeline cost"
   ],
   "metadata": {
    "collapsed": false,
    "pycharm": {
     "name": "#%% md\n"
    }
   }
  },
  {
   "cell_type": "code",
   "execution_count": 266,
   "outputs": [
    {
     "data": {
      "text/plain": "0.01804"
     },
     "execution_count": 266,
     "metadata": {},
     "output_type": "execute_result"
    }
   ],
   "source": [
    "#Retrofit  capex in [€/kg/100km]\n",
    "capex_pipe_retrofit_off_EHB = float(tea_pipe.loc['Medium - retrofit Offshore (EHB 2022) Capex Pipeline [€/kg/1000km]']['Parameter'])\n",
    "capex_pipe_retrofit_off_EHB\n",
    "#Compression capex in [€/kg/100km]\n",
    "capex_comp_retrofit_off_EHB = float(tea_pipe.loc['Medium - retrofit Offshore (EHB 2022) Capex Compression [€/kg/1000km]']['Parameter'])\n",
    "capex_comp_retrofit_off_EHB\n",
    "\n"
   ],
   "metadata": {
    "collapsed": false,
    "pycharm": {
     "name": "#%%\n"
    }
   }
  },
  {
   "cell_type": "code",
   "execution_count": 275,
   "outputs": [
    {
     "data": {
      "text/plain": "1.56"
     },
     "execution_count": 275,
     "metadata": {},
     "output_type": "execute_result"
    }
   ],
   "source": [
    "capex_retrofit_off = capex_pipe_retrofit_off_EHB + capex_comp_retrofit_off_EHB\n",
    "capex_retrofit_off"
   ],
   "metadata": {
    "collapsed": false,
    "pycharm": {
     "name": "#%%\n"
    }
   }
  },
  {
   "cell_type": "code",
   "execution_count": 276,
   "outputs": [
    {
     "data": {
      "text/plain": "0.01804"
     },
     "execution_count": 276,
     "metadata": {},
     "output_type": "execute_result"
    }
   ],
   "source": [
    "opex_retrofit_off = capex_pipe_retrofit_off_EHB * pipe_opex_share + capex_comp_retrofit_off_EHB * comp_opex_share\n",
    "opex_retrofit_off"
   ],
   "metadata": {
    "collapsed": false,
    "pycharm": {
     "name": "#%%\n"
    }
   }
  },
  {
   "cell_type": "markdown",
   "source": [
    "## Calc. offshore retrofit pipeline costs"
   ],
   "metadata": {
    "collapsed": false,
    "pycharm": {
     "name": "#%% md\n"
    }
   }
  },
  {
   "cell_type": "code",
   "execution_count": 267,
   "outputs": [],
   "source": [
    "# Costs for new pipeline transport [€/kg]\n",
    "#alpha, capex_pipe_new_on_EHB, capex_comp_new_on_EHB, d_on, d_off, capex_pipe_new_off_EHB, capex_comp_new_off_EHB, capa_comp, pipe_use, capa_pipe\n",
    "def calculate_off_pipe_retrofit():\n",
    "    result = (((alpha * capex_retrofit_off / pipe_use + opex_retrofit_off) + (\n",
    "                capa_comp * pipe_use * 8760 * p_el_y / capa_pipe)) * d_off) / 1000\n",
    "    return result"
   ],
   "metadata": {
    "collapsed": false,
    "pycharm": {
     "name": "#%%\n"
    }
   }
  },
  {
   "cell_type": "code",
   "execution_count": 268,
   "outputs": [
    {
     "data": {
      "text/plain": "      Retrofit_pipeline_costs_off\nYears                            \n2025                     0.101892\n2026                     0.103322\n2027                     0.104752\n2028                     0.106182\n2029                     0.107611\n2030                     0.109041\n2031                     0.109106\n2032                     0.109171\n2033                     0.109236\n2034                     0.109301\n2035                     0.109366\n2036                     0.109431\n2037                     0.109496\n2038                     0.109561\n2039                     0.109626\n2040                     0.109691\n2041                     0.108976\n2042                     0.108261\n2043                     0.107546\n2044                     0.106831\n2045                     0.106117\n2046                     0.105402\n2047                     0.104687\n2048                     0.103972\n2049                     0.103257\n2050                     0.102542",
      "text/html": "<div>\n<style scoped>\n    .dataframe tbody tr th:only-of-type {\n        vertical-align: middle;\n    }\n\n    .dataframe tbody tr th {\n        vertical-align: top;\n    }\n\n    .dataframe thead th {\n        text-align: right;\n    }\n</style>\n<table border=\"1\" class=\"dataframe\">\n  <thead>\n    <tr style=\"text-align: right;\">\n      <th></th>\n      <th>Retrofit_pipeline_costs_off</th>\n    </tr>\n    <tr>\n      <th>Years</th>\n      <th></th>\n    </tr>\n  </thead>\n  <tbody>\n    <tr>\n      <th>2025</th>\n      <td>0.101892</td>\n    </tr>\n    <tr>\n      <th>2026</th>\n      <td>0.103322</td>\n    </tr>\n    <tr>\n      <th>2027</th>\n      <td>0.104752</td>\n    </tr>\n    <tr>\n      <th>2028</th>\n      <td>0.106182</td>\n    </tr>\n    <tr>\n      <th>2029</th>\n      <td>0.107611</td>\n    </tr>\n    <tr>\n      <th>2030</th>\n      <td>0.109041</td>\n    </tr>\n    <tr>\n      <th>2031</th>\n      <td>0.109106</td>\n    </tr>\n    <tr>\n      <th>2032</th>\n      <td>0.109171</td>\n    </tr>\n    <tr>\n      <th>2033</th>\n      <td>0.109236</td>\n    </tr>\n    <tr>\n      <th>2034</th>\n      <td>0.109301</td>\n    </tr>\n    <tr>\n      <th>2035</th>\n      <td>0.109366</td>\n    </tr>\n    <tr>\n      <th>2036</th>\n      <td>0.109431</td>\n    </tr>\n    <tr>\n      <th>2037</th>\n      <td>0.109496</td>\n    </tr>\n    <tr>\n      <th>2038</th>\n      <td>0.109561</td>\n    </tr>\n    <tr>\n      <th>2039</th>\n      <td>0.109626</td>\n    </tr>\n    <tr>\n      <th>2040</th>\n      <td>0.109691</td>\n    </tr>\n    <tr>\n      <th>2041</th>\n      <td>0.108976</td>\n    </tr>\n    <tr>\n      <th>2042</th>\n      <td>0.108261</td>\n    </tr>\n    <tr>\n      <th>2043</th>\n      <td>0.107546</td>\n    </tr>\n    <tr>\n      <th>2044</th>\n      <td>0.106831</td>\n    </tr>\n    <tr>\n      <th>2045</th>\n      <td>0.106117</td>\n    </tr>\n    <tr>\n      <th>2046</th>\n      <td>0.105402</td>\n    </tr>\n    <tr>\n      <th>2047</th>\n      <td>0.104687</td>\n    </tr>\n    <tr>\n      <th>2048</th>\n      <td>0.103972</td>\n    </tr>\n    <tr>\n      <th>2049</th>\n      <td>0.103257</td>\n    </tr>\n    <tr>\n      <th>2050</th>\n      <td>0.102542</td>\n    </tr>\n  </tbody>\n</table>\n</div>"
     },
     "execution_count": 268,
     "metadata": {},
     "output_type": "execute_result"
    }
   ],
   "source": [
    "years = np.arange(2025, 2051)\n",
    "result = pd.DataFrame(index=years, columns=['Retrofit_pipeline_costs_off'])\n",
    "result.index.name = 'Years'\n",
    "\n",
    "for year in years:\n",
    "    p_el_y = float(el_price.loc['Electricity prices in Norway [€_2021/MWh]'][year])\n",
    "\n",
    "    result.Retrofit_pipeline_costs_off.loc[year] = calculate_off_pipe_retrofit()\n",
    "\n",
    "result"
   ],
   "metadata": {
    "collapsed": false,
    "pycharm": {
     "name": "#%%\n"
    }
   }
  },
  {
   "cell_type": "code",
   "execution_count": 269,
   "outputs": [],
   "source": [
    "Retrofit_pipeline_costs_off = result"
   ],
   "metadata": {
    "collapsed": false,
    "pycharm": {
     "name": "#%%\n"
    }
   }
  },
  {
   "cell_type": "markdown",
   "source": [
    "## Sensitivity"
   ],
   "metadata": {
    "collapsed": false,
    "pycharm": {
     "name": "#%% md\n"
    }
   }
  },
  {
   "cell_type": "code",
   "execution_count": 270,
   "outputs": [],
   "source": [
    "year = 2030\n",
    "p_el_y = float(el_price.loc['Electricity prices in Norway [€_2021/MWh]'][year])"
   ],
   "metadata": {
    "collapsed": false,
    "pycharm": {
     "name": "#%%\n"
    }
   }
  },
  {
   "cell_type": "code",
   "execution_count": 271,
   "outputs": [],
   "source": [
    "sensitivity = []\n",
    "\n",
    "def calculate_off_pipe_new_sensi():\n",
    "    for x in range (21):\n",
    "        factor = x/10\n",
    "\n",
    "        result = ((alpha * capex_new_off / pipe_use + opex_new_off) + (capa_comp * pipe_use * 8760 * p_el_y * factor/ capa_pipe)) * d_off / 1000\n",
    "\n",
    "        sensitivity.append(result)\n",
    "\n",
    "    return sensitivity"
   ],
   "metadata": {
    "collapsed": false,
    "pycharm": {
     "name": "#%%\n"
    }
   }
  },
  {
   "cell_type": "code",
   "execution_count": 272,
   "outputs": [
    {
     "data": {
      "text/plain": "[0.3552163545085696,\n 0.35706866925856956,\n 0.3589209840085696,\n 0.3607732987585696,\n 0.3626256135085696,\n 0.3644779282585696,\n 0.36633024300856953,\n 0.3681825577585696,\n 0.3700348725085696,\n 0.3718871872585696,\n 0.37373950200856954,\n 0.37559181675856956,\n 0.37744413150856965,\n 0.37929644625856956,\n 0.3811487610085696,\n 0.38300107575856956,\n 0.3848533905085696,\n 0.3867057052585696,\n 0.3885580200085696,\n 0.39041033475856957,\n 0.39226264950856954]"
     },
     "execution_count": 272,
     "metadata": {},
     "output_type": "execute_result"
    }
   ],
   "source": [
    "calculate_off_pipe_new_sensi()"
   ],
   "metadata": {
    "collapsed": false,
    "pycharm": {
     "name": "#%%\n"
    }
   }
  },
  {
   "cell_type": "code",
   "execution_count": 157,
   "outputs": [
    {
     "data": {
      "text/plain": "             New pipeline transport costs [€/kg H2]\nChange in %                                        \n0                                          0.355216\n1                                          0.357069\n2                                          0.358921\n3                                          0.360773\n4                                          0.362626\n5                                          0.364478\n6                                          0.366330\n7                                          0.368183\n8                                          0.370035\n9                                          0.371887\n10                                         0.373740\n11                                         0.375592\n12                                         0.377444\n13                                         0.379296\n14                                         0.381149\n15                                         0.383001\n16                                         0.384853\n17                                         0.386706\n18                                         0.388558\n19                                         0.390410\n20                                         0.392263",
      "text/html": "<div>\n<style scoped>\n    .dataframe tbody tr th:only-of-type {\n        vertical-align: middle;\n    }\n\n    .dataframe tbody tr th {\n        vertical-align: top;\n    }\n\n    .dataframe thead th {\n        text-align: right;\n    }\n</style>\n<table border=\"1\" class=\"dataframe\">\n  <thead>\n    <tr style=\"text-align: right;\">\n      <th></th>\n      <th>New pipeline transport costs [€/kg H2]</th>\n    </tr>\n    <tr>\n      <th>Change in %</th>\n      <th></th>\n    </tr>\n  </thead>\n  <tbody>\n    <tr>\n      <th>0</th>\n      <td>0.355216</td>\n    </tr>\n    <tr>\n      <th>1</th>\n      <td>0.357069</td>\n    </tr>\n    <tr>\n      <th>2</th>\n      <td>0.358921</td>\n    </tr>\n    <tr>\n      <th>3</th>\n      <td>0.360773</td>\n    </tr>\n    <tr>\n      <th>4</th>\n      <td>0.362626</td>\n    </tr>\n    <tr>\n      <th>5</th>\n      <td>0.364478</td>\n    </tr>\n    <tr>\n      <th>6</th>\n      <td>0.366330</td>\n    </tr>\n    <tr>\n      <th>7</th>\n      <td>0.368183</td>\n    </tr>\n    <tr>\n      <th>8</th>\n      <td>0.370035</td>\n    </tr>\n    <tr>\n      <th>9</th>\n      <td>0.371887</td>\n    </tr>\n    <tr>\n      <th>10</th>\n      <td>0.373740</td>\n    </tr>\n    <tr>\n      <th>11</th>\n      <td>0.375592</td>\n    </tr>\n    <tr>\n      <th>12</th>\n      <td>0.377444</td>\n    </tr>\n    <tr>\n      <th>13</th>\n      <td>0.379296</td>\n    </tr>\n    <tr>\n      <th>14</th>\n      <td>0.381149</td>\n    </tr>\n    <tr>\n      <th>15</th>\n      <td>0.383001</td>\n    </tr>\n    <tr>\n      <th>16</th>\n      <td>0.384853</td>\n    </tr>\n    <tr>\n      <th>17</th>\n      <td>0.386706</td>\n    </tr>\n    <tr>\n      <th>18</th>\n      <td>0.388558</td>\n    </tr>\n    <tr>\n      <th>19</th>\n      <td>0.390410</td>\n    </tr>\n    <tr>\n      <th>20</th>\n      <td>0.392263</td>\n    </tr>\n  </tbody>\n</table>\n</div>"
     },
     "execution_count": 157,
     "metadata": {},
     "output_type": "execute_result"
    }
   ],
   "source": [
    "new_pipe_sensi_P_el = pd.DataFrame(sensitivity, range(21), columns=['New pipeline transport costs [€/kg H2]'])\n",
    "new_pipe_sensi_P_el.index.name = 'Change in %'\n",
    "new_pipe_sensi_P_el"
   ],
   "metadata": {
    "collapsed": false,
    "pycharm": {
     "name": "#%%\n"
    }
   }
  },
  {
   "cell_type": "code",
   "execution_count": 158,
   "outputs": [],
   "source": [
    "# Create csv file from results dataframe\n",
    "output_file = os.path.join(path_csv, 'new_pipe_sensi_P_el.csv')\n",
    "new_pipe_sensi_P_el.to_csv(output_file, sep=';')"
   ],
   "metadata": {
    "collapsed": false,
    "pycharm": {
     "name": "#%%\n"
    }
   }
  },
  {
   "cell_type": "markdown",
   "source": [
    "### Transport distance sensi"
   ],
   "metadata": {
    "collapsed": false,
    "pycharm": {
     "name": "#%% md\n"
    }
   }
  },
  {
   "cell_type": "code",
   "execution_count": 159,
   "outputs": [],
   "source": [
    "year = 2030\n",
    "p_el_y = float(el_price.loc['Electricity prices in Norway [€_2021/MWh]'][year])"
   ],
   "metadata": {
    "collapsed": false,
    "pycharm": {
     "name": "#%%\n"
    }
   }
  },
  {
   "cell_type": "code",
   "execution_count": 160,
   "outputs": [],
   "source": [
    "transport_distance = np.arange(0,10001, 500)\n",
    "sensitivity = []\n",
    "def calculate_off_pipe_retrofit_sensi_distance():\n",
    "    for d_off in transport_distance:\n",
    "\n",
    "        result = ((alpha * capex_new_off / pipe_use + opex_new_off)\n",
    "                  + (capa_comp * pipe_use * 8760 * p_el_y / capa_pipe)) * d_off / 1000\n",
    "\n",
    "        #result = (((alpha * capex_retrofit_off / pipe_use + opex_retrofit_off) + (capa_comp * pipe_use * 8760 * p_el_y / capa_pipe)) * d_off) / 1000\n",
    "        sensitivity.append(result)\n",
    "\n",
    "    return sensitivity"
   ],
   "metadata": {
    "collapsed": false,
    "pycharm": {
     "name": "#%%\n"
    }
   }
  },
  {
   "cell_type": "code",
   "execution_count": 161,
   "outputs": [
    {
     "data": {
      "text/plain": "[0.0,\n 0.2874919246219766,\n 0.5749838492439532,\n 0.8624757738659298,\n 1.1499676984879064,\n 1.437459623109883,\n 1.7249515477318595,\n 2.0124434723538362,\n 2.2999353969758127,\n 2.587427321597789,\n 2.874919246219766,\n 3.1624111708417426,\n 3.449903095463719,\n 3.7373950200856956,\n 4.0248869447076725,\n 4.312378869329649,\n 4.5998707939516255,\n 4.887362718573602,\n 5.174854643195578,\n 5.462346567817555,\n 5.749838492439532]"
     },
     "execution_count": 161,
     "metadata": {},
     "output_type": "execute_result"
    }
   ],
   "source": [
    "calculate_off_pipe_retrofit_sensi_distance()"
   ],
   "metadata": {
    "collapsed": false,
    "pycharm": {
     "name": "#%%\n"
    }
   }
  },
  {
   "cell_type": "code",
   "execution_count": 162,
   "outputs": [
    {
     "data": {
      "text/plain": "                          New pipeline transport costs [€/kg H2]\nTransport distance in km                                        \n0                                                       0.000000\n500                                                     0.287492\n1000                                                    0.574984\n1500                                                    0.862476\n2000                                                    1.149968\n2500                                                    1.437460\n3000                                                    1.724952\n3500                                                    2.012443\n4000                                                    2.299935\n4500                                                    2.587427\n5000                                                    2.874919\n5500                                                    3.162411\n6000                                                    3.449903\n6500                                                    3.737395\n7000                                                    4.024887\n7500                                                    4.312379\n8000                                                    4.599871\n8500                                                    4.887363\n9000                                                    5.174855\n9500                                                    5.462347\n10000                                                   5.749838",
      "text/html": "<div>\n<style scoped>\n    .dataframe tbody tr th:only-of-type {\n        vertical-align: middle;\n    }\n\n    .dataframe tbody tr th {\n        vertical-align: top;\n    }\n\n    .dataframe thead th {\n        text-align: right;\n    }\n</style>\n<table border=\"1\" class=\"dataframe\">\n  <thead>\n    <tr style=\"text-align: right;\">\n      <th></th>\n      <th>New pipeline transport costs [€/kg H2]</th>\n    </tr>\n    <tr>\n      <th>Transport distance in km</th>\n      <th></th>\n    </tr>\n  </thead>\n  <tbody>\n    <tr>\n      <th>0</th>\n      <td>0.000000</td>\n    </tr>\n    <tr>\n      <th>500</th>\n      <td>0.287492</td>\n    </tr>\n    <tr>\n      <th>1000</th>\n      <td>0.574984</td>\n    </tr>\n    <tr>\n      <th>1500</th>\n      <td>0.862476</td>\n    </tr>\n    <tr>\n      <th>2000</th>\n      <td>1.149968</td>\n    </tr>\n    <tr>\n      <th>2500</th>\n      <td>1.437460</td>\n    </tr>\n    <tr>\n      <th>3000</th>\n      <td>1.724952</td>\n    </tr>\n    <tr>\n      <th>3500</th>\n      <td>2.012443</td>\n    </tr>\n    <tr>\n      <th>4000</th>\n      <td>2.299935</td>\n    </tr>\n    <tr>\n      <th>4500</th>\n      <td>2.587427</td>\n    </tr>\n    <tr>\n      <th>5000</th>\n      <td>2.874919</td>\n    </tr>\n    <tr>\n      <th>5500</th>\n      <td>3.162411</td>\n    </tr>\n    <tr>\n      <th>6000</th>\n      <td>3.449903</td>\n    </tr>\n    <tr>\n      <th>6500</th>\n      <td>3.737395</td>\n    </tr>\n    <tr>\n      <th>7000</th>\n      <td>4.024887</td>\n    </tr>\n    <tr>\n      <th>7500</th>\n      <td>4.312379</td>\n    </tr>\n    <tr>\n      <th>8000</th>\n      <td>4.599871</td>\n    </tr>\n    <tr>\n      <th>8500</th>\n      <td>4.887363</td>\n    </tr>\n    <tr>\n      <th>9000</th>\n      <td>5.174855</td>\n    </tr>\n    <tr>\n      <th>9500</th>\n      <td>5.462347</td>\n    </tr>\n    <tr>\n      <th>10000</th>\n      <td>5.749838</td>\n    </tr>\n  </tbody>\n</table>\n</div>"
     },
     "execution_count": 162,
     "metadata": {},
     "output_type": "execute_result"
    }
   ],
   "source": [
    "new_pipe_sensi_distance = pd.DataFrame(sensitivity, transport_distance, columns=['New pipeline transport costs [€/kg H2]'])\n",
    "new_pipe_sensi_distance.index.name = 'Transport distance in km'\n",
    "new_pipe_sensi_distance"
   ],
   "metadata": {
    "collapsed": false,
    "pycharm": {
     "name": "#%%\n"
    }
   }
  },
  {
   "cell_type": "code",
   "execution_count": 163,
   "outputs": [],
   "source": [
    "# Create csv file from results dataframe\n",
    "output_file = os.path.join(path_csv, 'new_pipe_sensi_distance.csv')\n",
    "new_pipe_sensi_distance.to_csv(output_file, sep=';')"
   ],
   "metadata": {
    "collapsed": false,
    "pycharm": {
     "name": "#%%\n"
    }
   }
  },
  {
   "cell_type": "markdown",
   "source": [
    "# LH2 transport"
   ],
   "metadata": {
    "collapsed": false,
    "pycharm": {
     "name": "#%% md\n"
    }
   }
  },
  {
   "cell_type": "code",
   "execution_count": 164,
   "outputs": [
    {
     "data": {
      "text/plain": "                                                                                        Ref  \\\nProperties                                                                                    \nProperties - Gas density [kg/m3]                                                   BOG 2020   \nProperties - LHV [MJ/kg]                                                           BOG 2020   \nProperties - LHV [kWh/kg]                 https://www.iea-amf.org/content/fuel_informati...   \nProperties - LHV [kWh/m3]                  https://www.rechargenews.com/energy-transitio...   \nProperties - Boiling point at 1 Bar [°C]                                                NaN   \n...                                                                                     ...   \nCAPEX ($/kW-H2), incl. Util.                                                        EWI PTX   \nOPEX ($/kW-H2/a), incl. Util.                                                       EWI PTX   \nElectricity use (kWh/kWh-H2                                                         EWI PTX   \nUtilisation                                                                         EWI PTX   \nReconversion - Lifetime [Years]                                                     EWI PTX   \n\n                                            LH2      2020       2021  \\\nProperties                                                             \nProperties - Gas density [kg/m3]           71.1       NaN        NaN   \nProperties - LHV [MJ/kg]                    120       NaN        NaN   \nProperties - LHV [kWh/kg]                 33.33       NaN        NaN   \nProperties - LHV [kWh/m3]                  2350       NaN        NaN   \nProperties - Boiling point at 1 Bar [°C]   -253       NaN        NaN   \n...                                         ...       ...        ...   \nCAPEX ($/kW-H2), incl. Util.                NaN       NaN        NaN   \nOPEX ($/kW-H2/a), incl. Util.               NaN  57.69591  57.118951   \nElectricity use (kWh/kWh-H2                0.01   0.01000   0.010000   \nUtilisation                                 NaN   0.90000   0.900000   \nReconversion - Lifetime [Years]              30       NaN        NaN   \n\n                                               2022       2023       2024  \\\nProperties                                                                  \nProperties - Gas density [kg/m3]                NaN        NaN        NaN   \nProperties - LHV [MJ/kg]                        NaN        NaN        NaN   \nProperties - LHV [kWh/kg]                       NaN        NaN        NaN   \nProperties - LHV [kWh/m3]                       NaN        NaN        NaN   \nProperties - Boiling point at 1 Bar [°C]        NaN        NaN        NaN   \n...                                             ...        ...        ...   \nCAPEX ($/kW-H2), incl. Util.                    NaN        NaN        NaN   \nOPEX ($/kW-H2/a), incl. Util.             56.541992  55.965033  55.388074   \nElectricity use (kWh/kWh-H2                0.010000   0.010000   0.010000   \nUtilisation                                0.900000   0.900000   0.900000   \nReconversion - Lifetime [Years]                 NaN        NaN        NaN   \n\n                                               2025       2026       2027  \\\nProperties                                                                  \nProperties - Gas density [kg/m3]                NaN        NaN        NaN   \nProperties - LHV [MJ/kg]                        NaN        NaN        NaN   \nProperties - LHV [kWh/kg]                       NaN        NaN        NaN   \nProperties - LHV [kWh/m3]                       NaN        NaN        NaN   \nProperties - Boiling point at 1 Bar [°C]        NaN        NaN        NaN   \n...                                             ...        ...        ...   \nCAPEX ($/kW-H2), incl. Util.                    NaN        NaN        NaN   \nOPEX ($/kW-H2/a), incl. Util.             54.811115  54.234156  53.657197   \nElectricity use (kWh/kWh-H2                0.010000   0.010000   0.010000   \nUtilisation                                0.900000   0.900000   0.900000   \nReconversion - Lifetime [Years]                 NaN        NaN        NaN   \n\n                                          ...       2041       2042  \\\nProperties                                ...                         \nProperties - Gas density [kg/m3]          ...        NaN        NaN   \nProperties - LHV [MJ/kg]                  ...        NaN        NaN   \nProperties - LHV [kWh/kg]                 ...        NaN        NaN   \nProperties - LHV [kWh/m3]                 ...        NaN        NaN   \nProperties - Boiling point at 1 Bar [°C]  ...        NaN        NaN   \n...                                       ...        ...        ...   \nCAPEX ($/kW-H2), incl. Util.              ...        NaN        NaN   \nOPEX ($/kW-H2/a), incl. Util.             ...  37.646582  36.348424   \nElectricity use (kWh/kWh-H2               ...   0.010000   0.010000   \nUtilisation                               ...   0.900000   0.900000   \nReconversion - Lifetime [Years]           ...        NaN        NaN   \n\n                                               2043       2044      2045  \\\nProperties                                                                 \nProperties - Gas density [kg/m3]                NaN        NaN       NaN   \nProperties - LHV [MJ/kg]                        NaN        NaN       NaN   \nProperties - LHV [kWh/kg]                       NaN        NaN       NaN   \nProperties - LHV [kWh/m3]                       NaN        NaN       NaN   \nProperties - Boiling point at 1 Bar [°C]        NaN        NaN       NaN   \n...                                             ...        ...       ...   \nCAPEX ($/kW-H2), incl. Util.                    NaN        NaN       NaN   \nOPEX ($/kW-H2/a), incl. Util.             35.050266  33.752108  32.45395   \nElectricity use (kWh/kWh-H2                0.010000   0.010000   0.01000   \nUtilisation                                0.900000   0.900000   0.90000   \nReconversion - Lifetime [Years]                 NaN        NaN       NaN   \n\n                                               2046       2047       2048  \\\nProperties                                                                  \nProperties - Gas density [kg/m3]                NaN        NaN        NaN   \nProperties - LHV [MJ/kg]                        NaN        NaN        NaN   \nProperties - LHV [kWh/kg]                       NaN        NaN        NaN   \nProperties - LHV [kWh/m3]                       NaN        NaN        NaN   \nProperties - Boiling point at 1 Bar [°C]        NaN        NaN        NaN   \n...                                             ...        ...        ...   \nCAPEX ($/kW-H2), incl. Util.                    NaN        NaN        NaN   \nOPEX ($/kW-H2/a), incl. Util.             31.155792  29.857634  28.559476   \nElectricity use (kWh/kWh-H2                0.010000   0.010000   0.010000   \nUtilisation                                0.900000   0.900000   0.900000   \nReconversion - Lifetime [Years]                 NaN        NaN        NaN   \n\n                                               2049      2050  \nProperties                                                     \nProperties - Gas density [kg/m3]                NaN       NaN  \nProperties - LHV [MJ/kg]                        NaN       NaN  \nProperties - LHV [kWh/kg]                       NaN       NaN  \nProperties - LHV [kWh/m3]                       NaN       NaN  \nProperties - Boiling point at 1 Bar [°C]        NaN       NaN  \n...                                             ...       ...  \nCAPEX ($/kW-H2), incl. Util.                    NaN       NaN  \nOPEX ($/kW-H2/a), incl. Util.             27.261318  25.96316  \nElectricity use (kWh/kWh-H2                0.010000   0.01000  \nUtilisation                                0.900000   0.90000  \nReconversion - Lifetime [Years]                 NaN       NaN  \n\n[121 rows x 33 columns]",
      "text/html": "<div>\n<style scoped>\n    .dataframe tbody tr th:only-of-type {\n        vertical-align: middle;\n    }\n\n    .dataframe tbody tr th {\n        vertical-align: top;\n    }\n\n    .dataframe thead th {\n        text-align: right;\n    }\n</style>\n<table border=\"1\" class=\"dataframe\">\n  <thead>\n    <tr style=\"text-align: right;\">\n      <th></th>\n      <th>Ref</th>\n      <th>LH2</th>\n      <th>2020</th>\n      <th>2021</th>\n      <th>2022</th>\n      <th>2023</th>\n      <th>2024</th>\n      <th>2025</th>\n      <th>2026</th>\n      <th>2027</th>\n      <th>...</th>\n      <th>2041</th>\n      <th>2042</th>\n      <th>2043</th>\n      <th>2044</th>\n      <th>2045</th>\n      <th>2046</th>\n      <th>2047</th>\n      <th>2048</th>\n      <th>2049</th>\n      <th>2050</th>\n    </tr>\n    <tr>\n      <th>Properties</th>\n      <th></th>\n      <th></th>\n      <th></th>\n      <th></th>\n      <th></th>\n      <th></th>\n      <th></th>\n      <th></th>\n      <th></th>\n      <th></th>\n      <th></th>\n      <th></th>\n      <th></th>\n      <th></th>\n      <th></th>\n      <th></th>\n      <th></th>\n      <th></th>\n      <th></th>\n      <th></th>\n      <th></th>\n    </tr>\n  </thead>\n  <tbody>\n    <tr>\n      <th>Properties - Gas density [kg/m3]</th>\n      <td>BOG 2020</td>\n      <td>71.1</td>\n      <td>NaN</td>\n      <td>NaN</td>\n      <td>NaN</td>\n      <td>NaN</td>\n      <td>NaN</td>\n      <td>NaN</td>\n      <td>NaN</td>\n      <td>NaN</td>\n      <td>...</td>\n      <td>NaN</td>\n      <td>NaN</td>\n      <td>NaN</td>\n      <td>NaN</td>\n      <td>NaN</td>\n      <td>NaN</td>\n      <td>NaN</td>\n      <td>NaN</td>\n      <td>NaN</td>\n      <td>NaN</td>\n    </tr>\n    <tr>\n      <th>Properties - LHV [MJ/kg]</th>\n      <td>BOG 2020</td>\n      <td>120</td>\n      <td>NaN</td>\n      <td>NaN</td>\n      <td>NaN</td>\n      <td>NaN</td>\n      <td>NaN</td>\n      <td>NaN</td>\n      <td>NaN</td>\n      <td>NaN</td>\n      <td>...</td>\n      <td>NaN</td>\n      <td>NaN</td>\n      <td>NaN</td>\n      <td>NaN</td>\n      <td>NaN</td>\n      <td>NaN</td>\n      <td>NaN</td>\n      <td>NaN</td>\n      <td>NaN</td>\n      <td>NaN</td>\n    </tr>\n    <tr>\n      <th>Properties - LHV [kWh/kg]</th>\n      <td>https://www.iea-amf.org/content/fuel_informati...</td>\n      <td>33.33</td>\n      <td>NaN</td>\n      <td>NaN</td>\n      <td>NaN</td>\n      <td>NaN</td>\n      <td>NaN</td>\n      <td>NaN</td>\n      <td>NaN</td>\n      <td>NaN</td>\n      <td>...</td>\n      <td>NaN</td>\n      <td>NaN</td>\n      <td>NaN</td>\n      <td>NaN</td>\n      <td>NaN</td>\n      <td>NaN</td>\n      <td>NaN</td>\n      <td>NaN</td>\n      <td>NaN</td>\n      <td>NaN</td>\n    </tr>\n    <tr>\n      <th>Properties - LHV [kWh/m3]</th>\n      <td>https://www.rechargenews.com/energy-transitio...</td>\n      <td>2350</td>\n      <td>NaN</td>\n      <td>NaN</td>\n      <td>NaN</td>\n      <td>NaN</td>\n      <td>NaN</td>\n      <td>NaN</td>\n      <td>NaN</td>\n      <td>NaN</td>\n      <td>...</td>\n      <td>NaN</td>\n      <td>NaN</td>\n      <td>NaN</td>\n      <td>NaN</td>\n      <td>NaN</td>\n      <td>NaN</td>\n      <td>NaN</td>\n      <td>NaN</td>\n      <td>NaN</td>\n      <td>NaN</td>\n    </tr>\n    <tr>\n      <th>Properties - Boiling point at 1 Bar [°C]</th>\n      <td>NaN</td>\n      <td>-253</td>\n      <td>NaN</td>\n      <td>NaN</td>\n      <td>NaN</td>\n      <td>NaN</td>\n      <td>NaN</td>\n      <td>NaN</td>\n      <td>NaN</td>\n      <td>NaN</td>\n      <td>...</td>\n      <td>NaN</td>\n      <td>NaN</td>\n      <td>NaN</td>\n      <td>NaN</td>\n      <td>NaN</td>\n      <td>NaN</td>\n      <td>NaN</td>\n      <td>NaN</td>\n      <td>NaN</td>\n      <td>NaN</td>\n    </tr>\n    <tr>\n      <th>...</th>\n      <td>...</td>\n      <td>...</td>\n      <td>...</td>\n      <td>...</td>\n      <td>...</td>\n      <td>...</td>\n      <td>...</td>\n      <td>...</td>\n      <td>...</td>\n      <td>...</td>\n      <td>...</td>\n      <td>...</td>\n      <td>...</td>\n      <td>...</td>\n      <td>...</td>\n      <td>...</td>\n      <td>...</td>\n      <td>...</td>\n      <td>...</td>\n      <td>...</td>\n      <td>...</td>\n    </tr>\n    <tr>\n      <th>CAPEX ($/kW-H2), incl. Util.</th>\n      <td>EWI PTX</td>\n      <td>NaN</td>\n      <td>NaN</td>\n      <td>NaN</td>\n      <td>NaN</td>\n      <td>NaN</td>\n      <td>NaN</td>\n      <td>NaN</td>\n      <td>NaN</td>\n      <td>NaN</td>\n      <td>...</td>\n      <td>NaN</td>\n      <td>NaN</td>\n      <td>NaN</td>\n      <td>NaN</td>\n      <td>NaN</td>\n      <td>NaN</td>\n      <td>NaN</td>\n      <td>NaN</td>\n      <td>NaN</td>\n      <td>NaN</td>\n    </tr>\n    <tr>\n      <th>OPEX ($/kW-H2/a), incl. Util.</th>\n      <td>EWI PTX</td>\n      <td>NaN</td>\n      <td>57.69591</td>\n      <td>57.118951</td>\n      <td>56.541992</td>\n      <td>55.965033</td>\n      <td>55.388074</td>\n      <td>54.811115</td>\n      <td>54.234156</td>\n      <td>53.657197</td>\n      <td>...</td>\n      <td>37.646582</td>\n      <td>36.348424</td>\n      <td>35.050266</td>\n      <td>33.752108</td>\n      <td>32.45395</td>\n      <td>31.155792</td>\n      <td>29.857634</td>\n      <td>28.559476</td>\n      <td>27.261318</td>\n      <td>25.96316</td>\n    </tr>\n    <tr>\n      <th>Electricity use (kWh/kWh-H2</th>\n      <td>EWI PTX</td>\n      <td>0.01</td>\n      <td>0.01000</td>\n      <td>0.010000</td>\n      <td>0.010000</td>\n      <td>0.010000</td>\n      <td>0.010000</td>\n      <td>0.010000</td>\n      <td>0.010000</td>\n      <td>0.010000</td>\n      <td>...</td>\n      <td>0.010000</td>\n      <td>0.010000</td>\n      <td>0.010000</td>\n      <td>0.010000</td>\n      <td>0.01000</td>\n      <td>0.010000</td>\n      <td>0.010000</td>\n      <td>0.010000</td>\n      <td>0.010000</td>\n      <td>0.01000</td>\n    </tr>\n    <tr>\n      <th>Utilisation</th>\n      <td>EWI PTX</td>\n      <td>NaN</td>\n      <td>0.90000</td>\n      <td>0.900000</td>\n      <td>0.900000</td>\n      <td>0.900000</td>\n      <td>0.900000</td>\n      <td>0.900000</td>\n      <td>0.900000</td>\n      <td>0.900000</td>\n      <td>...</td>\n      <td>0.900000</td>\n      <td>0.900000</td>\n      <td>0.900000</td>\n      <td>0.900000</td>\n      <td>0.90000</td>\n      <td>0.900000</td>\n      <td>0.900000</td>\n      <td>0.900000</td>\n      <td>0.900000</td>\n      <td>0.90000</td>\n    </tr>\n    <tr>\n      <th>Reconversion - Lifetime [Years]</th>\n      <td>EWI PTX</td>\n      <td>30</td>\n      <td>NaN</td>\n      <td>NaN</td>\n      <td>NaN</td>\n      <td>NaN</td>\n      <td>NaN</td>\n      <td>NaN</td>\n      <td>NaN</td>\n      <td>NaN</td>\n      <td>...</td>\n      <td>NaN</td>\n      <td>NaN</td>\n      <td>NaN</td>\n      <td>NaN</td>\n      <td>NaN</td>\n      <td>NaN</td>\n      <td>NaN</td>\n      <td>NaN</td>\n      <td>NaN</td>\n      <td>NaN</td>\n    </tr>\n  </tbody>\n</table>\n<p>121 rows × 33 columns</p>\n</div>"
     },
     "execution_count": 164,
     "metadata": {},
     "output_type": "execute_result"
    }
   ],
   "source": [
    "tea_lh2 = pd.read_excel(path, sheet_name='LH2', decimal=',', index_col=0)\n",
    "tea_lh2"
   ],
   "metadata": {
    "collapsed": false,
    "pycharm": {
     "name": "#%%\n"
    }
   }
  },
  {
   "cell_type": "markdown",
   "source": [
    "## Liquefaction"
   ],
   "metadata": {
    "collapsed": false,
    "pycharm": {
     "name": "#%% md\n"
    }
   }
  },
  {
   "cell_type": "code",
   "execution_count": 165,
   "outputs": [
    {
     "data": {
      "text/plain": "0.05"
     },
     "execution_count": 165,
     "metadata": {},
     "output_type": "execute_result"
    }
   ],
   "source": [
    "# WACC for liquefaction plant in %\n",
    "i_liq = float(tea_lh2.loc['Liquefaction - Discount rate [%]']['LH2'])\n",
    "i_liq"
   ],
   "metadata": {
    "collapsed": false,
    "pycharm": {
     "name": "#%%\n"
    }
   }
  },
  {
   "cell_type": "code",
   "execution_count": 166,
   "outputs": [
    {
     "data": {
      "text/plain": "30.0"
     },
     "execution_count": 166,
     "metadata": {},
     "output_type": "execute_result"
    }
   ],
   "source": [
    "# Economic lifetime for the liquefaction plant [years]\n",
    "l_liq = float(tea_lh2.loc['Liquefaction - Lifetime [Years]']['LH2'])\n",
    "l_liq"
   ],
   "metadata": {
    "collapsed": false,
    "pycharm": {
     "name": "#%%\n"
    }
   }
  },
  {
   "cell_type": "code",
   "execution_count": 167,
   "outputs": [
    {
     "data": {
      "text/plain": "0.06505143508027657"
     },
     "execution_count": 167,
     "metadata": {},
     "output_type": "execute_result"
    }
   ],
   "source": [
    "# Amortisation factor alpha for the liquefaction plant\n",
    "alpha_liq = (i_liq * (1 + i_liq) ** l_liq) /(((1 + i_liq) ** l_liq) - 1)\n",
    "alpha_liq\n"
   ],
   "metadata": {
    "collapsed": false,
    "pycharm": {
     "name": "#%%\n"
    }
   }
  },
  {
   "cell_type": "code",
   "execution_count": 168,
   "outputs": [
    {
     "data": {
      "text/plain": "0.04"
     },
     "execution_count": 168,
     "metadata": {},
     "output_type": "execute_result"
    }
   ],
   "source": [
    "opex_liq_share = float(tea_lh2.loc['Liquefaction - Opex opt. [% of Capex]']['LH2'])\n",
    "opex_liq_share"
   ],
   "metadata": {
    "collapsed": false,
    "pycharm": {
     "name": "#%%\n"
    }
   }
  },
  {
   "cell_type": "markdown",
   "source": [],
   "metadata": {
    "collapsed": false,
    "pycharm": {
     "name": "#%% md\n"
    }
   }
  },
  {
   "cell_type": "markdown",
   "source": [
    "Calc. liquefaction cost"
   ],
   "metadata": {
    "collapsed": false,
    "pycharm": {
     "name": "#%% md\n"
    }
   }
  },
  {
   "cell_type": "code",
   "execution_count": 169,
   "outputs": [],
   "source": [
    "# Definition of the cost calculation function for liquefaction costs. Time relevant variables = capex [€/tpa], opex [€/tpa], electricity use [kwh/kg H2], electricity price [$/MWh]\n",
    "def calculate_liq_costs(alpha_liq, capex_liq_y, opex_liq_y, el_liq_y, p_el_y):\n",
    "\n",
    "    result = float((alpha_liq * capex_liq_y/1000 + opex_liq_y/1000) + el_liq_y * p_el_y*0.89/1000)\n",
    "\n",
    "    return result"
   ],
   "metadata": {
    "collapsed": false,
    "pycharm": {
     "name": "#%%\n"
    }
   }
  },
  {
   "cell_type": "code",
   "execution_count": 170,
   "outputs": [
    {
     "data": {
      "text/plain": "      LH2_Liquefaction_costs\nYears                       \n2025                1.124886\n2026                1.123369\n2027                 1.12107\n2028                1.117987\n2029                1.114121\n2030                1.109472\n2031                 1.07451\n2032                1.039512\n2033                1.004478\n2034                0.969409\n2035                0.934304\n2036                0.899164\n2037                0.863988\n2038                0.828776\n2039                0.793529\n2040                0.758246\n2041                 0.72071\n2042                0.683761\n2043                  0.6474\n2044                0.611626\n2045                0.576439\n2046                 0.54184\n2047                0.507829\n2048                0.474404\n2049                0.441568\n2050                0.409318",
      "text/html": "<div>\n<style scoped>\n    .dataframe tbody tr th:only-of-type {\n        vertical-align: middle;\n    }\n\n    .dataframe tbody tr th {\n        vertical-align: top;\n    }\n\n    .dataframe thead th {\n        text-align: right;\n    }\n</style>\n<table border=\"1\" class=\"dataframe\">\n  <thead>\n    <tr style=\"text-align: right;\">\n      <th></th>\n      <th>LH2_Liquefaction_costs</th>\n    </tr>\n    <tr>\n      <th>Years</th>\n      <th></th>\n    </tr>\n  </thead>\n  <tbody>\n    <tr>\n      <th>2025</th>\n      <td>1.124886</td>\n    </tr>\n    <tr>\n      <th>2026</th>\n      <td>1.123369</td>\n    </tr>\n    <tr>\n      <th>2027</th>\n      <td>1.12107</td>\n    </tr>\n    <tr>\n      <th>2028</th>\n      <td>1.117987</td>\n    </tr>\n    <tr>\n      <th>2029</th>\n      <td>1.114121</td>\n    </tr>\n    <tr>\n      <th>2030</th>\n      <td>1.109472</td>\n    </tr>\n    <tr>\n      <th>2031</th>\n      <td>1.07451</td>\n    </tr>\n    <tr>\n      <th>2032</th>\n      <td>1.039512</td>\n    </tr>\n    <tr>\n      <th>2033</th>\n      <td>1.004478</td>\n    </tr>\n    <tr>\n      <th>2034</th>\n      <td>0.969409</td>\n    </tr>\n    <tr>\n      <th>2035</th>\n      <td>0.934304</td>\n    </tr>\n    <tr>\n      <th>2036</th>\n      <td>0.899164</td>\n    </tr>\n    <tr>\n      <th>2037</th>\n      <td>0.863988</td>\n    </tr>\n    <tr>\n      <th>2038</th>\n      <td>0.828776</td>\n    </tr>\n    <tr>\n      <th>2039</th>\n      <td>0.793529</td>\n    </tr>\n    <tr>\n      <th>2040</th>\n      <td>0.758246</td>\n    </tr>\n    <tr>\n      <th>2041</th>\n      <td>0.72071</td>\n    </tr>\n    <tr>\n      <th>2042</th>\n      <td>0.683761</td>\n    </tr>\n    <tr>\n      <th>2043</th>\n      <td>0.6474</td>\n    </tr>\n    <tr>\n      <th>2044</th>\n      <td>0.611626</td>\n    </tr>\n    <tr>\n      <th>2045</th>\n      <td>0.576439</td>\n    </tr>\n    <tr>\n      <th>2046</th>\n      <td>0.54184</td>\n    </tr>\n    <tr>\n      <th>2047</th>\n      <td>0.507829</td>\n    </tr>\n    <tr>\n      <th>2048</th>\n      <td>0.474404</td>\n    </tr>\n    <tr>\n      <th>2049</th>\n      <td>0.441568</td>\n    </tr>\n    <tr>\n      <th>2050</th>\n      <td>0.409318</td>\n    </tr>\n  </tbody>\n</table>\n</div>"
     },
     "execution_count": 170,
     "metadata": {},
     "output_type": "execute_result"
    }
   ],
   "source": [
    "# Calculation of liquefaction costs [€/kg_h2] from 2030 to 2050.\n",
    "years = np.arange(2025,2051)\n",
    "result = pd.DataFrame(index=years, columns=['LH2_Liquefaction_costs'])\n",
    "result.index.name = 'Years'\n",
    "\n",
    "for year in years:\n",
    "\n",
    "    # get capex, opex, natural gas price and CO2 price of specific year\n",
    "    capex_liq_y = float(tea_lh2.loc['Liquefaction - Capex opt. [€/t/a]'][year])\n",
    "    opex_liq_y = capex_liq_y * opex_liq_share\n",
    "    el_liq_y = float(tea_lh2.loc['Liquefaction - Electricity consumption opt. [kWh/kgH2]'][year])\n",
    "    p_el_y = float(el_price.loc['Electricity prices in Norway [€_2021/MWh]'][year])\n",
    "\n",
    "    # calculate costs of specific year\n",
    "    result.LH2_Liquefaction_costs.loc[year] = calculate_liq_costs(alpha_liq=alpha_liq, capex_liq_y=capex_liq_y, opex_liq_y=opex_liq_y, el_liq_y=el_liq_y, p_el_y=p_el_y)\n",
    "\n",
    "result"
   ],
   "metadata": {
    "collapsed": false,
    "pycharm": {
     "name": "#%%\n"
    }
   }
  },
  {
   "cell_type": "code",
   "execution_count": 171,
   "outputs": [],
   "source": [
    "LH2_Liquefaction_costs = result"
   ],
   "metadata": {
    "collapsed": false,
    "pycharm": {
     "name": "#%%\n"
    }
   }
  },
  {
   "cell_type": "code",
   "execution_count": 172,
   "outputs": [],
   "source": [
    "# Create csv file from results dataframe\n",
    "output_file = os.path.join(path_csv,'LH2_Liquefaction_costs.csv')\n",
    "result.to_csv(output_file, sep = ';')"
   ],
   "metadata": {
    "collapsed": false,
    "pycharm": {
     "name": "#%%\n"
    }
   }
  },
  {
   "cell_type": "markdown",
   "source": [
    "Plot liquefaction costs"
   ],
   "metadata": {
    "collapsed": false,
    "pycharm": {
     "name": "#%% md\n"
    }
   }
  },
  {
   "cell_type": "code",
   "execution_count": 173,
   "outputs": [
    {
     "data": {
      "text/plain": "<Figure size 1000x600 with 1 Axes>",
      "image/png": "[encoded data removed]"
     },
     "metadata": {},
     "output_type": "display_data"
    }
   ],
   "source": [
    "# Plot cost curve for liquefaction\n",
    "fig, ax = plt.subplots(figsize=(10,6))\n",
    "plt.plot(result, color = 'cyan', linestyle = 'solid')\n",
    "plt.grid(True, axis = 'y')\n",
    "ax.set_axisbelow(True)\n",
    "plt.title('Cost curve for liquefaction', fontweight = 'bold')\n",
    "plt.legend(['Liquefaction costs in €/kg_H2'])\n",
    "plt.xlabel('Year')\n",
    "plt.ylabel('Cost [€/kg_H2]')\n",
    "plt.show()"
   ],
   "metadata": {
    "collapsed": false,
    "pycharm": {
     "name": "#%%\n"
    }
   }
  },
  {
   "cell_type": "markdown",
   "source": [
    "## Export terminal"
   ],
   "metadata": {
    "collapsed": false,
    "pycharm": {
     "name": "#%% md\n"
    }
   }
  },
  {
   "cell_type": "code",
   "execution_count": 174,
   "outputs": [],
   "source": [
    "# Lifetime of import and export terminals\n",
    "l_ter = float(tea_lh2.loc['Export Terminal - Technical lifetime [Years]']['LH2'])"
   ],
   "metadata": {
    "collapsed": false,
    "pycharm": {
     "name": "#%%\n"
    }
   }
  },
  {
   "cell_type": "code",
   "execution_count": 175,
   "outputs": [],
   "source": [
    "# Amortisation factor for the export terminal\n",
    "alpha_et = (i_tra * (1 + i_tra) ** l_ter) / (((1 + i_tra) ** l_ter) - 1)"
   ],
   "metadata": {
    "collapsed": false,
    "pycharm": {
     "name": "#%%\n"
    }
   }
  },
  {
   "cell_type": "code",
   "execution_count": 176,
   "outputs": [],
   "source": [
    "# Average storage time in the export terminal tanks in days\n",
    "t_et = float(tea_lh2.loc['Export Terminal - Storage length per load [Days]']['LH2'])"
   ],
   "metadata": {
    "collapsed": false,
    "pycharm": {
     "name": "#%%\n"
    }
   }
  },
  {
   "cell_type": "code",
   "execution_count": 177,
   "outputs": [
    {
     "data": {
      "text/plain": "0.61"
     },
     "execution_count": 177,
     "metadata": {},
     "output_type": "execute_result"
    }
   ],
   "source": [
    "# Electricity consumption for the export terminal [kWh/kg_h2]\n",
    "el_et = float(tea_lh2.loc['Export Terminal - Electricity use [kWh/kgH2]']['LH2'])\n",
    "el_et"
   ],
   "metadata": {
    "collapsed": false,
    "pycharm": {
     "name": "#%%\n"
    }
   }
  },
  {
   "cell_type": "code",
   "execution_count": 178,
   "outputs": [
    {
     "data": {
      "text/plain": "0.001"
     },
     "execution_count": 178,
     "metadata": {},
     "output_type": "execute_result"
    }
   ],
   "source": [
    "# Boil-off hydrogen in [%/day]\n",
    "bog_et = float(tea_lh2.loc['Export Terminal - Boil off rate [%/day]']['LH2'])\n",
    "bog_et"
   ],
   "metadata": {
    "collapsed": false,
    "pycharm": {
     "name": "#%%\n"
    }
   }
  },
  {
   "cell_type": "code",
   "execution_count": 179,
   "outputs": [
    {
     "data": {
      "text/plain": "7.0"
     },
     "execution_count": 179,
     "metadata": {},
     "output_type": "execute_result"
    }
   ],
   "source": [
    "# Average storage time in the export terminal tanks in days\n",
    "t_et = float(tea_lh2.loc['Export Terminal - Storage length per load [Days]']['LH2'])\n",
    "t_et"
   ],
   "metadata": {
    "collapsed": false,
    "pycharm": {
     "name": "#%%\n"
    }
   }
  },
  {
   "cell_type": "code",
   "execution_count": 180,
   "outputs": [
    {
     "data": {
      "text/plain": "0.1"
     },
     "execution_count": 180,
     "metadata": {},
     "output_type": "execute_result"
    }
   ],
   "source": [
    "el_reliq = float(tea_lh2.loc['Export Terminal - Energy use to reliquefy opt. [kWh/kg H2/day]']['LH2'])\n",
    "el_reliq"
   ],
   "metadata": {
    "collapsed": false,
    "pycharm": {
     "name": "#%%\n"
    }
   }
  },
  {
   "cell_type": "code",
   "execution_count": 181,
   "outputs": [
    {
     "data": {
      "text/plain": "0.04"
     },
     "execution_count": 181,
     "metadata": {},
     "output_type": "execute_result"
    }
   ],
   "source": [
    "opex_et_share =  float(tea_lh2.loc['Export Terminal - Annual OPEX [% of CAPEX]']['LH2'])\n",
    "opex_et_share"
   ],
   "metadata": {
    "collapsed": false,
    "pycharm": {
     "name": "#%%\n"
    }
   }
  },
  {
   "cell_type": "markdown",
   "source": [],
   "metadata": {
    "collapsed": false,
    "pycharm": {
     "name": "#%% md\n"
    }
   }
  },
  {
   "cell_type": "markdown",
   "source": [
    "Calc. export terminal cost"
   ],
   "metadata": {
    "collapsed": false,
    "pycharm": {
     "name": "#%% md\n"
    }
   }
  },
  {
   "cell_type": "markdown",
   "source": [
    "Boil-off and transfer gas are re-liquefied @"
   ],
   "metadata": {
    "collapsed": false,
    "pycharm": {
     "name": "#%% md\n"
    }
   }
  },
  {
   "cell_type": "markdown",
   "source": [
    "Time relevant variables = capex [$/tpa], opex [$/tpa], electricity use [kwh/kg H2], electricity price [$/MWh] storage time in days"
   ],
   "metadata": {
    "collapsed": false,
    "pycharm": {
     "name": "#%% md\n"
    }
   }
  },
  {
   "cell_type": "code",
   "execution_count": 182,
   "outputs": [],
   "source": [
    "# Definition of the cost calculation function for the Export terminal.\n",
    "def calculate_export_terminal_costs(alpha_et, capex_et_y, opex_et_y, el_et, p_el_y, el_reliq):\n",
    "    result = (alpha_et * capex_et_y/1000 + opex_et_y/1000) + (el_et + el_reliq * t_et) * p_el_y* 0.89/1000\n",
    "\n",
    "    return result"
   ],
   "metadata": {
    "collapsed": false,
    "pycharm": {
     "name": "#%%\n"
    }
   }
  },
  {
   "cell_type": "code",
   "execution_count": 183,
   "outputs": [],
   "source": [
    "#Calculation of export terminal costs [$/kg_h2] from 2030 to 2050.\n",
    "years = np.arange(2025, 2051)\n",
    "result = pd.DataFrame(index=years, columns=['LH2_Export_terminal_costs'])\n",
    "result.index.name = 'Years'"
   ],
   "metadata": {
    "collapsed": false,
    "pycharm": {
     "name": "#%%\n"
    }
   }
  },
  {
   "cell_type": "code",
   "execution_count": 184,
   "outputs": [
    {
     "data": {
      "text/plain": "      LH2_Export_terminal_costs\nYears                          \n2025                   0.195663\n2026                   0.199162\n2027                   0.202662\n2028                   0.206162\n2029                   0.209662\n2030                   0.213162\n2031                   0.209728\n2032                   0.206293\n2033                   0.202859\n2034                   0.199424\n2035                    0.19599\n2036                   0.192555\n2037                   0.189121\n2038                   0.185686\n2039                   0.182252\n2040                   0.178817\n2041                   0.172585\n2042                   0.166352\n2043                    0.16012\n2044                   0.153887\n2045                   0.147654\n2046                   0.141422\n2047                   0.135189\n2048                   0.128956\n2049                   0.122724\n2050                   0.116491",
      "text/html": "<div>\n<style scoped>\n    .dataframe tbody tr th:only-of-type {\n        vertical-align: middle;\n    }\n\n    .dataframe tbody tr th {\n        vertical-align: top;\n    }\n\n    .dataframe thead th {\n        text-align: right;\n    }\n</style>\n<table border=\"1\" class=\"dataframe\">\n  <thead>\n    <tr style=\"text-align: right;\">\n      <th></th>\n      <th>LH2_Export_terminal_costs</th>\n    </tr>\n    <tr>\n      <th>Years</th>\n      <th></th>\n    </tr>\n  </thead>\n  <tbody>\n    <tr>\n      <th>2025</th>\n      <td>0.195663</td>\n    </tr>\n    <tr>\n      <th>2026</th>\n      <td>0.199162</td>\n    </tr>\n    <tr>\n      <th>2027</th>\n      <td>0.202662</td>\n    </tr>\n    <tr>\n      <th>2028</th>\n      <td>0.206162</td>\n    </tr>\n    <tr>\n      <th>2029</th>\n      <td>0.209662</td>\n    </tr>\n    <tr>\n      <th>2030</th>\n      <td>0.213162</td>\n    </tr>\n    <tr>\n      <th>2031</th>\n      <td>0.209728</td>\n    </tr>\n    <tr>\n      <th>2032</th>\n      <td>0.206293</td>\n    </tr>\n    <tr>\n      <th>2033</th>\n      <td>0.202859</td>\n    </tr>\n    <tr>\n      <th>2034</th>\n      <td>0.199424</td>\n    </tr>\n    <tr>\n      <th>2035</th>\n      <td>0.19599</td>\n    </tr>\n    <tr>\n      <th>2036</th>\n      <td>0.192555</td>\n    </tr>\n    <tr>\n      <th>2037</th>\n      <td>0.189121</td>\n    </tr>\n    <tr>\n      <th>2038</th>\n      <td>0.185686</td>\n    </tr>\n    <tr>\n      <th>2039</th>\n      <td>0.182252</td>\n    </tr>\n    <tr>\n      <th>2040</th>\n      <td>0.178817</td>\n    </tr>\n    <tr>\n      <th>2041</th>\n      <td>0.172585</td>\n    </tr>\n    <tr>\n      <th>2042</th>\n      <td>0.166352</td>\n    </tr>\n    <tr>\n      <th>2043</th>\n      <td>0.16012</td>\n    </tr>\n    <tr>\n      <th>2044</th>\n      <td>0.153887</td>\n    </tr>\n    <tr>\n      <th>2045</th>\n      <td>0.147654</td>\n    </tr>\n    <tr>\n      <th>2046</th>\n      <td>0.141422</td>\n    </tr>\n    <tr>\n      <th>2047</th>\n      <td>0.135189</td>\n    </tr>\n    <tr>\n      <th>2048</th>\n      <td>0.128956</td>\n    </tr>\n    <tr>\n      <th>2049</th>\n      <td>0.122724</td>\n    </tr>\n    <tr>\n      <th>2050</th>\n      <td>0.116491</td>\n    </tr>\n  </tbody>\n</table>\n</div>"
     },
     "execution_count": 184,
     "metadata": {},
     "output_type": "execute_result"
    }
   ],
   "source": [
    "for year in years:\n",
    "    # get capex, opex, xx\n",
    "    capex_et_y = float(tea_lh2.loc['Export Terminal - CAPEX/tank [€/t/a]'][year])\n",
    "    opex_et_y = capex_et_y * opex_et_share\n",
    "    p_el_y = float(el_price.loc['Electricity prices in Norway [€_2021/MWh]'][year])\n",
    "\n",
    "\n",
    "    # calculate costs of specific year\n",
    "    result.LH2_Export_terminal_costs.loc[year] = calculate_export_terminal_costs(alpha_et=alpha_et, capex_et_y=capex_et_y,\n",
    "                                                              opex_et_y=opex_et_y, el_et=el_et, p_el_y=p_el_y, el_reliq=el_reliq)\n",
    "\n",
    "result"
   ],
   "metadata": {
    "collapsed": false,
    "pycharm": {
     "name": "#%%\n"
    }
   }
  },
  {
   "cell_type": "code",
   "execution_count": 185,
   "outputs": [],
   "source": [
    "LH2_Export_terminal_costs =result"
   ],
   "metadata": {
    "collapsed": false,
    "pycharm": {
     "name": "#%%\n"
    }
   }
  },
  {
   "cell_type": "code",
   "execution_count": 186,
   "outputs": [
    {
     "ename": "PermissionError",
     "evalue": "[Errno 13] Permission denied: '/Users/jakob/PycharmProjects/H2_pathways_repo/data/raw/H2_supply_route_assessment.xlsx'",
     "output_type": "error",
     "traceback": [
      "\u001B[1;31m---------------------------------------------------------------------------\u001B[0m",
      "\u001B[1;31mPermissionError\u001B[0m                           Traceback (most recent call last)",
      "Cell \u001B[1;32mIn [186], line 5\u001B[0m\n\u001B[0;32m      2\u001B[0m \u001B[38;5;28;01mfrom\u001B[39;00m \u001B[38;5;21;01mopenpyxl\u001B[39;00m \u001B[38;5;28;01mimport\u001B[39;00m load_workbook\n\u001B[0;32m      3\u001B[0m path \u001B[38;5;241m=\u001B[39m \u001B[38;5;124m'\u001B[39m\u001B[38;5;124m/Users/jakob/PycharmProjects/H2_pathways_repo/data/raw/H2_supply_route_assessment.xlsx\u001B[39m\u001B[38;5;124m'\u001B[39m\n\u001B[1;32m----> 5\u001B[0m writer \u001B[38;5;241m=\u001B[39m \u001B[43mpd\u001B[49m\u001B[38;5;241;43m.\u001B[39;49m\u001B[43mExcelWriter\u001B[49m\u001B[43m(\u001B[49m\u001B[43mpath\u001B[49m\u001B[43m,\u001B[49m\u001B[43m \u001B[49m\u001B[43mengine\u001B[49m\u001B[38;5;241;43m=\u001B[39;49m\u001B[38;5;124;43m'\u001B[39;49m\u001B[38;5;124;43mopenpyxl\u001B[39;49m\u001B[38;5;124;43m'\u001B[39;49m\u001B[43m,\u001B[49m\u001B[43m \u001B[49m\u001B[43mmode\u001B[49m\u001B[38;5;241;43m=\u001B[39;49m\u001B[38;5;124;43m'\u001B[39;49m\u001B[38;5;124;43ma\u001B[39;49m\u001B[38;5;124;43m'\u001B[39;49m\u001B[43m,\u001B[49m\u001B[43m \u001B[49m\u001B[43mif_sheet_exists\u001B[49m\u001B[38;5;241;43m=\u001B[39;49m\u001B[38;5;124;43m'\u001B[39;49m\u001B[38;5;124;43moverlay\u001B[39;49m\u001B[38;5;124;43m'\u001B[39;49m\u001B[43m)\u001B[49m\n\u001B[0;32m      6\u001B[0m book \u001B[38;5;241m=\u001B[39m load_workbook(path)\n\u001B[0;32m      7\u001B[0m writer\u001B[38;5;241m.\u001B[39mbook \u001B[38;5;241m=\u001B[39m book\n",
      "File \u001B[1;32m~\\Miniconda3\\envs\\Desktop\\lib\\site-packages\\pandas\\io\\excel\\_openpyxl.py:60\u001B[0m, in \u001B[0;36mOpenpyxlWriter.__init__\u001B[1;34m(self, path, engine, date_format, datetime_format, mode, storage_options, if_sheet_exists, engine_kwargs, **kwargs)\u001B[0m\n\u001B[0;32m     56\u001B[0m \u001B[38;5;28;01mfrom\u001B[39;00m \u001B[38;5;21;01mopenpyxl\u001B[39;00m\u001B[38;5;21;01m.\u001B[39;00m\u001B[38;5;21;01mworkbook\u001B[39;00m \u001B[38;5;28;01mimport\u001B[39;00m Workbook\n\u001B[0;32m     58\u001B[0m engine_kwargs \u001B[38;5;241m=\u001B[39m combine_kwargs(engine_kwargs, kwargs)\n\u001B[1;32m---> 60\u001B[0m \u001B[38;5;28;43msuper\u001B[39;49m\u001B[43m(\u001B[49m\u001B[43m)\u001B[49m\u001B[38;5;241;43m.\u001B[39;49m\u001B[38;5;21;43m__init__\u001B[39;49m\u001B[43m(\u001B[49m\n\u001B[0;32m     61\u001B[0m \u001B[43m    \u001B[49m\u001B[43mpath\u001B[49m\u001B[43m,\u001B[49m\n\u001B[0;32m     62\u001B[0m \u001B[43m    \u001B[49m\u001B[43mmode\u001B[49m\u001B[38;5;241;43m=\u001B[39;49m\u001B[43mmode\u001B[49m\u001B[43m,\u001B[49m\n\u001B[0;32m     63\u001B[0m \u001B[43m    \u001B[49m\u001B[43mstorage_options\u001B[49m\u001B[38;5;241;43m=\u001B[39;49m\u001B[43mstorage_options\u001B[49m\u001B[43m,\u001B[49m\n\u001B[0;32m     64\u001B[0m \u001B[43m    \u001B[49m\u001B[43mif_sheet_exists\u001B[49m\u001B[38;5;241;43m=\u001B[39;49m\u001B[43mif_sheet_exists\u001B[49m\u001B[43m,\u001B[49m\n\u001B[0;32m     65\u001B[0m \u001B[43m    \u001B[49m\u001B[43mengine_kwargs\u001B[49m\u001B[38;5;241;43m=\u001B[39;49m\u001B[43mengine_kwargs\u001B[49m\u001B[43m,\u001B[49m\n\u001B[0;32m     66\u001B[0m \u001B[43m\u001B[49m\u001B[43m)\u001B[49m\n\u001B[0;32m     68\u001B[0m \u001B[38;5;66;03m# ExcelWriter replaced \"a\" by \"r+\" to allow us to first read the excel file from\u001B[39;00m\n\u001B[0;32m     69\u001B[0m \u001B[38;5;66;03m# the file and later write to it\u001B[39;00m\n\u001B[0;32m     70\u001B[0m \u001B[38;5;28;01mif\u001B[39;00m \u001B[38;5;124m\"\u001B[39m\u001B[38;5;124mr+\u001B[39m\u001B[38;5;124m\"\u001B[39m \u001B[38;5;129;01min\u001B[39;00m \u001B[38;5;28mself\u001B[39m\u001B[38;5;241m.\u001B[39m_mode:  \u001B[38;5;66;03m# Load from existing workbook\u001B[39;00m\n",
      "File \u001B[1;32m~\\Miniconda3\\envs\\Desktop\\lib\\site-packages\\pandas\\io\\excel\\_base.py:1313\u001B[0m, in \u001B[0;36mExcelWriter.__init__\u001B[1;34m(self, path, engine, date_format, datetime_format, mode, storage_options, if_sheet_exists, engine_kwargs, **kwargs)\u001B[0m\n\u001B[0;32m   1309\u001B[0m \u001B[38;5;28mself\u001B[39m\u001B[38;5;241m.\u001B[39m_handles \u001B[38;5;241m=\u001B[39m IOHandles(\n\u001B[0;32m   1310\u001B[0m     cast(IO[\u001B[38;5;28mbytes\u001B[39m], path), compression\u001B[38;5;241m=\u001B[39m{\u001B[38;5;124m\"\u001B[39m\u001B[38;5;124mcompression\u001B[39m\u001B[38;5;124m\"\u001B[39m: \u001B[38;5;28;01mNone\u001B[39;00m}\n\u001B[0;32m   1311\u001B[0m )\n\u001B[0;32m   1312\u001B[0m \u001B[38;5;28;01mif\u001B[39;00m \u001B[38;5;129;01mnot\u001B[39;00m \u001B[38;5;28misinstance\u001B[39m(path, ExcelWriter):\n\u001B[1;32m-> 1313\u001B[0m     \u001B[38;5;28mself\u001B[39m\u001B[38;5;241m.\u001B[39m_handles \u001B[38;5;241m=\u001B[39m \u001B[43mget_handle\u001B[49m\u001B[43m(\u001B[49m\n\u001B[0;32m   1314\u001B[0m \u001B[43m        \u001B[49m\u001B[43mpath\u001B[49m\u001B[43m,\u001B[49m\u001B[43m \u001B[49m\u001B[43mmode\u001B[49m\u001B[43m,\u001B[49m\u001B[43m \u001B[49m\u001B[43mstorage_options\u001B[49m\u001B[38;5;241;43m=\u001B[39;49m\u001B[43mstorage_options\u001B[49m\u001B[43m,\u001B[49m\u001B[43m \u001B[49m\u001B[43mis_text\u001B[49m\u001B[38;5;241;43m=\u001B[39;49m\u001B[38;5;28;43;01mFalse\u001B[39;49;00m\n\u001B[0;32m   1315\u001B[0m \u001B[43m    \u001B[49m\u001B[43m)\u001B[49m\n\u001B[0;32m   1316\u001B[0m \u001B[38;5;28mself\u001B[39m\u001B[38;5;241m.\u001B[39m_cur_sheet \u001B[38;5;241m=\u001B[39m \u001B[38;5;28;01mNone\u001B[39;00m\n\u001B[0;32m   1318\u001B[0m \u001B[38;5;28;01mif\u001B[39;00m date_format \u001B[38;5;129;01mis\u001B[39;00m \u001B[38;5;28;01mNone\u001B[39;00m:\n",
      "File \u001B[1;32m~\\Miniconda3\\envs\\Desktop\\lib\\site-packages\\pandas\\io\\common.py:865\u001B[0m, in \u001B[0;36mget_handle\u001B[1;34m(path_or_buf, mode, encoding, compression, memory_map, is_text, errors, storage_options)\u001B[0m\n\u001B[0;32m    856\u001B[0m         handle \u001B[38;5;241m=\u001B[39m \u001B[38;5;28mopen\u001B[39m(\n\u001B[0;32m    857\u001B[0m             handle,\n\u001B[0;32m    858\u001B[0m             ioargs\u001B[38;5;241m.\u001B[39mmode,\n\u001B[1;32m   (...)\u001B[0m\n\u001B[0;32m    861\u001B[0m             newline\u001B[38;5;241m=\u001B[39m\u001B[38;5;124m\"\u001B[39m\u001B[38;5;124m\"\u001B[39m,\n\u001B[0;32m    862\u001B[0m         )\n\u001B[0;32m    863\u001B[0m     \u001B[38;5;28;01melse\u001B[39;00m:\n\u001B[0;32m    864\u001B[0m         \u001B[38;5;66;03m# Binary mode\u001B[39;00m\n\u001B[1;32m--> 865\u001B[0m         handle \u001B[38;5;241m=\u001B[39m \u001B[38;5;28;43mopen\u001B[39;49m\u001B[43m(\u001B[49m\u001B[43mhandle\u001B[49m\u001B[43m,\u001B[49m\u001B[43m \u001B[49m\u001B[43mioargs\u001B[49m\u001B[38;5;241;43m.\u001B[39;49m\u001B[43mmode\u001B[49m\u001B[43m)\u001B[49m\n\u001B[0;32m    866\u001B[0m     handles\u001B[38;5;241m.\u001B[39mappend(handle)\n\u001B[0;32m    868\u001B[0m \u001B[38;5;66;03m# Convert BytesIO or file objects passed with an encoding\u001B[39;00m\n",
      "\u001B[1;31mPermissionError\u001B[0m: [Errno 13] Permission denied: '/Users/jakob/PycharmProjects/H2_pathways_repo/data/raw/H2_supply_route_assessment.xlsx'"
     ]
    }
   ],
   "source": [
    "# export result to excel\n",
    "from openpyxl import load_workbook\n",
    "path = '/Users/jakob/PycharmProjects/H2_pathways_repo/data/raw/H2_supply_route_assessment.xlsx'\n",
    "\n",
    "writer = pd.ExcelWriter(path, engine='openpyxl', mode='a', if_sheet_exists='overlay')\n",
    "book = load_workbook(path)\n",
    "writer.book = book\n",
    "writer.sheets = dict((ws.title, ws) for ws in book.worksheets)\n",
    "\n",
    "ws = book['Reference Results']\n",
    "\n",
    "result.to_excel(writer, sheet_name='Reference Results', index=False, startcol=ws.max_column)\n",
    "book.save('/Users/jakob/PycharmProjects/H2_pathways_repo/data/raw/H2_supply_route_assessment.xlsx')\n",
    "book.close()"
   ],
   "metadata": {
    "collapsed": false,
    "pycharm": {
     "name": "#%%\n"
    }
   }
  },
  {
   "cell_type": "code",
   "execution_count": null,
   "outputs": [],
   "source": [
    "# Create csv file from results dataframe\n",
    "path = r'/Users/jakob/PycharmProjects/H2_pathways_repo/data/processed'\n",
    "output_file = os.path.join(path, 'LH2_Export_terminal_costs.csv')\n",
    "result.to_csv(output_file, sep=';')"
   ],
   "metadata": {
    "collapsed": false,
    "pycharm": {
     "name": "#%%\n"
    }
   }
  },
  {
   "cell_type": "markdown",
   "source": [
    "Plot export terminal costs"
   ],
   "metadata": {
    "collapsed": false,
    "pycharm": {
     "name": "#%% md\n"
    }
   }
  },
  {
   "cell_type": "code",
   "execution_count": 187,
   "outputs": [
    {
     "data": {
      "text/plain": "<Figure size 1000x600 with 1 Axes>",
      "image/png": "[encoded data removed]"
     },
     "metadata": {},
     "output_type": "display_data"
    }
   ],
   "source": [
    "# Plot cost curve for export terminal costs\n",
    "fig, ax = plt.subplots(figsize=(10,6))\n",
    "plt.plot(result, color = 'red', linestyle = 'solid')\n",
    "plt.grid(True, axis = 'y')\n",
    "ax.set_axisbelow(True)\n",
    "plt.plot(result, color='red', linestyle='dashed')\n",
    "plt.title('Export terminal costs over time', fontweight='bold', fontsize='large')\n",
    "plt.legend(['Export terminal costs in €/kg_H2'])\n",
    "plt.xlabel('Year', fontsize='large')\n",
    "plt.ylabel('Cost [€/kg_H2]', fontsize='large')\n",
    "plt.show()"
   ],
   "metadata": {
    "collapsed": false,
    "pycharm": {
     "name": "#%%\n"
    }
   }
  },
  {
   "cell_type": "markdown",
   "source": [],
   "metadata": {
    "collapsed": false,
    "pycharm": {
     "name": "#%% md\n"
    }
   }
  },
  {
   "cell_type": "markdown",
   "source": [
    "## Shipping"
   ],
   "metadata": {
    "collapsed": false,
    "pycharm": {
     "name": "#%% md\n"
    }
   }
  },
  {
   "cell_type": "code",
   "execution_count": 188,
   "outputs": [
    {
     "data": {
      "text/plain": "30.0"
     },
     "execution_count": 188,
     "metadata": {},
     "output_type": "execute_result"
    }
   ],
   "source": [
    "# Technical lifetime of ships in years\n",
    "l_ship = float(tea_lh2.loc['Shipping - Technical Lifetime [Years]']['LH2'])\n",
    "l_ship"
   ],
   "metadata": {
    "collapsed": false,
    "pycharm": {
     "name": "#%%\n"
    }
   }
  },
  {
   "cell_type": "code",
   "execution_count": 189,
   "outputs": [
    {
     "data": {
      "text/plain": "0.06505143508027657"
     },
     "execution_count": 189,
     "metadata": {},
     "output_type": "execute_result"
    }
   ],
   "source": [
    "# Amortisation factor for shipping\n",
    "alpha_ship = (i_tra * (1 + i_tra) ** l_ship) / (((1 + i_tra) ** l_ship) - 1)\n",
    "alpha_ship\n"
   ],
   "metadata": {
    "collapsed": false,
    "pycharm": {
     "name": "#%%\n"
    }
   }
  },
  {
   "cell_type": "code",
   "execution_count": 190,
   "outputs": [
    {
     "data": {
      "text/plain": "602.403"
     },
     "execution_count": 190,
     "metadata": {},
     "output_type": "execute_result"
    }
   ],
   "source": [
    "# Distance between countries via ship in [km]\n",
    "d_sea = float(tra_d[(tra_d['Origin_Country'] == 'Norway') & (tra_d['Destination_Country'] == 'Germany')]['sea distance (km)'].values)\n",
    "d_sea"
   ],
   "metadata": {
    "collapsed": false,
    "pycharm": {
     "name": "#%%\n"
    }
   }
  },
  {
   "cell_type": "code",
   "execution_count": 191,
   "outputs": [
    {
     "data": {
      "text/plain": "30.0"
     },
     "execution_count": 191,
     "metadata": {},
     "output_type": "execute_result"
    }
   ],
   "source": [
    "# Ship speed in [km/h]\n",
    "v_ship = float(tea_lh2.loc['Shipping - Ship speed [km/h]']['LH2'])\n",
    "v_ship"
   ],
   "metadata": {
    "collapsed": false,
    "pycharm": {
     "name": "#%%\n"
    }
   }
  },
  {
   "cell_type": "code",
   "execution_count": 192,
   "outputs": [
    {
     "data": {
      "text/plain": "48.0"
     },
     "execution_count": 192,
     "metadata": {},
     "output_type": "execute_result"
    }
   ],
   "source": [
    "# Berthing time (time for unloading and loading in a harbour) in [h]\n",
    "h_ship = float(tea_lh2.loc['Shipping - Berthing time [hours]']['LH2'])\n",
    "h_ship\n"
   ],
   "metadata": {
    "collapsed": false,
    "pycharm": {
     "name": "#%%\n"
    }
   }
  },
  {
   "cell_type": "code",
   "execution_count": 193,
   "outputs": [
    {
     "data": {
      "text/plain": "8.333333333333333e-05"
     },
     "execution_count": 193,
     "metadata": {},
     "output_type": "execute_result"
    }
   ],
   "source": [
    "# Boil-off when shipping in [%/day] to [%/hour]\n",
    "bog_ship = float(tea_lh2.loc['Shipping - Boil off opt. [%/day]']['LH2'])/24\n",
    "bog_ship"
   ],
   "metadata": {
    "collapsed": false,
    "pycharm": {
     "name": "#%%\n"
    }
   }
  },
  {
   "cell_type": "code",
   "execution_count": 194,
   "outputs": [
    {
     "data": {
      "text/plain": "1.1265151515151516e-06"
     },
     "execution_count": 194,
     "metadata": {},
     "output_type": "execute_result"
    }
   ],
   "source": [
    "# Fuel consumption of a ship in [kg_h2/t/km]\n",
    "f_ship = float(tea_lh2.loc['Shipping - Fuel use [kg H2/t/km]']['LH2'])/1000\n",
    "f_ship"
   ],
   "metadata": {
    "collapsed": false,
    "pycharm": {
     "name": "#%%\n"
    }
   }
  },
  {
   "cell_type": "code",
   "execution_count": 195,
   "outputs": [
    {
     "data": {
      "text/plain": "0.04"
     },
     "execution_count": 195,
     "metadata": {},
     "output_type": "execute_result"
    }
   ],
   "source": [
    "opex_ship_share = float(tea_lh2.loc['Shipping - Annual OPEX [% of CAPEX]']['LH2'])\n",
    "opex_ship_share"
   ],
   "metadata": {
    "collapsed": false,
    "pycharm": {
     "name": "#%%\n"
    }
   }
  },
  {
   "cell_type": "markdown",
   "source": [
    "Fuel cost calculation"
   ],
   "metadata": {
    "collapsed": false,
    "pycharm": {
     "name": "#%% md\n"
    }
   }
  },
  {
   "cell_type": "code",
   "execution_count": 196,
   "outputs": [
    {
     "data": {
      "text/plain": "      Minimal_production_costs\nYears                         \n2025         2.491992405919429\n2026         2.373446744054794\n2027         2.155720174849315\n2028         1.821651889643836\n2029         1.831195888438356\n2030         1.839386671232877\n2031         1.856516763082192\n2032         1.872222648339041\n2033         1.886501533333048\n2034         1.899350764077354\n2035         1.910767819284446\n2036         1.920750303731182\n2037         1.929295941955582\n2038         1.908207820227787\n2039        1.8711123070760973\n2040         1.834075921835056\n2041        1.8017823291700557\n2042        1.7708218947763135\n2043        1.7405667032909506\n2044        1.7142073374615916\n2045        1.6595645117814275\n2046        1.6274200600322133\n2047        1.5963384480077916\n2048         1.566224823052684\n2049        1.5369963695761606\n2050        1.5085803374409712",
      "text/html": "<div>\n<style scoped>\n    .dataframe tbody tr th:only-of-type {\n        vertical-align: middle;\n    }\n\n    .dataframe tbody tr th {\n        vertical-align: top;\n    }\n\n    .dataframe thead th {\n        text-align: right;\n    }\n</style>\n<table border=\"1\" class=\"dataframe\">\n  <thead>\n    <tr style=\"text-align: right;\">\n      <th></th>\n      <th>Minimal_production_costs</th>\n    </tr>\n    <tr>\n      <th>Years</th>\n      <th></th>\n    </tr>\n  </thead>\n  <tbody>\n    <tr>\n      <th>2025</th>\n      <td>2.491992405919429</td>\n    </tr>\n    <tr>\n      <th>2026</th>\n      <td>2.373446744054794</td>\n    </tr>\n    <tr>\n      <th>2027</th>\n      <td>2.155720174849315</td>\n    </tr>\n    <tr>\n      <th>2028</th>\n      <td>1.821651889643836</td>\n    </tr>\n    <tr>\n      <th>2029</th>\n      <td>1.831195888438356</td>\n    </tr>\n    <tr>\n      <th>2030</th>\n      <td>1.839386671232877</td>\n    </tr>\n    <tr>\n      <th>2031</th>\n      <td>1.856516763082192</td>\n    </tr>\n    <tr>\n      <th>2032</th>\n      <td>1.872222648339041</td>\n    </tr>\n    <tr>\n      <th>2033</th>\n      <td>1.886501533333048</td>\n    </tr>\n    <tr>\n      <th>2034</th>\n      <td>1.899350764077354</td>\n    </tr>\n    <tr>\n      <th>2035</th>\n      <td>1.910767819284446</td>\n    </tr>\n    <tr>\n      <th>2036</th>\n      <td>1.920750303731182</td>\n    </tr>\n    <tr>\n      <th>2037</th>\n      <td>1.929295941955582</td>\n    </tr>\n    <tr>\n      <th>2038</th>\n      <td>1.908207820227787</td>\n    </tr>\n    <tr>\n      <th>2039</th>\n      <td>1.8711123070760973</td>\n    </tr>\n    <tr>\n      <th>2040</th>\n      <td>1.834075921835056</td>\n    </tr>\n    <tr>\n      <th>2041</th>\n      <td>1.8017823291700557</td>\n    </tr>\n    <tr>\n      <th>2042</th>\n      <td>1.7708218947763135</td>\n    </tr>\n    <tr>\n      <th>2043</th>\n      <td>1.7405667032909506</td>\n    </tr>\n    <tr>\n      <th>2044</th>\n      <td>1.7142073374615916</td>\n    </tr>\n    <tr>\n      <th>2045</th>\n      <td>1.6595645117814275</td>\n    </tr>\n    <tr>\n      <th>2046</th>\n      <td>1.6274200600322133</td>\n    </tr>\n    <tr>\n      <th>2047</th>\n      <td>1.5963384480077916</td>\n    </tr>\n    <tr>\n      <th>2048</th>\n      <td>1.566224823052684</td>\n    </tr>\n    <tr>\n      <th>2049</th>\n      <td>1.5369963695761606</td>\n    </tr>\n    <tr>\n      <th>2050</th>\n      <td>1.5085803374409712</td>\n    </tr>\n  </tbody>\n</table>\n</div>"
     },
     "execution_count": 196,
     "metadata": {},
     "output_type": "execute_result"
    }
   ],
   "source": [
    "# Cost of transported hydrogen in [$/kg_h2] in year y\n",
    "LCOH_min = pd.read_csv(r'\\\\dena.de\\Daten\\Home\\Reuter\\Desktop\\H2_pathways_repo\\data\\processed\\Minimal_production_costs.csv', delimiter=';',index_col=0, decimal=',')\n",
    "LCOH_min"
   ],
   "metadata": {
    "collapsed": false,
    "pycharm": {
     "name": "#%%\n"
    }
   }
  },
  {
   "cell_type": "code",
   "execution_count": 197,
   "outputs": [],
   "source": [
    "# Cost of transported hydrogen carrier in [€/kg_h2] in year y\n",
    "H2_costs = (LCOH_min.loc[::]['Minimal_production_costs']).apply(pd.to_numeric)\n",
    "Con_costs = (LH2_Liquefaction_costs.loc[::]['LH2_Liquefaction_costs']).apply(pd.to_numeric)\n",
    "ET_costs =  (LH2_Export_terminal_costs.loc[::]['LH2_Export_terminal_costs']).apply(pd.to_numeric)"
   ],
   "metadata": {
    "collapsed": false,
    "pycharm": {
     "name": "#%%\n"
    }
   }
  },
  {
   "cell_type": "code",
   "execution_count": 198,
   "outputs": [
    {
     "data": {
      "text/plain": "       LH2_cargo_cost\nYears                \n2025         3.812541\n2026         3.695979\n2027         3.479452\n2028         3.145801\n2029         3.154979\n2030         3.162021\n2031         3.140754\n2032         3.118028\n2033         3.093838\n2034         3.068184\n2035         3.041062\n2036         3.012469\n2037         2.982404\n2038         2.922670\n2039         2.846893\n2040         2.771139\n2041         2.695077\n2042         2.620935\n2043         2.548086\n2044         2.479720\n2045         2.383658\n2046         2.310682\n2047         2.239356\n2048         2.169586\n2049         2.101288\n2050         2.034390",
      "text/html": "<div>\n<style scoped>\n    .dataframe tbody tr th:only-of-type {\n        vertical-align: middle;\n    }\n\n    .dataframe tbody tr th {\n        vertical-align: top;\n    }\n\n    .dataframe thead th {\n        text-align: right;\n    }\n</style>\n<table border=\"1\" class=\"dataframe\">\n  <thead>\n    <tr style=\"text-align: right;\">\n      <th></th>\n      <th>LH2_cargo_cost</th>\n    </tr>\n    <tr>\n      <th>Years</th>\n      <th></th>\n    </tr>\n  </thead>\n  <tbody>\n    <tr>\n      <th>2025</th>\n      <td>3.812541</td>\n    </tr>\n    <tr>\n      <th>2026</th>\n      <td>3.695979</td>\n    </tr>\n    <tr>\n      <th>2027</th>\n      <td>3.479452</td>\n    </tr>\n    <tr>\n      <th>2028</th>\n      <td>3.145801</td>\n    </tr>\n    <tr>\n      <th>2029</th>\n      <td>3.154979</td>\n    </tr>\n    <tr>\n      <th>2030</th>\n      <td>3.162021</td>\n    </tr>\n    <tr>\n      <th>2031</th>\n      <td>3.140754</td>\n    </tr>\n    <tr>\n      <th>2032</th>\n      <td>3.118028</td>\n    </tr>\n    <tr>\n      <th>2033</th>\n      <td>3.093838</td>\n    </tr>\n    <tr>\n      <th>2034</th>\n      <td>3.068184</td>\n    </tr>\n    <tr>\n      <th>2035</th>\n      <td>3.041062</td>\n    </tr>\n    <tr>\n      <th>2036</th>\n      <td>3.012469</td>\n    </tr>\n    <tr>\n      <th>2037</th>\n      <td>2.982404</td>\n    </tr>\n    <tr>\n      <th>2038</th>\n      <td>2.922670</td>\n    </tr>\n    <tr>\n      <th>2039</th>\n      <td>2.846893</td>\n    </tr>\n    <tr>\n      <th>2040</th>\n      <td>2.771139</td>\n    </tr>\n    <tr>\n      <th>2041</th>\n      <td>2.695077</td>\n    </tr>\n    <tr>\n      <th>2042</th>\n      <td>2.620935</td>\n    </tr>\n    <tr>\n      <th>2043</th>\n      <td>2.548086</td>\n    </tr>\n    <tr>\n      <th>2044</th>\n      <td>2.479720</td>\n    </tr>\n    <tr>\n      <th>2045</th>\n      <td>2.383658</td>\n    </tr>\n    <tr>\n      <th>2046</th>\n      <td>2.310682</td>\n    </tr>\n    <tr>\n      <th>2047</th>\n      <td>2.239356</td>\n    </tr>\n    <tr>\n      <th>2048</th>\n      <td>2.169586</td>\n    </tr>\n    <tr>\n      <th>2049</th>\n      <td>2.101288</td>\n    </tr>\n    <tr>\n      <th>2050</th>\n      <td>2.034390</td>\n    </tr>\n  </tbody>\n</table>\n</div>"
     },
     "execution_count": 198,
     "metadata": {},
     "output_type": "execute_result"
    }
   ],
   "source": [
    "# €/kg_H2\n",
    "LH2_cargo_cost = (H2_costs + Con_costs + ET_costs).to_frame('LH2_cargo_cost')\n",
    "LH2_cargo_cost"
   ],
   "metadata": {
    "collapsed": false,
    "pycharm": {
     "name": "#%%\n"
    }
   }
  },
  {
   "cell_type": "markdown",
   "source": [
    "Calc. shipping costs @ 10.000km"
   ],
   "metadata": {
    "collapsed": false,
    "pycharm": {
     "name": "#%% md\n"
    }
   }
  },
  {
   "cell_type": "code",
   "execution_count": 199,
   "outputs": [],
   "source": [
    "d_sea = 100"
   ],
   "metadata": {
    "collapsed": false,
    "pycharm": {
     "name": "#%%\n"
    }
   }
  },
  {
   "cell_type": "markdown",
   "source": [
    "Definition of the cost calculation function for the maritime shipping.\n",
    " [%]\n",
    "d_sea [km]\n",
    "v_ship [km/h]\n",
    "h_ship [h] berthing time\n",
    "bog_ship [%/day]\n",
    "f_ship [kg/kg/km]] Fuel use\n",
    "Time relevant variables:\n",
    "capex [€/kg/a]\n",
    "opex [€/kg/a]\n",
    "lcoh in [€/kg_h2]"
   ],
   "metadata": {
    "collapsed": false,
    "pycharm": {
     "name": "#%% md\n"
    }
   }
  },
  {
   "cell_type": "markdown",
   "source": [
    "Fuel assumptions: outward journey - boil-off is used as fuel.\n",
    "Return journey: Residual H2 is used as fuel."
   ],
   "metadata": {
    "collapsed": false,
    "pycharm": {
     "name": "#%% md\n"
    }
   }
  },
  {
   "cell_type": "code",
   "execution_count": 200,
   "outputs": [],
   "source": [
    "def calculate_ship_costs():\n",
    "\n",
    "    result = (alpha_ship * capex_ship_y + opex_ship_y) / (8760/(2*(d_sea/v_ship + h_ship)))\\\n",
    "             /(1-(bog_ship * d_sea/v_ship) - (f_ship  * d_sea))\\\n",
    "             + (bog_ship * d_sea/v_ship + f_ship * d_sea) * lcoh\n",
    "\n",
    "    return result"
   ],
   "metadata": {
    "collapsed": false,
    "pycharm": {
     "name": "#%%\n"
    }
   }
  },
  {
   "cell_type": "code",
   "execution_count": 201,
   "outputs": [
    {
     "data": {
      "text/plain": "      LH2_Shipping_costs\nYears                   \n2025            0.171744\n2026            0.163067\n2027            0.154352\n2028             0.14559\n2029            0.136963\n2030            0.128334\n2031            0.119695\n2032            0.111055\n2033            0.102415\n2034            0.093774\n2035            0.085132\n2036             0.07649\n2037            0.067847\n2038            0.059193\n2039            0.050532\n2040            0.041871\n2041            0.041842\n2042            0.041813\n2043            0.041784\n2044            0.041758\n2045             0.04172\n2046            0.041692\n2047            0.041664\n2048            0.041637\n2049             0.04161\n2050            0.041584",
      "text/html": "<div>\n<style scoped>\n    .dataframe tbody tr th:only-of-type {\n        vertical-align: middle;\n    }\n\n    .dataframe tbody tr th {\n        vertical-align: top;\n    }\n\n    .dataframe thead th {\n        text-align: right;\n    }\n</style>\n<table border=\"1\" class=\"dataframe\">\n  <thead>\n    <tr style=\"text-align: right;\">\n      <th></th>\n      <th>LH2_Shipping_costs</th>\n    </tr>\n    <tr>\n      <th>Years</th>\n      <th></th>\n    </tr>\n  </thead>\n  <tbody>\n    <tr>\n      <th>2025</th>\n      <td>0.171744</td>\n    </tr>\n    <tr>\n      <th>2026</th>\n      <td>0.163067</td>\n    </tr>\n    <tr>\n      <th>2027</th>\n      <td>0.154352</td>\n    </tr>\n    <tr>\n      <th>2028</th>\n      <td>0.14559</td>\n    </tr>\n    <tr>\n      <th>2029</th>\n      <td>0.136963</td>\n    </tr>\n    <tr>\n      <th>2030</th>\n      <td>0.128334</td>\n    </tr>\n    <tr>\n      <th>2031</th>\n      <td>0.119695</td>\n    </tr>\n    <tr>\n      <th>2032</th>\n      <td>0.111055</td>\n    </tr>\n    <tr>\n      <th>2033</th>\n      <td>0.102415</td>\n    </tr>\n    <tr>\n      <th>2034</th>\n      <td>0.093774</td>\n    </tr>\n    <tr>\n      <th>2035</th>\n      <td>0.085132</td>\n    </tr>\n    <tr>\n      <th>2036</th>\n      <td>0.07649</td>\n    </tr>\n    <tr>\n      <th>2037</th>\n      <td>0.067847</td>\n    </tr>\n    <tr>\n      <th>2038</th>\n      <td>0.059193</td>\n    </tr>\n    <tr>\n      <th>2039</th>\n      <td>0.050532</td>\n    </tr>\n    <tr>\n      <th>2040</th>\n      <td>0.041871</td>\n    </tr>\n    <tr>\n      <th>2041</th>\n      <td>0.041842</td>\n    </tr>\n    <tr>\n      <th>2042</th>\n      <td>0.041813</td>\n    </tr>\n    <tr>\n      <th>2043</th>\n      <td>0.041784</td>\n    </tr>\n    <tr>\n      <th>2044</th>\n      <td>0.041758</td>\n    </tr>\n    <tr>\n      <th>2045</th>\n      <td>0.04172</td>\n    </tr>\n    <tr>\n      <th>2046</th>\n      <td>0.041692</td>\n    </tr>\n    <tr>\n      <th>2047</th>\n      <td>0.041664</td>\n    </tr>\n    <tr>\n      <th>2048</th>\n      <td>0.041637</td>\n    </tr>\n    <tr>\n      <th>2049</th>\n      <td>0.04161</td>\n    </tr>\n    <tr>\n      <th>2050</th>\n      <td>0.041584</td>\n    </tr>\n  </tbody>\n</table>\n</div>"
     },
     "execution_count": 201,
     "metadata": {},
     "output_type": "execute_result"
    }
   ],
   "source": [
    "# Calculation of shipping costs [€/kg_h2] from 2025 to 2050.\n",
    "years = np.arange(2025, 2051)\n",
    "result = pd.DataFrame(index=years, columns=['LH2_Shipping_costs'])\n",
    "result.index.name = 'Years'\n",
    "\n",
    "for year in years:\n",
    "    # get capex, opex, xx\n",
    "    capex_ship_y = float(tea_lh2.loc['Shipping - Capex/Ship opt. [€/t/a]'][year])/1000\n",
    "    opex_ship_y = capex_ship_y * opex_ship_share\n",
    "    lcoh = float(LH2_cargo_cost.loc[year]['LH2_cargo_cost'])\n",
    "\n",
    "    # calculate costs of specific year\n",
    "    result.LH2_Shipping_costs.loc[year] = calculate_ship_costs()\n",
    "\n",
    "result"
   ],
   "metadata": {
    "collapsed": false,
    "pycharm": {
     "name": "#%%\n"
    }
   }
  },
  {
   "cell_type": "code",
   "execution_count": 202,
   "outputs": [],
   "source": [
    "LH2_Shipping_costs = result"
   ],
   "metadata": {
    "collapsed": false,
    "pycharm": {
     "name": "#%%\n"
    }
   }
  },
  {
   "cell_type": "code",
   "execution_count": 203,
   "outputs": [
    {
     "ename": "PermissionError",
     "evalue": "[Errno 13] Permission denied: '/Users/jakob/PycharmProjects/H2_pathways_repo/data/raw/H2_supply_route_assessment.xlsx'",
     "output_type": "error",
     "traceback": [
      "\u001B[1;31m---------------------------------------------------------------------------\u001B[0m",
      "\u001B[1;31mPermissionError\u001B[0m                           Traceback (most recent call last)",
      "Cell \u001B[1;32mIn [203], line 5\u001B[0m\n\u001B[0;32m      2\u001B[0m \u001B[38;5;28;01mfrom\u001B[39;00m \u001B[38;5;21;01mopenpyxl\u001B[39;00m \u001B[38;5;28;01mimport\u001B[39;00m load_workbook\n\u001B[0;32m      3\u001B[0m path \u001B[38;5;241m=\u001B[39m \u001B[38;5;124m'\u001B[39m\u001B[38;5;124m/Users/jakob/PycharmProjects/H2_pathways_repo/data/raw/H2_supply_route_assessment.xlsx\u001B[39m\u001B[38;5;124m'\u001B[39m\n\u001B[1;32m----> 5\u001B[0m writer \u001B[38;5;241m=\u001B[39m \u001B[43mpd\u001B[49m\u001B[38;5;241;43m.\u001B[39;49m\u001B[43mExcelWriter\u001B[49m\u001B[43m(\u001B[49m\u001B[43mpath\u001B[49m\u001B[43m,\u001B[49m\u001B[43m \u001B[49m\u001B[43mengine\u001B[49m\u001B[38;5;241;43m=\u001B[39;49m\u001B[38;5;124;43m'\u001B[39;49m\u001B[38;5;124;43mopenpyxl\u001B[39;49m\u001B[38;5;124;43m'\u001B[39;49m\u001B[43m,\u001B[49m\u001B[43m \u001B[49m\u001B[43mmode\u001B[49m\u001B[38;5;241;43m=\u001B[39;49m\u001B[38;5;124;43m'\u001B[39;49m\u001B[38;5;124;43ma\u001B[39;49m\u001B[38;5;124;43m'\u001B[39;49m\u001B[43m,\u001B[49m\u001B[43m \u001B[49m\u001B[43mif_sheet_exists\u001B[49m\u001B[38;5;241;43m=\u001B[39;49m\u001B[38;5;124;43m'\u001B[39;49m\u001B[38;5;124;43moverlay\u001B[39;49m\u001B[38;5;124;43m'\u001B[39;49m\u001B[43m)\u001B[49m\n\u001B[0;32m      6\u001B[0m book \u001B[38;5;241m=\u001B[39m load_workbook(path)\n\u001B[0;32m      7\u001B[0m writer\u001B[38;5;241m.\u001B[39mbook \u001B[38;5;241m=\u001B[39m book\n",
      "File \u001B[1;32m~\\Miniconda3\\envs\\Desktop\\lib\\site-packages\\pandas\\io\\excel\\_openpyxl.py:60\u001B[0m, in \u001B[0;36mOpenpyxlWriter.__init__\u001B[1;34m(self, path, engine, date_format, datetime_format, mode, storage_options, if_sheet_exists, engine_kwargs, **kwargs)\u001B[0m\n\u001B[0;32m     56\u001B[0m \u001B[38;5;28;01mfrom\u001B[39;00m \u001B[38;5;21;01mopenpyxl\u001B[39;00m\u001B[38;5;21;01m.\u001B[39;00m\u001B[38;5;21;01mworkbook\u001B[39;00m \u001B[38;5;28;01mimport\u001B[39;00m Workbook\n\u001B[0;32m     58\u001B[0m engine_kwargs \u001B[38;5;241m=\u001B[39m combine_kwargs(engine_kwargs, kwargs)\n\u001B[1;32m---> 60\u001B[0m \u001B[38;5;28;43msuper\u001B[39;49m\u001B[43m(\u001B[49m\u001B[43m)\u001B[49m\u001B[38;5;241;43m.\u001B[39;49m\u001B[38;5;21;43m__init__\u001B[39;49m\u001B[43m(\u001B[49m\n\u001B[0;32m     61\u001B[0m \u001B[43m    \u001B[49m\u001B[43mpath\u001B[49m\u001B[43m,\u001B[49m\n\u001B[0;32m     62\u001B[0m \u001B[43m    \u001B[49m\u001B[43mmode\u001B[49m\u001B[38;5;241;43m=\u001B[39;49m\u001B[43mmode\u001B[49m\u001B[43m,\u001B[49m\n\u001B[0;32m     63\u001B[0m \u001B[43m    \u001B[49m\u001B[43mstorage_options\u001B[49m\u001B[38;5;241;43m=\u001B[39;49m\u001B[43mstorage_options\u001B[49m\u001B[43m,\u001B[49m\n\u001B[0;32m     64\u001B[0m \u001B[43m    \u001B[49m\u001B[43mif_sheet_exists\u001B[49m\u001B[38;5;241;43m=\u001B[39;49m\u001B[43mif_sheet_exists\u001B[49m\u001B[43m,\u001B[49m\n\u001B[0;32m     65\u001B[0m \u001B[43m    \u001B[49m\u001B[43mengine_kwargs\u001B[49m\u001B[38;5;241;43m=\u001B[39;49m\u001B[43mengine_kwargs\u001B[49m\u001B[43m,\u001B[49m\n\u001B[0;32m     66\u001B[0m \u001B[43m\u001B[49m\u001B[43m)\u001B[49m\n\u001B[0;32m     68\u001B[0m \u001B[38;5;66;03m# ExcelWriter replaced \"a\" by \"r+\" to allow us to first read the excel file from\u001B[39;00m\n\u001B[0;32m     69\u001B[0m \u001B[38;5;66;03m# the file and later write to it\u001B[39;00m\n\u001B[0;32m     70\u001B[0m \u001B[38;5;28;01mif\u001B[39;00m \u001B[38;5;124m\"\u001B[39m\u001B[38;5;124mr+\u001B[39m\u001B[38;5;124m\"\u001B[39m \u001B[38;5;129;01min\u001B[39;00m \u001B[38;5;28mself\u001B[39m\u001B[38;5;241m.\u001B[39m_mode:  \u001B[38;5;66;03m# Load from existing workbook\u001B[39;00m\n",
      "File \u001B[1;32m~\\Miniconda3\\envs\\Desktop\\lib\\site-packages\\pandas\\io\\excel\\_base.py:1313\u001B[0m, in \u001B[0;36mExcelWriter.__init__\u001B[1;34m(self, path, engine, date_format, datetime_format, mode, storage_options, if_sheet_exists, engine_kwargs, **kwargs)\u001B[0m\n\u001B[0;32m   1309\u001B[0m \u001B[38;5;28mself\u001B[39m\u001B[38;5;241m.\u001B[39m_handles \u001B[38;5;241m=\u001B[39m IOHandles(\n\u001B[0;32m   1310\u001B[0m     cast(IO[\u001B[38;5;28mbytes\u001B[39m], path), compression\u001B[38;5;241m=\u001B[39m{\u001B[38;5;124m\"\u001B[39m\u001B[38;5;124mcompression\u001B[39m\u001B[38;5;124m\"\u001B[39m: \u001B[38;5;28;01mNone\u001B[39;00m}\n\u001B[0;32m   1311\u001B[0m )\n\u001B[0;32m   1312\u001B[0m \u001B[38;5;28;01mif\u001B[39;00m \u001B[38;5;129;01mnot\u001B[39;00m \u001B[38;5;28misinstance\u001B[39m(path, ExcelWriter):\n\u001B[1;32m-> 1313\u001B[0m     \u001B[38;5;28mself\u001B[39m\u001B[38;5;241m.\u001B[39m_handles \u001B[38;5;241m=\u001B[39m \u001B[43mget_handle\u001B[49m\u001B[43m(\u001B[49m\n\u001B[0;32m   1314\u001B[0m \u001B[43m        \u001B[49m\u001B[43mpath\u001B[49m\u001B[43m,\u001B[49m\u001B[43m \u001B[49m\u001B[43mmode\u001B[49m\u001B[43m,\u001B[49m\u001B[43m \u001B[49m\u001B[43mstorage_options\u001B[49m\u001B[38;5;241;43m=\u001B[39;49m\u001B[43mstorage_options\u001B[49m\u001B[43m,\u001B[49m\u001B[43m \u001B[49m\u001B[43mis_text\u001B[49m\u001B[38;5;241;43m=\u001B[39;49m\u001B[38;5;28;43;01mFalse\u001B[39;49;00m\n\u001B[0;32m   1315\u001B[0m \u001B[43m    \u001B[49m\u001B[43m)\u001B[49m\n\u001B[0;32m   1316\u001B[0m \u001B[38;5;28mself\u001B[39m\u001B[38;5;241m.\u001B[39m_cur_sheet \u001B[38;5;241m=\u001B[39m \u001B[38;5;28;01mNone\u001B[39;00m\n\u001B[0;32m   1318\u001B[0m \u001B[38;5;28;01mif\u001B[39;00m date_format \u001B[38;5;129;01mis\u001B[39;00m \u001B[38;5;28;01mNone\u001B[39;00m:\n",
      "File \u001B[1;32m~\\Miniconda3\\envs\\Desktop\\lib\\site-packages\\pandas\\io\\common.py:865\u001B[0m, in \u001B[0;36mget_handle\u001B[1;34m(path_or_buf, mode, encoding, compression, memory_map, is_text, errors, storage_options)\u001B[0m\n\u001B[0;32m    856\u001B[0m         handle \u001B[38;5;241m=\u001B[39m \u001B[38;5;28mopen\u001B[39m(\n\u001B[0;32m    857\u001B[0m             handle,\n\u001B[0;32m    858\u001B[0m             ioargs\u001B[38;5;241m.\u001B[39mmode,\n\u001B[1;32m   (...)\u001B[0m\n\u001B[0;32m    861\u001B[0m             newline\u001B[38;5;241m=\u001B[39m\u001B[38;5;124m\"\u001B[39m\u001B[38;5;124m\"\u001B[39m,\n\u001B[0;32m    862\u001B[0m         )\n\u001B[0;32m    863\u001B[0m     \u001B[38;5;28;01melse\u001B[39;00m:\n\u001B[0;32m    864\u001B[0m         \u001B[38;5;66;03m# Binary mode\u001B[39;00m\n\u001B[1;32m--> 865\u001B[0m         handle \u001B[38;5;241m=\u001B[39m \u001B[38;5;28;43mopen\u001B[39;49m\u001B[43m(\u001B[49m\u001B[43mhandle\u001B[49m\u001B[43m,\u001B[49m\u001B[43m \u001B[49m\u001B[43mioargs\u001B[49m\u001B[38;5;241;43m.\u001B[39;49m\u001B[43mmode\u001B[49m\u001B[43m)\u001B[49m\n\u001B[0;32m    866\u001B[0m     handles\u001B[38;5;241m.\u001B[39mappend(handle)\n\u001B[0;32m    868\u001B[0m \u001B[38;5;66;03m# Convert BytesIO or file objects passed with an encoding\u001B[39;00m\n",
      "\u001B[1;31mPermissionError\u001B[0m: [Errno 13] Permission denied: '/Users/jakob/PycharmProjects/H2_pathways_repo/data/raw/H2_supply_route_assessment.xlsx'"
     ]
    }
   ],
   "source": [
    "# export result to excel\n",
    "from openpyxl import load_workbook\n",
    "path = '/Users/jakob/PycharmProjects/H2_pathways_repo/data/raw/H2_supply_route_assessment.xlsx'\n",
    "\n",
    "writer = pd.ExcelWriter(path, engine='openpyxl', mode='a', if_sheet_exists='overlay')\n",
    "book = load_workbook(path)\n",
    "writer.book = book\n",
    "writer.sheets = dict((ws.title, ws) for ws in book.worksheets)\n",
    "\n",
    "ws = book['Reference Results']\n",
    "\n",
    "result.to_excel(writer, sheet_name='Reference Results', index=False, startcol=ws.max_column)\n",
    "book.save('/Users/jakob/PycharmProjects/H2_pathways_repo/data/raw/H2_supply_route_assessment.xlsx')\n",
    "book.close()"
   ],
   "metadata": {
    "collapsed": false,
    "pycharm": {
     "name": "#%%\n"
    }
   }
  },
  {
   "cell_type": "code",
   "execution_count": 204,
   "outputs": [],
   "source": [
    "# Create csv file from results dataframe\n",
    "output_file = os.path.join(path_csv, 'LH2_Shipping_costs.csv')\n",
    "result.to_csv(output_file, sep=';')"
   ],
   "metadata": {
    "collapsed": false,
    "pycharm": {
     "name": "#%%\n"
    }
   }
  },
  {
   "cell_type": "markdown",
   "source": [
    "Plot shipping costs"
   ],
   "metadata": {
    "collapsed": false,
    "pycharm": {
     "name": "#%% md\n"
    }
   }
  },
  {
   "cell_type": "code",
   "execution_count": 205,
   "outputs": [
    {
     "data": {
      "text/plain": "<Figure size 1000x600 with 1 Axes>",
      "image/png": "[encoded data removed]"
     },
     "metadata": {},
     "output_type": "display_data"
    }
   ],
   "source": [
    "# Plot cost curve of hydrogen production from NGR with CCS\n",
    "fig, ax = plt.subplots(figsize=(10,6))\n",
    "plt.plot(result, color = 'green', linestyle = 'solid')\n",
    "plt.grid(True, axis = 'y')\n",
    "ax.set_axisbelow(True)\n",
    "plt.title('Shipping costs over time in €/kg H2', fontweight='bold')\n",
    "plt.xlabel('Year')\n",
    "plt.ylabel('Cost')\n",
    "plt.show()"
   ],
   "metadata": {
    "collapsed": false,
    "pycharm": {
     "name": "#%%\n"
    }
   }
  },
  {
   "cell_type": "markdown",
   "source": [
    "## Import terminal"
   ],
   "metadata": {
    "collapsed": false,
    "pycharm": {
     "name": "#%% md\n"
    }
   }
  },
  {
   "cell_type": "code",
   "execution_count": 206,
   "outputs": [],
   "source": [
    "# Definition of variables for the import terminal costs"
   ],
   "metadata": {
    "collapsed": false,
    "pycharm": {
     "name": "#%%\n"
    }
   }
  },
  {
   "cell_type": "code",
   "execution_count": 207,
   "outputs": [],
   "source": [
    "# Amortisation factor for the import terminal\n",
    "alpha_it = alpha_et"
   ],
   "metadata": {
    "collapsed": false,
    "pycharm": {
     "name": "#%%\n"
    }
   }
  },
  {
   "cell_type": "code",
   "execution_count": 208,
   "outputs": [
    {
     "data": {
      "text/plain": "0.2"
     },
     "execution_count": 208,
     "metadata": {},
     "output_type": "execute_result"
    }
   ],
   "source": [
    "# Electricity consumption in kWh/kg H2\n",
    "el_it = float(tea_lh2.loc['Import Terminal - Electricity use [kWh/kg H2]']['LH2'])\n",
    "el_it"
   ],
   "metadata": {
    "collapsed": false,
    "pycharm": {
     "name": "#%%\n"
    }
   }
  },
  {
   "cell_type": "code",
   "execution_count": 209,
   "outputs": [
    {
     "data": {
      "text/plain": "0.001"
     },
     "execution_count": 209,
     "metadata": {},
     "output_type": "execute_result"
    }
   ],
   "source": [
    "# Import terminal boil-off in [%/day]\n",
    "bog_it = float(tea_lh2.loc['Import Terminal - Boil-off [%/day]']['LH2'])\n",
    "bog_it"
   ],
   "metadata": {
    "collapsed": false,
    "pycharm": {
     "name": "#%%\n"
    }
   }
  },
  {
   "cell_type": "code",
   "execution_count": 210,
   "outputs": [
    {
     "data": {
      "text/plain": "7.0"
     },
     "execution_count": 210,
     "metadata": {},
     "output_type": "execute_result"
    }
   ],
   "source": [
    "# Average storage time in the export terminal tanks in days\n",
    "t_it = float(tea_lh2.loc['Import Terminal - Storage length per load [days]']['LH2'])\n",
    "t_it"
   ],
   "metadata": {
    "collapsed": false,
    "pycharm": {
     "name": "#%%\n"
    }
   }
  },
  {
   "cell_type": "code",
   "execution_count": 211,
   "outputs": [
    {
     "data": {
      "text/plain": "0.04"
     },
     "execution_count": 211,
     "metadata": {},
     "output_type": "execute_result"
    }
   ],
   "source": [
    "opex_it_share =  float(tea_lh2.loc['Import Terminal - Annual OPEX [% of Opex]']['LH2'])\n",
    "opex_it_share"
   ],
   "metadata": {
    "collapsed": false,
    "pycharm": {
     "name": "#%%\n"
    }
   }
  },
  {
   "cell_type": "code",
   "execution_count": 212,
   "outputs": [],
   "source": [
    "# Import terminal costs in [$/kg_h2]:\n",
    "# Capex for the import terminal in [$/tpa]\n",
    "# Opex for the import terminal in [$/tpa]\n",
    "# Electricity consumption for the import terminal in [kWh/kg_h2]\n",
    "# Price for electricity in importing country [$/MWh]\n",
    "# Import terminal boil-off in [%/h]\n",
    "# Berthing time in import terminal in [h]\n",
    "# Cost of transported hydrogen in [$/kg_h2]\n",
    "years = np.arange(2025, 2051)\n",
    "result = pd.DataFrame(index=years, columns=['LH2_Import_terminal_costs'])\n",
    "result.index.name = 'Years'\n",
    "\n",
    "def calculate_import_terminal_costs():\n",
    "    result = (alpha_it * capex_it_y/1000 + opex_it_y/1000) + (el_it + el_reliq * t_it) * p_el_y* 0.89/1000\n",
    "\n",
    "    return result"
   ],
   "metadata": {
    "collapsed": false,
    "pycharm": {
     "name": "#%%\n"
    }
   }
  },
  {
   "cell_type": "code",
   "execution_count": 213,
   "outputs": [
    {
     "data": {
      "text/plain": "      LH2_Import_terminal_costs\nYears                          \n2025                   0.273697\n2026                   0.258624\n2027                   0.243551\n2028                   0.228478\n2029                   0.213405\n2030                   0.198332\n2031                   0.193974\n2032                   0.189689\n2033                   0.185468\n2034                   0.181306\n2035                   0.177197\n2036                   0.173134\n2037                   0.169114\n2038                   0.165133\n2039                   0.161186\n2040                   0.154756\n2041                   0.150559\n2042                   0.146362\n2043                   0.142164\n2044                   0.137967\n2045                    0.13377\n2046                   0.129572\n2047                   0.125375\n2048                   0.121178\n2049                    0.11698\n2050                   0.112783",
      "text/html": "<div>\n<style scoped>\n    .dataframe tbody tr th:only-of-type {\n        vertical-align: middle;\n    }\n\n    .dataframe tbody tr th {\n        vertical-align: top;\n    }\n\n    .dataframe thead th {\n        text-align: right;\n    }\n</style>\n<table border=\"1\" class=\"dataframe\">\n  <thead>\n    <tr style=\"text-align: right;\">\n      <th></th>\n      <th>LH2_Import_terminal_costs</th>\n    </tr>\n    <tr>\n      <th>Years</th>\n      <th></th>\n    </tr>\n  </thead>\n  <tbody>\n    <tr>\n      <th>2025</th>\n      <td>0.273697</td>\n    </tr>\n    <tr>\n      <th>2026</th>\n      <td>0.258624</td>\n    </tr>\n    <tr>\n      <th>2027</th>\n      <td>0.243551</td>\n    </tr>\n    <tr>\n      <th>2028</th>\n      <td>0.228478</td>\n    </tr>\n    <tr>\n      <th>2029</th>\n      <td>0.213405</td>\n    </tr>\n    <tr>\n      <th>2030</th>\n      <td>0.198332</td>\n    </tr>\n    <tr>\n      <th>2031</th>\n      <td>0.193974</td>\n    </tr>\n    <tr>\n      <th>2032</th>\n      <td>0.189689</td>\n    </tr>\n    <tr>\n      <th>2033</th>\n      <td>0.185468</td>\n    </tr>\n    <tr>\n      <th>2034</th>\n      <td>0.181306</td>\n    </tr>\n    <tr>\n      <th>2035</th>\n      <td>0.177197</td>\n    </tr>\n    <tr>\n      <th>2036</th>\n      <td>0.173134</td>\n    </tr>\n    <tr>\n      <th>2037</th>\n      <td>0.169114</td>\n    </tr>\n    <tr>\n      <th>2038</th>\n      <td>0.165133</td>\n    </tr>\n    <tr>\n      <th>2039</th>\n      <td>0.161186</td>\n    </tr>\n    <tr>\n      <th>2040</th>\n      <td>0.154756</td>\n    </tr>\n    <tr>\n      <th>2041</th>\n      <td>0.150559</td>\n    </tr>\n    <tr>\n      <th>2042</th>\n      <td>0.146362</td>\n    </tr>\n    <tr>\n      <th>2043</th>\n      <td>0.142164</td>\n    </tr>\n    <tr>\n      <th>2044</th>\n      <td>0.137967</td>\n    </tr>\n    <tr>\n      <th>2045</th>\n      <td>0.13377</td>\n    </tr>\n    <tr>\n      <th>2046</th>\n      <td>0.129572</td>\n    </tr>\n    <tr>\n      <th>2047</th>\n      <td>0.125375</td>\n    </tr>\n    <tr>\n      <th>2048</th>\n      <td>0.121178</td>\n    </tr>\n    <tr>\n      <th>2049</th>\n      <td>0.11698</td>\n    </tr>\n    <tr>\n      <th>2050</th>\n      <td>0.112783</td>\n    </tr>\n  </tbody>\n</table>\n</div>"
     },
     "execution_count": 213,
     "metadata": {},
     "output_type": "execute_result"
    }
   ],
   "source": [
    "for year in years:\n",
    "    # get capex, opex, xx\n",
    "    capex_it_y = float(tea_lh2.loc['Import Terminal - CAPEX [€/t/a]'][year])\n",
    "    opex_it_y = capex_it_y * opex_it_share\n",
    "    p_el_y = float(el_price.loc['Electricity prices in Germany [€_2020/MWh]'][year])\n",
    "\n",
    "\n",
    "    # calculate costs of specific year\n",
    "    result.LH2_Import_terminal_costs.loc[year] = calculate_import_terminal_costs()\n",
    "\n",
    "result"
   ],
   "metadata": {
    "collapsed": false,
    "pycharm": {
     "name": "#%%\n"
    }
   }
  },
  {
   "cell_type": "code",
   "execution_count": 214,
   "outputs": [],
   "source": [
    "LH2_Import_terminal_costs = result"
   ],
   "metadata": {
    "collapsed": false,
    "pycharm": {
     "name": "#%%\n"
    }
   }
  },
  {
   "cell_type": "code",
   "execution_count": 215,
   "outputs": [
    {
     "ename": "PermissionError",
     "evalue": "[Errno 13] Permission denied: '/Users/jakob/PycharmProjects/H2_pathways_repo/data/raw/H2_supply_route_assessment.xlsx'",
     "output_type": "error",
     "traceback": [
      "\u001B[1;31m---------------------------------------------------------------------------\u001B[0m",
      "\u001B[1;31mPermissionError\u001B[0m                           Traceback (most recent call last)",
      "Cell \u001B[1;32mIn [215], line 5\u001B[0m\n\u001B[0;32m      2\u001B[0m \u001B[38;5;28;01mfrom\u001B[39;00m \u001B[38;5;21;01mopenpyxl\u001B[39;00m \u001B[38;5;28;01mimport\u001B[39;00m load_workbook\n\u001B[0;32m      3\u001B[0m path \u001B[38;5;241m=\u001B[39m \u001B[38;5;124m'\u001B[39m\u001B[38;5;124m/Users/jakob/PycharmProjects/H2_pathways_repo/data/raw/H2_supply_route_assessment.xlsx\u001B[39m\u001B[38;5;124m'\u001B[39m\n\u001B[1;32m----> 5\u001B[0m writer \u001B[38;5;241m=\u001B[39m \u001B[43mpd\u001B[49m\u001B[38;5;241;43m.\u001B[39;49m\u001B[43mExcelWriter\u001B[49m\u001B[43m(\u001B[49m\u001B[43mpath\u001B[49m\u001B[43m,\u001B[49m\u001B[43m \u001B[49m\u001B[43mengine\u001B[49m\u001B[38;5;241;43m=\u001B[39;49m\u001B[38;5;124;43m'\u001B[39;49m\u001B[38;5;124;43mopenpyxl\u001B[39;49m\u001B[38;5;124;43m'\u001B[39;49m\u001B[43m,\u001B[49m\u001B[43m \u001B[49m\u001B[43mmode\u001B[49m\u001B[38;5;241;43m=\u001B[39;49m\u001B[38;5;124;43m'\u001B[39;49m\u001B[38;5;124;43ma\u001B[39;49m\u001B[38;5;124;43m'\u001B[39;49m\u001B[43m,\u001B[49m\u001B[43m \u001B[49m\u001B[43mif_sheet_exists\u001B[49m\u001B[38;5;241;43m=\u001B[39;49m\u001B[38;5;124;43m'\u001B[39;49m\u001B[38;5;124;43moverlay\u001B[39;49m\u001B[38;5;124;43m'\u001B[39;49m\u001B[43m)\u001B[49m\n\u001B[0;32m      6\u001B[0m book \u001B[38;5;241m=\u001B[39m load_workbook(path)\n\u001B[0;32m      7\u001B[0m writer\u001B[38;5;241m.\u001B[39mbook \u001B[38;5;241m=\u001B[39m book\n",
      "File \u001B[1;32m~\\Miniconda3\\envs\\Desktop\\lib\\site-packages\\pandas\\io\\excel\\_openpyxl.py:60\u001B[0m, in \u001B[0;36mOpenpyxlWriter.__init__\u001B[1;34m(self, path, engine, date_format, datetime_format, mode, storage_options, if_sheet_exists, engine_kwargs, **kwargs)\u001B[0m\n\u001B[0;32m     56\u001B[0m \u001B[38;5;28;01mfrom\u001B[39;00m \u001B[38;5;21;01mopenpyxl\u001B[39;00m\u001B[38;5;21;01m.\u001B[39;00m\u001B[38;5;21;01mworkbook\u001B[39;00m \u001B[38;5;28;01mimport\u001B[39;00m Workbook\n\u001B[0;32m     58\u001B[0m engine_kwargs \u001B[38;5;241m=\u001B[39m combine_kwargs(engine_kwargs, kwargs)\n\u001B[1;32m---> 60\u001B[0m \u001B[38;5;28;43msuper\u001B[39;49m\u001B[43m(\u001B[49m\u001B[43m)\u001B[49m\u001B[38;5;241;43m.\u001B[39;49m\u001B[38;5;21;43m__init__\u001B[39;49m\u001B[43m(\u001B[49m\n\u001B[0;32m     61\u001B[0m \u001B[43m    \u001B[49m\u001B[43mpath\u001B[49m\u001B[43m,\u001B[49m\n\u001B[0;32m     62\u001B[0m \u001B[43m    \u001B[49m\u001B[43mmode\u001B[49m\u001B[38;5;241;43m=\u001B[39;49m\u001B[43mmode\u001B[49m\u001B[43m,\u001B[49m\n\u001B[0;32m     63\u001B[0m \u001B[43m    \u001B[49m\u001B[43mstorage_options\u001B[49m\u001B[38;5;241;43m=\u001B[39;49m\u001B[43mstorage_options\u001B[49m\u001B[43m,\u001B[49m\n\u001B[0;32m     64\u001B[0m \u001B[43m    \u001B[49m\u001B[43mif_sheet_exists\u001B[49m\u001B[38;5;241;43m=\u001B[39;49m\u001B[43mif_sheet_exists\u001B[49m\u001B[43m,\u001B[49m\n\u001B[0;32m     65\u001B[0m \u001B[43m    \u001B[49m\u001B[43mengine_kwargs\u001B[49m\u001B[38;5;241;43m=\u001B[39;49m\u001B[43mengine_kwargs\u001B[49m\u001B[43m,\u001B[49m\n\u001B[0;32m     66\u001B[0m \u001B[43m\u001B[49m\u001B[43m)\u001B[49m\n\u001B[0;32m     68\u001B[0m \u001B[38;5;66;03m# ExcelWriter replaced \"a\" by \"r+\" to allow us to first read the excel file from\u001B[39;00m\n\u001B[0;32m     69\u001B[0m \u001B[38;5;66;03m# the file and later write to it\u001B[39;00m\n\u001B[0;32m     70\u001B[0m \u001B[38;5;28;01mif\u001B[39;00m \u001B[38;5;124m\"\u001B[39m\u001B[38;5;124mr+\u001B[39m\u001B[38;5;124m\"\u001B[39m \u001B[38;5;129;01min\u001B[39;00m \u001B[38;5;28mself\u001B[39m\u001B[38;5;241m.\u001B[39m_mode:  \u001B[38;5;66;03m# Load from existing workbook\u001B[39;00m\n",
      "File \u001B[1;32m~\\Miniconda3\\envs\\Desktop\\lib\\site-packages\\pandas\\io\\excel\\_base.py:1313\u001B[0m, in \u001B[0;36mExcelWriter.__init__\u001B[1;34m(self, path, engine, date_format, datetime_format, mode, storage_options, if_sheet_exists, engine_kwargs, **kwargs)\u001B[0m\n\u001B[0;32m   1309\u001B[0m \u001B[38;5;28mself\u001B[39m\u001B[38;5;241m.\u001B[39m_handles \u001B[38;5;241m=\u001B[39m IOHandles(\n\u001B[0;32m   1310\u001B[0m     cast(IO[\u001B[38;5;28mbytes\u001B[39m], path), compression\u001B[38;5;241m=\u001B[39m{\u001B[38;5;124m\"\u001B[39m\u001B[38;5;124mcompression\u001B[39m\u001B[38;5;124m\"\u001B[39m: \u001B[38;5;28;01mNone\u001B[39;00m}\n\u001B[0;32m   1311\u001B[0m )\n\u001B[0;32m   1312\u001B[0m \u001B[38;5;28;01mif\u001B[39;00m \u001B[38;5;129;01mnot\u001B[39;00m \u001B[38;5;28misinstance\u001B[39m(path, ExcelWriter):\n\u001B[1;32m-> 1313\u001B[0m     \u001B[38;5;28mself\u001B[39m\u001B[38;5;241m.\u001B[39m_handles \u001B[38;5;241m=\u001B[39m \u001B[43mget_handle\u001B[49m\u001B[43m(\u001B[49m\n\u001B[0;32m   1314\u001B[0m \u001B[43m        \u001B[49m\u001B[43mpath\u001B[49m\u001B[43m,\u001B[49m\u001B[43m \u001B[49m\u001B[43mmode\u001B[49m\u001B[43m,\u001B[49m\u001B[43m \u001B[49m\u001B[43mstorage_options\u001B[49m\u001B[38;5;241;43m=\u001B[39;49m\u001B[43mstorage_options\u001B[49m\u001B[43m,\u001B[49m\u001B[43m \u001B[49m\u001B[43mis_text\u001B[49m\u001B[38;5;241;43m=\u001B[39;49m\u001B[38;5;28;43;01mFalse\u001B[39;49;00m\n\u001B[0;32m   1315\u001B[0m \u001B[43m    \u001B[49m\u001B[43m)\u001B[49m\n\u001B[0;32m   1316\u001B[0m \u001B[38;5;28mself\u001B[39m\u001B[38;5;241m.\u001B[39m_cur_sheet \u001B[38;5;241m=\u001B[39m \u001B[38;5;28;01mNone\u001B[39;00m\n\u001B[0;32m   1318\u001B[0m \u001B[38;5;28;01mif\u001B[39;00m date_format \u001B[38;5;129;01mis\u001B[39;00m \u001B[38;5;28;01mNone\u001B[39;00m:\n",
      "File \u001B[1;32m~\\Miniconda3\\envs\\Desktop\\lib\\site-packages\\pandas\\io\\common.py:865\u001B[0m, in \u001B[0;36mget_handle\u001B[1;34m(path_or_buf, mode, encoding, compression, memory_map, is_text, errors, storage_options)\u001B[0m\n\u001B[0;32m    856\u001B[0m         handle \u001B[38;5;241m=\u001B[39m \u001B[38;5;28mopen\u001B[39m(\n\u001B[0;32m    857\u001B[0m             handle,\n\u001B[0;32m    858\u001B[0m             ioargs\u001B[38;5;241m.\u001B[39mmode,\n\u001B[1;32m   (...)\u001B[0m\n\u001B[0;32m    861\u001B[0m             newline\u001B[38;5;241m=\u001B[39m\u001B[38;5;124m\"\u001B[39m\u001B[38;5;124m\"\u001B[39m,\n\u001B[0;32m    862\u001B[0m         )\n\u001B[0;32m    863\u001B[0m     \u001B[38;5;28;01melse\u001B[39;00m:\n\u001B[0;32m    864\u001B[0m         \u001B[38;5;66;03m# Binary mode\u001B[39;00m\n\u001B[1;32m--> 865\u001B[0m         handle \u001B[38;5;241m=\u001B[39m \u001B[38;5;28;43mopen\u001B[39;49m\u001B[43m(\u001B[49m\u001B[43mhandle\u001B[49m\u001B[43m,\u001B[49m\u001B[43m \u001B[49m\u001B[43mioargs\u001B[49m\u001B[38;5;241;43m.\u001B[39;49m\u001B[43mmode\u001B[49m\u001B[43m)\u001B[49m\n\u001B[0;32m    866\u001B[0m     handles\u001B[38;5;241m.\u001B[39mappend(handle)\n\u001B[0;32m    868\u001B[0m \u001B[38;5;66;03m# Convert BytesIO or file objects passed with an encoding\u001B[39;00m\n",
      "\u001B[1;31mPermissionError\u001B[0m: [Errno 13] Permission denied: '/Users/jakob/PycharmProjects/H2_pathways_repo/data/raw/H2_supply_route_assessment.xlsx'"
     ]
    }
   ],
   "source": [
    "# export result to excel\n",
    "from openpyxl import load_workbook\n",
    "path = '/Users/jakob/PycharmProjects/H2_pathways_repo/data/raw/H2_supply_route_assessment.xlsx'\n",
    "\n",
    "writer = pd.ExcelWriter(path, engine='openpyxl', mode='a', if_sheet_exists='overlay')\n",
    "book = load_workbook(path)\n",
    "writer.book = book\n",
    "writer.sheets = dict((ws.title, ws) for ws in book.worksheets)\n",
    "\n",
    "ws = book['Reference Results']\n",
    "\n",
    "result.to_excel(writer, sheet_name='Reference Results', index=False, startcol=ws.max_column)\n",
    "book.save('/Users/jakob/PycharmProjects/H2_pathways_repo/data/raw/H2_supply_route_assessment.xlsx')\n",
    "book.close()"
   ],
   "metadata": {
    "collapsed": false,
    "pycharm": {
     "name": "#%%\n"
    }
   }
  },
  {
   "cell_type": "code",
   "execution_count": null,
   "outputs": [],
   "source": [
    "# Create csv file from results dataframe\n",
    "path = r'/Users/jakob/PycharmProjects/H2_pathways_repo/data/processed'\n",
    "output_file = os.path.join(path, 'LH2_Import_terminal_costs.csv')\n",
    "result.to_csv(output_file, sep=';')"
   ],
   "metadata": {
    "collapsed": false,
    "pycharm": {
     "name": "#%%\n"
    }
   }
  },
  {
   "cell_type": "markdown",
   "source": [
    "Plot import terminal costs"
   ],
   "metadata": {
    "collapsed": false,
    "pycharm": {
     "name": "#%% md\n"
    }
   }
  },
  {
   "cell_type": "code",
   "execution_count": null,
   "outputs": [],
   "source": [
    "fig, ax = plt.subplots(figsize=(10,6))\n",
    "plt.plot(result, color = 'red', linestyle = 'solid')\n",
    "plt.grid(True, axis = 'y')\n",
    "ax.set_axisbelow(True)\n",
    "plt.plot(result, color='red', linestyle='dashed')\n",
    "plt.title('Import terminal costs over time', fontweight='bold', fontsize='large')\n",
    "plt.legend(['Import terminal costs in €/kg_H2'])\n",
    "plt.xlabel('Year', fontsize='large')\n",
    "plt.ylabel('Cost [€/kg_H2]', fontsize='large')\n",
    "plt.show()"
   ],
   "metadata": {
    "collapsed": false,
    "pycharm": {
     "name": "#%%\n"
    }
   }
  },
  {
   "cell_type": "markdown",
   "source": [
    "## Reconversion"
   ],
   "metadata": {
    "collapsed": false,
    "pycharm": {
     "name": "#%% md\n"
    }
   }
  },
  {
   "cell_type": "code",
   "execution_count": null,
   "outputs": [],
   "source": [
    "# Economic lifetime for the reconversion plant [years]\n",
    "l_recon = float(tea_lh2.loc['Reconversion - Lifetime [Years]']['LH2'])\n",
    "l_recon"
   ],
   "metadata": {
    "collapsed": false,
    "pycharm": {
     "name": "#%%\n"
    }
   }
  },
  {
   "cell_type": "code",
   "execution_count": null,
   "outputs": [],
   "source": [
    "# Amortisation factor alpha for the reconversion plant\n",
    "alpha_recon =  (i_liq * (1 + i_liq) ** l_recon) /(((1 + i_liq) ** l_recon) - 1)\n",
    "alpha_liq\n"
   ],
   "metadata": {
    "collapsed": false,
    "pycharm": {
     "name": "#%%\n"
    }
   }
  },
  {
   "cell_type": "code",
   "execution_count": null,
   "outputs": [],
   "source": [
    "# Electricty consumption for the conversion in [kWh/kg_h2]\n",
    "el_recon = float(tea_lh2.loc['Import Terminal - Electricity use [kWh/kg H2]']['LH2'])\n",
    "el_recon"
   ],
   "metadata": {
    "collapsed": false,
    "pycharm": {
     "name": "#%%\n"
    }
   }
  },
  {
   "cell_type": "code",
   "execution_count": null,
   "outputs": [],
   "source": [
    "opex_recon_share = float(tea_lh2.loc['Reconversion - Opex opt. [% of Capex]']['LH2'])\n",
    "opex_recon_share"
   ],
   "metadata": {
    "collapsed": false,
    "pycharm": {
     "name": "#%%\n"
    }
   }
  },
  {
   "cell_type": "code",
   "execution_count": null,
   "outputs": [],
   "source": [
    "def calculate_recon_costs(alpha_recon, capex_recon_y, opex_recon_y, el_recon_y, p_el_y):\n",
    "    result = float(\n",
    "        (alpha_recon * capex_recon_y / 1000 + opex_recon_y / 1000) + el_recon_y * p_el_y / 1000 * 0.89)\n",
    "    return result\n"
   ],
   "metadata": {
    "collapsed": false,
    "pycharm": {
     "name": "#%%\n"
    }
   }
  },
  {
   "cell_type": "code",
   "execution_count": null,
   "outputs": [],
   "source": [
    "# Calculation of conversion costs [€/kg_h2] from 2030 to 2050.\n",
    "years = np.arange(2025, 2051)\n",
    "result = pd.DataFrame(index=years, columns=['LH2_Reconversion_costs'])\n",
    "result.index.name = 'Years'"
   ],
   "metadata": {
    "collapsed": false,
    "pycharm": {
     "name": "#%%\n"
    }
   }
  },
  {
   "cell_type": "code",
   "execution_count": null,
   "outputs": [],
   "source": [
    "for year in years:\n",
    "    # get capex, opex, natural gas price and CO2 price of specific year\n",
    "    capex_recon_y = float(tea_lh2.loc['Reconversion - Capex opt. [€/t/a]'][year])\n",
    "    opex_recon_y = capex_recon_y * opex_recon_share\n",
    "    el_recon_y = float(tea_lh2.loc['Reconversion - Electricity consumption opt. [kWh/kg H2]'][year])\n",
    "    p_el_y = float(el_price.loc['Electricity prices in Germany [€_2020/MWh]'][year])\n",
    "\n",
    "    # calculate costs of specific year\n",
    "    result.LH2_Reconversion_costs.loc[year] = calculate_recon_costs(alpha_recon=alpha_recon, capex_recon_y=capex_recon_y,\n",
    "                                                                opex_recon_y=opex_recon_y, el_recon_y=el_recon_y,\n",
    "                                                                p_el_y=p_el_y)\n",
    "result"
   ],
   "metadata": {
    "collapsed": false,
    "pycharm": {
     "name": "#%%\n"
    }
   }
  },
  {
   "cell_type": "code",
   "execution_count": 216,
   "outputs": [],
   "source": [
    "LH2_Reconversion_costs = result"
   ],
   "metadata": {
    "collapsed": false,
    "pycharm": {
     "name": "#%%\n"
    }
   }
  },
  {
   "cell_type": "code",
   "execution_count": 217,
   "outputs": [
    {
     "ename": "PermissionError",
     "evalue": "[Errno 13] Permission denied: '/Users/jakob/PycharmProjects/H2_pathways_repo/data/raw/H2_supply_route_assessment.xlsx'",
     "output_type": "error",
     "traceback": [
      "\u001B[1;31m---------------------------------------------------------------------------\u001B[0m",
      "\u001B[1;31mPermissionError\u001B[0m                           Traceback (most recent call last)",
      "Cell \u001B[1;32mIn [217], line 5\u001B[0m\n\u001B[0;32m      2\u001B[0m \u001B[38;5;28;01mfrom\u001B[39;00m \u001B[38;5;21;01mopenpyxl\u001B[39;00m \u001B[38;5;28;01mimport\u001B[39;00m load_workbook\n\u001B[0;32m      3\u001B[0m path \u001B[38;5;241m=\u001B[39m \u001B[38;5;124m'\u001B[39m\u001B[38;5;124m/Users/jakob/PycharmProjects/H2_pathways_repo/data/raw/H2_supply_route_assessment.xlsx\u001B[39m\u001B[38;5;124m'\u001B[39m\n\u001B[1;32m----> 5\u001B[0m writer \u001B[38;5;241m=\u001B[39m \u001B[43mpd\u001B[49m\u001B[38;5;241;43m.\u001B[39;49m\u001B[43mExcelWriter\u001B[49m\u001B[43m(\u001B[49m\u001B[43mpath\u001B[49m\u001B[43m,\u001B[49m\u001B[43m \u001B[49m\u001B[43mengine\u001B[49m\u001B[38;5;241;43m=\u001B[39;49m\u001B[38;5;124;43m'\u001B[39;49m\u001B[38;5;124;43mopenpyxl\u001B[39;49m\u001B[38;5;124;43m'\u001B[39;49m\u001B[43m,\u001B[49m\u001B[43m \u001B[49m\u001B[43mmode\u001B[49m\u001B[38;5;241;43m=\u001B[39;49m\u001B[38;5;124;43m'\u001B[39;49m\u001B[38;5;124;43ma\u001B[39;49m\u001B[38;5;124;43m'\u001B[39;49m\u001B[43m,\u001B[49m\u001B[43m \u001B[49m\u001B[43mif_sheet_exists\u001B[49m\u001B[38;5;241;43m=\u001B[39;49m\u001B[38;5;124;43m'\u001B[39;49m\u001B[38;5;124;43moverlay\u001B[39;49m\u001B[38;5;124;43m'\u001B[39;49m\u001B[43m)\u001B[49m\n\u001B[0;32m      6\u001B[0m book \u001B[38;5;241m=\u001B[39m load_workbook(path)\n\u001B[0;32m      7\u001B[0m writer\u001B[38;5;241m.\u001B[39mbook \u001B[38;5;241m=\u001B[39m book\n",
      "File \u001B[1;32m~\\Miniconda3\\envs\\Desktop\\lib\\site-packages\\pandas\\io\\excel\\_openpyxl.py:60\u001B[0m, in \u001B[0;36mOpenpyxlWriter.__init__\u001B[1;34m(self, path, engine, date_format, datetime_format, mode, storage_options, if_sheet_exists, engine_kwargs, **kwargs)\u001B[0m\n\u001B[0;32m     56\u001B[0m \u001B[38;5;28;01mfrom\u001B[39;00m \u001B[38;5;21;01mopenpyxl\u001B[39;00m\u001B[38;5;21;01m.\u001B[39;00m\u001B[38;5;21;01mworkbook\u001B[39;00m \u001B[38;5;28;01mimport\u001B[39;00m Workbook\n\u001B[0;32m     58\u001B[0m engine_kwargs \u001B[38;5;241m=\u001B[39m combine_kwargs(engine_kwargs, kwargs)\n\u001B[1;32m---> 60\u001B[0m \u001B[38;5;28;43msuper\u001B[39;49m\u001B[43m(\u001B[49m\u001B[43m)\u001B[49m\u001B[38;5;241;43m.\u001B[39;49m\u001B[38;5;21;43m__init__\u001B[39;49m\u001B[43m(\u001B[49m\n\u001B[0;32m     61\u001B[0m \u001B[43m    \u001B[49m\u001B[43mpath\u001B[49m\u001B[43m,\u001B[49m\n\u001B[0;32m     62\u001B[0m \u001B[43m    \u001B[49m\u001B[43mmode\u001B[49m\u001B[38;5;241;43m=\u001B[39;49m\u001B[43mmode\u001B[49m\u001B[43m,\u001B[49m\n\u001B[0;32m     63\u001B[0m \u001B[43m    \u001B[49m\u001B[43mstorage_options\u001B[49m\u001B[38;5;241;43m=\u001B[39;49m\u001B[43mstorage_options\u001B[49m\u001B[43m,\u001B[49m\n\u001B[0;32m     64\u001B[0m \u001B[43m    \u001B[49m\u001B[43mif_sheet_exists\u001B[49m\u001B[38;5;241;43m=\u001B[39;49m\u001B[43mif_sheet_exists\u001B[49m\u001B[43m,\u001B[49m\n\u001B[0;32m     65\u001B[0m \u001B[43m    \u001B[49m\u001B[43mengine_kwargs\u001B[49m\u001B[38;5;241;43m=\u001B[39;49m\u001B[43mengine_kwargs\u001B[49m\u001B[43m,\u001B[49m\n\u001B[0;32m     66\u001B[0m \u001B[43m\u001B[49m\u001B[43m)\u001B[49m\n\u001B[0;32m     68\u001B[0m \u001B[38;5;66;03m# ExcelWriter replaced \"a\" by \"r+\" to allow us to first read the excel file from\u001B[39;00m\n\u001B[0;32m     69\u001B[0m \u001B[38;5;66;03m# the file and later write to it\u001B[39;00m\n\u001B[0;32m     70\u001B[0m \u001B[38;5;28;01mif\u001B[39;00m \u001B[38;5;124m\"\u001B[39m\u001B[38;5;124mr+\u001B[39m\u001B[38;5;124m\"\u001B[39m \u001B[38;5;129;01min\u001B[39;00m \u001B[38;5;28mself\u001B[39m\u001B[38;5;241m.\u001B[39m_mode:  \u001B[38;5;66;03m# Load from existing workbook\u001B[39;00m\n",
      "File \u001B[1;32m~\\Miniconda3\\envs\\Desktop\\lib\\site-packages\\pandas\\io\\excel\\_base.py:1313\u001B[0m, in \u001B[0;36mExcelWriter.__init__\u001B[1;34m(self, path, engine, date_format, datetime_format, mode, storage_options, if_sheet_exists, engine_kwargs, **kwargs)\u001B[0m\n\u001B[0;32m   1309\u001B[0m \u001B[38;5;28mself\u001B[39m\u001B[38;5;241m.\u001B[39m_handles \u001B[38;5;241m=\u001B[39m IOHandles(\n\u001B[0;32m   1310\u001B[0m     cast(IO[\u001B[38;5;28mbytes\u001B[39m], path), compression\u001B[38;5;241m=\u001B[39m{\u001B[38;5;124m\"\u001B[39m\u001B[38;5;124mcompression\u001B[39m\u001B[38;5;124m\"\u001B[39m: \u001B[38;5;28;01mNone\u001B[39;00m}\n\u001B[0;32m   1311\u001B[0m )\n\u001B[0;32m   1312\u001B[0m \u001B[38;5;28;01mif\u001B[39;00m \u001B[38;5;129;01mnot\u001B[39;00m \u001B[38;5;28misinstance\u001B[39m(path, ExcelWriter):\n\u001B[1;32m-> 1313\u001B[0m     \u001B[38;5;28mself\u001B[39m\u001B[38;5;241m.\u001B[39m_handles \u001B[38;5;241m=\u001B[39m \u001B[43mget_handle\u001B[49m\u001B[43m(\u001B[49m\n\u001B[0;32m   1314\u001B[0m \u001B[43m        \u001B[49m\u001B[43mpath\u001B[49m\u001B[43m,\u001B[49m\u001B[43m \u001B[49m\u001B[43mmode\u001B[49m\u001B[43m,\u001B[49m\u001B[43m \u001B[49m\u001B[43mstorage_options\u001B[49m\u001B[38;5;241;43m=\u001B[39;49m\u001B[43mstorage_options\u001B[49m\u001B[43m,\u001B[49m\u001B[43m \u001B[49m\u001B[43mis_text\u001B[49m\u001B[38;5;241;43m=\u001B[39;49m\u001B[38;5;28;43;01mFalse\u001B[39;49;00m\n\u001B[0;32m   1315\u001B[0m \u001B[43m    \u001B[49m\u001B[43m)\u001B[49m\n\u001B[0;32m   1316\u001B[0m \u001B[38;5;28mself\u001B[39m\u001B[38;5;241m.\u001B[39m_cur_sheet \u001B[38;5;241m=\u001B[39m \u001B[38;5;28;01mNone\u001B[39;00m\n\u001B[0;32m   1318\u001B[0m \u001B[38;5;28;01mif\u001B[39;00m date_format \u001B[38;5;129;01mis\u001B[39;00m \u001B[38;5;28;01mNone\u001B[39;00m:\n",
      "File \u001B[1;32m~\\Miniconda3\\envs\\Desktop\\lib\\site-packages\\pandas\\io\\common.py:865\u001B[0m, in \u001B[0;36mget_handle\u001B[1;34m(path_or_buf, mode, encoding, compression, memory_map, is_text, errors, storage_options)\u001B[0m\n\u001B[0;32m    856\u001B[0m         handle \u001B[38;5;241m=\u001B[39m \u001B[38;5;28mopen\u001B[39m(\n\u001B[0;32m    857\u001B[0m             handle,\n\u001B[0;32m    858\u001B[0m             ioargs\u001B[38;5;241m.\u001B[39mmode,\n\u001B[1;32m   (...)\u001B[0m\n\u001B[0;32m    861\u001B[0m             newline\u001B[38;5;241m=\u001B[39m\u001B[38;5;124m\"\u001B[39m\u001B[38;5;124m\"\u001B[39m,\n\u001B[0;32m    862\u001B[0m         )\n\u001B[0;32m    863\u001B[0m     \u001B[38;5;28;01melse\u001B[39;00m:\n\u001B[0;32m    864\u001B[0m         \u001B[38;5;66;03m# Binary mode\u001B[39;00m\n\u001B[1;32m--> 865\u001B[0m         handle \u001B[38;5;241m=\u001B[39m \u001B[38;5;28;43mopen\u001B[39;49m\u001B[43m(\u001B[49m\u001B[43mhandle\u001B[49m\u001B[43m,\u001B[49m\u001B[43m \u001B[49m\u001B[43mioargs\u001B[49m\u001B[38;5;241;43m.\u001B[39;49m\u001B[43mmode\u001B[49m\u001B[43m)\u001B[49m\n\u001B[0;32m    866\u001B[0m     handles\u001B[38;5;241m.\u001B[39mappend(handle)\n\u001B[0;32m    868\u001B[0m \u001B[38;5;66;03m# Convert BytesIO or file objects passed with an encoding\u001B[39;00m\n",
      "\u001B[1;31mPermissionError\u001B[0m: [Errno 13] Permission denied: '/Users/jakob/PycharmProjects/H2_pathways_repo/data/raw/H2_supply_route_assessment.xlsx'"
     ]
    }
   ],
   "source": [
    "# export result to excel\n",
    "from openpyxl import load_workbook\n",
    "path = '/Users/jakob/PycharmProjects/H2_pathways_repo/data/raw/H2_supply_route_assessment.xlsx'\n",
    "\n",
    "writer = pd.ExcelWriter(path, engine='openpyxl', mode='a', if_sheet_exists='overlay')\n",
    "book = load_workbook(path)\n",
    "writer.book = book\n",
    "writer.sheets = dict((ws.title, ws) for ws in book.worksheets)\n",
    "\n",
    "ws = book['Reference Results']\n",
    "\n",
    "result.to_excel(writer, sheet_name='Reference Results', index=False, startcol=ws.max_column)\n",
    "book.save('/Users/jakob/PycharmProjects/H2_pathways_repo/data/raw/H2_supply_route_assessment.xlsx')\n",
    "book.close()"
   ],
   "metadata": {
    "collapsed": false,
    "pycharm": {
     "name": "#%%\n"
    }
   }
  },
  {
   "cell_type": "code",
   "execution_count": null,
   "outputs": [],
   "source": [
    "# Create csv file from results dataframe\n",
    "path = r'/Users/jakob/PycharmProjects/H2_pathways_repo/data/processed'\n",
    "output_file = os.path.join(path, 'LH2_Reconversion_costs.csv')\n",
    "result.to_csv(output_file, sep=';')"
   ],
   "metadata": {
    "collapsed": false,
    "pycharm": {
     "name": "#%%\n"
    }
   }
  },
  {
   "cell_type": "markdown",
   "source": [
    "## Total LH2 transport costs"
   ],
   "metadata": {
    "collapsed": false,
    "pycharm": {
     "name": "#%% md\n"
    }
   }
  },
  {
   "cell_type": "code",
   "execution_count": 218,
   "outputs": [],
   "source": [
    "liq_costs = LH2_Liquefaction_costs\n",
    "et_costs = LH2_Export_terminal_costs\n",
    "ship_costs = LH2_Shipping_costs\n",
    "it_costs = LH2_Import_terminal_costs\n",
    "recon_costs = LH2_Reconversion_costs"
   ],
   "metadata": {
    "collapsed": false,
    "pycharm": {
     "name": "#%%\n"
    }
   }
  },
  {
   "cell_type": "code",
   "execution_count": 219,
   "outputs": [
    {
     "data": {
      "text/plain": "      LH2_Import_terminal_costs\nYears                          \n2025                   0.273697\n2026                   0.258624\n2027                   0.243551\n2028                   0.228478\n2029                   0.213405\n2030                   0.198332\n2031                   0.193974\n2032                   0.189689\n2033                   0.185468\n2034                   0.181306\n2035                   0.177197\n2036                   0.173134\n2037                   0.169114\n2038                   0.165133\n2039                   0.161186\n2040                   0.154756\n2041                   0.150559\n2042                   0.146362\n2043                   0.142164\n2044                   0.137967\n2045                    0.13377\n2046                   0.129572\n2047                   0.125375\n2048                   0.121178\n2049                    0.11698\n2050                   0.112783",
      "text/html": "<div>\n<style scoped>\n    .dataframe tbody tr th:only-of-type {\n        vertical-align: middle;\n    }\n\n    .dataframe tbody tr th {\n        vertical-align: top;\n    }\n\n    .dataframe thead th {\n        text-align: right;\n    }\n</style>\n<table border=\"1\" class=\"dataframe\">\n  <thead>\n    <tr style=\"text-align: right;\">\n      <th></th>\n      <th>LH2_Import_terminal_costs</th>\n    </tr>\n    <tr>\n      <th>Years</th>\n      <th></th>\n    </tr>\n  </thead>\n  <tbody>\n    <tr>\n      <th>2025</th>\n      <td>0.273697</td>\n    </tr>\n    <tr>\n      <th>2026</th>\n      <td>0.258624</td>\n    </tr>\n    <tr>\n      <th>2027</th>\n      <td>0.243551</td>\n    </tr>\n    <tr>\n      <th>2028</th>\n      <td>0.228478</td>\n    </tr>\n    <tr>\n      <th>2029</th>\n      <td>0.213405</td>\n    </tr>\n    <tr>\n      <th>2030</th>\n      <td>0.198332</td>\n    </tr>\n    <tr>\n      <th>2031</th>\n      <td>0.193974</td>\n    </tr>\n    <tr>\n      <th>2032</th>\n      <td>0.189689</td>\n    </tr>\n    <tr>\n      <th>2033</th>\n      <td>0.185468</td>\n    </tr>\n    <tr>\n      <th>2034</th>\n      <td>0.181306</td>\n    </tr>\n    <tr>\n      <th>2035</th>\n      <td>0.177197</td>\n    </tr>\n    <tr>\n      <th>2036</th>\n      <td>0.173134</td>\n    </tr>\n    <tr>\n      <th>2037</th>\n      <td>0.169114</td>\n    </tr>\n    <tr>\n      <th>2038</th>\n      <td>0.165133</td>\n    </tr>\n    <tr>\n      <th>2039</th>\n      <td>0.161186</td>\n    </tr>\n    <tr>\n      <th>2040</th>\n      <td>0.154756</td>\n    </tr>\n    <tr>\n      <th>2041</th>\n      <td>0.150559</td>\n    </tr>\n    <tr>\n      <th>2042</th>\n      <td>0.146362</td>\n    </tr>\n    <tr>\n      <th>2043</th>\n      <td>0.142164</td>\n    </tr>\n    <tr>\n      <th>2044</th>\n      <td>0.137967</td>\n    </tr>\n    <tr>\n      <th>2045</th>\n      <td>0.13377</td>\n    </tr>\n    <tr>\n      <th>2046</th>\n      <td>0.129572</td>\n    </tr>\n    <tr>\n      <th>2047</th>\n      <td>0.125375</td>\n    </tr>\n    <tr>\n      <th>2048</th>\n      <td>0.121178</td>\n    </tr>\n    <tr>\n      <th>2049</th>\n      <td>0.11698</td>\n    </tr>\n    <tr>\n      <th>2050</th>\n      <td>0.112783</td>\n    </tr>\n  </tbody>\n</table>\n</div>"
     },
     "execution_count": 219,
     "metadata": {},
     "output_type": "execute_result"
    }
   ],
   "source": [
    "it_costs"
   ],
   "metadata": {
    "collapsed": false,
    "pycharm": {
     "name": "#%%\n"
    }
   }
  },
  {
   "cell_type": "code",
   "execution_count": 220,
   "outputs": [],
   "source": [
    "years = np.arange(2025, 2051)\n",
    "result = pd.DataFrame(index=years, columns=['LH2_transport_costs'])\n",
    "result.index.name = 'Years'"
   ],
   "metadata": {
    "collapsed": false,
    "pycharm": {
     "name": "#%%\n"
    }
   }
  },
  {
   "cell_type": "code",
   "execution_count": 221,
   "outputs": [],
   "source": [
    "# Calculate total transport costs from liquefaction costs (LC), export terminal costs (EC), Shipping costs (SC), import terminal costs (IC)\n",
    "def calculate_seaborne_transport_costs():\n",
    "    result = LC + EC + SC + IC + RC\n",
    "\n",
    "    return result"
   ],
   "metadata": {
    "collapsed": false,
    "pycharm": {
     "name": "#%%\n"
    }
   }
  },
  {
   "cell_type": "code",
   "execution_count": 222,
   "outputs": [
    {
     "ename": "KeyError",
     "evalue": "'LH2_Reconversion_costs'",
     "output_type": "error",
     "traceback": [
      "\u001B[1;31m---------------------------------------------------------------------------\u001B[0m",
      "\u001B[1;31mKeyError\u001B[0m                                  Traceback (most recent call last)",
      "File \u001B[1;32m~\\Miniconda3\\envs\\Desktop\\lib\\site-packages\\pandas\\core\\indexes\\base.py:3803\u001B[0m, in \u001B[0;36mIndex.get_loc\u001B[1;34m(self, key, method, tolerance)\u001B[0m\n\u001B[0;32m   3802\u001B[0m \u001B[38;5;28;01mtry\u001B[39;00m:\n\u001B[1;32m-> 3803\u001B[0m     \u001B[38;5;28;01mreturn\u001B[39;00m \u001B[38;5;28;43mself\u001B[39;49m\u001B[38;5;241;43m.\u001B[39;49m\u001B[43m_engine\u001B[49m\u001B[38;5;241;43m.\u001B[39;49m\u001B[43mget_loc\u001B[49m\u001B[43m(\u001B[49m\u001B[43mcasted_key\u001B[49m\u001B[43m)\u001B[49m\n\u001B[0;32m   3804\u001B[0m \u001B[38;5;28;01mexcept\u001B[39;00m \u001B[38;5;167;01mKeyError\u001B[39;00m \u001B[38;5;28;01mas\u001B[39;00m err:\n",
      "File \u001B[1;32m~\\Miniconda3\\envs\\Desktop\\lib\\site-packages\\pandas\\_libs\\index.pyx:138\u001B[0m, in \u001B[0;36mpandas._libs.index.IndexEngine.get_loc\u001B[1;34m()\u001B[0m\n",
      "File \u001B[1;32m~\\Miniconda3\\envs\\Desktop\\lib\\site-packages\\pandas\\_libs\\index.pyx:165\u001B[0m, in \u001B[0;36mpandas._libs.index.IndexEngine.get_loc\u001B[1;34m()\u001B[0m\n",
      "File \u001B[1;32mpandas\\_libs\\hashtable_class_helper.pxi:5745\u001B[0m, in \u001B[0;36mpandas._libs.hashtable.PyObjectHashTable.get_item\u001B[1;34m()\u001B[0m\n",
      "File \u001B[1;32mpandas\\_libs\\hashtable_class_helper.pxi:5753\u001B[0m, in \u001B[0;36mpandas._libs.hashtable.PyObjectHashTable.get_item\u001B[1;34m()\u001B[0m\n",
      "\u001B[1;31mKeyError\u001B[0m: 'LH2_Reconversion_costs'",
      "\nThe above exception was the direct cause of the following exception:\n",
      "\u001B[1;31mKeyError\u001B[0m                                  Traceback (most recent call last)",
      "Cell \u001B[1;32mIn [222], line 7\u001B[0m\n\u001B[0;32m      5\u001B[0m SC \u001B[38;5;241m=\u001B[39m \u001B[38;5;28mfloat\u001B[39m(ship_costs\u001B[38;5;241m.\u001B[39mloc[year][\u001B[38;5;124m'\u001B[39m\u001B[38;5;124mLH2_Shipping_costs\u001B[39m\u001B[38;5;124m'\u001B[39m])\n\u001B[0;32m      6\u001B[0m IC \u001B[38;5;241m=\u001B[39m \u001B[38;5;28mfloat\u001B[39m(it_costs\u001B[38;5;241m.\u001B[39mloc[year][\u001B[38;5;124m'\u001B[39m\u001B[38;5;124mLH2_Import_terminal_costs\u001B[39m\u001B[38;5;124m'\u001B[39m])\n\u001B[1;32m----> 7\u001B[0m RC \u001B[38;5;241m=\u001B[39m \u001B[38;5;28mfloat\u001B[39m(\u001B[43mrecon_costs\u001B[49m\u001B[38;5;241;43m.\u001B[39;49m\u001B[43mloc\u001B[49m\u001B[43m[\u001B[49m\u001B[43myear\u001B[49m\u001B[43m]\u001B[49m\u001B[43m[\u001B[49m\u001B[38;5;124;43m'\u001B[39;49m\u001B[38;5;124;43mLH2_Reconversion_costs\u001B[39;49m\u001B[38;5;124;43m'\u001B[39;49m\u001B[43m]\u001B[49m)\n\u001B[0;32m      8\u001B[0m \u001B[38;5;66;03m# calculate costs of specific year\u001B[39;00m\n\u001B[0;32m      9\u001B[0m result\u001B[38;5;241m.\u001B[39mLH2_transport_costs\u001B[38;5;241m.\u001B[39mloc[year] \u001B[38;5;241m=\u001B[39m calculate_seaborne_transport_costs()\n",
      "File \u001B[1;32m~\\Miniconda3\\envs\\Desktop\\lib\\site-packages\\pandas\\core\\series.py:981\u001B[0m, in \u001B[0;36mSeries.__getitem__\u001B[1;34m(self, key)\u001B[0m\n\u001B[0;32m    978\u001B[0m     \u001B[38;5;28;01mreturn\u001B[39;00m \u001B[38;5;28mself\u001B[39m\u001B[38;5;241m.\u001B[39m_values[key]\n\u001B[0;32m    980\u001B[0m \u001B[38;5;28;01melif\u001B[39;00m key_is_scalar:\n\u001B[1;32m--> 981\u001B[0m     \u001B[38;5;28;01mreturn\u001B[39;00m \u001B[38;5;28;43mself\u001B[39;49m\u001B[38;5;241;43m.\u001B[39;49m\u001B[43m_get_value\u001B[49m\u001B[43m(\u001B[49m\u001B[43mkey\u001B[49m\u001B[43m)\u001B[49m\n\u001B[0;32m    983\u001B[0m \u001B[38;5;28;01mif\u001B[39;00m is_hashable(key):\n\u001B[0;32m    984\u001B[0m     \u001B[38;5;66;03m# Otherwise index.get_value will raise InvalidIndexError\u001B[39;00m\n\u001B[0;32m    985\u001B[0m     \u001B[38;5;28;01mtry\u001B[39;00m:\n\u001B[0;32m    986\u001B[0m         \u001B[38;5;66;03m# For labels that don't resolve as scalars like tuples and frozensets\u001B[39;00m\n",
      "File \u001B[1;32m~\\Miniconda3\\envs\\Desktop\\lib\\site-packages\\pandas\\core\\series.py:1089\u001B[0m, in \u001B[0;36mSeries._get_value\u001B[1;34m(self, label, takeable)\u001B[0m\n\u001B[0;32m   1086\u001B[0m     \u001B[38;5;28;01mreturn\u001B[39;00m \u001B[38;5;28mself\u001B[39m\u001B[38;5;241m.\u001B[39m_values[label]\n\u001B[0;32m   1088\u001B[0m \u001B[38;5;66;03m# Similar to Index.get_value, but we do not fall back to positional\u001B[39;00m\n\u001B[1;32m-> 1089\u001B[0m loc \u001B[38;5;241m=\u001B[39m \u001B[38;5;28;43mself\u001B[39;49m\u001B[38;5;241;43m.\u001B[39;49m\u001B[43mindex\u001B[49m\u001B[38;5;241;43m.\u001B[39;49m\u001B[43mget_loc\u001B[49m\u001B[43m(\u001B[49m\u001B[43mlabel\u001B[49m\u001B[43m)\u001B[49m\n\u001B[0;32m   1090\u001B[0m \u001B[38;5;28;01mreturn\u001B[39;00m \u001B[38;5;28mself\u001B[39m\u001B[38;5;241m.\u001B[39mindex\u001B[38;5;241m.\u001B[39m_get_values_for_loc(\u001B[38;5;28mself\u001B[39m, loc, label)\n",
      "File \u001B[1;32m~\\Miniconda3\\envs\\Desktop\\lib\\site-packages\\pandas\\core\\indexes\\base.py:3805\u001B[0m, in \u001B[0;36mIndex.get_loc\u001B[1;34m(self, key, method, tolerance)\u001B[0m\n\u001B[0;32m   3803\u001B[0m     \u001B[38;5;28;01mreturn\u001B[39;00m \u001B[38;5;28mself\u001B[39m\u001B[38;5;241m.\u001B[39m_engine\u001B[38;5;241m.\u001B[39mget_loc(casted_key)\n\u001B[0;32m   3804\u001B[0m \u001B[38;5;28;01mexcept\u001B[39;00m \u001B[38;5;167;01mKeyError\u001B[39;00m \u001B[38;5;28;01mas\u001B[39;00m err:\n\u001B[1;32m-> 3805\u001B[0m     \u001B[38;5;28;01mraise\u001B[39;00m \u001B[38;5;167;01mKeyError\u001B[39;00m(key) \u001B[38;5;28;01mfrom\u001B[39;00m \u001B[38;5;21;01merr\u001B[39;00m\n\u001B[0;32m   3806\u001B[0m \u001B[38;5;28;01mexcept\u001B[39;00m \u001B[38;5;167;01mTypeError\u001B[39;00m:\n\u001B[0;32m   3807\u001B[0m     \u001B[38;5;66;03m# If we have a listlike key, _check_indexing_error will raise\u001B[39;00m\n\u001B[0;32m   3808\u001B[0m     \u001B[38;5;66;03m#  InvalidIndexError. Otherwise we fall through and re-raise\u001B[39;00m\n\u001B[0;32m   3809\u001B[0m     \u001B[38;5;66;03m#  the TypeError.\u001B[39;00m\n\u001B[0;32m   3810\u001B[0m     \u001B[38;5;28mself\u001B[39m\u001B[38;5;241m.\u001B[39m_check_indexing_error(key)\n",
      "\u001B[1;31mKeyError\u001B[0m: 'LH2_Reconversion_costs'"
     ]
    }
   ],
   "source": [
    "for year in years:\n",
    "    # get all costs\n",
    "    LC = float(liq_costs.loc[year]['LH2_Liquefaction_costs'])\n",
    "    EC = float(et_costs.loc[ year]['LH2_Export_terminal_costs'])\n",
    "    SC = float(ship_costs.loc[year]['LH2_Shipping_costs'])\n",
    "    IC = float(it_costs.loc[year]['LH2_Import_terminal_costs'])\n",
    "    RC = float(recon_costs.loc[year]['LH2_Reconversion_costs'])\n",
    "    # calculate costs of specific year\n",
    "    result.LH2_transport_costs.loc[year] = calculate_seaborne_transport_costs()\n",
    "\n",
    "result"
   ],
   "metadata": {
    "collapsed": false,
    "pycharm": {
     "name": "#%%\n"
    }
   }
  },
  {
   "cell_type": "code",
   "execution_count": 223,
   "outputs": [],
   "source": [
    "LH2_transport_costs =result"
   ],
   "metadata": {
    "collapsed": false,
    "pycharm": {
     "name": "#%%\n"
    }
   }
  },
  {
   "cell_type": "code",
   "execution_count": 224,
   "outputs": [
    {
     "ename": "PermissionError",
     "evalue": "[Errno 13] Permission denied: '/Users/jakob/PycharmProjects/H2_pathways_repo/data/raw/H2_supply_route_assessment.xlsx'",
     "output_type": "error",
     "traceback": [
      "\u001B[1;31m---------------------------------------------------------------------------\u001B[0m",
      "\u001B[1;31mPermissionError\u001B[0m                           Traceback (most recent call last)",
      "Cell \u001B[1;32mIn [224], line 2\u001B[0m\n\u001B[0;32m      1\u001B[0m \u001B[38;5;66;03m# export result to excel\u001B[39;00m\n\u001B[1;32m----> 2\u001B[0m writer \u001B[38;5;241m=\u001B[39m \u001B[43mpd\u001B[49m\u001B[38;5;241;43m.\u001B[39;49m\u001B[43mExcelWriter\u001B[49m\u001B[43m(\u001B[49m\u001B[43mpath\u001B[49m\u001B[43m,\u001B[49m\u001B[43m \u001B[49m\u001B[43mengine\u001B[49m\u001B[38;5;241;43m=\u001B[39;49m\u001B[38;5;124;43m'\u001B[39;49m\u001B[38;5;124;43mopenpyxl\u001B[39;49m\u001B[38;5;124;43m'\u001B[39;49m\u001B[43m,\u001B[49m\u001B[43m \u001B[49m\u001B[43mmode\u001B[49m\u001B[38;5;241;43m=\u001B[39;49m\u001B[38;5;124;43m'\u001B[39;49m\u001B[38;5;124;43ma\u001B[39;49m\u001B[38;5;124;43m'\u001B[39;49m\u001B[43m,\u001B[49m\u001B[43m \u001B[49m\u001B[43mif_sheet_exists\u001B[49m\u001B[38;5;241;43m=\u001B[39;49m\u001B[38;5;124;43m'\u001B[39;49m\u001B[38;5;124;43moverlay\u001B[39;49m\u001B[38;5;124;43m'\u001B[39;49m\u001B[43m)\u001B[49m\n\u001B[0;32m      3\u001B[0m book \u001B[38;5;241m=\u001B[39m load_workbook(path)\n\u001B[0;32m      4\u001B[0m writer\u001B[38;5;241m.\u001B[39mbook \u001B[38;5;241m=\u001B[39m book\n",
      "File \u001B[1;32m~\\Miniconda3\\envs\\Desktop\\lib\\site-packages\\pandas\\io\\excel\\_openpyxl.py:60\u001B[0m, in \u001B[0;36mOpenpyxlWriter.__init__\u001B[1;34m(self, path, engine, date_format, datetime_format, mode, storage_options, if_sheet_exists, engine_kwargs, **kwargs)\u001B[0m\n\u001B[0;32m     56\u001B[0m \u001B[38;5;28;01mfrom\u001B[39;00m \u001B[38;5;21;01mopenpyxl\u001B[39;00m\u001B[38;5;21;01m.\u001B[39;00m\u001B[38;5;21;01mworkbook\u001B[39;00m \u001B[38;5;28;01mimport\u001B[39;00m Workbook\n\u001B[0;32m     58\u001B[0m engine_kwargs \u001B[38;5;241m=\u001B[39m combine_kwargs(engine_kwargs, kwargs)\n\u001B[1;32m---> 60\u001B[0m \u001B[38;5;28;43msuper\u001B[39;49m\u001B[43m(\u001B[49m\u001B[43m)\u001B[49m\u001B[38;5;241;43m.\u001B[39;49m\u001B[38;5;21;43m__init__\u001B[39;49m\u001B[43m(\u001B[49m\n\u001B[0;32m     61\u001B[0m \u001B[43m    \u001B[49m\u001B[43mpath\u001B[49m\u001B[43m,\u001B[49m\n\u001B[0;32m     62\u001B[0m \u001B[43m    \u001B[49m\u001B[43mmode\u001B[49m\u001B[38;5;241;43m=\u001B[39;49m\u001B[43mmode\u001B[49m\u001B[43m,\u001B[49m\n\u001B[0;32m     63\u001B[0m \u001B[43m    \u001B[49m\u001B[43mstorage_options\u001B[49m\u001B[38;5;241;43m=\u001B[39;49m\u001B[43mstorage_options\u001B[49m\u001B[43m,\u001B[49m\n\u001B[0;32m     64\u001B[0m \u001B[43m    \u001B[49m\u001B[43mif_sheet_exists\u001B[49m\u001B[38;5;241;43m=\u001B[39;49m\u001B[43mif_sheet_exists\u001B[49m\u001B[43m,\u001B[49m\n\u001B[0;32m     65\u001B[0m \u001B[43m    \u001B[49m\u001B[43mengine_kwargs\u001B[49m\u001B[38;5;241;43m=\u001B[39;49m\u001B[43mengine_kwargs\u001B[49m\u001B[43m,\u001B[49m\n\u001B[0;32m     66\u001B[0m \u001B[43m\u001B[49m\u001B[43m)\u001B[49m\n\u001B[0;32m     68\u001B[0m \u001B[38;5;66;03m# ExcelWriter replaced \"a\" by \"r+\" to allow us to first read the excel file from\u001B[39;00m\n\u001B[0;32m     69\u001B[0m \u001B[38;5;66;03m# the file and later write to it\u001B[39;00m\n\u001B[0;32m     70\u001B[0m \u001B[38;5;28;01mif\u001B[39;00m \u001B[38;5;124m\"\u001B[39m\u001B[38;5;124mr+\u001B[39m\u001B[38;5;124m\"\u001B[39m \u001B[38;5;129;01min\u001B[39;00m \u001B[38;5;28mself\u001B[39m\u001B[38;5;241m.\u001B[39m_mode:  \u001B[38;5;66;03m# Load from existing workbook\u001B[39;00m\n",
      "File \u001B[1;32m~\\Miniconda3\\envs\\Desktop\\lib\\site-packages\\pandas\\io\\excel\\_base.py:1313\u001B[0m, in \u001B[0;36mExcelWriter.__init__\u001B[1;34m(self, path, engine, date_format, datetime_format, mode, storage_options, if_sheet_exists, engine_kwargs, **kwargs)\u001B[0m\n\u001B[0;32m   1309\u001B[0m \u001B[38;5;28mself\u001B[39m\u001B[38;5;241m.\u001B[39m_handles \u001B[38;5;241m=\u001B[39m IOHandles(\n\u001B[0;32m   1310\u001B[0m     cast(IO[\u001B[38;5;28mbytes\u001B[39m], path), compression\u001B[38;5;241m=\u001B[39m{\u001B[38;5;124m\"\u001B[39m\u001B[38;5;124mcompression\u001B[39m\u001B[38;5;124m\"\u001B[39m: \u001B[38;5;28;01mNone\u001B[39;00m}\n\u001B[0;32m   1311\u001B[0m )\n\u001B[0;32m   1312\u001B[0m \u001B[38;5;28;01mif\u001B[39;00m \u001B[38;5;129;01mnot\u001B[39;00m \u001B[38;5;28misinstance\u001B[39m(path, ExcelWriter):\n\u001B[1;32m-> 1313\u001B[0m     \u001B[38;5;28mself\u001B[39m\u001B[38;5;241m.\u001B[39m_handles \u001B[38;5;241m=\u001B[39m \u001B[43mget_handle\u001B[49m\u001B[43m(\u001B[49m\n\u001B[0;32m   1314\u001B[0m \u001B[43m        \u001B[49m\u001B[43mpath\u001B[49m\u001B[43m,\u001B[49m\u001B[43m \u001B[49m\u001B[43mmode\u001B[49m\u001B[43m,\u001B[49m\u001B[43m \u001B[49m\u001B[43mstorage_options\u001B[49m\u001B[38;5;241;43m=\u001B[39;49m\u001B[43mstorage_options\u001B[49m\u001B[43m,\u001B[49m\u001B[43m \u001B[49m\u001B[43mis_text\u001B[49m\u001B[38;5;241;43m=\u001B[39;49m\u001B[38;5;28;43;01mFalse\u001B[39;49;00m\n\u001B[0;32m   1315\u001B[0m \u001B[43m    \u001B[49m\u001B[43m)\u001B[49m\n\u001B[0;32m   1316\u001B[0m \u001B[38;5;28mself\u001B[39m\u001B[38;5;241m.\u001B[39m_cur_sheet \u001B[38;5;241m=\u001B[39m \u001B[38;5;28;01mNone\u001B[39;00m\n\u001B[0;32m   1318\u001B[0m \u001B[38;5;28;01mif\u001B[39;00m date_format \u001B[38;5;129;01mis\u001B[39;00m \u001B[38;5;28;01mNone\u001B[39;00m:\n",
      "File \u001B[1;32m~\\Miniconda3\\envs\\Desktop\\lib\\site-packages\\pandas\\io\\common.py:865\u001B[0m, in \u001B[0;36mget_handle\u001B[1;34m(path_or_buf, mode, encoding, compression, memory_map, is_text, errors, storage_options)\u001B[0m\n\u001B[0;32m    856\u001B[0m         handle \u001B[38;5;241m=\u001B[39m \u001B[38;5;28mopen\u001B[39m(\n\u001B[0;32m    857\u001B[0m             handle,\n\u001B[0;32m    858\u001B[0m             ioargs\u001B[38;5;241m.\u001B[39mmode,\n\u001B[1;32m   (...)\u001B[0m\n\u001B[0;32m    861\u001B[0m             newline\u001B[38;5;241m=\u001B[39m\u001B[38;5;124m\"\u001B[39m\u001B[38;5;124m\"\u001B[39m,\n\u001B[0;32m    862\u001B[0m         )\n\u001B[0;32m    863\u001B[0m     \u001B[38;5;28;01melse\u001B[39;00m:\n\u001B[0;32m    864\u001B[0m         \u001B[38;5;66;03m# Binary mode\u001B[39;00m\n\u001B[1;32m--> 865\u001B[0m         handle \u001B[38;5;241m=\u001B[39m \u001B[38;5;28;43mopen\u001B[39;49m\u001B[43m(\u001B[49m\u001B[43mhandle\u001B[49m\u001B[43m,\u001B[49m\u001B[43m \u001B[49m\u001B[43mioargs\u001B[49m\u001B[38;5;241;43m.\u001B[39;49m\u001B[43mmode\u001B[49m\u001B[43m)\u001B[49m\n\u001B[0;32m    866\u001B[0m     handles\u001B[38;5;241m.\u001B[39mappend(handle)\n\u001B[0;32m    868\u001B[0m \u001B[38;5;66;03m# Convert BytesIO or file objects passed with an encoding\u001B[39;00m\n",
      "\u001B[1;31mPermissionError\u001B[0m: [Errno 13] Permission denied: '/Users/jakob/PycharmProjects/H2_pathways_repo/data/raw/H2_supply_route_assessment.xlsx'"
     ]
    }
   ],
   "source": [
    "# export result to excel\n",
    "writer = pd.ExcelWriter(path, engine='openpyxl', mode='a', if_sheet_exists='overlay')\n",
    "book = load_workbook(path)\n",
    "writer.book = book\n",
    "writer.sheets = dict((ws.title, ws) for ws in book.worksheets)\n",
    "\n",
    "ws = book['Reference Results']\n",
    "\n",
    "result.to_excel(writer, sheet_name='Reference Results', index=False, startcol=ws.max_column)\n",
    "book.save(path)\n",
    "book.close()"
   ],
   "metadata": {
    "collapsed": false,
    "pycharm": {
     "name": "#%%\n"
    }
   }
  },
  {
   "cell_type": "code",
   "execution_count": null,
   "outputs": [],
   "source": [
    "# Create csv file from results dataframe\n",
    "output_file = os.path.join(path_csv, 'LH2_transport_costs.csv')\n",
    "result.to_csv(output_file, sep=';')"
   ],
   "metadata": {
    "collapsed": false,
    "pycharm": {
     "name": "#%%\n"
    }
   }
  },
  {
   "cell_type": "code",
   "execution_count": null,
   "outputs": [],
   "source": [
    "# Plot cost curve for seaborne transport\n",
    "fig, ax = plt.subplots(figsize=(10,6))\n",
    "plt.plot(result, color = 'green', linestyle = 'solid')\n",
    "plt.grid(True, axis = 'y')\n",
    "ax.set_axisbelow(True)\n",
    "plt.title('Cost curve for LH2 shipping [€/kg H2]', fontweight='bold')\n",
    "plt.xlabel('Year')\n",
    "plt.ylabel('Cost')\n",
    "plt.show()"
   ],
   "metadata": {
    "collapsed": false,
    "pycharm": {
     "name": "#%%\n"
    }
   }
  },
  {
   "cell_type": "code",
   "execution_count": 225,
   "outputs": [
    {
     "ename": "KeyError",
     "evalue": "'LH2_Reconversion_costs'",
     "output_type": "error",
     "traceback": [
      "\u001B[1;31m---------------------------------------------------------------------------\u001B[0m",
      "\u001B[1;31mKeyError\u001B[0m                                  Traceback (most recent call last)",
      "File \u001B[1;32m~\\Miniconda3\\envs\\Desktop\\lib\\site-packages\\pandas\\core\\indexes\\base.py:3803\u001B[0m, in \u001B[0;36mIndex.get_loc\u001B[1;34m(self, key, method, tolerance)\u001B[0m\n\u001B[0;32m   3802\u001B[0m \u001B[38;5;28;01mtry\u001B[39;00m:\n\u001B[1;32m-> 3803\u001B[0m     \u001B[38;5;28;01mreturn\u001B[39;00m \u001B[38;5;28;43mself\u001B[39;49m\u001B[38;5;241;43m.\u001B[39;49m\u001B[43m_engine\u001B[49m\u001B[38;5;241;43m.\u001B[39;49m\u001B[43mget_loc\u001B[49m\u001B[43m(\u001B[49m\u001B[43mcasted_key\u001B[49m\u001B[43m)\u001B[49m\n\u001B[0;32m   3804\u001B[0m \u001B[38;5;28;01mexcept\u001B[39;00m \u001B[38;5;167;01mKeyError\u001B[39;00m \u001B[38;5;28;01mas\u001B[39;00m err:\n",
      "File \u001B[1;32m~\\Miniconda3\\envs\\Desktop\\lib\\site-packages\\pandas\\_libs\\index.pyx:138\u001B[0m, in \u001B[0;36mpandas._libs.index.IndexEngine.get_loc\u001B[1;34m()\u001B[0m\n",
      "File \u001B[1;32m~\\Miniconda3\\envs\\Desktop\\lib\\site-packages\\pandas\\_libs\\index.pyx:165\u001B[0m, in \u001B[0;36mpandas._libs.index.IndexEngine.get_loc\u001B[1;34m()\u001B[0m\n",
      "File \u001B[1;32mpandas\\_libs\\hashtable_class_helper.pxi:5745\u001B[0m, in \u001B[0;36mpandas._libs.hashtable.PyObjectHashTable.get_item\u001B[1;34m()\u001B[0m\n",
      "File \u001B[1;32mpandas\\_libs\\hashtable_class_helper.pxi:5753\u001B[0m, in \u001B[0;36mpandas._libs.hashtable.PyObjectHashTable.get_item\u001B[1;34m()\u001B[0m\n",
      "\u001B[1;31mKeyError\u001B[0m: 'LH2_Reconversion_costs'",
      "\nThe above exception was the direct cause of the following exception:\n",
      "\u001B[1;31mKeyError\u001B[0m                                  Traceback (most recent call last)",
      "Cell \u001B[1;32mIn [225], line 10\u001B[0m\n\u001B[0;32m      8\u001B[0m SC \u001B[38;5;241m=\u001B[39m (ship_costs\u001B[38;5;241m.\u001B[39mloc[::\u001B[38;5;241m5\u001B[39m][\u001B[38;5;124m'\u001B[39m\u001B[38;5;124mLH2_Shipping_costs\u001B[39m\u001B[38;5;124m'\u001B[39m])\u001B[38;5;241m.\u001B[39mapply(pd\u001B[38;5;241m.\u001B[39mto_numeric)\n\u001B[0;32m      9\u001B[0m IC \u001B[38;5;241m=\u001B[39m (it_costs\u001B[38;5;241m.\u001B[39mloc[::\u001B[38;5;241m5\u001B[39m][\u001B[38;5;124m'\u001B[39m\u001B[38;5;124mLH2_Import_terminal_costs\u001B[39m\u001B[38;5;124m'\u001B[39m])\u001B[38;5;241m.\u001B[39mapply(pd\u001B[38;5;241m.\u001B[39mto_numeric)\n\u001B[1;32m---> 10\u001B[0m RC \u001B[38;5;241m=\u001B[39m (\u001B[43mrecon_costs\u001B[49m\u001B[38;5;241;43m.\u001B[39;49m\u001B[43mloc\u001B[49m\u001B[43m[\u001B[49m\u001B[43m:\u001B[49m\u001B[43m:\u001B[49m\u001B[38;5;241;43m5\u001B[39;49m\u001B[43m]\u001B[49m\u001B[43m[\u001B[49m\u001B[38;5;124;43m'\u001B[39;49m\u001B[38;5;124;43mLH2_Reconversion_costs\u001B[39;49m\u001B[38;5;124;43m'\u001B[39;49m\u001B[43m]\u001B[49m)\u001B[38;5;241m.\u001B[39mapply(pd\u001B[38;5;241m.\u001B[39mto_numeric)\n\u001B[0;32m     11\u001B[0m width \u001B[38;5;241m=\u001B[39m \u001B[38;5;241m2\u001B[39m       \u001B[38;5;66;03m# the width of the bars: can also be len(x) sequence\u001B[39;00m\n\u001B[0;32m     13\u001B[0m RC_plt \u001B[38;5;241m=\u001B[39m plt\u001B[38;5;241m.\u001B[39mbar(x,RC, width, label\u001B[38;5;241m=\u001B[39m\u001B[38;5;124m'\u001B[39m\u001B[38;5;124mRegasification costs\u001B[39m\u001B[38;5;124m'\u001B[39m, bottom\u001B[38;5;241m=\u001B[39m LC \u001B[38;5;241m+\u001B[39m EC \u001B[38;5;241m+\u001B[39m SC \u001B[38;5;241m+\u001B[39m IC)\n",
      "File \u001B[1;32m~\\Miniconda3\\envs\\Desktop\\lib\\site-packages\\pandas\\core\\frame.py:3804\u001B[0m, in \u001B[0;36mDataFrame.__getitem__\u001B[1;34m(self, key)\u001B[0m\n\u001B[0;32m   3802\u001B[0m \u001B[38;5;28;01mif\u001B[39;00m \u001B[38;5;28mself\u001B[39m\u001B[38;5;241m.\u001B[39mcolumns\u001B[38;5;241m.\u001B[39mnlevels \u001B[38;5;241m>\u001B[39m \u001B[38;5;241m1\u001B[39m:\n\u001B[0;32m   3803\u001B[0m     \u001B[38;5;28;01mreturn\u001B[39;00m \u001B[38;5;28mself\u001B[39m\u001B[38;5;241m.\u001B[39m_getitem_multilevel(key)\n\u001B[1;32m-> 3804\u001B[0m indexer \u001B[38;5;241m=\u001B[39m \u001B[38;5;28;43mself\u001B[39;49m\u001B[38;5;241;43m.\u001B[39;49m\u001B[43mcolumns\u001B[49m\u001B[38;5;241;43m.\u001B[39;49m\u001B[43mget_loc\u001B[49m\u001B[43m(\u001B[49m\u001B[43mkey\u001B[49m\u001B[43m)\u001B[49m\n\u001B[0;32m   3805\u001B[0m \u001B[38;5;28;01mif\u001B[39;00m is_integer(indexer):\n\u001B[0;32m   3806\u001B[0m     indexer \u001B[38;5;241m=\u001B[39m [indexer]\n",
      "File \u001B[1;32m~\\Miniconda3\\envs\\Desktop\\lib\\site-packages\\pandas\\core\\indexes\\base.py:3805\u001B[0m, in \u001B[0;36mIndex.get_loc\u001B[1;34m(self, key, method, tolerance)\u001B[0m\n\u001B[0;32m   3803\u001B[0m     \u001B[38;5;28;01mreturn\u001B[39;00m \u001B[38;5;28mself\u001B[39m\u001B[38;5;241m.\u001B[39m_engine\u001B[38;5;241m.\u001B[39mget_loc(casted_key)\n\u001B[0;32m   3804\u001B[0m \u001B[38;5;28;01mexcept\u001B[39;00m \u001B[38;5;167;01mKeyError\u001B[39;00m \u001B[38;5;28;01mas\u001B[39;00m err:\n\u001B[1;32m-> 3805\u001B[0m     \u001B[38;5;28;01mraise\u001B[39;00m \u001B[38;5;167;01mKeyError\u001B[39;00m(key) \u001B[38;5;28;01mfrom\u001B[39;00m \u001B[38;5;21;01merr\u001B[39;00m\n\u001B[0;32m   3806\u001B[0m \u001B[38;5;28;01mexcept\u001B[39;00m \u001B[38;5;167;01mTypeError\u001B[39;00m:\n\u001B[0;32m   3807\u001B[0m     \u001B[38;5;66;03m# If we have a listlike key, _check_indexing_error will raise\u001B[39;00m\n\u001B[0;32m   3808\u001B[0m     \u001B[38;5;66;03m#  InvalidIndexError. Otherwise we fall through and re-raise\u001B[39;00m\n\u001B[0;32m   3809\u001B[0m     \u001B[38;5;66;03m#  the TypeError.\u001B[39;00m\n\u001B[0;32m   3810\u001B[0m     \u001B[38;5;28mself\u001B[39m\u001B[38;5;241m.\u001B[39m_check_indexing_error(key)\n",
      "\u001B[1;31mKeyError\u001B[0m: 'LH2_Reconversion_costs'"
     ]
    },
    {
     "data": {
      "text/plain": "<Figure size 1000x600 with 1 Axes>",
      "image/png": "[encoded data removed]"
     },
     "metadata": {},
     "output_type": "display_data"
    }
   ],
   "source": [
    "# Cost breakdown for LH2 shipping\n",
    "fig, ax = plt.subplots(figsize=(10,6))\n",
    "plt.grid(True, axis = 'y')\n",
    "ax.set_axisbelow(True)\n",
    "x = np.arange(2025, 2051, step=5)\n",
    "LC = (liq_costs.loc[::5]['LH2_Liquefaction_costs']).apply(pd.to_numeric)\n",
    "EC = (et_costs.loc[::5]['LH2_Export_terminal_costs']).apply(pd.to_numeric)\n",
    "SC = (ship_costs.loc[::5]['LH2_Shipping_costs']).apply(pd.to_numeric)\n",
    "IC = (it_costs.loc[::5]['LH2_Import_terminal_costs']).apply(pd.to_numeric)\n",
    "RC = (recon_costs.loc[::5]['LH2_Reconversion_costs']).apply(pd.to_numeric)\n",
    "width = 2       # the width of the bars: can also be len(x) sequence\n",
    "\n",
    "RC_plt = plt.bar(x,RC, width, label='Regasification costs', bottom= LC + EC + SC + IC)\n",
    "IC_plt = plt.bar(x,IC, width, label='Import terminal costs', bottom= LC + EC + SC)\n",
    "SC_plt = plt.bar(x,SC, width, label='Shipping costs', bottom= LC + EC)\n",
    "EC_plt = plt.bar(x,EC, width, label='Export terminal costs', bottom= LC)\n",
    "LC_plt = plt.bar(x,LC, width, label='Liquefaction costs')\n",
    "\n",
    "plt.title('Cost breakdown for LH2 shipping', fontweight='bold')\n",
    "plt.legend(loc='upper right')\n",
    "plt.ylabel('Transport cost [€/kg H2]')\n",
    "plt.xlabel('Years')\n",
    "plt.show()"
   ],
   "metadata": {
    "collapsed": false,
    "pycharm": {
     "name": "#%%\n"
    }
   }
  },
  {
   "cell_type": "markdown",
   "source": [
    "## Sensitivity"
   ],
   "metadata": {
    "collapsed": false,
    "pycharm": {
     "name": "#%% md\n"
    }
   }
  },
  {
   "cell_type": "code",
   "execution_count": null,
   "outputs": [],
   "source": [
    "year = 2030\n",
    "el_liq_y = float(tea_lh2.loc['Liquefaction - Electricity consumption opt. [kWh/kgH2]'][year])\n",
    "capex_liq_y = float(tea_lh2.loc['Liquefaction - Capex opt. [€/t/a]'][year])\n",
    "opex_liq_y = capex_liq_y * opex_liq_share\n",
    "el_liq_y = float(tea_lh2.loc['Liquefaction - Electricity consumption opt. [kWh/kgH2]'][year])\n",
    "capex_et_y = float(tea_lh2.loc['Export Terminal - CAPEX/tank [€/t/a]'][year])\n",
    "opex_et_y = capex_et_y * opex_et_share\n",
    "capex_it_y = float(tea_lh2.loc['Import Terminal - CAPEX [€/t/a]'][year])\n",
    "opex_it_y = capex_it_y * opex_it_share\n",
    "capex_ship_y = float(tea_lh2.loc['Shipping - Capex/Ship opt. [€/t/a]'][year])/1000\n",
    "opex_ship_y = capex_ship_y * opex_ship_share\n",
    "lcoh = float(LH2_cargo_cost.loc[year]['LH2_cargo_cost'])\n",
    "capex_recon_y = float(tea_lh2.loc['Reconversion - Capex opt. [€/t/a]'][year])\n",
    "opex_recon_y = capex_recon_y * opex_recon_share\n",
    "el_recon_y = float(tea_lh2.loc['Reconversion - Electricity consumption opt. [kWh/kg H2]'][year])\n",
    "\n",
    "p_el_y = float(el_price.loc['Electricity prices in Norway [€_2021/MWh]'][year])"
   ],
   "metadata": {
    "collapsed": false,
    "pycharm": {
     "name": "#%%\n"
    }
   }
  },
  {
   "cell_type": "markdown",
   "source": [
    "### Electricity price sensi"
   ],
   "metadata": {
    "collapsed": false,
    "pycharm": {
     "name": "#%% md\n"
    }
   }
  },
  {
   "cell_type": "code",
   "execution_count": 226,
   "outputs": [],
   "source": [
    "sensitivity = []\n",
    "\n",
    "def lh2_transport_sensi(p_el_y, alpha_liq, alpha_et, alpha_ship, alpha_it, alpha_recon,capex_liq_y, capex_et_y,capex_ship_y, capex_it_y,  bog_ship, capex_recon_y, d_sea ,v_ship, f_ship, el_et ,el_it ,t_it ,el_recon_y):\n",
    "\n",
    "    for x in range (21):\n",
    "        factor = x/10\n",
    "        result = \\\n",
    "        ((alpha_liq * capex_liq_y/1000 + opex_liq_y/1000) + el_liq_y * p_el_y/1000 * factor)                                 # Liquefaction\n",
    "        + (alpha_et * capex_et_y/1000 + opex_et_y/1000) + (el_et + el_reliq * t_et) * p_el_y/1000 * factor                  # Export terminal\n",
    "        + (alpha_ship * capex_ship_y + opex_ship_y) / (8760/(2*(d_sea/v_ship + h_ship)))/(1-(bog_ship * d_sea/v_ship) - (f_ship  * d_sea)) + (bog_ship * d_sea/v_ship + f_ship * d_sea) * lcoh # Shipping\n",
    "        + (alpha_it * capex_it_y/1000 + opex_it_y/1000) + (el_it + el_reliq * t_it) * p_el_y/1000 * factor                  # Import terminal\n",
    "        + (alpha_recon * capex_recon_y / 1000 + opex_recon_y / 1000) + el_recon_y * p_el_y / 1000 * factor                # Reconversion\n",
    "\n",
    "        sensitivity.append(result)\n",
    "\n",
    "    return sensitivity"
   ],
   "metadata": {
    "collapsed": false,
    "pycharm": {
     "name": "#%%\n"
    }
   }
  },
  {
   "cell_type": "code",
   "execution_count": 227,
   "outputs": [
    {
     "data": {
      "text/plain": "[0.2282030510600579,\n 0.2557030510600579,\n 0.2832030510600579,\n 0.3107030510600579,\n 0.3382030510600579,\n 0.3657030510600579,\n 0.39320305106005793,\n 0.4207030510600579,\n 0.4482030510600579,\n 0.47570305106005795,\n 0.5032030510600579,\n 0.5307030510600579,\n 0.558203051060058,\n 0.5857030510600579,\n 0.6132030510600579,\n 0.640703051060058,\n 0.668203051060058,\n 0.6957030510600579,\n 0.723203051060058,\n 0.7507030510600579,\n 0.7782030510600579]"
     },
     "execution_count": 227,
     "metadata": {},
     "output_type": "execute_result"
    }
   ],
   "source": [
    "lh2_transport_sensi(p_el_y, alpha_liq, alpha_et, alpha_ship, alpha_it, alpha_recon,capex_liq_y, capex_et_y,capex_ship_y, capex_it_y,  bog_ship, capex_recon_y, d_sea ,v_ship, f_ship, el_et ,el_it ,t_it ,el_recon_y)"
   ],
   "metadata": {
    "collapsed": false,
    "pycharm": {
     "name": "#%%\n"
    }
   }
  },
  {
   "cell_type": "code",
   "execution_count": 228,
   "outputs": [
    {
     "data": {
      "text/plain": "                          LH2 transport costs [€/kg H2]\nElectricity price change                               \n0                                              0.228203\n1                                              0.255703\n2                                              0.283203\n3                                              0.310703\n4                                              0.338203\n5                                              0.365703\n6                                              0.393203\n7                                              0.420703\n8                                              0.448203\n9                                              0.475703\n10                                             0.503203\n11                                             0.530703\n12                                             0.558203\n13                                             0.585703\n14                                             0.613203\n15                                             0.640703\n16                                             0.668203\n17                                             0.695703\n18                                             0.723203\n19                                             0.750703\n20                                             0.778203",
      "text/html": "<div>\n<style scoped>\n    .dataframe tbody tr th:only-of-type {\n        vertical-align: middle;\n    }\n\n    .dataframe tbody tr th {\n        vertical-align: top;\n    }\n\n    .dataframe thead th {\n        text-align: right;\n    }\n</style>\n<table border=\"1\" class=\"dataframe\">\n  <thead>\n    <tr style=\"text-align: right;\">\n      <th></th>\n      <th>LH2 transport costs [€/kg H2]</th>\n    </tr>\n    <tr>\n      <th>Electricity price change</th>\n      <th></th>\n    </tr>\n  </thead>\n  <tbody>\n    <tr>\n      <th>0</th>\n      <td>0.228203</td>\n    </tr>\n    <tr>\n      <th>1</th>\n      <td>0.255703</td>\n    </tr>\n    <tr>\n      <th>2</th>\n      <td>0.283203</td>\n    </tr>\n    <tr>\n      <th>3</th>\n      <td>0.310703</td>\n    </tr>\n    <tr>\n      <th>4</th>\n      <td>0.338203</td>\n    </tr>\n    <tr>\n      <th>5</th>\n      <td>0.365703</td>\n    </tr>\n    <tr>\n      <th>6</th>\n      <td>0.393203</td>\n    </tr>\n    <tr>\n      <th>7</th>\n      <td>0.420703</td>\n    </tr>\n    <tr>\n      <th>8</th>\n      <td>0.448203</td>\n    </tr>\n    <tr>\n      <th>9</th>\n      <td>0.475703</td>\n    </tr>\n    <tr>\n      <th>10</th>\n      <td>0.503203</td>\n    </tr>\n    <tr>\n      <th>11</th>\n      <td>0.530703</td>\n    </tr>\n    <tr>\n      <th>12</th>\n      <td>0.558203</td>\n    </tr>\n    <tr>\n      <th>13</th>\n      <td>0.585703</td>\n    </tr>\n    <tr>\n      <th>14</th>\n      <td>0.613203</td>\n    </tr>\n    <tr>\n      <th>15</th>\n      <td>0.640703</td>\n    </tr>\n    <tr>\n      <th>16</th>\n      <td>0.668203</td>\n    </tr>\n    <tr>\n      <th>17</th>\n      <td>0.695703</td>\n    </tr>\n    <tr>\n      <th>18</th>\n      <td>0.723203</td>\n    </tr>\n    <tr>\n      <th>19</th>\n      <td>0.750703</td>\n    </tr>\n    <tr>\n      <th>20</th>\n      <td>0.778203</td>\n    </tr>\n  </tbody>\n</table>\n</div>"
     },
     "execution_count": 228,
     "metadata": {},
     "output_type": "execute_result"
    }
   ],
   "source": [
    "lh2_transport_sensi_P_el= pd.DataFrame(sensitivity, range(21), columns=['LH2 transport costs [€/kg H2]'])\n",
    "lh2_transport_sensi_P_el.index.name = 'Electricity price change'\n",
    "lh2_transport_sensi_P_el"
   ],
   "metadata": {
    "collapsed": false,
    "pycharm": {
     "name": "#%%\n"
    }
   }
  },
  {
   "cell_type": "code",
   "execution_count": 229,
   "outputs": [],
   "source": [
    "# Create csv file from results dataframe\n",
    "output_file = os.path.join(path_csv,'lh2_transport_sensi_P_el.csv')\n",
    "lh2_transport_sensi_P_el.to_csv(output_file, sep = ';')"
   ],
   "metadata": {
    "collapsed": false,
    "pycharm": {
     "name": "#%%\n"
    }
   }
  },
  {
   "cell_type": "markdown",
   "source": [
    "### Transport distance sensi"
   ],
   "metadata": {
    "collapsed": false,
    "pycharm": {
     "name": "#%% md\n"
    }
   }
  },
  {
   "cell_type": "code",
   "execution_count": 230,
   "outputs": [],
   "source": [
    "transport_distance = np.arange(0,10001, 500)\n",
    "sensitivity = []\n",
    "\n",
    "def lh2_transport_d(p_el_y, alpha_liq, alpha_et, alpha_ship, alpha_it, alpha_recon,capex_liq_y, capex_et_y,capex_ship_y, capex_it_y,  bog_ship, capex_recon_y, d_sea ,v_ship, f_ship, el_et ,el_it ,t_it ,el_recon_y):\n",
    "\n",
    "    for d_sea in transport_distance:\n",
    "\n",
    "        result = \\\n",
    "        ((alpha_liq * capex_liq_y/1000 + opex_liq_y/1000) + el_liq_y * p_el_y/1000)\\\n",
    "        + (alpha_et * capex_et_y/1000 + opex_et_y/1000) + (el_et + el_reliq * t_et) * p_el_y/1000\\\n",
    "        + (alpha_ship * capex_ship_y + opex_ship_y) / (8760/(2*(d_sea/v_ship + h_ship)))/(1-(bog_ship * d_sea/v_ship) - (f_ship  * d_sea)) + (bog_ship * d_sea/v_ship + f_ship * d_sea) * lcoh\\\n",
    "        + (alpha_it * capex_it_y/1000 + opex_it_y/1000) + (el_it + el_reliq * t_it) * p_el_y/1000\\\n",
    "        + (alpha_recon * capex_recon_y / 1000 + opex_recon_y / 1000) + el_recon_y * p_el_y / 1000\\\n",
    "\n",
    "        sensitivity.append(result)\n",
    "\n",
    "    return sensitivity"
   ],
   "metadata": {
    "collapsed": false,
    "pycharm": {
     "name": "#%%\n"
    }
   }
  },
  {
   "cell_type": "code",
   "execution_count": 231,
   "outputs": [
    {
     "data": {
      "text/plain": "[0.9420789171195192,\n 0.9593889694843496,\n 0.9767513038767747,\n 0.9941662282870467,\n 1.0116340531293138,\n 1.029155091265511,\n 1.046729658029537,\n 1.0643580712517162,\n 1.0820406512835514,\n 1.0997777210227737,\n 1.1175696059386895,\n 1.1354166340978322,\n 1.1533191361899213,\n 1.1712774455541317,\n 1.1892918982056844,\n 1.2073628328627501,\n 1.225490590973687,\n 1.2436755167446014,\n 1.2619179571672459,\n 1.2802182620472577,\n 1.2985767840327394]"
     },
     "execution_count": 231,
     "metadata": {},
     "output_type": "execute_result"
    }
   ],
   "source": [
    "lh2_transport_d(p_el_y, alpha_liq, alpha_et, alpha_ship, alpha_it, alpha_recon,capex_liq_y, capex_et_y,capex_ship_y, capex_it_y,  bog_ship, capex_recon_y, d_sea ,v_ship, f_ship, el_et ,el_it ,t_it ,el_recon_y)"
   ],
   "metadata": {
    "collapsed": false,
    "pycharm": {
     "name": "#%%\n"
    }
   }
  },
  {
   "cell_type": "code",
   "execution_count": 232,
   "outputs": [
    {
     "data": {
      "text/plain": "                          LH2 transport costs [€/kg H2]\nTransport distance in km                               \n0                                              0.942079\n500                                            0.959389\n1000                                           0.976751\n1500                                           0.994166\n2000                                           1.011634\n2500                                           1.029155\n3000                                           1.046730\n3500                                           1.064358\n4000                                           1.082041\n4500                                           1.099778\n5000                                           1.117570\n5500                                           1.135417\n6000                                           1.153319\n6500                                           1.171277\n7000                                           1.189292\n7500                                           1.207363\n8000                                           1.225491\n8500                                           1.243676\n9000                                           1.261918\n9500                                           1.280218\n10000                                          1.298577",
      "text/html": "<div>\n<style scoped>\n    .dataframe tbody tr th:only-of-type {\n        vertical-align: middle;\n    }\n\n    .dataframe tbody tr th {\n        vertical-align: top;\n    }\n\n    .dataframe thead th {\n        text-align: right;\n    }\n</style>\n<table border=\"1\" class=\"dataframe\">\n  <thead>\n    <tr style=\"text-align: right;\">\n      <th></th>\n      <th>LH2 transport costs [€/kg H2]</th>\n    </tr>\n    <tr>\n      <th>Transport distance in km</th>\n      <th></th>\n    </tr>\n  </thead>\n  <tbody>\n    <tr>\n      <th>0</th>\n      <td>0.942079</td>\n    </tr>\n    <tr>\n      <th>500</th>\n      <td>0.959389</td>\n    </tr>\n    <tr>\n      <th>1000</th>\n      <td>0.976751</td>\n    </tr>\n    <tr>\n      <th>1500</th>\n      <td>0.994166</td>\n    </tr>\n    <tr>\n      <th>2000</th>\n      <td>1.011634</td>\n    </tr>\n    <tr>\n      <th>2500</th>\n      <td>1.029155</td>\n    </tr>\n    <tr>\n      <th>3000</th>\n      <td>1.046730</td>\n    </tr>\n    <tr>\n      <th>3500</th>\n      <td>1.064358</td>\n    </tr>\n    <tr>\n      <th>4000</th>\n      <td>1.082041</td>\n    </tr>\n    <tr>\n      <th>4500</th>\n      <td>1.099778</td>\n    </tr>\n    <tr>\n      <th>5000</th>\n      <td>1.117570</td>\n    </tr>\n    <tr>\n      <th>5500</th>\n      <td>1.135417</td>\n    </tr>\n    <tr>\n      <th>6000</th>\n      <td>1.153319</td>\n    </tr>\n    <tr>\n      <th>6500</th>\n      <td>1.171277</td>\n    </tr>\n    <tr>\n      <th>7000</th>\n      <td>1.189292</td>\n    </tr>\n    <tr>\n      <th>7500</th>\n      <td>1.207363</td>\n    </tr>\n    <tr>\n      <th>8000</th>\n      <td>1.225491</td>\n    </tr>\n    <tr>\n      <th>8500</th>\n      <td>1.243676</td>\n    </tr>\n    <tr>\n      <th>9000</th>\n      <td>1.261918</td>\n    </tr>\n    <tr>\n      <th>9500</th>\n      <td>1.280218</td>\n    </tr>\n    <tr>\n      <th>10000</th>\n      <td>1.298577</td>\n    </tr>\n  </tbody>\n</table>\n</div>"
     },
     "execution_count": 232,
     "metadata": {},
     "output_type": "execute_result"
    }
   ],
   "source": [
    "lh2_transport_sensi_distance= pd.DataFrame(sensitivity, transport_distance, columns=['LH2 transport costs [€/kg H2]'])\n",
    "lh2_transport_sensi_distance.index.name = 'Transport distance in km'\n",
    "lh2_transport_sensi_distance"
   ],
   "metadata": {
    "collapsed": false,
    "pycharm": {
     "name": "#%%\n"
    }
   }
  },
  {
   "cell_type": "code",
   "execution_count": 233,
   "outputs": [],
   "source": [
    "# Create csv file from results dataframe\n",
    "output_file = os.path.join(path_csv,'lh2_transport_sensi_distance.csv')\n",
    "lh2_transport_sensi_distance.to_csv(output_file, sep = ';')"
   ],
   "metadata": {
    "collapsed": false,
    "pycharm": {
     "name": "#%%\n"
    }
   }
  },
  {
   "cell_type": "markdown",
   "source": [
    "# NH3 Transport"
   ],
   "metadata": {
    "collapsed": false,
    "pycharm": {
     "name": "#%% md\n"
    }
   }
  },
  {
   "cell_type": "code",
   "execution_count": 234,
   "outputs": [
    {
     "ename": "FileNotFoundError",
     "evalue": "[Errno 2] No such file or directory: '/Users/jakob/PycharmProjects/H2_pathways_repo/data/raw/H2_supply_route_assessment.xlsx'",
     "output_type": "error",
     "traceback": [
      "\u001B[1;31m---------------------------------------------------------------------------\u001B[0m",
      "\u001B[1;31mFileNotFoundError\u001B[0m                         Traceback (most recent call last)",
      "Cell \u001B[1;32mIn [234], line 1\u001B[0m\n\u001B[1;32m----> 1\u001B[0m tea_lnh3 \u001B[38;5;241m=\u001B[39m \u001B[43mpd\u001B[49m\u001B[38;5;241;43m.\u001B[39;49m\u001B[43mread_excel\u001B[49m\u001B[43m(\u001B[49m\u001B[43mpath\u001B[49m\u001B[43m,\u001B[49m\u001B[43m \u001B[49m\u001B[43msheet_name\u001B[49m\u001B[38;5;241;43m=\u001B[39;49m\u001B[38;5;124;43m'\u001B[39;49m\u001B[38;5;124;43mLNH3\u001B[39;49m\u001B[38;5;124;43m'\u001B[39;49m\u001B[43m,\u001B[49m\u001B[43m \u001B[49m\u001B[43mdecimal\u001B[49m\u001B[38;5;241;43m=\u001B[39;49m\u001B[38;5;124;43m'\u001B[39;49m\u001B[38;5;124;43m,\u001B[39;49m\u001B[38;5;124;43m'\u001B[39;49m\u001B[43m,\u001B[49m\u001B[43m \u001B[49m\u001B[43mindex_col\u001B[49m\u001B[38;5;241;43m=\u001B[39;49m\u001B[38;5;241;43m0\u001B[39;49m\u001B[43m)\u001B[49m\n\u001B[0;32m      2\u001B[0m tea_lnh3\n",
      "File \u001B[1;32m~\\Miniconda3\\envs\\Desktop\\lib\\site-packages\\pandas\\util\\_decorators.py:211\u001B[0m, in \u001B[0;36mdeprecate_kwarg.<locals>._deprecate_kwarg.<locals>.wrapper\u001B[1;34m(*args, **kwargs)\u001B[0m\n\u001B[0;32m    209\u001B[0m     \u001B[38;5;28;01melse\u001B[39;00m:\n\u001B[0;32m    210\u001B[0m         kwargs[new_arg_name] \u001B[38;5;241m=\u001B[39m new_arg_value\n\u001B[1;32m--> 211\u001B[0m \u001B[38;5;28;01mreturn\u001B[39;00m func(\u001B[38;5;241m*\u001B[39margs, \u001B[38;5;241m*\u001B[39m\u001B[38;5;241m*\u001B[39mkwargs)\n",
      "File \u001B[1;32m~\\Miniconda3\\envs\\Desktop\\lib\\site-packages\\pandas\\util\\_decorators.py:331\u001B[0m, in \u001B[0;36mdeprecate_nonkeyword_arguments.<locals>.decorate.<locals>.wrapper\u001B[1;34m(*args, **kwargs)\u001B[0m\n\u001B[0;32m    325\u001B[0m \u001B[38;5;28;01mif\u001B[39;00m \u001B[38;5;28mlen\u001B[39m(args) \u001B[38;5;241m>\u001B[39m num_allow_args:\n\u001B[0;32m    326\u001B[0m     warnings\u001B[38;5;241m.\u001B[39mwarn(\n\u001B[0;32m    327\u001B[0m         msg\u001B[38;5;241m.\u001B[39mformat(arguments\u001B[38;5;241m=\u001B[39m_format_argument_list(allow_args)),\n\u001B[0;32m    328\u001B[0m         \u001B[38;5;167;01mFutureWarning\u001B[39;00m,\n\u001B[0;32m    329\u001B[0m         stacklevel\u001B[38;5;241m=\u001B[39mfind_stack_level(),\n\u001B[0;32m    330\u001B[0m     )\n\u001B[1;32m--> 331\u001B[0m \u001B[38;5;28;01mreturn\u001B[39;00m func(\u001B[38;5;241m*\u001B[39margs, \u001B[38;5;241m*\u001B[39m\u001B[38;5;241m*\u001B[39mkwargs)\n",
      "File \u001B[1;32m~\\Miniconda3\\envs\\Desktop\\lib\\site-packages\\pandas\\io\\excel\\_base.py:482\u001B[0m, in \u001B[0;36mread_excel\u001B[1;34m(io, sheet_name, header, names, index_col, usecols, squeeze, dtype, engine, converters, true_values, false_values, skiprows, nrows, na_values, keep_default_na, na_filter, verbose, parse_dates, date_parser, thousands, decimal, comment, skipfooter, convert_float, mangle_dupe_cols, storage_options)\u001B[0m\n\u001B[0;32m    480\u001B[0m \u001B[38;5;28;01mif\u001B[39;00m \u001B[38;5;129;01mnot\u001B[39;00m \u001B[38;5;28misinstance\u001B[39m(io, ExcelFile):\n\u001B[0;32m    481\u001B[0m     should_close \u001B[38;5;241m=\u001B[39m \u001B[38;5;28;01mTrue\u001B[39;00m\n\u001B[1;32m--> 482\u001B[0m     io \u001B[38;5;241m=\u001B[39m \u001B[43mExcelFile\u001B[49m\u001B[43m(\u001B[49m\u001B[43mio\u001B[49m\u001B[43m,\u001B[49m\u001B[43m \u001B[49m\u001B[43mstorage_options\u001B[49m\u001B[38;5;241;43m=\u001B[39;49m\u001B[43mstorage_options\u001B[49m\u001B[43m,\u001B[49m\u001B[43m \u001B[49m\u001B[43mengine\u001B[49m\u001B[38;5;241;43m=\u001B[39;49m\u001B[43mengine\u001B[49m\u001B[43m)\u001B[49m\n\u001B[0;32m    483\u001B[0m \u001B[38;5;28;01melif\u001B[39;00m engine \u001B[38;5;129;01mand\u001B[39;00m engine \u001B[38;5;241m!=\u001B[39m io\u001B[38;5;241m.\u001B[39mengine:\n\u001B[0;32m    484\u001B[0m     \u001B[38;5;28;01mraise\u001B[39;00m \u001B[38;5;167;01mValueError\u001B[39;00m(\n\u001B[0;32m    485\u001B[0m         \u001B[38;5;124m\"\u001B[39m\u001B[38;5;124mEngine should not be specified when passing \u001B[39m\u001B[38;5;124m\"\u001B[39m\n\u001B[0;32m    486\u001B[0m         \u001B[38;5;124m\"\u001B[39m\u001B[38;5;124man ExcelFile - ExcelFile already has the engine set\u001B[39m\u001B[38;5;124m\"\u001B[39m\n\u001B[0;32m    487\u001B[0m     )\n",
      "File \u001B[1;32m~\\Miniconda3\\envs\\Desktop\\lib\\site-packages\\pandas\\io\\excel\\_base.py:1652\u001B[0m, in \u001B[0;36mExcelFile.__init__\u001B[1;34m(self, path_or_buffer, engine, storage_options)\u001B[0m\n\u001B[0;32m   1650\u001B[0m     ext \u001B[38;5;241m=\u001B[39m \u001B[38;5;124m\"\u001B[39m\u001B[38;5;124mxls\u001B[39m\u001B[38;5;124m\"\u001B[39m\n\u001B[0;32m   1651\u001B[0m \u001B[38;5;28;01melse\u001B[39;00m:\n\u001B[1;32m-> 1652\u001B[0m     ext \u001B[38;5;241m=\u001B[39m \u001B[43minspect_excel_format\u001B[49m\u001B[43m(\u001B[49m\n\u001B[0;32m   1653\u001B[0m \u001B[43m        \u001B[49m\u001B[43mcontent_or_path\u001B[49m\u001B[38;5;241;43m=\u001B[39;49m\u001B[43mpath_or_buffer\u001B[49m\u001B[43m,\u001B[49m\u001B[43m \u001B[49m\u001B[43mstorage_options\u001B[49m\u001B[38;5;241;43m=\u001B[39;49m\u001B[43mstorage_options\u001B[49m\n\u001B[0;32m   1654\u001B[0m \u001B[43m    \u001B[49m\u001B[43m)\u001B[49m\n\u001B[0;32m   1655\u001B[0m     \u001B[38;5;28;01mif\u001B[39;00m ext \u001B[38;5;129;01mis\u001B[39;00m \u001B[38;5;28;01mNone\u001B[39;00m:\n\u001B[0;32m   1656\u001B[0m         \u001B[38;5;28;01mraise\u001B[39;00m \u001B[38;5;167;01mValueError\u001B[39;00m(\n\u001B[0;32m   1657\u001B[0m             \u001B[38;5;124m\"\u001B[39m\u001B[38;5;124mExcel file format cannot be determined, you must specify \u001B[39m\u001B[38;5;124m\"\u001B[39m\n\u001B[0;32m   1658\u001B[0m             \u001B[38;5;124m\"\u001B[39m\u001B[38;5;124man engine manually.\u001B[39m\u001B[38;5;124m\"\u001B[39m\n\u001B[0;32m   1659\u001B[0m         )\n",
      "File \u001B[1;32m~\\Miniconda3\\envs\\Desktop\\lib\\site-packages\\pandas\\io\\excel\\_base.py:1525\u001B[0m, in \u001B[0;36minspect_excel_format\u001B[1;34m(content_or_path, storage_options)\u001B[0m\n\u001B[0;32m   1522\u001B[0m \u001B[38;5;28;01mif\u001B[39;00m \u001B[38;5;28misinstance\u001B[39m(content_or_path, \u001B[38;5;28mbytes\u001B[39m):\n\u001B[0;32m   1523\u001B[0m     content_or_path \u001B[38;5;241m=\u001B[39m BytesIO(content_or_path)\n\u001B[1;32m-> 1525\u001B[0m \u001B[38;5;28;01mwith\u001B[39;00m \u001B[43mget_handle\u001B[49m\u001B[43m(\u001B[49m\n\u001B[0;32m   1526\u001B[0m \u001B[43m    \u001B[49m\u001B[43mcontent_or_path\u001B[49m\u001B[43m,\u001B[49m\u001B[43m \u001B[49m\u001B[38;5;124;43m\"\u001B[39;49m\u001B[38;5;124;43mrb\u001B[39;49m\u001B[38;5;124;43m\"\u001B[39;49m\u001B[43m,\u001B[49m\u001B[43m \u001B[49m\u001B[43mstorage_options\u001B[49m\u001B[38;5;241;43m=\u001B[39;49m\u001B[43mstorage_options\u001B[49m\u001B[43m,\u001B[49m\u001B[43m \u001B[49m\u001B[43mis_text\u001B[49m\u001B[38;5;241;43m=\u001B[39;49m\u001B[38;5;28;43;01mFalse\u001B[39;49;00m\n\u001B[0;32m   1527\u001B[0m \u001B[43m\u001B[49m\u001B[43m)\u001B[49m \u001B[38;5;28;01mas\u001B[39;00m handle:\n\u001B[0;32m   1528\u001B[0m     stream \u001B[38;5;241m=\u001B[39m handle\u001B[38;5;241m.\u001B[39mhandle\n\u001B[0;32m   1529\u001B[0m     stream\u001B[38;5;241m.\u001B[39mseek(\u001B[38;5;241m0\u001B[39m)\n",
      "File \u001B[1;32m~\\Miniconda3\\envs\\Desktop\\lib\\site-packages\\pandas\\io\\common.py:865\u001B[0m, in \u001B[0;36mget_handle\u001B[1;34m(path_or_buf, mode, encoding, compression, memory_map, is_text, errors, storage_options)\u001B[0m\n\u001B[0;32m    856\u001B[0m         handle \u001B[38;5;241m=\u001B[39m \u001B[38;5;28mopen\u001B[39m(\n\u001B[0;32m    857\u001B[0m             handle,\n\u001B[0;32m    858\u001B[0m             ioargs\u001B[38;5;241m.\u001B[39mmode,\n\u001B[1;32m   (...)\u001B[0m\n\u001B[0;32m    861\u001B[0m             newline\u001B[38;5;241m=\u001B[39m\u001B[38;5;124m\"\u001B[39m\u001B[38;5;124m\"\u001B[39m,\n\u001B[0;32m    862\u001B[0m         )\n\u001B[0;32m    863\u001B[0m     \u001B[38;5;28;01melse\u001B[39;00m:\n\u001B[0;32m    864\u001B[0m         \u001B[38;5;66;03m# Binary mode\u001B[39;00m\n\u001B[1;32m--> 865\u001B[0m         handle \u001B[38;5;241m=\u001B[39m \u001B[38;5;28;43mopen\u001B[39;49m\u001B[43m(\u001B[49m\u001B[43mhandle\u001B[49m\u001B[43m,\u001B[49m\u001B[43m \u001B[49m\u001B[43mioargs\u001B[49m\u001B[38;5;241;43m.\u001B[39;49m\u001B[43mmode\u001B[49m\u001B[43m)\u001B[49m\n\u001B[0;32m    866\u001B[0m     handles\u001B[38;5;241m.\u001B[39mappend(handle)\n\u001B[0;32m    868\u001B[0m \u001B[38;5;66;03m# Convert BytesIO or file objects passed with an encoding\u001B[39;00m\n",
      "\u001B[1;31mFileNotFoundError\u001B[0m: [Errno 2] No such file or directory: '/Users/jakob/PycharmProjects/H2_pathways_repo/data/raw/H2_supply_route_assessment.xlsx'"
     ]
    }
   ],
   "source": [
    "tea_lnh3 = pd.read_excel(path, sheet_name='LNH3', decimal=',', index_col=0)\n",
    "tea_lnh3"
   ],
   "metadata": {
    "collapsed": false,
    "pycharm": {
     "name": "#%%\n"
    }
   }
  },
  {
   "cell_type": "markdown",
   "source": [
    "## Conversion"
   ],
   "metadata": {
    "collapsed": false,
    "pycharm": {
     "name": "#%% md\n"
    }
   }
  },
  {
   "cell_type": "code",
   "execution_count": null,
   "outputs": [],
   "source": [
    "# Economic lifetime for the conversion plant [years]\n",
    "l_con = float(tea_lnh3.loc['Conversion - Lifetime [Years]']['NH3'])\n",
    "l_con"
   ],
   "metadata": {
    "collapsed": false,
    "pycharm": {
     "name": "#%%\n"
    }
   }
  },
  {
   "cell_type": "code",
   "execution_count": null,
   "outputs": [],
   "source": [
    "# Amortisation factor alpha for the conversion plant\n",
    "alpha_con = (i * (1 + i) ** l_con) /(((1 + i) ** l_con) - 1)\n",
    "alpha_con\n"
   ],
   "metadata": {
    "collapsed": false,
    "pycharm": {
     "name": "#%%\n"
    }
   }
  },
  {
   "cell_type": "code",
   "execution_count": null,
   "outputs": [],
   "source": [
    "'not used'# Conversion efficiency [% of LHV]\n",
    "#eff_con = float(tea_lnh3.loc['Conversion - Efficiency opt. [% of LHV]'][2025])"
   ],
   "metadata": {
    "collapsed": false,
    "pycharm": {
     "name": "#%%\n"
    }
   }
  },
  {
   "cell_type": "code",
   "execution_count": null,
   "outputs": [],
   "source": [
    "opex_con_share = (tea_lnh3.loc['Conversion - Opex opt. [% of Capex]']['NH3'])\n",
    "opex_con_share"
   ],
   "metadata": {
    "collapsed": false,
    "pycharm": {
     "name": "#%%\n"
    }
   }
  },
  {
   "cell_type": "markdown",
   "source": [
    "Calc. conversion cost"
   ],
   "metadata": {
    "collapsed": false,
    "pycharm": {
     "name": "#%% md\n"
    }
   }
  },
  {
   "cell_type": "markdown",
   "source": [
    "Definition of the cost calculation function for conversion costs. Time relevant variables =\n",
    "capex [€/tpa]\n",
    "opex [€/tpa]\n",
    "electricity use [kwh/kg H2]\n",
    "electricity price [$/MWh]"
   ],
   "metadata": {
    "collapsed": false,
    "pycharm": {
     "name": "#%% md\n"
    }
   }
  },
  {
   "cell_type": "code",
   "execution_count": null,
   "outputs": [],
   "source": [
    "def calculate_con_costs():\n",
    "\n",
    "    result = float((alpha_con * capex_con_y/1000 + opex_con_y/1000) + el_con_y * p_el_y/1000)\n",
    "\n",
    "    return result"
   ],
   "metadata": {
    "collapsed": false,
    "pycharm": {
     "name": "#%%\n"
    }
   }
  },
  {
   "cell_type": "code",
   "execution_count": null,
   "outputs": [],
   "source": [
    "# Calculation of conversion costs [€/kg_h2] from 2030 to 2050.\n",
    "years = np.arange(2025,2051)\n",
    "result = pd.DataFrame(index=years, columns=['LNH3_Conversion_costs'])\n",
    "result.index.name = 'Years'\n",
    "\n",
    "for year in years:\n",
    "\n",
    "    # get capex, opex, natural gas price and CO2 price of specific year\n",
    "    capex_con_y = float(tea_lnh3.loc['Conversion - Capex opt. [€/t/a]'][year])\n",
    "    opex_con_y = capex_con_y * opex_con_share\n",
    "    el_con_y = float(tea_lnh3.loc['Conversion - Electricity consumption opt. [kWh/kgH2]'][year])\n",
    "    p_el_y = float(el_price.loc['Electricity prices in Norway [€_2021/MWh]'][year])\n",
    "\n",
    "    # calculate costs of specific year\n",
    "    result.LNH3_Conversion_costs.loc[year] = calculate_con_costs()\n",
    "\n",
    "result"
   ],
   "metadata": {
    "collapsed": false,
    "pycharm": {
     "name": "#%%\n"
    }
   }
  },
  {
   "cell_type": "code",
   "execution_count": null,
   "outputs": [],
   "source": [
    "LNH3_Conversion_costs = result"
   ],
   "metadata": {
    "collapsed": false,
    "pycharm": {
     "name": "#%%\n"
    }
   }
  },
  {
   "cell_type": "code",
   "execution_count": null,
   "outputs": [],
   "source": [
    "# export result to excel\n",
    "path = '/Users/jakob/PycharmProjects/H2_pathways_repo/data/raw/H2_supply_route_assessment.xlsx'\n",
    "writer = pd.ExcelWriter(path, engine='openpyxl', mode='a', if_sheet_exists='overlay')\n",
    "book = load_workbook(path)\n",
    "writer.book = book\n",
    "writer.sheets = dict((ws.title, ws) for ws in book.worksheets)\n",
    "\n",
    "ws = book['Reference Results']\n",
    "\n",
    "result.to_excel(writer, sheet_name='Reference Results', index=False, startcol=ws.max_column)\n",
    "book.save(path)\n",
    "book.close()"
   ],
   "metadata": {
    "collapsed": false,
    "pycharm": {
     "name": "#%%\n"
    }
   }
  },
  {
   "cell_type": "code",
   "execution_count": null,
   "outputs": [],
   "source": [
    "# Create csv file from results dataframe\n",
    "path=r'/Users/jakob/PycharmProjects/H2_pathways_repo/data/processed'\n",
    "output_file = os.path.join(path_csv,'LNH3_Conversion_costs.csv')\n",
    "result.to_csv(output_file, sep = ';')"
   ],
   "metadata": {
    "collapsed": false,
    "pycharm": {
     "name": "#%%\n"
    }
   }
  },
  {
   "cell_type": "markdown",
   "source": [
    "Plot conversion costs"
   ],
   "metadata": {
    "collapsed": false,
    "pycharm": {
     "name": "#%% md\n"
    }
   }
  },
  {
   "cell_type": "code",
   "execution_count": null,
   "outputs": [],
   "source": [
    "# Plot cost curve for conversion of H2 to NH3\n",
    "fig, ax = plt.subplots(figsize=(10,6))\n",
    "plt.plot(result, color = 'cyan', linestyle = 'solid')\n",
    "plt.grid(True, axis = 'y')\n",
    "ax.set_axisbelow(True)\n",
    "plt.title('Cost curve for conversion of H2 to NH3 [€/kg]', fontweight = 'bold')\n",
    "plt.legend(['Conversion costs'])\n",
    "plt.xlabel('Year')\n",
    "plt.ylabel('Cost')\n",
    "plt.show()"
   ],
   "metadata": {
    "collapsed": false,
    "pycharm": {
     "name": "#%%\n"
    }
   }
  },
  {
   "cell_type": "markdown",
   "source": [
    "## Export terminal"
   ],
   "metadata": {
    "collapsed": false,
    "pycharm": {
     "name": "#%% md\n"
    }
   }
  },
  {
   "cell_type": "code",
   "execution_count": null,
   "outputs": [],
   "source": [
    "# Lifetime of import and export terminals\n",
    "l_ter = float(tea_lnh3.loc['Export Terminal - Technical lifetime [Years]']['NH3'])\n",
    "# Amortisation factor for the export terminal\n",
    "alpha_et = (i * (1 + i) ** l_ter) / (((1 + i) ** l_ter) - 1)"
   ],
   "metadata": {
    "collapsed": false,
    "pycharm": {
     "name": "#%%\n"
    }
   }
  },
  {
   "cell_type": "code",
   "execution_count": null,
   "outputs": [],
   "source": [
    "# Electricity consumption for the export terminal [kWh/kg_h2]\n",
    "el_et = float(tea_lnh3.loc['Export Terminal - Electricity use [kWh/kgH2]']['NH3'])\n",
    "el_et"
   ],
   "metadata": {
    "collapsed": false,
    "pycharm": {
     "name": "#%%\n"
    }
   }
  },
  {
   "cell_type": "code",
   "execution_count": null,
   "outputs": [],
   "source": [
    "# Boil-off hydrogen in [%/day]\n",
    "bog_et = float(tea_lnh3.loc['Export Terminal - Boil off rate [%/day]']['NH3'])\n",
    "bog_et"
   ],
   "metadata": {
    "collapsed": false,
    "pycharm": {
     "name": "#%%\n"
    }
   }
  },
  {
   "cell_type": "code",
   "execution_count": null,
   "outputs": [],
   "source": [
    "# Average storage time in the export terminal tanks in days\n",
    "t_et = float(tea_lnh3.loc['Export Terminal - Storage length per load [Days]']['NH3'])\n",
    "t_et"
   ],
   "metadata": {
    "collapsed": false,
    "pycharm": {
     "name": "#%%\n"
    }
   }
  },
  {
   "cell_type": "code",
   "execution_count": null,
   "outputs": [],
   "source": [
    "#Lower heating value of Nh3 [kWh/kg]\n",
    "NH3_lhv =  float(tea_lnh3.loc['Properties - LHV [kWh/kg]']['NH3'])\n",
    "NH3_lhv"
   ],
   "metadata": {
    "collapsed": false,
    "pycharm": {
     "name": "#%%\n"
    }
   }
  },
  {
   "cell_type": "code",
   "execution_count": null,
   "outputs": [],
   "source": [
    "#Lower heating value of H2 [kWh/kg]\n",
    "H2_lhv = 33.33"
   ],
   "metadata": {
    "collapsed": false,
    "pycharm": {
     "name": "#%%\n"
    }
   }
  },
  {
   "cell_type": "code",
   "execution_count": null,
   "outputs": [],
   "source": [
    "# transformed to kWh/kg h2/day\n",
    "el_reliq = float(tea_lnh3.loc['Export Terminal - Energy use to reliquefy opt. [kWh/kg NH3/day]']['NH3'])\n",
    "el_reliq"
   ],
   "metadata": {
    "collapsed": false,
    "pycharm": {
     "name": "#%%\n"
    }
   }
  },
  {
   "cell_type": "code",
   "execution_count": null,
   "outputs": [],
   "source": [
    "opex_et_share"
   ],
   "metadata": {
    "collapsed": false,
    "pycharm": {
     "name": "#%%\n"
    }
   }
  },
  {
   "cell_type": "markdown",
   "source": [
    "Calc. export terminal cost"
   ],
   "metadata": {
    "collapsed": false,
    "pycharm": {
     "name": "#%% md\n"
    }
   }
  },
  {
   "cell_type": "markdown",
   "source": [
    "Time relevant variables =\n",
    "capex [€/tpa]\n",
    "opex [€/tpa]\n",
    "el_et electricity use [kwh/kg H2]\n",
    "electricity price [$/MWh]\n",
    "constant =\n",
    "boil off in [%/d]\n",
    "storage time in days\n",
    "Energy use to reliquefy opt. [kWh/kg NH3/day]"
   ],
   "metadata": {
    "collapsed": false,
    "pycharm": {
     "name": "#%% md\n"
    }
   }
  },
  {
   "cell_type": "code",
   "execution_count": null,
   "outputs": [],
   "source": [
    "# Definition of the cost calculation function for the Export terminal.\n",
    "\n",
    "def calculate_export_terminal_costs():\n",
    "    result = (alpha_et * capex_et_y/1000 + opex_et_y/1000) + (el_et + el_reliq * (NH3_lhv/H2_lhv) * t_et) * p_el_y/1000\n",
    "\n",
    "    return result"
   ],
   "metadata": {
    "collapsed": false,
    "pycharm": {
     "name": "#%%\n"
    }
   }
  },
  {
   "cell_type": "code",
   "execution_count": null,
   "outputs": [],
   "source": [
    "#Calculation of export terminal costs [€/kg_h2] from 2030 to 2050.\n",
    "years = np.arange(2025, 2051)\n",
    "result = pd.DataFrame(index=years, columns=['LNH3_Export_terminal_costs'])\n",
    "result.index.name = 'Years'"
   ],
   "metadata": {
    "collapsed": false,
    "pycharm": {
     "name": "#%%\n"
    }
   }
  },
  {
   "cell_type": "code",
   "execution_count": null,
   "outputs": [],
   "source": [
    "for year in years:\n",
    "    # get capex, opex, xx\n",
    "    capex_et_y = float(tea_lnh3.loc['Export Terminal - CAPEX for storage tanks [€/t/a]'][year])\n",
    "    opex_et_y = float(tea_lnh3.loc['Export Terminal - Annual OPEX [€/t/a]'][year])\n",
    "    p_el_y = float(el_price.loc['Electricity prices in Norway [€_2021/MWh]'][year])\n",
    "\n",
    "    # calculate costs of specific year\n",
    "    result.LNH3_Export_terminal_costs.loc[year] = calculate_export_terminal_costs()\n",
    "\n",
    "result"
   ],
   "metadata": {
    "collapsed": false,
    "pycharm": {
     "name": "#%%\n"
    }
   }
  },
  {
   "cell_type": "code",
   "execution_count": null,
   "outputs": [],
   "source": [
    "LNH3_Export_terminal_costs = result"
   ],
   "metadata": {
    "collapsed": false,
    "pycharm": {
     "name": "#%%\n"
    }
   }
  },
  {
   "cell_type": "code",
   "execution_count": null,
   "outputs": [],
   "source": [
    "# export result to excel\n",
    "path = '/Users/jakob/PycharmProjects/H2_pathways_repo/data/raw/H2_supply_route_assessment.xlsx'\n",
    "writer = pd.ExcelWriter(path, engine='openpyxl', mode='a', if_sheet_exists='overlay')\n",
    "book = load_workbook(path)\n",
    "writer.book = book\n",
    "writer.sheets = dict((ws.title, ws) for ws in book.worksheets)\n",
    "\n",
    "ws = book['Reference Results']\n",
    "\n",
    "result.to_excel(writer, sheet_name='Reference Results', index=False, startcol=ws.max_column)\n",
    "book.save(path)\n",
    "book.close()"
   ],
   "metadata": {
    "collapsed": false,
    "pycharm": {
     "name": "#%%\n"
    }
   }
  },
  {
   "cell_type": "code",
   "execution_count": null,
   "outputs": [],
   "source": [
    "# Create csv file from results dataframe\n",
    "path_csv= r'/Users/jakob/PycharmProjects/H2_pathways_repo/data/processed'\n",
    "output_file = os.path.join(path_csv, 'LNH3_Export_terminal_costs.csv')\n",
    "result.to_csv(output_file, sep=';')"
   ],
   "metadata": {
    "collapsed": false,
    "pycharm": {
     "name": "#%%\n"
    }
   }
  },
  {
   "cell_type": "markdown",
   "source": [
    "Plot export terminal costs"
   ],
   "metadata": {
    "collapsed": false,
    "pycharm": {
     "name": "#%% md\n"
    }
   }
  },
  {
   "cell_type": "code",
   "execution_count": null,
   "outputs": [],
   "source": [
    "# Plot cost curve for export terminal costs\n",
    "fig, ax = plt.subplots(figsize=(10,6))\n",
    "plt.plot(result, color = 'red', linestyle = 'solid')\n",
    "plt.grid(True, axis = 'y')\n",
    "ax.set_axisbelow(True)\n",
    "plt.plot(result, color='red', linestyle='dashed')\n",
    "plt.title('Export terminal costs over time', fontweight='bold', fontsize='large')\n",
    "plt.legend(['Export terminal costs in €/kg_H2'])\n",
    "plt.xlabel('Year', fontsize='large')\n",
    "plt.ylabel('Cost [€/kg_H2]', fontsize='large')\n",
    "plt.show()"
   ],
   "metadata": {
    "collapsed": false,
    "pycharm": {
     "name": "#%%\n"
    }
   }
  },
  {
   "cell_type": "markdown",
   "source": [
    "## Shipping"
   ],
   "metadata": {
    "collapsed": false,
    "pycharm": {
     "name": "#%% md\n"
    }
   }
  },
  {
   "cell_type": "code",
   "execution_count": null,
   "outputs": [],
   "source": [
    "# Technical lifetime of ships in years\n",
    "l_ship = float(tea_lnh3.loc['Shipping - Technical Lifetime [Years]']['NH3'])\n",
    "l_ship"
   ],
   "metadata": {
    "collapsed": false,
    "pycharm": {
     "name": "#%%\n"
    }
   }
  },
  {
   "cell_type": "code",
   "execution_count": null,
   "outputs": [],
   "source": [
    "# Amortisation factor for shipping\n",
    "alpha_ship = (i * (1 + i) ** l_ship) / (((1 + i) ** l_ship) - 1)\n",
    "alpha_ship\n"
   ],
   "metadata": {
    "collapsed": false,
    "pycharm": {
     "name": "#%%\n"
    }
   }
  },
  {
   "cell_type": "code",
   "execution_count": 235,
   "outputs": [
    {
     "data": {
      "text/plain": "602.403"
     },
     "execution_count": 235,
     "metadata": {},
     "output_type": "execute_result"
    }
   ],
   "source": [
    "# Distance between countries via ship in [km]\n",
    "d_sea = float(tra_d[(tra_d['Origin_Country'] == 'Norway') & (tra_d['Destination_Country'] == 'Germany')]['sea distance (km)'].values)\n",
    "d_sea\n"
   ],
   "metadata": {
    "collapsed": false,
    "pycharm": {
     "name": "#%%\n"
    }
   }
  },
  {
   "cell_type": "code",
   "execution_count": 236,
   "outputs": [
    {
     "data": {
      "text/plain": "30.0"
     },
     "execution_count": 236,
     "metadata": {},
     "output_type": "execute_result"
    }
   ],
   "source": [
    "# Ship speed in [km/h]\n",
    "v_ship = float(tea_lnh3.loc['Shipping - Ship speed [km/h]']['NH3'])\n",
    "v_ship"
   ],
   "metadata": {
    "collapsed": false,
    "pycharm": {
     "name": "#%%\n"
    }
   }
  },
  {
   "cell_type": "code",
   "execution_count": 237,
   "outputs": [
    {
     "data": {
      "text/plain": "48.0"
     },
     "execution_count": 237,
     "metadata": {},
     "output_type": "execute_result"
    }
   ],
   "source": [
    "# Berthing time (time for unloading and loading in a harbour) in [h]\n",
    "h_ship = float(tea_lnh3.loc['Shipping - Berthing time [hours]']['NH3'])\n",
    "h_ship\n"
   ],
   "metadata": {
    "collapsed": false,
    "pycharm": {
     "name": "#%%\n"
    }
   }
  },
  {
   "cell_type": "code",
   "execution_count": 238,
   "outputs": [],
   "source": [
    "#Lower heating value of Nh3[ kWh / kg]\n",
    "NH3_lhv = float(tea_lnh3.loc['Properties - LHV [kWh/kg]']['NH3'])\n",
    "NH3_lhv\n",
    "#Lower heating value of H2 [kWh/kg]\n",
    "H2_lhv = 33.33"
   ],
   "metadata": {
    "collapsed": false,
    "pycharm": {
     "name": "#%%\n"
    }
   }
  },
  {
   "cell_type": "code",
   "execution_count": 239,
   "outputs": [
    {
     "data": {
      "text/plain": "0.0001615786578657866"
     },
     "execution_count": 239,
     "metadata": {},
     "output_type": "execute_result"
    }
   ],
   "source": [
    "# Boil-off when shipping in [%_NH3/day] to [%/hour]\n",
    "bog_ship = float(tea_lnh3.loc['Shipping - Boil off opt. [%/day]']['NH3'])/24 * (NH3_lhv/H2_lhv)\n",
    "bog_ship"
   ],
   "metadata": {
    "collapsed": false,
    "pycharm": {
     "name": "#%%\n"
    }
   }
  },
  {
   "cell_type": "code",
   "execution_count": 240,
   "outputs": [],
   "source": [
    "# Fuel consumption of a ship in [kg_NH3/t_NH3/km]\n",
    "#f_ship = float(tea_lnh3.loc['Shipping - Fuel use [kg NH3/t/km]']['NH3'])/1000 * (NH3_lhv/H2_lhv)\n"
   ],
   "metadata": {
    "collapsed": false,
    "pycharm": {
     "name": "#%%\n"
    }
   }
  },
  {
   "cell_type": "code",
   "execution_count": 241,
   "outputs": [
    {
     "data": {
      "text/plain": "0.025"
     },
     "execution_count": 241,
     "metadata": {},
     "output_type": "execute_result"
    }
   ],
   "source": [
    "opex_ship_share = (tea_lnh3.loc['Shipping - Annual OPEX [% of CAPEX]']['NH3'])\n",
    "opex_ship_share"
   ],
   "metadata": {
    "collapsed": false,
    "pycharm": {
     "name": "#%%\n"
    }
   }
  },
  {
   "cell_type": "markdown",
   "source": [],
   "metadata": {
    "collapsed": false,
    "pycharm": {
     "name": "#%% md\n"
    }
   }
  },
  {
   "cell_type": "code",
   "execution_count": 242,
   "outputs": [],
   "source": [
    "# Cost of transported hydrogen in [$/kg_h2] in year y"
   ],
   "metadata": {
    "collapsed": false,
    "pycharm": {
     "name": "#%%\n"
    }
   }
  },
  {
   "cell_type": "code",
   "execution_count": 243,
   "outputs": [],
   "source": [
    "# Cost of transported hydrogen carrier in [€/kg_h2] in year y\n",
    "H2_costs = (LCOH_min.loc[::]['Minimal_production_costs']).apply(pd.to_numeric)\n",
    "Con_costs = (LNH3_Conversion_costs.loc[::]['LNH3_Conversion_costs']).apply(pd.to_numeric)\n",
    "ET_costs = (LNH3_Export_terminal_costs.loc[::]['LNH3_Export_terminal_costs']).apply(pd.to_numeric)"
   ],
   "metadata": {
    "collapsed": false,
    "pycharm": {
     "name": "#%%\n"
    }
   }
  },
  {
   "cell_type": "code",
   "execution_count": 244,
   "outputs": [
    {
     "data": {
      "text/plain": "       LNH3_cargo_cost\nYears                 \n2025          2.776015\n2026          2.673976\n2027          2.472756\n2028          2.155194\n2029          2.181245\n2030          2.205942\n2031          2.215627\n2032          2.223847\n2033          2.230601\n2034          2.235884\n2035          2.239696\n2036          2.242033\n2037          2.242893\n2038          2.214079\n2039          2.169218\n2040          2.124376\n2041          2.084029\n2042          2.045014\n2043          2.006705\n2044          1.972292\n2045          1.909595\n2046          1.869396\n2047          1.830261\n2048          1.792093\n2049          1.754810\n2050          1.718340",
      "text/html": "<div>\n<style scoped>\n    .dataframe tbody tr th:only-of-type {\n        vertical-align: middle;\n    }\n\n    .dataframe tbody tr th {\n        vertical-align: top;\n    }\n\n    .dataframe thead th {\n        text-align: right;\n    }\n</style>\n<table border=\"1\" class=\"dataframe\">\n  <thead>\n    <tr style=\"text-align: right;\">\n      <th></th>\n      <th>LNH3_cargo_cost</th>\n    </tr>\n    <tr>\n      <th>Years</th>\n      <th></th>\n    </tr>\n  </thead>\n  <tbody>\n    <tr>\n      <th>2025</th>\n      <td>2.776015</td>\n    </tr>\n    <tr>\n      <th>2026</th>\n      <td>2.673976</td>\n    </tr>\n    <tr>\n      <th>2027</th>\n      <td>2.472756</td>\n    </tr>\n    <tr>\n      <th>2028</th>\n      <td>2.155194</td>\n    </tr>\n    <tr>\n      <th>2029</th>\n      <td>2.181245</td>\n    </tr>\n    <tr>\n      <th>2030</th>\n      <td>2.205942</td>\n    </tr>\n    <tr>\n      <th>2031</th>\n      <td>2.215627</td>\n    </tr>\n    <tr>\n      <th>2032</th>\n      <td>2.223847</td>\n    </tr>\n    <tr>\n      <th>2033</th>\n      <td>2.230601</td>\n    </tr>\n    <tr>\n      <th>2034</th>\n      <td>2.235884</td>\n    </tr>\n    <tr>\n      <th>2035</th>\n      <td>2.239696</td>\n    </tr>\n    <tr>\n      <th>2036</th>\n      <td>2.242033</td>\n    </tr>\n    <tr>\n      <th>2037</th>\n      <td>2.242893</td>\n    </tr>\n    <tr>\n      <th>2038</th>\n      <td>2.214079</td>\n    </tr>\n    <tr>\n      <th>2039</th>\n      <td>2.169218</td>\n    </tr>\n    <tr>\n      <th>2040</th>\n      <td>2.124376</td>\n    </tr>\n    <tr>\n      <th>2041</th>\n      <td>2.084029</td>\n    </tr>\n    <tr>\n      <th>2042</th>\n      <td>2.045014</td>\n    </tr>\n    <tr>\n      <th>2043</th>\n      <td>2.006705</td>\n    </tr>\n    <tr>\n      <th>2044</th>\n      <td>1.972292</td>\n    </tr>\n    <tr>\n      <th>2045</th>\n      <td>1.909595</td>\n    </tr>\n    <tr>\n      <th>2046</th>\n      <td>1.869396</td>\n    </tr>\n    <tr>\n      <th>2047</th>\n      <td>1.830261</td>\n    </tr>\n    <tr>\n      <th>2048</th>\n      <td>1.792093</td>\n    </tr>\n    <tr>\n      <th>2049</th>\n      <td>1.754810</td>\n    </tr>\n    <tr>\n      <th>2050</th>\n      <td>1.718340</td>\n    </tr>\n  </tbody>\n</table>\n</div>"
     },
     "execution_count": 244,
     "metadata": {},
     "output_type": "execute_result"
    }
   ],
   "source": [
    "# €/kg_H2 transported in the form of NH3\n",
    "LNH3_cargo_cost = (H2_costs + Con_costs + ET_costs).to_frame('LNH3_cargo_cost')\n",
    "LNH3_cargo_cost"
   ],
   "metadata": {
    "collapsed": false,
    "pycharm": {
     "name": "#%%\n"
    }
   }
  },
  {
   "cell_type": "markdown",
   "source": [],
   "metadata": {
    "collapsed": false,
    "pycharm": {
     "name": "#%% md\n"
    }
   }
  },
  {
   "cell_type": "code",
   "execution_count": 245,
   "outputs": [],
   "source": [
    "#d_sea = 10000"
   ],
   "metadata": {
    "collapsed": false,
    "pycharm": {
     "name": "#%%\n"
    }
   }
  },
  {
   "cell_type": "markdown",
   "source": [
    "Definition of the cost calculation function for the maritime shipping.\n",
    "Time relevant variables:\n",
    "capex [€/t/a]\n",
    "opex [€/t/a]\n",
    "lcoh in [€/kg_h2]\n",
    "static:\n",
    "alpha [%]\n",
    "d_sea [km]\n",
    "v_ship [km/h]\n",
    "h_ship [h] berthing time\n",
    "bog_ship [%_H2/day]\n",
    "f_ship [kg_H2/kg_NH3/km]] Fuel use\n"
   ],
   "metadata": {
    "collapsed": false,
    "pycharm": {
     "name": "#%% md\n"
    }
   }
  },
  {
   "cell_type": "code",
   "execution_count": 246,
   "outputs": [],
   "source": [
    "def calculate_ship_costs(alpha_ship, capex_ship_y, opex_ship_y, d_sea, v_ship, h_ship, bog_ship, f_ship, LNH3_costs_y):\n",
    "    result = (alpha_ship * capex_ship_y + opex_ship_y)/(8760/(2*(d_sea/v_ship + h_ship)))\\\n",
    "             /(1-(bog_ship * d_sea/v_ship) - (f_ship  * d_sea))\\\n",
    "             + (bog_ship * d_sea/v_ship + f_ship * d_sea) * LNH3_costs_y\n",
    "\n",
    "    return result"
   ],
   "metadata": {
    "collapsed": false,
    "pycharm": {
     "name": "#%%\n"
    }
   }
  },
  {
   "cell_type": "code",
   "execution_count": 247,
   "outputs": [
    {
     "data": {
      "text/plain": "      LNH3_Shipping_costs\nYears                    \n2025             0.014495\n2026             0.013897\n2027             0.012955\n2028             0.011607\n2029             0.011455\n2030             0.011299\n2031              0.01108\n2032             0.010856\n2033             0.010626\n2034             0.010392\n2035             0.010152\n2036             0.009907\n2037             0.009657\n2038             0.009305\n2039             0.008898\n2040             0.008491\n2041             0.008343\n2042             0.008199\n2043             0.008059\n2044             0.007932\n2045             0.007709\n2046             0.007563\n2047             0.007421\n2048             0.007282\n2049             0.007147\n2050             0.007016",
      "text/html": "<div>\n<style scoped>\n    .dataframe tbody tr th:only-of-type {\n        vertical-align: middle;\n    }\n\n    .dataframe tbody tr th {\n        vertical-align: top;\n    }\n\n    .dataframe thead th {\n        text-align: right;\n    }\n</style>\n<table border=\"1\" class=\"dataframe\">\n  <thead>\n    <tr style=\"text-align: right;\">\n      <th></th>\n      <th>LNH3_Shipping_costs</th>\n    </tr>\n    <tr>\n      <th>Years</th>\n      <th></th>\n    </tr>\n  </thead>\n  <tbody>\n    <tr>\n      <th>2025</th>\n      <td>0.014495</td>\n    </tr>\n    <tr>\n      <th>2026</th>\n      <td>0.013897</td>\n    </tr>\n    <tr>\n      <th>2027</th>\n      <td>0.012955</td>\n    </tr>\n    <tr>\n      <th>2028</th>\n      <td>0.011607</td>\n    </tr>\n    <tr>\n      <th>2029</th>\n      <td>0.011455</td>\n    </tr>\n    <tr>\n      <th>2030</th>\n      <td>0.011299</td>\n    </tr>\n    <tr>\n      <th>2031</th>\n      <td>0.01108</td>\n    </tr>\n    <tr>\n      <th>2032</th>\n      <td>0.010856</td>\n    </tr>\n    <tr>\n      <th>2033</th>\n      <td>0.010626</td>\n    </tr>\n    <tr>\n      <th>2034</th>\n      <td>0.010392</td>\n    </tr>\n    <tr>\n      <th>2035</th>\n      <td>0.010152</td>\n    </tr>\n    <tr>\n      <th>2036</th>\n      <td>0.009907</td>\n    </tr>\n    <tr>\n      <th>2037</th>\n      <td>0.009657</td>\n    </tr>\n    <tr>\n      <th>2038</th>\n      <td>0.009305</td>\n    </tr>\n    <tr>\n      <th>2039</th>\n      <td>0.008898</td>\n    </tr>\n    <tr>\n      <th>2040</th>\n      <td>0.008491</td>\n    </tr>\n    <tr>\n      <th>2041</th>\n      <td>0.008343</td>\n    </tr>\n    <tr>\n      <th>2042</th>\n      <td>0.008199</td>\n    </tr>\n    <tr>\n      <th>2043</th>\n      <td>0.008059</td>\n    </tr>\n    <tr>\n      <th>2044</th>\n      <td>0.007932</td>\n    </tr>\n    <tr>\n      <th>2045</th>\n      <td>0.007709</td>\n    </tr>\n    <tr>\n      <th>2046</th>\n      <td>0.007563</td>\n    </tr>\n    <tr>\n      <th>2047</th>\n      <td>0.007421</td>\n    </tr>\n    <tr>\n      <th>2048</th>\n      <td>0.007282</td>\n    </tr>\n    <tr>\n      <th>2049</th>\n      <td>0.007147</td>\n    </tr>\n    <tr>\n      <th>2050</th>\n      <td>0.007016</td>\n    </tr>\n  </tbody>\n</table>\n</div>"
     },
     "execution_count": 247,
     "metadata": {},
     "output_type": "execute_result"
    }
   ],
   "source": [
    "# Calculation of shipping costs [€/kg_h2] from 2030 to 2050.\n",
    "years = np.arange(2025, 2051)\n",
    "result = pd.DataFrame(index=years, columns=['LNH3_Shipping_costs'])\n",
    "result.index.name = 'Years'\n",
    "\n",
    "for year in years:\n",
    "    # get capex, opex, xx\n",
    "    capex_ship_y = float(tea_lnh3.loc['Shipping - Capex/Ship opt. [€/t/a]'][year])/1000\n",
    "    opex_ship_y = capex_ship_y * opex_ship_share\n",
    "    f_ship = float(tea_lnh3.loc['Shipping - Fuel use [kg NH3/t/km]'][year])/1000 * (NH3_lhv/H2_lhv)\n",
    "    LNH3_costs_y = float(LNH3_cargo_cost.loc[year])\n",
    "\n",
    "    # calculate costs of specific year\n",
    "    result.LNH3_Shipping_costs.loc[year] = calculate_ship_costs(alpha_ship=alpha_ship, capex_ship_y=capex_ship_y, opex_ship_y=opex_ship_y, d_sea=d_sea, v_ship=v_ship, h_ship=h_ship, bog_ship=bog_ship, f_ship=f_ship, LNH3_costs_y=LNH3_costs_y)\n",
    "\n",
    "result"
   ],
   "metadata": {
    "collapsed": false,
    "pycharm": {
     "name": "#%%\n"
    }
   }
  },
  {
   "cell_type": "code",
   "execution_count": 248,
   "outputs": [],
   "source": [
    "LNH3_Shipping_costs = result"
   ],
   "metadata": {
    "collapsed": false,
    "pycharm": {
     "name": "#%%\n"
    }
   }
  },
  {
   "cell_type": "code",
   "execution_count": 249,
   "outputs": [
    {
     "ename": "PermissionError",
     "evalue": "[Errno 13] Permission denied: '/Users/jakob/PycharmProjects/H2_pathways_repo/data/raw/H2_supply_route_assessment.xlsx'",
     "output_type": "error",
     "traceback": [
      "\u001B[1;31m---------------------------------------------------------------------------\u001B[0m",
      "\u001B[1;31mPermissionError\u001B[0m                           Traceback (most recent call last)",
      "Cell \u001B[1;32mIn [249], line 3\u001B[0m\n\u001B[0;32m      1\u001B[0m \u001B[38;5;66;03m# export result to excel\u001B[39;00m\n\u001B[0;32m      2\u001B[0m path \u001B[38;5;241m=\u001B[39m \u001B[38;5;124m'\u001B[39m\u001B[38;5;124m/Users/jakob/PycharmProjects/H2_pathways_repo/data/raw/H2_supply_route_assessment.xlsx\u001B[39m\u001B[38;5;124m'\u001B[39m\n\u001B[1;32m----> 3\u001B[0m writer \u001B[38;5;241m=\u001B[39m \u001B[43mpd\u001B[49m\u001B[38;5;241;43m.\u001B[39;49m\u001B[43mExcelWriter\u001B[49m\u001B[43m(\u001B[49m\u001B[43mpath\u001B[49m\u001B[43m,\u001B[49m\u001B[43m \u001B[49m\u001B[43mengine\u001B[49m\u001B[38;5;241;43m=\u001B[39;49m\u001B[38;5;124;43m'\u001B[39;49m\u001B[38;5;124;43mopenpyxl\u001B[39;49m\u001B[38;5;124;43m'\u001B[39;49m\u001B[43m,\u001B[49m\u001B[43m \u001B[49m\u001B[43mmode\u001B[49m\u001B[38;5;241;43m=\u001B[39;49m\u001B[38;5;124;43m'\u001B[39;49m\u001B[38;5;124;43ma\u001B[39;49m\u001B[38;5;124;43m'\u001B[39;49m\u001B[43m,\u001B[49m\u001B[43m \u001B[49m\u001B[43mif_sheet_exists\u001B[49m\u001B[38;5;241;43m=\u001B[39;49m\u001B[38;5;124;43m'\u001B[39;49m\u001B[38;5;124;43moverlay\u001B[39;49m\u001B[38;5;124;43m'\u001B[39;49m\u001B[43m)\u001B[49m\n\u001B[0;32m      4\u001B[0m book \u001B[38;5;241m=\u001B[39m load_workbook(path)\n\u001B[0;32m      5\u001B[0m writer\u001B[38;5;241m.\u001B[39mbook \u001B[38;5;241m=\u001B[39m book\n",
      "File \u001B[1;32m~\\Miniconda3\\envs\\Desktop\\lib\\site-packages\\pandas\\io\\excel\\_openpyxl.py:60\u001B[0m, in \u001B[0;36mOpenpyxlWriter.__init__\u001B[1;34m(self, path, engine, date_format, datetime_format, mode, storage_options, if_sheet_exists, engine_kwargs, **kwargs)\u001B[0m\n\u001B[0;32m     56\u001B[0m \u001B[38;5;28;01mfrom\u001B[39;00m \u001B[38;5;21;01mopenpyxl\u001B[39;00m\u001B[38;5;21;01m.\u001B[39;00m\u001B[38;5;21;01mworkbook\u001B[39;00m \u001B[38;5;28;01mimport\u001B[39;00m Workbook\n\u001B[0;32m     58\u001B[0m engine_kwargs \u001B[38;5;241m=\u001B[39m combine_kwargs(engine_kwargs, kwargs)\n\u001B[1;32m---> 60\u001B[0m \u001B[38;5;28;43msuper\u001B[39;49m\u001B[43m(\u001B[49m\u001B[43m)\u001B[49m\u001B[38;5;241;43m.\u001B[39;49m\u001B[38;5;21;43m__init__\u001B[39;49m\u001B[43m(\u001B[49m\n\u001B[0;32m     61\u001B[0m \u001B[43m    \u001B[49m\u001B[43mpath\u001B[49m\u001B[43m,\u001B[49m\n\u001B[0;32m     62\u001B[0m \u001B[43m    \u001B[49m\u001B[43mmode\u001B[49m\u001B[38;5;241;43m=\u001B[39;49m\u001B[43mmode\u001B[49m\u001B[43m,\u001B[49m\n\u001B[0;32m     63\u001B[0m \u001B[43m    \u001B[49m\u001B[43mstorage_options\u001B[49m\u001B[38;5;241;43m=\u001B[39;49m\u001B[43mstorage_options\u001B[49m\u001B[43m,\u001B[49m\n\u001B[0;32m     64\u001B[0m \u001B[43m    \u001B[49m\u001B[43mif_sheet_exists\u001B[49m\u001B[38;5;241;43m=\u001B[39;49m\u001B[43mif_sheet_exists\u001B[49m\u001B[43m,\u001B[49m\n\u001B[0;32m     65\u001B[0m \u001B[43m    \u001B[49m\u001B[43mengine_kwargs\u001B[49m\u001B[38;5;241;43m=\u001B[39;49m\u001B[43mengine_kwargs\u001B[49m\u001B[43m,\u001B[49m\n\u001B[0;32m     66\u001B[0m \u001B[43m\u001B[49m\u001B[43m)\u001B[49m\n\u001B[0;32m     68\u001B[0m \u001B[38;5;66;03m# ExcelWriter replaced \"a\" by \"r+\" to allow us to first read the excel file from\u001B[39;00m\n\u001B[0;32m     69\u001B[0m \u001B[38;5;66;03m# the file and later write to it\u001B[39;00m\n\u001B[0;32m     70\u001B[0m \u001B[38;5;28;01mif\u001B[39;00m \u001B[38;5;124m\"\u001B[39m\u001B[38;5;124mr+\u001B[39m\u001B[38;5;124m\"\u001B[39m \u001B[38;5;129;01min\u001B[39;00m \u001B[38;5;28mself\u001B[39m\u001B[38;5;241m.\u001B[39m_mode:  \u001B[38;5;66;03m# Load from existing workbook\u001B[39;00m\n",
      "File \u001B[1;32m~\\Miniconda3\\envs\\Desktop\\lib\\site-packages\\pandas\\io\\excel\\_base.py:1313\u001B[0m, in \u001B[0;36mExcelWriter.__init__\u001B[1;34m(self, path, engine, date_format, datetime_format, mode, storage_options, if_sheet_exists, engine_kwargs, **kwargs)\u001B[0m\n\u001B[0;32m   1309\u001B[0m \u001B[38;5;28mself\u001B[39m\u001B[38;5;241m.\u001B[39m_handles \u001B[38;5;241m=\u001B[39m IOHandles(\n\u001B[0;32m   1310\u001B[0m     cast(IO[\u001B[38;5;28mbytes\u001B[39m], path), compression\u001B[38;5;241m=\u001B[39m{\u001B[38;5;124m\"\u001B[39m\u001B[38;5;124mcompression\u001B[39m\u001B[38;5;124m\"\u001B[39m: \u001B[38;5;28;01mNone\u001B[39;00m}\n\u001B[0;32m   1311\u001B[0m )\n\u001B[0;32m   1312\u001B[0m \u001B[38;5;28;01mif\u001B[39;00m \u001B[38;5;129;01mnot\u001B[39;00m \u001B[38;5;28misinstance\u001B[39m(path, ExcelWriter):\n\u001B[1;32m-> 1313\u001B[0m     \u001B[38;5;28mself\u001B[39m\u001B[38;5;241m.\u001B[39m_handles \u001B[38;5;241m=\u001B[39m \u001B[43mget_handle\u001B[49m\u001B[43m(\u001B[49m\n\u001B[0;32m   1314\u001B[0m \u001B[43m        \u001B[49m\u001B[43mpath\u001B[49m\u001B[43m,\u001B[49m\u001B[43m \u001B[49m\u001B[43mmode\u001B[49m\u001B[43m,\u001B[49m\u001B[43m \u001B[49m\u001B[43mstorage_options\u001B[49m\u001B[38;5;241;43m=\u001B[39;49m\u001B[43mstorage_options\u001B[49m\u001B[43m,\u001B[49m\u001B[43m \u001B[49m\u001B[43mis_text\u001B[49m\u001B[38;5;241;43m=\u001B[39;49m\u001B[38;5;28;43;01mFalse\u001B[39;49;00m\n\u001B[0;32m   1315\u001B[0m \u001B[43m    \u001B[49m\u001B[43m)\u001B[49m\n\u001B[0;32m   1316\u001B[0m \u001B[38;5;28mself\u001B[39m\u001B[38;5;241m.\u001B[39m_cur_sheet \u001B[38;5;241m=\u001B[39m \u001B[38;5;28;01mNone\u001B[39;00m\n\u001B[0;32m   1318\u001B[0m \u001B[38;5;28;01mif\u001B[39;00m date_format \u001B[38;5;129;01mis\u001B[39;00m \u001B[38;5;28;01mNone\u001B[39;00m:\n",
      "File \u001B[1;32m~\\Miniconda3\\envs\\Desktop\\lib\\site-packages\\pandas\\io\\common.py:865\u001B[0m, in \u001B[0;36mget_handle\u001B[1;34m(path_or_buf, mode, encoding, compression, memory_map, is_text, errors, storage_options)\u001B[0m\n\u001B[0;32m    856\u001B[0m         handle \u001B[38;5;241m=\u001B[39m \u001B[38;5;28mopen\u001B[39m(\n\u001B[0;32m    857\u001B[0m             handle,\n\u001B[0;32m    858\u001B[0m             ioargs\u001B[38;5;241m.\u001B[39mmode,\n\u001B[1;32m   (...)\u001B[0m\n\u001B[0;32m    861\u001B[0m             newline\u001B[38;5;241m=\u001B[39m\u001B[38;5;124m\"\u001B[39m\u001B[38;5;124m\"\u001B[39m,\n\u001B[0;32m    862\u001B[0m         )\n\u001B[0;32m    863\u001B[0m     \u001B[38;5;28;01melse\u001B[39;00m:\n\u001B[0;32m    864\u001B[0m         \u001B[38;5;66;03m# Binary mode\u001B[39;00m\n\u001B[1;32m--> 865\u001B[0m         handle \u001B[38;5;241m=\u001B[39m \u001B[38;5;28;43mopen\u001B[39;49m\u001B[43m(\u001B[49m\u001B[43mhandle\u001B[49m\u001B[43m,\u001B[49m\u001B[43m \u001B[49m\u001B[43mioargs\u001B[49m\u001B[38;5;241;43m.\u001B[39;49m\u001B[43mmode\u001B[49m\u001B[43m)\u001B[49m\n\u001B[0;32m    866\u001B[0m     handles\u001B[38;5;241m.\u001B[39mappend(handle)\n\u001B[0;32m    868\u001B[0m \u001B[38;5;66;03m# Convert BytesIO or file objects passed with an encoding\u001B[39;00m\n",
      "\u001B[1;31mPermissionError\u001B[0m: [Errno 13] Permission denied: '/Users/jakob/PycharmProjects/H2_pathways_repo/data/raw/H2_supply_route_assessment.xlsx'"
     ]
    }
   ],
   "source": [
    "# export result to excel\n",
    "path = '/Users/jakob/PycharmProjects/H2_pathways_repo/data/raw/H2_supply_route_assessment.xlsx'\n",
    "writer = pd.ExcelWriter(path, engine='openpyxl', mode='a', if_sheet_exists='overlay')\n",
    "book = load_workbook(path)\n",
    "writer.book = book\n",
    "writer.sheets = dict((ws.title, ws) for ws in book.worksheets)\n",
    "\n",
    "ws = book['Reference Results']\n",
    "\n",
    "result.to_excel(writer, sheet_name='Reference Results', index=False, startcol=ws.max_column)\n",
    "book.save(path)\n",
    "book.close()"
   ],
   "metadata": {
    "collapsed": false,
    "pycharm": {
     "name": "#%%\n"
    }
   }
  },
  {
   "cell_type": "code",
   "execution_count": 250,
   "outputs": [
    {
     "ename": "OSError",
     "evalue": "Cannot save file into a non-existent directory: '\\Users\\jakob\\PycharmProjects\\H2_pathways_repo\\data\\processed'",
     "output_type": "error",
     "traceback": [
      "\u001B[1;31m---------------------------------------------------------------------------\u001B[0m",
      "\u001B[1;31mOSError\u001B[0m                                   Traceback (most recent call last)",
      "Cell \u001B[1;32mIn [250], line 4\u001B[0m\n\u001B[0;32m      2\u001B[0m path_csv\u001B[38;5;241m=\u001B[39m \u001B[38;5;124mr\u001B[39m\u001B[38;5;124m'\u001B[39m\u001B[38;5;124m/Users/jakob/PycharmProjects/H2_pathways_repo/data/processed\u001B[39m\u001B[38;5;124m'\u001B[39m\n\u001B[0;32m      3\u001B[0m output_file \u001B[38;5;241m=\u001B[39m os\u001B[38;5;241m.\u001B[39mpath\u001B[38;5;241m.\u001B[39mjoin(path_csv, \u001B[38;5;124m'\u001B[39m\u001B[38;5;124mLNH3_Shipping_costs.csv\u001B[39m\u001B[38;5;124m'\u001B[39m)\n\u001B[1;32m----> 4\u001B[0m \u001B[43mresult\u001B[49m\u001B[38;5;241;43m.\u001B[39;49m\u001B[43mto_csv\u001B[49m\u001B[43m(\u001B[49m\u001B[43moutput_file\u001B[49m\u001B[43m,\u001B[49m\u001B[43m \u001B[49m\u001B[43msep\u001B[49m\u001B[38;5;241;43m=\u001B[39;49m\u001B[38;5;124;43m'\u001B[39;49m\u001B[38;5;124;43m;\u001B[39;49m\u001B[38;5;124;43m'\u001B[39;49m\u001B[43m)\u001B[49m\n",
      "File \u001B[1;32m~\\Miniconda3\\envs\\Desktop\\lib\\site-packages\\pandas\\util\\_decorators.py:211\u001B[0m, in \u001B[0;36mdeprecate_kwarg.<locals>._deprecate_kwarg.<locals>.wrapper\u001B[1;34m(*args, **kwargs)\u001B[0m\n\u001B[0;32m    209\u001B[0m     \u001B[38;5;28;01melse\u001B[39;00m:\n\u001B[0;32m    210\u001B[0m         kwargs[new_arg_name] \u001B[38;5;241m=\u001B[39m new_arg_value\n\u001B[1;32m--> 211\u001B[0m \u001B[38;5;28;01mreturn\u001B[39;00m func(\u001B[38;5;241m*\u001B[39margs, \u001B[38;5;241m*\u001B[39m\u001B[38;5;241m*\u001B[39mkwargs)\n",
      "File \u001B[1;32m~\\Miniconda3\\envs\\Desktop\\lib\\site-packages\\pandas\\core\\generic.py:3720\u001B[0m, in \u001B[0;36mNDFrame.to_csv\u001B[1;34m(self, path_or_buf, sep, na_rep, float_format, columns, header, index, index_label, mode, encoding, compression, quoting, quotechar, lineterminator, chunksize, date_format, doublequote, escapechar, decimal, errors, storage_options)\u001B[0m\n\u001B[0;32m   3709\u001B[0m df \u001B[38;5;241m=\u001B[39m \u001B[38;5;28mself\u001B[39m \u001B[38;5;28;01mif\u001B[39;00m \u001B[38;5;28misinstance\u001B[39m(\u001B[38;5;28mself\u001B[39m, ABCDataFrame) \u001B[38;5;28;01melse\u001B[39;00m \u001B[38;5;28mself\u001B[39m\u001B[38;5;241m.\u001B[39mto_frame()\n\u001B[0;32m   3711\u001B[0m formatter \u001B[38;5;241m=\u001B[39m DataFrameFormatter(\n\u001B[0;32m   3712\u001B[0m     frame\u001B[38;5;241m=\u001B[39mdf,\n\u001B[0;32m   3713\u001B[0m     header\u001B[38;5;241m=\u001B[39mheader,\n\u001B[1;32m   (...)\u001B[0m\n\u001B[0;32m   3717\u001B[0m     decimal\u001B[38;5;241m=\u001B[39mdecimal,\n\u001B[0;32m   3718\u001B[0m )\n\u001B[1;32m-> 3720\u001B[0m \u001B[38;5;28;01mreturn\u001B[39;00m \u001B[43mDataFrameRenderer\u001B[49m\u001B[43m(\u001B[49m\u001B[43mformatter\u001B[49m\u001B[43m)\u001B[49m\u001B[38;5;241;43m.\u001B[39;49m\u001B[43mto_csv\u001B[49m\u001B[43m(\u001B[49m\n\u001B[0;32m   3721\u001B[0m \u001B[43m    \u001B[49m\u001B[43mpath_or_buf\u001B[49m\u001B[43m,\u001B[49m\n\u001B[0;32m   3722\u001B[0m \u001B[43m    \u001B[49m\u001B[43mlineterminator\u001B[49m\u001B[38;5;241;43m=\u001B[39;49m\u001B[43mlineterminator\u001B[49m\u001B[43m,\u001B[49m\n\u001B[0;32m   3723\u001B[0m \u001B[43m    \u001B[49m\u001B[43msep\u001B[49m\u001B[38;5;241;43m=\u001B[39;49m\u001B[43msep\u001B[49m\u001B[43m,\u001B[49m\n\u001B[0;32m   3724\u001B[0m \u001B[43m    \u001B[49m\u001B[43mencoding\u001B[49m\u001B[38;5;241;43m=\u001B[39;49m\u001B[43mencoding\u001B[49m\u001B[43m,\u001B[49m\n\u001B[0;32m   3725\u001B[0m \u001B[43m    \u001B[49m\u001B[43merrors\u001B[49m\u001B[38;5;241;43m=\u001B[39;49m\u001B[43merrors\u001B[49m\u001B[43m,\u001B[49m\n\u001B[0;32m   3726\u001B[0m \u001B[43m    \u001B[49m\u001B[43mcompression\u001B[49m\u001B[38;5;241;43m=\u001B[39;49m\u001B[43mcompression\u001B[49m\u001B[43m,\u001B[49m\n\u001B[0;32m   3727\u001B[0m \u001B[43m    \u001B[49m\u001B[43mquoting\u001B[49m\u001B[38;5;241;43m=\u001B[39;49m\u001B[43mquoting\u001B[49m\u001B[43m,\u001B[49m\n\u001B[0;32m   3728\u001B[0m \u001B[43m    \u001B[49m\u001B[43mcolumns\u001B[49m\u001B[38;5;241;43m=\u001B[39;49m\u001B[43mcolumns\u001B[49m\u001B[43m,\u001B[49m\n\u001B[0;32m   3729\u001B[0m \u001B[43m    \u001B[49m\u001B[43mindex_label\u001B[49m\u001B[38;5;241;43m=\u001B[39;49m\u001B[43mindex_label\u001B[49m\u001B[43m,\u001B[49m\n\u001B[0;32m   3730\u001B[0m \u001B[43m    \u001B[49m\u001B[43mmode\u001B[49m\u001B[38;5;241;43m=\u001B[39;49m\u001B[43mmode\u001B[49m\u001B[43m,\u001B[49m\n\u001B[0;32m   3731\u001B[0m \u001B[43m    \u001B[49m\u001B[43mchunksize\u001B[49m\u001B[38;5;241;43m=\u001B[39;49m\u001B[43mchunksize\u001B[49m\u001B[43m,\u001B[49m\n\u001B[0;32m   3732\u001B[0m \u001B[43m    \u001B[49m\u001B[43mquotechar\u001B[49m\u001B[38;5;241;43m=\u001B[39;49m\u001B[43mquotechar\u001B[49m\u001B[43m,\u001B[49m\n\u001B[0;32m   3733\u001B[0m \u001B[43m    \u001B[49m\u001B[43mdate_format\u001B[49m\u001B[38;5;241;43m=\u001B[39;49m\u001B[43mdate_format\u001B[49m\u001B[43m,\u001B[49m\n\u001B[0;32m   3734\u001B[0m \u001B[43m    \u001B[49m\u001B[43mdoublequote\u001B[49m\u001B[38;5;241;43m=\u001B[39;49m\u001B[43mdoublequote\u001B[49m\u001B[43m,\u001B[49m\n\u001B[0;32m   3735\u001B[0m \u001B[43m    \u001B[49m\u001B[43mescapechar\u001B[49m\u001B[38;5;241;43m=\u001B[39;49m\u001B[43mescapechar\u001B[49m\u001B[43m,\u001B[49m\n\u001B[0;32m   3736\u001B[0m \u001B[43m    \u001B[49m\u001B[43mstorage_options\u001B[49m\u001B[38;5;241;43m=\u001B[39;49m\u001B[43mstorage_options\u001B[49m\u001B[43m,\u001B[49m\n\u001B[0;32m   3737\u001B[0m \u001B[43m\u001B[49m\u001B[43m)\u001B[49m\n",
      "File \u001B[1;32m~\\Miniconda3\\envs\\Desktop\\lib\\site-packages\\pandas\\util\\_decorators.py:211\u001B[0m, in \u001B[0;36mdeprecate_kwarg.<locals>._deprecate_kwarg.<locals>.wrapper\u001B[1;34m(*args, **kwargs)\u001B[0m\n\u001B[0;32m    209\u001B[0m     \u001B[38;5;28;01melse\u001B[39;00m:\n\u001B[0;32m    210\u001B[0m         kwargs[new_arg_name] \u001B[38;5;241m=\u001B[39m new_arg_value\n\u001B[1;32m--> 211\u001B[0m \u001B[38;5;28;01mreturn\u001B[39;00m func(\u001B[38;5;241m*\u001B[39margs, \u001B[38;5;241m*\u001B[39m\u001B[38;5;241m*\u001B[39mkwargs)\n",
      "File \u001B[1;32m~\\Miniconda3\\envs\\Desktop\\lib\\site-packages\\pandas\\io\\formats\\format.py:1189\u001B[0m, in \u001B[0;36mDataFrameRenderer.to_csv\u001B[1;34m(self, path_or_buf, encoding, sep, columns, index_label, mode, compression, quoting, quotechar, lineterminator, chunksize, date_format, doublequote, escapechar, errors, storage_options)\u001B[0m\n\u001B[0;32m   1168\u001B[0m     created_buffer \u001B[38;5;241m=\u001B[39m \u001B[38;5;28;01mFalse\u001B[39;00m\n\u001B[0;32m   1170\u001B[0m csv_formatter \u001B[38;5;241m=\u001B[39m CSVFormatter(\n\u001B[0;32m   1171\u001B[0m     path_or_buf\u001B[38;5;241m=\u001B[39mpath_or_buf,\n\u001B[0;32m   1172\u001B[0m     lineterminator\u001B[38;5;241m=\u001B[39mlineterminator,\n\u001B[1;32m   (...)\u001B[0m\n\u001B[0;32m   1187\u001B[0m     formatter\u001B[38;5;241m=\u001B[39m\u001B[38;5;28mself\u001B[39m\u001B[38;5;241m.\u001B[39mfmt,\n\u001B[0;32m   1188\u001B[0m )\n\u001B[1;32m-> 1189\u001B[0m \u001B[43mcsv_formatter\u001B[49m\u001B[38;5;241;43m.\u001B[39;49m\u001B[43msave\u001B[49m\u001B[43m(\u001B[49m\u001B[43m)\u001B[49m\n\u001B[0;32m   1191\u001B[0m \u001B[38;5;28;01mif\u001B[39;00m created_buffer:\n\u001B[0;32m   1192\u001B[0m     \u001B[38;5;28;01massert\u001B[39;00m \u001B[38;5;28misinstance\u001B[39m(path_or_buf, StringIO)\n",
      "File \u001B[1;32m~\\Miniconda3\\envs\\Desktop\\lib\\site-packages\\pandas\\io\\formats\\csvs.py:241\u001B[0m, in \u001B[0;36mCSVFormatter.save\u001B[1;34m(self)\u001B[0m\n\u001B[0;32m    237\u001B[0m \u001B[38;5;124;03m\"\"\"\u001B[39;00m\n\u001B[0;32m    238\u001B[0m \u001B[38;5;124;03mCreate the writer & save.\u001B[39;00m\n\u001B[0;32m    239\u001B[0m \u001B[38;5;124;03m\"\"\"\u001B[39;00m\n\u001B[0;32m    240\u001B[0m \u001B[38;5;66;03m# apply compression and byte/text conversion\u001B[39;00m\n\u001B[1;32m--> 241\u001B[0m \u001B[38;5;28;01mwith\u001B[39;00m \u001B[43mget_handle\u001B[49m\u001B[43m(\u001B[49m\n\u001B[0;32m    242\u001B[0m \u001B[43m    \u001B[49m\u001B[38;5;28;43mself\u001B[39;49m\u001B[38;5;241;43m.\u001B[39;49m\u001B[43mfilepath_or_buffer\u001B[49m\u001B[43m,\u001B[49m\n\u001B[0;32m    243\u001B[0m \u001B[43m    \u001B[49m\u001B[38;5;28;43mself\u001B[39;49m\u001B[38;5;241;43m.\u001B[39;49m\u001B[43mmode\u001B[49m\u001B[43m,\u001B[49m\n\u001B[0;32m    244\u001B[0m \u001B[43m    \u001B[49m\u001B[43mencoding\u001B[49m\u001B[38;5;241;43m=\u001B[39;49m\u001B[38;5;28;43mself\u001B[39;49m\u001B[38;5;241;43m.\u001B[39;49m\u001B[43mencoding\u001B[49m\u001B[43m,\u001B[49m\n\u001B[0;32m    245\u001B[0m \u001B[43m    \u001B[49m\u001B[43merrors\u001B[49m\u001B[38;5;241;43m=\u001B[39;49m\u001B[38;5;28;43mself\u001B[39;49m\u001B[38;5;241;43m.\u001B[39;49m\u001B[43merrors\u001B[49m\u001B[43m,\u001B[49m\n\u001B[0;32m    246\u001B[0m \u001B[43m    \u001B[49m\u001B[43mcompression\u001B[49m\u001B[38;5;241;43m=\u001B[39;49m\u001B[38;5;28;43mself\u001B[39;49m\u001B[38;5;241;43m.\u001B[39;49m\u001B[43mcompression\u001B[49m\u001B[43m,\u001B[49m\n\u001B[0;32m    247\u001B[0m \u001B[43m    \u001B[49m\u001B[43mstorage_options\u001B[49m\u001B[38;5;241;43m=\u001B[39;49m\u001B[38;5;28;43mself\u001B[39;49m\u001B[38;5;241;43m.\u001B[39;49m\u001B[43mstorage_options\u001B[49m\u001B[43m,\u001B[49m\n\u001B[0;32m    248\u001B[0m \u001B[43m\u001B[49m\u001B[43m)\u001B[49m \u001B[38;5;28;01mas\u001B[39;00m handles:\n\u001B[0;32m    249\u001B[0m \n\u001B[0;32m    250\u001B[0m     \u001B[38;5;66;03m# Note: self.encoding is irrelevant here\u001B[39;00m\n\u001B[0;32m    251\u001B[0m     \u001B[38;5;28mself\u001B[39m\u001B[38;5;241m.\u001B[39mwriter \u001B[38;5;241m=\u001B[39m csvlib\u001B[38;5;241m.\u001B[39mwriter(\n\u001B[0;32m    252\u001B[0m         handles\u001B[38;5;241m.\u001B[39mhandle,\n\u001B[0;32m    253\u001B[0m         lineterminator\u001B[38;5;241m=\u001B[39m\u001B[38;5;28mself\u001B[39m\u001B[38;5;241m.\u001B[39mlineterminator,\n\u001B[1;32m   (...)\u001B[0m\n\u001B[0;32m    258\u001B[0m         quotechar\u001B[38;5;241m=\u001B[39m\u001B[38;5;28mself\u001B[39m\u001B[38;5;241m.\u001B[39mquotechar,\n\u001B[0;32m    259\u001B[0m     )\n\u001B[0;32m    261\u001B[0m     \u001B[38;5;28mself\u001B[39m\u001B[38;5;241m.\u001B[39m_save()\n",
      "File \u001B[1;32m~\\Miniconda3\\envs\\Desktop\\lib\\site-packages\\pandas\\io\\common.py:734\u001B[0m, in \u001B[0;36mget_handle\u001B[1;34m(path_or_buf, mode, encoding, compression, memory_map, is_text, errors, storage_options)\u001B[0m\n\u001B[0;32m    732\u001B[0m \u001B[38;5;66;03m# Only for write methods\u001B[39;00m\n\u001B[0;32m    733\u001B[0m \u001B[38;5;28;01mif\u001B[39;00m \u001B[38;5;124m\"\u001B[39m\u001B[38;5;124mr\u001B[39m\u001B[38;5;124m\"\u001B[39m \u001B[38;5;129;01mnot\u001B[39;00m \u001B[38;5;129;01min\u001B[39;00m mode \u001B[38;5;129;01mand\u001B[39;00m is_path:\n\u001B[1;32m--> 734\u001B[0m     \u001B[43mcheck_parent_directory\u001B[49m\u001B[43m(\u001B[49m\u001B[38;5;28;43mstr\u001B[39;49m\u001B[43m(\u001B[49m\u001B[43mhandle\u001B[49m\u001B[43m)\u001B[49m\u001B[43m)\u001B[49m\n\u001B[0;32m    736\u001B[0m \u001B[38;5;28;01mif\u001B[39;00m compression:\n\u001B[0;32m    737\u001B[0m     \u001B[38;5;28;01mif\u001B[39;00m compression \u001B[38;5;241m!=\u001B[39m \u001B[38;5;124m\"\u001B[39m\u001B[38;5;124mzstd\u001B[39m\u001B[38;5;124m\"\u001B[39m:\n\u001B[0;32m    738\u001B[0m         \u001B[38;5;66;03m# compression libraries do not like an explicit text-mode\u001B[39;00m\n",
      "File \u001B[1;32m~\\Miniconda3\\envs\\Desktop\\lib\\site-packages\\pandas\\io\\common.py:597\u001B[0m, in \u001B[0;36mcheck_parent_directory\u001B[1;34m(path)\u001B[0m\n\u001B[0;32m    595\u001B[0m parent \u001B[38;5;241m=\u001B[39m Path(path)\u001B[38;5;241m.\u001B[39mparent\n\u001B[0;32m    596\u001B[0m \u001B[38;5;28;01mif\u001B[39;00m \u001B[38;5;129;01mnot\u001B[39;00m parent\u001B[38;5;241m.\u001B[39mis_dir():\n\u001B[1;32m--> 597\u001B[0m     \u001B[38;5;28;01mraise\u001B[39;00m \u001B[38;5;167;01mOSError\u001B[39;00m(\u001B[38;5;124mrf\u001B[39m\u001B[38;5;124m\"\u001B[39m\u001B[38;5;124mCannot save file into a non-existent directory: \u001B[39m\u001B[38;5;124m'\u001B[39m\u001B[38;5;132;01m{\u001B[39;00mparent\u001B[38;5;132;01m}\u001B[39;00m\u001B[38;5;124m'\u001B[39m\u001B[38;5;124m\"\u001B[39m)\n",
      "\u001B[1;31mOSError\u001B[0m: Cannot save file into a non-existent directory: '\\Users\\jakob\\PycharmProjects\\H2_pathways_repo\\data\\processed'"
     ]
    }
   ],
   "source": [
    "# Create csv file from results dataframe\n",
    "path_csv= r'/Users/jakob/PycharmProjects/H2_pathways_repo/data/processed'\n",
    "output_file = os.path.join(path_csv, 'LNH3_Shipping_costs.csv')\n",
    "result.to_csv(output_file, sep=';')"
   ],
   "metadata": {
    "collapsed": false,
    "pycharm": {
     "name": "#%%\n"
    }
   }
  },
  {
   "cell_type": "markdown",
   "source": [
    "Plot shipping costs"
   ],
   "metadata": {
    "collapsed": false,
    "pycharm": {
     "name": "#%% md\n"
    }
   }
  },
  {
   "cell_type": "code",
   "execution_count": 251,
   "outputs": [
    {
     "data": {
      "text/plain": "<Figure size 1000x600 with 1 Axes>",
      "image/png": "[encoded data removed]"
     },
     "metadata": {},
     "output_type": "display_data"
    }
   ],
   "source": [
    "# Plot cost curve of hydrogen production from NGR with CCS\n",
    "fig, ax = plt.subplots(figsize=(10,6))\n",
    "plt.plot(result, color = 'green', linestyle = 'solid')\n",
    "plt.grid(True, axis = 'y')\n",
    "ax.set_axisbelow(True)\n",
    "plt.title('Shipping costs over time in €/kg H2', fontweight='bold')\n",
    "plt.xlabel('Year')\n",
    "plt.ylabel('Cost')\n",
    "plt.show()"
   ],
   "metadata": {
    "collapsed": false,
    "pycharm": {
     "name": "#%%\n"
    }
   }
  },
  {
   "cell_type": "markdown",
   "source": [
    "## Import terminal"
   ],
   "metadata": {
    "collapsed": false,
    "pycharm": {
     "name": "#%% md\n"
    }
   }
  },
  {
   "cell_type": "code",
   "execution_count": 252,
   "outputs": [],
   "source": [
    "# Definition of variables for the import terminal costs"
   ],
   "metadata": {
    "collapsed": false,
    "pycharm": {
     "name": "#%%\n"
    }
   }
  },
  {
   "cell_type": "code",
   "execution_count": 253,
   "outputs": [],
   "source": [
    "# Amortisation factor for the import terminal\n",
    "alpha_it = alpha_et"
   ],
   "metadata": {
    "collapsed": false,
    "pycharm": {
     "name": "#%%\n"
    }
   }
  },
  {
   "cell_type": "code",
   "execution_count": 254,
   "outputs": [
    {
     "data": {
      "text/plain": "0.02"
     },
     "execution_count": 254,
     "metadata": {},
     "output_type": "execute_result"
    }
   ],
   "source": [
    "# Electricity consumption in kWh/kg H2\n",
    "el_it = float(tea_lnh3.loc['Import Terminal - Electricity use [kWh/kg H2]']['NH3'])\n",
    "el_it"
   ],
   "metadata": {
    "collapsed": false,
    "pycharm": {
     "name": "#%%\n"
    }
   }
  },
  {
   "cell_type": "code",
   "execution_count": 255,
   "outputs": [
    {
     "data": {
      "text/plain": "0.0004"
     },
     "execution_count": 255,
     "metadata": {},
     "output_type": "execute_result"
    }
   ],
   "source": [
    "# Import terminal boil-off in [%/day]\n",
    "bog_it = float(tea_lnh3.loc['Import Terminal - Boil-off [%/day]']['NH3'])\n",
    "bog_it"
   ],
   "metadata": {
    "collapsed": false,
    "pycharm": {
     "name": "#%%\n"
    }
   }
  },
  {
   "cell_type": "code",
   "execution_count": 256,
   "outputs": [
    {
     "data": {
      "text/plain": "7.0"
     },
     "execution_count": 256,
     "metadata": {},
     "output_type": "execute_result"
    }
   ],
   "source": [
    "# Average storage time in the export terminal tanks in days\n",
    "t_it = float(tea_lnh3.loc['Import Terminal - Storage length per load [days]']['NH3'])\n",
    "t_it"
   ],
   "metadata": {
    "collapsed": false,
    "pycharm": {
     "name": "#%%\n"
    }
   }
  },
  {
   "cell_type": "code",
   "execution_count": 257,
   "outputs": [],
   "source": [
    "opex_it_share = opex_et_share"
   ],
   "metadata": {
    "collapsed": false,
    "pycharm": {
     "name": "#%%\n"
    }
   }
  },
  {
   "cell_type": "markdown",
   "source": [
    "Time relevant variables =\n",
    "capex [€/tpa]\n",
    "opex [€/tpa]\n",
    "electricity use [kwh/kg H2]\n",
    "electricity price [$/MWh] in Germany\n",
    "lcoh in [€/kg_h2]\n",
    "constant =\n",
    "boil off in [%/d]\n",
    "storage time in [days]\n",
    "\n"
   ],
   "metadata": {
    "collapsed": false,
    "pycharm": {
     "name": "#%% md\n"
    }
   }
  },
  {
   "cell_type": "code",
   "execution_count": 258,
   "outputs": [],
   "source": [
    "years = np.arange(2025, 2051)\n",
    "result = pd.DataFrame(index=years, columns=['LNH3_Import_terminal_costs'])\n",
    "result.index.name = 'Years'\n",
    "\n",
    "def calculate_import_terminal_costs(alpha_it, capex_it_y, opex_it_y, el_it, p_el_y, t_it):\n",
    "    result = (alpha_it * capex_it_y/1000 + opex_it_y/1000) + (el_it + el_reliq * (NH3_lhv/H2_lhv) * t_it) * p_el_y /1000\n",
    "    return result"
   ],
   "metadata": {
    "collapsed": false,
    "pycharm": {
     "name": "#%%\n"
    }
   }
  },
  {
   "cell_type": "code",
   "execution_count": 259,
   "outputs": [
    {
     "data": {
      "text/plain": "      LNH3_Import_terminal_costs\nYears                           \n2025                    0.091529\n2026                    0.089369\n2027                    0.087209\n2028                    0.085049\n2029                    0.082888\n2030                    0.080728\n2031                    0.080612\n2032                    0.080508\n2033                    0.080415\n2034                     0.08033\n2035                    0.080254\n2036                    0.080186\n2037                    0.080124\n2038                    0.080069\n2039                    0.080019\n2040                    0.079571\n2041                    0.079481\n2042                    0.079391\n2043                    0.079301\n2044                    0.079211\n2045                    0.079121\n2046                    0.079031\n2047                    0.078941\n2048                    0.078851\n2049                    0.078761\n2050                    0.078671",
      "text/html": "<div>\n<style scoped>\n    .dataframe tbody tr th:only-of-type {\n        vertical-align: middle;\n    }\n\n    .dataframe tbody tr th {\n        vertical-align: top;\n    }\n\n    .dataframe thead th {\n        text-align: right;\n    }\n</style>\n<table border=\"1\" class=\"dataframe\">\n  <thead>\n    <tr style=\"text-align: right;\">\n      <th></th>\n      <th>LNH3_Import_terminal_costs</th>\n    </tr>\n    <tr>\n      <th>Years</th>\n      <th></th>\n    </tr>\n  </thead>\n  <tbody>\n    <tr>\n      <th>2025</th>\n      <td>0.091529</td>\n    </tr>\n    <tr>\n      <th>2026</th>\n      <td>0.089369</td>\n    </tr>\n    <tr>\n      <th>2027</th>\n      <td>0.087209</td>\n    </tr>\n    <tr>\n      <th>2028</th>\n      <td>0.085049</td>\n    </tr>\n    <tr>\n      <th>2029</th>\n      <td>0.082888</td>\n    </tr>\n    <tr>\n      <th>2030</th>\n      <td>0.080728</td>\n    </tr>\n    <tr>\n      <th>2031</th>\n      <td>0.080612</td>\n    </tr>\n    <tr>\n      <th>2032</th>\n      <td>0.080508</td>\n    </tr>\n    <tr>\n      <th>2033</th>\n      <td>0.080415</td>\n    </tr>\n    <tr>\n      <th>2034</th>\n      <td>0.08033</td>\n    </tr>\n    <tr>\n      <th>2035</th>\n      <td>0.080254</td>\n    </tr>\n    <tr>\n      <th>2036</th>\n      <td>0.080186</td>\n    </tr>\n    <tr>\n      <th>2037</th>\n      <td>0.080124</td>\n    </tr>\n    <tr>\n      <th>2038</th>\n      <td>0.080069</td>\n    </tr>\n    <tr>\n      <th>2039</th>\n      <td>0.080019</td>\n    </tr>\n    <tr>\n      <th>2040</th>\n      <td>0.079571</td>\n    </tr>\n    <tr>\n      <th>2041</th>\n      <td>0.079481</td>\n    </tr>\n    <tr>\n      <th>2042</th>\n      <td>0.079391</td>\n    </tr>\n    <tr>\n      <th>2043</th>\n      <td>0.079301</td>\n    </tr>\n    <tr>\n      <th>2044</th>\n      <td>0.079211</td>\n    </tr>\n    <tr>\n      <th>2045</th>\n      <td>0.079121</td>\n    </tr>\n    <tr>\n      <th>2046</th>\n      <td>0.079031</td>\n    </tr>\n    <tr>\n      <th>2047</th>\n      <td>0.078941</td>\n    </tr>\n    <tr>\n      <th>2048</th>\n      <td>0.078851</td>\n    </tr>\n    <tr>\n      <th>2049</th>\n      <td>0.078761</td>\n    </tr>\n    <tr>\n      <th>2050</th>\n      <td>0.078671</td>\n    </tr>\n  </tbody>\n</table>\n</div>"
     },
     "execution_count": 259,
     "metadata": {},
     "output_type": "execute_result"
    }
   ],
   "source": [
    "for year in years:\n",
    "    # get capex, opex, xx\n",
    "    capex_it_y = float(tea_lnh3.loc['Import Terminal - CAPEX for storage tanks [€/t/a]'][year])\n",
    "    opex_it_y = float(tea_lnh3.loc['Import Terminal - Annual OPEX [€/t/a]'][year])\n",
    "    p_el_y = float(el_price.loc['Electricity prices in Germany [€_2020/MWh]'][year])\n",
    "\n",
    "\n",
    "    # calculate costs of specific year\n",
    "    result.LNH3_Import_terminal_costs.loc[year] = calculate_import_terminal_costs(alpha_it=alpha_it, capex_it_y=capex_it_y,\n",
    "                                                              opex_it_y=opex_it_y, el_it=el_it, p_el_y=p_el_y, t_it=t_it)\n",
    "\n",
    "result"
   ],
   "metadata": {
    "collapsed": false,
    "pycharm": {
     "name": "#%%\n"
    }
   }
  },
  {
   "cell_type": "code",
   "execution_count": 260,
   "outputs": [],
   "source": [
    "LNH3_Import_terminal_costs = result"
   ],
   "metadata": {
    "collapsed": false,
    "pycharm": {
     "name": "#%%\n"
    }
   }
  },
  {
   "cell_type": "code",
   "execution_count": 261,
   "outputs": [
    {
     "ename": "PermissionError",
     "evalue": "[Errno 13] Permission denied: '/Users/jakob/PycharmProjects/H2_pathways_repo/data/raw/H2_supply_route_assessment.xlsx'",
     "output_type": "error",
     "traceback": [
      "\u001B[1;31m---------------------------------------------------------------------------\u001B[0m",
      "\u001B[1;31mPermissionError\u001B[0m                           Traceback (most recent call last)",
      "Cell \u001B[1;32mIn [261], line 3\u001B[0m\n\u001B[0;32m      1\u001B[0m \u001B[38;5;66;03m# export result to excel\u001B[39;00m\n\u001B[0;32m      2\u001B[0m path \u001B[38;5;241m=\u001B[39m \u001B[38;5;124m'\u001B[39m\u001B[38;5;124m/Users/jakob/PycharmProjects/H2_pathways_repo/data/raw/H2_supply_route_assessment.xlsx\u001B[39m\u001B[38;5;124m'\u001B[39m\n\u001B[1;32m----> 3\u001B[0m writer \u001B[38;5;241m=\u001B[39m \u001B[43mpd\u001B[49m\u001B[38;5;241;43m.\u001B[39;49m\u001B[43mExcelWriter\u001B[49m\u001B[43m(\u001B[49m\u001B[43mpath\u001B[49m\u001B[43m,\u001B[49m\u001B[43m \u001B[49m\u001B[43mengine\u001B[49m\u001B[38;5;241;43m=\u001B[39;49m\u001B[38;5;124;43m'\u001B[39;49m\u001B[38;5;124;43mopenpyxl\u001B[39;49m\u001B[38;5;124;43m'\u001B[39;49m\u001B[43m,\u001B[49m\u001B[43m \u001B[49m\u001B[43mmode\u001B[49m\u001B[38;5;241;43m=\u001B[39;49m\u001B[38;5;124;43m'\u001B[39;49m\u001B[38;5;124;43ma\u001B[39;49m\u001B[38;5;124;43m'\u001B[39;49m\u001B[43m,\u001B[49m\u001B[43m \u001B[49m\u001B[43mif_sheet_exists\u001B[49m\u001B[38;5;241;43m=\u001B[39;49m\u001B[38;5;124;43m'\u001B[39;49m\u001B[38;5;124;43moverlay\u001B[39;49m\u001B[38;5;124;43m'\u001B[39;49m\u001B[43m)\u001B[49m\n\u001B[0;32m      4\u001B[0m book \u001B[38;5;241m=\u001B[39m load_workbook(path)\n\u001B[0;32m      5\u001B[0m writer\u001B[38;5;241m.\u001B[39mbook \u001B[38;5;241m=\u001B[39m book\n",
      "File \u001B[1;32m~\\Miniconda3\\envs\\Desktop\\lib\\site-packages\\pandas\\io\\excel\\_openpyxl.py:60\u001B[0m, in \u001B[0;36mOpenpyxlWriter.__init__\u001B[1;34m(self, path, engine, date_format, datetime_format, mode, storage_options, if_sheet_exists, engine_kwargs, **kwargs)\u001B[0m\n\u001B[0;32m     56\u001B[0m \u001B[38;5;28;01mfrom\u001B[39;00m \u001B[38;5;21;01mopenpyxl\u001B[39;00m\u001B[38;5;21;01m.\u001B[39;00m\u001B[38;5;21;01mworkbook\u001B[39;00m \u001B[38;5;28;01mimport\u001B[39;00m Workbook\n\u001B[0;32m     58\u001B[0m engine_kwargs \u001B[38;5;241m=\u001B[39m combine_kwargs(engine_kwargs, kwargs)\n\u001B[1;32m---> 60\u001B[0m \u001B[38;5;28;43msuper\u001B[39;49m\u001B[43m(\u001B[49m\u001B[43m)\u001B[49m\u001B[38;5;241;43m.\u001B[39;49m\u001B[38;5;21;43m__init__\u001B[39;49m\u001B[43m(\u001B[49m\n\u001B[0;32m     61\u001B[0m \u001B[43m    \u001B[49m\u001B[43mpath\u001B[49m\u001B[43m,\u001B[49m\n\u001B[0;32m     62\u001B[0m \u001B[43m    \u001B[49m\u001B[43mmode\u001B[49m\u001B[38;5;241;43m=\u001B[39;49m\u001B[43mmode\u001B[49m\u001B[43m,\u001B[49m\n\u001B[0;32m     63\u001B[0m \u001B[43m    \u001B[49m\u001B[43mstorage_options\u001B[49m\u001B[38;5;241;43m=\u001B[39;49m\u001B[43mstorage_options\u001B[49m\u001B[43m,\u001B[49m\n\u001B[0;32m     64\u001B[0m \u001B[43m    \u001B[49m\u001B[43mif_sheet_exists\u001B[49m\u001B[38;5;241;43m=\u001B[39;49m\u001B[43mif_sheet_exists\u001B[49m\u001B[43m,\u001B[49m\n\u001B[0;32m     65\u001B[0m \u001B[43m    \u001B[49m\u001B[43mengine_kwargs\u001B[49m\u001B[38;5;241;43m=\u001B[39;49m\u001B[43mengine_kwargs\u001B[49m\u001B[43m,\u001B[49m\n\u001B[0;32m     66\u001B[0m \u001B[43m\u001B[49m\u001B[43m)\u001B[49m\n\u001B[0;32m     68\u001B[0m \u001B[38;5;66;03m# ExcelWriter replaced \"a\" by \"r+\" to allow us to first read the excel file from\u001B[39;00m\n\u001B[0;32m     69\u001B[0m \u001B[38;5;66;03m# the file and later write to it\u001B[39;00m\n\u001B[0;32m     70\u001B[0m \u001B[38;5;28;01mif\u001B[39;00m \u001B[38;5;124m\"\u001B[39m\u001B[38;5;124mr+\u001B[39m\u001B[38;5;124m\"\u001B[39m \u001B[38;5;129;01min\u001B[39;00m \u001B[38;5;28mself\u001B[39m\u001B[38;5;241m.\u001B[39m_mode:  \u001B[38;5;66;03m# Load from existing workbook\u001B[39;00m\n",
      "File \u001B[1;32m~\\Miniconda3\\envs\\Desktop\\lib\\site-packages\\pandas\\io\\excel\\_base.py:1313\u001B[0m, in \u001B[0;36mExcelWriter.__init__\u001B[1;34m(self, path, engine, date_format, datetime_format, mode, storage_options, if_sheet_exists, engine_kwargs, **kwargs)\u001B[0m\n\u001B[0;32m   1309\u001B[0m \u001B[38;5;28mself\u001B[39m\u001B[38;5;241m.\u001B[39m_handles \u001B[38;5;241m=\u001B[39m IOHandles(\n\u001B[0;32m   1310\u001B[0m     cast(IO[\u001B[38;5;28mbytes\u001B[39m], path), compression\u001B[38;5;241m=\u001B[39m{\u001B[38;5;124m\"\u001B[39m\u001B[38;5;124mcompression\u001B[39m\u001B[38;5;124m\"\u001B[39m: \u001B[38;5;28;01mNone\u001B[39;00m}\n\u001B[0;32m   1311\u001B[0m )\n\u001B[0;32m   1312\u001B[0m \u001B[38;5;28;01mif\u001B[39;00m \u001B[38;5;129;01mnot\u001B[39;00m \u001B[38;5;28misinstance\u001B[39m(path, ExcelWriter):\n\u001B[1;32m-> 1313\u001B[0m     \u001B[38;5;28mself\u001B[39m\u001B[38;5;241m.\u001B[39m_handles \u001B[38;5;241m=\u001B[39m \u001B[43mget_handle\u001B[49m\u001B[43m(\u001B[49m\n\u001B[0;32m   1314\u001B[0m \u001B[43m        \u001B[49m\u001B[43mpath\u001B[49m\u001B[43m,\u001B[49m\u001B[43m \u001B[49m\u001B[43mmode\u001B[49m\u001B[43m,\u001B[49m\u001B[43m \u001B[49m\u001B[43mstorage_options\u001B[49m\u001B[38;5;241;43m=\u001B[39;49m\u001B[43mstorage_options\u001B[49m\u001B[43m,\u001B[49m\u001B[43m \u001B[49m\u001B[43mis_text\u001B[49m\u001B[38;5;241;43m=\u001B[39;49m\u001B[38;5;28;43;01mFalse\u001B[39;49;00m\n\u001B[0;32m   1315\u001B[0m \u001B[43m    \u001B[49m\u001B[43m)\u001B[49m\n\u001B[0;32m   1316\u001B[0m \u001B[38;5;28mself\u001B[39m\u001B[38;5;241m.\u001B[39m_cur_sheet \u001B[38;5;241m=\u001B[39m \u001B[38;5;28;01mNone\u001B[39;00m\n\u001B[0;32m   1318\u001B[0m \u001B[38;5;28;01mif\u001B[39;00m date_format \u001B[38;5;129;01mis\u001B[39;00m \u001B[38;5;28;01mNone\u001B[39;00m:\n",
      "File \u001B[1;32m~\\Miniconda3\\envs\\Desktop\\lib\\site-packages\\pandas\\io\\common.py:865\u001B[0m, in \u001B[0;36mget_handle\u001B[1;34m(path_or_buf, mode, encoding, compression, memory_map, is_text, errors, storage_options)\u001B[0m\n\u001B[0;32m    856\u001B[0m         handle \u001B[38;5;241m=\u001B[39m \u001B[38;5;28mopen\u001B[39m(\n\u001B[0;32m    857\u001B[0m             handle,\n\u001B[0;32m    858\u001B[0m             ioargs\u001B[38;5;241m.\u001B[39mmode,\n\u001B[1;32m   (...)\u001B[0m\n\u001B[0;32m    861\u001B[0m             newline\u001B[38;5;241m=\u001B[39m\u001B[38;5;124m\"\u001B[39m\u001B[38;5;124m\"\u001B[39m,\n\u001B[0;32m    862\u001B[0m         )\n\u001B[0;32m    863\u001B[0m     \u001B[38;5;28;01melse\u001B[39;00m:\n\u001B[0;32m    864\u001B[0m         \u001B[38;5;66;03m# Binary mode\u001B[39;00m\n\u001B[1;32m--> 865\u001B[0m         handle \u001B[38;5;241m=\u001B[39m \u001B[38;5;28;43mopen\u001B[39;49m\u001B[43m(\u001B[49m\u001B[43mhandle\u001B[49m\u001B[43m,\u001B[49m\u001B[43m \u001B[49m\u001B[43mioargs\u001B[49m\u001B[38;5;241;43m.\u001B[39;49m\u001B[43mmode\u001B[49m\u001B[43m)\u001B[49m\n\u001B[0;32m    866\u001B[0m     handles\u001B[38;5;241m.\u001B[39mappend(handle)\n\u001B[0;32m    868\u001B[0m \u001B[38;5;66;03m# Convert BytesIO or file objects passed with an encoding\u001B[39;00m\n",
      "\u001B[1;31mPermissionError\u001B[0m: [Errno 13] Permission denied: '/Users/jakob/PycharmProjects/H2_pathways_repo/data/raw/H2_supply_route_assessment.xlsx'"
     ]
    }
   ],
   "source": [
    "# export result to excel\n",
    "path = '/Users/jakob/PycharmProjects/H2_pathways_repo/data/raw/H2_supply_route_assessment.xlsx'\n",
    "writer = pd.ExcelWriter(path, engine='openpyxl', mode='a', if_sheet_exists='overlay')\n",
    "book = load_workbook(path)\n",
    "writer.book = book\n",
    "writer.sheets = dict((ws.title, ws) for ws in book.worksheets)\n",
    "\n",
    "ws = book['Reference Results']\n",
    "\n",
    "result.to_excel(writer, sheet_name='Reference Results', index=False, startcol=ws.max_column)\n",
    "book.save(path)\n",
    "book.close()"
   ],
   "metadata": {
    "collapsed": false,
    "pycharm": {
     "name": "#%%\n"
    }
   }
  },
  {
   "cell_type": "code",
   "execution_count": null,
   "outputs": [],
   "source": [
    "# Create csv file from results dataframe\n",
    "path_csv= r'/Users/jakob/PycharmProjects/H2_pathways_repo/data/processed'\n",
    "output_file = os.path.join(path_csv, 'LNH3_Import_terminal_costs.csv')\n",
    "result.to_csv(output_file, sep=';')"
   ],
   "metadata": {
    "collapsed": false,
    "pycharm": {
     "name": "#%%\n"
    }
   }
  },
  {
   "cell_type": "markdown",
   "source": [
    "\n",
    "Plot import terminal costs"
   ],
   "metadata": {
    "collapsed": false,
    "pycharm": {
     "name": "#%% md\n"
    }
   }
  },
  {
   "cell_type": "code",
   "execution_count": null,
   "outputs": [],
   "source": [
    "fig, ax = plt.subplots(figsize=(10,6))\n",
    "plt.plot(result, color = 'red', linestyle = 'solid')\n",
    "plt.grid(True, axis = 'y')\n",
    "ax.set_axisbelow(True)\n",
    "plt.plot(result, color='red', linestyle='dashed')\n",
    "plt.title('Import terminal costs over time', fontweight='bold', fontsize='large')\n",
    "plt.legend(['Import terminal costs in €/kg_H2'])\n",
    "plt.xlabel('Year', fontsize='large')\n",
    "plt.ylabel('Cost [€/kg_H2]', fontsize='large')\n",
    "plt.show()"
   ],
   "metadata": {
    "collapsed": false,
    "pycharm": {
     "name": "#%%\n"
    }
   }
  },
  {
   "cell_type": "markdown",
   "source": [
    "\n",
    "\n",
    "\n",
    "## Reconversion"
   ],
   "metadata": {
    "collapsed": false,
    "pycharm": {
     "name": "#%% md\n"
    }
   }
  },
  {
   "cell_type": "code",
   "execution_count": null,
   "outputs": [],
   "source": [
    "# Economic lifetime for the reconversion plant [years]\n",
    "l_recon = float(tea_lnh3.loc['Reconversion - Lifetime [Years]']['NH3'])\n",
    "l_recon"
   ],
   "metadata": {
    "collapsed": false,
    "pycharm": {
     "name": "#%%\n"
    }
   }
  },
  {
   "cell_type": "code",
   "execution_count": null,
   "outputs": [],
   "source": [
    "# Amortisation factor alpha for the conversion plant\n",
    "alpha_recon = (i * (1 + i) ** l_recon) / (((1 + i) ** l_recon) - 1)\n",
    "alpha_recon"
   ],
   "metadata": {
    "collapsed": false,
    "pycharm": {
     "name": "#%%\n"
    }
   }
  },
  {
   "cell_type": "code",
   "execution_count": null,
   "outputs": [],
   "source": [
    "opex_recon_share = float(tea_lnh3.loc['Reconversion - Annual OPEX opt. [% of CAPEX]']['NH3'])"
   ],
   "metadata": {
    "collapsed": false,
    "pycharm": {
     "name": "#%%\n"
    }
   }
  },
  {
   "cell_type": "markdown",
   "source": [
    "Calc. reconversion cost\n",
    "Definition of the cost calculation function for conversion costs.Time relevant variables =\n",
    "capex[€/tpa]\n",
    "opex[€/tpa]\n",
    "electricity use[kwh/kg H2]\n",
    "electricity price[$/ MWh]"
   ],
   "metadata": {
    "collapsed": false,
    "pycharm": {
     "name": "#%% md\n"
    }
   }
  },
  {
   "cell_type": "markdown",
   "source": [
    "Energy demand for heat in cracking is provided locally"
   ],
   "metadata": {
    "collapsed": false,
    "pycharm": {
     "name": "#%% md\n"
    }
   }
  },
  {
   "cell_type": "code",
   "execution_count": null,
   "outputs": [],
   "source": [
    "def calculate_recon_costs(alpha_recon, capex_recon_y, opex_recon_y, el_recon_y, p_el_y):\n",
    "    result = float((alpha_recon * capex_recon_y / 1000 + opex_recon_y / 1000) + (heat_recon_y + el_recon_y) * p_el_y / 1000)\n",
    "    return result"
   ],
   "metadata": {
    "collapsed": false,
    "pycharm": {
     "name": "#%%\n"
    }
   }
  },
  {
   "cell_type": "code",
   "execution_count": null,
   "outputs": [],
   "source": [
    "# Calculation of conversion costs [€/kg_h2] from 2030 to 2050.\n",
    "years = np.arange(2025, 2051)\n",
    "result = pd.DataFrame(index=years, columns=['LNH3_Reconversion_costs'])\n",
    "result.index.name = 'Years'\n",
    "\n",
    "for year in years:\n",
    "    # get capex, opex, natural gas price and CO2 price of specific year\n",
    "    capex_recon_y = float(tea_lnh3.loc['Reconversion - Capex opt. [€/t/a]'][year])\n",
    "    opex_recon_y = capex_recon_y * opex_recon_share\n",
    "    el_recon_y = float(tea_lnh3.loc['Reconversion - Electricity consumption opt. [kWh/kg H2]'][year])\n",
    "    heat_recon_y = float(tea_lnh3.loc['Reconversion - Heat consumption opt. [kWh/kg H2]'][year])\n",
    "    p_el_y = float(el_price.loc['Electricity prices in Germany [€_2020/MWh]'][year])\n",
    "\n",
    "    # calculate costs of specific year\n",
    "    result.LNH3_Reconversion_costs.loc[year] = calculate_recon_costs(alpha_recon=alpha_recon, capex_recon_y=capex_recon_y,\n",
    "                                                            opex_recon_y=opex_recon_y, el_recon_y=el_recon_y, p_el_y=p_el_y)\n",
    "result"
   ],
   "metadata": {
    "collapsed": false,
    "pycharm": {
     "name": "#%%\n"
    }
   }
  },
  {
   "cell_type": "code",
   "execution_count": null,
   "outputs": [],
   "source": [
    "LNH3_Reconversion_costs = result"
   ],
   "metadata": {
    "collapsed": false,
    "pycharm": {
     "name": "#%%\n"
    }
   }
  },
  {
   "cell_type": "markdown",
   "source": [
    "## Sensitivity"
   ],
   "metadata": {
    "collapsed": false,
    "pycharm": {
     "name": "#%% md\n"
    }
   }
  },
  {
   "cell_type": "code",
   "execution_count": null,
   "outputs": [],
   "source": [
    "year = 2030\n",
    "\n",
    "capex_con_y = float(tea_lnh3.loc['Conversion - Capex opt. [€/t/a]'][year])\n",
    "opex_con_y = capex_con_y * opex_con_share\n",
    "el_con_y = float(tea_lnh3.loc['Conversion - Electricity consumption opt. [kWh/kgH2]'][year])\n",
    "\n",
    "capex_et_y = float(tea_lnh3.loc['Export Terminal - CAPEX for storage tanks [€/t/a]'][year])\n",
    "opex_et_y = capex_et_y * opex_et_share\n",
    "\n",
    "capex_it_y = float(tea_lnh3.loc['Import Terminal - CAPEX for storage tanks [€/t/a]'][year])\n",
    "opex_it_y = capex_it_y * opex_it_share\n",
    "\n",
    "capex_ship_y = float(tea_lnh3.loc['Shipping - Capex/Ship opt. [€/t/a]'][year])/1000\n",
    "opex_ship_y = capex_ship_y * opex_ship_share\n",
    "f_ship = float(tea_lnh3.loc['Shipping - Fuel use [kg NH3/t/km]'][year])/1000 * (NH3_lhv/H2_lhv)\n",
    "LNH3_costs_y = float(LNH3_cargo_cost.loc[year])\n",
    "\n",
    "capex_recon_y = float(tea_lnh3.loc['Reconversion - Capex opt. [€/t/a]'][year])\n",
    "opex_recon_y = capex_recon_y * opex_recon_share\n",
    "el_recon_y = float(tea_lnh3.loc['Reconversion - Electricity consumption opt. [kWh/kg H2]'][year])\n",
    "heat_recon_y = float(tea_lnh3.loc['Reconversion - Heat consumption opt. [kWh/kg H2]'][year])\n",
    "\n",
    "p_el_y = float(el_price.loc['Electricity prices in Norway [€_2021/MWh]'][year])"
   ],
   "metadata": {
    "collapsed": false,
    "pycharm": {
     "name": "#%%\n"
    }
   }
  },
  {
   "cell_type": "markdown",
   "source": [
    "### Electricity price sensi"
   ],
   "metadata": {
    "collapsed": false,
    "pycharm": {
     "name": "#%% md\n"
    }
   }
  },
  {
   "cell_type": "code",
   "execution_count": null,
   "outputs": [],
   "source": [
    "sensitivity = []\n",
    "\n",
    "def nh3_transport_sensi_P_el(p_el_y, alpha_con, alpha_et, alpha_ship, alpha_it, alpha_recon,capex_con_y, capex_et_y,capex_ship_y, capex_it_y,  bog_ship, capex_recon_y, d_sea ,v_ship, f_ship, el_et ,el_it ,t_it ,el_recon_y):\n",
    "\n",
    "    for x in range (21):\n",
    "        factor = x/10\n",
    "        result = \\\n",
    "        (alpha_con * capex_con_y/1000 + opex_con_y/1000) + el_con_y * p_el_y/1000 * factor\\\n",
    "        + (alpha_et * capex_et_y/1000 + opex_et_y/1000) + (el_et + el_reliq * (NH3_lhv/H2_lhv) * t_et) * p_el_y /1000 * factor\\\n",
    "        + (alpha_ship * capex_ship_y + opex_ship_y)/(8760/(2*(d_sea/v_ship + h_ship)))/(1-(bog_ship * d_sea/v_ship) - (f_ship  * d_sea))+ (bog_ship * d_sea/v_ship + f_ship * d_sea) * LNH3_costs_y\\\n",
    "        + (alpha_it * capex_it_y/1000 + opex_it_y/1000) + (el_it + el_reliq * (NH3_lhv/H2_lhv) * t_it) * p_el_y /1000 * factor\\\n",
    "        + (alpha_recon * capex_recon_y / 1000 + opex_recon_y / 1000) + (heat_recon_y + el_recon_y) * p_el_y / 1000 * factor\n",
    "\n",
    "        sensitivity.append(result)\n",
    "\n",
    "    return sensitivity"
   ],
   "metadata": {
    "collapsed": false,
    "pycharm": {
     "name": "#%%\n"
    }
   }
  },
  {
   "cell_type": "code",
   "execution_count": null,
   "outputs": [],
   "source": [
    "nh3_transport_sensi_P_el(p_el_y, alpha_con, alpha_et, alpha_ship, alpha_it, alpha_recon,capex_con_y, capex_et_y,capex_ship_y, capex_it_y,  bog_ship, capex_recon_y, d_sea ,v_ship, f_ship, el_et ,el_it ,t_it ,el_recon_y)"
   ],
   "metadata": {
    "collapsed": false,
    "pycharm": {
     "name": "#%%\n"
    }
   }
  },
  {
   "cell_type": "code",
   "execution_count": null,
   "outputs": [],
   "source": [
    "lnh3_transport_sensi_P_el= pd.DataFrame(sensitivity, range(21), columns=['LNH3 transport costs [€/kg H2]'])\n",
    "lnh3_transport_sensi_P_el.index.name = 'Electricity price change'\n",
    "lnh3_transport_sensi_P_el"
   ],
   "metadata": {
    "collapsed": false,
    "pycharm": {
     "name": "#%%\n"
    }
   }
  },
  {
   "cell_type": "code",
   "execution_count": null,
   "outputs": [],
   "source": [
    "# Create csv file from results dataframe\n",
    "output_file = os.path.join(path_csv,'lnh3_transport_sensi_P_el.csv')\n",
    "lnh3_transport_sensi_P_el.to_csv(output_file, sep = ';')"
   ],
   "metadata": {
    "collapsed": false,
    "pycharm": {
     "name": "#%%\n"
    }
   }
  },
  {
   "cell_type": "markdown",
   "source": [
    "### Transport distance sensi"
   ],
   "metadata": {
    "collapsed": false,
    "pycharm": {
     "name": "#%% md\n"
    }
   }
  },
  {
   "cell_type": "code",
   "execution_count": null,
   "outputs": [],
   "source": [
    "transport_distance = np.arange(0,10001, 500)\n",
    "sensitivity = []\n",
    "def nh3_transport_sensi_distance(p_el_y, alpha_con, alpha_et, alpha_ship, alpha_it, alpha_recon,capex_con_y, capex_et_y,capex_ship_y, capex_it_y,  bog_ship, capex_recon_y, d_sea ,v_ship, f_ship, el_et ,el_it ,t_it ,el_recon_y):\n",
    "\n",
    "    for d_sea in transport_distance:\n",
    "\n",
    "        result = \\\n",
    "        (alpha_con * capex_con_y/1000 + opex_con_y/1000) + el_con_y * p_el_y/1000 \\\n",
    "        + (alpha_et * capex_et_y/1000 + opex_et_y/1000) + (el_et + el_reliq * (NH3_lhv/H2_lhv) * t_et) * p_el_y /1000 \\\n",
    "        + (alpha_ship * capex_ship_y + opex_ship_y)/(8760/(2*(d_sea/v_ship + h_ship)))/(1-(bog_ship * d_sea/v_ship) - (f_ship  * d_sea))+ (bog_ship * d_sea/v_ship + f_ship * d_sea) * LNH3_costs_y\\\n",
    "        + (alpha_it * capex_it_y/1000 + opex_it_y/1000) + (el_it + el_reliq * (NH3_lhv/H2_lhv) * t_it) * p_el_y /1000\\\n",
    "        + (alpha_recon * capex_recon_y / 1000 + opex_recon_y / 1000) + (heat_recon_y + el_recon_y) * p_el_y / 1000\n",
    "\n",
    "        sensitivity.append(result)\n",
    "\n",
    "    return sensitivity"
   ],
   "metadata": {
    "collapsed": false,
    "pycharm": {
     "name": "#%%\n"
    }
   }
  },
  {
   "cell_type": "code",
   "execution_count": null,
   "outputs": [],
   "source": [
    "nh3_transport_sensi_distance(p_el_y, alpha_con, alpha_et, alpha_ship, alpha_it, alpha_recon,capex_con_y, capex_et_y,capex_ship_y, capex_it_y,  bog_ship, capex_recon_y, d_sea ,v_ship, f_ship, el_et ,el_it ,t_it ,el_recon_y)"
   ],
   "metadata": {
    "collapsed": false,
    "pycharm": {
     "name": "#%%\n"
    }
   }
  },
  {
   "cell_type": "code",
   "execution_count": null,
   "outputs": [],
   "source": [
    "lnh3_transport_sensi_distance= pd.DataFrame(sensitivity, transport_distance, columns=['LNH3 transport costs [€/kg H2]'])\n",
    "lnh3_transport_sensi_distance.index.name = 'Transport distance in km'\n",
    "lnh3_transport_sensi_distance"
   ],
   "metadata": {
    "collapsed": false,
    "pycharm": {
     "name": "#%%\n"
    }
   }
  },
  {
   "cell_type": "code",
   "execution_count": 262,
   "outputs": [
    {
     "ename": "OSError",
     "evalue": "Cannot save file into a non-existent directory: '\\Users\\jakob\\PycharmProjects\\H2_pathways_repo\\data\\processed'",
     "output_type": "error",
     "traceback": [
      "\u001B[1;31m---------------------------------------------------------------------------\u001B[0m",
      "\u001B[1;31mOSError\u001B[0m                                   Traceback (most recent call last)",
      "Cell \u001B[1;32mIn [262], line 3\u001B[0m\n\u001B[0;32m      1\u001B[0m \u001B[38;5;66;03m# Create csv file from results dataframe\u001B[39;00m\n\u001B[0;32m      2\u001B[0m output_file \u001B[38;5;241m=\u001B[39m os\u001B[38;5;241m.\u001B[39mpath\u001B[38;5;241m.\u001B[39mjoin(path_csv,\u001B[38;5;124m'\u001B[39m\u001B[38;5;124mlnh3_transport_sensi_distance.csv\u001B[39m\u001B[38;5;124m'\u001B[39m)\n\u001B[1;32m----> 3\u001B[0m \u001B[43mlnh3_transport_sensi_distance\u001B[49m\u001B[38;5;241;43m.\u001B[39;49m\u001B[43mto_csv\u001B[49m\u001B[43m(\u001B[49m\u001B[43moutput_file\u001B[49m\u001B[43m,\u001B[49m\u001B[43m \u001B[49m\u001B[43msep\u001B[49m\u001B[43m \u001B[49m\u001B[38;5;241;43m=\u001B[39;49m\u001B[43m \u001B[49m\u001B[38;5;124;43m'\u001B[39;49m\u001B[38;5;124;43m;\u001B[39;49m\u001B[38;5;124;43m'\u001B[39;49m\u001B[43m)\u001B[49m\n",
      "File \u001B[1;32m~\\Miniconda3\\envs\\Desktop\\lib\\site-packages\\pandas\\util\\_decorators.py:211\u001B[0m, in \u001B[0;36mdeprecate_kwarg.<locals>._deprecate_kwarg.<locals>.wrapper\u001B[1;34m(*args, **kwargs)\u001B[0m\n\u001B[0;32m    209\u001B[0m     \u001B[38;5;28;01melse\u001B[39;00m:\n\u001B[0;32m    210\u001B[0m         kwargs[new_arg_name] \u001B[38;5;241m=\u001B[39m new_arg_value\n\u001B[1;32m--> 211\u001B[0m \u001B[38;5;28;01mreturn\u001B[39;00m func(\u001B[38;5;241m*\u001B[39margs, \u001B[38;5;241m*\u001B[39m\u001B[38;5;241m*\u001B[39mkwargs)\n",
      "File \u001B[1;32m~\\Miniconda3\\envs\\Desktop\\lib\\site-packages\\pandas\\core\\generic.py:3720\u001B[0m, in \u001B[0;36mNDFrame.to_csv\u001B[1;34m(self, path_or_buf, sep, na_rep, float_format, columns, header, index, index_label, mode, encoding, compression, quoting, quotechar, lineterminator, chunksize, date_format, doublequote, escapechar, decimal, errors, storage_options)\u001B[0m\n\u001B[0;32m   3709\u001B[0m df \u001B[38;5;241m=\u001B[39m \u001B[38;5;28mself\u001B[39m \u001B[38;5;28;01mif\u001B[39;00m \u001B[38;5;28misinstance\u001B[39m(\u001B[38;5;28mself\u001B[39m, ABCDataFrame) \u001B[38;5;28;01melse\u001B[39;00m \u001B[38;5;28mself\u001B[39m\u001B[38;5;241m.\u001B[39mto_frame()\n\u001B[0;32m   3711\u001B[0m formatter \u001B[38;5;241m=\u001B[39m DataFrameFormatter(\n\u001B[0;32m   3712\u001B[0m     frame\u001B[38;5;241m=\u001B[39mdf,\n\u001B[0;32m   3713\u001B[0m     header\u001B[38;5;241m=\u001B[39mheader,\n\u001B[1;32m   (...)\u001B[0m\n\u001B[0;32m   3717\u001B[0m     decimal\u001B[38;5;241m=\u001B[39mdecimal,\n\u001B[0;32m   3718\u001B[0m )\n\u001B[1;32m-> 3720\u001B[0m \u001B[38;5;28;01mreturn\u001B[39;00m \u001B[43mDataFrameRenderer\u001B[49m\u001B[43m(\u001B[49m\u001B[43mformatter\u001B[49m\u001B[43m)\u001B[49m\u001B[38;5;241;43m.\u001B[39;49m\u001B[43mto_csv\u001B[49m\u001B[43m(\u001B[49m\n\u001B[0;32m   3721\u001B[0m \u001B[43m    \u001B[49m\u001B[43mpath_or_buf\u001B[49m\u001B[43m,\u001B[49m\n\u001B[0;32m   3722\u001B[0m \u001B[43m    \u001B[49m\u001B[43mlineterminator\u001B[49m\u001B[38;5;241;43m=\u001B[39;49m\u001B[43mlineterminator\u001B[49m\u001B[43m,\u001B[49m\n\u001B[0;32m   3723\u001B[0m \u001B[43m    \u001B[49m\u001B[43msep\u001B[49m\u001B[38;5;241;43m=\u001B[39;49m\u001B[43msep\u001B[49m\u001B[43m,\u001B[49m\n\u001B[0;32m   3724\u001B[0m \u001B[43m    \u001B[49m\u001B[43mencoding\u001B[49m\u001B[38;5;241;43m=\u001B[39;49m\u001B[43mencoding\u001B[49m\u001B[43m,\u001B[49m\n\u001B[0;32m   3725\u001B[0m \u001B[43m    \u001B[49m\u001B[43merrors\u001B[49m\u001B[38;5;241;43m=\u001B[39;49m\u001B[43merrors\u001B[49m\u001B[43m,\u001B[49m\n\u001B[0;32m   3726\u001B[0m \u001B[43m    \u001B[49m\u001B[43mcompression\u001B[49m\u001B[38;5;241;43m=\u001B[39;49m\u001B[43mcompression\u001B[49m\u001B[43m,\u001B[49m\n\u001B[0;32m   3727\u001B[0m \u001B[43m    \u001B[49m\u001B[43mquoting\u001B[49m\u001B[38;5;241;43m=\u001B[39;49m\u001B[43mquoting\u001B[49m\u001B[43m,\u001B[49m\n\u001B[0;32m   3728\u001B[0m \u001B[43m    \u001B[49m\u001B[43mcolumns\u001B[49m\u001B[38;5;241;43m=\u001B[39;49m\u001B[43mcolumns\u001B[49m\u001B[43m,\u001B[49m\n\u001B[0;32m   3729\u001B[0m \u001B[43m    \u001B[49m\u001B[43mindex_label\u001B[49m\u001B[38;5;241;43m=\u001B[39;49m\u001B[43mindex_label\u001B[49m\u001B[43m,\u001B[49m\n\u001B[0;32m   3730\u001B[0m \u001B[43m    \u001B[49m\u001B[43mmode\u001B[49m\u001B[38;5;241;43m=\u001B[39;49m\u001B[43mmode\u001B[49m\u001B[43m,\u001B[49m\n\u001B[0;32m   3731\u001B[0m \u001B[43m    \u001B[49m\u001B[43mchunksize\u001B[49m\u001B[38;5;241;43m=\u001B[39;49m\u001B[43mchunksize\u001B[49m\u001B[43m,\u001B[49m\n\u001B[0;32m   3732\u001B[0m \u001B[43m    \u001B[49m\u001B[43mquotechar\u001B[49m\u001B[38;5;241;43m=\u001B[39;49m\u001B[43mquotechar\u001B[49m\u001B[43m,\u001B[49m\n\u001B[0;32m   3733\u001B[0m \u001B[43m    \u001B[49m\u001B[43mdate_format\u001B[49m\u001B[38;5;241;43m=\u001B[39;49m\u001B[43mdate_format\u001B[49m\u001B[43m,\u001B[49m\n\u001B[0;32m   3734\u001B[0m \u001B[43m    \u001B[49m\u001B[43mdoublequote\u001B[49m\u001B[38;5;241;43m=\u001B[39;49m\u001B[43mdoublequote\u001B[49m\u001B[43m,\u001B[49m\n\u001B[0;32m   3735\u001B[0m \u001B[43m    \u001B[49m\u001B[43mescapechar\u001B[49m\u001B[38;5;241;43m=\u001B[39;49m\u001B[43mescapechar\u001B[49m\u001B[43m,\u001B[49m\n\u001B[0;32m   3736\u001B[0m \u001B[43m    \u001B[49m\u001B[43mstorage_options\u001B[49m\u001B[38;5;241;43m=\u001B[39;49m\u001B[43mstorage_options\u001B[49m\u001B[43m,\u001B[49m\n\u001B[0;32m   3737\u001B[0m \u001B[43m\u001B[49m\u001B[43m)\u001B[49m\n",
      "File \u001B[1;32m~\\Miniconda3\\envs\\Desktop\\lib\\site-packages\\pandas\\util\\_decorators.py:211\u001B[0m, in \u001B[0;36mdeprecate_kwarg.<locals>._deprecate_kwarg.<locals>.wrapper\u001B[1;34m(*args, **kwargs)\u001B[0m\n\u001B[0;32m    209\u001B[0m     \u001B[38;5;28;01melse\u001B[39;00m:\n\u001B[0;32m    210\u001B[0m         kwargs[new_arg_name] \u001B[38;5;241m=\u001B[39m new_arg_value\n\u001B[1;32m--> 211\u001B[0m \u001B[38;5;28;01mreturn\u001B[39;00m func(\u001B[38;5;241m*\u001B[39margs, \u001B[38;5;241m*\u001B[39m\u001B[38;5;241m*\u001B[39mkwargs)\n",
      "File \u001B[1;32m~\\Miniconda3\\envs\\Desktop\\lib\\site-packages\\pandas\\io\\formats\\format.py:1189\u001B[0m, in \u001B[0;36mDataFrameRenderer.to_csv\u001B[1;34m(self, path_or_buf, encoding, sep, columns, index_label, mode, compression, quoting, quotechar, lineterminator, chunksize, date_format, doublequote, escapechar, errors, storage_options)\u001B[0m\n\u001B[0;32m   1168\u001B[0m     created_buffer \u001B[38;5;241m=\u001B[39m \u001B[38;5;28;01mFalse\u001B[39;00m\n\u001B[0;32m   1170\u001B[0m csv_formatter \u001B[38;5;241m=\u001B[39m CSVFormatter(\n\u001B[0;32m   1171\u001B[0m     path_or_buf\u001B[38;5;241m=\u001B[39mpath_or_buf,\n\u001B[0;32m   1172\u001B[0m     lineterminator\u001B[38;5;241m=\u001B[39mlineterminator,\n\u001B[1;32m   (...)\u001B[0m\n\u001B[0;32m   1187\u001B[0m     formatter\u001B[38;5;241m=\u001B[39m\u001B[38;5;28mself\u001B[39m\u001B[38;5;241m.\u001B[39mfmt,\n\u001B[0;32m   1188\u001B[0m )\n\u001B[1;32m-> 1189\u001B[0m \u001B[43mcsv_formatter\u001B[49m\u001B[38;5;241;43m.\u001B[39;49m\u001B[43msave\u001B[49m\u001B[43m(\u001B[49m\u001B[43m)\u001B[49m\n\u001B[0;32m   1191\u001B[0m \u001B[38;5;28;01mif\u001B[39;00m created_buffer:\n\u001B[0;32m   1192\u001B[0m     \u001B[38;5;28;01massert\u001B[39;00m \u001B[38;5;28misinstance\u001B[39m(path_or_buf, StringIO)\n",
      "File \u001B[1;32m~\\Miniconda3\\envs\\Desktop\\lib\\site-packages\\pandas\\io\\formats\\csvs.py:241\u001B[0m, in \u001B[0;36mCSVFormatter.save\u001B[1;34m(self)\u001B[0m\n\u001B[0;32m    237\u001B[0m \u001B[38;5;124;03m\"\"\"\u001B[39;00m\n\u001B[0;32m    238\u001B[0m \u001B[38;5;124;03mCreate the writer & save.\u001B[39;00m\n\u001B[0;32m    239\u001B[0m \u001B[38;5;124;03m\"\"\"\u001B[39;00m\n\u001B[0;32m    240\u001B[0m \u001B[38;5;66;03m# apply compression and byte/text conversion\u001B[39;00m\n\u001B[1;32m--> 241\u001B[0m \u001B[38;5;28;01mwith\u001B[39;00m \u001B[43mget_handle\u001B[49m\u001B[43m(\u001B[49m\n\u001B[0;32m    242\u001B[0m \u001B[43m    \u001B[49m\u001B[38;5;28;43mself\u001B[39;49m\u001B[38;5;241;43m.\u001B[39;49m\u001B[43mfilepath_or_buffer\u001B[49m\u001B[43m,\u001B[49m\n\u001B[0;32m    243\u001B[0m \u001B[43m    \u001B[49m\u001B[38;5;28;43mself\u001B[39;49m\u001B[38;5;241;43m.\u001B[39;49m\u001B[43mmode\u001B[49m\u001B[43m,\u001B[49m\n\u001B[0;32m    244\u001B[0m \u001B[43m    \u001B[49m\u001B[43mencoding\u001B[49m\u001B[38;5;241;43m=\u001B[39;49m\u001B[38;5;28;43mself\u001B[39;49m\u001B[38;5;241;43m.\u001B[39;49m\u001B[43mencoding\u001B[49m\u001B[43m,\u001B[49m\n\u001B[0;32m    245\u001B[0m \u001B[43m    \u001B[49m\u001B[43merrors\u001B[49m\u001B[38;5;241;43m=\u001B[39;49m\u001B[38;5;28;43mself\u001B[39;49m\u001B[38;5;241;43m.\u001B[39;49m\u001B[43merrors\u001B[49m\u001B[43m,\u001B[49m\n\u001B[0;32m    246\u001B[0m \u001B[43m    \u001B[49m\u001B[43mcompression\u001B[49m\u001B[38;5;241;43m=\u001B[39;49m\u001B[38;5;28;43mself\u001B[39;49m\u001B[38;5;241;43m.\u001B[39;49m\u001B[43mcompression\u001B[49m\u001B[43m,\u001B[49m\n\u001B[0;32m    247\u001B[0m \u001B[43m    \u001B[49m\u001B[43mstorage_options\u001B[49m\u001B[38;5;241;43m=\u001B[39;49m\u001B[38;5;28;43mself\u001B[39;49m\u001B[38;5;241;43m.\u001B[39;49m\u001B[43mstorage_options\u001B[49m\u001B[43m,\u001B[49m\n\u001B[0;32m    248\u001B[0m \u001B[43m\u001B[49m\u001B[43m)\u001B[49m \u001B[38;5;28;01mas\u001B[39;00m handles:\n\u001B[0;32m    249\u001B[0m \n\u001B[0;32m    250\u001B[0m     \u001B[38;5;66;03m# Note: self.encoding is irrelevant here\u001B[39;00m\n\u001B[0;32m    251\u001B[0m     \u001B[38;5;28mself\u001B[39m\u001B[38;5;241m.\u001B[39mwriter \u001B[38;5;241m=\u001B[39m csvlib\u001B[38;5;241m.\u001B[39mwriter(\n\u001B[0;32m    252\u001B[0m         handles\u001B[38;5;241m.\u001B[39mhandle,\n\u001B[0;32m    253\u001B[0m         lineterminator\u001B[38;5;241m=\u001B[39m\u001B[38;5;28mself\u001B[39m\u001B[38;5;241m.\u001B[39mlineterminator,\n\u001B[1;32m   (...)\u001B[0m\n\u001B[0;32m    258\u001B[0m         quotechar\u001B[38;5;241m=\u001B[39m\u001B[38;5;28mself\u001B[39m\u001B[38;5;241m.\u001B[39mquotechar,\n\u001B[0;32m    259\u001B[0m     )\n\u001B[0;32m    261\u001B[0m     \u001B[38;5;28mself\u001B[39m\u001B[38;5;241m.\u001B[39m_save()\n",
      "File \u001B[1;32m~\\Miniconda3\\envs\\Desktop\\lib\\site-packages\\pandas\\io\\common.py:734\u001B[0m, in \u001B[0;36mget_handle\u001B[1;34m(path_or_buf, mode, encoding, compression, memory_map, is_text, errors, storage_options)\u001B[0m\n\u001B[0;32m    732\u001B[0m \u001B[38;5;66;03m# Only for write methods\u001B[39;00m\n\u001B[0;32m    733\u001B[0m \u001B[38;5;28;01mif\u001B[39;00m \u001B[38;5;124m\"\u001B[39m\u001B[38;5;124mr\u001B[39m\u001B[38;5;124m\"\u001B[39m \u001B[38;5;129;01mnot\u001B[39;00m \u001B[38;5;129;01min\u001B[39;00m mode \u001B[38;5;129;01mand\u001B[39;00m is_path:\n\u001B[1;32m--> 734\u001B[0m     \u001B[43mcheck_parent_directory\u001B[49m\u001B[43m(\u001B[49m\u001B[38;5;28;43mstr\u001B[39;49m\u001B[43m(\u001B[49m\u001B[43mhandle\u001B[49m\u001B[43m)\u001B[49m\u001B[43m)\u001B[49m\n\u001B[0;32m    736\u001B[0m \u001B[38;5;28;01mif\u001B[39;00m compression:\n\u001B[0;32m    737\u001B[0m     \u001B[38;5;28;01mif\u001B[39;00m compression \u001B[38;5;241m!=\u001B[39m \u001B[38;5;124m\"\u001B[39m\u001B[38;5;124mzstd\u001B[39m\u001B[38;5;124m\"\u001B[39m:\n\u001B[0;32m    738\u001B[0m         \u001B[38;5;66;03m# compression libraries do not like an explicit text-mode\u001B[39;00m\n",
      "File \u001B[1;32m~\\Miniconda3\\envs\\Desktop\\lib\\site-packages\\pandas\\io\\common.py:597\u001B[0m, in \u001B[0;36mcheck_parent_directory\u001B[1;34m(path)\u001B[0m\n\u001B[0;32m    595\u001B[0m parent \u001B[38;5;241m=\u001B[39m Path(path)\u001B[38;5;241m.\u001B[39mparent\n\u001B[0;32m    596\u001B[0m \u001B[38;5;28;01mif\u001B[39;00m \u001B[38;5;129;01mnot\u001B[39;00m parent\u001B[38;5;241m.\u001B[39mis_dir():\n\u001B[1;32m--> 597\u001B[0m     \u001B[38;5;28;01mraise\u001B[39;00m \u001B[38;5;167;01mOSError\u001B[39;00m(\u001B[38;5;124mrf\u001B[39m\u001B[38;5;124m\"\u001B[39m\u001B[38;5;124mCannot save file into a non-existent directory: \u001B[39m\u001B[38;5;124m'\u001B[39m\u001B[38;5;132;01m{\u001B[39;00mparent\u001B[38;5;132;01m}\u001B[39;00m\u001B[38;5;124m'\u001B[39m\u001B[38;5;124m\"\u001B[39m)\n",
      "\u001B[1;31mOSError\u001B[0m: Cannot save file into a non-existent directory: '\\Users\\jakob\\PycharmProjects\\H2_pathways_repo\\data\\processed'"
     ]
    }
   ],
   "source": [
    "# Create csv file from results dataframe\n",
    "output_file = os.path.join(path_csv,'lnh3_transport_sensi_distance.csv')\n",
    "lnh3_transport_sensi_distance.to_csv(output_file, sep = ';')"
   ],
   "metadata": {
    "collapsed": false,
    "pycharm": {
     "name": "#%%\n"
    }
   }
  },
  {
   "cell_type": "markdown",
   "source": [
    "\n",
    "# Sensitivity Plots"
   ],
   "metadata": {
    "collapsed": false,
    "pycharm": {
     "name": "#%% md\n"
    }
   }
  },
  {
   "cell_type": "markdown",
   "source": [
    "### Electricity price sensi"
   ],
   "metadata": {
    "collapsed": false,
    "pycharm": {
     "name": "#%% md\n"
    }
   }
  },
  {
   "cell_type": "code",
   "execution_count": 263,
   "outputs": [
    {
     "data": {
      "text/plain": "                          LH2 transport costs [€/kg H2]\nElectricity price change                               \n0                                              0.228203\n1                                              0.255703\n2                                              0.283203\n3                                              0.310703\n4                                              0.338203\n5                                              0.365703\n6                                              0.393203\n7                                              0.420703\n8                                              0.448203\n9                                              0.475703\n10                                             0.503203\n11                                             0.530703\n12                                             0.558203\n13                                             0.585703\n14                                             0.613203\n15                                             0.640703\n16                                             0.668203\n17                                             0.695703\n18                                             0.723203\n19                                             0.750703\n20                                             0.778203",
      "text/html": "<div>\n<style scoped>\n    .dataframe tbody tr th:only-of-type {\n        vertical-align: middle;\n    }\n\n    .dataframe tbody tr th {\n        vertical-align: top;\n    }\n\n    .dataframe thead th {\n        text-align: right;\n    }\n</style>\n<table border=\"1\" class=\"dataframe\">\n  <thead>\n    <tr style=\"text-align: right;\">\n      <th></th>\n      <th>LH2 transport costs [€/kg H2]</th>\n    </tr>\n    <tr>\n      <th>Electricity price change</th>\n      <th></th>\n    </tr>\n  </thead>\n  <tbody>\n    <tr>\n      <th>0</th>\n      <td>0.228203</td>\n    </tr>\n    <tr>\n      <th>1</th>\n      <td>0.255703</td>\n    </tr>\n    <tr>\n      <th>2</th>\n      <td>0.283203</td>\n    </tr>\n    <tr>\n      <th>3</th>\n      <td>0.310703</td>\n    </tr>\n    <tr>\n      <th>4</th>\n      <td>0.338203</td>\n    </tr>\n    <tr>\n      <th>5</th>\n      <td>0.365703</td>\n    </tr>\n    <tr>\n      <th>6</th>\n      <td>0.393203</td>\n    </tr>\n    <tr>\n      <th>7</th>\n      <td>0.420703</td>\n    </tr>\n    <tr>\n      <th>8</th>\n      <td>0.448203</td>\n    </tr>\n    <tr>\n      <th>9</th>\n      <td>0.475703</td>\n    </tr>\n    <tr>\n      <th>10</th>\n      <td>0.503203</td>\n    </tr>\n    <tr>\n      <th>11</th>\n      <td>0.530703</td>\n    </tr>\n    <tr>\n      <th>12</th>\n      <td>0.558203</td>\n    </tr>\n    <tr>\n      <th>13</th>\n      <td>0.585703</td>\n    </tr>\n    <tr>\n      <th>14</th>\n      <td>0.613203</td>\n    </tr>\n    <tr>\n      <th>15</th>\n      <td>0.640703</td>\n    </tr>\n    <tr>\n      <th>16</th>\n      <td>0.668203</td>\n    </tr>\n    <tr>\n      <th>17</th>\n      <td>0.695703</td>\n    </tr>\n    <tr>\n      <th>18</th>\n      <td>0.723203</td>\n    </tr>\n    <tr>\n      <th>19</th>\n      <td>0.750703</td>\n    </tr>\n    <tr>\n      <th>20</th>\n      <td>0.778203</td>\n    </tr>\n  </tbody>\n</table>\n</div>"
     },
     "execution_count": 263,
     "metadata": {},
     "output_type": "execute_result"
    }
   ],
   "source": [
    "lh2_transport_sensi_P_el"
   ],
   "metadata": {
    "collapsed": false,
    "pycharm": {
     "name": "#%%\n"
    }
   }
  },
  {
   "cell_type": "code",
   "execution_count": 290,
   "outputs": [
    {
     "data": {
      "text/plain": "<Figure size 500x400 with 1 Axes>",
      "image/png": "[encoded data removed]"
     },
     "metadata": {},
     "output_type": "display_data"
    }
   ],
   "source": [
    "fig, ax = plt.subplots(figsize=(5,4))\n",
    "#plt.subplot(1,2,1)\n",
    "\n",
    "\n",
    "plt.plot(lh2_transport_sensi_P_el, color='blue', linestyle='solid', label = 'LH2')\n",
    "plt.plot(lnh3_transport_sensi_P_el, color='darkorange', linestyle='solid', label = 'NH3')\n",
    "plt.plot(new_pipe_sensi_P_el, color='dodgerblue',linestyle='-', label = 'New pipeline')\n",
    "plt.plot(retro_pipe_sensi_P_el, color='royalblue',linestyle='-', label = 'Retrofit pipeline')\n",
    "plt.grid(True, axis='y')\n",
    "#plt.grid(True, axis='x')\n",
    "ax.set_axisbelow(True)\n",
    "ax.xaxis.set_major_formatter(mtick.PercentFormatter(10, decimals=None))\n",
    "plt.locator_params(axis='x', nbins=5)\n",
    "plt.ylabel('[€/kg H2]')\n",
    "plt.ylim(top = 1.5)\n",
    "plt.xlabel('Change')\n",
    "plt.legend()\n",
    "\n",
    "\n",
    "\n",
    "title = 'LH2_EF_sensi'\n",
    "#plt.savefig(path_plt + title + '.png', transparent=True)\n",
    "\n",
    "plt.show()"
   ],
   "metadata": {
    "collapsed": false,
    "pycharm": {
     "name": "#%%\n"
    }
   }
  },
  {
   "cell_type": "markdown",
   "source": [
    "### Transport distance sensi"
   ],
   "metadata": {
    "collapsed": false,
    "pycharm": {
     "name": "#%% md\n"
    }
   }
  },
  {
   "cell_type": "code",
   "execution_count": 289,
   "outputs": [
    {
     "data": {
      "text/plain": "<Figure size 1000x400 with 1 Axes>",
      "image/png": "[encoded data removed]"
     },
     "metadata": {},
     "output_type": "display_data"
    }
   ],
   "source": [
    "fig, ax = plt.subplots(figsize=(10,4))\n",
    "#plt.subplot(1,2,1)\n",
    "\n",
    "\n",
    "plt.plot(lh2_transport_sensi_distance, color='blue', linestyle='-', label = 'LH2')\n",
    "plt.plot(lnh3_transport_sensi_distance, color='darkorange', linestyle='-', label = 'NH3')\n",
    "plt.plot(new_pipe_sensi_distance, color='red',linestyle='-', label = 'New pipeline')\n",
    "plt.plot(retro_pipe_sensi_distance, color='royalblue',linestyle='-', label = 'Retrofit pipeline')\n",
    "plt.grid(True, axis='y')\n",
    "#plt.grid(True, axis='x')\n",
    "ax.set_axisbelow(True)\n",
    "plt.locator_params(axis='x', nbins=12)\n",
    "plt.ylabel('[€/kg H2]')\n",
    "plt.ylim(top = 3)\n",
    "plt.xlabel('Transport Distance in km')\n",
    "plt.legend()\n",
    "\n",
    "\n",
    "\n",
    "title = 'LH2_EF_sensi'\n",
    "#plt.savefig(path_plt + title + '.png', transparent=True)\n",
    "\n",
    "plt.show()"
   ],
   "metadata": {
    "collapsed": false,
    "pycharm": {
     "name": "#%%\n"
    }
   }
  },
  {
   "cell_type": "code",
   "execution_count": 288,
   "outputs": [],
   "source": [],
   "metadata": {
    "collapsed": false,
    "pycharm": {
     "name": "#%%\n"
    }
   }
  },
  {
   "cell_type": "code",
   "execution_count": null,
   "outputs": [],
   "source": [],
   "metadata": {
    "collapsed": false,
    "pycharm": {
     "name": "#%%\n"
    }
   }
  }
 ],
 "metadata": {
  "kernelspec": {
   "display_name": "Python 3",
   "language": "python",
   "name": "python3"
  },
  "language_info": {
   "codemirror_mode": {
    "name": "ipython",
    "version": 2
   },
   "file_extension": ".py",
   "mimetype": "text/x-python",
   "name": "python",
   "nbconvert_exporter": "python",
   "pygments_lexer": "ipython2",
   "version": "2.7.6"
  }
 },
 "nbformat": 4,
 "nbformat_minor": 0
}