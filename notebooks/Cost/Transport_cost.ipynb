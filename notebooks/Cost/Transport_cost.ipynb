{
 "cells": [
  {
   "cell_type": "code",
   "execution_count": 337,
   "metadata": {
    "collapsed": true,
    "pycharm": {
     "name": "#%%\n"
    }
   },
   "outputs": [],
   "source": [
    "import numpy as np\n",
    "import pandas as pd\n",
    "from matplotlib import pyplot as plt\n",
    "import os\n",
    "from openpyxl import load_workbook\n",
    "import matplotlib.ticker as mtick"
   ]
  },
  {
   "cell_type": "markdown",
   "source": [
    "## Read inputs"
   ],
   "metadata": {
    "collapsed": false,
    "pycharm": {
     "name": "#%% md\n"
    }
   }
  },
  {
   "cell_type": "code",
   "execution_count": 338,
   "outputs": [],
   "source": [
    "path = r'\\\\dena.de\\Daten\\Home\\Reuter\\Desktop\\H2_pathways_repo\\data\\raw\\H2_supply_route_assessment.xlsx'\n",
    "path_plt = r'\\\\dena.de\\Daten\\Home\\Reuter\\Desktop\\H2_pathways_repo\\Plots'\n",
    "path_csv = r'\\\\dena.de\\Daten\\Home\\Reuter\\Desktop\\H2_pathways_repo\\data\\processed'"
   ],
   "metadata": {
    "collapsed": false,
    "pycharm": {
     "name": "#%%\n"
    }
   }
  },
  {
   "cell_type": "code",
   "execution_count": 339,
   "outputs": [
    {
     "data": {
      "text/plain": "                                                      Parameter  \\\nID                                                                \nDiscount rate [%]                                          0.05   \nOffshore Capex cost factor                                  1.7   \nPipeline Opex [€/a as % of Capex]                         0.017   \nCompressor Opex [€/a as % of Capex]                       0.009   \nLow - Compression capacity @ 48inch [MW_el/1000km]          190   \n...                                                         ...   \nHigh - retrofit Offshore (EHB 2022) Capex Compr...         1.06   \nNaN                                                         NaN   \nNaN                                                         NaN   \nNaN                                                         NaN   \nNaN                                                 IEAGHG 2017   \n\n                                                               Reference  2020  \nID                                                                              \nDiscount rate [%]                                                    NaN   NaN  \nOffshore Capex cost factor                          EHB 2022; IRENA 2022   NaN  \nPipeline Opex [€/a as % of Capex]                                    NaN   NaN  \nCompressor Opex [€/a as % of Capex]                                  NaN   NaN  \nLow - Compression capacity @ 48inch [MW_el/1000km]              EHB 2020   NaN  \n...                                                                  ...   ...  \nHigh - retrofit Offshore (EHB 2022) Capex Compr...                   NaN   NaN  \nNaN                                                                  NaN   NaN  \nNaN                                                                  NaN   NaN  \nNaN                                                                  NaN   NaN  \nNaN                                                                  NaN   NaN  \n\n[90 rows x 3 columns]",
      "text/html": "<div>\n<style scoped>\n    .dataframe tbody tr th:only-of-type {\n        vertical-align: middle;\n    }\n\n    .dataframe tbody tr th {\n        vertical-align: top;\n    }\n\n    .dataframe thead th {\n        text-align: right;\n    }\n</style>\n<table border=\"1\" class=\"dataframe\">\n  <thead>\n    <tr style=\"text-align: right;\">\n      <th></th>\n      <th>Parameter</th>\n      <th>Reference</th>\n      <th>2020</th>\n    </tr>\n    <tr>\n      <th>ID</th>\n      <th></th>\n      <th></th>\n      <th></th>\n    </tr>\n  </thead>\n  <tbody>\n    <tr>\n      <th>Discount rate [%]</th>\n      <td>0.05</td>\n      <td>NaN</td>\n      <td>NaN</td>\n    </tr>\n    <tr>\n      <th>Offshore Capex cost factor</th>\n      <td>1.7</td>\n      <td>EHB 2022; IRENA 2022</td>\n      <td>NaN</td>\n    </tr>\n    <tr>\n      <th>Pipeline Opex [€/a as % of Capex]</th>\n      <td>0.017</td>\n      <td>NaN</td>\n      <td>NaN</td>\n    </tr>\n    <tr>\n      <th>Compressor Opex [€/a as % of Capex]</th>\n      <td>0.009</td>\n      <td>NaN</td>\n      <td>NaN</td>\n    </tr>\n    <tr>\n      <th>Low - Compression capacity @ 48inch [MW_el/1000km]</th>\n      <td>190</td>\n      <td>EHB 2020</td>\n      <td>NaN</td>\n    </tr>\n    <tr>\n      <th>...</th>\n      <td>...</td>\n      <td>...</td>\n      <td>...</td>\n    </tr>\n    <tr>\n      <th>High - retrofit Offshore (EHB 2022) Capex Compression [€/kg/1000km]</th>\n      <td>1.06</td>\n      <td>NaN</td>\n      <td>NaN</td>\n    </tr>\n    <tr>\n      <th>NaN</th>\n      <td>NaN</td>\n      <td>NaN</td>\n      <td>NaN</td>\n    </tr>\n    <tr>\n      <th>NaN</th>\n      <td>NaN</td>\n      <td>NaN</td>\n      <td>NaN</td>\n    </tr>\n    <tr>\n      <th>NaN</th>\n      <td>NaN</td>\n      <td>NaN</td>\n      <td>NaN</td>\n    </tr>\n    <tr>\n      <th>NaN</th>\n      <td>IEAGHG 2017</td>\n      <td>NaN</td>\n      <td>NaN</td>\n    </tr>\n  </tbody>\n</table>\n<p>90 rows × 3 columns</p>\n</div>"
     },
     "execution_count": 339,
     "metadata": {},
     "output_type": "execute_result"
    }
   ],
   "source": [
    "#Definition of variables for pipeline transport costs\n",
    "tea_pipe = pd.read_excel(path, sheet_name='Pipeline Transport', decimal=',', index_col=0)\n",
    "tea_pipe"
   ],
   "metadata": {
    "collapsed": false,
    "pycharm": {
     "name": "#%%\n"
    }
   }
  },
  {
   "cell_type": "code",
   "execution_count": 340,
   "outputs": [
    {
     "data": {
      "text/plain": "           Origin_Country Destination_Country  sea distance (km)  \\\n0    United Arab Emirates             Germany           12443.10   \n1                  Angola             Germany            9809.65   \n2               Argentina             Germany           14063.90   \n3                 Austria             Germany            6005.96   \n4               Australia             Germany           21212.10   \n..                    ...                 ...                ...   \n955           Philippines               China            1782.35   \n956               Iceland               China           20454.60   \n957      Papua New Guinea               China            6298.52   \n958              Cameroon               China           19717.70   \n959          South Africa               China           12853.50   \n\n     onshore distance (km)  offshore distance (km) Starting point  \n0                      NaN                     NaN            NaN  \n1                      NaN                     NaN            NaN  \n2                      NaN                     NaN            NaN  \n3                    500.0                     0.0            NaN  \n4                      NaN                     NaN            NaN  \n..                     ...                     ...            ...  \n955                    NaN                     NaN            NaN  \n956                    NaN                     NaN            NaN  \n957                    NaN                     NaN            NaN  \n958                    NaN                     NaN            NaN  \n959                    NaN                     NaN            NaN  \n\n[960 rows x 6 columns]",
      "text/html": "<div>\n<style scoped>\n    .dataframe tbody tr th:only-of-type {\n        vertical-align: middle;\n    }\n\n    .dataframe tbody tr th {\n        vertical-align: top;\n    }\n\n    .dataframe thead th {\n        text-align: right;\n    }\n</style>\n<table border=\"1\" class=\"dataframe\">\n  <thead>\n    <tr style=\"text-align: right;\">\n      <th></th>\n      <th>Origin_Country</th>\n      <th>Destination_Country</th>\n      <th>sea distance (km)</th>\n      <th>onshore distance (km)</th>\n      <th>offshore distance (km)</th>\n      <th>Starting point</th>\n    </tr>\n  </thead>\n  <tbody>\n    <tr>\n      <th>0</th>\n      <td>United Arab Emirates</td>\n      <td>Germany</td>\n      <td>12443.10</td>\n      <td>NaN</td>\n      <td>NaN</td>\n      <td>NaN</td>\n    </tr>\n    <tr>\n      <th>1</th>\n      <td>Angola</td>\n      <td>Germany</td>\n      <td>9809.65</td>\n      <td>NaN</td>\n      <td>NaN</td>\n      <td>NaN</td>\n    </tr>\n    <tr>\n      <th>2</th>\n      <td>Argentina</td>\n      <td>Germany</td>\n      <td>14063.90</td>\n      <td>NaN</td>\n      <td>NaN</td>\n      <td>NaN</td>\n    </tr>\n    <tr>\n      <th>3</th>\n      <td>Austria</td>\n      <td>Germany</td>\n      <td>6005.96</td>\n      <td>500.0</td>\n      <td>0.0</td>\n      <td>NaN</td>\n    </tr>\n    <tr>\n      <th>4</th>\n      <td>Australia</td>\n      <td>Germany</td>\n      <td>21212.10</td>\n      <td>NaN</td>\n      <td>NaN</td>\n      <td>NaN</td>\n    </tr>\n    <tr>\n      <th>...</th>\n      <td>...</td>\n      <td>...</td>\n      <td>...</td>\n      <td>...</td>\n      <td>...</td>\n      <td>...</td>\n    </tr>\n    <tr>\n      <th>955</th>\n      <td>Philippines</td>\n      <td>China</td>\n      <td>1782.35</td>\n      <td>NaN</td>\n      <td>NaN</td>\n      <td>NaN</td>\n    </tr>\n    <tr>\n      <th>956</th>\n      <td>Iceland</td>\n      <td>China</td>\n      <td>20454.60</td>\n      <td>NaN</td>\n      <td>NaN</td>\n      <td>NaN</td>\n    </tr>\n    <tr>\n      <th>957</th>\n      <td>Papua New Guinea</td>\n      <td>China</td>\n      <td>6298.52</td>\n      <td>NaN</td>\n      <td>NaN</td>\n      <td>NaN</td>\n    </tr>\n    <tr>\n      <th>958</th>\n      <td>Cameroon</td>\n      <td>China</td>\n      <td>19717.70</td>\n      <td>NaN</td>\n      <td>NaN</td>\n      <td>NaN</td>\n    </tr>\n    <tr>\n      <th>959</th>\n      <td>South Africa</td>\n      <td>China</td>\n      <td>12853.50</td>\n      <td>NaN</td>\n      <td>NaN</td>\n      <td>NaN</td>\n    </tr>\n  </tbody>\n</table>\n<p>960 rows × 6 columns</p>\n</div>"
     },
     "execution_count": 340,
     "metadata": {},
     "output_type": "execute_result"
    }
   ],
   "source": [
    "tra_d = pd.read_excel(path, sheet_name='Transport Distances', decimal=',')\n",
    "tra_d"
   ],
   "metadata": {
    "collapsed": false,
    "pycharm": {
     "name": "#%%\n"
    }
   }
  },
  {
   "cell_type": "code",
   "execution_count": 341,
   "outputs": [
    {
     "data": {
      "text/plain": "                                                                                    Reference  \\\nElectricity prices in Germany [€_2020/MWh]                                                NaN   \nElectricity prices in Norway [€_2018/MWh]                                         DNV Gl 2018   \nElectricity prices in Norway [€_2021/MWh]                                            LMA 2021   \nEU ETS [€_2020/t_CO2]                                                                     NaN   \nCO2 prices global [USD_2021/t CO2]                                               IEA WOE 2022   \nGas prices in Germany [€_2020/MWh]                                                        NaN   \nGas prices in Canada [€_2020/MWh]           https://www2.deloitte.com/content/dam/Deloitte...   \nGas prices EU USD_2021/MWh                                                       IEA WOE 2022   \n\n                                                 2020       2021        2022  \\\nElectricity prices in Germany [€_2020/MWh]        NaN        NaN  512.000000   \nElectricity prices in Norway [€_2018/MWh]   46.683533  47.002654   47.209289   \nElectricity prices in Norway [€_2021/MWh]   31.000000  31.800000   32.600000   \nEU ETS [€_2020/t_CO2]                       25.000000        NaN   80.000000   \nCO2 prices global [USD_2021/t CO2]                NaN        NaN         NaN   \nGas prices in Germany [€_2020/MWh]          13.000000  12.000000  150.000000   \nGas prices in Canada [€_2020/MWh]                 NaN        NaN         NaN   \nGas prices EU USD_2021/MWh                        NaN        NaN         NaN   \n\n                                                  2023        2024  \\\nElectricity prices in Germany [€_2020/MWh]  104.000000         NaN   \nElectricity prices in Norway [€_2018/MWh]    47.346703   47.274782   \nElectricity prices in Norway [€_2021/MWh]    33.400000   34.200000   \nEU ETS [€_2020/t_CO2]                              NaN         NaN   \nCO2 prices global [USD_2021/t CO2]                 NaN         NaN   \nGas prices in Germany [€_2020/MWh]          300.000000  150.000000   \nGas prices in Canada [€_2020/MWh]                  NaN         NaN   \nGas prices EU USD_2021/MWh                         NaN         NaN   \n\n                                                  2025        2026       2027  \\\nElectricity prices in Germany [€_2020/MWh]  150.000000  133.200000  116.40000   \nElectricity prices in Norway [€_2018/MWh]    46.957092   46.416301   46.11822   \nElectricity prices in Norway [€_2021/MWh]    35.000000   39.400000   43.80000   \nEU ETS [€_2020/t_CO2]                        88.000000   94.400000  100.80000   \nCO2 prices global [USD_2021/t CO2]                 NaN         NaN        NaN   \nGas prices in Germany [€_2020/MWh]           70.000000   60.000000   50.00000   \nGas prices in Canada [€_2020/MWh]                  NaN         NaN        NaN   \nGas prices EU USD_2021/MWh                         NaN         NaN        NaN   \n\n                                                  2028  ...       2041  \\\nElectricity prices in Germany [€_2020/MWh]   99.600000  ...   56.30000   \nElectricity prices in Norway [€_2018/MWh]    45.738344  ...   49.60933   \nElectricity prices in Norway [€_2021/MWh]    48.200000  ...   56.80000   \nEU ETS [€_2020/t_CO2]                       107.200000  ...  194.20000   \nCO2 prices global [USD_2021/t CO2]                 NaN  ...        NaN   \nGas prices in Germany [€_2020/MWh]           35.000000  ...   35.00000   \nGas prices in Canada [€_2020/MWh]                  NaN  ...        NaN   \nGas prices EU USD_2021/MWh                         NaN  ...        NaN   \n\n                                                 2042        2043       2044  \\\nElectricity prices in Germany [€_2020/MWh]   55.60000   54.900000   54.20000   \nElectricity prices in Norway [€_2018/MWh]    50.70543   51.925184   53.19331   \nElectricity prices in Norway [€_2021/MWh]    54.60000   52.400000   50.20000   \nEU ETS [€_2020/t_CO2]                       198.40000  202.600000  206.80000   \nCO2 prices global [USD_2021/t CO2]                NaN         NaN        NaN   \nGas prices in Germany [€_2020/MWh]           35.00000   35.000000   35.00000   \nGas prices in Canada [€_2020/MWh]                 NaN         NaN        NaN   \nGas prices EU USD_2021/MWh                        NaN         NaN        NaN   \n\n                                                 2045        2046        2047  \\\nElectricity prices in Germany [€_2020/MWh]   53.50000   52.800000   52.100000   \nElectricity prices in Norway [€_2018/MWh]    54.22122   54.704721   54.535295   \nElectricity prices in Norway [€_2021/MWh]    48.00000   45.800000   43.600000   \nEU ETS [€_2020/t_CO2]                       211.00000  215.000000  219.000000   \nCO2 prices global [USD_2021/t CO2]                NaN         NaN         NaN   \nGas prices in Germany [€_2020/MWh]           35.00000   35.000000   35.000000   \nGas prices in Canada [€_2020/MWh]                 NaN         NaN         NaN   \nGas prices EU USD_2021/MWh                        NaN         NaN         NaN   \n\n                                                  2048        2049        2050  \nElectricity prices in Germany [€_2020/MWh]   51.400000   50.700000   50.000000  \nElectricity prices in Norway [€_2018/MWh]    53.994557   53.715329   53.994428  \nElectricity prices in Norway [€_2021/MWh]    41.400000   39.200000   37.000000  \nEU ETS [€_2020/t_CO2]                       223.000000  227.000000  231.000000  \nCO2 prices global [USD_2021/t CO2]                 NaN         NaN  250.000000  \nGas prices in Germany [€_2020/MWh]           35.000000   35.000000   35.000000  \nGas prices in Canada [€_2020/MWh]                  NaN         NaN         NaN  \nGas prices EU USD_2021/MWh                         NaN         NaN    3.800000  \n\n[8 rows x 32 columns]",
      "text/html": "<div>\n<style scoped>\n    .dataframe tbody tr th:only-of-type {\n        vertical-align: middle;\n    }\n\n    .dataframe tbody tr th {\n        vertical-align: top;\n    }\n\n    .dataframe thead th {\n        text-align: right;\n    }\n</style>\n<table border=\"1\" class=\"dataframe\">\n  <thead>\n    <tr style=\"text-align: right;\">\n      <th></th>\n      <th>Reference</th>\n      <th>2020</th>\n      <th>2021</th>\n      <th>2022</th>\n      <th>2023</th>\n      <th>2024</th>\n      <th>2025</th>\n      <th>2026</th>\n      <th>2027</th>\n      <th>2028</th>\n      <th>...</th>\n      <th>2041</th>\n      <th>2042</th>\n      <th>2043</th>\n      <th>2044</th>\n      <th>2045</th>\n      <th>2046</th>\n      <th>2047</th>\n      <th>2048</th>\n      <th>2049</th>\n      <th>2050</th>\n    </tr>\n  </thead>\n  <tbody>\n    <tr>\n      <th>Electricity prices in Germany [€_2020/MWh]</th>\n      <td>NaN</td>\n      <td>NaN</td>\n      <td>NaN</td>\n      <td>512.000000</td>\n      <td>104.000000</td>\n      <td>NaN</td>\n      <td>150.000000</td>\n      <td>133.200000</td>\n      <td>116.40000</td>\n      <td>99.600000</td>\n      <td>...</td>\n      <td>56.30000</td>\n      <td>55.60000</td>\n      <td>54.900000</td>\n      <td>54.20000</td>\n      <td>53.50000</td>\n      <td>52.800000</td>\n      <td>52.100000</td>\n      <td>51.400000</td>\n      <td>50.700000</td>\n      <td>50.000000</td>\n    </tr>\n    <tr>\n      <th>Electricity prices in Norway [€_2018/MWh]</th>\n      <td>DNV Gl 2018</td>\n      <td>46.683533</td>\n      <td>47.002654</td>\n      <td>47.209289</td>\n      <td>47.346703</td>\n      <td>47.274782</td>\n      <td>46.957092</td>\n      <td>46.416301</td>\n      <td>46.11822</td>\n      <td>45.738344</td>\n      <td>...</td>\n      <td>49.60933</td>\n      <td>50.70543</td>\n      <td>51.925184</td>\n      <td>53.19331</td>\n      <td>54.22122</td>\n      <td>54.704721</td>\n      <td>54.535295</td>\n      <td>53.994557</td>\n      <td>53.715329</td>\n      <td>53.994428</td>\n    </tr>\n    <tr>\n      <th>Electricity prices in Norway [€_2021/MWh]</th>\n      <td>LMA 2021</td>\n      <td>31.000000</td>\n      <td>31.800000</td>\n      <td>32.600000</td>\n      <td>33.400000</td>\n      <td>34.200000</td>\n      <td>35.000000</td>\n      <td>39.400000</td>\n      <td>43.80000</td>\n      <td>48.200000</td>\n      <td>...</td>\n      <td>56.80000</td>\n      <td>54.60000</td>\n      <td>52.400000</td>\n      <td>50.20000</td>\n      <td>48.00000</td>\n      <td>45.800000</td>\n      <td>43.600000</td>\n      <td>41.400000</td>\n      <td>39.200000</td>\n      <td>37.000000</td>\n    </tr>\n    <tr>\n      <th>EU ETS [€_2020/t_CO2]</th>\n      <td>NaN</td>\n      <td>25.000000</td>\n      <td>NaN</td>\n      <td>80.000000</td>\n      <td>NaN</td>\n      <td>NaN</td>\n      <td>88.000000</td>\n      <td>94.400000</td>\n      <td>100.80000</td>\n      <td>107.200000</td>\n      <td>...</td>\n      <td>194.20000</td>\n      <td>198.40000</td>\n      <td>202.600000</td>\n      <td>206.80000</td>\n      <td>211.00000</td>\n      <td>215.000000</td>\n      <td>219.000000</td>\n      <td>223.000000</td>\n      <td>227.000000</td>\n      <td>231.000000</td>\n    </tr>\n    <tr>\n      <th>CO2 prices global [USD_2021/t CO2]</th>\n      <td>IEA WOE 2022</td>\n      <td>NaN</td>\n      <td>NaN</td>\n      <td>NaN</td>\n      <td>NaN</td>\n      <td>NaN</td>\n      <td>NaN</td>\n      <td>NaN</td>\n      <td>NaN</td>\n      <td>NaN</td>\n      <td>...</td>\n      <td>NaN</td>\n      <td>NaN</td>\n      <td>NaN</td>\n      <td>NaN</td>\n      <td>NaN</td>\n      <td>NaN</td>\n      <td>NaN</td>\n      <td>NaN</td>\n      <td>NaN</td>\n      <td>250.000000</td>\n    </tr>\n    <tr>\n      <th>Gas prices in Germany [€_2020/MWh]</th>\n      <td>NaN</td>\n      <td>13.000000</td>\n      <td>12.000000</td>\n      <td>150.000000</td>\n      <td>300.000000</td>\n      <td>150.000000</td>\n      <td>70.000000</td>\n      <td>60.000000</td>\n      <td>50.00000</td>\n      <td>35.000000</td>\n      <td>...</td>\n      <td>35.00000</td>\n      <td>35.00000</td>\n      <td>35.000000</td>\n      <td>35.00000</td>\n      <td>35.00000</td>\n      <td>35.000000</td>\n      <td>35.000000</td>\n      <td>35.000000</td>\n      <td>35.000000</td>\n      <td>35.000000</td>\n    </tr>\n    <tr>\n      <th>Gas prices in Canada [€_2020/MWh]</th>\n      <td>https://www2.deloitte.com/content/dam/Deloitte...</td>\n      <td>NaN</td>\n      <td>NaN</td>\n      <td>NaN</td>\n      <td>NaN</td>\n      <td>NaN</td>\n      <td>NaN</td>\n      <td>NaN</td>\n      <td>NaN</td>\n      <td>NaN</td>\n      <td>...</td>\n      <td>NaN</td>\n      <td>NaN</td>\n      <td>NaN</td>\n      <td>NaN</td>\n      <td>NaN</td>\n      <td>NaN</td>\n      <td>NaN</td>\n      <td>NaN</td>\n      <td>NaN</td>\n      <td>NaN</td>\n    </tr>\n    <tr>\n      <th>Gas prices EU USD_2021/MWh</th>\n      <td>IEA WOE 2022</td>\n      <td>NaN</td>\n      <td>NaN</td>\n      <td>NaN</td>\n      <td>NaN</td>\n      <td>NaN</td>\n      <td>NaN</td>\n      <td>NaN</td>\n      <td>NaN</td>\n      <td>NaN</td>\n      <td>...</td>\n      <td>NaN</td>\n      <td>NaN</td>\n      <td>NaN</td>\n      <td>NaN</td>\n      <td>NaN</td>\n      <td>NaN</td>\n      <td>NaN</td>\n      <td>NaN</td>\n      <td>NaN</td>\n      <td>3.800000</td>\n    </tr>\n  </tbody>\n</table>\n<p>8 rows × 32 columns</p>\n</div>"
     },
     "execution_count": 341,
     "metadata": {},
     "output_type": "execute_result"
    }
   ],
   "source": [
    "el_price = pd.read_excel(path, sheet_name= 'Commodity Prices', index_col=0, decimal=',')\n",
    "el_price"
   ],
   "metadata": {
    "collapsed": false,
    "pycharm": {
     "name": "#%%\n"
    }
   }
  },
  {
   "cell_type": "markdown",
   "source": [
    "# Pipeline"
   ],
   "metadata": {
    "collapsed": false,
    "pycharm": {
     "name": "#%% md\n"
    }
   }
  },
  {
   "cell_type": "code",
   "execution_count": 342,
   "outputs": [
    {
     "data": {
      "text/plain": "0.009"
     },
     "execution_count": 342,
     "metadata": {},
     "output_type": "execute_result"
    }
   ],
   "source": [
    "# WACC for all transport investments (pipelines, terminals, liquefaction plants)\n",
    "i_tra = float(tea_pipe.loc['Discount rate [%]']['Parameter'])\n",
    "i_tra\n",
    "\n",
    "# Economic lifetime for pipelines\n",
    "l_pipe = float(tea_pipe.loc['Lifetime [Years]']['Parameter'])\n",
    "l_pipe\n",
    "# Amortisation factor for onshore pipelines\n",
    "alpha = (i_tra * (1 + i_tra) ** l_pipe) / (((1 + i_tra) ** l_pipe) - 1)\n",
    "alpha\n",
    "# Utilisation of the pipeline in %\n",
    "pipe_use = float(tea_pipe.loc['Pipeline load factor [%]']['Parameter'])\n",
    "pipe_use\n",
    "# Pipeline Opex [€/a as % of Capex]\n",
    "pipe_opex_share = float(tea_pipe.loc['Pipeline Opex [€/a as % of Capex]']['Parameter'])\n",
    "pipe_opex_share\n",
    "# Compression Opex [€/a as % of Capex]\n",
    "comp_opex_share = float(tea_pipe.loc['Compressor Opex [€/a as % of Capex]']['Parameter'])\n",
    "comp_opex_share\n",
    "# New pipeline\n"
   ],
   "metadata": {
    "collapsed": false,
    "pycharm": {
     "name": "#%%\n"
    }
   }
  },
  {
   "cell_type": "markdown",
   "source": [
    "## New offshore pipeline"
   ],
   "metadata": {
    "collapsed": false,
    "pycharm": {
     "name": "#%% md\n"
    }
   }
  },
  {
   "cell_type": "code",
   "execution_count": 343,
   "outputs": [
    {
     "data": {
      "text/plain": "650.0"
     },
     "execution_count": 343,
     "metadata": {},
     "output_type": "execute_result"
    }
   ],
   "source": [
    "# Pipeline capex offshore new [€/kg/1000km]\n",
    "capex_pipe_new_off_EHB = float(\n",
    "    tea_pipe.loc['Medium - New Offshore (EHB 2022) Capex Pipeline [€/kg/1000km]']['Parameter'])\n",
    "capex_pipe_new_off_EHB\n",
    "# Compression capex offshore new [€/kg/1000km]\n",
    "capex_comp_new_off_EHB = float(\n",
    "    tea_pipe.loc['Medium - New Offshore (EHB 2022) Capex Compression [€/kg/1000km]']['Parameter'])\n",
    "capex_comp_new_off_EHB\n",
    "capex_new_off = capex_pipe_new_off_EHB + capex_comp_new_off_EHB\n",
    "capex_new_off\n",
    "opex_new_off = capex_pipe_new_off_EHB * pipe_opex_share + capex_comp_new_off_EHB * comp_opex_share\n",
    "opex_new_off\n",
    "# Onshore pipeline distance between two countries [km]\n",
    "d_on = float(tra_d[(tra_d['Origin_Country'] == 'Norway') & (tra_d['Destination_Country'] == 'Germany')][\n",
    "                 'onshore distance (km)'].values)\n",
    "d_on\n",
    "#not used here\n",
    "off_factor = float(tea_pipe.loc['Offshore Capex cost factor ']['Parameter'])\n",
    "off_factor\n",
    "# Offshore pipeline distance between two countries [km]\n",
    "d_off = float(tra_d[(tra_d['Origin_Country'] == 'Norway') & (tra_d['Destination_Country'] == 'Germany')][\n",
    "                  'offshore distance (km)'].values)\n",
    "d_off"
   ],
   "metadata": {
    "collapsed": false,
    "pycharm": {
     "name": "#%%\n"
    }
   }
  },
  {
   "cell_type": "markdown",
   "source": [
    "### Electricity cost of compression"
   ],
   "metadata": {
    "collapsed": false,
    "pycharm": {
     "name": "#%% md\n"
    }
   }
  },
  {
   "cell_type": "code",
   "execution_count": 344,
   "outputs": [
    {
     "data": {
      "text/plain": "0.02849715"
     },
     "execution_count": 344,
     "metadata": {},
     "output_type": "execute_result"
    }
   ],
   "source": [
    "# Compression capacity in [MWel/1000km]\n",
    "capa_comp = float(tea_pipe.loc['Medium - Compression capacity @ 48inch [MW_el/1000km]']['Parameter'])\n",
    "capa_comp\n",
    "# Load factor in hours/day\n",
    "lf_comp = float(tea_pipe.loc['Assumed load factor for compressor electricity consumption [h/a]']['Parameter'])\n",
    "lf_comp\n",
    "#Capacity at full load factor [kg H2/a]\n",
    "capa_pipe = float(tea_pipe.loc['Capacity at full load factor [kg H2/a]']['Parameter'])\n",
    "capa_pipe\n",
    "# Electricity cost for compression [€/kg/1000km]\n",
    "comp_el_cost = capa_comp * pipe_use * 8760 * p_el_y / capa_pipe\n",
    "comp_el_cost"
   ],
   "metadata": {
    "collapsed": false,
    "pycharm": {
     "name": "#%%\n"
    }
   }
  },
  {
   "cell_type": "markdown",
   "source": [
    "## Calc. offshore new pipeline cost"
   ],
   "metadata": {
    "collapsed": false,
    "pycharm": {
     "name": "#%% md\n"
    }
   }
  },
  {
   "cell_type": "code",
   "execution_count": 345,
   "outputs": [],
   "source": [
    "# Costs for new pipeline transport [€/kg]\n",
    "#alpha, capex_pipe_new_on_EHB, capex_comp_new_on_EHB, d_on, d_off, capex_pipe_new_off_EHB, capex_comp_new_off_EHB, capa_comp, pipe_use, capa_pipe\n",
    "def calculate_off_pipe_new():\n",
    "\n",
    "    result = ((alpha * capex_new_off / pipe_use + opex_new_off) + (capa_comp * pipe_use * 8760 * p_el_y / capa_pipe)) * d_off / 1000\n",
    "\n",
    "    return result"
   ],
   "metadata": {
    "collapsed": false,
    "pycharm": {
     "name": "#%%\n"
    }
   }
  },
  {
   "cell_type": "code",
   "execution_count": 346,
   "outputs": [
    {
     "data": {
      "text/plain": "      New_Pipeline_costs_off\nYears                       \n2025                 0.36659\n2026                 0.36802\n2027                 0.36945\n2028                 0.37088\n2029                 0.37231\n2030                 0.37374\n2031                0.373804\n2032                0.373869\n2033                0.373934\n2034                0.373999\n2035                0.374064\n2036                0.374129\n2037                0.374194\n2038                0.374259\n2039                0.374324\n2040                0.374389\n2041                0.373675\n2042                 0.37296\n2043                0.372245\n2044                 0.37153\n2045                0.370815\n2046                  0.3701\n2047                0.369385\n2048                 0.36867\n2049                0.367955\n2050                 0.36724",
      "text/html": "<div>\n<style scoped>\n    .dataframe tbody tr th:only-of-type {\n        vertical-align: middle;\n    }\n\n    .dataframe tbody tr th {\n        vertical-align: top;\n    }\n\n    .dataframe thead th {\n        text-align: right;\n    }\n</style>\n<table border=\"1\" class=\"dataframe\">\n  <thead>\n    <tr style=\"text-align: right;\">\n      <th></th>\n      <th>New_Pipeline_costs_off</th>\n    </tr>\n    <tr>\n      <th>Years</th>\n      <th></th>\n    </tr>\n  </thead>\n  <tbody>\n    <tr>\n      <th>2025</th>\n      <td>0.36659</td>\n    </tr>\n    <tr>\n      <th>2026</th>\n      <td>0.36802</td>\n    </tr>\n    <tr>\n      <th>2027</th>\n      <td>0.36945</td>\n    </tr>\n    <tr>\n      <th>2028</th>\n      <td>0.37088</td>\n    </tr>\n    <tr>\n      <th>2029</th>\n      <td>0.37231</td>\n    </tr>\n    <tr>\n      <th>2030</th>\n      <td>0.37374</td>\n    </tr>\n    <tr>\n      <th>2031</th>\n      <td>0.373804</td>\n    </tr>\n    <tr>\n      <th>2032</th>\n      <td>0.373869</td>\n    </tr>\n    <tr>\n      <th>2033</th>\n      <td>0.373934</td>\n    </tr>\n    <tr>\n      <th>2034</th>\n      <td>0.373999</td>\n    </tr>\n    <tr>\n      <th>2035</th>\n      <td>0.374064</td>\n    </tr>\n    <tr>\n      <th>2036</th>\n      <td>0.374129</td>\n    </tr>\n    <tr>\n      <th>2037</th>\n      <td>0.374194</td>\n    </tr>\n    <tr>\n      <th>2038</th>\n      <td>0.374259</td>\n    </tr>\n    <tr>\n      <th>2039</th>\n      <td>0.374324</td>\n    </tr>\n    <tr>\n      <th>2040</th>\n      <td>0.374389</td>\n    </tr>\n    <tr>\n      <th>2041</th>\n      <td>0.373675</td>\n    </tr>\n    <tr>\n      <th>2042</th>\n      <td>0.37296</td>\n    </tr>\n    <tr>\n      <th>2043</th>\n      <td>0.372245</td>\n    </tr>\n    <tr>\n      <th>2044</th>\n      <td>0.37153</td>\n    </tr>\n    <tr>\n      <th>2045</th>\n      <td>0.370815</td>\n    </tr>\n    <tr>\n      <th>2046</th>\n      <td>0.3701</td>\n    </tr>\n    <tr>\n      <th>2047</th>\n      <td>0.369385</td>\n    </tr>\n    <tr>\n      <th>2048</th>\n      <td>0.36867</td>\n    </tr>\n    <tr>\n      <th>2049</th>\n      <td>0.367955</td>\n    </tr>\n    <tr>\n      <th>2050</th>\n      <td>0.36724</td>\n    </tr>\n  </tbody>\n</table>\n</div>"
     },
     "execution_count": 346,
     "metadata": {},
     "output_type": "execute_result"
    }
   ],
   "source": [
    "years = np.arange(2025, 2051)\n",
    "result = pd.DataFrame(index=years, columns=['New_Pipeline_costs_off'])\n",
    "result.index.name = 'Years'\n",
    "\n",
    "for year in years:\n",
    "    p_el_y = float(el_price.loc['Electricity prices in Norway [€_2021/MWh]'][year])\n",
    "\n",
    "    result.New_Pipeline_costs_off.loc[year] = calculate_off_pipe_new()\n",
    "\n",
    "result"
   ],
   "metadata": {
    "collapsed": false,
    "pycharm": {
     "name": "#%%\n"
    }
   }
  },
  {
   "cell_type": "code",
   "execution_count": 347,
   "outputs": [],
   "source": [
    "New_Pipeline_costs_off = result"
   ],
   "metadata": {
    "collapsed": false,
    "pycharm": {
     "name": "#%%\n"
    }
   }
  },
  {
   "cell_type": "markdown",
   "source": [
    "## Sensitivity"
   ],
   "metadata": {
    "collapsed": false,
    "pycharm": {
     "name": "#%% md\n"
    }
   }
  },
  {
   "cell_type": "code",
   "execution_count": 348,
   "outputs": [],
   "source": [
    "year = 2030\n",
    "p_el_y = float(el_price.loc['Electricity prices in Norway [€_2021/MWh]'][year])"
   ],
   "metadata": {
    "collapsed": false,
    "pycharm": {
     "name": "#%%\n"
    }
   }
  },
  {
   "cell_type": "code",
   "execution_count": 379,
   "outputs": [],
   "source": [
    "sensitivity = []\n",
    "\n",
    "def calculate_off_pipe_retrofit_sensi():\n",
    "    for x in range (21):\n",
    "        factor = x/10\n",
    "\n",
    "        result = (((alpha * capex_retrofit_off / pipe_use + opex_retrofit_off) + (capa_comp * pipe_use * 8760 * p_el_y * factor/ capa_pipe)) * d_off) / 1000\n",
    "\n",
    "        sensitivity.append(result)\n",
    "\n",
    "    return sensitivity"
   ],
   "metadata": {
    "collapsed": false,
    "pycharm": {
     "name": "#%%\n"
    }
   }
  },
  {
   "cell_type": "code",
   "execution_count": 380,
   "outputs": [
    {
     "data": {
      "text/plain": "[0.09051807389647931,\n 0.09237038864647931,\n 0.09422270339647931,\n 0.09607501814647933,\n 0.09792733289647931,\n 0.0997796476464793,\n 0.10163196239647931,\n 0.1034842771464793,\n 0.1053365918964793,\n 0.10718890664647931,\n 0.10904122139647932,\n 0.1108935361464793,\n 0.11274585089647932,\n 0.11459816564647932,\n 0.1164504803964793,\n 0.11830279514647933,\n 0.1201551098964793,\n 0.1220074246464793,\n 0.12385973939647932,\n 0.1257120541464793,\n 0.12756436889647932]"
     },
     "execution_count": 380,
     "metadata": {},
     "output_type": "execute_result"
    }
   ],
   "source": [
    "calculate_off_pipe_retrofit_sensi()"
   ],
   "metadata": {
    "collapsed": false,
    "pycharm": {
     "name": "#%%\n"
    }
   }
  },
  {
   "cell_type": "code",
   "execution_count": 381,
   "outputs": [
    {
     "data": {
      "text/plain": "             Retrofit pipeline transport costs [€/kg H2]\nChange in %                                             \n0                                               0.090518\n1                                               0.092370\n2                                               0.094223\n3                                               0.096075\n4                                               0.097927\n5                                               0.099780\n6                                               0.101632\n7                                               0.103484\n8                                               0.105337\n9                                               0.107189\n10                                              0.109041\n11                                              0.110894\n12                                              0.112746\n13                                              0.114598\n14                                              0.116450\n15                                              0.118303\n16                                              0.120155\n17                                              0.122007\n18                                              0.123860\n19                                              0.125712\n20                                              0.127564",
      "text/html": "<div>\n<style scoped>\n    .dataframe tbody tr th:only-of-type {\n        vertical-align: middle;\n    }\n\n    .dataframe tbody tr th {\n        vertical-align: top;\n    }\n\n    .dataframe thead th {\n        text-align: right;\n    }\n</style>\n<table border=\"1\" class=\"dataframe\">\n  <thead>\n    <tr style=\"text-align: right;\">\n      <th></th>\n      <th>Retrofit pipeline transport costs [€/kg H2]</th>\n    </tr>\n    <tr>\n      <th>Change in %</th>\n      <th></th>\n    </tr>\n  </thead>\n  <tbody>\n    <tr>\n      <th>0</th>\n      <td>0.090518</td>\n    </tr>\n    <tr>\n      <th>1</th>\n      <td>0.092370</td>\n    </tr>\n    <tr>\n      <th>2</th>\n      <td>0.094223</td>\n    </tr>\n    <tr>\n      <th>3</th>\n      <td>0.096075</td>\n    </tr>\n    <tr>\n      <th>4</th>\n      <td>0.097927</td>\n    </tr>\n    <tr>\n      <th>5</th>\n      <td>0.099780</td>\n    </tr>\n    <tr>\n      <th>6</th>\n      <td>0.101632</td>\n    </tr>\n    <tr>\n      <th>7</th>\n      <td>0.103484</td>\n    </tr>\n    <tr>\n      <th>8</th>\n      <td>0.105337</td>\n    </tr>\n    <tr>\n      <th>9</th>\n      <td>0.107189</td>\n    </tr>\n    <tr>\n      <th>10</th>\n      <td>0.109041</td>\n    </tr>\n    <tr>\n      <th>11</th>\n      <td>0.110894</td>\n    </tr>\n    <tr>\n      <th>12</th>\n      <td>0.112746</td>\n    </tr>\n    <tr>\n      <th>13</th>\n      <td>0.114598</td>\n    </tr>\n    <tr>\n      <th>14</th>\n      <td>0.116450</td>\n    </tr>\n    <tr>\n      <th>15</th>\n      <td>0.118303</td>\n    </tr>\n    <tr>\n      <th>16</th>\n      <td>0.120155</td>\n    </tr>\n    <tr>\n      <th>17</th>\n      <td>0.122007</td>\n    </tr>\n    <tr>\n      <th>18</th>\n      <td>0.123860</td>\n    </tr>\n    <tr>\n      <th>19</th>\n      <td>0.125712</td>\n    </tr>\n    <tr>\n      <th>20</th>\n      <td>0.127564</td>\n    </tr>\n  </tbody>\n</table>\n</div>"
     },
     "execution_count": 381,
     "metadata": {},
     "output_type": "execute_result"
    }
   ],
   "source": [
    "retro_pipe_sensi_P_el = pd.DataFrame(sensitivity, range(21), columns=['Retrofit pipeline transport costs [€/kg H2]'])\n",
    "retro_pipe_sensi_P_el.index.name = 'Change in %'\n",
    "retro_pipe_sensi_P_el"
   ],
   "metadata": {
    "collapsed": false,
    "pycharm": {
     "name": "#%%\n"
    }
   }
  },
  {
   "cell_type": "code",
   "execution_count": 382,
   "outputs": [],
   "source": [
    "# Create csv file from results dataframe\n",
    "output_file = os.path.join(path_csv, 'retro_pipe_sensi_P_el.csv')\n",
    "retro_pipe_sensi_P_el.to_csv(output_file, sep=';')"
   ],
   "metadata": {
    "collapsed": false,
    "pycharm": {
     "name": "#%%\n"
    }
   }
  },
  {
   "cell_type": "markdown",
   "source": [
    "### Transport distance sensi"
   ],
   "metadata": {
    "collapsed": false,
    "pycharm": {
     "name": "#%% md\n"
    }
   }
  },
  {
   "cell_type": "code",
   "execution_count": 353,
   "outputs": [],
   "source": [
    "transport_distance = np.arange(0,10001, 500)\n",
    "sensitivity = []\n",
    "def calculate_off_pipe_retrofit_sensi_distance():\n",
    "    for d_off in transport_distance:\n",
    "\n",
    "        result = (((alpha * capex_retrofit_off / pipe_use + opex_retrofit_off) + (capa_comp * pipe_use * 8760 * p_el_y / capa_pipe)) * d_off) / 1000\n",
    "\n",
    "        sensitivity.append(result)\n",
    "\n",
    "    return sensitivity"
   ],
   "metadata": {
    "collapsed": false,
    "pycharm": {
     "name": "#%%\n"
    }
   }
  },
  {
   "cell_type": "code",
   "execution_count": 354,
   "outputs": [
    {
     "data": {
      "text/plain": "[0.0,\n 0.0838778626126764,\n 0.1677557252253528,\n 0.2516335878380292,\n 0.3355114504507056,\n 0.41938931306338195,\n 0.5032671756760584,\n 0.5871450382887348,\n 0.6710229009014111,\n 0.7549007635140875,\n 0.8387786261267639,\n 0.9226564887394403,\n 1.0065343513521168,\n 1.0904122139647932,\n 1.1742900765774695,\n 1.258167939190146,\n 1.3420458018028223,\n 1.4259236644154987,\n 1.509801527028175,\n 1.5936793896408514,\n 1.6775572522535278]"
     },
     "execution_count": 354,
     "metadata": {},
     "output_type": "execute_result"
    }
   ],
   "source": [
    "calculate_off_pipe_retrofit_sensi_distance()"
   ],
   "metadata": {
    "collapsed": false,
    "pycharm": {
     "name": "#%%\n"
    }
   }
  },
  {
   "cell_type": "code",
   "execution_count": 355,
   "outputs": [
    {
     "data": {
      "text/plain": "                          Retrofit pipeline transport costs [€/kg H2]\nTransport distance in km                                             \n0                                                            0.000000\n500                                                          0.083878\n1000                                                         0.167756\n1500                                                         0.251634\n2000                                                         0.335511\n2500                                                         0.419389\n3000                                                         0.503267\n3500                                                         0.587145\n4000                                                         0.671023\n4500                                                         0.754901\n5000                                                         0.838779\n5500                                                         0.922656\n6000                                                         1.006534\n6500                                                         1.090412\n7000                                                         1.174290\n7500                                                         1.258168\n8000                                                         1.342046\n8500                                                         1.425924\n9000                                                         1.509802\n9500                                                         1.593679\n10000                                                        1.677557",
      "text/html": "<div>\n<style scoped>\n    .dataframe tbody tr th:only-of-type {\n        vertical-align: middle;\n    }\n\n    .dataframe tbody tr th {\n        vertical-align: top;\n    }\n\n    .dataframe thead th {\n        text-align: right;\n    }\n</style>\n<table border=\"1\" class=\"dataframe\">\n  <thead>\n    <tr style=\"text-align: right;\">\n      <th></th>\n      <th>Retrofit pipeline transport costs [€/kg H2]</th>\n    </tr>\n    <tr>\n      <th>Transport distance in km</th>\n      <th></th>\n    </tr>\n  </thead>\n  <tbody>\n    <tr>\n      <th>0</th>\n      <td>0.000000</td>\n    </tr>\n    <tr>\n      <th>500</th>\n      <td>0.083878</td>\n    </tr>\n    <tr>\n      <th>1000</th>\n      <td>0.167756</td>\n    </tr>\n    <tr>\n      <th>1500</th>\n      <td>0.251634</td>\n    </tr>\n    <tr>\n      <th>2000</th>\n      <td>0.335511</td>\n    </tr>\n    <tr>\n      <th>2500</th>\n      <td>0.419389</td>\n    </tr>\n    <tr>\n      <th>3000</th>\n      <td>0.503267</td>\n    </tr>\n    <tr>\n      <th>3500</th>\n      <td>0.587145</td>\n    </tr>\n    <tr>\n      <th>4000</th>\n      <td>0.671023</td>\n    </tr>\n    <tr>\n      <th>4500</th>\n      <td>0.754901</td>\n    </tr>\n    <tr>\n      <th>5000</th>\n      <td>0.838779</td>\n    </tr>\n    <tr>\n      <th>5500</th>\n      <td>0.922656</td>\n    </tr>\n    <tr>\n      <th>6000</th>\n      <td>1.006534</td>\n    </tr>\n    <tr>\n      <th>6500</th>\n      <td>1.090412</td>\n    </tr>\n    <tr>\n      <th>7000</th>\n      <td>1.174290</td>\n    </tr>\n    <tr>\n      <th>7500</th>\n      <td>1.258168</td>\n    </tr>\n    <tr>\n      <th>8000</th>\n      <td>1.342046</td>\n    </tr>\n    <tr>\n      <th>8500</th>\n      <td>1.425924</td>\n    </tr>\n    <tr>\n      <th>9000</th>\n      <td>1.509802</td>\n    </tr>\n    <tr>\n      <th>9500</th>\n      <td>1.593679</td>\n    </tr>\n    <tr>\n      <th>10000</th>\n      <td>1.677557</td>\n    </tr>\n  </tbody>\n</table>\n</div>"
     },
     "execution_count": 355,
     "metadata": {},
     "output_type": "execute_result"
    }
   ],
   "source": [
    "retro_pipe_sensi_distance = pd.DataFrame(sensitivity, transport_distance, columns=['Retrofit pipeline transport costs [€/kg H2]'])\n",
    "retro_pipe_sensi_distance.index.name = 'Transport distance in km'\n",
    "retro_pipe_sensi_distance"
   ],
   "metadata": {
    "collapsed": false,
    "pycharm": {
     "name": "#%%\n"
    }
   }
  },
  {
   "cell_type": "code",
   "execution_count": 356,
   "outputs": [],
   "source": [
    "# Create csv file from results dataframe\n",
    "output_file = os.path.join(path_csv, 'retro_pipe_sensi_distance.csv')\n",
    "retro_pipe_sensi_distance.to_csv(output_file, sep=';')"
   ],
   "metadata": {
    "collapsed": false,
    "pycharm": {
     "name": "#%%\n"
    }
   }
  },
  {
   "cell_type": "markdown",
   "source": [
    "# Retrofit offshore pipeline cost"
   ],
   "metadata": {
    "collapsed": false,
    "pycharm": {
     "name": "#%% md\n"
    }
   }
  },
  {
   "cell_type": "code",
   "execution_count": 357,
   "outputs": [
    {
     "data": {
      "text/plain": "0.01804"
     },
     "execution_count": 357,
     "metadata": {},
     "output_type": "execute_result"
    }
   ],
   "source": [
    "#Retrofit  capex in [€/kg/100km]\n",
    "capex_pipe_retrofit_off_EHB = float(tea_pipe.loc['Medium - retrofit Offshore (EHB 2022) Capex Pipeline [€/kg/1000km]']['Parameter'])\n",
    "capex_pipe_retrofit_off_EHB\n",
    "#Compression capex in [€/kg/100km]\n",
    "capex_comp_retrofit_off_EHB = float(tea_pipe.loc['Medium - retrofit Offshore (EHB 2022) Capex Compression [€/kg/1000km]']['Parameter'])\n",
    "capex_comp_retrofit_off_EHB\n",
    "\n",
    "capex_retrofit_off = capex_pipe_retrofit_off_EHB + capex_comp_retrofit_off_EHB\n",
    "capex_retrofit_off\n",
    "\n",
    "opex_retrofit_off = capex_pipe_retrofit_off_EHB * pipe_opex_share + capex_comp_retrofit_off_EHB * comp_opex_share\n",
    "opex_retrofit_off"
   ],
   "metadata": {
    "collapsed": false,
    "pycharm": {
     "name": "#%%\n"
    }
   }
  },
  {
   "cell_type": "markdown",
   "source": [
    "## Calc. offshore retrofit pipeline costs"
   ],
   "metadata": {
    "collapsed": false,
    "pycharm": {
     "name": "#%% md\n"
    }
   }
  },
  {
   "cell_type": "code",
   "execution_count": 358,
   "outputs": [],
   "source": [
    "# Costs for new pipeline transport [€/kg]\n",
    "#alpha, capex_pipe_new_on_EHB, capex_comp_new_on_EHB, d_on, d_off, capex_pipe_new_off_EHB, capex_comp_new_off_EHB, capa_comp, pipe_use, capa_pipe\n",
    "def calculate_off_pipe_retrofit():\n",
    "    result = (((alpha * capex_retrofit_off / pipe_use + opex_retrofit_off) + (\n",
    "                capa_comp * pipe_use * 8760 * p_el_y / capa_pipe)) * d_off) / 1000\n",
    "    return result"
   ],
   "metadata": {
    "collapsed": false,
    "pycharm": {
     "name": "#%%\n"
    }
   }
  },
  {
   "cell_type": "code",
   "execution_count": 359,
   "outputs": [
    {
     "data": {
      "text/plain": "      Retrofit_pipeline_costs_off\nYears                            \n2025                     0.101892\n2026                     0.103322\n2027                     0.104752\n2028                     0.106182\n2029                     0.107611\n2030                     0.109041\n2031                     0.109106\n2032                     0.109171\n2033                     0.109236\n2034                     0.109301\n2035                     0.109366\n2036                     0.109431\n2037                     0.109496\n2038                     0.109561\n2039                     0.109626\n2040                     0.109691\n2041                     0.108976\n2042                     0.108261\n2043                     0.107546\n2044                     0.106831\n2045                     0.106117\n2046                     0.105402\n2047                     0.104687\n2048                     0.103972\n2049                     0.103257\n2050                     0.102542",
      "text/html": "<div>\n<style scoped>\n    .dataframe tbody tr th:only-of-type {\n        vertical-align: middle;\n    }\n\n    .dataframe tbody tr th {\n        vertical-align: top;\n    }\n\n    .dataframe thead th {\n        text-align: right;\n    }\n</style>\n<table border=\"1\" class=\"dataframe\">\n  <thead>\n    <tr style=\"text-align: right;\">\n      <th></th>\n      <th>Retrofit_pipeline_costs_off</th>\n    </tr>\n    <tr>\n      <th>Years</th>\n      <th></th>\n    </tr>\n  </thead>\n  <tbody>\n    <tr>\n      <th>2025</th>\n      <td>0.101892</td>\n    </tr>\n    <tr>\n      <th>2026</th>\n      <td>0.103322</td>\n    </tr>\n    <tr>\n      <th>2027</th>\n      <td>0.104752</td>\n    </tr>\n    <tr>\n      <th>2028</th>\n      <td>0.106182</td>\n    </tr>\n    <tr>\n      <th>2029</th>\n      <td>0.107611</td>\n    </tr>\n    <tr>\n      <th>2030</th>\n      <td>0.109041</td>\n    </tr>\n    <tr>\n      <th>2031</th>\n      <td>0.109106</td>\n    </tr>\n    <tr>\n      <th>2032</th>\n      <td>0.109171</td>\n    </tr>\n    <tr>\n      <th>2033</th>\n      <td>0.109236</td>\n    </tr>\n    <tr>\n      <th>2034</th>\n      <td>0.109301</td>\n    </tr>\n    <tr>\n      <th>2035</th>\n      <td>0.109366</td>\n    </tr>\n    <tr>\n      <th>2036</th>\n      <td>0.109431</td>\n    </tr>\n    <tr>\n      <th>2037</th>\n      <td>0.109496</td>\n    </tr>\n    <tr>\n      <th>2038</th>\n      <td>0.109561</td>\n    </tr>\n    <tr>\n      <th>2039</th>\n      <td>0.109626</td>\n    </tr>\n    <tr>\n      <th>2040</th>\n      <td>0.109691</td>\n    </tr>\n    <tr>\n      <th>2041</th>\n      <td>0.108976</td>\n    </tr>\n    <tr>\n      <th>2042</th>\n      <td>0.108261</td>\n    </tr>\n    <tr>\n      <th>2043</th>\n      <td>0.107546</td>\n    </tr>\n    <tr>\n      <th>2044</th>\n      <td>0.106831</td>\n    </tr>\n    <tr>\n      <th>2045</th>\n      <td>0.106117</td>\n    </tr>\n    <tr>\n      <th>2046</th>\n      <td>0.105402</td>\n    </tr>\n    <tr>\n      <th>2047</th>\n      <td>0.104687</td>\n    </tr>\n    <tr>\n      <th>2048</th>\n      <td>0.103972</td>\n    </tr>\n    <tr>\n      <th>2049</th>\n      <td>0.103257</td>\n    </tr>\n    <tr>\n      <th>2050</th>\n      <td>0.102542</td>\n    </tr>\n  </tbody>\n</table>\n</div>"
     },
     "execution_count": 359,
     "metadata": {},
     "output_type": "execute_result"
    }
   ],
   "source": [
    "years = np.arange(2025, 2051)\n",
    "result = pd.DataFrame(index=years, columns=['Retrofit_pipeline_costs_off'])\n",
    "result.index.name = 'Years'\n",
    "\n",
    "for year in years:\n",
    "    p_el_y = float(el_price.loc['Electricity prices in Norway [€_2021/MWh]'][year])\n",
    "\n",
    "    result.Retrofit_pipeline_costs_off.loc[year] = calculate_off_pipe_retrofit()\n",
    "\n",
    "result"
   ],
   "metadata": {
    "collapsed": false,
    "pycharm": {
     "name": "#%%\n"
    }
   }
  },
  {
   "cell_type": "code",
   "execution_count": 360,
   "outputs": [],
   "source": [
    "Retrofit_pipeline_costs_off = result"
   ],
   "metadata": {
    "collapsed": false,
    "pycharm": {
     "name": "#%%\n"
    }
   }
  },
  {
   "cell_type": "markdown",
   "source": [
    "## Sensitivity"
   ],
   "metadata": {
    "collapsed": false,
    "pycharm": {
     "name": "#%% md\n"
    }
   }
  },
  {
   "cell_type": "code",
   "execution_count": 361,
   "outputs": [],
   "source": [
    "year = 2030\n",
    "p_el_y = float(el_price.loc['Electricity prices in Norway [€_2021/MWh]'][year])"
   ],
   "metadata": {
    "collapsed": false,
    "pycharm": {
     "name": "#%%\n"
    }
   }
  },
  {
   "cell_type": "code",
   "execution_count": 383,
   "outputs": [],
   "source": [
    "sensitivity = []\n",
    "\n",
    "def calculate_off_pipe_new_sensi():\n",
    "    for x in range (21):\n",
    "        factor = x/10\n",
    "\n",
    "        result = ((alpha * capex_new_off / pipe_use + opex_new_off) + (capa_comp * pipe_use * 8760 * p_el_y * factor/ capa_pipe)) * d_off / 1000\n",
    "\n",
    "        sensitivity.append(result)\n",
    "\n",
    "    return sensitivity"
   ],
   "metadata": {
    "collapsed": false,
    "pycharm": {
     "name": "#%%\n"
    }
   }
  },
  {
   "cell_type": "code",
   "execution_count": 384,
   "outputs": [
    {
     "data": {
      "text/plain": "[0.3552163545085696,\n 0.35706866925856956,\n 0.3589209840085696,\n 0.3607732987585696,\n 0.3626256135085696,\n 0.3644779282585696,\n 0.36633024300856953,\n 0.3681825577585696,\n 0.3700348725085696,\n 0.3718871872585696,\n 0.37373950200856954,\n 0.37559181675856956,\n 0.37744413150856965,\n 0.37929644625856956,\n 0.3811487610085696,\n 0.38300107575856956,\n 0.3848533905085696,\n 0.3867057052585696,\n 0.3885580200085696,\n 0.39041033475856957,\n 0.39226264950856954]"
     },
     "execution_count": 384,
     "metadata": {},
     "output_type": "execute_result"
    }
   ],
   "source": [
    "calculate_off_pipe_new_sensi()"
   ],
   "metadata": {
    "collapsed": false,
    "pycharm": {
     "name": "#%%\n"
    }
   }
  },
  {
   "cell_type": "code",
   "execution_count": 385,
   "outputs": [
    {
     "data": {
      "text/plain": "             New pipeline transport costs [€/kg H2]\nChange in %                                        \n0                                          0.355216\n1                                          0.357069\n2                                          0.358921\n3                                          0.360773\n4                                          0.362626\n5                                          0.364478\n6                                          0.366330\n7                                          0.368183\n8                                          0.370035\n9                                          0.371887\n10                                         0.373740\n11                                         0.375592\n12                                         0.377444\n13                                         0.379296\n14                                         0.381149\n15                                         0.383001\n16                                         0.384853\n17                                         0.386706\n18                                         0.388558\n19                                         0.390410\n20                                         0.392263",
      "text/html": "<div>\n<style scoped>\n    .dataframe tbody tr th:only-of-type {\n        vertical-align: middle;\n    }\n\n    .dataframe tbody tr th {\n        vertical-align: top;\n    }\n\n    .dataframe thead th {\n        text-align: right;\n    }\n</style>\n<table border=\"1\" class=\"dataframe\">\n  <thead>\n    <tr style=\"text-align: right;\">\n      <th></th>\n      <th>New pipeline transport costs [€/kg H2]</th>\n    </tr>\n    <tr>\n      <th>Change in %</th>\n      <th></th>\n    </tr>\n  </thead>\n  <tbody>\n    <tr>\n      <th>0</th>\n      <td>0.355216</td>\n    </tr>\n    <tr>\n      <th>1</th>\n      <td>0.357069</td>\n    </tr>\n    <tr>\n      <th>2</th>\n      <td>0.358921</td>\n    </tr>\n    <tr>\n      <th>3</th>\n      <td>0.360773</td>\n    </tr>\n    <tr>\n      <th>4</th>\n      <td>0.362626</td>\n    </tr>\n    <tr>\n      <th>5</th>\n      <td>0.364478</td>\n    </tr>\n    <tr>\n      <th>6</th>\n      <td>0.366330</td>\n    </tr>\n    <tr>\n      <th>7</th>\n      <td>0.368183</td>\n    </tr>\n    <tr>\n      <th>8</th>\n      <td>0.370035</td>\n    </tr>\n    <tr>\n      <th>9</th>\n      <td>0.371887</td>\n    </tr>\n    <tr>\n      <th>10</th>\n      <td>0.373740</td>\n    </tr>\n    <tr>\n      <th>11</th>\n      <td>0.375592</td>\n    </tr>\n    <tr>\n      <th>12</th>\n      <td>0.377444</td>\n    </tr>\n    <tr>\n      <th>13</th>\n      <td>0.379296</td>\n    </tr>\n    <tr>\n      <th>14</th>\n      <td>0.381149</td>\n    </tr>\n    <tr>\n      <th>15</th>\n      <td>0.383001</td>\n    </tr>\n    <tr>\n      <th>16</th>\n      <td>0.384853</td>\n    </tr>\n    <tr>\n      <th>17</th>\n      <td>0.386706</td>\n    </tr>\n    <tr>\n      <th>18</th>\n      <td>0.388558</td>\n    </tr>\n    <tr>\n      <th>19</th>\n      <td>0.390410</td>\n    </tr>\n    <tr>\n      <th>20</th>\n      <td>0.392263</td>\n    </tr>\n  </tbody>\n</table>\n</div>"
     },
     "execution_count": 385,
     "metadata": {},
     "output_type": "execute_result"
    }
   ],
   "source": [
    "new_pipe_sensi_P_el = pd.DataFrame(sensitivity, range(21), columns=['New pipeline transport costs [€/kg H2]'])\n",
    "new_pipe_sensi_P_el.index.name = 'Change in %'\n",
    "new_pipe_sensi_P_el"
   ],
   "metadata": {
    "collapsed": false,
    "pycharm": {
     "name": "#%%\n"
    }
   }
  },
  {
   "cell_type": "code",
   "execution_count": 365,
   "outputs": [],
   "source": [
    "# Create csv file from results dataframe\n",
    "output_file = os.path.join(path_csv, 'new_pipe_sensi_P_el.csv')\n",
    "new_pipe_sensi_P_el.to_csv(output_file, sep=';')"
   ],
   "metadata": {
    "collapsed": false,
    "pycharm": {
     "name": "#%%\n"
    }
   }
  },
  {
   "cell_type": "markdown",
   "source": [
    "### Transport distance sensi"
   ],
   "metadata": {
    "collapsed": false,
    "pycharm": {
     "name": "#%% md\n"
    }
   }
  },
  {
   "cell_type": "code",
   "execution_count": 366,
   "outputs": [],
   "source": [
    "year = 2030\n",
    "p_el_y = float(el_price.loc['Electricity prices in Norway [€_2021/MWh]'][year])"
   ],
   "metadata": {
    "collapsed": false,
    "pycharm": {
     "name": "#%%\n"
    }
   }
  },
  {
   "cell_type": "code",
   "execution_count": 373,
   "outputs": [],
   "source": [
    "transport_distance = np.arange(0,10001, 500)\n",
    "sensitivity = []\n",
    "def calculate_off_pipe_retrofit_sensi_distance():\n",
    "    for d_off in transport_distance:\n",
    "\n",
    "        result = ((alpha * capex_new_off / pipe_use + opex_new_off)\n",
    "                  + (capa_comp * pipe_use * 8760 * p_el_y / capa_pipe)) * d_off / 1000\n",
    "\n",
    "        #result = (((alpha * capex_retrofit_off / pipe_use + opex_retrofit_off) + (capa_comp * pipe_use * 8760 * p_el_y / capa_pipe)) * d_off) / 1000\n",
    "        sensitivity.append(result)\n",
    "\n",
    "    return sensitivity"
   ],
   "metadata": {
    "collapsed": false,
    "pycharm": {
     "name": "#%%\n"
    }
   }
  },
  {
   "cell_type": "code",
   "execution_count": 374,
   "outputs": [
    {
     "data": {
      "text/plain": "[0.0,\n 0.2874919246219766,\n 0.5749838492439532,\n 0.8624757738659298,\n 1.1499676984879064,\n 1.437459623109883,\n 1.7249515477318595,\n 2.0124434723538362,\n 2.2999353969758127,\n 2.587427321597789,\n 2.874919246219766,\n 3.1624111708417426,\n 3.449903095463719,\n 3.7373950200856956,\n 4.0248869447076725,\n 4.312378869329649,\n 4.5998707939516255,\n 4.887362718573602,\n 5.174854643195578,\n 5.462346567817555,\n 5.749838492439532]"
     },
     "execution_count": 374,
     "metadata": {},
     "output_type": "execute_result"
    }
   ],
   "source": [
    "calculate_off_pipe_retrofit_sensi_distance()"
   ],
   "metadata": {
    "collapsed": false,
    "pycharm": {
     "name": "#%%\n"
    }
   }
  },
  {
   "cell_type": "code",
   "execution_count": 375,
   "outputs": [
    {
     "data": {
      "text/plain": "                          New pipeline transport costs [€/kg H2]\nTransport distance in km                                        \n0                                                       0.000000\n500                                                     0.287492\n1000                                                    0.574984\n1500                                                    0.862476\n2000                                                    1.149968\n2500                                                    1.437460\n3000                                                    1.724952\n3500                                                    2.012443\n4000                                                    2.299935\n4500                                                    2.587427\n5000                                                    2.874919\n5500                                                    3.162411\n6000                                                    3.449903\n6500                                                    3.737395\n7000                                                    4.024887\n7500                                                    4.312379\n8000                                                    4.599871\n8500                                                    4.887363\n9000                                                    5.174855\n9500                                                    5.462347\n10000                                                   5.749838",
      "text/html": "<div>\n<style scoped>\n    .dataframe tbody tr th:only-of-type {\n        vertical-align: middle;\n    }\n\n    .dataframe tbody tr th {\n        vertical-align: top;\n    }\n\n    .dataframe thead th {\n        text-align: right;\n    }\n</style>\n<table border=\"1\" class=\"dataframe\">\n  <thead>\n    <tr style=\"text-align: right;\">\n      <th></th>\n      <th>New pipeline transport costs [€/kg H2]</th>\n    </tr>\n    <tr>\n      <th>Transport distance in km</th>\n      <th></th>\n    </tr>\n  </thead>\n  <tbody>\n    <tr>\n      <th>0</th>\n      <td>0.000000</td>\n    </tr>\n    <tr>\n      <th>500</th>\n      <td>0.287492</td>\n    </tr>\n    <tr>\n      <th>1000</th>\n      <td>0.574984</td>\n    </tr>\n    <tr>\n      <th>1500</th>\n      <td>0.862476</td>\n    </tr>\n    <tr>\n      <th>2000</th>\n      <td>1.149968</td>\n    </tr>\n    <tr>\n      <th>2500</th>\n      <td>1.437460</td>\n    </tr>\n    <tr>\n      <th>3000</th>\n      <td>1.724952</td>\n    </tr>\n    <tr>\n      <th>3500</th>\n      <td>2.012443</td>\n    </tr>\n    <tr>\n      <th>4000</th>\n      <td>2.299935</td>\n    </tr>\n    <tr>\n      <th>4500</th>\n      <td>2.587427</td>\n    </tr>\n    <tr>\n      <th>5000</th>\n      <td>2.874919</td>\n    </tr>\n    <tr>\n      <th>5500</th>\n      <td>3.162411</td>\n    </tr>\n    <tr>\n      <th>6000</th>\n      <td>3.449903</td>\n    </tr>\n    <tr>\n      <th>6500</th>\n      <td>3.737395</td>\n    </tr>\n    <tr>\n      <th>7000</th>\n      <td>4.024887</td>\n    </tr>\n    <tr>\n      <th>7500</th>\n      <td>4.312379</td>\n    </tr>\n    <tr>\n      <th>8000</th>\n      <td>4.599871</td>\n    </tr>\n    <tr>\n      <th>8500</th>\n      <td>4.887363</td>\n    </tr>\n    <tr>\n      <th>9000</th>\n      <td>5.174855</td>\n    </tr>\n    <tr>\n      <th>9500</th>\n      <td>5.462347</td>\n    </tr>\n    <tr>\n      <th>10000</th>\n      <td>5.749838</td>\n    </tr>\n  </tbody>\n</table>\n</div>"
     },
     "execution_count": 375,
     "metadata": {},
     "output_type": "execute_result"
    }
   ],
   "source": [
    "new_pipe_sensi_distance = pd.DataFrame(sensitivity, transport_distance, columns=['New pipeline transport costs [€/kg H2]'])\n",
    "new_pipe_sensi_distance.index.name = 'Transport distance in km'\n",
    "new_pipe_sensi_distance"
   ],
   "metadata": {
    "collapsed": false,
    "pycharm": {
     "name": "#%%\n"
    }
   }
  },
  {
   "cell_type": "code",
   "execution_count": 314,
   "outputs": [],
   "source": [
    "# Create csv file from results dataframe\n",
    "output_file = os.path.join(path_csv, 'new_pipe_sensi_distance.csv')\n",
    "new_pipe_sensi_distance.to_csv(output_file, sep=';')"
   ],
   "metadata": {
    "collapsed": false,
    "pycharm": {
     "name": "#%%\n"
    }
   }
  },
  {
   "cell_type": "markdown",
   "source": [
    "# LH2 transport"
   ],
   "metadata": {
    "collapsed": false,
    "pycharm": {
     "name": "#%% md\n"
    }
   }
  },
  {
   "cell_type": "code",
   "execution_count": 37,
   "outputs": [
    {
     "data": {
      "text/plain": "                                                                                        Ref  \\\nProperties                                                                                    \nProperties - Gas density [kg/m3]                                                   BOG 2020   \nProperties - LHV [MJ/kg]                                                           BOG 2020   \nProperties - LHV [kWh/kg]                 https://www.iea-amf.org/content/fuel_informati...   \nProperties - LHV [kWh/m3]                  https://www.rechargenews.com/energy-transitio...   \nProperties - Boiling point at 1 Bar [°C]                                                NaN   \n...                                                                                     ...   \nCAPEX ($/kW-H2), incl. Util.                                                        EWI PTX   \nOPEX ($/kW-H2/a), incl. Util.                                                       EWI PTX   \nElectricity use (kWh/kWh-H2                                                         EWI PTX   \nUtilisation                                                                         EWI PTX   \nReconversion - Lifetime [Years]                                                     EWI PTX   \n\n                                            LH2      2020       2021  \\\nProperties                                                             \nProperties - Gas density [kg/m3]           71.1       NaN        NaN   \nProperties - LHV [MJ/kg]                    120       NaN        NaN   \nProperties - LHV [kWh/kg]                 33.33       NaN        NaN   \nProperties - LHV [kWh/m3]                  2350       NaN        NaN   \nProperties - Boiling point at 1 Bar [°C]   -253       NaN        NaN   \n...                                         ...       ...        ...   \nCAPEX ($/kW-H2), incl. Util.                NaN       NaN        NaN   \nOPEX ($/kW-H2/a), incl. Util.               NaN  57.69591  57.118951   \nElectricity use (kWh/kWh-H2                0.01   0.01000   0.010000   \nUtilisation                                 NaN   0.90000   0.900000   \nReconversion - Lifetime [Years]              30       NaN        NaN   \n\n                                               2022       2023       2024  \\\nProperties                                                                  \nProperties - Gas density [kg/m3]                NaN        NaN        NaN   \nProperties - LHV [MJ/kg]                        NaN        NaN        NaN   \nProperties - LHV [kWh/kg]                       NaN        NaN        NaN   \nProperties - LHV [kWh/m3]                       NaN        NaN        NaN   \nProperties - Boiling point at 1 Bar [°C]        NaN        NaN        NaN   \n...                                             ...        ...        ...   \nCAPEX ($/kW-H2), incl. Util.                    NaN        NaN        NaN   \nOPEX ($/kW-H2/a), incl. Util.             56.541992  55.965033  55.388074   \nElectricity use (kWh/kWh-H2                0.010000   0.010000   0.010000   \nUtilisation                                0.900000   0.900000   0.900000   \nReconversion - Lifetime [Years]                 NaN        NaN        NaN   \n\n                                               2025       2026       2027  \\\nProperties                                                                  \nProperties - Gas density [kg/m3]                NaN        NaN        NaN   \nProperties - LHV [MJ/kg]                        NaN        NaN        NaN   \nProperties - LHV [kWh/kg]                       NaN        NaN        NaN   \nProperties - LHV [kWh/m3]                       NaN        NaN        NaN   \nProperties - Boiling point at 1 Bar [°C]        NaN        NaN        NaN   \n...                                             ...        ...        ...   \nCAPEX ($/kW-H2), incl. Util.                    NaN        NaN        NaN   \nOPEX ($/kW-H2/a), incl. Util.             54.811115  54.234156  53.657197   \nElectricity use (kWh/kWh-H2                0.010000   0.010000   0.010000   \nUtilisation                                0.900000   0.900000   0.900000   \nReconversion - Lifetime [Years]                 NaN        NaN        NaN   \n\n                                          ...       2041       2042  \\\nProperties                                ...                         \nProperties - Gas density [kg/m3]          ...        NaN        NaN   \nProperties - LHV [MJ/kg]                  ...        NaN        NaN   \nProperties - LHV [kWh/kg]                 ...        NaN        NaN   \nProperties - LHV [kWh/m3]                 ...        NaN        NaN   \nProperties - Boiling point at 1 Bar [°C]  ...        NaN        NaN   \n...                                       ...        ...        ...   \nCAPEX ($/kW-H2), incl. Util.              ...        NaN        NaN   \nOPEX ($/kW-H2/a), incl. Util.             ...  37.646582  36.348424   \nElectricity use (kWh/kWh-H2               ...   0.010000   0.010000   \nUtilisation                               ...   0.900000   0.900000   \nReconversion - Lifetime [Years]           ...        NaN        NaN   \n\n                                               2043       2044      2045  \\\nProperties                                                                 \nProperties - Gas density [kg/m3]                NaN        NaN       NaN   \nProperties - LHV [MJ/kg]                        NaN        NaN       NaN   \nProperties - LHV [kWh/kg]                       NaN        NaN       NaN   \nProperties - LHV [kWh/m3]                       NaN        NaN       NaN   \nProperties - Boiling point at 1 Bar [°C]        NaN        NaN       NaN   \n...                                             ...        ...       ...   \nCAPEX ($/kW-H2), incl. Util.                    NaN        NaN       NaN   \nOPEX ($/kW-H2/a), incl. Util.             35.050266  33.752108  32.45395   \nElectricity use (kWh/kWh-H2                0.010000   0.010000   0.01000   \nUtilisation                                0.900000   0.900000   0.90000   \nReconversion - Lifetime [Years]                 NaN        NaN       NaN   \n\n                                               2046       2047       2048  \\\nProperties                                                                  \nProperties - Gas density [kg/m3]                NaN        NaN        NaN   \nProperties - LHV [MJ/kg]                        NaN        NaN        NaN   \nProperties - LHV [kWh/kg]                       NaN        NaN        NaN   \nProperties - LHV [kWh/m3]                       NaN        NaN        NaN   \nProperties - Boiling point at 1 Bar [°C]        NaN        NaN        NaN   \n...                                             ...        ...        ...   \nCAPEX ($/kW-H2), incl. Util.                    NaN        NaN        NaN   \nOPEX ($/kW-H2/a), incl. Util.             31.155792  29.857634  28.559476   \nElectricity use (kWh/kWh-H2                0.010000   0.010000   0.010000   \nUtilisation                                0.900000   0.900000   0.900000   \nReconversion - Lifetime [Years]                 NaN        NaN        NaN   \n\n                                               2049      2050  \nProperties                                                     \nProperties - Gas density [kg/m3]                NaN       NaN  \nProperties - LHV [MJ/kg]                        NaN       NaN  \nProperties - LHV [kWh/kg]                       NaN       NaN  \nProperties - LHV [kWh/m3]                       NaN       NaN  \nProperties - Boiling point at 1 Bar [°C]        NaN       NaN  \n...                                             ...       ...  \nCAPEX ($/kW-H2), incl. Util.                    NaN       NaN  \nOPEX ($/kW-H2/a), incl. Util.             27.261318  25.96316  \nElectricity use (kWh/kWh-H2                0.010000   0.01000  \nUtilisation                                0.900000   0.90000  \nReconversion - Lifetime [Years]                 NaN       NaN  \n\n[121 rows x 33 columns]",
      "text/html": "<div>\n<style scoped>\n    .dataframe tbody tr th:only-of-type {\n        vertical-align: middle;\n    }\n\n    .dataframe tbody tr th {\n        vertical-align: top;\n    }\n\n    .dataframe thead th {\n        text-align: right;\n    }\n</style>\n<table border=\"1\" class=\"dataframe\">\n  <thead>\n    <tr style=\"text-align: right;\">\n      <th></th>\n      <th>Ref</th>\n      <th>LH2</th>\n      <th>2020</th>\n      <th>2021</th>\n      <th>2022</th>\n      <th>2023</th>\n      <th>2024</th>\n      <th>2025</th>\n      <th>2026</th>\n      <th>2027</th>\n      <th>...</th>\n      <th>2041</th>\n      <th>2042</th>\n      <th>2043</th>\n      <th>2044</th>\n      <th>2045</th>\n      <th>2046</th>\n      <th>2047</th>\n      <th>2048</th>\n      <th>2049</th>\n      <th>2050</th>\n    </tr>\n    <tr>\n      <th>Properties</th>\n      <th></th>\n      <th></th>\n      <th></th>\n      <th></th>\n      <th></th>\n      <th></th>\n      <th></th>\n      <th></th>\n      <th></th>\n      <th></th>\n      <th></th>\n      <th></th>\n      <th></th>\n      <th></th>\n      <th></th>\n      <th></th>\n      <th></th>\n      <th></th>\n      <th></th>\n      <th></th>\n      <th></th>\n    </tr>\n  </thead>\n  <tbody>\n    <tr>\n      <th>Properties - Gas density [kg/m3]</th>\n      <td>BOG 2020</td>\n      <td>71.1</td>\n      <td>NaN</td>\n      <td>NaN</td>\n      <td>NaN</td>\n      <td>NaN</td>\n      <td>NaN</td>\n      <td>NaN</td>\n      <td>NaN</td>\n      <td>NaN</td>\n      <td>...</td>\n      <td>NaN</td>\n      <td>NaN</td>\n      <td>NaN</td>\n      <td>NaN</td>\n      <td>NaN</td>\n      <td>NaN</td>\n      <td>NaN</td>\n      <td>NaN</td>\n      <td>NaN</td>\n      <td>NaN</td>\n    </tr>\n    <tr>\n      <th>Properties - LHV [MJ/kg]</th>\n      <td>BOG 2020</td>\n      <td>120</td>\n      <td>NaN</td>\n      <td>NaN</td>\n      <td>NaN</td>\n      <td>NaN</td>\n      <td>NaN</td>\n      <td>NaN</td>\n      <td>NaN</td>\n      <td>NaN</td>\n      <td>...</td>\n      <td>NaN</td>\n      <td>NaN</td>\n      <td>NaN</td>\n      <td>NaN</td>\n      <td>NaN</td>\n      <td>NaN</td>\n      <td>NaN</td>\n      <td>NaN</td>\n      <td>NaN</td>\n      <td>NaN</td>\n    </tr>\n    <tr>\n      <th>Properties - LHV [kWh/kg]</th>\n      <td>https://www.iea-amf.org/content/fuel_informati...</td>\n      <td>33.33</td>\n      <td>NaN</td>\n      <td>NaN</td>\n      <td>NaN</td>\n      <td>NaN</td>\n      <td>NaN</td>\n      <td>NaN</td>\n      <td>NaN</td>\n      <td>NaN</td>\n      <td>...</td>\n      <td>NaN</td>\n      <td>NaN</td>\n      <td>NaN</td>\n      <td>NaN</td>\n      <td>NaN</td>\n      <td>NaN</td>\n      <td>NaN</td>\n      <td>NaN</td>\n      <td>NaN</td>\n      <td>NaN</td>\n    </tr>\n    <tr>\n      <th>Properties - LHV [kWh/m3]</th>\n      <td>https://www.rechargenews.com/energy-transitio...</td>\n      <td>2350</td>\n      <td>NaN</td>\n      <td>NaN</td>\n      <td>NaN</td>\n      <td>NaN</td>\n      <td>NaN</td>\n      <td>NaN</td>\n      <td>NaN</td>\n      <td>NaN</td>\n      <td>...</td>\n      <td>NaN</td>\n      <td>NaN</td>\n      <td>NaN</td>\n      <td>NaN</td>\n      <td>NaN</td>\n      <td>NaN</td>\n      <td>NaN</td>\n      <td>NaN</td>\n      <td>NaN</td>\n      <td>NaN</td>\n    </tr>\n    <tr>\n      <th>Properties - Boiling point at 1 Bar [°C]</th>\n      <td>NaN</td>\n      <td>-253</td>\n      <td>NaN</td>\n      <td>NaN</td>\n      <td>NaN</td>\n      <td>NaN</td>\n      <td>NaN</td>\n      <td>NaN</td>\n      <td>NaN</td>\n      <td>NaN</td>\n      <td>...</td>\n      <td>NaN</td>\n      <td>NaN</td>\n      <td>NaN</td>\n      <td>NaN</td>\n      <td>NaN</td>\n      <td>NaN</td>\n      <td>NaN</td>\n      <td>NaN</td>\n      <td>NaN</td>\n      <td>NaN</td>\n    </tr>\n    <tr>\n      <th>...</th>\n      <td>...</td>\n      <td>...</td>\n      <td>...</td>\n      <td>...</td>\n      <td>...</td>\n      <td>...</td>\n      <td>...</td>\n      <td>...</td>\n      <td>...</td>\n      <td>...</td>\n      <td>...</td>\n      <td>...</td>\n      <td>...</td>\n      <td>...</td>\n      <td>...</td>\n      <td>...</td>\n      <td>...</td>\n      <td>...</td>\n      <td>...</td>\n      <td>...</td>\n      <td>...</td>\n    </tr>\n    <tr>\n      <th>CAPEX ($/kW-H2), incl. Util.</th>\n      <td>EWI PTX</td>\n      <td>NaN</td>\n      <td>NaN</td>\n      <td>NaN</td>\n      <td>NaN</td>\n      <td>NaN</td>\n      <td>NaN</td>\n      <td>NaN</td>\n      <td>NaN</td>\n      <td>NaN</td>\n      <td>...</td>\n      <td>NaN</td>\n      <td>NaN</td>\n      <td>NaN</td>\n      <td>NaN</td>\n      <td>NaN</td>\n      <td>NaN</td>\n      <td>NaN</td>\n      <td>NaN</td>\n      <td>NaN</td>\n      <td>NaN</td>\n    </tr>\n    <tr>\n      <th>OPEX ($/kW-H2/a), incl. Util.</th>\n      <td>EWI PTX</td>\n      <td>NaN</td>\n      <td>57.69591</td>\n      <td>57.118951</td>\n      <td>56.541992</td>\n      <td>55.965033</td>\n      <td>55.388074</td>\n      <td>54.811115</td>\n      <td>54.234156</td>\n      <td>53.657197</td>\n      <td>...</td>\n      <td>37.646582</td>\n      <td>36.348424</td>\n      <td>35.050266</td>\n      <td>33.752108</td>\n      <td>32.45395</td>\n      <td>31.155792</td>\n      <td>29.857634</td>\n      <td>28.559476</td>\n      <td>27.261318</td>\n      <td>25.96316</td>\n    </tr>\n    <tr>\n      <th>Electricity use (kWh/kWh-H2</th>\n      <td>EWI PTX</td>\n      <td>0.01</td>\n      <td>0.01000</td>\n      <td>0.010000</td>\n      <td>0.010000</td>\n      <td>0.010000</td>\n      <td>0.010000</td>\n      <td>0.010000</td>\n      <td>0.010000</td>\n      <td>0.010000</td>\n      <td>...</td>\n      <td>0.010000</td>\n      <td>0.010000</td>\n      <td>0.010000</td>\n      <td>0.010000</td>\n      <td>0.01000</td>\n      <td>0.010000</td>\n      <td>0.010000</td>\n      <td>0.010000</td>\n      <td>0.010000</td>\n      <td>0.01000</td>\n    </tr>\n    <tr>\n      <th>Utilisation</th>\n      <td>EWI PTX</td>\n      <td>NaN</td>\n      <td>0.90000</td>\n      <td>0.900000</td>\n      <td>0.900000</td>\n      <td>0.900000</td>\n      <td>0.900000</td>\n      <td>0.900000</td>\n      <td>0.900000</td>\n      <td>0.900000</td>\n      <td>...</td>\n      <td>0.900000</td>\n      <td>0.900000</td>\n      <td>0.900000</td>\n      <td>0.900000</td>\n      <td>0.90000</td>\n      <td>0.900000</td>\n      <td>0.900000</td>\n      <td>0.900000</td>\n      <td>0.900000</td>\n      <td>0.90000</td>\n    </tr>\n    <tr>\n      <th>Reconversion - Lifetime [Years]</th>\n      <td>EWI PTX</td>\n      <td>30</td>\n      <td>NaN</td>\n      <td>NaN</td>\n      <td>NaN</td>\n      <td>NaN</td>\n      <td>NaN</td>\n      <td>NaN</td>\n      <td>NaN</td>\n      <td>NaN</td>\n      <td>...</td>\n      <td>NaN</td>\n      <td>NaN</td>\n      <td>NaN</td>\n      <td>NaN</td>\n      <td>NaN</td>\n      <td>NaN</td>\n      <td>NaN</td>\n      <td>NaN</td>\n      <td>NaN</td>\n      <td>NaN</td>\n    </tr>\n  </tbody>\n</table>\n<p>121 rows × 33 columns</p>\n</div>"
     },
     "execution_count": 37,
     "metadata": {},
     "output_type": "execute_result"
    }
   ],
   "source": [
    "tea_lh2 = pd.read_excel(path, sheet_name='LH2', decimal=',', index_col=0)\n",
    "tea_lh2"
   ],
   "metadata": {
    "collapsed": false,
    "pycharm": {
     "name": "#%%\n"
    }
   }
  },
  {
   "cell_type": "markdown",
   "source": [
    "## Liquefaction"
   ],
   "metadata": {
    "collapsed": false,
    "pycharm": {
     "name": "#%% md\n"
    }
   }
  },
  {
   "cell_type": "code",
   "execution_count": 38,
   "outputs": [
    {
     "data": {
      "text/plain": "0.05"
     },
     "execution_count": 38,
     "metadata": {},
     "output_type": "execute_result"
    }
   ],
   "source": [
    "# WACC for liquefaction plant in %\n",
    "i_liq = float(tea_lh2.loc['Liquefaction - Discount rate [%]']['LH2'])\n",
    "i_liq"
   ],
   "metadata": {
    "collapsed": false,
    "pycharm": {
     "name": "#%%\n"
    }
   }
  },
  {
   "cell_type": "code",
   "execution_count": 39,
   "outputs": [
    {
     "data": {
      "text/plain": "30.0"
     },
     "execution_count": 39,
     "metadata": {},
     "output_type": "execute_result"
    }
   ],
   "source": [
    "# Economic lifetime for the liquefaction plant [years]\n",
    "l_liq = float(tea_lh2.loc['Liquefaction - Lifetime [Years]']['LH2'])\n",
    "l_liq"
   ],
   "metadata": {
    "collapsed": false,
    "pycharm": {
     "name": "#%%\n"
    }
   }
  },
  {
   "cell_type": "code",
   "execution_count": 40,
   "outputs": [
    {
     "data": {
      "text/plain": "0.06505143508027657"
     },
     "execution_count": 40,
     "metadata": {},
     "output_type": "execute_result"
    }
   ],
   "source": [
    "# Amortisation factor alpha for the liquefaction plant\n",
    "alpha_liq = (i_liq * (1 + i_liq) ** l_liq) /(((1 + i_liq) ** l_liq) - 1)\n",
    "alpha_liq\n"
   ],
   "metadata": {
    "collapsed": false,
    "pycharm": {
     "name": "#%%\n"
    }
   }
  },
  {
   "cell_type": "code",
   "execution_count": 43,
   "outputs": [
    {
     "data": {
      "text/plain": "0.04"
     },
     "execution_count": 43,
     "metadata": {},
     "output_type": "execute_result"
    }
   ],
   "source": [
    "opex_liq_share = float(tea_lh2.loc['Liquefaction - Opex opt. [% of Capex]']['LH2'])\n",
    "opex_liq_share"
   ],
   "metadata": {
    "collapsed": false,
    "pycharm": {
     "name": "#%%\n"
    }
   }
  },
  {
   "cell_type": "markdown",
   "source": [],
   "metadata": {
    "collapsed": false,
    "pycharm": {
     "name": "#%% md\n"
    }
   }
  },
  {
   "cell_type": "markdown",
   "source": [
    "Calc. liquefaction cost"
   ],
   "metadata": {
    "collapsed": false,
    "pycharm": {
     "name": "#%% md\n"
    }
   }
  },
  {
   "cell_type": "code",
   "execution_count": 44,
   "outputs": [],
   "source": [
    "# Definition of the cost calculation function for liquefaction costs. Time relevant variables = capex [€/tpa], opex [€/tpa], electricity use [kwh/kg H2], electricity price [$/MWh]\n",
    "def calculate_liq_costs(alpha_liq, capex_liq_y, opex_liq_y, el_liq_y, p_el_y):\n",
    "\n",
    "    result = float((alpha_liq * capex_liq_y/1000 + opex_liq_y/1000) + el_liq_y * p_el_y*0.89/1000)\n",
    "\n",
    "    return result"
   ],
   "metadata": {
    "collapsed": false,
    "pycharm": {
     "name": "#%%\n"
    }
   }
  },
  {
   "cell_type": "code",
   "execution_count": 88,
   "outputs": [
    {
     "data": {
      "text/plain": "      LH2_Liquefaction_costs\nYears                       \n2025                1.124886\n2026                1.123369\n2027                 1.12107\n2028                1.117987\n2029                1.114121\n2030                1.109472\n2031                 1.07451\n2032                1.039512\n2033                1.004478\n2034                0.969409\n2035                0.934304\n2036                0.899164\n2037                0.863988\n2038                0.828776\n2039                0.793529\n2040                0.758246\n2041                 0.72071\n2042                0.683761\n2043                  0.6474\n2044                0.611626\n2045                0.576439\n2046                 0.54184\n2047                0.507829\n2048                0.474404\n2049                0.441568\n2050                0.409318",
      "text/html": "<div>\n<style scoped>\n    .dataframe tbody tr th:only-of-type {\n        vertical-align: middle;\n    }\n\n    .dataframe tbody tr th {\n        vertical-align: top;\n    }\n\n    .dataframe thead th {\n        text-align: right;\n    }\n</style>\n<table border=\"1\" class=\"dataframe\">\n  <thead>\n    <tr style=\"text-align: right;\">\n      <th></th>\n      <th>LH2_Liquefaction_costs</th>\n    </tr>\n    <tr>\n      <th>Years</th>\n      <th></th>\n    </tr>\n  </thead>\n  <tbody>\n    <tr>\n      <th>2025</th>\n      <td>1.124886</td>\n    </tr>\n    <tr>\n      <th>2026</th>\n      <td>1.123369</td>\n    </tr>\n    <tr>\n      <th>2027</th>\n      <td>1.12107</td>\n    </tr>\n    <tr>\n      <th>2028</th>\n      <td>1.117987</td>\n    </tr>\n    <tr>\n      <th>2029</th>\n      <td>1.114121</td>\n    </tr>\n    <tr>\n      <th>2030</th>\n      <td>1.109472</td>\n    </tr>\n    <tr>\n      <th>2031</th>\n      <td>1.07451</td>\n    </tr>\n    <tr>\n      <th>2032</th>\n      <td>1.039512</td>\n    </tr>\n    <tr>\n      <th>2033</th>\n      <td>1.004478</td>\n    </tr>\n    <tr>\n      <th>2034</th>\n      <td>0.969409</td>\n    </tr>\n    <tr>\n      <th>2035</th>\n      <td>0.934304</td>\n    </tr>\n    <tr>\n      <th>2036</th>\n      <td>0.899164</td>\n    </tr>\n    <tr>\n      <th>2037</th>\n      <td>0.863988</td>\n    </tr>\n    <tr>\n      <th>2038</th>\n      <td>0.828776</td>\n    </tr>\n    <tr>\n      <th>2039</th>\n      <td>0.793529</td>\n    </tr>\n    <tr>\n      <th>2040</th>\n      <td>0.758246</td>\n    </tr>\n    <tr>\n      <th>2041</th>\n      <td>0.72071</td>\n    </tr>\n    <tr>\n      <th>2042</th>\n      <td>0.683761</td>\n    </tr>\n    <tr>\n      <th>2043</th>\n      <td>0.6474</td>\n    </tr>\n    <tr>\n      <th>2044</th>\n      <td>0.611626</td>\n    </tr>\n    <tr>\n      <th>2045</th>\n      <td>0.576439</td>\n    </tr>\n    <tr>\n      <th>2046</th>\n      <td>0.54184</td>\n    </tr>\n    <tr>\n      <th>2047</th>\n      <td>0.507829</td>\n    </tr>\n    <tr>\n      <th>2048</th>\n      <td>0.474404</td>\n    </tr>\n    <tr>\n      <th>2049</th>\n      <td>0.441568</td>\n    </tr>\n    <tr>\n      <th>2050</th>\n      <td>0.409318</td>\n    </tr>\n  </tbody>\n</table>\n</div>"
     },
     "execution_count": 88,
     "metadata": {},
     "output_type": "execute_result"
    }
   ],
   "source": [
    "# Calculation of liquefaction costs [€/kg_h2] from 2030 to 2050.\n",
    "years = np.arange(2025,2051)\n",
    "result = pd.DataFrame(index=years, columns=['LH2_Liquefaction_costs'])\n",
    "result.index.name = 'Years'\n",
    "\n",
    "for year in years:\n",
    "\n",
    "    # get capex, opex, natural gas price and CO2 price of specific year\n",
    "    capex_liq_y = float(tea_lh2.loc['Liquefaction - Capex opt. [€/t/a]'][year])\n",
    "    opex_liq_y = capex_liq_y * opex_liq_share\n",
    "    el_liq_y = float(tea_lh2.loc['Liquefaction - Electricity consumption opt. [kWh/kgH2]'][year])\n",
    "    p_el_y = float(el_price.loc['Electricity prices in Norway [€_2021/MWh]'][year])\n",
    "\n",
    "    # calculate costs of specific year\n",
    "    result.LH2_Liquefaction_costs.loc[year] = calculate_liq_costs(alpha_liq=alpha_liq, capex_liq_y=capex_liq_y, opex_liq_y=opex_liq_y, el_liq_y=el_liq_y, p_el_y=p_el_y)\n",
    "\n",
    "result"
   ],
   "metadata": {
    "collapsed": false,
    "pycharm": {
     "name": "#%%\n"
    }
   }
  },
  {
   "cell_type": "code",
   "execution_count": 89,
   "outputs": [],
   "source": [
    "LH2_Liquefaction_costs = result"
   ],
   "metadata": {
    "collapsed": false,
    "pycharm": {
     "name": "#%%\n"
    }
   }
  },
  {
   "cell_type": "code",
   "execution_count": 46,
   "outputs": [],
   "source": [
    "# Create csv file from results dataframe\n",
    "output_file = os.path.join(path_csv,'LH2_Liquefaction_costs.csv')\n",
    "result.to_csv(output_file, sep = ';')"
   ],
   "metadata": {
    "collapsed": false,
    "pycharm": {
     "name": "#%%\n"
    }
   }
  },
  {
   "cell_type": "markdown",
   "source": [
    "Plot liquefaction costs"
   ],
   "metadata": {
    "collapsed": false,
    "pycharm": {
     "name": "#%% md\n"
    }
   }
  },
  {
   "cell_type": "code",
   "execution_count": 47,
   "outputs": [
    {
     "data": {
      "text/plain": "<Figure size 1000x600 with 1 Axes>",
      "image/png": "[encoded data removed]"
     },
     "metadata": {},
     "output_type": "display_data"
    }
   ],
   "source": [
    "# Plot cost curve for liquefaction\n",
    "fig, ax = plt.subplots(figsize=(10,6))\n",
    "plt.plot(result, color = 'cyan', linestyle = 'solid')\n",
    "plt.grid(True, axis = 'y')\n",
    "ax.set_axisbelow(True)\n",
    "plt.title('Cost curve for liquefaction', fontweight = 'bold')\n",
    "plt.legend(['Liquefaction costs in €/kg_H2'])\n",
    "plt.xlabel('Year')\n",
    "plt.ylabel('Cost [€/kg_H2]')\n",
    "plt.show()"
   ],
   "metadata": {
    "collapsed": false,
    "pycharm": {
     "name": "#%%\n"
    }
   }
  },
  {
   "cell_type": "markdown",
   "source": [
    "## Export terminal"
   ],
   "metadata": {
    "collapsed": false,
    "pycharm": {
     "name": "#%% md\n"
    }
   }
  },
  {
   "cell_type": "code",
   "execution_count": 48,
   "outputs": [],
   "source": [
    "# Lifetime of import and export terminals\n",
    "l_ter = float(tea_lh2.loc['Export Terminal - Technical lifetime [Years]']['LH2'])"
   ],
   "metadata": {
    "collapsed": false,
    "pycharm": {
     "name": "#%%\n"
    }
   }
  },
  {
   "cell_type": "code",
   "execution_count": 49,
   "outputs": [],
   "source": [
    "# Amortisation factor for the export terminal\n",
    "alpha_et = (i_tra * (1 + i_tra) ** l_ter) / (((1 + i_tra) ** l_ter) - 1)"
   ],
   "metadata": {
    "collapsed": false,
    "pycharm": {
     "name": "#%%\n"
    }
   }
  },
  {
   "cell_type": "code",
   "execution_count": 50,
   "outputs": [],
   "source": [
    "# Average storage time in the export terminal tanks in days\n",
    "t_et = float(tea_lh2.loc['Export Terminal - Storage length per load [Days]']['LH2'])"
   ],
   "metadata": {
    "collapsed": false,
    "pycharm": {
     "name": "#%%\n"
    }
   }
  },
  {
   "cell_type": "code",
   "execution_count": 51,
   "outputs": [
    {
     "data": {
      "text/plain": "0.61"
     },
     "execution_count": 51,
     "metadata": {},
     "output_type": "execute_result"
    }
   ],
   "source": [
    "# Electricity consumption for the export terminal [kWh/kg_h2]\n",
    "el_et = float(tea_lh2.loc['Export Terminal - Electricity use [kWh/kgH2]']['LH2'])\n",
    "el_et"
   ],
   "metadata": {
    "collapsed": false,
    "pycharm": {
     "name": "#%%\n"
    }
   }
  },
  {
   "cell_type": "code",
   "execution_count": 52,
   "outputs": [
    {
     "data": {
      "text/plain": "0.001"
     },
     "execution_count": 52,
     "metadata": {},
     "output_type": "execute_result"
    }
   ],
   "source": [
    "# Boil-off hydrogen in [%/day]\n",
    "bog_et = float(tea_lh2.loc['Export Terminal - Boil off rate [%/day]']['LH2'])\n",
    "bog_et"
   ],
   "metadata": {
    "collapsed": false,
    "pycharm": {
     "name": "#%%\n"
    }
   }
  },
  {
   "cell_type": "code",
   "execution_count": 53,
   "outputs": [
    {
     "data": {
      "text/plain": "7.0"
     },
     "execution_count": 53,
     "metadata": {},
     "output_type": "execute_result"
    }
   ],
   "source": [
    "# Average storage time in the export terminal tanks in days\n",
    "t_et = float(tea_lh2.loc['Export Terminal - Storage length per load [Days]']['LH2'])\n",
    "t_et"
   ],
   "metadata": {
    "collapsed": false,
    "pycharm": {
     "name": "#%%\n"
    }
   }
  },
  {
   "cell_type": "code",
   "execution_count": 54,
   "outputs": [
    {
     "data": {
      "text/plain": "0.1"
     },
     "execution_count": 54,
     "metadata": {},
     "output_type": "execute_result"
    }
   ],
   "source": [
    "el_reliq = float(tea_lh2.loc['Export Terminal - Energy use to reliquefy opt. [kWh/kg H2/day]']['LH2'])\n",
    "el_reliq"
   ],
   "metadata": {
    "collapsed": false,
    "pycharm": {
     "name": "#%%\n"
    }
   }
  },
  {
   "cell_type": "code",
   "execution_count": 55,
   "outputs": [
    {
     "data": {
      "text/plain": "0.04"
     },
     "execution_count": 55,
     "metadata": {},
     "output_type": "execute_result"
    }
   ],
   "source": [
    "opex_et_share =  float(tea_lh2.loc['Export Terminal - Annual OPEX [% of CAPEX]']['LH2'])\n",
    "opex_et_share"
   ],
   "metadata": {
    "collapsed": false,
    "pycharm": {
     "name": "#%%\n"
    }
   }
  },
  {
   "cell_type": "markdown",
   "source": [],
   "metadata": {
    "collapsed": false,
    "pycharm": {
     "name": "#%% md\n"
    }
   }
  },
  {
   "cell_type": "markdown",
   "source": [
    "Calc. export terminal cost"
   ],
   "metadata": {
    "collapsed": false,
    "pycharm": {
     "name": "#%% md\n"
    }
   }
  },
  {
   "cell_type": "markdown",
   "source": [
    "Boil-off and transfer gas are re-liquefied @"
   ],
   "metadata": {
    "collapsed": false,
    "pycharm": {
     "name": "#%% md\n"
    }
   }
  },
  {
   "cell_type": "markdown",
   "source": [
    "Time relevant variables = capex [$/tpa], opex [$/tpa], electricity use [kwh/kg H2], electricity price [$/MWh] storage time in days"
   ],
   "metadata": {
    "collapsed": false,
    "pycharm": {
     "name": "#%% md\n"
    }
   }
  },
  {
   "cell_type": "code",
   "execution_count": 56,
   "outputs": [],
   "source": [
    "# Definition of the cost calculation function for the Export terminal.\n",
    "def calculate_export_terminal_costs(alpha_et, capex_et_y, opex_et_y, el_et, p_el_y, el_reliq):\n",
    "    result = (alpha_et * capex_et_y/1000 + opex_et_y/1000) + (el_et + el_reliq * t_et) * p_el_y* 0.89/1000\n",
    "\n",
    "    return result"
   ],
   "metadata": {
    "collapsed": false,
    "pycharm": {
     "name": "#%%\n"
    }
   }
  },
  {
   "cell_type": "code",
   "execution_count": 57,
   "outputs": [],
   "source": [
    "#Calculation of export terminal costs [$/kg_h2] from 2030 to 2050.\n",
    "years = np.arange(2025, 2051)\n",
    "result = pd.DataFrame(index=years, columns=['LH2_Export_terminal_costs'])\n",
    "result.index.name = 'Years'"
   ],
   "metadata": {
    "collapsed": false,
    "pycharm": {
     "name": "#%%\n"
    }
   }
  },
  {
   "cell_type": "code",
   "execution_count": 60,
   "outputs": [
    {
     "data": {
      "text/plain": "      LH2_Export_terminal_costs\nYears                          \n2025                   0.195663\n2026                   0.199162\n2027                   0.202662\n2028                   0.206162\n2029                   0.209662\n2030                   0.213162\n2031                   0.209728\n2032                   0.206293\n2033                   0.202859\n2034                   0.199424\n2035                    0.19599\n2036                   0.192555\n2037                   0.189121\n2038                   0.185686\n2039                   0.182252\n2040                   0.178817\n2041                   0.172585\n2042                   0.166352\n2043                    0.16012\n2044                   0.153887\n2045                   0.147654\n2046                   0.141422\n2047                   0.135189\n2048                   0.128956\n2049                   0.122724\n2050                   0.116491",
      "text/html": "<div>\n<style scoped>\n    .dataframe tbody tr th:only-of-type {\n        vertical-align: middle;\n    }\n\n    .dataframe tbody tr th {\n        vertical-align: top;\n    }\n\n    .dataframe thead th {\n        text-align: right;\n    }\n</style>\n<table border=\"1\" class=\"dataframe\">\n  <thead>\n    <tr style=\"text-align: right;\">\n      <th></th>\n      <th>LH2_Export_terminal_costs</th>\n    </tr>\n    <tr>\n      <th>Years</th>\n      <th></th>\n    </tr>\n  </thead>\n  <tbody>\n    <tr>\n      <th>2025</th>\n      <td>0.195663</td>\n    </tr>\n    <tr>\n      <th>2026</th>\n      <td>0.199162</td>\n    </tr>\n    <tr>\n      <th>2027</th>\n      <td>0.202662</td>\n    </tr>\n    <tr>\n      <th>2028</th>\n      <td>0.206162</td>\n    </tr>\n    <tr>\n      <th>2029</th>\n      <td>0.209662</td>\n    </tr>\n    <tr>\n      <th>2030</th>\n      <td>0.213162</td>\n    </tr>\n    <tr>\n      <th>2031</th>\n      <td>0.209728</td>\n    </tr>\n    <tr>\n      <th>2032</th>\n      <td>0.206293</td>\n    </tr>\n    <tr>\n      <th>2033</th>\n      <td>0.202859</td>\n    </tr>\n    <tr>\n      <th>2034</th>\n      <td>0.199424</td>\n    </tr>\n    <tr>\n      <th>2035</th>\n      <td>0.19599</td>\n    </tr>\n    <tr>\n      <th>2036</th>\n      <td>0.192555</td>\n    </tr>\n    <tr>\n      <th>2037</th>\n      <td>0.189121</td>\n    </tr>\n    <tr>\n      <th>2038</th>\n      <td>0.185686</td>\n    </tr>\n    <tr>\n      <th>2039</th>\n      <td>0.182252</td>\n    </tr>\n    <tr>\n      <th>2040</th>\n      <td>0.178817</td>\n    </tr>\n    <tr>\n      <th>2041</th>\n      <td>0.172585</td>\n    </tr>\n    <tr>\n      <th>2042</th>\n      <td>0.166352</td>\n    </tr>\n    <tr>\n      <th>2043</th>\n      <td>0.16012</td>\n    </tr>\n    <tr>\n      <th>2044</th>\n      <td>0.153887</td>\n    </tr>\n    <tr>\n      <th>2045</th>\n      <td>0.147654</td>\n    </tr>\n    <tr>\n      <th>2046</th>\n      <td>0.141422</td>\n    </tr>\n    <tr>\n      <th>2047</th>\n      <td>0.135189</td>\n    </tr>\n    <tr>\n      <th>2048</th>\n      <td>0.128956</td>\n    </tr>\n    <tr>\n      <th>2049</th>\n      <td>0.122724</td>\n    </tr>\n    <tr>\n      <th>2050</th>\n      <td>0.116491</td>\n    </tr>\n  </tbody>\n</table>\n</div>"
     },
     "execution_count": 60,
     "metadata": {},
     "output_type": "execute_result"
    }
   ],
   "source": [
    "for year in years:\n",
    "    # get capex, opex, xx\n",
    "    capex_et_y = float(tea_lh2.loc['Export Terminal - CAPEX/tank [€/t/a]'][year])\n",
    "    opex_et_y = capex_et_y * opex_et_share\n",
    "    p_el_y = float(el_price.loc['Electricity prices in Norway [€_2021/MWh]'][year])\n",
    "\n",
    "\n",
    "    # calculate costs of specific year\n",
    "    result.LH2_Export_terminal_costs.loc[year] = calculate_export_terminal_costs(alpha_et=alpha_et, capex_et_y=capex_et_y,\n",
    "                                                              opex_et_y=opex_et_y, el_et=el_et, p_el_y=p_el_y, el_reliq=el_reliq)\n",
    "\n",
    "result"
   ],
   "metadata": {
    "collapsed": false,
    "pycharm": {
     "name": "#%%\n"
    }
   }
  },
  {
   "cell_type": "code",
   "execution_count": 61,
   "outputs": [],
   "source": [
    "LH2_Export_terminal_costs =result"
   ],
   "metadata": {
    "collapsed": false,
    "pycharm": {
     "name": "#%%\n"
    }
   }
  },
  {
   "cell_type": "code",
   "execution_count": 59,
   "outputs": [
    {
     "ename": "FileNotFoundError",
     "evalue": "[Errno 2] No such file or directory: '/Users/jakob/PycharmProjects/H2_pathways_repo/data/raw/H2_supply_route_assessment.xlsx'",
     "output_type": "error",
     "traceback": [
      "\u001B[1;31m---------------------------------------------------------------------------\u001B[0m",
      "\u001B[1;31mFileNotFoundError\u001B[0m                         Traceback (most recent call last)",
      "Cell \u001B[1;32mIn [59], line 5\u001B[0m\n\u001B[0;32m      2\u001B[0m \u001B[38;5;28;01mfrom\u001B[39;00m \u001B[38;5;21;01mopenpyxl\u001B[39;00m \u001B[38;5;28;01mimport\u001B[39;00m load_workbook\n\u001B[0;32m      3\u001B[0m path \u001B[38;5;241m=\u001B[39m \u001B[38;5;124m'\u001B[39m\u001B[38;5;124m/Users/jakob/PycharmProjects/H2_pathways_repo/data/raw/H2_supply_route_assessment.xlsx\u001B[39m\u001B[38;5;124m'\u001B[39m\n\u001B[1;32m----> 5\u001B[0m writer \u001B[38;5;241m=\u001B[39m \u001B[43mpd\u001B[49m\u001B[38;5;241;43m.\u001B[39;49m\u001B[43mExcelWriter\u001B[49m\u001B[43m(\u001B[49m\u001B[43mpath\u001B[49m\u001B[43m,\u001B[49m\u001B[43m \u001B[49m\u001B[43mengine\u001B[49m\u001B[38;5;241;43m=\u001B[39;49m\u001B[38;5;124;43m'\u001B[39;49m\u001B[38;5;124;43mopenpyxl\u001B[39;49m\u001B[38;5;124;43m'\u001B[39;49m\u001B[43m,\u001B[49m\u001B[43m \u001B[49m\u001B[43mmode\u001B[49m\u001B[38;5;241;43m=\u001B[39;49m\u001B[38;5;124;43m'\u001B[39;49m\u001B[38;5;124;43ma\u001B[39;49m\u001B[38;5;124;43m'\u001B[39;49m\u001B[43m,\u001B[49m\u001B[43m \u001B[49m\u001B[43mif_sheet_exists\u001B[49m\u001B[38;5;241;43m=\u001B[39;49m\u001B[38;5;124;43m'\u001B[39;49m\u001B[38;5;124;43moverlay\u001B[39;49m\u001B[38;5;124;43m'\u001B[39;49m\u001B[43m)\u001B[49m\n\u001B[0;32m      6\u001B[0m book \u001B[38;5;241m=\u001B[39m load_workbook(path)\n\u001B[0;32m      7\u001B[0m writer\u001B[38;5;241m.\u001B[39mbook \u001B[38;5;241m=\u001B[39m book\n",
      "File \u001B[1;32m~\\Miniconda3\\envs\\Desktop\\lib\\site-packages\\pandas\\io\\excel\\_openpyxl.py:60\u001B[0m, in \u001B[0;36mOpenpyxlWriter.__init__\u001B[1;34m(self, path, engine, date_format, datetime_format, mode, storage_options, if_sheet_exists, engine_kwargs, **kwargs)\u001B[0m\n\u001B[0;32m     56\u001B[0m \u001B[38;5;28;01mfrom\u001B[39;00m \u001B[38;5;21;01mopenpyxl\u001B[39;00m\u001B[38;5;21;01m.\u001B[39;00m\u001B[38;5;21;01mworkbook\u001B[39;00m \u001B[38;5;28;01mimport\u001B[39;00m Workbook\n\u001B[0;32m     58\u001B[0m engine_kwargs \u001B[38;5;241m=\u001B[39m combine_kwargs(engine_kwargs, kwargs)\n\u001B[1;32m---> 60\u001B[0m \u001B[38;5;28;43msuper\u001B[39;49m\u001B[43m(\u001B[49m\u001B[43m)\u001B[49m\u001B[38;5;241;43m.\u001B[39;49m\u001B[38;5;21;43m__init__\u001B[39;49m\u001B[43m(\u001B[49m\n\u001B[0;32m     61\u001B[0m \u001B[43m    \u001B[49m\u001B[43mpath\u001B[49m\u001B[43m,\u001B[49m\n\u001B[0;32m     62\u001B[0m \u001B[43m    \u001B[49m\u001B[43mmode\u001B[49m\u001B[38;5;241;43m=\u001B[39;49m\u001B[43mmode\u001B[49m\u001B[43m,\u001B[49m\n\u001B[0;32m     63\u001B[0m \u001B[43m    \u001B[49m\u001B[43mstorage_options\u001B[49m\u001B[38;5;241;43m=\u001B[39;49m\u001B[43mstorage_options\u001B[49m\u001B[43m,\u001B[49m\n\u001B[0;32m     64\u001B[0m \u001B[43m    \u001B[49m\u001B[43mif_sheet_exists\u001B[49m\u001B[38;5;241;43m=\u001B[39;49m\u001B[43mif_sheet_exists\u001B[49m\u001B[43m,\u001B[49m\n\u001B[0;32m     65\u001B[0m \u001B[43m    \u001B[49m\u001B[43mengine_kwargs\u001B[49m\u001B[38;5;241;43m=\u001B[39;49m\u001B[43mengine_kwargs\u001B[49m\u001B[43m,\u001B[49m\n\u001B[0;32m     66\u001B[0m \u001B[43m\u001B[49m\u001B[43m)\u001B[49m\n\u001B[0;32m     68\u001B[0m \u001B[38;5;66;03m# ExcelWriter replaced \"a\" by \"r+\" to allow us to first read the excel file from\u001B[39;00m\n\u001B[0;32m     69\u001B[0m \u001B[38;5;66;03m# the file and later write to it\u001B[39;00m\n\u001B[0;32m     70\u001B[0m \u001B[38;5;28;01mif\u001B[39;00m \u001B[38;5;124m\"\u001B[39m\u001B[38;5;124mr+\u001B[39m\u001B[38;5;124m\"\u001B[39m \u001B[38;5;129;01min\u001B[39;00m \u001B[38;5;28mself\u001B[39m\u001B[38;5;241m.\u001B[39m_mode:  \u001B[38;5;66;03m# Load from existing workbook\u001B[39;00m\n",
      "File \u001B[1;32m~\\Miniconda3\\envs\\Desktop\\lib\\site-packages\\pandas\\io\\excel\\_base.py:1313\u001B[0m, in \u001B[0;36mExcelWriter.__init__\u001B[1;34m(self, path, engine, date_format, datetime_format, mode, storage_options, if_sheet_exists, engine_kwargs, **kwargs)\u001B[0m\n\u001B[0;32m   1309\u001B[0m \u001B[38;5;28mself\u001B[39m\u001B[38;5;241m.\u001B[39m_handles \u001B[38;5;241m=\u001B[39m IOHandles(\n\u001B[0;32m   1310\u001B[0m     cast(IO[\u001B[38;5;28mbytes\u001B[39m], path), compression\u001B[38;5;241m=\u001B[39m{\u001B[38;5;124m\"\u001B[39m\u001B[38;5;124mcompression\u001B[39m\u001B[38;5;124m\"\u001B[39m: \u001B[38;5;28;01mNone\u001B[39;00m}\n\u001B[0;32m   1311\u001B[0m )\n\u001B[0;32m   1312\u001B[0m \u001B[38;5;28;01mif\u001B[39;00m \u001B[38;5;129;01mnot\u001B[39;00m \u001B[38;5;28misinstance\u001B[39m(path, ExcelWriter):\n\u001B[1;32m-> 1313\u001B[0m     \u001B[38;5;28mself\u001B[39m\u001B[38;5;241m.\u001B[39m_handles \u001B[38;5;241m=\u001B[39m \u001B[43mget_handle\u001B[49m\u001B[43m(\u001B[49m\n\u001B[0;32m   1314\u001B[0m \u001B[43m        \u001B[49m\u001B[43mpath\u001B[49m\u001B[43m,\u001B[49m\u001B[43m \u001B[49m\u001B[43mmode\u001B[49m\u001B[43m,\u001B[49m\u001B[43m \u001B[49m\u001B[43mstorage_options\u001B[49m\u001B[38;5;241;43m=\u001B[39;49m\u001B[43mstorage_options\u001B[49m\u001B[43m,\u001B[49m\u001B[43m \u001B[49m\u001B[43mis_text\u001B[49m\u001B[38;5;241;43m=\u001B[39;49m\u001B[38;5;28;43;01mFalse\u001B[39;49;00m\n\u001B[0;32m   1315\u001B[0m \u001B[43m    \u001B[49m\u001B[43m)\u001B[49m\n\u001B[0;32m   1316\u001B[0m \u001B[38;5;28mself\u001B[39m\u001B[38;5;241m.\u001B[39m_cur_sheet \u001B[38;5;241m=\u001B[39m \u001B[38;5;28;01mNone\u001B[39;00m\n\u001B[0;32m   1318\u001B[0m \u001B[38;5;28;01mif\u001B[39;00m date_format \u001B[38;5;129;01mis\u001B[39;00m \u001B[38;5;28;01mNone\u001B[39;00m:\n",
      "File \u001B[1;32m~\\Miniconda3\\envs\\Desktop\\lib\\site-packages\\pandas\\io\\common.py:865\u001B[0m, in \u001B[0;36mget_handle\u001B[1;34m(path_or_buf, mode, encoding, compression, memory_map, is_text, errors, storage_options)\u001B[0m\n\u001B[0;32m    856\u001B[0m         handle \u001B[38;5;241m=\u001B[39m \u001B[38;5;28mopen\u001B[39m(\n\u001B[0;32m    857\u001B[0m             handle,\n\u001B[0;32m    858\u001B[0m             ioargs\u001B[38;5;241m.\u001B[39mmode,\n\u001B[1;32m   (...)\u001B[0m\n\u001B[0;32m    861\u001B[0m             newline\u001B[38;5;241m=\u001B[39m\u001B[38;5;124m\"\u001B[39m\u001B[38;5;124m\"\u001B[39m,\n\u001B[0;32m    862\u001B[0m         )\n\u001B[0;32m    863\u001B[0m     \u001B[38;5;28;01melse\u001B[39;00m:\n\u001B[0;32m    864\u001B[0m         \u001B[38;5;66;03m# Binary mode\u001B[39;00m\n\u001B[1;32m--> 865\u001B[0m         handle \u001B[38;5;241m=\u001B[39m \u001B[38;5;28;43mopen\u001B[39;49m\u001B[43m(\u001B[49m\u001B[43mhandle\u001B[49m\u001B[43m,\u001B[49m\u001B[43m \u001B[49m\u001B[43mioargs\u001B[49m\u001B[38;5;241;43m.\u001B[39;49m\u001B[43mmode\u001B[49m\u001B[43m)\u001B[49m\n\u001B[0;32m    866\u001B[0m     handles\u001B[38;5;241m.\u001B[39mappend(handle)\n\u001B[0;32m    868\u001B[0m \u001B[38;5;66;03m# Convert BytesIO or file objects passed with an encoding\u001B[39;00m\n",
      "\u001B[1;31mFileNotFoundError\u001B[0m: [Errno 2] No such file or directory: '/Users/jakob/PycharmProjects/H2_pathways_repo/data/raw/H2_supply_route_assessment.xlsx'"
     ]
    }
   ],
   "source": [
    "# export result to excel\n",
    "from openpyxl import load_workbook\n",
    "path = '/Users/jakob/PycharmProjects/H2_pathways_repo/data/raw/H2_supply_route_assessment.xlsx'\n",
    "\n",
    "writer = pd.ExcelWriter(path, engine='openpyxl', mode='a', if_sheet_exists='overlay')\n",
    "book = load_workbook(path)\n",
    "writer.book = book\n",
    "writer.sheets = dict((ws.title, ws) for ws in book.worksheets)\n",
    "\n",
    "ws = book['Reference Results']\n",
    "\n",
    "result.to_excel(writer, sheet_name='Reference Results', index=False, startcol=ws.max_column)\n",
    "book.save('/Users/jakob/PycharmProjects/H2_pathways_repo/data/raw/H2_supply_route_assessment.xlsx')\n",
    "book.close()"
   ],
   "metadata": {
    "collapsed": false,
    "pycharm": {
     "name": "#%%\n"
    }
   }
  },
  {
   "cell_type": "code",
   "execution_count": null,
   "outputs": [],
   "source": [
    "# Create csv file from results dataframe\n",
    "path = r'/Users/jakob/PycharmProjects/H2_pathways_repo/data/processed'\n",
    "output_file = os.path.join(path, 'LH2_Export_terminal_costs.csv')\n",
    "result.to_csv(output_file, sep=';')"
   ],
   "metadata": {
    "collapsed": false,
    "pycharm": {
     "name": "#%%\n"
    }
   }
  },
  {
   "cell_type": "markdown",
   "source": [
    "Plot export terminal costs"
   ],
   "metadata": {
    "collapsed": false,
    "pycharm": {
     "name": "#%% md\n"
    }
   }
  },
  {
   "cell_type": "code",
   "execution_count": null,
   "outputs": [],
   "source": [
    "# Plot cost curve for export terminal costs\n",
    "fig, ax = plt.subplots(figsize=(10,6))\n",
    "plt.plot(result, color = 'red', linestyle = 'solid')\n",
    "plt.grid(True, axis = 'y')\n",
    "ax.set_axisbelow(True)\n",
    "plt.plot(result, color='red', linestyle='dashed')\n",
    "plt.title('Export terminal costs over time', fontweight='bold', fontsize='large')\n",
    "plt.legend(['Export terminal costs in €/kg_H2'])\n",
    "plt.xlabel('Year', fontsize='large')\n",
    "plt.ylabel('Cost [€/kg_H2]', fontsize='large')\n",
    "plt.show()"
   ],
   "metadata": {
    "collapsed": false,
    "pycharm": {
     "name": "#%%\n"
    }
   }
  },
  {
   "cell_type": "markdown",
   "source": [],
   "metadata": {
    "collapsed": false,
    "pycharm": {
     "name": "#%% md\n"
    }
   }
  },
  {
   "cell_type": "markdown",
   "source": [
    "## Shipping"
   ],
   "metadata": {
    "collapsed": false,
    "pycharm": {
     "name": "#%% md\n"
    }
   }
  },
  {
   "cell_type": "code",
   "execution_count": 63,
   "outputs": [
    {
     "data": {
      "text/plain": "30.0"
     },
     "execution_count": 63,
     "metadata": {},
     "output_type": "execute_result"
    }
   ],
   "source": [
    "# Technical lifetime of ships in years\n",
    "l_ship = float(tea_lh2.loc['Shipping - Technical Lifetime [Years]']['LH2'])\n",
    "l_ship"
   ],
   "metadata": {
    "collapsed": false,
    "pycharm": {
     "name": "#%%\n"
    }
   }
  },
  {
   "cell_type": "code",
   "execution_count": 64,
   "outputs": [
    {
     "data": {
      "text/plain": "0.06505143508027657"
     },
     "execution_count": 64,
     "metadata": {},
     "output_type": "execute_result"
    }
   ],
   "source": [
    "# Amortisation factor for shipping\n",
    "alpha_ship = (i_tra * (1 + i_tra) ** l_ship) / (((1 + i_tra) ** l_ship) - 1)\n",
    "alpha_ship\n"
   ],
   "metadata": {
    "collapsed": false,
    "pycharm": {
     "name": "#%%\n"
    }
   }
  },
  {
   "cell_type": "code",
   "execution_count": 65,
   "outputs": [
    {
     "data": {
      "text/plain": "602.403"
     },
     "execution_count": 65,
     "metadata": {},
     "output_type": "execute_result"
    }
   ],
   "source": [
    "# Distance between countries via ship in [km]\n",
    "d_sea = float(tra_d[(tra_d['Origin_Country'] == 'Norway') & (tra_d['Destination_Country'] == 'Germany')]['sea distance (km)'].values)\n",
    "d_sea"
   ],
   "metadata": {
    "collapsed": false,
    "pycharm": {
     "name": "#%%\n"
    }
   }
  },
  {
   "cell_type": "code",
   "execution_count": 66,
   "outputs": [
    {
     "data": {
      "text/plain": "30.0"
     },
     "execution_count": 66,
     "metadata": {},
     "output_type": "execute_result"
    }
   ],
   "source": [
    "# Ship speed in [km/h]\n",
    "v_ship = float(tea_lh2.loc['Shipping - Ship speed [km/h]']['LH2'])\n",
    "v_ship"
   ],
   "metadata": {
    "collapsed": false,
    "pycharm": {
     "name": "#%%\n"
    }
   }
  },
  {
   "cell_type": "code",
   "execution_count": 67,
   "outputs": [
    {
     "data": {
      "text/plain": "48.0"
     },
     "execution_count": 67,
     "metadata": {},
     "output_type": "execute_result"
    }
   ],
   "source": [
    "# Berthing time (time for unloading and loading in a harbour) in [h]\n",
    "h_ship = float(tea_lh2.loc['Shipping - Berthing time [hours]']['LH2'])\n",
    "h_ship\n"
   ],
   "metadata": {
    "collapsed": false,
    "pycharm": {
     "name": "#%%\n"
    }
   }
  },
  {
   "cell_type": "code",
   "execution_count": 68,
   "outputs": [
    {
     "data": {
      "text/plain": "8.333333333333333e-05"
     },
     "execution_count": 68,
     "metadata": {},
     "output_type": "execute_result"
    }
   ],
   "source": [
    "# Boil-off when shipping in [%/day] to [%/hour]\n",
    "bog_ship = float(tea_lh2.loc['Shipping - Boil off opt. [%/day]']['LH2'])/24\n",
    "bog_ship"
   ],
   "metadata": {
    "collapsed": false,
    "pycharm": {
     "name": "#%%\n"
    }
   }
  },
  {
   "cell_type": "code",
   "execution_count": 69,
   "outputs": [
    {
     "data": {
      "text/plain": "1.1265151515151516e-06"
     },
     "execution_count": 69,
     "metadata": {},
     "output_type": "execute_result"
    }
   ],
   "source": [
    "# Fuel consumption of a ship in [kg_h2/t/km]\n",
    "f_ship = float(tea_lh2.loc['Shipping - Fuel use [kg H2/t/km]']['LH2'])/1000\n",
    "f_ship"
   ],
   "metadata": {
    "collapsed": false,
    "pycharm": {
     "name": "#%%\n"
    }
   }
  },
  {
   "cell_type": "code",
   "execution_count": 70,
   "outputs": [
    {
     "data": {
      "text/plain": "0.04"
     },
     "execution_count": 70,
     "metadata": {},
     "output_type": "execute_result"
    }
   ],
   "source": [
    "opex_ship_share = float(tea_lh2.loc['Shipping - Annual OPEX [% of CAPEX]']['LH2'])\n",
    "opex_ship_share"
   ],
   "metadata": {
    "collapsed": false,
    "pycharm": {
     "name": "#%%\n"
    }
   }
  },
  {
   "cell_type": "markdown",
   "source": [
    "Fuel cost calculation"
   ],
   "metadata": {
    "collapsed": false,
    "pycharm": {
     "name": "#%% md\n"
    }
   }
  },
  {
   "cell_type": "code",
   "execution_count": 85,
   "outputs": [
    {
     "data": {
      "text/plain": "      Minimal_production_costs\nYears                         \n2025         2.491992405919429\n2026         2.373446744054794\n2027         2.155720174849315\n2028         1.821651889643836\n2029         1.831195888438356\n2030         1.839386671232877\n2031         1.856516763082192\n2032         1.872222648339041\n2033         1.886501533333048\n2034         1.899350764077354\n2035         1.910767819284446\n2036         1.920750303731182\n2037         1.929295941955582\n2038         1.908207820227787\n2039        1.8711123070760973\n2040         1.834075921835056\n2041        1.8017823291700557\n2042        1.7708218947763135\n2043        1.7405667032909506\n2044        1.7142073374615916\n2045        1.6595645117814275\n2046        1.6274200600322133\n2047        1.5963384480077916\n2048         1.566224823052684\n2049        1.5369963695761606\n2050        1.5085803374409712",
      "text/html": "<div>\n<style scoped>\n    .dataframe tbody tr th:only-of-type {\n        vertical-align: middle;\n    }\n\n    .dataframe tbody tr th {\n        vertical-align: top;\n    }\n\n    .dataframe thead th {\n        text-align: right;\n    }\n</style>\n<table border=\"1\" class=\"dataframe\">\n  <thead>\n    <tr style=\"text-align: right;\">\n      <th></th>\n      <th>Minimal_production_costs</th>\n    </tr>\n    <tr>\n      <th>Years</th>\n      <th></th>\n    </tr>\n  </thead>\n  <tbody>\n    <tr>\n      <th>2025</th>\n      <td>2.491992405919429</td>\n    </tr>\n    <tr>\n      <th>2026</th>\n      <td>2.373446744054794</td>\n    </tr>\n    <tr>\n      <th>2027</th>\n      <td>2.155720174849315</td>\n    </tr>\n    <tr>\n      <th>2028</th>\n      <td>1.821651889643836</td>\n    </tr>\n    <tr>\n      <th>2029</th>\n      <td>1.831195888438356</td>\n    </tr>\n    <tr>\n      <th>2030</th>\n      <td>1.839386671232877</td>\n    </tr>\n    <tr>\n      <th>2031</th>\n      <td>1.856516763082192</td>\n    </tr>\n    <tr>\n      <th>2032</th>\n      <td>1.872222648339041</td>\n    </tr>\n    <tr>\n      <th>2033</th>\n      <td>1.886501533333048</td>\n    </tr>\n    <tr>\n      <th>2034</th>\n      <td>1.899350764077354</td>\n    </tr>\n    <tr>\n      <th>2035</th>\n      <td>1.910767819284446</td>\n    </tr>\n    <tr>\n      <th>2036</th>\n      <td>1.920750303731182</td>\n    </tr>\n    <tr>\n      <th>2037</th>\n      <td>1.929295941955582</td>\n    </tr>\n    <tr>\n      <th>2038</th>\n      <td>1.908207820227787</td>\n    </tr>\n    <tr>\n      <th>2039</th>\n      <td>1.8711123070760973</td>\n    </tr>\n    <tr>\n      <th>2040</th>\n      <td>1.834075921835056</td>\n    </tr>\n    <tr>\n      <th>2041</th>\n      <td>1.8017823291700557</td>\n    </tr>\n    <tr>\n      <th>2042</th>\n      <td>1.7708218947763135</td>\n    </tr>\n    <tr>\n      <th>2043</th>\n      <td>1.7405667032909506</td>\n    </tr>\n    <tr>\n      <th>2044</th>\n      <td>1.7142073374615916</td>\n    </tr>\n    <tr>\n      <th>2045</th>\n      <td>1.6595645117814275</td>\n    </tr>\n    <tr>\n      <th>2046</th>\n      <td>1.6274200600322133</td>\n    </tr>\n    <tr>\n      <th>2047</th>\n      <td>1.5963384480077916</td>\n    </tr>\n    <tr>\n      <th>2048</th>\n      <td>1.566224823052684</td>\n    </tr>\n    <tr>\n      <th>2049</th>\n      <td>1.5369963695761606</td>\n    </tr>\n    <tr>\n      <th>2050</th>\n      <td>1.5085803374409712</td>\n    </tr>\n  </tbody>\n</table>\n</div>"
     },
     "execution_count": 85,
     "metadata": {},
     "output_type": "execute_result"
    }
   ],
   "source": [
    "# Cost of transported hydrogen in [$/kg_h2] in year y\n",
    "LCOH_min = pd.read_csv(r'\\\\dena.de\\Daten\\Home\\Reuter\\Desktop\\H2_pathways_repo\\data\\processed\\Minimal_production_costs.csv', delimiter=';',index_col=0, decimal=',')\n",
    "LCOH_min"
   ],
   "metadata": {
    "collapsed": false,
    "pycharm": {
     "name": "#%%\n"
    }
   }
  },
  {
   "cell_type": "code",
   "execution_count": 90,
   "outputs": [],
   "source": [
    "# Cost of transported hydrogen carrier in [€/kg_h2] in year y\n",
    "H2_costs = (LCOH_min.loc[::]['Minimal_production_costs']).apply(pd.to_numeric)\n",
    "Con_costs = (LH2_Liquefaction_costs.loc[::]['LH2_Liquefaction_costs']).apply(pd.to_numeric)\n",
    "ET_costs =  (LH2_Export_terminal_costs.loc[::]['LH2_Export_terminal_costs']).apply(pd.to_numeric)"
   ],
   "metadata": {
    "collapsed": false,
    "pycharm": {
     "name": "#%%\n"
    }
   }
  },
  {
   "cell_type": "code",
   "execution_count": 91,
   "outputs": [
    {
     "data": {
      "text/plain": "       LH2_cargo_cost\nYears                \n2025         3.812541\n2026         3.695979\n2027         3.479452\n2028         3.145801\n2029         3.154979\n2030         3.162021\n2031         3.140754\n2032         3.118028\n2033         3.093838\n2034         3.068184\n2035         3.041062\n2036         3.012469\n2037         2.982404\n2038         2.922670\n2039         2.846893\n2040         2.771139\n2041         2.695077\n2042         2.620935\n2043         2.548086\n2044         2.479720\n2045         2.383658\n2046         2.310682\n2047         2.239356\n2048         2.169586\n2049         2.101288\n2050         2.034390",
      "text/html": "<div>\n<style scoped>\n    .dataframe tbody tr th:only-of-type {\n        vertical-align: middle;\n    }\n\n    .dataframe tbody tr th {\n        vertical-align: top;\n    }\n\n    .dataframe thead th {\n        text-align: right;\n    }\n</style>\n<table border=\"1\" class=\"dataframe\">\n  <thead>\n    <tr style=\"text-align: right;\">\n      <th></th>\n      <th>LH2_cargo_cost</th>\n    </tr>\n    <tr>\n      <th>Years</th>\n      <th></th>\n    </tr>\n  </thead>\n  <tbody>\n    <tr>\n      <th>2025</th>\n      <td>3.812541</td>\n    </tr>\n    <tr>\n      <th>2026</th>\n      <td>3.695979</td>\n    </tr>\n    <tr>\n      <th>2027</th>\n      <td>3.479452</td>\n    </tr>\n    <tr>\n      <th>2028</th>\n      <td>3.145801</td>\n    </tr>\n    <tr>\n      <th>2029</th>\n      <td>3.154979</td>\n    </tr>\n    <tr>\n      <th>2030</th>\n      <td>3.162021</td>\n    </tr>\n    <tr>\n      <th>2031</th>\n      <td>3.140754</td>\n    </tr>\n    <tr>\n      <th>2032</th>\n      <td>3.118028</td>\n    </tr>\n    <tr>\n      <th>2033</th>\n      <td>3.093838</td>\n    </tr>\n    <tr>\n      <th>2034</th>\n      <td>3.068184</td>\n    </tr>\n    <tr>\n      <th>2035</th>\n      <td>3.041062</td>\n    </tr>\n    <tr>\n      <th>2036</th>\n      <td>3.012469</td>\n    </tr>\n    <tr>\n      <th>2037</th>\n      <td>2.982404</td>\n    </tr>\n    <tr>\n      <th>2038</th>\n      <td>2.922670</td>\n    </tr>\n    <tr>\n      <th>2039</th>\n      <td>2.846893</td>\n    </tr>\n    <tr>\n      <th>2040</th>\n      <td>2.771139</td>\n    </tr>\n    <tr>\n      <th>2041</th>\n      <td>2.695077</td>\n    </tr>\n    <tr>\n      <th>2042</th>\n      <td>2.620935</td>\n    </tr>\n    <tr>\n      <th>2043</th>\n      <td>2.548086</td>\n    </tr>\n    <tr>\n      <th>2044</th>\n      <td>2.479720</td>\n    </tr>\n    <tr>\n      <th>2045</th>\n      <td>2.383658</td>\n    </tr>\n    <tr>\n      <th>2046</th>\n      <td>2.310682</td>\n    </tr>\n    <tr>\n      <th>2047</th>\n      <td>2.239356</td>\n    </tr>\n    <tr>\n      <th>2048</th>\n      <td>2.169586</td>\n    </tr>\n    <tr>\n      <th>2049</th>\n      <td>2.101288</td>\n    </tr>\n    <tr>\n      <th>2050</th>\n      <td>2.034390</td>\n    </tr>\n  </tbody>\n</table>\n</div>"
     },
     "execution_count": 91,
     "metadata": {},
     "output_type": "execute_result"
    }
   ],
   "source": [
    "# €/kg_H2\n",
    "LH2_cargo_cost = (H2_costs + Con_costs + ET_costs).to_frame('LH2_cargo_cost')\n",
    "LH2_cargo_cost"
   ],
   "metadata": {
    "collapsed": false,
    "pycharm": {
     "name": "#%%\n"
    }
   }
  },
  {
   "cell_type": "markdown",
   "source": [
    "Calc. shipping costs @ 10.000km"
   ],
   "metadata": {
    "collapsed": false,
    "pycharm": {
     "name": "#%% md\n"
    }
   }
  },
  {
   "cell_type": "code",
   "execution_count": 213,
   "outputs": [],
   "source": [
    "d_sea = 100"
   ],
   "metadata": {
    "collapsed": false,
    "pycharm": {
     "name": "#%%\n"
    }
   }
  },
  {
   "cell_type": "markdown",
   "source": [
    "Definition of the cost calculation function for the maritime shipping.\n",
    " [%]\n",
    "d_sea [km]\n",
    "v_ship [km/h]\n",
    "h_ship [h] berthing time\n",
    "bog_ship [%/day]\n",
    "f_ship [kg/kg/km]] Fuel use\n",
    "Time relevant variables:\n",
    "capex [€/kg/a]\n",
    "opex [€/kg/a]\n",
    "lcoh in [€/kg_h2]"
   ],
   "metadata": {
    "collapsed": false,
    "pycharm": {
     "name": "#%% md\n"
    }
   }
  },
  {
   "cell_type": "markdown",
   "source": [
    "Fuel assumptions: outward journey - boil-off is used as fuel.\n",
    "Return journey: Residual H2 is used as fuel."
   ],
   "metadata": {
    "collapsed": false,
    "pycharm": {
     "name": "#%% md\n"
    }
   }
  },
  {
   "cell_type": "code",
   "execution_count": 220,
   "outputs": [],
   "source": [
    "def calculate_ship_costs():\n",
    "\n",
    "    result = (alpha_ship * capex_ship_y + opex_ship_y) / (8760/(2*(d_sea/v_ship + h_ship)))\\\n",
    "             /(1-(bog_ship * d_sea/v_ship) - (f_ship  * d_sea))\\\n",
    "             + (bog_ship * d_sea/v_ship + f_ship * d_sea) * lcoh\n",
    "\n",
    "    return result"
   ],
   "metadata": {
    "collapsed": false,
    "pycharm": {
     "name": "#%%\n"
    }
   }
  },
  {
   "cell_type": "code",
   "execution_count": 221,
   "outputs": [
    {
     "data": {
      "text/plain": "      LH2_Shipping_costs\nYears                   \n2025            0.171744\n2026            0.163067\n2027            0.154352\n2028             0.14559\n2029            0.136963\n2030            0.128334\n2031            0.119695\n2032            0.111055\n2033            0.102415\n2034            0.093774\n2035            0.085132\n2036             0.07649\n2037            0.067847\n2038            0.059193\n2039            0.050532\n2040            0.041871\n2041            0.041842\n2042            0.041813\n2043            0.041784\n2044            0.041758\n2045             0.04172\n2046            0.041692\n2047            0.041664\n2048            0.041637\n2049             0.04161\n2050            0.041584",
      "text/html": "<div>\n<style scoped>\n    .dataframe tbody tr th:only-of-type {\n        vertical-align: middle;\n    }\n\n    .dataframe tbody tr th {\n        vertical-align: top;\n    }\n\n    .dataframe thead th {\n        text-align: right;\n    }\n</style>\n<table border=\"1\" class=\"dataframe\">\n  <thead>\n    <tr style=\"text-align: right;\">\n      <th></th>\n      <th>LH2_Shipping_costs</th>\n    </tr>\n    <tr>\n      <th>Years</th>\n      <th></th>\n    </tr>\n  </thead>\n  <tbody>\n    <tr>\n      <th>2025</th>\n      <td>0.171744</td>\n    </tr>\n    <tr>\n      <th>2026</th>\n      <td>0.163067</td>\n    </tr>\n    <tr>\n      <th>2027</th>\n      <td>0.154352</td>\n    </tr>\n    <tr>\n      <th>2028</th>\n      <td>0.14559</td>\n    </tr>\n    <tr>\n      <th>2029</th>\n      <td>0.136963</td>\n    </tr>\n    <tr>\n      <th>2030</th>\n      <td>0.128334</td>\n    </tr>\n    <tr>\n      <th>2031</th>\n      <td>0.119695</td>\n    </tr>\n    <tr>\n      <th>2032</th>\n      <td>0.111055</td>\n    </tr>\n    <tr>\n      <th>2033</th>\n      <td>0.102415</td>\n    </tr>\n    <tr>\n      <th>2034</th>\n      <td>0.093774</td>\n    </tr>\n    <tr>\n      <th>2035</th>\n      <td>0.085132</td>\n    </tr>\n    <tr>\n      <th>2036</th>\n      <td>0.07649</td>\n    </tr>\n    <tr>\n      <th>2037</th>\n      <td>0.067847</td>\n    </tr>\n    <tr>\n      <th>2038</th>\n      <td>0.059193</td>\n    </tr>\n    <tr>\n      <th>2039</th>\n      <td>0.050532</td>\n    </tr>\n    <tr>\n      <th>2040</th>\n      <td>0.041871</td>\n    </tr>\n    <tr>\n      <th>2041</th>\n      <td>0.041842</td>\n    </tr>\n    <tr>\n      <th>2042</th>\n      <td>0.041813</td>\n    </tr>\n    <tr>\n      <th>2043</th>\n      <td>0.041784</td>\n    </tr>\n    <tr>\n      <th>2044</th>\n      <td>0.041758</td>\n    </tr>\n    <tr>\n      <th>2045</th>\n      <td>0.04172</td>\n    </tr>\n    <tr>\n      <th>2046</th>\n      <td>0.041692</td>\n    </tr>\n    <tr>\n      <th>2047</th>\n      <td>0.041664</td>\n    </tr>\n    <tr>\n      <th>2048</th>\n      <td>0.041637</td>\n    </tr>\n    <tr>\n      <th>2049</th>\n      <td>0.04161</td>\n    </tr>\n    <tr>\n      <th>2050</th>\n      <td>0.041584</td>\n    </tr>\n  </tbody>\n</table>\n</div>"
     },
     "execution_count": 221,
     "metadata": {},
     "output_type": "execute_result"
    }
   ],
   "source": [
    "# Calculation of shipping costs [€/kg_h2] from 2025 to 2050.\n",
    "years = np.arange(2025, 2051)\n",
    "result = pd.DataFrame(index=years, columns=['LH2_Shipping_costs'])\n",
    "result.index.name = 'Years'\n",
    "\n",
    "for year in years:\n",
    "    # get capex, opex, xx\n",
    "    capex_ship_y = float(tea_lh2.loc['Shipping - Capex/Ship opt. [€/t/a]'][year])/1000\n",
    "    opex_ship_y = capex_ship_y * opex_ship_share\n",
    "    lcoh = float(LH2_cargo_cost.loc[year]['LH2_cargo_cost'])\n",
    "\n",
    "    # calculate costs of specific year\n",
    "    result.LH2_Shipping_costs.loc[year] = calculate_ship_costs()\n",
    "\n",
    "result"
   ],
   "metadata": {
    "collapsed": false,
    "pycharm": {
     "name": "#%%\n"
    }
   }
  },
  {
   "cell_type": "code",
   "execution_count": 222,
   "outputs": [],
   "source": [
    "LH2_Shipping_costs = result"
   ],
   "metadata": {
    "collapsed": false,
    "pycharm": {
     "name": "#%%\n"
    }
   }
  },
  {
   "cell_type": "code",
   "execution_count": null,
   "outputs": [],
   "source": [
    "# export result to excel\n",
    "from openpyxl import load_workbook\n",
    "path = '/Users/jakob/PycharmProjects/H2_pathways_repo/data/raw/H2_supply_route_assessment.xlsx'\n",
    "\n",
    "writer = pd.ExcelWriter(path, engine='openpyxl', mode='a', if_sheet_exists='overlay')\n",
    "book = load_workbook(path)\n",
    "writer.book = book\n",
    "writer.sheets = dict((ws.title, ws) for ws in book.worksheets)\n",
    "\n",
    "ws = book['Reference Results']\n",
    "\n",
    "result.to_excel(writer, sheet_name='Reference Results', index=False, startcol=ws.max_column)\n",
    "book.save('/Users/jakob/PycharmProjects/H2_pathways_repo/data/raw/H2_supply_route_assessment.xlsx')\n",
    "book.close()"
   ],
   "metadata": {
    "collapsed": false,
    "pycharm": {
     "name": "#%%\n"
    }
   }
  },
  {
   "cell_type": "code",
   "execution_count": 95,
   "outputs": [],
   "source": [
    "# Create csv file from results dataframe\n",
    "output_file = os.path.join(path_csv, 'LH2_Shipping_costs.csv')\n",
    "result.to_csv(output_file, sep=';')"
   ],
   "metadata": {
    "collapsed": false,
    "pycharm": {
     "name": "#%%\n"
    }
   }
  },
  {
   "cell_type": "markdown",
   "source": [
    "Plot shipping costs"
   ],
   "metadata": {
    "collapsed": false,
    "pycharm": {
     "name": "#%% md\n"
    }
   }
  },
  {
   "cell_type": "code",
   "execution_count": 96,
   "outputs": [
    {
     "data": {
      "text/plain": "<Figure size 1000x600 with 1 Axes>",
      "image/png": "[encoded data removed]"
     },
     "metadata": {},
     "output_type": "display_data"
    }
   ],
   "source": [
    "# Plot cost curve of hydrogen production from NGR with CCS\n",
    "fig, ax = plt.subplots(figsize=(10,6))\n",
    "plt.plot(result, color = 'green', linestyle = 'solid')\n",
    "plt.grid(True, axis = 'y')\n",
    "ax.set_axisbelow(True)\n",
    "plt.title('Shipping costs over time in €/kg H2', fontweight='bold')\n",
    "plt.xlabel('Year')\n",
    "plt.ylabel('Cost')\n",
    "plt.show()"
   ],
   "metadata": {
    "collapsed": false,
    "pycharm": {
     "name": "#%%\n"
    }
   }
  },
  {
   "cell_type": "markdown",
   "source": [
    "## Import terminal"
   ],
   "metadata": {
    "collapsed": false,
    "pycharm": {
     "name": "#%% md\n"
    }
   }
  },
  {
   "cell_type": "code",
   "execution_count": null,
   "outputs": [],
   "source": [
    "# Definition of variables for the import terminal costs"
   ],
   "metadata": {
    "collapsed": false,
    "pycharm": {
     "name": "#%%\n"
    }
   }
  },
  {
   "cell_type": "code",
   "execution_count": 97,
   "outputs": [],
   "source": [
    "# Amortisation factor for the import terminal\n",
    "alpha_it = alpha_et"
   ],
   "metadata": {
    "collapsed": false,
    "pycharm": {
     "name": "#%%\n"
    }
   }
  },
  {
   "cell_type": "code",
   "execution_count": 98,
   "outputs": [
    {
     "data": {
      "text/plain": "0.2"
     },
     "execution_count": 98,
     "metadata": {},
     "output_type": "execute_result"
    }
   ],
   "source": [
    "# Electricity consumption in kWh/kg H2\n",
    "el_it = float(tea_lh2.loc['Import Terminal - Electricity use [kWh/kg H2]']['LH2'])\n",
    "el_it"
   ],
   "metadata": {
    "collapsed": false,
    "pycharm": {
     "name": "#%%\n"
    }
   }
  },
  {
   "cell_type": "code",
   "execution_count": 99,
   "outputs": [
    {
     "data": {
      "text/plain": "0.001"
     },
     "execution_count": 99,
     "metadata": {},
     "output_type": "execute_result"
    }
   ],
   "source": [
    "# Import terminal boil-off in [%/day]\n",
    "bog_it = float(tea_lh2.loc['Import Terminal - Boil-off [%/day]']['LH2'])\n",
    "bog_it"
   ],
   "metadata": {
    "collapsed": false,
    "pycharm": {
     "name": "#%%\n"
    }
   }
  },
  {
   "cell_type": "code",
   "execution_count": 100,
   "outputs": [
    {
     "data": {
      "text/plain": "7.0"
     },
     "execution_count": 100,
     "metadata": {},
     "output_type": "execute_result"
    }
   ],
   "source": [
    "# Average storage time in the export terminal tanks in days\n",
    "t_it = float(tea_lh2.loc['Import Terminal - Storage length per load [days]']['LH2'])\n",
    "t_it"
   ],
   "metadata": {
    "collapsed": false,
    "pycharm": {
     "name": "#%%\n"
    }
   }
  },
  {
   "cell_type": "code",
   "execution_count": 101,
   "outputs": [
    {
     "data": {
      "text/plain": "0.04"
     },
     "execution_count": 101,
     "metadata": {},
     "output_type": "execute_result"
    }
   ],
   "source": [
    "opex_it_share =  float(tea_lh2.loc['Import Terminal - Annual OPEX [% of Opex]']['LH2'])\n",
    "opex_it_share"
   ],
   "metadata": {
    "collapsed": false,
    "pycharm": {
     "name": "#%%\n"
    }
   }
  },
  {
   "cell_type": "code",
   "execution_count": 136,
   "outputs": [],
   "source": [
    "# Import terminal costs in [$/kg_h2]:\n",
    "# Capex for the import terminal in [$/tpa]\n",
    "# Opex for the import terminal in [$/tpa]\n",
    "# Electricity consumption for the import terminal in [kWh/kg_h2]\n",
    "# Price for electricity in importing country [$/MWh]\n",
    "# Import terminal boil-off in [%/h]\n",
    "# Berthing time in import terminal in [h]\n",
    "# Cost of transported hydrogen in [$/kg_h2]\n",
    "years = np.arange(2025, 2051)\n",
    "result = pd.DataFrame(index=years, columns=['LH2_Import_terminal_costs'])\n",
    "result.index.name = 'Years'\n",
    "\n",
    "def calculate_import_terminal_costs():\n",
    "    result = (alpha_it * capex_it_y/1000 + opex_it_y/1000) + (el_it + el_reliq * t_it) * p_el_y* 0.89/1000\n",
    "\n",
    "    return result"
   ],
   "metadata": {
    "collapsed": false,
    "pycharm": {
     "name": "#%%\n"
    }
   }
  },
  {
   "cell_type": "code",
   "execution_count": 137,
   "outputs": [
    {
     "data": {
      "text/plain": "      LH2_Import_terminal_costs\nYears                          \n2025                   0.273697\n2026                   0.258624\n2027                   0.243551\n2028                   0.228478\n2029                   0.213405\n2030                   0.198332\n2031                   0.193974\n2032                   0.189689\n2033                   0.185468\n2034                   0.181306\n2035                   0.177197\n2036                   0.173134\n2037                   0.169114\n2038                   0.165133\n2039                   0.161186\n2040                   0.154756\n2041                   0.150559\n2042                   0.146362\n2043                   0.142164\n2044                   0.137967\n2045                    0.13377\n2046                   0.129572\n2047                   0.125375\n2048                   0.121178\n2049                    0.11698\n2050                   0.112783",
      "text/html": "<div>\n<style scoped>\n    .dataframe tbody tr th:only-of-type {\n        vertical-align: middle;\n    }\n\n    .dataframe tbody tr th {\n        vertical-align: top;\n    }\n\n    .dataframe thead th {\n        text-align: right;\n    }\n</style>\n<table border=\"1\" class=\"dataframe\">\n  <thead>\n    <tr style=\"text-align: right;\">\n      <th></th>\n      <th>LH2_Import_terminal_costs</th>\n    </tr>\n    <tr>\n      <th>Years</th>\n      <th></th>\n    </tr>\n  </thead>\n  <tbody>\n    <tr>\n      <th>2025</th>\n      <td>0.273697</td>\n    </tr>\n    <tr>\n      <th>2026</th>\n      <td>0.258624</td>\n    </tr>\n    <tr>\n      <th>2027</th>\n      <td>0.243551</td>\n    </tr>\n    <tr>\n      <th>2028</th>\n      <td>0.228478</td>\n    </tr>\n    <tr>\n      <th>2029</th>\n      <td>0.213405</td>\n    </tr>\n    <tr>\n      <th>2030</th>\n      <td>0.198332</td>\n    </tr>\n    <tr>\n      <th>2031</th>\n      <td>0.193974</td>\n    </tr>\n    <tr>\n      <th>2032</th>\n      <td>0.189689</td>\n    </tr>\n    <tr>\n      <th>2033</th>\n      <td>0.185468</td>\n    </tr>\n    <tr>\n      <th>2034</th>\n      <td>0.181306</td>\n    </tr>\n    <tr>\n      <th>2035</th>\n      <td>0.177197</td>\n    </tr>\n    <tr>\n      <th>2036</th>\n      <td>0.173134</td>\n    </tr>\n    <tr>\n      <th>2037</th>\n      <td>0.169114</td>\n    </tr>\n    <tr>\n      <th>2038</th>\n      <td>0.165133</td>\n    </tr>\n    <tr>\n      <th>2039</th>\n      <td>0.161186</td>\n    </tr>\n    <tr>\n      <th>2040</th>\n      <td>0.154756</td>\n    </tr>\n    <tr>\n      <th>2041</th>\n      <td>0.150559</td>\n    </tr>\n    <tr>\n      <th>2042</th>\n      <td>0.146362</td>\n    </tr>\n    <tr>\n      <th>2043</th>\n      <td>0.142164</td>\n    </tr>\n    <tr>\n      <th>2044</th>\n      <td>0.137967</td>\n    </tr>\n    <tr>\n      <th>2045</th>\n      <td>0.13377</td>\n    </tr>\n    <tr>\n      <th>2046</th>\n      <td>0.129572</td>\n    </tr>\n    <tr>\n      <th>2047</th>\n      <td>0.125375</td>\n    </tr>\n    <tr>\n      <th>2048</th>\n      <td>0.121178</td>\n    </tr>\n    <tr>\n      <th>2049</th>\n      <td>0.11698</td>\n    </tr>\n    <tr>\n      <th>2050</th>\n      <td>0.112783</td>\n    </tr>\n  </tbody>\n</table>\n</div>"
     },
     "execution_count": 137,
     "metadata": {},
     "output_type": "execute_result"
    }
   ],
   "source": [
    "for year in years:\n",
    "    # get capex, opex, xx\n",
    "    capex_it_y = float(tea_lh2.loc['Import Terminal - CAPEX [€/t/a]'][year])\n",
    "    opex_it_y = capex_it_y * opex_it_share\n",
    "    p_el_y = float(el_price.loc['Electricity prices in Germany [€_2020/MWh]'][year])\n",
    "\n",
    "\n",
    "    # calculate costs of specific year\n",
    "    result.LH2_Import_terminal_costs.loc[year] = calculate_import_terminal_costs()\n",
    "\n",
    "result"
   ],
   "metadata": {
    "collapsed": false,
    "pycharm": {
     "name": "#%%\n"
    }
   }
  },
  {
   "cell_type": "code",
   "execution_count": 138,
   "outputs": [],
   "source": [
    "LH2_Import_terminal_costs = result"
   ],
   "metadata": {
    "collapsed": false,
    "pycharm": {
     "name": "#%%\n"
    }
   }
  },
  {
   "cell_type": "code",
   "execution_count": null,
   "outputs": [],
   "source": [
    "# export result to excel\n",
    "from openpyxl import load_workbook\n",
    "path = '/Users/jakob/PycharmProjects/H2_pathways_repo/data/raw/H2_supply_route_assessment.xlsx'\n",
    "\n",
    "writer = pd.ExcelWriter(path, engine='openpyxl', mode='a', if_sheet_exists='overlay')\n",
    "book = load_workbook(path)\n",
    "writer.book = book\n",
    "writer.sheets = dict((ws.title, ws) for ws in book.worksheets)\n",
    "\n",
    "ws = book['Reference Results']\n",
    "\n",
    "result.to_excel(writer, sheet_name='Reference Results', index=False, startcol=ws.max_column)\n",
    "book.save('/Users/jakob/PycharmProjects/H2_pathways_repo/data/raw/H2_supply_route_assessment.xlsx')\n",
    "book.close()"
   ],
   "metadata": {
    "collapsed": false,
    "pycharm": {
     "name": "#%%\n"
    }
   }
  },
  {
   "cell_type": "code",
   "execution_count": null,
   "outputs": [],
   "source": [
    "# Create csv file from results dataframe\n",
    "path = r'/Users/jakob/PycharmProjects/H2_pathways_repo/data/processed'\n",
    "output_file = os.path.join(path, 'LH2_Import_terminal_costs.csv')\n",
    "result.to_csv(output_file, sep=';')"
   ],
   "metadata": {
    "collapsed": false,
    "pycharm": {
     "name": "#%%\n"
    }
   }
  },
  {
   "cell_type": "markdown",
   "source": [
    "Plot import terminal costs"
   ],
   "metadata": {
    "collapsed": false,
    "pycharm": {
     "name": "#%% md\n"
    }
   }
  },
  {
   "cell_type": "code",
   "execution_count": null,
   "outputs": [],
   "source": [
    "fig, ax = plt.subplots(figsize=(10,6))\n",
    "plt.plot(result, color = 'red', linestyle = 'solid')\n",
    "plt.grid(True, axis = 'y')\n",
    "ax.set_axisbelow(True)\n",
    "plt.plot(result, color='red', linestyle='dashed')\n",
    "plt.title('Import terminal costs over time', fontweight='bold', fontsize='large')\n",
    "plt.legend(['Import terminal costs in €/kg_H2'])\n",
    "plt.xlabel('Year', fontsize='large')\n",
    "plt.ylabel('Cost [€/kg_H2]', fontsize='large')\n",
    "plt.show()"
   ],
   "metadata": {
    "collapsed": false,
    "pycharm": {
     "name": "#%%\n"
    }
   }
  },
  {
   "cell_type": "markdown",
   "source": [
    "## Reconversion"
   ],
   "metadata": {
    "collapsed": false,
    "pycharm": {
     "name": "#%% md\n"
    }
   }
  },
  {
   "cell_type": "code",
   "execution_count": 105,
   "outputs": [
    {
     "data": {
      "text/plain": "30.0"
     },
     "execution_count": 105,
     "metadata": {},
     "output_type": "execute_result"
    }
   ],
   "source": [
    "# Economic lifetime for the reconversion plant [years]\n",
    "l_recon = float(tea_lh2.loc['Reconversion - Lifetime [Years]']['LH2'])\n",
    "l_recon"
   ],
   "metadata": {
    "collapsed": false,
    "pycharm": {
     "name": "#%%\n"
    }
   }
  },
  {
   "cell_type": "code",
   "execution_count": 106,
   "outputs": [
    {
     "data": {
      "text/plain": "0.06505143508027657"
     },
     "execution_count": 106,
     "metadata": {},
     "output_type": "execute_result"
    }
   ],
   "source": [
    "# Amortisation factor alpha for the reconversion plant\n",
    "alpha_recon =  (i_liq * (1 + i_liq) ** l_recon) /(((1 + i_liq) ** l_recon) - 1)\n",
    "alpha_liq\n"
   ],
   "metadata": {
    "collapsed": false,
    "pycharm": {
     "name": "#%%\n"
    }
   }
  },
  {
   "cell_type": "code",
   "execution_count": 107,
   "outputs": [
    {
     "data": {
      "text/plain": "0.2"
     },
     "execution_count": 107,
     "metadata": {},
     "output_type": "execute_result"
    }
   ],
   "source": [
    "# Electricty consumption for the conversion in [kWh/kg_h2]\n",
    "el_recon = float(tea_lh2.loc['Import Terminal - Electricity use [kWh/kg H2]']['LH2'])\n",
    "el_recon"
   ],
   "metadata": {
    "collapsed": false,
    "pycharm": {
     "name": "#%%\n"
    }
   }
  },
  {
   "cell_type": "code",
   "execution_count": 108,
   "outputs": [
    {
     "data": {
      "text/plain": "0.03"
     },
     "execution_count": 108,
     "metadata": {},
     "output_type": "execute_result"
    }
   ],
   "source": [
    "opex_recon_share = float(tea_lh2.loc['Reconversion - Opex opt. [% of Capex]']['LH2'])\n",
    "opex_recon_share"
   ],
   "metadata": {
    "collapsed": false,
    "pycharm": {
     "name": "#%%\n"
    }
   }
  },
  {
   "cell_type": "code",
   "execution_count": 141,
   "outputs": [],
   "source": [
    "def calculate_recon_costs(alpha_recon, capex_recon_y, opex_recon_y, el_recon_y, p_el_y):\n",
    "    result = float(\n",
    "        (alpha_recon * capex_recon_y / 1000 + opex_recon_y / 1000) + el_recon_y * p_el_y / 1000 * 0.89)\n",
    "    return result\n"
   ],
   "metadata": {
    "collapsed": false,
    "pycharm": {
     "name": "#%%\n"
    }
   }
  },
  {
   "cell_type": "code",
   "execution_count": 142,
   "outputs": [],
   "source": [
    "# Calculation of conversion costs [€/kg_h2] from 2030 to 2050.\n",
    "years = np.arange(2025, 2051)\n",
    "result = pd.DataFrame(index=years, columns=['LH2_Reconversion_costs'])\n",
    "result.index.name = 'Years'"
   ],
   "metadata": {
    "collapsed": false,
    "pycharm": {
     "name": "#%%\n"
    }
   }
  },
  {
   "cell_type": "code",
   "execution_count": 143,
   "outputs": [
    {
     "data": {
      "text/plain": "      LH2_Reconversion_costs\nYears                       \n2025                0.255359\n2026                0.235161\n2027                0.215561\n2028                 0.19656\n2029                0.178156\n2030                 0.16035\n2031                 0.15135\n2032                0.142427\n2033                0.133572\n2034                0.124776\n2035                0.116033\n2036                0.107336\n2037                 0.09868\n2038                 0.09006\n2039                0.081471\n2040                0.071792\n2041                0.067458\n2042                0.063148\n2043                0.058863\n2044                0.054604\n2045                0.050369\n2046                0.046159\n2047                0.041974\n2048                0.037814\n2049                0.033679\n2050                0.029569",
      "text/html": "<div>\n<style scoped>\n    .dataframe tbody tr th:only-of-type {\n        vertical-align: middle;\n    }\n\n    .dataframe tbody tr th {\n        vertical-align: top;\n    }\n\n    .dataframe thead th {\n        text-align: right;\n    }\n</style>\n<table border=\"1\" class=\"dataframe\">\n  <thead>\n    <tr style=\"text-align: right;\">\n      <th></th>\n      <th>LH2_Reconversion_costs</th>\n    </tr>\n    <tr>\n      <th>Years</th>\n      <th></th>\n    </tr>\n  </thead>\n  <tbody>\n    <tr>\n      <th>2025</th>\n      <td>0.255359</td>\n    </tr>\n    <tr>\n      <th>2026</th>\n      <td>0.235161</td>\n    </tr>\n    <tr>\n      <th>2027</th>\n      <td>0.215561</td>\n    </tr>\n    <tr>\n      <th>2028</th>\n      <td>0.19656</td>\n    </tr>\n    <tr>\n      <th>2029</th>\n      <td>0.178156</td>\n    </tr>\n    <tr>\n      <th>2030</th>\n      <td>0.16035</td>\n    </tr>\n    <tr>\n      <th>2031</th>\n      <td>0.15135</td>\n    </tr>\n    <tr>\n      <th>2032</th>\n      <td>0.142427</td>\n    </tr>\n    <tr>\n      <th>2033</th>\n      <td>0.133572</td>\n    </tr>\n    <tr>\n      <th>2034</th>\n      <td>0.124776</td>\n    </tr>\n    <tr>\n      <th>2035</th>\n      <td>0.116033</td>\n    </tr>\n    <tr>\n      <th>2036</th>\n      <td>0.107336</td>\n    </tr>\n    <tr>\n      <th>2037</th>\n      <td>0.09868</td>\n    </tr>\n    <tr>\n      <th>2038</th>\n      <td>0.09006</td>\n    </tr>\n    <tr>\n      <th>2039</th>\n      <td>0.081471</td>\n    </tr>\n    <tr>\n      <th>2040</th>\n      <td>0.071792</td>\n    </tr>\n    <tr>\n      <th>2041</th>\n      <td>0.067458</td>\n    </tr>\n    <tr>\n      <th>2042</th>\n      <td>0.063148</td>\n    </tr>\n    <tr>\n      <th>2043</th>\n      <td>0.058863</td>\n    </tr>\n    <tr>\n      <th>2044</th>\n      <td>0.054604</td>\n    </tr>\n    <tr>\n      <th>2045</th>\n      <td>0.050369</td>\n    </tr>\n    <tr>\n      <th>2046</th>\n      <td>0.046159</td>\n    </tr>\n    <tr>\n      <th>2047</th>\n      <td>0.041974</td>\n    </tr>\n    <tr>\n      <th>2048</th>\n      <td>0.037814</td>\n    </tr>\n    <tr>\n      <th>2049</th>\n      <td>0.033679</td>\n    </tr>\n    <tr>\n      <th>2050</th>\n      <td>0.029569</td>\n    </tr>\n  </tbody>\n</table>\n</div>"
     },
     "execution_count": 143,
     "metadata": {},
     "output_type": "execute_result"
    }
   ],
   "source": [
    "for year in years:\n",
    "    # get capex, opex, natural gas price and CO2 price of specific year\n",
    "    capex_recon_y = float(tea_lh2.loc['Reconversion - Capex opt. [€/t/a]'][year])\n",
    "    opex_recon_y = capex_recon_y * opex_recon_share\n",
    "    el_recon_y = float(tea_lh2.loc['Reconversion - Electricity consumption opt. [kWh/kg H2]'][year])\n",
    "    p_el_y = float(el_price.loc['Electricity prices in Germany [€_2020/MWh]'][year])\n",
    "\n",
    "    # calculate costs of specific year\n",
    "    result.LH2_Reconversion_costs.loc[year] = calculate_recon_costs(alpha_recon=alpha_recon, capex_recon_y=capex_recon_y,\n",
    "                                                                opex_recon_y=opex_recon_y, el_recon_y=el_recon_y,\n",
    "                                                                p_el_y=p_el_y)\n",
    "result"
   ],
   "metadata": {
    "collapsed": false,
    "pycharm": {
     "name": "#%%\n"
    }
   }
  },
  {
   "cell_type": "code",
   "execution_count": 144,
   "outputs": [],
   "source": [
    "LH2_Reconversion_costs = result"
   ],
   "metadata": {
    "collapsed": false,
    "pycharm": {
     "name": "#%%\n"
    }
   }
  },
  {
   "cell_type": "code",
   "execution_count": null,
   "outputs": [],
   "source": [
    "# export result to excel\n",
    "from openpyxl import load_workbook\n",
    "path = '/Users/jakob/PycharmProjects/H2_pathways_repo/data/raw/H2_supply_route_assessment.xlsx'\n",
    "\n",
    "writer = pd.ExcelWriter(path, engine='openpyxl', mode='a', if_sheet_exists='overlay')\n",
    "book = load_workbook(path)\n",
    "writer.book = book\n",
    "writer.sheets = dict((ws.title, ws) for ws in book.worksheets)\n",
    "\n",
    "ws = book['Reference Results']\n",
    "\n",
    "result.to_excel(writer, sheet_name='Reference Results', index=False, startcol=ws.max_column)\n",
    "book.save('/Users/jakob/PycharmProjects/H2_pathways_repo/data/raw/H2_supply_route_assessment.xlsx')\n",
    "book.close()"
   ],
   "metadata": {
    "collapsed": false,
    "pycharm": {
     "name": "#%%\n"
    }
   }
  },
  {
   "cell_type": "code",
   "execution_count": null,
   "outputs": [],
   "source": [
    "# Create csv file from results dataframe\n",
    "path = r'/Users/jakob/PycharmProjects/H2_pathways_repo/data/processed'\n",
    "output_file = os.path.join(path, 'LH2_Reconversion_costs.csv')\n",
    "result.to_csv(output_file, sep=';')"
   ],
   "metadata": {
    "collapsed": false,
    "pycharm": {
     "name": "#%%\n"
    }
   }
  },
  {
   "cell_type": "markdown",
   "source": [
    "## Total LH2 transport costs"
   ],
   "metadata": {
    "collapsed": false,
    "pycharm": {
     "name": "#%% md\n"
    }
   }
  },
  {
   "cell_type": "code",
   "execution_count": 145,
   "outputs": [],
   "source": [
    "liq_costs = LH2_Liquefaction_costs\n",
    "et_costs = LH2_Export_terminal_costs\n",
    "ship_costs = LH2_Shipping_costs\n",
    "it_costs = LH2_Import_terminal_costs\n",
    "recon_costs = LH2_Reconversion_costs"
   ],
   "metadata": {
    "collapsed": false,
    "pycharm": {
     "name": "#%%\n"
    }
   }
  },
  {
   "cell_type": "code",
   "execution_count": 134,
   "outputs": [
    {
     "data": {
      "text/plain": "      LH2_Import_terminal_costs\nYears                          \n2025                        NaN\n2026                        NaN\n2027                        NaN\n2028                        NaN\n2029                        NaN\n2030                        NaN\n2031                        NaN\n2032                        NaN\n2033                        NaN\n2034                        NaN\n2035                        NaN\n2036                        NaN\n2037                        NaN\n2038                        NaN\n2039                        NaN\n2040                        NaN\n2041                        NaN\n2042                        NaN\n2043                        NaN\n2044                        NaN\n2045                        NaN\n2046                        NaN\n2047                        NaN\n2048                        NaN\n2049                        NaN\n2050                        NaN",
      "text/html": "<div>\n<style scoped>\n    .dataframe tbody tr th:only-of-type {\n        vertical-align: middle;\n    }\n\n    .dataframe tbody tr th {\n        vertical-align: top;\n    }\n\n    .dataframe thead th {\n        text-align: right;\n    }\n</style>\n<table border=\"1\" class=\"dataframe\">\n  <thead>\n    <tr style=\"text-align: right;\">\n      <th></th>\n      <th>LH2_Import_terminal_costs</th>\n    </tr>\n    <tr>\n      <th>Years</th>\n      <th></th>\n    </tr>\n  </thead>\n  <tbody>\n    <tr>\n      <th>2025</th>\n      <td>NaN</td>\n    </tr>\n    <tr>\n      <th>2026</th>\n      <td>NaN</td>\n    </tr>\n    <tr>\n      <th>2027</th>\n      <td>NaN</td>\n    </tr>\n    <tr>\n      <th>2028</th>\n      <td>NaN</td>\n    </tr>\n    <tr>\n      <th>2029</th>\n      <td>NaN</td>\n    </tr>\n    <tr>\n      <th>2030</th>\n      <td>NaN</td>\n    </tr>\n    <tr>\n      <th>2031</th>\n      <td>NaN</td>\n    </tr>\n    <tr>\n      <th>2032</th>\n      <td>NaN</td>\n    </tr>\n    <tr>\n      <th>2033</th>\n      <td>NaN</td>\n    </tr>\n    <tr>\n      <th>2034</th>\n      <td>NaN</td>\n    </tr>\n    <tr>\n      <th>2035</th>\n      <td>NaN</td>\n    </tr>\n    <tr>\n      <th>2036</th>\n      <td>NaN</td>\n    </tr>\n    <tr>\n      <th>2037</th>\n      <td>NaN</td>\n    </tr>\n    <tr>\n      <th>2038</th>\n      <td>NaN</td>\n    </tr>\n    <tr>\n      <th>2039</th>\n      <td>NaN</td>\n    </tr>\n    <tr>\n      <th>2040</th>\n      <td>NaN</td>\n    </tr>\n    <tr>\n      <th>2041</th>\n      <td>NaN</td>\n    </tr>\n    <tr>\n      <th>2042</th>\n      <td>NaN</td>\n    </tr>\n    <tr>\n      <th>2043</th>\n      <td>NaN</td>\n    </tr>\n    <tr>\n      <th>2044</th>\n      <td>NaN</td>\n    </tr>\n    <tr>\n      <th>2045</th>\n      <td>NaN</td>\n    </tr>\n    <tr>\n      <th>2046</th>\n      <td>NaN</td>\n    </tr>\n    <tr>\n      <th>2047</th>\n      <td>NaN</td>\n    </tr>\n    <tr>\n      <th>2048</th>\n      <td>NaN</td>\n    </tr>\n    <tr>\n      <th>2049</th>\n      <td>NaN</td>\n    </tr>\n    <tr>\n      <th>2050</th>\n      <td>NaN</td>\n    </tr>\n  </tbody>\n</table>\n</div>"
     },
     "execution_count": 134,
     "metadata": {},
     "output_type": "execute_result"
    }
   ],
   "source": [
    "it_costs"
   ],
   "metadata": {
    "collapsed": false,
    "pycharm": {
     "name": "#%%\n"
    }
   }
  },
  {
   "cell_type": "code",
   "execution_count": 146,
   "outputs": [],
   "source": [
    "years = np.arange(2025, 2051)\n",
    "result = pd.DataFrame(index=years, columns=['LH2_transport_costs'])\n",
    "result.index.name = 'Years'"
   ],
   "metadata": {
    "collapsed": false,
    "pycharm": {
     "name": "#%%\n"
    }
   }
  },
  {
   "cell_type": "code",
   "execution_count": 147,
   "outputs": [],
   "source": [
    "# Calculate total transport costs from liquefaction costs (LC), export terminal costs (EC), Shipping costs (SC), import terminal costs (IC)\n",
    "def calculate_seaborne_transport_costs():\n",
    "    result = LC + EC + SC + IC + RC\n",
    "\n",
    "    return result"
   ],
   "metadata": {
    "collapsed": false,
    "pycharm": {
     "name": "#%%\n"
    }
   }
  },
  {
   "cell_type": "code",
   "execution_count": 148,
   "outputs": [
    {
     "data": {
      "text/plain": "      LH2_transport_costs\nYears                    \n2025             2.084814\n2026             2.039783\n2027             1.994332\n2028             1.948421\n2029              1.90313\n2030             1.857649\n2031             1.794376\n2032             1.731212\n2033             1.668142\n2034              1.60515\n2035             1.542225\n2036             1.479355\n2037             1.416528\n2038              1.35367\n2039             1.290805\n2040             1.224332\n2041             1.171853\n2042              1.11999\n2043             1.068743\n2044             1.018119\n2045             0.968041\n2046             0.918631\n2047             0.869836\n2048             0.821658\n2049             0.774095\n2050             0.727148",
      "text/html": "<div>\n<style scoped>\n    .dataframe tbody tr th:only-of-type {\n        vertical-align: middle;\n    }\n\n    .dataframe tbody tr th {\n        vertical-align: top;\n    }\n\n    .dataframe thead th {\n        text-align: right;\n    }\n</style>\n<table border=\"1\" class=\"dataframe\">\n  <thead>\n    <tr style=\"text-align: right;\">\n      <th></th>\n      <th>LH2_transport_costs</th>\n    </tr>\n    <tr>\n      <th>Years</th>\n      <th></th>\n    </tr>\n  </thead>\n  <tbody>\n    <tr>\n      <th>2025</th>\n      <td>2.084814</td>\n    </tr>\n    <tr>\n      <th>2026</th>\n      <td>2.039783</td>\n    </tr>\n    <tr>\n      <th>2027</th>\n      <td>1.994332</td>\n    </tr>\n    <tr>\n      <th>2028</th>\n      <td>1.948421</td>\n    </tr>\n    <tr>\n      <th>2029</th>\n      <td>1.90313</td>\n    </tr>\n    <tr>\n      <th>2030</th>\n      <td>1.857649</td>\n    </tr>\n    <tr>\n      <th>2031</th>\n      <td>1.794376</td>\n    </tr>\n    <tr>\n      <th>2032</th>\n      <td>1.731212</td>\n    </tr>\n    <tr>\n      <th>2033</th>\n      <td>1.668142</td>\n    </tr>\n    <tr>\n      <th>2034</th>\n      <td>1.60515</td>\n    </tr>\n    <tr>\n      <th>2035</th>\n      <td>1.542225</td>\n    </tr>\n    <tr>\n      <th>2036</th>\n      <td>1.479355</td>\n    </tr>\n    <tr>\n      <th>2037</th>\n      <td>1.416528</td>\n    </tr>\n    <tr>\n      <th>2038</th>\n      <td>1.35367</td>\n    </tr>\n    <tr>\n      <th>2039</th>\n      <td>1.290805</td>\n    </tr>\n    <tr>\n      <th>2040</th>\n      <td>1.224332</td>\n    </tr>\n    <tr>\n      <th>2041</th>\n      <td>1.171853</td>\n    </tr>\n    <tr>\n      <th>2042</th>\n      <td>1.11999</td>\n    </tr>\n    <tr>\n      <th>2043</th>\n      <td>1.068743</td>\n    </tr>\n    <tr>\n      <th>2044</th>\n      <td>1.018119</td>\n    </tr>\n    <tr>\n      <th>2045</th>\n      <td>0.968041</td>\n    </tr>\n    <tr>\n      <th>2046</th>\n      <td>0.918631</td>\n    </tr>\n    <tr>\n      <th>2047</th>\n      <td>0.869836</td>\n    </tr>\n    <tr>\n      <th>2048</th>\n      <td>0.821658</td>\n    </tr>\n    <tr>\n      <th>2049</th>\n      <td>0.774095</td>\n    </tr>\n    <tr>\n      <th>2050</th>\n      <td>0.727148</td>\n    </tr>\n  </tbody>\n</table>\n</div>"
     },
     "execution_count": 148,
     "metadata": {},
     "output_type": "execute_result"
    }
   ],
   "source": [
    "for year in years:\n",
    "    # get all costs\n",
    "    LC = float(liq_costs.loc[year]['LH2_Liquefaction_costs'])\n",
    "    EC = float(et_costs.loc[ year]['LH2_Export_terminal_costs'])\n",
    "    SC = float(ship_costs.loc[year]['LH2_Shipping_costs'])\n",
    "    IC = float(it_costs.loc[year]['LH2_Import_terminal_costs'])\n",
    "    RC = float(recon_costs.loc[year]['LH2_Reconversion_costs'])\n",
    "    # calculate costs of specific year\n",
    "    result.LH2_transport_costs.loc[year] = calculate_seaborne_transport_costs()\n",
    "\n",
    "result"
   ],
   "metadata": {
    "collapsed": false,
    "pycharm": {
     "name": "#%%\n"
    }
   }
  },
  {
   "cell_type": "code",
   "execution_count": 150,
   "outputs": [],
   "source": [
    "LH2_transport_costs =result"
   ],
   "metadata": {
    "collapsed": false,
    "pycharm": {
     "name": "#%%\n"
    }
   }
  },
  {
   "cell_type": "code",
   "execution_count": 151,
   "outputs": [
    {
     "name": "stderr",
     "output_type": "stream",
     "text": [
      "C:\\Users\\REUTER\\AppData\\Local\\Temp\\ipykernel_11440\\986526507.py:4: FutureWarning: Setting the `book` attribute is not part of the public API, usage can give unexpected or corrupted results and will be removed in a future version\n",
      "  writer.book = book\n"
     ]
    },
    {
     "ename": "AttributeError",
     "evalue": "can't set attribute 'sheets'",
     "output_type": "error",
     "traceback": [
      "\u001B[1;31m---------------------------------------------------------------------------\u001B[0m",
      "\u001B[1;31mAttributeError\u001B[0m                            Traceback (most recent call last)",
      "Cell \u001B[1;32mIn [151], line 5\u001B[0m\n\u001B[0;32m      3\u001B[0m book \u001B[38;5;241m=\u001B[39m load_workbook(path)\n\u001B[0;32m      4\u001B[0m writer\u001B[38;5;241m.\u001B[39mbook \u001B[38;5;241m=\u001B[39m book\n\u001B[1;32m----> 5\u001B[0m writer\u001B[38;5;241m.\u001B[39msheets \u001B[38;5;241m=\u001B[39m \u001B[38;5;28mdict\u001B[39m((ws\u001B[38;5;241m.\u001B[39mtitle, ws) \u001B[38;5;28;01mfor\u001B[39;00m ws \u001B[38;5;129;01min\u001B[39;00m book\u001B[38;5;241m.\u001B[39mworksheets)\n\u001B[0;32m      7\u001B[0m ws \u001B[38;5;241m=\u001B[39m book[\u001B[38;5;124m'\u001B[39m\u001B[38;5;124mReference Results\u001B[39m\u001B[38;5;124m'\u001B[39m]\n\u001B[0;32m      9\u001B[0m result\u001B[38;5;241m.\u001B[39mto_excel(writer, sheet_name\u001B[38;5;241m=\u001B[39m\u001B[38;5;124m'\u001B[39m\u001B[38;5;124mReference Results\u001B[39m\u001B[38;5;124m'\u001B[39m, index\u001B[38;5;241m=\u001B[39m\u001B[38;5;28;01mFalse\u001B[39;00m, startcol\u001B[38;5;241m=\u001B[39mws\u001B[38;5;241m.\u001B[39mmax_column)\n",
      "\u001B[1;31mAttributeError\u001B[0m: can't set attribute 'sheets'"
     ]
    }
   ],
   "source": [
    "# export result to excel\n",
    "writer = pd.ExcelWriter(path, engine='openpyxl', mode='a', if_sheet_exists='overlay')\n",
    "book = load_workbook(path)\n",
    "writer.book = book\n",
    "writer.sheets = dict((ws.title, ws) for ws in book.worksheets)\n",
    "\n",
    "ws = book['Reference Results']\n",
    "\n",
    "result.to_excel(writer, sheet_name='Reference Results', index=False, startcol=ws.max_column)\n",
    "book.save(path)\n",
    "book.close()"
   ],
   "metadata": {
    "collapsed": false,
    "pycharm": {
     "name": "#%%\n"
    }
   }
  },
  {
   "cell_type": "code",
   "execution_count": null,
   "outputs": [],
   "source": [
    "# Create csv file from results dataframe\n",
    "output_file = os.path.join(path_csv, 'LH2_transport_costs.csv')\n",
    "result.to_csv(output_file, sep=';')"
   ],
   "metadata": {
    "collapsed": false,
    "pycharm": {
     "name": "#%%\n"
    }
   }
  },
  {
   "cell_type": "code",
   "execution_count": null,
   "outputs": [],
   "source": [
    "# Plot cost curve for seaborne transport\n",
    "fig, ax = plt.subplots(figsize=(10,6))\n",
    "plt.plot(result, color = 'green', linestyle = 'solid')\n",
    "plt.grid(True, axis = 'y')\n",
    "ax.set_axisbelow(True)\n",
    "plt.title('Cost curve for LH2 shipping [€/kg H2]', fontweight='bold')\n",
    "plt.xlabel('Year')\n",
    "plt.ylabel('Cost')\n",
    "plt.show()"
   ],
   "metadata": {
    "collapsed": false,
    "pycharm": {
     "name": "#%%\n"
    }
   }
  },
  {
   "cell_type": "code",
   "execution_count": 152,
   "outputs": [
    {
     "data": {
      "text/plain": "<Figure size 1000x600 with 1 Axes>",
      "image/png": "[encoded data removed]"
     },
     "metadata": {},
     "output_type": "display_data"
    }
   ],
   "source": [
    "# Cost breakdown for LH2 shipping\n",
    "fig, ax = plt.subplots(figsize=(10,6))\n",
    "plt.grid(True, axis = 'y')\n",
    "ax.set_axisbelow(True)\n",
    "x = np.arange(2025, 2051, step=5)\n",
    "LC = (liq_costs.loc[::5]['LH2_Liquefaction_costs']).apply(pd.to_numeric)\n",
    "EC = (et_costs.loc[::5]['LH2_Export_terminal_costs']).apply(pd.to_numeric)\n",
    "SC = (ship_costs.loc[::5]['LH2_Shipping_costs']).apply(pd.to_numeric)\n",
    "IC = (it_costs.loc[::5]['LH2_Import_terminal_costs']).apply(pd.to_numeric)\n",
    "RC = (recon_costs.loc[::5]['LH2_Reconversion_costs']).apply(pd.to_numeric)\n",
    "width = 2       # the width of the bars: can also be len(x) sequence\n",
    "\n",
    "RC_plt = plt.bar(x,RC, width, label='Regasification costs', bottom= LC + EC + SC + IC)\n",
    "IC_plt = plt.bar(x,IC, width, label='Import terminal costs', bottom= LC + EC + SC)\n",
    "SC_plt = plt.bar(x,SC, width, label='Shipping costs', bottom= LC + EC)\n",
    "EC_plt = plt.bar(x,EC, width, label='Export terminal costs', bottom= LC)\n",
    "LC_plt = plt.bar(x,LC, width, label='Liquefaction costs')\n",
    "\n",
    "plt.title('Cost breakdown for LH2 shipping', fontweight='bold')\n",
    "plt.legend(loc='upper right')\n",
    "plt.ylabel('Transport cost [€/kg H2]')\n",
    "plt.xlabel('Years')\n",
    "plt.show()"
   ],
   "metadata": {
    "collapsed": false,
    "pycharm": {
     "name": "#%%\n"
    }
   }
  },
  {
   "cell_type": "markdown",
   "source": [
    "## Sensitivity"
   ],
   "metadata": {
    "collapsed": false,
    "pycharm": {
     "name": "#%% md\n"
    }
   }
  },
  {
   "cell_type": "code",
   "execution_count": 268,
   "outputs": [],
   "source": [
    "year = 2030\n",
    "el_liq_y = float(tea_lh2.loc['Liquefaction - Electricity consumption opt. [kWh/kgH2]'][year])\n",
    "capex_liq_y = float(tea_lh2.loc['Liquefaction - Capex opt. [€/t/a]'][year])\n",
    "opex_liq_y = capex_liq_y * opex_liq_share\n",
    "el_liq_y = float(tea_lh2.loc['Liquefaction - Electricity consumption opt. [kWh/kgH2]'][year])\n",
    "capex_et_y = float(tea_lh2.loc['Export Terminal - CAPEX/tank [€/t/a]'][year])\n",
    "opex_et_y = capex_et_y * opex_et_share\n",
    "capex_it_y = float(tea_lh2.loc['Import Terminal - CAPEX [€/t/a]'][year])\n",
    "opex_it_y = capex_it_y * opex_it_share\n",
    "capex_ship_y = float(tea_lh2.loc['Shipping - Capex/Ship opt. [€/t/a]'][year])/1000\n",
    "opex_ship_y = capex_ship_y * opex_ship_share\n",
    "lcoh = float(LH2_cargo_cost.loc[year]['LH2_cargo_cost'])\n",
    "capex_recon_y = float(tea_lh2.loc['Reconversion - Capex opt. [€/t/a]'][year])\n",
    "opex_recon_y = capex_recon_y * opex_recon_share\n",
    "el_recon_y = float(tea_lh2.loc['Reconversion - Electricity consumption opt. [kWh/kg H2]'][year])\n",
    "\n",
    "p_el_y = float(el_price.loc['Electricity prices in Norway [€_2021/MWh]'][year])"
   ],
   "metadata": {
    "collapsed": false,
    "pycharm": {
     "name": "#%%\n"
    }
   }
  },
  {
   "cell_type": "markdown",
   "source": [
    "### Electricity price sensi"
   ],
   "metadata": {
    "collapsed": false,
    "pycharm": {
     "name": "#%% md\n"
    }
   }
  },
  {
   "cell_type": "code",
   "execution_count": 401,
   "outputs": [],
   "source": [
    "sensitivity = []\n",
    "\n",
    "def lh2_transport_sensi(p_el_y, alpha_liq, alpha_et, alpha_ship, alpha_it, alpha_recon,capex_liq_y, capex_et_y,capex_ship_y, capex_it_y,  bog_ship, capex_recon_y, d_sea ,v_ship, f_ship, el_et ,el_it ,t_it ,el_recon_y):\n",
    "\n",
    "    for x in range (21):\n",
    "        factor = x/10\n",
    "        result = \\\n",
    "        ((alpha_liq * capex_liq_y/1000 + opex_liq_y/1000) + el_liq_y * p_el_y/1000 * factor)                                 # Liquefaction\n",
    "        + (alpha_et * capex_et_y/1000 + opex_et_y/1000) + (el_et + el_reliq * t_et) * p_el_y/1000 * factor                  # Export terminal\n",
    "        + (alpha_ship * capex_ship_y + opex_ship_y) / (8760/(2*(d_sea/v_ship + h_ship)))/(1-(bog_ship * d_sea/v_ship) - (f_ship  * d_sea)) + (bog_ship * d_sea/v_ship + f_ship * d_sea) * lcoh # Shipping\n",
    "        + (alpha_it * capex_it_y/1000 + opex_it_y/1000) + (el_it + el_reliq * t_it) * p_el_y/1000 * factor                  # Import terminal\n",
    "        + (alpha_recon * capex_recon_y / 1000 + opex_recon_y / 1000) + el_recon_y * p_el_y / 1000 * factor                # Reconversion\n",
    "\n",
    "        sensitivity.append(result)\n",
    "\n",
    "    return sensitivity"
   ],
   "metadata": {
    "collapsed": false,
    "pycharm": {
     "name": "#%%\n"
    }
   }
  },
  {
   "cell_type": "code",
   "execution_count": 403,
   "outputs": [
    {
     "data": {
      "text/plain": "[0.7036323773570398,\n 0.7492323773570397,\n 0.7948323773570398,\n 0.8404323773570398,\n 0.8860323773570398,\n 0.9316323773570397,\n 0.9772323773570397,\n 1.0228323773570398,\n 1.0684323773570399,\n 1.1140323773570397,\n 1.1596323773570398,\n 1.20523237735704,\n 1.2508323773570398,\n 1.2964323773570396,\n 1.3420323773570397,\n 1.3876323773570398,\n 1.4332323773570397,\n 1.4788323773570398,\n 1.5244323773570398,\n 1.5700323773570397,\n 1.6156323773570398]"
     },
     "execution_count": 403,
     "metadata": {},
     "output_type": "execute_result"
    }
   ],
   "source": [
    "lh2_transport_sensi(p_el_y, alpha_liq, alpha_et, alpha_ship, alpha_it, alpha_recon,capex_liq_y, capex_et_y,capex_ship_y, capex_it_y,  bog_ship, capex_recon_y, d_sea ,v_ship, f_ship, el_et ,el_it ,t_it ,el_recon_y)"
   ],
   "metadata": {
    "collapsed": false,
    "pycharm": {
     "name": "#%%\n"
    }
   }
  },
  {
   "cell_type": "code",
   "execution_count": 404,
   "outputs": [
    {
     "data": {
      "text/plain": "                          LH2 transport costs [€/kg H2]\nElectricity price change                               \n0                                              0.703632\n1                                              0.749232\n2                                              0.794832\n3                                              0.840432\n4                                              0.886032\n5                                              0.931632\n6                                              0.977232\n7                                              1.022832\n8                                              1.068432\n9                                              1.114032\n10                                             1.159632\n11                                             1.205232\n12                                             1.250832\n13                                             1.296432\n14                                             1.342032\n15                                             1.387632\n16                                             1.433232\n17                                             1.478832\n18                                             1.524432\n19                                             1.570032\n20                                             1.615632",
      "text/html": "<div>\n<style scoped>\n    .dataframe tbody tr th:only-of-type {\n        vertical-align: middle;\n    }\n\n    .dataframe tbody tr th {\n        vertical-align: top;\n    }\n\n    .dataframe thead th {\n        text-align: right;\n    }\n</style>\n<table border=\"1\" class=\"dataframe\">\n  <thead>\n    <tr style=\"text-align: right;\">\n      <th></th>\n      <th>LH2 transport costs [€/kg H2]</th>\n    </tr>\n    <tr>\n      <th>Electricity price change</th>\n      <th></th>\n    </tr>\n  </thead>\n  <tbody>\n    <tr>\n      <th>0</th>\n      <td>0.703632</td>\n    </tr>\n    <tr>\n      <th>1</th>\n      <td>0.749232</td>\n    </tr>\n    <tr>\n      <th>2</th>\n      <td>0.794832</td>\n    </tr>\n    <tr>\n      <th>3</th>\n      <td>0.840432</td>\n    </tr>\n    <tr>\n      <th>4</th>\n      <td>0.886032</td>\n    </tr>\n    <tr>\n      <th>5</th>\n      <td>0.931632</td>\n    </tr>\n    <tr>\n      <th>6</th>\n      <td>0.977232</td>\n    </tr>\n    <tr>\n      <th>7</th>\n      <td>1.022832</td>\n    </tr>\n    <tr>\n      <th>8</th>\n      <td>1.068432</td>\n    </tr>\n    <tr>\n      <th>9</th>\n      <td>1.114032</td>\n    </tr>\n    <tr>\n      <th>10</th>\n      <td>1.159632</td>\n    </tr>\n    <tr>\n      <th>11</th>\n      <td>1.205232</td>\n    </tr>\n    <tr>\n      <th>12</th>\n      <td>1.250832</td>\n    </tr>\n    <tr>\n      <th>13</th>\n      <td>1.296432</td>\n    </tr>\n    <tr>\n      <th>14</th>\n      <td>1.342032</td>\n    </tr>\n    <tr>\n      <th>15</th>\n      <td>1.387632</td>\n    </tr>\n    <tr>\n      <th>16</th>\n      <td>1.433232</td>\n    </tr>\n    <tr>\n      <th>17</th>\n      <td>1.478832</td>\n    </tr>\n    <tr>\n      <th>18</th>\n      <td>1.524432</td>\n    </tr>\n    <tr>\n      <th>19</th>\n      <td>1.570032</td>\n    </tr>\n    <tr>\n      <th>20</th>\n      <td>1.615632</td>\n    </tr>\n  </tbody>\n</table>\n</div>"
     },
     "execution_count": 404,
     "metadata": {},
     "output_type": "execute_result"
    }
   ],
   "source": [
    "lh2_transport_sensi_P_el= pd.DataFrame(sensitivity, range(21), columns=['LH2 transport costs [€/kg H2]'])\n",
    "lh2_transport_sensi_P_el.index.name = 'Electricity price change'\n",
    "lh2_transport_sensi_P_el"
   ],
   "metadata": {
    "collapsed": false,
    "pycharm": {
     "name": "#%%\n"
    }
   }
  },
  {
   "cell_type": "code",
   "execution_count": 405,
   "outputs": [],
   "source": [
    "# Create csv file from results dataframe\n",
    "output_file = os.path.join(path_csv,'lh2_transport_sensi_P_el.csv')\n",
    "lh2_transport_sensi_P_el.to_csv(output_file, sep = ';')"
   ],
   "metadata": {
    "collapsed": false,
    "pycharm": {
     "name": "#%%\n"
    }
   }
  },
  {
   "cell_type": "markdown",
   "source": [
    "### Transport distance sensi"
   ],
   "metadata": {
    "collapsed": false,
    "pycharm": {
     "name": "#%% md\n"
    }
   }
  },
  {
   "cell_type": "code",
   "execution_count": 243,
   "outputs": [],
   "source": [
    "transport_distance = np.arange(0,10001, 500)\n",
    "sensitivity = []\n",
    "\n",
    "def lh2_transport_d(p_el_y, alpha_liq, alpha_et, alpha_ship, alpha_it, alpha_recon,capex_liq_y, capex_et_y,capex_ship_y, capex_it_y,  bog_ship, capex_recon_y, d_sea ,v_ship, f_ship, el_et ,el_it ,t_it ,el_recon_y):\n",
    "\n",
    "    for d_sea in transport_distance:\n",
    "\n",
    "        result = \\\n",
    "        ((alpha_liq * capex_liq_y/1000 + opex_liq_y/1000) + el_liq_y * p_el_y/1000)\\\n",
    "        + (alpha_et * capex_et_y/1000 + opex_et_y/1000) + (el_et + el_reliq * t_et) * p_el_y/1000\\\n",
    "        + (alpha_ship * capex_ship_y + opex_ship_y) / (8760/(2*(d_sea/v_ship + h_ship)))/(1-(bog_ship * d_sea/v_ship) - (f_ship  * d_sea)) + (bog_ship * d_sea/v_ship + f_ship * d_sea) * lcoh\\\n",
    "        + (alpha_it * capex_it_y/1000 + opex_it_y/1000) + (el_it + el_reliq * t_it) * p_el_y/1000\\\n",
    "        + (alpha_recon * capex_recon_y / 1000 + opex_recon_y / 1000) + el_recon_y * p_el_y / 1000\\\n",
    "\n",
    "        sensitivity.append(result)\n",
    "\n",
    "    return sensitivity"
   ],
   "metadata": {
    "collapsed": false,
    "pycharm": {
     "name": "#%%\n"
    }
   }
  },
  {
   "cell_type": "code",
   "execution_count": 244,
   "outputs": [
    {
     "data": {
      "text/plain": "[1.775206169204225,\n 1.7925162215690553,\n 1.8098785559614805,\n 1.8272934803717529,\n 1.8447613052140197,\n 1.862282343350217,\n 1.8798569101142426,\n 1.897485323336422,\n 1.9151679033682572,\n 1.9329049731074794,\n 1.9506968580233954,\n 1.9685438861825382,\n 1.9864463882746273,\n 2.0044046976388374,\n 2.02241915029039,\n 2.040490084947456,\n 2.058617843058393,\n 2.076802768829307,\n 2.0950452092519516,\n 2.1133455141319635,\n 2.131704036117445]"
     },
     "execution_count": 244,
     "metadata": {},
     "output_type": "execute_result"
    }
   ],
   "source": [
    "lh2_transport_d(p_el_y, alpha_liq, alpha_et, alpha_ship, alpha_it, alpha_recon,capex_liq_y, capex_et_y,capex_ship_y, capex_it_y,  bog_ship, capex_recon_y, d_sea ,v_ship, f_ship, el_et ,el_it ,t_it ,el_recon_y)"
   ],
   "metadata": {
    "collapsed": false,
    "pycharm": {
     "name": "#%%\n"
    }
   }
  },
  {
   "cell_type": "code",
   "execution_count": 246,
   "outputs": [
    {
     "data": {
      "text/plain": "                          LH2 transport costs [€/kg H2]\nTransport distance in km                               \n0                                              1.775206\n500                                            1.792516\n1000                                           1.809879\n1500                                           1.827293\n2000                                           1.844761\n2500                                           1.862282\n3000                                           1.879857\n3500                                           1.897485\n4000                                           1.915168\n4500                                           1.932905\n5000                                           1.950697\n5500                                           1.968544\n6000                                           1.986446\n6500                                           2.004405\n7000                                           2.022419\n7500                                           2.040490\n8000                                           2.058618\n8500                                           2.076803\n9000                                           2.095045\n9500                                           2.113346\n10000                                          2.131704",
      "text/html": "<div>\n<style scoped>\n    .dataframe tbody tr th:only-of-type {\n        vertical-align: middle;\n    }\n\n    .dataframe tbody tr th {\n        vertical-align: top;\n    }\n\n    .dataframe thead th {\n        text-align: right;\n    }\n</style>\n<table border=\"1\" class=\"dataframe\">\n  <thead>\n    <tr style=\"text-align: right;\">\n      <th></th>\n      <th>LH2 transport costs [€/kg H2]</th>\n    </tr>\n    <tr>\n      <th>Transport distance in km</th>\n      <th></th>\n    </tr>\n  </thead>\n  <tbody>\n    <tr>\n      <th>0</th>\n      <td>1.775206</td>\n    </tr>\n    <tr>\n      <th>500</th>\n      <td>1.792516</td>\n    </tr>\n    <tr>\n      <th>1000</th>\n      <td>1.809879</td>\n    </tr>\n    <tr>\n      <th>1500</th>\n      <td>1.827293</td>\n    </tr>\n    <tr>\n      <th>2000</th>\n      <td>1.844761</td>\n    </tr>\n    <tr>\n      <th>2500</th>\n      <td>1.862282</td>\n    </tr>\n    <tr>\n      <th>3000</th>\n      <td>1.879857</td>\n    </tr>\n    <tr>\n      <th>3500</th>\n      <td>1.897485</td>\n    </tr>\n    <tr>\n      <th>4000</th>\n      <td>1.915168</td>\n    </tr>\n    <tr>\n      <th>4500</th>\n      <td>1.932905</td>\n    </tr>\n    <tr>\n      <th>5000</th>\n      <td>1.950697</td>\n    </tr>\n    <tr>\n      <th>5500</th>\n      <td>1.968544</td>\n    </tr>\n    <tr>\n      <th>6000</th>\n      <td>1.986446</td>\n    </tr>\n    <tr>\n      <th>6500</th>\n      <td>2.004405</td>\n    </tr>\n    <tr>\n      <th>7000</th>\n      <td>2.022419</td>\n    </tr>\n    <tr>\n      <th>7500</th>\n      <td>2.040490</td>\n    </tr>\n    <tr>\n      <th>8000</th>\n      <td>2.058618</td>\n    </tr>\n    <tr>\n      <th>8500</th>\n      <td>2.076803</td>\n    </tr>\n    <tr>\n      <th>9000</th>\n      <td>2.095045</td>\n    </tr>\n    <tr>\n      <th>9500</th>\n      <td>2.113346</td>\n    </tr>\n    <tr>\n      <th>10000</th>\n      <td>2.131704</td>\n    </tr>\n  </tbody>\n</table>\n</div>"
     },
     "execution_count": 246,
     "metadata": {},
     "output_type": "execute_result"
    }
   ],
   "source": [
    "lh2_transport_sensi_distance= pd.DataFrame(sensitivity, transport_distance, columns=['LH2 transport costs [€/kg H2]'])\n",
    "lh2_transport_sensi_distance.index.name = 'Transport distance in km'\n",
    "lh2_transport_sensi_distance"
   ],
   "metadata": {
    "collapsed": false,
    "pycharm": {
     "name": "#%%\n"
    }
   }
  },
  {
   "cell_type": "code",
   "execution_count": 247,
   "outputs": [],
   "source": [
    "# Create csv file from results dataframe\n",
    "output_file = os.path.join(path_csv,'lh2_transport_sensi_distance.csv')\n",
    "lh2_transport_sensi_distance.to_csv(output_file, sep = ';')"
   ],
   "metadata": {
    "collapsed": false,
    "pycharm": {
     "name": "#%%\n"
    }
   }
  },
  {
   "cell_type": "markdown",
   "source": [
    "## Plots"
   ],
   "metadata": {
    "collapsed": false,
    "pycharm": {
     "name": "#%% md\n"
    }
   }
  },
  {
   "cell_type": "markdown",
   "source": [
    "### Electricity price sensi"
   ],
   "metadata": {
    "collapsed": false,
    "pycharm": {
     "name": "#%% md\n"
    }
   }
  },
  {
   "cell_type": "code",
   "execution_count": 406,
   "outputs": [
    {
     "data": {
      "text/plain": "                          LH2 transport costs [€/kg H2]\nElectricity price change                               \n0                                              0.703632\n1                                              0.749232\n2                                              0.794832\n3                                              0.840432\n4                                              0.886032\n5                                              0.931632\n6                                              0.977232\n7                                              1.022832\n8                                              1.068432\n9                                              1.114032\n10                                             1.159632\n11                                             1.205232\n12                                             1.250832\n13                                             1.296432\n14                                             1.342032\n15                                             1.387632\n16                                             1.433232\n17                                             1.478832\n18                                             1.524432\n19                                             1.570032\n20                                             1.615632",
      "text/html": "<div>\n<style scoped>\n    .dataframe tbody tr th:only-of-type {\n        vertical-align: middle;\n    }\n\n    .dataframe tbody tr th {\n        vertical-align: top;\n    }\n\n    .dataframe thead th {\n        text-align: right;\n    }\n</style>\n<table border=\"1\" class=\"dataframe\">\n  <thead>\n    <tr style=\"text-align: right;\">\n      <th></th>\n      <th>LH2 transport costs [€/kg H2]</th>\n    </tr>\n    <tr>\n      <th>Electricity price change</th>\n      <th></th>\n    </tr>\n  </thead>\n  <tbody>\n    <tr>\n      <th>0</th>\n      <td>0.703632</td>\n    </tr>\n    <tr>\n      <th>1</th>\n      <td>0.749232</td>\n    </tr>\n    <tr>\n      <th>2</th>\n      <td>0.794832</td>\n    </tr>\n    <tr>\n      <th>3</th>\n      <td>0.840432</td>\n    </tr>\n    <tr>\n      <th>4</th>\n      <td>0.886032</td>\n    </tr>\n    <tr>\n      <th>5</th>\n      <td>0.931632</td>\n    </tr>\n    <tr>\n      <th>6</th>\n      <td>0.977232</td>\n    </tr>\n    <tr>\n      <th>7</th>\n      <td>1.022832</td>\n    </tr>\n    <tr>\n      <th>8</th>\n      <td>1.068432</td>\n    </tr>\n    <tr>\n      <th>9</th>\n      <td>1.114032</td>\n    </tr>\n    <tr>\n      <th>10</th>\n      <td>1.159632</td>\n    </tr>\n    <tr>\n      <th>11</th>\n      <td>1.205232</td>\n    </tr>\n    <tr>\n      <th>12</th>\n      <td>1.250832</td>\n    </tr>\n    <tr>\n      <th>13</th>\n      <td>1.296432</td>\n    </tr>\n    <tr>\n      <th>14</th>\n      <td>1.342032</td>\n    </tr>\n    <tr>\n      <th>15</th>\n      <td>1.387632</td>\n    </tr>\n    <tr>\n      <th>16</th>\n      <td>1.433232</td>\n    </tr>\n    <tr>\n      <th>17</th>\n      <td>1.478832</td>\n    </tr>\n    <tr>\n      <th>18</th>\n      <td>1.524432</td>\n    </tr>\n    <tr>\n      <th>19</th>\n      <td>1.570032</td>\n    </tr>\n    <tr>\n      <th>20</th>\n      <td>1.615632</td>\n    </tr>\n  </tbody>\n</table>\n</div>"
     },
     "execution_count": 406,
     "metadata": {},
     "output_type": "execute_result"
    }
   ],
   "source": [
    "lh2_transport_sensi_P_el"
   ],
   "metadata": {
    "collapsed": false,
    "pycharm": {
     "name": "#%%\n"
    }
   }
  },
  {
   "cell_type": "code",
   "execution_count": 408,
   "outputs": [
    {
     "data": {
      "text/plain": "<Figure size 500x400 with 1 Axes>",
      "image/png": "[encoded data removed]"
     },
     "metadata": {},
     "output_type": "display_data"
    }
   ],
   "source": [
    "fig, ax = plt.subplots(figsize=(5,4))\n",
    "#plt.subplot(1,2,1)\n",
    "\n",
    "\n",
    "plt.plot(lh2_transport_sensi_P_el, color='blue', linestyle='solid', label = 'LH2')\n",
    "plt.plot(new_pipe_sensi_P_el, color='dodgerblue',linestyle='-', label = 'New pipeline')\n",
    "plt.plot(retro_pipe_sensi_P_el, color='royalblue',linestyle='-', label = 'Retrofit pipeline')\n",
    "plt.grid(True, axis='y')\n",
    "#plt.grid(True, axis='x')\n",
    "ax.set_axisbelow(True)\n",
    "ax.xaxis.set_major_formatter(mtick.PercentFormatter(10, decimals=None))\n",
    "plt.locator_params(axis='x', nbins=5)\n",
    "plt.ylabel('[€/kg H2]')\n",
    "plt.xlabel('Change')\n",
    "plt.legend()\n",
    "\n",
    "\n",
    "\n",
    "title = 'LH2_EF_sensi'\n",
    "#plt.savefig(path_plt + title + '.png', transparent=True)\n",
    "\n",
    "plt.show()"
   ],
   "metadata": {
    "collapsed": false,
    "pycharm": {
     "name": "#%%\n"
    }
   }
  },
  {
   "cell_type": "markdown",
   "source": [
    "### Transport distance sensi"
   ],
   "metadata": {
    "collapsed": false,
    "pycharm": {
     "name": "#%% md\n"
    }
   }
  },
  {
   "cell_type": "code",
   "execution_count": 376,
   "outputs": [
    {
     "data": {
      "text/plain": "<Figure size 1000x400 with 1 Axes>",
      "image/png": "[encoded data removed]"
     },
     "metadata": {},
     "output_type": "display_data"
    }
   ],
   "source": [
    "fig, ax = plt.subplots(figsize=(10,4))\n",
    "#plt.subplot(1,2,1)\n",
    "\n",
    "\n",
    "plt.plot(lh2_transport_sensi_distance, color='blue', linestyle='-', label = 'LH2')\n",
    "plt.plot(new_pipe_sensi_distance, color='red',linestyle='-', label = 'New pipeline')\n",
    "plt.plot(retro_pipe_sensi_distance, color='royalblue',linestyle='-', label = 'Retrofit pipeline')\n",
    "plt.grid(True, axis='y')\n",
    "#plt.grid(True, axis='x')\n",
    "ax.set_axisbelow(True)\n",
    "plt.locator_params(axis='x', nbins=12)\n",
    "plt.ylabel('[€/kg H2]')\n",
    "plt.xlabel('Transport Distance in km')\n",
    "plt.legend()\n",
    "\n",
    "\n",
    "\n",
    "title = 'LH2_EF_sensi'\n",
    "#plt.savefig(path_plt + title + '.png', transparent=True)\n",
    "\n",
    "plt.show()"
   ],
   "metadata": {
    "collapsed": false,
    "pycharm": {
     "name": "#%%\n"
    }
   }
  },
  {
   "cell_type": "code",
   "execution_count": null,
   "outputs": [],
   "source": [],
   "metadata": {
    "collapsed": false,
    "pycharm": {
     "name": "#%%\n"
    }
   }
  }
 ],
 "metadata": {
  "kernelspec": {
   "display_name": "Python 3",
   "language": "python",
   "name": "python3"
  },
  "language_info": {
   "codemirror_mode": {
    "name": "ipython",
    "version": 2
   },
   "file_extension": ".py",
   "mimetype": "text/x-python",
   "name": "python",
   "nbconvert_exporter": "python",
   "pygments_lexer": "ipython2",
   "version": "2.7.6"
  }
 },
 "nbformat": 4,
 "nbformat_minor": 0
}