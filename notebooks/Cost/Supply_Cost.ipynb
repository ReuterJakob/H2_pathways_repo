{
 "cells": [
  {
   "cell_type": "markdown",
   "source": [],
   "metadata": {
    "collapsed": false,
    "pycharm": {
     "name": "#%% md\n"
    }
   }
  },
  {
   "cell_type": "code",
   "execution_count": 97,
   "outputs": [],
   "source": [
    "# Read techno-economic assumptions and transport distances for transport cost calculation\n",
    "import numpy as np\n",
    "import pandas as pd\n",
    "from matplotlib import pyplot as plt\n",
    "import os"
   ],
   "metadata": {
    "collapsed": false,
    "pycharm": {
     "name": "#%%\n"
    }
   }
  },
  {
   "cell_type": "markdown",
   "source": [],
   "metadata": {
    "collapsed": false,
    "pycharm": {
     "name": "#%% md\n"
    }
   }
  },
  {
   "cell_type": "markdown",
   "source": [
    "# Production inputs"
   ],
   "metadata": {
    "collapsed": false,
    "pycharm": {
     "name": "#%% md\n"
    }
   }
  },
  {
   "cell_type": "code",
   "execution_count": 98,
   "outputs": [
    {
     "data": {
      "text/plain": "                                                        2020       2021  \\\nID                                                                        \nUnited_Arab_Emirates_Onshore_3_low_temp_baseline    7.083424   6.891298   \nUnited_Arab_Emirates_Offshore_1_low_temp_baseline  11.470109  11.104346   \nUnited_Arab_Emirates_Offshore_2_low_temp_baseline  15.518520  15.026419   \nUnited_Arab_Emirates_PV_2_low_temp_baseline         3.990183   3.815470   \nUnited_Arab_Emirates_PV_3_low_temp_baseline         4.167158   3.984340   \n...                                                      ...        ...   \nSouth_Africa_PV_4_low_temp_optimistic               4.776238   4.522432   \nSouth_Africa_Onshore_3_high_temp_optimistic         6.957099   6.651531   \nSouth_Africa_Offshore_1_high_temp_optimistic        6.420926   6.101068   \nSouth_Africa_Offshore_2_high_temp_optimistic        7.882887   7.502615   \nSouth_Africa_PV_4_high_temp_optimistic              8.301321   7.735446   \n\n                                                        2022       2023  \\\nID                                                                        \nUnited_Arab_Emirates_Onshore_3_low_temp_baseline    6.715543   6.552560   \nUnited_Arab_Emirates_Offshore_1_low_temp_baseline  10.787404  10.505314   \nUnited_Arab_Emirates_Offshore_2_low_temp_baseline  14.603391  14.229709   \nUnited_Arab_Emirates_PV_2_low_temp_baseline         3.659375   3.516671   \nUnited_Arab_Emirates_PV_3_low_temp_baseline         3.821167   3.672128   \n...                                                      ...        ...   \nSouth_Africa_PV_4_low_temp_optimistic               4.311259   4.130247   \nSouth_Africa_Onshore_3_high_temp_optimistic         6.361605   6.082880   \nSouth_Africa_Offshore_1_high_temp_optimistic        5.807786   5.532832   \nSouth_Africa_Offshore_2_high_temp_optimistic        7.158460   6.839487   \nSouth_Africa_PV_4_high_temp_optimistic              7.214757   6.725080   \n\n                                                        2024       2025  \\\nID                                                                        \nUnited_Arab_Emirates_Onshore_3_low_temp_baseline    6.399783   6.255316   \nUnited_Arab_Emirates_Offshore_1_low_temp_baseline  10.249265  10.013359   \nUnited_Arab_Emirates_Offshore_2_low_temp_baseline  13.892937  13.584745   \nUnited_Arab_Emirates_PV_2_low_temp_baseline         3.384029   3.259207   \nUnited_Arab_Emirates_PV_3_low_temp_baseline         3.533712   3.403554   \n...                                                      ...        ...   \nSouth_Africa_PV_4_low_temp_optimistic               3.971568   3.830018   \nSouth_Africa_Onshore_3_high_temp_optimistic         5.812121   5.546874   \nSouth_Africa_Offshore_1_high_temp_optimistic        5.271000   5.018783   \nSouth_Africa_Offshore_2_high_temp_optimistic        6.538808   6.251803   \nSouth_Africa_PV_4_high_temp_optimistic              6.257449   5.805842   \n\n                                                        2026       2027  \\\nID                                                                        \nUnited_Arab_Emirates_Onshore_3_low_temp_baseline    6.117722   5.985886   \nUnited_Arab_Emirates_Offshore_1_low_temp_baseline   9.793456   9.586545   \nUnited_Arab_Emirates_Offshore_2_low_temp_baseline  13.299293  13.032333   \nUnited_Arab_Emirates_PV_2_low_temp_baseline         3.140629   3.027147   \nUnited_Arab_Emirates_PV_3_low_temp_baseline         3.279992   3.161815   \n...                                                      ...        ...   \nSouth_Africa_PV_4_low_temp_optimistic               3.701980   3.584849   \nSouth_Africa_Onshore_3_high_temp_optimistic         5.285203   5.025533   \nSouth_Africa_Offshore_1_high_temp_optimistic        4.773702   4.533933   \nSouth_Africa_Offshore_2_high_temp_optimistic        5.975218   5.706671   \nSouth_Africa_PV_4_high_temp_optimistic              5.366024   4.934896   \n\n                                                        2028       2029  ...  \\\nID                                                                       ...   \nUnited_Arab_Emirates_Onshore_3_low_temp_baseline    5.858925   5.736129  ...   \nUnited_Arab_Emirates_Offshore_1_low_temp_baseline   9.390367   9.203187  ...   \nUnited_Arab_Emirates_Offshore_2_low_temp_baseline  12.780680  12.541890  ...   \nUnited_Arab_Emirates_PV_2_low_temp_baseline         2.917901   2.812232  ...   \nUnited_Arab_Emirates_PV_3_low_temp_baseline         3.048116   2.938202  ...   \n...                                                      ...        ...  ...   \nSouth_Africa_PV_4_low_temp_optimistic               3.476693   3.376044  ...   \nSouth_Africa_Onshore_3_high_temp_optimistic         4.766533   4.507054  ...   \nSouth_Africa_Offshore_1_high_temp_optimistic        4.298081   4.065056  ...   \nSouth_Africa_Offshore_2_high_temp_optimistic        5.444358   5.186877  ...   \nSouth_Africa_PV_4_high_temp_optimistic              4.510115   4.089858  ...   \n\n                                                       2041      2042  \\\nID                                                                      \nUnited_Arab_Emirates_Onshore_3_low_temp_baseline   4.691380  4.628208   \nUnited_Arab_Emirates_Offshore_1_low_temp_baseline  7.248224  7.116204   \nUnited_Arab_Emirates_Offshore_2_low_temp_baseline  9.892514  9.713566   \nUnited_Arab_Emirates_PV_2_low_temp_baseline        2.123259  2.077646   \nUnited_Arab_Emirates_PV_3_low_temp_baseline        2.218239  2.170581   \n...                                                     ...       ...   \nSouth_Africa_PV_4_low_temp_optimistic              2.316135  2.243911   \nSouth_Africa_Onshore_3_high_temp_optimistic        3.527896  3.479815   \nSouth_Africa_Offshore_1_high_temp_optimistic       3.044944  2.985666   \nSouth_Africa_Offshore_2_high_temp_optimistic       3.922605  3.847566   \nSouth_Africa_PV_4_high_temp_optimistic             2.785486  2.716458   \n\n                                                       2043      2044  \\\nID                                                                      \nUnited_Arab_Emirates_Onshore_3_low_temp_baseline   4.566471  4.512363   \nUnited_Arab_Emirates_Offshore_1_low_temp_baseline  6.992261  6.880684   \nUnited_Arab_Emirates_Offshore_2_low_temp_baseline  9.545998  9.395894   \nUnited_Arab_Emirates_PV_2_low_temp_baseline        2.033698  1.995168   \nUnited_Arab_Emirates_PV_3_low_temp_baseline        2.124678  2.084494   \n...                                                     ...       ...   \nSouth_Africa_PV_4_low_temp_optimistic              2.174816  2.115768   \nSouth_Africa_Onshore_3_high_temp_optimistic        3.432700  3.392380   \nSouth_Africa_Offshore_1_high_temp_optimistic       2.930034  2.880146   \nSouth_Africa_Offshore_2_high_temp_optimistic       3.777477  3.715198   \nSouth_Africa_PV_4_high_temp_optimistic             2.650047  2.592917   \n\n                                                       2045      2046  \\\nID                                                                      \nUnited_Arab_Emirates_Onshore_3_low_temp_baseline   4.403312  4.338001   \nUnited_Arab_Emirates_Offshore_1_low_temp_baseline  6.719989  6.607285   \nUnited_Arab_Emirates_Offshore_2_low_temp_baseline  9.176013  9.024151   \nUnited_Arab_Emirates_PV_2_low_temp_baseline        1.933859  1.891448   \nUnited_Arab_Emirates_PV_3_low_temp_baseline        2.020231  1.975935   \n...                                                     ...       ...   \nSouth_Africa_PV_4_low_temp_optimistic              2.014671  1.948563   \nSouth_Africa_Onshore_3_high_temp_optimistic        3.300107  3.248513   \nSouth_Africa_Offshore_1_high_temp_optimistic       2.806048  2.755060   \nSouth_Africa_Offshore_2_high_temp_optimistic       3.619913  3.556102   \nSouth_Africa_PV_4_high_temp_optimistic             2.495084  2.430448   \n\n                                                       2047      2048  \\\nID                                                                      \nUnited_Arab_Emirates_Onshore_3_low_temp_baseline   4.274817  4.213586   \nUnited_Arab_Emirates_Offshore_1_low_temp_baseline  6.500267  6.398248   \nUnited_Arab_Emirates_Offshore_2_low_temp_baseline  8.880277  8.743419   \nUnited_Arab_Emirates_PV_2_low_temp_baseline        1.850562  1.811050   \nUnited_Arab_Emirates_PV_3_low_temp_baseline        1.933247  1.892006   \n...                                                     ...       ...   \nSouth_Africa_PV_4_low_temp_optimistic              1.885225  1.824345   \nSouth_Africa_Onshore_3_high_temp_optimistic        3.198556  3.150082   \nSouth_Africa_Offshore_1_high_temp_optimistic       2.706577  2.660273   \nSouth_Africa_Offshore_2_high_temp_optimistic       3.495686  3.438224   \nSouth_Africa_PV_4_high_temp_optimistic             2.368174  2.307988   \n\n                                                       2049      2050  \nID                                                                     \nUnited_Arab_Emirates_Onshore_3_low_temp_baseline   4.154154  4.096389  \nUnited_Arab_Emirates_Offshore_1_low_temp_baseline  6.300666  6.207051  \nUnited_Arab_Emirates_Offshore_2_low_temp_baseline  8.612779  8.487690  \nUnited_Arab_Emirates_PV_2_low_temp_baseline        1.772783  1.735653  \nUnited_Arab_Emirates_PV_3_low_temp_baseline        1.852079  1.813348  \n...                                                     ...       ...  \nSouth_Africa_PV_4_low_temp_optimistic              1.765661  1.708951  \nSouth_Africa_Onshore_3_high_temp_optimistic        3.102956  3.057060  \nSouth_Africa_Offshore_1_high_temp_optimistic       2.615880  2.573177  \nSouth_Africa_Offshore_2_high_temp_optimistic       3.383351  3.330767  \nSouth_Africa_PV_4_high_temp_optimistic             2.249662  2.193002  \n\n[1660 rows x 31 columns]",
      "text/html": "<div>\n<style scoped>\n    .dataframe tbody tr th:only-of-type {\n        vertical-align: middle;\n    }\n\n    .dataframe tbody tr th {\n        vertical-align: top;\n    }\n\n    .dataframe thead th {\n        text-align: right;\n    }\n</style>\n<table border=\"1\" class=\"dataframe\">\n  <thead>\n    <tr style=\"text-align: right;\">\n      <th></th>\n      <th>2020</th>\n      <th>2021</th>\n      <th>2022</th>\n      <th>2023</th>\n      <th>2024</th>\n      <th>2025</th>\n      <th>2026</th>\n      <th>2027</th>\n      <th>2028</th>\n      <th>2029</th>\n      <th>...</th>\n      <th>2041</th>\n      <th>2042</th>\n      <th>2043</th>\n      <th>2044</th>\n      <th>2045</th>\n      <th>2046</th>\n      <th>2047</th>\n      <th>2048</th>\n      <th>2049</th>\n      <th>2050</th>\n    </tr>\n    <tr>\n      <th>ID</th>\n      <th></th>\n      <th></th>\n      <th></th>\n      <th></th>\n      <th></th>\n      <th></th>\n      <th></th>\n      <th></th>\n      <th></th>\n      <th></th>\n      <th></th>\n      <th></th>\n      <th></th>\n      <th></th>\n      <th></th>\n      <th></th>\n      <th></th>\n      <th></th>\n      <th></th>\n      <th></th>\n      <th></th>\n    </tr>\n  </thead>\n  <tbody>\n    <tr>\n      <th>United_Arab_Emirates_Onshore_3_low_temp_baseline</th>\n      <td>7.083424</td>\n      <td>6.891298</td>\n      <td>6.715543</td>\n      <td>6.552560</td>\n      <td>6.399783</td>\n      <td>6.255316</td>\n      <td>6.117722</td>\n      <td>5.985886</td>\n      <td>5.858925</td>\n      <td>5.736129</td>\n      <td>...</td>\n      <td>4.691380</td>\n      <td>4.628208</td>\n      <td>4.566471</td>\n      <td>4.512363</td>\n      <td>4.403312</td>\n      <td>4.338001</td>\n      <td>4.274817</td>\n      <td>4.213586</td>\n      <td>4.154154</td>\n      <td>4.096389</td>\n    </tr>\n    <tr>\n      <th>United_Arab_Emirates_Offshore_1_low_temp_baseline</th>\n      <td>11.470109</td>\n      <td>11.104346</td>\n      <td>10.787404</td>\n      <td>10.505314</td>\n      <td>10.249265</td>\n      <td>10.013359</td>\n      <td>9.793456</td>\n      <td>9.586545</td>\n      <td>9.390367</td>\n      <td>9.203187</td>\n      <td>...</td>\n      <td>7.248224</td>\n      <td>7.116204</td>\n      <td>6.992261</td>\n      <td>6.880684</td>\n      <td>6.719989</td>\n      <td>6.607285</td>\n      <td>6.500267</td>\n      <td>6.398248</td>\n      <td>6.300666</td>\n      <td>6.207051</td>\n    </tr>\n    <tr>\n      <th>United_Arab_Emirates_Offshore_2_low_temp_baseline</th>\n      <td>15.518520</td>\n      <td>15.026419</td>\n      <td>14.603391</td>\n      <td>14.229709</td>\n      <td>13.892937</td>\n      <td>13.584745</td>\n      <td>13.299293</td>\n      <td>13.032333</td>\n      <td>12.780680</td>\n      <td>12.541890</td>\n      <td>...</td>\n      <td>9.892514</td>\n      <td>9.713566</td>\n      <td>9.545998</td>\n      <td>9.395894</td>\n      <td>9.176013</td>\n      <td>9.024151</td>\n      <td>8.880277</td>\n      <td>8.743419</td>\n      <td>8.612779</td>\n      <td>8.487690</td>\n    </tr>\n    <tr>\n      <th>United_Arab_Emirates_PV_2_low_temp_baseline</th>\n      <td>3.990183</td>\n      <td>3.815470</td>\n      <td>3.659375</td>\n      <td>3.516671</td>\n      <td>3.384029</td>\n      <td>3.259207</td>\n      <td>3.140629</td>\n      <td>3.027147</td>\n      <td>2.917901</td>\n      <td>2.812232</td>\n      <td>...</td>\n      <td>2.123259</td>\n      <td>2.077646</td>\n      <td>2.033698</td>\n      <td>1.995168</td>\n      <td>1.933859</td>\n      <td>1.891448</td>\n      <td>1.850562</td>\n      <td>1.811050</td>\n      <td>1.772783</td>\n      <td>1.735653</td>\n    </tr>\n    <tr>\n      <th>United_Arab_Emirates_PV_3_low_temp_baseline</th>\n      <td>4.167158</td>\n      <td>3.984340</td>\n      <td>3.821167</td>\n      <td>3.672128</td>\n      <td>3.533712</td>\n      <td>3.403554</td>\n      <td>3.279992</td>\n      <td>3.161815</td>\n      <td>3.048116</td>\n      <td>2.938202</td>\n      <td>...</td>\n      <td>2.218239</td>\n      <td>2.170581</td>\n      <td>2.124678</td>\n      <td>2.084494</td>\n      <td>2.020231</td>\n      <td>1.975935</td>\n      <td>1.933247</td>\n      <td>1.892006</td>\n      <td>1.852079</td>\n      <td>1.813348</td>\n    </tr>\n    <tr>\n      <th>...</th>\n      <td>...</td>\n      <td>...</td>\n      <td>...</td>\n      <td>...</td>\n      <td>...</td>\n      <td>...</td>\n      <td>...</td>\n      <td>...</td>\n      <td>...</td>\n      <td>...</td>\n      <td>...</td>\n      <td>...</td>\n      <td>...</td>\n      <td>...</td>\n      <td>...</td>\n      <td>...</td>\n      <td>...</td>\n      <td>...</td>\n      <td>...</td>\n      <td>...</td>\n      <td>...</td>\n    </tr>\n    <tr>\n      <th>South_Africa_PV_4_low_temp_optimistic</th>\n      <td>4.776238</td>\n      <td>4.522432</td>\n      <td>4.311259</td>\n      <td>4.130247</td>\n      <td>3.971568</td>\n      <td>3.830018</td>\n      <td>3.701980</td>\n      <td>3.584849</td>\n      <td>3.476693</td>\n      <td>3.376044</td>\n      <td>...</td>\n      <td>2.316135</td>\n      <td>2.243911</td>\n      <td>2.174816</td>\n      <td>2.115768</td>\n      <td>2.014671</td>\n      <td>1.948563</td>\n      <td>1.885225</td>\n      <td>1.824345</td>\n      <td>1.765661</td>\n      <td>1.708951</td>\n    </tr>\n    <tr>\n      <th>South_Africa_Onshore_3_high_temp_optimistic</th>\n      <td>6.957099</td>\n      <td>6.651531</td>\n      <td>6.361605</td>\n      <td>6.082880</td>\n      <td>5.812121</td>\n      <td>5.546874</td>\n      <td>5.285203</td>\n      <td>5.025533</td>\n      <td>4.766533</td>\n      <td>4.507054</td>\n      <td>...</td>\n      <td>3.527896</td>\n      <td>3.479815</td>\n      <td>3.432700</td>\n      <td>3.392380</td>\n      <td>3.300107</td>\n      <td>3.248513</td>\n      <td>3.198556</td>\n      <td>3.150082</td>\n      <td>3.102956</td>\n      <td>3.057060</td>\n    </tr>\n    <tr>\n      <th>South_Africa_Offshore_1_high_temp_optimistic</th>\n      <td>6.420926</td>\n      <td>6.101068</td>\n      <td>5.807786</td>\n      <td>5.532832</td>\n      <td>5.271000</td>\n      <td>5.018783</td>\n      <td>4.773702</td>\n      <td>4.533933</td>\n      <td>4.298081</td>\n      <td>4.065056</td>\n      <td>...</td>\n      <td>3.044944</td>\n      <td>2.985666</td>\n      <td>2.930034</td>\n      <td>2.880146</td>\n      <td>2.806048</td>\n      <td>2.755060</td>\n      <td>2.706577</td>\n      <td>2.660273</td>\n      <td>2.615880</td>\n      <td>2.573177</td>\n    </tr>\n    <tr>\n      <th>South_Africa_Offshore_2_high_temp_optimistic</th>\n      <td>7.882887</td>\n      <td>7.502615</td>\n      <td>7.158460</td>\n      <td>6.839487</td>\n      <td>6.538808</td>\n      <td>6.251803</td>\n      <td>5.975218</td>\n      <td>5.706671</td>\n      <td>5.444358</td>\n      <td>5.186877</td>\n      <td>...</td>\n      <td>3.922605</td>\n      <td>3.847566</td>\n      <td>3.777477</td>\n      <td>3.715198</td>\n      <td>3.619913</td>\n      <td>3.556102</td>\n      <td>3.495686</td>\n      <td>3.438224</td>\n      <td>3.383351</td>\n      <td>3.330767</td>\n    </tr>\n    <tr>\n      <th>South_Africa_PV_4_high_temp_optimistic</th>\n      <td>8.301321</td>\n      <td>7.735446</td>\n      <td>7.214757</td>\n      <td>6.725080</td>\n      <td>6.257449</td>\n      <td>5.805842</td>\n      <td>5.366024</td>\n      <td>4.934896</td>\n      <td>4.510115</td>\n      <td>4.089858</td>\n      <td>...</td>\n      <td>2.785486</td>\n      <td>2.716458</td>\n      <td>2.650047</td>\n      <td>2.592917</td>\n      <td>2.495084</td>\n      <td>2.430448</td>\n      <td>2.368174</td>\n      <td>2.307988</td>\n      <td>2.249662</td>\n      <td>2.193002</td>\n    </tr>\n  </tbody>\n</table>\n<p>1660 rows × 31 columns</p>\n</div>"
     },
     "execution_count": 98,
     "metadata": {},
     "output_type": "execute_result"
    }
   ],
   "source": [
    "lcoh_green = pd.read_excel(\"/Users/jakob/PycharmProjects/H2_pathways_repo/data/raw/20220921_Data_Assumptions.xlsx\", sheet_name='LCOH_RES', decimal=',', index_col=0)\n",
    "lcoh_green"
   ],
   "metadata": {
    "collapsed": false,
    "pycharm": {
     "name": "#%%\n"
    }
   }
  },
  {
   "cell_type": "code",
   "execution_count": 99,
   "outputs": [],
   "source": [
    "lowest_green = ((lcoh_green.loc['Norway_Onshore_2_low_temp_optimistic', 2025:2050]).mul(0.89))"
   ],
   "metadata": {
    "collapsed": false,
    "pycharm": {
     "name": "#%%\n"
    }
   }
  },
  {
   "cell_type": "code",
   "execution_count": 135,
   "outputs": [
    {
     "data": {
      "text/plain": "       Norway_Onshore_2_low_temp_optimistic\nYears                                      \n2025                               2.491992\n2026                               2.440769\n2027                               2.392928\n2028                               2.347980\n2029                               2.305535\n2030                               2.265274\n2031                               2.205328\n2032                               2.157935\n2033                               2.112188\n2034                               2.068154\n2035                               2.026197\n2036                               1.985129\n2037                               1.945128\n2038                               1.908208\n2039                               1.871112\n2040                               1.834076\n2041                               1.801782\n2042                               1.770822\n2043                               1.740567\n2044                               1.714207\n2045                               1.659565\n2046                               1.627420\n2047                               1.596338\n2048                               1.566225\n2049                               1.536996\n2050                               1.508580",
      "text/html": "<div>\n<style scoped>\n    .dataframe tbody tr th:only-of-type {\n        vertical-align: middle;\n    }\n\n    .dataframe tbody tr th {\n        vertical-align: top;\n    }\n\n    .dataframe thead th {\n        text-align: right;\n    }\n</style>\n<table border=\"1\" class=\"dataframe\">\n  <thead>\n    <tr style=\"text-align: right;\">\n      <th></th>\n      <th>Norway_Onshore_2_low_temp_optimistic</th>\n    </tr>\n    <tr>\n      <th>Years</th>\n      <th></th>\n    </tr>\n  </thead>\n  <tbody>\n    <tr>\n      <th>2025</th>\n      <td>2.491992</td>\n    </tr>\n    <tr>\n      <th>2026</th>\n      <td>2.440769</td>\n    </tr>\n    <tr>\n      <th>2027</th>\n      <td>2.392928</td>\n    </tr>\n    <tr>\n      <th>2028</th>\n      <td>2.347980</td>\n    </tr>\n    <tr>\n      <th>2029</th>\n      <td>2.305535</td>\n    </tr>\n    <tr>\n      <th>2030</th>\n      <td>2.265274</td>\n    </tr>\n    <tr>\n      <th>2031</th>\n      <td>2.205328</td>\n    </tr>\n    <tr>\n      <th>2032</th>\n      <td>2.157935</td>\n    </tr>\n    <tr>\n      <th>2033</th>\n      <td>2.112188</td>\n    </tr>\n    <tr>\n      <th>2034</th>\n      <td>2.068154</td>\n    </tr>\n    <tr>\n      <th>2035</th>\n      <td>2.026197</td>\n    </tr>\n    <tr>\n      <th>2036</th>\n      <td>1.985129</td>\n    </tr>\n    <tr>\n      <th>2037</th>\n      <td>1.945128</td>\n    </tr>\n    <tr>\n      <th>2038</th>\n      <td>1.908208</td>\n    </tr>\n    <tr>\n      <th>2039</th>\n      <td>1.871112</td>\n    </tr>\n    <tr>\n      <th>2040</th>\n      <td>1.834076</td>\n    </tr>\n    <tr>\n      <th>2041</th>\n      <td>1.801782</td>\n    </tr>\n    <tr>\n      <th>2042</th>\n      <td>1.770822</td>\n    </tr>\n    <tr>\n      <th>2043</th>\n      <td>1.740567</td>\n    </tr>\n    <tr>\n      <th>2044</th>\n      <td>1.714207</td>\n    </tr>\n    <tr>\n      <th>2045</th>\n      <td>1.659565</td>\n    </tr>\n    <tr>\n      <th>2046</th>\n      <td>1.627420</td>\n    </tr>\n    <tr>\n      <th>2047</th>\n      <td>1.596338</td>\n    </tr>\n    <tr>\n      <th>2048</th>\n      <td>1.566225</td>\n    </tr>\n    <tr>\n      <th>2049</th>\n      <td>1.536996</td>\n    </tr>\n    <tr>\n      <th>2050</th>\n      <td>1.508580</td>\n    </tr>\n  </tbody>\n</table>\n</div>"
     },
     "execution_count": 135,
     "metadata": {},
     "output_type": "execute_result"
    }
   ],
   "source": [
    "lowest_green = pd.DataFrame(lowest_green)\n",
    "lowest_green.index.name = 'Years'\n",
    "lowest_green"
   ],
   "metadata": {
    "collapsed": false,
    "pycharm": {
     "name": "#%%\n"
    }
   }
  },
  {
   "cell_type": "code",
   "execution_count": 158,
   "outputs": [
    {
     "data": {
      "text/plain": "       LCOH_BLUE\nYears           \n2025    2.589820\n2026    2.373447\n2027    2.155720\n2028    1.821652\n2029    1.831196\n2030    1.839387\n2031    1.856517\n2032    1.872223\n2033    1.886502\n2034    1.899351\n2035    1.910768\n2036    1.920750\n2037    1.929296\n2038    1.936403\n2039    1.942068\n2040    1.946291\n2041    1.940501\n2042    1.933856\n2043    1.926355\n2044    1.917997\n2045    1.908779\n2046    1.898193\n2047    1.886788\n2048    1.874562\n2049    1.861514\n2050    1.839630",
      "text/html": "<div>\n<style scoped>\n    .dataframe tbody tr th:only-of-type {\n        vertical-align: middle;\n    }\n\n    .dataframe tbody tr th {\n        vertical-align: top;\n    }\n\n    .dataframe thead th {\n        text-align: right;\n    }\n</style>\n<table border=\"1\" class=\"dataframe\">\n  <thead>\n    <tr style=\"text-align: right;\">\n      <th></th>\n      <th>LCOH_BLUE</th>\n    </tr>\n    <tr>\n      <th>Years</th>\n      <th></th>\n    </tr>\n  </thead>\n  <tbody>\n    <tr>\n      <th>2025</th>\n      <td>2.589820</td>\n    </tr>\n    <tr>\n      <th>2026</th>\n      <td>2.373447</td>\n    </tr>\n    <tr>\n      <th>2027</th>\n      <td>2.155720</td>\n    </tr>\n    <tr>\n      <th>2028</th>\n      <td>1.821652</td>\n    </tr>\n    <tr>\n      <th>2029</th>\n      <td>1.831196</td>\n    </tr>\n    <tr>\n      <th>2030</th>\n      <td>1.839387</td>\n    </tr>\n    <tr>\n      <th>2031</th>\n      <td>1.856517</td>\n    </tr>\n    <tr>\n      <th>2032</th>\n      <td>1.872223</td>\n    </tr>\n    <tr>\n      <th>2033</th>\n      <td>1.886502</td>\n    </tr>\n    <tr>\n      <th>2034</th>\n      <td>1.899351</td>\n    </tr>\n    <tr>\n      <th>2035</th>\n      <td>1.910768</td>\n    </tr>\n    <tr>\n      <th>2036</th>\n      <td>1.920750</td>\n    </tr>\n    <tr>\n      <th>2037</th>\n      <td>1.929296</td>\n    </tr>\n    <tr>\n      <th>2038</th>\n      <td>1.936403</td>\n    </tr>\n    <tr>\n      <th>2039</th>\n      <td>1.942068</td>\n    </tr>\n    <tr>\n      <th>2040</th>\n      <td>1.946291</td>\n    </tr>\n    <tr>\n      <th>2041</th>\n      <td>1.940501</td>\n    </tr>\n    <tr>\n      <th>2042</th>\n      <td>1.933856</td>\n    </tr>\n    <tr>\n      <th>2043</th>\n      <td>1.926355</td>\n    </tr>\n    <tr>\n      <th>2044</th>\n      <td>1.917997</td>\n    </tr>\n    <tr>\n      <th>2045</th>\n      <td>1.908779</td>\n    </tr>\n    <tr>\n      <th>2046</th>\n      <td>1.898193</td>\n    </tr>\n    <tr>\n      <th>2047</th>\n      <td>1.886788</td>\n    </tr>\n    <tr>\n      <th>2048</th>\n      <td>1.874562</td>\n    </tr>\n    <tr>\n      <th>2049</th>\n      <td>1.861514</td>\n    </tr>\n    <tr>\n      <th>2050</th>\n      <td>1.839630</td>\n    </tr>\n  </tbody>\n</table>\n</div>"
     },
     "execution_count": 158,
     "metadata": {},
     "output_type": "execute_result"
    }
   ],
   "source": [
    "lcoh_blue = pd.read_csv(\"/Users/jakob/PycharmProjects/H2_pathways_repo/data/processed/LCOH_NGR.csv\", delimiter=';', index_col=0)\n",
    "lcoh_blue"
   ],
   "metadata": {
    "collapsed": false,
    "pycharm": {
     "name": "#%%\n"
    }
   }
  },
  {
   "cell_type": "markdown",
   "source": [
    "# Minimal production costs"
   ],
   "metadata": {
    "collapsed": false,
    "pycharm": {
     "name": "#%% md\n"
    }
   }
  },
  {
   "cell_type": "code",
   "execution_count": 225,
   "outputs": [],
   "source": [
    "def choose_minimal_production_costs():\n",
    "    result = min(LCOH_green, LCOH_blue)\n",
    "\n",
    "    return result"
   ],
   "metadata": {
    "collapsed": false,
    "pycharm": {
     "name": "#%%\n"
    }
   }
  },
  {
   "cell_type": "code",
   "execution_count": 226,
   "outputs": [],
   "source": [
    "def choose_minimal_production_cost_technology():\n",
    "    if min(LCOH_green, LCOH_blue) == LCOH_green:\n",
    "        result = 'Green'\n",
    "    else:\n",
    "        result = 'Blue'\n",
    "\n",
    "    return result"
   ],
   "metadata": {
    "collapsed": false,
    "pycharm": {
     "name": "#%%\n"
    }
   }
  },
  {
   "cell_type": "code",
   "execution_count": 227,
   "outputs": [
    {
     "data": {
      "text/plain": "      Minimal_production_costs Technology\nYears                                    \n2025                  2.491992      Green\n2026                  2.373447       Blue\n2027                   2.15572       Blue\n2028                  1.821652       Blue\n2029                  1.831196       Blue\n2030                  1.839387       Blue\n2031                  1.856517       Blue\n2032                  1.872223       Blue\n2033                  1.886502       Blue\n2034                  1.899351       Blue\n2035                  1.910768       Blue\n2036                   1.92075       Blue\n2037                  1.929296       Blue\n2038                  1.908208      Green\n2039                  1.871112      Green\n2040                  1.834076      Green\n2041                  1.801782      Green\n2042                  1.770822      Green\n2043                  1.740567      Green\n2044                  1.714207      Green\n2045                  1.659565      Green\n2046                   1.62742      Green\n2047                  1.596338      Green\n2048                  1.566225      Green\n2049                  1.536996      Green\n2050                   1.50858      Green",
      "text/html": "<div>\n<style scoped>\n    .dataframe tbody tr th:only-of-type {\n        vertical-align: middle;\n    }\n\n    .dataframe tbody tr th {\n        vertical-align: top;\n    }\n\n    .dataframe thead th {\n        text-align: right;\n    }\n</style>\n<table border=\"1\" class=\"dataframe\">\n  <thead>\n    <tr style=\"text-align: right;\">\n      <th></th>\n      <th>Minimal_production_costs</th>\n      <th>Technology</th>\n    </tr>\n    <tr>\n      <th>Years</th>\n      <th></th>\n      <th></th>\n    </tr>\n  </thead>\n  <tbody>\n    <tr>\n      <th>2025</th>\n      <td>2.491992</td>\n      <td>Green</td>\n    </tr>\n    <tr>\n      <th>2026</th>\n      <td>2.373447</td>\n      <td>Blue</td>\n    </tr>\n    <tr>\n      <th>2027</th>\n      <td>2.15572</td>\n      <td>Blue</td>\n    </tr>\n    <tr>\n      <th>2028</th>\n      <td>1.821652</td>\n      <td>Blue</td>\n    </tr>\n    <tr>\n      <th>2029</th>\n      <td>1.831196</td>\n      <td>Blue</td>\n    </tr>\n    <tr>\n      <th>2030</th>\n      <td>1.839387</td>\n      <td>Blue</td>\n    </tr>\n    <tr>\n      <th>2031</th>\n      <td>1.856517</td>\n      <td>Blue</td>\n    </tr>\n    <tr>\n      <th>2032</th>\n      <td>1.872223</td>\n      <td>Blue</td>\n    </tr>\n    <tr>\n      <th>2033</th>\n      <td>1.886502</td>\n      <td>Blue</td>\n    </tr>\n    <tr>\n      <th>2034</th>\n      <td>1.899351</td>\n      <td>Blue</td>\n    </tr>\n    <tr>\n      <th>2035</th>\n      <td>1.910768</td>\n      <td>Blue</td>\n    </tr>\n    <tr>\n      <th>2036</th>\n      <td>1.92075</td>\n      <td>Blue</td>\n    </tr>\n    <tr>\n      <th>2037</th>\n      <td>1.929296</td>\n      <td>Blue</td>\n    </tr>\n    <tr>\n      <th>2038</th>\n      <td>1.908208</td>\n      <td>Green</td>\n    </tr>\n    <tr>\n      <th>2039</th>\n      <td>1.871112</td>\n      <td>Green</td>\n    </tr>\n    <tr>\n      <th>2040</th>\n      <td>1.834076</td>\n      <td>Green</td>\n    </tr>\n    <tr>\n      <th>2041</th>\n      <td>1.801782</td>\n      <td>Green</td>\n    </tr>\n    <tr>\n      <th>2042</th>\n      <td>1.770822</td>\n      <td>Green</td>\n    </tr>\n    <tr>\n      <th>2043</th>\n      <td>1.740567</td>\n      <td>Green</td>\n    </tr>\n    <tr>\n      <th>2044</th>\n      <td>1.714207</td>\n      <td>Green</td>\n    </tr>\n    <tr>\n      <th>2045</th>\n      <td>1.659565</td>\n      <td>Green</td>\n    </tr>\n    <tr>\n      <th>2046</th>\n      <td>1.62742</td>\n      <td>Green</td>\n    </tr>\n    <tr>\n      <th>2047</th>\n      <td>1.596338</td>\n      <td>Green</td>\n    </tr>\n    <tr>\n      <th>2048</th>\n      <td>1.566225</td>\n      <td>Green</td>\n    </tr>\n    <tr>\n      <th>2049</th>\n      <td>1.536996</td>\n      <td>Green</td>\n    </tr>\n    <tr>\n      <th>2050</th>\n      <td>1.50858</td>\n      <td>Green</td>\n    </tr>\n  </tbody>\n</table>\n</div>"
     },
     "execution_count": 227,
     "metadata": {},
     "output_type": "execute_result"
    }
   ],
   "source": [
    "years = np.arange(2025, 2051)\n",
    "result = pd.DataFrame(index=years, columns=['Minimal_production_costs', 'Technology'])\n",
    "result.index.name = 'Years'\n",
    "for year in years:\n",
    "    # get all costs\n",
    "\n",
    "    LCOH_green = float(lowest_green.loc[year]['Norway_Onshore_2_low_temp_optimistic'])\n",
    "    LCOH_blue = float(lcoh_blue.loc[year]['LCOH_BLUE'])\n",
    "\n",
    "    # calculate costs of specific year\n",
    "    result.Minimal_production_costs.loc[year] = choose_minimal_production_costs()\n",
    "    result.Technology.loc[year] = choose_minimal_production_cost_technology()\n",
    "\n",
    "result"
   ],
   "metadata": {
    "collapsed": false,
    "pycharm": {
     "name": "#%%\n"
    }
   }
  },
  {
   "cell_type": "code",
   "execution_count": 223,
   "outputs": [
    {
     "ename": "IndentationError",
     "evalue": "unexpected indent (329081932.py, line 2)",
     "output_type": "error",
     "traceback": [
      "\u001B[0;36m  Input \u001B[0;32mIn [223]\u001B[0;36m\u001B[0m\n\u001B[0;31m    result = min(LCOH_green, LCOH_blue)\u001B[0m\n\u001B[0m    ^\u001B[0m\n\u001B[0;31mIndentationError\u001B[0m\u001B[0;31m:\u001B[0m unexpected indent\n"
     ]
    }
   ],
   "source": [],
   "metadata": {
    "collapsed": false,
    "pycharm": {
     "name": "#%%\n"
    }
   }
  },
  {
   "cell_type": "code",
   "execution_count": 161,
   "outputs": [],
   "source": [
    "years = np.arange(2025, 2051)\n",
    "result = pd.DataFrame(index=years, columns=['Minimal_production_costs'])\n",
    "result.index.name = 'Years'"
   ],
   "metadata": {
    "collapsed": false,
    "pycharm": {
     "name": "#%%\n"
    }
   }
  },
  {
   "cell_type": "code",
   "execution_count": 162,
   "outputs": [
    {
     "data": {
      "text/plain": "      Minimal_production_costs\nYears                         \n2025                  2.491992\n2026                  2.373447\n2027                   2.15572\n2028                  1.821652\n2029                  1.831196\n2030                  1.839387\n2031                  1.856517\n2032                  1.872223\n2033                  1.886502\n2034                  1.899351\n2035                  1.910768\n2036                   1.92075\n2037                  1.929296\n2038                  1.908208\n2039                  1.871112\n2040                  1.834076\n2041                  1.801782\n2042                  1.770822\n2043                  1.740567\n2044                  1.714207\n2045                  1.659565\n2046                   1.62742\n2047                  1.596338\n2048                  1.566225\n2049                  1.536996\n2050                   1.50858",
      "text/html": "<div>\n<style scoped>\n    .dataframe tbody tr th:only-of-type {\n        vertical-align: middle;\n    }\n\n    .dataframe tbody tr th {\n        vertical-align: top;\n    }\n\n    .dataframe thead th {\n        text-align: right;\n    }\n</style>\n<table border=\"1\" class=\"dataframe\">\n  <thead>\n    <tr style=\"text-align: right;\">\n      <th></th>\n      <th>Minimal_production_costs</th>\n    </tr>\n    <tr>\n      <th>Years</th>\n      <th></th>\n    </tr>\n  </thead>\n  <tbody>\n    <tr>\n      <th>2025</th>\n      <td>2.491992</td>\n    </tr>\n    <tr>\n      <th>2026</th>\n      <td>2.373447</td>\n    </tr>\n    <tr>\n      <th>2027</th>\n      <td>2.15572</td>\n    </tr>\n    <tr>\n      <th>2028</th>\n      <td>1.821652</td>\n    </tr>\n    <tr>\n      <th>2029</th>\n      <td>1.831196</td>\n    </tr>\n    <tr>\n      <th>2030</th>\n      <td>1.839387</td>\n    </tr>\n    <tr>\n      <th>2031</th>\n      <td>1.856517</td>\n    </tr>\n    <tr>\n      <th>2032</th>\n      <td>1.872223</td>\n    </tr>\n    <tr>\n      <th>2033</th>\n      <td>1.886502</td>\n    </tr>\n    <tr>\n      <th>2034</th>\n      <td>1.899351</td>\n    </tr>\n    <tr>\n      <th>2035</th>\n      <td>1.910768</td>\n    </tr>\n    <tr>\n      <th>2036</th>\n      <td>1.92075</td>\n    </tr>\n    <tr>\n      <th>2037</th>\n      <td>1.929296</td>\n    </tr>\n    <tr>\n      <th>2038</th>\n      <td>1.908208</td>\n    </tr>\n    <tr>\n      <th>2039</th>\n      <td>1.871112</td>\n    </tr>\n    <tr>\n      <th>2040</th>\n      <td>1.834076</td>\n    </tr>\n    <tr>\n      <th>2041</th>\n      <td>1.801782</td>\n    </tr>\n    <tr>\n      <th>2042</th>\n      <td>1.770822</td>\n    </tr>\n    <tr>\n      <th>2043</th>\n      <td>1.740567</td>\n    </tr>\n    <tr>\n      <th>2044</th>\n      <td>1.714207</td>\n    </tr>\n    <tr>\n      <th>2045</th>\n      <td>1.659565</td>\n    </tr>\n    <tr>\n      <th>2046</th>\n      <td>1.62742</td>\n    </tr>\n    <tr>\n      <th>2047</th>\n      <td>1.596338</td>\n    </tr>\n    <tr>\n      <th>2048</th>\n      <td>1.566225</td>\n    </tr>\n    <tr>\n      <th>2049</th>\n      <td>1.536996</td>\n    </tr>\n    <tr>\n      <th>2050</th>\n      <td>1.50858</td>\n    </tr>\n  </tbody>\n</table>\n</div>"
     },
     "execution_count": 162,
     "metadata": {},
     "output_type": "execute_result"
    }
   ],
   "source": [
    "for year in years:\n",
    "    # get all costs\n",
    "\n",
    "    LCOH_green = float(lowest_green.loc[year]['Norway_Onshore_2_low_temp_optimistic'])\n",
    "    LCOH_blue = float(lcoh_blue.loc[year]['LCOH_BLUE'])\n",
    "\n",
    "    # calculate costs of specific year\n",
    "    result.Minimal_production_costs.loc[year] = choose_minimal_production_costs()\n",
    "\n",
    "\n",
    "\n",
    "result"
   ],
   "metadata": {
    "collapsed": false,
    "pycharm": {
     "name": "#%%\n"
    }
   }
  },
  {
   "cell_type": "code",
   "execution_count": 163,
   "outputs": [],
   "source": [
    "# Create csv file from results dataframe\n",
    "path = r'/Users/jakob/PycharmProjects/H2_pathways_repo/data/processed'\n",
    "output_file = os.path.join(path, 'Minimal_production_costs.csv')\n",
    "result.to_csv(output_file, sep=';')"
   ],
   "metadata": {
    "collapsed": false,
    "pycharm": {
     "name": "#%%\n"
    }
   }
  },
  {
   "cell_type": "markdown",
   "source": [
    "## Plot production costs"
   ],
   "metadata": {
    "collapsed": false,
    "pycharm": {
     "name": "#%% md\n"
    }
   }
  },
  {
   "cell_type": "code",
   "execution_count": 167,
   "outputs": [
    {
     "data": {
      "text/plain": "<Figure size 720x432 with 1 Axes>",
      "image/png": "[encoded data removed]"
     },
     "metadata": {
      "needs_background": "light"
     },
     "output_type": "display_data"
    }
   ],
   "source": [
    "# Plot cost curves of hydrogen production from NGR with CCS and RES\n",
    "fig, ax = plt.subplots(figsize=(10, 6))\n",
    "plt.plot(lcoh_blue, color='blue', linestyle='solid', label='Blue hydrogen')\n",
    "plt.plot(lowest_green, color='green', linestyle='solid', label='Green hydrogen')\n",
    "plt.grid(True, axis='y')\n",
    "ax.set_axisbelow(True)\n",
    "plt.title('Cost curves for green and blue hydrogen production', fontweight='bold')\n",
    "ax.legend()\n",
    "plt.xlabel('Year')\n",
    "#plt.ylim(0)\n",
    "plt.ylabel('Cost [€/kg H2]')\n",
    "plt.show()"
   ],
   "metadata": {
    "collapsed": false,
    "pycharm": {
     "name": "#%%\n"
    }
   }
  },
  {
   "cell_type": "code",
   "execution_count": 144,
   "outputs": [
    {
     "data": {
      "text/plain": "<Figure size 720x432 with 1 Axes>",
      "image/png": "[encoded data removed]"
     },
     "metadata": {
      "needs_background": "light"
     },
     "output_type": "display_data"
    }
   ],
   "source": [
    "# Plot cost curve for production costst\n",
    "fig, ax = plt.subplots(figsize=(10,6))\n",
    "plt.grid(True, axis = 'y')\n",
    "ax.set_axisbelow(True)\n",
    "plt.plot(result, color='black', linestyle='solid')\n",
    "plt.title('Minimal production costs in €/kg_H2')\n",
    "plt.xlabel('Year')\n",
    "plt.ylabel('Cost')\n",
    "plt.show()"
   ],
   "metadata": {
    "collapsed": false,
    "pycharm": {
     "name": "#%%\n"
    }
   }
  },
  {
   "cell_type": "markdown",
   "source": [
    "# Transport inputs"
   ],
   "metadata": {
    "collapsed": false,
    "pycharm": {
     "name": "#%% md\n"
    }
   }
  },
  {
   "cell_type": "code",
   "execution_count": 10,
   "outputs": [
    {
     "data": {
      "text/plain": "                                                      Value  \\\nParameter                                                     \nWACC [%]                                               0.08   \nNaN                                                     NaN   \nAverage exchange rate 2022 [€/$]                     0.9462   \nAverage exchange rate 2021 [€/$]                     0.8458   \nAverage exchange rate 2020 [€/$]                     0.877    \nAverage exchange rate 2019 [€/$]                     0.8931   \nAverage exchange rate 2018 [€/$]                     0.8475   \nAverage exchange rate in 2018 [GBP/EUR]              1.1301   \nNaN                                                     NaN   \nTechnology availability                                2022   \nNew H2 pipeline - time from FID to commissionin...        7   \nRetrofit H2 pipeline - availability from now [y...       13   \nNG pipeline - time from FID to commissioning [y...        7   \nNew CO2 pipeline - time from FID to commissioni...        7   \nLH2 shipping - availability                               3   \nAmmonia shipping - availability                           3   \n\n                                                                                                  Ref  \\\nParameter                                                                                               \nWACC [%]                                                                                          NaN   \nNaN                                                                                               NaN   \nAverage exchange rate 2022 [€/$]                    https://www.exchangerates.org.uk/USD-EUR-spot-...   \nAverage exchange rate 2021 [€/$]                    https://www.exchangerates.org.uk/USD-EUR-spot-...   \nAverage exchange rate 2020 [€/$]                                                                  NaN   \nAverage exchange rate 2019 [€/$]                    https://www.exchangerates.org.uk/USD-EUR-spot-...   \nAverage exchange rate 2018 [€/$]                    https://www.exchangerates.org.uk/USD-EUR-spot-...   \nAverage exchange rate in 2018 [GBP/EUR]             https://www.exchangerates.org.uk/GBP-EUR-spot-...   \nNaN                                                                                               NaN   \nTechnology availability                                                                           NaN   \nNew H2 pipeline - time from FID to commissionin...                                                NaN   \nRetrofit H2 pipeline - availability from now [y...                                                NaN   \nNG pipeline - time from FID to commissioning [y...                                                NaN   \nNew CO2 pipeline - time from FID to commissioni...                                                NaN   \nLH2 shipping - availability                                                                       NaN   \nAmmonia shipping - availability                                   Expert interviews Uniper and TES H2   \n\n                                                                                              Comment  \nParameter                                                                                              \nWACC [%]                                                                                          NaN  \nNaN                                                                                               NaN  \nAverage exchange rate 2022 [€/$]                                                                  NaN  \nAverage exchange rate 2021 [€/$]                                                                  NaN  \nAverage exchange rate 2020 [€/$]                                                                  NaN  \nAverage exchange rate 2019 [€/$]                                                                  NaN  \nAverage exchange rate 2018 [€/$]                                                                  NaN  \nAverage exchange rate in 2018 [GBP/EUR]                                                           NaN  \nNaN                                                                                               NaN  \nTechnology availability                             both say FID to COD of 3 years for terminals, ...  \nNew H2 pipeline - time from FID to commissionin...                                                NaN  \nRetrofit H2 pipeline - availability from now [y...                        free NG pipelines available  \nNG pipeline - time from FID to commissioning [y...                                                NaN  \nNew CO2 pipeline - time from FID to commissioni...                                                NaN  \nLH2 shipping - availability                                          time to build ship and terminals  \nAmmonia shipping - availability                                                                   NaN  ",
      "text/html": "<div>\n<style scoped>\n    .dataframe tbody tr th:only-of-type {\n        vertical-align: middle;\n    }\n\n    .dataframe tbody tr th {\n        vertical-align: top;\n    }\n\n    .dataframe thead th {\n        text-align: right;\n    }\n</style>\n<table border=\"1\" class=\"dataframe\">\n  <thead>\n    <tr style=\"text-align: right;\">\n      <th></th>\n      <th>Value</th>\n      <th>Ref</th>\n      <th>Comment</th>\n    </tr>\n    <tr>\n      <th>Parameter</th>\n      <th></th>\n      <th></th>\n      <th></th>\n    </tr>\n  </thead>\n  <tbody>\n    <tr>\n      <th>WACC [%]</th>\n      <td>0.08</td>\n      <td>NaN</td>\n      <td>NaN</td>\n    </tr>\n    <tr>\n      <th>NaN</th>\n      <td>NaN</td>\n      <td>NaN</td>\n      <td>NaN</td>\n    </tr>\n    <tr>\n      <th>Average exchange rate 2022 [€/$]</th>\n      <td>0.9462</td>\n      <td>https://www.exchangerates.org.uk/USD-EUR-spot-...</td>\n      <td>NaN</td>\n    </tr>\n    <tr>\n      <th>Average exchange rate 2021 [€/$]</th>\n      <td>0.8458</td>\n      <td>https://www.exchangerates.org.uk/USD-EUR-spot-...</td>\n      <td>NaN</td>\n    </tr>\n    <tr>\n      <th>Average exchange rate 2020 [€/$]</th>\n      <td>0.877</td>\n      <td>NaN</td>\n      <td>NaN</td>\n    </tr>\n    <tr>\n      <th>Average exchange rate 2019 [€/$]</th>\n      <td>0.8931</td>\n      <td>https://www.exchangerates.org.uk/USD-EUR-spot-...</td>\n      <td>NaN</td>\n    </tr>\n    <tr>\n      <th>Average exchange rate 2018 [€/$]</th>\n      <td>0.8475</td>\n      <td>https://www.exchangerates.org.uk/USD-EUR-spot-...</td>\n      <td>NaN</td>\n    </tr>\n    <tr>\n      <th>Average exchange rate in 2018 [GBP/EUR]</th>\n      <td>1.1301</td>\n      <td>https://www.exchangerates.org.uk/GBP-EUR-spot-...</td>\n      <td>NaN</td>\n    </tr>\n    <tr>\n      <th>NaN</th>\n      <td>NaN</td>\n      <td>NaN</td>\n      <td>NaN</td>\n    </tr>\n    <tr>\n      <th>Technology availability</th>\n      <td>2022</td>\n      <td>NaN</td>\n      <td>both say FID to COD of 3 years for terminals, ...</td>\n    </tr>\n    <tr>\n      <th>New H2 pipeline - time from FID to commissioning [years]</th>\n      <td>7</td>\n      <td>NaN</td>\n      <td>NaN</td>\n    </tr>\n    <tr>\n      <th>Retrofit H2 pipeline - availability from now [years]</th>\n      <td>13</td>\n      <td>NaN</td>\n      <td>free NG pipelines available</td>\n    </tr>\n    <tr>\n      <th>NG pipeline - time from FID to commissioning [years]</th>\n      <td>7</td>\n      <td>NaN</td>\n      <td>NaN</td>\n    </tr>\n    <tr>\n      <th>New CO2 pipeline - time from FID to commissioning [years]</th>\n      <td>7</td>\n      <td>NaN</td>\n      <td>NaN</td>\n    </tr>\n    <tr>\n      <th>LH2 shipping - availability</th>\n      <td>3</td>\n      <td>NaN</td>\n      <td>time to build ship and terminals</td>\n    </tr>\n    <tr>\n      <th>Ammonia shipping - availability</th>\n      <td>3</td>\n      <td>Expert interviews Uniper and TES H2</td>\n      <td>NaN</td>\n    </tr>\n  </tbody>\n</table>\n</div>"
     },
     "execution_count": 10,
     "metadata": {},
     "output_type": "execute_result"
    }
   ],
   "source": [
    "availabilities = pd.read_excel(\"/Users/jakob/PycharmProjects/H2_pathways_repo/data/raw/20220921_Data_Assumptions.xlsx\", sheet_name='General Assumptions', decimal=',', index_col=0)\n",
    "availabilities"
   ],
   "metadata": {
    "collapsed": false,
    "pycharm": {
     "name": "#%%\n"
    }
   }
  },
  {
   "cell_type": "code",
   "execution_count": 11,
   "outputs": [
    {
     "data": {
      "text/plain": "2022"
     },
     "execution_count": 11,
     "metadata": {},
     "output_type": "execute_result"
    }
   ],
   "source": [
    "this_year = int(availabilities.loc['Technology availability']['Value'])\n",
    "this_year"
   ],
   "metadata": {
    "collapsed": false,
    "pycharm": {
     "name": "#%%\n"
    }
   }
  },
  {
   "cell_type": "code",
   "execution_count": 12,
   "outputs": [
    {
     "data": {
      "text/plain": "7"
     },
     "execution_count": 12,
     "metadata": {},
     "output_type": "execute_result"
    }
   ],
   "source": [
    "AV_pipe_new = int(availabilities.loc['New H2 pipeline - time from FID to commissioning [years]']['Value'])\n",
    "AV_pipe_new"
   ],
   "metadata": {
    "collapsed": false,
    "pycharm": {
     "name": "#%%\n"
    }
   }
  },
  {
   "cell_type": "code",
   "execution_count": 13,
   "outputs": [
    {
     "data": {
      "text/plain": "13"
     },
     "execution_count": 13,
     "metadata": {},
     "output_type": "execute_result"
    }
   ],
   "source": [
    "AV_pipe_retro = int(availabilities.loc['Retrofit H2 pipeline - availability from now [years]']['Value'])\n",
    "AV_pipe_retro"
   ],
   "metadata": {
    "collapsed": false,
    "pycharm": {
     "name": "#%%\n"
    }
   }
  },
  {
   "cell_type": "code",
   "execution_count": 14,
   "outputs": [
    {
     "data": {
      "text/plain": "7"
     },
     "execution_count": 14,
     "metadata": {},
     "output_type": "execute_result"
    }
   ],
   "source": [
    "AV_pipe_co2 = int(availabilities.loc['New CO2 pipeline - time from FID to commissioning [years]']['Value'])\n",
    "AV_pipe_co2"
   ],
   "metadata": {
    "collapsed": false,
    "pycharm": {
     "name": "#%%\n"
    }
   }
  },
  {
   "cell_type": "code",
   "execution_count": 15,
   "outputs": [
    {
     "data": {
      "text/plain": "3"
     },
     "execution_count": 15,
     "metadata": {},
     "output_type": "execute_result"
    }
   ],
   "source": [
    "AV_LH2 = int(availabilities.loc['LH2 shipping - availability']['Value'])\n",
    "AV_LH2"
   ],
   "metadata": {
    "collapsed": false,
    "pycharm": {
     "name": "#%%\n"
    }
   }
  },
  {
   "cell_type": "code",
   "execution_count": 16,
   "outputs": [
    {
     "data": {
      "text/plain": "3"
     },
     "execution_count": 16,
     "metadata": {},
     "output_type": "execute_result"
    }
   ],
   "source": [
    "AV_NH3 = int(availabilities.loc['Ammonia shipping - availability']['Value'])\n",
    "AV_NH3"
   ],
   "metadata": {
    "collapsed": false,
    "pycharm": {
     "name": "#%%\n"
    }
   }
  },
  {
   "cell_type": "code",
   "execution_count": 183,
   "outputs": [
    {
     "data": {
      "text/plain": "       Retrofit_pipeline_costs_off\nYears                             \n2025                      0.104099\n2026                      0.103943\n2027                      0.103856\n2028                      0.103747\n2029                      0.103649\n2030                      0.103572\n2031                      0.103587\n2032                      0.103673\n2033                      0.103857\n2034                      0.104006\n2035                      0.104048\n2036                      0.103991\n2037                      0.104009\n2038                      0.104126\n2039                      0.104373\n2040                      0.104603\n2041                      0.104866\n2042                      0.105183\n2043                      0.105536\n2044                      0.105903\n2045                      0.106200\n2046                      0.106340\n2047                      0.106291\n2048                      0.106134\n2049                      0.106054\n2050                      0.106134",
      "text/html": "<div>\n<style scoped>\n    .dataframe tbody tr th:only-of-type {\n        vertical-align: middle;\n    }\n\n    .dataframe tbody tr th {\n        vertical-align: top;\n    }\n\n    .dataframe thead th {\n        text-align: right;\n    }\n</style>\n<table border=\"1\" class=\"dataframe\">\n  <thead>\n    <tr style=\"text-align: right;\">\n      <th></th>\n      <th>Retrofit_pipeline_costs_off</th>\n    </tr>\n    <tr>\n      <th>Years</th>\n      <th></th>\n    </tr>\n  </thead>\n  <tbody>\n    <tr>\n      <th>2025</th>\n      <td>0.104099</td>\n    </tr>\n    <tr>\n      <th>2026</th>\n      <td>0.103943</td>\n    </tr>\n    <tr>\n      <th>2027</th>\n      <td>0.103856</td>\n    </tr>\n    <tr>\n      <th>2028</th>\n      <td>0.103747</td>\n    </tr>\n    <tr>\n      <th>2029</th>\n      <td>0.103649</td>\n    </tr>\n    <tr>\n      <th>2030</th>\n      <td>0.103572</td>\n    </tr>\n    <tr>\n      <th>2031</th>\n      <td>0.103587</td>\n    </tr>\n    <tr>\n      <th>2032</th>\n      <td>0.103673</td>\n    </tr>\n    <tr>\n      <th>2033</th>\n      <td>0.103857</td>\n    </tr>\n    <tr>\n      <th>2034</th>\n      <td>0.104006</td>\n    </tr>\n    <tr>\n      <th>2035</th>\n      <td>0.104048</td>\n    </tr>\n    <tr>\n      <th>2036</th>\n      <td>0.103991</td>\n    </tr>\n    <tr>\n      <th>2037</th>\n      <td>0.104009</td>\n    </tr>\n    <tr>\n      <th>2038</th>\n      <td>0.104126</td>\n    </tr>\n    <tr>\n      <th>2039</th>\n      <td>0.104373</td>\n    </tr>\n    <tr>\n      <th>2040</th>\n      <td>0.104603</td>\n    </tr>\n    <tr>\n      <th>2041</th>\n      <td>0.104866</td>\n    </tr>\n    <tr>\n      <th>2042</th>\n      <td>0.105183</td>\n    </tr>\n    <tr>\n      <th>2043</th>\n      <td>0.105536</td>\n    </tr>\n    <tr>\n      <th>2044</th>\n      <td>0.105903</td>\n    </tr>\n    <tr>\n      <th>2045</th>\n      <td>0.106200</td>\n    </tr>\n    <tr>\n      <th>2046</th>\n      <td>0.106340</td>\n    </tr>\n    <tr>\n      <th>2047</th>\n      <td>0.106291</td>\n    </tr>\n    <tr>\n      <th>2048</th>\n      <td>0.106134</td>\n    </tr>\n    <tr>\n      <th>2049</th>\n      <td>0.106054</td>\n    </tr>\n    <tr>\n      <th>2050</th>\n      <td>0.106134</td>\n    </tr>\n  </tbody>\n</table>\n</div>"
     },
     "execution_count": 183,
     "metadata": {},
     "output_type": "execute_result"
    }
   ],
   "source": [
    "pipe_retro_off = pd.read_csv(\"/Users/jakob/PycharmProjects/H2_pathways_repo/data/processed/Retrofit_pipeline_costs_off.csv\", delimiter=';', index_col= 0)\n",
    "pipe_retro_off"
   ],
   "metadata": {
    "collapsed": false,
    "pycharm": {
     "name": "#%%\n"
    }
   }
  },
  {
   "cell_type": "markdown",
   "source": [],
   "metadata": {
    "collapsed": false,
    "pycharm": {
     "name": "#%% md\n"
    }
   }
  },
  {
   "cell_type": "code",
   "execution_count": 184,
   "outputs": [
    {
     "data": {
      "text/plain": "       New_Pipeline_costs_off\nYears                        \n2025                 0.368797\n2026                 0.368641\n2027                 0.368555\n2028                 0.368445\n2029                 0.368347\n2030                 0.368270\n2031                 0.368285\n2032                 0.368372\n2033                 0.368556\n2034                 0.368704\n2035                 0.368746\n2036                 0.368689\n2037                 0.368707\n2038                 0.368824\n2039                 0.369071\n2040                 0.369301\n2041                 0.369564\n2042                 0.369881\n2043                 0.370234\n2044                 0.370601\n2045                 0.370898\n2046                 0.371038\n2047                 0.370989\n2048                 0.370833\n2049                 0.370752\n2050                 0.370833",
      "text/html": "<div>\n<style scoped>\n    .dataframe tbody tr th:only-of-type {\n        vertical-align: middle;\n    }\n\n    .dataframe tbody tr th {\n        vertical-align: top;\n    }\n\n    .dataframe thead th {\n        text-align: right;\n    }\n</style>\n<table border=\"1\" class=\"dataframe\">\n  <thead>\n    <tr style=\"text-align: right;\">\n      <th></th>\n      <th>New_Pipeline_costs_off</th>\n    </tr>\n    <tr>\n      <th>Years</th>\n      <th></th>\n    </tr>\n  </thead>\n  <tbody>\n    <tr>\n      <th>2025</th>\n      <td>0.368797</td>\n    </tr>\n    <tr>\n      <th>2026</th>\n      <td>0.368641</td>\n    </tr>\n    <tr>\n      <th>2027</th>\n      <td>0.368555</td>\n    </tr>\n    <tr>\n      <th>2028</th>\n      <td>0.368445</td>\n    </tr>\n    <tr>\n      <th>2029</th>\n      <td>0.368347</td>\n    </tr>\n    <tr>\n      <th>2030</th>\n      <td>0.368270</td>\n    </tr>\n    <tr>\n      <th>2031</th>\n      <td>0.368285</td>\n    </tr>\n    <tr>\n      <th>2032</th>\n      <td>0.368372</td>\n    </tr>\n    <tr>\n      <th>2033</th>\n      <td>0.368556</td>\n    </tr>\n    <tr>\n      <th>2034</th>\n      <td>0.368704</td>\n    </tr>\n    <tr>\n      <th>2035</th>\n      <td>0.368746</td>\n    </tr>\n    <tr>\n      <th>2036</th>\n      <td>0.368689</td>\n    </tr>\n    <tr>\n      <th>2037</th>\n      <td>0.368707</td>\n    </tr>\n    <tr>\n      <th>2038</th>\n      <td>0.368824</td>\n    </tr>\n    <tr>\n      <th>2039</th>\n      <td>0.369071</td>\n    </tr>\n    <tr>\n      <th>2040</th>\n      <td>0.369301</td>\n    </tr>\n    <tr>\n      <th>2041</th>\n      <td>0.369564</td>\n    </tr>\n    <tr>\n      <th>2042</th>\n      <td>0.369881</td>\n    </tr>\n    <tr>\n      <th>2043</th>\n      <td>0.370234</td>\n    </tr>\n    <tr>\n      <th>2044</th>\n      <td>0.370601</td>\n    </tr>\n    <tr>\n      <th>2045</th>\n      <td>0.370898</td>\n    </tr>\n    <tr>\n      <th>2046</th>\n      <td>0.371038</td>\n    </tr>\n    <tr>\n      <th>2047</th>\n      <td>0.370989</td>\n    </tr>\n    <tr>\n      <th>2048</th>\n      <td>0.370833</td>\n    </tr>\n    <tr>\n      <th>2049</th>\n      <td>0.370752</td>\n    </tr>\n    <tr>\n      <th>2050</th>\n      <td>0.370833</td>\n    </tr>\n  </tbody>\n</table>\n</div>"
     },
     "execution_count": 184,
     "metadata": {},
     "output_type": "execute_result"
    }
   ],
   "source": [
    "pipe_new_off = pd.read_csv(\"/Users/jakob/PycharmProjects/H2_pathways_repo/data/processed/New_pipeline_costs_off.csv\", delimiter=';', index_col=0)\n",
    "pipe_new_off"
   ],
   "metadata": {
    "collapsed": false,
    "pycharm": {
     "name": "#%%\n"
    }
   }
  },
  {
   "cell_type": "code",
   "execution_count": 185,
   "outputs": [
    {
     "data": {
      "text/plain": "       LH2_transport_costs\nYears                     \n2025              2.042047\n2026              1.978136\n2027              1.916757\n2028              1.854634\n2029              1.792994\n2030              1.732121\n2031              1.670306\n2032              1.610795\n2033              1.554366\n2034              1.496669\n2035              1.435511\n2036              1.371231\n2037              1.309292\n2038              1.250340\n2039              1.195201\n2040              1.139369\n2041              1.112953\n2042              1.087794\n2043              1.063299\n2044              1.038813\n2045              1.012058\n2046              0.980813\n2047              0.944510\n2048              0.905517\n2049              0.868563\n2050              0.835595",
      "text/html": "<div>\n<style scoped>\n    .dataframe tbody tr th:only-of-type {\n        vertical-align: middle;\n    }\n\n    .dataframe tbody tr th {\n        vertical-align: top;\n    }\n\n    .dataframe thead th {\n        text-align: right;\n    }\n</style>\n<table border=\"1\" class=\"dataframe\">\n  <thead>\n    <tr style=\"text-align: right;\">\n      <th></th>\n      <th>LH2_transport_costs</th>\n    </tr>\n    <tr>\n      <th>Years</th>\n      <th></th>\n    </tr>\n  </thead>\n  <tbody>\n    <tr>\n      <th>2025</th>\n      <td>2.042047</td>\n    </tr>\n    <tr>\n      <th>2026</th>\n      <td>1.978136</td>\n    </tr>\n    <tr>\n      <th>2027</th>\n      <td>1.916757</td>\n    </tr>\n    <tr>\n      <th>2028</th>\n      <td>1.854634</td>\n    </tr>\n    <tr>\n      <th>2029</th>\n      <td>1.792994</td>\n    </tr>\n    <tr>\n      <th>2030</th>\n      <td>1.732121</td>\n    </tr>\n    <tr>\n      <th>2031</th>\n      <td>1.670306</td>\n    </tr>\n    <tr>\n      <th>2032</th>\n      <td>1.610795</td>\n    </tr>\n    <tr>\n      <th>2033</th>\n      <td>1.554366</td>\n    </tr>\n    <tr>\n      <th>2034</th>\n      <td>1.496669</td>\n    </tr>\n    <tr>\n      <th>2035</th>\n      <td>1.435511</td>\n    </tr>\n    <tr>\n      <th>2036</th>\n      <td>1.371231</td>\n    </tr>\n    <tr>\n      <th>2037</th>\n      <td>1.309292</td>\n    </tr>\n    <tr>\n      <th>2038</th>\n      <td>1.250340</td>\n    </tr>\n    <tr>\n      <th>2039</th>\n      <td>1.195201</td>\n    </tr>\n    <tr>\n      <th>2040</th>\n      <td>1.139369</td>\n    </tr>\n    <tr>\n      <th>2041</th>\n      <td>1.112953</td>\n    </tr>\n    <tr>\n      <th>2042</th>\n      <td>1.087794</td>\n    </tr>\n    <tr>\n      <th>2043</th>\n      <td>1.063299</td>\n    </tr>\n    <tr>\n      <th>2044</th>\n      <td>1.038813</td>\n    </tr>\n    <tr>\n      <th>2045</th>\n      <td>1.012058</td>\n    </tr>\n    <tr>\n      <th>2046</th>\n      <td>0.980813</td>\n    </tr>\n    <tr>\n      <th>2047</th>\n      <td>0.944510</td>\n    </tr>\n    <tr>\n      <th>2048</th>\n      <td>0.905517</td>\n    </tr>\n    <tr>\n      <th>2049</th>\n      <td>0.868563</td>\n    </tr>\n    <tr>\n      <th>2050</th>\n      <td>0.835595</td>\n    </tr>\n  </tbody>\n</table>\n</div>"
     },
     "execution_count": 185,
     "metadata": {},
     "output_type": "execute_result"
    }
   ],
   "source": [
    "LH2 = pd.read_csv(\"/Users/jakob/PycharmProjects/H2_pathways_repo/data/processed/Lh2_transport_costs.csv\", delimiter=';', index_col=0)\n",
    "LH2"
   ],
   "metadata": {
    "collapsed": false,
    "pycharm": {
     "name": "#%%\n"
    }
   }
  },
  {
   "cell_type": "code",
   "execution_count": 186,
   "outputs": [
    {
     "data": {
      "text/plain": "       LNH3_transport_costs\nYears                      \n2025               1.091696\n2026               1.060885\n2027               1.034499\n2028               1.006977\n2029               0.980375\n2030               0.955136\n2031               0.930958\n2032               0.910376\n2033               0.894393\n2034               0.876144\n2035               0.852476\n2036               0.824183\n2037               0.799335\n2038               0.778610\n2039               0.762835\n2040               0.745645\n2041               0.738727\n2042               0.733211\n2043               0.728271\n2044               0.723027\n2045               0.714614\n2046               0.700392\n2047               0.679892\n2048               0.656219\n2049               0.635097\n2050               0.618656",
      "text/html": "<div>\n<style scoped>\n    .dataframe tbody tr th:only-of-type {\n        vertical-align: middle;\n    }\n\n    .dataframe tbody tr th {\n        vertical-align: top;\n    }\n\n    .dataframe thead th {\n        text-align: right;\n    }\n</style>\n<table border=\"1\" class=\"dataframe\">\n  <thead>\n    <tr style=\"text-align: right;\">\n      <th></th>\n      <th>LNH3_transport_costs</th>\n    </tr>\n    <tr>\n      <th>Years</th>\n      <th></th>\n    </tr>\n  </thead>\n  <tbody>\n    <tr>\n      <th>2025</th>\n      <td>1.091696</td>\n    </tr>\n    <tr>\n      <th>2026</th>\n      <td>1.060885</td>\n    </tr>\n    <tr>\n      <th>2027</th>\n      <td>1.034499</td>\n    </tr>\n    <tr>\n      <th>2028</th>\n      <td>1.006977</td>\n    </tr>\n    <tr>\n      <th>2029</th>\n      <td>0.980375</td>\n    </tr>\n    <tr>\n      <th>2030</th>\n      <td>0.955136</td>\n    </tr>\n    <tr>\n      <th>2031</th>\n      <td>0.930958</td>\n    </tr>\n    <tr>\n      <th>2032</th>\n      <td>0.910376</td>\n    </tr>\n    <tr>\n      <th>2033</th>\n      <td>0.894393</td>\n    </tr>\n    <tr>\n      <th>2034</th>\n      <td>0.876144</td>\n    </tr>\n    <tr>\n      <th>2035</th>\n      <td>0.852476</td>\n    </tr>\n    <tr>\n      <th>2036</th>\n      <td>0.824183</td>\n    </tr>\n    <tr>\n      <th>2037</th>\n      <td>0.799335</td>\n    </tr>\n    <tr>\n      <th>2038</th>\n      <td>0.778610</td>\n    </tr>\n    <tr>\n      <th>2039</th>\n      <td>0.762835</td>\n    </tr>\n    <tr>\n      <th>2040</th>\n      <td>0.745645</td>\n    </tr>\n    <tr>\n      <th>2041</th>\n      <td>0.738727</td>\n    </tr>\n    <tr>\n      <th>2042</th>\n      <td>0.733211</td>\n    </tr>\n    <tr>\n      <th>2043</th>\n      <td>0.728271</td>\n    </tr>\n    <tr>\n      <th>2044</th>\n      <td>0.723027</td>\n    </tr>\n    <tr>\n      <th>2045</th>\n      <td>0.714614</td>\n    </tr>\n    <tr>\n      <th>2046</th>\n      <td>0.700392</td>\n    </tr>\n    <tr>\n      <th>2047</th>\n      <td>0.679892</td>\n    </tr>\n    <tr>\n      <th>2048</th>\n      <td>0.656219</td>\n    </tr>\n    <tr>\n      <th>2049</th>\n      <td>0.635097</td>\n    </tr>\n    <tr>\n      <th>2050</th>\n      <td>0.618656</td>\n    </tr>\n  </tbody>\n</table>\n</div>"
     },
     "execution_count": 186,
     "metadata": {},
     "output_type": "execute_result"
    }
   ],
   "source": [
    "NH3 = pd.read_csv(\"/Users/jakob/PycharmProjects/H2_pathways_repo/data/processed/LNH3_transport_costs.csv\", delimiter=';', index_col=0)\n",
    "NH3"
   ],
   "metadata": {
    "collapsed": false,
    "pycharm": {
     "name": "#%%\n"
    }
   }
  },
  {
   "cell_type": "markdown",
   "source": [
    "# Minimal transport costs"
   ],
   "metadata": {
    "collapsed": false,
    "pycharm": {
     "name": "#%% md\n"
    }
   }
  },
  {
   "cell_type": "code",
   "execution_count": 352,
   "outputs": [],
   "source": [
    "def choose_minimal_transport_costs():\n",
    "\n",
    "    if year < this_year + AV_pipe_new:\n",
    "        result = min(TC_LH2, TC_NH3)\n",
    "\n",
    "    elif year < this_year + AV_pipe_retro:\n",
    "        result = min(TC_pipe_new, TC_LH2, TC_NH3)\n",
    "    else:\n",
    "        result = min(TC_pipe_new, TC_pipe_retro, TC_LH2, TC_NH3)\n",
    "\n",
    "\n",
    "    return result"
   ],
   "metadata": {
    "collapsed": false,
    "pycharm": {
     "name": "#%%\n"
    }
   }
  },
  {
   "cell_type": "code",
   "execution_count": 353,
   "outputs": [],
   "source": [
    "def choose_minimal_transport_costs_tech():\n",
    "\n",
    "\n",
    "    if  year < this_year + AV_pipe_new:\n",
    "        if min(TC_LH2, TC_NH3) == TC_LH2:\n",
    "            result = 'LH2'\n",
    "        else: result = 'NH3'\n",
    "\n",
    "    elif year < this_year + AV_pipe_retro:\n",
    "        if min(TC_pipe_new, TC_LH2, TC_NH3) == TC_LH2:\n",
    "            result = 'LH2'\n",
    "        elif min(TC_pipe_new, TC_LH2, TC_NH3) == TC_NH3:\n",
    "            result = 'NH3'\n",
    "        else:\n",
    "            result = 'New pipeline'\n",
    "    else:\n",
    "        if min(TC_pipe_new, TC_pipe_retro, TC_LH2, TC_NH3) == TC_LH2:\n",
    "            result = 'LH2'\n",
    "        elif min(TC_pipe_new, TC_pipe_retro, TC_LH2, TC_NH3) == TC_NH3:\n",
    "            result = 'NH3'\n",
    "        elif (TC_pipe_new, TC_pipe_retro, TC_LH2, TC_NH3) == TC_pipe_new:\n",
    "            result = 'New pipeline'\n",
    "        else:\n",
    "            result = 'Retrofit pipeline'\n",
    "\n",
    "\n",
    "    return result"
   ],
   "metadata": {
    "collapsed": false,
    "pycharm": {
     "name": "#%%\n"
    }
   }
  },
  {
   "cell_type": "code",
   "execution_count": 354,
   "outputs": [],
   "source": [
    "years = np.arange(2025, 2051)\n",
    "result = pd.DataFrame(index=years, columns=['Minimal_offshore_transport_costs', 'Technology'])\n",
    "result.index.name = 'Years'"
   ],
   "metadata": {
    "collapsed": false,
    "pycharm": {
     "name": "#%%\n"
    }
   }
  },
  {
   "cell_type": "code",
   "execution_count": 355,
   "outputs": [
    {
     "data": {
      "text/plain": "      Minimal_offshore_transport_costs         Technology\nYears                                                    \n2025                          1.091696                NH3\n2026                          1.060885                NH3\n2027                          1.034499                NH3\n2028                          1.006977                NH3\n2029                          0.368347       New pipeline\n2030                           0.36827       New pipeline\n2031                          0.368285       New pipeline\n2032                          0.368372       New pipeline\n2033                          0.368556       New pipeline\n2034                          0.368704       New pipeline\n2035                          0.104048  Retrofit pipeline\n2036                          0.103991  Retrofit pipeline\n2037                          0.104009  Retrofit pipeline\n2038                          0.104126  Retrofit pipeline\n2039                          0.104373  Retrofit pipeline\n2040                          0.104603  Retrofit pipeline\n2041                          0.104866  Retrofit pipeline\n2042                          0.105183  Retrofit pipeline\n2043                          0.105536  Retrofit pipeline\n2044                          0.105903  Retrofit pipeline\n2045                            0.1062  Retrofit pipeline\n2046                           0.10634  Retrofit pipeline\n2047                          0.106291  Retrofit pipeline\n2048                          0.106134  Retrofit pipeline\n2049                          0.106054  Retrofit pipeline\n2050                          0.106134  Retrofit pipeline",
      "text/html": "<div>\n<style scoped>\n    .dataframe tbody tr th:only-of-type {\n        vertical-align: middle;\n    }\n\n    .dataframe tbody tr th {\n        vertical-align: top;\n    }\n\n    .dataframe thead th {\n        text-align: right;\n    }\n</style>\n<table border=\"1\" class=\"dataframe\">\n  <thead>\n    <tr style=\"text-align: right;\">\n      <th></th>\n      <th>Minimal_offshore_transport_costs</th>\n      <th>Technology</th>\n    </tr>\n    <tr>\n      <th>Years</th>\n      <th></th>\n      <th></th>\n    </tr>\n  </thead>\n  <tbody>\n    <tr>\n      <th>2025</th>\n      <td>1.091696</td>\n      <td>NH3</td>\n    </tr>\n    <tr>\n      <th>2026</th>\n      <td>1.060885</td>\n      <td>NH3</td>\n    </tr>\n    <tr>\n      <th>2027</th>\n      <td>1.034499</td>\n      <td>NH3</td>\n    </tr>\n    <tr>\n      <th>2028</th>\n      <td>1.006977</td>\n      <td>NH3</td>\n    </tr>\n    <tr>\n      <th>2029</th>\n      <td>0.368347</td>\n      <td>New pipeline</td>\n    </tr>\n    <tr>\n      <th>2030</th>\n      <td>0.36827</td>\n      <td>New pipeline</td>\n    </tr>\n    <tr>\n      <th>2031</th>\n      <td>0.368285</td>\n      <td>New pipeline</td>\n    </tr>\n    <tr>\n      <th>2032</th>\n      <td>0.368372</td>\n      <td>New pipeline</td>\n    </tr>\n    <tr>\n      <th>2033</th>\n      <td>0.368556</td>\n      <td>New pipeline</td>\n    </tr>\n    <tr>\n      <th>2034</th>\n      <td>0.368704</td>\n      <td>New pipeline</td>\n    </tr>\n    <tr>\n      <th>2035</th>\n      <td>0.104048</td>\n      <td>Retrofit pipeline</td>\n    </tr>\n    <tr>\n      <th>2036</th>\n      <td>0.103991</td>\n      <td>Retrofit pipeline</td>\n    </tr>\n    <tr>\n      <th>2037</th>\n      <td>0.104009</td>\n      <td>Retrofit pipeline</td>\n    </tr>\n    <tr>\n      <th>2038</th>\n      <td>0.104126</td>\n      <td>Retrofit pipeline</td>\n    </tr>\n    <tr>\n      <th>2039</th>\n      <td>0.104373</td>\n      <td>Retrofit pipeline</td>\n    </tr>\n    <tr>\n      <th>2040</th>\n      <td>0.104603</td>\n      <td>Retrofit pipeline</td>\n    </tr>\n    <tr>\n      <th>2041</th>\n      <td>0.104866</td>\n      <td>Retrofit pipeline</td>\n    </tr>\n    <tr>\n      <th>2042</th>\n      <td>0.105183</td>\n      <td>Retrofit pipeline</td>\n    </tr>\n    <tr>\n      <th>2043</th>\n      <td>0.105536</td>\n      <td>Retrofit pipeline</td>\n    </tr>\n    <tr>\n      <th>2044</th>\n      <td>0.105903</td>\n      <td>Retrofit pipeline</td>\n    </tr>\n    <tr>\n      <th>2045</th>\n      <td>0.1062</td>\n      <td>Retrofit pipeline</td>\n    </tr>\n    <tr>\n      <th>2046</th>\n      <td>0.10634</td>\n      <td>Retrofit pipeline</td>\n    </tr>\n    <tr>\n      <th>2047</th>\n      <td>0.106291</td>\n      <td>Retrofit pipeline</td>\n    </tr>\n    <tr>\n      <th>2048</th>\n      <td>0.106134</td>\n      <td>Retrofit pipeline</td>\n    </tr>\n    <tr>\n      <th>2049</th>\n      <td>0.106054</td>\n      <td>Retrofit pipeline</td>\n    </tr>\n    <tr>\n      <th>2050</th>\n      <td>0.106134</td>\n      <td>Retrofit pipeline</td>\n    </tr>\n  </tbody>\n</table>\n</div>"
     },
     "execution_count": 355,
     "metadata": {},
     "output_type": "execute_result"
    }
   ],
   "source": [
    "for year in years:\n",
    "\n",
    "    # get all costs\n",
    "    TC_pipe_new = float(pipe_new_off.loc[year]['New_Pipeline_costs_off'])\n",
    "\n",
    "    TC_pipe_retro = float(pipe_retro_off.loc[year]['Retrofit_pipeline_costs_off'])\n",
    "\n",
    "    TC_LH2 = float(LH2.loc[year]['LH2_transport_costs'])\n",
    "\n",
    "    TC_NH3 = float(NH3.loc[year]['LNH3_transport_costs'])\n",
    "\n",
    "    result.Minimal_offshore_transport_costs.loc[year] = choose_minimal_transport_costs()\n",
    "    result.Technology.loc[year] = choose_minimal_transport_costs_tech()\n",
    "\n",
    "result"
   ],
   "metadata": {
    "collapsed": false,
    "pycharm": {
     "name": "#%%\n"
    }
   }
  },
  {
   "cell_type": "code",
   "execution_count": 356,
   "outputs": [],
   "source": [
    "years = np.arange(2025, 2051)\n",
    "result = pd.DataFrame(index=years, columns=['Minimal_offshore_transport_costs'])\n",
    "result.index.name = 'Years'"
   ],
   "metadata": {
    "collapsed": false,
    "pycharm": {
     "name": "#%%\n"
    }
   }
  },
  {
   "cell_type": "code",
   "execution_count": 357,
   "outputs": [
    {
     "data": {
      "text/plain": "      Minimal_offshore_transport_costs\nYears                                 \n2025                          1.091696\n2026                          1.060885\n2027                          1.034499\n2028                          1.006977\n2029                          0.368347\n2030                           0.36827\n2031                          0.368285\n2032                          0.368372\n2033                          0.368556\n2034                          0.368704\n2035                          0.104048\n2036                          0.103991\n2037                          0.104009\n2038                          0.104126\n2039                          0.104373\n2040                          0.104603\n2041                          0.104866\n2042                          0.105183\n2043                          0.105536\n2044                          0.105903\n2045                            0.1062\n2046                           0.10634\n2047                          0.106291\n2048                          0.106134\n2049                          0.106054\n2050                          0.106134",
      "text/html": "<div>\n<style scoped>\n    .dataframe tbody tr th:only-of-type {\n        vertical-align: middle;\n    }\n\n    .dataframe tbody tr th {\n        vertical-align: top;\n    }\n\n    .dataframe thead th {\n        text-align: right;\n    }\n</style>\n<table border=\"1\" class=\"dataframe\">\n  <thead>\n    <tr style=\"text-align: right;\">\n      <th></th>\n      <th>Minimal_offshore_transport_costs</th>\n    </tr>\n    <tr>\n      <th>Years</th>\n      <th></th>\n    </tr>\n  </thead>\n  <tbody>\n    <tr>\n      <th>2025</th>\n      <td>1.091696</td>\n    </tr>\n    <tr>\n      <th>2026</th>\n      <td>1.060885</td>\n    </tr>\n    <tr>\n      <th>2027</th>\n      <td>1.034499</td>\n    </tr>\n    <tr>\n      <th>2028</th>\n      <td>1.006977</td>\n    </tr>\n    <tr>\n      <th>2029</th>\n      <td>0.368347</td>\n    </tr>\n    <tr>\n      <th>2030</th>\n      <td>0.36827</td>\n    </tr>\n    <tr>\n      <th>2031</th>\n      <td>0.368285</td>\n    </tr>\n    <tr>\n      <th>2032</th>\n      <td>0.368372</td>\n    </tr>\n    <tr>\n      <th>2033</th>\n      <td>0.368556</td>\n    </tr>\n    <tr>\n      <th>2034</th>\n      <td>0.368704</td>\n    </tr>\n    <tr>\n      <th>2035</th>\n      <td>0.104048</td>\n    </tr>\n    <tr>\n      <th>2036</th>\n      <td>0.103991</td>\n    </tr>\n    <tr>\n      <th>2037</th>\n      <td>0.104009</td>\n    </tr>\n    <tr>\n      <th>2038</th>\n      <td>0.104126</td>\n    </tr>\n    <tr>\n      <th>2039</th>\n      <td>0.104373</td>\n    </tr>\n    <tr>\n      <th>2040</th>\n      <td>0.104603</td>\n    </tr>\n    <tr>\n      <th>2041</th>\n      <td>0.104866</td>\n    </tr>\n    <tr>\n      <th>2042</th>\n      <td>0.105183</td>\n    </tr>\n    <tr>\n      <th>2043</th>\n      <td>0.105536</td>\n    </tr>\n    <tr>\n      <th>2044</th>\n      <td>0.105903</td>\n    </tr>\n    <tr>\n      <th>2045</th>\n      <td>0.1062</td>\n    </tr>\n    <tr>\n      <th>2046</th>\n      <td>0.10634</td>\n    </tr>\n    <tr>\n      <th>2047</th>\n      <td>0.106291</td>\n    </tr>\n    <tr>\n      <th>2048</th>\n      <td>0.106134</td>\n    </tr>\n    <tr>\n      <th>2049</th>\n      <td>0.106054</td>\n    </tr>\n    <tr>\n      <th>2050</th>\n      <td>0.106134</td>\n    </tr>\n  </tbody>\n</table>\n</div>"
     },
     "execution_count": 357,
     "metadata": {},
     "output_type": "execute_result"
    }
   ],
   "source": [
    "for year in years:\n",
    "\n",
    "    # get all costs\n",
    "    TC_pipe_new = float(pipe_new_off.loc[year]['New_Pipeline_costs_off'])\n",
    "\n",
    "    TC_pipe_retro = float(pipe_retro_off.loc[year]['Retrofit_pipeline_costs_off'])\n",
    "\n",
    "    TC_LH2 = float(LH2.loc[year]['LH2_transport_costs'])\n",
    "\n",
    "    TC_NH3 = float(NH3.loc[year]['LNH3_transport_costs'])\n",
    "\n",
    "    result.Minimal_offshore_transport_costs.loc[year] = choose_minimal_transport_costs()\n",
    "\n",
    "result"
   ],
   "metadata": {
    "collapsed": false,
    "pycharm": {
     "name": "#%%\n"
    }
   }
  },
  {
   "cell_type": "code",
   "execution_count": 358,
   "outputs": [],
   "source": [
    "# Create csv file from results dataframe\n",
    "path = r'/Users/jakob/PycharmProjects/H2_pathways_repo/data/processed'\n",
    "output_file = os.path.join(path, 'Minimal_offshore_transport_costs.csv')\n",
    "result.to_csv(output_file, sep=';')"
   ],
   "metadata": {
    "collapsed": false,
    "pycharm": {
     "name": "#%%\n"
    }
   }
  },
  {
   "cell_type": "markdown",
   "source": [
    "## Plot transport costs"
   ],
   "metadata": {
    "collapsed": false,
    "pycharm": {
     "name": "#%% md\n"
    }
   }
  },
  {
   "cell_type": "code",
   "execution_count": 361,
   "outputs": [
    {
     "data": {
      "text/plain": "<Figure size 720x432 with 1 Axes>",
      "image/png": "[encoded data removed]"
     },
     "metadata": {
      "needs_background": "light"
     },
     "output_type": "display_data"
    }
   ],
   "source": [
    "# Plot cost curve for seaborne transport\n",
    "fig, ax = plt.subplots(figsize=(10,6))\n",
    "plt.grid(True, axis = 'y')\n",
    "ax.set_axisbelow(True)\n",
    "plt.plot(result, color='cyan', linestyle='dashed')\n",
    "plt.title('Cost curve for transport')\n",
    "plt.legend(['Minimal transport costs in €/kg_H2'])\n",
    "plt.xlabel('Year')\n",
    "plt.ylabel('Cost')\n",
    "plt.show()"
   ],
   "metadata": {
    "collapsed": false,
    "pycharm": {
     "name": "#%%\n"
    }
   }
  },
  {
   "cell_type": "code",
   "execution_count": 347,
   "outputs": [
    {
     "data": {
      "text/plain": "<Figure size 720x432 with 1 Axes>",
      "image/png": "[encoded data removed]"
     },
     "metadata": {
      "needs_background": "light"
     },
     "output_type": "display_data"
    }
   ],
   "source": [
    "# Plot cost curves of hydrogen transport\n",
    "fig, ax = plt.subplots(figsize=(10, 6))\n",
    "plt.plot(LH2, color='blue', linestyle='solid', label='LH2')\n",
    "plt.plot(NH3, color='yellow', linestyle='solid', label='NH3')\n",
    "plt.plot(pipe_new_off, color='violet', linestyle='solid', label='New pipeline')\n",
    "plt.plot(pipe_retro_off, color='pink', linestyle='solid', label='Retrofit pipeline')\n",
    "\n",
    "plt.axvline(x=this_year + AV_pipe_new, color='violet', linestyle = '--', label= 'New pipeline available')\n",
    "plt.axvline(x=this_year + AV_pipe_retro, color='pink', linestyle = '--', label= 'Retrofit pipeline available')\n",
    "\n",
    "\n",
    "plt.grid(True, axis='y')\n",
    "ax.set_axisbelow(True)\n",
    "plt.title('Hydrogen transport costs over time', fontweight='bold')\n",
    "ax.legend()\n",
    "plt.xlabel('Year')\n",
    "#plt.ylim(0)\n",
    "plt.ylabel('Cost [€/kg H2]')\n",
    "plt.show()"
   ],
   "metadata": {
    "collapsed": false,
    "pycharm": {
     "name": "#%%\n"
    }
   }
  },
  {
   "cell_type": "code",
   "execution_count": 347,
   "outputs": [],
   "source": [],
   "metadata": {
    "collapsed": false,
    "pycharm": {
     "name": "#%%\n"
    }
   }
  },
  {
   "cell_type": "markdown",
   "source": [
    "# Minimal supply costs\n"
   ],
   "metadata": {
    "collapsed": false,
    "pycharm": {
     "name": "#%% md\n"
    }
   }
  },
  {
   "cell_type": "code",
   "execution_count": 348,
   "outputs": [
    {
     "data": {
      "text/plain": "      Minimal_production_costs\nYears                         \n2025         2.491992405919429\n2026         2.373446744054794\n2027         2.155720174849315\n2028         1.821651889643836\n2029         1.831195888438356\n2030        1.8393866712328768\n2031         1.856516763082192\n2032        1.8722226483390407\n2033         1.886501533333048\n2034        1.8993507640773544\n2035        1.9107678192844453\n2036        1.9207503037311824\n2037         1.929295941955582\n2038         1.908207820227787\n2039        1.8711123070760973\n2040        1.8340759218350555\n2041        1.8017823291700557\n2042        1.7708218947763135\n2043        1.7405667032909504\n2044        1.7142073374615918\n2045        1.6595645117814273\n2046        1.6274200600322135\n2047        1.5963384480077916\n2048        1.5662248230526845\n2049        1.5369963695761604\n2050        1.5085803374409712",
      "text/html": "<div>\n<style scoped>\n    .dataframe tbody tr th:only-of-type {\n        vertical-align: middle;\n    }\n\n    .dataframe tbody tr th {\n        vertical-align: top;\n    }\n\n    .dataframe thead th {\n        text-align: right;\n    }\n</style>\n<table border=\"1\" class=\"dataframe\">\n  <thead>\n    <tr style=\"text-align: right;\">\n      <th></th>\n      <th>Minimal_production_costs</th>\n    </tr>\n    <tr>\n      <th>Years</th>\n      <th></th>\n    </tr>\n  </thead>\n  <tbody>\n    <tr>\n      <th>2025</th>\n      <td>2.491992405919429</td>\n    </tr>\n    <tr>\n      <th>2026</th>\n      <td>2.373446744054794</td>\n    </tr>\n    <tr>\n      <th>2027</th>\n      <td>2.155720174849315</td>\n    </tr>\n    <tr>\n      <th>2028</th>\n      <td>1.821651889643836</td>\n    </tr>\n    <tr>\n      <th>2029</th>\n      <td>1.831195888438356</td>\n    </tr>\n    <tr>\n      <th>2030</th>\n      <td>1.8393866712328768</td>\n    </tr>\n    <tr>\n      <th>2031</th>\n      <td>1.856516763082192</td>\n    </tr>\n    <tr>\n      <th>2032</th>\n      <td>1.8722226483390407</td>\n    </tr>\n    <tr>\n      <th>2033</th>\n      <td>1.886501533333048</td>\n    </tr>\n    <tr>\n      <th>2034</th>\n      <td>1.8993507640773544</td>\n    </tr>\n    <tr>\n      <th>2035</th>\n      <td>1.9107678192844453</td>\n    </tr>\n    <tr>\n      <th>2036</th>\n      <td>1.9207503037311824</td>\n    </tr>\n    <tr>\n      <th>2037</th>\n      <td>1.929295941955582</td>\n    </tr>\n    <tr>\n      <th>2038</th>\n      <td>1.908207820227787</td>\n    </tr>\n    <tr>\n      <th>2039</th>\n      <td>1.8711123070760973</td>\n    </tr>\n    <tr>\n      <th>2040</th>\n      <td>1.8340759218350555</td>\n    </tr>\n    <tr>\n      <th>2041</th>\n      <td>1.8017823291700557</td>\n    </tr>\n    <tr>\n      <th>2042</th>\n      <td>1.7708218947763135</td>\n    </tr>\n    <tr>\n      <th>2043</th>\n      <td>1.7405667032909504</td>\n    </tr>\n    <tr>\n      <th>2044</th>\n      <td>1.7142073374615918</td>\n    </tr>\n    <tr>\n      <th>2045</th>\n      <td>1.6595645117814273</td>\n    </tr>\n    <tr>\n      <th>2046</th>\n      <td>1.6274200600322135</td>\n    </tr>\n    <tr>\n      <th>2047</th>\n      <td>1.5963384480077916</td>\n    </tr>\n    <tr>\n      <th>2048</th>\n      <td>1.5662248230526845</td>\n    </tr>\n    <tr>\n      <th>2049</th>\n      <td>1.5369963695761604</td>\n    </tr>\n    <tr>\n      <th>2050</th>\n      <td>1.5085803374409712</td>\n    </tr>\n  </tbody>\n</table>\n</div>"
     },
     "execution_count": 348,
     "metadata": {},
     "output_type": "execute_result"
    }
   ],
   "source": [
    "mpc = pd.read_csv(\"/Users/jakob/PycharmProjects/H2_pathways_repo/data/processed/Minimal_production_costs.csv\", delimiter=';',\n",
    "    decimal=',', index_col=0)\n",
    "mpc"
   ],
   "metadata": {
    "collapsed": false,
    "pycharm": {
     "name": "#%%\n"
    }
   }
  },
  {
   "cell_type": "code",
   "execution_count": 349,
   "outputs": [
    {
     "data": {
      "text/plain": "      Minimal_offshore_transport_costs\nYears                                 \n2025                1.0916957126866993\n2026                 1.060885313425557\n2027                1.0344994961142029\n2028                 1.006976646130869\n2029                0.3683469621278081\n2030                0.3682699658162563\n2031                0.3682851966511306\n2032                0.3683715433747028\n2033                0.3685556073807496\n2034                0.3687041886279097\n2035                0.1040481821249607\n2036                 0.103991214171439\n2037                0.1040091562572211\n2038                0.1041260304053005\n2039                0.1043730001791043\n2040                0.1046029199797414\n2041                0.1048661376840469\n2042                0.1051831529564142\n2043                0.1055359315586035\n2044                0.1059027002111966\n2045                0.1061999933939062\n2046                0.1063398321828806\n2047                0.1062908305264059\n2048                0.1061344378509161\n2049                0.1060536790669115\n2050                 0.106134400421631",
      "text/html": "<div>\n<style scoped>\n    .dataframe tbody tr th:only-of-type {\n        vertical-align: middle;\n    }\n\n    .dataframe tbody tr th {\n        vertical-align: top;\n    }\n\n    .dataframe thead th {\n        text-align: right;\n    }\n</style>\n<table border=\"1\" class=\"dataframe\">\n  <thead>\n    <tr style=\"text-align: right;\">\n      <th></th>\n      <th>Minimal_offshore_transport_costs</th>\n    </tr>\n    <tr>\n      <th>Years</th>\n      <th></th>\n    </tr>\n  </thead>\n  <tbody>\n    <tr>\n      <th>2025</th>\n      <td>1.0916957126866993</td>\n    </tr>\n    <tr>\n      <th>2026</th>\n      <td>1.060885313425557</td>\n    </tr>\n    <tr>\n      <th>2027</th>\n      <td>1.0344994961142029</td>\n    </tr>\n    <tr>\n      <th>2028</th>\n      <td>1.006976646130869</td>\n    </tr>\n    <tr>\n      <th>2029</th>\n      <td>0.3683469621278081</td>\n    </tr>\n    <tr>\n      <th>2030</th>\n      <td>0.3682699658162563</td>\n    </tr>\n    <tr>\n      <th>2031</th>\n      <td>0.3682851966511306</td>\n    </tr>\n    <tr>\n      <th>2032</th>\n      <td>0.3683715433747028</td>\n    </tr>\n    <tr>\n      <th>2033</th>\n      <td>0.3685556073807496</td>\n    </tr>\n    <tr>\n      <th>2034</th>\n      <td>0.3687041886279097</td>\n    </tr>\n    <tr>\n      <th>2035</th>\n      <td>0.1040481821249607</td>\n    </tr>\n    <tr>\n      <th>2036</th>\n      <td>0.103991214171439</td>\n    </tr>\n    <tr>\n      <th>2037</th>\n      <td>0.1040091562572211</td>\n    </tr>\n    <tr>\n      <th>2038</th>\n      <td>0.1041260304053005</td>\n    </tr>\n    <tr>\n      <th>2039</th>\n      <td>0.1043730001791043</td>\n    </tr>\n    <tr>\n      <th>2040</th>\n      <td>0.1046029199797414</td>\n    </tr>\n    <tr>\n      <th>2041</th>\n      <td>0.1048661376840469</td>\n    </tr>\n    <tr>\n      <th>2042</th>\n      <td>0.1051831529564142</td>\n    </tr>\n    <tr>\n      <th>2043</th>\n      <td>0.1055359315586035</td>\n    </tr>\n    <tr>\n      <th>2044</th>\n      <td>0.1059027002111966</td>\n    </tr>\n    <tr>\n      <th>2045</th>\n      <td>0.1061999933939062</td>\n    </tr>\n    <tr>\n      <th>2046</th>\n      <td>0.1063398321828806</td>\n    </tr>\n    <tr>\n      <th>2047</th>\n      <td>0.1062908305264059</td>\n    </tr>\n    <tr>\n      <th>2048</th>\n      <td>0.1061344378509161</td>\n    </tr>\n    <tr>\n      <th>2049</th>\n      <td>0.1060536790669115</td>\n    </tr>\n    <tr>\n      <th>2050</th>\n      <td>0.106134400421631</td>\n    </tr>\n  </tbody>\n</table>\n</div>"
     },
     "execution_count": 349,
     "metadata": {},
     "output_type": "execute_result"
    }
   ],
   "source": [
    "mtc = pd.read_csv(\"/Users/jakob/PycharmProjects/H2_pathways_repo/data/processed/Minimal_offshore_transport_costs.csv\", delimiter=';',\n",
    "    decimal=',', index_col=0)\n",
    "mtc"
   ],
   "metadata": {
    "collapsed": false,
    "pycharm": {
     "name": "#%%\n"
    }
   }
  },
  {
   "cell_type": "code",
   "execution_count": 362,
   "outputs": [],
   "source": [
    "def calculate_total_supply_costs():\n",
    "    result = PC + TC\n",
    "\n",
    "    return result"
   ],
   "metadata": {
    "collapsed": false,
    "pycharm": {
     "name": "#%%\n"
    }
   }
  },
  {
   "cell_type": "code",
   "execution_count": 363,
   "outputs": [
    {
     "data": {
      "text/plain": "      Total_supply_costs\nYears                   \n2025            3.583688\n2026            3.434332\n2027             3.19022\n2028            2.828629\n2029            2.199543\n2030            2.207657\n2031            2.224802\n2032            2.240594\n2033            2.255057\n2034            2.268055\n2035            2.014816\n2036            2.024742\n2037            2.033305\n2038            2.012334\n2039            1.975485\n2040            1.938679\n2041            1.906648\n2042            1.876005\n2043            1.846103\n2044             1.82011\n2045            1.765765\n2046             1.73376\n2047            1.702629\n2048            1.672359\n2049             1.64305\n2050            1.614715",
      "text/html": "<div>\n<style scoped>\n    .dataframe tbody tr th:only-of-type {\n        vertical-align: middle;\n    }\n\n    .dataframe tbody tr th {\n        vertical-align: top;\n    }\n\n    .dataframe thead th {\n        text-align: right;\n    }\n</style>\n<table border=\"1\" class=\"dataframe\">\n  <thead>\n    <tr style=\"text-align: right;\">\n      <th></th>\n      <th>Total_supply_costs</th>\n    </tr>\n    <tr>\n      <th>Years</th>\n      <th></th>\n    </tr>\n  </thead>\n  <tbody>\n    <tr>\n      <th>2025</th>\n      <td>3.583688</td>\n    </tr>\n    <tr>\n      <th>2026</th>\n      <td>3.434332</td>\n    </tr>\n    <tr>\n      <th>2027</th>\n      <td>3.19022</td>\n    </tr>\n    <tr>\n      <th>2028</th>\n      <td>2.828629</td>\n    </tr>\n    <tr>\n      <th>2029</th>\n      <td>2.199543</td>\n    </tr>\n    <tr>\n      <th>2030</th>\n      <td>2.207657</td>\n    </tr>\n    <tr>\n      <th>2031</th>\n      <td>2.224802</td>\n    </tr>\n    <tr>\n      <th>2032</th>\n      <td>2.240594</td>\n    </tr>\n    <tr>\n      <th>2033</th>\n      <td>2.255057</td>\n    </tr>\n    <tr>\n      <th>2034</th>\n      <td>2.268055</td>\n    </tr>\n    <tr>\n      <th>2035</th>\n      <td>2.014816</td>\n    </tr>\n    <tr>\n      <th>2036</th>\n      <td>2.024742</td>\n    </tr>\n    <tr>\n      <th>2037</th>\n      <td>2.033305</td>\n    </tr>\n    <tr>\n      <th>2038</th>\n      <td>2.012334</td>\n    </tr>\n    <tr>\n      <th>2039</th>\n      <td>1.975485</td>\n    </tr>\n    <tr>\n      <th>2040</th>\n      <td>1.938679</td>\n    </tr>\n    <tr>\n      <th>2041</th>\n      <td>1.906648</td>\n    </tr>\n    <tr>\n      <th>2042</th>\n      <td>1.876005</td>\n    </tr>\n    <tr>\n      <th>2043</th>\n      <td>1.846103</td>\n    </tr>\n    <tr>\n      <th>2044</th>\n      <td>1.82011</td>\n    </tr>\n    <tr>\n      <th>2045</th>\n      <td>1.765765</td>\n    </tr>\n    <tr>\n      <th>2046</th>\n      <td>1.73376</td>\n    </tr>\n    <tr>\n      <th>2047</th>\n      <td>1.702629</td>\n    </tr>\n    <tr>\n      <th>2048</th>\n      <td>1.672359</td>\n    </tr>\n    <tr>\n      <th>2049</th>\n      <td>1.64305</td>\n    </tr>\n    <tr>\n      <th>2050</th>\n      <td>1.614715</td>\n    </tr>\n  </tbody>\n</table>\n</div>"
     },
     "execution_count": 363,
     "metadata": {},
     "output_type": "execute_result"
    }
   ],
   "source": [
    "years = np.arange(2025, 2051)\n",
    "result = pd.DataFrame(index=years, columns=['Total_supply_costs'])\n",
    "result.index.name = 'Years'\n",
    "\n",
    "for year in years:\n",
    "    # get all costs\n",
    "\n",
    "    PC = float(mpc.loc[year]['Minimal_production_costs'])\n",
    "    TC = float(mtc.loc[year]['Minimal_offshore_transport_costs'])\n",
    "\n",
    "\n",
    "    # calculate costs of specific year\n",
    "    result.Total_supply_costs.loc[year] = calculate_total_supply_costs()\n",
    "\n",
    "result"
   ],
   "metadata": {
    "collapsed": false,
    "pycharm": {
     "name": "#%%\n"
    }
   }
  },
  {
   "cell_type": "code",
   "execution_count": 364,
   "outputs": [],
   "source": [
    "# Create csv file from results dataframe\n",
    "path = r'/Users/jakob/PycharmProjects/H2_pathways_repo/data/processed'\n",
    "output_file = os.path.join(path, 'Minimal_supply_costs.csv')\n",
    "result.to_csv(output_file, sep=';')\n"
   ],
   "metadata": {
    "collapsed": false,
    "pycharm": {
     "name": "#%%\n"
    }
   }
  },
  {
   "cell_type": "code",
   "execution_count": 365,
   "outputs": [
    {
     "data": {
      "text/plain": "<Figure size 720x432 with 1 Axes>",
      "image/png": "[encoded data removed]"
     },
     "metadata": {
      "needs_background": "light"
     },
     "output_type": "display_data"
    }
   ],
   "source": [
    "# Plot cost curve for total supply costs\n",
    "fig, ax = plt.subplots(figsize=(10, 6))\n",
    "plt.grid(True, axis='y')\n",
    "ax.set_axisbelow(True)\n",
    "plt.plot(result, color='cyan', linestyle='dashed')\n",
    "plt.title('Supply costs costs in €/kg_H2')\n",
    "plt.xlabel('Year')\n",
    "plt.ylabel('Cost')\n",
    "plt.show()\n"
   ],
   "metadata": {
    "collapsed": false,
    "pycharm": {
     "name": "#%%\n"
    }
   }
  },
  {
   "cell_type": "code",
   "execution_count": 366,
   "outputs": [
    {
     "data": {
      "text/plain": "<Figure size 720x432 with 1 Axes>",
      "image/png": "[encoded data removed]"
     },
     "metadata": {
      "needs_background": "light"
     },
     "output_type": "display_data"
    }
   ],
   "source": [
    "# Cost breakdown for H2 supply\n",
    "fig, ax = plt.subplots(figsize=(10,6))\n",
    "plt.grid(True, axis = 'y')\n",
    "ax.set_axisbelow(True)\n",
    "x = np.arange(2025, 2051, step=5)\n",
    "\n",
    "PC = (mpc.loc[::5]['Minimal_production_costs']).apply(pd.to_numeric)\n",
    "TC = mtc.loc[::5]['Minimal_offshore_transport_costs'].apply(pd.to_numeric)\n",
    "width = 2       # the width of the bars: can also be len(x) sequence\n",
    "\n",
    "\n",
    "TC_plt = plt.bar(x,TC, width, label='Transport', bottom= PC)\n",
    "PC_plt = plt.bar(x,PC, width, label='Production')\n",
    "\n",
    "plt.title('Lowest H2 supply costs from Norway to Germany', fontweight='bold')\n",
    "plt.legend(loc='upper right')\n",
    "plt.ylabel('Cost [€/kg H2]')\n",
    "plt.xlabel('Years')\n",
    "plt.show()\n"
   ],
   "metadata": {
    "collapsed": false,
    "pycharm": {
     "name": "#%%\n"
    }
   }
  }
 ],
 "metadata": {
  "kernelspec": {
   "display_name": "Python 3",
   "language": "python",
   "name": "python3"
  },
  "language_info": {
   "codemirror_mode": {
    "name": "ipython",
    "version": 2
   },
   "file_extension": ".py",
   "mimetype": "text/x-python",
   "name": "python",
   "nbconvert_exporter": "python",
   "pygments_lexer": "ipython2",
   "version": "2.7.6"
  }
 },
 "nbformat": 4,
 "nbformat_minor": 0
}