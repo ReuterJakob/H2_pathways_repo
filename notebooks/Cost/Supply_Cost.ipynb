{
 "cells": [
  {
   "cell_type": "markdown",
   "source": [],
   "metadata": {
    "collapsed": false,
    "pycharm": {
     "name": "#%% md\n"
    }
   }
  },
  {
   "cell_type": "code",
   "execution_count": 2,
   "outputs": [],
   "source": [
    "# Read techno-economic assumptions and transport distances for transport cost calculation\n",
    "import numpy as np\n",
    "import pandas as pd\n",
    "from matplotlib import pyplot as plt\n",
    "import os\n",
    "from openpyxl import load_workbook"
   ],
   "metadata": {
    "collapsed": false,
    "pycharm": {
     "name": "#%%\n"
    }
   }
  },
  {
   "cell_type": "code",
   "execution_count": 3,
   "outputs": [],
   "source": [
    "path = r'\\\\dena.de\\Daten\\Home\\Reuter\\Desktop\\H2_pathways_repo\\data\\raw\\H2_supply_route_assessment.xlsx'\n",
    "path_csv = r'\\\\dena.de\\Daten\\Home\\Reuter\\Desktop\\H2_pathways_repo\\data\\processed'\n",
    "path_plt = r'\\\\dena.de\\Daten\\Home\\Reuter\\Desktop\\H2_pathways_repo\\Plots'"
   ],
   "metadata": {
    "collapsed": false,
    "pycharm": {
     "name": "#%%\n"
    }
   }
  },
  {
   "cell_type": "code",
   "execution_count": 4,
   "outputs": [],
   "source": [
    "# adjust plotsize and font\n",
    "params = { 'font.size':11,\n",
    "'font.weight':'normal',\n",
    "'font.family':'arial',\n",
    "'lines.linewidth':2\n",
    "    }\n",
    "plt.rcParams.update(params)"
   ],
   "metadata": {
    "collapsed": false,
    "pycharm": {
     "name": "#%%\n"
    }
   }
  },
  {
   "cell_type": "markdown",
   "source": [],
   "metadata": {
    "collapsed": false,
    "pycharm": {
     "name": "#%% md\n"
    }
   }
  },
  {
   "cell_type": "markdown",
   "source": [
    "## Production inputs"
   ],
   "metadata": {
    "collapsed": false,
    "pycharm": {
     "name": "#%% md\n"
    }
   }
  },
  {
   "cell_type": "code",
   "execution_count": 5,
   "outputs": [
    {
     "data": {
      "text/plain": "                                                                                    Reference  \\\nElectricity prices in Germany [€_2020/MWh]                                                NaN   \nElectricity prices in Norway [€_2018/MWh]                                         DNV Gl 2018   \nElectricity prices in Norway [€_2021/MWh]                                            LMA 2021   \nEU ETS [€_2020/t_CO2]                                                                     NaN   \nCO2 prices global [USD_2021/t CO2]                                               IEA WOE 2022   \nGas prices in Germany [€_2020/MWh]                                                        NaN   \nGas prices in Canada [€_2020/MWh]           https://www2.deloitte.com/content/dam/Deloitte...   \nGas prices EU USD_2021/MWh                                                       IEA WOE 2022   \n\n                                                 2020       2021        2022  \\\nElectricity prices in Germany [€_2020/MWh]        NaN        NaN  512.000000   \nElectricity prices in Norway [€_2018/MWh]   46.683533  47.002654   47.209289   \nElectricity prices in Norway [€_2021/MWh]   31.000000  31.800000   32.600000   \nEU ETS [€_2020/t_CO2]                       25.000000        NaN   80.000000   \nCO2 prices global [USD_2021/t CO2]                NaN        NaN         NaN   \nGas prices in Germany [€_2020/MWh]          13.000000  12.000000  150.000000   \nGas prices in Canada [€_2020/MWh]                 NaN        NaN         NaN   \nGas prices EU USD_2021/MWh                        NaN        NaN         NaN   \n\n                                                  2023        2024  \\\nElectricity prices in Germany [€_2020/MWh]  104.000000         NaN   \nElectricity prices in Norway [€_2018/MWh]    47.346703   47.274782   \nElectricity prices in Norway [€_2021/MWh]    33.400000   34.200000   \nEU ETS [€_2020/t_CO2]                              NaN         NaN   \nCO2 prices global [USD_2021/t CO2]                 NaN         NaN   \nGas prices in Germany [€_2020/MWh]          300.000000  150.000000   \nGas prices in Canada [€_2020/MWh]                  NaN         NaN   \nGas prices EU USD_2021/MWh                         NaN         NaN   \n\n                                                  2025        2026       2027  \\\nElectricity prices in Germany [€_2020/MWh]  150.000000  133.200000  116.40000   \nElectricity prices in Norway [€_2018/MWh]    46.957092   46.416301   46.11822   \nElectricity prices in Norway [€_2021/MWh]    35.000000   39.400000   43.80000   \nEU ETS [€_2020/t_CO2]                        88.000000   94.400000  100.80000   \nCO2 prices global [USD_2021/t CO2]                 NaN         NaN        NaN   \nGas prices in Germany [€_2020/MWh]           70.000000   60.000000   50.00000   \nGas prices in Canada [€_2020/MWh]                  NaN         NaN        NaN   \nGas prices EU USD_2021/MWh                         NaN         NaN        NaN   \n\n                                                  2028  ...       2041  \\\nElectricity prices in Germany [€_2020/MWh]   99.600000  ...   56.30000   \nElectricity prices in Norway [€_2018/MWh]    45.738344  ...   49.60933   \nElectricity prices in Norway [€_2021/MWh]    48.200000  ...   56.80000   \nEU ETS [€_2020/t_CO2]                       107.200000  ...  194.20000   \nCO2 prices global [USD_2021/t CO2]                 NaN  ...        NaN   \nGas prices in Germany [€_2020/MWh]           35.000000  ...   35.00000   \nGas prices in Canada [€_2020/MWh]                  NaN  ...        NaN   \nGas prices EU USD_2021/MWh                         NaN  ...        NaN   \n\n                                                 2042        2043       2044  \\\nElectricity prices in Germany [€_2020/MWh]   55.60000   54.900000   54.20000   \nElectricity prices in Norway [€_2018/MWh]    50.70543   51.925184   53.19331   \nElectricity prices in Norway [€_2021/MWh]    54.60000   52.400000   50.20000   \nEU ETS [€_2020/t_CO2]                       198.40000  202.600000  206.80000   \nCO2 prices global [USD_2021/t CO2]                NaN         NaN        NaN   \nGas prices in Germany [€_2020/MWh]           35.00000   35.000000   35.00000   \nGas prices in Canada [€_2020/MWh]                 NaN         NaN        NaN   \nGas prices EU USD_2021/MWh                        NaN         NaN        NaN   \n\n                                                 2045        2046        2047  \\\nElectricity prices in Germany [€_2020/MWh]   53.50000   52.800000   52.100000   \nElectricity prices in Norway [€_2018/MWh]    54.22122   54.704721   54.535295   \nElectricity prices in Norway [€_2021/MWh]    48.00000   45.800000   43.600000   \nEU ETS [€_2020/t_CO2]                       211.00000  215.000000  219.000000   \nCO2 prices global [USD_2021/t CO2]                NaN         NaN         NaN   \nGas prices in Germany [€_2020/MWh]           35.00000   35.000000   35.000000   \nGas prices in Canada [€_2020/MWh]                 NaN         NaN         NaN   \nGas prices EU USD_2021/MWh                        NaN         NaN         NaN   \n\n                                                  2048        2049        2050  \nElectricity prices in Germany [€_2020/MWh]   51.400000   50.700000   50.000000  \nElectricity prices in Norway [€_2018/MWh]    53.994557   53.715329   53.994428  \nElectricity prices in Norway [€_2021/MWh]    41.400000   39.200000   37.000000  \nEU ETS [€_2020/t_CO2]                       223.000000  227.000000  231.000000  \nCO2 prices global [USD_2021/t CO2]                 NaN         NaN  250.000000  \nGas prices in Germany [€_2020/MWh]           35.000000   35.000000   35.000000  \nGas prices in Canada [€_2020/MWh]                  NaN         NaN         NaN  \nGas prices EU USD_2021/MWh                         NaN         NaN    3.800000  \n\n[8 rows x 32 columns]",
      "text/html": "<div>\n<style scoped>\n    .dataframe tbody tr th:only-of-type {\n        vertical-align: middle;\n    }\n\n    .dataframe tbody tr th {\n        vertical-align: top;\n    }\n\n    .dataframe thead th {\n        text-align: right;\n    }\n</style>\n<table border=\"1\" class=\"dataframe\">\n  <thead>\n    <tr style=\"text-align: right;\">\n      <th></th>\n      <th>Reference</th>\n      <th>2020</th>\n      <th>2021</th>\n      <th>2022</th>\n      <th>2023</th>\n      <th>2024</th>\n      <th>2025</th>\n      <th>2026</th>\n      <th>2027</th>\n      <th>2028</th>\n      <th>...</th>\n      <th>2041</th>\n      <th>2042</th>\n      <th>2043</th>\n      <th>2044</th>\n      <th>2045</th>\n      <th>2046</th>\n      <th>2047</th>\n      <th>2048</th>\n      <th>2049</th>\n      <th>2050</th>\n    </tr>\n  </thead>\n  <tbody>\n    <tr>\n      <th>Electricity prices in Germany [€_2020/MWh]</th>\n      <td>NaN</td>\n      <td>NaN</td>\n      <td>NaN</td>\n      <td>512.000000</td>\n      <td>104.000000</td>\n      <td>NaN</td>\n      <td>150.000000</td>\n      <td>133.200000</td>\n      <td>116.40000</td>\n      <td>99.600000</td>\n      <td>...</td>\n      <td>56.30000</td>\n      <td>55.60000</td>\n      <td>54.900000</td>\n      <td>54.20000</td>\n      <td>53.50000</td>\n      <td>52.800000</td>\n      <td>52.100000</td>\n      <td>51.400000</td>\n      <td>50.700000</td>\n      <td>50.000000</td>\n    </tr>\n    <tr>\n      <th>Electricity prices in Norway [€_2018/MWh]</th>\n      <td>DNV Gl 2018</td>\n      <td>46.683533</td>\n      <td>47.002654</td>\n      <td>47.209289</td>\n      <td>47.346703</td>\n      <td>47.274782</td>\n      <td>46.957092</td>\n      <td>46.416301</td>\n      <td>46.11822</td>\n      <td>45.738344</td>\n      <td>...</td>\n      <td>49.60933</td>\n      <td>50.70543</td>\n      <td>51.925184</td>\n      <td>53.19331</td>\n      <td>54.22122</td>\n      <td>54.704721</td>\n      <td>54.535295</td>\n      <td>53.994557</td>\n      <td>53.715329</td>\n      <td>53.994428</td>\n    </tr>\n    <tr>\n      <th>Electricity prices in Norway [€_2021/MWh]</th>\n      <td>LMA 2021</td>\n      <td>31.000000</td>\n      <td>31.800000</td>\n      <td>32.600000</td>\n      <td>33.400000</td>\n      <td>34.200000</td>\n      <td>35.000000</td>\n      <td>39.400000</td>\n      <td>43.80000</td>\n      <td>48.200000</td>\n      <td>...</td>\n      <td>56.80000</td>\n      <td>54.60000</td>\n      <td>52.400000</td>\n      <td>50.20000</td>\n      <td>48.00000</td>\n      <td>45.800000</td>\n      <td>43.600000</td>\n      <td>41.400000</td>\n      <td>39.200000</td>\n      <td>37.000000</td>\n    </tr>\n    <tr>\n      <th>EU ETS [€_2020/t_CO2]</th>\n      <td>NaN</td>\n      <td>25.000000</td>\n      <td>NaN</td>\n      <td>80.000000</td>\n      <td>NaN</td>\n      <td>NaN</td>\n      <td>88.000000</td>\n      <td>94.400000</td>\n      <td>100.80000</td>\n      <td>107.200000</td>\n      <td>...</td>\n      <td>194.20000</td>\n      <td>198.40000</td>\n      <td>202.600000</td>\n      <td>206.80000</td>\n      <td>211.00000</td>\n      <td>215.000000</td>\n      <td>219.000000</td>\n      <td>223.000000</td>\n      <td>227.000000</td>\n      <td>231.000000</td>\n    </tr>\n    <tr>\n      <th>CO2 prices global [USD_2021/t CO2]</th>\n      <td>IEA WOE 2022</td>\n      <td>NaN</td>\n      <td>NaN</td>\n      <td>NaN</td>\n      <td>NaN</td>\n      <td>NaN</td>\n      <td>NaN</td>\n      <td>NaN</td>\n      <td>NaN</td>\n      <td>NaN</td>\n      <td>...</td>\n      <td>NaN</td>\n      <td>NaN</td>\n      <td>NaN</td>\n      <td>NaN</td>\n      <td>NaN</td>\n      <td>NaN</td>\n      <td>NaN</td>\n      <td>NaN</td>\n      <td>NaN</td>\n      <td>250.000000</td>\n    </tr>\n    <tr>\n      <th>Gas prices in Germany [€_2020/MWh]</th>\n      <td>NaN</td>\n      <td>13.000000</td>\n      <td>12.000000</td>\n      <td>150.000000</td>\n      <td>300.000000</td>\n      <td>150.000000</td>\n      <td>70.000000</td>\n      <td>60.000000</td>\n      <td>50.00000</td>\n      <td>35.000000</td>\n      <td>...</td>\n      <td>35.00000</td>\n      <td>35.00000</td>\n      <td>35.000000</td>\n      <td>35.00000</td>\n      <td>35.00000</td>\n      <td>35.000000</td>\n      <td>35.000000</td>\n      <td>35.000000</td>\n      <td>35.000000</td>\n      <td>35.000000</td>\n    </tr>\n    <tr>\n      <th>Gas prices in Canada [€_2020/MWh]</th>\n      <td>https://www2.deloitte.com/content/dam/Deloitte...</td>\n      <td>NaN</td>\n      <td>NaN</td>\n      <td>NaN</td>\n      <td>NaN</td>\n      <td>NaN</td>\n      <td>NaN</td>\n      <td>NaN</td>\n      <td>NaN</td>\n      <td>NaN</td>\n      <td>...</td>\n      <td>NaN</td>\n      <td>NaN</td>\n      <td>NaN</td>\n      <td>NaN</td>\n      <td>NaN</td>\n      <td>NaN</td>\n      <td>NaN</td>\n      <td>NaN</td>\n      <td>NaN</td>\n      <td>NaN</td>\n    </tr>\n    <tr>\n      <th>Gas prices EU USD_2021/MWh</th>\n      <td>IEA WOE 2022</td>\n      <td>NaN</td>\n      <td>NaN</td>\n      <td>NaN</td>\n      <td>NaN</td>\n      <td>NaN</td>\n      <td>NaN</td>\n      <td>NaN</td>\n      <td>NaN</td>\n      <td>NaN</td>\n      <td>...</td>\n      <td>NaN</td>\n      <td>NaN</td>\n      <td>NaN</td>\n      <td>NaN</td>\n      <td>NaN</td>\n      <td>NaN</td>\n      <td>NaN</td>\n      <td>NaN</td>\n      <td>NaN</td>\n      <td>3.800000</td>\n    </tr>\n  </tbody>\n</table>\n<p>8 rows × 32 columns</p>\n</div>"
     },
     "execution_count": 5,
     "metadata": {},
     "output_type": "execute_result"
    }
   ],
   "source": [
    "prices = pd.read_excel(path, sheet_name='Commodity Prices', decimal=',', index_col=0)\n",
    "prices"
   ],
   "metadata": {
    "collapsed": false,
    "pycharm": {
     "name": "#%%\n"
    }
   }
  },
  {
   "cell_type": "code",
   "execution_count": 6,
   "outputs": [
    {
     "data": {
      "text/plain": "                                                                                   Value  \\\nID                                                                                         \nGHG intensity of electricity generation [g CO2e...                                   NaN   \nGHG intensity of electricity generation [g CO2e...                                   NaN   \nGrey hydrogen emissions [g CO2/MJ H2] - Norway                                     96.77   \nGrey hydrogen emissions [kg CO2/kg H2] - Norway                                  11.6124   \nBlue hydrogen emissions [g CO2/MJ H2] - Norway                                       NaN   \n...                                                                                  ...   \nHydrogen leakage                                    Predicted Emission Confidence level    \nElectrolytic H2 production [% of produced H2]                                      0.092   \nElectrolytic H2 production [% of produced H2] w...                                0.0052   \nCCS enabled H2 production [% of produced H2]                                       0.005   \nLarge-scale transmission [% of transported hyod...                                0.0048   \n\n                                                                        Ref  \\\nID                                                                            \nGHG intensity of electricity generation [g CO2e...                 EEA 2022   \nGHG intensity of electricity generation [g CO2e...        Our world in Data   \nGrey hydrogen emissions [g CO2/MJ H2] - Norway      Own calculation @ GWP20   \nGrey hydrogen emissions [kg CO2/kg H2] - Norway     Own calculation @ GWP20   \nBlue hydrogen emissions [g CO2/MJ H2] - Norway      Own calculation @ GWP20   \n...                                                                     ...   \nHydrogen leakage                                                        Ref   \nElectrolytic H2 production [% of produced H2]                      DOE 2022   \nElectrolytic H2 production [% of produced H2] w...                 DOE 2022   \nCCS enabled H2 production [% of produced H2]                       DOE 2022   \nLarge-scale transmission [% of transported hyod...                 DOE 2022   \n\n                                                     1990   1991   1992  \\\nID                                                                        \nGHG intensity of electricity generation [g CO2e...  652.0  656.0  628.0   \nGHG intensity of electricity generation [g CO2e...    NaN    NaN    NaN   \nGrey hydrogen emissions [g CO2/MJ H2] - Norway        NaN    NaN    NaN   \nGrey hydrogen emissions [kg CO2/kg H2] - Norway       NaN    NaN    NaN   \nBlue hydrogen emissions [g CO2/MJ H2] - Norway        NaN    NaN    NaN   \n...                                                   ...    ...    ...   \nHydrogen leakage                                      NaN    NaN    NaN   \nElectrolytic H2 production [% of produced H2]         NaN    NaN    NaN   \nElectrolytic H2 production [% of produced H2] w...    NaN    NaN    NaN   \nCCS enabled H2 production [% of produced H2]          NaN    NaN    NaN   \nLarge-scale transmission [% of transported hyod...    NaN    NaN    NaN   \n\n                                                     1993   1994   1995  \\\nID                                                                        \nGHG intensity of electricity generation [g CO2e...  631.0  626.0  610.0   \nGHG intensity of electricity generation [g CO2e...    NaN    NaN    NaN   \nGrey hydrogen emissions [g CO2/MJ H2] - Norway        NaN    NaN    NaN   \nGrey hydrogen emissions [kg CO2/kg H2] - Norway       NaN    NaN    NaN   \nBlue hydrogen emissions [g CO2/MJ H2] - Norway        NaN    NaN    NaN   \n...                                                   ...    ...    ...   \nHydrogen leakage                                      NaN    NaN    NaN   \nElectrolytic H2 production [% of produced H2]         NaN    NaN    NaN   \nElectrolytic H2 production [% of produced H2] w...    NaN    NaN    NaN   \nCCS enabled H2 production [% of produced H2]          NaN    NaN    NaN   \nLarge-scale transmission [% of transported hyod...    NaN    NaN    NaN   \n\n                                                     1996   1997  ...  \\\nID                                                                ...   \nGHG intensity of electricity generation [g CO2e...  580.0  566.0  ...   \nGHG intensity of electricity generation [g CO2e...    NaN    NaN  ...   \nGrey hydrogen emissions [g CO2/MJ H2] - Norway        NaN    NaN  ...   \nGrey hydrogen emissions [kg CO2/kg H2] - Norway       NaN    NaN  ...   \nBlue hydrogen emissions [g CO2/MJ H2] - Norway        NaN    NaN  ...   \n...                                                   ...    ...  ...   \nHydrogen leakage                                      NaN    NaN  ...   \nElectrolytic H2 production [% of produced H2]         NaN    NaN  ...   \nElectrolytic H2 production [% of produced H2] w...    NaN    NaN  ...   \nCCS enabled H2 production [% of produced H2]          NaN    NaN  ...   \nLarge-scale transmission [% of transported hyod...    NaN    NaN  ...   \n\n                                                         2041      2042  \\\nID                                                                        \nGHG intensity of electricity generation [g CO2e...  62.592000  46.94400   \nGHG intensity of electricity generation [g CO2e...   7.783673   6.91882   \nGrey hydrogen emissions [g CO2/MJ H2] - Norway            NaN       NaN   \nGrey hydrogen emissions [kg CO2/kg H2] - Norway           NaN       NaN   \nBlue hydrogen emissions [g CO2/MJ H2] - Norway      25.499000  24.61800   \n...                                                       ...       ...   \nHydrogen leakage                                          NaN       NaN   \nElectrolytic H2 production [% of produced H2]             NaN       NaN   \nElectrolytic H2 production [% of produced H2] w...        NaN       NaN   \nCCS enabled H2 production [% of produced H2]              NaN       NaN   \nLarge-scale transmission [% of transported hyod...        NaN       NaN   \n\n                                                         2043       2044  \\\nID                                                                         \nGHG intensity of electricity generation [g CO2e...  31.296000  15.648000   \nGHG intensity of electricity generation [g CO2e...   6.053968   5.189115   \nGrey hydrogen emissions [g CO2/MJ H2] - Norway            NaN        NaN   \nGrey hydrogen emissions [kg CO2/kg H2] - Norway           NaN        NaN   \nBlue hydrogen emissions [g CO2/MJ H2] - Norway      23.737000  22.856000   \n...                                                       ...        ...   \nHydrogen leakage                                          NaN        NaN   \nElectrolytic H2 production [% of produced H2]             NaN        NaN   \nElectrolytic H2 production [% of produced H2] w...        NaN        NaN   \nCCS enabled H2 production [% of produced H2]              NaN        NaN   \nLarge-scale transmission [% of transported hyod...        NaN        NaN   \n\n                                                         2045      2046  \\\nID                                                                        \nGHG intensity of electricity generation [g CO2e...   0.000000   0.00000   \nGHG intensity of electricity generation [g CO2e...   4.324263   3.45941   \nGrey hydrogen emissions [g CO2/MJ H2] - Norway            NaN       NaN   \nGrey hydrogen emissions [kg CO2/kg H2] - Norway           NaN       NaN   \nBlue hydrogen emissions [g CO2/MJ H2] - Norway      21.975000  21.09400   \n...                                                       ...       ...   \nHydrogen leakage                                          NaN       NaN   \nElectrolytic H2 production [% of produced H2]             NaN       NaN   \nElectrolytic H2 production [% of produced H2] w...        NaN       NaN   \nCCS enabled H2 production [% of produced H2]              NaN       NaN   \nLarge-scale transmission [% of transported hyod...        NaN       NaN   \n\n                                                         2047       2048  \\\nID                                                                         \nGHG intensity of electricity generation [g CO2e...   0.000000   0.000000   \nGHG intensity of electricity generation [g CO2e...   2.594558   1.729705   \nGrey hydrogen emissions [g CO2/MJ H2] - Norway            NaN        NaN   \nGrey hydrogen emissions [kg CO2/kg H2] - Norway           NaN        NaN   \nBlue hydrogen emissions [g CO2/MJ H2] - Norway      20.213000  19.332000   \n...                                                       ...        ...   \nHydrogen leakage                                          NaN        NaN   \nElectrolytic H2 production [% of produced H2]             NaN        NaN   \nElectrolytic H2 production [% of produced H2] w...        NaN        NaN   \nCCS enabled H2 production [% of produced H2]              NaN        NaN   \nLarge-scale transmission [% of transported hyod...        NaN        NaN   \n\n                                                         2049   2050  \nID                                                                    \nGHG intensity of electricity generation [g CO2e...   0.000000   0.00  \nGHG intensity of electricity generation [g CO2e...   0.864853   0.00  \nGrey hydrogen emissions [g CO2/MJ H2] - Norway            NaN    NaN  \nGrey hydrogen emissions [kg CO2/kg H2] - Norway           NaN    NaN  \nBlue hydrogen emissions [g CO2/MJ H2] - Norway      18.451000  17.57  \n...                                                       ...    ...  \nHydrogen leakage                                          NaN    NaN  \nElectrolytic H2 production [% of produced H2]             NaN    NaN  \nElectrolytic H2 production [% of produced H2] w...        NaN    NaN  \nCCS enabled H2 production [% of produced H2]              NaN    NaN  \nLarge-scale transmission [% of transported hyod...        NaN    NaN  \n\n[65 rows x 63 columns]",
      "text/html": "<div>\n<style scoped>\n    .dataframe tbody tr th:only-of-type {\n        vertical-align: middle;\n    }\n\n    .dataframe tbody tr th {\n        vertical-align: top;\n    }\n\n    .dataframe thead th {\n        text-align: right;\n    }\n</style>\n<table border=\"1\" class=\"dataframe\">\n  <thead>\n    <tr style=\"text-align: right;\">\n      <th></th>\n      <th>Value</th>\n      <th>Ref</th>\n      <th>1990</th>\n      <th>1991</th>\n      <th>1992</th>\n      <th>1993</th>\n      <th>1994</th>\n      <th>1995</th>\n      <th>1996</th>\n      <th>1997</th>\n      <th>...</th>\n      <th>2041</th>\n      <th>2042</th>\n      <th>2043</th>\n      <th>2044</th>\n      <th>2045</th>\n      <th>2046</th>\n      <th>2047</th>\n      <th>2048</th>\n      <th>2049</th>\n      <th>2050</th>\n    </tr>\n    <tr>\n      <th>ID</th>\n      <th></th>\n      <th></th>\n      <th></th>\n      <th></th>\n      <th></th>\n      <th></th>\n      <th></th>\n      <th></th>\n      <th></th>\n      <th></th>\n      <th></th>\n      <th></th>\n      <th></th>\n      <th></th>\n      <th></th>\n      <th></th>\n      <th></th>\n      <th></th>\n      <th></th>\n      <th></th>\n      <th></th>\n    </tr>\n  </thead>\n  <tbody>\n    <tr>\n      <th>GHG intensity of electricity generation [g CO2eq/kWh] - Germany</th>\n      <td>NaN</td>\n      <td>EEA 2022</td>\n      <td>652.0</td>\n      <td>656.0</td>\n      <td>628.0</td>\n      <td>631.0</td>\n      <td>626.0</td>\n      <td>610.0</td>\n      <td>580.0</td>\n      <td>566.0</td>\n      <td>...</td>\n      <td>62.592000</td>\n      <td>46.94400</td>\n      <td>31.296000</td>\n      <td>15.648000</td>\n      <td>0.000000</td>\n      <td>0.00000</td>\n      <td>0.000000</td>\n      <td>0.000000</td>\n      <td>0.000000</td>\n      <td>0.00</td>\n    </tr>\n    <tr>\n      <th>GHG intensity of electricity generation [g CO2eq/kWh] - Norway</th>\n      <td>NaN</td>\n      <td>Our world in Data</td>\n      <td>NaN</td>\n      <td>NaN</td>\n      <td>NaN</td>\n      <td>NaN</td>\n      <td>NaN</td>\n      <td>NaN</td>\n      <td>NaN</td>\n      <td>NaN</td>\n      <td>...</td>\n      <td>7.783673</td>\n      <td>6.91882</td>\n      <td>6.053968</td>\n      <td>5.189115</td>\n      <td>4.324263</td>\n      <td>3.45941</td>\n      <td>2.594558</td>\n      <td>1.729705</td>\n      <td>0.864853</td>\n      <td>0.00</td>\n    </tr>\n    <tr>\n      <th>Grey hydrogen emissions [g CO2/MJ H2] - Norway</th>\n      <td>96.77</td>\n      <td>Own calculation @ GWP20</td>\n      <td>NaN</td>\n      <td>NaN</td>\n      <td>NaN</td>\n      <td>NaN</td>\n      <td>NaN</td>\n      <td>NaN</td>\n      <td>NaN</td>\n      <td>NaN</td>\n      <td>...</td>\n      <td>NaN</td>\n      <td>NaN</td>\n      <td>NaN</td>\n      <td>NaN</td>\n      <td>NaN</td>\n      <td>NaN</td>\n      <td>NaN</td>\n      <td>NaN</td>\n      <td>NaN</td>\n      <td>NaN</td>\n    </tr>\n    <tr>\n      <th>Grey hydrogen emissions [kg CO2/kg H2] - Norway</th>\n      <td>11.6124</td>\n      <td>Own calculation @ GWP20</td>\n      <td>NaN</td>\n      <td>NaN</td>\n      <td>NaN</td>\n      <td>NaN</td>\n      <td>NaN</td>\n      <td>NaN</td>\n      <td>NaN</td>\n      <td>NaN</td>\n      <td>...</td>\n      <td>NaN</td>\n      <td>NaN</td>\n      <td>NaN</td>\n      <td>NaN</td>\n      <td>NaN</td>\n      <td>NaN</td>\n      <td>NaN</td>\n      <td>NaN</td>\n      <td>NaN</td>\n      <td>NaN</td>\n    </tr>\n    <tr>\n      <th>Blue hydrogen emissions [g CO2/MJ H2] - Norway</th>\n      <td>NaN</td>\n      <td>Own calculation @ GWP20</td>\n      <td>NaN</td>\n      <td>NaN</td>\n      <td>NaN</td>\n      <td>NaN</td>\n      <td>NaN</td>\n      <td>NaN</td>\n      <td>NaN</td>\n      <td>NaN</td>\n      <td>...</td>\n      <td>25.499000</td>\n      <td>24.61800</td>\n      <td>23.737000</td>\n      <td>22.856000</td>\n      <td>21.975000</td>\n      <td>21.09400</td>\n      <td>20.213000</td>\n      <td>19.332000</td>\n      <td>18.451000</td>\n      <td>17.57</td>\n    </tr>\n    <tr>\n      <th>...</th>\n      <td>...</td>\n      <td>...</td>\n      <td>...</td>\n      <td>...</td>\n      <td>...</td>\n      <td>...</td>\n      <td>...</td>\n      <td>...</td>\n      <td>...</td>\n      <td>...</td>\n      <td>...</td>\n      <td>...</td>\n      <td>...</td>\n      <td>...</td>\n      <td>...</td>\n      <td>...</td>\n      <td>...</td>\n      <td>...</td>\n      <td>...</td>\n      <td>...</td>\n      <td>...</td>\n    </tr>\n    <tr>\n      <th>Hydrogen leakage</th>\n      <td>Predicted Emission Confidence level</td>\n      <td>Ref</td>\n      <td>NaN</td>\n      <td>NaN</td>\n      <td>NaN</td>\n      <td>NaN</td>\n      <td>NaN</td>\n      <td>NaN</td>\n      <td>NaN</td>\n      <td>NaN</td>\n      <td>...</td>\n      <td>NaN</td>\n      <td>NaN</td>\n      <td>NaN</td>\n      <td>NaN</td>\n      <td>NaN</td>\n      <td>NaN</td>\n      <td>NaN</td>\n      <td>NaN</td>\n      <td>NaN</td>\n      <td>NaN</td>\n    </tr>\n    <tr>\n      <th>Electrolytic H2 production [% of produced H2]</th>\n      <td>0.092</td>\n      <td>DOE 2022</td>\n      <td>NaN</td>\n      <td>NaN</td>\n      <td>NaN</td>\n      <td>NaN</td>\n      <td>NaN</td>\n      <td>NaN</td>\n      <td>NaN</td>\n      <td>NaN</td>\n      <td>...</td>\n      <td>NaN</td>\n      <td>NaN</td>\n      <td>NaN</td>\n      <td>NaN</td>\n      <td>NaN</td>\n      <td>NaN</td>\n      <td>NaN</td>\n      <td>NaN</td>\n      <td>NaN</td>\n      <td>NaN</td>\n    </tr>\n    <tr>\n      <th>Electrolytic H2 production [% of produced H2] w/ recombination</th>\n      <td>0.0052</td>\n      <td>DOE 2022</td>\n      <td>NaN</td>\n      <td>NaN</td>\n      <td>NaN</td>\n      <td>NaN</td>\n      <td>NaN</td>\n      <td>NaN</td>\n      <td>NaN</td>\n      <td>NaN</td>\n      <td>...</td>\n      <td>NaN</td>\n      <td>NaN</td>\n      <td>NaN</td>\n      <td>NaN</td>\n      <td>NaN</td>\n      <td>NaN</td>\n      <td>NaN</td>\n      <td>NaN</td>\n      <td>NaN</td>\n      <td>NaN</td>\n    </tr>\n    <tr>\n      <th>CCS enabled H2 production [% of produced H2]</th>\n      <td>0.005</td>\n      <td>DOE 2022</td>\n      <td>NaN</td>\n      <td>NaN</td>\n      <td>NaN</td>\n      <td>NaN</td>\n      <td>NaN</td>\n      <td>NaN</td>\n      <td>NaN</td>\n      <td>NaN</td>\n      <td>...</td>\n      <td>NaN</td>\n      <td>NaN</td>\n      <td>NaN</td>\n      <td>NaN</td>\n      <td>NaN</td>\n      <td>NaN</td>\n      <td>NaN</td>\n      <td>NaN</td>\n      <td>NaN</td>\n      <td>NaN</td>\n    </tr>\n    <tr>\n      <th>Large-scale transmission [% of transported hyodrogen]</th>\n      <td>0.0048</td>\n      <td>DOE 2022</td>\n      <td>NaN</td>\n      <td>NaN</td>\n      <td>NaN</td>\n      <td>NaN</td>\n      <td>NaN</td>\n      <td>NaN</td>\n      <td>NaN</td>\n      <td>NaN</td>\n      <td>...</td>\n      <td>NaN</td>\n      <td>NaN</td>\n      <td>NaN</td>\n      <td>NaN</td>\n      <td>NaN</td>\n      <td>NaN</td>\n      <td>NaN</td>\n      <td>NaN</td>\n      <td>NaN</td>\n      <td>NaN</td>\n    </tr>\n  </tbody>\n</table>\n<p>65 rows × 63 columns</p>\n</div>"
     },
     "execution_count": 6,
     "metadata": {},
     "output_type": "execute_result"
    }
   ],
   "source": [
    "GHG =  pd.read_excel(path, sheet_name='GHG Footprint', decimal=',', index_col=0)\n",
    "GHG"
   ],
   "metadata": {
    "collapsed": false,
    "pycharm": {
     "name": "#%%\n"
    }
   }
  },
  {
   "cell_type": "code",
   "execution_count": 11,
   "outputs": [
    {
     "data": {
      "text/plain": "                                                                                      Reference  \\\nParameter                                                                                         \nLHV H2 [kWh/kg]                               https://www.iea-amf.org/content/fuel_informati...   \nDiscount rate [%]                                                                           NaN   \nLifetime [Years]                                                                       IEA 2019   \nCapex [USD/kW]                                                                         IEA 2019   \nCapex [€/kW]                                                                           IEA 2019   \nOpex [€/kW/a]                                                                               NaN   \nOpex [% of Capex]                                                                      IEA 2019   \nEfficiency [%]                                                                         IEA 2019   \nCO2 capture rate [%]                                                                   IEA 2019   \nTotal emissions [kgCO2/kgH2]                                                           IEA 2019   \nCaptured emissions [kgCO2/kgH2]                                                        IEA 2019   \nUncaptured emissions [kgCO2/kgH2]                                                      IEA 2019   \nCarbon yield [kgCO2]                                                                   IEA 2019   \nAvailability [%]                                                                       IEA 2019   \nCO2 transport and storage cost [€/t CO2]                                                    NaN   \nGas prices ($/MWh) in the EU                                                           IEA 2019   \nGas prices EU [€/MWh]                                                                  IEA 2019   \nGas prices NOR [€/MWh]                                                                      NaN   \nCO2 price ($/t CO2) Advanced economies (IEA)                                                201   \nCO2 price [€/t CO2] Advanced economies                                                 IEA 2019   \nCO2 price ($/t_co2) EU ETS                                                                  NaN   \nCO2 price [€/t CO2] EU ETS                                                                  NaN   \nCO2 price high [€/t CO2e]                                                                   NaN   \nCO2 price mid [€/t CO2e]                                                                    NaN   \nCO2 price BAU [€/t CO2e]                                                                    NaN   \n\n                                              NGR with CCS         2020  \\\nParameter                                                                 \nLHV H2 [kWh/kg]                                      33.33          NaN   \nDiscount rate [%]                                     0.05          NaN   \nLifetime [Years]                                     25.00          NaN   \nCapex [USD/kW]                                     1680.00  1596.000000   \nCapex [€/kW]                                       1495.20  1495.200000   \nOpex [€/kW/a]                                          NaN    44.856000   \nOpex [% of Capex]                                     0.03          NaN   \nEfficiency [%]                                        0.69          NaN   \nCO2 capture rate [%]                                  0.90          NaN   \nTotal emissions [kgCO2/kgH2]                          9.00          NaN   \nCaptured emissions [kgCO2/kgH2]                       8.10          NaN   \nUncaptured emissions [kgCO2/kgH2]                     0.90          NaN   \nCarbon yield [kgCO2]                                   NaN          NaN   \nAvailability [%]                                      0.95          NaN   \nCO2 transport and storage cost [€/t CO2]             20.00          NaN   \nGas prices ($/MWh) in the EU                           NaN    24.890000   \nGas prices EU [€/MWh]                                  NaN    22.152100   \nGas prices NOR [€/MWh]                                 NaN    30.000000   \nCO2 price ($/t CO2) Advanced economies (IEA)           NaN    28.000000   \nCO2 price [€/t CO2] Advanced economies                 NaN          NaN   \nCO2 price ($/t_co2) EU ETS                             NaN    35.764486   \nCO2 price [€/t CO2] EU ETS                             NaN          NaN   \nCO2 price high [€/t CO2e]                              NaN    50.000000   \nCO2 price mid [€/t CO2e]                               NaN    50.000000   \nCO2 price BAU [€/t CO2e]                               NaN    60.000000   \n\n                                                     2021         2022  \\\nParameter                                                                \nLHV H2 [kWh/kg]                                       NaN          NaN   \nDiscount rate [%]                                     NaN          NaN   \nLifetime [Years]                                      NaN          NaN   \nCapex [USD/kW]                                1565.600000  1535.200000   \nCapex [€/kW]                                  1466.720000  1438.240000   \nOpex [€/kW/a]                                   44.001600    43.147200   \nOpex [% of Capex]                                     NaN          NaN   \nEfficiency [%]                                        NaN          NaN   \nCO2 capture rate [%]                                  NaN          NaN   \nTotal emissions [kgCO2/kgH2]                          NaN          NaN   \nCaptured emissions [kgCO2/kgH2]                       NaN          NaN   \nUncaptured emissions [kgCO2/kgH2]                     NaN          NaN   \nCarbon yield [kgCO2]                                  NaN          NaN   \nAvailability [%]                                      NaN          NaN   \nCO2 transport and storage cost [€/t CO2]              NaN          NaN   \nGas prices ($/MWh) in the EU                    25.130000    25.370000   \nGas prices EU [€/MWh]                           22.365700    22.579300   \nGas prices NOR [€/MWh]                          30.000000    30.000000   \nCO2 price ($/t CO2) Advanced economies (IEA)    36.000000    45.000000   \nCO2 price [€/t CO2] Advanced economies                NaN          NaN   \nCO2 price ($/t_co2) EU ETS                      81.747397    90.290000   \nCO2 price [€/t CO2] EU ETS                            NaN          NaN   \nCO2 price high [€/t CO2e]                       56.666667    63.333333   \nCO2 price mid [€/t CO2e]                        54.333333    58.666667   \nCO2 price BAU [€/t CO2e]                        60.000000    60.000000   \n\n                                                     2023         2024  \\\nParameter                                                                \nLHV H2 [kWh/kg]                                       NaN          NaN   \nDiscount rate [%]                                     NaN          NaN   \nLifetime [Years]                                      NaN          NaN   \nCapex [USD/kW]                                1504.800000  1474.400000   \nCapex [€/kW]                                  1409.760000  1381.280000   \nOpex [€/kW/a]                                   42.292800    41.438400   \nOpex [% of Capex]                                     NaN          NaN   \nEfficiency [%]                                        NaN          NaN   \nCO2 capture rate [%]                                  NaN          NaN   \nTotal emissions [kgCO2/kgH2]                          NaN          NaN   \nCaptured emissions [kgCO2/kgH2]                       NaN          NaN   \nUncaptured emissions [kgCO2/kgH2]                     NaN          NaN   \nCarbon yield [kgCO2]                                  NaN          NaN   \nAvailability [%]                                      NaN          NaN   \nCO2 transport and storage cost [€/t CO2]              NaN          NaN   \nGas prices ($/MWh) in the EU                    25.610000    25.840000   \nGas prices EU [€/MWh]                           22.792900    22.997600   \nGas prices NOR [€/MWh]                          30.000000    30.000000   \nCO2 price ($/t CO2) Advanced economies (IEA)    52.000000    60.000000   \nCO2 price [€/t CO2] Advanced economies                NaN          NaN   \nCO2 price ($/t_co2) EU ETS                      99.793135   104.187057   \nCO2 price [€/t CO2] EU ETS                            NaN          NaN   \nCO2 price high [€/t CO2e]                       70.000000    76.666667   \nCO2 price mid [€/t CO2e]                        63.000000    67.333333   \nCO2 price BAU [€/t CO2e]                        60.000000    60.000000   \n\n                                                     2025         2026  \\\nParameter                                                                \nLHV H2 [kWh/kg]                                       NaN          NaN   \nDiscount rate [%]                                     NaN          NaN   \nLifetime [Years]                                      NaN          NaN   \nCapex [USD/kW]                                1444.000000  1413.600000   \nCapex [€/kW]                                  1352.800000  1324.320000   \nOpex [€/kW/a]                                   40.584000    39.729600   \nOpex [% of Capex]                                     NaN          NaN   \nEfficiency [%]                                        NaN          NaN   \nCO2 capture rate [%]                                  NaN          NaN   \nTotal emissions [kgCO2/kgH2]                          NaN          NaN   \nCaptured emissions [kgCO2/kgH2]                       NaN          NaN   \nUncaptured emissions [kgCO2/kgH2]                     NaN          NaN   \nCarbon yield [kgCO2]                                  NaN          NaN   \nAvailability [%]                                      NaN          NaN   \nCO2 transport and storage cost [€/t CO2]              NaN          NaN   \nGas prices ($/MWh) in the EU                    26.080000    26.320000   \nGas prices EU [€/MWh]                           23.211200    23.424800   \nGas prices NOR [€/MWh]                          30.000000    30.000000   \nCO2 price ($/t CO2) Advanced economies (IEA)    67.000000    75.000000   \nCO2 price [€/t CO2] Advanced economies                NaN          NaN   \nCO2 price ($/t_co2) EU ETS                     108.774446   113.563818   \nCO2 price [€/t CO2] EU ETS                            NaN          NaN   \nCO2 price high [€/t CO2e]                       83.333333    90.000000   \nCO2 price mid [€/t CO2e]                        71.666667    76.000000   \nCO2 price BAU [€/t CO2e]                        60.000000    60.000000   \n\n                                                     2027  ...         2041  \\\nParameter                                                  ...                \nLHV H2 [kWh/kg]                                       NaN  ...          NaN   \nDiscount rate [%]                                     NaN  ...          NaN   \nLifetime [Years]                                      NaN  ...          NaN   \nCapex [USD/kW]                                1383.200000  ...  1259.228807   \nCapex [€/kW]                                  1295.840000  ...  1179.698567   \nOpex [€/kW/a]                                   38.875200  ...    35.390957   \nOpex [% of Capex]                                     NaN  ...          NaN   \nEfficiency [%]                                        NaN  ...          NaN   \nCO2 capture rate [%]                                  NaN  ...          NaN   \nTotal emissions [kgCO2/kgH2]                          NaN  ...          NaN   \nCaptured emissions [kgCO2/kgH2]                       NaN  ...          NaN   \nUncaptured emissions [kgCO2/kgH2]                     NaN  ...          NaN   \nCarbon yield [kgCO2]                                  NaN  ...          NaN   \nAvailability [%]                                      NaN  ...          NaN   \nCO2 transport and storage cost [€/t CO2]              NaN  ...          NaN   \nGas prices ($/MWh) in the EU                    26.560000  ...    23.270000   \nGas prices EU [€/MWh]                           23.638400  ...    20.710300   \nGas prices NOR [€/MWh]                          30.000000  ...    30.000000   \nCO2 price ($/t CO2) Advanced economies (IEA)    81.000000  ...   147.000000   \nCO2 price [€/t CO2] Advanced economies                NaN  ...          NaN   \nCO2 price ($/t_co2) EU ETS                     118.564068  ...   216.738762   \nCO2 price [€/t CO2] EU ETS                            NaN  ...          NaN   \nCO2 price high [€/t CO2e]                       96.666667  ...   190.000000   \nCO2 price mid [€/t CO2e]                        80.333333  ...   141.000000   \nCO2 price BAU [€/t CO2e]                        60.000000  ...    60.000000   \n\n                                                     2042         2043  \\\nParameter                                                                \nLHV H2 [kWh/kg]                                       NaN          NaN   \nDiscount rate [%]                                     NaN          NaN   \nLifetime [Years]                                      NaN          NaN   \nCapex [USD/kW]                                1257.067367  1255.013998   \nCapex [€/kW]                                  1177.673638  1175.749956   \nOpex [€/kW/a]                                   35.330209    35.272499   \nOpex [% of Capex]                                     NaN          NaN   \nEfficiency [%]                                        NaN          NaN   \nCO2 capture rate [%]                                  NaN          NaN   \nTotal emissions [kgCO2/kgH2]                          NaN          NaN   \nCaptured emissions [kgCO2/kgH2]                       NaN          NaN   \nUncaptured emissions [kgCO2/kgH2]                     NaN          NaN   \nCarbon yield [kgCO2]                                  NaN          NaN   \nAvailability [%]                                      NaN          NaN   \nCO2 transport and storage cost [€/t CO2]              NaN          NaN   \nGas prices ($/MWh) in the EU                    22.910000    22.550000   \nGas prices EU [€/MWh]                           20.389900    20.069500   \nGas prices NOR [€/MWh]                          30.000000    30.000000   \nCO2 price ($/t CO2) Advanced economies (IEA)   150.000000   152.000000   \nCO2 price [€/t CO2] Advanced economies                NaN          NaN   \nCO2 price ($/t_co2) EU ETS                     226.281837   236.245096   \nCO2 price [€/t CO2] EU ETS                            NaN          NaN   \nCO2 price high [€/t CO2e]                      196.666667   203.333333   \nCO2 price mid [€/t CO2e]                       145.333333   149.666667   \nCO2 price BAU [€/t CO2e]                        60.000000    60.000000   \n\n                                                     2044         2045  \\\nParameter                                                                \nLHV H2 [kWh/kg]                                       NaN          NaN   \nDiscount rate [%]                                     NaN          NaN   \nLifetime [Years]                                      NaN          NaN   \nCapex [USD/kW]                                1253.063298  1251.210133   \nCapex [€/kW]                                  1173.922459  1172.186336   \nOpex [€/kW/a]                                   35.217674    35.165590   \nOpex [% of Capex]                                     NaN          NaN   \nEfficiency [%]                                        NaN          NaN   \nCO2 capture rate [%]                                  NaN          NaN   \nTotal emissions [kgCO2/kgH2]                          NaN          NaN   \nCaptured emissions [kgCO2/kgH2]                       NaN          NaN   \nUncaptured emissions [kgCO2/kgH2]                     NaN          NaN   \nCarbon yield [kgCO2]                                  NaN          NaN   \nAvailability [%]                                      NaN          NaN   \nCO2 transport and storage cost [€/t CO2]              NaN          NaN   \nGas prices ($/MWh) in the EU                    22.180000    21.820000   \nGas prices EU [€/MWh]                           19.740200    19.419800   \nGas prices NOR [€/MWh]                          30.000000    30.000000   \nCO2 price ($/t CO2) Advanced economies (IEA)   154.000000   156.000000   \nCO2 price [€/t CO2] Advanced economies                NaN          NaN   \nCO2 price ($/t_co2) EU ETS                     246.647041   257.506986   \nCO2 price [€/t CO2] EU ETS                            NaN          NaN   \nCO2 price high [€/t CO2e]                      210.000000   216.666667   \nCO2 price mid [€/t CO2e]                       154.000000   158.333333   \nCO2 price BAU [€/t CO2e]                        60.000000    60.000000   \n\n                                                     2046         2047  \\\nParameter                                                                \nLHV H2 [kWh/kg]                                       NaN          NaN   \nDiscount rate [%]                                     NaN          NaN   \nLifetime [Years]                                      NaN          NaN   \nCapex [USD/kW]                                1249.449627  1247.777145   \nCapex [€/kW]                                  1170.537019  1168.970168   \nOpex [€/kW/a]                                   35.116111    35.069105   \nOpex [% of Capex]                                     NaN          NaN   \nEfficiency [%]                                        NaN          NaN   \nCO2 capture rate [%]                                  NaN          NaN   \nTotal emissions [kgCO2/kgH2]                          NaN          NaN   \nCaptured emissions [kgCO2/kgH2]                       NaN          NaN   \nUncaptured emissions [kgCO2/kgH2]                     NaN          NaN   \nCarbon yield [kgCO2]                                  NaN          NaN   \nAvailability [%]                                      NaN          NaN   \nCO2 transport and storage cost [€/t CO2]              NaN          NaN   \nGas prices ($/MWh) in the EU                    21.460000    21.090000   \nGas prices EU [€/MWh]                           19.099400    18.770100   \nGas prices NOR [€/MWh]                          30.000000    30.000000   \nCO2 price ($/t CO2) Advanced economies (IEA)   157.000000   158.000000   \nCO2 price [€/t CO2] Advanced economies                NaN          NaN   \nCO2 price ($/t_co2) EU ETS                     268.845099   280.682432   \nCO2 price [€/t CO2] EU ETS                            NaN          NaN   \nCO2 price high [€/t CO2e]                      223.333333   230.000000   \nCO2 price mid [€/t CO2e]                       162.666667   167.000000   \nCO2 price BAU [€/t CO2e]                        60.000000    60.000000   \n\n                                                     2048         2049  \\\nParameter                                                                \nLHV H2 [kWh/kg]                                       NaN          NaN   \nDiscount rate [%]                                     NaN          NaN   \nLifetime [Years]                                      NaN          NaN   \nCapex [USD/kW]                                1246.188288  1244.678874   \nCapex [€/kW]                                  1167.481659  1166.067577   \nOpex [€/kW/a]                                   35.024450    34.982027   \nOpex [% of Capex]                                     NaN          NaN   \nEfficiency [%]                                        NaN          NaN   \nCO2 capture rate [%]                                  NaN          NaN   \nTotal emissions [kgCO2/kgH2]                          NaN          NaN   \nCaptured emissions [kgCO2/kgH2]                       NaN          NaN   \nUncaptured emissions [kgCO2/kgH2]                     NaN          NaN   \nCarbon yield [kgCO2]                                  NaN          NaN   \nAvailability [%]                                      NaN          NaN   \nCO2 transport and storage cost [€/t CO2]              NaN          NaN   \nGas prices ($/MWh) in the EU                    20.730000    20.360000   \nGas prices EU [€/MWh]                           18.449700    18.120400   \nGas prices NOR [€/MWh]                          30.000000    30.000000   \nCO2 price ($/t CO2) Advanced economies (IEA)   159.000000   160.000000   \nCO2 price [€/t CO2] Advanced economies                NaN          NaN   \nCO2 price ($/t_co2) EU ETS                     293.040966   305.943650   \nCO2 price [€/t CO2] EU ETS                            NaN          NaN   \nCO2 price high [€/t CO2e]                      236.666667   243.333333   \nCO2 price mid [€/t CO2e]                       171.333333   175.666667   \nCO2 price BAU [€/t CO2e]                        60.000000    60.000000   \n\n                                                     2050  \nParameter                                                  \nLHV H2 [kWh/kg]                                       NaN  \nDiscount rate [%]                                     NaN  \nLifetime [Years]                                      NaN  \nCapex [USD/kW]                                1216.000000  \nCapex [€/kW]                                  1139.200000  \nOpex [€/kW/a]                                   34.176000  \nOpex [% of Capex]                                     NaN  \nEfficiency [%]                                        NaN  \nCO2 capture rate [%]                                  NaN  \nTotal emissions [kgCO2/kgH2]                          NaN  \nCaptured emissions [kgCO2/kgH2]                       NaN  \nUncaptured emissions [kgCO2/kgH2]                     NaN  \nCarbon yield [kgCO2]                                  NaN  \nAvailability [%]                                      NaN  \nCO2 transport and storage cost [€/t CO2]              NaN  \nGas prices ($/MWh) in the EU                    20.000000  \nGas prices EU [€/MWh]                           17.800000  \nGas prices NOR [€/MWh]                          30.000000  \nCO2 price ($/t CO2) Advanced economies (IEA)   160.000000  \nCO2 price [€/t CO2] Advanced economies                NaN  \nCO2 price ($/t_co2) EU ETS                     319.414444  \nCO2 price [€/t CO2] EU ETS                            NaN  \nCO2 price high [€/t CO2e]                      250.000000  \nCO2 price mid [€/t CO2e]                       180.000000  \nCO2 price BAU [€/t CO2e]                        60.000000  \n\n[25 rows x 33 columns]",
      "text/html": "<div>\n<style scoped>\n    .dataframe tbody tr th:only-of-type {\n        vertical-align: middle;\n    }\n\n    .dataframe tbody tr th {\n        vertical-align: top;\n    }\n\n    .dataframe thead th {\n        text-align: right;\n    }\n</style>\n<table border=\"1\" class=\"dataframe\">\n  <thead>\n    <tr style=\"text-align: right;\">\n      <th></th>\n      <th>Reference</th>\n      <th>NGR with CCS</th>\n      <th>2020</th>\n      <th>2021</th>\n      <th>2022</th>\n      <th>2023</th>\n      <th>2024</th>\n      <th>2025</th>\n      <th>2026</th>\n      <th>2027</th>\n      <th>...</th>\n      <th>2041</th>\n      <th>2042</th>\n      <th>2043</th>\n      <th>2044</th>\n      <th>2045</th>\n      <th>2046</th>\n      <th>2047</th>\n      <th>2048</th>\n      <th>2049</th>\n      <th>2050</th>\n    </tr>\n    <tr>\n      <th>Parameter</th>\n      <th></th>\n      <th></th>\n      <th></th>\n      <th></th>\n      <th></th>\n      <th></th>\n      <th></th>\n      <th></th>\n      <th></th>\n      <th></th>\n      <th></th>\n      <th></th>\n      <th></th>\n      <th></th>\n      <th></th>\n      <th></th>\n      <th></th>\n      <th></th>\n      <th></th>\n      <th></th>\n      <th></th>\n    </tr>\n  </thead>\n  <tbody>\n    <tr>\n      <th>LHV H2 [kWh/kg]</th>\n      <td>https://www.iea-amf.org/content/fuel_informati...</td>\n      <td>33.33</td>\n      <td>NaN</td>\n      <td>NaN</td>\n      <td>NaN</td>\n      <td>NaN</td>\n      <td>NaN</td>\n      <td>NaN</td>\n      <td>NaN</td>\n      <td>NaN</td>\n      <td>...</td>\n      <td>NaN</td>\n      <td>NaN</td>\n      <td>NaN</td>\n      <td>NaN</td>\n      <td>NaN</td>\n      <td>NaN</td>\n      <td>NaN</td>\n      <td>NaN</td>\n      <td>NaN</td>\n      <td>NaN</td>\n    </tr>\n    <tr>\n      <th>Discount rate [%]</th>\n      <td>NaN</td>\n      <td>0.05</td>\n      <td>NaN</td>\n      <td>NaN</td>\n      <td>NaN</td>\n      <td>NaN</td>\n      <td>NaN</td>\n      <td>NaN</td>\n      <td>NaN</td>\n      <td>NaN</td>\n      <td>...</td>\n      <td>NaN</td>\n      <td>NaN</td>\n      <td>NaN</td>\n      <td>NaN</td>\n      <td>NaN</td>\n      <td>NaN</td>\n      <td>NaN</td>\n      <td>NaN</td>\n      <td>NaN</td>\n      <td>NaN</td>\n    </tr>\n    <tr>\n      <th>Lifetime [Years]</th>\n      <td>IEA 2019</td>\n      <td>25.00</td>\n      <td>NaN</td>\n      <td>NaN</td>\n      <td>NaN</td>\n      <td>NaN</td>\n      <td>NaN</td>\n      <td>NaN</td>\n      <td>NaN</td>\n      <td>NaN</td>\n      <td>...</td>\n      <td>NaN</td>\n      <td>NaN</td>\n      <td>NaN</td>\n      <td>NaN</td>\n      <td>NaN</td>\n      <td>NaN</td>\n      <td>NaN</td>\n      <td>NaN</td>\n      <td>NaN</td>\n      <td>NaN</td>\n    </tr>\n    <tr>\n      <th>Capex [USD/kW]</th>\n      <td>IEA 2019</td>\n      <td>1680.00</td>\n      <td>1596.000000</td>\n      <td>1565.600000</td>\n      <td>1535.200000</td>\n      <td>1504.800000</td>\n      <td>1474.400000</td>\n      <td>1444.000000</td>\n      <td>1413.600000</td>\n      <td>1383.200000</td>\n      <td>...</td>\n      <td>1259.228807</td>\n      <td>1257.067367</td>\n      <td>1255.013998</td>\n      <td>1253.063298</td>\n      <td>1251.210133</td>\n      <td>1249.449627</td>\n      <td>1247.777145</td>\n      <td>1246.188288</td>\n      <td>1244.678874</td>\n      <td>1216.000000</td>\n    </tr>\n    <tr>\n      <th>Capex [€/kW]</th>\n      <td>IEA 2019</td>\n      <td>1495.20</td>\n      <td>1495.200000</td>\n      <td>1466.720000</td>\n      <td>1438.240000</td>\n      <td>1409.760000</td>\n      <td>1381.280000</td>\n      <td>1352.800000</td>\n      <td>1324.320000</td>\n      <td>1295.840000</td>\n      <td>...</td>\n      <td>1179.698567</td>\n      <td>1177.673638</td>\n      <td>1175.749956</td>\n      <td>1173.922459</td>\n      <td>1172.186336</td>\n      <td>1170.537019</td>\n      <td>1168.970168</td>\n      <td>1167.481659</td>\n      <td>1166.067577</td>\n      <td>1139.200000</td>\n    </tr>\n    <tr>\n      <th>Opex [€/kW/a]</th>\n      <td>NaN</td>\n      <td>NaN</td>\n      <td>44.856000</td>\n      <td>44.001600</td>\n      <td>43.147200</td>\n      <td>42.292800</td>\n      <td>41.438400</td>\n      <td>40.584000</td>\n      <td>39.729600</td>\n      <td>38.875200</td>\n      <td>...</td>\n      <td>35.390957</td>\n      <td>35.330209</td>\n      <td>35.272499</td>\n      <td>35.217674</td>\n      <td>35.165590</td>\n      <td>35.116111</td>\n      <td>35.069105</td>\n      <td>35.024450</td>\n      <td>34.982027</td>\n      <td>34.176000</td>\n    </tr>\n    <tr>\n      <th>Opex [% of Capex]</th>\n      <td>IEA 2019</td>\n      <td>0.03</td>\n      <td>NaN</td>\n      <td>NaN</td>\n      <td>NaN</td>\n      <td>NaN</td>\n      <td>NaN</td>\n      <td>NaN</td>\n      <td>NaN</td>\n      <td>NaN</td>\n      <td>...</td>\n      <td>NaN</td>\n      <td>NaN</td>\n      <td>NaN</td>\n      <td>NaN</td>\n      <td>NaN</td>\n      <td>NaN</td>\n      <td>NaN</td>\n      <td>NaN</td>\n      <td>NaN</td>\n      <td>NaN</td>\n    </tr>\n    <tr>\n      <th>Efficiency [%]</th>\n      <td>IEA 2019</td>\n      <td>0.69</td>\n      <td>NaN</td>\n      <td>NaN</td>\n      <td>NaN</td>\n      <td>NaN</td>\n      <td>NaN</td>\n      <td>NaN</td>\n      <td>NaN</td>\n      <td>NaN</td>\n      <td>...</td>\n      <td>NaN</td>\n      <td>NaN</td>\n      <td>NaN</td>\n      <td>NaN</td>\n      <td>NaN</td>\n      <td>NaN</td>\n      <td>NaN</td>\n      <td>NaN</td>\n      <td>NaN</td>\n      <td>NaN</td>\n    </tr>\n    <tr>\n      <th>CO2 capture rate [%]</th>\n      <td>IEA 2019</td>\n      <td>0.90</td>\n      <td>NaN</td>\n      <td>NaN</td>\n      <td>NaN</td>\n      <td>NaN</td>\n      <td>NaN</td>\n      <td>NaN</td>\n      <td>NaN</td>\n      <td>NaN</td>\n      <td>...</td>\n      <td>NaN</td>\n      <td>NaN</td>\n      <td>NaN</td>\n      <td>NaN</td>\n      <td>NaN</td>\n      <td>NaN</td>\n      <td>NaN</td>\n      <td>NaN</td>\n      <td>NaN</td>\n      <td>NaN</td>\n    </tr>\n    <tr>\n      <th>Total emissions [kgCO2/kgH2]</th>\n      <td>IEA 2019</td>\n      <td>9.00</td>\n      <td>NaN</td>\n      <td>NaN</td>\n      <td>NaN</td>\n      <td>NaN</td>\n      <td>NaN</td>\n      <td>NaN</td>\n      <td>NaN</td>\n      <td>NaN</td>\n      <td>...</td>\n      <td>NaN</td>\n      <td>NaN</td>\n      <td>NaN</td>\n      <td>NaN</td>\n      <td>NaN</td>\n      <td>NaN</td>\n      <td>NaN</td>\n      <td>NaN</td>\n      <td>NaN</td>\n      <td>NaN</td>\n    </tr>\n    <tr>\n      <th>Captured emissions [kgCO2/kgH2]</th>\n      <td>IEA 2019</td>\n      <td>8.10</td>\n      <td>NaN</td>\n      <td>NaN</td>\n      <td>NaN</td>\n      <td>NaN</td>\n      <td>NaN</td>\n      <td>NaN</td>\n      <td>NaN</td>\n      <td>NaN</td>\n      <td>...</td>\n      <td>NaN</td>\n      <td>NaN</td>\n      <td>NaN</td>\n      <td>NaN</td>\n      <td>NaN</td>\n      <td>NaN</td>\n      <td>NaN</td>\n      <td>NaN</td>\n      <td>NaN</td>\n      <td>NaN</td>\n    </tr>\n    <tr>\n      <th>Uncaptured emissions [kgCO2/kgH2]</th>\n      <td>IEA 2019</td>\n      <td>0.90</td>\n      <td>NaN</td>\n      <td>NaN</td>\n      <td>NaN</td>\n      <td>NaN</td>\n      <td>NaN</td>\n      <td>NaN</td>\n      <td>NaN</td>\n      <td>NaN</td>\n      <td>...</td>\n      <td>NaN</td>\n      <td>NaN</td>\n      <td>NaN</td>\n      <td>NaN</td>\n      <td>NaN</td>\n      <td>NaN</td>\n      <td>NaN</td>\n      <td>NaN</td>\n      <td>NaN</td>\n      <td>NaN</td>\n    </tr>\n    <tr>\n      <th>Carbon yield [kgCO2]</th>\n      <td>IEA 2019</td>\n      <td>NaN</td>\n      <td>NaN</td>\n      <td>NaN</td>\n      <td>NaN</td>\n      <td>NaN</td>\n      <td>NaN</td>\n      <td>NaN</td>\n      <td>NaN</td>\n      <td>NaN</td>\n      <td>...</td>\n      <td>NaN</td>\n      <td>NaN</td>\n      <td>NaN</td>\n      <td>NaN</td>\n      <td>NaN</td>\n      <td>NaN</td>\n      <td>NaN</td>\n      <td>NaN</td>\n      <td>NaN</td>\n      <td>NaN</td>\n    </tr>\n    <tr>\n      <th>Availability [%]</th>\n      <td>IEA 2019</td>\n      <td>0.95</td>\n      <td>NaN</td>\n      <td>NaN</td>\n      <td>NaN</td>\n      <td>NaN</td>\n      <td>NaN</td>\n      <td>NaN</td>\n      <td>NaN</td>\n      <td>NaN</td>\n      <td>...</td>\n      <td>NaN</td>\n      <td>NaN</td>\n      <td>NaN</td>\n      <td>NaN</td>\n      <td>NaN</td>\n      <td>NaN</td>\n      <td>NaN</td>\n      <td>NaN</td>\n      <td>NaN</td>\n      <td>NaN</td>\n    </tr>\n    <tr>\n      <th>CO2 transport and storage cost [€/t CO2]</th>\n      <td>NaN</td>\n      <td>20.00</td>\n      <td>NaN</td>\n      <td>NaN</td>\n      <td>NaN</td>\n      <td>NaN</td>\n      <td>NaN</td>\n      <td>NaN</td>\n      <td>NaN</td>\n      <td>NaN</td>\n      <td>...</td>\n      <td>NaN</td>\n      <td>NaN</td>\n      <td>NaN</td>\n      <td>NaN</td>\n      <td>NaN</td>\n      <td>NaN</td>\n      <td>NaN</td>\n      <td>NaN</td>\n      <td>NaN</td>\n      <td>NaN</td>\n    </tr>\n    <tr>\n      <th>Gas prices ($/MWh) in the EU</th>\n      <td>IEA 2019</td>\n      <td>NaN</td>\n      <td>24.890000</td>\n      <td>25.130000</td>\n      <td>25.370000</td>\n      <td>25.610000</td>\n      <td>25.840000</td>\n      <td>26.080000</td>\n      <td>26.320000</td>\n      <td>26.560000</td>\n      <td>...</td>\n      <td>23.270000</td>\n      <td>22.910000</td>\n      <td>22.550000</td>\n      <td>22.180000</td>\n      <td>21.820000</td>\n      <td>21.460000</td>\n      <td>21.090000</td>\n      <td>20.730000</td>\n      <td>20.360000</td>\n      <td>20.000000</td>\n    </tr>\n    <tr>\n      <th>Gas prices EU [€/MWh]</th>\n      <td>IEA 2019</td>\n      <td>NaN</td>\n      <td>22.152100</td>\n      <td>22.365700</td>\n      <td>22.579300</td>\n      <td>22.792900</td>\n      <td>22.997600</td>\n      <td>23.211200</td>\n      <td>23.424800</td>\n      <td>23.638400</td>\n      <td>...</td>\n      <td>20.710300</td>\n      <td>20.389900</td>\n      <td>20.069500</td>\n      <td>19.740200</td>\n      <td>19.419800</td>\n      <td>19.099400</td>\n      <td>18.770100</td>\n      <td>18.449700</td>\n      <td>18.120400</td>\n      <td>17.800000</td>\n    </tr>\n    <tr>\n      <th>Gas prices NOR [€/MWh]</th>\n      <td>NaN</td>\n      <td>NaN</td>\n      <td>30.000000</td>\n      <td>30.000000</td>\n      <td>30.000000</td>\n      <td>30.000000</td>\n      <td>30.000000</td>\n      <td>30.000000</td>\n      <td>30.000000</td>\n      <td>30.000000</td>\n      <td>...</td>\n      <td>30.000000</td>\n      <td>30.000000</td>\n      <td>30.000000</td>\n      <td>30.000000</td>\n      <td>30.000000</td>\n      <td>30.000000</td>\n      <td>30.000000</td>\n      <td>30.000000</td>\n      <td>30.000000</td>\n      <td>30.000000</td>\n    </tr>\n    <tr>\n      <th>CO2 price ($/t CO2) Advanced economies (IEA)</th>\n      <td>201</td>\n      <td>NaN</td>\n      <td>28.000000</td>\n      <td>36.000000</td>\n      <td>45.000000</td>\n      <td>52.000000</td>\n      <td>60.000000</td>\n      <td>67.000000</td>\n      <td>75.000000</td>\n      <td>81.000000</td>\n      <td>...</td>\n      <td>147.000000</td>\n      <td>150.000000</td>\n      <td>152.000000</td>\n      <td>154.000000</td>\n      <td>156.000000</td>\n      <td>157.000000</td>\n      <td>158.000000</td>\n      <td>159.000000</td>\n      <td>160.000000</td>\n      <td>160.000000</td>\n    </tr>\n    <tr>\n      <th>CO2 price [€/t CO2] Advanced economies</th>\n      <td>IEA 2019</td>\n      <td>NaN</td>\n      <td>NaN</td>\n      <td>NaN</td>\n      <td>NaN</td>\n      <td>NaN</td>\n      <td>NaN</td>\n      <td>NaN</td>\n      <td>NaN</td>\n      <td>NaN</td>\n      <td>...</td>\n      <td>NaN</td>\n      <td>NaN</td>\n      <td>NaN</td>\n      <td>NaN</td>\n      <td>NaN</td>\n      <td>NaN</td>\n      <td>NaN</td>\n      <td>NaN</td>\n      <td>NaN</td>\n      <td>NaN</td>\n    </tr>\n    <tr>\n      <th>CO2 price ($/t_co2) EU ETS</th>\n      <td>NaN</td>\n      <td>NaN</td>\n      <td>35.764486</td>\n      <td>81.747397</td>\n      <td>90.290000</td>\n      <td>99.793135</td>\n      <td>104.187057</td>\n      <td>108.774446</td>\n      <td>113.563818</td>\n      <td>118.564068</td>\n      <td>...</td>\n      <td>216.738762</td>\n      <td>226.281837</td>\n      <td>236.245096</td>\n      <td>246.647041</td>\n      <td>257.506986</td>\n      <td>268.845099</td>\n      <td>280.682432</td>\n      <td>293.040966</td>\n      <td>305.943650</td>\n      <td>319.414444</td>\n    </tr>\n    <tr>\n      <th>CO2 price [€/t CO2] EU ETS</th>\n      <td>NaN</td>\n      <td>NaN</td>\n      <td>NaN</td>\n      <td>NaN</td>\n      <td>NaN</td>\n      <td>NaN</td>\n      <td>NaN</td>\n      <td>NaN</td>\n      <td>NaN</td>\n      <td>NaN</td>\n      <td>...</td>\n      <td>NaN</td>\n      <td>NaN</td>\n      <td>NaN</td>\n      <td>NaN</td>\n      <td>NaN</td>\n      <td>NaN</td>\n      <td>NaN</td>\n      <td>NaN</td>\n      <td>NaN</td>\n      <td>NaN</td>\n    </tr>\n    <tr>\n      <th>CO2 price high [€/t CO2e]</th>\n      <td>NaN</td>\n      <td>NaN</td>\n      <td>50.000000</td>\n      <td>56.666667</td>\n      <td>63.333333</td>\n      <td>70.000000</td>\n      <td>76.666667</td>\n      <td>83.333333</td>\n      <td>90.000000</td>\n      <td>96.666667</td>\n      <td>...</td>\n      <td>190.000000</td>\n      <td>196.666667</td>\n      <td>203.333333</td>\n      <td>210.000000</td>\n      <td>216.666667</td>\n      <td>223.333333</td>\n      <td>230.000000</td>\n      <td>236.666667</td>\n      <td>243.333333</td>\n      <td>250.000000</td>\n    </tr>\n    <tr>\n      <th>CO2 price mid [€/t CO2e]</th>\n      <td>NaN</td>\n      <td>NaN</td>\n      <td>50.000000</td>\n      <td>54.333333</td>\n      <td>58.666667</td>\n      <td>63.000000</td>\n      <td>67.333333</td>\n      <td>71.666667</td>\n      <td>76.000000</td>\n      <td>80.333333</td>\n      <td>...</td>\n      <td>141.000000</td>\n      <td>145.333333</td>\n      <td>149.666667</td>\n      <td>154.000000</td>\n      <td>158.333333</td>\n      <td>162.666667</td>\n      <td>167.000000</td>\n      <td>171.333333</td>\n      <td>175.666667</td>\n      <td>180.000000</td>\n    </tr>\n    <tr>\n      <th>CO2 price BAU [€/t CO2e]</th>\n      <td>NaN</td>\n      <td>NaN</td>\n      <td>60.000000</td>\n      <td>60.000000</td>\n      <td>60.000000</td>\n      <td>60.000000</td>\n      <td>60.000000</td>\n      <td>60.000000</td>\n      <td>60.000000</td>\n      <td>60.000000</td>\n      <td>...</td>\n      <td>60.000000</td>\n      <td>60.000000</td>\n      <td>60.000000</td>\n      <td>60.000000</td>\n      <td>60.000000</td>\n      <td>60.000000</td>\n      <td>60.000000</td>\n      <td>60.000000</td>\n      <td>60.000000</td>\n      <td>60.000000</td>\n    </tr>\n  </tbody>\n</table>\n<p>25 rows × 33 columns</p>\n</div>"
     },
     "execution_count": 11,
     "metadata": {},
     "output_type": "execute_result"
    }
   ],
   "source": [
    "tea_blue = pd.read_excel(path, sheet_name='LCOH_NGR', decimal=',', index_col=0)\n",
    "tea_blue"
   ],
   "metadata": {
    "collapsed": false,
    "pycharm": {
     "name": "#%%\n"
    }
   }
  },
  {
   "cell_type": "code",
   "execution_count": 7,
   "outputs": [
    {
     "data": {
      "text/plain": "                                                        2020       2021  \\\nID                                                                        \nUnited_Arab_Emirates_Onshore_3_low_temp_baseline    7.083424   6.891298   \nUnited_Arab_Emirates_Offshore_1_low_temp_baseline  11.470109  11.104346   \nUnited_Arab_Emirates_Offshore_2_low_temp_baseline  15.518520  15.026419   \nUnited_Arab_Emirates_PV_2_low_temp_baseline         3.990183   3.815470   \nUnited_Arab_Emirates_PV_3_low_temp_baseline         4.167158   3.984340   \n...                                                      ...        ...   \nSouth_Africa_PV_4_low_temp_optimistic               4.776238   4.522432   \nSouth_Africa_Onshore_3_high_temp_optimistic         6.957099   6.651531   \nSouth_Africa_Offshore_1_high_temp_optimistic        6.420926   6.101068   \nSouth_Africa_Offshore_2_high_temp_optimistic        7.882887   7.502615   \nSouth_Africa_PV_4_high_temp_optimistic              8.301321   7.735446   \n\n                                                        2022       2023  \\\nID                                                                        \nUnited_Arab_Emirates_Onshore_3_low_temp_baseline    6.715543   6.552560   \nUnited_Arab_Emirates_Offshore_1_low_temp_baseline  10.787404  10.505314   \nUnited_Arab_Emirates_Offshore_2_low_temp_baseline  14.603391  14.229709   \nUnited_Arab_Emirates_PV_2_low_temp_baseline         3.659375   3.516671   \nUnited_Arab_Emirates_PV_3_low_temp_baseline         3.821167   3.672128   \n...                                                      ...        ...   \nSouth_Africa_PV_4_low_temp_optimistic               4.311259   4.130247   \nSouth_Africa_Onshore_3_high_temp_optimistic         6.361605   6.082880   \nSouth_Africa_Offshore_1_high_temp_optimistic        5.807786   5.532832   \nSouth_Africa_Offshore_2_high_temp_optimistic        7.158460   6.839487   \nSouth_Africa_PV_4_high_temp_optimistic              7.214757   6.725080   \n\n                                                        2024       2025  \\\nID                                                                        \nUnited_Arab_Emirates_Onshore_3_low_temp_baseline    6.399783   6.255316   \nUnited_Arab_Emirates_Offshore_1_low_temp_baseline  10.249265  10.013359   \nUnited_Arab_Emirates_Offshore_2_low_temp_baseline  13.892937  13.584745   \nUnited_Arab_Emirates_PV_2_low_temp_baseline         3.384029   3.259207   \nUnited_Arab_Emirates_PV_3_low_temp_baseline         3.533712   3.403554   \n...                                                      ...        ...   \nSouth_Africa_PV_4_low_temp_optimistic               3.971568   3.830018   \nSouth_Africa_Onshore_3_high_temp_optimistic         5.812121   5.546874   \nSouth_Africa_Offshore_1_high_temp_optimistic        5.271000   5.018783   \nSouth_Africa_Offshore_2_high_temp_optimistic        6.538808   6.251803   \nSouth_Africa_PV_4_high_temp_optimistic              6.257449   5.805842   \n\n                                                        2026       2027  \\\nID                                                                        \nUnited_Arab_Emirates_Onshore_3_low_temp_baseline    6.117722   5.985886   \nUnited_Arab_Emirates_Offshore_1_low_temp_baseline   9.793456   9.586545   \nUnited_Arab_Emirates_Offshore_2_low_temp_baseline  13.299293  13.032333   \nUnited_Arab_Emirates_PV_2_low_temp_baseline         3.140629   3.027147   \nUnited_Arab_Emirates_PV_3_low_temp_baseline         3.279992   3.161815   \n...                                                      ...        ...   \nSouth_Africa_PV_4_low_temp_optimistic               3.701980   3.584849   \nSouth_Africa_Onshore_3_high_temp_optimistic         5.285203   5.025533   \nSouth_Africa_Offshore_1_high_temp_optimistic        4.773702   4.533933   \nSouth_Africa_Offshore_2_high_temp_optimistic        5.975218   5.706671   \nSouth_Africa_PV_4_high_temp_optimistic              5.366024   4.934896   \n\n                                                        2028       2029  ...  \\\nID                                                                       ...   \nUnited_Arab_Emirates_Onshore_3_low_temp_baseline    5.858925   5.736129  ...   \nUnited_Arab_Emirates_Offshore_1_low_temp_baseline   9.390367   9.203187  ...   \nUnited_Arab_Emirates_Offshore_2_low_temp_baseline  12.780680  12.541890  ...   \nUnited_Arab_Emirates_PV_2_low_temp_baseline         2.917901   2.812232  ...   \nUnited_Arab_Emirates_PV_3_low_temp_baseline         3.048116   2.938202  ...   \n...                                                      ...        ...  ...   \nSouth_Africa_PV_4_low_temp_optimistic               3.476693   3.376044  ...   \nSouth_Africa_Onshore_3_high_temp_optimistic         4.766533   4.507054  ...   \nSouth_Africa_Offshore_1_high_temp_optimistic        4.298081   4.065056  ...   \nSouth_Africa_Offshore_2_high_temp_optimistic        5.444358   5.186877  ...   \nSouth_Africa_PV_4_high_temp_optimistic              4.510115   4.089858  ...   \n\n                                                       2041      2042  \\\nID                                                                      \nUnited_Arab_Emirates_Onshore_3_low_temp_baseline   4.691380  4.628208   \nUnited_Arab_Emirates_Offshore_1_low_temp_baseline  7.248224  7.116204   \nUnited_Arab_Emirates_Offshore_2_low_temp_baseline  9.892514  9.713566   \nUnited_Arab_Emirates_PV_2_low_temp_baseline        2.123259  2.077646   \nUnited_Arab_Emirates_PV_3_low_temp_baseline        2.218239  2.170581   \n...                                                     ...       ...   \nSouth_Africa_PV_4_low_temp_optimistic              2.316135  2.243911   \nSouth_Africa_Onshore_3_high_temp_optimistic        3.527896  3.479815   \nSouth_Africa_Offshore_1_high_temp_optimistic       3.044944  2.985666   \nSouth_Africa_Offshore_2_high_temp_optimistic       3.922605  3.847566   \nSouth_Africa_PV_4_high_temp_optimistic             2.785486  2.716458   \n\n                                                       2043      2044  \\\nID                                                                      \nUnited_Arab_Emirates_Onshore_3_low_temp_baseline   4.566471  4.512363   \nUnited_Arab_Emirates_Offshore_1_low_temp_baseline  6.992261  6.880684   \nUnited_Arab_Emirates_Offshore_2_low_temp_baseline  9.545998  9.395894   \nUnited_Arab_Emirates_PV_2_low_temp_baseline        2.033698  1.995168   \nUnited_Arab_Emirates_PV_3_low_temp_baseline        2.124678  2.084494   \n...                                                     ...       ...   \nSouth_Africa_PV_4_low_temp_optimistic              2.174816  2.115768   \nSouth_Africa_Onshore_3_high_temp_optimistic        3.432700  3.392380   \nSouth_Africa_Offshore_1_high_temp_optimistic       2.930034  2.880146   \nSouth_Africa_Offshore_2_high_temp_optimistic       3.777477  3.715198   \nSouth_Africa_PV_4_high_temp_optimistic             2.650047  2.592917   \n\n                                                       2045      2046  \\\nID                                                                      \nUnited_Arab_Emirates_Onshore_3_low_temp_baseline   4.403312  4.338001   \nUnited_Arab_Emirates_Offshore_1_low_temp_baseline  6.719989  6.607285   \nUnited_Arab_Emirates_Offshore_2_low_temp_baseline  9.176013  9.024151   \nUnited_Arab_Emirates_PV_2_low_temp_baseline        1.933859  1.891448   \nUnited_Arab_Emirates_PV_3_low_temp_baseline        2.020231  1.975935   \n...                                                     ...       ...   \nSouth_Africa_PV_4_low_temp_optimistic              2.014671  1.948563   \nSouth_Africa_Onshore_3_high_temp_optimistic        3.300107  3.248513   \nSouth_Africa_Offshore_1_high_temp_optimistic       2.806048  2.755060   \nSouth_Africa_Offshore_2_high_temp_optimistic       3.619913  3.556102   \nSouth_Africa_PV_4_high_temp_optimistic             2.495084  2.430448   \n\n                                                       2047      2048  \\\nID                                                                      \nUnited_Arab_Emirates_Onshore_3_low_temp_baseline   4.274817  4.213586   \nUnited_Arab_Emirates_Offshore_1_low_temp_baseline  6.500267  6.398248   \nUnited_Arab_Emirates_Offshore_2_low_temp_baseline  8.880277  8.743419   \nUnited_Arab_Emirates_PV_2_low_temp_baseline        1.850562  1.811050   \nUnited_Arab_Emirates_PV_3_low_temp_baseline        1.933247  1.892006   \n...                                                     ...       ...   \nSouth_Africa_PV_4_low_temp_optimistic              1.885225  1.824345   \nSouth_Africa_Onshore_3_high_temp_optimistic        3.198556  3.150082   \nSouth_Africa_Offshore_1_high_temp_optimistic       2.706577  2.660273   \nSouth_Africa_Offshore_2_high_temp_optimistic       3.495686  3.438224   \nSouth_Africa_PV_4_high_temp_optimistic             2.368174  2.307988   \n\n                                                       2049      2050  \nID                                                                     \nUnited_Arab_Emirates_Onshore_3_low_temp_baseline   4.154154  4.096389  \nUnited_Arab_Emirates_Offshore_1_low_temp_baseline  6.300666  6.207051  \nUnited_Arab_Emirates_Offshore_2_low_temp_baseline  8.612779  8.487690  \nUnited_Arab_Emirates_PV_2_low_temp_baseline        1.772783  1.735653  \nUnited_Arab_Emirates_PV_3_low_temp_baseline        1.852079  1.813348  \n...                                                     ...       ...  \nSouth_Africa_PV_4_low_temp_optimistic              1.765661  1.708951  \nSouth_Africa_Onshore_3_high_temp_optimistic        3.102956  3.057060  \nSouth_Africa_Offshore_1_high_temp_optimistic       2.615880  2.573177  \nSouth_Africa_Offshore_2_high_temp_optimistic       3.383351  3.330767  \nSouth_Africa_PV_4_high_temp_optimistic             2.249662  2.193002  \n\n[1660 rows x 31 columns]",
      "text/html": "<div>\n<style scoped>\n    .dataframe tbody tr th:only-of-type {\n        vertical-align: middle;\n    }\n\n    .dataframe tbody tr th {\n        vertical-align: top;\n    }\n\n    .dataframe thead th {\n        text-align: right;\n    }\n</style>\n<table border=\"1\" class=\"dataframe\">\n  <thead>\n    <tr style=\"text-align: right;\">\n      <th></th>\n      <th>2020</th>\n      <th>2021</th>\n      <th>2022</th>\n      <th>2023</th>\n      <th>2024</th>\n      <th>2025</th>\n      <th>2026</th>\n      <th>2027</th>\n      <th>2028</th>\n      <th>2029</th>\n      <th>...</th>\n      <th>2041</th>\n      <th>2042</th>\n      <th>2043</th>\n      <th>2044</th>\n      <th>2045</th>\n      <th>2046</th>\n      <th>2047</th>\n      <th>2048</th>\n      <th>2049</th>\n      <th>2050</th>\n    </tr>\n    <tr>\n      <th>ID</th>\n      <th></th>\n      <th></th>\n      <th></th>\n      <th></th>\n      <th></th>\n      <th></th>\n      <th></th>\n      <th></th>\n      <th></th>\n      <th></th>\n      <th></th>\n      <th></th>\n      <th></th>\n      <th></th>\n      <th></th>\n      <th></th>\n      <th></th>\n      <th></th>\n      <th></th>\n      <th></th>\n      <th></th>\n    </tr>\n  </thead>\n  <tbody>\n    <tr>\n      <th>United_Arab_Emirates_Onshore_3_low_temp_baseline</th>\n      <td>7.083424</td>\n      <td>6.891298</td>\n      <td>6.715543</td>\n      <td>6.552560</td>\n      <td>6.399783</td>\n      <td>6.255316</td>\n      <td>6.117722</td>\n      <td>5.985886</td>\n      <td>5.858925</td>\n      <td>5.736129</td>\n      <td>...</td>\n      <td>4.691380</td>\n      <td>4.628208</td>\n      <td>4.566471</td>\n      <td>4.512363</td>\n      <td>4.403312</td>\n      <td>4.338001</td>\n      <td>4.274817</td>\n      <td>4.213586</td>\n      <td>4.154154</td>\n      <td>4.096389</td>\n    </tr>\n    <tr>\n      <th>United_Arab_Emirates_Offshore_1_low_temp_baseline</th>\n      <td>11.470109</td>\n      <td>11.104346</td>\n      <td>10.787404</td>\n      <td>10.505314</td>\n      <td>10.249265</td>\n      <td>10.013359</td>\n      <td>9.793456</td>\n      <td>9.586545</td>\n      <td>9.390367</td>\n      <td>9.203187</td>\n      <td>...</td>\n      <td>7.248224</td>\n      <td>7.116204</td>\n      <td>6.992261</td>\n      <td>6.880684</td>\n      <td>6.719989</td>\n      <td>6.607285</td>\n      <td>6.500267</td>\n      <td>6.398248</td>\n      <td>6.300666</td>\n      <td>6.207051</td>\n    </tr>\n    <tr>\n      <th>United_Arab_Emirates_Offshore_2_low_temp_baseline</th>\n      <td>15.518520</td>\n      <td>15.026419</td>\n      <td>14.603391</td>\n      <td>14.229709</td>\n      <td>13.892937</td>\n      <td>13.584745</td>\n      <td>13.299293</td>\n      <td>13.032333</td>\n      <td>12.780680</td>\n      <td>12.541890</td>\n      <td>...</td>\n      <td>9.892514</td>\n      <td>9.713566</td>\n      <td>9.545998</td>\n      <td>9.395894</td>\n      <td>9.176013</td>\n      <td>9.024151</td>\n      <td>8.880277</td>\n      <td>8.743419</td>\n      <td>8.612779</td>\n      <td>8.487690</td>\n    </tr>\n    <tr>\n      <th>United_Arab_Emirates_PV_2_low_temp_baseline</th>\n      <td>3.990183</td>\n      <td>3.815470</td>\n      <td>3.659375</td>\n      <td>3.516671</td>\n      <td>3.384029</td>\n      <td>3.259207</td>\n      <td>3.140629</td>\n      <td>3.027147</td>\n      <td>2.917901</td>\n      <td>2.812232</td>\n      <td>...</td>\n      <td>2.123259</td>\n      <td>2.077646</td>\n      <td>2.033698</td>\n      <td>1.995168</td>\n      <td>1.933859</td>\n      <td>1.891448</td>\n      <td>1.850562</td>\n      <td>1.811050</td>\n      <td>1.772783</td>\n      <td>1.735653</td>\n    </tr>\n    <tr>\n      <th>United_Arab_Emirates_PV_3_low_temp_baseline</th>\n      <td>4.167158</td>\n      <td>3.984340</td>\n      <td>3.821167</td>\n      <td>3.672128</td>\n      <td>3.533712</td>\n      <td>3.403554</td>\n      <td>3.279992</td>\n      <td>3.161815</td>\n      <td>3.048116</td>\n      <td>2.938202</td>\n      <td>...</td>\n      <td>2.218239</td>\n      <td>2.170581</td>\n      <td>2.124678</td>\n      <td>2.084494</td>\n      <td>2.020231</td>\n      <td>1.975935</td>\n      <td>1.933247</td>\n      <td>1.892006</td>\n      <td>1.852079</td>\n      <td>1.813348</td>\n    </tr>\n    <tr>\n      <th>...</th>\n      <td>...</td>\n      <td>...</td>\n      <td>...</td>\n      <td>...</td>\n      <td>...</td>\n      <td>...</td>\n      <td>...</td>\n      <td>...</td>\n      <td>...</td>\n      <td>...</td>\n      <td>...</td>\n      <td>...</td>\n      <td>...</td>\n      <td>...</td>\n      <td>...</td>\n      <td>...</td>\n      <td>...</td>\n      <td>...</td>\n      <td>...</td>\n      <td>...</td>\n      <td>...</td>\n    </tr>\n    <tr>\n      <th>South_Africa_PV_4_low_temp_optimistic</th>\n      <td>4.776238</td>\n      <td>4.522432</td>\n      <td>4.311259</td>\n      <td>4.130247</td>\n      <td>3.971568</td>\n      <td>3.830018</td>\n      <td>3.701980</td>\n      <td>3.584849</td>\n      <td>3.476693</td>\n      <td>3.376044</td>\n      <td>...</td>\n      <td>2.316135</td>\n      <td>2.243911</td>\n      <td>2.174816</td>\n      <td>2.115768</td>\n      <td>2.014671</td>\n      <td>1.948563</td>\n      <td>1.885225</td>\n      <td>1.824345</td>\n      <td>1.765661</td>\n      <td>1.708951</td>\n    </tr>\n    <tr>\n      <th>South_Africa_Onshore_3_high_temp_optimistic</th>\n      <td>6.957099</td>\n      <td>6.651531</td>\n      <td>6.361605</td>\n      <td>6.082880</td>\n      <td>5.812121</td>\n      <td>5.546874</td>\n      <td>5.285203</td>\n      <td>5.025533</td>\n      <td>4.766533</td>\n      <td>4.507054</td>\n      <td>...</td>\n      <td>3.527896</td>\n      <td>3.479815</td>\n      <td>3.432700</td>\n      <td>3.392380</td>\n      <td>3.300107</td>\n      <td>3.248513</td>\n      <td>3.198556</td>\n      <td>3.150082</td>\n      <td>3.102956</td>\n      <td>3.057060</td>\n    </tr>\n    <tr>\n      <th>South_Africa_Offshore_1_high_temp_optimistic</th>\n      <td>6.420926</td>\n      <td>6.101068</td>\n      <td>5.807786</td>\n      <td>5.532832</td>\n      <td>5.271000</td>\n      <td>5.018783</td>\n      <td>4.773702</td>\n      <td>4.533933</td>\n      <td>4.298081</td>\n      <td>4.065056</td>\n      <td>...</td>\n      <td>3.044944</td>\n      <td>2.985666</td>\n      <td>2.930034</td>\n      <td>2.880146</td>\n      <td>2.806048</td>\n      <td>2.755060</td>\n      <td>2.706577</td>\n      <td>2.660273</td>\n      <td>2.615880</td>\n      <td>2.573177</td>\n    </tr>\n    <tr>\n      <th>South_Africa_Offshore_2_high_temp_optimistic</th>\n      <td>7.882887</td>\n      <td>7.502615</td>\n      <td>7.158460</td>\n      <td>6.839487</td>\n      <td>6.538808</td>\n      <td>6.251803</td>\n      <td>5.975218</td>\n      <td>5.706671</td>\n      <td>5.444358</td>\n      <td>5.186877</td>\n      <td>...</td>\n      <td>3.922605</td>\n      <td>3.847566</td>\n      <td>3.777477</td>\n      <td>3.715198</td>\n      <td>3.619913</td>\n      <td>3.556102</td>\n      <td>3.495686</td>\n      <td>3.438224</td>\n      <td>3.383351</td>\n      <td>3.330767</td>\n    </tr>\n    <tr>\n      <th>South_Africa_PV_4_high_temp_optimistic</th>\n      <td>8.301321</td>\n      <td>7.735446</td>\n      <td>7.214757</td>\n      <td>6.725080</td>\n      <td>6.257449</td>\n      <td>5.805842</td>\n      <td>5.366024</td>\n      <td>4.934896</td>\n      <td>4.510115</td>\n      <td>4.089858</td>\n      <td>...</td>\n      <td>2.785486</td>\n      <td>2.716458</td>\n      <td>2.650047</td>\n      <td>2.592917</td>\n      <td>2.495084</td>\n      <td>2.430448</td>\n      <td>2.368174</td>\n      <td>2.307988</td>\n      <td>2.249662</td>\n      <td>2.193002</td>\n    </tr>\n  </tbody>\n</table>\n<p>1660 rows × 31 columns</p>\n</div>"
     },
     "execution_count": 7,
     "metadata": {},
     "output_type": "execute_result"
    }
   ],
   "source": [
    "lcoh_green = pd.read_excel(path, sheet_name='LCOH_RES', decimal=',', index_col=0)\n",
    "lcoh_green"
   ],
   "metadata": {
    "collapsed": false,
    "pycharm": {
     "name": "#%%\n"
    }
   }
  },
  {
   "cell_type": "code",
   "execution_count": 8,
   "outputs": [],
   "source": [
    "lowest_green = ((lcoh_green.loc['Norway_Onshore_2_low_temp_optimistic', 2025:2050]).mul(0.89))"
   ],
   "metadata": {
    "collapsed": false,
    "pycharm": {
     "name": "#%%\n"
    }
   }
  },
  {
   "cell_type": "code",
   "execution_count": 9,
   "outputs": [
    {
     "data": {
      "text/plain": "       Norway_Onshore_2_low_temp_optimistic\nYears                                      \n2025                               2.491992\n2026                               2.440769\n2027                               2.392928\n2028                               2.347980\n2029                               2.305535\n2030                               2.265274\n2031                               2.205328\n2032                               2.157935\n2033                               2.112188\n2034                               2.068154\n2035                               2.026197\n2036                               1.985129\n2037                               1.945128\n2038                               1.908208\n2039                               1.871112\n2040                               1.834076\n2041                               1.801782\n2042                               1.770822\n2043                               1.740567\n2044                               1.714207\n2045                               1.659565\n2046                               1.627420\n2047                               1.596338\n2048                               1.566225\n2049                               1.536996\n2050                               1.508580",
      "text/html": "<div>\n<style scoped>\n    .dataframe tbody tr th:only-of-type {\n        vertical-align: middle;\n    }\n\n    .dataframe tbody tr th {\n        vertical-align: top;\n    }\n\n    .dataframe thead th {\n        text-align: right;\n    }\n</style>\n<table border=\"1\" class=\"dataframe\">\n  <thead>\n    <tr style=\"text-align: right;\">\n      <th></th>\n      <th>Norway_Onshore_2_low_temp_optimistic</th>\n    </tr>\n    <tr>\n      <th>Years</th>\n      <th></th>\n    </tr>\n  </thead>\n  <tbody>\n    <tr>\n      <th>2025</th>\n      <td>2.491992</td>\n    </tr>\n    <tr>\n      <th>2026</th>\n      <td>2.440769</td>\n    </tr>\n    <tr>\n      <th>2027</th>\n      <td>2.392928</td>\n    </tr>\n    <tr>\n      <th>2028</th>\n      <td>2.347980</td>\n    </tr>\n    <tr>\n      <th>2029</th>\n      <td>2.305535</td>\n    </tr>\n    <tr>\n      <th>2030</th>\n      <td>2.265274</td>\n    </tr>\n    <tr>\n      <th>2031</th>\n      <td>2.205328</td>\n    </tr>\n    <tr>\n      <th>2032</th>\n      <td>2.157935</td>\n    </tr>\n    <tr>\n      <th>2033</th>\n      <td>2.112188</td>\n    </tr>\n    <tr>\n      <th>2034</th>\n      <td>2.068154</td>\n    </tr>\n    <tr>\n      <th>2035</th>\n      <td>2.026197</td>\n    </tr>\n    <tr>\n      <th>2036</th>\n      <td>1.985129</td>\n    </tr>\n    <tr>\n      <th>2037</th>\n      <td>1.945128</td>\n    </tr>\n    <tr>\n      <th>2038</th>\n      <td>1.908208</td>\n    </tr>\n    <tr>\n      <th>2039</th>\n      <td>1.871112</td>\n    </tr>\n    <tr>\n      <th>2040</th>\n      <td>1.834076</td>\n    </tr>\n    <tr>\n      <th>2041</th>\n      <td>1.801782</td>\n    </tr>\n    <tr>\n      <th>2042</th>\n      <td>1.770822</td>\n    </tr>\n    <tr>\n      <th>2043</th>\n      <td>1.740567</td>\n    </tr>\n    <tr>\n      <th>2044</th>\n      <td>1.714207</td>\n    </tr>\n    <tr>\n      <th>2045</th>\n      <td>1.659565</td>\n    </tr>\n    <tr>\n      <th>2046</th>\n      <td>1.627420</td>\n    </tr>\n    <tr>\n      <th>2047</th>\n      <td>1.596338</td>\n    </tr>\n    <tr>\n      <th>2048</th>\n      <td>1.566225</td>\n    </tr>\n    <tr>\n      <th>2049</th>\n      <td>1.536996</td>\n    </tr>\n    <tr>\n      <th>2050</th>\n      <td>1.508580</td>\n    </tr>\n  </tbody>\n</table>\n</div>"
     },
     "execution_count": 9,
     "metadata": {},
     "output_type": "execute_result"
    }
   ],
   "source": [
    "lowest_green = pd.DataFrame(lowest_green)\n",
    "lowest_green.index.name = 'Years'\n",
    "lowest_green"
   ],
   "metadata": {
    "collapsed": false,
    "pycharm": {
     "name": "#%%\n"
    }
   }
  },
  {
   "cell_type": "code",
   "execution_count": 12,
   "outputs": [
    {
     "data": {
      "text/plain": "0.05"
     },
     "execution_count": 12,
     "metadata": {},
     "output_type": "execute_result"
    }
   ],
   "source": [
    "# Interest rate (WACC) in %\n",
    "i = float(tea_blue.loc['Discount rate [%]']['NGR with CCS'])\n",
    "i"
   ],
   "metadata": {
    "collapsed": false,
    "pycharm": {
     "name": "#%%\n"
    }
   }
  },
  {
   "cell_type": "code",
   "execution_count": 13,
   "outputs": [
    {
     "data": {
      "text/plain": "25.0"
     },
     "execution_count": 13,
     "metadata": {},
     "output_type": "execute_result"
    }
   ],
   "source": [
    "# Economic lifetime of the plant in years\n",
    "l_ngr = float(tea_blue.loc['Lifetime [Years]']['NGR with CCS'])\n",
    "l_ngr"
   ],
   "metadata": {
    "collapsed": false,
    "pycharm": {
     "name": "#%%\n"
    }
   }
  },
  {
   "cell_type": "code",
   "execution_count": 14,
   "outputs": [
    {
     "data": {
      "text/plain": "0.03"
     },
     "execution_count": 14,
     "metadata": {},
     "output_type": "execute_result"
    }
   ],
   "source": [
    "opex_share = float(tea_blue.loc['Opex [% of Capex]']['NGR with CCS'])\n",
    "opex_share"
   ],
   "metadata": {
    "collapsed": false,
    "pycharm": {
     "name": "#%%\n"
    }
   }
  },
  {
   "cell_type": "code",
   "execution_count": 15,
   "outputs": [
    {
     "data": {
      "text/plain": "0.05250000000000001"
     },
     "execution_count": 15,
     "metadata": {},
     "output_type": "execute_result"
    }
   ],
   "source": [
    "# Calculate the amortisation factor alpha\n",
    "alpha_ngr = (i * (1 + i) ** l_ngr) / (1 + i) ** (l_ngr - 1)\n",
    "alpha_ngr\n",
    "#round(alpha, 2)"
   ],
   "metadata": {
    "collapsed": false,
    "pycharm": {
     "name": "#%%\n"
    }
   }
  },
  {
   "cell_type": "code",
   "execution_count": 16,
   "outputs": [
    {
     "data": {
      "text/plain": "0.95"
     },
     "execution_count": 16,
     "metadata": {},
     "output_type": "execute_result"
    }
   ],
   "source": [
    "CF = float(tea_blue.loc['Availability [%]']['NGR with CCS'])\n",
    "CF"
   ],
   "metadata": {
    "collapsed": false,
    "pycharm": {
     "name": "#%%\n"
    }
   }
  },
  {
   "cell_type": "code",
   "execution_count": 17,
   "outputs": [
    {
     "data": {
      "text/plain": "0.69"
     },
     "execution_count": 17,
     "metadata": {},
     "output_type": "execute_result"
    }
   ],
   "source": [
    "# Plant efficiency in %\n",
    "n = float(tea_blue.loc['Efficiency [%]']['NGR with CCS'])\n",
    "n"
   ],
   "metadata": {
    "collapsed": false,
    "pycharm": {
     "name": "#%%\n"
    }
   }
  },
  {
   "cell_type": "code",
   "execution_count": 18,
   "outputs": [
    {
     "data": {
      "text/plain": "20.0"
     },
     "execution_count": 18,
     "metadata": {},
     "output_type": "execute_result"
    }
   ],
   "source": [
    "# P_ccs is the cost for transporting and storing CO2 in $/t_co2\n",
    "P_ccs = float(tea_blue.loc['CO2 transport and storage cost [€/t CO2]']['NGR with CCS'])\n",
    "P_ccs"
   ],
   "metadata": {
    "collapsed": false,
    "pycharm": {
     "name": "#%%\n"
    }
   }
  },
  {
   "cell_type": "code",
   "execution_count": 19,
   "outputs": [
    {
     "data": {
      "text/plain": "33.33"
     },
     "execution_count": 19,
     "metadata": {},
     "output_type": "execute_result"
    }
   ],
   "source": [
    "# LHV of hydrogen is 33.33 kWh/kg\n",
    "LHV_h2 = float(tea_blue.loc['LHV H2 [kWh/kg]']['NGR with CCS'])\n",
    "LHV_h2"
   ],
   "metadata": {
    "collapsed": false,
    "pycharm": {
     "name": "#%%\n"
    }
   }
  },
  {
   "cell_type": "markdown",
   "source": [
    "# Calc. blue LCOH"
   ],
   "metadata": {
    "collapsed": false,
    "pycharm": {
     "name": "#%% md\n"
    }
   }
  },
  {
   "cell_type": "markdown",
   "source": [
    "Definition of the cost calculation function for LCOH from NGR. Time relevant variables = capex, opex, P_ng, P_co2\n",
    "LHV H2 [kWh/kg]\n",
    "capex_y  [€/kW]\n",
    "opex_y [€/kW/a]\n",
    "CF [%]\n",
    "P_ng_y [€/MWh]\n",
    "Q_ce [kgCO2/kgH2]\n",
    "Q_ue [kgCO2/kgH2]\n",
    "P_ccs [€/t CO2]\n",
    "P_co2_y [€/t CO2]\n"
   ],
   "metadata": {
    "collapsed": false,
    "pycharm": {
     "name": "#%% md\n"
    }
   }
  },
  {
   "cell_type": "code",
   "execution_count": 20,
   "outputs": [],
   "source": [
    "def calculate_lcoh_ngr(alpha, capex_y, opex_y, CF, P_ng_y, n, Q_ce_y, P_ccs, Q_ue_y, P_co2_y, LHV_h2):\n",
    "\n",
    "    result = float(LHV_h2 * ((alpha * capex_y + opex_y) / (CF * 8760) + P_ng_y / 1000 * n) + (Q_ce_y * P_ccs + Q_ue_y * P_co2_y) / 1000)\n",
    "\n",
    "    return result"
   ],
   "metadata": {
    "collapsed": false,
    "pycharm": {
     "name": "#%%\n"
    }
   }
  },
  {
   "cell_type": "code",
   "execution_count": 50,
   "outputs": [
    {
     "data": {
      "text/plain": "      LCOH_BLUE\nYears          \n2025   2.612169\n2026   2.395326\n2027   2.177129\n2028    1.84259\n2029   1.851663\n2030   1.859383\n2031   1.876455\n2032   1.892105\n2033   1.906331\n2034   1.919129\n2035   1.930499\n2036   1.940435\n2037   1.948938\n2038   1.956003\n2039    1.96163\n2040   1.965815\n2041    1.95999\n2042   1.953312\n2043    1.94578\n2044   1.937391\n2045   1.928144\n2046   1.917532\n2047   1.906101\n2048    1.89385\n2049   1.880778\n2050    1.85845",
      "text/html": "<div>\n<style scoped>\n    .dataframe tbody tr th:only-of-type {\n        vertical-align: middle;\n    }\n\n    .dataframe tbody tr th {\n        vertical-align: top;\n    }\n\n    .dataframe thead th {\n        text-align: right;\n    }\n</style>\n<table border=\"1\" class=\"dataframe\">\n  <thead>\n    <tr style=\"text-align: right;\">\n      <th></th>\n      <th>LCOH_BLUE</th>\n    </tr>\n    <tr>\n      <th>Years</th>\n      <th></th>\n    </tr>\n  </thead>\n  <tbody>\n    <tr>\n      <th>2025</th>\n      <td>2.612169</td>\n    </tr>\n    <tr>\n      <th>2026</th>\n      <td>2.395326</td>\n    </tr>\n    <tr>\n      <th>2027</th>\n      <td>2.177129</td>\n    </tr>\n    <tr>\n      <th>2028</th>\n      <td>1.84259</td>\n    </tr>\n    <tr>\n      <th>2029</th>\n      <td>1.851663</td>\n    </tr>\n    <tr>\n      <th>2030</th>\n      <td>1.859383</td>\n    </tr>\n    <tr>\n      <th>2031</th>\n      <td>1.876455</td>\n    </tr>\n    <tr>\n      <th>2032</th>\n      <td>1.892105</td>\n    </tr>\n    <tr>\n      <th>2033</th>\n      <td>1.906331</td>\n    </tr>\n    <tr>\n      <th>2034</th>\n      <td>1.919129</td>\n    </tr>\n    <tr>\n      <th>2035</th>\n      <td>1.930499</td>\n    </tr>\n    <tr>\n      <th>2036</th>\n      <td>1.940435</td>\n    </tr>\n    <tr>\n      <th>2037</th>\n      <td>1.948938</td>\n    </tr>\n    <tr>\n      <th>2038</th>\n      <td>1.956003</td>\n    </tr>\n    <tr>\n      <th>2039</th>\n      <td>1.96163</td>\n    </tr>\n    <tr>\n      <th>2040</th>\n      <td>1.965815</td>\n    </tr>\n    <tr>\n      <th>2041</th>\n      <td>1.95999</td>\n    </tr>\n    <tr>\n      <th>2042</th>\n      <td>1.953312</td>\n    </tr>\n    <tr>\n      <th>2043</th>\n      <td>1.94578</td>\n    </tr>\n    <tr>\n      <th>2044</th>\n      <td>1.937391</td>\n    </tr>\n    <tr>\n      <th>2045</th>\n      <td>1.928144</td>\n    </tr>\n    <tr>\n      <th>2046</th>\n      <td>1.917532</td>\n    </tr>\n    <tr>\n      <th>2047</th>\n      <td>1.906101</td>\n    </tr>\n    <tr>\n      <th>2048</th>\n      <td>1.89385</td>\n    </tr>\n    <tr>\n      <th>2049</th>\n      <td>1.880778</td>\n    </tr>\n    <tr>\n      <th>2050</th>\n      <td>1.85845</td>\n    </tr>\n  </tbody>\n</table>\n</div>"
     },
     "execution_count": 50,
     "metadata": {},
     "output_type": "execute_result"
    }
   ],
   "source": [
    "# Calculation of LCOH from NGR for every year from 2025 to 2050.\n",
    "years = np.arange(2025,2051)\n",
    "result = pd.DataFrame(index=years, columns=['LCOH_BLUE'])\n",
    "result.index.name = 'Years'\n",
    "\n",
    "\n",
    "for year in years:\n",
    "\n",
    "    # get capex, opex, natural gas price and CO2 price of specific year\n",
    "    capex_y = float(tea_blue.loc['Capex [€/kW]'][year])\n",
    "    opex_y = capex_y * opex_share\n",
    "    Q_ce_y = float(GHG.loc['Captured emissions [kg CO2/kg H2]'][year])\n",
    "    Q_ue_y = float(GHG.loc['Blue hydrogen emissions [kg CO2/kg H2] - Norway'][year])\n",
    "    P_ng_y = float(prices.loc['Gas prices in Germany [€_2020/MWh]'][year])\n",
    "    P_co2_y = float(prices.loc['EU ETS [€_2020/t_CO2]'][year])\n",
    "\n",
    "    # calculate lcoe of specific year\n",
    "    result.LCOH_BLUE.loc[year] = calculate_lcoh_ngr(alpha=alpha_ngr, capex_y=capex_y, opex_y=opex_y, CF=CF, P_ng_y=P_ng_y,\n",
    "                                              n=n, Q_ce_y=Q_ce_y, P_ccs=P_ccs, Q_ue_y=Q_ue_y, P_co2_y=P_co2_y, LHV_h2=LHV_h2)\n",
    "\n",
    "result"
   ],
   "metadata": {
    "collapsed": false,
    "pycharm": {
     "name": "#%%\n"
    }
   }
  },
  {
   "cell_type": "code",
   "execution_count": 51,
   "outputs": [
    {
     "data": {
      "text/plain": "      LCOH_BLUE\nYears          \n2025   2.612169\n2026   2.395326\n2027   2.177129\n2028    1.84259\n2029   1.851663\n2030   1.859383\n2031   1.876455\n2032   1.892105\n2033   1.906331\n2034   1.919129\n2035   1.930499\n2036   1.940435\n2037   1.948938\n2038   1.956003\n2039    1.96163\n2040   1.965815\n2041    1.95999\n2042   1.953312\n2043    1.94578\n2044   1.937391\n2045   1.928144\n2046   1.917532\n2047   1.906101\n2048    1.89385\n2049   1.880778\n2050    1.85845",
      "text/html": "<div>\n<style scoped>\n    .dataframe tbody tr th:only-of-type {\n        vertical-align: middle;\n    }\n\n    .dataframe tbody tr th {\n        vertical-align: top;\n    }\n\n    .dataframe thead th {\n        text-align: right;\n    }\n</style>\n<table border=\"1\" class=\"dataframe\">\n  <thead>\n    <tr style=\"text-align: right;\">\n      <th></th>\n      <th>LCOH_BLUE</th>\n    </tr>\n    <tr>\n      <th>Years</th>\n      <th></th>\n    </tr>\n  </thead>\n  <tbody>\n    <tr>\n      <th>2025</th>\n      <td>2.612169</td>\n    </tr>\n    <tr>\n      <th>2026</th>\n      <td>2.395326</td>\n    </tr>\n    <tr>\n      <th>2027</th>\n      <td>2.177129</td>\n    </tr>\n    <tr>\n      <th>2028</th>\n      <td>1.84259</td>\n    </tr>\n    <tr>\n      <th>2029</th>\n      <td>1.851663</td>\n    </tr>\n    <tr>\n      <th>2030</th>\n      <td>1.859383</td>\n    </tr>\n    <tr>\n      <th>2031</th>\n      <td>1.876455</td>\n    </tr>\n    <tr>\n      <th>2032</th>\n      <td>1.892105</td>\n    </tr>\n    <tr>\n      <th>2033</th>\n      <td>1.906331</td>\n    </tr>\n    <tr>\n      <th>2034</th>\n      <td>1.919129</td>\n    </tr>\n    <tr>\n      <th>2035</th>\n      <td>1.930499</td>\n    </tr>\n    <tr>\n      <th>2036</th>\n      <td>1.940435</td>\n    </tr>\n    <tr>\n      <th>2037</th>\n      <td>1.948938</td>\n    </tr>\n    <tr>\n      <th>2038</th>\n      <td>1.956003</td>\n    </tr>\n    <tr>\n      <th>2039</th>\n      <td>1.96163</td>\n    </tr>\n    <tr>\n      <th>2040</th>\n      <td>1.965815</td>\n    </tr>\n    <tr>\n      <th>2041</th>\n      <td>1.95999</td>\n    </tr>\n    <tr>\n      <th>2042</th>\n      <td>1.953312</td>\n    </tr>\n    <tr>\n      <th>2043</th>\n      <td>1.94578</td>\n    </tr>\n    <tr>\n      <th>2044</th>\n      <td>1.937391</td>\n    </tr>\n    <tr>\n      <th>2045</th>\n      <td>1.928144</td>\n    </tr>\n    <tr>\n      <th>2046</th>\n      <td>1.917532</td>\n    </tr>\n    <tr>\n      <th>2047</th>\n      <td>1.906101</td>\n    </tr>\n    <tr>\n      <th>2048</th>\n      <td>1.89385</td>\n    </tr>\n    <tr>\n      <th>2049</th>\n      <td>1.880778</td>\n    </tr>\n    <tr>\n      <th>2050</th>\n      <td>1.85845</td>\n    </tr>\n  </tbody>\n</table>\n</div>"
     },
     "execution_count": 51,
     "metadata": {},
     "output_type": "execute_result"
    }
   ],
   "source": [
    "LCOH_BLUE = result\n",
    "LCOH_BLUE"
   ],
   "metadata": {
    "collapsed": false,
    "pycharm": {
     "name": "#%%\n"
    }
   }
  },
  {
   "cell_type": "code",
   "execution_count": 43,
   "outputs": [
    {
     "data": {
      "text/plain": "<Figure size 1000x600 with 1 Axes>",
      "image/png": "[encoded data removed]"
     },
     "metadata": {},
     "output_type": "display_data"
    }
   ],
   "source": [
    "# Plot cost curve of hydrogen production from NGR with CCS\n",
    "fig, ax = plt.subplots(figsize=(10,6))\n",
    "plt.plot(result, color = 'blue', linestyle = 'solid')\n",
    "plt.grid(True, axis = 'y')\n",
    "ax.set_axisbelow(True)\n",
    "plt.title('Cost curve for blue hydrogen production', fontweight='bold')\n",
    "#plt.xlabel('Year')\n",
    "plt.ylabel('[€/kg H2]')\n",
    "plt.show()"
   ],
   "metadata": {
    "collapsed": false,
    "pycharm": {
     "name": "#%%\n"
    }
   }
  },
  {
   "cell_type": "code",
   "execution_count": 23,
   "outputs": [],
   "source": [
    "# Create csv file from results dataframe\n",
    "output_file = os.path.join(path_csv,'LCOH_NGR.csv')\n",
    "result.to_csv(output_file, sep = ';')"
   ],
   "metadata": {
    "collapsed": false,
    "pycharm": {
     "name": "#%%\n"
    }
   }
  },
  {
   "cell_type": "code",
   "execution_count": 33,
   "outputs": [
    {
     "name": "stderr",
     "output_type": "stream",
     "text": [
      "C:\\Users\\REUTER\\AppData\\Local\\Temp\\ipykernel_15000\\2936469557.py:4: FutureWarning: Setting the `book` attribute is not part of the public API, usage can give unexpected or corrupted results and will be removed in a future version\n",
      "  writer.book = book\n"
     ]
    },
    {
     "ename": "AttributeError",
     "evalue": "can't set attribute 'sheets'",
     "output_type": "error",
     "traceback": [
      "\u001B[1;31m---------------------------------------------------------------------------\u001B[0m",
      "\u001B[1;31mAttributeError\u001B[0m                            Traceback (most recent call last)",
      "Cell \u001B[1;32mIn [33], line 5\u001B[0m\n\u001B[0;32m      3\u001B[0m book \u001B[38;5;241m=\u001B[39m load_workbook(path)\n\u001B[0;32m      4\u001B[0m writer\u001B[38;5;241m.\u001B[39mbook \u001B[38;5;241m=\u001B[39m book\n\u001B[1;32m----> 5\u001B[0m writer\u001B[38;5;241m.\u001B[39msheets \u001B[38;5;241m=\u001B[39m \u001B[38;5;28mdict\u001B[39m((ws\u001B[38;5;241m.\u001B[39mtitle, ws) \u001B[38;5;28;01mfor\u001B[39;00m ws \u001B[38;5;129;01min\u001B[39;00m book\u001B[38;5;241m.\u001B[39mworksheets)\n\u001B[0;32m      7\u001B[0m ws \u001B[38;5;241m=\u001B[39m book[\u001B[38;5;124m'\u001B[39m\u001B[38;5;124mResults\u001B[39m\u001B[38;5;124m'\u001B[39m]\n\u001B[0;32m      9\u001B[0m result\u001B[38;5;241m.\u001B[39mto_excel(writer, sheet_name\u001B[38;5;241m=\u001B[39m\u001B[38;5;124m'\u001B[39m\u001B[38;5;124mReference Results\u001B[39m\u001B[38;5;124m'\u001B[39m, index\u001B[38;5;241m=\u001B[39m\u001B[38;5;28;01mTrue\u001B[39;00m, startcol\u001B[38;5;241m=\u001B[39mws\u001B[38;5;241m.\u001B[39mmax_column)\n",
      "\u001B[1;31mAttributeError\u001B[0m: can't set attribute 'sheets'"
     ]
    }
   ],
   "source": [
    "# export result to excel\n",
    "writer = pd.ExcelWriter(path, engine='openpyxl', mode='a', if_sheet_exists='overlay')\n",
    "book = load_workbook(path)\n",
    "writer.book = book\n",
    "writer.sheets = dict((ws.title, ws) for ws in book.worksheets)\n",
    "\n",
    "ws = book['Results']\n",
    "\n",
    "result.to_excel(writer, sheet_name='Reference Results', index=True, startcol=ws.max_column)\n",
    "book.save('/Users/jakob/PycharmProjects/H2_pathways_repo/data/raw/H2_supply_route_assessment.xlsx')\n",
    "book.close()"
   ],
   "metadata": {
    "collapsed": false,
    "pycharm": {
     "name": "#%%\n"
    }
   }
  },
  {
   "cell_type": "code",
   "execution_count": null,
   "outputs": [],
   "source": [],
   "metadata": {
    "collapsed": false,
    "pycharm": {
     "name": "#%%\n"
    }
   }
  },
  {
   "cell_type": "markdown",
   "source": [
    "# Green LCOH"
   ],
   "metadata": {
    "collapsed": false,
    "pycharm": {
     "name": "#%% md\n"
    }
   }
  },
  {
   "cell_type": "code",
   "execution_count": 34,
   "outputs": [
    {
     "data": {
      "text/plain": "2025    3.725785\n2026    3.645457\n2027    3.571685\n2028    3.503341\n2029    3.439566\n2030    3.379687\n2031    3.269051\n2032    3.172866\n2033    3.086121\n2034    3.006717\n2035    2.933354\n2036    2.865578\n2037    2.801339\n2038    2.740772\n2039    2.684113\n2040    2.628792\n2041    2.566542\n2042    2.507092\n2043    2.451406\n2044    2.401402\n2045    2.329250\n2046    2.278896\n2047    2.231150\n2048    2.185689\n2049    2.142248\n2050    2.100605\nName: Norway_Offshore_1_low_temp_optimistic, dtype: float64"
     },
     "execution_count": 34,
     "metadata": {},
     "output_type": "execute_result"
    }
   ],
   "source": [
    "# LCOH from RES in €_2019/kg H2 from EWI 2019 [$_2019/kg H2]\n",
    "green_off1_opt_lowtemp = (lcoh_green.loc['Norway_Offshore_1_low_temp_optimistic', 2025:2050]).mul(0.89)\n",
    "green_off1_opt_lowtemp"
   ],
   "metadata": {
    "collapsed": false,
    "pycharm": {
     "name": "#%%\n"
    }
   }
  },
  {
   "cell_type": "code",
   "execution_count": 35,
   "outputs": [
    {
     "data": {
      "text/plain": "<Figure size 1000x600 with 1 Axes>",
      "image/png": "[encoded data removed]"
     },
     "metadata": {},
     "output_type": "display_data"
    }
   ],
   "source": [
    "# Plot cost curve of hydrogen production from RES\n",
    "fig, ax = plt.subplots(figsize=(10,6))\n",
    "plt.plot(green_off1_opt_lowtemp, color = 'green', linestyle = 'solid')\n",
    "plt.grid(True, axis = 'y')\n",
    "ax.set_axisbelow(True)\n",
    "plt.title('Cost curve for green hydrogen production', fontweight='bold')\n",
    "plt.xlabel('Year')\n",
    "plt.ylabel('Cost [€/kg H2]')\n",
    "plt.show()"
   ],
   "metadata": {
    "collapsed": false,
    "pycharm": {
     "name": "#%%\n"
    }
   }
  },
  {
   "cell_type": "markdown",
   "source": [
    "# Green and blue\n"
   ],
   "metadata": {
    "collapsed": false,
    "pycharm": {
     "name": "#%% md\n"
    }
   }
  },
  {
   "cell_type": "code",
   "execution_count": 36,
   "outputs": [],
   "source": [
    "lowest_green = (lcoh_green.loc['Norway_Onshore_1_low_temp_optimistic', 2025:2050]).mul(0.89)"
   ],
   "metadata": {
    "collapsed": false,
    "pycharm": {
     "name": "#%%\n"
    }
   }
  },
  {
   "cell_type": "code",
   "execution_count": 37,
   "outputs": [
    {
     "data": {
      "text/plain": "<Figure size 1000x600 with 1 Axes>",
      "image/png": "[encoded data removed]"
     },
     "metadata": {},
     "output_type": "display_data"
    }
   ],
   "source": [
    "# Plot cost curves of hydrogen production from NGR with CCS and RES\n",
    "fig, ax = plt.subplots(figsize=(10,6))\n",
    "plt.plot(result, color = 'blue', linestyle = 'solid', label='Blue hydrogen')\n",
    "plt.plot(lowest_green, color = 'green', linestyle = 'solid', label='Green hydrogen')\n",
    "plt.grid(True, axis = 'y')\n",
    "ax.set_axisbelow(True)\n",
    "plt.title('Cost curves for green and blue hydrogen production', fontweight='bold')\n",
    "ax.legend()\n",
    "plt.xlabel('Year')\n",
    "#plt.ylim(0)\n",
    "plt.ylabel('Cost [€/kg H2]')\n",
    "plt.show()"
   ],
   "metadata": {
    "collapsed": false,
    "pycharm": {
     "name": "#%%\n"
    }
   }
  },
  {
   "cell_type": "code",
   "execution_count": 39,
   "outputs": [
    {
     "ename": "FileNotFoundError",
     "evalue": "[Errno 2] No such file or directory: '/Users/jakob/PycharmProjects/H2_pathways_repo/data/raw/H2_supply_route_assessment.xlsx'",
     "output_type": "error",
     "traceback": [
      "\u001B[1;31m---------------------------------------------------------------------------\u001B[0m",
      "\u001B[1;31mFileNotFoundError\u001B[0m                         Traceback (most recent call last)",
      "Cell \u001B[1;32mIn [39], line 5\u001B[0m\n\u001B[0;32m      2\u001B[0m \u001B[38;5;28;01mfrom\u001B[39;00m \u001B[38;5;21;01mopenpyxl\u001B[39;00m \u001B[38;5;28;01mimport\u001B[39;00m load_workbook\n\u001B[0;32m      3\u001B[0m path \u001B[38;5;241m=\u001B[39m \u001B[38;5;124m'\u001B[39m\u001B[38;5;124m/Users/jakob/PycharmProjects/H2_pathways_repo/data/raw/H2_supply_route_assessment.xlsx\u001B[39m\u001B[38;5;124m'\u001B[39m\n\u001B[1;32m----> 5\u001B[0m writer \u001B[38;5;241m=\u001B[39m \u001B[43mpd\u001B[49m\u001B[38;5;241;43m.\u001B[39;49m\u001B[43mExcelWriter\u001B[49m\u001B[43m(\u001B[49m\u001B[43mpath\u001B[49m\u001B[43m,\u001B[49m\u001B[43m \u001B[49m\u001B[43mengine\u001B[49m\u001B[38;5;241;43m=\u001B[39;49m\u001B[38;5;124;43m'\u001B[39;49m\u001B[38;5;124;43mopenpyxl\u001B[39;49m\u001B[38;5;124;43m'\u001B[39;49m\u001B[43m,\u001B[49m\u001B[43m \u001B[49m\u001B[43mmode\u001B[49m\u001B[38;5;241;43m=\u001B[39;49m\u001B[38;5;124;43m'\u001B[39;49m\u001B[38;5;124;43ma\u001B[39;49m\u001B[38;5;124;43m'\u001B[39;49m\u001B[43m,\u001B[49m\u001B[43m \u001B[49m\u001B[43mif_sheet_exists\u001B[49m\u001B[38;5;241;43m=\u001B[39;49m\u001B[38;5;124;43m'\u001B[39;49m\u001B[38;5;124;43moverlay\u001B[39;49m\u001B[38;5;124;43m'\u001B[39;49m\u001B[43m)\u001B[49m\n\u001B[0;32m      6\u001B[0m book \u001B[38;5;241m=\u001B[39m load_workbook(path)\n\u001B[0;32m      7\u001B[0m writer\u001B[38;5;241m.\u001B[39mbook \u001B[38;5;241m=\u001B[39m book\n",
      "File \u001B[1;32m~\\Miniconda3\\envs\\Desktop\\lib\\site-packages\\pandas\\io\\excel\\_openpyxl.py:60\u001B[0m, in \u001B[0;36mOpenpyxlWriter.__init__\u001B[1;34m(self, path, engine, date_format, datetime_format, mode, storage_options, if_sheet_exists, engine_kwargs, **kwargs)\u001B[0m\n\u001B[0;32m     56\u001B[0m \u001B[38;5;28;01mfrom\u001B[39;00m \u001B[38;5;21;01mopenpyxl\u001B[39;00m\u001B[38;5;21;01m.\u001B[39;00m\u001B[38;5;21;01mworkbook\u001B[39;00m \u001B[38;5;28;01mimport\u001B[39;00m Workbook\n\u001B[0;32m     58\u001B[0m engine_kwargs \u001B[38;5;241m=\u001B[39m combine_kwargs(engine_kwargs, kwargs)\n\u001B[1;32m---> 60\u001B[0m \u001B[38;5;28;43msuper\u001B[39;49m\u001B[43m(\u001B[49m\u001B[43m)\u001B[49m\u001B[38;5;241;43m.\u001B[39;49m\u001B[38;5;21;43m__init__\u001B[39;49m\u001B[43m(\u001B[49m\n\u001B[0;32m     61\u001B[0m \u001B[43m    \u001B[49m\u001B[43mpath\u001B[49m\u001B[43m,\u001B[49m\n\u001B[0;32m     62\u001B[0m \u001B[43m    \u001B[49m\u001B[43mmode\u001B[49m\u001B[38;5;241;43m=\u001B[39;49m\u001B[43mmode\u001B[49m\u001B[43m,\u001B[49m\n\u001B[0;32m     63\u001B[0m \u001B[43m    \u001B[49m\u001B[43mstorage_options\u001B[49m\u001B[38;5;241;43m=\u001B[39;49m\u001B[43mstorage_options\u001B[49m\u001B[43m,\u001B[49m\n\u001B[0;32m     64\u001B[0m \u001B[43m    \u001B[49m\u001B[43mif_sheet_exists\u001B[49m\u001B[38;5;241;43m=\u001B[39;49m\u001B[43mif_sheet_exists\u001B[49m\u001B[43m,\u001B[49m\n\u001B[0;32m     65\u001B[0m \u001B[43m    \u001B[49m\u001B[43mengine_kwargs\u001B[49m\u001B[38;5;241;43m=\u001B[39;49m\u001B[43mengine_kwargs\u001B[49m\u001B[43m,\u001B[49m\n\u001B[0;32m     66\u001B[0m \u001B[43m\u001B[49m\u001B[43m)\u001B[49m\n\u001B[0;32m     68\u001B[0m \u001B[38;5;66;03m# ExcelWriter replaced \"a\" by \"r+\" to allow us to first read the excel file from\u001B[39;00m\n\u001B[0;32m     69\u001B[0m \u001B[38;5;66;03m# the file and later write to it\u001B[39;00m\n\u001B[0;32m     70\u001B[0m \u001B[38;5;28;01mif\u001B[39;00m \u001B[38;5;124m\"\u001B[39m\u001B[38;5;124mr+\u001B[39m\u001B[38;5;124m\"\u001B[39m \u001B[38;5;129;01min\u001B[39;00m \u001B[38;5;28mself\u001B[39m\u001B[38;5;241m.\u001B[39m_mode:  \u001B[38;5;66;03m# Load from existing workbook\u001B[39;00m\n",
      "File \u001B[1;32m~\\Miniconda3\\envs\\Desktop\\lib\\site-packages\\pandas\\io\\excel\\_base.py:1313\u001B[0m, in \u001B[0;36mExcelWriter.__init__\u001B[1;34m(self, path, engine, date_format, datetime_format, mode, storage_options, if_sheet_exists, engine_kwargs, **kwargs)\u001B[0m\n\u001B[0;32m   1309\u001B[0m \u001B[38;5;28mself\u001B[39m\u001B[38;5;241m.\u001B[39m_handles \u001B[38;5;241m=\u001B[39m IOHandles(\n\u001B[0;32m   1310\u001B[0m     cast(IO[\u001B[38;5;28mbytes\u001B[39m], path), compression\u001B[38;5;241m=\u001B[39m{\u001B[38;5;124m\"\u001B[39m\u001B[38;5;124mcompression\u001B[39m\u001B[38;5;124m\"\u001B[39m: \u001B[38;5;28;01mNone\u001B[39;00m}\n\u001B[0;32m   1311\u001B[0m )\n\u001B[0;32m   1312\u001B[0m \u001B[38;5;28;01mif\u001B[39;00m \u001B[38;5;129;01mnot\u001B[39;00m \u001B[38;5;28misinstance\u001B[39m(path, ExcelWriter):\n\u001B[1;32m-> 1313\u001B[0m     \u001B[38;5;28mself\u001B[39m\u001B[38;5;241m.\u001B[39m_handles \u001B[38;5;241m=\u001B[39m \u001B[43mget_handle\u001B[49m\u001B[43m(\u001B[49m\n\u001B[0;32m   1314\u001B[0m \u001B[43m        \u001B[49m\u001B[43mpath\u001B[49m\u001B[43m,\u001B[49m\u001B[43m \u001B[49m\u001B[43mmode\u001B[49m\u001B[43m,\u001B[49m\u001B[43m \u001B[49m\u001B[43mstorage_options\u001B[49m\u001B[38;5;241;43m=\u001B[39;49m\u001B[43mstorage_options\u001B[49m\u001B[43m,\u001B[49m\u001B[43m \u001B[49m\u001B[43mis_text\u001B[49m\u001B[38;5;241;43m=\u001B[39;49m\u001B[38;5;28;43;01mFalse\u001B[39;49;00m\n\u001B[0;32m   1315\u001B[0m \u001B[43m    \u001B[49m\u001B[43m)\u001B[49m\n\u001B[0;32m   1316\u001B[0m \u001B[38;5;28mself\u001B[39m\u001B[38;5;241m.\u001B[39m_cur_sheet \u001B[38;5;241m=\u001B[39m \u001B[38;5;28;01mNone\u001B[39;00m\n\u001B[0;32m   1318\u001B[0m \u001B[38;5;28;01mif\u001B[39;00m date_format \u001B[38;5;129;01mis\u001B[39;00m \u001B[38;5;28;01mNone\u001B[39;00m:\n",
      "File \u001B[1;32m~\\Miniconda3\\envs\\Desktop\\lib\\site-packages\\pandas\\io\\common.py:865\u001B[0m, in \u001B[0;36mget_handle\u001B[1;34m(path_or_buf, mode, encoding, compression, memory_map, is_text, errors, storage_options)\u001B[0m\n\u001B[0;32m    856\u001B[0m         handle \u001B[38;5;241m=\u001B[39m \u001B[38;5;28mopen\u001B[39m(\n\u001B[0;32m    857\u001B[0m             handle,\n\u001B[0;32m    858\u001B[0m             ioargs\u001B[38;5;241m.\u001B[39mmode,\n\u001B[1;32m   (...)\u001B[0m\n\u001B[0;32m    861\u001B[0m             newline\u001B[38;5;241m=\u001B[39m\u001B[38;5;124m\"\u001B[39m\u001B[38;5;124m\"\u001B[39m,\n\u001B[0;32m    862\u001B[0m         )\n\u001B[0;32m    863\u001B[0m     \u001B[38;5;28;01melse\u001B[39;00m:\n\u001B[0;32m    864\u001B[0m         \u001B[38;5;66;03m# Binary mode\u001B[39;00m\n\u001B[1;32m--> 865\u001B[0m         handle \u001B[38;5;241m=\u001B[39m \u001B[38;5;28;43mopen\u001B[39;49m\u001B[43m(\u001B[49m\u001B[43mhandle\u001B[49m\u001B[43m,\u001B[49m\u001B[43m \u001B[49m\u001B[43mioargs\u001B[49m\u001B[38;5;241;43m.\u001B[39;49m\u001B[43mmode\u001B[49m\u001B[43m)\u001B[49m\n\u001B[0;32m    866\u001B[0m     handles\u001B[38;5;241m.\u001B[39mappend(handle)\n\u001B[0;32m    868\u001B[0m \u001B[38;5;66;03m# Convert BytesIO or file objects passed with an encoding\u001B[39;00m\n",
      "\u001B[1;31mFileNotFoundError\u001B[0m: [Errno 2] No such file or directory: '/Users/jakob/PycharmProjects/H2_pathways_repo/data/raw/H2_supply_route_assessment.xlsx'"
     ]
    }
   ],
   "source": [
    "# export result to excel\n",
    "writer = pd.ExcelWriter(path, engine='openpyxl', mode='a', if_sheet_exists='overlay')\n",
    "book = load_workbook(path)\n",
    "writer.book = book\n",
    "writer.sheets = dict((ws.title, ws) for ws in book.worksheets)\n",
    "\n",
    "ws = book['Results']\n",
    "\n",
    "result.to_excel(writer, sheet_name='Reference Results', index=False, startcol=ws.max_column)\n",
    "book.save(path)\n",
    "book.close()"
   ],
   "metadata": {
    "collapsed": false,
    "pycharm": {
     "name": "#%%\n"
    }
   }
  },
  {
   "cell_type": "markdown",
   "source": [
    "# Sensitivity analysis"
   ],
   "metadata": {
    "collapsed": false,
    "pycharm": {
     "name": "#%% md\n"
    }
   }
  },
  {
   "cell_type": "code",
   "execution_count": 80,
   "outputs": [],
   "source": [
    "year = 2050\n",
    "\n",
    "capex_y = float(tea_blue.loc['Capex [€/kW]'][year])\n",
    "opex_y = capex_y * opex_share\n",
    "Q_ce_y = float(GHG.loc['Captured emissions [kg CO2/kg H2]'][year])\n",
    "Q_ue_y = float(GHG.loc['Blue hydrogen emissions [kg CO2/kg H2] - Norway'][year])\n",
    "P_ng_y = float(prices.loc['Gas prices in Germany [€_2020/MWh]'][year])\n",
    "P_co2_y = float(prices.loc['EU ETS [€_2020/t_CO2]'][year])"
   ],
   "metadata": {
    "collapsed": false,
    "pycharm": {
     "name": "#%%\n"
    }
   }
  },
  {
   "cell_type": "code",
   "execution_count": 93,
   "outputs": [],
   "source": [
    "gas_prices = np.arange(10,100,5)\n"
   ],
   "metadata": {
    "collapsed": false,
    "pycharm": {
     "name": "#%%\n"
    }
   }
  },
  {
   "cell_type": "code",
   "execution_count": 167,
   "outputs": [],
   "source": [
    "sensitivity = []\n",
    "\n",
    "def calculate_lcoh_ngr_sensi(alpha_ngr, capex_y, opex_y, CF, P_ng_y, n, Q_ce_y, P_ccs, Q_ue_y, P_co2_y, LHV_h2):\n",
    "\n",
    "    for x in range(21):\n",
    "        factor = x/10\n",
    "\n",
    "        result = float(LHV_h2 * ((alpha_ngr * capex_y + opex_y) / (CF * 8760)+ P_ng_y / 1000 * n) + (Q_ce_y * P_ccs * factor + Q_ue_y * P_co2_y ) / 1000)\n",
    "\n",
    "        sensitivity.append(result)\n",
    "\n",
    "\n",
    "    return sensitivity"
   ],
   "metadata": {
    "collapsed": false,
    "pycharm": {
     "name": "#%%\n"
    }
   }
  },
  {
   "cell_type": "code",
   "execution_count": 168,
   "outputs": [
    {
     "data": {
      "text/plain": "[1.6683702244412402,\n 1.6873782244412403,\n 1.7063862244412404,\n 1.7253942244412404,\n 1.7444022244412403,\n 1.7634102244412402,\n 1.78241822444124,\n 1.8014262244412402,\n 1.8204342244412404,\n 1.8394422244412403,\n 1.8584502244412402,\n 1.8774582244412403,\n 1.8964662244412402,\n 1.9154742244412404,\n 1.9344822244412403,\n 1.9534902244412402,\n 1.9724982244412401,\n 1.9915062244412403,\n 2.0105142244412404,\n 2.0295222244412403,\n 2.04853022444124]"
     },
     "execution_count": 168,
     "metadata": {},
     "output_type": "execute_result"
    }
   ],
   "source": [
    "calculate_lcoh_ngr_sensi(alpha_ngr, capex_y, opex_y, CF, P_ng_y, n, Q_ce_y, P_ccs, Q_ue_y, P_co2_y, LHV_h2)"
   ],
   "metadata": {
    "collapsed": false,
    "pycharm": {
     "name": "#%%\n"
    }
   }
  },
  {
   "cell_type": "code",
   "execution_count": 169,
   "outputs": [],
   "source": [
    "lcoh_ngr_sensi_P_CCS= pd.DataFrame(sensitivity, index= range(21), columns=['LCOH_NGR [€/kg H2]'])\n",
    "lcoh_ngr_sensi_P_CCS.index.name = 'CCS_price_change in %'"
   ],
   "metadata": {
    "collapsed": false,
    "pycharm": {
     "name": "#%%\n"
    }
   }
  },
  {
   "cell_type": "code",
   "execution_count": 170,
   "outputs": [
    {
     "data": {
      "text/plain": "                       LCOH_NGR [€/kg H2]\nCCS_price_change in %                    \n0                                1.668370\n1                                1.687378\n2                                1.706386\n3                                1.725394\n4                                1.744402\n5                                1.763410\n6                                1.782418\n7                                1.801426\n8                                1.820434\n9                                1.839442\n10                               1.858450\n11                               1.877458\n12                               1.896466\n13                               1.915474\n14                               1.934482\n15                               1.953490\n16                               1.972498\n17                               1.991506\n18                               2.010514\n19                               2.029522\n20                               2.048530",
      "text/html": "<div>\n<style scoped>\n    .dataframe tbody tr th:only-of-type {\n        vertical-align: middle;\n    }\n\n    .dataframe tbody tr th {\n        vertical-align: top;\n    }\n\n    .dataframe thead th {\n        text-align: right;\n    }\n</style>\n<table border=\"1\" class=\"dataframe\">\n  <thead>\n    <tr style=\"text-align: right;\">\n      <th></th>\n      <th>LCOH_NGR [€/kg H2]</th>\n    </tr>\n    <tr>\n      <th>CCS_price_change in %</th>\n      <th></th>\n    </tr>\n  </thead>\n  <tbody>\n    <tr>\n      <th>0</th>\n      <td>1.668370</td>\n    </tr>\n    <tr>\n      <th>1</th>\n      <td>1.687378</td>\n    </tr>\n    <tr>\n      <th>2</th>\n      <td>1.706386</td>\n    </tr>\n    <tr>\n      <th>3</th>\n      <td>1.725394</td>\n    </tr>\n    <tr>\n      <th>4</th>\n      <td>1.744402</td>\n    </tr>\n    <tr>\n      <th>5</th>\n      <td>1.763410</td>\n    </tr>\n    <tr>\n      <th>6</th>\n      <td>1.782418</td>\n    </tr>\n    <tr>\n      <th>7</th>\n      <td>1.801426</td>\n    </tr>\n    <tr>\n      <th>8</th>\n      <td>1.820434</td>\n    </tr>\n    <tr>\n      <th>9</th>\n      <td>1.839442</td>\n    </tr>\n    <tr>\n      <th>10</th>\n      <td>1.858450</td>\n    </tr>\n    <tr>\n      <th>11</th>\n      <td>1.877458</td>\n    </tr>\n    <tr>\n      <th>12</th>\n      <td>1.896466</td>\n    </tr>\n    <tr>\n      <th>13</th>\n      <td>1.915474</td>\n    </tr>\n    <tr>\n      <th>14</th>\n      <td>1.934482</td>\n    </tr>\n    <tr>\n      <th>15</th>\n      <td>1.953490</td>\n    </tr>\n    <tr>\n      <th>16</th>\n      <td>1.972498</td>\n    </tr>\n    <tr>\n      <th>17</th>\n      <td>1.991506</td>\n    </tr>\n    <tr>\n      <th>18</th>\n      <td>2.010514</td>\n    </tr>\n    <tr>\n      <th>19</th>\n      <td>2.029522</td>\n    </tr>\n    <tr>\n      <th>20</th>\n      <td>2.048530</td>\n    </tr>\n  </tbody>\n</table>\n</div>"
     },
     "execution_count": 170,
     "metadata": {},
     "output_type": "execute_result"
    }
   ],
   "source": [
    "lcoh_ngr_sensi_P_CCS"
   ],
   "metadata": {
    "collapsed": false,
    "pycharm": {
     "name": "#%%\n"
    }
   }
  },
  {
   "cell_type": "code",
   "execution_count": 171,
   "outputs": [],
   "source": [
    "# Create csv file from results dataframe\n",
    "output_file = os.path.join(path_csv,'lcoh_ngr_sensi_P_CCS_.csv')\n",
    "lcoh_ngr_sensi_P_CCS.to_csv(output_file, sep = ';')"
   ],
   "metadata": {
    "collapsed": false,
    "pycharm": {
     "name": "#%%\n"
    }
   }
  },
  {
   "cell_type": "code",
   "execution_count": 177,
   "outputs": [
    {
     "data": {
      "text/plain": "<Figure size 500x400 with 1 Axes>",
      "image/png": "[encoded data removed]"
     },
     "metadata": {},
     "output_type": "display_data"
    }
   ],
   "source": [
    "import matplotlib.ticker as mtick\n",
    "\n",
    "fig, ax = plt.subplots(figsize=(5,4))\n",
    "#plt.subplot(1,2,1)\n",
    "\n",
    "\n",
    "plt.plot(lcoh_ngr_sensi, color='blue', linestyle='solid', label = 'Gas price')\n",
    "plt.plot(lcoh_ngr_sensi_P_Co2, color='dodgerblue',linestyle='-', label = 'CO2 price')\n",
    "plt.plot(lcoh_ngr_sensi_P_CCS, color='royalblue',linestyle='-', label = 'CCS cost')\n",
    "plt.grid(True, axis='y')\n",
    "plt.grid(True, axis='x')\n",
    "ax.set_axisbelow(True)\n",
    "ax.xaxis.set_major_formatter(mtick.PercentFormatter(10, decimals=None))\n",
    "plt.locator_params(axis='x', nbins=5)\n",
    "plt.ylabel('[€/kg H2]')\n",
    "plt.xlabel('Change')\n",
    "plt.legend()\n",
    "\n",
    "\n",
    "\n",
    "title = 'LCOH_ngr_sensi'\n",
    "plt.savefig(path_plt + title + '.png', transparent=True)\n",
    "\n",
    "plt.show()\n"
   ],
   "metadata": {
    "collapsed": false,
    "pycharm": {
     "name": "#%%\n"
    }
   }
  },
  {
   "cell_type": "code",
   "execution_count": null,
   "outputs": [],
   "source": [
    "\n",
    "plt.ylabel('[€/kg H2]')\n",
    "plt.xlabel('Gas price change')\n",
    "#plt.legend()\n",
    "\n",
    "#Capture rates\n",
    "plt.subplot(1,2,2)\n",
    "plt.plot(capture_sensi, color='blue', linestyle='solid')\n",
    "plt.grid(True, axis='y')\n",
    "ax.set_axisbelow(True)\n",
    "plt.ylabel('[g CO2eq/MJ H2]')\n",
    "plt.xlabel('System capture rate'           )\n",
    "#plt.xticks(np.arange(0.55,0.95, 0.1), ['55%', '60%', '65%', '70%', '75%', '80%', '85%', '90%', '95%'] )\n",
    "plt.xticks(np.arange(0.55,1, 0.1), ['55%',  '65%',  '75%',  '85%',  '95%'] )"
   ],
   "metadata": {
    "collapsed": false,
    "pycharm": {
     "name": "#%%\n"
    }
   }
  },
  {
   "cell_type": "code",
   "execution_count": 57,
   "outputs": [
    {
     "data": {
      "text/plain": "       LCOH_BLUE\nYears           \n2025    2.612169\n2026    2.395326\n2027    2.177129\n2028    1.842590\n2029    1.851663\n2030    1.859383\n2031    1.876455\n2032    1.892105\n2033    1.906331\n2034    1.919129\n2035    1.930499\n2036    1.940435\n2037    1.948938\n2038    1.956003\n2039    1.961630\n2040    1.965815\n2041    1.959990\n2042    1.953312\n2043    1.945780\n2044    1.937391\n2045    1.928144\n2046    1.917532\n2047    1.906101\n2048    1.893850\n2049    1.880778\n2050    1.858450",
      "text/html": "<div>\n<style scoped>\n    .dataframe tbody tr th:only-of-type {\n        vertical-align: middle;\n    }\n\n    .dataframe tbody tr th {\n        vertical-align: top;\n    }\n\n    .dataframe thead th {\n        text-align: right;\n    }\n</style>\n<table border=\"1\" class=\"dataframe\">\n  <thead>\n    <tr style=\"text-align: right;\">\n      <th></th>\n      <th>LCOH_BLUE</th>\n    </tr>\n    <tr>\n      <th>Years</th>\n      <th></th>\n    </tr>\n  </thead>\n  <tbody>\n    <tr>\n      <th>2025</th>\n      <td>2.612169</td>\n    </tr>\n    <tr>\n      <th>2026</th>\n      <td>2.395326</td>\n    </tr>\n    <tr>\n      <th>2027</th>\n      <td>2.177129</td>\n    </tr>\n    <tr>\n      <th>2028</th>\n      <td>1.842590</td>\n    </tr>\n    <tr>\n      <th>2029</th>\n      <td>1.851663</td>\n    </tr>\n    <tr>\n      <th>2030</th>\n      <td>1.859383</td>\n    </tr>\n    <tr>\n      <th>2031</th>\n      <td>1.876455</td>\n    </tr>\n    <tr>\n      <th>2032</th>\n      <td>1.892105</td>\n    </tr>\n    <tr>\n      <th>2033</th>\n      <td>1.906331</td>\n    </tr>\n    <tr>\n      <th>2034</th>\n      <td>1.919129</td>\n    </tr>\n    <tr>\n      <th>2035</th>\n      <td>1.930499</td>\n    </tr>\n    <tr>\n      <th>2036</th>\n      <td>1.940435</td>\n    </tr>\n    <tr>\n      <th>2037</th>\n      <td>1.948938</td>\n    </tr>\n    <tr>\n      <th>2038</th>\n      <td>1.956003</td>\n    </tr>\n    <tr>\n      <th>2039</th>\n      <td>1.961630</td>\n    </tr>\n    <tr>\n      <th>2040</th>\n      <td>1.965815</td>\n    </tr>\n    <tr>\n      <th>2041</th>\n      <td>1.959990</td>\n    </tr>\n    <tr>\n      <th>2042</th>\n      <td>1.953312</td>\n    </tr>\n    <tr>\n      <th>2043</th>\n      <td>1.945780</td>\n    </tr>\n    <tr>\n      <th>2044</th>\n      <td>1.937391</td>\n    </tr>\n    <tr>\n      <th>2045</th>\n      <td>1.928144</td>\n    </tr>\n    <tr>\n      <th>2046</th>\n      <td>1.917532</td>\n    </tr>\n    <tr>\n      <th>2047</th>\n      <td>1.906101</td>\n    </tr>\n    <tr>\n      <th>2048</th>\n      <td>1.893850</td>\n    </tr>\n    <tr>\n      <th>2049</th>\n      <td>1.880778</td>\n    </tr>\n    <tr>\n      <th>2050</th>\n      <td>1.858450</td>\n    </tr>\n  </tbody>\n</table>\n</div>"
     },
     "execution_count": 57,
     "metadata": {},
     "output_type": "execute_result"
    }
   ],
   "source": [
    "lcoh_blue = pd.read_csv(r\"\\\\dena.de\\Daten\\Home\\Reuter\\Desktop\\H2_pathways_repo\\data\\processed\\LCOH_NGR.csv\", delimiter=';', index_col=0)\n",
    "lcoh_blue"
   ],
   "metadata": {
    "collapsed": false,
    "pycharm": {
     "name": "#%%\n"
    }
   }
  },
  {
   "cell_type": "markdown",
   "source": [
    "# Minimal production costs"
   ],
   "metadata": {
    "collapsed": false,
    "pycharm": {
     "name": "#%% md\n"
    }
   }
  },
  {
   "cell_type": "code",
   "execution_count": 54,
   "outputs": [],
   "source": [
    "def choose_minimal_production_costs():\n",
    "    result = min(LCOH_green, LCOH_blue)\n",
    "\n",
    "    return result"
   ],
   "metadata": {
    "collapsed": false,
    "pycharm": {
     "name": "#%%\n"
    }
   }
  },
  {
   "cell_type": "code",
   "execution_count": 55,
   "outputs": [],
   "source": [
    "def choose_minimal_production_cost_technology():\n",
    "    if min(LCOH_green, LCOH_blue) == LCOH_green:\n",
    "        result = 'Green'\n",
    "    else:\n",
    "        result = 'Blue'\n",
    "\n",
    "    return result"
   ],
   "metadata": {
    "collapsed": false,
    "pycharm": {
     "name": "#%%\n"
    }
   }
  },
  {
   "cell_type": "code",
   "execution_count": 58,
   "outputs": [
    {
     "data": {
      "text/plain": "      Minimal_production_costs Technology\nYears                                    \n2025                  2.491992      Green\n2026                  2.395326       Blue\n2027                  2.177129       Blue\n2028                   1.84259       Blue\n2029                  1.851663       Blue\n2030                  1.859383       Blue\n2031                  1.876455       Blue\n2032                  1.892105       Blue\n2033                  1.906331       Blue\n2034                  1.919129       Blue\n2035                  1.930499       Blue\n2036                  1.940435       Blue\n2037                  1.945128      Green\n2038                  1.908208      Green\n2039                  1.871112      Green\n2040                  1.834076      Green\n2041                  1.801782      Green\n2042                  1.770822      Green\n2043                  1.740567      Green\n2044                  1.714207      Green\n2045                  1.659565      Green\n2046                   1.62742      Green\n2047                  1.596338      Green\n2048                  1.566225      Green\n2049                  1.536996      Green\n2050                   1.50858      Green",
      "text/html": "<div>\n<style scoped>\n    .dataframe tbody tr th:only-of-type {\n        vertical-align: middle;\n    }\n\n    .dataframe tbody tr th {\n        vertical-align: top;\n    }\n\n    .dataframe thead th {\n        text-align: right;\n    }\n</style>\n<table border=\"1\" class=\"dataframe\">\n  <thead>\n    <tr style=\"text-align: right;\">\n      <th></th>\n      <th>Minimal_production_costs</th>\n      <th>Technology</th>\n    </tr>\n    <tr>\n      <th>Years</th>\n      <th></th>\n      <th></th>\n    </tr>\n  </thead>\n  <tbody>\n    <tr>\n      <th>2025</th>\n      <td>2.491992</td>\n      <td>Green</td>\n    </tr>\n    <tr>\n      <th>2026</th>\n      <td>2.395326</td>\n      <td>Blue</td>\n    </tr>\n    <tr>\n      <th>2027</th>\n      <td>2.177129</td>\n      <td>Blue</td>\n    </tr>\n    <tr>\n      <th>2028</th>\n      <td>1.84259</td>\n      <td>Blue</td>\n    </tr>\n    <tr>\n      <th>2029</th>\n      <td>1.851663</td>\n      <td>Blue</td>\n    </tr>\n    <tr>\n      <th>2030</th>\n      <td>1.859383</td>\n      <td>Blue</td>\n    </tr>\n    <tr>\n      <th>2031</th>\n      <td>1.876455</td>\n      <td>Blue</td>\n    </tr>\n    <tr>\n      <th>2032</th>\n      <td>1.892105</td>\n      <td>Blue</td>\n    </tr>\n    <tr>\n      <th>2033</th>\n      <td>1.906331</td>\n      <td>Blue</td>\n    </tr>\n    <tr>\n      <th>2034</th>\n      <td>1.919129</td>\n      <td>Blue</td>\n    </tr>\n    <tr>\n      <th>2035</th>\n      <td>1.930499</td>\n      <td>Blue</td>\n    </tr>\n    <tr>\n      <th>2036</th>\n      <td>1.940435</td>\n      <td>Blue</td>\n    </tr>\n    <tr>\n      <th>2037</th>\n      <td>1.945128</td>\n      <td>Green</td>\n    </tr>\n    <tr>\n      <th>2038</th>\n      <td>1.908208</td>\n      <td>Green</td>\n    </tr>\n    <tr>\n      <th>2039</th>\n      <td>1.871112</td>\n      <td>Green</td>\n    </tr>\n    <tr>\n      <th>2040</th>\n      <td>1.834076</td>\n      <td>Green</td>\n    </tr>\n    <tr>\n      <th>2041</th>\n      <td>1.801782</td>\n      <td>Green</td>\n    </tr>\n    <tr>\n      <th>2042</th>\n      <td>1.770822</td>\n      <td>Green</td>\n    </tr>\n    <tr>\n      <th>2043</th>\n      <td>1.740567</td>\n      <td>Green</td>\n    </tr>\n    <tr>\n      <th>2044</th>\n      <td>1.714207</td>\n      <td>Green</td>\n    </tr>\n    <tr>\n      <th>2045</th>\n      <td>1.659565</td>\n      <td>Green</td>\n    </tr>\n    <tr>\n      <th>2046</th>\n      <td>1.62742</td>\n      <td>Green</td>\n    </tr>\n    <tr>\n      <th>2047</th>\n      <td>1.596338</td>\n      <td>Green</td>\n    </tr>\n    <tr>\n      <th>2048</th>\n      <td>1.566225</td>\n      <td>Green</td>\n    </tr>\n    <tr>\n      <th>2049</th>\n      <td>1.536996</td>\n      <td>Green</td>\n    </tr>\n    <tr>\n      <th>2050</th>\n      <td>1.50858</td>\n      <td>Green</td>\n    </tr>\n  </tbody>\n</table>\n</div>"
     },
     "execution_count": 58,
     "metadata": {},
     "output_type": "execute_result"
    }
   ],
   "source": [
    "years = np.arange(2025, 2051)\n",
    "result = pd.DataFrame(index=years, columns=['Minimal_production_costs', 'Technology'])\n",
    "result.index.name = 'Years'\n",
    "for year in years:\n",
    "    # get all costs\n",
    "\n",
    "    LCOH_green = float(lowest_green.loc[year]['Norway_Onshore_2_low_temp_optimistic'])\n",
    "    LCOH_blue = float(lcoh_blue.loc[year]['LCOH_BLUE'])\n",
    "\n",
    "    # calculate costs of specific year\n",
    "    result.Minimal_production_costs.loc[year] = choose_minimal_production_costs()\n",
    "    result.Technology.loc[year] = choose_minimal_production_cost_technology()\n",
    "\n",
    "result"
   ],
   "metadata": {
    "collapsed": false,
    "pycharm": {
     "name": "#%%\n"
    }
   }
  },
  {
   "cell_type": "code",
   "execution_count": 61,
   "outputs": [],
   "source": [
    "min_prod_cost = result"
   ],
   "metadata": {
    "collapsed": false,
    "pycharm": {
     "name": "#%%\n"
    }
   }
  },
  {
   "cell_type": "code",
   "execution_count": 34,
   "outputs": [
    {
     "name": "stderr",
     "output_type": "stream",
     "text": [
      "C:\\Users\\REUTER\\AppData\\Local\\Temp\\ipykernel_13676\\789380861.py:4: FutureWarning: Setting the `book` attribute is not part of the public API, usage can give unexpected or corrupted results and will be removed in a future version\n",
      "  writer.book = book\n"
     ]
    }
   ],
   "source": [
    " # export result to excel\n",
    "writer = pd.ExcelWriter(path, engine='openpyxl', mode='a', if_sheet_exists='overlay')\n",
    "book = load_workbook(path)\n",
    "writer.book = book\n",
    "#writer.sheets = dict((ws.title, ws) for ws in book.worksheets)\n",
    "\n",
    "ws = book['Reference Results']\n",
    "\n",
    "result.to_excel(writer, sheet_name='Reference Results', index=False, startcol=ws.max_column)\n",
    "book.save(path)\n",
    "book.close()"
   ],
   "metadata": {
    "collapsed": false,
    "pycharm": {
     "name": "#%%\n"
    }
   }
  },
  {
   "cell_type": "code",
   "execution_count": 60,
   "outputs": [],
   "source": [
    "# Create csv file from results dataframe\n",
    "output_file = os.path.join(path_csv, 'Minimal_production_costs_technology.csv')\n",
    "result.to_csv(output_file, sep=';')"
   ],
   "metadata": {
    "collapsed": false,
    "pycharm": {
     "name": "#%%\n"
    }
   }
  },
  {
   "cell_type": "code",
   "execution_count": 39,
   "outputs": [],
   "source": [
    "years = np.arange(2025, 2051)\n",
    "result = pd.DataFrame(index=years, columns=['Minimal_production_costs'])\n",
    "result.index.name = 'Years'"
   ],
   "metadata": {
    "collapsed": false,
    "pycharm": {
     "name": "#%%\n"
    }
   }
  },
  {
   "cell_type": "code",
   "execution_count": 53,
   "outputs": [
    {
     "ename": "NameError",
     "evalue": "name 'lcoh_blue' is not defined",
     "output_type": "error",
     "traceback": [
      "\u001B[1;31m---------------------------------------------------------------------------\u001B[0m",
      "\u001B[1;31mNameError\u001B[0m                                 Traceback (most recent call last)",
      "Cell \u001B[1;32mIn [53], line 5\u001B[0m\n\u001B[0;32m      1\u001B[0m \u001B[38;5;28;01mfor\u001B[39;00m year \u001B[38;5;129;01min\u001B[39;00m years:\n\u001B[0;32m      2\u001B[0m     \u001B[38;5;66;03m# get all costs\u001B[39;00m\n\u001B[0;32m      4\u001B[0m     LCOH_green \u001B[38;5;241m=\u001B[39m \u001B[38;5;28mfloat\u001B[39m(lowest_green\u001B[38;5;241m.\u001B[39mloc[year][\u001B[38;5;124m'\u001B[39m\u001B[38;5;124mNorway_Onshore_2_low_temp_optimistic\u001B[39m\u001B[38;5;124m'\u001B[39m])\n\u001B[1;32m----> 5\u001B[0m     LCOH_blue \u001B[38;5;241m=\u001B[39m \u001B[38;5;28mfloat\u001B[39m(\u001B[43mlcoh_blue\u001B[49m\u001B[38;5;241m.\u001B[39mloc[year][\u001B[38;5;124m'\u001B[39m\u001B[38;5;124mLCOH_BLUE\u001B[39m\u001B[38;5;124m'\u001B[39m])\n\u001B[0;32m      7\u001B[0m     \u001B[38;5;66;03m# calculate costs of specific year\u001B[39;00m\n\u001B[0;32m      8\u001B[0m     result\u001B[38;5;241m.\u001B[39mMinimal_production_costs\u001B[38;5;241m.\u001B[39mloc[year] \u001B[38;5;241m=\u001B[39m choose_minimal_production_costs()\n",
      "\u001B[1;31mNameError\u001B[0m: name 'lcoh_blue' is not defined"
     ]
    }
   ],
   "source": [
    "for year in years:\n",
    "    # get all costs\n",
    "\n",
    "    LCOH_green = float(lowest_green.loc[year]['Norway_Onshore_2_low_temp_optimistic'])\n",
    "    LCOH_blue = float(lcoh_blue.loc[year]['LCOH_BLUE'])\n",
    "\n",
    "    # calculate costs of specific year\n",
    "    result.Minimal_production_costs.loc[year] = choose_minimal_production_costs()\n",
    "\n",
    "\n",
    "\n",
    "result"
   ],
   "metadata": {
    "collapsed": false,
    "pycharm": {
     "name": "#%%\n"
    }
   }
  },
  {
   "cell_type": "code",
   "execution_count": 41,
   "outputs": [],
   "source": [
    "# Create csv file from results dataframe\n",
    "output_file = os.path.join(path_csv, 'Minimal_production_costs.csv')\n",
    "result.to_csv(output_file, sep=';')"
   ],
   "metadata": {
    "collapsed": false,
    "pycharm": {
     "name": "#%%\n"
    }
   }
  },
  {
   "cell_type": "markdown",
   "source": [
    "## Plot production costs"
   ],
   "metadata": {
    "collapsed": false,
    "pycharm": {
     "name": "#%% md\n"
    }
   }
  },
  {
   "cell_type": "code",
   "execution_count": 41,
   "outputs": [],
   "source": [],
   "metadata": {
    "collapsed": false,
    "pycharm": {
     "name": "#%%\n"
    }
   }
  },
  {
   "cell_type": "code",
   "execution_count": 42,
   "outputs": [
    {
     "ename": "TypeError",
     "evalue": "xticks(): Parameter 'labels' can't be set without setting 'ticks'",
     "output_type": "error",
     "traceback": [
      "\u001B[1;31m---------------------------------------------------------------------------\u001B[0m",
      "\u001B[1;31mTypeError\u001B[0m                                 Traceback (most recent call last)",
      "Cell \u001B[1;32mIn [42], line 11\u001B[0m\n\u001B[0;32m      9\u001B[0m ax\u001B[38;5;241m.\u001B[39mlegend()\n\u001B[0;32m     10\u001B[0m plt\u001B[38;5;241m.\u001B[39mylabel(\u001B[38;5;124m'\u001B[39m\u001B[38;5;124m[€/kg H2]\u001B[39m\u001B[38;5;124m'\u001B[39m, fontweight\u001B[38;5;241m=\u001B[39m\u001B[38;5;124m'\u001B[39m\u001B[38;5;124mbold\u001B[39m\u001B[38;5;124m'\u001B[39m)\n\u001B[1;32m---> 11\u001B[0m \u001B[43mplt\u001B[49m\u001B[38;5;241;43m.\u001B[39;49m\u001B[43mxticks\u001B[49m\u001B[43m(\u001B[49m\u001B[43mticks\u001B[49m\u001B[38;5;241;43m=\u001B[39;49m\u001B[38;5;28;43;01mNone\u001B[39;49;00m\u001B[43m,\u001B[49m\u001B[43m \u001B[49m\u001B[43mlabels\u001B[49m\u001B[38;5;241;43m=\u001B[39;49m\u001B[43mnp\u001B[49m\u001B[38;5;241;43m.\u001B[39;49m\u001B[43marange\u001B[49m\u001B[43m(\u001B[49m\u001B[38;5;241;43m2025\u001B[39;49m\u001B[43m,\u001B[49m\u001B[38;5;241;43m2051\u001B[39;49m\u001B[43m,\u001B[49m\u001B[38;5;241;43m5\u001B[39;49m\u001B[43m)\u001B[49m\u001B[43m)\u001B[49m\n\u001B[0;32m     13\u001B[0m title \u001B[38;5;241m=\u001B[39m \u001B[38;5;124m'\u001B[39m\u001B[38;5;124mGreen_and_blue_costs\u001B[39m\u001B[38;5;124m'\u001B[39m\n\u001B[0;32m     14\u001B[0m plt\u001B[38;5;241m.\u001B[39msavefig(path_plt\u001B[38;5;241m+\u001B[39mtitle\u001B[38;5;241m+\u001B[39m\u001B[38;5;124m'\u001B[39m\u001B[38;5;124m.png\u001B[39m\u001B[38;5;124m'\u001B[39m, transparent \u001B[38;5;241m=\u001B[39m \u001B[38;5;28;01mTrue\u001B[39;00m)\n",
      "File \u001B[1;32m~\\Miniconda3\\envs\\Desktop\\lib\\site-packages\\matplotlib\\pyplot.py:1804\u001B[0m, in \u001B[0;36mxticks\u001B[1;34m(ticks, labels, **kwargs)\u001B[0m\n\u001B[0;32m   1802\u001B[0m     locs \u001B[38;5;241m=\u001B[39m ax\u001B[38;5;241m.\u001B[39mget_xticks()\n\u001B[0;32m   1803\u001B[0m     \u001B[38;5;28;01mif\u001B[39;00m labels \u001B[38;5;129;01mis\u001B[39;00m \u001B[38;5;129;01mnot\u001B[39;00m \u001B[38;5;28;01mNone\u001B[39;00m:\n\u001B[1;32m-> 1804\u001B[0m         \u001B[38;5;28;01mraise\u001B[39;00m \u001B[38;5;167;01mTypeError\u001B[39;00m(\u001B[38;5;124m\"\u001B[39m\u001B[38;5;124mxticks(): Parameter \u001B[39m\u001B[38;5;124m'\u001B[39m\u001B[38;5;124mlabels\u001B[39m\u001B[38;5;124m'\u001B[39m\u001B[38;5;124m can\u001B[39m\u001B[38;5;124m'\u001B[39m\u001B[38;5;124mt be set \u001B[39m\u001B[38;5;124m\"\u001B[39m\n\u001B[0;32m   1805\u001B[0m                         \u001B[38;5;124m\"\u001B[39m\u001B[38;5;124mwithout setting \u001B[39m\u001B[38;5;124m'\u001B[39m\u001B[38;5;124mticks\u001B[39m\u001B[38;5;124m'\u001B[39m\u001B[38;5;124m\"\u001B[39m)\n\u001B[0;32m   1806\u001B[0m \u001B[38;5;28;01melse\u001B[39;00m:\n\u001B[0;32m   1807\u001B[0m     locs \u001B[38;5;241m=\u001B[39m ax\u001B[38;5;241m.\u001B[39mset_xticks(ticks)\n",
      "\u001B[1;31mTypeError\u001B[0m: xticks(): Parameter 'labels' can't be set without setting 'ticks'"
     ]
    },
    {
     "data": {
      "text/plain": "<Figure size 1000x600 with 1 Axes>",
      "image/png": "[encoded data removed]"
     },
     "metadata": {},
     "output_type": "display_data"
    }
   ],
   "source": [
    "# Plot cost curves of hydrogen production from NGR with CCS and RES\n",
    "fig, ax = plt.subplots(figsize=(10, 6))\n",
    "\n",
    "plt.plot(lowest_green, color='green', linestyle='solid', label='Green hydrogen')\n",
    "plt.plot(lcoh_blue, color='blue', linestyle='solid', label='Blue hydrogen')\n",
    "plt.grid(True, axis='y')\n",
    "ax.set_axisbelow(True)\n",
    "#plt.title('Cost curves for green and blue hydrogen production', fontweight='bold')\n",
    "ax.legend()\n",
    "plt.ylabel('[€/kg H2]', fontweight='bold')\n",
    "plt.xticks(ticks=None, labels=np.arange(2025,2051,5))\n",
    "\n",
    "title = 'Green_and_blue_costs'\n",
    "plt.savefig(path_plt+title+'.png', transparent = True)\n",
    "\n",
    "\n",
    "plt.show()"
   ],
   "metadata": {
    "collapsed": false,
    "pycharm": {
     "name": "#%%\n"
    }
   }
  },
  {
   "cell_type": "code",
   "execution_count": null,
   "outputs": [],
   "source": [
    "# Plot cost curve for production costst\n",
    "fig, ax = plt.subplots(figsize=(10,6))\n",
    "plt.grid(True, axis = 'y')\n",
    "ax.set_axisbelow(True)\n",
    "plt.plot(result, color='black', linestyle='solid')\n",
    "plt.title('Minimal production costs in €/kg_H2')\n",
    "plt.xlabel('Year')\n",
    "plt.ylabel('Cost')\n",
    "plt.show()"
   ],
   "metadata": {
    "collapsed": false,
    "pycharm": {
     "name": "#%%\n"
    }
   }
  },
  {
   "cell_type": "markdown",
   "source": [
    "# Respective production emissions"
   ],
   "metadata": {
    "collapsed": false,
    "pycharm": {
     "name": "#%% md\n"
    }
   }
  },
  {
   "cell_type": "code",
   "execution_count": 65,
   "outputs": [
    {
     "data": {
      "text/plain": "      Emissions\nYears          \n2025     4.7514\n2026    4.64568\n2027    4.53996\n2028    4.43424\n2029    4.32852\n2030     4.2228\n2031    4.11708\n2032    4.01136\n2033    3.90564\n2034    3.79992\n2035     3.6942\n2036    3.58848\n2037    3.48276\n2038    3.37704\n2039    3.27132\n2040     3.1656\n2041    3.05988\n2042    2.95416\n2043    2.84844\n2044    2.74272\n2045      2.637\n2046    2.53128\n2047    2.42556\n2048    2.31984\n2049    2.21412\n2050     2.1084",
      "text/html": "<div>\n<style scoped>\n    .dataframe tbody tr th:only-of-type {\n        vertical-align: middle;\n    }\n\n    .dataframe tbody tr th {\n        vertical-align: top;\n    }\n\n    .dataframe thead th {\n        text-align: right;\n    }\n</style>\n<table border=\"1\" class=\"dataframe\">\n  <thead>\n    <tr style=\"text-align: right;\">\n      <th></th>\n      <th>Emissions</th>\n    </tr>\n    <tr>\n      <th>Years</th>\n      <th></th>\n    </tr>\n  </thead>\n  <tbody>\n    <tr>\n      <th>2025</th>\n      <td>4.7514</td>\n    </tr>\n    <tr>\n      <th>2026</th>\n      <td>4.64568</td>\n    </tr>\n    <tr>\n      <th>2027</th>\n      <td>4.53996</td>\n    </tr>\n    <tr>\n      <th>2028</th>\n      <td>4.43424</td>\n    </tr>\n    <tr>\n      <th>2029</th>\n      <td>4.32852</td>\n    </tr>\n    <tr>\n      <th>2030</th>\n      <td>4.2228</td>\n    </tr>\n    <tr>\n      <th>2031</th>\n      <td>4.11708</td>\n    </tr>\n    <tr>\n      <th>2032</th>\n      <td>4.01136</td>\n    </tr>\n    <tr>\n      <th>2033</th>\n      <td>3.90564</td>\n    </tr>\n    <tr>\n      <th>2034</th>\n      <td>3.79992</td>\n    </tr>\n    <tr>\n      <th>2035</th>\n      <td>3.6942</td>\n    </tr>\n    <tr>\n      <th>2036</th>\n      <td>3.58848</td>\n    </tr>\n    <tr>\n      <th>2037</th>\n      <td>3.48276</td>\n    </tr>\n    <tr>\n      <th>2038</th>\n      <td>3.37704</td>\n    </tr>\n    <tr>\n      <th>2039</th>\n      <td>3.27132</td>\n    </tr>\n    <tr>\n      <th>2040</th>\n      <td>3.1656</td>\n    </tr>\n    <tr>\n      <th>2041</th>\n      <td>3.05988</td>\n    </tr>\n    <tr>\n      <th>2042</th>\n      <td>2.95416</td>\n    </tr>\n    <tr>\n      <th>2043</th>\n      <td>2.84844</td>\n    </tr>\n    <tr>\n      <th>2044</th>\n      <td>2.74272</td>\n    </tr>\n    <tr>\n      <th>2045</th>\n      <td>2.637</td>\n    </tr>\n    <tr>\n      <th>2046</th>\n      <td>2.53128</td>\n    </tr>\n    <tr>\n      <th>2047</th>\n      <td>2.42556</td>\n    </tr>\n    <tr>\n      <th>2048</th>\n      <td>2.31984</td>\n    </tr>\n    <tr>\n      <th>2049</th>\n      <td>2.21412</td>\n    </tr>\n    <tr>\n      <th>2050</th>\n      <td>2.1084</td>\n    </tr>\n  </tbody>\n</table>\n</div>"
     },
     "execution_count": 65,
     "metadata": {},
     "output_type": "execute_result"
    }
   ],
   "source": [
    "blue_emissions = pd.DataFrame(GHG.loc['Blue hydrogen emissions [kg CO2/kg H2] - Norway', 2025:2050])\n",
    "blue_emissions.index.name = 'Years'\n",
    "blue_emissions.columns= ['Emissions']\n",
    "blue_emissions"
   ],
   "metadata": {
    "collapsed": false,
    "pycharm": {
     "name": "#%%\n"
    }
   }
  },
  {
   "cell_type": "markdown",
   "source": [
    "\n",
    "Emissions from blue hydrogen including h2 leakage\n",
    "result = x.add(1*blue_prod_leakage*GWP20_H2)\n",
    "result"
   ],
   "metadata": {
    "collapsed": false,
    "pycharm": {
     "name": "#%% md\n"
    }
   }
  },
  {
   "cell_type": "code",
   "execution_count": null,
   "outputs": [],
   "source": [
    "# Create csv file from results dataframe\n",
    "path_csv = r'/Users/jakob/PycharmProjects/H2_pathways_repo/data/processed'\n",
    "output_file = os.path.join(path_csv, 'Blue_production_emissions_H2_leakage.csv')\n",
    "result.to_csv(output_file, sep=';')"
   ],
   "metadata": {
    "collapsed": false,
    "pycharm": {
     "name": "#%%\n"
    }
   }
  },
  {
   "cell_type": "code",
   "execution_count": null,
   "outputs": [],
   "source": [
    "# export result to excel\n",
    "writer = pd.ExcelWriter(path, engine='openpyxl', mode='a', if_sheet_exists='overlay')\n",
    "book = load_workbook(path)\n",
    "writer.book = book\n",
    "writer.sheets = dict((ws.title, ws) for ws in book.worksheets)\n",
    "\n",
    "ws = book['Reference Results']\n",
    "\n",
    "result.to_excel(writer, sheet_name='Reference Results', index=False, startcol=ws.max_column)\n",
    "book.save(path)\n",
    "book.close()"
   ],
   "metadata": {
    "collapsed": false,
    "pycharm": {
     "name": "#%%\n"
    }
   }
  },
  {
   "cell_type": "code",
   "execution_count": null,
   "outputs": [],
   "source": [
    "#Green_production_emissions = pd.read_csv('/Users/jakob/PycharmProjects/H2_pathways_repo/data/processed/Green_production_emissions.csv', delimiter = ';', index_col=0)\n",
    "Green_production_emissions"
   ],
   "metadata": {
    "collapsed": false,
    "pycharm": {
     "name": "#%%\n"
    }
   }
  },
  {
   "cell_type": "code",
   "execution_count": 90,
   "outputs": [
    {
     "data": {
      "text/plain": "       Minimal_production_costs Technology\nYears                                     \n2025                   2.491992      Green\n2026                   2.373447       Blue\n2027                   2.155720       Blue\n2028                   1.821652       Blue\n2029                   1.831196       Blue\n2030                   1.839387       Blue\n2031                   1.856517       Blue\n2032                   1.872223       Blue\n2033                   1.886502       Blue\n2034                   1.899351       Blue\n2035                   1.910768       Blue\n2036                   1.920750       Blue\n2037                   1.929296       Blue\n2038                   1.908208      Green\n2039                   1.871112      Green\n2040                   1.834076      Green\n2041                   1.801782      Green\n2042                   1.770822      Green\n2043                   1.740567      Green\n2044                   1.714207      Green\n2045                   1.659565      Green\n2046                   1.627420      Green\n2047                   1.596338      Green\n2048                   1.566225      Green\n2049                   1.536996      Green\n2050                   1.508580      Green",
      "text/html": "<div>\n<style scoped>\n    .dataframe tbody tr th:only-of-type {\n        vertical-align: middle;\n    }\n\n    .dataframe tbody tr th {\n        vertical-align: top;\n    }\n\n    .dataframe thead th {\n        text-align: right;\n    }\n</style>\n<table border=\"1\" class=\"dataframe\">\n  <thead>\n    <tr style=\"text-align: right;\">\n      <th></th>\n      <th>Minimal_production_costs</th>\n      <th>Technology</th>\n    </tr>\n    <tr>\n      <th>Years</th>\n      <th></th>\n      <th></th>\n    </tr>\n  </thead>\n  <tbody>\n    <tr>\n      <th>2025</th>\n      <td>2.491992</td>\n      <td>Green</td>\n    </tr>\n    <tr>\n      <th>2026</th>\n      <td>2.373447</td>\n      <td>Blue</td>\n    </tr>\n    <tr>\n      <th>2027</th>\n      <td>2.155720</td>\n      <td>Blue</td>\n    </tr>\n    <tr>\n      <th>2028</th>\n      <td>1.821652</td>\n      <td>Blue</td>\n    </tr>\n    <tr>\n      <th>2029</th>\n      <td>1.831196</td>\n      <td>Blue</td>\n    </tr>\n    <tr>\n      <th>2030</th>\n      <td>1.839387</td>\n      <td>Blue</td>\n    </tr>\n    <tr>\n      <th>2031</th>\n      <td>1.856517</td>\n      <td>Blue</td>\n    </tr>\n    <tr>\n      <th>2032</th>\n      <td>1.872223</td>\n      <td>Blue</td>\n    </tr>\n    <tr>\n      <th>2033</th>\n      <td>1.886502</td>\n      <td>Blue</td>\n    </tr>\n    <tr>\n      <th>2034</th>\n      <td>1.899351</td>\n      <td>Blue</td>\n    </tr>\n    <tr>\n      <th>2035</th>\n      <td>1.910768</td>\n      <td>Blue</td>\n    </tr>\n    <tr>\n      <th>2036</th>\n      <td>1.920750</td>\n      <td>Blue</td>\n    </tr>\n    <tr>\n      <th>2037</th>\n      <td>1.929296</td>\n      <td>Blue</td>\n    </tr>\n    <tr>\n      <th>2038</th>\n      <td>1.908208</td>\n      <td>Green</td>\n    </tr>\n    <tr>\n      <th>2039</th>\n      <td>1.871112</td>\n      <td>Green</td>\n    </tr>\n    <tr>\n      <th>2040</th>\n      <td>1.834076</td>\n      <td>Green</td>\n    </tr>\n    <tr>\n      <th>2041</th>\n      <td>1.801782</td>\n      <td>Green</td>\n    </tr>\n    <tr>\n      <th>2042</th>\n      <td>1.770822</td>\n      <td>Green</td>\n    </tr>\n    <tr>\n      <th>2043</th>\n      <td>1.740567</td>\n      <td>Green</td>\n    </tr>\n    <tr>\n      <th>2044</th>\n      <td>1.714207</td>\n      <td>Green</td>\n    </tr>\n    <tr>\n      <th>2045</th>\n      <td>1.659565</td>\n      <td>Green</td>\n    </tr>\n    <tr>\n      <th>2046</th>\n      <td>1.627420</td>\n      <td>Green</td>\n    </tr>\n    <tr>\n      <th>2047</th>\n      <td>1.596338</td>\n      <td>Green</td>\n    </tr>\n    <tr>\n      <th>2048</th>\n      <td>1.566225</td>\n      <td>Green</td>\n    </tr>\n    <tr>\n      <th>2049</th>\n      <td>1.536996</td>\n      <td>Green</td>\n    </tr>\n    <tr>\n      <th>2050</th>\n      <td>1.508580</td>\n      <td>Green</td>\n    </tr>\n  </tbody>\n</table>\n</div>"
     },
     "execution_count": 90,
     "metadata": {},
     "output_type": "execute_result"
    }
   ],
   "source": [
    "min_prod_cost = pd.read_csv(r\"\\\\dena.de\\Daten\\Home\\Reuter\\Desktop\\H2_pathways_repo\\data\\processed\\Minimal_production_costs_technology.csv\", delimiter = ';', index_col=0)\n",
    "min_prod_cost"
   ],
   "metadata": {
    "collapsed": false,
    "pycharm": {
     "name": "#%%\n"
    }
   }
  },
  {
   "cell_type": "code",
   "execution_count": 66,
   "outputs": [],
   "source": [
    "years = np.arange(2025, 2051)\n",
    "emissions = []\n",
    "def append_emissions():\n",
    "    for year in years:\n",
    "\n",
    "        if min_prod_cost.loc[year]['Technology'] == 'Green':\n",
    "            result = 0\n",
    "        else:\n",
    "            result = blue_emissions.loc[year]['Emissions']\n",
    "\n",
    "        emissions.append(result)\n",
    "\n",
    "    return emissions"
   ],
   "metadata": {
    "collapsed": false,
    "pycharm": {
     "name": "#%%\n"
    }
   }
  },
  {
   "cell_type": "code",
   "execution_count": 67,
   "outputs": [
    {
     "data": {
      "text/plain": "[0,\n 4.6456800000000005,\n 4.53996,\n 4.43424,\n 4.328519999999999,\n 4.222799999999999,\n 4.11708,\n 4.01136,\n 3.9056399999999996,\n 3.7999199999999997,\n 3.6942,\n 3.5884799999999997,\n 0,\n 0,\n 0,\n 0,\n 0,\n 0,\n 0,\n 0,\n 0,\n 0,\n 0,\n 0,\n 0,\n 0]"
     },
     "execution_count": 67,
     "metadata": {},
     "output_type": "execute_result"
    }
   ],
   "source": [
    "append_emissions()"
   ],
   "metadata": {
    "collapsed": false,
    "pycharm": {
     "name": "#%%\n"
    }
   }
  },
  {
   "cell_type": "code",
   "execution_count": 68,
   "outputs": [
    {
     "name": "stdout",
     "output_type": "stream",
     "text": [
      "Stored 'min_prod_cost' (DataFrame)\n"
     ]
    }
   ],
   "source": [
    "min_prod_cost_emissions = min_prod_cost['Emissions'] = emissions\n",
    "min_prod_cost\n",
    "%store min_prod_cost"
   ],
   "metadata": {
    "collapsed": false,
    "pycharm": {
     "name": "#%%\n"
    }
   }
  },
  {
   "cell_type": "code",
   "execution_count": 97,
   "outputs": [],
   "source": [
    "# Create csv file from results dataframe\n",
    "output_file = os.path.join(path_csv, 'min_prod_cost_emissions.csv')\n",
    "min_prod_cost.to_csv(output_file, sep=';')"
   ],
   "metadata": {
    "collapsed": false,
    "pycharm": {
     "name": "#%%\n"
    }
   }
  },
  {
   "cell_type": "markdown",
   "source": [
    "# Transport inputs"
   ],
   "metadata": {
    "collapsed": false,
    "pycharm": {
     "name": "#%% md\n"
    }
   }
  },
  {
   "cell_type": "code",
   "execution_count": 69,
   "outputs": [
    {
     "data": {
      "text/plain": "                                                      Value  \\\nParameter                                                     \nWACC [%]                                               0.08   \nNaN                                                     NaN   \nAverage exchange rate 2022 [€/$]                     0.9462   \nAverage exchange rate 2021 [€/$]                     0.8458   \nAverage exchange rate 2020 [€/$]                     0.877    \nAverage exchange rate 2019 [€/$]                     0.8931   \nAverage exchange rate 2018 [€/$]                     0.8475   \nAverage exchange rate in 2018 [GBP/EUR]              1.1301   \nNaN                                                     NaN   \nTechnology availability                                2022   \nNew H2 pipeline - time from FID to commissionin...        7   \nRetrofit H2 pipeline - availability from now [y...       13   \nNG pipeline - time from FID to commissioning [y...        7   \nNew CO2 pipeline - time from FID to commissioni...        7   \nLH2 shipping - availability                               3   \nAmmonia shipping - availability                           3   \n\n                                                                                                  Ref  \\\nParameter                                                                                               \nWACC [%]                                                                                          NaN   \nNaN                                                                                               NaN   \nAverage exchange rate 2022 [€/$]                    https://www.exchangerates.org.uk/USD-EUR-spot-...   \nAverage exchange rate 2021 [€/$]                    https://www.exchangerates.org.uk/USD-EUR-spot-...   \nAverage exchange rate 2020 [€/$]                                                                  NaN   \nAverage exchange rate 2019 [€/$]                    https://www.exchangerates.org.uk/USD-EUR-spot-...   \nAverage exchange rate 2018 [€/$]                    https://www.exchangerates.org.uk/USD-EUR-spot-...   \nAverage exchange rate in 2018 [GBP/EUR]             https://www.exchangerates.org.uk/GBP-EUR-spot-...   \nNaN                                                                                               NaN   \nTechnology availability                                                                           NaN   \nNew H2 pipeline - time from FID to commissionin...                                                NaN   \nRetrofit H2 pipeline - availability from now [y...                                                NaN   \nNG pipeline - time from FID to commissioning [y...                                                NaN   \nNew CO2 pipeline - time from FID to commissioni...                                                NaN   \nLH2 shipping - availability                                                                       NaN   \nAmmonia shipping - availability                                   Expert interviews Uniper and TES H2   \n\n                                                                                              Comment  \nParameter                                                                                              \nWACC [%]                                                                                          NaN  \nNaN                                                                                               NaN  \nAverage exchange rate 2022 [€/$]                                                                  NaN  \nAverage exchange rate 2021 [€/$]                                                                  NaN  \nAverage exchange rate 2020 [€/$]                                                                  NaN  \nAverage exchange rate 2019 [€/$]                                                                  NaN  \nAverage exchange rate 2018 [€/$]                                                                  NaN  \nAverage exchange rate in 2018 [GBP/EUR]                                                           NaN  \nNaN                                                                                               NaN  \nTechnology availability                             both say FID to COD of 3 years for terminals, ...  \nNew H2 pipeline - time from FID to commissionin...                                                NaN  \nRetrofit H2 pipeline - availability from now [y...                        free NG pipelines available  \nNG pipeline - time from FID to commissioning [y...                                                NaN  \nNew CO2 pipeline - time from FID to commissioni...                                                NaN  \nLH2 shipping - availability                                          time to build ship and terminals  \nAmmonia shipping - availability                                                                   NaN  ",
      "text/html": "<div>\n<style scoped>\n    .dataframe tbody tr th:only-of-type {\n        vertical-align: middle;\n    }\n\n    .dataframe tbody tr th {\n        vertical-align: top;\n    }\n\n    .dataframe thead th {\n        text-align: right;\n    }\n</style>\n<table border=\"1\" class=\"dataframe\">\n  <thead>\n    <tr style=\"text-align: right;\">\n      <th></th>\n      <th>Value</th>\n      <th>Ref</th>\n      <th>Comment</th>\n    </tr>\n    <tr>\n      <th>Parameter</th>\n      <th></th>\n      <th></th>\n      <th></th>\n    </tr>\n  </thead>\n  <tbody>\n    <tr>\n      <th>WACC [%]</th>\n      <td>0.08</td>\n      <td>NaN</td>\n      <td>NaN</td>\n    </tr>\n    <tr>\n      <th>NaN</th>\n      <td>NaN</td>\n      <td>NaN</td>\n      <td>NaN</td>\n    </tr>\n    <tr>\n      <th>Average exchange rate 2022 [€/$]</th>\n      <td>0.9462</td>\n      <td>https://www.exchangerates.org.uk/USD-EUR-spot-...</td>\n      <td>NaN</td>\n    </tr>\n    <tr>\n      <th>Average exchange rate 2021 [€/$]</th>\n      <td>0.8458</td>\n      <td>https://www.exchangerates.org.uk/USD-EUR-spot-...</td>\n      <td>NaN</td>\n    </tr>\n    <tr>\n      <th>Average exchange rate 2020 [€/$]</th>\n      <td>0.877</td>\n      <td>NaN</td>\n      <td>NaN</td>\n    </tr>\n    <tr>\n      <th>Average exchange rate 2019 [€/$]</th>\n      <td>0.8931</td>\n      <td>https://www.exchangerates.org.uk/USD-EUR-spot-...</td>\n      <td>NaN</td>\n    </tr>\n    <tr>\n      <th>Average exchange rate 2018 [€/$]</th>\n      <td>0.8475</td>\n      <td>https://www.exchangerates.org.uk/USD-EUR-spot-...</td>\n      <td>NaN</td>\n    </tr>\n    <tr>\n      <th>Average exchange rate in 2018 [GBP/EUR]</th>\n      <td>1.1301</td>\n      <td>https://www.exchangerates.org.uk/GBP-EUR-spot-...</td>\n      <td>NaN</td>\n    </tr>\n    <tr>\n      <th>NaN</th>\n      <td>NaN</td>\n      <td>NaN</td>\n      <td>NaN</td>\n    </tr>\n    <tr>\n      <th>Technology availability</th>\n      <td>2022</td>\n      <td>NaN</td>\n      <td>both say FID to COD of 3 years for terminals, ...</td>\n    </tr>\n    <tr>\n      <th>New H2 pipeline - time from FID to commissioning [years]</th>\n      <td>7</td>\n      <td>NaN</td>\n      <td>NaN</td>\n    </tr>\n    <tr>\n      <th>Retrofit H2 pipeline - availability from now [years]</th>\n      <td>13</td>\n      <td>NaN</td>\n      <td>free NG pipelines available</td>\n    </tr>\n    <tr>\n      <th>NG pipeline - time from FID to commissioning [years]</th>\n      <td>7</td>\n      <td>NaN</td>\n      <td>NaN</td>\n    </tr>\n    <tr>\n      <th>New CO2 pipeline - time from FID to commissioning [years]</th>\n      <td>7</td>\n      <td>NaN</td>\n      <td>NaN</td>\n    </tr>\n    <tr>\n      <th>LH2 shipping - availability</th>\n      <td>3</td>\n      <td>NaN</td>\n      <td>time to build ship and terminals</td>\n    </tr>\n    <tr>\n      <th>Ammonia shipping - availability</th>\n      <td>3</td>\n      <td>Expert interviews Uniper and TES H2</td>\n      <td>NaN</td>\n    </tr>\n  </tbody>\n</table>\n</div>"
     },
     "execution_count": 69,
     "metadata": {},
     "output_type": "execute_result"
    }
   ],
   "source": [
    "availabilities = pd.read_excel(path, sheet_name='General Assumptions', decimal=',', index_col=0)\n",
    "availabilities"
   ],
   "metadata": {
    "collapsed": false,
    "pycharm": {
     "name": "#%%\n"
    }
   }
  },
  {
   "cell_type": "code",
   "execution_count": 70,
   "outputs": [
    {
     "data": {
      "text/plain": "2022"
     },
     "execution_count": 70,
     "metadata": {},
     "output_type": "execute_result"
    }
   ],
   "source": [
    "this_year = int(availabilities.loc['Technology availability']['Value'])\n",
    "this_year"
   ],
   "metadata": {
    "collapsed": false,
    "pycharm": {
     "name": "#%%\n"
    }
   }
  },
  {
   "cell_type": "code",
   "execution_count": 71,
   "outputs": [
    {
     "data": {
      "text/plain": "7"
     },
     "execution_count": 71,
     "metadata": {},
     "output_type": "execute_result"
    }
   ],
   "source": [
    "AV_pipe_new = int(availabilities.loc['New H2 pipeline - time from FID to commissioning [years]']['Value'])\n",
    "AV_pipe_new"
   ],
   "metadata": {
    "collapsed": false,
    "pycharm": {
     "name": "#%%\n"
    }
   }
  },
  {
   "cell_type": "code",
   "execution_count": 72,
   "outputs": [
    {
     "data": {
      "text/plain": "13"
     },
     "execution_count": 72,
     "metadata": {},
     "output_type": "execute_result"
    }
   ],
   "source": [
    "AV_pipe_retro = int(availabilities.loc['Retrofit H2 pipeline - availability from now [years]']['Value'])\n",
    "AV_pipe_retro"
   ],
   "metadata": {
    "collapsed": false,
    "pycharm": {
     "name": "#%%\n"
    }
   }
  },
  {
   "cell_type": "code",
   "execution_count": 73,
   "outputs": [
    {
     "data": {
      "text/plain": "7"
     },
     "execution_count": 73,
     "metadata": {},
     "output_type": "execute_result"
    }
   ],
   "source": [
    "AV_pipe_co2 = int(availabilities.loc['New CO2 pipeline - time from FID to commissioning [years]']['Value'])\n",
    "AV_pipe_co2"
   ],
   "metadata": {
    "collapsed": false,
    "pycharm": {
     "name": "#%%\n"
    }
   }
  },
  {
   "cell_type": "code",
   "execution_count": 74,
   "outputs": [
    {
     "data": {
      "text/plain": "3"
     },
     "execution_count": 74,
     "metadata": {},
     "output_type": "execute_result"
    }
   ],
   "source": [
    "AV_LH2 = int(availabilities.loc['LH2 shipping - availability']['Value'])\n",
    "AV_LH2"
   ],
   "metadata": {
    "collapsed": false,
    "pycharm": {
     "name": "#%%\n"
    }
   }
  },
  {
   "cell_type": "code",
   "execution_count": 75,
   "outputs": [
    {
     "data": {
      "text/plain": "3"
     },
     "execution_count": 75,
     "metadata": {},
     "output_type": "execute_result"
    }
   ],
   "source": [
    "AV_NH3 = int(availabilities.loc['Ammonia shipping - availability']['Value'])\n",
    "AV_NH3"
   ],
   "metadata": {
    "collapsed": false,
    "pycharm": {
     "name": "#%%\n"
    }
   }
  },
  {
   "cell_type": "code",
   "execution_count": 76,
   "outputs": [
    {
     "ename": "FileNotFoundError",
     "evalue": "[Errno 2] No such file or directory: '/Users/jakob/PycharmProjects/H2_pathways_repo/data/processed/Retrofit_pipeline_costs_off.csv'",
     "output_type": "error",
     "traceback": [
      "\u001B[1;31m---------------------------------------------------------------------------\u001B[0m",
      "\u001B[1;31mFileNotFoundError\u001B[0m                         Traceback (most recent call last)",
      "Cell \u001B[1;32mIn [76], line 1\u001B[0m\n\u001B[1;32m----> 1\u001B[0m pipe_retro_off \u001B[38;5;241m=\u001B[39m \u001B[43mpd\u001B[49m\u001B[38;5;241;43m.\u001B[39;49m\u001B[43mread_csv\u001B[49m\u001B[43m(\u001B[49m\u001B[38;5;124;43m\"\u001B[39;49m\u001B[38;5;124;43m/Users/jakob/PycharmProjects/H2_pathways_repo/data/processed/Retrofit_pipeline_costs_off.csv\u001B[39;49m\u001B[38;5;124;43m\"\u001B[39;49m\u001B[43m,\u001B[49m\u001B[43m \u001B[49m\u001B[43mdelimiter\u001B[49m\u001B[38;5;241;43m=\u001B[39;49m\u001B[38;5;124;43m'\u001B[39;49m\u001B[38;5;124;43m;\u001B[39;49m\u001B[38;5;124;43m'\u001B[39;49m\u001B[43m,\u001B[49m\u001B[43m \u001B[49m\u001B[43mindex_col\u001B[49m\u001B[38;5;241;43m=\u001B[39;49m\u001B[43m \u001B[49m\u001B[38;5;241;43m0\u001B[39;49m\u001B[43m)\u001B[49m\n\u001B[0;32m      2\u001B[0m pipe_retro_off\n",
      "File \u001B[1;32m~\\Miniconda3\\envs\\Desktop\\lib\\site-packages\\pandas\\util\\_decorators.py:211\u001B[0m, in \u001B[0;36mdeprecate_kwarg.<locals>._deprecate_kwarg.<locals>.wrapper\u001B[1;34m(*args, **kwargs)\u001B[0m\n\u001B[0;32m    209\u001B[0m     \u001B[38;5;28;01melse\u001B[39;00m:\n\u001B[0;32m    210\u001B[0m         kwargs[new_arg_name] \u001B[38;5;241m=\u001B[39m new_arg_value\n\u001B[1;32m--> 211\u001B[0m \u001B[38;5;28;01mreturn\u001B[39;00m func(\u001B[38;5;241m*\u001B[39margs, \u001B[38;5;241m*\u001B[39m\u001B[38;5;241m*\u001B[39mkwargs)\n",
      "File \u001B[1;32m~\\Miniconda3\\envs\\Desktop\\lib\\site-packages\\pandas\\util\\_decorators.py:331\u001B[0m, in \u001B[0;36mdeprecate_nonkeyword_arguments.<locals>.decorate.<locals>.wrapper\u001B[1;34m(*args, **kwargs)\u001B[0m\n\u001B[0;32m    325\u001B[0m \u001B[38;5;28;01mif\u001B[39;00m \u001B[38;5;28mlen\u001B[39m(args) \u001B[38;5;241m>\u001B[39m num_allow_args:\n\u001B[0;32m    326\u001B[0m     warnings\u001B[38;5;241m.\u001B[39mwarn(\n\u001B[0;32m    327\u001B[0m         msg\u001B[38;5;241m.\u001B[39mformat(arguments\u001B[38;5;241m=\u001B[39m_format_argument_list(allow_args)),\n\u001B[0;32m    328\u001B[0m         \u001B[38;5;167;01mFutureWarning\u001B[39;00m,\n\u001B[0;32m    329\u001B[0m         stacklevel\u001B[38;5;241m=\u001B[39mfind_stack_level(),\n\u001B[0;32m    330\u001B[0m     )\n\u001B[1;32m--> 331\u001B[0m \u001B[38;5;28;01mreturn\u001B[39;00m func(\u001B[38;5;241m*\u001B[39margs, \u001B[38;5;241m*\u001B[39m\u001B[38;5;241m*\u001B[39mkwargs)\n",
      "File \u001B[1;32m~\\Miniconda3\\envs\\Desktop\\lib\\site-packages\\pandas\\io\\parsers\\readers.py:950\u001B[0m, in \u001B[0;36mread_csv\u001B[1;34m(filepath_or_buffer, sep, delimiter, header, names, index_col, usecols, squeeze, prefix, mangle_dupe_cols, dtype, engine, converters, true_values, false_values, skipinitialspace, skiprows, skipfooter, nrows, na_values, keep_default_na, na_filter, verbose, skip_blank_lines, parse_dates, infer_datetime_format, keep_date_col, date_parser, dayfirst, cache_dates, iterator, chunksize, compression, thousands, decimal, lineterminator, quotechar, quoting, doublequote, escapechar, comment, encoding, encoding_errors, dialect, error_bad_lines, warn_bad_lines, on_bad_lines, delim_whitespace, low_memory, memory_map, float_precision, storage_options)\u001B[0m\n\u001B[0;32m    935\u001B[0m kwds_defaults \u001B[38;5;241m=\u001B[39m _refine_defaults_read(\n\u001B[0;32m    936\u001B[0m     dialect,\n\u001B[0;32m    937\u001B[0m     delimiter,\n\u001B[1;32m   (...)\u001B[0m\n\u001B[0;32m    946\u001B[0m     defaults\u001B[38;5;241m=\u001B[39m{\u001B[38;5;124m\"\u001B[39m\u001B[38;5;124mdelimiter\u001B[39m\u001B[38;5;124m\"\u001B[39m: \u001B[38;5;124m\"\u001B[39m\u001B[38;5;124m,\u001B[39m\u001B[38;5;124m\"\u001B[39m},\n\u001B[0;32m    947\u001B[0m )\n\u001B[0;32m    948\u001B[0m kwds\u001B[38;5;241m.\u001B[39mupdate(kwds_defaults)\n\u001B[1;32m--> 950\u001B[0m \u001B[38;5;28;01mreturn\u001B[39;00m \u001B[43m_read\u001B[49m\u001B[43m(\u001B[49m\u001B[43mfilepath_or_buffer\u001B[49m\u001B[43m,\u001B[49m\u001B[43m \u001B[49m\u001B[43mkwds\u001B[49m\u001B[43m)\u001B[49m\n",
      "File \u001B[1;32m~\\Miniconda3\\envs\\Desktop\\lib\\site-packages\\pandas\\io\\parsers\\readers.py:605\u001B[0m, in \u001B[0;36m_read\u001B[1;34m(filepath_or_buffer, kwds)\u001B[0m\n\u001B[0;32m    602\u001B[0m _validate_names(kwds\u001B[38;5;241m.\u001B[39mget(\u001B[38;5;124m\"\u001B[39m\u001B[38;5;124mnames\u001B[39m\u001B[38;5;124m\"\u001B[39m, \u001B[38;5;28;01mNone\u001B[39;00m))\n\u001B[0;32m    604\u001B[0m \u001B[38;5;66;03m# Create the parser.\u001B[39;00m\n\u001B[1;32m--> 605\u001B[0m parser \u001B[38;5;241m=\u001B[39m TextFileReader(filepath_or_buffer, \u001B[38;5;241m*\u001B[39m\u001B[38;5;241m*\u001B[39mkwds)\n\u001B[0;32m    607\u001B[0m \u001B[38;5;28;01mif\u001B[39;00m chunksize \u001B[38;5;129;01mor\u001B[39;00m iterator:\n\u001B[0;32m    608\u001B[0m     \u001B[38;5;28;01mreturn\u001B[39;00m parser\n",
      "File \u001B[1;32m~\\Miniconda3\\envs\\Desktop\\lib\\site-packages\\pandas\\io\\parsers\\readers.py:1442\u001B[0m, in \u001B[0;36mTextFileReader.__init__\u001B[1;34m(self, f, engine, **kwds)\u001B[0m\n\u001B[0;32m   1439\u001B[0m     \u001B[38;5;28mself\u001B[39m\u001B[38;5;241m.\u001B[39moptions[\u001B[38;5;124m\"\u001B[39m\u001B[38;5;124mhas_index_names\u001B[39m\u001B[38;5;124m\"\u001B[39m] \u001B[38;5;241m=\u001B[39m kwds[\u001B[38;5;124m\"\u001B[39m\u001B[38;5;124mhas_index_names\u001B[39m\u001B[38;5;124m\"\u001B[39m]\n\u001B[0;32m   1441\u001B[0m \u001B[38;5;28mself\u001B[39m\u001B[38;5;241m.\u001B[39mhandles: IOHandles \u001B[38;5;241m|\u001B[39m \u001B[38;5;28;01mNone\u001B[39;00m \u001B[38;5;241m=\u001B[39m \u001B[38;5;28;01mNone\u001B[39;00m\n\u001B[1;32m-> 1442\u001B[0m \u001B[38;5;28mself\u001B[39m\u001B[38;5;241m.\u001B[39m_engine \u001B[38;5;241m=\u001B[39m \u001B[38;5;28;43mself\u001B[39;49m\u001B[38;5;241;43m.\u001B[39;49m\u001B[43m_make_engine\u001B[49m\u001B[43m(\u001B[49m\u001B[43mf\u001B[49m\u001B[43m,\u001B[49m\u001B[43m \u001B[49m\u001B[38;5;28;43mself\u001B[39;49m\u001B[38;5;241;43m.\u001B[39;49m\u001B[43mengine\u001B[49m\u001B[43m)\u001B[49m\n",
      "File \u001B[1;32m~\\Miniconda3\\envs\\Desktop\\lib\\site-packages\\pandas\\io\\parsers\\readers.py:1735\u001B[0m, in \u001B[0;36mTextFileReader._make_engine\u001B[1;34m(self, f, engine)\u001B[0m\n\u001B[0;32m   1733\u001B[0m     \u001B[38;5;28;01mif\u001B[39;00m \u001B[38;5;124m\"\u001B[39m\u001B[38;5;124mb\u001B[39m\u001B[38;5;124m\"\u001B[39m \u001B[38;5;129;01mnot\u001B[39;00m \u001B[38;5;129;01min\u001B[39;00m mode:\n\u001B[0;32m   1734\u001B[0m         mode \u001B[38;5;241m+\u001B[39m\u001B[38;5;241m=\u001B[39m \u001B[38;5;124m\"\u001B[39m\u001B[38;5;124mb\u001B[39m\u001B[38;5;124m\"\u001B[39m\n\u001B[1;32m-> 1735\u001B[0m \u001B[38;5;28mself\u001B[39m\u001B[38;5;241m.\u001B[39mhandles \u001B[38;5;241m=\u001B[39m \u001B[43mget_handle\u001B[49m\u001B[43m(\u001B[49m\n\u001B[0;32m   1736\u001B[0m \u001B[43m    \u001B[49m\u001B[43mf\u001B[49m\u001B[43m,\u001B[49m\n\u001B[0;32m   1737\u001B[0m \u001B[43m    \u001B[49m\u001B[43mmode\u001B[49m\u001B[43m,\u001B[49m\n\u001B[0;32m   1738\u001B[0m \u001B[43m    \u001B[49m\u001B[43mencoding\u001B[49m\u001B[38;5;241;43m=\u001B[39;49m\u001B[38;5;28;43mself\u001B[39;49m\u001B[38;5;241;43m.\u001B[39;49m\u001B[43moptions\u001B[49m\u001B[38;5;241;43m.\u001B[39;49m\u001B[43mget\u001B[49m\u001B[43m(\u001B[49m\u001B[38;5;124;43m\"\u001B[39;49m\u001B[38;5;124;43mencoding\u001B[39;49m\u001B[38;5;124;43m\"\u001B[39;49m\u001B[43m,\u001B[49m\u001B[43m \u001B[49m\u001B[38;5;28;43;01mNone\u001B[39;49;00m\u001B[43m)\u001B[49m\u001B[43m,\u001B[49m\n\u001B[0;32m   1739\u001B[0m \u001B[43m    \u001B[49m\u001B[43mcompression\u001B[49m\u001B[38;5;241;43m=\u001B[39;49m\u001B[38;5;28;43mself\u001B[39;49m\u001B[38;5;241;43m.\u001B[39;49m\u001B[43moptions\u001B[49m\u001B[38;5;241;43m.\u001B[39;49m\u001B[43mget\u001B[49m\u001B[43m(\u001B[49m\u001B[38;5;124;43m\"\u001B[39;49m\u001B[38;5;124;43mcompression\u001B[39;49m\u001B[38;5;124;43m\"\u001B[39;49m\u001B[43m,\u001B[49m\u001B[43m \u001B[49m\u001B[38;5;28;43;01mNone\u001B[39;49;00m\u001B[43m)\u001B[49m\u001B[43m,\u001B[49m\n\u001B[0;32m   1740\u001B[0m \u001B[43m    \u001B[49m\u001B[43mmemory_map\u001B[49m\u001B[38;5;241;43m=\u001B[39;49m\u001B[38;5;28;43mself\u001B[39;49m\u001B[38;5;241;43m.\u001B[39;49m\u001B[43moptions\u001B[49m\u001B[38;5;241;43m.\u001B[39;49m\u001B[43mget\u001B[49m\u001B[43m(\u001B[49m\u001B[38;5;124;43m\"\u001B[39;49m\u001B[38;5;124;43mmemory_map\u001B[39;49m\u001B[38;5;124;43m\"\u001B[39;49m\u001B[43m,\u001B[49m\u001B[43m \u001B[49m\u001B[38;5;28;43;01mFalse\u001B[39;49;00m\u001B[43m)\u001B[49m\u001B[43m,\u001B[49m\n\u001B[0;32m   1741\u001B[0m \u001B[43m    \u001B[49m\u001B[43mis_text\u001B[49m\u001B[38;5;241;43m=\u001B[39;49m\u001B[43mis_text\u001B[49m\u001B[43m,\u001B[49m\n\u001B[0;32m   1742\u001B[0m \u001B[43m    \u001B[49m\u001B[43merrors\u001B[49m\u001B[38;5;241;43m=\u001B[39;49m\u001B[38;5;28;43mself\u001B[39;49m\u001B[38;5;241;43m.\u001B[39;49m\u001B[43moptions\u001B[49m\u001B[38;5;241;43m.\u001B[39;49m\u001B[43mget\u001B[49m\u001B[43m(\u001B[49m\u001B[38;5;124;43m\"\u001B[39;49m\u001B[38;5;124;43mencoding_errors\u001B[39;49m\u001B[38;5;124;43m\"\u001B[39;49m\u001B[43m,\u001B[49m\u001B[43m \u001B[49m\u001B[38;5;124;43m\"\u001B[39;49m\u001B[38;5;124;43mstrict\u001B[39;49m\u001B[38;5;124;43m\"\u001B[39;49m\u001B[43m)\u001B[49m\u001B[43m,\u001B[49m\n\u001B[0;32m   1743\u001B[0m \u001B[43m    \u001B[49m\u001B[43mstorage_options\u001B[49m\u001B[38;5;241;43m=\u001B[39;49m\u001B[38;5;28;43mself\u001B[39;49m\u001B[38;5;241;43m.\u001B[39;49m\u001B[43moptions\u001B[49m\u001B[38;5;241;43m.\u001B[39;49m\u001B[43mget\u001B[49m\u001B[43m(\u001B[49m\u001B[38;5;124;43m\"\u001B[39;49m\u001B[38;5;124;43mstorage_options\u001B[39;49m\u001B[38;5;124;43m\"\u001B[39;49m\u001B[43m,\u001B[49m\u001B[43m \u001B[49m\u001B[38;5;28;43;01mNone\u001B[39;49;00m\u001B[43m)\u001B[49m\u001B[43m,\u001B[49m\n\u001B[0;32m   1744\u001B[0m \u001B[43m\u001B[49m\u001B[43m)\u001B[49m\n\u001B[0;32m   1745\u001B[0m \u001B[38;5;28;01massert\u001B[39;00m \u001B[38;5;28mself\u001B[39m\u001B[38;5;241m.\u001B[39mhandles \u001B[38;5;129;01mis\u001B[39;00m \u001B[38;5;129;01mnot\u001B[39;00m \u001B[38;5;28;01mNone\u001B[39;00m\n\u001B[0;32m   1746\u001B[0m f \u001B[38;5;241m=\u001B[39m \u001B[38;5;28mself\u001B[39m\u001B[38;5;241m.\u001B[39mhandles\u001B[38;5;241m.\u001B[39mhandle\n",
      "File \u001B[1;32m~\\Miniconda3\\envs\\Desktop\\lib\\site-packages\\pandas\\io\\common.py:856\u001B[0m, in \u001B[0;36mget_handle\u001B[1;34m(path_or_buf, mode, encoding, compression, memory_map, is_text, errors, storage_options)\u001B[0m\n\u001B[0;32m    851\u001B[0m \u001B[38;5;28;01melif\u001B[39;00m \u001B[38;5;28misinstance\u001B[39m(handle, \u001B[38;5;28mstr\u001B[39m):\n\u001B[0;32m    852\u001B[0m     \u001B[38;5;66;03m# Check whether the filename is to be opened in binary mode.\u001B[39;00m\n\u001B[0;32m    853\u001B[0m     \u001B[38;5;66;03m# Binary mode does not support 'encoding' and 'newline'.\u001B[39;00m\n\u001B[0;32m    854\u001B[0m     \u001B[38;5;28;01mif\u001B[39;00m ioargs\u001B[38;5;241m.\u001B[39mencoding \u001B[38;5;129;01mand\u001B[39;00m \u001B[38;5;124m\"\u001B[39m\u001B[38;5;124mb\u001B[39m\u001B[38;5;124m\"\u001B[39m \u001B[38;5;129;01mnot\u001B[39;00m \u001B[38;5;129;01min\u001B[39;00m ioargs\u001B[38;5;241m.\u001B[39mmode:\n\u001B[0;32m    855\u001B[0m         \u001B[38;5;66;03m# Encoding\u001B[39;00m\n\u001B[1;32m--> 856\u001B[0m         handle \u001B[38;5;241m=\u001B[39m \u001B[38;5;28;43mopen\u001B[39;49m\u001B[43m(\u001B[49m\n\u001B[0;32m    857\u001B[0m \u001B[43m            \u001B[49m\u001B[43mhandle\u001B[49m\u001B[43m,\u001B[49m\n\u001B[0;32m    858\u001B[0m \u001B[43m            \u001B[49m\u001B[43mioargs\u001B[49m\u001B[38;5;241;43m.\u001B[39;49m\u001B[43mmode\u001B[49m\u001B[43m,\u001B[49m\n\u001B[0;32m    859\u001B[0m \u001B[43m            \u001B[49m\u001B[43mencoding\u001B[49m\u001B[38;5;241;43m=\u001B[39;49m\u001B[43mioargs\u001B[49m\u001B[38;5;241;43m.\u001B[39;49m\u001B[43mencoding\u001B[49m\u001B[43m,\u001B[49m\n\u001B[0;32m    860\u001B[0m \u001B[43m            \u001B[49m\u001B[43merrors\u001B[49m\u001B[38;5;241;43m=\u001B[39;49m\u001B[43merrors\u001B[49m\u001B[43m,\u001B[49m\n\u001B[0;32m    861\u001B[0m \u001B[43m            \u001B[49m\u001B[43mnewline\u001B[49m\u001B[38;5;241;43m=\u001B[39;49m\u001B[38;5;124;43m\"\u001B[39;49m\u001B[38;5;124;43m\"\u001B[39;49m\u001B[43m,\u001B[49m\n\u001B[0;32m    862\u001B[0m \u001B[43m        \u001B[49m\u001B[43m)\u001B[49m\n\u001B[0;32m    863\u001B[0m     \u001B[38;5;28;01melse\u001B[39;00m:\n\u001B[0;32m    864\u001B[0m         \u001B[38;5;66;03m# Binary mode\u001B[39;00m\n\u001B[0;32m    865\u001B[0m         handle \u001B[38;5;241m=\u001B[39m \u001B[38;5;28mopen\u001B[39m(handle, ioargs\u001B[38;5;241m.\u001B[39mmode)\n",
      "\u001B[1;31mFileNotFoundError\u001B[0m: [Errno 2] No such file or directory: '/Users/jakob/PycharmProjects/H2_pathways_repo/data/processed/Retrofit_pipeline_costs_off.csv'"
     ]
    }
   ],
   "source": [
    "pipe_retro_off = pd.read_csv(\"/Users/jakob/PycharmProjects/H2_pathways_repo/data/processed/Retrofit_pipeline_costs_off.csv\", delimiter=';', index_col= 0)\n",
    "pipe_retro_off"
   ],
   "metadata": {
    "collapsed": false,
    "pycharm": {
     "name": "#%%\n"
    }
   }
  },
  {
   "cell_type": "markdown",
   "source": [],
   "metadata": {
    "collapsed": false,
    "pycharm": {
     "name": "#%% md\n"
    }
   }
  },
  {
   "cell_type": "code",
   "execution_count": 77,
   "outputs": [
    {
     "ename": "FileNotFoundError",
     "evalue": "[Errno 2] No such file or directory: '/Users/jakob/PycharmProjects/H2_pathways_repo/data/processed/New_pipeline_costs_off.csv'",
     "output_type": "error",
     "traceback": [
      "\u001B[1;31m---------------------------------------------------------------------------\u001B[0m",
      "\u001B[1;31mFileNotFoundError\u001B[0m                         Traceback (most recent call last)",
      "Cell \u001B[1;32mIn [77], line 1\u001B[0m\n\u001B[1;32m----> 1\u001B[0m pipe_new_off \u001B[38;5;241m=\u001B[39m \u001B[43mpd\u001B[49m\u001B[38;5;241;43m.\u001B[39;49m\u001B[43mread_csv\u001B[49m\u001B[43m(\u001B[49m\u001B[38;5;124;43m\"\u001B[39;49m\u001B[38;5;124;43m/Users/jakob/PycharmProjects/H2_pathways_repo/data/processed/New_pipeline_costs_off.csv\u001B[39;49m\u001B[38;5;124;43m\"\u001B[39;49m\u001B[43m,\u001B[49m\u001B[43m \u001B[49m\u001B[43mdelimiter\u001B[49m\u001B[38;5;241;43m=\u001B[39;49m\u001B[38;5;124;43m'\u001B[39;49m\u001B[38;5;124;43m;\u001B[39;49m\u001B[38;5;124;43m'\u001B[39;49m\u001B[43m,\u001B[49m\u001B[43m \u001B[49m\u001B[43mindex_col\u001B[49m\u001B[38;5;241;43m=\u001B[39;49m\u001B[38;5;241;43m0\u001B[39;49m\u001B[43m)\u001B[49m\n\u001B[0;32m      2\u001B[0m pipe_new_off\n",
      "File \u001B[1;32m~\\Miniconda3\\envs\\Desktop\\lib\\site-packages\\pandas\\util\\_decorators.py:211\u001B[0m, in \u001B[0;36mdeprecate_kwarg.<locals>._deprecate_kwarg.<locals>.wrapper\u001B[1;34m(*args, **kwargs)\u001B[0m\n\u001B[0;32m    209\u001B[0m     \u001B[38;5;28;01melse\u001B[39;00m:\n\u001B[0;32m    210\u001B[0m         kwargs[new_arg_name] \u001B[38;5;241m=\u001B[39m new_arg_value\n\u001B[1;32m--> 211\u001B[0m \u001B[38;5;28;01mreturn\u001B[39;00m func(\u001B[38;5;241m*\u001B[39margs, \u001B[38;5;241m*\u001B[39m\u001B[38;5;241m*\u001B[39mkwargs)\n",
      "File \u001B[1;32m~\\Miniconda3\\envs\\Desktop\\lib\\site-packages\\pandas\\util\\_decorators.py:331\u001B[0m, in \u001B[0;36mdeprecate_nonkeyword_arguments.<locals>.decorate.<locals>.wrapper\u001B[1;34m(*args, **kwargs)\u001B[0m\n\u001B[0;32m    325\u001B[0m \u001B[38;5;28;01mif\u001B[39;00m \u001B[38;5;28mlen\u001B[39m(args) \u001B[38;5;241m>\u001B[39m num_allow_args:\n\u001B[0;32m    326\u001B[0m     warnings\u001B[38;5;241m.\u001B[39mwarn(\n\u001B[0;32m    327\u001B[0m         msg\u001B[38;5;241m.\u001B[39mformat(arguments\u001B[38;5;241m=\u001B[39m_format_argument_list(allow_args)),\n\u001B[0;32m    328\u001B[0m         \u001B[38;5;167;01mFutureWarning\u001B[39;00m,\n\u001B[0;32m    329\u001B[0m         stacklevel\u001B[38;5;241m=\u001B[39mfind_stack_level(),\n\u001B[0;32m    330\u001B[0m     )\n\u001B[1;32m--> 331\u001B[0m \u001B[38;5;28;01mreturn\u001B[39;00m func(\u001B[38;5;241m*\u001B[39margs, \u001B[38;5;241m*\u001B[39m\u001B[38;5;241m*\u001B[39mkwargs)\n",
      "File \u001B[1;32m~\\Miniconda3\\envs\\Desktop\\lib\\site-packages\\pandas\\io\\parsers\\readers.py:950\u001B[0m, in \u001B[0;36mread_csv\u001B[1;34m(filepath_or_buffer, sep, delimiter, header, names, index_col, usecols, squeeze, prefix, mangle_dupe_cols, dtype, engine, converters, true_values, false_values, skipinitialspace, skiprows, skipfooter, nrows, na_values, keep_default_na, na_filter, verbose, skip_blank_lines, parse_dates, infer_datetime_format, keep_date_col, date_parser, dayfirst, cache_dates, iterator, chunksize, compression, thousands, decimal, lineterminator, quotechar, quoting, doublequote, escapechar, comment, encoding, encoding_errors, dialect, error_bad_lines, warn_bad_lines, on_bad_lines, delim_whitespace, low_memory, memory_map, float_precision, storage_options)\u001B[0m\n\u001B[0;32m    935\u001B[0m kwds_defaults \u001B[38;5;241m=\u001B[39m _refine_defaults_read(\n\u001B[0;32m    936\u001B[0m     dialect,\n\u001B[0;32m    937\u001B[0m     delimiter,\n\u001B[1;32m   (...)\u001B[0m\n\u001B[0;32m    946\u001B[0m     defaults\u001B[38;5;241m=\u001B[39m{\u001B[38;5;124m\"\u001B[39m\u001B[38;5;124mdelimiter\u001B[39m\u001B[38;5;124m\"\u001B[39m: \u001B[38;5;124m\"\u001B[39m\u001B[38;5;124m,\u001B[39m\u001B[38;5;124m\"\u001B[39m},\n\u001B[0;32m    947\u001B[0m )\n\u001B[0;32m    948\u001B[0m kwds\u001B[38;5;241m.\u001B[39mupdate(kwds_defaults)\n\u001B[1;32m--> 950\u001B[0m \u001B[38;5;28;01mreturn\u001B[39;00m \u001B[43m_read\u001B[49m\u001B[43m(\u001B[49m\u001B[43mfilepath_or_buffer\u001B[49m\u001B[43m,\u001B[49m\u001B[43m \u001B[49m\u001B[43mkwds\u001B[49m\u001B[43m)\u001B[49m\n",
      "File \u001B[1;32m~\\Miniconda3\\envs\\Desktop\\lib\\site-packages\\pandas\\io\\parsers\\readers.py:605\u001B[0m, in \u001B[0;36m_read\u001B[1;34m(filepath_or_buffer, kwds)\u001B[0m\n\u001B[0;32m    602\u001B[0m _validate_names(kwds\u001B[38;5;241m.\u001B[39mget(\u001B[38;5;124m\"\u001B[39m\u001B[38;5;124mnames\u001B[39m\u001B[38;5;124m\"\u001B[39m, \u001B[38;5;28;01mNone\u001B[39;00m))\n\u001B[0;32m    604\u001B[0m \u001B[38;5;66;03m# Create the parser.\u001B[39;00m\n\u001B[1;32m--> 605\u001B[0m parser \u001B[38;5;241m=\u001B[39m TextFileReader(filepath_or_buffer, \u001B[38;5;241m*\u001B[39m\u001B[38;5;241m*\u001B[39mkwds)\n\u001B[0;32m    607\u001B[0m \u001B[38;5;28;01mif\u001B[39;00m chunksize \u001B[38;5;129;01mor\u001B[39;00m iterator:\n\u001B[0;32m    608\u001B[0m     \u001B[38;5;28;01mreturn\u001B[39;00m parser\n",
      "File \u001B[1;32m~\\Miniconda3\\envs\\Desktop\\lib\\site-packages\\pandas\\io\\parsers\\readers.py:1442\u001B[0m, in \u001B[0;36mTextFileReader.__init__\u001B[1;34m(self, f, engine, **kwds)\u001B[0m\n\u001B[0;32m   1439\u001B[0m     \u001B[38;5;28mself\u001B[39m\u001B[38;5;241m.\u001B[39moptions[\u001B[38;5;124m\"\u001B[39m\u001B[38;5;124mhas_index_names\u001B[39m\u001B[38;5;124m\"\u001B[39m] \u001B[38;5;241m=\u001B[39m kwds[\u001B[38;5;124m\"\u001B[39m\u001B[38;5;124mhas_index_names\u001B[39m\u001B[38;5;124m\"\u001B[39m]\n\u001B[0;32m   1441\u001B[0m \u001B[38;5;28mself\u001B[39m\u001B[38;5;241m.\u001B[39mhandles: IOHandles \u001B[38;5;241m|\u001B[39m \u001B[38;5;28;01mNone\u001B[39;00m \u001B[38;5;241m=\u001B[39m \u001B[38;5;28;01mNone\u001B[39;00m\n\u001B[1;32m-> 1442\u001B[0m \u001B[38;5;28mself\u001B[39m\u001B[38;5;241m.\u001B[39m_engine \u001B[38;5;241m=\u001B[39m \u001B[38;5;28;43mself\u001B[39;49m\u001B[38;5;241;43m.\u001B[39;49m\u001B[43m_make_engine\u001B[49m\u001B[43m(\u001B[49m\u001B[43mf\u001B[49m\u001B[43m,\u001B[49m\u001B[43m \u001B[49m\u001B[38;5;28;43mself\u001B[39;49m\u001B[38;5;241;43m.\u001B[39;49m\u001B[43mengine\u001B[49m\u001B[43m)\u001B[49m\n",
      "File \u001B[1;32m~\\Miniconda3\\envs\\Desktop\\lib\\site-packages\\pandas\\io\\parsers\\readers.py:1735\u001B[0m, in \u001B[0;36mTextFileReader._make_engine\u001B[1;34m(self, f, engine)\u001B[0m\n\u001B[0;32m   1733\u001B[0m     \u001B[38;5;28;01mif\u001B[39;00m \u001B[38;5;124m\"\u001B[39m\u001B[38;5;124mb\u001B[39m\u001B[38;5;124m\"\u001B[39m \u001B[38;5;129;01mnot\u001B[39;00m \u001B[38;5;129;01min\u001B[39;00m mode:\n\u001B[0;32m   1734\u001B[0m         mode \u001B[38;5;241m+\u001B[39m\u001B[38;5;241m=\u001B[39m \u001B[38;5;124m\"\u001B[39m\u001B[38;5;124mb\u001B[39m\u001B[38;5;124m\"\u001B[39m\n\u001B[1;32m-> 1735\u001B[0m \u001B[38;5;28mself\u001B[39m\u001B[38;5;241m.\u001B[39mhandles \u001B[38;5;241m=\u001B[39m \u001B[43mget_handle\u001B[49m\u001B[43m(\u001B[49m\n\u001B[0;32m   1736\u001B[0m \u001B[43m    \u001B[49m\u001B[43mf\u001B[49m\u001B[43m,\u001B[49m\n\u001B[0;32m   1737\u001B[0m \u001B[43m    \u001B[49m\u001B[43mmode\u001B[49m\u001B[43m,\u001B[49m\n\u001B[0;32m   1738\u001B[0m \u001B[43m    \u001B[49m\u001B[43mencoding\u001B[49m\u001B[38;5;241;43m=\u001B[39;49m\u001B[38;5;28;43mself\u001B[39;49m\u001B[38;5;241;43m.\u001B[39;49m\u001B[43moptions\u001B[49m\u001B[38;5;241;43m.\u001B[39;49m\u001B[43mget\u001B[49m\u001B[43m(\u001B[49m\u001B[38;5;124;43m\"\u001B[39;49m\u001B[38;5;124;43mencoding\u001B[39;49m\u001B[38;5;124;43m\"\u001B[39;49m\u001B[43m,\u001B[49m\u001B[43m \u001B[49m\u001B[38;5;28;43;01mNone\u001B[39;49;00m\u001B[43m)\u001B[49m\u001B[43m,\u001B[49m\n\u001B[0;32m   1739\u001B[0m \u001B[43m    \u001B[49m\u001B[43mcompression\u001B[49m\u001B[38;5;241;43m=\u001B[39;49m\u001B[38;5;28;43mself\u001B[39;49m\u001B[38;5;241;43m.\u001B[39;49m\u001B[43moptions\u001B[49m\u001B[38;5;241;43m.\u001B[39;49m\u001B[43mget\u001B[49m\u001B[43m(\u001B[49m\u001B[38;5;124;43m\"\u001B[39;49m\u001B[38;5;124;43mcompression\u001B[39;49m\u001B[38;5;124;43m\"\u001B[39;49m\u001B[43m,\u001B[49m\u001B[43m \u001B[49m\u001B[38;5;28;43;01mNone\u001B[39;49;00m\u001B[43m)\u001B[49m\u001B[43m,\u001B[49m\n\u001B[0;32m   1740\u001B[0m \u001B[43m    \u001B[49m\u001B[43mmemory_map\u001B[49m\u001B[38;5;241;43m=\u001B[39;49m\u001B[38;5;28;43mself\u001B[39;49m\u001B[38;5;241;43m.\u001B[39;49m\u001B[43moptions\u001B[49m\u001B[38;5;241;43m.\u001B[39;49m\u001B[43mget\u001B[49m\u001B[43m(\u001B[49m\u001B[38;5;124;43m\"\u001B[39;49m\u001B[38;5;124;43mmemory_map\u001B[39;49m\u001B[38;5;124;43m\"\u001B[39;49m\u001B[43m,\u001B[49m\u001B[43m \u001B[49m\u001B[38;5;28;43;01mFalse\u001B[39;49;00m\u001B[43m)\u001B[49m\u001B[43m,\u001B[49m\n\u001B[0;32m   1741\u001B[0m \u001B[43m    \u001B[49m\u001B[43mis_text\u001B[49m\u001B[38;5;241;43m=\u001B[39;49m\u001B[43mis_text\u001B[49m\u001B[43m,\u001B[49m\n\u001B[0;32m   1742\u001B[0m \u001B[43m    \u001B[49m\u001B[43merrors\u001B[49m\u001B[38;5;241;43m=\u001B[39;49m\u001B[38;5;28;43mself\u001B[39;49m\u001B[38;5;241;43m.\u001B[39;49m\u001B[43moptions\u001B[49m\u001B[38;5;241;43m.\u001B[39;49m\u001B[43mget\u001B[49m\u001B[43m(\u001B[49m\u001B[38;5;124;43m\"\u001B[39;49m\u001B[38;5;124;43mencoding_errors\u001B[39;49m\u001B[38;5;124;43m\"\u001B[39;49m\u001B[43m,\u001B[49m\u001B[43m \u001B[49m\u001B[38;5;124;43m\"\u001B[39;49m\u001B[38;5;124;43mstrict\u001B[39;49m\u001B[38;5;124;43m\"\u001B[39;49m\u001B[43m)\u001B[49m\u001B[43m,\u001B[49m\n\u001B[0;32m   1743\u001B[0m \u001B[43m    \u001B[49m\u001B[43mstorage_options\u001B[49m\u001B[38;5;241;43m=\u001B[39;49m\u001B[38;5;28;43mself\u001B[39;49m\u001B[38;5;241;43m.\u001B[39;49m\u001B[43moptions\u001B[49m\u001B[38;5;241;43m.\u001B[39;49m\u001B[43mget\u001B[49m\u001B[43m(\u001B[49m\u001B[38;5;124;43m\"\u001B[39;49m\u001B[38;5;124;43mstorage_options\u001B[39;49m\u001B[38;5;124;43m\"\u001B[39;49m\u001B[43m,\u001B[49m\u001B[43m \u001B[49m\u001B[38;5;28;43;01mNone\u001B[39;49;00m\u001B[43m)\u001B[49m\u001B[43m,\u001B[49m\n\u001B[0;32m   1744\u001B[0m \u001B[43m\u001B[49m\u001B[43m)\u001B[49m\n\u001B[0;32m   1745\u001B[0m \u001B[38;5;28;01massert\u001B[39;00m \u001B[38;5;28mself\u001B[39m\u001B[38;5;241m.\u001B[39mhandles \u001B[38;5;129;01mis\u001B[39;00m \u001B[38;5;129;01mnot\u001B[39;00m \u001B[38;5;28;01mNone\u001B[39;00m\n\u001B[0;32m   1746\u001B[0m f \u001B[38;5;241m=\u001B[39m \u001B[38;5;28mself\u001B[39m\u001B[38;5;241m.\u001B[39mhandles\u001B[38;5;241m.\u001B[39mhandle\n",
      "File \u001B[1;32m~\\Miniconda3\\envs\\Desktop\\lib\\site-packages\\pandas\\io\\common.py:856\u001B[0m, in \u001B[0;36mget_handle\u001B[1;34m(path_or_buf, mode, encoding, compression, memory_map, is_text, errors, storage_options)\u001B[0m\n\u001B[0;32m    851\u001B[0m \u001B[38;5;28;01melif\u001B[39;00m \u001B[38;5;28misinstance\u001B[39m(handle, \u001B[38;5;28mstr\u001B[39m):\n\u001B[0;32m    852\u001B[0m     \u001B[38;5;66;03m# Check whether the filename is to be opened in binary mode.\u001B[39;00m\n\u001B[0;32m    853\u001B[0m     \u001B[38;5;66;03m# Binary mode does not support 'encoding' and 'newline'.\u001B[39;00m\n\u001B[0;32m    854\u001B[0m     \u001B[38;5;28;01mif\u001B[39;00m ioargs\u001B[38;5;241m.\u001B[39mencoding \u001B[38;5;129;01mand\u001B[39;00m \u001B[38;5;124m\"\u001B[39m\u001B[38;5;124mb\u001B[39m\u001B[38;5;124m\"\u001B[39m \u001B[38;5;129;01mnot\u001B[39;00m \u001B[38;5;129;01min\u001B[39;00m ioargs\u001B[38;5;241m.\u001B[39mmode:\n\u001B[0;32m    855\u001B[0m         \u001B[38;5;66;03m# Encoding\u001B[39;00m\n\u001B[1;32m--> 856\u001B[0m         handle \u001B[38;5;241m=\u001B[39m \u001B[38;5;28;43mopen\u001B[39;49m\u001B[43m(\u001B[49m\n\u001B[0;32m    857\u001B[0m \u001B[43m            \u001B[49m\u001B[43mhandle\u001B[49m\u001B[43m,\u001B[49m\n\u001B[0;32m    858\u001B[0m \u001B[43m            \u001B[49m\u001B[43mioargs\u001B[49m\u001B[38;5;241;43m.\u001B[39;49m\u001B[43mmode\u001B[49m\u001B[43m,\u001B[49m\n\u001B[0;32m    859\u001B[0m \u001B[43m            \u001B[49m\u001B[43mencoding\u001B[49m\u001B[38;5;241;43m=\u001B[39;49m\u001B[43mioargs\u001B[49m\u001B[38;5;241;43m.\u001B[39;49m\u001B[43mencoding\u001B[49m\u001B[43m,\u001B[49m\n\u001B[0;32m    860\u001B[0m \u001B[43m            \u001B[49m\u001B[43merrors\u001B[49m\u001B[38;5;241;43m=\u001B[39;49m\u001B[43merrors\u001B[49m\u001B[43m,\u001B[49m\n\u001B[0;32m    861\u001B[0m \u001B[43m            \u001B[49m\u001B[43mnewline\u001B[49m\u001B[38;5;241;43m=\u001B[39;49m\u001B[38;5;124;43m\"\u001B[39;49m\u001B[38;5;124;43m\"\u001B[39;49m\u001B[43m,\u001B[49m\n\u001B[0;32m    862\u001B[0m \u001B[43m        \u001B[49m\u001B[43m)\u001B[49m\n\u001B[0;32m    863\u001B[0m     \u001B[38;5;28;01melse\u001B[39;00m:\n\u001B[0;32m    864\u001B[0m         \u001B[38;5;66;03m# Binary mode\u001B[39;00m\n\u001B[0;32m    865\u001B[0m         handle \u001B[38;5;241m=\u001B[39m \u001B[38;5;28mopen\u001B[39m(handle, ioargs\u001B[38;5;241m.\u001B[39mmode)\n",
      "\u001B[1;31mFileNotFoundError\u001B[0m: [Errno 2] No such file or directory: '/Users/jakob/PycharmProjects/H2_pathways_repo/data/processed/New_pipeline_costs_off.csv'"
     ]
    }
   ],
   "source": [
    "pipe_new_off = pd.read_csv(\"/Users/jakob/PycharmProjects/H2_pathways_repo/data/processed/New_pipeline_costs_off.csv\", delimiter=';', index_col=0)\n",
    "pipe_new_off"
   ],
   "metadata": {
    "collapsed": false,
    "pycharm": {
     "name": "#%%\n"
    }
   }
  },
  {
   "cell_type": "code",
   "execution_count": null,
   "outputs": [],
   "source": [
    "LH2 = pd.read_csv(\"/Users/jakob/PycharmProjects/H2_pathways_repo/data/processed/Lh2_transport_costs.csv\", delimiter=';', index_col=0)\n",
    "LH2"
   ],
   "metadata": {
    "collapsed": false,
    "pycharm": {
     "name": "#%%\n"
    }
   }
  },
  {
   "cell_type": "code",
   "execution_count": null,
   "outputs": [],
   "source": [
    "NH3 = pd.read_csv(\"/Users/jakob/PycharmProjects/H2_pathways_repo/data/processed/LNH3_transport_costs.csv\", delimiter=';', index_col=0)\n",
    "NH3"
   ],
   "metadata": {
    "collapsed": false,
    "pycharm": {
     "name": "#%%\n"
    }
   }
  },
  {
   "cell_type": "markdown",
   "source": [
    "# Minimal transport costs"
   ],
   "metadata": {
    "collapsed": false,
    "pycharm": {
     "name": "#%% md\n"
    }
   }
  },
  {
   "cell_type": "code",
   "execution_count": null,
   "outputs": [],
   "source": [
    "def choose_minimal_transport_costs():\n",
    "\n",
    "    if year < this_year + AV_pipe_new:\n",
    "        result = min(TC_LH2, TC_NH3)\n",
    "\n",
    "    elif year < this_year + AV_pipe_retro:\n",
    "        result = min(TC_pipe_new, TC_LH2, TC_NH3)\n",
    "    else:\n",
    "        result = min(TC_pipe_new, TC_pipe_retro, TC_LH2, TC_NH3)\n",
    "\n",
    "\n",
    "    return result"
   ],
   "metadata": {
    "collapsed": false,
    "pycharm": {
     "name": "#%%\n"
    }
   }
  },
  {
   "cell_type": "code",
   "execution_count": 16,
   "outputs": [],
   "source": [
    "def choose_minimal_transport_costs_tech():\n",
    "\n",
    "\n",
    "    if  year < this_year + AV_pipe_new:\n",
    "        if min(TC_LH2, TC_NH3) == TC_LH2:\n",
    "            result = 'LH2'\n",
    "        else: result = 'NH3'\n",
    "\n",
    "    elif year < this_year + AV_pipe_retro:\n",
    "        if min(TC_pipe_new, TC_LH2, TC_NH3) == TC_LH2:\n",
    "            result = 'LH2'\n",
    "        elif min(TC_pipe_new, TC_LH2, TC_NH3) == TC_NH3:\n",
    "            result = 'NH3'\n",
    "        else:\n",
    "            result = 'New pipeline'\n",
    "    else:\n",
    "        if min(TC_pipe_new, TC_pipe_retro, TC_LH2, TC_NH3) == TC_LH2:\n",
    "            result = 'LH2'\n",
    "        elif min(TC_pipe_new, TC_pipe_retro, TC_LH2, TC_NH3) == TC_NH3:\n",
    "            result = 'NH3'\n",
    "        elif (TC_pipe_new, TC_pipe_retro, TC_LH2, TC_NH3) == TC_pipe_new:\n",
    "            result = 'New pipeline'\n",
    "        else:\n",
    "            result = 'Retrofit pipeline'\n",
    "\n",
    "\n",
    "    return result"
   ],
   "metadata": {
    "collapsed": false,
    "pycharm": {
     "name": "#%%\n"
    }
   }
  },
  {
   "cell_type": "code",
   "execution_count": 17,
   "outputs": [],
   "source": [
    "years = np.arange(2025, 2051)\n",
    "result = pd.DataFrame(index=years, columns=['Minimal_offshore_transport_costs', 'Technology'])\n",
    "result.index.name = 'Years'"
   ],
   "metadata": {
    "collapsed": false,
    "pycharm": {
     "name": "#%%\n"
    }
   }
  },
  {
   "cell_type": "code",
   "execution_count": 18,
   "outputs": [
    {
     "ename": "NameError",
     "evalue": "name 'pipe_new_off' is not defined",
     "output_type": "error",
     "traceback": [
      "\u001B[1;31m---------------------------------------------------------------------------\u001B[0m",
      "\u001B[1;31mNameError\u001B[0m                                 Traceback (most recent call last)",
      "Cell \u001B[1;32mIn [18], line 4\u001B[0m\n\u001B[0;32m      1\u001B[0m \u001B[38;5;28;01mfor\u001B[39;00m year \u001B[38;5;129;01min\u001B[39;00m years:\n\u001B[0;32m      2\u001B[0m \n\u001B[0;32m      3\u001B[0m     \u001B[38;5;66;03m# get all costs\u001B[39;00m\n\u001B[1;32m----> 4\u001B[0m     TC_pipe_new \u001B[38;5;241m=\u001B[39m \u001B[38;5;28mfloat\u001B[39m(\u001B[43mpipe_new_off\u001B[49m\u001B[38;5;241m.\u001B[39mloc[year][\u001B[38;5;124m'\u001B[39m\u001B[38;5;124mNew_Pipeline_costs_off\u001B[39m\u001B[38;5;124m'\u001B[39m])\n\u001B[0;32m      6\u001B[0m     TC_pipe_retro \u001B[38;5;241m=\u001B[39m \u001B[38;5;28mfloat\u001B[39m(pipe_retro_off\u001B[38;5;241m.\u001B[39mloc[year][\u001B[38;5;124m'\u001B[39m\u001B[38;5;124mRetrofit_pipeline_costs_off\u001B[39m\u001B[38;5;124m'\u001B[39m])\n\u001B[0;32m      8\u001B[0m     TC_LH2 \u001B[38;5;241m=\u001B[39m \u001B[38;5;28mfloat\u001B[39m(LH2\u001B[38;5;241m.\u001B[39mloc[year][\u001B[38;5;124m'\u001B[39m\u001B[38;5;124mLH2_transport_costs\u001B[39m\u001B[38;5;124m'\u001B[39m])\n",
      "\u001B[1;31mNameError\u001B[0m: name 'pipe_new_off' is not defined"
     ]
    }
   ],
   "source": [
    "for year in years:\n",
    "\n",
    "    # get all costs\n",
    "    TC_pipe_new = float(pipe_new_off.loc[year]['New_Pipeline_costs_off'])\n",
    "\n",
    "    TC_pipe_retro = float(pipe_retro_off.loc[year]['Retrofit_pipeline_costs_off'])\n",
    "\n",
    "    TC_LH2 = float(LH2.loc[year]['LH2_transport_costs'])\n",
    "\n",
    "    TC_NH3 = float(NH3.loc[year]['LNH3_transport_costs'])\n",
    "\n",
    "    result.Minimal_offshore_transport_costs.loc[year] = choose_minimal_transport_costs()\n",
    "    result.Technology.loc[year] = choose_minimal_transport_costs_tech()\n",
    "\n",
    "result"
   ],
   "metadata": {
    "collapsed": false,
    "pycharm": {
     "name": "#%%\n"
    }
   }
  },
  {
   "cell_type": "code",
   "execution_count": null,
   "outputs": [],
   "source": [
    "# export result to excel\n",
    "writer = pd.ExcelWriter(path, engine='openpyxl', mode='a', if_sheet_exists='overlay')\n",
    "book = load_workbook(path)\n",
    "writer.book = book\n",
    "writer.sheets = dict((ws.title, ws) for ws in book.worksheets)\n",
    "\n",
    "ws = book['Reference Results']\n",
    "\n",
    "result.to_excel(writer, sheet_name='Reference Results', index=False, startcol=ws.max_column)\n",
    "book.save(path)\n",
    "book.close()"
   ],
   "metadata": {
    "collapsed": false,
    "pycharm": {
     "name": "#%%\n"
    }
   }
  },
  {
   "cell_type": "code",
   "execution_count": null,
   "outputs": [],
   "source": [
    "years = np.arange(2025, 2051)\n",
    "result = pd.DataFrame(index=years, columns=['Minimal_offshore_transport_costs'])\n",
    "result.index.name = 'Years'"
   ],
   "metadata": {
    "collapsed": false,
    "pycharm": {
     "name": "#%%\n"
    }
   }
  },
  {
   "cell_type": "code",
   "execution_count": null,
   "outputs": [],
   "source": [
    "for year in years:\n",
    "\n",
    "    # get all costs\n",
    "    TC_pipe_new = float(pipe_new_off.loc[year]['New_Pipeline_costs_off'])\n",
    "\n",
    "    TC_pipe_retro = float(pipe_retro_off.loc[year]['Retrofit_pipeline_costs_off'])\n",
    "\n",
    "    TC_LH2 = float(LH2.loc[year]['LH2_transport_costs'])\n",
    "\n",
    "    TC_NH3 = float(NH3.loc[year]['LNH3_transport_costs'])\n",
    "\n",
    "    result.Minimal_offshore_transport_costs.loc[year] = choose_minimal_transport_costs()\n",
    "\n",
    "result"
   ],
   "metadata": {
    "collapsed": false,
    "pycharm": {
     "name": "#%%\n"
    }
   }
  },
  {
   "cell_type": "code",
   "execution_count": null,
   "outputs": [],
   "source": [
    "# Create csv file from results dataframe\n",
    "path = r'/Users/jakob/PycharmProjects/H2_pathways_repo/data/Results'\n",
    "output_file = os.path.join(path, 'Results.xlsx')\n",
    "result.to_excel(output_file, sheet_name='Minimal_offshore_transport_costs')"
   ],
   "metadata": {
    "collapsed": false,
    "pycharm": {
     "name": "#%%\n"
    }
   }
  },
  {
   "cell_type": "markdown",
   "source": [
    "## Plot transport costs"
   ],
   "metadata": {
    "collapsed": false,
    "pycharm": {
     "name": "#%% md\n"
    }
   }
  },
  {
   "cell_type": "code",
   "execution_count": 14,
   "outputs": [
    {
     "ename": "ConversionError",
     "evalue": "Failed to convert value(s) to axis units: array(['Green', 'Blue', 'Blue', 'Blue', 'Blue', 'Blue', 'Blue', 'Blue',\n       'Blue', 'Blue', 'Blue', 'Blue', 'Blue', 'Green', 'Green', 'Green',\n       'Green', 'Green', 'Green', 'Green', 'Green', 'Green', 'Green',\n       'Green', 'Green', 'Green'], dtype=object)",
     "output_type": "error",
     "traceback": [
      "\u001B[1;31m---------------------------------------------------------------------------\u001B[0m",
      "\u001B[1;31mValueError\u001B[0m                                Traceback (most recent call last)",
      "File \u001B[1;32m~\\Miniconda3\\envs\\Desktop\\lib\\site-packages\\matplotlib\\axis.py:1506\u001B[0m, in \u001B[0;36mAxis.convert_units\u001B[1;34m(self, x)\u001B[0m\n\u001B[0;32m   1505\u001B[0m \u001B[38;5;28;01mtry\u001B[39;00m:\n\u001B[1;32m-> 1506\u001B[0m     ret \u001B[38;5;241m=\u001B[39m \u001B[38;5;28;43mself\u001B[39;49m\u001B[38;5;241;43m.\u001B[39;49m\u001B[43mconverter\u001B[49m\u001B[38;5;241;43m.\u001B[39;49m\u001B[43mconvert\u001B[49m\u001B[43m(\u001B[49m\u001B[43mx\u001B[49m\u001B[43m,\u001B[49m\u001B[43m \u001B[49m\u001B[38;5;28;43mself\u001B[39;49m\u001B[38;5;241;43m.\u001B[39;49m\u001B[43munits\u001B[49m\u001B[43m,\u001B[49m\u001B[43m \u001B[49m\u001B[38;5;28;43mself\u001B[39;49m\u001B[43m)\u001B[49m\n\u001B[0;32m   1507\u001B[0m \u001B[38;5;28;01mexcept\u001B[39;00m \u001B[38;5;167;01mException\u001B[39;00m \u001B[38;5;28;01mas\u001B[39;00m e:\n",
      "File \u001B[1;32m~\\Miniconda3\\envs\\Desktop\\lib\\site-packages\\matplotlib\\category.py:49\u001B[0m, in \u001B[0;36mStrCategoryConverter.convert\u001B[1;34m(value, unit, axis)\u001B[0m\n\u001B[0;32m     48\u001B[0m \u001B[38;5;28;01mif\u001B[39;00m unit \u001B[38;5;129;01mis\u001B[39;00m \u001B[38;5;28;01mNone\u001B[39;00m:\n\u001B[1;32m---> 49\u001B[0m     \u001B[38;5;28;01mraise\u001B[39;00m \u001B[38;5;167;01mValueError\u001B[39;00m(\n\u001B[0;32m     50\u001B[0m         \u001B[38;5;124m'\u001B[39m\u001B[38;5;124mMissing category information for StrCategoryConverter; \u001B[39m\u001B[38;5;124m'\u001B[39m\n\u001B[0;32m     51\u001B[0m         \u001B[38;5;124m'\u001B[39m\u001B[38;5;124mthis might be caused by unintendedly mixing categorical and \u001B[39m\u001B[38;5;124m'\u001B[39m\n\u001B[0;32m     52\u001B[0m         \u001B[38;5;124m'\u001B[39m\u001B[38;5;124mnumeric data\u001B[39m\u001B[38;5;124m'\u001B[39m)\n\u001B[0;32m     53\u001B[0m StrCategoryConverter\u001B[38;5;241m.\u001B[39m_validate_unit(unit)\n",
      "\u001B[1;31mValueError\u001B[0m: Missing category information for StrCategoryConverter; this might be caused by unintendedly mixing categorical and numeric data",
      "\nThe above exception was the direct cause of the following exception:\n",
      "\u001B[1;31mConversionError\u001B[0m                           Traceback (most recent call last)",
      "Cell \u001B[1;32mIn [14], line 5\u001B[0m\n\u001B[0;32m      3\u001B[0m plt\u001B[38;5;241m.\u001B[39mgrid(\u001B[38;5;28;01mTrue\u001B[39;00m, axis \u001B[38;5;241m=\u001B[39m \u001B[38;5;124m'\u001B[39m\u001B[38;5;124my\u001B[39m\u001B[38;5;124m'\u001B[39m)\n\u001B[0;32m      4\u001B[0m ax\u001B[38;5;241m.\u001B[39mset_axisbelow(\u001B[38;5;28;01mTrue\u001B[39;00m)\n\u001B[1;32m----> 5\u001B[0m \u001B[43mplt\u001B[49m\u001B[38;5;241;43m.\u001B[39;49m\u001B[43mplot\u001B[49m\u001B[43m(\u001B[49m\u001B[43mresult\u001B[49m\u001B[43m,\u001B[49m\u001B[43m \u001B[49m\u001B[43mcolor\u001B[49m\u001B[38;5;241;43m=\u001B[39;49m\u001B[38;5;124;43m'\u001B[39;49m\u001B[38;5;124;43mcyan\u001B[39;49m\u001B[38;5;124;43m'\u001B[39;49m\u001B[43m,\u001B[49m\u001B[43m \u001B[49m\u001B[43mlinestyle\u001B[49m\u001B[38;5;241;43m=\u001B[39;49m\u001B[38;5;124;43m'\u001B[39;49m\u001B[38;5;124;43mdashed\u001B[39;49m\u001B[38;5;124;43m'\u001B[39;49m\u001B[43m)\u001B[49m\n\u001B[0;32m      6\u001B[0m plt\u001B[38;5;241m.\u001B[39mtitle(\u001B[38;5;124m'\u001B[39m\u001B[38;5;124mCost curve for transport\u001B[39m\u001B[38;5;124m'\u001B[39m)\n\u001B[0;32m      7\u001B[0m plt\u001B[38;5;241m.\u001B[39mlegend([\u001B[38;5;124m'\u001B[39m\u001B[38;5;124mMinimal transport costs in €/kg_H2\u001B[39m\u001B[38;5;124m'\u001B[39m])\n",
      "File \u001B[1;32m~\\Miniconda3\\envs\\Desktop\\lib\\site-packages\\matplotlib\\pyplot.py:2767\u001B[0m, in \u001B[0;36mplot\u001B[1;34m(scalex, scaley, data, *args, **kwargs)\u001B[0m\n\u001B[0;32m   2765\u001B[0m \u001B[38;5;129m@_copy_docstring_and_deprecators\u001B[39m(Axes\u001B[38;5;241m.\u001B[39mplot)\n\u001B[0;32m   2766\u001B[0m \u001B[38;5;28;01mdef\u001B[39;00m \u001B[38;5;21mplot\u001B[39m(\u001B[38;5;241m*\u001B[39margs, scalex\u001B[38;5;241m=\u001B[39m\u001B[38;5;28;01mTrue\u001B[39;00m, scaley\u001B[38;5;241m=\u001B[39m\u001B[38;5;28;01mTrue\u001B[39;00m, data\u001B[38;5;241m=\u001B[39m\u001B[38;5;28;01mNone\u001B[39;00m, \u001B[38;5;241m*\u001B[39m\u001B[38;5;241m*\u001B[39mkwargs):\n\u001B[1;32m-> 2767\u001B[0m     \u001B[38;5;28;01mreturn\u001B[39;00m gca()\u001B[38;5;241m.\u001B[39mplot(\n\u001B[0;32m   2768\u001B[0m         \u001B[38;5;241m*\u001B[39margs, scalex\u001B[38;5;241m=\u001B[39mscalex, scaley\u001B[38;5;241m=\u001B[39mscaley,\n\u001B[0;32m   2769\u001B[0m         \u001B[38;5;241m*\u001B[39m\u001B[38;5;241m*\u001B[39m({\u001B[38;5;124m\"\u001B[39m\u001B[38;5;124mdata\u001B[39m\u001B[38;5;124m\"\u001B[39m: data} \u001B[38;5;28;01mif\u001B[39;00m data \u001B[38;5;129;01mis\u001B[39;00m \u001B[38;5;129;01mnot\u001B[39;00m \u001B[38;5;28;01mNone\u001B[39;00m \u001B[38;5;28;01melse\u001B[39;00m {}), \u001B[38;5;241m*\u001B[39m\u001B[38;5;241m*\u001B[39mkwargs)\n",
      "File \u001B[1;32m~\\Miniconda3\\envs\\Desktop\\lib\\site-packages\\matplotlib\\axes\\_axes.py:1637\u001B[0m, in \u001B[0;36mAxes.plot\u001B[1;34m(self, scalex, scaley, data, *args, **kwargs)\u001B[0m\n\u001B[0;32m   1635\u001B[0m lines \u001B[38;5;241m=\u001B[39m [\u001B[38;5;241m*\u001B[39m\u001B[38;5;28mself\u001B[39m\u001B[38;5;241m.\u001B[39m_get_lines(\u001B[38;5;241m*\u001B[39margs, data\u001B[38;5;241m=\u001B[39mdata, \u001B[38;5;241m*\u001B[39m\u001B[38;5;241m*\u001B[39mkwargs)]\n\u001B[0;32m   1636\u001B[0m \u001B[38;5;28;01mfor\u001B[39;00m line \u001B[38;5;129;01min\u001B[39;00m lines:\n\u001B[1;32m-> 1637\u001B[0m     \u001B[38;5;28;43mself\u001B[39;49m\u001B[38;5;241;43m.\u001B[39;49m\u001B[43madd_line\u001B[49m\u001B[43m(\u001B[49m\u001B[43mline\u001B[49m\u001B[43m)\u001B[49m\n\u001B[0;32m   1638\u001B[0m \u001B[38;5;28mself\u001B[39m\u001B[38;5;241m.\u001B[39m_request_autoscale_view(scalex\u001B[38;5;241m=\u001B[39mscalex, scaley\u001B[38;5;241m=\u001B[39mscaley)\n\u001B[0;32m   1639\u001B[0m \u001B[38;5;28;01mreturn\u001B[39;00m lines\n",
      "File \u001B[1;32m~\\Miniconda3\\envs\\Desktop\\lib\\site-packages\\matplotlib\\axes\\_base.py:2288\u001B[0m, in \u001B[0;36m_AxesBase.add_line\u001B[1;34m(self, line)\u001B[0m\n\u001B[0;32m   2285\u001B[0m \u001B[38;5;28;01mif\u001B[39;00m line\u001B[38;5;241m.\u001B[39mget_clip_path() \u001B[38;5;129;01mis\u001B[39;00m \u001B[38;5;28;01mNone\u001B[39;00m:\n\u001B[0;32m   2286\u001B[0m     line\u001B[38;5;241m.\u001B[39mset_clip_path(\u001B[38;5;28mself\u001B[39m\u001B[38;5;241m.\u001B[39mpatch)\n\u001B[1;32m-> 2288\u001B[0m \u001B[38;5;28;43mself\u001B[39;49m\u001B[38;5;241;43m.\u001B[39;49m\u001B[43m_update_line_limits\u001B[49m\u001B[43m(\u001B[49m\u001B[43mline\u001B[49m\u001B[43m)\u001B[49m\n\u001B[0;32m   2289\u001B[0m \u001B[38;5;28;01mif\u001B[39;00m \u001B[38;5;129;01mnot\u001B[39;00m line\u001B[38;5;241m.\u001B[39mget_label():\n\u001B[0;32m   2290\u001B[0m     line\u001B[38;5;241m.\u001B[39mset_label(\u001B[38;5;124mf\u001B[39m\u001B[38;5;124m'\u001B[39m\u001B[38;5;124m_child\u001B[39m\u001B[38;5;132;01m{\u001B[39;00m\u001B[38;5;28mlen\u001B[39m(\u001B[38;5;28mself\u001B[39m\u001B[38;5;241m.\u001B[39m_children)\u001B[38;5;132;01m}\u001B[39;00m\u001B[38;5;124m'\u001B[39m)\n",
      "File \u001B[1;32m~\\Miniconda3\\envs\\Desktop\\lib\\site-packages\\matplotlib\\axes\\_base.py:2311\u001B[0m, in \u001B[0;36m_AxesBase._update_line_limits\u001B[1;34m(self, line)\u001B[0m\n\u001B[0;32m   2307\u001B[0m \u001B[38;5;28;01mdef\u001B[39;00m \u001B[38;5;21m_update_line_limits\u001B[39m(\u001B[38;5;28mself\u001B[39m, line):\n\u001B[0;32m   2308\u001B[0m     \u001B[38;5;124;03m\"\"\"\u001B[39;00m\n\u001B[0;32m   2309\u001B[0m \u001B[38;5;124;03m    Figures out the data limit of the given line, updating self.dataLim.\u001B[39;00m\n\u001B[0;32m   2310\u001B[0m \u001B[38;5;124;03m    \"\"\"\u001B[39;00m\n\u001B[1;32m-> 2311\u001B[0m     path \u001B[38;5;241m=\u001B[39m \u001B[43mline\u001B[49m\u001B[38;5;241;43m.\u001B[39;49m\u001B[43mget_path\u001B[49m\u001B[43m(\u001B[49m\u001B[43m)\u001B[49m\n\u001B[0;32m   2312\u001B[0m     \u001B[38;5;28;01mif\u001B[39;00m path\u001B[38;5;241m.\u001B[39mvertices\u001B[38;5;241m.\u001B[39msize \u001B[38;5;241m==\u001B[39m \u001B[38;5;241m0\u001B[39m:\n\u001B[0;32m   2313\u001B[0m         \u001B[38;5;28;01mreturn\u001B[39;00m\n",
      "File \u001B[1;32m~\\Miniconda3\\envs\\Desktop\\lib\\site-packages\\matplotlib\\lines.py:999\u001B[0m, in \u001B[0;36mLine2D.get_path\u001B[1;34m(self)\u001B[0m\n\u001B[0;32m    997\u001B[0m \u001B[38;5;124;03m\"\"\"Return the `~matplotlib.path.Path` associated with this line.\"\"\"\u001B[39;00m\n\u001B[0;32m    998\u001B[0m \u001B[38;5;28;01mif\u001B[39;00m \u001B[38;5;28mself\u001B[39m\u001B[38;5;241m.\u001B[39m_invalidy \u001B[38;5;129;01mor\u001B[39;00m \u001B[38;5;28mself\u001B[39m\u001B[38;5;241m.\u001B[39m_invalidx:\n\u001B[1;32m--> 999\u001B[0m     \u001B[38;5;28;43mself\u001B[39;49m\u001B[38;5;241;43m.\u001B[39;49m\u001B[43mrecache\u001B[49m\u001B[43m(\u001B[49m\u001B[43m)\u001B[49m\n\u001B[0;32m   1000\u001B[0m \u001B[38;5;28;01mreturn\u001B[39;00m \u001B[38;5;28mself\u001B[39m\u001B[38;5;241m.\u001B[39m_path\n",
      "File \u001B[1;32m~\\Miniconda3\\envs\\Desktop\\lib\\site-packages\\matplotlib\\lines.py:656\u001B[0m, in \u001B[0;36mLine2D.recache\u001B[1;34m(self, always)\u001B[0m\n\u001B[0;32m    654\u001B[0m     x \u001B[38;5;241m=\u001B[39m \u001B[38;5;28mself\u001B[39m\u001B[38;5;241m.\u001B[39m_x\n\u001B[0;32m    655\u001B[0m \u001B[38;5;28;01mif\u001B[39;00m always \u001B[38;5;129;01mor\u001B[39;00m \u001B[38;5;28mself\u001B[39m\u001B[38;5;241m.\u001B[39m_invalidy:\n\u001B[1;32m--> 656\u001B[0m     yconv \u001B[38;5;241m=\u001B[39m \u001B[38;5;28;43mself\u001B[39;49m\u001B[38;5;241;43m.\u001B[39;49m\u001B[43mconvert_yunits\u001B[49m\u001B[43m(\u001B[49m\u001B[38;5;28;43mself\u001B[39;49m\u001B[38;5;241;43m.\u001B[39;49m\u001B[43m_yorig\u001B[49m\u001B[43m)\u001B[49m\n\u001B[0;32m    657\u001B[0m     y \u001B[38;5;241m=\u001B[39m _to_unmasked_float_array(yconv)\u001B[38;5;241m.\u001B[39mravel()\n\u001B[0;32m    658\u001B[0m \u001B[38;5;28;01melse\u001B[39;00m:\n",
      "File \u001B[1;32m~\\Miniconda3\\envs\\Desktop\\lib\\site-packages\\matplotlib\\artist.py:265\u001B[0m, in \u001B[0;36mArtist.convert_yunits\u001B[1;34m(self, y)\u001B[0m\n\u001B[0;32m    263\u001B[0m \u001B[38;5;28;01mif\u001B[39;00m ax \u001B[38;5;129;01mis\u001B[39;00m \u001B[38;5;28;01mNone\u001B[39;00m \u001B[38;5;129;01mor\u001B[39;00m ax\u001B[38;5;241m.\u001B[39myaxis \u001B[38;5;129;01mis\u001B[39;00m \u001B[38;5;28;01mNone\u001B[39;00m:\n\u001B[0;32m    264\u001B[0m     \u001B[38;5;28;01mreturn\u001B[39;00m y\n\u001B[1;32m--> 265\u001B[0m \u001B[38;5;28;01mreturn\u001B[39;00m \u001B[43max\u001B[49m\u001B[38;5;241;43m.\u001B[39;49m\u001B[43myaxis\u001B[49m\u001B[38;5;241;43m.\u001B[39;49m\u001B[43mconvert_units\u001B[49m\u001B[43m(\u001B[49m\u001B[43my\u001B[49m\u001B[43m)\u001B[49m\n",
      "File \u001B[1;32m~\\Miniconda3\\envs\\Desktop\\lib\\site-packages\\matplotlib\\axis.py:1508\u001B[0m, in \u001B[0;36mAxis.convert_units\u001B[1;34m(self, x)\u001B[0m\n\u001B[0;32m   1506\u001B[0m     ret \u001B[38;5;241m=\u001B[39m \u001B[38;5;28mself\u001B[39m\u001B[38;5;241m.\u001B[39mconverter\u001B[38;5;241m.\u001B[39mconvert(x, \u001B[38;5;28mself\u001B[39m\u001B[38;5;241m.\u001B[39munits, \u001B[38;5;28mself\u001B[39m)\n\u001B[0;32m   1507\u001B[0m \u001B[38;5;28;01mexcept\u001B[39;00m \u001B[38;5;167;01mException\u001B[39;00m \u001B[38;5;28;01mas\u001B[39;00m e:\n\u001B[1;32m-> 1508\u001B[0m     \u001B[38;5;28;01mraise\u001B[39;00m munits\u001B[38;5;241m.\u001B[39mConversionError(\u001B[38;5;124m'\u001B[39m\u001B[38;5;124mFailed to convert value(s) to axis \u001B[39m\u001B[38;5;124m'\u001B[39m\n\u001B[0;32m   1509\u001B[0m                                  \u001B[38;5;124mf\u001B[39m\u001B[38;5;124m'\u001B[39m\u001B[38;5;124munits: \u001B[39m\u001B[38;5;132;01m{\u001B[39;00mx\u001B[38;5;132;01m!r}\u001B[39;00m\u001B[38;5;124m'\u001B[39m) \u001B[38;5;28;01mfrom\u001B[39;00m \u001B[38;5;21;01me\u001B[39;00m\n\u001B[0;32m   1510\u001B[0m \u001B[38;5;28;01mreturn\u001B[39;00m ret\n",
      "\u001B[1;31mConversionError\u001B[0m: Failed to convert value(s) to axis units: array(['Green', 'Blue', 'Blue', 'Blue', 'Blue', 'Blue', 'Blue', 'Blue',\n       'Blue', 'Blue', 'Blue', 'Blue', 'Blue', 'Green', 'Green', 'Green',\n       'Green', 'Green', 'Green', 'Green', 'Green', 'Green', 'Green',\n       'Green', 'Green', 'Green'], dtype=object)"
     ]
    },
    {
     "data": {
      "text/plain": "<Figure size 1000x600 with 1 Axes>",
      "image/png": "[encoded data removed]"
     },
     "metadata": {},
     "output_type": "display_data"
    }
   ],
   "source": [
    "# Plot cost curve for seaborne transport\n",
    "fig, ax = plt.subplots(figsize=(10,6))\n",
    "plt.grid(True, axis = 'y')\n",
    "ax.set_axisbelow(True)\n",
    "plt.plot(result, color='cyan', linestyle='dashed')\n",
    "plt.title('Cost curve for transport')\n",
    "plt.legend(['Minimal transport costs in €/kg_H2'])\n",
    "plt.xlabel('Year')\n",
    "plt.ylabel('Cost')\n",
    "plt.show()"
   ],
   "metadata": {
    "collapsed": false,
    "pycharm": {
     "name": "#%%\n"
    }
   }
  },
  {
   "cell_type": "code",
   "execution_count": 15,
   "outputs": [
    {
     "ename": "NameError",
     "evalue": "name 'LH2' is not defined",
     "output_type": "error",
     "traceback": [
      "\u001B[1;31m---------------------------------------------------------------------------\u001B[0m",
      "\u001B[1;31mNameError\u001B[0m                                 Traceback (most recent call last)",
      "Cell \u001B[1;32mIn [15], line 3\u001B[0m\n\u001B[0;32m      1\u001B[0m \u001B[38;5;66;03m# Plot cost curves of hydrogen transport\u001B[39;00m\n\u001B[0;32m      2\u001B[0m fig, ax \u001B[38;5;241m=\u001B[39m plt\u001B[38;5;241m.\u001B[39msubplots(figsize\u001B[38;5;241m=\u001B[39m(\u001B[38;5;241m10\u001B[39m, \u001B[38;5;241m6\u001B[39m))\n\u001B[1;32m----> 3\u001B[0m plt\u001B[38;5;241m.\u001B[39mplot(\u001B[43mLH2\u001B[49m, color\u001B[38;5;241m=\u001B[39m\u001B[38;5;124m'\u001B[39m\u001B[38;5;124mblue\u001B[39m\u001B[38;5;124m'\u001B[39m, linestyle\u001B[38;5;241m=\u001B[39m\u001B[38;5;124m'\u001B[39m\u001B[38;5;124msolid\u001B[39m\u001B[38;5;124m'\u001B[39m, label\u001B[38;5;241m=\u001B[39m\u001B[38;5;124m'\u001B[39m\u001B[38;5;124mLH2\u001B[39m\u001B[38;5;124m'\u001B[39m)\n\u001B[0;32m      4\u001B[0m plt\u001B[38;5;241m.\u001B[39mplot(NH3, color\u001B[38;5;241m=\u001B[39m\u001B[38;5;124m'\u001B[39m\u001B[38;5;124myellow\u001B[39m\u001B[38;5;124m'\u001B[39m, linestyle\u001B[38;5;241m=\u001B[39m\u001B[38;5;124m'\u001B[39m\u001B[38;5;124msolid\u001B[39m\u001B[38;5;124m'\u001B[39m, label\u001B[38;5;241m=\u001B[39m\u001B[38;5;124m'\u001B[39m\u001B[38;5;124mNH3\u001B[39m\u001B[38;5;124m'\u001B[39m)\n\u001B[0;32m      5\u001B[0m plt\u001B[38;5;241m.\u001B[39mplot(pipe_new_off, color\u001B[38;5;241m=\u001B[39m\u001B[38;5;124m'\u001B[39m\u001B[38;5;124mviolet\u001B[39m\u001B[38;5;124m'\u001B[39m, linestyle\u001B[38;5;241m=\u001B[39m\u001B[38;5;124m'\u001B[39m\u001B[38;5;124msolid\u001B[39m\u001B[38;5;124m'\u001B[39m, label\u001B[38;5;241m=\u001B[39m\u001B[38;5;124m'\u001B[39m\u001B[38;5;124mNew pipeline\u001B[39m\u001B[38;5;124m'\u001B[39m)\n",
      "\u001B[1;31mNameError\u001B[0m: name 'LH2' is not defined"
     ]
    },
    {
     "data": {
      "text/plain": "<Figure size 1000x600 with 1 Axes>",
      "image/png": "[encoded data removed]"
     },
     "metadata": {},
     "output_type": "display_data"
    }
   ],
   "source": [
    "# Plot cost curves of hydrogen transport\n",
    "fig, ax = plt.subplots(figsize=(10, 6))\n",
    "plt.plot(LH2, color='blue', linestyle='solid', label='LH2')\n",
    "plt.plot(NH3, color='yellow', linestyle='solid', label='NH3')\n",
    "plt.plot(pipe_new_off, color='violet', linestyle='solid', label='New pipeline')\n",
    "plt.plot(pipe_retro_off, color='pink', linestyle='solid', label='Retrofit pipeline')\n",
    "\n",
    "plt.axvline(x=this_year + AV_pipe_new, color='violet', linestyle = '--', label= 'New pipeline available')\n",
    "plt.axvline(x=this_year + AV_pipe_retro, color='pink', linestyle = '--', label= 'Retrofit pipeline available')\n",
    "\n",
    "\n",
    "plt.grid(True, axis='y')\n",
    "ax.set_axisbelow(True)\n",
    "plt.title('Hydrogen transport costs [€/kg H2]', fontweight='bold')\n",
    "ax.legend()\n",
    "plt.ylabel('Cost')\n",
    "\n",
    "plt.show()"
   ],
   "metadata": {
    "collapsed": false,
    "pycharm": {
     "name": "#%%\n"
    }
   }
  },
  {
   "cell_type": "code",
   "execution_count": null,
   "outputs": [],
   "source": [],
   "metadata": {
    "collapsed": false,
    "pycharm": {
     "name": "#%%\n"
    }
   }
  },
  {
   "cell_type": "markdown",
   "source": [
    "# Minimal supply costs\n"
   ],
   "metadata": {
    "collapsed": false,
    "pycharm": {
     "name": "#%% md\n"
    }
   }
  },
  {
   "cell_type": "code",
   "execution_count": null,
   "outputs": [],
   "source": [
    "mpc = pd.read_csv(\"/Users/jakob/PycharmProjects/H2_pathways_repo/data/processed/Minimal_production_costs.csv\", delimiter=';',\n",
    "    decimal=',', index_col=0)\n",
    "mpc"
   ],
   "metadata": {
    "collapsed": false,
    "pycharm": {
     "name": "#%%\n"
    }
   }
  },
  {
   "cell_type": "code",
   "execution_count": null,
   "outputs": [],
   "source": [
    "mtc = pd.read_csv(\"/Users/jakob/PycharmProjects/H2_pathways_repo/data/processed/Minimal_offshore_transport_costs.csv\", delimiter=';',\n",
    "    decimal=',', index_col=0)\n",
    "mtc"
   ],
   "metadata": {
    "collapsed": false,
    "pycharm": {
     "name": "#%%\n"
    }
   }
  },
  {
   "cell_type": "code",
   "execution_count": null,
   "outputs": [],
   "source": [
    "def calculate_total_supply_costs():\n",
    "    result = PC + TC\n",
    "\n",
    "    return result"
   ],
   "metadata": {
    "collapsed": false,
    "pycharm": {
     "name": "#%%\n"
    }
   }
  },
  {
   "cell_type": "code",
   "execution_count": null,
   "outputs": [],
   "source": [
    "years = np.arange(2025, 2051)\n",
    "result = pd.DataFrame(index=years, columns=['Total_supply_costs'])\n",
    "result.index.name = 'Years'\n",
    "\n",
    "for year in years:\n",
    "    # get all costs\n",
    "\n",
    "    PC = float(mpc.loc[year]['Minimal_production_costs'])\n",
    "    TC = float(mtc.loc[year]['Minimal_offshore_transport_costs'])\n",
    "\n",
    "\n",
    "    # calculate costs of specific year\n",
    "    result.Total_supply_costs.loc[year] = calculate_total_supply_costs()\n",
    "\n",
    "result"
   ],
   "metadata": {
    "collapsed": false,
    "pycharm": {
     "name": "#%%\n"
    }
   }
  },
  {
   "cell_type": "code",
   "execution_count": null,
   "outputs": [],
   "source": [
    "# Create csv file from results dataframe\n",
    "path = r'/Users/jakob/PycharmProjects/H2_pathways_repo/data/processed'\n",
    "output_file = os.path.join(path, 'Minimal_supply_costs.csv')\n",
    "result.to_csv(output_file, sep=';')"
   ],
   "metadata": {
    "collapsed": false,
    "pycharm": {
     "name": "#%%\n"
    }
   }
  },
  {
   "cell_type": "code",
   "execution_count": null,
   "outputs": [],
   "source": [
    "path = r'/Users/jakob/PycharmProjects/H2_pathways_repo/data/Results'\n",
    "output_file = os.path.join(path, 'Results.xlsx')\n",
    "result.to_excel(output_file, sheet_name='Minimal_supply_costs')"
   ],
   "metadata": {
    "collapsed": false,
    "pycharm": {
     "name": "#%%\n"
    }
   }
  },
  {
   "cell_type": "code",
   "execution_count": null,
   "outputs": [],
   "source": [
    "# Plot cost curve for total supply costs\n",
    "fig, ax = plt.subplots(figsize=(10, 6))\n",
    "plt.grid(True, axis='y')\n",
    "ax.set_axisbelow(True)\n",
    "plt.plot(result, color='cyan', linestyle='dashed')\n",
    "plt.title('Supply costs costs in €/kg_H2')\n",
    "plt.xlabel('Year')\n",
    "plt.ylabel('Cost')\n",
    "plt.show()\n"
   ],
   "metadata": {
    "collapsed": false,
    "pycharm": {
     "name": "#%%\n"
    }
   }
  },
  {
   "cell_type": "code",
   "execution_count": null,
   "outputs": [],
   "source": [
    "# Cost breakdown for H2 supply\n",
    "fig, ax = plt.subplots(figsize=(10,6))\n",
    "plt.grid(True, axis = 'y')\n",
    "ax.set_axisbelow(True)\n",
    "x = np.arange(2025, 2051, step=5)\n",
    "\n",
    "PC = (mpc.loc[::5]['Minimal_production_costs']).apply(pd.to_numeric)\n",
    "TC = mtc.loc[::5]['Minimal_offshore_transport_costs'].apply(pd.to_numeric)\n",
    "width = 2       # the width of the bars: can also be len(x) sequence\n",
    "\n",
    "\n",
    "TC_plt = plt.bar(x,TC, width, label='Transport', bottom= PC)\n",
    "PC_plt = plt.bar(x,PC, width, label='Production')\n",
    "\n",
    "plt.title('Lowest H2 supply costs from Norway to Germany', fontweight='bold')\n",
    "plt.legend(loc='upper right')\n",
    "plt.ylabel('Cost [€/kg H2]')\n",
    "plt.xlabel('Years')\n",
    "plt.show()\n"
   ],
   "metadata": {
    "collapsed": false,
    "pycharm": {
     "name": "#%%\n"
    }
   }
  },
  {
   "cell_type": "code",
   "execution_count": null,
   "outputs": [],
   "source": [
    "mtc"
   ],
   "metadata": {
    "collapsed": false,
    "pycharm": {
     "name": "#%%\n"
    }
   }
  },
  {
   "cell_type": "markdown",
   "source": [
    "# Write to excel"
   ],
   "metadata": {
    "collapsed": false,
    "pycharm": {
     "name": "#%% md\n"
    }
   }
  },
  {
   "cell_type": "code",
   "execution_count": null,
   "outputs": [],
   "source": [
    "# export Results dataframe to excel\n",
    "\n",
    "\n",
    "writer = pd.ExcelWriter(path, engine='openpyxl', mode='a')\n",
    "book = load_workbook(fn)\n",
    "writer.book = book\n",
    "writer.sheets = dict((ws.title, ws) for ws in book.worksheets)\n",
    "\n",
    "mtc.to_excel(writer, sheet_name='transport')\n",
    "book.save('/Users/jakob/PycharmProjects/H2_pathways_repo/data/Results/Results.xlsx')\n"
   ],
   "metadata": {
    "collapsed": false,
    "pycharm": {
     "name": "#%%\n"
    }
   }
  }
 ],
 "metadata": {
  "kernelspec": {
   "display_name": "Python 3",
   "language": "python",
   "name": "python3"
  },
  "language_info": {
   "codemirror_mode": {
    "name": "ipython",
    "version": 2
   },
   "file_extension": ".py",
   "mimetype": "text/x-python",
   "name": "python",
   "nbconvert_exporter": "python",
   "pygments_lexer": "ipython2",
   "version": "2.7.6"
  }
 },
 "nbformat": 4,
 "nbformat_minor": 0
}