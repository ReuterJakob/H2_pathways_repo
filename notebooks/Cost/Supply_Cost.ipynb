{
 "cells": [
  {
   "cell_type": "markdown",
   "source": [],
   "metadata": {
    "collapsed": false,
    "pycharm": {
     "name": "#%% md\n"
    }
   }
  },
  {
   "cell_type": "code",
   "execution_count": 53,
   "outputs": [],
   "source": [
    "# Read techno-economic assumptions and transport distances for transport cost calculation\n",
    "import numpy as np\n",
    "import pandas as pd\n",
    "from matplotlib import pyplot as plt\n",
    "import os\n",
    "from openpyxl import load_workbook"
   ],
   "metadata": {
    "collapsed": false,
    "pycharm": {
     "name": "#%%\n"
    }
   }
  },
  {
   "cell_type": "code",
   "execution_count": null,
   "outputs": [],
   "source": [
    "("
   ],
   "metadata": {
    "collapsed": false,
    "pycharm": {
     "name": "#%%\n"
    }
   }
  },
  {
   "cell_type": "code",
   "execution_count": 105,
   "outputs": [],
   "source": [
    "# adjust plotsize and font\n",
    "params = { 'font.size':11,\n",
    "'font.weight':'normal',\n",
    "'font.family':'arial',\n",
    "'lines.linewidth':2\n",
    "    }\n",
    "plt.rcParams.update(params)"
   ],
   "metadata": {
    "collapsed": false,
    "pycharm": {
     "name": "#%%\n"
    }
   }
  },
  {
   "cell_type": "markdown",
   "source": [],
   "metadata": {
    "collapsed": false,
    "pycharm": {
     "name": "#%% md\n"
    }
   }
  },
  {
   "cell_type": "markdown",
   "source": [
    "# Production inputs"
   ],
   "metadata": {
    "collapsed": false,
    "pycharm": {
     "name": "#%% md\n"
    }
   }
  },
  {
   "cell_type": "code",
   "execution_count": 44,
   "outputs": [],
   "source": [
    "path = r'\\\\dena.de\\Daten\\Home\\Reuter\\Desktop\\H2_pathways_repo\\data\\raw\\H2_supply_route_assessment.xlsx'\n",
    "path_plt = r'\\\\dena.de\\Daten\\Home\\Reuter\\Desktop\\H2_pathways_repo\\Plots'"
   ],
   "metadata": {
    "collapsed": false,
    "pycharm": {
     "name": "#%%\n"
    }
   }
  },
  {
   "cell_type": "code",
   "execution_count": 17,
   "outputs": [
    {
     "data": {
      "text/plain": "                                                                                   Value  \\\nID                                                                                         \nGHG intensity of electricity generation [g CO2e...                                   NaN   \nGHG intensity of electricity generation [g CO2e...                                   NaN   \nGrey hydrogen emissions [g CO2/MJ H2] - Norway                                     96.77   \nGrey hydrogen emissions [kg CO2/kg H2] - Norway                                  11.6124   \nBlue hydrogen emissions [g CO2/MJ H2] - Norway                                       NaN   \n...                                                                                  ...   \nHydrogen leakage                                    Predicted Emission Confidence level    \nElectrolytic H2 production [% of produced H2]                                      0.092   \nElectrolytic H2 production [% of produced H2] w...                                0.0052   \nCCS enabled H2 production [% of produced H2]                                       0.005   \nLarge-scale transmission [% of transported hyod...                                0.0048   \n\n                                                                        Ref  \\\nID                                                                            \nGHG intensity of electricity generation [g CO2e...                 EEA 2022   \nGHG intensity of electricity generation [g CO2e...        Our world in Data   \nGrey hydrogen emissions [g CO2/MJ H2] - Norway      Own calculation @ GWP20   \nGrey hydrogen emissions [kg CO2/kg H2] - Norway     Own calculation @ GWP20   \nBlue hydrogen emissions [g CO2/MJ H2] - Norway      Own calculation @ GWP20   \n...                                                                     ...   \nHydrogen leakage                                                        Ref   \nElectrolytic H2 production [% of produced H2]                      DOE 2022   \nElectrolytic H2 production [% of produced H2] w...                 DOE 2022   \nCCS enabled H2 production [% of produced H2]                       DOE 2022   \nLarge-scale transmission [% of transported hyod...                 DOE 2022   \n\n                                                     1990   1991   1992  \\\nID                                                                        \nGHG intensity of electricity generation [g CO2e...  652.0  656.0  628.0   \nGHG intensity of electricity generation [g CO2e...    NaN    NaN    NaN   \nGrey hydrogen emissions [g CO2/MJ H2] - Norway        NaN    NaN    NaN   \nGrey hydrogen emissions [kg CO2/kg H2] - Norway       NaN    NaN    NaN   \nBlue hydrogen emissions [g CO2/MJ H2] - Norway        NaN    NaN    NaN   \n...                                                   ...    ...    ...   \nHydrogen leakage                                      NaN    NaN    NaN   \nElectrolytic H2 production [% of produced H2]         NaN    NaN    NaN   \nElectrolytic H2 production [% of produced H2] w...    NaN    NaN    NaN   \nCCS enabled H2 production [% of produced H2]          NaN    NaN    NaN   \nLarge-scale transmission [% of transported hyod...    NaN    NaN    NaN   \n\n                                                     1993   1994   1995  \\\nID                                                                        \nGHG intensity of electricity generation [g CO2e...  631.0  626.0  610.0   \nGHG intensity of electricity generation [g CO2e...    NaN    NaN    NaN   \nGrey hydrogen emissions [g CO2/MJ H2] - Norway        NaN    NaN    NaN   \nGrey hydrogen emissions [kg CO2/kg H2] - Norway       NaN    NaN    NaN   \nBlue hydrogen emissions [g CO2/MJ H2] - Norway        NaN    NaN    NaN   \n...                                                   ...    ...    ...   \nHydrogen leakage                                      NaN    NaN    NaN   \nElectrolytic H2 production [% of produced H2]         NaN    NaN    NaN   \nElectrolytic H2 production [% of produced H2] w...    NaN    NaN    NaN   \nCCS enabled H2 production [% of produced H2]          NaN    NaN    NaN   \nLarge-scale transmission [% of transported hyod...    NaN    NaN    NaN   \n\n                                                     1996   1997  ...  \\\nID                                                                ...   \nGHG intensity of electricity generation [g CO2e...  580.0  566.0  ...   \nGHG intensity of electricity generation [g CO2e...    NaN    NaN  ...   \nGrey hydrogen emissions [g CO2/MJ H2] - Norway        NaN    NaN  ...   \nGrey hydrogen emissions [kg CO2/kg H2] - Norway       NaN    NaN  ...   \nBlue hydrogen emissions [g CO2/MJ H2] - Norway        NaN    NaN  ...   \n...                                                   ...    ...  ...   \nHydrogen leakage                                      NaN    NaN  ...   \nElectrolytic H2 production [% of produced H2]         NaN    NaN  ...   \nElectrolytic H2 production [% of produced H2] w...    NaN    NaN  ...   \nCCS enabled H2 production [% of produced H2]          NaN    NaN  ...   \nLarge-scale transmission [% of transported hyod...    NaN    NaN  ...   \n\n                                                         2041      2042  \\\nID                                                                        \nGHG intensity of electricity generation [g CO2e...  62.592000  46.94400   \nGHG intensity of electricity generation [g CO2e...   7.783673   6.91882   \nGrey hydrogen emissions [g CO2/MJ H2] - Norway            NaN       NaN   \nGrey hydrogen emissions [kg CO2/kg H2] - Norway           NaN       NaN   \nBlue hydrogen emissions [g CO2/MJ H2] - Norway      25.499000  24.61800   \n...                                                       ...       ...   \nHydrogen leakage                                          NaN       NaN   \nElectrolytic H2 production [% of produced H2]             NaN       NaN   \nElectrolytic H2 production [% of produced H2] w...        NaN       NaN   \nCCS enabled H2 production [% of produced H2]              NaN       NaN   \nLarge-scale transmission [% of transported hyod...        NaN       NaN   \n\n                                                         2043       2044  \\\nID                                                                         \nGHG intensity of electricity generation [g CO2e...  31.296000  15.648000   \nGHG intensity of electricity generation [g CO2e...   6.053968   5.189115   \nGrey hydrogen emissions [g CO2/MJ H2] - Norway            NaN        NaN   \nGrey hydrogen emissions [kg CO2/kg H2] - Norway           NaN        NaN   \nBlue hydrogen emissions [g CO2/MJ H2] - Norway      23.737000  22.856000   \n...                                                       ...        ...   \nHydrogen leakage                                          NaN        NaN   \nElectrolytic H2 production [% of produced H2]             NaN        NaN   \nElectrolytic H2 production [% of produced H2] w...        NaN        NaN   \nCCS enabled H2 production [% of produced H2]              NaN        NaN   \nLarge-scale transmission [% of transported hyod...        NaN        NaN   \n\n                                                         2045      2046  \\\nID                                                                        \nGHG intensity of electricity generation [g CO2e...   0.000000   0.00000   \nGHG intensity of electricity generation [g CO2e...   4.324263   3.45941   \nGrey hydrogen emissions [g CO2/MJ H2] - Norway            NaN       NaN   \nGrey hydrogen emissions [kg CO2/kg H2] - Norway           NaN       NaN   \nBlue hydrogen emissions [g CO2/MJ H2] - Norway      21.975000  21.09400   \n...                                                       ...       ...   \nHydrogen leakage                                          NaN       NaN   \nElectrolytic H2 production [% of produced H2]             NaN       NaN   \nElectrolytic H2 production [% of produced H2] w...        NaN       NaN   \nCCS enabled H2 production [% of produced H2]              NaN       NaN   \nLarge-scale transmission [% of transported hyod...        NaN       NaN   \n\n                                                         2047       2048  \\\nID                                                                         \nGHG intensity of electricity generation [g CO2e...   0.000000   0.000000   \nGHG intensity of electricity generation [g CO2e...   2.594558   1.729705   \nGrey hydrogen emissions [g CO2/MJ H2] - Norway            NaN        NaN   \nGrey hydrogen emissions [kg CO2/kg H2] - Norway           NaN        NaN   \nBlue hydrogen emissions [g CO2/MJ H2] - Norway      20.213000  19.332000   \n...                                                       ...        ...   \nHydrogen leakage                                          NaN        NaN   \nElectrolytic H2 production [% of produced H2]             NaN        NaN   \nElectrolytic H2 production [% of produced H2] w...        NaN        NaN   \nCCS enabled H2 production [% of produced H2]              NaN        NaN   \nLarge-scale transmission [% of transported hyod...        NaN        NaN   \n\n                                                         2049   2050  \nID                                                                    \nGHG intensity of electricity generation [g CO2e...   0.000000   0.00  \nGHG intensity of electricity generation [g CO2e...   0.864853   0.00  \nGrey hydrogen emissions [g CO2/MJ H2] - Norway            NaN    NaN  \nGrey hydrogen emissions [kg CO2/kg H2] - Norway           NaN    NaN  \nBlue hydrogen emissions [g CO2/MJ H2] - Norway      18.451000  17.57  \n...                                                       ...    ...  \nHydrogen leakage                                          NaN    NaN  \nElectrolytic H2 production [% of produced H2]             NaN    NaN  \nElectrolytic H2 production [% of produced H2] w...        NaN    NaN  \nCCS enabled H2 production [% of produced H2]              NaN    NaN  \nLarge-scale transmission [% of transported hyod...        NaN    NaN  \n\n[65 rows x 63 columns]",
      "text/html": "<div>\n<style scoped>\n    .dataframe tbody tr th:only-of-type {\n        vertical-align: middle;\n    }\n\n    .dataframe tbody tr th {\n        vertical-align: top;\n    }\n\n    .dataframe thead th {\n        text-align: right;\n    }\n</style>\n<table border=\"1\" class=\"dataframe\">\n  <thead>\n    <tr style=\"text-align: right;\">\n      <th></th>\n      <th>Value</th>\n      <th>Ref</th>\n      <th>1990</th>\n      <th>1991</th>\n      <th>1992</th>\n      <th>1993</th>\n      <th>1994</th>\n      <th>1995</th>\n      <th>1996</th>\n      <th>1997</th>\n      <th>...</th>\n      <th>2041</th>\n      <th>2042</th>\n      <th>2043</th>\n      <th>2044</th>\n      <th>2045</th>\n      <th>2046</th>\n      <th>2047</th>\n      <th>2048</th>\n      <th>2049</th>\n      <th>2050</th>\n    </tr>\n    <tr>\n      <th>ID</th>\n      <th></th>\n      <th></th>\n      <th></th>\n      <th></th>\n      <th></th>\n      <th></th>\n      <th></th>\n      <th></th>\n      <th></th>\n      <th></th>\n      <th></th>\n      <th></th>\n      <th></th>\n      <th></th>\n      <th></th>\n      <th></th>\n      <th></th>\n      <th></th>\n      <th></th>\n      <th></th>\n      <th></th>\n    </tr>\n  </thead>\n  <tbody>\n    <tr>\n      <th>GHG intensity of electricity generation [g CO2eq/kWh] - Germany</th>\n      <td>NaN</td>\n      <td>EEA 2022</td>\n      <td>652.0</td>\n      <td>656.0</td>\n      <td>628.0</td>\n      <td>631.0</td>\n      <td>626.0</td>\n      <td>610.0</td>\n      <td>580.0</td>\n      <td>566.0</td>\n      <td>...</td>\n      <td>62.592000</td>\n      <td>46.94400</td>\n      <td>31.296000</td>\n      <td>15.648000</td>\n      <td>0.000000</td>\n      <td>0.00000</td>\n      <td>0.000000</td>\n      <td>0.000000</td>\n      <td>0.000000</td>\n      <td>0.00</td>\n    </tr>\n    <tr>\n      <th>GHG intensity of electricity generation [g CO2eq/kWh] - Norway</th>\n      <td>NaN</td>\n      <td>Our world in Data</td>\n      <td>NaN</td>\n      <td>NaN</td>\n      <td>NaN</td>\n      <td>NaN</td>\n      <td>NaN</td>\n      <td>NaN</td>\n      <td>NaN</td>\n      <td>NaN</td>\n      <td>...</td>\n      <td>7.783673</td>\n      <td>6.91882</td>\n      <td>6.053968</td>\n      <td>5.189115</td>\n      <td>4.324263</td>\n      <td>3.45941</td>\n      <td>2.594558</td>\n      <td>1.729705</td>\n      <td>0.864853</td>\n      <td>0.00</td>\n    </tr>\n    <tr>\n      <th>Grey hydrogen emissions [g CO2/MJ H2] - Norway</th>\n      <td>96.77</td>\n      <td>Own calculation @ GWP20</td>\n      <td>NaN</td>\n      <td>NaN</td>\n      <td>NaN</td>\n      <td>NaN</td>\n      <td>NaN</td>\n      <td>NaN</td>\n      <td>NaN</td>\n      <td>NaN</td>\n      <td>...</td>\n      <td>NaN</td>\n      <td>NaN</td>\n      <td>NaN</td>\n      <td>NaN</td>\n      <td>NaN</td>\n      <td>NaN</td>\n      <td>NaN</td>\n      <td>NaN</td>\n      <td>NaN</td>\n      <td>NaN</td>\n    </tr>\n    <tr>\n      <th>Grey hydrogen emissions [kg CO2/kg H2] - Norway</th>\n      <td>11.6124</td>\n      <td>Own calculation @ GWP20</td>\n      <td>NaN</td>\n      <td>NaN</td>\n      <td>NaN</td>\n      <td>NaN</td>\n      <td>NaN</td>\n      <td>NaN</td>\n      <td>NaN</td>\n      <td>NaN</td>\n      <td>...</td>\n      <td>NaN</td>\n      <td>NaN</td>\n      <td>NaN</td>\n      <td>NaN</td>\n      <td>NaN</td>\n      <td>NaN</td>\n      <td>NaN</td>\n      <td>NaN</td>\n      <td>NaN</td>\n      <td>NaN</td>\n    </tr>\n    <tr>\n      <th>Blue hydrogen emissions [g CO2/MJ H2] - Norway</th>\n      <td>NaN</td>\n      <td>Own calculation @ GWP20</td>\n      <td>NaN</td>\n      <td>NaN</td>\n      <td>NaN</td>\n      <td>NaN</td>\n      <td>NaN</td>\n      <td>NaN</td>\n      <td>NaN</td>\n      <td>NaN</td>\n      <td>...</td>\n      <td>25.499000</td>\n      <td>24.61800</td>\n      <td>23.737000</td>\n      <td>22.856000</td>\n      <td>21.975000</td>\n      <td>21.09400</td>\n      <td>20.213000</td>\n      <td>19.332000</td>\n      <td>18.451000</td>\n      <td>17.57</td>\n    </tr>\n    <tr>\n      <th>...</th>\n      <td>...</td>\n      <td>...</td>\n      <td>...</td>\n      <td>...</td>\n      <td>...</td>\n      <td>...</td>\n      <td>...</td>\n      <td>...</td>\n      <td>...</td>\n      <td>...</td>\n      <td>...</td>\n      <td>...</td>\n      <td>...</td>\n      <td>...</td>\n      <td>...</td>\n      <td>...</td>\n      <td>...</td>\n      <td>...</td>\n      <td>...</td>\n      <td>...</td>\n      <td>...</td>\n    </tr>\n    <tr>\n      <th>Hydrogen leakage</th>\n      <td>Predicted Emission Confidence level</td>\n      <td>Ref</td>\n      <td>NaN</td>\n      <td>NaN</td>\n      <td>NaN</td>\n      <td>NaN</td>\n      <td>NaN</td>\n      <td>NaN</td>\n      <td>NaN</td>\n      <td>NaN</td>\n      <td>...</td>\n      <td>NaN</td>\n      <td>NaN</td>\n      <td>NaN</td>\n      <td>NaN</td>\n      <td>NaN</td>\n      <td>NaN</td>\n      <td>NaN</td>\n      <td>NaN</td>\n      <td>NaN</td>\n      <td>NaN</td>\n    </tr>\n    <tr>\n      <th>Electrolytic H2 production [% of produced H2]</th>\n      <td>0.092</td>\n      <td>DOE 2022</td>\n      <td>NaN</td>\n      <td>NaN</td>\n      <td>NaN</td>\n      <td>NaN</td>\n      <td>NaN</td>\n      <td>NaN</td>\n      <td>NaN</td>\n      <td>NaN</td>\n      <td>...</td>\n      <td>NaN</td>\n      <td>NaN</td>\n      <td>NaN</td>\n      <td>NaN</td>\n      <td>NaN</td>\n      <td>NaN</td>\n      <td>NaN</td>\n      <td>NaN</td>\n      <td>NaN</td>\n      <td>NaN</td>\n    </tr>\n    <tr>\n      <th>Electrolytic H2 production [% of produced H2] w/ recombination</th>\n      <td>0.0052</td>\n      <td>DOE 2022</td>\n      <td>NaN</td>\n      <td>NaN</td>\n      <td>NaN</td>\n      <td>NaN</td>\n      <td>NaN</td>\n      <td>NaN</td>\n      <td>NaN</td>\n      <td>NaN</td>\n      <td>...</td>\n      <td>NaN</td>\n      <td>NaN</td>\n      <td>NaN</td>\n      <td>NaN</td>\n      <td>NaN</td>\n      <td>NaN</td>\n      <td>NaN</td>\n      <td>NaN</td>\n      <td>NaN</td>\n      <td>NaN</td>\n    </tr>\n    <tr>\n      <th>CCS enabled H2 production [% of produced H2]</th>\n      <td>0.005</td>\n      <td>DOE 2022</td>\n      <td>NaN</td>\n      <td>NaN</td>\n      <td>NaN</td>\n      <td>NaN</td>\n      <td>NaN</td>\n      <td>NaN</td>\n      <td>NaN</td>\n      <td>NaN</td>\n      <td>...</td>\n      <td>NaN</td>\n      <td>NaN</td>\n      <td>NaN</td>\n      <td>NaN</td>\n      <td>NaN</td>\n      <td>NaN</td>\n      <td>NaN</td>\n      <td>NaN</td>\n      <td>NaN</td>\n      <td>NaN</td>\n    </tr>\n    <tr>\n      <th>Large-scale transmission [% of transported hyodrogen]</th>\n      <td>0.0048</td>\n      <td>DOE 2022</td>\n      <td>NaN</td>\n      <td>NaN</td>\n      <td>NaN</td>\n      <td>NaN</td>\n      <td>NaN</td>\n      <td>NaN</td>\n      <td>NaN</td>\n      <td>NaN</td>\n      <td>...</td>\n      <td>NaN</td>\n      <td>NaN</td>\n      <td>NaN</td>\n      <td>NaN</td>\n      <td>NaN</td>\n      <td>NaN</td>\n      <td>NaN</td>\n      <td>NaN</td>\n      <td>NaN</td>\n      <td>NaN</td>\n    </tr>\n  </tbody>\n</table>\n<p>65 rows × 63 columns</p>\n</div>"
     },
     "execution_count": 17,
     "metadata": {},
     "output_type": "execute_result"
    }
   ],
   "source": [
    "GHG =  pd.read_excel(path, sheet_name='GHG Footprint', decimal=',', index_col= 0)\n",
    "GHG"
   ],
   "metadata": {
    "collapsed": false,
    "pycharm": {
     "name": "#%%\n"
    }
   }
  },
  {
   "cell_type": "code",
   "execution_count": 18,
   "outputs": [
    {
     "data": {
      "text/plain": "                                                        2020       2021  \\\nID                                                                        \nUnited_Arab_Emirates_Onshore_3_low_temp_baseline    7.083424   6.891298   \nUnited_Arab_Emirates_Offshore_1_low_temp_baseline  11.470109  11.104346   \nUnited_Arab_Emirates_Offshore_2_low_temp_baseline  15.518520  15.026419   \nUnited_Arab_Emirates_PV_2_low_temp_baseline         3.990183   3.815470   \nUnited_Arab_Emirates_PV_3_low_temp_baseline         4.167158   3.984340   \n...                                                      ...        ...   \nSouth_Africa_PV_4_low_temp_optimistic               4.776238   4.522432   \nSouth_Africa_Onshore_3_high_temp_optimistic         6.957099   6.651531   \nSouth_Africa_Offshore_1_high_temp_optimistic        6.420926   6.101068   \nSouth_Africa_Offshore_2_high_temp_optimistic        7.882887   7.502615   \nSouth_Africa_PV_4_high_temp_optimistic              8.301321   7.735446   \n\n                                                        2022       2023  \\\nID                                                                        \nUnited_Arab_Emirates_Onshore_3_low_temp_baseline    6.715543   6.552560   \nUnited_Arab_Emirates_Offshore_1_low_temp_baseline  10.787404  10.505314   \nUnited_Arab_Emirates_Offshore_2_low_temp_baseline  14.603391  14.229709   \nUnited_Arab_Emirates_PV_2_low_temp_baseline         3.659375   3.516671   \nUnited_Arab_Emirates_PV_3_low_temp_baseline         3.821167   3.672128   \n...                                                      ...        ...   \nSouth_Africa_PV_4_low_temp_optimistic               4.311259   4.130247   \nSouth_Africa_Onshore_3_high_temp_optimistic         6.361605   6.082880   \nSouth_Africa_Offshore_1_high_temp_optimistic        5.807786   5.532832   \nSouth_Africa_Offshore_2_high_temp_optimistic        7.158460   6.839487   \nSouth_Africa_PV_4_high_temp_optimistic              7.214757   6.725080   \n\n                                                        2024       2025  \\\nID                                                                        \nUnited_Arab_Emirates_Onshore_3_low_temp_baseline    6.399783   6.255316   \nUnited_Arab_Emirates_Offshore_1_low_temp_baseline  10.249265  10.013359   \nUnited_Arab_Emirates_Offshore_2_low_temp_baseline  13.892937  13.584745   \nUnited_Arab_Emirates_PV_2_low_temp_baseline         3.384029   3.259207   \nUnited_Arab_Emirates_PV_3_low_temp_baseline         3.533712   3.403554   \n...                                                      ...        ...   \nSouth_Africa_PV_4_low_temp_optimistic               3.971568   3.830018   \nSouth_Africa_Onshore_3_high_temp_optimistic         5.812121   5.546874   \nSouth_Africa_Offshore_1_high_temp_optimistic        5.271000   5.018783   \nSouth_Africa_Offshore_2_high_temp_optimistic        6.538808   6.251803   \nSouth_Africa_PV_4_high_temp_optimistic              6.257449   5.805842   \n\n                                                        2026       2027  \\\nID                                                                        \nUnited_Arab_Emirates_Onshore_3_low_temp_baseline    6.117722   5.985886   \nUnited_Arab_Emirates_Offshore_1_low_temp_baseline   9.793456   9.586545   \nUnited_Arab_Emirates_Offshore_2_low_temp_baseline  13.299293  13.032333   \nUnited_Arab_Emirates_PV_2_low_temp_baseline         3.140629   3.027147   \nUnited_Arab_Emirates_PV_3_low_temp_baseline         3.279992   3.161815   \n...                                                      ...        ...   \nSouth_Africa_PV_4_low_temp_optimistic               3.701980   3.584849   \nSouth_Africa_Onshore_3_high_temp_optimistic         5.285203   5.025533   \nSouth_Africa_Offshore_1_high_temp_optimistic        4.773702   4.533933   \nSouth_Africa_Offshore_2_high_temp_optimistic        5.975218   5.706671   \nSouth_Africa_PV_4_high_temp_optimistic              5.366024   4.934896   \n\n                                                        2028       2029  ...  \\\nID                                                                       ...   \nUnited_Arab_Emirates_Onshore_3_low_temp_baseline    5.858925   5.736129  ...   \nUnited_Arab_Emirates_Offshore_1_low_temp_baseline   9.390367   9.203187  ...   \nUnited_Arab_Emirates_Offshore_2_low_temp_baseline  12.780680  12.541890  ...   \nUnited_Arab_Emirates_PV_2_low_temp_baseline         2.917901   2.812232  ...   \nUnited_Arab_Emirates_PV_3_low_temp_baseline         3.048116   2.938202  ...   \n...                                                      ...        ...  ...   \nSouth_Africa_PV_4_low_temp_optimistic               3.476693   3.376044  ...   \nSouth_Africa_Onshore_3_high_temp_optimistic         4.766533   4.507054  ...   \nSouth_Africa_Offshore_1_high_temp_optimistic        4.298081   4.065056  ...   \nSouth_Africa_Offshore_2_high_temp_optimistic        5.444358   5.186877  ...   \nSouth_Africa_PV_4_high_temp_optimistic              4.510115   4.089858  ...   \n\n                                                       2041      2042  \\\nID                                                                      \nUnited_Arab_Emirates_Onshore_3_low_temp_baseline   4.691380  4.628208   \nUnited_Arab_Emirates_Offshore_1_low_temp_baseline  7.248224  7.116204   \nUnited_Arab_Emirates_Offshore_2_low_temp_baseline  9.892514  9.713566   \nUnited_Arab_Emirates_PV_2_low_temp_baseline        2.123259  2.077646   \nUnited_Arab_Emirates_PV_3_low_temp_baseline        2.218239  2.170581   \n...                                                     ...       ...   \nSouth_Africa_PV_4_low_temp_optimistic              2.316135  2.243911   \nSouth_Africa_Onshore_3_high_temp_optimistic        3.527896  3.479815   \nSouth_Africa_Offshore_1_high_temp_optimistic       3.044944  2.985666   \nSouth_Africa_Offshore_2_high_temp_optimistic       3.922605  3.847566   \nSouth_Africa_PV_4_high_temp_optimistic             2.785486  2.716458   \n\n                                                       2043      2044  \\\nID                                                                      \nUnited_Arab_Emirates_Onshore_3_low_temp_baseline   4.566471  4.512363   \nUnited_Arab_Emirates_Offshore_1_low_temp_baseline  6.992261  6.880684   \nUnited_Arab_Emirates_Offshore_2_low_temp_baseline  9.545998  9.395894   \nUnited_Arab_Emirates_PV_2_low_temp_baseline        2.033698  1.995168   \nUnited_Arab_Emirates_PV_3_low_temp_baseline        2.124678  2.084494   \n...                                                     ...       ...   \nSouth_Africa_PV_4_low_temp_optimistic              2.174816  2.115768   \nSouth_Africa_Onshore_3_high_temp_optimistic        3.432700  3.392380   \nSouth_Africa_Offshore_1_high_temp_optimistic       2.930034  2.880146   \nSouth_Africa_Offshore_2_high_temp_optimistic       3.777477  3.715198   \nSouth_Africa_PV_4_high_temp_optimistic             2.650047  2.592917   \n\n                                                       2045      2046  \\\nID                                                                      \nUnited_Arab_Emirates_Onshore_3_low_temp_baseline   4.403312  4.338001   \nUnited_Arab_Emirates_Offshore_1_low_temp_baseline  6.719989  6.607285   \nUnited_Arab_Emirates_Offshore_2_low_temp_baseline  9.176013  9.024151   \nUnited_Arab_Emirates_PV_2_low_temp_baseline        1.933859  1.891448   \nUnited_Arab_Emirates_PV_3_low_temp_baseline        2.020231  1.975935   \n...                                                     ...       ...   \nSouth_Africa_PV_4_low_temp_optimistic              2.014671  1.948563   \nSouth_Africa_Onshore_3_high_temp_optimistic        3.300107  3.248513   \nSouth_Africa_Offshore_1_high_temp_optimistic       2.806048  2.755060   \nSouth_Africa_Offshore_2_high_temp_optimistic       3.619913  3.556102   \nSouth_Africa_PV_4_high_temp_optimistic             2.495084  2.430448   \n\n                                                       2047      2048  \\\nID                                                                      \nUnited_Arab_Emirates_Onshore_3_low_temp_baseline   4.274817  4.213586   \nUnited_Arab_Emirates_Offshore_1_low_temp_baseline  6.500267  6.398248   \nUnited_Arab_Emirates_Offshore_2_low_temp_baseline  8.880277  8.743419   \nUnited_Arab_Emirates_PV_2_low_temp_baseline        1.850562  1.811050   \nUnited_Arab_Emirates_PV_3_low_temp_baseline        1.933247  1.892006   \n...                                                     ...       ...   \nSouth_Africa_PV_4_low_temp_optimistic              1.885225  1.824345   \nSouth_Africa_Onshore_3_high_temp_optimistic        3.198556  3.150082   \nSouth_Africa_Offshore_1_high_temp_optimistic       2.706577  2.660273   \nSouth_Africa_Offshore_2_high_temp_optimistic       3.495686  3.438224   \nSouth_Africa_PV_4_high_temp_optimistic             2.368174  2.307988   \n\n                                                       2049      2050  \nID                                                                     \nUnited_Arab_Emirates_Onshore_3_low_temp_baseline   4.154154  4.096389  \nUnited_Arab_Emirates_Offshore_1_low_temp_baseline  6.300666  6.207051  \nUnited_Arab_Emirates_Offshore_2_low_temp_baseline  8.612779  8.487690  \nUnited_Arab_Emirates_PV_2_low_temp_baseline        1.772783  1.735653  \nUnited_Arab_Emirates_PV_3_low_temp_baseline        1.852079  1.813348  \n...                                                     ...       ...  \nSouth_Africa_PV_4_low_temp_optimistic              1.765661  1.708951  \nSouth_Africa_Onshore_3_high_temp_optimistic        3.102956  3.057060  \nSouth_Africa_Offshore_1_high_temp_optimistic       2.615880  2.573177  \nSouth_Africa_Offshore_2_high_temp_optimistic       3.383351  3.330767  \nSouth_Africa_PV_4_high_temp_optimistic             2.249662  2.193002  \n\n[1660 rows x 31 columns]",
      "text/html": "<div>\n<style scoped>\n    .dataframe tbody tr th:only-of-type {\n        vertical-align: middle;\n    }\n\n    .dataframe tbody tr th {\n        vertical-align: top;\n    }\n\n    .dataframe thead th {\n        text-align: right;\n    }\n</style>\n<table border=\"1\" class=\"dataframe\">\n  <thead>\n    <tr style=\"text-align: right;\">\n      <th></th>\n      <th>2020</th>\n      <th>2021</th>\n      <th>2022</th>\n      <th>2023</th>\n      <th>2024</th>\n      <th>2025</th>\n      <th>2026</th>\n      <th>2027</th>\n      <th>2028</th>\n      <th>2029</th>\n      <th>...</th>\n      <th>2041</th>\n      <th>2042</th>\n      <th>2043</th>\n      <th>2044</th>\n      <th>2045</th>\n      <th>2046</th>\n      <th>2047</th>\n      <th>2048</th>\n      <th>2049</th>\n      <th>2050</th>\n    </tr>\n    <tr>\n      <th>ID</th>\n      <th></th>\n      <th></th>\n      <th></th>\n      <th></th>\n      <th></th>\n      <th></th>\n      <th></th>\n      <th></th>\n      <th></th>\n      <th></th>\n      <th></th>\n      <th></th>\n      <th></th>\n      <th></th>\n      <th></th>\n      <th></th>\n      <th></th>\n      <th></th>\n      <th></th>\n      <th></th>\n      <th></th>\n    </tr>\n  </thead>\n  <tbody>\n    <tr>\n      <th>United_Arab_Emirates_Onshore_3_low_temp_baseline</th>\n      <td>7.083424</td>\n      <td>6.891298</td>\n      <td>6.715543</td>\n      <td>6.552560</td>\n      <td>6.399783</td>\n      <td>6.255316</td>\n      <td>6.117722</td>\n      <td>5.985886</td>\n      <td>5.858925</td>\n      <td>5.736129</td>\n      <td>...</td>\n      <td>4.691380</td>\n      <td>4.628208</td>\n      <td>4.566471</td>\n      <td>4.512363</td>\n      <td>4.403312</td>\n      <td>4.338001</td>\n      <td>4.274817</td>\n      <td>4.213586</td>\n      <td>4.154154</td>\n      <td>4.096389</td>\n    </tr>\n    <tr>\n      <th>United_Arab_Emirates_Offshore_1_low_temp_baseline</th>\n      <td>11.470109</td>\n      <td>11.104346</td>\n      <td>10.787404</td>\n      <td>10.505314</td>\n      <td>10.249265</td>\n      <td>10.013359</td>\n      <td>9.793456</td>\n      <td>9.586545</td>\n      <td>9.390367</td>\n      <td>9.203187</td>\n      <td>...</td>\n      <td>7.248224</td>\n      <td>7.116204</td>\n      <td>6.992261</td>\n      <td>6.880684</td>\n      <td>6.719989</td>\n      <td>6.607285</td>\n      <td>6.500267</td>\n      <td>6.398248</td>\n      <td>6.300666</td>\n      <td>6.207051</td>\n    </tr>\n    <tr>\n      <th>United_Arab_Emirates_Offshore_2_low_temp_baseline</th>\n      <td>15.518520</td>\n      <td>15.026419</td>\n      <td>14.603391</td>\n      <td>14.229709</td>\n      <td>13.892937</td>\n      <td>13.584745</td>\n      <td>13.299293</td>\n      <td>13.032333</td>\n      <td>12.780680</td>\n      <td>12.541890</td>\n      <td>...</td>\n      <td>9.892514</td>\n      <td>9.713566</td>\n      <td>9.545998</td>\n      <td>9.395894</td>\n      <td>9.176013</td>\n      <td>9.024151</td>\n      <td>8.880277</td>\n      <td>8.743419</td>\n      <td>8.612779</td>\n      <td>8.487690</td>\n    </tr>\n    <tr>\n      <th>United_Arab_Emirates_PV_2_low_temp_baseline</th>\n      <td>3.990183</td>\n      <td>3.815470</td>\n      <td>3.659375</td>\n      <td>3.516671</td>\n      <td>3.384029</td>\n      <td>3.259207</td>\n      <td>3.140629</td>\n      <td>3.027147</td>\n      <td>2.917901</td>\n      <td>2.812232</td>\n      <td>...</td>\n      <td>2.123259</td>\n      <td>2.077646</td>\n      <td>2.033698</td>\n      <td>1.995168</td>\n      <td>1.933859</td>\n      <td>1.891448</td>\n      <td>1.850562</td>\n      <td>1.811050</td>\n      <td>1.772783</td>\n      <td>1.735653</td>\n    </tr>\n    <tr>\n      <th>United_Arab_Emirates_PV_3_low_temp_baseline</th>\n      <td>4.167158</td>\n      <td>3.984340</td>\n      <td>3.821167</td>\n      <td>3.672128</td>\n      <td>3.533712</td>\n      <td>3.403554</td>\n      <td>3.279992</td>\n      <td>3.161815</td>\n      <td>3.048116</td>\n      <td>2.938202</td>\n      <td>...</td>\n      <td>2.218239</td>\n      <td>2.170581</td>\n      <td>2.124678</td>\n      <td>2.084494</td>\n      <td>2.020231</td>\n      <td>1.975935</td>\n      <td>1.933247</td>\n      <td>1.892006</td>\n      <td>1.852079</td>\n      <td>1.813348</td>\n    </tr>\n    <tr>\n      <th>...</th>\n      <td>...</td>\n      <td>...</td>\n      <td>...</td>\n      <td>...</td>\n      <td>...</td>\n      <td>...</td>\n      <td>...</td>\n      <td>...</td>\n      <td>...</td>\n      <td>...</td>\n      <td>...</td>\n      <td>...</td>\n      <td>...</td>\n      <td>...</td>\n      <td>...</td>\n      <td>...</td>\n      <td>...</td>\n      <td>...</td>\n      <td>...</td>\n      <td>...</td>\n      <td>...</td>\n    </tr>\n    <tr>\n      <th>South_Africa_PV_4_low_temp_optimistic</th>\n      <td>4.776238</td>\n      <td>4.522432</td>\n      <td>4.311259</td>\n      <td>4.130247</td>\n      <td>3.971568</td>\n      <td>3.830018</td>\n      <td>3.701980</td>\n      <td>3.584849</td>\n      <td>3.476693</td>\n      <td>3.376044</td>\n      <td>...</td>\n      <td>2.316135</td>\n      <td>2.243911</td>\n      <td>2.174816</td>\n      <td>2.115768</td>\n      <td>2.014671</td>\n      <td>1.948563</td>\n      <td>1.885225</td>\n      <td>1.824345</td>\n      <td>1.765661</td>\n      <td>1.708951</td>\n    </tr>\n    <tr>\n      <th>South_Africa_Onshore_3_high_temp_optimistic</th>\n      <td>6.957099</td>\n      <td>6.651531</td>\n      <td>6.361605</td>\n      <td>6.082880</td>\n      <td>5.812121</td>\n      <td>5.546874</td>\n      <td>5.285203</td>\n      <td>5.025533</td>\n      <td>4.766533</td>\n      <td>4.507054</td>\n      <td>...</td>\n      <td>3.527896</td>\n      <td>3.479815</td>\n      <td>3.432700</td>\n      <td>3.392380</td>\n      <td>3.300107</td>\n      <td>3.248513</td>\n      <td>3.198556</td>\n      <td>3.150082</td>\n      <td>3.102956</td>\n      <td>3.057060</td>\n    </tr>\n    <tr>\n      <th>South_Africa_Offshore_1_high_temp_optimistic</th>\n      <td>6.420926</td>\n      <td>6.101068</td>\n      <td>5.807786</td>\n      <td>5.532832</td>\n      <td>5.271000</td>\n      <td>5.018783</td>\n      <td>4.773702</td>\n      <td>4.533933</td>\n      <td>4.298081</td>\n      <td>4.065056</td>\n      <td>...</td>\n      <td>3.044944</td>\n      <td>2.985666</td>\n      <td>2.930034</td>\n      <td>2.880146</td>\n      <td>2.806048</td>\n      <td>2.755060</td>\n      <td>2.706577</td>\n      <td>2.660273</td>\n      <td>2.615880</td>\n      <td>2.573177</td>\n    </tr>\n    <tr>\n      <th>South_Africa_Offshore_2_high_temp_optimistic</th>\n      <td>7.882887</td>\n      <td>7.502615</td>\n      <td>7.158460</td>\n      <td>6.839487</td>\n      <td>6.538808</td>\n      <td>6.251803</td>\n      <td>5.975218</td>\n      <td>5.706671</td>\n      <td>5.444358</td>\n      <td>5.186877</td>\n      <td>...</td>\n      <td>3.922605</td>\n      <td>3.847566</td>\n      <td>3.777477</td>\n      <td>3.715198</td>\n      <td>3.619913</td>\n      <td>3.556102</td>\n      <td>3.495686</td>\n      <td>3.438224</td>\n      <td>3.383351</td>\n      <td>3.330767</td>\n    </tr>\n    <tr>\n      <th>South_Africa_PV_4_high_temp_optimistic</th>\n      <td>8.301321</td>\n      <td>7.735446</td>\n      <td>7.214757</td>\n      <td>6.725080</td>\n      <td>6.257449</td>\n      <td>5.805842</td>\n      <td>5.366024</td>\n      <td>4.934896</td>\n      <td>4.510115</td>\n      <td>4.089858</td>\n      <td>...</td>\n      <td>2.785486</td>\n      <td>2.716458</td>\n      <td>2.650047</td>\n      <td>2.592917</td>\n      <td>2.495084</td>\n      <td>2.430448</td>\n      <td>2.368174</td>\n      <td>2.307988</td>\n      <td>2.249662</td>\n      <td>2.193002</td>\n    </tr>\n  </tbody>\n</table>\n<p>1660 rows × 31 columns</p>\n</div>"
     },
     "execution_count": 18,
     "metadata": {},
     "output_type": "execute_result"
    }
   ],
   "source": [
    "lcoh_green = pd.read_excel(path, sheet_name='LCOH_RES', decimal=',', index_col=0)\n",
    "lcoh_green"
   ],
   "metadata": {
    "collapsed": false,
    "pycharm": {
     "name": "#%%\n"
    }
   }
  },
  {
   "cell_type": "code",
   "execution_count": 19,
   "outputs": [],
   "source": [
    "lowest_green = ((lcoh_green.loc['Norway_Onshore_2_low_temp_optimistic', 2025:2050]).mul(0.89))"
   ],
   "metadata": {
    "collapsed": false,
    "pycharm": {
     "name": "#%%\n"
    }
   }
  },
  {
   "cell_type": "code",
   "execution_count": 20,
   "outputs": [
    {
     "data": {
      "text/plain": "       Norway_Onshore_2_low_temp_optimistic\nYears                                      \n2025                               2.491992\n2026                               2.440769\n2027                               2.392928\n2028                               2.347980\n2029                               2.305535\n2030                               2.265274\n2031                               2.205328\n2032                               2.157935\n2033                               2.112188\n2034                               2.068154\n2035                               2.026197\n2036                               1.985129\n2037                               1.945128\n2038                               1.908208\n2039                               1.871112\n2040                               1.834076\n2041                               1.801782\n2042                               1.770822\n2043                               1.740567\n2044                               1.714207\n2045                               1.659565\n2046                               1.627420\n2047                               1.596338\n2048                               1.566225\n2049                               1.536996\n2050                               1.508580",
      "text/html": "<div>\n<style scoped>\n    .dataframe tbody tr th:only-of-type {\n        vertical-align: middle;\n    }\n\n    .dataframe tbody tr th {\n        vertical-align: top;\n    }\n\n    .dataframe thead th {\n        text-align: right;\n    }\n</style>\n<table border=\"1\" class=\"dataframe\">\n  <thead>\n    <tr style=\"text-align: right;\">\n      <th></th>\n      <th>Norway_Onshore_2_low_temp_optimistic</th>\n    </tr>\n    <tr>\n      <th>Years</th>\n      <th></th>\n    </tr>\n  </thead>\n  <tbody>\n    <tr>\n      <th>2025</th>\n      <td>2.491992</td>\n    </tr>\n    <tr>\n      <th>2026</th>\n      <td>2.440769</td>\n    </tr>\n    <tr>\n      <th>2027</th>\n      <td>2.392928</td>\n    </tr>\n    <tr>\n      <th>2028</th>\n      <td>2.347980</td>\n    </tr>\n    <tr>\n      <th>2029</th>\n      <td>2.305535</td>\n    </tr>\n    <tr>\n      <th>2030</th>\n      <td>2.265274</td>\n    </tr>\n    <tr>\n      <th>2031</th>\n      <td>2.205328</td>\n    </tr>\n    <tr>\n      <th>2032</th>\n      <td>2.157935</td>\n    </tr>\n    <tr>\n      <th>2033</th>\n      <td>2.112188</td>\n    </tr>\n    <tr>\n      <th>2034</th>\n      <td>2.068154</td>\n    </tr>\n    <tr>\n      <th>2035</th>\n      <td>2.026197</td>\n    </tr>\n    <tr>\n      <th>2036</th>\n      <td>1.985129</td>\n    </tr>\n    <tr>\n      <th>2037</th>\n      <td>1.945128</td>\n    </tr>\n    <tr>\n      <th>2038</th>\n      <td>1.908208</td>\n    </tr>\n    <tr>\n      <th>2039</th>\n      <td>1.871112</td>\n    </tr>\n    <tr>\n      <th>2040</th>\n      <td>1.834076</td>\n    </tr>\n    <tr>\n      <th>2041</th>\n      <td>1.801782</td>\n    </tr>\n    <tr>\n      <th>2042</th>\n      <td>1.770822</td>\n    </tr>\n    <tr>\n      <th>2043</th>\n      <td>1.740567</td>\n    </tr>\n    <tr>\n      <th>2044</th>\n      <td>1.714207</td>\n    </tr>\n    <tr>\n      <th>2045</th>\n      <td>1.659565</td>\n    </tr>\n    <tr>\n      <th>2046</th>\n      <td>1.627420</td>\n    </tr>\n    <tr>\n      <th>2047</th>\n      <td>1.596338</td>\n    </tr>\n    <tr>\n      <th>2048</th>\n      <td>1.566225</td>\n    </tr>\n    <tr>\n      <th>2049</th>\n      <td>1.536996</td>\n    </tr>\n    <tr>\n      <th>2050</th>\n      <td>1.508580</td>\n    </tr>\n  </tbody>\n</table>\n</div>"
     },
     "execution_count": 20,
     "metadata": {},
     "output_type": "execute_result"
    }
   ],
   "source": [
    "lowest_green = pd.DataFrame(lowest_green)\n",
    "lowest_green.index.name = 'Years'\n",
    "lowest_green"
   ],
   "metadata": {
    "collapsed": false,
    "pycharm": {
     "name": "#%%\n"
    }
   }
  },
  {
   "cell_type": "code",
   "execution_count": 61,
   "outputs": [],
   "source": [
    "lcoh_blue = pd.read_excel(path, sheet_name='Reference Results', decimal=',', usecols=['Years','LCOH_BLUE'], index_col=0)"
   ],
   "metadata": {
    "collapsed": false,
    "pycharm": {
     "name": "#%%\n"
    }
   }
  },
  {
   "cell_type": "code",
   "execution_count": 62,
   "outputs": [
    {
     "data": {
      "text/plain": "       LCOH_BLUE\nYears           \n2025    2.589820\n2026    2.373447\n2027    2.155720\n2028    1.821652\n2029    1.831196\n2030    1.839387\n2031    1.856517\n2032    1.872223\n2033    1.886502\n2034    1.899351\n2035    1.910768\n2036    1.920750\n2037    1.929296\n2038    1.936403\n2039    1.942068\n2040    1.946291\n2041    1.940501\n2042    1.933856\n2043    1.926355\n2044    1.917997\n2045    1.908779\n2046    1.898193\n2047    1.886788\n2048    1.874562\n2049    1.861514\n2050    1.839630",
      "text/html": "<div>\n<style scoped>\n    .dataframe tbody tr th:only-of-type {\n        vertical-align: middle;\n    }\n\n    .dataframe tbody tr th {\n        vertical-align: top;\n    }\n\n    .dataframe thead th {\n        text-align: right;\n    }\n</style>\n<table border=\"1\" class=\"dataframe\">\n  <thead>\n    <tr style=\"text-align: right;\">\n      <th></th>\n      <th>LCOH_BLUE</th>\n    </tr>\n    <tr>\n      <th>Years</th>\n      <th></th>\n    </tr>\n  </thead>\n  <tbody>\n    <tr>\n      <th>2025</th>\n      <td>2.589820</td>\n    </tr>\n    <tr>\n      <th>2026</th>\n      <td>2.373447</td>\n    </tr>\n    <tr>\n      <th>2027</th>\n      <td>2.155720</td>\n    </tr>\n    <tr>\n      <th>2028</th>\n      <td>1.821652</td>\n    </tr>\n    <tr>\n      <th>2029</th>\n      <td>1.831196</td>\n    </tr>\n    <tr>\n      <th>2030</th>\n      <td>1.839387</td>\n    </tr>\n    <tr>\n      <th>2031</th>\n      <td>1.856517</td>\n    </tr>\n    <tr>\n      <th>2032</th>\n      <td>1.872223</td>\n    </tr>\n    <tr>\n      <th>2033</th>\n      <td>1.886502</td>\n    </tr>\n    <tr>\n      <th>2034</th>\n      <td>1.899351</td>\n    </tr>\n    <tr>\n      <th>2035</th>\n      <td>1.910768</td>\n    </tr>\n    <tr>\n      <th>2036</th>\n      <td>1.920750</td>\n    </tr>\n    <tr>\n      <th>2037</th>\n      <td>1.929296</td>\n    </tr>\n    <tr>\n      <th>2038</th>\n      <td>1.936403</td>\n    </tr>\n    <tr>\n      <th>2039</th>\n      <td>1.942068</td>\n    </tr>\n    <tr>\n      <th>2040</th>\n      <td>1.946291</td>\n    </tr>\n    <tr>\n      <th>2041</th>\n      <td>1.940501</td>\n    </tr>\n    <tr>\n      <th>2042</th>\n      <td>1.933856</td>\n    </tr>\n    <tr>\n      <th>2043</th>\n      <td>1.926355</td>\n    </tr>\n    <tr>\n      <th>2044</th>\n      <td>1.917997</td>\n    </tr>\n    <tr>\n      <th>2045</th>\n      <td>1.908779</td>\n    </tr>\n    <tr>\n      <th>2046</th>\n      <td>1.898193</td>\n    </tr>\n    <tr>\n      <th>2047</th>\n      <td>1.886788</td>\n    </tr>\n    <tr>\n      <th>2048</th>\n      <td>1.874562</td>\n    </tr>\n    <tr>\n      <th>2049</th>\n      <td>1.861514</td>\n    </tr>\n    <tr>\n      <th>2050</th>\n      <td>1.839630</td>\n    </tr>\n  </tbody>\n</table>\n</div>"
     },
     "execution_count": 62,
     "metadata": {},
     "output_type": "execute_result"
    }
   ],
   "source": [
    "#lcoh_blue = pd.read_csv(r\"\\\\dena.de\\Daten\\Home\\Reuter\\Desktop\\H2_pathways_repo\\data\\processed\\LCOH_NGR.csv\", delimiter=';', index_col=0)\n",
    "lcoh_blue"
   ],
   "metadata": {
    "collapsed": false,
    "pycharm": {
     "name": "#%%\n"
    }
   }
  },
  {
   "cell_type": "markdown",
   "source": [
    "# Minimal production costs"
   ],
   "metadata": {
    "collapsed": false,
    "pycharm": {
     "name": "#%% md\n"
    }
   }
  },
  {
   "cell_type": "code",
   "execution_count": 63,
   "outputs": [],
   "source": [
    "def choose_minimal_production_costs():\n",
    "    result = min(LCOH_green, LCOH_blue)\n",
    "\n",
    "    return result"
   ],
   "metadata": {
    "collapsed": false,
    "pycharm": {
     "name": "#%%\n"
    }
   }
  },
  {
   "cell_type": "code",
   "execution_count": 64,
   "outputs": [],
   "source": [
    "def choose_minimal_production_cost_technology():\n",
    "    if min(LCOH_green, LCOH_blue) == LCOH_green:\n",
    "        result = 'Green'\n",
    "    else:\n",
    "        result = 'Blue'\n",
    "\n",
    "    return result"
   ],
   "metadata": {
    "collapsed": false,
    "pycharm": {
     "name": "#%%\n"
    }
   }
  },
  {
   "cell_type": "code",
   "execution_count": 29,
   "outputs": [
    {
     "data": {
      "text/plain": "      Minimal_production_costs Technology\nYears                                    \n2025                  2.491992      Green\n2026                  2.373447       Blue\n2027                   2.15572       Blue\n2028                  1.821652       Blue\n2029                  1.831196       Blue\n2030                  1.839387       Blue\n2031                  1.856517       Blue\n2032                  1.872223       Blue\n2033                  1.886502       Blue\n2034                  1.899351       Blue\n2035                  1.910768       Blue\n2036                   1.92075       Blue\n2037                  1.929296       Blue\n2038                  1.908208      Green\n2039                  1.871112      Green\n2040                  1.834076      Green\n2041                  1.801782      Green\n2042                  1.770822      Green\n2043                  1.740567      Green\n2044                  1.714207      Green\n2045                  1.659565      Green\n2046                   1.62742      Green\n2047                  1.596338      Green\n2048                  1.566225      Green\n2049                  1.536996      Green\n2050                   1.50858      Green",
      "text/html": "<div>\n<style scoped>\n    .dataframe tbody tr th:only-of-type {\n        vertical-align: middle;\n    }\n\n    .dataframe tbody tr th {\n        vertical-align: top;\n    }\n\n    .dataframe thead th {\n        text-align: right;\n    }\n</style>\n<table border=\"1\" class=\"dataframe\">\n  <thead>\n    <tr style=\"text-align: right;\">\n      <th></th>\n      <th>Minimal_production_costs</th>\n      <th>Technology</th>\n    </tr>\n    <tr>\n      <th>Years</th>\n      <th></th>\n      <th></th>\n    </tr>\n  </thead>\n  <tbody>\n    <tr>\n      <th>2025</th>\n      <td>2.491992</td>\n      <td>Green</td>\n    </tr>\n    <tr>\n      <th>2026</th>\n      <td>2.373447</td>\n      <td>Blue</td>\n    </tr>\n    <tr>\n      <th>2027</th>\n      <td>2.15572</td>\n      <td>Blue</td>\n    </tr>\n    <tr>\n      <th>2028</th>\n      <td>1.821652</td>\n      <td>Blue</td>\n    </tr>\n    <tr>\n      <th>2029</th>\n      <td>1.831196</td>\n      <td>Blue</td>\n    </tr>\n    <tr>\n      <th>2030</th>\n      <td>1.839387</td>\n      <td>Blue</td>\n    </tr>\n    <tr>\n      <th>2031</th>\n      <td>1.856517</td>\n      <td>Blue</td>\n    </tr>\n    <tr>\n      <th>2032</th>\n      <td>1.872223</td>\n      <td>Blue</td>\n    </tr>\n    <tr>\n      <th>2033</th>\n      <td>1.886502</td>\n      <td>Blue</td>\n    </tr>\n    <tr>\n      <th>2034</th>\n      <td>1.899351</td>\n      <td>Blue</td>\n    </tr>\n    <tr>\n      <th>2035</th>\n      <td>1.910768</td>\n      <td>Blue</td>\n    </tr>\n    <tr>\n      <th>2036</th>\n      <td>1.92075</td>\n      <td>Blue</td>\n    </tr>\n    <tr>\n      <th>2037</th>\n      <td>1.929296</td>\n      <td>Blue</td>\n    </tr>\n    <tr>\n      <th>2038</th>\n      <td>1.908208</td>\n      <td>Green</td>\n    </tr>\n    <tr>\n      <th>2039</th>\n      <td>1.871112</td>\n      <td>Green</td>\n    </tr>\n    <tr>\n      <th>2040</th>\n      <td>1.834076</td>\n      <td>Green</td>\n    </tr>\n    <tr>\n      <th>2041</th>\n      <td>1.801782</td>\n      <td>Green</td>\n    </tr>\n    <tr>\n      <th>2042</th>\n      <td>1.770822</td>\n      <td>Green</td>\n    </tr>\n    <tr>\n      <th>2043</th>\n      <td>1.740567</td>\n      <td>Green</td>\n    </tr>\n    <tr>\n      <th>2044</th>\n      <td>1.714207</td>\n      <td>Green</td>\n    </tr>\n    <tr>\n      <th>2045</th>\n      <td>1.659565</td>\n      <td>Green</td>\n    </tr>\n    <tr>\n      <th>2046</th>\n      <td>1.62742</td>\n      <td>Green</td>\n    </tr>\n    <tr>\n      <th>2047</th>\n      <td>1.596338</td>\n      <td>Green</td>\n    </tr>\n    <tr>\n      <th>2048</th>\n      <td>1.566225</td>\n      <td>Green</td>\n    </tr>\n    <tr>\n      <th>2049</th>\n      <td>1.536996</td>\n      <td>Green</td>\n    </tr>\n    <tr>\n      <th>2050</th>\n      <td>1.50858</td>\n      <td>Green</td>\n    </tr>\n  </tbody>\n</table>\n</div>"
     },
     "execution_count": 29,
     "metadata": {},
     "output_type": "execute_result"
    }
   ],
   "source": [
    "years = np.arange(2025, 2051)\n",
    "result = pd.DataFrame(index=years, columns=['Minimal_production_costs', 'Technology'])\n",
    "result.index.name = 'Years'\n",
    "for year in years:\n",
    "    # get all costs\n",
    "\n",
    "    LCOH_green = float(lowest_green.loc[year]['Norway_Onshore_2_low_temp_optimistic'])\n",
    "    LCOH_blue = float(lcoh_blue.loc[year]['LCOH_BLUE'])\n",
    "\n",
    "    # calculate costs of specific year\n",
    "    result.Minimal_production_costs.loc[year] = choose_minimal_production_costs()\n",
    "    result.Technology.loc[year] = choose_minimal_production_cost_technology()\n",
    "\n",
    "result"
   ],
   "metadata": {
    "collapsed": false,
    "pycharm": {
     "name": "#%%\n"
    }
   }
  },
  {
   "cell_type": "code",
   "execution_count": 39,
   "outputs": [
    {
     "name": "stderr",
     "output_type": "stream",
     "text": [
      "C:\\Users\\REUTER\\AppData\\Local\\Temp\\ipykernel_14856\\789380861.py:4: FutureWarning: Setting the `book` attribute is not part of the public API, usage can give unexpected or corrupted results and will be removed in a future version\n",
      "  writer.book = book\n"
     ]
    }
   ],
   "source": [
    "# export result to excel\n",
    "writer = pd.ExcelWriter(path, engine='openpyxl', mode='a', if_sheet_exists='overlay')\n",
    "book = load_workbook(path)\n",
    "writer.book = book\n",
    "#writer.sheets = dict((ws.title, ws) for ws in book.worksheets)\n",
    "\n",
    "ws = book['Reference Results']\n",
    "\n",
    "result.to_excel(writer, sheet_name='Reference Results', index=False, startcol=ws.max_column)\n",
    "book.save(path)\n",
    "book.close()"
   ],
   "metadata": {
    "collapsed": false,
    "pycharm": {
     "name": "#%%\n"
    }
   }
  },
  {
   "cell_type": "code",
   "execution_count": 37,
   "outputs": [
    {
     "ename": "SyntaxError",
     "evalue": "unterminated string literal (detected at line 2) (304438698.py, line 2)",
     "output_type": "error",
     "traceback": [
      "\u001B[1;36m  Cell \u001B[1;32mIn [37], line 2\u001B[1;36m\u001B[0m\n\u001B[1;33m    path_csv = r'\\\\dena.de\\Daten\\Home\\Reuter\\Desktop\\H2_pathways_repo\\data\\processed\\'\u001B[0m\n\u001B[1;37m               ^\u001B[0m\n\u001B[1;31mSyntaxError\u001B[0m\u001B[1;31m:\u001B[0m unterminated string literal (detected at line 2)\n"
     ]
    }
   ],
   "source": [
    "# Create csv file from results dataframe\n",
    "path_csv = r'\\\\dena.de\\Daten\\Home\\Reuter\\Desktop\\H2_pathways_repo\\data\\processed\\'\n",
    "output_file = os.path.join(path_csv, 'Minimal_production_costs_technology.csv')\n",
    "result.to_csv(output_file, sep=';')"
   ],
   "metadata": {
    "collapsed": false,
    "pycharm": {
     "name": "#%%\n"
    }
   }
  },
  {
   "cell_type": "code",
   "execution_count": 40,
   "outputs": [],
   "source": [
    "years = np.arange(2025, 2051)\n",
    "result = pd.DataFrame(index=years, columns=['Minimal_production_costs'])\n",
    "result.index.name = 'Years'"
   ],
   "metadata": {
    "collapsed": false,
    "pycharm": {
     "name": "#%%\n"
    }
   }
  },
  {
   "cell_type": "code",
   "execution_count": 41,
   "outputs": [
    {
     "data": {
      "text/plain": "      Minimal_production_costs\nYears                         \n2025                  2.491992\n2026                  2.373447\n2027                   2.15572\n2028                  1.821652\n2029                  1.831196\n2030                  1.839387\n2031                  1.856517\n2032                  1.872223\n2033                  1.886502\n2034                  1.899351\n2035                  1.910768\n2036                   1.92075\n2037                  1.929296\n2038                  1.908208\n2039                  1.871112\n2040                  1.834076\n2041                  1.801782\n2042                  1.770822\n2043                  1.740567\n2044                  1.714207\n2045                  1.659565\n2046                   1.62742\n2047                  1.596338\n2048                  1.566225\n2049                  1.536996\n2050                   1.50858",
      "text/html": "<div>\n<style scoped>\n    .dataframe tbody tr th:only-of-type {\n        vertical-align: middle;\n    }\n\n    .dataframe tbody tr th {\n        vertical-align: top;\n    }\n\n    .dataframe thead th {\n        text-align: right;\n    }\n</style>\n<table border=\"1\" class=\"dataframe\">\n  <thead>\n    <tr style=\"text-align: right;\">\n      <th></th>\n      <th>Minimal_production_costs</th>\n    </tr>\n    <tr>\n      <th>Years</th>\n      <th></th>\n    </tr>\n  </thead>\n  <tbody>\n    <tr>\n      <th>2025</th>\n      <td>2.491992</td>\n    </tr>\n    <tr>\n      <th>2026</th>\n      <td>2.373447</td>\n    </tr>\n    <tr>\n      <th>2027</th>\n      <td>2.15572</td>\n    </tr>\n    <tr>\n      <th>2028</th>\n      <td>1.821652</td>\n    </tr>\n    <tr>\n      <th>2029</th>\n      <td>1.831196</td>\n    </tr>\n    <tr>\n      <th>2030</th>\n      <td>1.839387</td>\n    </tr>\n    <tr>\n      <th>2031</th>\n      <td>1.856517</td>\n    </tr>\n    <tr>\n      <th>2032</th>\n      <td>1.872223</td>\n    </tr>\n    <tr>\n      <th>2033</th>\n      <td>1.886502</td>\n    </tr>\n    <tr>\n      <th>2034</th>\n      <td>1.899351</td>\n    </tr>\n    <tr>\n      <th>2035</th>\n      <td>1.910768</td>\n    </tr>\n    <tr>\n      <th>2036</th>\n      <td>1.92075</td>\n    </tr>\n    <tr>\n      <th>2037</th>\n      <td>1.929296</td>\n    </tr>\n    <tr>\n      <th>2038</th>\n      <td>1.908208</td>\n    </tr>\n    <tr>\n      <th>2039</th>\n      <td>1.871112</td>\n    </tr>\n    <tr>\n      <th>2040</th>\n      <td>1.834076</td>\n    </tr>\n    <tr>\n      <th>2041</th>\n      <td>1.801782</td>\n    </tr>\n    <tr>\n      <th>2042</th>\n      <td>1.770822</td>\n    </tr>\n    <tr>\n      <th>2043</th>\n      <td>1.740567</td>\n    </tr>\n    <tr>\n      <th>2044</th>\n      <td>1.714207</td>\n    </tr>\n    <tr>\n      <th>2045</th>\n      <td>1.659565</td>\n    </tr>\n    <tr>\n      <th>2046</th>\n      <td>1.62742</td>\n    </tr>\n    <tr>\n      <th>2047</th>\n      <td>1.596338</td>\n    </tr>\n    <tr>\n      <th>2048</th>\n      <td>1.566225</td>\n    </tr>\n    <tr>\n      <th>2049</th>\n      <td>1.536996</td>\n    </tr>\n    <tr>\n      <th>2050</th>\n      <td>1.50858</td>\n    </tr>\n  </tbody>\n</table>\n</div>"
     },
     "execution_count": 41,
     "metadata": {},
     "output_type": "execute_result"
    }
   ],
   "source": [
    "for year in years:\n",
    "    # get all costs\n",
    "\n",
    "    LCOH_green = float(lowest_green.loc[year]['Norway_Onshore_2_low_temp_optimistic'])\n",
    "    LCOH_blue = float(lcoh_blue.loc[year]['LCOH_BLUE'])\n",
    "\n",
    "    # calculate costs of specific year\n",
    "    result.Minimal_production_costs.loc[year] = choose_minimal_production_costs()\n",
    "\n",
    "\n",
    "\n",
    "result"
   ],
   "metadata": {
    "collapsed": false,
    "pycharm": {
     "name": "#%%\n"
    }
   }
  },
  {
   "cell_type": "code",
   "execution_count": null,
   "outputs": [],
   "source": [
    "# Create csv file from results dataframe\n",
    "path_csv= r'/Users/jakob/PycharmProjects/H2_pathways_repo/data/processed'\n",
    "output_file = os.path.join(path_csv, 'Minimal_production_costs.csv')\n",
    "result.to_csv(output_file, sep=';')"
   ],
   "metadata": {
    "collapsed": false,
    "pycharm": {
     "name": "#%%\n"
    }
   }
  },
  {
   "cell_type": "markdown",
   "source": [
    "## Plot production costs"
   ],
   "metadata": {
    "collapsed": false,
    "pycharm": {
     "name": "#%% md\n"
    }
   }
  },
  {
   "cell_type": "code",
   "execution_count": null,
   "outputs": [],
   "source": [],
   "metadata": {
    "collapsed": false,
    "pycharm": {
     "name": "#%%\n"
    }
   }
  },
  {
   "cell_type": "code",
   "execution_count": 118,
   "outputs": [
    {
     "ename": "TypeError",
     "evalue": "xticks(): Parameter 'labels' can't be set without setting 'ticks'",
     "output_type": "error",
     "traceback": [
      "\u001B[1;31m---------------------------------------------------------------------------\u001B[0m",
      "\u001B[1;31mTypeError\u001B[0m                                 Traceback (most recent call last)",
      "Cell \u001B[1;32mIn [118], line 11\u001B[0m\n\u001B[0;32m      9\u001B[0m ax\u001B[38;5;241m.\u001B[39mlegend()\n\u001B[0;32m     10\u001B[0m plt\u001B[38;5;241m.\u001B[39mylabel(\u001B[38;5;124m'\u001B[39m\u001B[38;5;124m[€/kg H2]\u001B[39m\u001B[38;5;124m'\u001B[39m, fontweight\u001B[38;5;241m=\u001B[39m\u001B[38;5;124m'\u001B[39m\u001B[38;5;124mbold\u001B[39m\u001B[38;5;124m'\u001B[39m)\n\u001B[1;32m---> 11\u001B[0m \u001B[43mplt\u001B[49m\u001B[38;5;241;43m.\u001B[39;49m\u001B[43mxticks\u001B[49m\u001B[43m(\u001B[49m\u001B[43mticks\u001B[49m\u001B[38;5;241;43m=\u001B[39;49m\u001B[38;5;28;43;01mNone\u001B[39;49;00m\u001B[43m,\u001B[49m\u001B[43m \u001B[49m\u001B[43mlabels\u001B[49m\u001B[38;5;241;43m=\u001B[39;49m\u001B[43mnp\u001B[49m\u001B[38;5;241;43m.\u001B[39;49m\u001B[43marange\u001B[49m\u001B[43m(\u001B[49m\u001B[38;5;241;43m2025\u001B[39;49m\u001B[43m,\u001B[49m\u001B[38;5;241;43m2051\u001B[39;49m\u001B[43m,\u001B[49m\u001B[38;5;241;43m5\u001B[39;49m\u001B[43m)\u001B[49m\u001B[43m)\u001B[49m\n\u001B[0;32m     13\u001B[0m title \u001B[38;5;241m=\u001B[39m \u001B[38;5;124m'\u001B[39m\u001B[38;5;124mGreen_and_blue_costs\u001B[39m\u001B[38;5;124m'\u001B[39m\n\u001B[0;32m     14\u001B[0m plt\u001B[38;5;241m.\u001B[39msavefig(path_plt\u001B[38;5;241m+\u001B[39mtitle\u001B[38;5;241m+\u001B[39m\u001B[38;5;124m'\u001B[39m\u001B[38;5;124m.png\u001B[39m\u001B[38;5;124m'\u001B[39m, transparent \u001B[38;5;241m=\u001B[39m \u001B[38;5;28;01mTrue\u001B[39;00m)\n",
      "File \u001B[1;32m~\\Miniconda3\\envs\\Desktop\\lib\\site-packages\\matplotlib\\pyplot.py:1804\u001B[0m, in \u001B[0;36mxticks\u001B[1;34m(ticks, labels, **kwargs)\u001B[0m\n\u001B[0;32m   1802\u001B[0m     locs \u001B[38;5;241m=\u001B[39m ax\u001B[38;5;241m.\u001B[39mget_xticks()\n\u001B[0;32m   1803\u001B[0m     \u001B[38;5;28;01mif\u001B[39;00m labels \u001B[38;5;129;01mis\u001B[39;00m \u001B[38;5;129;01mnot\u001B[39;00m \u001B[38;5;28;01mNone\u001B[39;00m:\n\u001B[1;32m-> 1804\u001B[0m         \u001B[38;5;28;01mraise\u001B[39;00m \u001B[38;5;167;01mTypeError\u001B[39;00m(\u001B[38;5;124m\"\u001B[39m\u001B[38;5;124mxticks(): Parameter \u001B[39m\u001B[38;5;124m'\u001B[39m\u001B[38;5;124mlabels\u001B[39m\u001B[38;5;124m'\u001B[39m\u001B[38;5;124m can\u001B[39m\u001B[38;5;124m'\u001B[39m\u001B[38;5;124mt be set \u001B[39m\u001B[38;5;124m\"\u001B[39m\n\u001B[0;32m   1805\u001B[0m                         \u001B[38;5;124m\"\u001B[39m\u001B[38;5;124mwithout setting \u001B[39m\u001B[38;5;124m'\u001B[39m\u001B[38;5;124mticks\u001B[39m\u001B[38;5;124m'\u001B[39m\u001B[38;5;124m\"\u001B[39m)\n\u001B[0;32m   1806\u001B[0m \u001B[38;5;28;01melse\u001B[39;00m:\n\u001B[0;32m   1807\u001B[0m     locs \u001B[38;5;241m=\u001B[39m ax\u001B[38;5;241m.\u001B[39mset_xticks(ticks)\n",
      "\u001B[1;31mTypeError\u001B[0m: xticks(): Parameter 'labels' can't be set without setting 'ticks'"
     ]
    },
    {
     "data": {
      "text/plain": "<Figure size 1000x600 with 1 Axes>",
      "image/png": "[encoded data removed]"
     },
     "metadata": {},
     "output_type": "display_data"
    }
   ],
   "source": [
    "# Plot cost curves of hydrogen production from NGR with CCS and RES\n",
    "fig, ax = plt.subplots(figsize=(10, 6))\n",
    "\n",
    "plt.plot(lowest_green, color='green', linestyle='solid', label='Green hydrogen')\n",
    "plt.plot(lcoh_blue, color='blue', linestyle='solid', label='Blue hydrogen')\n",
    "plt.grid(True, axis='y')\n",
    "ax.set_axisbelow(True)\n",
    "#plt.title('Cost curves for green and blue hydrogen production', fontweight='bold')\n",
    "ax.legend()\n",
    "plt.ylabel('[€/kg H2]', fontweight='bold')\n",
    "plt.xticks(ticks=None, labels=np.arange(2025,2051,5))\n",
    "\n",
    "title = 'Green_and_blue_costs'\n",
    "plt.savefig(path_plt+title+'.png', transparent = True)\n",
    "\n",
    "\n",
    "plt.show()"
   ],
   "metadata": {
    "collapsed": false,
    "pycharm": {
     "name": "#%%\n"
    }
   }
  },
  {
   "cell_type": "code",
   "execution_count": null,
   "outputs": [],
   "source": [
    "# Plot cost curve for production costst\n",
    "fig, ax = plt.subplots(figsize=(10,6))\n",
    "plt.grid(True, axis = 'y')\n",
    "ax.set_axisbelow(True)\n",
    "plt.plot(result, color='black', linestyle='solid')\n",
    "plt.title('Minimal production costs in €/kg_H2')\n",
    "plt.xlabel('Year')\n",
    "plt.ylabel('Cost')\n",
    "plt.show()"
   ],
   "metadata": {
    "collapsed": false,
    "pycharm": {
     "name": "#%%\n"
    }
   }
  },
  {
   "cell_type": "markdown",
   "source": [
    "# Transport inputs"
   ],
   "metadata": {
    "collapsed": false,
    "pycharm": {
     "name": "#%% md\n"
    }
   }
  },
  {
   "cell_type": "code",
   "execution_count": null,
   "outputs": [],
   "source": [
    "availabilities = pd.read_excel(path, sheet_name='General Assumptions', decimal=',', index_col=0)\n",
    "availabilities"
   ],
   "metadata": {
    "collapsed": false,
    "pycharm": {
     "name": "#%%\n"
    }
   }
  },
  {
   "cell_type": "code",
   "execution_count": null,
   "outputs": [],
   "source": [
    "this_year = int(availabilities.loc['Technology availability']['Value'])\n",
    "this_year"
   ],
   "metadata": {
    "collapsed": false,
    "pycharm": {
     "name": "#%%\n"
    }
   }
  },
  {
   "cell_type": "code",
   "execution_count": null,
   "outputs": [],
   "source": [
    "AV_pipe_new = int(availabilities.loc['New H2 pipeline - time from FID to commissioning [years]']['Value'])\n",
    "AV_pipe_new"
   ],
   "metadata": {
    "collapsed": false,
    "pycharm": {
     "name": "#%%\n"
    }
   }
  },
  {
   "cell_type": "code",
   "execution_count": null,
   "outputs": [],
   "source": [
    "AV_pipe_retro = int(availabilities.loc['Retrofit H2 pipeline - availability from now [years]']['Value'])\n",
    "AV_pipe_retro"
   ],
   "metadata": {
    "collapsed": false,
    "pycharm": {
     "name": "#%%\n"
    }
   }
  },
  {
   "cell_type": "code",
   "execution_count": null,
   "outputs": [],
   "source": [
    "AV_pipe_co2 = int(availabilities.loc['New CO2 pipeline - time from FID to commissioning [years]']['Value'])\n",
    "AV_pipe_co2"
   ],
   "metadata": {
    "collapsed": false,
    "pycharm": {
     "name": "#%%\n"
    }
   }
  },
  {
   "cell_type": "code",
   "execution_count": null,
   "outputs": [],
   "source": [
    "AV_LH2 = int(availabilities.loc['LH2 shipping - availability']['Value'])\n",
    "AV_LH2"
   ],
   "metadata": {
    "collapsed": false,
    "pycharm": {
     "name": "#%%\n"
    }
   }
  },
  {
   "cell_type": "code",
   "execution_count": null,
   "outputs": [],
   "source": [
    "AV_NH3 = int(availabilities.loc['Ammonia shipping - availability']['Value'])\n",
    "AV_NH3"
   ],
   "metadata": {
    "collapsed": false,
    "pycharm": {
     "name": "#%%\n"
    }
   }
  },
  {
   "cell_type": "code",
   "execution_count": null,
   "outputs": [],
   "source": [
    "pipe_retro_off = pd.read_csv(\"/Users/jakob/PycharmProjects/H2_pathways_repo/data/processed/Retrofit_pipeline_costs_off.csv\", delimiter=';', index_col= 0)\n",
    "pipe_retro_off"
   ],
   "metadata": {
    "collapsed": false,
    "pycharm": {
     "name": "#%%\n"
    }
   }
  },
  {
   "cell_type": "markdown",
   "source": [],
   "metadata": {
    "collapsed": false,
    "pycharm": {
     "name": "#%% md\n"
    }
   }
  },
  {
   "cell_type": "code",
   "execution_count": null,
   "outputs": [],
   "source": [
    "pipe_new_off = pd.read_csv(\"/Users/jakob/PycharmProjects/H2_pathways_repo/data/processed/New_pipeline_costs_off.csv\", delimiter=';', index_col=0)\n",
    "pipe_new_off"
   ],
   "metadata": {
    "collapsed": false,
    "pycharm": {
     "name": "#%%\n"
    }
   }
  },
  {
   "cell_type": "code",
   "execution_count": null,
   "outputs": [],
   "source": [
    "LH2 = pd.read_csv(\"/Users/jakob/PycharmProjects/H2_pathways_repo/data/processed/Lh2_transport_costs.csv\", delimiter=';', index_col=0)\n",
    "LH2"
   ],
   "metadata": {
    "collapsed": false,
    "pycharm": {
     "name": "#%%\n"
    }
   }
  },
  {
   "cell_type": "code",
   "execution_count": null,
   "outputs": [],
   "source": [
    "NH3 = pd.read_csv(\"/Users/jakob/PycharmProjects/H2_pathways_repo/data/processed/LNH3_transport_costs.csv\", delimiter=';', index_col=0)\n",
    "NH3"
   ],
   "metadata": {
    "collapsed": false,
    "pycharm": {
     "name": "#%%\n"
    }
   }
  },
  {
   "cell_type": "markdown",
   "source": [
    "# Minimal transport costs"
   ],
   "metadata": {
    "collapsed": false,
    "pycharm": {
     "name": "#%% md\n"
    }
   }
  },
  {
   "cell_type": "code",
   "execution_count": null,
   "outputs": [],
   "source": [
    "def choose_minimal_transport_costs():\n",
    "\n",
    "    if year < this_year + AV_pipe_new:\n",
    "        result = min(TC_LH2, TC_NH3)\n",
    "\n",
    "    elif year < this_year + AV_pipe_retro:\n",
    "        result = min(TC_pipe_new, TC_LH2, TC_NH3)\n",
    "    else:\n",
    "        result = min(TC_pipe_new, TC_pipe_retro, TC_LH2, TC_NH3)\n",
    "\n",
    "\n",
    "    return result"
   ],
   "metadata": {
    "collapsed": false,
    "pycharm": {
     "name": "#%%\n"
    }
   }
  },
  {
   "cell_type": "code",
   "execution_count": null,
   "outputs": [],
   "source": [
    "def choose_minimal_transport_costs_tech():\n",
    "\n",
    "\n",
    "    if  year < this_year + AV_pipe_new:\n",
    "        if min(TC_LH2, TC_NH3) == TC_LH2:\n",
    "            result = 'LH2'\n",
    "        else: result = 'NH3'\n",
    "\n",
    "    elif year < this_year + AV_pipe_retro:\n",
    "        if min(TC_pipe_new, TC_LH2, TC_NH3) == TC_LH2:\n",
    "            result = 'LH2'\n",
    "        elif min(TC_pipe_new, TC_LH2, TC_NH3) == TC_NH3:\n",
    "            result = 'NH3'\n",
    "        else:\n",
    "            result = 'New pipeline'\n",
    "    else:\n",
    "        if min(TC_pipe_new, TC_pipe_retro, TC_LH2, TC_NH3) == TC_LH2:\n",
    "            result = 'LH2'\n",
    "        elif min(TC_pipe_new, TC_pipe_retro, TC_LH2, TC_NH3) == TC_NH3:\n",
    "            result = 'NH3'\n",
    "        elif (TC_pipe_new, TC_pipe_retro, TC_LH2, TC_NH3) == TC_pipe_new:\n",
    "            result = 'New pipeline'\n",
    "        else:\n",
    "            result = 'Retrofit pipeline'\n",
    "\n",
    "\n",
    "    return result"
   ],
   "metadata": {
    "collapsed": false,
    "pycharm": {
     "name": "#%%\n"
    }
   }
  },
  {
   "cell_type": "code",
   "execution_count": null,
   "outputs": [],
   "source": [
    "years = np.arange(2025, 2051)\n",
    "result = pd.DataFrame(index=years, columns=['Minimal_offshore_transport_costs', 'Technology'])\n",
    "result.index.name = 'Years'"
   ],
   "metadata": {
    "collapsed": false,
    "pycharm": {
     "name": "#%%\n"
    }
   }
  },
  {
   "cell_type": "code",
   "execution_count": null,
   "outputs": [],
   "source": [
    "for year in years:\n",
    "\n",
    "    # get all costs\n",
    "    TC_pipe_new = float(pipe_new_off.loc[year]['New_Pipeline_costs_off'])\n",
    "\n",
    "    TC_pipe_retro = float(pipe_retro_off.loc[year]['Retrofit_pipeline_costs_off'])\n",
    "\n",
    "    TC_LH2 = float(LH2.loc[year]['LH2_transport_costs'])\n",
    "\n",
    "    TC_NH3 = float(NH3.loc[year]['LNH3_transport_costs'])\n",
    "\n",
    "    result.Minimal_offshore_transport_costs.loc[year] = choose_minimal_transport_costs()\n",
    "    result.Technology.loc[year] = choose_minimal_transport_costs_tech()\n",
    "\n",
    "result"
   ],
   "metadata": {
    "collapsed": false,
    "pycharm": {
     "name": "#%%\n"
    }
   }
  },
  {
   "cell_type": "code",
   "execution_count": null,
   "outputs": [],
   "source": [
    "# export result to excel\n",
    "writer = pd.ExcelWriter(path, engine='openpyxl', mode='a', if_sheet_exists='overlay')\n",
    "book = load_workbook(path)\n",
    "writer.book = book\n",
    "writer.sheets = dict((ws.title, ws) for ws in book.worksheets)\n",
    "\n",
    "ws = book['Reference Results']\n",
    "\n",
    "result.to_excel(writer, sheet_name='Reference Results', index=False, startcol=ws.max_column)\n",
    "book.save(path)\n",
    "book.close()"
   ],
   "metadata": {
    "collapsed": false,
    "pycharm": {
     "name": "#%%\n"
    }
   }
  },
  {
   "cell_type": "code",
   "execution_count": null,
   "outputs": [],
   "source": [
    "years = np.arange(2025, 2051)\n",
    "result = pd.DataFrame(index=years, columns=['Minimal_offshore_transport_costs'])\n",
    "result.index.name = 'Years'"
   ],
   "metadata": {
    "collapsed": false,
    "pycharm": {
     "name": "#%%\n"
    }
   }
  },
  {
   "cell_type": "code",
   "execution_count": null,
   "outputs": [],
   "source": [
    "for year in years:\n",
    "\n",
    "    # get all costs\n",
    "    TC_pipe_new = float(pipe_new_off.loc[year]['New_Pipeline_costs_off'])\n",
    "\n",
    "    TC_pipe_retro = float(pipe_retro_off.loc[year]['Retrofit_pipeline_costs_off'])\n",
    "\n",
    "    TC_LH2 = float(LH2.loc[year]['LH2_transport_costs'])\n",
    "\n",
    "    TC_NH3 = float(NH3.loc[year]['LNH3_transport_costs'])\n",
    "\n",
    "    result.Minimal_offshore_transport_costs.loc[year] = choose_minimal_transport_costs()\n",
    "\n",
    "result"
   ],
   "metadata": {
    "collapsed": false,
    "pycharm": {
     "name": "#%%\n"
    }
   }
  },
  {
   "cell_type": "code",
   "execution_count": null,
   "outputs": [],
   "source": [
    "# Create csv file from results dataframe\n",
    "path = r'/Users/jakob/PycharmProjects/H2_pathways_repo/data/processed'\n",
    "output_file = os.path.join(path, 'Minimal_offshore_transport_costs.csv')\n",
    "result.to_csv(output_file, sep=';')"
   ],
   "metadata": {
    "collapsed": false,
    "pycharm": {
     "name": "#%%\n"
    }
   }
  },
  {
   "cell_type": "code",
   "execution_count": null,
   "outputs": [],
   "source": [
    "# Create csv file from results dataframe\n",
    "path = r'/Users/jakob/PycharmProjects/H2_pathways_repo/data/Results'\n",
    "output_file = os.path.join(path, 'Results.xlsx')\n",
    "result.to_excel(output_file, sheet_name='Minimal_offshore_transport_costs')"
   ],
   "metadata": {
    "collapsed": false,
    "pycharm": {
     "name": "#%%\n"
    }
   }
  },
  {
   "cell_type": "markdown",
   "source": [
    "## Plot transport costs"
   ],
   "metadata": {
    "collapsed": false,
    "pycharm": {
     "name": "#%% md\n"
    }
   }
  },
  {
   "cell_type": "code",
   "execution_count": null,
   "outputs": [],
   "source": [
    "# Plot cost curve for seaborne transport\n",
    "fig, ax = plt.subplots(figsize=(10,6))\n",
    "plt.grid(True, axis = 'y')\n",
    "ax.set_axisbelow(True)\n",
    "plt.plot(result, color='cyan', linestyle='dashed')\n",
    "plt.title('Cost curve for transport')\n",
    "plt.legend(['Minimal transport costs in €/kg_H2'])\n",
    "plt.xlabel('Year')\n",
    "plt.ylabel('Cost')\n",
    "plt.show()"
   ],
   "metadata": {
    "collapsed": false,
    "pycharm": {
     "name": "#%%\n"
    }
   }
  },
  {
   "cell_type": "code",
   "execution_count": 52,
   "outputs": [
    {
     "ename": "NameError",
     "evalue": "name 'LH2' is not defined",
     "output_type": "error",
     "traceback": [
      "\u001B[1;31m---------------------------------------------------------------------------\u001B[0m",
      "\u001B[1;31mNameError\u001B[0m                                 Traceback (most recent call last)",
      "Cell \u001B[1;32mIn [52], line 3\u001B[0m\n\u001B[0;32m      1\u001B[0m \u001B[38;5;66;03m# Plot cost curves of hydrogen transport\u001B[39;00m\n\u001B[0;32m      2\u001B[0m fig, ax \u001B[38;5;241m=\u001B[39m plt\u001B[38;5;241m.\u001B[39msubplots(figsize\u001B[38;5;241m=\u001B[39m(\u001B[38;5;241m10\u001B[39m, \u001B[38;5;241m6\u001B[39m))\n\u001B[1;32m----> 3\u001B[0m plt\u001B[38;5;241m.\u001B[39mplot(\u001B[43mLH2\u001B[49m, color\u001B[38;5;241m=\u001B[39m\u001B[38;5;124m'\u001B[39m\u001B[38;5;124mblue\u001B[39m\u001B[38;5;124m'\u001B[39m, linestyle\u001B[38;5;241m=\u001B[39m\u001B[38;5;124m'\u001B[39m\u001B[38;5;124msolid\u001B[39m\u001B[38;5;124m'\u001B[39m, label\u001B[38;5;241m=\u001B[39m\u001B[38;5;124m'\u001B[39m\u001B[38;5;124mLH2\u001B[39m\u001B[38;5;124m'\u001B[39m)\n\u001B[0;32m      4\u001B[0m plt\u001B[38;5;241m.\u001B[39mplot(NH3, color\u001B[38;5;241m=\u001B[39m\u001B[38;5;124m'\u001B[39m\u001B[38;5;124myellow\u001B[39m\u001B[38;5;124m'\u001B[39m, linestyle\u001B[38;5;241m=\u001B[39m\u001B[38;5;124m'\u001B[39m\u001B[38;5;124msolid\u001B[39m\u001B[38;5;124m'\u001B[39m, label\u001B[38;5;241m=\u001B[39m\u001B[38;5;124m'\u001B[39m\u001B[38;5;124mNH3\u001B[39m\u001B[38;5;124m'\u001B[39m)\n\u001B[0;32m      5\u001B[0m plt\u001B[38;5;241m.\u001B[39mplot(pipe_new_off, color\u001B[38;5;241m=\u001B[39m\u001B[38;5;124m'\u001B[39m\u001B[38;5;124mviolet\u001B[39m\u001B[38;5;124m'\u001B[39m, linestyle\u001B[38;5;241m=\u001B[39m\u001B[38;5;124m'\u001B[39m\u001B[38;5;124msolid\u001B[39m\u001B[38;5;124m'\u001B[39m, label\u001B[38;5;241m=\u001B[39m\u001B[38;5;124m'\u001B[39m\u001B[38;5;124mNew pipeline\u001B[39m\u001B[38;5;124m'\u001B[39m)\n",
      "\u001B[1;31mNameError\u001B[0m: name 'LH2' is not defined"
     ]
    },
    {
     "data": {
      "text/plain": "<Figure size 1000x600 with 1 Axes>",
      "image/png": "[encoded data removed]"
     },
     "metadata": {},
     "output_type": "display_data"
    }
   ],
   "source": [
    "# Plot cost curves of hydrogen transport\n",
    "fig, ax = plt.subplots(figsize=(10, 6))\n",
    "plt.plot(LH2, color='blue', linestyle='solid', label='LH2')\n",
    "plt.plot(NH3, color='yellow', linestyle='solid', label='NH3')\n",
    "plt.plot(pipe_new_off, color='violet', linestyle='solid', label='New pipeline')\n",
    "plt.plot(pipe_retro_off, color='pink', linestyle='solid', label='Retrofit pipeline')\n",
    "\n",
    "plt.axvline(x=this_year + AV_pipe_new, color='violet', linestyle = '--', label= 'New pipeline available')\n",
    "plt.axvline(x=this_year + AV_pipe_retro, color='pink', linestyle = '--', label= 'Retrofit pipeline available')\n",
    "\n",
    "\n",
    "plt.grid(True, axis='y')\n",
    "ax.set_axisbelow(True)\n",
    "plt.title('Hydrogen transport costs [€/kg H2]', fontweight='bold')\n",
    "ax.legend()\n",
    "plt.ylabel('Cost')\n",
    "\n",
    "title = 'NH3_emissions_w_reconversion'\n",
    "plt.savefig(path_plt+title+'.png', transparent = True)\n",
    "\n",
    "plt.show()"
   ],
   "metadata": {
    "collapsed": false,
    "pycharm": {
     "name": "#%%\n"
    }
   }
  },
  {
   "cell_type": "code",
   "execution_count": null,
   "outputs": [],
   "source": [],
   "metadata": {
    "collapsed": false,
    "pycharm": {
     "name": "#%%\n"
    }
   }
  },
  {
   "cell_type": "markdown",
   "source": [
    "# Minimal supply costs\n"
   ],
   "metadata": {
    "collapsed": false,
    "pycharm": {
     "name": "#%% md\n"
    }
   }
  },
  {
   "cell_type": "code",
   "execution_count": null,
   "outputs": [],
   "source": [
    "mpc = pd.read_csv(\"/Users/jakob/PycharmProjects/H2_pathways_repo/data/processed/Minimal_production_costs.csv\", delimiter=';',\n",
    "    decimal=',', index_col=0)\n",
    "mpc"
   ],
   "metadata": {
    "collapsed": false,
    "pycharm": {
     "name": "#%%\n"
    }
   }
  },
  {
   "cell_type": "code",
   "execution_count": null,
   "outputs": [],
   "source": [
    "mtc = pd.read_csv(\"/Users/jakob/PycharmProjects/H2_pathways_repo/data/processed/Minimal_offshore_transport_costs.csv\", delimiter=';',\n",
    "    decimal=',', index_col=0)\n",
    "mtc"
   ],
   "metadata": {
    "collapsed": false,
    "pycharm": {
     "name": "#%%\n"
    }
   }
  },
  {
   "cell_type": "code",
   "execution_count": null,
   "outputs": [],
   "source": [
    "def calculate_total_supply_costs():\n",
    "    result = PC + TC\n",
    "\n",
    "    return result"
   ],
   "metadata": {
    "collapsed": false,
    "pycharm": {
     "name": "#%%\n"
    }
   }
  },
  {
   "cell_type": "code",
   "execution_count": null,
   "outputs": [],
   "source": [
    "years = np.arange(2025, 2051)\n",
    "result = pd.DataFrame(index=years, columns=['Total_supply_costs'])\n",
    "result.index.name = 'Years'\n",
    "\n",
    "for year in years:\n",
    "    # get all costs\n",
    "\n",
    "    PC = float(mpc.loc[year]['Minimal_production_costs'])\n",
    "    TC = float(mtc.loc[year]['Minimal_offshore_transport_costs'])\n",
    "\n",
    "\n",
    "    # calculate costs of specific year\n",
    "    result.Total_supply_costs.loc[year] = calculate_total_supply_costs()\n",
    "\n",
    "result"
   ],
   "metadata": {
    "collapsed": false,
    "pycharm": {
     "name": "#%%\n"
    }
   }
  },
  {
   "cell_type": "code",
   "execution_count": null,
   "outputs": [],
   "source": [
    "# Create csv file from results dataframe\n",
    "path = r'/Users/jakob/PycharmProjects/H2_pathways_repo/data/processed'\n",
    "output_file = os.path.join(path, 'Minimal_supply_costs.csv')\n",
    "result.to_csv(output_file, sep=';')"
   ],
   "metadata": {
    "collapsed": false,
    "pycharm": {
     "name": "#%%\n"
    }
   }
  },
  {
   "cell_type": "code",
   "execution_count": null,
   "outputs": [],
   "source": [
    "path = r'/Users/jakob/PycharmProjects/H2_pathways_repo/data/Results'\n",
    "output_file = os.path.join(path, 'Results.xlsx')\n",
    "result.to_excel(output_file, sheet_name='Minimal_supply_costs')"
   ],
   "metadata": {
    "collapsed": false,
    "pycharm": {
     "name": "#%%\n"
    }
   }
  },
  {
   "cell_type": "code",
   "execution_count": null,
   "outputs": [],
   "source": [
    "# Plot cost curve for total supply costs\n",
    "fig, ax = plt.subplots(figsize=(10, 6))\n",
    "plt.grid(True, axis='y')\n",
    "ax.set_axisbelow(True)\n",
    "plt.plot(result, color='cyan', linestyle='dashed')\n",
    "plt.title('Supply costs costs in €/kg_H2')\n",
    "plt.xlabel('Year')\n",
    "plt.ylabel('Cost')\n",
    "plt.show()\n"
   ],
   "metadata": {
    "collapsed": false,
    "pycharm": {
     "name": "#%%\n"
    }
   }
  },
  {
   "cell_type": "code",
   "execution_count": null,
   "outputs": [],
   "source": [
    "# Cost breakdown for H2 supply\n",
    "fig, ax = plt.subplots(figsize=(10,6))\n",
    "plt.grid(True, axis = 'y')\n",
    "ax.set_axisbelow(True)\n",
    "x = np.arange(2025, 2051, step=5)\n",
    "\n",
    "PC = (mpc.loc[::5]['Minimal_production_costs']).apply(pd.to_numeric)\n",
    "TC = mtc.loc[::5]['Minimal_offshore_transport_costs'].apply(pd.to_numeric)\n",
    "width = 2       # the width of the bars: can also be len(x) sequence\n",
    "\n",
    "\n",
    "TC_plt = plt.bar(x,TC, width, label='Transport', bottom= PC)\n",
    "PC_plt = plt.bar(x,PC, width, label='Production')\n",
    "\n",
    "plt.title('Lowest H2 supply costs from Norway to Germany', fontweight='bold')\n",
    "plt.legend(loc='upper right')\n",
    "plt.ylabel('Cost [€/kg H2]')\n",
    "plt.xlabel('Years')\n",
    "plt.show()\n"
   ],
   "metadata": {
    "collapsed": false,
    "pycharm": {
     "name": "#%%\n"
    }
   }
  },
  {
   "cell_type": "code",
   "execution_count": null,
   "outputs": [],
   "source": [
    "mtc"
   ],
   "metadata": {
    "collapsed": false,
    "pycharm": {
     "name": "#%%\n"
    }
   }
  },
  {
   "cell_type": "markdown",
   "source": [
    "# Write to excel"
   ],
   "metadata": {
    "collapsed": false,
    "pycharm": {
     "name": "#%% md\n"
    }
   }
  },
  {
   "cell_type": "code",
   "execution_count": null,
   "outputs": [],
   "source": [
    "# export Results dataframe to excel\n",
    "\n",
    "\n",
    "path = '/Users/jakob/PycharmProjects/H2_pathways_repo/data/Results/Results.xlsx'\n",
    "\n",
    "writer = pd.ExcelWriter(path, engine='openpyxl', mode='a')\n",
    "book = load_workbook(fn)\n",
    "writer.book = book\n",
    "writer.sheets = dict((ws.title, ws) for ws in book.worksheets)\n",
    "\n",
    "mtc.to_excel(writer, sheet_name='transport')\n",
    "book.save('/Users/jakob/PycharmProjects/H2_pathways_repo/data/Results/Results.xlsx')\n"
   ],
   "metadata": {
    "collapsed": false,
    "pycharm": {
     "name": "#%%\n"
    }
   }
  }
 ],
 "metadata": {
  "kernelspec": {
   "display_name": "Python 3",
   "language": "python",
   "name": "python3"
  },
  "language_info": {
   "codemirror_mode": {
    "name": "ipython",
    "version": 2
   },
   "file_extension": ".py",
   "mimetype": "text/x-python",
   "name": "python",
   "nbconvert_exporter": "python",
   "pygments_lexer": "ipython2",
   "version": "2.7.6"
  }
 },
 "nbformat": 4,
 "nbformat_minor": 0
}