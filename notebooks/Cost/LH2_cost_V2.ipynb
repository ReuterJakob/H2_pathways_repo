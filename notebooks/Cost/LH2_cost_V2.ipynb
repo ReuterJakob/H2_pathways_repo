{
 "cells": [
  {
   "cell_type": "markdown",
   "source": [
    "## Read inputs"
   ],
   "metadata": {
    "collapsed": false,
    "pycharm": {
     "name": "#%% md\n"
    }
   }
  },
  {
   "cell_type": "code",
   "execution_count": 1,
   "outputs": [],
   "source": [
    "# Read techno-economic assumptions and transport distances for transport cost calculation\n",
    "import numpy as np\n",
    "import pandas as pd\n",
    "from matplotlib import pyplot as plt\n",
    "import os"
   ],
   "metadata": {
    "collapsed": false,
    "pycharm": {
     "name": "#%%\n"
    }
   }
  },
  {
   "cell_type": "code",
   "execution_count": 339,
   "outputs": [
    {
     "data": {
      "text/plain": "                                                                                        Ref  \\\nProperties                                                                                    \nProperties - Gas density [kg/m3]                                                   BOG 2020   \nProperties - LHV [MJ/kg]                                                           BOG 2020   \nProperties - LHV [kWh/kg]                 https://www.iea-amf.org/content/fuel_informati...   \nProperties - LHV [kWh/m3]                  https://www.rechargenews.com/energy-transitio...   \nProperties - Boiling point at 1 Bar [°C]                                                NaN   \n...                                                                                     ...   \nCAPEX ($/kW-H2), incl. Util.                                                        EWI PTX   \nOPEX ($/kW-H2/a), incl. Util.                                                       EWI PTX   \nElectricity use (kWh/kWh-H2                                                         EWI PTX   \nUtilisation                                                                         EWI PTX   \nReconversion - Lifetime [Years]                                                     EWI PTX   \n\n                                            LH2      2020       2021  \\\nProperties                                                             \nProperties - Gas density [kg/m3]           71.1       NaN        NaN   \nProperties - LHV [MJ/kg]                    120       NaN        NaN   \nProperties - LHV [kWh/kg]                 33.33       NaN        NaN   \nProperties - LHV [kWh/m3]                  2350       NaN        NaN   \nProperties - Boiling point at 1 Bar [°C]   -253       NaN        NaN   \n...                                         ...       ...        ...   \nCAPEX ($/kW-H2), incl. Util.                NaN       NaN        NaN   \nOPEX ($/kW-H2/a), incl. Util.               NaN  57.69591  57.118951   \nElectricity use (kWh/kWh-H2                0.01   0.01000   0.010000   \nUtilisation                                 NaN   0.90000   0.900000   \nReconversion - Lifetime [Years]              30       NaN        NaN   \n\n                                               2022       2023       2024  \\\nProperties                                                                  \nProperties - Gas density [kg/m3]                NaN        NaN        NaN   \nProperties - LHV [MJ/kg]                        NaN        NaN        NaN   \nProperties - LHV [kWh/kg]                       NaN        NaN        NaN   \nProperties - LHV [kWh/m3]                       NaN        NaN        NaN   \nProperties - Boiling point at 1 Bar [°C]        NaN        NaN        NaN   \n...                                             ...        ...        ...   \nCAPEX ($/kW-H2), incl. Util.                    NaN        NaN        NaN   \nOPEX ($/kW-H2/a), incl. Util.             56.541992  55.965033  55.388074   \nElectricity use (kWh/kWh-H2                0.010000   0.010000   0.010000   \nUtilisation                                0.900000   0.900000   0.900000   \nReconversion - Lifetime [Years]                 NaN        NaN        NaN   \n\n                                               2025       2026       2027  \\\nProperties                                                                  \nProperties - Gas density [kg/m3]                NaN        NaN        NaN   \nProperties - LHV [MJ/kg]                        NaN        NaN        NaN   \nProperties - LHV [kWh/kg]                       NaN        NaN        NaN   \nProperties - LHV [kWh/m3]                       NaN        NaN        NaN   \nProperties - Boiling point at 1 Bar [°C]        NaN        NaN        NaN   \n...                                             ...        ...        ...   \nCAPEX ($/kW-H2), incl. Util.                    NaN        NaN        NaN   \nOPEX ($/kW-H2/a), incl. Util.             54.811115  54.234156  53.657197   \nElectricity use (kWh/kWh-H2                0.010000   0.010000   0.010000   \nUtilisation                                0.900000   0.900000   0.900000   \nReconversion - Lifetime [Years]                 NaN        NaN        NaN   \n\n                                          ...       2041       2042  \\\nProperties                                ...                         \nProperties - Gas density [kg/m3]          ...        NaN        NaN   \nProperties - LHV [MJ/kg]                  ...        NaN        NaN   \nProperties - LHV [kWh/kg]                 ...        NaN        NaN   \nProperties - LHV [kWh/m3]                 ...        NaN        NaN   \nProperties - Boiling point at 1 Bar [°C]  ...        NaN        NaN   \n...                                       ...        ...        ...   \nCAPEX ($/kW-H2), incl. Util.              ...        NaN        NaN   \nOPEX ($/kW-H2/a), incl. Util.             ...  37.646582  36.348424   \nElectricity use (kWh/kWh-H2               ...   0.010000   0.010000   \nUtilisation                               ...   0.900000   0.900000   \nReconversion - Lifetime [Years]           ...        NaN        NaN   \n\n                                               2043       2044      2045  \\\nProperties                                                                 \nProperties - Gas density [kg/m3]                NaN        NaN       NaN   \nProperties - LHV [MJ/kg]                        NaN        NaN       NaN   \nProperties - LHV [kWh/kg]                       NaN        NaN       NaN   \nProperties - LHV [kWh/m3]                       NaN        NaN       NaN   \nProperties - Boiling point at 1 Bar [°C]        NaN        NaN       NaN   \n...                                             ...        ...       ...   \nCAPEX ($/kW-H2), incl. Util.                    NaN        NaN       NaN   \nOPEX ($/kW-H2/a), incl. Util.             35.050266  33.752108  32.45395   \nElectricity use (kWh/kWh-H2                0.010000   0.010000   0.01000   \nUtilisation                                0.900000   0.900000   0.90000   \nReconversion - Lifetime [Years]                 NaN        NaN       NaN   \n\n                                               2046       2047       2048  \\\nProperties                                                                  \nProperties - Gas density [kg/m3]                NaN        NaN        NaN   \nProperties - LHV [MJ/kg]                        NaN        NaN        NaN   \nProperties - LHV [kWh/kg]                       NaN        NaN        NaN   \nProperties - LHV [kWh/m3]                       NaN        NaN        NaN   \nProperties - Boiling point at 1 Bar [°C]        NaN        NaN        NaN   \n...                                             ...        ...        ...   \nCAPEX ($/kW-H2), incl. Util.                    NaN        NaN        NaN   \nOPEX ($/kW-H2/a), incl. Util.             31.155792  29.857634  28.559476   \nElectricity use (kWh/kWh-H2                0.010000   0.010000   0.010000   \nUtilisation                                0.900000   0.900000   0.900000   \nReconversion - Lifetime [Years]                 NaN        NaN        NaN   \n\n                                               2049      2050  \nProperties                                                     \nProperties - Gas density [kg/m3]                NaN       NaN  \nProperties - LHV [MJ/kg]                        NaN       NaN  \nProperties - LHV [kWh/kg]                       NaN       NaN  \nProperties - LHV [kWh/m3]                       NaN       NaN  \nProperties - Boiling point at 1 Bar [°C]        NaN       NaN  \n...                                             ...       ...  \nCAPEX ($/kW-H2), incl. Util.                    NaN       NaN  \nOPEX ($/kW-H2/a), incl. Util.             27.261318  25.96316  \nElectricity use (kWh/kWh-H2                0.010000   0.01000  \nUtilisation                                0.900000   0.90000  \nReconversion - Lifetime [Years]                 NaN       NaN  \n\n[121 rows x 33 columns]",
      "text/html": "<div>\n<style scoped>\n    .dataframe tbody tr th:only-of-type {\n        vertical-align: middle;\n    }\n\n    .dataframe tbody tr th {\n        vertical-align: top;\n    }\n\n    .dataframe thead th {\n        text-align: right;\n    }\n</style>\n<table border=\"1\" class=\"dataframe\">\n  <thead>\n    <tr style=\"text-align: right;\">\n      <th></th>\n      <th>Ref</th>\n      <th>LH2</th>\n      <th>2020</th>\n      <th>2021</th>\n      <th>2022</th>\n      <th>2023</th>\n      <th>2024</th>\n      <th>2025</th>\n      <th>2026</th>\n      <th>2027</th>\n      <th>...</th>\n      <th>2041</th>\n      <th>2042</th>\n      <th>2043</th>\n      <th>2044</th>\n      <th>2045</th>\n      <th>2046</th>\n      <th>2047</th>\n      <th>2048</th>\n      <th>2049</th>\n      <th>2050</th>\n    </tr>\n    <tr>\n      <th>Properties</th>\n      <th></th>\n      <th></th>\n      <th></th>\n      <th></th>\n      <th></th>\n      <th></th>\n      <th></th>\n      <th></th>\n      <th></th>\n      <th></th>\n      <th></th>\n      <th></th>\n      <th></th>\n      <th></th>\n      <th></th>\n      <th></th>\n      <th></th>\n      <th></th>\n      <th></th>\n      <th></th>\n      <th></th>\n    </tr>\n  </thead>\n  <tbody>\n    <tr>\n      <th>Properties - Gas density [kg/m3]</th>\n      <td>BOG 2020</td>\n      <td>71.1</td>\n      <td>NaN</td>\n      <td>NaN</td>\n      <td>NaN</td>\n      <td>NaN</td>\n      <td>NaN</td>\n      <td>NaN</td>\n      <td>NaN</td>\n      <td>NaN</td>\n      <td>...</td>\n      <td>NaN</td>\n      <td>NaN</td>\n      <td>NaN</td>\n      <td>NaN</td>\n      <td>NaN</td>\n      <td>NaN</td>\n      <td>NaN</td>\n      <td>NaN</td>\n      <td>NaN</td>\n      <td>NaN</td>\n    </tr>\n    <tr>\n      <th>Properties - LHV [MJ/kg]</th>\n      <td>BOG 2020</td>\n      <td>120</td>\n      <td>NaN</td>\n      <td>NaN</td>\n      <td>NaN</td>\n      <td>NaN</td>\n      <td>NaN</td>\n      <td>NaN</td>\n      <td>NaN</td>\n      <td>NaN</td>\n      <td>...</td>\n      <td>NaN</td>\n      <td>NaN</td>\n      <td>NaN</td>\n      <td>NaN</td>\n      <td>NaN</td>\n      <td>NaN</td>\n      <td>NaN</td>\n      <td>NaN</td>\n      <td>NaN</td>\n      <td>NaN</td>\n    </tr>\n    <tr>\n      <th>Properties - LHV [kWh/kg]</th>\n      <td>https://www.iea-amf.org/content/fuel_informati...</td>\n      <td>33.33</td>\n      <td>NaN</td>\n      <td>NaN</td>\n      <td>NaN</td>\n      <td>NaN</td>\n      <td>NaN</td>\n      <td>NaN</td>\n      <td>NaN</td>\n      <td>NaN</td>\n      <td>...</td>\n      <td>NaN</td>\n      <td>NaN</td>\n      <td>NaN</td>\n      <td>NaN</td>\n      <td>NaN</td>\n      <td>NaN</td>\n      <td>NaN</td>\n      <td>NaN</td>\n      <td>NaN</td>\n      <td>NaN</td>\n    </tr>\n    <tr>\n      <th>Properties - LHV [kWh/m3]</th>\n      <td>https://www.rechargenews.com/energy-transitio...</td>\n      <td>2350</td>\n      <td>NaN</td>\n      <td>NaN</td>\n      <td>NaN</td>\n      <td>NaN</td>\n      <td>NaN</td>\n      <td>NaN</td>\n      <td>NaN</td>\n      <td>NaN</td>\n      <td>...</td>\n      <td>NaN</td>\n      <td>NaN</td>\n      <td>NaN</td>\n      <td>NaN</td>\n      <td>NaN</td>\n      <td>NaN</td>\n      <td>NaN</td>\n      <td>NaN</td>\n      <td>NaN</td>\n      <td>NaN</td>\n    </tr>\n    <tr>\n      <th>Properties - Boiling point at 1 Bar [°C]</th>\n      <td>NaN</td>\n      <td>-253</td>\n      <td>NaN</td>\n      <td>NaN</td>\n      <td>NaN</td>\n      <td>NaN</td>\n      <td>NaN</td>\n      <td>NaN</td>\n      <td>NaN</td>\n      <td>NaN</td>\n      <td>...</td>\n      <td>NaN</td>\n      <td>NaN</td>\n      <td>NaN</td>\n      <td>NaN</td>\n      <td>NaN</td>\n      <td>NaN</td>\n      <td>NaN</td>\n      <td>NaN</td>\n      <td>NaN</td>\n      <td>NaN</td>\n    </tr>\n    <tr>\n      <th>...</th>\n      <td>...</td>\n      <td>...</td>\n      <td>...</td>\n      <td>...</td>\n      <td>...</td>\n      <td>...</td>\n      <td>...</td>\n      <td>...</td>\n      <td>...</td>\n      <td>...</td>\n      <td>...</td>\n      <td>...</td>\n      <td>...</td>\n      <td>...</td>\n      <td>...</td>\n      <td>...</td>\n      <td>...</td>\n      <td>...</td>\n      <td>...</td>\n      <td>...</td>\n      <td>...</td>\n    </tr>\n    <tr>\n      <th>CAPEX ($/kW-H2), incl. Util.</th>\n      <td>EWI PTX</td>\n      <td>NaN</td>\n      <td>NaN</td>\n      <td>NaN</td>\n      <td>NaN</td>\n      <td>NaN</td>\n      <td>NaN</td>\n      <td>NaN</td>\n      <td>NaN</td>\n      <td>NaN</td>\n      <td>...</td>\n      <td>NaN</td>\n      <td>NaN</td>\n      <td>NaN</td>\n      <td>NaN</td>\n      <td>NaN</td>\n      <td>NaN</td>\n      <td>NaN</td>\n      <td>NaN</td>\n      <td>NaN</td>\n      <td>NaN</td>\n    </tr>\n    <tr>\n      <th>OPEX ($/kW-H2/a), incl. Util.</th>\n      <td>EWI PTX</td>\n      <td>NaN</td>\n      <td>57.69591</td>\n      <td>57.118951</td>\n      <td>56.541992</td>\n      <td>55.965033</td>\n      <td>55.388074</td>\n      <td>54.811115</td>\n      <td>54.234156</td>\n      <td>53.657197</td>\n      <td>...</td>\n      <td>37.646582</td>\n      <td>36.348424</td>\n      <td>35.050266</td>\n      <td>33.752108</td>\n      <td>32.45395</td>\n      <td>31.155792</td>\n      <td>29.857634</td>\n      <td>28.559476</td>\n      <td>27.261318</td>\n      <td>25.96316</td>\n    </tr>\n    <tr>\n      <th>Electricity use (kWh/kWh-H2</th>\n      <td>EWI PTX</td>\n      <td>0.01</td>\n      <td>0.01000</td>\n      <td>0.010000</td>\n      <td>0.010000</td>\n      <td>0.010000</td>\n      <td>0.010000</td>\n      <td>0.010000</td>\n      <td>0.010000</td>\n      <td>0.010000</td>\n      <td>...</td>\n      <td>0.010000</td>\n      <td>0.010000</td>\n      <td>0.010000</td>\n      <td>0.010000</td>\n      <td>0.01000</td>\n      <td>0.010000</td>\n      <td>0.010000</td>\n      <td>0.010000</td>\n      <td>0.010000</td>\n      <td>0.01000</td>\n    </tr>\n    <tr>\n      <th>Utilisation</th>\n      <td>EWI PTX</td>\n      <td>NaN</td>\n      <td>0.90000</td>\n      <td>0.900000</td>\n      <td>0.900000</td>\n      <td>0.900000</td>\n      <td>0.900000</td>\n      <td>0.900000</td>\n      <td>0.900000</td>\n      <td>0.900000</td>\n      <td>...</td>\n      <td>0.900000</td>\n      <td>0.900000</td>\n      <td>0.900000</td>\n      <td>0.900000</td>\n      <td>0.90000</td>\n      <td>0.900000</td>\n      <td>0.900000</td>\n      <td>0.900000</td>\n      <td>0.900000</td>\n      <td>0.90000</td>\n    </tr>\n    <tr>\n      <th>Reconversion - Lifetime [Years]</th>\n      <td>EWI PTX</td>\n      <td>30</td>\n      <td>NaN</td>\n      <td>NaN</td>\n      <td>NaN</td>\n      <td>NaN</td>\n      <td>NaN</td>\n      <td>NaN</td>\n      <td>NaN</td>\n      <td>NaN</td>\n      <td>...</td>\n      <td>NaN</td>\n      <td>NaN</td>\n      <td>NaN</td>\n      <td>NaN</td>\n      <td>NaN</td>\n      <td>NaN</td>\n      <td>NaN</td>\n      <td>NaN</td>\n      <td>NaN</td>\n      <td>NaN</td>\n    </tr>\n  </tbody>\n</table>\n<p>121 rows × 33 columns</p>\n</div>"
     },
     "execution_count": 339,
     "metadata": {},
     "output_type": "execute_result"
    }
   ],
   "source": [
    "tea_lh2 = pd.read_excel(\"/Users/jakob/PycharmProjects/H2_pathways_repo/data/raw/20220921_Data_Assumptions.xlsx\", sheet_name='LH2', decimal=',', index_col=0)\n",
    "tea_lh2"
   ],
   "metadata": {
    "collapsed": false,
    "pycharm": {
     "name": "#%%\n"
    }
   }
  },
  {
   "cell_type": "code",
   "execution_count": 271,
   "outputs": [
    {
     "data": {
      "text/plain": "           Origin_Country Destination_Country  sea distance (km)  \\\n0    United Arab Emirates             Germany           12443.10   \n1                  Angola             Germany            9809.65   \n2               Argentina             Germany           14063.90   \n3                 Austria             Germany            6005.96   \n4               Australia             Germany           21212.10   \n..                    ...                 ...                ...   \n955           Philippines               China            1782.35   \n956               Iceland               China           20454.60   \n957      Papua New Guinea               China            6298.52   \n958              Cameroon               China           19717.70   \n959          South Africa               China           12853.50   \n\n     onshore distance (km)  offshore distance (km) Starting point  \n0                      NaN                     NaN            NaN  \n1                      NaN                     NaN            NaN  \n2                      NaN                     NaN            NaN  \n3                    500.0                     0.0            NaN  \n4                      NaN                     NaN            NaN  \n..                     ...                     ...            ...  \n955                    NaN                     NaN            NaN  \n956                    NaN                     NaN            NaN  \n957                    NaN                     NaN            NaN  \n958                    NaN                     NaN            NaN  \n959                    NaN                     NaN            NaN  \n\n[960 rows x 6 columns]",
      "text/html": "<div>\n<style scoped>\n    .dataframe tbody tr th:only-of-type {\n        vertical-align: middle;\n    }\n\n    .dataframe tbody tr th {\n        vertical-align: top;\n    }\n\n    .dataframe thead th {\n        text-align: right;\n    }\n</style>\n<table border=\"1\" class=\"dataframe\">\n  <thead>\n    <tr style=\"text-align: right;\">\n      <th></th>\n      <th>Origin_Country</th>\n      <th>Destination_Country</th>\n      <th>sea distance (km)</th>\n      <th>onshore distance (km)</th>\n      <th>offshore distance (km)</th>\n      <th>Starting point</th>\n    </tr>\n  </thead>\n  <tbody>\n    <tr>\n      <th>0</th>\n      <td>United Arab Emirates</td>\n      <td>Germany</td>\n      <td>12443.10</td>\n      <td>NaN</td>\n      <td>NaN</td>\n      <td>NaN</td>\n    </tr>\n    <tr>\n      <th>1</th>\n      <td>Angola</td>\n      <td>Germany</td>\n      <td>9809.65</td>\n      <td>NaN</td>\n      <td>NaN</td>\n      <td>NaN</td>\n    </tr>\n    <tr>\n      <th>2</th>\n      <td>Argentina</td>\n      <td>Germany</td>\n      <td>14063.90</td>\n      <td>NaN</td>\n      <td>NaN</td>\n      <td>NaN</td>\n    </tr>\n    <tr>\n      <th>3</th>\n      <td>Austria</td>\n      <td>Germany</td>\n      <td>6005.96</td>\n      <td>500.0</td>\n      <td>0.0</td>\n      <td>NaN</td>\n    </tr>\n    <tr>\n      <th>4</th>\n      <td>Australia</td>\n      <td>Germany</td>\n      <td>21212.10</td>\n      <td>NaN</td>\n      <td>NaN</td>\n      <td>NaN</td>\n    </tr>\n    <tr>\n      <th>...</th>\n      <td>...</td>\n      <td>...</td>\n      <td>...</td>\n      <td>...</td>\n      <td>...</td>\n      <td>...</td>\n    </tr>\n    <tr>\n      <th>955</th>\n      <td>Philippines</td>\n      <td>China</td>\n      <td>1782.35</td>\n      <td>NaN</td>\n      <td>NaN</td>\n      <td>NaN</td>\n    </tr>\n    <tr>\n      <th>956</th>\n      <td>Iceland</td>\n      <td>China</td>\n      <td>20454.60</td>\n      <td>NaN</td>\n      <td>NaN</td>\n      <td>NaN</td>\n    </tr>\n    <tr>\n      <th>957</th>\n      <td>Papua New Guinea</td>\n      <td>China</td>\n      <td>6298.52</td>\n      <td>NaN</td>\n      <td>NaN</td>\n      <td>NaN</td>\n    </tr>\n    <tr>\n      <th>958</th>\n      <td>Cameroon</td>\n      <td>China</td>\n      <td>19717.70</td>\n      <td>NaN</td>\n      <td>NaN</td>\n      <td>NaN</td>\n    </tr>\n    <tr>\n      <th>959</th>\n      <td>South Africa</td>\n      <td>China</td>\n      <td>12853.50</td>\n      <td>NaN</td>\n      <td>NaN</td>\n      <td>NaN</td>\n    </tr>\n  </tbody>\n</table>\n<p>960 rows × 6 columns</p>\n</div>"
     },
     "execution_count": 271,
     "metadata": {},
     "output_type": "execute_result"
    }
   ],
   "source": [
    "tra_d = pd.read_excel(\"/Users/jakob/PycharmProjects/H2_pathways_repo/data/raw/20220921_Data_Assumptions.xlsx\", sheet_name='Transport Distances', decimal=',')\n",
    "tra_d"
   ],
   "metadata": {
    "collapsed": false,
    "pycharm": {
     "name": "#%%\n"
    }
   }
  },
  {
   "cell_type": "code",
   "execution_count": 272,
   "outputs": [
    {
     "data": {
      "text/plain": "                                       Pipelines  Pipeline High  Pipeline Low  \\\n0                         Technical Lifetime (y)          40.00         40.00   \n1                        Amortisation factor (%)           0.08          0.08   \n2                                CAPEX (mio$/km)           1.21           NaN   \n3                               CAPEX ($/tpa/km)           3.56          1.33   \n4                    design throughput (kt H2/y)         340.00       3400.00   \n5                      real throughput (kt H2/y)         255.00           NaN   \n6                     OPEX & Fuel (% of CAPEX/a)           0.05          0.05   \n7                                utilisation (%)           0.75          0.75   \n8   Cost of pipeline transport  ($/1000km/kg H2)           0.64          0.24   \n9                              Interest rate (%)           0.08          0.08   \n10                                           NaN            NaN           NaN   \n11                                           NaN            NaN           NaN   \n12                                           NaN            NaN           NaN   \n13                                           NaN            NaN           NaN   \n14                                           NaN            NaN           NaN   \n15                                           NaN            NaN           NaN   \n16                                           NaN            NaN           NaN   \n17                                           NaN            NaN           NaN   \n18                                           NaN            NaN           NaN   \n19                                           NaN            NaN           NaN   \n20                                           NaN            NaN           NaN   \n21                                           NaN            NaN           NaN   \n22                                           NaN            NaN           NaN   \n23                                           NaN            NaN           NaN   \n24                                           NaN            NaN           NaN   \n\n    Pipeline Retrofit  Unnamed: 4  Unnamed: 5 Unnamed: 6  \n0               40.00         NaN         NaN        NaN  \n1                0.08         NaN         NaN        NaN  \n2                 NaN         NaN         NaN        NaN  \n3                0.73         NaN         NaN        NaN  \n4             3400.00         NaN         NaN        NaN  \n5                 NaN         NaN         NaN        NaN  \n6                0.05         NaN         NaN        NaN  \n7                0.75         NaN         NaN        NaN  \n8                0.13         NaN         NaN        NaN  \n9                0.08         NaN         NaN        NaN  \n10                NaN         NaN         NaN        NaN  \n11                NaN         NaN         NaN        NaN  \n12                NaN         NaN         NaN        NaN  \n13                NaN         NaN         NaN        NaN  \n14                NaN         NaN         NaN        NaN  \n15                NaN         NaN         NaN        NaN  \n16                NaN         NaN         NaN        NaN  \n17                NaN         NaN         NaN        NaN  \n18                NaN         NaN         NaN        NaN  \n19                NaN         NaN         NaN        NaN  \n20                NaN         NaN         NaN        NaN  \n21                NaN         NaN         NaN        NaN  \n22                NaN         NaN         NaN        NaN  \n23                NaN         NaN         NaN        NaN  \n24                NaN         NaN         NaN          r  ",
      "text/html": "<div>\n<style scoped>\n    .dataframe tbody tr th:only-of-type {\n        vertical-align: middle;\n    }\n\n    .dataframe tbody tr th {\n        vertical-align: top;\n    }\n\n    .dataframe thead th {\n        text-align: right;\n    }\n</style>\n<table border=\"1\" class=\"dataframe\">\n  <thead>\n    <tr style=\"text-align: right;\">\n      <th></th>\n      <th>Pipelines</th>\n      <th>Pipeline High</th>\n      <th>Pipeline Low</th>\n      <th>Pipeline Retrofit</th>\n      <th>Unnamed: 4</th>\n      <th>Unnamed: 5</th>\n      <th>Unnamed: 6</th>\n    </tr>\n  </thead>\n  <tbody>\n    <tr>\n      <th>0</th>\n      <td>Technical Lifetime (y)</td>\n      <td>40.00</td>\n      <td>40.00</td>\n      <td>40.00</td>\n      <td>NaN</td>\n      <td>NaN</td>\n      <td>NaN</td>\n    </tr>\n    <tr>\n      <th>1</th>\n      <td>Amortisation factor (%)</td>\n      <td>0.08</td>\n      <td>0.08</td>\n      <td>0.08</td>\n      <td>NaN</td>\n      <td>NaN</td>\n      <td>NaN</td>\n    </tr>\n    <tr>\n      <th>2</th>\n      <td>CAPEX (mio$/km)</td>\n      <td>1.21</td>\n      <td>NaN</td>\n      <td>NaN</td>\n      <td>NaN</td>\n      <td>NaN</td>\n      <td>NaN</td>\n    </tr>\n    <tr>\n      <th>3</th>\n      <td>CAPEX ($/tpa/km)</td>\n      <td>3.56</td>\n      <td>1.33</td>\n      <td>0.73</td>\n      <td>NaN</td>\n      <td>NaN</td>\n      <td>NaN</td>\n    </tr>\n    <tr>\n      <th>4</th>\n      <td>design throughput (kt H2/y)</td>\n      <td>340.00</td>\n      <td>3400.00</td>\n      <td>3400.00</td>\n      <td>NaN</td>\n      <td>NaN</td>\n      <td>NaN</td>\n    </tr>\n    <tr>\n      <th>5</th>\n      <td>real throughput (kt H2/y)</td>\n      <td>255.00</td>\n      <td>NaN</td>\n      <td>NaN</td>\n      <td>NaN</td>\n      <td>NaN</td>\n      <td>NaN</td>\n    </tr>\n    <tr>\n      <th>6</th>\n      <td>OPEX &amp; Fuel (% of CAPEX/a)</td>\n      <td>0.05</td>\n      <td>0.05</td>\n      <td>0.05</td>\n      <td>NaN</td>\n      <td>NaN</td>\n      <td>NaN</td>\n    </tr>\n    <tr>\n      <th>7</th>\n      <td>utilisation (%)</td>\n      <td>0.75</td>\n      <td>0.75</td>\n      <td>0.75</td>\n      <td>NaN</td>\n      <td>NaN</td>\n      <td>NaN</td>\n    </tr>\n    <tr>\n      <th>8</th>\n      <td>Cost of pipeline transport  ($/1000km/kg H2)</td>\n      <td>0.64</td>\n      <td>0.24</td>\n      <td>0.13</td>\n      <td>NaN</td>\n      <td>NaN</td>\n      <td>NaN</td>\n    </tr>\n    <tr>\n      <th>9</th>\n      <td>Interest rate (%)</td>\n      <td>0.08</td>\n      <td>0.08</td>\n      <td>0.08</td>\n      <td>NaN</td>\n      <td>NaN</td>\n      <td>NaN</td>\n    </tr>\n    <tr>\n      <th>10</th>\n      <td>NaN</td>\n      <td>NaN</td>\n      <td>NaN</td>\n      <td>NaN</td>\n      <td>NaN</td>\n      <td>NaN</td>\n      <td>NaN</td>\n    </tr>\n    <tr>\n      <th>11</th>\n      <td>NaN</td>\n      <td>NaN</td>\n      <td>NaN</td>\n      <td>NaN</td>\n      <td>NaN</td>\n      <td>NaN</td>\n      <td>NaN</td>\n    </tr>\n    <tr>\n      <th>12</th>\n      <td>NaN</td>\n      <td>NaN</td>\n      <td>NaN</td>\n      <td>NaN</td>\n      <td>NaN</td>\n      <td>NaN</td>\n      <td>NaN</td>\n    </tr>\n    <tr>\n      <th>13</th>\n      <td>NaN</td>\n      <td>NaN</td>\n      <td>NaN</td>\n      <td>NaN</td>\n      <td>NaN</td>\n      <td>NaN</td>\n      <td>NaN</td>\n    </tr>\n    <tr>\n      <th>14</th>\n      <td>NaN</td>\n      <td>NaN</td>\n      <td>NaN</td>\n      <td>NaN</td>\n      <td>NaN</td>\n      <td>NaN</td>\n      <td>NaN</td>\n    </tr>\n    <tr>\n      <th>15</th>\n      <td>NaN</td>\n      <td>NaN</td>\n      <td>NaN</td>\n      <td>NaN</td>\n      <td>NaN</td>\n      <td>NaN</td>\n      <td>NaN</td>\n    </tr>\n    <tr>\n      <th>16</th>\n      <td>NaN</td>\n      <td>NaN</td>\n      <td>NaN</td>\n      <td>NaN</td>\n      <td>NaN</td>\n      <td>NaN</td>\n      <td>NaN</td>\n    </tr>\n    <tr>\n      <th>17</th>\n      <td>NaN</td>\n      <td>NaN</td>\n      <td>NaN</td>\n      <td>NaN</td>\n      <td>NaN</td>\n      <td>NaN</td>\n      <td>NaN</td>\n    </tr>\n    <tr>\n      <th>18</th>\n      <td>NaN</td>\n      <td>NaN</td>\n      <td>NaN</td>\n      <td>NaN</td>\n      <td>NaN</td>\n      <td>NaN</td>\n      <td>NaN</td>\n    </tr>\n    <tr>\n      <th>19</th>\n      <td>NaN</td>\n      <td>NaN</td>\n      <td>NaN</td>\n      <td>NaN</td>\n      <td>NaN</td>\n      <td>NaN</td>\n      <td>NaN</td>\n    </tr>\n    <tr>\n      <th>20</th>\n      <td>NaN</td>\n      <td>NaN</td>\n      <td>NaN</td>\n      <td>NaN</td>\n      <td>NaN</td>\n      <td>NaN</td>\n      <td>NaN</td>\n    </tr>\n    <tr>\n      <th>21</th>\n      <td>NaN</td>\n      <td>NaN</td>\n      <td>NaN</td>\n      <td>NaN</td>\n      <td>NaN</td>\n      <td>NaN</td>\n      <td>NaN</td>\n    </tr>\n    <tr>\n      <th>22</th>\n      <td>NaN</td>\n      <td>NaN</td>\n      <td>NaN</td>\n      <td>NaN</td>\n      <td>NaN</td>\n      <td>NaN</td>\n      <td>NaN</td>\n    </tr>\n    <tr>\n      <th>23</th>\n      <td>NaN</td>\n      <td>NaN</td>\n      <td>NaN</td>\n      <td>NaN</td>\n      <td>NaN</td>\n      <td>NaN</td>\n      <td>NaN</td>\n    </tr>\n    <tr>\n      <th>24</th>\n      <td>NaN</td>\n      <td>NaN</td>\n      <td>NaN</td>\n      <td>NaN</td>\n      <td>NaN</td>\n      <td>NaN</td>\n      <td>r</td>\n    </tr>\n  </tbody>\n</table>\n</div>"
     },
     "execution_count": 272,
     "metadata": {},
     "output_type": "execute_result"
    }
   ],
   "source": [
    "tea_tra = pd.read_csv(\"/Users/jakob/PycharmProjects/H2_pathways_repo/data/raw/tea_tra.csv\", delimiter=';', decimal=',')\n",
    "tea_tra"
   ],
   "metadata": {
    "collapsed": false,
    "pycharm": {
     "name": "#%%\n"
    }
   }
  },
  {
   "cell_type": "code",
   "execution_count": 273,
   "outputs": [
    {
     "data": {
      "text/plain": "                                                     2020        2021  \\\nWholesale electricity prices from DNV GL 2019                           \nUnited Arab Emirates                            36.301651   36.764515   \nAngola                                         121.494032  119.445089   \nArgentina                                       37.961027   38.086072   \nAustria                                         46.683533   47.002654   \nAustralia                                       72.846428   69.396730   \n...                                                   ...         ...   \nPhilippines                                     42.402642   44.089299   \nIceland                                         46.683533   47.002654   \nPapua New Guinea                                42.402642   44.089299   \nCameroon                                       121.494032  119.445089   \nSouth Africa                                   121.494032  119.445089   \n\n                                                     2022        2023  \\\nWholesale electricity prices from DNV GL 2019                           \nUnited Arab Emirates                            37.137776   37.447974   \nAngola                                         119.580409  124.653779   \nArgentina                                       39.032196   40.033404   \nAustria                                         47.209289   47.346703   \nAustralia                                       66.622798   64.898776   \n...                                                   ...         ...   \nPhilippines                                     45.936088   47.946139   \nIceland                                         47.209289   47.346703   \nPapua New Guinea                                45.936088   47.946139   \nCameroon                                       119.580409  124.653779   \nSouth Africa                                   119.580409  124.653779   \n\n                                                     2024        2025  \\\nWholesale electricity prices from DNV GL 2019                           \nUnited Arab Emirates                            37.747898   38.034395   \nAngola                                         131.547459  137.405324   \nArgentina                                       41.148255   42.353416   \nAustria                                         47.274782   46.957092   \nAustralia                                       64.515503   64.897234   \n...                                                   ...         ...   \nPhilippines                                     50.057150   52.193834   \nIceland                                         47.274782   46.957092   \nPapua New Guinea                                50.057150   52.193834   \nCameroon                                       131.547459  137.405324   \nSouth Africa                                   131.547459  137.405324   \n\n                                                     2026        2027  \\\nWholesale electricity prices from DNV GL 2019                           \nUnited Arab Emirates                            38.325658   38.655501   \nAngola                                         141.246042  142.819290   \nArgentina                                       43.577189   44.818521   \nAustria                                         46.416301   46.118220   \nAustralia                                       65.154315   65.256396   \n...                                                   ...         ...   \nPhilippines                                     54.433745   57.196590   \nIceland                                         46.416301   46.118220   \nPapua New Guinea                                54.433745   57.196590   \nCameroon                                       141.246042  142.819290   \nSouth Africa                                   141.246042  142.819290   \n\n                                                     2028        2029  ...  \\\nWholesale electricity prices from DNV GL 2019                          ...   \nUnited Arab Emirates                            39.015448   39.420264  ...   \nAngola                                         143.098086  143.128137  ...   \nArgentina                                       46.021991   47.209332  ...   \nAustria                                         45.738344   45.399899  ...   \nAustralia                                       65.134265   64.811898  ...   \n...                                                   ...         ...  ...   \nPhilippines                                     60.841314   65.569751  ...   \nIceland                                         45.738344   45.399899  ...   \nPapua New Guinea                                60.841314   65.569751  ...   \nCameroon                                       143.098086  143.128137  ...   \nSouth Africa                                   143.098086  143.128137  ...   \n\n                                                     2041        2042  \\\nWholesale electricity prices from DNV GL 2019                           \nUnited Arab Emirates                            53.573530   51.487746   \nAngola                                         167.313461  168.277022   \nArgentina                                       73.409441   72.994100   \nAustria                                         49.609330   50.705430   \nAustralia                                       38.939740   37.412280   \n...                                                   ...         ...   \nPhilippines                                     75.383730   74.831710   \nIceland                                         49.609330   50.705430   \nPapua New Guinea                                75.383730   74.831710   \nCameroon                                       167.313461  168.277022   \nSouth Africa                                   167.313461  168.277022   \n\n                                                     2043        2044  \\\nWholesale electricity prices from DNV GL 2019                           \nUnited Arab Emirates                            50.336783   49.802097   \nAngola                                         168.972257  169.434972   \nArgentina                                       72.420411   72.137700   \nAustria                                         51.925184   53.193310   \nAustralia                                       35.994851   34.709238   \n...                                                   ...         ...   \nPhilippines                                     74.676203   74.735059   \nIceland                                         51.925184   53.193310   \nPapua New Guinea                                74.676203   74.735059   \nCameroon                                       168.972257  169.434972   \nSouth Africa                                   168.972257  169.434972   \n\n                                                     2045        2046  \\\nWholesale electricity prices from DNV GL 2019                           \nUnited Arab Emirates                            49.984233   50.739234   \nAngola                                         169.825687  170.198308   \nArgentina                                       71.884240   71.715794   \nAustria                                         54.221220   54.704721   \nAustralia                                       33.678074   32.794352   \n...                                                   ...         ...   \nPhilippines                                     74.746313   74.583895   \nIceland                                         54.221220   54.704721   \nPapua New Guinea                                74.746313   74.583895   \nCameroon                                       169.825687  170.198308   \nSouth Africa                                   169.825687  170.198308   \n\n                                                     2047        2048  \\\nWholesale electricity prices from DNV GL 2019                           \nUnited Arab Emirates                            51.993049   53.655694   \nAngola                                         170.217476  170.039948   \nArgentina                                       71.547577   71.579187   \nAustria                                         54.535295   53.994557   \nAustralia                                       32.137023   31.647242   \n...                                                   ...         ...   \nPhilippines                                     74.409350   74.323923   \nIceland                                         54.535295   53.994557   \nPapua New Guinea                                74.409350   74.323923   \nCameroon                                       170.217476  170.039948   \nSouth Africa                                   170.217476  170.039948   \n\n                                                     2049        2050  \nWholesale electricity prices from DNV GL 2019                          \nUnited Arab Emirates                            54.814324   56.468935  \nAngola                                         170.172216  169.924801  \nArgentina                                       70.985088   71.383909  \nAustria                                         53.715329   53.994428  \nAustralia                                       30.594356   29.930791  \n...                                                   ...         ...  \nPhilippines                                     74.282002   73.996739  \nIceland                                         53.715329   53.994428  \nPapua New Guinea                                74.282002   73.996739  \nCameroon                                       170.172216  169.924801  \nSouth Africa                                   170.172216  169.924801  \n\n[88 rows x 31 columns]",
      "text/html": "<div>\n<style scoped>\n    .dataframe tbody tr th:only-of-type {\n        vertical-align: middle;\n    }\n\n    .dataframe tbody tr th {\n        vertical-align: top;\n    }\n\n    .dataframe thead th {\n        text-align: right;\n    }\n</style>\n<table border=\"1\" class=\"dataframe\">\n  <thead>\n    <tr style=\"text-align: right;\">\n      <th></th>\n      <th>2020</th>\n      <th>2021</th>\n      <th>2022</th>\n      <th>2023</th>\n      <th>2024</th>\n      <th>2025</th>\n      <th>2026</th>\n      <th>2027</th>\n      <th>2028</th>\n      <th>2029</th>\n      <th>...</th>\n      <th>2041</th>\n      <th>2042</th>\n      <th>2043</th>\n      <th>2044</th>\n      <th>2045</th>\n      <th>2046</th>\n      <th>2047</th>\n      <th>2048</th>\n      <th>2049</th>\n      <th>2050</th>\n    </tr>\n    <tr>\n      <th>Wholesale electricity prices from DNV GL 2019</th>\n      <th></th>\n      <th></th>\n      <th></th>\n      <th></th>\n      <th></th>\n      <th></th>\n      <th></th>\n      <th></th>\n      <th></th>\n      <th></th>\n      <th></th>\n      <th></th>\n      <th></th>\n      <th></th>\n      <th></th>\n      <th></th>\n      <th></th>\n      <th></th>\n      <th></th>\n      <th></th>\n      <th></th>\n    </tr>\n  </thead>\n  <tbody>\n    <tr>\n      <th>United Arab Emirates</th>\n      <td>36.301651</td>\n      <td>36.764515</td>\n      <td>37.137776</td>\n      <td>37.447974</td>\n      <td>37.747898</td>\n      <td>38.034395</td>\n      <td>38.325658</td>\n      <td>38.655501</td>\n      <td>39.015448</td>\n      <td>39.420264</td>\n      <td>...</td>\n      <td>53.573530</td>\n      <td>51.487746</td>\n      <td>50.336783</td>\n      <td>49.802097</td>\n      <td>49.984233</td>\n      <td>50.739234</td>\n      <td>51.993049</td>\n      <td>53.655694</td>\n      <td>54.814324</td>\n      <td>56.468935</td>\n    </tr>\n    <tr>\n      <th>Angola</th>\n      <td>121.494032</td>\n      <td>119.445089</td>\n      <td>119.580409</td>\n      <td>124.653779</td>\n      <td>131.547459</td>\n      <td>137.405324</td>\n      <td>141.246042</td>\n      <td>142.819290</td>\n      <td>143.098086</td>\n      <td>143.128137</td>\n      <td>...</td>\n      <td>167.313461</td>\n      <td>168.277022</td>\n      <td>168.972257</td>\n      <td>169.434972</td>\n      <td>169.825687</td>\n      <td>170.198308</td>\n      <td>170.217476</td>\n      <td>170.039948</td>\n      <td>170.172216</td>\n      <td>169.924801</td>\n    </tr>\n    <tr>\n      <th>Argentina</th>\n      <td>37.961027</td>\n      <td>38.086072</td>\n      <td>39.032196</td>\n      <td>40.033404</td>\n      <td>41.148255</td>\n      <td>42.353416</td>\n      <td>43.577189</td>\n      <td>44.818521</td>\n      <td>46.021991</td>\n      <td>47.209332</td>\n      <td>...</td>\n      <td>73.409441</td>\n      <td>72.994100</td>\n      <td>72.420411</td>\n      <td>72.137700</td>\n      <td>71.884240</td>\n      <td>71.715794</td>\n      <td>71.547577</td>\n      <td>71.579187</td>\n      <td>70.985088</td>\n      <td>71.383909</td>\n    </tr>\n    <tr>\n      <th>Austria</th>\n      <td>46.683533</td>\n      <td>47.002654</td>\n      <td>47.209289</td>\n      <td>47.346703</td>\n      <td>47.274782</td>\n      <td>46.957092</td>\n      <td>46.416301</td>\n      <td>46.118220</td>\n      <td>45.738344</td>\n      <td>45.399899</td>\n      <td>...</td>\n      <td>49.609330</td>\n      <td>50.705430</td>\n      <td>51.925184</td>\n      <td>53.193310</td>\n      <td>54.221220</td>\n      <td>54.704721</td>\n      <td>54.535295</td>\n      <td>53.994557</td>\n      <td>53.715329</td>\n      <td>53.994428</td>\n    </tr>\n    <tr>\n      <th>Australia</th>\n      <td>72.846428</td>\n      <td>69.396730</td>\n      <td>66.622798</td>\n      <td>64.898776</td>\n      <td>64.515503</td>\n      <td>64.897234</td>\n      <td>65.154315</td>\n      <td>65.256396</td>\n      <td>65.134265</td>\n      <td>64.811898</td>\n      <td>...</td>\n      <td>38.939740</td>\n      <td>37.412280</td>\n      <td>35.994851</td>\n      <td>34.709238</td>\n      <td>33.678074</td>\n      <td>32.794352</td>\n      <td>32.137023</td>\n      <td>31.647242</td>\n      <td>30.594356</td>\n      <td>29.930791</td>\n    </tr>\n    <tr>\n      <th>...</th>\n      <td>...</td>\n      <td>...</td>\n      <td>...</td>\n      <td>...</td>\n      <td>...</td>\n      <td>...</td>\n      <td>...</td>\n      <td>...</td>\n      <td>...</td>\n      <td>...</td>\n      <td>...</td>\n      <td>...</td>\n      <td>...</td>\n      <td>...</td>\n      <td>...</td>\n      <td>...</td>\n      <td>...</td>\n      <td>...</td>\n      <td>...</td>\n      <td>...</td>\n      <td>...</td>\n    </tr>\n    <tr>\n      <th>Philippines</th>\n      <td>42.402642</td>\n      <td>44.089299</td>\n      <td>45.936088</td>\n      <td>47.946139</td>\n      <td>50.057150</td>\n      <td>52.193834</td>\n      <td>54.433745</td>\n      <td>57.196590</td>\n      <td>60.841314</td>\n      <td>65.569751</td>\n      <td>...</td>\n      <td>75.383730</td>\n      <td>74.831710</td>\n      <td>74.676203</td>\n      <td>74.735059</td>\n      <td>74.746313</td>\n      <td>74.583895</td>\n      <td>74.409350</td>\n      <td>74.323923</td>\n      <td>74.282002</td>\n      <td>73.996739</td>\n    </tr>\n    <tr>\n      <th>Iceland</th>\n      <td>46.683533</td>\n      <td>47.002654</td>\n      <td>47.209289</td>\n      <td>47.346703</td>\n      <td>47.274782</td>\n      <td>46.957092</td>\n      <td>46.416301</td>\n      <td>46.118220</td>\n      <td>45.738344</td>\n      <td>45.399899</td>\n      <td>...</td>\n      <td>49.609330</td>\n      <td>50.705430</td>\n      <td>51.925184</td>\n      <td>53.193310</td>\n      <td>54.221220</td>\n      <td>54.704721</td>\n      <td>54.535295</td>\n      <td>53.994557</td>\n      <td>53.715329</td>\n      <td>53.994428</td>\n    </tr>\n    <tr>\n      <th>Papua New Guinea</th>\n      <td>42.402642</td>\n      <td>44.089299</td>\n      <td>45.936088</td>\n      <td>47.946139</td>\n      <td>50.057150</td>\n      <td>52.193834</td>\n      <td>54.433745</td>\n      <td>57.196590</td>\n      <td>60.841314</td>\n      <td>65.569751</td>\n      <td>...</td>\n      <td>75.383730</td>\n      <td>74.831710</td>\n      <td>74.676203</td>\n      <td>74.735059</td>\n      <td>74.746313</td>\n      <td>74.583895</td>\n      <td>74.409350</td>\n      <td>74.323923</td>\n      <td>74.282002</td>\n      <td>73.996739</td>\n    </tr>\n    <tr>\n      <th>Cameroon</th>\n      <td>121.494032</td>\n      <td>119.445089</td>\n      <td>119.580409</td>\n      <td>124.653779</td>\n      <td>131.547459</td>\n      <td>137.405324</td>\n      <td>141.246042</td>\n      <td>142.819290</td>\n      <td>143.098086</td>\n      <td>143.128137</td>\n      <td>...</td>\n      <td>167.313461</td>\n      <td>168.277022</td>\n      <td>168.972257</td>\n      <td>169.434972</td>\n      <td>169.825687</td>\n      <td>170.198308</td>\n      <td>170.217476</td>\n      <td>170.039948</td>\n      <td>170.172216</td>\n      <td>169.924801</td>\n    </tr>\n    <tr>\n      <th>South Africa</th>\n      <td>121.494032</td>\n      <td>119.445089</td>\n      <td>119.580409</td>\n      <td>124.653779</td>\n      <td>131.547459</td>\n      <td>137.405324</td>\n      <td>141.246042</td>\n      <td>142.819290</td>\n      <td>143.098086</td>\n      <td>143.128137</td>\n      <td>...</td>\n      <td>167.313461</td>\n      <td>168.277022</td>\n      <td>168.972257</td>\n      <td>169.434972</td>\n      <td>169.825687</td>\n      <td>170.198308</td>\n      <td>170.217476</td>\n      <td>170.039948</td>\n      <td>170.172216</td>\n      <td>169.924801</td>\n    </tr>\n  </tbody>\n</table>\n<p>88 rows × 31 columns</p>\n</div>"
     },
     "execution_count": 273,
     "metadata": {},
     "output_type": "execute_result"
    }
   ],
   "source": [
    "# Electrcity wholesale price projections in $_2018/MWh from DNVGL 2018\n",
    "p_electricity = pd.read_excel('/Users/jakob/PycharmProjects/H2_pathways_repo/data/raw/20220921_Data_Assumptions.xlsx', sheet_name='EL Price', decimal=',', index_col=0)\n",
    "p_electricity"
   ],
   "metadata": {
    "collapsed": false,
    "pycharm": {
     "name": "#%%\n"
    }
   }
  },
  {
   "cell_type": "code",
   "execution_count": 274,
   "outputs": [
    {
     "data": {
      "text/plain": "                                                        2020       2021  \\\nID                                                                        \nUnited_Arab_Emirates_Onshore_3_low_temp_baseline    7.083424   6.891298   \nUnited_Arab_Emirates_Offshore_1_low_temp_baseline  11.470109  11.104346   \nUnited_Arab_Emirates_Offshore_2_low_temp_baseline  15.518520  15.026419   \nUnited_Arab_Emirates_PV_2_low_temp_baseline         3.990183   3.815470   \nUnited_Arab_Emirates_PV_3_low_temp_baseline         4.167158   3.984340   \n...                                                      ...        ...   \nSouth_Africa_PV_4_low_temp_optimistic               4.776238   4.522432   \nSouth_Africa_Onshore_3_high_temp_optimistic         6.957099   6.651531   \nSouth_Africa_Offshore_1_high_temp_optimistic        6.420926   6.101068   \nSouth_Africa_Offshore_2_high_temp_optimistic        7.882887   7.502615   \nSouth_Africa_PV_4_high_temp_optimistic              8.301321   7.735446   \n\n                                                        2022       2023  \\\nID                                                                        \nUnited_Arab_Emirates_Onshore_3_low_temp_baseline    6.715543   6.552560   \nUnited_Arab_Emirates_Offshore_1_low_temp_baseline  10.787404  10.505314   \nUnited_Arab_Emirates_Offshore_2_low_temp_baseline  14.603391  14.229709   \nUnited_Arab_Emirates_PV_2_low_temp_baseline         3.659375   3.516671   \nUnited_Arab_Emirates_PV_3_low_temp_baseline         3.821167   3.672128   \n...                                                      ...        ...   \nSouth_Africa_PV_4_low_temp_optimistic               4.311259   4.130247   \nSouth_Africa_Onshore_3_high_temp_optimistic         6.361605   6.082880   \nSouth_Africa_Offshore_1_high_temp_optimistic        5.807786   5.532832   \nSouth_Africa_Offshore_2_high_temp_optimistic        7.158460   6.839487   \nSouth_Africa_PV_4_high_temp_optimistic              7.214757   6.725080   \n\n                                                        2024       2025  \\\nID                                                                        \nUnited_Arab_Emirates_Onshore_3_low_temp_baseline    6.399783   6.255316   \nUnited_Arab_Emirates_Offshore_1_low_temp_baseline  10.249265  10.013359   \nUnited_Arab_Emirates_Offshore_2_low_temp_baseline  13.892937  13.584745   \nUnited_Arab_Emirates_PV_2_low_temp_baseline         3.384029   3.259207   \nUnited_Arab_Emirates_PV_3_low_temp_baseline         3.533712   3.403554   \n...                                                      ...        ...   \nSouth_Africa_PV_4_low_temp_optimistic               3.971568   3.830018   \nSouth_Africa_Onshore_3_high_temp_optimistic         5.812121   5.546874   \nSouth_Africa_Offshore_1_high_temp_optimistic        5.271000   5.018783   \nSouth_Africa_Offshore_2_high_temp_optimistic        6.538808   6.251803   \nSouth_Africa_PV_4_high_temp_optimistic              6.257449   5.805842   \n\n                                                        2026       2027  \\\nID                                                                        \nUnited_Arab_Emirates_Onshore_3_low_temp_baseline    6.117722   5.985886   \nUnited_Arab_Emirates_Offshore_1_low_temp_baseline   9.793456   9.586545   \nUnited_Arab_Emirates_Offshore_2_low_temp_baseline  13.299293  13.032333   \nUnited_Arab_Emirates_PV_2_low_temp_baseline         3.140629   3.027147   \nUnited_Arab_Emirates_PV_3_low_temp_baseline         3.279992   3.161815   \n...                                                      ...        ...   \nSouth_Africa_PV_4_low_temp_optimistic               3.701980   3.584849   \nSouth_Africa_Onshore_3_high_temp_optimistic         5.285203   5.025533   \nSouth_Africa_Offshore_1_high_temp_optimistic        4.773702   4.533933   \nSouth_Africa_Offshore_2_high_temp_optimistic        5.975218   5.706671   \nSouth_Africa_PV_4_high_temp_optimistic              5.366024   4.934896   \n\n                                                        2028       2029  ...  \\\nID                                                                       ...   \nUnited_Arab_Emirates_Onshore_3_low_temp_baseline    5.858925   5.736129  ...   \nUnited_Arab_Emirates_Offshore_1_low_temp_baseline   9.390367   9.203187  ...   \nUnited_Arab_Emirates_Offshore_2_low_temp_baseline  12.780680  12.541890  ...   \nUnited_Arab_Emirates_PV_2_low_temp_baseline         2.917901   2.812232  ...   \nUnited_Arab_Emirates_PV_3_low_temp_baseline         3.048116   2.938202  ...   \n...                                                      ...        ...  ...   \nSouth_Africa_PV_4_low_temp_optimistic               3.476693   3.376044  ...   \nSouth_Africa_Onshore_3_high_temp_optimistic         4.766533   4.507054  ...   \nSouth_Africa_Offshore_1_high_temp_optimistic        4.298081   4.065056  ...   \nSouth_Africa_Offshore_2_high_temp_optimistic        5.444358   5.186877  ...   \nSouth_Africa_PV_4_high_temp_optimistic              4.510115   4.089858  ...   \n\n                                                       2041      2042  \\\nID                                                                      \nUnited_Arab_Emirates_Onshore_3_low_temp_baseline   4.691380  4.628208   \nUnited_Arab_Emirates_Offshore_1_low_temp_baseline  7.248224  7.116204   \nUnited_Arab_Emirates_Offshore_2_low_temp_baseline  9.892514  9.713566   \nUnited_Arab_Emirates_PV_2_low_temp_baseline        2.123259  2.077646   \nUnited_Arab_Emirates_PV_3_low_temp_baseline        2.218239  2.170581   \n...                                                     ...       ...   \nSouth_Africa_PV_4_low_temp_optimistic              2.316135  2.243911   \nSouth_Africa_Onshore_3_high_temp_optimistic        3.527896  3.479815   \nSouth_Africa_Offshore_1_high_temp_optimistic       3.044944  2.985666   \nSouth_Africa_Offshore_2_high_temp_optimistic       3.922605  3.847566   \nSouth_Africa_PV_4_high_temp_optimistic             2.785486  2.716458   \n\n                                                       2043      2044  \\\nID                                                                      \nUnited_Arab_Emirates_Onshore_3_low_temp_baseline   4.566471  4.512363   \nUnited_Arab_Emirates_Offshore_1_low_temp_baseline  6.992261  6.880684   \nUnited_Arab_Emirates_Offshore_2_low_temp_baseline  9.545998  9.395894   \nUnited_Arab_Emirates_PV_2_low_temp_baseline        2.033698  1.995168   \nUnited_Arab_Emirates_PV_3_low_temp_baseline        2.124678  2.084494   \n...                                                     ...       ...   \nSouth_Africa_PV_4_low_temp_optimistic              2.174816  2.115768   \nSouth_Africa_Onshore_3_high_temp_optimistic        3.432700  3.392380   \nSouth_Africa_Offshore_1_high_temp_optimistic       2.930034  2.880146   \nSouth_Africa_Offshore_2_high_temp_optimistic       3.777477  3.715198   \nSouth_Africa_PV_4_high_temp_optimistic             2.650047  2.592917   \n\n                                                       2045      2046  \\\nID                                                                      \nUnited_Arab_Emirates_Onshore_3_low_temp_baseline   4.403312  4.338001   \nUnited_Arab_Emirates_Offshore_1_low_temp_baseline  6.719989  6.607285   \nUnited_Arab_Emirates_Offshore_2_low_temp_baseline  9.176013  9.024151   \nUnited_Arab_Emirates_PV_2_low_temp_baseline        1.933859  1.891448   \nUnited_Arab_Emirates_PV_3_low_temp_baseline        2.020231  1.975935   \n...                                                     ...       ...   \nSouth_Africa_PV_4_low_temp_optimistic              2.014671  1.948563   \nSouth_Africa_Onshore_3_high_temp_optimistic        3.300107  3.248513   \nSouth_Africa_Offshore_1_high_temp_optimistic       2.806048  2.755060   \nSouth_Africa_Offshore_2_high_temp_optimistic       3.619913  3.556102   \nSouth_Africa_PV_4_high_temp_optimistic             2.495084  2.430448   \n\n                                                       2047      2048  \\\nID                                                                      \nUnited_Arab_Emirates_Onshore_3_low_temp_baseline   4.274817  4.213586   \nUnited_Arab_Emirates_Offshore_1_low_temp_baseline  6.500267  6.398248   \nUnited_Arab_Emirates_Offshore_2_low_temp_baseline  8.880277  8.743419   \nUnited_Arab_Emirates_PV_2_low_temp_baseline        1.850562  1.811050   \nUnited_Arab_Emirates_PV_3_low_temp_baseline        1.933247  1.892006   \n...                                                     ...       ...   \nSouth_Africa_PV_4_low_temp_optimistic              1.885225  1.824345   \nSouth_Africa_Onshore_3_high_temp_optimistic        3.198556  3.150082   \nSouth_Africa_Offshore_1_high_temp_optimistic       2.706577  2.660273   \nSouth_Africa_Offshore_2_high_temp_optimistic       3.495686  3.438224   \nSouth_Africa_PV_4_high_temp_optimistic             2.368174  2.307988   \n\n                                                       2049      2050  \nID                                                                     \nUnited_Arab_Emirates_Onshore_3_low_temp_baseline   4.154154  4.096389  \nUnited_Arab_Emirates_Offshore_1_low_temp_baseline  6.300666  6.207051  \nUnited_Arab_Emirates_Offshore_2_low_temp_baseline  8.612779  8.487690  \nUnited_Arab_Emirates_PV_2_low_temp_baseline        1.772783  1.735653  \nUnited_Arab_Emirates_PV_3_low_temp_baseline        1.852079  1.813348  \n...                                                     ...       ...  \nSouth_Africa_PV_4_low_temp_optimistic              1.765661  1.708951  \nSouth_Africa_Onshore_3_high_temp_optimistic        3.102956  3.057060  \nSouth_Africa_Offshore_1_high_temp_optimistic       2.615880  2.573177  \nSouth_Africa_Offshore_2_high_temp_optimistic       3.383351  3.330767  \nSouth_Africa_PV_4_high_temp_optimistic             2.249662  2.193002  \n\n[1660 rows x 31 columns]",
      "text/html": "<div>\n<style scoped>\n    .dataframe tbody tr th:only-of-type {\n        vertical-align: middle;\n    }\n\n    .dataframe tbody tr th {\n        vertical-align: top;\n    }\n\n    .dataframe thead th {\n        text-align: right;\n    }\n</style>\n<table border=\"1\" class=\"dataframe\">\n  <thead>\n    <tr style=\"text-align: right;\">\n      <th></th>\n      <th>2020</th>\n      <th>2021</th>\n      <th>2022</th>\n      <th>2023</th>\n      <th>2024</th>\n      <th>2025</th>\n      <th>2026</th>\n      <th>2027</th>\n      <th>2028</th>\n      <th>2029</th>\n      <th>...</th>\n      <th>2041</th>\n      <th>2042</th>\n      <th>2043</th>\n      <th>2044</th>\n      <th>2045</th>\n      <th>2046</th>\n      <th>2047</th>\n      <th>2048</th>\n      <th>2049</th>\n      <th>2050</th>\n    </tr>\n    <tr>\n      <th>ID</th>\n      <th></th>\n      <th></th>\n      <th></th>\n      <th></th>\n      <th></th>\n      <th></th>\n      <th></th>\n      <th></th>\n      <th></th>\n      <th></th>\n      <th></th>\n      <th></th>\n      <th></th>\n      <th></th>\n      <th></th>\n      <th></th>\n      <th></th>\n      <th></th>\n      <th></th>\n      <th></th>\n      <th></th>\n    </tr>\n  </thead>\n  <tbody>\n    <tr>\n      <th>United_Arab_Emirates_Onshore_3_low_temp_baseline</th>\n      <td>7.083424</td>\n      <td>6.891298</td>\n      <td>6.715543</td>\n      <td>6.552560</td>\n      <td>6.399783</td>\n      <td>6.255316</td>\n      <td>6.117722</td>\n      <td>5.985886</td>\n      <td>5.858925</td>\n      <td>5.736129</td>\n      <td>...</td>\n      <td>4.691380</td>\n      <td>4.628208</td>\n      <td>4.566471</td>\n      <td>4.512363</td>\n      <td>4.403312</td>\n      <td>4.338001</td>\n      <td>4.274817</td>\n      <td>4.213586</td>\n      <td>4.154154</td>\n      <td>4.096389</td>\n    </tr>\n    <tr>\n      <th>United_Arab_Emirates_Offshore_1_low_temp_baseline</th>\n      <td>11.470109</td>\n      <td>11.104346</td>\n      <td>10.787404</td>\n      <td>10.505314</td>\n      <td>10.249265</td>\n      <td>10.013359</td>\n      <td>9.793456</td>\n      <td>9.586545</td>\n      <td>9.390367</td>\n      <td>9.203187</td>\n      <td>...</td>\n      <td>7.248224</td>\n      <td>7.116204</td>\n      <td>6.992261</td>\n      <td>6.880684</td>\n      <td>6.719989</td>\n      <td>6.607285</td>\n      <td>6.500267</td>\n      <td>6.398248</td>\n      <td>6.300666</td>\n      <td>6.207051</td>\n    </tr>\n    <tr>\n      <th>United_Arab_Emirates_Offshore_2_low_temp_baseline</th>\n      <td>15.518520</td>\n      <td>15.026419</td>\n      <td>14.603391</td>\n      <td>14.229709</td>\n      <td>13.892937</td>\n      <td>13.584745</td>\n      <td>13.299293</td>\n      <td>13.032333</td>\n      <td>12.780680</td>\n      <td>12.541890</td>\n      <td>...</td>\n      <td>9.892514</td>\n      <td>9.713566</td>\n      <td>9.545998</td>\n      <td>9.395894</td>\n      <td>9.176013</td>\n      <td>9.024151</td>\n      <td>8.880277</td>\n      <td>8.743419</td>\n      <td>8.612779</td>\n      <td>8.487690</td>\n    </tr>\n    <tr>\n      <th>United_Arab_Emirates_PV_2_low_temp_baseline</th>\n      <td>3.990183</td>\n      <td>3.815470</td>\n      <td>3.659375</td>\n      <td>3.516671</td>\n      <td>3.384029</td>\n      <td>3.259207</td>\n      <td>3.140629</td>\n      <td>3.027147</td>\n      <td>2.917901</td>\n      <td>2.812232</td>\n      <td>...</td>\n      <td>2.123259</td>\n      <td>2.077646</td>\n      <td>2.033698</td>\n      <td>1.995168</td>\n      <td>1.933859</td>\n      <td>1.891448</td>\n      <td>1.850562</td>\n      <td>1.811050</td>\n      <td>1.772783</td>\n      <td>1.735653</td>\n    </tr>\n    <tr>\n      <th>United_Arab_Emirates_PV_3_low_temp_baseline</th>\n      <td>4.167158</td>\n      <td>3.984340</td>\n      <td>3.821167</td>\n      <td>3.672128</td>\n      <td>3.533712</td>\n      <td>3.403554</td>\n      <td>3.279992</td>\n      <td>3.161815</td>\n      <td>3.048116</td>\n      <td>2.938202</td>\n      <td>...</td>\n      <td>2.218239</td>\n      <td>2.170581</td>\n      <td>2.124678</td>\n      <td>2.084494</td>\n      <td>2.020231</td>\n      <td>1.975935</td>\n      <td>1.933247</td>\n      <td>1.892006</td>\n      <td>1.852079</td>\n      <td>1.813348</td>\n    </tr>\n    <tr>\n      <th>...</th>\n      <td>...</td>\n      <td>...</td>\n      <td>...</td>\n      <td>...</td>\n      <td>...</td>\n      <td>...</td>\n      <td>...</td>\n      <td>...</td>\n      <td>...</td>\n      <td>...</td>\n      <td>...</td>\n      <td>...</td>\n      <td>...</td>\n      <td>...</td>\n      <td>...</td>\n      <td>...</td>\n      <td>...</td>\n      <td>...</td>\n      <td>...</td>\n      <td>...</td>\n      <td>...</td>\n    </tr>\n    <tr>\n      <th>South_Africa_PV_4_low_temp_optimistic</th>\n      <td>4.776238</td>\n      <td>4.522432</td>\n      <td>4.311259</td>\n      <td>4.130247</td>\n      <td>3.971568</td>\n      <td>3.830018</td>\n      <td>3.701980</td>\n      <td>3.584849</td>\n      <td>3.476693</td>\n      <td>3.376044</td>\n      <td>...</td>\n      <td>2.316135</td>\n      <td>2.243911</td>\n      <td>2.174816</td>\n      <td>2.115768</td>\n      <td>2.014671</td>\n      <td>1.948563</td>\n      <td>1.885225</td>\n      <td>1.824345</td>\n      <td>1.765661</td>\n      <td>1.708951</td>\n    </tr>\n    <tr>\n      <th>South_Africa_Onshore_3_high_temp_optimistic</th>\n      <td>6.957099</td>\n      <td>6.651531</td>\n      <td>6.361605</td>\n      <td>6.082880</td>\n      <td>5.812121</td>\n      <td>5.546874</td>\n      <td>5.285203</td>\n      <td>5.025533</td>\n      <td>4.766533</td>\n      <td>4.507054</td>\n      <td>...</td>\n      <td>3.527896</td>\n      <td>3.479815</td>\n      <td>3.432700</td>\n      <td>3.392380</td>\n      <td>3.300107</td>\n      <td>3.248513</td>\n      <td>3.198556</td>\n      <td>3.150082</td>\n      <td>3.102956</td>\n      <td>3.057060</td>\n    </tr>\n    <tr>\n      <th>South_Africa_Offshore_1_high_temp_optimistic</th>\n      <td>6.420926</td>\n      <td>6.101068</td>\n      <td>5.807786</td>\n      <td>5.532832</td>\n      <td>5.271000</td>\n      <td>5.018783</td>\n      <td>4.773702</td>\n      <td>4.533933</td>\n      <td>4.298081</td>\n      <td>4.065056</td>\n      <td>...</td>\n      <td>3.044944</td>\n      <td>2.985666</td>\n      <td>2.930034</td>\n      <td>2.880146</td>\n      <td>2.806048</td>\n      <td>2.755060</td>\n      <td>2.706577</td>\n      <td>2.660273</td>\n      <td>2.615880</td>\n      <td>2.573177</td>\n    </tr>\n    <tr>\n      <th>South_Africa_Offshore_2_high_temp_optimistic</th>\n      <td>7.882887</td>\n      <td>7.502615</td>\n      <td>7.158460</td>\n      <td>6.839487</td>\n      <td>6.538808</td>\n      <td>6.251803</td>\n      <td>5.975218</td>\n      <td>5.706671</td>\n      <td>5.444358</td>\n      <td>5.186877</td>\n      <td>...</td>\n      <td>3.922605</td>\n      <td>3.847566</td>\n      <td>3.777477</td>\n      <td>3.715198</td>\n      <td>3.619913</td>\n      <td>3.556102</td>\n      <td>3.495686</td>\n      <td>3.438224</td>\n      <td>3.383351</td>\n      <td>3.330767</td>\n    </tr>\n    <tr>\n      <th>South_Africa_PV_4_high_temp_optimistic</th>\n      <td>8.301321</td>\n      <td>7.735446</td>\n      <td>7.214757</td>\n      <td>6.725080</td>\n      <td>6.257449</td>\n      <td>5.805842</td>\n      <td>5.366024</td>\n      <td>4.934896</td>\n      <td>4.510115</td>\n      <td>4.089858</td>\n      <td>...</td>\n      <td>2.785486</td>\n      <td>2.716458</td>\n      <td>2.650047</td>\n      <td>2.592917</td>\n      <td>2.495084</td>\n      <td>2.430448</td>\n      <td>2.368174</td>\n      <td>2.307988</td>\n      <td>2.249662</td>\n      <td>2.193002</td>\n    </tr>\n  </tbody>\n</table>\n<p>1660 rows × 31 columns</p>\n</div>"
     },
     "execution_count": 274,
     "metadata": {},
     "output_type": "execute_result"
    }
   ],
   "source": [
    "lcoh_green = pd.read_excel(\"/Users/jakob/PycharmProjects/H2_pathways_repo/data/raw/20220921_Data_Assumptions.xlsx\", sheet_name='LCOH_RES', decimal=',', index_col=0)\n",
    "lcoh_green"
   ],
   "metadata": {
    "collapsed": false,
    "pycharm": {
     "name": "#%%\n"
    }
   }
  },
  {
   "cell_type": "code",
   "execution_count": 275,
   "outputs": [
    {
     "data": {
      "text/plain": "0.05"
     },
     "execution_count": 275,
     "metadata": {},
     "output_type": "execute_result"
    }
   ],
   "source": [
    "# WACC for all transport investments (pipelines, terminals, liquefaction plants)\n",
    "i_tra = float(tea_lh2.loc['Liquefaction - Discount rate [%]']['LH2'])\n",
    "i_tra"
   ],
   "metadata": {
    "collapsed": false,
    "pycharm": {
     "name": "#%%\n"
    }
   }
  },
  {
   "cell_type": "markdown",
   "source": [
    "# Liquefaction"
   ],
   "metadata": {
    "collapsed": false,
    "pycharm": {
     "name": "#%% md\n"
    }
   }
  },
  {
   "cell_type": "code",
   "execution_count": 276,
   "outputs": [
    {
     "data": {
      "text/plain": "0.05"
     },
     "execution_count": 276,
     "metadata": {},
     "output_type": "execute_result"
    }
   ],
   "source": [
    "# WACC for liquefaction plant in %\n",
    "i_liq = float(tea_lh2.loc['Liquefaction - Discount rate [%]']['LH2'])\n",
    "i_liq"
   ],
   "metadata": {
    "collapsed": false,
    "pycharm": {
     "name": "#%%\n"
    }
   }
  },
  {
   "cell_type": "code",
   "execution_count": 277,
   "outputs": [
    {
     "data": {
      "text/plain": "30.0"
     },
     "execution_count": 277,
     "metadata": {},
     "output_type": "execute_result"
    }
   ],
   "source": [
    "# Economic lifetime for the liquefaction plant [years]\n",
    "l_liq = float(tea_lh2.loc['Liquefaction - Lifetime [Years]']['LH2'])\n",
    "l_liq"
   ],
   "metadata": {
    "collapsed": false,
    "pycharm": {
     "name": "#%%\n"
    }
   }
  },
  {
   "cell_type": "code",
   "execution_count": 278,
   "outputs": [
    {
     "data": {
      "text/plain": "0.06505143508027657"
     },
     "execution_count": 278,
     "metadata": {},
     "output_type": "execute_result"
    }
   ],
   "source": [
    "# Amortisation factor alpha for the liquefaction plant\n",
    "alpha_liq = (i_liq * (1 + i_liq) ** l_liq) /(((1 + i_liq) ** l_liq) - 1)\n",
    "alpha_liq\n"
   ],
   "metadata": {
    "collapsed": false,
    "pycharm": {
     "name": "#%%\n"
    }
   }
  },
  {
   "cell_type": "code",
   "execution_count": 279,
   "outputs": [
    {
     "data": {
      "text/plain": "46.9570923511"
     },
     "execution_count": 279,
     "metadata": {},
     "output_type": "execute_result"
    }
   ],
   "source": [
    "p_el_y = float(p_electricity.loc['Norway'][2025])\n",
    "p_el_y"
   ],
   "metadata": {
    "collapsed": false,
    "pycharm": {
     "name": "#%%\n"
    }
   }
  },
  {
   "cell_type": "code",
   "execution_count": 280,
   "outputs": [
    {
     "data": {
      "text/plain": "0.04"
     },
     "execution_count": 280,
     "metadata": {},
     "output_type": "execute_result"
    }
   ],
   "source": [
    "opex_liq_share = float(tea_lh2.loc['Liquefaction - Opex opt. [% of Capex]']['LH2'])\n",
    "opex_liq_share"
   ],
   "metadata": {
    "collapsed": false,
    "pycharm": {
     "name": "#%%\n"
    }
   }
  },
  {
   "cell_type": "markdown",
   "source": [],
   "metadata": {
    "collapsed": false,
    "pycharm": {
     "name": "#%% md\n"
    }
   }
  },
  {
   "cell_type": "markdown",
   "source": [
    "Calc. liquefaction cost"
   ],
   "metadata": {
    "collapsed": false,
    "pycharm": {
     "name": "#%% md\n"
    }
   }
  },
  {
   "cell_type": "code",
   "execution_count": 281,
   "outputs": [],
   "source": [
    "# Definition of the cost calculation function for liquefaction costs. Time relevant variables = capex [€/tpa], opex [€/tpa], electricity use [kwh/kg H2], electricity price [$/MWh]\n",
    "def calculate_liq_costs(alpha_liq, capex_liq_y, opex_liq_y, el_liq_y, p_el_y):\n",
    "\n",
    "    result = float((alpha_liq * capex_liq_y/1000 + opex_liq_y/1000) + el_liq_y * p_el_y*0.89/1000)\n",
    "\n",
    "    return result"
   ],
   "metadata": {
    "collapsed": false,
    "pycharm": {
     "name": "#%%\n"
    }
   }
  },
  {
   "cell_type": "code",
   "execution_count": 337,
   "outputs": [
    {
     "data": {
      "text/plain": "      LH2_Liquefaction_costs\nYears                       \n2025                1.215341\n2026                1.175823\n2027                1.138195\n2028                1.100022\n2029                1.062216\n2030                1.024984\n2031                0.990042\n2032                0.956797\n2033                0.925815\n2034                0.893889\n2035                0.859419\n2036                0.822662\n2037                0.787624\n2038                0.754766\n2039                0.724679\n2040                0.694072\n2041                0.676872\n2042                0.660538\n2043                0.644632\n2044                0.628676\n2045                0.611045\n2046                0.590184\n2047                0.565737\n2048                0.539417\n2049                0.514558\n2050                0.492506",
      "text/html": "<div>\n<style scoped>\n    .dataframe tbody tr th:only-of-type {\n        vertical-align: middle;\n    }\n\n    .dataframe tbody tr th {\n        vertical-align: top;\n    }\n\n    .dataframe thead th {\n        text-align: right;\n    }\n</style>\n<table border=\"1\" class=\"dataframe\">\n  <thead>\n    <tr style=\"text-align: right;\">\n      <th></th>\n      <th>LH2_Liquefaction_costs</th>\n    </tr>\n    <tr>\n      <th>Years</th>\n      <th></th>\n    </tr>\n  </thead>\n  <tbody>\n    <tr>\n      <th>2025</th>\n      <td>1.215341</td>\n    </tr>\n    <tr>\n      <th>2026</th>\n      <td>1.175823</td>\n    </tr>\n    <tr>\n      <th>2027</th>\n      <td>1.138195</td>\n    </tr>\n    <tr>\n      <th>2028</th>\n      <td>1.100022</td>\n    </tr>\n    <tr>\n      <th>2029</th>\n      <td>1.062216</td>\n    </tr>\n    <tr>\n      <th>2030</th>\n      <td>1.024984</td>\n    </tr>\n    <tr>\n      <th>2031</th>\n      <td>0.990042</td>\n    </tr>\n    <tr>\n      <th>2032</th>\n      <td>0.956797</td>\n    </tr>\n    <tr>\n      <th>2033</th>\n      <td>0.925815</td>\n    </tr>\n    <tr>\n      <th>2034</th>\n      <td>0.893889</td>\n    </tr>\n    <tr>\n      <th>2035</th>\n      <td>0.859419</td>\n    </tr>\n    <tr>\n      <th>2036</th>\n      <td>0.822662</td>\n    </tr>\n    <tr>\n      <th>2037</th>\n      <td>0.787624</td>\n    </tr>\n    <tr>\n      <th>2038</th>\n      <td>0.754766</td>\n    </tr>\n    <tr>\n      <th>2039</th>\n      <td>0.724679</td>\n    </tr>\n    <tr>\n      <th>2040</th>\n      <td>0.694072</td>\n    </tr>\n    <tr>\n      <th>2041</th>\n      <td>0.676872</td>\n    </tr>\n    <tr>\n      <th>2042</th>\n      <td>0.660538</td>\n    </tr>\n    <tr>\n      <th>2043</th>\n      <td>0.644632</td>\n    </tr>\n    <tr>\n      <th>2044</th>\n      <td>0.628676</td>\n    </tr>\n    <tr>\n      <th>2045</th>\n      <td>0.611045</td>\n    </tr>\n    <tr>\n      <th>2046</th>\n      <td>0.590184</td>\n    </tr>\n    <tr>\n      <th>2047</th>\n      <td>0.565737</td>\n    </tr>\n    <tr>\n      <th>2048</th>\n      <td>0.539417</td>\n    </tr>\n    <tr>\n      <th>2049</th>\n      <td>0.514558</td>\n    </tr>\n    <tr>\n      <th>2050</th>\n      <td>0.492506</td>\n    </tr>\n  </tbody>\n</table>\n</div>"
     },
     "execution_count": 337,
     "metadata": {},
     "output_type": "execute_result"
    }
   ],
   "source": [
    "# Calculation of liquefaction costs [€/kg_h2] from 2030 to 2050.\n",
    "years = np.arange(2025,2051)\n",
    "result = pd.DataFrame(index=years, columns=['LH2_Liquefaction_costs'])\n",
    "result.index.name = 'Years'\n",
    "\n",
    "for year in years:\n",
    "\n",
    "    # get capex, opex, natural gas price and CO2 price of specific year\n",
    "    capex_liq_y = float(tea_lh2.loc['Liquefaction - Capex opt. [€/t/a]'][year])\n",
    "    opex_liq_y = capex_liq_y * opex_liq_share\n",
    "    el_liq_y = float(tea_lh2.loc['Liquefaction - Electricity consumption opt. [kWh/kgH2]'][year])\n",
    "    p_el_y = float(p_electricity.loc['Norway'][year])\n",
    "\n",
    "    # calculate costs of specific year\n",
    "    result.LH2_Liquefaction_costs.loc[year] = calculate_liq_costs(alpha_liq=alpha_liq, capex_liq_y=capex_liq_y, opex_liq_y=opex_liq_y, el_liq_y=el_liq_y, p_el_y=p_el_y)\n",
    "\n",
    "result"
   ],
   "metadata": {
    "collapsed": false,
    "pycharm": {
     "name": "#%%\n"
    }
   }
  },
  {
   "cell_type": "code",
   "execution_count": 283,
   "outputs": [],
   "source": [
    "# Create csv file from results dataframe\n",
    "path=r'/Users/jakob/PycharmProjects/H2_pathways_repo/data/processed'\n",
    "output_file = os.path.join(path,'LH2_Liquefaction_costs.csv')\n",
    "result.to_csv(output_file, sep = ';')"
   ],
   "metadata": {
    "collapsed": false,
    "pycharm": {
     "name": "#%%\n"
    }
   }
  },
  {
   "cell_type": "markdown",
   "source": [
    "Plot liquefaction costs"
   ],
   "metadata": {
    "collapsed": false,
    "pycharm": {
     "name": "#%% md\n"
    }
   }
  },
  {
   "cell_type": "code",
   "execution_count": 284,
   "outputs": [
    {
     "data": {
      "text/plain": "<Figure size 720x432 with 1 Axes>",
      "image/png": "[encoded data removed]"
     },
     "metadata": {
      "needs_background": "light"
     },
     "output_type": "display_data"
    }
   ],
   "source": [
    "# Plot cost curve for liquefaction\n",
    "fig, ax = plt.subplots(figsize=(10,6))\n",
    "plt.plot(result, color = 'cyan', linestyle = 'solid')\n",
    "plt.grid(True, axis = 'y')\n",
    "ax.set_axisbelow(True)\n",
    "plt.title('Cost curve for liquefaction', fontweight = 'bold')\n",
    "plt.legend(['Liquefaction costs in €/kg_H2'])\n",
    "plt.xlabel('Year')\n",
    "plt.ylabel('Cost [€/kg_H2]')\n",
    "plt.show()"
   ],
   "metadata": {
    "collapsed": false,
    "pycharm": {
     "name": "#%%\n"
    }
   }
  },
  {
   "cell_type": "markdown",
   "source": [
    "# Export terminal"
   ],
   "metadata": {
    "collapsed": false,
    "pycharm": {
     "name": "#%% md\n"
    }
   }
  },
  {
   "cell_type": "code",
   "execution_count": 285,
   "outputs": [],
   "source": [
    "# Lifetime of import and export terminals\n",
    "l_ter = float(tea_lh2.loc['Export Terminal - Technical lifetime [Years]']['LH2'])"
   ],
   "metadata": {
    "collapsed": false,
    "pycharm": {
     "name": "#%%\n"
    }
   }
  },
  {
   "cell_type": "code",
   "execution_count": 286,
   "outputs": [],
   "source": [
    "# Amortisation factor for the export terminal\n",
    "alpha_et = (i_tra * (1 + i_tra) ** l_ter) / (((1 + i_tra) ** l_ter) - 1)"
   ],
   "metadata": {
    "collapsed": false,
    "pycharm": {
     "name": "#%%\n"
    }
   }
  },
  {
   "cell_type": "code",
   "execution_count": 287,
   "outputs": [],
   "source": [
    "# Average storage time in the export terminal tanks in days\n",
    "t_et = float(tea_lh2.loc['Export Terminal - Storage length per load [Days]']['LH2'])"
   ],
   "metadata": {
    "collapsed": false,
    "pycharm": {
     "name": "#%%\n"
    }
   }
  },
  {
   "cell_type": "code",
   "execution_count": 288,
   "outputs": [
    {
     "data": {
      "text/plain": "0.61"
     },
     "execution_count": 288,
     "metadata": {},
     "output_type": "execute_result"
    }
   ],
   "source": [
    "# Electricity consumption for the export terminal [kWh/kg_h2]\n",
    "el_et = float(tea_lh2.loc['Export Terminal - Electricity use [kWh/kgH2]']['LH2'])\n",
    "el_et"
   ],
   "metadata": {
    "collapsed": false,
    "pycharm": {
     "name": "#%%\n"
    }
   }
  },
  {
   "cell_type": "code",
   "execution_count": 289,
   "outputs": [
    {
     "data": {
      "text/plain": "0.001"
     },
     "execution_count": 289,
     "metadata": {},
     "output_type": "execute_result"
    }
   ],
   "source": [
    "# Boil-off hydrogen in [%/day]\n",
    "bog_et = float(tea_lh2.loc['Export Terminal - Boil off rate [%/day]']['LH2'])\n",
    "bog_et"
   ],
   "metadata": {
    "collapsed": false,
    "pycharm": {
     "name": "#%%\n"
    }
   }
  },
  {
   "cell_type": "code",
   "execution_count": 290,
   "outputs": [
    {
     "data": {
      "text/plain": "7.0"
     },
     "execution_count": 290,
     "metadata": {},
     "output_type": "execute_result"
    }
   ],
   "source": [
    "# Average storage time in the export terminal tanks in days\n",
    "t_et = float(tea_lh2.loc['Export Terminal - Storage length per load [Days]']['LH2'])\n",
    "t_et"
   ],
   "metadata": {
    "collapsed": false,
    "pycharm": {
     "name": "#%%\n"
    }
   }
  },
  {
   "cell_type": "code",
   "execution_count": 291,
   "outputs": [
    {
     "data": {
      "text/plain": "0.1"
     },
     "execution_count": 291,
     "metadata": {},
     "output_type": "execute_result"
    }
   ],
   "source": [
    "el_reliq = float(tea_lh2.loc['Export Terminal - Energy use to reliquefy opt. [kWh/kg H2/day]']['LH2'])\n",
    "el_reliq"
   ],
   "metadata": {
    "collapsed": false,
    "pycharm": {
     "name": "#%%\n"
    }
   }
  },
  {
   "cell_type": "code",
   "execution_count": 292,
   "outputs": [
    {
     "data": {
      "text/plain": "0.04"
     },
     "execution_count": 292,
     "metadata": {},
     "output_type": "execute_result"
    }
   ],
   "source": [
    "opex_et_share =  float(tea_lh2.loc['Export Terminal - Annual OPEX [% of CAPEX]']['LH2'])\n",
    "opex_et_share"
   ],
   "metadata": {
    "collapsed": false,
    "pycharm": {
     "name": "#%%\n"
    }
   }
  },
  {
   "cell_type": "markdown",
   "source": [],
   "metadata": {
    "collapsed": false,
    "pycharm": {
     "name": "#%% md\n"
    }
   }
  },
  {
   "cell_type": "markdown",
   "source": [
    "Calc. export terminal cost"
   ],
   "metadata": {
    "collapsed": false,
    "pycharm": {
     "name": "#%% md\n"
    }
   }
  },
  {
   "cell_type": "markdown",
   "source": [
    "Boil-off and transfer gas are re-liquefied @"
   ],
   "metadata": {
    "collapsed": false,
    "pycharm": {
     "name": "#%% md\n"
    }
   }
  },
  {
   "cell_type": "markdown",
   "source": [
    "Time relevant variables = capex [$/tpa], opex [$/tpa], electricity use [kwh/kg H2], electricity price [$/MWh] storage time in days"
   ],
   "metadata": {
    "collapsed": false,
    "pycharm": {
     "name": "#%% md\n"
    }
   }
  },
  {
   "cell_type": "code",
   "execution_count": 333,
   "outputs": [],
   "source": [
    "# Definition of the cost calculation function for the Export terminal.\n",
    "def calculate_export_terminal_costs(alpha_et, capex_et_y, opex_et_y, el_et, p_el_y, el_reliq):\n",
    "    result = (alpha_et * capex_et_y/1000 + opex_et_y/1000) + (el_et + el_reliq * t_et) * p_el_y* 0.89/1000\n",
    "\n",
    "    return result"
   ],
   "metadata": {
    "collapsed": false,
    "pycharm": {
     "name": "#%%\n"
    }
   }
  },
  {
   "cell_type": "code",
   "execution_count": 334,
   "outputs": [],
   "source": [
    "#Calculation of export terminal costs [$/kg_h2] from 2030 to 2050.\n",
    "years = np.arange(2025, 2051)\n",
    "result = pd.DataFrame(index=years, columns=['LH2_Export_terminal_costs'])\n",
    "result.index.name = 'Years'"
   ],
   "metadata": {
    "collapsed": false,
    "pycharm": {
     "name": "#%%\n"
    }
   }
  },
  {
   "cell_type": "code",
   "execution_count": 335,
   "outputs": [
    {
     "data": {
      "text/plain": "      LH2_Export_terminal_costs\nYears                          \n2025                   0.209603\n2026                   0.207343\n2027                   0.205365\n2028                   0.203292\n2029                   0.201268\n2030                   0.199327\n2031                   0.195721\n2032                   0.192401\n2033                   0.189476\n2034                   0.186407\n2035                    0.18291\n2036                   0.179012\n2037                   0.175417\n2038                   0.172221\n2039                   0.169549\n2040                   0.166808\n2041                   0.164201\n2042                   0.161811\n2043                   0.159566\n2044                   0.157377\n2045                   0.154908\n2046                   0.151804\n2047                   0.147938\n2048                    0.14364\n2049                   0.139647\n2050                   0.136305",
      "text/html": "<div>\n<style scoped>\n    .dataframe tbody tr th:only-of-type {\n        vertical-align: middle;\n    }\n\n    .dataframe tbody tr th {\n        vertical-align: top;\n    }\n\n    .dataframe thead th {\n        text-align: right;\n    }\n</style>\n<table border=\"1\" class=\"dataframe\">\n  <thead>\n    <tr style=\"text-align: right;\">\n      <th></th>\n      <th>LH2_Export_terminal_costs</th>\n    </tr>\n    <tr>\n      <th>Years</th>\n      <th></th>\n    </tr>\n  </thead>\n  <tbody>\n    <tr>\n      <th>2025</th>\n      <td>0.209603</td>\n    </tr>\n    <tr>\n      <th>2026</th>\n      <td>0.207343</td>\n    </tr>\n    <tr>\n      <th>2027</th>\n      <td>0.205365</td>\n    </tr>\n    <tr>\n      <th>2028</th>\n      <td>0.203292</td>\n    </tr>\n    <tr>\n      <th>2029</th>\n      <td>0.201268</td>\n    </tr>\n    <tr>\n      <th>2030</th>\n      <td>0.199327</td>\n    </tr>\n    <tr>\n      <th>2031</th>\n      <td>0.195721</td>\n    </tr>\n    <tr>\n      <th>2032</th>\n      <td>0.192401</td>\n    </tr>\n    <tr>\n      <th>2033</th>\n      <td>0.189476</td>\n    </tr>\n    <tr>\n      <th>2034</th>\n      <td>0.186407</td>\n    </tr>\n    <tr>\n      <th>2035</th>\n      <td>0.18291</td>\n    </tr>\n    <tr>\n      <th>2036</th>\n      <td>0.179012</td>\n    </tr>\n    <tr>\n      <th>2037</th>\n      <td>0.175417</td>\n    </tr>\n    <tr>\n      <th>2038</th>\n      <td>0.172221</td>\n    </tr>\n    <tr>\n      <th>2039</th>\n      <td>0.169549</td>\n    </tr>\n    <tr>\n      <th>2040</th>\n      <td>0.166808</td>\n    </tr>\n    <tr>\n      <th>2041</th>\n      <td>0.164201</td>\n    </tr>\n    <tr>\n      <th>2042</th>\n      <td>0.161811</td>\n    </tr>\n    <tr>\n      <th>2043</th>\n      <td>0.159566</td>\n    </tr>\n    <tr>\n      <th>2044</th>\n      <td>0.157377</td>\n    </tr>\n    <tr>\n      <th>2045</th>\n      <td>0.154908</td>\n    </tr>\n    <tr>\n      <th>2046</th>\n      <td>0.151804</td>\n    </tr>\n    <tr>\n      <th>2047</th>\n      <td>0.147938</td>\n    </tr>\n    <tr>\n      <th>2048</th>\n      <td>0.14364</td>\n    </tr>\n    <tr>\n      <th>2049</th>\n      <td>0.139647</td>\n    </tr>\n    <tr>\n      <th>2050</th>\n      <td>0.136305</td>\n    </tr>\n  </tbody>\n</table>\n</div>"
     },
     "execution_count": 335,
     "metadata": {},
     "output_type": "execute_result"
    }
   ],
   "source": [
    "for year in years:\n",
    "    # get capex, opex, xx\n",
    "    capex_et_y = float(tea_lh2.loc['Export Terminal - CAPEX/tank [€/t/a]'][year])\n",
    "    opex_et_y = capex_et_y * opex_et_share\n",
    "    p_el_y = float(p_electricity.loc['Norway'][year])\n",
    "\n",
    "\n",
    "    # calculate costs of specific year\n",
    "    result.LH2_Export_terminal_costs.loc[year] = calculate_export_terminal_costs(alpha_et=alpha_et, capex_et_y=capex_et_y,\n",
    "                                                              opex_et_y=opex_et_y, el_et=el_et, p_el_y=p_el_y, el_reliq=el_reliq)\n",
    "\n",
    "result"
   ],
   "metadata": {
    "collapsed": false,
    "pycharm": {
     "name": "#%%\n"
    }
   }
  },
  {
   "cell_type": "code",
   "execution_count": 336,
   "outputs": [],
   "source": [
    "# Create csv file from results dataframe\n",
    "path = r'/Users/jakob/PycharmProjects/H2_pathways_repo/data/processed'\n",
    "output_file = os.path.join(path, 'LH2_Export_terminal_costs.csv')\n",
    "result.to_csv(output_file, sep=';')"
   ],
   "metadata": {
    "collapsed": false,
    "pycharm": {
     "name": "#%%\n"
    }
   }
  },
  {
   "cell_type": "markdown",
   "source": [
    "Plot export terminal costs"
   ],
   "metadata": {
    "collapsed": false,
    "pycharm": {
     "name": "#%% md\n"
    }
   }
  },
  {
   "cell_type": "code",
   "execution_count": 297,
   "outputs": [
    {
     "data": {
      "text/plain": "<Figure size 720x432 with 1 Axes>",
      "image/png": "[encoded data removed]"
     },
     "metadata": {
      "needs_background": "light"
     },
     "output_type": "display_data"
    }
   ],
   "source": [
    "# Plot cost curve for export terminal costs\n",
    "fig, ax = plt.subplots(figsize=(10,6))\n",
    "plt.plot(result, color = 'red', linestyle = 'solid')\n",
    "plt.grid(True, axis = 'y')\n",
    "ax.set_axisbelow(True)\n",
    "plt.plot(result, color='red', linestyle='dashed')\n",
    "plt.title('Export terminal costs over time', fontweight='bold', fontsize='large')\n",
    "plt.legend(['Export terminal costs in €/kg_H2'])\n",
    "plt.xlabel('Year', fontsize='large')\n",
    "plt.ylabel('Cost [€/kg_H2]', fontsize='large')\n",
    "plt.show()"
   ],
   "metadata": {
    "collapsed": false,
    "pycharm": {
     "name": "#%%\n"
    }
   }
  },
  {
   "cell_type": "markdown",
   "source": [],
   "metadata": {
    "collapsed": false,
    "pycharm": {
     "name": "#%% md\n"
    }
   }
  },
  {
   "cell_type": "markdown",
   "source": [
    "# Shipping"
   ],
   "metadata": {
    "collapsed": false,
    "pycharm": {
     "name": "#%% md\n"
    }
   }
  },
  {
   "cell_type": "code",
   "execution_count": 298,
   "outputs": [
    {
     "data": {
      "text/plain": "30.0"
     },
     "execution_count": 298,
     "metadata": {},
     "output_type": "execute_result"
    }
   ],
   "source": [
    "# Technical lifetime of ships in years\n",
    "l_ship = float(tea_lh2.loc['Shipping - Technical Lifetime [Years]']['LH2'])\n",
    "l_ship"
   ],
   "metadata": {
    "collapsed": false,
    "pycharm": {
     "name": "#%%\n"
    }
   }
  },
  {
   "cell_type": "code",
   "execution_count": 299,
   "outputs": [
    {
     "data": {
      "text/plain": "0.06505143508027657"
     },
     "execution_count": 299,
     "metadata": {},
     "output_type": "execute_result"
    }
   ],
   "source": [
    "# Amortisation factor for shipping\n",
    "alpha_ship = (i_tra * (1 + i_tra) ** l_ship) / (((1 + i_tra) ** l_ship) - 1)\n",
    "alpha_ship\n"
   ],
   "metadata": {
    "collapsed": false,
    "pycharm": {
     "name": "#%%\n"
    }
   }
  },
  {
   "cell_type": "code",
   "execution_count": 397,
   "outputs": [
    {
     "data": {
      "text/plain": "602.403"
     },
     "execution_count": 397,
     "metadata": {},
     "output_type": "execute_result"
    }
   ],
   "source": [
    "# Distance between countries via ship in [km]\n",
    "d_sea = float(tra_d[(tra_d['Origin_Country'] == 'Norway') & (tra_d['Destination_Country'] == 'Germany')]['sea distance (km)'].values)\n",
    "d_sea\n"
   ],
   "metadata": {
    "collapsed": false,
    "pycharm": {
     "name": "#%%\n"
    }
   }
  },
  {
   "cell_type": "code",
   "execution_count": 398,
   "outputs": [
    {
     "data": {
      "text/plain": "30.0"
     },
     "execution_count": 398,
     "metadata": {},
     "output_type": "execute_result"
    }
   ],
   "source": [
    "# Ship speed in [km/h]\n",
    "v_ship = float(tea_lh2.loc['Shipping - Ship speed [km/h]']['LH2'])\n",
    "v_ship"
   ],
   "metadata": {
    "collapsed": false,
    "pycharm": {
     "name": "#%%\n"
    }
   }
  },
  {
   "cell_type": "code",
   "execution_count": 399,
   "outputs": [
    {
     "data": {
      "text/plain": "48.0"
     },
     "execution_count": 399,
     "metadata": {},
     "output_type": "execute_result"
    }
   ],
   "source": [
    "# Berthing time (time for unloading and loading in a harbour) in [h]\n",
    "h_ship = float(tea_lh2.loc['Shipping - Berthing time [hours]']['LH2'])\n",
    "h_ship\n"
   ],
   "metadata": {
    "collapsed": false,
    "pycharm": {
     "name": "#%%\n"
    }
   }
  },
  {
   "cell_type": "code",
   "execution_count": 400,
   "outputs": [
    {
     "data": {
      "text/plain": "8.333333333333333e-05"
     },
     "execution_count": 400,
     "metadata": {},
     "output_type": "execute_result"
    }
   ],
   "source": [
    "# Boil-off when shipping in [%/day] to [%/hour]\n",
    "bog_ship = float(tea_lh2.loc['Shipping - Boil off opt. [%/day]']['LH2'])/24\n",
    "bog_ship"
   ],
   "metadata": {
    "collapsed": false,
    "pycharm": {
     "name": "#%%\n"
    }
   }
  },
  {
   "cell_type": "code",
   "execution_count": 401,
   "outputs": [
    {
     "data": {
      "text/plain": "1.1265151515151516e-06"
     },
     "execution_count": 401,
     "metadata": {},
     "output_type": "execute_result"
    }
   ],
   "source": [
    "# Fuel consumption of a ship in [kg_h2/t/km]\n",
    "f_ship = float(tea_lh2.loc['Shipping - Fuel use [kg H2/t/km]']['LH2'])/1000\n",
    "f_ship"
   ],
   "metadata": {
    "collapsed": false,
    "pycharm": {
     "name": "#%%\n"
    }
   }
  },
  {
   "cell_type": "code",
   "execution_count": 402,
   "outputs": [
    {
     "data": {
      "text/plain": "0.04"
     },
     "execution_count": 402,
     "metadata": {},
     "output_type": "execute_result"
    }
   ],
   "source": [
    "opex_ship_share = float(tea_lh2.loc['Shipping - Annual OPEX [% of CAPEX]']['LH2'])\n",
    "opex_ship_share"
   ],
   "metadata": {
    "collapsed": false,
    "pycharm": {
     "name": "#%%\n"
    }
   }
  },
  {
   "cell_type": "markdown",
   "source": [
    "Fuel cost calculation"
   ],
   "metadata": {
    "collapsed": false,
    "pycharm": {
     "name": "#%% md\n"
    }
   }
  },
  {
   "cell_type": "code",
   "execution_count": 403,
   "outputs": [],
   "source": [
    "# Cost of transported hydrogen in [$/kg_h2] in year y\n",
    "lcoh_ngr = pd.read_csv(\"/Users/jakob/PycharmProjects/H2_pathways_repo/data/processed/LCOH_NGR.csv\", delimiter=';', decimal=',', index_col=0)\n",
    "LH2_Liquefaction_costs = pd.read_csv(\"/Users/jakob/PycharmProjects/H2_pathways_repo/data/processed/LH2_Liquefaction_costs.csv\", delimiter=';', decimal=',', index_col=0)\n",
    "LH2_Export_terminal_costs = pd.read_csv(\"/Users/jakob/PycharmProjects/H2_pathways_repo/data/processed/LH2_Export_terminal_costs.csv\", delimiter=';', decimal=',', index_col=0)"
   ],
   "metadata": {
    "collapsed": false,
    "pycharm": {
     "name": "#%%\n"
    }
   }
  },
  {
   "cell_type": "code",
   "execution_count": 404,
   "outputs": [],
   "source": [
    "# Cost of transported hydrogen carrier in [€/kg_h2] in year y\n",
    "H2_costs = (lcoh_ngr.loc[::]['LCOH_BLUE']).apply(pd.to_numeric)\n",
    "Con_costs = (LH2_Liquefaction_costs.loc[::]['LH2_Liquefaction_costs']).apply(pd.to_numeric)\n",
    "ET_costs =  (LH2_Export_terminal_costs.loc[::]['LH2_Export_terminal_costs']).apply(pd.to_numeric)"
   ],
   "metadata": {
    "collapsed": false,
    "pycharm": {
     "name": "#%%\n"
    }
   }
  },
  {
   "cell_type": "code",
   "execution_count": 405,
   "outputs": [
    {
     "data": {
      "text/plain": "       LH2_cargo_cost\nYears                \n2025         2.973898\n2026         2.923817\n2027         2.876098\n2028         2.827937\n2029         2.780398\n2030         2.733734\n2031         2.698956\n2032         2.666476\n2033         2.636973\n2034         2.606711\n2035         2.573812\n2036         2.538570\n2037         2.505701\n2038         2.475775\n2039         2.449517\n2040         2.423056\n2041         2.410531\n2042         2.399500\n2043         2.389463\n2044         2.379870\n2045         2.368775\n2046         2.354285\n2047         2.335931\n2048         2.315778\n2049         2.297911\n2050         2.272741",
      "text/html": "<div>\n<style scoped>\n    .dataframe tbody tr th:only-of-type {\n        vertical-align: middle;\n    }\n\n    .dataframe tbody tr th {\n        vertical-align: top;\n    }\n\n    .dataframe thead th {\n        text-align: right;\n    }\n</style>\n<table border=\"1\" class=\"dataframe\">\n  <thead>\n    <tr style=\"text-align: right;\">\n      <th></th>\n      <th>LH2_cargo_cost</th>\n    </tr>\n    <tr>\n      <th>Years</th>\n      <th></th>\n    </tr>\n  </thead>\n  <tbody>\n    <tr>\n      <th>2025</th>\n      <td>2.973898</td>\n    </tr>\n    <tr>\n      <th>2026</th>\n      <td>2.923817</td>\n    </tr>\n    <tr>\n      <th>2027</th>\n      <td>2.876098</td>\n    </tr>\n    <tr>\n      <th>2028</th>\n      <td>2.827937</td>\n    </tr>\n    <tr>\n      <th>2029</th>\n      <td>2.780398</td>\n    </tr>\n    <tr>\n      <th>2030</th>\n      <td>2.733734</td>\n    </tr>\n    <tr>\n      <th>2031</th>\n      <td>2.698956</td>\n    </tr>\n    <tr>\n      <th>2032</th>\n      <td>2.666476</td>\n    </tr>\n    <tr>\n      <th>2033</th>\n      <td>2.636973</td>\n    </tr>\n    <tr>\n      <th>2034</th>\n      <td>2.606711</td>\n    </tr>\n    <tr>\n      <th>2035</th>\n      <td>2.573812</td>\n    </tr>\n    <tr>\n      <th>2036</th>\n      <td>2.538570</td>\n    </tr>\n    <tr>\n      <th>2037</th>\n      <td>2.505701</td>\n    </tr>\n    <tr>\n      <th>2038</th>\n      <td>2.475775</td>\n    </tr>\n    <tr>\n      <th>2039</th>\n      <td>2.449517</td>\n    </tr>\n    <tr>\n      <th>2040</th>\n      <td>2.423056</td>\n    </tr>\n    <tr>\n      <th>2041</th>\n      <td>2.410531</td>\n    </tr>\n    <tr>\n      <th>2042</th>\n      <td>2.399500</td>\n    </tr>\n    <tr>\n      <th>2043</th>\n      <td>2.389463</td>\n    </tr>\n    <tr>\n      <th>2044</th>\n      <td>2.379870</td>\n    </tr>\n    <tr>\n      <th>2045</th>\n      <td>2.368775</td>\n    </tr>\n    <tr>\n      <th>2046</th>\n      <td>2.354285</td>\n    </tr>\n    <tr>\n      <th>2047</th>\n      <td>2.335931</td>\n    </tr>\n    <tr>\n      <th>2048</th>\n      <td>2.315778</td>\n    </tr>\n    <tr>\n      <th>2049</th>\n      <td>2.297911</td>\n    </tr>\n    <tr>\n      <th>2050</th>\n      <td>2.272741</td>\n    </tr>\n  </tbody>\n</table>\n</div>"
     },
     "execution_count": 405,
     "metadata": {},
     "output_type": "execute_result"
    }
   ],
   "source": [
    "# €/kg_H2\n",
    "LH2_cargo_cost = (H2_costs + Con_costs + ET_costs).to_frame('LH2_cargo_cost')\n",
    "LH2_cargo_cost"
   ],
   "metadata": {
    "collapsed": false,
    "pycharm": {
     "name": "#%%\n"
    }
   }
  },
  {
   "cell_type": "markdown",
   "source": [
    "Calc. shipping costs @ 10.000km"
   ],
   "metadata": {
    "collapsed": false,
    "pycharm": {
     "name": "#%% md\n"
    }
   }
  },
  {
   "cell_type": "code",
   "execution_count": 436,
   "outputs": [],
   "source": [
    "d_sea = 10000"
   ],
   "metadata": {
    "collapsed": false,
    "pycharm": {
     "name": "#%%\n"
    }
   }
  },
  {
   "cell_type": "markdown",
   "source": [
    "Definition of the cost calculation function for the maritime shipping.\n",
    " [%]\n",
    "d_sea [km]\n",
    "v_ship [km/h]\n",
    "h_ship [h] berthing time\n",
    "bog_ship [%/day]\n",
    "f_ship [kg/kg/km]] Fuel use\n",
    "Time relevant variables:\n",
    "capex [€/kg/a]\n",
    "opex [€/kg/a]\n",
    "lcoh in [€/kg_h2]"
   ],
   "metadata": {
    "collapsed": false,
    "pycharm": {
     "name": "#%% md\n"
    }
   }
  },
  {
   "cell_type": "markdown",
   "source": [
    "Fuel assumptions: outward journey - boil-off is used as fuel.\n",
    "Return journey: Residual H2 is used as fuel."
   ],
   "metadata": {
    "collapsed": false,
    "pycharm": {
     "name": "#%% md\n"
    }
   }
  },
  {
   "cell_type": "code",
   "execution_count": 437,
   "outputs": [],
   "source": [
    "def calculate_ship_costs():\n",
    "    result = (alpha_ship * capex_ship_y + opex_ship_y) / (8760/(2*(d_sea/v_ship + h_ship)))\\\n",
    "             /(1-(bog_ship * d_sea/v_ship) - (f_ship  * d_sea))\\\n",
    "             + (bog_ship * d_sea/v_ship + f_ship * d_sea) * lcoh\n",
    "\n",
    "    return result"
   ],
   "metadata": {
    "collapsed": false,
    "pycharm": {
     "name": "#%%\n"
    }
   }
  },
  {
   "cell_type": "code",
   "execution_count": 438,
   "outputs": [
    {
     "data": {
      "text/plain": "      LH2_Shipping_costs\nYears                   \n2025            1.431735\n2026            1.363084\n2027            1.294526\n2028             1.22595\n2029            1.157399\n2030            1.088881\n2031            1.020828\n2032            0.952865\n2033            0.885018\n2034            0.817141\n2035            0.749161\n2036             0.68109\n2037            0.613111\n2038            0.545247\n2039            0.477527\n2040            0.409798\n2041            0.409309\n2042            0.408879\n2043            0.408487\n2044            0.408112\n2045            0.407679\n2046            0.407113\n2047            0.406397\n2048             0.40561\n2049            0.404912\n2050             0.40393",
      "text/html": "<div>\n<style scoped>\n    .dataframe tbody tr th:only-of-type {\n        vertical-align: middle;\n    }\n\n    .dataframe tbody tr th {\n        vertical-align: top;\n    }\n\n    .dataframe thead th {\n        text-align: right;\n    }\n</style>\n<table border=\"1\" class=\"dataframe\">\n  <thead>\n    <tr style=\"text-align: right;\">\n      <th></th>\n      <th>LH2_Shipping_costs</th>\n    </tr>\n    <tr>\n      <th>Years</th>\n      <th></th>\n    </tr>\n  </thead>\n  <tbody>\n    <tr>\n      <th>2025</th>\n      <td>1.431735</td>\n    </tr>\n    <tr>\n      <th>2026</th>\n      <td>1.363084</td>\n    </tr>\n    <tr>\n      <th>2027</th>\n      <td>1.294526</td>\n    </tr>\n    <tr>\n      <th>2028</th>\n      <td>1.22595</td>\n    </tr>\n    <tr>\n      <th>2029</th>\n      <td>1.157399</td>\n    </tr>\n    <tr>\n      <th>2030</th>\n      <td>1.088881</td>\n    </tr>\n    <tr>\n      <th>2031</th>\n      <td>1.020828</td>\n    </tr>\n    <tr>\n      <th>2032</th>\n      <td>0.952865</td>\n    </tr>\n    <tr>\n      <th>2033</th>\n      <td>0.885018</td>\n    </tr>\n    <tr>\n      <th>2034</th>\n      <td>0.817141</td>\n    </tr>\n    <tr>\n      <th>2035</th>\n      <td>0.749161</td>\n    </tr>\n    <tr>\n      <th>2036</th>\n      <td>0.68109</td>\n    </tr>\n    <tr>\n      <th>2037</th>\n      <td>0.613111</td>\n    </tr>\n    <tr>\n      <th>2038</th>\n      <td>0.545247</td>\n    </tr>\n    <tr>\n      <th>2039</th>\n      <td>0.477527</td>\n    </tr>\n    <tr>\n      <th>2040</th>\n      <td>0.409798</td>\n    </tr>\n    <tr>\n      <th>2041</th>\n      <td>0.409309</td>\n    </tr>\n    <tr>\n      <th>2042</th>\n      <td>0.408879</td>\n    </tr>\n    <tr>\n      <th>2043</th>\n      <td>0.408487</td>\n    </tr>\n    <tr>\n      <th>2044</th>\n      <td>0.408112</td>\n    </tr>\n    <tr>\n      <th>2045</th>\n      <td>0.407679</td>\n    </tr>\n    <tr>\n      <th>2046</th>\n      <td>0.407113</td>\n    </tr>\n    <tr>\n      <th>2047</th>\n      <td>0.406397</td>\n    </tr>\n    <tr>\n      <th>2048</th>\n      <td>0.40561</td>\n    </tr>\n    <tr>\n      <th>2049</th>\n      <td>0.404912</td>\n    </tr>\n    <tr>\n      <th>2050</th>\n      <td>0.40393</td>\n    </tr>\n  </tbody>\n</table>\n</div>"
     },
     "execution_count": 438,
     "metadata": {},
     "output_type": "execute_result"
    }
   ],
   "source": [
    "# Calculation of shipping costs [€/kg_h2] from 2030 to 2050.\n",
    "years = np.arange(2025, 2051)\n",
    "result = pd.DataFrame(index=years, columns=['LH2_Shipping_costs'])\n",
    "result.index.name = 'Years'\n",
    "\n",
    "for year in years:\n",
    "    # get capex, opex, xx\n",
    "    capex_ship_y = float(tea_lh2.loc['Shipping - Capex/Ship opt. [€/t/a]'][year])/1000\n",
    "    opex_ship_y = capex_ship_y * opex_ship_share\n",
    "    lcoh = float(LH2_cargo_cost.loc[year]['LH2_cargo_cost'])\n",
    "\n",
    "    # calculate costs of specific year\n",
    "    result.LH2_Shipping_costs.loc[year] = calculate_ship_costs()\n",
    "\n",
    "result"
   ],
   "metadata": {
    "collapsed": false,
    "pycharm": {
     "name": "#%%\n"
    }
   }
  },
  {
   "cell_type": "code",
   "execution_count": 439,
   "outputs": [],
   "source": [
    "# Create csv file from results dataframe\n",
    "path = r'/Users/jakob/PycharmProjects/H2_pathways_repo/data/processed'\n",
    "output_file = os.path.join(path, 'LH2_Shipping_costs.csv')\n",
    "result.to_csv(output_file, sep=';')"
   ],
   "metadata": {
    "collapsed": false,
    "pycharm": {
     "name": "#%%\n"
    }
   }
  },
  {
   "cell_type": "markdown",
   "source": [
    "Plot shipping costs"
   ],
   "metadata": {
    "collapsed": false,
    "pycharm": {
     "name": "#%% md\n"
    }
   }
  },
  {
   "cell_type": "code",
   "execution_count": 440,
   "outputs": [
    {
     "data": {
      "text/plain": "<Figure size 720x432 with 1 Axes>",
      "image/png": "[encoded data removed]"
     },
     "metadata": {
      "needs_background": "light"
     },
     "output_type": "display_data"
    }
   ],
   "source": [
    "# Plot cost curve of hydrogen production from NGR with CCS\n",
    "fig, ax = plt.subplots(figsize=(10,6))\n",
    "plt.plot(result, color = 'green', linestyle = 'solid')\n",
    "plt.grid(True, axis = 'y')\n",
    "ax.set_axisbelow(True)\n",
    "plt.title('Shipping costs over time in €/kg H2', fontweight='bold')\n",
    "plt.xlabel('Year')\n",
    "plt.ylabel('Cost')\n",
    "plt.show()"
   ],
   "metadata": {
    "collapsed": false,
    "pycharm": {
     "name": "#%%\n"
    }
   }
  },
  {
   "cell_type": "markdown",
   "source": [
    "# Import terminal"
   ],
   "metadata": {
    "collapsed": false,
    "pycharm": {
     "name": "#%% md\n"
    }
   }
  },
  {
   "cell_type": "code",
   "execution_count": 441,
   "outputs": [],
   "source": [
    "# Definition of variables for the import terminal costs"
   ],
   "metadata": {
    "collapsed": false,
    "pycharm": {
     "name": "#%%\n"
    }
   }
  },
  {
   "cell_type": "code",
   "execution_count": 442,
   "outputs": [],
   "source": [
    "# Amortisation factor for the import terminal\n",
    "alpha_it = alpha_et"
   ],
   "metadata": {
    "collapsed": false,
    "pycharm": {
     "name": "#%%\n"
    }
   }
  },
  {
   "cell_type": "code",
   "execution_count": 443,
   "outputs": [
    {
     "data": {
      "text/plain": "0.2"
     },
     "execution_count": 443,
     "metadata": {},
     "output_type": "execute_result"
    }
   ],
   "source": [
    "# Electricity consumption in kWh/kg H2\n",
    "el_it = float(tea_lh2.loc['Import Terminal - Electricity use [kWh/kg H2]']['LH2'])\n",
    "el_it"
   ],
   "metadata": {
    "collapsed": false,
    "pycharm": {
     "name": "#%%\n"
    }
   }
  },
  {
   "cell_type": "code",
   "execution_count": 444,
   "outputs": [
    {
     "data": {
      "text/plain": "0.001"
     },
     "execution_count": 444,
     "metadata": {},
     "output_type": "execute_result"
    }
   ],
   "source": [
    "# Import terminal boil-off in [%/day]\n",
    "bog_it = float(tea_lh2.loc['Import Terminal - Boil-off [%/day]']['LH2'])\n",
    "bog_it"
   ],
   "metadata": {
    "collapsed": false,
    "pycharm": {
     "name": "#%%\n"
    }
   }
  },
  {
   "cell_type": "code",
   "execution_count": 445,
   "outputs": [
    {
     "data": {
      "text/plain": "7.0"
     },
     "execution_count": 445,
     "metadata": {},
     "output_type": "execute_result"
    }
   ],
   "source": [
    "# Average storage time in the export terminal tanks in days\n",
    "t_it = float(tea_lh2.loc['Import Terminal - Storage length per load [days]']['LH2'])\n",
    "t_it"
   ],
   "metadata": {
    "collapsed": false,
    "pycharm": {
     "name": "#%%\n"
    }
   }
  },
  {
   "cell_type": "code",
   "execution_count": 446,
   "outputs": [
    {
     "data": {
      "text/plain": "0.04"
     },
     "execution_count": 446,
     "metadata": {},
     "output_type": "execute_result"
    }
   ],
   "source": [
    "opex_it_share =  float(tea_lh2.loc['Import Terminal - Annual OPEX [% of Opex]']['LH2'])\n",
    "opex_it_share"
   ],
   "metadata": {
    "collapsed": false,
    "pycharm": {
     "name": "#%%\n"
    }
   }
  },
  {
   "cell_type": "code",
   "execution_count": 447,
   "outputs": [],
   "source": [
    "# Import terminal costs in [$/kg_h2]:\n",
    "# Capex for the import terminal in [$/tpa]\n",
    "# Opex for the import terminal in [$/tpa]\n",
    "# Electricity consumption for the import terminal in [kWh/kg_h2]\n",
    "# Price for electricity in importing country [$/MWh]\n",
    "# Import terminal boil-off in [%/h]\n",
    "# Berthing time in import terminal in [h]\n",
    "# Cost of transported hydrogen in [$/kg_h2]\n",
    "years = np.arange(2025, 2051)\n",
    "result = pd.DataFrame(index=years, columns=['LH2_Import_terminal_costs'])\n",
    "result.index.name = 'Years'\n",
    "\n",
    "def calculate_import_terminal_costs():\n",
    "    result = (alpha_it * capex_it_y/1000 + opex_it_y/1000) + (el_it + el_reliq * t_it) * p_el_y* 0.89/1000\n",
    "\n",
    "    return result"
   ],
   "metadata": {
    "collapsed": false,
    "pycharm": {
     "name": "#%%\n"
    }
   }
  },
  {
   "cell_type": "code",
   "execution_count": 448,
   "outputs": [
    {
     "data": {
      "text/plain": "      LH2_Import_terminal_costs\nYears                          \n2025                    0.19116\n2026                   0.189111\n2027                   0.187255\n2028                   0.185335\n2029                   0.183448\n2030                   0.181618\n2031                   0.178024\n2032                   0.174626\n2033                   0.171499\n2034                   0.168274\n2035                   0.164754\n2036                    0.16096\n2037                   0.157373\n2038                    0.15406\n2039                   0.151107\n2040                   0.148108\n2041                     0.1452\n2042                   0.142441\n2043                   0.139782\n2044                   0.137161\n2045                   0.134347\n2046                   0.131098\n2047                   0.127326\n2048                   0.123256\n2049                   0.119396\n2050                   0.115983",
      "text/html": "<div>\n<style scoped>\n    .dataframe tbody tr th:only-of-type {\n        vertical-align: middle;\n    }\n\n    .dataframe tbody tr th {\n        vertical-align: top;\n    }\n\n    .dataframe thead th {\n        text-align: right;\n    }\n</style>\n<table border=\"1\" class=\"dataframe\">\n  <thead>\n    <tr style=\"text-align: right;\">\n      <th></th>\n      <th>LH2_Import_terminal_costs</th>\n    </tr>\n    <tr>\n      <th>Years</th>\n      <th></th>\n    </tr>\n  </thead>\n  <tbody>\n    <tr>\n      <th>2025</th>\n      <td>0.19116</td>\n    </tr>\n    <tr>\n      <th>2026</th>\n      <td>0.189111</td>\n    </tr>\n    <tr>\n      <th>2027</th>\n      <td>0.187255</td>\n    </tr>\n    <tr>\n      <th>2028</th>\n      <td>0.185335</td>\n    </tr>\n    <tr>\n      <th>2029</th>\n      <td>0.183448</td>\n    </tr>\n    <tr>\n      <th>2030</th>\n      <td>0.181618</td>\n    </tr>\n    <tr>\n      <th>2031</th>\n      <td>0.178024</td>\n    </tr>\n    <tr>\n      <th>2032</th>\n      <td>0.174626</td>\n    </tr>\n    <tr>\n      <th>2033</th>\n      <td>0.171499</td>\n    </tr>\n    <tr>\n      <th>2034</th>\n      <td>0.168274</td>\n    </tr>\n    <tr>\n      <th>2035</th>\n      <td>0.164754</td>\n    </tr>\n    <tr>\n      <th>2036</th>\n      <td>0.16096</td>\n    </tr>\n    <tr>\n      <th>2037</th>\n      <td>0.157373</td>\n    </tr>\n    <tr>\n      <th>2038</th>\n      <td>0.15406</td>\n    </tr>\n    <tr>\n      <th>2039</th>\n      <td>0.151107</td>\n    </tr>\n    <tr>\n      <th>2040</th>\n      <td>0.148108</td>\n    </tr>\n    <tr>\n      <th>2041</th>\n      <td>0.1452</td>\n    </tr>\n    <tr>\n      <th>2042</th>\n      <td>0.142441</td>\n    </tr>\n    <tr>\n      <th>2043</th>\n      <td>0.139782</td>\n    </tr>\n    <tr>\n      <th>2044</th>\n      <td>0.137161</td>\n    </tr>\n    <tr>\n      <th>2045</th>\n      <td>0.134347</td>\n    </tr>\n    <tr>\n      <th>2046</th>\n      <td>0.131098</td>\n    </tr>\n    <tr>\n      <th>2047</th>\n      <td>0.127326</td>\n    </tr>\n    <tr>\n      <th>2048</th>\n      <td>0.123256</td>\n    </tr>\n    <tr>\n      <th>2049</th>\n      <td>0.119396</td>\n    </tr>\n    <tr>\n      <th>2050</th>\n      <td>0.115983</td>\n    </tr>\n  </tbody>\n</table>\n</div>"
     },
     "execution_count": 448,
     "metadata": {},
     "output_type": "execute_result"
    }
   ],
   "source": [
    "for year in years:\n",
    "    # get capex, opex, xx\n",
    "    capex_it_y = float(tea_lh2.loc['Import Terminal - CAPEX [€/t/a]'][year])\n",
    "    opex_it_y = capex_it_y * opex_it_share\n",
    "    p_el_y = float(p_electricity.loc['Germany'][year])\n",
    "\n",
    "\n",
    "    # calculate costs of specific year\n",
    "    result.LH2_Import_terminal_costs.loc[year] = calculate_import_terminal_costs()\n",
    "\n",
    "result"
   ],
   "metadata": {
    "collapsed": false,
    "pycharm": {
     "name": "#%%\n"
    }
   }
  },
  {
   "cell_type": "code",
   "execution_count": 449,
   "outputs": [],
   "source": [
    "# Create csv file from results dataframe\n",
    "path = r'/Users/jakob/PycharmProjects/H2_pathways_repo/data/processed'\n",
    "output_file = os.path.join(path, 'LH2_Import_terminal_costs.csv')\n",
    "result.to_csv(output_file, sep=';')"
   ],
   "metadata": {
    "collapsed": false,
    "pycharm": {
     "name": "#%%\n"
    }
   }
  },
  {
   "cell_type": "markdown",
   "source": [
    "Plot import terminal costs"
   ],
   "metadata": {
    "collapsed": false,
    "pycharm": {
     "name": "#%% md\n"
    }
   }
  },
  {
   "cell_type": "code",
   "execution_count": 450,
   "outputs": [
    {
     "data": {
      "text/plain": "<Figure size 720x432 with 1 Axes>",
      "image/png": "[encoded data removed]"
     },
     "metadata": {
      "needs_background": "light"
     },
     "output_type": "display_data"
    }
   ],
   "source": [
    "fig, ax = plt.subplots(figsize=(10,6))\n",
    "plt.plot(result, color = 'red', linestyle = 'solid')\n",
    "plt.grid(True, axis = 'y')\n",
    "ax.set_axisbelow(True)\n",
    "plt.plot(result, color='red', linestyle='dashed')\n",
    "plt.title('Import terminal costs over time', fontweight='bold', fontsize='large')\n",
    "plt.legend(['Import terminal costs in €/kg_H2'])\n",
    "plt.xlabel('Year', fontsize='large')\n",
    "plt.ylabel('Cost [€/kg_H2]', fontsize='large')\n",
    "plt.show()"
   ],
   "metadata": {
    "collapsed": false,
    "pycharm": {
     "name": "#%%\n"
    }
   }
  },
  {
   "cell_type": "markdown",
   "source": [
    "# Reconversion"
   ],
   "metadata": {
    "collapsed": false,
    "pycharm": {
     "name": "#%% md\n"
    }
   }
  },
  {
   "cell_type": "code",
   "execution_count": 451,
   "outputs": [
    {
     "data": {
      "text/plain": "30.0"
     },
     "execution_count": 451,
     "metadata": {},
     "output_type": "execute_result"
    }
   ],
   "source": [
    "# Economic lifetime for the reconversion plant [years]\n",
    "l_recon = float(tea_lh2.loc['Reconversion - Lifetime [Years]']['LH2'])\n",
    "l_recon"
   ],
   "metadata": {
    "collapsed": false,
    "pycharm": {
     "name": "#%%\n"
    }
   }
  },
  {
   "cell_type": "code",
   "execution_count": 452,
   "outputs": [
    {
     "data": {
      "text/plain": "0.06505143508027657"
     },
     "execution_count": 452,
     "metadata": {},
     "output_type": "execute_result"
    }
   ],
   "source": [
    "# Amortisation factor alpha for the reconversion plant\n",
    "alpha_recon =  (i_liq * (1 + i_liq) ** l_recon) /(((1 + i_liq) ** l_recon) - 1)\n",
    "alpha_liq\n"
   ],
   "metadata": {
    "collapsed": false,
    "pycharm": {
     "name": "#%%\n"
    }
   }
  },
  {
   "cell_type": "code",
   "execution_count": 453,
   "outputs": [
    {
     "data": {
      "text/plain": "0.2"
     },
     "execution_count": 453,
     "metadata": {},
     "output_type": "execute_result"
    }
   ],
   "source": [
    "# Electricty consumption for the conversion in [kWh/kg_h2]\n",
    "el_recon = float(tea_lh2.loc['Import Terminal - Electricity use [kWh/kg H2]']['LH2'])\n",
    "el_recon"
   ],
   "metadata": {
    "collapsed": false,
    "pycharm": {
     "name": "#%%\n"
    }
   }
  },
  {
   "cell_type": "code",
   "execution_count": 454,
   "outputs": [
    {
     "data": {
      "text/plain": "0.03"
     },
     "execution_count": 454,
     "metadata": {},
     "output_type": "execute_result"
    }
   ],
   "source": [
    "opex_recon_share = float(tea_lh2.loc['Reconversion - Opex opt. [% of Capex]']['LH2'])\n",
    "opex_recon_share"
   ],
   "metadata": {
    "collapsed": false,
    "pycharm": {
     "name": "#%%\n"
    }
   }
  },
  {
   "cell_type": "code",
   "execution_count": 455,
   "outputs": [],
   "source": [
    "def calculate_recon_costs(alpha_recon, capex_recon_y, opex_recon_y, el_recon_y, p_el_y):\n",
    "    result = float(\n",
    "        (alpha_recon * capex_recon_y / 1000 + opex_recon_y / 1000) + el_recon_y * p_el_y / 1000 * 0.89)\n",
    "    return result\n",
    "\n",
    "\n",
    "# Calculation of conversion costs [€/kg_h2] from 2030 to 2050.\n",
    "years = np.arange(2025, 2051)\n",
    "result = pd.DataFrame(index=years, columns=['LH2_Reconversion_costs'])\n",
    "result.index.name = 'Years'"
   ],
   "metadata": {
    "collapsed": false,
    "pycharm": {
     "name": "#%%\n"
    }
   }
  },
  {
   "cell_type": "code",
   "execution_count": 456,
   "outputs": [
    {
     "data": {
      "text/plain": "      LH2_Reconversion_costs\nYears                       \n2025                0.191164\n2026                 0.18264\n2027                0.174278\n2028                 0.16588\n2029                0.157519\n2030                0.149208\n2031                0.141071\n2032                0.133055\n2033                 0.12519\n2034                0.117247\n2035                0.109121\n2036                0.100843\n2037                0.092679\n2038                0.084646\n2039                0.076767\n2040                0.068837\n2041                0.065195\n2042                 0.06158\n2043                0.057963\n2044                0.054317\n2045                0.050561\n2046                0.046634\n2047                0.042538\n2048                0.038368\n2049                0.034269\n2050                 0.03028",
      "text/html": "<div>\n<style scoped>\n    .dataframe tbody tr th:only-of-type {\n        vertical-align: middle;\n    }\n\n    .dataframe tbody tr th {\n        vertical-align: top;\n    }\n\n    .dataframe thead th {\n        text-align: right;\n    }\n</style>\n<table border=\"1\" class=\"dataframe\">\n  <thead>\n    <tr style=\"text-align: right;\">\n      <th></th>\n      <th>LH2_Reconversion_costs</th>\n    </tr>\n    <tr>\n      <th>Years</th>\n      <th></th>\n    </tr>\n  </thead>\n  <tbody>\n    <tr>\n      <th>2025</th>\n      <td>0.191164</td>\n    </tr>\n    <tr>\n      <th>2026</th>\n      <td>0.18264</td>\n    </tr>\n    <tr>\n      <th>2027</th>\n      <td>0.174278</td>\n    </tr>\n    <tr>\n      <th>2028</th>\n      <td>0.16588</td>\n    </tr>\n    <tr>\n      <th>2029</th>\n      <td>0.157519</td>\n    </tr>\n    <tr>\n      <th>2030</th>\n      <td>0.149208</td>\n    </tr>\n    <tr>\n      <th>2031</th>\n      <td>0.141071</td>\n    </tr>\n    <tr>\n      <th>2032</th>\n      <td>0.133055</td>\n    </tr>\n    <tr>\n      <th>2033</th>\n      <td>0.12519</td>\n    </tr>\n    <tr>\n      <th>2034</th>\n      <td>0.117247</td>\n    </tr>\n    <tr>\n      <th>2035</th>\n      <td>0.109121</td>\n    </tr>\n    <tr>\n      <th>2036</th>\n      <td>0.100843</td>\n    </tr>\n    <tr>\n      <th>2037</th>\n      <td>0.092679</td>\n    </tr>\n    <tr>\n      <th>2038</th>\n      <td>0.084646</td>\n    </tr>\n    <tr>\n      <th>2039</th>\n      <td>0.076767</td>\n    </tr>\n    <tr>\n      <th>2040</th>\n      <td>0.068837</td>\n    </tr>\n    <tr>\n      <th>2041</th>\n      <td>0.065195</td>\n    </tr>\n    <tr>\n      <th>2042</th>\n      <td>0.06158</td>\n    </tr>\n    <tr>\n      <th>2043</th>\n      <td>0.057963</td>\n    </tr>\n    <tr>\n      <th>2044</th>\n      <td>0.054317</td>\n    </tr>\n    <tr>\n      <th>2045</th>\n      <td>0.050561</td>\n    </tr>\n    <tr>\n      <th>2046</th>\n      <td>0.046634</td>\n    </tr>\n    <tr>\n      <th>2047</th>\n      <td>0.042538</td>\n    </tr>\n    <tr>\n      <th>2048</th>\n      <td>0.038368</td>\n    </tr>\n    <tr>\n      <th>2049</th>\n      <td>0.034269</td>\n    </tr>\n    <tr>\n      <th>2050</th>\n      <td>0.03028</td>\n    </tr>\n  </tbody>\n</table>\n</div>"
     },
     "execution_count": 456,
     "metadata": {},
     "output_type": "execute_result"
    }
   ],
   "source": [
    "for year in years:\n",
    "    # get capex, opex, natural gas price and CO2 price of specific year\n",
    "    capex_recon_y = float(tea_lh2.loc['Reconversion - Capex opt. [€/t/a]'][year])\n",
    "    opex_recon_y = capex_recon_y * opex_recon_share\n",
    "    el_recon_y = float(tea_lh2.loc['Reconversion - Electricity consumption opt. [kWh/kg H2]'][year])\n",
    "    p_el_y = float(p_electricity.loc['Germany'][year])\n",
    "\n",
    "    # calculate costs of specific year\n",
    "    result.LH2_Reconversion_costs.loc[year] = calculate_recon_costs(alpha_recon=alpha_recon, capex_recon_y=capex_recon_y,\n",
    "                                                                opex_recon_y=opex_recon_y, el_recon_y=el_recon_y,\n",
    "                                                                p_el_y=p_el_y)\n",
    "result"
   ],
   "metadata": {
    "collapsed": false,
    "pycharm": {
     "name": "#%%\n"
    }
   }
  },
  {
   "cell_type": "code",
   "execution_count": 457,
   "outputs": [],
   "source": [
    "# Create csv file from results dataframe\n",
    "path = r'/Users/jakob/PycharmProjects/H2_pathways_repo/data/processed'\n",
    "output_file = os.path.join(path, 'LH2_Reconversion_costs.csv')\n",
    "result.to_csv(output_file, sep=';')"
   ],
   "metadata": {
    "collapsed": false,
    "pycharm": {
     "name": "#%%\n"
    }
   }
  },
  {
   "cell_type": "markdown",
   "source": [
    "# LH2 transport costs"
   ],
   "metadata": {
    "collapsed": false,
    "pycharm": {
     "name": "#%% md\n"
    }
   }
  },
  {
   "cell_type": "code",
   "execution_count": 458,
   "outputs": [],
   "source": [
    "liq_costs = pd.read_csv('/Users/jakob/PycharmProjects/H2_pathways_repo/data/processed/LH2_Liquefaction_costs.csv', delimiter=';', decimal=',')\n",
    "et_costs = pd.read_csv('/Users/jakob/PycharmProjects/H2_pathways_repo/data/processed/LH2_Export_terminal_costs.csv', delimiter=';', decimal=',')\n",
    "ship_costs = pd.read_csv('/Users/jakob/PycharmProjects/H2_pathways_repo/data/processed/LH2_Shipping_costs.csv', delimiter=';', decimal=',')\n",
    "it_costs = pd.read_csv('/Users/jakob/PycharmProjects/H2_pathways_repo/data/processed/LH2_Import_terminal_costs.csv', delimiter=';', decimal=',')\n",
    "recon_costs = pd.read_csv('/Users/jakob/PycharmProjects/H2_pathways_repo/data/processed/LH2_Reconversion_costs.csv', delimiter=';', decimal=',')"
   ],
   "metadata": {
    "collapsed": false,
    "pycharm": {
     "name": "#%%\n"
    }
   }
  },
  {
   "cell_type": "code",
   "execution_count": 459,
   "outputs": [],
   "source": [
    "years = np.arange(2025, 2051)\n",
    "result = pd.DataFrame(index=years, columns=['LH2_transport'])\n",
    "result.index.name = 'Years'"
   ],
   "metadata": {
    "collapsed": false,
    "pycharm": {
     "name": "#%%\n"
    }
   }
  },
  {
   "cell_type": "code",
   "execution_count": 460,
   "outputs": [],
   "source": [
    "# Calculate total transport costs from liquefaction costs (LC), export terminal costs (EC), Shipping costs (SC), import terminal costs (IC)\n",
    "def calculate_seaborne_transport_costs():\n",
    "    result = LC + EC + SC + IC + RC\n",
    "\n",
    "    return result"
   ],
   "metadata": {
    "collapsed": false,
    "pycharm": {
     "name": "#%%\n"
    }
   }
  },
  {
   "cell_type": "code",
   "execution_count": 461,
   "outputs": [
    {
     "data": {
      "text/plain": "      LH2_transport\nYears              \n2025       3.239003\n2026          3.118\n2027       2.999619\n2028       2.880479\n2029       2.761848\n2030       2.644018\n2031       2.525685\n2032       2.409744\n2033       2.296997\n2034       2.182957\n2035       2.065365\n2036       1.944568\n2037       1.826204\n2038        1.71094\n2039       1.599629\n2040       1.487623\n2041       1.460777\n2042       1.435249\n2043       1.410429\n2044       1.385643\n2045       1.358541\n2046       1.326833\n2047       1.289935\n2048       1.250292\n2049       1.212782\n2050       1.179003",
      "text/html": "<div>\n<style scoped>\n    .dataframe tbody tr th:only-of-type {\n        vertical-align: middle;\n    }\n\n    .dataframe tbody tr th {\n        vertical-align: top;\n    }\n\n    .dataframe thead th {\n        text-align: right;\n    }\n</style>\n<table border=\"1\" class=\"dataframe\">\n  <thead>\n    <tr style=\"text-align: right;\">\n      <th></th>\n      <th>LH2_transport</th>\n    </tr>\n    <tr>\n      <th>Years</th>\n      <th></th>\n    </tr>\n  </thead>\n  <tbody>\n    <tr>\n      <th>2025</th>\n      <td>3.239003</td>\n    </tr>\n    <tr>\n      <th>2026</th>\n      <td>3.118</td>\n    </tr>\n    <tr>\n      <th>2027</th>\n      <td>2.999619</td>\n    </tr>\n    <tr>\n      <th>2028</th>\n      <td>2.880479</td>\n    </tr>\n    <tr>\n      <th>2029</th>\n      <td>2.761848</td>\n    </tr>\n    <tr>\n      <th>2030</th>\n      <td>2.644018</td>\n    </tr>\n    <tr>\n      <th>2031</th>\n      <td>2.525685</td>\n    </tr>\n    <tr>\n      <th>2032</th>\n      <td>2.409744</td>\n    </tr>\n    <tr>\n      <th>2033</th>\n      <td>2.296997</td>\n    </tr>\n    <tr>\n      <th>2034</th>\n      <td>2.182957</td>\n    </tr>\n    <tr>\n      <th>2035</th>\n      <td>2.065365</td>\n    </tr>\n    <tr>\n      <th>2036</th>\n      <td>1.944568</td>\n    </tr>\n    <tr>\n      <th>2037</th>\n      <td>1.826204</td>\n    </tr>\n    <tr>\n      <th>2038</th>\n      <td>1.71094</td>\n    </tr>\n    <tr>\n      <th>2039</th>\n      <td>1.599629</td>\n    </tr>\n    <tr>\n      <th>2040</th>\n      <td>1.487623</td>\n    </tr>\n    <tr>\n      <th>2041</th>\n      <td>1.460777</td>\n    </tr>\n    <tr>\n      <th>2042</th>\n      <td>1.435249</td>\n    </tr>\n    <tr>\n      <th>2043</th>\n      <td>1.410429</td>\n    </tr>\n    <tr>\n      <th>2044</th>\n      <td>1.385643</td>\n    </tr>\n    <tr>\n      <th>2045</th>\n      <td>1.358541</td>\n    </tr>\n    <tr>\n      <th>2046</th>\n      <td>1.326833</td>\n    </tr>\n    <tr>\n      <th>2047</th>\n      <td>1.289935</td>\n    </tr>\n    <tr>\n      <th>2048</th>\n      <td>1.250292</td>\n    </tr>\n    <tr>\n      <th>2049</th>\n      <td>1.212782</td>\n    </tr>\n    <tr>\n      <th>2050</th>\n      <td>1.179003</td>\n    </tr>\n  </tbody>\n</table>\n</div>"
     },
     "execution_count": 461,
     "metadata": {},
     "output_type": "execute_result"
    }
   ],
   "source": [
    "for year in years:\n",
    "    # get all costs\n",
    "    LC = float(liq_costs[liq_costs.Years == year]['LH2_Liquefaction_costs'])\n",
    "    EC = float(et_costs[et_costs.Years == year]['LH2_Export_terminal_costs'])\n",
    "    SC = float(ship_costs[ship_costs.Years == year]['LH2_Shipping_costs'])\n",
    "    IC = float(it_costs[it_costs.Years == year]['LH2_Import_terminal_costs'])\n",
    "    RC = float(recon_costs[recon_costs.Years == year]['LH2_Reconversion_costs'])\n",
    "    # calculate costs of specific year\n",
    "    result.LH2_transport.loc[year] = calculate_seaborne_transport_costs()\n",
    "\n",
    "result"
   ],
   "metadata": {
    "collapsed": false,
    "pycharm": {
     "name": "#%%\n"
    }
   }
  },
  {
   "cell_type": "code",
   "execution_count": 462,
   "outputs": [],
   "source": [
    "# Create csv file from results dataframe\n",
    "path = r'/Users/jakob/PycharmProjects/H2_pathways_repo/data/processed'\n",
    "output_file = os.path.join(path, 'LH2_transport_costs.csv')\n",
    "result.to_csv(output_file, sep=';')"
   ],
   "metadata": {
    "collapsed": false,
    "pycharm": {
     "name": "#%%\n"
    }
   }
  },
  {
   "cell_type": "code",
   "execution_count": 463,
   "outputs": [
    {
     "data": {
      "text/plain": "<Figure size 720x432 with 1 Axes>",
      "image/png": "[encoded data removed]"
     },
     "metadata": {
      "needs_background": "light"
     },
     "output_type": "display_data"
    }
   ],
   "source": [
    "# Plot cost curve for seaborne transport\n",
    "fig, ax = plt.subplots(figsize=(10,6))\n",
    "plt.plot(result, color = 'green', linestyle = 'solid')\n",
    "plt.grid(True, axis = 'y')\n",
    "ax.set_axisbelow(True)\n",
    "plt.title('Cost curve for LH2 shipping [€/kg H2]', fontweight='bold')\n",
    "plt.xlabel('Year')\n",
    "plt.ylabel('Cost')\n",
    "plt.show()"
   ],
   "metadata": {
    "collapsed": false,
    "pycharm": {
     "name": "#%%\n"
    }
   }
  },
  {
   "cell_type": "code",
   "execution_count": 464,
   "outputs": [
    {
     "data": {
      "text/plain": "<Figure size 720x432 with 1 Axes>",
      "image/png": "[encoded data removed]"
     },
     "metadata": {
      "needs_background": "light"
     },
     "output_type": "display_data"
    }
   ],
   "source": [
    "# Cost breakdown for LH2 shipping\n",
    "fig, ax = plt.subplots(figsize=(10,6))\n",
    "plt.grid(True, axis = 'y')\n",
    "ax.set_axisbelow(True)\n",
    "x = np.arange(2025, 2051, step=5)\n",
    "LC = (liq_costs.loc[::5]['LH2_Liquefaction_costs']).apply(pd.to_numeric)\n",
    "EC = (et_costs.loc[::5]['LH2_Export_terminal_costs']).apply(pd.to_numeric)\n",
    "SC = (ship_costs.loc[::5]['LH2_Shipping_costs']).apply(pd.to_numeric)\n",
    "IC = (it_costs.loc[::5]['LH2_Import_terminal_costs']).apply(pd.to_numeric)\n",
    "RC = (recon_costs.loc[::5]['LH2_Reconversion_costs']).apply(pd.to_numeric)\n",
    "width = 2       # the width of the bars: can also be len(x) sequence\n",
    "\n",
    "RC_plt = plt.bar(x,IC, width, label='Regasification costs', bottom= LC + EC + SC + IC)\n",
    "IC_plt = plt.bar(x,IC, width, label='Import terminal costs', bottom= LC + EC + SC)\n",
    "SC_plt = plt.bar(x,SC, width, label='Shipping costs', bottom= LC + EC)\n",
    "EC_plt = plt.bar(x,EC, width, label='Export terminal costs', bottom= LC)\n",
    "LC_plt = plt.bar(x,LC, width, label='Liquefaction costs')\n",
    "\n",
    "plt.title('Cost breakdown for LH2 shipping', fontweight='bold')\n",
    "plt.legend(loc='upper right')\n",
    "plt.ylabel('Transport cost [€/kg H2]')\n",
    "plt.xlabel('Years')\n",
    "plt.show()"
   ],
   "metadata": {
    "collapsed": false,
    "pycharm": {
     "name": "#%%\n"
    }
   }
  },
  {
   "cell_type": "markdown",
   "source": [
    "Higher import terminal costs because of longer storage time in tanks: IC = 7 days, EC = 3 days"
   ],
   "metadata": {
    "collapsed": false,
    "pycharm": {
     "name": "#%% md\n"
    }
   }
  },
  {
   "cell_type": "markdown",
   "source": [
    "# Total transport costs"
   ],
   "metadata": {
    "collapsed": false,
    "pycharm": {
     "name": "#%% md\n"
    }
   }
  },
  {
   "cell_type": "code",
   "execution_count": 554,
   "outputs": [
    {
     "data": {
      "text/plain": "    Years      LNH3_transport\n0    2025  1.9201019599886755\n1    2026  1.8799270542902833\n2    2027   1.844374388410312\n3    2028  1.8077390024857476\n4    2029  1.7721397230551235\n5    2030  1.7380350257639852\n6    2031  1.7091189244229992\n7    2032   1.684054438277494\n8    2033  1.6638912374460828\n9    2034  1.6415578982947414\n10   2035  1.6137934365945799\n11   2036  1.5814085614445483\n12   2037  1.5527496113339954\n13   2038  1.5285391557160621\n14   2039    1.50965923596309\n15   2040  1.4895181113608238\n16   2041  1.4840553389787767\n17   2042  1.4802730827174997\n18   2043  1.4773214762233542\n19   2044   1.474294677311076\n20   2045  1.4682038585813901\n21   2046   1.456275960408893\n22   2047   1.438002458406015\n23   2048   1.416626279336683\n24   2049   1.398168850283361\n25   2050  1.3798648245348537",
      "text/html": "<div>\n<style scoped>\n    .dataframe tbody tr th:only-of-type {\n        vertical-align: middle;\n    }\n\n    .dataframe tbody tr th {\n        vertical-align: top;\n    }\n\n    .dataframe thead th {\n        text-align: right;\n    }\n</style>\n<table border=\"1\" class=\"dataframe\">\n  <thead>\n    <tr style=\"text-align: right;\">\n      <th></th>\n      <th>Years</th>\n      <th>LNH3_transport</th>\n    </tr>\n  </thead>\n  <tbody>\n    <tr>\n      <th>0</th>\n      <td>2025</td>\n      <td>1.9201019599886755</td>\n    </tr>\n    <tr>\n      <th>1</th>\n      <td>2026</td>\n      <td>1.8799270542902833</td>\n    </tr>\n    <tr>\n      <th>2</th>\n      <td>2027</td>\n      <td>1.844374388410312</td>\n    </tr>\n    <tr>\n      <th>3</th>\n      <td>2028</td>\n      <td>1.8077390024857476</td>\n    </tr>\n    <tr>\n      <th>4</th>\n      <td>2029</td>\n      <td>1.7721397230551235</td>\n    </tr>\n    <tr>\n      <th>5</th>\n      <td>2030</td>\n      <td>1.7380350257639852</td>\n    </tr>\n    <tr>\n      <th>6</th>\n      <td>2031</td>\n      <td>1.7091189244229992</td>\n    </tr>\n    <tr>\n      <th>7</th>\n      <td>2032</td>\n      <td>1.684054438277494</td>\n    </tr>\n    <tr>\n      <th>8</th>\n      <td>2033</td>\n      <td>1.6638912374460828</td>\n    </tr>\n    <tr>\n      <th>9</th>\n      <td>2034</td>\n      <td>1.6415578982947414</td>\n    </tr>\n    <tr>\n      <th>10</th>\n      <td>2035</td>\n      <td>1.6137934365945799</td>\n    </tr>\n    <tr>\n      <th>11</th>\n      <td>2036</td>\n      <td>1.5814085614445483</td>\n    </tr>\n    <tr>\n      <th>12</th>\n      <td>2037</td>\n      <td>1.5527496113339954</td>\n    </tr>\n    <tr>\n      <th>13</th>\n      <td>2038</td>\n      <td>1.5285391557160621</td>\n    </tr>\n    <tr>\n      <th>14</th>\n      <td>2039</td>\n      <td>1.50965923596309</td>\n    </tr>\n    <tr>\n      <th>15</th>\n      <td>2040</td>\n      <td>1.4895181113608238</td>\n    </tr>\n    <tr>\n      <th>16</th>\n      <td>2041</td>\n      <td>1.4840553389787767</td>\n    </tr>\n    <tr>\n      <th>17</th>\n      <td>2042</td>\n      <td>1.4802730827174997</td>\n    </tr>\n    <tr>\n      <th>18</th>\n      <td>2043</td>\n      <td>1.4773214762233542</td>\n    </tr>\n    <tr>\n      <th>19</th>\n      <td>2044</td>\n      <td>1.474294677311076</td>\n    </tr>\n    <tr>\n      <th>20</th>\n      <td>2045</td>\n      <td>1.4682038585813901</td>\n    </tr>\n    <tr>\n      <th>21</th>\n      <td>2046</td>\n      <td>1.456275960408893</td>\n    </tr>\n    <tr>\n      <th>22</th>\n      <td>2047</td>\n      <td>1.438002458406015</td>\n    </tr>\n    <tr>\n      <th>23</th>\n      <td>2048</td>\n      <td>1.416626279336683</td>\n    </tr>\n    <tr>\n      <th>24</th>\n      <td>2049</td>\n      <td>1.398168850283361</td>\n    </tr>\n    <tr>\n      <th>25</th>\n      <td>2050</td>\n      <td>1.3798648245348537</td>\n    </tr>\n  </tbody>\n</table>\n</div>"
     },
     "execution_count": 554,
     "metadata": {},
     "output_type": "execute_result"
    }
   ],
   "source": [
    "# Costs for seaborne transport via ship [€/kg_h2]\n",
    "sea_costs = pd.read_csv('/Users/jakob/PycharmProjects/H2_pathways_repo/data/processed/Seaborne_transport_costs.csv', delimiter=';', decimal=',')\n",
    "sea_costs"
   ],
   "metadata": {
    "collapsed": false,
    "pycharm": {
     "name": "#%%\n"
    }
   }
  },
  {
   "cell_type": "code",
   "execution_count": 555,
   "outputs": [],
   "source": [
    "def choose_minimal_transport_costs(TC_pipe_high,TC_sea):\n",
    "    result = min(TC_pipe_high, TC_sea)\n",
    "\n",
    "    return result"
   ],
   "metadata": {
    "collapsed": false,
    "pycharm": {
     "name": "#%%\n"
    }
   }
  },
  {
   "cell_type": "code",
   "execution_count": 556,
   "outputs": [
    {
     "ename": "KeyError",
     "evalue": "'Seaborne_transport_costs'",
     "output_type": "error",
     "traceback": [
      "\u001B[0;31m---------------------------------------------------------------------------\u001B[0m",
      "\u001B[0;31mKeyError\u001B[0m                                  Traceback (most recent call last)",
      "File \u001B[0;32m~/PycharmProjects/H2_pathways_repo/env_H2/lib/python3.10/site-packages/pandas/core/indexes/base.py:3621\u001B[0m, in \u001B[0;36mIndex.get_loc\u001B[0;34m(self, key, method, tolerance)\u001B[0m\n\u001B[1;32m   3620\u001B[0m \u001B[38;5;28;01mtry\u001B[39;00m:\n\u001B[0;32m-> 3621\u001B[0m     \u001B[38;5;28;01mreturn\u001B[39;00m \u001B[38;5;28;43mself\u001B[39;49m\u001B[38;5;241;43m.\u001B[39;49m\u001B[43m_engine\u001B[49m\u001B[38;5;241;43m.\u001B[39;49m\u001B[43mget_loc\u001B[49m\u001B[43m(\u001B[49m\u001B[43mcasted_key\u001B[49m\u001B[43m)\u001B[49m\n\u001B[1;32m   3622\u001B[0m \u001B[38;5;28;01mexcept\u001B[39;00m \u001B[38;5;167;01mKeyError\u001B[39;00m \u001B[38;5;28;01mas\u001B[39;00m err:\n",
      "File \u001B[0;32m~/PycharmProjects/H2_pathways_repo/env_H2/lib/python3.10/site-packages/pandas/_libs/index.pyx:136\u001B[0m, in \u001B[0;36mpandas._libs.index.IndexEngine.get_loc\u001B[0;34m()\u001B[0m\n",
      "File \u001B[0;32m~/PycharmProjects/H2_pathways_repo/env_H2/lib/python3.10/site-packages/pandas/_libs/index.pyx:163\u001B[0m, in \u001B[0;36mpandas._libs.index.IndexEngine.get_loc\u001B[0;34m()\u001B[0m\n",
      "File \u001B[0;32mpandas/_libs/hashtable_class_helper.pxi:5198\u001B[0m, in \u001B[0;36mpandas._libs.hashtable.PyObjectHashTable.get_item\u001B[0;34m()\u001B[0m\n",
      "File \u001B[0;32mpandas/_libs/hashtable_class_helper.pxi:5206\u001B[0m, in \u001B[0;36mpandas._libs.hashtable.PyObjectHashTable.get_item\u001B[0;34m()\u001B[0m\n",
      "\u001B[0;31mKeyError\u001B[0m: 'Seaborne_transport_costs'",
      "\nThe above exception was the direct cause of the following exception:\n",
      "\u001B[0;31mKeyError\u001B[0m                                  Traceback (most recent call last)",
      "Input \u001B[0;32mIn [556]\u001B[0m, in \u001B[0;36m<cell line: 5>\u001B[0;34m()\u001B[0m\n\u001B[1;32m      3\u001B[0m result\u001B[38;5;241m.\u001B[39mindex\u001B[38;5;241m.\u001B[39mname \u001B[38;5;241m=\u001B[39m \u001B[38;5;124m'\u001B[39m\u001B[38;5;124mYears\u001B[39m\u001B[38;5;124m'\u001B[39m\n\u001B[1;32m      5\u001B[0m \u001B[38;5;28;01mfor\u001B[39;00m year \u001B[38;5;129;01min\u001B[39;00m years:\n\u001B[1;32m      6\u001B[0m     \u001B[38;5;66;03m# get all costs\u001B[39;00m\n\u001B[0;32m----> 7\u001B[0m     TC_sea \u001B[38;5;241m=\u001B[39m \u001B[38;5;28mfloat\u001B[39m(\u001B[43msea_costs\u001B[49m\u001B[43m[\u001B[49m\u001B[43msea_costs\u001B[49m\u001B[38;5;241;43m.\u001B[39;49m\u001B[43mYears\u001B[49m\u001B[43m \u001B[49m\u001B[38;5;241;43m==\u001B[39;49m\u001B[43m \u001B[49m\u001B[43myear\u001B[49m\u001B[43m]\u001B[49m\u001B[43m[\u001B[49m\u001B[38;5;124;43m'\u001B[39;49m\u001B[38;5;124;43mSeaborne_transport_costs\u001B[39;49m\u001B[38;5;124;43m'\u001B[39;49m\u001B[43m]\u001B[49m)\n\u001B[1;32m      9\u001B[0m     \u001B[38;5;66;03m# calculate costs of specific year\u001B[39;00m\n\u001B[1;32m     10\u001B[0m     result\u001B[38;5;241m.\u001B[39mMinimal_transport_costs\u001B[38;5;241m.\u001B[39mloc[year] \u001B[38;5;241m=\u001B[39m choose_minimal_transport_costs(TC_pipe_high\u001B[38;5;241m=\u001B[39mTC_pipe_high,TC_sea\u001B[38;5;241m=\u001B[39mTC_sea)\n",
      "File \u001B[0;32m~/PycharmProjects/H2_pathways_repo/env_H2/lib/python3.10/site-packages/pandas/core/frame.py:3505\u001B[0m, in \u001B[0;36mDataFrame.__getitem__\u001B[0;34m(self, key)\u001B[0m\n\u001B[1;32m   3503\u001B[0m \u001B[38;5;28;01mif\u001B[39;00m \u001B[38;5;28mself\u001B[39m\u001B[38;5;241m.\u001B[39mcolumns\u001B[38;5;241m.\u001B[39mnlevels \u001B[38;5;241m>\u001B[39m \u001B[38;5;241m1\u001B[39m:\n\u001B[1;32m   3504\u001B[0m     \u001B[38;5;28;01mreturn\u001B[39;00m \u001B[38;5;28mself\u001B[39m\u001B[38;5;241m.\u001B[39m_getitem_multilevel(key)\n\u001B[0;32m-> 3505\u001B[0m indexer \u001B[38;5;241m=\u001B[39m \u001B[38;5;28;43mself\u001B[39;49m\u001B[38;5;241;43m.\u001B[39;49m\u001B[43mcolumns\u001B[49m\u001B[38;5;241;43m.\u001B[39;49m\u001B[43mget_loc\u001B[49m\u001B[43m(\u001B[49m\u001B[43mkey\u001B[49m\u001B[43m)\u001B[49m\n\u001B[1;32m   3506\u001B[0m \u001B[38;5;28;01mif\u001B[39;00m is_integer(indexer):\n\u001B[1;32m   3507\u001B[0m     indexer \u001B[38;5;241m=\u001B[39m [indexer]\n",
      "File \u001B[0;32m~/PycharmProjects/H2_pathways_repo/env_H2/lib/python3.10/site-packages/pandas/core/indexes/base.py:3623\u001B[0m, in \u001B[0;36mIndex.get_loc\u001B[0;34m(self, key, method, tolerance)\u001B[0m\n\u001B[1;32m   3621\u001B[0m     \u001B[38;5;28;01mreturn\u001B[39;00m \u001B[38;5;28mself\u001B[39m\u001B[38;5;241m.\u001B[39m_engine\u001B[38;5;241m.\u001B[39mget_loc(casted_key)\n\u001B[1;32m   3622\u001B[0m \u001B[38;5;28;01mexcept\u001B[39;00m \u001B[38;5;167;01mKeyError\u001B[39;00m \u001B[38;5;28;01mas\u001B[39;00m err:\n\u001B[0;32m-> 3623\u001B[0m     \u001B[38;5;28;01mraise\u001B[39;00m \u001B[38;5;167;01mKeyError\u001B[39;00m(key) \u001B[38;5;28;01mfrom\u001B[39;00m \u001B[38;5;21;01merr\u001B[39;00m\n\u001B[1;32m   3624\u001B[0m \u001B[38;5;28;01mexcept\u001B[39;00m \u001B[38;5;167;01mTypeError\u001B[39;00m:\n\u001B[1;32m   3625\u001B[0m     \u001B[38;5;66;03m# If we have a listlike key, _check_indexing_error will raise\u001B[39;00m\n\u001B[1;32m   3626\u001B[0m     \u001B[38;5;66;03m#  InvalidIndexError. Otherwise we fall through and re-raise\u001B[39;00m\n\u001B[1;32m   3627\u001B[0m     \u001B[38;5;66;03m#  the TypeError.\u001B[39;00m\n\u001B[1;32m   3628\u001B[0m     \u001B[38;5;28mself\u001B[39m\u001B[38;5;241m.\u001B[39m_check_indexing_error(key)\n",
      "\u001B[0;31mKeyError\u001B[0m: 'Seaborne_transport_costs'"
     ]
    }
   ],
   "source": [
    "years = np.arange(2020, 2051)\n",
    "result = pd.DataFrame(index=years, columns=['Minimal_transport_costs'])\n",
    "result.index.name = 'Years'\n",
    "\n",
    "for year in years:\n",
    "    # get all costs\n",
    "    TC_sea = float(sea_costs[sea_costs.Years == year]['Seaborne_transport_costs'])\n",
    "\n",
    "    # calculate costs of specific year\n",
    "    result.Minimal_transport_costs.loc[year] = choose_minimal_transport_costs(TC_pipe_high=TC_pipe_high,TC_sea=TC_sea)\n",
    "\n",
    "result"
   ],
   "metadata": {
    "collapsed": false,
    "pycharm": {
     "name": "#%%\n"
    }
   }
  },
  {
   "cell_type": "code",
   "execution_count": 557,
   "outputs": [],
   "source": [
    "# Create csv file from results dataframe\n",
    "path = r'/Users/jakob/PycharmProjects/H2_pathways_repo/data/processed'\n",
    "output_file = os.path.join(path, 'Minimal_transport_costs.csv')\n",
    "result.to_csv(output_file, sep=';')"
   ],
   "metadata": {
    "collapsed": false,
    "pycharm": {
     "name": "#%%\n"
    }
   }
  },
  {
   "cell_type": "code",
   "execution_count": 449,
   "outputs": [
    {
     "data": {
      "text/plain": "<Figure size 432x288 with 1 Axes>",
      "image/png": "[encoded data removed]"
     },
     "metadata": {
      "needs_background": "light"
     },
     "output_type": "display_data"
    }
   ],
   "source": [
    "# Plot cost curve for seaborne transport\n",
    "plt.plot(result, color='cyan', linestyle='dashed')\n",
    "plt.title('Cost curve for transport')\n",
    "plt.legend(['Minimal transport costs in $/kg_H2'])\n",
    "plt.xlabel('Year')\n",
    "plt.ylabel('Cost [$/kg_H2]')\n",
    "plt.show()"
   ],
   "metadata": {
    "collapsed": false,
    "pycharm": {
     "name": "#%%\n"
    }
   }
  },
  {
   "cell_type": "code",
   "execution_count": 449,
   "outputs": [],
   "source": [],
   "metadata": {
    "collapsed": false,
    "pycharm": {
     "name": "#%%\n"
    }
   }
  },
  {
   "cell_type": "code",
   "execution_count": 449,
   "outputs": [],
   "source": [],
   "metadata": {
    "collapsed": false,
    "pycharm": {
     "name": "#%%\n"
    }
   }
  },
  {
   "cell_type": "code",
   "execution_count": 449,
   "outputs": [],
   "source": [],
   "metadata": {
    "collapsed": false,
    "pycharm": {
     "name": "#%%\n"
    }
   }
  },
  {
   "cell_type": "code",
   "execution_count": null,
   "outputs": [],
   "source": [],
   "metadata": {
    "collapsed": false,
    "pycharm": {
     "name": "#%%\n"
    }
   }
  }
 ],
 "metadata": {
  "kernelspec": {
   "display_name": "Python 3",
   "language": "python",
   "name": "python3"
  },
  "language_info": {
   "codemirror_mode": {
    "name": "ipython",
    "version": 2
   },
   "file_extension": ".py",
   "mimetype": "text/x-python",
   "name": "python",
   "nbconvert_exporter": "python",
   "pygments_lexer": "ipython2",
   "version": "2.7.6"
  }
 },
 "nbformat": 4,
 "nbformat_minor": 0
}