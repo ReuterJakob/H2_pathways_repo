{
 "cells": [
  {
   "cell_type": "markdown",
   "source": [
    "# Read inputs"
   ],
   "metadata": {
    "collapsed": false,
    "pycharm": {
     "name": "#%% md\n"
    }
   }
  },
  {
   "cell_type": "code",
   "execution_count": 2,
   "outputs": [],
   "source": [
    "# Read techno-economic assumptions and transport distances for transport cost calculation\n",
    "import numpy as np\n",
    "import pandas as pd\n",
    "from matplotlib import pyplot as plt\n",
    "import os"
   ],
   "metadata": {
    "collapsed": false,
    "pycharm": {
     "name": "#%%\n"
    }
   }
  },
  {
   "cell_type": "code",
   "execution_count": 3,
   "outputs": [
    {
     "data": {
      "text/plain": "                                                      Parameter  \\\nID                                                                \nDiscount rate [%]                                          0.05   \nOffshore Capex cost factor                                  1.7   \nPipeline Opex [€/a as % of Capex]                         0.017   \nCompressor Opex [€/a as % of Capex]                       0.009   \nLow - Compression capacity @ 48inch [MW_el/1000km]          190   \n...                                                         ...   \nHigh - retrofit Offshore (EHB 2022) Capex Compr...         1.06   \nNaN                                                         NaN   \nNaN                                                         NaN   \nNaN                                                         NaN   \nNaN                                                 IEAGHG 2017   \n\n                                                               Reference  2020  \nID                                                                              \nDiscount rate [%]                                                    NaN   NaN  \nOffshore Capex cost factor                          EHB 2022; IRENA 2022   NaN  \nPipeline Opex [€/a as % of Capex]                                    NaN   NaN  \nCompressor Opex [€/a as % of Capex]                                  NaN   NaN  \nLow - Compression capacity @ 48inch [MW_el/1000km]              EHB 2020   NaN  \n...                                                                  ...   ...  \nHigh - retrofit Offshore (EHB 2022) Capex Compr...                   NaN   NaN  \nNaN                                                                  NaN   NaN  \nNaN                                                                  NaN   NaN  \nNaN                                                                  NaN   NaN  \nNaN                                                                  NaN   NaN  \n\n[90 rows x 3 columns]",
      "text/html": "<div>\n<style scoped>\n    .dataframe tbody tr th:only-of-type {\n        vertical-align: middle;\n    }\n\n    .dataframe tbody tr th {\n        vertical-align: top;\n    }\n\n    .dataframe thead th {\n        text-align: right;\n    }\n</style>\n<table border=\"1\" class=\"dataframe\">\n  <thead>\n    <tr style=\"text-align: right;\">\n      <th></th>\n      <th>Parameter</th>\n      <th>Reference</th>\n      <th>2020</th>\n    </tr>\n    <tr>\n      <th>ID</th>\n      <th></th>\n      <th></th>\n      <th></th>\n    </tr>\n  </thead>\n  <tbody>\n    <tr>\n      <th>Discount rate [%]</th>\n      <td>0.05</td>\n      <td>NaN</td>\n      <td>NaN</td>\n    </tr>\n    <tr>\n      <th>Offshore Capex cost factor</th>\n      <td>1.7</td>\n      <td>EHB 2022; IRENA 2022</td>\n      <td>NaN</td>\n    </tr>\n    <tr>\n      <th>Pipeline Opex [€/a as % of Capex]</th>\n      <td>0.017</td>\n      <td>NaN</td>\n      <td>NaN</td>\n    </tr>\n    <tr>\n      <th>Compressor Opex [€/a as % of Capex]</th>\n      <td>0.009</td>\n      <td>NaN</td>\n      <td>NaN</td>\n    </tr>\n    <tr>\n      <th>Low - Compression capacity @ 48inch [MW_el/1000km]</th>\n      <td>190</td>\n      <td>EHB 2020</td>\n      <td>NaN</td>\n    </tr>\n    <tr>\n      <th>...</th>\n      <td>...</td>\n      <td>...</td>\n      <td>...</td>\n    </tr>\n    <tr>\n      <th>High - retrofit Offshore (EHB 2022) Capex Compression [€/kg/1000km]</th>\n      <td>1.06</td>\n      <td>NaN</td>\n      <td>NaN</td>\n    </tr>\n    <tr>\n      <th>NaN</th>\n      <td>NaN</td>\n      <td>NaN</td>\n      <td>NaN</td>\n    </tr>\n    <tr>\n      <th>NaN</th>\n      <td>NaN</td>\n      <td>NaN</td>\n      <td>NaN</td>\n    </tr>\n    <tr>\n      <th>NaN</th>\n      <td>NaN</td>\n      <td>NaN</td>\n      <td>NaN</td>\n    </tr>\n    <tr>\n      <th>NaN</th>\n      <td>IEAGHG 2017</td>\n      <td>NaN</td>\n      <td>NaN</td>\n    </tr>\n  </tbody>\n</table>\n<p>90 rows × 3 columns</p>\n</div>"
     },
     "execution_count": 3,
     "metadata": {},
     "output_type": "execute_result"
    }
   ],
   "source": [
    "#Definition of variables for pipeline transport costs\n",
    "tea_pipe = pd.read_excel(\"/Users/jakob/PycharmProjects/H2_pathways_repo/data/raw/20220921_Data_Assumptions.xlsx\", sheet_name='Pipeline Transport', decimal=',', index_col=0)\n",
    "tea_pipe"
   ],
   "metadata": {
    "collapsed": false,
    "pycharm": {
     "name": "#%%\n"
    }
   }
  },
  {
   "cell_type": "code",
   "execution_count": 4,
   "outputs": [
    {
     "data": {
      "text/plain": "           Origin_Country Destination_Country  sea distance (km)  \\\n0    United Arab Emirates             Germany           12443.10   \n1                  Angola             Germany            9809.65   \n2               Argentina             Germany           14063.90   \n3                 Austria             Germany            6005.96   \n4               Australia             Germany           21212.10   \n..                    ...                 ...                ...   \n955           Philippines               China            1782.35   \n956               Iceland               China           20454.60   \n957      Papua New Guinea               China            6298.52   \n958              Cameroon               China           19717.70   \n959          South Africa               China           12853.50   \n\n     onshore distance (km)  offshore distance (km) Starting point  \n0                      NaN                     NaN            NaN  \n1                      NaN                     NaN            NaN  \n2                      NaN                     NaN            NaN  \n3                    500.0                     0.0            NaN  \n4                      NaN                     NaN            NaN  \n..                     ...                     ...            ...  \n955                    NaN                     NaN            NaN  \n956                    NaN                     NaN            NaN  \n957                    NaN                     NaN            NaN  \n958                    NaN                     NaN            NaN  \n959                    NaN                     NaN            NaN  \n\n[960 rows x 6 columns]",
      "text/html": "<div>\n<style scoped>\n    .dataframe tbody tr th:only-of-type {\n        vertical-align: middle;\n    }\n\n    .dataframe tbody tr th {\n        vertical-align: top;\n    }\n\n    .dataframe thead th {\n        text-align: right;\n    }\n</style>\n<table border=\"1\" class=\"dataframe\">\n  <thead>\n    <tr style=\"text-align: right;\">\n      <th></th>\n      <th>Origin_Country</th>\n      <th>Destination_Country</th>\n      <th>sea distance (km)</th>\n      <th>onshore distance (km)</th>\n      <th>offshore distance (km)</th>\n      <th>Starting point</th>\n    </tr>\n  </thead>\n  <tbody>\n    <tr>\n      <th>0</th>\n      <td>United Arab Emirates</td>\n      <td>Germany</td>\n      <td>12443.10</td>\n      <td>NaN</td>\n      <td>NaN</td>\n      <td>NaN</td>\n    </tr>\n    <tr>\n      <th>1</th>\n      <td>Angola</td>\n      <td>Germany</td>\n      <td>9809.65</td>\n      <td>NaN</td>\n      <td>NaN</td>\n      <td>NaN</td>\n    </tr>\n    <tr>\n      <th>2</th>\n      <td>Argentina</td>\n      <td>Germany</td>\n      <td>14063.90</td>\n      <td>NaN</td>\n      <td>NaN</td>\n      <td>NaN</td>\n    </tr>\n    <tr>\n      <th>3</th>\n      <td>Austria</td>\n      <td>Germany</td>\n      <td>6005.96</td>\n      <td>500.0</td>\n      <td>0.0</td>\n      <td>NaN</td>\n    </tr>\n    <tr>\n      <th>4</th>\n      <td>Australia</td>\n      <td>Germany</td>\n      <td>21212.10</td>\n      <td>NaN</td>\n      <td>NaN</td>\n      <td>NaN</td>\n    </tr>\n    <tr>\n      <th>...</th>\n      <td>...</td>\n      <td>...</td>\n      <td>...</td>\n      <td>...</td>\n      <td>...</td>\n      <td>...</td>\n    </tr>\n    <tr>\n      <th>955</th>\n      <td>Philippines</td>\n      <td>China</td>\n      <td>1782.35</td>\n      <td>NaN</td>\n      <td>NaN</td>\n      <td>NaN</td>\n    </tr>\n    <tr>\n      <th>956</th>\n      <td>Iceland</td>\n      <td>China</td>\n      <td>20454.60</td>\n      <td>NaN</td>\n      <td>NaN</td>\n      <td>NaN</td>\n    </tr>\n    <tr>\n      <th>957</th>\n      <td>Papua New Guinea</td>\n      <td>China</td>\n      <td>6298.52</td>\n      <td>NaN</td>\n      <td>NaN</td>\n      <td>NaN</td>\n    </tr>\n    <tr>\n      <th>958</th>\n      <td>Cameroon</td>\n      <td>China</td>\n      <td>19717.70</td>\n      <td>NaN</td>\n      <td>NaN</td>\n      <td>NaN</td>\n    </tr>\n    <tr>\n      <th>959</th>\n      <td>South Africa</td>\n      <td>China</td>\n      <td>12853.50</td>\n      <td>NaN</td>\n      <td>NaN</td>\n      <td>NaN</td>\n    </tr>\n  </tbody>\n</table>\n<p>960 rows × 6 columns</p>\n</div>"
     },
     "execution_count": 4,
     "metadata": {},
     "output_type": "execute_result"
    }
   ],
   "source": [
    "tra_d = pd.read_excel(\"/Users/jakob/PycharmProjects/H2_pathways_repo/data/raw/20220921_Data_Assumptions.xlsx\", sheet_name='Transport Distances', decimal=',')\n",
    "tra_d"
   ],
   "metadata": {
    "collapsed": false,
    "pycharm": {
     "name": "#%%\n"
    }
   }
  },
  {
   "cell_type": "code",
   "execution_count": 5,
   "outputs": [
    {
     "data": {
      "text/plain": "                                                     2020        2021  \\\nWholesale electricity prices from DNV GL 2019                           \nUnited Arab Emirates                            36.301651   36.764515   \nAngola                                         121.494032  119.445089   \nArgentina                                       37.961027   38.086072   \nAustria                                         46.683533   47.002654   \nAustralia                                       72.846428   69.396730   \n...                                                   ...         ...   \nPhilippines                                     42.402642   44.089299   \nIceland                                         46.683533   47.002654   \nPapua New Guinea                                42.402642   44.089299   \nCameroon                                       121.494032  119.445089   \nSouth Africa                                   121.494032  119.445089   \n\n                                                     2022        2023  \\\nWholesale electricity prices from DNV GL 2019                           \nUnited Arab Emirates                            37.137776   37.447974   \nAngola                                         119.580409  124.653779   \nArgentina                                       39.032196   40.033404   \nAustria                                         47.209289   47.346703   \nAustralia                                       66.622798   64.898776   \n...                                                   ...         ...   \nPhilippines                                     45.936088   47.946139   \nIceland                                         47.209289   47.346703   \nPapua New Guinea                                45.936088   47.946139   \nCameroon                                       119.580409  124.653779   \nSouth Africa                                   119.580409  124.653779   \n\n                                                     2024        2025  \\\nWholesale electricity prices from DNV GL 2019                           \nUnited Arab Emirates                            37.747898   38.034395   \nAngola                                         131.547459  137.405324   \nArgentina                                       41.148255   42.353416   \nAustria                                         47.274782   46.957092   \nAustralia                                       64.515503   64.897234   \n...                                                   ...         ...   \nPhilippines                                     50.057150   52.193834   \nIceland                                         47.274782   46.957092   \nPapua New Guinea                                50.057150   52.193834   \nCameroon                                       131.547459  137.405324   \nSouth Africa                                   131.547459  137.405324   \n\n                                                     2026        2027  \\\nWholesale electricity prices from DNV GL 2019                           \nUnited Arab Emirates                            38.325658   38.655501   \nAngola                                         141.246042  142.819290   \nArgentina                                       43.577189   44.818521   \nAustria                                         46.416301   46.118220   \nAustralia                                       65.154315   65.256396   \n...                                                   ...         ...   \nPhilippines                                     54.433745   57.196590   \nIceland                                         46.416301   46.118220   \nPapua New Guinea                                54.433745   57.196590   \nCameroon                                       141.246042  142.819290   \nSouth Africa                                   141.246042  142.819290   \n\n                                                     2028        2029  ...  \\\nWholesale electricity prices from DNV GL 2019                          ...   \nUnited Arab Emirates                            39.015448   39.420264  ...   \nAngola                                         143.098086  143.128137  ...   \nArgentina                                       46.021991   47.209332  ...   \nAustria                                         45.738344   45.399899  ...   \nAustralia                                       65.134265   64.811898  ...   \n...                                                   ...         ...  ...   \nPhilippines                                     60.841314   65.569751  ...   \nIceland                                         45.738344   45.399899  ...   \nPapua New Guinea                                60.841314   65.569751  ...   \nCameroon                                       143.098086  143.128137  ...   \nSouth Africa                                   143.098086  143.128137  ...   \n\n                                                     2041        2042  \\\nWholesale electricity prices from DNV GL 2019                           \nUnited Arab Emirates                            53.573530   51.487746   \nAngola                                         167.313461  168.277022   \nArgentina                                       73.409441   72.994100   \nAustria                                         49.609330   50.705430   \nAustralia                                       38.939740   37.412280   \n...                                                   ...         ...   \nPhilippines                                     75.383730   74.831710   \nIceland                                         49.609330   50.705430   \nPapua New Guinea                                75.383730   74.831710   \nCameroon                                       167.313461  168.277022   \nSouth Africa                                   167.313461  168.277022   \n\n                                                     2043        2044  \\\nWholesale electricity prices from DNV GL 2019                           \nUnited Arab Emirates                            50.336783   49.802097   \nAngola                                         168.972257  169.434972   \nArgentina                                       72.420411   72.137700   \nAustria                                         51.925184   53.193310   \nAustralia                                       35.994851   34.709238   \n...                                                   ...         ...   \nPhilippines                                     74.676203   74.735059   \nIceland                                         51.925184   53.193310   \nPapua New Guinea                                74.676203   74.735059   \nCameroon                                       168.972257  169.434972   \nSouth Africa                                   168.972257  169.434972   \n\n                                                     2045        2046  \\\nWholesale electricity prices from DNV GL 2019                           \nUnited Arab Emirates                            49.984233   50.739234   \nAngola                                         169.825687  170.198308   \nArgentina                                       71.884240   71.715794   \nAustria                                         54.221220   54.704721   \nAustralia                                       33.678074   32.794352   \n...                                                   ...         ...   \nPhilippines                                     74.746313   74.583895   \nIceland                                         54.221220   54.704721   \nPapua New Guinea                                74.746313   74.583895   \nCameroon                                       169.825687  170.198308   \nSouth Africa                                   169.825687  170.198308   \n\n                                                     2047        2048  \\\nWholesale electricity prices from DNV GL 2019                           \nUnited Arab Emirates                            51.993049   53.655694   \nAngola                                         170.217476  170.039948   \nArgentina                                       71.547577   71.579187   \nAustria                                         54.535295   53.994557   \nAustralia                                       32.137023   31.647242   \n...                                                   ...         ...   \nPhilippines                                     74.409350   74.323923   \nIceland                                         54.535295   53.994557   \nPapua New Guinea                                74.409350   74.323923   \nCameroon                                       170.217476  170.039948   \nSouth Africa                                   170.217476  170.039948   \n\n                                                     2049        2050  \nWholesale electricity prices from DNV GL 2019                          \nUnited Arab Emirates                            54.814324   56.468935  \nAngola                                         170.172216  169.924801  \nArgentina                                       70.985088   71.383909  \nAustria                                         53.715329   53.994428  \nAustralia                                       30.594356   29.930791  \n...                                                   ...         ...  \nPhilippines                                     74.282002   73.996739  \nIceland                                         53.715329   53.994428  \nPapua New Guinea                                74.282002   73.996739  \nCameroon                                       170.172216  169.924801  \nSouth Africa                                   170.172216  169.924801  \n\n[88 rows x 31 columns]",
      "text/html": "<div>\n<style scoped>\n    .dataframe tbody tr th:only-of-type {\n        vertical-align: middle;\n    }\n\n    .dataframe tbody tr th {\n        vertical-align: top;\n    }\n\n    .dataframe thead th {\n        text-align: right;\n    }\n</style>\n<table border=\"1\" class=\"dataframe\">\n  <thead>\n    <tr style=\"text-align: right;\">\n      <th></th>\n      <th>2020</th>\n      <th>2021</th>\n      <th>2022</th>\n      <th>2023</th>\n      <th>2024</th>\n      <th>2025</th>\n      <th>2026</th>\n      <th>2027</th>\n      <th>2028</th>\n      <th>2029</th>\n      <th>...</th>\n      <th>2041</th>\n      <th>2042</th>\n      <th>2043</th>\n      <th>2044</th>\n      <th>2045</th>\n      <th>2046</th>\n      <th>2047</th>\n      <th>2048</th>\n      <th>2049</th>\n      <th>2050</th>\n    </tr>\n    <tr>\n      <th>Wholesale electricity prices from DNV GL 2019</th>\n      <th></th>\n      <th></th>\n      <th></th>\n      <th></th>\n      <th></th>\n      <th></th>\n      <th></th>\n      <th></th>\n      <th></th>\n      <th></th>\n      <th></th>\n      <th></th>\n      <th></th>\n      <th></th>\n      <th></th>\n      <th></th>\n      <th></th>\n      <th></th>\n      <th></th>\n      <th></th>\n      <th></th>\n    </tr>\n  </thead>\n  <tbody>\n    <tr>\n      <th>United Arab Emirates</th>\n      <td>36.301651</td>\n      <td>36.764515</td>\n      <td>37.137776</td>\n      <td>37.447974</td>\n      <td>37.747898</td>\n      <td>38.034395</td>\n      <td>38.325658</td>\n      <td>38.655501</td>\n      <td>39.015448</td>\n      <td>39.420264</td>\n      <td>...</td>\n      <td>53.573530</td>\n      <td>51.487746</td>\n      <td>50.336783</td>\n      <td>49.802097</td>\n      <td>49.984233</td>\n      <td>50.739234</td>\n      <td>51.993049</td>\n      <td>53.655694</td>\n      <td>54.814324</td>\n      <td>56.468935</td>\n    </tr>\n    <tr>\n      <th>Angola</th>\n      <td>121.494032</td>\n      <td>119.445089</td>\n      <td>119.580409</td>\n      <td>124.653779</td>\n      <td>131.547459</td>\n      <td>137.405324</td>\n      <td>141.246042</td>\n      <td>142.819290</td>\n      <td>143.098086</td>\n      <td>143.128137</td>\n      <td>...</td>\n      <td>167.313461</td>\n      <td>168.277022</td>\n      <td>168.972257</td>\n      <td>169.434972</td>\n      <td>169.825687</td>\n      <td>170.198308</td>\n      <td>170.217476</td>\n      <td>170.039948</td>\n      <td>170.172216</td>\n      <td>169.924801</td>\n    </tr>\n    <tr>\n      <th>Argentina</th>\n      <td>37.961027</td>\n      <td>38.086072</td>\n      <td>39.032196</td>\n      <td>40.033404</td>\n      <td>41.148255</td>\n      <td>42.353416</td>\n      <td>43.577189</td>\n      <td>44.818521</td>\n      <td>46.021991</td>\n      <td>47.209332</td>\n      <td>...</td>\n      <td>73.409441</td>\n      <td>72.994100</td>\n      <td>72.420411</td>\n      <td>72.137700</td>\n      <td>71.884240</td>\n      <td>71.715794</td>\n      <td>71.547577</td>\n      <td>71.579187</td>\n      <td>70.985088</td>\n      <td>71.383909</td>\n    </tr>\n    <tr>\n      <th>Austria</th>\n      <td>46.683533</td>\n      <td>47.002654</td>\n      <td>47.209289</td>\n      <td>47.346703</td>\n      <td>47.274782</td>\n      <td>46.957092</td>\n      <td>46.416301</td>\n      <td>46.118220</td>\n      <td>45.738344</td>\n      <td>45.399899</td>\n      <td>...</td>\n      <td>49.609330</td>\n      <td>50.705430</td>\n      <td>51.925184</td>\n      <td>53.193310</td>\n      <td>54.221220</td>\n      <td>54.704721</td>\n      <td>54.535295</td>\n      <td>53.994557</td>\n      <td>53.715329</td>\n      <td>53.994428</td>\n    </tr>\n    <tr>\n      <th>Australia</th>\n      <td>72.846428</td>\n      <td>69.396730</td>\n      <td>66.622798</td>\n      <td>64.898776</td>\n      <td>64.515503</td>\n      <td>64.897234</td>\n      <td>65.154315</td>\n      <td>65.256396</td>\n      <td>65.134265</td>\n      <td>64.811898</td>\n      <td>...</td>\n      <td>38.939740</td>\n      <td>37.412280</td>\n      <td>35.994851</td>\n      <td>34.709238</td>\n      <td>33.678074</td>\n      <td>32.794352</td>\n      <td>32.137023</td>\n      <td>31.647242</td>\n      <td>30.594356</td>\n      <td>29.930791</td>\n    </tr>\n    <tr>\n      <th>...</th>\n      <td>...</td>\n      <td>...</td>\n      <td>...</td>\n      <td>...</td>\n      <td>...</td>\n      <td>...</td>\n      <td>...</td>\n      <td>...</td>\n      <td>...</td>\n      <td>...</td>\n      <td>...</td>\n      <td>...</td>\n      <td>...</td>\n      <td>...</td>\n      <td>...</td>\n      <td>...</td>\n      <td>...</td>\n      <td>...</td>\n      <td>...</td>\n      <td>...</td>\n      <td>...</td>\n    </tr>\n    <tr>\n      <th>Philippines</th>\n      <td>42.402642</td>\n      <td>44.089299</td>\n      <td>45.936088</td>\n      <td>47.946139</td>\n      <td>50.057150</td>\n      <td>52.193834</td>\n      <td>54.433745</td>\n      <td>57.196590</td>\n      <td>60.841314</td>\n      <td>65.569751</td>\n      <td>...</td>\n      <td>75.383730</td>\n      <td>74.831710</td>\n      <td>74.676203</td>\n      <td>74.735059</td>\n      <td>74.746313</td>\n      <td>74.583895</td>\n      <td>74.409350</td>\n      <td>74.323923</td>\n      <td>74.282002</td>\n      <td>73.996739</td>\n    </tr>\n    <tr>\n      <th>Iceland</th>\n      <td>46.683533</td>\n      <td>47.002654</td>\n      <td>47.209289</td>\n      <td>47.346703</td>\n      <td>47.274782</td>\n      <td>46.957092</td>\n      <td>46.416301</td>\n      <td>46.118220</td>\n      <td>45.738344</td>\n      <td>45.399899</td>\n      <td>...</td>\n      <td>49.609330</td>\n      <td>50.705430</td>\n      <td>51.925184</td>\n      <td>53.193310</td>\n      <td>54.221220</td>\n      <td>54.704721</td>\n      <td>54.535295</td>\n      <td>53.994557</td>\n      <td>53.715329</td>\n      <td>53.994428</td>\n    </tr>\n    <tr>\n      <th>Papua New Guinea</th>\n      <td>42.402642</td>\n      <td>44.089299</td>\n      <td>45.936088</td>\n      <td>47.946139</td>\n      <td>50.057150</td>\n      <td>52.193834</td>\n      <td>54.433745</td>\n      <td>57.196590</td>\n      <td>60.841314</td>\n      <td>65.569751</td>\n      <td>...</td>\n      <td>75.383730</td>\n      <td>74.831710</td>\n      <td>74.676203</td>\n      <td>74.735059</td>\n      <td>74.746313</td>\n      <td>74.583895</td>\n      <td>74.409350</td>\n      <td>74.323923</td>\n      <td>74.282002</td>\n      <td>73.996739</td>\n    </tr>\n    <tr>\n      <th>Cameroon</th>\n      <td>121.494032</td>\n      <td>119.445089</td>\n      <td>119.580409</td>\n      <td>124.653779</td>\n      <td>131.547459</td>\n      <td>137.405324</td>\n      <td>141.246042</td>\n      <td>142.819290</td>\n      <td>143.098086</td>\n      <td>143.128137</td>\n      <td>...</td>\n      <td>167.313461</td>\n      <td>168.277022</td>\n      <td>168.972257</td>\n      <td>169.434972</td>\n      <td>169.825687</td>\n      <td>170.198308</td>\n      <td>170.217476</td>\n      <td>170.039948</td>\n      <td>170.172216</td>\n      <td>169.924801</td>\n    </tr>\n    <tr>\n      <th>South Africa</th>\n      <td>121.494032</td>\n      <td>119.445089</td>\n      <td>119.580409</td>\n      <td>124.653779</td>\n      <td>131.547459</td>\n      <td>137.405324</td>\n      <td>141.246042</td>\n      <td>142.819290</td>\n      <td>143.098086</td>\n      <td>143.128137</td>\n      <td>...</td>\n      <td>167.313461</td>\n      <td>168.277022</td>\n      <td>168.972257</td>\n      <td>169.434972</td>\n      <td>169.825687</td>\n      <td>170.198308</td>\n      <td>170.217476</td>\n      <td>170.039948</td>\n      <td>170.172216</td>\n      <td>169.924801</td>\n    </tr>\n  </tbody>\n</table>\n<p>88 rows × 31 columns</p>\n</div>"
     },
     "execution_count": 5,
     "metadata": {},
     "output_type": "execute_result"
    }
   ],
   "source": [
    "# Electrcity wholesale price projections in $_2018/MWh from DNVGL 2018\n",
    "p_electricity = pd.read_excel('/Users/jakob/PycharmProjects/H2_pathways_repo/data/raw/20220921_Data_Assumptions.xlsx', sheet_name='EL Price', decimal=',', index_col=0)\n",
    "p_electricity"
   ],
   "metadata": {
    "collapsed": false,
    "pycharm": {
     "name": "#%%\n"
    }
   }
  },
  {
   "cell_type": "code",
   "execution_count": 5,
   "outputs": [],
   "source": [],
   "metadata": {
    "collapsed": false,
    "pycharm": {
     "name": "#%%\n"
    }
   }
  },
  {
   "cell_type": "markdown",
   "source": [
    "### General inputs"
   ],
   "metadata": {
    "collapsed": false,
    "pycharm": {
     "name": "#%% md\n"
    }
   }
  },
  {
   "cell_type": "code",
   "execution_count": 6,
   "outputs": [
    {
     "data": {
      "text/plain": "0.05"
     },
     "execution_count": 6,
     "metadata": {},
     "output_type": "execute_result"
    }
   ],
   "source": [
    "# WACC for all transport investments (pipelines, terminals, liquefaction plants)\n",
    "i_tra = float(tea_pipe.loc['Discount rate [%]']['Parameter'])\n",
    "i_tra"
   ],
   "metadata": {
    "collapsed": false,
    "pycharm": {
     "name": "#%%\n"
    }
   }
  },
  {
   "cell_type": "markdown",
   "source": [],
   "metadata": {
    "collapsed": false,
    "pycharm": {
     "name": "#%% md\n"
    }
   }
  },
  {
   "cell_type": "code",
   "execution_count": 7,
   "outputs": [
    {
     "data": {
      "text/plain": "40.0"
     },
     "execution_count": 7,
     "metadata": {},
     "output_type": "execute_result"
    }
   ],
   "source": [
    "# Economic lifetime for pipelines\n",
    "l_pipe = float(tea_pipe.loc['Lifetime [Years]']['Parameter'])\n",
    "l_pipe"
   ],
   "metadata": {
    "collapsed": false,
    "pycharm": {
     "name": "#%%\n"
    }
   }
  },
  {
   "cell_type": "code",
   "execution_count": 8,
   "outputs": [
    {
     "data": {
      "text/plain": "0.058278161166034986"
     },
     "execution_count": 8,
     "metadata": {},
     "output_type": "execute_result"
    }
   ],
   "source": [
    "# Amortisation factor for onshore pipelines\n",
    "alpha = (i_tra * (1 + i_tra)**l_pipe)/(((1 + i_tra)**l_pipe) - 1)\n",
    "alpha"
   ],
   "metadata": {
    "collapsed": false,
    "pycharm": {
     "name": "#%%\n"
    }
   }
  },
  {
   "cell_type": "code",
   "execution_count": 9,
   "outputs": [
    {
     "data": {
      "text/plain": "0.75"
     },
     "execution_count": 9,
     "metadata": {},
     "output_type": "execute_result"
    }
   ],
   "source": [
    "# Utilisation of the pipeline in %\n",
    "pipe_use = float(tea_pipe.loc['Pipeline load factor [%]']['Parameter'])\n",
    "pipe_use"
   ],
   "metadata": {
    "collapsed": false,
    "pycharm": {
     "name": "#%%\n"
    }
   }
  },
  {
   "cell_type": "code",
   "execution_count": 10,
   "outputs": [
    {
     "data": {
      "text/plain": "0.017"
     },
     "execution_count": 10,
     "metadata": {},
     "output_type": "execute_result"
    }
   ],
   "source": [
    "# Pipeline Opex [€/a as % of Capex]\n",
    "pipe_opex_share = float(tea_pipe.loc['Pipeline Opex [€/a as % of Capex]']['Parameter'])\n",
    "pipe_opex_share"
   ],
   "metadata": {
    "collapsed": false,
    "pycharm": {
     "name": "#%%\n"
    }
   }
  },
  {
   "cell_type": "code",
   "execution_count": 11,
   "outputs": [
    {
     "data": {
      "text/plain": "0.009"
     },
     "execution_count": 11,
     "metadata": {},
     "output_type": "execute_result"
    }
   ],
   "source": [
    "# Compression Opex [€/a as % of Capex]\n",
    "comp_opex_share = float(tea_pipe.loc['Compressor Opex [€/a as % of Capex]']['Parameter'])\n",
    "comp_opex_share"
   ],
   "metadata": {
    "collapsed": false,
    "pycharm": {
     "name": "#%%\n"
    }
   }
  },
  {
   "cell_type": "markdown",
   "source": [
    "# New pipeline"
   ],
   "metadata": {
    "collapsed": false,
    "pycharm": {
     "name": "#%% md\n"
    }
   }
  },
  {
   "cell_type": "markdown",
   "source": [
    "New onshore pipeline"
   ],
   "metadata": {
    "collapsed": false,
    "pycharm": {
     "name": "#%% md\n"
    }
   }
  },
  {
   "cell_type": "code",
   "execution_count": 12,
   "outputs": [
    {
     "data": {
      "text/plain": "2.8"
     },
     "execution_count": 12,
     "metadata": {},
     "output_type": "execute_result"
    }
   ],
   "source": [
    "#Onshore Pipeline capex in [€/kg/100km]\n",
    "capex_pipe_new_on_EHB = float(tea_pipe.loc['Medium - New Onshore (EHB 2022) Capex Pipeline [€/kg/1000km]']['Parameter'])\n",
    "capex_pipe_new_on_EHB"
   ],
   "metadata": {
    "collapsed": false,
    "pycharm": {
     "name": "#%%\n"
    }
   }
  },
  {
   "cell_type": "code",
   "execution_count": 13,
   "outputs": [
    {
     "data": {
      "text/plain": "0.62"
     },
     "execution_count": 13,
     "metadata": {},
     "output_type": "execute_result"
    }
   ],
   "source": [
    "#Compression capex in [€/kg/100km]\n",
    "capex_comp_new_on_EHB = float(tea_pipe.loc['Medium - New Onshore (EHB 2022) Capex Compression [€/kg/1000km]']['Parameter'])\n",
    "capex_comp_new_on_EHB"
   ],
   "metadata": {
    "collapsed": false,
    "pycharm": {
     "name": "#%%\n"
    }
   }
  },
  {
   "cell_type": "code",
   "execution_count": 14,
   "outputs": [
    {
     "data": {
      "text/plain": "3.42"
     },
     "execution_count": 14,
     "metadata": {},
     "output_type": "execute_result"
    }
   ],
   "source": [
    "capex_new_on = capex_pipe_new_on_EHB + capex_comp_new_on_EHB\n",
    "capex_new_on"
   ],
   "metadata": {
    "collapsed": false,
    "pycharm": {
     "name": "#%%\n"
    }
   }
  },
  {
   "cell_type": "code",
   "execution_count": 15,
   "outputs": [
    {
     "data": {
      "text/plain": "0.053180000000000005"
     },
     "execution_count": 15,
     "metadata": {},
     "output_type": "execute_result"
    }
   ],
   "source": [
    "opex_new_on = capex_pipe_new_on_EHB * pipe_opex_share + capex_comp_new_on_EHB * comp_opex_share\n",
    "opex_new_on"
   ],
   "metadata": {
    "collapsed": false,
    "pycharm": {
     "name": "#%%\n"
    }
   }
  },
  {
   "cell_type": "markdown",
   "source": [],
   "metadata": {
    "collapsed": false,
    "pycharm": {
     "name": "#%% md\n"
    }
   }
  },
  {
   "cell_type": "markdown",
   "source": [
    "New offshore pipeline"
   ],
   "metadata": {
    "collapsed": false,
    "pycharm": {
     "name": "#%% md\n"
    }
   }
  },
  {
   "cell_type": "code",
   "execution_count": 42,
   "outputs": [
    {
     "data": {
      "text/plain": "4.8"
     },
     "execution_count": 42,
     "metadata": {},
     "output_type": "execute_result"
    }
   ],
   "source": [
    "# Pipeline capex offshore new [€/kg/1000km]\n",
    "capex_pipe_new_off_EHB = float(tea_pipe.loc['Medium - New Offshore (EHB 2022) Capex Pipeline [€/kg/1000km]']['Parameter'])\n",
    "capex_pipe_new_off_EHB"
   ],
   "metadata": {
    "collapsed": false,
    "pycharm": {
     "name": "#%%\n"
    }
   }
  },
  {
   "cell_type": "code",
   "execution_count": 17,
   "outputs": [
    {
     "data": {
      "text/plain": "1.06"
     },
     "execution_count": 17,
     "metadata": {},
     "output_type": "execute_result"
    }
   ],
   "source": [
    "# Compression capex offshore new [€/kg/1000km]\n",
    "capex_comp_new_off_EHB = float(tea_pipe.loc['Medium - New Offshore (EHB 2022) Capex Compression [€/kg/1000km]']['Parameter'])\n",
    "capex_comp_new_off_EHB"
   ],
   "metadata": {
    "collapsed": false,
    "pycharm": {
     "name": "#%%\n"
    }
   }
  },
  {
   "cell_type": "code",
   "execution_count": 18,
   "outputs": [
    {
     "data": {
      "text/plain": "5.859999999999999"
     },
     "execution_count": 18,
     "metadata": {},
     "output_type": "execute_result"
    }
   ],
   "source": [
    "capex_new_off = capex_pipe_new_off_EHB + capex_comp_new_off_EHB\n",
    "capex_new_off"
   ],
   "metadata": {
    "collapsed": false,
    "pycharm": {
     "name": "#%%\n"
    }
   }
  },
  {
   "cell_type": "code",
   "execution_count": 19,
   "outputs": [
    {
     "data": {
      "text/plain": "0.09114"
     },
     "execution_count": 19,
     "metadata": {},
     "output_type": "execute_result"
    }
   ],
   "source": [
    "opex_new_off = capex_pipe_new_off_EHB * pipe_opex_share + capex_comp_new_off_EHB * comp_opex_share\n",
    "opex_new_off"
   ],
   "metadata": {
    "collapsed": false,
    "pycharm": {
     "name": "#%%\n"
    }
   }
  },
  {
   "cell_type": "code",
   "execution_count": 20,
   "outputs": [
    {
     "data": {
      "text/plain": "300.0"
     },
     "execution_count": 20,
     "metadata": {},
     "output_type": "execute_result"
    }
   ],
   "source": [
    "# Onshore pipeline distance between two countries [km]\n",
    "d_on = float(tra_d[(tra_d['Origin_Country'] == 'Norway') & (tra_d['Destination_Country'] == 'Germany')]['onshore distance (km)'].values)\n",
    "d_on"
   ],
   "metadata": {
    "collapsed": false,
    "pycharm": {
     "name": "#%%\n"
    }
   }
  },
  {
   "cell_type": "code",
   "execution_count": 21,
   "outputs": [
    {
     "data": {
      "text/plain": "1.7"
     },
     "execution_count": 21,
     "metadata": {},
     "output_type": "execute_result"
    }
   ],
   "source": [
    "#not used here\n",
    "off_factor = float(tea_pipe.loc['Offshore Capex cost factor ']['Parameter'])\n",
    "off_factor"
   ],
   "metadata": {
    "collapsed": false,
    "pycharm": {
     "name": "#%%\n"
    }
   }
  },
  {
   "cell_type": "code",
   "execution_count": 22,
   "outputs": [
    {
     "data": {
      "text/plain": "650.0"
     },
     "execution_count": 22,
     "metadata": {},
     "output_type": "execute_result"
    }
   ],
   "source": [
    "# Offshore pipeline distance between two countries [km]\n",
    "d_off = float(tra_d[(tra_d['Origin_Country'] == 'Norway') & (tra_d['Destination_Country'] == 'Germany')]['offshore distance (km)'].values)\n",
    "d_off"
   ],
   "metadata": {
    "collapsed": false,
    "pycharm": {
     "name": "#%%\n"
    }
   }
  },
  {
   "cell_type": "markdown",
   "source": [],
   "metadata": {
    "collapsed": false,
    "pycharm": {
     "name": "#%% md\n"
    }
   }
  },
  {
   "cell_type": "markdown",
   "source": [
    "### Electricity cost of compression"
   ],
   "metadata": {
    "collapsed": false,
    "pycharm": {
     "name": "#%% md\n"
    }
   }
  },
  {
   "cell_type": "code",
   "execution_count": 23,
   "outputs": [
    {
     "data": {
      "text/plain": "260.0"
     },
     "execution_count": 23,
     "metadata": {},
     "output_type": "execute_result"
    }
   ],
   "source": [
    "# Compression capacity in [MWel/1000km]\n",
    "capa_comp = float(tea_pipe.loc['Medium - Compression capacity @ 48inch [MW_el/1000km]']['Parameter'])\n",
    "capa_comp"
   ],
   "metadata": {
    "collapsed": false,
    "pycharm": {
     "name": "#%%\n"
    }
   }
  },
  {
   "cell_type": "code",
   "execution_count": 24,
   "outputs": [
    {
     "data": {
      "text/plain": "5000.0"
     },
     "execution_count": 24,
     "metadata": {},
     "output_type": "execute_result"
    }
   ],
   "source": [
    "# Load factor in hours/day\n",
    "lf_comp = float(tea_pipe.loc['Assumed load factor for compressor electricity consumption [h/a]']['Parameter'])\n",
    "lf_comp"
   ],
   "metadata": {
    "collapsed": false,
    "pycharm": {
     "name": "#%%\n"
    }
   }
  },
  {
   "cell_type": "code",
   "execution_count": 25,
   "outputs": [
    {
     "data": {
      "text/plain": "3416741674.167417"
     },
     "execution_count": 25,
     "metadata": {},
     "output_type": "execute_result"
    }
   ],
   "source": [
    "#Capacity at full load factor [kg H2/a]\n",
    "capa_pipe = float(tea_pipe.loc['Capacity at full load factor [kg H2/a]']['Parameter'])\n",
    "capa_pipe"
   ],
   "metadata": {
    "collapsed": false,
    "pycharm": {
     "name": "#%%\n"
    }
   }
  },
  {
   "cell_type": "code",
   "execution_count": 26,
   "outputs": [
    {
     "data": {
      "text/plain": "0.0249975"
     },
     "execution_count": 26,
     "metadata": {},
     "output_type": "execute_result"
    }
   ],
   "source": [
    "# Electricity cost for compression [€/kg/1000km]\n",
    "comp_el_cost = capa_comp * pipe_use * 8760 * 50/ capa_pipe\n",
    "comp_el_cost"
   ],
   "metadata": {
    "collapsed": false,
    "pycharm": {
     "name": "#%%\n"
    }
   }
  },
  {
   "cell_type": "code",
   "execution_count": 27,
   "outputs": [
    {
     "name": "stdout",
     "output_type": "stream",
     "text": [
      "0.5464866992439532\n"
     ]
    },
    {
     "ename": "TypeError",
     "evalue": "unsupported operand type(s) for *: 'NoneType' and 'float'",
     "output_type": "error",
     "traceback": [
      "\u001B[0;31m---------------------------------------------------------------------------\u001B[0m",
      "\u001B[0;31mTypeError\u001B[0m                                 Traceback (most recent call last)",
      "Input \u001B[0;32mIn [27]\u001B[0m, in \u001B[0;36m<cell line: 1>\u001B[0;34m()\u001B[0m\n\u001B[0;32m----> 1\u001B[0m \u001B[38;5;28;43mprint\u001B[39;49m\u001B[43m(\u001B[49m\u001B[43m(\u001B[49m\u001B[43malpha\u001B[49m\u001B[43m \u001B[49m\u001B[38;5;241;43m*\u001B[39;49m\u001B[43m \u001B[49m\u001B[43mcapex_new_off\u001B[49m\u001B[38;5;241;43m/\u001B[39;49m\u001B[43mpipe_use\u001B[49m\u001B[43m \u001B[49m\u001B[38;5;241;43m+\u001B[39;49m\u001B[43m \u001B[49m\u001B[43mopex_new_off\u001B[49m\u001B[43m)\u001B[49m\u001B[43m)\u001B[49m\u001B[43m \u001B[49m\u001B[38;5;241;43m*\u001B[39;49m\u001B[43md_off\u001B[49m\u001B[38;5;241m/\u001B[39m\u001B[38;5;241m1000\u001B[39m\n",
      "\u001B[0;31mTypeError\u001B[0m: unsupported operand type(s) for *: 'NoneType' and 'float'"
     ]
    }
   ],
   "source": [
    "print((alpha * capex_new_off/pipe_use + opex_new_off)) *d_off/1000"
   ],
   "metadata": {
    "collapsed": false,
    "pycharm": {
     "name": "#%%\n"
    }
   }
  },
  {
   "cell_type": "markdown",
   "source": [
    "## Calc. offshore new pipeline cost"
   ],
   "metadata": {
    "collapsed": false,
    "pycharm": {
     "name": "#%% md\n"
    }
   }
  },
  {
   "cell_type": "code",
   "execution_count": 28,
   "outputs": [],
   "source": [
    "# Costs for new pipeline transport [€/kg]\n",
    "#alpha, capex_pipe_new_on_EHB, capex_comp_new_on_EHB, d_on, d_off, capex_pipe_new_off_EHB, capex_comp_new_off_EHB, capa_comp, pipe_use, capa_pipe\n",
    "def calculate_off_pipe_new():\n",
    "\n",
    "    result = ((alpha * capex_new_off/pipe_use + opex_new_off) + (capa_comp * pipe_use * 8760 * p_el_y / capa_pipe)) * d_off/1000\n",
    "    return result"
   ],
   "metadata": {
    "collapsed": false,
    "pycharm": {
     "name": "#%%\n"
    }
   }
  },
  {
   "cell_type": "code",
   "execution_count": 29,
   "outputs": [
    {
     "data": {
      "text/plain": "      New_Pipeline_costs_off\nYears                       \n2025                0.368797\n2026                0.368641\n2027                0.368555\n2028                0.368445\n2029                0.368347\n2030                 0.36827\n2031                0.368285\n2032                0.368372\n2033                0.368556\n2034                0.368704\n2035                0.368746\n2036                0.368689\n2037                0.368707\n2038                0.368824\n2039                0.369071\n2040                0.369301\n2041                0.369564\n2042                0.369881\n2043                0.370234\n2044                0.370601\n2045                0.370898\n2046                0.371038\n2047                0.370989\n2048                0.370833\n2049                0.370752\n2050                0.370833",
      "text/html": "<div>\n<style scoped>\n    .dataframe tbody tr th:only-of-type {\n        vertical-align: middle;\n    }\n\n    .dataframe tbody tr th {\n        vertical-align: top;\n    }\n\n    .dataframe thead th {\n        text-align: right;\n    }\n</style>\n<table border=\"1\" class=\"dataframe\">\n  <thead>\n    <tr style=\"text-align: right;\">\n      <th></th>\n      <th>New_Pipeline_costs_off</th>\n    </tr>\n    <tr>\n      <th>Years</th>\n      <th></th>\n    </tr>\n  </thead>\n  <tbody>\n    <tr>\n      <th>2025</th>\n      <td>0.368797</td>\n    </tr>\n    <tr>\n      <th>2026</th>\n      <td>0.368641</td>\n    </tr>\n    <tr>\n      <th>2027</th>\n      <td>0.368555</td>\n    </tr>\n    <tr>\n      <th>2028</th>\n      <td>0.368445</td>\n    </tr>\n    <tr>\n      <th>2029</th>\n      <td>0.368347</td>\n    </tr>\n    <tr>\n      <th>2030</th>\n      <td>0.36827</td>\n    </tr>\n    <tr>\n      <th>2031</th>\n      <td>0.368285</td>\n    </tr>\n    <tr>\n      <th>2032</th>\n      <td>0.368372</td>\n    </tr>\n    <tr>\n      <th>2033</th>\n      <td>0.368556</td>\n    </tr>\n    <tr>\n      <th>2034</th>\n      <td>0.368704</td>\n    </tr>\n    <tr>\n      <th>2035</th>\n      <td>0.368746</td>\n    </tr>\n    <tr>\n      <th>2036</th>\n      <td>0.368689</td>\n    </tr>\n    <tr>\n      <th>2037</th>\n      <td>0.368707</td>\n    </tr>\n    <tr>\n      <th>2038</th>\n      <td>0.368824</td>\n    </tr>\n    <tr>\n      <th>2039</th>\n      <td>0.369071</td>\n    </tr>\n    <tr>\n      <th>2040</th>\n      <td>0.369301</td>\n    </tr>\n    <tr>\n      <th>2041</th>\n      <td>0.369564</td>\n    </tr>\n    <tr>\n      <th>2042</th>\n      <td>0.369881</td>\n    </tr>\n    <tr>\n      <th>2043</th>\n      <td>0.370234</td>\n    </tr>\n    <tr>\n      <th>2044</th>\n      <td>0.370601</td>\n    </tr>\n    <tr>\n      <th>2045</th>\n      <td>0.370898</td>\n    </tr>\n    <tr>\n      <th>2046</th>\n      <td>0.371038</td>\n    </tr>\n    <tr>\n      <th>2047</th>\n      <td>0.370989</td>\n    </tr>\n    <tr>\n      <th>2048</th>\n      <td>0.370833</td>\n    </tr>\n    <tr>\n      <th>2049</th>\n      <td>0.370752</td>\n    </tr>\n    <tr>\n      <th>2050</th>\n      <td>0.370833</td>\n    </tr>\n  </tbody>\n</table>\n</div>"
     },
     "execution_count": 29,
     "metadata": {},
     "output_type": "execute_result"
    }
   ],
   "source": [
    "years = np.arange(2025,2051)\n",
    "result = pd.DataFrame(index=years, columns=['New_Pipeline_costs_off'])\n",
    "result.index.name = 'Years'\n",
    "\n",
    "for year in years:\n",
    "\n",
    "    p_el_y = float(p_electricity.loc['Norway'][year]) * 0.89\n",
    "\n",
    "\n",
    "    result.New_Pipeline_costs_off.loc[year] = calculate_off_pipe_new()\n",
    "\n",
    "result"
   ],
   "metadata": {
    "collapsed": false,
    "pycharm": {
     "name": "#%%\n"
    }
   }
  },
  {
   "cell_type": "code",
   "execution_count": 30,
   "outputs": [],
   "source": [
    "# Create csv file from results dataframe\n",
    "path = r'/Users/jakob/PycharmProjects/H2_pathways_repo/data/processed'\n",
    "output_file = os.path.join(path, 'New_pipeline_costs_off.csv')\n",
    "result.to_csv(output_file, sep=';')"
   ],
   "metadata": {
    "collapsed": false,
    "pycharm": {
     "name": "#%%\n"
    }
   }
  },
  {
   "cell_type": "markdown",
   "source": [
    "## Calc. on- & offshore new pipeline cost"
   ],
   "metadata": {
    "collapsed": false,
    "pycharm": {
     "name": "#%% md\n"
    }
   }
  },
  {
   "cell_type": "code",
   "execution_count": 31,
   "outputs": [],
   "source": [
    "# Costs for new pipeline transport [€/kg]\n",
    "#alpha, capex_pipe_new_on_EHB, capex_comp_new_on_EHB, d_on, d_off, capex_pipe_new_off_EHB, capex_comp_new_off_EHB, capa_comp, pipe_use, capa_pipe\n",
    "def calculate_tc_pipe_new():\n",
    "\n",
    "    result = (((alpha * capex_new_on/pipe_use + opex_new_on) + (capa_comp * pipe_use * 8760 * p_el_y / capa_pipe))* d_on\n",
    "    + ((alpha * capex_new_off/pipe_use + opex_new_off) + (capa_comp * pipe_use * 8760 * p_el_y / capa_pipe)) * d_off)/1000\n",
    "    return result"
   ],
   "metadata": {
    "collapsed": false,
    "pycharm": {
     "name": "#%%\n"
    }
   }
  },
  {
   "cell_type": "markdown",
   "source": [],
   "metadata": {
    "collapsed": false,
    "pycharm": {
     "name": "#%% md\n"
    }
   }
  },
  {
   "cell_type": "markdown",
   "source": [
    "var. input: Electricity price adjusted to EUR"
   ],
   "metadata": {
    "collapsed": false,
    "pycharm": {
     "name": "#%% md\n"
    }
   }
  },
  {
   "cell_type": "code",
   "execution_count": 32,
   "outputs": [
    {
     "data": {
      "text/plain": "      New_Pipeline_costs\nYears                   \n2025            0.470744\n2026            0.470515\n2027            0.470389\n2028            0.470229\n2029            0.470086\n2030            0.469973\n2031            0.469995\n2032            0.470122\n2033            0.470391\n2034            0.470608\n2035             0.47067\n2036            0.470586\n2037            0.470613\n2038            0.470783\n2039            0.471144\n2040             0.47148\n2041            0.471865\n2042            0.472328\n2043            0.472844\n2044             0.47338\n2045            0.473815\n2046            0.474019\n2047            0.473947\n2048            0.473719\n2049            0.473601\n2050            0.473719",
      "text/html": "<div>\n<style scoped>\n    .dataframe tbody tr th:only-of-type {\n        vertical-align: middle;\n    }\n\n    .dataframe tbody tr th {\n        vertical-align: top;\n    }\n\n    .dataframe thead th {\n        text-align: right;\n    }\n</style>\n<table border=\"1\" class=\"dataframe\">\n  <thead>\n    <tr style=\"text-align: right;\">\n      <th></th>\n      <th>New_Pipeline_costs</th>\n    </tr>\n    <tr>\n      <th>Years</th>\n      <th></th>\n    </tr>\n  </thead>\n  <tbody>\n    <tr>\n      <th>2025</th>\n      <td>0.470744</td>\n    </tr>\n    <tr>\n      <th>2026</th>\n      <td>0.470515</td>\n    </tr>\n    <tr>\n      <th>2027</th>\n      <td>0.470389</td>\n    </tr>\n    <tr>\n      <th>2028</th>\n      <td>0.470229</td>\n    </tr>\n    <tr>\n      <th>2029</th>\n      <td>0.470086</td>\n    </tr>\n    <tr>\n      <th>2030</th>\n      <td>0.469973</td>\n    </tr>\n    <tr>\n      <th>2031</th>\n      <td>0.469995</td>\n    </tr>\n    <tr>\n      <th>2032</th>\n      <td>0.470122</td>\n    </tr>\n    <tr>\n      <th>2033</th>\n      <td>0.470391</td>\n    </tr>\n    <tr>\n      <th>2034</th>\n      <td>0.470608</td>\n    </tr>\n    <tr>\n      <th>2035</th>\n      <td>0.47067</td>\n    </tr>\n    <tr>\n      <th>2036</th>\n      <td>0.470586</td>\n    </tr>\n    <tr>\n      <th>2037</th>\n      <td>0.470613</td>\n    </tr>\n    <tr>\n      <th>2038</th>\n      <td>0.470783</td>\n    </tr>\n    <tr>\n      <th>2039</th>\n      <td>0.471144</td>\n    </tr>\n    <tr>\n      <th>2040</th>\n      <td>0.47148</td>\n    </tr>\n    <tr>\n      <th>2041</th>\n      <td>0.471865</td>\n    </tr>\n    <tr>\n      <th>2042</th>\n      <td>0.472328</td>\n    </tr>\n    <tr>\n      <th>2043</th>\n      <td>0.472844</td>\n    </tr>\n    <tr>\n      <th>2044</th>\n      <td>0.47338</td>\n    </tr>\n    <tr>\n      <th>2045</th>\n      <td>0.473815</td>\n    </tr>\n    <tr>\n      <th>2046</th>\n      <td>0.474019</td>\n    </tr>\n    <tr>\n      <th>2047</th>\n      <td>0.473947</td>\n    </tr>\n    <tr>\n      <th>2048</th>\n      <td>0.473719</td>\n    </tr>\n    <tr>\n      <th>2049</th>\n      <td>0.473601</td>\n    </tr>\n    <tr>\n      <th>2050</th>\n      <td>0.473719</td>\n    </tr>\n  </tbody>\n</table>\n</div>"
     },
     "execution_count": 32,
     "metadata": {},
     "output_type": "execute_result"
    }
   ],
   "source": [
    "years = np.arange(2025,2051)\n",
    "result = pd.DataFrame(index=years, columns=['New_Pipeline_costs'])\n",
    "result.index.name = 'Years'\n",
    "\n",
    "for year in years:\n",
    "\n",
    "    p_el_y = float(p_electricity.loc['Norway'][year]) * 0.89\n",
    "\n",
    "\n",
    "    result.New_Pipeline_costs.loc[year] = calculate_tc_pipe_new()\n",
    "\n",
    "result"
   ],
   "metadata": {
    "collapsed": false,
    "pycharm": {
     "name": "#%%\n"
    }
   }
  },
  {
   "cell_type": "code",
   "execution_count": 33,
   "outputs": [],
   "source": [
    "# Create csv file from results dataframe\n",
    "path=r'/Users/jakob/PycharmProjects/H2_pathways_repo/data/processed'\n",
    "output_file = os.path.join(path,'New_pipeline_costs.csv')\n",
    "result.to_csv(output_file, sep = ';')"
   ],
   "metadata": {
    "collapsed": false,
    "pycharm": {
     "name": "#%%\n"
    }
   }
  },
  {
   "cell_type": "markdown",
   "source": [
    "## Plot new pipeline costs"
   ],
   "metadata": {
    "collapsed": false,
    "pycharm": {
     "name": "#%% md\n"
    }
   }
  },
  {
   "cell_type": "markdown",
   "source": [
    "# Retrofit pipeline"
   ],
   "metadata": {
    "collapsed": false,
    "pycharm": {
     "name": "#%% md\n"
    }
   }
  },
  {
   "cell_type": "markdown",
   "source": [
    "Retrofit onshore pipeline"
   ],
   "metadata": {
    "collapsed": false,
    "pycharm": {
     "name": "#%% md\n"
    }
   }
  },
  {
   "cell_type": "code",
   "execution_count": 34,
   "outputs": [
    {
     "data": {
      "text/plain": "0.5"
     },
     "execution_count": 34,
     "metadata": {},
     "output_type": "execute_result"
    }
   ],
   "source": [
    "#Retrofit onshore Pipeline capex in [€/ kg / 100km]\n",
    "capex_pipe_retrofit_on_EHB = float(tea_pipe.loc['Medium - Retrofit Onshore (EHB 2022) Capex Pipeline [€/kg/1000km]']['Parameter'])\n",
    "capex_pipe_retrofit_on_EHB"
   ],
   "metadata": {
    "collapsed": false,
    "pycharm": {
     "name": "#%%\n"
    }
   }
  },
  {
   "cell_type": "code",
   "execution_count": 103,
   "outputs": [
    {
     "data": {
      "text/plain": "0.62"
     },
     "execution_count": 103,
     "metadata": {},
     "output_type": "execute_result"
    }
   ],
   "source": [
    "#Compression capex in [€/kg/100km]\n",
    "capex_comp_retrofit_on_EHB = float(tea_pipe.loc['Medium - New Onshore (EHB 2022) Capex Compression [€/kg/1000km]']['Parameter'])\n",
    "capex_comp_retrofit_on_EHB"
   ],
   "metadata": {
    "collapsed": false,
    "pycharm": {
     "name": "#%%\n"
    }
   }
  },
  {
   "cell_type": "code",
   "execution_count": 104,
   "outputs": [
    {
     "data": {
      "text/plain": "1.12"
     },
     "execution_count": 104,
     "metadata": {},
     "output_type": "execute_result"
    }
   ],
   "source": [
    "capex_retrofit_on = capex_pipe_retrofit_on_EHB + capex_comp_retrofit_on_EHB\n",
    "capex_retrofit_on"
   ],
   "metadata": {
    "collapsed": false,
    "pycharm": {
     "name": "#%%\n"
    }
   }
  },
  {
   "cell_type": "code",
   "execution_count": 105,
   "outputs": [
    {
     "data": {
      "text/plain": "0.01408"
     },
     "execution_count": 105,
     "metadata": {},
     "output_type": "execute_result"
    }
   ],
   "source": [
    "opex_retrofit_on = capex_pipe_retrofit_on_EHB * pipe_opex_share + capex_comp_retrofit_on_EHB * comp_opex_share\n",
    "opex_retrofit_on"
   ],
   "metadata": {
    "collapsed": false,
    "pycharm": {
     "name": "#%%\n"
    }
   }
  },
  {
   "cell_type": "markdown",
   "source": [
    "Retrofit offshore pipeline"
   ],
   "metadata": {
    "collapsed": false,
    "pycharm": {
     "name": "#%% md\n"
    }
   }
  },
  {
   "cell_type": "code",
   "execution_count": 106,
   "outputs": [
    {
     "data": {
      "text/plain": "0.5"
     },
     "execution_count": 106,
     "metadata": {},
     "output_type": "execute_result"
    }
   ],
   "source": [
    "#Retrofit  capex in [€/kg/100km]\n",
    "capex_pipe_retrofit_off_EHB = float(tea_pipe.loc['Medium - retrofit Offshore (EHB 2022) Capex Pipeline [€/kg/1000km]']['Parameter'])\n",
    "capex_pipe_retrofit_off_EHB"
   ],
   "metadata": {
    "collapsed": false,
    "pycharm": {
     "name": "#%%\n"
    }
   }
  },
  {
   "cell_type": "code",
   "execution_count": 107,
   "outputs": [
    {
     "data": {
      "text/plain": "1.06"
     },
     "execution_count": 107,
     "metadata": {},
     "output_type": "execute_result"
    }
   ],
   "source": [
    "#Compression capex in [€/kg/100km]\n",
    "capex_comp_retrofit_off_EHB = float(tea_pipe.loc['Medium - retrofit Offshore (EHB 2022) Capex Compression [€/kg/1000km]']['Parameter'])\n",
    "capex_comp_retrofit_off_EHB"
   ],
   "metadata": {
    "collapsed": false,
    "pycharm": {
     "name": "#%%\n"
    }
   }
  },
  {
   "cell_type": "code",
   "execution_count": 108,
   "outputs": [
    {
     "data": {
      "text/plain": "1.56"
     },
     "execution_count": 108,
     "metadata": {},
     "output_type": "execute_result"
    }
   ],
   "source": [
    "capex_retrofit_off = capex_pipe_retrofit_off_EHB + capex_comp_retrofit_off_EHB\n",
    "capex_retrofit_off"
   ],
   "metadata": {
    "collapsed": false,
    "pycharm": {
     "name": "#%%\n"
    }
   }
  },
  {
   "cell_type": "code",
   "execution_count": 109,
   "outputs": [
    {
     "data": {
      "text/plain": "0.01804"
     },
     "execution_count": 109,
     "metadata": {},
     "output_type": "execute_result"
    }
   ],
   "source": [
    "opex_retrofit_off = capex_pipe_retrofit_off_EHB * pipe_opex_share + capex_comp_retrofit_off_EHB * comp_opex_share\n",
    "opex_retrofit_off"
   ],
   "metadata": {
    "collapsed": false,
    "pycharm": {
     "name": "#%%\n"
    }
   }
  },
  {
   "cell_type": "markdown",
   "source": [
    "## Calc. offshore retrofit pipeline costs"
   ],
   "metadata": {
    "collapsed": false,
    "pycharm": {
     "name": "#%% md\n"
    }
   }
  },
  {
   "cell_type": "code",
   "execution_count": 127,
   "outputs": [],
   "source": [
    "# Costs for new pipeline transport [€/kg]\n",
    "#alpha, capex_pipe_new_on_EHB, capex_comp_new_on_EHB, d_on, d_off, capex_pipe_new_off_EHB, capex_comp_new_off_EHB, capa_comp, pipe_use, capa_pipe\n",
    "def calculate_off_pipe_retrofit():\n",
    "\n",
    "    result = (((alpha * capex_retrofit_off/pipe_use + opex_retrofit_off) + (capa_comp * pipe_use * 8760 * p_el_y / capa_pipe)) * d_off)/1000\n",
    "    return result"
   ],
   "metadata": {
    "collapsed": false,
    "pycharm": {
     "name": "#%%\n"
    }
   }
  },
  {
   "cell_type": "code",
   "execution_count": 128,
   "outputs": [
    {
     "data": {
      "text/plain": "      Retrofit_pipeline_costs_off\nYears                            \n2025                     0.104099\n2026                     0.103943\n2027                     0.103856\n2028                     0.103747\n2029                     0.103649\n2030                     0.103572\n2031                     0.103587\n2032                     0.103673\n2033                     0.103857\n2034                     0.104006\n2035                     0.104048\n2036                     0.103991\n2037                     0.104009\n2038                     0.104126\n2039                     0.104373\n2040                     0.104603\n2041                     0.104866\n2042                     0.105183\n2043                     0.105536\n2044                     0.105903\n2045                       0.1062\n2046                      0.10634\n2047                     0.106291\n2048                     0.106134\n2049                     0.106054\n2050                     0.106134",
      "text/html": "<div>\n<style scoped>\n    .dataframe tbody tr th:only-of-type {\n        vertical-align: middle;\n    }\n\n    .dataframe tbody tr th {\n        vertical-align: top;\n    }\n\n    .dataframe thead th {\n        text-align: right;\n    }\n</style>\n<table border=\"1\" class=\"dataframe\">\n  <thead>\n    <tr style=\"text-align: right;\">\n      <th></th>\n      <th>Retrofit_pipeline_costs_off</th>\n    </tr>\n    <tr>\n      <th>Years</th>\n      <th></th>\n    </tr>\n  </thead>\n  <tbody>\n    <tr>\n      <th>2025</th>\n      <td>0.104099</td>\n    </tr>\n    <tr>\n      <th>2026</th>\n      <td>0.103943</td>\n    </tr>\n    <tr>\n      <th>2027</th>\n      <td>0.103856</td>\n    </tr>\n    <tr>\n      <th>2028</th>\n      <td>0.103747</td>\n    </tr>\n    <tr>\n      <th>2029</th>\n      <td>0.103649</td>\n    </tr>\n    <tr>\n      <th>2030</th>\n      <td>0.103572</td>\n    </tr>\n    <tr>\n      <th>2031</th>\n      <td>0.103587</td>\n    </tr>\n    <tr>\n      <th>2032</th>\n      <td>0.103673</td>\n    </tr>\n    <tr>\n      <th>2033</th>\n      <td>0.103857</td>\n    </tr>\n    <tr>\n      <th>2034</th>\n      <td>0.104006</td>\n    </tr>\n    <tr>\n      <th>2035</th>\n      <td>0.104048</td>\n    </tr>\n    <tr>\n      <th>2036</th>\n      <td>0.103991</td>\n    </tr>\n    <tr>\n      <th>2037</th>\n      <td>0.104009</td>\n    </tr>\n    <tr>\n      <th>2038</th>\n      <td>0.104126</td>\n    </tr>\n    <tr>\n      <th>2039</th>\n      <td>0.104373</td>\n    </tr>\n    <tr>\n      <th>2040</th>\n      <td>0.104603</td>\n    </tr>\n    <tr>\n      <th>2041</th>\n      <td>0.104866</td>\n    </tr>\n    <tr>\n      <th>2042</th>\n      <td>0.105183</td>\n    </tr>\n    <tr>\n      <th>2043</th>\n      <td>0.105536</td>\n    </tr>\n    <tr>\n      <th>2044</th>\n      <td>0.105903</td>\n    </tr>\n    <tr>\n      <th>2045</th>\n      <td>0.1062</td>\n    </tr>\n    <tr>\n      <th>2046</th>\n      <td>0.10634</td>\n    </tr>\n    <tr>\n      <th>2047</th>\n      <td>0.106291</td>\n    </tr>\n    <tr>\n      <th>2048</th>\n      <td>0.106134</td>\n    </tr>\n    <tr>\n      <th>2049</th>\n      <td>0.106054</td>\n    </tr>\n    <tr>\n      <th>2050</th>\n      <td>0.106134</td>\n    </tr>\n  </tbody>\n</table>\n</div>"
     },
     "execution_count": 128,
     "metadata": {},
     "output_type": "execute_result"
    }
   ],
   "source": [
    "years = np.arange(2025, 2051)\n",
    "result = pd.DataFrame(index=years, columns=['Retrofit_pipeline_costs_off'])\n",
    "result.index.name = 'Years'\n",
    "\n",
    "for year in years:\n",
    "    p_el_y = float(p_electricity.loc['Norway'][year]) * 0.89\n",
    "\n",
    "    result.Retrofit_pipeline_costs_off.loc[year] = calculate_off_pipe_retrofit()\n",
    "\n",
    "result"
   ],
   "metadata": {
    "collapsed": false,
    "pycharm": {
     "name": "#%%\n"
    }
   }
  },
  {
   "cell_type": "code",
   "execution_count": 129,
   "outputs": [],
   "source": [
    "# Create csv file from results dataframe\n",
    "path = r'/Users/jakob/PycharmProjects/H2_pathways_repo/data/processed'\n",
    "output_file = os.path.join(path, 'Retrofit_pipeline_costs_off.csv')\n",
    "result.to_csv(output_file, sep=';')"
   ],
   "metadata": {
    "collapsed": false,
    "pycharm": {
     "name": "#%%\n"
    }
   }
  },
  {
   "cell_type": "markdown",
   "source": [
    "## Calc. on-&offshore retrofit pipeline costs"
   ],
   "metadata": {
    "collapsed": false,
    "pycharm": {
     "name": "#%% md\n"
    }
   }
  },
  {
   "cell_type": "code",
   "execution_count": 112,
   "outputs": [],
   "source": [
    "# Costs for new pipeline transport [€/kg]\n",
    "#alpha, capex_pipe_new_on_EHB, capex_comp_new_on_EHB, d_on, d_off, capex_pipe_new_off_EHB, capex_comp_new_off_EHB, capa_comp, pipe_use, capa_pipe\n",
    "def calculate_tc_pipe_retrofit():\n",
    "\n",
    "    result = (((alpha * capex_retrofit_on/pipe_use + opex_retrofit_on) + (capa_comp * pipe_use * 8760 * p_el_y / capa_pipe))* d_on\n",
    "    + ((alpha * capex_retrofit_off/pipe_use + opex_retrofit_off) + (capa_comp * pipe_use * 8760 * p_el_y / capa_pipe)) * d_off)/1000\n",
    "    return result"
   ],
   "metadata": {
    "collapsed": false,
    "pycharm": {
     "name": "#%%\n"
    }
   }
  },
  {
   "cell_type": "code",
   "execution_count": 113,
   "outputs": [
    {
     "data": {
      "text/plain": "      Retrofit_pipeline_costs\nYears                        \n2025                   0.1407\n2026                 0.140471\n2027                 0.140345\n2028                 0.140185\n2029                 0.140042\n2030                 0.139929\n2031                 0.139951\n2032                 0.140078\n2033                 0.140347\n2034                 0.140564\n2035                 0.140625\n2036                 0.140542\n2037                 0.140568\n2038                 0.140739\n2039                   0.1411\n2040                 0.141436\n2041                 0.141821\n2042                 0.142284\n2043                   0.1428\n2044                 0.143336\n2045                  0.14377\n2046                 0.143975\n2047                 0.143903\n2048                 0.143675\n2049                 0.143557\n2050                 0.143675",
      "text/html": "<div>\n<style scoped>\n    .dataframe tbody tr th:only-of-type {\n        vertical-align: middle;\n    }\n\n    .dataframe tbody tr th {\n        vertical-align: top;\n    }\n\n    .dataframe thead th {\n        text-align: right;\n    }\n</style>\n<table border=\"1\" class=\"dataframe\">\n  <thead>\n    <tr style=\"text-align: right;\">\n      <th></th>\n      <th>Retrofit_pipeline_costs</th>\n    </tr>\n    <tr>\n      <th>Years</th>\n      <th></th>\n    </tr>\n  </thead>\n  <tbody>\n    <tr>\n      <th>2025</th>\n      <td>0.1407</td>\n    </tr>\n    <tr>\n      <th>2026</th>\n      <td>0.140471</td>\n    </tr>\n    <tr>\n      <th>2027</th>\n      <td>0.140345</td>\n    </tr>\n    <tr>\n      <th>2028</th>\n      <td>0.140185</td>\n    </tr>\n    <tr>\n      <th>2029</th>\n      <td>0.140042</td>\n    </tr>\n    <tr>\n      <th>2030</th>\n      <td>0.139929</td>\n    </tr>\n    <tr>\n      <th>2031</th>\n      <td>0.139951</td>\n    </tr>\n    <tr>\n      <th>2032</th>\n      <td>0.140078</td>\n    </tr>\n    <tr>\n      <th>2033</th>\n      <td>0.140347</td>\n    </tr>\n    <tr>\n      <th>2034</th>\n      <td>0.140564</td>\n    </tr>\n    <tr>\n      <th>2035</th>\n      <td>0.140625</td>\n    </tr>\n    <tr>\n      <th>2036</th>\n      <td>0.140542</td>\n    </tr>\n    <tr>\n      <th>2037</th>\n      <td>0.140568</td>\n    </tr>\n    <tr>\n      <th>2038</th>\n      <td>0.140739</td>\n    </tr>\n    <tr>\n      <th>2039</th>\n      <td>0.1411</td>\n    </tr>\n    <tr>\n      <th>2040</th>\n      <td>0.141436</td>\n    </tr>\n    <tr>\n      <th>2041</th>\n      <td>0.141821</td>\n    </tr>\n    <tr>\n      <th>2042</th>\n      <td>0.142284</td>\n    </tr>\n    <tr>\n      <th>2043</th>\n      <td>0.1428</td>\n    </tr>\n    <tr>\n      <th>2044</th>\n      <td>0.143336</td>\n    </tr>\n    <tr>\n      <th>2045</th>\n      <td>0.14377</td>\n    </tr>\n    <tr>\n      <th>2046</th>\n      <td>0.143975</td>\n    </tr>\n    <tr>\n      <th>2047</th>\n      <td>0.143903</td>\n    </tr>\n    <tr>\n      <th>2048</th>\n      <td>0.143675</td>\n    </tr>\n    <tr>\n      <th>2049</th>\n      <td>0.143557</td>\n    </tr>\n    <tr>\n      <th>2050</th>\n      <td>0.143675</td>\n    </tr>\n  </tbody>\n</table>\n</div>"
     },
     "execution_count": 113,
     "metadata": {},
     "output_type": "execute_result"
    }
   ],
   "source": [
    "years = np.arange(2025, 2051)\n",
    "result = pd.DataFrame(index=years, columns=['Retrofit_pipeline_costs'])\n",
    "result.index.name = 'Years'\n",
    "\n",
    "for year in years:\n",
    "    p_el_y = float(p_electricity.loc['Norway'][year]) * 0.89\n",
    "\n",
    "    result.Retrofit_pipeline_costs.loc[year] = calculate_tc_pipe_retrofit()\n",
    "\n",
    "result\n"
   ],
   "metadata": {
    "collapsed": false,
    "pycharm": {
     "name": "#%%\n"
    }
   }
  },
  {
   "cell_type": "code",
   "execution_count": 114,
   "outputs": [],
   "source": [
    "# Create csv file from results dataframe\n",
    "path = r'/Users/jakob/PycharmProjects/H2_pathways_repo/data/processed'\n",
    "output_file = os.path.join(path, 'Retrofit_pipeline_costs.csv')\n",
    "result.to_csv(output_file, sep=';')"
   ],
   "metadata": {
    "collapsed": false,
    "pycharm": {
     "name": "#%%\n"
    }
   }
  },
  {
   "cell_type": "markdown",
   "source": [],
   "metadata": {
    "collapsed": false,
    "pycharm": {
     "name": "#%% md\n"
    }
   }
  },
  {
   "cell_type": "markdown",
   "source": [
    "# CO2 pipeline"
   ],
   "metadata": {
    "collapsed": false,
    "pycharm": {
     "name": "#%% md\n"
    }
   }
  },
  {
   "cell_type": "code",
   "execution_count": 44,
   "outputs": [
    {
     "data": {
      "text/plain": "                                                      Parameter Reference  \\\nProperties                                                                  \nCapex Pipeline [€/kg/1000km]                                NaN       NaN   \nCapex Compression [€/kg/1000km]                             NaN       NaN   \nOpex w/o electricity[as % of Capex]                         NaN       NaN   \nCapacity [GW]                                               NaN       NaN   \nCapacity [Mtpa]                                             NaN       NaN   \n...                                                         ...       ...   \nHigh - retrofit Offshore (EHB 2022) Levelised t...          NaN       NaN   \nNaN                                                         NaN       NaN   \nNaN                                                         NaN       NaN   \nNaN                                                         NaN       NaN   \nNaN                                                 IEAGHG 2017       NaN   \n\n                                                   CO2 offshore Pipeline  \\\nProperties                                                                 \nCapex Pipeline [€/kg/1000km]                                    2.426063   \nCapex Compression [€/kg/1000km]                                 0.004383   \nOpex w/o electricity[as % of Capex]                                  NaN   \nCapacity [GW]                                                        NaN   \nCapacity [Mtpa]                                                       10   \n...                                                                  ...   \nHigh - retrofit Offshore (EHB 2022) Levelised t...                   NaN   \nNaN                                                                  NaN   \nNaN                                                                  NaN   \nNaN                                                                  NaN   \nNaN                                                                  NaN   \n\n                                                   Medium - New Onshore (EHB 2022)   \\\nProperties                                                                            \nCapex Pipeline [€/kg/1000km]                                                    2.8   \nCapex Compression [€/kg/1000km]                                                0.62   \nOpex w/o electricity[as % of Capex]                                             NaN   \nCapacity [GW]                                                                    13   \nCapacity [Mtpa]                                                                 NaN   \n...                                                                             ...   \nHigh - retrofit Offshore (EHB 2022) Levelised t...                              NaN   \nNaN                                                                             NaN   \nNaN                                                                             NaN   \nNaN                                                                             NaN   \nNaN                                                                             NaN   \n\n                                                    Medium - Retrofit Onshore (EHB 2022)  \\\nProperties                                                                                 \nCapex Pipeline [€/kg/1000km]                                                        0.50   \nCapex Compression [€/kg/1000km]                                                     0.62   \nOpex w/o electricity[as % of Capex]                                                  NaN   \nCapacity [GW]                                                                        NaN   \nCapacity [Mtpa]                                                                      NaN   \n...                                                                                  ...   \nHigh - retrofit Offshore (EHB 2022) Levelised t...                                   NaN   \nNaN                                                                                  NaN   \nNaN                                                                                  NaN   \nNaN                                                                                  NaN   \nNaN                                                                                  NaN   \n\n                                                    Medium - New Offshore (EHB 2022)  \\\nProperties                                                                             \nCapex Pipeline [€/kg/1000km]                                                   4.800   \nCapex Compression [€/kg/1000km]                                                1.060   \nOpex w/o electricity[as % of Capex]                                            0.017   \nCapacity [GW]                                                                 13.000   \nCapacity [Mtpa]                                                                  NaN   \n...                                                                              ...   \nHigh - retrofit Offshore (EHB 2022) Levelised t...                               NaN   \nNaN                                                                              NaN   \nNaN                                                                              NaN   \nNaN                                                                              NaN   \nNaN                                                                              NaN   \n\n                                                    Low - New onshore (Wang 2020)  \\\nProperties                                                                          \nCapex Pipeline [€/kg/1000km]                                               1.1837   \nCapex Compression [€/kg/1000km]                                               NaN   \nOpex w/o electricity[as % of Capex]                                      340.0000   \nCapacity [GW]                                                                 NaN   \nCapacity [Mtpa]                                                               NaN   \n...                                                                           ...   \nHigh - retrofit Offshore (EHB 2022) Levelised t...                            NaN   \nNaN                                                                           NaN   \nNaN                                                                           NaN   \nNaN                                                                           NaN   \nNaN                                                                           NaN   \n\n                                                    High - New onshore (IEA 2019)  \\\nProperties                                                                          \nCapex Pipeline [€/kg/1000km]                                             3.167353   \nCapex Compression [€/kg/1000km]                                               NaN   \nOpex w/o electricity[as % of Capex]                                    340.000000   \nCapacity [GW]                                                                 NaN   \nCapacity [Mtpa]                                                               NaN   \n...                                                                           ...   \nHigh - retrofit Offshore (EHB 2022) Levelised t...                            NaN   \nNaN                                                                           NaN   \nNaN                                                                           NaN   \nNaN                                                                           NaN   \nNaN                                                                           NaN   \n\n                                                    Low - New Offshore (EHB 2022)  \\\nProperties                                                                          \nCapex Pipeline [€/kg/1000km]                                                  4.3   \nCapex Compression [€/kg/1000km]                                               NaN   \nOpex w/o electricity[as % of Capex]                                           NaN   \nCapacity [GW]                                                                13.0   \nCapacity [Mtpa]                                                               NaN   \n...                                                                           ...   \nHigh - retrofit Offshore (EHB 2022) Levelised t...                            NaN   \nNaN                                                                           NaN   \nNaN                                                                           NaN   \nNaN                                                                           NaN   \nNaN                                                                           NaN   \n\n                                                    Medium - New Offshore (EHB 2022).1  \\\nProperties                                                                               \nCapex Pipeline [€/kg/1000km]                                                      4.80   \nCapex Compression [€/kg/1000km]                                                   1.06   \nOpex w/o electricity[as % of Capex]                                                NaN   \nCapacity [GW]                                                                    13.00   \nCapacity [Mtpa]                                                                    NaN   \n...                                                                                ...   \nHigh - retrofit Offshore (EHB 2022) Levelised t...                                 NaN   \nNaN                                                                                NaN   \nNaN                                                                                NaN   \nNaN                                                                                NaN   \nNaN                                                                                NaN   \n\n                                                    High - New Offshore (EHB 2022)  \\\nProperties                                                                           \nCapex Pipeline [€/kg/1000km]                                                  40.0   \nCapex Compression [€/kg/1000km]                                                NaN   \nOpex w/o electricity[as % of Capex]                                            NaN   \nCapacity [GW]                                                                 13.0   \nCapacity [Mtpa]                                                                NaN   \n...                                                                            ...   \nHigh - retrofit Offshore (EHB 2022) Levelised t...                             NaN   \nNaN                                                                            NaN   \nNaN                                                                            NaN   \nNaN                                                                            NaN   \nNaN                                                                            NaN   \n\n                                                    Retrofit Offshore (IEA 2019)  \\\nProperties                                                                         \nCapex Pipeline [€/kg/1000km]                                                 NaN   \nCapex Compression [€/kg/1000km]                                              NaN   \nOpex w/o electricity[as % of Capex]                                        340.0   \nCapacity [GW]                                                                NaN   \nCapacity [Mtpa]                                                              NaN   \n...                                                                          ...   \nHigh - retrofit Offshore (EHB 2022) Levelised t...                           NaN   \nNaN                                                                          NaN   \nNaN                                                                          NaN   \nNaN                                                                          NaN   \nNaN                                                                          NaN   \n\n                                                    Low - retrofit Offshore (EHB 2022)  \\\nProperties                                                                               \nCapex Pipeline [€/kg/1000km]                                                      40.0   \nCapex Compression [€/kg/1000km]                                                    NaN   \nOpex w/o electricity[as % of Capex]                                                NaN   \nCapacity [GW]                                                                      NaN   \nCapacity [Mtpa]                                                                    NaN   \n...                                                                                ...   \nHigh - retrofit Offshore (EHB 2022) Levelised t...                                 NaN   \nNaN                                                                                NaN   \nNaN                                                                                NaN   \nNaN                                                                                NaN   \nNaN                                                                                NaN   \n\n                                                    Medium - retrofit Offshore (EHB 2022)  \\\nProperties                                                                                  \nCapex Pipeline [€/kg/1000km]                                                         0.50   \nCapex Compression [€/kg/1000km]                                                      1.06   \nOpex w/o electricity[as % of Capex]                                                   NaN   \nCapacity [GW]                                                                         NaN   \nCapacity [Mtpa]                                                                       NaN   \n...                                                                                   ...   \nHigh - retrofit Offshore (EHB 2022) Levelised t...                                    NaN   \nNaN                                                                                   NaN   \nNaN                                                                                   NaN   \nNaN                                                                                   NaN   \nNaN                                                                                   NaN   \n\n                                                    High - retrofit Offshore (EHB 2022)  \nProperties                                                                               \nCapex Pipeline [€/kg/1000km]                                                       0.60  \nCapex Compression [€/kg/1000km]                                                    1.06  \nOpex w/o electricity[as % of Capex]                                                 NaN  \nCapacity [GW]                                                                       NaN  \nCapacity [Mtpa]                                                                     NaN  \n...                                                                                 ...  \nHigh - retrofit Offshore (EHB 2022) Levelised t...                                  NaN  \nNaN                                                                                 NaN  \nNaN                                                                                 NaN  \nNaN                                                                                 NaN  \nNaN                                                                                 NaN  \n\n[161 rows x 15 columns]",
      "text/html": "<div>\n<style scoped>\n    .dataframe tbody tr th:only-of-type {\n        vertical-align: middle;\n    }\n\n    .dataframe tbody tr th {\n        vertical-align: top;\n    }\n\n    .dataframe thead th {\n        text-align: right;\n    }\n</style>\n<table border=\"1\" class=\"dataframe\">\n  <thead>\n    <tr style=\"text-align: right;\">\n      <th></th>\n      <th>Parameter</th>\n      <th>Reference</th>\n      <th>CO2 offshore Pipeline</th>\n      <th>Medium - New Onshore (EHB 2022)</th>\n      <th>Medium - Retrofit Onshore (EHB 2022)</th>\n      <th>Medium - New Offshore (EHB 2022)</th>\n      <th>Low - New onshore (Wang 2020)</th>\n      <th>High - New onshore (IEA 2019)</th>\n      <th>Low - New Offshore (EHB 2022)</th>\n      <th>Medium - New Offshore (EHB 2022).1</th>\n      <th>High - New Offshore (EHB 2022)</th>\n      <th>Retrofit Offshore (IEA 2019)</th>\n      <th>Low - retrofit Offshore (EHB 2022)</th>\n      <th>Medium - retrofit Offshore (EHB 2022)</th>\n      <th>High - retrofit Offshore (EHB 2022)</th>\n    </tr>\n    <tr>\n      <th>Properties</th>\n      <th></th>\n      <th></th>\n      <th></th>\n      <th></th>\n      <th></th>\n      <th></th>\n      <th></th>\n      <th></th>\n      <th></th>\n      <th></th>\n      <th></th>\n      <th></th>\n      <th></th>\n      <th></th>\n      <th></th>\n    </tr>\n  </thead>\n  <tbody>\n    <tr>\n      <th>Capex Pipeline [€/kg/1000km]</th>\n      <td>NaN</td>\n      <td>NaN</td>\n      <td>2.426063</td>\n      <td>2.8</td>\n      <td>0.50</td>\n      <td>4.800</td>\n      <td>1.1837</td>\n      <td>3.167353</td>\n      <td>4.3</td>\n      <td>4.80</td>\n      <td>40.0</td>\n      <td>NaN</td>\n      <td>40.0</td>\n      <td>0.50</td>\n      <td>0.60</td>\n    </tr>\n    <tr>\n      <th>Capex Compression [€/kg/1000km]</th>\n      <td>NaN</td>\n      <td>NaN</td>\n      <td>0.004383</td>\n      <td>0.62</td>\n      <td>0.62</td>\n      <td>1.060</td>\n      <td>NaN</td>\n      <td>NaN</td>\n      <td>NaN</td>\n      <td>1.06</td>\n      <td>NaN</td>\n      <td>NaN</td>\n      <td>NaN</td>\n      <td>1.06</td>\n      <td>1.06</td>\n    </tr>\n    <tr>\n      <th>Opex w/o electricity[as % of Capex]</th>\n      <td>NaN</td>\n      <td>NaN</td>\n      <td>NaN</td>\n      <td>NaN</td>\n      <td>NaN</td>\n      <td>0.017</td>\n      <td>340.0000</td>\n      <td>340.000000</td>\n      <td>NaN</td>\n      <td>NaN</td>\n      <td>NaN</td>\n      <td>340.0</td>\n      <td>NaN</td>\n      <td>NaN</td>\n      <td>NaN</td>\n    </tr>\n    <tr>\n      <th>Capacity [GW]</th>\n      <td>NaN</td>\n      <td>NaN</td>\n      <td>NaN</td>\n      <td>13</td>\n      <td>NaN</td>\n      <td>13.000</td>\n      <td>NaN</td>\n      <td>NaN</td>\n      <td>13.0</td>\n      <td>13.00</td>\n      <td>13.0</td>\n      <td>NaN</td>\n      <td>NaN</td>\n      <td>NaN</td>\n      <td>NaN</td>\n    </tr>\n    <tr>\n      <th>Capacity [Mtpa]</th>\n      <td>NaN</td>\n      <td>NaN</td>\n      <td>10</td>\n      <td>NaN</td>\n      <td>NaN</td>\n      <td>NaN</td>\n      <td>NaN</td>\n      <td>NaN</td>\n      <td>NaN</td>\n      <td>NaN</td>\n      <td>NaN</td>\n      <td>NaN</td>\n      <td>NaN</td>\n      <td>NaN</td>\n      <td>NaN</td>\n    </tr>\n    <tr>\n      <th>...</th>\n      <td>...</td>\n      <td>...</td>\n      <td>...</td>\n      <td>...</td>\n      <td>...</td>\n      <td>...</td>\n      <td>...</td>\n      <td>...</td>\n      <td>...</td>\n      <td>...</td>\n      <td>...</td>\n      <td>...</td>\n      <td>...</td>\n      <td>...</td>\n      <td>...</td>\n    </tr>\n    <tr>\n      <th>High - retrofit Offshore (EHB 2022) Levelised transport costs [€/kg/1000km]</th>\n      <td>NaN</td>\n      <td>NaN</td>\n      <td>NaN</td>\n      <td>NaN</td>\n      <td>NaN</td>\n      <td>NaN</td>\n      <td>NaN</td>\n      <td>NaN</td>\n      <td>NaN</td>\n      <td>NaN</td>\n      <td>NaN</td>\n      <td>NaN</td>\n      <td>NaN</td>\n      <td>NaN</td>\n      <td>NaN</td>\n    </tr>\n    <tr>\n      <th>NaN</th>\n      <td>NaN</td>\n      <td>NaN</td>\n      <td>NaN</td>\n      <td>NaN</td>\n      <td>NaN</td>\n      <td>NaN</td>\n      <td>NaN</td>\n      <td>NaN</td>\n      <td>NaN</td>\n      <td>NaN</td>\n      <td>NaN</td>\n      <td>NaN</td>\n      <td>NaN</td>\n      <td>NaN</td>\n      <td>NaN</td>\n    </tr>\n    <tr>\n      <th>NaN</th>\n      <td>NaN</td>\n      <td>NaN</td>\n      <td>NaN</td>\n      <td>NaN</td>\n      <td>NaN</td>\n      <td>NaN</td>\n      <td>NaN</td>\n      <td>NaN</td>\n      <td>NaN</td>\n      <td>NaN</td>\n      <td>NaN</td>\n      <td>NaN</td>\n      <td>NaN</td>\n      <td>NaN</td>\n      <td>NaN</td>\n    </tr>\n    <tr>\n      <th>NaN</th>\n      <td>NaN</td>\n      <td>NaN</td>\n      <td>NaN</td>\n      <td>NaN</td>\n      <td>NaN</td>\n      <td>NaN</td>\n      <td>NaN</td>\n      <td>NaN</td>\n      <td>NaN</td>\n      <td>NaN</td>\n      <td>NaN</td>\n      <td>NaN</td>\n      <td>NaN</td>\n      <td>NaN</td>\n      <td>NaN</td>\n    </tr>\n    <tr>\n      <th>NaN</th>\n      <td>IEAGHG 2017</td>\n      <td>NaN</td>\n      <td>NaN</td>\n      <td>NaN</td>\n      <td>NaN</td>\n      <td>NaN</td>\n      <td>NaN</td>\n      <td>NaN</td>\n      <td>NaN</td>\n      <td>NaN</td>\n      <td>NaN</td>\n      <td>NaN</td>\n      <td>NaN</td>\n      <td>NaN</td>\n      <td>NaN</td>\n    </tr>\n  </tbody>\n</table>\n<p>161 rows × 15 columns</p>\n</div>"
     },
     "execution_count": 44,
     "metadata": {},
     "output_type": "execute_result"
    }
   ],
   "source": [
    "tea_pipe_v2 = pd.read_excel(\"/Users/jakob/PycharmProjects/H2_pathways_repo/data/raw/20220921_Data_Assumptions.xlsx\", sheet_name='Pipeline Transport_V2', decimal=',', index_col=0)\n",
    "tea_pipe_v2"
   ],
   "metadata": {
    "collapsed": false,
    "pycharm": {
     "name": "#%%\n"
    }
   }
  },
  {
   "cell_type": "code",
   "execution_count": 45,
   "outputs": [
    {
     "data": {
      "text/plain": "2.4260627003205117"
     },
     "execution_count": 45,
     "metadata": {},
     "output_type": "execute_result"
    }
   ],
   "source": [
    "# Pipeline capex offshore  [€/kg/1000km]\n",
    "capex_co2_pipe = float(tea_pipe_v2.loc['Capex Pipeline [€/kg/1000km]']['CO2 offshore Pipeline'])\n",
    "capex_co2_pipe\n"
   ],
   "metadata": {
    "collapsed": false,
    "pycharm": {
     "name": "#%%\n"
    }
   }
  },
  {
   "cell_type": "code",
   "execution_count": 47,
   "outputs": [
    {
     "data": {
      "text/plain": "0.00438281813544664"
     },
     "execution_count": 47,
     "metadata": {},
     "output_type": "execute_result"
    }
   ],
   "source": [
    "# Compression capex offshore  [€/kg/1000km]\n",
    "capex_co2_comp = float(\n",
    "    tea_pipe_v2.loc['Capex Compression [€/kg/1000km]']['CO2 offshore Pipeline'])\n",
    "capex_co2_comp"
   ],
   "metadata": {
    "collapsed": false,
    "pycharm": {
     "name": "#%%\n"
    }
   }
  },
  {
   "cell_type": "code",
   "execution_count": 48,
   "outputs": [
    {
     "data": {
      "text/plain": "0.04"
     },
     "execution_count": 48,
     "metadata": {},
     "output_type": "execute_result"
    }
   ],
   "source": [
    "opex_share_co2_comp = float(\n",
    "    tea_pipe_v2.loc['Compressor Opex [€/a as % of Capex]']['CO2 offshore Pipeline'])\n",
    "opex_share_co2_comp"
   ],
   "metadata": {
    "collapsed": false,
    "pycharm": {
     "name": "#%%\n"
    }
   }
  },
  {
   "cell_type": "code",
   "execution_count": 49,
   "outputs": [
    {
     "data": {
      "text/plain": "0.01"
     },
     "execution_count": 49,
     "metadata": {},
     "output_type": "execute_result"
    }
   ],
   "source": [
    "opex_share_co2_pipe = float(\n",
    "    tea_pipe_v2.loc['Pipeline Opex [€/a as % of Capex]']['CO2 offshore Pipeline'])\n",
    "opex_share_co2_pipe"
   ],
   "metadata": {
    "collapsed": false,
    "pycharm": {
     "name": "#%%\n"
    }
   }
  },
  {
   "cell_type": "code",
   "execution_count": null,
   "outputs": [],
   "source": [],
   "metadata": {
    "collapsed": false,
    "pycharm": {
     "name": "#%%\n"
    }
   }
  },
  {
   "cell_type": "code",
   "execution_count": null,
   "outputs": [],
   "source": [
    "def calculate_CO2_pipe_off():\n",
    "    result = (((alpha * capex_retrofit_off / pipe_use + opex_retrofit_off) + (\n",
    "                capa_comp * pipe_use * 8760 * p_el_y / capa_pipe)) * d_off) / 1000\n",
    "    return result"
   ],
   "metadata": {
    "collapsed": false,
    "pycharm": {
     "name": "#%%\n"
    }
   }
  },
  {
   "cell_type": "code",
   "execution_count": null,
   "outputs": [],
   "source": [
    "years = np.arange(2025, 2051)\n",
    "result = pd.DataFrame(index=years, columns=['CO2_pipeline_costs_off'])\n",
    "result.index.name = 'Years'\n",
    "\n",
    "for year in years:\n",
    "    p_el_y = float(p_electricity.loc['Germany'][year]) * 0.89\n",
    "\n",
    "    result.Retrofit_pipeline_costs_off.loc[year] = calculate_CO2_pipe_off()\n",
    "\n",
    "result"
   ],
   "metadata": {
    "collapsed": false,
    "pycharm": {
     "name": "#%%\n"
    }
   }
  },
  {
   "cell_type": "markdown",
   "source": [
    "# Plot cost breakdown for pipeline transport"
   ],
   "metadata": {
    "collapsed": false,
    "pycharm": {
     "name": "#%% md\n"
    }
   }
  },
  {
   "cell_type": "code",
   "execution_count": 114,
   "outputs": [],
   "source": [],
   "metadata": {
    "collapsed": false,
    "pycharm": {
     "name": "#%%\n"
    }
   }
  },
  {
   "cell_type": "code",
   "execution_count": 115,
   "outputs": [
    {
     "data": {
      "text/plain": "<Figure size 720x432 with 1 Axes>",
      "image/png": "[encoded data removed]"
     },
     "metadata": {
      "needs_background": "light"
     },
     "output_type": "display_data"
    }
   ],
   "source": [
    "# Emission breakdown for pipeline transport\n",
    "fig, ax = plt.subplots(figsize=(10,6))\n",
    "plt.grid(True, axis = 'y')\n",
    "ax.set_axisbelow(True)\n",
    "\n"
   ],
   "metadata": {
    "collapsed": false,
    "pycharm": {
     "name": "#%%\n"
    }
   }
  }
 ],
 "metadata": {
  "kernelspec": {
   "display_name": "Python 3",
   "language": "python",
   "name": "python3"
  },
  "language_info": {
   "codemirror_mode": {
    "name": "ipython",
    "version": 2
   },
   "file_extension": ".py",
   "mimetype": "text/x-python",
   "name": "python",
   "nbconvert_exporter": "python",
   "pygments_lexer": "ipython2",
   "version": "2.7.6"
  }
 },
 "nbformat": 4,
 "nbformat_minor": 0
}