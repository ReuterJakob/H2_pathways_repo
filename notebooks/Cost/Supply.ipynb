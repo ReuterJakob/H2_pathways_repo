{
 "cells": [
  {
   "cell_type": "code",
   "execution_count": 192,
   "metadata": {
    "collapsed": true,
    "pycharm": {
     "name": "#%%\n"
    }
   },
   "outputs": [],
   "source": [
    "import numpy as np\n",
    "import pandas as pd\n",
    "import matplotlib.pyplot as plt"
   ]
  },
  {
   "cell_type": "code",
   "execution_count": 193,
   "outputs": [
    {
     "ename": "NameError",
     "evalue": "name 'LCOH_ngr' is not defined",
     "output_type": "error",
     "traceback": [
      "\u001B[0;31m---------------------------------------------------------------------------\u001B[0m",
      "\u001B[0;31mNameError\u001B[0m                                 Traceback (most recent call last)",
      "Input \u001B[0;32mIn [193]\u001B[0m, in \u001B[0;36m<cell line: 2>\u001B[0;34m()\u001B[0m\n\u001B[1;32m      1\u001B[0m \u001B[38;5;66;03m# Total supply cost from country to country in [$/kg_h2]\u001B[39;00m\n\u001B[0;32m----> 2\u001B[0m TSC \u001B[38;5;241m=\u001B[39m \u001B[38;5;28mmin\u001B[39m(\u001B[43mLCOH_ngr\u001B[49m, LCOH_res) \u001B[38;5;241m+\u001B[39m \u001B[38;5;28mmin\u001B[39m(TC_pipe, TC_sea)\n",
      "\u001B[0;31mNameError\u001B[0m: name 'LCOH_ngr' is not defined"
     ]
    }
   ],
   "source": [
    "# Total supply cost from country to country in [$/kg_h2]\n",
    "TSC = min(LCOH_ngr, LCOH_res) + min(TC_pipe, TC_sea)"
   ],
   "metadata": {
    "collapsed": false,
    "pycharm": {
     "name": "#%%\n"
    }
   }
  },
  {
   "cell_type": "code",
   "execution_count": 193,
   "outputs": [],
   "source": [],
   "metadata": {
    "collapsed": false,
    "pycharm": {
     "name": "#%%\n"
    }
   }
  },
  {
   "cell_type": "code",
   "execution_count": 194,
   "outputs": [
    {
     "data": {
      "text/plain": "0     2020\n1     2021\n2     2022\n3     2023\n4     2024\n5     2025\n6     2026\n7     2027\n8     2028\n9     2029\n10    2030\n11    2031\n12    2032\n13    2033\n14    2034\n15    2035\n16    2036\n17    2037\n18    2038\n19    2039\n20    2040\n21    2041\n22    2042\n23    2043\n24    2044\n25    2045\n26    2046\n27    2047\n28    2048\n29    2049\n30    2050\nName: Years, dtype: int64"
     },
     "execution_count": 194,
     "metadata": {},
     "output_type": "execute_result"
    }
   ],
   "source": [
    "lcoh.Years\n"
   ],
   "metadata": {
    "collapsed": false,
    "pycharm": {
     "name": "#%%\n"
    }
   }
  },
  {
   "cell_type": "markdown",
   "source": [],
   "metadata": {
    "collapsed": false,
    "pycharm": {
     "name": "#%% md\n"
    }
   }
  },
  {
   "cell_type": "code",
   "execution_count": 195,
   "outputs": [
    {
     "data": {
      "text/plain": "    Years Seaborne_transport_costs\n0    2020        1.915353652011996\n1    2021       1.8989573747072543\n2    2022       1.9214664474480345\n3    2023       1.8998825964514232\n4    2024       1.8648386599485007\n5    2025       1.8462804358086857\n6    2026        1.826443196032222\n7    2027         1.80837768029987\n8    2028       1.7899694435995537\n9    2029        1.772032066622823\n10   2030        1.754741526394477\n11   2031       1.7314562954606427\n12   2032       1.7098832091398193\n13   2033        1.690552017981083\n14   2034       1.6706129532387268\n15   2035       1.6486171488194061\n16   2036       1.6247777226929627\n17   2037        1.602720307819369\n18   2038       1.5828963771075475\n19   2039       1.5658828630098285\n20   2040       1.5486878173543197\n21   2041       1.5323209558780566\n22   2042       1.5171719851084289\n23   2043       1.5028711894038127\n24   2044        1.488991483648603\n25   2045       1.4739546220637845\n26   2046       1.4561616218589335\n27   2047        1.435130941434235\n28   2048       1.4124777389104286\n29   2049       1.3916021436764359\n30   2050        1.374018038090604",
      "text/html": "<div>\n<style scoped>\n    .dataframe tbody tr th:only-of-type {\n        vertical-align: middle;\n    }\n\n    .dataframe tbody tr th {\n        vertical-align: top;\n    }\n\n    .dataframe thead th {\n        text-align: right;\n    }\n</style>\n<table border=\"1\" class=\"dataframe\">\n  <thead>\n    <tr style=\"text-align: right;\">\n      <th></th>\n      <th>Years</th>\n      <th>Seaborne_transport_costs</th>\n    </tr>\n  </thead>\n  <tbody>\n    <tr>\n      <th>0</th>\n      <td>2020</td>\n      <td>1.915353652011996</td>\n    </tr>\n    <tr>\n      <th>1</th>\n      <td>2021</td>\n      <td>1.8989573747072543</td>\n    </tr>\n    <tr>\n      <th>2</th>\n      <td>2022</td>\n      <td>1.9214664474480345</td>\n    </tr>\n    <tr>\n      <th>3</th>\n      <td>2023</td>\n      <td>1.8998825964514232</td>\n    </tr>\n    <tr>\n      <th>4</th>\n      <td>2024</td>\n      <td>1.8648386599485007</td>\n    </tr>\n    <tr>\n      <th>5</th>\n      <td>2025</td>\n      <td>1.8462804358086857</td>\n    </tr>\n    <tr>\n      <th>6</th>\n      <td>2026</td>\n      <td>1.826443196032222</td>\n    </tr>\n    <tr>\n      <th>7</th>\n      <td>2027</td>\n      <td>1.80837768029987</td>\n    </tr>\n    <tr>\n      <th>8</th>\n      <td>2028</td>\n      <td>1.7899694435995537</td>\n    </tr>\n    <tr>\n      <th>9</th>\n      <td>2029</td>\n      <td>1.772032066622823</td>\n    </tr>\n    <tr>\n      <th>10</th>\n      <td>2030</td>\n      <td>1.754741526394477</td>\n    </tr>\n    <tr>\n      <th>11</th>\n      <td>2031</td>\n      <td>1.7314562954606427</td>\n    </tr>\n    <tr>\n      <th>12</th>\n      <td>2032</td>\n      <td>1.7098832091398193</td>\n    </tr>\n    <tr>\n      <th>13</th>\n      <td>2033</td>\n      <td>1.690552017981083</td>\n    </tr>\n    <tr>\n      <th>14</th>\n      <td>2034</td>\n      <td>1.6706129532387268</td>\n    </tr>\n    <tr>\n      <th>15</th>\n      <td>2035</td>\n      <td>1.6486171488194061</td>\n    </tr>\n    <tr>\n      <th>16</th>\n      <td>2036</td>\n      <td>1.6247777226929627</td>\n    </tr>\n    <tr>\n      <th>17</th>\n      <td>2037</td>\n      <td>1.602720307819369</td>\n    </tr>\n    <tr>\n      <th>18</th>\n      <td>2038</td>\n      <td>1.5828963771075475</td>\n    </tr>\n    <tr>\n      <th>19</th>\n      <td>2039</td>\n      <td>1.5658828630098285</td>\n    </tr>\n    <tr>\n      <th>20</th>\n      <td>2040</td>\n      <td>1.5486878173543197</td>\n    </tr>\n    <tr>\n      <th>21</th>\n      <td>2041</td>\n      <td>1.5323209558780566</td>\n    </tr>\n    <tr>\n      <th>22</th>\n      <td>2042</td>\n      <td>1.5171719851084289</td>\n    </tr>\n    <tr>\n      <th>23</th>\n      <td>2043</td>\n      <td>1.5028711894038127</td>\n    </tr>\n    <tr>\n      <th>24</th>\n      <td>2044</td>\n      <td>1.488991483648603</td>\n    </tr>\n    <tr>\n      <th>25</th>\n      <td>2045</td>\n      <td>1.4739546220637845</td>\n    </tr>\n    <tr>\n      <th>26</th>\n      <td>2046</td>\n      <td>1.4561616218589335</td>\n    </tr>\n    <tr>\n      <th>27</th>\n      <td>2047</td>\n      <td>1.435130941434235</td>\n    </tr>\n    <tr>\n      <th>28</th>\n      <td>2048</td>\n      <td>1.4124777389104286</td>\n    </tr>\n    <tr>\n      <th>29</th>\n      <td>2049</td>\n      <td>1.3916021436764359</td>\n    </tr>\n    <tr>\n      <th>30</th>\n      <td>2050</td>\n      <td>1.374018038090604</td>\n    </tr>\n  </tbody>\n</table>\n</div>"
     },
     "execution_count": 195,
     "metadata": {},
     "output_type": "execute_result"
    }
   ],
   "source": [
    "# Costs for seaborne transport via ship [$/kg_h2]\n",
    "sea_costs = pd.read_csv('/Users/jakob/PycharmProjects/H2_pathways_repo/data/processed/Seaborne_transport_costs.csv', delimiter=';', decimal=',')\n",
    "sea_costs"
   ],
   "metadata": {
    "collapsed": false,
    "pycharm": {
     "name": "#%%\n"
    }
   }
  },
  {
   "cell_type": "code",
   "execution_count": 196,
   "outputs": [
    {
     "data": {
      "text/plain": "    Years      Pipeline_costs\n0    2020  0.8146777893376214\n1    2021  0.8146777893376214\n2    2022  0.8146777893376214\n3    2023  0.8146777893376214\n4    2024  0.8146777893376214\n5    2025  0.8146777893376214\n6    2026  0.8146777893376214\n7    2027  0.8146777893376214\n8    2028  0.8146777893376214\n9    2029  0.8146777893376214\n10   2030  0.8146777893376214\n11   2031  0.8146777893376214\n12   2032  0.8146777893376214\n13   2033  0.8146777893376214\n14   2034  0.8146777893376214\n15   2035  0.8146777893376214\n16   2036  0.8146777893376214\n17   2037  0.8146777893376214\n18   2038  0.8146777893376214\n19   2039  0.8146777893376214\n20   2040  0.8146777893376214\n21   2041  0.8146777893376214\n22   2042  0.8146777893376214\n23   2043  0.8146777893376214\n24   2044  0.8146777893376214\n25   2045  0.8146777893376214\n26   2046  0.8146777893376214\n27   2047  0.8146777893376214\n28   2048  0.8146777893376214\n29   2049  0.8146777893376214\n30   2050  0.8146777893376214",
      "text/html": "<div>\n<style scoped>\n    .dataframe tbody tr th:only-of-type {\n        vertical-align: middle;\n    }\n\n    .dataframe tbody tr th {\n        vertical-align: top;\n    }\n\n    .dataframe thead th {\n        text-align: right;\n    }\n</style>\n<table border=\"1\" class=\"dataframe\">\n  <thead>\n    <tr style=\"text-align: right;\">\n      <th></th>\n      <th>Years</th>\n      <th>Pipeline_costs</th>\n    </tr>\n  </thead>\n  <tbody>\n    <tr>\n      <th>0</th>\n      <td>2020</td>\n      <td>0.8146777893376214</td>\n    </tr>\n    <tr>\n      <th>1</th>\n      <td>2021</td>\n      <td>0.8146777893376214</td>\n    </tr>\n    <tr>\n      <th>2</th>\n      <td>2022</td>\n      <td>0.8146777893376214</td>\n    </tr>\n    <tr>\n      <th>3</th>\n      <td>2023</td>\n      <td>0.8146777893376214</td>\n    </tr>\n    <tr>\n      <th>4</th>\n      <td>2024</td>\n      <td>0.8146777893376214</td>\n    </tr>\n    <tr>\n      <th>5</th>\n      <td>2025</td>\n      <td>0.8146777893376214</td>\n    </tr>\n    <tr>\n      <th>6</th>\n      <td>2026</td>\n      <td>0.8146777893376214</td>\n    </tr>\n    <tr>\n      <th>7</th>\n      <td>2027</td>\n      <td>0.8146777893376214</td>\n    </tr>\n    <tr>\n      <th>8</th>\n      <td>2028</td>\n      <td>0.8146777893376214</td>\n    </tr>\n    <tr>\n      <th>9</th>\n      <td>2029</td>\n      <td>0.8146777893376214</td>\n    </tr>\n    <tr>\n      <th>10</th>\n      <td>2030</td>\n      <td>0.8146777893376214</td>\n    </tr>\n    <tr>\n      <th>11</th>\n      <td>2031</td>\n      <td>0.8146777893376214</td>\n    </tr>\n    <tr>\n      <th>12</th>\n      <td>2032</td>\n      <td>0.8146777893376214</td>\n    </tr>\n    <tr>\n      <th>13</th>\n      <td>2033</td>\n      <td>0.8146777893376214</td>\n    </tr>\n    <tr>\n      <th>14</th>\n      <td>2034</td>\n      <td>0.8146777893376214</td>\n    </tr>\n    <tr>\n      <th>15</th>\n      <td>2035</td>\n      <td>0.8146777893376214</td>\n    </tr>\n    <tr>\n      <th>16</th>\n      <td>2036</td>\n      <td>0.8146777893376214</td>\n    </tr>\n    <tr>\n      <th>17</th>\n      <td>2037</td>\n      <td>0.8146777893376214</td>\n    </tr>\n    <tr>\n      <th>18</th>\n      <td>2038</td>\n      <td>0.8146777893376214</td>\n    </tr>\n    <tr>\n      <th>19</th>\n      <td>2039</td>\n      <td>0.8146777893376214</td>\n    </tr>\n    <tr>\n      <th>20</th>\n      <td>2040</td>\n      <td>0.8146777893376214</td>\n    </tr>\n    <tr>\n      <th>21</th>\n      <td>2041</td>\n      <td>0.8146777893376214</td>\n    </tr>\n    <tr>\n      <th>22</th>\n      <td>2042</td>\n      <td>0.8146777893376214</td>\n    </tr>\n    <tr>\n      <th>23</th>\n      <td>2043</td>\n      <td>0.8146777893376214</td>\n    </tr>\n    <tr>\n      <th>24</th>\n      <td>2044</td>\n      <td>0.8146777893376214</td>\n    </tr>\n    <tr>\n      <th>25</th>\n      <td>2045</td>\n      <td>0.8146777893376214</td>\n    </tr>\n    <tr>\n      <th>26</th>\n      <td>2046</td>\n      <td>0.8146777893376214</td>\n    </tr>\n    <tr>\n      <th>27</th>\n      <td>2047</td>\n      <td>0.8146777893376214</td>\n    </tr>\n    <tr>\n      <th>28</th>\n      <td>2048</td>\n      <td>0.8146777893376214</td>\n    </tr>\n    <tr>\n      <th>29</th>\n      <td>2049</td>\n      <td>0.8146777893376214</td>\n    </tr>\n    <tr>\n      <th>30</th>\n      <td>2050</td>\n      <td>0.8146777893376214</td>\n    </tr>\n  </tbody>\n</table>\n</div>"
     },
     "execution_count": 196,
     "metadata": {},
     "output_type": "execute_result"
    }
   ],
   "source": [
    "pipe_costs = pd.read_csv('/Users/jakob/PycharmProjects/H2_pathways_repo/data/processed/Pipeline_costs.csv', delimiter=';', decimal=',')\n",
    "pipe_costs"
   ],
   "metadata": {
    "collapsed": false,
    "pycharm": {
     "name": "#%%\n"
    }
   }
  },
  {
   "cell_type": "code",
   "execution_count": 197,
   "outputs": [
    {
     "data": {
      "text/plain": "    Years            LCOH_NGR\n0    2020   1.540664228375292\n1    2021  1.5795795259119467\n2    2022   4.677234866618601\n3    2023   4.444640127690195\n4    2024   3.516538989006849\n5    2025   3.619924858455304\n6    2026   3.728883239375647\n7    2027  3.8427065897619217\n8    2028   3.962095830621936\n9    2029    4.08776221557105\n10   2030   4.219029229922964\n11   2031     4.3673524943381\n12   2032   4.522288582964764\n13   2033  4.6841286606354195\n14   2034   4.853176714350876\n15   2035  5.0297501092269306\n16   2036   5.214180191736414\n17   2037   5.406812895551001\n18   2038   5.608009378780015\n19   2039   5.818146712804211\n20   2040   6.037618565310206\n21   2041    6.26683593561988\n22   2042   6.506227922716546\n23   2043  6.7562425178688095\n24   2044   7.017347438550547\n25   2045   7.290030996757389\n26   2046  7.5748030024200474\n27   2047   7.872195711513191\n28   2048   8.182764819460036\n29   2049   8.507090486033881\n30   2050   8.845778418054158",
      "text/html": "<div>\n<style scoped>\n    .dataframe tbody tr th:only-of-type {\n        vertical-align: middle;\n    }\n\n    .dataframe tbody tr th {\n        vertical-align: top;\n    }\n\n    .dataframe thead th {\n        text-align: right;\n    }\n</style>\n<table border=\"1\" class=\"dataframe\">\n  <thead>\n    <tr style=\"text-align: right;\">\n      <th></th>\n      <th>Years</th>\n      <th>LCOH_NGR</th>\n    </tr>\n  </thead>\n  <tbody>\n    <tr>\n      <th>0</th>\n      <td>2020</td>\n      <td>1.540664228375292</td>\n    </tr>\n    <tr>\n      <th>1</th>\n      <td>2021</td>\n      <td>1.5795795259119467</td>\n    </tr>\n    <tr>\n      <th>2</th>\n      <td>2022</td>\n      <td>4.677234866618601</td>\n    </tr>\n    <tr>\n      <th>3</th>\n      <td>2023</td>\n      <td>4.444640127690195</td>\n    </tr>\n    <tr>\n      <th>4</th>\n      <td>2024</td>\n      <td>3.516538989006849</td>\n    </tr>\n    <tr>\n      <th>5</th>\n      <td>2025</td>\n      <td>3.619924858455304</td>\n    </tr>\n    <tr>\n      <th>6</th>\n      <td>2026</td>\n      <td>3.728883239375647</td>\n    </tr>\n    <tr>\n      <th>7</th>\n      <td>2027</td>\n      <td>3.8427065897619217</td>\n    </tr>\n    <tr>\n      <th>8</th>\n      <td>2028</td>\n      <td>3.962095830621936</td>\n    </tr>\n    <tr>\n      <th>9</th>\n      <td>2029</td>\n      <td>4.08776221557105</td>\n    </tr>\n    <tr>\n      <th>10</th>\n      <td>2030</td>\n      <td>4.219029229922964</td>\n    </tr>\n    <tr>\n      <th>11</th>\n      <td>2031</td>\n      <td>4.3673524943381</td>\n    </tr>\n    <tr>\n      <th>12</th>\n      <td>2032</td>\n      <td>4.522288582964764</td>\n    </tr>\n    <tr>\n      <th>13</th>\n      <td>2033</td>\n      <td>4.6841286606354195</td>\n    </tr>\n    <tr>\n      <th>14</th>\n      <td>2034</td>\n      <td>4.853176714350876</td>\n    </tr>\n    <tr>\n      <th>15</th>\n      <td>2035</td>\n      <td>5.0297501092269306</td>\n    </tr>\n    <tr>\n      <th>16</th>\n      <td>2036</td>\n      <td>5.214180191736414</td>\n    </tr>\n    <tr>\n      <th>17</th>\n      <td>2037</td>\n      <td>5.406812895551001</td>\n    </tr>\n    <tr>\n      <th>18</th>\n      <td>2038</td>\n      <td>5.608009378780015</td>\n    </tr>\n    <tr>\n      <th>19</th>\n      <td>2039</td>\n      <td>5.818146712804211</td>\n    </tr>\n    <tr>\n      <th>20</th>\n      <td>2040</td>\n      <td>6.037618565310206</td>\n    </tr>\n    <tr>\n      <th>21</th>\n      <td>2041</td>\n      <td>6.26683593561988</td>\n    </tr>\n    <tr>\n      <th>22</th>\n      <td>2042</td>\n      <td>6.506227922716546</td>\n    </tr>\n    <tr>\n      <th>23</th>\n      <td>2043</td>\n      <td>6.7562425178688095</td>\n    </tr>\n    <tr>\n      <th>24</th>\n      <td>2044</td>\n      <td>7.017347438550547</td>\n    </tr>\n    <tr>\n      <th>25</th>\n      <td>2045</td>\n      <td>7.290030996757389</td>\n    </tr>\n    <tr>\n      <th>26</th>\n      <td>2046</td>\n      <td>7.5748030024200474</td>\n    </tr>\n    <tr>\n      <th>27</th>\n      <td>2047</td>\n      <td>7.872195711513191</td>\n    </tr>\n    <tr>\n      <th>28</th>\n      <td>2048</td>\n      <td>8.182764819460036</td>\n    </tr>\n    <tr>\n      <th>29</th>\n      <td>2049</td>\n      <td>8.507090486033881</td>\n    </tr>\n    <tr>\n      <th>30</th>\n      <td>2050</td>\n      <td>8.845778418054158</td>\n    </tr>\n  </tbody>\n</table>\n</div>"
     },
     "execution_count": 197,
     "metadata": {},
     "output_type": "execute_result"
    }
   ],
   "source": [
    "# Costs for h2 production [$/kg_h2]\n",
    "lcoh = pd.read_csv('/Users/jakob/PycharmProjects/H2_pathways_repo/data/processed/LCOH_NGR.csv', delimiter=';', decimal=',')\n",
    "lcoh"
   ],
   "metadata": {
    "collapsed": false,
    "pycharm": {
     "name": "#%%\n"
    }
   }
  },
  {
   "cell_type": "code",
   "execution_count": 198,
   "outputs": [
    {
     "data": {
      "text/plain": "<Figure size 432x288 with 1 Axes>",
      "image/png": "[encoded data removed]"
     },
     "metadata": {
      "needs_background": "light"
     },
     "output_type": "display_data"
    }
   ],
   "source": [
    "# Costs for h2 production [$/kg_h2]\n",
    "lcoh = pd.read_csv('/Users/jakob/PycharmProjects/H2_pathways_repo/data/processed/LCOH_NGR.csv', delimiter=';', decimal=',')\n",
    "lcoh\n",
    "#year = input('Show supply costs in year:')\n",
    "year = 2050\n",
    "\n",
    "x = ['LCOH', 'Transport Costs']\n",
    "data = [float(lcoh[lcoh.Years == year]['LCOH_NGR']),\n",
    "        float(sea_costs[sea_costs.Years == year]['Seaborne_transport_costs'])]\n",
    "#transport_costs = float(sea_costs[sea_costs.Years == year]['Seaborne_transport_costs'])\n",
    "#width = 0.35       # the width of the bars: can also be len(x) sequence\n",
    "\n",
    "plt.bar(x, data, width=0.7)\n",
    "plt.title('Supply Cost in year ' + str(year))\n",
    "plt.ylabel('[$/kg_H2]')\n",
    "\n",
    "plt.show()"
   ],
   "metadata": {
    "collapsed": false,
    "pycharm": {
     "name": "#%%\n"
    }
   }
  },
  {
   "cell_type": "code",
   "execution_count": 199,
   "outputs": [
    {
     "data": {
      "text/plain": "[6.037618565310206, 1.5486878173543197]"
     },
     "execution_count": 199,
     "metadata": {},
     "output_type": "execute_result"
    }
   ],
   "source": [
    "lcoh = pd.read_csv('/Users/jakob/PycharmProjects/H2_pathways_repo/data/processed/LCOH_NGR.csv', delimiter=';', decimal=',')\n",
    "year = 2040\n",
    "data = [float(lcoh[lcoh.Years == year]['LCOH_NGR']),\n",
    "        float(sea_costs[sea_costs.Years == year]['Seaborne_transport_costs'])]\n",
    "data"
   ],
   "metadata": {
    "collapsed": false,
    "pycharm": {
     "name": "#%%\n"
    }
   }
  },
  {
   "cell_type": "code",
   "execution_count": 405,
   "outputs": [
    {
     "data": {
      "text/plain": "<Figure size 288x288 with 1 Axes>",
      "image/png": "[encoded data removed]"
     },
     "metadata": {
      "needs_background": "light"
     },
     "output_type": "display_data"
    }
   ],
   "source": [
    "# Costs for h2 production [$/kg_h2]\n",
    "lcoh = pd.read_csv('/Users/jakob/PycharmProjects/H2_pathways_repo/data/processed/LCOH_NGR.csv', delimiter=';', decimal=',')\n",
    "lcoh\n",
    "#year = input('Show supply costs in year:')\n",
    "year = 2020\n",
    "\n",
    "x = ['Supply costs']\n",
    "lcoh = float(lcoh[lcoh.Years == year]['LCOH_NGR'])\n",
    "transport_costs = float(sea_costs[sea_costs.Years == year]['Seaborne_transport_costs'])\n",
    "width = 0.5       # the width of the bars: can also be len(x) sequence\n",
    "fig = plt.figure(figsize=(4,4))\n",
    "\n",
    "plt.bar(x, transport_costs, width, label='Transport', bottom=lcoh)\n",
    "plt.bar(x, lcoh, width, label='LCOH')\n",
    "plt.title('Supply Cost in year ' + str(year))\n",
    "plt.legend(loc='upper right')\n",
    "plt.ylabel('[$/kg_H2]')\n",
    "\n",
    "plt.show()"
   ],
   "metadata": {
    "collapsed": false,
    "pycharm": {
     "name": "#%%\n"
    }
   }
  },
  {
   "cell_type": "markdown",
   "source": [
    "# Plot supply costs over time (blue h2 & seaborne transport)"
   ],
   "metadata": {
    "collapsed": false,
    "pycharm": {
     "name": "#%% md\n"
    }
   }
  },
  {
   "cell_type": "code",
   "execution_count": 409,
   "outputs": [
    {
     "data": {
      "text/plain": "<Figure size 432x288 with 1 Axes>",
      "image/png": "[encoded data removed]"
     },
     "metadata": {
      "needs_background": "light"
     },
     "output_type": "display_data"
    }
   ],
   "source": [
    "lcoh = pd.read_csv('/Users/jakob/PycharmProjects/H2_pathways_repo/data/processed/LCOH_NGR.csv', delimiter=';', decimal=',')\n",
    "\n",
    "x = lcoh.loc[::5]['Years']\n",
    "production = lcoh.loc[::5]['LCOH_NGR']\n",
    "prod = production.astype(float)\n",
    "transport = sea_costs.loc[::5]['Seaborne_transport_costs']\n",
    "tra = transport.astype(float)\n",
    "\n",
    "width = 2       # the width of the bars: can also be len(x) sequence\n",
    "\n",
    "transport_plt = plt.bar(x, tra, width, label='Transport', bottom=prod)\n",
    "lcoh_plt = plt.bar(x, prod, width, label='Production')\n",
    "\n",
    "plt.title('Supply Cost over time')\n",
    "plt.legend(loc='upper left')\n",
    "plt.ylabel('[$/kg_H2]')\n",
    "#plt.ylim()\n",
    "\n",
    "plt.show()\n",
    "#plt.savefig()"
   ],
   "metadata": {
    "collapsed": false,
    "pycharm": {
     "name": "#%%\n"
    }
   }
  },
  {
   "cell_type": "markdown",
   "source": [
    "\n"
   ],
   "metadata": {
    "collapsed": false,
    "pycharm": {
     "name": "#%% md\n"
    }
   }
  }
 ],
 "metadata": {
  "kernelspec": {
   "display_name": "Python 3",
   "language": "python",
   "name": "python3"
  },
  "language_info": {
   "codemirror_mode": {
    "name": "ipython",
    "version": 2
   },
   "file_extension": ".py",
   "mimetype": "text/x-python",
   "name": "python",
   "nbconvert_exporter": "python",
   "pygments_lexer": "ipython2",
   "version": "2.7.6"
  }
 },
 "nbformat": 4,
 "nbformat_minor": 0
}