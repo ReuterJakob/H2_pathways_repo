{
 "cells": [
  {
   "cell_type": "markdown",
   "source": [
    "## Read inputs"
   ],
   "metadata": {
    "collapsed": false,
    "pycharm": {
     "name": "#%% md\n"
    }
   }
  },
  {
   "cell_type": "code",
   "execution_count": 16,
   "outputs": [],
   "source": [
    "# Read techno-economic assumptions and transport distances for transport cost calculation\n",
    "import numpy as np\n",
    "import pandas as pd\n",
    "from matplotlib import pyplot as plt\n",
    "import os\n",
    "from openpyxl import load_workbook"
   ],
   "metadata": {
    "collapsed": false,
    "pycharm": {
     "name": "#%%\n"
    }
   }
  },
  {
   "cell_type": "code",
   "execution_count": 31,
   "outputs": [],
   "source": [
    "path = \"/Users/jakob/PycharmProjects/H2_pathways_repo/data/raw/20220921_Data_Assumptions.xlsx\""
   ],
   "metadata": {
    "collapsed": false,
    "pycharm": {
     "name": "#%%\n"
    }
   }
  },
  {
   "cell_type": "code",
   "execution_count": 18,
   "outputs": [
    {
     "data": {
      "text/plain": "                                                                                                  Ref  \\\nProperties                                                                                              \nProperties - Gas density [kg/m3]                                                                  NaN   \nProperties - LHV [MJ/kg] []                                                                  BOG 2020   \nProperties - LHV [kWh/kg]                           https://www.iea-amf.org/content/fuel_informati...   \nProperties - LHV [kWh/m3]                            https://www.rechargenews.com/energy-transitio...   \nProperties - Boiling point at 1 Bar [°C]                                                          NaN   \n...                                                                                               ...   \nReconversion - Efficiency [% LHV]                                                          IRENA 2022   \nReconversion - Electricity consumption opt. [kW...                                         IRENA 2022   \nReconversion - Electricity consumption pess. [k...                                         IRENA 2022   \nReconversion - Heat consumption opt. [kWh/kg H2]                                           IRENA 2022   \nReconversion - Heat consumption pess. [kWh/kg H2]                                          IRENA 2022   \n\n                                                      NH3   2020    2021  \\\nProperties                                                                 \nProperties - Gas density [kg/m3]                    682.8    NaN     NaN   \nProperties - LHV [MJ/kg] []                          18.6    NaN     NaN   \nProperties - LHV [kWh/kg]                            5.17    NaN     NaN   \nProperties - LHV [kWh/m3]                            3730    NaN     NaN   \nProperties - Boiling point at 1 Bar [°C]              -33    NaN     NaN   \n...                                                   ...    ...     ...   \nReconversion - Efficiency [% LHV]                     NaN   0.98   0.980   \nReconversion - Electricity consumption opt. [kW...    NaN   2.75   2.675   \nReconversion - Electricity consumption pess. [k...    NaN   2.75   2.675   \nReconversion - Heat consumption opt. [kWh/kg H2]      NaN  14.30  13.990   \nReconversion - Heat consumption pess. [kWh/kg H2]     NaN  19.60  19.320   \n\n                                                     2022    2023   2024  \\\nProperties                                                                 \nProperties - Gas density [kg/m3]                      NaN     NaN    NaN   \nProperties - LHV [MJ/kg] []                           NaN     NaN    NaN   \nProperties - LHV [kWh/kg]                             NaN     NaN    NaN   \nProperties - LHV [kWh/m3]                             NaN     NaN    NaN   \nProperties - Boiling point at 1 Bar [°C]              NaN     NaN    NaN   \n...                                                   ...     ...    ...   \nReconversion - Efficiency [% LHV]                    0.98   0.980   0.98   \nReconversion - Electricity consumption opt. [kW...    2.6   2.525   2.45   \nReconversion - Electricity consumption pess. [k...    2.6   2.525   2.45   \nReconversion - Heat consumption opt. [kWh/kg H2]    13.68  13.370  13.06   \nReconversion - Heat consumption pess. [kWh/kg H2]   19.04  18.760  18.48   \n\n                                                      2025   2026    2027  \\\nProperties                                                                  \nProperties - Gas density [kg/m3]                       NaN    NaN     NaN   \nProperties - LHV [MJ/kg] []                            NaN    NaN     NaN   \nProperties - LHV [kWh/kg]                              NaN    NaN     NaN   \nProperties - LHV [kWh/m3]                              NaN    NaN     NaN   \nProperties - Boiling point at 1 Bar [°C]               NaN    NaN     NaN   \n...                                                    ...    ...     ...   \nReconversion - Efficiency [% LHV]                    0.980   0.98   0.980   \nReconversion - Electricity consumption opt. [kW...   2.375   2.30   2.225   \nReconversion - Electricity consumption pess. [k...   2.375   2.30   2.225   \nReconversion - Heat consumption opt. [kWh/kg H2]    12.750  12.44  12.130   \nReconversion - Heat consumption pess. [kWh/kg H2]   18.200  17.92  17.640   \n\n                                                    ...   2041   2042   2043  \\\nProperties                                          ...                        \nProperties - Gas density [kg/m3]                    ...    NaN    NaN    NaN   \nProperties - LHV [MJ/kg] []                         ...    NaN    NaN    NaN   \nProperties - LHV [kWh/kg]                           ...    NaN    NaN    NaN   \nProperties - LHV [kWh/m3]                           ...    NaN    NaN    NaN   \nProperties - Boiling point at 1 Bar [°C]            ...    NaN    NaN    NaN   \n...                                                 ...    ...    ...    ...   \nReconversion - Efficiency [% LHV]                   ...   0.98   0.98   0.98   \nReconversion - Electricity consumption opt. [kW...  ...   1.20   1.15   1.10   \nReconversion - Electricity consumption pess. [k...  ...   1.20   1.15   1.10   \nReconversion - Heat consumption opt. [kWh/kg H2]    ...   7.79   7.48   7.17   \nReconversion - Heat consumption pess. [kWh/kg H2]   ...  13.72  13.44  13.16   \n\n                                                     2044   2045   2046  \\\nProperties                                                                \nProperties - Gas density [kg/m3]                      NaN    NaN    NaN   \nProperties - LHV [MJ/kg] []                           NaN    NaN    NaN   \nProperties - LHV [kWh/kg]                             NaN    NaN    NaN   \nProperties - LHV [kWh/m3]                             NaN    NaN    NaN   \nProperties - Boiling point at 1 Bar [°C]              NaN    NaN    NaN   \n...                                                   ...    ...    ...   \nReconversion - Efficiency [% LHV]                    0.98   0.98   0.98   \nReconversion - Electricity consumption opt. [kW...   1.05   1.00   0.95   \nReconversion - Electricity consumption pess. [k...   1.05   1.00   0.95   \nReconversion - Heat consumption opt. [kWh/kg H2]     6.86   6.55   6.24   \nReconversion - Heat consumption pess. [kWh/kg H2]   12.88  12.60  12.32   \n\n                                                     2047   2048   2049  2050  \nProperties                                                                     \nProperties - Gas density [kg/m3]                      NaN    NaN    NaN   NaN  \nProperties - LHV [MJ/kg] []                           NaN    NaN    NaN   NaN  \nProperties - LHV [kWh/kg]                             NaN    NaN    NaN   NaN  \nProperties - LHV [kWh/m3]                             NaN    NaN    NaN   NaN  \nProperties - Boiling point at 1 Bar [°C]              NaN    NaN    NaN   NaN  \n...                                                   ...    ...    ...   ...  \nReconversion - Efficiency [% LHV]                    0.98   0.98   0.98  0.98  \nReconversion - Electricity consumption opt. [kW...   0.90   0.85   0.80  0.75  \nReconversion - Electricity consumption pess. [k...   0.90   0.85   0.80  0.75  \nReconversion - Heat consumption opt. [kWh/kg H2]     5.93   5.62   5.31     5  \nReconversion - Heat consumption pess. [kWh/kg H2]   12.04  11.76  11.48  11.2  \n\n[108 rows x 33 columns]",
      "text/html": "<div>\n<style scoped>\n    .dataframe tbody tr th:only-of-type {\n        vertical-align: middle;\n    }\n\n    .dataframe tbody tr th {\n        vertical-align: top;\n    }\n\n    .dataframe thead th {\n        text-align: right;\n    }\n</style>\n<table border=\"1\" class=\"dataframe\">\n  <thead>\n    <tr style=\"text-align: right;\">\n      <th></th>\n      <th>Ref</th>\n      <th>NH3</th>\n      <th>2020</th>\n      <th>2021</th>\n      <th>2022</th>\n      <th>2023</th>\n      <th>2024</th>\n      <th>2025</th>\n      <th>2026</th>\n      <th>2027</th>\n      <th>...</th>\n      <th>2041</th>\n      <th>2042</th>\n      <th>2043</th>\n      <th>2044</th>\n      <th>2045</th>\n      <th>2046</th>\n      <th>2047</th>\n      <th>2048</th>\n      <th>2049</th>\n      <th>2050</th>\n    </tr>\n    <tr>\n      <th>Properties</th>\n      <th></th>\n      <th></th>\n      <th></th>\n      <th></th>\n      <th></th>\n      <th></th>\n      <th></th>\n      <th></th>\n      <th></th>\n      <th></th>\n      <th></th>\n      <th></th>\n      <th></th>\n      <th></th>\n      <th></th>\n      <th></th>\n      <th></th>\n      <th></th>\n      <th></th>\n      <th></th>\n      <th></th>\n    </tr>\n  </thead>\n  <tbody>\n    <tr>\n      <th>Properties - Gas density [kg/m3]</th>\n      <td>NaN</td>\n      <td>682.8</td>\n      <td>NaN</td>\n      <td>NaN</td>\n      <td>NaN</td>\n      <td>NaN</td>\n      <td>NaN</td>\n      <td>NaN</td>\n      <td>NaN</td>\n      <td>NaN</td>\n      <td>...</td>\n      <td>NaN</td>\n      <td>NaN</td>\n      <td>NaN</td>\n      <td>NaN</td>\n      <td>NaN</td>\n      <td>NaN</td>\n      <td>NaN</td>\n      <td>NaN</td>\n      <td>NaN</td>\n      <td>NaN</td>\n    </tr>\n    <tr>\n      <th>Properties - LHV [MJ/kg] []</th>\n      <td>BOG 2020</td>\n      <td>18.6</td>\n      <td>NaN</td>\n      <td>NaN</td>\n      <td>NaN</td>\n      <td>NaN</td>\n      <td>NaN</td>\n      <td>NaN</td>\n      <td>NaN</td>\n      <td>NaN</td>\n      <td>...</td>\n      <td>NaN</td>\n      <td>NaN</td>\n      <td>NaN</td>\n      <td>NaN</td>\n      <td>NaN</td>\n      <td>NaN</td>\n      <td>NaN</td>\n      <td>NaN</td>\n      <td>NaN</td>\n      <td>NaN</td>\n    </tr>\n    <tr>\n      <th>Properties - LHV [kWh/kg]</th>\n      <td>https://www.iea-amf.org/content/fuel_informati...</td>\n      <td>5.17</td>\n      <td>NaN</td>\n      <td>NaN</td>\n      <td>NaN</td>\n      <td>NaN</td>\n      <td>NaN</td>\n      <td>NaN</td>\n      <td>NaN</td>\n      <td>NaN</td>\n      <td>...</td>\n      <td>NaN</td>\n      <td>NaN</td>\n      <td>NaN</td>\n      <td>NaN</td>\n      <td>NaN</td>\n      <td>NaN</td>\n      <td>NaN</td>\n      <td>NaN</td>\n      <td>NaN</td>\n      <td>NaN</td>\n    </tr>\n    <tr>\n      <th>Properties - LHV [kWh/m3]</th>\n      <td>https://www.rechargenews.com/energy-transitio...</td>\n      <td>3730</td>\n      <td>NaN</td>\n      <td>NaN</td>\n      <td>NaN</td>\n      <td>NaN</td>\n      <td>NaN</td>\n      <td>NaN</td>\n      <td>NaN</td>\n      <td>NaN</td>\n      <td>...</td>\n      <td>NaN</td>\n      <td>NaN</td>\n      <td>NaN</td>\n      <td>NaN</td>\n      <td>NaN</td>\n      <td>NaN</td>\n      <td>NaN</td>\n      <td>NaN</td>\n      <td>NaN</td>\n      <td>NaN</td>\n    </tr>\n    <tr>\n      <th>Properties - Boiling point at 1 Bar [°C]</th>\n      <td>NaN</td>\n      <td>-33</td>\n      <td>NaN</td>\n      <td>NaN</td>\n      <td>NaN</td>\n      <td>NaN</td>\n      <td>NaN</td>\n      <td>NaN</td>\n      <td>NaN</td>\n      <td>NaN</td>\n      <td>...</td>\n      <td>NaN</td>\n      <td>NaN</td>\n      <td>NaN</td>\n      <td>NaN</td>\n      <td>NaN</td>\n      <td>NaN</td>\n      <td>NaN</td>\n      <td>NaN</td>\n      <td>NaN</td>\n      <td>NaN</td>\n    </tr>\n    <tr>\n      <th>...</th>\n      <td>...</td>\n      <td>...</td>\n      <td>...</td>\n      <td>...</td>\n      <td>...</td>\n      <td>...</td>\n      <td>...</td>\n      <td>...</td>\n      <td>...</td>\n      <td>...</td>\n      <td>...</td>\n      <td>...</td>\n      <td>...</td>\n      <td>...</td>\n      <td>...</td>\n      <td>...</td>\n      <td>...</td>\n      <td>...</td>\n      <td>...</td>\n      <td>...</td>\n      <td>...</td>\n    </tr>\n    <tr>\n      <th>Reconversion - Efficiency [% LHV]</th>\n      <td>IRENA 2022</td>\n      <td>NaN</td>\n      <td>0.98</td>\n      <td>0.980</td>\n      <td>0.98</td>\n      <td>0.980</td>\n      <td>0.98</td>\n      <td>0.980</td>\n      <td>0.98</td>\n      <td>0.980</td>\n      <td>...</td>\n      <td>0.98</td>\n      <td>0.98</td>\n      <td>0.98</td>\n      <td>0.98</td>\n      <td>0.98</td>\n      <td>0.98</td>\n      <td>0.98</td>\n      <td>0.98</td>\n      <td>0.98</td>\n      <td>0.98</td>\n    </tr>\n    <tr>\n      <th>Reconversion - Electricity consumption opt. [kWh/kg H2]</th>\n      <td>IRENA 2022</td>\n      <td>NaN</td>\n      <td>2.75</td>\n      <td>2.675</td>\n      <td>2.6</td>\n      <td>2.525</td>\n      <td>2.45</td>\n      <td>2.375</td>\n      <td>2.30</td>\n      <td>2.225</td>\n      <td>...</td>\n      <td>1.20</td>\n      <td>1.15</td>\n      <td>1.10</td>\n      <td>1.05</td>\n      <td>1.00</td>\n      <td>0.95</td>\n      <td>0.90</td>\n      <td>0.85</td>\n      <td>0.80</td>\n      <td>0.75</td>\n    </tr>\n    <tr>\n      <th>Reconversion - Electricity consumption pess. [kWh/kg H2]</th>\n      <td>IRENA 2022</td>\n      <td>NaN</td>\n      <td>2.75</td>\n      <td>2.675</td>\n      <td>2.6</td>\n      <td>2.525</td>\n      <td>2.45</td>\n      <td>2.375</td>\n      <td>2.30</td>\n      <td>2.225</td>\n      <td>...</td>\n      <td>1.20</td>\n      <td>1.15</td>\n      <td>1.10</td>\n      <td>1.05</td>\n      <td>1.00</td>\n      <td>0.95</td>\n      <td>0.90</td>\n      <td>0.85</td>\n      <td>0.80</td>\n      <td>0.75</td>\n    </tr>\n    <tr>\n      <th>Reconversion - Heat consumption opt. [kWh/kg H2]</th>\n      <td>IRENA 2022</td>\n      <td>NaN</td>\n      <td>14.30</td>\n      <td>13.990</td>\n      <td>13.68</td>\n      <td>13.370</td>\n      <td>13.06</td>\n      <td>12.750</td>\n      <td>12.44</td>\n      <td>12.130</td>\n      <td>...</td>\n      <td>7.79</td>\n      <td>7.48</td>\n      <td>7.17</td>\n      <td>6.86</td>\n      <td>6.55</td>\n      <td>6.24</td>\n      <td>5.93</td>\n      <td>5.62</td>\n      <td>5.31</td>\n      <td>5</td>\n    </tr>\n    <tr>\n      <th>Reconversion - Heat consumption pess. [kWh/kg H2]</th>\n      <td>IRENA 2022</td>\n      <td>NaN</td>\n      <td>19.60</td>\n      <td>19.320</td>\n      <td>19.04</td>\n      <td>18.760</td>\n      <td>18.48</td>\n      <td>18.200</td>\n      <td>17.92</td>\n      <td>17.640</td>\n      <td>...</td>\n      <td>13.72</td>\n      <td>13.44</td>\n      <td>13.16</td>\n      <td>12.88</td>\n      <td>12.60</td>\n      <td>12.32</td>\n      <td>12.04</td>\n      <td>11.76</td>\n      <td>11.48</td>\n      <td>11.2</td>\n    </tr>\n  </tbody>\n</table>\n<p>108 rows × 33 columns</p>\n</div>"
     },
     "execution_count": 18,
     "metadata": {},
     "output_type": "execute_result"
    }
   ],
   "source": [
    "tea_lnh3 = pd.read_excel(path, sheet_name='LNH3', decimal=',', index_col=0)\n",
    "tea_lnh3"
   ],
   "metadata": {
    "collapsed": false,
    "pycharm": {
     "name": "#%%\n"
    }
   }
  },
  {
   "cell_type": "code",
   "execution_count": 19,
   "outputs": [
    {
     "data": {
      "text/plain": "           Origin_Country Destination_Country  sea distance (km)  \\\n0    United Arab Emirates             Germany           12443.10   \n1                  Angola             Germany            9809.65   \n2               Argentina             Germany           14063.90   \n3                 Austria             Germany            6005.96   \n4               Australia             Germany           21212.10   \n..                    ...                 ...                ...   \n955           Philippines               China            1782.35   \n956               Iceland               China           20454.60   \n957      Papua New Guinea               China            6298.52   \n958              Cameroon               China           19717.70   \n959          South Africa               China           12853.50   \n\n     onshore distance (km)  offshore distance (km) Starting point  \n0                      NaN                     NaN            NaN  \n1                      NaN                     NaN            NaN  \n2                      NaN                     NaN            NaN  \n3                    500.0                     0.0            NaN  \n4                      NaN                     NaN            NaN  \n..                     ...                     ...            ...  \n955                    NaN                     NaN            NaN  \n956                    NaN                     NaN            NaN  \n957                    NaN                     NaN            NaN  \n958                    NaN                     NaN            NaN  \n959                    NaN                     NaN            NaN  \n\n[960 rows x 6 columns]",
      "text/html": "<div>\n<style scoped>\n    .dataframe tbody tr th:only-of-type {\n        vertical-align: middle;\n    }\n\n    .dataframe tbody tr th {\n        vertical-align: top;\n    }\n\n    .dataframe thead th {\n        text-align: right;\n    }\n</style>\n<table border=\"1\" class=\"dataframe\">\n  <thead>\n    <tr style=\"text-align: right;\">\n      <th></th>\n      <th>Origin_Country</th>\n      <th>Destination_Country</th>\n      <th>sea distance (km)</th>\n      <th>onshore distance (km)</th>\n      <th>offshore distance (km)</th>\n      <th>Starting point</th>\n    </tr>\n  </thead>\n  <tbody>\n    <tr>\n      <th>0</th>\n      <td>United Arab Emirates</td>\n      <td>Germany</td>\n      <td>12443.10</td>\n      <td>NaN</td>\n      <td>NaN</td>\n      <td>NaN</td>\n    </tr>\n    <tr>\n      <th>1</th>\n      <td>Angola</td>\n      <td>Germany</td>\n      <td>9809.65</td>\n      <td>NaN</td>\n      <td>NaN</td>\n      <td>NaN</td>\n    </tr>\n    <tr>\n      <th>2</th>\n      <td>Argentina</td>\n      <td>Germany</td>\n      <td>14063.90</td>\n      <td>NaN</td>\n      <td>NaN</td>\n      <td>NaN</td>\n    </tr>\n    <tr>\n      <th>3</th>\n      <td>Austria</td>\n      <td>Germany</td>\n      <td>6005.96</td>\n      <td>500.0</td>\n      <td>0.0</td>\n      <td>NaN</td>\n    </tr>\n    <tr>\n      <th>4</th>\n      <td>Australia</td>\n      <td>Germany</td>\n      <td>21212.10</td>\n      <td>NaN</td>\n      <td>NaN</td>\n      <td>NaN</td>\n    </tr>\n    <tr>\n      <th>...</th>\n      <td>...</td>\n      <td>...</td>\n      <td>...</td>\n      <td>...</td>\n      <td>...</td>\n      <td>...</td>\n    </tr>\n    <tr>\n      <th>955</th>\n      <td>Philippines</td>\n      <td>China</td>\n      <td>1782.35</td>\n      <td>NaN</td>\n      <td>NaN</td>\n      <td>NaN</td>\n    </tr>\n    <tr>\n      <th>956</th>\n      <td>Iceland</td>\n      <td>China</td>\n      <td>20454.60</td>\n      <td>NaN</td>\n      <td>NaN</td>\n      <td>NaN</td>\n    </tr>\n    <tr>\n      <th>957</th>\n      <td>Papua New Guinea</td>\n      <td>China</td>\n      <td>6298.52</td>\n      <td>NaN</td>\n      <td>NaN</td>\n      <td>NaN</td>\n    </tr>\n    <tr>\n      <th>958</th>\n      <td>Cameroon</td>\n      <td>China</td>\n      <td>19717.70</td>\n      <td>NaN</td>\n      <td>NaN</td>\n      <td>NaN</td>\n    </tr>\n    <tr>\n      <th>959</th>\n      <td>South Africa</td>\n      <td>China</td>\n      <td>12853.50</td>\n      <td>NaN</td>\n      <td>NaN</td>\n      <td>NaN</td>\n    </tr>\n  </tbody>\n</table>\n<p>960 rows × 6 columns</p>\n</div>"
     },
     "execution_count": 19,
     "metadata": {},
     "output_type": "execute_result"
    }
   ],
   "source": [
    "tra_d = pd.read_excel(path, sheet_name='Transport Distances', decimal=',')\n",
    "tra_d"
   ],
   "metadata": {
    "collapsed": false,
    "pycharm": {
     "name": "#%%\n"
    }
   }
  },
  {
   "cell_type": "code",
   "execution_count": 20,
   "outputs": [
    {
     "data": {
      "text/plain": "                                                     2020        2021  \\\nWholesale electricity prices from DNV GL 2019                           \nUnited Arab Emirates                            36.301651   36.764515   \nAngola                                         121.494032  119.445089   \nArgentina                                       37.961027   38.086072   \nAustria                                         46.683533   47.002654   \nAustralia                                       72.846428   69.396730   \n...                                                   ...         ...   \nPhilippines                                     42.402642   44.089299   \nIceland                                         46.683533   47.002654   \nPapua New Guinea                                42.402642   44.089299   \nCameroon                                       121.494032  119.445089   \nSouth Africa                                   121.494032  119.445089   \n\n                                                     2022        2023  \\\nWholesale electricity prices from DNV GL 2019                           \nUnited Arab Emirates                            37.137776   37.447974   \nAngola                                         119.580409  124.653779   \nArgentina                                       39.032196   40.033404   \nAustria                                         47.209289   47.346703   \nAustralia                                       66.622798   64.898776   \n...                                                   ...         ...   \nPhilippines                                     45.936088   47.946139   \nIceland                                         47.209289   47.346703   \nPapua New Guinea                                45.936088   47.946139   \nCameroon                                       119.580409  124.653779   \nSouth Africa                                   119.580409  124.653779   \n\n                                                     2024        2025  \\\nWholesale electricity prices from DNV GL 2019                           \nUnited Arab Emirates                            37.747898   38.034395   \nAngola                                         131.547459  137.405324   \nArgentina                                       41.148255   42.353416   \nAustria                                         47.274782   46.957092   \nAustralia                                       64.515503   64.897234   \n...                                                   ...         ...   \nPhilippines                                     50.057150   52.193834   \nIceland                                         47.274782   46.957092   \nPapua New Guinea                                50.057150   52.193834   \nCameroon                                       131.547459  137.405324   \nSouth Africa                                   131.547459  137.405324   \n\n                                                     2026        2027  \\\nWholesale electricity prices from DNV GL 2019                           \nUnited Arab Emirates                            38.325658   38.655501   \nAngola                                         141.246042  142.819290   \nArgentina                                       43.577189   44.818521   \nAustria                                         46.416301   46.118220   \nAustralia                                       65.154315   65.256396   \n...                                                   ...         ...   \nPhilippines                                     54.433745   57.196590   \nIceland                                         46.416301   46.118220   \nPapua New Guinea                                54.433745   57.196590   \nCameroon                                       141.246042  142.819290   \nSouth Africa                                   141.246042  142.819290   \n\n                                                     2028        2029  ...  \\\nWholesale electricity prices from DNV GL 2019                          ...   \nUnited Arab Emirates                            39.015448   39.420264  ...   \nAngola                                         143.098086  143.128137  ...   \nArgentina                                       46.021991   47.209332  ...   \nAustria                                         45.738344   45.399899  ...   \nAustralia                                       65.134265   64.811898  ...   \n...                                                   ...         ...  ...   \nPhilippines                                     60.841314   65.569751  ...   \nIceland                                         45.738344   45.399899  ...   \nPapua New Guinea                                60.841314   65.569751  ...   \nCameroon                                       143.098086  143.128137  ...   \nSouth Africa                                   143.098086  143.128137  ...   \n\n                                                     2041        2042  \\\nWholesale electricity prices from DNV GL 2019                           \nUnited Arab Emirates                            53.573530   51.487746   \nAngola                                         167.313461  168.277022   \nArgentina                                       73.409441   72.994100   \nAustria                                         49.609330   50.705430   \nAustralia                                       38.939740   37.412280   \n...                                                   ...         ...   \nPhilippines                                     75.383730   74.831710   \nIceland                                         49.609330   50.705430   \nPapua New Guinea                                75.383730   74.831710   \nCameroon                                       167.313461  168.277022   \nSouth Africa                                   167.313461  168.277022   \n\n                                                     2043        2044  \\\nWholesale electricity prices from DNV GL 2019                           \nUnited Arab Emirates                            50.336783   49.802097   \nAngola                                         168.972257  169.434972   \nArgentina                                       72.420411   72.137700   \nAustria                                         51.925184   53.193310   \nAustralia                                       35.994851   34.709238   \n...                                                   ...         ...   \nPhilippines                                     74.676203   74.735059   \nIceland                                         51.925184   53.193310   \nPapua New Guinea                                74.676203   74.735059   \nCameroon                                       168.972257  169.434972   \nSouth Africa                                   168.972257  169.434972   \n\n                                                     2045        2046  \\\nWholesale electricity prices from DNV GL 2019                           \nUnited Arab Emirates                            49.984233   50.739234   \nAngola                                         169.825687  170.198308   \nArgentina                                       71.884240   71.715794   \nAustria                                         54.221220   54.704721   \nAustralia                                       33.678074   32.794352   \n...                                                   ...         ...   \nPhilippines                                     74.746313   74.583895   \nIceland                                         54.221220   54.704721   \nPapua New Guinea                                74.746313   74.583895   \nCameroon                                       169.825687  170.198308   \nSouth Africa                                   169.825687  170.198308   \n\n                                                     2047        2048  \\\nWholesale electricity prices from DNV GL 2019                           \nUnited Arab Emirates                            51.993049   53.655694   \nAngola                                         170.217476  170.039948   \nArgentina                                       71.547577   71.579187   \nAustria                                         54.535295   53.994557   \nAustralia                                       32.137023   31.647242   \n...                                                   ...         ...   \nPhilippines                                     74.409350   74.323923   \nIceland                                         54.535295   53.994557   \nPapua New Guinea                                74.409350   74.323923   \nCameroon                                       170.217476  170.039948   \nSouth Africa                                   170.217476  170.039948   \n\n                                                     2049        2050  \nWholesale electricity prices from DNV GL 2019                          \nUnited Arab Emirates                            54.814324   56.468935  \nAngola                                         170.172216  169.924801  \nArgentina                                       70.985088   71.383909  \nAustria                                         53.715329   53.994428  \nAustralia                                       30.594356   29.930791  \n...                                                   ...         ...  \nPhilippines                                     74.282002   73.996739  \nIceland                                         53.715329   53.994428  \nPapua New Guinea                                74.282002   73.996739  \nCameroon                                       170.172216  169.924801  \nSouth Africa                                   170.172216  169.924801  \n\n[88 rows x 31 columns]",
      "text/html": "<div>\n<style scoped>\n    .dataframe tbody tr th:only-of-type {\n        vertical-align: middle;\n    }\n\n    .dataframe tbody tr th {\n        vertical-align: top;\n    }\n\n    .dataframe thead th {\n        text-align: right;\n    }\n</style>\n<table border=\"1\" class=\"dataframe\">\n  <thead>\n    <tr style=\"text-align: right;\">\n      <th></th>\n      <th>2020</th>\n      <th>2021</th>\n      <th>2022</th>\n      <th>2023</th>\n      <th>2024</th>\n      <th>2025</th>\n      <th>2026</th>\n      <th>2027</th>\n      <th>2028</th>\n      <th>2029</th>\n      <th>...</th>\n      <th>2041</th>\n      <th>2042</th>\n      <th>2043</th>\n      <th>2044</th>\n      <th>2045</th>\n      <th>2046</th>\n      <th>2047</th>\n      <th>2048</th>\n      <th>2049</th>\n      <th>2050</th>\n    </tr>\n    <tr>\n      <th>Wholesale electricity prices from DNV GL 2019</th>\n      <th></th>\n      <th></th>\n      <th></th>\n      <th></th>\n      <th></th>\n      <th></th>\n      <th></th>\n      <th></th>\n      <th></th>\n      <th></th>\n      <th></th>\n      <th></th>\n      <th></th>\n      <th></th>\n      <th></th>\n      <th></th>\n      <th></th>\n      <th></th>\n      <th></th>\n      <th></th>\n      <th></th>\n    </tr>\n  </thead>\n  <tbody>\n    <tr>\n      <th>United Arab Emirates</th>\n      <td>36.301651</td>\n      <td>36.764515</td>\n      <td>37.137776</td>\n      <td>37.447974</td>\n      <td>37.747898</td>\n      <td>38.034395</td>\n      <td>38.325658</td>\n      <td>38.655501</td>\n      <td>39.015448</td>\n      <td>39.420264</td>\n      <td>...</td>\n      <td>53.573530</td>\n      <td>51.487746</td>\n      <td>50.336783</td>\n      <td>49.802097</td>\n      <td>49.984233</td>\n      <td>50.739234</td>\n      <td>51.993049</td>\n      <td>53.655694</td>\n      <td>54.814324</td>\n      <td>56.468935</td>\n    </tr>\n    <tr>\n      <th>Angola</th>\n      <td>121.494032</td>\n      <td>119.445089</td>\n      <td>119.580409</td>\n      <td>124.653779</td>\n      <td>131.547459</td>\n      <td>137.405324</td>\n      <td>141.246042</td>\n      <td>142.819290</td>\n      <td>143.098086</td>\n      <td>143.128137</td>\n      <td>...</td>\n      <td>167.313461</td>\n      <td>168.277022</td>\n      <td>168.972257</td>\n      <td>169.434972</td>\n      <td>169.825687</td>\n      <td>170.198308</td>\n      <td>170.217476</td>\n      <td>170.039948</td>\n      <td>170.172216</td>\n      <td>169.924801</td>\n    </tr>\n    <tr>\n      <th>Argentina</th>\n      <td>37.961027</td>\n      <td>38.086072</td>\n      <td>39.032196</td>\n      <td>40.033404</td>\n      <td>41.148255</td>\n      <td>42.353416</td>\n      <td>43.577189</td>\n      <td>44.818521</td>\n      <td>46.021991</td>\n      <td>47.209332</td>\n      <td>...</td>\n      <td>73.409441</td>\n      <td>72.994100</td>\n      <td>72.420411</td>\n      <td>72.137700</td>\n      <td>71.884240</td>\n      <td>71.715794</td>\n      <td>71.547577</td>\n      <td>71.579187</td>\n      <td>70.985088</td>\n      <td>71.383909</td>\n    </tr>\n    <tr>\n      <th>Austria</th>\n      <td>46.683533</td>\n      <td>47.002654</td>\n      <td>47.209289</td>\n      <td>47.346703</td>\n      <td>47.274782</td>\n      <td>46.957092</td>\n      <td>46.416301</td>\n      <td>46.118220</td>\n      <td>45.738344</td>\n      <td>45.399899</td>\n      <td>...</td>\n      <td>49.609330</td>\n      <td>50.705430</td>\n      <td>51.925184</td>\n      <td>53.193310</td>\n      <td>54.221220</td>\n      <td>54.704721</td>\n      <td>54.535295</td>\n      <td>53.994557</td>\n      <td>53.715329</td>\n      <td>53.994428</td>\n    </tr>\n    <tr>\n      <th>Australia</th>\n      <td>72.846428</td>\n      <td>69.396730</td>\n      <td>66.622798</td>\n      <td>64.898776</td>\n      <td>64.515503</td>\n      <td>64.897234</td>\n      <td>65.154315</td>\n      <td>65.256396</td>\n      <td>65.134265</td>\n      <td>64.811898</td>\n      <td>...</td>\n      <td>38.939740</td>\n      <td>37.412280</td>\n      <td>35.994851</td>\n      <td>34.709238</td>\n      <td>33.678074</td>\n      <td>32.794352</td>\n      <td>32.137023</td>\n      <td>31.647242</td>\n      <td>30.594356</td>\n      <td>29.930791</td>\n    </tr>\n    <tr>\n      <th>...</th>\n      <td>...</td>\n      <td>...</td>\n      <td>...</td>\n      <td>...</td>\n      <td>...</td>\n      <td>...</td>\n      <td>...</td>\n      <td>...</td>\n      <td>...</td>\n      <td>...</td>\n      <td>...</td>\n      <td>...</td>\n      <td>...</td>\n      <td>...</td>\n      <td>...</td>\n      <td>...</td>\n      <td>...</td>\n      <td>...</td>\n      <td>...</td>\n      <td>...</td>\n      <td>...</td>\n    </tr>\n    <tr>\n      <th>Philippines</th>\n      <td>42.402642</td>\n      <td>44.089299</td>\n      <td>45.936088</td>\n      <td>47.946139</td>\n      <td>50.057150</td>\n      <td>52.193834</td>\n      <td>54.433745</td>\n      <td>57.196590</td>\n      <td>60.841314</td>\n      <td>65.569751</td>\n      <td>...</td>\n      <td>75.383730</td>\n      <td>74.831710</td>\n      <td>74.676203</td>\n      <td>74.735059</td>\n      <td>74.746313</td>\n      <td>74.583895</td>\n      <td>74.409350</td>\n      <td>74.323923</td>\n      <td>74.282002</td>\n      <td>73.996739</td>\n    </tr>\n    <tr>\n      <th>Iceland</th>\n      <td>46.683533</td>\n      <td>47.002654</td>\n      <td>47.209289</td>\n      <td>47.346703</td>\n      <td>47.274782</td>\n      <td>46.957092</td>\n      <td>46.416301</td>\n      <td>46.118220</td>\n      <td>45.738344</td>\n      <td>45.399899</td>\n      <td>...</td>\n      <td>49.609330</td>\n      <td>50.705430</td>\n      <td>51.925184</td>\n      <td>53.193310</td>\n      <td>54.221220</td>\n      <td>54.704721</td>\n      <td>54.535295</td>\n      <td>53.994557</td>\n      <td>53.715329</td>\n      <td>53.994428</td>\n    </tr>\n    <tr>\n      <th>Papua New Guinea</th>\n      <td>42.402642</td>\n      <td>44.089299</td>\n      <td>45.936088</td>\n      <td>47.946139</td>\n      <td>50.057150</td>\n      <td>52.193834</td>\n      <td>54.433745</td>\n      <td>57.196590</td>\n      <td>60.841314</td>\n      <td>65.569751</td>\n      <td>...</td>\n      <td>75.383730</td>\n      <td>74.831710</td>\n      <td>74.676203</td>\n      <td>74.735059</td>\n      <td>74.746313</td>\n      <td>74.583895</td>\n      <td>74.409350</td>\n      <td>74.323923</td>\n      <td>74.282002</td>\n      <td>73.996739</td>\n    </tr>\n    <tr>\n      <th>Cameroon</th>\n      <td>121.494032</td>\n      <td>119.445089</td>\n      <td>119.580409</td>\n      <td>124.653779</td>\n      <td>131.547459</td>\n      <td>137.405324</td>\n      <td>141.246042</td>\n      <td>142.819290</td>\n      <td>143.098086</td>\n      <td>143.128137</td>\n      <td>...</td>\n      <td>167.313461</td>\n      <td>168.277022</td>\n      <td>168.972257</td>\n      <td>169.434972</td>\n      <td>169.825687</td>\n      <td>170.198308</td>\n      <td>170.217476</td>\n      <td>170.039948</td>\n      <td>170.172216</td>\n      <td>169.924801</td>\n    </tr>\n    <tr>\n      <th>South Africa</th>\n      <td>121.494032</td>\n      <td>119.445089</td>\n      <td>119.580409</td>\n      <td>124.653779</td>\n      <td>131.547459</td>\n      <td>137.405324</td>\n      <td>141.246042</td>\n      <td>142.819290</td>\n      <td>143.098086</td>\n      <td>143.128137</td>\n      <td>...</td>\n      <td>167.313461</td>\n      <td>168.277022</td>\n      <td>168.972257</td>\n      <td>169.434972</td>\n      <td>169.825687</td>\n      <td>170.198308</td>\n      <td>170.217476</td>\n      <td>170.039948</td>\n      <td>170.172216</td>\n      <td>169.924801</td>\n    </tr>\n  </tbody>\n</table>\n<p>88 rows × 31 columns</p>\n</div>"
     },
     "execution_count": 20,
     "metadata": {},
     "output_type": "execute_result"
    }
   ],
   "source": [
    "# Electrcity wholesale price projections in $_2018/MWh from DNVGL 2018\n",
    "p_electricity = pd.read_excel(path, sheet_name='EL Price', decimal=',', index_col=0)\n",
    "p_electricity"
   ],
   "metadata": {
    "collapsed": false,
    "pycharm": {
     "name": "#%%\n"
    }
   }
  },
  {
   "cell_type": "code",
   "execution_count": 21,
   "outputs": [
    {
     "data": {
      "text/plain": "                                                      Value  \\\nParameter                                                     \nWACC [%]                                               0.08   \nNaN                                                     NaN   \nAverage exchange rate 2022 [€/$]                     0.9462   \nAverage exchange rate 2021 [€/$]                     0.8458   \nAverage exchange rate 2020 [€/$]                     0.877    \nAverage exchange rate 2019 [€/$]                     0.8931   \nAverage exchange rate 2018 [€/$]                     0.8475   \nAverage exchange rate in 2018 [GBP/EUR]              1.1301   \nNaN                                                     NaN   \nTechnology availability                                2022   \nNew H2 pipeline - time from FID to commissionin...        7   \nRetrofit H2 pipeline - availability from now [y...       13   \nNG pipeline - time from FID to commissioning [y...        7   \nNew CO2 pipeline - time from FID to commissioni...        7   \nLH2 shipping - availability                               3   \nAmmonia shipping - availability                           3   \n\n                                                                                                  Ref  \\\nParameter                                                                                               \nWACC [%]                                                                                          NaN   \nNaN                                                                                               NaN   \nAverage exchange rate 2022 [€/$]                    https://www.exchangerates.org.uk/USD-EUR-spot-...   \nAverage exchange rate 2021 [€/$]                    https://www.exchangerates.org.uk/USD-EUR-spot-...   \nAverage exchange rate 2020 [€/$]                                                                  NaN   \nAverage exchange rate 2019 [€/$]                    https://www.exchangerates.org.uk/USD-EUR-spot-...   \nAverage exchange rate 2018 [€/$]                    https://www.exchangerates.org.uk/USD-EUR-spot-...   \nAverage exchange rate in 2018 [GBP/EUR]             https://www.exchangerates.org.uk/GBP-EUR-spot-...   \nNaN                                                                                               NaN   \nTechnology availability                                                                           NaN   \nNew H2 pipeline - time from FID to commissionin...                                                NaN   \nRetrofit H2 pipeline - availability from now [y...                                                NaN   \nNG pipeline - time from FID to commissioning [y...                                                NaN   \nNew CO2 pipeline - time from FID to commissioni...                                                NaN   \nLH2 shipping - availability                                                                       NaN   \nAmmonia shipping - availability                                   Expert interviews Uniper and TES H2   \n\n                                                                                              Comment  \nParameter                                                                                              \nWACC [%]                                                                                          NaN  \nNaN                                                                                               NaN  \nAverage exchange rate 2022 [€/$]                                                                  NaN  \nAverage exchange rate 2021 [€/$]                                                                  NaN  \nAverage exchange rate 2020 [€/$]                                                                  NaN  \nAverage exchange rate 2019 [€/$]                                                                  NaN  \nAverage exchange rate 2018 [€/$]                                                                  NaN  \nAverage exchange rate in 2018 [GBP/EUR]                                                           NaN  \nNaN                                                                                               NaN  \nTechnology availability                             both say FID to COD of 3 years for terminals, ...  \nNew H2 pipeline - time from FID to commissionin...                                                NaN  \nRetrofit H2 pipeline - availability from now [y...                        free NG pipelines available  \nNG pipeline - time from FID to commissioning [y...                                                NaN  \nNew CO2 pipeline - time from FID to commissioni...                                                NaN  \nLH2 shipping - availability                                          time to build ship and terminals  \nAmmonia shipping - availability                                                                   NaN  ",
      "text/html": "<div>\n<style scoped>\n    .dataframe tbody tr th:only-of-type {\n        vertical-align: middle;\n    }\n\n    .dataframe tbody tr th {\n        vertical-align: top;\n    }\n\n    .dataframe thead th {\n        text-align: right;\n    }\n</style>\n<table border=\"1\" class=\"dataframe\">\n  <thead>\n    <tr style=\"text-align: right;\">\n      <th></th>\n      <th>Value</th>\n      <th>Ref</th>\n      <th>Comment</th>\n    </tr>\n    <tr>\n      <th>Parameter</th>\n      <th></th>\n      <th></th>\n      <th></th>\n    </tr>\n  </thead>\n  <tbody>\n    <tr>\n      <th>WACC [%]</th>\n      <td>0.08</td>\n      <td>NaN</td>\n      <td>NaN</td>\n    </tr>\n    <tr>\n      <th>NaN</th>\n      <td>NaN</td>\n      <td>NaN</td>\n      <td>NaN</td>\n    </tr>\n    <tr>\n      <th>Average exchange rate 2022 [€/$]</th>\n      <td>0.9462</td>\n      <td>https://www.exchangerates.org.uk/USD-EUR-spot-...</td>\n      <td>NaN</td>\n    </tr>\n    <tr>\n      <th>Average exchange rate 2021 [€/$]</th>\n      <td>0.8458</td>\n      <td>https://www.exchangerates.org.uk/USD-EUR-spot-...</td>\n      <td>NaN</td>\n    </tr>\n    <tr>\n      <th>Average exchange rate 2020 [€/$]</th>\n      <td>0.877</td>\n      <td>NaN</td>\n      <td>NaN</td>\n    </tr>\n    <tr>\n      <th>Average exchange rate 2019 [€/$]</th>\n      <td>0.8931</td>\n      <td>https://www.exchangerates.org.uk/USD-EUR-spot-...</td>\n      <td>NaN</td>\n    </tr>\n    <tr>\n      <th>Average exchange rate 2018 [€/$]</th>\n      <td>0.8475</td>\n      <td>https://www.exchangerates.org.uk/USD-EUR-spot-...</td>\n      <td>NaN</td>\n    </tr>\n    <tr>\n      <th>Average exchange rate in 2018 [GBP/EUR]</th>\n      <td>1.1301</td>\n      <td>https://www.exchangerates.org.uk/GBP-EUR-spot-...</td>\n      <td>NaN</td>\n    </tr>\n    <tr>\n      <th>NaN</th>\n      <td>NaN</td>\n      <td>NaN</td>\n      <td>NaN</td>\n    </tr>\n    <tr>\n      <th>Technology availability</th>\n      <td>2022</td>\n      <td>NaN</td>\n      <td>both say FID to COD of 3 years for terminals, ...</td>\n    </tr>\n    <tr>\n      <th>New H2 pipeline - time from FID to commissioning [years]</th>\n      <td>7</td>\n      <td>NaN</td>\n      <td>NaN</td>\n    </tr>\n    <tr>\n      <th>Retrofit H2 pipeline - availability from now [years]</th>\n      <td>13</td>\n      <td>NaN</td>\n      <td>free NG pipelines available</td>\n    </tr>\n    <tr>\n      <th>NG pipeline - time from FID to commissioning [years]</th>\n      <td>7</td>\n      <td>NaN</td>\n      <td>NaN</td>\n    </tr>\n    <tr>\n      <th>New CO2 pipeline - time from FID to commissioning [years]</th>\n      <td>7</td>\n      <td>NaN</td>\n      <td>NaN</td>\n    </tr>\n    <tr>\n      <th>LH2 shipping - availability</th>\n      <td>3</td>\n      <td>NaN</td>\n      <td>time to build ship and terminals</td>\n    </tr>\n    <tr>\n      <th>Ammonia shipping - availability</th>\n      <td>3</td>\n      <td>Expert interviews Uniper and TES H2</td>\n      <td>NaN</td>\n    </tr>\n  </tbody>\n</table>\n</div>"
     },
     "execution_count": 21,
     "metadata": {},
     "output_type": "execute_result"
    }
   ],
   "source": [
    "# General assumptions\n",
    "ga = pd.read_excel(path, sheet_name='General Assumptions', decimal=',', index_col=0)\n",
    "ga"
   ],
   "metadata": {
    "collapsed": false,
    "pycharm": {
     "name": "#%%\n"
    }
   }
  },
  {
   "cell_type": "code",
   "execution_count": 22,
   "outputs": [
    {
     "data": {
      "text/plain": "                                                        2020       2021  \\\nID                                                                        \nUnited_Arab_Emirates_Onshore_3_low_temp_baseline    7.083424   6.891298   \nUnited_Arab_Emirates_Offshore_1_low_temp_baseline  11.470109  11.104346   \nUnited_Arab_Emirates_Offshore_2_low_temp_baseline  15.518520  15.026419   \nUnited_Arab_Emirates_PV_2_low_temp_baseline         3.990183   3.815470   \nUnited_Arab_Emirates_PV_3_low_temp_baseline         4.167158   3.984340   \n...                                                      ...        ...   \nSouth_Africa_PV_4_low_temp_optimistic               4.776238   4.522432   \nSouth_Africa_Onshore_3_high_temp_optimistic         6.957099   6.651531   \nSouth_Africa_Offshore_1_high_temp_optimistic        6.420926   6.101068   \nSouth_Africa_Offshore_2_high_temp_optimistic        7.882887   7.502615   \nSouth_Africa_PV_4_high_temp_optimistic              8.301321   7.735446   \n\n                                                        2022       2023  \\\nID                                                                        \nUnited_Arab_Emirates_Onshore_3_low_temp_baseline    6.715543   6.552560   \nUnited_Arab_Emirates_Offshore_1_low_temp_baseline  10.787404  10.505314   \nUnited_Arab_Emirates_Offshore_2_low_temp_baseline  14.603391  14.229709   \nUnited_Arab_Emirates_PV_2_low_temp_baseline         3.659375   3.516671   \nUnited_Arab_Emirates_PV_3_low_temp_baseline         3.821167   3.672128   \n...                                                      ...        ...   \nSouth_Africa_PV_4_low_temp_optimistic               4.311259   4.130247   \nSouth_Africa_Onshore_3_high_temp_optimistic         6.361605   6.082880   \nSouth_Africa_Offshore_1_high_temp_optimistic        5.807786   5.532832   \nSouth_Africa_Offshore_2_high_temp_optimistic        7.158460   6.839487   \nSouth_Africa_PV_4_high_temp_optimistic              7.214757   6.725080   \n\n                                                        2024       2025  \\\nID                                                                        \nUnited_Arab_Emirates_Onshore_3_low_temp_baseline    6.399783   6.255316   \nUnited_Arab_Emirates_Offshore_1_low_temp_baseline  10.249265  10.013359   \nUnited_Arab_Emirates_Offshore_2_low_temp_baseline  13.892937  13.584745   \nUnited_Arab_Emirates_PV_2_low_temp_baseline         3.384029   3.259207   \nUnited_Arab_Emirates_PV_3_low_temp_baseline         3.533712   3.403554   \n...                                                      ...        ...   \nSouth_Africa_PV_4_low_temp_optimistic               3.971568   3.830018   \nSouth_Africa_Onshore_3_high_temp_optimistic         5.812121   5.546874   \nSouth_Africa_Offshore_1_high_temp_optimistic        5.271000   5.018783   \nSouth_Africa_Offshore_2_high_temp_optimistic        6.538808   6.251803   \nSouth_Africa_PV_4_high_temp_optimistic              6.257449   5.805842   \n\n                                                        2026       2027  \\\nID                                                                        \nUnited_Arab_Emirates_Onshore_3_low_temp_baseline    6.117722   5.985886   \nUnited_Arab_Emirates_Offshore_1_low_temp_baseline   9.793456   9.586545   \nUnited_Arab_Emirates_Offshore_2_low_temp_baseline  13.299293  13.032333   \nUnited_Arab_Emirates_PV_2_low_temp_baseline         3.140629   3.027147   \nUnited_Arab_Emirates_PV_3_low_temp_baseline         3.279992   3.161815   \n...                                                      ...        ...   \nSouth_Africa_PV_4_low_temp_optimistic               3.701980   3.584849   \nSouth_Africa_Onshore_3_high_temp_optimistic         5.285203   5.025533   \nSouth_Africa_Offshore_1_high_temp_optimistic        4.773702   4.533933   \nSouth_Africa_Offshore_2_high_temp_optimistic        5.975218   5.706671   \nSouth_Africa_PV_4_high_temp_optimistic              5.366024   4.934896   \n\n                                                        2028       2029  ...  \\\nID                                                                       ...   \nUnited_Arab_Emirates_Onshore_3_low_temp_baseline    5.858925   5.736129  ...   \nUnited_Arab_Emirates_Offshore_1_low_temp_baseline   9.390367   9.203187  ...   \nUnited_Arab_Emirates_Offshore_2_low_temp_baseline  12.780680  12.541890  ...   \nUnited_Arab_Emirates_PV_2_low_temp_baseline         2.917901   2.812232  ...   \nUnited_Arab_Emirates_PV_3_low_temp_baseline         3.048116   2.938202  ...   \n...                                                      ...        ...  ...   \nSouth_Africa_PV_4_low_temp_optimistic               3.476693   3.376044  ...   \nSouth_Africa_Onshore_3_high_temp_optimistic         4.766533   4.507054  ...   \nSouth_Africa_Offshore_1_high_temp_optimistic        4.298081   4.065056  ...   \nSouth_Africa_Offshore_2_high_temp_optimistic        5.444358   5.186877  ...   \nSouth_Africa_PV_4_high_temp_optimistic              4.510115   4.089858  ...   \n\n                                                       2041      2042  \\\nID                                                                      \nUnited_Arab_Emirates_Onshore_3_low_temp_baseline   4.691380  4.628208   \nUnited_Arab_Emirates_Offshore_1_low_temp_baseline  7.248224  7.116204   \nUnited_Arab_Emirates_Offshore_2_low_temp_baseline  9.892514  9.713566   \nUnited_Arab_Emirates_PV_2_low_temp_baseline        2.123259  2.077646   \nUnited_Arab_Emirates_PV_3_low_temp_baseline        2.218239  2.170581   \n...                                                     ...       ...   \nSouth_Africa_PV_4_low_temp_optimistic              2.316135  2.243911   \nSouth_Africa_Onshore_3_high_temp_optimistic        3.527896  3.479815   \nSouth_Africa_Offshore_1_high_temp_optimistic       3.044944  2.985666   \nSouth_Africa_Offshore_2_high_temp_optimistic       3.922605  3.847566   \nSouth_Africa_PV_4_high_temp_optimistic             2.785486  2.716458   \n\n                                                       2043      2044  \\\nID                                                                      \nUnited_Arab_Emirates_Onshore_3_low_temp_baseline   4.566471  4.512363   \nUnited_Arab_Emirates_Offshore_1_low_temp_baseline  6.992261  6.880684   \nUnited_Arab_Emirates_Offshore_2_low_temp_baseline  9.545998  9.395894   \nUnited_Arab_Emirates_PV_2_low_temp_baseline        2.033698  1.995168   \nUnited_Arab_Emirates_PV_3_low_temp_baseline        2.124678  2.084494   \n...                                                     ...       ...   \nSouth_Africa_PV_4_low_temp_optimistic              2.174816  2.115768   \nSouth_Africa_Onshore_3_high_temp_optimistic        3.432700  3.392380   \nSouth_Africa_Offshore_1_high_temp_optimistic       2.930034  2.880146   \nSouth_Africa_Offshore_2_high_temp_optimistic       3.777477  3.715198   \nSouth_Africa_PV_4_high_temp_optimistic             2.650047  2.592917   \n\n                                                       2045      2046  \\\nID                                                                      \nUnited_Arab_Emirates_Onshore_3_low_temp_baseline   4.403312  4.338001   \nUnited_Arab_Emirates_Offshore_1_low_temp_baseline  6.719989  6.607285   \nUnited_Arab_Emirates_Offshore_2_low_temp_baseline  9.176013  9.024151   \nUnited_Arab_Emirates_PV_2_low_temp_baseline        1.933859  1.891448   \nUnited_Arab_Emirates_PV_3_low_temp_baseline        2.020231  1.975935   \n...                                                     ...       ...   \nSouth_Africa_PV_4_low_temp_optimistic              2.014671  1.948563   \nSouth_Africa_Onshore_3_high_temp_optimistic        3.300107  3.248513   \nSouth_Africa_Offshore_1_high_temp_optimistic       2.806048  2.755060   \nSouth_Africa_Offshore_2_high_temp_optimistic       3.619913  3.556102   \nSouth_Africa_PV_4_high_temp_optimistic             2.495084  2.430448   \n\n                                                       2047      2048  \\\nID                                                                      \nUnited_Arab_Emirates_Onshore_3_low_temp_baseline   4.274817  4.213586   \nUnited_Arab_Emirates_Offshore_1_low_temp_baseline  6.500267  6.398248   \nUnited_Arab_Emirates_Offshore_2_low_temp_baseline  8.880277  8.743419   \nUnited_Arab_Emirates_PV_2_low_temp_baseline        1.850562  1.811050   \nUnited_Arab_Emirates_PV_3_low_temp_baseline        1.933247  1.892006   \n...                                                     ...       ...   \nSouth_Africa_PV_4_low_temp_optimistic              1.885225  1.824345   \nSouth_Africa_Onshore_3_high_temp_optimistic        3.198556  3.150082   \nSouth_Africa_Offshore_1_high_temp_optimistic       2.706577  2.660273   \nSouth_Africa_Offshore_2_high_temp_optimistic       3.495686  3.438224   \nSouth_Africa_PV_4_high_temp_optimistic             2.368174  2.307988   \n\n                                                       2049      2050  \nID                                                                     \nUnited_Arab_Emirates_Onshore_3_low_temp_baseline   4.154154  4.096389  \nUnited_Arab_Emirates_Offshore_1_low_temp_baseline  6.300666  6.207051  \nUnited_Arab_Emirates_Offshore_2_low_temp_baseline  8.612779  8.487690  \nUnited_Arab_Emirates_PV_2_low_temp_baseline        1.772783  1.735653  \nUnited_Arab_Emirates_PV_3_low_temp_baseline        1.852079  1.813348  \n...                                                     ...       ...  \nSouth_Africa_PV_4_low_temp_optimistic              1.765661  1.708951  \nSouth_Africa_Onshore_3_high_temp_optimistic        3.102956  3.057060  \nSouth_Africa_Offshore_1_high_temp_optimistic       2.615880  2.573177  \nSouth_Africa_Offshore_2_high_temp_optimistic       3.383351  3.330767  \nSouth_Africa_PV_4_high_temp_optimistic             2.249662  2.193002  \n\n[1660 rows x 31 columns]",
      "text/html": "<div>\n<style scoped>\n    .dataframe tbody tr th:only-of-type {\n        vertical-align: middle;\n    }\n\n    .dataframe tbody tr th {\n        vertical-align: top;\n    }\n\n    .dataframe thead th {\n        text-align: right;\n    }\n</style>\n<table border=\"1\" class=\"dataframe\">\n  <thead>\n    <tr style=\"text-align: right;\">\n      <th></th>\n      <th>2020</th>\n      <th>2021</th>\n      <th>2022</th>\n      <th>2023</th>\n      <th>2024</th>\n      <th>2025</th>\n      <th>2026</th>\n      <th>2027</th>\n      <th>2028</th>\n      <th>2029</th>\n      <th>...</th>\n      <th>2041</th>\n      <th>2042</th>\n      <th>2043</th>\n      <th>2044</th>\n      <th>2045</th>\n      <th>2046</th>\n      <th>2047</th>\n      <th>2048</th>\n      <th>2049</th>\n      <th>2050</th>\n    </tr>\n    <tr>\n      <th>ID</th>\n      <th></th>\n      <th></th>\n      <th></th>\n      <th></th>\n      <th></th>\n      <th></th>\n      <th></th>\n      <th></th>\n      <th></th>\n      <th></th>\n      <th></th>\n      <th></th>\n      <th></th>\n      <th></th>\n      <th></th>\n      <th></th>\n      <th></th>\n      <th></th>\n      <th></th>\n      <th></th>\n      <th></th>\n    </tr>\n  </thead>\n  <tbody>\n    <tr>\n      <th>United_Arab_Emirates_Onshore_3_low_temp_baseline</th>\n      <td>7.083424</td>\n      <td>6.891298</td>\n      <td>6.715543</td>\n      <td>6.552560</td>\n      <td>6.399783</td>\n      <td>6.255316</td>\n      <td>6.117722</td>\n      <td>5.985886</td>\n      <td>5.858925</td>\n      <td>5.736129</td>\n      <td>...</td>\n      <td>4.691380</td>\n      <td>4.628208</td>\n      <td>4.566471</td>\n      <td>4.512363</td>\n      <td>4.403312</td>\n      <td>4.338001</td>\n      <td>4.274817</td>\n      <td>4.213586</td>\n      <td>4.154154</td>\n      <td>4.096389</td>\n    </tr>\n    <tr>\n      <th>United_Arab_Emirates_Offshore_1_low_temp_baseline</th>\n      <td>11.470109</td>\n      <td>11.104346</td>\n      <td>10.787404</td>\n      <td>10.505314</td>\n      <td>10.249265</td>\n      <td>10.013359</td>\n      <td>9.793456</td>\n      <td>9.586545</td>\n      <td>9.390367</td>\n      <td>9.203187</td>\n      <td>...</td>\n      <td>7.248224</td>\n      <td>7.116204</td>\n      <td>6.992261</td>\n      <td>6.880684</td>\n      <td>6.719989</td>\n      <td>6.607285</td>\n      <td>6.500267</td>\n      <td>6.398248</td>\n      <td>6.300666</td>\n      <td>6.207051</td>\n    </tr>\n    <tr>\n      <th>United_Arab_Emirates_Offshore_2_low_temp_baseline</th>\n      <td>15.518520</td>\n      <td>15.026419</td>\n      <td>14.603391</td>\n      <td>14.229709</td>\n      <td>13.892937</td>\n      <td>13.584745</td>\n      <td>13.299293</td>\n      <td>13.032333</td>\n      <td>12.780680</td>\n      <td>12.541890</td>\n      <td>...</td>\n      <td>9.892514</td>\n      <td>9.713566</td>\n      <td>9.545998</td>\n      <td>9.395894</td>\n      <td>9.176013</td>\n      <td>9.024151</td>\n      <td>8.880277</td>\n      <td>8.743419</td>\n      <td>8.612779</td>\n      <td>8.487690</td>\n    </tr>\n    <tr>\n      <th>United_Arab_Emirates_PV_2_low_temp_baseline</th>\n      <td>3.990183</td>\n      <td>3.815470</td>\n      <td>3.659375</td>\n      <td>3.516671</td>\n      <td>3.384029</td>\n      <td>3.259207</td>\n      <td>3.140629</td>\n      <td>3.027147</td>\n      <td>2.917901</td>\n      <td>2.812232</td>\n      <td>...</td>\n      <td>2.123259</td>\n      <td>2.077646</td>\n      <td>2.033698</td>\n      <td>1.995168</td>\n      <td>1.933859</td>\n      <td>1.891448</td>\n      <td>1.850562</td>\n      <td>1.811050</td>\n      <td>1.772783</td>\n      <td>1.735653</td>\n    </tr>\n    <tr>\n      <th>United_Arab_Emirates_PV_3_low_temp_baseline</th>\n      <td>4.167158</td>\n      <td>3.984340</td>\n      <td>3.821167</td>\n      <td>3.672128</td>\n      <td>3.533712</td>\n      <td>3.403554</td>\n      <td>3.279992</td>\n      <td>3.161815</td>\n      <td>3.048116</td>\n      <td>2.938202</td>\n      <td>...</td>\n      <td>2.218239</td>\n      <td>2.170581</td>\n      <td>2.124678</td>\n      <td>2.084494</td>\n      <td>2.020231</td>\n      <td>1.975935</td>\n      <td>1.933247</td>\n      <td>1.892006</td>\n      <td>1.852079</td>\n      <td>1.813348</td>\n    </tr>\n    <tr>\n      <th>...</th>\n      <td>...</td>\n      <td>...</td>\n      <td>...</td>\n      <td>...</td>\n      <td>...</td>\n      <td>...</td>\n      <td>...</td>\n      <td>...</td>\n      <td>...</td>\n      <td>...</td>\n      <td>...</td>\n      <td>...</td>\n      <td>...</td>\n      <td>...</td>\n      <td>...</td>\n      <td>...</td>\n      <td>...</td>\n      <td>...</td>\n      <td>...</td>\n      <td>...</td>\n      <td>...</td>\n    </tr>\n    <tr>\n      <th>South_Africa_PV_4_low_temp_optimistic</th>\n      <td>4.776238</td>\n      <td>4.522432</td>\n      <td>4.311259</td>\n      <td>4.130247</td>\n      <td>3.971568</td>\n      <td>3.830018</td>\n      <td>3.701980</td>\n      <td>3.584849</td>\n      <td>3.476693</td>\n      <td>3.376044</td>\n      <td>...</td>\n      <td>2.316135</td>\n      <td>2.243911</td>\n      <td>2.174816</td>\n      <td>2.115768</td>\n      <td>2.014671</td>\n      <td>1.948563</td>\n      <td>1.885225</td>\n      <td>1.824345</td>\n      <td>1.765661</td>\n      <td>1.708951</td>\n    </tr>\n    <tr>\n      <th>South_Africa_Onshore_3_high_temp_optimistic</th>\n      <td>6.957099</td>\n      <td>6.651531</td>\n      <td>6.361605</td>\n      <td>6.082880</td>\n      <td>5.812121</td>\n      <td>5.546874</td>\n      <td>5.285203</td>\n      <td>5.025533</td>\n      <td>4.766533</td>\n      <td>4.507054</td>\n      <td>...</td>\n      <td>3.527896</td>\n      <td>3.479815</td>\n      <td>3.432700</td>\n      <td>3.392380</td>\n      <td>3.300107</td>\n      <td>3.248513</td>\n      <td>3.198556</td>\n      <td>3.150082</td>\n      <td>3.102956</td>\n      <td>3.057060</td>\n    </tr>\n    <tr>\n      <th>South_Africa_Offshore_1_high_temp_optimistic</th>\n      <td>6.420926</td>\n      <td>6.101068</td>\n      <td>5.807786</td>\n      <td>5.532832</td>\n      <td>5.271000</td>\n      <td>5.018783</td>\n      <td>4.773702</td>\n      <td>4.533933</td>\n      <td>4.298081</td>\n      <td>4.065056</td>\n      <td>...</td>\n      <td>3.044944</td>\n      <td>2.985666</td>\n      <td>2.930034</td>\n      <td>2.880146</td>\n      <td>2.806048</td>\n      <td>2.755060</td>\n      <td>2.706577</td>\n      <td>2.660273</td>\n      <td>2.615880</td>\n      <td>2.573177</td>\n    </tr>\n    <tr>\n      <th>South_Africa_Offshore_2_high_temp_optimistic</th>\n      <td>7.882887</td>\n      <td>7.502615</td>\n      <td>7.158460</td>\n      <td>6.839487</td>\n      <td>6.538808</td>\n      <td>6.251803</td>\n      <td>5.975218</td>\n      <td>5.706671</td>\n      <td>5.444358</td>\n      <td>5.186877</td>\n      <td>...</td>\n      <td>3.922605</td>\n      <td>3.847566</td>\n      <td>3.777477</td>\n      <td>3.715198</td>\n      <td>3.619913</td>\n      <td>3.556102</td>\n      <td>3.495686</td>\n      <td>3.438224</td>\n      <td>3.383351</td>\n      <td>3.330767</td>\n    </tr>\n    <tr>\n      <th>South_Africa_PV_4_high_temp_optimistic</th>\n      <td>8.301321</td>\n      <td>7.735446</td>\n      <td>7.214757</td>\n      <td>6.725080</td>\n      <td>6.257449</td>\n      <td>5.805842</td>\n      <td>5.366024</td>\n      <td>4.934896</td>\n      <td>4.510115</td>\n      <td>4.089858</td>\n      <td>...</td>\n      <td>2.785486</td>\n      <td>2.716458</td>\n      <td>2.650047</td>\n      <td>2.592917</td>\n      <td>2.495084</td>\n      <td>2.430448</td>\n      <td>2.368174</td>\n      <td>2.307988</td>\n      <td>2.249662</td>\n      <td>2.193002</td>\n    </tr>\n  </tbody>\n</table>\n<p>1660 rows × 31 columns</p>\n</div>"
     },
     "execution_count": 22,
     "metadata": {},
     "output_type": "execute_result"
    }
   ],
   "source": [
    "lcoh_green = pd.read_excel(path, sheet_name='LCOH_RES', decimal=',', index_col=0)\n",
    "lcoh_green"
   ],
   "metadata": {
    "collapsed": false,
    "pycharm": {
     "name": "#%%\n"
    }
   }
  },
  {
   "cell_type": "markdown",
   "source": [
    "NH3 transport cost"
   ],
   "metadata": {
    "collapsed": false,
    "pycharm": {
     "name": "#%% md\n"
    }
   }
  },
  {
   "cell_type": "code",
   "execution_count": 23,
   "outputs": [
    {
     "data": {
      "text/plain": "0.05"
     },
     "execution_count": 23,
     "metadata": {},
     "output_type": "execute_result"
    }
   ],
   "source": [
    "# WACC for all transport investments (pipelines, terminals, liquefaction plants)\n",
    "i = float(tea_lnh3.loc['Conversion - Discount rate [%]']['NH3'])\n",
    "i"
   ],
   "metadata": {
    "collapsed": false,
    "pycharm": {
     "name": "#%%\n"
    }
   }
  },
  {
   "cell_type": "markdown",
   "source": [
    "## Conversion"
   ],
   "metadata": {
    "collapsed": false,
    "pycharm": {
     "name": "#%% md\n"
    }
   }
  },
  {
   "cell_type": "code",
   "execution_count": 24,
   "outputs": [
    {
     "data": {
      "text/plain": "30.0"
     },
     "execution_count": 24,
     "metadata": {},
     "output_type": "execute_result"
    }
   ],
   "source": [
    "# Economic lifetime for the conversion plant [years]\n",
    "l_con = float(tea_lnh3.loc['Conversion - Lifetime [Years]']['NH3'])\n",
    "l_con"
   ],
   "metadata": {
    "collapsed": false,
    "pycharm": {
     "name": "#%%\n"
    }
   }
  },
  {
   "cell_type": "code",
   "execution_count": 25,
   "outputs": [
    {
     "data": {
      "text/plain": "0.06505143508027657"
     },
     "execution_count": 25,
     "metadata": {},
     "output_type": "execute_result"
    }
   ],
   "source": [
    "# Amortisation factor alpha for the conversion plant\n",
    "alpha_con = (i * (1 + i) ** l_con) /(((1 + i) ** l_con) - 1)\n",
    "alpha_con\n"
   ],
   "metadata": {
    "collapsed": false,
    "pycharm": {
     "name": "#%%\n"
    }
   }
  },
  {
   "cell_type": "code",
   "execution_count": 26,
   "outputs": [
    {
     "data": {
      "text/plain": "'not used'"
     },
     "execution_count": 26,
     "metadata": {},
     "output_type": "execute_result"
    }
   ],
   "source": [
    "'not used'# Conversion efficiency [% of LHV]\n",
    "#eff_con = float(tea_lnh3.loc['Conversion - Efficiency opt. [% of LHV]'][2025])"
   ],
   "metadata": {
    "collapsed": false,
    "pycharm": {
     "name": "#%%\n"
    }
   }
  },
  {
   "cell_type": "code",
   "execution_count": 27,
   "outputs": [
    {
     "data": {
      "text/plain": "0.02"
     },
     "execution_count": 27,
     "metadata": {},
     "output_type": "execute_result"
    }
   ],
   "source": [
    "opex_con_share = (tea_lnh3.loc['Conversion - Opex opt. [% of Capex]']['NH3'])\n",
    "opex_con_share"
   ],
   "metadata": {
    "collapsed": false,
    "pycharm": {
     "name": "#%%\n"
    }
   }
  },
  {
   "cell_type": "markdown",
   "source": [
    "Calc. conversion cost"
   ],
   "metadata": {
    "collapsed": false,
    "pycharm": {
     "name": "#%% md\n"
    }
   }
  },
  {
   "cell_type": "markdown",
   "source": [
    "Definition of the cost calculation function for conversion costs. Time relevant variables =\n",
    "capex [€/tpa]\n",
    "opex [€/tpa]\n",
    "electricity use [kwh/kg H2]\n",
    "electricity price [$/MWh]"
   ],
   "metadata": {
    "collapsed": false,
    "pycharm": {
     "name": "#%% md\n"
    }
   }
  },
  {
   "cell_type": "code",
   "execution_count": 28,
   "outputs": [],
   "source": [
    "def calculate_con_costs():\n",
    "\n",
    "    result = float((alpha_con * capex_con_y/1000 + opex_con_y/1000) + el_con_y * p_el_y*0.89/1000)\n",
    "\n",
    "    return result"
   ],
   "metadata": {
    "collapsed": false,
    "pycharm": {
     "name": "#%%\n"
    }
   }
  },
  {
   "cell_type": "code",
   "execution_count": 29,
   "outputs": [
    {
     "data": {
      "text/plain": "      LNH3_Conversion_costs\nYears                      \n2025               0.239551\n2026               0.234888\n2027               0.231153\n2028               0.227106\n2029               0.223217\n2030               0.219604\n2031               0.213191\n2032               0.207665\n2033               0.203289\n2034               0.198373\n2035               0.192123\n2036               0.184717\n2037               0.178176\n2038                0.17269\n2039               0.168493\n2040                0.16397\n2041               0.165939\n2042               0.168455\n2043               0.171333\n2044               0.174354\n2045               0.176669\n2046               0.177385\n2047               0.176184\n2048               0.173892\n2049               0.172368\n2050               0.172484",
      "text/html": "<div>\n<style scoped>\n    .dataframe tbody tr th:only-of-type {\n        vertical-align: middle;\n    }\n\n    .dataframe tbody tr th {\n        vertical-align: top;\n    }\n\n    .dataframe thead th {\n        text-align: right;\n    }\n</style>\n<table border=\"1\" class=\"dataframe\">\n  <thead>\n    <tr style=\"text-align: right;\">\n      <th></th>\n      <th>LNH3_Conversion_costs</th>\n    </tr>\n    <tr>\n      <th>Years</th>\n      <th></th>\n    </tr>\n  </thead>\n  <tbody>\n    <tr>\n      <th>2025</th>\n      <td>0.239551</td>\n    </tr>\n    <tr>\n      <th>2026</th>\n      <td>0.234888</td>\n    </tr>\n    <tr>\n      <th>2027</th>\n      <td>0.231153</td>\n    </tr>\n    <tr>\n      <th>2028</th>\n      <td>0.227106</td>\n    </tr>\n    <tr>\n      <th>2029</th>\n      <td>0.223217</td>\n    </tr>\n    <tr>\n      <th>2030</th>\n      <td>0.219604</td>\n    </tr>\n    <tr>\n      <th>2031</th>\n      <td>0.213191</td>\n    </tr>\n    <tr>\n      <th>2032</th>\n      <td>0.207665</td>\n    </tr>\n    <tr>\n      <th>2033</th>\n      <td>0.203289</td>\n    </tr>\n    <tr>\n      <th>2034</th>\n      <td>0.198373</td>\n    </tr>\n    <tr>\n      <th>2035</th>\n      <td>0.192123</td>\n    </tr>\n    <tr>\n      <th>2036</th>\n      <td>0.184717</td>\n    </tr>\n    <tr>\n      <th>2037</th>\n      <td>0.178176</td>\n    </tr>\n    <tr>\n      <th>2038</th>\n      <td>0.17269</td>\n    </tr>\n    <tr>\n      <th>2039</th>\n      <td>0.168493</td>\n    </tr>\n    <tr>\n      <th>2040</th>\n      <td>0.16397</td>\n    </tr>\n    <tr>\n      <th>2041</th>\n      <td>0.165939</td>\n    </tr>\n    <tr>\n      <th>2042</th>\n      <td>0.168455</td>\n    </tr>\n    <tr>\n      <th>2043</th>\n      <td>0.171333</td>\n    </tr>\n    <tr>\n      <th>2044</th>\n      <td>0.174354</td>\n    </tr>\n    <tr>\n      <th>2045</th>\n      <td>0.176669</td>\n    </tr>\n    <tr>\n      <th>2046</th>\n      <td>0.177385</td>\n    </tr>\n    <tr>\n      <th>2047</th>\n      <td>0.176184</td>\n    </tr>\n    <tr>\n      <th>2048</th>\n      <td>0.173892</td>\n    </tr>\n    <tr>\n      <th>2049</th>\n      <td>0.172368</td>\n    </tr>\n    <tr>\n      <th>2050</th>\n      <td>0.172484</td>\n    </tr>\n  </tbody>\n</table>\n</div>"
     },
     "execution_count": 29,
     "metadata": {},
     "output_type": "execute_result"
    }
   ],
   "source": [
    "# Calculation of conversion costs [€/kg_h2] from 2030 to 2050.\n",
    "years = np.arange(2025,2051)\n",
    "result = pd.DataFrame(index=years, columns=['LNH3_Conversion_costs'])\n",
    "result.index.name = 'Years'\n",
    "\n",
    "for year in years:\n",
    "\n",
    "    # get capex, opex, natural gas price and CO2 price of specific year\n",
    "    capex_con_y = float(tea_lnh3.loc['Conversion - Capex opt. [€/t/a]'][year])\n",
    "    opex_con_y = capex_con_y * opex_con_share\n",
    "    el_con_y = float(tea_lnh3.loc['Conversion - Electricity consumption opt. [kWh/kgH2]'][year])\n",
    "    #eff_con_y = float(tea_lnh3.loc['Conversion - Efficiency opt. [% of LHV]'][year])\n",
    "    p_el_y = float(p_electricity.loc['Norway'][year])\n",
    "\n",
    "    # calculate costs of specific year\n",
    "    result.LNH3_Conversion_costs.loc[year] = calculate_con_costs()\n",
    "\n",
    "result"
   ],
   "metadata": {
    "collapsed": false,
    "pycharm": {
     "name": "#%%\n"
    }
   }
  },
  {
   "cell_type": "code",
   "execution_count": 33,
   "outputs": [],
   "source": [
    "# export result to excel\n",
    "path = '/Users/jakob/PycharmProjects/H2_pathways_repo/data/raw/H2_supply_route_assessment.xlsx'\n",
    "writer = pd.ExcelWriter(path, engine='openpyxl', mode='a', if_sheet_exists='overlay')\n",
    "book = load_workbook(path)\n",
    "writer.book = book\n",
    "writer.sheets = dict((ws.title, ws) for ws in book.worksheets)\n",
    "\n",
    "ws = book['Reference Results']\n",
    "\n",
    "result.to_excel(writer, sheet_name='Reference Results', index=False, startcol=ws.max_column)\n",
    "book.save(path)\n",
    "book.close()"
   ],
   "metadata": {
    "collapsed": false,
    "pycharm": {
     "name": "#%%\n"
    }
   }
  },
  {
   "cell_type": "code",
   "execution_count": 34,
   "outputs": [],
   "source": [
    "# Create csv file from results dataframe\n",
    "path=r'/Users/jakob/PycharmProjects/H2_pathways_repo/data/processed'\n",
    "output_file = os.path.join(path_csv,'LNH3_Conversion_costs.csv')\n",
    "result.to_csv(output_file, sep = ';')"
   ],
   "metadata": {
    "collapsed": false,
    "pycharm": {
     "name": "#%%\n"
    }
   }
  },
  {
   "cell_type": "markdown",
   "source": [
    "Plot conversion costs"
   ],
   "metadata": {
    "collapsed": false,
    "pycharm": {
     "name": "#%% md\n"
    }
   }
  },
  {
   "cell_type": "code",
   "execution_count": 35,
   "outputs": [
    {
     "data": {
      "text/plain": "<Figure size 720x432 with 1 Axes>",
      "image/png": "[encoded data removed]"
     },
     "metadata": {
      "needs_background": "light"
     },
     "output_type": "display_data"
    }
   ],
   "source": [
    "# Plot cost curve for conversion of H2 to NH3\n",
    "fig, ax = plt.subplots(figsize=(10,6))\n",
    "plt.plot(result, color = 'cyan', linestyle = 'solid')\n",
    "plt.grid(True, axis = 'y')\n",
    "ax.set_axisbelow(True)\n",
    "plt.title('Cost curve for conversion of H2 to NH3 [€/kg]', fontweight = 'bold')\n",
    "plt.legend(['Conversion costs'])\n",
    "plt.xlabel('Year')\n",
    "plt.ylabel('Cost')\n",
    "plt.show()"
   ],
   "metadata": {
    "collapsed": false,
    "pycharm": {
     "name": "#%%\n"
    }
   }
  },
  {
   "cell_type": "markdown",
   "source": [
    "## Export terminal"
   ],
   "metadata": {
    "collapsed": false,
    "pycharm": {
     "name": "#%% md\n"
    }
   }
  },
  {
   "cell_type": "code",
   "execution_count": 41,
   "outputs": [],
   "source": [
    "# Lifetime of import and export terminals\n",
    "l_ter = float(tea_lnh3.loc['Export Terminal - Technical lifetime [Years]']['NH3'])\n",
    "# Amortisation factor for the export terminal\n",
    "alpha_et = (i * (1 + i) ** l_ter) / (((1 + i) ** l_ter) - 1)"
   ],
   "metadata": {
    "collapsed": false,
    "pycharm": {
     "name": "#%%\n"
    }
   }
  },
  {
   "cell_type": "code",
   "execution_count": 42,
   "outputs": [
    {
     "data": {
      "text/plain": "0.005"
     },
     "execution_count": 42,
     "metadata": {},
     "output_type": "execute_result"
    }
   ],
   "source": [
    "# Electricity consumption for the export terminal [kWh/kg_h2]\n",
    "el_et = float(tea_lnh3.loc['Export Terminal - Electricity use [kWh/kgH2]']['NH3'])\n",
    "el_et"
   ],
   "metadata": {
    "collapsed": false,
    "pycharm": {
     "name": "#%%\n"
    }
   }
  },
  {
   "cell_type": "code",
   "execution_count": 43,
   "outputs": [
    {
     "data": {
      "text/plain": "0.0004"
     },
     "execution_count": 43,
     "metadata": {},
     "output_type": "execute_result"
    }
   ],
   "source": [
    "# Boil-off hydrogen in [%/day]\n",
    "bog_et = float(tea_lnh3.loc['Export Terminal - Boil off rate [%/day]']['NH3'])\n",
    "bog_et"
   ],
   "metadata": {
    "collapsed": false,
    "pycharm": {
     "name": "#%%\n"
    }
   }
  },
  {
   "cell_type": "code",
   "execution_count": 44,
   "outputs": [
    {
     "data": {
      "text/plain": "7.0"
     },
     "execution_count": 44,
     "metadata": {},
     "output_type": "execute_result"
    }
   ],
   "source": [
    "# Average storage time in the export terminal tanks in days\n",
    "t_et = float(tea_lnh3.loc['Export Terminal - Storage length per load [Days]']['NH3'])\n",
    "t_et"
   ],
   "metadata": {
    "collapsed": false,
    "pycharm": {
     "name": "#%%\n"
    }
   }
  },
  {
   "cell_type": "code",
   "execution_count": 45,
   "outputs": [
    {
     "data": {
      "text/plain": "5.17"
     },
     "execution_count": 45,
     "metadata": {},
     "output_type": "execute_result"
    }
   ],
   "source": [
    "#Lower heating value of Nh3 [kWh/kg]\n",
    "NH3_lhv =  float(tea_lnh3.loc['Properties - LHV [kWh/kg]']['NH3'])\n",
    "NH3_lhv"
   ],
   "metadata": {
    "collapsed": false,
    "pycharm": {
     "name": "#%%\n"
    }
   }
  },
  {
   "cell_type": "code",
   "execution_count": 46,
   "outputs": [],
   "source": [
    "#Lower heating value of H2 [kWh/kg]\n",
    "H2_lhv = 33.33"
   ],
   "metadata": {
    "collapsed": false,
    "pycharm": {
     "name": "#%%\n"
    }
   }
  },
  {
   "cell_type": "code",
   "execution_count": 47,
   "outputs": [
    {
     "data": {
      "text/plain": "0.0378"
     },
     "execution_count": 47,
     "metadata": {},
     "output_type": "execute_result"
    }
   ],
   "source": [
    "# transformed to kWh/kg h2/day\n",
    "el_reliq = float(tea_lnh3.loc['Export Terminal - Energy use to reliquefy opt. [kWh/kg NH3/day]']['NH3'])\n",
    "el_reliq"
   ],
   "metadata": {
    "collapsed": false,
    "pycharm": {
     "name": "#%%\n"
    }
   }
  },
  {
   "cell_type": "markdown",
   "source": [
    "Calc. export terminal cost"
   ],
   "metadata": {
    "collapsed": false,
    "pycharm": {
     "name": "#%% md\n"
    }
   }
  },
  {
   "cell_type": "markdown",
   "source": [
    "Time relevant variables =\n",
    "capex [€/tpa]\n",
    "opex [€/tpa]\n",
    "el_et electricity use [kwh/kg H2]\n",
    "electricity price [$/MWh]\n",
    "constant =\n",
    "boil off in [%/d]\n",
    "storage time in days\n",
    "Energy use to reliquefy opt. [kWh/kg NH3/day]"
   ],
   "metadata": {
    "collapsed": false,
    "pycharm": {
     "name": "#%% md\n"
    }
   }
  },
  {
   "cell_type": "code",
   "execution_count": 48,
   "outputs": [],
   "source": [
    "# Definition of the cost calculation function for the Export terminal.\n",
    "\n",
    "def calculate_export_terminal_costs():\n",
    "    result = (alpha_et * capex_et_y/1000 + opex_et_y/1000) + (el_et + el_reliq * (NH3_lhv/H2_lhv) * t_et) * p_el_y * 0.89/1000\n",
    "\n",
    "    return result"
   ],
   "metadata": {
    "collapsed": false,
    "pycharm": {
     "name": "#%%\n"
    }
   }
  },
  {
   "cell_type": "code",
   "execution_count": 49,
   "outputs": [],
   "source": [
    "#Calculation of export terminal costs [€/kg_h2] from 2030 to 2050.\n",
    "years = np.arange(2025, 2051)\n",
    "result = pd.DataFrame(index=years, columns=['LNH3_Export_terminal_costs'])\n",
    "result.index.name = 'Years'"
   ],
   "metadata": {
    "collapsed": false,
    "pycharm": {
     "name": "#%%\n"
    }
   }
  },
  {
   "cell_type": "code",
   "execution_count": 50,
   "outputs": [
    {
     "data": {
      "text/plain": "      LNH3_Export_terminal_costs\nYears                           \n2025                    0.074166\n2026                    0.074144\n2027                    0.074132\n2028                    0.074116\n2029                    0.074102\n2030                    0.074091\n2031                    0.074094\n2032                    0.074106\n2033                    0.074132\n2034                    0.074153\n2035                    0.074159\n2036                    0.074151\n2037                    0.074153\n2038                     0.07417\n2039                    0.074205\n2040                    0.074238\n2041                    0.074275\n2042                     0.07432\n2043                     0.07437\n2044                    0.074422\n2045                    0.074464\n2046                    0.074484\n2047                    0.074477\n2048                    0.074455\n2049                    0.074443\n2050                    0.074455",
      "text/html": "<div>\n<style scoped>\n    .dataframe tbody tr th:only-of-type {\n        vertical-align: middle;\n    }\n\n    .dataframe tbody tr th {\n        vertical-align: top;\n    }\n\n    .dataframe thead th {\n        text-align: right;\n    }\n</style>\n<table border=\"1\" class=\"dataframe\">\n  <thead>\n    <tr style=\"text-align: right;\">\n      <th></th>\n      <th>LNH3_Export_terminal_costs</th>\n    </tr>\n    <tr>\n      <th>Years</th>\n      <th></th>\n    </tr>\n  </thead>\n  <tbody>\n    <tr>\n      <th>2025</th>\n      <td>0.074166</td>\n    </tr>\n    <tr>\n      <th>2026</th>\n      <td>0.074144</td>\n    </tr>\n    <tr>\n      <th>2027</th>\n      <td>0.074132</td>\n    </tr>\n    <tr>\n      <th>2028</th>\n      <td>0.074116</td>\n    </tr>\n    <tr>\n      <th>2029</th>\n      <td>0.074102</td>\n    </tr>\n    <tr>\n      <th>2030</th>\n      <td>0.074091</td>\n    </tr>\n    <tr>\n      <th>2031</th>\n      <td>0.074094</td>\n    </tr>\n    <tr>\n      <th>2032</th>\n      <td>0.074106</td>\n    </tr>\n    <tr>\n      <th>2033</th>\n      <td>0.074132</td>\n    </tr>\n    <tr>\n      <th>2034</th>\n      <td>0.074153</td>\n    </tr>\n    <tr>\n      <th>2035</th>\n      <td>0.074159</td>\n    </tr>\n    <tr>\n      <th>2036</th>\n      <td>0.074151</td>\n    </tr>\n    <tr>\n      <th>2037</th>\n      <td>0.074153</td>\n    </tr>\n    <tr>\n      <th>2038</th>\n      <td>0.07417</td>\n    </tr>\n    <tr>\n      <th>2039</th>\n      <td>0.074205</td>\n    </tr>\n    <tr>\n      <th>2040</th>\n      <td>0.074238</td>\n    </tr>\n    <tr>\n      <th>2041</th>\n      <td>0.074275</td>\n    </tr>\n    <tr>\n      <th>2042</th>\n      <td>0.07432</td>\n    </tr>\n    <tr>\n      <th>2043</th>\n      <td>0.07437</td>\n    </tr>\n    <tr>\n      <th>2044</th>\n      <td>0.074422</td>\n    </tr>\n    <tr>\n      <th>2045</th>\n      <td>0.074464</td>\n    </tr>\n    <tr>\n      <th>2046</th>\n      <td>0.074484</td>\n    </tr>\n    <tr>\n      <th>2047</th>\n      <td>0.074477</td>\n    </tr>\n    <tr>\n      <th>2048</th>\n      <td>0.074455</td>\n    </tr>\n    <tr>\n      <th>2049</th>\n      <td>0.074443</td>\n    </tr>\n    <tr>\n      <th>2050</th>\n      <td>0.074455</td>\n    </tr>\n  </tbody>\n</table>\n</div>"
     },
     "execution_count": 50,
     "metadata": {},
     "output_type": "execute_result"
    }
   ],
   "source": [
    "for year in years:\n",
    "    # get capex, opex, xx\n",
    "    capex_et_y = float(tea_lnh3.loc['Export Terminal - CAPEX for storage tanks [€/t/a]'][year])\n",
    "    opex_et_y = float(tea_lnh3.loc['Export Terminal - Annual OPEX [€/t/a]'][year])\n",
    "    p_el_y = float(p_electricity.loc['Norway'][year])\n",
    "\n",
    "\n",
    "    # calculate costs of specific year\n",
    "    result.LNH3_Export_terminal_costs.loc[year] = calculate_export_terminal_costs()\n",
    "\n",
    "result"
   ],
   "metadata": {
    "collapsed": false,
    "pycharm": {
     "name": "#%%\n"
    }
   }
  },
  {
   "cell_type": "code",
   "execution_count": 51,
   "outputs": [],
   "source": [
    "# export result to excel\n",
    "path = '/Users/jakob/PycharmProjects/H2_pathways_repo/data/raw/H2_supply_route_assessment.xlsx'\n",
    "writer = pd.ExcelWriter(path, engine='openpyxl', mode='a', if_sheet_exists='overlay')\n",
    "book = load_workbook(path)\n",
    "writer.book = book\n",
    "writer.sheets = dict((ws.title, ws) for ws in book.worksheets)\n",
    "\n",
    "ws = book['Reference Results']\n",
    "\n",
    "result.to_excel(writer, sheet_name='Reference Results', index=False, startcol=ws.max_column)\n",
    "book.save(path)\n",
    "book.close()"
   ],
   "metadata": {
    "collapsed": false,
    "pycharm": {
     "name": "#%%\n"
    }
   }
  },
  {
   "cell_type": "code",
   "execution_count": 52,
   "outputs": [],
   "source": [
    "# Create csv file from results dataframe\n",
    "path_csv= r'/Users/jakob/PycharmProjects/H2_pathways_repo/data/processed'\n",
    "output_file = os.path.join(path_csv, 'LNH3_Export_terminal_costs.csv')\n",
    "result.to_csv(output_file, sep=';')"
   ],
   "metadata": {
    "collapsed": false,
    "pycharm": {
     "name": "#%%\n"
    }
   }
  },
  {
   "cell_type": "markdown",
   "source": [
    "Plot export terminal costs"
   ],
   "metadata": {
    "collapsed": false,
    "pycharm": {
     "name": "#%% md\n"
    }
   }
  },
  {
   "cell_type": "code",
   "execution_count": 53,
   "outputs": [
    {
     "data": {
      "text/plain": "<Figure size 720x432 with 1 Axes>",
      "image/png": "[encoded data removed]"
     },
     "metadata": {
      "needs_background": "light"
     },
     "output_type": "display_data"
    }
   ],
   "source": [
    "# Plot cost curve for export terminal costs\n",
    "fig, ax = plt.subplots(figsize=(10,6))\n",
    "plt.plot(result, color = 'red', linestyle = 'solid')\n",
    "plt.grid(True, axis = 'y')\n",
    "ax.set_axisbelow(True)\n",
    "plt.plot(result, color='red', linestyle='dashed')\n",
    "plt.title('Export terminal costs over time', fontweight='bold', fontsize='large')\n",
    "plt.legend(['Export terminal costs in €/kg_H2'])\n",
    "plt.xlabel('Year', fontsize='large')\n",
    "plt.ylabel('Cost [€/kg_H2]', fontsize='large')\n",
    "plt.show()"
   ],
   "metadata": {
    "collapsed": false,
    "pycharm": {
     "name": "#%%\n"
    }
   }
  },
  {
   "cell_type": "markdown",
   "source": [
    "## Shipping"
   ],
   "metadata": {
    "collapsed": false,
    "pycharm": {
     "name": "#%% md\n"
    }
   }
  },
  {
   "cell_type": "code",
   "execution_count": 54,
   "outputs": [
    {
     "data": {
      "text/plain": "30.0"
     },
     "execution_count": 54,
     "metadata": {},
     "output_type": "execute_result"
    }
   ],
   "source": [
    "# Technical lifetime of ships in years\n",
    "l_ship = float(tea_lnh3.loc['Shipping - Technical Lifetime [Years]']['NH3'])\n",
    "l_ship"
   ],
   "metadata": {
    "collapsed": false,
    "pycharm": {
     "name": "#%%\n"
    }
   }
  },
  {
   "cell_type": "code",
   "execution_count": 55,
   "outputs": [
    {
     "data": {
      "text/plain": "0.06505143508027657"
     },
     "execution_count": 55,
     "metadata": {},
     "output_type": "execute_result"
    }
   ],
   "source": [
    "# Amortisation factor for shipping\n",
    "alpha_ship = (i * (1 + i) ** l_ship) / (((1 + i) ** l_ship) - 1)\n",
    "alpha_ship\n"
   ],
   "metadata": {
    "collapsed": false,
    "pycharm": {
     "name": "#%%\n"
    }
   }
  },
  {
   "cell_type": "code",
   "execution_count": 56,
   "outputs": [
    {
     "data": {
      "text/plain": "602.403"
     },
     "execution_count": 56,
     "metadata": {},
     "output_type": "execute_result"
    }
   ],
   "source": [
    "# Distance between countries via ship in [km]\n",
    "d_sea = float(tra_d[(tra_d['Origin_Country'] == 'Norway') & (tra_d['Destination_Country'] == 'Germany')]['sea distance (km)'].values)\n",
    "d_sea\n"
   ],
   "metadata": {
    "collapsed": false,
    "pycharm": {
     "name": "#%%\n"
    }
   }
  },
  {
   "cell_type": "code",
   "execution_count": 57,
   "outputs": [
    {
     "data": {
      "text/plain": "30.0"
     },
     "execution_count": 57,
     "metadata": {},
     "output_type": "execute_result"
    }
   ],
   "source": [
    "# Ship speed in [km/h]\n",
    "v_ship = float(tea_lnh3.loc['Shipping - Ship speed [km/h]']['NH3'])\n",
    "v_ship"
   ],
   "metadata": {
    "collapsed": false,
    "pycharm": {
     "name": "#%%\n"
    }
   }
  },
  {
   "cell_type": "code",
   "execution_count": 58,
   "outputs": [
    {
     "data": {
      "text/plain": "48.0"
     },
     "execution_count": 58,
     "metadata": {},
     "output_type": "execute_result"
    }
   ],
   "source": [
    "# Berthing time (time for unloading and loading in a harbour) in [h]\n",
    "h_ship = float(tea_lnh3.loc['Shipping - Berthing time [hours]']['NH3'])\n",
    "h_ship\n"
   ],
   "metadata": {
    "collapsed": false,
    "pycharm": {
     "name": "#%%\n"
    }
   }
  },
  {
   "cell_type": "code",
   "execution_count": 59,
   "outputs": [],
   "source": [
    "#Lower heating value of Nh3[ kWh / kg]\n",
    "NH3_lhv = float(tea_lnh3.loc['Properties - LHV [kWh/kg]']['NH3'])\n",
    "NH3_lhv\n",
    "#Lower heating value of H2 [kWh/kg]\n",
    "H2_lhv = 33.33"
   ],
   "metadata": {
    "collapsed": false,
    "pycharm": {
     "name": "#%%\n"
    }
   }
  },
  {
   "cell_type": "code",
   "execution_count": 60,
   "outputs": [
    {
     "data": {
      "text/plain": "0.0001615786578657866"
     },
     "execution_count": 60,
     "metadata": {},
     "output_type": "execute_result"
    }
   ],
   "source": [
    "# Boil-off when shipping in [%_NH3/day] to [%/hour]\n",
    "bog_ship = float(tea_lnh3.loc['Shipping - Boil off opt. [%/day]']['NH3'])/24 * (NH3_lhv/H2_lhv)\n",
    "bog_ship"
   ],
   "metadata": {
    "collapsed": false,
    "pycharm": {
     "name": "#%%\n"
    }
   }
  },
  {
   "cell_type": "code",
   "execution_count": 61,
   "outputs": [],
   "source": [
    "# Fuel consumption of a ship in [kg_NH3/t_NH3/km]\n",
    "#f_ship = float(tea_lnh3.loc['Shipping - Fuel use [kg NH3/t/km]']['NH3'])/1000 * (NH3_lhv/H2_lhv)\n"
   ],
   "metadata": {
    "collapsed": false,
    "pycharm": {
     "name": "#%%\n"
    }
   }
  },
  {
   "cell_type": "code",
   "execution_count": 62,
   "outputs": [
    {
     "data": {
      "text/plain": "0.025"
     },
     "execution_count": 62,
     "metadata": {},
     "output_type": "execute_result"
    }
   ],
   "source": [
    "opex_ship_share = (tea_lnh3.loc['Shipping - Annual OPEX [% of CAPEX]']['NH3'])\n",
    "opex_ship_share"
   ],
   "metadata": {
    "collapsed": false,
    "pycharm": {
     "name": "#%%\n"
    }
   }
  },
  {
   "cell_type": "markdown",
   "source": [],
   "metadata": {
    "collapsed": false,
    "pycharm": {
     "name": "#%% md\n"
    }
   }
  },
  {
   "cell_type": "code",
   "execution_count": 63,
   "outputs": [],
   "source": [
    "# Cost of transported hydrogen in [$/kg_h2] in year y\n",
    "lcoh_ngr = pd.read_csv(\"/Users/jakob/PycharmProjects/H2_pathways_repo/data/processed/LCOH_NGR.csv\", delimiter=';',\n",
    "                       decimal=',', index_col=0)\n",
    "LNH3_Conversion_costs = pd.read_csv(\n",
    "    \"/Users/jakob/PycharmProjects/H2_pathways_repo/data/processed/LNH3_Conversion_costs.csv\", delimiter=';',\n",
    "    decimal=',', index_col=0)\n",
    "LNH3_Export_terminal_costs = pd.read_csv(\n",
    "    \"/Users/jakob/PycharmProjects/H2_pathways_repo/data/processed/LNH3_Export_terminal_costs.csv\", delimiter=';',\n",
    "    decimal=',', index_col=0)"
   ],
   "metadata": {
    "collapsed": false,
    "pycharm": {
     "name": "#%%\n"
    }
   }
  },
  {
   "cell_type": "code",
   "execution_count": 64,
   "outputs": [],
   "source": [
    "# Cost of transported hydrogen carrier in [€/kg_h2] in year y\n",
    "H2_costs = (lcoh_ngr.loc[::]['LCOH_BLUE']).apply(pd.to_numeric)\n",
    "Con_costs = (LNH3_Conversion_costs.loc[::]['LNH3_Conversion_costs']).apply(pd.to_numeric)\n",
    "ET_costs = (LNH3_Export_terminal_costs.loc[::]['LNH3_Export_terminal_costs']).apply(pd.to_numeric)"
   ],
   "metadata": {
    "collapsed": false,
    "pycharm": {
     "name": "#%%\n"
    }
   }
  },
  {
   "cell_type": "code",
   "execution_count": 65,
   "outputs": [
    {
     "data": {
      "text/plain": "       LNH3_cargo_cost\nYears                 \n2025          2.903538\n2026          2.682479\n2027          2.461005\n2028          2.122874\n2029          2.128515\n2030          2.133083\n2031          2.143801\n2032          2.153993\n2033          2.163922\n2034          2.171877\n2035          2.177050\n2036          2.179619\n2037          2.181626\n2038          2.183263\n2039          2.184766\n2040          2.184499\n2041          2.180715\n2042          2.176631\n2043          2.172058\n2044          2.166772\n2045          2.159911\n2046          2.150062\n2047          2.137449\n2048          2.122908\n2049          2.108325\n2050          2.086568",
      "text/html": "<div>\n<style scoped>\n    .dataframe tbody tr th:only-of-type {\n        vertical-align: middle;\n    }\n\n    .dataframe tbody tr th {\n        vertical-align: top;\n    }\n\n    .dataframe thead th {\n        text-align: right;\n    }\n</style>\n<table border=\"1\" class=\"dataframe\">\n  <thead>\n    <tr style=\"text-align: right;\">\n      <th></th>\n      <th>LNH3_cargo_cost</th>\n    </tr>\n    <tr>\n      <th>Years</th>\n      <th></th>\n    </tr>\n  </thead>\n  <tbody>\n    <tr>\n      <th>2025</th>\n      <td>2.903538</td>\n    </tr>\n    <tr>\n      <th>2026</th>\n      <td>2.682479</td>\n    </tr>\n    <tr>\n      <th>2027</th>\n      <td>2.461005</td>\n    </tr>\n    <tr>\n      <th>2028</th>\n      <td>2.122874</td>\n    </tr>\n    <tr>\n      <th>2029</th>\n      <td>2.128515</td>\n    </tr>\n    <tr>\n      <th>2030</th>\n      <td>2.133083</td>\n    </tr>\n    <tr>\n      <th>2031</th>\n      <td>2.143801</td>\n    </tr>\n    <tr>\n      <th>2032</th>\n      <td>2.153993</td>\n    </tr>\n    <tr>\n      <th>2033</th>\n      <td>2.163922</td>\n    </tr>\n    <tr>\n      <th>2034</th>\n      <td>2.171877</td>\n    </tr>\n    <tr>\n      <th>2035</th>\n      <td>2.177050</td>\n    </tr>\n    <tr>\n      <th>2036</th>\n      <td>2.179619</td>\n    </tr>\n    <tr>\n      <th>2037</th>\n      <td>2.181626</td>\n    </tr>\n    <tr>\n      <th>2038</th>\n      <td>2.183263</td>\n    </tr>\n    <tr>\n      <th>2039</th>\n      <td>2.184766</td>\n    </tr>\n    <tr>\n      <th>2040</th>\n      <td>2.184499</td>\n    </tr>\n    <tr>\n      <th>2041</th>\n      <td>2.180715</td>\n    </tr>\n    <tr>\n      <th>2042</th>\n      <td>2.176631</td>\n    </tr>\n    <tr>\n      <th>2043</th>\n      <td>2.172058</td>\n    </tr>\n    <tr>\n      <th>2044</th>\n      <td>2.166772</td>\n    </tr>\n    <tr>\n      <th>2045</th>\n      <td>2.159911</td>\n    </tr>\n    <tr>\n      <th>2046</th>\n      <td>2.150062</td>\n    </tr>\n    <tr>\n      <th>2047</th>\n      <td>2.137449</td>\n    </tr>\n    <tr>\n      <th>2048</th>\n      <td>2.122908</td>\n    </tr>\n    <tr>\n      <th>2049</th>\n      <td>2.108325</td>\n    </tr>\n    <tr>\n      <th>2050</th>\n      <td>2.086568</td>\n    </tr>\n  </tbody>\n</table>\n</div>"
     },
     "execution_count": 65,
     "metadata": {},
     "output_type": "execute_result"
    }
   ],
   "source": [
    "# €/kg_H2 transported in the form of NH3\n",
    "LNH3_cargo_cost = (H2_costs + Con_costs + ET_costs).to_frame('LNH3_cargo_cost')\n",
    "LNH3_cargo_cost"
   ],
   "metadata": {
    "collapsed": false,
    "pycharm": {
     "name": "#%%\n"
    }
   }
  },
  {
   "cell_type": "markdown",
   "source": [],
   "metadata": {
    "collapsed": false,
    "pycharm": {
     "name": "#%% md\n"
    }
   }
  },
  {
   "cell_type": "code",
   "execution_count": 66,
   "outputs": [],
   "source": [
    "#d_sea = 10000"
   ],
   "metadata": {
    "collapsed": false,
    "pycharm": {
     "name": "#%%\n"
    }
   }
  },
  {
   "cell_type": "markdown",
   "source": [
    "Definition of the cost calculation function for the maritime shipping.\n",
    "Time relevant variables:\n",
    "capex [€/t/a]\n",
    "opex [€/t/a]\n",
    "lcoh in [€/kg_h2]\n",
    "static:\n",
    "alpha [%]\n",
    "d_sea [km]\n",
    "v_ship [km/h]\n",
    "h_ship [h] berthing time\n",
    "bog_ship [%_H2/day]\n",
    "f_ship [kg_H2/kg_NH3/km]] Fuel use\n"
   ],
   "metadata": {
    "collapsed": false,
    "pycharm": {
     "name": "#%% md\n"
    }
   }
  },
  {
   "cell_type": "code",
   "execution_count": 67,
   "outputs": [],
   "source": [
    "def calculate_ship_costs(alpha_ship, capex_ship_y, opex_ship_y, d_sea, v_ship, h_ship, bog_ship, f_ship, LNH3_costs_y):\n",
    "    result = (alpha_ship * capex_ship_y + opex_ship_y)/(8760/(2*(d_sea/v_ship + h_ship)))\\\n",
    "             /(1-(bog_ship * d_sea/v_ship) - (f_ship  * d_sea))\\\n",
    "             + (bog_ship * d_sea/v_ship + f_ship * d_sea) * LNH3_costs_y\n",
    "\n",
    "    return result"
   ],
   "metadata": {
    "collapsed": false,
    "pycharm": {
     "name": "#%%\n"
    }
   }
  },
  {
   "cell_type": "code",
   "execution_count": 68,
   "outputs": [
    {
     "data": {
      "text/plain": "      LNH3_Shipping_costs\nYears                    \n2025             0.014939\n2026             0.013927\n2027             0.012914\n2028             0.011494\n2029             0.011272\n2030             0.011045\n2031              0.01083\n2032             0.010613\n2033             0.010395\n2034              0.01017\n2035             0.009935\n2036             0.009692\n2037             0.009446\n2038             0.009199\n2039             0.008951\n2040             0.008698\n2041             0.008675\n2042              0.00865\n2043             0.008624\n2044             0.008596\n2045             0.008562\n2046             0.008518\n2047             0.008465\n2048             0.008406\n2049             0.008346\n2050             0.008263",
      "text/html": "<div>\n<style scoped>\n    .dataframe tbody tr th:only-of-type {\n        vertical-align: middle;\n    }\n\n    .dataframe tbody tr th {\n        vertical-align: top;\n    }\n\n    .dataframe thead th {\n        text-align: right;\n    }\n</style>\n<table border=\"1\" class=\"dataframe\">\n  <thead>\n    <tr style=\"text-align: right;\">\n      <th></th>\n      <th>LNH3_Shipping_costs</th>\n    </tr>\n    <tr>\n      <th>Years</th>\n      <th></th>\n    </tr>\n  </thead>\n  <tbody>\n    <tr>\n      <th>2025</th>\n      <td>0.014939</td>\n    </tr>\n    <tr>\n      <th>2026</th>\n      <td>0.013927</td>\n    </tr>\n    <tr>\n      <th>2027</th>\n      <td>0.012914</td>\n    </tr>\n    <tr>\n      <th>2028</th>\n      <td>0.011494</td>\n    </tr>\n    <tr>\n      <th>2029</th>\n      <td>0.011272</td>\n    </tr>\n    <tr>\n      <th>2030</th>\n      <td>0.011045</td>\n    </tr>\n    <tr>\n      <th>2031</th>\n      <td>0.01083</td>\n    </tr>\n    <tr>\n      <th>2032</th>\n      <td>0.010613</td>\n    </tr>\n    <tr>\n      <th>2033</th>\n      <td>0.010395</td>\n    </tr>\n    <tr>\n      <th>2034</th>\n      <td>0.01017</td>\n    </tr>\n    <tr>\n      <th>2035</th>\n      <td>0.009935</td>\n    </tr>\n    <tr>\n      <th>2036</th>\n      <td>0.009692</td>\n    </tr>\n    <tr>\n      <th>2037</th>\n      <td>0.009446</td>\n    </tr>\n    <tr>\n      <th>2038</th>\n      <td>0.009199</td>\n    </tr>\n    <tr>\n      <th>2039</th>\n      <td>0.008951</td>\n    </tr>\n    <tr>\n      <th>2040</th>\n      <td>0.008698</td>\n    </tr>\n    <tr>\n      <th>2041</th>\n      <td>0.008675</td>\n    </tr>\n    <tr>\n      <th>2042</th>\n      <td>0.00865</td>\n    </tr>\n    <tr>\n      <th>2043</th>\n      <td>0.008624</td>\n    </tr>\n    <tr>\n      <th>2044</th>\n      <td>0.008596</td>\n    </tr>\n    <tr>\n      <th>2045</th>\n      <td>0.008562</td>\n    </tr>\n    <tr>\n      <th>2046</th>\n      <td>0.008518</td>\n    </tr>\n    <tr>\n      <th>2047</th>\n      <td>0.008465</td>\n    </tr>\n    <tr>\n      <th>2048</th>\n      <td>0.008406</td>\n    </tr>\n    <tr>\n      <th>2049</th>\n      <td>0.008346</td>\n    </tr>\n    <tr>\n      <th>2050</th>\n      <td>0.008263</td>\n    </tr>\n  </tbody>\n</table>\n</div>"
     },
     "execution_count": 68,
     "metadata": {},
     "output_type": "execute_result"
    }
   ],
   "source": [
    "# Calculation of shipping costs [€/kg_h2] from 2030 to 2050.\n",
    "years = np.arange(2025, 2051)\n",
    "result = pd.DataFrame(index=years, columns=['LNH3_Shipping_costs'])\n",
    "result.index.name = 'Years'\n",
    "\n",
    "for year in years:\n",
    "    # get capex, opex, xx\n",
    "    capex_ship_y = float(tea_lnh3.loc['Shipping - Capex/Ship opt. [€/t/a]'][year])/1000\n",
    "    opex_ship_y = capex_ship_y * opex_ship_share\n",
    "    f_ship = float(tea_lnh3.loc['Shipping - Fuel use [kg NH3/t/km]'][year])/1000 * (NH3_lhv/H2_lhv)\n",
    "    LNH3_costs_y = float(LNH3_cargo_cost.loc[year])\n",
    "\n",
    "    # calculate costs of specific year\n",
    "    result.LNH3_Shipping_costs.loc[year] = calculate_ship_costs(alpha_ship=alpha_ship, capex_ship_y=capex_ship_y, opex_ship_y=opex_ship_y, d_sea=d_sea, v_ship=v_ship, h_ship=h_ship, bog_ship=bog_ship, f_ship=f_ship, LNH3_costs_y=LNH3_costs_y)\n",
    "\n",
    "result"
   ],
   "metadata": {
    "collapsed": false,
    "pycharm": {
     "name": "#%%\n"
    }
   }
  },
  {
   "cell_type": "code",
   "execution_count": 69,
   "outputs": [],
   "source": [
    "# export result to excel\n",
    "path = '/Users/jakob/PycharmProjects/H2_pathways_repo/data/raw/H2_supply_route_assessment.xlsx'\n",
    "writer = pd.ExcelWriter(path, engine='openpyxl', mode='a', if_sheet_exists='overlay')\n",
    "book = load_workbook(path)\n",
    "writer.book = book\n",
    "writer.sheets = dict((ws.title, ws) for ws in book.worksheets)\n",
    "\n",
    "ws = book['Reference Results']\n",
    "\n",
    "result.to_excel(writer, sheet_name='Reference Results', index=False, startcol=ws.max_column)\n",
    "book.save(path)\n",
    "book.close()"
   ],
   "metadata": {
    "collapsed": false,
    "pycharm": {
     "name": "#%%\n"
    }
   }
  },
  {
   "cell_type": "code",
   "execution_count": 70,
   "outputs": [],
   "source": [
    "# Create csv file from results dataframe\n",
    "path_csv= r'/Users/jakob/PycharmProjects/H2_pathways_repo/data/processed'\n",
    "output_file = os.path.join(path_csv, 'LNH3_Shipping_costs.csv')\n",
    "result.to_csv(output_file, sep=';')"
   ],
   "metadata": {
    "collapsed": false,
    "pycharm": {
     "name": "#%%\n"
    }
   }
  },
  {
   "cell_type": "markdown",
   "source": [
    "Plot shipping costs"
   ],
   "metadata": {
    "collapsed": false,
    "pycharm": {
     "name": "#%% md\n"
    }
   }
  },
  {
   "cell_type": "code",
   "execution_count": 71,
   "outputs": [
    {
     "data": {
      "text/plain": "<Figure size 720x432 with 1 Axes>",
      "image/png": "[encoded data removed]"
     },
     "metadata": {
      "needs_background": "light"
     },
     "output_type": "display_data"
    }
   ],
   "source": [
    "# Plot cost curve of hydrogen production from NGR with CCS\n",
    "fig, ax = plt.subplots(figsize=(10,6))\n",
    "plt.plot(result, color = 'green', linestyle = 'solid')\n",
    "plt.grid(True, axis = 'y')\n",
    "ax.set_axisbelow(True)\n",
    "plt.title('Shipping costs over time in €/kg H2', fontweight='bold')\n",
    "plt.xlabel('Year')\n",
    "plt.ylabel('Cost')\n",
    "plt.show()"
   ],
   "metadata": {
    "collapsed": false,
    "pycharm": {
     "name": "#%%\n"
    }
   }
  },
  {
   "cell_type": "markdown",
   "source": [
    "## Import terminal"
   ],
   "metadata": {
    "collapsed": false,
    "pycharm": {
     "name": "#%% md\n"
    }
   }
  },
  {
   "cell_type": "code",
   "execution_count": 72,
   "outputs": [],
   "source": [
    "# Definition of variables for the import terminal costs"
   ],
   "metadata": {
    "collapsed": false,
    "pycharm": {
     "name": "#%%\n"
    }
   }
  },
  {
   "cell_type": "code",
   "execution_count": 73,
   "outputs": [],
   "source": [
    "# Amortisation factor for the import terminal\n",
    "alpha_it = alpha_et"
   ],
   "metadata": {
    "collapsed": false,
    "pycharm": {
     "name": "#%%\n"
    }
   }
  },
  {
   "cell_type": "code",
   "execution_count": 74,
   "outputs": [
    {
     "data": {
      "text/plain": "0.02"
     },
     "execution_count": 74,
     "metadata": {},
     "output_type": "execute_result"
    }
   ],
   "source": [
    "# Electricity consumption in kWh/kg H2\n",
    "el_it = float(tea_lnh3.loc['Import Terminal - Electricity use [kWh/kg H2]']['NH3'])\n",
    "el_it"
   ],
   "metadata": {
    "collapsed": false,
    "pycharm": {
     "name": "#%%\n"
    }
   }
  },
  {
   "cell_type": "code",
   "execution_count": 75,
   "outputs": [
    {
     "data": {
      "text/plain": "0.0004"
     },
     "execution_count": 75,
     "metadata": {},
     "output_type": "execute_result"
    }
   ],
   "source": [
    "# Import terminal boil-off in [%/day]\n",
    "bog_it = float(tea_lnh3.loc['Import Terminal - Boil-off [%/day]']['NH3'])\n",
    "bog_it"
   ],
   "metadata": {
    "collapsed": false,
    "pycharm": {
     "name": "#%%\n"
    }
   }
  },
  {
   "cell_type": "code",
   "execution_count": 76,
   "outputs": [
    {
     "data": {
      "text/plain": "7.0"
     },
     "execution_count": 76,
     "metadata": {},
     "output_type": "execute_result"
    }
   ],
   "source": [
    "# Average storage time in the export terminal tanks in days\n",
    "t_it = float(tea_lnh3.loc['Import Terminal - Storage length per load [days]']['NH3'])\n",
    "t_it"
   ],
   "metadata": {
    "collapsed": false,
    "pycharm": {
     "name": "#%%\n"
    }
   }
  },
  {
   "cell_type": "markdown",
   "source": [
    "Time relevant variables =\n",
    "capex [€/tpa]\n",
    "opex [€/tpa]\n",
    "electricity use [kwh/kg H2]\n",
    "electricity price [$/MWh] in Germany\n",
    "lcoh in [€/kg_h2]\n",
    "constant =\n",
    "boil off in [%/d]\n",
    "storage time in [days]\n",
    "\n"
   ],
   "metadata": {
    "collapsed": false,
    "pycharm": {
     "name": "#%% md\n"
    }
   }
  },
  {
   "cell_type": "code",
   "execution_count": 77,
   "outputs": [],
   "source": [
    "years = np.arange(2025, 2051)\n",
    "result = pd.DataFrame(index=years, columns=['LNH3_Import_terminal_costs'])\n",
    "result.index.name = 'Years'\n",
    "\n",
    "def calculate_import_terminal_costs(alpha_it, capex_it_y, opex_it_y, el_it, p_el_y, t_it):\n",
    "    result = (alpha_it * capex_it_y/1000 + opex_it_y/1000) + (el_it + el_reliq * (NH3_lhv/H2_lhv) * t_it) * p_el_y * 0.89/1000\n",
    "    return result"
   ],
   "metadata": {
    "collapsed": false,
    "pycharm": {
     "name": "#%%\n"
    }
   }
  },
  {
   "cell_type": "code",
   "execution_count": 78,
   "outputs": [
    {
     "data": {
      "text/plain": "      LNH3_Import_terminal_costs\nYears                           \n2025                    0.074793\n2026                    0.074764\n2027                    0.074747\n2028                    0.074727\n2029                    0.074708\n2030                    0.074694\n2031                    0.074697\n2032                    0.074713\n2033                    0.074748\n2034                    0.074775\n2035                    0.074783\n2036                    0.074773\n2037                    0.074776\n2038                    0.074798\n2039                    0.074844\n2040                    0.074888\n2041                    0.074937\n2042                    0.074997\n2043                    0.075063\n2044                    0.075132\n2045                    0.075188\n2046                    0.075214\n2047                    0.075205\n2048                    0.075175\n2049                     0.07516\n2050                    0.075175",
      "text/html": "<div>\n<style scoped>\n    .dataframe tbody tr th:only-of-type {\n        vertical-align: middle;\n    }\n\n    .dataframe tbody tr th {\n        vertical-align: top;\n    }\n\n    .dataframe thead th {\n        text-align: right;\n    }\n</style>\n<table border=\"1\" class=\"dataframe\">\n  <thead>\n    <tr style=\"text-align: right;\">\n      <th></th>\n      <th>LNH3_Import_terminal_costs</th>\n    </tr>\n    <tr>\n      <th>Years</th>\n      <th></th>\n    </tr>\n  </thead>\n  <tbody>\n    <tr>\n      <th>2025</th>\n      <td>0.074793</td>\n    </tr>\n    <tr>\n      <th>2026</th>\n      <td>0.074764</td>\n    </tr>\n    <tr>\n      <th>2027</th>\n      <td>0.074747</td>\n    </tr>\n    <tr>\n      <th>2028</th>\n      <td>0.074727</td>\n    </tr>\n    <tr>\n      <th>2029</th>\n      <td>0.074708</td>\n    </tr>\n    <tr>\n      <th>2030</th>\n      <td>0.074694</td>\n    </tr>\n    <tr>\n      <th>2031</th>\n      <td>0.074697</td>\n    </tr>\n    <tr>\n      <th>2032</th>\n      <td>0.074713</td>\n    </tr>\n    <tr>\n      <th>2033</th>\n      <td>0.074748</td>\n    </tr>\n    <tr>\n      <th>2034</th>\n      <td>0.074775</td>\n    </tr>\n    <tr>\n      <th>2035</th>\n      <td>0.074783</td>\n    </tr>\n    <tr>\n      <th>2036</th>\n      <td>0.074773</td>\n    </tr>\n    <tr>\n      <th>2037</th>\n      <td>0.074776</td>\n    </tr>\n    <tr>\n      <th>2038</th>\n      <td>0.074798</td>\n    </tr>\n    <tr>\n      <th>2039</th>\n      <td>0.074844</td>\n    </tr>\n    <tr>\n      <th>2040</th>\n      <td>0.074888</td>\n    </tr>\n    <tr>\n      <th>2041</th>\n      <td>0.074937</td>\n    </tr>\n    <tr>\n      <th>2042</th>\n      <td>0.074997</td>\n    </tr>\n    <tr>\n      <th>2043</th>\n      <td>0.075063</td>\n    </tr>\n    <tr>\n      <th>2044</th>\n      <td>0.075132</td>\n    </tr>\n    <tr>\n      <th>2045</th>\n      <td>0.075188</td>\n    </tr>\n    <tr>\n      <th>2046</th>\n      <td>0.075214</td>\n    </tr>\n    <tr>\n      <th>2047</th>\n      <td>0.075205</td>\n    </tr>\n    <tr>\n      <th>2048</th>\n      <td>0.075175</td>\n    </tr>\n    <tr>\n      <th>2049</th>\n      <td>0.07516</td>\n    </tr>\n    <tr>\n      <th>2050</th>\n      <td>0.075175</td>\n    </tr>\n  </tbody>\n</table>\n</div>"
     },
     "execution_count": 78,
     "metadata": {},
     "output_type": "execute_result"
    }
   ],
   "source": [
    "for year in years:\n",
    "    # get capex, opex, xx\n",
    "    capex_it_y = float(tea_lnh3.loc['Import Terminal - CAPEX for storage tanks [€/t/a]'][year])\n",
    "    opex_it_y = float(tea_lnh3.loc['Import Terminal - Annual OPEX [€/t/a]'][year])\n",
    "    p_el_y = float(p_electricity.loc['Germany'][year])\n",
    "    lcoh_ngr_y = float(lcoh_ngr.loc[year]['LCOH_BLUE'])\n",
    "\n",
    "    # calculate costs of specific year\n",
    "    result.LNH3_Import_terminal_costs.loc[year] = calculate_import_terminal_costs(alpha_it=alpha_it, capex_it_y=capex_it_y,\n",
    "                                                              opex_it_y=opex_it_y, el_it=el_it, p_el_y=p_el_y, t_it=t_it)\n",
    "\n",
    "result"
   ],
   "metadata": {
    "collapsed": false,
    "pycharm": {
     "name": "#%%\n"
    }
   }
  },
  {
   "cell_type": "code",
   "execution_count": 79,
   "outputs": [],
   "source": [
    "# export result to excel\n",
    "path = '/Users/jakob/PycharmProjects/H2_pathways_repo/data/raw/H2_supply_route_assessment.xlsx'\n",
    "writer = pd.ExcelWriter(path, engine='openpyxl', mode='a', if_sheet_exists='overlay')\n",
    "book = load_workbook(path)\n",
    "writer.book = book\n",
    "writer.sheets = dict((ws.title, ws) for ws in book.worksheets)\n",
    "\n",
    "ws = book['Reference Results']\n",
    "\n",
    "result.to_excel(writer, sheet_name='Reference Results', index=False, startcol=ws.max_column)\n",
    "book.save(path)\n",
    "book.close()"
   ],
   "metadata": {
    "collapsed": false,
    "pycharm": {
     "name": "#%%\n"
    }
   }
  },
  {
   "cell_type": "code",
   "execution_count": 80,
   "outputs": [],
   "source": [
    "# Create csv file from results dataframe\n",
    "path_csv= r'/Users/jakob/PycharmProjects/H2_pathways_repo/data/processed'\n",
    "output_file = os.path.join(path_csv, 'LNH3_Import_terminal_costs.csv')\n",
    "result.to_csv(output_file, sep=';')"
   ],
   "metadata": {
    "collapsed": false,
    "pycharm": {
     "name": "#%%\n"
    }
   }
  },
  {
   "cell_type": "markdown",
   "source": [
    "\n",
    "Plot import terminal costs"
   ],
   "metadata": {
    "collapsed": false,
    "pycharm": {
     "name": "#%% md\n"
    }
   }
  },
  {
   "cell_type": "code",
   "execution_count": 81,
   "outputs": [
    {
     "data": {
      "text/plain": "<Figure size 720x432 with 1 Axes>",
      "image/png": "[encoded data removed]"
     },
     "metadata": {
      "needs_background": "light"
     },
     "output_type": "display_data"
    }
   ],
   "source": [
    "fig, ax = plt.subplots(figsize=(10,6))\n",
    "plt.plot(result, color = 'red', linestyle = 'solid')\n",
    "plt.grid(True, axis = 'y')\n",
    "ax.set_axisbelow(True)\n",
    "plt.plot(result, color='red', linestyle='dashed')\n",
    "plt.title('Import terminal costs over time', fontweight='bold', fontsize='large')\n",
    "plt.legend(['Import terminal costs in €/kg_H2'])\n",
    "plt.xlabel('Year', fontsize='large')\n",
    "plt.ylabel('Cost [€/kg_H2]', fontsize='large')\n",
    "plt.show()"
   ],
   "metadata": {
    "collapsed": false,
    "pycharm": {
     "name": "#%%\n"
    }
   }
  },
  {
   "cell_type": "markdown",
   "source": [
    "\n",
    "\n",
    "\n",
    "## Reconversion"
   ],
   "metadata": {
    "collapsed": false,
    "pycharm": {
     "name": "#%% md\n"
    }
   }
  },
  {
   "cell_type": "code",
   "execution_count": 82,
   "outputs": [
    {
     "data": {
      "text/plain": "25.0"
     },
     "execution_count": 82,
     "metadata": {},
     "output_type": "execute_result"
    }
   ],
   "source": [
    "# Economic lifetime for the reconversion plant [years]\n",
    "l_recon = float(tea_lnh3.loc['Reconversion - Lifetime [Years]']['NH3'])\n",
    "l_recon"
   ],
   "metadata": {
    "collapsed": false,
    "pycharm": {
     "name": "#%%\n"
    }
   }
  },
  {
   "cell_type": "code",
   "execution_count": 83,
   "outputs": [
    {
     "data": {
      "text/plain": "0.0709524572992296"
     },
     "execution_count": 83,
     "metadata": {},
     "output_type": "execute_result"
    }
   ],
   "source": [
    "# Amortisation factor alpha for the conversion plant\n",
    "alpha_recon = (i * (1 + i) ** l_recon) / (((1 + i) ** l_recon) - 1)\n",
    "alpha_recon"
   ],
   "metadata": {
    "collapsed": false,
    "pycharm": {
     "name": "#%%\n"
    }
   }
  },
  {
   "cell_type": "code",
   "execution_count": 84,
   "outputs": [
    {
     "data": {
      "text/plain": "46.9570923511"
     },
     "execution_count": 84,
     "metadata": {},
     "output_type": "execute_result"
    }
   ],
   "source": [
    "# Price for electricity in Importing country [$/MWh]\n",
    "p_el_y = float(p_electricity.loc['Germany'][2025])\n",
    "p_el_y"
   ],
   "metadata": {
    "collapsed": false,
    "pycharm": {
     "name": "#%%\n"
    }
   }
  },
  {
   "cell_type": "code",
   "execution_count": 85,
   "outputs": [
    {
     "data": {
      "text/plain": "2.375"
     },
     "execution_count": 85,
     "metadata": {},
     "output_type": "execute_result"
    }
   ],
   "source": [
    "# Electricty consumption for the conversion in [kWh/kg_h2]\n",
    "el_recon = float(tea_lnh3.loc['Reconversion - Electricity consumption opt. [kWh/kg H2]'][2025])\n",
    "el_recon"
   ],
   "metadata": {
    "collapsed": false,
    "pycharm": {
     "name": "#%%\n"
    }
   }
  },
  {
   "cell_type": "code",
   "execution_count": 86,
   "outputs": [],
   "source": [
    "opex_recon_share = float(tea_lnh3.loc['Reconversion - Annual OPEX opt. [% of CAPEX]']['NH3'])"
   ],
   "metadata": {
    "collapsed": false,
    "pycharm": {
     "name": "#%%\n"
    }
   }
  },
  {
   "cell_type": "markdown",
   "source": [
    "Calc. reconversion cost\n",
    "Definition of the cost calculation function for conversion costs.Time relevant variables =\n",
    "capex[€/tpa]\n",
    "opex[€/tpa]\n",
    "electricity use[kwh/kg H2]\n",
    "electricity price[$/ MWh]"
   ],
   "metadata": {
    "collapsed": false,
    "pycharm": {
     "name": "#%% md\n"
    }
   }
  },
  {
   "cell_type": "markdown",
   "source": [
    "Energy demand for heat in cracking is provided locally"
   ],
   "metadata": {
    "collapsed": false,
    "pycharm": {
     "name": "#%% md\n"
    }
   }
  },
  {
   "cell_type": "code",
   "execution_count": 87,
   "outputs": [],
   "source": [
    "def calculate_recon_costs(alpha_recon, capex_recon_y, opex_recon_y, el_recon_y, p_el_y):\n",
    "    result = float((alpha_recon * capex_recon_y / 1000 + opex_recon_y / 1000) + (heat_recon_y + el_recon_y) * p_el_y / 1000 * 0.89)\n",
    "    return result"
   ],
   "metadata": {
    "collapsed": false,
    "pycharm": {
     "name": "#%%\n"
    }
   }
  },
  {
   "cell_type": "code",
   "execution_count": 88,
   "outputs": [
    {
     "data": {
      "text/plain": "      LNH3_Reconversion_costs\nYears                        \n2025                 0.689587\n2026                 0.663738\n2027                 0.641361\n2028                 0.618171\n2029                 0.595743\n2030                 0.574395\n2031                 0.556866\n2032                 0.542021\n2033                 0.530594\n2034                 0.517457\n2035                  0.50028\n2036                 0.479677\n2037                 0.461631\n2038                 0.446623\n2039                 0.435235\n2040                 0.422772\n2041                 0.413821\n2042                 0.405715\n2043                 0.397817\n2044                 0.389478\n2045                 0.378712\n2046                 0.363804\n2047                 0.344617\n2048                 0.323401\n2049                 0.303953\n2050                 0.287541",
      "text/html": "<div>\n<style scoped>\n    .dataframe tbody tr th:only-of-type {\n        vertical-align: middle;\n    }\n\n    .dataframe tbody tr th {\n        vertical-align: top;\n    }\n\n    .dataframe thead th {\n        text-align: right;\n    }\n</style>\n<table border=\"1\" class=\"dataframe\">\n  <thead>\n    <tr style=\"text-align: right;\">\n      <th></th>\n      <th>LNH3_Reconversion_costs</th>\n    </tr>\n    <tr>\n      <th>Years</th>\n      <th></th>\n    </tr>\n  </thead>\n  <tbody>\n    <tr>\n      <th>2025</th>\n      <td>0.689587</td>\n    </tr>\n    <tr>\n      <th>2026</th>\n      <td>0.663738</td>\n    </tr>\n    <tr>\n      <th>2027</th>\n      <td>0.641361</td>\n    </tr>\n    <tr>\n      <th>2028</th>\n      <td>0.618171</td>\n    </tr>\n    <tr>\n      <th>2029</th>\n      <td>0.595743</td>\n    </tr>\n    <tr>\n      <th>2030</th>\n      <td>0.574395</td>\n    </tr>\n    <tr>\n      <th>2031</th>\n      <td>0.556866</td>\n    </tr>\n    <tr>\n      <th>2032</th>\n      <td>0.542021</td>\n    </tr>\n    <tr>\n      <th>2033</th>\n      <td>0.530594</td>\n    </tr>\n    <tr>\n      <th>2034</th>\n      <td>0.517457</td>\n    </tr>\n    <tr>\n      <th>2035</th>\n      <td>0.50028</td>\n    </tr>\n    <tr>\n      <th>2036</th>\n      <td>0.479677</td>\n    </tr>\n    <tr>\n      <th>2037</th>\n      <td>0.461631</td>\n    </tr>\n    <tr>\n      <th>2038</th>\n      <td>0.446623</td>\n    </tr>\n    <tr>\n      <th>2039</th>\n      <td>0.435235</td>\n    </tr>\n    <tr>\n      <th>2040</th>\n      <td>0.422772</td>\n    </tr>\n    <tr>\n      <th>2041</th>\n      <td>0.413821</td>\n    </tr>\n    <tr>\n      <th>2042</th>\n      <td>0.405715</td>\n    </tr>\n    <tr>\n      <th>2043</th>\n      <td>0.397817</td>\n    </tr>\n    <tr>\n      <th>2044</th>\n      <td>0.389478</td>\n    </tr>\n    <tr>\n      <th>2045</th>\n      <td>0.378712</td>\n    </tr>\n    <tr>\n      <th>2046</th>\n      <td>0.363804</td>\n    </tr>\n    <tr>\n      <th>2047</th>\n      <td>0.344617</td>\n    </tr>\n    <tr>\n      <th>2048</th>\n      <td>0.323401</td>\n    </tr>\n    <tr>\n      <th>2049</th>\n      <td>0.303953</td>\n    </tr>\n    <tr>\n      <th>2050</th>\n      <td>0.287541</td>\n    </tr>\n  </tbody>\n</table>\n</div>"
     },
     "execution_count": 88,
     "metadata": {},
     "output_type": "execute_result"
    }
   ],
   "source": [
    "# Calculation of conversion costs [€/kg_h2] from 2030 to 2050.\n",
    "years = np.arange(2025, 2051)\n",
    "result = pd.DataFrame(index=years, columns=['LNH3_Reconversion_costs'])\n",
    "result.index.name = 'Years'\n",
    "\n",
    "for year in years:\n",
    "    # get capex, opex, natural gas price and CO2 price of specific year\n",
    "    capex_recon_y = float(tea_lnh3.loc['Reconversion - Capex opt. [€/t/a]'][year])\n",
    "    opex_recon_y = capex_recon_y * opex_recon_share\n",
    "    el_recon_y = float(tea_lnh3.loc['Reconversion - Electricity consumption opt. [kWh/kg H2]'][year])\n",
    "    heat_recon_y = float(tea_lnh3.loc['Reconversion - Heat consumption opt. [kWh/kg H2]'][year])\n",
    "    p_el_y = float(p_electricity.loc['Germany'][year])\n",
    "\n",
    "    # calculate costs of specific year\n",
    "    result.LNH3_Reconversion_costs.loc[year] = calculate_recon_costs(alpha_recon=alpha_recon, capex_recon_y=capex_recon_y,\n",
    "                                                            opex_recon_y=opex_recon_y, el_recon_y=el_recon_y, p_el_y=p_el_y)\n",
    "result"
   ],
   "metadata": {
    "collapsed": false,
    "pycharm": {
     "name": "#%%\n"
    }
   }
  },
  {
   "cell_type": "code",
   "execution_count": 89,
   "outputs": [],
   "source": [
    "# export result to excel\n",
    "path = '/Users/jakob/PycharmProjects/H2_pathways_repo/data/raw/H2_supply_route_assessment.xlsx'\n",
    "writer = pd.ExcelWriter(path, engine='openpyxl', mode='a', if_sheet_exists='overlay')\n",
    "book = load_workbook(path)\n",
    "writer.book = book\n",
    "writer.sheets = dict((ws.title, ws) for ws in book.worksheets)\n",
    "\n",
    "ws = book['Reference Results']\n",
    "\n",
    "result.to_excel(writer, sheet_name='Reference Results', index=False, startcol=ws.max_column)\n",
    "book.save(path)\n",
    "book.close()"
   ],
   "metadata": {
    "collapsed": false,
    "pycharm": {
     "name": "#%%\n"
    }
   }
  },
  {
   "cell_type": "code",
   "execution_count": 90,
   "outputs": [],
   "source": [
    "# Create csv file from results dataframe\n",
    "path_csv= r'/Users/jakob/PycharmProjects/H2_pathways_repo/data/processed'\n",
    "output_file = os.path.join(path_csv, 'LNH3_Reconversion_costs.csv')\n",
    "result.to_csv(output_file, sep=';')"
   ],
   "metadata": {
    "collapsed": false,
    "pycharm": {
     "name": "#%%\n"
    }
   }
  },
  {
   "cell_type": "markdown",
   "source": [
    "Plot conversion costs"
   ],
   "metadata": {
    "collapsed": false,
    "pycharm": {
     "name": "#%% md\n"
    }
   }
  },
  {
   "cell_type": "code",
   "execution_count": 91,
   "outputs": [
    {
     "data": {
      "text/plain": "<Figure size 720x432 with 1 Axes>",
      "image/png": "[encoded data removed]"
     },
     "metadata": {
      "needs_background": "light"
     },
     "output_type": "display_data"
    }
   ],
   "source": [
    "# Plot cost curve for conversion\n",
    "fig, ax = plt.subplots(figsize=(10, 6))\n",
    "plt.plot(result, color='cyan', linestyle='solid')\n",
    "plt.grid(True, axis='y')\n",
    "ax.set_axisbelow(True)\n",
    "plt.title('Cost curve for Reconversion (Ammonia cracking)', fontweight='bold')\n",
    "plt.legend(['Conversion costs in €/kg_H2'])\n",
    "plt.xlabel('Year')\n",
    "plt.ylabel('Cost [€/kg_H2]')\n",
    "plt.show()"
   ],
   "metadata": {
    "collapsed": false,
    "pycharm": {
     "name": "#%%\n"
    }
   }
  },
  {
   "cell_type": "markdown",
   "source": [
    "# Total costs for NH3 seaborne transport"
   ],
   "metadata": {
    "collapsed": false,
    "pycharm": {
     "name": "#%% md\n"
    }
   }
  },
  {
   "cell_type": "code",
   "execution_count": 92,
   "outputs": [],
   "source": [
    "con_costs = pd.read_csv('/Users/jakob/PycharmProjects/H2_pathways_repo/data/processed/LNH3_Conversion_costs.csv', delimiter=';', decimal=',')\n",
    "et_costs = pd.read_csv('/Users/jakob/PycharmProjects/H2_pathways_repo/data/processed/LNH3_Export_terminal_costs.csv', delimiter=';', decimal=',')\n",
    "ship_costs = pd.read_csv('/Users/jakob/PycharmProjects/H2_pathways_repo/data/processed/LNH3_Shipping_costs.csv', delimiter=';', decimal=',')\n",
    "it_costs = pd.read_csv('/Users/jakob/PycharmProjects/H2_pathways_repo/data/processed/LNH3_Import_terminal_costs.csv', delimiter=';', decimal=',')\n",
    "recon_costs = pd.read_csv('/Users/jakob/PycharmProjects/H2_pathways_repo/data/processed/LNH3_Reconversion_costs.csv', delimiter=';', decimal=',')"
   ],
   "metadata": {
    "collapsed": false,
    "pycharm": {
     "name": "#%%\n"
    }
   }
  },
  {
   "cell_type": "code",
   "execution_count": 93,
   "outputs": [],
   "source": [
    "years = np.arange(2025, 2051)\n",
    "result = pd.DataFrame(index=years, columns=['LNH3_transport_costs'])\n",
    "result.index.name = 'Years'"
   ],
   "metadata": {
    "collapsed": false,
    "pycharm": {
     "name": "#%%\n"
    }
   }
  },
  {
   "cell_type": "code",
   "execution_count": 94,
   "outputs": [],
   "source": [
    "# Calculate total transport costs from conversion costs (LC), export terminal costs (EC), Shipping costs (SC), import terminal costs (IC)\n",
    "def calculate_seaborne_transport_costs(LC,EC,SC,IC,RC):\n",
    "    result = LC + EC + SC + IC + RC\n",
    "\n",
    "    return result"
   ],
   "metadata": {
    "collapsed": false,
    "pycharm": {
     "name": "#%%\n"
    }
   }
  },
  {
   "cell_type": "code",
   "execution_count": 95,
   "outputs": [
    {
     "data": {
      "text/plain": "      LNH3_transport_costs\nYears                     \n2025              1.093036\n2026              1.061461\n2027              1.034307\n2028              1.005614\n2029              0.979042\n2030               0.95383\n2031              0.929677\n2032              0.909118\n2033              0.893157\n2034              0.874929\n2035              0.851281\n2036               0.82301\n2037              0.798183\n2038               0.77748\n2039              0.761729\n2040              0.744565\n2041              0.737647\n2042              0.732136\n2043              0.727207\n2044              0.721981\n2045              0.713595\n2046              0.699405\n2047              0.678947\n2048              0.655328\n2049               0.63427\n2050              0.617917",
      "text/html": "<div>\n<style scoped>\n    .dataframe tbody tr th:only-of-type {\n        vertical-align: middle;\n    }\n\n    .dataframe tbody tr th {\n        vertical-align: top;\n    }\n\n    .dataframe thead th {\n        text-align: right;\n    }\n</style>\n<table border=\"1\" class=\"dataframe\">\n  <thead>\n    <tr style=\"text-align: right;\">\n      <th></th>\n      <th>LNH3_transport_costs</th>\n    </tr>\n    <tr>\n      <th>Years</th>\n      <th></th>\n    </tr>\n  </thead>\n  <tbody>\n    <tr>\n      <th>2025</th>\n      <td>1.093036</td>\n    </tr>\n    <tr>\n      <th>2026</th>\n      <td>1.061461</td>\n    </tr>\n    <tr>\n      <th>2027</th>\n      <td>1.034307</td>\n    </tr>\n    <tr>\n      <th>2028</th>\n      <td>1.005614</td>\n    </tr>\n    <tr>\n      <th>2029</th>\n      <td>0.979042</td>\n    </tr>\n    <tr>\n      <th>2030</th>\n      <td>0.95383</td>\n    </tr>\n    <tr>\n      <th>2031</th>\n      <td>0.929677</td>\n    </tr>\n    <tr>\n      <th>2032</th>\n      <td>0.909118</td>\n    </tr>\n    <tr>\n      <th>2033</th>\n      <td>0.893157</td>\n    </tr>\n    <tr>\n      <th>2034</th>\n      <td>0.874929</td>\n    </tr>\n    <tr>\n      <th>2035</th>\n      <td>0.851281</td>\n    </tr>\n    <tr>\n      <th>2036</th>\n      <td>0.82301</td>\n    </tr>\n    <tr>\n      <th>2037</th>\n      <td>0.798183</td>\n    </tr>\n    <tr>\n      <th>2038</th>\n      <td>0.77748</td>\n    </tr>\n    <tr>\n      <th>2039</th>\n      <td>0.761729</td>\n    </tr>\n    <tr>\n      <th>2040</th>\n      <td>0.744565</td>\n    </tr>\n    <tr>\n      <th>2041</th>\n      <td>0.737647</td>\n    </tr>\n    <tr>\n      <th>2042</th>\n      <td>0.732136</td>\n    </tr>\n    <tr>\n      <th>2043</th>\n      <td>0.727207</td>\n    </tr>\n    <tr>\n      <th>2044</th>\n      <td>0.721981</td>\n    </tr>\n    <tr>\n      <th>2045</th>\n      <td>0.713595</td>\n    </tr>\n    <tr>\n      <th>2046</th>\n      <td>0.699405</td>\n    </tr>\n    <tr>\n      <th>2047</th>\n      <td>0.678947</td>\n    </tr>\n    <tr>\n      <th>2048</th>\n      <td>0.655328</td>\n    </tr>\n    <tr>\n      <th>2049</th>\n      <td>0.63427</td>\n    </tr>\n    <tr>\n      <th>2050</th>\n      <td>0.617917</td>\n    </tr>\n  </tbody>\n</table>\n</div>"
     },
     "execution_count": 95,
     "metadata": {},
     "output_type": "execute_result"
    }
   ],
   "source": [
    "for year in years:\n",
    "    # get all costs\n",
    "    LC = float(con_costs[con_costs.Years == year]['LNH3_Conversion_costs'])\n",
    "    EC = float(et_costs[et_costs.Years == year]['LNH3_Export_terminal_costs'])\n",
    "    SC = float(ship_costs[ship_costs.Years == year]['LNH3_Shipping_costs'])\n",
    "    IC = float(it_costs[it_costs.Years == year]['LNH3_Import_terminal_costs'])\n",
    "    RC = float(recon_costs[recon_costs.Years == year]['LNH3_Reconversion_costs'])\n",
    "\n",
    "    # calculate costs of specific year\n",
    "    result.LNH3_transport_costs.loc[year] = calculate_seaborne_transport_costs(LC=LC,EC=EC, SC=SC, IC=IC, RC=RC)\n",
    "\n",
    "result"
   ],
   "metadata": {
    "collapsed": false,
    "pycharm": {
     "name": "#%%\n"
    }
   }
  },
  {
   "cell_type": "code",
   "execution_count": 96,
   "outputs": [],
   "source": [
    "# export result to excel\n",
    "path = '/Users/jakob/PycharmProjects/H2_pathways_repo/data/raw/H2_supply_route_assessment.xlsx'\n",
    "writer = pd.ExcelWriter(path, engine='openpyxl', mode='a', if_sheet_exists='overlay')\n",
    "book = load_workbook(path)\n",
    "writer.book = book\n",
    "writer.sheets = dict((ws.title, ws) for ws in book.worksheets)\n",
    "\n",
    "ws = book['Reference Results']\n",
    "\n",
    "result.to_excel(writer, sheet_name='Reference Results', index=False, startcol=ws.max_column)\n",
    "book.save(path)\n",
    "book.close()"
   ],
   "metadata": {
    "collapsed": false,
    "pycharm": {
     "name": "#%%\n"
    }
   }
  },
  {
   "cell_type": "code",
   "execution_count": 97,
   "outputs": [],
   "source": [
    "# Create csv file from results dataframe\n",
    "path_csv= r'/Users/jakob/PycharmProjects/H2_pathways_repo/data/processed'\n",
    "output_file = os.path.join(path_csv, 'LNH3_transport_costs.csv')\n",
    "result.to_csv(output_file, sep=';')"
   ],
   "metadata": {
    "collapsed": false,
    "pycharm": {
     "name": "#%%\n"
    }
   }
  },
  {
   "cell_type": "code",
   "execution_count": 98,
   "outputs": [
    {
     "data": {
      "text/plain": "<Figure size 720x432 with 1 Axes>",
      "image/png": "[encoded data removed]"
     },
     "metadata": {
      "needs_background": "light"
     },
     "output_type": "display_data"
    }
   ],
   "source": [
    "# Plot cost curve for LNH3 transport\n",
    "fig, ax = plt.subplots(figsize=(10,6))\n",
    "plt.plot(result, color = 'green', linestyle = 'solid')\n",
    "plt.grid(True, axis = 'y')\n",
    "ax.set_axisbelow(True)\n",
    "plt.title('Cost curve for LNH3 shipping [€/kg H2]', fontweight='bold')\n",
    "plt.xlabel('Year')\n",
    "plt.ylabel('Cost')\n",
    "plt.show()"
   ],
   "metadata": {
    "collapsed": false,
    "pycharm": {
     "name": "#%%\n"
    }
   }
  },
  {
   "cell_type": "code",
   "execution_count": 99,
   "outputs": [
    {
     "data": {
      "text/plain": "<Figure size 720x432 with 1 Axes>",
      "image/png": "[encoded data removed]"
     },
     "metadata": {
      "needs_background": "light"
     },
     "output_type": "display_data"
    }
   ],
   "source": [
    "# Cost breakdown for LH2 shipping\n",
    "fig, ax = plt.subplots(figsize=(10,6))\n",
    "plt.grid(True, axis = 'y')\n",
    "ax.set_axisbelow(True)\n",
    "x = np.arange(2025, 2051, step=5)\n",
    "LC = (con_costs.loc[::5]['LNH3_Conversion_costs']).apply(pd.to_numeric)\n",
    "EC = (et_costs.loc[::5]['LNH3_Export_terminal_costs']).apply(pd.to_numeric)\n",
    "SC = (ship_costs.loc[::5]['LNH3_Shipping_costs']).apply(pd.to_numeric)\n",
    "IC = (it_costs.loc[::5]['LNH3_Import_terminal_costs']).apply(pd.to_numeric)\n",
    "RC = recon_costs.loc[::5]['LNH3_Reconversion_costs'].apply(pd.to_numeric)\n",
    "width = 2       # the width of the bars: can also be len(x) sequence\n",
    "\n",
    "RC_plt = plt.bar(x, RC, width, label='Reconversion costs', bottom= LC + EC + SC + IC)\n",
    "IC_plt = plt.bar(x,IC, width, label='Import terminal costs', bottom= LC + EC + SC)\n",
    "SC_plt = plt.bar(x,SC, width, label='Shipping costs', bottom= LC + EC)\n",
    "EC_plt = plt.bar(x,EC, width, label='Export terminal costs', bottom= LC)\n",
    "LC_plt = plt.bar(x,LC, width, label='Conversion costs')\n",
    "\n",
    "plt.title('Cost breakdown for LNH3 shipping', fontweight='bold')\n",
    "plt.legend(loc='upper right')\n",
    "plt.ylabel('Transport cost [€/kg H2]')\n",
    "plt.xlabel('Years')\n",
    "plt.show()"
   ],
   "metadata": {
    "collapsed": false,
    "pycharm": {
     "name": "#%%\n"
    }
   }
  },
  {
   "cell_type": "markdown",
   "source": [
    "Higher import terminal costs because of longer storage time in tanks: IC = 20 days, EC = 3 days\n"
   ],
   "metadata": {
    "collapsed": false,
    "pycharm": {
     "name": "#%% md\n"
    }
   }
  }
 ],
 "metadata": {
  "kernelspec": {
   "display_name": "Python 3",
   "language": "python",
   "name": "python3"
  },
  "language_info": {
   "codemirror_mode": {
    "name": "ipython",
    "version": 2
   },
   "file_extension": ".py",
   "mimetype": "text/x-python",
   "name": "python",
   "nbconvert_exporter": "python",
   "pygments_lexer": "ipython2",
   "version": "2.7.6"
  }
 },
 "nbformat": 4,
 "nbformat_minor": 0
}
