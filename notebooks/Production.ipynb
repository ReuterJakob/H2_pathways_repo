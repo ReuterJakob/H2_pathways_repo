{
 "cells": [
  {
   "cell_type": "code",
   "execution_count": 2,
   "metadata": {
    "collapsed": true,
    "pycharm": {
     "name": "#%%\n"
    }
   },
   "outputs": [],
   "source": [
    "import numpy as np\n",
    "import pandas as pd\n",
    "from matplotlib import pyplot as plt\n",
    "#import seaborn as sns"
   ]
  },
  {
   "cell_type": "code",
   "execution_count": 3,
   "outputs": [
    {
     "data": {
      "text/plain": "                                    H2_NGR  NGR with CCS  Pyrolysis\n0                         Lifetime (years)        25.000      25.00\n1                        Interest rate (%)         0.080       0.08\n2                      Amortisation factor         0.090       0.09\n3                      OPEX (% of CAPEX/a)         0.030       0.05\n4                           Efficiency (%)         0.690       0.52\n5                         Availability (%)         0.950       0.95\n6          Captured emissions (kgCO2/kgH2)         8.700        NaN\n7            Leaked emissions (kgCO2/kgH2)         1.000        NaN\n8                  Carbon yield (kg/kg H2)         3.000        NaN\n9                        Gas price ($/kWh)         0.262        NaN\n10    CO2 transport and storage cost ($/t)        20.000        NaN\n11  CO2 price for residual emissions ($/t)       150.000        NaN\n12                Solid carbon price ($/t)         0.000        NaN\n13                         LHV (kWh/kg H2)        33.330        NaN",
      "text/html": "<div>\n<style scoped>\n    .dataframe tbody tr th:only-of-type {\n        vertical-align: middle;\n    }\n\n    .dataframe tbody tr th {\n        vertical-align: top;\n    }\n\n    .dataframe thead th {\n        text-align: right;\n    }\n</style>\n<table border=\"1\" class=\"dataframe\">\n  <thead>\n    <tr style=\"text-align: right;\">\n      <th></th>\n      <th>H2_NGR</th>\n      <th>NGR with CCS</th>\n      <th>Pyrolysis</th>\n    </tr>\n  </thead>\n  <tbody>\n    <tr>\n      <th>0</th>\n      <td>Lifetime (years)</td>\n      <td>25.000</td>\n      <td>25.00</td>\n    </tr>\n    <tr>\n      <th>1</th>\n      <td>Interest rate (%)</td>\n      <td>0.080</td>\n      <td>0.08</td>\n    </tr>\n    <tr>\n      <th>2</th>\n      <td>Amortisation factor</td>\n      <td>0.090</td>\n      <td>0.09</td>\n    </tr>\n    <tr>\n      <th>3</th>\n      <td>OPEX (% of CAPEX/a)</td>\n      <td>0.030</td>\n      <td>0.05</td>\n    </tr>\n    <tr>\n      <th>4</th>\n      <td>Efficiency (%)</td>\n      <td>0.690</td>\n      <td>0.52</td>\n    </tr>\n    <tr>\n      <th>5</th>\n      <td>Availability (%)</td>\n      <td>0.950</td>\n      <td>0.95</td>\n    </tr>\n    <tr>\n      <th>6</th>\n      <td>Captured emissions (kgCO2/kgH2)</td>\n      <td>8.700</td>\n      <td>NaN</td>\n    </tr>\n    <tr>\n      <th>7</th>\n      <td>Leaked emissions (kgCO2/kgH2)</td>\n      <td>1.000</td>\n      <td>NaN</td>\n    </tr>\n    <tr>\n      <th>8</th>\n      <td>Carbon yield (kg/kg H2)</td>\n      <td>3.000</td>\n      <td>NaN</td>\n    </tr>\n    <tr>\n      <th>9</th>\n      <td>Gas price ($/kWh)</td>\n      <td>0.262</td>\n      <td>NaN</td>\n    </tr>\n    <tr>\n      <th>10</th>\n      <td>CO2 transport and storage cost ($/t)</td>\n      <td>20.000</td>\n      <td>NaN</td>\n    </tr>\n    <tr>\n      <th>11</th>\n      <td>CO2 price for residual emissions ($/t)</td>\n      <td>150.000</td>\n      <td>NaN</td>\n    </tr>\n    <tr>\n      <th>12</th>\n      <td>Solid carbon price ($/t)</td>\n      <td>0.000</td>\n      <td>NaN</td>\n    </tr>\n    <tr>\n      <th>13</th>\n      <td>LHV (kWh/kg H2)</td>\n      <td>33.330</td>\n      <td>NaN</td>\n    </tr>\n  </tbody>\n</table>\n</div>"
     },
     "execution_count": 3,
     "metadata": {},
     "output_type": "execute_result"
    }
   ],
   "source": [
    "tea_ngr = pd.read_csv(\"/Users/jakob/PycharmProjects/H2_pathways_repo/data/raw/tea_ngr.csv\", sep = ';', decimal=\",\")\n",
    "tea_ngr"
   ],
   "metadata": {
    "collapsed": false,
    "pycharm": {
     "name": "#%%\n"
    }
   }
  },
  {
   "cell_type": "code",
   "execution_count": 4,
   "outputs": [
    {
     "data": {
      "text/plain": "    Years  Capex ($/kW ) NGR with CCS  Opex ($/kW/a) NGR with CCS  \\\n0    2020                        1627                       48.81   \n1    2021                        1600                       48.00   \n2    2022                        1573                       47.19   \n3    2023                        1547                       46.41   \n4    2024                        1520                       45.60   \n5    2025                        1493                       44.79   \n6    2026                        1467                       44.01   \n7    2027                        1440                       43.20   \n8    2028                        1413                       42.39   \n9    2029                        1387                       41.61   \n10   2030                        1360                       40.80   \n11   2031                        1356                       40.68   \n12   2032                        1352                       40.56   \n13   2033                        1348                       40.44   \n14   2034                        1344                       40.32   \n15   2035                        1340                       40.20   \n16   2036                        1336                       40.08   \n17   2037                        1332                       39.96   \n18   2038                        1328                       39.84   \n19   2039                        1324                       39.72   \n20   2040                        1320                       39.60   \n21   2041                        1316                       39.48   \n22   2042                        1312                       39.36   \n23   2043                        1308                       39.24   \n24   2044                        1304                       39.12   \n25   2045                        1300                       39.00   \n26   2046                        1296                       38.88   \n27   2047                        1292                       38.76   \n28   2048                        1288                       38.64   \n29   2049                        1284                       38.52   \n30   2050                        1280                       38.40   \n\n    Capex ($/kW)  Pyrolysis  Opex ($/kW/a) Pyrolysis  \\\n0                       NaN                      NaN   \n1                       NaN                      NaN   \n2                       NaN                      NaN   \n3                       NaN                      NaN   \n4                       NaN                      NaN   \n5                       NaN                      NaN   \n6                       NaN                      NaN   \n7                       NaN                      NaN   \n8                       NaN                      NaN   \n9                       NaN                      NaN   \n10                      NaN                      NaN   \n11                      NaN                      NaN   \n12                      NaN                      NaN   \n13                      NaN                      NaN   \n14                      NaN                      NaN   \n15                    761.0                    38.05   \n16                    735.0                    36.75   \n17                    711.0                    35.55   \n18                    687.0                    34.35   \n19                    664.0                    33.20   \n20                    642.0                    32.10   \n21                    620.0                    31.00   \n22                    600.0                    30.00   \n23                    579.0                    28.95   \n24                    560.0                    28.00   \n25                    541.0                    27.05   \n26                    523.0                    26.15   \n27                    506.0                    25.30   \n28                    489.0                    24.45   \n29                    472.0                    23.60   \n30                    457.0                    22.85   \n\n    Gas prices ($/MWh) in the EU update  Gas prices ($/MWh) in the EU  \\\n0                             24.890000                         24.89   \n1                             25.130000                         25.13   \n2                            160.000000                         25.37   \n3                            150.000000                         25.61   \n4                            110.000000                         25.84   \n5                            114.843334                         26.08   \n6                            119.899922                         26.32   \n7                            125.179152                         26.56   \n8                            130.690829                         26.80   \n9                            136.445187                         27.04   \n10                           142.452910                         27.28   \n11                           148.725156                         26.91   \n12                           155.273571                         26.55   \n13                           162.110314                         26.18   \n14                           169.248081                         25.82   \n15                           176.700127                         25.46   \n16                           184.480288                         25.09   \n17                           192.603012                         24.73   \n18                           201.083382                         24.37   \n19                           209.937146                         24.00   \n20                           219.180743                         23.64   \n21                           228.831339                         23.27   \n22                           238.906854                         22.91   \n23                           249.425996                         22.55   \n24                           260.408300                         22.18   \n25                           271.874158                         21.82   \n26                           283.844861                         21.46   \n27                           296.342638                         21.09   \n28                           309.390696                         20.73   \n29                           323.013264                         20.36   \n30                           337.235638                         20.00   \n\n    CO2 price ($/t_co2) EU ETS  CO2 price ($/t_co2) Advanced economies (IEA)  \\\n0                    35.764486                                            28   \n1                    81.747397                                            36   \n2                    90.290000                                            45   \n3                    99.793135                                            52   \n4                   104.187057                                            60   \n5                   108.774446                                            67   \n6                   113.563818                                            75   \n7                   118.564068                                            81   \n8                   123.784481                                            88   \n9                   129.234750                                            94   \n10                  134.924996                                           100   \n11                  140.865785                                           106   \n12                  147.068149                                           111   \n13                  153.543605                                           116   \n14                  160.304178                                           121   \n15                  167.362420                                           126   \n16                  174.731439                                           130   \n17                  182.424919                                           134   \n18                  190.457144                                           138   \n19                  198.843031                                           141   \n20                  207.598152                                           144   \n21                  216.738762                                           147   \n22                  226.281837                                           150   \n23                  236.245096                                           152   \n24                  246.647041                                           154   \n25                  257.506986                                           156   \n26                  268.845099                                           157   \n27                  280.682432                                           158   \n28                  293.040966                                           159   \n29                  305.943650                                           160   \n30                  319.414444                                           160   \n\n    Unnamed: 9  Unnamed: 10  Unnamed: 11  \n0          NaN        35.00    90.290000  \n1          NaN        80.00          NaN  \n2          NaN        88.36     1.021842  \n3          NaN        97.66          NaN  \n4          NaN       101.96          NaN  \n5          NaN          NaN     1.044030  \n6          NaN          NaN          NaN  \n7          NaN          NaN          NaN  \n8          NaN          NaN          NaN  \n9          NaN          NaN          NaN  \n10         NaN          NaN          NaN  \n11         NaN          NaN          NaN  \n12         NaN          NaN          NaN  \n13         NaN          NaN          NaN  \n14         NaN          NaN          NaN  \n15         NaN          NaN          NaN  \n16         NaN          NaN          NaN  \n17         NaN          NaN          NaN  \n18         NaN          NaN          NaN  \n19         NaN          NaN          NaN  \n20         NaN          NaN          NaN  \n21         NaN          NaN          NaN  \n22         NaN          NaN          NaN  \n23         NaN          NaN          NaN  \n24         NaN          NaN          NaN  \n25         NaN          NaN          NaN  \n26         NaN          NaN          NaN  \n27         NaN          NaN          NaN  \n28         NaN          NaN          NaN  \n29         NaN          NaN          NaN  \n30         NaN          NaN          NaN  ",
      "text/html": "<div>\n<style scoped>\n    .dataframe tbody tr th:only-of-type {\n        vertical-align: middle;\n    }\n\n    .dataframe tbody tr th {\n        vertical-align: top;\n    }\n\n    .dataframe thead th {\n        text-align: right;\n    }\n</style>\n<table border=\"1\" class=\"dataframe\">\n  <thead>\n    <tr style=\"text-align: right;\">\n      <th></th>\n      <th>Years</th>\n      <th>Capex ($/kW ) NGR with CCS</th>\n      <th>Opex ($/kW/a) NGR with CCS</th>\n      <th>Capex ($/kW)  Pyrolysis</th>\n      <th>Opex ($/kW/a) Pyrolysis</th>\n      <th>Gas prices ($/MWh) in the EU update</th>\n      <th>Gas prices ($/MWh) in the EU</th>\n      <th>CO2 price ($/t_co2) EU ETS</th>\n      <th>CO2 price ($/t_co2) Advanced economies (IEA)</th>\n      <th>Unnamed: 9</th>\n      <th>Unnamed: 10</th>\n      <th>Unnamed: 11</th>\n    </tr>\n  </thead>\n  <tbody>\n    <tr>\n      <th>0</th>\n      <td>2020</td>\n      <td>1627</td>\n      <td>48.81</td>\n      <td>NaN</td>\n      <td>NaN</td>\n      <td>24.890000</td>\n      <td>24.89</td>\n      <td>35.764486</td>\n      <td>28</td>\n      <td>NaN</td>\n      <td>35.00</td>\n      <td>90.290000</td>\n    </tr>\n    <tr>\n      <th>1</th>\n      <td>2021</td>\n      <td>1600</td>\n      <td>48.00</td>\n      <td>NaN</td>\n      <td>NaN</td>\n      <td>25.130000</td>\n      <td>25.13</td>\n      <td>81.747397</td>\n      <td>36</td>\n      <td>NaN</td>\n      <td>80.00</td>\n      <td>NaN</td>\n    </tr>\n    <tr>\n      <th>2</th>\n      <td>2022</td>\n      <td>1573</td>\n      <td>47.19</td>\n      <td>NaN</td>\n      <td>NaN</td>\n      <td>160.000000</td>\n      <td>25.37</td>\n      <td>90.290000</td>\n      <td>45</td>\n      <td>NaN</td>\n      <td>88.36</td>\n      <td>1.021842</td>\n    </tr>\n    <tr>\n      <th>3</th>\n      <td>2023</td>\n      <td>1547</td>\n      <td>46.41</td>\n      <td>NaN</td>\n      <td>NaN</td>\n      <td>150.000000</td>\n      <td>25.61</td>\n      <td>99.793135</td>\n      <td>52</td>\n      <td>NaN</td>\n      <td>97.66</td>\n      <td>NaN</td>\n    </tr>\n    <tr>\n      <th>4</th>\n      <td>2024</td>\n      <td>1520</td>\n      <td>45.60</td>\n      <td>NaN</td>\n      <td>NaN</td>\n      <td>110.000000</td>\n      <td>25.84</td>\n      <td>104.187057</td>\n      <td>60</td>\n      <td>NaN</td>\n      <td>101.96</td>\n      <td>NaN</td>\n    </tr>\n    <tr>\n      <th>5</th>\n      <td>2025</td>\n      <td>1493</td>\n      <td>44.79</td>\n      <td>NaN</td>\n      <td>NaN</td>\n      <td>114.843334</td>\n      <td>26.08</td>\n      <td>108.774446</td>\n      <td>67</td>\n      <td>NaN</td>\n      <td>NaN</td>\n      <td>1.044030</td>\n    </tr>\n    <tr>\n      <th>6</th>\n      <td>2026</td>\n      <td>1467</td>\n      <td>44.01</td>\n      <td>NaN</td>\n      <td>NaN</td>\n      <td>119.899922</td>\n      <td>26.32</td>\n      <td>113.563818</td>\n      <td>75</td>\n      <td>NaN</td>\n      <td>NaN</td>\n      <td>NaN</td>\n    </tr>\n    <tr>\n      <th>7</th>\n      <td>2027</td>\n      <td>1440</td>\n      <td>43.20</td>\n      <td>NaN</td>\n      <td>NaN</td>\n      <td>125.179152</td>\n      <td>26.56</td>\n      <td>118.564068</td>\n      <td>81</td>\n      <td>NaN</td>\n      <td>NaN</td>\n      <td>NaN</td>\n    </tr>\n    <tr>\n      <th>8</th>\n      <td>2028</td>\n      <td>1413</td>\n      <td>42.39</td>\n      <td>NaN</td>\n      <td>NaN</td>\n      <td>130.690829</td>\n      <td>26.80</td>\n      <td>123.784481</td>\n      <td>88</td>\n      <td>NaN</td>\n      <td>NaN</td>\n      <td>NaN</td>\n    </tr>\n    <tr>\n      <th>9</th>\n      <td>2029</td>\n      <td>1387</td>\n      <td>41.61</td>\n      <td>NaN</td>\n      <td>NaN</td>\n      <td>136.445187</td>\n      <td>27.04</td>\n      <td>129.234750</td>\n      <td>94</td>\n      <td>NaN</td>\n      <td>NaN</td>\n      <td>NaN</td>\n    </tr>\n    <tr>\n      <th>10</th>\n      <td>2030</td>\n      <td>1360</td>\n      <td>40.80</td>\n      <td>NaN</td>\n      <td>NaN</td>\n      <td>142.452910</td>\n      <td>27.28</td>\n      <td>134.924996</td>\n      <td>100</td>\n      <td>NaN</td>\n      <td>NaN</td>\n      <td>NaN</td>\n    </tr>\n    <tr>\n      <th>11</th>\n      <td>2031</td>\n      <td>1356</td>\n      <td>40.68</td>\n      <td>NaN</td>\n      <td>NaN</td>\n      <td>148.725156</td>\n      <td>26.91</td>\n      <td>140.865785</td>\n      <td>106</td>\n      <td>NaN</td>\n      <td>NaN</td>\n      <td>NaN</td>\n    </tr>\n    <tr>\n      <th>12</th>\n      <td>2032</td>\n      <td>1352</td>\n      <td>40.56</td>\n      <td>NaN</td>\n      <td>NaN</td>\n      <td>155.273571</td>\n      <td>26.55</td>\n      <td>147.068149</td>\n      <td>111</td>\n      <td>NaN</td>\n      <td>NaN</td>\n      <td>NaN</td>\n    </tr>\n    <tr>\n      <th>13</th>\n      <td>2033</td>\n      <td>1348</td>\n      <td>40.44</td>\n      <td>NaN</td>\n      <td>NaN</td>\n      <td>162.110314</td>\n      <td>26.18</td>\n      <td>153.543605</td>\n      <td>116</td>\n      <td>NaN</td>\n      <td>NaN</td>\n      <td>NaN</td>\n    </tr>\n    <tr>\n      <th>14</th>\n      <td>2034</td>\n      <td>1344</td>\n      <td>40.32</td>\n      <td>NaN</td>\n      <td>NaN</td>\n      <td>169.248081</td>\n      <td>25.82</td>\n      <td>160.304178</td>\n      <td>121</td>\n      <td>NaN</td>\n      <td>NaN</td>\n      <td>NaN</td>\n    </tr>\n    <tr>\n      <th>15</th>\n      <td>2035</td>\n      <td>1340</td>\n      <td>40.20</td>\n      <td>761.0</td>\n      <td>38.05</td>\n      <td>176.700127</td>\n      <td>25.46</td>\n      <td>167.362420</td>\n      <td>126</td>\n      <td>NaN</td>\n      <td>NaN</td>\n      <td>NaN</td>\n    </tr>\n    <tr>\n      <th>16</th>\n      <td>2036</td>\n      <td>1336</td>\n      <td>40.08</td>\n      <td>735.0</td>\n      <td>36.75</td>\n      <td>184.480288</td>\n      <td>25.09</td>\n      <td>174.731439</td>\n      <td>130</td>\n      <td>NaN</td>\n      <td>NaN</td>\n      <td>NaN</td>\n    </tr>\n    <tr>\n      <th>17</th>\n      <td>2037</td>\n      <td>1332</td>\n      <td>39.96</td>\n      <td>711.0</td>\n      <td>35.55</td>\n      <td>192.603012</td>\n      <td>24.73</td>\n      <td>182.424919</td>\n      <td>134</td>\n      <td>NaN</td>\n      <td>NaN</td>\n      <td>NaN</td>\n    </tr>\n    <tr>\n      <th>18</th>\n      <td>2038</td>\n      <td>1328</td>\n      <td>39.84</td>\n      <td>687.0</td>\n      <td>34.35</td>\n      <td>201.083382</td>\n      <td>24.37</td>\n      <td>190.457144</td>\n      <td>138</td>\n      <td>NaN</td>\n      <td>NaN</td>\n      <td>NaN</td>\n    </tr>\n    <tr>\n      <th>19</th>\n      <td>2039</td>\n      <td>1324</td>\n      <td>39.72</td>\n      <td>664.0</td>\n      <td>33.20</td>\n      <td>209.937146</td>\n      <td>24.00</td>\n      <td>198.843031</td>\n      <td>141</td>\n      <td>NaN</td>\n      <td>NaN</td>\n      <td>NaN</td>\n    </tr>\n    <tr>\n      <th>20</th>\n      <td>2040</td>\n      <td>1320</td>\n      <td>39.60</td>\n      <td>642.0</td>\n      <td>32.10</td>\n      <td>219.180743</td>\n      <td>23.64</td>\n      <td>207.598152</td>\n      <td>144</td>\n      <td>NaN</td>\n      <td>NaN</td>\n      <td>NaN</td>\n    </tr>\n    <tr>\n      <th>21</th>\n      <td>2041</td>\n      <td>1316</td>\n      <td>39.48</td>\n      <td>620.0</td>\n      <td>31.00</td>\n      <td>228.831339</td>\n      <td>23.27</td>\n      <td>216.738762</td>\n      <td>147</td>\n      <td>NaN</td>\n      <td>NaN</td>\n      <td>NaN</td>\n    </tr>\n    <tr>\n      <th>22</th>\n      <td>2042</td>\n      <td>1312</td>\n      <td>39.36</td>\n      <td>600.0</td>\n      <td>30.00</td>\n      <td>238.906854</td>\n      <td>22.91</td>\n      <td>226.281837</td>\n      <td>150</td>\n      <td>NaN</td>\n      <td>NaN</td>\n      <td>NaN</td>\n    </tr>\n    <tr>\n      <th>23</th>\n      <td>2043</td>\n      <td>1308</td>\n      <td>39.24</td>\n      <td>579.0</td>\n      <td>28.95</td>\n      <td>249.425996</td>\n      <td>22.55</td>\n      <td>236.245096</td>\n      <td>152</td>\n      <td>NaN</td>\n      <td>NaN</td>\n      <td>NaN</td>\n    </tr>\n    <tr>\n      <th>24</th>\n      <td>2044</td>\n      <td>1304</td>\n      <td>39.12</td>\n      <td>560.0</td>\n      <td>28.00</td>\n      <td>260.408300</td>\n      <td>22.18</td>\n      <td>246.647041</td>\n      <td>154</td>\n      <td>NaN</td>\n      <td>NaN</td>\n      <td>NaN</td>\n    </tr>\n    <tr>\n      <th>25</th>\n      <td>2045</td>\n      <td>1300</td>\n      <td>39.00</td>\n      <td>541.0</td>\n      <td>27.05</td>\n      <td>271.874158</td>\n      <td>21.82</td>\n      <td>257.506986</td>\n      <td>156</td>\n      <td>NaN</td>\n      <td>NaN</td>\n      <td>NaN</td>\n    </tr>\n    <tr>\n      <th>26</th>\n      <td>2046</td>\n      <td>1296</td>\n      <td>38.88</td>\n      <td>523.0</td>\n      <td>26.15</td>\n      <td>283.844861</td>\n      <td>21.46</td>\n      <td>268.845099</td>\n      <td>157</td>\n      <td>NaN</td>\n      <td>NaN</td>\n      <td>NaN</td>\n    </tr>\n    <tr>\n      <th>27</th>\n      <td>2047</td>\n      <td>1292</td>\n      <td>38.76</td>\n      <td>506.0</td>\n      <td>25.30</td>\n      <td>296.342638</td>\n      <td>21.09</td>\n      <td>280.682432</td>\n      <td>158</td>\n      <td>NaN</td>\n      <td>NaN</td>\n      <td>NaN</td>\n    </tr>\n    <tr>\n      <th>28</th>\n      <td>2048</td>\n      <td>1288</td>\n      <td>38.64</td>\n      <td>489.0</td>\n      <td>24.45</td>\n      <td>309.390696</td>\n      <td>20.73</td>\n      <td>293.040966</td>\n      <td>159</td>\n      <td>NaN</td>\n      <td>NaN</td>\n      <td>NaN</td>\n    </tr>\n    <tr>\n      <th>29</th>\n      <td>2049</td>\n      <td>1284</td>\n      <td>38.52</td>\n      <td>472.0</td>\n      <td>23.60</td>\n      <td>323.013264</td>\n      <td>20.36</td>\n      <td>305.943650</td>\n      <td>160</td>\n      <td>NaN</td>\n      <td>NaN</td>\n      <td>NaN</td>\n    </tr>\n    <tr>\n      <th>30</th>\n      <td>2050</td>\n      <td>1280</td>\n      <td>38.40</td>\n      <td>457.0</td>\n      <td>22.85</td>\n      <td>337.235638</td>\n      <td>20.00</td>\n      <td>319.414444</td>\n      <td>160</td>\n      <td>NaN</td>\n      <td>NaN</td>\n      <td>NaN</td>\n    </tr>\n  </tbody>\n</table>\n</div>"
     },
     "execution_count": 4,
     "metadata": {},
     "output_type": "execute_result"
    }
   ],
   "source": [
    "ngr_time_inputs = pd.read_csv(\"/Users/jakob/PycharmProjects/H2_pathways_repo/data/raw/ngr_time_inputs.csv\", sep=';', decimal=\",\")\n",
    "ngr_time_inputs"
   ],
   "metadata": {
    "collapsed": false,
    "pycharm": {
     "name": "#%%\n"
    }
   }
  },
  {
   "cell_type": "code",
   "execution_count": 5,
   "outputs": [
    {
     "data": {
      "text/plain": "0.08"
     },
     "execution_count": 5,
     "metadata": {},
     "output_type": "execute_result"
    }
   ],
   "source": [
    "# Interest rate (WACC) in %\n",
    "i_ngr = float(tea_ngr[tea_ngr.H2_NGR == 'Interest rate (%)']['NGR with CCS'].values)\n",
    "i_ngr"
   ],
   "metadata": {
    "collapsed": false,
    "pycharm": {
     "name": "#%%\n"
    }
   }
  },
  {
   "cell_type": "code",
   "execution_count": 6,
   "outputs": [
    {
     "data": {
      "text/plain": "25.0"
     },
     "execution_count": 6,
     "metadata": {},
     "output_type": "execute_result"
    }
   ],
   "source": [
    "# Economic lifetime of the plant in years\n",
    "l_ngr = float(tea_ngr[tea_ngr.H2_NGR == 'Lifetime (years)']['NGR with CCS'].values)\n",
    "l_ngr"
   ],
   "metadata": {
    "collapsed": false,
    "pycharm": {
     "name": "#%%\n"
    }
   }
  },
  {
   "cell_type": "code",
   "execution_count": 7,
   "outputs": [
    {
     "data": {
      "text/plain": "0.08640000000000002"
     },
     "execution_count": 7,
     "metadata": {},
     "output_type": "execute_result"
    }
   ],
   "source": [
    "# Calculate the amortisation factor alpha\n",
    "alpha_ngr = (i_ngr * (1 + i_ngr) ** l_ngr) / (1 + i_ngr) ** (l_ngr - 1)\n",
    "alpha_ngr\n",
    "#round(alpha, 2)"
   ],
   "metadata": {
    "collapsed": false,
    "pycharm": {
     "name": "#%%\n"
    }
   }
  },
  {
   "cell_type": "code",
   "execution_count": 8,
   "outputs": [
    {
     "data": {
      "text/plain": "1627.0"
     },
     "execution_count": 8,
     "metadata": {},
     "output_type": "execute_result"
    }
   ],
   "source": [
    "# Capital expenditures in $/kW in year y\n",
    "capex_y = float(ngr_time_inputs[ngr_time_inputs.Years == 2020]['Capex ($/kW ) NGR with CCS'].values)\n",
    "capex_y\n"
   ],
   "metadata": {
    "collapsed": false,
    "pycharm": {
     "name": "#%%\n"
    }
   }
  },
  {
   "cell_type": "code",
   "execution_count": 9,
   "outputs": [
    {
     "data": {
      "text/plain": "0.03"
     },
     "execution_count": 9,
     "metadata": {},
     "output_type": "execute_result"
    }
   ],
   "source": [
    "# Opex share  in % of Capex per year\n",
    "opex_share = float(tea_ngr[tea_ngr.H2_NGR == 'OPEX (% of CAPEX/a)']['NGR with CCS'].values)\n",
    "opex_share"
   ],
   "metadata": {
    "collapsed": false,
    "pycharm": {
     "name": "#%%\n"
    }
   }
  },
  {
   "cell_type": "code",
   "execution_count": 10,
   "outputs": [
    {
     "data": {
      "text/plain": "48.809999999999995"
     },
     "execution_count": 10,
     "metadata": {},
     "output_type": "execute_result"
    }
   ],
   "source": [
    "# Operational expenditures in $/kW/a in year y\n",
    "opex_y = opex_share * capex_y\n",
    "opex_y"
   ],
   "metadata": {
    "collapsed": false,
    "pycharm": {
     "name": "#%%\n"
    }
   }
  },
  {
   "cell_type": "code",
   "execution_count": 11,
   "outputs": [
    {
     "data": {
      "text/plain": "0.95"
     },
     "execution_count": 11,
     "metadata": {},
     "output_type": "execute_result"
    }
   ],
   "source": [
    "# Capacity factor as the availability of the plant in %\n",
    "CF = float(tea_ngr[tea_ngr.H2_NGR == 'Availability (%)']['NGR with CCS'].values)\n",
    "CF"
   ],
   "metadata": {
    "collapsed": false,
    "pycharm": {
     "name": "#%%\n"
    }
   }
  },
  {
   "cell_type": "code",
   "execution_count": 12,
   "outputs": [],
   "source": [
    "# Natual gas price in year y in $/kWh\n",
    "# maybe make projections on NG price development\n",
    "#P_ng = tea_ngr.at[9,'NGR with CCS']\n",
    "#P_ng = float(tea_ngr[tea_ngr.H2_NGR == 'Availability (%)']['NGR with CCS'].values)\n",
    "P_ng = 0.02"
   ],
   "metadata": {
    "collapsed": false,
    "pycharm": {
     "name": "#%%\n"
    }
   }
  },
  {
   "cell_type": "code",
   "execution_count": 13,
   "outputs": [
    {
     "data": {
      "text/plain": "0.69"
     },
     "execution_count": 13,
     "metadata": {},
     "output_type": "execute_result"
    }
   ],
   "source": [
    "# Plant efficiency in %\n",
    "n = float(tea_ngr[tea_ngr.H2_NGR == 'Efficiency (%)']['NGR with CCS'].values)\n",
    "n"
   ],
   "metadata": {
    "collapsed": false,
    "pycharm": {
     "name": "#%%\n"
    }
   }
  },
  {
   "cell_type": "code",
   "execution_count": 14,
   "outputs": [
    {
     "data": {
      "text/plain": "8.7"
     },
     "execution_count": 14,
     "metadata": {},
     "output_type": "execute_result"
    }
   ],
   "source": [
    "#' Quantity of captured emissions in kg_CO2/kg_H2\n",
    "Q_ce = float(tea_ngr[tea_ngr.H2_NGR == 'Captured emissions (kgCO2/kgH2)']['NGR with CCS'].values)\n",
    "Q_ce"
   ],
   "metadata": {
    "collapsed": false,
    "pycharm": {
     "name": "#%%\n"
    }
   }
  },
  {
   "cell_type": "code",
   "execution_count": 15,
   "outputs": [
    {
     "data": {
      "text/plain": "1.0"
     },
     "execution_count": 15,
     "metadata": {},
     "output_type": "execute_result"
    }
   ],
   "source": [
    "# Quantity of leaked emissions in kg_CO2/kg_H2\n",
    "Q_ue = float(tea_ngr[tea_ngr.H2_NGR == 'Leaked emissions (kgCO2/kgH2)']['NGR with CCS'].values)\n",
    "Q_ue"
   ],
   "metadata": {
    "collapsed": false,
    "pycharm": {
     "name": "#%%\n"
    }
   }
  },
  {
   "cell_type": "code",
   "execution_count": 16,
   "outputs": [
    {
     "data": {
      "text/plain": "20.0"
     },
     "execution_count": 16,
     "metadata": {},
     "output_type": "execute_result"
    }
   ],
   "source": [
    "# P_ccs is the cost for transporting and storing CO2 in $/t_co2\n",
    "P_ccs = float(tea_ngr[tea_ngr.H2_NGR == 'CO2 transport and storage cost ($/t)']['NGR with CCS'].values)\n",
    "P_ccs"
   ],
   "metadata": {
    "collapsed": false,
    "pycharm": {
     "name": "#%%\n"
    }
   }
  },
  {
   "cell_type": "code",
   "execution_count": 17,
   "outputs": [
    {
     "data": {
      "text/plain": "150.0"
     },
     "execution_count": 17,
     "metadata": {},
     "output_type": "execute_result"
    }
   ],
   "source": [
    "# Price for CO2 in year y in $/t_co2\n",
    "P_co2 = float(tea_ngr[tea_ngr.H2_NGR == 'CO2 price for residual emissions ($/t)']['NGR with CCS'].values)\n",
    "P_co2"
   ],
   "metadata": {
    "collapsed": false,
    "pycharm": {
     "name": "#%%\n"
    }
   }
  },
  {
   "cell_type": "code",
   "execution_count": 18,
   "outputs": [
    {
     "data": {
      "text/plain": "33.33"
     },
     "execution_count": 18,
     "metadata": {},
     "output_type": "execute_result"
    }
   ],
   "source": [
    "# LHV of hydrogen is 33.33 kWh/kg\n",
    "LHV_h2 = float(tea_ngr[tea_ngr.H2_NGR == 'LHV (kWh/kg H2)']['NGR with CCS'].values)\n",
    "LHV_h2"
   ],
   "metadata": {
    "collapsed": false,
    "pycharm": {
     "name": "#%%\n"
    }
   }
  },
  {
   "cell_type": "code",
   "execution_count": 19,
   "outputs": [
    {
     "data": {
      "text/plain": "2.048573945707031"
     },
     "execution_count": 19,
     "metadata": {},
     "output_type": "execute_result"
    }
   ],
   "source": [
    "# Calculate LCOH_ngr [$/kg_h2] in year y\n",
    "lcoh_ngr_y = LHV_h2 * ((alpha_ngr * capex_y + opex_y) / (CF * 8760) + P_ng / n) + (Q_ce * P_ccs + Q_ue * P_co2) / 1000\n",
    "lcoh_ngr_y"
   ],
   "metadata": {
    "collapsed": false,
    "pycharm": {
     "name": "#%%\n"
    }
   }
  },
  {
   "cell_type": "code",
   "execution_count": 20,
   "outputs": [
    {
     "name": "stdout",
     "output_type": "stream",
     "text": [
      "The cost of hydrogen production from NG in year 2.05 [$/kg_h2]\n"
     ]
    }
   ],
   "source": [
    "# Print result of LCOH from NGR calc.\n",
    "print('The cost of hydrogen production from NG' + ' in year ' + str(round(lcoh_ngr_y, 2)) + ' [$/kg_h2]')\n"
   ],
   "metadata": {
    "collapsed": false,
    "pycharm": {
     "name": "#%%\n"
    }
   }
  },
  {
   "cell_type": "code",
   "execution_count": 21,
   "outputs": [
    {
     "name": "stdout",
     "output_type": "stream",
     "text": [
      "The cost of hydrogen production from NG in year 2.05 [$/kg_h2]\n"
     ]
    }
   ],
   "source": [
    "# Function that calculates LCOH for hydrogen production from NG\n",
    "#def calculate_lcoh_ngr(alpha, capex_y, opex_y, CF, P_ng, n, Q_ce, P_ccs, Q_ue, P_co2, LHV_h2):\n",
    " #   return (LHV_h2 * ((alpha * capex_y + opex_y) / (CF * 8760) + P_ng / n) + (Q_ce * P_ccs + Q_ue * P_co2) / 1000)\n",
    "\n",
    "#lcoh_ngr_y = calculate_lcoh_ngr(alpha, capex_y, opex_y, CF, P_ng, n, Q_ce, P_ccs, Q_ue, P_co2, LHV_h2)\n",
    "\n",
    "# Print result of LCOH from NGR calc.\n",
    "print('The cost of hydrogen production from NG' + ' in year ' + str(round(lcoh_ngr_y, 2)) + ' [$/kg_h2]')"
   ],
   "metadata": {
    "collapsed": false,
    "pycharm": {
     "name": "#%%\n"
    }
   }
  },
  {
   "cell_type": "code",
   "execution_count": 22,
   "outputs": [],
   "source": [
    "# Definition of the cost calculation function for LCOH from NGR. Time relevant variables = capex, opex, P_ng, P_co2\n",
    "def calculate_lcoh_ngr(alpha, capex_y, opex_y, CF, P_ng, n, Q_ce, P_ccs, Q_ue, P_co2, LHV_h2):\n",
    "\n",
    "    result = float(LHV_h2 * ((alpha * capex_y + opex_y) / (CF * 8760) + P_ng / 1000 * n) + (Q_ce * P_ccs + Q_ue * P_co2) / 1000)\n",
    "\n",
    "    return result"
   ],
   "metadata": {
    "collapsed": false,
    "pycharm": {
     "name": "#%%\n"
    }
   }
  },
  {
   "cell_type": "code",
   "execution_count": 23,
   "outputs": [
    {
     "data": {
      "text/plain": "       LCOH_NGR\nYears          \n2020   1.540664\n2021    1.57958\n2022   4.677235\n2023    4.44464\n2024   3.516539\n2025   3.619925\n2026   3.728883\n2027   3.842707\n2028   3.962096\n2029   4.087762\n2030   4.219029\n2031   4.367352\n2032   4.522289\n2033   4.684129\n2034   4.853177\n2035    5.02975\n2036    5.21418\n2037   5.406813\n2038   5.608009\n2039   5.818147\n2040   6.037619\n2041   6.266836\n2042   6.506228\n2043   6.756243\n2044   7.017347\n2045   7.290031\n2046   7.574803\n2047   7.872196\n2048   8.182765\n2049    8.50709\n2050   8.845778",
      "text/html": "<div>\n<style scoped>\n    .dataframe tbody tr th:only-of-type {\n        vertical-align: middle;\n    }\n\n    .dataframe tbody tr th {\n        vertical-align: top;\n    }\n\n    .dataframe thead th {\n        text-align: right;\n    }\n</style>\n<table border=\"1\" class=\"dataframe\">\n  <thead>\n    <tr style=\"text-align: right;\">\n      <th></th>\n      <th>LCOH_NGR</th>\n    </tr>\n    <tr>\n      <th>Years</th>\n      <th></th>\n    </tr>\n  </thead>\n  <tbody>\n    <tr>\n      <th>2020</th>\n      <td>1.540664</td>\n    </tr>\n    <tr>\n      <th>2021</th>\n      <td>1.57958</td>\n    </tr>\n    <tr>\n      <th>2022</th>\n      <td>4.677235</td>\n    </tr>\n    <tr>\n      <th>2023</th>\n      <td>4.44464</td>\n    </tr>\n    <tr>\n      <th>2024</th>\n      <td>3.516539</td>\n    </tr>\n    <tr>\n      <th>2025</th>\n      <td>3.619925</td>\n    </tr>\n    <tr>\n      <th>2026</th>\n      <td>3.728883</td>\n    </tr>\n    <tr>\n      <th>2027</th>\n      <td>3.842707</td>\n    </tr>\n    <tr>\n      <th>2028</th>\n      <td>3.962096</td>\n    </tr>\n    <tr>\n      <th>2029</th>\n      <td>4.087762</td>\n    </tr>\n    <tr>\n      <th>2030</th>\n      <td>4.219029</td>\n    </tr>\n    <tr>\n      <th>2031</th>\n      <td>4.367352</td>\n    </tr>\n    <tr>\n      <th>2032</th>\n      <td>4.522289</td>\n    </tr>\n    <tr>\n      <th>2033</th>\n      <td>4.684129</td>\n    </tr>\n    <tr>\n      <th>2034</th>\n      <td>4.853177</td>\n    </tr>\n    <tr>\n      <th>2035</th>\n      <td>5.02975</td>\n    </tr>\n    <tr>\n      <th>2036</th>\n      <td>5.21418</td>\n    </tr>\n    <tr>\n      <th>2037</th>\n      <td>5.406813</td>\n    </tr>\n    <tr>\n      <th>2038</th>\n      <td>5.608009</td>\n    </tr>\n    <tr>\n      <th>2039</th>\n      <td>5.818147</td>\n    </tr>\n    <tr>\n      <th>2040</th>\n      <td>6.037619</td>\n    </tr>\n    <tr>\n      <th>2041</th>\n      <td>6.266836</td>\n    </tr>\n    <tr>\n      <th>2042</th>\n      <td>6.506228</td>\n    </tr>\n    <tr>\n      <th>2043</th>\n      <td>6.756243</td>\n    </tr>\n    <tr>\n      <th>2044</th>\n      <td>7.017347</td>\n    </tr>\n    <tr>\n      <th>2045</th>\n      <td>7.290031</td>\n    </tr>\n    <tr>\n      <th>2046</th>\n      <td>7.574803</td>\n    </tr>\n    <tr>\n      <th>2047</th>\n      <td>7.872196</td>\n    </tr>\n    <tr>\n      <th>2048</th>\n      <td>8.182765</td>\n    </tr>\n    <tr>\n      <th>2049</th>\n      <td>8.50709</td>\n    </tr>\n    <tr>\n      <th>2050</th>\n      <td>8.845778</td>\n    </tr>\n  </tbody>\n</table>\n</div>"
     },
     "execution_count": 23,
     "metadata": {},
     "output_type": "execute_result"
    }
   ],
   "source": [
    "# Calculation of LCOH from NGR for every year from 2030 to 2050.\n",
    "years = np.arange(2020,2051)\n",
    "result = pd.DataFrame(index=years, columns=['LCOH_NGR'])\n",
    "result.index.name = 'Years'\n",
    "\n",
    "\n",
    "for year in years:\n",
    "\n",
    "    # get capex, opex, natural gas price and CO2 price of specific year\n",
    "    capex_y = float(ngr_time_inputs[ngr_time_inputs.Years == year]['Capex ($/kW ) NGR with CCS'])\n",
    "    opex_y = float(ngr_time_inputs[ngr_time_inputs.Years == year]['Opex ($/kW/a) NGR with CCS'])\n",
    "    P_ng_y = float(ngr_time_inputs[ngr_time_inputs.Years == year]['Gas prices ($/MWh) in the EU update'])\n",
    "    P_co2_y = float(ngr_time_inputs[ngr_time_inputs.Years == year]['CO2 price ($/t_co2) EU ETS'])\n",
    "\n",
    "    # calculate lcoe of specific year\n",
    "    result.LCOH_NGR.loc[year] = calculate_lcoh_ngr(alpha=alpha_ngr, capex_y=capex_y, opex_y=opex_y, CF=CF, P_ng=P_ng_y,\n",
    "                                              n=n, Q_ce=Q_ce, P_ccs=P_ccs, Q_ue=Q_ue, P_co2=P_co2_y, LHV_h2=LHV_h2)\n",
    "\n",
    "result"
   ],
   "metadata": {
    "collapsed": false,
    "pycharm": {
     "name": "#%%\n"
    }
   }
  },
  {
   "cell_type": "code",
   "execution_count": 24,
   "outputs": [],
   "source": [
    "# Create csv file from results dataframe\n",
    "import os\n",
    "path=r'/Users/jakob/PycharmProjects/H2_pathways_repo/data/processed'\n",
    "output_file = os.path.join(path,'LCOH_NGR.csv')\n",
    "result.to_csv(output_file, sep = ';')"
   ],
   "metadata": {
    "collapsed": false,
    "pycharm": {
     "name": "#%%\n"
    }
   }
  },
  {
   "cell_type": "code",
   "execution_count": 25,
   "outputs": [
    {
     "data": {
      "text/plain": "<Figure size 432x288 with 1 Axes>",
      "image/png": "[encoded data removed]"
     },
     "metadata": {
      "needs_background": "light"
     },
     "output_type": "display_data"
    }
   ],
   "source": [
    "# Plot cost curve of hydrogen production from NGR with CCS\n",
    "plt.plot(result, color = 'cyan', linestyle = 'dashed')\n",
    "plt.title('Cost curve for hydrogen production from NGR with CCS')\n",
    "plt.legend(['LCOH in $/kg_H2'])\n",
    "plt.xlabel('Year')\n",
    "plt.ylabel('Cost [$/kg_H2]')\n",
    "plt.show()"
   ],
   "metadata": {
    "collapsed": false,
    "pycharm": {
     "name": "#%%\n"
    }
   }
  },
  {
   "cell_type": "code",
   "execution_count": 25,
   "outputs": [],
   "source": [],
   "metadata": {
    "collapsed": false,
    "pycharm": {
     "name": "#%%\n"
    }
   }
  },
  {
   "cell_type": "code",
   "execution_count": 25,
   "outputs": [],
   "source": [],
   "metadata": {
    "collapsed": false,
    "pycharm": {
     "name": "#%%\n"
    }
   }
  },
  {
   "cell_type": "code",
   "execution_count": null,
   "outputs": [],
   "source": [],
   "metadata": {
    "collapsed": false,
    "pycharm": {
     "name": "#%%\n"
    }
   }
  }
 ],
 "metadata": {
  "kernelspec": {
   "display_name": "Python 3",
   "language": "python",
   "name": "python3"
  },
  "language_info": {
   "codemirror_mode": {
    "name": "ipython",
    "version": 2
   },
   "file_extension": ".py",
   "mimetype": "text/x-python",
   "name": "python",
   "nbconvert_exporter": "python",
   "pygments_lexer": "ipython2",
   "version": "2.7.6"
  }
 },
 "nbformat": 4,
 "nbformat_minor": 0
}